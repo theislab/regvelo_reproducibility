{
 "cells": [
  {
   "cell_type": "markdown",
   "id": "cd5f3d5c-1b20-4ff7-860e-4288c6e8b457",
   "metadata": {},
   "source": [
    "# veloVI-based analyis of zebrafish data\n",
    "\n",
    "Notebook runs veloVI on zebrafish dataset."
   ]
  },
  {
   "cell_type": "markdown",
   "id": "57f55a0f",
   "metadata": {},
   "source": [
    "## Library imports"
   ]
  },
  {
   "cell_type": "code",
   "execution_count": null,
   "id": "7acaa605-bd34-4935-a7b9-ff66728aaf00",
   "metadata": {
    "tags": []
   },
   "outputs": [],
   "source": [
    "import scanpy as sc\n",
    "import scvi\n",
    "from velovi import VELOVI\n",
    "\n",
    "from rgv_tools import DATA_DIR\n",
    "from rgv_tools.benchmarking import set_output"
   ]
  },
  {
   "cell_type": "markdown",
   "id": "75316fdd",
   "metadata": {},
   "source": [
    "## General settings"
   ]
  },
  {
   "cell_type": "code",
   "execution_count": null,
   "id": "875ae165-5e44-4a9b-988b-dd2115abd3dc",
   "metadata": {},
   "outputs": [],
   "source": [
    "scvi.settings.seed = 0"
   ]
  },
  {
   "cell_type": "markdown",
   "id": "c7de7427-1277-469e-96f4-7c719949e344",
   "metadata": {},
   "source": [
    "## Constants"
   ]
  },
  {
   "cell_type": "code",
   "execution_count": null,
   "id": "b0ee7405-c797-41e7-a3ed-5fc7c8fc8686",
   "metadata": {},
   "outputs": [],
   "source": [
    "DATASET = \"zebrafish\""
   ]
  },
  {
   "cell_type": "code",
   "execution_count": null,
   "id": "a8a16ca5-25ba-4214-8ef3-ff24a4a9e599",
   "metadata": {},
   "outputs": [],
   "source": [
    "SAVE_DATA = True\n",
    "if SAVE_DATA:\n",
    "    (DATA_DIR / DATASET / \"processed\").mkdir(parents=True, exist_ok=True)"
   ]
  },
  {
   "cell_type": "markdown",
   "id": "d07580d3-2232-4af3-bfe7-256595a77927",
   "metadata": {},
   "source": [
    "## Data loading"
   ]
  },
  {
   "cell_type": "code",
   "execution_count": null,
   "id": "8bb97824-6b7a-4adb-84da-6280af6c8006",
   "metadata": {},
   "outputs": [],
   "source": [
    "adata = sc.read_h5ad(DATA_DIR / DATASET / \"processed\" / \"adata_preprocessed.h5ad\")"
   ]
  },
  {
   "cell_type": "markdown",
   "id": "e6ad119e-43a6-44c3-8dff-75b80bb88619",
   "metadata": {},
   "source": [
    "## Velocity pipeline"
   ]
  },
  {
   "cell_type": "code",
   "execution_count": null,
   "id": "7959f5f4-5028-448f-b9de-cb0932830685",
   "metadata": {},
   "outputs": [],
   "source": [
    "VELOVI.setup_anndata(adata, spliced_layer=\"Ms\", unspliced_layer=\"Mu\")\n",
    "vae = VELOVI(adata)\n",
    "vae.train()"
   ]
  },
  {
   "cell_type": "code",
   "execution_count": null,
   "id": "fa9712a5-7e7f-4581-869d-933cca2588dd",
   "metadata": {},
   "outputs": [],
   "source": [
    "set_output(adata, vae, n_samples=30)"
   ]
  },
  {
   "cell_type": "markdown",
   "id": "03a40423-3234-4228-a2e9-888fd6fcd318",
   "metadata": {},
   "source": [
    "## Save dataset"
   ]
  },
  {
   "cell_type": "code",
   "execution_count": null,
   "id": "00390c69-9688-44fa-b269-adc3991add13",
   "metadata": {},
   "outputs": [],
   "source": [
    "if SAVE_DATA:\n",
    "    adata.write_h5ad(DATA_DIR / DATASET / \"processed\" / \"adata_run_velovi.h5ad\")"
   ]
  }
 ],
 "metadata": {
  "kernelspec": {
   "display_name": "Python [conda env:regvelo_test]",
   "language": "python",
   "name": "conda-env-regvelo_test-py"
  },
  "language_info": {
   "codemirror_mode": {
    "name": "ipython",
    "version": 3
   },
   "file_extension": ".py",
   "mimetype": "text/x-python",
   "name": "python",
   "nbconvert_exporter": "python",
   "pygments_lexer": "ipython3",
   "version": "3.10.15"
  }
 },
 "nbformat": 4,
 "nbformat_minor": 5
}
