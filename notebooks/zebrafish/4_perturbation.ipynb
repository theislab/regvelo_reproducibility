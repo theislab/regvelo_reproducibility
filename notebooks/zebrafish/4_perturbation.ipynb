{
 "cells": [
  {
   "cell_type": "markdown",
   "id": "4cf26098-d44f-445b-9868-40b0a770bf2c",
   "metadata": {},
   "source": [
    "# TFs perturbation prediction with RegVelo"
   ]
  },
  {
   "cell_type": "markdown",
   "id": "246402d3",
   "metadata": {},
   "source": [
    "## Library imports"
   ]
  },
  {
   "cell_type": "code",
   "execution_count": null,
   "id": "d856c5f4-88cb-4295-977a-59f3ab2387b3",
   "metadata": {},
   "outputs": [],
   "source": [
    "import shutil\n",
    "\n",
    "import numpy as np\n",
    "import pandas as pd\n",
    "import torch\n",
    "\n",
    "import scanpy as sc\n",
    "import scvi\n",
    "from regvelo import REGVELOVI\n",
    "\n",
    "from rgv_tools import DATA_DIR, FIG_DIR\n",
    "from rgv_tools.perturbation import get_list_name, TFScanning"
   ]
  },
  {
   "cell_type": "markdown",
   "id": "5e0e80a7",
   "metadata": {},
   "source": [
    "## General settings"
   ]
  },
  {
   "cell_type": "code",
   "execution_count": null,
   "id": "d1430962-a796-424b-b998-33cf594ca980",
   "metadata": {},
   "outputs": [],
   "source": [
    "scvi.settings.seed = 0"
   ]
  },
  {
   "cell_type": "markdown",
   "id": "23af6bac-ea28-4392-b517-09c5ce5d0597",
   "metadata": {},
   "source": [
    "## Constants"
   ]
  },
  {
   "cell_type": "code",
   "execution_count": null,
   "id": "e9ca91f3-38df-4b2b-b610-efad4b5a203e",
   "metadata": {},
   "outputs": [],
   "source": [
    "DATASET = \"zebrafish\""
   ]
  },
  {
   "cell_type": "code",
   "execution_count": null,
   "id": "1660d176",
   "metadata": {},
   "outputs": [],
   "source": [
    "SAVE_DATA = True\n",
    "if SAVE_DATA:\n",
    "    (DATA_DIR / DATASET / \"processed\").mkdir(parents=True, exist_ok=True)\n",
    "    (DATA_DIR / DATASET / \"results\").mkdir(parents=True, exist_ok=True)"
   ]
  },
  {
   "cell_type": "code",
   "execution_count": null,
   "id": "bb1715cd-4b4f-4006-a7cf-1b5c267e0318",
   "metadata": {},
   "outputs": [],
   "source": [
    "SAVE_FIGURES = True\n",
    "if SAVE_FIGURES:\n",
    "    (FIG_DIR / DATASET).mkdir(parents=True, exist_ok=True)"
   ]
  },
  {
   "cell_type": "code",
   "execution_count": null,
   "id": "7fd1fd75",
   "metadata": {},
   "outputs": [],
   "source": [
    "TERMINAL_STATES = [\n",
    "    \"mNC_head_mesenchymal\",\n",
    "    \"mNC_arch2\",\n",
    "    \"mNC_hox34\",\n",
    "    \"Pigment\",\n",
    "]"
   ]
  },
  {
   "cell_type": "markdown",
   "id": "1b417ad5-de63-4aea-b213-bec634c640ed",
   "metadata": {},
   "source": [
    "## Data Loading"
   ]
  },
  {
   "cell_type": "code",
   "execution_count": null,
   "id": "6ccc2c40-99b6-4eb5-8c73-11ebb7616ba1",
   "metadata": {},
   "outputs": [],
   "source": [
    "adata = sc.read_h5ad(DATA_DIR / DATASET / \"processed\" / \"adata_preprocessed.h5ad\")"
   ]
  },
  {
   "cell_type": "markdown",
   "id": "37739e2e-3e71-4891-b995-0c0190870b52",
   "metadata": {},
   "source": [
    "## Perturbation screening"
   ]
  },
  {
   "cell_type": "code",
   "execution_count": null,
   "id": "0d86b642-5928-486b-b954-ac9a8def97f8",
   "metadata": {},
   "outputs": [],
   "source": [
    "## prepare skeleton\n",
    "W = adata.uns[\"skeleton\"].copy()\n",
    "W = torch.tensor(np.array(W)).int()\n",
    "\n",
    "## prepare TF\n",
    "TF = adata.var_names[adata.var[\"TF\"]]"
   ]
  },
  {
   "cell_type": "code",
   "execution_count": null,
   "id": "2239d508-252a-4f9c-8b15-1ca5232b4a9d",
   "metadata": {
    "tags": []
   },
   "outputs": [],
   "source": [
    "### repeat run the model to get aggregate performance\n",
    "for nrun in range(3):\n",
    "    print(\"training model...\")\n",
    "    REGVELOVI.setup_anndata(adata, spliced_layer=\"Ms\", unspliced_layer=\"Mu\")\n",
    "    vae = REGVELOVI(adata, W=W.T, regulators=TF, soft_constraint=False)\n",
    "\n",
    "    torch.cuda.empty_cache()\n",
    "    vae.train()\n",
    "\n",
    "    print(\"save model...\")\n",
    "\n",
    "    model_name = \"rgv_model_\" + str(nrun)\n",
    "    coef_name = \"coef_\" + str(nrun)\n",
    "    pval_name = \"pval_\" + str(nrun)\n",
    "\n",
    "    model = DATA_DIR / DATASET / \"processed\" / \"perturb_repeat_runs\" / model_name\n",
    "    coef_save = DATA_DIR / DATASET / \"results\" / coef_name\n",
    "    pval_save = DATA_DIR / DATASET / \"results\" / pval_name\n",
    "\n",
    "    vae.save(model)\n",
    "\n",
    "    print(\"inferring perturbation...\")\n",
    "\n",
    "    # TODO: Add concrete Error to except clause\n",
    "    while True:\n",
    "        try:\n",
    "            perturb_screening = TFScanning(model, adata, 7, \"cell_type\", TERMINAL_STATES, TF, 0)\n",
    "            coef = pd.DataFrame(np.array(perturb_screening[\"coefficient\"]))\n",
    "            coef.index = perturb_screening[\"TF\"]\n",
    "            coef.columns = get_list_name(perturb_screening[\"coefficient\"][0])\n",
    "\n",
    "            pval = pd.DataFrame(np.array(perturb_screening[\"pvalue\"]))\n",
    "            pval.index = perturb_screening[\"TF\"]\n",
    "            pval.columns = get_list_name(perturb_screening[\"pvalue\"][0])\n",
    "\n",
    "            rows_with_nan = coef.isna().any(axis=1)\n",
    "            # Set all values in those rows to NaN\n",
    "            coef.loc[rows_with_nan, :] = np.nan\n",
    "            pval.loc[rows_with_nan, :] = np.nan\n",
    "\n",
    "            coef.to_csv(coef_save)\n",
    "            pval.to_csv(pval_save)\n",
    "\n",
    "            break\n",
    "        except:  # noqa E722\n",
    "            # If an error is raised, increment a and try again, and need to recompute double knock-out reults\n",
    "            print(\"perturbation screening has error, retraining model...\")\n",
    "            shutil.rmtree(model)\n",
    "            REGVELOVI.setup_anndata(adata, spliced_layer=\"Ms\", unspliced_layer=\"Mu\")\n",
    "            vae = REGVELOVI(adata, W=W.T, regulators=TF, soft_constraint=False)\n",
    "            vae.train()\n",
    "            print(\"save model...\")\n",
    "            vae.save(model)"
   ]
  }
 ],
 "metadata": {
  "kernelspec": {
   "display_name": "Python [conda env:regvelo_test]",
   "language": "python",
   "name": "conda-env-regvelo_test-py"
  },
  "language_info": {
   "codemirror_mode": {
    "name": "ipython",
    "version": 3
   },
   "file_extension": ".py",
   "mimetype": "text/x-python",
   "name": "python",
   "nbconvert_exporter": "python",
   "pygments_lexer": "ipython3",
   "version": "3.10.15"
  }
 },
 "nbformat": 4,
 "nbformat_minor": 5
}
