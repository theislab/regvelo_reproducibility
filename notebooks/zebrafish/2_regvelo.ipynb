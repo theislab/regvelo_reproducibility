{
 "cells": [
  {
   "cell_type": "markdown",
   "id": "29593a9e-78e5-4cdc-8556-f9157b29a40b",
   "metadata": {},
   "source": [
    "# RegVelo-based analyis of zebrafish data\n",
    "\n",
    "Notebook runs RegVelo on zebrafish dataset."
   ]
  },
  {
   "cell_type": "markdown",
   "id": "501035ba",
   "metadata": {},
   "source": [
    "## Library imports"
   ]
  },
  {
   "cell_type": "code",
   "execution_count": null,
   "id": "246b2d45-124c-4862-a207-7af4a6374a7b",
   "metadata": {},
   "outputs": [],
   "source": [
    "import numpy as np\n",
    "import pandas as pd\n",
    "import scipy\n",
    "import torch\n",
    "\n",
    "import matplotlib.pyplot as plt\n",
    "import mplscience\n",
    "import seaborn as sns\n",
    "\n",
    "import cellrank as cr\n",
    "import scanpy as sc\n",
    "import scvi\n",
    "from regvelo import REGVELOVI\n",
    "\n",
    "from rgv_tools import DATA_DIR, FIG_DIR\n",
    "from rgv_tools.benchmarking import set_output"
   ]
  },
  {
   "cell_type": "markdown",
   "id": "892fb12e",
   "metadata": {},
   "source": [
    "## General settings"
   ]
  },
  {
   "cell_type": "code",
   "execution_count": null,
   "id": "eb62cc14-1879-488c-9a31-2480cd69e92c",
   "metadata": {},
   "outputs": [],
   "source": [
    "scvi.settings.seed = 0"
   ]
  },
  {
   "cell_type": "markdown",
   "id": "06e9873a-7989-43b1-a329-a2b41b09a571",
   "metadata": {},
   "source": [
    "## Constants"
   ]
  },
  {
   "cell_type": "code",
   "execution_count": null,
   "id": "57748d9f-bf15-4f01-ad74-12d4f98e5419",
   "metadata": {},
   "outputs": [],
   "source": [
    "DATASET = \"zebrafish\""
   ]
  },
  {
   "cell_type": "code",
   "execution_count": null,
   "id": "a7a2f7f9-4e7c-4796-9a24-52c283e09c13",
   "metadata": {},
   "outputs": [],
   "source": [
    "SAVE_DATA = True\n",
    "if SAVE_DATA:\n",
    "    (DATA_DIR / DATASET / \"processed\").mkdir(parents=True, exist_ok=True)"
   ]
  },
  {
   "cell_type": "code",
   "execution_count": null,
   "id": "6e106a30",
   "metadata": {},
   "outputs": [],
   "source": [
    "SAVE_FIGURES = False\n",
    "if SAVE_FIGURES:\n",
    "    (FIG_DIR / DATASET).mkdir(parents=True, exist_ok=True)"
   ]
  },
  {
   "cell_type": "code",
   "execution_count": null,
   "id": "80269158",
   "metadata": {
    "lines_to_next_cell": 2
   },
   "outputs": [],
   "source": [
    "TERMINAL_STATES = [\n",
    "    \"mNC_head_mesenchymal\",\n",
    "    \"mNC_arch2\",\n",
    "    \"mNC_hox34\",\n",
    "    \"Pigment\",\n",
    "]"
   ]
  },
  {
   "cell_type": "markdown",
   "id": "1ed52c53",
   "metadata": {
    "lines_to_next_cell": 2
   },
   "source": [
    "## Function definitions"
   ]
  },
  {
   "cell_type": "code",
   "execution_count": null,
   "id": "dd857e71",
   "metadata": {},
   "outputs": [],
   "source": [
    "def min_max_scaling(data):\n",
    "    \"\"\"Compute min and max values for each feature.\"\"\"\n",
    "    min_vals = np.min(data, axis=0)\n",
    "    max_vals = np.max(data, axis=0)\n",
    "\n",
    "    # Perform min-max scaling\n",
    "    scaled_data = (data - min_vals) / (max_vals - min_vals)\n",
    "\n",
    "    return scaled_data"
   ]
  },
  {
   "cell_type": "markdown",
   "id": "52c2af5c-ae3d-4991-8de6-60f7c54f5f97",
   "metadata": {},
   "source": [
    "## Data loading"
   ]
  },
  {
   "cell_type": "code",
   "execution_count": null,
   "id": "a72fa808-762f-4f9c-94b4-5c638d3ae272",
   "metadata": {},
   "outputs": [],
   "source": [
    "adata = sc.read_h5ad(DATA_DIR / DATASET / \"processed\" / \"adata_preprocessed.h5ad\")"
   ]
  },
  {
   "cell_type": "markdown",
   "id": "4236b5d9-f1b3-4efd-b10e-7497f1200186",
   "metadata": {},
   "source": [
    "## Velocity pipeline"
   ]
  },
  {
   "cell_type": "code",
   "execution_count": null,
   "id": "002f1346-9a47-4659-a357-39f31afa4eab",
   "metadata": {},
   "outputs": [],
   "source": [
    "# Prepare skeleton\n",
    "W = adata.uns[\"skeleton\"].copy()\n",
    "W = torch.tensor(np.array(W)).int()\n",
    "\n",
    "# Prepare TF\n",
    "TF = adata.var_names[adata.var[\"TF\"]]\n",
    "\n",
    "# Prepare model\n",
    "REGVELOVI.setup_anndata(adata, spliced_layer=\"Ms\", unspliced_layer=\"Mu\")\n",
    "vae = REGVELOVI(adata, W=W.T, regulators=TF, soft_constraint=False)"
   ]
  },
  {
   "cell_type": "code",
   "execution_count": null,
   "id": "1f1a1dbf-031c-426b-8e44-2efcbf1f7d08",
   "metadata": {},
   "outputs": [],
   "source": [
    "vae.train()"
   ]
  },
  {
   "cell_type": "code",
   "execution_count": null,
   "id": "d2ea5201-d878-4778-91fd-6a51c2e4c68a",
   "metadata": {},
   "outputs": [],
   "source": [
    "set_output(adata, vae, n_samples=30, batch_size=adata.n_obs)"
   ]
  },
  {
   "cell_type": "markdown",
   "id": "3cd24373",
   "metadata": {},
   "source": [
    "## Latent time analysis"
   ]
  },
  {
   "cell_type": "code",
   "execution_count": null,
   "id": "5eafe8e4",
   "metadata": {},
   "outputs": [],
   "source": [
    "adata.obs[\"latent_time\"] = min_max_scaling(adata.layers[\"fit_t\"].mean(axis=1))"
   ]
  },
  {
   "cell_type": "code",
   "execution_count": null,
   "id": "b661cac3",
   "metadata": {},
   "outputs": [],
   "source": [
    "with mplscience.style_context():\n",
    "    fig, ax = plt.subplots(figsize=(5, 3.5))\n",
    "    sc.pl.umap(adata=adata, color=\"latent_time\", title=\"\", frameon=False, legend_fontsize=14, cmap=\"magma\", ax=ax)\n",
    "\n",
    "    if SAVE_FIGURES:\n",
    "        fig.savefig(FIG_DIR / DATASET / \"latent_time.svg\", format=\"svg\", transparent=True, bbox_inches=\"tight\")"
   ]
  },
  {
   "cell_type": "code",
   "execution_count": null,
   "id": "10a7b458",
   "metadata": {},
   "outputs": [],
   "source": [
    "df = pd.DataFrame({\"stage\": adata.obs[\"stage\"].tolist(), \"latent_time\": adata.obs[\"latent_time\"].tolist()})"
   ]
  },
  {
   "cell_type": "code",
   "execution_count": null,
   "id": "28b8b236",
   "metadata": {},
   "outputs": [],
   "source": [
    "adata.obs[\"stage_num\"] = 0\n",
    "adata.obs[\"stage_num\"][adata.obs[\"stage\"].isin([\"3ss\"])] = 3\n",
    "adata.obs[\"stage_num\"][adata.obs[\"stage\"].isin([\"6-7ss\"])] = 6.5\n",
    "adata.obs[\"stage_num\"][adata.obs[\"stage\"].isin([\"10ss\"])] = 10\n",
    "adata.obs[\"stage_num\"][adata.obs[\"stage\"].isin([\"12-13ss\"])] = 12.5\n",
    "adata.obs[\"stage_num\"][adata.obs[\"stage\"].isin([\"17-18ss\"])] = 17.5\n",
    "adata.obs[\"stage_num\"][adata.obs[\"stage\"].isin([\"21-22ss\"])] = 21.5"
   ]
  },
  {
   "cell_type": "code",
   "execution_count": null,
   "id": "8ca17bdb",
   "metadata": {},
   "outputs": [],
   "source": [
    "scipy.stats.spearmanr(adata.obs[\"stage_num\"].tolist(), adata.obs[\"latent_time\"].tolist())"
   ]
  },
  {
   "cell_type": "code",
   "execution_count": null,
   "id": "7abbb8a0",
   "metadata": {},
   "outputs": [],
   "source": [
    "loc = [0, 1, 2, 3, 4, 5]\n",
    "label = [\"3\", \"6-7\", \"10\", \"12-13\", \"17-18\", \"21-22\"]\n",
    "\n",
    "with mplscience.style_context():\n",
    "    sns.set_style(style=\"whitegrid\")\n",
    "    fig, ax = plt.subplots(figsize=(6, 4))\n",
    "    order = [\"3ss\", \"6-7ss\", \"10ss\", \"12-13ss\", \"17-18ss\", \"21-22ss\"]\n",
    "    flierprops = {\"marker\": \"D\", \"markerfacecolor\": \"black\", \"markersize\": 3, \"linestyle\": \"none\"}\n",
    "    sns.boxplot(data=df, x=\"stage\", y=\"latent_time\", order=order, color=\"grey\", ax=ax, flierprops=flierprops)\n",
    "    # Set labels and title\n",
    "    plt.ylabel(\"Stage\", fontsize=16)\n",
    "    plt.xlabel(\"Estimated latent time\", fontsize=16)\n",
    "\n",
    "    plt.xticks(ticks=loc, labels=label)  # Replace ticks with new labels\n",
    "    plt.xticks(fontsize=16)\n",
    "    plt.yticks(fontsize=16)\n",
    "\n",
    "    plt.show()\n",
    "\n",
    "    if SAVE_FIGURES:\n",
    "        fig.savefig(FIG_DIR / DATASET / \"latent_time_boxplot.svg\", format=\"svg\", transparent=True, bbox_inches=\"tight\")\n",
    "    plt.show()"
   ]
  },
  {
   "cell_type": "markdown",
   "id": "71f150bf",
   "metadata": {},
   "source": [
    "## CellRank pipeline"
   ]
  },
  {
   "cell_type": "code",
   "execution_count": null,
   "id": "dc20aec1",
   "metadata": {},
   "outputs": [],
   "source": [
    "vk = cr.kernels.VelocityKernel(adata)\n",
    "vk.compute_transition_matrix()\n",
    "ck = cr.kernels.ConnectivityKernel(adata).compute_transition_matrix()\n",
    "\n",
    "kernel = 0.8 * vk + 0.2 * ck"
   ]
  },
  {
   "cell_type": "code",
   "execution_count": null,
   "id": "818d18da",
   "metadata": {},
   "outputs": [],
   "source": [
    "estimator = cr.estimators.GPCCA(kernel)\n",
    "estimator.compute_macrostates(n_states=8, n_cells=30, cluster_key=\"cell_type\")\n",
    "estimator.set_terminal_states(TERMINAL_STATES)"
   ]
  },
  {
   "cell_type": "code",
   "execution_count": null,
   "id": "6ac3b6b3",
   "metadata": {},
   "outputs": [],
   "source": [
    "estimator.plot_macrostates(which=\"terminal\", basis=\"umap\", legend_loc=\"right\", s=100)"
   ]
  },
  {
   "cell_type": "markdown",
   "id": "752fd8dc",
   "metadata": {},
   "source": [
    "## Data saving"
   ]
  },
  {
   "cell_type": "code",
   "execution_count": null,
   "id": "1b02a619-cc04-47c6-8246-5d3e9cc2b8a4",
   "metadata": {},
   "outputs": [],
   "source": [
    "if SAVE_DATA:\n",
    "    adata.write_h5ad(DATA_DIR / DATASET / \"processed\" / \"adata_run_regvelo.h5ad\")\n",
    "    vae.save(DATA_DIR / DATASET / \"processed\" / \"rgv_model\")"
   ]
  }
 ],
 "metadata": {
  "kernelspec": {
   "display_name": "Python [conda env:regvelo_test]",
   "language": "python",
   "name": "conda-env-regvelo_test-py"
  },
  "language_info": {
   "codemirror_mode": {
    "name": "ipython",
    "version": 3
   },
   "file_extension": ".py",
   "mimetype": "text/x-python",
   "name": "python",
   "nbconvert_exporter": "python",
   "pygments_lexer": "ipython3",
   "version": "3.10.15"
  }
 },
 "nbformat": 4,
 "nbformat_minor": 5
}
