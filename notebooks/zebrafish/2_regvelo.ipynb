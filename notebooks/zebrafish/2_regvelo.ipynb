{
 "cells": [
  {
   "cell_type": "markdown",
   "id": "29593a9e-78e5-4cdc-8556-f9157b29a40b",
   "metadata": {},
   "source": [
    "# RegVelo-based analyis of zebrafish data\n",
    "\n",
    "Notebook runs RegVelo on zebrafish dataset."
   ]
  },
  {
   "cell_type": "markdown",
   "id": "501035ba",
   "metadata": {},
   "source": [
    "## Library imports"
   ]
  },
  {
   "cell_type": "code",
   "execution_count": null,
   "id": "246b2d45-124c-4862-a207-7af4a6374a7b",
   "metadata": {},
   "outputs": [],
   "source": [
    "import numpy as np\n",
    "import torch\n",
    "\n",
    "import scanpy as sc\n",
    "import scvi\n",
    "from regvelo import REGVELOVI\n",
    "\n",
    "from rgv_tools import DATA_DIR\n",
    "from rgv_tools.benchmarking import set_output"
   ]
  },
  {
   "cell_type": "markdown",
   "id": "892fb12e",
   "metadata": {},
   "source": [
    "## General settings"
   ]
  },
  {
   "cell_type": "code",
   "execution_count": null,
   "id": "eb62cc14-1879-488c-9a31-2480cd69e92c",
   "metadata": {},
   "outputs": [],
   "source": [
    "scvi.settings.seed = 0"
   ]
  },
  {
   "cell_type": "markdown",
   "id": "06e9873a-7989-43b1-a329-a2b41b09a571",
   "metadata": {},
   "source": [
    "## Constants"
   ]
  },
  {
   "cell_type": "code",
   "execution_count": null,
   "id": "57748d9f-bf15-4f01-ad74-12d4f98e5419",
   "metadata": {},
   "outputs": [],
   "source": [
    "DATASET = \"zebrafish\""
   ]
  },
  {
   "cell_type": "code",
   "execution_count": null,
   "id": "a7a2f7f9-4e7c-4796-9a24-52c283e09c13",
   "metadata": {},
   "outputs": [],
   "source": [
    "SAVE_DATA = True\n",
    "if SAVE_DATA:\n",
    "    (DATA_DIR / DATASET / \"processed\").mkdir(parents=True, exist_ok=True)"
   ]
  },
  {
   "cell_type": "markdown",
   "id": "52c2af5c-ae3d-4991-8de6-60f7c54f5f97",
   "metadata": {},
   "source": [
    "## Data loading"
   ]
  },
  {
   "cell_type": "code",
   "execution_count": null,
   "id": "a72fa808-762f-4f9c-94b4-5c638d3ae272",
   "metadata": {},
   "outputs": [],
   "source": [
    "adata = sc.read_h5ad(DATA_DIR / DATASET / \"processed\" / \"adata_preprocessed.h5ad\")"
   ]
  },
  {
   "cell_type": "markdown",
   "id": "4236b5d9-f1b3-4efd-b10e-7497f1200186",
   "metadata": {},
   "source": [
    "## Run regvelo"
   ]
  },
  {
   "cell_type": "code",
   "execution_count": null,
   "id": "002f1346-9a47-4659-a357-39f31afa4eab",
   "metadata": {},
   "outputs": [],
   "source": [
    "## prepare skeleton\n",
    "W = adata.uns[\"skeleton\"].copy()\n",
    "W = torch.tensor(np.array(W)).int()\n",
    "\n",
    "## prepare TF\n",
    "TF = adata.var_names[adata.var[\"TF\"]]\n",
    "\n",
    "## prepare model\n",
    "REGVELOVI.setup_anndata(adata, spliced_layer=\"Ms\", unspliced_layer=\"Mu\")\n",
    "vae = REGVELOVI(adata, W=W.T, regulators=TF, soft_constraint=False)"
   ]
  },
  {
   "cell_type": "code",
   "execution_count": null,
   "id": "1f1a1dbf-031c-426b-8e44-2efcbf1f7d08",
   "metadata": {},
   "outputs": [],
   "source": [
    "vae.train()"
   ]
  },
  {
   "cell_type": "code",
   "execution_count": null,
   "id": "d2ea5201-d878-4778-91fd-6a51c2e4c68a",
   "metadata": {},
   "outputs": [],
   "source": [
    "set_output(adata, vae, n_samples=30, batch_size=adata.n_obs)"
   ]
  },
  {
   "cell_type": "code",
   "execution_count": null,
   "id": "1b02a619-cc04-47c6-8246-5d3e9cc2b8a4",
   "metadata": {},
   "outputs": [],
   "source": [
    "if SAVE_DATA:\n",
    "    adata.write_h5ad(DATA_DIR / DATASET / \"processed\" / \"adata_run_regvelo.h5ad\")\n",
    "    vae.save(DATA_DIR / DATASET / \"processed\" / \"rgv_model\")"
   ]
  }
 ],
 "metadata": {
  "kernelspec": {
   "display_name": "Python [conda env:regvelo_test]",
   "language": "python",
   "name": "conda-env-regvelo_test-py"
  },
  "language_info": {
   "codemirror_mode": {
    "name": "ipython",
    "version": 3
   },
   "file_extension": ".py",
   "mimetype": "text/x-python",
   "name": "python",
   "nbconvert_exporter": "python",
   "pygments_lexer": "ipython3",
   "version": "3.10.15"
  }
 },
 "nbformat": 4,
 "nbformat_minor": 5
}
