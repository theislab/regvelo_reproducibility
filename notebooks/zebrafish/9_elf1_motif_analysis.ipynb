{
 "cells": [
  {
   "cell_type": "markdown",
   "id": "ac530a0c-3341-4fe1-8bd6-8b1e191a39c1",
   "metadata": {},
   "source": [
    "# elf1 perturbation simulation"
   ]
  },
  {
   "cell_type": "markdown",
   "id": "6a3eca17-cff6-4e55-b852-ff513f8e13b8",
   "metadata": {},
   "source": [
    "## Library imports"
   ]
  },
  {
   "cell_type": "code",
   "execution_count": null,
   "id": "ce8aa740-e152-4e9a-9ee1-878ae2712733",
   "metadata": {},
   "outputs": [],
   "source": [
    "import numpy as np\n",
    "import pandas as pd\n",
    "import scipy\n",
    "\n",
    "import matplotlib.pyplot as plt\n",
    "import mplscience\n",
    "import seaborn as sns\n",
    "\n",
    "import cellrank as cr\n",
    "import scanpy as sc\n",
    "import scvelo as scv\n",
    "from regvelo import REGVELOVI\n",
    "\n",
    "from rgv_tools import DATA_DIR, FIG_DIR\n",
    "from rgv_tools.benchmarking import set_output\n",
    "from rgv_tools.perturbation import (\n",
    "    abundance_test,\n",
    "    get_list_name,\n",
    "    in_silico_block_simulation,\n",
    "    inferred_GRN,\n",
    "    RegulationScanning,\n",
    ")"
   ]
  },
  {
   "cell_type": "markdown",
   "id": "f4a7a33b-ac0b-466e-9c23-c371e55d10fa",
   "metadata": {},
   "source": [
    "## Constants"
   ]
  },
  {
   "cell_type": "code",
   "execution_count": null,
   "id": "4d741362-90a9-4a81-ab7c-63bffe9efb99",
   "metadata": {},
   "outputs": [],
   "source": [
    "DATASET = \"zebrafish\""
   ]
  },
  {
   "cell_type": "code",
   "execution_count": null,
   "id": "8f0f43d4-59b3-45d9-9e4f-3d7c68df62bd",
   "metadata": {},
   "outputs": [],
   "source": [
    "SAVE_DATA = True\n",
    "if SAVE_DATA:\n",
    "    (DATA_DIR / DATASET / \"results\").mkdir(parents=True, exist_ok=True)"
   ]
  },
  {
   "cell_type": "code",
   "execution_count": null,
   "id": "ce3f926f",
   "metadata": {},
   "outputs": [],
   "source": [
    "SAVE_FIGURES = False\n",
    "if SAVE_FIGURES:\n",
    "    (FIG_DIR / DATASET).mkdir(parents=True, exist_ok=True)"
   ]
  },
  {
   "cell_type": "markdown",
   "id": "3f0e0dd2-d4c3-4910-9aa0-d0d301e97601",
   "metadata": {},
   "source": [
    "## Data loading"
   ]
  },
  {
   "cell_type": "code",
   "execution_count": null,
   "id": "62379edc-8359-4216-856a-a970bbdb1922",
   "metadata": {},
   "outputs": [],
   "source": [
    "adata = sc.read_h5ad(DATA_DIR / DATASET / \"processed\" / \"adata_run_regvelo.h5ad\")"
   ]
  },
  {
   "cell_type": "markdown",
   "id": "c518768f-1f81-4e20-b996-fb48ec5c3102",
   "metadata": {},
   "source": [
    "## elf1 perturbation simulation"
   ]
  },
  {
   "cell_type": "code",
   "execution_count": null,
   "id": "9905ab85-a8a2-4aff-b56b-e4b03758658f",
   "metadata": {},
   "outputs": [],
   "source": [
    "model = DATA_DIR / DATASET / \"processed\" / \"rgv_hard_model_all\"\n",
    "vae = REGVELOVI.load(model, adata)\n",
    "set_output(adata, vae)"
   ]
  },
  {
   "cell_type": "code",
   "execution_count": null,
   "id": "4aeff8b8-0659-4f0a-a935-4aeb29978ffd",
   "metadata": {},
   "outputs": [],
   "source": [
    "terminal_states = [\n",
    "    \"mNC_head_mesenchymal\",\n",
    "    \"mNC_arch2\",\n",
    "    \"mNC_hox34\",\n",
    "    \"Pigment\",\n",
    "]\n",
    "vk = cr.kernels.VelocityKernel(adata)\n",
    "vk.compute_transition_matrix()\n",
    "ck = cr.kernels.ConnectivityKernel(adata).compute_transition_matrix()\n",
    "g_raw = cr.estimators.GPCCA(vk)\n",
    "## evaluate the fate prob on original space\n",
    "g_raw.compute_macrostates(n_states=7, cluster_key=\"cell_type\")\n",
    "g_raw.set_terminal_states(terminal_states)\n",
    "g_raw.compute_fate_probabilities()\n",
    "g_raw.plot_fate_probabilities(same_plot=False)"
   ]
  },
  {
   "cell_type": "code",
   "execution_count": null,
   "id": "424ef7ff-c98e-4b29-b13d-a201e144c54c",
   "metadata": {},
   "outputs": [],
   "source": [
    "## Elf1\n",
    "adata_target_perturb, reg_vae_perturb = in_silico_block_simulation(model, adata, \"elf1\")\n",
    "\n",
    "n_states = 7\n",
    "vk = cr.kernels.VelocityKernel(adata_target_perturb)\n",
    "vk.compute_transition_matrix()\n",
    "ck = cr.kernels.ConnectivityKernel(adata_target_perturb).compute_transition_matrix()\n",
    "kernel = 0.8 * vk + 0.2 * ck\n",
    "\n",
    "g = cr.estimators.GPCCA(kernel)\n",
    "## evaluate the fate prob on original space\n",
    "g.compute_macrostates(n_states=n_states, cluster_key=\"cell_type\")\n",
    "g.set_terminal_states(terminal_states)\n",
    "g.compute_fate_probabilities()\n",
    "## visualize coefficient\n",
    "cond1_df = pd.DataFrame(\n",
    "    adata_target_perturb.obsm[\"lineages_fwd\"], columns=adata_target_perturb.obsm[\"lineages_fwd\"].names.tolist()\n",
    ")\n",
    "cond2_df = pd.DataFrame(adata.obsm[\"lineages_fwd\"], columns=adata.obsm[\"lineages_fwd\"].names.tolist())\n",
    "\n",
    "## abundance test\n",
    "data = abundance_test(cond2_df, cond1_df)\n",
    "data = pd.DataFrame(\n",
    "    {\n",
    "        \"Score\": data.iloc[:, 0].tolist(),\n",
    "        \"p-value\": data.iloc[:, 1].tolist(),\n",
    "        \"Terminal state\": data.index.tolist(),\n",
    "        \"TF\": [\"elf1\"] * (data.shape[0]),\n",
    "    }\n",
    ")"
   ]
  },
  {
   "cell_type": "code",
   "execution_count": null,
   "id": "92e1278f-49e8-4915-bd5b-23c40e7eaff8",
   "metadata": {},
   "outputs": [],
   "source": [
    "final_df = data.copy()\n",
    "final_df[\"Score\"] = 0.5 - final_df[\"Score\"]"
   ]
  },
  {
   "cell_type": "code",
   "execution_count": null,
   "id": "a4145bb3-a2f5-48f7-929a-7efeb39c31c4",
   "metadata": {},
   "outputs": [],
   "source": [
    "color_label = \"cell_type\"\n",
    "df = pd.DataFrame(final_df[\"Score\"])\n",
    "df.columns = [\"coefficient\"]\n",
    "df[\"Cell type\"] = final_df[\"Terminal state\"]\n",
    "order = df[\"Cell type\"].tolist()\n",
    "\n",
    "palette = dict(zip(adata.obs[color_label].cat.categories, adata.uns[f\"{color_label}_colors\"]))\n",
    "subset_palette = {name: color for name, color in palette.items() if name in final_df.loc[:, \"Terminal state\"].tolist()}\n",
    "\n",
    "with mplscience.style_context():\n",
    "    sns.set_style(style=\"whitegrid\")\n",
    "    fig, ax = plt.subplots(figsize=(2, 2))\n",
    "    sns.barplot(\n",
    "        data=df,\n",
    "        y=\"coefficient\",\n",
    "        x=\"Cell type\",\n",
    "        palette=subset_palette,\n",
    "        order=order,\n",
    "        ax=ax,\n",
    "    )\n",
    "    ax.set(ylim=(-0.05, 0.05))\n",
    "    ax.tick_params(axis=\"x\", rotation=90)\n",
    "    plt.title(\"$\\\\mathit{\" + \"elf1\" + \"}$ regulon knock out simulation\")\n",
    "\n",
    "    if SAVE_FIGURES:\n",
    "        plt.savefig(\n",
    "            FIG_DIR / DATASET / \"elf1_perturbation_simulation.svg\", format=\"svg\", transparent=True, bbox_inches=\"tight\"\n",
    "        )\n",
    "    # Show the plot\n",
    "    plt.show()"
   ]
  },
  {
   "cell_type": "markdown",
   "id": "22124a34-b420-410a-a0f4-045165273e4a",
   "metadata": {},
   "source": [
    "## GRN computation"
   ]
  },
  {
   "cell_type": "code",
   "execution_count": null,
   "id": "eaedb5e1-bb2f-4374-86f3-78fd4c39ac1c",
   "metadata": {},
   "outputs": [],
   "source": [
    "GRN = inferred_GRN(vae, adata, label=\"cell_type\", group=\"all\", data_frame=True)"
   ]
  },
  {
   "cell_type": "markdown",
   "id": "e9a1f295-835b-4f69-91b2-e4b28dabdc65",
   "metadata": {},
   "source": [
    "### elf1 target screening"
   ]
  },
  {
   "cell_type": "code",
   "execution_count": null,
   "id": "8fe9be02-9438-49bb-864a-177160c8c55e",
   "metadata": {},
   "outputs": [],
   "source": [
    "targets = GRN.loc[:, \"elf1\"]\n",
    "targets = np.array(targets.index.tolist())[np.array(targets) != 0]"
   ]
  },
  {
   "cell_type": "code",
   "execution_count": null,
   "id": "ef21d795-eabf-4a16-9e17-99364e702534",
   "metadata": {},
   "outputs": [],
   "source": [
    "terminal_states = [\n",
    "    \"mNC_head_mesenchymal\",\n",
    "    \"mNC_arch2\",\n",
    "    \"mNC_hox34\",\n",
    "    \"Pigment\",\n",
    "]\n",
    "\n",
    "print(\"inferring perturbation...\")\n",
    "perturb_screening = RegulationScanning(model, adata, 7, \"cell_type\", terminal_states, \"elf1\", targets, 0)\n",
    "coef = pd.DataFrame(np.array(perturb_screening[\"coefficient\"]))\n",
    "coef.index = perturb_screening[\"target\"]\n",
    "coef.columns = get_list_name(perturb_screening[\"coefficient\"][0])"
   ]
  },
  {
   "cell_type": "code",
   "execution_count": null,
   "id": "4deef60f-5476-4f22-abe4-469f257f3197",
   "metadata": {},
   "outputs": [],
   "source": [
    "coef.sort_values(\"Pigment\", ascending=False).iloc[:15,]"
   ]
  },
  {
   "cell_type": "code",
   "execution_count": null,
   "id": "fee9a901-35f1-422f-bff0-8141f12c3fdc",
   "metadata": {},
   "outputs": [],
   "source": [
    "Pigment = coef.sort_values(by=\"Pigment\", ascending=False)[:15][\"Pigment\"]"
   ]
  },
  {
   "cell_type": "code",
   "execution_count": null,
   "id": "6790639e-0837-4c6d-bc06-f7ab1d1548c8",
   "metadata": {},
   "outputs": [],
   "source": [
    "df = pd.DataFrame({\"Gene\": Pigment.index.tolist(), \"Score\": np.array(Pigment)})\n",
    "\n",
    "# Sort DataFrame by -log10(p-value) for ordered plotting\n",
    "df = df.sort_values(by=\"Score\", ascending=False)\n",
    "\n",
    "# Highlight specific genes\n",
    "# Set up the plot\n",
    "with mplscience.style_context():\n",
    "    sns.set_style(style=\"white\")\n",
    "    fig, ax = plt.subplots(figsize=(3, 6))\n",
    "    sns.scatterplot(data=df, x=\"Score\", y=\"Gene\", palette=\"purple\", s=200, legend=False)\n",
    "\n",
    "    for _, row in df.iterrows():\n",
    "        plt.hlines(row[\"Gene\"], xmin=0.5, xmax=row[\"Score\"], colors=\"grey\", linestyles=\"-\", alpha=0.5)\n",
    "\n",
    "    # Customize plot appearance\n",
    "    plt.xlabel(\"Score\")\n",
    "    plt.ylabel(\"\")\n",
    "    plt.title(\"Pigment\")\n",
    "\n",
    "    plt.gca().spines[\"top\"].set_visible(False)\n",
    "    plt.gca().spines[\"right\"].set_visible(False)\n",
    "    plt.gca().spines[\"left\"].set_color(\"black\")\n",
    "    plt.gca().spines[\"bottom\"].set_color(\"black\")\n",
    "    # Show plot\n",
    "\n",
    "    if SAVE_FIGURES:\n",
    "        fig.savefig(FIG_DIR / DATASET / \"elf1_driver.svg\", format=\"svg\", transparent=True, bbox_inches=\"tight\")\n",
    "    plt.show()"
   ]
  },
  {
   "cell_type": "markdown",
   "id": "00d07475-f04f-4dd6-b2d2-fab490fbc61d",
   "metadata": {},
   "source": [
    "## Activity of positive regulated genes"
   ]
  },
  {
   "cell_type": "code",
   "execution_count": null,
   "id": "198a40c3-a4b5-4fd9-b39d-bb0ff2d16137",
   "metadata": {},
   "outputs": [],
   "source": [
    "elf1_g = np.array(GRN.index.tolist())[np.array(GRN.loc[:, \"elf1\"]) != 0]\n",
    "fli1a_g = np.array(GRN.index.tolist())[np.array(GRN.loc[:, \"fli1a\"]) != 0]"
   ]
  },
  {
   "cell_type": "code",
   "execution_count": null,
   "id": "f7d68b77-f9fc-4bf6-b4ae-fa9925eec32e",
   "metadata": {},
   "outputs": [],
   "source": [
    "score = adata[:, elf1_g].layers[\"Ms\"].mean(1) - adata[:, fli1a_g].layers[\"Ms\"].mean(1)\n",
    "score = scipy.stats.zscore(np.array(score))"
   ]
  },
  {
   "cell_type": "code",
   "execution_count": null,
   "id": "28ed55d5-6c63-40f6-8ca8-11c5c1b03483",
   "metadata": {},
   "outputs": [],
   "source": [
    "sns.scatterplot(x=score, y=-adata.obs[\"latent_time\"])\n",
    "max_abs_x = max(abs(np.min(score)), abs(np.max(score)))\n",
    "plt.xlim(-max_abs_x, max_abs_x)\n",
    "\n",
    "# Display the plot\n",
    "plt.axvline(0, color=\"grey\", linestyle=\"--\")  # Optional: add a vertical line at x=0 for clarity"
   ]
  },
  {
   "cell_type": "code",
   "execution_count": null,
   "id": "f6a6d645-c46c-4ce3-a2cf-d6b922a0365c",
   "metadata": {},
   "outputs": [],
   "source": [
    "adata.obsm[\"X_togglesiwtch\"] = np.column_stack((score, -adata.obs[\"latent_time\"]))"
   ]
  },
  {
   "cell_type": "code",
   "execution_count": null,
   "id": "4f7ba501-67f3-425c-be54-9b759a14f7a3",
   "metadata": {},
   "outputs": [],
   "source": [
    "sc.pl.embedding(adata, basis=\"togglesiwtch\", color=\"cell_type\", palette=sc.pl.palettes.vega_20, legend_loc=\"on data\")"
   ]
  },
  {
   "cell_type": "code",
   "execution_count": null,
   "id": "a426f731-a3ba-4c23-95b1-ffa4108269bb",
   "metadata": {},
   "outputs": [],
   "source": [
    "adata.obs[\"ToggleState\"] = [i if i in [\"mNC_head_mesenchymal\", \"Pigment\"] else np.nan for i in adata.obs[\"macrostates\"]]\n",
    "adata.obs[\"ToggleState\"] = adata.obs[\"ToggleState\"].astype(\"category\")"
   ]
  },
  {
   "cell_type": "code",
   "execution_count": null,
   "id": "4adfdb02-923d-44da-a019-db1d63aa4c35",
   "metadata": {},
   "outputs": [],
   "source": [
    "which = \"ToggleState\"\n",
    "# adata.obs[which] = adata.obs[\"cell_type2\"].copy()\n",
    "\n",
    "state_names = adata.obs[which].cat.categories.tolist()\n",
    "adata.obs[which] = adata.obs[which].astype(str).astype(\"category\").cat.reorder_categories([\"nan\"] + state_names)\n",
    "\n",
    "if which == \"ToggleState\":\n",
    "    adata.uns[f\"{which}_colors\"] = [\"#dedede\"] + list(subset_palette.values())\n",
    "else:\n",
    "    adata.uns[f\"{which}_colors\"] = [\"#dedede\"] + list(subset_palette.values())\n",
    "state_names = adata.obs[which].cat.categories.tolist()[1:]\n",
    "\n",
    "\n",
    "with mplscience.style_context():\n",
    "    fig, ax = plt.subplots(figsize=(4, 3))\n",
    "    scv.pl.scatter(adata, basis=\"togglesiwtch\", c=which, add_outline=state_names, ax=ax, size=60)\n",
    "\n",
    "    if SAVE_FIGURES:\n",
    "        fig.savefig(FIG_DIR / DATASET / \"fli1a_elf1.svg\", format=\"svg\", transparent=True, bbox_inches=\"tight\")"
   ]
  },
  {
   "cell_type": "code",
   "execution_count": null,
   "id": "e520053a-6788-464f-b508-99751a4cab3b",
   "metadata": {},
   "outputs": [],
   "source": [
    "if SAVE_DATA:\n",
    "    adata.write_h5ad(DATA_DIR / DATASET / \"results\" / \"elf1_screening.csv\")"
   ]
  }
 ],
 "metadata": {
  "kernelspec": {
   "display_name": "Python [conda env:regvelo_test]",
   "language": "python",
   "name": "conda-env-regvelo_test-py"
  },
  "language_info": {
   "codemirror_mode": {
    "name": "ipython",
    "version": 3
   },
   "file_extension": ".py",
   "mimetype": "text/x-python",
   "name": "python",
   "nbconvert_exporter": "python",
   "pygments_lexer": "ipython3",
   "version": "3.10.15"
  }
 },
 "nbformat": 4,
 "nbformat_minor": 5
}
