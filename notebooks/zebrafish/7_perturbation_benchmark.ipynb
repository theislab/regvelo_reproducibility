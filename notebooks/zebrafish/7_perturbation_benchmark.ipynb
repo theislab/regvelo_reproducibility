{
 "cells": [
  {
   "cell_type": "markdown",
   "id": "0c0c94eb-2067-4e0c-9b4a-5208555d576c",
   "metadata": {},
   "source": [
    "# Perturbation prediction benchmark\n",
    "\n",
    "Notebook compares perturbation prediction."
   ]
  },
  {
   "cell_type": "markdown",
   "id": "38e44de8-e51f-4303-8a6b-9104a7a2454e",
   "metadata": {},
   "source": [
    "## Library imports"
   ]
  },
  {
   "cell_type": "code",
   "execution_count": null,
   "id": "8e08e7fa-c0fa-4067-9b69-9e7a5b046449",
   "metadata": {},
   "outputs": [],
   "source": [
    "import numpy as np\n",
    "import pandas as pd\n",
    "import scipy\n",
    "\n",
    "import matplotlib.pyplot as plt\n",
    "import mplscience\n",
    "import seaborn as sns\n",
    "\n",
    "import scanpy as sc\n",
    "import scvelo as scv\n",
    "\n",
    "from rgv_tools import DATA_DIR, FIG_DIR"
   ]
  },
  {
   "cell_type": "markdown",
   "id": "716bff53",
   "metadata": {},
   "source": [
    "## General settings"
   ]
  },
  {
   "cell_type": "code",
   "execution_count": null,
   "id": "6df9e373",
   "metadata": {},
   "outputs": [],
   "source": [
    "plt.rcParams[\"svg.fonttype\"] = \"none\"\n",
    "sns.reset_defaults()\n",
    "sns.reset_orig()\n",
    "scv.settings.set_figure_params(\"scvelo\", dpi_save=400, dpi=80, transparent=True, fontsize=14, color_map=\"viridis\")"
   ]
  },
  {
   "cell_type": "markdown",
   "id": "206632d8",
   "metadata": {},
   "source": [
    "## Constants"
   ]
  },
  {
   "cell_type": "code",
   "execution_count": null,
   "id": "60478861",
   "metadata": {},
   "outputs": [],
   "source": [
    "DATASET = \"zebrafish\""
   ]
  },
  {
   "cell_type": "code",
   "execution_count": null,
   "id": "6a91af54",
   "metadata": {
    "lines_to_next_cell": 2
   },
   "outputs": [],
   "source": [
    "SAVE_FIGURES = True\n",
    "if SAVE_FIGURES:\n",
    "    (FIG_DIR / DATASET).mkdir(parents=True, exist_ok=True)"
   ]
  },
  {
   "cell_type": "markdown",
   "id": "9e83c9fa-2658-4eca-aaec-810770744d9e",
   "metadata": {
    "lines_to_next_cell": 2
   },
   "source": [
    "## Function definitions"
   ]
  },
  {
   "cell_type": "code",
   "execution_count": null,
   "id": "5a2fafc3-5967-4c40-914c-86c4af0ad6f9",
   "metadata": {},
   "outputs": [],
   "source": [
    "def perturb_prediction(coef, perturbation, gene_list):\n",
    "    \"\"\"TODO.\"\"\"\n",
    "    gt = perturbation.loc[[i in coef.index for i in perturbation.loc[:, \"sgRNA_group\"]], :].copy()\n",
    "    gt = gt.loc[\n",
    "        [i in [\"Pigment_gch2_high\", \"mNC_hox34\", \"mNC_arch2\", \"mNC_head_mesenchymal\"] for i in gt.loc[:, \"cell_anno\"]],\n",
    "        :,\n",
    "    ]\n",
    "\n",
    "    ## zero-center the likelihood of different panel.\n",
    "    for tf in gene_list:\n",
    "        gt.loc[[i in tf for i in gt.loc[:, \"sgRNA_group\"]], \"median_likelihood\"] = gt.loc[\n",
    "            [i in tf for i in gt.loc[:, \"sgRNA_group\"]], \"median_likelihood\"\n",
    "        ] - np.mean(gt.loc[[i in tf for i in gt.loc[:, \"sgRNA_group\"]], \"median_likelihood\"])\n",
    "\n",
    "    terminal_states = [\"Pigment\", \"mNC_hox34\", \"mNC_arch2\", \"mNC_head_mesenchymal\"]\n",
    "    coef = coef.loc[:, terminal_states]\n",
    "    coef.columns = [\"Pigment_gch2_high\", \"mNC_hox34\", \"mNC_arch2\", \"mNC_head_mesenchymal\"]\n",
    "    pred_effect = []\n",
    "    TF = []\n",
    "    for i in range(gt.shape[0]):\n",
    "        ts = gt.iloc[i, 0]\n",
    "        tf = gt.iloc[i, 2]\n",
    "        effect = coef.loc[tf, ts]\n",
    "        pred_effect.append(effect)\n",
    "        TF.append(tf)\n",
    "    pred = pd.DataFrame({\"TF\": TF, \"effect\": pred_effect})\n",
    "    return scipy.stats.spearmanr(pred.iloc[:, 1], gt.iloc[:, 1])[0]"
   ]
  },
  {
   "cell_type": "markdown",
   "id": "085bfbbc-faa4-4e7b-a6c5-2df746f8845c",
   "metadata": {},
   "source": [
    "## Data loading"
   ]
  },
  {
   "cell_type": "code",
   "execution_count": null,
   "id": "6cb02523-0032-4e04-a4f0-58b77433beac",
   "metadata": {},
   "outputs": [],
   "source": [
    "gene_list = [\"elk3\", \"erf\", \"etv2\", \"fli1a\", \"mitfa\", \"nr2f5\", \"rarga\", \"rxraa\", \"smarcc1a\", \"tfec\", \"nr2f2\"]\n",
    "perturbation = pd.read_csv(DATA_DIR / DATASET / \"raw\" / \"df_median_meld_likelihood_new.csv\")"
   ]
  },
  {
   "cell_type": "markdown",
   "id": "861d3573-8090-4ff3-947c-a87b66eb02bc",
   "metadata": {},
   "source": [
    "#### predict perturbation"
   ]
  },
  {
   "cell_type": "code",
   "execution_count": null,
   "id": "3348ed2a-401f-446c-982f-cd5b0a019857",
   "metadata": {},
   "outputs": [],
   "source": [
    "coef_perturb_co = pd.read_csv(DATA_DIR / DATASET / \"results\" / \"celloracle_perturb_single.csv\", index_col=0)\n",
    "coef_perturb_dyn = pd.read_csv(DATA_DIR / DATASET / \"results\" / \"dynamo_perturb_single.csv\", index_col=0)\n",
    "coef_KO_dyn = pd.read_csv(DATA_DIR / DATASET / \"results\" / \"dynamo_KO_single.csv\", index_col=0)"
   ]
  },
  {
   "cell_type": "code",
   "execution_count": null,
   "id": "a176321b-f658-47c1-a070-9525baf20381",
   "metadata": {},
   "outputs": [],
   "source": [
    "score_s = []\n",
    "method = []\n",
    "\n",
    "score_s.append(perturb_prediction(1 - coef_perturb_co, perturbation, gene_list))\n",
    "method.append(\"celloracle\")\n",
    "\n",
    "score_s.append(perturb_prediction(coef_perturb_dyn, perturbation, gene_list))\n",
    "method.append(\"Dynamo(perturbation)\")\n",
    "\n",
    "score_s.append(perturb_prediction(1 - coef_KO_dyn, perturbation, gene_list))\n",
    "method.append(\"Dynamo(KO)\")"
   ]
  },
  {
   "cell_type": "code",
   "execution_count": null,
   "id": "6e9bb16e-af7c-4d24-8088-79218300659b",
   "metadata": {},
   "outputs": [],
   "source": [
    "for nrun in range(3):\n",
    "    coef_perturb_rgv = pd.read_csv(DATA_DIR / DATASET / \"results\" / f\"coef_single_regvelo_{nrun}\", index_col=0)\n",
    "    score_s.append(perturb_prediction(1 - coef_perturb_rgv, perturbation, gene_list))\n",
    "    method.append(\"RegVelo\")"
   ]
  },
  {
   "cell_type": "markdown",
   "id": "1b2e3f29-24cb-440f-9796-6864d6c41d8c",
   "metadata": {},
   "source": [
    "### multiple knock-out"
   ]
  },
  {
   "cell_type": "code",
   "execution_count": null,
   "id": "afd40ec9-258e-434e-8d56-bfadacb73ee4",
   "metadata": {},
   "outputs": [],
   "source": [
    "gene_list = [\"fli1a_elk3\", \"mitfa_tfec\", \"tfec_mitfa_bhlhe40\", \"fli1a_erf_erfl3\", \"erf_erfl3\"]"
   ]
  },
  {
   "cell_type": "markdown",
   "id": "2d776fd1-0c01-463e-a161-f072c2625d45",
   "metadata": {},
   "source": [
    "#### predict perturbation"
   ]
  },
  {
   "cell_type": "code",
   "execution_count": null,
   "id": "f11d450a-0623-456a-a77c-ae7e4e01c8d1",
   "metadata": {},
   "outputs": [],
   "source": [
    "coef_perturb_co = pd.read_csv(DATA_DIR / DATASET / \"results\" / \"celloracle_perturb_multiple.csv\", index_col=0)\n",
    "coef_perturb_dyn = pd.read_csv(DATA_DIR / DATASET / \"results\" / \"dynamo_perturb_multiple.csv\", index_col=0)\n",
    "coef_KO_dyn = pd.read_csv(DATA_DIR / DATASET / \"results\" / \"dynamo_KO_multiple.csv\", index_col=0)"
   ]
  },
  {
   "cell_type": "code",
   "execution_count": null,
   "id": "2ffe96fc-00f0-40c2-9fed-4c0f56669b4f",
   "metadata": {},
   "outputs": [],
   "source": [
    "score_m = []\n",
    "method = []\n",
    "\n",
    "score_m.append(perturb_prediction(1 - coef_perturb_co, perturbation, gene_list))\n",
    "method.append(\"celloracle\")\n",
    "\n",
    "score_m.append(perturb_prediction(coef_perturb_dyn, perturbation, gene_list))\n",
    "method.append(\"Dynamo(perturbation)\")\n",
    "\n",
    "score_m.append(perturb_prediction(1 - coef_KO_dyn, perturbation, gene_list))\n",
    "method.append(\"Dynamo(KO)\")"
   ]
  },
  {
   "cell_type": "code",
   "execution_count": null,
   "id": "7af3658e-2e0f-4477-a13b-c1671fbc0af6",
   "metadata": {},
   "outputs": [],
   "source": [
    "for nrun in range(3):\n",
    "    coef_perturb_rgv = pd.read_csv(DATA_DIR / DATASET / \"results\" / f\"coef_multiple_regvelo_{nrun}\", index_col=0)\n",
    "    score_m.append(perturb_prediction(1 - coef_perturb_rgv, perturbation, gene_list))\n",
    "    method.append(\"RegVelo\")"
   ]
  },
  {
   "cell_type": "markdown",
   "id": "f6c77b60-b1b9-4020-aa79-610016166056",
   "metadata": {},
   "source": [
    "## Plot benchmark results"
   ]
  },
  {
   "cell_type": "code",
   "execution_count": null,
   "id": "0dcf5a3b-fde4-4bdd-98ec-3e43e7b67aab",
   "metadata": {},
   "outputs": [],
   "source": [
    "dat = pd.DataFrame({\"spearman_correlation\": score_s, \"method\": method})\n",
    "dat2 = pd.DataFrame({\"spearman_correlation\": score_m, \"method\": method})\n",
    "dat[\"Experimental class\"] = \"Single TF knock-out\"\n",
    "dat2[\"Experimental class\"] = \"Multiple TF knock-out\"\n",
    "df = pd.concat([dat, dat2], axis=0)"
   ]
  },
  {
   "cell_type": "code",
   "execution_count": null,
   "id": "4c498636-2d96-4a80-97ab-e7bca5cf9fbc",
   "metadata": {},
   "outputs": [],
   "source": [
    "colors = [\n",
    "    (0.00392156862745098, 0.45098039215686275, 0.6980392156862745),\n",
    "    (0.9254901960784314, 0.8823529411764706, 0.2),\n",
    "    (0.33725490196078434, 0.7058823529411765, 0.9137254901960784),\n",
    "    (0.792156862745098, 0.5686274509803921, 0.3803921568627451),\n",
    "]"
   ]
  },
  {
   "cell_type": "code",
   "execution_count": null,
   "id": "2e0385da-b119-49a4-9206-5d842b020479",
   "metadata": {},
   "outputs": [],
   "source": [
    "order = [\"RegVelo\", \"Dynamo (KO)\", \"Dynamo (perturbation)\", \"celloracle\"]\n",
    "with mplscience.style_context():\n",
    "    sns.set_style(style=\"whitegrid\")\n",
    "    fig, ax = plt.subplots(figsize=(4, 5))\n",
    "\n",
    "    # Plot the barplot without error bars\n",
    "    sns.barplot(\n",
    "        data=df,\n",
    "        y=\"Experimental class\",\n",
    "        x=\"spearman_correlation\",\n",
    "        hue=\"method\",\n",
    "        hue_order=order,\n",
    "        palette=colors,\n",
    "        ax=ax,\n",
    "        ci=None,\n",
    "    )\n",
    "\n",
    "    # Add jittered dots\n",
    "    sns.stripplot(\n",
    "        data=df,\n",
    "        y=\"Experimental class\",\n",
    "        x=\"spearman_correlation\",\n",
    "        hue=\"method\",\n",
    "        hue_order=order,\n",
    "        dodge=True,\n",
    "        color=\"black\",\n",
    "        ax=ax,\n",
    "        jitter=True,\n",
    "    )\n",
    "\n",
    "    # Remove the duplicate legend\n",
    "    handles, labels = ax.get_legend_handles_labels()\n",
    "    ax.legend(\n",
    "        handles[4 : (4 + len(colors))],\n",
    "        labels[4 : (4 + len(colors))],\n",
    "        bbox_to_anchor=(0.5, -0.1),\n",
    "        loc=\"upper center\",\n",
    "        ncol=2,\n",
    "    )\n",
    "\n",
    "    # Customize labels and other settings\n",
    "    ax.set(ylabel=\"\", xlabel=\"Perturbation prediction score\")\n",
    "    ax.set_xlabel(xlabel=\"Perturbation prediction score\", fontsize=13)\n",
    "\n",
    "    if SAVE_FIGURES:\n",
    "        plt.savefig(\n",
    "            FIG_DIR / DATASET / \"barplot_joint_knockout_update.svg\", format=\"svg\", transparent=True, bbox_inches=\"tight\"\n",
    "        )\n",
    "    plt.show()"
   ]
  },
  {
   "cell_type": "markdown",
   "id": "954fa6be-8787-4cc5-8aaa-967db9bec5a6",
   "metadata": {},
   "source": [
    "## Comparison"
   ]
  },
  {
   "cell_type": "code",
   "execution_count": null,
   "id": "34d44ec2-7a3d-4960-84d8-6ae454171bc9",
   "metadata": {},
   "outputs": [],
   "source": [
    "fc = score_s[3:] / score_s[2]\n",
    "scipy.stats.ttest_ind(fc, fc * 0, equal_var=False, alternative=\"greater\")"
   ]
  },
  {
   "cell_type": "code",
   "execution_count": null,
   "id": "65f4c112-e725-4ef8-8ea3-02a916353fa3",
   "metadata": {},
   "outputs": [],
   "source": [
    "fc = score_m[3:] / score_m[2]\n",
    "scipy.stats.ttest_ind(fc, fc * 0, equal_var=False, alternative=\"greater\")"
   ]
  },
  {
   "cell_type": "markdown",
   "id": "1d9051b3-a4f3-41ad-8f8d-6551a6fc5ecd",
   "metadata": {},
   "source": [
    "## Reason why pick gch2-high pigment cells"
   ]
  },
  {
   "cell_type": "code",
   "execution_count": null,
   "id": "33cc8e79-c1f0-4d3d-9c4e-0b0ac8a046ee",
   "metadata": {},
   "outputs": [],
   "source": [
    "adata = sc.read_h5ad(DATA_DIR / DATASET / \"processed\" / \"adata_preprocessed.h5ad\")\n",
    "sc.pl.umap(adata, color=[\"gch2\", \"sox6\"])"
   ]
  }
 ],
 "metadata": {
  "kernelspec": {
   "display_name": "Python [conda env:regvelo_test]",
   "language": "python",
   "name": "conda-env-regvelo_test-py"
  },
  "language_info": {
   "codemirror_mode": {
    "name": "ipython",
    "version": 3
   },
   "file_extension": ".py",
   "mimetype": "text/x-python",
   "name": "python",
   "nbconvert_exporter": "python",
   "pygments_lexer": "ipython3",
   "version": "3.10.15"
  }
 },
 "nbformat": 4,
 "nbformat_minor": 5
}
