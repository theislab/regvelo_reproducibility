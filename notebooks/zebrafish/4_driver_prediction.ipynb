{
 "cells": [
  {
   "cell_type": "markdown",
   "id": "a01a4e6b-458a-454a-8608-a2e28a3bdf65",
   "metadata": {},
   "source": [
    "# Ealy driver perturbation prediction\n",
    "\n",
    "Notebook analyses early drivers including nr2f5, sox9b, twist1b, and ets1."
   ]
  },
  {
   "cell_type": "markdown",
   "id": "21cd62b0-2b1d-4aa6-bf26-6bb84a4735ad",
   "metadata": {},
   "source": [
    "## Library imports"
   ]
  },
  {
   "cell_type": "code",
   "execution_count": null,
   "id": "eafdd1a7-047f-4f73-b2c9-d5a614fed6f9",
   "metadata": {},
   "outputs": [],
   "source": [
    "import pandas as pd\n",
    "import scipy\n",
    "\n",
    "import matplotlib.pyplot as plt\n",
    "import mplscience\n",
    "import seaborn as sns\n",
    "\n",
    "import cellrank as cr\n",
    "import scanpy as sc\n",
    "import scvi\n",
    "from regvelo import REGVELOVI\n",
    "\n",
    "from rgv_tools import DATA_DIR, FIG_DIR\n",
    "from rgv_tools.benchmarking import set_output\n",
    "from rgv_tools.perturbation import abundance_test, DEG, in_silico_block_simulation\n",
    "from rgv_tools.plotting import bar_scores"
   ]
  },
  {
   "cell_type": "markdown",
   "id": "84183abd",
   "metadata": {},
   "source": [
    "## General settings"
   ]
  },
  {
   "cell_type": "code",
   "execution_count": null,
   "id": "27e43f80-488c-46e3-9c8b-ebd4279dbb65",
   "metadata": {},
   "outputs": [],
   "source": [
    "scvi.settings.seed = 0"
   ]
  },
  {
   "cell_type": "markdown",
   "id": "c5a3ccdc-9856-4cfc-8b60-bd5e74ca5969",
   "metadata": {},
   "source": [
    "## Constants"
   ]
  },
  {
   "cell_type": "code",
   "execution_count": null,
   "id": "71c0fe95-c091-4bac-bd14-8719541217f7",
   "metadata": {},
   "outputs": [],
   "source": [
    "DATASET = \"zebrafish\""
   ]
  },
  {
   "cell_type": "code",
   "execution_count": null,
   "id": "4b817dcf-88cd-49b9-aeb8-5cc19ad32eb3",
   "metadata": {},
   "outputs": [],
   "source": [
    "SAVE_DATA = True\n",
    "if SAVE_DATA:\n",
    "    (DATA_DIR / DATASET / \"processed\").mkdir(parents=True, exist_ok=True)\n",
    "    (DATA_DIR / DATASET / \"results\").mkdir(parents=True, exist_ok=True)"
   ]
  },
  {
   "cell_type": "code",
   "execution_count": null,
   "id": "fe51a4c0",
   "metadata": {},
   "outputs": [],
   "source": [
    "SAVE_FIGURES = True\n",
    "if SAVE_FIGURES:\n",
    "    (FIG_DIR / DATASET).mkdir(parents=True, exist_ok=True)"
   ]
  },
  {
   "cell_type": "code",
   "execution_count": null,
   "id": "952ecbe6",
   "metadata": {},
   "outputs": [],
   "source": [
    "DRIVERS = [\"nr2f5\", \"sox9b\", \"twist1b\", \"ets1\"]"
   ]
  },
  {
   "cell_type": "code",
   "execution_count": null,
   "id": "ae23266c",
   "metadata": {},
   "outputs": [],
   "source": [
    "TERMINAL_STATES = [\n",
    "    \"mNC_head_mesenchymal\",\n",
    "    \"mNC_arch2\",\n",
    "    \"mNC_hox34\",\n",
    "    \"Pigment\",\n",
    "]"
   ]
  },
  {
   "cell_type": "markdown",
   "id": "e86e6ad8-73fd-40be-ba3b-f657d687cb3a",
   "metadata": {},
   "source": [
    "## Data Loading"
   ]
  },
  {
   "cell_type": "code",
   "execution_count": null,
   "id": "470a8137-6d77-4970-8367-882275ae07d6",
   "metadata": {},
   "outputs": [],
   "source": [
    "adata = sc.read_h5ad(DATA_DIR / DATASET / \"processed\" / \"adata_run_regvelo.h5ad\")"
   ]
  },
  {
   "cell_type": "markdown",
   "id": "6044fddb-cdd8-4f69-8dd5-e5bee8b4fdd8",
   "metadata": {},
   "source": [
    "## CellRank pipeline"
   ]
  },
  {
   "cell_type": "code",
   "execution_count": null,
   "id": "9602fe38-1ce7-40c4-a088-b4b1841f082e",
   "metadata": {},
   "outputs": [],
   "source": [
    "vk = cr.kernels.VelocityKernel(adata)\n",
    "vk.compute_transition_matrix()\n",
    "ck = cr.kernels.ConnectivityKernel(adata).compute_transition_matrix()\n",
    "\n",
    "kernel = 0.8 * vk + 0.2 * ck"
   ]
  },
  {
   "cell_type": "code",
   "execution_count": null,
   "id": "0c096cb8",
   "metadata": {},
   "outputs": [],
   "source": [
    "estimator = cr.estimators.GPCCA(kernel)\n",
    "# evaluate the fate prob on original space\n",
    "estimator.compute_macrostates(n_states=8, cluster_key=\"cell_type\")\n",
    "estimator.set_terminal_states(TERMINAL_STATES)\n",
    "estimator.compute_fate_probabilities()\n",
    "\n",
    "df = estimator.compute_lineage_drivers(cluster_key=\"cell_type\")"
   ]
  },
  {
   "cell_type": "markdown",
   "id": "52167870",
   "metadata": {},
   "source": [
    "## Plotting"
   ]
  },
  {
   "cell_type": "markdown",
   "id": "042823e5-88cd-42c3-af68-4c4cc43b75c0",
   "metadata": {},
   "source": [
    "### Gene expression"
   ]
  },
  {
   "cell_type": "code",
   "execution_count": null,
   "id": "ad54b2c3-95a3-40d9-8607-423c33baed07",
   "metadata": {},
   "outputs": [],
   "source": [
    "with mplscience.style_context():\n",
    "    fig, ax = plt.subplots(1, 4, figsize=(20, 3))\n",
    "    for axis, gene in zip(ax, DRIVERS):\n",
    "        axis = sc.pl.umap(\n",
    "            adata, color=[gene], vmin=\"p1\", vmax=\"p99\", frameon=False, legend_fontsize=14, show=False, ax=axis\n",
    "        )\n",
    "\n",
    "    if SAVE_FIGURES:\n",
    "        fig.savefig(FIG_DIR / DATASET / \"gene_expression.svg\", format=\"svg\", transparent=True, bbox_inches=\"tight\")\n",
    "    plt.show()"
   ]
  },
  {
   "cell_type": "code",
   "execution_count": null,
   "id": "3e4fbc1c-7a58-41f4-982f-17721323f171",
   "metadata": {},
   "outputs": [],
   "source": [
    "order = [\"3ss\", \"6-7ss\", \"10ss\", \"12-13ss\", \"17-18ss\", \"21-22ss\"]\n",
    "\n",
    "with mplscience.style_context():\n",
    "    sns.set(style=\"whitegrid\")\n",
    "    fig, ax = plt.subplots(1, 4, figsize=(20, 3), sharey=True)\n",
    "\n",
    "    for axis, gene in zip(ax, DRIVERS):\n",
    "        axis = sc.pl.violin(\n",
    "            adata,\n",
    "            [gene],\n",
    "            groupby=\"stage\",\n",
    "            stripplot=False,  # remove the internal dots\n",
    "            inner=\"box\",  # adds a boxplot inside violins\n",
    "            order=order,\n",
    "            palette=[\"darkgrey\"],\n",
    "            show=False,\n",
    "            ax=axis,\n",
    "        )\n",
    "\n",
    "    if SAVE_FIGURES:\n",
    "        fig.savefig(FIG_DIR / DATASET / \"gene_expression_time.svg\", format=\"svg\", transparent=True, bbox_inches=\"tight\")\n",
    "    plt.show()"
   ]
  },
  {
   "cell_type": "code",
   "execution_count": null,
   "id": "9e1a6cb7-a599-4e43-af9e-835130eaf2b2",
   "metadata": {},
   "outputs": [],
   "source": [
    "coord = [[-0.3, 0.35, 0.25], [-3.5, 3.5, 2.5], [-3.5, 3.5, 2.5], [-0.9, 1, 0.7]]"
   ]
  },
  {
   "cell_type": "code",
   "execution_count": null,
   "id": "3058c76d-54c9-402a-80b4-c59f08a681f3",
   "metadata": {},
   "outputs": [],
   "source": [
    "for i, gene in enumerate(DRIVERS):\n",
    "    Gep = adata[:, gene].X.A\n",
    "    res = DEG(Gep, adata.obs[\"cell_type\"].tolist())\n",
    "    res.index = res.loc[:, \"cell_type\"]\n",
    "    res.columns = [\"gene\", \"cell_type\", \"coefficient\", \"pvalue\"]\n",
    "    res = res.loc[[\"mNC_head_mesenchymal\", \"mNC_arch2\", \"mNC_hox34\", \"Pigment\", \"NPB_nohox\"], :].copy()\n",
    "    bar_scores(\n",
    "        res,\n",
    "        adata,\n",
    "        \"cell_type\",\n",
    "        gene,\n",
    "        figsize=(2, 2),\n",
    "        title=\"DEG test\",\n",
    "        min=coord[i][0],\n",
    "        max=coord[i][1],\n",
    "        loc=coord[i][2],\n",
    "    )\n",
    "\n",
    "    with mplscience.style_context():\n",
    "        sns.set(style=\"whitegrid\")\n",
    "\n",
    "        if SAVE_FIGURES:\n",
    "            plt.savefig(FIG_DIR / DATASET / f\"{gene}_DEG.svg\", format=\"svg\", transparent=True, bbox_inches=\"tight\")\n",
    "            plt.show()"
   ]
  },
  {
   "cell_type": "code",
   "execution_count": null,
   "id": "1a1c9279-f3dc-4faa-964b-fc6536f82179",
   "metadata": {},
   "outputs": [],
   "source": [
    "coord = [[-0.25, 0.5, 0.4], [-0.25, 0.5, 0.4], [-0.4, 0.5, 0.4], [-0.25, 0.5, 0.4]]"
   ]
  },
  {
   "cell_type": "code",
   "execution_count": null,
   "id": "f03f1f96-37ce-4d57-a989-ce04b84ce704",
   "metadata": {},
   "outputs": [],
   "source": [
    "for i, gene in enumerate(DRIVERS):\n",
    "    Gep = adata[:, gene].X.A.reshape(-1)\n",
    "    score = []\n",
    "    pvalue = []\n",
    "    for i in range(adata.obsm[\"lineages_fwd\"].shape[1]):\n",
    "        score.append(scipy.stats.pearsonr(pd.DataFrame(adata.obsm[\"lineages_fwd\"]).iloc[:, i], Gep)[0])\n",
    "        pvalue.append(scipy.stats.pearsonr(pd.DataFrame(adata.obsm[\"lineages_fwd\"]).iloc[:, i], Gep)[1])\n",
    "\n",
    "    test_result = pd.DataFrame({\"coefficient\": score, \"pvalue\": pvalue})\n",
    "    test_result.index = adata.obsm[\"lineages_fwd\"].names.tolist()\n",
    "    test_result = test_result.loc[[\"mNC_head_mesenchymal\", \"mNC_arch2\", \"mNC_hox34\", \"Pigment\"], :].copy()\n",
    "    bar_scores(test_result, adata, \"cell_type\", gene, figsize=(2, 2), min=coord[i][0], max=coord[i][1], loc=coord[i][2])\n",
    "\n",
    "    with mplscience.style_context():\n",
    "        sns.set(style=\"whitegrid\")\n",
    "        if SAVE_FIGURES:\n",
    "            plt.savefig(FIG_DIR / DATASET / f\"{gene}_cor.svg\", format=\"svg\", transparent=True, bbox_inches=\"tight\")\n",
    "        plt.show()"
   ]
  },
  {
   "cell_type": "markdown",
   "id": "1431e7d6-94cf-4cb2-ab7b-c0703c9feb5d",
   "metadata": {},
   "source": [
    "### Driver ranking"
   ]
  },
  {
   "cell_type": "code",
   "execution_count": null,
   "id": "2965ca05-7ee7-4ae9-8d9c-b91c84fa9a03",
   "metadata": {},
   "outputs": [],
   "source": [
    "for ts in adata.obsm[\"lineages_fwd\"].names.tolist():\n",
    "    for gene in DRIVERS:\n",
    "        sns.histplot(df.loc[:, f\"{ts}_corr\"], color=\"skyblue\", binwidth=0.05)\n",
    "        # Add a vertical line at x=0.5\n",
    "        plt.axvline(x=df.loc[gene, f\"{ts}_corr\"], color=\"red\", linestyle=\"--\")\n",
    "        # Add labels and title\n",
    "        plt.xlabel(\"Correlation\")\n",
    "        plt.ylabel(\"Frequency\")\n",
    "        plt.title(ts)\n",
    "        # Show plot\n",
    "\n",
    "        if SAVE_FIGURES:\n",
    "            plt.savefig(FIG_DIR / DATASET / f\"{gene}_{ts}.svg\", format=\"svg\", transparent=True, bbox_inches=\"tight\")\n",
    "        plt.show()\n",
    "        # Close the plot to free up memory\n",
    "        plt.close()"
   ]
  },
  {
   "cell_type": "markdown",
   "id": "78e39a1b-ac06-4f93-b83c-803d462ee586",
   "metadata": {},
   "source": [
    "## Applying RegVelo for perturbation prediction"
   ]
  },
  {
   "cell_type": "code",
   "execution_count": null,
   "id": "2b97689d-4c3a-45c8-9930-0eaabde9d05b",
   "metadata": {
    "tags": []
   },
   "outputs": [],
   "source": [
    "model = DATA_DIR / DATASET / \"processed\" / \"rgv_model\"\n",
    "vae = REGVELOVI.load(model, adata)\n",
    "set_output(adata, vae, n_samples=30, batch_size=adata.n_obs)"
   ]
  },
  {
   "cell_type": "code",
   "execution_count": null,
   "id": "9da6c92c-589c-4b15-a068-a9c842d990b1",
   "metadata": {
    "tags": []
   },
   "outputs": [],
   "source": [
    "vk = cr.kernels.VelocityKernel(adata)\n",
    "vk.compute_transition_matrix()\n",
    "ck = cr.kernels.ConnectivityKernel(adata).compute_transition_matrix()\n",
    "kernel = 0.8 * vk + 0.2 * ck\n",
    "\n",
    "estimator = cr.estimators.GPCCA(kernel)\n",
    "## evaluate the fate prob on original space\n",
    "estimator.compute_macrostates(n_states=8, cluster_key=\"cell_type\")\n",
    "estimator.set_terminal_states(TERMINAL_STATES)\n",
    "estimator.compute_fate_probabilities()\n",
    "estimator.plot_fate_probabilities(same_plot=False)"
   ]
  },
  {
   "cell_type": "code",
   "execution_count": null,
   "id": "d85c6315",
   "metadata": {},
   "outputs": [],
   "source": [
    "fate_prob_perturb = []\n",
    "\n",
    "cand_list = [\"ets1\", \"nr2f2\", \"nr2f5\", \"sox9b\", \"twist1a\", \"twist1b\", \"sox10\", \"mitfa\", \"tfec\", \"tfap2b\"]\n",
    "\n",
    "for TF in cand_list:\n",
    "    adata_target_perturb, reg_vae_perturb = in_silico_block_simulation(model, adata, TF)\n",
    "\n",
    "    n_states = 8\n",
    "    vk = cr.kernels.VelocityKernel(adata_target_perturb)\n",
    "    vk.compute_transition_matrix()\n",
    "    ck = cr.kernels.ConnectivityKernel(adata_target_perturb).compute_transition_matrix()\n",
    "    kernel = 0.8 * vk + 0.2 * ck\n",
    "\n",
    "    estimator = cr.estimators.GPCCA(kernel)\n",
    "    ## evaluate the fate prob on original space\n",
    "    estimator.compute_macrostates(n_states=n_states, cluster_key=\"cell_type\")\n",
    "    estimator.set_terminal_states(TERMINAL_STATES)\n",
    "    estimator.compute_fate_probabilities()\n",
    "    ## visualize coefficient\n",
    "    cond1_df = pd.DataFrame(\n",
    "        adata_target_perturb.obsm[\"lineages_fwd\"], columns=adata_target_perturb.obsm[\"lineages_fwd\"].names.tolist()\n",
    "    )\n",
    "\n",
    "    fate_prob_perturb.append(cond1_df)"
   ]
  },
  {
   "cell_type": "code",
   "execution_count": null,
   "id": "a6a3003c",
   "metadata": {},
   "outputs": [],
   "source": [
    "cond2_df = pd.DataFrame(adata.obsm[\"lineages_fwd\"], columns=adata.obsm[\"lineages_fwd\"].names.tolist())\n",
    "df = []\n",
    "for i in range(len(fate_prob_perturb)):\n",
    "    data = abundance_test(cond2_df, fate_prob_perturb[i])\n",
    "    data = pd.DataFrame(\n",
    "        {\n",
    "            \"Score\": data.iloc[:, 0].tolist(),\n",
    "            \"p-value\": data.iloc[:, 1].tolist(),\n",
    "            \"Terminal state\": data.index.tolist(),\n",
    "            \"TF\": [cand_list[i]] * (data.shape[0]),\n",
    "        }\n",
    "    )\n",
    "    df.append(data)\n",
    "\n",
    "df = pd.concat(df)\n",
    "\n",
    "df[\"Score\"] = 0.5 - df[\"Score\"]"
   ]
  },
  {
   "cell_type": "code",
   "execution_count": null,
   "id": "d0b7d6a4-3a58-4a39-bc20-886af70749d3",
   "metadata": {},
   "outputs": [],
   "source": [
    "# Create a DataFrame for easier plotting\n",
    "with mplscience.style_context():\n",
    "    sns.set(style=\"whitegrid\")\n",
    "    fig, ax = plt.subplots(figsize=(10, 3))\n",
    "    # sns.barplot(x='Terminal state', y='AUROC',data=data, hue = \"Method\",palette=pal,ax = ax)\n",
    "    color_label = \"cell_type\"\n",
    "    palette = dict(zip(adata.obs[color_label].cat.categories, adata.uns[f\"{color_label}_colors\"]))\n",
    "    subset_palette = {name: color for name, color in palette.items() if name in cond2_df.columns.tolist()}\n",
    "\n",
    "    sns.barplot(x=\"TF\", y=\"Score\", hue=\"Terminal state\", data=df, ax=ax, palette=palette, dodge=True)\n",
    "\n",
    "    # Add vertical lines to separate groups\n",
    "    for i in range(len(df[\"TF\"].unique()) - 1):\n",
    "        plt.axvline(x=i + 0.5, color=\"gray\", linestyle=\"--\")\n",
    "\n",
    "    # Label settings\n",
    "    plt.ylabel(\"Perturbation coefficient\", fontsize=14)\n",
    "    plt.xlabel(\"TF\", fontsize=14)\n",
    "    plt.xticks(fontsize=14)  # Increase font size of x-axis tick labels\n",
    "    plt.yticks(fontsize=14)  # Increase font size of y-axis tick labels\n",
    "\n",
    "    # Customize the legend\n",
    "    plt.legend(loc=\"lower center\", fontsize=14, bbox_to_anchor=(0.5, -0.6), ncol=3)\n",
    "\n",
    "    if SAVE_FIGURES:\n",
    "        plt.savefig(\n",
    "            FIG_DIR / DATASET / \"driver_perturbation_simulation_all.svg\",\n",
    "            format=\"svg\",\n",
    "            transparent=True,\n",
    "            bbox_inches=\"tight\",\n",
    "        )\n",
    "    # Show the plot\n",
    "    plt.show()"
   ]
  }
 ],
 "metadata": {
  "kernelspec": {
   "display_name": "Python [conda env:regvelo_test]",
   "language": "python",
   "name": "conda-env-regvelo_test-py"
  },
  "language_info": {
   "codemirror_mode": {
    "name": "ipython",
    "version": 3
   },
   "file_extension": ".py",
   "mimetype": "text/x-python",
   "name": "python",
   "nbconvert_exporter": "python",
   "pygments_lexer": "ipython3",
   "version": "3.10.15"
  }
 },
 "nbformat": 4,
 "nbformat_minor": 5
}
