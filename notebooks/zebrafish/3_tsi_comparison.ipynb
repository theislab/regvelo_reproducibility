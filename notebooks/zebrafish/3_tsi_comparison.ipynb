{
 "cells": [
  {
   "cell_type": "markdown",
   "id": "da38cc7a-5b8d-47e1-afbf-a2c8b0e33553",
   "metadata": {},
   "source": [
    "# Terminal state identification\n",
    "\n",
    "Notebook compares model performance based on for terminal state identification."
   ]
  },
  {
   "cell_type": "markdown",
   "id": "519c4a05-a925-4c4f-af4e-c452b575de0c",
   "metadata": {},
   "source": [
    "## Library imports"
   ]
  },
  {
   "cell_type": "code",
   "execution_count": null,
   "id": "730f2d54-04b4-4395-ad3e-7e4fc02277ac",
   "metadata": {},
   "outputs": [],
   "source": [
    "import numpy as np\n",
    "import pandas as pd\n",
    "import pytorch_lightning as pl\n",
    "from scipy.stats import ttest_ind\n",
    "\n",
    "import matplotlib.pyplot as plt\n",
    "import mplscience\n",
    "import seaborn as sns\n",
    "from matplotlib import rcParams\n",
    "\n",
    "import cellrank as cr\n",
    "import scanpy as sc\n",
    "import scvelo as scv\n",
    "\n",
    "from rgv_tools import DATA_DIR, FIG_DIR\n",
    "from rgv_tools.benchmarking import stair_vec, TSI_score\n",
    "from rgv_tools.plotting._significance import add_significance, get_significance"
   ]
  },
  {
   "cell_type": "markdown",
   "id": "b527c16b-8eff-425c-8d3e-93051a5b3360",
   "metadata": {},
   "source": [
    "## General setting"
   ]
  },
  {
   "cell_type": "code",
   "execution_count": null,
   "id": "3329feee-4a82-46ff-9d6b-3f534671d760",
   "metadata": {},
   "outputs": [],
   "source": [
    "pl.seed_everything(0)"
   ]
  },
  {
   "cell_type": "code",
   "execution_count": null,
   "id": "28ead41d-a193-40cb-8d90-184704cbf66d",
   "metadata": {},
   "outputs": [],
   "source": [
    "plt.rcParams[\"svg.fonttype\"] = \"none\"\n",
    "sns.reset_defaults()\n",
    "sns.reset_orig()\n",
    "scv.settings.set_figure_params(\"scvelo\", dpi_save=400, dpi=80, transparent=True, fontsize=14, color_map=\"viridis\")"
   ]
  },
  {
   "cell_type": "markdown",
   "id": "97127d57-5783-4c65-b5d9-f0d28d11d236",
   "metadata": {},
   "source": [
    "## Constants"
   ]
  },
  {
   "cell_type": "code",
   "execution_count": null,
   "id": "b5ec6ae5-8d6f-42c0-93db-4866b789c9f3",
   "metadata": {},
   "outputs": [],
   "source": [
    "DATASET = \"zebrafish\"\n",
    "\n",
    "SAVE_FIGURES = False\n",
    "if SAVE_FIGURES:\n",
    "    (FIG_DIR / DATASET).mkdir(parents=True, exist_ok=True)\n",
    "\n",
    "FIGURE_FORMATE = \"svg\""
   ]
  },
  {
   "cell_type": "code",
   "execution_count": null,
   "id": "1b7524c6-bfbc-4594-a203-441231f0a11c",
   "metadata": {},
   "outputs": [],
   "source": [
    "VELOCITY_METHODS = [\"regvelo\", \"scvelo\", \"velovi\"]"
   ]
  },
  {
   "cell_type": "markdown",
   "id": "5711d4e6-fd3f-4096-9b71-88890d75fd6a",
   "metadata": {},
   "source": [
    "## Data loading"
   ]
  },
  {
   "cell_type": "code",
   "execution_count": null,
   "id": "f39abe5b-5103-482a-965b-9196c7dc29a8",
   "metadata": {},
   "outputs": [],
   "source": [
    "vks = {}\n",
    "\n",
    "for method in VELOCITY_METHODS:\n",
    "    adata = sc.read_h5ad(DATA_DIR / DATASET / \"processed\" / f\"adata_run_{method}.h5ad\")\n",
    "    ## construct graph\n",
    "    vk = cr.kernels.VelocityKernel(adata).compute_transition_matrix()\n",
    "    vks[method] = vk"
   ]
  },
  {
   "cell_type": "markdown",
   "id": "b3fccad9-5f69-4050-b579-15bf616df392",
   "metadata": {},
   "source": [
    "## Terminal state identification"
   ]
  },
  {
   "cell_type": "code",
   "execution_count": null,
   "id": "f6108475-5d95-4883-8713-5d610036cf09",
   "metadata": {
    "tags": []
   },
   "outputs": [],
   "source": [
    "terminal_states = [\n",
    "    \"mNC_head_mesenchymal\",\n",
    "    \"mNC_arch2\",\n",
    "    \"mNC_hox34\",\n",
    "    \"Pigment\",\n",
    "]\n",
    "\n",
    "# define threshold from 0.1 to 1\n",
    "points = np.linspace(0.1, 1, 21)[:20]"
   ]
  },
  {
   "cell_type": "code",
   "execution_count": null,
   "id": "857c451a",
   "metadata": {},
   "outputs": [],
   "source": [
    "estimators = {}\n",
    "tsi = {}"
   ]
  },
  {
   "cell_type": "code",
   "execution_count": null,
   "id": "b552a344",
   "metadata": {},
   "outputs": [],
   "source": [
    "for method in VELOCITY_METHODS:\n",
    "    estimators[method] = cr.estimators.GPCCA(vks[method])\n",
    "    tsi[method] = TSI_score(adata, points, \"cell_type\", terminal_states, estimators[method])"
   ]
  },
  {
   "cell_type": "code",
   "execution_count": null,
   "id": "0f3b33b8-da68-4640-b01d-710c3e87a23b",
   "metadata": {},
   "outputs": [],
   "source": [
    "df = pd.DataFrame(\n",
    "    {\n",
    "        \"TSI\": tsi[\"regvelo\"] + tsi[\"velovi\"] + tsi[\"scvelo\"],\n",
    "        \"Model\": [\"RegVelo\"] * 20 + [\"veloVI\"] * 20 + [\"scVelo\"] * 20,\n",
    "    }\n",
    ")\n",
    "\n",
    "with mplscience.style_context():\n",
    "    sns.set_style(style=\"whitegrid\")\n",
    "    fig, ax = plt.subplots(figsize=(3, 4))\n",
    "\n",
    "    sns.barplot(data=df, x=\"Model\", y=\"TSI\", palette=\"colorblind\", ax=ax)\n",
    "\n",
    "    ttest_res = ttest_ind(tsi[\"regvelo\"], tsi[\"velovi\"], alternative=\"greater\")\n",
    "    significance = get_significance(ttest_res.pvalue)\n",
    "    add_significance(\n",
    "        ax=ax,\n",
    "        left=0,\n",
    "        right=1,\n",
    "        significance=significance,\n",
    "        lw=1,\n",
    "        bracket_level=1.05,\n",
    "        c=\"k\",\n",
    "        level=0,\n",
    "    )\n",
    "\n",
    "    ttest_res = ttest_ind(tsi[\"regvelo\"], tsi[\"scvelo\"], alternative=\"greater\")\n",
    "    significance = get_significance(ttest_res.pvalue)\n",
    "    add_significance(ax=ax, left=0, right=2, significance=significance, lw=1, c=\"k\", level=2, bracket_level=0.9)\n",
    "\n",
    "    y_min, y_max = ax.get_ylim()\n",
    "    ax.set_ylim([y_min, y_max + 0.02])\n",
    "\n",
    "    if SAVE_FIGURES:\n",
    "        fig.savefig(FIG_DIR / DATASET / \"tsi_benchmark.svg\", format=\"svg\", transparent=True, bbox_inches=\"tight\")\n",
    "    plt.show()"
   ]
  },
  {
   "cell_type": "markdown",
   "id": "ed3d9396-10e4-44e4-8619-e027e71cae7c",
   "metadata": {},
   "source": [
    "## Visualize terminal states"
   ]
  },
  {
   "cell_type": "code",
   "execution_count": null,
   "id": "0441f5b3-a71a-4136-bd0d-de7379739065",
   "metadata": {
    "tags": []
   },
   "outputs": [],
   "source": [
    "pre_value_rgv = stair_vec(adata, estimators[\"regvelo\"], 0.8, terminal_states, \"cell_type\")\n",
    "pre_value_scv = stair_vec(adata, estimators[\"scvelo\"], 0.8, terminal_states, \"cell_type\")\n",
    "pre_value_vi = stair_vec(adata, estimators[\"velovi\"], 0.8, terminal_states, \"cell_type\")"
   ]
  },
  {
   "cell_type": "markdown",
   "id": "6a1cec3a-4613-4ff3-9c9f-4ab052b345e5",
   "metadata": {},
   "source": [
    "## Plotting"
   ]
  },
  {
   "cell_type": "code",
   "execution_count": null,
   "id": "c61ce83e-96d0-44a9-96d9-ea273a5be9da",
   "metadata": {},
   "outputs": [],
   "source": [
    "df = pd.DataFrame(\n",
    "    {\n",
    "        \"number_macrostate\": range(0, 12),\n",
    "        \"RegVelo\": [0] + pre_value_rgv,\n",
    "        \"veloVI\": [0] + pre_value_vi,\n",
    "        \"scVelo\": [0] + pre_value_scv,\n",
    "    }\n",
    ")"
   ]
  },
  {
   "cell_type": "code",
   "execution_count": null,
   "id": "99c5742f-66e7-4c69-992b-dee36608db4f",
   "metadata": {},
   "outputs": [],
   "source": [
    "df = pd.melt(df, [\"number_macrostate\"])\n",
    "colors = sns.color_palette(\"colorblind\", n_colors=3)\n",
    "colors = colors + [(0.8274509803921568, 0.8274509803921568, 0.8274509803921568)]"
   ]
  },
  {
   "cell_type": "code",
   "execution_count": null,
   "id": "82d4a38c-4efb-41da-b3d1-70b3af59944c",
   "metadata": {},
   "outputs": [],
   "source": [
    "# Set figure size\n",
    "with mplscience.style_context():\n",
    "    sns.set_style(style=\"whitegrid\")\n",
    "\n",
    "    rcParams[\"figure.figsize\"] = 4, 3\n",
    "\n",
    "    # Plot the grid plot\n",
    "    ax = sns.lineplot(\n",
    "        x=\"number_macrostate\",\n",
    "        y=\"value\",\n",
    "        hue=\"variable\",\n",
    "        style=\"variable\",\n",
    "        palette=colors,\n",
    "        drawstyle=\"steps-post\",\n",
    "        data=df,\n",
    "        linewidth=3,\n",
    "    )\n",
    "\n",
    "    # Set labels and titles\n",
    "    ax.set(ylabel=\"Number of correct predictions\")\n",
    "    plt.xlabel(\"Number of macrostates\", fontsize=14)\n",
    "    plt.ylabel(\"Identified terminal states\", fontsize=14)\n",
    "\n",
    "    # Customize tick parameters for better readability\n",
    "    ax.set_xticks([0, 2, 4, 6, 8, 10])\n",
    "    ax.set_xticklabels([0, 2, 4, 6, 8, 10])\n",
    "    plt.xticks(fontsize=14)\n",
    "    plt.yticks(fontsize=14)\n",
    "    plt.legend(loc=\"upper center\", bbox_to_anchor=(0.5, -0.18), shadow=True, ncol=4, fontsize=14)\n",
    "\n",
    "    if SAVE_FIGURES:\n",
    "        plt.savefig(\n",
    "            FIG_DIR / DATASET / \"state_identification_update.svg\", format=\"svg\", transparent=True, bbox_inches=\"tight\"\n",
    "        )\n",
    "    plt.show()"
   ]
  }
 ],
 "metadata": {
  "kernelspec": {
   "display_name": "Python [conda env:regvelo_test]",
   "language": "python",
   "name": "conda-env-regvelo_test-py"
  },
  "language_info": {
   "codemirror_mode": {
    "name": "ipython",
    "version": 3
   },
   "file_extension": ".py",
   "mimetype": "text/x-python",
   "name": "python",
   "nbconvert_exporter": "python",
   "pygments_lexer": "ipython3",
   "version": "3.10.15"
  }
 },
 "nbformat": 4,
 "nbformat_minor": 5
}
