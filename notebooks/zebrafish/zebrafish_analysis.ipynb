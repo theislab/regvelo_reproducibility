{
 "cells": [
  {
   "cell_type": "markdown",
   "id": "cc44ea15-9172-4928-ab00-591e60a46995",
   "metadata": {},
   "source": [
    "# Zebrafish data analysis"
   ]
  },
  {
   "cell_type": "markdown",
   "id": "fab7e199-f3cc-40a2-b492-38b23bcc59ed",
   "metadata": {},
   "source": [
    "## Library imports"
   ]
  },
  {
   "cell_type": "code",
   "execution_count": 1,
   "id": "438570c4-9699-4adf-be45-0f2b876b997f",
   "metadata": {
    "tags": []
   },
   "outputs": [],
   "source": [
    "import scanpy as sc\n",
    "import pandas as pd\n",
    "import seaborn as sns\n",
    "import scvelo as scv\n",
    "import numpy as np\n",
    "from typing import Optional, Tuple, Collection, Union, List,Literal\n",
    "\n",
    "import torch\n",
    "\n",
    "import scipy\n",
    "from scipy import stats\n",
    "from scipy.spatial.distance import cdist\n",
    "from sklearn import datasets, linear_model\n",
    "from sklearn.linear_model import LinearRegression\n",
    "import statsmodels.api as sm\n",
    "from scipy.stats import wilcoxon\n",
    "\n",
    "## Visualize the effects through the barplot\n",
    "import matplotlib.pyplot as plt\n",
    "import seaborn as sns\n",
    "from matplotlib import cm, rcParams\n",
    "from matplotlib.colors import ListedColormap\n",
    "import mplscience\n",
    "\n",
    "import anndata\n",
    "from anndata import AnnData\n",
    "from scvelo import logging as logg\n",
    "\n",
    "import sys\n",
    "import cellrank as cr\n",
    "import os, shutil\n",
    "sys.path.append(\"../..\")\n",
    "from paths import FIG_DIR, DATA_DIR"
   ]
  },
  {
   "cell_type": "code",
   "execution_count": 2,
   "id": "e76df316-e29f-49e3-962e-e6d763e5b27a",
   "metadata": {
    "tags": []
   },
   "outputs": [
    {
     "name": "stderr",
     "output_type": "stream",
     "text": [
      "/home/wangweixu/miniconda3/envs/RegVelo/lib/python3.10/site-packages/torchvision/io/image.py:13: UserWarning: Failed to load image Python extension: '/home/wangweixu/miniconda3/envs/RegVelo/lib/python3.10/site-packages/torchvision/image.so: undefined symbol: _ZN3c106detail23torchInternalAssertFailEPKcS2_jS2_RKSs'If you don't plan on using image functionality from `torchvision.io`, you can ignore this warning. Otherwise, there might be something wrong with your environment. Did you have `libjpeg` or `libpng` installed before building `torchvision` from source?\n",
      "  warn(\n",
      "Global seed set to 0\n"
     ]
    }
   ],
   "source": [
    "from regvelovi import REGVELOVI\n",
    "from typing import Literal\n",
    "from velovi import preprocess_data, VELOVI"
   ]
  },
  {
   "cell_type": "markdown",
   "id": "4f3b0d17-ac01-42de-ac58-6d229415f717",
   "metadata": {},
   "source": [
    "## General setting"
   ]
  },
  {
   "cell_type": "code",
   "execution_count": 3,
   "id": "9051e739-f90d-4c48-b328-c529c8e0497e",
   "metadata": {
    "tags": []
   },
   "outputs": [],
   "source": [
    "sns.reset_defaults()\n",
    "sns.reset_orig()\n",
    "scv.settings.set_figure_params('scvelo', dpi_save=400, dpi=80, transparent=True, fontsize=10, color_map='viridis')"
   ]
  },
  {
   "cell_type": "code",
   "execution_count": 4,
   "id": "b613b5b4-b199-436c-9def-f6f03ad06dec",
   "metadata": {
    "tags": []
   },
   "outputs": [],
   "source": [
    "SAVE_FIGURES = True\n",
    "if SAVE_FIGURES:\n",
    "    os.makedirs(FIG_DIR / 'zebrafish' / 'benchmark' ,exist_ok = True)\n",
    "\n",
    "SAVE_DATASETS = True\n",
    "if SAVE_DATASETS:\n",
    "    os.makedirs(DATA_DIR / 'zebrafish' / 'benchmark' ,exist_ok = True)"
   ]
  },
  {
   "cell_type": "code",
   "execution_count": 5,
   "id": "d9662503-e155-457f-9968-45b13a25f166",
   "metadata": {
    "tags": []
   },
   "outputs": [],
   "source": [
    "plt.rcParams['svg.fonttype'] = 'none'"
   ]
  },
  {
   "cell_type": "markdown",
   "id": "6b26daf9-dbdf-4f1d-8b8a-dc6a152b53b1",
   "metadata": {},
   "source": [
    "## Function defination"
   ]
  },
  {
   "cell_type": "code",
   "execution_count": 6,
   "id": "7b357122-f50d-4ae0-a6e4-20e3e30db45c",
   "metadata": {
    "tags": []
   },
   "outputs": [],
   "source": [
    "def sanity_check(\n",
    "       adata,\n",
    "    ) -> anndata.AnnData:\n",
    "    \n",
    "    gene_name = adata.var.index.tolist()\n",
    "    full_name = adata.uns[\"regulators\"]\n",
    "    index = [i in gene_name for i in full_name]\n",
    "    full_name = full_name[index]\n",
    "    adata = adata[:,full_name].copy()\n",
    "\n",
    "    W = adata.uns[\"skeleton\"]\n",
    "    W = W[index,:]\n",
    "    W = W[:,index]\n",
    "\n",
    "    adata.uns[\"skeleton\"] = W \n",
    "    W = adata.uns[\"network\"]\n",
    "    W = W[index,:]\n",
    "    W = W[:,index]\n",
    "    #csgn = csgn[index,:,:]\n",
    "    #csgn = csgn[:,index,:]\n",
    "    adata.uns[\"network\"] = W\n",
    "\n",
    "    ###\n",
    "    for i in range(1000):\n",
    "        if adata.uns[\"skeleton\"].sum(0).min()>0:\n",
    "            break\n",
    "        else:\n",
    "            W = np.array(adata.uns[\"skeleton\"])\n",
    "            gene_name = adata.var.index.tolist()\n",
    "\n",
    "            indicator = W.sum(0) > 0 ## every gene would need to have a upstream regulators\n",
    "            regulators = [gene for gene, boolean in zip(gene_name, indicator) if boolean]\n",
    "            targets = [gene for gene, boolean in zip(gene_name, indicator) if boolean]\n",
    "            print(\"num regulators: \"+str(len(regulators)))\n",
    "            print(\"num targets: \"+str(len(targets)))\n",
    "            W = np.array(adata.uns[\"skeleton\"])\n",
    "            W = W[indicator,:]\n",
    "            W = W[:,indicator]\n",
    "            adata.uns[\"skeleton\"] = W\n",
    "\n",
    "            W = np.array(adata.uns[\"network\"])\n",
    "            W = W[indicator,:]\n",
    "            W = W[:,indicator]\n",
    "            adata.uns[\"network\"] = W\n",
    "\n",
    "            #csgn = csgn[indicator,:,:]\n",
    "            #csgn = csgn[:,indicator,:]\n",
    "            #adata.uns[\"csgn\"] = csgn\n",
    "\n",
    "            adata.uns[\"regulators\"] = regulators\n",
    "            adata.uns[\"targets\"] = targets\n",
    "\n",
    "            W = pd.DataFrame(adata.uns[\"skeleton\"],index = adata.uns[\"regulators\"],columns = adata.uns[\"targets\"])\n",
    "            W = W.loc[regulators,targets]\n",
    "            adata.uns[\"skeleton\"] = W\n",
    "            W = pd.DataFrame(adata.uns[\"network\"],index = adata.uns[\"regulators\"],columns = adata.uns[\"targets\"])\n",
    "            W = W.loc[regulators,targets]\n",
    "            adata.uns[\"network\"] = W\n",
    "            adata = adata[:,indicator].copy()\n",
    "\n",
    "    return adata\n",
    "\n",
    "def add_regvelo_outputs_to_adata(adata_raw, vae):\n",
    "    # This code is adapted on an implementation by Adam Gayoso, Philipp Weilier and Justing Hong from their repository:\n",
    "    # https://github.com/YosefLab/velovi_reproducibility\n",
    "    # Original function: fit_velovi() in https://github.com/YosefLab/velovi_reproducibility/blob/main/notebooks/estimation_comparison/model_fit.ipynb\n",
    "    # License: BSD-3-Clause license\n",
    "\n",
    "    latent_time = vae.get_latent_time(n_samples=30, time_statistic = \"mean\",batch_size = adata_raw.shape[0])\n",
    "    velocities = vae.get_velocity(n_samples=30, velo_statistic=\"mean\",batch_size = adata_raw.shape[0])\n",
    "\n",
    "    t = latent_time\n",
    "    scaling = 20 / t.max(0)\n",
    "    adata = adata_raw[:,vae.module.target_index].copy()\n",
    "    \n",
    "    adata.layers[\"velocity\"] = velocities / scaling\n",
    "    adata.layers[\"latent_time_regvelo\"] = latent_time\n",
    "    \n",
    "    adata.layers[\"fit_t\"] = latent_time.values * scaling[np.newaxis, :]\n",
    "    adata.var['fit_scaling'] = 1.0\n",
    "    \n",
    "    return adata\n",
    "\n",
    "def add_outputs_to_adata(adata, vae):\n",
    "    # This code is adapted on an implementation by Adam Gayoso, Philipp Weilier and Justing Hong from their repository:\n",
    "    # https://github.com/YosefLab/velovi_reproducibility\n",
    "    # Original function: fit_velovi() in https://github.com/YosefLab/velovi_reproducibility/blob/main/notebooks/estimation_comparison/model_fit.ipynb\n",
    "    # License: BSD-3-Clause license\n",
    "    \n",
    "    latent_time = vae.get_latent_time(n_samples=25)\n",
    "    velocities = vae.get_velocity(n_samples=25, velo_statistic=\"mean\")\n",
    "\n",
    "    t = latent_time\n",
    "    scaling = 20 / t.max(0)\n",
    "\n",
    "    adata.layers[\"velocity\"] = velocities / scaling\n",
    "    adata.layers[\"latent_time_velovi\"] = latent_time\n",
    "\n",
    "    adata.var[\"fit_alpha\"] = vae.get_rates()[\"alpha\"] / scaling\n",
    "    adata.var[\"fit_beta\"] = vae.get_rates()[\"beta\"] / scaling\n",
    "    adata.var[\"fit_gamma\"] = vae.get_rates()[\"gamma\"] / scaling\n",
    "    adata.var[\"fit_t_\"] = (\n",
    "        torch.nn.functional.softplus(vae.module.switch_time_unconstr)\n",
    "        .detach()\n",
    "        .cpu()\n",
    "        .numpy()\n",
    "    ) * scaling\n",
    "    adata.layers[\"fit_t\"] = latent_time.values * scaling[np.newaxis, :]\n",
    "    adata.var['fit_scaling'] = 1.0"
   ]
  },
  {
   "cell_type": "code",
   "execution_count": 7,
   "id": "c1489657-793d-4ec9-9af5-d7d92d7a8bbd",
   "metadata": {
    "tags": []
   },
   "outputs": [],
   "source": [
    "def generate_sequence(k, n):\n",
    "    sequence = list(range(1, k + 1))\n",
    "    \n",
    "    # If the length of the sequence is already >= n, trim it to n\n",
    "    if len(sequence) >= n:\n",
    "        return sequence[:n]\n",
    "    \n",
    "    # Fill the rest of the sequence with the number k\n",
    "    sequence.extend([k] * (n - len(sequence)))\n",
    "    \n",
    "    return sequence\n",
    "    \n",
    "def stair_vec(kernel,threshold,terminal_states,cluster_key,all_dict,max_states = 12):\n",
    "    pre_value = []\n",
    "    for num_macro in range(1,max_states):\n",
    "        try:\n",
    "            # Append the result to the list\n",
    "            kernel.compute_macrostates(n_states=num_macro,cluster_key=cluster_key)\n",
    "            kernel.predict_terminal_states(stability_threshold=threshold)\n",
    "            pre_terminal = kernel.terminal_states.cat.categories.tolist()\n",
    "            subset_dict = {key: all_dict[key] for key in pre_terminal}\n",
    "            pre_terminal_names = list(subset_dict.values())\n",
    "            pre_terminal_names = list(set(pre_terminal_names))\n",
    "            pre_value.append(len(set(pre_terminal_names).intersection(terminal_states)))\n",
    "        except Exception as e:\n",
    "            # Handle the error, print a message or take any other action\n",
    "            print(f\"Error: {e}\")\n",
    "            # Append 0 to the list as a placeholder for the error\n",
    "            pre_value.append(pre_value[len(pre_value)-1])\n",
    "        print(pre_value)\n",
    "    return pre_value\n",
    "    \n",
    "def TSI_score(points,cluster_key,terminal_states,kernel,all_dict,max_states=12):\n",
    "    x_values = range(0,max_states)\n",
    "    y_values = [0]+generate_sequence(len(terminal_states),max_states-1)\n",
    "    area_gs = 0\n",
    "    for i in range(len(x_values) - 1):\n",
    "        area_gs += (x_values[i + 1] - x_values[i]) * y_values[i]\n",
    "\n",
    "    tsi_score = []\n",
    "    for p in points:\n",
    "        pre_value = stair_vec(kernel,p,terminal_states,cluster_key,all_dict,max_states)\n",
    "        x_values = range(0,max_states)\n",
    "        y_values = [0]+pre_value\n",
    "        area_velo = 0\n",
    "        for i in range(len(x_values) - 1):\n",
    "            area_velo += (x_values[i + 1] - x_values[i]) * y_values[i]\n",
    "        tsi_score.append(area_velo/area_gs)\n",
    "    return tsi_score"
   ]
  },
  {
   "cell_type": "code",
   "execution_count": 8,
   "id": "33654de6-3289-4b1b-a637-d5ff1ca6b721",
   "metadata": {
    "tags": []
   },
   "outputs": [],
   "source": [
    "def get_significance(pvalue):\n",
    "    # This code is adapted on an implementation by Adam Gayoso, Philipp Weilier and Justing Hong from their repository:\n",
    "    # https://github.com/YosefLab/velovi_reproducibility\n",
    "    # Original function: get_significance() in https://github.com/YosefLab/velovi_reproducibility/blob/main/notebooks/estimation_comparison/fucci.ipynb\n",
    "    # License: BSD-3-Clause license\n",
    "\n",
    "    if pvalue < 0.001:\n",
    "        return \"***\"\n",
    "    elif pvalue < 0.01:\n",
    "        return \"**\"\n",
    "    elif pvalue < 0.1:\n",
    "        return \"*\"\n",
    "    else:\n",
    "        return \"n.s.\"\n",
    "\n",
    "def add_significance(ax, left: int, right: int, significance: str, level: int = 0, **kwargs):\n",
    "    # This code is adapted on an implementation by Adam Gayoso, Philipp Weilier and Justing Hong from their repository:\n",
    "    # https://github.com/YosefLab/velovi_reproducibility\n",
    "    # Original function: get_significance() in https://github.com/YosefLab/velovi_reproducibility/blob/main/notebooks/estimation_comparison/fucci.ipynb\n",
    "    # License: BSD-3-Clause license\n",
    "    \n",
    "    bracket_level = kwargs.pop(\"bracket_level\", 1)\n",
    "    bracket_height = kwargs.pop(\"bracket_height\", 0.02)\n",
    "    text_height = kwargs.pop(\"text_height\", 0.01)\n",
    "    \n",
    "    bottom, top = ax.get_ylim()\n",
    "    y_axis_range = top - bottom\n",
    "\n",
    "    bracket_level = (y_axis_range * 0.07 * level) + top * bracket_level\n",
    "    bracket_height = bracket_level - (y_axis_range * bracket_height)\n",
    "\n",
    "    ax.plot(\n",
    "        [left, left, right, right],\n",
    "        [bracket_height, bracket_level, bracket_level, bracket_height], **kwargs\n",
    "    )\n",
    "\n",
    "    \n",
    "    ax.text(\n",
    "        (left + right) * 0.5,\n",
    "        bracket_level + (y_axis_range * text_height),\n",
    "        significance,\n",
    "        ha='center',\n",
    "        va='bottom',\n",
    "        c='k'\n",
    "    )"
   ]
  },
  {
   "cell_type": "code",
   "execution_count": 9,
   "id": "b73c9f60-ee12-4398-9f04-f8263e52468f",
   "metadata": {
    "tags": []
   },
   "outputs": [],
   "source": [
    "def min_max_scaling(data):\n",
    "    # Compute min and max values for each feature\n",
    "    min_vals = np.min(data, axis=0)\n",
    "    max_vals = np.max(data, axis=0)\n",
    "    \n",
    "    # Perform min-max scaling\n",
    "    scaled_data = (data - min_vals) / (max_vals - min_vals)\n",
    "    \n",
    "    return scaled_data\n",
    "\n",
    "def plot_states(\n",
    "    adata,\n",
    "    estimator,\n",
    "    figsize,\n",
    "    which: Literal[\"macrostates\", \"terminal_states\"],\n",
    "    basis: str,\n",
    "    inplace: bool = False,\n",
    "    fpath: Optional[str] = None,\n",
    "    format: str = \"png\",\n",
    "    dpi: Union[int, str] = \"figure\",\n",
    "    **kwargs,\n",
    "):\n",
    "    # This code is adapted on an implementation by Marius Lange and Philipp Weilier et al. from their repository:\n",
    "    # https://github.com/theislab/cellrank\n",
    "    # Original function: plot_macrostates() in https://github.com/theislab/cellrank/blob/6b703342a0afb246b0b6784b780a1cfa98869725/src/cellrank/estimators/terminal_states/_term_states_estimator.py\n",
    "    # License: BSD-3-Clause license\n",
    "    \n",
    "    if not inplace:\n",
    "        adata = adata.copy()\n",
    "\n",
    "    states = getattr(estimator, which).cat.categories.tolist()\n",
    "    if which == \"macrostates\":\n",
    "        states = estimator._macrostates\n",
    "    elif which == \"terminal_states\":\n",
    "        states = estimator._term_states\n",
    "    state_names = states.assignment.cat.categories.tolist()\n",
    "\n",
    "    adata.obs[which] = states.assignment.astype(str).astype(\"category\").cat.reorder_categories([\"nan\"] + state_names)\n",
    "    if which == \"macrostates\":\n",
    "        adata.uns[f\"{which}_colors\"] = [\"#dedede\"] + states.colors\n",
    "    else:\n",
    "        adata.uns[f\"{which}_colors\"] = [\"#dedede\"] + states.colors.tolist()\n",
    "    fig, ax = plt.subplots(figsize=figsize)\n",
    "    scv.pl.scatter(\n",
    "        adata,\n",
    "        basis=basis,\n",
    "        c=which,\n",
    "        add_outline=state_names,\n",
    "        ax=ax,\n",
    "        **kwargs,\n",
    "    )\n",
    "    #plt.legend(loc='lower center', bbox_to_anchor=(0.5, -0.42), ncol=2,frameon=False)\n",
    "\n",
    "    if fpath is not None:\n",
    "        fig.savefig(fpath, format=format, transparent=True, bbox_inches=\"tight\", dpi=dpi)"
   ]
  },
  {
   "cell_type": "code",
   "execution_count": 10,
   "id": "ca16dfe4-6291-4ca6-bca9-de73ff10cc28",
   "metadata": {
    "tags": []
   },
   "outputs": [],
   "source": [
    "def prior_GRN(adata, gt_net):\n",
    "    regulator_index = [i in gt_net.columns for i in adata.var.index.values]\n",
    "    target_index = [i in gt_net.index for i in adata.var.index.values]\n",
    "\n",
    "    corr_m = 1 - cdist(adata.X.todense().T, adata.X.todense().T, metric='correlation')\n",
    "    corr_m = torch.tensor(corr_m)\n",
    "    corr_m = corr_m[target_index,]\n",
    "    corr_m = corr_m[:,regulator_index]\n",
    "    corr_m = corr_m.float()\n",
    "    \n",
    "    corr_m[np.isnan(corr_m)] = 0\n",
    "    corr_m = pd.DataFrame(corr_m, index = adata.var.index.values[target_index], columns = adata.var.index.values[regulator_index])\n",
    "    gt_net = gt_net.loc[corr_m.index,corr_m.columns]\n",
    "    GRN_final = gt_net * corr_m\n",
    "    GRN_final[abs(GRN_final)<0.01] = 0\n",
    "    GRN_final[GRN_final!=0] = 1\n",
    "    GRN_final = GRN_final.iloc[(GRN_final.sum(1) > 0).tolist(),(GRN_final.sum(0) > 0).tolist()]\n",
    "    for i in GRN_final.columns:\n",
    "        GRN_final.loc[i,i] = 0\n",
    "    GRN_final = GRN_final.iloc[(GRN_final.sum(1) > 0).tolist(),(GRN_final.sum(0) > 0).tolist()]\n",
    "    ### use the regulatory genes to perform velocity analysis\n",
    "    genes = np.unique(GRN_final.index.tolist()+GRN_final.columns.tolist())\n",
    "    W = torch.zeros((len(genes),len(genes)))\n",
    "    W = pd.DataFrame(W,index = genes,columns = genes)\n",
    "    W.loc[GRN_final.index.tolist(),GRN_final.columns.tolist()] = GRN_final\n",
    "    \n",
    "    adata = adata[:,genes].copy()\n",
    "    W = W.loc[adata.var.index.values.tolist(),adata.var.index.values.tolist()]\n",
    "       \n",
    "    adata.uns[\"regulators\"] = adata.var.index.values\n",
    "    adata.uns[\"targets\"] = adata.var.index.values\n",
    "    adata.uns[\"skeleton\"] = np.array(W)\n",
    "    adata.uns[\"network\"] = np.array(W)\n",
    "    \n",
    "    return adata"
   ]
  },
  {
   "cell_type": "markdown",
   "id": "701aa89e-ca29-4368-b00e-adb528ea4b56",
   "metadata": {},
   "source": [
    "## Load datasets"
   ]
  },
  {
   "cell_type": "code",
   "execution_count": 11,
   "id": "a077649a-85b5-4e9a-9830-5734ef0d8440",
   "metadata": {
    "tags": []
   },
   "outputs": [],
   "source": [
    "## load smart-seq3 datasets\n",
    "adata = sc.read_h5ad(\"RegVelo_datasets/zebrafish/adata_zebrafish_preprocessed.h5ad\")\n",
    "prior_net = pd.read_csv(\"RegVelo_datasets/zebrafish/prior_GRN.csv\",index_col = 0)\n",
    "TF_list = pd.read_csv(\"RegVelo_datasets/zebrafish/zebrafish_tfs.csv\",index_col = 0)"
   ]
  },
  {
   "cell_type": "code",
   "execution_count": 12,
   "id": "7bf571ef-d1fd-4af4-ab13-09da03a215c0",
   "metadata": {
    "tags": []
   },
   "outputs": [],
   "source": [
    "TF_list = TF_list.iloc[:,0].tolist()"
   ]
  },
  {
   "cell_type": "code",
   "execution_count": 13,
   "id": "368684d4-bc02-4f28-a0cc-5d004609b380",
   "metadata": {
    "tags": []
   },
   "outputs": [
    {
     "name": "stdout",
     "output_type": "stream",
     "text": [
      "computing neighbors\n"
     ]
    },
    {
     "name": "stderr",
     "output_type": "stream",
     "text": [
      "2024-08-30 20:30:53.863949: W tensorflow/compiler/tf2tensorrt/utils/py_utils.cc:38] TF-TRT Warning: Could not find TensorRT\n"
     ]
    },
    {
     "name": "stdout",
     "output_type": "stream",
     "text": [
      "    finished (0:00:06) --> added \n",
      "    'distances' and 'connectivities', weighted adjacency matrices (adata.obsp)\n",
      "computing moments based on connectivities\n",
      "    finished (0:00:00) --> added \n",
      "    'Ms' and 'Mu', moments of un/spliced abundances (adata.layers)\n"
     ]
    }
   ],
   "source": [
    "sc.tl.pca(adata)\n",
    "sc.pp.neighbors(adata, n_neighbors=30, n_pcs=50)\n",
    "scv.pp.moments(adata)\n",
    "#scv.pp.moments(adata, n_pcs=50, n_neighbors=30)"
   ]
  },
  {
   "cell_type": "code",
   "execution_count": 14,
   "id": "392a272b-1c60-4f2f-89c9-62040af268b7",
   "metadata": {
    "tags": []
   },
   "outputs": [
    {
     "data": {
      "image/png": "[encoded data removed]",
      "text/plain": [
       "<Figure size 480x320 with 1 Axes>"
      ]
     },
     "metadata": {
      "image/png": {
       "height": 273,
       "width": 390
      }
     },
     "output_type": "display_data"
    }
   ],
   "source": [
    "scv.pl.umap(adata, color='cell_type')"
   ]
  },
  {
   "cell_type": "markdown",
   "id": "164b7970-bc18-4ab1-974c-bf4f65b01cb0",
   "metadata": {},
   "source": [
    "## Visaulize known terminal states"
   ]
  },
  {
   "cell_type": "code",
   "execution_count": 15,
   "id": "ac6af625-9b48-45fb-90cc-6d3eaa331cb8",
   "metadata": {
    "tags": []
   },
   "outputs": [],
   "source": [
    "adata.obs[\"cell_type2\"] = adata.obs[\"cell_type\"].copy()\n",
    "adata.obs[\"cell_type2\"][~adata.obs[\"cell_type2\"].isin([\"NPB_nohox\",\"mNC_hox34\",\"Pigment\",\"mNC_head_mesenchymal\",\"mNC_arch2\"])] = np.nan"
   ]
  },
  {
   "cell_type": "code",
   "execution_count": 16,
   "id": "0990f765-dcf5-4012-bcb3-596f6ae848e0",
   "metadata": {
    "tags": []
   },
   "outputs": [],
   "source": [
    "adata.obs[\"cell_type2\"] = adata.obs[\"cell_type2\"].cat.remove_unused_categories()"
   ]
  },
  {
   "cell_type": "code",
   "execution_count": 17,
   "id": "5d9b5e41-1574-4037-b728-ee2267ba66e0",
   "metadata": {
    "tags": []
   },
   "outputs": [],
   "source": [
    "palette = dict(zip(adata.obs[\"cell_type\"].cat.categories, adata.uns[\"cell_type_colors\"]))\n",
    "subset_palette = {name: color for name, color in palette.items() if name in adata.obs[\"cell_type2\"].cat.categories.tolist()}"
   ]
  },
  {
   "cell_type": "code",
   "execution_count": 18,
   "id": "d2386d02-1f30-4f93-bce9-ef67d2171fe3",
   "metadata": {
    "tags": []
   },
   "outputs": [
    {
     "data": {
      "text/plain": [
       "['#bec1d4', '#d6bcc0', '#b5bbe3', '#e6afb9', '#e07b91']"
      ]
     },
     "execution_count": 18,
     "metadata": {},
     "output_type": "execute_result"
    }
   ],
   "source": [
    "list(subset_palette.values())"
   ]
  },
  {
   "cell_type": "code",
   "execution_count": 19,
   "id": "deee0579-2a6e-45f8-954a-d82b456f5aaa",
   "metadata": {
    "tags": []
   },
   "outputs": [
    {
     "data": {
      "image/png": "[encoded data removed]",
      "text/plain": [
       "<Figure size 320x240 with 1 Axes>"
      ]
     },
     "metadata": {
      "image/png": {
       "height": 216,
       "width": 265
      }
     },
     "output_type": "display_data"
    }
   ],
   "source": [
    "which = \"macrostates\"\n",
    "adata.obs[which] = adata.obs[\"cell_type2\"].copy()\n",
    "\n",
    "state_names = adata.obs[which].cat.categories.tolist()\n",
    "adata.obs[which] = adata.obs[which].astype(str).astype(\"category\").cat.reorder_categories([\"nan\"] + state_names)\n",
    "\n",
    "if which == \"macrostates\":\n",
    "    adata.uns[f\"{which}_colors\"] = [\"#dedede\"] + list(subset_palette.values())\n",
    "else:\n",
    "    adata.uns[f\"{which}_colors\"] = [\"#dedede\"] + list(subset_palette.values())\n",
    "state_names = adata.obs[which].cat.categories.tolist()[1:]\n",
    "\n",
    "\n",
    "with mplscience.style_context():\n",
    "    fig, ax = plt.subplots(figsize = (4,3))\n",
    "    scv.pl.scatter(\n",
    "        adata,\n",
    "        basis=\"umap\",\n",
    "        c=which,\n",
    "        add_outline=state_names,\n",
    "        ax=ax,\n",
    "        size = 60,\n",
    "    )\n",
    "    \n",
    "    if SAVE_FIGURES:\n",
    "        fig.savefig(\n",
    "            FIG_DIR / 'zebrafish' / 'benchmark' / 'INTRO_figure.svg',\n",
    "            format = 'svg',\n",
    "            transparent = True,\n",
    "            bbox_inches = 'tight'\n",
    "        )"
   ]
  },
  {
   "cell_type": "markdown",
   "id": "b987cbf6-d126-47ed-8f9f-47feb60a54f0",
   "metadata": {},
   "source": [
    "## Preprocessing"
   ]
  },
  {
   "cell_type": "code",
   "execution_count": 20,
   "id": "3a15db11-f700-4c30-bdc0-2b2c68df41b6",
   "metadata": {
    "tags": []
   },
   "outputs": [
    {
     "name": "stderr",
     "output_type": "stream",
     "text": [
      "/tmp/ipykernel_4966/665710336.py:11: UserWarning: masked_fill_ received a mask with dtype torch.uint8, this behavior is now deprecated,please use a mask with dtype torch.bool instead. (Triggered internally at /home/conda/feedstock_root/build_artifacts/pytorch-recipe_1680572619157/work/aten/src/ATen/native/TensorAdvancedIndexing.cpp:1772.)\n",
      "  corr_m[np.isnan(corr_m)] = 0\n"
     ]
    }
   ],
   "source": [
    "adata = prior_GRN(adata,prior_net)"
   ]
  },
  {
   "cell_type": "code",
   "execution_count": 21,
   "id": "a24fd1da-ea6c-4244-989e-6e5ca4ccc1bd",
   "metadata": {
    "tags": []
   },
   "outputs": [
    {
     "data": {
      "text/plain": [
       "AnnData object with n_obs × n_vars = 697 × 1783\n",
       "    obs: 'initial_size_unspliced', 'initial_size_spliced', 'initial_size', 'n_counts', 'cell_type', 'stage', 'cell_type2', 'macrostates'\n",
       "    var: 'Accession', 'Chromosome', 'End', 'Start', 'Strand', 'gene_count_corr'\n",
       "    uns: 'cell_type_colors', 'neighbors', 'macrostates_colors', 'regulators', 'targets', 'skeleton', 'network'\n",
       "    obsm: 'X_pca', 'X_umap'\n",
       "    layers: 'ambiguous', 'matrix', 'spliced', 'unspliced', 'Ms', 'Mu'\n",
       "    obsp: 'distances', 'connectivities'"
      ]
     },
     "execution_count": 21,
     "metadata": {},
     "output_type": "execute_result"
    }
   ],
   "source": [
    "adata_raw = adata.copy()\n",
    "adata"
   ]
  },
  {
   "cell_type": "code",
   "execution_count": 22,
   "id": "92d85686-a795-403c-9cd5-c3320e99ae66",
   "metadata": {
    "tags": []
   },
   "outputs": [
    {
     "name": "stdout",
     "output_type": "stream",
     "text": [
      "computing velocities\n",
      "    finished (0:00:00) --> added \n",
      "    'velocity', velocity vectors for each individual cell (adata.layers)\n",
      "num regulators: 986\n",
      "num targets: 986\n",
      "num regulators: 962\n",
      "num targets: 962\n",
      "num regulators: 952\n",
      "num targets: 952\n"
     ]
    }
   ],
   "source": [
    "adata = preprocess_data(adata,filter_on_r2 = True)\n",
    "adata = sanity_check(adata)"
   ]
  },
  {
   "cell_type": "code",
   "execution_count": 23,
   "id": "595a821a-9575-46a7-9825-9cd25dce50b9",
   "metadata": {
    "tags": []
   },
   "outputs": [],
   "source": [
    "df = pd.read_csv(\"RegVelo_datasets/zebrafish/new_tf.csv\",sep=\";\")\n",
    "gene_list = np.unique(df.iloc[:,0].tolist() + adata.var_names.tolist())"
   ]
  },
  {
   "cell_type": "code",
   "execution_count": 24,
   "id": "84a4ded3-d91d-4feb-887a-39fb45f6d577",
   "metadata": {
    "tags": []
   },
   "outputs": [],
   "source": [
    "gene_list = set(gene_list).intersection(adata_raw.var_names)\n",
    "gene_list = list(gene_list)"
   ]
  },
  {
   "cell_type": "code",
   "execution_count": 25,
   "id": "b33152cb-18df-4714-bfcd-7d701d810b64",
   "metadata": {
    "tags": []
   },
   "outputs": [
    {
     "data": {
      "text/plain": [
       "952"
      ]
     },
     "execution_count": 25,
     "metadata": {},
     "output_type": "execute_result"
    }
   ],
   "source": [
    "adata.var[\"velocity_genes\"].sum()"
   ]
  },
  {
   "cell_type": "code",
   "execution_count": 26,
   "id": "f25aeb9b-38d6-40b6-bf05-12f6af0394c4",
   "metadata": {
    "tags": []
   },
   "outputs": [
    {
     "name": "stdout",
     "output_type": "stream",
     "text": [
      "computing velocities\n",
      "    finished (0:00:00) --> added \n",
      "    'velocity', velocity vectors for each individual cell (adata.layers)\n",
      "num regulators: 961\n",
      "num targets: 961\n"
     ]
    }
   ],
   "source": [
    "adata = adata_raw[:,gene_list].copy()\n",
    "adata = preprocess_data(adata,filter_on_r2 = False)\n",
    "scv.tl.velocity(adata)\n",
    "adata = sanity_check(adata)"
   ]
  },
  {
   "cell_type": "code",
   "execution_count": 27,
   "id": "79c1050b-4e2f-4c0c-9c0f-cc4d2d271f50",
   "metadata": {
    "tags": []
   },
   "outputs": [
    {
     "name": "stdout",
     "output_type": "stream",
     "text": [
      "final number of TF: 73\n"
     ]
    }
   ],
   "source": [
    "TF_list = set(TF_list).intersection(adata.var_names)\n",
    "TF_list = list(TF_list)\n",
    "print(\"final number of TF: \"+str(len(TF_list)))"
   ]
  },
  {
   "cell_type": "code",
   "execution_count": 28,
   "id": "d792d940-244b-4c91-bcf5-5d39613601ce",
   "metadata": {
    "tags": []
   },
   "outputs": [],
   "source": [
    "W = adata.uns[\"skeleton\"].copy()\n",
    "W = torch.tensor(np.array(W))"
   ]
  },
  {
   "cell_type": "code",
   "execution_count": 29,
   "id": "2e38f781-611d-40c4-8008-7b15319ff52f",
   "metadata": {
    "tags": []
   },
   "outputs": [
    {
     "name": "stdout",
     "output_type": "stream",
     "text": [
      "network sparsity: 0.060938235\n"
     ]
    }
   ],
   "source": [
    "sparsity = W.sum() / ((W.sum(1) != 0).sum() * W.shape[0])\n",
    "print(\"network sparsity: \"+str(np.array(sparsity)))"
   ]
  },
  {
   "cell_type": "markdown",
   "id": "18414fcd-b6d4-40b9-9bb9-20f76eaf6a42",
   "metadata": {},
   "source": [
    "## Training scVelo and veloVI model"
   ]
  },
  {
   "cell_type": "code",
   "execution_count": 30,
   "id": "53d1d159-8dab-48c2-a507-07f3c3ed2555",
   "metadata": {
    "tags": []
   },
   "outputs": [
    {
     "name": "stdout",
     "output_type": "stream",
     "text": [
      "recovering dynamics (using 8/64 cores)\n"
     ]
    },
    {
     "data": {
      "application/vnd.jupyter.widget-view+json": {
       "model_id": "5b771432333e48409bdfe2edd2f33ae9",
       "version_major": 2,
       "version_minor": 0
      },
      "text/plain": [
       "  0%|          | 0/961 [00:00<?, ?gene/s]"
      ]
     },
     "metadata": {},
     "output_type": "display_data"
    },
    {
     "name": "stderr",
     "output_type": "stream",
     "text": [
      "/home/wangweixu/miniconda3/envs/RegVelo/lib/python3.10/site-packages/scvelo/tools/dynamical_model.py:721: VisibleDeprecationWarning: Creating an ndarray from ragged nested sequences (which is a list-or-tuple of lists-or-tuples-or ndarrays with different lengths or shapes) is deprecated. If you meant to do this, you must specify 'dtype=object' when creating the ndarray.\n",
      "  np.array([dm.alpha, dm.beta, dm.gamma, dm.pars[:3]]) / dm.m[-1]\n",
      "/home/wangweixu/miniconda3/envs/RegVelo/lib/python3.10/site-packages/scvelo/tools/dynamical_model.py:724: VisibleDeprecationWarning: Creating an ndarray from ragged nested sequences (which is a list-or-tuple of lists-or-tuples-or ndarrays with different lengths or shapes) is deprecated. If you meant to do this, you must specify 'dtype=object' when creating the ndarray.\n",
      "  np.array([dm.t, dm.tau, dm.t_, dm.pars[4]]) * dm.m[-1]\n"
     ]
    },
    {
     "name": "stdout",
     "output_type": "stream",
     "text": [
      "    finished (0:01:26) --> added \n",
      "    'fit_pars', fitted parameters for splicing dynamics (adata.var)\n",
      "computing velocities\n",
      "    finished (0:00:00) --> added \n",
      "    'velocity', velocity vectors for each individual cell (adata.layers)\n"
     ]
    }
   ],
   "source": [
    "adata_scv = adata.copy()\n",
    "scv.tl.recover_dynamics(\n",
    "        adata_scv, fit_scaling=False, var_names=adata_scv.var_names, n_jobs=8\n",
    "    )\n",
    "adata_scv.var[\"fit_scaling\"] = 1.0\n",
    "scv.tl.velocity(adata_scv, mode=\"dynamical\", min_likelihood=-np.inf, min_r2=None)"
   ]
  },
  {
   "cell_type": "code",
   "execution_count": 31,
   "id": "effb16cd-1e5c-4d44-a8d6-3afe413897c3",
   "metadata": {
    "tags": []
   },
   "outputs": [
    {
     "name": "stderr",
     "output_type": "stream",
     "text": [
      "GPU available: True (cuda), used: True\n",
      "TPU available: False, using: 0 TPU cores\n",
      "IPU available: False, using: 0 IPUs\n",
      "HPU available: False, using: 0 HPUs\n",
      "You are using a CUDA device ('GeForce RTX 3090') that has Tensor Cores. To properly utilize them, you should set `torch.set_float32_matmul_precision('medium' | 'high')` which will trade-off precision for performance. For more details, read https://pytorch.org/docs/stable/generated/torch.set_float32_matmul_precision.html#torch.set_float32_matmul_precision\n",
      "LOCAL_RANK: 0 - CUDA_VISIBLE_DEVICES: [0]\n",
      "/home/wangweixu/miniconda3/envs/RegVelo/lib/python3.10/site-packages/pytorch_lightning/trainer/trainer.py:1609: PossibleUserWarning: The number of training batches (3) is smaller than the logging interval Trainer(log_every_n_steps=10). Set a lower value for log_every_n_steps if you want to see logs for the training epoch.\n",
      "  rank_zero_warn(\n"
     ]
    },
    {
     "name": "stdout",
     "output_type": "stream",
     "text": [
      "Epoch 500/500: 100%|██████████| 500/500 [00:35<00:00, 15.30it/s, loss=-1.72e+03, v_num=1]"
     ]
    },
    {
     "name": "stderr",
     "output_type": "stream",
     "text": [
      "`Trainer.fit` stopped: `max_epochs=500` reached.\n"
     ]
    },
    {
     "name": "stdout",
     "output_type": "stream",
     "text": [
      "Epoch 500/500: 100%|██████████| 500/500 [00:35<00:00, 14.08it/s, loss=-1.72e+03, v_num=1]\n"
     ]
    }
   ],
   "source": [
    "VELOVI.setup_anndata(adata, spliced_layer=\"Ms\", unspliced_layer=\"Mu\")\n",
    "vae = VELOVI(adata)\n",
    "vae.train()"
   ]
  },
  {
   "cell_type": "code",
   "execution_count": 32,
   "id": "2a095891-ff4c-4f58-85e1-8618c1fd3f7a",
   "metadata": {
    "tags": []
   },
   "outputs": [],
   "source": [
    "adata_velovi = adata.copy()\n",
    "add_outputs_to_adata(adata_velovi, vae)"
   ]
  },
  {
   "cell_type": "markdown",
   "id": "305f3e69-7dd7-418c-b70f-365bf108f0c4",
   "metadata": {},
   "source": [
    "## Training RegVelo model"
   ]
  },
  {
   "cell_type": "code",
   "execution_count": 33,
   "id": "33ca055e-8114-44fe-a7d1-b9f62bac43e9",
   "metadata": {
    "tags": []
   },
   "outputs": [],
   "source": [
    "REGVELOVI.setup_anndata(adata, spliced_layer=\"Ms\", unspliced_layer=\"Mu\")\n",
    "reg_vae = REGVELOVI(adata,W=W.T,soft_constraint = False,regulators = TF_list)"
   ]
  },
  {
   "cell_type": "code",
   "execution_count": 34,
   "id": "65262ef1-4c8b-4645-b00e-3d60dd5761ca",
   "metadata": {
    "tags": []
   },
   "outputs": [
    {
     "name": "stderr",
     "output_type": "stream",
     "text": [
      "GPU available: True (cuda), used: True\n",
      "TPU available: False, using: 0 TPU cores\n",
      "IPU available: False, using: 0 IPUs\n",
      "HPU available: False, using: 0 HPUs\n",
      "You are using a CUDA device ('GeForce RTX 3090') that has Tensor Cores. To properly utilize them, you should set `torch.set_float32_matmul_precision('medium' | 'high')` which will trade-off precision for performance. For more details, read https://pytorch.org/docs/stable/generated/torch.set_float32_matmul_precision.html#torch.set_float32_matmul_precision\n",
      "LOCAL_RANK: 0 - CUDA_VISIBLE_DEVICES: [0]\n",
      "/home/wangweixu/miniconda3/envs/RegVelo/lib/python3.10/site-packages/pytorch_lightning/trainer/trainer.py:1609: PossibleUserWarning: The number of training batches (1) is smaller than the logging interval Trainer(log_every_n_steps=10). Set a lower value for log_every_n_steps if you want to see logs for the training epoch.\n",
      "  rank_zero_warn(\n"
     ]
    },
    {
     "name": "stdout",
     "output_type": "stream",
     "text": [
      "Epoch 1341/1500:  89%|████████▉ | 1341/1500 [10:07<01:12,  2.21it/s, loss=-2.23e+03, v_num=1]\n",
      "Monitored metric elbo_validation did not improve in the last 45 records. Best score: -2326.287. Signaling Trainer to stop.\n"
     ]
    }
   ],
   "source": [
    "reg_vae.train()"
   ]
  },
  {
   "cell_type": "code",
   "execution_count": 35,
   "id": "4c26645c-b95e-412c-952a-c2532e2d8737",
   "metadata": {
    "tags": []
   },
   "outputs": [],
   "source": [
    "adata_target = add_regvelo_outputs_to_adata(adata, reg_vae)"
   ]
  },
  {
   "cell_type": "code",
   "execution_count": 36,
   "id": "4940fb4e-c6b1-4ef8-9d5a-b398af96ace2",
   "metadata": {
    "tags": []
   },
   "outputs": [
    {
     "name": "stdout",
     "output_type": "stream",
     "text": [
      "computing velocity graph (using 1/64 cores)\n"
     ]
    },
    {
     "data": {
      "application/vnd.jupyter.widget-view+json": {
       "model_id": "3608a0a656834eb386f22b83b5872aa6",
       "version_major": 2,
       "version_minor": 0
      },
      "text/plain": [
       "  0%|          | 0/697 [00:00<?, ?cells/s]"
      ]
     },
     "metadata": {},
     "output_type": "display_data"
    },
    {
     "name": "stdout",
     "output_type": "stream",
     "text": [
      "    finished (0:00:01) --> added \n",
      "    'velocity_graph', sparse matrix with cosine correlations (adata.uns)\n"
     ]
    },
    {
     "name": "stderr",
     "output_type": "stream",
     "text": [
      "/home/wangweixu/miniconda3/envs/RegVelo/lib/python3.10/site-packages/scvelo/core/_parallelize.py:138: VisibleDeprecationWarning: Creating an ndarray from ragged nested sequences (which is a list-or-tuple of lists-or-tuples-or ndarrays with different lengths or shapes) is deprecated. If you meant to do this, you must specify 'dtype=object' when creating the ndarray.\n",
      "  res = np.array(res) if as_array else res\n"
     ]
    }
   ],
   "source": [
    "scv.tl.velocity_graph(adata_target)"
   ]
  },
  {
   "cell_type": "code",
   "execution_count": 37,
   "id": "673d7146-42fc-4f21-bcdb-fa62a715e060",
   "metadata": {},
   "outputs": [],
   "source": [
    "adata_target.obs[\"latent_time\"] = min_max_scaling(adata_target.layers[\"fit_t\"].mean(1))"
   ]
  },
  {
   "cell_type": "code",
   "execution_count": 38,
   "id": "007c37d4-6b69-4bf2-b4f4-d24e26ec33a0",
   "metadata": {
    "tags": []
   },
   "outputs": [
    {
     "data": {
      "image/png": "[encoded data removed]",
      "text/plain": [
       "<Figure size 320x240 with 2 Axes>"
      ]
     },
     "metadata": {
      "image/png": {
       "height": 211,
       "width": 278
      }
     },
     "output_type": "display_data"
    }
   ],
   "source": [
    "with mplscience.style_context():\n",
    "    fig, ax = plt.subplots(figsize = (4,3))\n",
    "    sc.pl.umap(\n",
    "        adata = adata_target, \n",
    "        color=\"latent_time\",\n",
    "        title=\"\",\n",
    "        frameon = False,\n",
    "        legend_fontsize = 14,\n",
    "        ax = ax\n",
    "    )\n",
    "    \n",
    "    if SAVE_FIGURES:\n",
    "        fig.savefig(\n",
    "            FIG_DIR / 'zebrafish' / 'benchmark' / 'latent_time.svg',\n",
    "            format = 'svg',\n",
    "            transparent = True,\n",
    "            bbox_inches = 'tight'\n",
    "        )"
   ]
  },
  {
   "cell_type": "code",
   "execution_count": 39,
   "id": "aefb4a1a-f425-43e3-800f-cb9303a3836d",
   "metadata": {
    "tags": []
   },
   "outputs": [],
   "source": [
    "df4 = pd.DataFrame({\"stage\":adata.obs[\"stage\"].tolist(),\n",
    "                   \"latent_time\":adata_target.obs[\"latent_time\"].tolist()})"
   ]
  },
  {
   "cell_type": "code",
   "execution_count": 40,
   "id": "efa92059-1823-44a6-9bdc-058b577ed0c9",
   "metadata": {
    "tags": []
   },
   "outputs": [],
   "source": [
    "adata.obs[\"stage_num\"] = 0\n",
    "adata.obs[\"stage_num\"][adata.obs[\"stage\"].isin([\"3ss\"])] = 3\n",
    "adata.obs[\"stage_num\"][adata.obs[\"stage\"].isin([\"6-7ss\"])] = 6.5\n",
    "adata.obs[\"stage_num\"][adata.obs[\"stage\"].isin([\"10ss\"])] = 10\n",
    "adata.obs[\"stage_num\"][adata.obs[\"stage\"].isin([\"12-13ss\"])] = 12.5\n",
    "adata.obs[\"stage_num\"][adata.obs[\"stage\"].isin([\"17-18ss\"])] = 17.5\n",
    "adata.obs[\"stage_num\"][adata.obs[\"stage\"].isin([\"21-22ss\"])] = 21.5"
   ]
  },
  {
   "cell_type": "code",
   "execution_count": 41,
   "id": "b2b03436-08e3-4c1e-b38d-1f21f6cda1a7",
   "metadata": {
    "tags": []
   },
   "outputs": [
    {
     "data": {
      "image/png": "[encoded data removed]",
      "text/plain": [
       "<Figure size 480x320 with 1 Axes>"
      ]
     },
     "metadata": {
      "image/png": {
       "height": 290,
       "width": 428
      }
     },
     "output_type": "display_data"
    }
   ],
   "source": [
    "order = [\"3ss\",\"6-7ss\",\"10ss\",\"12-13ss\",\"17-18ss\",\"21-22ss\"]\n",
    "sns.boxplot(data = df4,x = \"stage\",y = \"latent_time\", order=order)\n",
    "plt.show()"
   ]
  },
  {
   "cell_type": "code",
   "execution_count": 42,
   "id": "bec30049-af69-4290-b6c9-45fd4673aa78",
   "metadata": {
    "tags": []
   },
   "outputs": [
    {
     "data": {
      "text/plain": [
       "SignificanceResult(statistic=0.7827120331914074, pvalue=2.8668793269867696e-145)"
      ]
     },
     "execution_count": 42,
     "metadata": {},
     "output_type": "execute_result"
    }
   ],
   "source": [
    "scipy.stats.spearmanr(adata.obs[\"stage_num\"].tolist(),adata_target.obs[\"latent_time\"].tolist())"
   ]
  },
  {
   "cell_type": "code",
   "execution_count": 43,
   "id": "e3bfe0b7-f7b4-4c66-88d6-d94e4fcbf55f",
   "metadata": {
    "tags": []
   },
   "outputs": [
    {
     "data": {
      "image/png": "[encoded data removed]",
      "text/plain": [
       "<Figure size 480x320 with 1 Axes>"
      ]
     },
     "metadata": {
      "image/png": {
       "height": 305,
       "width": 447
      }
     },
     "output_type": "display_data"
    }
   ],
   "source": [
    "loc = [0, 1, 2, 3, 4,5]\n",
    "#loc.reverse()\n",
    "#loc\n",
    "label = [\"3\",\"6-7\",\"10\",\"12-13\",\"17-18\",\"21-22\"]\n",
    "\n",
    "with mplscience.style_context():\n",
    "    sns.set_style(style=\"whitegrid\")\n",
    "    fig, ax = plt.subplots(figsize=(6,4))\n",
    "    order = [\"3ss\",\"6-7ss\",\"10ss\",\"12-13ss\",\"17-18ss\",\"21-22ss\"]\n",
    "    sns.boxplot(data = df4,x = \"stage\",y = \"latent_time\", order=order,color='grey',ax = ax)\n",
    "    # Set labels and title\n",
    "    plt.ylabel('Stage', fontsize=16)\n",
    "    plt.xlabel('Estimated latent time', fontsize=16)\n",
    "\n",
    "    # Enlarge the numbers on the axes\n",
    "    #plt.gca().spines['top'].set_visible(False)  # Hide the top spine\n",
    "    plt.gca().spines['right'].set_visible(False)  # Hide the right spine\n",
    "\n",
    "    plt.xticks(ticks=loc, labels=label)  # Replace ticks with new labels\n",
    "    plt.xticks(fontsize=16)\n",
    "    plt.yticks(fontsize=16)\n",
    "    #ax.set_xticklabels(ax.get_xticklabels(), rotation=30, ha='right')\n",
    "\n",
    "    plt.show()\n",
    "    \n",
    "    if SAVE_FIGURES:\n",
    "        fig.savefig(\n",
    "            FIG_DIR / 'zebrafish' / 'benchmark' / 'latent_time_boxplot.svg',\n",
    "            format = 'svg',\n",
    "            transparent = True,\n",
    "            bbox_inches = 'tight'\n",
    "        )"
   ]
  },
  {
   "cell_type": "code",
   "execution_count": 44,
   "id": "010795af-89c3-48a9-831c-c717256adfb7",
   "metadata": {
    "tags": []
   },
   "outputs": [],
   "source": [
    "### perform perturbation prediction\n",
    "terminal_states = [\n",
    "        \"mNC_head_mesenchymal\",\n",
    "        \"mNC_arch2\",\n",
    "        \"mNC_hox34\",\n",
    "        \"Pigment\",\n",
    "    ]\n",
    "\n",
    "all_states = list(set(adata_target.obs[\"cell_type\"].tolist()))\n",
    "\n",
    "all_id = all_states.copy()\n",
    "all_type = all_states.copy()\n",
    "for i in all_states:\n",
    "    for j in [1,2,3,4,5,6,7,8,9,10]:\n",
    "        all_id.append(i+\"_\"+str(j))\n",
    "        all_type.append(i)\n",
    "all_dict = dict(zip(all_id, all_type))"
   ]
  },
  {
   "cell_type": "code",
   "execution_count": 45,
   "id": "f044c58c-9971-4291-8b80-e0943291bf27",
   "metadata": {
    "tags": []
   },
   "outputs": [
    {
     "data": {
      "application/vnd.jupyter.widget-view+json": {
       "model_id": "50a79c3edae34e2191c631437fd09768",
       "version_major": 2,
       "version_minor": 0
      },
      "text/plain": [
       "  0%|          | 0/697 [00:00<?, ?cell/s]"
      ]
     },
     "metadata": {},
     "output_type": "display_data"
    },
    {
     "data": {
      "application/vnd.jupyter.widget-view+json": {
       "model_id": "a8cc75e06d004fa09311a7a37072deaf",
       "version_major": 2,
       "version_minor": 0
      },
      "text/plain": [
       "  0%|          | 0/697 [00:00<?, ?cell/s]"
      ]
     },
     "metadata": {},
     "output_type": "display_data"
    },
    {
     "data": {
      "text/plain": [
       "GPCCA[kernel=VelocityKernel[n=697], initial_states=None, terminal_states=None]"
      ]
     },
     "execution_count": 45,
     "metadata": {},
     "output_type": "execute_result"
    }
   ],
   "source": [
    "## compute cellrank graph\n",
    "n_states = 8\n",
    "vk = cr.kernels.VelocityKernel(adata_target)\n",
    "vk.compute_transition_matrix()\n",
    "ck = cr.kernels.ConnectivityKernel(adata_target).compute_transition_matrix()\n",
    "g = cr.estimators.GPCCA(vk)\n",
    "## evaluate the fate prob on original space\n",
    "g.compute_macrostates(n_states=n_states, n_cells = 30,cluster_key=\"cell_type\")"
   ]
  },
  {
   "cell_type": "code",
   "execution_count": 46,
   "id": "6c16a66d-f001-4f5a-b91f-009b6ef9363a",
   "metadata": {
    "tags": []
   },
   "outputs": [
    {
     "data": {
      "text/plain": [
       "GPCCA[kernel=VelocityKernel[n=697], initial_states=None, terminal_states=['Pigment', 'mNC_arch2', 'mNC_head_mesenchymal', 'mNC_hox34']]"
      ]
     },
     "execution_count": 46,
     "metadata": {},
     "output_type": "execute_result"
    }
   ],
   "source": [
    "g.set_terminal_states(terminal_states)"
   ]
  },
  {
   "cell_type": "code",
   "execution_count": 47,
   "id": "c381eff3-85fb-471b-b6b1-fd94aab95582",
   "metadata": {
    "tags": []
   },
   "outputs": [
    {
     "data": {
      "image/png": "[encoded data removed]",
      "text/plain": [
       "<Figure size 320x240 with 1 Axes>"
      ]
     },
     "metadata": {
      "image/png": {
       "height": 198,
       "width": 416
      }
     },
     "output_type": "display_data"
    }
   ],
   "source": [
    "if SAVE_FIGURES:\n",
    "    plot_states(\n",
    "            adata_target,\n",
    "            estimator=g,\n",
    "            figsize = (4,3),\n",
    "            which=\"terminal_states\",\n",
    "            basis=\"umap\",\n",
    "            legend_loc=\"right\",\n",
    "            title=\"\",\n",
    "            size=100,\n",
    "            fpath = FIG_DIR / \"zebrafish\" / \"benchmark\" / \"terminal_state.svg\",\n",
    "            dpi = 400,\n",
    "            format = \"svg\"\n",
    "        )"
   ]
  },
  {
   "cell_type": "markdown",
   "id": "6a1020fe-d114-4aad-b4a0-bf3b18a8cdf0",
   "metadata": {},
   "source": [
    "## Terminal state prediction benchmark"
   ]
  },
  {
   "cell_type": "code",
   "execution_count": 48,
   "id": "90edb195-294c-44de-bd23-a0867b01b7c6",
   "metadata": {
    "tags": []
   },
   "outputs": [
    {
     "data": {
      "application/vnd.jupyter.widget-view+json": {
       "model_id": "5b0f2eca72ca474590ec1278e9c17d0b",
       "version_major": 2,
       "version_minor": 0
      },
      "text/plain": [
       "  0%|          | 0/697 [00:00<?, ?cell/s]"
      ]
     },
     "metadata": {},
     "output_type": "display_data"
    },
    {
     "data": {
      "application/vnd.jupyter.widget-view+json": {
       "model_id": "dbf15afc0f754ed483474ef317e052ff",
       "version_major": 2,
       "version_minor": 0
      },
      "text/plain": [
       "  0%|          | 0/697 [00:00<?, ?cell/s]"
      ]
     },
     "metadata": {},
     "output_type": "display_data"
    },
    {
     "data": {
      "application/vnd.jupyter.widget-view+json": {
       "model_id": "269ba3d139894b068ef35a4f8b90f026",
       "version_major": 2,
       "version_minor": 0
      },
      "text/plain": [
       "  0%|          | 0/697 [00:00<?, ?cell/s]"
      ]
     },
     "metadata": {},
     "output_type": "display_data"
    },
    {
     "data": {
      "application/vnd.jupyter.widget-view+json": {
       "model_id": "dfd16b13ec874ea096db9e12fb64240a",
       "version_major": 2,
       "version_minor": 0
      },
      "text/plain": [
       "  0%|          | 0/697 [00:00<?, ?cell/s]"
      ]
     },
     "metadata": {},
     "output_type": "display_data"
    },
    {
     "data": {
      "application/vnd.jupyter.widget-view+json": {
       "model_id": "2b3d1d5a0ecc49fab9cdb8efe17ecc70",
       "version_major": 2,
       "version_minor": 0
      },
      "text/plain": [
       "  0%|          | 0/697 [00:00<?, ?cell/s]"
      ]
     },
     "metadata": {},
     "output_type": "display_data"
    },
    {
     "name": "stderr",
     "output_type": "stream",
     "text": [
      "[0]PETSC ERROR: ------------------------------------------------------------------------\n",
      "[0]PETSC ERROR: Caught signal number 13 Broken Pipe: Likely while reading or writing to a socket\n",
      "[0]PETSC ERROR: Try option -start_in_debugger or -on_error_attach_debugger\n",
      "[0]PETSC ERROR: or see https://petsc.org/release/faq/#valgrind and https://petsc.org/release/faq/\n",
      "[0]PETSC ERROR: configure using --with-debugging=yes, recompile, link, and run \n",
      "[0]PETSC ERROR: to get more information on the crash.\n"
     ]
    },
    {
     "data": {
      "application/vnd.jupyter.widget-view+json": {
       "model_id": "f65bb97b6bc34ba99779861ae6086834",
       "version_major": 2,
       "version_minor": 0
      },
      "text/plain": [
       "  0%|          | 0/697 [00:00<?, ?cell/s]"
      ]
     },
     "metadata": {},
     "output_type": "display_data"
    }
   ],
   "source": [
    "## build kernel matrix\n",
    "vk = cr.kernels.VelocityKernel(adata_target)\n",
    "vk.compute_transition_matrix()\n",
    "ck = cr.kernels.ConnectivityKernel(adata_target).compute_transition_matrix()\n",
    "rgv_g = cr.estimators.GPCCA(vk)\n",
    "\n",
    "vk = cr.kernels.VelocityKernel(adata_velovi)\n",
    "vk.compute_transition_matrix()\n",
    "ck = cr.kernels.ConnectivityKernel(adata_velovi).compute_transition_matrix()\n",
    "vi_g = cr.estimators.GPCCA(vk)\n",
    "\n",
    "vk = cr.kernels.VelocityKernel(adata_scv)\n",
    "vk.compute_transition_matrix()\n",
    "ck = cr.kernels.ConnectivityKernel(adata_scv).compute_transition_matrix()\n",
    "scv_g = cr.estimators.GPCCA(vk)"
   ]
  },
  {
   "cell_type": "code",
   "execution_count": 49,
   "id": "80dd9c2f-846f-4618-80e6-bed38c23359d",
   "metadata": {
    "tags": []
   },
   "outputs": [
    {
     "name": "stderr",
     "output_type": "stream",
     "text": [
      "WARNING: Found only one macrostate, making it the singular terminal state\n",
      "WARNING: Requested more macrostates `3` than available Schur vectors `2`. Recomputing the decomposition\n",
      "WARNING: Requested more macrostates `4` than available Schur vectors `3`. Recomputing the decomposition\n"
     ]
    },
    {
     "name": "stdout",
     "output_type": "stream",
     "text": [
      "[1]\n",
      "[1, 2]\n",
      "[1, 2, 2]\n"
     ]
    },
    {
     "name": "stderr",
     "output_type": "stream",
     "text": [
      "WARNING: Requested more macrostates `5` than available Schur vectors `4`. Recomputing the decomposition\n",
      "WARNING: Requested more macrostates `6` than available Schur vectors `5`. Recomputing the decomposition\n"
     ]
    },
    {
     "name": "stdout",
     "output_type": "stream",
     "text": [
      "[1, 2, 2, 2]\n",
      "[1, 2, 2, 2, 3]\n"
     ]
    },
    {
     "name": "stderr",
     "output_type": "stream",
     "text": [
      "WARNING: Requested more macrostates `7` than available Schur vectors `6`. Recomputing the decomposition\n"
     ]
    },
    {
     "name": "stdout",
     "output_type": "stream",
     "text": [
      "[1, 2, 2, 2, 3, 4]\n"
     ]
    },
    {
     "name": "stderr",
     "output_type": "stream",
     "text": [
      "WARNING: Requested more macrostates `8` than available Schur vectors `7`. Recomputing the decomposition\n"
     ]
    },
    {
     "name": "stdout",
     "output_type": "stream",
     "text": [
      "[1, 2, 2, 2, 3, 4, 4]\n"
     ]
    },
    {
     "name": "stderr",
     "output_type": "stream",
     "text": [
      "WARNING: Requested more macrostates `9` than available Schur vectors `8`. Recomputing the decomposition\n"
     ]
    },
    {
     "name": "stdout",
     "output_type": "stream",
     "text": [
      "[1, 2, 2, 2, 3, 4, 4, 4]\n"
     ]
    },
    {
     "name": "stderr",
     "output_type": "stream",
     "text": [
      "WARNING: The following terminal states have different number of cells than requested (30): {'dNC_hoxa2b': 27}\n",
      "WARNING: Requested more macrostates `10` than available Schur vectors `9`. Recomputing the decomposition\n"
     ]
    },
    {
     "name": "stdout",
     "output_type": "stream",
     "text": [
      "[1, 2, 2, 2, 3, 4, 4, 4, 4]\n"
     ]
    },
    {
     "name": "stderr",
     "output_type": "stream",
     "text": [
      "WARNING: Requested more macrostates `11` than available Schur vectors `10`. Recomputing the decomposition\n"
     ]
    },
    {
     "name": "stdout",
     "output_type": "stream",
     "text": [
      "[1, 2, 2, 2, 3, 4, 4, 4, 4, 4]\n"
     ]
    },
    {
     "name": "stderr",
     "output_type": "stream",
     "text": [
      "WARNING: The following terminal states have different number of cells than requested (30): {'mNC_arch2_1': 6}\n",
      "WARNING: Found only one macrostate, making it the singular terminal state\n"
     ]
    },
    {
     "name": "stdout",
     "output_type": "stream",
     "text": [
      "[1, 2, 2, 2, 3, 4, 4, 4, 4, 4, 4]\n",
      "[1]\n",
      "[1, 2]\n",
      "[1, 2, 2]\n",
      "[1, 2, 2, 2]\n",
      "[1, 2, 2, 2, 3]\n",
      "[1, 2, 2, 2, 3, 4]\n",
      "[1, 2, 2, 2, 3, 4, 4]\n",
      "[1, 2, 2, 2, 3, 4, 4, 4]\n"
     ]
    },
    {
     "name": "stderr",
     "output_type": "stream",
     "text": [
      "WARNING: The following terminal states have different number of cells than requested (30): {'dNC_hoxa2b': 27}\n"
     ]
    },
    {
     "name": "stdout",
     "output_type": "stream",
     "text": [
      "[1, 2, 2, 2, 3, 4, 4, 4, 4]\n",
      "[1, 2, 2, 2, 3, 4, 4, 4, 4, 4]\n"
     ]
    },
    {
     "name": "stderr",
     "output_type": "stream",
     "text": [
      "WARNING: The following terminal states have different number of cells than requested (30): {'mNC_arch2_1': 6}\n",
      "WARNING: Found only one macrostate, making it the singular terminal state\n"
     ]
    },
    {
     "name": "stdout",
     "output_type": "stream",
     "text": [
      "[1, 2, 2, 2, 3, 4, 4, 4, 4, 4, 4]\n",
      "[1]\n",
      "[1, 2]\n",
      "[1, 2, 2]\n",
      "[1, 2, 2, 2]\n",
      "[1, 2, 2, 2, 3]\n",
      "[1, 2, 2, 2, 3, 4]\n",
      "[1, 2, 2, 2, 3, 4, 4]\n",
      "[1, 2, 2, 2, 3, 4, 4, 4]\n"
     ]
    },
    {
     "name": "stderr",
     "output_type": "stream",
     "text": [
      "WARNING: The following terminal states have different number of cells than requested (30): {'dNC_hoxa2b': 27}\n"
     ]
    },
    {
     "name": "stdout",
     "output_type": "stream",
     "text": [
      "[1, 2, 2, 2, 3, 4, 4, 4, 4]\n",
      "[1, 2, 2, 2, 3, 4, 4, 4, 4, 4]\n"
     ]
    },
    {
     "name": "stderr",
     "output_type": "stream",
     "text": [
      "WARNING: The following terminal states have different number of cells than requested (30): {'mNC_arch2_1': 6}\n",
      "WARNING: Found only one macrostate, making it the singular terminal state\n"
     ]
    },
    {
     "name": "stdout",
     "output_type": "stream",
     "text": [
      "[1, 2, 2, 2, 3, 4, 4, 4, 4, 4, 4]\n",
      "[1]\n",
      "[1, 2]\n",
      "[1, 2, 2]\n",
      "[1, 2, 2, 2]\n",
      "[1, 2, 2, 2, 3]\n",
      "[1, 2, 2, 2, 3, 4]\n",
      "[1, 2, 2, 2, 3, 4, 4]\n",
      "[1, 2, 2, 2, 3, 4, 4, 4]\n"
     ]
    },
    {
     "name": "stderr",
     "output_type": "stream",
     "text": [
      "WARNING: The following terminal states have different number of cells than requested (30): {'dNC_hoxa2b': 27}\n"
     ]
    },
    {
     "name": "stdout",
     "output_type": "stream",
     "text": [
      "[1, 2, 2, 2, 3, 4, 4, 4, 4]\n",
      "[1, 2, 2, 2, 3, 4, 4, 4, 4, 4]\n"
     ]
    },
    {
     "name": "stderr",
     "output_type": "stream",
     "text": [
      "WARNING: The following terminal states have different number of cells than requested (30): {'mNC_arch2_1': 6}\n",
      "WARNING: Found only one macrostate, making it the singular terminal state\n"
     ]
    },
    {
     "name": "stdout",
     "output_type": "stream",
     "text": [
      "[1, 2, 2, 2, 3, 4, 4, 4, 4, 4, 4]\n",
      "[1]\n",
      "[1, 2]\n",
      "[1, 2, 2]\n",
      "[1, 2, 2, 2]\n",
      "[1, 2, 2, 2, 3]\n",
      "[1, 2, 2, 2, 3, 4]\n",
      "[1, 2, 2, 2, 3, 4, 4]\n",
      "[1, 2, 2, 2, 3, 4, 4, 4]\n"
     ]
    },
    {
     "name": "stderr",
     "output_type": "stream",
     "text": [
      "WARNING: The following terminal states have different number of cells than requested (30): {'dNC_hoxa2b': 27}\n"
     ]
    },
    {
     "name": "stdout",
     "output_type": "stream",
     "text": [
      "[1, 2, 2, 2, 3, 4, 4, 4, 4]\n",
      "[1, 2, 2, 2, 3, 4, 4, 4, 4, 4]\n"
     ]
    },
    {
     "name": "stderr",
     "output_type": "stream",
     "text": [
      "WARNING: The following terminal states have different number of cells than requested (30): {'mNC_arch2_1': 6}\n",
      "WARNING: Found only one macrostate, making it the singular terminal state\n"
     ]
    },
    {
     "name": "stdout",
     "output_type": "stream",
     "text": [
      "[1, 2, 2, 2, 3, 4, 4, 4, 4, 4, 4]\n",
      "[1]\n",
      "[1, 2]\n",
      "[1, 2, 2]\n",
      "[1, 2, 2, 2]\n",
      "[1, 2, 2, 2, 3]\n",
      "[1, 2, 2, 2, 3, 4]\n",
      "[1, 2, 2, 2, 3, 4, 4]\n",
      "[1, 2, 2, 2, 3, 4, 4, 4]\n"
     ]
    },
    {
     "name": "stderr",
     "output_type": "stream",
     "text": [
      "WARNING: The following terminal states have different number of cells than requested (30): {'dNC_hoxa2b': 27}\n"
     ]
    },
    {
     "name": "stdout",
     "output_type": "stream",
     "text": [
      "[1, 2, 2, 2, 3, 4, 4, 4, 4]\n",
      "[1, 2, 2, 2, 3, 4, 4, 4, 4, 4]\n"
     ]
    },
    {
     "name": "stderr",
     "output_type": "stream",
     "text": [
      "WARNING: The following terminal states have different number of cells than requested (30): {'mNC_arch2_1': 6}\n",
      "WARNING: Found only one macrostate, making it the singular terminal state\n"
     ]
    },
    {
     "name": "stdout",
     "output_type": "stream",
     "text": [
      "[1, 2, 2, 2, 3, 4, 4, 4, 4, 4, 4]\n",
      "[1]\n",
      "[1, 2]\n",
      "[1, 2, 2]\n",
      "[1, 2, 2, 2]\n",
      "[1, 2, 2, 2, 3]\n",
      "[1, 2, 2, 2, 3, 4]\n",
      "[1, 2, 2, 2, 3, 4, 4]\n",
      "[1, 2, 2, 2, 3, 4, 4, 4]\n"
     ]
    },
    {
     "name": "stderr",
     "output_type": "stream",
     "text": [
      "WARNING: The following terminal states have different number of cells than requested (30): {'dNC_hoxa2b': 27}\n"
     ]
    },
    {
     "name": "stdout",
     "output_type": "stream",
     "text": [
      "[1, 2, 2, 2, 3, 4, 4, 4, 4]\n",
      "[1, 2, 2, 2, 3, 4, 4, 4, 4, 4]\n"
     ]
    },
    {
     "name": "stderr",
     "output_type": "stream",
     "text": [
      "WARNING: The following terminal states have different number of cells than requested (30): {'mNC_arch2_1': 6}\n",
      "WARNING: Found only one macrostate, making it the singular terminal state\n"
     ]
    },
    {
     "name": "stdout",
     "output_type": "stream",
     "text": [
      "[1, 2, 2, 2, 3, 4, 4, 4, 4, 4, 4]\n",
      "[1]\n",
      "[1, 2]\n",
      "[1, 2, 2]\n",
      "[1, 2, 2, 2]\n",
      "[1, 2, 2, 2, 3]\n",
      "[1, 2, 2, 2, 3, 4]\n",
      "[1, 2, 2, 2, 3, 4, 4]\n",
      "[1, 2, 2, 2, 3, 4, 4, 4]\n"
     ]
    },
    {
     "name": "stderr",
     "output_type": "stream",
     "text": [
      "WARNING: The following terminal states have different number of cells than requested (30): {'dNC_hoxa2b': 27}\n"
     ]
    },
    {
     "name": "stdout",
     "output_type": "stream",
     "text": [
      "[1, 2, 2, 2, 3, 4, 4, 4, 4]\n",
      "[1, 2, 2, 2, 3, 4, 4, 4, 4, 4]\n"
     ]
    },
    {
     "name": "stderr",
     "output_type": "stream",
     "text": [
      "WARNING: The following terminal states have different number of cells than requested (30): {'mNC_arch2_1': 6}\n",
      "WARNING: Found only one macrostate, making it the singular terminal state\n"
     ]
    },
    {
     "name": "stdout",
     "output_type": "stream",
     "text": [
      "[1, 2, 2, 2, 3, 4, 4, 4, 4, 4, 4]\n",
      "[1]\n",
      "[1, 2]\n",
      "[1, 2, 2]\n",
      "[1, 2, 2, 2]\n",
      "[1, 2, 2, 2, 3]\n",
      "[1, 2, 2, 2, 3, 4]\n",
      "[1, 2, 2, 2, 3, 4, 4]\n",
      "[1, 2, 2, 2, 3, 4, 4, 4]\n"
     ]
    },
    {
     "name": "stderr",
     "output_type": "stream",
     "text": [
      "WARNING: The following terminal states have different number of cells than requested (30): {'dNC_hoxa2b': 27}\n"
     ]
    },
    {
     "name": "stdout",
     "output_type": "stream",
     "text": [
      "[1, 2, 2, 2, 3, 4, 4, 4, 4]\n",
      "[1, 2, 2, 2, 3, 4, 4, 4, 4, 4]\n"
     ]
    },
    {
     "name": "stderr",
     "output_type": "stream",
     "text": [
      "WARNING: The following terminal states have different number of cells than requested (30): {'mNC_arch2_1': 6}\n",
      "WARNING: Found only one macrostate, making it the singular terminal state\n"
     ]
    },
    {
     "name": "stdout",
     "output_type": "stream",
     "text": [
      "[1, 2, 2, 2, 3, 4, 4, 4, 4, 4, 4]\n",
      "[1]\n",
      "[1, 2]\n",
      "[1, 2, 2]\n",
      "[1, 2, 2, 2]\n",
      "[1, 2, 2, 2, 3]\n",
      "[1, 2, 2, 2, 3, 4]\n",
      "[1, 2, 2, 2, 3, 4, 4]\n",
      "[1, 2, 2, 2, 3, 4, 4, 4]\n"
     ]
    },
    {
     "name": "stderr",
     "output_type": "stream",
     "text": [
      "WARNING: The following terminal states have different number of cells than requested (30): {'dNC_hoxa2b': 27}\n"
     ]
    },
    {
     "name": "stdout",
     "output_type": "stream",
     "text": [
      "[1, 2, 2, 2, 3, 4, 4, 4, 4]\n",
      "[1, 2, 2, 2, 3, 4, 4, 4, 4, 4]\n"
     ]
    },
    {
     "name": "stderr",
     "output_type": "stream",
     "text": [
      "WARNING: The following terminal states have different number of cells than requested (30): {'mNC_arch2_1': 6}\n",
      "WARNING: Found only one macrostate, making it the singular terminal state\n"
     ]
    },
    {
     "name": "stdout",
     "output_type": "stream",
     "text": [
      "[1, 2, 2, 2, 3, 4, 4, 4, 4, 4, 4]\n",
      "[1]\n",
      "[1, 2]\n",
      "[1, 2, 2]\n",
      "[1, 2, 2, 2]\n",
      "[1, 2, 2, 2, 3]\n",
      "[1, 2, 2, 2, 3, 4]\n",
      "[1, 2, 2, 2, 3, 4, 4]\n",
      "[1, 2, 2, 2, 3, 4, 4, 4]\n"
     ]
    },
    {
     "name": "stderr",
     "output_type": "stream",
     "text": [
      "WARNING: The following terminal states have different number of cells than requested (30): {'dNC_hoxa2b': 27}\n"
     ]
    },
    {
     "name": "stdout",
     "output_type": "stream",
     "text": [
      "[1, 2, 2, 2, 3, 4, 4, 4, 4]\n",
      "[1, 2, 2, 2, 3, 4, 4, 4, 4, 4]\n"
     ]
    },
    {
     "name": "stderr",
     "output_type": "stream",
     "text": [
      "WARNING: The following terminal states have different number of cells than requested (30): {'mNC_arch2_1': 6}\n",
      "WARNING: Found only one macrostate, making it the singular terminal state\n"
     ]
    },
    {
     "name": "stdout",
     "output_type": "stream",
     "text": [
      "[1, 2, 2, 2, 3, 4, 4, 4, 4, 4, 4]\n",
      "[1]\n",
      "[1, 2]\n",
      "[1, 2, 2]\n",
      "[1, 2, 2, 2]\n",
      "[1, 2, 2, 2, 3]\n",
      "[1, 2, 2, 2, 3, 4]\n",
      "[1, 2, 2, 2, 3, 4, 4]\n",
      "[1, 2, 2, 2, 3, 4, 4, 4]\n"
     ]
    },
    {
     "name": "stderr",
     "output_type": "stream",
     "text": [
      "WARNING: The following terminal states have different number of cells than requested (30): {'dNC_hoxa2b': 27}\n"
     ]
    },
    {
     "name": "stdout",
     "output_type": "stream",
     "text": [
      "[1, 2, 2, 2, 3, 4, 4, 4, 4]\n",
      "[1, 2, 2, 2, 3, 4, 4, 4, 4, 4]\n"
     ]
    },
    {
     "name": "stderr",
     "output_type": "stream",
     "text": [
      "WARNING: The following terminal states have different number of cells than requested (30): {'mNC_arch2_1': 6}\n",
      "WARNING: Found only one macrostate, making it the singular terminal state\n"
     ]
    },
    {
     "name": "stdout",
     "output_type": "stream",
     "text": [
      "[1, 2, 2, 2, 3, 4, 4, 4, 4, 4, 4]\n",
      "[1]\n",
      "[1, 2]\n",
      "[1, 2, 2]\n",
      "[1, 2, 2, 2]\n",
      "[1, 2, 2, 2, 3]\n",
      "[1, 2, 2, 2, 3, 4]\n",
      "[1, 2, 2, 2, 3, 4, 4]\n",
      "[1, 2, 2, 2, 3, 4, 4, 4]\n"
     ]
    },
    {
     "name": "stderr",
     "output_type": "stream",
     "text": [
      "WARNING: The following terminal states have different number of cells than requested (30): {'dNC_hoxa2b': 27}\n"
     ]
    },
    {
     "name": "stdout",
     "output_type": "stream",
     "text": [
      "[1, 2, 2, 2, 3, 4, 4, 4, 4]\n",
      "[1, 2, 2, 2, 3, 4, 4, 4, 4, 4]\n"
     ]
    },
    {
     "name": "stderr",
     "output_type": "stream",
     "text": [
      "WARNING: The following terminal states have different number of cells than requested (30): {'mNC_arch2_1': 6}\n",
      "WARNING: Found only one macrostate, making it the singular terminal state\n"
     ]
    },
    {
     "name": "stdout",
     "output_type": "stream",
     "text": [
      "[1, 2, 2, 2, 3, 4, 4, 4, 4, 4, 4]\n",
      "[1]\n",
      "[1, 2]\n",
      "[1, 2, 2]\n",
      "[1, 2, 2, 2]\n",
      "[1, 2, 2, 2, 3]\n",
      "[1, 2, 2, 2, 3, 4]\n",
      "[1, 2, 2, 2, 3, 4, 4]\n",
      "[1, 2, 2, 2, 3, 4, 4, 4]\n"
     ]
    },
    {
     "name": "stderr",
     "output_type": "stream",
     "text": [
      "WARNING: The following terminal states have different number of cells than requested (30): {'dNC_hoxa2b': 27}\n"
     ]
    },
    {
     "name": "stdout",
     "output_type": "stream",
     "text": [
      "[1, 2, 2, 2, 3, 4, 4, 4, 4]\n",
      "[1, 2, 2, 2, 3, 4, 4, 4, 4, 4]\n"
     ]
    },
    {
     "name": "stderr",
     "output_type": "stream",
     "text": [
      "WARNING: The following terminal states have different number of cells than requested (30): {'mNC_arch2_1': 6}\n",
      "WARNING: Found only one macrostate, making it the singular terminal state\n"
     ]
    },
    {
     "name": "stdout",
     "output_type": "stream",
     "text": [
      "[1, 2, 2, 2, 3, 4, 4, 4, 4, 4, 4]\n",
      "[1]\n",
      "[1, 2]\n",
      "[1, 2, 2]\n",
      "[1, 2, 2, 2]\n",
      "[1, 2, 2, 2, 3]\n",
      "[1, 2, 2, 2, 3, 4]\n",
      "[1, 2, 2, 2, 3, 4, 4]\n",
      "[1, 2, 2, 2, 3, 4, 4, 4]\n"
     ]
    },
    {
     "name": "stderr",
     "output_type": "stream",
     "text": [
      "WARNING: The following terminal states have different number of cells than requested (30): {'dNC_hoxa2b': 27}\n"
     ]
    },
    {
     "name": "stdout",
     "output_type": "stream",
     "text": [
      "[1, 2, 2, 2, 3, 4, 4, 4, 4]\n",
      "[1, 2, 2, 2, 3, 4, 4, 4, 4, 4]\n"
     ]
    },
    {
     "name": "stderr",
     "output_type": "stream",
     "text": [
      "WARNING: The following terminal states have different number of cells than requested (30): {'mNC_arch2_1': 6}\n",
      "WARNING: Found only one macrostate, making it the singular terminal state\n"
     ]
    },
    {
     "name": "stdout",
     "output_type": "stream",
     "text": [
      "[1, 2, 2, 2, 3, 4, 4, 4, 4, 4, 4]\n",
      "[1]\n",
      "[1, 2]\n",
      "[1, 2, 2]\n",
      "[1, 2, 2, 2]\n",
      "[1, 2, 2, 2, 3]\n",
      "[1, 2, 2, 2, 3, 4]\n",
      "[1, 2, 2, 2, 3, 4, 4]\n",
      "[1, 2, 2, 2, 3, 4, 4, 4]\n"
     ]
    },
    {
     "name": "stderr",
     "output_type": "stream",
     "text": [
      "WARNING: The following terminal states have different number of cells than requested (30): {'dNC_hoxa2b': 27}\n"
     ]
    },
    {
     "name": "stdout",
     "output_type": "stream",
     "text": [
      "[1, 2, 2, 2, 3, 4, 4, 4, 4]\n",
      "[1, 2, 2, 2, 3, 4, 4, 4, 4, 4]\n"
     ]
    },
    {
     "name": "stderr",
     "output_type": "stream",
     "text": [
      "WARNING: The following terminal states have different number of cells than requested (30): {'mNC_arch2_1': 6}\n",
      "WARNING: Found only one macrostate, making it the singular terminal state\n"
     ]
    },
    {
     "name": "stdout",
     "output_type": "stream",
     "text": [
      "[1, 2, 2, 2, 3, 4, 4, 4, 4, 4, 4]\n",
      "[1]\n",
      "[1, 2]\n",
      "[1, 2, 2]\n",
      "[1, 2, 2, 2]\n",
      "[1, 2, 2, 2, 3]\n",
      "[1, 2, 2, 2, 3, 4]\n",
      "[1, 2, 2, 2, 3, 4, 4]\n",
      "[1, 2, 2, 2, 3, 4, 4, 4]\n"
     ]
    },
    {
     "name": "stderr",
     "output_type": "stream",
     "text": [
      "WARNING: The following terminal states have different number of cells than requested (30): {'dNC_hoxa2b': 27}\n"
     ]
    },
    {
     "name": "stdout",
     "output_type": "stream",
     "text": [
      "[1, 2, 2, 2, 3, 4, 4, 4, 4]\n",
      "[1, 2, 2, 2, 3, 4, 4, 4, 4, 4]\n"
     ]
    },
    {
     "name": "stderr",
     "output_type": "stream",
     "text": [
      "WARNING: The following terminal states have different number of cells than requested (30): {'mNC_arch2_1': 6}\n",
      "WARNING: Found only one macrostate, making it the singular terminal state\n"
     ]
    },
    {
     "name": "stdout",
     "output_type": "stream",
     "text": [
      "[1, 2, 2, 2, 3, 4, 4, 4, 4, 4, 4]\n",
      "[1]\n",
      "[1, 2]\n",
      "[1, 2, 2]\n",
      "[1, 2, 2, 2]\n",
      "[1, 2, 2, 2, 3]\n",
      "[1, 2, 2, 2, 3, 4]\n",
      "[1, 2, 2, 2, 3, 4, 4]\n",
      "[1, 2, 2, 2, 3, 4, 4, 4]\n"
     ]
    },
    {
     "name": "stderr",
     "output_type": "stream",
     "text": [
      "WARNING: The following terminal states have different number of cells than requested (30): {'dNC_hoxa2b': 27}\n"
     ]
    },
    {
     "name": "stdout",
     "output_type": "stream",
     "text": [
      "[1, 2, 2, 2, 3, 4, 4, 4, 4]\n",
      "[1, 2, 2, 2, 3, 4, 4, 4, 4, 4]\n"
     ]
    },
    {
     "name": "stderr",
     "output_type": "stream",
     "text": [
      "WARNING: The following terminal states have different number of cells than requested (30): {'mNC_arch2_1': 6}\n",
      "WARNING: Found only one macrostate, making it the singular terminal state\n"
     ]
    },
    {
     "name": "stdout",
     "output_type": "stream",
     "text": [
      "[1, 2, 2, 2, 3, 4, 4, 4, 4, 4, 4]\n",
      "[1]\n",
      "[1, 2]\n",
      "[1, 2, 2]\n",
      "[1, 2, 2, 2]\n",
      "[1, 2, 2, 2, 3]\n",
      "[1, 2, 2, 2, 3, 4]\n",
      "[1, 2, 2, 2, 3, 4, 4]\n",
      "[1, 2, 2, 2, 3, 4, 4, 4]\n"
     ]
    },
    {
     "name": "stderr",
     "output_type": "stream",
     "text": [
      "WARNING: The following terminal states have different number of cells than requested (30): {'dNC_hoxa2b': 27}\n"
     ]
    },
    {
     "name": "stdout",
     "output_type": "stream",
     "text": [
      "[1, 2, 2, 2, 3, 4, 4, 4, 4]\n",
      "[1, 2, 2, 2, 3, 4, 4, 4, 4, 4]\n"
     ]
    },
    {
     "name": "stderr",
     "output_type": "stream",
     "text": [
      "WARNING: The following terminal states have different number of cells than requested (30): {'mNC_arch2_1': 6}\n",
      "WARNING: Found only one macrostate, making it the singular terminal state\n"
     ]
    },
    {
     "name": "stdout",
     "output_type": "stream",
     "text": [
      "[1, 2, 2, 2, 3, 4, 4, 4, 4, 4, 4]\n",
      "[1]\n",
      "[1, 2]\n",
      "[1, 2, 2]\n",
      "[1, 2, 2, 2]\n",
      "[1, 2, 2, 2, 3]\n",
      "[1, 2, 2, 2, 3, 4]\n",
      "[1, 2, 2, 2, 3, 4, 4]\n",
      "[1, 2, 2, 2, 3, 4, 4, 4]\n"
     ]
    },
    {
     "name": "stderr",
     "output_type": "stream",
     "text": [
      "WARNING: The following terminal states have different number of cells than requested (30): {'dNC_hoxa2b': 27}\n"
     ]
    },
    {
     "name": "stdout",
     "output_type": "stream",
     "text": [
      "[1, 2, 2, 2, 3, 4, 4, 4, 4]\n",
      "[1, 2, 2, 2, 3, 4, 4, 4, 4, 4]\n"
     ]
    },
    {
     "name": "stderr",
     "output_type": "stream",
     "text": [
      "WARNING: The following terminal states have different number of cells than requested (30): {'mNC_arch2_1': 6}\n",
      "WARNING: Found only one macrostate, making it the singular terminal state\n",
      "WARNING: Requested more macrostates `3` than available Schur vectors `2`. Recomputing the decomposition\n"
     ]
    },
    {
     "name": "stdout",
     "output_type": "stream",
     "text": [
      "[1, 2, 2, 2, 3, 4, 4, 4, 4, 4, 4]\n",
      "[1]\n",
      "[1, 2]\n"
     ]
    },
    {
     "name": "stderr",
     "output_type": "stream",
     "text": [
      "WARNING: Requested more macrostates `4` than available Schur vectors `3`. Recomputing the decomposition\n",
      "WARNING: Requested more macrostates `5` than available Schur vectors `4`. Recomputing the decomposition\n"
     ]
    },
    {
     "name": "stdout",
     "output_type": "stream",
     "text": [
      "[1, 2, 2]\n",
      "[1, 2, 2, 3]\n"
     ]
    },
    {
     "name": "stderr",
     "output_type": "stream",
     "text": [
      "WARNING: Requested more macrostates `6` than available Schur vectors `5`. Recomputing the decomposition\n",
      "WARNING: Unable to compute macrostates with `n_states=6` because it will split complex conjugate eigenvalues. Using `n_states=7`\n"
     ]
    },
    {
     "name": "stdout",
     "output_type": "stream",
     "text": [
      "Error: Discretizing leads to a cluster with `3` samples, less than the threshold which is `6` samples. Consider recomputing the fuzzy clustering.\n",
      "[1, 2, 2, 3, 3]\n"
     ]
    },
    {
     "name": "stderr",
     "output_type": "stream",
     "text": [
      "WARNING: The following terminal states have different number of cells than requested (30): {'dNC_hox34': 29, 'NPB_nohox': 28}\n"
     ]
    },
    {
     "name": "stdout",
     "output_type": "stream",
     "text": [
      "[1, 2, 2, 3, 3, 3]\n"
     ]
    },
    {
     "name": "stderr",
     "output_type": "stream",
     "text": [
      "WARNING: The following terminal states have different number of cells than requested (30): {'dNC_hox34': 29, 'NPB_nohox': 28}\n",
      "WARNING: Requested more macrostates `8` than available Schur vectors `7`. Recomputing the decomposition\n"
     ]
    },
    {
     "name": "stdout",
     "output_type": "stream",
     "text": [
      "[1, 2, 2, 3, 3, 3, 3]\n"
     ]
    },
    {
     "name": "stderr",
     "output_type": "stream",
     "text": [
      "WARNING: The following terminal states have different number of cells than requested (30): {'dNC_nohox': 26}\n",
      "WARNING: Requested more macrostates `9` than available Schur vectors `8`. Recomputing the decomposition\n",
      "WARNING: Unable to compute macrostates with `n_states=9` because it will split complex conjugate eigenvalues. Using `n_states=10`\n"
     ]
    },
    {
     "name": "stdout",
     "output_type": "stream",
     "text": [
      "[1, 2, 2, 3, 3, 3, 3, 4]\n"
     ]
    },
    {
     "name": "stderr",
     "output_type": "stream",
     "text": [
      "WARNING: The following terminal states have different number of cells than requested (30): {'dNC_hoxa2b_1': 28, 'dNC_hoxa2b_2': 27, 'dNC_hox34': 26, 'NPB_nohox': 25, 'dNC_nohox': 25}\n"
     ]
    },
    {
     "name": "stdout",
     "output_type": "stream",
     "text": [
      "[1, 2, 2, 3, 3, 3, 3, 4, 4]\n"
     ]
    },
    {
     "name": "stderr",
     "output_type": "stream",
     "text": [
      "WARNING: The following terminal states have different number of cells than requested (30): {'dNC_hoxa2b_1': 28, 'dNC_hoxa2b_2': 27, 'dNC_hox34': 26, 'NPB_nohox': 25, 'dNC_nohox': 25}\n",
      "WARNING: Requested more macrostates `11` than available Schur vectors `10`. Recomputing the decomposition\n"
     ]
    },
    {
     "name": "stdout",
     "output_type": "stream",
     "text": [
      "[1, 2, 2, 3, 3, 3, 3, 4, 4, 4]\n"
     ]
    },
    {
     "name": "stderr",
     "output_type": "stream",
     "text": [
      "WARNING: The following terminal states have different number of cells than requested (30): {'dNC_hox34': 29, 'dNC_nohox_2': 28, 'dNC_hoxa2b_2': 28, 'dNC_hoxa2b_1': 25, 'NPB_nohox': 12}\n"
     ]
    },
    {
     "name": "stdout",
     "output_type": "stream",
     "text": [
      "[1, 2, 2, 3, 3, 3, 3, 4, 4, 4, 4]\n"
     ]
    },
    {
     "name": "stderr",
     "output_type": "stream",
     "text": [
      "WARNING: Found only one macrostate, making it the singular terminal state\n"
     ]
    },
    {
     "name": "stdout",
     "output_type": "stream",
     "text": [
      "[1]\n",
      "[1, 2]\n",
      "[1, 2, 2]\n",
      "[1, 2, 2, 3]\n"
     ]
    },
    {
     "name": "stderr",
     "output_type": "stream",
     "text": [
      "WARNING: Unable to compute macrostates with `n_states=6` because it will split complex conjugate eigenvalues. Using `n_states=7`\n"
     ]
    },
    {
     "name": "stdout",
     "output_type": "stream",
     "text": [
      "Error: Discretizing leads to a cluster with `3` samples, less than the threshold which is `6` samples. Consider recomputing the fuzzy clustering.\n",
      "[1, 2, 2, 3, 3]\n"
     ]
    },
    {
     "name": "stderr",
     "output_type": "stream",
     "text": [
      "WARNING: The following terminal states have different number of cells than requested (30): {'dNC_hox34': 29, 'NPB_nohox': 28}\n"
     ]
    },
    {
     "name": "stdout",
     "output_type": "stream",
     "text": [
      "[1, 2, 2, 3, 3, 3]\n"
     ]
    },
    {
     "name": "stderr",
     "output_type": "stream",
     "text": [
      "WARNING: The following terminal states have different number of cells than requested (30): {'dNC_hox34': 29, 'NPB_nohox': 28}\n"
     ]
    },
    {
     "name": "stdout",
     "output_type": "stream",
     "text": [
      "[1, 2, 2, 3, 3, 3, 3]\n"
     ]
    },
    {
     "name": "stderr",
     "output_type": "stream",
     "text": [
      "WARNING: The following terminal states have different number of cells than requested (30): {'dNC_nohox': 26}\n",
      "WARNING: Unable to compute macrostates with `n_states=9` because it will split complex conjugate eigenvalues. Using `n_states=10`\n"
     ]
    },
    {
     "name": "stdout",
     "output_type": "stream",
     "text": [
      "[1, 2, 2, 3, 3, 3, 3, 4]\n"
     ]
    },
    {
     "name": "stderr",
     "output_type": "stream",
     "text": [
      "WARNING: The following terminal states have different number of cells than requested (30): {'dNC_hoxa2b_1': 28, 'dNC_hoxa2b_2': 27, 'dNC_hox34': 26, 'NPB_nohox': 25, 'dNC_nohox': 25}\n"
     ]
    },
    {
     "name": "stdout",
     "output_type": "stream",
     "text": [
      "[1, 2, 2, 3, 3, 3, 3, 4, 4]\n"
     ]
    },
    {
     "name": "stderr",
     "output_type": "stream",
     "text": [
      "WARNING: The following terminal states have different number of cells than requested (30): {'dNC_hoxa2b_1': 28, 'dNC_hoxa2b_2': 27, 'dNC_hox34': 26, 'NPB_nohox': 25, 'dNC_nohox': 25}\n"
     ]
    },
    {
     "name": "stdout",
     "output_type": "stream",
     "text": [
      "[1, 2, 2, 3, 3, 3, 3, 4, 4, 4]\n"
     ]
    },
    {
     "name": "stderr",
     "output_type": "stream",
     "text": [
      "WARNING: The following terminal states have different number of cells than requested (30): {'dNC_hox34': 29, 'dNC_nohox_2': 28, 'dNC_hoxa2b_2': 28, 'dNC_hoxa2b_1': 25, 'NPB_nohox': 12}\n",
      "WARNING: Found only one macrostate, making it the singular terminal state\n"
     ]
    },
    {
     "name": "stdout",
     "output_type": "stream",
     "text": [
      "[1, 2, 2, 3, 3, 3, 3, 4, 4, 4, 4]\n",
      "[1]\n",
      "[1, 2]\n",
      "[1, 2, 2]\n",
      "[1, 2, 2, 3]\n"
     ]
    },
    {
     "name": "stderr",
     "output_type": "stream",
     "text": [
      "WARNING: Unable to compute macrostates with `n_states=6` because it will split complex conjugate eigenvalues. Using `n_states=7`\n"
     ]
    },
    {
     "name": "stdout",
     "output_type": "stream",
     "text": [
      "Error: Discretizing leads to a cluster with `3` samples, less than the threshold which is `6` samples. Consider recomputing the fuzzy clustering.\n",
      "[1, 2, 2, 3, 3]\n"
     ]
    },
    {
     "name": "stderr",
     "output_type": "stream",
     "text": [
      "WARNING: The following terminal states have different number of cells than requested (30): {'dNC_hox34': 29, 'NPB_nohox': 28}\n"
     ]
    },
    {
     "name": "stdout",
     "output_type": "stream",
     "text": [
      "[1, 2, 2, 3, 3, 3]\n"
     ]
    },
    {
     "name": "stderr",
     "output_type": "stream",
     "text": [
      "WARNING: The following terminal states have different number of cells than requested (30): {'dNC_hox34': 29, 'NPB_nohox': 28}\n"
     ]
    },
    {
     "name": "stdout",
     "output_type": "stream",
     "text": [
      "[1, 2, 2, 3, 3, 3, 3]\n"
     ]
    },
    {
     "name": "stderr",
     "output_type": "stream",
     "text": [
      "WARNING: The following terminal states have different number of cells than requested (30): {'dNC_nohox': 26}\n",
      "WARNING: Unable to compute macrostates with `n_states=9` because it will split complex conjugate eigenvalues. Using `n_states=10`\n"
     ]
    },
    {
     "name": "stdout",
     "output_type": "stream",
     "text": [
      "[1, 2, 2, 3, 3, 3, 3, 4]\n"
     ]
    },
    {
     "name": "stderr",
     "output_type": "stream",
     "text": [
      "WARNING: The following terminal states have different number of cells than requested (30): {'dNC_hoxa2b_1': 28, 'dNC_hoxa2b_2': 27, 'dNC_hox34': 26, 'NPB_nohox': 25, 'dNC_nohox': 25}\n"
     ]
    },
    {
     "name": "stdout",
     "output_type": "stream",
     "text": [
      "[1, 2, 2, 3, 3, 3, 3, 4, 4]\n"
     ]
    },
    {
     "name": "stderr",
     "output_type": "stream",
     "text": [
      "WARNING: The following terminal states have different number of cells than requested (30): {'dNC_hoxa2b_1': 28, 'dNC_hoxa2b_2': 27, 'dNC_hox34': 26, 'NPB_nohox': 25, 'dNC_nohox': 25}\n"
     ]
    },
    {
     "name": "stdout",
     "output_type": "stream",
     "text": [
      "[1, 2, 2, 3, 3, 3, 3, 4, 4, 4]\n"
     ]
    },
    {
     "name": "stderr",
     "output_type": "stream",
     "text": [
      "WARNING: The following terminal states have different number of cells than requested (30): {'dNC_hox34': 29, 'dNC_nohox_2': 28, 'dNC_hoxa2b_2': 28, 'dNC_hoxa2b_1': 25, 'NPB_nohox': 12}\n",
      "WARNING: Found only one macrostate, making it the singular terminal state\n"
     ]
    },
    {
     "name": "stdout",
     "output_type": "stream",
     "text": [
      "[1, 2, 2, 3, 3, 3, 3, 4, 4, 4, 4]\n",
      "[1]\n",
      "[1, 2]\n",
      "[1, 2, 2]\n",
      "[1, 2, 2, 3]\n"
     ]
    },
    {
     "name": "stderr",
     "output_type": "stream",
     "text": [
      "WARNING: Unable to compute macrostates with `n_states=6` because it will split complex conjugate eigenvalues. Using `n_states=7`\n"
     ]
    },
    {
     "name": "stdout",
     "output_type": "stream",
     "text": [
      "Error: Discretizing leads to a cluster with `3` samples, less than the threshold which is `6` samples. Consider recomputing the fuzzy clustering.\n",
      "[1, 2, 2, 3, 3]\n"
     ]
    },
    {
     "name": "stderr",
     "output_type": "stream",
     "text": [
      "WARNING: The following terminal states have different number of cells than requested (30): {'dNC_hox34': 29, 'NPB_nohox': 28}\n"
     ]
    },
    {
     "name": "stdout",
     "output_type": "stream",
     "text": [
      "[1, 2, 2, 3, 3, 3]\n"
     ]
    },
    {
     "name": "stderr",
     "output_type": "stream",
     "text": [
      "WARNING: The following terminal states have different number of cells than requested (30): {'dNC_hox34': 29, 'NPB_nohox': 28}\n"
     ]
    },
    {
     "name": "stdout",
     "output_type": "stream",
     "text": [
      "[1, 2, 2, 3, 3, 3, 3]\n"
     ]
    },
    {
     "name": "stderr",
     "output_type": "stream",
     "text": [
      "WARNING: The following terminal states have different number of cells than requested (30): {'dNC_nohox': 26}\n",
      "WARNING: Unable to compute macrostates with `n_states=9` because it will split complex conjugate eigenvalues. Using `n_states=10`\n"
     ]
    },
    {
     "name": "stdout",
     "output_type": "stream",
     "text": [
      "[1, 2, 2, 3, 3, 3, 3, 4]\n"
     ]
    },
    {
     "name": "stderr",
     "output_type": "stream",
     "text": [
      "WARNING: The following terminal states have different number of cells than requested (30): {'dNC_hoxa2b_1': 28, 'dNC_hoxa2b_2': 27, 'dNC_hox34': 26, 'NPB_nohox': 25, 'dNC_nohox': 25}\n"
     ]
    },
    {
     "name": "stdout",
     "output_type": "stream",
     "text": [
      "[1, 2, 2, 3, 3, 3, 3, 4, 4]\n"
     ]
    },
    {
     "name": "stderr",
     "output_type": "stream",
     "text": [
      "WARNING: The following terminal states have different number of cells than requested (30): {'dNC_hoxa2b_1': 28, 'dNC_hoxa2b_2': 27, 'dNC_hox34': 26, 'NPB_nohox': 25, 'dNC_nohox': 25}\n"
     ]
    },
    {
     "name": "stdout",
     "output_type": "stream",
     "text": [
      "[1, 2, 2, 3, 3, 3, 3, 4, 4, 4]\n"
     ]
    },
    {
     "name": "stderr",
     "output_type": "stream",
     "text": [
      "WARNING: The following terminal states have different number of cells than requested (30): {'dNC_hox34': 29, 'dNC_nohox_2': 28, 'dNC_hoxa2b_2': 28, 'dNC_hoxa2b_1': 25, 'NPB_nohox': 12}\n",
      "WARNING: Found only one macrostate, making it the singular terminal state\n"
     ]
    },
    {
     "name": "stdout",
     "output_type": "stream",
     "text": [
      "[1, 2, 2, 3, 3, 3, 3, 4, 4, 4, 4]\n",
      "[1]\n",
      "[1, 2]\n",
      "[1, 2, 2]\n",
      "[1, 2, 2, 3]\n"
     ]
    },
    {
     "name": "stderr",
     "output_type": "stream",
     "text": [
      "WARNING: Unable to compute macrostates with `n_states=6` because it will split complex conjugate eigenvalues. Using `n_states=7`\n"
     ]
    },
    {
     "name": "stdout",
     "output_type": "stream",
     "text": [
      "Error: Discretizing leads to a cluster with `3` samples, less than the threshold which is `6` samples. Consider recomputing the fuzzy clustering.\n",
      "[1, 2, 2, 3, 3]\n"
     ]
    },
    {
     "name": "stderr",
     "output_type": "stream",
     "text": [
      "WARNING: The following terminal states have different number of cells than requested (30): {'dNC_hox34': 29, 'NPB_nohox': 28}\n"
     ]
    },
    {
     "name": "stdout",
     "output_type": "stream",
     "text": [
      "[1, 2, 2, 3, 3, 3]\n"
     ]
    },
    {
     "name": "stderr",
     "output_type": "stream",
     "text": [
      "WARNING: The following terminal states have different number of cells than requested (30): {'dNC_hox34': 29, 'NPB_nohox': 28}\n"
     ]
    },
    {
     "name": "stdout",
     "output_type": "stream",
     "text": [
      "[1, 2, 2, 3, 3, 3, 3]\n"
     ]
    },
    {
     "name": "stderr",
     "output_type": "stream",
     "text": [
      "WARNING: The following terminal states have different number of cells than requested (30): {'dNC_nohox': 26}\n",
      "WARNING: Unable to compute macrostates with `n_states=9` because it will split complex conjugate eigenvalues. Using `n_states=10`\n"
     ]
    },
    {
     "name": "stdout",
     "output_type": "stream",
     "text": [
      "[1, 2, 2, 3, 3, 3, 3, 4]\n"
     ]
    },
    {
     "name": "stderr",
     "output_type": "stream",
     "text": [
      "WARNING: The following terminal states have different number of cells than requested (30): {'dNC_hoxa2b_1': 28, 'dNC_hoxa2b_2': 27, 'dNC_hox34': 26, 'NPB_nohox': 25, 'dNC_nohox': 25}\n"
     ]
    },
    {
     "name": "stdout",
     "output_type": "stream",
     "text": [
      "[1, 2, 2, 3, 3, 3, 3, 4, 4]\n"
     ]
    },
    {
     "name": "stderr",
     "output_type": "stream",
     "text": [
      "WARNING: The following terminal states have different number of cells than requested (30): {'dNC_hoxa2b_1': 28, 'dNC_hoxa2b_2': 27, 'dNC_hox34': 26, 'NPB_nohox': 25, 'dNC_nohox': 25}\n"
     ]
    },
    {
     "name": "stdout",
     "output_type": "stream",
     "text": [
      "[1, 2, 2, 3, 3, 3, 3, 4, 4, 4]\n"
     ]
    },
    {
     "name": "stderr",
     "output_type": "stream",
     "text": [
      "WARNING: The following terminal states have different number of cells than requested (30): {'dNC_hox34': 29, 'dNC_nohox_2': 28, 'dNC_hoxa2b_2': 28, 'dNC_hoxa2b_1': 25, 'NPB_nohox': 12}\n",
      "WARNING: Found only one macrostate, making it the singular terminal state\n"
     ]
    },
    {
     "name": "stdout",
     "output_type": "stream",
     "text": [
      "[1, 2, 2, 3, 3, 3, 3, 4, 4, 4, 4]\n",
      "[1]\n",
      "[1, 2]\n",
      "[1, 2, 2]\n",
      "[1, 2, 2, 3]\n"
     ]
    },
    {
     "name": "stderr",
     "output_type": "stream",
     "text": [
      "WARNING: Unable to compute macrostates with `n_states=6` because it will split complex conjugate eigenvalues. Using `n_states=7`\n"
     ]
    },
    {
     "name": "stdout",
     "output_type": "stream",
     "text": [
      "Error: Discretizing leads to a cluster with `3` samples, less than the threshold which is `6` samples. Consider recomputing the fuzzy clustering.\n",
      "[1, 2, 2, 3, 3]\n"
     ]
    },
    {
     "name": "stderr",
     "output_type": "stream",
     "text": [
      "WARNING: The following terminal states have different number of cells than requested (30): {'dNC_hox34': 29, 'NPB_nohox': 28}\n"
     ]
    },
    {
     "name": "stdout",
     "output_type": "stream",
     "text": [
      "[1, 2, 2, 3, 3, 3]\n"
     ]
    },
    {
     "name": "stderr",
     "output_type": "stream",
     "text": [
      "WARNING: The following terminal states have different number of cells than requested (30): {'dNC_hox34': 29, 'NPB_nohox': 28}\n"
     ]
    },
    {
     "name": "stdout",
     "output_type": "stream",
     "text": [
      "[1, 2, 2, 3, 3, 3, 3]\n"
     ]
    },
    {
     "name": "stderr",
     "output_type": "stream",
     "text": [
      "WARNING: The following terminal states have different number of cells than requested (30): {'dNC_nohox': 26}\n",
      "WARNING: Unable to compute macrostates with `n_states=9` because it will split complex conjugate eigenvalues. Using `n_states=10`\n"
     ]
    },
    {
     "name": "stdout",
     "output_type": "stream",
     "text": [
      "[1, 2, 2, 3, 3, 3, 3, 4]\n"
     ]
    },
    {
     "name": "stderr",
     "output_type": "stream",
     "text": [
      "WARNING: The following terminal states have different number of cells than requested (30): {'dNC_hoxa2b_1': 28, 'dNC_hoxa2b_2': 27, 'dNC_hox34': 26, 'NPB_nohox': 25, 'dNC_nohox': 25}\n"
     ]
    },
    {
     "name": "stdout",
     "output_type": "stream",
     "text": [
      "[1, 2, 2, 3, 3, 3, 3, 4, 4]\n"
     ]
    },
    {
     "name": "stderr",
     "output_type": "stream",
     "text": [
      "WARNING: The following terminal states have different number of cells than requested (30): {'dNC_hoxa2b_1': 28, 'dNC_hoxa2b_2': 27, 'dNC_hox34': 26, 'NPB_nohox': 25, 'dNC_nohox': 25}\n"
     ]
    },
    {
     "name": "stdout",
     "output_type": "stream",
     "text": [
      "[1, 2, 2, 3, 3, 3, 3, 4, 4, 4]\n"
     ]
    },
    {
     "name": "stderr",
     "output_type": "stream",
     "text": [
      "WARNING: The following terminal states have different number of cells than requested (30): {'dNC_hox34': 29, 'dNC_nohox_2': 28, 'dNC_hoxa2b_2': 28, 'dNC_hoxa2b_1': 25, 'NPB_nohox': 12}\n",
      "WARNING: Found only one macrostate, making it the singular terminal state\n"
     ]
    },
    {
     "name": "stdout",
     "output_type": "stream",
     "text": [
      "[1, 2, 2, 3, 3, 3, 3, 4, 4, 4, 4]\n",
      "[1]\n",
      "[1, 2]\n",
      "[1, 2, 2]\n",
      "[1, 2, 2, 3]\n"
     ]
    },
    {
     "name": "stderr",
     "output_type": "stream",
     "text": [
      "WARNING: Unable to compute macrostates with `n_states=6` because it will split complex conjugate eigenvalues. Using `n_states=7`\n"
     ]
    },
    {
     "name": "stdout",
     "output_type": "stream",
     "text": [
      "Error: Discretizing leads to a cluster with `3` samples, less than the threshold which is `6` samples. Consider recomputing the fuzzy clustering.\n",
      "[1, 2, 2, 3, 3]\n"
     ]
    },
    {
     "name": "stderr",
     "output_type": "stream",
     "text": [
      "WARNING: The following terminal states have different number of cells than requested (30): {'dNC_hox34': 29, 'NPB_nohox': 28}\n"
     ]
    },
    {
     "name": "stdout",
     "output_type": "stream",
     "text": [
      "[1, 2, 2, 3, 3, 3]\n"
     ]
    },
    {
     "name": "stderr",
     "output_type": "stream",
     "text": [
      "WARNING: The following terminal states have different number of cells than requested (30): {'dNC_hox34': 29, 'NPB_nohox': 28}\n"
     ]
    },
    {
     "name": "stdout",
     "output_type": "stream",
     "text": [
      "[1, 2, 2, 3, 3, 3, 3]\n"
     ]
    },
    {
     "name": "stderr",
     "output_type": "stream",
     "text": [
      "WARNING: The following terminal states have different number of cells than requested (30): {'dNC_nohox': 26}\n",
      "WARNING: Unable to compute macrostates with `n_states=9` because it will split complex conjugate eigenvalues. Using `n_states=10`\n"
     ]
    },
    {
     "name": "stdout",
     "output_type": "stream",
     "text": [
      "[1, 2, 2, 3, 3, 3, 3, 4]\n"
     ]
    },
    {
     "name": "stderr",
     "output_type": "stream",
     "text": [
      "WARNING: The following terminal states have different number of cells than requested (30): {'dNC_hoxa2b_1': 28, 'dNC_hoxa2b_2': 27, 'dNC_hox34': 26, 'NPB_nohox': 25, 'dNC_nohox': 25}\n"
     ]
    },
    {
     "name": "stdout",
     "output_type": "stream",
     "text": [
      "[1, 2, 2, 3, 3, 3, 3, 4, 4]\n"
     ]
    },
    {
     "name": "stderr",
     "output_type": "stream",
     "text": [
      "WARNING: The following terminal states have different number of cells than requested (30): {'dNC_hoxa2b_1': 28, 'dNC_hoxa2b_2': 27, 'dNC_hox34': 26, 'NPB_nohox': 25, 'dNC_nohox': 25}\n"
     ]
    },
    {
     "name": "stdout",
     "output_type": "stream",
     "text": [
      "[1, 2, 2, 3, 3, 3, 3, 4, 4, 4]\n"
     ]
    },
    {
     "name": "stderr",
     "output_type": "stream",
     "text": [
      "WARNING: The following terminal states have different number of cells than requested (30): {'dNC_hox34': 29, 'dNC_nohox_2': 28, 'dNC_hoxa2b_2': 28, 'dNC_hoxa2b_1': 25, 'NPB_nohox': 12}\n",
      "WARNING: Found only one macrostate, making it the singular terminal state\n"
     ]
    },
    {
     "name": "stdout",
     "output_type": "stream",
     "text": [
      "[1, 2, 2, 3, 3, 3, 3, 4, 4, 4, 4]\n",
      "[1]\n",
      "[1, 2]\n",
      "[1, 2, 2]\n",
      "[1, 2, 2, 3]\n"
     ]
    },
    {
     "name": "stderr",
     "output_type": "stream",
     "text": [
      "WARNING: Unable to compute macrostates with `n_states=6` because it will split complex conjugate eigenvalues. Using `n_states=7`\n"
     ]
    },
    {
     "name": "stdout",
     "output_type": "stream",
     "text": [
      "Error: Discretizing leads to a cluster with `3` samples, less than the threshold which is `6` samples. Consider recomputing the fuzzy clustering.\n",
      "[1, 2, 2, 3, 3]\n"
     ]
    },
    {
     "name": "stderr",
     "output_type": "stream",
     "text": [
      "WARNING: The following terminal states have different number of cells than requested (30): {'dNC_hox34': 29, 'NPB_nohox': 28}\n"
     ]
    },
    {
     "name": "stdout",
     "output_type": "stream",
     "text": [
      "[1, 2, 2, 3, 3, 3]\n"
     ]
    },
    {
     "name": "stderr",
     "output_type": "stream",
     "text": [
      "WARNING: The following terminal states have different number of cells than requested (30): {'dNC_hox34': 29, 'NPB_nohox': 28}\n"
     ]
    },
    {
     "name": "stdout",
     "output_type": "stream",
     "text": [
      "[1, 2, 2, 3, 3, 3, 3]\n"
     ]
    },
    {
     "name": "stderr",
     "output_type": "stream",
     "text": [
      "WARNING: The following terminal states have different number of cells than requested (30): {'dNC_nohox': 26}\n",
      "WARNING: Unable to compute macrostates with `n_states=9` because it will split complex conjugate eigenvalues. Using `n_states=10`\n"
     ]
    },
    {
     "name": "stdout",
     "output_type": "stream",
     "text": [
      "[1, 2, 2, 3, 3, 3, 3, 4]\n"
     ]
    },
    {
     "name": "stderr",
     "output_type": "stream",
     "text": [
      "WARNING: The following terminal states have different number of cells than requested (30): {'dNC_hoxa2b_1': 28, 'dNC_hoxa2b_2': 27, 'dNC_hox34': 26, 'NPB_nohox': 25, 'dNC_nohox': 25}\n"
     ]
    },
    {
     "name": "stdout",
     "output_type": "stream",
     "text": [
      "[1, 2, 2, 3, 3, 3, 3, 4, 4]\n"
     ]
    },
    {
     "name": "stderr",
     "output_type": "stream",
     "text": [
      "WARNING: The following terminal states have different number of cells than requested (30): {'dNC_hoxa2b_1': 28, 'dNC_hoxa2b_2': 27, 'dNC_hox34': 26, 'NPB_nohox': 25, 'dNC_nohox': 25}\n"
     ]
    },
    {
     "name": "stdout",
     "output_type": "stream",
     "text": [
      "[1, 2, 2, 3, 3, 3, 3, 4, 4, 4]\n"
     ]
    },
    {
     "name": "stderr",
     "output_type": "stream",
     "text": [
      "WARNING: The following terminal states have different number of cells than requested (30): {'dNC_hox34': 29, 'dNC_nohox_2': 28, 'dNC_hoxa2b_2': 28, 'dNC_hoxa2b_1': 25, 'NPB_nohox': 12}\n",
      "WARNING: Found only one macrostate, making it the singular terminal state\n"
     ]
    },
    {
     "name": "stdout",
     "output_type": "stream",
     "text": [
      "[1, 2, 2, 3, 3, 3, 3, 4, 4, 4, 4]\n",
      "[1]\n",
      "[1, 2]\n",
      "[1, 2, 2]\n",
      "[1, 2, 2, 3]\n"
     ]
    },
    {
     "name": "stderr",
     "output_type": "stream",
     "text": [
      "WARNING: Unable to compute macrostates with `n_states=6` because it will split complex conjugate eigenvalues. Using `n_states=7`\n"
     ]
    },
    {
     "name": "stdout",
     "output_type": "stream",
     "text": [
      "Error: Discretizing leads to a cluster with `3` samples, less than the threshold which is `6` samples. Consider recomputing the fuzzy clustering.\n",
      "[1, 2, 2, 3, 3]\n"
     ]
    },
    {
     "name": "stderr",
     "output_type": "stream",
     "text": [
      "WARNING: The following terminal states have different number of cells than requested (30): {'dNC_hox34': 29, 'NPB_nohox': 28}\n"
     ]
    },
    {
     "name": "stdout",
     "output_type": "stream",
     "text": [
      "[1, 2, 2, 3, 3, 3]\n"
     ]
    },
    {
     "name": "stderr",
     "output_type": "stream",
     "text": [
      "WARNING: The following terminal states have different number of cells than requested (30): {'dNC_hox34': 29, 'NPB_nohox': 28}\n"
     ]
    },
    {
     "name": "stdout",
     "output_type": "stream",
     "text": [
      "[1, 2, 2, 3, 3, 3, 3]\n"
     ]
    },
    {
     "name": "stderr",
     "output_type": "stream",
     "text": [
      "WARNING: The following terminal states have different number of cells than requested (30): {'dNC_nohox': 26}\n",
      "WARNING: Unable to compute macrostates with `n_states=9` because it will split complex conjugate eigenvalues. Using `n_states=10`\n"
     ]
    },
    {
     "name": "stdout",
     "output_type": "stream",
     "text": [
      "[1, 2, 2, 3, 3, 3, 3, 4]\n"
     ]
    },
    {
     "name": "stderr",
     "output_type": "stream",
     "text": [
      "WARNING: The following terminal states have different number of cells than requested (30): {'dNC_hoxa2b_1': 28, 'dNC_hoxa2b_2': 27, 'dNC_hox34': 26, 'NPB_nohox': 25, 'dNC_nohox': 25}\n"
     ]
    },
    {
     "name": "stdout",
     "output_type": "stream",
     "text": [
      "[1, 2, 2, 3, 3, 3, 3, 4, 4]\n"
     ]
    },
    {
     "name": "stderr",
     "output_type": "stream",
     "text": [
      "WARNING: The following terminal states have different number of cells than requested (30): {'dNC_hoxa2b_1': 28, 'dNC_hoxa2b_2': 27, 'dNC_hox34': 26, 'NPB_nohox': 25, 'dNC_nohox': 25}\n"
     ]
    },
    {
     "name": "stdout",
     "output_type": "stream",
     "text": [
      "[1, 2, 2, 3, 3, 3, 3, 4, 4, 4]\n"
     ]
    },
    {
     "name": "stderr",
     "output_type": "stream",
     "text": [
      "WARNING: The following terminal states have different number of cells than requested (30): {'dNC_hox34': 29, 'dNC_nohox_2': 28, 'dNC_hoxa2b_2': 28, 'dNC_hoxa2b_1': 25, 'NPB_nohox': 12}\n",
      "WARNING: Found only one macrostate, making it the singular terminal state\n"
     ]
    },
    {
     "name": "stdout",
     "output_type": "stream",
     "text": [
      "[1, 2, 2, 3, 3, 3, 3, 4, 4, 4, 4]\n",
      "[1]\n",
      "[1, 2]\n",
      "[1, 2, 2]\n",
      "[1, 2, 2, 3]\n"
     ]
    },
    {
     "name": "stderr",
     "output_type": "stream",
     "text": [
      "WARNING: Unable to compute macrostates with `n_states=6` because it will split complex conjugate eigenvalues. Using `n_states=7`\n"
     ]
    },
    {
     "name": "stdout",
     "output_type": "stream",
     "text": [
      "Error: Discretizing leads to a cluster with `3` samples, less than the threshold which is `6` samples. Consider recomputing the fuzzy clustering.\n",
      "[1, 2, 2, 3, 3]\n"
     ]
    },
    {
     "name": "stderr",
     "output_type": "stream",
     "text": [
      "WARNING: The following terminal states have different number of cells than requested (30): {'dNC_hox34': 29, 'NPB_nohox': 28}\n"
     ]
    },
    {
     "name": "stdout",
     "output_type": "stream",
     "text": [
      "[1, 2, 2, 3, 3, 3]\n"
     ]
    },
    {
     "name": "stderr",
     "output_type": "stream",
     "text": [
      "WARNING: The following terminal states have different number of cells than requested (30): {'dNC_hox34': 29, 'NPB_nohox': 28}\n"
     ]
    },
    {
     "name": "stdout",
     "output_type": "stream",
     "text": [
      "[1, 2, 2, 3, 3, 3, 3]\n"
     ]
    },
    {
     "name": "stderr",
     "output_type": "stream",
     "text": [
      "WARNING: The following terminal states have different number of cells than requested (30): {'dNC_nohox': 26}\n",
      "WARNING: Unable to compute macrostates with `n_states=9` because it will split complex conjugate eigenvalues. Using `n_states=10`\n"
     ]
    },
    {
     "name": "stdout",
     "output_type": "stream",
     "text": [
      "[1, 2, 2, 3, 3, 3, 3, 4]\n"
     ]
    },
    {
     "name": "stderr",
     "output_type": "stream",
     "text": [
      "WARNING: The following terminal states have different number of cells than requested (30): {'dNC_hoxa2b_1': 28, 'dNC_hoxa2b_2': 27, 'dNC_hox34': 26, 'NPB_nohox': 25, 'dNC_nohox': 25}\n"
     ]
    },
    {
     "name": "stdout",
     "output_type": "stream",
     "text": [
      "[1, 2, 2, 3, 3, 3, 3, 4, 4]\n"
     ]
    },
    {
     "name": "stderr",
     "output_type": "stream",
     "text": [
      "WARNING: The following terminal states have different number of cells than requested (30): {'dNC_hoxa2b_1': 28, 'dNC_hoxa2b_2': 27, 'dNC_hox34': 26, 'NPB_nohox': 25, 'dNC_nohox': 25}\n"
     ]
    },
    {
     "name": "stdout",
     "output_type": "stream",
     "text": [
      "[1, 2, 2, 3, 3, 3, 3, 4, 4, 4]\n"
     ]
    },
    {
     "name": "stderr",
     "output_type": "stream",
     "text": [
      "WARNING: The following terminal states have different number of cells than requested (30): {'dNC_hox34': 29, 'dNC_nohox_2': 28, 'dNC_hoxa2b_2': 28, 'dNC_hoxa2b_1': 25, 'NPB_nohox': 12}\n",
      "WARNING: Found only one macrostate, making it the singular terminal state\n"
     ]
    },
    {
     "name": "stdout",
     "output_type": "stream",
     "text": [
      "[1, 2, 2, 3, 3, 3, 3, 4, 4, 4, 4]\n",
      "[1]\n",
      "[1, 2]\n",
      "[1, 2, 2]\n",
      "[1, 2, 2, 3]\n"
     ]
    },
    {
     "name": "stderr",
     "output_type": "stream",
     "text": [
      "WARNING: Unable to compute macrostates with `n_states=6` because it will split complex conjugate eigenvalues. Using `n_states=7`\n"
     ]
    },
    {
     "name": "stdout",
     "output_type": "stream",
     "text": [
      "Error: Discretizing leads to a cluster with `3` samples, less than the threshold which is `6` samples. Consider recomputing the fuzzy clustering.\n",
      "[1, 2, 2, 3, 3]\n"
     ]
    },
    {
     "name": "stderr",
     "output_type": "stream",
     "text": [
      "WARNING: The following terminal states have different number of cells than requested (30): {'dNC_hox34': 29, 'NPB_nohox': 28}\n"
     ]
    },
    {
     "name": "stdout",
     "output_type": "stream",
     "text": [
      "[1, 2, 2, 3, 3, 3]\n"
     ]
    },
    {
     "name": "stderr",
     "output_type": "stream",
     "text": [
      "WARNING: The following terminal states have different number of cells than requested (30): {'dNC_hox34': 29, 'NPB_nohox': 28}\n"
     ]
    },
    {
     "name": "stdout",
     "output_type": "stream",
     "text": [
      "[1, 2, 2, 3, 3, 3, 3]\n"
     ]
    },
    {
     "name": "stderr",
     "output_type": "stream",
     "text": [
      "WARNING: The following terminal states have different number of cells than requested (30): {'dNC_nohox': 26}\n",
      "WARNING: Unable to compute macrostates with `n_states=9` because it will split complex conjugate eigenvalues. Using `n_states=10`\n"
     ]
    },
    {
     "name": "stdout",
     "output_type": "stream",
     "text": [
      "[1, 2, 2, 3, 3, 3, 3, 3]\n"
     ]
    },
    {
     "name": "stderr",
     "output_type": "stream",
     "text": [
      "WARNING: The following terminal states have different number of cells than requested (30): {'dNC_hoxa2b_1': 28, 'dNC_hoxa2b_2': 27, 'dNC_hox34': 26, 'NPB_nohox': 25, 'dNC_nohox': 25}\n"
     ]
    },
    {
     "name": "stdout",
     "output_type": "stream",
     "text": [
      "[1, 2, 2, 3, 3, 3, 3, 3, 4]\n"
     ]
    },
    {
     "name": "stderr",
     "output_type": "stream",
     "text": [
      "WARNING: The following terminal states have different number of cells than requested (30): {'dNC_hoxa2b_1': 28, 'dNC_hoxa2b_2': 27, 'dNC_hox34': 26, 'NPB_nohox': 25, 'dNC_nohox': 25}\n"
     ]
    },
    {
     "name": "stdout",
     "output_type": "stream",
     "text": [
      "[1, 2, 2, 3, 3, 3, 3, 3, 4, 4]\n"
     ]
    },
    {
     "name": "stderr",
     "output_type": "stream",
     "text": [
      "WARNING: The following terminal states have different number of cells than requested (30): {'dNC_hox34': 29, 'dNC_nohox_2': 28, 'dNC_hoxa2b_2': 28, 'dNC_hoxa2b_1': 25, 'NPB_nohox': 12}\n",
      "WARNING: Found only one macrostate, making it the singular terminal state\n"
     ]
    },
    {
     "name": "stdout",
     "output_type": "stream",
     "text": [
      "[1, 2, 2, 3, 3, 3, 3, 3, 4, 4, 4]\n",
      "[1]\n",
      "[1, 2]\n",
      "[1, 2, 2]\n",
      "[1, 2, 2, 3]\n"
     ]
    },
    {
     "name": "stderr",
     "output_type": "stream",
     "text": [
      "WARNING: Unable to compute macrostates with `n_states=6` because it will split complex conjugate eigenvalues. Using `n_states=7`\n"
     ]
    },
    {
     "name": "stdout",
     "output_type": "stream",
     "text": [
      "Error: Discretizing leads to a cluster with `3` samples, less than the threshold which is `6` samples. Consider recomputing the fuzzy clustering.\n",
      "[1, 2, 2, 3, 3]\n"
     ]
    },
    {
     "name": "stderr",
     "output_type": "stream",
     "text": [
      "WARNING: The following terminal states have different number of cells than requested (30): {'dNC_hox34': 29, 'NPB_nohox': 28}\n"
     ]
    },
    {
     "name": "stdout",
     "output_type": "stream",
     "text": [
      "[1, 2, 2, 3, 3, 3]\n"
     ]
    },
    {
     "name": "stderr",
     "output_type": "stream",
     "text": [
      "WARNING: The following terminal states have different number of cells than requested (30): {'dNC_hox34': 29, 'NPB_nohox': 28}\n"
     ]
    },
    {
     "name": "stdout",
     "output_type": "stream",
     "text": [
      "[1, 2, 2, 3, 3, 3, 3]\n"
     ]
    },
    {
     "name": "stderr",
     "output_type": "stream",
     "text": [
      "WARNING: The following terminal states have different number of cells than requested (30): {'dNC_nohox': 26}\n",
      "WARNING: Unable to compute macrostates with `n_states=9` because it will split complex conjugate eigenvalues. Using `n_states=10`\n"
     ]
    },
    {
     "name": "stdout",
     "output_type": "stream",
     "text": [
      "[1, 2, 2, 3, 3, 3, 3, 3]\n"
     ]
    },
    {
     "name": "stderr",
     "output_type": "stream",
     "text": [
      "WARNING: The following terminal states have different number of cells than requested (30): {'dNC_hoxa2b_1': 28, 'dNC_hoxa2b_2': 27, 'dNC_hox34': 26, 'NPB_nohox': 25, 'dNC_nohox': 25}\n"
     ]
    },
    {
     "name": "stdout",
     "output_type": "stream",
     "text": [
      "[1, 2, 2, 3, 3, 3, 3, 3, 4]\n"
     ]
    },
    {
     "name": "stderr",
     "output_type": "stream",
     "text": [
      "WARNING: The following terminal states have different number of cells than requested (30): {'dNC_hoxa2b_1': 28, 'dNC_hoxa2b_2': 27, 'dNC_hox34': 26, 'NPB_nohox': 25, 'dNC_nohox': 25}\n"
     ]
    },
    {
     "name": "stdout",
     "output_type": "stream",
     "text": [
      "[1, 2, 2, 3, 3, 3, 3, 3, 4, 4]\n"
     ]
    },
    {
     "name": "stderr",
     "output_type": "stream",
     "text": [
      "WARNING: The following terminal states have different number of cells than requested (30): {'dNC_hox34': 29, 'dNC_nohox_2': 28, 'dNC_hoxa2b_2': 28, 'dNC_hoxa2b_1': 25, 'NPB_nohox': 12}\n",
      "WARNING: Found only one macrostate, making it the singular terminal state\n"
     ]
    },
    {
     "name": "stdout",
     "output_type": "stream",
     "text": [
      "[1, 2, 2, 3, 3, 3, 3, 3, 4, 4, 4]\n",
      "[1]\n",
      "[1, 2]\n",
      "[1, 2, 2]\n",
      "[1, 2, 2, 3]\n"
     ]
    },
    {
     "name": "stderr",
     "output_type": "stream",
     "text": [
      "WARNING: Unable to compute macrostates with `n_states=6` because it will split complex conjugate eigenvalues. Using `n_states=7`\n"
     ]
    },
    {
     "name": "stdout",
     "output_type": "stream",
     "text": [
      "Error: Discretizing leads to a cluster with `3` samples, less than the threshold which is `6` samples. Consider recomputing the fuzzy clustering.\n",
      "[1, 2, 2, 3, 3]\n"
     ]
    },
    {
     "name": "stderr",
     "output_type": "stream",
     "text": [
      "WARNING: The following terminal states have different number of cells than requested (30): {'dNC_hox34': 29, 'NPB_nohox': 28}\n"
     ]
    },
    {
     "name": "stdout",
     "output_type": "stream",
     "text": [
      "[1, 2, 2, 3, 3, 3]\n"
     ]
    },
    {
     "name": "stderr",
     "output_type": "stream",
     "text": [
      "WARNING: The following terminal states have different number of cells than requested (30): {'dNC_hox34': 29, 'NPB_nohox': 28}\n"
     ]
    },
    {
     "name": "stdout",
     "output_type": "stream",
     "text": [
      "[1, 2, 2, 3, 3, 3, 3]\n"
     ]
    },
    {
     "name": "stderr",
     "output_type": "stream",
     "text": [
      "WARNING: The following terminal states have different number of cells than requested (30): {'dNC_nohox': 26}\n",
      "WARNING: Unable to compute macrostates with `n_states=9` because it will split complex conjugate eigenvalues. Using `n_states=10`\n"
     ]
    },
    {
     "name": "stdout",
     "output_type": "stream",
     "text": [
      "[1, 2, 2, 3, 3, 3, 3, 3]\n"
     ]
    },
    {
     "name": "stderr",
     "output_type": "stream",
     "text": [
      "WARNING: The following terminal states have different number of cells than requested (30): {'dNC_hoxa2b_1': 28, 'dNC_hoxa2b_2': 27, 'dNC_hox34': 26, 'NPB_nohox': 25, 'dNC_nohox': 25}\n"
     ]
    },
    {
     "name": "stdout",
     "output_type": "stream",
     "text": [
      "[1, 2, 2, 3, 3, 3, 3, 3, 4]\n"
     ]
    },
    {
     "name": "stderr",
     "output_type": "stream",
     "text": [
      "WARNING: The following terminal states have different number of cells than requested (30): {'dNC_hoxa2b_1': 28, 'dNC_hoxa2b_2': 27, 'dNC_hox34': 26, 'NPB_nohox': 25, 'dNC_nohox': 25}\n"
     ]
    },
    {
     "name": "stdout",
     "output_type": "stream",
     "text": [
      "[1, 2, 2, 3, 3, 3, 3, 3, 4, 4]\n"
     ]
    },
    {
     "name": "stderr",
     "output_type": "stream",
     "text": [
      "WARNING: The following terminal states have different number of cells than requested (30): {'dNC_hox34': 29, 'dNC_nohox_2': 28, 'dNC_hoxa2b_2': 28, 'dNC_hoxa2b_1': 25, 'NPB_nohox': 12}\n",
      "WARNING: Found only one macrostate, making it the singular terminal state\n"
     ]
    },
    {
     "name": "stdout",
     "output_type": "stream",
     "text": [
      "[1, 2, 2, 3, 3, 3, 3, 3, 4, 4, 3]\n",
      "[1]\n",
      "[1, 2]\n",
      "[1, 2, 2]\n",
      "[1, 2, 2, 3]\n"
     ]
    },
    {
     "name": "stderr",
     "output_type": "stream",
     "text": [
      "WARNING: Unable to compute macrostates with `n_states=6` because it will split complex conjugate eigenvalues. Using `n_states=7`\n"
     ]
    },
    {
     "name": "stdout",
     "output_type": "stream",
     "text": [
      "Error: Discretizing leads to a cluster with `3` samples, less than the threshold which is `6` samples. Consider recomputing the fuzzy clustering.\n",
      "[1, 2, 2, 3, 3]\n"
     ]
    },
    {
     "name": "stderr",
     "output_type": "stream",
     "text": [
      "WARNING: The following terminal states have different number of cells than requested (30): {'dNC_hox34': 29, 'NPB_nohox': 28}\n"
     ]
    },
    {
     "name": "stdout",
     "output_type": "stream",
     "text": [
      "[1, 2, 2, 3, 3, 3]\n"
     ]
    },
    {
     "name": "stderr",
     "output_type": "stream",
     "text": [
      "WARNING: The following terminal states have different number of cells than requested (30): {'dNC_hox34': 29, 'NPB_nohox': 28}\n"
     ]
    },
    {
     "name": "stdout",
     "output_type": "stream",
     "text": [
      "[1, 2, 2, 3, 3, 3, 3]\n"
     ]
    },
    {
     "name": "stderr",
     "output_type": "stream",
     "text": [
      "WARNING: The following terminal states have different number of cells than requested (30): {'dNC_nohox': 26}\n",
      "WARNING: Unable to compute macrostates with `n_states=9` because it will split complex conjugate eigenvalues. Using `n_states=10`\n"
     ]
    },
    {
     "name": "stdout",
     "output_type": "stream",
     "text": [
      "[1, 2, 2, 3, 3, 3, 3, 3]\n"
     ]
    },
    {
     "name": "stderr",
     "output_type": "stream",
     "text": [
      "WARNING: The following terminal states have different number of cells than requested (30): {'dNC_hoxa2b_1': 28, 'dNC_hoxa2b_2': 27, 'dNC_hox34': 26, 'NPB_nohox': 25, 'dNC_nohox': 25}\n"
     ]
    },
    {
     "name": "stdout",
     "output_type": "stream",
     "text": [
      "[1, 2, 2, 3, 3, 3, 3, 3, 3]\n"
     ]
    },
    {
     "name": "stderr",
     "output_type": "stream",
     "text": [
      "WARNING: The following terminal states have different number of cells than requested (30): {'dNC_hoxa2b_1': 28, 'dNC_hoxa2b_2': 27, 'dNC_hox34': 26, 'NPB_nohox': 25, 'dNC_nohox': 25}\n"
     ]
    },
    {
     "name": "stdout",
     "output_type": "stream",
     "text": [
      "[1, 2, 2, 3, 3, 3, 3, 3, 3, 3]\n"
     ]
    },
    {
     "name": "stderr",
     "output_type": "stream",
     "text": [
      "WARNING: The following terminal states have different number of cells than requested (30): {'dNC_hox34': 29, 'dNC_nohox_2': 28, 'dNC_hoxa2b_2': 28, 'dNC_hoxa2b_1': 25, 'NPB_nohox': 12}\n",
      "WARNING: Found only one macrostate, making it the singular terminal state\n"
     ]
    },
    {
     "name": "stdout",
     "output_type": "stream",
     "text": [
      "[1, 2, 2, 3, 3, 3, 3, 3, 3, 3, 3]\n",
      "[1]\n",
      "[1, 2]\n",
      "[1, 2, 2]\n",
      "[1, 2, 2, 3]\n"
     ]
    },
    {
     "name": "stderr",
     "output_type": "stream",
     "text": [
      "WARNING: Unable to compute macrostates with `n_states=6` because it will split complex conjugate eigenvalues. Using `n_states=7`\n"
     ]
    },
    {
     "name": "stdout",
     "output_type": "stream",
     "text": [
      "Error: Discretizing leads to a cluster with `3` samples, less than the threshold which is `6` samples. Consider recomputing the fuzzy clustering.\n",
      "[1, 2, 2, 3, 3]\n"
     ]
    },
    {
     "name": "stderr",
     "output_type": "stream",
     "text": [
      "WARNING: The following terminal states have different number of cells than requested (30): {'dNC_hox34': 29, 'NPB_nohox': 28}\n"
     ]
    },
    {
     "name": "stdout",
     "output_type": "stream",
     "text": [
      "[1, 2, 2, 3, 3, 3]\n"
     ]
    },
    {
     "name": "stderr",
     "output_type": "stream",
     "text": [
      "WARNING: The following terminal states have different number of cells than requested (30): {'dNC_hox34': 29, 'NPB_nohox': 28}\n"
     ]
    },
    {
     "name": "stdout",
     "output_type": "stream",
     "text": [
      "[1, 2, 2, 3, 3, 3, 3]\n"
     ]
    },
    {
     "name": "stderr",
     "output_type": "stream",
     "text": [
      "WARNING: The following terminal states have different number of cells than requested (30): {'dNC_nohox': 26}\n",
      "WARNING: Unable to compute macrostates with `n_states=9` because it will split complex conjugate eigenvalues. Using `n_states=10`\n"
     ]
    },
    {
     "name": "stdout",
     "output_type": "stream",
     "text": [
      "[1, 2, 2, 3, 3, 3, 3, 3]\n"
     ]
    },
    {
     "name": "stderr",
     "output_type": "stream",
     "text": [
      "WARNING: The following terminal states have different number of cells than requested (30): {'dNC_hoxa2b_1': 28, 'dNC_hoxa2b_2': 27, 'dNC_hox34': 26, 'NPB_nohox': 25, 'dNC_nohox': 25}\n"
     ]
    },
    {
     "name": "stdout",
     "output_type": "stream",
     "text": [
      "[1, 2, 2, 3, 3, 3, 3, 3, 2]\n"
     ]
    },
    {
     "name": "stderr",
     "output_type": "stream",
     "text": [
      "WARNING: The following terminal states have different number of cells than requested (30): {'dNC_hoxa2b_1': 28, 'dNC_hoxa2b_2': 27, 'dNC_hox34': 26, 'NPB_nohox': 25, 'dNC_nohox': 25}\n"
     ]
    },
    {
     "name": "stdout",
     "output_type": "stream",
     "text": [
      "[1, 2, 2, 3, 3, 3, 3, 3, 2, 2]\n"
     ]
    },
    {
     "name": "stderr",
     "output_type": "stream",
     "text": [
      "WARNING: The following terminal states have different number of cells than requested (30): {'dNC_hox34': 29, 'dNC_nohox_2': 28, 'dNC_hoxa2b_2': 28, 'dNC_hoxa2b_1': 25, 'NPB_nohox': 12}\n",
      "WARNING: Found only one macrostate, making it the singular terminal state\n"
     ]
    },
    {
     "name": "stdout",
     "output_type": "stream",
     "text": [
      "[1, 2, 2, 3, 3, 3, 3, 3, 2, 2, 3]\n",
      "[1]\n",
      "[1, 2]\n",
      "[1, 2, 2]\n",
      "[1, 2, 2, 3]\n"
     ]
    },
    {
     "name": "stderr",
     "output_type": "stream",
     "text": [
      "WARNING: Unable to compute macrostates with `n_states=6` because it will split complex conjugate eigenvalues. Using `n_states=7`\n"
     ]
    },
    {
     "name": "stdout",
     "output_type": "stream",
     "text": [
      "Error: Discretizing leads to a cluster with `3` samples, less than the threshold which is `6` samples. Consider recomputing the fuzzy clustering.\n",
      "[1, 2, 2, 3, 3]\n"
     ]
    },
    {
     "name": "stderr",
     "output_type": "stream",
     "text": [
      "WARNING: The following terminal states have different number of cells than requested (30): {'dNC_hox34': 29, 'NPB_nohox': 28}\n"
     ]
    },
    {
     "name": "stdout",
     "output_type": "stream",
     "text": [
      "[1, 2, 2, 3, 3, 3]\n"
     ]
    },
    {
     "name": "stderr",
     "output_type": "stream",
     "text": [
      "WARNING: The following terminal states have different number of cells than requested (30): {'dNC_hox34': 29, 'NPB_nohox': 28}\n"
     ]
    },
    {
     "name": "stdout",
     "output_type": "stream",
     "text": [
      "[1, 2, 2, 3, 3, 3, 3]\n"
     ]
    },
    {
     "name": "stderr",
     "output_type": "stream",
     "text": [
      "WARNING: The following terminal states have different number of cells than requested (30): {'dNC_nohox': 26}\n",
      "WARNING: Unable to compute macrostates with `n_states=9` because it will split complex conjugate eigenvalues. Using `n_states=10`\n"
     ]
    },
    {
     "name": "stdout",
     "output_type": "stream",
     "text": [
      "[1, 2, 2, 3, 3, 3, 3, 2]\n"
     ]
    },
    {
     "name": "stderr",
     "output_type": "stream",
     "text": [
      "WARNING: The following terminal states have different number of cells than requested (30): {'dNC_hoxa2b_1': 28, 'dNC_hoxa2b_2': 27, 'dNC_hox34': 26, 'NPB_nohox': 25, 'dNC_nohox': 25}\n"
     ]
    },
    {
     "name": "stdout",
     "output_type": "stream",
     "text": [
      "[1, 2, 2, 3, 3, 3, 3, 2, 1]\n"
     ]
    },
    {
     "name": "stderr",
     "output_type": "stream",
     "text": [
      "WARNING: The following terminal states have different number of cells than requested (30): {'dNC_hoxa2b_1': 28, 'dNC_hoxa2b_2': 27, 'dNC_hox34': 26, 'NPB_nohox': 25, 'dNC_nohox': 25}\n"
     ]
    },
    {
     "name": "stdout",
     "output_type": "stream",
     "text": [
      "[1, 2, 2, 3, 3, 3, 3, 2, 1, 1]\n"
     ]
    },
    {
     "name": "stderr",
     "output_type": "stream",
     "text": [
      "WARNING: The following terminal states have different number of cells than requested (30): {'dNC_hox34': 29, 'dNC_nohox_2': 28, 'dNC_hoxa2b_2': 28, 'dNC_hoxa2b_1': 25, 'NPB_nohox': 12}\n",
      "WARNING: Found only one macrostate, making it the singular terminal state\n"
     ]
    },
    {
     "name": "stdout",
     "output_type": "stream",
     "text": [
      "[1, 2, 2, 3, 3, 3, 3, 2, 1, 1, 2]\n",
      "[1]\n",
      "[1, 2]\n",
      "[1, 2, 2]\n",
      "[1, 2, 2, 2]\n"
     ]
    },
    {
     "name": "stderr",
     "output_type": "stream",
     "text": [
      "WARNING: Unable to compute macrostates with `n_states=6` because it will split complex conjugate eigenvalues. Using `n_states=7`\n"
     ]
    },
    {
     "name": "stdout",
     "output_type": "stream",
     "text": [
      "Error: Discretizing leads to a cluster with `3` samples, less than the threshold which is `6` samples. Consider recomputing the fuzzy clustering.\n",
      "[1, 2, 2, 2, 2]\n"
     ]
    },
    {
     "name": "stderr",
     "output_type": "stream",
     "text": [
      "WARNING: The following terminal states have different number of cells than requested (30): {'dNC_hox34': 29, 'NPB_nohox': 28}\n"
     ]
    },
    {
     "name": "stdout",
     "output_type": "stream",
     "text": [
      "[1, 2, 2, 2, 2, 2]\n"
     ]
    },
    {
     "name": "stderr",
     "output_type": "stream",
     "text": [
      "WARNING: The following terminal states have different number of cells than requested (30): {'dNC_hox34': 29, 'NPB_nohox': 28}\n"
     ]
    },
    {
     "name": "stdout",
     "output_type": "stream",
     "text": [
      "[1, 2, 2, 2, 2, 2, 2]\n"
     ]
    },
    {
     "name": "stderr",
     "output_type": "stream",
     "text": [
      "WARNING: The following terminal states have different number of cells than requested (30): {'dNC_nohox': 26}\n",
      "WARNING: Unable to compute macrostates with `n_states=9` because it will split complex conjugate eigenvalues. Using `n_states=10`\n"
     ]
    },
    {
     "name": "stdout",
     "output_type": "stream",
     "text": [
      "[1, 2, 2, 2, 2, 2, 2, 2]\n"
     ]
    },
    {
     "name": "stderr",
     "output_type": "stream",
     "text": [
      "WARNING: The following terminal states have different number of cells than requested (30): {'dNC_hoxa2b_1': 28, 'dNC_hoxa2b_2': 27, 'dNC_hox34': 26, 'NPB_nohox': 25, 'dNC_nohox': 25}\n"
     ]
    },
    {
     "name": "stdout",
     "output_type": "stream",
     "text": [
      "[1, 2, 2, 2, 2, 2, 2, 2, 1]\n"
     ]
    },
    {
     "name": "stderr",
     "output_type": "stream",
     "text": [
      "WARNING: The following terminal states have different number of cells than requested (30): {'dNC_hoxa2b_1': 28, 'dNC_hoxa2b_2': 27, 'dNC_hox34': 26, 'NPB_nohox': 25, 'dNC_nohox': 25}\n"
     ]
    },
    {
     "name": "stdout",
     "output_type": "stream",
     "text": [
      "[1, 2, 2, 2, 2, 2, 2, 2, 1, 1]\n"
     ]
    },
    {
     "name": "stderr",
     "output_type": "stream",
     "text": [
      "WARNING: The following terminal states have different number of cells than requested (30): {'dNC_hox34': 29, 'dNC_nohox_2': 28, 'dNC_hoxa2b_2': 28, 'dNC_hoxa2b_1': 25, 'NPB_nohox': 12}\n",
      "WARNING: Found only one macrostate, making it the singular terminal state\n"
     ]
    },
    {
     "name": "stdout",
     "output_type": "stream",
     "text": [
      "[1, 2, 2, 2, 2, 2, 2, 2, 1, 1, 1]\n",
      "[1]\n",
      "[1, 2]\n",
      "[1, 2, 2]\n",
      "[1, 2, 2, 2]\n"
     ]
    },
    {
     "name": "stderr",
     "output_type": "stream",
     "text": [
      "WARNING: Unable to compute macrostates with `n_states=6` because it will split complex conjugate eigenvalues. Using `n_states=7`\n"
     ]
    },
    {
     "name": "stdout",
     "output_type": "stream",
     "text": [
      "Error: Discretizing leads to a cluster with `3` samples, less than the threshold which is `6` samples. Consider recomputing the fuzzy clustering.\n",
      "[1, 2, 2, 2, 2]\n"
     ]
    },
    {
     "name": "stderr",
     "output_type": "stream",
     "text": [
      "WARNING: The following terminal states have different number of cells than requested (30): {'dNC_hox34': 29, 'NPB_nohox': 28}\n"
     ]
    },
    {
     "name": "stdout",
     "output_type": "stream",
     "text": [
      "[1, 2, 2, 2, 2, 1]\n"
     ]
    },
    {
     "name": "stderr",
     "output_type": "stream",
     "text": [
      "WARNING: The following terminal states have different number of cells than requested (30): {'dNC_hox34': 29, 'NPB_nohox': 28}\n"
     ]
    },
    {
     "name": "stdout",
     "output_type": "stream",
     "text": [
      "[1, 2, 2, 2, 2, 1, 1]\n"
     ]
    },
    {
     "name": "stderr",
     "output_type": "stream",
     "text": [
      "WARNING: The following terminal states have different number of cells than requested (30): {'dNC_nohox': 26}\n",
      "WARNING: Unable to compute macrostates with `n_states=9` because it will split complex conjugate eigenvalues. Using `n_states=10`\n"
     ]
    },
    {
     "name": "stdout",
     "output_type": "stream",
     "text": [
      "[1, 2, 2, 2, 2, 1, 1, 1]\n"
     ]
    },
    {
     "name": "stderr",
     "output_type": "stream",
     "text": [
      "WARNING: The following terminal states have different number of cells than requested (30): {'dNC_hoxa2b_1': 28, 'dNC_hoxa2b_2': 27, 'dNC_hox34': 26, 'NPB_nohox': 25, 'dNC_nohox': 25}\n"
     ]
    },
    {
     "name": "stdout",
     "output_type": "stream",
     "text": [
      "[1, 2, 2, 2, 2, 1, 1, 1, 1]\n"
     ]
    },
    {
     "name": "stderr",
     "output_type": "stream",
     "text": [
      "WARNING: The following terminal states have different number of cells than requested (30): {'dNC_hoxa2b_1': 28, 'dNC_hoxa2b_2': 27, 'dNC_hox34': 26, 'NPB_nohox': 25, 'dNC_nohox': 25}\n"
     ]
    },
    {
     "name": "stdout",
     "output_type": "stream",
     "text": [
      "[1, 2, 2, 2, 2, 1, 1, 1, 1, 1]\n"
     ]
    },
    {
     "name": "stderr",
     "output_type": "stream",
     "text": [
      "WARNING: The following terminal states have different number of cells than requested (30): {'dNC_hox34': 29, 'dNC_nohox_2': 28, 'dNC_hoxa2b_2': 28, 'dNC_hoxa2b_1': 25, 'NPB_nohox': 12}\n",
      "WARNING: Found only one macrostate, making it the singular terminal state\n"
     ]
    },
    {
     "name": "stdout",
     "output_type": "stream",
     "text": [
      "[1, 2, 2, 2, 2, 1, 1, 1, 1, 1, 1]\n",
      "[1]\n",
      "[1, 2]\n",
      "[1, 2, 1]\n",
      "[1, 2, 1, 1]\n"
     ]
    },
    {
     "name": "stderr",
     "output_type": "stream",
     "text": [
      "WARNING: Unable to compute macrostates with `n_states=6` because it will split complex conjugate eigenvalues. Using `n_states=7`\n"
     ]
    },
    {
     "name": "stdout",
     "output_type": "stream",
     "text": [
      "Error: Discretizing leads to a cluster with `3` samples, less than the threshold which is `6` samples. Consider recomputing the fuzzy clustering.\n",
      "[1, 2, 1, 1, 1]\n"
     ]
    },
    {
     "name": "stderr",
     "output_type": "stream",
     "text": [
      "WARNING: The following terminal states have different number of cells than requested (30): {'dNC_hox34': 29, 'NPB_nohox': 28}\n"
     ]
    },
    {
     "name": "stdout",
     "output_type": "stream",
     "text": [
      "[1, 2, 1, 1, 1, 1]\n"
     ]
    },
    {
     "name": "stderr",
     "output_type": "stream",
     "text": [
      "WARNING: The following terminal states have different number of cells than requested (30): {'dNC_hox34': 29, 'NPB_nohox': 28}\n"
     ]
    },
    {
     "name": "stdout",
     "output_type": "stream",
     "text": [
      "[1, 2, 1, 1, 1, 1, 1]\n"
     ]
    },
    {
     "name": "stderr",
     "output_type": "stream",
     "text": [
      "WARNING: The following terminal states have different number of cells than requested (30): {'dNC_nohox': 26}\n",
      "WARNING: Unable to compute macrostates with `n_states=9` because it will split complex conjugate eigenvalues. Using `n_states=10`\n"
     ]
    },
    {
     "name": "stdout",
     "output_type": "stream",
     "text": [
      "[1, 2, 1, 1, 1, 1, 1, 1]\n"
     ]
    },
    {
     "name": "stderr",
     "output_type": "stream",
     "text": [
      "WARNING: The following terminal states have different number of cells than requested (30): {'dNC_hoxa2b_1': 28, 'dNC_hoxa2b_2': 27, 'dNC_hox34': 26, 'NPB_nohox': 25, 'dNC_nohox': 25}\n"
     ]
    },
    {
     "name": "stdout",
     "output_type": "stream",
     "text": [
      "[1, 2, 1, 1, 1, 1, 1, 1, 1]\n"
     ]
    },
    {
     "name": "stderr",
     "output_type": "stream",
     "text": [
      "WARNING: The following terminal states have different number of cells than requested (30): {'dNC_hoxa2b_1': 28, 'dNC_hoxa2b_2': 27, 'dNC_hox34': 26, 'NPB_nohox': 25, 'dNC_nohox': 25}\n"
     ]
    },
    {
     "name": "stdout",
     "output_type": "stream",
     "text": [
      "[1, 2, 1, 1, 1, 1, 1, 1, 1, 1]\n"
     ]
    },
    {
     "name": "stderr",
     "output_type": "stream",
     "text": [
      "WARNING: The following terminal states have different number of cells than requested (30): {'dNC_hox34': 29, 'dNC_nohox_2': 28, 'dNC_hoxa2b_2': 28, 'dNC_hoxa2b_1': 25, 'NPB_nohox': 12}\n",
      "WARNING: Found only one macrostate, making it the singular terminal state\n"
     ]
    },
    {
     "name": "stdout",
     "output_type": "stream",
     "text": [
      "[1, 2, 1, 1, 1, 1, 1, 1, 1, 1, 1]\n",
      "[1]\n",
      "[1, 1]\n",
      "[1, 1, 1]\n",
      "[1, 1, 1, 1]\n"
     ]
    },
    {
     "name": "stderr",
     "output_type": "stream",
     "text": [
      "WARNING: Unable to compute macrostates with `n_states=6` because it will split complex conjugate eigenvalues. Using `n_states=7`\n"
     ]
    },
    {
     "name": "stdout",
     "output_type": "stream",
     "text": [
      "Error: Discretizing leads to a cluster with `3` samples, less than the threshold which is `6` samples. Consider recomputing the fuzzy clustering.\n",
      "[1, 1, 1, 1, 1]\n"
     ]
    },
    {
     "name": "stderr",
     "output_type": "stream",
     "text": [
      "WARNING: The following terminal states have different number of cells than requested (30): {'dNC_hox34': 29, 'NPB_nohox': 28}\n"
     ]
    },
    {
     "name": "stdout",
     "output_type": "stream",
     "text": [
      "[1, 1, 1, 1, 1, 1]\n"
     ]
    },
    {
     "name": "stderr",
     "output_type": "stream",
     "text": [
      "WARNING: The following terminal states have different number of cells than requested (30): {'dNC_hox34': 29, 'NPB_nohox': 28}\n"
     ]
    },
    {
     "name": "stdout",
     "output_type": "stream",
     "text": [
      "[1, 1, 1, 1, 1, 1, 1]\n"
     ]
    },
    {
     "name": "stderr",
     "output_type": "stream",
     "text": [
      "WARNING: The following terminal states have different number of cells than requested (30): {'dNC_nohox': 26}\n",
      "WARNING: Unable to compute macrostates with `n_states=9` because it will split complex conjugate eigenvalues. Using `n_states=10`\n"
     ]
    },
    {
     "name": "stdout",
     "output_type": "stream",
     "text": [
      "[1, 1, 1, 1, 1, 1, 1, 1]\n"
     ]
    },
    {
     "name": "stderr",
     "output_type": "stream",
     "text": [
      "WARNING: The following terminal states have different number of cells than requested (30): {'dNC_hoxa2b_1': 28, 'dNC_hoxa2b_2': 27, 'dNC_hox34': 26, 'NPB_nohox': 25, 'dNC_nohox': 25}\n"
     ]
    },
    {
     "name": "stdout",
     "output_type": "stream",
     "text": [
      "[1, 1, 1, 1, 1, 1, 1, 1, 1]\n"
     ]
    },
    {
     "name": "stderr",
     "output_type": "stream",
     "text": [
      "WARNING: The following terminal states have different number of cells than requested (30): {'dNC_hoxa2b_1': 28, 'dNC_hoxa2b_2': 27, 'dNC_hox34': 26, 'NPB_nohox': 25, 'dNC_nohox': 25}\n"
     ]
    },
    {
     "name": "stdout",
     "output_type": "stream",
     "text": [
      "[1, 1, 1, 1, 1, 1, 1, 1, 1, 1]\n"
     ]
    },
    {
     "name": "stderr",
     "output_type": "stream",
     "text": [
      "WARNING: The following terminal states have different number of cells than requested (30): {'dNC_hox34': 29, 'dNC_nohox_2': 28, 'dNC_hoxa2b_2': 28, 'dNC_hoxa2b_1': 25, 'NPB_nohox': 12}\n"
     ]
    },
    {
     "name": "stdout",
     "output_type": "stream",
     "text": [
      "[1, 1, 1, 1, 1, 1, 1, 1, 1, 1, 1]\n"
     ]
    },
    {
     "name": "stderr",
     "output_type": "stream",
     "text": [
      "WARNING: Found only one macrostate, making it the singular terminal state\n",
      "WARNING: Requested more macrostates `3` than available Schur vectors `2`. Recomputing the decomposition\n",
      "WARNING: Requested more macrostates `4` than available Schur vectors `3`. Recomputing the decomposition\n"
     ]
    },
    {
     "name": "stdout",
     "output_type": "stream",
     "text": [
      "[1]\n",
      "[1, 2]\n",
      "[1, 2, 2]\n"
     ]
    },
    {
     "name": "stderr",
     "output_type": "stream",
     "text": [
      "WARNING: Requested more macrostates `5` than available Schur vectors `4`. Recomputing the decomposition\n",
      "WARNING: Unable to compute macrostates with `n_states=5` because it will split complex conjugate eigenvalues. Using `n_states=6`\n"
     ]
    },
    {
     "name": "stdout",
     "output_type": "stream",
     "text": [
      "[1, 2, 2, 3]\n"
     ]
    },
    {
     "name": "stderr",
     "output_type": "stream",
     "text": [
      "WARNING: The following terminal states have different number of cells than requested (30): {'dNC_hoxa2b': 29, 'mNC_head_mesenchymal_1': 12}\n"
     ]
    },
    {
     "name": "stdout",
     "output_type": "stream",
     "text": [
      "[1, 2, 2, 3, 3]\n"
     ]
    },
    {
     "name": "stderr",
     "output_type": "stream",
     "text": [
      "WARNING: The following terminal states have different number of cells than requested (30): {'dNC_hoxa2b': 29, 'mNC_head_mesenchymal_1': 12}\n",
      "WARNING: Requested more macrostates `7` than available Schur vectors `6`. Recomputing the decomposition\n",
      "WARNING: Unable to compute macrostates with `n_states=7` because it will split complex conjugate eigenvalues. Using `n_states=8`\n"
     ]
    },
    {
     "name": "stdout",
     "output_type": "stream",
     "text": [
      "[1, 2, 2, 3, 3, 3]\n"
     ]
    },
    {
     "name": "stderr",
     "output_type": "stream",
     "text": [
      "WARNING: The following terminal states have different number of cells than requested (30): {'dNC_nohox': 24, 'mNC_arch2': 19, 'mNC_nohox': 7}\n"
     ]
    },
    {
     "name": "stdout",
     "output_type": "stream",
     "text": [
      "[1, 2, 2, 3, 3, 3, 4]\n"
     ]
    },
    {
     "name": "stderr",
     "output_type": "stream",
     "text": [
      "WARNING: The following terminal states have different number of cells than requested (30): {'dNC_nohox': 24, 'mNC_arch2': 19, 'mNC_nohox': 7}\n",
      "WARNING: Requested more macrostates `9` than available Schur vectors `8`. Recomputing the decomposition\n"
     ]
    },
    {
     "name": "stdout",
     "output_type": "stream",
     "text": [
      "[1, 2, 2, 3, 3, 3, 4, 4]\n"
     ]
    },
    {
     "name": "stderr",
     "output_type": "stream",
     "text": [
      "WARNING: The following terminal states have different number of cells than requested (30): {'dNC_hoxa2b': 29, 'NPB_nohox': 27, 'dNC_nohox': 24}\n",
      "WARNING: Requested more macrostates `10` than available Schur vectors `9`. Recomputing the decomposition\n"
     ]
    },
    {
     "name": "stdout",
     "output_type": "stream",
     "text": [
      "[1, 2, 2, 3, 3, 3, 4, 4, 4]\n"
     ]
    },
    {
     "name": "stderr",
     "output_type": "stream",
     "text": [
      "WARNING: The following terminal states have different number of cells than requested (30): {'NPB_nohox_2': 29, 'NPB_nohox_1': 28, 'mNC_head_mesenchymal_1': 23, 'dNC_nohox': 19, 'dNC_hoxa2b_2': 18}\n",
      "WARNING: Requested more macrostates `11` than available Schur vectors `10`. Recomputing the decomposition\n"
     ]
    },
    {
     "name": "stdout",
     "output_type": "stream",
     "text": [
      "[1, 2, 2, 3, 3, 3, 4, 4, 4, 3]\n"
     ]
    },
    {
     "name": "stderr",
     "output_type": "stream",
     "text": [
      "WARNING: The following terminal states have different number of cells than requested (30): {'NPB_nohox_2': 26, 'dNC_hoxa2b': 25, 'dNC_nohox': 22, 'NPB_nohox_1': 21, 'mNC_nohox_1': 15, 'mNC_nohox_2': 9}\n"
     ]
    },
    {
     "name": "stdout",
     "output_type": "stream",
     "text": [
      "[1, 2, 2, 3, 3, 3, 4, 4, 4, 3, 3]\n"
     ]
    },
    {
     "name": "stderr",
     "output_type": "stream",
     "text": [
      "WARNING: Found only one macrostate, making it the singular terminal state\n",
      "WARNING: Unable to compute macrostates with `n_states=5` because it will split complex conjugate eigenvalues. Using `n_states=6`\n"
     ]
    },
    {
     "name": "stdout",
     "output_type": "stream",
     "text": [
      "[1]\n",
      "[1, 2]\n",
      "[1, 2, 2]\n",
      "[1, 2, 2, 3]\n"
     ]
    },
    {
     "name": "stderr",
     "output_type": "stream",
     "text": [
      "WARNING: The following terminal states have different number of cells than requested (30): {'dNC_hoxa2b': 29, 'mNC_head_mesenchymal_1': 12}\n"
     ]
    },
    {
     "name": "stdout",
     "output_type": "stream",
     "text": [
      "[1, 2, 2, 3, 3]\n"
     ]
    },
    {
     "name": "stderr",
     "output_type": "stream",
     "text": [
      "WARNING: The following terminal states have different number of cells than requested (30): {'dNC_hoxa2b': 29, 'mNC_head_mesenchymal_1': 12}\n",
      "WARNING: Unable to compute macrostates with `n_states=7` because it will split complex conjugate eigenvalues. Using `n_states=8`\n"
     ]
    },
    {
     "name": "stdout",
     "output_type": "stream",
     "text": [
      "[1, 2, 2, 3, 3, 3]\n"
     ]
    },
    {
     "name": "stderr",
     "output_type": "stream",
     "text": [
      "WARNING: The following terminal states have different number of cells than requested (30): {'dNC_nohox': 24, 'mNC_arch2': 19, 'mNC_nohox': 7}\n"
     ]
    },
    {
     "name": "stdout",
     "output_type": "stream",
     "text": [
      "[1, 2, 2, 3, 3, 3, 4]\n"
     ]
    },
    {
     "name": "stderr",
     "output_type": "stream",
     "text": [
      "WARNING: The following terminal states have different number of cells than requested (30): {'dNC_nohox': 24, 'mNC_arch2': 19, 'mNC_nohox': 7}\n"
     ]
    },
    {
     "name": "stdout",
     "output_type": "stream",
     "text": [
      "[1, 2, 2, 3, 3, 3, 4, 4]\n"
     ]
    },
    {
     "name": "stderr",
     "output_type": "stream",
     "text": [
      "WARNING: The following terminal states have different number of cells than requested (30): {'dNC_hoxa2b': 29, 'NPB_nohox': 27, 'dNC_nohox': 24}\n"
     ]
    },
    {
     "name": "stdout",
     "output_type": "stream",
     "text": [
      "[1, 2, 2, 3, 3, 3, 4, 4, 4]\n"
     ]
    },
    {
     "name": "stderr",
     "output_type": "stream",
     "text": [
      "WARNING: The following terminal states have different number of cells than requested (30): {'NPB_nohox_2': 29, 'NPB_nohox_1': 28, 'mNC_head_mesenchymal_1': 23, 'dNC_nohox': 19, 'dNC_hoxa2b_2': 18}\n"
     ]
    },
    {
     "name": "stdout",
     "output_type": "stream",
     "text": [
      "[1, 2, 2, 3, 3, 3, 4, 4, 4, 3]\n"
     ]
    },
    {
     "name": "stderr",
     "output_type": "stream",
     "text": [
      "WARNING: The following terminal states have different number of cells than requested (30): {'NPB_nohox_2': 26, 'dNC_hoxa2b': 25, 'dNC_nohox': 22, 'NPB_nohox_1': 21, 'mNC_nohox_1': 15, 'mNC_nohox_2': 9}\n",
      "WARNING: Found only one macrostate, making it the singular terminal state\n",
      "WARNING: Unable to compute macrostates with `n_states=5` because it will split complex conjugate eigenvalues. Using `n_states=6`\n"
     ]
    },
    {
     "name": "stdout",
     "output_type": "stream",
     "text": [
      "[1, 2, 2, 3, 3, 3, 4, 4, 4, 3, 3]\n",
      "[1]\n",
      "[1, 2]\n",
      "[1, 2, 2]\n",
      "[1, 2, 2, 3]\n"
     ]
    },
    {
     "name": "stderr",
     "output_type": "stream",
     "text": [
      "WARNING: The following terminal states have different number of cells than requested (30): {'dNC_hoxa2b': 29, 'mNC_head_mesenchymal_1': 12}\n"
     ]
    },
    {
     "name": "stdout",
     "output_type": "stream",
     "text": [
      "[1, 2, 2, 3, 3]\n"
     ]
    },
    {
     "name": "stderr",
     "output_type": "stream",
     "text": [
      "WARNING: The following terminal states have different number of cells than requested (30): {'dNC_hoxa2b': 29, 'mNC_head_mesenchymal_1': 12}\n",
      "WARNING: Unable to compute macrostates with `n_states=7` because it will split complex conjugate eigenvalues. Using `n_states=8`\n"
     ]
    },
    {
     "name": "stdout",
     "output_type": "stream",
     "text": [
      "[1, 2, 2, 3, 3, 3]\n"
     ]
    },
    {
     "name": "stderr",
     "output_type": "stream",
     "text": [
      "WARNING: The following terminal states have different number of cells than requested (30): {'dNC_nohox': 24, 'mNC_arch2': 19, 'mNC_nohox': 7}\n"
     ]
    },
    {
     "name": "stdout",
     "output_type": "stream",
     "text": [
      "[1, 2, 2, 3, 3, 3, 4]\n"
     ]
    },
    {
     "name": "stderr",
     "output_type": "stream",
     "text": [
      "WARNING: The following terminal states have different number of cells than requested (30): {'dNC_nohox': 24, 'mNC_arch2': 19, 'mNC_nohox': 7}\n"
     ]
    },
    {
     "name": "stdout",
     "output_type": "stream",
     "text": [
      "[1, 2, 2, 3, 3, 3, 4, 4]\n"
     ]
    },
    {
     "name": "stderr",
     "output_type": "stream",
     "text": [
      "WARNING: The following terminal states have different number of cells than requested (30): {'dNC_hoxa2b': 29, 'NPB_nohox': 27, 'dNC_nohox': 24}\n"
     ]
    },
    {
     "name": "stdout",
     "output_type": "stream",
     "text": [
      "[1, 2, 2, 3, 3, 3, 4, 4, 4]\n"
     ]
    },
    {
     "name": "stderr",
     "output_type": "stream",
     "text": [
      "WARNING: The following terminal states have different number of cells than requested (30): {'NPB_nohox_2': 29, 'NPB_nohox_1': 28, 'mNC_head_mesenchymal_1': 23, 'dNC_nohox': 19, 'dNC_hoxa2b_2': 18}\n"
     ]
    },
    {
     "name": "stdout",
     "output_type": "stream",
     "text": [
      "[1, 2, 2, 3, 3, 3, 4, 4, 4, 3]\n"
     ]
    },
    {
     "name": "stderr",
     "output_type": "stream",
     "text": [
      "WARNING: The following terminal states have different number of cells than requested (30): {'NPB_nohox_2': 26, 'dNC_hoxa2b': 25, 'dNC_nohox': 22, 'NPB_nohox_1': 21, 'mNC_nohox_1': 15, 'mNC_nohox_2': 9}\n",
      "WARNING: Found only one macrostate, making it the singular terminal state\n",
      "WARNING: Unable to compute macrostates with `n_states=5` because it will split complex conjugate eigenvalues. Using `n_states=6`\n"
     ]
    },
    {
     "name": "stdout",
     "output_type": "stream",
     "text": [
      "[1, 2, 2, 3, 3, 3, 4, 4, 4, 3, 3]\n",
      "[1]\n",
      "[1, 2]\n",
      "[1, 2, 2]\n",
      "[1, 2, 2, 3]\n"
     ]
    },
    {
     "name": "stderr",
     "output_type": "stream",
     "text": [
      "WARNING: The following terminal states have different number of cells than requested (30): {'dNC_hoxa2b': 29, 'mNC_head_mesenchymal_1': 12}\n"
     ]
    },
    {
     "name": "stdout",
     "output_type": "stream",
     "text": [
      "[1, 2, 2, 3, 3]\n"
     ]
    },
    {
     "name": "stderr",
     "output_type": "stream",
     "text": [
      "WARNING: The following terminal states have different number of cells than requested (30): {'dNC_hoxa2b': 29, 'mNC_head_mesenchymal_1': 12}\n",
      "WARNING: Unable to compute macrostates with `n_states=7` because it will split complex conjugate eigenvalues. Using `n_states=8`\n"
     ]
    },
    {
     "name": "stdout",
     "output_type": "stream",
     "text": [
      "[1, 2, 2, 3, 3, 3]\n"
     ]
    },
    {
     "name": "stderr",
     "output_type": "stream",
     "text": [
      "WARNING: The following terminal states have different number of cells than requested (30): {'dNC_nohox': 24, 'mNC_arch2': 19, 'mNC_nohox': 7}\n"
     ]
    },
    {
     "name": "stdout",
     "output_type": "stream",
     "text": [
      "[1, 2, 2, 3, 3, 3, 4]\n"
     ]
    },
    {
     "name": "stderr",
     "output_type": "stream",
     "text": [
      "WARNING: The following terminal states have different number of cells than requested (30): {'dNC_nohox': 24, 'mNC_arch2': 19, 'mNC_nohox': 7}\n"
     ]
    },
    {
     "name": "stdout",
     "output_type": "stream",
     "text": [
      "[1, 2, 2, 3, 3, 3, 4, 4]\n"
     ]
    },
    {
     "name": "stderr",
     "output_type": "stream",
     "text": [
      "WARNING: The following terminal states have different number of cells than requested (30): {'dNC_hoxa2b': 29, 'NPB_nohox': 27, 'dNC_nohox': 24}\n"
     ]
    },
    {
     "name": "stdout",
     "output_type": "stream",
     "text": [
      "[1, 2, 2, 3, 3, 3, 4, 4, 4]\n"
     ]
    },
    {
     "name": "stderr",
     "output_type": "stream",
     "text": [
      "WARNING: The following terminal states have different number of cells than requested (30): {'NPB_nohox_2': 29, 'NPB_nohox_1': 28, 'mNC_head_mesenchymal_1': 23, 'dNC_nohox': 19, 'dNC_hoxa2b_2': 18}\n"
     ]
    },
    {
     "name": "stdout",
     "output_type": "stream",
     "text": [
      "[1, 2, 2, 3, 3, 3, 4, 4, 4, 3]\n"
     ]
    },
    {
     "name": "stderr",
     "output_type": "stream",
     "text": [
      "WARNING: The following terminal states have different number of cells than requested (30): {'NPB_nohox_2': 26, 'dNC_hoxa2b': 25, 'dNC_nohox': 22, 'NPB_nohox_1': 21, 'mNC_nohox_1': 15, 'mNC_nohox_2': 9}\n",
      "WARNING: Found only one macrostate, making it the singular terminal state\n",
      "WARNING: Unable to compute macrostates with `n_states=5` because it will split complex conjugate eigenvalues. Using `n_states=6`\n"
     ]
    },
    {
     "name": "stdout",
     "output_type": "stream",
     "text": [
      "[1, 2, 2, 3, 3, 3, 4, 4, 4, 3, 3]\n",
      "[1]\n",
      "[1, 2]\n",
      "[1, 2, 2]\n",
      "[1, 2, 2, 3]\n"
     ]
    },
    {
     "name": "stderr",
     "output_type": "stream",
     "text": [
      "WARNING: The following terminal states have different number of cells than requested (30): {'dNC_hoxa2b': 29, 'mNC_head_mesenchymal_1': 12}\n"
     ]
    },
    {
     "name": "stdout",
     "output_type": "stream",
     "text": [
      "[1, 2, 2, 3, 3]\n"
     ]
    },
    {
     "name": "stderr",
     "output_type": "stream",
     "text": [
      "WARNING: The following terminal states have different number of cells than requested (30): {'dNC_hoxa2b': 29, 'mNC_head_mesenchymal_1': 12}\n",
      "WARNING: Unable to compute macrostates with `n_states=7` because it will split complex conjugate eigenvalues. Using `n_states=8`\n"
     ]
    },
    {
     "name": "stdout",
     "output_type": "stream",
     "text": [
      "[1, 2, 2, 3, 3, 3]\n"
     ]
    },
    {
     "name": "stderr",
     "output_type": "stream",
     "text": [
      "WARNING: The following terminal states have different number of cells than requested (30): {'dNC_nohox': 24, 'mNC_arch2': 19, 'mNC_nohox': 7}\n"
     ]
    },
    {
     "name": "stdout",
     "output_type": "stream",
     "text": [
      "[1, 2, 2, 3, 3, 3, 4]\n"
     ]
    },
    {
     "name": "stderr",
     "output_type": "stream",
     "text": [
      "WARNING: The following terminal states have different number of cells than requested (30): {'dNC_nohox': 24, 'mNC_arch2': 19, 'mNC_nohox': 7}\n"
     ]
    },
    {
     "name": "stdout",
     "output_type": "stream",
     "text": [
      "[1, 2, 2, 3, 3, 3, 4, 4]\n"
     ]
    },
    {
     "name": "stderr",
     "output_type": "stream",
     "text": [
      "WARNING: The following terminal states have different number of cells than requested (30): {'dNC_hoxa2b': 29, 'NPB_nohox': 27, 'dNC_nohox': 24}\n"
     ]
    },
    {
     "name": "stdout",
     "output_type": "stream",
     "text": [
      "[1, 2, 2, 3, 3, 3, 4, 4, 4]\n"
     ]
    },
    {
     "name": "stderr",
     "output_type": "stream",
     "text": [
      "WARNING: The following terminal states have different number of cells than requested (30): {'NPB_nohox_2': 29, 'NPB_nohox_1': 28, 'mNC_head_mesenchymal_1': 23, 'dNC_nohox': 19, 'dNC_hoxa2b_2': 18}\n"
     ]
    },
    {
     "name": "stdout",
     "output_type": "stream",
     "text": [
      "[1, 2, 2, 3, 3, 3, 4, 4, 4, 3]\n"
     ]
    },
    {
     "name": "stderr",
     "output_type": "stream",
     "text": [
      "WARNING: The following terminal states have different number of cells than requested (30): {'NPB_nohox_2': 26, 'dNC_hoxa2b': 25, 'dNC_nohox': 22, 'NPB_nohox_1': 21, 'mNC_nohox_1': 15, 'mNC_nohox_2': 9}\n",
      "WARNING: Found only one macrostate, making it the singular terminal state\n",
      "WARNING: Unable to compute macrostates with `n_states=5` because it will split complex conjugate eigenvalues. Using `n_states=6`\n"
     ]
    },
    {
     "name": "stdout",
     "output_type": "stream",
     "text": [
      "[1, 2, 2, 3, 3, 3, 4, 4, 4, 3, 3]\n",
      "[1]\n",
      "[1, 2]\n",
      "[1, 2, 2]\n",
      "[1, 2, 2, 3]\n"
     ]
    },
    {
     "name": "stderr",
     "output_type": "stream",
     "text": [
      "WARNING: The following terminal states have different number of cells than requested (30): {'dNC_hoxa2b': 29, 'mNC_head_mesenchymal_1': 12}\n"
     ]
    },
    {
     "name": "stdout",
     "output_type": "stream",
     "text": [
      "[1, 2, 2, 3, 3]\n"
     ]
    },
    {
     "name": "stderr",
     "output_type": "stream",
     "text": [
      "WARNING: The following terminal states have different number of cells than requested (30): {'dNC_hoxa2b': 29, 'mNC_head_mesenchymal_1': 12}\n",
      "WARNING: Unable to compute macrostates with `n_states=7` because it will split complex conjugate eigenvalues. Using `n_states=8`\n"
     ]
    },
    {
     "name": "stdout",
     "output_type": "stream",
     "text": [
      "[1, 2, 2, 3, 3, 3]\n"
     ]
    },
    {
     "name": "stderr",
     "output_type": "stream",
     "text": [
      "WARNING: The following terminal states have different number of cells than requested (30): {'dNC_nohox': 24, 'mNC_arch2': 19, 'mNC_nohox': 7}\n"
     ]
    },
    {
     "name": "stdout",
     "output_type": "stream",
     "text": [
      "[1, 2, 2, 3, 3, 3, 4]\n"
     ]
    },
    {
     "name": "stderr",
     "output_type": "stream",
     "text": [
      "WARNING: The following terminal states have different number of cells than requested (30): {'dNC_nohox': 24, 'mNC_arch2': 19, 'mNC_nohox': 7}\n"
     ]
    },
    {
     "name": "stdout",
     "output_type": "stream",
     "text": [
      "[1, 2, 2, 3, 3, 3, 4, 4]\n"
     ]
    },
    {
     "name": "stderr",
     "output_type": "stream",
     "text": [
      "WARNING: The following terminal states have different number of cells than requested (30): {'dNC_hoxa2b': 29, 'NPB_nohox': 27, 'dNC_nohox': 24}\n"
     ]
    },
    {
     "name": "stdout",
     "output_type": "stream",
     "text": [
      "[1, 2, 2, 3, 3, 3, 4, 4, 4]\n"
     ]
    },
    {
     "name": "stderr",
     "output_type": "stream",
     "text": [
      "WARNING: The following terminal states have different number of cells than requested (30): {'NPB_nohox_2': 29, 'NPB_nohox_1': 28, 'mNC_head_mesenchymal_1': 23, 'dNC_nohox': 19, 'dNC_hoxa2b_2': 18}\n"
     ]
    },
    {
     "name": "stdout",
     "output_type": "stream",
     "text": [
      "[1, 2, 2, 3, 3, 3, 4, 4, 4, 3]\n"
     ]
    },
    {
     "name": "stderr",
     "output_type": "stream",
     "text": [
      "WARNING: The following terminal states have different number of cells than requested (30): {'NPB_nohox_2': 26, 'dNC_hoxa2b': 25, 'dNC_nohox': 22, 'NPB_nohox_1': 21, 'mNC_nohox_1': 15, 'mNC_nohox_2': 9}\n",
      "WARNING: Found only one macrostate, making it the singular terminal state\n",
      "WARNING: Unable to compute macrostates with `n_states=5` because it will split complex conjugate eigenvalues. Using `n_states=6`\n"
     ]
    },
    {
     "name": "stdout",
     "output_type": "stream",
     "text": [
      "[1, 2, 2, 3, 3, 3, 4, 4, 4, 3, 3]\n",
      "[1]\n",
      "[1, 2]\n",
      "[1, 2, 2]\n",
      "[1, 2, 2, 3]\n"
     ]
    },
    {
     "name": "stderr",
     "output_type": "stream",
     "text": [
      "WARNING: The following terminal states have different number of cells than requested (30): {'dNC_hoxa2b': 29, 'mNC_head_mesenchymal_1': 12}\n"
     ]
    },
    {
     "name": "stdout",
     "output_type": "stream",
     "text": [
      "[1, 2, 2, 3, 3]\n"
     ]
    },
    {
     "name": "stderr",
     "output_type": "stream",
     "text": [
      "WARNING: The following terminal states have different number of cells than requested (30): {'dNC_hoxa2b': 29, 'mNC_head_mesenchymal_1': 12}\n",
      "WARNING: Unable to compute macrostates with `n_states=7` because it will split complex conjugate eigenvalues. Using `n_states=8`\n"
     ]
    },
    {
     "name": "stdout",
     "output_type": "stream",
     "text": [
      "[1, 2, 2, 3, 3, 3]\n"
     ]
    },
    {
     "name": "stderr",
     "output_type": "stream",
     "text": [
      "WARNING: The following terminal states have different number of cells than requested (30): {'dNC_nohox': 24, 'mNC_arch2': 19, 'mNC_nohox': 7}\n"
     ]
    },
    {
     "name": "stdout",
     "output_type": "stream",
     "text": [
      "[1, 2, 2, 3, 3, 3, 4]\n"
     ]
    },
    {
     "name": "stderr",
     "output_type": "stream",
     "text": [
      "WARNING: The following terminal states have different number of cells than requested (30): {'dNC_nohox': 24, 'mNC_arch2': 19, 'mNC_nohox': 7}\n"
     ]
    },
    {
     "name": "stdout",
     "output_type": "stream",
     "text": [
      "[1, 2, 2, 3, 3, 3, 4, 4]\n"
     ]
    },
    {
     "name": "stderr",
     "output_type": "stream",
     "text": [
      "WARNING: The following terminal states have different number of cells than requested (30): {'dNC_hoxa2b': 29, 'NPB_nohox': 27, 'dNC_nohox': 24}\n"
     ]
    },
    {
     "name": "stdout",
     "output_type": "stream",
     "text": [
      "[1, 2, 2, 3, 3, 3, 4, 4, 4]\n"
     ]
    },
    {
     "name": "stderr",
     "output_type": "stream",
     "text": [
      "WARNING: The following terminal states have different number of cells than requested (30): {'NPB_nohox_2': 29, 'NPB_nohox_1': 28, 'mNC_head_mesenchymal_1': 23, 'dNC_nohox': 19, 'dNC_hoxa2b_2': 18}\n"
     ]
    },
    {
     "name": "stdout",
     "output_type": "stream",
     "text": [
      "[1, 2, 2, 3, 3, 3, 4, 4, 4, 3]\n"
     ]
    },
    {
     "name": "stderr",
     "output_type": "stream",
     "text": [
      "WARNING: The following terminal states have different number of cells than requested (30): {'NPB_nohox_2': 26, 'dNC_hoxa2b': 25, 'dNC_nohox': 22, 'NPB_nohox_1': 21, 'mNC_nohox_1': 15, 'mNC_nohox_2': 9}\n",
      "WARNING: Found only one macrostate, making it the singular terminal state\n",
      "WARNING: Unable to compute macrostates with `n_states=5` because it will split complex conjugate eigenvalues. Using `n_states=6`\n"
     ]
    },
    {
     "name": "stdout",
     "output_type": "stream",
     "text": [
      "[1, 2, 2, 3, 3, 3, 4, 4, 4, 3, 3]\n",
      "[1]\n",
      "[1, 2]\n",
      "[1, 2, 2]\n",
      "[1, 2, 2, 3]\n"
     ]
    },
    {
     "name": "stderr",
     "output_type": "stream",
     "text": [
      "WARNING: The following terminal states have different number of cells than requested (30): {'dNC_hoxa2b': 29, 'mNC_head_mesenchymal_1': 12}\n"
     ]
    },
    {
     "name": "stdout",
     "output_type": "stream",
     "text": [
      "[1, 2, 2, 3, 3]\n"
     ]
    },
    {
     "name": "stderr",
     "output_type": "stream",
     "text": [
      "WARNING: The following terminal states have different number of cells than requested (30): {'dNC_hoxa2b': 29, 'mNC_head_mesenchymal_1': 12}\n",
      "WARNING: Unable to compute macrostates with `n_states=7` because it will split complex conjugate eigenvalues. Using `n_states=8`\n"
     ]
    },
    {
     "name": "stdout",
     "output_type": "stream",
     "text": [
      "[1, 2, 2, 3, 3, 3]\n"
     ]
    },
    {
     "name": "stderr",
     "output_type": "stream",
     "text": [
      "WARNING: The following terminal states have different number of cells than requested (30): {'dNC_nohox': 24, 'mNC_arch2': 19, 'mNC_nohox': 7}\n"
     ]
    },
    {
     "name": "stdout",
     "output_type": "stream",
     "text": [
      "[1, 2, 2, 3, 3, 3, 4]\n"
     ]
    },
    {
     "name": "stderr",
     "output_type": "stream",
     "text": [
      "WARNING: The following terminal states have different number of cells than requested (30): {'dNC_nohox': 24, 'mNC_arch2': 19, 'mNC_nohox': 7}\n"
     ]
    },
    {
     "name": "stdout",
     "output_type": "stream",
     "text": [
      "[1, 2, 2, 3, 3, 3, 4, 4]\n"
     ]
    },
    {
     "name": "stderr",
     "output_type": "stream",
     "text": [
      "WARNING: The following terminal states have different number of cells than requested (30): {'dNC_hoxa2b': 29, 'NPB_nohox': 27, 'dNC_nohox': 24}\n"
     ]
    },
    {
     "name": "stdout",
     "output_type": "stream",
     "text": [
      "[1, 2, 2, 3, 3, 3, 4, 4, 4]\n"
     ]
    },
    {
     "name": "stderr",
     "output_type": "stream",
     "text": [
      "WARNING: The following terminal states have different number of cells than requested (30): {'NPB_nohox_2': 29, 'NPB_nohox_1': 28, 'mNC_head_mesenchymal_1': 23, 'dNC_nohox': 19, 'dNC_hoxa2b_2': 18}\n"
     ]
    },
    {
     "name": "stdout",
     "output_type": "stream",
     "text": [
      "[1, 2, 2, 3, 3, 3, 4, 4, 4, 3]\n"
     ]
    },
    {
     "name": "stderr",
     "output_type": "stream",
     "text": [
      "WARNING: The following terminal states have different number of cells than requested (30): {'NPB_nohox_2': 26, 'dNC_hoxa2b': 25, 'dNC_nohox': 22, 'NPB_nohox_1': 21, 'mNC_nohox_1': 15, 'mNC_nohox_2': 9}\n",
      "WARNING: Found only one macrostate, making it the singular terminal state\n",
      "WARNING: Unable to compute macrostates with `n_states=5` because it will split complex conjugate eigenvalues. Using `n_states=6`\n"
     ]
    },
    {
     "name": "stdout",
     "output_type": "stream",
     "text": [
      "[1, 2, 2, 3, 3, 3, 4, 4, 4, 3, 3]\n",
      "[1]\n",
      "[1, 2]\n",
      "[1, 2, 2]\n",
      "[1, 2, 2, 3]\n"
     ]
    },
    {
     "name": "stderr",
     "output_type": "stream",
     "text": [
      "WARNING: The following terminal states have different number of cells than requested (30): {'dNC_hoxa2b': 29, 'mNC_head_mesenchymal_1': 12}\n"
     ]
    },
    {
     "name": "stdout",
     "output_type": "stream",
     "text": [
      "[1, 2, 2, 3, 3]\n"
     ]
    },
    {
     "name": "stderr",
     "output_type": "stream",
     "text": [
      "WARNING: The following terminal states have different number of cells than requested (30): {'dNC_hoxa2b': 29, 'mNC_head_mesenchymal_1': 12}\n",
      "WARNING: Unable to compute macrostates with `n_states=7` because it will split complex conjugate eigenvalues. Using `n_states=8`\n"
     ]
    },
    {
     "name": "stdout",
     "output_type": "stream",
     "text": [
      "[1, 2, 2, 3, 3, 3]\n"
     ]
    },
    {
     "name": "stderr",
     "output_type": "stream",
     "text": [
      "WARNING: The following terminal states have different number of cells than requested (30): {'dNC_nohox': 24, 'mNC_arch2': 19, 'mNC_nohox': 7}\n"
     ]
    },
    {
     "name": "stdout",
     "output_type": "stream",
     "text": [
      "[1, 2, 2, 3, 3, 3, 4]\n"
     ]
    },
    {
     "name": "stderr",
     "output_type": "stream",
     "text": [
      "WARNING: The following terminal states have different number of cells than requested (30): {'dNC_nohox': 24, 'mNC_arch2': 19, 'mNC_nohox': 7}\n"
     ]
    },
    {
     "name": "stdout",
     "output_type": "stream",
     "text": [
      "[1, 2, 2, 3, 3, 3, 4, 4]\n"
     ]
    },
    {
     "name": "stderr",
     "output_type": "stream",
     "text": [
      "WARNING: The following terminal states have different number of cells than requested (30): {'dNC_hoxa2b': 29, 'NPB_nohox': 27, 'dNC_nohox': 24}\n"
     ]
    },
    {
     "name": "stdout",
     "output_type": "stream",
     "text": [
      "[1, 2, 2, 3, 3, 3, 4, 4, 4]\n"
     ]
    },
    {
     "name": "stderr",
     "output_type": "stream",
     "text": [
      "WARNING: The following terminal states have different number of cells than requested (30): {'NPB_nohox_2': 29, 'NPB_nohox_1': 28, 'mNC_head_mesenchymal_1': 23, 'dNC_nohox': 19, 'dNC_hoxa2b_2': 18}\n"
     ]
    },
    {
     "name": "stdout",
     "output_type": "stream",
     "text": [
      "[1, 2, 2, 3, 3, 3, 4, 4, 4, 3]\n"
     ]
    },
    {
     "name": "stderr",
     "output_type": "stream",
     "text": [
      "WARNING: The following terminal states have different number of cells than requested (30): {'NPB_nohox_2': 26, 'dNC_hoxa2b': 25, 'dNC_nohox': 22, 'NPB_nohox_1': 21, 'mNC_nohox_1': 15, 'mNC_nohox_2': 9}\n",
      "WARNING: Found only one macrostate, making it the singular terminal state\n",
      "WARNING: Unable to compute macrostates with `n_states=5` because it will split complex conjugate eigenvalues. Using `n_states=6`\n"
     ]
    },
    {
     "name": "stdout",
     "output_type": "stream",
     "text": [
      "[1, 2, 2, 3, 3, 3, 4, 4, 4, 3, 3]\n",
      "[1]\n",
      "[1, 2]\n",
      "[1, 2, 2]\n",
      "[1, 2, 2, 3]\n"
     ]
    },
    {
     "name": "stderr",
     "output_type": "stream",
     "text": [
      "WARNING: The following terminal states have different number of cells than requested (30): {'dNC_hoxa2b': 29, 'mNC_head_mesenchymal_1': 12}\n"
     ]
    },
    {
     "name": "stdout",
     "output_type": "stream",
     "text": [
      "[1, 2, 2, 3, 3]\n"
     ]
    },
    {
     "name": "stderr",
     "output_type": "stream",
     "text": [
      "WARNING: The following terminal states have different number of cells than requested (30): {'dNC_hoxa2b': 29, 'mNC_head_mesenchymal_1': 12}\n",
      "WARNING: Unable to compute macrostates with `n_states=7` because it will split complex conjugate eigenvalues. Using `n_states=8`\n"
     ]
    },
    {
     "name": "stdout",
     "output_type": "stream",
     "text": [
      "[1, 2, 2, 3, 3, 3]\n"
     ]
    },
    {
     "name": "stderr",
     "output_type": "stream",
     "text": [
      "WARNING: The following terminal states have different number of cells than requested (30): {'dNC_nohox': 24, 'mNC_arch2': 19, 'mNC_nohox': 7}\n"
     ]
    },
    {
     "name": "stdout",
     "output_type": "stream",
     "text": [
      "[1, 2, 2, 3, 3, 3, 3]\n"
     ]
    },
    {
     "name": "stderr",
     "output_type": "stream",
     "text": [
      "WARNING: The following terminal states have different number of cells than requested (30): {'dNC_nohox': 24, 'mNC_arch2': 19, 'mNC_nohox': 7}\n"
     ]
    },
    {
     "name": "stdout",
     "output_type": "stream",
     "text": [
      "[1, 2, 2, 3, 3, 3, 3, 3]\n"
     ]
    },
    {
     "name": "stderr",
     "output_type": "stream",
     "text": [
      "WARNING: The following terminal states have different number of cells than requested (30): {'dNC_hoxa2b': 29, 'NPB_nohox': 27, 'dNC_nohox': 24}\n"
     ]
    },
    {
     "name": "stdout",
     "output_type": "stream",
     "text": [
      "[1, 2, 2, 3, 3, 3, 3, 3, 4]\n"
     ]
    },
    {
     "name": "stderr",
     "output_type": "stream",
     "text": [
      "WARNING: The following terminal states have different number of cells than requested (30): {'NPB_nohox_2': 29, 'NPB_nohox_1': 28, 'mNC_head_mesenchymal_1': 23, 'dNC_nohox': 19, 'dNC_hoxa2b_2': 18}\n"
     ]
    },
    {
     "name": "stdout",
     "output_type": "stream",
     "text": [
      "[1, 2, 2, 3, 3, 3, 3, 3, 4, 3]\n"
     ]
    },
    {
     "name": "stderr",
     "output_type": "stream",
     "text": [
      "WARNING: The following terminal states have different number of cells than requested (30): {'NPB_nohox_2': 26, 'dNC_hoxa2b': 25, 'dNC_nohox': 22, 'NPB_nohox_1': 21, 'mNC_nohox_1': 15, 'mNC_nohox_2': 9}\n",
      "WARNING: Found only one macrostate, making it the singular terminal state\n",
      "WARNING: Unable to compute macrostates with `n_states=5` because it will split complex conjugate eigenvalues. Using `n_states=6`\n"
     ]
    },
    {
     "name": "stdout",
     "output_type": "stream",
     "text": [
      "[1, 2, 2, 3, 3, 3, 3, 3, 4, 3, 3]\n",
      "[1]\n",
      "[1, 2]\n",
      "[1, 2, 2]\n",
      "[1, 2, 2, 3]\n"
     ]
    },
    {
     "name": "stderr",
     "output_type": "stream",
     "text": [
      "WARNING: The following terminal states have different number of cells than requested (30): {'dNC_hoxa2b': 29, 'mNC_head_mesenchymal_1': 12}\n"
     ]
    },
    {
     "name": "stdout",
     "output_type": "stream",
     "text": [
      "[1, 2, 2, 3, 3]\n"
     ]
    },
    {
     "name": "stderr",
     "output_type": "stream",
     "text": [
      "WARNING: The following terminal states have different number of cells than requested (30): {'dNC_hoxa2b': 29, 'mNC_head_mesenchymal_1': 12}\n",
      "WARNING: Unable to compute macrostates with `n_states=7` because it will split complex conjugate eigenvalues. Using `n_states=8`\n"
     ]
    },
    {
     "name": "stdout",
     "output_type": "stream",
     "text": [
      "[1, 2, 2, 3, 3, 3]\n"
     ]
    },
    {
     "name": "stderr",
     "output_type": "stream",
     "text": [
      "WARNING: The following terminal states have different number of cells than requested (30): {'dNC_nohox': 24, 'mNC_arch2': 19, 'mNC_nohox': 7}\n"
     ]
    },
    {
     "name": "stdout",
     "output_type": "stream",
     "text": [
      "[1, 2, 2, 3, 3, 3, 3]\n"
     ]
    },
    {
     "name": "stderr",
     "output_type": "stream",
     "text": [
      "WARNING: The following terminal states have different number of cells than requested (30): {'dNC_nohox': 24, 'mNC_arch2': 19, 'mNC_nohox': 7}\n"
     ]
    },
    {
     "name": "stdout",
     "output_type": "stream",
     "text": [
      "[1, 2, 2, 3, 3, 3, 3, 3]\n"
     ]
    },
    {
     "name": "stderr",
     "output_type": "stream",
     "text": [
      "WARNING: The following terminal states have different number of cells than requested (30): {'dNC_hoxa2b': 29, 'NPB_nohox': 27, 'dNC_nohox': 24}\n"
     ]
    },
    {
     "name": "stdout",
     "output_type": "stream",
     "text": [
      "[1, 2, 2, 3, 3, 3, 3, 3, 4]\n"
     ]
    },
    {
     "name": "stderr",
     "output_type": "stream",
     "text": [
      "WARNING: The following terminal states have different number of cells than requested (30): {'NPB_nohox_2': 29, 'NPB_nohox_1': 28, 'mNC_head_mesenchymal_1': 23, 'dNC_nohox': 19, 'dNC_hoxa2b_2': 18}\n"
     ]
    },
    {
     "name": "stdout",
     "output_type": "stream",
     "text": [
      "[1, 2, 2, 3, 3, 3, 3, 3, 4, 3]\n"
     ]
    },
    {
     "name": "stderr",
     "output_type": "stream",
     "text": [
      "WARNING: The following terminal states have different number of cells than requested (30): {'NPB_nohox_2': 26, 'dNC_hoxa2b': 25, 'dNC_nohox': 22, 'NPB_nohox_1': 21, 'mNC_nohox_1': 15, 'mNC_nohox_2': 9}\n",
      "WARNING: Found only one macrostate, making it the singular terminal state\n",
      "WARNING: Unable to compute macrostates with `n_states=5` because it will split complex conjugate eigenvalues. Using `n_states=6`\n"
     ]
    },
    {
     "name": "stdout",
     "output_type": "stream",
     "text": [
      "[1, 2, 2, 3, 3, 3, 3, 3, 4, 3, 3]\n",
      "[1]\n",
      "[1, 2]\n",
      "[1, 2, 2]\n",
      "[1, 2, 2, 3]\n"
     ]
    },
    {
     "name": "stderr",
     "output_type": "stream",
     "text": [
      "WARNING: The following terminal states have different number of cells than requested (30): {'dNC_hoxa2b': 29, 'mNC_head_mesenchymal_1': 12}\n"
     ]
    },
    {
     "name": "stdout",
     "output_type": "stream",
     "text": [
      "[1, 2, 2, 3, 3]\n"
     ]
    },
    {
     "name": "stderr",
     "output_type": "stream",
     "text": [
      "WARNING: The following terminal states have different number of cells than requested (30): {'dNC_hoxa2b': 29, 'mNC_head_mesenchymal_1': 12}\n",
      "WARNING: Unable to compute macrostates with `n_states=7` because it will split complex conjugate eigenvalues. Using `n_states=8`\n"
     ]
    },
    {
     "name": "stdout",
     "output_type": "stream",
     "text": [
      "[1, 2, 2, 3, 3, 3]\n"
     ]
    },
    {
     "name": "stderr",
     "output_type": "stream",
     "text": [
      "WARNING: The following terminal states have different number of cells than requested (30): {'dNC_nohox': 24, 'mNC_arch2': 19, 'mNC_nohox': 7}\n"
     ]
    },
    {
     "name": "stdout",
     "output_type": "stream",
     "text": [
      "[1, 2, 2, 3, 3, 3, 3]\n"
     ]
    },
    {
     "name": "stderr",
     "output_type": "stream",
     "text": [
      "WARNING: The following terminal states have different number of cells than requested (30): {'dNC_nohox': 24, 'mNC_arch2': 19, 'mNC_nohox': 7}\n"
     ]
    },
    {
     "name": "stdout",
     "output_type": "stream",
     "text": [
      "[1, 2, 2, 3, 3, 3, 3, 3]\n"
     ]
    },
    {
     "name": "stderr",
     "output_type": "stream",
     "text": [
      "WARNING: The following terminal states have different number of cells than requested (30): {'dNC_hoxa2b': 29, 'NPB_nohox': 27, 'dNC_nohox': 24}\n"
     ]
    },
    {
     "name": "stdout",
     "output_type": "stream",
     "text": [
      "[1, 2, 2, 3, 3, 3, 3, 3, 4]\n"
     ]
    },
    {
     "name": "stderr",
     "output_type": "stream",
     "text": [
      "WARNING: The following terminal states have different number of cells than requested (30): {'NPB_nohox_2': 29, 'NPB_nohox_1': 28, 'mNC_head_mesenchymal_1': 23, 'dNC_nohox': 19, 'dNC_hoxa2b_2': 18}\n"
     ]
    },
    {
     "name": "stdout",
     "output_type": "stream",
     "text": [
      "[1, 2, 2, 3, 3, 3, 3, 3, 4, 3]\n"
     ]
    },
    {
     "name": "stderr",
     "output_type": "stream",
     "text": [
      "WARNING: The following terminal states have different number of cells than requested (30): {'NPB_nohox_2': 26, 'dNC_hoxa2b': 25, 'dNC_nohox': 22, 'NPB_nohox_1': 21, 'mNC_nohox_1': 15, 'mNC_nohox_2': 9}\n",
      "WARNING: Found only one macrostate, making it the singular terminal state\n",
      "WARNING: Unable to compute macrostates with `n_states=5` because it will split complex conjugate eigenvalues. Using `n_states=6`\n"
     ]
    },
    {
     "name": "stdout",
     "output_type": "stream",
     "text": [
      "[1, 2, 2, 3, 3, 3, 3, 3, 4, 3, 3]\n",
      "[1]\n",
      "[1, 2]\n",
      "[1, 2, 2]\n",
      "[1, 2, 2, 3]\n"
     ]
    },
    {
     "name": "stderr",
     "output_type": "stream",
     "text": [
      "WARNING: The following terminal states have different number of cells than requested (30): {'dNC_hoxa2b': 29, 'mNC_head_mesenchymal_1': 12}\n"
     ]
    },
    {
     "name": "stdout",
     "output_type": "stream",
     "text": [
      "[1, 2, 2, 3, 3]\n"
     ]
    },
    {
     "name": "stderr",
     "output_type": "stream",
     "text": [
      "WARNING: The following terminal states have different number of cells than requested (30): {'dNC_hoxa2b': 29, 'mNC_head_mesenchymal_1': 12}\n",
      "WARNING: Unable to compute macrostates with `n_states=7` because it will split complex conjugate eigenvalues. Using `n_states=8`\n"
     ]
    },
    {
     "name": "stdout",
     "output_type": "stream",
     "text": [
      "[1, 2, 2, 3, 3, 3]\n"
     ]
    },
    {
     "name": "stderr",
     "output_type": "stream",
     "text": [
      "WARNING: The following terminal states have different number of cells than requested (30): {'dNC_nohox': 24, 'mNC_arch2': 19, 'mNC_nohox': 7}\n"
     ]
    },
    {
     "name": "stdout",
     "output_type": "stream",
     "text": [
      "[1, 2, 2, 3, 3, 3, 2]\n"
     ]
    },
    {
     "name": "stderr",
     "output_type": "stream",
     "text": [
      "WARNING: The following terminal states have different number of cells than requested (30): {'dNC_nohox': 24, 'mNC_arch2': 19, 'mNC_nohox': 7}\n"
     ]
    },
    {
     "name": "stdout",
     "output_type": "stream",
     "text": [
      "[1, 2, 2, 3, 3, 3, 2, 2]\n"
     ]
    },
    {
     "name": "stderr",
     "output_type": "stream",
     "text": [
      "WARNING: The following terminal states have different number of cells than requested (30): {'dNC_hoxa2b': 29, 'NPB_nohox': 27, 'dNC_nohox': 24}\n"
     ]
    },
    {
     "name": "stdout",
     "output_type": "stream",
     "text": [
      "[1, 2, 2, 3, 3, 3, 2, 2, 4]\n"
     ]
    },
    {
     "name": "stderr",
     "output_type": "stream",
     "text": [
      "WARNING: The following terminal states have different number of cells than requested (30): {'NPB_nohox_2': 29, 'NPB_nohox_1': 28, 'mNC_head_mesenchymal_1': 23, 'dNC_nohox': 19, 'dNC_hoxa2b_2': 18}\n"
     ]
    },
    {
     "name": "stdout",
     "output_type": "stream",
     "text": [
      "[1, 2, 2, 3, 3, 3, 2, 2, 4, 3]\n"
     ]
    },
    {
     "name": "stderr",
     "output_type": "stream",
     "text": [
      "WARNING: The following terminal states have different number of cells than requested (30): {'NPB_nohox_2': 26, 'dNC_hoxa2b': 25, 'dNC_nohox': 22, 'NPB_nohox_1': 21, 'mNC_nohox_1': 15, 'mNC_nohox_2': 9}\n",
      "WARNING: Found only one macrostate, making it the singular terminal state\n",
      "WARNING: Unable to compute macrostates with `n_states=5` because it will split complex conjugate eigenvalues. Using `n_states=6`\n"
     ]
    },
    {
     "name": "stdout",
     "output_type": "stream",
     "text": [
      "[1, 2, 2, 3, 3, 3, 2, 2, 4, 3, 3]\n",
      "[1]\n",
      "[1, 2]\n",
      "[1, 2, 2]\n",
      "[1, 2, 2, 3]\n"
     ]
    },
    {
     "name": "stderr",
     "output_type": "stream",
     "text": [
      "WARNING: The following terminal states have different number of cells than requested (30): {'dNC_hoxa2b': 29, 'mNC_head_mesenchymal_1': 12}\n"
     ]
    },
    {
     "name": "stdout",
     "output_type": "stream",
     "text": [
      "[1, 2, 2, 3, 3]\n"
     ]
    },
    {
     "name": "stderr",
     "output_type": "stream",
     "text": [
      "WARNING: The following terminal states have different number of cells than requested (30): {'dNC_hoxa2b': 29, 'mNC_head_mesenchymal_1': 12}\n",
      "WARNING: Unable to compute macrostates with `n_states=7` because it will split complex conjugate eigenvalues. Using `n_states=8`\n"
     ]
    },
    {
     "name": "stdout",
     "output_type": "stream",
     "text": [
      "[1, 2, 2, 3, 3, 3]\n"
     ]
    },
    {
     "name": "stderr",
     "output_type": "stream",
     "text": [
      "WARNING: The following terminal states have different number of cells than requested (30): {'dNC_nohox': 24, 'mNC_arch2': 19, 'mNC_nohox': 7}\n"
     ]
    },
    {
     "name": "stdout",
     "output_type": "stream",
     "text": [
      "[1, 2, 2, 3, 3, 3, 2]\n"
     ]
    },
    {
     "name": "stderr",
     "output_type": "stream",
     "text": [
      "WARNING: The following terminal states have different number of cells than requested (30): {'dNC_nohox': 24, 'mNC_arch2': 19, 'mNC_nohox': 7}\n"
     ]
    },
    {
     "name": "stdout",
     "output_type": "stream",
     "text": [
      "[1, 2, 2, 3, 3, 3, 2, 2]\n"
     ]
    },
    {
     "name": "stderr",
     "output_type": "stream",
     "text": [
      "WARNING: The following terminal states have different number of cells than requested (30): {'dNC_hoxa2b': 29, 'NPB_nohox': 27, 'dNC_nohox': 24}\n"
     ]
    },
    {
     "name": "stdout",
     "output_type": "stream",
     "text": [
      "[1, 2, 2, 3, 3, 3, 2, 2, 3]\n"
     ]
    },
    {
     "name": "stderr",
     "output_type": "stream",
     "text": [
      "WARNING: The following terminal states have different number of cells than requested (30): {'NPB_nohox_2': 29, 'NPB_nohox_1': 28, 'mNC_head_mesenchymal_1': 23, 'dNC_nohox': 19, 'dNC_hoxa2b_2': 18}\n"
     ]
    },
    {
     "name": "stdout",
     "output_type": "stream",
     "text": [
      "[1, 2, 2, 3, 3, 3, 2, 2, 3, 2]\n"
     ]
    },
    {
     "name": "stderr",
     "output_type": "stream",
     "text": [
      "WARNING: The following terminal states have different number of cells than requested (30): {'NPB_nohox_2': 26, 'dNC_hoxa2b': 25, 'dNC_nohox': 22, 'NPB_nohox_1': 21, 'mNC_nohox_1': 15, 'mNC_nohox_2': 9}\n",
      "WARNING: Found only one macrostate, making it the singular terminal state\n",
      "WARNING: Unable to compute macrostates with `n_states=5` because it will split complex conjugate eigenvalues. Using `n_states=6`\n"
     ]
    },
    {
     "name": "stdout",
     "output_type": "stream",
     "text": [
      "[1, 2, 2, 3, 3, 3, 2, 2, 3, 2, 3]\n",
      "[1]\n",
      "[1, 2]\n",
      "[1, 2, 2]\n",
      "[1, 2, 2, 3]\n"
     ]
    },
    {
     "name": "stderr",
     "output_type": "stream",
     "text": [
      "WARNING: The following terminal states have different number of cells than requested (30): {'dNC_hoxa2b': 29, 'mNC_head_mesenchymal_1': 12}\n"
     ]
    },
    {
     "name": "stdout",
     "output_type": "stream",
     "text": [
      "[1, 2, 2, 3, 3]\n"
     ]
    },
    {
     "name": "stderr",
     "output_type": "stream",
     "text": [
      "WARNING: The following terminal states have different number of cells than requested (30): {'dNC_hoxa2b': 29, 'mNC_head_mesenchymal_1': 12}\n",
      "WARNING: Unable to compute macrostates with `n_states=7` because it will split complex conjugate eigenvalues. Using `n_states=8`\n"
     ]
    },
    {
     "name": "stdout",
     "output_type": "stream",
     "text": [
      "[1, 2, 2, 3, 3, 3]\n"
     ]
    },
    {
     "name": "stderr",
     "output_type": "stream",
     "text": [
      "WARNING: The following terminal states have different number of cells than requested (30): {'dNC_nohox': 24, 'mNC_arch2': 19, 'mNC_nohox': 7}\n"
     ]
    },
    {
     "name": "stdout",
     "output_type": "stream",
     "text": [
      "[1, 2, 2, 3, 3, 3, 2]\n"
     ]
    },
    {
     "name": "stderr",
     "output_type": "stream",
     "text": [
      "WARNING: The following terminal states have different number of cells than requested (30): {'dNC_nohox': 24, 'mNC_arch2': 19, 'mNC_nohox': 7}\n"
     ]
    },
    {
     "name": "stdout",
     "output_type": "stream",
     "text": [
      "[1, 2, 2, 3, 3, 3, 2, 2]\n"
     ]
    },
    {
     "name": "stderr",
     "output_type": "stream",
     "text": [
      "WARNING: The following terminal states have different number of cells than requested (30): {'dNC_hoxa2b': 29, 'NPB_nohox': 27, 'dNC_nohox': 24}\n"
     ]
    },
    {
     "name": "stdout",
     "output_type": "stream",
     "text": [
      "[1, 2, 2, 3, 3, 3, 2, 2, 3]\n"
     ]
    },
    {
     "name": "stderr",
     "output_type": "stream",
     "text": [
      "WARNING: The following terminal states have different number of cells than requested (30): {'NPB_nohox_2': 29, 'NPB_nohox_1': 28, 'mNC_head_mesenchymal_1': 23, 'dNC_nohox': 19, 'dNC_hoxa2b_2': 18}\n"
     ]
    },
    {
     "name": "stdout",
     "output_type": "stream",
     "text": [
      "[1, 2, 2, 3, 3, 3, 2, 2, 3, 2]\n"
     ]
    },
    {
     "name": "stderr",
     "output_type": "stream",
     "text": [
      "WARNING: The following terminal states have different number of cells than requested (30): {'NPB_nohox_2': 26, 'dNC_hoxa2b': 25, 'dNC_nohox': 22, 'NPB_nohox_1': 21, 'mNC_nohox_1': 15, 'mNC_nohox_2': 9}\n",
      "WARNING: Found only one macrostate, making it the singular terminal state\n",
      "WARNING: Unable to compute macrostates with `n_states=5` because it will split complex conjugate eigenvalues. Using `n_states=6`\n"
     ]
    },
    {
     "name": "stdout",
     "output_type": "stream",
     "text": [
      "[1, 2, 2, 3, 3, 3, 2, 2, 3, 2, 2]\n",
      "[1]\n",
      "[1, 2]\n",
      "[1, 2, 2]\n",
      "[1, 2, 2, 3]\n"
     ]
    },
    {
     "name": "stderr",
     "output_type": "stream",
     "text": [
      "WARNING: The following terminal states have different number of cells than requested (30): {'dNC_hoxa2b': 29, 'mNC_head_mesenchymal_1': 12}\n"
     ]
    },
    {
     "name": "stdout",
     "output_type": "stream",
     "text": [
      "[1, 2, 2, 3, 2]\n"
     ]
    },
    {
     "name": "stderr",
     "output_type": "stream",
     "text": [
      "WARNING: The following terminal states have different number of cells than requested (30): {'dNC_hoxa2b': 29, 'mNC_head_mesenchymal_1': 12}\n",
      "WARNING: Unable to compute macrostates with `n_states=7` because it will split complex conjugate eigenvalues. Using `n_states=8`\n"
     ]
    },
    {
     "name": "stdout",
     "output_type": "stream",
     "text": [
      "[1, 2, 2, 3, 2, 2]\n"
     ]
    },
    {
     "name": "stderr",
     "output_type": "stream",
     "text": [
      "WARNING: The following terminal states have different number of cells than requested (30): {'dNC_nohox': 24, 'mNC_arch2': 19, 'mNC_nohox': 7}\n"
     ]
    },
    {
     "name": "stdout",
     "output_type": "stream",
     "text": [
      "[1, 2, 2, 3, 2, 2, 2]\n"
     ]
    },
    {
     "name": "stderr",
     "output_type": "stream",
     "text": [
      "WARNING: The following terminal states have different number of cells than requested (30): {'dNC_nohox': 24, 'mNC_arch2': 19, 'mNC_nohox': 7}\n"
     ]
    },
    {
     "name": "stdout",
     "output_type": "stream",
     "text": [
      "[1, 2, 2, 3, 2, 2, 2, 2]\n"
     ]
    },
    {
     "name": "stderr",
     "output_type": "stream",
     "text": [
      "WARNING: The following terminal states have different number of cells than requested (30): {'dNC_hoxa2b': 29, 'NPB_nohox': 27, 'dNC_nohox': 24}\n"
     ]
    },
    {
     "name": "stdout",
     "output_type": "stream",
     "text": [
      "[1, 2, 2, 3, 2, 2, 2, 2, 2]\n"
     ]
    },
    {
     "name": "stderr",
     "output_type": "stream",
     "text": [
      "WARNING: The following terminal states have different number of cells than requested (30): {'NPB_nohox_2': 29, 'NPB_nohox_1': 28, 'mNC_head_mesenchymal_1': 23, 'dNC_nohox': 19, 'dNC_hoxa2b_2': 18}\n"
     ]
    },
    {
     "name": "stdout",
     "output_type": "stream",
     "text": [
      "[1, 2, 2, 3, 2, 2, 2, 2, 2, 2]\n"
     ]
    },
    {
     "name": "stderr",
     "output_type": "stream",
     "text": [
      "WARNING: The following terminal states have different number of cells than requested (30): {'NPB_nohox_2': 26, 'dNC_hoxa2b': 25, 'dNC_nohox': 22, 'NPB_nohox_1': 21, 'mNC_nohox_1': 15, 'mNC_nohox_2': 9}\n",
      "WARNING: Found only one macrostate, making it the singular terminal state\n",
      "WARNING: Unable to compute macrostates with `n_states=5` because it will split complex conjugate eigenvalues. Using `n_states=6`\n"
     ]
    },
    {
     "name": "stdout",
     "output_type": "stream",
     "text": [
      "[1, 2, 2, 3, 2, 2, 2, 2, 2, 2, 2]\n",
      "[1]\n",
      "[1, 2]\n",
      "[1, 2, 2]\n",
      "[1, 2, 2, 2]\n"
     ]
    },
    {
     "name": "stderr",
     "output_type": "stream",
     "text": [
      "WARNING: The following terminal states have different number of cells than requested (30): {'dNC_hoxa2b': 29, 'mNC_head_mesenchymal_1': 12}\n"
     ]
    },
    {
     "name": "stdout",
     "output_type": "stream",
     "text": [
      "[1, 2, 2, 2, 2]\n"
     ]
    },
    {
     "name": "stderr",
     "output_type": "stream",
     "text": [
      "WARNING: The following terminal states have different number of cells than requested (30): {'dNC_hoxa2b': 29, 'mNC_head_mesenchymal_1': 12}\n",
      "WARNING: Unable to compute macrostates with `n_states=7` because it will split complex conjugate eigenvalues. Using `n_states=8`\n"
     ]
    },
    {
     "name": "stdout",
     "output_type": "stream",
     "text": [
      "[1, 2, 2, 2, 2, 2]\n"
     ]
    },
    {
     "name": "stderr",
     "output_type": "stream",
     "text": [
      "WARNING: The following terminal states have different number of cells than requested (30): {'dNC_nohox': 24, 'mNC_arch2': 19, 'mNC_nohox': 7}\n"
     ]
    },
    {
     "name": "stdout",
     "output_type": "stream",
     "text": [
      "[1, 2, 2, 2, 2, 2, 1]\n"
     ]
    },
    {
     "name": "stderr",
     "output_type": "stream",
     "text": [
      "WARNING: The following terminal states have different number of cells than requested (30): {'dNC_nohox': 24, 'mNC_arch2': 19, 'mNC_nohox': 7}\n"
     ]
    },
    {
     "name": "stdout",
     "output_type": "stream",
     "text": [
      "[1, 2, 2, 2, 2, 2, 1, 1]\n"
     ]
    },
    {
     "name": "stderr",
     "output_type": "stream",
     "text": [
      "WARNING: The following terminal states have different number of cells than requested (30): {'dNC_hoxa2b': 29, 'NPB_nohox': 27, 'dNC_nohox': 24}\n"
     ]
    },
    {
     "name": "stdout",
     "output_type": "stream",
     "text": [
      "[1, 2, 2, 2, 2, 2, 1, 1, 2]\n"
     ]
    },
    {
     "name": "stderr",
     "output_type": "stream",
     "text": [
      "WARNING: The following terminal states have different number of cells than requested (30): {'NPB_nohox_2': 29, 'NPB_nohox_1': 28, 'mNC_head_mesenchymal_1': 23, 'dNC_nohox': 19, 'dNC_hoxa2b_2': 18}\n"
     ]
    },
    {
     "name": "stdout",
     "output_type": "stream",
     "text": [
      "[1, 2, 2, 2, 2, 2, 1, 1, 2, 2]\n"
     ]
    },
    {
     "name": "stderr",
     "output_type": "stream",
     "text": [
      "WARNING: The following terminal states have different number of cells than requested (30): {'NPB_nohox_2': 26, 'dNC_hoxa2b': 25, 'dNC_nohox': 22, 'NPB_nohox_1': 21, 'mNC_nohox_1': 15, 'mNC_nohox_2': 9}\n",
      "WARNING: Found only one macrostate, making it the singular terminal state\n",
      "WARNING: Unable to compute macrostates with `n_states=5` because it will split complex conjugate eigenvalues. Using `n_states=6`\n"
     ]
    },
    {
     "name": "stdout",
     "output_type": "stream",
     "text": [
      "[1, 2, 2, 2, 2, 2, 1, 1, 2, 2, 2]\n",
      "[1]\n",
      "[1, 2]\n",
      "[1, 2, 2]\n",
      "[1, 2, 2, 2]\n"
     ]
    },
    {
     "name": "stderr",
     "output_type": "stream",
     "text": [
      "WARNING: The following terminal states have different number of cells than requested (30): {'dNC_hoxa2b': 29, 'mNC_head_mesenchymal_1': 12}\n"
     ]
    },
    {
     "name": "stdout",
     "output_type": "stream",
     "text": [
      "[1, 2, 2, 2, 2]\n"
     ]
    },
    {
     "name": "stderr",
     "output_type": "stream",
     "text": [
      "WARNING: The following terminal states have different number of cells than requested (30): {'dNC_hoxa2b': 29, 'mNC_head_mesenchymal_1': 12}\n",
      "WARNING: Unable to compute macrostates with `n_states=7` because it will split complex conjugate eigenvalues. Using `n_states=8`\n"
     ]
    },
    {
     "name": "stdout",
     "output_type": "stream",
     "text": [
      "[1, 2, 2, 2, 2, 2]\n"
     ]
    },
    {
     "name": "stderr",
     "output_type": "stream",
     "text": [
      "WARNING: The following terminal states have different number of cells than requested (30): {'dNC_nohox': 24, 'mNC_arch2': 19, 'mNC_nohox': 7}\n"
     ]
    },
    {
     "name": "stdout",
     "output_type": "stream",
     "text": [
      "[1, 2, 2, 2, 2, 2, 1]\n"
     ]
    },
    {
     "name": "stderr",
     "output_type": "stream",
     "text": [
      "WARNING: The following terminal states have different number of cells than requested (30): {'dNC_nohox': 24, 'mNC_arch2': 19, 'mNC_nohox': 7}\n"
     ]
    },
    {
     "name": "stdout",
     "output_type": "stream",
     "text": [
      "[1, 2, 2, 2, 2, 2, 1, 1]\n"
     ]
    },
    {
     "name": "stderr",
     "output_type": "stream",
     "text": [
      "WARNING: The following terminal states have different number of cells than requested (30): {'dNC_hoxa2b': 29, 'NPB_nohox': 27, 'dNC_nohox': 24}\n"
     ]
    },
    {
     "name": "stdout",
     "output_type": "stream",
     "text": [
      "[1, 2, 2, 2, 2, 2, 1, 1, 2]\n"
     ]
    },
    {
     "name": "stderr",
     "output_type": "stream",
     "text": [
      "WARNING: The following terminal states have different number of cells than requested (30): {'NPB_nohox_2': 29, 'NPB_nohox_1': 28, 'mNC_head_mesenchymal_1': 23, 'dNC_nohox': 19, 'dNC_hoxa2b_2': 18}\n"
     ]
    },
    {
     "name": "stdout",
     "output_type": "stream",
     "text": [
      "[1, 2, 2, 2, 2, 2, 1, 1, 2, 2]\n"
     ]
    },
    {
     "name": "stderr",
     "output_type": "stream",
     "text": [
      "WARNING: The following terminal states have different number of cells than requested (30): {'NPB_nohox_2': 26, 'dNC_hoxa2b': 25, 'dNC_nohox': 22, 'NPB_nohox_1': 21, 'mNC_nohox_1': 15, 'mNC_nohox_2': 9}\n",
      "WARNING: Found only one macrostate, making it the singular terminal state\n",
      "WARNING: Unable to compute macrostates with `n_states=5` because it will split complex conjugate eigenvalues. Using `n_states=6`\n"
     ]
    },
    {
     "name": "stdout",
     "output_type": "stream",
     "text": [
      "[1, 2, 2, 2, 2, 2, 1, 1, 2, 2, 1]\n",
      "[1]\n",
      "[1, 2]\n",
      "[1, 2, 1]\n",
      "[1, 2, 1, 1]\n"
     ]
    },
    {
     "name": "stderr",
     "output_type": "stream",
     "text": [
      "WARNING: The following terminal states have different number of cells than requested (30): {'dNC_hoxa2b': 29, 'mNC_head_mesenchymal_1': 12}\n"
     ]
    },
    {
     "name": "stdout",
     "output_type": "stream",
     "text": [
      "[1, 2, 1, 1, 1]\n"
     ]
    },
    {
     "name": "stderr",
     "output_type": "stream",
     "text": [
      "WARNING: The following terminal states have different number of cells than requested (30): {'dNC_hoxa2b': 29, 'mNC_head_mesenchymal_1': 12}\n",
      "WARNING: Unable to compute macrostates with `n_states=7` because it will split complex conjugate eigenvalues. Using `n_states=8`\n"
     ]
    },
    {
     "name": "stdout",
     "output_type": "stream",
     "text": [
      "[1, 2, 1, 1, 1, 1]\n"
     ]
    },
    {
     "name": "stderr",
     "output_type": "stream",
     "text": [
      "WARNING: The following terminal states have different number of cells than requested (30): {'dNC_nohox': 24, 'mNC_arch2': 19, 'mNC_nohox': 7}\n"
     ]
    },
    {
     "name": "stdout",
     "output_type": "stream",
     "text": [
      "[1, 2, 1, 1, 1, 1, 1]\n"
     ]
    },
    {
     "name": "stderr",
     "output_type": "stream",
     "text": [
      "WARNING: The following terminal states have different number of cells than requested (30): {'dNC_nohox': 24, 'mNC_arch2': 19, 'mNC_nohox': 7}\n"
     ]
    },
    {
     "name": "stdout",
     "output_type": "stream",
     "text": [
      "[1, 2, 1, 1, 1, 1, 1, 1]\n"
     ]
    },
    {
     "name": "stderr",
     "output_type": "stream",
     "text": [
      "WARNING: The following terminal states have different number of cells than requested (30): {'dNC_hoxa2b': 29, 'NPB_nohox': 27, 'dNC_nohox': 24}\n"
     ]
    },
    {
     "name": "stdout",
     "output_type": "stream",
     "text": [
      "[1, 2, 1, 1, 1, 1, 1, 1, 2]\n"
     ]
    },
    {
     "name": "stderr",
     "output_type": "stream",
     "text": [
      "WARNING: The following terminal states have different number of cells than requested (30): {'NPB_nohox_2': 29, 'NPB_nohox_1': 28, 'mNC_head_mesenchymal_1': 23, 'dNC_nohox': 19, 'dNC_hoxa2b_2': 18}\n"
     ]
    },
    {
     "name": "stdout",
     "output_type": "stream",
     "text": [
      "[1, 2, 1, 1, 1, 1, 1, 1, 2, 2]\n"
     ]
    },
    {
     "name": "stderr",
     "output_type": "stream",
     "text": [
      "WARNING: The following terminal states have different number of cells than requested (30): {'NPB_nohox_2': 26, 'dNC_hoxa2b': 25, 'dNC_nohox': 22, 'NPB_nohox_1': 21, 'mNC_nohox_1': 15, 'mNC_nohox_2': 9}\n",
      "WARNING: Found only one macrostate, making it the singular terminal state\n",
      "WARNING: Unable to compute macrostates with `n_states=5` because it will split complex conjugate eigenvalues. Using `n_states=6`\n"
     ]
    },
    {
     "name": "stdout",
     "output_type": "stream",
     "text": [
      "[1, 2, 1, 1, 1, 1, 1, 1, 2, 2, 1]\n",
      "[1]\n",
      "[1, 1]\n",
      "[1, 1, 1]\n",
      "[1, 1, 1, 1]\n"
     ]
    },
    {
     "name": "stderr",
     "output_type": "stream",
     "text": [
      "WARNING: The following terminal states have different number of cells than requested (30): {'dNC_hoxa2b': 29, 'mNC_head_mesenchymal_1': 12}\n"
     ]
    },
    {
     "name": "stdout",
     "output_type": "stream",
     "text": [
      "[1, 1, 1, 1, 1]\n"
     ]
    },
    {
     "name": "stderr",
     "output_type": "stream",
     "text": [
      "WARNING: The following terminal states have different number of cells than requested (30): {'dNC_hoxa2b': 29, 'mNC_head_mesenchymal_1': 12}\n",
      "WARNING: Unable to compute macrostates with `n_states=7` because it will split complex conjugate eigenvalues. Using `n_states=8`\n"
     ]
    },
    {
     "name": "stdout",
     "output_type": "stream",
     "text": [
      "[1, 1, 1, 1, 1, 1]\n"
     ]
    },
    {
     "name": "stderr",
     "output_type": "stream",
     "text": [
      "WARNING: The following terminal states have different number of cells than requested (30): {'dNC_nohox': 24, 'mNC_arch2': 19, 'mNC_nohox': 7}\n"
     ]
    },
    {
     "name": "stdout",
     "output_type": "stream",
     "text": [
      "[1, 1, 1, 1, 1, 1, 1]\n"
     ]
    },
    {
     "name": "stderr",
     "output_type": "stream",
     "text": [
      "WARNING: The following terminal states have different number of cells than requested (30): {'dNC_nohox': 24, 'mNC_arch2': 19, 'mNC_nohox': 7}\n"
     ]
    },
    {
     "name": "stdout",
     "output_type": "stream",
     "text": [
      "[1, 1, 1, 1, 1, 1, 1, 1]\n"
     ]
    },
    {
     "name": "stderr",
     "output_type": "stream",
     "text": [
      "WARNING: The following terminal states have different number of cells than requested (30): {'dNC_hoxa2b': 29, 'NPB_nohox': 27, 'dNC_nohox': 24}\n"
     ]
    },
    {
     "name": "stdout",
     "output_type": "stream",
     "text": [
      "[1, 1, 1, 1, 1, 1, 1, 1, 2]\n"
     ]
    },
    {
     "name": "stderr",
     "output_type": "stream",
     "text": [
      "WARNING: The following terminal states have different number of cells than requested (30): {'NPB_nohox_2': 29, 'NPB_nohox_1': 28, 'mNC_head_mesenchymal_1': 23, 'dNC_nohox': 19, 'dNC_hoxa2b_2': 18}\n"
     ]
    },
    {
     "name": "stdout",
     "output_type": "stream",
     "text": [
      "[1, 1, 1, 1, 1, 1, 1, 1, 2, 2]\n"
     ]
    },
    {
     "name": "stderr",
     "output_type": "stream",
     "text": [
      "WARNING: The following terminal states have different number of cells than requested (30): {'NPB_nohox_2': 26, 'dNC_hoxa2b': 25, 'dNC_nohox': 22, 'NPB_nohox_1': 21, 'mNC_nohox_1': 15, 'mNC_nohox_2': 9}\n"
     ]
    },
    {
     "name": "stdout",
     "output_type": "stream",
     "text": [
      "Error: No macrostates have been selected.\n",
      "[1, 1, 1, 1, 1, 1, 1, 1, 2, 2, 2]\n"
     ]
    }
   ],
   "source": [
    "points = np.linspace(0, 1, 21)[:20]\n",
    "tsi_rgv = TSI_score(points,\"cell_type\",terminal_states,rgv_g,all_dict)\n",
    "tsi_vi = TSI_score(points,\"cell_type\",terminal_states,vi_g,all_dict)\n",
    "tsi_scv = TSI_score(points,\"cell_type\",terminal_states,scv_g,all_dict)"
   ]
  },
  {
   "cell_type": "code",
   "execution_count": 50,
   "id": "0030c8da-57cb-4144-b80a-834197f39082",
   "metadata": {
    "tags": []
   },
   "outputs": [
    {
     "data": {
      "image/png": "[encoded data removed]",
      "text/plain": [
       "<Figure size 240x320 with 1 Axes>"
      ]
     },
     "metadata": {
      "image/png": {
       "height": 298,
       "width": 250
      }
     },
     "output_type": "display_data"
    }
   ],
   "source": [
    "df = pd.DataFrame(\n",
    "    {\n",
    "        \"TSI\":  tsi_rgv + tsi_vi + tsi_scv,\n",
    "        \"Model\": [\"RegVelo\"] * 20 + [\"veloVI\"] * 20 + [\"scVelo\"] * 20\n",
    "    }\n",
    ")        \n",
    "with mplscience.style_context():\n",
    "    sns.set_style(style=\"whitegrid\")\n",
    "    fig, ax = plt.subplots(figsize=(3, 4))\n",
    "\n",
    "    sns.barplot(data=df, x=\"Model\", y=\"TSI\", palette=\"colorblind\", ax=ax)\n",
    "    \n",
    "    ttest_res = wilcoxon(tsi_rgv, tsi_vi, alternative=\"greater\")\n",
    "    significance = get_significance(ttest_res.pvalue)\n",
    "    add_significance(\n",
    "        ax=ax, left=0, right=1, significance=significance, lw=1, bracket_level=1.05, c=\"k\", level=0,\n",
    "    )\n",
    "\n",
    "    ttest_res = wilcoxon(tsi_rgv, tsi_scv, alternative=\"greater\")\n",
    "    significance = get_significance(ttest_res.pvalue)\n",
    "    add_significance(\n",
    "        ax=ax, left=0, right=2, significance=significance, lw=1, c=\"k\", level=2, bracket_level=0.9\n",
    "    )\n",
    "\n",
    "    y_min, y_max = ax.get_ylim()\n",
    "    ax.set_ylim([y_min, y_max + 0.02])\n",
    "    \n",
    "    #ax.set_yticks([0.2, 0.4, 0.6, 0.8, 1.0])\n",
    "    #ax.set_yticklabels([0.2, 0.4, 0.6, 0.8, 1.0]);\n",
    "    if SAVE_FIGURES:\n",
    "        fig.savefig(\n",
    "            FIG_DIR / \"zebrafish\" / \"benchmark\" / \"TSI_benchmark.svg\",\n",
    "            format=\"svg\",\n",
    "            transparent=True,\n",
    "            bbox_inches='tight'\n",
    "        )\n",
    "    plt.show()"
   ]
  },
  {
   "cell_type": "code",
   "execution_count": 51,
   "id": "04e7e112-92bd-419e-8311-c09af9d14729",
   "metadata": {
    "tags": []
   },
   "outputs": [
    {
     "name": "stderr",
     "output_type": "stream",
     "text": [
      "WARNING: Found only one macrostate, making it the singular terminal state\n"
     ]
    },
    {
     "name": "stdout",
     "output_type": "stream",
     "text": [
      "[1]\n",
      "[1, 2]\n",
      "[1, 2, 2]\n",
      "[1, 2, 2, 2]\n",
      "[1, 2, 2, 2, 3]\n",
      "[1, 2, 2, 2, 3, 4]\n",
      "[1, 2, 2, 2, 3, 4, 4]\n",
      "[1, 2, 2, 2, 3, 4, 4, 4]\n"
     ]
    },
    {
     "name": "stderr",
     "output_type": "stream",
     "text": [
      "WARNING: The following terminal states have different number of cells than requested (30): {'dNC_hoxa2b': 27}\n"
     ]
    },
    {
     "name": "stdout",
     "output_type": "stream",
     "text": [
      "[1, 2, 2, 2, 3, 4, 4, 4, 4]\n",
      "[1, 2, 2, 2, 3, 4, 4, 4, 4, 4]\n"
     ]
    },
    {
     "name": "stderr",
     "output_type": "stream",
     "text": [
      "WARNING: The following terminal states have different number of cells than requested (30): {'mNC_arch2_1': 6}\n",
      "WARNING: Found only one macrostate, making it the singular terminal state\n"
     ]
    },
    {
     "name": "stdout",
     "output_type": "stream",
     "text": [
      "[1, 2, 2, 2, 3, 4, 4, 4, 4, 4, 4]\n",
      "[1]\n",
      "[1, 2]\n",
      "[1, 2, 2]\n",
      "[1, 2, 2, 2]\n"
     ]
    },
    {
     "name": "stderr",
     "output_type": "stream",
     "text": [
      "WARNING: Unable to compute macrostates with `n_states=6` because it will split complex conjugate eigenvalues. Using `n_states=7`\n"
     ]
    },
    {
     "name": "stdout",
     "output_type": "stream",
     "text": [
      "Error: Discretizing leads to a cluster with `3` samples, less than the threshold which is `6` samples. Consider recomputing the fuzzy clustering.\n",
      "[1, 2, 2, 2, 2]\n"
     ]
    },
    {
     "name": "stderr",
     "output_type": "stream",
     "text": [
      "WARNING: The following terminal states have different number of cells than requested (30): {'dNC_hox34': 29, 'NPB_nohox': 28}\n"
     ]
    },
    {
     "name": "stdout",
     "output_type": "stream",
     "text": [
      "[1, 2, 2, 2, 2, 2]\n"
     ]
    },
    {
     "name": "stderr",
     "output_type": "stream",
     "text": [
      "WARNING: The following terminal states have different number of cells than requested (30): {'dNC_hox34': 29, 'NPB_nohox': 28}\n"
     ]
    },
    {
     "name": "stdout",
     "output_type": "stream",
     "text": [
      "[1, 2, 2, 2, 2, 2, 2]\n"
     ]
    },
    {
     "name": "stderr",
     "output_type": "stream",
     "text": [
      "WARNING: The following terminal states have different number of cells than requested (30): {'dNC_nohox': 26}\n",
      "WARNING: Unable to compute macrostates with `n_states=9` because it will split complex conjugate eigenvalues. Using `n_states=10`\n"
     ]
    },
    {
     "name": "stdout",
     "output_type": "stream",
     "text": [
      "[1, 2, 2, 2, 2, 2, 2, 2]\n"
     ]
    },
    {
     "name": "stderr",
     "output_type": "stream",
     "text": [
      "WARNING: The following terminal states have different number of cells than requested (30): {'dNC_hoxa2b_1': 28, 'dNC_hoxa2b_2': 27, 'dNC_hox34': 26, 'NPB_nohox': 25, 'dNC_nohox': 25}\n"
     ]
    },
    {
     "name": "stdout",
     "output_type": "stream",
     "text": [
      "[1, 2, 2, 2, 2, 2, 2, 2, 1]\n"
     ]
    },
    {
     "name": "stderr",
     "output_type": "stream",
     "text": [
      "WARNING: The following terminal states have different number of cells than requested (30): {'dNC_hoxa2b_1': 28, 'dNC_hoxa2b_2': 27, 'dNC_hox34': 26, 'NPB_nohox': 25, 'dNC_nohox': 25}\n"
     ]
    },
    {
     "name": "stdout",
     "output_type": "stream",
     "text": [
      "[1, 2, 2, 2, 2, 2, 2, 2, 1, 1]\n"
     ]
    },
    {
     "name": "stderr",
     "output_type": "stream",
     "text": [
      "WARNING: The following terminal states have different number of cells than requested (30): {'dNC_hox34': 29, 'dNC_nohox_2': 28, 'dNC_hoxa2b_2': 28, 'dNC_hoxa2b_1': 25, 'NPB_nohox': 12}\n",
      "WARNING: Found only one macrostate, making it the singular terminal state\n",
      "WARNING: Unable to compute macrostates with `n_states=5` because it will split complex conjugate eigenvalues. Using `n_states=6`\n"
     ]
    },
    {
     "name": "stdout",
     "output_type": "stream",
     "text": [
      "[1, 2, 2, 2, 2, 2, 2, 2, 1, 1, 1]\n",
      "[1]\n",
      "[1, 2]\n",
      "[1, 2, 2]\n",
      "[1, 2, 2, 2]\n"
     ]
    },
    {
     "name": "stderr",
     "output_type": "stream",
     "text": [
      "WARNING: The following terminal states have different number of cells than requested (30): {'dNC_hoxa2b': 29, 'mNC_head_mesenchymal_1': 12}\n"
     ]
    },
    {
     "name": "stdout",
     "output_type": "stream",
     "text": [
      "[1, 2, 2, 2, 2]\n"
     ]
    },
    {
     "name": "stderr",
     "output_type": "stream",
     "text": [
      "WARNING: The following terminal states have different number of cells than requested (30): {'dNC_hoxa2b': 29, 'mNC_head_mesenchymal_1': 12}\n",
      "WARNING: Unable to compute macrostates with `n_states=7` because it will split complex conjugate eigenvalues. Using `n_states=8`\n"
     ]
    },
    {
     "name": "stdout",
     "output_type": "stream",
     "text": [
      "[1, 2, 2, 2, 2, 2]\n"
     ]
    },
    {
     "name": "stderr",
     "output_type": "stream",
     "text": [
      "WARNING: The following terminal states have different number of cells than requested (30): {'dNC_nohox': 24, 'mNC_arch2': 19, 'mNC_nohox': 7}\n"
     ]
    },
    {
     "name": "stdout",
     "output_type": "stream",
     "text": [
      "[1, 2, 2, 2, 2, 2, 1]\n"
     ]
    },
    {
     "name": "stderr",
     "output_type": "stream",
     "text": [
      "WARNING: The following terminal states have different number of cells than requested (30): {'dNC_nohox': 24, 'mNC_arch2': 19, 'mNC_nohox': 7}\n"
     ]
    },
    {
     "name": "stdout",
     "output_type": "stream",
     "text": [
      "[1, 2, 2, 2, 2, 2, 1, 1]\n"
     ]
    },
    {
     "name": "stderr",
     "output_type": "stream",
     "text": [
      "WARNING: The following terminal states have different number of cells than requested (30): {'dNC_hoxa2b': 29, 'NPB_nohox': 27, 'dNC_nohox': 24}\n"
     ]
    },
    {
     "name": "stdout",
     "output_type": "stream",
     "text": [
      "[1, 2, 2, 2, 2, 2, 1, 1, 2]\n"
     ]
    },
    {
     "name": "stderr",
     "output_type": "stream",
     "text": [
      "WARNING: The following terminal states have different number of cells than requested (30): {'NPB_nohox_2': 29, 'NPB_nohox_1': 28, 'mNC_head_mesenchymal_1': 23, 'dNC_nohox': 19, 'dNC_hoxa2b_2': 18}\n"
     ]
    },
    {
     "name": "stdout",
     "output_type": "stream",
     "text": [
      "[1, 2, 2, 2, 2, 2, 1, 1, 2, 2]\n"
     ]
    },
    {
     "name": "stderr",
     "output_type": "stream",
     "text": [
      "WARNING: The following terminal states have different number of cells than requested (30): {'NPB_nohox_2': 26, 'dNC_hoxa2b': 25, 'dNC_nohox': 22, 'NPB_nohox_1': 21, 'mNC_nohox_1': 15, 'mNC_nohox_2': 9}\n"
     ]
    },
    {
     "name": "stdout",
     "output_type": "stream",
     "text": [
      "[1, 2, 2, 2, 2, 2, 1, 1, 2, 2, 2]\n"
     ]
    }
   ],
   "source": [
    "pre_value_rgv = stair_vec(rgv_g,0.8,terminal_states,\"cell_type\",all_dict)\n",
    "pre_value_vi = stair_vec(vi_g,0.8,terminal_states,\"cell_type\",all_dict)\n",
    "pre_value_scv = stair_vec(scv_g,0.8,terminal_states,\"cell_type\",all_dict)"
   ]
  },
  {
   "cell_type": "markdown",
   "id": "5e6d2cf1-8027-4935-8233-bef44387d45f",
   "metadata": {},
   "source": [
    "### RegVelo identify all four terminal states"
   ]
  },
  {
   "cell_type": "code",
   "execution_count": 52,
   "id": "70fe7069-da28-462a-be5b-c9c9f904fa11",
   "metadata": {
    "tags": []
   },
   "outputs": [],
   "source": [
    "### plot the recovery figure\n",
    "df = pd.DataFrame({\"number_macrostate\":range(0,12),\n",
    "                   \"RegVelo\":[0]+pre_value_rgv,\n",
    "                   \"veloVI\":[0]+pre_value_vi,\n",
    "                   \"scVelo\":[0]+pre_value_scv})"
   ]
  },
  {
   "cell_type": "code",
   "execution_count": 53,
   "id": "f91eb91b-1ed7-4b54-9b60-eb05c3b8f449",
   "metadata": {
    "tags": []
   },
   "outputs": [],
   "source": [
    "df = pd.melt(df, ['number_macrostate'])\n",
    "colors = sns.color_palette(\"colorblind\", n_colors=3)\n",
    "colors = colors + [(0.8274509803921568, 0.8274509803921568, 0.8274509803921568)]"
   ]
  },
  {
   "cell_type": "code",
   "execution_count": 54,
   "id": "3f0343a6-06dc-40bd-bff8-03b77f73ffdc",
   "metadata": {
    "tags": []
   },
   "outputs": [
    {
     "name": "stderr",
     "output_type": "stream",
     "text": [
      "/tmp/ipykernel_4966/2613435201.py:8: UserWarning: The palette list has more values (4) than needed (3), which may not be intended.\n",
      "  ax = sns.lineplot(x='number_macrostate', y='value', hue='variable', style='variable', palette=colors, drawstyle='steps-post', data=df, linewidth=3)\n"
     ]
    },
    {
     "data": {
      "image/png": "[encoded data removed]",
      "text/plain": [
       "<Figure size 320x240 with 1 Axes>"
      ]
     },
     "metadata": {
      "image/png": {
       "height": 265,
       "width": 336
      }
     },
     "output_type": "display_data"
    }
   ],
   "source": [
    "# Set figure size\n",
    "with mplscience.style_context():\n",
    "    sns.set_style(style=\"whitegrid\")\n",
    "    \n",
    "    rcParams['figure.figsize'] = 4, 3\n",
    "\n",
    "    # Plot the grid plot\n",
    "    ax = sns.lineplot(x='number_macrostate', y='value', hue='variable', style='variable', palette=colors, drawstyle='steps-post', data=df, linewidth=3)\n",
    "\n",
    "    # Set labels and titles\n",
    "    ax.set(ylabel='Number of correct predictions')\n",
    "    plt.xlabel('Number of macrostates', fontsize=14)\n",
    "    plt.ylabel('Identified terminal states', fontsize=14)\n",
    "\n",
    "    # Customize tick parameters for better readability\n",
    "    ax.set_xticks([0, 2,4,6,8,10])\n",
    "    ax.set_xticklabels([0, 2,4,6,8,10]);\n",
    "    plt.xticks(fontsize=14)\n",
    "    plt.yticks(fontsize=14)\n",
    "    plt.legend(loc='upper center', bbox_to_anchor=(0.5, -0.18), shadow=True, ncol=4,fontsize = 14)\n",
    "\n",
    "    if SAVE_FIGURES:\n",
    "        plt.savefig(\n",
    "                FIG_DIR / \"zebrafish\" / \"benchmark\" / \"state_identification.svg\",\n",
    "                format=\"svg\",\n",
    "                transparent=True,\n",
    "                bbox_inches='tight'\n",
    "            )\n",
    "    plt.show()"
   ]
  },
  {
   "cell_type": "code",
   "execution_count": 55,
   "id": "3d0e8045-efae-4e3a-9255-b7d222bb6716",
   "metadata": {
    "tags": []
   },
   "outputs": [],
   "source": [
    "adata_target.var[\"TF\"] = [i in TF_list for i in adata_target.var_names]"
   ]
  },
  {
   "cell_type": "code",
   "execution_count": 56,
   "id": "867e7c23-10de-42db-8c12-ca6ddd505a24",
   "metadata": {
    "tags": []
   },
   "outputs": [],
   "source": [
    "if SAVE_DATASETS:\n",
    "    adata_target.write_h5ad(DATA_DIR / 'zebrafish' / 'zebrafish_analysis.h5ad')\n",
    "    reg_vae.save(DATA_DIR / 'zebrafish' / 'rgv_model_0')"
   ]
  },
  {
   "cell_type": "code",
   "execution_count": null,
   "id": "8511af89-4bcb-4acd-8b3f-33c1e06f2a81",
   "metadata": {},
   "outputs": [],
   "source": []
  }
 ],
 "metadata": {
  "kernelspec": {
   "display_name": "Python 3 (ipykernel)",
   "language": "python",
   "name": "python3"
  },
  "language_info": {
   "codemirror_mode": {
    "name": "ipython",
    "version": 3
   },
   "file_extension": ".py",
   "mimetype": "text/x-python",
   "name": "python",
   "nbconvert_exporter": "python",
   "pygments_lexer": "ipython3",
   "version": "3.10.10"
  }
 },
 "nbformat": 4,
 "nbformat_minor": 5
}
