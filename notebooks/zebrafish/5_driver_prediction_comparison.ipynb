{
 "cells": [
  {
   "cell_type": "markdown",
   "id": "e8e3c6a8-8fa7-4cbb-afd8-1fd8b3b0a2e5",
   "metadata": {},
   "source": [
    "# Driver ranking benchmark\n",
    "\n",
    "Benchmark driver ranking."
   ]
  },
  {
   "cell_type": "markdown",
   "id": "566813ee-47e1-4a90-b615-ba2c92a73c79",
   "metadata": {},
   "source": [
    "## Library import"
   ]
  },
  {
   "cell_type": "code",
   "execution_count": 1,
   "id": "481c2ade-c500-4ea8-b839-01a31cad9bda",
   "metadata": {},
   "outputs": [
    {
     "name": "stderr",
     "output_type": "stream",
     "text": [
      "/home/icb/weixu.wang/miniconda3/envs/regvelo_test/lib/python3.10/site-packages/anndata/utils.py:429: FutureWarning: Importing read_csv from `anndata` is deprecated. Import anndata.io.read_csv instead.\n",
      "  warnings.warn(msg, FutureWarning)\n",
      "/home/icb/weixu.wang/miniconda3/envs/regvelo_test/lib/python3.10/site-packages/anndata/utils.py:429: FutureWarning: Importing read_excel from `anndata` is deprecated. Import anndata.io.read_excel instead.\n",
      "  warnings.warn(msg, FutureWarning)\n",
      "/home/icb/weixu.wang/miniconda3/envs/regvelo_test/lib/python3.10/site-packages/anndata/utils.py:429: FutureWarning: Importing read_hdf from `anndata` is deprecated. Import anndata.io.read_hdf instead.\n",
      "  warnings.warn(msg, FutureWarning)\n",
      "/home/icb/weixu.wang/miniconda3/envs/regvelo_test/lib/python3.10/site-packages/anndata/utils.py:429: FutureWarning: Importing read_loom from `anndata` is deprecated. Import anndata.io.read_loom instead.\n",
      "  warnings.warn(msg, FutureWarning)\n",
      "/home/icb/weixu.wang/miniconda3/envs/regvelo_test/lib/python3.10/site-packages/anndata/utils.py:429: FutureWarning: Importing read_mtx from `anndata` is deprecated. Import anndata.io.read_mtx instead.\n",
      "  warnings.warn(msg, FutureWarning)\n",
      "/home/icb/weixu.wang/miniconda3/envs/regvelo_test/lib/python3.10/site-packages/anndata/utils.py:429: FutureWarning: Importing read_text from `anndata` is deprecated. Import anndata.io.read_text instead.\n",
      "  warnings.warn(msg, FutureWarning)\n",
      "/home/icb/weixu.wang/miniconda3/envs/regvelo_test/lib/python3.10/site-packages/anndata/utils.py:429: FutureWarning: Importing read_umi_tools from `anndata` is deprecated. Import anndata.io.read_umi_tools instead.\n",
      "  warnings.warn(msg, FutureWarning)\n"
     ]
    }
   ],
   "source": [
    "import pandas as pd\n",
    "import scipy\n",
    "from sklearn.metrics import roc_auc_score\n",
    "\n",
    "import matplotlib.pyplot as plt\n",
    "import mplscience\n",
    "import seaborn as sns\n",
    "\n",
    "import cellrank as cr\n",
    "import scanpy as sc\n",
    "import scvelo as scv\n",
    "\n",
    "from rgv_tools import DATA_DIR, FIG_DIR"
   ]
  },
  {
   "cell_type": "markdown",
   "id": "8d8062fa-df3c-4886-ab53-e71767821520",
   "metadata": {},
   "source": [
    "## General settings"
   ]
  },
  {
   "cell_type": "code",
   "execution_count": 5,
   "id": "cceb425a-3574-4f62-9a88-7d9b645a68f0",
   "metadata": {},
   "outputs": [],
   "source": [
    "plt.rcParams[\"svg.fonttype\"] = \"none\"\n",
    "sns.reset_defaults()\n",
    "sns.reset_orig()\n",
    "scv.settings.set_figure_params(\"scvelo\", dpi_save=400, dpi=80, transparent=True, fontsize=14, color_map=\"viridis\")"
   ]
  },
  {
   "cell_type": "markdown",
   "id": "0ff4c665-6cfd-4c74-8f9a-3c63f1c4b97c",
   "metadata": {},
   "source": [
    "## Constants"
   ]
  },
  {
   "cell_type": "code",
   "execution_count": 2,
   "id": "eb77dec4-5501-4a67-964d-009351b26c98",
   "metadata": {},
   "outputs": [],
   "source": [
    "DATASET = \"zebrafish\""
   ]
  },
  {
   "cell_type": "code",
   "execution_count": 3,
   "id": "5d0e92bd-e21b-44b6-a7e3-c63a4704b640",
   "metadata": {},
   "outputs": [],
   "source": [
    "SAVE_FIGURES = False\n",
    "if SAVE_FIGURES:\n",
    "    (FIG_DIR / DATASET).mkdir(parents=True, exist_ok=True)"
   ]
  },
  {
   "cell_type": "code",
   "execution_count": 4,
   "id": "2a3baeca",
   "metadata": {},
   "outputs": [],
   "source": [
    "TERMINAL_STATES = [\n",
    "    \"mNC_head_mesenchymal\",\n",
    "    \"mNC_arch2\",\n",
    "    \"mNC_hox34\",\n",
    "    \"Pigment\",\n",
    "]"
   ]
  },
  {
   "cell_type": "markdown",
   "id": "4b74d2a8-a580-482a-93e1-c7a458906496",
   "metadata": {},
   "source": [
    "## Data loading"
   ]
  },
  {
   "cell_type": "code",
   "execution_count": 6,
   "id": "3e07f2c3-2ded-4b15-862d-e0a49a0761d9",
   "metadata": {},
   "outputs": [],
   "source": [
    "adata = sc.read_h5ad(DATA_DIR / DATASET / \"processed\" / \"adata_run_regvelo.h5ad\")"
   ]
  },
  {
   "cell_type": "markdown",
   "id": "04696323-0001-4eb5-96e2-8e9cd1d1eccc",
   "metadata": {},
   "source": [
    "## Driver ranking analysis"
   ]
  },
  {
   "cell_type": "markdown",
   "id": "61553118-2d93-470b-8b41-adb1d63b07f8",
   "metadata": {},
   "source": [
    "### Correlating gene expression with cell fate probabilities"
   ]
  },
  {
   "cell_type": "code",
   "execution_count": 7,
   "id": "e6b5106d-31df-4bf2-b950-bf2d6e9ca2ea",
   "metadata": {},
   "outputs": [
    {
     "name": "stderr",
     "output_type": "stream",
     "text": [
      "100%|██████████| 697/697 [00:31<00:00, 22.18cell/s]\n",
      "100%|██████████| 697/697 [00:00<00:00, 2299.24cell/s]\n"
     ]
    }
   ],
   "source": [
    "vk = cr.kernels.VelocityKernel(adata)\n",
    "vk.compute_transition_matrix()\n",
    "ck = cr.kernels.ConnectivityKernel(adata).compute_transition_matrix()\n",
    "\n",
    "kernel = 0.8 * vk + 0.2 * ck"
   ]
  },
  {
   "cell_type": "code",
   "execution_count": 8,
   "id": "86131b34",
   "metadata": {},
   "outputs": [
    {
     "name": "stdout",
     "output_type": "stream",
     "text": [
      "WARNING: Unable to import `petsc4py` or `slepc4py`. Using `method='brandts'`\n",
      "WARNING: For `method='brandts'`, dense matrix is required. Densifying\n",
      "WARNING: Unable to import petsc4py. For installation, please refer to: https://petsc4py.readthedocs.io/en/stable/install.html.\n",
      "Defaulting to `'gmres'` solver.\n"
     ]
    },
    {
     "name": "stderr",
     "output_type": "stream",
     "text": [
      "100%|██████████| 4/4 [00:00<00:00, 32.14/s]\n"
     ]
    }
   ],
   "source": [
    "estimator = cr.estimators.GPCCA(kernel)\n",
    "## evaluate the fate prob on original space\n",
    "estimator.compute_macrostates(n_states=8, cluster_key=\"cell_type\")\n",
    "estimator.set_terminal_states(TERMINAL_STATES)\n",
    "estimator.compute_fate_probabilities()"
   ]
  },
  {
   "cell_type": "code",
   "execution_count": 9,
   "id": "a8ff0e13-525b-46b1-8d2e-75b0840e24cd",
   "metadata": {},
   "outputs": [],
   "source": [
    "df = estimator.compute_lineage_drivers(cluster_key=\"cell_type\")\n",
    "fate_prob = pd.DataFrame(\n",
    "    estimator.adata.obsm[\"lineages_fwd\"], columns=estimator.adata.obsm[\"lineages_fwd\"].names.tolist()\n",
    ")"
   ]
  },
  {
   "cell_type": "markdown",
   "id": "b2168cf2-0308-4ea5-9c30-b0907e4ea5cb",
   "metadata": {},
   "source": [
    "### Correlating gene activity with cell fate probabilities"
   ]
  },
  {
   "cell_type": "code",
   "execution_count": 10,
   "id": "6bb45eac-3a36-407f-b324-795ce7417447",
   "metadata": {},
   "outputs": [],
   "source": [
    "GeneActivity = pd.read_csv(DATA_DIR / DATASET / \"raw\" / \"GeneActivity.csv\", index_col=0)"
   ]
  },
  {
   "cell_type": "code",
   "execution_count": 11,
   "id": "4e3c412a-e4cf-41d1-be12-63e20dd5c6b4",
   "metadata": {},
   "outputs": [],
   "source": [
    "gene_symbol = [i.replace(\"_pos\", \"\").replace(\"_neg\", \"\") for i in GeneActivity.index.tolist()]\n",
    "ind = [i in adata.var_names[adata.var[\"TF\"]] for i in gene_symbol]\n",
    "GeneActivity = GeneActivity.iloc[ind, :]\n",
    "gene_symbol = [i.replace(\"_pos\", \"\").replace(\"_neg\", \"\") for i in GeneActivity.index.tolist()]\n",
    "\n",
    "\n",
    "df_a = pd.DataFrame(columns=df.columns.tolist())\n",
    "for i in fate_prob.columns.tolist():\n",
    "    cor = []\n",
    "    pval = []\n",
    "    for g in GeneActivity.index.tolist():\n",
    "        res = scipy.stats.pearsonr(GeneActivity.loc[g, :], fate_prob.loc[:, i])\n",
    "        cor.append(res[0])\n",
    "        pval.append(res[1])\n",
    "    df_a[i + \"_corr\"] = cor\n",
    "    df_a[i + \"_pval\"] = pval\n",
    "df_a.index = GeneActivity.index.tolist()"
   ]
  },
  {
   "cell_type": "markdown",
   "id": "38ca9659-5672-4241-8508-bb0730b8db7a",
   "metadata": {},
   "source": [
    "## Predict known drivers"
   ]
  },
  {
   "cell_type": "code",
   "execution_count": 12,
   "id": "9a124870-9ed6-4de4-8786-e54b458d9a55",
   "metadata": {},
   "outputs": [],
   "source": [
    "driver_head_mes = [\"nr2f5\", \"nr2f2\", \"sox9b\", \"twist1a\", \"twist1b\"]\n",
    "driver_pigment = [\"sox10\", \"mitfa\", \"tfec\", \"bhlhe40\", \"tfap2b\", \"tfap2a\"]"
   ]
  },
  {
   "cell_type": "markdown",
   "id": "c414e7c7-40ce-4784-81f9-4037ebd57cb2",
   "metadata": {},
   "source": [
    "#### mNC head mesenchymal"
   ]
  },
  {
   "cell_type": "code",
   "execution_count": 13,
   "id": "129ea4c4-abe1-4cc8-856a-6be0e491072b",
   "metadata": {},
   "outputs": [],
   "source": [
    "score_head_mes = []\n",
    "label_ga = [1 if i in driver_head_mes else 0 for i in df_a.index.tolist()]\n",
    "label_gex = [1 if i in driver_head_mes else 0 for i in df.index.tolist()]"
   ]
  },
  {
   "cell_type": "code",
   "execution_count": 14,
   "id": "a52edfa6-ab4a-444b-a1bd-03cccd90dfba",
   "metadata": {},
   "outputs": [],
   "source": [
    "for nrun in range(3):\n",
    "    coef_name = \"coef_\" + str(nrun)\n",
    "    coef = pd.read_csv(DATA_DIR / DATASET / \"results\" / coef_name, index_col=0)\n",
    "\n",
    "    label_rgv = [1 if i in driver_head_mes else 0 for i in coef.index.tolist()]\n",
    "    score_head_mes.append(roc_auc_score(label_rgv, coef[\"mNC_head_mesenchymal\"]))\n",
    "\n",
    "score_head_mes.append(roc_auc_score(label_ga, df_a[\"mNC_head_mesenchymal_corr\"]))\n",
    "score_head_mes.append(roc_auc_score(label_gex, df[\"mNC_head_mesenchymal_corr\"]))"
   ]
  },
  {
   "cell_type": "markdown",
   "id": "440a3881-be9c-4559-a827-186de9231b14",
   "metadata": {},
   "source": [
    "#### Pigment"
   ]
  },
  {
   "cell_type": "code",
   "execution_count": 15,
   "id": "4556e679-1309-4eaf-9656-7ec739bd6e1b",
   "metadata": {},
   "outputs": [],
   "source": [
    "score_pigment = []\n",
    "\n",
    "for nrun in range(3):\n",
    "    coef_name = \"coef_\" + str(nrun)\n",
    "    coef = pd.read_csv(DATA_DIR / DATASET / \"results\" / coef_name, index_col=0)\n",
    "\n",
    "    label_rgv = [1 if i in driver_pigment else 0 for i in coef.index.tolist()]\n",
    "    score_pigment.append(roc_auc_score(label_rgv, coef[\"Pigment\"]))\n",
    "\n",
    "label_ga = [1 if i in driver_pigment else 0 for i in df_a.index.tolist()]\n",
    "label_gex = [1 if i in driver_pigment else 0 for i in df.index.tolist()]\n",
    "score_pigment.append(roc_auc_score(label_ga, df_a[\"Pigment_corr\"]))\n",
    "score_pigment.append(roc_auc_score(label_gex, df[\"Pigment_corr\"]))"
   ]
  },
  {
   "cell_type": "markdown",
   "id": "f4b5460c-e876-4c26-add5-5242cf9410ab",
   "metadata": {},
   "source": [
    "## Plot results"
   ]
  },
  {
   "cell_type": "code",
   "execution_count": 16,
   "id": "e63d6b7f-b4ef-4437-bc0a-37b946fd093f",
   "metadata": {},
   "outputs": [],
   "source": [
    "dat = pd.DataFrame({\"AUROC\": score_head_mes, \"method\": [\"RegVelo (PS)\"] * 3 + [\"CR (GA)\"] + [\"CR (GEX)\"]})\n",
    "dat2 = pd.DataFrame({\"AUROC\": score_pigment, \"method\": [\"RegVelo (PS)\"] * 3 + [\"CR (GA)\"] + [\"CR (GEX)\"]})\n",
    "dat[\"Lineage\"] = \"mNC head mesenchymal\"\n",
    "dat2[\"Lineage\"] = \"Pigment\"\n",
    "df = pd.concat([dat, dat2], axis=0)"
   ]
  },
  {
   "cell_type": "code",
   "execution_count": 17,
   "id": "12777129-4e59-4423-8d98-32799244c99d",
   "metadata": {},
   "outputs": [
    {
     "data": {
      "image/png": "[encoded data removed]",
      "text/plain": [
       "<Figure size 320x400 with 1 Axes>"
      ]
     },
     "metadata": {
      "image/png": {
       "height": 400,
       "width": 437
      }
     },
     "output_type": "display_data"
    }
   ],
   "source": [
    "with mplscience.style_context():\n",
    "    sns.set_style(style=\"whitegrid\")\n",
    "    fig, ax = plt.subplots(figsize=(4, 5))\n",
    "\n",
    "    # Plot the barplot without error bars\n",
    "    sns.barplot(data=df, y=\"Lineage\", x=\"AUROC\", hue=\"method\", ax=ax, ci=None)\n",
    "\n",
    "    # Add jittered dots\n",
    "    sns.stripplot(data=df, y=\"Lineage\", x=\"AUROC\", hue=\"method\", dodge=True, color=\"black\", ax=ax, jitter=True)\n",
    "\n",
    "    # Remove the duplicate legend\n",
    "    handles, labels = ax.get_legend_handles_labels()\n",
    "    ax.legend(handles[3:6], labels[3:6], bbox_to_anchor=(0.5, -0.1), loc=\"upper center\", ncol=2)\n",
    "\n",
    "    # Customize labels and other settings\n",
    "    ax.set(ylabel=\"\", xlabel=\"AUROC\")\n",
    "    ax.set_xlabel(xlabel=\"AUROC\", fontsize=13)\n",
    "    ax.set_xlim(0.5, 0.98)\n",
    "\n",
    "    if SAVE_FIGURES:\n",
    "        plt.savefig(FIG_DIR / DATASET / \"AUROC_ranking.svg\", format=\"svg\", transparent=True, bbox_inches=\"tight\")\n",
    "    plt.show()"
   ]
  },
  {
   "cell_type": "code",
   "execution_count": null,
   "id": "adbe5298-62c9-4c2d-a690-b071fac91878",
   "metadata": {},
   "outputs": [],
   "source": []
  }
 ],
 "metadata": {
  "kernelspec": {
   "display_name": "Python [conda env:regvelo_test]",
   "language": "python",
   "name": "conda-env-regvelo_test-py"
  },
  "language_info": {
   "codemirror_mode": {
    "name": "ipython",
    "version": 3
   },
   "file_extension": ".py",
   "mimetype": "text/x-python",
   "name": "python",
   "nbconvert_exporter": "python",
   "pygments_lexer": "ipython3",
   "version": "3.10.15"
  }
 },
 "nbformat": 4,
 "nbformat_minor": 5
}
