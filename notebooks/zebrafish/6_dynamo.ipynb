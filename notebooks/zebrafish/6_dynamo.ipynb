{
 "cells": [
  {
   "cell_type": "markdown",
   "id": "e7d2c95f-c181-4f36-a515-9c1aa043b365",
   "metadata": {},
   "source": [
    "# Dynamo-based perturbation analysis\n",
    "\n",
    "Notebooks for predicting TF perturbation effects using dynamo."
   ]
  },
  {
   "cell_type": "markdown",
   "id": "6218836e",
   "metadata": {},
   "source": [
    "## Library imports"
   ]
  },
  {
   "cell_type": "code",
   "execution_count": 1,
   "id": "dea9f34a-1302-4c69-ada6-bcacd2d0cb42",
   "metadata": {},
   "outputs": [
    {
     "name": "stderr",
     "output_type": "stream",
     "text": [
      "/home/icb/weixu.wang/miniconda3/envs/dynamo/lib/python3.10/site-packages/anndata/utils.py:429: FutureWarning: Importing read_csv from `anndata` is deprecated. Import anndata.io.read_csv instead.\n",
      "  warnings.warn(msg, FutureWarning)\n",
      "/home/icb/weixu.wang/miniconda3/envs/dynamo/lib/python3.10/site-packages/anndata/utils.py:429: FutureWarning: Importing read_text from `anndata` is deprecated. Import anndata.io.read_text instead.\n",
      "  warnings.warn(msg, FutureWarning)\n",
      "/home/icb/weixu.wang/miniconda3/envs/dynamo/lib/python3.10/site-packages/anndata/utils.py:429: FutureWarning: Importing read_excel from `anndata` is deprecated. Import anndata.io.read_excel instead.\n",
      "  warnings.warn(msg, FutureWarning)\n",
      "/home/icb/weixu.wang/miniconda3/envs/dynamo/lib/python3.10/site-packages/anndata/utils.py:429: FutureWarning: Importing read_mtx from `anndata` is deprecated. Import anndata.io.read_mtx instead.\n",
      "  warnings.warn(msg, FutureWarning)\n",
      "/home/icb/weixu.wang/miniconda3/envs/dynamo/lib/python3.10/site-packages/anndata/utils.py:429: FutureWarning: Importing read_loom from `anndata` is deprecated. Import anndata.io.read_loom instead.\n",
      "  warnings.warn(msg, FutureWarning)\n",
      "/home/icb/weixu.wang/miniconda3/envs/dynamo/lib/python3.10/site-packages/anndata/utils.py:429: FutureWarning: Importing read_hdf from `anndata` is deprecated. Import anndata.io.read_hdf instead.\n",
      "  warnings.warn(msg, FutureWarning)\n",
      "/home/icb/weixu.wang/miniconda3/envs/dynamo/lib/python3.10/site-packages/anndata/utils.py:429: FutureWarning: Importing read_umi_tools from `anndata` is deprecated. Import anndata.io.read_umi_tools instead.\n",
      "  warnings.warn(msg, FutureWarning)\n"
     ]
    }
   ],
   "source": [
    "import numpy as np\n",
    "import pandas as pd\n",
    "\n",
    "import matplotlib.pyplot as plt\n",
    "import mplscience\n",
    "import seaborn as sns\n",
    "\n",
    "import dynamo as dyn\n",
    "import scanpy as sc\n",
    "from dynamo.preprocessing import Preprocessor\n",
    "\n",
    "from rgv_tools import DATA_DIR, FIG_DIR\n",
    "from rgv_tools.perturbation import (\n",
    "    abundance_test,\n",
    "    get_list_name,\n",
    "    Multiple_TFScanning_KO_dyn,\n",
    "    Multiple_TFScanning_perturbation_dyn,\n",
    "    split_elements,\n",
    "    TFScanning_KO_dyn,\n",
    "    TFScanning_perturbation_dyn,\n",
    ")"
   ]
  },
  {
   "cell_type": "markdown",
   "id": "7b5e1c3f",
   "metadata": {},
   "source": [
    "## Constants"
   ]
  },
  {
   "cell_type": "code",
   "execution_count": 2,
   "id": "19721745",
   "metadata": {},
   "outputs": [],
   "source": [
    "DATASET = \"zebrafish\""
   ]
  },
  {
   "cell_type": "code",
   "execution_count": 3,
   "id": "5bda203e",
   "metadata": {},
   "outputs": [],
   "source": [
    "SAVE_DATA = True\n",
    "if SAVE_DATA:\n",
    "    (DATA_DIR / DATASET / \"results\").mkdir(parents=True, exist_ok=True)"
   ]
  },
  {
   "cell_type": "code",
   "execution_count": 4,
   "id": "e25889b9",
   "metadata": {
    "lines_to_next_cell": 2
   },
   "outputs": [],
   "source": [
    "SAVE_FIGURES = False\n",
    "if SAVE_FIGURES:\n",
    "    (FIG_DIR / DATASET).mkdir(parents=True, exist_ok=True)"
   ]
  },
  {
   "cell_type": "code",
   "execution_count": 5,
   "id": "9f30eee8-65c3-4201-a02e-e62edf52bb7a",
   "metadata": {},
   "outputs": [],
   "source": [
    "genes = [\"nr2f5\", \"sox9b\", \"twist1b\", \"ets1\"]\n",
    "\n",
    "TERMINAL_STATES = [\n",
    "    \"mNC_head_mesenchymal\",\n",
    "    \"mNC_arch2\",\n",
    "    \"mNC_hox34\",\n",
    "    \"Pigment\",\n",
    "]"
   ]
  },
  {
   "cell_type": "code",
   "execution_count": 6,
   "id": "002e87f9-5007-4749-aced-645c56fd7926",
   "metadata": {},
   "outputs": [],
   "source": [
    "single_ko = [\"elk3\", \"erf\", \"fli1a\", \"mitfa\", \"nr2f5\", \"rarga\", \"rxraa\", \"smarcc1a\", \"tfec\", \"nr2f2\"]\n",
    "multiple_ko = [\"fli1a_elk3\", \"mitfa_tfec\", \"tfec_mitfa_bhlhe40\", \"fli1a_erf_erfl3\", \"erf_erfl3\"]"
   ]
  },
  {
   "cell_type": "markdown",
   "id": "8553a267-ff5b-468a-8718-e3868d8ae72a",
   "metadata": {},
   "source": [
    "## Data loading"
   ]
  },
  {
   "cell_type": "code",
   "execution_count": 7,
   "id": "b4092828-59c0-4ad5-bcee-6ca3e2a9363b",
   "metadata": {},
   "outputs": [],
   "source": [
    "adata = sc.read_h5ad(DATA_DIR / DATASET / \"processed\" / \"adata_preprocessed.h5ad\")"
   ]
  },
  {
   "cell_type": "code",
   "execution_count": 8,
   "id": "1ccd8394-f681-48aa-91a6-2a99d57b1a2a",
   "metadata": {},
   "outputs": [],
   "source": [
    "adata.X = adata.layers[\"matrix\"].copy()"
   ]
  },
  {
   "cell_type": "markdown",
   "id": "b9f74a67-e4f9-457b-8747-b4d7fe5dddf1",
   "metadata": {},
   "source": [
    "## Processing by dynamo"
   ]
  },
  {
   "cell_type": "code",
   "execution_count": 9,
   "id": "4d54136d-fbd1-4327-9b45-86de74ec709d",
   "metadata": {},
   "outputs": [
    {
     "name": "stdout",
     "output_type": "stream",
     "text": [
      "|-----> Running monocle preprocessing pipeline...\n",
      "|-----------> filtered out 0 outlier cells\n",
      "|-----------> filtered out 21 outlier genes\n",
      "|-----> PCA dimension reduction\n",
      "|-----> <insert> X_pca to obsm in AnnData Object.\n",
      "|-----> [Preprocessor-monocle] completed [1.1507s]\n"
     ]
    }
   ],
   "source": [
    "preprocessor = Preprocessor()\n",
    "preprocessor.preprocess_adata(adata, recipe=\"monocle\")"
   ]
  },
  {
   "cell_type": "code",
   "execution_count": 10,
   "id": "651b776e-da94-4854-ac94-e089277240fb",
   "metadata": {},
   "outputs": [
    {
     "name": "stdout",
     "output_type": "stream",
     "text": [
      "|-----> dynamics_del_2nd_moments_key is None. Using default value from DynamoAdataConfig: dynamics_del_2nd_moments_key=False\n",
      "|-----------> removing existing M layers:[]...\n",
      "|-----------> making adata smooth...\n",
      "|-----> calculating first/second moments...\n",
      "|-----? layer X_velocity is not in any of the (['X_spliced', 'X_unspliced'], ['X_new', 'X_total'], ['X_uu', 'X_ul', 'X_su', 'X_sl']) groups, skipping...\n",
      "|-----? layer X_variance_velocity is not in any of the (['X_spliced', 'X_unspliced'], ['X_new', 'X_total'], ['X_uu', 'X_ul', 'X_su', 'X_sl']) groups, skipping...\n",
      "|-----? layer X_Mu is not in any of the (['X_spliced', 'X_unspliced'], ['X_new', 'X_total'], ['X_uu', 'X_ul', 'X_su', 'X_sl']) groups, skipping...\n",
      "|-----? layer X_Ms is not in any of the (['X_spliced', 'X_unspliced'], ['X_new', 'X_total'], ['X_uu', 'X_ul', 'X_su', 'X_sl']) groups, skipping...\n",
      "|-----? layer X_Mu is not in any of the (['X_spliced', 'X_unspliced'], ['X_new', 'X_total'], ['X_uu', 'X_ul', 'X_su', 'X_sl']) groups, skipping...\n",
      "|-----? layer X_Ms is not in any of the (['X_spliced', 'X_unspliced'], ['X_new', 'X_total'], ['X_uu', 'X_ul', 'X_su', 'X_sl']) groups, skipping...\n",
      "|-----? layer X_Mu is not in any of the (['X_spliced', 'X_unspliced'], ['X_new', 'X_total'], ['X_uu', 'X_ul', 'X_su', 'X_sl']) groups, skipping...\n",
      "|-----? layer X_Ms is not in any of the (['X_spliced', 'X_unspliced'], ['X_new', 'X_total'], ['X_uu', 'X_ul', 'X_su', 'X_sl']) groups, skipping...\n",
      "|-----> [moments calculation] completed [11.9131s]\n"
     ]
    },
    {
     "name": "stderr",
     "output_type": "stream",
     "text": [
      "estimating gamma: 100%|██████████| 988/988 [00:10<00:00, 96.84it/s] \n"
     ]
    },
    {
     "data": {
      "text/plain": [
       "AnnData object with n_obs × n_vars = 697 × 988\n",
       "    obs: 'initial_size_unspliced', 'initial_size_spliced', 'initial_size', 'n_counts', 'cell_type', 'stage', 'cell_type2', 'macrostates', 'nGenes', 'nCounts', 'pMito', 'pass_basic_filter', 'unspliced_Size_Factor', 'initial_unspliced_cell_size', 'Size_Factor', 'initial_cell_size', 'spliced_Size_Factor', 'initial_spliced_cell_size', 'variance_velocity_Size_Factor', 'initial_variance_velocity_cell_size', 'Ms_Size_Factor', 'initial_Ms_cell_size', 'velocity_Size_Factor', 'initial_velocity_cell_size', 'Mu_Size_Factor', 'initial_Mu_cell_size', 'ntr'\n",
       "    var: 'Accession', 'Chromosome', 'End', 'Start', 'Strand', 'gene_count_corr', 'is_tf', 'velocity_gamma', 'velocity_qreg_ratio', 'velocity_r2', 'velocity_genes', 'TF', 'nCells', 'nCounts', 'pass_basic_filter', 'frac', 'use_for_pca', 'ntr', 'beta', 'gamma', 'half_life', 'alpha_b', 'alpha_r2', 'gamma_b', 'gamma_r2', 'gamma_logLL', 'delta_b', 'delta_r2', 'bs', 'bf', 'uu0', 'ul0', 'su0', 'sl0', 'U0', 'S0', 'total0', 'use_for_dynamics'\n",
       "    uns: 'cell_type_colors', 'macrostates_colors', 'neighbors', 'network', 'regulators', 'skeleton', 'targets', 'velocity_params', 'pp', 'feature_selection', 'PCs', 'explained_variance_ratio_', 'pca_mean', 'dynamics'\n",
       "    obsm: 'X_pca', 'X_umap'\n",
       "    layers: 'Ms', 'Mu', 'ambiguous', 'matrix', 'spliced', 'unspliced', 'variance_velocity', 'velocity', 'X_spliced', 'X_variance_velocity', 'X_unspliced', 'X_velocity', 'X_Mu', 'X_Ms', 'M_u', 'M_uu', 'M_s', 'M_us', 'M_ss', 'velocity_S'\n",
       "    obsp: 'connectivities', 'distances', 'moments_con'"
      ]
     },
     "execution_count": 10,
     "metadata": {},
     "output_type": "execute_result"
    }
   ],
   "source": [
    "dyn.tl.dynamics(adata)"
   ]
  },
  {
   "cell_type": "code",
   "execution_count": 11,
   "id": "dd440647-a21e-424f-ae18-d3ebb35cd03e",
   "metadata": {},
   "outputs": [
    {
     "name": "stdout",
     "output_type": "stream",
     "text": [
      "|-----> retrieve data for non-linear dimension reduction...\n",
      "|-----? adata already have basis umap. dimension reduction umap will be skipped! \n",
      "set enforce=True to re-performing dimension reduction.\n",
      "|-----> [UMAP] completed [0.0022s]\n"
     ]
    }
   ],
   "source": [
    "dyn.tl.reduceDimension(adata)"
   ]
  },
  {
   "cell_type": "code",
   "execution_count": 12,
   "id": "cb02e1f0-c3f8-4ee0-995b-4d9c6c59de02",
   "metadata": {},
   "outputs": [
    {
     "name": "stdout",
     "output_type": "stream",
     "text": [
      "|-----> [calculating transition matrix via pearson kernel with sqrt transform.] in progress: 100.0000%|-----> [calculating transition matrix via pearson kernel with sqrt transform.] completed [0.5832s]\n",
      "|-----> [projecting velocity vector to low dimensional embedding] in progress: 100.0000%|-----> [projecting velocity vector to low dimensional embedding] completed [0.3028s]\n"
     ]
    },
    {
     "data": {
      "text/plain": [
       "AnnData object with n_obs × n_vars = 697 × 988\n",
       "    obs: 'initial_size_unspliced', 'initial_size_spliced', 'initial_size', 'n_counts', 'cell_type', 'stage', 'cell_type2', 'macrostates', 'nGenes', 'nCounts', 'pMito', 'pass_basic_filter', 'unspliced_Size_Factor', 'initial_unspliced_cell_size', 'Size_Factor', 'initial_cell_size', 'spliced_Size_Factor', 'initial_spliced_cell_size', 'variance_velocity_Size_Factor', 'initial_variance_velocity_cell_size', 'Ms_Size_Factor', 'initial_Ms_cell_size', 'velocity_Size_Factor', 'initial_velocity_cell_size', 'Mu_Size_Factor', 'initial_Mu_cell_size', 'ntr'\n",
       "    var: 'Accession', 'Chromosome', 'End', 'Start', 'Strand', 'gene_count_corr', 'is_tf', 'velocity_gamma', 'velocity_qreg_ratio', 'velocity_r2', 'velocity_genes', 'TF', 'nCells', 'nCounts', 'pass_basic_filter', 'frac', 'use_for_pca', 'ntr', 'beta', 'gamma', 'half_life', 'alpha_b', 'alpha_r2', 'gamma_b', 'gamma_r2', 'gamma_logLL', 'delta_b', 'delta_r2', 'bs', 'bf', 'uu0', 'ul0', 'su0', 'sl0', 'U0', 'S0', 'total0', 'use_for_dynamics', 'use_for_transition'\n",
       "    uns: 'cell_type_colors', 'macrostates_colors', 'neighbors', 'network', 'regulators', 'skeleton', 'targets', 'velocity_params', 'pp', 'feature_selection', 'PCs', 'explained_variance_ratio_', 'pca_mean', 'dynamics', 'grid_velocity_pca'\n",
       "    obsm: 'X_pca', 'X_umap', 'velocity_pca'\n",
       "    layers: 'Ms', 'Mu', 'ambiguous', 'matrix', 'spliced', 'unspliced', 'variance_velocity', 'velocity', 'X_spliced', 'X_variance_velocity', 'X_unspliced', 'X_velocity', 'X_Mu', 'X_Ms', 'M_u', 'M_uu', 'M_s', 'M_us', 'M_ss', 'velocity_S'\n",
       "    obsp: 'connectivities', 'distances', 'moments_con', 'pearson_transition_matrix'"
      ]
     },
     "execution_count": 12,
     "metadata": {},
     "output_type": "execute_result"
    }
   ],
   "source": [
    "dyn.tl.cell_velocities(adata, basis=\"pca\")"
   ]
  },
  {
   "cell_type": "code",
   "execution_count": 13,
   "id": "e5c81440-aba7-42c7-a4c7-c650d01cce77",
   "metadata": {},
   "outputs": [
    {
     "name": "stdout",
     "output_type": "stream",
     "text": [
      "|-----> VectorField reconstruction begins...\n",
      "|-----> Retrieve X and V based on basis: PCA. \n",
      "        Vector field will be learned in the PCA space.\n",
      "|-----> Learning vector field with method: sparsevfc.\n",
      "|-----> [SparseVFC] begins...\n",
      "|-----> Sampling control points based on data velocity magnitude...\n",
      "|-----> [SparseVFC] completed [0.1569s]\n",
      "|-----> [VectorField] completed [0.2136s]\n"
     ]
    }
   ],
   "source": [
    "dyn.vf.VectorField(adata, basis=\"pca\")"
   ]
  },
  {
   "cell_type": "code",
   "execution_count": 14,
   "id": "25b1f058-6912-4148-9a9c-8b2e26b33bbd",
   "metadata": {},
   "outputs": [],
   "source": [
    "adata_perturb = adata.copy()"
   ]
  },
  {
   "cell_type": "code",
   "execution_count": 15,
   "id": "e1b110b2-ade5-41c1-9762-c914695e7e54",
   "metadata": {},
   "outputs": [],
   "source": [
    "del adata.uns[\"cell_type_colors\"]"
   ]
  },
  {
   "cell_type": "markdown",
   "id": "a0c8991e-41d4-4463-8018-0b10e4581c5d",
   "metadata": {},
   "source": [
    "## Compare predict fate probability changes"
   ]
  },
  {
   "cell_type": "code",
   "execution_count": 16,
   "id": "96849b53-9c85-4319-9a08-075f75b5c705",
   "metadata": {},
   "outputs": [
    {
     "data": {
      "application/vnd.jupyter.widget-view+json": {
       "model_id": "ac8ca8170d1645849ca8887e7aa3b132",
       "version_major": 2,
       "version_minor": 0
      },
      "text/plain": [
       "  0%|          | 0/697 [00:00<?, ?cell/s]"
      ]
     },
     "metadata": {},
     "output_type": "display_data"
    },
    {
     "data": {
      "application/vnd.jupyter.widget-view+json": {
       "model_id": "b11b523dec0449209ba179a9ffa23e4b",
       "version_major": 2,
       "version_minor": 0
      },
      "text/plain": [
       "  0%|          | 0/697 [00:00<?, ?cell/s]"
      ]
     },
     "metadata": {},
     "output_type": "display_data"
    },
    {
     "name": "stdout",
     "output_type": "stream",
     "text": [
      "WARNING: Unable to import `petsc4py` or `slepc4py`. Using `method='brandts'`\n",
      "WARNING: For `method='brandts'`, dense matrix is required. Densifying\n"
     ]
    },
    {
     "name": "stderr",
     "output_type": "stream",
     "text": [
      "2024-11-24 16:02:13,722 - INFO - Using pre-computed Schur decomposition\n"
     ]
    },
    {
     "name": "stdout",
     "output_type": "stream",
     "text": [
      "WARNING: Unable to import petsc4py. For installation, please refer to: https://petsc4py.readthedocs.io/en/stable/install.html.\n",
      "Defaulting to `'gmres'` solver.\n"
     ]
    },
    {
     "data": {
      "application/vnd.jupyter.widget-view+json": {
       "model_id": "40323211f9e84b7ba7068dc9179f375e",
       "version_major": 2,
       "version_minor": 0
      },
      "text/plain": [
       "  0%|          | 0/4 [00:00<?, ?/s]"
      ]
     },
     "metadata": {},
     "output_type": "display_data"
    },
    {
     "name": "stdout",
     "output_type": "stream",
     "text": [
      "|-----> In silico knockout nr2f5\n",
      "|-----> Project the high dimensional vector field after KO to umap.\n",
      "|-----> [calculating transition matrix via pearson kernel with sqrt transform.] in progress: 100.0000%|-----> [calculating transition matrix via pearson kernel with sqrt transform.] completed [0.3101s]\n",
      "|-----> [projecting velocity vector to low dimensional embedding] in progress: 100.0000%|-----> [projecting velocity vector to low dimensional embedding] completed [0.2672s]\n"
     ]
    },
    {
     "data": {
      "application/vnd.jupyter.widget-view+json": {
       "model_id": "ff5b3e2ae3324dada24460f5e57970c8",
       "version_major": 2,
       "version_minor": 0
      },
      "text/plain": [
       "  0%|          | 0/697 [00:00<?, ?cell/s]"
      ]
     },
     "metadata": {},
     "output_type": "display_data"
    },
    {
     "data": {
      "application/vnd.jupyter.widget-view+json": {
       "model_id": "ce47233048254061a8b54df60f24fb4b",
       "version_major": 2,
       "version_minor": 0
      },
      "text/plain": [
       "  0%|          | 0/697 [00:00<?, ?cell/s]"
      ]
     },
     "metadata": {},
     "output_type": "display_data"
    },
    {
     "name": "stdout",
     "output_type": "stream",
     "text": [
      "WARNING: Unable to import `petsc4py` or `slepc4py`. Using `method='brandts'`\n",
      "WARNING: For `method='brandts'`, dense matrix is required. Densifying\n"
     ]
    },
    {
     "name": "stderr",
     "output_type": "stream",
     "text": [
      "2024-11-24 16:02:18,010 - INFO - Using pre-computed Schur decomposition\n"
     ]
    },
    {
     "data": {
      "application/vnd.jupyter.widget-view+json": {
       "model_id": "7cad86c8087943778d753f876b89e318",
       "version_major": 2,
       "version_minor": 0
      },
      "text/plain": [
       "  0%|          | 0/4 [00:00<?, ?/s]"
      ]
     },
     "metadata": {},
     "output_type": "display_data"
    },
    {
     "name": "stdout",
     "output_type": "stream",
     "text": [
      "Done nr2f5\n"
     ]
    },
    {
     "data": {
      "application/vnd.jupyter.widget-view+json": {
       "model_id": "0e692a41b9e944f5a2df8e39e137e810",
       "version_major": 2,
       "version_minor": 0
      },
      "text/plain": [
       "  0%|          | 0/697 [00:00<?, ?cell/s]"
      ]
     },
     "metadata": {},
     "output_type": "display_data"
    },
    {
     "data": {
      "application/vnd.jupyter.widget-view+json": {
       "model_id": "fa6ba31e21d04db9b785189994bfec85",
       "version_major": 2,
       "version_minor": 0
      },
      "text/plain": [
       "  0%|          | 0/697 [00:00<?, ?cell/s]"
      ]
     },
     "metadata": {},
     "output_type": "display_data"
    },
    {
     "name": "stdout",
     "output_type": "stream",
     "text": [
      "WARNING: Unable to import `petsc4py` or `slepc4py`. Using `method='brandts'`\n",
      "WARNING: For `method='brandts'`, dense matrix is required. Densifying\n"
     ]
    },
    {
     "name": "stderr",
     "output_type": "stream",
     "text": [
      "2024-11-24 16:02:20,505 - INFO - Using pre-computed Schur decomposition\n"
     ]
    },
    {
     "data": {
      "application/vnd.jupyter.widget-view+json": {
       "model_id": "6b8f72037c3345aabcff359661033391",
       "version_major": 2,
       "version_minor": 0
      },
      "text/plain": [
       "  0%|          | 0/4 [00:00<?, ?/s]"
      ]
     },
     "metadata": {},
     "output_type": "display_data"
    },
    {
     "name": "stdout",
     "output_type": "stream",
     "text": [
      "|-----> In silico knockout sox9b\n",
      "|-----> Project the high dimensional vector field after KO to umap.\n",
      "|-----> [calculating transition matrix via pearson kernel with sqrt transform.] in progress: 100.0000%|-----> [calculating transition matrix via pearson kernel with sqrt transform.] completed [0.2859s]\n",
      "|-----> [projecting velocity vector to low dimensional embedding] in progress: 100.0000%|-----> [projecting velocity vector to low dimensional embedding] completed [0.2961s]\n"
     ]
    },
    {
     "data": {
      "application/vnd.jupyter.widget-view+json": {
       "model_id": "553646b030644458ae7bbfa7e135e082",
       "version_major": 2,
       "version_minor": 0
      },
      "text/plain": [
       "  0%|          | 0/697 [00:00<?, ?cell/s]"
      ]
     },
     "metadata": {},
     "output_type": "display_data"
    },
    {
     "data": {
      "application/vnd.jupyter.widget-view+json": {
       "model_id": "5c94bb513fbc458fafe7d7ea97077bc5",
       "version_major": 2,
       "version_minor": 0
      },
      "text/plain": [
       "  0%|          | 0/697 [00:00<?, ?cell/s]"
      ]
     },
     "metadata": {},
     "output_type": "display_data"
    },
    {
     "name": "stdout",
     "output_type": "stream",
     "text": [
      "WARNING: Unable to import `petsc4py` or `slepc4py`. Using `method='brandts'`\n",
      "WARNING: For `method='brandts'`, dense matrix is required. Densifying\n"
     ]
    },
    {
     "name": "stderr",
     "output_type": "stream",
     "text": [
      "2024-11-24 16:02:23,720 - INFO - Using pre-computed Schur decomposition\n"
     ]
    },
    {
     "data": {
      "application/vnd.jupyter.widget-view+json": {
       "model_id": "db3a571acfd9465784a407543eaa3f58",
       "version_major": 2,
       "version_minor": 0
      },
      "text/plain": [
       "  0%|          | 0/4 [00:00<?, ?/s]"
      ]
     },
     "metadata": {},
     "output_type": "display_data"
    },
    {
     "name": "stdout",
     "output_type": "stream",
     "text": [
      "Done sox9b\n"
     ]
    },
    {
     "data": {
      "application/vnd.jupyter.widget-view+json": {
       "model_id": "692879d797ac401a9dfd1806fc749df5",
       "version_major": 2,
       "version_minor": 0
      },
      "text/plain": [
       "  0%|          | 0/697 [00:00<?, ?cell/s]"
      ]
     },
     "metadata": {},
     "output_type": "display_data"
    },
    {
     "data": {
      "application/vnd.jupyter.widget-view+json": {
       "model_id": "3e70010f208143b181160bf20587adfc",
       "version_major": 2,
       "version_minor": 0
      },
      "text/plain": [
       "  0%|          | 0/697 [00:00<?, ?cell/s]"
      ]
     },
     "metadata": {},
     "output_type": "display_data"
    },
    {
     "name": "stdout",
     "output_type": "stream",
     "text": [
      "WARNING: Unable to import `petsc4py` or `slepc4py`. Using `method='brandts'`\n",
      "WARNING: For `method='brandts'`, dense matrix is required. Densifying\n"
     ]
    },
    {
     "name": "stderr",
     "output_type": "stream",
     "text": [
      "2024-11-24 16:02:27,163 - INFO - Using pre-computed Schur decomposition\n"
     ]
    },
    {
     "data": {
      "application/vnd.jupyter.widget-view+json": {
       "model_id": "ed5f4dc0613b45a09428e2f2fe456a86",
       "version_major": 2,
       "version_minor": 0
      },
      "text/plain": [
       "  0%|          | 0/4 [00:00<?, ?/s]"
      ]
     },
     "metadata": {},
     "output_type": "display_data"
    },
    {
     "name": "stdout",
     "output_type": "stream",
     "text": [
      "|-----> In silico knockout twist1b\n",
      "|-----> Project the high dimensional vector field after KO to umap.\n",
      "|-----> [calculating transition matrix via pearson kernel with sqrt transform.] in progress: 100.0000%|-----> [calculating transition matrix via pearson kernel with sqrt transform.] completed [0.2847s]\n",
      "|-----> [projecting velocity vector to low dimensional embedding] in progress: 100.0000%|-----> [projecting velocity vector to low dimensional embedding] completed [0.2827s]\n"
     ]
    },
    {
     "data": {
      "application/vnd.jupyter.widget-view+json": {
       "model_id": "22cea452911e4c38804255ca4bbe75b4",
       "version_major": 2,
       "version_minor": 0
      },
      "text/plain": [
       "  0%|          | 0/697 [00:00<?, ?cell/s]"
      ]
     },
     "metadata": {},
     "output_type": "display_data"
    },
    {
     "data": {
      "application/vnd.jupyter.widget-view+json": {
       "model_id": "8345b9ad921740d2ba5df242ab6862a9",
       "version_major": 2,
       "version_minor": 0
      },
      "text/plain": [
       "  0%|          | 0/697 [00:00<?, ?cell/s]"
      ]
     },
     "metadata": {},
     "output_type": "display_data"
    },
    {
     "name": "stdout",
     "output_type": "stream",
     "text": [
      "WARNING: Unable to import `petsc4py` or `slepc4py`. Using `method='brandts'`\n",
      "WARNING: For `method='brandts'`, dense matrix is required. Densifying\n"
     ]
    },
    {
     "name": "stderr",
     "output_type": "stream",
     "text": [
      "2024-11-24 16:02:31,388 - INFO - Using pre-computed Schur decomposition\n"
     ]
    },
    {
     "data": {
      "application/vnd.jupyter.widget-view+json": {
       "model_id": "febcf7b91a6e42e68328110f55e2cf61",
       "version_major": 2,
       "version_minor": 0
      },
      "text/plain": [
       "  0%|          | 0/4 [00:00<?, ?/s]"
      ]
     },
     "metadata": {},
     "output_type": "display_data"
    },
    {
     "name": "stdout",
     "output_type": "stream",
     "text": [
      "Done twist1b\n"
     ]
    },
    {
     "data": {
      "application/vnd.jupyter.widget-view+json": {
       "model_id": "9309b66db62746939fa7c41bef828a2f",
       "version_major": 2,
       "version_minor": 0
      },
      "text/plain": [
       "  0%|          | 0/697 [00:00<?, ?cell/s]"
      ]
     },
     "metadata": {},
     "output_type": "display_data"
    },
    {
     "data": {
      "application/vnd.jupyter.widget-view+json": {
       "model_id": "7da545299f6049a0a0d68c8a53985991",
       "version_major": 2,
       "version_minor": 0
      },
      "text/plain": [
       "  0%|          | 0/697 [00:00<?, ?cell/s]"
      ]
     },
     "metadata": {},
     "output_type": "display_data"
    },
    {
     "name": "stdout",
     "output_type": "stream",
     "text": [
      "WARNING: Unable to import `petsc4py` or `slepc4py`. Using `method='brandts'`\n",
      "WARNING: For `method='brandts'`, dense matrix is required. Densifying\n"
     ]
    },
    {
     "name": "stderr",
     "output_type": "stream",
     "text": [
      "2024-11-24 16:02:34,859 - INFO - Using pre-computed Schur decomposition\n"
     ]
    },
    {
     "data": {
      "application/vnd.jupyter.widget-view+json": {
       "model_id": "a7a7cd71fa654a9798697c8c422b0b8e",
       "version_major": 2,
       "version_minor": 0
      },
      "text/plain": [
       "  0%|          | 0/4 [00:00<?, ?/s]"
      ]
     },
     "metadata": {},
     "output_type": "display_data"
    },
    {
     "name": "stdout",
     "output_type": "stream",
     "text": [
      "|-----> In silico knockout ets1\n",
      "|-----> Project the high dimensional vector field after KO to umap.\n",
      "|-----> [calculating transition matrix via pearson kernel with sqrt transform.] in progress: 100.0000%|-----> [calculating transition matrix via pearson kernel with sqrt transform.] completed [0.2764s]\n",
      "|-----> [projecting velocity vector to low dimensional embedding] in progress: 100.0000%|-----> [projecting velocity vector to low dimensional embedding] completed [0.2755s]\n"
     ]
    },
    {
     "data": {
      "application/vnd.jupyter.widget-view+json": {
       "model_id": "fc633e834e604be6906c77b8d25d8219",
       "version_major": 2,
       "version_minor": 0
      },
      "text/plain": [
       "  0%|          | 0/697 [00:00<?, ?cell/s]"
      ]
     },
     "metadata": {},
     "output_type": "display_data"
    },
    {
     "data": {
      "application/vnd.jupyter.widget-view+json": {
       "model_id": "27513173e6b847ba91fc264c6fe32c79",
       "version_major": 2,
       "version_minor": 0
      },
      "text/plain": [
       "  0%|          | 0/697 [00:00<?, ?cell/s]"
      ]
     },
     "metadata": {},
     "output_type": "display_data"
    },
    {
     "name": "stdout",
     "output_type": "stream",
     "text": [
      "WARNING: Unable to import `petsc4py` or `slepc4py`. Using `method='brandts'`\n",
      "WARNING: For `method='brandts'`, dense matrix is required. Densifying\n"
     ]
    },
    {
     "name": "stderr",
     "output_type": "stream",
     "text": [
      "2024-11-24 16:02:38,796 - INFO - Using pre-computed Schur decomposition\n"
     ]
    },
    {
     "data": {
      "application/vnd.jupyter.widget-view+json": {
       "model_id": "7fb7ea8a4c984f71aa5f079aebf15fe5",
       "version_major": 2,
       "version_minor": 0
      },
      "text/plain": [
       "  0%|          | 0/4 [00:00<?, ?/s]"
      ]
     },
     "metadata": {},
     "output_type": "display_data"
    },
    {
     "name": "stdout",
     "output_type": "stream",
     "text": [
      "Done ets1\n"
     ]
    }
   ],
   "source": [
    "fate_prob = {}\n",
    "fate_prob_perturb = {}\n",
    "\n",
    "for g in genes:\n",
    "    fb, fb_perturb = TFScanning_KO_dyn(adata, 8, \"cell_type\", TERMINAL_STATES, [g], fate_prob_return=True)\n",
    "    fate_prob[g] = fb\n",
    "    fate_prob_perturb[g] = fb_perturb"
   ]
  },
  {
   "cell_type": "markdown",
   "id": "aef4ac7d-c584-4fbf-8b45-f3ab8b44365d",
   "metadata": {},
   "source": [
    "## Visualize dynamo perturbation effects"
   ]
  },
  {
   "cell_type": "code",
   "execution_count": 17,
   "id": "ebf066b6-c22f-4de4-88db-f9ca025b7ddd",
   "metadata": {},
   "outputs": [],
   "source": [
    "for g in genes:\n",
    "    data = abundance_test(fate_prob[g], fate_prob_perturb[g])\n",
    "    data = pd.DataFrame(\n",
    "        {\n",
    "            \"Score\": data.iloc[:, 0].tolist(),\n",
    "            \"p-value\": data.iloc[:, 1].tolist(),\n",
    "            \"Terminal state\": data.index.tolist(),\n",
    "            \"TF\": [g] * (data.shape[0]),\n",
    "        }\n",
    "    )\n",
    "\n",
    "    final_df = data.copy()\n",
    "    final_df[\"Score\"] = 0.5 - final_df[\"Score\"]\n",
    "\n",
    "    color_label = \"cell_type\"\n",
    "    df = pd.DataFrame(final_df[\"Score\"])\n",
    "    df.columns = [\"coefficient\"]\n",
    "    df[\"Cell type\"] = final_df[\"Terminal state\"]\n",
    "    order = df[\"Cell type\"].tolist()\n",
    "\n",
    "    palette = dict(zip(adata.obs[color_label].cat.categories, adata_perturb.uns[f\"{color_label}_colors\"]))\n",
    "    subset_palette = {name: color for name, color in palette.items() if name in TERMINAL_STATES}\n",
    "\n",
    "    with mplscience.style_context():\n",
    "        sns.set_style(style=\"whitegrid\")\n",
    "        fig, ax = plt.subplots(figsize=(2, 2))\n",
    "        sns.barplot(\n",
    "            data=df,\n",
    "            y=\"coefficient\",\n",
    "            x=\"Cell type\",\n",
    "            palette=subset_palette,\n",
    "            order=order,\n",
    "            ax=ax,\n",
    "        )\n",
    "        ax.tick_params(axis=\"x\", rotation=90)\n",
    "        plt.title(\"$\\\\mathit{\" + g + \"}$ regulon knock out simulation\")\n",
    "\n",
    "        if SAVE_FIGURES:\n",
    "            plt.savefig(\n",
    "                FIG_DIR / DATASET / f\"{g}_perturbation_simulation_dynamo.svg\",\n",
    "                format=\"svg\",\n",
    "                transparent=True,\n",
    "                bbox_inches=\"tight\",\n",
    "            )\n",
    "        # Show the plot\n",
    "        plt.show()"
   ]
  },
  {
   "cell_type": "markdown",
   "id": "22ef20d3-2993-40a2-ace2-ec2b14bb3faf",
   "metadata": {},
   "source": [
    "## Perturbation prediction"
   ]
  },
  {
   "cell_type": "markdown",
   "id": "4df18e49-75e1-4116-a994-15ac0d3f33ee",
   "metadata": {},
   "source": [
    "### Single gene knockout"
   ]
  },
  {
   "cell_type": "code",
   "execution_count": 18,
   "id": "711ab263-62b4-4031-ac6b-c6a678cbbdc3",
   "metadata": {},
   "outputs": [],
   "source": [
    "single_ko = set(single_ko).intersection(adata.var_names)\n",
    "single_ko = list(single_ko)"
   ]
  },
  {
   "cell_type": "code",
   "execution_count": 19,
   "id": "5ef5a872-cc46-42f5-b570-c8f6af5b0cdc",
   "metadata": {
    "tags": []
   },
   "outputs": [
    {
     "data": {
      "application/vnd.jupyter.widget-view+json": {
       "model_id": "ad141897b5d94c3381e6213f9f74b0e4",
       "version_major": 2,
       "version_minor": 0
      },
      "text/plain": [
       "  0%|          | 0/697 [00:00<?, ?cell/s]"
      ]
     },
     "metadata": {},
     "output_type": "display_data"
    },
    {
     "data": {
      "application/vnd.jupyter.widget-view+json": {
       "model_id": "98bfa8ab95094eea8c1300981c34f1a5",
       "version_major": 2,
       "version_minor": 0
      },
      "text/plain": [
       "  0%|          | 0/697 [00:00<?, ?cell/s]"
      ]
     },
     "metadata": {},
     "output_type": "display_data"
    },
    {
     "name": "stdout",
     "output_type": "stream",
     "text": [
      "WARNING: Unable to import `petsc4py` or `slepc4py`. Using `method='brandts'`\n",
      "WARNING: For `method='brandts'`, dense matrix is required. Densifying\n"
     ]
    },
    {
     "name": "stderr",
     "output_type": "stream",
     "text": [
      "2024-11-24 16:02:44,048 - INFO - Using pre-computed Schur decomposition\n"
     ]
    },
    {
     "data": {
      "application/vnd.jupyter.widget-view+json": {
       "model_id": "78e45d7ca1264b38bdbdad4bb1f13a23",
       "version_major": 2,
       "version_minor": 0
      },
      "text/plain": [
       "  0%|          | 0/4 [00:00<?, ?/s]"
      ]
     },
     "metadata": {},
     "output_type": "display_data"
    },
    {
     "name": "stdout",
     "output_type": "stream",
     "text": [
      "|-----> In silico knockout nr2f5\n",
      "|-----> Project the high dimensional vector field after KO to umap.\n",
      "|-----> [calculating transition matrix via pearson kernel with sqrt transform.] in progress: 100.0000%|-----> [calculating transition matrix via pearson kernel with sqrt transform.] completed [0.2852s]\n",
      "|-----> [projecting velocity vector to low dimensional embedding] in progress: 100.0000%|-----> [projecting velocity vector to low dimensional embedding] completed [0.2654s]\n"
     ]
    },
    {
     "data": {
      "application/vnd.jupyter.widget-view+json": {
       "model_id": "83a0cebbf7ad40e8bababe84c7566b8c",
       "version_major": 2,
       "version_minor": 0
      },
      "text/plain": [
       "  0%|          | 0/697 [00:00<?, ?cell/s]"
      ]
     },
     "metadata": {},
     "output_type": "display_data"
    },
    {
     "data": {
      "application/vnd.jupyter.widget-view+json": {
       "model_id": "efe271f8042547ccb13ced8f1af8067d",
       "version_major": 2,
       "version_minor": 0
      },
      "text/plain": [
       "  0%|          | 0/697 [00:00<?, ?cell/s]"
      ]
     },
     "metadata": {},
     "output_type": "display_data"
    },
    {
     "name": "stdout",
     "output_type": "stream",
     "text": [
      "WARNING: Unable to import `petsc4py` or `slepc4py`. Using `method='brandts'`\n",
      "WARNING: For `method='brandts'`, dense matrix is required. Densifying\n"
     ]
    },
    {
     "name": "stderr",
     "output_type": "stream",
     "text": [
      "2024-11-24 16:02:48,132 - INFO - Using pre-computed Schur decomposition\n"
     ]
    },
    {
     "data": {
      "application/vnd.jupyter.widget-view+json": {
       "model_id": "6645b7cbd5634d88aed5708d0fc17453",
       "version_major": 2,
       "version_minor": 0
      },
      "text/plain": [
       "  0%|          | 0/4 [00:00<?, ?/s]"
      ]
     },
     "metadata": {},
     "output_type": "display_data"
    },
    {
     "name": "stdout",
     "output_type": "stream",
     "text": [
      "Done nr2f5\n",
      "|-----> In silico knockout nr2f2\n",
      "|-----> Project the high dimensional vector field after KO to umap.\n",
      "|-----> [calculating transition matrix via pearson kernel with sqrt transform.] in progress: 100.0000%|-----> [calculating transition matrix via pearson kernel with sqrt transform.] completed [0.1915s]\n",
      "|-----> [projecting velocity vector to low dimensional embedding] in progress: 100.0000%|-----> [projecting velocity vector to low dimensional embedding] completed [0.1805s]\n"
     ]
    },
    {
     "data": {
      "application/vnd.jupyter.widget-view+json": {
       "model_id": "8ea305f78cbc4fdbb881fc36beecdfe6",
       "version_major": 2,
       "version_minor": 0
      },
      "text/plain": [
       "  0%|          | 0/697 [00:00<?, ?cell/s]"
      ]
     },
     "metadata": {},
     "output_type": "display_data"
    },
    {
     "data": {
      "application/vnd.jupyter.widget-view+json": {
       "model_id": "4373f87b682a4dd7ae40fcd23c6a70e4",
       "version_major": 2,
       "version_minor": 0
      },
      "text/plain": [
       "  0%|          | 0/697 [00:00<?, ?cell/s]"
      ]
     },
     "metadata": {},
     "output_type": "display_data"
    },
    {
     "name": "stdout",
     "output_type": "stream",
     "text": [
      "WARNING: Unable to import `petsc4py` or `slepc4py`. Using `method='brandts'`\n",
      "WARNING: For `method='brandts'`, dense matrix is required. Densifying\n"
     ]
    },
    {
     "name": "stderr",
     "output_type": "stream",
     "text": [
      "2024-11-24 16:02:51,004 - INFO - Using pre-computed Schur decomposition\n"
     ]
    },
    {
     "data": {
      "application/vnd.jupyter.widget-view+json": {
       "model_id": "61e3a5a694ac4fb68a9edbf10e1c1993",
       "version_major": 2,
       "version_minor": 0
      },
      "text/plain": [
       "  0%|          | 0/4 [00:00<?, ?/s]"
      ]
     },
     "metadata": {},
     "output_type": "display_data"
    },
    {
     "name": "stdout",
     "output_type": "stream",
     "text": [
      "Done nr2f2\n",
      "|-----> In silico knockout elk3\n",
      "|-----> Project the high dimensional vector field after KO to umap.\n",
      "|-----> [calculating transition matrix via pearson kernel with sqrt transform.] in progress: 100.0000%|-----> [calculating transition matrix via pearson kernel with sqrt transform.] completed [0.2922s]\n",
      "|-----> [projecting velocity vector to low dimensional embedding] in progress: 100.0000%|-----> [projecting velocity vector to low dimensional embedding] completed [0.2787s]\n"
     ]
    },
    {
     "data": {
      "application/vnd.jupyter.widget-view+json": {
       "model_id": "3fe70b7e2d6140f1a70d4a35e226a2f8",
       "version_major": 2,
       "version_minor": 0
      },
      "text/plain": [
       "  0%|          | 0/697 [00:00<?, ?cell/s]"
      ]
     },
     "metadata": {},
     "output_type": "display_data"
    },
    {
     "data": {
      "application/vnd.jupyter.widget-view+json": {
       "model_id": "be42480c585848d19fc81e074c223da3",
       "version_major": 2,
       "version_minor": 0
      },
      "text/plain": [
       "  0%|          | 0/697 [00:00<?, ?cell/s]"
      ]
     },
     "metadata": {},
     "output_type": "display_data"
    },
    {
     "name": "stdout",
     "output_type": "stream",
     "text": [
      "WARNING: Unable to import `petsc4py` or `slepc4py`. Using `method='brandts'`\n",
      "WARNING: For `method='brandts'`, dense matrix is required. Densifying\n"
     ]
    },
    {
     "name": "stderr",
     "output_type": "stream",
     "text": [
      "2024-11-24 16:02:55,360 - INFO - Using pre-computed Schur decomposition\n"
     ]
    },
    {
     "data": {
      "application/vnd.jupyter.widget-view+json": {
       "model_id": "9e4fe3cd664b4e649e70795afb232d1a",
       "version_major": 2,
       "version_minor": 0
      },
      "text/plain": [
       "  0%|          | 0/4 [00:00<?, ?/s]"
      ]
     },
     "metadata": {},
     "output_type": "display_data"
    },
    {
     "name": "stdout",
     "output_type": "stream",
     "text": [
      "Done elk3\n",
      "|-----> In silico knockout mitfa\n",
      "|-----> Project the high dimensional vector field after KO to umap.\n",
      "|-----> [calculating transition matrix via pearson kernel with sqrt transform.] in progress: 100.0000%|-----> [calculating transition matrix via pearson kernel with sqrt transform.] completed [0.3077s]\n",
      "|-----> [projecting velocity vector to low dimensional embedding] in progress: 100.0000%|-----> [projecting velocity vector to low dimensional embedding] completed [0.2411s]\n"
     ]
    },
    {
     "data": {
      "application/vnd.jupyter.widget-view+json": {
       "model_id": "fecb7056bece4c468ac1dd805ec15a23",
       "version_major": 2,
       "version_minor": 0
      },
      "text/plain": [
       "  0%|          | 0/697 [00:00<?, ?cell/s]"
      ]
     },
     "metadata": {},
     "output_type": "display_data"
    },
    {
     "data": {
      "application/vnd.jupyter.widget-view+json": {
       "model_id": "d8cf516346c9465ab1bcea1a6ed76c93",
       "version_major": 2,
       "version_minor": 0
      },
      "text/plain": [
       "  0%|          | 0/697 [00:00<?, ?cell/s]"
      ]
     },
     "metadata": {},
     "output_type": "display_data"
    },
    {
     "name": "stdout",
     "output_type": "stream",
     "text": [
      "WARNING: Unable to import `petsc4py` or `slepc4py`. Using `method='brandts'`\n",
      "WARNING: For `method='brandts'`, dense matrix is required. Densifying\n"
     ]
    },
    {
     "name": "stderr",
     "output_type": "stream",
     "text": [
      "2024-11-24 16:02:58,967 - INFO - Using pre-computed Schur decomposition\n"
     ]
    },
    {
     "data": {
      "application/vnd.jupyter.widget-view+json": {
       "model_id": "0af425f48b454f0fa8e5c5a45cf989d3",
       "version_major": 2,
       "version_minor": 0
      },
      "text/plain": [
       "  0%|          | 0/4 [00:00<?, ?/s]"
      ]
     },
     "metadata": {},
     "output_type": "display_data"
    },
    {
     "name": "stdout",
     "output_type": "stream",
     "text": [
      "Done mitfa\n",
      "|-----> In silico knockout fli1a\n",
      "|-----> Project the high dimensional vector field after KO to umap.\n",
      "|-----> [calculating transition matrix via pearson kernel with sqrt transform.] in progress: 100.0000%|-----> [calculating transition matrix via pearson kernel with sqrt transform.] completed [0.2957s]\n",
      "|-----> [projecting velocity vector to low dimensional embedding] in progress: 100.0000%|-----> [projecting velocity vector to low dimensional embedding] completed [0.2917s]\n"
     ]
    },
    {
     "data": {
      "application/vnd.jupyter.widget-view+json": {
       "model_id": "4cd93bef90174d168218383f601c60c8",
       "version_major": 2,
       "version_minor": 0
      },
      "text/plain": [
       "  0%|          | 0/697 [00:00<?, ?cell/s]"
      ]
     },
     "metadata": {},
     "output_type": "display_data"
    },
    {
     "data": {
      "application/vnd.jupyter.widget-view+json": {
       "model_id": "c99c01553fd14cc5a1d705057615fbb9",
       "version_major": 2,
       "version_minor": 0
      },
      "text/plain": [
       "  0%|          | 0/697 [00:00<?, ?cell/s]"
      ]
     },
     "metadata": {},
     "output_type": "display_data"
    },
    {
     "name": "stdout",
     "output_type": "stream",
     "text": [
      "WARNING: Unable to import `petsc4py` or `slepc4py`. Using `method='brandts'`\n",
      "WARNING: For `method='brandts'`, dense matrix is required. Densifying\n"
     ]
    },
    {
     "name": "stderr",
     "output_type": "stream",
     "text": [
      "2024-11-24 16:03:02,114 - INFO - Using pre-computed Schur decomposition\n"
     ]
    },
    {
     "data": {
      "application/vnd.jupyter.widget-view+json": {
       "model_id": "798d756f583748648e77b05afece4589",
       "version_major": 2,
       "version_minor": 0
      },
      "text/plain": [
       "  0%|          | 0/4 [00:00<?, ?/s]"
      ]
     },
     "metadata": {},
     "output_type": "display_data"
    },
    {
     "name": "stdout",
     "output_type": "stream",
     "text": [
      "Done fli1a\n",
      "|-----> In silico knockout rxraa\n",
      "|-----> Project the high dimensional vector field after KO to umap.\n",
      "|-----> [calculating transition matrix via pearson kernel with sqrt transform.] in progress: 100.0000%|-----> [calculating transition matrix via pearson kernel with sqrt transform.] completed [0.2815s]\n",
      "|-----> [projecting velocity vector to low dimensional embedding] in progress: 100.0000%|-----> [projecting velocity vector to low dimensional embedding] completed [0.2870s]\n"
     ]
    },
    {
     "data": {
      "application/vnd.jupyter.widget-view+json": {
       "model_id": "f4f8974493674763ba4a97f7f8b84c69",
       "version_major": 2,
       "version_minor": 0
      },
      "text/plain": [
       "  0%|          | 0/697 [00:00<?, ?cell/s]"
      ]
     },
     "metadata": {},
     "output_type": "display_data"
    },
    {
     "data": {
      "application/vnd.jupyter.widget-view+json": {
       "model_id": "236e1b60b40e4c6b97a20b68acbd891a",
       "version_major": 2,
       "version_minor": 0
      },
      "text/plain": [
       "  0%|          | 0/697 [00:00<?, ?cell/s]"
      ]
     },
     "metadata": {},
     "output_type": "display_data"
    },
    {
     "name": "stdout",
     "output_type": "stream",
     "text": [
      "WARNING: Unable to import `petsc4py` or `slepc4py`. Using `method='brandts'`\n",
      "WARNING: For `method='brandts'`, dense matrix is required. Densifying\n"
     ]
    },
    {
     "name": "stderr",
     "output_type": "stream",
     "text": [
      "2024-11-24 16:03:06,770 - INFO - Using pre-computed Schur decomposition\n"
     ]
    },
    {
     "data": {
      "application/vnd.jupyter.widget-view+json": {
       "model_id": "8c4aaca7e84e405a8f34516159f5506c",
       "version_major": 2,
       "version_minor": 0
      },
      "text/plain": [
       "  0%|          | 0/4 [00:00<?, ?/s]"
      ]
     },
     "metadata": {},
     "output_type": "display_data"
    },
    {
     "name": "stdout",
     "output_type": "stream",
     "text": [
      "Done rxraa\n",
      "|-----> In silico knockout erf\n",
      "|-----> Project the high dimensional vector field after KO to umap.\n",
      "|-----> [calculating transition matrix via pearson kernel with sqrt transform.] in progress: 100.0000%|-----> [calculating transition matrix via pearson kernel with sqrt transform.] completed [0.2904s]\n",
      "|-----> [projecting velocity vector to low dimensional embedding] in progress: 100.0000%|-----> [projecting velocity vector to low dimensional embedding] completed [0.2832s]\n"
     ]
    },
    {
     "data": {
      "application/vnd.jupyter.widget-view+json": {
       "model_id": "047a82c74a9a45aa8158166c0aec9a24",
       "version_major": 2,
       "version_minor": 0
      },
      "text/plain": [
       "  0%|          | 0/697 [00:00<?, ?cell/s]"
      ]
     },
     "metadata": {},
     "output_type": "display_data"
    },
    {
     "data": {
      "application/vnd.jupyter.widget-view+json": {
       "model_id": "2f4c5706fd5e4d9aa8b908ae77fc880b",
       "version_major": 2,
       "version_minor": 0
      },
      "text/plain": [
       "  0%|          | 0/697 [00:00<?, ?cell/s]"
      ]
     },
     "metadata": {},
     "output_type": "display_data"
    },
    {
     "name": "stdout",
     "output_type": "stream",
     "text": [
      "WARNING: Unable to import `petsc4py` or `slepc4py`. Using `method='brandts'`\n",
      "WARNING: For `method='brandts'`, dense matrix is required. Densifying\n"
     ]
    },
    {
     "name": "stderr",
     "output_type": "stream",
     "text": [
      "2024-11-24 16:03:11,135 - INFO - Using pre-computed Schur decomposition\n"
     ]
    },
    {
     "data": {
      "application/vnd.jupyter.widget-view+json": {
       "model_id": "efe1b794a9e648e5b0cd68ca3621e42f",
       "version_major": 2,
       "version_minor": 0
      },
      "text/plain": [
       "  0%|          | 0/4 [00:00<?, ?/s]"
      ]
     },
     "metadata": {},
     "output_type": "display_data"
    },
    {
     "name": "stdout",
     "output_type": "stream",
     "text": [
      "Done erf\n",
      "|-----> In silico knockout rarga\n",
      "|-----> Project the high dimensional vector field after KO to umap.\n",
      "|-----> [calculating transition matrix via pearson kernel with sqrt transform.] in progress: 100.0000%|-----> [calculating transition matrix via pearson kernel with sqrt transform.] completed [0.2852s]\n",
      "|-----> [projecting velocity vector to low dimensional embedding] in progress: 100.0000%|-----> [projecting velocity vector to low dimensional embedding] completed [0.2603s]\n"
     ]
    },
    {
     "data": {
      "application/vnd.jupyter.widget-view+json": {
       "model_id": "731ad03b270e4c5196015be17611cbca",
       "version_major": 2,
       "version_minor": 0
      },
      "text/plain": [
       "  0%|          | 0/697 [00:00<?, ?cell/s]"
      ]
     },
     "metadata": {},
     "output_type": "display_data"
    },
    {
     "data": {
      "application/vnd.jupyter.widget-view+json": {
       "model_id": "f64d68e4a337497d9fb0920baa6d39f8",
       "version_major": 2,
       "version_minor": 0
      },
      "text/plain": [
       "  0%|          | 0/697 [00:00<?, ?cell/s]"
      ]
     },
     "metadata": {},
     "output_type": "display_data"
    },
    {
     "name": "stdout",
     "output_type": "stream",
     "text": [
      "WARNING: Unable to import `petsc4py` or `slepc4py`. Using `method='brandts'`\n",
      "WARNING: For `method='brandts'`, dense matrix is required. Densifying\n"
     ]
    },
    {
     "name": "stderr",
     "output_type": "stream",
     "text": [
      "2024-11-24 16:03:15,267 - INFO - Using pre-computed Schur decomposition\n"
     ]
    },
    {
     "data": {
      "application/vnd.jupyter.widget-view+json": {
       "model_id": "821be614ea7e411891f404c1f4e600dc",
       "version_major": 2,
       "version_minor": 0
      },
      "text/plain": [
       "  0%|          | 0/4 [00:00<?, ?/s]"
      ]
     },
     "metadata": {},
     "output_type": "display_data"
    },
    {
     "name": "stdout",
     "output_type": "stream",
     "text": [
      "Done rarga\n",
      "|-----> In silico knockout tfec\n",
      "|-----> Project the high dimensional vector field after KO to umap.\n",
      "|-----> [calculating transition matrix via pearson kernel with sqrt transform.] in progress: 100.0000%|-----> [calculating transition matrix via pearson kernel with sqrt transform.] completed [0.2959s]\n",
      "|-----> [projecting velocity vector to low dimensional embedding] in progress: 100.0000%|-----> [projecting velocity vector to low dimensional embedding] completed [0.2998s]\n"
     ]
    },
    {
     "data": {
      "application/vnd.jupyter.widget-view+json": {
       "model_id": "8e3a3bb8eba44fefa4e719a46824159f",
       "version_major": 2,
       "version_minor": 0
      },
      "text/plain": [
       "  0%|          | 0/697 [00:00<?, ?cell/s]"
      ]
     },
     "metadata": {},
     "output_type": "display_data"
    },
    {
     "data": {
      "application/vnd.jupyter.widget-view+json": {
       "model_id": "a849e5c3f160437faebd9d0e6b886ad0",
       "version_major": 2,
       "version_minor": 0
      },
      "text/plain": [
       "  0%|          | 0/697 [00:00<?, ?cell/s]"
      ]
     },
     "metadata": {},
     "output_type": "display_data"
    },
    {
     "name": "stdout",
     "output_type": "stream",
     "text": [
      "WARNING: Unable to import `petsc4py` or `slepc4py`. Using `method='brandts'`\n",
      "WARNING: For `method='brandts'`, dense matrix is required. Densifying\n"
     ]
    },
    {
     "name": "stderr",
     "output_type": "stream",
     "text": [
      "2024-11-24 16:03:18,906 - INFO - Using pre-computed Schur decomposition\n"
     ]
    },
    {
     "data": {
      "application/vnd.jupyter.widget-view+json": {
       "model_id": "d76e59e04da2458788351e32ca343ced",
       "version_major": 2,
       "version_minor": 0
      },
      "text/plain": [
       "  0%|          | 0/4 [00:00<?, ?/s]"
      ]
     },
     "metadata": {},
     "output_type": "display_data"
    },
    {
     "name": "stdout",
     "output_type": "stream",
     "text": [
      "Done tfec\n",
      "|-----> In silico perturbation of single-cells and prediction of cell fate after perturbation...\n",
      "|-----> Retrive X_pca, PCs, pca_mean...\n",
      "|-----> Calculate perturbation effect matrix via \\delta Y = J \\dot \\delta X....\n"
     ]
    },
    {
     "name": "stderr",
     "output_type": "stream",
     "text": [
      "calculating Jacobian for each cell: 100%|██████████| 697/697 [00:00<00:00, 109742.48it/s]"
     ]
    },
    {
     "name": "stdout",
     "output_type": "stream",
     "text": [
      "|-----> project the pca perturbation vector to low dimensional space....\n"
     ]
    },
    {
     "name": "stderr",
     "output_type": "stream",
     "text": [
      "\n"
     ]
    },
    {
     "name": "stdout",
     "output_type": "stream",
     "text": [
      "|-----> [projecting velocity vector to low dimensional embedding] in progress: 100.0000%|-----> [projecting velocity vector to low dimensional embedding] completed [0.3244s]\n",
      "|-----> you can use dyn.pl.streamline_plot(adata, basis='pca_perturbation') to visualize the perturbation vector\n",
      "Done nr2f5\n",
      "|-----> In silico perturbation of single-cells and prediction of cell fate after perturbation...\n",
      "|-----> Retrive X_pca, PCs, pca_mean...\n",
      "|-----> Calculate perturbation effect matrix via \\delta Y = J \\dot \\delta X....\n",
      "|-----> project the pca perturbation vector to low dimensional space....\n",
      "|-----> [projecting velocity vector to low dimensional embedding] in progress: 100.0000%|-----> [projecting velocity vector to low dimensional embedding] completed [0.2364s]\n",
      "|-----> you can use dyn.pl.streamline_plot(adata, basis='pca_perturbation') to visualize the perturbation vector\n",
      "Done nr2f2\n",
      "|-----> In silico perturbation of single-cells and prediction of cell fate after perturbation...\n",
      "|-----> Retrive X_pca, PCs, pca_mean...\n",
      "|-----> Calculate perturbation effect matrix via \\delta Y = J \\dot \\delta X....\n",
      "|-----> project the pca perturbation vector to low dimensional space....\n",
      "|-----> [projecting velocity vector to low dimensional embedding] in progress: 100.0000%|-----> [projecting velocity vector to low dimensional embedding] completed [0.3204s]\n",
      "|-----> you can use dyn.pl.streamline_plot(adata, basis='pca_perturbation') to visualize the perturbation vector\n",
      "Done elk3\n",
      "|-----> In silico perturbation of single-cells and prediction of cell fate after perturbation...\n",
      "|-----> Retrive X_pca, PCs, pca_mean...\n",
      "|-----> Calculate perturbation effect matrix via \\delta Y = J \\dot \\delta X....\n",
      "|-----> project the pca perturbation vector to low dimensional space....\n",
      "|-----> [projecting velocity vector to low dimensional embedding] in progress: 100.0000%|-----> [projecting velocity vector to low dimensional embedding] completed [0.3849s]\n",
      "|-----> you can use dyn.pl.streamline_plot(adata, basis='pca_perturbation') to visualize the perturbation vector\n",
      "Done mitfa\n",
      "|-----> In silico perturbation of single-cells and prediction of cell fate after perturbation...\n",
      "|-----> Retrive X_pca, PCs, pca_mean...\n",
      "|-----> Calculate perturbation effect matrix via \\delta Y = J \\dot \\delta X....\n",
      "|-----> project the pca perturbation vector to low dimensional space....\n",
      "|-----> [projecting velocity vector to low dimensional embedding] in progress: 100.0000%|-----> [projecting velocity vector to low dimensional embedding] completed [0.2955s]\n",
      "|-----> you can use dyn.pl.streamline_plot(adata, basis='pca_perturbation') to visualize the perturbation vector\n",
      "Done fli1a\n",
      "|-----> In silico perturbation of single-cells and prediction of cell fate after perturbation...\n",
      "|-----> Retrive X_pca, PCs, pca_mean...\n",
      "|-----> Calculate perturbation effect matrix via \\delta Y = J \\dot \\delta X....\n",
      "|-----> project the pca perturbation vector to low dimensional space....\n",
      "|-----> [projecting velocity vector to low dimensional embedding] in progress: 100.0000%|-----> [projecting velocity vector to low dimensional embedding] completed [0.2752s]\n",
      "|-----> you can use dyn.pl.streamline_plot(adata, basis='pca_perturbation') to visualize the perturbation vector\n",
      "Done rxraa\n",
      "|-----> In silico perturbation of single-cells and prediction of cell fate after perturbation...\n",
      "|-----> Retrive X_pca, PCs, pca_mean...\n",
      "|-----> Calculate perturbation effect matrix via \\delta Y = J \\dot \\delta X....\n",
      "|-----> project the pca perturbation vector to low dimensional space....\n",
      "|-----> [projecting velocity vector to low dimensional embedding] in progress: 100.0000%|-----> [projecting velocity vector to low dimensional embedding] completed [0.2678s]\n",
      "|-----> you can use dyn.pl.streamline_plot(adata, basis='pca_perturbation') to visualize the perturbation vector\n",
      "Done erf\n",
      "|-----> In silico perturbation of single-cells and prediction of cell fate after perturbation...\n",
      "|-----> Retrive X_pca, PCs, pca_mean...\n",
      "|-----> Calculate perturbation effect matrix via \\delta Y = J \\dot \\delta X....\n",
      "|-----> project the pca perturbation vector to low dimensional space....\n",
      "|-----> [projecting velocity vector to low dimensional embedding] in progress: 100.0000%|-----> [projecting velocity vector to low dimensional embedding] completed [0.3549s]\n",
      "|-----> you can use dyn.pl.streamline_plot(adata, basis='pca_perturbation') to visualize the perturbation vector\n",
      "Done rarga\n",
      "|-----> In silico perturbation of single-cells and prediction of cell fate after perturbation...\n",
      "|-----> Retrive X_pca, PCs, pca_mean...\n",
      "|-----> Calculate perturbation effect matrix via \\delta Y = J \\dot \\delta X....\n",
      "|-----> project the pca perturbation vector to low dimensional space....\n",
      "|-----> [projecting velocity vector to low dimensional embedding] in progress: 100.0000%|-----> [projecting velocity vector to low dimensional embedding] completed [0.2676s]\n",
      "|-----> you can use dyn.pl.streamline_plot(adata, basis='pca_perturbation') to visualize the perturbation vector\n",
      "Done tfec\n"
     ]
    }
   ],
   "source": [
    "## Dynamo (KO)\n",
    "ko_dyn = TFScanning_KO_dyn(adata, 8, \"cell_type\", TERMINAL_STATES, single_ko)\n",
    "\n",
    "## Dynamo (perturbation)\n",
    "perturbation_dyn = TFScanning_perturbation_dyn(adata, 8, \"cell_type\", TERMINAL_STATES, single_ko)"
   ]
  },
  {
   "cell_type": "code",
   "execution_count": 20,
   "id": "5298a43d-1351-4c09-9485-cf1da48bff00",
   "metadata": {},
   "outputs": [],
   "source": [
    "## Perform KO screening using function based perturbation\n",
    "coef_KO = pd.DataFrame(np.array(ko_dyn[\"coefficient\"]))\n",
    "coef_KO.index = ko_dyn[\"TF\"]\n",
    "coef_KO.columns = get_list_name(ko_dyn[\"coefficient\"][0])\n",
    "\n",
    "## Perform perturbation screening using gene expression based perturbation\n",
    "coef_perturb = pd.DataFrame(np.array(perturbation_dyn[\"coefficient\"]))\n",
    "coef_perturb.index = perturbation_dyn[\"TF\"]\n",
    "coef_perturb.columns = get_list_name(perturbation_dyn[\"coefficient\"][0])"
   ]
  },
  {
   "cell_type": "markdown",
   "id": "fff579ef-0ec2-433a-a8d8-bd1d0442be75",
   "metadata": {},
   "source": [
    "### Multiple gene knock-out prediction"
   ]
  },
  {
   "cell_type": "code",
   "execution_count": 21,
   "id": "fdbc9916-6aab-4360-a825-fea6942c6687",
   "metadata": {},
   "outputs": [],
   "source": [
    "multiple_ko_list = split_elements(multiple_ko)"
   ]
  },
  {
   "cell_type": "code",
   "execution_count": 22,
   "id": "1d3983d6-f243-4fc3-b75a-8fc36aed65ad",
   "metadata": {},
   "outputs": [
    {
     "data": {
      "application/vnd.jupyter.widget-view+json": {
       "model_id": "103b9c3211554145854ffa994699f2a0",
       "version_major": 2,
       "version_minor": 0
      },
      "text/plain": [
       "  0%|          | 0/697 [00:00<?, ?cell/s]"
      ]
     },
     "metadata": {},
     "output_type": "display_data"
    },
    {
     "data": {
      "application/vnd.jupyter.widget-view+json": {
       "model_id": "ceed22f431c04c4fb2b2791f53571e3e",
       "version_major": 2,
       "version_minor": 0
      },
      "text/plain": [
       "  0%|          | 0/697 [00:00<?, ?cell/s]"
      ]
     },
     "metadata": {},
     "output_type": "display_data"
    },
    {
     "name": "stdout",
     "output_type": "stream",
     "text": [
      "WARNING: Unable to import `petsc4py` or `slepc4py`. Using `method='brandts'`\n",
      "WARNING: For `method='brandts'`, dense matrix is required. Densifying\n"
     ]
    },
    {
     "name": "stderr",
     "output_type": "stream",
     "text": [
      "2024-11-24 16:03:33,803 - INFO - Using pre-computed Schur decomposition\n"
     ]
    },
    {
     "data": {
      "application/vnd.jupyter.widget-view+json": {
       "model_id": "ed25a469d73c4991ac73dbdd435a514c",
       "version_major": 2,
       "version_minor": 0
      },
      "text/plain": [
       "  0%|          | 0/4 [00:00<?, ?/s]"
      ]
     },
     "metadata": {},
     "output_type": "display_data"
    },
    {
     "name": "stdout",
     "output_type": "stream",
     "text": [
      "|-----> In silico knockout ['fli1a', 'elk3']\n",
      "|-----> Project the high dimensional vector field after KO to umap.\n",
      "|-----> [calculating transition matrix via pearson kernel with sqrt transform.] in progress: 100.0000%|-----> [calculating transition matrix via pearson kernel with sqrt transform.] completed [0.3093s]\n",
      "|-----> [projecting velocity vector to low dimensional embedding] in progress: 100.0000%|-----> [projecting velocity vector to low dimensional embedding] completed [0.2854s]\n"
     ]
    },
    {
     "data": {
      "application/vnd.jupyter.widget-view+json": {
       "model_id": "cf03373ae45f4cdcb6126ca5b4952bfa",
       "version_major": 2,
       "version_minor": 0
      },
      "text/plain": [
       "  0%|          | 0/697 [00:00<?, ?cell/s]"
      ]
     },
     "metadata": {},
     "output_type": "display_data"
    },
    {
     "data": {
      "application/vnd.jupyter.widget-view+json": {
       "model_id": "ef2d953391df461c9a6dfda260d300b6",
       "version_major": 2,
       "version_minor": 0
      },
      "text/plain": [
       "  0%|          | 0/697 [00:00<?, ?cell/s]"
      ]
     },
     "metadata": {},
     "output_type": "display_data"
    },
    {
     "name": "stdout",
     "output_type": "stream",
     "text": [
      "WARNING: Unable to import `petsc4py` or `slepc4py`. Using `method='brandts'`\n",
      "WARNING: For `method='brandts'`, dense matrix is required. Densifying\n"
     ]
    },
    {
     "name": "stderr",
     "output_type": "stream",
     "text": [
      "2024-11-24 16:03:38,437 - INFO - Using pre-computed Schur decomposition\n"
     ]
    },
    {
     "data": {
      "application/vnd.jupyter.widget-view+json": {
       "model_id": "a2fa5006f11346d2a0d964efad069a23",
       "version_major": 2,
       "version_minor": 0
      },
      "text/plain": [
       "  0%|          | 0/4 [00:00<?, ?/s]"
      ]
     },
     "metadata": {},
     "output_type": "display_data"
    },
    {
     "name": "stdout",
     "output_type": "stream",
     "text": [
      "['fli1a', 'elk3']\n",
      "Done fli1a_elk3\n",
      "|-----> In silico knockout ['mitfa', 'tfec']\n",
      "|-----> Project the high dimensional vector field after KO to umap.\n",
      "|-----> [calculating transition matrix via pearson kernel with sqrt transform.] in progress: 100.0000%|-----> [calculating transition matrix via pearson kernel with sqrt transform.] completed [0.4391s]\n",
      "|-----> [projecting velocity vector to low dimensional embedding] in progress: 100.0000%|-----> [projecting velocity vector to low dimensional embedding] completed [0.4197s]\n"
     ]
    },
    {
     "data": {
      "application/vnd.jupyter.widget-view+json": {
       "model_id": "9866a270f96744daa21f013e50eeac22",
       "version_major": 2,
       "version_minor": 0
      },
      "text/plain": [
       "  0%|          | 0/697 [00:00<?, ?cell/s]"
      ]
     },
     "metadata": {},
     "output_type": "display_data"
    },
    {
     "data": {
      "application/vnd.jupyter.widget-view+json": {
       "model_id": "30409aa520e24301b4999ff2ac854b33",
       "version_major": 2,
       "version_minor": 0
      },
      "text/plain": [
       "  0%|          | 0/697 [00:00<?, ?cell/s]"
      ]
     },
     "metadata": {},
     "output_type": "display_data"
    },
    {
     "name": "stdout",
     "output_type": "stream",
     "text": [
      "WARNING: Unable to import `petsc4py` or `slepc4py`. Using `method='brandts'`\n",
      "WARNING: For `method='brandts'`, dense matrix is required. Densifying\n"
     ]
    },
    {
     "name": "stderr",
     "output_type": "stream",
     "text": [
      "2024-11-24 16:03:44,295 - INFO - Using pre-computed Schur decomposition\n"
     ]
    },
    {
     "data": {
      "application/vnd.jupyter.widget-view+json": {
       "model_id": "8ce5be92bfc14850847e419ebb89258e",
       "version_major": 2,
       "version_minor": 0
      },
      "text/plain": [
       "  0%|          | 0/4 [00:00<?, ?/s]"
      ]
     },
     "metadata": {},
     "output_type": "display_data"
    },
    {
     "name": "stdout",
     "output_type": "stream",
     "text": [
      "['mitfa', 'tfec']\n",
      "Done mitfa_tfec\n",
      "|-----> In silico knockout ['tfec', 'mitfa', 'bhlhe40']\n",
      "|-----> Project the high dimensional vector field after KO to umap.\n",
      "|-----> [calculating transition matrix via pearson kernel with sqrt transform.] in progress: 100.0000%|-----> [calculating transition matrix via pearson kernel with sqrt transform.] completed [0.2762s]\n",
      "|-----> [projecting velocity vector to low dimensional embedding] in progress: 100.0000%|-----> [projecting velocity vector to low dimensional embedding] completed [0.2686s]\n"
     ]
    },
    {
     "data": {
      "application/vnd.jupyter.widget-view+json": {
       "model_id": "2e72e76d819347e09b233f3fc0fc9136",
       "version_major": 2,
       "version_minor": 0
      },
      "text/plain": [
       "  0%|          | 0/697 [00:00<?, ?cell/s]"
      ]
     },
     "metadata": {},
     "output_type": "display_data"
    },
    {
     "data": {
      "application/vnd.jupyter.widget-view+json": {
       "model_id": "3caebdd90c374428aba2098f01f835a4",
       "version_major": 2,
       "version_minor": 0
      },
      "text/plain": [
       "  0%|          | 0/697 [00:00<?, ?cell/s]"
      ]
     },
     "metadata": {},
     "output_type": "display_data"
    },
    {
     "name": "stdout",
     "output_type": "stream",
     "text": [
      "WARNING: Unable to import `petsc4py` or `slepc4py`. Using `method='brandts'`\n",
      "WARNING: For `method='brandts'`, dense matrix is required. Densifying\n"
     ]
    },
    {
     "name": "stderr",
     "output_type": "stream",
     "text": [
      "2024-11-24 16:03:48,604 - INFO - Using pre-computed Schur decomposition\n"
     ]
    },
    {
     "data": {
      "application/vnd.jupyter.widget-view+json": {
       "model_id": "672b1e28f9704981ba708c5e19a9c503",
       "version_major": 2,
       "version_minor": 0
      },
      "text/plain": [
       "  0%|          | 0/4 [00:00<?, ?/s]"
      ]
     },
     "metadata": {},
     "output_type": "display_data"
    },
    {
     "name": "stdout",
     "output_type": "stream",
     "text": [
      "['tfec', 'mitfa', 'bhlhe40']\n",
      "Done tfec_mitfa_bhlhe40\n",
      "|-----> In silico knockout ['fli1a', 'erf', 'erfl3']\n",
      "|-----> Project the high dimensional vector field after KO to umap.\n",
      "|-----> [calculating transition matrix via pearson kernel with sqrt transform.] in progress: 100.0000%|-----> [calculating transition matrix via pearson kernel with sqrt transform.] completed [0.3052s]\n",
      "|-----> [projecting velocity vector to low dimensional embedding] in progress: 100.0000%|-----> [projecting velocity vector to low dimensional embedding] completed [0.2681s]\n"
     ]
    },
    {
     "data": {
      "application/vnd.jupyter.widget-view+json": {
       "model_id": "b7df7acf177a4510b2d2367f65235a96",
       "version_major": 2,
       "version_minor": 0
      },
      "text/plain": [
       "  0%|          | 0/697 [00:00<?, ?cell/s]"
      ]
     },
     "metadata": {},
     "output_type": "display_data"
    },
    {
     "data": {
      "application/vnd.jupyter.widget-view+json": {
       "model_id": "2843453e5e504ed6b46dee7ac87442f2",
       "version_major": 2,
       "version_minor": 0
      },
      "text/plain": [
       "  0%|          | 0/697 [00:00<?, ?cell/s]"
      ]
     },
     "metadata": {},
     "output_type": "display_data"
    },
    {
     "name": "stdout",
     "output_type": "stream",
     "text": [
      "WARNING: Unable to import `petsc4py` or `slepc4py`. Using `method='brandts'`\n",
      "WARNING: For `method='brandts'`, dense matrix is required. Densifying\n"
     ]
    },
    {
     "name": "stderr",
     "output_type": "stream",
     "text": [
      "2024-11-24 16:03:52,901 - INFO - Using pre-computed Schur decomposition\n"
     ]
    },
    {
     "data": {
      "application/vnd.jupyter.widget-view+json": {
       "model_id": "4ab660bd0f634c7fab04c519fe6d862f",
       "version_major": 2,
       "version_minor": 0
      },
      "text/plain": [
       "  0%|          | 0/4 [00:00<?, ?/s]"
      ]
     },
     "metadata": {},
     "output_type": "display_data"
    },
    {
     "name": "stdout",
     "output_type": "stream",
     "text": [
      "['fli1a', 'erf', 'erfl3']\n",
      "Done fli1a_erf_erfl3\n",
      "|-----> In silico knockout ['erf', 'erfl3']\n",
      "|-----> Project the high dimensional vector field after KO to umap.\n",
      "|-----> [calculating transition matrix via pearson kernel with sqrt transform.] in progress: 100.0000%|-----> [calculating transition matrix via pearson kernel with sqrt transform.] completed [0.2932s]\n",
      "|-----> [projecting velocity vector to low dimensional embedding] in progress: 100.0000%|-----> [projecting velocity vector to low dimensional embedding] completed [0.2666s]\n"
     ]
    },
    {
     "data": {
      "application/vnd.jupyter.widget-view+json": {
       "model_id": "85051b56cef7472589291ba16c969756",
       "version_major": 2,
       "version_minor": 0
      },
      "text/plain": [
       "  0%|          | 0/697 [00:00<?, ?cell/s]"
      ]
     },
     "metadata": {},
     "output_type": "display_data"
    },
    {
     "data": {
      "application/vnd.jupyter.widget-view+json": {
       "model_id": "b80b3248eef84e4d8a927b5f03fef0fd",
       "version_major": 2,
       "version_minor": 0
      },
      "text/plain": [
       "  0%|          | 0/697 [00:00<?, ?cell/s]"
      ]
     },
     "metadata": {},
     "output_type": "display_data"
    },
    {
     "name": "stdout",
     "output_type": "stream",
     "text": [
      "WARNING: Unable to import `petsc4py` or `slepc4py`. Using `method='brandts'`\n",
      "WARNING: For `method='brandts'`, dense matrix is required. Densifying\n"
     ]
    },
    {
     "name": "stderr",
     "output_type": "stream",
     "text": [
      "2024-11-24 16:03:57,243 - INFO - Using pre-computed Schur decomposition\n"
     ]
    },
    {
     "data": {
      "application/vnd.jupyter.widget-view+json": {
       "model_id": "9d4c3e3b3231459488bd51e6681dd31d",
       "version_major": 2,
       "version_minor": 0
      },
      "text/plain": [
       "  0%|          | 0/4 [00:00<?, ?/s]"
      ]
     },
     "metadata": {},
     "output_type": "display_data"
    },
    {
     "name": "stdout",
     "output_type": "stream",
     "text": [
      "['erf', 'erfl3']\n",
      "Done erf_erfl3\n",
      "|-----> In silico perturbation of single-cells and prediction of cell fate after perturbation...\n",
      "|-----> Retrive X_pca, PCs, pca_mean...\n",
      "|-----> Calculate perturbation effect matrix via \\delta Y = J \\dot \\delta X....\n",
      "|-----> project the pca perturbation vector to low dimensional space....\n",
      "|-----> [projecting velocity vector to low dimensional embedding] in progress: 100.0000%|-----> [projecting velocity vector to low dimensional embedding] completed [0.2709s]\n",
      "|-----> you can use dyn.pl.streamline_plot(adata, basis='umap_perturbation') to visualize the perturbation vector\n",
      "Done fli1a_elk3\n",
      "|-----> In silico perturbation of single-cells and prediction of cell fate after perturbation...\n",
      "|-----> Retrive X_pca, PCs, pca_mean...\n",
      "|-----> Calculate perturbation effect matrix via \\delta Y = J \\dot \\delta X....\n",
      "|-----> project the pca perturbation vector to low dimensional space....\n",
      "|-----> [projecting velocity vector to low dimensional embedding] in progress: 100.0000%|-----> [projecting velocity vector to low dimensional embedding] completed [0.2763s]\n",
      "|-----> you can use dyn.pl.streamline_plot(adata, basis='umap_perturbation') to visualize the perturbation vector\n",
      "Done mitfa_tfec\n",
      "|-----> In silico perturbation of single-cells and prediction of cell fate after perturbation...\n",
      "|-----> Retrive X_pca, PCs, pca_mean...\n",
      "|-----> Calculate perturbation effect matrix via \\delta Y = J \\dot \\delta X....\n",
      "|-----> project the pca perturbation vector to low dimensional space....\n",
      "|-----> [projecting velocity vector to low dimensional embedding] in progress: 100.0000%|-----> [projecting velocity vector to low dimensional embedding] completed [0.2808s]\n",
      "|-----> you can use dyn.pl.streamline_plot(adata, basis='umap_perturbation') to visualize the perturbation vector\n",
      "Done tfec_mitfa_bhlhe40\n",
      "|-----> In silico perturbation of single-cells and prediction of cell fate after perturbation...\n",
      "|-----> Retrive X_pca, PCs, pca_mean...\n",
      "|-----> Calculate perturbation effect matrix via \\delta Y = J \\dot \\delta X....\n",
      "|-----> project the pca perturbation vector to low dimensional space....\n",
      "|-----> [projecting velocity vector to low dimensional embedding] in progress: 100.0000%|-----> [projecting velocity vector to low dimensional embedding] completed [0.2947s]\n",
      "|-----> you can use dyn.pl.streamline_plot(adata, basis='umap_perturbation') to visualize the perturbation vector\n",
      "Done fli1a_erf_erfl3\n",
      "|-----> In silico perturbation of single-cells and prediction of cell fate after perturbation...\n",
      "|-----> Retrive X_pca, PCs, pca_mean...\n",
      "|-----> Calculate perturbation effect matrix via \\delta Y = J \\dot \\delta X....\n",
      "|-----> project the pca perturbation vector to low dimensional space....\n",
      "|-----> [projecting velocity vector to low dimensional embedding] in progress: 100.0000%|-----> [projecting velocity vector to low dimensional embedding] completed [0.2571s]\n",
      "|-----> you can use dyn.pl.streamline_plot(adata, basis='umap_perturbation') to visualize the perturbation vector\n",
      "Done erf_erfl3\n"
     ]
    }
   ],
   "source": [
    "## Dynamo (KO)\n",
    "ko_dyn = Multiple_TFScanning_KO_dyn(adata, 9, \"cell_type\", TERMINAL_STATES, multiple_ko_list)\n",
    "\n",
    "## Dynamo (perturbation)\n",
    "perturbation_ko = Multiple_TFScanning_perturbation_dyn(adata, 9, \"cell_type\", TERMINAL_STATES, multiple_ko_list)"
   ]
  },
  {
   "cell_type": "code",
   "execution_count": 23,
   "id": "b5b0859c-cc82-46a8-b436-46ddd06a5110",
   "metadata": {},
   "outputs": [],
   "source": [
    "## Perform KO screening using function based perturbation\n",
    "coef_KO_multiple = pd.DataFrame(np.array(ko_dyn[\"coefficient\"]))\n",
    "coef_KO_multiple.index = ko_dyn[\"TF\"]\n",
    "coef_KO_multiple.columns = get_list_name(ko_dyn[\"coefficient\"][0])\n",
    "\n",
    "## Perform perturbation screening using gene expression based perturbation\n",
    "coef_perturb_multiple = pd.DataFrame(np.array(perturbation_dyn[\"coefficient\"]))\n",
    "coef_perturb_multiple.index = perturbation_dyn[\"TF\"]\n",
    "coef_perturb_multiple.columns = get_list_name(perturbation_dyn[\"coefficient\"][0])"
   ]
  },
  {
   "cell_type": "markdown",
   "id": "683f0f63-7d81-4c47-af47-b3db80051392",
   "metadata": {},
   "source": [
    "## Save dataset"
   ]
  },
  {
   "cell_type": "code",
   "execution_count": 24,
   "id": "c2a456e0-2942-43a1-b0f8-e46f556e455a",
   "metadata": {},
   "outputs": [],
   "source": [
    "if SAVE_DATA:\n",
    "    coef_KO.to_csv(DATA_DIR / DATASET / \"results\" / \"dynamo_KO_single.csv\")\n",
    "    coef_KO_multiple.to_csv(DATA_DIR / DATASET / \"results\" / \"dynamo_KO_multiple.csv\")\n",
    "\n",
    "    coef_perturb.to_csv(DATA_DIR / DATASET / \"results\" / \"dynamo_perturb_single.csv\")\n",
    "    coef_perturb_multiple.to_csv(DATA_DIR / DATASET / \"results\" / \"dynamo_perturb_multiple.csv\")"
   ]
  },
  {
   "cell_type": "code",
   "execution_count": null,
   "id": "4c8b302a-599f-43c8-8403-113a9447bde9",
   "metadata": {},
   "outputs": [],
   "source": []
  },
  {
   "cell_type": "code",
   "execution_count": null,
   "id": "e3e7e0a9-2f5c-4f14-877d-dfbed2d9c01b",
   "metadata": {},
   "outputs": [],
   "source": []
  },
  {
   "cell_type": "code",
   "execution_count": null,
   "id": "11d2a573-0aab-4b56-b353-fa21d64a1fa9",
   "metadata": {},
   "outputs": [],
   "source": []
  },
  {
   "cell_type": "code",
   "execution_count": null,
   "id": "3ca87c12-949f-4144-824b-891577f5aa94",
   "metadata": {},
   "outputs": [],
   "source": []
  }
 ],
 "metadata": {
  "kernelspec": {
   "display_name": "Python [conda env:dynamo]",
   "language": "python",
   "name": "conda-env-dynamo-py"
  },
  "language_info": {
   "codemirror_mode": {
    "name": "ipython",
    "version": 3
   },
   "file_extension": ".py",
   "mimetype": "text/x-python",
   "name": "python",
   "nbconvert_exporter": "python",
   "pygments_lexer": "ipython3",
   "version": "3.10.12"
  }
 },
 "nbformat": 4,
 "nbformat_minor": 5
}
