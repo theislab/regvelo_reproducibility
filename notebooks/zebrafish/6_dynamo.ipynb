{
 "cells": [
  {
   "cell_type": "markdown",
   "id": "e7d2c95f-c181-4f36-a515-9c1aa043b365",
   "metadata": {},
   "source": [
    "# Dynamo-based perturbation analysis\n",
    "\n",
    "Notebooks predicts TF perturbation effects using dynamo."
   ]
  },
  {
   "cell_type": "markdown",
   "id": "6218836e",
   "metadata": {},
   "source": [
    "## Library imports"
   ]
  },
  {
   "cell_type": "code",
   "execution_count": null,
   "id": "dea9f34a-1302-4c69-ada6-bcacd2d0cb42",
   "metadata": {},
   "outputs": [],
   "source": [
    "import numpy as np\n",
    "import pandas as pd\n",
    "from scipy.stats import ranksums\n",
    "from sklearn.metrics import roc_auc_score\n",
    "\n",
    "import matplotlib.pyplot as plt\n",
    "import mplscience\n",
    "import seaborn as sns\n",
    "\n",
    "import cellrank as cr\n",
    "import dynamo as dyn\n",
    "import scanpy as sc\n",
    "from dynamo.preprocessing import Preprocessor\n",
    "from scvelo import logging as logg\n",
    "\n",
    "from rgv_tools import DATA_DIR, FIG_DIR"
   ]
  },
  {
   "cell_type": "markdown",
   "id": "7b5e1c3f",
   "metadata": {},
   "source": [
    "## Constants"
   ]
  },
  {
   "cell_type": "code",
   "execution_count": null,
   "id": "19721745",
   "metadata": {},
   "outputs": [],
   "source": [
    "DATASET = \"zebrafish\""
   ]
  },
  {
   "cell_type": "code",
   "execution_count": null,
   "id": "5bda203e",
   "metadata": {},
   "outputs": [],
   "source": [
    "SAVE_DATA = True\n",
    "if SAVE_DATA:\n",
    "    (DATA_DIR / DATASET / \"results\").mkdir(parents=True, exist_ok=True)"
   ]
  },
  {
   "cell_type": "code",
   "execution_count": null,
   "id": "e25889b9",
   "metadata": {
    "lines_to_next_cell": 2
   },
   "outputs": [],
   "source": [
    "SAVE_FIGURES = False\n",
    "if SAVE_FIGURES:\n",
    "    (FIG_DIR / DATASET).mkdir(parents=True, exist_ok=True)"
   ]
  },
  {
   "cell_type": "markdown",
   "id": "e863bbac-f615-48d0-ba9a-a8b652e4358d",
   "metadata": {
    "lines_to_next_cell": 2
   },
   "source": [
    "## Function definitions"
   ]
  },
  {
   "cell_type": "code",
   "execution_count": null,
   "id": "0511cf14-6af0-4bd1-a1d5-ff482b656e3f",
   "metadata": {},
   "outputs": [],
   "source": [
    "def p_adjust_bh(p):\n",
    "    \"\"\"TODO.\"\"\"\n",
    "    p = np.asfarray(p)\n",
    "    by_descend = p.argsort()[::-1]\n",
    "    by_orig = by_descend.argsort()\n",
    "    steps = float(len(p)) / np.arange(len(p), 0, -1)\n",
    "    q = np.minimum(1, np.minimum.accumulate(steps * p[by_descend]))\n",
    "    return q[by_orig]"
   ]
  },
  {
   "cell_type": "code",
   "execution_count": null,
   "id": "4faba94a",
   "metadata": {},
   "outputs": [],
   "source": [
    "def get_list_name(lst):\n",
    "    \"\"\"TODO.\"\"\"\n",
    "    names = []\n",
    "    for name, _ in lst.items():\n",
    "        names.append(name)\n",
    "    return names"
   ]
  },
  {
   "cell_type": "code",
   "execution_count": null,
   "id": "8948c5c5",
   "metadata": {},
   "outputs": [],
   "source": [
    "def abundance_test(prob_raw, prob_pert, correction=True):\n",
    "    \"\"\"TODO.\"\"\"\n",
    "    y = [1] * prob_raw.shape[0] + [0] * prob_pert.shape[0]\n",
    "    X = pd.concat([prob_raw, prob_pert])\n",
    "\n",
    "    table = []\n",
    "    for i in range(prob_raw.shape[1]):\n",
    "        pred = np.array(X.iloc[:, i])\n",
    "\n",
    "        if np.sum(pred) == 0:\n",
    "            pval = np.nan\n",
    "            score = np.nan\n",
    "        else:\n",
    "            pval = ranksums(pred[np.array(y) == 1], pred[np.array(y) == 0])[1]\n",
    "            score = roc_auc_score(y, pred)\n",
    "        # result = list(scipy.stats.spearmanr(pred,y))\n",
    "        result = [score, pval]\n",
    "        # result[0] = np.array( (np.mean(pred[np.array(y)==1])) / (np.mean(pred[np.array(y)==0])))\n",
    "        table.append(np.expand_dims(np.array(result), 0))\n",
    "\n",
    "    table = np.concatenate(table, 0)\n",
    "    table = pd.DataFrame(table)\n",
    "    table.index = prob_raw.columns\n",
    "    table.columns = [\"coefficient\", \"p-value\"]\n",
    "    ## Running FDR addjust\n",
    "    table.loc[:, \"FDR adjusted p-value\"] = p_adjust_bh(table.loc[:, \"p-value\"].tolist())\n",
    "\n",
    "    return table"
   ]
  },
  {
   "cell_type": "code",
   "execution_count": null,
   "id": "4562343e",
   "metadata": {},
   "outputs": [],
   "source": [
    "def TFScanning_KO(adata, n_states, cluster_label, terminal_states, TF, fate_prob_return=False):\n",
    "    \"\"\"TODO.\"\"\"\n",
    "    vk = cr.kernels.VelocityKernel(adata, attr=\"obsm\", xkey=\"X_pca\", vkey=\"velocity_pca\")\n",
    "    vk.compute_transition_matrix()\n",
    "    ck = cr.kernels.ConnectivityKernel(adata).compute_transition_matrix()\n",
    "    g = cr.estimators.GPCCA(0.8 * vk + 0.2 * ck)\n",
    "    ## evaluate the fate prob on original space\n",
    "    g.compute_macrostates(n_states=n_states, n_cells=10, cluster_key=cluster_label)\n",
    "    ## set a high number of states, and merge some of them and rename\n",
    "    if terminal_states is None:\n",
    "        g.predict_terminal_states()\n",
    "        terminal_states = g.terminal_states.cat.categories.tolist()\n",
    "    g.set_terminal_states(terminal_states)\n",
    "    # g2 = g2.rename_terminal_states({\"Mono_1\": \"Mono\",\"DCs_1\":\"DC\"})\n",
    "    g.compute_fate_probabilities(solver=\"direct\")\n",
    "    fate_prob = g.fate_probabilities\n",
    "    sampleID = adata.obs.index.tolist()\n",
    "    fate_name = fate_prob.names.tolist()\n",
    "    fate_prob = pd.DataFrame(fate_prob, index=sampleID, columns=fate_name)\n",
    "    ## create dictionary\n",
    "    terminal_id = terminal_states.copy()\n",
    "    terminal_type = terminal_states.copy()\n",
    "    for i in terminal_states:\n",
    "        for j in [1, 2, 3, 4, 5, 6, 7, 8, 9, 10]:\n",
    "            terminal_id.append(i + \"_\" + str(j))\n",
    "            terminal_type.append(i)\n",
    "\n",
    "    fate_prob_original = fate_prob.copy()\n",
    "    coef = []\n",
    "    pvalue = []\n",
    "    for tf in TF:\n",
    "        ## TODO: mask using dynamo\n",
    "        adata_target = adata.copy()\n",
    "        dyn.pd.KO(adata_target, tf, store_vf_ko=True)\n",
    "        ## perturb the regulations\n",
    "        vk = cr.kernels.VelocityKernel(adata_target, attr=\"obsm\", xkey=\"X_pca\", vkey=\"velocity_pca_KO\")\n",
    "        vk.compute_transition_matrix()\n",
    "        ck = cr.kernels.ConnectivityKernel(adata).compute_transition_matrix()\n",
    "        g2 = cr.estimators.GPCCA(0.8 * vk + 0.2 * ck)\n",
    "        ## evaluate the fate prob on original space\n",
    "        g2.compute_macrostates(n_states=n_states, n_cells=10, cluster_key=cluster_label)\n",
    "        ## intersection the states\n",
    "        terminal_states_perturb = g2.macrostates.cat.categories.tolist()\n",
    "        # terminal_states_perturb = list(set(terminal_states_perturb).intersection(terminal_id))\n",
    "        terminal_states_perturb = list(set(terminal_states_perturb).intersection(terminal_states))\n",
    "        g2.set_terminal_states(terminal_states_perturb)\n",
    "        g2.compute_fate_probabilities(solver=\"direct\")\n",
    "        fb = g2.fate_probabilities\n",
    "        sampleID = adata.obs.index.tolist()\n",
    "        fate_name = fb.names.tolist()\n",
    "        fb = pd.DataFrame(fb, index=sampleID, columns=fate_name)\n",
    "        fate_prob2 = pd.DataFrame(columns=terminal_states, index=sampleID)\n",
    "        for i in terminal_states_perturb:\n",
    "            # fate_prob2.loc[:,i] = fb.loc[:,[j == i for j in terminal_states_perturb_names]].sum(1).tolist()\n",
    "            fate_prob2.loc[:, i] = fb.loc[:, i]\n",
    "        fate_prob2 = fate_prob2.fillna(0)\n",
    "        arr = np.array(fate_prob2.sum(0))\n",
    "        arr[arr != 0] = 1\n",
    "        fate_prob = fate_prob * arr\n",
    "\n",
    "        fate_prob2.index = [i + \"_perturb\" for i in fate_prob2.index]\n",
    "        test_result = abundance_test(fate_prob, fate_prob2)\n",
    "        coef.append(test_result.loc[:, \"coefficient\"])\n",
    "        pvalue.append(test_result.loc[:, \"FDR adjusted p-value\"])\n",
    "        logg.info(\"Done \" + tf)\n",
    "        fate_prob = fate_prob_original.copy()\n",
    "    d = {\"TF\": TF, \"coefficient\": coef, \"pvalue\": pvalue}\n",
    "    # df = pd.DataFrame(data=d)\n",
    "    if fate_prob_return:\n",
    "        return fate_prob, fate_prob2\n",
    "    else:\n",
    "        return d"
   ]
  },
  {
   "cell_type": "code",
   "execution_count": null,
   "id": "ae3ef486",
   "metadata": {},
   "outputs": [],
   "source": [
    "def pipeline(adata, gene_for_KO):\n",
    "    \"\"\"TODO.\"\"\"\n",
    "    dyn.pd.perturbation(adata, gene_for_KO, [-1000], emb_basis=\"umap\")\n",
    "    effect = np.diag(adata.layers[\"j_delta_x_perturbation\"].toarray().dot(adata.layers[\"velocity_S\"].toarray().T))\n",
    "    effect = effect / np.max(np.abs(effect))\n",
    "    adata.obs[\"effect\"] = effect\n",
    "    Pigment_score = np.mean(adata.obs[\"effect\"][adata.obs[\"cell_type\"] == \"Pigment\"])\n",
    "    mNC_hox34_score = np.mean(adata.obs[\"effect\"][adata.obs[\"cell_type\"] == \"mNC_hox34\"])\n",
    "    mNC_arch2_score = np.mean(adata.obs[\"effect\"][adata.obs[\"cell_type\"] == \"mNC_arch2\"])\n",
    "    mNC_head_mesenchymal_score = np.mean(adata.obs[\"effect\"][adata.obs[\"cell_type\"] == \"mNC_head_mesenchymal\"])\n",
    "    score = [Pigment_score, mNC_hox34_score, mNC_arch2_score, mNC_head_mesenchymal_score]\n",
    "    celltype = [\"Pigment\", \"mNC_hox34\", \"mNC_arch2\", \"mNC_head_mesenchymal\"]\n",
    "    df = pd.DataFrame({\"PS_score\": score, \"celltype\": celltype})\n",
    "    df[\"KO\"] = gene_for_KO\n",
    "    df.index = celltype\n",
    "    return df"
   ]
  },
  {
   "cell_type": "code",
   "execution_count": null,
   "id": "e54e0443",
   "metadata": {
    "lines_to_next_cell": 2
   },
   "outputs": [],
   "source": [
    "def TFScanning_perturbation(adata, n_states, cluster_label, terminal_states, TF):\n",
    "    \"\"\"TODO.\"\"\"\n",
    "    coef = []\n",
    "    for tf in TF:\n",
    "        ## TODO: mask using dynamo\n",
    "        ## each time knock-out a TF\n",
    "        df = pipeline(adata, tf)\n",
    "        coef.append(df.loc[:, \"PS_score\"])\n",
    "        logg.info(\"Done \" + tf)\n",
    "    d = {\"TF\": TF, \"coefficient\": coef}\n",
    "    # df = pd.DataFrame(data=d)\n",
    "    return d"
   ]
  },
  {
   "cell_type": "markdown",
   "id": "3afe499b-1a1b-46ef-9af8-b848104a6c45",
   "metadata": {
    "lines_to_next_cell": 2
   },
   "source": [
    "#### Function for multiple knock-out"
   ]
  },
  {
   "cell_type": "code",
   "execution_count": null,
   "id": "36136aa1-1925-4501-a907-efd3009da8e8",
   "metadata": {},
   "outputs": [],
   "source": [
    "## perform multiple knock-out simulation benchmark\n",
    "def split_elements(character_list):\n",
    "    \"\"\"TODO.\"\"\"\n",
    "    result_list = []\n",
    "    for element in character_list:\n",
    "        if \"_\" in element:\n",
    "            parts = element.split(\"_\")\n",
    "            result_list.append(parts)\n",
    "        else:\n",
    "            result_list.append([element])\n",
    "    return result_list"
   ]
  },
  {
   "cell_type": "code",
   "execution_count": null,
   "id": "eaa9f69f",
   "metadata": {},
   "outputs": [],
   "source": [
    "def combine_elements(split_list):\n",
    "    \"\"\"TODO.\"\"\"\n",
    "    result_list = []\n",
    "    for parts in split_list:\n",
    "        combined_element = \"_\".join(parts)\n",
    "        result_list.append(combined_element)\n",
    "    return result_list"
   ]
  },
  {
   "cell_type": "code",
   "execution_count": null,
   "id": "da2a7a3e",
   "metadata": {},
   "outputs": [],
   "source": [
    "def Multiple_TFScanning_KO(adata, n_states, cluster_label, terminal_states, TF_pair):\n",
    "    \"\"\"TODO.\"\"\"\n",
    "    vk = cr.kernels.VelocityKernel(adata, attr=\"obsm\", xkey=\"X_pca\", vkey=\"velocity_pca\")\n",
    "    vk.compute_transition_matrix()\n",
    "    ck = cr.kernels.ConnectivityKernel(adata).compute_transition_matrix()\n",
    "    g = cr.estimators.GPCCA(0.8 * vk + 0.2 * ck)\n",
    "    ## evaluate the fate prob on original space\n",
    "    g.compute_macrostates(n_states=n_states, n_cells=10, cluster_key=cluster_label)\n",
    "    ## set a high number of states, and merge some of them and rename\n",
    "    if terminal_states is None:\n",
    "        g.predict_terminal_states()\n",
    "        terminal_states = g.terminal_states.cat.categories.tolist()\n",
    "    g.set_terminal_states(terminal_states)\n",
    "    g.compute_fate_probabilities(solver=\"direct\")\n",
    "    fate_prob = g.fate_probabilities\n",
    "    sampleID = adata.obs.index.tolist()\n",
    "    fate_name = fate_prob.names.tolist()\n",
    "    fate_prob = pd.DataFrame(fate_prob, index=sampleID, columns=fate_name)\n",
    "    ## create dictionary\n",
    "    terminal_id = terminal_states.copy()\n",
    "    terminal_type = terminal_states.copy()\n",
    "    for i in terminal_states:\n",
    "        for j in [1, 2, 3, 4, 5, 6, 7, 8, 9, 10]:\n",
    "            terminal_id.append(i + \"_\" + str(j))\n",
    "            terminal_type.append(i)\n",
    "\n",
    "    fate_prob_original = fate_prob.copy()\n",
    "\n",
    "    coef = []\n",
    "    pvalue = []\n",
    "    for tf_pair in TF_pair:\n",
    "        adata_target = adata.copy()\n",
    "        dyn.pd.KO(adata_target, tf_pair, store_vf_ko=True)\n",
    "\n",
    "        vk = cr.kernels.VelocityKernel(adata_target, attr=\"obsm\", xkey=\"X_pca\", vkey=\"velocity_pca_KO\")\n",
    "        vk.compute_transition_matrix()\n",
    "        ck = cr.kernels.ConnectivityKernel(adata).compute_transition_matrix()\n",
    "        g2 = cr.estimators.GPCCA(0.8 * vk + 0.2 * ck)\n",
    "        ## evaluate the fate prob on original space\n",
    "        g2.compute_macrostates(n_states=n_states, n_cells=10, cluster_key=cluster_label)\n",
    "        ## intersection the states\n",
    "\n",
    "        terminal_states_perturb = g2.macrostates.cat.categories.tolist()\n",
    "        # terminal_states_perturb = list(set(terminal_states_perturb).intersection(terminal_id))\n",
    "        terminal_states_perturb = list(set(terminal_states_perturb).intersection(terminal_states))\n",
    "\n",
    "        g2.set_terminal_states(terminal_states_perturb)\n",
    "        g2.compute_fate_probabilities(solver=\"direct\")\n",
    "        fb = g2.fate_probabilities\n",
    "        sampleID = adata.obs.index.tolist()\n",
    "        fate_name = fb.names.tolist()\n",
    "        fb = pd.DataFrame(fb, index=sampleID, columns=fate_name)\n",
    "        fate_prob2 = pd.DataFrame(columns=terminal_states, index=sampleID)\n",
    "\n",
    "        for i in terminal_states_perturb:\n",
    "            # fate_prob2.loc[:,i] = fb.loc[:,[j == i for j in terminal_states_perturb_names]].sum(1).tolist()\n",
    "            fate_prob2.loc[:, i] = fb.loc[:, i]\n",
    "\n",
    "        fate_prob2 = fate_prob2.fillna(0)\n",
    "        arr = np.array(fate_prob2.sum(0))\n",
    "        arr[arr != 0] = 1\n",
    "        fate_prob = fate_prob * arr\n",
    "\n",
    "        fate_prob2.index = [i + \"_perturb\" for i in fate_prob2.index]\n",
    "        test_result = abundance_test(fate_prob, fate_prob2)\n",
    "        coef.append(test_result.loc[:, \"coefficient\"])\n",
    "        pvalue.append(test_result.loc[:, \"FDR adjusted p-value\"])\n",
    "        print(tf_pair)\n",
    "        logg.info(\"Done \" + combine_elements([tf_pair])[0])\n",
    "        fate_prob = fate_prob_original.copy()\n",
    "    d = {\"TF\": combine_elements(TF_pair), \"coefficient\": coef, \"pvalue\": pvalue}\n",
    "    # df = pd.DataFrame(data=d)\n",
    "    return d"
   ]
  },
  {
   "cell_type": "code",
   "execution_count": null,
   "id": "4cb9f4bd",
   "metadata": {},
   "outputs": [],
   "source": [
    "def pipeline_double(adata, gene_for_KO):\n",
    "    \"\"\"TODO.\"\"\"\n",
    "    dyn.pd.perturbation(adata, gene_for_KO, [-1000] * len(gene_for_KO), emb_basis=\"umap\")\n",
    "    effect = np.diag(adata.layers[\"j_delta_x_perturbation\"].toarray().dot(adata.layers[\"velocity_S\"].toarray().T))\n",
    "    effect = effect / np.max(np.abs(effect))\n",
    "    adata.obs[\"effect\"] = effect\n",
    "\n",
    "    Pigment_score = np.mean(adata.obs[\"effect\"][adata.obs[\"cell_type\"] == \"Pigment\"])\n",
    "    mNC_hox34_score = np.mean(adata.obs[\"effect\"][adata.obs[\"cell_type\"] == \"mNC_hox34\"])\n",
    "    mNC_arch2_score = np.mean(adata.obs[\"effect\"][adata.obs[\"cell_type\"] == \"mNC_arch2\"])\n",
    "    mNC_head_mesenchymal_score = np.mean(adata.obs[\"effect\"][adata.obs[\"cell_type\"] == \"mNC_head_mesenchymal\"])\n",
    "\n",
    "    score = [Pigment_score, mNC_hox34_score, mNC_arch2_score, mNC_head_mesenchymal_score]\n",
    "    celltype = [\"Pigment\", \"mNC_hox34\", \"mNC_arch2\", \"mNC_head_mesenchymal\"]\n",
    "    df = pd.DataFrame({\"PS_score\": score, \"celltype\": celltype})\n",
    "    df[\"KO\"] = combine_elements([gene_for_KO])[0]\n",
    "    df.index = celltype\n",
    "\n",
    "    return df"
   ]
  },
  {
   "cell_type": "code",
   "execution_count": null,
   "id": "29e6c607",
   "metadata": {},
   "outputs": [],
   "source": [
    "def Multiple_TFScanning_perturbation(adata, n_states, cluster_label, terminal_states, TF_pair):\n",
    "    \"\"\"TODO.\"\"\"\n",
    "    coef = []\n",
    "    for tf in TF_pair:\n",
    "        ## TODO: mask using dynamo\n",
    "        ## each time knock-out a TF\n",
    "        df = pipeline_double(adata, tf)\n",
    "        coef.append(df.loc[:, \"PS_score\"])\n",
    "        logg.info(\"Done \" + combine_elements([tf])[0])\n",
    "    d = {\"TF\": combine_elements(TF_pair), \"coefficient\": coef}\n",
    "    # df = pd.DataFrame(data=d)\n",
    "    return d"
   ]
  },
  {
   "cell_type": "markdown",
   "id": "8553a267-ff5b-468a-8718-e3868d8ae72a",
   "metadata": {},
   "source": [
    "## Data Loading"
   ]
  },
  {
   "cell_type": "code",
   "execution_count": null,
   "id": "b4092828-59c0-4ad5-bcee-6ca3e2a9363b",
   "metadata": {},
   "outputs": [],
   "source": [
    "adata = sc.read_h5ad(DATA_DIR / DATASET / \"processed\" / \"adata_preprocessed.h5ad\")"
   ]
  },
  {
   "cell_type": "code",
   "execution_count": null,
   "id": "1ccd8394-f681-48aa-91a6-2a99d57b1a2a",
   "metadata": {},
   "outputs": [],
   "source": [
    "adata.X = adata.layers[\"matrix\"].copy()"
   ]
  },
  {
   "cell_type": "code",
   "execution_count": null,
   "id": "d6865b92-7884-4054-b634-832a6ce4a65a",
   "metadata": {},
   "outputs": [],
   "source": [
    "genes = [\"nr2f5\", \"sox9b\", \"twist1b\", \"ets1\"]"
   ]
  },
  {
   "cell_type": "markdown",
   "id": "b9f74a67-e4f9-457b-8747-b4d7fe5dddf1",
   "metadata": {},
   "source": [
    "## Processing by dynamo"
   ]
  },
  {
   "cell_type": "code",
   "execution_count": null,
   "id": "4d54136d-fbd1-4327-9b45-86de74ec709d",
   "metadata": {},
   "outputs": [],
   "source": [
    "preprocessor = Preprocessor()\n",
    "preprocessor.preprocess_adata(adata, recipe=\"monocle\")"
   ]
  },
  {
   "cell_type": "code",
   "execution_count": null,
   "id": "651b776e-da94-4854-ac94-e089277240fb",
   "metadata": {},
   "outputs": [],
   "source": [
    "dyn.tl.dynamics(adata)"
   ]
  },
  {
   "cell_type": "code",
   "execution_count": null,
   "id": "dd440647-a21e-424f-ae18-d3ebb35cd03e",
   "metadata": {},
   "outputs": [],
   "source": [
    "dyn.tl.reduceDimension(adata)"
   ]
  },
  {
   "cell_type": "code",
   "execution_count": null,
   "id": "cb02e1f0-c3f8-4ee0-995b-4d9c6c59de02",
   "metadata": {},
   "outputs": [],
   "source": [
    "dyn.tl.cell_velocities(adata, basis=\"pca\")"
   ]
  },
  {
   "cell_type": "code",
   "execution_count": null,
   "id": "e5c81440-aba7-42c7-a4c7-c650d01cce77",
   "metadata": {},
   "outputs": [],
   "source": [
    "dyn.vf.VectorField(adata, basis=\"pca\")"
   ]
  },
  {
   "cell_type": "code",
   "execution_count": null,
   "id": "25b1f058-6912-4148-9a9c-8b2e26b33bbd",
   "metadata": {},
   "outputs": [],
   "source": [
    "adata_perturb = adata.copy()"
   ]
  },
  {
   "cell_type": "code",
   "execution_count": null,
   "id": "e1b110b2-ade5-41c1-9762-c914695e7e54",
   "metadata": {},
   "outputs": [],
   "source": [
    "del adata.uns[\"cell_type_colors\"]"
   ]
  },
  {
   "cell_type": "markdown",
   "id": "a0c8991e-41d4-4463-8018-0b10e4581c5d",
   "metadata": {},
   "source": [
    "## Compare predict fate probability changes"
   ]
  },
  {
   "cell_type": "code",
   "execution_count": null,
   "id": "96849b53-9c85-4319-9a08-075f75b5c705",
   "metadata": {},
   "outputs": [],
   "source": [
    "terminal_states = [\n",
    "    \"mNC_head_mesenchymal\",\n",
    "    \"mNC_arch2\",\n",
    "    \"mNC_hox34\",\n",
    "    \"Pigment\",\n",
    "]\n",
    "\n",
    "fate_prob = {}\n",
    "fate_prob_perturb = {}\n",
    "\n",
    "for g in genes:\n",
    "    fb, fb_perturb = TFScanning_KO(adata, 8, \"cell_type\", terminal_states, [g], fate_prob_return=True)\n",
    "    fate_prob[g] = fb\n",
    "    fate_prob_perturb[g] = fb_perturb"
   ]
  },
  {
   "cell_type": "markdown",
   "id": "aef4ac7d-c584-4fbf-8b45-f3ab8b44365d",
   "metadata": {},
   "source": [
    "## Visualize dynamo perturbation effects"
   ]
  },
  {
   "cell_type": "code",
   "execution_count": null,
   "id": "ebf066b6-c22f-4de4-88db-f9ca025b7ddd",
   "metadata": {},
   "outputs": [],
   "source": [
    "for g in genes:\n",
    "    data = abundance_test(fate_prob[g], fate_prob_perturb[g])\n",
    "    data = pd.DataFrame(\n",
    "        {\n",
    "            \"Score\": data.iloc[:, 0].tolist(),\n",
    "            \"p-value\": data.iloc[:, 1].tolist(),\n",
    "            \"Terminal state\": data.index.tolist(),\n",
    "            \"TF\": [g] * (data.shape[0]),\n",
    "        }\n",
    "    )\n",
    "\n",
    "    final_df = data.copy()\n",
    "    final_df[\"Score\"] = 0.5 - final_df[\"Score\"]\n",
    "\n",
    "    color_label = \"cell_type\"\n",
    "    df = pd.DataFrame(final_df[\"Score\"])\n",
    "    df.columns = [\"coefficient\"]\n",
    "    df[\"Cell type\"] = final_df[\"Terminal state\"]\n",
    "    order = df[\"Cell type\"].tolist()\n",
    "\n",
    "    palette = dict(zip(adata.obs[color_label].cat.categories, adata_perturb.uns[f\"{color_label}_colors\"]))\n",
    "    subset_palette = {name: color for name, color in palette.items() if name in terminal_states}\n",
    "\n",
    "    with mplscience.style_context():\n",
    "        sns.set_style(style=\"whitegrid\")\n",
    "        fig, ax = plt.subplots(figsize=(2, 2))\n",
    "        sns.barplot(\n",
    "            data=df,\n",
    "            y=\"coefficient\",\n",
    "            x=\"Cell type\",\n",
    "            palette=subset_palette,\n",
    "            order=order,\n",
    "            ax=ax,\n",
    "        )\n",
    "        ax.tick_params(axis=\"x\", rotation=90)\n",
    "        plt.title(\"$\\\\mathit{\" + g + \"}$ regulon knock out simulation\")\n",
    "\n",
    "        if SAVE_FIGURES:\n",
    "            plt.savefig(\n",
    "                FIG_DIR / DATASET / f\"{g}_perturbation_simulation_dynamo.svg\",\n",
    "                format=\"svg\",\n",
    "                transparent=True,\n",
    "                bbox_inches=\"tight\",\n",
    "            )\n",
    "        # Show the plot\n",
    "        plt.show()"
   ]
  },
  {
   "cell_type": "markdown",
   "id": "22ef20d3-2993-40a2-ace2-ec2b14bb3faf",
   "metadata": {},
   "source": [
    "## Perturbation benchmark"
   ]
  },
  {
   "cell_type": "code",
   "execution_count": null,
   "id": "b80c7678-b673-4976-b0b2-7b6b258602c6",
   "metadata": {},
   "outputs": [],
   "source": [
    "gene_list = [\"elk3\", \"erf\", \"etv2\", \"fli1a\", \"mitfa\", \"nr2f5\", \"rarga\", \"rxraa\", \"smarcc1a\", \"tfec\", \"nr2f2\"]"
   ]
  },
  {
   "cell_type": "code",
   "execution_count": null,
   "id": "711ab263-62b4-4031-ac6b-c6a678cbbdc3",
   "metadata": {},
   "outputs": [],
   "source": [
    "gene_list = set(gene_list).intersection(adata.var_names)\n",
    "gene_list = list(gene_list)"
   ]
  },
  {
   "cell_type": "code",
   "execution_count": null,
   "id": "5ef5a872-cc46-42f5-b570-c8f6af5b0cdc",
   "metadata": {},
   "outputs": [],
   "source": [
    "## Dynamo (KO)\n",
    "d = TFScanning_KO(adata, 8, \"cell_type\", terminal_states, gene_list)\n",
    "\n",
    "## Dynamo (perturbation)\n",
    "d2 = TFScanning_perturbation(adata, 8, \"cell_type\", terminal_states, gene_list)"
   ]
  },
  {
   "cell_type": "code",
   "execution_count": null,
   "id": "5298a43d-1351-4c09-9485-cf1da48bff00",
   "metadata": {},
   "outputs": [],
   "source": [
    "## Perform KO screening using function based perturbation\n",
    "coef_KO = pd.DataFrame(np.array(d[\"coefficient\"]))\n",
    "coef_KO.index = d[\"TF\"]\n",
    "coef_KO.columns = get_list_name(d[\"coefficient\"][0])\n",
    "\n",
    "## Perform perturbation screening using gene expression based perturbation\n",
    "coef_perturb = pd.DataFrame(np.array(d2[\"coefficient\"]))\n",
    "coef_perturb.index = d2[\"TF\"]\n",
    "coef_perturb.columns = get_list_name(d2[\"coefficient\"][0])"
   ]
  },
  {
   "cell_type": "markdown",
   "id": "fff579ef-0ec2-433a-a8d8-bd1d0442be75",
   "metadata": {},
   "source": [
    "## Multiple gene knock-out prediction"
   ]
  },
  {
   "cell_type": "code",
   "execution_count": null,
   "id": "fdbc9916-6aab-4360-a825-fea6942c6687",
   "metadata": {},
   "outputs": [],
   "source": [
    "multiple_ko = [\"fli1a_elk3\", \"mitfa_tfec\", \"tfec_mitfa_bhlhe40\", \"fli1a_erf_erfl3\", \"erf_erfl3\"]\n",
    "multiple_ko_list = split_elements(multiple_ko)"
   ]
  },
  {
   "cell_type": "code",
   "execution_count": null,
   "id": "1d3983d6-f243-4fc3-b75a-8fc36aed65ad",
   "metadata": {},
   "outputs": [],
   "source": [
    "## Dynamo (KO)\n",
    "d = Multiple_TFScanning_KO(adata, 9, \"cell_type\", terminal_states, multiple_ko_list)\n",
    "\n",
    "## Dynamo (perturbation)\n",
    "d2 = Multiple_TFScanning_perturbation(adata, 9, \"cell_type\", terminal_states, multiple_ko_list)"
   ]
  },
  {
   "cell_type": "code",
   "execution_count": null,
   "id": "b5b0859c-cc82-46a8-b436-46ddd06a5110",
   "metadata": {},
   "outputs": [],
   "source": [
    "## Perform KO screening using function based perturbation\n",
    "coef_KO_multiple = pd.DataFrame(np.array(d[\"coefficient\"]))\n",
    "coef_KO_multiple.index = d[\"TF\"]\n",
    "coef_KO_multiple.columns = get_list_name(d[\"coefficient\"][0])\n",
    "\n",
    "## Perform perturbation screening using gene expression based perturbation\n",
    "coef_perturb_multiple = pd.DataFrame(np.array(d2[\"coefficient\"]))\n",
    "coef_perturb_multiple.index = d2[\"TF\"]\n",
    "coef_perturb_multiple.columns = get_list_name(d2[\"coefficient\"][0])"
   ]
  },
  {
   "cell_type": "markdown",
   "id": "683f0f63-7d81-4c47-af47-b3db80051392",
   "metadata": {},
   "source": [
    "## Save dataset"
   ]
  },
  {
   "cell_type": "code",
   "execution_count": null,
   "id": "c2a456e0-2942-43a1-b0f8-e46f556e455a",
   "metadata": {},
   "outputs": [],
   "source": [
    "if SAVE_DATA:\n",
    "    coef_KO.to_csv(DATA_DIR / DATASET / \"results\" / \"dynamo_KO_single.csv\")\n",
    "    coef_KO_multiple.to_csv(DATA_DIR / DATASET / \"results\" / \"dynamo_KO_multiple.csv\")\n",
    "\n",
    "    coef_perturb.to_csv(DATA_DIR / DATASET / \"results\" / \"dynamo_perturb_single.csv\")\n",
    "    coef_perturb_multiple.to_csv(DATA_DIR / DATASET / \"results\" / \"dynamo_perturb_multiple.csv\")"
   ]
  }
 ],
 "metadata": {
  "kernelspec": {
   "display_name": "Python [conda env:dynamo]",
   "language": "python",
   "name": "conda-env-dynamo-py"
  },
  "language_info": {
   "codemirror_mode": {
    "name": "ipython",
    "version": 3
   },
   "file_extension": ".py",
   "mimetype": "text/x-python",
   "name": "python",
   "nbconvert_exporter": "python",
   "pygments_lexer": "ipython3",
   "version": "3.10.12"
  }
 },
 "nbformat": 4,
 "nbformat_minor": 5
}
