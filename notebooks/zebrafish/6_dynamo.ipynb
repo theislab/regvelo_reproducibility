{
 "cells": [
  {
   "cell_type": "markdown",
   "id": "e7d2c95f-c181-4f36-a515-9c1aa043b365",
   "metadata": {},
   "source": [
    "# Using dynamo to perform perturbation analysis"
   ]
  },
  {
   "cell_type": "markdown",
   "id": "339a4150-36e9-4602-a81d-5d0e438386fe",
   "metadata": {},
   "source": [
    "##### Using dynamo perturbation prediction to predict TF perturbation effects"
   ]
  },
  {
   "cell_type": "code",
   "execution_count": 69,
   "id": "dea9f34a-1302-4c69-ada6-bcacd2d0cb42",
   "metadata": {},
   "outputs": [],
   "source": [
    "import numpy as np\n",
    "import pandas as pd\n",
    "import scanpy as sc\n",
    "\n",
    "from sklearn.metrics import roc_auc_score\n",
    "from scipy.stats import ranksums\n",
    "from scvelo import logging as logg\n",
    "\n",
    "import mplscience\n",
    "import matplotlib.pyplot as plt\n",
    "import seaborn as sns\n",
    "\n",
    "import dynamo as dyn\n",
    "from dynamo.preprocessing import Preprocessor\n",
    "\n",
    "import cellrank as cr\n",
    "\n",
    "from rgv_tools import DATA_DIR, FIG_DIR"
   ]
  },
  {
   "cell_type": "markdown",
   "id": "e863bbac-f615-48d0-ba9a-a8b652e4358d",
   "metadata": {},
   "source": [
    "## Function defination"
   ]
  },
  {
   "cell_type": "markdown",
   "id": "c4303373-c771-4b00-8c6a-882e98b20baf",
   "metadata": {},
   "source": [
    "#### Functions for single knock-out"
   ]
  },
  {
   "cell_type": "code",
   "execution_count": 61,
   "id": "0511cf14-6af0-4bd1-a1d5-ff482b656e3f",
   "metadata": {},
   "outputs": [],
   "source": [
    "def p_adjust_bh(p):\n",
    "    \"\"\"TODO.\"\"\"\n",
    "    p = np.asfarray(p)\n",
    "    by_descend = p.argsort()[::-1]\n",
    "    by_orig = by_descend.argsort()\n",
    "    steps = float(len(p)) / np.arange(len(p), 0, -1)\n",
    "    q = np.minimum(1, np.minimum.accumulate(steps * p[by_descend]))\n",
    "    return q[by_orig]\n",
    "\n",
    "def get_list_name(lst):\n",
    "    \"\"\"TODO.\"\"\"\n",
    "    names = []\n",
    "    for name, obj in lst.items():\n",
    "        names.append(name)\n",
    "    return names\n",
    "\n",
    "def abundance_test(prob_raw, prob_pert, correction = True):\n",
    "    \"\"\"TODO.\"\"\"\n",
    "    y = [1] * prob_raw.shape[0] + [0] * prob_pert.shape[0]\n",
    "    X = pd.concat([prob_raw,prob_pert])\n",
    "    \n",
    "    table = []\n",
    "    for i in range(prob_raw.shape[1]):\n",
    "        pred = np.array(X.iloc[:,i])\n",
    "\n",
    "        if np.sum(pred) == 0:\n",
    "            pval = np.nan\n",
    "            score = np.nan\n",
    "        else:\n",
    "            pval = ranksums(pred[np.array(y)==1],pred[np.array(y)==0])[1]\n",
    "            score = roc_auc_score(y,pred)\n",
    "        #result = list(scipy.stats.spearmanr(pred,y))\n",
    "        result = [score,pval]\n",
    "        #result[0] = np.array( (np.mean(pred[np.array(y)==1])) / (np.mean(pred[np.array(y)==0])))\n",
    "        table.append(np.expand_dims(np.array(result),0))\n",
    "        \n",
    "    table = np.concatenate(table,0)\n",
    "    table = pd.DataFrame(table)\n",
    "    table.index = prob_raw.columns\n",
    "    table.columns = [\"coefficient\",\"p-value\"]\n",
    "    ## Running FDR addjust\n",
    "    table.loc[:,\"FDR adjusted p-value\"] = p_adjust_bh(table.loc[:,\"p-value\"].tolist())\n",
    "    \n",
    "    return table\n",
    "\n",
    "def TFScanning_KO(adata, n_states, cluster_label, terminal_states, TF, fate_prob_return = False):\n",
    "    \"\"\"TODO.\"\"\"\n",
    "    vk = cr.kernels.VelocityKernel(adata,attr = \"obsm\",xkey = \"X_pca\", vkey = \"velocity_pca\")\n",
    "    vk.compute_transition_matrix()\n",
    "    ck = cr.kernels.ConnectivityKernel(adata).compute_transition_matrix()\n",
    "    g = cr.estimators.GPCCA(0.8*vk+0.2*ck)\n",
    "    ## evaluate the fate prob on original space\n",
    "    g.compute_macrostates(n_states=n_states, n_cells = 10,cluster_key=cluster_label)\n",
    "    ## set a high number of states, and merge some of them and rename\n",
    "    if terminal_states is None:\n",
    "        g.predict_terminal_states()\n",
    "        terminal_states = g.terminal_states.cat.categories.tolist()\n",
    "    g.set_terminal_states(\n",
    "        terminal_states\n",
    "    )\n",
    "    #g2 = g2.rename_terminal_states({\"Mono_1\": \"Mono\",\"DCs_1\":\"DC\"})\n",
    "    g.compute_fate_probabilities(solver=\"direct\")\n",
    "    fate_prob = g.fate_probabilities\n",
    "    sampleID = adata.obs.index.tolist()\n",
    "    fate_name = fate_prob.names.tolist()\n",
    "    fate_prob = pd.DataFrame(fate_prob,index= sampleID,columns=fate_name)\n",
    "    ## create dictionary\n",
    "    terminal_id = terminal_states.copy()\n",
    "    terminal_type = terminal_states.copy()\n",
    "    for i in terminal_states:\n",
    "        for j in [1,2,3,4,5,6,7,8,9,10]:\n",
    "            terminal_id.append(i+\"_\"+str(j))\n",
    "            terminal_type.append(i)\n",
    "    terminal_dict = dict(zip(terminal_id, terminal_type))\n",
    "    fate_prob_original = fate_prob.copy()\n",
    "    coef = []\n",
    "    pvalue = []\n",
    "    for tf in TF:\n",
    "        ## TODO: mask using dynamo\n",
    "        adata_target = adata.copy()\n",
    "        dyn.pd.KO(adata_target, tf, store_vf_ko = True)\n",
    "        ## perturb the regulations\n",
    "        vk = cr.kernels.VelocityKernel(adata_target, attr = \"obsm\", xkey = \"X_pca\",vkey = \"velocity_pca_KO\")\n",
    "        vk.compute_transition_matrix()\n",
    "        ck = cr.kernels.ConnectivityKernel(adata).compute_transition_matrix()\n",
    "        g2 = cr.estimators.GPCCA(0.8*vk+0.2*ck)\n",
    "        ## evaluate the fate prob on original space\n",
    "        g2.compute_macrostates(n_states=n_states, n_cells = 10, cluster_key=cluster_label)\n",
    "        ## intersection the states\n",
    "        terminal_states_perturb = g2.macrostates.cat.categories.tolist()\n",
    "        #terminal_states_perturb = list(set(terminal_states_perturb).intersection(terminal_id))\n",
    "        terminal_states_perturb = list(set(terminal_states_perturb).intersection(terminal_states))\n",
    "        g2.set_terminal_states(\n",
    "            terminal_states_perturb\n",
    "        )\n",
    "        g2.compute_fate_probabilities(solver=\"direct\")\n",
    "        fb = g2.fate_probabilities\n",
    "        sampleID = adata.obs.index.tolist()\n",
    "        fate_name = fb.names.tolist()\n",
    "        fb = pd.DataFrame(fb,index= sampleID,columns=fate_name)\n",
    "        fate_prob2 = pd.DataFrame(columns= terminal_states, index=sampleID)   \n",
    "        for i in terminal_states_perturb:\n",
    "            #fate_prob2.loc[:,i] = fb.loc[:,[j == i for j in terminal_states_perturb_names]].sum(1).tolist()\n",
    "            fate_prob2.loc[:,i] = fb.loc[:,i]\n",
    "        fate_prob2 = fate_prob2.fillna(0)\n",
    "        arr = np.array(fate_prob2.sum(0))\n",
    "        arr[arr!=0] = 1\n",
    "        fate_prob = fate_prob * arr\n",
    "        y = [0] * fate_prob.shape[0] + [1] * fate_prob2.shape[0]\n",
    "        fate_prob2.index = [i + \"_perturb\" for i in fate_prob2.index]\n",
    "        test_result = abundance_test(fate_prob, fate_prob2)\n",
    "        coef.append(test_result.loc[:, \"coefficient\"])\n",
    "        pvalue.append(test_result.loc[:, \"FDR adjusted p-value\"]) \n",
    "        logg.info(\"Done \"+tf)\n",
    "        fate_prob = fate_prob_original.copy()       \n",
    "    d = {'TF': TF, 'coefficient': coef, 'pvalue': pvalue}\n",
    "    #df = pd.DataFrame(data=d)      \n",
    "    if fate_prob_return:\n",
    "        return fate_prob,fate_prob2\n",
    "    else:\n",
    "        return d\n",
    "\n",
    "def pipeline(adata,gene_for_KO):\n",
    "    \"\"\"TODO.\"\"\"\n",
    "    dyn.pd.perturbation(adata, gene_for_KO, [-1000], emb_basis=\"umap\")\n",
    "    effect = np.diag(adata.layers[\"j_delta_x_perturbation\"].toarray().dot(adata.layers[\"velocity_S\"].toarray().T))\n",
    "    effect = effect / np.max(np.abs(effect))\n",
    "    adata.obs[\"effect\"] = effect\n",
    "    Pigment_score = np.mean(adata.obs[\"effect\"][adata.obs[\"cell_type\"] == \"Pigment\"])\n",
    "    mNC_hox34_score = np.mean(adata.obs[\"effect\"][adata.obs[\"cell_type\"] == \"mNC_hox34\"])\n",
    "    mNC_arch2_score = np.mean(adata.obs[\"effect\"][adata.obs[\"cell_type\"] == \"mNC_arch2\"])\n",
    "    mNC_head_mesenchymal_score = np.mean(adata.obs[\"effect\"][adata.obs[\"cell_type\"] == \"mNC_head_mesenchymal\"])\n",
    "    score = [Pigment_score,mNC_hox34_score,mNC_arch2_score,mNC_head_mesenchymal_score]\n",
    "    celltype = [\"Pigment\",\"mNC_hox34\",\"mNC_arch2\",\"mNC_head_mesenchymal\"]\n",
    "    df = pd.DataFrame({\"PS_score\": score,\n",
    "                       \"celltype\":celltype})\n",
    "    df[\"KO\"] = gene_for_KO\n",
    "    df.index = celltype\n",
    "    return df\n",
    "\n",
    "def TFScanning_perturbation(adata, n_states, cluster_label, terminal_states, TF):\n",
    "    \"\"\"TODO.\"\"\"\n",
    "    coef = []\n",
    "    for tf in TF:\n",
    "        ## TODO: mask using dynamo\n",
    "        ## each time knock-out a TF\n",
    "        df = pipeline(adata,tf)\n",
    "        coef.append(df.loc[:, \"PS_score\"])\n",
    "        logg.info(\"Done \"+tf)\n",
    "    d = {'TF': TF, 'coefficient': coef}\n",
    "    #df = pd.DataFrame(data=d)      \n",
    "    return d"
   ]
  },
  {
   "cell_type": "markdown",
   "id": "3afe499b-1a1b-46ef-9af8-b848104a6c45",
   "metadata": {},
   "source": [
    "#### Function for multiple knock-out"
   ]
  },
  {
   "cell_type": "code",
   "execution_count": 62,
   "id": "36136aa1-1925-4501-a907-efd3009da8e8",
   "metadata": {},
   "outputs": [],
   "source": [
    "## perform multiple knock-out simulation benchmark\n",
    "def split_elements(character_list):\n",
    "    \"\"\"TODO.\"\"\"\n",
    "    result_list = []\n",
    "    for element in character_list:\n",
    "        if '_' in element:\n",
    "            parts = element.split('_')\n",
    "            result_list.append(parts)\n",
    "        else:\n",
    "            result_list.append([element])\n",
    "    return result_list\n",
    "\n",
    "def combine_elements(split_list):\n",
    "    \"\"\"TODO.\"\"\"\n",
    "    result_list = []\n",
    "    for parts in split_list:\n",
    "        combined_element = \"_\".join(parts)\n",
    "        result_list.append(combined_element)\n",
    "    return result_list\n",
    "\n",
    "\n",
    "def Multiple_TFScanning_KO(adata, n_states, cluster_label, terminal_states, TF_pair):\n",
    "    \"\"\"TODO.\"\"\"\n",
    "    vk = cr.kernels.VelocityKernel(adata,attr = \"obsm\",xkey = \"X_pca\", vkey = \"velocity_pca\")\n",
    "    vk.compute_transition_matrix()\n",
    "    ck = cr.kernels.ConnectivityKernel(adata).compute_transition_matrix()\n",
    "    g = cr.estimators.GPCCA(0.8*vk+0.2*ck)\n",
    "    ## evaluate the fate prob on original space\n",
    "    g.compute_macrostates(n_states=n_states, n_cells = 10,cluster_key=cluster_label)\n",
    "    ## set a high number of states, and merge some of them and rename\n",
    "    if terminal_states is None:\n",
    "        g.predict_terminal_states()\n",
    "        terminal_states = g.terminal_states.cat.categories.tolist()\n",
    "    g.set_terminal_states(\n",
    "        terminal_states\n",
    "    )\n",
    "    g.compute_fate_probabilities(solver=\"direct\")\n",
    "    fate_prob = g.fate_probabilities\n",
    "    sampleID = adata.obs.index.tolist()\n",
    "    fate_name = fate_prob.names.tolist()\n",
    "    fate_prob = pd.DataFrame(fate_prob,index= sampleID,columns=fate_name)\n",
    "    ## create dictionary\n",
    "    terminal_id = terminal_states.copy()\n",
    "    terminal_type = terminal_states.copy()\n",
    "    for i in terminal_states:\n",
    "        for j in [1,2,3,4,5,6,7,8,9,10]:\n",
    "            terminal_id.append(i+\"_\"+str(j))\n",
    "            terminal_type.append(i)\n",
    "    terminal_dict = dict(zip(terminal_id, terminal_type))\n",
    "    fate_prob_original = fate_prob.copy()\n",
    "    \n",
    "    coef = []\n",
    "    pvalue = []\n",
    "    for tf_pair in TF_pair:\n",
    "        adata_target = adata.copy()\n",
    "        dyn.pd.KO(adata_target, tf_pair,store_vf_ko = True)\n",
    "        \n",
    "        vk = cr.kernels.VelocityKernel(adata_target, attr = \"obsm\",xkey = \"X_pca\",vkey = \"velocity_pca_KO\")\n",
    "        vk.compute_transition_matrix()\n",
    "        ck = cr.kernels.ConnectivityKernel(adata).compute_transition_matrix()\n",
    "        g2 = cr.estimators.GPCCA(0.8*vk+0.2*ck)\n",
    "        ## evaluate the fate prob on original space\n",
    "        g2.compute_macrostates(n_states=n_states, n_cells = 10, cluster_key=cluster_label)\n",
    "        ## intersection the states\n",
    "\n",
    "        terminal_states_perturb = g2.macrostates.cat.categories.tolist()\n",
    "        #terminal_states_perturb = list(set(terminal_states_perturb).intersection(terminal_id))\n",
    "        terminal_states_perturb = list(set(terminal_states_perturb).intersection(terminal_states))\n",
    "        \n",
    "        g2.set_terminal_states(\n",
    "            terminal_states_perturb\n",
    "        )\n",
    "        g2.compute_fate_probabilities(solver=\"direct\")\n",
    "        fb = g2.fate_probabilities\n",
    "        sampleID = adata.obs.index.tolist()\n",
    "        fate_name = fb.names.tolist()\n",
    "        fb = pd.DataFrame(fb,index= sampleID,columns=fate_name)\n",
    "        fate_prob2 = pd.DataFrame(columns= terminal_states, index=sampleID)   \n",
    "        \n",
    "        for i in terminal_states_perturb:\n",
    "            #fate_prob2.loc[:,i] = fb.loc[:,[j == i for j in terminal_states_perturb_names]].sum(1).tolist()\n",
    "            fate_prob2.loc[:,i] = fb.loc[:,i]\n",
    "\n",
    "        fate_prob2 = fate_prob2.fillna(0)\n",
    "        arr = np.array(fate_prob2.sum(0))\n",
    "        arr[arr!=0] = 1\n",
    "        fate_prob = fate_prob * arr\n",
    "        \n",
    "        y = [0] * fate_prob.shape[0] + [1] * fate_prob2.shape[0]\n",
    "        fate_prob2.index = [i + \"_perturb\" for i in fate_prob2.index]\n",
    "        test_result = abundance_test(fate_prob, fate_prob2)\n",
    "        coef.append(test_result.loc[:, \"coefficient\"])\n",
    "        pvalue.append(test_result.loc[:, \"FDR adjusted p-value\"]) \n",
    "        print(tf_pair)\n",
    "        logg.info(\"Done \"+combine_elements([tf_pair])[0])\n",
    "        fate_prob = fate_prob_original.copy()\n",
    "    d = {'TF': combine_elements(TF_pair), 'coefficient': coef, 'pvalue': pvalue}\n",
    "    #df = pd.DataFrame(data=d)      \n",
    "    return d\n",
    "\n",
    "def pipeline_double(adata,gene_for_KO):\n",
    "    \"\"\"TODO.\"\"\"\n",
    "    dyn.pd.perturbation(adata, gene_for_KO, [-1000]*len(gene_for_KO), emb_basis=\"umap\")\n",
    "    effect = np.diag(adata.layers[\"j_delta_x_perturbation\"].toarray().dot(adata.layers[\"velocity_S\"].toarray().T))\n",
    "    effect = effect / np.max(np.abs(effect))\n",
    "    adata.obs[\"effect\"] = effect\n",
    "\n",
    "    Pigment_score = np.mean(adata.obs[\"effect\"][adata.obs[\"cell_type\"] == \"Pigment\"])\n",
    "    mNC_hox34_score = np.mean(adata.obs[\"effect\"][adata.obs[\"cell_type\"] == \"mNC_hox34\"])\n",
    "    mNC_arch2_score = np.mean(adata.obs[\"effect\"][adata.obs[\"cell_type\"] == \"mNC_arch2\"])\n",
    "    mNC_head_mesenchymal_score = np.mean(adata.obs[\"effect\"][adata.obs[\"cell_type\"] == \"mNC_head_mesenchymal\"])\n",
    "\n",
    "    score = [Pigment_score,mNC_hox34_score,mNC_arch2_score,mNC_head_mesenchymal_score]\n",
    "    celltype = [\"Pigment\",\"mNC_hox34\",\"mNC_arch2\",\"mNC_head_mesenchymal\"]\n",
    "    df = pd.DataFrame({\"PS_score\": score,\n",
    "                       \"celltype\":celltype})\n",
    "    df[\"KO\"] = combine_elements([gene_for_KO])[0]\n",
    "    df.index = celltype\n",
    "    \n",
    "    return df\n",
    "\n",
    "def Multiple_TFScanning_perturbation(adata, n_states, cluster_label, terminal_states, TF_pair):\n",
    "    \"\"\"TODO.\"\"\"\n",
    "    coef = []\n",
    "    for tf in TF_pair:\n",
    "        ## TODO: mask using dynamo\n",
    "        ## each time knock-out a TF\n",
    "        df = pipeline_double(adata,tf)\n",
    "        coef.append(df.loc[:, \"PS_score\"])\n",
    "        logg.info(\"Done \"+combine_elements([tf])[0])\n",
    "    d = {'TF': combine_elements(TF_pair), 'coefficient': coef}\n",
    "    #df = pd.DataFrame(data=d)      \n",
    "    return d"
   ]
  },
  {
   "cell_type": "markdown",
   "id": "3a17b0a9-7dfc-487b-a8bf-73715b477107",
   "metadata": {},
   "source": [
    "## Constants"
   ]
  },
  {
   "cell_type": "code",
   "execution_count": 22,
   "id": "e85dd0d5-2730-4b58-98a1-a78321b62260",
   "metadata": {},
   "outputs": [],
   "source": [
    "DATASET = \"zebrafish\""
   ]
  },
  {
   "cell_type": "code",
   "execution_count": 47,
   "id": "ab156e62-04b8-4849-a22d-b830c0ac7542",
   "metadata": {},
   "outputs": [],
   "source": [
    "SAVE_DATA = True\n",
    "if SAVE_DATA:\n",
    "    (DATA_DIR / DATASET / \"results\").mkdir(parents=True, exist_ok=True)\n",
    "\n",
    "SAVE_FIGURES = False\n",
    "if SAVE_FIGURES:\n",
    "    (FIG_DIR / DATASET).mkdir(parents=True, exist_ok=True)"
   ]
  },
  {
   "cell_type": "markdown",
   "id": "8553a267-ff5b-468a-8718-e3868d8ae72a",
   "metadata": {},
   "source": [
    "## Data Loading"
   ]
  },
  {
   "cell_type": "code",
   "execution_count": 24,
   "id": "b4092828-59c0-4ad5-bcee-6ca3e2a9363b",
   "metadata": {},
   "outputs": [],
   "source": [
    "adata = sc.read_h5ad(DATA_DIR / DATASET / \"processed\" / \"adata_preprocessed.h5ad\")"
   ]
  },
  {
   "cell_type": "code",
   "execution_count": 25,
   "id": "1ccd8394-f681-48aa-91a6-2a99d57b1a2a",
   "metadata": {},
   "outputs": [],
   "source": [
    "adata.X = adata.layers[\"matrix\"].copy()"
   ]
  },
  {
   "cell_type": "code",
   "execution_count": 26,
   "id": "d6865b92-7884-4054-b634-832a6ce4a65a",
   "metadata": {},
   "outputs": [],
   "source": [
    "genes = [\"nr2f5\",\"sox9b\",\"twist1b\",\"ets1\"]"
   ]
  },
  {
   "cell_type": "markdown",
   "id": "b9f74a67-e4f9-457b-8747-b4d7fe5dddf1",
   "metadata": {},
   "source": [
    "## Processing by dynamo"
   ]
  },
  {
   "cell_type": "code",
   "execution_count": 27,
   "id": "4d54136d-fbd1-4327-9b45-86de74ec709d",
   "metadata": {},
   "outputs": [
    {
     "name": "stdout",
     "output_type": "stream",
     "text": [
      "|-----> Running monocle preprocessing pipeline...\n",
      "|-----------> filtered out 0 outlier cells\n",
      "|-----------> filtered out 18 outlier genes\n",
      "|-----> PCA dimension reduction\n",
      "|-----> <insert> X_pca to obsm in AnnData Object.\n",
      "|-----> [Preprocessor-monocle] completed [1.7923s]\n"
     ]
    }
   ],
   "source": [
    "preprocessor = Preprocessor()\n",
    "preprocessor.preprocess_adata(adata, recipe=\"monocle\")"
   ]
  },
  {
   "cell_type": "code",
   "execution_count": 28,
   "id": "651b776e-da94-4854-ac94-e089277240fb",
   "metadata": {},
   "outputs": [
    {
     "name": "stdout",
     "output_type": "stream",
     "text": [
      "|-----> dynamics_del_2nd_moments_key is None. Using default value from DynamoAdataConfig: dynamics_del_2nd_moments_key=False\n",
      "|-----------> removing existing M layers:[]...\n",
      "|-----------> making adata smooth...\n",
      "|-----> calculating first/second moments...\n",
      "|-----? layer X_velocity is not in any of the (['X_spliced', 'X_unspliced'], ['X_new', 'X_total'], ['X_uu', 'X_ul', 'X_su', 'X_sl']) groups, skipping...\n",
      "|-----? layer X_variance_velocity is not in any of the (['X_spliced', 'X_unspliced'], ['X_new', 'X_total'], ['X_uu', 'X_ul', 'X_su', 'X_sl']) groups, skipping...\n",
      "|-----? layer X_Mu is not in any of the (['X_spliced', 'X_unspliced'], ['X_new', 'X_total'], ['X_uu', 'X_ul', 'X_su', 'X_sl']) groups, skipping...\n",
      "|-----? layer X_Ms is not in any of the (['X_spliced', 'X_unspliced'], ['X_new', 'X_total'], ['X_uu', 'X_ul', 'X_su', 'X_sl']) groups, skipping...\n",
      "|-----? layer X_Mu is not in any of the (['X_spliced', 'X_unspliced'], ['X_new', 'X_total'], ['X_uu', 'X_ul', 'X_su', 'X_sl']) groups, skipping...\n",
      "|-----? layer X_Ms is not in any of the (['X_spliced', 'X_unspliced'], ['X_new', 'X_total'], ['X_uu', 'X_ul', 'X_su', 'X_sl']) groups, skipping...\n",
      "|-----? layer X_Mu is not in any of the (['X_spliced', 'X_unspliced'], ['X_new', 'X_total'], ['X_uu', 'X_ul', 'X_su', 'X_sl']) groups, skipping...\n",
      "|-----? layer X_Ms is not in any of the (['X_spliced', 'X_unspliced'], ['X_new', 'X_total'], ['X_uu', 'X_ul', 'X_su', 'X_sl']) groups, skipping...\n",
      "|-----> [moments calculation] completed [5.7085s]\n"
     ]
    },
    {
     "name": "stderr",
     "output_type": "stream",
     "text": [
      "estimating gamma: 100%|██████████| 962/962 [00:06<00:00, 151.34it/s]\n"
     ]
    },
    {
     "data": {
      "text/plain": [
       "AnnData object with n_obs × n_vars = 697 × 962\n",
       "    obs: 'initial_size_unspliced', 'initial_size_spliced', 'initial_size', 'n_counts', 'cell_type', 'stage', 'cell_type2', 'macrostates', 'nGenes', 'nCounts', 'pMito', 'pass_basic_filter', 'unspliced_Size_Factor', 'initial_unspliced_cell_size', 'Size_Factor', 'initial_cell_size', 'spliced_Size_Factor', 'initial_spliced_cell_size', 'Ms_Size_Factor', 'initial_Ms_cell_size', 'Mu_Size_Factor', 'initial_Mu_cell_size', 'velocity_Size_Factor', 'initial_velocity_cell_size', 'variance_velocity_Size_Factor', 'initial_variance_velocity_cell_size', 'ntr'\n",
       "    var: 'Accession', 'Chromosome', 'End', 'Start', 'Strand', 'gene_count_corr', 'is_tf', 'velocity_gamma', 'velocity_qreg_ratio', 'velocity_r2', 'velocity_genes', 'TF', 'nCells', 'nCounts', 'pass_basic_filter', 'frac', 'use_for_pca', 'ntr', 'beta', 'gamma', 'half_life', 'alpha_b', 'alpha_r2', 'gamma_b', 'gamma_r2', 'gamma_logLL', 'delta_b', 'delta_r2', 'bs', 'bf', 'uu0', 'ul0', 'su0', 'sl0', 'U0', 'S0', 'total0', 'use_for_dynamics'\n",
       "    uns: 'cell_type_colors', 'macrostates_colors', 'neighbors', 'network', 'regulators', 'skeleton', 'targets', 'velocity_params', 'pp', 'feature_selection', 'PCs', 'explained_variance_ratio_', 'pca_mean', 'dynamics'\n",
       "    obsm: 'X_pca', 'X_umap'\n",
       "    layers: 'Ms', 'Mu', 'ambiguous', 'matrix', 'spliced', 'unspliced', 'variance_velocity', 'velocity', 'X_unspliced', 'X_Mu', 'X_spliced', 'X_variance_velocity', 'X_Ms', 'X_velocity', 'M_u', 'M_uu', 'M_s', 'M_us', 'M_ss', 'velocity_S'\n",
       "    obsp: 'connectivities', 'distances', 'moments_con'"
      ]
     },
     "execution_count": 28,
     "metadata": {},
     "output_type": "execute_result"
    }
   ],
   "source": [
    "dyn.tl.dynamics(adata)"
   ]
  },
  {
   "cell_type": "code",
   "execution_count": 29,
   "id": "dd440647-a21e-424f-ae18-d3ebb35cd03e",
   "metadata": {},
   "outputs": [
    {
     "name": "stdout",
     "output_type": "stream",
     "text": [
      "|-----> retrieve data for non-linear dimension reduction...\n",
      "|-----? adata already have basis umap. dimension reduction umap will be skipped! \n",
      "set enforce=True to re-performing dimension reduction.\n",
      "|-----> [UMAP] completed [0.0014s]\n"
     ]
    }
   ],
   "source": [
    "dyn.tl.reduceDimension(adata)"
   ]
  },
  {
   "cell_type": "code",
   "execution_count": 30,
   "id": "cb02e1f0-c3f8-4ee0-995b-4d9c6c59de02",
   "metadata": {},
   "outputs": [
    {
     "name": "stdout",
     "output_type": "stream",
     "text": [
      "|-----> [calculating transition matrix via pearson kernel with sqrt transform.] in progress: 100.0000%|-----> [calculating transition matrix via pearson kernel with sqrt transform.] completed [0.6099s]\n",
      "|-----> [projecting velocity vector to low dimensional embedding] in progress: 100.0000%|-----> [projecting velocity vector to low dimensional embedding] completed [0.2962s]\n"
     ]
    },
    {
     "data": {
      "text/plain": [
       "AnnData object with n_obs × n_vars = 697 × 962\n",
       "    obs: 'initial_size_unspliced', 'initial_size_spliced', 'initial_size', 'n_counts', 'cell_type', 'stage', 'cell_type2', 'macrostates', 'nGenes', 'nCounts', 'pMito', 'pass_basic_filter', 'unspliced_Size_Factor', 'initial_unspliced_cell_size', 'Size_Factor', 'initial_cell_size', 'spliced_Size_Factor', 'initial_spliced_cell_size', 'Ms_Size_Factor', 'initial_Ms_cell_size', 'Mu_Size_Factor', 'initial_Mu_cell_size', 'velocity_Size_Factor', 'initial_velocity_cell_size', 'variance_velocity_Size_Factor', 'initial_variance_velocity_cell_size', 'ntr'\n",
       "    var: 'Accession', 'Chromosome', 'End', 'Start', 'Strand', 'gene_count_corr', 'is_tf', 'velocity_gamma', 'velocity_qreg_ratio', 'velocity_r2', 'velocity_genes', 'TF', 'nCells', 'nCounts', 'pass_basic_filter', 'frac', 'use_for_pca', 'ntr', 'beta', 'gamma', 'half_life', 'alpha_b', 'alpha_r2', 'gamma_b', 'gamma_r2', 'gamma_logLL', 'delta_b', 'delta_r2', 'bs', 'bf', 'uu0', 'ul0', 'su0', 'sl0', 'U0', 'S0', 'total0', 'use_for_dynamics', 'use_for_transition'\n",
       "    uns: 'cell_type_colors', 'macrostates_colors', 'neighbors', 'network', 'regulators', 'skeleton', 'targets', 'velocity_params', 'pp', 'feature_selection', 'PCs', 'explained_variance_ratio_', 'pca_mean', 'dynamics', 'grid_velocity_pca'\n",
       "    obsm: 'X_pca', 'X_umap', 'velocity_pca'\n",
       "    layers: 'Ms', 'Mu', 'ambiguous', 'matrix', 'spliced', 'unspliced', 'variance_velocity', 'velocity', 'X_unspliced', 'X_Mu', 'X_spliced', 'X_variance_velocity', 'X_Ms', 'X_velocity', 'M_u', 'M_uu', 'M_s', 'M_us', 'M_ss', 'velocity_S'\n",
       "    obsp: 'connectivities', 'distances', 'moments_con', 'pearson_transition_matrix'"
      ]
     },
     "execution_count": 30,
     "metadata": {},
     "output_type": "execute_result"
    }
   ],
   "source": [
    "dyn.tl.cell_velocities(adata, basis='pca')"
   ]
  },
  {
   "cell_type": "code",
   "execution_count": 31,
   "id": "e5c81440-aba7-42c7-a4c7-c650d01cce77",
   "metadata": {},
   "outputs": [
    {
     "name": "stdout",
     "output_type": "stream",
     "text": [
      "|-----> VectorField reconstruction begins...\n",
      "|-----> Retrieve X and V based on basis: PCA. \n",
      "        Vector field will be learned in the PCA space.\n",
      "|-----> Learning vector field with method: sparsevfc.\n",
      "|-----> [SparseVFC] begins...\n",
      "|-----> Sampling control points based on data velocity magnitude...\n",
      "|-----> [SparseVFC] completed [0.3344s]\n",
      "|-----> [VectorField] completed [0.4372s]\n"
     ]
    }
   ],
   "source": [
    "dyn.vf.VectorField(adata,basis = \"pca\")"
   ]
  },
  {
   "cell_type": "code",
   "execution_count": 32,
   "id": "25b1f058-6912-4148-9a9c-8b2e26b33bbd",
   "metadata": {},
   "outputs": [],
   "source": [
    "adata_perturb = adata.copy()"
   ]
  },
  {
   "cell_type": "code",
   "execution_count": 33,
   "id": "e1b110b2-ade5-41c1-9762-c914695e7e54",
   "metadata": {},
   "outputs": [],
   "source": [
    "del adata.uns[\"cell_type_colors\"]"
   ]
  },
  {
   "cell_type": "markdown",
   "id": "a0c8991e-41d4-4463-8018-0b10e4581c5d",
   "metadata": {},
   "source": [
    "## Compare predict fate probability changes"
   ]
  },
  {
   "cell_type": "code",
   "execution_count": 41,
   "id": "96849b53-9c85-4319-9a08-075f75b5c705",
   "metadata": {},
   "outputs": [
    {
     "data": {
      "application/vnd.jupyter.widget-view+json": {
       "model_id": "5d94ebdaf3fe40adbae6e75a46108932",
       "version_major": 2,
       "version_minor": 0
      },
      "text/plain": [
       "  0%|          | 0/697 [00:00<?, ?cell/s]"
      ]
     },
     "metadata": {},
     "output_type": "display_data"
    },
    {
     "data": {
      "application/vnd.jupyter.widget-view+json": {
       "model_id": "04cb856a6cc5486990c58de9a4486f88",
       "version_major": 2,
       "version_minor": 0
      },
      "text/plain": [
       "  0%|          | 0/697 [00:00<?, ?cell/s]"
      ]
     },
     "metadata": {},
     "output_type": "display_data"
    },
    {
     "name": "stdout",
     "output_type": "stream",
     "text": [
      "WARNING: Unable to import `petsc4py` or `slepc4py`. Using `method='brandts'`\n",
      "WARNING: For `method='brandts'`, dense matrix is required. Densifying\n"
     ]
    },
    {
     "data": {
      "application/vnd.jupyter.widget-view+json": {
       "model_id": "897a39bc337a467b85894f19bad469d2",
       "version_major": 2,
       "version_minor": 0
      },
      "text/plain": [
       "  0%|          | 0/4 [00:00<?, ?/s]"
      ]
     },
     "metadata": {},
     "output_type": "display_data"
    },
    {
     "name": "stdout",
     "output_type": "stream",
     "text": [
      "|-----> In silico knockout nr2f5\n",
      "|-----> Project the high dimensional vector field after KO to umap.\n",
      "|-----> [calculating transition matrix via pearson kernel with sqrt transform.] in progress: 100.0000%|-----> [calculating transition matrix via pearson kernel with sqrt transform.] completed [0.3247s]\n",
      "|-----> [projecting velocity vector to low dimensional embedding] in progress: 100.0000%|-----> [projecting velocity vector to low dimensional embedding] completed [0.2925s]\n"
     ]
    },
    {
     "data": {
      "application/vnd.jupyter.widget-view+json": {
       "model_id": "ec6172a7f4e94e5189829bb23ae4ecf0",
       "version_major": 2,
       "version_minor": 0
      },
      "text/plain": [
       "  0%|          | 0/697 [00:00<?, ?cell/s]"
      ]
     },
     "metadata": {},
     "output_type": "display_data"
    },
    {
     "data": {
      "application/vnd.jupyter.widget-view+json": {
       "model_id": "45ee11b032964264aab606655fa50ff5",
       "version_major": 2,
       "version_minor": 0
      },
      "text/plain": [
       "  0%|          | 0/697 [00:00<?, ?cell/s]"
      ]
     },
     "metadata": {},
     "output_type": "display_data"
    },
    {
     "name": "stdout",
     "output_type": "stream",
     "text": [
      "WARNING: Unable to import `petsc4py` or `slepc4py`. Using `method='brandts'`\n",
      "WARNING: For `method='brandts'`, dense matrix is required. Densifying\n"
     ]
    },
    {
     "data": {
      "application/vnd.jupyter.widget-view+json": {
       "model_id": "503a2d15b75e43daa7a6ee86acc844cf",
       "version_major": 2,
       "version_minor": 0
      },
      "text/plain": [
       "  0%|          | 0/4 [00:00<?, ?/s]"
      ]
     },
     "metadata": {},
     "output_type": "display_data"
    },
    {
     "name": "stdout",
     "output_type": "stream",
     "text": [
      "Done nr2f5\n"
     ]
    },
    {
     "data": {
      "application/vnd.jupyter.widget-view+json": {
       "model_id": "907c30e8f6984c7ba09389702c1b071c",
       "version_major": 2,
       "version_minor": 0
      },
      "text/plain": [
       "  0%|          | 0/697 [00:00<?, ?cell/s]"
      ]
     },
     "metadata": {},
     "output_type": "display_data"
    },
    {
     "data": {
      "application/vnd.jupyter.widget-view+json": {
       "model_id": "bc9439bf239f40c5ad5532262cffa0c6",
       "version_major": 2,
       "version_minor": 0
      },
      "text/plain": [
       "  0%|          | 0/697 [00:00<?, ?cell/s]"
      ]
     },
     "metadata": {},
     "output_type": "display_data"
    },
    {
     "name": "stdout",
     "output_type": "stream",
     "text": [
      "WARNING: Unable to import `petsc4py` or `slepc4py`. Using `method='brandts'`\n",
      "WARNING: For `method='brandts'`, dense matrix is required. Densifying\n"
     ]
    },
    {
     "data": {
      "application/vnd.jupyter.widget-view+json": {
       "model_id": "198f36f6002c4ac7b0b57a77c984a6f1",
       "version_major": 2,
       "version_minor": 0
      },
      "text/plain": [
       "  0%|          | 0/4 [00:00<?, ?/s]"
      ]
     },
     "metadata": {},
     "output_type": "display_data"
    },
    {
     "name": "stdout",
     "output_type": "stream",
     "text": [
      "|-----> In silico knockout sox9b\n",
      "|-----> Project the high dimensional vector field after KO to umap.\n",
      "|-----> [calculating transition matrix via pearson kernel with sqrt transform.] in progress: 100.0000%|-----> [calculating transition matrix via pearson kernel with sqrt transform.] completed [0.2388s]\n",
      "|-----> [projecting velocity vector to low dimensional embedding] in progress: 100.0000%|-----> [projecting velocity vector to low dimensional embedding] completed [0.1893s]\n"
     ]
    },
    {
     "data": {
      "application/vnd.jupyter.widget-view+json": {
       "model_id": "35d2d07504614450a185f2510ef87459",
       "version_major": 2,
       "version_minor": 0
      },
      "text/plain": [
       "  0%|          | 0/697 [00:00<?, ?cell/s]"
      ]
     },
     "metadata": {},
     "output_type": "display_data"
    },
    {
     "data": {
      "application/vnd.jupyter.widget-view+json": {
       "model_id": "26fa019b40424f1a8f706c3a0e4b9136",
       "version_major": 2,
       "version_minor": 0
      },
      "text/plain": [
       "  0%|          | 0/697 [00:00<?, ?cell/s]"
      ]
     },
     "metadata": {},
     "output_type": "display_data"
    },
    {
     "name": "stdout",
     "output_type": "stream",
     "text": [
      "WARNING: Unable to import `petsc4py` or `slepc4py`. Using `method='brandts'`\n",
      "WARNING: For `method='brandts'`, dense matrix is required. Densifying\n"
     ]
    },
    {
     "data": {
      "application/vnd.jupyter.widget-view+json": {
       "model_id": "8bcc6d00db574b309c13db452d67e7ab",
       "version_major": 2,
       "version_minor": 0
      },
      "text/plain": [
       "  0%|          | 0/4 [00:00<?, ?/s]"
      ]
     },
     "metadata": {},
     "output_type": "display_data"
    },
    {
     "name": "stdout",
     "output_type": "stream",
     "text": [
      "Done sox9b\n"
     ]
    },
    {
     "data": {
      "application/vnd.jupyter.widget-view+json": {
       "model_id": "47918823b82e44329984b448c8e16f69",
       "version_major": 2,
       "version_minor": 0
      },
      "text/plain": [
       "  0%|          | 0/697 [00:00<?, ?cell/s]"
      ]
     },
     "metadata": {},
     "output_type": "display_data"
    },
    {
     "data": {
      "application/vnd.jupyter.widget-view+json": {
       "model_id": "e3378c1b29fe474e83d64cf194485e5f",
       "version_major": 2,
       "version_minor": 0
      },
      "text/plain": [
       "  0%|          | 0/697 [00:00<?, ?cell/s]"
      ]
     },
     "metadata": {},
     "output_type": "display_data"
    },
    {
     "name": "stdout",
     "output_type": "stream",
     "text": [
      "WARNING: Unable to import `petsc4py` or `slepc4py`. Using `method='brandts'`\n",
      "WARNING: For `method='brandts'`, dense matrix is required. Densifying\n"
     ]
    },
    {
     "data": {
      "application/vnd.jupyter.widget-view+json": {
       "model_id": "6a1b250c8888498c8af1fb070b0c5d2d",
       "version_major": 2,
       "version_minor": 0
      },
      "text/plain": [
       "  0%|          | 0/4 [00:00<?, ?/s]"
      ]
     },
     "metadata": {},
     "output_type": "display_data"
    },
    {
     "name": "stdout",
     "output_type": "stream",
     "text": [
      "|-----> In silico knockout twist1b\n",
      "|-----> Project the high dimensional vector field after KO to umap.\n",
      "|-----> [calculating transition matrix via pearson kernel with sqrt transform.] in progress: 100.0000%|-----> [calculating transition matrix via pearson kernel with sqrt transform.] completed [0.3433s]\n",
      "|-----> [projecting velocity vector to low dimensional embedding] in progress: 100.0000%|-----> [projecting velocity vector to low dimensional embedding] completed [0.3531s]\n"
     ]
    },
    {
     "data": {
      "application/vnd.jupyter.widget-view+json": {
       "model_id": "af5a450e16bc4dd09ab8aa4c191c8c5c",
       "version_major": 2,
       "version_minor": 0
      },
      "text/plain": [
       "  0%|          | 0/697 [00:00<?, ?cell/s]"
      ]
     },
     "metadata": {},
     "output_type": "display_data"
    },
    {
     "data": {
      "application/vnd.jupyter.widget-view+json": {
       "model_id": "f313095069474a768192fa5f2c555202",
       "version_major": 2,
       "version_minor": 0
      },
      "text/plain": [
       "  0%|          | 0/697 [00:00<?, ?cell/s]"
      ]
     },
     "metadata": {},
     "output_type": "display_data"
    },
    {
     "name": "stdout",
     "output_type": "stream",
     "text": [
      "WARNING: Unable to import `petsc4py` or `slepc4py`. Using `method='brandts'`\n",
      "WARNING: For `method='brandts'`, dense matrix is required. Densifying\n"
     ]
    },
    {
     "data": {
      "application/vnd.jupyter.widget-view+json": {
       "model_id": "2d781a5e0b9740d28f6b6043e24f6a8e",
       "version_major": 2,
       "version_minor": 0
      },
      "text/plain": [
       "  0%|          | 0/4 [00:00<?, ?/s]"
      ]
     },
     "metadata": {},
     "output_type": "display_data"
    },
    {
     "name": "stdout",
     "output_type": "stream",
     "text": [
      "Done twist1b\n"
     ]
    },
    {
     "data": {
      "application/vnd.jupyter.widget-view+json": {
       "model_id": "bdd4cc9760a14cc7b8a29e9d32af1863",
       "version_major": 2,
       "version_minor": 0
      },
      "text/plain": [
       "  0%|          | 0/697 [00:00<?, ?cell/s]"
      ]
     },
     "metadata": {},
     "output_type": "display_data"
    },
    {
     "data": {
      "application/vnd.jupyter.widget-view+json": {
       "model_id": "91416205e8654d4daf168c71f73a7cef",
       "version_major": 2,
       "version_minor": 0
      },
      "text/plain": [
       "  0%|          | 0/697 [00:00<?, ?cell/s]"
      ]
     },
     "metadata": {},
     "output_type": "display_data"
    },
    {
     "name": "stdout",
     "output_type": "stream",
     "text": [
      "WARNING: Unable to import `petsc4py` or `slepc4py`. Using `method='brandts'`\n",
      "WARNING: For `method='brandts'`, dense matrix is required. Densifying\n"
     ]
    },
    {
     "data": {
      "application/vnd.jupyter.widget-view+json": {
       "model_id": "2c2036e63bc143e4a248428cac1ffb4d",
       "version_major": 2,
       "version_minor": 0
      },
      "text/plain": [
       "  0%|          | 0/4 [00:00<?, ?/s]"
      ]
     },
     "metadata": {},
     "output_type": "display_data"
    },
    {
     "name": "stdout",
     "output_type": "stream",
     "text": [
      "|-----> In silico knockout ets1\n",
      "|-----> Project the high dimensional vector field after KO to umap.\n",
      "|-----> [calculating transition matrix via pearson kernel with sqrt transform.] in progress: 100.0000%|-----> [calculating transition matrix via pearson kernel with sqrt transform.] completed [0.2399s]\n",
      "|-----> [projecting velocity vector to low dimensional embedding] in progress: 100.0000%|-----> [projecting velocity vector to low dimensional embedding] completed [0.1734s]\n"
     ]
    },
    {
     "data": {
      "application/vnd.jupyter.widget-view+json": {
       "model_id": "61e9f74998fb4581865e41bb39060164",
       "version_major": 2,
       "version_minor": 0
      },
      "text/plain": [
       "  0%|          | 0/697 [00:00<?, ?cell/s]"
      ]
     },
     "metadata": {},
     "output_type": "display_data"
    },
    {
     "data": {
      "application/vnd.jupyter.widget-view+json": {
       "model_id": "47389509c3714dee8e5081f422c18e53",
       "version_major": 2,
       "version_minor": 0
      },
      "text/plain": [
       "  0%|          | 0/697 [00:00<?, ?cell/s]"
      ]
     },
     "metadata": {},
     "output_type": "display_data"
    },
    {
     "name": "stdout",
     "output_type": "stream",
     "text": [
      "WARNING: Unable to import `petsc4py` or `slepc4py`. Using `method='brandts'`\n",
      "WARNING: For `method='brandts'`, dense matrix is required. Densifying\n"
     ]
    },
    {
     "data": {
      "application/vnd.jupyter.widget-view+json": {
       "model_id": "a8bf76c0de7a407381868a49ee28fdd1",
       "version_major": 2,
       "version_minor": 0
      },
      "text/plain": [
       "  0%|          | 0/4 [00:00<?, ?/s]"
      ]
     },
     "metadata": {},
     "output_type": "display_data"
    },
    {
     "name": "stdout",
     "output_type": "stream",
     "text": [
      "Done ets1\n"
     ]
    }
   ],
   "source": [
    "terminal_states = [\n",
    "        \"mNC_head_mesenchymal\",\n",
    "        \"mNC_arch2\",\n",
    "        \"mNC_hox34\",\n",
    "        \"Pigment\",\n",
    "    ]\n",
    "\n",
    "fate_prob = {}\n",
    "fate_prob_perturb = {}\n",
    "\n",
    "for g in genes:\n",
    "    fb,fb_perturb = TFScanning_KO(adata,8,\"cell_type\",terminal_states,[g],fate_prob_return=True)\n",
    "    fate_prob[g] = fb \n",
    "    fate_prob_perturb[g] = fb_perturb"
   ]
  },
  {
   "cell_type": "markdown",
   "id": "aef4ac7d-c584-4fbf-8b45-f3ab8b44365d",
   "metadata": {},
   "source": [
    "## Visualize dynamo perturbation effects"
   ]
  },
  {
   "cell_type": "code",
   "execution_count": 48,
   "id": "ebf066b6-c22f-4de4-88db-f9ca025b7ddd",
   "metadata": {},
   "outputs": [
    {
     "data": {
      "image/png": "[encoded data removed]",
      "text/plain": [
       "<Figure size 200x200 with 1 Axes>"
      ]
     },
     "metadata": {
      "image/png": {
       "height": 450,
       "width": 384
      }
     },
     "output_type": "display_data"
    },
    {
     "data": {
      "image/png": "[encoded data removed]",
      "text/plain": [
       "<Figure size 200x200 with 1 Axes>"
      ]
     },
     "metadata": {
      "image/png": {
       "height": 450,
       "width": 391
      }
     },
     "output_type": "display_data"
    },
    {
     "data": {
      "image/png": "[encoded data removed]",
      "text/plain": [
       "<Figure size 200x200 with 1 Axes>"
      ]
     },
     "metadata": {
      "image/png": {
       "height": 450,
       "width": 405
      }
     },
     "output_type": "display_data"
    },
    {
     "data": {
      "image/png": "[encoded data removed]",
      "text/plain": [
       "<Figure size 200x200 with 1 Axes>"
      ]
     },
     "metadata": {
      "image/png": {
       "height": 450,
       "width": 374
      }
     },
     "output_type": "display_data"
    }
   ],
   "source": [
    "for g in genes:\n",
    "    data = abundance_test(fate_prob[g],fate_prob_perturb[g])\n",
    "    data = pd.DataFrame({\"Score\": data.iloc[:,0].tolist(),\n",
    "                     \"p-value\": data.iloc[:,1].tolist(),\n",
    "                     \"Terminal state\": data.index.tolist(),\n",
    "                     \"TF\":[g]*(data.shape[0])})\n",
    "    \n",
    "    final_df = data.copy()\n",
    "    final_df[\"Score\"] = 0.5 - final_df[\"Score\"]\n",
    "    \n",
    "    color_label = \"cell_type\"\n",
    "    df = pd.DataFrame(final_df[\"Score\"])\n",
    "    df.columns = [\"coefficient\"]\n",
    "    df[\"Cell type\"] = final_df[\"Terminal state\"]\n",
    "    order = df[\"Cell type\"].tolist()\n",
    "\n",
    "    palette = dict(zip(adata.obs[color_label].cat.categories, adata_perturb.uns[f\"{color_label}_colors\"]))\n",
    "    subset_palette = {name: color for name, color in palette.items() if name in terminal_states}\n",
    "\n",
    "    with mplscience.style_context():\n",
    "        sns.set_style(style=\"whitegrid\")\n",
    "        fig, ax = plt.subplots(figsize=(2,2))\n",
    "        sns.barplot(\n",
    "            data=df,\n",
    "            y=\"coefficient\",\n",
    "            x=\"Cell type\",\n",
    "            palette=subset_palette,\n",
    "            order=order,\n",
    "            ax=ax,\n",
    "\n",
    "        )\n",
    "        ax.tick_params(axis='x', rotation=90)\n",
    "        plt.title(\"$\\mathit{\" + g + \"}$ regulon knock out simulation\")\n",
    "\n",
    "        if SAVE_FIGURES:\n",
    "            plt.savefig(\n",
    "                    FIG_DIR / DATASET / f\"{g}_perturbation_simulation_dynamo.svg\",\n",
    "                    format=\"svg\",\n",
    "                    transparent=True,\n",
    "                    bbox_inches='tight'\n",
    "                )\n",
    "        # Show the plot\n",
    "        plt.show()"
   ]
  },
  {
   "cell_type": "markdown",
   "id": "22ef20d3-2993-40a2-ace2-ec2b14bb3faf",
   "metadata": {},
   "source": [
    "## Perturbation benchmark"
   ]
  },
  {
   "cell_type": "code",
   "execution_count": 51,
   "id": "b80c7678-b673-4976-b0b2-7b6b258602c6",
   "metadata": {},
   "outputs": [],
   "source": [
    "gene_list = ['elk3',\n",
    " 'erf',\n",
    " 'etv2',\n",
    " 'fli1a',\n",
    " 'mitfa',\n",
    " 'nr2f5',\n",
    " 'rarga',\n",
    " 'rxraa',\n",
    " 'smarcc1a',\n",
    " 'tfec',\n",
    " 'nr2f2']"
   ]
  },
  {
   "cell_type": "code",
   "execution_count": 52,
   "id": "711ab263-62b4-4031-ac6b-c6a678cbbdc3",
   "metadata": {},
   "outputs": [],
   "source": [
    "gene_list = set(gene_list).intersection(adata.var_names)\n",
    "gene_list = list(gene_list)"
   ]
  },
  {
   "cell_type": "code",
   "execution_count": 53,
   "id": "5ef5a872-cc46-42f5-b570-c8f6af5b0cdc",
   "metadata": {},
   "outputs": [
    {
     "data": {
      "application/vnd.jupyter.widget-view+json": {
       "model_id": "50452284e08343638828307218f4def7",
       "version_major": 2,
       "version_minor": 0
      },
      "text/plain": [
       "  0%|          | 0/697 [00:00<?, ?cell/s]"
      ]
     },
     "metadata": {},
     "output_type": "display_data"
    },
    {
     "data": {
      "application/vnd.jupyter.widget-view+json": {
       "model_id": "ed9a4c2a02f344fb854149358a24c7a8",
       "version_major": 2,
       "version_minor": 0
      },
      "text/plain": [
       "  0%|          | 0/697 [00:00<?, ?cell/s]"
      ]
     },
     "metadata": {},
     "output_type": "display_data"
    },
    {
     "name": "stdout",
     "output_type": "stream",
     "text": [
      "WARNING: Unable to import `petsc4py` or `slepc4py`. Using `method='brandts'`\n",
      "WARNING: For `method='brandts'`, dense matrix is required. Densifying\n"
     ]
    },
    {
     "data": {
      "application/vnd.jupyter.widget-view+json": {
       "model_id": "92861c1182c647e3931b8362de84b7ca",
       "version_major": 2,
       "version_minor": 0
      },
      "text/plain": [
       "  0%|          | 0/4 [00:00<?, ?/s]"
      ]
     },
     "metadata": {},
     "output_type": "display_data"
    },
    {
     "name": "stdout",
     "output_type": "stream",
     "text": [
      "|-----> In silico knockout rarga\n",
      "|-----> Project the high dimensional vector field after KO to umap.\n",
      "|-----> [calculating transition matrix via pearson kernel with sqrt transform.] in progress: 100.0000%|-----> [calculating transition matrix via pearson kernel with sqrt transform.] completed [0.2551s]\n",
      "|-----> [projecting velocity vector to low dimensional embedding] in progress: 100.0000%|-----> [projecting velocity vector to low dimensional embedding] completed [0.2240s]\n"
     ]
    },
    {
     "data": {
      "application/vnd.jupyter.widget-view+json": {
       "model_id": "13926c8e46554eca82f4cba6db513559",
       "version_major": 2,
       "version_minor": 0
      },
      "text/plain": [
       "  0%|          | 0/697 [00:00<?, ?cell/s]"
      ]
     },
     "metadata": {},
     "output_type": "display_data"
    },
    {
     "data": {
      "application/vnd.jupyter.widget-view+json": {
       "model_id": "c301331bb7e147c68c647da5e3ab6cf2",
       "version_major": 2,
       "version_minor": 0
      },
      "text/plain": [
       "  0%|          | 0/697 [00:00<?, ?cell/s]"
      ]
     },
     "metadata": {},
     "output_type": "display_data"
    },
    {
     "name": "stdout",
     "output_type": "stream",
     "text": [
      "WARNING: Unable to import `petsc4py` or `slepc4py`. Using `method='brandts'`\n",
      "WARNING: For `method='brandts'`, dense matrix is required. Densifying\n"
     ]
    },
    {
     "data": {
      "application/vnd.jupyter.widget-view+json": {
       "model_id": "9a31e8e24f0945868573e78a5a187387",
       "version_major": 2,
       "version_minor": 0
      },
      "text/plain": [
       "  0%|          | 0/4 [00:00<?, ?/s]"
      ]
     },
     "metadata": {},
     "output_type": "display_data"
    },
    {
     "name": "stdout",
     "output_type": "stream",
     "text": [
      "Done rarga\n",
      "|-----> In silico knockout erf\n",
      "|-----> Project the high dimensional vector field after KO to umap.\n",
      "|-----> [calculating transition matrix via pearson kernel with sqrt transform.] in progress: 100.0000%|-----> [calculating transition matrix via pearson kernel with sqrt transform.] completed [0.2857s]\n",
      "|-----> [projecting velocity vector to low dimensional embedding] in progress: 100.0000%|-----> [projecting velocity vector to low dimensional embedding] completed [0.2843s]\n"
     ]
    },
    {
     "data": {
      "application/vnd.jupyter.widget-view+json": {
       "model_id": "a63d3cb6beef4ad8a9408b46e4cbee41",
       "version_major": 2,
       "version_minor": 0
      },
      "text/plain": [
       "  0%|          | 0/697 [00:00<?, ?cell/s]"
      ]
     },
     "metadata": {},
     "output_type": "display_data"
    },
    {
     "data": {
      "application/vnd.jupyter.widget-view+json": {
       "model_id": "27339618ae144644853eaa1ff09b82cf",
       "version_major": 2,
       "version_minor": 0
      },
      "text/plain": [
       "  0%|          | 0/697 [00:00<?, ?cell/s]"
      ]
     },
     "metadata": {},
     "output_type": "display_data"
    },
    {
     "name": "stdout",
     "output_type": "stream",
     "text": [
      "WARNING: Unable to import `petsc4py` or `slepc4py`. Using `method='brandts'`\n",
      "WARNING: For `method='brandts'`, dense matrix is required. Densifying\n"
     ]
    },
    {
     "data": {
      "application/vnd.jupyter.widget-view+json": {
       "model_id": "8db25e50b12a4c9cbc38a89b46255d58",
       "version_major": 2,
       "version_minor": 0
      },
      "text/plain": [
       "  0%|          | 0/4 [00:00<?, ?/s]"
      ]
     },
     "metadata": {},
     "output_type": "display_data"
    },
    {
     "name": "stdout",
     "output_type": "stream",
     "text": [
      "Done erf\n",
      "|-----> In silico knockout nr2f2\n",
      "|-----> Project the high dimensional vector field after KO to umap.\n",
      "|-----> [calculating transition matrix via pearson kernel with sqrt transform.] in progress: 100.0000%|-----> [calculating transition matrix via pearson kernel with sqrt transform.] completed [0.3279s]\n",
      "|-----> [projecting velocity vector to low dimensional embedding] in progress: 100.0000%|-----> [projecting velocity vector to low dimensional embedding] completed [0.3764s]\n"
     ]
    },
    {
     "data": {
      "application/vnd.jupyter.widget-view+json": {
       "model_id": "2852889548b24736ac0852229279a830",
       "version_major": 2,
       "version_minor": 0
      },
      "text/plain": [
       "  0%|          | 0/697 [00:00<?, ?cell/s]"
      ]
     },
     "metadata": {},
     "output_type": "display_data"
    },
    {
     "data": {
      "application/vnd.jupyter.widget-view+json": {
       "model_id": "0bb33faf1df84ad487ca41a22bb39361",
       "version_major": 2,
       "version_minor": 0
      },
      "text/plain": [
       "  0%|          | 0/697 [00:00<?, ?cell/s]"
      ]
     },
     "metadata": {},
     "output_type": "display_data"
    },
    {
     "name": "stdout",
     "output_type": "stream",
     "text": [
      "WARNING: Unable to import `petsc4py` or `slepc4py`. Using `method='brandts'`\n",
      "WARNING: For `method='brandts'`, dense matrix is required. Densifying\n"
     ]
    },
    {
     "data": {
      "application/vnd.jupyter.widget-view+json": {
       "model_id": "3a6a192bc22d434a8814003566f7a405",
       "version_major": 2,
       "version_minor": 0
      },
      "text/plain": [
       "  0%|          | 0/4 [00:00<?, ?/s]"
      ]
     },
     "metadata": {},
     "output_type": "display_data"
    },
    {
     "name": "stdout",
     "output_type": "stream",
     "text": [
      "Done nr2f2\n",
      "|-----> In silico knockout fli1a\n",
      "|-----> Project the high dimensional vector field after KO to umap.\n",
      "|-----> [calculating transition matrix via pearson kernel with sqrt transform.] in progress: 100.0000%|-----> [calculating transition matrix via pearson kernel with sqrt transform.] completed [0.2482s]\n",
      "|-----> [projecting velocity vector to low dimensional embedding] in progress: 100.0000%|-----> [projecting velocity vector to low dimensional embedding] completed [0.2689s]\n"
     ]
    },
    {
     "data": {
      "application/vnd.jupyter.widget-view+json": {
       "model_id": "8fd2d4394357485499617b142bdf246d",
       "version_major": 2,
       "version_minor": 0
      },
      "text/plain": [
       "  0%|          | 0/697 [00:00<?, ?cell/s]"
      ]
     },
     "metadata": {},
     "output_type": "display_data"
    },
    {
     "data": {
      "application/vnd.jupyter.widget-view+json": {
       "model_id": "256f222886bc4f5e8b6bc5cd7c8c1078",
       "version_major": 2,
       "version_minor": 0
      },
      "text/plain": [
       "  0%|          | 0/697 [00:00<?, ?cell/s]"
      ]
     },
     "metadata": {},
     "output_type": "display_data"
    },
    {
     "name": "stdout",
     "output_type": "stream",
     "text": [
      "WARNING: Unable to import `petsc4py` or `slepc4py`. Using `method='brandts'`\n",
      "WARNING: For `method='brandts'`, dense matrix is required. Densifying\n"
     ]
    },
    {
     "data": {
      "application/vnd.jupyter.widget-view+json": {
       "model_id": "60c19a49aae84a218b7d8092255d0a5a",
       "version_major": 2,
       "version_minor": 0
      },
      "text/plain": [
       "  0%|          | 0/4 [00:00<?, ?/s]"
      ]
     },
     "metadata": {},
     "output_type": "display_data"
    },
    {
     "name": "stdout",
     "output_type": "stream",
     "text": [
      "Done fli1a\n",
      "|-----> In silico knockout elk3\n",
      "|-----> Project the high dimensional vector field after KO to umap.\n",
      "|-----> [calculating transition matrix via pearson kernel with sqrt transform.] in progress: 100.0000%|-----> [calculating transition matrix via pearson kernel with sqrt transform.] completed [0.3563s]\n",
      "|-----> [projecting velocity vector to low dimensional embedding] in progress: 100.0000%|-----> [projecting velocity vector to low dimensional embedding] completed [0.2665s]\n"
     ]
    },
    {
     "data": {
      "application/vnd.jupyter.widget-view+json": {
       "model_id": "a7292c620bb74ae1b454ceb717e8de58",
       "version_major": 2,
       "version_minor": 0
      },
      "text/plain": [
       "  0%|          | 0/697 [00:00<?, ?cell/s]"
      ]
     },
     "metadata": {},
     "output_type": "display_data"
    },
    {
     "data": {
      "application/vnd.jupyter.widget-view+json": {
       "model_id": "a647a9a5d1bd4a9b9fa6469764d33a6f",
       "version_major": 2,
       "version_minor": 0
      },
      "text/plain": [
       "  0%|          | 0/697 [00:00<?, ?cell/s]"
      ]
     },
     "metadata": {},
     "output_type": "display_data"
    },
    {
     "name": "stdout",
     "output_type": "stream",
     "text": [
      "WARNING: Unable to import `petsc4py` or `slepc4py`. Using `method='brandts'`\n",
      "WARNING: For `method='brandts'`, dense matrix is required. Densifying\n"
     ]
    },
    {
     "data": {
      "application/vnd.jupyter.widget-view+json": {
       "model_id": "0f1e13096a5d4eb69944e2a9d1f5093d",
       "version_major": 2,
       "version_minor": 0
      },
      "text/plain": [
       "  0%|          | 0/4 [00:00<?, ?/s]"
      ]
     },
     "metadata": {},
     "output_type": "display_data"
    },
    {
     "name": "stdout",
     "output_type": "stream",
     "text": [
      "Done elk3\n",
      "|-----> In silico knockout tfec\n",
      "|-----> Project the high dimensional vector field after KO to umap.\n",
      "|-----> [calculating transition matrix via pearson kernel with sqrt transform.] in progress: 100.0000%|-----> [calculating transition matrix via pearson kernel with sqrt transform.] completed [0.2412s]\n",
      "|-----> [projecting velocity vector to low dimensional embedding] in progress: 100.0000%|-----> [projecting velocity vector to low dimensional embedding] completed [0.2287s]\n"
     ]
    },
    {
     "data": {
      "application/vnd.jupyter.widget-view+json": {
       "model_id": "79692b2144f74f1c9f237cc8973c7760",
       "version_major": 2,
       "version_minor": 0
      },
      "text/plain": [
       "  0%|          | 0/697 [00:00<?, ?cell/s]"
      ]
     },
     "metadata": {},
     "output_type": "display_data"
    },
    {
     "data": {
      "application/vnd.jupyter.widget-view+json": {
       "model_id": "0fa38afa32614611b447b8e6555dedd3",
       "version_major": 2,
       "version_minor": 0
      },
      "text/plain": [
       "  0%|          | 0/697 [00:00<?, ?cell/s]"
      ]
     },
     "metadata": {},
     "output_type": "display_data"
    },
    {
     "name": "stdout",
     "output_type": "stream",
     "text": [
      "WARNING: Unable to import `petsc4py` or `slepc4py`. Using `method='brandts'`\n",
      "WARNING: For `method='brandts'`, dense matrix is required. Densifying\n"
     ]
    },
    {
     "data": {
      "application/vnd.jupyter.widget-view+json": {
       "model_id": "c7dba05bdbf546019d163f1e433f3c5d",
       "version_major": 2,
       "version_minor": 0
      },
      "text/plain": [
       "  0%|          | 0/4 [00:00<?, ?/s]"
      ]
     },
     "metadata": {},
     "output_type": "display_data"
    },
    {
     "name": "stdout",
     "output_type": "stream",
     "text": [
      "Done tfec\n",
      "|-----> In silico knockout rxraa\n",
      "|-----> Project the high dimensional vector field after KO to umap.\n",
      "|-----> [calculating transition matrix via pearson kernel with sqrt transform.] in progress: 100.0000%|-----> [calculating transition matrix via pearson kernel with sqrt transform.] completed [0.2166s]\n",
      "|-----> [projecting velocity vector to low dimensional embedding] in progress: 100.0000%|-----> [projecting velocity vector to low dimensional embedding] completed [0.1771s]\n"
     ]
    },
    {
     "data": {
      "application/vnd.jupyter.widget-view+json": {
       "model_id": "b35e72730799460ea49e8f9bbdf62f1a",
       "version_major": 2,
       "version_minor": 0
      },
      "text/plain": [
       "  0%|          | 0/697 [00:00<?, ?cell/s]"
      ]
     },
     "metadata": {},
     "output_type": "display_data"
    },
    {
     "data": {
      "application/vnd.jupyter.widget-view+json": {
       "model_id": "4e47b930c30549989430747d91257bc8",
       "version_major": 2,
       "version_minor": 0
      },
      "text/plain": [
       "  0%|          | 0/697 [00:00<?, ?cell/s]"
      ]
     },
     "metadata": {},
     "output_type": "display_data"
    },
    {
     "name": "stdout",
     "output_type": "stream",
     "text": [
      "WARNING: Unable to import `petsc4py` or `slepc4py`. Using `method='brandts'`\n",
      "WARNING: For `method='brandts'`, dense matrix is required. Densifying\n"
     ]
    },
    {
     "data": {
      "application/vnd.jupyter.widget-view+json": {
       "model_id": "111287191b4a45b3bb40811ac5e9ede1",
       "version_major": 2,
       "version_minor": 0
      },
      "text/plain": [
       "  0%|          | 0/4 [00:00<?, ?/s]"
      ]
     },
     "metadata": {},
     "output_type": "display_data"
    },
    {
     "name": "stdout",
     "output_type": "stream",
     "text": [
      "Done rxraa\n",
      "|-----> In silico knockout nr2f5\n",
      "|-----> Project the high dimensional vector field after KO to umap.\n",
      "|-----> [calculating transition matrix via pearson kernel with sqrt transform.] in progress: 100.0000%|-----> [calculating transition matrix via pearson kernel with sqrt transform.] completed [0.2009s]\n",
      "|-----> [projecting velocity vector to low dimensional embedding] in progress: 100.0000%|-----> [projecting velocity vector to low dimensional embedding] completed [0.1860s]\n"
     ]
    },
    {
     "data": {
      "application/vnd.jupyter.widget-view+json": {
       "model_id": "1878c7eaee734be98eae7e128f943209",
       "version_major": 2,
       "version_minor": 0
      },
      "text/plain": [
       "  0%|          | 0/697 [00:00<?, ?cell/s]"
      ]
     },
     "metadata": {},
     "output_type": "display_data"
    },
    {
     "data": {
      "application/vnd.jupyter.widget-view+json": {
       "model_id": "921d8a26c4e54911946bc48ae1b91c51",
       "version_major": 2,
       "version_minor": 0
      },
      "text/plain": [
       "  0%|          | 0/697 [00:00<?, ?cell/s]"
      ]
     },
     "metadata": {},
     "output_type": "display_data"
    },
    {
     "name": "stdout",
     "output_type": "stream",
     "text": [
      "WARNING: Unable to import `petsc4py` or `slepc4py`. Using `method='brandts'`\n",
      "WARNING: For `method='brandts'`, dense matrix is required. Densifying\n"
     ]
    },
    {
     "data": {
      "application/vnd.jupyter.widget-view+json": {
       "model_id": "d9686012348c41cc9dd92da70399302c",
       "version_major": 2,
       "version_minor": 0
      },
      "text/plain": [
       "  0%|          | 0/4 [00:00<?, ?/s]"
      ]
     },
     "metadata": {},
     "output_type": "display_data"
    },
    {
     "name": "stdout",
     "output_type": "stream",
     "text": [
      "Done nr2f5\n",
      "|-----> In silico knockout mitfa\n",
      "|-----> Project the high dimensional vector field after KO to umap.\n",
      "|-----> [calculating transition matrix via pearson kernel with sqrt transform.] in progress: 100.0000%|-----> [calculating transition matrix via pearson kernel with sqrt transform.] completed [0.2722s]\n",
      "|-----> [projecting velocity vector to low dimensional embedding] in progress: 100.0000%|-----> [projecting velocity vector to low dimensional embedding] completed [0.2845s]\n"
     ]
    },
    {
     "data": {
      "application/vnd.jupyter.widget-view+json": {
       "model_id": "be01b8bccc4d49b4a25ab9ec2b9c4920",
       "version_major": 2,
       "version_minor": 0
      },
      "text/plain": [
       "  0%|          | 0/697 [00:00<?, ?cell/s]"
      ]
     },
     "metadata": {},
     "output_type": "display_data"
    },
    {
     "data": {
      "application/vnd.jupyter.widget-view+json": {
       "model_id": "1ce4671231034232931dd6e9a0964688",
       "version_major": 2,
       "version_minor": 0
      },
      "text/plain": [
       "  0%|          | 0/697 [00:00<?, ?cell/s]"
      ]
     },
     "metadata": {},
     "output_type": "display_data"
    },
    {
     "name": "stdout",
     "output_type": "stream",
     "text": [
      "WARNING: Unable to import `petsc4py` or `slepc4py`. Using `method='brandts'`\n",
      "WARNING: For `method='brandts'`, dense matrix is required. Densifying\n"
     ]
    },
    {
     "data": {
      "application/vnd.jupyter.widget-view+json": {
       "model_id": "59c41eb9f10e4b29ac477ff0348d4731",
       "version_major": 2,
       "version_minor": 0
      },
      "text/plain": [
       "  0%|          | 0/4 [00:00<?, ?/s]"
      ]
     },
     "metadata": {},
     "output_type": "display_data"
    },
    {
     "name": "stdout",
     "output_type": "stream",
     "text": [
      "Done mitfa\n",
      "|-----> In silico perturbation of single-cells and prediction of cell fate after perturbation...\n",
      "|-----> Retrive X_pca, PCs, pca_mean...\n",
      "|-----> Calculate perturbation effect matrix via \\delta Y = J \\dot \\delta X....\n"
     ]
    },
    {
     "name": "stderr",
     "output_type": "stream",
     "text": [
      "calculating Jacobian for each cell: 100%|██████████| 697/697 [00:00<00:00, 147424.60it/s]"
     ]
    },
    {
     "name": "stdout",
     "output_type": "stream",
     "text": [
      "|-----> project the pca perturbation vector to low dimensional space....\n"
     ]
    },
    {
     "name": "stderr",
     "output_type": "stream",
     "text": [
      "\n"
     ]
    },
    {
     "name": "stdout",
     "output_type": "stream",
     "text": [
      "|-----> [projecting velocity vector to low dimensional embedding] in progress: 100.0000%|-----> [projecting velocity vector to low dimensional embedding] completed [0.1811s]\n",
      "|-----> you can use dyn.pl.streamline_plot(adata, basis='umap_perturbation') to visualize the perturbation vector\n",
      "Done rarga\n",
      "|-----> In silico perturbation of single-cells and prediction of cell fate after perturbation...\n",
      "|-----> Retrive X_pca, PCs, pca_mean...\n",
      "|-----> Calculate perturbation effect matrix via \\delta Y = J \\dot \\delta X....\n",
      "|-----> project the pca perturbation vector to low dimensional space....\n",
      "|-----> [projecting velocity vector to low dimensional embedding] in progress: 100.0000%|-----> [projecting velocity vector to low dimensional embedding] completed [0.1964s]\n",
      "|-----> you can use dyn.pl.streamline_plot(adata, basis='umap_perturbation') to visualize the perturbation vector\n",
      "Done erf\n",
      "|-----> In silico perturbation of single-cells and prediction of cell fate after perturbation...\n",
      "|-----> Retrive X_pca, PCs, pca_mean...\n",
      "|-----> Calculate perturbation effect matrix via \\delta Y = J \\dot \\delta X....\n",
      "|-----> project the pca perturbation vector to low dimensional space....\n",
      "|-----> [projecting velocity vector to low dimensional embedding] in progress: 100.0000%|-----> [projecting velocity vector to low dimensional embedding] completed [0.2448s]\n",
      "|-----> you can use dyn.pl.streamline_plot(adata, basis='umap_perturbation') to visualize the perturbation vector\n",
      "Done nr2f2\n",
      "|-----> In silico perturbation of single-cells and prediction of cell fate after perturbation...\n",
      "|-----> Retrive X_pca, PCs, pca_mean...\n",
      "|-----> Calculate perturbation effect matrix via \\delta Y = J \\dot \\delta X....\n",
      "|-----> project the pca perturbation vector to low dimensional space....\n",
      "|-----> [projecting velocity vector to low dimensional embedding] in progress: 100.0000%|-----> [projecting velocity vector to low dimensional embedding] completed [0.1914s]\n",
      "|-----> you can use dyn.pl.streamline_plot(adata, basis='umap_perturbation') to visualize the perturbation vector\n",
      "Done fli1a\n",
      "|-----> In silico perturbation of single-cells and prediction of cell fate after perturbation...\n",
      "|-----> Retrive X_pca, PCs, pca_mean...\n",
      "|-----> Calculate perturbation effect matrix via \\delta Y = J \\dot \\delta X....\n",
      "|-----> project the pca perturbation vector to low dimensional space....\n",
      "|-----> [projecting velocity vector to low dimensional embedding] in progress: 100.0000%|-----> [projecting velocity vector to low dimensional embedding] completed [0.1798s]\n",
      "|-----> you can use dyn.pl.streamline_plot(adata, basis='umap_perturbation') to visualize the perturbation vector\n",
      "Done elk3\n",
      "|-----> In silico perturbation of single-cells and prediction of cell fate after perturbation...\n",
      "|-----> Retrive X_pca, PCs, pca_mean...\n",
      "|-----> Calculate perturbation effect matrix via \\delta Y = J \\dot \\delta X....\n",
      "|-----> project the pca perturbation vector to low dimensional space....\n",
      "|-----> [projecting velocity vector to low dimensional embedding] in progress: 100.0000%|-----> [projecting velocity vector to low dimensional embedding] completed [0.1951s]\n",
      "|-----> you can use dyn.pl.streamline_plot(adata, basis='umap_perturbation') to visualize the perturbation vector\n",
      "Done tfec\n",
      "|-----> In silico perturbation of single-cells and prediction of cell fate after perturbation...\n",
      "|-----> Retrive X_pca, PCs, pca_mean...\n",
      "|-----> Calculate perturbation effect matrix via \\delta Y = J \\dot \\delta X....\n",
      "|-----> project the pca perturbation vector to low dimensional space....\n",
      "|-----> [projecting velocity vector to low dimensional embedding] in progress: 100.0000%|-----> [projecting velocity vector to low dimensional embedding] completed [0.1751s]\n",
      "|-----> you can use dyn.pl.streamline_plot(adata, basis='umap_perturbation') to visualize the perturbation vector\n",
      "Done rxraa\n",
      "|-----> In silico perturbation of single-cells and prediction of cell fate after perturbation...\n",
      "|-----> Retrive X_pca, PCs, pca_mean...\n",
      "|-----> Calculate perturbation effect matrix via \\delta Y = J \\dot \\delta X....\n",
      "|-----> project the pca perturbation vector to low dimensional space....\n",
      "|-----> [projecting velocity vector to low dimensional embedding] in progress: 100.0000%|-----> [projecting velocity vector to low dimensional embedding] completed [0.1773s]\n",
      "|-----> you can use dyn.pl.streamline_plot(adata, basis='umap_perturbation') to visualize the perturbation vector\n",
      "Done nr2f5\n",
      "|-----> In silico perturbation of single-cells and prediction of cell fate after perturbation...\n",
      "|-----> Retrive X_pca, PCs, pca_mean...\n",
      "|-----> Calculate perturbation effect matrix via \\delta Y = J \\dot \\delta X....\n",
      "|-----> project the pca perturbation vector to low dimensional space....\n",
      "|-----> [projecting velocity vector to low dimensional embedding] in progress: 100.0000%|-----> [projecting velocity vector to low dimensional embedding] completed [0.2437s]\n",
      "|-----> you can use dyn.pl.streamline_plot(adata, basis='umap_perturbation') to visualize the perturbation vector\n",
      "Done mitfa\n"
     ]
    }
   ],
   "source": [
    "## Dynamo (KO)\n",
    "d = TFScanning_KO(adata,8,\"cell_type\",terminal_states,gene_list)\n",
    "\n",
    "## Dynamo (perturbation)\n",
    "d2 = TFScanning_perturbation(adata,8,\"cell_type\",terminal_states,gene_list)"
   ]
  },
  {
   "cell_type": "code",
   "execution_count": 63,
   "id": "5298a43d-1351-4c09-9485-cf1da48bff00",
   "metadata": {},
   "outputs": [],
   "source": [
    "## Perform KO screening using function based perturbation\n",
    "coef_KO = pd.DataFrame(np.array(d['coefficient']))\n",
    "coef_KO.index = d['TF']\n",
    "coef_KO.columns = get_list_name(d['coefficient'][0])\n",
    "\n",
    "## Perform perturbation screening using gene expression based perturbation\n",
    "coef_perturb = pd.DataFrame(np.array(d2['coefficient']))\n",
    "coef_perturb.index = d2['TF']\n",
    "coef_perturb.columns = get_list_name(d2['coefficient'][0])"
   ]
  },
  {
   "cell_type": "markdown",
   "id": "fff579ef-0ec2-433a-a8d8-bd1d0442be75",
   "metadata": {},
   "source": [
    "## Multiple gene knock-out prediction"
   ]
  },
  {
   "cell_type": "code",
   "execution_count": 64,
   "id": "fdbc9916-6aab-4360-a825-fea6942c6687",
   "metadata": {},
   "outputs": [],
   "source": [
    "multiple_ko = [\"fli1a_elk3\",\"mitfa_tfec\",\"tfec_mitfa_bhlhe40\",\"fli1a_erf_erfl3\",\"erf_erfl3\"]\n",
    "multiple_ko_list = split_elements(multiple_ko)"
   ]
  },
  {
   "cell_type": "code",
   "execution_count": 66,
   "id": "1d3983d6-f243-4fc3-b75a-8fc36aed65ad",
   "metadata": {},
   "outputs": [
    {
     "data": {
      "application/vnd.jupyter.widget-view+json": {
       "model_id": "c784d9111ff5474ca382d1fa421e0038",
       "version_major": 2,
       "version_minor": 0
      },
      "text/plain": [
       "  0%|          | 0/697 [00:00<?, ?cell/s]"
      ]
     },
     "metadata": {},
     "output_type": "display_data"
    },
    {
     "data": {
      "application/vnd.jupyter.widget-view+json": {
       "model_id": "a2d73d533eda45728cdeae03e182d11d",
       "version_major": 2,
       "version_minor": 0
      },
      "text/plain": [
       "  0%|          | 0/697 [00:00<?, ?cell/s]"
      ]
     },
     "metadata": {},
     "output_type": "display_data"
    },
    {
     "name": "stdout",
     "output_type": "stream",
     "text": [
      "WARNING: Unable to import `petsc4py` or `slepc4py`. Using `method='brandts'`\n",
      "WARNING: For `method='brandts'`, dense matrix is required. Densifying\n"
     ]
    },
    {
     "data": {
      "application/vnd.jupyter.widget-view+json": {
       "model_id": "6904596b6188484d91f7eb7c98f6e889",
       "version_major": 2,
       "version_minor": 0
      },
      "text/plain": [
       "  0%|          | 0/4 [00:00<?, ?/s]"
      ]
     },
     "metadata": {},
     "output_type": "display_data"
    },
    {
     "name": "stdout",
     "output_type": "stream",
     "text": [
      "|-----> In silico knockout ['fli1a', 'elk3']\n",
      "|-----> Project the high dimensional vector field after KO to umap.\n",
      "|-----> [calculating transition matrix via pearson kernel with sqrt transform.] in progress: 100.0000%|-----> [calculating transition matrix via pearson kernel with sqrt transform.] completed [0.2267s]\n",
      "|-----> [projecting velocity vector to low dimensional embedding] in progress: 100.0000%|-----> [projecting velocity vector to low dimensional embedding] completed [0.1812s]\n"
     ]
    },
    {
     "data": {
      "application/vnd.jupyter.widget-view+json": {
       "model_id": "c9576e156a804e608e4296a26808301a",
       "version_major": 2,
       "version_minor": 0
      },
      "text/plain": [
       "  0%|          | 0/697 [00:00<?, ?cell/s]"
      ]
     },
     "metadata": {},
     "output_type": "display_data"
    },
    {
     "data": {
      "application/vnd.jupyter.widget-view+json": {
       "model_id": "dfb96484de1247268223b4debafac906",
       "version_major": 2,
       "version_minor": 0
      },
      "text/plain": [
       "  0%|          | 0/697 [00:00<?, ?cell/s]"
      ]
     },
     "metadata": {},
     "output_type": "display_data"
    },
    {
     "name": "stdout",
     "output_type": "stream",
     "text": [
      "WARNING: Unable to import `petsc4py` or `slepc4py`. Using `method='brandts'`\n",
      "WARNING: For `method='brandts'`, dense matrix is required. Densifying\n"
     ]
    },
    {
     "data": {
      "application/vnd.jupyter.widget-view+json": {
       "model_id": "bb728c77a30149129e7e11f119c39677",
       "version_major": 2,
       "version_minor": 0
      },
      "text/plain": [
       "  0%|          | 0/4 [00:00<?, ?/s]"
      ]
     },
     "metadata": {},
     "output_type": "display_data"
    },
    {
     "name": "stdout",
     "output_type": "stream",
     "text": [
      "['fli1a', 'elk3']\n",
      "Done fli1a_elk3\n",
      "|-----> In silico knockout ['mitfa', 'tfec']\n",
      "|-----> Project the high dimensional vector field after KO to umap.\n",
      "|-----> [calculating transition matrix via pearson kernel with sqrt transform.] in progress: 100.0000%|-----> [calculating transition matrix via pearson kernel with sqrt transform.] completed [0.2364s]\n",
      "|-----> [projecting velocity vector to low dimensional embedding] in progress: 100.0000%|-----> [projecting velocity vector to low dimensional embedding] completed [0.1918s]\n"
     ]
    },
    {
     "data": {
      "application/vnd.jupyter.widget-view+json": {
       "model_id": "1d70388e5bd6401e9b0e8fafc6d9c805",
       "version_major": 2,
       "version_minor": 0
      },
      "text/plain": [
       "  0%|          | 0/697 [00:00<?, ?cell/s]"
      ]
     },
     "metadata": {},
     "output_type": "display_data"
    },
    {
     "data": {
      "application/vnd.jupyter.widget-view+json": {
       "model_id": "885dd89ac53547c4bcbe965195f21249",
       "version_major": 2,
       "version_minor": 0
      },
      "text/plain": [
       "  0%|          | 0/697 [00:00<?, ?cell/s]"
      ]
     },
     "metadata": {},
     "output_type": "display_data"
    },
    {
     "name": "stdout",
     "output_type": "stream",
     "text": [
      "WARNING: Unable to import `petsc4py` or `slepc4py`. Using `method='brandts'`\n",
      "WARNING: For `method='brandts'`, dense matrix is required. Densifying\n"
     ]
    },
    {
     "data": {
      "application/vnd.jupyter.widget-view+json": {
       "model_id": "c3a84c759ae64e63af795a735921b08d",
       "version_major": 2,
       "version_minor": 0
      },
      "text/plain": [
       "  0%|          | 0/4 [00:00<?, ?/s]"
      ]
     },
     "metadata": {},
     "output_type": "display_data"
    },
    {
     "name": "stdout",
     "output_type": "stream",
     "text": [
      "['mitfa', 'tfec']\n",
      "Done mitfa_tfec\n",
      "|-----> In silico knockout ['tfec', 'mitfa', 'bhlhe40']\n",
      "|-----> Project the high dimensional vector field after KO to umap.\n",
      "|-----> [calculating transition matrix via pearson kernel with sqrt transform.] in progress: 100.0000%|-----> [calculating transition matrix via pearson kernel with sqrt transform.] completed [0.2129s]\n",
      "|-----> [projecting velocity vector to low dimensional embedding] in progress: 100.0000%|-----> [projecting velocity vector to low dimensional embedding] completed [0.1882s]\n"
     ]
    },
    {
     "data": {
      "application/vnd.jupyter.widget-view+json": {
       "model_id": "674621bcf1f34bfbb078eb9aedd79412",
       "version_major": 2,
       "version_minor": 0
      },
      "text/plain": [
       "  0%|          | 0/697 [00:00<?, ?cell/s]"
      ]
     },
     "metadata": {},
     "output_type": "display_data"
    },
    {
     "data": {
      "application/vnd.jupyter.widget-view+json": {
       "model_id": "7bf752e5d4554a42adf418f17620492d",
       "version_major": 2,
       "version_minor": 0
      },
      "text/plain": [
       "  0%|          | 0/697 [00:00<?, ?cell/s]"
      ]
     },
     "metadata": {},
     "output_type": "display_data"
    },
    {
     "name": "stdout",
     "output_type": "stream",
     "text": [
      "WARNING: Unable to import `petsc4py` or `slepc4py`. Using `method='brandts'`\n",
      "WARNING: For `method='brandts'`, dense matrix is required. Densifying\n"
     ]
    },
    {
     "data": {
      "application/vnd.jupyter.widget-view+json": {
       "model_id": "17465650f8f041e38a035990012e730e",
       "version_major": 2,
       "version_minor": 0
      },
      "text/plain": [
       "  0%|          | 0/4 [00:00<?, ?/s]"
      ]
     },
     "metadata": {},
     "output_type": "display_data"
    },
    {
     "name": "stdout",
     "output_type": "stream",
     "text": [
      "['tfec', 'mitfa', 'bhlhe40']\n",
      "Done tfec_mitfa_bhlhe40\n",
      "|-----> In silico knockout ['fli1a', 'erf', 'erfl3']\n",
      "|-----> Project the high dimensional vector field after KO to umap.\n",
      "|-----> [calculating transition matrix via pearson kernel with sqrt transform.] in progress: 100.0000%|-----> [calculating transition matrix via pearson kernel with sqrt transform.] completed [0.2503s]\n",
      "|-----> [projecting velocity vector to low dimensional embedding] in progress: 100.0000%|-----> [projecting velocity vector to low dimensional embedding] completed [0.1883s]\n"
     ]
    },
    {
     "data": {
      "application/vnd.jupyter.widget-view+json": {
       "model_id": "debae381c26e434f9cf81e9b05603cf7",
       "version_major": 2,
       "version_minor": 0
      },
      "text/plain": [
       "  0%|          | 0/697 [00:00<?, ?cell/s]"
      ]
     },
     "metadata": {},
     "output_type": "display_data"
    },
    {
     "data": {
      "application/vnd.jupyter.widget-view+json": {
       "model_id": "693faee5bbfd4e72bf6fae42f8d93964",
       "version_major": 2,
       "version_minor": 0
      },
      "text/plain": [
       "  0%|          | 0/697 [00:00<?, ?cell/s]"
      ]
     },
     "metadata": {},
     "output_type": "display_data"
    },
    {
     "name": "stdout",
     "output_type": "stream",
     "text": [
      "WARNING: Unable to import `petsc4py` or `slepc4py`. Using `method='brandts'`\n",
      "WARNING: For `method='brandts'`, dense matrix is required. Densifying\n"
     ]
    },
    {
     "data": {
      "application/vnd.jupyter.widget-view+json": {
       "model_id": "7b6729cc7e34492a8af95cdd2f65e623",
       "version_major": 2,
       "version_minor": 0
      },
      "text/plain": [
       "  0%|          | 0/4 [00:00<?, ?/s]"
      ]
     },
     "metadata": {},
     "output_type": "display_data"
    },
    {
     "name": "stdout",
     "output_type": "stream",
     "text": [
      "['fli1a', 'erf', 'erfl3']\n",
      "Done fli1a_erf_erfl3\n",
      "|-----> In silico knockout ['erf', 'erfl3']\n",
      "|-----> Project the high dimensional vector field after KO to umap.\n",
      "|-----> [calculating transition matrix via pearson kernel with sqrt transform.] in progress: 100.0000%|-----> [calculating transition matrix via pearson kernel with sqrt transform.] completed [0.3352s]\n",
      "|-----> [projecting velocity vector to low dimensional embedding] in progress: 100.0000%|-----> [projecting velocity vector to low dimensional embedding] completed [0.2969s]\n"
     ]
    },
    {
     "data": {
      "application/vnd.jupyter.widget-view+json": {
       "model_id": "9392274d046a4a7e96a7d161d41584a2",
       "version_major": 2,
       "version_minor": 0
      },
      "text/plain": [
       "  0%|          | 0/697 [00:00<?, ?cell/s]"
      ]
     },
     "metadata": {},
     "output_type": "display_data"
    },
    {
     "data": {
      "application/vnd.jupyter.widget-view+json": {
       "model_id": "84e692e0fdae46d3b4f084b67a8cb1e2",
       "version_major": 2,
       "version_minor": 0
      },
      "text/plain": [
       "  0%|          | 0/697 [00:00<?, ?cell/s]"
      ]
     },
     "metadata": {},
     "output_type": "display_data"
    },
    {
     "name": "stdout",
     "output_type": "stream",
     "text": [
      "WARNING: Unable to import `petsc4py` or `slepc4py`. Using `method='brandts'`\n",
      "WARNING: For `method='brandts'`, dense matrix is required. Densifying\n"
     ]
    },
    {
     "data": {
      "application/vnd.jupyter.widget-view+json": {
       "model_id": "173ea70da79547148e6d0a305b28650e",
       "version_major": 2,
       "version_minor": 0
      },
      "text/plain": [
       "  0%|          | 0/4 [00:00<?, ?/s]"
      ]
     },
     "metadata": {},
     "output_type": "display_data"
    },
    {
     "name": "stdout",
     "output_type": "stream",
     "text": [
      "['erf', 'erfl3']\n",
      "Done erf_erfl3\n",
      "|-----> In silico perturbation of single-cells and prediction of cell fate after perturbation...\n",
      "|-----> Retrive X_pca, PCs, pca_mean...\n",
      "|-----> Calculate perturbation effect matrix via \\delta Y = J \\dot \\delta X....\n",
      "|-----> project the pca perturbation vector to low dimensional space....\n",
      "|-----> [projecting velocity vector to low dimensional embedding] in progress: 100.0000%|-----> [projecting velocity vector to low dimensional embedding] completed [0.1931s]\n",
      "|-----> you can use dyn.pl.streamline_plot(adata, basis='umap_perturbation') to visualize the perturbation vector\n",
      "Done fli1a_elk3\n",
      "|-----> In silico perturbation of single-cells and prediction of cell fate after perturbation...\n",
      "|-----> Retrive X_pca, PCs, pca_mean...\n",
      "|-----> Calculate perturbation effect matrix via \\delta Y = J \\dot \\delta X....\n",
      "|-----> project the pca perturbation vector to low dimensional space....\n",
      "|-----> [projecting velocity vector to low dimensional embedding] in progress: 100.0000%|-----> [projecting velocity vector to low dimensional embedding] completed [0.2143s]\n",
      "|-----> you can use dyn.pl.streamline_plot(adata, basis='umap_perturbation') to visualize the perturbation vector\n",
      "Done mitfa_tfec\n",
      "|-----> In silico perturbation of single-cells and prediction of cell fate after perturbation...\n",
      "|-----> Retrive X_pca, PCs, pca_mean...\n",
      "|-----> Calculate perturbation effect matrix via \\delta Y = J \\dot \\delta X....\n",
      "|-----> project the pca perturbation vector to low dimensional space....\n",
      "|-----> [projecting velocity vector to low dimensional embedding] in progress: 100.0000%|-----> [projecting velocity vector to low dimensional embedding] completed [0.2732s]\n",
      "|-----> you can use dyn.pl.streamline_plot(adata, basis='umap_perturbation') to visualize the perturbation vector\n",
      "Done tfec_mitfa_bhlhe40\n",
      "|-----> In silico perturbation of single-cells and prediction of cell fate after perturbation...\n",
      "|-----> Retrive X_pca, PCs, pca_mean...\n",
      "|-----> Calculate perturbation effect matrix via \\delta Y = J \\dot \\delta X....\n",
      "|-----> project the pca perturbation vector to low dimensional space....\n",
      "|-----> [projecting velocity vector to low dimensional embedding] in progress: 100.0000%|-----> [projecting velocity vector to low dimensional embedding] completed [0.2517s]\n",
      "|-----> you can use dyn.pl.streamline_plot(adata, basis='umap_perturbation') to visualize the perturbation vector\n",
      "Done fli1a_erf_erfl3\n",
      "|-----> In silico perturbation of single-cells and prediction of cell fate after perturbation...\n",
      "|-----> Retrive X_pca, PCs, pca_mean...\n",
      "|-----> Calculate perturbation effect matrix via \\delta Y = J \\dot \\delta X....\n",
      "|-----> project the pca perturbation vector to low dimensional space....\n",
      "|-----> [projecting velocity vector to low dimensional embedding] in progress: 100.0000%|-----> [projecting velocity vector to low dimensional embedding] completed [0.1818s]\n",
      "|-----> you can use dyn.pl.streamline_plot(adata, basis='umap_perturbation') to visualize the perturbation vector\n",
      "Done erf_erfl3\n"
     ]
    }
   ],
   "source": [
    "## Dynamo (KO)\n",
    "d = Multiple_TFScanning_KO(adata,9,\"cell_type\",terminal_states,multiple_ko_list)\n",
    "\n",
    "## Dynamo (perturbation)\n",
    "d2 = Multiple_TFScanning_perturbation(adata,9,\"cell_type\",terminal_states,multiple_ko_list)"
   ]
  },
  {
   "cell_type": "code",
   "execution_count": 67,
   "id": "b5b0859c-cc82-46a8-b436-46ddd06a5110",
   "metadata": {},
   "outputs": [],
   "source": [
    "## Perform KO screening using function based perturbation\n",
    "coef_KO_multiple = pd.DataFrame(np.array(d['coefficient']))\n",
    "coef_KO_multiple.index = d['TF']\n",
    "coef_KO_multiple.columns = get_list_name(d['coefficient'][0])\n",
    "\n",
    "## Perform perturbation screening using gene expression based perturbation\n",
    "coef_perturb_multiple = pd.DataFrame(np.array(d2['coefficient']))\n",
    "coef_perturb_multiple.index = d2['TF']\n",
    "coef_perturb_multiple.columns = get_list_name(d2['coefficient'][0])"
   ]
  },
  {
   "cell_type": "markdown",
   "id": "683f0f63-7d81-4c47-af47-b3db80051392",
   "metadata": {},
   "source": [
    "## Save dataset"
   ]
  },
  {
   "cell_type": "code",
   "execution_count": 68,
   "id": "c2a456e0-2942-43a1-b0f8-e46f556e455a",
   "metadata": {},
   "outputs": [],
   "source": [
    "if SAVE_DATA:\n",
    "    coef_KO.to_csv(DATA_DIR / DATASET / \"results\" / \"dynamo_KO_single.csv\")\n",
    "    coef_KO_multiple.to_csv(DATA_DIR / DATASET / \"results\" / 'dynamo_KO_multiple.csv')\n",
    "    \n",
    "    coef_perturb.to_csv(DATA_DIR / DATASET / \"results\" / \"dynamo_perturb_single.csv\")\n",
    "    coef_perturb_multiple.to_csv(DATA_DIR / DATASET / \"results\" / 'dynamo_perturb_multiple.csv')"
   ]
  },
  {
   "cell_type": "code",
   "execution_count": null,
   "id": "e6c2d7f0-f919-46cf-887b-59ce33b9224a",
   "metadata": {},
   "outputs": [],
   "source": []
  }
 ],
 "metadata": {
  "kernelspec": {
   "display_name": "Python [conda env:dynamo]",
   "language": "python",
   "name": "conda-env-dynamo-py"
  },
  "language_info": {
   "codemirror_mode": {
    "name": "ipython",
    "version": 3
   },
   "file_extension": ".py",
   "mimetype": "text/x-python",
   "name": "python",
   "nbconvert_exporter": "python",
   "pygments_lexer": "ipython3",
   "version": "3.10.12"
  }
 },
 "nbformat": 4,
 "nbformat_minor": 5
}
