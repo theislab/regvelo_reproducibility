{
 "cells": [
  {
   "cell_type": "markdown",
   "id": "0155cea3-f8c6-4634-b380-a588971740bb",
   "metadata": {},
   "source": [
    "# CellOracle-based perturbation prediction\n",
    "\n",
    "Notebook for predicts TF perturbation effects with CellOracle."
   ]
  },
  {
   "cell_type": "markdown",
   "id": "218db259-d6b8-4f6f-9507-abc61850c44c",
   "metadata": {},
   "source": [
    "## Library imports"
   ]
  },
  {
   "cell_type": "code",
   "execution_count": 1,
   "id": "78648f70",
   "metadata": {},
   "outputs": [
    {
     "name": "stderr",
     "output_type": "stream",
     "text": [
      "/home/icb/weixu.wang/miniconda3/envs/dynamo/lib/python3.10/site-packages/anndata/utils.py:429: FutureWarning: Importing read_csv from `anndata` is deprecated. Import anndata.io.read_csv instead.\n",
      "  warnings.warn(msg, FutureWarning)\n",
      "/home/icb/weixu.wang/miniconda3/envs/dynamo/lib/python3.10/site-packages/anndata/utils.py:429: FutureWarning: Importing read_text from `anndata` is deprecated. Import anndata.io.read_text instead.\n",
      "  warnings.warn(msg, FutureWarning)\n",
      "/home/icb/weixu.wang/miniconda3/envs/dynamo/lib/python3.10/site-packages/anndata/utils.py:429: FutureWarning: Importing read_excel from `anndata` is deprecated. Import anndata.io.read_excel instead.\n",
      "  warnings.warn(msg, FutureWarning)\n",
      "/home/icb/weixu.wang/miniconda3/envs/dynamo/lib/python3.10/site-packages/anndata/utils.py:429: FutureWarning: Importing read_mtx from `anndata` is deprecated. Import anndata.io.read_mtx instead.\n",
      "  warnings.warn(msg, FutureWarning)\n",
      "/home/icb/weixu.wang/miniconda3/envs/dynamo/lib/python3.10/site-packages/anndata/utils.py:429: FutureWarning: Importing read_loom from `anndata` is deprecated. Import anndata.io.read_loom instead.\n",
      "  warnings.warn(msg, FutureWarning)\n",
      "/home/icb/weixu.wang/miniconda3/envs/dynamo/lib/python3.10/site-packages/anndata/utils.py:429: FutureWarning: Importing read_hdf from `anndata` is deprecated. Import anndata.io.read_hdf instead.\n",
      "  warnings.warn(msg, FutureWarning)\n",
      "/home/icb/weixu.wang/miniconda3/envs/dynamo/lib/python3.10/site-packages/anndata/utils.py:429: FutureWarning: Importing read_umi_tools from `anndata` is deprecated. Import anndata.io.read_umi_tools instead.\n",
      "  warnings.warn(msg, FutureWarning)\n"
     ]
    }
   ],
   "source": [
    "import numpy as np\n",
    "import pandas as pd\n",
    "\n",
    "import celloracle as co\n",
    "import scanpy as sc\n",
    "import scvelo as scv\n",
    "from celloracle.applications import Gradient_calculator\n",
    "\n",
    "from rgv_tools import DATA_DIR\n",
    "from rgv_tools.perturbation import (\n",
    "    get_list_name,\n",
    "    Multiple_TFScanning_perturbation_co,\n",
    "    split_elements,\n",
    "    TFScanning_perturbation_co,\n",
    ")"
   ]
  },
  {
   "cell_type": "markdown",
   "id": "272c21f6-7c70-4571-928f-e5f6f9f15839",
   "metadata": {},
   "source": [
    "## Constants"
   ]
  },
  {
   "cell_type": "code",
   "execution_count": 2,
   "id": "c9ea6433-94cd-4d28-a6df-7f50bed828f8",
   "metadata": {},
   "outputs": [],
   "source": [
    "DATASET = \"zebrafish\""
   ]
  },
  {
   "cell_type": "code",
   "execution_count": 3,
   "id": "859fb4e6-06de-4f31-8b2d-f0ae4d22d253",
   "metadata": {},
   "outputs": [],
   "source": [
    "SAVE_DATA = True\n",
    "if SAVE_DATA:\n",
    "    (DATA_DIR / DATASET / \"results\").mkdir(parents=True, exist_ok=True)"
   ]
  },
  {
   "cell_type": "code",
   "execution_count": 4,
   "id": "72e19b93-35f1-44f0-ad58-749e8bf2c213",
   "metadata": {},
   "outputs": [],
   "source": [
    "TERMINAL_STATES = [\n",
    "    \"mNC_head_mesenchymal\",\n",
    "    \"mNC_arch2\",\n",
    "    \"mNC_hox34\",\n",
    "    \"Pigment\",\n",
    "]"
   ]
  },
  {
   "cell_type": "code",
   "execution_count": 5,
   "id": "a7e1bef3-e17d-4ea0-a0bf-3f0aa837c703",
   "metadata": {},
   "outputs": [],
   "source": [
    "single_ko = [\"elk3\", \"erf\", \"fli1a\", \"mitfa\", \"nr2f5\", \"rarga\", \"rxraa\", \"smarcc1a\", \"tfec\", \"nr2f2\"]\n",
    "multiple_ko = [\"fli1a_elk3\", \"mitfa_tfec\", \"tfec_mitfa_bhlhe40\", \"fli1a_erf_erfl3\", \"erf_erfl3\"]"
   ]
  },
  {
   "cell_type": "markdown",
   "id": "7b7fa245-4a16-4d6b-b165-b402020c2679",
   "metadata": {},
   "source": [
    "## Data loading"
   ]
  },
  {
   "cell_type": "code",
   "execution_count": 6,
   "id": "421a94a3-7c7b-437a-8cb3-60558e5f00a5",
   "metadata": {},
   "outputs": [],
   "source": [
    "adata = sc.read_h5ad(DATA_DIR / DATASET / \"raw\" / \"adata_zebrafish_preprocessed.h5ad\")"
   ]
  },
  {
   "cell_type": "code",
   "execution_count": 7,
   "id": "5e572040-4f2b-4fd3-8bf8-de8aa5b47343",
   "metadata": {},
   "outputs": [],
   "source": [
    "df = pd.read_csv(DATA_DIR / DATASET / \"raw\" / \"eRegulon_metadata_all.csv\", index_col=0)"
   ]
  },
  {
   "cell_type": "markdown",
   "id": "39587625-54df-4cd4-a06c-06cd91c373a3",
   "metadata": {},
   "source": [
    "## Data processing"
   ]
  },
  {
   "cell_type": "code",
   "execution_count": 8,
   "id": "b5138d2b-0213-427e-949b-c8217a17ccc4",
   "metadata": {},
   "outputs": [],
   "source": [
    "df.loc[:, \"Target\"] = [f\"{a}*{b}\" for a, b in zip(df.loc[:, \"Region\"].tolist(), df.loc[:, \"Gene\"].tolist())]\n",
    "df = df.loc[:, [\"TF\", \"Gene\", \"Target\"]]\n",
    "\n",
    "regulators = df[\"TF\"].unique()\n",
    "targets = df[\"Target\"].unique()\n",
    "\n",
    "# Create an empty binary matrix\n",
    "binary_matrix = pd.DataFrame(0, columns=regulators, index=targets)\n",
    "\n",
    "# Fill the binary matrix based on the relationships in the CSV file\n",
    "for _, row in df.iterrows():\n",
    "    binary_matrix.at[row[\"Target\"], row[\"TF\"]] = 1\n",
    "\n",
    "original_list = binary_matrix.index.tolist()\n",
    "peak = [item.split(\"*\")[0] for item in original_list]\n",
    "target = [item.split(\"*\")[1] for item in original_list]\n",
    "\n",
    "binary_matrix.loc[:, \"peak_id\"] = peak\n",
    "binary_matrix.loc[:, \"gene_short_name\"] = target\n",
    "\n",
    "binary_matrix = binary_matrix[\n",
    "    [\"peak_id\", \"gene_short_name\"] + [col for col in binary_matrix if col not in [\"peak_id\", \"gene_short_name\"]]\n",
    "]\n",
    "binary_matrix = binary_matrix.reset_index(drop=True)"
   ]
  },
  {
   "cell_type": "code",
   "execution_count": 9,
   "id": "75c47882-74cc-42e0-89f1-ce01eff75f57",
   "metadata": {},
   "outputs": [
    {
     "name": "stdout",
     "output_type": "stream",
     "text": [
      "computing neighbors\n",
      "    finished (0:00:03) --> added \n",
      "    'distances' and 'connectivities', weighted adjacency matrices (adata.obsp)\n",
      "computing moments based on connectivities\n",
      "    finished (0:00:00) --> added \n",
      "    'Ms' and 'Mu', moments of un/spliced abundances (adata.layers)\n"
     ]
    }
   ],
   "source": [
    "scv.pp.moments(adata, n_pcs=50, n_neighbors=30)"
   ]
  },
  {
   "cell_type": "markdown",
   "id": "209e347b",
   "metadata": {},
   "source": [
    "## CellOracle pipeline"
   ]
  },
  {
   "cell_type": "code",
   "execution_count": 10,
   "id": "ffe27632-c80d-4e8f-a804-6a810e1d940d",
   "metadata": {},
   "outputs": [
    {
     "name": "stdout",
     "output_type": "stream",
     "text": [
      "8012 genes were found in the adata. Note that Celloracle is intended to use around 1000-3000 genes, so the behavior with this number of genes may differ from what is expected.\n"
     ]
    }
   ],
   "source": [
    "adata.X = adata.layers[\"matrix\"].copy()\n",
    "oracle = co.Oracle()\n",
    "oracle.import_anndata_as_raw_count(adata=adata, cluster_column_name=\"cell_type\", embedding_name=\"X_umap\")\n",
    "\n",
    "oracle.import_TF_data(TF_info_matrix=binary_matrix)"
   ]
  },
  {
   "cell_type": "code",
   "execution_count": 11,
   "id": "b683c915-af38-43ef-b465-68d23b72c8ce",
   "metadata": {},
   "outputs": [],
   "source": [
    "oracle.perform_PCA()"
   ]
  },
  {
   "cell_type": "code",
   "execution_count": 12,
   "id": "e89b82a7-46b9-4822-bc03-91a719792f1e",
   "metadata": {},
   "outputs": [],
   "source": [
    "n_comps = np.where(np.diff(np.diff(np.cumsum(oracle.pca.explained_variance_ratio_)) > 0.002))[0][0]"
   ]
  },
  {
   "cell_type": "code",
   "execution_count": 13,
   "id": "43c30396-60ab-401d-a1db-97e6eafd4530",
   "metadata": {},
   "outputs": [],
   "source": [
    "n_comps = min(n_comps, 50)"
   ]
  },
  {
   "cell_type": "code",
   "execution_count": 14,
   "id": "36d20865-1a3a-4236-9b39-2fa682f770ee",
   "metadata": {},
   "outputs": [
    {
     "name": "stdout",
     "output_type": "stream",
     "text": [
      "cell number is :697\n",
      "Auto-selected k is :17\n"
     ]
    }
   ],
   "source": [
    "n_cell = oracle.adata.shape[0]\n",
    "print(f\"cell number is :{n_cell}\")\n",
    "\n",
    "k = int(0.025 * n_cell)\n",
    "print(f\"Auto-selected k is :{k}\")"
   ]
  },
  {
   "cell_type": "code",
   "execution_count": 15,
   "id": "36ab7179-802f-4f6c-9b77-2aa04f80df45",
   "metadata": {},
   "outputs": [],
   "source": [
    "oracle.knn_imputation(n_pca_dims=n_comps, k=k, balanced=True, b_sight=k * 8, b_maxl=k * 4, n_jobs=4)"
   ]
  },
  {
   "cell_type": "code",
   "execution_count": 16,
   "id": "179c99f0-09f4-45f2-ab24-b47b3e88430d",
   "metadata": {},
   "outputs": [
    {
     "data": {
      "application/vnd.jupyter.widget-view+json": {
       "model_id": "452cfa668aca44f2b226619357e62320",
       "version_major": 2,
       "version_minor": 0
      },
      "text/plain": [
       "  0%|          | 0/13 [00:00<?, ?it/s]"
      ]
     },
     "metadata": {},
     "output_type": "display_data"
    },
    {
     "name": "stdout",
     "output_type": "stream",
     "text": [
      "Inferring GRN for NC_trunk...\n"
     ]
    },
    {
     "data": {
      "application/vnd.jupyter.widget-view+json": {
       "model_id": "1d9205e357094ff38d805ed85d79b198",
       "version_major": 2,
       "version_minor": 0
      },
      "text/plain": [
       "  0%|          | 0/1925 [00:00<?, ?it/s]"
      ]
     },
     "metadata": {},
     "output_type": "display_data"
    },
    {
     "name": "stdout",
     "output_type": "stream",
     "text": [
      "Inferring GRN for NPB_hox3...\n"
     ]
    },
    {
     "data": {
      "application/vnd.jupyter.widget-view+json": {
       "model_id": "4dc1a20fac694190bcb6c95a3086714b",
       "version_major": 2,
       "version_minor": 0
      },
      "text/plain": [
       "  0%|          | 0/1925 [00:00<?, ?it/s]"
      ]
     },
     "metadata": {},
     "output_type": "display_data"
    },
    {
     "name": "stdout",
     "output_type": "stream",
     "text": [
      "Inferring GRN for NPB_nohox...\n"
     ]
    },
    {
     "data": {
      "application/vnd.jupyter.widget-view+json": {
       "model_id": "5e940e3d27f845ffb97b5efed992a399",
       "version_major": 2,
       "version_minor": 0
      },
      "text/plain": [
       "  0%|          | 0/1925 [00:00<?, ?it/s]"
      ]
     },
     "metadata": {},
     "output_type": "display_data"
    },
    {
     "name": "stdout",
     "output_type": "stream",
     "text": [
      "Inferring GRN for Pigment...\n"
     ]
    },
    {
     "data": {
      "application/vnd.jupyter.widget-view+json": {
       "model_id": "0dd7988ec2154ababab48e94eb925fe7",
       "version_major": 2,
       "version_minor": 0
      },
      "text/plain": [
       "  0%|          | 0/1925 [00:00<?, ?it/s]"
      ]
     },
     "metadata": {},
     "output_type": "display_data"
    },
    {
     "name": "stdout",
     "output_type": "stream",
     "text": [
      "Inferring GRN for dNC_hox34...\n"
     ]
    },
    {
     "data": {
      "application/vnd.jupyter.widget-view+json": {
       "model_id": "27be0ca1ce844c1fab418cf7ab6245e8",
       "version_major": 2,
       "version_minor": 0
      },
      "text/plain": [
       "  0%|          | 0/1925 [00:00<?, ?it/s]"
      ]
     },
     "metadata": {},
     "output_type": "display_data"
    },
    {
     "name": "stdout",
     "output_type": "stream",
     "text": [
      "Inferring GRN for dNC_hoxa2b...\n"
     ]
    },
    {
     "data": {
      "application/vnd.jupyter.widget-view+json": {
       "model_id": "3f5a645624d747d7aa8ebad0b3d2dcd0",
       "version_major": 2,
       "version_minor": 0
      },
      "text/plain": [
       "  0%|          | 0/1925 [00:00<?, ?it/s]"
      ]
     },
     "metadata": {},
     "output_type": "display_data"
    },
    {
     "name": "stdout",
     "output_type": "stream",
     "text": [
      "Inferring GRN for dNC_nohox...\n"
     ]
    },
    {
     "data": {
      "application/vnd.jupyter.widget-view+json": {
       "model_id": "c8fa3db4fa3848ee80213772f9f8a932",
       "version_major": 2,
       "version_minor": 0
      },
      "text/plain": [
       "  0%|          | 0/1925 [00:00<?, ?it/s]"
      ]
     },
     "metadata": {},
     "output_type": "display_data"
    },
    {
     "name": "stdout",
     "output_type": "stream",
     "text": [
      "Inferring GRN for mNC_arch1...\n"
     ]
    },
    {
     "data": {
      "application/vnd.jupyter.widget-view+json": {
       "model_id": "db269d71707c4fa5afbaeafa007a5978",
       "version_major": 2,
       "version_minor": 0
      },
      "text/plain": [
       "  0%|          | 0/1925 [00:00<?, ?it/s]"
      ]
     },
     "metadata": {},
     "output_type": "display_data"
    },
    {
     "name": "stdout",
     "output_type": "stream",
     "text": [
      "Inferring GRN for mNC_arch2...\n"
     ]
    },
    {
     "data": {
      "application/vnd.jupyter.widget-view+json": {
       "model_id": "efcd095b5290438aa04ef03ceb786cd3",
       "version_major": 2,
       "version_minor": 0
      },
      "text/plain": [
       "  0%|          | 0/1925 [00:00<?, ?it/s]"
      ]
     },
     "metadata": {},
     "output_type": "display_data"
    },
    {
     "name": "stdout",
     "output_type": "stream",
     "text": [
      "Inferring GRN for mNC_head_mesenchymal...\n"
     ]
    },
    {
     "data": {
      "application/vnd.jupyter.widget-view+json": {
       "model_id": "140ab4449bd54889b7cae8f2c83293b3",
       "version_major": 2,
       "version_minor": 0
      },
      "text/plain": [
       "  0%|          | 0/1925 [00:00<?, ?it/s]"
      ]
     },
     "metadata": {},
     "output_type": "display_data"
    },
    {
     "name": "stdout",
     "output_type": "stream",
     "text": [
      "Inferring GRN for mNC_hox34...\n"
     ]
    },
    {
     "data": {
      "application/vnd.jupyter.widget-view+json": {
       "model_id": "408940f38b27438ba21d12e32ae8f604",
       "version_major": 2,
       "version_minor": 0
      },
      "text/plain": [
       "  0%|          | 0/1925 [00:00<?, ?it/s]"
      ]
     },
     "metadata": {},
     "output_type": "display_data"
    },
    {
     "name": "stdout",
     "output_type": "stream",
     "text": [
      "Inferring GRN for mNC_nohox...\n"
     ]
    },
    {
     "data": {
      "application/vnd.jupyter.widget-view+json": {
       "model_id": "91d488719a0c479a8c20143fd68fb7b8",
       "version_major": 2,
       "version_minor": 0
      },
      "text/plain": [
       "  0%|          | 0/1925 [00:00<?, ?it/s]"
      ]
     },
     "metadata": {},
     "output_type": "display_data"
    },
    {
     "name": "stdout",
     "output_type": "stream",
     "text": [
      "Inferring GRN for mNC_vagal...\n"
     ]
    },
    {
     "data": {
      "application/vnd.jupyter.widget-view+json": {
       "model_id": "675c1967e6ec43a3a883bbc813d84b54",
       "version_major": 2,
       "version_minor": 0
      },
      "text/plain": [
       "  0%|          | 0/1925 [00:00<?, ?it/s]"
      ]
     },
     "metadata": {},
     "output_type": "display_data"
    }
   ],
   "source": [
    "links = oracle.get_links(cluster_name_for_GRN_unit=\"cell_type\", alpha=10, verbose_level=10)"
   ]
  },
  {
   "cell_type": "code",
   "execution_count": 17,
   "id": "e13a6e9e-a8fe-4c09-8da1-ae4698923546",
   "metadata": {},
   "outputs": [],
   "source": [
    "links.filter_links(p=0.001, weight=\"coef_abs\", threshold_number=2000)\n",
    "links.get_network_score()"
   ]
  },
  {
   "cell_type": "code",
   "execution_count": 18,
   "id": "1972f50b-166b-4725-b659-9bdb473b8779",
   "metadata": {},
   "outputs": [
    {
     "data": {
      "application/vnd.jupyter.widget-view+json": {
       "model_id": "78f91ac858a2468fb12802b74b92c26b",
       "version_major": 2,
       "version_minor": 0
      },
      "text/plain": [
       "  0%|          | 0/13 [00:00<?, ?it/s]"
      ]
     },
     "metadata": {},
     "output_type": "display_data"
    }
   ],
   "source": [
    "links.filter_links()\n",
    "oracle.get_cluster_specific_TFdict_from_Links(links_object=links)\n",
    "oracle.fit_GRN_for_simulation(alpha=10, use_cluster_specific_TFdict=True)"
   ]
  },
  {
   "cell_type": "markdown",
   "id": "d616d958-b32e-4830-8df8-11d89cc38ccd",
   "metadata": {},
   "source": [
    "### Reference vector field definition"
   ]
  },
  {
   "cell_type": "code",
   "execution_count": 19,
   "id": "5af2368a-f189-4965-89d5-f2a3258ff2de",
   "metadata": {},
   "outputs": [
    {
     "name": "stdout",
     "output_type": "stream",
     "text": [
      "recovering dynamics (using 4/128 cores)\n"
     ]
    },
    {
     "data": {
      "application/vnd.jupyter.widget-view+json": {
       "model_id": "a296a72441484a00a2d85b015d6aa4c6",
       "version_major": 2,
       "version_minor": 0
      },
      "text/plain": [
       "  0%|          | 0/8012 [00:00<?, ?gene/s]"
      ]
     },
     "metadata": {},
     "output_type": "display_data"
    },
    {
     "name": "stderr",
     "output_type": "stream",
     "text": [
      "/home/icb/weixu.wang/miniconda3/envs/dynamo/lib/python3.10/site-packages/anndata/utils.py:429: FutureWarning: Importing read_csv from `anndata` is deprecated. Import anndata.io.read_csv instead.\n",
      "  warnings.warn(msg, FutureWarning)\n",
      "/home/icb/weixu.wang/miniconda3/envs/dynamo/lib/python3.10/site-packages/anndata/utils.py:429: FutureWarning: Importing read_text from `anndata` is deprecated. Import anndata.io.read_text instead.\n",
      "  warnings.warn(msg, FutureWarning)\n",
      "/home/icb/weixu.wang/miniconda3/envs/dynamo/lib/python3.10/site-packages/anndata/utils.py:429: FutureWarning: Importing read_excel from `anndata` is deprecated. Import anndata.io.read_excel instead.\n",
      "  warnings.warn(msg, FutureWarning)\n",
      "/home/icb/weixu.wang/miniconda3/envs/dynamo/lib/python3.10/site-packages/anndata/utils.py:429: FutureWarning: Importing read_mtx from `anndata` is deprecated. Import anndata.io.read_mtx instead.\n",
      "  warnings.warn(msg, FutureWarning)\n",
      "/home/icb/weixu.wang/miniconda3/envs/dynamo/lib/python3.10/site-packages/anndata/utils.py:429: FutureWarning: Importing read_loom from `anndata` is deprecated. Import anndata.io.read_loom instead.\n",
      "  warnings.warn(msg, FutureWarning)\n",
      "/home/icb/weixu.wang/miniconda3/envs/dynamo/lib/python3.10/site-packages/anndata/utils.py:429: FutureWarning: Importing read_csv from `anndata` is deprecated. Import anndata.io.read_csv instead.\n",
      "  warnings.warn(msg, FutureWarning)\n",
      "/home/icb/weixu.wang/miniconda3/envs/dynamo/lib/python3.10/site-packages/anndata/utils.py:429: FutureWarning: Importing read_hdf from `anndata` is deprecated. Import anndata.io.read_hdf instead.\n",
      "  warnings.warn(msg, FutureWarning)\n",
      "/home/icb/weixu.wang/miniconda3/envs/dynamo/lib/python3.10/site-packages/anndata/utils.py:429: FutureWarning: Importing read_text from `anndata` is deprecated. Import anndata.io.read_text instead.\n",
      "  warnings.warn(msg, FutureWarning)\n",
      "/home/icb/weixu.wang/miniconda3/envs/dynamo/lib/python3.10/site-packages/anndata/utils.py:429: FutureWarning: Importing read_excel from `anndata` is deprecated. Import anndata.io.read_excel instead.\n",
      "  warnings.warn(msg, FutureWarning)\n",
      "/home/icb/weixu.wang/miniconda3/envs/dynamo/lib/python3.10/site-packages/anndata/utils.py:429: FutureWarning: Importing read_mtx from `anndata` is deprecated. Import anndata.io.read_mtx instead.\n",
      "  warnings.warn(msg, FutureWarning)\n",
      "/home/icb/weixu.wang/miniconda3/envs/dynamo/lib/python3.10/site-packages/anndata/utils.py:429: FutureWarning: Importing read_loom from `anndata` is deprecated. Import anndata.io.read_loom instead.\n",
      "  warnings.warn(msg, FutureWarning)\n",
      "/home/icb/weixu.wang/miniconda3/envs/dynamo/lib/python3.10/site-packages/anndata/utils.py:429: FutureWarning: Importing read_hdf from `anndata` is deprecated. Import anndata.io.read_hdf instead.\n",
      "  warnings.warn(msg, FutureWarning)\n",
      "/home/icb/weixu.wang/miniconda3/envs/dynamo/lib/python3.10/site-packages/anndata/utils.py:429: FutureWarning: Importing read_csv from `anndata` is deprecated. Import anndata.io.read_csv instead.\n",
      "  warnings.warn(msg, FutureWarning)\n",
      "/home/icb/weixu.wang/miniconda3/envs/dynamo/lib/python3.10/site-packages/anndata/utils.py:429: FutureWarning: Importing read_text from `anndata` is deprecated. Import anndata.io.read_text instead.\n",
      "  warnings.warn(msg, FutureWarning)\n",
      "/home/icb/weixu.wang/miniconda3/envs/dynamo/lib/python3.10/site-packages/anndata/utils.py:429: FutureWarning: Importing read_excel from `anndata` is deprecated. Import anndata.io.read_excel instead.\n",
      "  warnings.warn(msg, FutureWarning)\n",
      "/home/icb/weixu.wang/miniconda3/envs/dynamo/lib/python3.10/site-packages/anndata/utils.py:429: FutureWarning: Importing read_mtx from `anndata` is deprecated. Import anndata.io.read_mtx instead.\n",
      "  warnings.warn(msg, FutureWarning)\n",
      "/home/icb/weixu.wang/miniconda3/envs/dynamo/lib/python3.10/site-packages/anndata/utils.py:429: FutureWarning: Importing read_loom from `anndata` is deprecated. Import anndata.io.read_loom instead.\n",
      "  warnings.warn(msg, FutureWarning)\n",
      "/home/icb/weixu.wang/miniconda3/envs/dynamo/lib/python3.10/site-packages/anndata/utils.py:429: FutureWarning: Importing read_hdf from `anndata` is deprecated. Import anndata.io.read_hdf instead.\n",
      "  warnings.warn(msg, FutureWarning)\n",
      "/home/icb/weixu.wang/miniconda3/envs/dynamo/lib/python3.10/site-packages/anndata/utils.py:429: FutureWarning: Importing read_csv from `anndata` is deprecated. Import anndata.io.read_csv instead.\n",
      "  warnings.warn(msg, FutureWarning)\n",
      "/home/icb/weixu.wang/miniconda3/envs/dynamo/lib/python3.10/site-packages/anndata/utils.py:429: FutureWarning: Importing read_text from `anndata` is deprecated. Import anndata.io.read_text instead.\n",
      "  warnings.warn(msg, FutureWarning)\n",
      "/home/icb/weixu.wang/miniconda3/envs/dynamo/lib/python3.10/site-packages/anndata/utils.py:429: FutureWarning: Importing read_excel from `anndata` is deprecated. Import anndata.io.read_excel instead.\n",
      "  warnings.warn(msg, FutureWarning)\n",
      "/home/icb/weixu.wang/miniconda3/envs/dynamo/lib/python3.10/site-packages/anndata/utils.py:429: FutureWarning: Importing read_mtx from `anndata` is deprecated. Import anndata.io.read_mtx instead.\n",
      "  warnings.warn(msg, FutureWarning)\n",
      "/home/icb/weixu.wang/miniconda3/envs/dynamo/lib/python3.10/site-packages/anndata/utils.py:429: FutureWarning: Importing read_loom from `anndata` is deprecated. Import anndata.io.read_loom instead.\n",
      "  warnings.warn(msg, FutureWarning)\n",
      "/home/icb/weixu.wang/miniconda3/envs/dynamo/lib/python3.10/site-packages/anndata/utils.py:429: FutureWarning: Importing read_hdf from `anndata` is deprecated. Import anndata.io.read_hdf instead.\n",
      "  warnings.warn(msg, FutureWarning)\n",
      "/home/icb/weixu.wang/miniconda3/envs/dynamo/lib/python3.10/site-packages/anndata/utils.py:429: FutureWarning: Importing read_umi_tools from `anndata` is deprecated. Import anndata.io.read_umi_tools instead.\n",
      "  warnings.warn(msg, FutureWarning)\n",
      "/home/icb/weixu.wang/miniconda3/envs/dynamo/lib/python3.10/site-packages/anndata/utils.py:429: FutureWarning: Importing read_umi_tools from `anndata` is deprecated. Import anndata.io.read_umi_tools instead.\n",
      "  warnings.warn(msg, FutureWarning)\n",
      "/home/icb/weixu.wang/miniconda3/envs/dynamo/lib/python3.10/site-packages/anndata/utils.py:429: FutureWarning: Importing read_umi_tools from `anndata` is deprecated. Import anndata.io.read_umi_tools instead.\n",
      "  warnings.warn(msg, FutureWarning)\n",
      "/home/icb/weixu.wang/miniconda3/envs/dynamo/lib/python3.10/site-packages/anndata/utils.py:429: FutureWarning: Importing read_umi_tools from `anndata` is deprecated. Import anndata.io.read_umi_tools instead.\n",
      "  warnings.warn(msg, FutureWarning)\n"
     ]
    },
    {
     "name": "stdout",
     "output_type": "stream",
     "text": [
      "    finished (0:04:24) --> added \n",
      "    'fit_pars', fitted parameters for splicing dynamics (adata.var)\n",
      "computing velocities\n",
      "    finished (0:00:03) --> added \n",
      "    'velocity', velocity vectors for each individual cell (adata.layers)\n",
      "computing velocity graph (using 1/128 cores)\n"
     ]
    },
    {
     "data": {
      "application/vnd.jupyter.widget-view+json": {
       "model_id": "027ce7c62f7d4a03afb6fbef27258f6f",
       "version_major": 2,
       "version_minor": 0
      },
      "text/plain": [
       "  0%|          | 0/697 [00:00<?, ?cells/s]"
      ]
     },
     "metadata": {},
     "output_type": "display_data"
    },
    {
     "name": "stdout",
     "output_type": "stream",
     "text": [
      "    finished (0:00:00) --> added \n",
      "    'velocity_graph', sparse matrix with cosine correlations (adata.uns)\n",
      "computing terminal states\n",
      "    identified 0 region of root cells and 1 region of end points .\n",
      "    finished (0:00:00) --> added\n",
      "    'root_cells', root cells of Markov diffusion process (adata.obs)\n",
      "    'end_points', end points of Markov diffusion process (adata.obs)\n",
      "WARNING: No root cells detected. Consider specifying root cells to improve latent time prediction.\n",
      "computing latent time using root_cells as prior\n",
      "    finished (0:00:01) --> added \n",
      "    'latent_time', shared time (adata.obs)\n"
     ]
    }
   ],
   "source": [
    "## calculate pseudotime\n",
    "scv.tl.recover_dynamics(adata, var_names=adata.var_names, n_jobs=4)\n",
    "scv.tl.velocity(adata, mode=\"dynamical\")\n",
    "scv.tl.latent_time(adata, min_likelihood=None)"
   ]
  },
  {
   "cell_type": "code",
   "execution_count": 20,
   "id": "a217a786-033c-453a-b142-678208b97b17",
   "metadata": {},
   "outputs": [],
   "source": [
    "## use the velocity latent time inferred by scVelo to create gradient field\n",
    "n_grid = 40\n",
    "min_mass = 1.5\n",
    "oracle.adata.obs[\"Pseudotime\"] = adata.obs[\"latent_time\"].copy()\n",
    "gradient = Gradient_calculator(oracle_object=oracle, pseudotime_key=\"Pseudotime\")\n",
    "gradient.calculate_p_mass(smooth=0.8, n_grid=n_grid, n_neighbors=30)\n",
    "gradient.calculate_mass_filter(min_mass=min_mass, plot=True)\n",
    "gradient.transfer_data_into_grid(args={\"method\": \"polynomial\", \"n_poly\": 3}, plot=True)\n",
    "gradient.calculate_gradient()"
   ]
  },
  {
   "cell_type": "code",
   "execution_count": 21,
   "id": "9c019730-9d78-41d0-b96e-33c0fce86d0d",
   "metadata": {},
   "outputs": [],
   "source": [
    "scale_dev = 40\n",
    "gradient.visualize_results(scale=scale_dev, s=5)"
   ]
  },
  {
   "cell_type": "code",
   "execution_count": 22,
   "id": "c9d81d1d-8f49-408b-b66b-e7d3aa2dfd1a",
   "metadata": {},
   "outputs": [],
   "source": [
    "cell_idx_pigment = np.where(oracle.adata.obs[\"cell_type\"].isin([\"Pigment\"]))[0]\n",
    "\n",
    "cell_idx_hox34 = np.where(oracle.adata.obs[\"cell_type\"].isin([\"mNC_hox34\"]))[0]\n",
    "\n",
    "cell_idx_arch2 = np.where(oracle.adata.obs[\"cell_type\"].isin([\"mNC_arch2\"]))[0]\n",
    "\n",
    "cell_idx_mesenchymal = np.where(oracle.adata.obs[\"cell_type\"].isin([\"mNC_head_mesenchymal\"]))[0]"
   ]
  },
  {
   "cell_type": "code",
   "execution_count": 23,
   "id": "9276a5c7-cebc-4921-9ae7-855a6223e17f",
   "metadata": {},
   "outputs": [],
   "source": [
    "index_dictionary = {\n",
    "    \"Pigment\": cell_idx_pigment,\n",
    "    \"mNC_hox34\": cell_idx_hox34,\n",
    "    \"mNC_arch2\": cell_idx_arch2,\n",
    "    \"mNC_head_mesenchymal\": cell_idx_mesenchymal,\n",
    "}"
   ]
  },
  {
   "cell_type": "markdown",
   "id": "92379ece-eb9a-4f81-a647-dc9018974918",
   "metadata": {},
   "source": [
    "## Perturbation prediction"
   ]
  },
  {
   "cell_type": "markdown",
   "id": "540e2bb7-dad1-47c1-814a-cb773f3efcce",
   "metadata": {},
   "source": [
    "### single knock-out"
   ]
  },
  {
   "cell_type": "code",
   "execution_count": 24,
   "id": "4d35e484-d712-4a81-a45c-ba0bb1565b54",
   "metadata": {},
   "outputs": [],
   "source": [
    "n_neighbors = 30"
   ]
  },
  {
   "cell_type": "code",
   "execution_count": 25,
   "id": "b695a8d7-c989-4e1f-b57a-685abd82f87c",
   "metadata": {},
   "outputs": [],
   "source": [
    "single_ko = set(single_ko).intersection(adata.var_names)\n",
    "single_ko = list(single_ko)"
   ]
  },
  {
   "cell_type": "code",
   "execution_count": 26,
   "id": "4c30f3c5-6c47-48e2-8174-24ddefea6dc3",
   "metadata": {},
   "outputs": [
    {
     "name": "stderr",
     "output_type": "stream",
     "text": [
      "2024-11-24 16:22:56,120 - INFO - Done fli1a\n",
      "2024-11-24 16:23:21,777 - INFO - Done mitfa\n",
      "2024-11-24 16:23:47,753 - INFO - Done nr2f2\n",
      "2024-11-24 16:24:12,948 - INFO - Done rarga\n",
      "2024-11-24 16:24:39,190 - INFO - Done tfec\n",
      "2024-11-24 16:25:04,528 - INFO - Done rxraa\n",
      "2024-11-24 16:25:30,067 - INFO - Done erf\n",
      "2024-11-24 16:25:55,981 - INFO - Done elk3\n",
      "2024-11-24 16:26:21,029 - INFO - Done nr2f5\n"
     ]
    }
   ],
   "source": [
    "## celloracle perturbation\n",
    "d = TFScanning_perturbation_co(\n",
    "    adata, 8, \"cell_type\", TERMINAL_STATES, single_ko, oracle, gradient, index_dictionary, n_neighbors\n",
    ")"
   ]
  },
  {
   "cell_type": "code",
   "execution_count": 27,
   "id": "d105c2e9-a352-45d9-9ad1-566a4dc0b814",
   "metadata": {},
   "outputs": [],
   "source": [
    "coef = pd.DataFrame(np.array(d[\"coefficient\"]))\n",
    "coef.index = d[\"TF\"]\n",
    "coef.columns = get_list_name(d[\"coefficient\"][0])"
   ]
  },
  {
   "cell_type": "markdown",
   "id": "c740a499-e883-4725-9834-a94b5c5dbef7",
   "metadata": {},
   "source": [
    "### multiple knock-out"
   ]
  },
  {
   "cell_type": "code",
   "execution_count": 28,
   "id": "188f94d8-d6b3-4009-aab3-2674d970a66a",
   "metadata": {},
   "outputs": [],
   "source": [
    "multiple_ko_list = split_elements(multiple_ko)"
   ]
  },
  {
   "cell_type": "code",
   "execution_count": 29,
   "id": "c8285de5-792f-4fdd-ba6e-83a6a562b886",
   "metadata": {},
   "outputs": [
    {
     "name": "stderr",
     "output_type": "stream",
     "text": [
      "2024-11-24 16:26:47,444 - INFO - Done fli1a_elk3\n",
      "2024-11-24 16:27:13,422 - INFO - Done mitfa_tfec\n",
      "2024-11-24 16:27:40,270 - INFO - Done tfec_mitfa_bhlhe40\n",
      "2024-11-24 16:28:06,428 - INFO - Done fli1a_erf_erfl3\n",
      "2024-11-24 16:28:32,149 - INFO - Done erf_erfl3\n"
     ]
    }
   ],
   "source": [
    "d = Multiple_TFScanning_perturbation_co(\n",
    "    adata, 8, \"cell_type\", TERMINAL_STATES, multiple_ko_list, oracle, gradient, index_dictionary, n_neighbors\n",
    ")"
   ]
  },
  {
   "cell_type": "code",
   "execution_count": 30,
   "id": "f63154c6-4f2f-49be-acda-0bed22d60af4",
   "metadata": {},
   "outputs": [],
   "source": [
    "coef_multiple = pd.DataFrame(np.array(d[\"coefficient\"]))\n",
    "coef_multiple.index = d[\"TF\"]\n",
    "coef_multiple.columns = get_list_name(d[\"coefficient\"][0])"
   ]
  },
  {
   "cell_type": "markdown",
   "id": "48acbe76-e14d-4f89-8bc9-584b5a6695d0",
   "metadata": {},
   "source": [
    "## Save dataset"
   ]
  },
  {
   "cell_type": "code",
   "execution_count": 31,
   "id": "db855a07-8e42-4f3b-9ef1-4c8c6ed91c6e",
   "metadata": {},
   "outputs": [],
   "source": [
    "if SAVE_DATA:\n",
    "    coef.to_csv(DATA_DIR / DATASET / \"results\" / \"celloracle_perturb_single.csv\")\n",
    "    coef_multiple.to_csv(DATA_DIR / DATASET / \"results\" / \"celloracle_perturb_multiple.csv\")"
   ]
  }
 ],
 "metadata": {
  "kernelspec": {
   "display_name": "Python [conda env:dynamo]",
   "language": "python",
   "name": "conda-env-dynamo-py"
  },
  "language_info": {
   "codemirror_mode": {
    "name": "ipython",
    "version": 3
   },
   "file_extension": ".py",
   "mimetype": "text/x-python",
   "name": "python",
   "nbconvert_exporter": "python",
   "pygments_lexer": "ipython3",
   "version": "3.10.12"
  }
 },
 "nbformat": 4,
 "nbformat_minor": 5
}
