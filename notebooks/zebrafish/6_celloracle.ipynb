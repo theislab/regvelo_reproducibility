{
 "cells": [
  {
   "cell_type": "markdown",
   "id": "0155cea3-f8c6-4634-b380-a588971740bb",
   "metadata": {},
   "source": [
    "# CellOracle-based perturbation prediction\n",
    "\n",
    "Notebook predicts TF perturbation effects with CellOracle."
   ]
  },
  {
   "cell_type": "markdown",
   "id": "218db259-d6b8-4f6f-9507-abc61850c44c",
   "metadata": {},
   "source": [
    "## Library imports"
   ]
  },
  {
   "cell_type": "code",
   "execution_count": null,
   "id": "78648f70",
   "metadata": {},
   "outputs": [],
   "source": [
    "import numpy as np\n",
    "import pandas as pd\n",
    "\n",
    "import celloracle as co\n",
    "import scanpy as sc\n",
    "import scvelo as scv\n",
    "from celloracle.applications import Gradient_calculator, Oracle_development_module\n",
    "from scvelo import logging as logg\n",
    "\n",
    "from rgv_tools import DATA_DIR"
   ]
  },
  {
   "cell_type": "markdown",
   "id": "33d81ceb-3a13-4622-836b-7a4a6a4a15c4",
   "metadata": {
    "lines_to_next_cell": 2
   },
   "source": [
    "## Function definitions"
   ]
  },
  {
   "cell_type": "code",
   "execution_count": null,
   "id": "55bdf89c-85c0-4609-9176-66e40c6304aa",
   "metadata": {},
   "outputs": [],
   "source": [
    "def split_elements(character_list):\n",
    "    \"\"\"TODO.\"\"\"\n",
    "    result_list = []\n",
    "    for element in character_list:\n",
    "        if \"_\" in element:\n",
    "            parts = element.split(\"_\")\n",
    "            result_list.append(parts)\n",
    "        else:\n",
    "            result_list.append([element])\n",
    "    return result_list"
   ]
  },
  {
   "cell_type": "code",
   "execution_count": null,
   "id": "5f41ced1",
   "metadata": {},
   "outputs": [],
   "source": [
    "def combine_elements(split_list):\n",
    "    \"\"\"TODO.\"\"\"\n",
    "    result_list = []\n",
    "    for parts in split_list:\n",
    "        combined_element = \"_\".join(parts)\n",
    "        result_list.append(combined_element)\n",
    "    return result_list"
   ]
  },
  {
   "cell_type": "code",
   "execution_count": null,
   "id": "8516c0dc",
   "metadata": {},
   "outputs": [],
   "source": [
    "def pipeline(gene_for_KO):\n",
    "    \"\"\"TODO.\"\"\"\n",
    "    # 1. Simulate KO\n",
    "    oracle.simulate_shift(perturb_condition={gene_for_KO: 0}, ignore_warning=True, n_propagation=3)\n",
    "    oracle.estimate_transition_prob(n_neighbors=n_neighbors, knn_random=True, sampled_fraction=1)\n",
    "    oracle.calculate_embedding_shift(sigma_corr=0.05)\n",
    "\n",
    "    ## calculate overall score\n",
    "    dev = Oracle_development_module()\n",
    "    # Load development flow\n",
    "    dev.load_differentiation_reference_data(gradient_object=gradient)\n",
    "    # Load simulation result\n",
    "    dev.load_perturb_simulation_data(oracle_object=oracle, n_neighbors=n_neighbors)\n",
    "    # Calculate inner product\n",
    "    dev.calculate_inner_product()\n",
    "    dev.calculate_digitized_ip(n_bins=10)\n",
    "\n",
    "    # Save results in a hdf5 file.\n",
    "    ps_max = dev.get_negative_PS_p_value(return_ps_sum=True, plot=False)[1]\n",
    "\n",
    "    # Do simulation for all conditions.\n",
    "    Lineage = []\n",
    "    PS_score = []\n",
    "    for lineage_name, cell_idx in index_dictionary.items():\n",
    "        dev = Oracle_development_module()\n",
    "        # Load development flow\n",
    "        dev.load_differentiation_reference_data(gradient_object=gradient)\n",
    "        # Load simulation result\n",
    "        dev.load_perturb_simulation_data(\n",
    "            oracle_object=oracle, cell_idx_use=cell_idx, name=lineage_name, n_neighbors=n_neighbors\n",
    "        )\n",
    "        # Calculate inner product\n",
    "        dev.calculate_inner_product()\n",
    "        dev.calculate_digitized_ip(n_bins=10)\n",
    "\n",
    "        # Save results in a hdf5 file.\n",
    "        ps = dev.get_negative_PS_p_value(return_ps_sum=True, plot=False)[1]\n",
    "        ps = ps / ps_max\n",
    "        Lineage.append(lineage_name)\n",
    "        PS_score.append(ps)\n",
    "\n",
    "    df = pd.DataFrame({\"Lineage\": Lineage, \"PS_score\": PS_score})\n",
    "    df.index = Lineage\n",
    "\n",
    "    return df"
   ]
  },
  {
   "cell_type": "code",
   "execution_count": null,
   "id": "26911de1",
   "metadata": {},
   "outputs": [],
   "source": [
    "def pipeline2(gene_for_KO):\n",
    "    \"\"\"TODO.\"\"\"\n",
    "    oracle.simulate_shift(perturb_condition={key: 0 for key in gene_for_KO}, ignore_warning=True, n_propagation=3)\n",
    "    oracle.estimate_transition_prob(n_neighbors=n_neighbors, knn_random=True, sampled_fraction=1)\n",
    "    oracle.calculate_embedding_shift(sigma_corr=0.05)\n",
    "\n",
    "    ## calculate overall score\n",
    "    dev = Oracle_development_module()\n",
    "    # Load development flow\n",
    "    dev.load_differentiation_reference_data(gradient_object=gradient)\n",
    "    # Load simulation result\n",
    "    dev.load_perturb_simulation_data(oracle_object=oracle, n_neighbors=n_neighbors)\n",
    "    # Calculate inner product\n",
    "    dev.calculate_inner_product()\n",
    "    dev.calculate_digitized_ip(n_bins=10)\n",
    "\n",
    "    # Save results in a hdf5 file.\n",
    "    ps_max = dev.get_negative_PS_p_value(return_ps_sum=True, plot=False)[1]\n",
    "\n",
    "    # Do simulation for all conditions.\n",
    "    Lineage = []\n",
    "    PS_score = []\n",
    "    for lineage_name, cell_idx in index_dictionary.items():\n",
    "        dev = Oracle_development_module()\n",
    "        # Load development flow\n",
    "        dev.load_differentiation_reference_data(gradient_object=gradient)\n",
    "        # Load simulation result\n",
    "        dev.load_perturb_simulation_data(\n",
    "            oracle_object=oracle, cell_idx_use=cell_idx, name=lineage_name, n_neighbors=n_neighbors\n",
    "        )\n",
    "        # Calculate inner product\n",
    "        dev.calculate_inner_product()\n",
    "        dev.calculate_digitized_ip(n_bins=10)\n",
    "\n",
    "        # Save results in a hdf5 file.\n",
    "        ps = dev.get_negative_PS_p_value(return_ps_sum=True, plot=False)[1]\n",
    "        ps = ps / ps_max\n",
    "        Lineage.append(lineage_name)\n",
    "        PS_score.append(ps)\n",
    "\n",
    "    df = pd.DataFrame({\"Lineage\": Lineage, \"PS_score\": PS_score})\n",
    "    df.index = Lineage\n",
    "\n",
    "    return df"
   ]
  },
  {
   "cell_type": "code",
   "execution_count": null,
   "id": "b82e7776",
   "metadata": {},
   "outputs": [],
   "source": [
    "def TFScanning_perturbation(adata, n_states, cluster_label, terminal_states, TF):\n",
    "    \"\"\"TODO.\"\"\"\n",
    "    coef = []\n",
    "    for tf in TF:\n",
    "        ## TODO: mask using dynamo\n",
    "        ## each time knock-out a TF\n",
    "        df = pipeline(tf)\n",
    "        coef.append(df.loc[:, \"PS_score\"])\n",
    "        logg.info(\"Done \" + tf)\n",
    "    d = {\"TF\": TF, \"coefficient\": coef}\n",
    "    # df = pd.DataFrame(data=d)\n",
    "    return d"
   ]
  },
  {
   "cell_type": "code",
   "execution_count": null,
   "id": "b16b62b2",
   "metadata": {},
   "outputs": [],
   "source": [
    "def Multiple_TFScanning_perturbation(data, n_states, cluster_label, terminal_states, TF_pair):\n",
    "    \"\"\"TODO.\"\"\"\n",
    "    coef = []\n",
    "    for tf in TF_pair:\n",
    "        ## TODO: mask using dynamo\n",
    "        ## each time knock-out a TF\n",
    "        df = pipeline2(tf)\n",
    "        coef.append(df.loc[:, \"PS_score\"])\n",
    "        logg.info(\"Done \" + combine_elements([tf])[0])\n",
    "    d = {\"TF\": combine_elements(TF_pair), \"coefficient\": coef}\n",
    "    # df = pd.DataFrame(data=d)\n",
    "    return d"
   ]
  },
  {
   "cell_type": "code",
   "execution_count": null,
   "id": "3a08813a",
   "metadata": {},
   "outputs": [],
   "source": [
    "def get_list_name(lst):\n",
    "    \"\"\"TODO.\"\"\"\n",
    "    names = []\n",
    "    for name, _ in lst.items():\n",
    "        names.append(name)\n",
    "    return names"
   ]
  },
  {
   "cell_type": "markdown",
   "id": "272c21f6-7c70-4571-928f-e5f6f9f15839",
   "metadata": {},
   "source": [
    "## Constants"
   ]
  },
  {
   "cell_type": "code",
   "execution_count": null,
   "id": "c9ea6433-94cd-4d28-a6df-7f50bed828f8",
   "metadata": {},
   "outputs": [],
   "source": [
    "DATASET = \"zebrafish\""
   ]
  },
  {
   "cell_type": "code",
   "execution_count": null,
   "id": "859fb4e6-06de-4f31-8b2d-f0ae4d22d253",
   "metadata": {},
   "outputs": [],
   "source": [
    "SAVE_DATA = True\n",
    "if SAVE_DATA:\n",
    "    (DATA_DIR / DATASET / \"results\").mkdir(parents=True, exist_ok=True)"
   ]
  },
  {
   "cell_type": "markdown",
   "id": "7b7fa245-4a16-4d6b-b165-b402020c2679",
   "metadata": {},
   "source": [
    "## Data loading"
   ]
  },
  {
   "cell_type": "code",
   "execution_count": null,
   "id": "421a94a3-7c7b-437a-8cb3-60558e5f00a5",
   "metadata": {},
   "outputs": [],
   "source": [
    "adata = sc.read_h5ad(DATA_DIR / DATASET / \"raw\" / \"adata_zebrafish_preprocessed.h5ad\")"
   ]
  },
  {
   "cell_type": "code",
   "execution_count": null,
   "id": "5e572040-4f2b-4fd3-8bf8-de8aa5b47343",
   "metadata": {},
   "outputs": [],
   "source": [
    "df = pd.read_csv(DATA_DIR / DATASET / \"raw\" / \"eRegulon_metadata_all.csv\", index_col=0)"
   ]
  },
  {
   "cell_type": "markdown",
   "id": "39587625-54df-4cd4-a06c-06cd91c373a3",
   "metadata": {},
   "source": [
    "## Data processing"
   ]
  },
  {
   "cell_type": "code",
   "execution_count": null,
   "id": "b5138d2b-0213-427e-949b-c8217a17ccc4",
   "metadata": {},
   "outputs": [],
   "source": [
    "df.loc[:, \"Target\"] = [f\"{a}*{b}\" for a, b in zip(df.loc[:, \"Region\"].tolist(), df.loc[:, \"Gene\"].tolist())]\n",
    "df = df.loc[:, [\"TF\", \"Gene\", \"Target\"]]\n",
    "\n",
    "regulators = df[\"TF\"].unique()\n",
    "targets = df[\"Target\"].unique()\n",
    "\n",
    "# Create an empty binary matrix\n",
    "binary_matrix = pd.DataFrame(0, columns=regulators, index=targets)\n",
    "\n",
    "# Fill the binary matrix based on the relationships in the CSV file\n",
    "for _, row in df.iterrows():\n",
    "    binary_matrix.at[row[\"Target\"], row[\"TF\"]] = 1\n",
    "\n",
    "original_list = binary_matrix.index.tolist()\n",
    "peak = [item.split(\"*\")[0] for item in original_list]\n",
    "target = [item.split(\"*\")[1] for item in original_list]\n",
    "\n",
    "binary_matrix.loc[:, \"peak_id\"] = peak\n",
    "binary_matrix.loc[:, \"gene_short_name\"] = target\n",
    "\n",
    "binary_matrix = binary_matrix[\n",
    "    [\"peak_id\", \"gene_short_name\"] + [col for col in binary_matrix if col not in [\"peak_id\", \"gene_short_name\"]]\n",
    "]\n",
    "binary_matrix = binary_matrix.reset_index(drop=True)"
   ]
  },
  {
   "cell_type": "code",
   "execution_count": null,
   "id": "75c47882-74cc-42e0-89f1-ce01eff75f57",
   "metadata": {},
   "outputs": [],
   "source": [
    "scv.pp.moments(adata, n_pcs=50, n_neighbors=30)"
   ]
  },
  {
   "cell_type": "markdown",
   "id": "209e347b",
   "metadata": {},
   "source": [
    "## CellOracle pipeline"
   ]
  },
  {
   "cell_type": "code",
   "execution_count": null,
   "id": "ffe27632-c80d-4e8f-a804-6a810e1d940d",
   "metadata": {},
   "outputs": [],
   "source": [
    "adata.X = adata.layers[\"matrix\"].copy()\n",
    "oracle = co.Oracle()\n",
    "oracle.import_anndata_as_raw_count(adata=adata, cluster_column_name=\"cell_type\", embedding_name=\"X_umap\")\n",
    "\n",
    "oracle.import_TF_data(TF_info_matrix=binary_matrix)"
   ]
  },
  {
   "cell_type": "code",
   "execution_count": null,
   "id": "b683c915-af38-43ef-b465-68d23b72c8ce",
   "metadata": {},
   "outputs": [],
   "source": [
    "oracle.perform_PCA()"
   ]
  },
  {
   "cell_type": "code",
   "execution_count": null,
   "id": "e89b82a7-46b9-4822-bc03-91a719792f1e",
   "metadata": {},
   "outputs": [],
   "source": [
    "n_comps = np.where(np.diff(np.diff(np.cumsum(oracle.pca.explained_variance_ratio_)) > 0.002))[0][0]"
   ]
  },
  {
   "cell_type": "code",
   "execution_count": null,
   "id": "43c30396-60ab-401d-a1db-97e6eafd4530",
   "metadata": {},
   "outputs": [],
   "source": [
    "n_comps = min(n_comps, 50)"
   ]
  },
  {
   "cell_type": "code",
   "execution_count": null,
   "id": "36d20865-1a3a-4236-9b39-2fa682f770ee",
   "metadata": {},
   "outputs": [],
   "source": [
    "n_cell = oracle.adata.shape[0]\n",
    "print(f\"cell number is :{n_cell}\")\n",
    "\n",
    "k = int(0.025 * n_cell)\n",
    "print(f\"Auto-selected k is :{k}\")"
   ]
  },
  {
   "cell_type": "code",
   "execution_count": null,
   "id": "36ab7179-802f-4f6c-9b77-2aa04f80df45",
   "metadata": {},
   "outputs": [],
   "source": [
    "oracle.knn_imputation(n_pca_dims=n_comps, k=k, balanced=True, b_sight=k * 8, b_maxl=k * 4, n_jobs=4)"
   ]
  },
  {
   "cell_type": "code",
   "execution_count": null,
   "id": "179c99f0-09f4-45f2-ab24-b47b3e88430d",
   "metadata": {},
   "outputs": [],
   "source": [
    "links = oracle.get_links(cluster_name_for_GRN_unit=\"cell_type\", alpha=10, verbose_level=10)"
   ]
  },
  {
   "cell_type": "code",
   "execution_count": null,
   "id": "e13a6e9e-a8fe-4c09-8da1-ae4698923546",
   "metadata": {},
   "outputs": [],
   "source": [
    "links.filter_links(p=0.001, weight=\"coef_abs\", threshold_number=2000)\n",
    "links.get_network_score()"
   ]
  },
  {
   "cell_type": "code",
   "execution_count": null,
   "id": "1972f50b-166b-4725-b659-9bdb473b8779",
   "metadata": {},
   "outputs": [],
   "source": [
    "links.filter_links()\n",
    "oracle.get_cluster_specific_TFdict_from_Links(links_object=links)\n",
    "oracle.fit_GRN_for_simulation(alpha=10, use_cluster_specific_TFdict=True)"
   ]
  },
  {
   "cell_type": "markdown",
   "id": "d616d958-b32e-4830-8df8-11d89cc38ccd",
   "metadata": {},
   "source": [
    "### Reference vector field definition"
   ]
  },
  {
   "cell_type": "code",
   "execution_count": null,
   "id": "5af2368a-f189-4965-89d5-f2a3258ff2de",
   "metadata": {},
   "outputs": [],
   "source": [
    "## calculate pseudotime\n",
    "scv.tl.recover_dynamics(adata, var_names=adata.var_names, n_jobs=4)\n",
    "scv.tl.velocity(adata, mode=\"dynamical\")\n",
    "scv.tl.latent_time(adata, min_likelihood=None)"
   ]
  },
  {
   "cell_type": "code",
   "execution_count": null,
   "id": "a217a786-033c-453a-b142-678208b97b17",
   "metadata": {},
   "outputs": [],
   "source": [
    "## use the velocity latent time inferred by scVelo to create gradient field\n",
    "n_grid = 40\n",
    "min_mass = 1.5\n",
    "oracle.adata.obs[\"Pseudotime\"] = adata.obs[\"latent_time\"].copy()\n",
    "gradient = Gradient_calculator(oracle_object=oracle, pseudotime_key=\"Pseudotime\")\n",
    "gradient.calculate_p_mass(smooth=0.8, n_grid=n_grid, n_neighbors=30)\n",
    "gradient.calculate_mass_filter(min_mass=min_mass, plot=True)\n",
    "gradient.transfer_data_into_grid(args={\"method\": \"polynomial\", \"n_poly\": 3}, plot=True)\n",
    "gradient.calculate_gradient()"
   ]
  },
  {
   "cell_type": "code",
   "execution_count": null,
   "id": "9c019730-9d78-41d0-b96e-33c0fce86d0d",
   "metadata": {},
   "outputs": [],
   "source": [
    "scale_dev = 40\n",
    "gradient.visualize_results(scale=scale_dev, s=5)"
   ]
  },
  {
   "cell_type": "code",
   "execution_count": null,
   "id": "c9d81d1d-8f49-408b-b66b-e7d3aa2dfd1a",
   "metadata": {},
   "outputs": [],
   "source": [
    "cell_idx_pigment = np.where(oracle.adata.obs[\"cell_type\"].isin([\"Pigment\"]))[0]\n",
    "\n",
    "cell_idx_hox34 = np.where(oracle.adata.obs[\"cell_type\"].isin([\"mNC_hox34\"]))[0]\n",
    "\n",
    "cell_idx_arch2 = np.where(oracle.adata.obs[\"cell_type\"].isin([\"mNC_arch2\"]))[0]\n",
    "\n",
    "cell_idx_mesenchymal = np.where(oracle.adata.obs[\"cell_type\"].isin([\"mNC_head_mesenchymal\"]))[0]"
   ]
  },
  {
   "cell_type": "code",
   "execution_count": null,
   "id": "9276a5c7-cebc-4921-9ae7-855a6223e17f",
   "metadata": {},
   "outputs": [],
   "source": [
    "index_dictionary = {\n",
    "    \"Pigment\": cell_idx_pigment,\n",
    "    \"mNC_hox34\": cell_idx_hox34,\n",
    "    \"mNC_arch2\": cell_idx_arch2,\n",
    "    \"mNC_head_mesenchymal\": cell_idx_mesenchymal,\n",
    "}"
   ]
  },
  {
   "cell_type": "markdown",
   "id": "92379ece-eb9a-4f81-a647-dc9018974918",
   "metadata": {},
   "source": [
    "## Perturbation prediction"
   ]
  },
  {
   "cell_type": "markdown",
   "id": "540e2bb7-dad1-47c1-814a-cb773f3efcce",
   "metadata": {},
   "source": [
    "#### single knock-out"
   ]
  },
  {
   "cell_type": "code",
   "execution_count": null,
   "id": "4d35e484-d712-4a81-a45c-ba0bb1565b54",
   "metadata": {},
   "outputs": [],
   "source": [
    "n_propagation = 3\n",
    "n_neighbors = 30\n",
    "\n",
    "gene_list = [\"elk3\", \"erf\", \"fli1a\", \"mitfa\", \"nr2f5\", \"rarga\", \"rxraa\", \"smarcc1a\", \"tfec\", \"nr2f2\"]\n",
    "\n",
    "terminal_states = [\n",
    "    \"mNC_head_mesenchymal\",\n",
    "    \"mNC_arch2\",\n",
    "    \"mNC_hox34\",\n",
    "    \"Pigment\",\n",
    "]"
   ]
  },
  {
   "cell_type": "code",
   "execution_count": null,
   "id": "b695a8d7-c989-4e1f-b57a-685abd82f87c",
   "metadata": {},
   "outputs": [],
   "source": [
    "gene_list = set(gene_list).intersection(adata.var_names)\n",
    "gene_list = list(gene_list)"
   ]
  },
  {
   "cell_type": "code",
   "execution_count": null,
   "id": "4c30f3c5-6c47-48e2-8174-24ddefea6dc3",
   "metadata": {},
   "outputs": [],
   "source": [
    "## celloracle perturbation\n",
    "d = TFScanning_perturbation(adata, 8, \"cell_type\", terminal_states, gene_list)"
   ]
  },
  {
   "cell_type": "code",
   "execution_count": null,
   "id": "d105c2e9-a352-45d9-9ad1-566a4dc0b814",
   "metadata": {},
   "outputs": [],
   "source": [
    "coef = pd.DataFrame(np.array(d[\"coefficient\"]))\n",
    "coef.index = d[\"TF\"]\n",
    "coef.columns = get_list_name(d[\"coefficient\"][0])"
   ]
  },
  {
   "cell_type": "markdown",
   "id": "c740a499-e883-4725-9834-a94b5c5dbef7",
   "metadata": {},
   "source": [
    "#### double knock-out"
   ]
  },
  {
   "cell_type": "code",
   "execution_count": null,
   "id": "188f94d8-d6b3-4009-aab3-2674d970a66a",
   "metadata": {},
   "outputs": [],
   "source": [
    "multiple_ko = [\"fli1a_elk3\", \"mitfa_tfec\", \"tfec_mitfa_bhlhe40\", \"fli1a_erf_erfl3\", \"erf_erfl3\"]\n",
    "multiple_ko_list = split_elements(multiple_ko)"
   ]
  },
  {
   "cell_type": "code",
   "execution_count": null,
   "id": "c8285de5-792f-4fdd-ba6e-83a6a562b886",
   "metadata": {},
   "outputs": [],
   "source": [
    "d = Multiple_TFScanning_perturbation(adata, 8, \"cell_type\", terminal_states, multiple_ko_list)"
   ]
  },
  {
   "cell_type": "code",
   "execution_count": null,
   "id": "f63154c6-4f2f-49be-acda-0bed22d60af4",
   "metadata": {},
   "outputs": [],
   "source": [
    "coef_multiple = pd.DataFrame(np.array(d[\"coefficient\"]))\n",
    "coef_multiple.index = d[\"TF\"]\n",
    "coef_multiple.columns = get_list_name(d[\"coefficient\"][0])"
   ]
  },
  {
   "cell_type": "code",
   "execution_count": null,
   "id": "db855a07-8e42-4f3b-9ef1-4c8c6ed91c6e",
   "metadata": {},
   "outputs": [],
   "source": [
    "if SAVE_DATA:\n",
    "    coef.to_csv(DATA_DIR / DATASET / \"results\" / \"celloracle_perturb_single.csv\")\n",
    "    coef_multiple.to_csv(DATA_DIR / DATASET / \"results\" / \"celloracle_perturb_multiple.csv\")"
   ]
  }
 ],
 "metadata": {
  "kernelspec": {
   "display_name": "Python [conda env:dynamo]",
   "language": "python",
   "name": "conda-env-dynamo-py"
  },
  "language_info": {
   "codemirror_mode": {
    "name": "ipython",
    "version": 3
   },
   "file_extension": ".py",
   "mimetype": "text/x-python",
   "name": "python",
   "nbconvert_exporter": "python",
   "pygments_lexer": "ipython3",
   "version": "3.10.12"
  }
 },
 "nbformat": 4,
 "nbformat_minor": 5
}
