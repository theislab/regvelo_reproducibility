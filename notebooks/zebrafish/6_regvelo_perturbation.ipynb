{
 "cells": [
  {
   "cell_type": "markdown",
   "id": "50f594c8-8131-4872-a0ed-cc013c35e7ee",
   "metadata": {},
   "source": [
    "# Using RegVelo to predict perturbation"
   ]
  },
  {
   "cell_type": "markdown",
   "id": "245040c1-5132-41bf-9236-82fef25a2615",
   "metadata": {},
   "source": [
    "## Library imports"
   ]
  },
  {
   "cell_type": "code",
   "execution_count": null,
   "id": "1ac6eb25-ff9c-4d35-808d-bdacf5ad3e41",
   "metadata": {},
   "outputs": [],
   "source": [
    "import numpy as np\n",
    "import pandas as pd\n",
    "\n",
    "import scanpy as sc\n",
    "\n",
    "from rgv_tools import DATA_DIR\n",
    "from rgv_tools.perturbation import (\n",
    "    get_list_name,\n",
    "    Multiple_TFScanning,\n",
    "    split_elements,\n",
    "    TFScanning,\n",
    ")"
   ]
  },
  {
   "cell_type": "markdown",
   "id": "d4f6f0d5-8b62-427d-829c-f4e51bacf77d",
   "metadata": {},
   "source": [
    "## Constants"
   ]
  },
  {
   "cell_type": "code",
   "execution_count": null,
   "id": "0bcd0f7f-842c-4f01-b544-10937079f7cf",
   "metadata": {},
   "outputs": [],
   "source": [
    "DATASET = \"zebrafish\""
   ]
  },
  {
   "cell_type": "code",
   "execution_count": null,
   "id": "8410c194-755d-4e5b-bad5-81773bd021e6",
   "metadata": {},
   "outputs": [],
   "source": [
    "SAVE_DATA = True\n",
    "if SAVE_DATA:\n",
    "    (DATA_DIR / DATASET / \"results\").mkdir(parents=True, exist_ok=True)"
   ]
  },
  {
   "cell_type": "markdown",
   "id": "c1986bdb-e3d6-4d1a-89fd-9a4462836b17",
   "metadata": {},
   "source": [
    "## Data loading"
   ]
  },
  {
   "cell_type": "code",
   "execution_count": null,
   "id": "e2071701-0bc7-4771-92db-943732c90ed7",
   "metadata": {},
   "outputs": [],
   "source": [
    "adata = sc.read_h5ad(DATA_DIR / DATASET / \"processed\" / \"adata_preprocessed.h5ad\")"
   ]
  },
  {
   "cell_type": "markdown",
   "id": "937d6e92-d91c-4a8a-b064-ead484f773cf",
   "metadata": {},
   "source": [
    "## Perturbation prediction (single)"
   ]
  },
  {
   "cell_type": "code",
   "execution_count": null,
   "id": "e8e686dd-c165-4255-8057-e32ab14680c1",
   "metadata": {},
   "outputs": [],
   "source": [
    "terminal_states = [\n",
    "    \"mNC_head_mesenchymal\",\n",
    "    \"mNC_arch2\",\n",
    "    \"mNC_hox34\",\n",
    "    \"Pigment\",\n",
    "]\n",
    "\n",
    "gene_list = [\"elk3\", \"erf\", \"etv2\", \"fli1a\", \"mitfa\", \"nr2f5\", \"rarga\", \"rxraa\", \"smarcc1a\", \"tfec\", \"nr2f2\"]\n",
    "gene_list = set(gene_list).intersection(adata.var_names)\n",
    "gene_list = list(gene_list)"
   ]
  },
  {
   "cell_type": "code",
   "execution_count": null,
   "id": "76742778-eab2-413b-be24-05d88b0b0a32",
   "metadata": {},
   "outputs": [],
   "source": [
    "for nrun in range(3):\n",
    "    model_name = \"rgv_model_\" + str(nrun)\n",
    "    coef_name = \"coef_single_regvelo_\" + str(nrun)\n",
    "    pval_name = \"pval_single_regvelo_\" + str(nrun)\n",
    "\n",
    "    model = DATA_DIR / DATASET / \"processed\" / \"perturb_repeat_runs\" / model_name\n",
    "    coef_save = DATA_DIR / DATASET / \"results\" / coef_name\n",
    "    pval_save = DATA_DIR / DATASET / \"results\" / pval_name\n",
    "\n",
    "    ## Perturbation\n",
    "    d = TFScanning(model, adata, 8, \"cell_type\", terminal_states, gene_list, 0)\n",
    "\n",
    "    coef = pd.DataFrame(np.array(d[\"coefficient\"]))\n",
    "    coef.index = d[\"TF\"]\n",
    "    coef.columns = get_list_name(d[\"coefficient\"][0])\n",
    "    pval = pd.DataFrame(np.array(d[\"pvalue\"]))\n",
    "    pval.index = d[\"TF\"]\n",
    "    pval.columns = get_list_name(d[\"pvalue\"][0])\n",
    "    coef = coef.loc[gene_list, :]\n",
    "\n",
    "    coef.to_csv(coef_save)\n",
    "    pval.to_csv(pval_save)"
   ]
  },
  {
   "cell_type": "markdown",
   "id": "bbc5bf79-7227-4f1f-a822-88ea51c26f2b",
   "metadata": {},
   "source": [
    "## Perturbation prediction (Multiple)"
   ]
  },
  {
   "cell_type": "code",
   "execution_count": null,
   "id": "d5fd1df4-6e97-422b-8ebd-e1d1d12eb6ee",
   "metadata": {},
   "outputs": [],
   "source": [
    "multiple_ko = [\"fli1a_elk3\", \"mitfa_tfec\", \"tfec_mitfa_bhlhe40\", \"fli1a_erf_erfl3\", \"erf_erfl3\"]\n",
    "multiple_ko_list = split_elements(multiple_ko)"
   ]
  },
  {
   "cell_type": "code",
   "execution_count": null,
   "id": "b5588850-84c3-4d03-9d56-6ae5a47fb880",
   "metadata": {},
   "outputs": [],
   "source": [
    "for nrun in [0, 1, 2]:\n",
    "    model_name = \"rgv_model_\" + str(nrun)\n",
    "    coef_name = \"coef_multiple_regvelo_\" + str(nrun)\n",
    "    pval_name = \"pval_multiple_regvelo_\" + str(nrun)\n",
    "\n",
    "    model = DATA_DIR / DATASET / \"processed\" / \"perturb_repeat_runs\" / model_name\n",
    "    coef_save = DATA_DIR / DATASET / \"results\" / coef_name\n",
    "    pval_save = DATA_DIR / DATASET / \"results\" / pval_name\n",
    "\n",
    "    ## Perturbatiom\n",
    "    d = Multiple_TFScanning(model, adata, 8, \"cell_type\", terminal_states, multiple_ko_list, 0)\n",
    "    coef = pd.DataFrame(np.array(d[\"coefficient\"]))\n",
    "    coef.index = d[\"TF\"]\n",
    "    coef.columns = get_list_name(d[\"coefficient\"][0])\n",
    "    pval = pd.DataFrame(np.array(d[\"pvalue\"]))\n",
    "    pval.index = d[\"TF\"]\n",
    "    pval.columns = get_list_name(d[\"pvalue\"][0])\n",
    "\n",
    "    coef.to_csv(coef_save)\n",
    "    pval.to_csv(pval_save)"
   ]
  }
 ],
 "metadata": {
  "kernelspec": {
   "display_name": "Python [conda env:regvelo_test]",
   "language": "python",
   "name": "conda-env-regvelo_test-py"
  },
  "language_info": {
   "codemirror_mode": {
    "name": "ipython",
    "version": 3
   },
   "file_extension": ".py",
   "mimetype": "text/x-python",
   "name": "python",
   "nbconvert_exporter": "python",
   "pygments_lexer": "ipython3",
   "version": "3.10.15"
  }
 },
 "nbformat": 4,
 "nbformat_minor": 5
}
