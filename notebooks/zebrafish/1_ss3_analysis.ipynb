{
 "cells": [
  {
   "cell_type": "markdown",
   "id": "3bafd545-6444-45d8-9a65-755338bf08ec",
   "metadata": {},
   "source": [
    "# Basic preprocessing and analysis of the zebrafish data\n",
    "\n",
    "Notebook preprocesses the zebrafish Smart-seq3 dataset."
   ]
  },
  {
   "cell_type": "markdown",
   "id": "8d2b933e-27fe-4ed7-8583-abcbea9504b7",
   "metadata": {},
   "source": [
    "## Library imports"
   ]
  },
  {
   "cell_type": "code",
   "execution_count": null,
   "id": "f51fa662-628e-4722-b351-7b2027644668",
   "metadata": {},
   "outputs": [],
   "source": [
    "import numpy as np\n",
    "import pandas as pd\n",
    "\n",
    "import matplotlib.pyplot as plt\n",
    "import mplscience\n",
    "import seaborn as sns\n",
    "\n",
    "import scanpy as sc\n",
    "import scvelo as scv\n",
    "from velovi import preprocess_data\n",
    "\n",
    "from rgv_tools import DATA_DIR, FIG_DIR\n",
    "from rgv_tools.preprocessing import (\n",
    "    filter_genes_with_upstream_regulators,\n",
    "    prior_GRN_import,\n",
    ")"
   ]
  },
  {
   "cell_type": "markdown",
   "id": "191a3497-76c4-48c9-b37b-39a7959f738f",
   "metadata": {},
   "source": [
    "## General settings"
   ]
  },
  {
   "cell_type": "code",
   "execution_count": null,
   "id": "7ac4a4e2-e384-422f-973c-ad064bac0eb4",
   "metadata": {},
   "outputs": [],
   "source": [
    "plt.rcParams[\"svg.fonttype\"] = \"none\"\n",
    "sns.reset_defaults()\n",
    "sns.reset_orig()\n",
    "scv.settings.set_figure_params(\"scvelo\", dpi_save=400, dpi=80, transparent=True, fontsize=14, color_map=\"viridis\")"
   ]
  },
  {
   "cell_type": "markdown",
   "id": "2506f0cf-6271-4962-824b-79a0f01491fe",
   "metadata": {},
   "source": [
    "## Constants"
   ]
  },
  {
   "cell_type": "code",
   "execution_count": null,
   "id": "6d345904",
   "metadata": {},
   "outputs": [],
   "source": [
    "DATASET = \"zebrafish\""
   ]
  },
  {
   "cell_type": "code",
   "execution_count": null,
   "id": "105ef4af",
   "metadata": {},
   "outputs": [],
   "source": [
    "SAVE_DATA = True\n",
    "if SAVE_DATA:\n",
    "    (DATA_DIR / DATASET / \"processed\").mkdir(parents=True, exist_ok=True)"
   ]
  },
  {
   "cell_type": "code",
   "execution_count": null,
   "id": "26faa5e6-01be-41a2-9f73-26cb4e1c4784",
   "metadata": {},
   "outputs": [],
   "source": [
    "SAVE_FIGURES = False\n",
    "if SAVE_FIGURES:\n",
    "    (FIG_DIR / DATASET).mkdir(parents=True, exist_ok=True)"
   ]
  },
  {
   "cell_type": "markdown",
   "id": "09ddc7b5-c9d6-4c0b-bcfc-e6f12accdeb6",
   "metadata": {},
   "source": [
    "## Data loading"
   ]
  },
  {
   "cell_type": "code",
   "execution_count": null,
   "id": "6b2929b6-3fe7-4e83-9848-23afe99788e1",
   "metadata": {},
   "outputs": [],
   "source": [
    "adata = sc.read_h5ad(DATA_DIR / DATASET / \"raw\" / \"adata_zebrafish_preprocessed.h5ad\")\n",
    "TF_list = pd.read_csv(DATA_DIR / DATASET / \"raw\" / \"zebrafish_tfs.csv\", index_col=0).iloc[:, 0].tolist()\n",
    "prior_net = pd.read_csv(DATA_DIR / DATASET / \"raw\" / \"prior_GRN.csv\", index_col=0)"
   ]
  },
  {
   "cell_type": "code",
   "execution_count": null,
   "id": "dc8106c0-f3a8-480a-8d89-e09fa58f80c2",
   "metadata": {},
   "outputs": [],
   "source": [
    "## Only keep necessary list\n",
    "keep_list = pd.read_csv(DATA_DIR / DATASET / \"raw\" / \"new_tf.csv\", sep=\";\").iloc[:, 0].tolist()"
   ]
  },
  {
   "cell_type": "code",
   "execution_count": null,
   "id": "f788ab4a-861b-4c51-830c-414dcbf80420",
   "metadata": {},
   "outputs": [],
   "source": [
    "sc.pp.neighbors(adata, n_neighbors=30, n_pcs=50)\n",
    "scv.pp.moments(adata)"
   ]
  },
  {
   "cell_type": "code",
   "execution_count": null,
   "id": "e0c31301-7315-483c-8322-6c6a2fccdad6",
   "metadata": {},
   "outputs": [],
   "source": [
    "scv.pl.umap(adata, color=\"cell_type\", palette=sc.pl.palettes.vega_20, legend_loc=\"right\")"
   ]
  },
  {
   "cell_type": "markdown",
   "id": "e527321b-422b-4ede-b4a9-33d6a974b0d5",
   "metadata": {},
   "source": [
    "## Visualize results"
   ]
  },
  {
   "cell_type": "code",
   "execution_count": null,
   "id": "a190574a-6a84-4b20-add8-01b433d09b13",
   "metadata": {},
   "outputs": [],
   "source": [
    "with mplscience.style_context():\n",
    "    fig, ax = plt.subplots(figsize=(7, 5))\n",
    "    scv.pl.umap(adata, color=\"cell_type\", ax=ax, palette=sc.pl.palettes.vega_20)\n",
    "\n",
    "    if SAVE_FIGURES:\n",
    "        fig.savefig(FIG_DIR / DATASET / \"INTRO_figure_all_ct.svg\", format=\"svg\", transparent=True, bbox_inches=\"tight\")\n",
    "    plt.show"
   ]
  },
  {
   "cell_type": "markdown",
   "id": "81ccc13c-5d39-46e7-9b93-e1f6a893d00a",
   "metadata": {},
   "source": [
    "## Visualize known terminal states"
   ]
  },
  {
   "cell_type": "code",
   "execution_count": null,
   "id": "fbd1ed9f-2715-4991-bcbf-936d157e2a85",
   "metadata": {},
   "outputs": [],
   "source": [
    "adata.obs[\"cell_type2\"] = adata.obs[\"cell_type\"].copy()\n",
    "adata.obs[\"cell_type2\"][\n",
    "    ~adata.obs[\"cell_type2\"].isin([\"NPB_nohox\", \"mNC_hox34\", \"Pigment\", \"mNC_head_mesenchymal\", \"mNC_arch2\"])\n",
    "] = np.nan"
   ]
  },
  {
   "cell_type": "code",
   "execution_count": null,
   "id": "68d9393c-7f55-4d14-b758-7b7d05ee537b",
   "metadata": {},
   "outputs": [],
   "source": [
    "adata.obs[\"cell_type2\"] = adata.obs[\"cell_type2\"].cat.remove_unused_categories()"
   ]
  },
  {
   "cell_type": "code",
   "execution_count": null,
   "id": "b393a258-a191-41a3-be22-dca1a1cada95",
   "metadata": {},
   "outputs": [],
   "source": [
    "palette = dict(zip(adata.obs[\"cell_type\"].cat.categories, adata.uns[\"cell_type_colors\"]))\n",
    "subset_palette = {\n",
    "    name: color for name, color in palette.items() if name in adata.obs[\"cell_type2\"].cat.categories.tolist()\n",
    "}"
   ]
  },
  {
   "cell_type": "code",
   "execution_count": null,
   "id": "8c291e39-f4a1-40f8-b74b-e534755c0e91",
   "metadata": {},
   "outputs": [],
   "source": [
    "which = \"macrostates\"\n",
    "adata.obs[which] = adata.obs[\"cell_type2\"].copy()\n",
    "\n",
    "state_names = adata.obs[which].cat.categories.tolist()\n",
    "adata.obs[which] = adata.obs[which].astype(str).astype(\"category\").cat.reorder_categories([\"nan\"] + state_names)\n",
    "\n",
    "if which == \"macrostates\":\n",
    "    adata.uns[f\"{which}_colors\"] = [\"#dedede\"] + list(subset_palette.values())\n",
    "else:\n",
    "    adata.uns[f\"{which}_colors\"] = [\"#dedede\"] + list(subset_palette.values())\n",
    "state_names = adata.obs[which].cat.categories.tolist()[1:]\n",
    "\n",
    "\n",
    "with mplscience.style_context():\n",
    "    fig, ax = plt.subplots(figsize=(4, 3))\n",
    "    scv.pl.scatter(\n",
    "        adata,\n",
    "        basis=\"umap\",\n",
    "        c=which,\n",
    "        add_outline=state_names,\n",
    "        ax=ax,\n",
    "        size=60,\n",
    "    )\n",
    "\n",
    "    if SAVE_FIGURES:\n",
    "        fig.savefig(FIG_DIR / DATASET / \"INTRO_figure.svg\", format=\"svg\", transparent=True, bbox_inches=\"tight\")\n",
    "    plt.show()"
   ]
  },
  {
   "cell_type": "markdown",
   "id": "1dcf67cc-0948-48c5-9b06-ce7e5a7d9036",
   "metadata": {},
   "source": [
    "## Preprocessing"
   ]
  },
  {
   "cell_type": "code",
   "execution_count": null,
   "id": "2ebb7857-0681-49c6-afa2-bfa8e00679ae",
   "metadata": {},
   "outputs": [],
   "source": [
    "adata = prior_GRN_import(adata, prior_net).copy()"
   ]
  },
  {
   "cell_type": "code",
   "execution_count": null,
   "id": "7b55bd43-2a0c-410e-a78f-51b4c589e461",
   "metadata": {},
   "outputs": [],
   "source": [
    "adata_raw = adata.copy()"
   ]
  },
  {
   "cell_type": "code",
   "execution_count": null,
   "id": "28adb7e1-09a8-4d8a-a9e4-dfe2cc028963",
   "metadata": {},
   "outputs": [],
   "source": [
    "## velocity_r2 positive genes\n",
    "adata = preprocess_data(adata, filter_on_r2=True)\n",
    "adata = filter_genes_with_upstream_regulators(adata)\n",
    "\n",
    "## Filtering genes, only keep velocity_r2 positive genes and TFs\n",
    "gene_list = np.unique(keep_list + adata.var_names.tolist())\n",
    "gene_list = set(gene_list).intersection(adata_raw.var_names)\n",
    "gene_list = list(gene_list)"
   ]
  },
  {
   "cell_type": "code",
   "execution_count": null,
   "id": "d907ac18-ed1d-4342-9d4d-ba575d6e05bc",
   "metadata": {},
   "outputs": [],
   "source": [
    "adata = adata_raw[:, gene_list].copy()\n",
    "scv.tl.velocity(adata)\n",
    "adata = filter_genes_with_upstream_regulators(adata)\n",
    "adata = preprocess_data(adata, filter_on_r2=False)"
   ]
  },
  {
   "cell_type": "code",
   "execution_count": null,
   "id": "a6d506f9-8543-4681-932f-0ed8da74eb33",
   "metadata": {},
   "outputs": [],
   "source": [
    "TF_list = set(TF_list).intersection(adata.var_names)\n",
    "TF_list = list(TF_list)\n",
    "print(\"final number of TF: \" + str(len(TF_list)))"
   ]
  },
  {
   "cell_type": "code",
   "execution_count": null,
   "id": "9900904c-6105-43d0-89be-624643a9eaf0",
   "metadata": {},
   "outputs": [],
   "source": [
    "adata.var[\"TF\"] = np.isin(adata.var_names, TF_list)"
   ]
  },
  {
   "cell_type": "markdown",
   "id": "cb72161f-f44b-4241-b3d0-18cf8506372a",
   "metadata": {},
   "source": [
    "## Save dataset"
   ]
  },
  {
   "cell_type": "code",
   "execution_count": null,
   "id": "16d9c983-e632-4453-864e-77d872cdd095",
   "metadata": {},
   "outputs": [],
   "source": [
    "if SAVE_DATA:\n",
    "    adata.write_h5ad(DATA_DIR / DATASET / \"processed\" / \"adata_preprocessed.h5ad\")"
   ]
  }
 ],
 "metadata": {
  "kernelspec": {
   "display_name": "Python [conda env:regvelo_test]",
   "language": "python",
   "name": "conda-env-regvelo_test-py"
  },
  "language_info": {
   "codemirror_mode": {
    "name": "ipython",
    "version": 3
   },
   "file_extension": ".py",
   "mimetype": "text/x-python",
   "name": "python",
   "nbconvert_exporter": "python",
   "pygments_lexer": "ipython3",
   "version": "3.10.15"
  }
 },
 "nbformat": 4,
 "nbformat_minor": 5
}
