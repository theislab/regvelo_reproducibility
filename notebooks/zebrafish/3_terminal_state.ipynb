{
 "cells": [
  {
   "cell_type": "markdown",
   "id": "3ee3bd2a-db78-4ff6-ab8a-fadb9386352b",
   "metadata": {},
   "source": [
    "# Terminal state and latent time visualization"
   ]
  },
  {
   "cell_type": "markdown",
   "id": "1b918898",
   "metadata": {},
   "source": [
    "## Library imports"
   ]
  },
  {
   "cell_type": "code",
   "execution_count": null,
   "id": "2ab4234e",
   "metadata": {},
   "outputs": [],
   "source": [
    "import numpy as np\n",
    "import pandas as pd\n",
    "import scipy\n",
    "\n",
    "import matplotlib.pyplot as plt\n",
    "import mplscience\n",
    "import seaborn as sns\n",
    "\n",
    "import cellrank as cr\n",
    "import scanpy as sc\n",
    "\n",
    "from rgv_tools import DATA_DIR, FIG_DIR"
   ]
  },
  {
   "cell_type": "markdown",
   "id": "da545ae7-3031-4578-ac56-342c945184f3",
   "metadata": {
    "lines_to_next_cell": 2
   },
   "source": [
    "## Function definitions"
   ]
  },
  {
   "cell_type": "code",
   "execution_count": null,
   "id": "3d0e0689-de51-4622-9be8-867ff9d78d3a",
   "metadata": {},
   "outputs": [],
   "source": [
    "def min_max_scaling(data):\n",
    "    \"\"\"Compute min and max values for each feature.\"\"\"\n",
    "    min_vals = np.min(data, axis=0)\n",
    "    max_vals = np.max(data, axis=0)\n",
    "\n",
    "    # Perform min-max scaling\n",
    "    scaled_data = (data - min_vals) / (max_vals - min_vals)\n",
    "\n",
    "    return scaled_data"
   ]
  },
  {
   "cell_type": "markdown",
   "id": "bb71c947-3a93-47d6-8875-6969740a5a8c",
   "metadata": {},
   "source": [
    "## Constants"
   ]
  },
  {
   "cell_type": "code",
   "execution_count": null,
   "id": "5ee81d20",
   "metadata": {},
   "outputs": [],
   "source": [
    "DATASET = \"zebrafish\""
   ]
  },
  {
   "cell_type": "code",
   "execution_count": null,
   "id": "1af0b156-78a2-4dbd-abb5-da0ad7f8007e",
   "metadata": {},
   "outputs": [],
   "source": [
    "SAVE_DATA = True\n",
    "if SAVE_DATA:\n",
    "    (DATA_DIR / DATASET / \"processed\").mkdir(parents=True, exist_ok=True)"
   ]
  },
  {
   "cell_type": "code",
   "execution_count": null,
   "id": "2439d557",
   "metadata": {},
   "outputs": [],
   "source": [
    "SAVE_FIGURES = False\n",
    "if SAVE_FIGURES:\n",
    "    (FIG_DIR / DATASET).mkdir(parents=True, exist_ok=True)"
   ]
  },
  {
   "cell_type": "code",
   "execution_count": null,
   "id": "d04c5054",
   "metadata": {},
   "outputs": [],
   "source": [
    "TERMINAL_STATES = [\n",
    "    \"mNC_head_mesenchymal\",\n",
    "    \"mNC_arch2\",\n",
    "    \"mNC_hox34\",\n",
    "    \"Pigment\",\n",
    "]"
   ]
  },
  {
   "cell_type": "markdown",
   "id": "ba6e73ce-2e06-4a44-90b2-616f203300ba",
   "metadata": {},
   "source": [
    "## Data loading"
   ]
  },
  {
   "cell_type": "code",
   "execution_count": null,
   "id": "90d5b24c-2303-4d97-8bbd-7f8a3a964d30",
   "metadata": {},
   "outputs": [],
   "source": [
    "adata = sc.read_h5ad(DATA_DIR / DATASET / \"processed\" / \"adata_run_regvelo.h5ad\")"
   ]
  },
  {
   "cell_type": "markdown",
   "id": "8583da2f",
   "metadata": {},
   "source": [
    "## Data analysis"
   ]
  },
  {
   "cell_type": "markdown",
   "id": "af773017",
   "metadata": {},
   "source": [
    "### Latent time"
   ]
  },
  {
   "cell_type": "code",
   "execution_count": null,
   "id": "cd1689cd",
   "metadata": {},
   "outputs": [],
   "source": [
    "adata.obs[\"latent_time\"] = min_max_scaling(adata.layers[\"fit_t\"].mean(axis=1))"
   ]
  },
  {
   "cell_type": "code",
   "execution_count": null,
   "id": "bc9ba887-7093-4cba-8cd0-71d6445f7c01",
   "metadata": {},
   "outputs": [],
   "source": [
    "with mplscience.style_context():\n",
    "    fig, ax = plt.subplots(figsize=(5, 3.5))\n",
    "    sc.pl.umap(adata=adata, color=\"latent_time\", title=\"\", frameon=False, legend_fontsize=14, cmap=\"magma\", ax=ax)\n",
    "\n",
    "    if SAVE_FIGURES:\n",
    "        fig.savefig(FIG_DIR / DATASET / \"latent_time.svg\", format=\"svg\", transparent=True, bbox_inches=\"tight\")"
   ]
  },
  {
   "cell_type": "code",
   "execution_count": null,
   "id": "7d2b22b6-bf49-4b7e-b47a-649e1eef6d54",
   "metadata": {},
   "outputs": [],
   "source": [
    "df = pd.DataFrame({\"stage\": adata.obs[\"stage\"].tolist(), \"latent_time\": adata.obs[\"latent_time\"].tolist()})"
   ]
  },
  {
   "cell_type": "code",
   "execution_count": null,
   "id": "0da33374-be03-4217-a2e5-d6403f435418",
   "metadata": {},
   "outputs": [],
   "source": [
    "adata.obs[\"stage_num\"] = 0\n",
    "adata.obs[\"stage_num\"][adata.obs[\"stage\"].isin([\"3ss\"])] = 3\n",
    "adata.obs[\"stage_num\"][adata.obs[\"stage\"].isin([\"6-7ss\"])] = 6.5\n",
    "adata.obs[\"stage_num\"][adata.obs[\"stage\"].isin([\"10ss\"])] = 10\n",
    "adata.obs[\"stage_num\"][adata.obs[\"stage\"].isin([\"12-13ss\"])] = 12.5\n",
    "adata.obs[\"stage_num\"][adata.obs[\"stage\"].isin([\"17-18ss\"])] = 17.5\n",
    "adata.obs[\"stage_num\"][adata.obs[\"stage\"].isin([\"21-22ss\"])] = 21.5"
   ]
  },
  {
   "cell_type": "code",
   "execution_count": null,
   "id": "38fa8856-8a60-4cd5-9e1f-0cc67146f509",
   "metadata": {},
   "outputs": [],
   "source": [
    "scipy.stats.spearmanr(adata.obs[\"stage_num\"].tolist(), adata.obs[\"latent_time\"].tolist())"
   ]
  },
  {
   "cell_type": "code",
   "execution_count": null,
   "id": "98dc6419-136d-48f5-aab0-4d74e46c174a",
   "metadata": {},
   "outputs": [],
   "source": [
    "loc = [0, 1, 2, 3, 4, 5]\n",
    "label = [\"3\", \"6-7\", \"10\", \"12-13\", \"17-18\", \"21-22\"]\n",
    "\n",
    "with mplscience.style_context():\n",
    "    sns.set_style(style=\"whitegrid\")\n",
    "    fig, ax = plt.subplots(figsize=(6, 4))\n",
    "    order = [\"3ss\", \"6-7ss\", \"10ss\", \"12-13ss\", \"17-18ss\", \"21-22ss\"]\n",
    "    flierprops = {\"marker\": \"D\", \"markerfacecolor\": \"black\", \"markersize\": 3, \"linestyle\": \"none\"}\n",
    "    sns.boxplot(data=df, x=\"stage\", y=\"latent_time\", order=order, color=\"grey\", ax=ax, flierprops=flierprops)\n",
    "    # Set labels and title\n",
    "    plt.ylabel(\"Stage\", fontsize=16)\n",
    "    plt.xlabel(\"Estimated latent time\", fontsize=16)\n",
    "\n",
    "    plt.xticks(ticks=loc, labels=label)  # Replace ticks with new labels\n",
    "    plt.xticks(fontsize=16)\n",
    "    plt.yticks(fontsize=16)\n",
    "\n",
    "    plt.show()\n",
    "\n",
    "    if SAVE_FIGURES:\n",
    "        fig.savefig(FIG_DIR / DATASET / \"latent_time_boxplot.svg\", format=\"svg\", transparent=True, bbox_inches=\"tight\")\n",
    "    plt.show()"
   ]
  },
  {
   "cell_type": "markdown",
   "id": "39c59193-5a87-4b60-a7a6-2d755be2f5de",
   "metadata": {},
   "source": [
    "### CellRank pipeline"
   ]
  },
  {
   "cell_type": "code",
   "execution_count": null,
   "id": "1eb0e447-45ec-4e79-b462-cf95c0c5530a",
   "metadata": {},
   "outputs": [],
   "source": [
    "## compute cellrank graph\n",
    "n_states = 8\n",
    "vk = cr.kernels.VelocityKernel(adata)\n",
    "vk.compute_transition_matrix()\n",
    "ck = cr.kernels.ConnectivityKernel(adata).compute_transition_matrix()\n",
    "\n",
    "kernel = 0.8 * vk + 0.2 * ck\n",
    "\n",
    "estimator = cr.estimators.GPCCA(kernel)\n",
    "## evaluate the fate prob on original space\n",
    "estimator.compute_macrostates(n_states=n_states, n_cells=30, cluster_key=\"cell_type\")"
   ]
  },
  {
   "cell_type": "code",
   "execution_count": null,
   "id": "a442e3d4-be0e-45aa-84f3-248cab1d32e5",
   "metadata": {},
   "outputs": [],
   "source": [
    "estimator.set_terminal_states(TERMINAL_STATES)"
   ]
  },
  {
   "cell_type": "code",
   "execution_count": null,
   "id": "dd7583cf",
   "metadata": {},
   "outputs": [],
   "source": [
    "estimator.plot_macrostates(which=\"terminal\", basis=\"umap\", legend_loc=\"right\", s=100)"
   ]
  },
  {
   "cell_type": "markdown",
   "id": "7b0c0c3b-2e12-42d0-be00-9a4a746e1556",
   "metadata": {},
   "source": [
    "## Data saving"
   ]
  },
  {
   "cell_type": "code",
   "execution_count": null,
   "id": "171d3283-a3c7-4e60-9668-a1578c6d503a",
   "metadata": {},
   "outputs": [],
   "source": [
    "if SAVE_DATA:\n",
    "    adata.write_h5ad(DATA_DIR / DATASET / \"processed\" / \"adata_run_regvelo.h5ad\")"
   ]
  }
 ],
 "metadata": {
  "kernelspec": {
   "display_name": "Python [conda env:regvelo_test]",
   "language": "python",
   "name": "conda-env-regvelo_test-py"
  },
  "language_info": {
   "codemirror_mode": {
    "name": "ipython",
    "version": 3
   },
   "file_extension": ".py",
   "mimetype": "text/x-python",
   "name": "python",
   "nbconvert_exporter": "python",
   "pygments_lexer": "ipython3",
   "version": "3.10.15"
  }
 },
 "nbformat": 4,
 "nbformat_minor": 5
}
