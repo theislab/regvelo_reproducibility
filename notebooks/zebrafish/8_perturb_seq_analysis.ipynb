{
 "cells": [
  {
   "cell_type": "markdown",
   "id": "10763fdf-4ab3-4bb4-b45e-5d0abefceab0",
   "metadata": {},
   "source": [
    "# Perturb-seq data analysis\n",
    "\n",
    "Notebook analyses zebrafish Perturb-seq data."
   ]
  },
  {
   "cell_type": "markdown",
   "id": "bb816b7d-1f75-4db9-b504-931f9edb5088",
   "metadata": {},
   "source": [
    "## Library imports"
   ]
  },
  {
   "cell_type": "code",
   "execution_count": null,
   "id": "d3f3f105-7795-41dd-a585-9bbae5cb318d",
   "metadata": {},
   "outputs": [],
   "source": [
    "import numpy as np\n",
    "import pandas as pd\n",
    "import scipy\n",
    "\n",
    "import matplotlib.pyplot as plt\n",
    "import mplscience\n",
    "import seaborn as sns\n",
    "\n",
    "import scanpy as sc\n",
    "import scvelo as scv\n",
    "\n",
    "from rgv_tools import DATA_DIR, FIG_DIR"
   ]
  },
  {
   "cell_type": "markdown",
   "id": "d9417abc-5510-4bfe-ab7a-1a2a1ba863e9",
   "metadata": {},
   "source": [
    "## General setting"
   ]
  },
  {
   "cell_type": "code",
   "execution_count": null,
   "id": "46303f00-af26-4063-8171-53f8cc31ec4c",
   "metadata": {},
   "outputs": [],
   "source": [
    "plt.rcParams[\"svg.fonttype\"] = \"none\"\n",
    "sns.reset_defaults()\n",
    "sns.reset_orig()\n",
    "scv.settings.set_figure_params(\"scvelo\", dpi_save=400, dpi=80, transparent=True, fontsize=14, color_map=\"viridis\")"
   ]
  },
  {
   "cell_type": "markdown",
   "id": "6ad9e907-0559-49ef-9fd8-22e55c60e6d9",
   "metadata": {},
   "source": [
    "## Constants"
   ]
  },
  {
   "cell_type": "code",
   "execution_count": null,
   "id": "d4d3a3d4-efbd-49d8-859f-218531d03741",
   "metadata": {},
   "outputs": [],
   "source": [
    "DATASET = \"zebrafish\""
   ]
  },
  {
   "cell_type": "code",
   "execution_count": null,
   "id": "068df46a",
   "metadata": {},
   "outputs": [],
   "source": [
    "SAVE_FIGURES = True\n",
    "if SAVE_FIGURES:\n",
    "    (FIG_DIR / DATASET).mkdir(parents=True, exist_ok=True)"
   ]
  },
  {
   "cell_type": "markdown",
   "id": "7f764ddb-83f0-4adc-ba61-3df4abdddd1a",
   "metadata": {},
   "source": [
    "## Data loading"
   ]
  },
  {
   "cell_type": "code",
   "execution_count": null,
   "id": "aee323d1-3db2-49fc-8f97-af3b8aa0cde2",
   "metadata": {},
   "outputs": [],
   "source": [
    "adata = sc.read_h5ad(DATA_DIR / DATASET / \"raw\" / \"seu_NC_clustered_normalized.h5ad\")\n",
    "ss3 = sc.read_h5ad(DATA_DIR / DATASET / \"processed\" / \"adata_preprocessed.h5ad\")\n",
    "metadata = pd.read_csv(DATA_DIR / DATASET / \"raw\" / \"metadata.csv\", index_col=0)"
   ]
  },
  {
   "cell_type": "code",
   "execution_count": null,
   "id": "e4288257-9287-4085-aa90-d67eda8cd3fb",
   "metadata": {},
   "outputs": [],
   "source": [
    "adata = adata[metadata.index.tolist()]"
   ]
  },
  {
   "cell_type": "code",
   "execution_count": null,
   "id": "f122e4d1-8f50-40bf-89ab-e9ba44ce3cb5",
   "metadata": {},
   "outputs": [],
   "source": [
    "adata.obs = metadata"
   ]
  },
  {
   "cell_type": "markdown",
   "id": "095ba311-68d6-409e-b40f-ea57dece5074",
   "metadata": {},
   "source": [
    "## Visualize via UMAP"
   ]
  },
  {
   "cell_type": "code",
   "execution_count": null,
   "id": "59f82d47-06de-4a4e-91bb-a0625de75951",
   "metadata": {},
   "outputs": [],
   "source": [
    "# Using MELD to calculate sample-associated density estimates and relative likelihood\n",
    "metadata = adata.obs\n",
    "metadata[\"genotype_name\"] = metadata[\"sgRNA_group\"]\n",
    "metadata[\"genotype\"] = metadata[\"sgRNA_group\"]\n",
    "metadata[\"replicate\"] = \"A\"\n",
    "metadata"
   ]
  },
  {
   "cell_type": "code",
   "execution_count": null,
   "id": "be75e1f6-f544-412e-949e-7b2fff24953a",
   "metadata": {},
   "outputs": [],
   "source": [
    "## Update pigment cell annotation\n",
    "adata.obs[\"cell_anno_new\"] = adata.obs[\"cell_anno\"].copy()\n",
    "adata.obs[\"cell_anno_new\"][adata.obs[\"cell_anno_new\"] == \"Pigment_gch2_high\"] = \"Pigment\""
   ]
  },
  {
   "cell_type": "code",
   "execution_count": null,
   "id": "b8dd012c-7be7-4d4c-8d34-0f850166594a",
   "metadata": {},
   "outputs": [],
   "source": [
    "perturbseq = adata[\n",
    "    adata.obs[\"sgRNA_group\"].isin(\n",
    "        [\n",
    "            \"mitfa_tfec_inhouse\",\n",
    "            \"negative\",\n",
    "            \"control\",\n",
    "            \"mitfa\",\n",
    "            \"tfec\",\n",
    "            \"tfec_mitfa_bhlhe40\",\n",
    "            \"mitfa_tfec\",\n",
    "            \"mitfa_tfec_tfeb\",\n",
    "            \"elf1\",\n",
    "            \"nr2f2\",\n",
    "            \"nr2f5\",\n",
    "        ]\n",
    "    )\n",
    "].copy()\n",
    "\n",
    "highlight_cell_types = [\n",
    "    \"mNC_hox34\",\n",
    "    \"mNC_head_mesenchymal\",\n",
    "    \"mNC_arch2\",\n",
    "    \"Pigment\",\n",
    "    \"Other\",\n",
    "]  # replace with your cell types of interest\n",
    "\n",
    "# Create a new column for colors\n",
    "perturbseq.obs[\"highlight\"] = perturbseq.obs[\"cell_anno_new\"].copy()\n",
    "palette = dict(zip(ss3.obs[\"cell_type\"].cat.categories, ss3.uns[\"cell_type_colors\"]))\n",
    "# Set cell types to grey if they are not in the highlight list\n",
    "perturbseq.obs[\"highlight\"] = perturbseq.obs[\"highlight\"].apply(lambda x: x if x in highlight_cell_types else \"Other\")\n",
    "\n",
    "# Create a color map where 'Other' is grey\n",
    "colors = [\"grey\" if ct == \"Other\" else palette[ct] for i, ct in enumerate(highlight_cell_types)]\n",
    "color_map = {ct: color for ct, color in zip(highlight_cell_types, colors)}\n",
    "color_map[\"Other\"] = \"grey\""
   ]
  },
  {
   "cell_type": "code",
   "execution_count": null,
   "id": "ca6a12e9-547b-4b6c-baea-490db216aea8",
   "metadata": {},
   "outputs": [],
   "source": [
    "with mplscience.style_context():\n",
    "    fig, ax = plt.subplots(figsize=(7, 5))\n",
    "    sc.pl.embedding(\n",
    "        perturbseq, color=\"highlight\", basis=\"phate\", legend_loc=None, palette=color_map, frameon=False, size=30, ax=ax\n",
    "    )\n",
    "\n",
    "    if SAVE_FIGURES:\n",
    "        fig.savefig(FIG_DIR / DATASET / \"INTRO_figure_perturb.svg\", format=\"svg\", transparent=True, bbox_inches=\"tight\")\n",
    "    plt.show()"
   ]
  },
  {
   "cell_type": "markdown",
   "id": "4e520861-44fa-4eb7-ab89-3df6fc277875",
   "metadata": {},
   "source": [
    "## Visualize nr2f2, tfec, mitfa and elf1 perturbation effect"
   ]
  },
  {
   "cell_type": "code",
   "execution_count": null,
   "id": "e3a13535-7439-45bf-9976-f05883313ecc",
   "metadata": {},
   "outputs": [],
   "source": [
    "sgRNA_groups = [\"nr2f2\", \"tfec\", \"mitfa\", \"elf1\"]"
   ]
  },
  {
   "cell_type": "code",
   "execution_count": null,
   "id": "f148a792-06db-4fb9-b1bd-cc25d8be3054",
   "metadata": {},
   "outputs": [],
   "source": [
    "# Visualize the perturbation on terminal states\n",
    "cell_types = [\n",
    "    \"mNC_hox34\",\n",
    "    \"mNC_head_mesenchymal\",\n",
    "    \"mNC_arch2\",\n",
    "    \"Pigment\",\n",
    "]\n",
    "\n",
    "for group in sgRNA_groups:\n",
    "    sample_likelihoods = pd.read_csv(DATA_DIR / DATASET / \"raw\" / f\"likelihood_{group}.csv\", index_col=0)\n",
    "    condition = (metadata[\"sgRNA_group\"] == \"control\") | (metadata[\"sgRNA_group\"] == group)\n",
    "    experimental_samples = [f\"{group}A\", f\"{group}B\"]\n",
    "\n",
    "    df = pd.DataFrame(sample_likelihoods[experimental_samples])\n",
    "    df[group] = df.mean(1)\n",
    "    # Calculate the percentiles values\n",
    "\n",
    "    down = df[group].quantile(0.2)\n",
    "    up = df[group].quantile(0.8)\n",
    "\n",
    "    # Apply the condition to set values outside the 5th and 95th percentiles to NaN\n",
    "    df[\"quantile_value\"] = np.where((df[group] > up) | (df[group] < down), df[group], np.nan)\n",
    "    df[\"quantile_value\"] = df[\"quantile_value\"] - np.mean(df[group])\n",
    "\n",
    "    vec = adata[condition].obs[\"cell_anno_new\"].apply(lambda x: 1 if x in cell_types else np.nan)\n",
    "    df[\"quantile_value\"] = np.array(df[\"quantile_value\"]) * np.array(vec)\n",
    "\n",
    "    adata_sub = adata[condition].copy()\n",
    "    adata_sub.obs[f\"{group}_score\"] = np.array(df[\"quantile_value\"]).copy()\n",
    "\n",
    "    ## Plot the figure\n",
    "    overall_score = pd.DataFrame({\"score\": np.array([np.nan] * adata_sub.shape[0])})\n",
    "    overall_score.index = adata_sub.obs.index.tolist()\n",
    "    overall_score.loc[adata_sub.obs.index.tolist(), \"score\"] = np.array(adata_sub.obs[f\"{group}_score\"])\n",
    "\n",
    "    adata_sub.obs[f\"{group}_score\"] = np.array(overall_score[\"score\"])\n",
    "    adata_sub.obs[\"highlight\"] = (~np.isnan(adata_sub.obs[f\"{group}_score\"])).astype(str)\n",
    "\n",
    "    highlighted_points = adata_sub[adata_sub.obs[\"highlight\"] == \"True\"]\n",
    "    x_highlight = highlighted_points.obsm[\"X_phate\"][:, 0]\n",
    "    y_highlight = highlighted_points.obsm[\"X_phate\"][:, 1]\n",
    "    color_values = highlighted_points.obs[f\"{group}_score\"]  # Adjust to your continuous variable\n",
    "\n",
    "    with mplscience.style_context():  # Use the mplscience style context\n",
    "        fig, ax = plt.subplots(figsize=(6, 4))\n",
    "\n",
    "        sc.pl.embedding(adata_sub, basis=\"phate\", color=f\"{group}_score\", vcenter=0, show=False, ax=ax)\n",
    "        plt.scatter(\n",
    "            x_highlight,\n",
    "            y_highlight,\n",
    "            c=color_values,\n",
    "            cmap=\"viridis\",  # Choose a gradient color map, e.g., 'viridis', 'plasma', 'inferno', etc.\n",
    "            s=20,  # Larger size for highlighted points\n",
    "            # edgecolor='black',  # Optional: border for emphasis\n",
    "        )\n",
    "\n",
    "        if SAVE_FIGURES:\n",
    "            fig.savefig(\n",
    "                FIG_DIR / DATASET / f\"{group}_perturbation.svg\", format=\"svg\", transparent=True, bbox_inches=\"tight\"\n",
    "            )\n",
    "        plt.show()"
   ]
  },
  {
   "cell_type": "markdown",
   "id": "33b7ea9f-6337-43ab-be06-e75039a8412b",
   "metadata": {},
   "source": [
    "## Visualize differential expressed genes in tfec perturbation panel"
   ]
  },
  {
   "cell_type": "code",
   "execution_count": null,
   "id": "c84b2cef-49ba-4728-b876-fc78b7d11fae",
   "metadata": {},
   "outputs": [],
   "source": [
    "perturbseq = adata.copy()\n",
    "perturbseq = perturbseq[\n",
    "    ~perturbseq.obs[\"cell_anno_new\"].isin([\"unclassified2\", \"unclassified1\", \"Mutant_hox23\", \"Mutant\"]),\n",
    "]\n",
    "seu_small = perturbseq[perturbseq.obs[\"sgRNA_group\"].isin([\"control\", \"tfec\"]),]\n",
    "genotype = seu_small.obs[\"sgRNA_group\"].tolist()"
   ]
  },
  {
   "cell_type": "code",
   "execution_count": null,
   "id": "8b84ea17-cd37-441a-87ca-7e508719f920",
   "metadata": {},
   "outputs": [],
   "source": [
    "with mplscience.style_context():  # Use the mplscience style context\n",
    "    sns.set_style(style=\"whitegrid\")\n",
    "    fig, ax = plt.subplots(figsize=(3, 3))\n",
    "\n",
    "    # Create the scatter plot\n",
    "    sc.pl.violin(seu_small, [\"cdkn1ca\"], multi_panel=False, groupby=\"sgRNA_group\", stripplot=True, ax=ax, show=False)\n",
    "    ax.set_ylim(bottom=-0.1, top=4)\n",
    "\n",
    "    if SAVE_FIGURES:\n",
    "        fig.savefig(FIG_DIR / DATASET / \"cdkn1ca.svg\", format=\"svg\", transparent=True, bbox_inches=\"tight\")\n",
    "\n",
    "    # Display the plot\n",
    "    plt.show()"
   ]
  },
  {
   "cell_type": "code",
   "execution_count": null,
   "id": "8210a6ae-8ecb-449c-b706-38f05a01a86d",
   "metadata": {},
   "outputs": [],
   "source": [
    "with mplscience.style_context():  # Use the mplscience style context\n",
    "    sns.set_style(style=\"whitegrid\")\n",
    "    fig, ax = plt.subplots(figsize=(3, 3))\n",
    "\n",
    "    # Create the scatter plot\n",
    "    sc.pl.violin(seu_small, [\"atp6ap2\"], multi_panel=False, groupby=\"sgRNA_group\", stripplot=True, ax=ax, show=False)\n",
    "    ax.set_ylim(bottom=-0.1, top=4)\n",
    "\n",
    "    if SAVE_FIGURES:\n",
    "        fig.savefig(FIG_DIR / DATASET / \"atp6ap2.svg\", format=\"svg\", transparent=True, bbox_inches=\"tight\")\n",
    "\n",
    "    # Display the plot\n",
    "    plt.show()"
   ]
  },
  {
   "cell_type": "markdown",
   "id": "a55a3242-021a-4d21-bc5e-45526c0cdfdf",
   "metadata": {},
   "source": [
    "### test significance"
   ]
  },
  {
   "cell_type": "code",
   "execution_count": null,
   "id": "63624e60-f5e1-4fc4-8341-7150a9a19802",
   "metadata": {},
   "outputs": [],
   "source": [
    "scipy.stats.ttest_ind(\n",
    "    seu_small[np.array(genotype) == \"tfec\", \"cdkn1ca\"].X.toarray().reshape(-1),\n",
    "    seu_small[np.array(genotype) != \"tfec\", \"cdkn1ca\"].X.toarray().reshape(-1),\n",
    "    equal_var=False,\n",
    "    alternative=\"less\",\n",
    ")"
   ]
  },
  {
   "cell_type": "code",
   "execution_count": null,
   "id": "b7200e36-06fe-4d09-9d59-8b3581f2cbaa",
   "metadata": {},
   "outputs": [],
   "source": [
    "scipy.stats.ttest_ind(\n",
    "    seu_small[np.array(genotype) == \"tfec\", \"atp6ap2\"].X.toarray().reshape(-1),\n",
    "    seu_small[np.array(genotype) != \"tfec\", \"atp6ap2\"].X.toarray().reshape(-1),\n",
    "    equal_var=False,\n",
    "    alternative=\"less\",\n",
    ")"
   ]
  },
  {
   "cell_type": "markdown",
   "id": "497745ad-3bde-40e2-9769-8e1a48e7b5a6",
   "metadata": {},
   "source": [
    "## Visualize differential expressed genes in elf1 perturbation panel"
   ]
  },
  {
   "cell_type": "code",
   "execution_count": null,
   "id": "f8081d3a-8142-418b-a3f0-7f58f1c67df3",
   "metadata": {},
   "outputs": [],
   "source": [
    "perturbseq = adata.copy()\n",
    "perturbseq = perturbseq[\n",
    "    ~perturbseq.obs[\"cell_anno_new\"].isin([\"unclassified2\", \"unclassified1\", \"Mutant_hox23\", \"Mutant\"]),\n",
    "]\n",
    "seu_small = perturbseq[perturbseq.obs[\"sgRNA_group\"].isin([\"control\", \"elf1\"]),]\n",
    "genotype = seu_small.obs[\"sgRNA_group\"].tolist()"
   ]
  },
  {
   "cell_type": "code",
   "execution_count": null,
   "id": "ec635186-81d8-4cbe-b545-87e09404cbe2",
   "metadata": {},
   "outputs": [],
   "source": [
    "with mplscience.style_context():  # Use the mplscience style context\n",
    "    sns.set_style(style=\"whitegrid\")\n",
    "    fig, ax = plt.subplots(figsize=(3, 3))\n",
    "\n",
    "    # Create the scatter plot\n",
    "    sc.pl.violin(seu_small, [\"mitfa\"], multi_panel=False, groupby=\"sgRNA_group\", stripplot=True, ax=ax, show=False)\n",
    "    ax.set_ylim(bottom=-0.1, top=4)\n",
    "\n",
    "    if SAVE_FIGURES:\n",
    "        fig.savefig(\n",
    "            FIG_DIR / DATASET / \"mitfa_expression_elf1_knockout.svg\",\n",
    "            format=\"svg\",\n",
    "            transparent=True,\n",
    "            bbox_inches=\"tight\",\n",
    "        )\n",
    "\n",
    "    # Display the plot\n",
    "    plt.show()"
   ]
  },
  {
   "cell_type": "code",
   "execution_count": null,
   "id": "9ac24c50-3caf-440d-a804-3f61333a52e2",
   "metadata": {},
   "outputs": [],
   "source": [
    "with mplscience.style_context():  # Use the mplscience style context\n",
    "    sns.set_style(style=\"whitegrid\")\n",
    "    fig, ax = plt.subplots(figsize=(3, 3))\n",
    "\n",
    "    # Create the scatter plot\n",
    "    sc.pl.violin(seu_small, [\"sox10\"], multi_panel=False, groupby=\"sgRNA_group\", stripplot=True, ax=ax, show=False)\n",
    "    ax.set_ylim(bottom=-0.1, top=4)\n",
    "\n",
    "    if SAVE_FIGURES:\n",
    "        fig.savefig(\n",
    "            FIG_DIR / DATASET / \"sox10_expression_elf1_knockout.svg\",\n",
    "            format=\"svg\",\n",
    "            transparent=True,\n",
    "            bbox_inches=\"tight\",\n",
    "        )\n",
    "\n",
    "    # Display the plot\n",
    "    plt.show()"
   ]
  },
  {
   "cell_type": "code",
   "execution_count": null,
   "id": "05df77ac-7d5f-43e3-8fb9-b1fbbc7a2bb1",
   "metadata": {},
   "outputs": [],
   "source": [
    "with mplscience.style_context():  # Use the mplscience style context\n",
    "    sns.set_style(style=\"whitegrid\")\n",
    "    fig, ax = plt.subplots(figsize=(3, 3))\n",
    "\n",
    "    # Create the scatter plot\n",
    "    sc.pl.violin(seu_small, [\"fli1a\"], multi_panel=False, groupby=\"sgRNA_group\", stripplot=True, ax=ax, show=False)\n",
    "\n",
    "    if SAVE_FIGURES:\n",
    "        fig.savefig(\n",
    "            FIG_DIR / DATASET / \"fli1a_expression_elf1_knockout.svg\",\n",
    "            format=\"svg\",\n",
    "            transparent=True,\n",
    "            bbox_inches=\"tight\",\n",
    "        )\n",
    "\n",
    "    # Display the plot\n",
    "    plt.show()"
   ]
  },
  {
   "cell_type": "markdown",
   "id": "bc4e8ada-85c0-4829-8807-4623b44545ce",
   "metadata": {},
   "source": [
    "### test significance"
   ]
  },
  {
   "cell_type": "code",
   "execution_count": null,
   "id": "8466553e-b327-4b19-acec-6c7ab94e9206",
   "metadata": {},
   "outputs": [],
   "source": [
    "scipy.stats.ttest_ind(\n",
    "    seu_small[np.array(genotype) == \"elf1\", \"mitfa\"].X.toarray().reshape(-1),\n",
    "    seu_small[np.array(genotype) != \"elf1\", \"mitfa\"].X.toarray().reshape(-1),\n",
    "    equal_var=False,\n",
    "    alternative=\"less\",\n",
    ")"
   ]
  },
  {
   "cell_type": "code",
   "execution_count": null,
   "id": "c979c8e7-6b46-41a0-b7b8-83d53ec451a4",
   "metadata": {},
   "outputs": [],
   "source": [
    "scipy.stats.ttest_ind(\n",
    "    seu_small[np.array(genotype) == \"elf1\", \"sox10\"].X.toarray().reshape(-1),\n",
    "    seu_small[np.array(genotype) != \"elf1\", \"sox10\"].X.toarray().reshape(-1),\n",
    "    equal_var=False,\n",
    "    alternative=\"less\",\n",
    ")"
   ]
  },
  {
   "cell_type": "code",
   "execution_count": null,
   "id": "8f63b7fb-ca8a-4984-a268-3f82d3066f3c",
   "metadata": {},
   "outputs": [],
   "source": [
    "scipy.stats.ttest_ind(\n",
    "    seu_small[np.array(genotype) == \"elf1\", \"fli1a\"].X.toarray().reshape(-1),\n",
    "    seu_small[np.array(genotype) != \"elf1\", \"fli1a\"].X.toarray().reshape(-1),\n",
    "    equal_var=False,\n",
    "    alternative=\"greater\",\n",
    ")"
   ]
  },
  {
   "cell_type": "markdown",
   "id": "89a45405-951a-4ed9-adc9-19aebe220335",
   "metadata": {},
   "source": [
    "## Visualize differential expressed genes in pigment cell lineage of elf1 perturbation panel"
   ]
  },
  {
   "cell_type": "code",
   "execution_count": null,
   "id": "ccf9e490-d615-407b-97a2-a494c9d206de",
   "metadata": {},
   "outputs": [],
   "source": [
    "perturbseq = adata.copy()\n",
    "perturbseq = perturbseq[perturbseq.obs[\"cell_anno_new\"].isin([\"Pigment\"]),]\n",
    "seu_small = perturbseq[perturbseq.obs[\"sgRNA_group\"].isin([\"control\", \"elf1\"]),]\n",
    "genotype = seu_small.obs[\"sgRNA_group\"].tolist()"
   ]
  },
  {
   "cell_type": "code",
   "execution_count": null,
   "id": "84c879c1-9c61-4cf5-8837-c84df9671274",
   "metadata": {},
   "outputs": [],
   "source": [
    "with mplscience.style_context():  # Use the mplscience style context\n",
    "    sns.set_style(style=\"whitegrid\")\n",
    "    fig, ax = plt.subplots(figsize=(3, 3))\n",
    "\n",
    "    # Create the scatter plot\n",
    "    sc.pl.violin(seu_small, [\"pmp22a\"], multi_panel=False, groupby=\"sgRNA_group\", stripplot=True, ax=ax, show=False)\n",
    "\n",
    "    if SAVE_FIGURES:\n",
    "        fig.savefig(\n",
    "            FIG_DIR / DATASET / \"pmp22a_expression_elf1_knockout.svg\",\n",
    "            format=\"svg\",\n",
    "            transparent=True,\n",
    "            bbox_inches=\"tight\",\n",
    "        )\n",
    "\n",
    "    # Display the plot\n",
    "    plt.show()"
   ]
  },
  {
   "cell_type": "code",
   "execution_count": null,
   "id": "00f66378-b6ae-46de-baf6-1aa80bf4b826",
   "metadata": {},
   "outputs": [],
   "source": [
    "with mplscience.style_context():  # Use the mplscience style context\n",
    "    sns.set_style(style=\"whitegrid\")\n",
    "    fig, ax = plt.subplots(figsize=(3, 3))\n",
    "\n",
    "    # Create the scatter plot\n",
    "    sc.pl.violin(seu_small, [\"cited1\"], multi_panel=False, groupby=\"sgRNA_group\", stripplot=True, ax=ax, show=False)\n",
    "\n",
    "    if SAVE_FIGURES:\n",
    "        fig.savefig(\n",
    "            FIG_DIR / DATASET / \"cited1_expression_elf1_knockout.svg\",\n",
    "            format=\"svg\",\n",
    "            transparent=True,\n",
    "            bbox_inches=\"tight\",\n",
    "        )\n",
    "\n",
    "    # Display the plot\n",
    "    plt.show()"
   ]
  },
  {
   "cell_type": "code",
   "execution_count": null,
   "id": "22c66f7a-173d-4148-9066-14a2eba1c797",
   "metadata": {},
   "outputs": [],
   "source": [
    "with mplscience.style_context():  # Use the mplscience style context\n",
    "    sns.set_style(style=\"whitegrid\")\n",
    "    fig, ax = plt.subplots(figsize=(3, 3))\n",
    "\n",
    "    # Create the scatter plot\n",
    "    sc.pl.violin(seu_small, [\"hmgn2\"], multi_panel=False, groupby=\"sgRNA_group\", stripplot=True, ax=ax, show=False)\n",
    "\n",
    "    if SAVE_FIGURES:\n",
    "        fig.savefig(\n",
    "            FIG_DIR / DATASET / \"hmgn2_expression_elf1_knockout.svg\",\n",
    "            format=\"svg\",\n",
    "            transparent=True,\n",
    "            bbox_inches=\"tight\",\n",
    "        )\n",
    "\n",
    "    # Display the plot\n",
    "    plt.show()"
   ]
  },
  {
   "cell_type": "code",
   "execution_count": null,
   "id": "872dcbfc-ec7d-42e6-a2e8-6e7bdfe09bbf",
   "metadata": {},
   "outputs": [],
   "source": [
    "with mplscience.style_context():  # Use the mplscience style context\n",
    "    sns.set_style(style=\"whitegrid\")\n",
    "    fig, ax = plt.subplots(figsize=(3, 3))\n",
    "\n",
    "    # Create the scatter plot\n",
    "    sc.pl.violin(seu_small, [\"arl6ip1\"], multi_panel=False, groupby=\"sgRNA_group\", stripplot=True, ax=ax, show=False)\n",
    "\n",
    "    if SAVE_FIGURES:\n",
    "        fig.savefig(\n",
    "            FIG_DIR / DATASET / \"arl6ip1_expression_elf1_knockout.svg\",\n",
    "            format=\"svg\",\n",
    "            transparent=True,\n",
    "            bbox_inches=\"tight\",\n",
    "        )\n",
    "\n",
    "    # Display the plot\n",
    "    plt.show()"
   ]
  },
  {
   "cell_type": "markdown",
   "id": "26954eec-1cac-431c-b596-b254f09b79fa",
   "metadata": {},
   "source": [
    "## Visualize elf1 gene expression change when knockout tfec and fli1a"
   ]
  },
  {
   "cell_type": "markdown",
   "id": "f49a1a4e-d63a-4cc2-9f57-0534d260da52",
   "metadata": {},
   "source": [
    "### knockout tfec"
   ]
  },
  {
   "cell_type": "code",
   "execution_count": null,
   "id": "9676cc44-d8dd-45ec-b982-a0578cc43ce4",
   "metadata": {},
   "outputs": [],
   "source": [
    "perturbseq = adata.copy()\n",
    "perturbseq = perturbseq[\n",
    "    ~perturbseq.obs[\"cell_anno_new\"].isin([\"unclassified2\", \"unclassified1\", \"Mutant_hox23\", \"Mutant\"]),\n",
    "]\n",
    "seu_small = perturbseq[perturbseq.obs[\"sgRNA_group\"].isin([\"control\", \"tfec\"]),]\n",
    "genotype = seu_small.obs[\"sgRNA_group\"].tolist()"
   ]
  },
  {
   "cell_type": "code",
   "execution_count": null,
   "id": "bd1a8469-dd0f-447d-8925-40077bf48422",
   "metadata": {},
   "outputs": [],
   "source": [
    "with mplscience.style_context():  # Use the mplscience style context\n",
    "    sns.set_style(style=\"whitegrid\")\n",
    "    fig, ax = plt.subplots(figsize=(3, 3))\n",
    "\n",
    "    # Create the scatter plot\n",
    "    sc.pl.violin(seu_small, [\"elf1\"], multi_panel=False, groupby=\"sgRNA_group\", stripplot=True, ax=ax, show=False)\n",
    "\n",
    "    if SAVE_FIGURES:\n",
    "        fig.savefig(\n",
    "            FIG_DIR / DATASET / \"elf1_expression_tfec_knockout.svg\", format=\"svg\", transparent=True, bbox_inches=\"tight\"\n",
    "        )\n",
    "\n",
    "    # Display the plot\n",
    "    plt.show()"
   ]
  },
  {
   "cell_type": "markdown",
   "id": "9ee48dd0-7b11-4ab6-9e4b-e2353346d14a",
   "metadata": {},
   "source": [
    "### test significance"
   ]
  },
  {
   "cell_type": "code",
   "execution_count": null,
   "id": "f382f0ce-51ac-495a-851f-e46d9441a36f",
   "metadata": {},
   "outputs": [],
   "source": [
    "scipy.stats.ttest_ind(\n",
    "    seu_small[np.array(genotype) == \"tfec\", \"elf1\"].X.toarray().reshape(-1),\n",
    "    seu_small[np.array(genotype) != \"tfec\", \"elf1\"].X.toarray().reshape(-1),\n",
    "    equal_var=False,\n",
    "    alternative=\"less\",\n",
    ")"
   ]
  },
  {
   "cell_type": "markdown",
   "id": "22d42853-2a57-407c-a14e-fbffe90dd6c6",
   "metadata": {},
   "source": [
    "### knockout fli1a"
   ]
  },
  {
   "cell_type": "code",
   "execution_count": null,
   "id": "d84bc81c-5235-4404-b91a-7f0de8d99b07",
   "metadata": {},
   "outputs": [],
   "source": [
    "perturbseq = adata.copy()\n",
    "perturbseq = perturbseq[\n",
    "    ~perturbseq.obs[\"cell_anno_new\"].isin([\"unclassified2\", \"unclassified1\", \"Mutant_hox23\", \"Mutant\"]),\n",
    "]\n",
    "seu_small = perturbseq[perturbseq.obs[\"sgRNA_group\"].isin([\"control\", \"fli1a\"]),]\n",
    "genotype = seu_small.obs[\"sgRNA_group\"].tolist()"
   ]
  },
  {
   "cell_type": "code",
   "execution_count": null,
   "id": "857b0e22-aeb0-4844-b839-315780bc111c",
   "metadata": {},
   "outputs": [],
   "source": [
    "with mplscience.style_context():  # Use the mplscience style context\n",
    "    sns.set_style(style=\"whitegrid\")\n",
    "    fig, ax = plt.subplots(figsize=(3, 3))\n",
    "\n",
    "    # Create the scatter plot\n",
    "    sc.pl.violin(seu_small, [\"elf1\"], multi_panel=False, groupby=\"sgRNA_group\", stripplot=True, ax=ax, show=False)\n",
    "\n",
    "    if SAVE_FIGURES:\n",
    "        fig.savefig(\n",
    "            FIG_DIR / DATASET / \"elf1_expression_fli1a_knockout.svg\",\n",
    "            format=\"svg\",\n",
    "            transparent=True,\n",
    "            bbox_inches=\"tight\",\n",
    "        )\n",
    "\n",
    "    # Display the plot\n",
    "    plt.show()"
   ]
  },
  {
   "cell_type": "markdown",
   "id": "10bfc55b-a3c0-48ed-a095-f6728b01923f",
   "metadata": {},
   "source": [
    "## test significance"
   ]
  },
  {
   "cell_type": "code",
   "execution_count": null,
   "id": "10318de8-7422-4853-87b5-57ec8048d86e",
   "metadata": {},
   "outputs": [],
   "source": [
    "scipy.stats.ttest_ind(\n",
    "    seu_small[np.array(genotype) == \"fli1a\", \"elf1\"].X.toarray().reshape(-1),\n",
    "    seu_small[np.array(genotype) != \"fli1a\", \"elf1\"].X.toarray().reshape(-1),\n",
    "    equal_var=False,\n",
    "    alternative=\"greater\",\n",
    ")"
   ]
  }
 ],
 "metadata": {
  "kernelspec": {
   "display_name": "Python [conda env:regvelo_test]",
   "language": "python",
   "name": "conda-env-regvelo_test-py"
  },
  "language_info": {
   "codemirror_mode": {
    "name": "ipython",
    "version": 3
   },
   "file_extension": ".py",
   "mimetype": "text/x-python",
   "name": "python",
   "nbconvert_exporter": "python",
   "pygments_lexer": "ipython3",
   "version": "3.10.15"
  }
 },
 "nbformat": 4,
 "nbformat_minor": 5
}
