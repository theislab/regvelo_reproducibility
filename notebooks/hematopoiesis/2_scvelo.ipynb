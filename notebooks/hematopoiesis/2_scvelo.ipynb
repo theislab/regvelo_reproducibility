{
 "cells": [
  {
   "cell_type": "markdown",
   "id": "25ac6e20-c054-4609-80b8-eefc6464791e",
   "metadata": {},
   "source": [
    "# scVelo-based analysis of hematopoiesis dataset\n",
    "\n",
    "Notebook runs the scvelo model on the hematopoiesis dataset."
   ]
  },
  {
   "cell_type": "markdown",
   "id": "74a47bc6-4870-4f2c-a817-691d5ca2e6dd",
   "metadata": {},
   "source": [
    "## Library imports"
   ]
  },
  {
   "cell_type": "code",
   "execution_count": 1,
   "id": "49a7e778-eab9-4cc4-8156-8a03274764d4",
   "metadata": {},
   "outputs": [
    {
     "name": "stderr",
     "output_type": "stream",
     "text": [
      "/home/icb/weixu.wang/miniconda3/envs/dynamo/lib/python3.10/site-packages/anndata/utils.py:429: FutureWarning: Importing read_csv from `anndata` is deprecated. Import anndata.io.read_csv instead.\n",
      "  warnings.warn(msg, FutureWarning)\n",
      "/home/icb/weixu.wang/miniconda3/envs/dynamo/lib/python3.10/site-packages/anndata/utils.py:429: FutureWarning: Importing read_excel from `anndata` is deprecated. Import anndata.io.read_excel instead.\n",
      "  warnings.warn(msg, FutureWarning)\n",
      "/home/icb/weixu.wang/miniconda3/envs/dynamo/lib/python3.10/site-packages/anndata/utils.py:429: FutureWarning: Importing read_hdf from `anndata` is deprecated. Import anndata.io.read_hdf instead.\n",
      "  warnings.warn(msg, FutureWarning)\n",
      "/home/icb/weixu.wang/miniconda3/envs/dynamo/lib/python3.10/site-packages/anndata/utils.py:429: FutureWarning: Importing read_loom from `anndata` is deprecated. Import anndata.io.read_loom instead.\n",
      "  warnings.warn(msg, FutureWarning)\n",
      "/home/icb/weixu.wang/miniconda3/envs/dynamo/lib/python3.10/site-packages/anndata/utils.py:429: FutureWarning: Importing read_mtx from `anndata` is deprecated. Import anndata.io.read_mtx instead.\n",
      "  warnings.warn(msg, FutureWarning)\n",
      "/home/icb/weixu.wang/miniconda3/envs/dynamo/lib/python3.10/site-packages/anndata/utils.py:429: FutureWarning: Importing read_text from `anndata` is deprecated. Import anndata.io.read_text instead.\n",
      "  warnings.warn(msg, FutureWarning)\n",
      "/home/icb/weixu.wang/miniconda3/envs/dynamo/lib/python3.10/site-packages/anndata/utils.py:429: FutureWarning: Importing read_umi_tools from `anndata` is deprecated. Import anndata.io.read_umi_tools instead.\n",
      "  warnings.warn(msg, FutureWarning)\n"
     ]
    }
   ],
   "source": [
    "import numpy as np\n",
    "\n",
    "import cellrank as cr\n",
    "import scanpy as sc\n",
    "import scvelo as scv\n",
    "\n",
    "from rgv_tools import DATA_DIR"
   ]
  },
  {
   "cell_type": "markdown",
   "id": "6d6a7cb1-9fcd-48c7-9a5e-da935ab8eb95",
   "metadata": {},
   "source": [
    "## Constants"
   ]
  },
  {
   "cell_type": "code",
   "execution_count": 2,
   "id": "5b70829a-2a68-48ba-8c0c-2b772af5f4aa",
   "metadata": {},
   "outputs": [],
   "source": [
    "DATASET = \"hematopoiesis\""
   ]
  },
  {
   "cell_type": "code",
   "execution_count": 3,
   "id": "43f009f3-e381-4b28-8f90-7053a8c783cc",
   "metadata": {},
   "outputs": [],
   "source": [
    "SAVE_DATA = True\n",
    "if SAVE_DATA:\n",
    "    (DATA_DIR / DATASET / \"processed\").mkdir(parents=True, exist_ok=True)\n",
    "    (DATA_DIR / DATASET / \"results\").mkdir(parents=True, exist_ok=True)"
   ]
  },
  {
   "cell_type": "code",
   "execution_count": 4,
   "id": "5b60d1df-5020-422c-bf2c-e45af7f3ce66",
   "metadata": {},
   "outputs": [],
   "source": [
    "terminal_states = [\n",
    "    \"Mon\",\n",
    "    \"Meg\",\n",
    "    \"Bas\",\n",
    "    \"Ery\",\n",
    "]"
   ]
  },
  {
   "cell_type": "markdown",
   "id": "169cec7e-85fe-4775-becf-7341686997b0",
   "metadata": {},
   "source": [
    "## Data loading"
   ]
  },
  {
   "cell_type": "code",
   "execution_count": 5,
   "id": "0a19b2f7-4380-497b-9e22-4ad252d86063",
   "metadata": {},
   "outputs": [],
   "source": [
    "adata = sc.read_h5ad(DATA_DIR / DATASET / \"processed\" / \"adata_preprocessed.h5ad\")\n",
    "adata_full = sc.read_h5ad(DATA_DIR / DATASET / \"processed\" / \"adata_preprocessed_full.h5ad\")"
   ]
  },
  {
   "cell_type": "markdown",
   "id": "f6031612-a00e-45bc-9fdc-920f98745685",
   "metadata": {},
   "source": [
    "## Run scVelo"
   ]
  },
  {
   "cell_type": "code",
   "execution_count": 6,
   "id": "935551c0-9f7f-46a5-963c-0d1678ab8152",
   "metadata": {},
   "outputs": [],
   "source": [
    "velocity_genes = adata.var[\"velocity_genes\"].copy()"
   ]
  },
  {
   "cell_type": "code",
   "execution_count": 7,
   "id": "92736749-d408-49e1-836d-4fe7b4e9a854",
   "metadata": {},
   "outputs": [
    {
     "name": "stdout",
     "output_type": "stream",
     "text": [
      "recovering dynamics (using 1/128 cores)\n"
     ]
    },
    {
     "data": {
      "application/vnd.jupyter.widget-view+json": {
       "model_id": "9f1a00bc89a544f093d01c9203b0c0ee",
       "version_major": 2,
       "version_minor": 0
      },
      "text/plain": [
       "  0%|          | 0/159 [00:00<?, ?gene/s]"
      ]
     },
     "metadata": {},
     "output_type": "display_data"
    },
    {
     "name": "stdout",
     "output_type": "stream",
     "text": [
      "    finished (0:00:38) --> added \n",
      "    'fit_pars', fitted parameters for splicing dynamics (adata.var)\n"
     ]
    }
   ],
   "source": [
    "scv.tl.recover_dynamics(adata, fit_scaling=False, var_names=adata.var_names)\n",
    "adata.var[\"fit_scaling\"] = 1.0"
   ]
  },
  {
   "cell_type": "code",
   "execution_count": 8,
   "id": "2467b25e-345c-4929-85f6-3eba3b89eac3",
   "metadata": {},
   "outputs": [
    {
     "name": "stdout",
     "output_type": "stream",
     "text": [
      "computing velocities\n",
      "    finished (0:00:00) --> added \n",
      "    'velocity', velocity vectors for each individual cell (adata.layers)\n"
     ]
    }
   ],
   "source": [
    "scv.tl.velocity(adata, mode=\"dynamical\", min_likelihood=-np.inf, min_r2=None)"
   ]
  },
  {
   "cell_type": "code",
   "execution_count": 9,
   "id": "63f29982-9163-4e63-9c02-423c8190290d",
   "metadata": {},
   "outputs": [],
   "source": [
    "adata.var[\"velocity_genes\"] = velocity_genes"
   ]
  },
  {
   "cell_type": "markdown",
   "id": "7921f00b-6c13-485a-89fe-4e2928422baa",
   "metadata": {},
   "source": [
    "## Calculate lineage fate probabilities and identify fate-associated genes"
   ]
  },
  {
   "cell_type": "code",
   "execution_count": 10,
   "id": "4c5f3e24-e236-4355-8b9a-d6193c894275",
   "metadata": {},
   "outputs": [
    {
     "data": {
      "application/vnd.jupyter.widget-view+json": {
       "model_id": "36f3367f44a8452598db560b322196ca",
       "version_major": 2,
       "version_minor": 0
      },
      "text/plain": [
       "  0%|          | 0/1947 [00:00<?, ?cell/s]"
      ]
     },
     "metadata": {},
     "output_type": "display_data"
    },
    {
     "data": {
      "application/vnd.jupyter.widget-view+json": {
       "model_id": "4379b3dd97e94b748c2cf81c7c250277",
       "version_major": 2,
       "version_minor": 0
      },
      "text/plain": [
       "  0%|          | 0/1947 [00:00<?, ?cell/s]"
      ]
     },
     "metadata": {},
     "output_type": "display_data"
    },
    {
     "name": "stdout",
     "output_type": "stream",
     "text": [
      "WARNING: Unable to import `petsc4py` or `slepc4py`. Using `method='brandts'`\n",
      "WARNING: For `method='brandts'`, dense matrix is required. Densifying\n",
      "WARNING: Unable to import petsc4py. For installation, please refer to: https://petsc4py.readthedocs.io/en/stable/install.html.\n",
      "Defaulting to `'gmres'` solver.\n"
     ]
    },
    {
     "data": {
      "application/vnd.jupyter.widget-view+json": {
       "model_id": "7f4f3d36aa294e1ba968b6d533175454",
       "version_major": 2,
       "version_minor": 0
      },
      "text/plain": [
       "  0%|          | 0/4 [00:00<?, ?/s]"
      ]
     },
     "metadata": {},
     "output_type": "display_data"
    },
    {
     "name": "stdout",
     "output_type": "stream",
     "text": [
      "ERROR: Unable to duplicate function call using shadow `anndata.AnnData` object. Reason: `value.index does not match parent’s var names:\n",
      "Index are different\n",
      "\n",
      "Index length are different\n",
      "[left]:  2000, Index(['DPM1', 'GCLC', 'NFYA', 'ANKIB1', 'LASP1', 'ALS2', 'CFLAR', 'AK2',\n",
      "       'RBM6', 'SLC25A13',\n",
      "       ...\n",
      "       'HERC2P2', 'STAG3L2', 'PMS2P14', 'PSMB3', 'DDX52', 'MYO19', 'PMS2P2',\n",
      "       'ACACA', 'MRPL45', 'WASH9P'],\n",
      "      dtype='object', length=2000)\n",
      "[right]: 159, Index(['ADCY6', 'ALS2', 'ANKRD36C', 'ANXA1', 'ARHGAP11A', 'ARHGAP30', 'ARID5B',\n",
      "       'ASPM', 'ATF6', 'BACE2',\n",
      "       ...\n",
      "       'UFL1', 'VASH1', 'VIM', 'VWF', 'ZEB1', 'ZFHX3', 'ZFPM1', 'ZNF263',\n",
      "       'ZNF274', 'ZYX'],\n",
      "      dtype='object', length=159)`\n"
     ]
    }
   ],
   "source": [
    "vk = cr.kernels.VelocityKernel(adata)\n",
    "vk.compute_transition_matrix()\n",
    "estimator = cr.estimators.GPCCA(vk)  ## We used vk here due to we want to benchmark on velocity\n",
    "\n",
    "estimator.compute_macrostates(n_states=5, cluster_key=\"cell_type\")\n",
    "estimator.set_terminal_states(terminal_states)\n",
    "\n",
    "estimator.compute_fate_probabilities()\n",
    "estimator.adata = adata_full.copy()\n",
    "scv_ranking = estimator.compute_lineage_drivers(return_drivers=True, cluster_key=\"cell_type\")\n",
    "\n",
    "scv_ranking = scv_ranking.loc[:, [\"Ery_corr\", \"Mon_corr\", \"Ery_pval\", \"Mon_pval\"]]"
   ]
  },
  {
   "cell_type": "markdown",
   "id": "2f348cf5-d68c-48f3-b25b-e5cdd812d2f4",
   "metadata": {},
   "source": [
    "## Save dataset"
   ]
  },
  {
   "cell_type": "markdown",
   "id": "5b784651-495e-4cdd-ad4d-967422baba13",
   "metadata": {},
   "source": [
    "Recalculate PCA for downstream CBC computation, as velocity is derived from the moment matrices."
   ]
  },
  {
   "cell_type": "code",
   "execution_count": 11,
   "id": "df032171-94c2-4acc-8af1-307f7d7d5c97",
   "metadata": {
    "tags": []
   },
   "outputs": [],
   "source": [
    "sc.tl.pca(adata, layer=\"Ms\")"
   ]
  },
  {
   "cell_type": "markdown",
   "id": "aa795c5f-98e6-4212-aabb-7a14bffd776d",
   "metadata": {},
   "source": [
    "Save adata with velocity layer"
   ]
  },
  {
   "cell_type": "code",
   "execution_count": 13,
   "id": "00390c69-9688-44fa-b269-adc3991add13",
   "metadata": {},
   "outputs": [],
   "source": [
    "if SAVE_DATA:\n",
    "    adata.write_h5ad(DATA_DIR / DATASET / \"processed\" / \"adata_run_scvelo.h5ad\")"
   ]
  },
  {
   "cell_type": "markdown",
   "id": "ee1b0761-4d20-4812-9380-b788e1052c7d",
   "metadata": {},
   "source": [
    "Save uncertainty and gene ranking results"
   ]
  },
  {
   "cell_type": "code",
   "execution_count": 14,
   "id": "b717afd9-1aaa-4e02-9bf8-ba86f35a00a5",
   "metadata": {},
   "outputs": [],
   "source": [
    "if SAVE_DATA:\n",
    "    scv_ranking.to_csv(DATA_DIR / DATASET / \"results\" / \"scv_ranking.csv\")"
   ]
  },
  {
   "cell_type": "code",
   "execution_count": null,
   "id": "1361d8cf-0346-4dcf-9aaa-516a22413365",
   "metadata": {},
   "outputs": [],
   "source": []
  },
  {
   "cell_type": "code",
   "execution_count": null,
   "id": "f13e1030-0902-4056-9fd5-fa4a1d0fb850",
   "metadata": {},
   "outputs": [],
   "source": []
  },
  {
   "cell_type": "code",
   "execution_count": null,
   "id": "ae5608ef-5856-4793-9579-1eb0eae900fa",
   "metadata": {},
   "outputs": [],
   "source": []
  }
 ],
 "metadata": {
  "kernelspec": {
   "display_name": "Python [conda env:dynamo]",
   "language": "python",
   "name": "conda-env-dynamo-py"
  },
  "language_info": {
   "codemirror_mode": {
    "name": "ipython",
    "version": 3
   },
   "file_extension": ".py",
   "mimetype": "text/x-python",
   "name": "python",
   "nbconvert_exporter": "python",
   "pygments_lexer": "ipython3",
   "version": "3.10.12"
  }
 },
 "nbformat": 4,
 "nbformat_minor": 5
}
