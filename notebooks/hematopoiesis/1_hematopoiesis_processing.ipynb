{
 "cells": [
  {
   "cell_type": "markdown",
   "id": "4c704a76-ba82-4283-ba95-aaff1800a6da",
   "metadata": {},
   "source": [
    "# Basic preprocessing and analysis of the human hematopoiesis dataset\n",
    "\n",
    "Notebook for preprocessing human hematopoiesis dataset"
   ]
  },
  {
   "cell_type": "markdown",
   "id": "fddaeb7a-78cc-4643-9206-efced58e25c1",
   "metadata": {},
   "source": [
    "## Library imports"
   ]
  },
  {
   "cell_type": "code",
   "execution_count": null,
   "id": "ab35de70-6b7e-4a74-83b4-0c6649b918cc",
   "metadata": {},
   "outputs": [],
   "source": [
    "import numpy as np\n",
    "import pandas as pd\n",
    "\n",
    "import matplotlib.pyplot as plt\n",
    "import mplscience\n",
    "\n",
    "import anndata as ad\n",
    "import scanpy as sc\n",
    "import scvelo as scv\n",
    "from velovi import preprocess_data\n",
    "\n",
    "from rgv_tools import DATA_DIR, FIG_DIR\n",
    "from rgv_tools.preprocessing import get_prior_grn"
   ]
  },
  {
   "cell_type": "markdown",
   "id": "688c6702-c447-4675-959e-5e64954fe7e8",
   "metadata": {},
   "source": [
    "## General settings"
   ]
  },
  {
   "cell_type": "code",
   "execution_count": null,
   "id": "524dee36",
   "metadata": {},
   "outputs": [],
   "source": [
    "sc.settings.verbosity = 2\n",
    "scv.settings.verbosity = 3"
   ]
  },
  {
   "cell_type": "code",
   "execution_count": null,
   "id": "010b8f37-d1c4-4a56-be67-4de4ecba88db",
   "metadata": {},
   "outputs": [],
   "source": [
    "plt.rcParams[\"svg.fonttype\"] = \"none\""
   ]
  },
  {
   "cell_type": "markdown",
   "id": "fd58377e-6979-4168-92b6-329a83769f9e",
   "metadata": {},
   "source": [
    "## Constants"
   ]
  },
  {
   "cell_type": "code",
   "execution_count": null,
   "id": "76611d32-3fc6-4044-8d95-f54a4e85096a",
   "metadata": {},
   "outputs": [],
   "source": [
    "DATASET = \"hematopoiesis\""
   ]
  },
  {
   "cell_type": "code",
   "execution_count": null,
   "id": "0a7b4777",
   "metadata": {},
   "outputs": [],
   "source": [
    "SAVE_DATA = True\n",
    "if SAVE_DATA:\n",
    "    (DATA_DIR / DATASET / \"processed\").mkdir(parents=True, exist_ok=True)"
   ]
  },
  {
   "cell_type": "code",
   "execution_count": null,
   "id": "9a41dcb9",
   "metadata": {},
   "outputs": [],
   "source": [
    "SAVE_FIGURES = False\n",
    "if SAVE_FIGURES:\n",
    "    (FIG_DIR / DATASET).mkdir(parents=True, exist_ok=True)\n",
    "\n",
    "FIGURE_FORMAT = \"svg\""
   ]
  },
  {
   "cell_type": "markdown",
   "id": "0a2a2db8-a4ba-4e76-9b1e-1833b92d474b",
   "metadata": {},
   "source": [
    "## Data loading"
   ]
  },
  {
   "cell_type": "code",
   "execution_count": null,
   "id": "395065ae-6ddd-4e95-8086-67ea947fd9ce",
   "metadata": {},
   "outputs": [],
   "source": [
    "adata = ad.io.read_h5ad(DATA_DIR / DATASET / \"raw\" / \"hsc_dynamo_adata.h5ad\")\n",
    "adata"
   ]
  },
  {
   "cell_type": "code",
   "execution_count": null,
   "id": "e698fa21",
   "metadata": {},
   "outputs": [],
   "source": [
    "tfs = pd.read_csv(DATA_DIR / DATASET / \"raw\" / \"allTFs_hg38.csv\", header=None)\n",
    "gt_net = pd.read_csv(DATA_DIR / DATASET / \"raw\" / \"skeleton.csv\", index_col=0)"
   ]
  },
  {
   "cell_type": "markdown",
   "id": "666ff14c-eb99-4b3c-aa7a-e2fb3d6460f4",
   "metadata": {},
   "source": [
    "## Visualization"
   ]
  },
  {
   "cell_type": "markdown",
   "id": "54841f21-6527-4e15-853d-8326ebfdbbc8",
   "metadata": {},
   "source": [
    "## Preprocessing"
   ]
  },
  {
   "cell_type": "code",
   "execution_count": null,
   "id": "56a6d56a-460e-417f-91b5-1380f5c28dbc",
   "metadata": {},
   "outputs": [],
   "source": [
    "scv.pp.filter_and_normalize(adata, min_shared_counts=10, log=False, n_top_genes=2000)"
   ]
  },
  {
   "cell_type": "code",
   "execution_count": null,
   "id": "04d28b5d",
   "metadata": {},
   "outputs": [],
   "source": [
    "sc.pp.neighbors(adata, n_neighbors=50)"
   ]
  },
  {
   "cell_type": "code",
   "execution_count": null,
   "id": "efa1ccc0",
   "metadata": {},
   "outputs": [],
   "source": [
    "scv.pp.moments(adata, n_pcs=None, n_neighbors=None)\n",
    "adata"
   ]
  },
  {
   "cell_type": "code",
   "execution_count": null,
   "id": "7c664c66",
   "metadata": {},
   "outputs": [],
   "source": [
    "with mplscience.style_context():\n",
    "    fig, ax = plt.subplots(figsize=(6, 4))\n",
    "    sc.pl.scatter(adata, basis=\"draw_graph_fa\", color=\"cell_type\", frameon=False, ax=ax)\n",
    "\n",
    "    if SAVE_FIGURES:\n",
    "        fig.savefig(\n",
    "            FIG_DIR / DATASET / f\"intro_figure.{FIGURE_FORMAT}\",\n",
    "            format=FIGURE_FORMAT,\n",
    "            transparent=True,\n",
    "            bbox_inches=\"tight\",\n",
    "        )"
   ]
  },
  {
   "cell_type": "code",
   "execution_count": null,
   "id": "22b5f57a",
   "metadata": {},
   "outputs": [],
   "source": [
    "scv.tl.velocity(adata)"
   ]
  },
  {
   "cell_type": "code",
   "execution_count": null,
   "id": "4e26e3e4",
   "metadata": {},
   "outputs": [],
   "source": [
    "if SAVE_DATA:\n",
    "    adata.write_h5ad(DATA_DIR / DATASET / \"processed\" / \"adata_preprocessed_full.h5ad\")\n",
    "\n",
    "del adata.uns[\"velocity_params\"]\n",
    "del adata.layers[\"velocity\"]\n",
    "del adata.layers[\"variance_velocity\"]\n",
    "adata.var.drop(columns=[\"velocity_gamma\", \"velocity_qreg_ratio\", \"velocity_r2\", \"velocity_genes\"], inplace=True)"
   ]
  },
  {
   "cell_type": "markdown",
   "id": "ded1c3fb-2c83-45b4-970e-a769ed33e234",
   "metadata": {},
   "source": [
    "## RegVelo preprocessing"
   ]
  },
  {
   "cell_type": "code",
   "execution_count": null,
   "id": "0c74b423-bc05-4aa4-9bc0-2beb00df8270",
   "metadata": {},
   "outputs": [],
   "source": [
    "adata = get_prior_grn(adata, gt_net)\n",
    "adata"
   ]
  },
  {
   "cell_type": "code",
   "execution_count": null,
   "id": "8860797a-c485-47ca-be0a-34181670a3d2",
   "metadata": {},
   "outputs": [],
   "source": [
    "velocity_genes = preprocess_data(adata.copy()).var_names.tolist()"
   ]
  },
  {
   "cell_type": "code",
   "execution_count": null,
   "id": "b4c48cc7-e76c-4cab-9877-71cad121ae23",
   "metadata": {},
   "outputs": [],
   "source": [
    "tf_grn = adata.var_names[adata.uns[\"skeleton\"].T.sum(0) != 0].tolist()\n",
    "tf = list(set(tfs.iloc[:, 0].tolist()).intersection(tf_grn))\n",
    "adata.var[\"tf\"] = adata.var_names.isin(tfs)"
   ]
  },
  {
   "cell_type": "markdown",
   "id": "052ff71c-55f9-40bc-b55e-d4a5e4bbf29f",
   "metadata": {},
   "source": [
    "Select genes that are either part of the transcription factor (TF) list or `velocity_genes`"
   ]
  },
  {
   "cell_type": "code",
   "execution_count": null,
   "id": "d6f315a2-ff63-401f-951f-2b9e253c2637",
   "metadata": {},
   "outputs": [],
   "source": [
    "var_mask = np.union1d(adata.var_names[adata.var[\"tf\"]], velocity_genes)\n",
    "adata = adata[:, var_mask].copy()"
   ]
  },
  {
   "cell_type": "code",
   "execution_count": null,
   "id": "185271ae-c8f4-46e4-a3ec-c83be5b44728",
   "metadata": {},
   "outputs": [],
   "source": [
    "adata = preprocess_data(adata, filter_on_r2=False)"
   ]
  },
  {
   "cell_type": "code",
   "execution_count": null,
   "id": "9d558e3d-a3ea-40bc-8a04-ced30184b91d",
   "metadata": {},
   "outputs": [],
   "source": [
    "mask = adata.var_names.isin(adata.uns[\"regulators\"])\n",
    "\n",
    "# Filter the skeleton matrix `W` based on the selected indices\n",
    "skeleton = adata.uns[\"skeleton\"][np.ix_(mask, mask)]\n",
    "\n",
    "# Update the filtered values in `uns`\n",
    "adata.uns.update({\"skeleton\": skeleton, \"regulators\": adata.var_names.tolist(), \"targets\": adata.var_names.tolist()})"
   ]
  },
  {
   "cell_type": "markdown",
   "id": "c19fd63d-1c52-4671-9128-126fa3ff6d87",
   "metadata": {},
   "source": [
    "## Save dataset"
   ]
  },
  {
   "cell_type": "code",
   "execution_count": null,
   "id": "2d1cb00c-a35a-4136-b072-f8e91a45ae81",
   "metadata": {},
   "outputs": [],
   "source": [
    "if SAVE_DATA:\n",
    "    adata.write_h5ad(DATA_DIR / DATASET / \"processed\" / \"adata_preprocessed.h5ad\")"
   ]
  }
 ],
 "metadata": {
  "kernelspec": {
   "display_name": "regvelo-py310",
   "language": "python",
   "name": "python3"
  },
  "language_info": {
   "codemirror_mode": {
    "name": "ipython",
    "version": 3
   },
   "file_extension": ".py",
   "mimetype": "text/x-python",
   "name": "python",
   "nbconvert_exporter": "python",
   "pygments_lexer": "ipython3",
   "version": "3.10.15"
  }
 },
 "nbformat": 4,
 "nbformat_minor": 5
}
