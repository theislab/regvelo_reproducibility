{
 "cells": [
  {
   "cell_type": "markdown",
   "id": "da1605d6-b4da-403b-acd6-fa0e0170f682",
   "metadata": {},
   "source": [
    "## Compare estimated velocity robustness between regvelo and veloVI\n",
    "\n",
    "Notebook for evaluating robustness of velocity estimation"
   ]
  },
  {
   "cell_type": "markdown",
   "id": "def0cd6f-295c-455d-8597-3528aa15f4dc",
   "metadata": {},
   "source": [
    "## Library imports"
   ]
  },
  {
   "cell_type": "code",
   "execution_count": 1,
   "id": "583e7f35-2bc9-49f4-8bda-fe970f8a83f1",
   "metadata": {},
   "outputs": [
    {
     "name": "stderr",
     "output_type": "stream",
     "text": [
      "/home/icb/weixu.wang/miniconda3/envs/regvelo_test/lib/python3.10/site-packages/anndata/utils.py:429: FutureWarning: Importing read_csv from `anndata` is deprecated. Import anndata.io.read_csv instead.\n",
      "  warnings.warn(msg, FutureWarning)\n",
      "/home/icb/weixu.wang/miniconda3/envs/regvelo_test/lib/python3.10/site-packages/anndata/utils.py:429: FutureWarning: Importing read_excel from `anndata` is deprecated. Import anndata.io.read_excel instead.\n",
      "  warnings.warn(msg, FutureWarning)\n",
      "/home/icb/weixu.wang/miniconda3/envs/regvelo_test/lib/python3.10/site-packages/anndata/utils.py:429: FutureWarning: Importing read_hdf from `anndata` is deprecated. Import anndata.io.read_hdf instead.\n",
      "  warnings.warn(msg, FutureWarning)\n",
      "/home/icb/weixu.wang/miniconda3/envs/regvelo_test/lib/python3.10/site-packages/anndata/utils.py:429: FutureWarning: Importing read_loom from `anndata` is deprecated. Import anndata.io.read_loom instead.\n",
      "  warnings.warn(msg, FutureWarning)\n",
      "/home/icb/weixu.wang/miniconda3/envs/regvelo_test/lib/python3.10/site-packages/anndata/utils.py:429: FutureWarning: Importing read_mtx from `anndata` is deprecated. Import anndata.io.read_mtx instead.\n",
      "  warnings.warn(msg, FutureWarning)\n",
      "/home/icb/weixu.wang/miniconda3/envs/regvelo_test/lib/python3.10/site-packages/anndata/utils.py:429: FutureWarning: Importing read_text from `anndata` is deprecated. Import anndata.io.read_text instead.\n",
      "  warnings.warn(msg, FutureWarning)\n",
      "/home/icb/weixu.wang/miniconda3/envs/regvelo_test/lib/python3.10/site-packages/anndata/utils.py:429: FutureWarning: Importing read_umi_tools from `anndata` is deprecated. Import anndata.io.read_umi_tools instead.\n",
      "  warnings.warn(msg, FutureWarning)\n"
     ]
    }
   ],
   "source": [
    "import pandas as pd\n",
    "import scipy\n",
    "\n",
    "import matplotlib.pyplot as plt\n",
    "import mplscience\n",
    "import seaborn as sns\n",
    "\n",
    "import scanpy as sc\n",
    "import scvelo as scv\n",
    "\n",
    "from rgv_tools import DATA_DIR, FIG_DIR\n",
    "from rgv_tools.benchmarking import compute_average_correlations"
   ]
  },
  {
   "cell_type": "markdown",
   "id": "c0a84cbc-ef25-4cae-84fe-63a45e84a9c7",
   "metadata": {},
   "source": [
    "## Constants"
   ]
  },
  {
   "cell_type": "code",
   "execution_count": 2,
   "id": "b0c14cf2-d6f9-478d-9f98-83aa5e02784f",
   "metadata": {},
   "outputs": [],
   "source": [
    "DATASET = \"hematopoiesis\""
   ]
  },
  {
   "cell_type": "code",
   "execution_count": 3,
   "id": "f4c15504-bcb3-4de1-8cc6-22ff0df62521",
   "metadata": {},
   "outputs": [],
   "source": [
    "SAVE_FIGURES = True\n",
    "if SAVE_FIGURES:\n",
    "    (FIG_DIR / DATASET).mkdir(parents=True, exist_ok=True)"
   ]
  },
  {
   "cell_type": "markdown",
   "id": "800e5a3a-6698-451c-bec3-c46a2f5845e3",
   "metadata": {},
   "source": [
    "## Compute estimation robustness"
   ]
  },
  {
   "cell_type": "code",
   "execution_count": 4,
   "id": "4dcaffc6-986a-4504-b5d7-c47be357e09f",
   "metadata": {},
   "outputs": [],
   "source": [
    "velo_m = []\n",
    "time_m = []\n",
    "for nrun in range(10):\n",
    "    velo_m.append(sc.read_h5ad(DATA_DIR / DATASET / \"processed\" / f\"rgv_adata_runs_{nrun}.h5ad\").layers[\"velocity\"])\n",
    "    time_m.append(sc.read_h5ad(DATA_DIR / DATASET / \"processed\" / f\"rgv_adata_runs_{nrun}.h5ad\").layers[\"fit_t\"])"
   ]
  },
  {
   "cell_type": "code",
   "execution_count": 5,
   "id": "3dd2674a-d38e-42ce-86d6-8593a62ee966",
   "metadata": {},
   "outputs": [],
   "source": [
    "velo_rgv = compute_average_correlations(velo_m, method=\"p\")"
   ]
  },
  {
   "cell_type": "code",
   "execution_count": 6,
   "id": "58ef3d05-bef4-451b-a651-ddd3b513852e",
   "metadata": {},
   "outputs": [],
   "source": [
    "time_rgv = compute_average_correlations(time_m, method=\"sp\")"
   ]
  },
  {
   "cell_type": "code",
   "execution_count": 7,
   "id": "3539d5af-9924-4b76-acff-cbe13bb52f0e",
   "metadata": {},
   "outputs": [],
   "source": [
    "velo_m = []\n",
    "time_m = []\n",
    "for nrun in range(10):\n",
    "    velo_m.append(sc.read_h5ad(DATA_DIR / DATASET / \"processed\" / f\"vi_adata_runs_{nrun}.h5ad\").layers[\"velocity\"])\n",
    "    time_m.append(sc.read_h5ad(DATA_DIR / DATASET / \"processed\" / f\"vi_adata_runs_{nrun}.h5ad\").layers[\"fit_t\"])"
   ]
  },
  {
   "cell_type": "code",
   "execution_count": 8,
   "id": "39604c49-ba71-458e-8bc0-e29b1a28c924",
   "metadata": {},
   "outputs": [],
   "source": [
    "velo_vi = compute_average_correlations(velo_m, method=\"p\")"
   ]
  },
  {
   "cell_type": "code",
   "execution_count": 9,
   "id": "9dd4c1ea-e93f-47dc-9d8c-beb098e96de4",
   "metadata": {},
   "outputs": [],
   "source": [
    "time_vi = compute_average_correlations(time_m, method=\"sp\")"
   ]
  },
  {
   "cell_type": "markdown",
   "id": "93e02bd9-96b0-4208-9fc1-bf1fb1bfea6d",
   "metadata": {},
   "source": [
    "## Compute velocity confidence"
   ]
  },
  {
   "cell_type": "code",
   "execution_count": 10,
   "id": "dc8f25f6-e937-4446-b0fa-6a8a1ac5683f",
   "metadata": {},
   "outputs": [
    {
     "name": "stdout",
     "output_type": "stream",
     "text": [
      "computing velocity graph (using 1/112 cores)\n",
      "WARNING: Unable to create progress bar. Consider installing `tqdm` as `pip install tqdm` and `ipywidgets` as `pip install ipywidgets`,\n",
      "or disable the progress bar using `show_progress_bar=False`.\n",
      "    finished (0:00:01) --> added \n",
      "    'velocity_graph', sparse matrix with cosine correlations (adata.uns)\n",
      "--> added 'velocity_length' (adata.obs)\n",
      "--> added 'velocity_confidence' (adata.obs)\n",
      "--> added 'velocity_confidence_transition' (adata.obs)\n",
      "computing velocity graph (using 1/112 cores)\n",
      "    finished (0:00:01) --> added \n",
      "    'velocity_graph', sparse matrix with cosine correlations (adata.uns)\n",
      "--> added 'velocity_length' (adata.obs)\n",
      "--> added 'velocity_confidence' (adata.obs)\n",
      "--> added 'velocity_confidence_transition' (adata.obs)\n",
      "computing velocity graph (using 1/112 cores)\n",
      "    finished (0:00:01) --> added \n",
      "    'velocity_graph', sparse matrix with cosine correlations (adata.uns)\n",
      "--> added 'velocity_length' (adata.obs)\n",
      "--> added 'velocity_confidence' (adata.obs)\n",
      "--> added 'velocity_confidence_transition' (adata.obs)\n",
      "computing velocity graph (using 1/112 cores)\n",
      "    finished (0:00:01) --> added \n",
      "    'velocity_graph', sparse matrix with cosine correlations (adata.uns)\n",
      "--> added 'velocity_length' (adata.obs)\n",
      "--> added 'velocity_confidence' (adata.obs)\n",
      "--> added 'velocity_confidence_transition' (adata.obs)\n",
      "computing velocity graph (using 1/112 cores)\n",
      "    finished (0:00:01) --> added \n",
      "    'velocity_graph', sparse matrix with cosine correlations (adata.uns)\n",
      "--> added 'velocity_length' (adata.obs)\n",
      "--> added 'velocity_confidence' (adata.obs)\n",
      "--> added 'velocity_confidence_transition' (adata.obs)\n",
      "computing velocity graph (using 1/112 cores)\n",
      "    finished (0:00:01) --> added \n",
      "    'velocity_graph', sparse matrix with cosine correlations (adata.uns)\n",
      "--> added 'velocity_length' (adata.obs)\n",
      "--> added 'velocity_confidence' (adata.obs)\n",
      "--> added 'velocity_confidence_transition' (adata.obs)\n",
      "computing velocity graph (using 1/112 cores)\n",
      "    finished (0:00:01) --> added \n",
      "    'velocity_graph', sparse matrix with cosine correlations (adata.uns)\n",
      "--> added 'velocity_length' (adata.obs)\n",
      "--> added 'velocity_confidence' (adata.obs)\n",
      "--> added 'velocity_confidence_transition' (adata.obs)\n",
      "computing velocity graph (using 1/112 cores)\n",
      "    finished (0:00:01) --> added \n",
      "    'velocity_graph', sparse matrix with cosine correlations (adata.uns)\n",
      "--> added 'velocity_length' (adata.obs)\n",
      "--> added 'velocity_confidence' (adata.obs)\n",
      "--> added 'velocity_confidence_transition' (adata.obs)\n",
      "computing velocity graph (using 1/112 cores)\n",
      "    finished (0:00:01) --> added \n",
      "    'velocity_graph', sparse matrix with cosine correlations (adata.uns)\n",
      "--> added 'velocity_length' (adata.obs)\n",
      "--> added 'velocity_confidence' (adata.obs)\n",
      "--> added 'velocity_confidence_transition' (adata.obs)\n",
      "computing velocity graph (using 1/112 cores)\n",
      "    finished (0:00:01) --> added \n",
      "    'velocity_graph', sparse matrix with cosine correlations (adata.uns)\n",
      "--> added 'velocity_length' (adata.obs)\n",
      "--> added 'velocity_confidence' (adata.obs)\n",
      "--> added 'velocity_confidence_transition' (adata.obs)\n"
     ]
    }
   ],
   "source": [
    "confi_rgv = []\n",
    "for nrun in range(10):\n",
    "    adata = sc.read_h5ad(DATA_DIR / DATASET / \"processed\" / f\"rgv_adata_runs_{nrun}.h5ad\")\n",
    "    scv.tl.velocity_graph(adata)\n",
    "    scv.tl.velocity_confidence(adata)\n",
    "    confi_rgv.append(adata.obs[\"velocity_confidence\"].mean())"
   ]
  },
  {
   "cell_type": "code",
   "execution_count": 11,
   "id": "ad70dc53-6c34-46e0-9e44-63d33564fb5b",
   "metadata": {},
   "outputs": [
    {
     "name": "stdout",
     "output_type": "stream",
     "text": [
      "computing velocity graph (using 1/112 cores)\n",
      "    finished (0:00:01) --> added \n",
      "    'velocity_graph', sparse matrix with cosine correlations (adata.uns)\n",
      "--> added 'velocity_length' (adata.obs)\n",
      "--> added 'velocity_confidence' (adata.obs)\n",
      "--> added 'velocity_confidence_transition' (adata.obs)\n",
      "computing velocity graph (using 1/112 cores)\n",
      "    finished (0:00:01) --> added \n",
      "    'velocity_graph', sparse matrix with cosine correlations (adata.uns)\n",
      "--> added 'velocity_length' (adata.obs)\n",
      "--> added 'velocity_confidence' (adata.obs)\n",
      "--> added 'velocity_confidence_transition' (adata.obs)\n",
      "computing velocity graph (using 1/112 cores)\n",
      "    finished (0:00:01) --> added \n",
      "    'velocity_graph', sparse matrix with cosine correlations (adata.uns)\n",
      "--> added 'velocity_length' (adata.obs)\n",
      "--> added 'velocity_confidence' (adata.obs)\n",
      "--> added 'velocity_confidence_transition' (adata.obs)\n",
      "computing velocity graph (using 1/112 cores)\n",
      "    finished (0:00:01) --> added \n",
      "    'velocity_graph', sparse matrix with cosine correlations (adata.uns)\n",
      "--> added 'velocity_length' (adata.obs)\n",
      "--> added 'velocity_confidence' (adata.obs)\n",
      "--> added 'velocity_confidence_transition' (adata.obs)\n",
      "computing velocity graph (using 1/112 cores)\n",
      "    finished (0:00:01) --> added \n",
      "    'velocity_graph', sparse matrix with cosine correlations (adata.uns)\n",
      "--> added 'velocity_length' (adata.obs)\n",
      "--> added 'velocity_confidence' (adata.obs)\n",
      "--> added 'velocity_confidence_transition' (adata.obs)\n",
      "computing velocity graph (using 1/112 cores)\n",
      "    finished (0:00:01) --> added \n",
      "    'velocity_graph', sparse matrix with cosine correlations (adata.uns)\n",
      "--> added 'velocity_length' (adata.obs)\n",
      "--> added 'velocity_confidence' (adata.obs)\n",
      "--> added 'velocity_confidence_transition' (adata.obs)\n",
      "computing velocity graph (using 1/112 cores)\n",
      "    finished (0:00:01) --> added \n",
      "    'velocity_graph', sparse matrix with cosine correlations (adata.uns)\n",
      "--> added 'velocity_length' (adata.obs)\n",
      "--> added 'velocity_confidence' (adata.obs)\n",
      "--> added 'velocity_confidence_transition' (adata.obs)\n",
      "computing velocity graph (using 1/112 cores)\n",
      "    finished (0:00:01) --> added \n",
      "    'velocity_graph', sparse matrix with cosine correlations (adata.uns)\n",
      "--> added 'velocity_length' (adata.obs)\n",
      "--> added 'velocity_confidence' (adata.obs)\n",
      "--> added 'velocity_confidence_transition' (adata.obs)\n",
      "computing velocity graph (using 1/112 cores)\n",
      "    finished (0:00:01) --> added \n",
      "    'velocity_graph', sparse matrix with cosine correlations (adata.uns)\n",
      "--> added 'velocity_length' (adata.obs)\n",
      "--> added 'velocity_confidence' (adata.obs)\n",
      "--> added 'velocity_confidence_transition' (adata.obs)\n",
      "computing velocity graph (using 1/112 cores)\n",
      "    finished (0:00:01) --> added \n",
      "    'velocity_graph', sparse matrix with cosine correlations (adata.uns)\n",
      "--> added 'velocity_length' (adata.obs)\n",
      "--> added 'velocity_confidence' (adata.obs)\n",
      "--> added 'velocity_confidence_transition' (adata.obs)\n"
     ]
    }
   ],
   "source": [
    "confi_vi = []\n",
    "for nrun in range(10):\n",
    "    adata = sc.read_h5ad(DATA_DIR / DATASET / \"processed\" / f\"vi_adata_runs_{nrun}.h5ad\")\n",
    "    scv.tl.velocity_graph(adata)\n",
    "    scv.tl.velocity_confidence(adata)\n",
    "    confi_vi.append(adata.obs[\"velocity_confidence\"].mean())"
   ]
  },
  {
   "cell_type": "markdown",
   "id": "efa306d3-d56f-4121-94a8-31cd711a96d2",
   "metadata": {},
   "source": [
    "## Plot benchmark results"
   ]
  },
  {
   "cell_type": "code",
   "execution_count": 12,
   "id": "38dee862-d2b5-4cfa-971d-6c675fbe93ae",
   "metadata": {},
   "outputs": [],
   "source": [
    "dfs = []\n",
    "\n",
    "g_df = pd.DataFrame({\"velocity correlation\": velo_rgv})\n",
    "g_df[\"Method\"] = \"RegVelo\"\n",
    "dfs.append(g_df)\n",
    "\n",
    "g_df = pd.DataFrame({\"velocity correlation\": velo_vi})\n",
    "g_df[\"Method\"] = \"veloVI\"\n",
    "dfs.append(g_df)\n",
    "\n",
    "velo_df = pd.concat(dfs, axis=0)\n",
    "velo_df[\"Method\"] = velo_df[\"Method\"].astype(\"category\")"
   ]
  },
  {
   "cell_type": "code",
   "execution_count": 13,
   "id": "0034c8a6-1a56-48c9-a8f2-931f68f824a4",
   "metadata": {},
   "outputs": [
    {
     "data": {
      "image/png": "[encoded data removed]",
      "text/plain": [
       "<Figure size 300x300 with 1 Axes>"
      ]
     },
     "metadata": {},
     "output_type": "display_data"
    }
   ],
   "source": [
    "with mplscience.style_context():\n",
    "    sns.set_style(style=\"whitegrid\")\n",
    "    fig, ax = plt.subplots(figsize=(3, 3))\n",
    "    pal = {\"RegVelo\": \"#0173b2\", \"veloVI\": \"#de8f05\"}\n",
    "\n",
    "    sns.violinplot(\n",
    "        data=velo_df,\n",
    "        ax=ax,\n",
    "        # orient=\"h\",\n",
    "        x=\"Method\",\n",
    "        y=\"velocity correlation\",\n",
    "        order=[\"RegVelo\", \"veloVI\"],\n",
    "        palette=pal,\n",
    "    )\n",
    "    # plt.legend(title='', loc='lower center', bbox_to_anchor=(0.5, -0.6), ncol=3)\n",
    "    ax.set_yticks([0.6, 0.7, 0.8, 0.9])\n",
    "    ax.set_yticklabels([0.6, 0.7, 0.8, 0.9])\n",
    "    plt.xlabel(\"\")\n",
    "\n",
    "    if SAVE_FIGURES:\n",
    "        fig.savefig(FIG_DIR / DATASET / \"velocity_robustness.svg\", format=\"svg\", transparent=True, bbox_inches=\"tight\")\n",
    "    plt.show()"
   ]
  },
  {
   "cell_type": "code",
   "execution_count": 14,
   "id": "bf713806-9a32-4fe0-a0e7-f912022e1cff",
   "metadata": {},
   "outputs": [],
   "source": [
    "dfs = []\n",
    "\n",
    "g_df = pd.DataFrame({\"time correlation\": time_rgv})\n",
    "g_df[\"Method\"] = \"RegVelo\"\n",
    "dfs.append(g_df)\n",
    "\n",
    "g_df = pd.DataFrame({\"time correlation\": time_vi})\n",
    "g_df[\"Method\"] = \"veloVI\"\n",
    "dfs.append(g_df)\n",
    "\n",
    "time_df = pd.concat(dfs, axis=0)\n",
    "time_df[\"Method\"] = time_df[\"Method\"].astype(\"category\")"
   ]
  },
  {
   "cell_type": "code",
   "execution_count": 15,
   "id": "461dd873-6f30-48ab-be66-b8dba03229f2",
   "metadata": {},
   "outputs": [
    {
     "data": {
      "image/png": "[encoded data removed]",
      "text/plain": [
       "<Figure size 300x300 with 1 Axes>"
      ]
     },
     "metadata": {},
     "output_type": "display_data"
    }
   ],
   "source": [
    "with mplscience.style_context():\n",
    "    sns.set_style(style=\"whitegrid\")\n",
    "    fig, ax = plt.subplots(figsize=(3, 3))\n",
    "    pal = {\"RegVelo\": \"#0173b2\", \"veloVI\": \"#de8f05\"}\n",
    "\n",
    "    sns.violinplot(\n",
    "        data=time_df,\n",
    "        ax=ax,\n",
    "        # orient=\"h\",\n",
    "        x=\"Method\",\n",
    "        y=\"time correlation\",\n",
    "        order=[\"RegVelo\", \"veloVI\"],\n",
    "        palette=pal,\n",
    "    )\n",
    "    # plt.legend(title='', loc='lower center', bbox_to_anchor=(0.5, -0.6), ncol=3)\n",
    "    ax.set_yticks([0.6, 0.7, 0.8, 0.9])\n",
    "    ax.set_yticklabels([0.6, 0.7, 0.8, 0.9])\n",
    "    plt.xlabel(\"\")\n",
    "\n",
    "    if SAVE_FIGURES:\n",
    "        fig.savefig(FIG_DIR / DATASET / \"time_robustness.svg\", format=\"svg\", transparent=True, bbox_inches=\"tight\")\n",
    "    plt.show()"
   ]
  },
  {
   "cell_type": "code",
   "execution_count": 16,
   "id": "3f4cd41c-f3b4-4bd6-aa4a-c539771f7787",
   "metadata": {},
   "outputs": [],
   "source": [
    "dfs = []\n",
    "\n",
    "g_df = pd.DataFrame({\"velocity confidence\": confi_rgv})\n",
    "g_df[\"Method\"] = \"RegVelo\"\n",
    "dfs.append(g_df)\n",
    "\n",
    "g_df = pd.DataFrame({\"velocity confidence\": confi_vi})\n",
    "g_df[\"Method\"] = \"veloVI\"\n",
    "dfs.append(g_df)\n",
    "\n",
    "confi_df = pd.concat(dfs, axis=0)\n",
    "confi_df[\"Method\"] = confi_df[\"Method\"].astype(\"category\")"
   ]
  },
  {
   "cell_type": "code",
   "execution_count": 17,
   "id": "e12e78b4-23d7-4773-b399-562d663f93a9",
   "metadata": {},
   "outputs": [
    {
     "data": {
      "image/png": "[encoded data removed]",
      "text/plain": [
       "<Figure size 300x300 with 1 Axes>"
      ]
     },
     "metadata": {},
     "output_type": "display_data"
    }
   ],
   "source": [
    "with mplscience.style_context():\n",
    "    sns.set_style(style=\"whitegrid\")\n",
    "    fig, ax = plt.subplots(figsize=(3, 3))\n",
    "    pal = {\"RegVelo\": \"#0173b2\", \"veloVI\": \"#de8f05\"}\n",
    "\n",
    "    sns.violinplot(\n",
    "        data=confi_df,\n",
    "        ax=ax,\n",
    "        # orient=\"h\",\n",
    "        x=\"Method\",\n",
    "        y=\"velocity confidence\",\n",
    "        order=[\"RegVelo\", \"veloVI\"],\n",
    "        palette=pal,\n",
    "    )\n",
    "    # plt.legend(title='', loc='lower center', bbox_to_anchor=(0.5, -0.6), ncol=3)\n",
    "    ax.set_yticks([0.6, 0.7, 0.8, 0.9])\n",
    "    ax.set_yticklabels([0.6, 0.7, 0.8, 0.9])\n",
    "    plt.xlabel(\"\")\n",
    "\n",
    "    if SAVE_FIGURES:\n",
    "        fig.savefig(FIG_DIR / DATASET / \"velocity_confidence.svg\", format=\"svg\", transparent=True, bbox_inches=\"tight\")\n",
    "    plt.show()"
   ]
  },
  {
   "cell_type": "markdown",
   "id": "d3f2d7b8-adf0-4f86-b4d2-f372a9f2470e",
   "metadata": {},
   "source": [
    "## Test significance"
   ]
  },
  {
   "cell_type": "code",
   "execution_count": 18,
   "id": "d662ca46-71ee-45f3-849b-5bb726dcc208",
   "metadata": {},
   "outputs": [
    {
     "data": {
      "text/plain": [
       "TtestResult(statistic=47.5942306011296, pvalue=6.913291028470966e-65, df=88.0)"
      ]
     },
     "execution_count": 18,
     "metadata": {},
     "output_type": "execute_result"
    }
   ],
   "source": [
    "scipy.stats.ttest_ind(velo_rgv, velo_vi, alternative=\"greater\")"
   ]
  },
  {
   "cell_type": "code",
   "execution_count": 19,
   "id": "71e7a5cf-9c99-4879-92cb-78e1f8e767e3",
   "metadata": {},
   "outputs": [
    {
     "data": {
      "text/plain": [
       "TtestResult(statistic=44.393343875292615, pvalue=2.484323625884492e-62, df=88.0)"
      ]
     },
     "execution_count": 19,
     "metadata": {},
     "output_type": "execute_result"
    }
   ],
   "source": [
    "scipy.stats.ttest_ind(time_rgv, time_vi, alternative=\"greater\")"
   ]
  },
  {
   "cell_type": "code",
   "execution_count": 20,
   "id": "2d764b84-dcaa-4703-83dd-8b68b87ec712",
   "metadata": {},
   "outputs": [
    {
     "data": {
      "text/plain": [
       "TtestResult(statistic=29.233032070958988, pvalue=6.332341886443939e-17, df=18.0)"
      ]
     },
     "execution_count": 20,
     "metadata": {},
     "output_type": "execute_result"
    }
   ],
   "source": [
    "scipy.stats.ttest_ind(confi_rgv, confi_vi, alternative=\"greater\")"
   ]
  }
 ],
 "metadata": {
  "kernelspec": {
   "display_name": "Python [conda env:regvelo_test]",
   "language": "python",
   "name": "conda-env-regvelo_test-py"
  },
  "language_info": {
   "codemirror_mode": {
    "name": "ipython",
    "version": 3
   },
   "file_extension": ".py",
   "mimetype": "text/x-python",
   "name": "python",
   "nbconvert_exporter": "python",
   "pygments_lexer": "ipython3",
   "version": "3.10.15"
  }
 },
 "nbformat": 4,
 "nbformat_minor": 5
}
