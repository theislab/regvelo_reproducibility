{
 "cells": [
  {
   "cell_type": "markdown",
   "id": "36651cb2-e84a-4dcd-a198-982a1e39a53f",
   "metadata": {},
   "source": [
    "# Comparison of driver TF ranking performance\n",
    "\n",
    "Notebook compares the performance of RegVelo (CR), RegVelo (perturbation), and Dynamo in predicting driver genes."
   ]
  },
  {
   "cell_type": "markdown",
   "id": "ff1481c0-3868-498b-ad00-04d614544a18",
   "metadata": {},
   "source": [
    "## Library imports"
   ]
  },
  {
   "cell_type": "code",
   "execution_count": 1,
   "id": "8247e583-89f4-4157-9c8c-250c8908d9f0",
   "metadata": {},
   "outputs": [
    {
     "name": "stderr",
     "output_type": "stream",
     "text": [
      "/home/icb/weixu.wang/miniconda3/envs/dynamo/lib/python3.10/site-packages/anndata/utils.py:429: FutureWarning: Importing read_csv from `anndata` is deprecated. Import anndata.io.read_csv instead.\n",
      "  warnings.warn(msg, FutureWarning)\n",
      "/home/icb/weixu.wang/miniconda3/envs/dynamo/lib/python3.10/site-packages/anndata/utils.py:429: FutureWarning: Importing read_excel from `anndata` is deprecated. Import anndata.io.read_excel instead.\n",
      "  warnings.warn(msg, FutureWarning)\n",
      "/home/icb/weixu.wang/miniconda3/envs/dynamo/lib/python3.10/site-packages/anndata/utils.py:429: FutureWarning: Importing read_hdf from `anndata` is deprecated. Import anndata.io.read_hdf instead.\n",
      "  warnings.warn(msg, FutureWarning)\n",
      "/home/icb/weixu.wang/miniconda3/envs/dynamo/lib/python3.10/site-packages/anndata/utils.py:429: FutureWarning: Importing read_loom from `anndata` is deprecated. Import anndata.io.read_loom instead.\n",
      "  warnings.warn(msg, FutureWarning)\n",
      "/home/icb/weixu.wang/miniconda3/envs/dynamo/lib/python3.10/site-packages/anndata/utils.py:429: FutureWarning: Importing read_mtx from `anndata` is deprecated. Import anndata.io.read_mtx instead.\n",
      "  warnings.warn(msg, FutureWarning)\n",
      "/home/icb/weixu.wang/miniconda3/envs/dynamo/lib/python3.10/site-packages/anndata/utils.py:429: FutureWarning: Importing read_text from `anndata` is deprecated. Import anndata.io.read_text instead.\n",
      "  warnings.warn(msg, FutureWarning)\n",
      "/home/icb/weixu.wang/miniconda3/envs/dynamo/lib/python3.10/site-packages/anndata/utils.py:429: FutureWarning: Importing read_umi_tools from `anndata` is deprecated. Import anndata.io.read_umi_tools instead.\n",
      "  warnings.warn(msg, FutureWarning)\n"
     ]
    }
   ],
   "source": [
    "import numpy as np\n",
    "import pandas as pd\n",
    "from sklearn.metrics import roc_auc_score\n",
    "\n",
    "import matplotlib.pyplot as plt\n",
    "import mplscience\n",
    "import seaborn as sns\n",
    "\n",
    "import cellrank as cr\n",
    "import scanpy as sc\n",
    "from regvelo import REGVELOVI\n",
    "\n",
    "from rgv_tools import DATA_DIR, FIG_DIR\n",
    "from rgv_tools.benchmarking import set_output\n",
    "from rgv_tools.core import METHOD_PALETTE_DRIVER\n",
    "from rgv_tools.perturbation import aggregate_model_predictions"
   ]
  },
  {
   "cell_type": "markdown",
   "id": "1f95be50-87fd-457b-b560-c00bd8838cac",
   "metadata": {},
   "source": [
    "## Constants"
   ]
  },
  {
   "cell_type": "code",
   "execution_count": 2,
   "id": "89af4ac8-21b8-4a63-ac79-40727e4ef4b1",
   "metadata": {},
   "outputs": [],
   "source": [
    "DATASET = \"hematopoiesis\""
   ]
  },
  {
   "cell_type": "code",
   "execution_count": 3,
   "id": "6ce277b5-4e19-487c-a838-665b7019baf5",
   "metadata": {},
   "outputs": [],
   "source": [
    "SAVE_DATA = True\n",
    "if SAVE_DATA:\n",
    "    (DATA_DIR / DATASET / \"results\").mkdir(parents=True, exist_ok=True)\n",
    "\n",
    "SAVE_FIGURES = True\n",
    "if SAVE_FIGURES:\n",
    "    (FIG_DIR / DATASET).mkdir(parents=True, exist_ok=True)"
   ]
  },
  {
   "cell_type": "code",
   "execution_count": 4,
   "id": "b9f7ba86-cb21-47c7-8378-c766747ba29c",
   "metadata": {},
   "outputs": [],
   "source": [
    "Mon_driver = [\"SPI1\", \"TCF4\", \"STAT6\", \"MEF2C\"]\n",
    "Ery_driver = [\"NFIA\", \"GATA1\", \"TAL1\", \"GFI1B\", \"LMO2\"]"
   ]
  },
  {
   "cell_type": "code",
   "execution_count": 5,
   "id": "b065ac80-b191-4942-8fe2-3c5380bef9c1",
   "metadata": {},
   "outputs": [],
   "source": [
    "terminal_states = [\"Meg\", \"Mon\", \"Bas\", \"Ery\"]"
   ]
  },
  {
   "cell_type": "markdown",
   "id": "b3102a11-822f-4e77-a3e4-9893db2ffc7c",
   "metadata": {},
   "source": [
    "## Data loading"
   ]
  },
  {
   "cell_type": "code",
   "execution_count": 6,
   "id": "5efda537-aa5f-449e-8693-d57d9bb7c878",
   "metadata": {},
   "outputs": [],
   "source": [
    "adata = sc.read_h5ad(DATA_DIR / DATASET / \"processed\" / \"adata_preprocessed.h5ad\")\n",
    "TF = adata.var_names[adata.var[\"TF\"]]"
   ]
  },
  {
   "cell_type": "code",
   "execution_count": 7,
   "id": "8873f90a-c9b4-4ca4-9979-045ddfee0f87",
   "metadata": {},
   "outputs": [],
   "source": [
    "regvelo_prediction = aggregate_model_predictions(DATA_DIR / DATASET / \"results\")"
   ]
  },
  {
   "cell_type": "code",
   "execution_count": 9,
   "id": "7ae03e75-3eea-438b-92c3-91e127cf460d",
   "metadata": {},
   "outputs": [],
   "source": [
    "HSC_Mon_ranking = pd.read_csv(DATA_DIR / DATASET / \"results\" / \"HSC_Mon_ranking.csv\", index_col=0)\n",
    "HSC_Ery_ranking = pd.read_csv(DATA_DIR / DATASET / \"results\" / \"HSC_Ery_ranking.csv\", index_col=0)"
   ]
  },
  {
   "cell_type": "markdown",
   "id": "7b6f08e6-568f-44c1-acff-f7fbf8f4909c",
   "metadata": {},
   "source": [
    "## RegVelo's in silico perturbation driver identification"
   ]
  },
  {
   "cell_type": "code",
   "execution_count": 11,
   "id": "51727326-2d06-44c0-a2c6-943c295237e0",
   "metadata": {},
   "outputs": [],
   "source": [
    "ery_auc_rgv = []\n",
    "mon_auc_rgv = []"
   ]
  },
  {
   "cell_type": "code",
   "execution_count": 12,
   "id": "1433e449-c6e9-4719-bb50-ac4b6c69d94d",
   "metadata": {},
   "outputs": [],
   "source": [
    "for coef in regvelo_prediction:\n",
    "    ## ranking Erythroid drivers\n",
    "    driver = Ery_driver\n",
    "    cell_fate = \"Ery\"\n",
    "\n",
    "    ID = set(driver).intersection(set(coef.index.tolist()))\n",
    "    label = np.zeros(coef.shape[0])\n",
    "    label[[i for i in range(coef.shape[0]) if coef.index.tolist()[i] in list(ID)]] = 1\n",
    "\n",
    "    score = coef.copy().loc[:, cell_fate]\n",
    "    score[np.isnan(score)] = 0\n",
    "    ery_auc_rgv.append(roc_auc_score(label, (score)))\n",
    "\n",
    "    ## ranking Monocyte drivers\n",
    "    driver = Mon_driver\n",
    "    cell_fate = \"Mon\"\n",
    "\n",
    "    ID = set(driver).intersection(set(coef.index.tolist()))\n",
    "    label = np.zeros(coef.shape[0])\n",
    "    label[[i for i in range(coef.shape[0]) if coef.index.tolist()[i] in list(ID)]] = 1\n",
    "\n",
    "    score = coef.copy().loc[:, cell_fate]\n",
    "    score[np.isnan(score)] = 0\n",
    "    mon_auc_rgv.append(roc_auc_score(label, (score)))"
   ]
  },
  {
   "cell_type": "markdown",
   "id": "a28358ed-dc07-474d-9722-e46a8cd2fe92",
   "metadata": {},
   "source": [
    "## CellRank's driver identification"
   ]
  },
  {
   "cell_type": "code",
   "execution_count": 15,
   "id": "0283dbc5-cb4e-480e-9df0-2201f3653f39",
   "metadata": {},
   "outputs": [
    {
     "name": "stdout",
     "output_type": "stream",
     "text": [
      "\u001b[34mINFO    \u001b[0m File                                                                                                      \n",
      "         \u001b[35m/ictstr01/home/icb/weixu.wang/regulatory_velo/data/hematopoiesis/processed/perturb_repeat_runs/rgv_model_0\u001b[0m\n",
      "         \u001b[35m/\u001b[0m\u001b[95mmodel.pt\u001b[0m already downloaded                                                                              \n"
     ]
    },
    {
     "name": "stderr",
     "output_type": "stream",
     "text": [
      "/home/icb/weixu.wang/miniconda3/envs/regvelo_test/lib/python3.10/site-packages/lightning/fabric/plugins/environments/slurm.py:168: PossibleUserWarning: The `srun` command is available on your system but is not used. HINT: If your intention is to run Lightning on SLURM, prepend your python command with `srun` like so: srun python /home/icb/weixu.wang/miniconda3/envs/regvelo_test/li ...\n",
      "  rank_zero_warn(\n",
      "100%|██████████| 1947/1947 [00:24<00:00, 80.61cell/s] \n",
      "100%|██████████| 1947/1947 [00:00<00:00, 2979.26cell/s]\n"
     ]
    },
    {
     "name": "stdout",
     "output_type": "stream",
     "text": [
      "WARNING: Unable to import `petsc4py` or `slepc4py`. Using `method='brandts'`\n",
      "WARNING: For `method='brandts'`, dense matrix is required. Densifying\n",
      "WARNING: Unable to import petsc4py. For installation, please refer to: https://petsc4py.readthedocs.io/en/stable/install.html.\n",
      "Defaulting to `'gmres'` solver.\n"
     ]
    },
    {
     "name": "stderr",
     "output_type": "stream",
     "text": [
      "100%|██████████| 4/4 [00:00<00:00, 74.20/s]"
     ]
    },
    {
     "name": "stdout",
     "output_type": "stream",
     "text": [
      "\u001b[34mINFO    \u001b[0m File                                                                                                      \n",
      "         \u001b[35m/ictstr01/home/icb/weixu.wang/regulatory_velo/data/hematopoiesis/processed/perturb_repeat_runs/rgv_model_1\u001b[0m\n",
      "         \u001b[35m/\u001b[0m\u001b[95mmodel.pt\u001b[0m already downloaded                                                                              \n"
     ]
    },
    {
     "name": "stderr",
     "output_type": "stream",
     "text": [
      "\n",
      "/home/icb/weixu.wang/miniconda3/envs/regvelo_test/lib/python3.10/site-packages/lightning/fabric/plugins/environments/slurm.py:168: PossibleUserWarning: The `srun` command is available on your system but is not used. HINT: If your intention is to run Lightning on SLURM, prepend your python command with `srun` like so: srun python /home/icb/weixu.wang/miniconda3/envs/regvelo_test/li ...\n",
      "  rank_zero_warn(\n",
      "100%|██████████| 1947/1947 [00:00<00:00, 3034.55cell/s]\n",
      "100%|██████████| 1947/1947 [00:00<00:00, 3069.80cell/s]\n"
     ]
    },
    {
     "name": "stdout",
     "output_type": "stream",
     "text": [
      "WARNING: Unable to import `petsc4py` or `slepc4py`. Using `method='brandts'`\n",
      "WARNING: For `method='brandts'`, dense matrix is required. Densifying\n",
      "WARNING: Using `6` components would split a block of complex conjugate eigenvalues. Using `n_components=7`\n",
      "WARNING: Unable to compute macrostates with `n_states=6` because it will split complex conjugate eigenvalues. Using `n_states=7`\n"
     ]
    },
    {
     "name": "stderr",
     "output_type": "stream",
     "text": [
      "100%|██████████| 4/4 [00:00<00:00, 67.83/s]"
     ]
    },
    {
     "name": "stdout",
     "output_type": "stream",
     "text": [
      "\u001b[34mINFO    \u001b[0m File                                                                                                      \n",
      "         \u001b[35m/ictstr01/home/icb/weixu.wang/regulatory_velo/data/hematopoiesis/processed/perturb_repeat_runs/rgv_model_2\u001b[0m\n",
      "         \u001b[35m/\u001b[0m\u001b[95mmodel.pt\u001b[0m already downloaded                                                                              \n"
     ]
    },
    {
     "name": "stderr",
     "output_type": "stream",
     "text": [
      "\n",
      "/home/icb/weixu.wang/miniconda3/envs/regvelo_test/lib/python3.10/site-packages/lightning/fabric/plugins/environments/slurm.py:168: PossibleUserWarning: The `srun` command is available on your system but is not used. HINT: If your intention is to run Lightning on SLURM, prepend your python command with `srun` like so: srun python /home/icb/weixu.wang/miniconda3/envs/regvelo_test/li ...\n",
      "  rank_zero_warn(\n",
      "100%|██████████| 1947/1947 [00:00<00:00, 2493.91cell/s]\n",
      "100%|██████████| 1947/1947 [00:00<00:00, 2532.22cell/s]\n"
     ]
    },
    {
     "name": "stdout",
     "output_type": "stream",
     "text": [
      "WARNING: Unable to import `petsc4py` or `slepc4py`. Using `method='brandts'`\n",
      "WARNING: For `method='brandts'`, dense matrix is required. Densifying\n"
     ]
    },
    {
     "name": "stderr",
     "output_type": "stream",
     "text": [
      "100%|██████████| 4/4 [00:00<00:00, 61.69/s]\n"
     ]
    }
   ],
   "source": [
    "ery_auc_cr = []\n",
    "mon_auc_cr = []\n",
    "\n",
    "## Ery driver ranking\n",
    "for method in [\"0\", \"1\", \"2\"]:\n",
    "    vae = REGVELOVI.load(DATA_DIR / DATASET / \"processed\" / \"perturb_repeat_runs\" / f\"rgv_model_{method}\", adata)\n",
    "    set_output(adata, vae, n_samples=30, batch_size=adata.n_obs)\n",
    "\n",
    "    ## Using CellRank identify driver\n",
    "    vk = cr.kernels.VelocityKernel(adata)\n",
    "    vk.compute_transition_matrix()\n",
    "    ck = cr.kernels.ConnectivityKernel(adata).compute_transition_matrix()\n",
    "    g = cr.estimators.GPCCA(0.8 * vk + 0.2 * ck)\n",
    "    ## evaluate the fate prob on original space\n",
    "    g.compute_macrostates(n_states=6, cluster_key=\"cell_type\")\n",
    "    g.set_terminal_states(terminal_states)\n",
    "    g.compute_fate_probabilities()\n",
    "    df = g.compute_lineage_drivers(cluster_key=\"cell_type\")\n",
    "\n",
    "    df = df.loc[TF, :].copy()\n",
    "\n",
    "    driver = Ery_driver\n",
    "    cell_fate = \"Ery\" + \"_corr\"\n",
    "\n",
    "    ID = set(driver).intersection(set(df.index.tolist()))\n",
    "    label = np.zeros(df.shape[0])\n",
    "    label[[i for i in range(df.shape[0]) if df.index.tolist()[i] in list(ID)]] = 1\n",
    "\n",
    "    # Calculate AUROC\n",
    "    score_raw = df.copy().loc[:, cell_fate]\n",
    "    score_raw[np.isnan(score_raw)] = 0\n",
    "    auroc_ery = roc_auc_score(label, (score_raw))\n",
    "    ery_auc_cr.append(auroc_ery)\n",
    "\n",
    "    ## Mon driver ranking\n",
    "    driver = Mon_driver\n",
    "    cell_fate = \"Mon\" + \"_corr\"\n",
    "\n",
    "    ID = set(driver).intersection(set(df.index.tolist()))\n",
    "    label = np.zeros(df.shape[0])\n",
    "    label[[i for i in range(df.shape[0]) if df.index.tolist()[i] in list(ID)]] = 1\n",
    "\n",
    "    # Calculate AUROC\n",
    "    score_raw = df.copy().loc[:, cell_fate]\n",
    "    score_raw[np.isnan(score_raw)] = 0\n",
    "    auroc_mon = roc_auc_score(label, (score_raw))\n",
    "    mon_auc_cr.append(auroc_mon)"
   ]
  },
  {
   "cell_type": "markdown",
   "id": "8c810824-8efc-40fa-88df-2625d7001e54",
   "metadata": {},
   "source": [
    "## Dynamo's driver identification"
   ]
  },
  {
   "cell_type": "code",
   "execution_count": 16,
   "id": "6f08e238-36b3-434b-a416-d5fb96bb84d3",
   "metadata": {},
   "outputs": [],
   "source": [
    "HSC_Ery_ranking[\"filter\"] = [i in TF for i in list(HSC_Ery_ranking[\"all\"])]\n",
    "HSC_Mon_ranking[\"filter\"] = [i in TF for i in list(HSC_Mon_ranking[\"all\"])]"
   ]
  },
  {
   "cell_type": "code",
   "execution_count": 17,
   "id": "336b593f-65c6-48be-8dc6-cde6ba335b5f",
   "metadata": {},
   "outputs": [],
   "source": [
    "HSC_Ery_ranking = HSC_Ery_ranking.query(\"filter == True\")\n",
    "HSC_Mon_ranking = HSC_Mon_ranking.query(\"filter == True\")"
   ]
  },
  {
   "cell_type": "code",
   "execution_count": 18,
   "id": "7fd525f8-693b-4265-a8a9-14491c277f76",
   "metadata": {},
   "outputs": [
    {
     "name": "stdout",
     "output_type": "stream",
     "text": [
      "AUROC: 0.8888888888888888\n"
     ]
    }
   ],
   "source": [
    "ID = set(Ery_driver).intersection(set(HSC_Ery_ranking.iloc[:, 0].tolist()))\n",
    "label = np.zeros(HSC_Ery_ranking.shape[0])\n",
    "label[[i for i in range(HSC_Ery_ranking.shape[0]) if HSC_Ery_ranking.iloc[:, 0].tolist()[i] in list(ID)]] = 1\n",
    "\n",
    "score = -1 * np.array(range(HSC_Ery_ranking.shape[0]))\n",
    "auroc_ery_dynamo = roc_auc_score(label, score)\n",
    "print(\"AUROC:\", auroc_ery_dynamo)"
   ]
  },
  {
   "cell_type": "code",
   "execution_count": 19,
   "id": "90528212-20ae-433c-976b-224902e2c40f",
   "metadata": {},
   "outputs": [
    {
     "name": "stdout",
     "output_type": "stream",
     "text": [
      "AUROC: 0.6136363636363636\n"
     ]
    }
   ],
   "source": [
    "ID = set(Mon_driver).intersection(set(HSC_Mon_ranking.iloc[:, 0].tolist()))\n",
    "label = np.zeros(HSC_Mon_ranking.shape[0])\n",
    "label[[i for i in range(HSC_Mon_ranking.shape[0]) if HSC_Mon_ranking.iloc[:, 0].tolist()[i] in list(ID)]] = 1\n",
    "\n",
    "score = -1 * np.array(range(HSC_Mon_ranking.shape[0]))\n",
    "auroc_mon_dynamo = roc_auc_score(label, score)\n",
    "print(\"AUROC:\", auroc_mon_dynamo)"
   ]
  },
  {
   "cell_type": "markdown",
   "id": "838e59dc-6c50-4598-a4a0-ea504ef01718",
   "metadata": {},
   "source": [
    "## Plot driver ranking results"
   ]
  },
  {
   "cell_type": "code",
   "execution_count": null,
   "id": "82a3ab73-771a-4e16-bb60-6b5c180f3193",
   "metadata": {},
   "outputs": [],
   "source": [
    "data = pd.DataFrame(\n",
    "    {\n",
    "        \"AUROC\": ery_auc_rgv + mon_auc_rgv + ery_auc_cr + mon_auc_cr + [auroc_ery_dynamo, auroc_mon_dynamo],\n",
    "        \"Terminal state\": [\"Ery\"] * 3 + [\"Mon\"] * 3 + [\"Ery\"] * 3 + [\"Mon\"] * 3 + [\"Ery\", \"Mon\"],\n",
    "        \"Method\": [\"RegVelo (PS)\"] * 6 + [\"RegVelo (CR)\"] * 6 + [\"dynamo (LAP)\"] * 2,\n",
    "    }\n",
    ")"
   ]
  },
  {
   "cell_type": "code",
   "execution_count": 21,
   "id": "8e9c931b-b37a-4732-88a4-39a1aacf15bd",
   "metadata": {},
   "outputs": [
    {
     "data": {
      "image/png": "[encoded data removed]",
      "text/plain": [
       "<Figure size 400x300 with 1 Axes>"
      ]
     },
     "metadata": {},
     "output_type": "display_data"
    }
   ],
   "source": [
    "with mplscience.style_context():\n",
    "    pal = METHOD_PALETTE_DRIVER\n",
    "    sns.set(style=\"whitegrid\")\n",
    "    fig, ax = plt.subplots(figsize=(4, 3))\n",
    "\n",
    "    sns.barplot(x=\"Terminal state\", y=\"AUROC\", hue=\"Method\", data=data, ci=\"sd\", capsize=0.1, errwidth=2, palette=pal)\n",
    "    sns.stripplot(\n",
    "        x=\"Terminal state\", y=\"AUROC\", hue=\"Method\", data=data, dodge=True, jitter=True, color=\"black\", alpha=0.7\n",
    "    )\n",
    "\n",
    "    handles, labels = ax.get_legend_handles_labels()\n",
    "    ax.legend(handles[3:6], labels[3:6], bbox_to_anchor=(0.5, -0.44), loc=\"lower center\", ncol=2, fontsize=14)\n",
    "\n",
    "    plt.ylabel(\"AUROC\", fontsize=14)\n",
    "    plt.xlabel(\"\", fontsize=14)\n",
    "    plt.xticks(fontsize=14)\n",
    "    plt.yticks(fontsize=14)\n",
    "\n",
    "    if SAVE_FIGURES:\n",
    "        plt.savefig(FIG_DIR / DATASET / \"driver_ranking.svg\", format=\"svg\", transparent=True, bbox_inches=\"tight\")\n",
    "    plt.show()"
   ]
  }
 ],
 "metadata": {
  "kernelspec": {
   "display_name": "Python [conda env:dynamo]",
   "language": "python",
   "name": "conda-env-dynamo-py"
  },
  "language_info": {
   "codemirror_mode": {
    "name": "ipython",
    "version": 3
   },
   "file_extension": ".py",
   "mimetype": "text/x-python",
   "name": "python",
   "nbconvert_exporter": "python",
   "pygments_lexer": "ipython3",
   "version": "3.10.12"
  }
 },
 "nbformat": 4,
 "nbformat_minor": 5
}
