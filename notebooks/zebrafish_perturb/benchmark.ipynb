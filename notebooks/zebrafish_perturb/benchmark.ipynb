{
 "cells": [
  {
   "cell_type": "markdown",
   "id": "3f5bb69d-f63c-419a-832e-532da14185e3",
   "metadata": {},
   "source": [
    "# Benchmark perturbation prediction\n",
    "\n",
    "notebook for benchmarking perturbation prediction"
   ]
  },
  {
   "cell_type": "markdown",
   "id": "4240d861-f789-401d-8da9-65efd4486845",
   "metadata": {},
   "source": [
    "## Library imports"
   ]
  },
  {
   "cell_type": "code",
   "execution_count": 1,
   "id": "40d81711-6b91-44d6-a425-702064a741b3",
   "metadata": {
    "tags": []
   },
   "outputs": [
    {
     "name": "stderr",
     "output_type": "stream",
     "text": [
      "/home/icb/weixu.wang/miniconda3/envs/regvelo_test/lib/python3.10/site-packages/anndata/utils.py:429: FutureWarning: Importing read_csv from `anndata` is deprecated. Import anndata.io.read_csv instead.\n",
      "  warnings.warn(msg, FutureWarning)\n",
      "/home/icb/weixu.wang/miniconda3/envs/regvelo_test/lib/python3.10/site-packages/anndata/utils.py:429: FutureWarning: Importing read_excel from `anndata` is deprecated. Import anndata.io.read_excel instead.\n",
      "  warnings.warn(msg, FutureWarning)\n",
      "/home/icb/weixu.wang/miniconda3/envs/regvelo_test/lib/python3.10/site-packages/anndata/utils.py:429: FutureWarning: Importing read_hdf from `anndata` is deprecated. Import anndata.io.read_hdf instead.\n",
      "  warnings.warn(msg, FutureWarning)\n",
      "/home/icb/weixu.wang/miniconda3/envs/regvelo_test/lib/python3.10/site-packages/anndata/utils.py:429: FutureWarning: Importing read_loom from `anndata` is deprecated. Import anndata.io.read_loom instead.\n",
      "  warnings.warn(msg, FutureWarning)\n",
      "/home/icb/weixu.wang/miniconda3/envs/regvelo_test/lib/python3.10/site-packages/anndata/utils.py:429: FutureWarning: Importing read_mtx from `anndata` is deprecated. Import anndata.io.read_mtx instead.\n",
      "  warnings.warn(msg, FutureWarning)\n",
      "/home/icb/weixu.wang/miniconda3/envs/regvelo_test/lib/python3.10/site-packages/anndata/utils.py:429: FutureWarning: Importing read_text from `anndata` is deprecated. Import anndata.io.read_text instead.\n",
      "  warnings.warn(msg, FutureWarning)\n",
      "/home/icb/weixu.wang/miniconda3/envs/regvelo_test/lib/python3.10/site-packages/anndata/utils.py:429: FutureWarning: Importing read_umi_tools from `anndata` is deprecated. Import anndata.io.read_umi_tools instead.\n",
      "  warnings.warn(msg, FutureWarning)\n"
     ]
    }
   ],
   "source": [
    "import pandas as pd\n",
    "import numpy as np\n",
    "import scipy\n",
    "\n",
    "import matplotlib.pyplot as plt\n",
    "import mplscience\n",
    "import seaborn as sns\n",
    "\n",
    "import scanpy as sc\n",
    "import scvelo as scv\n",
    "import scvi\n",
    "\n",
    "from rgv_tools import DATA_DIR, FIG_DIR\n",
    "from rgv_tools.benchmarking import perturb_prediction\n",
    "from rgv_tools.core import METHOD_PALETTE_PERTURBATION"
   ]
  },
  {
   "cell_type": "markdown",
   "id": "0eef93a6-c134-4e68-9843-ba40ffc8859c",
   "metadata": {},
   "source": [
    "## General setting"
   ]
  },
  {
   "cell_type": "code",
   "execution_count": 2,
   "id": "80712b83-0e49-4b71-910d-74d602fdb5ca",
   "metadata": {
    "tags": []
   },
   "outputs": [
    {
     "name": "stderr",
     "output_type": "stream",
     "text": [
      "[rank: 0] Seed set to 0\n"
     ]
    }
   ],
   "source": [
    "scvi.settings.seed = 0"
   ]
  },
  {
   "cell_type": "code",
   "execution_count": 3,
   "id": "434cd8cd-7f93-4489-8ddb-eddaaea58ca4",
   "metadata": {
    "tags": []
   },
   "outputs": [],
   "source": [
    "DATASET = \"zebrafish\""
   ]
  },
  {
   "cell_type": "code",
   "execution_count": 4,
   "id": "5721f5d3-bab7-41f0-b608-d4a81f557c95",
   "metadata": {
    "tags": []
   },
   "outputs": [],
   "source": [
    "SAVE_FIGURES = True\n",
    "if SAVE_FIGURES:\n",
    "    (FIG_DIR / DATASET / \"results\").mkdir(parents=True, exist_ok=True)"
   ]
  },
  {
   "cell_type": "markdown",
   "id": "3b52d862-8fc1-405d-8eae-49f9997d89ba",
   "metadata": {},
   "source": [
    "## Constant"
   ]
  },
  {
   "cell_type": "code",
   "execution_count": 5,
   "id": "16298450-46be-4707-853d-111d5a00b31f",
   "metadata": {
    "tags": []
   },
   "outputs": [],
   "source": [
    "single_ko = [\"rarga\", \"rxraa\", \"nr2f5\", \"fli1a\", \"tfec\", \"elk3\", \"mitfa\", \"ets1\", \"nr2f2\", \"elf1\", \"ebf3a\"]\n",
    "multiple_ko = [\"fli1a_elk3\", \"tfec_mitfa_bhlhe40\", \"mitfa_tfec\", \"mitfa_tfec_tfeb\"]"
   ]
  },
  {
   "cell_type": "code",
   "execution_count": 6,
   "id": "5b6d2e3b-9fbe-4a64-be59-8b729a4887f0",
   "metadata": {
    "tags": []
   },
   "outputs": [],
   "source": [
    "terminal_states = [\"mNC_arch2\", \"mNC_head_mesenchymal\", \"mNC_hox34\", \"Pigment\"]"
   ]
  },
  {
   "cell_type": "code",
   "execution_count": 7,
   "id": "af9c13b3-dbbb-4a4a-b1a0-c78c8989e2f0",
   "metadata": {
    "tags": []
   },
   "outputs": [],
   "source": [
    "METHODS = [\"RegVelo\", \"Dynamo (KO)\", \"Dynamo (perturbation)\", \"celloracle\"]"
   ]
  },
  {
   "cell_type": "code",
   "execution_count": 8,
   "id": "ceb7ff11-c75f-409d-af1a-d888e995c826",
   "metadata": {
    "tags": []
   },
   "outputs": [],
   "source": [
    "GENE_MARKER = {\n",
    "    \"rarga\": \"\",\n",
    "    \"rxraa\": \"o\",\n",
    "    \"nr2f5\": \"o\",\n",
    "    \"fli1a\": \"o\",\n",
    "    \"tfec\": \"o\",\n",
    "    \"elk3\": \"\",\n",
    "    \"mitfa\": \"o\",\n",
    "    \"ets1\": \"X\",\n",
    "    \"nr2f2\": (4, 0, 45),\n",
    "    \"elf1\": \"P\",\n",
    "    \"ebf3a\": (4, 0, 0),\n",
    "    \"fli1a_elk3\": (4, 1, 0),\n",
    "    \"tfec_mitfa_bhlhe40\": \"^\",\n",
    "    \"mitfa_tfec\": (4, 1, 45),\n",
    "    \"mitfa_tfec_tfeb\": \"v\",\n",
    "}"
   ]
  },
  {
   "cell_type": "markdown",
   "id": "e571b916-df7a-47e1-a67c-4d5dfb8873c4",
   "metadata": {},
   "source": [
    "## Data loading"
   ]
  },
  {
   "cell_type": "markdown",
   "id": "4e21cc10-0085-4859-ba90-928dca78aa42",
   "metadata": {},
   "source": [
    "### Perturbation predicton"
   ]
  },
  {
   "cell_type": "code",
   "execution_count": 9,
   "id": "bcd82db7-48e6-4af6-a711-ae031445aa8f",
   "metadata": {
    "tags": []
   },
   "outputs": [],
   "source": [
    "perturbation = pd.read_csv(DATA_DIR / DATASET / \"results\" / \"MELD_median_score.csv\", index_col=0)"
   ]
  },
  {
   "cell_type": "code",
   "execution_count": 10,
   "id": "fe4ca1d8-a984-453b-a06e-88d5e8cbfd47",
   "metadata": {
    "tags": []
   },
   "outputs": [],
   "source": [
    "TERMINAL_STATES_KO = perturbation.columns.tolist()\n",
    "TERMINAL_STATES_PERTURB = perturbation.columns.tolist()"
   ]
  },
  {
   "cell_type": "code",
   "execution_count": 11,
   "id": "68b4f931-0786-4f95-9d15-047de0ac4c0f",
   "metadata": {
    "tags": []
   },
   "outputs": [],
   "source": [
    "TERMINAL_STATES_PERTURB[3] = \"Pigment\"\n",
    "TERMINAL_STATES_KO[3] = \"Pigment_gch2\""
   ]
  },
  {
   "cell_type": "markdown",
   "id": "1f361c9b-69d6-46ef-b1ec-00fa457c5a7c",
   "metadata": {},
   "source": [
    "### Single knock-out panel prediction results"
   ]
  },
  {
   "cell_type": "code",
   "execution_count": 12,
   "id": "334b41d2-6a3c-4b08-8265-5c47e1901dc6",
   "metadata": {
    "tags": []
   },
   "outputs": [],
   "source": [
    "coef_perturb_co = pd.read_csv(DATA_DIR / DATASET / \"results\" / \"celloracle_perturb_single.csv\", index_col=0)\n",
    "coef_perturb_dyn = pd.read_csv(DATA_DIR / DATASET / \"results\" / \"dynamo_perturb_single.csv\", index_col=0)\n",
    "coef_KO_dyn = pd.read_csv(DATA_DIR / DATASET / \"results\" / \"dynamo_KO_single.csv\", index_col=0)"
   ]
  },
  {
   "cell_type": "code",
   "execution_count": 13,
   "id": "115dac20-eef9-4c22-a46f-4b42f38dd3c1",
   "metadata": {
    "tags": []
   },
   "outputs": [],
   "source": [
    "coef_perturb_co = coef_perturb_co.loc[single_ko, TERMINAL_STATES_PERTURB]\n",
    "coef_perturb_dyn = coef_perturb_dyn.loc[single_ko, TERMINAL_STATES_PERTURB]\n",
    "coef_KO_dyn = coef_KO_dyn.loc[single_ko, TERMINAL_STATES_KO]"
   ]
  },
  {
   "cell_type": "code",
   "execution_count": 14,
   "id": "1a44b641-f83d-447f-bc3a-f024740420b3",
   "metadata": {
    "tags": []
   },
   "outputs": [],
   "source": [
    "single_matrix = perturbation.loc[single_ko, :]"
   ]
  },
  {
   "cell_type": "code",
   "execution_count": 15,
   "id": "7618ddb6-1ddc-45f6-b643-953a410c8004",
   "metadata": {
    "tags": []
   },
   "outputs": [],
   "source": [
    "score_s = []\n",
    "method = []\n",
    "\n",
    "score_s.append(scipy.stats.spearmanr(np.array(single_matrix).reshape(-1), np.array(1 - coef_perturb_co).reshape(-1))[0])\n",
    "method.append(\"celloracle\")\n",
    "\n",
    "score_s.append(scipy.stats.spearmanr(np.array(single_matrix).reshape(-1), np.array(coef_perturb_dyn).reshape(-1))[0])\n",
    "method.append(\"Dynamo (perturbation)\")\n",
    "\n",
    "score_s.append(scipy.stats.spearmanr(np.array(single_matrix).reshape(-1), np.array(coef_KO_dyn).reshape(-1))[0])\n",
    "method.append(\"Dynamo (KO)\")"
   ]
  },
  {
   "cell_type": "code",
   "execution_count": 16,
   "id": "bca4a4b0-aa46-41b2-8f2e-e5c1d2fb9157",
   "metadata": {
    "tags": []
   },
   "outputs": [],
   "source": [
    "for nrun in range(3):\n",
    "    coef_perturb_rgv = pd.read_csv(\n",
    "        DATA_DIR / DATASET / \"results\" / (\"runs\" + str(nrun + 1)) / \"regvelo_single.csv\", index_col=0\n",
    "    )\n",
    "\n",
    "    coef_perturb_rgv = coef_perturb_rgv.loc[single_ko, TERMINAL_STATES_KO]\n",
    "    score_s.append(\n",
    "        scipy.stats.spearmanr(np.array(single_matrix).reshape(-1), np.array(coef_perturb_rgv).reshape(-1))[0]\n",
    "    )\n",
    "    method.append(\"RegVelo\")"
   ]
  },
  {
   "cell_type": "markdown",
   "id": "b45ec2e2-29d2-4bf5-8a55-7dfb27a1e4c1",
   "metadata": {},
   "source": [
    "### Add multiple knock-out panel prediction results"
   ]
  },
  {
   "cell_type": "code",
   "execution_count": 17,
   "id": "716415d7-c952-41ba-8037-ba00fe50432a",
   "metadata": {
    "tags": []
   },
   "outputs": [],
   "source": [
    "coef_perturb_co = pd.read_csv(DATA_DIR / DATASET / \"results\" / \"celloracle_perturb_single.csv\", index_col=0)\n",
    "coef_perturb_dyn = pd.read_csv(DATA_DIR / DATASET / \"results\" / \"dynamo_perturb_single.csv\", index_col=0)\n",
    "coef_KO_dyn = pd.read_csv(DATA_DIR / DATASET / \"results\" / \"dynamo_KO_single.csv\", index_col=0)"
   ]
  },
  {
   "cell_type": "code",
   "execution_count": 18,
   "id": "f5b30561-255d-48c1-924f-028c13de8077",
   "metadata": {
    "tags": []
   },
   "outputs": [],
   "source": [
    "coef_perturb_co2 = pd.read_csv(DATA_DIR / DATASET / \"results\" / \"celloracle_perturb_multiple.csv\", index_col=0)\n",
    "coef_perturb_dyn2 = pd.read_csv(DATA_DIR / DATASET / \"results\" / \"dynamo_perturb_multiple.csv\", index_col=0)\n",
    "coef_KO_dyn2 = pd.read_csv(DATA_DIR / DATASET / \"results\" / \"dynamo_KO_multiple.csv\", index_col=0)"
   ]
  },
  {
   "cell_type": "code",
   "execution_count": 19,
   "id": "95d7c4a6-7885-4631-b0b7-e56c335b870a",
   "metadata": {
    "tags": []
   },
   "outputs": [],
   "source": [
    "coef_perturb_co = pd.concat([coef_perturb_co, coef_perturb_co2])\n",
    "coef_perturb_dyn = pd.concat([coef_perturb_dyn, coef_perturb_dyn2])\n",
    "coef_KO_dyn = pd.concat([coef_KO_dyn, coef_KO_dyn2])"
   ]
  },
  {
   "cell_type": "code",
   "execution_count": 20,
   "id": "fe38b228-4be7-4b07-a7c0-66203432a320",
   "metadata": {
    "tags": []
   },
   "outputs": [],
   "source": [
    "coef_perturb_co = coef_perturb_co.loc[single_ko + multiple_ko, TERMINAL_STATES_PERTURB]\n",
    "coef_perturb_dyn = coef_perturb_dyn.loc[single_ko + multiple_ko, TERMINAL_STATES_PERTURB]\n",
    "coef_KO_dyn = coef_KO_dyn.loc[single_ko + multiple_ko, TERMINAL_STATES_KO]"
   ]
  },
  {
   "cell_type": "code",
   "execution_count": 21,
   "id": "f2ea457a-e910-48e6-b1ba-56ba8a542b98",
   "metadata": {
    "tags": []
   },
   "outputs": [],
   "source": [
    "single_matrix = perturbation.loc[single_ko + multiple_ko, :]"
   ]
  },
  {
   "cell_type": "code",
   "execution_count": 22,
   "id": "6fb256b5-22b4-4e6b-b3a3-f82f304a50da",
   "metadata": {
    "tags": []
   },
   "outputs": [],
   "source": [
    "score_m = []\n",
    "method = []\n",
    "\n",
    "score_m.append(scipy.stats.spearmanr(np.array(single_matrix).reshape(-1), np.array(1 - coef_perturb_co).reshape(-1))[0])\n",
    "method.append(\"celloracle\")\n",
    "\n",
    "score_m.append(scipy.stats.spearmanr(np.array(single_matrix).reshape(-1), np.array(coef_perturb_dyn).reshape(-1))[0])\n",
    "method.append(\"Dynamo (perturbation)\")\n",
    "\n",
    "score_m.append(scipy.stats.spearmanr(np.array(single_matrix).reshape(-1), np.array(coef_KO_dyn).reshape(-1))[0])\n",
    "method.append(\"Dynamo (KO)\")"
   ]
  },
  {
   "cell_type": "code",
   "execution_count": 23,
   "id": "ea1b592f-eb30-4c80-a76d-9736c383bd16",
   "metadata": {
    "tags": []
   },
   "outputs": [],
   "source": [
    "for nrun in range(3):\n",
    "    coef_perturb_rgv = pd.read_csv(\n",
    "        DATA_DIR / DATASET / \"results\" / (\"runs\" + str(nrun + 1)) / \"regvelo_single.csv\", index_col=0\n",
    "    )\n",
    "    coef_perturb_rgv2 = pd.read_csv(\n",
    "        DATA_DIR / DATASET / \"results\" / (\"runs\" + str(nrun + 1)) / \"regvelo_multiple.csv\", index_col=0\n",
    "    )\n",
    "    coef_perturb_rgv = pd.concat([coef_perturb_rgv, coef_perturb_rgv2])\n",
    "\n",
    "    coef_perturb_rgv = coef_perturb_rgv.loc[single_ko + multiple_ko, TERMINAL_STATES_KO]\n",
    "    score_m.append(\n",
    "        scipy.stats.spearmanr(np.array(single_matrix).reshape(-1), np.array(coef_perturb_rgv).reshape(-1))[0]\n",
    "    )\n",
    "    method.append(\"RegVelo\")"
   ]
  },
  {
   "cell_type": "markdown",
   "id": "b73f021a-0850-4b57-b393-00685f271c8c",
   "metadata": {},
   "source": [
    "## Plot comparsion"
   ]
  },
  {
   "cell_type": "code",
   "execution_count": 24,
   "id": "2f7df207-0479-4882-8fce-5070c8409f98",
   "metadata": {
    "tags": []
   },
   "outputs": [],
   "source": [
    "dat = pd.DataFrame({\"Spearman_correlation\": score_s, \"method\": method})\n",
    "dat2 = pd.DataFrame({\"Spearman_correlation\": score_m, \"method\": method})\n",
    "dat[\"Experimental class\"] = \"Single TF knock-out\"\n",
    "dat2[\"Experimental class\"] = \"Single + Multiple TF knock-out\"\n",
    "df = pd.concat([dat, dat2], axis=0)"
   ]
  },
  {
   "cell_type": "code",
   "execution_count": 25,
   "id": "2f90e019-f9d3-4c9e-b61b-83620d29266b",
   "metadata": {
    "tags": []
   },
   "outputs": [
    {
     "data": {
      "image/png": "[encoded data removed]",
      "text/plain": [
       "<Figure size 400x500 with 1 Axes>"
      ]
     },
     "metadata": {},
     "output_type": "display_data"
    }
   ],
   "source": [
    "with mplscience.style_context():\n",
    "    sns.set_style(style=\"whitegrid\")\n",
    "    fig, ax = plt.subplots(figsize=(4, 5))\n",
    "\n",
    "    # Plot the barplot without error bars\n",
    "    sns.barplot(\n",
    "        data=df,\n",
    "        y=\"Experimental class\",\n",
    "        x=\"Spearman_correlation\",\n",
    "        hue=\"method\",\n",
    "        hue_order=METHODS,\n",
    "        palette=METHOD_PALETTE_PERTURBATION,\n",
    "        ax=ax,\n",
    "        ci=None,\n",
    "    )\n",
    "\n",
    "    # Add jittered dots\n",
    "    sns.stripplot(\n",
    "        data=df,\n",
    "        y=\"Experimental class\",\n",
    "        x=\"Spearman_correlation\",\n",
    "        hue=\"method\",\n",
    "        hue_order=METHODS,\n",
    "        dodge=True,\n",
    "        color=\"black\",\n",
    "        ax=ax,\n",
    "        jitter=True,\n",
    "    )\n",
    "\n",
    "    # Remove the duplicate legend\n",
    "    handles, labels = ax.get_legend_handles_labels()\n",
    "    ax.legend(\n",
    "        handles[4 : (4 + len(METHOD_PALETTE_PERTURBATION))],\n",
    "        labels[4 : (4 + len(METHOD_PALETTE_PERTURBATION))],\n",
    "        bbox_to_anchor=(0.5, -0.1),\n",
    "        loc=\"upper center\",\n",
    "        ncol=2,\n",
    "    )\n",
    "\n",
    "    # Customize labels and other settings\n",
    "    ax.set(ylabel=\"\", xlabel=\"Perturbation prediction score\")\n",
    "    ax.set_xlabel(xlabel=\"Perturbation prediction score\", fontsize=13)\n",
    "\n",
    "    if SAVE_FIGURES:\n",
    "        plt.savefig(\n",
    "            FIG_DIR / DATASET / \"results\" / \"barplot_joint_knockout_correlation.svg\",\n",
    "            format=\"svg\",\n",
    "            transparent=True,\n",
    "            bbox_inches=\"tight\",\n",
    "        )\n",
    "    plt.show()"
   ]
  },
  {
   "cell_type": "markdown",
   "id": "7cd200d1-24c4-4e99-9863-a9d9363bcee8",
   "metadata": {
    "tags": []
   },
   "source": [
    "## Cell fate prediction precision"
   ]
  },
  {
   "cell_type": "markdown",
   "id": "da7aad4e-a3dd-400a-93db-e42057741d07",
   "metadata": {},
   "source": [
    "#### Single knock-out panel prediction results"
   ]
  },
  {
   "cell_type": "code",
   "execution_count": 26,
   "id": "b66a06fe-db83-43b3-b507-2d23fb88a19a",
   "metadata": {
    "tags": []
   },
   "outputs": [],
   "source": [
    "single_matrix = perturbation.loc[single_ko, :]"
   ]
  },
  {
   "cell_type": "markdown",
   "id": "3ef8d2e0-5c15-4165-afae-640ce0fb6ccb",
   "metadata": {},
   "source": [
    "### Calculate pvalue"
   ]
  },
  {
   "cell_type": "code",
   "execution_count": 27,
   "id": "8b760dfb-737c-4a0d-924e-341bb271b699",
   "metadata": {
    "tags": []
   },
   "outputs": [],
   "source": [
    "pval = pd.read_csv(DATA_DIR / DATASET / \"results\" / \"pval_mat.csv\", index_col=0)"
   ]
  },
  {
   "cell_type": "code",
   "execution_count": 28,
   "id": "4591e53d-adf7-49bd-a026-310609b3ed2c",
   "metadata": {
    "tags": []
   },
   "outputs": [
    {
     "data": {
      "text/html": [
       "<div>\n",
       "<style scoped>\n",
       "    .dataframe tbody tr th:only-of-type {\n",
       "        vertical-align: middle;\n",
       "    }\n",
       "\n",
       "    .dataframe tbody tr th {\n",
       "        vertical-align: top;\n",
       "    }\n",
       "\n",
       "    .dataframe thead th {\n",
       "        text-align: right;\n",
       "    }\n",
       "</style>\n",
       "<table border=\"1\" class=\"dataframe\">\n",
       "  <thead>\n",
       "    <tr style=\"text-align: right;\">\n",
       "      <th></th>\n",
       "      <th>mNC_arch2</th>\n",
       "      <th>mNC_head_mesenchymal</th>\n",
       "      <th>mNC_hox34</th>\n",
       "      <th>Pigment_gch2_high</th>\n",
       "    </tr>\n",
       "  </thead>\n",
       "  <tbody>\n",
       "    <tr>\n",
       "      <th>fli1a_erf_erfl3</th>\n",
       "      <td>0.952</td>\n",
       "      <td>0.442</td>\n",
       "      <td>0.000</td>\n",
       "      <td>1.000</td>\n",
       "    </tr>\n",
       "    <tr>\n",
       "      <th>erf_erfl3</th>\n",
       "      <td>0.702</td>\n",
       "      <td>1.000</td>\n",
       "      <td>0.000</td>\n",
       "      <td>1.000</td>\n",
       "    </tr>\n",
       "    <tr>\n",
       "      <th>mitfa</th>\n",
       "      <td>0.988</td>\n",
       "      <td>1.000</td>\n",
       "      <td>0.538</td>\n",
       "      <td>1.000</td>\n",
       "    </tr>\n",
       "    <tr>\n",
       "      <th>rarga</th>\n",
       "      <td>0.992</td>\n",
       "      <td>0.648</td>\n",
       "      <td>0.768</td>\n",
       "      <td>0.000</td>\n",
       "    </tr>\n",
       "    <tr>\n",
       "      <th>nr2f5</th>\n",
       "      <td>0.998</td>\n",
       "      <td>1.000</td>\n",
       "      <td>0.990</td>\n",
       "      <td>1.000</td>\n",
       "    </tr>\n",
       "    <tr>\n",
       "      <th>tfec</th>\n",
       "      <td>0.836</td>\n",
       "      <td>0.052</td>\n",
       "      <td>0.916</td>\n",
       "      <td>1.000</td>\n",
       "    </tr>\n",
       "    <tr>\n",
       "      <th>rxraa</th>\n",
       "      <td>1.000</td>\n",
       "      <td>0.412</td>\n",
       "      <td>0.724</td>\n",
       "      <td>1.000</td>\n",
       "    </tr>\n",
       "    <tr>\n",
       "      <th>fli1a_elk3</th>\n",
       "      <td>1.000</td>\n",
       "      <td>1.000</td>\n",
       "      <td>0.024</td>\n",
       "      <td>1.000</td>\n",
       "    </tr>\n",
       "    <tr>\n",
       "      <th>tfec_mitfa_bhlhe40</th>\n",
       "      <td>0.002</td>\n",
       "      <td>0.362</td>\n",
       "      <td>0.006</td>\n",
       "      <td>1.000</td>\n",
       "    </tr>\n",
       "    <tr>\n",
       "      <th>elk3</th>\n",
       "      <td>0.978</td>\n",
       "      <td>0.716</td>\n",
       "      <td>0.002</td>\n",
       "      <td>1.000</td>\n",
       "    </tr>\n",
       "    <tr>\n",
       "      <th>mitfa_tfec</th>\n",
       "      <td>0.000</td>\n",
       "      <td>1.000</td>\n",
       "      <td>0.016</td>\n",
       "      <td>1.000</td>\n",
       "    </tr>\n",
       "    <tr>\n",
       "      <th>mitfa_tfec_tfeb</th>\n",
       "      <td>1.000</td>\n",
       "      <td>0.982</td>\n",
       "      <td>0.330</td>\n",
       "      <td>1.000</td>\n",
       "    </tr>\n",
       "    <tr>\n",
       "      <th>fli1a</th>\n",
       "      <td>1.000</td>\n",
       "      <td>0.000</td>\n",
       "      <td>0.000</td>\n",
       "      <td>1.000</td>\n",
       "    </tr>\n",
       "    <tr>\n",
       "      <th>ebf3a</th>\n",
       "      <td>0.960</td>\n",
       "      <td>0.110</td>\n",
       "      <td>0.974</td>\n",
       "      <td>1.000</td>\n",
       "    </tr>\n",
       "    <tr>\n",
       "      <th>elf1</th>\n",
       "      <td>0.466</td>\n",
       "      <td>0.004</td>\n",
       "      <td>0.782</td>\n",
       "      <td>1.000</td>\n",
       "    </tr>\n",
       "    <tr>\n",
       "      <th>nr2f2</th>\n",
       "      <td>0.762</td>\n",
       "      <td>0.998</td>\n",
       "      <td>0.856</td>\n",
       "      <td>0.012</td>\n",
       "    </tr>\n",
       "    <tr>\n",
       "      <th>ets1</th>\n",
       "      <td>1.000</td>\n",
       "      <td>0.998</td>\n",
       "      <td>0.762</td>\n",
       "      <td>1.000</td>\n",
       "    </tr>\n",
       "  </tbody>\n",
       "</table>\n",
       "</div>"
      ],
      "text/plain": [
       "                    mNC_arch2  mNC_head_mesenchymal  mNC_hox34  \\\n",
       "fli1a_erf_erfl3         0.952                 0.442      0.000   \n",
       "erf_erfl3               0.702                 1.000      0.000   \n",
       "mitfa                   0.988                 1.000      0.538   \n",
       "rarga                   0.992                 0.648      0.768   \n",
       "nr2f5                   0.998                 1.000      0.990   \n",
       "tfec                    0.836                 0.052      0.916   \n",
       "rxraa                   1.000                 0.412      0.724   \n",
       "fli1a_elk3              1.000                 1.000      0.024   \n",
       "tfec_mitfa_bhlhe40      0.002                 0.362      0.006   \n",
       "elk3                    0.978                 0.716      0.002   \n",
       "mitfa_tfec              0.000                 1.000      0.016   \n",
       "mitfa_tfec_tfeb         1.000                 0.982      0.330   \n",
       "fli1a                   1.000                 0.000      0.000   \n",
       "ebf3a                   0.960                 0.110      0.974   \n",
       "elf1                    0.466                 0.004      0.782   \n",
       "nr2f2                   0.762                 0.998      0.856   \n",
       "ets1                    1.000                 0.998      0.762   \n",
       "\n",
       "                    Pigment_gch2_high  \n",
       "fli1a_erf_erfl3                 1.000  \n",
       "erf_erfl3                       1.000  \n",
       "mitfa                           1.000  \n",
       "rarga                           0.000  \n",
       "nr2f5                           1.000  \n",
       "tfec                            1.000  \n",
       "rxraa                           1.000  \n",
       "fli1a_elk3                      1.000  \n",
       "tfec_mitfa_bhlhe40              1.000  \n",
       "elk3                            1.000  \n",
       "mitfa_tfec                      1.000  \n",
       "mitfa_tfec_tfeb                 1.000  \n",
       "fli1a                           1.000  \n",
       "ebf3a                           1.000  \n",
       "elf1                            1.000  \n",
       "nr2f2                           0.012  \n",
       "ets1                            1.000  "
      ]
     },
     "execution_count": 28,
     "metadata": {},
     "output_type": "execute_result"
    }
   ],
   "source": [
    "pval"
   ]
  },
  {
   "cell_type": "code",
   "execution_count": 29,
   "id": "c5d842ff-0199-4da3-a756-f01f4d6a002d",
   "metadata": {
    "tags": []
   },
   "outputs": [],
   "source": [
    "pval = pval.loc[single_matrix.index.tolist(), single_matrix.columns.tolist()]"
   ]
  },
  {
   "cell_type": "code",
   "execution_count": 30,
   "id": "480b2380-2f0f-437c-b687-5280275f480c",
   "metadata": {
    "tags": []
   },
   "outputs": [],
   "source": [
    "mask_pos = (pval <= 0.05).astype(int)\n",
    "mask_neg = (pval >= 0.95).astype(int)"
   ]
  },
  {
   "cell_type": "code",
   "execution_count": 31,
   "id": "7693c3d4-2cd8-4606-bcf8-902e8c7966db",
   "metadata": {
    "tags": []
   },
   "outputs": [],
   "source": [
    "single_matrix = mask_neg * (-1) + mask_pos"
   ]
  },
  {
   "cell_type": "code",
   "execution_count": 32,
   "id": "c6fa4f74-1a07-4509-be85-6a04ec4cc3b9",
   "metadata": {
    "tags": []
   },
   "outputs": [],
   "source": [
    "fate_s = []\n",
    "method2 = []"
   ]
  },
  {
   "cell_type": "code",
   "execution_count": 33,
   "id": "804e32b2-0307-4a7e-8960-bf5aa02cb0ce",
   "metadata": {
    "tags": []
   },
   "outputs": [],
   "source": [
    "coef_KO_dyn = pd.read_csv(DATA_DIR / DATASET / \"results\" / \"dynamo_KO_single.csv\", index_col=0)\n",
    "pval_KO_dyn = pd.read_csv(DATA_DIR / DATASET / \"results\" / \"dynamo_KO_single_pval.csv\", index_col=0)\n",
    "coef_KO_dyn = coef_KO_dyn.loc[single_ko, TERMINAL_STATES_KO]\n",
    "pval_KO_dyn = pval_KO_dyn.loc[single_ko, TERMINAL_STATES_KO]\n",
    "\n",
    "pred_m = coef_KO_dyn - 0.5\n",
    "pred_m_filter = pred_m[pval_KO_dyn < 0.05]\n",
    "pred_m_filter[np.isnan(pred_m_filter)] = 0\n",
    "\n",
    "pred_m_filter.columns = single_matrix.columns\n",
    "score = np.sum(np.sign(single_matrix) * np.sign(pred_m_filter) == 1).sum() / np.sum(pred_m_filter != 0).sum()\n",
    "\n",
    "fate_s.append(score)\n",
    "method2.append(\"Dynamo (KO)\")"
   ]
  },
  {
   "cell_type": "code",
   "execution_count": 34,
   "id": "761aecc3-c156-4e2c-9ef9-3fffe0cea995",
   "metadata": {
    "tags": []
   },
   "outputs": [],
   "source": [
    "for nrun in range(3):\n",
    "    coef_perturb_rgv = pd.read_csv(\n",
    "        DATA_DIR / DATASET / \"results\" / (\"runs\" + str(nrun + 1)) / \"regvelo_single.csv\", index_col=0\n",
    "    )\n",
    "    pval_perturb_rgv = pd.read_csv(\n",
    "        DATA_DIR / DATASET / \"results\" / (\"runs\" + str(nrun + 1)) / \"regvelo_single_pval.csv\", index_col=0\n",
    "    )\n",
    "\n",
    "    coef_perturb_rgv = coef_perturb_rgv.loc[single_ko, TERMINAL_STATES_KO]\n",
    "    pval_perturb_rgv = pval_perturb_rgv.loc[single_ko, TERMINAL_STATES_KO]\n",
    "\n",
    "    pred_m = coef_perturb_rgv\n",
    "    pred_m_filter = pred_m[pval_perturb_rgv < 0.05]\n",
    "    pred_m_filter[np.isnan(pred_m_filter)] = 0\n",
    "    pred_m_filter.columns = single_matrix.columns\n",
    "\n",
    "    score = np.sum(np.sign(single_matrix) * np.sign(pred_m_filter) == 1).sum() / np.sum(pred_m_filter != 0).sum()\n",
    "    fate_s.append(score)\n",
    "    method2.append(\"RegVelo\")"
   ]
  },
  {
   "cell_type": "code",
   "execution_count": 35,
   "id": "e4cc5314-e8e6-475c-8208-eb8eb83d4931",
   "metadata": {
    "tags": []
   },
   "outputs": [],
   "source": [
    "for nrun in range(3):\n",
    "    coef_perturb_rgv = pd.read_csv(\n",
    "        DATA_DIR / DATASET / \"results\" / (\"runs\" + str(nrun + 1)) / \"regvelo_single.csv\", index_col=0\n",
    "    )\n",
    "    pval_perturb_rgv = pd.read_csv(\n",
    "        DATA_DIR / DATASET / \"results\" / (\"runs\" + str(nrun + 1)) / \"regvelo_single_pval.csv\", index_col=0\n",
    "    )\n",
    "\n",
    "    coef_perturb_rgv = coef_perturb_rgv.loc[single_ko, TERMINAL_STATES_KO]\n",
    "    pval_perturb_rgv = pval_perturb_rgv.loc[single_ko, TERMINAL_STATES_KO]\n",
    "\n",
    "    coef_perturb_rgv = coef_perturb_rgv.sample(frac=1).reset_index(drop=True)\n",
    "    pval_perturb_rgv = pval_perturb_rgv.sample(frac=1).reset_index(drop=True)\n",
    "\n",
    "    pred_m = coef_perturb_rgv\n",
    "    pred_m_filter = pred_m[pval_perturb_rgv < 0.05]\n",
    "    pred_m_filter[np.isnan(pred_m_filter)] = 0\n",
    "    pred_m_filter.columns = single_matrix.columns\n",
    "    pred_m_filter.index = single_matrix.index\n",
    "    # shuffled = np.random.permutation(pred_m_filter)\n",
    "\n",
    "    score = np.sum(np.sign(single_matrix) * np.sign(pred_m_filter) == 1).sum() / np.sum(pred_m_filter != 0).sum()\n",
    "    fate_s.append(score)\n",
    "    method2.append(\"Random baseline\")"
   ]
  },
  {
   "cell_type": "markdown",
   "id": "53cde97a-0ac4-4ba3-bed8-4b47a37e4269",
   "metadata": {
    "tags": []
   },
   "source": [
    "#### Multiple knock-out panel prediction results"
   ]
  },
  {
   "cell_type": "code",
   "execution_count": 36,
   "id": "c4dc05ae-ba2c-4eda-8882-11f3ef346dfe",
   "metadata": {
    "tags": []
   },
   "outputs": [],
   "source": [
    "single_matrix = perturbation.loc[single_ko + multiple_ko, :]"
   ]
  },
  {
   "cell_type": "code",
   "execution_count": 37,
   "id": "5d90d264-a786-4072-a9d9-c250d69b1493",
   "metadata": {
    "tags": []
   },
   "outputs": [],
   "source": [
    "pval = pd.read_csv(DATA_DIR / DATASET / \"results\" / \"pval_mat.csv\", index_col=0)"
   ]
  },
  {
   "cell_type": "code",
   "execution_count": 38,
   "id": "39fae3ad-6480-451f-931e-e3af7f2ef4ed",
   "metadata": {
    "tags": []
   },
   "outputs": [],
   "source": [
    "pval = pval.loc[single_matrix.index.tolist(), single_matrix.columns.tolist()]"
   ]
  },
  {
   "cell_type": "code",
   "execution_count": 39,
   "id": "733c768b-eac5-4630-9def-29fe4f453b6d",
   "metadata": {
    "tags": []
   },
   "outputs": [],
   "source": [
    "mask_pos = (pval <= 0.05).astype(int)\n",
    "mask_neg = (pval >= 0.95).astype(int)"
   ]
  },
  {
   "cell_type": "code",
   "execution_count": 40,
   "id": "ce108135-5104-4104-8d48-c2ef691b93b6",
   "metadata": {
    "tags": []
   },
   "outputs": [],
   "source": [
    "single_matrix = mask_neg * (-1) + mask_pos"
   ]
  },
  {
   "cell_type": "code",
   "execution_count": 41,
   "id": "c00b8213-5944-4a9c-82b3-fa275c8aee93",
   "metadata": {
    "tags": []
   },
   "outputs": [],
   "source": [
    "coef_KO_dyn = pd.read_csv(DATA_DIR / DATASET / \"results\" / \"dynamo_KO_single.csv\", index_col=0)\n",
    "coef_KO_dyn2 = pd.read_csv(DATA_DIR / DATASET / \"results\" / \"dynamo_KO_multiple.csv\", index_col=0)\n",
    "\n",
    "coef_KO_dyn = pd.concat([coef_KO_dyn, coef_KO_dyn2])\n",
    "coef_KO_dyn = coef_KO_dyn.loc[single_ko + multiple_ko, TERMINAL_STATES_KO]"
   ]
  },
  {
   "cell_type": "code",
   "execution_count": 42,
   "id": "4978d276-49b2-4194-9a18-9901f6c37208",
   "metadata": {
    "tags": []
   },
   "outputs": [],
   "source": [
    "fate_m = []\n",
    "method2 = []\n",
    "\n",
    "pval_KO_dyn = pd.read_csv(DATA_DIR / DATASET / \"results\" / \"dynamo_KO_single_pval.csv\", index_col=0)\n",
    "pval_KO_dyn2 = pd.read_csv(DATA_DIR / DATASET / \"results\" / \"dynamo_KO_multiple_pval.csv\", index_col=0)\n",
    "\n",
    "pval_KO_dyn = pd.concat([pval_KO_dyn, pval_KO_dyn2])\n",
    "pval_KO_dyn = pval_KO_dyn.loc[single_ko + multiple_ko, TERMINAL_STATES_KO]\n",
    "\n",
    "pred_m = coef_KO_dyn - 0.5\n",
    "pred_m_filter = pred_m[pval_KO_dyn < 0.05]\n",
    "pred_m_filter[np.isnan(pred_m_filter)] = 0\n",
    "\n",
    "pred_m_filter.columns = single_matrix.columns\n",
    "score = np.sum(np.sign(single_matrix) * np.sign(pred_m_filter) == 1).sum() / np.sum(pred_m_filter != 0).sum()\n",
    "\n",
    "fate_m.append(score)\n",
    "method2.append(\"Dynamo (KO)\")"
   ]
  },
  {
   "cell_type": "code",
   "execution_count": 43,
   "id": "4fa5d578-c668-4b6e-a365-dbb322ae2924",
   "metadata": {
    "tags": []
   },
   "outputs": [],
   "source": [
    "for nrun in range(3):\n",
    "    coef_perturb_rgv = pd.read_csv(\n",
    "        DATA_DIR / DATASET / \"results\" / (\"runs\" + str(nrun + 1)) / \"regvelo_single.csv\", index_col=0\n",
    "    )\n",
    "    coef_perturb_rgv2 = pd.read_csv(\n",
    "        DATA_DIR / DATASET / \"results\" / (\"runs\" + str(nrun + 1)) / \"regvelo_multiple.csv\", index_col=0\n",
    "    )\n",
    "    coef_perturb_rgv = pd.concat([coef_perturb_rgv, coef_perturb_rgv2])\n",
    "\n",
    "    pval_perturb_rgv = pd.read_csv(\n",
    "        DATA_DIR / DATASET / \"results\" / (\"runs\" + str(nrun + 1)) / \"regvelo_single_pval.csv\", index_col=0\n",
    "    )\n",
    "    pval_perturb_rgv2 = pd.read_csv(\n",
    "        DATA_DIR / DATASET / \"results\" / (\"runs\" + str(nrun + 1)) / \"regvelo_multiple_pval.csv\", index_col=0\n",
    "    )\n",
    "    pval_perturb_rgv = pd.concat([pval_perturb_rgv, pval_perturb_rgv2])\n",
    "\n",
    "    coef_perturb_rgv = coef_perturb_rgv.loc[single_ko + multiple_ko, TERMINAL_STATES_KO]\n",
    "    pval_perturb_rgv = pval_perturb_rgv.loc[single_ko + multiple_ko, TERMINAL_STATES_KO]\n",
    "\n",
    "    pred_m = coef_perturb_rgv\n",
    "    pred_m_filter = pred_m[pval_perturb_rgv < 0.05]\n",
    "    pred_m_filter[np.isnan(pred_m_filter)] = 0\n",
    "    pred_m_filter.columns = single_matrix.columns\n",
    "\n",
    "    score = np.sum(np.sign(single_matrix) * np.sign(pred_m_filter) == 1).sum() / np.sum(pred_m_filter != 0).sum()\n",
    "    fate_m.append(score)\n",
    "    method2.append(\"RegVelo\")"
   ]
  },
  {
   "cell_type": "code",
   "execution_count": 44,
   "id": "c081e596-c3de-447a-851a-b66de0bf056d",
   "metadata": {
    "tags": []
   },
   "outputs": [],
   "source": [
    "for nrun in range(3):\n",
    "    coef_perturb_rgv = pd.read_csv(\n",
    "        DATA_DIR / DATASET / \"results\" / (\"runs\" + str(nrun + 1)) / \"regvelo_single.csv\", index_col=0\n",
    "    )\n",
    "    coef_perturb_rgv2 = pd.read_csv(\n",
    "        DATA_DIR / DATASET / \"results\" / (\"runs\" + str(nrun + 1)) / \"regvelo_multiple.csv\", index_col=0\n",
    "    )\n",
    "    coef_perturb_rgv = pd.concat([coef_perturb_rgv, coef_perturb_rgv2])\n",
    "\n",
    "    pval_perturb_rgv = pd.read_csv(\n",
    "        DATA_DIR / DATASET / \"results\" / (\"runs\" + str(nrun + 1)) / \"regvelo_single_pval.csv\", index_col=0\n",
    "    )\n",
    "    pval_perturb_rgv2 = pd.read_csv(\n",
    "        DATA_DIR / DATASET / \"results\" / (\"runs\" + str(nrun + 1)) / \"regvelo_multiple_pval.csv\", index_col=0\n",
    "    )\n",
    "    pval_perturb_rgv = pd.concat([pval_perturb_rgv, pval_perturb_rgv2])\n",
    "\n",
    "    coef_perturb_rgv = coef_perturb_rgv.loc[single_ko + multiple_ko, TERMINAL_STATES_KO]\n",
    "    pval_perturb_rgv = pval_perturb_rgv.loc[single_ko + multiple_ko, TERMINAL_STATES_KO]\n",
    "\n",
    "    coef_perturb_rgv = coef_perturb_rgv.sample(frac=1).reset_index(drop=True)\n",
    "    pval_perturb_rgv = pval_perturb_rgv.sample(frac=1).reset_index(drop=True)\n",
    "\n",
    "    pred_m = coef_perturb_rgv\n",
    "    pred_m_filter = pred_m[pval_perturb_rgv < 0.05]\n",
    "    pred_m_filter[np.isnan(pred_m_filter)] = 0\n",
    "    pred_m_filter.columns = single_matrix.columns\n",
    "    pred_m_filter.index = single_matrix.index\n",
    "    # shuffled = np.random.permutation(pred_m_filter)\n",
    "\n",
    "    score = np.sum(np.sign(single_matrix) * np.sign(pred_m_filter) == 1).sum() / np.sum(pred_m_filter != 0).sum()\n",
    "    fate_m.append(score)\n",
    "    method2.append(\"Random baseline\")"
   ]
  },
  {
   "cell_type": "markdown",
   "id": "0b2be453-bf05-4868-af1d-3f39415308a1",
   "metadata": {},
   "source": [
    "## Visualize prediction results"
   ]
  },
  {
   "cell_type": "code",
   "execution_count": 45,
   "id": "9d062fe3-0558-457d-8a16-526cbc610a53",
   "metadata": {
    "tags": []
   },
   "outputs": [],
   "source": [
    "dat = pd.DataFrame({\"cell fate prediction correctness\": fate_s, \"method\": method2})\n",
    "dat2 = pd.DataFrame({\"cell fate prediction correctness\": fate_m, \"method\": method2})\n",
    "dat[\"Experimental class\"] = \"Single TF knock-out\"\n",
    "dat2[\"Experimental class\"] = \"Single + Multiple TF knock-out\"\n",
    "df = pd.concat([dat, dat2], axis=0)"
   ]
  },
  {
   "cell_type": "code",
   "execution_count": 46,
   "id": "b794b5e3-be52-4c6e-9523-55b268e677e7",
   "metadata": {
    "tags": []
   },
   "outputs": [],
   "source": [
    "METHOD_PALETTE_PERTURBATION[\"Random baseline\"] = \"#808080\""
   ]
  },
  {
   "cell_type": "code",
   "execution_count": 47,
   "id": "2e95cdee-3d49-4b91-b3bf-3528a72e71c0",
   "metadata": {
    "tags": []
   },
   "outputs": [
    {
     "data": {
      "image/png": "[encoded data removed]",
      "text/plain": [
       "<Figure size 400x400 with 1 Axes>"
      ]
     },
     "metadata": {},
     "output_type": "display_data"
    }
   ],
   "source": [
    "with mplscience.style_context():\n",
    "    sns.set_style(style=\"whitegrid\")\n",
    "    fig, ax = plt.subplots(figsize=(4, 4))\n",
    "\n",
    "    # Plot the barplot without error bars\n",
    "    sns.barplot(\n",
    "        data=df,\n",
    "        y=\"Experimental class\",\n",
    "        x=\"cell fate prediction correctness\",\n",
    "        hue=\"method\",\n",
    "        hue_order=[\"RegVelo\", \"Dynamo (KO)\", \"Random baseline\"],\n",
    "        palette=METHOD_PALETTE_PERTURBATION,\n",
    "        ax=ax,\n",
    "        ci=None,\n",
    "    )\n",
    "\n",
    "    # Add jittered dots\n",
    "    sns.stripplot(\n",
    "        data=df,\n",
    "        y=\"Experimental class\",\n",
    "        x=\"cell fate prediction correctness\",\n",
    "        hue=\"method\",\n",
    "        hue_order=[\"RegVelo\", \"Dynamo(KO)\", \"Random baseline\"],\n",
    "        dodge=True,\n",
    "        color=\"black\",\n",
    "        ax=ax,\n",
    "        jitter=True,\n",
    "    )\n",
    "\n",
    "    # Remove the duplicate legend\n",
    "    handles, labels = ax.get_legend_handles_labels()\n",
    "    ax.legend(\n",
    "        handles[4 : (4 + len(METHOD_PALETTE_PERTURBATION))],\n",
    "        labels[4 : (4 + len(METHOD_PALETTE_PERTURBATION))],\n",
    "        bbox_to_anchor=(0.5, -0.1),\n",
    "        loc=\"upper center\",\n",
    "        ncol=2,\n",
    "    )\n",
    "\n",
    "    # Customize labels and other settings\n",
    "    ax.set(ylabel=\"\", xlabel=\"Cell fate prediction precision\")\n",
    "    ax.set_xlabel(xlabel=\"Cell fate prediction correctness\", fontsize=13)\n",
    "    # ax.set_xlim(0.45,)\n",
    "\n",
    "    if SAVE_FIGURES:\n",
    "        plt.savefig(\n",
    "            DATA_DIR / DATASET / \"results\" / \"cell_fate_precision.svg\",\n",
    "            format=\"svg\",\n",
    "            transparent=True,\n",
    "            bbox_inches=\"tight\",\n",
    "        )\n",
    "    plt.show()"
   ]
  },
  {
   "cell_type": "markdown",
   "id": "0898f541-4587-496c-ae70-f507e05c3580",
   "metadata": {
    "tags": []
   },
   "source": [
    "## Cell fate prediction Recall"
   ]
  },
  {
   "cell_type": "markdown",
   "id": "45706c74-3f79-4799-9ece-629597d41570",
   "metadata": {},
   "source": [
    "#### Single knock-out panel prediction results"
   ]
  },
  {
   "cell_type": "code",
   "execution_count": 48,
   "id": "aca483e9-ed8b-40a7-bb3c-8cbb32ff1d35",
   "metadata": {
    "tags": []
   },
   "outputs": [],
   "source": [
    "single_matrix = perturbation.loc[single_ko, :]"
   ]
  },
  {
   "cell_type": "markdown",
   "id": "c5372f69-490f-4667-b447-22b541d17538",
   "metadata": {},
   "source": [
    "### Calculate pvalue"
   ]
  },
  {
   "cell_type": "code",
   "execution_count": 49,
   "id": "d770d36f-b4a6-435c-85d5-749ced603c92",
   "metadata": {
    "tags": []
   },
   "outputs": [],
   "source": [
    "pval = pd.read_csv(DATA_DIR / DATASET / \"results\" / \"pval_mat.csv\", index_col=0)"
   ]
  },
  {
   "cell_type": "code",
   "execution_count": 50,
   "id": "863e9e08-9366-4dc0-9884-2a5f202c9403",
   "metadata": {
    "tags": []
   },
   "outputs": [],
   "source": [
    "pval = pval.loc[single_matrix.index.tolist(), single_matrix.columns.tolist()]"
   ]
  },
  {
   "cell_type": "code",
   "execution_count": 51,
   "id": "da3b8c52-2299-43ff-9e8b-e05baacd807f",
   "metadata": {
    "tags": []
   },
   "outputs": [],
   "source": [
    "mask_pos = (pval <= 0.05).astype(int)\n",
    "mask_neg = (pval >= 0.95).astype(int)"
   ]
  },
  {
   "cell_type": "code",
   "execution_count": 52,
   "id": "f6f3a54f-8fd2-4f99-a0a7-14fb45a746fc",
   "metadata": {
    "tags": []
   },
   "outputs": [],
   "source": [
    "single_matrix = mask_neg * (-1) + mask_pos"
   ]
  },
  {
   "cell_type": "code",
   "execution_count": 53,
   "id": "58051b1c-5cfd-4399-9e78-a5e1c94e1c75",
   "metadata": {
    "tags": []
   },
   "outputs": [],
   "source": [
    "fate_s = []\n",
    "method2 = []"
   ]
  },
  {
   "cell_type": "code",
   "execution_count": 54,
   "id": "ec89e633-8812-4699-bdd5-e79b8bc44221",
   "metadata": {
    "tags": []
   },
   "outputs": [],
   "source": [
    "coef_KO_dyn = pd.read_csv(DATA_DIR / DATASET / \"results\" / \"dynamo_KO_single.csv\", index_col=0)\n",
    "pval_KO_dyn = pd.read_csv(DATA_DIR / DATASET / \"results\" / \"dynamo_KO_single_pval.csv\", index_col=0)\n",
    "coef_KO_dyn = coef_KO_dyn.loc[single_ko, TERMINAL_STATES_KO]\n",
    "pval_KO_dyn = pval_KO_dyn.loc[single_ko, TERMINAL_STATES_KO]\n",
    "\n",
    "pred_m = coef_KO_dyn - 0.5\n",
    "pred_m_filter = pred_m[pval_KO_dyn < 0.05]\n",
    "pred_m_filter[np.isnan(pred_m_filter)] = 0\n",
    "\n",
    "pred_m_filter.columns = single_matrix.columns\n",
    "score = np.sum(np.sign(single_matrix) * np.sign(pred_m_filter) == 1).sum() / np.sum(single_matrix != 0).sum()\n",
    "\n",
    "fate_s.append(score)\n",
    "method2.append(\"Dynamo (KO)\")"
   ]
  },
  {
   "cell_type": "code",
   "execution_count": 55,
   "id": "7cff8d3d-8a00-4f6f-8b3d-07e984da7d69",
   "metadata": {
    "tags": []
   },
   "outputs": [],
   "source": [
    "for nrun in range(3):\n",
    "    coef_perturb_rgv = pd.read_csv(\n",
    "        DATA_DIR / DATASET / \"results\" / (\"runs\" + str(nrun + 1)) / \"regvelo_single.csv\", index_col=0\n",
    "    )\n",
    "    pval_perturb_rgv = pd.read_csv(\n",
    "        DATA_DIR / DATASET / \"results\" / (\"runs\" + str(nrun + 1)) / \"regvelo_single_pval.csv\", index_col=0\n",
    "    )\n",
    "\n",
    "    coef_perturb_rgv = coef_perturb_rgv.loc[single_ko, TERMINAL_STATES_KO]\n",
    "    pval_perturb_rgv = pval_perturb_rgv.loc[single_ko, TERMINAL_STATES_KO]\n",
    "\n",
    "    pred_m = coef_perturb_rgv\n",
    "    pred_m_filter = pred_m[pval_perturb_rgv < 0.05]\n",
    "    pred_m_filter[np.isnan(pred_m_filter)] = 0\n",
    "    pred_m_filter.columns = single_matrix.columns\n",
    "\n",
    "    score = np.sum(np.sign(single_matrix) * np.sign(pred_m_filter) == 1).sum() / np.sum(single_matrix != 0).sum()\n",
    "    fate_s.append(score)\n",
    "    method2.append(\"RegVelo\")"
   ]
  },
  {
   "cell_type": "code",
   "execution_count": 56,
   "id": "a51164a0-f3a0-4fe8-9927-1a0b22167791",
   "metadata": {
    "tags": []
   },
   "outputs": [],
   "source": [
    "for nrun in range(3):\n",
    "    coef_perturb_rgv = pd.read_csv(\n",
    "        DATA_DIR / DATASET / \"results\" / (\"runs\" + str(nrun + 1)) / \"regvelo_single.csv\", index_col=0\n",
    "    )\n",
    "    pval_perturb_rgv = pd.read_csv(\n",
    "        DATA_DIR / DATASET / \"results\" / (\"runs\" + str(nrun + 1)) / \"regvelo_single_pval.csv\", index_col=0\n",
    "    )\n",
    "\n",
    "    coef_perturb_rgv = coef_perturb_rgv.loc[single_ko, TERMINAL_STATES_KO]\n",
    "    pval_perturb_rgv = pval_perturb_rgv.loc[single_ko, TERMINAL_STATES_KO]\n",
    "\n",
    "    coef_perturb_rgv = coef_perturb_rgv.sample(frac=1).reset_index(drop=True)\n",
    "    pval_perturb_rgv = pval_perturb_rgv.sample(frac=1).reset_index(drop=True)\n",
    "\n",
    "    pred_m = coef_perturb_rgv\n",
    "    pred_m_filter = pred_m[pval_perturb_rgv < 0.05]\n",
    "    pred_m_filter[np.isnan(pred_m_filter)] = 0\n",
    "    pred_m_filter.columns = single_matrix.columns\n",
    "    pred_m_filter.index = single_matrix.index\n",
    "    # shuffled = np.random.permutation(pred_m_filter)\n",
    "\n",
    "    score = np.sum(np.sign(single_matrix) * np.sign(pred_m_filter) == 1).sum() / np.sum(single_matrix != 0).sum()\n",
    "    fate_s.append(score)\n",
    "    method2.append(\"Random baseline\")"
   ]
  },
  {
   "cell_type": "markdown",
   "id": "9c195b01-31c8-4ac8-a446-2d7264b02a3e",
   "metadata": {
    "tags": []
   },
   "source": [
    "#### Multiple knock-out panel prediction results"
   ]
  },
  {
   "cell_type": "code",
   "execution_count": 57,
   "id": "63fdaf31-e99d-4c53-8a4a-c5ee7c6cba74",
   "metadata": {
    "tags": []
   },
   "outputs": [],
   "source": [
    "single_matrix = perturbation.loc[single_ko + multiple_ko, :]"
   ]
  },
  {
   "cell_type": "code",
   "execution_count": 58,
   "id": "0bb7d707-a76b-4c12-8904-71a19dfbbb3b",
   "metadata": {
    "tags": []
   },
   "outputs": [],
   "source": [
    "pval = pd.read_csv(DATA_DIR / DATASET / \"results\" / \"pval_mat.csv\", index_col=0)"
   ]
  },
  {
   "cell_type": "code",
   "execution_count": 59,
   "id": "ff9a3038-7ca1-44eb-b29f-23a966a77689",
   "metadata": {
    "tags": []
   },
   "outputs": [],
   "source": [
    "pval = pval.loc[single_matrix.index.tolist(), single_matrix.columns.tolist()]"
   ]
  },
  {
   "cell_type": "code",
   "execution_count": 60,
   "id": "97600d9d-5786-4e51-a95b-7fcbe5d32553",
   "metadata": {
    "tags": []
   },
   "outputs": [],
   "source": [
    "mask_pos = (pval <= 0.05).astype(int)\n",
    "mask_neg = (pval >= 0.95).astype(int)"
   ]
  },
  {
   "cell_type": "code",
   "execution_count": 61,
   "id": "3031ccb3-cfae-4fd8-8b41-198c6aaf0dd4",
   "metadata": {
    "tags": []
   },
   "outputs": [],
   "source": [
    "single_matrix = mask_neg * (-1) + mask_pos"
   ]
  },
  {
   "cell_type": "code",
   "execution_count": 62,
   "id": "12ad3a36-ea62-4aa0-a5df-474ca0643e14",
   "metadata": {
    "tags": []
   },
   "outputs": [],
   "source": [
    "coef_KO_dyn = pd.read_csv(DATA_DIR / DATASET / \"results\" / \"dynamo_KO_single.csv\", index_col=0)\n",
    "coef_KO_dyn2 = pd.read_csv(DATA_DIR / DATASET / \"results\" / \"dynamo_KO_multiple.csv\", index_col=0)\n",
    "\n",
    "coef_KO_dyn = pd.concat([coef_KO_dyn, coef_KO_dyn2])\n",
    "coef_KO_dyn = coef_KO_dyn.loc[single_ko + multiple_ko, TERMINAL_STATES_KO]"
   ]
  },
  {
   "cell_type": "code",
   "execution_count": 63,
   "id": "26c986eb-9340-470c-966c-1a6cb201cc48",
   "metadata": {
    "tags": []
   },
   "outputs": [],
   "source": [
    "fate_m = []\n",
    "method2 = []\n",
    "\n",
    "pval_KO_dyn = pd.read_csv(DATA_DIR / DATASET / \"results\" / \"dynamo_KO_single_pval.csv\", index_col=0)\n",
    "pval_KO_dyn2 = pd.read_csv(DATA_DIR / DATASET / \"results\" / \"dynamo_KO_multiple_pval.csv\", index_col=0)\n",
    "\n",
    "pval_KO_dyn = pd.concat([pval_KO_dyn, pval_KO_dyn2])\n",
    "pval_KO_dyn = pval_KO_dyn.loc[single_ko + multiple_ko, TERMINAL_STATES_KO]\n",
    "\n",
    "pred_m = coef_KO_dyn - 0.5\n",
    "pred_m_filter = pred_m[pval_KO_dyn <= 0.1]\n",
    "pred_m_filter[np.isnan(pred_m_filter)] = 0\n",
    "\n",
    "pred_m_filter.columns = single_matrix.columns\n",
    "score = np.sum(np.sign(single_matrix) * np.sign(pred_m_filter) == 1).sum() / np.sum(single_matrix != 0).sum()\n",
    "\n",
    "fate_m.append(score)\n",
    "method2.append(\"Dynamo (KO)\")"
   ]
  },
  {
   "cell_type": "code",
   "execution_count": 64,
   "id": "d0976c9d-9b64-4bbc-9d9f-44227b568cd6",
   "metadata": {
    "tags": []
   },
   "outputs": [],
   "source": [
    "for nrun in range(3):\n",
    "    coef_perturb_rgv = pd.read_csv(\n",
    "        DATA_DIR / DATASET / \"results\" / (\"runs\" + str(nrun + 1)) / \"regvelo_single.csv\", index_col=0\n",
    "    )\n",
    "    coef_perturb_rgv2 = pd.read_csv(\n",
    "        DATA_DIR / DATASET / \"results\" / (\"runs\" + str(nrun + 1)) / \"regvelo_multiple.csv\", index_col=0\n",
    "    )\n",
    "    coef_perturb_rgv = pd.concat([coef_perturb_rgv, coef_perturb_rgv2])\n",
    "\n",
    "    pval_perturb_rgv = pd.read_csv(\n",
    "        DATA_DIR / DATASET / \"results\" / (\"runs\" + str(nrun + 1)) / \"regvelo_single_pval.csv\", index_col=0\n",
    "    )\n",
    "    pval_perturb_rgv2 = pd.read_csv(\n",
    "        DATA_DIR / DATASET / \"results\" / (\"runs\" + str(nrun + 1)) / \"regvelo_multiple_pval.csv\", index_col=0\n",
    "    )\n",
    "    pval_perturb_rgv = pd.concat([pval_perturb_rgv, pval_perturb_rgv2])\n",
    "\n",
    "    coef_perturb_rgv = coef_perturb_rgv.loc[single_ko + multiple_ko, TERMINAL_STATES_KO]\n",
    "    pval_perturb_rgv = pval_perturb_rgv.loc[single_ko + multiple_ko, TERMINAL_STATES_KO]\n",
    "\n",
    "    pred_m = coef_perturb_rgv\n",
    "    pred_m_filter = pred_m[pval_perturb_rgv <= 0.1]\n",
    "    pred_m_filter[np.isnan(pred_m_filter)] = 0\n",
    "    pred_m_filter.columns = single_matrix.columns\n",
    "\n",
    "    score = np.sum(np.sign(single_matrix) * np.sign(pred_m_filter) == 1).sum() / np.sum(single_matrix != 0).sum()\n",
    "    fate_m.append(score)\n",
    "    method2.append(\"RegVelo\")"
   ]
  },
  {
   "cell_type": "code",
   "execution_count": 65,
   "id": "58a86dc9-1ba2-4653-9f65-35df070759df",
   "metadata": {
    "tags": []
   },
   "outputs": [],
   "source": [
    "for nrun in range(3):\n",
    "    coef_perturb_rgv = pd.read_csv(\n",
    "        DATA_DIR / DATASET / \"results\" / (\"runs\" + str(nrun + 1)) / \"regvelo_single.csv\", index_col=0\n",
    "    )\n",
    "    coef_perturb_rgv2 = pd.read_csv(\n",
    "        DATA_DIR / DATASET / \"results\" / (\"runs\" + str(nrun + 1)) / \"regvelo_multiple.csv\", index_col=0\n",
    "    )\n",
    "    coef_perturb_rgv = pd.concat([coef_perturb_rgv, coef_perturb_rgv2])\n",
    "\n",
    "    pval_perturb_rgv = pd.read_csv(\n",
    "        DATA_DIR / DATASET / \"results\" / (\"runs\" + str(nrun + 1)) / \"regvelo_single_pval.csv\", index_col=0\n",
    "    )\n",
    "    pval_perturb_rgv2 = pd.read_csv(\n",
    "        DATA_DIR / DATASET / \"results\" / (\"runs\" + str(nrun + 1)) / \"regvelo_multiple_pval.csv\", index_col=0\n",
    "    )\n",
    "    pval_perturb_rgv = pd.concat([pval_perturb_rgv, pval_perturb_rgv2])\n",
    "\n",
    "    coef_perturb_rgv = coef_perturb_rgv.loc[single_ko + multiple_ko, TERMINAL_STATES_KO]\n",
    "    pval_perturb_rgv = pval_perturb_rgv.loc[single_ko + multiple_ko, TERMINAL_STATES_KO]\n",
    "\n",
    "    coef_perturb_rgv = coef_perturb_rgv.sample(frac=1).reset_index(drop=True)\n",
    "    pval_perturb_rgv = pval_perturb_rgv.sample(frac=1).reset_index(drop=True)\n",
    "\n",
    "    pred_m = coef_perturb_rgv\n",
    "    pred_m_filter = pred_m[pval_perturb_rgv <= 0.1]\n",
    "    pred_m_filter[np.isnan(pred_m_filter)] = 0\n",
    "    pred_m_filter.columns = single_matrix.columns\n",
    "    pred_m_filter.index = single_matrix.index\n",
    "    # shuffled = np.random.permutation(pred_m_filter)\n",
    "\n",
    "    score = np.sum(np.sign(single_matrix) * np.sign(pred_m_filter) == 1).sum() / np.sum(single_matrix != 0).sum()\n",
    "    fate_m.append(score)\n",
    "    method2.append(\"Random baseline\")"
   ]
  },
  {
   "cell_type": "markdown",
   "id": "39b62a8e-1f57-4890-b2da-88de9bba08cb",
   "metadata": {},
   "source": [
    "## Visualize prediction results"
   ]
  },
  {
   "cell_type": "code",
   "execution_count": 66,
   "id": "011304eb-0c4f-4ebd-aa2c-8686d31ede43",
   "metadata": {
    "tags": []
   },
   "outputs": [],
   "source": [
    "dat = pd.DataFrame({\"cell fate prediction correctness\": fate_s, \"method\": method2})\n",
    "dat2 = pd.DataFrame({\"cell fate prediction correctness\": fate_m, \"method\": method2})\n",
    "dat[\"Experimental class\"] = \"Single TF knock-out\"\n",
    "dat2[\"Experimental class\"] = \"Single + Multiple TF knock-out\"\n",
    "df = pd.concat([dat, dat2], axis=0)"
   ]
  },
  {
   "cell_type": "code",
   "execution_count": 67,
   "id": "01a2dff0-adde-40ce-ab3a-7d8a96ae3b44",
   "metadata": {
    "tags": []
   },
   "outputs": [],
   "source": [
    "METHOD_PALETTE_PERTURBATION[\"Random baseline\"] = \"#808080\""
   ]
  },
  {
   "cell_type": "code",
   "execution_count": 68,
   "id": "9265445b-44fa-4255-b4b0-440e94f4e5f5",
   "metadata": {
    "tags": []
   },
   "outputs": [
    {
     "data": {
      "image/png": "[encoded data removed]",
      "text/plain": [
       "<Figure size 400x400 with 1 Axes>"
      ]
     },
     "metadata": {},
     "output_type": "display_data"
    }
   ],
   "source": [
    "with mplscience.style_context():\n",
    "    sns.set_style(style=\"whitegrid\")\n",
    "    fig, ax = plt.subplots(figsize=(4, 4))\n",
    "\n",
    "    # Plot the barplot without error bars\n",
    "    sns.barplot(\n",
    "        data=df,\n",
    "        y=\"Experimental class\",\n",
    "        x=\"cell fate prediction correctness\",\n",
    "        hue=\"method\",\n",
    "        hue_order=[\"RegVelo\", \"Dynamo (KO)\", \"Random baseline\"],\n",
    "        palette=METHOD_PALETTE_PERTURBATION,\n",
    "        ax=ax,\n",
    "        ci=None,\n",
    "    )\n",
    "\n",
    "    # Add jittered dots\n",
    "    sns.stripplot(\n",
    "        data=df,\n",
    "        y=\"Experimental class\",\n",
    "        x=\"cell fate prediction correctness\",\n",
    "        hue=\"method\",\n",
    "        hue_order=[\"RegVelo\", \"Dynamo(KO)\", \"Random baseline\"],\n",
    "        dodge=True,\n",
    "        color=\"black\",\n",
    "        ax=ax,\n",
    "        jitter=True,\n",
    "    )\n",
    "\n",
    "    # Remove the duplicate legend\n",
    "    handles, labels = ax.get_legend_handles_labels()\n",
    "    ax.legend(\n",
    "        handles[4 : (4 + len(METHOD_PALETTE_PERTURBATION))],\n",
    "        labels[4 : (4 + len(METHOD_PALETTE_PERTURBATION))],\n",
    "        bbox_to_anchor=(0.5, -0.1),\n",
    "        loc=\"upper center\",\n",
    "        ncol=2,\n",
    "    )\n",
    "\n",
    "    # Customize labels and other settings\n",
    "    ax.set(ylabel=\"\", xlabel=\"Cell fate prediction recall\")\n",
    "    ax.set_xlabel(xlabel=\"Cell fate prediction recall\", fontsize=13)\n",
    "    # ax.set_xlim(0.45,)\n",
    "\n",
    "    if SAVE_FIGURES:\n",
    "        plt.savefig(\n",
    "            DATA_DIR / DATASET / \"results\" / \"cell_fate_recall.svg\", format=\"svg\", transparent=True, bbox_inches=\"tight\"\n",
    "        )\n",
    "    plt.show()"
   ]
  },
  {
   "cell_type": "code",
   "execution_count": null,
   "id": "0c80c3e6-826d-40b6-9fa6-74d1ead825eb",
   "metadata": {},
   "outputs": [],
   "source": []
  },
  {
   "cell_type": "code",
   "execution_count": null,
   "id": "363617ba-3c76-46b7-a509-96d97577dc61",
   "metadata": {},
   "outputs": [],
   "source": []
  }
 ],
 "metadata": {
  "kernelspec": {
   "display_name": "Python [conda env:regvelo_test]",
   "language": "python",
   "name": "conda-env-regvelo_test-py"
  },
  "language_info": {
   "codemirror_mode": {
    "name": "ipython",
    "version": 3
   },
   "file_extension": ".py",
   "mimetype": "text/x-python",
   "name": "python",
   "nbconvert_exporter": "python",
   "pygments_lexer": "ipython3",
   "version": "3.10.15"
  }
 },
 "nbformat": 4,
 "nbformat_minor": 5
}
