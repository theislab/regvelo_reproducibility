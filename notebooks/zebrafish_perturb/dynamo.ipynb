{
 "cells": [
  {
   "cell_type": "markdown",
   "id": "20a421ae-6fb0-473f-9994-c388a9de7b7c",
   "metadata": {},
   "source": [
    "# Dynamo-based perturbation analysis"
   ]
  },
  {
   "cell_type": "markdown",
   "id": "1ab8ae99-1c17-456f-b710-96f11f7b96bd",
   "metadata": {},
   "source": [
    "## Library imports"
   ]
  },
  {
   "cell_type": "code",
   "execution_count": 1,
   "id": "7424c717-6bc2-4405-b751-34ee7a294148",
   "metadata": {
    "tags": []
   },
   "outputs": [
    {
     "name": "stderr",
     "output_type": "stream",
     "text": [
      "/home/icb/weixu.wang/miniconda3/envs/dynamo/lib/python3.10/site-packages/anndata/utils.py:434: FutureWarning: Importing read_csv from `anndata` is deprecated. Import anndata.io.read_csv instead.\n",
      "  warnings.warn(msg, FutureWarning)\n",
      "/home/icb/weixu.wang/miniconda3/envs/dynamo/lib/python3.10/site-packages/anndata/utils.py:434: FutureWarning: Importing read_excel from `anndata` is deprecated. Import anndata.io.read_excel instead.\n",
      "  warnings.warn(msg, FutureWarning)\n",
      "/home/icb/weixu.wang/miniconda3/envs/dynamo/lib/python3.10/site-packages/anndata/utils.py:434: FutureWarning: Importing read_hdf from `anndata` is deprecated. Import anndata.io.read_hdf instead.\n",
      "  warnings.warn(msg, FutureWarning)\n",
      "/home/icb/weixu.wang/miniconda3/envs/dynamo/lib/python3.10/site-packages/anndata/utils.py:434: FutureWarning: Importing read_loom from `anndata` is deprecated. Import anndata.io.read_loom instead.\n",
      "  warnings.warn(msg, FutureWarning)\n",
      "/home/icb/weixu.wang/miniconda3/envs/dynamo/lib/python3.10/site-packages/anndata/utils.py:434: FutureWarning: Importing read_mtx from `anndata` is deprecated. Import anndata.io.read_mtx instead.\n",
      "  warnings.warn(msg, FutureWarning)\n",
      "/home/icb/weixu.wang/miniconda3/envs/dynamo/lib/python3.10/site-packages/anndata/utils.py:434: FutureWarning: Importing read_text from `anndata` is deprecated. Import anndata.io.read_text instead.\n",
      "  warnings.warn(msg, FutureWarning)\n",
      "/home/icb/weixu.wang/miniconda3/envs/dynamo/lib/python3.10/site-packages/anndata/utils.py:434: FutureWarning: Importing read_umi_tools from `anndata` is deprecated. Import anndata.io.read_umi_tools instead.\n",
      "  warnings.warn(msg, FutureWarning)\n",
      "/home/icb/weixu.wang/miniconda3/envs/dynamo/lib/python3.10/site-packages/numba/np/ufunc/dufunc.py:344: NumbaWarning: \u001b[1mCompilation requested for previously compiled argument types ((uint32,)). This has no effect and perhaps indicates a bug in the calling code (compiling a ufunc more than once for the same signature\u001b[0m\n",
      "  warnings.warn(msg, errors.NumbaWarning)\n",
      "/home/icb/weixu.wang/miniconda3/envs/dynamo/lib/python3.10/site-packages/numba/np/ufunc/dufunc.py:344: NumbaWarning: \u001b[1mCompilation requested for previously compiled argument types ((uint32,)). This has no effect and perhaps indicates a bug in the calling code (compiling a ufunc more than once for the same signature\u001b[0m\n",
      "  warnings.warn(msg, errors.NumbaWarning)\n",
      "/home/icb/weixu.wang/miniconda3/envs/dynamo/lib/python3.10/site-packages/numba/np/ufunc/dufunc.py:344: NumbaWarning: \u001b[1mCompilation requested for previously compiled argument types ((uint32,)). This has no effect and perhaps indicates a bug in the calling code (compiling a ufunc more than once for the same signature\u001b[0m\n",
      "  warnings.warn(msg, errors.NumbaWarning)\n",
      "/home/icb/weixu.wang/miniconda3/envs/dynamo/lib/python3.10/site-packages/anndata/utils.py:434: FutureWarning: Importing read_loom from `anndata` is deprecated. Import anndata.io.read_loom instead.\n",
      "  warnings.warn(msg, FutureWarning)\n",
      "Matplotlib is building the font cache; this may take a moment.\n"
     ]
    }
   ],
   "source": [
    "import numpy as np\n",
    "import pandas as pd\n",
    "\n",
    "import dynamo as dyn\n",
    "import scanpy as sc\n",
    "from dynamo.preprocessing import Preprocessor\n",
    "\n",
    "from rgv_tools import DATA_DIR\n",
    "from rgv_tools.perturbation import (\n",
    "    delta_to_probability,\n",
    "    density_likelihood_dyn,\n",
    "    get_list_name,\n",
    "    Multiple_TFScanning_perturbation_dyn,\n",
    "    split_elements,\n",
    "    TFScanning_perturbation_dyn,\n",
    ")"
   ]
  },
  {
   "cell_type": "markdown",
   "id": "9953e41e-c09c-4af5-9b1c-866a687d3ebb",
   "metadata": {},
   "source": [
    "## Constants"
   ]
  },
  {
   "cell_type": "code",
   "execution_count": 2,
   "id": "0d49938a-15e0-4193-9369-d8db31a8e6ae",
   "metadata": {
    "tags": []
   },
   "outputs": [],
   "source": [
    "DATASET = \"zebrafish\""
   ]
  },
  {
   "cell_type": "code",
   "execution_count": 3,
   "id": "e9a5c066-69ce-452c-a95a-d0cf598e8233",
   "metadata": {},
   "outputs": [],
   "source": [
    "SAVE_DATA = True\n",
    "if SAVE_DATA:\n",
    "    (DATA_DIR / DATASET / \"results\").mkdir(parents=True, exist_ok=True)"
   ]
  },
  {
   "cell_type": "code",
   "execution_count": 4,
   "id": "44472755-16e8-413a-9d6f-36e3bd50b4b0",
   "metadata": {
    "tags": []
   },
   "outputs": [],
   "source": [
    "genes = [\"nr2f5\", \"sox9b\", \"twist1b\", \"ets1\"]\n",
    "\n",
    "TERMINAL_STATES_KO = [\n",
    "    \"mNC_head_mesenchymal\",\n",
    "    \"mNC_arch2\",\n",
    "    \"mNC_hox34\",\n",
    "    \"Pigment_gch2\",\n",
    "]\n",
    "\n",
    "TERMINAL_STATES_PERTURB = [\n",
    "    \"mNC_head_mesenchymal\",\n",
    "    \"mNC_arch2\",\n",
    "    \"mNC_hox34\",\n",
    "    \"Pigment\",\n",
    "]"
   ]
  },
  {
   "cell_type": "code",
   "execution_count": 5,
   "id": "dc6cf413-b7cf-48b7-870f-94ebbd637c0d",
   "metadata": {
    "tags": []
   },
   "outputs": [],
   "source": [
    "single_ko = [\"rarga\", \"rxraa\", \"nr2f5\", \"fli1a\", \"tfec\", \"elk3\", \"mitfa\", \"ets1\", \"nr2f2\", \"elf1\", \"ebf3a\"]\n",
    "multiple_ko = [\"fli1a_elk3\", \"tfec_mitfa_bhlhe40\", \"mitfa_tfec\", \"mitfa_tfec_tfeb\"]"
   ]
  },
  {
   "cell_type": "markdown",
   "id": "9f99afc2-5793-41cf-a85a-33bd251eed9d",
   "metadata": {},
   "source": [
    "## Data loading"
   ]
  },
  {
   "cell_type": "code",
   "execution_count": 6,
   "id": "0827b443-c739-4800-8c9b-28c8f350d527",
   "metadata": {
    "tags": []
   },
   "outputs": [],
   "source": [
    "adata = sc.read_h5ad(DATA_DIR / DATASET / \"processed\" / \"adata_preprocessed_cr.h5ad\")"
   ]
  },
  {
   "cell_type": "code",
   "execution_count": 7,
   "id": "2928c6d9-71fb-4068-b12e-aaaba01b472d",
   "metadata": {
    "tags": []
   },
   "outputs": [],
   "source": [
    "adata.X = adata.layers[\"matrix\"].copy()"
   ]
  },
  {
   "cell_type": "markdown",
   "id": "8b5f6229-3326-4c40-96c5-88260c960ce2",
   "metadata": {
    "tags": []
   },
   "source": [
    "## Processing by dynamo"
   ]
  },
  {
   "cell_type": "code",
   "execution_count": 8,
   "id": "f4220c22-bcd1-4f6b-91ce-90a6a115aa1c",
   "metadata": {
    "tags": []
   },
   "outputs": [
    {
     "name": "stdout",
     "output_type": "stream",
     "text": [
      "|-----> Running monocle preprocessing pipeline...\n",
      "|-----------> filtered out 0 outlier cells\n",
      "|-----------> filtered out 21 outlier genes\n",
      "|-----> PCA dimension reduction\n",
      "|-----> <insert> X_pca to obsm in AnnData Object.\n",
      "|-----> [Preprocessor-monocle] completed [1.6919s]\n"
     ]
    }
   ],
   "source": [
    "preprocessor = Preprocessor()\n",
    "preprocessor.preprocess_adata(adata, recipe=\"monocle\")"
   ]
  },
  {
   "cell_type": "code",
   "execution_count": 9,
   "id": "8dfa7f10-377f-40e1-a894-42916f775852",
   "metadata": {
    "tags": []
   },
   "outputs": [
    {
     "name": "stdout",
     "output_type": "stream",
     "text": [
      "|-----> dynamics_del_2nd_moments_key is None. Using default value from DynamoAdataConfig: dynamics_del_2nd_moments_key=False\n",
      "|-----------> removing existing M layers:[]...\n",
      "|-----------> making adata smooth...\n",
      "|-----> calculating first/second moments...\n",
      "|-----? layer X_velocity is not in any of the (['X_spliced', 'X_unspliced'], ['X_new', 'X_total'], ['X_uu', 'X_ul', 'X_su', 'X_sl']) groups, skipping...\n",
      "|-----? layer X_latent_time_velovi is not in any of the (['X_spliced', 'X_unspliced'], ['X_new', 'X_total'], ['X_uu', 'X_ul', 'X_su', 'X_sl']) groups, skipping...\n",
      "|-----? layer X_fit_t is not in any of the (['X_spliced', 'X_unspliced'], ['X_new', 'X_total'], ['X_uu', 'X_ul', 'X_su', 'X_sl']) groups, skipping...\n",
      "|-----? layer X_Mu is not in any of the (['X_spliced', 'X_unspliced'], ['X_new', 'X_total'], ['X_uu', 'X_ul', 'X_su', 'X_sl']) groups, skipping...\n",
      "|-----? layer X_Ms is not in any of the (['X_spliced', 'X_unspliced'], ['X_new', 'X_total'], ['X_uu', 'X_ul', 'X_su', 'X_sl']) groups, skipping...\n",
      "|-----? layer X_latent_time_velovi is not in any of the (['X_spliced', 'X_unspliced'], ['X_new', 'X_total'], ['X_uu', 'X_ul', 'X_su', 'X_sl']) groups, skipping...\n",
      "|-----? layer X_fit_t is not in any of the (['X_spliced', 'X_unspliced'], ['X_new', 'X_total'], ['X_uu', 'X_ul', 'X_su', 'X_sl']) groups, skipping...\n",
      "|-----? layer X_Mu is not in any of the (['X_spliced', 'X_unspliced'], ['X_new', 'X_total'], ['X_uu', 'X_ul', 'X_su', 'X_sl']) groups, skipping...\n",
      "|-----? layer X_Ms is not in any of the (['X_spliced', 'X_unspliced'], ['X_new', 'X_total'], ['X_uu', 'X_ul', 'X_su', 'X_sl']) groups, skipping...\n",
      "|-----? layer X_latent_time_velovi is not in any of the (['X_spliced', 'X_unspliced'], ['X_new', 'X_total'], ['X_uu', 'X_ul', 'X_su', 'X_sl']) groups, skipping...\n",
      "|-----? layer X_fit_t is not in any of the (['X_spliced', 'X_unspliced'], ['X_new', 'X_total'], ['X_uu', 'X_ul', 'X_su', 'X_sl']) groups, skipping...\n",
      "|-----? layer X_Mu is not in any of the (['X_spliced', 'X_unspliced'], ['X_new', 'X_total'], ['X_uu', 'X_ul', 'X_su', 'X_sl']) groups, skipping...\n",
      "|-----? layer X_Ms is not in any of the (['X_spliced', 'X_unspliced'], ['X_new', 'X_total'], ['X_uu', 'X_ul', 'X_su', 'X_sl']) groups, skipping...\n",
      "|-----> [moments calculation] completed [12.0614s]\n"
     ]
    },
    {
     "name": "stderr",
     "output_type": "stream",
     "text": [
      "estimating gamma: 100%|██████████| 988/988 [00:04<00:00, 228.75it/s]\n"
     ]
    },
    {
     "data": {
      "text/plain": [
       "AnnData object with n_obs × n_vars = 697 × 988\n",
       "    obs: 'initial_size_unspliced', 'initial_size_spliced', 'initial_size', 'n_counts', 'cell_type', 'stage', 'cell_type2', 'macrostates', 'cell_type_old', 'macrostates_fwd', 'term_states_fwd', 'term_states_fwd_probs', 'visits', 'nGenes', 'nCounts', 'pMito', 'pass_basic_filter', 'Size_Factor', 'initial_cell_size', 'spliced_Size_Factor', 'initial_spliced_cell_size', 'unspliced_Size_Factor', 'initial_unspliced_cell_size', 'Ms_Size_Factor', 'initial_Ms_cell_size', 'latent_time_velovi_Size_Factor', 'initial_latent_time_velovi_cell_size', 'fit_t_Size_Factor', 'initial_fit_t_cell_size', 'Mu_Size_Factor', 'initial_Mu_cell_size', 'velocity_Size_Factor', 'initial_velocity_cell_size', 'ntr'\n",
       "    var: 'Accession', 'Chromosome', 'End', 'Start', 'Strand', 'gene_count_corr', 'is_tf', 'TF', 'velocity_genes', 'fit_beta', 'fit_gamma', 'fit_scaling', 'nCells', 'nCounts', 'pass_basic_filter', 'frac', 'use_for_pca', 'ntr', 'beta', 'gamma', 'half_life', 'alpha_b', 'alpha_r2', 'gamma_b', 'gamma_r2', 'gamma_logLL', 'delta_b', 'delta_r2', 'bs', 'bf', 'uu0', 'ul0', 'su0', 'sl0', 'U0', 'S0', 'total0', 'use_for_dynamics'\n",
       "    uns: '_scvi_manager_uuid', '_scvi_uuid', 'coarse_fwd', 'eigendecomposition_fwd', 'macrostates_colors', 'macrostates_fwd_colors', 'neighbors', 'network', 'regulators', 'schur_matrix_fwd', 'skeleton', 'targets', 'pp', 'feature_selection', 'PCs', 'explained_variance_ratio_', 'pca_mean', 'dynamics'\n",
       "    obsm: 'X_pca', 'X_umap', 'macrostates_fwd_memberships', 'schur_vectors_fwd', 'term_states_fwd_memberships'\n",
       "    layers: 'Ms', 'Mu', 'ambiguous', 'fit_t', 'latent_time_velovi', 'matrix', 'spliced', 'unspliced', 'velocity', 'X_Ms', 'X_latent_time_velovi', 'X_fit_t', 'X_spliced', 'X_Mu', 'X_velocity', 'X_unspliced', 'M_u', 'M_uu', 'M_s', 'M_us', 'M_ss', 'velocity_S'\n",
       "    obsp: 'connectivities', 'distances', 'moments_con'"
      ]
     },
     "execution_count": 9,
     "metadata": {},
     "output_type": "execute_result"
    }
   ],
   "source": [
    "dyn.tl.dynamics(adata)"
   ]
  },
  {
   "cell_type": "code",
   "execution_count": 10,
   "id": "c6904813-45fc-4cbb-a8e1-229679a61d4a",
   "metadata": {
    "tags": []
   },
   "outputs": [
    {
     "name": "stdout",
     "output_type": "stream",
     "text": [
      "|-----> retrieve data for non-linear dimension reduction...\n",
      "|-----? adata already have basis umap. dimension reduction umap will be skipped! \n",
      "set enforce=True to re-performing dimension reduction.\n",
      "|-----> [UMAP] completed [0.0102s]\n"
     ]
    }
   ],
   "source": [
    "dyn.tl.reduceDimension(adata)"
   ]
  },
  {
   "cell_type": "code",
   "execution_count": 11,
   "id": "83c90191-3f67-4ef4-9308-5de4fa87dc9b",
   "metadata": {
    "tags": []
   },
   "outputs": [
    {
     "name": "stdout",
     "output_type": "stream",
     "text": [
      "|-----> [calculating transition matrix via pearson kernel with sqrt transform.] in progress: 100.0000%|-----> [calculating transition matrix via pearson kernel with sqrt transform.] completed [0.5041s]\n",
      "|-----> [projecting velocity vector to low dimensional embedding] in progress: 100.0000%|-----> [projecting velocity vector to low dimensional embedding] completed [0.1790s]\n"
     ]
    },
    {
     "data": {
      "text/plain": [
       "AnnData object with n_obs × n_vars = 697 × 988\n",
       "    obs: 'initial_size_unspliced', 'initial_size_spliced', 'initial_size', 'n_counts', 'cell_type', 'stage', 'cell_type2', 'macrostates', 'cell_type_old', 'macrostates_fwd', 'term_states_fwd', 'term_states_fwd_probs', 'visits', 'nGenes', 'nCounts', 'pMito', 'pass_basic_filter', 'Size_Factor', 'initial_cell_size', 'spliced_Size_Factor', 'initial_spliced_cell_size', 'unspliced_Size_Factor', 'initial_unspliced_cell_size', 'Ms_Size_Factor', 'initial_Ms_cell_size', 'latent_time_velovi_Size_Factor', 'initial_latent_time_velovi_cell_size', 'fit_t_Size_Factor', 'initial_fit_t_cell_size', 'Mu_Size_Factor', 'initial_Mu_cell_size', 'velocity_Size_Factor', 'initial_velocity_cell_size', 'ntr'\n",
       "    var: 'Accession', 'Chromosome', 'End', 'Start', 'Strand', 'gene_count_corr', 'is_tf', 'TF', 'velocity_genes', 'fit_beta', 'fit_gamma', 'fit_scaling', 'nCells', 'nCounts', 'pass_basic_filter', 'frac', 'use_for_pca', 'ntr', 'beta', 'gamma', 'half_life', 'alpha_b', 'alpha_r2', 'gamma_b', 'gamma_r2', 'gamma_logLL', 'delta_b', 'delta_r2', 'bs', 'bf', 'uu0', 'ul0', 'su0', 'sl0', 'U0', 'S0', 'total0', 'use_for_dynamics', 'use_for_transition'\n",
       "    uns: '_scvi_manager_uuid', '_scvi_uuid', 'coarse_fwd', 'eigendecomposition_fwd', 'macrostates_colors', 'macrostates_fwd_colors', 'neighbors', 'network', 'regulators', 'schur_matrix_fwd', 'skeleton', 'targets', 'pp', 'feature_selection', 'PCs', 'explained_variance_ratio_', 'pca_mean', 'dynamics', 'grid_velocity_pca'\n",
       "    obsm: 'X_pca', 'X_umap', 'macrostates_fwd_memberships', 'schur_vectors_fwd', 'term_states_fwd_memberships', 'velocity_pca'\n",
       "    layers: 'Ms', 'Mu', 'ambiguous', 'fit_t', 'latent_time_velovi', 'matrix', 'spliced', 'unspliced', 'velocity', 'X_Ms', 'X_latent_time_velovi', 'X_fit_t', 'X_spliced', 'X_Mu', 'X_velocity', 'X_unspliced', 'M_u', 'M_uu', 'M_s', 'M_us', 'M_ss', 'velocity_S'\n",
       "    obsp: 'connectivities', 'distances', 'moments_con', 'pearson_transition_matrix'"
      ]
     },
     "execution_count": 11,
     "metadata": {},
     "output_type": "execute_result"
    }
   ],
   "source": [
    "dyn.tl.cell_velocities(adata, basis=\"pca\")"
   ]
  },
  {
   "cell_type": "code",
   "execution_count": 12,
   "id": "198ae221-eeed-4e67-a9d9-b1370ee124e5",
   "metadata": {
    "tags": []
   },
   "outputs": [
    {
     "name": "stdout",
     "output_type": "stream",
     "text": [
      "|-----> VectorField reconstruction begins...\n",
      "|-----> Retrieve X and V based on basis: PCA. \n",
      "        Vector field will be learned in the PCA space.\n",
      "|-----> Learning vector field with method: sparsevfc.\n",
      "|-----> [SparseVFC] begins...\n",
      "|-----> Sampling control points based on data velocity magnitude...\n",
      "|-----> [SparseVFC] completed [0.4913s]\n",
      "|-----> [VectorField] completed [0.5661s]\n"
     ]
    }
   ],
   "source": [
    "dyn.vf.VectorField(adata, basis=\"pca\")"
   ]
  },
  {
   "cell_type": "code",
   "execution_count": 13,
   "id": "0f2309ea-3611-4b3d-9b03-2c7ce619a205",
   "metadata": {
    "tags": []
   },
   "outputs": [],
   "source": [
    "adata_perturb = adata.copy()"
   ]
  },
  {
   "cell_type": "markdown",
   "id": "de7a4dc5-8f1d-4f04-affe-2bd716d04683",
   "metadata": {},
   "source": [
    "## Perturbation prediction\n",
    "\n",
    "Function based perturbation"
   ]
  },
  {
   "cell_type": "code",
   "execution_count": 14,
   "id": "749f119b-a037-4542-b493-678039ac67b2",
   "metadata": {
    "tags": []
   },
   "outputs": [],
   "source": [
    "single_ko = set(single_ko).intersection(adata.var_names)\n",
    "single_ko = list(single_ko)"
   ]
  },
  {
   "cell_type": "code",
   "execution_count": 15,
   "id": "cf2e445f-dc94-472c-86c6-a95b55ffe006",
   "metadata": {},
   "outputs": [],
   "source": [
    "start_indices = np.where(adata.obs[\"cell_type\"].isin([\"NPB_nohox\"]))[0]"
   ]
  },
  {
   "cell_type": "code",
   "execution_count": 16,
   "id": "19d00d7c-23ae-4f22-beb6-839e6885d29a",
   "metadata": {
    "tags": []
   },
   "outputs": [],
   "source": [
    "cand_list = single_ko + multiple_ko"
   ]
  },
  {
   "cell_type": "code",
   "execution_count": 17,
   "id": "b00c3c03-dfc4-4667-b167-319dc7551c83",
   "metadata": {
    "tags": []
   },
   "outputs": [
    {
     "data": {
      "application/vnd.jupyter.widget-view+json": {
       "model_id": "3154a51752694f88865ab1015407f3b4",
       "version_major": 2,
       "version_minor": 0
      },
      "text/plain": [
       "  0%|          | 0/697 [00:00<?, ?cell/s]"
      ]
     },
     "metadata": {},
     "output_type": "display_data"
    },
    {
     "data": {
      "application/vnd.jupyter.widget-view+json": {
       "model_id": "fadb3fcccfc84b8a827e045043f3a231",
       "version_major": 2,
       "version_minor": 0
      },
      "text/plain": [
       "  0%|          | 0/697 [00:00<?, ?cell/s]"
      ]
     },
     "metadata": {},
     "output_type": "display_data"
    },
    {
     "name": "stdout",
     "output_type": "stream",
     "text": [
      "|-----> In silico knockout ['elk3']\n",
      "|-----> Project the high dimensional vector field after KO to umap.\n",
      "|-----> [calculating transition matrix via pearson kernel with sqrt transform.] in progress: 100.0000%|-----> [calculating transition matrix via pearson kernel with sqrt transform.] completed [0.1830s]\n",
      "|-----> [projecting velocity vector to low dimensional embedding] in progress: 100.0000%|-----> [projecting velocity vector to low dimensional embedding] completed [0.1614s]\n"
     ]
    },
    {
     "data": {
      "application/vnd.jupyter.widget-view+json": {
       "model_id": "d1d10125b0f64c5c97d01e8b3539e08d",
       "version_major": 2,
       "version_minor": 0
      },
      "text/plain": [
       "  0%|          | 0/697 [00:00<?, ?cell/s]"
      ]
     },
     "metadata": {},
     "output_type": "display_data"
    },
    {
     "data": {
      "application/vnd.jupyter.widget-view+json": {
       "model_id": "a0af53c1c04049b1a06533c36ffe74eb",
       "version_major": 2,
       "version_minor": 0
      },
      "text/plain": [
       "  0%|          | 0/697 [00:00<?, ?cell/s]"
      ]
     },
     "metadata": {},
     "output_type": "display_data"
    },
    {
     "data": {
      "application/vnd.jupyter.widget-view+json": {
       "model_id": "3f8b41ed495741abac47a77b4f1377ee",
       "version_major": 2,
       "version_minor": 0
      },
      "text/plain": [
       "  0%|          | 0/697 [00:00<?, ?cell/s]"
      ]
     },
     "metadata": {},
     "output_type": "display_data"
    },
    {
     "data": {
      "application/vnd.jupyter.widget-view+json": {
       "model_id": "d1de64b363184db3a14350b99229d35e",
       "version_major": 2,
       "version_minor": 0
      },
      "text/plain": [
       "  0%|          | 0/697 [00:00<?, ?cell/s]"
      ]
     },
     "metadata": {},
     "output_type": "display_data"
    },
    {
     "name": "stdout",
     "output_type": "stream",
     "text": [
      "|-----> In silico knockout ['fli1a']\n",
      "|-----> Project the high dimensional vector field after KO to umap.\n",
      "|-----> [calculating transition matrix via pearson kernel with sqrt transform.] in progress: 100.0000%|-----> [calculating transition matrix via pearson kernel with sqrt transform.] completed [0.1929s]\n",
      "|-----> [projecting velocity vector to low dimensional embedding] in progress: 100.0000%|-----> [projecting velocity vector to low dimensional embedding] completed [0.1777s]\n"
     ]
    },
    {
     "data": {
      "application/vnd.jupyter.widget-view+json": {
       "model_id": "f7a14200576b4278a92707aca257da4f",
       "version_major": 2,
       "version_minor": 0
      },
      "text/plain": [
       "  0%|          | 0/697 [00:00<?, ?cell/s]"
      ]
     },
     "metadata": {},
     "output_type": "display_data"
    },
    {
     "data": {
      "application/vnd.jupyter.widget-view+json": {
       "model_id": "a11d814e8be04fe0a0d4175e4985cd1f",
       "version_major": 2,
       "version_minor": 0
      },
      "text/plain": [
       "  0%|          | 0/697 [00:00<?, ?cell/s]"
      ]
     },
     "metadata": {},
     "output_type": "display_data"
    },
    {
     "data": {
      "application/vnd.jupyter.widget-view+json": {
       "model_id": "6697637147fc473c902f652d6ef95b20",
       "version_major": 2,
       "version_minor": 0
      },
      "text/plain": [
       "  0%|          | 0/697 [00:00<?, ?cell/s]"
      ]
     },
     "metadata": {},
     "output_type": "display_data"
    },
    {
     "data": {
      "application/vnd.jupyter.widget-view+json": {
       "model_id": "8e0fc29105ad47aeb8b901434e0809c5",
       "version_major": 2,
       "version_minor": 0
      },
      "text/plain": [
       "  0%|          | 0/697 [00:00<?, ?cell/s]"
      ]
     },
     "metadata": {},
     "output_type": "display_data"
    },
    {
     "name": "stdout",
     "output_type": "stream",
     "text": [
      "|-----> In silico knockout ['mitfa']\n",
      "|-----> Project the high dimensional vector field after KO to umap.\n",
      "|-----> [calculating transition matrix via pearson kernel with sqrt transform.] in progress: 100.0000%|-----> [calculating transition matrix via pearson kernel with sqrt transform.] completed [0.1754s]\n",
      "|-----> [projecting velocity vector to low dimensional embedding] in progress: 100.0000%|-----> [projecting velocity vector to low dimensional embedding] completed [0.1566s]\n"
     ]
    },
    {
     "data": {
      "application/vnd.jupyter.widget-view+json": {
       "model_id": "ca9a1178997d4421be401b883a6f711d",
       "version_major": 2,
       "version_minor": 0
      },
      "text/plain": [
       "  0%|          | 0/697 [00:00<?, ?cell/s]"
      ]
     },
     "metadata": {},
     "output_type": "display_data"
    },
    {
     "data": {
      "application/vnd.jupyter.widget-view+json": {
       "model_id": "41ff9d21a5cb4e90bdc10d7002ea53bd",
       "version_major": 2,
       "version_minor": 0
      },
      "text/plain": [
       "  0%|          | 0/697 [00:00<?, ?cell/s]"
      ]
     },
     "metadata": {},
     "output_type": "display_data"
    },
    {
     "data": {
      "application/vnd.jupyter.widget-view+json": {
       "model_id": "3fa74464d6f242c5af11f54c394d5612",
       "version_major": 2,
       "version_minor": 0
      },
      "text/plain": [
       "  0%|          | 0/697 [00:00<?, ?cell/s]"
      ]
     },
     "metadata": {},
     "output_type": "display_data"
    },
    {
     "data": {
      "application/vnd.jupyter.widget-view+json": {
       "model_id": "11fe924377eb4ffabf3742127114c225",
       "version_major": 2,
       "version_minor": 0
      },
      "text/plain": [
       "  0%|          | 0/697 [00:00<?, ?cell/s]"
      ]
     },
     "metadata": {},
     "output_type": "display_data"
    },
    {
     "name": "stdout",
     "output_type": "stream",
     "text": [
      "|-----> In silico knockout ['tfec']\n",
      "|-----> Project the high dimensional vector field after KO to umap.\n",
      "|-----> [calculating transition matrix via pearson kernel with sqrt transform.] in progress: 100.0000%|-----> [calculating transition matrix via pearson kernel with sqrt transform.] completed [0.1990s]\n",
      "|-----> [projecting velocity vector to low dimensional embedding] in progress: 100.0000%|-----> [projecting velocity vector to low dimensional embedding] completed [0.1816s]\n"
     ]
    },
    {
     "data": {
      "application/vnd.jupyter.widget-view+json": {
       "model_id": "707bfc7b016d4da49b84b0704607a3f9",
       "version_major": 2,
       "version_minor": 0
      },
      "text/plain": [
       "  0%|          | 0/697 [00:00<?, ?cell/s]"
      ]
     },
     "metadata": {},
     "output_type": "display_data"
    },
    {
     "data": {
      "application/vnd.jupyter.widget-view+json": {
       "model_id": "38ed333f0e264d3c85067680bab16c1c",
       "version_major": 2,
       "version_minor": 0
      },
      "text/plain": [
       "  0%|          | 0/697 [00:00<?, ?cell/s]"
      ]
     },
     "metadata": {},
     "output_type": "display_data"
    },
    {
     "data": {
      "application/vnd.jupyter.widget-view+json": {
       "model_id": "0b54eed366744f10a025219c3a326f5d",
       "version_major": 2,
       "version_minor": 0
      },
      "text/plain": [
       "  0%|          | 0/697 [00:00<?, ?cell/s]"
      ]
     },
     "metadata": {},
     "output_type": "display_data"
    },
    {
     "data": {
      "application/vnd.jupyter.widget-view+json": {
       "model_id": "c14da8e5945148c6a8cd9d8d74219302",
       "version_major": 2,
       "version_minor": 0
      },
      "text/plain": [
       "  0%|          | 0/697 [00:00<?, ?cell/s]"
      ]
     },
     "metadata": {},
     "output_type": "display_data"
    },
    {
     "name": "stdout",
     "output_type": "stream",
     "text": [
      "|-----> In silico knockout ['elf1']\n",
      "|-----> Project the high dimensional vector field after KO to umap.\n",
      "|-----> [calculating transition matrix via pearson kernel with sqrt transform.] in progress: 100.0000%|-----> [calculating transition matrix via pearson kernel with sqrt transform.] completed [0.1930s]\n",
      "|-----> [projecting velocity vector to low dimensional embedding] in progress: 100.0000%|-----> [projecting velocity vector to low dimensional embedding] completed [0.1771s]\n"
     ]
    },
    {
     "data": {
      "application/vnd.jupyter.widget-view+json": {
       "model_id": "68956222569d434d8488b8fc38eb50ab",
       "version_major": 2,
       "version_minor": 0
      },
      "text/plain": [
       "  0%|          | 0/697 [00:00<?, ?cell/s]"
      ]
     },
     "metadata": {},
     "output_type": "display_data"
    },
    {
     "data": {
      "application/vnd.jupyter.widget-view+json": {
       "model_id": "c0048b54b7c8421390154969b9931ab5",
       "version_major": 2,
       "version_minor": 0
      },
      "text/plain": [
       "  0%|          | 0/697 [00:00<?, ?cell/s]"
      ]
     },
     "metadata": {},
     "output_type": "display_data"
    },
    {
     "data": {
      "application/vnd.jupyter.widget-view+json": {
       "model_id": "ba559220e0a14ec1876f6301442340bf",
       "version_major": 2,
       "version_minor": 0
      },
      "text/plain": [
       "  0%|          | 0/697 [00:00<?, ?cell/s]"
      ]
     },
     "metadata": {},
     "output_type": "display_data"
    },
    {
     "data": {
      "application/vnd.jupyter.widget-view+json": {
       "model_id": "855c9d588cbe40f491fa1bcbe933996e",
       "version_major": 2,
       "version_minor": 0
      },
      "text/plain": [
       "  0%|          | 0/697 [00:00<?, ?cell/s]"
      ]
     },
     "metadata": {},
     "output_type": "display_data"
    },
    {
     "name": "stdout",
     "output_type": "stream",
     "text": [
      "|-----> In silico knockout ['ebf3a']\n",
      "|-----> Project the high dimensional vector field after KO to umap.\n",
      "|-----> [calculating transition matrix via pearson kernel with sqrt transform.] in progress: 100.0000%|-----> [calculating transition matrix via pearson kernel with sqrt transform.] completed [0.2008s]\n",
      "|-----> [projecting velocity vector to low dimensional embedding] in progress: 100.0000%|-----> [projecting velocity vector to low dimensional embedding] completed [0.1818s]\n"
     ]
    },
    {
     "data": {
      "application/vnd.jupyter.widget-view+json": {
       "model_id": "e6d90d5133fc4a5b998230e14193db2b",
       "version_major": 2,
       "version_minor": 0
      },
      "text/plain": [
       "  0%|          | 0/697 [00:00<?, ?cell/s]"
      ]
     },
     "metadata": {},
     "output_type": "display_data"
    },
    {
     "data": {
      "application/vnd.jupyter.widget-view+json": {
       "model_id": "0b719c2b4e0f4d4ab4309f6e18def395",
       "version_major": 2,
       "version_minor": 0
      },
      "text/plain": [
       "  0%|          | 0/697 [00:00<?, ?cell/s]"
      ]
     },
     "metadata": {},
     "output_type": "display_data"
    },
    {
     "data": {
      "application/vnd.jupyter.widget-view+json": {
       "model_id": "bb2296bea1904427b3cff176acc0454a",
       "version_major": 2,
       "version_minor": 0
      },
      "text/plain": [
       "  0%|          | 0/697 [00:00<?, ?cell/s]"
      ]
     },
     "metadata": {},
     "output_type": "display_data"
    },
    {
     "data": {
      "application/vnd.jupyter.widget-view+json": {
       "model_id": "a4fbe8d0b08d4124860ac65f23313627",
       "version_major": 2,
       "version_minor": 0
      },
      "text/plain": [
       "  0%|          | 0/697 [00:00<?, ?cell/s]"
      ]
     },
     "metadata": {},
     "output_type": "display_data"
    },
    {
     "name": "stdout",
     "output_type": "stream",
     "text": [
      "|-----> In silico knockout ['rarga']\n",
      "|-----> Project the high dimensional vector field after KO to umap.\n",
      "|-----> [calculating transition matrix via pearson kernel with sqrt transform.] in progress: 100.0000%|-----> [calculating transition matrix via pearson kernel with sqrt transform.] completed [0.2157s]\n",
      "|-----> [projecting velocity vector to low dimensional embedding] in progress: 100.0000%|-----> [projecting velocity vector to low dimensional embedding] completed [0.1597s]\n"
     ]
    },
    {
     "data": {
      "application/vnd.jupyter.widget-view+json": {
       "model_id": "98d5a5c5676e464ca7b4ad0ff1da3098",
       "version_major": 2,
       "version_minor": 0
      },
      "text/plain": [
       "  0%|          | 0/697 [00:00<?, ?cell/s]"
      ]
     },
     "metadata": {},
     "output_type": "display_data"
    },
    {
     "data": {
      "application/vnd.jupyter.widget-view+json": {
       "model_id": "f129837be0e542dc9856b19ee9049cb9",
       "version_major": 2,
       "version_minor": 0
      },
      "text/plain": [
       "  0%|          | 0/697 [00:00<?, ?cell/s]"
      ]
     },
     "metadata": {},
     "output_type": "display_data"
    },
    {
     "data": {
      "application/vnd.jupyter.widget-view+json": {
       "model_id": "e7b68185454248ac936267593a2387a2",
       "version_major": 2,
       "version_minor": 0
      },
      "text/plain": [
       "  0%|          | 0/697 [00:00<?, ?cell/s]"
      ]
     },
     "metadata": {},
     "output_type": "display_data"
    },
    {
     "data": {
      "application/vnd.jupyter.widget-view+json": {
       "model_id": "b20e6bef2d124820b1b6c2312b1ee2c9",
       "version_major": 2,
       "version_minor": 0
      },
      "text/plain": [
       "  0%|          | 0/697 [00:00<?, ?cell/s]"
      ]
     },
     "metadata": {},
     "output_type": "display_data"
    },
    {
     "name": "stdout",
     "output_type": "stream",
     "text": [
      "|-----> In silico knockout ['rxraa']\n",
      "|-----> Project the high dimensional vector field after KO to umap.\n",
      "|-----> [calculating transition matrix via pearson kernel with sqrt transform.] in progress: 100.0000%|-----> [calculating transition matrix via pearson kernel with sqrt transform.] completed [0.1826s]\n",
      "|-----> [projecting velocity vector to low dimensional embedding] in progress: 100.0000%|-----> [projecting velocity vector to low dimensional embedding] completed [0.1610s]\n"
     ]
    },
    {
     "data": {
      "application/vnd.jupyter.widget-view+json": {
       "model_id": "126d77d5c18c40b994f531172e17a7f2",
       "version_major": 2,
       "version_minor": 0
      },
      "text/plain": [
       "  0%|          | 0/697 [00:00<?, ?cell/s]"
      ]
     },
     "metadata": {},
     "output_type": "display_data"
    },
    {
     "data": {
      "application/vnd.jupyter.widget-view+json": {
       "model_id": "6b27196118664746b015322d9f2c8d12",
       "version_major": 2,
       "version_minor": 0
      },
      "text/plain": [
       "  0%|          | 0/697 [00:00<?, ?cell/s]"
      ]
     },
     "metadata": {},
     "output_type": "display_data"
    },
    {
     "data": {
      "application/vnd.jupyter.widget-view+json": {
       "model_id": "e17835f543e546948177bb3635409bc0",
       "version_major": 2,
       "version_minor": 0
      },
      "text/plain": [
       "  0%|          | 0/697 [00:00<?, ?cell/s]"
      ]
     },
     "metadata": {},
     "output_type": "display_data"
    },
    {
     "data": {
      "application/vnd.jupyter.widget-view+json": {
       "model_id": "0f80fe59235e483a8eb0d9094cb7f94c",
       "version_major": 2,
       "version_minor": 0
      },
      "text/plain": [
       "  0%|          | 0/697 [00:00<?, ?cell/s]"
      ]
     },
     "metadata": {},
     "output_type": "display_data"
    },
    {
     "name": "stdout",
     "output_type": "stream",
     "text": [
      "|-----> In silico knockout ['nr2f5']\n",
      "|-----> Project the high dimensional vector field after KO to umap.\n",
      "|-----> [calculating transition matrix via pearson kernel with sqrt transform.] in progress: 100.0000%|-----> [calculating transition matrix via pearson kernel with sqrt transform.] completed [0.1766s]\n",
      "|-----> [projecting velocity vector to low dimensional embedding] in progress: 100.0000%|-----> [projecting velocity vector to low dimensional embedding] completed [0.1600s]\n"
     ]
    },
    {
     "data": {
      "application/vnd.jupyter.widget-view+json": {
       "model_id": "1f39af46635c433194f84637a44216db",
       "version_major": 2,
       "version_minor": 0
      },
      "text/plain": [
       "  0%|          | 0/697 [00:00<?, ?cell/s]"
      ]
     },
     "metadata": {},
     "output_type": "display_data"
    },
    {
     "data": {
      "application/vnd.jupyter.widget-view+json": {
       "model_id": "fd6c1880585b4f198d75cc021058a08e",
       "version_major": 2,
       "version_minor": 0
      },
      "text/plain": [
       "  0%|          | 0/697 [00:00<?, ?cell/s]"
      ]
     },
     "metadata": {},
     "output_type": "display_data"
    },
    {
     "data": {
      "application/vnd.jupyter.widget-view+json": {
       "model_id": "92d2185a33e64bbbae059944f14cdd37",
       "version_major": 2,
       "version_minor": 0
      },
      "text/plain": [
       "  0%|          | 0/697 [00:00<?, ?cell/s]"
      ]
     },
     "metadata": {},
     "output_type": "display_data"
    },
    {
     "data": {
      "application/vnd.jupyter.widget-view+json": {
       "model_id": "73b5756a05724d31b7476c1d6a158011",
       "version_major": 2,
       "version_minor": 0
      },
      "text/plain": [
       "  0%|          | 0/697 [00:00<?, ?cell/s]"
      ]
     },
     "metadata": {},
     "output_type": "display_data"
    },
    {
     "name": "stdout",
     "output_type": "stream",
     "text": [
      "|-----> In silico knockout ['nr2f2']\n",
      "|-----> Project the high dimensional vector field after KO to umap.\n",
      "|-----> [calculating transition matrix via pearson kernel with sqrt transform.] in progress: 100.0000%|-----> [calculating transition matrix via pearson kernel with sqrt transform.] completed [0.1904s]\n",
      "|-----> [projecting velocity vector to low dimensional embedding] in progress: 100.0000%|-----> [projecting velocity vector to low dimensional embedding] completed [0.1636s]\n"
     ]
    },
    {
     "data": {
      "application/vnd.jupyter.widget-view+json": {
       "model_id": "e35808f956fc42d28ac2b51e1a4398b0",
       "version_major": 2,
       "version_minor": 0
      },
      "text/plain": [
       "  0%|          | 0/697 [00:00<?, ?cell/s]"
      ]
     },
     "metadata": {},
     "output_type": "display_data"
    },
    {
     "data": {
      "application/vnd.jupyter.widget-view+json": {
       "model_id": "71b8ff0d9f484b48a9e5861e9b132cde",
       "version_major": 2,
       "version_minor": 0
      },
      "text/plain": [
       "  0%|          | 0/697 [00:00<?, ?cell/s]"
      ]
     },
     "metadata": {},
     "output_type": "display_data"
    },
    {
     "data": {
      "application/vnd.jupyter.widget-view+json": {
       "model_id": "964b82dc67ed4721bbcf6772990784c5",
       "version_major": 2,
       "version_minor": 0
      },
      "text/plain": [
       "  0%|          | 0/697 [00:00<?, ?cell/s]"
      ]
     },
     "metadata": {},
     "output_type": "display_data"
    },
    {
     "data": {
      "application/vnd.jupyter.widget-view+json": {
       "model_id": "45e5ee4c319a4649802f5ee6b9a4829e",
       "version_major": 2,
       "version_minor": 0
      },
      "text/plain": [
       "  0%|          | 0/697 [00:00<?, ?cell/s]"
      ]
     },
     "metadata": {},
     "output_type": "display_data"
    },
    {
     "name": "stdout",
     "output_type": "stream",
     "text": [
      "|-----> In silico knockout ['ets1']\n",
      "|-----> Project the high dimensional vector field after KO to umap.\n",
      "|-----> [calculating transition matrix via pearson kernel with sqrt transform.] in progress: 100.0000%|-----> [calculating transition matrix via pearson kernel with sqrt transform.] completed [0.1896s]\n",
      "|-----> [projecting velocity vector to low dimensional embedding] in progress: 100.0000%|-----> [projecting velocity vector to low dimensional embedding] completed [0.1666s]\n"
     ]
    },
    {
     "data": {
      "application/vnd.jupyter.widget-view+json": {
       "model_id": "3e8ef3cc140a449e9753c772b2916c44",
       "version_major": 2,
       "version_minor": 0
      },
      "text/plain": [
       "  0%|          | 0/697 [00:00<?, ?cell/s]"
      ]
     },
     "metadata": {},
     "output_type": "display_data"
    },
    {
     "data": {
      "application/vnd.jupyter.widget-view+json": {
       "model_id": "b5bf594a93c94fd08f59458a8c0ac55b",
       "version_major": 2,
       "version_minor": 0
      },
      "text/plain": [
       "  0%|          | 0/697 [00:00<?, ?cell/s]"
      ]
     },
     "metadata": {},
     "output_type": "display_data"
    },
    {
     "data": {
      "application/vnd.jupyter.widget-view+json": {
       "model_id": "a718a909966b4c17952a0fdca473a063",
       "version_major": 2,
       "version_minor": 0
      },
      "text/plain": [
       "  0%|          | 0/697 [00:00<?, ?cell/s]"
      ]
     },
     "metadata": {},
     "output_type": "display_data"
    },
    {
     "data": {
      "application/vnd.jupyter.widget-view+json": {
       "model_id": "a16312fcaa9b48fabe24677a8afa7f55",
       "version_major": 2,
       "version_minor": 0
      },
      "text/plain": [
       "  0%|          | 0/697 [00:00<?, ?cell/s]"
      ]
     },
     "metadata": {},
     "output_type": "display_data"
    },
    {
     "name": "stdout",
     "output_type": "stream",
     "text": [
      "|-----> In silico knockout ['fli1a', 'elk3']\n",
      "|-----> Project the high dimensional vector field after KO to umap.\n",
      "|-----> [calculating transition matrix via pearson kernel with sqrt transform.] in progress: 100.0000%|-----> [calculating transition matrix via pearson kernel with sqrt transform.] completed [0.1789s]\n",
      "|-----> [projecting velocity vector to low dimensional embedding] in progress: 100.0000%|-----> [projecting velocity vector to low dimensional embedding] completed [0.1572s]\n"
     ]
    },
    {
     "data": {
      "application/vnd.jupyter.widget-view+json": {
       "model_id": "8eb2405a90f04d3983113e6aacbb8155",
       "version_major": 2,
       "version_minor": 0
      },
      "text/plain": [
       "  0%|          | 0/697 [00:00<?, ?cell/s]"
      ]
     },
     "metadata": {},
     "output_type": "display_data"
    },
    {
     "data": {
      "application/vnd.jupyter.widget-view+json": {
       "model_id": "1c7264c9308446b1acbf268abf443c25",
       "version_major": 2,
       "version_minor": 0
      },
      "text/plain": [
       "  0%|          | 0/697 [00:00<?, ?cell/s]"
      ]
     },
     "metadata": {},
     "output_type": "display_data"
    },
    {
     "data": {
      "application/vnd.jupyter.widget-view+json": {
       "model_id": "14b11eae3d9645a19af587cbd47b9202",
       "version_major": 2,
       "version_minor": 0
      },
      "text/plain": [
       "  0%|          | 0/697 [00:00<?, ?cell/s]"
      ]
     },
     "metadata": {},
     "output_type": "display_data"
    },
    {
     "data": {
      "application/vnd.jupyter.widget-view+json": {
       "model_id": "de7b23492c8a450fb191603f62923073",
       "version_major": 2,
       "version_minor": 0
      },
      "text/plain": [
       "  0%|          | 0/697 [00:00<?, ?cell/s]"
      ]
     },
     "metadata": {},
     "output_type": "display_data"
    },
    {
     "name": "stdout",
     "output_type": "stream",
     "text": [
      "|-----> In silico knockout ['tfec', 'mitfa', 'bhlhe40']\n",
      "|-----> Project the high dimensional vector field after KO to umap.\n",
      "|-----> [calculating transition matrix via pearson kernel with sqrt transform.] in progress: 100.0000%|-----> [calculating transition matrix via pearson kernel with sqrt transform.] completed [0.2098s]\n",
      "|-----> [projecting velocity vector to low dimensional embedding] in progress: 100.0000%|-----> [projecting velocity vector to low dimensional embedding] completed [0.1844s]\n"
     ]
    },
    {
     "data": {
      "application/vnd.jupyter.widget-view+json": {
       "model_id": "9f3c1ca1a8ff4722be88e2e84e8d7d44",
       "version_major": 2,
       "version_minor": 0
      },
      "text/plain": [
       "  0%|          | 0/697 [00:00<?, ?cell/s]"
      ]
     },
     "metadata": {},
     "output_type": "display_data"
    },
    {
     "data": {
      "application/vnd.jupyter.widget-view+json": {
       "model_id": "218723db53634dff8ac5fdb8c076f8e9",
       "version_major": 2,
       "version_minor": 0
      },
      "text/plain": [
       "  0%|          | 0/697 [00:00<?, ?cell/s]"
      ]
     },
     "metadata": {},
     "output_type": "display_data"
    },
    {
     "data": {
      "application/vnd.jupyter.widget-view+json": {
       "model_id": "1a3ae1a0857d41b5853b395c2c3cff81",
       "version_major": 2,
       "version_minor": 0
      },
      "text/plain": [
       "  0%|          | 0/697 [00:00<?, ?cell/s]"
      ]
     },
     "metadata": {},
     "output_type": "display_data"
    },
    {
     "data": {
      "application/vnd.jupyter.widget-view+json": {
       "model_id": "ec67ee8d34cc4183a6f067e0770cc258",
       "version_major": 2,
       "version_minor": 0
      },
      "text/plain": [
       "  0%|          | 0/697 [00:00<?, ?cell/s]"
      ]
     },
     "metadata": {},
     "output_type": "display_data"
    },
    {
     "name": "stdout",
     "output_type": "stream",
     "text": [
      "|-----> In silico knockout ['mitfa', 'tfec']\n",
      "|-----> Project the high dimensional vector field after KO to umap.\n",
      "|-----> [calculating transition matrix via pearson kernel with sqrt transform.] in progress: 100.0000%|-----> [calculating transition matrix via pearson kernel with sqrt transform.] completed [0.1818s]\n",
      "|-----> [projecting velocity vector to low dimensional embedding] in progress: 100.0000%|-----> [projecting velocity vector to low dimensional embedding] completed [0.1600s]\n"
     ]
    },
    {
     "data": {
      "application/vnd.jupyter.widget-view+json": {
       "model_id": "8acc9468482f4657b55a46bd3d239f56",
       "version_major": 2,
       "version_minor": 0
      },
      "text/plain": [
       "  0%|          | 0/697 [00:00<?, ?cell/s]"
      ]
     },
     "metadata": {},
     "output_type": "display_data"
    },
    {
     "data": {
      "application/vnd.jupyter.widget-view+json": {
       "model_id": "1f842483ad594f3583ebee811c274cea",
       "version_major": 2,
       "version_minor": 0
      },
      "text/plain": [
       "  0%|          | 0/697 [00:00<?, ?cell/s]"
      ]
     },
     "metadata": {},
     "output_type": "display_data"
    },
    {
     "data": {
      "application/vnd.jupyter.widget-view+json": {
       "model_id": "cef891a3e66c4c22a6e9c435e64e7350",
       "version_major": 2,
       "version_minor": 0
      },
      "text/plain": [
       "  0%|          | 0/697 [00:00<?, ?cell/s]"
      ]
     },
     "metadata": {},
     "output_type": "display_data"
    },
    {
     "data": {
      "application/vnd.jupyter.widget-view+json": {
       "model_id": "e669c5f6aed048809772db41e17492bd",
       "version_major": 2,
       "version_minor": 0
      },
      "text/plain": [
       "  0%|          | 0/697 [00:00<?, ?cell/s]"
      ]
     },
     "metadata": {},
     "output_type": "display_data"
    },
    {
     "name": "stdout",
     "output_type": "stream",
     "text": [
      "|-----> In silico knockout ['mitfa', 'tfec', 'tfeb']\n",
      "|-----> Project the high dimensional vector field after KO to umap.\n",
      "|-----> [calculating transition matrix via pearson kernel with sqrt transform.] in progress: 100.0000%|-----> [calculating transition matrix via pearson kernel with sqrt transform.] completed [0.1791s]\n",
      "|-----> [projecting velocity vector to low dimensional embedding] in progress: 100.0000%|-----> [projecting velocity vector to low dimensional embedding] completed [0.1591s]\n"
     ]
    },
    {
     "data": {
      "application/vnd.jupyter.widget-view+json": {
       "model_id": "bf5ceeeeee754ec0a4415cfcdf43429b",
       "version_major": 2,
       "version_minor": 0
      },
      "text/plain": [
       "  0%|          | 0/697 [00:00<?, ?cell/s]"
      ]
     },
     "metadata": {},
     "output_type": "display_data"
    },
    {
     "data": {
      "application/vnd.jupyter.widget-view+json": {
       "model_id": "2a99c1f39e014726a486b1c285fdce61",
       "version_major": 2,
       "version_minor": 0
      },
      "text/plain": [
       "  0%|          | 0/697 [00:00<?, ?cell/s]"
      ]
     },
     "metadata": {},
     "output_type": "display_data"
    }
   ],
   "source": [
    "dl_score_all = []\n",
    "dl_sig_all = []\n",
    "for TF in cand_list:\n",
    "    TF_list = split_elements([TF])[0]\n",
    "    dl_score, dl_sig, _, _ = density_likelihood_dyn(\n",
    "        adata, TF_list, start_indices, TERMINAL_STATES_KO, n_simulations=1000\n",
    "    )\n",
    "    dl_score_all.append(dl_score)\n",
    "    dl_sig_all.append(dl_sig)"
   ]
  },
  {
   "cell_type": "code",
   "execution_count": 18,
   "id": "b96a5b89-88a7-402d-ba79-1be03890b6d3",
   "metadata": {
    "tags": []
   },
   "outputs": [],
   "source": [
    "pred_m_single = pd.DataFrame(\n",
    "    np.array(dl_score_all[: len(single_ko)]), index=cand_list[: len(single_ko)], columns=TERMINAL_STATES_KO\n",
    ")\n",
    "pred_m_multiple = pd.DataFrame(\n",
    "    np.array(dl_score_all[len(single_ko) :]), index=cand_list[len(single_ko) :], columns=TERMINAL_STATES_KO\n",
    ")"
   ]
  },
  {
   "cell_type": "code",
   "execution_count": 19,
   "id": "3cb1a53b-0817-4f5b-b515-fac79ceb0c71",
   "metadata": {
    "tags": []
   },
   "outputs": [],
   "source": [
    "pval_m_single = pd.DataFrame(\n",
    "    np.array(dl_sig_all[: len(single_ko)]), index=cand_list[: len(single_ko)], columns=TERMINAL_STATES_KO\n",
    ")\n",
    "pval_m_multiple = pd.DataFrame(\n",
    "    np.array(dl_sig_all[len(single_ko) :]), index=cand_list[len(single_ko) :], columns=TERMINAL_STATES_KO\n",
    ")"
   ]
  },
  {
   "cell_type": "code",
   "execution_count": 20,
   "id": "785cb537-2ae9-449c-8140-8e7004a7c029",
   "metadata": {
    "tags": []
   },
   "outputs": [],
   "source": [
    "## Perform KO single screening using function based perturbation\n",
    "coef_KO = delta_to_probability(pred_m_single, k=0.005)\n",
    "\n",
    "## Perform KO multiple screening using function based perturbation\n",
    "coef_KO_multiple = delta_to_probability(pred_m_multiple, k=0.005)"
   ]
  },
  {
   "cell_type": "code",
   "execution_count": 21,
   "id": "c5d0d011-a852-404d-8aad-2448dd011f2d",
   "metadata": {
    "tags": []
   },
   "outputs": [],
   "source": [
    "coef_KO = coef_KO.loc[single_ko, TERMINAL_STATES_KO]\n",
    "coef_KO_multiple = coef_KO_multiple.loc[multiple_ko, TERMINAL_STATES_KO]\n",
    "\n",
    "pval_KO = pval_m_single.loc[single_ko, TERMINAL_STATES_KO]\n",
    "pval_KO_multiple = pval_m_multiple.loc[multiple_ko, TERMINAL_STATES_KO]"
   ]
  },
  {
   "cell_type": "markdown",
   "id": "a345393b-daf4-456c-bc8f-c3e6057153d7",
   "metadata": {},
   "source": [
    "## Gene expression perturbation"
   ]
  },
  {
   "cell_type": "code",
   "execution_count": 22,
   "id": "681d68cf-e9ac-4618-9064-eb12c7747d5a",
   "metadata": {
    "tags": []
   },
   "outputs": [
    {
     "name": "stdout",
     "output_type": "stream",
     "text": [
      "|-----> In silico perturbation of single-cells and prediction of cell fate after perturbation...\n",
      "|-----> Retrive X_pca, PCs, pca_mean...\n",
      "|-----> Calculate perturbation effect matrix via \\delta Y = J \\dot \\delta X....\n"
     ]
    },
    {
     "name": "stderr",
     "output_type": "stream",
     "text": [
      "calculating Jacobian for each cell: 100%|██████████| 697/697 [00:00<00:00, 223828.95it/s]"
     ]
    },
    {
     "name": "stdout",
     "output_type": "stream",
     "text": [
      "|-----> project the pca perturbation vector to low dimensional space....\n"
     ]
    },
    {
     "name": "stderr",
     "output_type": "stream",
     "text": [
      "\n"
     ]
    },
    {
     "name": "stdout",
     "output_type": "stream",
     "text": [
      "|-----> [projecting velocity vector to low dimensional embedding] in progress: 100.0000%|-----> [projecting velocity vector to low dimensional embedding] completed [0.1890s]\n",
      "|-----> you can use dyn.pl.streamline_plot(adata, basis='pca_perturbation') to visualize the perturbation vector\n",
      "Done elk3\n",
      "|-----> In silico perturbation of single-cells and prediction of cell fate after perturbation...\n",
      "|-----> Retrive X_pca, PCs, pca_mean...\n",
      "|-----> Calculate perturbation effect matrix via \\delta Y = J \\dot \\delta X....\n",
      "|-----> project the pca perturbation vector to low dimensional space....\n",
      "|-----> [projecting velocity vector to low dimensional embedding] in progress: 100.0000%|-----> [projecting velocity vector to low dimensional embedding] completed [0.1608s]\n",
      "|-----> you can use dyn.pl.streamline_plot(adata, basis='pca_perturbation') to visualize the perturbation vector\n",
      "Done fli1a\n",
      "|-----> In silico perturbation of single-cells and prediction of cell fate after perturbation...\n",
      "|-----> Retrive X_pca, PCs, pca_mean...\n",
      "|-----> Calculate perturbation effect matrix via \\delta Y = J \\dot \\delta X....\n",
      "|-----> project the pca perturbation vector to low dimensional space....\n",
      "|-----> [projecting velocity vector to low dimensional embedding] in progress: 100.0000%|-----> [projecting velocity vector to low dimensional embedding] completed [0.1661s]\n",
      "|-----> you can use dyn.pl.streamline_plot(adata, basis='pca_perturbation') to visualize the perturbation vector\n",
      "Done mitfa\n",
      "|-----> In silico perturbation of single-cells and prediction of cell fate after perturbation...\n",
      "|-----> Retrive X_pca, PCs, pca_mean...\n",
      "|-----> Calculate perturbation effect matrix via \\delta Y = J \\dot \\delta X....\n",
      "|-----> project the pca perturbation vector to low dimensional space....\n",
      "|-----> [projecting velocity vector to low dimensional embedding] in progress: 100.0000%|-----> [projecting velocity vector to low dimensional embedding] completed [0.1639s]\n",
      "|-----> you can use dyn.pl.streamline_plot(adata, basis='pca_perturbation') to visualize the perturbation vector\n",
      "Done tfec\n",
      "|-----> In silico perturbation of single-cells and prediction of cell fate after perturbation...\n",
      "|-----> Retrive X_pca, PCs, pca_mean...\n",
      "|-----> Calculate perturbation effect matrix via \\delta Y = J \\dot \\delta X....\n",
      "|-----> project the pca perturbation vector to low dimensional space....\n",
      "|-----> [projecting velocity vector to low dimensional embedding] in progress: 100.0000%|-----> [projecting velocity vector to low dimensional embedding] completed [0.1635s]\n",
      "|-----> you can use dyn.pl.streamline_plot(adata, basis='pca_perturbation') to visualize the perturbation vector\n",
      "Done elf1\n",
      "|-----> In silico perturbation of single-cells and prediction of cell fate after perturbation...\n",
      "|-----> Retrive X_pca, PCs, pca_mean...\n",
      "|-----> Calculate perturbation effect matrix via \\delta Y = J \\dot \\delta X....\n",
      "|-----> project the pca perturbation vector to low dimensional space....\n",
      "|-----> [projecting velocity vector to low dimensional embedding] in progress: 100.0000%|-----> [projecting velocity vector to low dimensional embedding] completed [0.1640s]\n",
      "|-----> you can use dyn.pl.streamline_plot(adata, basis='pca_perturbation') to visualize the perturbation vector\n",
      "Done ebf3a\n",
      "|-----> In silico perturbation of single-cells and prediction of cell fate after perturbation...\n",
      "|-----> Retrive X_pca, PCs, pca_mean...\n",
      "|-----> Calculate perturbation effect matrix via \\delta Y = J \\dot \\delta X....\n",
      "|-----> project the pca perturbation vector to low dimensional space....\n",
      "|-----> [projecting velocity vector to low dimensional embedding] in progress: 100.0000%|-----> [projecting velocity vector to low dimensional embedding] completed [0.1735s]\n",
      "|-----> you can use dyn.pl.streamline_plot(adata, basis='pca_perturbation') to visualize the perturbation vector\n",
      "Done rarga\n",
      "|-----> In silico perturbation of single-cells and prediction of cell fate after perturbation...\n",
      "|-----> Retrive X_pca, PCs, pca_mean...\n",
      "|-----> Calculate perturbation effect matrix via \\delta Y = J \\dot \\delta X....\n",
      "|-----> project the pca perturbation vector to low dimensional space....\n",
      "|-----> [projecting velocity vector to low dimensional embedding] in progress: 100.0000%|-----> [projecting velocity vector to low dimensional embedding] completed [0.1654s]\n",
      "|-----> you can use dyn.pl.streamline_plot(adata, basis='pca_perturbation') to visualize the perturbation vector\n",
      "Done rxraa\n",
      "|-----> In silico perturbation of single-cells and prediction of cell fate after perturbation...\n",
      "|-----> Retrive X_pca, PCs, pca_mean...\n",
      "|-----> Calculate perturbation effect matrix via \\delta Y = J \\dot \\delta X....\n",
      "|-----> project the pca perturbation vector to low dimensional space....\n",
      "|-----> [projecting velocity vector to low dimensional embedding] in progress: 100.0000%|-----> [projecting velocity vector to low dimensional embedding] completed [0.1777s]\n",
      "|-----> you can use dyn.pl.streamline_plot(adata, basis='pca_perturbation') to visualize the perturbation vector\n",
      "Done nr2f5\n",
      "|-----> In silico perturbation of single-cells and prediction of cell fate after perturbation...\n",
      "|-----> Retrive X_pca, PCs, pca_mean...\n",
      "|-----> Calculate perturbation effect matrix via \\delta Y = J \\dot \\delta X....\n",
      "|-----> project the pca perturbation vector to low dimensional space....\n",
      "|-----> [projecting velocity vector to low dimensional embedding] in progress: 100.0000%|-----> [projecting velocity vector to low dimensional embedding] completed [0.1496s]\n",
      "|-----> you can use dyn.pl.streamline_plot(adata, basis='pca_perturbation') to visualize the perturbation vector\n",
      "Done nr2f2\n",
      "|-----> In silico perturbation of single-cells and prediction of cell fate after perturbation...\n",
      "|-----> Retrive X_pca, PCs, pca_mean...\n",
      "|-----> Calculate perturbation effect matrix via \\delta Y = J \\dot \\delta X....\n",
      "|-----> project the pca perturbation vector to low dimensional space....\n",
      "|-----> [projecting velocity vector to low dimensional embedding] in progress: 100.0000%|-----> [projecting velocity vector to low dimensional embedding] completed [0.1694s]\n",
      "|-----> you can use dyn.pl.streamline_plot(adata, basis='pca_perturbation') to visualize the perturbation vector\n",
      "Done ets1\n"
     ]
    }
   ],
   "source": [
    "## Dynamo (perturbation)\n",
    "perturbation_dyn = TFScanning_perturbation_dyn(adata, 8, \"cell_type\", TERMINAL_STATES_KO, single_ko)"
   ]
  },
  {
   "cell_type": "code",
   "execution_count": 23,
   "id": "b2fe426f-d294-4c48-a9f8-031d6af69675",
   "metadata": {
    "tags": []
   },
   "outputs": [
    {
     "name": "stdout",
     "output_type": "stream",
     "text": [
      "|-----> In silico perturbation of single-cells and prediction of cell fate after perturbation...\n",
      "|-----> Retrive X_pca, PCs, pca_mean...\n",
      "|-----> Calculate perturbation effect matrix via \\delta Y = J \\dot \\delta X....\n",
      "|-----> project the pca perturbation vector to low dimensional space....\n",
      "|-----> [projecting velocity vector to low dimensional embedding] in progress: 100.0000%|-----> [projecting velocity vector to low dimensional embedding] completed [0.1630s]\n",
      "|-----> you can use dyn.pl.streamline_plot(adata, basis='umap_perturbation') to visualize the perturbation vector\n",
      "Done mitfa_tfec_tfeb\n",
      "|-----> In silico perturbation of single-cells and prediction of cell fate after perturbation...\n",
      "|-----> Retrive X_pca, PCs, pca_mean...\n",
      "|-----> Calculate perturbation effect matrix via \\delta Y = J \\dot \\delta X....\n",
      "|-----> project the pca perturbation vector to low dimensional space....\n",
      "|-----> [projecting velocity vector to low dimensional embedding] in progress: 100.0000%|-----> [projecting velocity vector to low dimensional embedding] completed [0.1442s]\n",
      "|-----> you can use dyn.pl.streamline_plot(adata, basis='umap_perturbation') to visualize the perturbation vector\n",
      "Done fli1a_elk3\n",
      "|-----> In silico perturbation of single-cells and prediction of cell fate after perturbation...\n",
      "|-----> Retrive X_pca, PCs, pca_mean...\n",
      "|-----> Calculate perturbation effect matrix via \\delta Y = J \\dot \\delta X....\n",
      "|-----> project the pca perturbation vector to low dimensional space....\n",
      "|-----> [projecting velocity vector to low dimensional embedding] in progress: 100.0000%|-----> [projecting velocity vector to low dimensional embedding] completed [0.1471s]\n",
      "|-----> you can use dyn.pl.streamline_plot(adata, basis='umap_perturbation') to visualize the perturbation vector\n",
      "Done mitfa_tfec\n",
      "|-----> In silico perturbation of single-cells and prediction of cell fate after perturbation...\n",
      "|-----> Retrive X_pca, PCs, pca_mean...\n",
      "|-----> Calculate perturbation effect matrix via \\delta Y = J \\dot \\delta X....\n",
      "|-----> project the pca perturbation vector to low dimensional space....\n",
      "|-----> [projecting velocity vector to low dimensional embedding] in progress: 100.0000%|-----> [projecting velocity vector to low dimensional embedding] completed [0.1543s]\n",
      "|-----> you can use dyn.pl.streamline_plot(adata, basis='umap_perturbation') to visualize the perturbation vector\n",
      "Done tfec_mitfa_bhlhe40\n"
     ]
    }
   ],
   "source": [
    "## Dynamo (perturbation) in multiple\n",
    "multiple_ko = [\"mitfa_tfec_tfeb\", \"fli1a_elk3\", \"mitfa_tfec\", \"tfec_mitfa_bhlhe40\"]\n",
    "multiple_ko_list = split_elements(multiple_ko)\n",
    "perturbation_dyn_multiple = Multiple_TFScanning_perturbation_dyn(\n",
    "    adata, 8, \"cell_type\", TERMINAL_STATES_KO, multiple_ko_list\n",
    ")"
   ]
  },
  {
   "cell_type": "code",
   "execution_count": 24,
   "id": "85195bcb-676a-41e0-be8f-ca5674e5a810",
   "metadata": {
    "tags": []
   },
   "outputs": [],
   "source": [
    "## Perform KO screening using function based perturbation\n",
    "coef_perturb = pd.DataFrame(np.array(perturbation_dyn[\"coefficient\"]))\n",
    "coef_perturb.index = perturbation_dyn[\"TF\"]\n",
    "coef_perturb.columns = get_list_name(perturbation_dyn[\"coefficient\"][0])\n",
    "coef_perturb = coef_perturb.loc[single_ko, TERMINAL_STATES_PERTURB]\n",
    "\n",
    "## Perform perturbation screening using gene expression based perturbation\n",
    "coef_perturb_multiple = pd.DataFrame(np.array(perturbation_dyn_multiple[\"coefficient\"]))\n",
    "coef_perturb_multiple.index = perturbation_dyn_multiple[\"TF\"]\n",
    "coef_perturb_multiple.columns = get_list_name(perturbation_dyn_multiple[\"coefficient\"][0])\n",
    "coef_perturb_multiple = coef_perturb_multiple.loc[multiple_ko, TERMINAL_STATES_PERTURB]"
   ]
  },
  {
   "cell_type": "code",
   "execution_count": 25,
   "id": "c2962b84-1331-448e-ad8f-37cd85018a34",
   "metadata": {
    "tags": []
   },
   "outputs": [],
   "source": [
    "if SAVE_DATA:\n",
    "    coef_KO.to_csv(DATA_DIR / DATASET / \"results\" / \"dynamo_KO_single.csv\")\n",
    "    coef_KO_multiple.to_csv(DATA_DIR / DATASET / \"results\" / \"dynamo_KO_multiple.csv\")\n",
    "    pval_KO.to_csv(DATA_DIR / DATASET / \"results\" / \"dynamo_KO_single_pval.csv\")\n",
    "    pval_KO_multiple.to_csv(DATA_DIR / DATASET / \"results\" / \"dynamo_KO_multiple_pval.csv\")\n",
    "\n",
    "    coef_perturb.to_csv(DATA_DIR / DATASET / \"results\" / \"dynamo_perturb_single.csv\")\n",
    "    coef_perturb_multiple.to_csv(DATA_DIR / DATASET / \"results\" / \"dynamo_perturb_multiple.csv\")"
   ]
  },
  {
   "cell_type": "code",
   "execution_count": null,
   "id": "c9ef58de-11f5-42d2-9a65-5dbb8707d1ea",
   "metadata": {},
   "outputs": [],
   "source": []
  },
  {
   "cell_type": "code",
   "execution_count": null,
   "id": "8969705e-dec0-4ada-a04b-5704b284c1f9",
   "metadata": {},
   "outputs": [],
   "source": []
  },
  {
   "cell_type": "code",
   "execution_count": null,
   "id": "5f588e54-dd04-456a-9800-ad3497eac4f9",
   "metadata": {},
   "outputs": [],
   "source": []
  },
  {
   "cell_type": "code",
   "execution_count": null,
   "id": "86418a9a-2ab5-41d2-8883-95b237447c07",
   "metadata": {},
   "outputs": [],
   "source": []
  }
 ],
 "metadata": {
  "kernelspec": {
   "display_name": "Python [conda env:dynamo]",
   "language": "python",
   "name": "conda-env-dynamo-py"
  },
  "language_info": {
   "codemirror_mode": {
    "name": "ipython",
    "version": 3
   },
   "file_extension": ".py",
   "mimetype": "text/x-python",
   "name": "python",
   "nbconvert_exporter": "python",
   "pygments_lexer": "ipython3",
   "version": "3.10.12"
  }
 },
 "nbformat": 4,
 "nbformat_minor": 5
}
