{
 "cells": [
  {
   "cell_type": "markdown",
   "id": "f28d76cc",
   "metadata": {},
   "source": [
    "# veloVAE (VAE) benchmark on cell cycle data\n",
    "\n",
    "Notebook benchmarks velocity, latent time inference, and cross boundary correctness using veloVAE (VAE) on cell cycle data."
   ]
  },
  {
   "cell_type": "code",
   "execution_count": 1,
   "id": "40b2ac06-c715-4506-a843-cf44bfac0f7f",
   "metadata": {},
   "outputs": [
    {
     "name": "stderr",
     "output_type": "stream",
     "text": [
      "/home/icb/weixu.wang/miniconda3/envs/regvelo_test/lib/python3.10/site-packages/anndata/utils.py:429: FutureWarning: Importing read_csv from `anndata` is deprecated. Import anndata.io.read_csv instead.\n",
      "  warnings.warn(msg, FutureWarning)\n",
      "/home/icb/weixu.wang/miniconda3/envs/regvelo_test/lib/python3.10/site-packages/anndata/utils.py:429: FutureWarning: Importing read_excel from `anndata` is deprecated. Import anndata.io.read_excel instead.\n",
      "  warnings.warn(msg, FutureWarning)\n",
      "/home/icb/weixu.wang/miniconda3/envs/regvelo_test/lib/python3.10/site-packages/anndata/utils.py:429: FutureWarning: Importing read_hdf from `anndata` is deprecated. Import anndata.io.read_hdf instead.\n",
      "  warnings.warn(msg, FutureWarning)\n",
      "/home/icb/weixu.wang/miniconda3/envs/regvelo_test/lib/python3.10/site-packages/anndata/utils.py:429: FutureWarning: Importing read_loom from `anndata` is deprecated. Import anndata.io.read_loom instead.\n",
      "  warnings.warn(msg, FutureWarning)\n",
      "/home/icb/weixu.wang/miniconda3/envs/regvelo_test/lib/python3.10/site-packages/anndata/utils.py:429: FutureWarning: Importing read_mtx from `anndata` is deprecated. Import anndata.io.read_mtx instead.\n",
      "  warnings.warn(msg, FutureWarning)\n",
      "/home/icb/weixu.wang/miniconda3/envs/regvelo_test/lib/python3.10/site-packages/anndata/utils.py:429: FutureWarning: Importing read_text from `anndata` is deprecated. Import anndata.io.read_text instead.\n",
      "  warnings.warn(msg, FutureWarning)\n",
      "/home/icb/weixu.wang/miniconda3/envs/regvelo_test/lib/python3.10/site-packages/anndata/utils.py:429: FutureWarning: Importing read_umi_tools from `anndata` is deprecated. Import anndata.io.read_umi_tools instead.\n",
      "  warnings.warn(msg, FutureWarning)\n"
     ]
    }
   ],
   "source": [
    "import velovae as vv\n",
    "\n",
    "import numpy as np\n",
    "import pandas as pd\n",
    "import torch\n",
    "\n",
    "import anndata as ad\n",
    "import scvelo as scv\n",
    "from cellrank.kernels import VelocityKernel\n",
    "\n",
    "from rgv_tools import DATA_DIR\n",
    "from rgv_tools.benchmarking import get_time_correlation"
   ]
  },
  {
   "cell_type": "markdown",
   "id": "fe1f58bf-ee46-4ce9-958b-4ec22d49350a",
   "metadata": {},
   "source": [
    "## General settings"
   ]
  },
  {
   "cell_type": "code",
   "execution_count": 2,
   "id": "6560f32c-8721-49c7-886e-0f2eacafba24",
   "metadata": {},
   "outputs": [],
   "source": [
    "scv.settings.verbosity = 3"
   ]
  },
  {
   "cell_type": "markdown",
   "id": "f5e274bb-5232-41e1-a48f-5c85f1d98b06",
   "metadata": {},
   "source": [
    "## Constants"
   ]
  },
  {
   "cell_type": "code",
   "execution_count": 3,
   "id": "4fd058ac-68dd-4a29-8707-2f82664749c6",
   "metadata": {},
   "outputs": [],
   "source": [
    "torch.manual_seed(0)\n",
    "np.random.seed(0)"
   ]
  },
  {
   "cell_type": "code",
   "execution_count": 4,
   "id": "4bc959e9-2c40-4ced-b2f0-ab92fef7860e",
   "metadata": {},
   "outputs": [],
   "source": [
    "DATASET = \"cell_cycle\""
   ]
  },
  {
   "cell_type": "code",
   "execution_count": 5,
   "id": "094496df-0b8f-41f9-9fa2-064c627f6f5f",
   "metadata": {},
   "outputs": [],
   "source": [
    "STATE_TRANSITIONS = [(\"G1\", \"S\"), (\"S\", \"G2M\")]"
   ]
  },
  {
   "cell_type": "code",
   "execution_count": 6,
   "id": "6d925b31-c39b-4826-8c02-c30a68e7e505",
   "metadata": {},
   "outputs": [],
   "source": [
    "SAVE_DATA = True\n",
    "if SAVE_DATA:\n",
    "    (DATA_DIR / DATASET / \"results\").mkdir(parents=True, exist_ok=True)\n",
    "    (DATA_DIR / DATASET / \"processed\" / \"velovae_vae\").mkdir(parents=True, exist_ok=True)"
   ]
  },
  {
   "cell_type": "markdown",
   "id": "ae052e1d-0925-4ae9-a55d-f51ec79a7a76",
   "metadata": {},
   "source": [
    "## Data loading"
   ]
  },
  {
   "cell_type": "code",
   "execution_count": 7,
   "id": "c1611eeb-4066-4578-a7a2-2730696a423d",
   "metadata": {},
   "outputs": [
    {
     "name": "stdout",
     "output_type": "stream",
     "text": [
      "computing moments based on connectivities\n",
      "    finished (0:00:00) --> added \n",
      "    'Ms' and 'Mu', moments of un/spliced abundances (adata.layers)\n"
     ]
    },
    {
     "data": {
      "text/plain": [
       "AnnData object with n_obs × n_vars = 1146 × 395\n",
       "    obs: 'phase', 'fucci_time', 'initial_size_unspliced', 'initial_size_spliced', 'initial_size', 'n_counts'\n",
       "    var: 'ensum_id', 'gene_count_corr', 'means', 'dispersions', 'dispersions_norm', 'highly_variable', 'velocity_gamma', 'velocity_qreg_ratio', 'velocity_r2', 'velocity_genes'\n",
       "    uns: 'log1p', 'neighbors', 'pca', 'umap', 'velocity_params'\n",
       "    obsm: 'X_pca', 'X_umap'\n",
       "    varm: 'PCs', 'true_skeleton'\n",
       "    layers: 'Ms', 'Mu', 'spliced', 'total', 'unspliced', 'velocity'\n",
       "    obsp: 'connectivities', 'distances'"
      ]
     },
     "execution_count": 7,
     "metadata": {},
     "output_type": "execute_result"
    }
   ],
   "source": [
    "adata = ad.io.read_h5ad(DATA_DIR / DATASET / \"processed\" / \"adata_processed.h5ad\")\n",
    "scv.pp.moments(adata, n_pcs=None, n_neighbors=None)  ## reconstruct Mu and Ms due to veloVAE run on continues space\n",
    "adata"
   ]
  },
  {
   "cell_type": "markdown",
   "id": "2379e5fb-0b6f-4ea2-b349-8ee567c962a5",
   "metadata": {},
   "source": [
    "## Velocity pipeline"
   ]
  },
  {
   "cell_type": "code",
   "execution_count": 8,
   "id": "2f175601-671f-4362-942e-372967ff2b3e",
   "metadata": {},
   "outputs": [
    {
     "name": "stdout",
     "output_type": "stream",
     "text": [
      "Estimating ODE parameters...\n"
     ]
    },
    {
     "data": {
      "application/vnd.jupyter.widget-view+json": {
       "model_id": "a09d3c0c657f449a98ba74ad8a0161a5",
       "version_major": 2,
       "version_minor": 0
      },
      "text/plain": [
       "  0%|          | 0/395 [00:00<?, ?it/s]"
      ]
     },
     "metadata": {},
     "output_type": "display_data"
    },
    {
     "name": "stdout",
     "output_type": "stream",
     "text": [
      "Detected 313 velocity genes.\n",
      "Estimating the variance...\n"
     ]
    },
    {
     "data": {
      "application/vnd.jupyter.widget-view+json": {
       "model_id": "b0836ccd4154444f87ed0f88446ca321",
       "version_major": 2,
       "version_minor": 0
      },
      "text/plain": [
       "  0%|          | 0/395 [00:00<?, ?it/s]"
      ]
     },
     "metadata": {},
     "output_type": "display_data"
    },
    {
     "name": "stdout",
     "output_type": "stream",
     "text": [
      "Initialization using the steady-state and dynamical models.\n",
      "Reinitialize the regular ODE parameters based on estimated global latent time.\n"
     ]
    },
    {
     "data": {
      "application/vnd.jupyter.widget-view+json": {
       "model_id": "84d6ab4e80b14bc1ba3deed06a6f9ef7",
       "version_major": 2,
       "version_minor": 0
      },
      "text/plain": [
       "  0%|          | 0/395 [00:00<?, ?it/s]"
      ]
     },
     "metadata": {},
     "output_type": "display_data"
    },
    {
     "name": "stdout",
     "output_type": "stream",
     "text": [
      "3 clusters detected based on gene co-expression.\n",
      "(0.55, 0.7640522104081641), (0.45, 0.2995065388021425)\n",
      "(0.44, 0.7271833832917461), (0.56, 0.2872846055146947)\n",
      "KS-test result: [0. 0. 1.]\n",
      "Initial induction: 227, repression: 168/395\n",
      "Learning Rate based on Data Sparsity: 0.0000\n",
      "--------------------------- Train a VeloVAE ---------------------------\n",
      "*********        Creating Training/Validation Datasets        *********\n",
      "*********                      Finished.                      *********\n",
      "*********                 Creating optimizers                 *********\n",
      "*********                      Finished.                      *********\n",
      "*********                    Start training                   *********\n",
      "*********                      Stage  1                       *********\n",
      "Total Number of Iterations Per Epoch: 7, test iteration: 12\n",
      "*********                      Stage  2                       *********\n",
      "*********             Velocity Refinement Round 1             *********\n"
     ]
    },
    {
     "data": {
      "application/vnd.jupyter.widget-view+json": {
       "model_id": "3426e4412e52499baf1d6e38ff99e761",
       "version_major": 2,
       "version_minor": 0
      },
      "text/plain": [
       "  0%|          | 0/1146 [00:00<?, ?it/s]"
      ]
     },
     "metadata": {},
     "output_type": "display_data"
    },
    {
     "name": "stdout",
     "output_type": "stream",
     "text": [
      "Percentage of Invalid Sets: 0.028\n",
      "Average Set Size: 23\n",
      "*********     Round 1: Early Stop Triggered at epoch 1195.    *********\n",
      "Change in noise variance: 0.4184\n",
      "*********             Velocity Refinement Round 2             *********\n",
      "*********     Round 2: Early Stop Triggered at epoch 1204.    *********\n",
      "Change in noise variance: 0.0009\n",
      "Change in x0: 0.4345\n",
      "*********             Velocity Refinement Round 3             *********\n",
      "*********     Round 3: Early Stop Triggered at epoch 1213.    *********\n",
      "Change in noise variance: 0.0000\n",
      "Change in x0: 0.3464\n",
      "*********             Velocity Refinement Round 4             *********\n",
      "*********     Round 4: Early Stop Triggered at epoch 1222.    *********\n",
      "Change in noise variance: 0.0000\n",
      "Change in x0: 0.2845\n",
      "*********             Velocity Refinement Round 5             *********\n",
      "*********     Round 5: Early Stop Triggered at epoch 1240.    *********\n",
      "Change in noise variance: 0.0000\n",
      "Change in x0: 0.2936\n",
      "*********             Velocity Refinement Round 6             *********\n",
      "Stage 2: Early Stop Triggered at round 5.\n",
      "*********              Finished. Total Time =   0 h :  1 m : 45 s             *********\n",
      "Final: Train ELBO = -1520.920,\tTest ELBO = -1512.530\n"
     ]
    }
   ],
   "source": [
    "vae = vv.VAE(adata, tmax=20, dim_z=5, device=\"cuda:0\")\n",
    "config = {}\n",
    "vae.train(adata, config=config, plot=False, embed=\"pca\")\n",
    "\n",
    "if SAVE_DATA:\n",
    "    vae.save_model(DATA_DIR / DATASET / \"processed\" / \"velovae_vae\", \"encoder_vae\", \"decoder_vae\")\n",
    "    vae.save_anndata(adata, \"vae\", DATA_DIR / DATASET / \"processed\" / \"velovae_vae\", file_name=\"velovae.h5ad\")"
   ]
  },
  {
   "cell_type": "code",
   "execution_count": 9,
   "id": "684d2324-0f0c-40fd-b133-b9a693a7ac6d",
   "metadata": {},
   "outputs": [],
   "source": [
    "time_correlation = [get_time_correlation(ground_truth=adata.obs[\"fucci_time\"], estimated=adata.obs[\"vae_time\"])]"
   ]
  },
  {
   "cell_type": "code",
   "execution_count": 10,
   "id": "b3ae51f7-4df3-4711-9702-60626926b26b",
   "metadata": {},
   "outputs": [
    {
     "name": "stdout",
     "output_type": "stream",
     "text": [
      "computing velocity graph (using 1/112 cores)\n"
     ]
    },
    {
     "data": {
      "application/vnd.jupyter.widget-view+json": {
       "model_id": "8a75fcdfa5b1415db18c0dd9548ce425",
       "version_major": 2,
       "version_minor": 0
      },
      "text/plain": [
       "  0%|          | 0/1146 [00:00<?, ?cells/s]"
      ]
     },
     "metadata": {},
     "output_type": "display_data"
    },
    {
     "name": "stdout",
     "output_type": "stream",
     "text": [
      "    finished (0:00:01) --> added \n",
      "    'velocity_graph', sparse matrix with cosine correlations (adata.uns)\n",
      "--> added 'velocity_length' (adata.obs)\n",
      "--> added 'velocity_confidence' (adata.obs)\n",
      "--> added 'velocity_confidence_transition' (adata.obs)\n"
     ]
    }
   ],
   "source": [
    "adata.layers[\"velocity\"] = adata.layers[\"vae_velocity\"].copy()\n",
    "scv.tl.velocity_graph(adata, vkey=\"velocity\", n_jobs=1)\n",
    "scv.tl.velocity_confidence(adata, vkey=\"velocity\")"
   ]
  },
  {
   "cell_type": "markdown",
   "id": "c76f3d9e-7e55-4dbb-9715-9f8eb35fcf2e",
   "metadata": {
    "tags": []
   },
   "source": [
    "## Cross-boundary correctness"
   ]
  },
  {
   "cell_type": "code",
   "execution_count": 11,
   "id": "32039a58",
   "metadata": {},
   "outputs": [
    {
     "data": {
      "application/vnd.jupyter.widget-view+json": {
       "model_id": "65e5c432129043009e2699d2b8c9d61a",
       "version_major": 2,
       "version_minor": 0
      },
      "text/plain": [
       "  0%|          | 0/1146 [00:00<?, ?cell/s]"
      ]
     },
     "metadata": {},
     "output_type": "display_data"
    },
    {
     "data": {
      "application/vnd.jupyter.widget-view+json": {
       "model_id": "4880064855f54dbba5a3e65e7b8fbc82",
       "version_major": 2,
       "version_minor": 0
      },
      "text/plain": [
       "  0%|          | 0/1146 [00:00<?, ?cell/s]"
      ]
     },
     "metadata": {},
     "output_type": "display_data"
    }
   ],
   "source": [
    "vk = VelocityKernel(adata, vkey=\"vae_velocity\").compute_transition_matrix()\n",
    "\n",
    "cluster_key = \"phase\"\n",
    "rep = \"X_pca\"\n",
    "\n",
    "score_df = []\n",
    "for source, target in STATE_TRANSITIONS:\n",
    "    cbc = vk.cbc(source=source, target=target, cluster_key=cluster_key, rep=rep)\n",
    "\n",
    "    score_df.append(\n",
    "        pd.DataFrame(\n",
    "            {\n",
    "                \"State transition\": [f\"{source} - {target}\"] * len(cbc),\n",
    "                \"CBC\": cbc,\n",
    "            }\n",
    "        )\n",
    "    )\n",
    "score_df = pd.concat(score_df)"
   ]
  },
  {
   "cell_type": "markdown",
   "id": "0a3b62cb-1f01-4512-98f9-51cc532ac57f",
   "metadata": {},
   "source": [
    "## Data saving"
   ]
  },
  {
   "cell_type": "code",
   "execution_count": 12,
   "id": "cf4d362e",
   "metadata": {},
   "outputs": [],
   "source": [
    "if SAVE_DATA:\n",
    "    pd.DataFrame({\"time\": time_correlation}, index=adata.obs_names).to_parquet(\n",
    "        path=DATA_DIR / DATASET / \"results\" / \"velovae_vae_correlation.parquet\"\n",
    "    )\n",
    "    adata.obs[[\"velocity_confidence\"]].to_parquet(\n",
    "        path=DATA_DIR / DATASET / \"results\" / \"velovae_vae_confidence.parquet\"\n",
    "    )\n",
    "    score_df.to_parquet(path=DATA_DIR / DATASET / \"results\" / \"velovae_vae_cbc.parquet\")"
   ]
  }
 ],
 "metadata": {
  "kernelspec": {
   "display_name": "Python [conda env:regvelo_test]",
   "language": "python",
   "name": "conda-env-regvelo_test-py"
  },
  "language_info": {
   "codemirror_mode": {
    "name": "ipython",
    "version": 3
   },
   "file_extension": ".py",
   "mimetype": "text/x-python",
   "name": "python",
   "nbconvert_exporter": "python",
   "pygments_lexer": "ipython3",
   "version": "3.10.15"
  }
 },
 "nbformat": 4,
 "nbformat_minor": 5
}
