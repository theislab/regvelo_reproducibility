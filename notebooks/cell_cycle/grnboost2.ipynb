{
 "cells": [
  {
   "cell_type": "markdown",
   "id": "ed35aab7-58bc-49d4-8ee0-cf19c727e809",
   "metadata": {},
   "source": [
    "# GRNBoost2 benchmark on cell cycle\n",
    "\n",
    "Notebook benchmarks GRN inference using GRNBoost2 on cell cycling dataset"
   ]
  },
  {
   "cell_type": "markdown",
   "id": "4ac50bb7-c7d8-4dfb-a246-53bf98c3cf70",
   "metadata": {},
   "source": [
    "## Library imports"
   ]
  },
  {
   "cell_type": "code",
   "execution_count": 1,
   "id": "f4b6a095-4354-4ad3-b71c-e21f755aa8e0",
   "metadata": {},
   "outputs": [
    {
     "name": "stderr",
     "output_type": "stream",
     "text": [
      "/home/icb/weixu.wang/miniconda3/envs/regvelo_test/lib/python3.10/site-packages/anndata/utils.py:429: FutureWarning: Importing read_csv from `anndata` is deprecated. Import anndata.io.read_csv instead.\n",
      "  warnings.warn(msg, FutureWarning)\n",
      "/home/icb/weixu.wang/miniconda3/envs/regvelo_test/lib/python3.10/site-packages/anndata/utils.py:429: FutureWarning: Importing read_excel from `anndata` is deprecated. Import anndata.io.read_excel instead.\n",
      "  warnings.warn(msg, FutureWarning)\n",
      "/home/icb/weixu.wang/miniconda3/envs/regvelo_test/lib/python3.10/site-packages/anndata/utils.py:429: FutureWarning: Importing read_hdf from `anndata` is deprecated. Import anndata.io.read_hdf instead.\n",
      "  warnings.warn(msg, FutureWarning)\n",
      "/home/icb/weixu.wang/miniconda3/envs/regvelo_test/lib/python3.10/site-packages/anndata/utils.py:429: FutureWarning: Importing read_loom from `anndata` is deprecated. Import anndata.io.read_loom instead.\n",
      "  warnings.warn(msg, FutureWarning)\n",
      "/home/icb/weixu.wang/miniconda3/envs/regvelo_test/lib/python3.10/site-packages/anndata/utils.py:429: FutureWarning: Importing read_mtx from `anndata` is deprecated. Import anndata.io.read_mtx instead.\n",
      "  warnings.warn(msg, FutureWarning)\n",
      "/home/icb/weixu.wang/miniconda3/envs/regvelo_test/lib/python3.10/site-packages/anndata/utils.py:429: FutureWarning: Importing read_text from `anndata` is deprecated. Import anndata.io.read_text instead.\n",
      "  warnings.warn(msg, FutureWarning)\n",
      "/home/icb/weixu.wang/miniconda3/envs/regvelo_test/lib/python3.10/site-packages/anndata/utils.py:429: FutureWarning: Importing read_umi_tools from `anndata` is deprecated. Import anndata.io.read_umi_tools instead.\n",
      "  warnings.warn(msg, FutureWarning)\n"
     ]
    }
   ],
   "source": [
    "import pandas as pd\n",
    "\n",
    "import anndata as ad\n",
    "from arboreto.algo import grnboost2\n",
    "\n",
    "from rgv_tools import DATA_DIR\n",
    "from rgv_tools.benchmarking import get_grn_auroc_cc"
   ]
  },
  {
   "cell_type": "markdown",
   "id": "dc7fd89e-74b8-44d1-acb6-785b5dca4f99",
   "metadata": {},
   "source": [
    "## Constants"
   ]
  },
  {
   "cell_type": "code",
   "execution_count": 2,
   "id": "4c2f31ab-8711-4c8e-a673-7115028ab870",
   "metadata": {},
   "outputs": [],
   "source": [
    "DATASET = \"cell_cycle\""
   ]
  },
  {
   "cell_type": "code",
   "execution_count": 3,
   "id": "9baeada1-9cf1-4652-935e-f4828c127254",
   "metadata": {},
   "outputs": [],
   "source": [
    "SAVE_DATA = True\n",
    "if SAVE_DATA:\n",
    "    (DATA_DIR / DATASET / \"results\").mkdir(parents=True, exist_ok=True)"
   ]
  },
  {
   "cell_type": "markdown",
   "id": "b1d4f21d-e562-4565-badc-cb971489cde1",
   "metadata": {},
   "source": [
    "## Data loading"
   ]
  },
  {
   "cell_type": "code",
   "execution_count": 4,
   "id": "cccb9c3b-26ac-44da-93f1-e04b3fa7f81f",
   "metadata": {},
   "outputs": [
    {
     "data": {
      "text/plain": [
       "AnnData object with n_obs × n_vars = 1146 × 395\n",
       "    obs: 'phase', 'fucci_time', 'initial_size_unspliced', 'initial_size_spliced', 'initial_size', 'n_counts'\n",
       "    var: 'ensum_id', 'gene_count_corr', 'means', 'dispersions', 'dispersions_norm', 'highly_variable', 'velocity_gamma', 'velocity_qreg_ratio', 'velocity_r2', 'velocity_genes'\n",
       "    uns: 'log1p', 'neighbors', 'pca', 'umap', 'velocity_params'\n",
       "    obsm: 'X_pca', 'X_umap'\n",
       "    varm: 'PCs', 'true_skeleton'\n",
       "    layers: 'Ms', 'Mu', 'spliced', 'total', 'unspliced', 'velocity'\n",
       "    obsp: 'connectivities', 'distances'"
      ]
     },
     "execution_count": 4,
     "metadata": {},
     "output_type": "execute_result"
    }
   ],
   "source": [
    "adata = ad.io.read_h5ad(DATA_DIR / DATASET / \"processed\" / \"adata_processed.h5ad\")\n",
    "adata"
   ]
  },
  {
   "cell_type": "markdown",
   "id": "18fa82b1-1380-4e84-9cdc-2efed7e575de",
   "metadata": {},
   "source": [
    "## GRN pipeline"
   ]
  },
  {
   "cell_type": "code",
   "execution_count": 5,
   "id": "3fa72255-f85b-4dac-857c-6ac763588c7b",
   "metadata": {
    "tags": []
   },
   "outputs": [
    {
     "name": "stderr",
     "output_type": "stream",
     "text": [
      "2024-12-10 21:28:11,403 - INFO - To route to workers diagnostics web server please install jupyter-server-proxy: python -m pip install jupyter-server-proxy\n",
      "2024-12-10 21:28:11,450 - INFO - State start\n",
      "2024-12-10 21:28:11,456 - INFO -   Scheduler at:      tcp://127.0.0.1:8051\n",
      "2024-12-10 21:28:11,457 - INFO -   dashboard at:  http://127.0.0.1:8493/status\n",
      "2024-12-10 21:28:11,457 - INFO - Registering Worker plugin shuffle\n",
      "2024-12-10 21:28:11,473 - INFO -         Start Nanny at: 'tcp://127.0.0.1:8117'\n",
      "2024-12-10 21:28:11,522 - INFO -         Start Nanny at: 'tcp://127.0.0.1:8461'\n",
      "2024-12-10 21:28:11,526 - INFO -         Start Nanny at: 'tcp://127.0.0.1:8485'\n",
      "2024-12-10 21:28:12,750 - INFO - Register worker <WorkerState 'tcp://127.0.0.1:8053', name: 0, status: init, memory: 0, processing: 0>\n",
      "2024-12-10 21:28:12,753 - INFO - Starting worker compute stream, tcp://127.0.0.1:8053\n",
      "2024-12-10 21:28:12,754 - INFO - Starting established connection to tcp://127.0.0.1:8212\n",
      "2024-12-10 21:28:12,913 - INFO - Register worker <WorkerState 'tcp://127.0.0.1:8143', name: 1, status: init, memory: 0, processing: 0>\n",
      "2024-12-10 21:28:12,914 - INFO - Starting worker compute stream, tcp://127.0.0.1:8143\n",
      "2024-12-10 21:28:12,915 - INFO - Starting established connection to tcp://127.0.0.1:8220\n",
      "2024-12-10 21:28:12,935 - INFO - Register worker <WorkerState 'tcp://127.0.0.1:8273', name: 2, status: init, memory: 0, processing: 0>\n",
      "2024-12-10 21:28:12,936 - INFO - Starting worker compute stream, tcp://127.0.0.1:8273\n",
      "2024-12-10 21:28:12,937 - INFO - Starting established connection to tcp://127.0.0.1:8228\n",
      "2024-12-10 21:28:12,965 - INFO - Receive client connection: Client-475422a7-b735-11ef-81d3-00001049fe80\n",
      "2024-12-10 21:28:12,966 - INFO - Starting established connection to tcp://127.0.0.1:8240\n",
      "2024-12-10 21:29:21,534 - INFO - Remove client Client-475422a7-b735-11ef-81d3-00001049fe80\n",
      "2024-12-10 21:29:21,534 - INFO - Received 'close-stream' from tcp://127.0.0.1:8240; closing.\n",
      "2024-12-10 21:29:21,535 - INFO - Remove client Client-475422a7-b735-11ef-81d3-00001049fe80\n",
      "2024-12-10 21:29:21,537 - INFO - Close client connection: Client-475422a7-b735-11ef-81d3-00001049fe80\n",
      "2024-12-10 21:29:21,540 - INFO - Closing Nanny at 'tcp://127.0.0.1:8117'. Reason: nanny-close\n",
      "2024-12-10 21:29:21,540 - INFO - Nanny asking worker to close. Reason: nanny-close\n",
      "2024-12-10 21:29:21,541 - INFO - Closing Nanny at 'tcp://127.0.0.1:8461'. Reason: nanny-close\n",
      "2024-12-10 21:29:21,542 - INFO - Nanny asking worker to close. Reason: nanny-close\n",
      "2024-12-10 21:29:21,542 - INFO - Closing Nanny at 'tcp://127.0.0.1:8485'. Reason: nanny-close\n",
      "2024-12-10 21:29:21,544 - INFO - Nanny asking worker to close. Reason: nanny-close\n",
      "2024-12-10 21:29:21,547 - INFO - Received 'close-stream' from tcp://127.0.0.1:8212; closing.\n",
      "2024-12-10 21:29:21,548 - INFO - Received 'close-stream' from tcp://127.0.0.1:8220; closing.\n",
      "2024-12-10 21:29:21,550 - INFO - Remove worker <WorkerState 'tcp://127.0.0.1:8053', name: 0, status: closing, memory: 0, processing: 0> (stimulus_id='handle-worker-cleanup-1733862561.5502915')\n",
      "2024-12-10 21:29:21,551 - INFO - Remove worker <WorkerState 'tcp://127.0.0.1:8143', name: 1, status: closing, memory: 0, processing: 0> (stimulus_id='handle-worker-cleanup-1733862561.5514474')\n",
      "2024-12-10 21:29:21,553 - INFO - Received 'close-stream' from tcp://127.0.0.1:8228; closing.\n",
      "2024-12-10 21:29:21,554 - INFO - Remove worker <WorkerState 'tcp://127.0.0.1:8273', name: 2, status: closing, memory: 0, processing: 0> (stimulus_id='handle-worker-cleanup-1733862561.5540197')\n",
      "2024-12-10 21:29:21,554 - INFO - Lost all workers\n",
      "2024-12-10 21:29:22,101 - INFO - Scheduler closing due to unknown reason...\n",
      "2024-12-10 21:29:22,102 - INFO - Scheduler closing all comms\n"
     ]
    }
   ],
   "source": [
    "network = grnboost2(expression_data=adata.to_df(layer=\"Ms\"), tf_names=adata.var_names.to_list())\n",
    "grn_estimate = pd.pivot(network, index=\"target\", columns=\"TF\").fillna(0).values\n",
    "\n",
    "grn_correlation = [get_grn_auroc_cc(ground_truth=adata.varm[\"true_skeleton\"].toarray(), estimated=grn_estimate.T)]"
   ]
  },
  {
   "cell_type": "code",
   "execution_count": 6,
   "id": "f3a8b7ff-d08e-4031-ad7f-f77a134685c4",
   "metadata": {},
   "outputs": [],
   "source": [
    "if SAVE_DATA:\n",
    "    pd.DataFrame({\"grn\": grn_correlation}).to_parquet(\n",
    "        path=DATA_DIR / DATASET / \"results\" / \"grnboost2_correlation.parquet\"\n",
    "    )"
   ]
  },
  {
   "cell_type": "code",
   "execution_count": null,
   "id": "22c7b780-84f1-4a5e-9d8e-e23e2000acf9",
   "metadata": {},
   "outputs": [],
   "source": []
  }
 ],
 "metadata": {
  "kernelspec": {
   "display_name": "Python [conda env:regvelo_test]",
   "language": "python",
   "name": "conda-env-regvelo_test-py"
  },
  "language_info": {
   "codemirror_mode": {
    "name": "ipython",
    "version": 3
   },
   "file_extension": ".py",
   "mimetype": "text/x-python",
   "name": "python",
   "nbconvert_exporter": "python",
   "pygments_lexer": "ipython3",
   "version": "3.10.15"
  }
 },
 "nbformat": 4,
 "nbformat_minor": 5
}
