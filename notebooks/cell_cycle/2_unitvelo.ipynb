{
 "cells": [
  {
   "cell_type": "markdown",
   "id": "20d92b24-d78a-42dd-894a-d2dc9c46ddb4",
   "metadata": {},
   "source": [
    "# UniTVelo benchmark on cell cycle data\n",
    "\n",
    "Notebook benchmarks velocity, latent time inference, and cross boundary correctness using UniTVelo on cell cycle data."
   ]
  },
  {
   "cell_type": "code",
   "execution_count": null,
   "id": "3151b8f1-79ae-4aa4-bbd6-785983b23361",
   "metadata": {},
   "outputs": [],
   "source": [
    "import os\n",
    "\n",
    "import pandas as pd\n",
    "\n",
    "import anndata as ad\n",
    "import scvelo as scv\n",
    "import unitvelo as utv\n",
    "from cellrank.kernels import VelocityKernel\n",
    "\n",
    "from rgv_tools import DATA_DIR\n",
    "from rgv_tools.benchmarking import get_time_correlation"
   ]
  },
  {
   "cell_type": "markdown",
   "id": "f27bcf91-690c-4be5-8db5-2d97068468fe",
   "metadata": {},
   "source": [
    "## General settings"
   ]
  },
  {
   "cell_type": "code",
   "execution_count": null,
   "id": "83ede889-9bba-4c1c-acd2-43b8158d19fe",
   "metadata": {},
   "outputs": [],
   "source": [
    "scv.settings.verbosity = 3"
   ]
  },
  {
   "cell_type": "code",
   "execution_count": null,
   "id": "96e98878-c475-4240-8e00-1cabd60a3651",
   "metadata": {},
   "outputs": [],
   "source": [
    "velo_config = utv.config.Configuration()\n",
    "velo_config.R2_ADJUST = True\n",
    "velo_config.IROOT = None\n",
    "velo_config.FIT_OPTION = \"1\"\n",
    "velo_config.AGENES_R2 = 1\n",
    "velo_config.GPU = -1"
   ]
  },
  {
   "cell_type": "code",
   "execution_count": null,
   "id": "d9bf913e-310c-4f8e-8b23-1bd1d994df24",
   "metadata": {},
   "outputs": [],
   "source": [
    "os.environ[\"TF_USE_LEGACY_KERAS\"] = \"True\""
   ]
  },
  {
   "cell_type": "markdown",
   "id": "5f949c2a-999d-4333-8dcb-994fe40549f2",
   "metadata": {},
   "source": [
    "## Constants"
   ]
  },
  {
   "cell_type": "code",
   "execution_count": null,
   "id": "babe0778-8248-40cc-ac05-60f98d584fb1",
   "metadata": {},
   "outputs": [],
   "source": [
    "DATASET = \"cell_cycle\""
   ]
  },
  {
   "cell_type": "code",
   "execution_count": null,
   "id": "c5312e6f-a6d2-47ff-937e-b98425b9024b",
   "metadata": {},
   "outputs": [],
   "source": [
    "STATE_TRANSITIONS = [(\"G1\", \"S\"), (\"S\", \"G2M\")]"
   ]
  },
  {
   "cell_type": "code",
   "execution_count": null,
   "id": "4179ceee-5ca0-40bc-850a-767e54aeca6b",
   "metadata": {},
   "outputs": [],
   "source": [
    "SAVE_DATA = True\n",
    "if SAVE_DATA:\n",
    "    (DATA_DIR / DATASET / \"results\").mkdir(parents=True, exist_ok=True)"
   ]
  },
  {
   "cell_type": "markdown",
   "id": "ea0a93a6-a1f8-4289-b38f-99570a007ba7",
   "metadata": {},
   "source": [
    "## Data loading"
   ]
  },
  {
   "cell_type": "code",
   "execution_count": null,
   "id": "1284f60d-6100-4ace-8055-1fd1832e5563",
   "metadata": {
    "tags": []
   },
   "outputs": [],
   "source": [
    "adata = ad.io.read_h5ad(DATA_DIR / DATASET / \"processed\" / \"adata_processed.h5ad\")\n",
    "adata"
   ]
  },
  {
   "cell_type": "markdown",
   "id": "8b8fe4f5-da50-4258-b7a2-ca1eeed81b8c",
   "metadata": {},
   "source": [
    "## Velocity pipeline"
   ]
  },
  {
   "cell_type": "code",
   "execution_count": null,
   "id": "a2b97768-c0d5-4d38-b075-85f0ac9d89be",
   "metadata": {},
   "outputs": [],
   "source": [
    "adata.obs[\"cluster\"] = \"0\"\n",
    "adata = utv.run_model(adata, label=\"cluster\", config_file=velo_config)"
   ]
  },
  {
   "cell_type": "code",
   "execution_count": null,
   "id": "684d2324-0f0c-40fd-b133-b9a693a7ac6d",
   "metadata": {
    "tags": []
   },
   "outputs": [],
   "source": [
    "time_correlation = [get_time_correlation(ground_truth=adata.obs[\"fucci_time\"], estimated=adata.obs[\"latent_time\"])]"
   ]
  },
  {
   "cell_type": "code",
   "execution_count": null,
   "id": "b3ae51f7-4df3-4711-9702-60626926b26b",
   "metadata": {},
   "outputs": [],
   "source": [
    "scv.tl.velocity_graph(adata, vkey=\"velocity\", n_jobs=1)\n",
    "scv.tl.velocity_confidence(adata, vkey=\"velocity\")"
   ]
  },
  {
   "cell_type": "markdown",
   "id": "3785ea87-fd44-4b73-a8d8-3097bd92aad4",
   "metadata": {
    "tags": []
   },
   "source": [
    "## Cross-boundary correctness"
   ]
  },
  {
   "cell_type": "code",
   "execution_count": null,
   "id": "32039a58",
   "metadata": {},
   "outputs": [],
   "source": [
    "vk = VelocityKernel(adata, vkey=\"velocity\").compute_transition_matrix()\n",
    "\n",
    "cluster_key = \"phase\"\n",
    "rep = \"X_pca\"\n",
    "\n",
    "score_df = []\n",
    "for source, target in STATE_TRANSITIONS:\n",
    "    cbc = vk.cbc(source=source, target=target, cluster_key=cluster_key, rep=rep)\n",
    "\n",
    "    score_df.append(\n",
    "        pd.DataFrame(\n",
    "            {\n",
    "                \"State transition\": [f\"{source} - {target}\"] * len(cbc),\n",
    "                \"CBC\": cbc,\n",
    "            }\n",
    "        )\n",
    "    )\n",
    "score_df = pd.concat(score_df)"
   ]
  },
  {
   "cell_type": "markdown",
   "id": "8ab5a855-92ae-421c-9822-ff1dc529df17",
   "metadata": {},
   "source": [
    "## Data saving"
   ]
  },
  {
   "cell_type": "code",
   "execution_count": null,
   "id": "cf4d362e",
   "metadata": {},
   "outputs": [],
   "source": [
    "if SAVE_DATA:\n",
    "    pd.DataFrame({\"time\": time_correlation}, index=adata.obs_names).to_parquet(\n",
    "        path=DATA_DIR / DATASET / \"results\" / \"unitvelo_correlation.parquet\"\n",
    "    )\n",
    "    adata.obs[[\"velocity_confidence\"]].to_parquet(path=DATA_DIR / DATASET / \"results\" / \"unitvelo_confidence.parquet\")\n",
    "    score_df.to_parquet(path=DATA_DIR / DATASET / \"results\" / \"unitvelo_cbc.parquet\")"
   ]
  }
 ],
 "metadata": {
  "kernelspec": {
   "display_name": "Python [conda env:regvelo_test]",
   "language": "python",
   "name": "conda-env-regvelo_test-py"
  },
  "language_info": {
   "codemirror_mode": {
    "name": "ipython",
    "version": 3
   },
   "file_extension": ".py",
   "mimetype": "text/x-python",
   "name": "python",
   "nbconvert_exporter": "python",
   "pygments_lexer": "ipython3",
   "version": "3.10.15"
  }
 },
 "nbformat": 4,
 "nbformat_minor": 5
}
