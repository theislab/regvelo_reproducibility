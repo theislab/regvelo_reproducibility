{
 "cells": [
  {
   "cell_type": "markdown",
   "id": "f28d76cc",
   "metadata": {},
   "source": [
    "# veloVAE (VAE) benchmark on cell cycle data\n",
    "\n",
    "Notebook benchmarks velocity, latent time inference, and cross boundary correctness using veloVAE (VAE) on cell cycle data."
   ]
  },
  {
   "cell_type": "code",
   "execution_count": null,
   "id": "40b2ac06-c715-4506-a843-cf44bfac0f7f",
   "metadata": {},
   "outputs": [],
   "source": [
    "import velovae as vv\n",
    "\n",
    "import numpy as np\n",
    "import pandas as pd\n",
    "import torch\n",
    "\n",
    "import anndata as ad\n",
    "import scvelo as scv\n",
    "from cellrank.kernels import VelocityKernel\n",
    "\n",
    "from rgv_tools import DATA_DIR\n",
    "from rgv_tools.benchmarking import get_time_correlation"
   ]
  },
  {
   "cell_type": "markdown",
   "id": "fe1f58bf-ee46-4ce9-958b-4ec22d49350a",
   "metadata": {},
   "source": [
    "## General settings"
   ]
  },
  {
   "cell_type": "code",
   "execution_count": null,
   "id": "6560f32c-8721-49c7-886e-0f2eacafba24",
   "metadata": {},
   "outputs": [],
   "source": [
    "scv.settings.verbosity = 3"
   ]
  },
  {
   "cell_type": "markdown",
   "id": "f5e274bb-5232-41e1-a48f-5c85f1d98b06",
   "metadata": {},
   "source": [
    "## Constants"
   ]
  },
  {
   "cell_type": "code",
   "execution_count": null,
   "id": "4fd058ac-68dd-4a29-8707-2f82664749c6",
   "metadata": {},
   "outputs": [],
   "source": [
    "torch.manual_seed(0)\n",
    "np.random.seed(0)"
   ]
  },
  {
   "cell_type": "code",
   "execution_count": null,
   "id": "4bc959e9-2c40-4ced-b2f0-ab92fef7860e",
   "metadata": {},
   "outputs": [],
   "source": [
    "DATASET = \"cell_cycle\""
   ]
  },
  {
   "cell_type": "code",
   "execution_count": null,
   "id": "094496df-0b8f-41f9-9fa2-064c627f6f5f",
   "metadata": {},
   "outputs": [],
   "source": [
    "STATE_TRANSITIONS = [(\"G1\", \"S\"), (\"S\", \"G2M\")]"
   ]
  },
  {
   "cell_type": "code",
   "execution_count": null,
   "id": "6d925b31-c39b-4826-8c02-c30a68e7e505",
   "metadata": {},
   "outputs": [],
   "source": [
    "SAVE_DATA = True\n",
    "if SAVE_DATA:\n",
    "    (DATA_DIR / DATASET / \"results\").mkdir(parents=True, exist_ok=True)\n",
    "    (DATA_DIR / DATASET / \"processed\" / \"velovae_vae\").mkdir(parents=True, exist_ok=True)"
   ]
  },
  {
   "cell_type": "markdown",
   "id": "ae052e1d-0925-4ae9-a55d-f51ec79a7a76",
   "metadata": {},
   "source": [
    "## Data loading"
   ]
  },
  {
   "cell_type": "code",
   "execution_count": null,
   "id": "c1611eeb-4066-4578-a7a2-2730696a423d",
   "metadata": {},
   "outputs": [],
   "source": [
    "adata = ad.io.read_h5ad(DATA_DIR / DATASET / \"processed\" / \"adata_processed.h5ad\")\n",
    "adata"
   ]
  },
  {
   "cell_type": "markdown",
   "id": "2379e5fb-0b6f-4ea2-b349-8ee567c962a5",
   "metadata": {},
   "source": [
    "## Velocity pipeline"
   ]
  },
  {
   "cell_type": "code",
   "execution_count": null,
   "id": "2f175601-671f-4362-942e-372967ff2b3e",
   "metadata": {},
   "outputs": [],
   "source": [
    "vae = vv.VAE(adata, tmax=20, dim_z=5, device=\"cuda:0\")\n",
    "config = {}\n",
    "vae.train(adata, config=config, plot=False, embed=\"pca\")\n",
    "\n",
    "if SAVE_DATA:\n",
    "    vae.save_model(DATA_DIR / DATASET / \"processed\" / \"velovae_vae\", \"encoder_vae\", \"decoder_vae\")\n",
    "    vae.save_anndata(adata, \"vae\", DATA_DIR / DATASET / \"processed\" / \"velovae_vae\", file_name=\"velovae.h5ad\")"
   ]
  },
  {
   "cell_type": "code",
   "execution_count": null,
   "id": "684d2324-0f0c-40fd-b133-b9a693a7ac6d",
   "metadata": {},
   "outputs": [],
   "source": [
    "time_correlation = [get_time_correlation(ground_truth=adata.obs[\"fucci_time\"], estimated=adata.obs[\"vae_time\"])]"
   ]
  },
  {
   "cell_type": "code",
   "execution_count": null,
   "id": "b3ae51f7-4df3-4711-9702-60626926b26b",
   "metadata": {},
   "outputs": [],
   "source": [
    "scv.tl.velocity_graph(adata, vkey=\"fullvb_velocity\", n_jobs=1)\n",
    "scv.tl.velocity_confidence(adata, vkey=\"fullvb_velocity\")"
   ]
  },
  {
   "cell_type": "markdown",
   "id": "c76f3d9e-7e55-4dbb-9715-9f8eb35fcf2e",
   "metadata": {
    "tags": []
   },
   "source": [
    "## Cross-boundary correctness"
   ]
  },
  {
   "cell_type": "code",
   "execution_count": null,
   "id": "32039a58",
   "metadata": {},
   "outputs": [],
   "source": [
    "vk = VelocityKernel(adata, vkey=\"vae_velocity\").compute_transition_matrix()\n",
    "\n",
    "cluster_key = \"phase\"\n",
    "rep = \"X_pca\"\n",
    "\n",
    "score_df = []\n",
    "for source, target in STATE_TRANSITIONS:\n",
    "    cbc = vk.cbc(source=source, target=target, cluster_key=cluster_key, rep=rep)\n",
    "\n",
    "    score_df.append(\n",
    "        pd.DataFrame(\n",
    "            {\n",
    "                \"State transition\": [f\"{source} - {target}\"] * len(cbc),\n",
    "                \"CBC\": cbc,\n",
    "            }\n",
    "        )\n",
    "    )\n",
    "score_df = pd.concat(score_df)"
   ]
  },
  {
   "cell_type": "markdown",
   "id": "0a3b62cb-1f01-4512-98f9-51cc532ac57f",
   "metadata": {},
   "source": [
    "## Data saving"
   ]
  },
  {
   "cell_type": "code",
   "execution_count": null,
   "id": "cf4d362e",
   "metadata": {},
   "outputs": [],
   "source": [
    "if SAVE_DATA:\n",
    "    pd.DataFrame({\"time\": time_correlation}, index=adata.obs_names).to_parquet(\n",
    "        path=DATA_DIR / DATASET / \"results\" / \"velovae_vae_correlation.parquet\"\n",
    "    )\n",
    "    adata.obs[[\"velocity_confidence\"]].to_parquet(\n",
    "        path=DATA_DIR / DATASET / \"results\" / \"velovae_vae_confidence.parquet\"\n",
    "    )\n",
    "    score_df.to_parquet(path=DATA_DIR / DATASET / \"results\" / \"velovae_vae_cbc.parquet\")"
   ]
  }
 ],
 "metadata": {
  "kernelspec": {
   "display_name": "Python [conda env:regvelo_test]",
   "language": "python",
   "name": "conda-env-regvelo_test-py"
  },
  "language_info": {
   "codemirror_mode": {
    "name": "ipython",
    "version": 3
   },
   "file_extension": ".py",
   "mimetype": "text/x-python",
   "name": "python",
   "nbconvert_exporter": "python",
   "pygments_lexer": "ipython3",
   "version": "3.10.15"
  }
 },
 "nbformat": 4,
 "nbformat_minor": 5
}
