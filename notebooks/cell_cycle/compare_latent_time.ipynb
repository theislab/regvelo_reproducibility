{
 "cells": [
  {
   "cell_type": "markdown",
   "id": "bcb64baf-815a-456f-ba1f-6dcf45cd6b3b",
   "metadata": {},
   "source": [
    "# Comparing regvelo and velovi inferred latent time\n",
    "\n",
    "Notebook compare latent time inference"
   ]
  },
  {
   "cell_type": "markdown",
   "id": "db02960c-9ba7-443f-8cc4-f50497bdbe3c",
   "metadata": {},
   "source": [
    "## Library imports"
   ]
  },
  {
   "cell_type": "code",
   "execution_count": 1,
   "id": "b5298460-1aab-4953-b7dc-e245495d6527",
   "metadata": {},
   "outputs": [
    {
     "name": "stderr",
     "output_type": "stream",
     "text": [
      "/home/icb/weixu.wang/miniconda3/envs/regvelo_test/lib/python3.10/site-packages/anndata/utils.py:429: FutureWarning: Importing read_csv from `anndata` is deprecated. Import anndata.io.read_csv instead.\n",
      "  warnings.warn(msg, FutureWarning)\n",
      "/home/icb/weixu.wang/miniconda3/envs/regvelo_test/lib/python3.10/site-packages/anndata/utils.py:429: FutureWarning: Importing read_loom from `anndata` is deprecated. Import anndata.io.read_loom instead.\n",
      "  warnings.warn(msg, FutureWarning)\n",
      "/home/icb/weixu.wang/miniconda3/envs/regvelo_test/lib/python3.10/site-packages/anndata/utils.py:429: FutureWarning: Importing read_text from `anndata` is deprecated. Import anndata.io.read_text instead.\n",
      "  warnings.warn(msg, FutureWarning)\n",
      "/home/icb/weixu.wang/miniconda3/envs/regvelo_test/lib/python3.10/site-packages/anndata/utils.py:429: FutureWarning: Importing CSCDataset from `anndata.experimental` is deprecated. Import anndata.abc.CSCDataset instead.\n",
      "  warnings.warn(msg, FutureWarning)\n",
      "/home/icb/weixu.wang/miniconda3/envs/regvelo_test/lib/python3.10/site-packages/anndata/utils.py:429: FutureWarning: Importing CSRDataset from `anndata.experimental` is deprecated. Import anndata.abc.CSRDataset instead.\n",
      "  warnings.warn(msg, FutureWarning)\n",
      "/home/icb/weixu.wang/miniconda3/envs/regvelo_test/lib/python3.10/site-packages/anndata/utils.py:429: FutureWarning: Importing read_elem from `anndata.experimental` is deprecated. Import anndata.io.read_elem instead.\n",
      "  warnings.warn(msg, FutureWarning)\n",
      "/home/icb/weixu.wang/miniconda3/envs/regvelo_test/lib/python3.10/site-packages/anndata/utils.py:429: FutureWarning: Importing read_csv from `anndata` is deprecated. Import anndata.io.read_csv instead.\n",
      "  warnings.warn(msg, FutureWarning)\n",
      "/home/icb/weixu.wang/miniconda3/envs/regvelo_test/lib/python3.10/site-packages/anndata/utils.py:429: FutureWarning: Importing read_excel from `anndata` is deprecated. Import anndata.io.read_excel instead.\n",
      "  warnings.warn(msg, FutureWarning)\n",
      "/home/icb/weixu.wang/miniconda3/envs/regvelo_test/lib/python3.10/site-packages/anndata/utils.py:429: FutureWarning: Importing read_hdf from `anndata` is deprecated. Import anndata.io.read_hdf instead.\n",
      "  warnings.warn(msg, FutureWarning)\n",
      "/home/icb/weixu.wang/miniconda3/envs/regvelo_test/lib/python3.10/site-packages/anndata/utils.py:429: FutureWarning: Importing read_loom from `anndata` is deprecated. Import anndata.io.read_loom instead.\n",
      "  warnings.warn(msg, FutureWarning)\n",
      "/home/icb/weixu.wang/miniconda3/envs/regvelo_test/lib/python3.10/site-packages/anndata/utils.py:429: FutureWarning: Importing read_mtx from `anndata` is deprecated. Import anndata.io.read_mtx instead.\n",
      "  warnings.warn(msg, FutureWarning)\n",
      "/home/icb/weixu.wang/miniconda3/envs/regvelo_test/lib/python3.10/site-packages/anndata/utils.py:429: FutureWarning: Importing read_text from `anndata` is deprecated. Import anndata.io.read_text instead.\n",
      "  warnings.warn(msg, FutureWarning)\n",
      "/home/icb/weixu.wang/miniconda3/envs/regvelo_test/lib/python3.10/site-packages/anndata/utils.py:429: FutureWarning: Importing read_umi_tools from `anndata` is deprecated. Import anndata.io.read_umi_tools instead.\n",
      "  warnings.warn(msg, FutureWarning)\n"
     ]
    }
   ],
   "source": [
    "import random\n",
    "\n",
    "import numpy as np\n",
    "import pandas as pd\n",
    "from scipy.stats import wilcoxon\n",
    "from sklearn.metrics.pairwise import cosine_similarity\n",
    "\n",
    "import matplotlib.pyplot as plt\n",
    "import mplscience\n",
    "import seaborn as sns\n",
    "\n",
    "import anndata as ad\n",
    "import scvelo as scv\n",
    "import scvi\n",
    "from regvelo import REGVELOVI\n",
    "from velovi import VELOVI\n",
    "\n",
    "from rgv_tools import DATA_DIR, FIG_DIR\n",
    "from rgv_tools.benchmarking import set_output\n",
    "from rgv_tools.core import METHOD_PALETTE\n",
    "from rgv_tools.plotting import get_significance"
   ]
  },
  {
   "cell_type": "markdown",
   "id": "ac344cd8-38f6-491a-bcde-e0b1b17193f6",
   "metadata": {},
   "source": [
    "## General settings"
   ]
  },
  {
   "cell_type": "code",
   "execution_count": 2,
   "id": "f4f1e6b9-d6e1-4614-b338-07e8d14fe52e",
   "metadata": {
    "lines_to_next_cell": 2
   },
   "outputs": [],
   "source": [
    "scvi.settings.dl_pin_memory_gpu_training = False"
   ]
  },
  {
   "cell_type": "markdown",
   "id": "dd258e46-ed13-4f04-b90f-5d991716885c",
   "metadata": {
    "lines_to_next_cell": 2
   },
   "source": [
    "## Function defination"
   ]
  },
  {
   "cell_type": "code",
   "execution_count": 3,
   "id": "90afc2e5-3cb7-46da-9b79-0169aaafbc19",
   "metadata": {},
   "outputs": [],
   "source": [
    "def compute_confidence(adata, vkey=\"velocity\"):\n",
    "    \"\"\"Compute confidence.\"\"\"\n",
    "    adata.layers[vkey]\n",
    "    scv.tl.velocity_graph(adata, vkey=vkey, n_jobs=1)\n",
    "    scv.tl.velocity_confidence(adata, vkey=vkey)\n",
    "\n",
    "    g_df = pd.DataFrame()\n",
    "    g_df[\"Latent time consistency\"] = adata.obs[f\"{vkey}_confidence\"].to_numpy().ravel()\n",
    "\n",
    "    return g_df"
   ]
  },
  {
   "cell_type": "markdown",
   "id": "a23db78a-8cbc-41ee-a8af-4f61e367cd2f",
   "metadata": {},
   "source": [
    "## Constants"
   ]
  },
  {
   "cell_type": "code",
   "execution_count": 4,
   "id": "ecbad9e2-1783-4c59-9117-baec5e43e30b",
   "metadata": {},
   "outputs": [],
   "source": [
    "DATASET = \"cell_cycle\""
   ]
  },
  {
   "cell_type": "code",
   "execution_count": 5,
   "id": "d4bbbd85-db74-49a5-ace1-d11b6aa65e74",
   "metadata": {},
   "outputs": [],
   "source": [
    "significance_palette = {\"n.s.\": \"#dedede\", \"*\": \"#90BAAD\", \"**\": \"#A1E5AB\", \"***\": \"#ADF6B1\"}"
   ]
  },
  {
   "cell_type": "code",
   "execution_count": 6,
   "id": "278d1b20-73a3-48a3-9fea-ee48d5658a7a",
   "metadata": {},
   "outputs": [],
   "source": [
    "STATE_TRANSITIONS = [(\"G1\", \"S\"), (\"S\", \"G2M\")]"
   ]
  },
  {
   "cell_type": "code",
   "execution_count": 7,
   "id": "26e772d1-de8a-44d4-9ef4-c5257db942f7",
   "metadata": {},
   "outputs": [],
   "source": [
    "SAVE_DATA = True\n",
    "SAVE_FIGURES = True\n",
    "\n",
    "if SAVE_DATA:\n",
    "    (DATA_DIR / DATASET / \"results\").mkdir(parents=True, exist_ok=True)\n",
    "if SAVE_FIGURES:\n",
    "    (FIG_DIR / DATASET / \"results\").mkdir(parents=True, exist_ok=True)"
   ]
  },
  {
   "cell_type": "markdown",
   "id": "7c77cb39-09d1-402e-86f1-afe82f91da19",
   "metadata": {},
   "source": [
    "## Data loading"
   ]
  },
  {
   "cell_type": "code",
   "execution_count": 8,
   "id": "be8d20ba-6960-4870-a654-ee8a776170ad",
   "metadata": {
    "tags": []
   },
   "outputs": [
    {
     "data": {
      "text/plain": [
       "AnnData object with n_obs × n_vars = 1146 × 395\n",
       "    obs: 'phase', 'fucci_time', 'initial_size_unspliced', 'initial_size_spliced', 'initial_size', 'n_counts'\n",
       "    var: 'ensum_id', 'gene_count_corr', 'means', 'dispersions', 'dispersions_norm', 'highly_variable', 'velocity_gamma', 'velocity_qreg_ratio', 'velocity_r2', 'velocity_genes'\n",
       "    uns: 'log1p', 'neighbors', 'pca', 'umap', 'velocity_params'\n",
       "    obsm: 'X_pca', 'X_umap'\n",
       "    varm: 'PCs', 'true_skeleton'\n",
       "    layers: 'Ms', 'Mu', 'spliced', 'total', 'unspliced', 'velocity'\n",
       "    obsp: 'connectivities', 'distances'"
      ]
     },
     "execution_count": 8,
     "metadata": {},
     "output_type": "execute_result"
    }
   ],
   "source": [
    "adata = ad.io.read_h5ad(DATA_DIR / DATASET / \"processed\" / \"adata_processed.h5ad\")\n",
    "adata"
   ]
  },
  {
   "cell_type": "markdown",
   "id": "3ef70c84-f84b-4572-9d3a-9c4d9b9b96c4",
   "metadata": {},
   "source": [
    "## Model loading"
   ]
  },
  {
   "cell_type": "code",
   "execution_count": 9,
   "id": "8053688c-c969-417c-9dc6-9595a33ce2fa",
   "metadata": {},
   "outputs": [
    {
     "name": "stderr",
     "output_type": "stream",
     "text": [
      "/home/icb/weixu.wang/miniconda3/envs/regvelo_test/lib/python3.10/site-packages/lightning/fabric/plugins/environments/slurm.py:204: The `srun` command is available on your system but is not used. HINT: If your intention is to run Lightning on SLURM, prepend your python command with `srun` like so: srun python /home/icb/weixu.wang/miniconda3/envs/regvelo_test/li ...\n"
     ]
    },
    {
     "name": "stdout",
     "output_type": "stream",
     "text": [
      "\u001b[34mINFO    \u001b[0m File \u001b[35m/ictstr01/home/icb/weixu.wang/regulatory_velo/data/cell_cycle/regvelo_model/\u001b[0m\u001b[95mmodel.pt\u001b[0m already         \n",
      "         downloaded                                                                                                \n"
     ]
    }
   ],
   "source": [
    "vae = REGVELOVI.load(DATA_DIR / DATASET / \"regvelo_model\", adata)"
   ]
  },
  {
   "cell_type": "code",
   "execution_count": 10,
   "id": "78d5657e-fc5b-4b99-9884-27507386910d",
   "metadata": {},
   "outputs": [],
   "source": [
    "set_output(adata, vae, n_samples=30, batch_size=adata.n_obs)\n",
    "adata_regvelo = adata.copy()"
   ]
  },
  {
   "cell_type": "markdown",
   "id": "25e3c370-fb3a-44fe-8b60-53c48ce35893",
   "metadata": {},
   "source": [
    "## Running veloVI as baseline"
   ]
  },
  {
   "cell_type": "code",
   "execution_count": 11,
   "id": "bfdb286f-8269-4fe2-a6a7-d9d27f22f85e",
   "metadata": {},
   "outputs": [
    {
     "name": "stderr",
     "output_type": "stream",
     "text": [
      "/home/icb/weixu.wang/miniconda3/envs/regvelo_test/lib/python3.10/site-packages/lightning/fabric/plugins/environments/slurm.py:204: The `srun` command is available on your system but is not used. HINT: If your intention is to run Lightning on SLURM, prepend your python command with `srun` like so: srun python /home/icb/weixu.wang/miniconda3/envs/regvelo_test/li ...\n",
      "/home/icb/weixu.wang/miniconda3/envs/regvelo_test/lib/python3.10/site-packages/lightning/fabric/plugins/environments/slurm.py:204: The `srun` command is available on your system but is not used. HINT: If your intention is to run Lightning on SLURM, prepend your python command with `srun` like so: srun python /home/icb/weixu.wang/miniconda3/envs/regvelo_test/li ...\n",
      "GPU available: True (cuda), used: True\n",
      "TPU available: False, using: 0 TPU cores\n",
      "HPU available: False, using: 0 HPUs\n",
      "/home/icb/weixu.wang/miniconda3/envs/regvelo_test/lib/python3.10/site-packages/lightning/fabric/plugins/environments/slurm.py:204: The `srun` command is available on your system but is not used. HINT: If your intention is to run Lightning on SLURM, prepend your python command with `srun` like so: srun python /home/icb/weixu.wang/miniconda3/envs/regvelo_test/li ...\n",
      "LOCAL_RANK: 0 - CUDA_VISIBLE_DEVICES: [0]\n",
      "/home/icb/weixu.wang/miniconda3/envs/regvelo_test/lib/python3.10/site-packages/lightning/pytorch/trainer/connectors/data_connector.py:424: The 'train_dataloader' does not have many workers which may be a bottleneck. Consider increasing the value of the `num_workers` argument` to `num_workers=5` in the `DataLoader` to improve performance.\n",
      "/home/icb/weixu.wang/miniconda3/envs/regvelo_test/lib/python3.10/site-packages/lightning/pytorch/loops/fit_loop.py:298: The number of training batches (5) is smaller than the logging interval Trainer(log_every_n_steps=10). Set a lower value for log_every_n_steps if you want to see logs for the training epoch.\n",
      "/home/icb/weixu.wang/miniconda3/envs/regvelo_test/lib/python3.10/site-packages/lightning/pytorch/trainer/connectors/data_connector.py:424: The 'val_dataloader' does not have many workers which may be a bottleneck. Consider increasing the value of the `num_workers` argument` to `num_workers=5` in the `DataLoader` to improve performance.\n"
     ]
    },
    {
     "data": {
      "application/vnd.jupyter.widget-view+json": {
       "model_id": "6fd6760c192748d0a6c196957b8d20d6",
       "version_major": 2,
       "version_minor": 0
      },
      "text/plain": [
       "Training:   0%|          | 0/1500 [00:00<?, ?it/s]"
      ]
     },
     "metadata": {},
     "output_type": "display_data"
    },
    {
     "name": "stdout",
     "output_type": "stream",
     "text": [
      "Monitored metric elbo_validation did not improve in the last 45 records. Best score: -539.276. Signaling Trainer to stop.\n"
     ]
    }
   ],
   "source": [
    "VELOVI.setup_anndata(adata, spliced_layer=\"Ms\", unspliced_layer=\"Mu\")\n",
    "vae = VELOVI(adata)\n",
    "vae.train(max_epochs=1500)"
   ]
  },
  {
   "cell_type": "code",
   "execution_count": 12,
   "id": "993f10e0-d008-4d0f-85dc-7ea38a9795a5",
   "metadata": {},
   "outputs": [],
   "source": [
    "set_output(adata, vae, n_samples=30)\n",
    "adata_velovi = adata.copy()"
   ]
  },
  {
   "cell_type": "markdown",
   "id": "836d0fad-310a-4966-be10-220178a7c046",
   "metadata": {},
   "source": [
    "## replacing velocity as the latent time"
   ]
  },
  {
   "cell_type": "code",
   "execution_count": 13,
   "id": "a9574cbb-74e3-4c30-9a1f-4502ec58be94",
   "metadata": {},
   "outputs": [
    {
     "name": "stdout",
     "output_type": "stream",
     "text": [
      "computing velocity graph (using 1/112 cores)\n"
     ]
    },
    {
     "data": {
      "application/vnd.jupyter.widget-view+json": {
       "model_id": "b8af009427514e74a23100ab43038f65",
       "version_major": 2,
       "version_minor": 0
      },
      "text/plain": [
       "  0%|          | 0/1146 [00:00<?, ?cells/s]"
      ]
     },
     "metadata": {},
     "output_type": "display_data"
    },
    {
     "name": "stdout",
     "output_type": "stream",
     "text": [
      "    finished (0:00:01) --> added \n",
      "    'fit_t_graph', sparse matrix with cosine correlations (adata.uns)\n",
      "--> added 'fit_t_length' (adata.obs)\n",
      "--> added 'fit_t_confidence' (adata.obs)\n",
      "--> added 'fit_t_confidence_transition' (adata.obs)\n",
      "computing velocity graph (using 1/112 cores)\n"
     ]
    },
    {
     "data": {
      "application/vnd.jupyter.widget-view+json": {
       "model_id": "c896ea1ea02a40908de3803a7e309260",
       "version_major": 2,
       "version_minor": 0
      },
      "text/plain": [
       "  0%|          | 0/1146 [00:00<?, ?cells/s]"
      ]
     },
     "metadata": {},
     "output_type": "display_data"
    },
    {
     "name": "stdout",
     "output_type": "stream",
     "text": [
      "    finished (0:00:01) --> added \n",
      "    'fit_t_graph', sparse matrix with cosine correlations (adata.uns)\n",
      "--> added 'fit_t_length' (adata.obs)\n",
      "--> added 'fit_t_confidence' (adata.obs)\n",
      "--> added 'fit_t_confidence_transition' (adata.obs)\n"
     ]
    }
   ],
   "source": [
    "dfs = []\n",
    "\n",
    "g_df = compute_confidence(adata_regvelo, vkey=\"fit_t\")\n",
    "g_df[\"Dataset\"] = \"Cell cycle\"\n",
    "g_df[\"Method\"] = \"regvelo\"\n",
    "dfs.append(g_df)\n",
    "\n",
    "g_df = compute_confidence(adata_velovi, vkey=\"fit_t\")\n",
    "g_df[\"Dataset\"] = \"Cell cycle\"\n",
    "g_df[\"Method\"] = \"velovi\"\n",
    "dfs.append(g_df)\n",
    "\n",
    "conf_df = pd.concat(dfs, axis=0)"
   ]
  },
  {
   "cell_type": "code",
   "execution_count": 14,
   "id": "5ac45ef3-a7c9-4eb5-8c53-1daed7521c23",
   "metadata": {},
   "outputs": [
    {
     "data": {
      "image/png": "[encoded data removed]",
      "text/plain": [
       "<Figure size 300x300 with 1 Axes>"
      ]
     },
     "metadata": {},
     "output_type": "display_data"
    }
   ],
   "source": [
    "with mplscience.style_context():\n",
    "    sns.set_style(style=\"whitegrid\")\n",
    "    fig, ax = plt.subplots(figsize=(3, 3))\n",
    "\n",
    "    sns.violinplot(\n",
    "        data=conf_df,\n",
    "        ax=ax,\n",
    "        # orient=\"h\",\n",
    "        x=\"Method\",\n",
    "        y=\"Latent time consistency\",\n",
    "        order=[\"regvelo\", \"velovi\"],\n",
    "        palette=METHOD_PALETTE,\n",
    "    )\n",
    "    # plt.legend(title='', loc='lower center', bbox_to_anchor=(0.5, -0.6), ncol=3)\n",
    "    ax.set_yticks([0.25, 0.5, 0.75, 1.0])\n",
    "    ax.set_yticklabels([0.25, 0.5, 0.75, 1.0])\n",
    "    plt.xlabel(\"\")\n",
    "\n",
    "    if SAVE_FIGURES:\n",
    "        fig.savefig(\n",
    "            FIG_DIR / DATASET / \"Latent_time_consistency.svg\", format=\"svg\", transparent=True, bbox_inches=\"tight\"\n",
    "        )\n",
    "    plt.show()"
   ]
  },
  {
   "cell_type": "markdown",
   "id": "4186c450-972b-4650-b59d-aba01f2d6da8",
   "metadata": {},
   "source": [
    "## Calculate fold change"
   ]
  },
  {
   "cell_type": "code",
   "execution_count": 15,
   "id": "ded3adfa-40ac-4107-985d-34d06c5f5d88",
   "metadata": {},
   "outputs": [],
   "source": [
    "graph = adata.obsp[\"connectivities\"].A"
   ]
  },
  {
   "cell_type": "code",
   "execution_count": 16,
   "id": "d78e42e2-7793-4471-b452-928f60dc296d",
   "metadata": {},
   "outputs": [],
   "source": [
    "Time_FC = []\n",
    "for i in range(graph.shape[0]):\n",
    "    v = adata_regvelo[i].layers[\"fit_t\"]\n",
    "    m = adata_regvelo[graph[i, :] != 0].layers[\"fit_t\"]\n",
    "    cos_similarities = cosine_similarity(v, m)\n",
    "\n",
    "    ## randomly sample each number of cells\n",
    "    indices = random.sample(range(0, adata.shape[0]), m.shape[0])\n",
    "    m = adata_regvelo[indices].layers[\"fit_t\"]\n",
    "    cos_similarities_random = cosine_similarity(v, m)\n",
    "\n",
    "    FC = np.mean(cos_similarities) / np.mean(cos_similarities_random)\n",
    "    Time_FC.append(FC)"
   ]
  },
  {
   "cell_type": "code",
   "execution_count": 17,
   "id": "62defc96-823b-411e-b6f0-5791c4f972ed",
   "metadata": {},
   "outputs": [
    {
     "data": {
      "text/plain": [
       "2.592628865738403e-189"
      ]
     },
     "execution_count": 17,
     "metadata": {},
     "output_type": "execute_result"
    }
   ],
   "source": [
    "b = np.zeros(len(Time_FC))\n",
    "_, p_value = wilcoxon(Time_FC, b, alternative=\"greater\")\n",
    "p_value"
   ]
  },
  {
   "cell_type": "code",
   "execution_count": 18,
   "id": "cf752b79-0004-4ebb-9ddb-84085ffb0fbb",
   "metadata": {},
   "outputs": [
    {
     "data": {
      "image/png": "[encoded data removed]",
      "text/plain": [
       "<Figure size 200x300 with 1 Axes>"
      ]
     },
     "metadata": {},
     "output_type": "display_data"
    }
   ],
   "source": [
    "b = np.zeros(len(Time_FC))\n",
    "_, p_value = wilcoxon(Time_FC, b, alternative=\"greater\")\n",
    "significance = get_significance(p_value)\n",
    "palette = significance_palette[significance]\n",
    "\n",
    "# Step 3: Create the boxplot\n",
    "with mplscience.style_context():\n",
    "    sns.set_style(style=\"whitegrid\")\n",
    "    fig, axes = plt.subplots(figsize=(2, 3))\n",
    "\n",
    "    # Step 4: Color based on significance\n",
    "\n",
    "    sns.violinplot(data=Time_FC, color=palette)\n",
    "\n",
    "    # Add titles and labels\n",
    "    plt.xlabel(\"Ery\")\n",
    "    plt.ylabel(\"Log ratio\")\n",
    "\n",
    "    fig.tight_layout()\n",
    "    plt.show()\n",
    "\n",
    "    if SAVE_FIGURES:\n",
    "        fig.savefig(\n",
    "            FIG_DIR / DATASET / \"Latent_time_consistency_test.svg\",\n",
    "            format=\"svg\",\n",
    "            transparent=True,\n",
    "            bbox_inches=\"tight\",\n",
    "        )"
   ]
  },
  {
   "cell_type": "code",
   "execution_count": null,
   "id": "27b17fca-cae7-4a05-9952-c887e0597b03",
   "metadata": {},
   "outputs": [],
   "source": []
  }
 ],
 "metadata": {
  "kernelspec": {
   "display_name": "Python [conda env:regvelo_test]",
   "language": "python",
   "name": "conda-env-regvelo_test-py"
  },
  "language_info": {
   "codemirror_mode": {
    "name": "ipython",
    "version": 3
   },
   "file_extension": ".py",
   "mimetype": "text/x-python",
   "name": "python",
   "nbconvert_exporter": "python",
   "pygments_lexer": "ipython3",
   "version": "3.10.15"
  }
 },
 "nbformat": 4,
 "nbformat_minor": 5
}
