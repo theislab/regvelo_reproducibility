{
 "cells": [
  {
   "cell_type": "markdown",
   "id": "e1f67730-b0f9-4cbd-ac19-1f0c85c261f7",
   "metadata": {},
   "source": [
    "# Regulation is important for velocity inference of RegVelo"
   ]
  },
  {
   "cell_type": "markdown",
   "id": "591a5155-1d6a-436c-ad21-ac8cf688340d",
   "metadata": {},
   "source": [
    "## Library imports"
   ]
  },
  {
   "cell_type": "code",
   "execution_count": 1,
   "id": "924e9584-6677-46d0-b5bf-a81bfe619c21",
   "metadata": {},
   "outputs": [
    {
     "name": "stderr",
     "output_type": "stream",
     "text": [
      "2024-08-29 18:17:38.011518: I tensorflow/core/util/port.cc:111] oneDNN custom operations are on. You may see slightly different numerical results due to floating-point round-off errors from different computation orders. To turn them off, set the environment variable `TF_ENABLE_ONEDNN_OPTS=0`.\n",
      "2024-08-29 18:17:42.153276: E tensorflow/compiler/xla/stream_executor/cuda/cuda_dnn.cc:9342] Unable to register cuDNN factory: Attempting to register factory for plugin cuDNN when one has already been registered\n",
      "2024-08-29 18:17:42.153534: E tensorflow/compiler/xla/stream_executor/cuda/cuda_fft.cc:609] Unable to register cuFFT factory: Attempting to register factory for plugin cuFFT when one has already been registered\n",
      "2024-08-29 18:17:42.158355: E tensorflow/compiler/xla/stream_executor/cuda/cuda_blas.cc:1518] Unable to register cuBLAS factory: Attempting to register factory for plugin cuBLAS when one has already been registered\n",
      "2024-08-29 18:17:43.117300: I tensorflow/core/platform/cpu_feature_guard.cc:182] This TensorFlow binary is optimized to use available CPU instructions in performance-critical operations.\n",
      "To enable the following instructions: AVX2 AVX512F AVX512_VNNI FMA, in other operations, rebuild TensorFlow with the appropriate compiler flags.\n",
      "2024-08-29 18:18:22.911652: W tensorflow/compiler/tf2tensorrt/utils/py_utils.cc:38] TF-TRT Warning: Could not find TensorRT\n",
      "[rank: 0] Global seed set to 0\n",
      "/home/icb/weixu.wang/miniconda3/envs/RegVelo/lib/python3.9/site-packages/flax/struct.py:132: FutureWarning: jax.tree_util.register_keypaths is deprecated, and will be removed in a future release. Please use `register_pytree_with_keys()` instead.\n",
      "  jax.tree_util.register_keypaths(data_clz, keypaths)\n",
      "/home/icb/weixu.wang/miniconda3/envs/RegVelo/lib/python3.9/site-packages/flax/struct.py:132: FutureWarning: jax.tree_util.register_keypaths is deprecated, and will be removed in a future release. Please use `register_pytree_with_keys()` instead.\n",
      "  jax.tree_util.register_keypaths(data_clz, keypaths)\n"
     ]
    }
   ],
   "source": [
    "import os\n",
    "import sys\n",
    "from tqdm import tqdm\n",
    "\n",
    "import tensorflow\n",
    "import numpy as np\n",
    "import pandas as pd\n",
    "import torch\n",
    "from scipy.stats import pearsonr, spearmanr, ttest_ind\n",
    "from sklearn.metrics import accuracy_score\n",
    "from velovi import preprocess_data, VELOVI\n",
    "\n",
    "import matplotlib.pyplot as plt\n",
    "import mplscience\n",
    "import seaborn as sns\n",
    "from matplotlib.colors import to_hex\n",
    "\n",
    "import scanpy as sc\n",
    "import scvelo as scv\n",
    "import scvi\n",
    "from scvelo.plotting.simulation import compute_dynamics\n",
    "\n",
    "#from _calculation import get_gams\n",
    "sys.path.append(\"../..\")\n",
    "from paths import DATA_DIR, FIG_DIR"
   ]
  },
  {
   "cell_type": "code",
   "execution_count": 2,
   "id": "771c0d9b-b6e0-4cf8-aa65-0b5d31ceebab",
   "metadata": {},
   "outputs": [],
   "source": [
    "from regvelovi import REGVELOVI\n",
    "from typing import Literal\n",
    "from velovi import preprocess_data, VELOVI\n",
    "import anndata"
   ]
  },
  {
   "cell_type": "code",
   "execution_count": 3,
   "id": "80fb9184-7b61-403d-be54-6695ef53509e",
   "metadata": {},
   "outputs": [
    {
     "name": "stdout",
     "output_type": "stream",
     "text": [
      "(Running UniTVelo 0.2.5.2)\n",
      "2024-08-29 16:22:39\n"
     ]
    }
   ],
   "source": [
    "import scipy\n",
    "import sklearn\n",
    "import unitvelo as utv\n",
    "import re\n",
    "\n",
    "import torch.nn.functional as F\n",
    "from scipy.spatial.distance import cdist"
   ]
  },
  {
   "cell_type": "markdown",
   "id": "830fa8b6-72b8-4c73-b0cc-6d9638b31878",
   "metadata": {},
   "source": [
    "## General settings"
   ]
  },
  {
   "cell_type": "code",
   "execution_count": 4,
   "id": "67c8f3ba-42e0-444a-92ad-09d41ea8d2ed",
   "metadata": {},
   "outputs": [],
   "source": [
    "scvi.settings.dl_pin_memory_gpu_training = False"
   ]
  },
  {
   "cell_type": "code",
   "execution_count": 5,
   "id": "329fee4d-8a34-40c8-9b13-78cf561543cd",
   "metadata": {},
   "outputs": [],
   "source": [
    "plt.rcParams['svg.fonttype'] = 'none'"
   ]
  },
  {
   "cell_type": "code",
   "execution_count": 6,
   "id": "f48c1f97-8ded-4c40-8cba-3d14dad2b8b6",
   "metadata": {},
   "outputs": [],
   "source": [
    "sns.reset_defaults()\n",
    "sns.reset_orig()\n",
    "scv.settings.set_figure_params('scvelo', dpi_save=400, dpi=80, transparent=True, fontsize=14, color_map='viridis')"
   ]
  },
  {
   "cell_type": "code",
   "execution_count": 7,
   "id": "56853dfa-6193-4e89-9400-80c25f8736bd",
   "metadata": {},
   "outputs": [],
   "source": [
    "SAVE_FIGURES = True\n",
    "if SAVE_FIGURES:\n",
    "    os.makedirs(FIG_DIR / 'cell_cycle', exist_ok=True)\n",
    "\n",
    "SAVE_DATASETS = True\n",
    "if SAVE_DATASETS:\n",
    "    os.makedirs(DATA_DIR / 'cell_cycle', exist_ok=True)"
   ]
  },
  {
   "cell_type": "markdown",
   "id": "06177f81-709b-4d16-9416-0129ac14089c",
   "metadata": {},
   "source": [
    "## Function definitions"
   ]
  },
  {
   "cell_type": "code",
   "execution_count": 8,
   "id": "a4599b1f-735e-45f4-9b59-5549c31ef2bd",
   "metadata": {},
   "outputs": [],
   "source": [
    "def add_significance(ax, left: int, right: int, significance: str, level: int = 0, **kwargs):\n",
    "    # This code is adapted on an implementation by Adam Gayoso, Philipp Weilier and Justing Hong from their repository:\n",
    "    # https://github.com/YosefLab/velovi_reproducibility\n",
    "    # Original function: add_significance() in https://github.com/YosefLab/velovi_reproducibility/blob/main/notebooks/estimation_comparison/fucci.ipynb\n",
    "    # License: BSD-3-Clause license\n",
    "\n",
    "    bracket_level = kwargs.pop(\"bracket_level\", 1)\n",
    "    bracket_height = kwargs.pop(\"bracket_height\", 0.02)\n",
    "    text_height = kwargs.pop(\"text_height\", 0.01)\n",
    "    \n",
    "    bottom, top = ax.get_ylim()\n",
    "    y_axis_range = top - bottom\n",
    "\n",
    "    bracket_level = (y_axis_range * 0.07 * level) + top * bracket_level\n",
    "    bracket_height = bracket_level - (y_axis_range * bracket_height)\n",
    "\n",
    "    ax.plot(\n",
    "        [left, left, right, right],\n",
    "        [bracket_height, bracket_level, bracket_level, bracket_height], **kwargs\n",
    "    )\n",
    "\n",
    "    \n",
    "    ax.text(\n",
    "        (left + right) * 0.5,\n",
    "        bracket_level + (y_axis_range * text_height),\n",
    "        significance,\n",
    "        ha='center',\n",
    "        va='bottom',\n",
    "        c='k'\n",
    "    )"
   ]
  },
  {
   "cell_type": "code",
   "execution_count": 9,
   "id": "4bfe7442-7bfc-413c-9cb5-00f03bcb172d",
   "metadata": {},
   "outputs": [],
   "source": [
    "def get_significance(pvalue):\n",
    "    # This code is adapted on an implementation by Adam Gayoso, Philipp Weilier and Justing Hong from their repository:\n",
    "    # https://github.com/YosefLab/velovi_reproducibility\n",
    "    # Original function: get_significance() in https://github.com/YosefLab/velovi_reproducibility/blob/main/notebooks/estimation_comparison/fucci.ipynb\n",
    "    # License: BSD-3-Clause license\n",
    "\n",
    "    if pvalue < 0.001:\n",
    "        return \"***\"\n",
    "    elif pvalue < 0.01:\n",
    "        return \"**\"\n",
    "    elif pvalue < 0.1:\n",
    "        return \"*\"\n",
    "    else:\n",
    "        return \"n.s.\""
   ]
  },
  {
   "cell_type": "code",
   "execution_count": 10,
   "id": "59846bc4-c0ed-42cf-a7c9-e30426f93c52",
   "metadata": {},
   "outputs": [],
   "source": [
    "def add_regvelo_outputs_to_adata(adata_raw, vae, filter = False):\n",
    "    # This code is adapted on an implementation by Adam Gayoso, Philipp Weilier and Justing Hong from their repository:\n",
    "    # https://github.com/YosefLab/velovi_reproducibility\n",
    "    # Original function: fit_velovi() in https://github.com/YosefLab/velovi_reproducibility/blob/main/notebooks/estimation_comparison/fucci.ipynb\n",
    "    # License: BSD-3-Clause license\n",
    "\n",
    "    latent_time = vae.get_latent_time(n_samples=30, time_statistic = \"mean\",batch_size = adata_raw.shape[0])\n",
    "    velocities = vae.get_velocity(n_samples=30, velo_statistic=\"mean\",batch_size = adata_raw.shape[0])\n",
    "\n",
    "    t = latent_time\n",
    "    scaling = 20 / t.max(0)\n",
    "    adata = adata_raw[:,vae.module.target_index].copy()\n",
    "    \n",
    "    adata.layers[\"velocity\"] = velocities / scaling\n",
    "    adata.layers[\"latent_time_regvelo\"] = latent_time\n",
    "    \n",
    "    adata.layers[\"fit_t\"] = latent_time.values * scaling[np.newaxis, :]\n",
    "    adata.var['fit_scaling'] = 1.0\n",
    "    \n",
    "    ## calculate likelihood\n",
    "    \n",
    "    return adata\n",
    "\n",
    "def GRN_Jacobian(reg_vae,Ms):\n",
    "    net = reg_vae.module.v_encoder.fc1.weight.detach()\n",
    "    bias = reg_vae.module.v_encoder.fc1.bias.detach() \n",
    "    max_rate = reg_vae.module.v_encoder.alpha_unconstr_max.detach()\n",
    "    ## calculate the jacobian matrix respect to each cell\n",
    "    Jaco_m = []\n",
    "    for i in range(Ms.shape[0]):\n",
    "        s = Ms[i,:]\n",
    "        Jaco_m.append(reg_vae.module.v_encoder.GRN_Jacobian(torch.tensor(s[reg_vae.module.v_encoder.regulator_index]).to(\"cuda:0\")).detach())\n",
    "    Jaco_m = torch.stack(Jaco_m,2)\n",
    "    return Jaco_m"
   ]
  },
  {
   "cell_type": "markdown",
   "id": "6f4e23ef-a105-4025-98e4-01e87c8b3cc7",
   "metadata": {},
   "source": [
    "## Data loading"
   ]
  },
  {
   "cell_type": "code",
   "execution_count": 11,
   "id": "1f1925f1-aecc-4315-a957-0e217bbc9c25",
   "metadata": {},
   "outputs": [],
   "source": [
    "adata = sc.read(DATA_DIR / \"cell_cycle\" / \"cell_cycle_processed.h5ad\")"
   ]
  },
  {
   "cell_type": "code",
   "execution_count": 12,
   "id": "3b2693f9-d6b8-41da-8113-f58941080192",
   "metadata": {},
   "outputs": [
    {
     "data": {
      "text/plain": [
       "AnnData object with n_obs × n_vars = 1146 × 395\n",
       "    obs: 'phase', 'fucci_time', 'pseudo_clusters', 'pseudo_clusters_equal_size', 'pseudo_clusters_equal_size_num', 'cell_cycle_rad', 'initial_size_unspliced', 'initial_size_spliced', 'initial_size', 'n_counts'\n",
       "    var: 'gene_count_corr', 'means', 'dispersions', 'dispersions_norm', 'highly_variable', 'velocity_gamma', 'velocity_qreg_ratio', 'velocity_r2', 'velocity_genes'\n",
       "    uns: 'neighbors', 'pca', 'umap', 'velocity_params', 'regulators', 'targets', 'skeleton', 'network'\n",
       "    obsm: 'X_pca', 'X_umap'\n",
       "    varm: 'PCs'\n",
       "    layers: 'Ms', 'Mu', 'spliced', 'unspliced', 'velocity'\n",
       "    obsp: 'connectivities', 'distances'"
      ]
     },
     "execution_count": 12,
     "metadata": {},
     "output_type": "execute_result"
    }
   ],
   "source": [
    "adata.uns[\"regulators\"] = adata.var.index.values\n",
    "adata.uns[\"targets\"] = adata.var.index.values\n",
    "adata.uns[\"skeleton\"] = np.ones((len(adata.var.index),len(adata.var.index)))\n",
    "adata.uns[\"network\"] = np.ones((len(adata.var.index),len(adata.var.index)))\n",
    "adata"
   ]
  },
  {
   "cell_type": "code",
   "execution_count": 13,
   "id": "fe3a12a1-778a-4ee2-8bf1-30da44ee8ecb",
   "metadata": {},
   "outputs": [
    {
     "name": "stdout",
     "output_type": "stream",
     "text": [
      "\u001b[34mINFO    \u001b[0m File                                                                                                      \n",
      "         \u001b[35m/ictstr01/home/icb/weixu.wang/regulatory_velo/RegVelo_reproducibility/data/cell_cycle/model_1/\u001b[0m\u001b[95mmodel.pt\u001b[0m    \n",
      "         already downloaded                                                                                        \n"
     ]
    }
   ],
   "source": [
    "reg_vae = REGVELOVI.load(DATA_DIR / \"cell_cycle\" / \"model_1\",adata)"
   ]
  },
  {
   "cell_type": "markdown",
   "id": "bfad128c-3824-47f8-ba85-ad752ff2d209",
   "metadata": {},
   "source": [
    "## Fix the learned GRN (30 times)"
   ]
  },
  {
   "cell_type": "code",
   "execution_count": 14,
   "id": "36ace661-f649-4491-aaa3-1d71a6e67bd5",
   "metadata": {},
   "outputs": [],
   "source": [
    "REGVELOVI.setup_anndata(adata, spliced_layer=\"Ms\", unspliced_layer=\"Mu\")"
   ]
  },
  {
   "cell_type": "code",
   "execution_count": 15,
   "id": "d8099890-0a0c-4880-895b-73bcc6e4a1fe",
   "metadata": {},
   "outputs": [],
   "source": [
    "label = \"phase\"\n",
    "cluster_edges = [\n",
    "    (\"G1\", \"S-ph\"),\n",
    "    (\"S-ph\", \"G2M\")]"
   ]
  },
  {
   "cell_type": "code",
   "execution_count": 16,
   "id": "49e3a78a-f862-4791-a3ce-709794a5d8bf",
   "metadata": {},
   "outputs": [],
   "source": [
    "W = adata.uns[\"skeleton\"].copy()\n",
    "W = torch.tensor(np.array(W)).int()"
   ]
  },
  {
   "cell_type": "code",
   "execution_count": 17,
   "id": "78b47c29-7654-46bb-9353-01902245e74a",
   "metadata": {},
   "outputs": [
    {
     "name": "stderr",
     "output_type": "stream",
     "text": [
      "GPU available: True (cuda), used: True\n",
      "TPU available: False, using: 0 TPU cores\n",
      "IPU available: False, using: 0 IPUs\n",
      "HPU available: False, using: 0 HPUs\n",
      "LOCAL_RANK: 0 - CUDA_VISIBLE_DEVICES: [0]\n"
     ]
    },
    {
     "name": "stdout",
     "output_type": "stream",
     "text": [
      "Epoch 1040/1500:  69%|██████▉   | 1040/1500 [05:43<02:31,  3.03it/s, loss=-729, v_num=1]\n",
      "Monitored metric elbo_validation did not improve in the last 45 records. Best score: -898.876. Signaling Trainer to stop.\n",
      "computing velocity graph (using 1/64 cores)\n"
     ]
    },
    {
     "data": {
      "application/vnd.jupyter.widget-view+json": {
       "model_id": "2dc4e6d01b54453cab19cede79dd6a72",
       "version_major": 2,
       "version_minor": 0
      },
      "text/plain": [
       "  0%|          | 0/1146 [00:00<?, ?cells/s]"
      ]
     },
     "metadata": {},
     "output_type": "display_data"
    },
    {
     "name": "stdout",
     "output_type": "stream",
     "text": [
      "    finished (0:00:01) --> added \n",
      "    'velocity_graph', sparse matrix with cosine correlations (adata.uns)\n",
      "computing velocity embedding\n",
      "    finished (0:00:00) --> added\n",
      "    'velocity_pca', embedded velocity vectors (adata.obsm)\n",
      "# Cross-Boundary Direction Correctness (A->B)\n",
      "{('G1', 'S-ph'): 0.23221782703168137, ('S-ph', 'G2M'): 0.21395316040534515}\n",
      "Total Mean: 0.22308549371851327\n",
      "# In-cluster Coherence\n",
      "{'G1': 0.8648948, 'G2M': 0.94201803, 'N/A': 0.9054153, 'S-ph': 0.937335}\n",
      "Total Mean: 0.9124158024787903\n",
      "0.22308549371851327\n",
      "0.5646263888099637\n"
     ]
    },
    {
     "name": "stderr",
     "output_type": "stream",
     "text": [
      "GPU available: True (cuda), used: True\n",
      "TPU available: False, using: 0 TPU cores\n",
      "IPU available: False, using: 0 IPUs\n",
      "HPU available: False, using: 0 HPUs\n",
      "LOCAL_RANK: 0 - CUDA_VISIBLE_DEVICES: [0]\n"
     ]
    },
    {
     "name": "stdout",
     "output_type": "stream",
     "text": [
      "Epoch 1255/1500:  84%|████████▎ | 1255/1500 [07:08<01:23,  2.93it/s, loss=-770, v_num=1]\n",
      "Monitored metric elbo_validation did not improve in the last 45 records. Best score: -925.619. Signaling Trainer to stop.\n",
      "computing velocity graph (using 1/64 cores)\n"
     ]
    },
    {
     "data": {
      "application/vnd.jupyter.widget-view+json": {
       "model_id": "935ffc56005242a2a3635d9b4f17b3ad",
       "version_major": 2,
       "version_minor": 0
      },
      "text/plain": [
       "  0%|          | 0/1146 [00:00<?, ?cells/s]"
      ]
     },
     "metadata": {},
     "output_type": "display_data"
    },
    {
     "name": "stdout",
     "output_type": "stream",
     "text": [
      "    finished (0:00:01) --> added \n",
      "    'velocity_graph', sparse matrix with cosine correlations (adata.uns)\n",
      "computing velocity embedding\n",
      "    finished (0:00:00) --> added\n",
      "    'velocity_pca', embedded velocity vectors (adata.obsm)\n",
      "# Cross-Boundary Direction Correctness (A->B)\n",
      "{('G1', 'S-ph'): 0.24498918325641517, ('S-ph', 'G2M'): 0.2122649893620981}\n",
      "Total Mean: 0.22862708630925663\n",
      "# In-cluster Coherence\n",
      "{'G1': 0.8534879, 'G2M': 0.94778657, 'N/A': 0.9049441, 'S-ph': 0.93824375}\n",
      "Total Mean: 0.9111156463623047\n",
      "0.22862708630925663\n",
      "0.4962035410112718\n"
     ]
    },
    {
     "name": "stderr",
     "output_type": "stream",
     "text": [
      "GPU available: True (cuda), used: True\n",
      "TPU available: False, using: 0 TPU cores\n",
      "IPU available: False, using: 0 IPUs\n",
      "HPU available: False, using: 0 HPUs\n",
      "LOCAL_RANK: 0 - CUDA_VISIBLE_DEVICES: [0]\n"
     ]
    },
    {
     "name": "stdout",
     "output_type": "stream",
     "text": [
      "Epoch 1000/1500:  67%|██████▋   | 1000/1500 [05:51<02:55,  2.85it/s, loss=-753, v_num=1]\n",
      "Monitored metric elbo_validation did not improve in the last 45 records. Best score: -910.933. Signaling Trainer to stop.\n",
      "computing velocity graph (using 1/64 cores)\n"
     ]
    },
    {
     "data": {
      "application/vnd.jupyter.widget-view+json": {
       "model_id": "4a0ca7fb3e3c4ccab1389c5c2aec9615",
       "version_major": 2,
       "version_minor": 0
      },
      "text/plain": [
       "  0%|          | 0/1146 [00:00<?, ?cells/s]"
      ]
     },
     "metadata": {},
     "output_type": "display_data"
    },
    {
     "name": "stdout",
     "output_type": "stream",
     "text": [
      "    finished (0:00:01) --> added \n",
      "    'velocity_graph', sparse matrix with cosine correlations (adata.uns)\n",
      "computing velocity embedding\n",
      "    finished (0:00:00) --> added\n",
      "    'velocity_pca', embedded velocity vectors (adata.obsm)\n",
      "# Cross-Boundary Direction Correctness (A->B)\n",
      "{('G1', 'S-ph'): 0.21446663642823777, ('S-ph', 'G2M'): 0.20711023285759333}\n",
      "Total Mean: 0.21078843464291555\n",
      "# In-cluster Coherence\n",
      "{'G1': 0.8561607, 'G2M': 0.95215523, 'N/A': 0.9082874, 'S-ph': 0.9433317}\n",
      "Total Mean: 0.9149837493896484\n",
      "0.21078843464291555\n",
      "0.45692477806930054\n"
     ]
    },
    {
     "name": "stderr",
     "output_type": "stream",
     "text": [
      "GPU available: True (cuda), used: True\n",
      "TPU available: False, using: 0 TPU cores\n",
      "IPU available: False, using: 0 IPUs\n",
      "HPU available: False, using: 0 HPUs\n",
      "LOCAL_RANK: 0 - CUDA_VISIBLE_DEVICES: [0]\n"
     ]
    },
    {
     "name": "stdout",
     "output_type": "stream",
     "text": [
      "Epoch 959/1500:  64%|██████▍   | 959/1500 [05:54<03:20,  2.70it/s, loss=-731, v_num=1] \n",
      "Monitored metric elbo_validation did not improve in the last 45 records. Best score: -894.815. Signaling Trainer to stop.\n",
      "computing velocity graph (using 1/64 cores)\n"
     ]
    },
    {
     "data": {
      "application/vnd.jupyter.widget-view+json": {
       "model_id": "2ad9291d6c7b477d96b70e10477b8cdb",
       "version_major": 2,
       "version_minor": 0
      },
      "text/plain": [
       "  0%|          | 0/1146 [00:00<?, ?cells/s]"
      ]
     },
     "metadata": {},
     "output_type": "display_data"
    },
    {
     "name": "stdout",
     "output_type": "stream",
     "text": [
      "    finished (0:00:01) --> added \n",
      "    'velocity_graph', sparse matrix with cosine correlations (adata.uns)\n",
      "computing velocity embedding\n",
      "    finished (0:00:00) --> added\n",
      "    'velocity_pca', embedded velocity vectors (adata.obsm)\n",
      "# Cross-Boundary Direction Correctness (A->B)\n",
      "{('G1', 'S-ph'): 0.21238778048333048, ('S-ph', 'G2M'): 0.20829231942518633}\n",
      "Total Mean: 0.21034004995425842\n",
      "# In-cluster Coherence\n",
      "{'G1': 0.8573741, 'G2M': 0.9455876, 'N/A': 0.8995233, 'S-ph': 0.9330324}\n",
      "Total Mean: 0.908879280090332\n",
      "0.21034004995425842\n",
      "0.5314561077434268\n"
     ]
    },
    {
     "name": "stderr",
     "output_type": "stream",
     "text": [
      "GPU available: True (cuda), used: True\n",
      "TPU available: False, using: 0 TPU cores\n",
      "IPU available: False, using: 0 IPUs\n",
      "HPU available: False, using: 0 HPUs\n",
      "LOCAL_RANK: 0 - CUDA_VISIBLE_DEVICES: [0]\n"
     ]
    },
    {
     "name": "stdout",
     "output_type": "stream",
     "text": [
      "Epoch 1054/1500:  70%|███████   | 1054/1500 [06:07<02:35,  2.87it/s, loss=-737, v_num=1]\n",
      "Monitored metric elbo_validation did not improve in the last 45 records. Best score: -908.236. Signaling Trainer to stop.\n",
      "computing velocity graph (using 1/64 cores)\n"
     ]
    },
    {
     "data": {
      "application/vnd.jupyter.widget-view+json": {
       "model_id": "646475c54b0943bf9b966a55cca1ec97",
       "version_major": 2,
       "version_minor": 0
      },
      "text/plain": [
       "  0%|          | 0/1146 [00:00<?, ?cells/s]"
      ]
     },
     "metadata": {},
     "output_type": "display_data"
    },
    {
     "name": "stdout",
     "output_type": "stream",
     "text": [
      "    finished (0:00:01) --> added \n",
      "    'velocity_graph', sparse matrix with cosine correlations (adata.uns)\n",
      "computing velocity embedding\n",
      "    finished (0:00:00) --> added\n",
      "    'velocity_pca', embedded velocity vectors (adata.obsm)\n",
      "# Cross-Boundary Direction Correctness (A->B)\n",
      "{('G1', 'S-ph'): 0.2318665527993433, ('S-ph', 'G2M'): 0.21000329906752496}\n",
      "Total Mean: 0.2209349259334341\n",
      "# In-cluster Coherence\n",
      "{'G1': 0.85752946, 'G2M': 0.94584554, 'N/A': 0.90388596, 'S-ph': 0.9406778}\n",
      "Total Mean: 0.9119847416877747\n",
      "0.2209349259334341\n",
      "0.5025324247571338\n"
     ]
    },
    {
     "name": "stderr",
     "output_type": "stream",
     "text": [
      "GPU available: True (cuda), used: True\n",
      "TPU available: False, using: 0 TPU cores\n",
      "IPU available: False, using: 0 IPUs\n",
      "HPU available: False, using: 0 HPUs\n",
      "LOCAL_RANK: 0 - CUDA_VISIBLE_DEVICES: [0]\n"
     ]
    },
    {
     "name": "stdout",
     "output_type": "stream",
     "text": [
      "Epoch 1208/1500:  81%|████████  | 1208/1500 [06:42<01:37,  3.00it/s, loss=-771, v_num=1]\n",
      "Monitored metric elbo_validation did not improve in the last 45 records. Best score: -922.949. Signaling Trainer to stop.\n",
      "computing velocity graph (using 1/64 cores)\n"
     ]
    },
    {
     "data": {
      "application/vnd.jupyter.widget-view+json": {
       "model_id": "d9c17d2638884b4db83c58a3e172ceb8",
       "version_major": 2,
       "version_minor": 0
      },
      "text/plain": [
       "  0%|          | 0/1146 [00:00<?, ?cells/s]"
      ]
     },
     "metadata": {},
     "output_type": "display_data"
    },
    {
     "name": "stdout",
     "output_type": "stream",
     "text": [
      "    finished (0:00:01) --> added \n",
      "    'velocity_graph', sparse matrix with cosine correlations (adata.uns)\n",
      "computing velocity embedding\n",
      "    finished (0:00:00) --> added\n",
      "    'velocity_pca', embedded velocity vectors (adata.obsm)\n",
      "# Cross-Boundary Direction Correctness (A->B)\n",
      "{('G1', 'S-ph'): 0.23931574774313832, ('S-ph', 'G2M'): 0.20614875985420456}\n",
      "Total Mean: 0.22273225379867145\n",
      "# In-cluster Coherence\n",
      "{'G1': 0.8489082, 'G2M': 0.95491654, 'N/A': 0.9075943, 'S-ph': 0.9417337}\n",
      "Total Mean: 0.9132882356643677\n",
      "0.22273225379867145\n",
      "0.44193361452347996\n"
     ]
    },
    {
     "name": "stderr",
     "output_type": "stream",
     "text": [
      "GPU available: True (cuda), used: True\n",
      "TPU available: False, using: 0 TPU cores\n",
      "IPU available: False, using: 0 IPUs\n",
      "HPU available: False, using: 0 HPUs\n",
      "LOCAL_RANK: 0 - CUDA_VISIBLE_DEVICES: [0]\n"
     ]
    },
    {
     "name": "stdout",
     "output_type": "stream",
     "text": [
      "Epoch 1036/1500:  69%|██████▉   | 1036/1500 [05:54<02:38,  2.92it/s, loss=-732, v_num=1]\n",
      "Monitored metric elbo_validation did not improve in the last 45 records. Best score: -904.713. Signaling Trainer to stop.\n",
      "computing velocity graph (using 1/64 cores)\n"
     ]
    },
    {
     "data": {
      "application/vnd.jupyter.widget-view+json": {
       "model_id": "c1590c1a59a44304a45ad5e270288f7f",
       "version_major": 2,
       "version_minor": 0
      },
      "text/plain": [
       "  0%|          | 0/1146 [00:00<?, ?cells/s]"
      ]
     },
     "metadata": {},
     "output_type": "display_data"
    },
    {
     "name": "stdout",
     "output_type": "stream",
     "text": [
      "    finished (0:00:01) --> added \n",
      "    'velocity_graph', sparse matrix with cosine correlations (adata.uns)\n",
      "computing velocity embedding\n",
      "    finished (0:00:00) --> added\n",
      "    'velocity_pca', embedded velocity vectors (adata.obsm)\n",
      "# Cross-Boundary Direction Correctness (A->B)\n",
      "{('G1', 'S-ph'): 0.18250523777585978, ('S-ph', 'G2M'): 0.20114452162215823}\n",
      "Total Mean: 0.19182487969900902\n",
      "# In-cluster Coherence\n",
      "{'G1': 0.8511345, 'G2M': 0.9365894, 'N/A': 0.89520174, 'S-ph': 0.9302536}\n",
      "Total Mean: 0.9032948017120361\n",
      "0.19182487969900902\n",
      "0.4925936379044862\n"
     ]
    },
    {
     "name": "stderr",
     "output_type": "stream",
     "text": [
      "GPU available: True (cuda), used: True\n",
      "TPU available: False, using: 0 TPU cores\n",
      "IPU available: False, using: 0 IPUs\n",
      "HPU available: False, using: 0 HPUs\n",
      "LOCAL_RANK: 0 - CUDA_VISIBLE_DEVICES: [0]\n"
     ]
    },
    {
     "name": "stdout",
     "output_type": "stream",
     "text": [
      "Epoch 834/1500:  56%|█████▌    | 834/1500 [04:50<03:51,  2.87it/s, loss=-709, v_num=1] \n",
      "Monitored metric elbo_validation did not improve in the last 45 records. Best score: -881.635. Signaling Trainer to stop.\n",
      "computing velocity graph (using 1/64 cores)\n"
     ]
    },
    {
     "data": {
      "application/vnd.jupyter.widget-view+json": {
       "model_id": "375e4e8fee90440d9bf90fdbd620c6fb",
       "version_major": 2,
       "version_minor": 0
      },
      "text/plain": [
       "  0%|          | 0/1146 [00:00<?, ?cells/s]"
      ]
     },
     "metadata": {},
     "output_type": "display_data"
    },
    {
     "name": "stdout",
     "output_type": "stream",
     "text": [
      "    finished (0:00:01) --> added \n",
      "    'velocity_graph', sparse matrix with cosine correlations (adata.uns)\n",
      "computing velocity embedding\n",
      "    finished (0:00:00) --> added\n",
      "    'velocity_pca', embedded velocity vectors (adata.obsm)\n",
      "# Cross-Boundary Direction Correctness (A->B)\n",
      "{('G1', 'S-ph'): 0.2280760409572384, ('S-ph', 'G2M'): 0.20321966363760852}\n",
      "Total Mean: 0.21564785229742345\n",
      "# In-cluster Coherence\n",
      "{'G1': 0.8595358, 'G2M': 0.9460748, 'N/A': 0.9048601, 'S-ph': 0.9410202}\n",
      "Total Mean: 0.9128727316856384\n",
      "0.21564785229742345\n",
      "0.4532968168533308\n"
     ]
    },
    {
     "name": "stderr",
     "output_type": "stream",
     "text": [
      "GPU available: True (cuda), used: True\n",
      "TPU available: False, using: 0 TPU cores\n",
      "IPU available: False, using: 0 IPUs\n",
      "HPU available: False, using: 0 HPUs\n",
      "LOCAL_RANK: 0 - CUDA_VISIBLE_DEVICES: [0]\n"
     ]
    },
    {
     "name": "stdout",
     "output_type": "stream",
     "text": [
      "Epoch 1139/1500:  76%|███████▌  | 1139/1500 [06:42<02:07,  2.83it/s, loss=-759, v_num=1]\n",
      "Monitored metric elbo_validation did not improve in the last 45 records. Best score: -914.693. Signaling Trainer to stop.\n",
      "computing velocity graph (using 1/64 cores)\n"
     ]
    },
    {
     "data": {
      "application/vnd.jupyter.widget-view+json": {
       "model_id": "3472387a935d4b90a8034040feb5ebdc",
       "version_major": 2,
       "version_minor": 0
      },
      "text/plain": [
       "  0%|          | 0/1146 [00:00<?, ?cells/s]"
      ]
     },
     "metadata": {},
     "output_type": "display_data"
    },
    {
     "name": "stdout",
     "output_type": "stream",
     "text": [
      "    finished (0:00:01) --> added \n",
      "    'velocity_graph', sparse matrix with cosine correlations (adata.uns)\n",
      "computing velocity embedding\n",
      "    finished (0:00:00) --> added\n",
      "    'velocity_pca', embedded velocity vectors (adata.obsm)\n",
      "# Cross-Boundary Direction Correctness (A->B)\n",
      "{('G1', 'S-ph'): 0.24749524021181332, ('S-ph', 'G2M'): 0.20996532710004703}\n",
      "Total Mean: 0.22873028365593018\n",
      "# In-cluster Coherence\n",
      "{'G1': 0.8482026, 'G2M': 0.95260125, 'N/A': 0.9095792, 'S-ph': 0.9448253}\n",
      "Total Mean: 0.9138021469116211\n",
      "0.22873028365593018\n",
      "0.4509795085484898\n"
     ]
    },
    {
     "name": "stderr",
     "output_type": "stream",
     "text": [
      "GPU available: True (cuda), used: True\n",
      "TPU available: False, using: 0 TPU cores\n",
      "IPU available: False, using: 0 IPUs\n",
      "HPU available: False, using: 0 HPUs\n",
      "LOCAL_RANK: 0 - CUDA_VISIBLE_DEVICES: [0]\n"
     ]
    },
    {
     "name": "stdout",
     "output_type": "stream",
     "text": [
      "Epoch 955/1500:  64%|██████▎   | 955/1500 [05:26<03:06,  2.92it/s, loss=-729, v_num=1] \n",
      "Monitored metric elbo_validation did not improve in the last 45 records. Best score: -897.968. Signaling Trainer to stop.\n",
      "computing velocity graph (using 1/64 cores)\n"
     ]
    },
    {
     "data": {
      "application/vnd.jupyter.widget-view+json": {
       "model_id": "7e3376b2ccf7496884d4902096421d90",
       "version_major": 2,
       "version_minor": 0
      },
      "text/plain": [
       "  0%|          | 0/1146 [00:00<?, ?cells/s]"
      ]
     },
     "metadata": {},
     "output_type": "display_data"
    },
    {
     "name": "stdout",
     "output_type": "stream",
     "text": [
      "    finished (0:00:01) --> added \n",
      "    'velocity_graph', sparse matrix with cosine correlations (adata.uns)\n",
      "computing velocity embedding\n",
      "    finished (0:00:00) --> added\n",
      "    'velocity_pca', embedded velocity vectors (adata.obsm)\n",
      "# Cross-Boundary Direction Correctness (A->B)\n",
      "{('G1', 'S-ph'): 0.21203040967038342, ('S-ph', 'G2M'): 0.2013306882873308}\n",
      "Total Mean: 0.20668054897885713\n",
      "# In-cluster Coherence\n",
      "{'G1': 0.8484992, 'G2M': 0.95140827, 'N/A': 0.89811784, 'S-ph': 0.9413363}\n",
      "Total Mean: 0.9098403453826904\n",
      "0.20668054897885713\n",
      "0.3608161268481112\n"
     ]
    },
    {
     "name": "stderr",
     "output_type": "stream",
     "text": [
      "GPU available: True (cuda), used: True\n",
      "TPU available: False, using: 0 TPU cores\n",
      "IPU available: False, using: 0 IPUs\n",
      "HPU available: False, using: 0 HPUs\n",
      "LOCAL_RANK: 0 - CUDA_VISIBLE_DEVICES: [0]\n"
     ]
    },
    {
     "name": "stdout",
     "output_type": "stream",
     "text": [
      "Epoch 1209/1500:  81%|████████  | 1209/1500 [06:47<01:38,  2.96it/s, loss=-767, v_num=1]\n",
      "Monitored metric elbo_validation did not improve in the last 45 records. Best score: -920.581. Signaling Trainer to stop.\n",
      "computing velocity graph (using 1/64 cores)\n"
     ]
    },
    {
     "data": {
      "application/vnd.jupyter.widget-view+json": {
       "model_id": "28277ca080b64e6cb63afd25aa129d26",
       "version_major": 2,
       "version_minor": 0
      },
      "text/plain": [
       "  0%|          | 0/1146 [00:00<?, ?cells/s]"
      ]
     },
     "metadata": {},
     "output_type": "display_data"
    },
    {
     "name": "stdout",
     "output_type": "stream",
     "text": [
      "    finished (0:00:01) --> added \n",
      "    'velocity_graph', sparse matrix with cosine correlations (adata.uns)\n",
      "computing velocity embedding\n",
      "    finished (0:00:00) --> added\n",
      "    'velocity_pca', embedded velocity vectors (adata.obsm)\n",
      "# Cross-Boundary Direction Correctness (A->B)\n",
      "{('G1', 'S-ph'): 0.23036932555164338, ('S-ph', 'G2M'): 0.2049917455738439}\n",
      "Total Mean: 0.21768053556274364\n",
      "# In-cluster Coherence\n",
      "{'G1': 0.8438989, 'G2M': 0.9520533, 'N/A': 0.90380454, 'S-ph': 0.94259423}\n",
      "Total Mean: 0.910587728023529\n",
      "0.21768053556274364\n",
      "0.4097931388299404\n"
     ]
    },
    {
     "name": "stderr",
     "output_type": "stream",
     "text": [
      "GPU available: True (cuda), used: True\n",
      "TPU available: False, using: 0 TPU cores\n",
      "IPU available: False, using: 0 IPUs\n",
      "HPU available: False, using: 0 HPUs\n",
      "LOCAL_RANK: 0 - CUDA_VISIBLE_DEVICES: [0]\n"
     ]
    },
    {
     "name": "stdout",
     "output_type": "stream",
     "text": [
      "Epoch 1059/1500:  71%|███████   | 1059/1500 [06:08<02:33,  2.88it/s, loss=-736, v_num=1]\n",
      "Monitored metric elbo_validation did not improve in the last 45 records. Best score: -902.775. Signaling Trainer to stop.\n",
      "computing velocity graph (using 1/64 cores)\n"
     ]
    },
    {
     "data": {
      "application/vnd.jupyter.widget-view+json": {
       "model_id": "a444ded20c874996a8afb653f69007c4",
       "version_major": 2,
       "version_minor": 0
      },
      "text/plain": [
       "  0%|          | 0/1146 [00:00<?, ?cells/s]"
      ]
     },
     "metadata": {},
     "output_type": "display_data"
    },
    {
     "name": "stdout",
     "output_type": "stream",
     "text": [
      "    finished (0:00:01) --> added \n",
      "    'velocity_graph', sparse matrix with cosine correlations (adata.uns)\n",
      "computing velocity embedding\n",
      "    finished (0:00:00) --> added\n",
      "    'velocity_pca', embedded velocity vectors (adata.obsm)\n",
      "# Cross-Boundary Direction Correctness (A->B)\n",
      "{('G1', 'S-ph'): 0.23382314635342438, ('S-ph', 'G2M'): 0.20043556767974882}\n",
      "Total Mean: 0.2171293570165866\n",
      "# In-cluster Coherence\n",
      "{'G1': 0.85187894, 'G2M': 0.9485794, 'N/A': 0.897912, 'S-ph': 0.93558526}\n",
      "Total Mean: 0.908488929271698\n",
      "0.2171293570165866\n",
      "0.47135430055371486\n"
     ]
    },
    {
     "name": "stderr",
     "output_type": "stream",
     "text": [
      "GPU available: True (cuda), used: True\n",
      "TPU available: False, using: 0 TPU cores\n",
      "IPU available: False, using: 0 IPUs\n",
      "HPU available: False, using: 0 HPUs\n",
      "LOCAL_RANK: 0 - CUDA_VISIBLE_DEVICES: [0]\n"
     ]
    },
    {
     "name": "stdout",
     "output_type": "stream",
     "text": [
      "Epoch 1184/1500:  79%|███████▉  | 1184/1500 [06:49<01:49,  2.89it/s, loss=-765, v_num=1]\n",
      "Monitored metric elbo_validation did not improve in the last 45 records. Best score: -921.918. Signaling Trainer to stop.\n",
      "computing velocity graph (using 1/64 cores)\n"
     ]
    },
    {
     "data": {
      "application/vnd.jupyter.widget-view+json": {
       "model_id": "fea1d308689e4063b55f958075a5a28a",
       "version_major": 2,
       "version_minor": 0
      },
      "text/plain": [
       "  0%|          | 0/1146 [00:00<?, ?cells/s]"
      ]
     },
     "metadata": {},
     "output_type": "display_data"
    },
    {
     "name": "stdout",
     "output_type": "stream",
     "text": [
      "    finished (0:00:01) --> added \n",
      "    'velocity_graph', sparse matrix with cosine correlations (adata.uns)\n",
      "computing velocity embedding\n",
      "    finished (0:00:00) --> added\n",
      "    'velocity_pca', embedded velocity vectors (adata.obsm)\n",
      "# Cross-Boundary Direction Correctness (A->B)\n",
      "{('G1', 'S-ph'): 0.22214602054636468, ('S-ph', 'G2M'): 0.2072878793365886}\n",
      "Total Mean: 0.21471694994147664\n",
      "# In-cluster Coherence\n",
      "{'G1': 0.8438958, 'G2M': 0.948716, 'N/A': 0.89674443, 'S-ph': 0.93496597}\n",
      "Total Mean: 0.9060806035995483\n",
      "0.21471694994147664\n",
      "0.4871197019761055\n"
     ]
    },
    {
     "name": "stderr",
     "output_type": "stream",
     "text": [
      "GPU available: True (cuda), used: True\n",
      "TPU available: False, using: 0 TPU cores\n",
      "IPU available: False, using: 0 IPUs\n",
      "HPU available: False, using: 0 HPUs\n",
      "LOCAL_RANK: 0 - CUDA_VISIBLE_DEVICES: [0]\n"
     ]
    },
    {
     "name": "stdout",
     "output_type": "stream",
     "text": [
      "Epoch 1091/1500:  73%|███████▎  | 1091/1500 [06:18<02:21,  2.88it/s, loss=-761, v_num=1]\n",
      "Monitored metric elbo_validation did not improve in the last 45 records. Best score: -915.690. Signaling Trainer to stop.\n",
      "computing velocity graph (using 1/64 cores)\n"
     ]
    },
    {
     "data": {
      "application/vnd.jupyter.widget-view+json": {
       "model_id": "962e30fdbad24cfcb0e9534dcf157685",
       "version_major": 2,
       "version_minor": 0
      },
      "text/plain": [
       "  0%|          | 0/1146 [00:00<?, ?cells/s]"
      ]
     },
     "metadata": {},
     "output_type": "display_data"
    },
    {
     "name": "stdout",
     "output_type": "stream",
     "text": [
      "    finished (0:00:01) --> added \n",
      "    'velocity_graph', sparse matrix with cosine correlations (adata.uns)\n",
      "computing velocity embedding\n",
      "    finished (0:00:00) --> added\n",
      "    'velocity_pca', embedded velocity vectors (adata.obsm)\n",
      "# Cross-Boundary Direction Correctness (A->B)\n",
      "{('G1', 'S-ph'): 0.2340791118404142, ('S-ph', 'G2M'): 0.20963234354410515}\n",
      "Total Mean: 0.22185572769225967\n",
      "# In-cluster Coherence\n",
      "{'G1': 0.8515226, 'G2M': 0.95058316, 'N/A': 0.9028301, 'S-ph': 0.9386518}\n",
      "Total Mean: 0.9108969569206238\n",
      "0.22185572769225967\n",
      "0.45302142647432114\n"
     ]
    },
    {
     "name": "stderr",
     "output_type": "stream",
     "text": [
      "GPU available: True (cuda), used: True\n",
      "TPU available: False, using: 0 TPU cores\n",
      "IPU available: False, using: 0 IPUs\n",
      "HPU available: False, using: 0 HPUs\n",
      "LOCAL_RANK: 0 - CUDA_VISIBLE_DEVICES: [0]\n"
     ]
    },
    {
     "name": "stdout",
     "output_type": "stream",
     "text": [
      "Epoch 991/1500:  66%|██████▌   | 991/1500 [05:24<02:46,  3.05it/s, loss=-728, v_num=1]  \n",
      "Monitored metric elbo_validation did not improve in the last 45 records. Best score: -901.800. Signaling Trainer to stop.\n",
      "computing velocity graph (using 1/64 cores)\n"
     ]
    },
    {
     "data": {
      "application/vnd.jupyter.widget-view+json": {
       "model_id": "d18e0e3960514e8d9cb09f7cece7fea4",
       "version_major": 2,
       "version_minor": 0
      },
      "text/plain": [
       "  0%|          | 0/1146 [00:00<?, ?cells/s]"
      ]
     },
     "metadata": {},
     "output_type": "display_data"
    },
    {
     "name": "stdout",
     "output_type": "stream",
     "text": [
      "    finished (0:00:01) --> added \n",
      "    'velocity_graph', sparse matrix with cosine correlations (adata.uns)\n",
      "computing velocity embedding\n",
      "    finished (0:00:00) --> added\n",
      "    'velocity_pca', embedded velocity vectors (adata.obsm)\n",
      "# Cross-Boundary Direction Correctness (A->B)\n",
      "{('G1', 'S-ph'): 0.23764393240916049, ('S-ph', 'G2M'): 0.20887497439258845}\n",
      "Total Mean: 0.22325945340087447\n",
      "# In-cluster Coherence\n",
      "{'G1': 0.8520422, 'G2M': 0.9480127, 'N/A': 0.9057991, 'S-ph': 0.9425508}\n",
      "Total Mean: 0.912101149559021\n",
      "0.22325945340087447\n",
      "0.4658401043972364\n"
     ]
    },
    {
     "name": "stderr",
     "output_type": "stream",
     "text": [
      "GPU available: True (cuda), used: True\n",
      "TPU available: False, using: 0 TPU cores\n",
      "IPU available: False, using: 0 IPUs\n",
      "HPU available: False, using: 0 HPUs\n",
      "LOCAL_RANK: 0 - CUDA_VISIBLE_DEVICES: [0]\n"
     ]
    },
    {
     "name": "stdout",
     "output_type": "stream",
     "text": [
      "Epoch 1144/1500:  76%|███████▋  | 1144/1500 [06:42<02:05,  2.84it/s, loss=-762, v_num=1]\n",
      "Monitored metric elbo_validation did not improve in the last 45 records. Best score: -916.791. Signaling Trainer to stop.\n",
      "computing velocity graph (using 1/64 cores)\n"
     ]
    },
    {
     "data": {
      "application/vnd.jupyter.widget-view+json": {
       "model_id": "cc431cf38dc141518215efa188cd3622",
       "version_major": 2,
       "version_minor": 0
      },
      "text/plain": [
       "  0%|          | 0/1146 [00:00<?, ?cells/s]"
      ]
     },
     "metadata": {},
     "output_type": "display_data"
    },
    {
     "name": "stdout",
     "output_type": "stream",
     "text": [
      "    finished (0:00:01) --> added \n",
      "    'velocity_graph', sparse matrix with cosine correlations (adata.uns)\n",
      "computing velocity embedding\n",
      "    finished (0:00:00) --> added\n",
      "    'velocity_pca', embedded velocity vectors (adata.obsm)\n",
      "# Cross-Boundary Direction Correctness (A->B)\n",
      "{('G1', 'S-ph'): 0.22019193206870855, ('S-ph', 'G2M'): 0.21022699168842252}\n",
      "Total Mean: 0.21520946187856554\n",
      "# In-cluster Coherence\n",
      "{'G1': 0.86159724, 'G2M': 0.9479326, 'N/A': 0.90654474, 'S-ph': 0.9410651}\n",
      "Total Mean: 0.914284884929657\n",
      "0.21520946187856554\n",
      "0.4762169230024326\n"
     ]
    },
    {
     "name": "stderr",
     "output_type": "stream",
     "text": [
      "GPU available: True (cuda), used: True\n",
      "TPU available: False, using: 0 TPU cores\n",
      "IPU available: False, using: 0 IPUs\n",
      "HPU available: False, using: 0 HPUs\n",
      "LOCAL_RANK: 0 - CUDA_VISIBLE_DEVICES: [0]\n"
     ]
    },
    {
     "name": "stdout",
     "output_type": "stream",
     "text": [
      "Epoch 1042/1500:  69%|██████▉   | 1042/1500 [06:03<02:39,  2.87it/s, loss=-736, v_num=1]\n",
      "Monitored metric elbo_validation did not improve in the last 45 records. Best score: -903.903. Signaling Trainer to stop.\n",
      "computing velocity graph (using 1/64 cores)\n"
     ]
    },
    {
     "data": {
      "application/vnd.jupyter.widget-view+json": {
       "model_id": "ecfa803370944aab9a0adfd7c943fbce",
       "version_major": 2,
       "version_minor": 0
      },
      "text/plain": [
       "  0%|          | 0/1146 [00:00<?, ?cells/s]"
      ]
     },
     "metadata": {},
     "output_type": "display_data"
    },
    {
     "name": "stdout",
     "output_type": "stream",
     "text": [
      "    finished (0:00:01) --> added \n",
      "    'velocity_graph', sparse matrix with cosine correlations (adata.uns)\n",
      "computing velocity embedding\n",
      "    finished (0:00:00) --> added\n",
      "    'velocity_pca', embedded velocity vectors (adata.obsm)\n",
      "# Cross-Boundary Direction Correctness (A->B)\n",
      "{('G1', 'S-ph'): 0.25098560868111897, ('S-ph', 'G2M'): 0.20363803538583322}\n",
      "Total Mean: 0.2273118220334761\n",
      "# In-cluster Coherence\n",
      "{'G1': 0.8438079, 'G2M': 0.9531758, 'N/A': 0.8993628, 'S-ph': 0.93682826}\n",
      "Total Mean: 0.9082937240600586\n",
      "0.2273118220334761\n",
      "0.5479753719665211\n"
     ]
    },
    {
     "name": "stderr",
     "output_type": "stream",
     "text": [
      "GPU available: True (cuda), used: True\n",
      "TPU available: False, using: 0 TPU cores\n",
      "IPU available: False, using: 0 IPUs\n",
      "HPU available: False, using: 0 HPUs\n",
      "LOCAL_RANK: 0 - CUDA_VISIBLE_DEVICES: [0]\n"
     ]
    },
    {
     "name": "stdout",
     "output_type": "stream",
     "text": [
      "Epoch 1167/1500:  78%|███████▊  | 1167/1500 [06:47<01:56,  2.86it/s, loss=-749, v_num=1]\n",
      "Monitored metric elbo_validation did not improve in the last 45 records. Best score: -908.740. Signaling Trainer to stop.\n",
      "computing velocity graph (using 1/64 cores)\n"
     ]
    },
    {
     "data": {
      "application/vnd.jupyter.widget-view+json": {
       "model_id": "49956d87c20c4d0a850f565acaeed8bc",
       "version_major": 2,
       "version_minor": 0
      },
      "text/plain": [
       "  0%|          | 0/1146 [00:00<?, ?cells/s]"
      ]
     },
     "metadata": {},
     "output_type": "display_data"
    },
    {
     "name": "stdout",
     "output_type": "stream",
     "text": [
      "    finished (0:00:00) --> added \n",
      "    'velocity_graph', sparse matrix with cosine correlations (adata.uns)\n",
      "computing velocity embedding\n",
      "    finished (0:00:00) --> added\n",
      "    'velocity_pca', embedded velocity vectors (adata.obsm)\n",
      "# Cross-Boundary Direction Correctness (A->B)\n",
      "{('G1', 'S-ph'): 0.20596772196684385, ('S-ph', 'G2M'): 0.20518611770122433}\n",
      "Total Mean: 0.2055769198340341\n",
      "# In-cluster Coherence\n",
      "{'G1': 0.8599617, 'G2M': 0.9444619, 'N/A': 0.90163374, 'S-ph': 0.93395007}\n",
      "Total Mean: 0.9100018739700317\n",
      "0.2055769198340341\n",
      "0.42336793974148856\n"
     ]
    },
    {
     "name": "stderr",
     "output_type": "stream",
     "text": [
      "GPU available: True (cuda), used: True\n",
      "TPU available: False, using: 0 TPU cores\n",
      "IPU available: False, using: 0 IPUs\n",
      "HPU available: False, using: 0 HPUs\n",
      "LOCAL_RANK: 0 - CUDA_VISIBLE_DEVICES: [0]\n"
     ]
    },
    {
     "name": "stdout",
     "output_type": "stream",
     "text": [
      "Epoch 1032/1500:  69%|██████▉   | 1032/1500 [05:42<02:35,  3.01it/s, loss=-740, v_num=1]\n",
      "Monitored metric elbo_validation did not improve in the last 45 records. Best score: -909.665. Signaling Trainer to stop.\n",
      "computing velocity graph (using 1/64 cores)\n"
     ]
    },
    {
     "data": {
      "application/vnd.jupyter.widget-view+json": {
       "model_id": "f6637c991c374cebb2ae06c19a3319ed",
       "version_major": 2,
       "version_minor": 0
      },
      "text/plain": [
       "  0%|          | 0/1146 [00:00<?, ?cells/s]"
      ]
     },
     "metadata": {},
     "output_type": "display_data"
    },
    {
     "name": "stdout",
     "output_type": "stream",
     "text": [
      "    finished (0:00:01) --> added \n",
      "    'velocity_graph', sparse matrix with cosine correlations (adata.uns)\n",
      "computing velocity embedding\n",
      "    finished (0:00:00) --> added\n",
      "    'velocity_pca', embedded velocity vectors (adata.obsm)\n",
      "# Cross-Boundary Direction Correctness (A->B)\n",
      "{('G1', 'S-ph'): 0.24525439840325106, ('S-ph', 'G2M'): 0.21083490836120788}\n",
      "Total Mean: 0.22804465338222946\n",
      "# In-cluster Coherence\n",
      "{'G1': 0.84805954, 'G2M': 0.95020163, 'N/A': 0.9004205, 'S-ph': 0.9390451}\n",
      "Total Mean: 0.9094316959381104\n",
      "0.22804465338222946\n",
      "0.48212932331949093\n"
     ]
    },
    {
     "name": "stderr",
     "output_type": "stream",
     "text": [
      "GPU available: True (cuda), used: True\n",
      "TPU available: False, using: 0 TPU cores\n",
      "IPU available: False, using: 0 IPUs\n",
      "HPU available: False, using: 0 HPUs\n",
      "LOCAL_RANK: 0 - CUDA_VISIBLE_DEVICES: [0]\n"
     ]
    },
    {
     "name": "stdout",
     "output_type": "stream",
     "text": [
      "Epoch 1189/1500:  79%|███████▉  | 1189/1500 [07:03<01:50,  2.81it/s, loss=-748, v_num=1]\n",
      "Monitored metric elbo_validation did not improve in the last 45 records. Best score: -918.206. Signaling Trainer to stop.\n",
      "computing velocity graph (using 1/64 cores)\n"
     ]
    },
    {
     "data": {
      "application/vnd.jupyter.widget-view+json": {
       "model_id": "c9e921e8044a4125a40255329cbc4173",
       "version_major": 2,
       "version_minor": 0
      },
      "text/plain": [
       "  0%|          | 0/1146 [00:00<?, ?cells/s]"
      ]
     },
     "metadata": {},
     "output_type": "display_data"
    },
    {
     "name": "stdout",
     "output_type": "stream",
     "text": [
      "    finished (0:00:01) --> added \n",
      "    'velocity_graph', sparse matrix with cosine correlations (adata.uns)\n",
      "computing velocity embedding\n",
      "    finished (0:00:00) --> added\n",
      "    'velocity_pca', embedded velocity vectors (adata.obsm)\n",
      "# Cross-Boundary Direction Correctness (A->B)\n",
      "{('G1', 'S-ph'): 0.248246067364665, ('S-ph', 'G2M'): 0.2100537926620079}\n",
      "Total Mean: 0.22914993001333644\n",
      "# In-cluster Coherence\n",
      "{'G1': 0.8555451, 'G2M': 0.9480296, 'N/A': 0.90738666, 'S-ph': 0.9417546}\n",
      "Total Mean: 0.9131789803504944\n",
      "0.22914993001333644\n",
      "0.5303320026283046\n"
     ]
    },
    {
     "name": "stderr",
     "output_type": "stream",
     "text": [
      "GPU available: True (cuda), used: True\n",
      "TPU available: False, using: 0 TPU cores\n",
      "IPU available: False, using: 0 IPUs\n",
      "HPU available: False, using: 0 HPUs\n",
      "LOCAL_RANK: 0 - CUDA_VISIBLE_DEVICES: [0]\n"
     ]
    },
    {
     "name": "stdout",
     "output_type": "stream",
     "text": [
      "Epoch 1095/1500:  73%|███████▎  | 1095/1500 [06:19<02:20,  2.89it/s, loss=-729, v_num=1]\n",
      "Monitored metric elbo_validation did not improve in the last 45 records. Best score: -905.435. Signaling Trainer to stop.\n",
      "computing velocity graph (using 1/64 cores)\n"
     ]
    },
    {
     "data": {
      "application/vnd.jupyter.widget-view+json": {
       "model_id": "f1a5ccddc3e2421996f3c9a088d21fb5",
       "version_major": 2,
       "version_minor": 0
      },
      "text/plain": [
       "  0%|          | 0/1146 [00:00<?, ?cells/s]"
      ]
     },
     "metadata": {},
     "output_type": "display_data"
    },
    {
     "name": "stdout",
     "output_type": "stream",
     "text": [
      "    finished (0:00:01) --> added \n",
      "    'velocity_graph', sparse matrix with cosine correlations (adata.uns)\n",
      "computing velocity embedding\n",
      "    finished (0:00:00) --> added\n",
      "    'velocity_pca', embedded velocity vectors (adata.obsm)\n",
      "# Cross-Boundary Direction Correctness (A->B)\n",
      "{('G1', 'S-ph'): 0.22917432701100043, ('S-ph', 'G2M'): 0.2079282345148487}\n",
      "Total Mean: 0.21855128076292457\n",
      "# In-cluster Coherence\n",
      "{'G1': 0.851872, 'G2M': 0.9415186, 'N/A': 0.89620376, 'S-ph': 0.9336412}\n",
      "Total Mean: 0.9058088660240173\n",
      "0.21855128076292457\n",
      "0.4854508140636082\n"
     ]
    },
    {
     "name": "stderr",
     "output_type": "stream",
     "text": [
      "GPU available: True (cuda), used: True\n",
      "TPU available: False, using: 0 TPU cores\n",
      "IPU available: False, using: 0 IPUs\n",
      "HPU available: False, using: 0 HPUs\n",
      "LOCAL_RANK: 0 - CUDA_VISIBLE_DEVICES: [0]\n"
     ]
    },
    {
     "name": "stdout",
     "output_type": "stream",
     "text": [
      "Epoch 1016/1500:  68%|██████▊   | 1016/1500 [05:49<02:46,  2.91it/s, loss=-738, v_num=1]\n",
      "Monitored metric elbo_validation did not improve in the last 45 records. Best score: -901.100. Signaling Trainer to stop.\n",
      "computing velocity graph (using 1/64 cores)\n"
     ]
    },
    {
     "data": {
      "application/vnd.jupyter.widget-view+json": {
       "model_id": "a402807275264fb58e23576413ed5d7c",
       "version_major": 2,
       "version_minor": 0
      },
      "text/plain": [
       "  0%|          | 0/1146 [00:00<?, ?cells/s]"
      ]
     },
     "metadata": {},
     "output_type": "display_data"
    },
    {
     "name": "stdout",
     "output_type": "stream",
     "text": [
      "    finished (0:00:01) --> added \n",
      "    'velocity_graph', sparse matrix with cosine correlations (adata.uns)\n",
      "computing velocity embedding\n",
      "    finished (0:00:00) --> added\n",
      "    'velocity_pca', embedded velocity vectors (adata.obsm)\n",
      "# Cross-Boundary Direction Correctness (A->B)\n",
      "{('G1', 'S-ph'): 0.2291668705302185, ('S-ph', 'G2M'): 0.20494271044728668}\n",
      "Total Mean: 0.2170547904887526\n",
      "# In-cluster Coherence\n",
      "{'G1': 0.85224843, 'G2M': 0.9473178, 'N/A': 0.9025485, 'S-ph': 0.9383641}\n",
      "Total Mean: 0.9101197123527527\n",
      "0.2170547904887526\n",
      "0.45550472698991856\n"
     ]
    },
    {
     "name": "stderr",
     "output_type": "stream",
     "text": [
      "GPU available: True (cuda), used: True\n",
      "TPU available: False, using: 0 TPU cores\n",
      "IPU available: False, using: 0 IPUs\n",
      "HPU available: False, using: 0 HPUs\n",
      "LOCAL_RANK: 0 - CUDA_VISIBLE_DEVICES: [0]\n"
     ]
    },
    {
     "name": "stdout",
     "output_type": "stream",
     "text": [
      "Epoch 1024/1500:  68%|██████▊   | 1024/1500 [05:40<02:38,  3.00it/s, loss=-741, v_num=1]\n",
      "Monitored metric elbo_validation did not improve in the last 45 records. Best score: -904.995. Signaling Trainer to stop.\n",
      "computing velocity graph (using 1/64 cores)\n"
     ]
    },
    {
     "data": {
      "application/vnd.jupyter.widget-view+json": {
       "model_id": "6f5cfd19fd9b4d18925b73288ecc2711",
       "version_major": 2,
       "version_minor": 0
      },
      "text/plain": [
       "  0%|          | 0/1146 [00:00<?, ?cells/s]"
      ]
     },
     "metadata": {},
     "output_type": "display_data"
    },
    {
     "name": "stdout",
     "output_type": "stream",
     "text": [
      "    finished (0:00:01) --> added \n",
      "    'velocity_graph', sparse matrix with cosine correlations (adata.uns)\n",
      "computing velocity embedding\n",
      "    finished (0:00:00) --> added\n",
      "    'velocity_pca', embedded velocity vectors (adata.obsm)\n",
      "# Cross-Boundary Direction Correctness (A->B)\n",
      "{('G1', 'S-ph'): 0.2447188485986888, ('S-ph', 'G2M'): 0.20776749580846177}\n",
      "Total Mean: 0.2262431722035753\n",
      "# In-cluster Coherence\n",
      "{'G1': 0.85768473, 'G2M': 0.954841, 'N/A': 0.9109631, 'S-ph': 0.943323}\n",
      "Total Mean: 0.9167029857635498\n",
      "0.2262431722035753\n",
      "0.45129921348702395\n"
     ]
    },
    {
     "name": "stderr",
     "output_type": "stream",
     "text": [
      "GPU available: True (cuda), used: True\n",
      "TPU available: False, using: 0 TPU cores\n",
      "IPU available: False, using: 0 IPUs\n",
      "HPU available: False, using: 0 HPUs\n",
      "LOCAL_RANK: 0 - CUDA_VISIBLE_DEVICES: [0]\n"
     ]
    },
    {
     "name": "stdout",
     "output_type": "stream",
     "text": [
      "Epoch 1167/1500:  78%|███████▊  | 1167/1500 [06:15<01:47,  3.11it/s, loss=-754, v_num=1]\n",
      "Monitored metric elbo_validation did not improve in the last 45 records. Best score: -914.327. Signaling Trainer to stop.\n",
      "computing velocity graph (using 1/64 cores)\n"
     ]
    },
    {
     "data": {
      "application/vnd.jupyter.widget-view+json": {
       "model_id": "f87e3da97ae9452f8b8d92d8390a28a2",
       "version_major": 2,
       "version_minor": 0
      },
      "text/plain": [
       "  0%|          | 0/1146 [00:00<?, ?cells/s]"
      ]
     },
     "metadata": {},
     "output_type": "display_data"
    },
    {
     "name": "stdout",
     "output_type": "stream",
     "text": [
      "    finished (0:00:00) --> added \n",
      "    'velocity_graph', sparse matrix with cosine correlations (adata.uns)\n",
      "computing velocity embedding\n",
      "    finished (0:00:00) --> added\n",
      "    'velocity_pca', embedded velocity vectors (adata.obsm)\n",
      "# Cross-Boundary Direction Correctness (A->B)\n",
      "{('G1', 'S-ph'): 0.24730381851368205, ('S-ph', 'G2M'): 0.20855583018260926}\n",
      "Total Mean: 0.22792982434814565\n",
      "# In-cluster Coherence\n",
      "{'G1': 0.8550112, 'G2M': 0.9494101, 'N/A': 0.9067707, 'S-ph': 0.9416382}\n",
      "Total Mean: 0.9132075905799866\n",
      "0.22792982434814565\n",
      "0.44022764278704607\n"
     ]
    },
    {
     "name": "stderr",
     "output_type": "stream",
     "text": [
      "GPU available: True (cuda), used: True\n",
      "TPU available: False, using: 0 TPU cores\n",
      "IPU available: False, using: 0 IPUs\n",
      "HPU available: False, using: 0 HPUs\n",
      "LOCAL_RANK: 0 - CUDA_VISIBLE_DEVICES: [0]\n"
     ]
    },
    {
     "name": "stdout",
     "output_type": "stream",
     "text": [
      "Epoch 993/1500:  66%|██████▌   | 993/1500 [05:08<02:37,  3.22it/s, loss=-739, v_num=1] \n",
      "Monitored metric elbo_validation did not improve in the last 45 records. Best score: -905.246. Signaling Trainer to stop.\n",
      "computing velocity graph (using 1/64 cores)\n"
     ]
    },
    {
     "data": {
      "application/vnd.jupyter.widget-view+json": {
       "model_id": "f2d3dd99ca1b4f128d29c88cf18384b9",
       "version_major": 2,
       "version_minor": 0
      },
      "text/plain": [
       "  0%|          | 0/1146 [00:00<?, ?cells/s]"
      ]
     },
     "metadata": {},
     "output_type": "display_data"
    },
    {
     "name": "stdout",
     "output_type": "stream",
     "text": [
      "    finished (0:00:01) --> added \n",
      "    'velocity_graph', sparse matrix with cosine correlations (adata.uns)\n",
      "computing velocity embedding\n",
      "    finished (0:00:00) --> added\n",
      "    'velocity_pca', embedded velocity vectors (adata.obsm)\n",
      "# Cross-Boundary Direction Correctness (A->B)\n",
      "{('G1', 'S-ph'): 0.20775727941565245, ('S-ph', 'G2M'): 0.20564950876884622}\n",
      "Total Mean: 0.20670339409224933\n",
      "# In-cluster Coherence\n",
      "{'G1': 0.8521427, 'G2M': 0.9504664, 'N/A': 0.90151584, 'S-ph': 0.9372185}\n",
      "Total Mean: 0.9103358387947083\n",
      "0.20670339409224933\n",
      "0.4389651164777454\n"
     ]
    },
    {
     "name": "stderr",
     "output_type": "stream",
     "text": [
      "GPU available: True (cuda), used: True\n",
      "TPU available: False, using: 0 TPU cores\n",
      "IPU available: False, using: 0 IPUs\n",
      "HPU available: False, using: 0 HPUs\n",
      "LOCAL_RANK: 0 - CUDA_VISIBLE_DEVICES: [0]\n"
     ]
    },
    {
     "name": "stdout",
     "output_type": "stream",
     "text": [
      "Epoch 1108/1500:  74%|███████▍  | 1108/1500 [06:17<02:13,  2.94it/s, loss=-742, v_num=1]\n",
      "Monitored metric elbo_validation did not improve in the last 45 records. Best score: -910.831. Signaling Trainer to stop.\n",
      "computing velocity graph (using 1/64 cores)\n"
     ]
    },
    {
     "data": {
      "application/vnd.jupyter.widget-view+json": {
       "model_id": "1d89ea1adab5454aa7438e7b47817185",
       "version_major": 2,
       "version_minor": 0
      },
      "text/plain": [
       "  0%|          | 0/1146 [00:00<?, ?cells/s]"
      ]
     },
     "metadata": {},
     "output_type": "display_data"
    },
    {
     "name": "stdout",
     "output_type": "stream",
     "text": [
      "    finished (0:00:01) --> added \n",
      "    'velocity_graph', sparse matrix with cosine correlations (adata.uns)\n",
      "computing velocity embedding\n",
      "    finished (0:00:00) --> added\n",
      "    'velocity_pca', embedded velocity vectors (adata.obsm)\n",
      "# Cross-Boundary Direction Correctness (A->B)\n",
      "{('G1', 'S-ph'): 0.21833376180292852, ('S-ph', 'G2M'): 0.2044570863490886}\n",
      "Total Mean: 0.21139542407600856\n",
      "# In-cluster Coherence\n",
      "{'G1': 0.84602284, 'G2M': 0.95226103, 'N/A': 0.89997476, 'S-ph': 0.9406743}\n",
      "Total Mean: 0.909733235836029\n",
      "0.21139542407600856\n",
      "0.42736797903172374\n"
     ]
    },
    {
     "name": "stderr",
     "output_type": "stream",
     "text": [
      "GPU available: True (cuda), used: True\n",
      "TPU available: False, using: 0 TPU cores\n",
      "IPU available: False, using: 0 IPUs\n",
      "HPU available: False, using: 0 HPUs\n",
      "LOCAL_RANK: 0 - CUDA_VISIBLE_DEVICES: [0]\n"
     ]
    },
    {
     "name": "stdout",
     "output_type": "stream",
     "text": [
      "Epoch 1090/1500:  73%|███████▎  | 1090/1500 [06:11<02:19,  2.94it/s, loss=-747, v_num=1]\n",
      "Monitored metric elbo_validation did not improve in the last 45 records. Best score: -911.023. Signaling Trainer to stop.\n",
      "computing velocity graph (using 1/64 cores)\n"
     ]
    },
    {
     "data": {
      "application/vnd.jupyter.widget-view+json": {
       "model_id": "1a8cdfe4d62e4e649fddf78812cfd96b",
       "version_major": 2,
       "version_minor": 0
      },
      "text/plain": [
       "  0%|          | 0/1146 [00:00<?, ?cells/s]"
      ]
     },
     "metadata": {},
     "output_type": "display_data"
    },
    {
     "name": "stdout",
     "output_type": "stream",
     "text": [
      "    finished (0:00:01) --> added \n",
      "    'velocity_graph', sparse matrix with cosine correlations (adata.uns)\n",
      "computing velocity embedding\n",
      "    finished (0:00:00) --> added\n",
      "    'velocity_pca', embedded velocity vectors (adata.obsm)\n",
      "# Cross-Boundary Direction Correctness (A->B)\n",
      "{('G1', 'S-ph'): 0.22425398506561492, ('S-ph', 'G2M'): 0.21522776135920402}\n",
      "Total Mean: 0.21974087321240948\n",
      "# In-cluster Coherence\n",
      "{'G1': 0.8540741, 'G2M': 0.94637203, 'N/A': 0.90357476, 'S-ph': 0.94145393}\n",
      "Total Mean: 0.911368727684021\n",
      "0.21974087321240948\n",
      "0.4804854579828803\n"
     ]
    },
    {
     "name": "stderr",
     "output_type": "stream",
     "text": [
      "GPU available: True (cuda), used: True\n",
      "TPU available: False, using: 0 TPU cores\n",
      "IPU available: False, using: 0 IPUs\n",
      "HPU available: False, using: 0 HPUs\n",
      "LOCAL_RANK: 0 - CUDA_VISIBLE_DEVICES: [0]\n"
     ]
    },
    {
     "name": "stdout",
     "output_type": "stream",
     "text": [
      "Epoch 1157/1500:  77%|███████▋  | 1157/1500 [06:24<01:54,  3.01it/s, loss=-747, v_num=1]\n",
      "Monitored metric elbo_validation did not improve in the last 45 records. Best score: -903.069. Signaling Trainer to stop.\n",
      "computing velocity graph (using 1/64 cores)\n"
     ]
    },
    {
     "data": {
      "application/vnd.jupyter.widget-view+json": {
       "model_id": "f2d50e39d9744fd99d3d1b6a2af3b3a6",
       "version_major": 2,
       "version_minor": 0
      },
      "text/plain": [
       "  0%|          | 0/1146 [00:00<?, ?cells/s]"
      ]
     },
     "metadata": {},
     "output_type": "display_data"
    },
    {
     "name": "stdout",
     "output_type": "stream",
     "text": [
      "    finished (0:00:01) --> added \n",
      "    'velocity_graph', sparse matrix with cosine correlations (adata.uns)\n",
      "computing velocity embedding\n",
      "    finished (0:00:00) --> added\n",
      "    'velocity_pca', embedded velocity vectors (adata.obsm)\n",
      "# Cross-Boundary Direction Correctness (A->B)\n",
      "{('G1', 'S-ph'): 0.2226585836962245, ('S-ph', 'G2M'): 0.2079075819024223}\n",
      "Total Mean: 0.2152830827993234\n",
      "# In-cluster Coherence\n",
      "{'G1': 0.8574815, 'G2M': 0.9453637, 'N/A': 0.90188956, 'S-ph': 0.9375404}\n",
      "Total Mean: 0.9105688333511353\n",
      "0.2152830827993234\n",
      "0.47895039978769466\n"
     ]
    },
    {
     "name": "stderr",
     "output_type": "stream",
     "text": [
      "GPU available: True (cuda), used: True\n",
      "TPU available: False, using: 0 TPU cores\n",
      "IPU available: False, using: 0 IPUs\n",
      "HPU available: False, using: 0 HPUs\n",
      "LOCAL_RANK: 0 - CUDA_VISIBLE_DEVICES: [0]\n"
     ]
    },
    {
     "name": "stdout",
     "output_type": "stream",
     "text": [
      "Epoch 1064/1500:  71%|███████   | 1064/1500 [05:43<02:20,  3.10it/s, loss=-739, v_num=1]\n",
      "Monitored metric elbo_validation did not improve in the last 45 records. Best score: -904.829. Signaling Trainer to stop.\n",
      "computing velocity graph (using 1/64 cores)\n"
     ]
    },
    {
     "data": {
      "application/vnd.jupyter.widget-view+json": {
       "model_id": "6871a2c4c9de4a839d94ff86ce931725",
       "version_major": 2,
       "version_minor": 0
      },
      "text/plain": [
       "  0%|          | 0/1146 [00:00<?, ?cells/s]"
      ]
     },
     "metadata": {},
     "output_type": "display_data"
    },
    {
     "name": "stdout",
     "output_type": "stream",
     "text": [
      "    finished (0:00:00) --> added \n",
      "    'velocity_graph', sparse matrix with cosine correlations (adata.uns)\n",
      "computing velocity embedding\n",
      "    finished (0:00:00) --> added\n",
      "    'velocity_pca', embedded velocity vectors (adata.obsm)\n",
      "# Cross-Boundary Direction Correctness (A->B)\n",
      "{('G1', 'S-ph'): 0.22342395135943796, ('S-ph', 'G2M'): 0.20686485565897458}\n",
      "Total Mean: 0.21514440350920627\n",
      "# In-cluster Coherence\n",
      "{'G1': 0.8567795, 'G2M': 0.9497695, 'N/A': 0.9043414, 'S-ph': 0.94299775}\n",
      "Total Mean: 0.913472056388855\n",
      "0.21514440350920627\n",
      "0.46656463887385596\n"
     ]
    },
    {
     "name": "stderr",
     "output_type": "stream",
     "text": [
      "GPU available: True (cuda), used: True\n",
      "TPU available: False, using: 0 TPU cores\n",
      "IPU available: False, using: 0 IPUs\n",
      "HPU available: False, using: 0 HPUs\n",
      "LOCAL_RANK: 0 - CUDA_VISIBLE_DEVICES: [0]\n"
     ]
    },
    {
     "name": "stdout",
     "output_type": "stream",
     "text": [
      "Epoch 892/1500:  59%|█████▉    | 892/1500 [04:58<03:23,  2.99it/s, loss=-720, v_num=1]   \n",
      "Monitored metric elbo_validation did not improve in the last 45 records. Best score: -896.905. Signaling Trainer to stop.\n",
      "computing velocity graph (using 1/64 cores)\n"
     ]
    },
    {
     "data": {
      "application/vnd.jupyter.widget-view+json": {
       "model_id": "055ac2481410459f97e9963d1dda1ec8",
       "version_major": 2,
       "version_minor": 0
      },
      "text/plain": [
       "  0%|          | 0/1146 [00:00<?, ?cells/s]"
      ]
     },
     "metadata": {},
     "output_type": "display_data"
    },
    {
     "name": "stdout",
     "output_type": "stream",
     "text": [
      "    finished (0:00:01) --> added \n",
      "    'velocity_graph', sparse matrix with cosine correlations (adata.uns)\n",
      "computing velocity embedding\n",
      "    finished (0:00:00) --> added\n",
      "    'velocity_pca', embedded velocity vectors (adata.obsm)\n",
      "# Cross-Boundary Direction Correctness (A->B)\n",
      "{('G1', 'S-ph'): 0.23049017117821607, ('S-ph', 'G2M'): 0.2085830049368876}\n",
      "Total Mean: 0.21953658805755183\n",
      "# In-cluster Coherence\n",
      "{'G1': 0.85452145, 'G2M': 0.9493586, 'N/A': 0.9075084, 'S-ph': 0.941971}\n",
      "Total Mean: 0.9133398532867432\n",
      "0.21953658805755183\n",
      "0.4849638961252132\n"
     ]
    }
   ],
   "source": [
    "score_v0 = []\n",
    "score_t0 = []\n",
    "for nrun in range(30):\n",
    "    reg_vae_r1 = REGVELOVI(adata,W=W.T*0,soft_constraint = False)\n",
    "    reg_vae_r1.module.v_encoder.fc1.weight.data = reg_vae.module.v_encoder.fc1.weight.data.detach().cpu().clone()\n",
    "    reg_vae_r1.module.v_encoder.fc1.bias.data = reg_vae.module.v_encoder.fc1.bias.data.detach().cpu().clone()\n",
    "    reg_vae_r1.train()\n",
    "    \n",
    "    adata_target = add_regvelo_outputs_to_adata(adata, reg_vae_r1)\n",
    "    \n",
    "    scv.tl.velocity_graph(adata_target)\n",
    "    adata_target.obsm[\"X_pca\"] = adata.obsm[\"X_pca\"].copy()\n",
    "    scv.tl.velocity_embedding(adata_target, basis='pca')\n",
    "\n",
    "    regvi = utv.evaluate(adata_target, cluster_edges, label, 'velocity', x_emb = 'X_pca')\n",
    "    score_v0.append(np.mean([np.mean(regvi['Cross-Boundary Direction Correctness (A->B)'][('G1', 'S-ph')]),np.mean(regvi['Cross-Boundary Direction Correctness (A->B)'][('S-ph','G2M')])]))\n",
    "    print(score_v0[len(score_v0)-1])\n",
    "    \n",
    "    ## calculate latent time correlation\n",
    "    adata_target.obs[\"latent_time\"] = np.mean(adata_target.layers[\"fit_t\"],axis = 1)\n",
    "    score_t0.append(scipy.stats.spearmanr(adata_target.obs[\"latent_time\"], adata_target.obs[\"fucci_time\"])[0])\n",
    "    print(score_t0[len(score_t0)-1])"
   ]
  },
  {
   "cell_type": "code",
   "execution_count": 18,
   "id": "14f075f4-e8dd-429f-8ee1-a5f79dd8d142",
   "metadata": {},
   "outputs": [
    {
     "name": "stderr",
     "output_type": "stream",
     "text": [
      "GPU available: True (cuda), used: True\n",
      "TPU available: False, using: 0 TPU cores\n",
      "IPU available: False, using: 0 IPUs\n",
      "HPU available: False, using: 0 HPUs\n",
      "LOCAL_RANK: 0 - CUDA_VISIBLE_DEVICES: [0]\n"
     ]
    },
    {
     "name": "stdout",
     "output_type": "stream",
     "text": [
      "Epoch 1045/1500:  70%|██████▉   | 1045/1500 [05:37<02:26,  3.10it/s, loss=-462, v_num=1]\n",
      "Monitored metric elbo_validation did not improve in the last 45 records. Best score: -687.045. Signaling Trainer to stop.\n",
      "computing velocity graph (using 1/64 cores)\n"
     ]
    },
    {
     "data": {
      "application/vnd.jupyter.widget-view+json": {
       "model_id": "83799c17409d4a8dbb759d4c1b1d01a3",
       "version_major": 2,
       "version_minor": 0
      },
      "text/plain": [
       "  0%|          | 0/1146 [00:00<?, ?cells/s]"
      ]
     },
     "metadata": {},
     "output_type": "display_data"
    },
    {
     "name": "stdout",
     "output_type": "stream",
     "text": [
      "    finished (0:00:01) --> added \n",
      "    'velocity_graph', sparse matrix with cosine correlations (adata.uns)\n",
      "computing velocity embedding\n",
      "    finished (0:00:00) --> added\n",
      "    'velocity_pca', embedded velocity vectors (adata.obsm)\n",
      "# Cross-Boundary Direction Correctness (A->B)\n",
      "{('G1', 'S-ph'): 0.116648544891723, ('S-ph', 'G2M'): 0.16921325652248503}\n",
      "Total Mean: 0.142930900707104\n",
      "# In-cluster Coherence\n",
      "{'G1': 0.9166625, 'G2M': 0.9456628, 'N/A': 0.94289005, 'S-ph': 0.94945025}\n",
      "Total Mean: 0.9386664032936096\n",
      "0.142930900707104\n",
      "0.1706659636136195\n"
     ]
    },
    {
     "name": "stderr",
     "output_type": "stream",
     "text": [
      "GPU available: True (cuda), used: True\n",
      "TPU available: False, using: 0 TPU cores\n",
      "IPU available: False, using: 0 IPUs\n",
      "HPU available: False, using: 0 HPUs\n",
      "LOCAL_RANK: 0 - CUDA_VISIBLE_DEVICES: [0]\n"
     ]
    },
    {
     "name": "stdout",
     "output_type": "stream",
     "text": [
      "Epoch 861/1500:  57%|█████▋    | 861/1500 [04:34<03:23,  3.14it/s, loss=-448, v_num=1]  \n",
      "Monitored metric elbo_validation did not improve in the last 45 records. Best score: -681.890. Signaling Trainer to stop.\n",
      "computing velocity graph (using 1/64 cores)\n"
     ]
    },
    {
     "data": {
      "application/vnd.jupyter.widget-view+json": {
       "model_id": "83b8a5c491d24a88b2aa39f19ba24466",
       "version_major": 2,
       "version_minor": 0
      },
      "text/plain": [
       "  0%|          | 0/1146 [00:00<?, ?cells/s]"
      ]
     },
     "metadata": {},
     "output_type": "display_data"
    },
    {
     "name": "stdout",
     "output_type": "stream",
     "text": [
      "    finished (0:00:01) --> added \n",
      "    'velocity_graph', sparse matrix with cosine correlations (adata.uns)\n",
      "computing velocity embedding\n",
      "    finished (0:00:00) --> added\n",
      "    'velocity_pca', embedded velocity vectors (adata.obsm)\n"
     ]
    },
    {
     "name": "stderr",
     "output_type": "stream",
     "text": [
      "GPU available: True (cuda), used: True\n",
      "TPU available: False, using: 0 TPU cores\n",
      "IPU available: False, using: 0 IPUs\n",
      "HPU available: False, using: 0 HPUs\n"
     ]
    },
    {
     "name": "stdout",
     "output_type": "stream",
     "text": [
      "# Cross-Boundary Direction Correctness (A->B)\n",
      "{('G1', 'S-ph'): 0.14493390003467785, ('S-ph', 'G2M'): 0.17659375682496437}\n",
      "Total Mean: 0.16076382842982112\n",
      "# In-cluster Coherence\n",
      "{'G1': 0.9159379, 'G2M': 0.95152664, 'N/A': 0.94745135, 'S-ph': 0.9584522}\n",
      "Total Mean: 0.9433420300483704\n",
      "0.16076382842982112\n",
      "-0.021831167531190167\n"
     ]
    },
    {
     "name": "stderr",
     "output_type": "stream",
     "text": [
      "LOCAL_RANK: 0 - CUDA_VISIBLE_DEVICES: [0]\n"
     ]
    },
    {
     "name": "stdout",
     "output_type": "stream",
     "text": [
      "Epoch 932/1500:  62%|██████▏   | 932/1500 [05:16<03:13,  2.94it/s, loss=-449, v_num=1] \n",
      "Monitored metric elbo_validation did not improve in the last 45 records. Best score: -680.906. Signaling Trainer to stop.\n",
      "computing velocity graph (using 1/64 cores)\n"
     ]
    },
    {
     "data": {
      "application/vnd.jupyter.widget-view+json": {
       "model_id": "976d8a2bcd9b4ad8a9ae597d7dbf3d3f",
       "version_major": 2,
       "version_minor": 0
      },
      "text/plain": [
       "  0%|          | 0/1146 [00:00<?, ?cells/s]"
      ]
     },
     "metadata": {},
     "output_type": "display_data"
    },
    {
     "name": "stdout",
     "output_type": "stream",
     "text": [
      "    finished (0:00:01) --> added \n",
      "    'velocity_graph', sparse matrix with cosine correlations (adata.uns)\n",
      "computing velocity embedding\n",
      "    finished (0:00:00) --> added\n",
      "    'velocity_pca', embedded velocity vectors (adata.obsm)\n",
      "# Cross-Boundary Direction Correctness (A->B)\n",
      "{('G1', 'S-ph'): 0.08869808013038681, ('S-ph', 'G2M'): 0.12410492794123322}\n",
      "Total Mean: 0.10640150403581002\n",
      "# In-cluster Coherence\n",
      "{'G1': 0.9064415, 'G2M': 0.9428479, 'N/A': 0.9348247, 'S-ph': 0.94643354}\n",
      "Total Mean: 0.9326369166374207\n",
      "0.10640150403581002\n",
      "-0.34030608473332835\n"
     ]
    },
    {
     "name": "stderr",
     "output_type": "stream",
     "text": [
      "GPU available: True (cuda), used: True\n",
      "TPU available: False, using: 0 TPU cores\n",
      "IPU available: False, using: 0 IPUs\n",
      "HPU available: False, using: 0 HPUs\n",
      "LOCAL_RANK: 0 - CUDA_VISIBLE_DEVICES: [0]\n"
     ]
    },
    {
     "name": "stdout",
     "output_type": "stream",
     "text": [
      "Epoch 1098/1500:  73%|███████▎  | 1098/1500 [05:57<02:11,  3.07it/s, loss=-473, v_num=1]\n",
      "Monitored metric elbo_validation did not improve in the last 45 records. Best score: -688.942. Signaling Trainer to stop.\n",
      "computing velocity graph (using 1/64 cores)\n"
     ]
    },
    {
     "data": {
      "application/vnd.jupyter.widget-view+json": {
       "model_id": "e10dc8f259644e8883fe28dcf284fd16",
       "version_major": 2,
       "version_minor": 0
      },
      "text/plain": [
       "  0%|          | 0/1146 [00:00<?, ?cells/s]"
      ]
     },
     "metadata": {},
     "output_type": "display_data"
    },
    {
     "name": "stdout",
     "output_type": "stream",
     "text": [
      "    finished (0:00:01) --> added \n",
      "    'velocity_graph', sparse matrix with cosine correlations (adata.uns)\n",
      "computing velocity embedding\n",
      "    finished (0:00:00) --> added\n",
      "    'velocity_pca', embedded velocity vectors (adata.obsm)\n",
      "# Cross-Boundary Direction Correctness (A->B)\n",
      "{('G1', 'S-ph'): 0.2045624536219609, ('S-ph', 'G2M'): 0.20839457191272254}\n",
      "Total Mean: 0.20647851276734172\n",
      "# In-cluster Coherence\n",
      "{'G1': 0.91483426, 'G2M': 0.94541806, 'N/A': 0.94280183, 'S-ph': 0.9457768}\n",
      "Total Mean: 0.937207818031311\n",
      "0.20647851276734172\n",
      "0.5006470399509617\n"
     ]
    },
    {
     "name": "stderr",
     "output_type": "stream",
     "text": [
      "GPU available: True (cuda), used: True\n",
      "TPU available: False, using: 0 TPU cores\n",
      "IPU available: False, using: 0 IPUs\n",
      "HPU available: False, using: 0 HPUs\n",
      "LOCAL_RANK: 0 - CUDA_VISIBLE_DEVICES: [0]\n"
     ]
    },
    {
     "name": "stdout",
     "output_type": "stream",
     "text": [
      "Epoch 924/1500:  62%|██████▏   | 924/1500 [05:28<03:24,  2.82it/s, loss=-468, v_num=1] \n",
      "Monitored metric elbo_validation did not improve in the last 45 records. Best score: -701.259. Signaling Trainer to stop.\n",
      "computing velocity graph (using 1/64 cores)\n"
     ]
    },
    {
     "data": {
      "application/vnd.jupyter.widget-view+json": {
       "model_id": "4c373b6261654c12aad320abfade86d8",
       "version_major": 2,
       "version_minor": 0
      },
      "text/plain": [
       "  0%|          | 0/1146 [00:00<?, ?cells/s]"
      ]
     },
     "metadata": {},
     "output_type": "display_data"
    },
    {
     "name": "stdout",
     "output_type": "stream",
     "text": [
      "    finished (0:00:01) --> added \n",
      "    'velocity_graph', sparse matrix with cosine correlations (adata.uns)\n",
      "computing velocity embedding\n",
      "    finished (0:00:00) --> added\n",
      "    'velocity_pca', embedded velocity vectors (adata.obsm)\n",
      "# Cross-Boundary Direction Correctness (A->B)\n",
      "{('G1', 'S-ph'): 0.13287007097552783, ('S-ph', 'G2M'): 0.20124292599683272}\n",
      "Total Mean: 0.16705649848618026\n",
      "# In-cluster Coherence\n",
      "{'G1': 0.92007357, 'G2M': 0.94851327, 'N/A': 0.9439252, 'S-ph': 0.94991416}\n",
      "Total Mean: 0.9406065344810486\n",
      "0.16705649848618026\n",
      "0.026466936016590174\n"
     ]
    },
    {
     "name": "stderr",
     "output_type": "stream",
     "text": [
      "GPU available: True (cuda), used: True\n",
      "TPU available: False, using: 0 TPU cores\n",
      "IPU available: False, using: 0 IPUs\n",
      "HPU available: False, using: 0 HPUs\n",
      "LOCAL_RANK: 0 - CUDA_VISIBLE_DEVICES: [0]\n"
     ]
    },
    {
     "name": "stdout",
     "output_type": "stream",
     "text": [
      "Epoch 877/1500:  58%|█████▊    | 877/1500 [05:22<03:48,  2.72it/s, loss=-478, v_num=1] \n",
      "Monitored metric elbo_validation did not improve in the last 45 records. Best score: -702.784. Signaling Trainer to stop.\n",
      "computing velocity graph (using 1/64 cores)\n"
     ]
    },
    {
     "data": {
      "application/vnd.jupyter.widget-view+json": {
       "model_id": "76f7d26d99604f8ab5035801ca8d3162",
       "version_major": 2,
       "version_minor": 0
      },
      "text/plain": [
       "  0%|          | 0/1146 [00:00<?, ?cells/s]"
      ]
     },
     "metadata": {},
     "output_type": "display_data"
    },
    {
     "name": "stdout",
     "output_type": "stream",
     "text": [
      "    finished (0:00:01) --> added \n",
      "    'velocity_graph', sparse matrix with cosine correlations (adata.uns)\n",
      "computing velocity embedding\n",
      "    finished (0:00:00) --> added\n",
      "    'velocity_pca', embedded velocity vectors (adata.obsm)\n",
      "# Cross-Boundary Direction Correctness (A->B)\n",
      "{('G1', 'S-ph'): 0.08505486439682897, ('S-ph', 'G2M'): 0.1967939994312302}\n",
      "Total Mean: 0.1409244319140296\n",
      "# In-cluster Coherence\n",
      "{'G1': 0.9101043, 'G2M': 0.9450733, 'N/A': 0.9410635, 'S-ph': 0.95064485}\n",
      "Total Mean: 0.9367215633392334\n",
      "0.1409244319140296\n",
      "-0.09423094352376438\n"
     ]
    },
    {
     "name": "stderr",
     "output_type": "stream",
     "text": [
      "GPU available: True (cuda), used: True\n",
      "TPU available: False, using: 0 TPU cores\n",
      "IPU available: False, using: 0 IPUs\n",
      "HPU available: False, using: 0 HPUs\n",
      "LOCAL_RANK: 0 - CUDA_VISIBLE_DEVICES: [0]\n"
     ]
    },
    {
     "name": "stdout",
     "output_type": "stream",
     "text": [
      "Epoch 923/1500:  62%|██████▏   | 923/1500 [05:17<03:18,  2.90it/s, loss=-467, v_num=1] \n",
      "Monitored metric elbo_validation did not improve in the last 45 records. Best score: -698.829. Signaling Trainer to stop.\n",
      "computing velocity graph (using 1/64 cores)\n"
     ]
    },
    {
     "data": {
      "application/vnd.jupyter.widget-view+json": {
       "model_id": "e5bae79edf2a42608f7500c4104465b9",
       "version_major": 2,
       "version_minor": 0
      },
      "text/plain": [
       "  0%|          | 0/1146 [00:00<?, ?cells/s]"
      ]
     },
     "metadata": {},
     "output_type": "display_data"
    },
    {
     "name": "stdout",
     "output_type": "stream",
     "text": [
      "    finished (0:00:01) --> added \n",
      "    'velocity_graph', sparse matrix with cosine correlations (adata.uns)\n",
      "computing velocity embedding\n",
      "    finished (0:00:00) --> added\n",
      "    'velocity_pca', embedded velocity vectors (adata.obsm)\n",
      "# Cross-Boundary Direction Correctness (A->B)\n",
      "{('G1', 'S-ph'): 0.15492963611375102, ('S-ph', 'G2M'): 0.18540660404164927}\n",
      "Total Mean: 0.17016812007770016\n",
      "# In-cluster Coherence\n",
      "{'G1': 0.91325796, 'G2M': 0.94239604, 'N/A': 0.9439426, 'S-ph': 0.94823104}\n",
      "Total Mean: 0.9369568824768066\n",
      "0.17016812007770016\n",
      "0.18462721892126155\n"
     ]
    },
    {
     "name": "stderr",
     "output_type": "stream",
     "text": [
      "GPU available: True (cuda), used: True\n",
      "TPU available: False, using: 0 TPU cores\n",
      "IPU available: False, using: 0 IPUs\n",
      "HPU available: False, using: 0 HPUs\n",
      "LOCAL_RANK: 0 - CUDA_VISIBLE_DEVICES: [0]\n"
     ]
    },
    {
     "name": "stdout",
     "output_type": "stream",
     "text": [
      "Epoch 799/1500:  53%|█████▎    | 799/1500 [04:36<04:02,  2.89it/s, loss=-460, v_num=1] \n",
      "Monitored metric elbo_validation did not improve in the last 45 records. Best score: -689.451. Signaling Trainer to stop.\n",
      "computing velocity graph (using 1/64 cores)\n"
     ]
    },
    {
     "data": {
      "application/vnd.jupyter.widget-view+json": {
       "model_id": "b2d125f4956e420d88acee1a542bc7f5",
       "version_major": 2,
       "version_minor": 0
      },
      "text/plain": [
       "  0%|          | 0/1146 [00:00<?, ?cells/s]"
      ]
     },
     "metadata": {},
     "output_type": "display_data"
    },
    {
     "name": "stdout",
     "output_type": "stream",
     "text": [
      "    finished (0:00:01) --> added \n",
      "    'velocity_graph', sparse matrix with cosine correlations (adata.uns)\n",
      "computing velocity embedding\n",
      "    finished (0:00:00) --> added\n",
      "    'velocity_pca', embedded velocity vectors (adata.obsm)\n",
      "# Cross-Boundary Direction Correctness (A->B)\n",
      "{('G1', 'S-ph'): 0.17534295612583442, ('S-ph', 'G2M'): 0.172623704737858}\n",
      "Total Mean: 0.17398333043184622\n",
      "# In-cluster Coherence\n",
      "{'G1': 0.9200079, 'G2M': 0.95080084, 'N/A': 0.9459471, 'S-ph': 0.9537359}\n",
      "Total Mean: 0.9426229000091553\n",
      "0.17398333043184622\n",
      "0.018022417954632174\n"
     ]
    },
    {
     "name": "stderr",
     "output_type": "stream",
     "text": [
      "GPU available: True (cuda), used: True\n",
      "TPU available: False, using: 0 TPU cores\n",
      "IPU available: False, using: 0 IPUs\n",
      "HPU available: False, using: 0 HPUs\n",
      "LOCAL_RANK: 0 - CUDA_VISIBLE_DEVICES: [0]\n"
     ]
    },
    {
     "name": "stdout",
     "output_type": "stream",
     "text": [
      "Epoch 871/1500:  58%|█████▊    | 871/1500 [04:51<03:30,  2.99it/s, loss=-440, v_num=1]  \n",
      "Monitored metric elbo_validation did not improve in the last 45 records. Best score: -675.955. Signaling Trainer to stop.\n",
      "computing velocity graph (using 1/64 cores)\n"
     ]
    },
    {
     "data": {
      "application/vnd.jupyter.widget-view+json": {
       "model_id": "7ad7b005624847509ddb2bc9e61c0555",
       "version_major": 2,
       "version_minor": 0
      },
      "text/plain": [
       "  0%|          | 0/1146 [00:00<?, ?cells/s]"
      ]
     },
     "metadata": {},
     "output_type": "display_data"
    },
    {
     "name": "stdout",
     "output_type": "stream",
     "text": [
      "    finished (0:00:01) --> added \n",
      "    'velocity_graph', sparse matrix with cosine correlations (adata.uns)\n",
      "computing velocity embedding\n",
      "    finished (0:00:00) --> added\n",
      "    'velocity_pca', embedded velocity vectors (adata.obsm)\n",
      "# Cross-Boundary Direction Correctness (A->B)\n",
      "{('G1', 'S-ph'): 0.0223171798324517, ('S-ph', 'G2M'): 0.17543890304842974}\n",
      "Total Mean: 0.09887804144044073\n",
      "# In-cluster Coherence\n",
      "{'G1': 0.89997995, 'G2M': 0.9420071, 'N/A': 0.92991203, 'S-ph': 0.94058895}\n",
      "Total Mean: 0.9281220436096191\n",
      "0.09887804144044073\n",
      "-0.5363707718819845\n"
     ]
    },
    {
     "name": "stderr",
     "output_type": "stream",
     "text": [
      "GPU available: True (cuda), used: True\n",
      "TPU available: False, using: 0 TPU cores\n",
      "IPU available: False, using: 0 IPUs\n",
      "HPU available: False, using: 0 HPUs\n",
      "LOCAL_RANK: 0 - CUDA_VISIBLE_DEVICES: [0]\n"
     ]
    },
    {
     "name": "stdout",
     "output_type": "stream",
     "text": [
      "Epoch 784/1500:  52%|█████▏    | 784/1500 [04:10<03:48,  3.13it/s, loss=-436, v_num=1]  \n",
      "Monitored metric elbo_validation did not improve in the last 45 records. Best score: -683.632. Signaling Trainer to stop.\n",
      "computing velocity graph (using 1/64 cores)\n"
     ]
    },
    {
     "data": {
      "application/vnd.jupyter.widget-view+json": {
       "model_id": "3e9ac38b07f346019447bd292f84b20c",
       "version_major": 2,
       "version_minor": 0
      },
      "text/plain": [
       "  0%|          | 0/1146 [00:00<?, ?cells/s]"
      ]
     },
     "metadata": {},
     "output_type": "display_data"
    },
    {
     "name": "stdout",
     "output_type": "stream",
     "text": [
      "    finished (0:00:01) --> added \n",
      "    'velocity_graph', sparse matrix with cosine correlations (adata.uns)\n",
      "computing velocity embedding\n",
      "    finished (0:00:00) --> added\n",
      "    'velocity_pca', embedded velocity vectors (adata.obsm)\n",
      "# Cross-Boundary Direction Correctness (A->B)\n",
      "{('G1', 'S-ph'): 0.11908090443091268, ('S-ph', 'G2M'): 0.19586187950388406}\n",
      "Total Mean: 0.15747139196739837\n",
      "# In-cluster Coherence\n",
      "{'G1': 0.9078507, 'G2M': 0.95194906, 'N/A': 0.9432654, 'S-ph': 0.9431183}\n",
      "Total Mean: 0.9365458488464355\n",
      "0.15747139196739837\n",
      "0.28668658676900294\n"
     ]
    },
    {
     "name": "stderr",
     "output_type": "stream",
     "text": [
      "GPU available: True (cuda), used: True\n",
      "TPU available: False, using: 0 TPU cores\n",
      "IPU available: False, using: 0 IPUs\n",
      "HPU available: False, using: 0 HPUs\n",
      "LOCAL_RANK: 0 - CUDA_VISIBLE_DEVICES: [0]\n"
     ]
    },
    {
     "name": "stdout",
     "output_type": "stream",
     "text": [
      "Epoch 950/1500:  63%|██████▎   | 950/1500 [05:10<02:59,  3.06it/s, loss=-466, v_num=1] \n",
      "Monitored metric elbo_validation did not improve in the last 45 records. Best score: -690.966. Signaling Trainer to stop.\n",
      "computing velocity graph (using 1/64 cores)\n"
     ]
    },
    {
     "data": {
      "application/vnd.jupyter.widget-view+json": {
       "model_id": "6150e9ef29a54ed78ee9c660fa9e2ba1",
       "version_major": 2,
       "version_minor": 0
      },
      "text/plain": [
       "  0%|          | 0/1146 [00:00<?, ?cells/s]"
      ]
     },
     "metadata": {},
     "output_type": "display_data"
    },
    {
     "name": "stdout",
     "output_type": "stream",
     "text": [
      "    finished (0:00:01) --> added \n",
      "    'velocity_graph', sparse matrix with cosine correlations (adata.uns)\n",
      "computing velocity embedding\n",
      "    finished (0:00:00) --> added\n",
      "    'velocity_pca', embedded velocity vectors (adata.obsm)\n",
      "# Cross-Boundary Direction Correctness (A->B)\n",
      "{('G1', 'S-ph'): 0.11548983808259168, ('S-ph', 'G2M'): 0.1661409213223729}\n",
      "Total Mean: 0.14081537970248229\n",
      "# In-cluster Coherence\n",
      "{'G1': 0.9165381, 'G2M': 0.95168364, 'N/A': 0.9442011, 'S-ph': 0.9504091}\n",
      "Total Mean: 0.9407079815864563\n",
      "0.14081537970248229\n",
      "0.0830635189081407\n"
     ]
    },
    {
     "name": "stderr",
     "output_type": "stream",
     "text": [
      "GPU available: True (cuda), used: True\n",
      "TPU available: False, using: 0 TPU cores\n",
      "IPU available: False, using: 0 IPUs\n",
      "HPU available: False, using: 0 HPUs\n",
      "LOCAL_RANK: 0 - CUDA_VISIBLE_DEVICES: [0]\n"
     ]
    },
    {
     "name": "stdout",
     "output_type": "stream",
     "text": [
      "Epoch 1023/1500:  68%|██████▊   | 1023/1500 [05:19<02:28,  3.20it/s, loss=-478, v_num=1]\n",
      "Monitored metric elbo_validation did not improve in the last 45 records. Best score: -697.809. Signaling Trainer to stop.\n",
      "computing velocity graph (using 1/64 cores)\n"
     ]
    },
    {
     "data": {
      "application/vnd.jupyter.widget-view+json": {
       "model_id": "2241fa21905345afb749a770228c8998",
       "version_major": 2,
       "version_minor": 0
      },
      "text/plain": [
       "  0%|          | 0/1146 [00:00<?, ?cells/s]"
      ]
     },
     "metadata": {},
     "output_type": "display_data"
    },
    {
     "name": "stdout",
     "output_type": "stream",
     "text": [
      "    finished (0:00:01) --> added \n",
      "    'velocity_graph', sparse matrix with cosine correlations (adata.uns)\n",
      "computing velocity embedding\n",
      "    finished (0:00:00) --> added\n",
      "    'velocity_pca', embedded velocity vectors (adata.obsm)\n",
      "# Cross-Boundary Direction Correctness (A->B)\n",
      "{('G1', 'S-ph'): 0.20336035101360092, ('S-ph', 'G2M'): 0.2097632651055451}\n",
      "Total Mean: 0.20656180805957303\n",
      "# In-cluster Coherence\n",
      "{'G1': 0.9170483, 'G2M': 0.95319784, 'N/A': 0.9462687, 'S-ph': 0.956136}\n",
      "Total Mean: 0.943162739276886\n",
      "0.20656180805957303\n",
      "0.38507616531331396\n"
     ]
    },
    {
     "name": "stderr",
     "output_type": "stream",
     "text": [
      "GPU available: True (cuda), used: True\n",
      "TPU available: False, using: 0 TPU cores\n",
      "IPU available: False, using: 0 IPUs\n",
      "HPU available: False, using: 0 HPUs\n",
      "LOCAL_RANK: 0 - CUDA_VISIBLE_DEVICES: [0]\n"
     ]
    },
    {
     "name": "stdout",
     "output_type": "stream",
     "text": [
      "Epoch 920/1500:  61%|██████▏   | 920/1500 [05:12<03:16,  2.95it/s, loss=-453, v_num=1]  \n",
      "Monitored metric elbo_validation did not improve in the last 45 records. Best score: -680.476. Signaling Trainer to stop.\n",
      "computing velocity graph (using 1/64 cores)\n"
     ]
    },
    {
     "data": {
      "application/vnd.jupyter.widget-view+json": {
       "model_id": "48ce3eb36bba4b5d83d96c7acdfe7619",
       "version_major": 2,
       "version_minor": 0
      },
      "text/plain": [
       "  0%|          | 0/1146 [00:00<?, ?cells/s]"
      ]
     },
     "metadata": {},
     "output_type": "display_data"
    },
    {
     "name": "stdout",
     "output_type": "stream",
     "text": [
      "    finished (0:00:01) --> added \n",
      "    'velocity_graph', sparse matrix with cosine correlations (adata.uns)\n",
      "computing velocity embedding\n",
      "    finished (0:00:00) --> added\n",
      "    'velocity_pca', embedded velocity vectors (adata.obsm)\n",
      "# Cross-Boundary Direction Correctness (A->B)\n",
      "{('G1', 'S-ph'): 0.08318139351941613, ('S-ph', 'G2M'): 0.19236478631274137}\n",
      "Total Mean: 0.13777308991607876\n",
      "# In-cluster Coherence\n",
      "{'G1': 0.8973595, 'G2M': 0.9412519, 'N/A': 0.9345318, 'S-ph': 0.9486322}\n",
      "Total Mean: 0.9304438829421997\n",
      "0.13777308991607876\n",
      "0.11298035778658072\n"
     ]
    },
    {
     "name": "stderr",
     "output_type": "stream",
     "text": [
      "GPU available: True (cuda), used: True\n",
      "TPU available: False, using: 0 TPU cores\n",
      "IPU available: False, using: 0 IPUs\n",
      "HPU available: False, using: 0 HPUs\n",
      "LOCAL_RANK: 0 - CUDA_VISIBLE_DEVICES: [0]\n"
     ]
    },
    {
     "name": "stdout",
     "output_type": "stream",
     "text": [
      "Epoch 948/1500:  63%|██████▎   | 948/1500 [05:14<03:02,  3.02it/s, loss=-467, v_num=1] \n",
      "Monitored metric elbo_validation did not improve in the last 45 records. Best score: -688.030. Signaling Trainer to stop.\n",
      "computing velocity graph (using 1/64 cores)\n"
     ]
    },
    {
     "data": {
      "application/vnd.jupyter.widget-view+json": {
       "model_id": "85aa88f69ea74919b6039540650326a5",
       "version_major": 2,
       "version_minor": 0
      },
      "text/plain": [
       "  0%|          | 0/1146 [00:00<?, ?cells/s]"
      ]
     },
     "metadata": {},
     "output_type": "display_data"
    },
    {
     "name": "stdout",
     "output_type": "stream",
     "text": [
      "    finished (0:00:01) --> added \n",
      "    'velocity_graph', sparse matrix with cosine correlations (adata.uns)\n",
      "computing velocity embedding\n",
      "    finished (0:00:00) --> added\n",
      "    'velocity_pca', embedded velocity vectors (adata.obsm)\n",
      "# Cross-Boundary Direction Correctness (A->B)\n",
      "{('G1', 'S-ph'): 0.14857652981026453, ('S-ph', 'G2M'): 0.1912806821100235}\n",
      "Total Mean: 0.16992860596014403\n",
      "# In-cluster Coherence\n",
      "{'G1': 0.901826, 'G2M': 0.9438404, 'N/A': 0.9348441, 'S-ph': 0.94649565}\n",
      "Total Mean: 0.9317514896392822\n",
      "0.16992860596014403\n",
      "0.28785439592508\n"
     ]
    },
    {
     "name": "stderr",
     "output_type": "stream",
     "text": [
      "GPU available: True (cuda), used: True\n",
      "TPU available: False, using: 0 TPU cores\n",
      "IPU available: False, using: 0 IPUs\n",
      "HPU available: False, using: 0 HPUs\n",
      "LOCAL_RANK: 0 - CUDA_VISIBLE_DEVICES: [0]\n"
     ]
    },
    {
     "name": "stdout",
     "output_type": "stream",
     "text": [
      "Epoch 923/1500:  62%|██████▏   | 923/1500 [05:18<03:19,  2.90it/s, loss=-465, v_num=1]  \n",
      "Monitored metric elbo_validation did not improve in the last 45 records. Best score: -703.725. Signaling Trainer to stop.\n",
      "computing velocity graph (using 1/64 cores)\n"
     ]
    },
    {
     "data": {
      "application/vnd.jupyter.widget-view+json": {
       "model_id": "1bfcf2e41eb24b1fa25a9ad4a8a10681",
       "version_major": 2,
       "version_minor": 0
      },
      "text/plain": [
       "  0%|          | 0/1146 [00:00<?, ?cells/s]"
      ]
     },
     "metadata": {},
     "output_type": "display_data"
    },
    {
     "name": "stdout",
     "output_type": "stream",
     "text": [
      "    finished (0:00:01) --> added \n",
      "    'velocity_graph', sparse matrix with cosine correlations (adata.uns)\n",
      "computing velocity embedding\n",
      "    finished (0:00:00) --> added\n",
      "    'velocity_pca', embedded velocity vectors (adata.obsm)\n",
      "# Cross-Boundary Direction Correctness (A->B)\n",
      "{('G1', 'S-ph'): 0.11948984159063804, ('S-ph', 'G2M'): 0.1969623336113933}\n",
      "Total Mean: 0.15822608760101567\n",
      "# In-cluster Coherence\n",
      "{'G1': 0.9137277, 'G2M': 0.9397878, 'N/A': 0.9364744, 'S-ph': 0.94733536}\n",
      "Total Mean: 0.9343312978744507\n",
      "0.15822608760101567\n",
      "0.20774972397187447\n"
     ]
    },
    {
     "name": "stderr",
     "output_type": "stream",
     "text": [
      "GPU available: True (cuda), used: True\n",
      "TPU available: False, using: 0 TPU cores\n",
      "IPU available: False, using: 0 IPUs\n",
      "HPU available: False, using: 0 HPUs\n",
      "LOCAL_RANK: 0 - CUDA_VISIBLE_DEVICES: [0]\n"
     ]
    },
    {
     "name": "stdout",
     "output_type": "stream",
     "text": [
      "Epoch 836/1500:  56%|█████▌    | 836/1500 [04:47<03:48,  2.91it/s, loss=-436, v_num=1] \n",
      "Monitored metric elbo_validation did not improve in the last 45 records. Best score: -680.187. Signaling Trainer to stop.\n",
      "computing velocity graph (using 1/64 cores)\n"
     ]
    },
    {
     "data": {
      "application/vnd.jupyter.widget-view+json": {
       "model_id": "af9a4b0a87cf4a3388c49e69e85b7a6b",
       "version_major": 2,
       "version_minor": 0
      },
      "text/plain": [
       "  0%|          | 0/1146 [00:00<?, ?cells/s]"
      ]
     },
     "metadata": {},
     "output_type": "display_data"
    },
    {
     "name": "stdout",
     "output_type": "stream",
     "text": [
      "    finished (0:00:01) --> added \n",
      "    'velocity_graph', sparse matrix with cosine correlations (adata.uns)\n",
      "computing velocity embedding\n",
      "    finished (0:00:00) --> added\n",
      "    'velocity_pca', embedded velocity vectors (adata.obsm)\n",
      "# Cross-Boundary Direction Correctness (A->B)\n",
      "{('G1', 'S-ph'): 0.02386967018528004, ('S-ph', 'G2M'): 0.19184207840231438}\n",
      "Total Mean: 0.10785587429379721\n",
      "# In-cluster Coherence\n",
      "{'G1': 0.8960617, 'G2M': 0.94979584, 'N/A': 0.93166494, 'S-ph': 0.9540117}\n",
      "Total Mean: 0.9328835606575012\n",
      "0.10785587429379721\n",
      "0.5215286227767735\n"
     ]
    },
    {
     "name": "stderr",
     "output_type": "stream",
     "text": [
      "GPU available: True (cuda), used: True\n",
      "TPU available: False, using: 0 TPU cores\n",
      "IPU available: False, using: 0 IPUs\n",
      "HPU available: False, using: 0 HPUs\n",
      "LOCAL_RANK: 0 - CUDA_VISIBLE_DEVICES: [0]\n"
     ]
    },
    {
     "name": "stdout",
     "output_type": "stream",
     "text": [
      "Epoch 898/1500:  60%|█████▉    | 898/1500 [04:59<03:20,  3.00it/s, loss=-458, v_num=1]  \n",
      "Monitored metric elbo_validation did not improve in the last 45 records. Best score: -696.877. Signaling Trainer to stop.\n",
      "computing velocity graph (using 1/64 cores)\n"
     ]
    },
    {
     "data": {
      "application/vnd.jupyter.widget-view+json": {
       "model_id": "3be065364342491d96c22dd0b8a30906",
       "version_major": 2,
       "version_minor": 0
      },
      "text/plain": [
       "  0%|          | 0/1146 [00:00<?, ?cells/s]"
      ]
     },
     "metadata": {},
     "output_type": "display_data"
    },
    {
     "name": "stdout",
     "output_type": "stream",
     "text": [
      "    finished (0:00:01) --> added \n",
      "    'velocity_graph', sparse matrix with cosine correlations (adata.uns)\n",
      "computing velocity embedding\n",
      "    finished (0:00:00) --> added\n",
      "    'velocity_pca', embedded velocity vectors (adata.obsm)\n",
      "# Cross-Boundary Direction Correctness (A->B)\n",
      "{('G1', 'S-ph'): 0.05458822331653668, ('S-ph', 'G2M'): 0.13804667388703304}\n",
      "Total Mean: 0.09631744860178486\n",
      "# In-cluster Coherence\n",
      "{'G1': 0.91332215, 'G2M': 0.9379536, 'N/A': 0.9390835, 'S-ph': 0.9449775}\n",
      "Total Mean: 0.9338341951370239\n",
      "0.09631744860178486\n",
      "-0.3987105728049765\n"
     ]
    },
    {
     "name": "stderr",
     "output_type": "stream",
     "text": [
      "GPU available: True (cuda), used: True\n",
      "TPU available: False, using: 0 TPU cores\n",
      "IPU available: False, using: 0 IPUs\n",
      "HPU available: False, using: 0 HPUs\n",
      "LOCAL_RANK: 0 - CUDA_VISIBLE_DEVICES: [0]\n"
     ]
    },
    {
     "name": "stdout",
     "output_type": "stream",
     "text": [
      "Epoch 970/1500:  65%|██████▍   | 970/1500 [05:16<02:53,  3.06it/s, loss=-478, v_num=1]  \n",
      "Monitored metric elbo_validation did not improve in the last 45 records. Best score: -696.075. Signaling Trainer to stop.\n",
      "computing velocity graph (using 1/64 cores)\n"
     ]
    },
    {
     "data": {
      "application/vnd.jupyter.widget-view+json": {
       "model_id": "1d9cae77687c474496911e8178dc5f8a",
       "version_major": 2,
       "version_minor": 0
      },
      "text/plain": [
       "  0%|          | 0/1146 [00:00<?, ?cells/s]"
      ]
     },
     "metadata": {},
     "output_type": "display_data"
    },
    {
     "name": "stdout",
     "output_type": "stream",
     "text": [
      "    finished (0:00:01) --> added \n",
      "    'velocity_graph', sparse matrix with cosine correlations (adata.uns)\n",
      "computing velocity embedding\n",
      "    finished (0:00:00) --> added\n",
      "    'velocity_pca', embedded velocity vectors (adata.obsm)\n",
      "# Cross-Boundary Direction Correctness (A->B)\n",
      "{('G1', 'S-ph'): 0.07358778063524107, ('S-ph', 'G2M'): 0.14359696051182483}\n",
      "Total Mean: 0.10859237057353295\n",
      "# In-cluster Coherence\n",
      "{'G1': 0.91275185, 'G2M': 0.9478248, 'N/A': 0.9412301, 'S-ph': 0.9491874}\n",
      "Total Mean: 0.9377485513687134\n",
      "0.10859237057353295\n",
      "-0.05799416901615596\n"
     ]
    },
    {
     "name": "stderr",
     "output_type": "stream",
     "text": [
      "GPU available: True (cuda), used: True\n",
      "TPU available: False, using: 0 TPU cores\n",
      "IPU available: False, using: 0 IPUs\n",
      "HPU available: False, using: 0 HPUs\n",
      "LOCAL_RANK: 0 - CUDA_VISIBLE_DEVICES: [0]\n"
     ]
    },
    {
     "name": "stdout",
     "output_type": "stream",
     "text": [
      "Epoch 975/1500:  65%|██████▌   | 975/1500 [05:07<02:45,  3.17it/s, loss=-452, v_num=1] \n",
      "Monitored metric elbo_validation did not improve in the last 45 records. Best score: -691.269. Signaling Trainer to stop.\n",
      "computing velocity graph (using 1/64 cores)\n"
     ]
    },
    {
     "data": {
      "application/vnd.jupyter.widget-view+json": {
       "model_id": "f3dce9691e084143a56ca93898c2808c",
       "version_major": 2,
       "version_minor": 0
      },
      "text/plain": [
       "  0%|          | 0/1146 [00:00<?, ?cells/s]"
      ]
     },
     "metadata": {},
     "output_type": "display_data"
    },
    {
     "name": "stdout",
     "output_type": "stream",
     "text": [
      "    finished (0:00:01) --> added \n",
      "    'velocity_graph', sparse matrix with cosine correlations (adata.uns)\n",
      "computing velocity embedding\n",
      "    finished (0:00:00) --> added\n",
      "    'velocity_pca', embedded velocity vectors (adata.obsm)\n",
      "# Cross-Boundary Direction Correctness (A->B)\n",
      "{('G1', 'S-ph'): 0.09700872950485286, ('S-ph', 'G2M'): 0.1848691694899765}\n",
      "Total Mean: 0.14093894949741467\n",
      "# In-cluster Coherence\n",
      "{'G1': 0.9064893, 'G2M': 0.947022, 'N/A': 0.94154906, 'S-ph': 0.9489218}\n",
      "Total Mean: 0.9359955787658691\n",
      "0.14093894949741467\n",
      "-0.06713047613602285\n"
     ]
    },
    {
     "name": "stderr",
     "output_type": "stream",
     "text": [
      "GPU available: True (cuda), used: True\n",
      "TPU available: False, using: 0 TPU cores\n",
      "IPU available: False, using: 0 IPUs\n",
      "HPU available: False, using: 0 HPUs\n",
      "LOCAL_RANK: 0 - CUDA_VISIBLE_DEVICES: [0]\n"
     ]
    },
    {
     "name": "stdout",
     "output_type": "stream",
     "text": [
      "Epoch 798/1500:  53%|█████▎    | 798/1500 [04:27<03:55,  2.98it/s, loss=-470, v_num=1]  \n",
      "Monitored metric elbo_validation did not improve in the last 45 records. Best score: -703.983. Signaling Trainer to stop.\n",
      "computing velocity graph (using 1/64 cores)\n"
     ]
    },
    {
     "data": {
      "application/vnd.jupyter.widget-view+json": {
       "model_id": "c29bb565231b40d6baa47390787e4889",
       "version_major": 2,
       "version_minor": 0
      },
      "text/plain": [
       "  0%|          | 0/1146 [00:00<?, ?cells/s]"
      ]
     },
     "metadata": {},
     "output_type": "display_data"
    },
    {
     "name": "stdout",
     "output_type": "stream",
     "text": [
      "    finished (0:00:01) --> added \n",
      "    'velocity_graph', sparse matrix with cosine correlations (adata.uns)\n",
      "computing velocity embedding\n",
      "    finished (0:00:00) --> added\n",
      "    'velocity_pca', embedded velocity vectors (adata.obsm)\n",
      "# Cross-Boundary Direction Correctness (A->B)\n",
      "{('G1', 'S-ph'): 0.179086217073029, ('S-ph', 'G2M'): 0.2159390634091914}\n",
      "Total Mean: 0.1975126402411102\n",
      "# In-cluster Coherence\n",
      "{'G1': 0.89938885, 'G2M': 0.952705, 'N/A': 0.9377362, 'S-ph': 0.95259494}\n",
      "Total Mean: 0.9356063008308411\n",
      "0.1975126402411102\n",
      "0.17848337017871896\n"
     ]
    },
    {
     "name": "stderr",
     "output_type": "stream",
     "text": [
      "GPU available: True (cuda), used: True\n",
      "TPU available: False, using: 0 TPU cores\n",
      "IPU available: False, using: 0 IPUs\n",
      "HPU available: False, using: 0 HPUs\n",
      "LOCAL_RANK: 0 - CUDA_VISIBLE_DEVICES: [0]\n"
     ]
    },
    {
     "name": "stdout",
     "output_type": "stream",
     "text": [
      "Epoch 1070/1500:  71%|███████▏  | 1070/1500 [05:49<02:20,  3.06it/s, loss=-494, v_num=1]\n",
      "Monitored metric elbo_validation did not improve in the last 45 records. Best score: -702.563. Signaling Trainer to stop.\n",
      "computing velocity graph (using 1/64 cores)\n"
     ]
    },
    {
     "data": {
      "application/vnd.jupyter.widget-view+json": {
       "model_id": "b6fdaf69d7fb4428a7c154b03adb932c",
       "version_major": 2,
       "version_minor": 0
      },
      "text/plain": [
       "  0%|          | 0/1146 [00:00<?, ?cells/s]"
      ]
     },
     "metadata": {},
     "output_type": "display_data"
    },
    {
     "name": "stdout",
     "output_type": "stream",
     "text": [
      "    finished (0:00:01) --> added \n",
      "    'velocity_graph', sparse matrix with cosine correlations (adata.uns)\n",
      "computing velocity embedding\n",
      "    finished (0:00:00) --> added\n",
      "    'velocity_pca', embedded velocity vectors (adata.obsm)\n",
      "# Cross-Boundary Direction Correctness (A->B)\n",
      "{('G1', 'S-ph'): 0.2177533063367078, ('S-ph', 'G2M'): 0.19213034705054502}\n",
      "Total Mean: 0.20494182669362643\n",
      "# In-cluster Coherence\n",
      "{'G1': 0.9157518, 'G2M': 0.9505283, 'N/A': 0.9458506, 'S-ph': 0.9522415}\n",
      "Total Mean: 0.9410930275917053\n",
      "0.20494182669362643\n",
      "0.20555851111059747\n"
     ]
    },
    {
     "name": "stderr",
     "output_type": "stream",
     "text": [
      "GPU available: True (cuda), used: True\n",
      "TPU available: False, using: 0 TPU cores\n",
      "IPU available: False, using: 0 IPUs\n",
      "HPU available: False, using: 0 HPUs\n",
      "LOCAL_RANK: 0 - CUDA_VISIBLE_DEVICES: [0]\n"
     ]
    },
    {
     "name": "stdout",
     "output_type": "stream",
     "text": [
      "Epoch 777/1500:  52%|█████▏    | 777/1500 [04:30<04:12,  2.87it/s, loss=-462, v_num=1]  \n",
      "Monitored metric elbo_validation did not improve in the last 45 records. Best score: -693.824. Signaling Trainer to stop.\n",
      "computing velocity graph (using 1/64 cores)\n"
     ]
    },
    {
     "data": {
      "application/vnd.jupyter.widget-view+json": {
       "model_id": "379348f4b8614f6d873e239126176c50",
       "version_major": 2,
       "version_minor": 0
      },
      "text/plain": [
       "  0%|          | 0/1146 [00:00<?, ?cells/s]"
      ]
     },
     "metadata": {},
     "output_type": "display_data"
    },
    {
     "name": "stdout",
     "output_type": "stream",
     "text": [
      "    finished (0:00:01) --> added \n",
      "    'velocity_graph', sparse matrix with cosine correlations (adata.uns)\n",
      "computing velocity embedding\n",
      "    finished (0:00:00) --> added\n",
      "    'velocity_pca', embedded velocity vectors (adata.obsm)\n",
      "# Cross-Boundary Direction Correctness (A->B)\n",
      "{('G1', 'S-ph'): 0.057162310036622054, ('S-ph', 'G2M'): 0.19324203776577142}\n",
      "Total Mean: 0.12520217390119673\n",
      "# In-cluster Coherence\n",
      "{'G1': 0.9103854, 'G2M': 0.9529363, 'N/A': 0.9424057, 'S-ph': 0.95762074}\n",
      "Total Mean: 0.940837025642395\n",
      "0.12520217390119673\n",
      "0.05082397137354895\n"
     ]
    },
    {
     "name": "stderr",
     "output_type": "stream",
     "text": [
      "GPU available: True (cuda), used: True\n",
      "TPU available: False, using: 0 TPU cores\n",
      "IPU available: False, using: 0 IPUs\n",
      "HPU available: False, using: 0 HPUs\n",
      "LOCAL_RANK: 0 - CUDA_VISIBLE_DEVICES: [0]\n"
     ]
    },
    {
     "name": "stdout",
     "output_type": "stream",
     "text": [
      "Epoch 941/1500:  63%|██████▎   | 941/1500 [05:41<03:22,  2.76it/s, loss=-444, v_num=1] \n",
      "Monitored metric elbo_validation did not improve in the last 45 records. Best score: -693.690. Signaling Trainer to stop.\n",
      "computing velocity graph (using 1/64 cores)\n"
     ]
    },
    {
     "data": {
      "application/vnd.jupyter.widget-view+json": {
       "model_id": "338e7854d0ab47ef8abc62ad95525b2a",
       "version_major": 2,
       "version_minor": 0
      },
      "text/plain": [
       "  0%|          | 0/1146 [00:00<?, ?cells/s]"
      ]
     },
     "metadata": {},
     "output_type": "display_data"
    },
    {
     "name": "stdout",
     "output_type": "stream",
     "text": [
      "    finished (0:00:01) --> added \n",
      "    'velocity_graph', sparse matrix with cosine correlations (adata.uns)\n",
      "computing velocity embedding\n",
      "    finished (0:00:01) --> added\n",
      "    'velocity_pca', embedded velocity vectors (adata.obsm)\n",
      "# Cross-Boundary Direction Correctness (A->B)\n",
      "{('G1', 'S-ph'): 0.12014822548924091, ('S-ph', 'G2M'): 0.19858929802351455}\n",
      "Total Mean: 0.15936876175637774\n",
      "# In-cluster Coherence\n",
      "{'G1': 0.910696, 'G2M': 0.94139993, 'N/A': 0.93962765, 'S-ph': 0.9486652}\n",
      "Total Mean: 0.9350972175598145\n",
      "0.15936876175637774\n",
      "0.4185619700290196\n"
     ]
    },
    {
     "name": "stderr",
     "output_type": "stream",
     "text": [
      "GPU available: True (cuda), used: True\n",
      "TPU available: False, using: 0 TPU cores\n",
      "IPU available: False, using: 0 IPUs\n",
      "HPU available: False, using: 0 HPUs\n",
      "LOCAL_RANK: 0 - CUDA_VISIBLE_DEVICES: [0]\n"
     ]
    },
    {
     "name": "stdout",
     "output_type": "stream",
     "text": [
      "Epoch 934/1500:  62%|██████▏   | 934/1500 [04:51<02:56,  3.20it/s, loss=-471, v_num=1]   \n",
      "Monitored metric elbo_validation did not improve in the last 45 records. Best score: -703.690. Signaling Trainer to stop.\n",
      "computing velocity graph (using 1/64 cores)\n"
     ]
    },
    {
     "data": {
      "application/vnd.jupyter.widget-view+json": {
       "model_id": "dcb69d52cf8743cc8a97fc58b522351c",
       "version_major": 2,
       "version_minor": 0
      },
      "text/plain": [
       "  0%|          | 0/1146 [00:00<?, ?cells/s]"
      ]
     },
     "metadata": {},
     "output_type": "display_data"
    },
    {
     "name": "stdout",
     "output_type": "stream",
     "text": [
      "    finished (0:00:01) --> added \n",
      "    'velocity_graph', sparse matrix with cosine correlations (adata.uns)\n",
      "computing velocity embedding\n",
      "    finished (0:00:00) --> added\n",
      "    'velocity_pca', embedded velocity vectors (adata.obsm)\n",
      "# Cross-Boundary Direction Correctness (A->B)\n",
      "{('G1', 'S-ph'): 0.1771925214361928, ('S-ph', 'G2M'): 0.20577773148697942}\n",
      "Total Mean: 0.1914851264615861\n",
      "# In-cluster Coherence\n",
      "{'G1': 0.92787826, 'G2M': 0.9480927, 'N/A': 0.94608605, 'S-ph': 0.95357865}\n",
      "Total Mean: 0.9439089298248291\n",
      "0.1914851264615861\n",
      "0.12181449790348475\n"
     ]
    },
    {
     "name": "stderr",
     "output_type": "stream",
     "text": [
      "GPU available: True (cuda), used: True\n",
      "TPU available: False, using: 0 TPU cores\n",
      "IPU available: False, using: 0 IPUs\n",
      "HPU available: False, using: 0 HPUs\n",
      "LOCAL_RANK: 0 - CUDA_VISIBLE_DEVICES: [0]\n"
     ]
    },
    {
     "name": "stdout",
     "output_type": "stream",
     "text": [
      "Epoch 975/1500:  65%|██████▌   | 975/1500 [05:02<02:43,  3.22it/s, loss=-476, v_num=1] \n",
      "Monitored metric elbo_validation did not improve in the last 45 records. Best score: -703.723. Signaling Trainer to stop.\n",
      "computing velocity graph (using 1/64 cores)\n"
     ]
    },
    {
     "data": {
      "application/vnd.jupyter.widget-view+json": {
       "model_id": "68413bff009d4eab892873f19d764f43",
       "version_major": 2,
       "version_minor": 0
      },
      "text/plain": [
       "  0%|          | 0/1146 [00:00<?, ?cells/s]"
      ]
     },
     "metadata": {},
     "output_type": "display_data"
    },
    {
     "name": "stdout",
     "output_type": "stream",
     "text": [
      "    finished (0:00:01) --> added \n",
      "    'velocity_graph', sparse matrix with cosine correlations (adata.uns)\n",
      "computing velocity embedding\n",
      "    finished (0:00:00) --> added\n",
      "    'velocity_pca', embedded velocity vectors (adata.obsm)\n",
      "# Cross-Boundary Direction Correctness (A->B)\n",
      "{('G1', 'S-ph'): 0.19954111154430765, ('S-ph', 'G2M'): 0.1855748996885288}\n",
      "Total Mean: 0.19255800561641823\n",
      "# In-cluster Coherence\n",
      "{'G1': 0.91627246, 'G2M': 0.95089674, 'N/A': 0.9481449, 'S-ph': 0.9522671}\n",
      "Total Mean: 0.9418953061103821\n",
      "0.19255800561641823\n",
      "0.2930945733432207\n"
     ]
    },
    {
     "name": "stderr",
     "output_type": "stream",
     "text": [
      "GPU available: True (cuda), used: True\n",
      "TPU available: False, using: 0 TPU cores\n",
      "IPU available: False, using: 0 IPUs\n",
      "HPU available: False, using: 0 HPUs\n",
      "LOCAL_RANK: 0 - CUDA_VISIBLE_DEVICES: [0]\n"
     ]
    },
    {
     "name": "stdout",
     "output_type": "stream",
     "text": [
      "Epoch 875/1500:  58%|█████▊    | 875/1500 [04:39<03:19,  3.13it/s, loss=-460, v_num=1]  \n",
      "Monitored metric elbo_validation did not improve in the last 45 records. Best score: -691.136. Signaling Trainer to stop.\n",
      "computing velocity graph (using 1/64 cores)\n"
     ]
    },
    {
     "data": {
      "application/vnd.jupyter.widget-view+json": {
       "model_id": "e44610f3c5e94f049f9861543201103c",
       "version_major": 2,
       "version_minor": 0
      },
      "text/plain": [
       "  0%|          | 0/1146 [00:00<?, ?cells/s]"
      ]
     },
     "metadata": {},
     "output_type": "display_data"
    },
    {
     "name": "stdout",
     "output_type": "stream",
     "text": [
      "    finished (0:00:01) --> added \n",
      "    'velocity_graph', sparse matrix with cosine correlations (adata.uns)\n",
      "computing velocity embedding\n",
      "    finished (0:00:00) --> added\n",
      "    'velocity_pca', embedded velocity vectors (adata.obsm)\n",
      "# Cross-Boundary Direction Correctness (A->B)\n",
      "{('G1', 'S-ph'): 0.08804248848671066, ('S-ph', 'G2M'): 0.199276674178339}\n",
      "Total Mean: 0.14365958133252482\n",
      "# In-cluster Coherence\n",
      "{'G1': 0.9085913, 'G2M': 0.9473162, 'N/A': 0.93973684, 'S-ph': 0.95179117}\n",
      "Total Mean: 0.9368588924407959\n",
      "0.14365958133252482\n",
      "0.3686442954610643\n"
     ]
    },
    {
     "name": "stderr",
     "output_type": "stream",
     "text": [
      "GPU available: True (cuda), used: True\n",
      "TPU available: False, using: 0 TPU cores\n",
      "IPU available: False, using: 0 IPUs\n",
      "HPU available: False, using: 0 HPUs\n",
      "LOCAL_RANK: 0 - CUDA_VISIBLE_DEVICES: [0]\n"
     ]
    },
    {
     "name": "stdout",
     "output_type": "stream",
     "text": [
      "Epoch 1067/1500:  71%|███████   | 1067/1500 [05:51<02:22,  3.04it/s, loss=-473, v_num=1]\n",
      "Monitored metric elbo_validation did not improve in the last 45 records. Best score: -703.556. Signaling Trainer to stop.\n",
      "computing velocity graph (using 1/64 cores)\n"
     ]
    },
    {
     "data": {
      "application/vnd.jupyter.widget-view+json": {
       "model_id": "4dad860711a145ae84db442e30aad168",
       "version_major": 2,
       "version_minor": 0
      },
      "text/plain": [
       "  0%|          | 0/1146 [00:00<?, ?cells/s]"
      ]
     },
     "metadata": {},
     "output_type": "display_data"
    },
    {
     "name": "stdout",
     "output_type": "stream",
     "text": [
      "    finished (0:00:01) --> added \n",
      "    'velocity_graph', sparse matrix with cosine correlations (adata.uns)\n",
      "computing velocity embedding\n",
      "    finished (0:00:00) --> added\n",
      "    'velocity_pca', embedded velocity vectors (adata.obsm)\n",
      "# Cross-Boundary Direction Correctness (A->B)\n",
      "{('G1', 'S-ph'): 0.1558364385194731, ('S-ph', 'G2M'): 0.20992880091986385}\n",
      "Total Mean: 0.18288261971966846\n",
      "# In-cluster Coherence\n",
      "{'G1': 0.9136287, 'G2M': 0.9478539, 'N/A': 0.94141203, 'S-ph': 0.9508816}\n",
      "Total Mean: 0.9384440183639526\n",
      "0.18288261971966846\n",
      "0.3562066045200233\n"
     ]
    },
    {
     "name": "stderr",
     "output_type": "stream",
     "text": [
      "GPU available: True (cuda), used: True\n",
      "TPU available: False, using: 0 TPU cores\n",
      "IPU available: False, using: 0 IPUs\n",
      "HPU available: False, using: 0 HPUs\n",
      "LOCAL_RANK: 0 - CUDA_VISIBLE_DEVICES: [0]\n"
     ]
    },
    {
     "name": "stdout",
     "output_type": "stream",
     "text": [
      "Epoch 928/1500:  62%|██████▏   | 928/1500 [05:19<03:16,  2.91it/s, loss=-449, v_num=1] \n",
      "Monitored metric elbo_validation did not improve in the last 45 records. Best score: -683.411. Signaling Trainer to stop.\n",
      "computing velocity graph (using 1/64 cores)\n"
     ]
    },
    {
     "data": {
      "application/vnd.jupyter.widget-view+json": {
       "model_id": "9165ac7b50fa477dbf2959fac3d46c52",
       "version_major": 2,
       "version_minor": 0
      },
      "text/plain": [
       "  0%|          | 0/1146 [00:00<?, ?cells/s]"
      ]
     },
     "metadata": {},
     "output_type": "display_data"
    },
    {
     "name": "stdout",
     "output_type": "stream",
     "text": [
      "    finished (0:00:01) --> added \n",
      "    'velocity_graph', sparse matrix with cosine correlations (adata.uns)\n",
      "computing velocity embedding\n",
      "    finished (0:00:00) --> added\n",
      "    'velocity_pca', embedded velocity vectors (adata.obsm)\n",
      "# Cross-Boundary Direction Correctness (A->B)\n",
      "{('G1', 'S-ph'): 0.14416390266163984, ('S-ph', 'G2M'): 0.20614214368899147}\n",
      "Total Mean: 0.17515302317531567\n",
      "# In-cluster Coherence\n",
      "{'G1': 0.90028805, 'G2M': 0.94707644, 'N/A': 0.93386, 'S-ph': 0.9432867}\n",
      "Total Mean: 0.9311277866363525\n",
      "0.17515302317531567\n",
      "0.38602586014644885\n"
     ]
    },
    {
     "name": "stderr",
     "output_type": "stream",
     "text": [
      "GPU available: True (cuda), used: True\n",
      "TPU available: False, using: 0 TPU cores\n",
      "IPU available: False, using: 0 IPUs\n",
      "HPU available: False, using: 0 HPUs\n",
      "LOCAL_RANK: 0 - CUDA_VISIBLE_DEVICES: [0]\n"
     ]
    },
    {
     "name": "stdout",
     "output_type": "stream",
     "text": [
      "Epoch 857/1500:  57%|█████▋    | 857/1500 [04:52<03:39,  2.93it/s, loss=-442, v_num=1] \n",
      "Monitored metric elbo_validation did not improve in the last 45 records. Best score: -679.938. Signaling Trainer to stop.\n",
      "computing velocity graph (using 1/64 cores)\n"
     ]
    },
    {
     "data": {
      "application/vnd.jupyter.widget-view+json": {
       "model_id": "4db7da04e80144f6b1aef29fb4276eed",
       "version_major": 2,
       "version_minor": 0
      },
      "text/plain": [
       "  0%|          | 0/1146 [00:00<?, ?cells/s]"
      ]
     },
     "metadata": {},
     "output_type": "display_data"
    },
    {
     "name": "stdout",
     "output_type": "stream",
     "text": [
      "    finished (0:00:01) --> added \n",
      "    'velocity_graph', sparse matrix with cosine correlations (adata.uns)\n",
      "computing velocity embedding\n",
      "    finished (0:00:00) --> added\n",
      "    'velocity_pca', embedded velocity vectors (adata.obsm)\n",
      "# Cross-Boundary Direction Correctness (A->B)\n",
      "{('G1', 'S-ph'): 0.0864587313414147, ('S-ph', 'G2M'): 0.19194081206560626}\n",
      "Total Mean: 0.13919977170351047\n",
      "# In-cluster Coherence\n",
      "{'G1': 0.9073847, 'G2M': 0.9497939, 'N/A': 0.9406158, 'S-ph': 0.9499178}\n",
      "Total Mean: 0.9369280338287354\n",
      "0.13919977170351047\n",
      "0.0005534236584050607\n"
     ]
    },
    {
     "name": "stderr",
     "output_type": "stream",
     "text": [
      "GPU available: True (cuda), used: True\n",
      "TPU available: False, using: 0 TPU cores\n",
      "IPU available: False, using: 0 IPUs\n",
      "HPU available: False, using: 0 HPUs\n",
      "LOCAL_RANK: 0 - CUDA_VISIBLE_DEVICES: [0]\n"
     ]
    },
    {
     "name": "stdout",
     "output_type": "stream",
     "text": [
      "Epoch 1059/1500:  71%|███████   | 1059/1500 [05:47<02:24,  3.05it/s, loss=-481, v_num=1]\n",
      "Monitored metric elbo_validation did not improve in the last 45 records. Best score: -704.405. Signaling Trainer to stop.\n",
      "computing velocity graph (using 1/64 cores)\n"
     ]
    },
    {
     "data": {
      "application/vnd.jupyter.widget-view+json": {
       "model_id": "c1c2fa2368b64f76b85f7e0865b68386",
       "version_major": 2,
       "version_minor": 0
      },
      "text/plain": [
       "  0%|          | 0/1146 [00:00<?, ?cells/s]"
      ]
     },
     "metadata": {},
     "output_type": "display_data"
    },
    {
     "name": "stdout",
     "output_type": "stream",
     "text": [
      "    finished (0:00:01) --> added \n",
      "    'velocity_graph', sparse matrix with cosine correlations (adata.uns)\n",
      "computing velocity embedding\n",
      "    finished (0:00:00) --> added\n",
      "    'velocity_pca', embedded velocity vectors (adata.obsm)\n",
      "# Cross-Boundary Direction Correctness (A->B)\n",
      "{('G1', 'S-ph'): 0.13586683554217827, ('S-ph', 'G2M'): 0.18717628930652846}\n",
      "Total Mean: 0.16152156242435337\n",
      "# In-cluster Coherence\n",
      "{'G1': 0.91642135, 'G2M': 0.9591883, 'N/A': 0.9468146, 'S-ph': 0.95893073}\n",
      "Total Mean: 0.9453387260437012\n",
      "0.16152156242435337\n",
      "0.33612881796398136\n"
     ]
    }
   ],
   "source": [
    "score_v = []\n",
    "dfs = []\n",
    "score_t = []\n",
    "for nrun in range(30):\n",
    "    original_tensor = reg_vae.module.v_encoder.fc1.weight.data.detach().cpu().clone()\n",
    "    original_shape = original_tensor.shape\n",
    "    # Flatten the tensor\n",
    "    flattened_tensor = original_tensor.flatten()\n",
    "    # Generate a random permutation of indices\n",
    "    permutation = torch.randperm(flattened_tensor.size(0))\n",
    "    # Shuffle the flattened tensor using the permutation\n",
    "    shuffled_flattened_tensor = flattened_tensor[permutation]\n",
    "\n",
    "    permutation = torch.randperm(flattened_tensor.size(0))\n",
    "    shuffled_flattened_tensor = shuffled_flattened_tensor[permutation]\n",
    "    # Reshape the shuffled tensor back to the original shape\n",
    "    shuffled_tensor = shuffled_flattened_tensor.reshape(original_shape)\n",
    "    \n",
    "    reg_vae_r1 = REGVELOVI(adata,W=W.T*0,soft_constraint = False)\n",
    "    reg_vae_r1.module.v_encoder.fc1.weight.data = shuffled_tensor\n",
    "    reg_vae_r1.module.v_encoder.fc1.bias.data = reg_vae.module.v_encoder.fc1.bias.data.detach().cpu().clone()\n",
    "    reg_vae_r1.train()\n",
    "    \n",
    "    adata_target = add_regvelo_outputs_to_adata(adata, reg_vae_r1)\n",
    "    \n",
    "    scv.tl.velocity_graph(adata_target)\n",
    "    adata_target.obsm[\"X_pca\"] = adata.obsm[\"X_pca\"].copy()\n",
    "    scv.tl.velocity_embedding(adata_target, basis='pca')\n",
    "\n",
    "    regvi = utv.evaluate(adata_target, cluster_edges, label, 'velocity', x_emb = 'X_pca')\n",
    "    score_v.append(np.mean([np.mean(regvi['Cross-Boundary Direction Correctness (A->B)'][('G1', 'S-ph')]),np.mean(regvi['Cross-Boundary Direction Correctness (A->B)'][('S-ph','G2M')])]))\n",
    "    print(score_v[len(score_v)-1])\n",
    "    \n",
    "    ## calculate latent time correlation\n",
    "    adata_target.obs[\"latent_time\"] = np.mean(adata_target.layers[\"fit_t\"],axis = 1)\n",
    "    score_t.append(scipy.stats.spearmanr(adata_target.obs[\"latent_time\"], adata_target.obs[\"fucci_time\"])[0])\n",
    "    print(score_t[len(score_t)-1])"
   ]
  },
  {
   "cell_type": "code",
   "execution_count": 19,
   "id": "ff2b48d6-1ce5-4259-916a-710e89b7b16f",
   "metadata": {},
   "outputs": [
    {
     "name": "stderr",
     "output_type": "stream",
     "text": [
      "GPU available: True (cuda), used: True\n",
      "TPU available: False, using: 0 TPU cores\n",
      "IPU available: False, using: 0 IPUs\n",
      "HPU available: False, using: 0 HPUs\n",
      "LOCAL_RANK: 0 - CUDA_VISIBLE_DEVICES: [0]\n"
     ]
    },
    {
     "name": "stdout",
     "output_type": "stream",
     "text": [
      "Epoch 872/1500:  58%|█████▊    | 872/1500 [04:53<03:31,  2.97it/s, loss=-681, v_num=1] \n",
      "Monitored metric elbo_validation did not improve in the last 45 records. Best score: -851.710. Signaling Trainer to stop.\n",
      "computing velocity graph (using 1/64 cores)\n"
     ]
    },
    {
     "data": {
      "application/vnd.jupyter.widget-view+json": {
       "model_id": "e25aec5b95c84952a2310fa7281a9cb8",
       "version_major": 2,
       "version_minor": 0
      },
      "text/plain": [
       "  0%|          | 0/1146 [00:00<?, ?cells/s]"
      ]
     },
     "metadata": {},
     "output_type": "display_data"
    },
    {
     "name": "stdout",
     "output_type": "stream",
     "text": [
      "    finished (0:00:01) --> added \n",
      "    'velocity_graph', sparse matrix with cosine correlations (adata.uns)\n",
      "computing velocity embedding\n",
      "    finished (0:00:00) --> added\n",
      "    'velocity_pca', embedded velocity vectors (adata.obsm)\n",
      "# Cross-Boundary Direction Correctness (A->B)\n",
      "{('G1', 'S-ph'): 0.14258027706571352, ('S-ph', 'G2M'): 0.17607308093640153}\n",
      "Total Mean: 0.15932667900105751\n",
      "# In-cluster Coherence\n",
      "{'G1': 0.9789162, 'G2M': 0.98806244, 'N/A': 0.98595536, 'S-ph': 0.98813844}\n",
      "Total Mean: 0.9852681159973145\n",
      "0.15932667900105751\n",
      "0.162094658780711\n"
     ]
    },
    {
     "name": "stderr",
     "output_type": "stream",
     "text": [
      "GPU available: True (cuda), used: True\n",
      "TPU available: False, using: 0 TPU cores\n",
      "IPU available: False, using: 0 IPUs\n",
      "HPU available: False, using: 0 HPUs\n",
      "LOCAL_RANK: 0 - CUDA_VISIBLE_DEVICES: [0]\n"
     ]
    },
    {
     "name": "stdout",
     "output_type": "stream",
     "text": [
      "Epoch 771/1500:  51%|█████▏    | 771/1500 [04:28<04:14,  2.87it/s, loss=-657, v_num=1] \n",
      "Monitored metric elbo_validation did not improve in the last 45 records. Best score: -844.646. Signaling Trainer to stop.\n",
      "computing velocity graph (using 1/64 cores)\n"
     ]
    },
    {
     "data": {
      "application/vnd.jupyter.widget-view+json": {
       "model_id": "b8109c74904241c4b646461adf53d22d",
       "version_major": 2,
       "version_minor": 0
      },
      "text/plain": [
       "  0%|          | 0/1146 [00:00<?, ?cells/s]"
      ]
     },
     "metadata": {},
     "output_type": "display_data"
    },
    {
     "name": "stdout",
     "output_type": "stream",
     "text": [
      "    finished (0:00:01) --> added \n",
      "    'velocity_graph', sparse matrix with cosine correlations (adata.uns)\n",
      "computing velocity embedding\n",
      "    finished (0:00:00) --> added\n",
      "    'velocity_pca', embedded velocity vectors (adata.obsm)\n"
     ]
    },
    {
     "name": "stderr",
     "output_type": "stream",
     "text": [
      "GPU available: True (cuda), used: True\n",
      "TPU available: False, using: 0 TPU cores\n",
      "IPU available: False, using: 0 IPUs\n",
      "HPU available: False, using: 0 HPUs\n",
      "LOCAL_RANK: 0 - CUDA_VISIBLE_DEVICES: [0]\n"
     ]
    },
    {
     "name": "stdout",
     "output_type": "stream",
     "text": [
      "# Cross-Boundary Direction Correctness (A->B)\n",
      "{('G1', 'S-ph'): 0.14360934147119198, ('S-ph', 'G2M'): 0.1763616069633163}\n",
      "Total Mean: 0.15998547421725412\n",
      "# In-cluster Coherence\n",
      "{'G1': 0.97844666, 'G2M': 0.987387, 'N/A': 0.9852015, 'S-ph': 0.9875303}\n",
      "Total Mean: 0.9846413135528564\n",
      "0.15998547421725412\n",
      "0.13465906941000874\n",
      "Epoch 884/1500:  59%|█████▉    | 884/1500 [05:09<03:35,  2.85it/s, loss=-683, v_num=1] \n",
      "Monitored metric elbo_validation did not improve in the last 45 records. Best score: -853.614. Signaling Trainer to stop.\n",
      "computing velocity graph (using 1/64 cores)\n"
     ]
    },
    {
     "data": {
      "application/vnd.jupyter.widget-view+json": {
       "model_id": "a90e6b25d8e04342910608e529f77800",
       "version_major": 2,
       "version_minor": 0
      },
      "text/plain": [
       "  0%|          | 0/1146 [00:00<?, ?cells/s]"
      ]
     },
     "metadata": {},
     "output_type": "display_data"
    },
    {
     "name": "stdout",
     "output_type": "stream",
     "text": [
      "    finished (0:00:00) --> added \n",
      "    'velocity_graph', sparse matrix with cosine correlations (adata.uns)\n",
      "computing velocity embedding\n",
      "    finished (0:00:00) --> added\n",
      "    'velocity_pca', embedded velocity vectors (adata.obsm)\n",
      "# Cross-Boundary Direction Correctness (A->B)\n",
      "{('G1', 'S-ph'): 0.14002136167622448, ('S-ph', 'G2M'): 0.1707883083595769}\n",
      "Total Mean: 0.1554048350179007\n",
      "# In-cluster Coherence\n",
      "{'G1': 0.9786391, 'G2M': 0.9880656, 'N/A': 0.98598415, 'S-ph': 0.98850805}\n",
      "Total Mean: 0.9852992296218872\n",
      "0.1554048350179007\n",
      "0.17122825701762837\n"
     ]
    },
    {
     "name": "stderr",
     "output_type": "stream",
     "text": [
      "GPU available: True (cuda), used: True\n",
      "TPU available: False, using: 0 TPU cores\n",
      "IPU available: False, using: 0 IPUs\n",
      "HPU available: False, using: 0 HPUs\n",
      "LOCAL_RANK: 0 - CUDA_VISIBLE_DEVICES: [0]\n"
     ]
    },
    {
     "name": "stdout",
     "output_type": "stream",
     "text": [
      "Epoch 829/1500:  55%|█████▌    | 829/1500 [05:07<04:08,  2.70it/s, loss=-674, v_num=1] \n",
      "Monitored metric elbo_validation did not improve in the last 45 records. Best score: -843.901. Signaling Trainer to stop.\n",
      "computing velocity graph (using 1/64 cores)\n"
     ]
    },
    {
     "data": {
      "application/vnd.jupyter.widget-view+json": {
       "model_id": "b4ae521f8261468595bd8b919bae6ef0",
       "version_major": 2,
       "version_minor": 0
      },
      "text/plain": [
       "  0%|          | 0/1146 [00:00<?, ?cells/s]"
      ]
     },
     "metadata": {},
     "output_type": "display_data"
    },
    {
     "name": "stdout",
     "output_type": "stream",
     "text": [
      "    finished (0:00:01) --> added \n",
      "    'velocity_graph', sparse matrix with cosine correlations (adata.uns)\n",
      "computing velocity embedding\n",
      "    finished (0:00:00) --> added\n",
      "    'velocity_pca', embedded velocity vectors (adata.obsm)\n",
      "# Cross-Boundary Direction Correctness (A->B)\n",
      "{('G1', 'S-ph'): 0.1362223403743644, ('S-ph', 'G2M'): 0.18140334142646358}\n",
      "Total Mean: 0.15881284090041398\n",
      "# In-cluster Coherence\n",
      "{'G1': 0.9779838, 'G2M': 0.9880674, 'N/A': 0.9854152, 'S-ph': 0.98774445}\n",
      "Total Mean: 0.9848027229309082\n",
      "0.15881284090041398\n",
      "0.17732600522767053\n"
     ]
    },
    {
     "name": "stderr",
     "output_type": "stream",
     "text": [
      "GPU available: True (cuda), used: True\n",
      "TPU available: False, using: 0 TPU cores\n",
      "IPU available: False, using: 0 IPUs\n",
      "HPU available: False, using: 0 HPUs\n",
      "LOCAL_RANK: 0 - CUDA_VISIBLE_DEVICES: [0]\n"
     ]
    },
    {
     "name": "stdout",
     "output_type": "stream",
     "text": [
      "Epoch 765/1500:  51%|█████     | 765/1500 [04:31<04:20,  2.82it/s, loss=-662, v_num=1]  \n",
      "Monitored metric elbo_validation did not improve in the last 45 records. Best score: -843.902. Signaling Trainer to stop.\n",
      "computing velocity graph (using 1/64 cores)\n"
     ]
    },
    {
     "data": {
      "application/vnd.jupyter.widget-view+json": {
       "model_id": "1d10936b0a3e43d3bc5bbc55add786e9",
       "version_major": 2,
       "version_minor": 0
      },
      "text/plain": [
       "  0%|          | 0/1146 [00:00<?, ?cells/s]"
      ]
     },
     "metadata": {},
     "output_type": "display_data"
    },
    {
     "name": "stdout",
     "output_type": "stream",
     "text": [
      "    finished (0:00:01) --> added \n",
      "    'velocity_graph', sparse matrix with cosine correlations (adata.uns)\n",
      "computing velocity embedding\n",
      "    finished (0:00:00) --> added\n",
      "    'velocity_pca', embedded velocity vectors (adata.obsm)\n",
      "# Cross-Boundary Direction Correctness (A->B)\n",
      "{('G1', 'S-ph'): 0.1531310442749595, ('S-ph', 'G2M'): 0.17655086039604181}\n",
      "Total Mean: 0.16484095233550067\n",
      "# In-cluster Coherence\n",
      "{'G1': 0.9787627, 'G2M': 0.9873596, 'N/A': 0.98559403, 'S-ph': 0.98764753}\n",
      "Total Mean: 0.984840989112854\n",
      "0.16484095233550067\n",
      "0.20397341661669466\n"
     ]
    },
    {
     "name": "stderr",
     "output_type": "stream",
     "text": [
      "GPU available: True (cuda), used: True\n",
      "TPU available: False, using: 0 TPU cores\n",
      "IPU available: False, using: 0 IPUs\n",
      "HPU available: False, using: 0 HPUs\n",
      "LOCAL_RANK: 0 - CUDA_VISIBLE_DEVICES: [0]\n"
     ]
    },
    {
     "name": "stdout",
     "output_type": "stream",
     "text": [
      "Epoch 857/1500:  57%|█████▋    | 857/1500 [04:59<03:44,  2.86it/s, loss=-676, v_num=1] \n",
      "Monitored metric elbo_validation did not improve in the last 45 records. Best score: -849.093. Signaling Trainer to stop.\n",
      "computing velocity graph (using 1/64 cores)\n"
     ]
    },
    {
     "data": {
      "application/vnd.jupyter.widget-view+json": {
       "model_id": "fca7129ec2fc41a58d981a0e92b6db59",
       "version_major": 2,
       "version_minor": 0
      },
      "text/plain": [
       "  0%|          | 0/1146 [00:00<?, ?cells/s]"
      ]
     },
     "metadata": {},
     "output_type": "display_data"
    },
    {
     "name": "stdout",
     "output_type": "stream",
     "text": [
      "    finished (0:00:01) --> added \n",
      "    'velocity_graph', sparse matrix with cosine correlations (adata.uns)\n",
      "computing velocity embedding\n",
      "    finished (0:00:00) --> added\n",
      "    'velocity_pca', embedded velocity vectors (adata.obsm)\n",
      "# Cross-Boundary Direction Correctness (A->B)\n",
      "{('G1', 'S-ph'): 0.1484081284109987, ('S-ph', 'G2M'): 0.18025593304777096}\n",
      "Total Mean: 0.16433203072938485\n",
      "# In-cluster Coherence\n",
      "{'G1': 0.97818965, 'G2M': 0.988259, 'N/A': 0.9852852, 'S-ph': 0.98792994}\n",
      "Total Mean: 0.9849159717559814\n",
      "0.16433203072938485\n",
      "0.21015544859170776\n"
     ]
    },
    {
     "name": "stderr",
     "output_type": "stream",
     "text": [
      "GPU available: True (cuda), used: True\n",
      "TPU available: False, using: 0 TPU cores\n",
      "IPU available: False, using: 0 IPUs\n",
      "HPU available: False, using: 0 HPUs\n",
      "LOCAL_RANK: 0 - CUDA_VISIBLE_DEVICES: [0]\n"
     ]
    },
    {
     "name": "stdout",
     "output_type": "stream",
     "text": [
      "Epoch 883/1500:  59%|█████▉    | 883/1500 [05:12<03:38,  2.83it/s, loss=-679, v_num=1] \n",
      "Monitored metric elbo_validation did not improve in the last 45 records. Best score: -850.703. Signaling Trainer to stop.\n",
      "computing velocity graph (using 1/64 cores)\n"
     ]
    },
    {
     "data": {
      "application/vnd.jupyter.widget-view+json": {
       "model_id": "accf425c7c5f44cabe3adcbe604d930f",
       "version_major": 2,
       "version_minor": 0
      },
      "text/plain": [
       "  0%|          | 0/1146 [00:00<?, ?cells/s]"
      ]
     },
     "metadata": {},
     "output_type": "display_data"
    },
    {
     "name": "stdout",
     "output_type": "stream",
     "text": [
      "    finished (0:00:01) --> added \n",
      "    'velocity_graph', sparse matrix with cosine correlations (adata.uns)\n",
      "computing velocity embedding\n",
      "    finished (0:00:00) --> added\n",
      "    'velocity_pca', embedded velocity vectors (adata.obsm)\n",
      "# Cross-Boundary Direction Correctness (A->B)\n",
      "{('G1', 'S-ph'): 0.1318575208678762, ('S-ph', 'G2M'): 0.17331277860451852}\n",
      "Total Mean: 0.15258514973619736\n",
      "# In-cluster Coherence\n",
      "{'G1': 0.9784411, 'G2M': 0.98806757, 'N/A': 0.98556113, 'S-ph': 0.98774326}\n",
      "Total Mean: 0.9849532842636108\n",
      "0.15258514973619736\n",
      "0.17262216426337695\n"
     ]
    },
    {
     "name": "stderr",
     "output_type": "stream",
     "text": [
      "GPU available: True (cuda), used: True\n",
      "TPU available: False, using: 0 TPU cores\n",
      "IPU available: False, using: 0 IPUs\n",
      "HPU available: False, using: 0 HPUs\n",
      "LOCAL_RANK: 0 - CUDA_VISIBLE_DEVICES: [0]\n"
     ]
    },
    {
     "name": "stdout",
     "output_type": "stream",
     "text": [
      "Epoch 870/1500:  58%|█████▊    | 870/1500 [04:47<03:28,  3.02it/s, loss=-682, v_num=1] \n",
      "Monitored metric elbo_validation did not improve in the last 45 records. Best score: -850.762. Signaling Trainer to stop.\n",
      "computing velocity graph (using 1/64 cores)\n"
     ]
    },
    {
     "data": {
      "application/vnd.jupyter.widget-view+json": {
       "model_id": "f7865c6cb273492ba6beba35908bfe51",
       "version_major": 2,
       "version_minor": 0
      },
      "text/plain": [
       "  0%|          | 0/1146 [00:00<?, ?cells/s]"
      ]
     },
     "metadata": {},
     "output_type": "display_data"
    },
    {
     "name": "stdout",
     "output_type": "stream",
     "text": [
      "    finished (0:00:01) --> added \n",
      "    'velocity_graph', sparse matrix with cosine correlations (adata.uns)\n",
      "computing velocity embedding\n",
      "    finished (0:00:00) --> added\n",
      "    'velocity_pca', embedded velocity vectors (adata.obsm)\n",
      "# Cross-Boundary Direction Correctness (A->B)\n",
      "{('G1', 'S-ph'): 0.14649336560584184, ('S-ph', 'G2M'): 0.17030496742258497}\n",
      "Total Mean: 0.1583991665142134\n",
      "# In-cluster Coherence\n",
      "{'G1': 0.9784112, 'G2M': 0.988113, 'N/A': 0.9854878, 'S-ph': 0.98818094}\n",
      "Total Mean: 0.985048234462738\n",
      "0.1583991665142134\n",
      "0.20959254291118265\n"
     ]
    },
    {
     "name": "stderr",
     "output_type": "stream",
     "text": [
      "GPU available: True (cuda), used: True\n",
      "TPU available: False, using: 0 TPU cores\n",
      "IPU available: False, using: 0 IPUs\n",
      "HPU available: False, using: 0 HPUs\n",
      "LOCAL_RANK: 0 - CUDA_VISIBLE_DEVICES: [0]\n"
     ]
    },
    {
     "name": "stdout",
     "output_type": "stream",
     "text": [
      "Epoch 971/1500:  65%|██████▍   | 971/1500 [05:21<02:55,  3.02it/s, loss=-697, v_num=1]  \n",
      "Monitored metric elbo_validation did not improve in the last 45 records. Best score: -862.710. Signaling Trainer to stop.\n",
      "computing velocity graph (using 1/64 cores)\n"
     ]
    },
    {
     "data": {
      "application/vnd.jupyter.widget-view+json": {
       "model_id": "03a91150067047e6ba111187cb331962",
       "version_major": 2,
       "version_minor": 0
      },
      "text/plain": [
       "  0%|          | 0/1146 [00:00<?, ?cells/s]"
      ]
     },
     "metadata": {},
     "output_type": "display_data"
    },
    {
     "name": "stdout",
     "output_type": "stream",
     "text": [
      "    finished (0:00:01) --> added \n",
      "    'velocity_graph', sparse matrix with cosine correlations (adata.uns)\n",
      "computing velocity embedding\n",
      "    finished (0:00:00) --> added\n",
      "    'velocity_pca', embedded velocity vectors (adata.obsm)\n",
      "# Cross-Boundary Direction Correctness (A->B)\n",
      "{('G1', 'S-ph'): 0.15733296040018221, ('S-ph', 'G2M'): 0.17650869338302305}\n",
      "Total Mean: 0.16692082689160265\n",
      "# In-cluster Coherence\n",
      "{'G1': 0.9789335, 'G2M': 0.98822045, 'N/A': 0.98601717, 'S-ph': 0.9881882}\n",
      "Total Mean: 0.985339879989624\n",
      "0.16692082689160265\n",
      "0.21283011266691657\n"
     ]
    },
    {
     "name": "stderr",
     "output_type": "stream",
     "text": [
      "GPU available: True (cuda), used: True\n",
      "TPU available: False, using: 0 TPU cores\n",
      "IPU available: False, using: 0 IPUs\n",
      "HPU available: False, using: 0 HPUs\n",
      "LOCAL_RANK: 0 - CUDA_VISIBLE_DEVICES: [0]\n"
     ]
    },
    {
     "name": "stdout",
     "output_type": "stream",
     "text": [
      "Epoch 835/1500:  56%|█████▌    | 835/1500 [04:51<03:52,  2.86it/s, loss=-676, v_num=1]  \n",
      "Monitored metric elbo_validation did not improve in the last 45 records. Best score: -845.715. Signaling Trainer to stop.\n",
      "computing velocity graph (using 1/64 cores)\n"
     ]
    },
    {
     "data": {
      "application/vnd.jupyter.widget-view+json": {
       "model_id": "21ecc27d52ec4f7c9d9a08d7c41c72d3",
       "version_major": 2,
       "version_minor": 0
      },
      "text/plain": [
       "  0%|          | 0/1146 [00:00<?, ?cells/s]"
      ]
     },
     "metadata": {},
     "output_type": "display_data"
    },
    {
     "name": "stdout",
     "output_type": "stream",
     "text": [
      "    finished (0:00:01) --> added \n",
      "    'velocity_graph', sparse matrix with cosine correlations (adata.uns)\n",
      "computing velocity embedding\n",
      "    finished (0:00:00) --> added\n",
      "    'velocity_pca', embedded velocity vectors (adata.obsm)\n",
      "# Cross-Boundary Direction Correctness (A->B)\n",
      "{('G1', 'S-ph'): 0.16665195426406929, ('S-ph', 'G2M'): 0.17685079341680746}\n",
      "Total Mean: 0.17175137384043837\n",
      "# In-cluster Coherence\n",
      "{'G1': 0.9789102, 'G2M': 0.9881485, 'N/A': 0.98605675, 'S-ph': 0.98832244}\n",
      "Total Mean: 0.9853594899177551\n",
      "0.17175137384043837\n",
      "0.19750118330448269\n"
     ]
    },
    {
     "name": "stderr",
     "output_type": "stream",
     "text": [
      "GPU available: True (cuda), used: True\n",
      "TPU available: False, using: 0 TPU cores\n",
      "IPU available: False, using: 0 IPUs\n",
      "HPU available: False, using: 0 HPUs\n",
      "LOCAL_RANK: 0 - CUDA_VISIBLE_DEVICES: [0]\n"
     ]
    },
    {
     "name": "stdout",
     "output_type": "stream",
     "text": [
      "Epoch 106/1500:   7%|▋         | 106/1500 [00:36<08:05,  2.87it/s, loss=303, v_num=1] "
     ]
    },
    {
     "name": "stderr",
     "output_type": "stream",
     "text": [
      "IOPub message rate exceeded.\n",
      "The Jupyter server will temporarily stop sending output\n",
      "to the client in order to avoid crashing it.\n",
      "To change this limit, set the config variable\n",
      "`--ServerApp.iopub_msg_rate_limit`.\n",
      "\n",
      "Current values:\n",
      "ServerApp.iopub_msg_rate_limit=1000.0 (msgs/sec)\n",
      "ServerApp.rate_limit_window=3.0 (secs)\n",
      "\n"
     ]
    }
   ],
   "source": [
    "score_v2 = []\n",
    "score_t2 = []\n",
    "for nrun in range(30):\n",
    "    reg_vae_r1 = REGVELOVI(adata,W=W.T*0,soft_constraint = False)\n",
    "    reg_vae_r1.module.v_encoder.fc1.weight.data = reg_vae.module.v_encoder.fc1.weight.data.detach().cpu().clone() * 0\n",
    "    reg_vae_r1.module.v_encoder.fc1.bias.data = reg_vae.module.v_encoder.fc1.bias.data.detach().cpu().clone()\n",
    "    reg_vae_r1.train()\n",
    "    \n",
    "    adata_target = add_regvelo_outputs_to_adata(adata, reg_vae_r1)\n",
    "    \n",
    "    scv.tl.velocity_graph(adata_target)\n",
    "    adata_target.obsm[\"X_pca\"] = adata.obsm[\"X_pca\"].copy()\n",
    "    scv.tl.velocity_embedding(adata_target, basis='pca')\n",
    "\n",
    "    regvi = utv.evaluate(adata_target, cluster_edges, label, 'velocity', x_emb = 'X_pca')\n",
    "    score_v2.append(np.mean([np.mean(regvi['Cross-Boundary Direction Correctness (A->B)'][('G1', 'S-ph')]),np.mean(regvi['Cross-Boundary Direction Correctness (A->B)'][('S-ph','G2M')])]))\n",
    "    print(score_v2[len(score_v2)-1])\n",
    "    \n",
    "    ## calculate latent time correlation\n",
    "    adata_target.obs[\"latent_time\"] = np.mean(adata_target.layers[\"fit_t\"],axis = 1)\n",
    "    score_t2.append(scipy.stats.spearmanr(adata_target.obs[\"latent_time\"], adata_target.obs[\"fucci_time\"])[0])\n",
    "    print(score_t2[len(score_t2)-1])"
   ]
  },
  {
   "cell_type": "code",
   "execution_count": 20,
   "id": "8038104c-da33-4b53-b054-b9b373fc27da",
   "metadata": {},
   "outputs": [
    {
     "data": {
      "image/png": "[encoded data removed]",
      "text/plain": [
       "<Figure size 240x320 with 1 Axes>"
      ]
     },
     "metadata": {
      "image/png": {
       "height": 299,
       "width": 271
      }
     },
     "output_type": "display_data"
    }
   ],
   "source": [
    "df = pd.DataFrame(\n",
    "    {\n",
    "        \"CBC score\":  score_v0 + score_v + score_v2,\n",
    "        \"Model\": [\"Original\"] * 30 + [\"Random\"] * 30 + [\"No regulation\"] * 30\n",
    "    }\n",
    ")\n",
    "    \n",
    "with mplscience.style_context():\n",
    "    sns.set_style(style=\"whitegrid\")\n",
    "    fig, ax = plt.subplots(figsize=(3, 4))\n",
    "\n",
    "    sns.violinplot(data=df, x=\"Model\", y=\"CBC score\", ax=ax)\n",
    "\n",
    "    ttest_res = ttest_ind(score_v0, score_v, equal_var=False, alternative=\"greater\")\n",
    "    significance = get_significance(ttest_res.pvalue)\n",
    "    add_significance(\n",
    "        ax=ax, left=0, right=1, significance=significance, lw=1, bracket_level=1.05, c=\"k\", level=0,\n",
    "    )\n",
    "\n",
    "    ttest_res = ttest_ind(score_v0, score_v2, equal_var=False, alternative=\"greater\")\n",
    "    significance = get_significance(ttest_res.pvalue)\n",
    "    add_significance(\n",
    "        ax=ax, left=0, right=2, significance=significance, lw=1, c=\"k\", level=2, bracket_level=0.95\n",
    "    )\n",
    "    \n",
    "    y_min, y_max = ax.get_ylim()\n",
    "    ax.set_ylim([y_min, y_max + 0.02])\n",
    "\n",
    "    if SAVE_FIGURES:\n",
    "        fig.savefig(\n",
    "            FIG_DIR / 'cell_cycle'/ 'CBC_score_GRN.svg',\n",
    "            format=\"svg\",\n",
    "            transparent=True,\n",
    "            bbox_inches='tight'\n",
    "        )"
   ]
  },
  {
   "cell_type": "code",
   "execution_count": 21,
   "id": "d7dd2faa-be69-40f3-96ca-34f981dbf627",
   "metadata": {},
   "outputs": [
    {
     "data": {
      "image/png": "[encoded data removed]",
      "text/plain": [
       "<Figure size 240x320 with 1 Axes>"
      ]
     },
     "metadata": {
      "image/png": {
       "height": 300,
       "width": 273
      }
     },
     "output_type": "display_data"
    }
   ],
   "source": [
    "df = pd.DataFrame(\n",
    "    {\n",
    "        \"Latent time correlation\":  score_t0 + score_t + score_t2,\n",
    "        \"Model\": [\"Original\"] * 30 + [\"Random\"] * 30 + [\"No regulation\"] * 30\n",
    "    }\n",
    ")\n",
    "    \n",
    "with mplscience.style_context():\n",
    "    sns.set_style(style=\"whitegrid\")\n",
    "    fig, ax = plt.subplots(figsize=(3, 4))\n",
    "\n",
    "    sns.violinplot(data=df, x=\"Model\", y=\"Latent time correlation\", ax=ax)\n",
    "\n",
    "    ttest_res = ttest_ind(score_v0, score_v, equal_var=False, alternative=\"greater\")\n",
    "    significance = get_significance(ttest_res.pvalue)\n",
    "    add_significance(\n",
    "        ax=ax, left=0, right=1, significance=significance, lw=1, bracket_level=1.05, c=\"k\", level=0,\n",
    "    )\n",
    "\n",
    "    ttest_res = ttest_ind(score_v0, score_v2, equal_var=False, alternative=\"greater\")\n",
    "    significance = get_significance(ttest_res.pvalue)\n",
    "    add_significance(\n",
    "        ax=ax, left=0, right=2, significance=significance, lw=1, c=\"k\", level=2, bracket_level=0.95\n",
    "    )\n",
    "    \n",
    "    y_min, y_max = ax.get_ylim()\n",
    "    ax.set_ylim([y_min, y_max + 0.02])\n",
    "\n",
    "    if SAVE_FIGURES:\n",
    "        fig.savefig(\n",
    "            FIG_DIR / 'cell_cycle'/ 'Time_GRN.svg',\n",
    "            format=\"svg\",\n",
    "            transparent=True,\n",
    "            bbox_inches='tight'\n",
    "        )"
   ]
  },
  {
   "cell_type": "code",
   "execution_count": null,
   "id": "37e7f1fe-50cf-476a-a0e0-057deac22685",
   "metadata": {},
   "outputs": [],
   "source": []
  }
 ],
 "metadata": {
  "kernelspec": {
   "display_name": "Python 3 (ipykernel)",
   "language": "python",
   "name": "python3"
  },
  "language_info": {
   "codemirror_mode": {
    "name": "ipython",
    "version": 3
   },
   "file_extension": ".py",
   "mimetype": "text/x-python",
   "name": "python",
   "nbconvert_exporter": "python",
   "pygments_lexer": "ipython3",
   "version": "3.9.15"
  }
 },
 "nbformat": 4,
 "nbformat_minor": 5
}
