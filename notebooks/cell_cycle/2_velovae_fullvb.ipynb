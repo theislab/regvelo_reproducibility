{
 "cells": [
  {
   "cell_type": "markdown",
   "id": "f28d76cc",
   "metadata": {},
   "source": [
    "# veloVAE (fullvb) benchmark on cell cycle data\n",
    "\n",
    "Notebook benchmarks velocity, latent time inference, and cross boundary correctness using veloVAE (fullvb) on cell cycle data."
   ]
  },
  {
   "cell_type": "code",
   "execution_count": 1,
   "id": "40b2ac06-c715-4506-a843-cf44bfac0f7f",
   "metadata": {},
   "outputs": [
    {
     "name": "stderr",
     "output_type": "stream",
     "text": [
      "2024-12-12 14:25:24.220575: I tensorflow/core/util/port.cc:153] oneDNN custom operations are on. You may see slightly different numerical results due to floating-point round-off errors from different computation orders. To turn them off, set the environment variable `TF_ENABLE_ONEDNN_OPTS=0`.\n",
      "2024-12-12 14:25:24.235599: E external/local_xla/xla/stream_executor/cuda/cuda_fft.cc:477] Unable to register cuFFT factory: Attempting to register factory for plugin cuFFT when one has already been registered\n",
      "WARNING: All log messages before absl::InitializeLog() is called are written to STDERR\n",
      "E0000 00:00:1734009924.253182 1021162 cuda_dnn.cc:8310] Unable to register cuDNN factory: Attempting to register factory for plugin cuDNN when one has already been registered\n",
      "E0000 00:00:1734009924.258607 1021162 cuda_blas.cc:1418] Unable to register cuBLAS factory: Attempting to register factory for plugin cuBLAS when one has already been registered\n",
      "2024-12-12 14:25:24.280065: I tensorflow/core/platform/cpu_feature_guard.cc:210] This TensorFlow binary is optimized to use available CPU instructions in performance-critical operations.\n",
      "To enable the following instructions: AVX2 AVX512F AVX512_VNNI FMA, in other operations, rebuild TensorFlow with the appropriate compiler flags.\n",
      "/home/icb/weixu.wang/miniconda3/envs/regvelo_test/lib/python3.10/site-packages/anndata/utils.py:429: FutureWarning: Importing read_csv from `anndata` is deprecated. Import anndata.io.read_csv instead.\n",
      "  warnings.warn(msg, FutureWarning)\n",
      "/home/icb/weixu.wang/miniconda3/envs/regvelo_test/lib/python3.10/site-packages/anndata/utils.py:429: FutureWarning: Importing read_excel from `anndata` is deprecated. Import anndata.io.read_excel instead.\n",
      "  warnings.warn(msg, FutureWarning)\n",
      "/home/icb/weixu.wang/miniconda3/envs/regvelo_test/lib/python3.10/site-packages/anndata/utils.py:429: FutureWarning: Importing read_hdf from `anndata` is deprecated. Import anndata.io.read_hdf instead.\n",
      "  warnings.warn(msg, FutureWarning)\n",
      "/home/icb/weixu.wang/miniconda3/envs/regvelo_test/lib/python3.10/site-packages/anndata/utils.py:429: FutureWarning: Importing read_loom from `anndata` is deprecated. Import anndata.io.read_loom instead.\n",
      "  warnings.warn(msg, FutureWarning)\n",
      "/home/icb/weixu.wang/miniconda3/envs/regvelo_test/lib/python3.10/site-packages/anndata/utils.py:429: FutureWarning: Importing read_mtx from `anndata` is deprecated. Import anndata.io.read_mtx instead.\n",
      "  warnings.warn(msg, FutureWarning)\n",
      "/home/icb/weixu.wang/miniconda3/envs/regvelo_test/lib/python3.10/site-packages/anndata/utils.py:429: FutureWarning: Importing read_text from `anndata` is deprecated. Import anndata.io.read_text instead.\n",
      "  warnings.warn(msg, FutureWarning)\n",
      "/home/icb/weixu.wang/miniconda3/envs/regvelo_test/lib/python3.10/site-packages/anndata/utils.py:429: FutureWarning: Importing read_umi_tools from `anndata` is deprecated. Import anndata.io.read_umi_tools instead.\n",
      "  warnings.warn(msg, FutureWarning)\n"
     ]
    }
   ],
   "source": [
    "import velovae as vv\n",
    "\n",
    "import numpy as np\n",
    "import pandas as pd\n",
    "import torch\n",
    "\n",
    "import anndata as ad\n",
    "import scvelo as scv\n",
    "from cellrank.kernels import VelocityKernel\n",
    "\n",
    "from rgv_tools import DATA_DIR\n",
    "from rgv_tools.benchmarking import get_time_correlation"
   ]
  },
  {
   "cell_type": "markdown",
   "id": "fe1f58bf-ee46-4ce9-958b-4ec22d49350a",
   "metadata": {},
   "source": [
    "## General settings"
   ]
  },
  {
   "cell_type": "code",
   "execution_count": 2,
   "id": "6560f32c-8721-49c7-886e-0f2eacafba24",
   "metadata": {},
   "outputs": [],
   "source": [
    "scv.settings.verbosity = 3"
   ]
  },
  {
   "cell_type": "markdown",
   "id": "f5e274bb-5232-41e1-a48f-5c85f1d98b06",
   "metadata": {},
   "source": [
    "## Constants"
   ]
  },
  {
   "cell_type": "code",
   "execution_count": 3,
   "id": "4fd058ac-68dd-4a29-8707-2f82664749c6",
   "metadata": {},
   "outputs": [],
   "source": [
    "torch.manual_seed(0)\n",
    "np.random.seed(0)"
   ]
  },
  {
   "cell_type": "code",
   "execution_count": 4,
   "id": "4bc959e9-2c40-4ced-b2f0-ab92fef7860e",
   "metadata": {},
   "outputs": [],
   "source": [
    "DATASET = \"cell_cycle\""
   ]
  },
  {
   "cell_type": "code",
   "execution_count": 5,
   "id": "094496df-0b8f-41f9-9fa2-064c627f6f5f",
   "metadata": {},
   "outputs": [],
   "source": [
    "STATE_TRANSITIONS = [(\"G1\", \"S\"), (\"S\", \"G2M\")]"
   ]
  },
  {
   "cell_type": "code",
   "execution_count": 6,
   "id": "6d925b31-c39b-4826-8c02-c30a68e7e505",
   "metadata": {},
   "outputs": [],
   "source": [
    "SAVE_DATA = True\n",
    "if SAVE_DATA:\n",
    "    (DATA_DIR / DATASET / \"results\").mkdir(parents=True, exist_ok=True)\n",
    "    (DATA_DIR / DATASET / \"processed\" / \"velovae_vae\").mkdir(parents=True, exist_ok=True)"
   ]
  },
  {
   "cell_type": "markdown",
   "id": "ae052e1d-0925-4ae9-a55d-f51ec79a7a76",
   "metadata": {},
   "source": [
    "## Data loading"
   ]
  },
  {
   "cell_type": "code",
   "execution_count": 7,
   "id": "c1611eeb-4066-4578-a7a2-2730696a423d",
   "metadata": {},
   "outputs": [
    {
     "data": {
      "text/plain": [
       "AnnData object with n_obs × n_vars = 1146 × 395\n",
       "    obs: 'phase', 'fucci_time', 'initial_size_unspliced', 'initial_size_spliced', 'initial_size', 'n_counts'\n",
       "    var: 'ensum_id', 'gene_count_corr', 'means', 'dispersions', 'dispersions_norm', 'highly_variable', 'velocity_gamma', 'velocity_qreg_ratio', 'velocity_r2', 'velocity_genes'\n",
       "    uns: 'log1p', 'neighbors', 'pca', 'umap', 'velocity_params'\n",
       "    obsm: 'X_pca', 'X_umap'\n",
       "    varm: 'PCs', 'true_skeleton'\n",
       "    layers: 'Ms', 'Mu', 'spliced', 'total', 'unspliced', 'velocity'\n",
       "    obsp: 'connectivities', 'distances'"
      ]
     },
     "execution_count": 7,
     "metadata": {},
     "output_type": "execute_result"
    }
   ],
   "source": [
    "adata = ad.io.read_h5ad(DATA_DIR / DATASET / \"processed\" / \"adata_processed.h5ad\")\n",
    "adata"
   ]
  },
  {
   "cell_type": "markdown",
   "id": "2379e5fb-0b6f-4ea2-b349-8ee567c962a5",
   "metadata": {},
   "source": [
    "## Velocity pipeline"
   ]
  },
  {
   "cell_type": "code",
   "execution_count": 8,
   "id": "2f175601-671f-4362-942e-372967ff2b3e",
   "metadata": {},
   "outputs": [
    {
     "name": "stdout",
     "output_type": "stream",
     "text": [
      "Estimating ODE parameters...\n"
     ]
    },
    {
     "data": {
      "application/vnd.jupyter.widget-view+json": {
       "model_id": "ae57d7c5a52849ce8556118a97ff7d89",
       "version_major": 2,
       "version_minor": 0
      },
      "text/plain": [
       "  0%|          | 0/395 [00:00<?, ?it/s]"
      ]
     },
     "metadata": {},
     "output_type": "display_data"
    },
    {
     "name": "stdout",
     "output_type": "stream",
     "text": [
      "Detected 338 velocity genes.\n",
      "Estimating the variance...\n"
     ]
    },
    {
     "data": {
      "application/vnd.jupyter.widget-view+json": {
       "model_id": "38d657aeeaa24523a82287c09e3eee9a",
       "version_major": 2,
       "version_minor": 0
      },
      "text/plain": [
       "  0%|          | 0/395 [00:00<?, ?it/s]"
      ]
     },
     "metadata": {},
     "output_type": "display_data"
    },
    {
     "name": "stdout",
     "output_type": "stream",
     "text": [
      "Initialization using the steady-state and dynamical models.\n",
      "Reinitialize the regular ODE parameters based on estimated global latent time.\n"
     ]
    },
    {
     "data": {
      "application/vnd.jupyter.widget-view+json": {
       "model_id": "06595a27092c4232a11153cf0926860e",
       "version_major": 2,
       "version_minor": 0
      },
      "text/plain": [
       "  0%|          | 0/395 [00:00<?, ?it/s]"
      ]
     },
     "metadata": {},
     "output_type": "display_data"
    },
    {
     "name": "stdout",
     "output_type": "stream",
     "text": [
      "3 clusters detected based on gene co-expression.\n",
      "(0.51, 0.7800862095516045), (0.49, 0.3450951793158637)\n",
      "(0.50, 0.7100356892462681), (0.50, 0.3549154711787042)\n",
      "KS-test result: [0. 0. 1.]\n",
      "Initial induction: 230, repression: 165/395\n",
      "Learning Rate based on Data Sparsity: 0.0000\n",
      "--------------------------- Train a VeloVAE ---------------------------\n",
      "*********        Creating Training/Validation Datasets        *********\n",
      "*********                      Finished.                      *********\n",
      "*********                 Creating optimizers                 *********\n",
      "*********                      Finished.                      *********\n",
      "*********                    Start training                   *********\n",
      "*********                      Stage  1                       *********\n",
      "Total Number of Iterations Per Epoch: 7, test iteration: 12\n",
      "*********       Stage 1: Early Stop Triggered at epoch 7.       *********\n",
      "*********                      Stage  2                       *********\n",
      "*********             Velocity Refinement Round 1             *********\n"
     ]
    },
    {
     "data": {
      "application/vnd.jupyter.widget-view+json": {
       "model_id": "014b01051c994f1fbbf6aaad216d8063",
       "version_major": 2,
       "version_minor": 0
      },
      "text/plain": [
       "  0%|          | 0/1146 [00:00<?, ?it/s]"
      ]
     },
     "metadata": {},
     "output_type": "display_data"
    },
    {
     "name": "stdout",
     "output_type": "stream",
     "text": [
      "Percentage of Invalid Sets: 0.031\n",
      "Average Set Size: 23\n",
      "*********     Round 1: Early Stop Triggered at epoch 122.    *********\n",
      "Change in noise variance: 0.0599\n",
      "*********             Velocity Refinement Round 2             *********\n",
      "*********     Round 2: Early Stop Triggered at epoch 131.    *********\n",
      "Change in noise variance: 0.0011\n",
      "Change in x0: 0.8054\n",
      "*********             Velocity Refinement Round 3             *********\n",
      "*********     Round 3: Early Stop Triggered at epoch 140.    *********\n",
      "Change in noise variance: 0.0003\n",
      "Change in x0: 0.6686\n",
      "*********             Velocity Refinement Round 4             *********\n",
      "*********     Round 4: Early Stop Triggered at epoch 149.    *********\n",
      "Change in noise variance: 0.0000\n",
      "Change in x0: 0.5644\n",
      "*********             Velocity Refinement Round 5             *********\n",
      "*********     Round 5: Early Stop Triggered at epoch 158.    *********\n",
      "Change in noise variance: 0.0000\n",
      "Change in x0: 0.5022\n",
      "*********             Velocity Refinement Round 6             *********\n",
      "*********     Round 6: Early Stop Triggered at epoch 167.    *********\n",
      "Change in noise variance: 0.0000\n",
      "Change in x0: 0.4278\n",
      "*********             Velocity Refinement Round 7             *********\n",
      "*********     Round 7: Early Stop Triggered at epoch 176.    *********\n",
      "Change in noise variance: 0.0000\n",
      "Change in x0: 0.4016\n",
      "*********             Velocity Refinement Round 8             *********\n",
      "*********     Round 8: Early Stop Triggered at epoch 185.    *********\n",
      "Change in noise variance: 0.0000\n",
      "Change in x0: 0.3699\n",
      "*********             Velocity Refinement Round 9             *********\n",
      "*********     Round 9: Early Stop Triggered at epoch 194.    *********\n",
      "Change in noise variance: 0.0000\n",
      "Change in x0: 0.3596\n",
      "*********             Velocity Refinement Round 10             *********\n",
      "*********     Round 10: Early Stop Triggered at epoch 203.    *********\n",
      "Change in noise variance: 0.0000\n",
      "Change in x0: 0.3600\n",
      "*********             Velocity Refinement Round 11             *********\n",
      "Stage 2: Early Stop Triggered at round 10.\n",
      "*********              Finished. Total Time =   0 h :  0 m : 24 s             *********\n",
      "Final: Train ELBO = -18012.699,\tTest ELBO = -18553.311\n"
     ]
    }
   ],
   "source": [
    "rate_prior = {\"alpha\": (0.0, 1.0), \"beta\": (0.0, 0.5), \"gamma\": (0.0, 0.5)}\n",
    "full_vb = vv.VAE(adata, tmax=20, dim_z=5, device=\"cuda:0\", full_vb=True, rate_prior=rate_prior)\n",
    "config = {}\n",
    "full_vb.train(adata, config=config, plot=False, embed=\"pca\")\n",
    "\n",
    "## output velocity to adata object\n",
    "full_vb.save_anndata(adata, \"fullvb\", DATA_DIR / DATASET / \"processed\" / \"velovae_vae\", file_name=\"velovae_fullvb.h5ad\")"
   ]
  },
  {
   "cell_type": "code",
   "execution_count": 9,
   "id": "95f4d803-982e-4904-91d3-662bdbbaef36",
   "metadata": {},
   "outputs": [],
   "source": [
    "adata.layers[\"velocity\"] = adata.layers[\"fullvb_velocity\"].copy()"
   ]
  },
  {
   "cell_type": "code",
   "execution_count": 10,
   "id": "684d2324-0f0c-40fd-b133-b9a693a7ac6d",
   "metadata": {},
   "outputs": [],
   "source": [
    "time_correlation = [get_time_correlation(ground_truth=adata.obs[\"fucci_time\"], estimated=adata.obs[\"fullvb_time\"])]"
   ]
  },
  {
   "cell_type": "code",
   "execution_count": 11,
   "id": "b3ae51f7-4df3-4711-9702-60626926b26b",
   "metadata": {},
   "outputs": [
    {
     "name": "stdout",
     "output_type": "stream",
     "text": [
      "computing velocity graph (using 1/112 cores)\n"
     ]
    },
    {
     "data": {
      "application/vnd.jupyter.widget-view+json": {
       "model_id": "e74378252c0b4b8f8517bc8d965add2f",
       "version_major": 2,
       "version_minor": 0
      },
      "text/plain": [
       "  0%|          | 0/1146 [00:00<?, ?cells/s]"
      ]
     },
     "metadata": {},
     "output_type": "display_data"
    },
    {
     "name": "stdout",
     "output_type": "stream",
     "text": [
      "    finished (0:00:01) --> added \n",
      "    'velocity_graph', sparse matrix with cosine correlations (adata.uns)\n",
      "--> added 'velocity_length' (adata.obs)\n",
      "--> added 'velocity_confidence' (adata.obs)\n",
      "--> added 'velocity_confidence_transition' (adata.obs)\n"
     ]
    }
   ],
   "source": [
    "scv.tl.velocity_graph(adata, vkey=\"velocity\", n_jobs=1)\n",
    "scv.tl.velocity_confidence(adata, vkey=\"velocity\")"
   ]
  },
  {
   "cell_type": "markdown",
   "id": "c76f3d9e-7e55-4dbb-9715-9f8eb35fcf2e",
   "metadata": {
    "tags": []
   },
   "source": [
    "## Cross-boundary correctness"
   ]
  },
  {
   "cell_type": "code",
   "execution_count": 12,
   "id": "32039a58",
   "metadata": {},
   "outputs": [
    {
     "data": {
      "application/vnd.jupyter.widget-view+json": {
       "model_id": "e5e330b3eaf44dadaa33e100bee122d2",
       "version_major": 2,
       "version_minor": 0
      },
      "text/plain": [
       "  0%|          | 0/1146 [00:00<?, ?cell/s]"
      ]
     },
     "metadata": {},
     "output_type": "display_data"
    },
    {
     "data": {
      "application/vnd.jupyter.widget-view+json": {
       "model_id": "ceedef61222645548e278d222618dd04",
       "version_major": 2,
       "version_minor": 0
      },
      "text/plain": [
       "  0%|          | 0/1146 [00:00<?, ?cell/s]"
      ]
     },
     "metadata": {},
     "output_type": "display_data"
    }
   ],
   "source": [
    "vk = VelocityKernel(adata, vkey=\"velocity\").compute_transition_matrix()\n",
    "\n",
    "cluster_key = \"phase\"\n",
    "rep = \"X_pca\"\n",
    "\n",
    "score_df = []\n",
    "for source, target in STATE_TRANSITIONS:\n",
    "    cbc = vk.cbc(source=source, target=target, cluster_key=cluster_key, rep=rep)\n",
    "\n",
    "    score_df.append(\n",
    "        pd.DataFrame(\n",
    "            {\n",
    "                \"State transition\": [f\"{source} - {target}\"] * len(cbc),\n",
    "                \"CBC\": cbc,\n",
    "            }\n",
    "        )\n",
    "    )\n",
    "score_df = pd.concat(score_df)"
   ]
  },
  {
   "cell_type": "markdown",
   "id": "0a3b62cb-1f01-4512-98f9-51cc532ac57f",
   "metadata": {},
   "source": [
    "## Data saving"
   ]
  },
  {
   "cell_type": "code",
   "execution_count": 13,
   "id": "cf4d362e",
   "metadata": {},
   "outputs": [],
   "source": [
    "if SAVE_DATA:\n",
    "    pd.DataFrame({\"time\": time_correlation}, index=adata.obs_names).to_parquet(\n",
    "        path=DATA_DIR / DATASET / \"results\" / \"velovae_fullvb_correlation.parquet\"\n",
    "    )\n",
    "    adata.obs[[\"velocity_confidence\"]].to_parquet(\n",
    "        path=DATA_DIR / DATASET / \"results\" / \"velovae_fullvb_confidence.parquet\"\n",
    "    )\n",
    "    score_df.to_parquet(path=DATA_DIR / DATASET / \"results\" / \"velovae_fullvb_cbc.parquet\")"
   ]
  }
 ],
 "metadata": {
  "kernelspec": {
   "display_name": "Python [conda env:regvelo_test]",
   "language": "python",
   "name": "conda-env-regvelo_test-py"
  },
  "language_info": {
   "codemirror_mode": {
    "name": "ipython",
    "version": 3
   },
   "file_extension": ".py",
   "mimetype": "text/x-python",
   "name": "python",
   "nbconvert_exporter": "python",
   "pygments_lexer": "ipython3",
   "version": "3.10.15"
  }
 },
 "nbformat": 4,
 "nbformat_minor": 5
}
