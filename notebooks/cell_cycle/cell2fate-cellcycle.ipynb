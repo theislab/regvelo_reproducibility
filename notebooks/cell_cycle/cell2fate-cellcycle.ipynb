{
 "cells": [
  {
   "cell_type": "code",
   "execution_count": 1,
   "id": "56083c16-4ffc-4078-a872-d8f8dbbd224e",
   "metadata": {},
   "outputs": [
    {
     "name": "stderr",
     "output_type": "stream",
     "text": [
      "Global seed set to 0\n"
     ]
    }
   ],
   "source": [
    "import cell2fate as c2f\n",
    "import scanpy as sc\n",
    "import numpy as np\n",
    "import matplotlib.pyplot as plt\n",
    "import os"
   ]
  },
  {
   "cell_type": "code",
   "execution_count": 2,
   "id": "51e534c8-0f9d-467c-a733-352a314b0432",
   "metadata": {},
   "outputs": [],
   "source": [
    "import torch\n",
    "import pandas as pd\n",
    "import matplotlib.pyplot as plt\n",
    "import seaborn as sns\n",
    "import pandas as pd\n",
    "import scvelo as scv\n",
    "sns.reset_defaults()\n",
    "sns.reset_orig()\n",
    "scv.settings.set_figure_params('scvelo', dpi_save=400, dpi=80, transparent=True, fontsize=20, color_map='viridis')\n",
    "import os\n",
    "import anndata as ad\n",
    "from sklearn.preprocessing import MinMaxScaler\n",
    "scaler = MinMaxScaler()\n",
    "import anndata as ad\n"
   ]
  },
  {
   "cell_type": "markdown",
   "id": "3c2c8237-b70d-4e05-8e0a-a2147d7266b8",
   "metadata": {},
   "source": [
    "## Import cell cycle dataset and train the model"
   ]
  },
  {
   "cell_type": "code",
   "execution_count": 3,
   "id": "dceec63e-6405-4403-8d40-5839de759ecc",
   "metadata": {},
   "outputs": [],
   "source": [
    "adata = sc.read(\"/gpfs/home/jw7078/cell_cycle_processed.h5ad\")\n"
   ]
  },
  {
   "cell_type": "code",
   "execution_count": 4,
   "id": "970ee8eb-a8e3-4b09-865d-0688445d9b54",
   "metadata": {},
   "outputs": [
    {
     "data": {
      "text/plain": [
       "AnnData object with n_obs × n_vars = 1146 × 395\n",
       "    obs: 'phase', 'fucci_time', 'pseudo_clusters', 'pseudo_clusters_equal_size', 'pseudo_clusters_equal_size_num', 'cell_cycle_rad', 'initial_size_unspliced', 'initial_size_spliced', 'initial_size', 'n_counts'\n",
       "    var: 'gene_count_corr', 'means', 'dispersions', 'dispersions_norm', 'highly_variable', 'velocity_gamma', 'velocity_qreg_ratio', 'velocity_r2', 'velocity_genes'\n",
       "    uns: 'neighbors', 'pca', 'umap', 'velocity_params'\n",
       "    obsm: 'X_pca', 'X_umap'\n",
       "    varm: 'PCs'\n",
       "    layers: 'Ms', 'Mu', 'spliced', 'spliced_raw', 'unspliced', 'unspliced_raw', 'velocity'\n",
       "    obsp: 'connectivities', 'distances'"
      ]
     },
     "execution_count": 4,
     "metadata": {},
     "output_type": "execute_result"
    }
   ],
   "source": [
    "adata"
   ]
  },
  {
   "cell_type": "code",
   "execution_count": 5,
   "id": "067c3ab9-f9f2-4061-8bdb-1d4d3c997040",
   "metadata": {},
   "outputs": [
    {
     "name": "stdout",
     "output_type": "stream",
     "text": [
      "Keeping at most 100000 cells per cluster\n",
      "Skip filtering by dispersion since number of variables are less than `n_top_genes`.\n"
     ]
    }
   ],
   "source": [
    "clusters_to_remove = []\n",
    "adata.obs[\"clusters\"] = \"0\"\n",
    "\n",
    "adata =  c2f.utils.get_training_data(adata, cells_per_cluster = 10**5, cluster_column = 'clusters',\n",
    "                                    remove_clusters = clusters_to_remove,\n",
    "                                min_shared_counts = 0, n_var_genes= 2000)"
   ]
  },
  {
   "cell_type": "code",
   "execution_count": 6,
   "id": "59ffae47-b02b-485c-9388-f8aed9fdc2e3",
   "metadata": {},
   "outputs": [
    {
     "name": "stderr",
     "output_type": "stream",
     "text": [
      "No GPU/TPU found, falling back to CPU. (Set TF_CPP_MIN_LOG_LEVEL=0 and rerun for more info.)\n"
     ]
    }
   ],
   "source": [
    "c2f.Cell2fate_DynamicalModel.setup_anndata(adata, spliced_label='spliced_raw', unspliced_label='unspliced_raw')\n"
   ]
  },
  {
   "cell_type": "code",
   "execution_count": 7,
   "id": "47361ad5-edd4-423a-9a1a-346015c14b05",
   "metadata": {},
   "outputs": [
    {
     "name": "stdout",
     "output_type": "stream",
     "text": [
      "Leiden clustering ...\n",
      "Number of Leiden Clusters: 5\n",
      "Maximal Number of Modules: 5\n"
     ]
    }
   ],
   "source": [
    "n_modules = c2f.utils.get_max_modules(adata)\n"
   ]
  },
  {
   "cell_type": "code",
   "execution_count": 8,
   "id": "edfdf5c8-f481-45e6-80e1-da414df419af",
   "metadata": {},
   "outputs": [],
   "source": [
    "mod = c2f.Cell2fate_DynamicalModel(adata, n_modules = n_modules)\n"
   ]
  },
  {
   "cell_type": "code",
   "execution_count": 9,
   "id": "65195366-40b2-4a04-9fb0-83979c5ee780",
   "metadata": {},
   "outputs": [
    {
     "name": "stderr",
     "output_type": "stream",
     "text": [
      "/gpfs/home/jw7078/.conda/envs/cell2fate_env/lib/python3.9/site-packages/pytorch_lightning/core/lightning.py:2054: DeprecationWarning: `torch.distributed._sharded_tensor` will be deprecated, use `torch.distributed._shard.sharded_tensor` instead\n",
      "  from torch.distributed._sharded_tensor import pre_load_state_dict_hook, state_dict_hook\n",
      "GPU available: False, used: False\n",
      "TPU available: False, using: 0 TPU cores\n",
      "IPU available: False, using: 0 IPUs\n",
      "Set SLURM handle signals.\n"
     ]
    },
    {
     "name": "stdout",
     "output_type": "stream",
     "text": [
      "Epoch 500/500: 100%|██████████| 500/500 [19:55<00:00,  2.39s/it, v_num=1, elbo_train=1.77e+6]  \n"
     ]
    }
   ],
   "source": [
    "mod.train()\n"
   ]
  },
  {
   "cell_type": "code",
   "execution_count": 10,
   "id": "9aeecb30-17fc-43a1-81b6-1190d7dd020e",
   "metadata": {},
   "outputs": [
    {
     "name": "stdout",
     "output_type": "stream",
     "text": [
      "Sampling local variables, batch: 100%|██████████| 1/1 [00:32<00:00, 32.07s/it]\n",
      "Sampling global variables, sample: 100%|██████████| 29/29 [00:01<00:00, 15.57it/s]\n",
      "Warning: Saving ALL posterior samples. Specify \"return_samples: False\" to save just summary statistics.\n"
     ]
    }
   ],
   "source": [
    "adata = mod.export_posterior(adata,sample_kwargs={'batch_size': None, 'num_samples': 30, 'return_samples': True, 'use_gpu': False})\n"
   ]
  },
  {
   "cell_type": "code",
   "execution_count": 11,
   "id": "db5c1d2e-ab9b-41ab-b397-e27aa57a4b45",
   "metadata": {},
   "outputs": [
    {
     "data": {
      "text/plain": [
       "AnnData object with n_obs × n_vars = 1146 × 395\n",
       "    obs: 'phase', 'fucci_time', 'pseudo_clusters', 'pseudo_clusters_equal_size', 'pseudo_clusters_equal_size_num', 'cell_cycle_rad', 'initial_size_unspliced', 'initial_size_spliced', 'initial_size', 'n_counts', 'clusters', '_indices', '_scvi_batch', 'Time (hours)', 'Time Uncertainty (sd)'\n",
       "    var: 'gene_count_corr', 'means', 'dispersions', 'dispersions_norm', 'highly_variable', 'velocity_gamma', 'velocity_qreg_ratio', 'velocity_r2', 'velocity_genes'\n",
       "    uns: 'neighbors', 'pca', 'umap', 'velocity_params', '_scvi_uuid', '_scvi_manager_uuid', 'mod'\n",
       "    obsm: 'X_pca', 'X_umap'\n",
       "    varm: 'PCs'\n",
       "    layers: 'Ms', 'Mu', 'spliced', 'spliced_raw', 'unspliced', 'unspliced_raw', 'velocity'\n",
       "    obsp: 'connectivities', 'distances'"
      ]
     },
     "execution_count": 11,
     "metadata": {},
     "output_type": "execute_result"
    }
   ],
   "source": [
    "adata"
   ]
  },
  {
   "cell_type": "code",
   "execution_count": 13,
   "id": "f8ebdfc1-9806-46ed-8dad-e47ba7efcb9c",
   "metadata": {},
   "outputs": [],
   "source": [
    "adata.write('cell2fate_filteredgene.h5ad')"
   ]
  }
 ],
 "metadata": {
  "kernelspec": {
   "display_name": "Python 3 (ipykernel)",
   "language": "python",
   "name": "python3"
  },
  "language_info": {
   "codemirror_mode": {
    "name": "ipython",
    "version": 3
   },
   "file_extension": ".py",
   "mimetype": "text/x-python",
   "name": "python",
   "nbconvert_exporter": "python",
   "pygments_lexer": "ipython3",
   "version": "3.9.19"
  }
 },
 "nbformat": 4,
 "nbformat_minor": 5
}
