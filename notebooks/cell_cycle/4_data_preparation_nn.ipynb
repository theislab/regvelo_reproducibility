{
 "cells": [
  {
   "cell_type": "markdown",
   "id": "0a1042cd",
   "metadata": {},
   "source": [
    "# Prepare datasets with different neighborhood size\n",
    "\n",
    "Notebook prepares data for inference tasks."
   ]
  },
  {
   "cell_type": "markdown",
   "id": "a486fec1",
   "metadata": {},
   "source": [
    "## Library imports"
   ]
  },
  {
   "cell_type": "code",
   "execution_count": 2,
   "id": "fd119f55-1837-43ca-8368-e12c55652f2b",
   "metadata": {
    "tags": []
   },
   "outputs": [],
   "source": [
    "from tqdm import tqdm\n",
    "\n",
    "import numpy as np\n",
    "import pandas as pd\n",
    "from scipy.sparse import csr_matrix\n",
    "\n",
    "import anndata as ad\n",
    "import scanpy as sc\n",
    "import scvelo as scv\n",
    "from anndata import AnnData\n",
    "from velovi import preprocess_data\n",
    "\n",
    "from rgv_tools import DATA_DIR"
   ]
  },
  {
   "cell_type": "markdown",
   "id": "e2670fad",
   "metadata": {},
   "source": [
    "## Constants"
   ]
  },
  {
   "cell_type": "code",
   "execution_count": 3,
   "id": "af9f4b90",
   "metadata": {
    "lines_to_next_cell": 2,
    "tags": []
   },
   "outputs": [],
   "source": [
    "SAVE_DATA = True\n",
    "if SAVE_DATA:\n",
    "    (DATA_DIR / \"processed\").mkdir(parents=True, exist_ok=True)"
   ]
  },
  {
   "cell_type": "code",
   "execution_count": 4,
   "id": "b3ff2c9d-a50c-403f-9420-7968d98de4d1",
   "metadata": {
    "tags": []
   },
   "outputs": [],
   "source": [
    "nn_level = [10,30,50,70,90,100]"
   ]
  },
  {
   "cell_type": "markdown",
   "id": "8209bff3",
   "metadata": {
    "lines_to_next_cell": 2
   },
   "source": [
    "## Function definitions"
   ]
  },
  {
   "cell_type": "code",
   "execution_count": 5,
   "id": "a8f28664",
   "metadata": {
    "tags": []
   },
   "outputs": [],
   "source": [
    "def prepare_data(adata: AnnData) -> None:\n",
    "    \"\"\"Update cell cycle data to include only relevant information in the standard format.\"\"\"\n",
    "    adata.X = adata.layers[\"spliced\"].copy()\n",
    "\n",
    "    for layer in [\"ambiguous\", \"matrix\", \"spanning\"]:\n",
    "        del adata.layers[layer]\n",
    "    adata.layers[\"total\"] = adata.layers[\"unspliced\"] + adata.layers[\"spliced\"]\n",
    "\n",
    "    columns_to_drop = [\n",
    "        \"Well_Plate\",\n",
    "        \"plate\",\n",
    "        \"MeanGreen530\",\n",
    "        \"MeanRed585\",\n",
    "        \"initial_size_unspliced\",\n",
    "        \"initial_size_spliced\",\n",
    "        \"initial_size\",\n",
    "    ]\n",
    "    adata.obs[\"phase\"] = adata.obs[\"phase\"].astype(str).replace({\"N/A\": np.nan, \"S-ph\": \"S\"}).astype(\"category\")\n",
    "    adata.obs.drop(columns_to_drop, axis=1, inplace=True)\n",
    "\n",
    "    adata.var[\"ensum_id\"] = adata.var_names\n",
    "    adata.var_names = adata.var[\"name\"].values.astype(str)\n",
    "    adata.var_names_make_unique()\n",
    "    columns_to_drop = [\n",
    "        \"name\",\n",
    "        \"biotype\",\n",
    "        \"description\",\n",
    "        \"Accession\",\n",
    "        \"Chromosome\",\n",
    "        \"End\",\n",
    "        \"Start\",\n",
    "        \"Strand\",\n",
    "        \"GeneName\",\n",
    "    ]\n",
    "    adata.var.drop(columns_to_drop, axis=1, inplace=True)"
   ]
  },
  {
   "cell_type": "markdown",
   "id": "3566a88d",
   "metadata": {},
   "source": [
    "## Data loading"
   ]
  },
  {
   "cell_type": "code",
   "execution_count": 22,
   "id": "592bc4f7",
   "metadata": {
    "tags": []
   },
   "outputs": [
    {
     "data": {
      "text/plain": [
       "AnnData object with n_obs × n_vars = 1146 × 19997\n",
       "    obs: 'Well_Plate', 'plate', 'phase', 'MeanGreen530', 'MeanRed585', 'fucci_time', 'initial_size_unspliced', 'initial_size_spliced', 'initial_size'\n",
       "    var: 'name', 'biotype', 'description', 'Accession', 'Chromosome', 'End', 'Start', 'Strand', 'GeneName'\n",
       "    layers: 'ambiguous', 'matrix', 'spanning', 'spliced', 'unspliced'"
      ]
     },
     "execution_count": 22,
     "metadata": {},
     "output_type": "execute_result"
    }
   ],
   "source": [
    "adata = ad.io.read_h5ad(DATA_DIR /\"raw\" / \"adata.h5ad\")\n",
    "adata"
   ]
  },
  {
   "cell_type": "markdown",
   "id": "a52d5add-d75b-4e84-8336-e9632460a818",
   "metadata": {},
   "source": [
    "## Data processing"
   ]
  },
  {
   "cell_type": "code",
   "execution_count": 23,
   "id": "fc812e8b",
   "metadata": {
    "tags": []
   },
   "outputs": [
    {
     "data": {
      "text/plain": [
       "AnnData object with n_obs × n_vars = 1146 × 19997\n",
       "    obs: 'phase', 'fucci_time'\n",
       "    var: 'ensum_id'\n",
       "    layers: 'spliced', 'unspliced', 'total'"
      ]
     },
     "execution_count": 23,
     "metadata": {},
     "output_type": "execute_result"
    }
   ],
   "source": [
    "prepare_data(adata=adata)\n",
    "\n",
    "if SAVE_DATA:\n",
    "    adata.write(DATA_DIR / \"processed\" / \"adata.h5ad\")\n",
    "\n",
    "adata"
   ]
  },
  {
   "cell_type": "code",
   "execution_count": 24,
   "id": "cc89d4d4",
   "metadata": {
    "tags": []
   },
   "outputs": [
    {
     "name": "stdout",
     "output_type": "stream",
     "text": [
      "Filtered out 4748 genes that are detected 10 counts (spliced).\n",
      "Normalized count data: X, spliced, unspliced.\n",
      "Extracted 2000 highly variable genes.\n",
      "computing moments based on connectivities\n",
      "    finished (0:00:00) --> added \n",
      "    'Ms' and 'Mu', moments of un/spliced abundances (adata.layers)\n",
      "computing velocities\n",
      "    finished (0:00:00) --> added \n",
      "    'velocity', velocity vectors for each individual cell (adata.layers)\n",
      "AnnData object with n_obs × n_vars = 1146 × 354\n",
      "    obs: 'phase', 'fucci_time', 'initial_size_unspliced', 'initial_size_spliced', 'initial_size', 'n_counts'\n",
      "    var: 'ensum_id', 'gene_count_corr', 'means', 'dispersions', 'dispersions_norm', 'highly_variable', 'velocity_gamma', 'velocity_qreg_ratio', 'velocity_r2', 'velocity_genes'\n",
      "    uns: 'log1p', 'pca', 'neighbors', 'velocity_params'\n",
      "    obsm: 'X_pca'\n",
      "    varm: 'PCs'\n",
      "    layers: 'spliced', 'unspliced', 'total', 'Ms', 'Mu', 'velocity'\n",
      "    obsp: 'distances', 'connectivities'\n",
      "computing moments based on connectivities\n",
      "    finished (0:00:00) --> added \n",
      "    'Ms' and 'Mu', moments of un/spliced abundances (adata.layers)\n",
      "computing velocities\n",
      "    finished (0:00:00) --> added \n",
      "    'velocity', velocity vectors for each individual cell (adata.layers)\n",
      "AnnData object with n_obs × n_vars = 1146 × 395\n",
      "    obs: 'phase', 'fucci_time', 'initial_size_unspliced', 'initial_size_spliced', 'initial_size', 'n_counts'\n",
      "    var: 'ensum_id', 'gene_count_corr', 'means', 'dispersions', 'dispersions_norm', 'highly_variable', 'velocity_gamma', 'velocity_qreg_ratio', 'velocity_r2', 'velocity_genes'\n",
      "    uns: 'log1p', 'pca', 'neighbors', 'velocity_params'\n",
      "    obsm: 'X_pca'\n",
      "    varm: 'PCs'\n",
      "    layers: 'spliced', 'unspliced', 'total', 'Ms', 'Mu', 'velocity'\n",
      "    obsp: 'distances', 'connectivities'\n",
      "computing moments based on connectivities\n",
      "    finished (0:00:00) --> added \n",
      "    'Ms' and 'Mu', moments of un/spliced abundances (adata.layers)\n",
      "computing velocities\n",
      "    finished (0:00:00) --> added \n",
      "    'velocity', velocity vectors for each individual cell (adata.layers)\n",
      "AnnData object with n_obs × n_vars = 1146 × 418\n",
      "    obs: 'phase', 'fucci_time', 'initial_size_unspliced', 'initial_size_spliced', 'initial_size', 'n_counts'\n",
      "    var: 'ensum_id', 'gene_count_corr', 'means', 'dispersions', 'dispersions_norm', 'highly_variable', 'velocity_gamma', 'velocity_qreg_ratio', 'velocity_r2', 'velocity_genes'\n",
      "    uns: 'log1p', 'pca', 'neighbors', 'velocity_params'\n",
      "    obsm: 'X_pca'\n",
      "    varm: 'PCs'\n",
      "    layers: 'spliced', 'unspliced', 'total', 'Ms', 'Mu', 'velocity'\n",
      "    obsp: 'distances', 'connectivities'\n",
      "computing moments based on connectivities\n",
      "    finished (0:00:00) --> added \n",
      "    'Ms' and 'Mu', moments of un/spliced abundances (adata.layers)\n",
      "computing velocities\n",
      "    finished (0:00:00) --> added \n",
      "    'velocity', velocity vectors for each individual cell (adata.layers)\n",
      "AnnData object with n_obs × n_vars = 1146 × 443\n",
      "    obs: 'phase', 'fucci_time', 'initial_size_unspliced', 'initial_size_spliced', 'initial_size', 'n_counts'\n",
      "    var: 'ensum_id', 'gene_count_corr', 'means', 'dispersions', 'dispersions_norm', 'highly_variable', 'velocity_gamma', 'velocity_qreg_ratio', 'velocity_r2', 'velocity_genes'\n",
      "    uns: 'log1p', 'pca', 'neighbors', 'velocity_params'\n",
      "    obsm: 'X_pca'\n",
      "    varm: 'PCs'\n",
      "    layers: 'spliced', 'unspliced', 'total', 'Ms', 'Mu', 'velocity'\n",
      "    obsp: 'distances', 'connectivities'\n",
      "computing moments based on connectivities\n",
      "    finished (0:00:00) --> added \n",
      "    'Ms' and 'Mu', moments of un/spliced abundances (adata.layers)\n",
      "computing velocities\n",
      "    finished (0:00:00) --> added \n",
      "    'velocity', velocity vectors for each individual cell (adata.layers)\n",
      "AnnData object with n_obs × n_vars = 1146 × 471\n",
      "    obs: 'phase', 'fucci_time', 'initial_size_unspliced', 'initial_size_spliced', 'initial_size', 'n_counts'\n",
      "    var: 'ensum_id', 'gene_count_corr', 'means', 'dispersions', 'dispersions_norm', 'highly_variable', 'velocity_gamma', 'velocity_qreg_ratio', 'velocity_r2', 'velocity_genes'\n",
      "    uns: 'log1p', 'pca', 'neighbors', 'velocity_params'\n",
      "    obsm: 'X_pca'\n",
      "    varm: 'PCs'\n",
      "    layers: 'spliced', 'unspliced', 'total', 'Ms', 'Mu', 'velocity'\n",
      "    obsp: 'distances', 'connectivities'\n",
      "computing moments based on connectivities\n",
      "    finished (0:00:00) --> added \n",
      "    'Ms' and 'Mu', moments of un/spliced abundances (adata.layers)\n",
      "computing velocities\n",
      "    finished (0:00:00) --> added \n",
      "    'velocity', velocity vectors for each individual cell (adata.layers)\n",
      "AnnData object with n_obs × n_vars = 1146 × 480\n",
      "    obs: 'phase', 'fucci_time', 'initial_size_unspliced', 'initial_size_spliced', 'initial_size', 'n_counts'\n",
      "    var: 'ensum_id', 'gene_count_corr', 'means', 'dispersions', 'dispersions_norm', 'highly_variable', 'velocity_gamma', 'velocity_qreg_ratio', 'velocity_r2', 'velocity_genes'\n",
      "    uns: 'log1p', 'pca', 'neighbors', 'velocity_params'\n",
      "    obsm: 'X_pca'\n",
      "    varm: 'PCs'\n",
      "    layers: 'spliced', 'unspliced', 'total', 'Ms', 'Mu', 'velocity'\n",
      "    obsp: 'distances', 'connectivities'\n"
     ]
    }
   ],
   "source": [
    "scv.pp.filter_and_normalize(adata, min_counts=10, n_top_genes=2000, log=False)\n",
    "sc.pp.log1p(adata)\n",
    "sc.tl.pca(adata, svd_solver=\"arpack\")\n",
    "\n",
    "adata_raw = adata.copy()\n",
    "\n",
    "for level in nn_level:\n",
    "## simulate different level of consistency\n",
    "    sc.pp.neighbors(adata, n_neighbors=level, n_pcs=30)\n",
    "    scv.pp.moments(adata,n_neighbors=None, n_pcs=None)\n",
    "    \n",
    "    adata = preprocess_data(adata)\n",
    "    \n",
    "    adata.write(DATA_DIR / \"processed\" / f\"adata_processed_nn{level}.h5ad\")\n",
    "    print(adata)\n",
    "    adata = adata_raw.copy()"
   ]
  },
  {
   "cell_type": "code",
   "execution_count": null,
   "id": "3d6613e2-d3ad-4cd8-bcc5-c7ccdfa8236e",
   "metadata": {},
   "outputs": [],
   "source": []
  }
 ],
 "metadata": {
  "kernelspec": {
   "display_name": "Python [conda env:regvelo_test]",
   "language": "python",
   "name": "conda-env-regvelo_test-py"
  },
  "language_info": {
   "codemirror_mode": {
    "name": "ipython",
    "version": 3
   },
   "file_extension": ".py",
   "mimetype": "text/x-python",
   "name": "python",
   "nbconvert_exporter": "python",
   "pygments_lexer": "ipython3",
   "version": "3.10.15"
  }
 },
 "nbformat": 4,
 "nbformat_minor": 5
}
