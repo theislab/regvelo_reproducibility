{
 "cells": [
  {
   "attachments": {},
   "cell_type": "markdown",
   "id": "0a1042cd",
   "metadata": {},
   "source": [
    "# scVelo benchmark on cell cycle data\n",
    "\n",
    "Notebook benchmarks velocity, latent time inference, and cross boundary correctness using scVelo on cell cycle data."
   ]
  },
  {
   "cell_type": "markdown",
   "id": "a486fec1",
   "metadata": {},
   "source": [
    "## Library imports"
   ]
  },
  {
   "cell_type": "code",
   "execution_count": null,
   "id": "fd119f55-1837-43ca-8368-e12c55652f2b",
   "metadata": {},
   "outputs": [],
   "source": [
    "import numpy as np\n",
    "import pandas as pd\n",
    "\n",
    "import anndata as ad\n",
    "import scvelo as scv\n",
    "from cellrank.kernels import VelocityKernel\n",
    "\n",
    "from rgv_tools import DATA_DIR\n",
    "from rgv_tools.benchmarking import get_time_correlation"
   ]
  },
  {
   "attachments": {},
   "cell_type": "markdown",
   "id": "b6b48f3e-9560-47d4-bd6d-25aa5db08c13",
   "metadata": {},
   "source": [
    "## General settings"
   ]
  },
  {
   "cell_type": "code",
   "execution_count": null,
   "id": "515cd207",
   "metadata": {},
   "outputs": [],
   "source": [
    "scv.settings.verbosity = 3"
   ]
  },
  {
   "attachments": {},
   "cell_type": "markdown",
   "id": "e2670fad",
   "metadata": {},
   "source": [
    "## Constants"
   ]
  },
  {
   "cell_type": "code",
   "execution_count": null,
   "id": "da3ae144",
   "metadata": {},
   "outputs": [],
   "source": [
    "DATASET = \"cell_cycle\""
   ]
  },
  {
   "cell_type": "code",
   "execution_count": null,
   "id": "68ec1311",
   "metadata": {},
   "outputs": [],
   "source": [
    "STATE_TRANSITIONS = [(\"G1\", \"S\"), (\"S\", \"G2M\")]"
   ]
  },
  {
   "cell_type": "code",
   "execution_count": null,
   "id": "af9f4b90",
   "metadata": {},
   "outputs": [],
   "source": [
    "SAVE_DATA = True\n",
    "if SAVE_DATA:\n",
    "    (DATA_DIR / DATASET / \"results\").mkdir(parents=True, exist_ok=True)"
   ]
  },
  {
   "cell_type": "markdown",
   "id": "6d9c0ddd",
   "metadata": {},
   "source": [
    "## Data loading"
   ]
  },
  {
   "cell_type": "code",
   "execution_count": null,
   "id": "592bc4f7",
   "metadata": {},
   "outputs": [],
   "source": [
    "adata = ad.io.read_h5ad(DATA_DIR / DATASET / \"processed\" / \"adata_processed.h5ad\")\n",
    "adata"
   ]
  },
  {
   "attachments": {},
   "cell_type": "markdown",
   "id": "a52d5add-d75b-4e84-8336-e9632460a818",
   "metadata": {},
   "source": [
    "## Velocity pipeline"
   ]
  },
  {
   "cell_type": "code",
   "execution_count": null,
   "id": "ba75641e",
   "metadata": {},
   "outputs": [],
   "source": [
    "# Parameter inference\n",
    "scv.tl.recover_dynamics(adata, fit_scaling=False, var_names=adata.var_names, n_jobs=1)"
   ]
  },
  {
   "cell_type": "code",
   "execution_count": null,
   "id": "9dca3bf6",
   "metadata": {},
   "outputs": [],
   "source": [
    "# Velocity inferene\n",
    "adata.var[\"fit_scaling\"] = 1.0\n",
    "scv.tl.velocity(adata, mode=\"dynamical\", min_likelihood=-np.inf, min_r2=None)"
   ]
  },
  {
   "cell_type": "code",
   "execution_count": null,
   "id": "2fd8c891",
   "metadata": {},
   "outputs": [],
   "source": [
    "scv.tl.velocity_graph(adata, vkey=\"velocity\", n_jobs=1)\n",
    "scv.tl.velocity_confidence(adata, vkey=\"velocity\")"
   ]
  },
  {
   "cell_type": "code",
   "execution_count": null,
   "id": "1183a746",
   "metadata": {},
   "outputs": [],
   "source": [
    "time_correlation = [\n",
    "    get_time_correlation(ground_truth=adata.obs[\"fucci_time\"], estimated=adata.layers[\"fit_t\"].mean(axis=1))\n",
    "]"
   ]
  },
  {
   "cell_type": "markdown",
   "id": "1aab9ea3",
   "metadata": {},
   "source": [
    "## Cross-boundary correctness"
   ]
  },
  {
   "cell_type": "code",
   "execution_count": null,
   "id": "a3e15770",
   "metadata": {},
   "outputs": [],
   "source": [
    "vk = VelocityKernel(adata).compute_transition_matrix()\n",
    "\n",
    "cluster_key = \"phase\"\n",
    "rep = \"X_pca\"\n",
    "\n",
    "score_df = []\n",
    "for source, target in STATE_TRANSITIONS:\n",
    "    cbc = vk.cbc(source=source, target=target, cluster_key=cluster_key, rep=rep)\n",
    "\n",
    "    score_df.append(\n",
    "        pd.DataFrame(\n",
    "            {\n",
    "                \"State transition\": [f\"{source} - {target}\"] * len(cbc),\n",
    "                \"CBC\": cbc,\n",
    "            }\n",
    "        )\n",
    "    )\n",
    "score_df = pd.concat(score_df)"
   ]
  },
  {
   "cell_type": "markdown",
   "id": "9714322d",
   "metadata": {},
   "source": [
    "## Data saving"
   ]
  },
  {
   "cell_type": "code",
   "execution_count": null,
   "id": "cf4d362e",
   "metadata": {},
   "outputs": [],
   "source": [
    "if SAVE_DATA:\n",
    "    pd.DataFrame({\"time\": time_correlation}, index=adata.obs_names).to_parquet(\n",
    "        path=DATA_DIR / DATASET / \"results\" / \"scvelo_correlation.parquet\"\n",
    "    )\n",
    "    adata.obs[[\"velocity_confidence\"]].to_parquet(path=DATA_DIR / DATASET / \"results\" / \"scvelo_confidence.parquet\")\n",
    "    score_df.to_parquet(path=DATA_DIR / DATASET / \"results\" / \"scvelo_cbc.parquet\")"
   ]
  }
 ],
 "metadata": {
  "kernelspec": {
   "display_name": "regvelo-py310",
   "language": "python",
   "name": "python3"
  },
  "language_info": {
   "codemirror_mode": {
    "name": "ipython",
    "version": 3
   },
   "file_extension": ".py",
   "mimetype": "text/x-python",
   "name": "python",
   "nbconvert_exporter": "python",
   "pygments_lexer": "ipython3",
   "version": "3.10.15"
  }
 },
 "nbformat": 4,
 "nbformat_minor": 5
}
