{
 "cells": [
  {
   "cell_type": "markdown",
   "id": "ed35aab7-58bc-49d4-8ee0-cf19c727e809",
   "metadata": {},
   "source": [
    "# SpliceJAC benchmark on cell cycle\n",
    "\n",
    "Notebook benchmarks GRN inference using SpliceJAC on cell cycling dataset"
   ]
  },
  {
   "cell_type": "markdown",
   "id": "4ac50bb7-c7d8-4dfb-a246-53bf98c3cf70",
   "metadata": {},
   "source": [
    "## Library imports"
   ]
  },
  {
   "cell_type": "code",
   "execution_count": 1,
   "id": "f4b6a095-4354-4ad3-b71c-e21f755aa8e0",
   "metadata": {},
   "outputs": [
    {
     "name": "stderr",
     "output_type": "stream",
     "text": [
      "/home/icb/weixu.wang/miniconda3/envs/regvelo_test/lib/python3.10/site-packages/anndata/utils.py:429: FutureWarning: Importing read_csv from `anndata` is deprecated. Import anndata.io.read_csv instead.\n",
      "  warnings.warn(msg, FutureWarning)\n",
      "/home/icb/weixu.wang/miniconda3/envs/regvelo_test/lib/python3.10/site-packages/anndata/utils.py:429: FutureWarning: Importing read_excel from `anndata` is deprecated. Import anndata.io.read_excel instead.\n",
      "  warnings.warn(msg, FutureWarning)\n",
      "/home/icb/weixu.wang/miniconda3/envs/regvelo_test/lib/python3.10/site-packages/anndata/utils.py:429: FutureWarning: Importing read_hdf from `anndata` is deprecated. Import anndata.io.read_hdf instead.\n",
      "  warnings.warn(msg, FutureWarning)\n",
      "/home/icb/weixu.wang/miniconda3/envs/regvelo_test/lib/python3.10/site-packages/anndata/utils.py:429: FutureWarning: Importing read_loom from `anndata` is deprecated. Import anndata.io.read_loom instead.\n",
      "  warnings.warn(msg, FutureWarning)\n",
      "/home/icb/weixu.wang/miniconda3/envs/regvelo_test/lib/python3.10/site-packages/anndata/utils.py:429: FutureWarning: Importing read_mtx from `anndata` is deprecated. Import anndata.io.read_mtx instead.\n",
      "  warnings.warn(msg, FutureWarning)\n",
      "/home/icb/weixu.wang/miniconda3/envs/regvelo_test/lib/python3.10/site-packages/anndata/utils.py:429: FutureWarning: Importing read_text from `anndata` is deprecated. Import anndata.io.read_text instead.\n",
      "  warnings.warn(msg, FutureWarning)\n",
      "/home/icb/weixu.wang/miniconda3/envs/regvelo_test/lib/python3.10/site-packages/anndata/utils.py:429: FutureWarning: Importing read_umi_tools from `anndata` is deprecated. Import anndata.io.read_umi_tools instead.\n",
      "  warnings.warn(msg, FutureWarning)\n"
     ]
    }
   ],
   "source": [
    "import splicejac as sp\n",
    "\n",
    "import pandas as pd\n",
    "\n",
    "import anndata as ad\n",
    "\n",
    "from rgv_tools import DATA_DIR\n",
    "from rgv_tools.benchmarking import get_grn_auroc_cc"
   ]
  },
  {
   "cell_type": "markdown",
   "id": "dc7fd89e-74b8-44d1-acb6-785b5dca4f99",
   "metadata": {},
   "source": [
    "## Constants"
   ]
  },
  {
   "cell_type": "code",
   "execution_count": 2,
   "id": "4c2f31ab-8711-4c8e-a673-7115028ab870",
   "metadata": {},
   "outputs": [],
   "source": [
    "DATASET = \"cell_cycle\""
   ]
  },
  {
   "cell_type": "code",
   "execution_count": 3,
   "id": "9baeada1-9cf1-4652-935e-f4828c127254",
   "metadata": {},
   "outputs": [],
   "source": [
    "SAVE_DATA = True\n",
    "if SAVE_DATA:\n",
    "    (DATA_DIR / DATASET / \"results\").mkdir(parents=True, exist_ok=True)"
   ]
  },
  {
   "cell_type": "markdown",
   "id": "b1d4f21d-e562-4565-badc-cb971489cde1",
   "metadata": {},
   "source": [
    "## Data loading"
   ]
  },
  {
   "cell_type": "code",
   "execution_count": 4,
   "id": "cccb9c3b-26ac-44da-93f1-e04b3fa7f81f",
   "metadata": {},
   "outputs": [
    {
     "data": {
      "text/plain": [
       "AnnData object with n_obs × n_vars = 1146 × 395\n",
       "    obs: 'phase', 'fucci_time', 'initial_size_unspliced', 'initial_size_spliced', 'initial_size', 'n_counts'\n",
       "    var: 'ensum_id', 'gene_count_corr', 'means', 'dispersions', 'dispersions_norm', 'highly_variable', 'velocity_gamma', 'velocity_qreg_ratio', 'velocity_r2', 'velocity_genes'\n",
       "    uns: 'log1p', 'neighbors', 'pca', 'umap', 'velocity_params'\n",
       "    obsm: 'X_pca', 'X_umap'\n",
       "    varm: 'PCs', 'true_skeleton'\n",
       "    layers: 'Ms', 'Mu', 'spliced', 'total', 'unspliced', 'velocity'\n",
       "    obsp: 'connectivities', 'distances'"
      ]
     },
     "execution_count": 4,
     "metadata": {},
     "output_type": "execute_result"
    }
   ],
   "source": [
    "adata = ad.io.read_h5ad(DATA_DIR / DATASET / \"processed\" / \"adata_processed.h5ad\")\n",
    "adata"
   ]
  },
  {
   "cell_type": "markdown",
   "id": "18fa82b1-1380-4e84-9cdc-2efed7e575de",
   "metadata": {},
   "source": [
    "## GRN pipeline"
   ]
  },
  {
   "cell_type": "code",
   "execution_count": 5,
   "id": "3fa72255-f85b-4dac-857c-6ac763588c7b",
   "metadata": {
    "tags": []
   },
   "outputs": [
    {
     "name": "stdout",
     "output_type": "stream",
     "text": [
      "WARNING: Did not normalize X as it looks processed already. To enforce normalization, set `enforce=True`.\n",
      "WARNING: Did not normalize spliced as it looks processed already. To enforce normalization, set `enforce=True`.\n",
      "WARNING: Did not normalize unspliced as it looks processed already. To enforce normalization, set `enforce=True`.\n",
      "Extracted 395 highly variable genes.\n",
      "WARNING: adata.X seems to be already log-transformed.\n",
      "Logarithmized X.\n"
     ]
    },
    {
     "name": "stderr",
     "output_type": "stream",
     "text": [
      "/home/icb/weixu.wang/miniconda3/envs/regvelo_test/lib/python3.10/site-packages/scvelo/preprocessing/utils.py:705: DeprecationWarning: `log1p` is deprecated since scVelo v0.3.0 and will be removed in a future version. Please use `log1p` from `scanpy.pp` instead.\n",
      "  log1p(adata)\n"
     ]
    },
    {
     "name": "stdout",
     "output_type": "stream",
     "text": [
      "Running quick regression...\n",
      "Running subset regression on the 0 cluster...\n"
     ]
    }
   ],
   "source": [
    "## We ignore the cell label information and assume all cells is the same label due to we use cellline dataset\n",
    "adata.obs[\"clusters\"] = \"0\"\n",
    "n = len(adata.var_names)\n",
    "\n",
    "sp.tl.estimate_jacobian(adata, n_top_genes=adata.shape[1], min_shared_counts=0)\n",
    "grn_estimate = adata.uns[\"average_jac\"][\"0\"][0][0:n, n:].copy()\n",
    "\n",
    "grn_correlation = [get_grn_auroc_cc(ground_truth=adata.varm[\"true_skeleton\"].toarray(), estimated=grn_estimate.T)]"
   ]
  },
  {
   "cell_type": "code",
   "execution_count": 6,
   "id": "f3a8b7ff-d08e-4031-ad7f-f77a134685c4",
   "metadata": {},
   "outputs": [],
   "source": [
    "if SAVE_DATA:\n",
    "    pd.DataFrame({\"grn\": grn_correlation}).to_parquet(\n",
    "        path=DATA_DIR / DATASET / \"results\" / \"splicejac_correlation.parquet\"\n",
    "    )"
   ]
  }
 ],
 "metadata": {
  "kernelspec": {
   "display_name": "Python [conda env:regvelo_test]",
   "language": "python",
   "name": "conda-env-regvelo_test-py"
  },
  "language_info": {
   "codemirror_mode": {
    "name": "ipython",
    "version": 3
   },
   "file_extension": ".py",
   "mimetype": "text/x-python",
   "name": "python",
   "nbconvert_exporter": "python",
   "pygments_lexer": "ipython3",
   "version": "3.10.15"
  }
 },
 "nbformat": 4,
 "nbformat_minor": 5
}
