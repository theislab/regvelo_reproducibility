{
 "cells": [
  {
   "cell_type": "markdown",
   "id": "15f1ab6e",
   "metadata": {},
   "source": [
    "## Run cell2fate"
   ]
  },
  {
   "cell_type": "code",
   "execution_count": null,
   "id": "56083c16-4ffc-4078-a872-d8f8dbbd224e",
   "metadata": {},
   "outputs": [],
   "source": [
    "import anndata as ad\n",
    "import cell2fate as c2f\n",
    "\n",
    "from rgv_tools import DATA_DIR"
   ]
  },
  {
   "cell_type": "markdown",
   "id": "3c2c8237-b70d-4e05-8e0a-a2147d7266b8",
   "metadata": {},
   "source": [
    "## Import cell cycle dataset and train the model"
   ]
  },
  {
   "cell_type": "code",
   "execution_count": null,
   "id": "dceec63e-6405-4403-8d40-5839de759ecc",
   "metadata": {
    "lines_to_next_cell": 2
   },
   "outputs": [],
   "source": [
    "adata = ad.io.read_h5ad(DATA_DIR / \"cell_cycle\" / \"cell_cycle_processed.h5ad\")\n",
    "adata"
   ]
  },
  {
   "cell_type": "code",
   "execution_count": null,
   "id": "067c3ab9-f9f2-4061-8bdb-1d4d3c997040",
   "metadata": {},
   "outputs": [],
   "source": [
    "clusters_to_remove = []\n",
    "adata.obs[\"clusters\"] = \"0\"\n",
    "\n",
    "adata = c2f.utils.get_training_data(\n",
    "    adata,\n",
    "    cells_per_cluster=10**5,\n",
    "    cluster_column=\"clusters\",\n",
    "    remove_clusters=clusters_to_remove,\n",
    "    min_shared_counts=0,\n",
    "    n_var_genes=2000,\n",
    ")"
   ]
  },
  {
   "cell_type": "code",
   "execution_count": null,
   "id": "59ffae47-b02b-485c-9388-f8aed9fdc2e3",
   "metadata": {
    "lines_to_next_cell": 2
   },
   "outputs": [],
   "source": [
    "c2f.Cell2fate_DynamicalModel.setup_anndata(adata, spliced_label=\"spliced_raw\", unspliced_label=\"unspliced_raw\")"
   ]
  },
  {
   "cell_type": "code",
   "execution_count": null,
   "id": "47361ad5-edd4-423a-9a1a-346015c14b05",
   "metadata": {
    "lines_to_next_cell": 2
   },
   "outputs": [],
   "source": [
    "n_modules = c2f.utils.get_max_modules(adata)"
   ]
  },
  {
   "cell_type": "code",
   "execution_count": null,
   "id": "edfdf5c8-f481-45e6-80e1-da414df419af",
   "metadata": {
    "lines_to_next_cell": 2
   },
   "outputs": [],
   "source": [
    "mod = c2f.Cell2fate_DynamicalModel(adata, n_modules=n_modules)"
   ]
  },
  {
   "cell_type": "code",
   "execution_count": null,
   "id": "65195366-40b2-4a04-9fb0-83979c5ee780",
   "metadata": {
    "lines_to_next_cell": 2
   },
   "outputs": [],
   "source": [
    "mod.train()"
   ]
  },
  {
   "cell_type": "code",
   "execution_count": null,
   "id": "9aeecb30-17fc-43a1-81b6-1190d7dd020e",
   "metadata": {
    "lines_to_next_cell": 2
   },
   "outputs": [],
   "source": [
    "adata = mod.export_posterior(\n",
    "    adata, sample_kwargs={\"batch_size\": None, \"num_samples\": 30, \"return_samples\": True, \"use_gpu\": False}\n",
    ")"
   ]
  },
  {
   "cell_type": "code",
   "execution_count": null,
   "id": "db5c1d2e-ab9b-41ab-b397-e27aa57a4b45",
   "metadata": {},
   "outputs": [],
   "source": [
    "adata"
   ]
  },
  {
   "cell_type": "code",
   "execution_count": null,
   "id": "f8ebdfc1-9806-46ed-8dad-e47ba7efcb9c",
   "metadata": {},
   "outputs": [],
   "source": [
    "adata.write(DATA_DIR / \"cell_cycle\" / \"cell2fate_filteredgene.h5ad\")"
   ]
  }
 ],
 "metadata": {
  "kernelspec": {
   "display_name": "Python [conda env:cell2fate_env2]",
   "language": "python",
   "name": "conda-env-cell2fate_env2-py"
  },
  "language_info": {
   "codemirror_mode": {
    "name": "ipython",
    "version": 3
   },
   "file_extension": ".py",
   "mimetype": "text/x-python",
   "name": "python",
   "nbconvert_exporter": "python",
   "pygments_lexer": "ipython3",
   "version": "3.9.18"
  }
 },
 "nbformat": 4,
 "nbformat_minor": 5
}
