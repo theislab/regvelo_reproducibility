{
 "cells": [
  {
   "cell_type": "markdown",
   "id": "80e99848-ef02-4b9b-8c22-7f971e92436f",
   "metadata": {},
   "source": [
    "# Visualize GRN"
   ]
  },
  {
   "cell_type": "code",
   "execution_count": null,
   "id": "21c12c68-5877-46e0-99aa-8a2655b25f38",
   "metadata": {},
   "outputs": [],
   "source": [
    "import networkx as nx\n",
    "import numpy as np\n",
    "import pandas as pd\n",
    "import torch\n",
    "\n",
    "import matplotlib.pyplot as plt\n",
    "import seaborn as sns\n",
    "\n",
    "import scanpy as sc\n",
    "import scvelo as scv\n",
    "import scvi\n",
    "from regvelo import REGVELOVI\n",
    "\n",
    "from rgv_tools import DATA_DIR, FIG_DIR"
   ]
  },
  {
   "cell_type": "markdown",
   "id": "62131877-6f33-4260-947b-081a4e6cf49f",
   "metadata": {},
   "source": [
    "## General settings"
   ]
  },
  {
   "cell_type": "code",
   "execution_count": null,
   "id": "c148bb0d-1991-47a9-bc62-d6b9e58c33ba",
   "metadata": {},
   "outputs": [],
   "source": [
    "scvi.settings.dl_pin_memory_gpu_training = False"
   ]
  },
  {
   "cell_type": "code",
   "execution_count": null,
   "id": "49d223ef-c4c1-4230-b8db-6e46092a43d8",
   "metadata": {},
   "outputs": [],
   "source": [
    "plt.rcParams[\"svg.fonttype\"] = \"none\""
   ]
  },
  {
   "cell_type": "code",
   "execution_count": null,
   "id": "414fe048-5185-4b58-a9eb-3e920493232f",
   "metadata": {},
   "outputs": [],
   "source": [
    "sns.reset_defaults()\n",
    "sns.reset_orig()\n",
    "scv.settings.set_figure_params(\"scvelo\", dpi_save=400, dpi=80, transparent=True, fontsize=14, color_map=\"viridis\")"
   ]
  },
  {
   "cell_type": "code",
   "execution_count": null,
   "id": "06e87935-5d9e-4daf-804c-0fdabd9b82c3",
   "metadata": {
    "lines_to_next_cell": 2
   },
   "outputs": [],
   "source": [
    "SAVE_FIGURES = True\n",
    "if SAVE_FIGURES:\n",
    "    (FIG_DIR / \"cell_cycle\").mkdir(parents=True, exist_ok=True)\n",
    "\n",
    "SAVE_DATASETS = False\n",
    "if SAVE_DATASETS:\n",
    "    (DATA_DIR / \"cell_cycle\").mkdir(parents=True, exist_ok=True)"
   ]
  },
  {
   "cell_type": "markdown",
   "id": "488584bc-afd7-4d25-923a-700b036c0bbf",
   "metadata": {
    "lines_to_next_cell": 2
   },
   "source": [
    "## Function definitions"
   ]
  },
  {
   "cell_type": "code",
   "execution_count": null,
   "id": "dded6599-8cf2-4a4f-84fe-4b123e1c1d00",
   "metadata": {},
   "outputs": [],
   "source": [
    "def add_regvelo_outputs_to_adata(adata_raw, vae, n_samples=30):\n",
    "    \"\"\"TODO.\"\"\"\n",
    "    latent_time = vae.get_latent_time(n_samples=n_samples, time_statistic=\"mean\", batch_size=adata_raw.shape[0])\n",
    "    velocities = vae.get_velocity(n_samples=n_samples, velo_statistic=\"mean\", batch_size=adata_raw.shape[0])\n",
    "\n",
    "    t = latent_time\n",
    "    scaling = 20 / t.max(0)\n",
    "    adata = adata_raw[:, vae.module.target_index].copy()\n",
    "\n",
    "    adata.layers[\"velocity\"] = velocities / scaling\n",
    "    adata.layers[\"latent_time_regvelo\"] = latent_time\n",
    "\n",
    "    adata.layers[\"fit_t\"] = latent_time.values * scaling[np.newaxis, :]\n",
    "    adata.var[\"fit_scaling\"] = 1.0\n",
    "\n",
    "    return adata"
   ]
  },
  {
   "cell_type": "markdown",
   "id": "89ba531b-cbcb-4f5e-a698-9826ef790328",
   "metadata": {},
   "source": [
    "## Load datasets"
   ]
  },
  {
   "cell_type": "code",
   "execution_count": null,
   "id": "f32fa1d9-74b5-487a-8ba0-23125e3ba090",
   "metadata": {},
   "outputs": [],
   "source": [
    "adata = sc.read_h5ad(DATA_DIR / \"cell_cycle\" / \"cell_cycle_processed.h5ad\")"
   ]
  },
  {
   "cell_type": "code",
   "execution_count": null,
   "id": "369cca3e-701a-4f3d-804f-567ec506e913",
   "metadata": {},
   "outputs": [],
   "source": [
    "reg_bdata = adata.copy()\n",
    "reg_bdata.uns[\"regulators\"] = adata.var.index.values\n",
    "reg_bdata.uns[\"targets\"] = adata.var.index.values\n",
    "reg_bdata.uns[\"skeleton\"] = np.ones((len(adata.var.index), len(adata.var.index)))\n",
    "reg_bdata"
   ]
  },
  {
   "cell_type": "code",
   "execution_count": null,
   "id": "36193826-7489-465b-99f0-e00d82df50b1",
   "metadata": {},
   "outputs": [],
   "source": [
    "TF = pd.read_csv(\"RegVelo_datasets/cell cycle/allTFs_hg38.txt\", header=None)\n",
    "TF = reg_bdata.var_names[reg_bdata.var_names.isin(TF.iloc[:, 0])]"
   ]
  },
  {
   "cell_type": "markdown",
   "id": "f619a7c2-2bc0-4f7e-95ac-83a0a3e57229",
   "metadata": {},
   "source": [
    "## Identify most activate TF"
   ]
  },
  {
   "cell_type": "code",
   "execution_count": null,
   "id": "10f3c70b-bd78-4ead-a3df-76e4f38d3215",
   "metadata": {},
   "outputs": [],
   "source": [
    "reg_vae = REGVELOVI.load(DATA_DIR / \"cell_cycle\" / \"model_1\", reg_bdata)\n",
    "GRN = (\n",
    "    reg_vae.module.v_encoder.GRN_Jacobian(torch.tensor(reg_bdata.layers[\"Ms\"].mean(0)).to(\"cuda:0\"))\n",
    "    .detach()\n",
    "    .cpu()\n",
    "    .numpy()\n",
    ")\n",
    "pd.DataFrame(\n",
    "    (GRN[:, reg_bdata.var.index.isin(TF)]).mean(0), index=reg_bdata.var.index[reg_bdata.var.index.isin(TF)]\n",
    ").sort_values(0, ascending=False).iloc[:10, :]"
   ]
  },
  {
   "cell_type": "markdown",
   "id": "b56bbf7d-1f25-4631-9c62-570bf80af19d",
   "metadata": {},
   "source": [
    "## Visualize GRN"
   ]
  },
  {
   "cell_type": "code",
   "execution_count": null,
   "id": "59ca8879-63d7-4ce3-ad13-2a8ccfc5c075",
   "metadata": {},
   "outputs": [],
   "source": [
    "targets = GRN[:, [i == \"TGIF1\" for i in reg_bdata.var.index]].reshape(-1)\n",
    "prior = 0"
   ]
  },
  {
   "cell_type": "code",
   "execution_count": null,
   "id": "6e941fae-efbd-4b69-bbbd-d5a2e374cd12",
   "metadata": {},
   "outputs": [],
   "source": [
    "targets = pd.DataFrame(targets, index=reg_bdata.var.index)"
   ]
  },
  {
   "cell_type": "code",
   "execution_count": null,
   "id": "b6af6c91-9de2-4969-ab19-1d1b769725ee",
   "metadata": {},
   "outputs": [],
   "source": [
    "targets.loc[:, \"weight\"] = targets.iloc[:, 0].abs()\n",
    "targets.loc[:, \"prior\"] = prior"
   ]
  },
  {
   "cell_type": "code",
   "execution_count": null,
   "id": "ac2ba1dd-33d0-400e-9746-8a5b02c6f95d",
   "metadata": {},
   "outputs": [],
   "source": [
    "GRN_visualize_tgif1 = targets.sort_values(\"weight\", ascending=False).iloc[:50, :]"
   ]
  },
  {
   "cell_type": "code",
   "execution_count": null,
   "id": "afee236d-b5e2-4d62-b713-f2e1fdb93de9",
   "metadata": {},
   "outputs": [],
   "source": [
    "targets = GRN[:, [i == \"ETV1\" for i in reg_bdata.var.index]].reshape(-1)\n",
    "prior = 0"
   ]
  },
  {
   "cell_type": "code",
   "execution_count": null,
   "id": "29fbe457-b15d-4e29-9cde-999fdf96df98",
   "metadata": {},
   "outputs": [],
   "source": [
    "targets = pd.DataFrame(targets, index=reg_bdata.var.index)"
   ]
  },
  {
   "cell_type": "code",
   "execution_count": null,
   "id": "9ccc9224-b882-4763-be26-7a94bc078f81",
   "metadata": {},
   "outputs": [],
   "source": [
    "targets.loc[:, \"weight\"] = targets.iloc[:, 0].abs()\n",
    "targets.loc[:, \"prior\"] = prior"
   ]
  },
  {
   "cell_type": "code",
   "execution_count": null,
   "id": "c49eae50-39b4-46f1-a08d-db5e8ab25c81",
   "metadata": {},
   "outputs": [],
   "source": [
    "GRN_visualize_etv1 = targets.sort_values(\"weight\", ascending=False).iloc[:50, :]"
   ]
  },
  {
   "cell_type": "code",
   "execution_count": null,
   "id": "54369144-b762-4b04-b980-14b0c17a5483",
   "metadata": {},
   "outputs": [],
   "source": [
    "df1 = pd.DataFrame(\n",
    "    {\"from\": [\"TGIF1\"] * 50, \"to\": GRN_visualize_tgif1.index.tolist(), \"status\": GRN_visualize_tgif1.loc[:, \"prior\"]}\n",
    ")\n",
    "\n",
    "df2 = pd.DataFrame(\n",
    "    {\"from\": [\"ETV1\"] * 50, \"to\": GRN_visualize_etv1.index.tolist(), \"status\": GRN_visualize_etv1.loc[:, \"prior\"]}\n",
    ")"
   ]
  },
  {
   "cell_type": "code",
   "execution_count": null,
   "id": "8e1fdd7e-d3ec-4598-8444-eace0c4fe996",
   "metadata": {},
   "outputs": [],
   "source": [
    "df = pd.concat([df1, df2], axis=0)"
   ]
  },
  {
   "cell_type": "code",
   "execution_count": null,
   "id": "8067d715-5dc4-4688-885b-584d4f6221f7",
   "metadata": {},
   "outputs": [],
   "source": [
    "list1 = [\"TGIF1\"] + GRN_visualize_tgif1.index.tolist()\n",
    "list2 = [\"ETV1\"] + GRN_visualize_etv1.index.tolist()\n",
    "\n",
    "# Define communities\n",
    "community1 = list(set(list1) - set(list2))  # Nodes only in list1\n",
    "community2 = list(set(list2) - set(list1))  # Nodes only in list2\n",
    "community3 = list(set(list1).intersection(list2))  # Nodes shared by both\n",
    "communities = [frozenset(set(community1)), frozenset(set(community2)), frozenset(set(community3))]"
   ]
  },
  {
   "cell_type": "code",
   "execution_count": null,
   "id": "5afd2f98-62d7-4ed5-99a8-d5799eead4b4",
   "metadata": {},
   "outputs": [],
   "source": [
    "G = nx.from_pandas_edgelist(df, source=\"from\", target=\"to\", create_using=nx.DiGraph())"
   ]
  },
  {
   "cell_type": "code",
   "execution_count": null,
   "id": "a7b93288-e58a-49ef-ac76-64839b1735f0",
   "metadata": {},
   "outputs": [],
   "source": [
    "if SAVE_FIGURES:\n",
    "    fig, ax = plt.subplots(figsize=(6, 4))\n",
    "    supergraph = nx.cycle_graph(len(communities))\n",
    "    superpos = nx.spring_layout(G, scale=3)\n",
    "\n",
    "    # Use the \"supernode\" positions as the center of each node cluster\n",
    "    centers = list(superpos.values())\n",
    "    pos = {}\n",
    "    for center, comm in zip(centers, communities):\n",
    "        pos.update(nx.spring_layout(nx.subgraph(G, comm), center=center))\n",
    "\n",
    "    # Nodes colored by cluster\n",
    "    node_list = [\"TGIF1\", \"ETV1\", \"BUB1\", \"TOP2A\", \"RRM2\", \"WDHD1\", \"TFDP1\"]\n",
    "    for nodes, clr in zip(communities, (\"tab:blue\", \"tab:blue\", \"tab:green\")):\n",
    "        nx.draw_networkx_nodes(G, pos=pos, nodelist=nodes, node_color=clr, node_size=100)\n",
    "        nx.draw_networkx_labels(G, pos=pos, labels={node: node for node in node_list}, font_size=14, font_color=\"black\")\n",
    "    nx.draw_networkx_edges(G, pos=pos, edge_color=\"lightgrey\")\n",
    "\n",
    "    plt.tight_layout()\n",
    "\n",
    "    fig.savefig(FIG_DIR / \"cell_cycle\" / \"O2SC_GRN.svg\", format=\"svg\", transparent=True, bbox_inches=\"tight\")\n",
    "    plt.show()"
   ]
  }
 ],
 "metadata": {
  "kernelspec": {
   "display_name": "Python [conda env:RegVelo]",
   "language": "python",
   "name": "conda-env-RegVelo-py"
  },
  "language_info": {
   "codemirror_mode": {
    "name": "ipython",
    "version": 3
   },
   "file_extension": ".py",
   "mimetype": "text/x-python",
   "name": "python",
   "nbconvert_exporter": "python",
   "pygments_lexer": "ipython3",
   "version": "3.9.15"
  }
 },
 "nbformat": 4,
 "nbformat_minor": 5
}
