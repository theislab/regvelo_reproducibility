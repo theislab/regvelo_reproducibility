{
 "cells": [
  {
   "attachments": {},
   "cell_type": "markdown",
   "id": "0a1042cd",
   "metadata": {},
   "source": [
    "# Cell cycle data preparation\n",
    "\n",
    "Notebook prepares data for inference tasks."
   ]
  },
  {
   "cell_type": "markdown",
   "id": "a486fec1",
   "metadata": {},
   "source": [
    "## Library imports"
   ]
  },
  {
   "cell_type": "code",
   "execution_count": null,
   "id": "fd119f55-1837-43ca-8368-e12c55652f2b",
   "metadata": {},
   "outputs": [],
   "source": [
    "from tqdm import tqdm\n",
    "\n",
    "import numpy as np\n",
    "import pandas as pd\n",
    "from scipy.sparse import csr_matrix\n",
    "\n",
    "import anndata as ad\n",
    "import scanpy as sc\n",
    "import scvelo as scv\n",
    "from anndata import AnnData\n",
    "from velovi import preprocess_data\n",
    "\n",
    "from rgv_tools import DATA_DIR"
   ]
  },
  {
   "attachments": {},
   "cell_type": "markdown",
   "id": "e2670fad",
   "metadata": {},
   "source": [
    "## Constants"
   ]
  },
  {
   "cell_type": "code",
   "execution_count": null,
   "id": "da3ae144",
   "metadata": {},
   "outputs": [],
   "source": [
    "DATASET = \"cell_cycle\""
   ]
  },
  {
   "cell_type": "code",
   "execution_count": null,
   "id": "af9f4b90",
   "metadata": {
    "lines_to_next_cell": 2
   },
   "outputs": [],
   "source": [
    "SAVE_DATA = True\n",
    "if SAVE_DATA:\n",
    "    (DATA_DIR / DATASET / \"processed\").mkdir(parents=True, exist_ok=True)"
   ]
  },
  {
   "cell_type": "markdown",
   "id": "8209bff3",
   "metadata": {
    "lines_to_next_cell": 2
   },
   "source": [
    "## Function definitions"
   ]
  },
  {
   "cell_type": "code",
   "execution_count": null,
   "id": "a8f28664",
   "metadata": {},
   "outputs": [],
   "source": [
    "def prepare_data(adata: AnnData) -> None:\n",
    "    \"\"\"Update cell cycle data to include only relevant information in the standard format.\"\"\"\n",
    "    adata.X = adata.layers[\"spliced\"].copy()\n",
    "\n",
    "    for layer in [\"ambiguous\", \"matrix\", \"spanning\"]:\n",
    "        del adata.layers[layer]\n",
    "    adata.layers[\"total\"] = adata.layers[\"unspliced\"] + adata.layers[\"spliced\"]\n",
    "\n",
    "    columns_to_drop = [\n",
    "        \"Well_Plate\",\n",
    "        \"plate\",\n",
    "        \"MeanGreen530\",\n",
    "        \"MeanRed585\",\n",
    "        \"initial_size_unspliced\",\n",
    "        \"initial_size_spliced\",\n",
    "        \"initial_size\",\n",
    "    ]\n",
    "    adata.obs[\"phase\"] = adata.obs[\"phase\"].astype(str).replace({\"N/A\": np.nan, \"S-ph\": \"S\"}).astype(\"category\")\n",
    "    adata.obs.drop(columns_to_drop, axis=1, inplace=True)\n",
    "\n",
    "    adata.var[\"ensum_id\"] = adata.var_names\n",
    "    adata.var_names = adata.var[\"name\"].values.astype(str)\n",
    "    adata.var_names_make_unique()\n",
    "    columns_to_drop = [\n",
    "        \"name\",\n",
    "        \"biotype\",\n",
    "        \"description\",\n",
    "        \"Accession\",\n",
    "        \"Chromosome\",\n",
    "        \"End\",\n",
    "        \"Start\",\n",
    "        \"Strand\",\n",
    "        \"GeneName\",\n",
    "    ]\n",
    "    adata.var.drop(columns_to_drop, axis=1, inplace=True)"
   ]
  },
  {
   "cell_type": "markdown",
   "id": "3566a88d",
   "metadata": {},
   "source": [
    "## Data loading"
   ]
  },
  {
   "cell_type": "code",
   "execution_count": null,
   "id": "592bc4f7",
   "metadata": {},
   "outputs": [],
   "source": [
    "adata = ad.io.read_h5ad(DATA_DIR / DATASET / \"raw\" / \"adata.h5ad\")\n",
    "adata"
   ]
  },
  {
   "attachments": {},
   "cell_type": "markdown",
   "id": "a52d5add-d75b-4e84-8336-e9632460a818",
   "metadata": {},
   "source": [
    "## Data processing"
   ]
  },
  {
   "cell_type": "code",
   "execution_count": null,
   "id": "fc812e8b",
   "metadata": {},
   "outputs": [],
   "source": [
    "prepare_data(adata=adata)\n",
    "\n",
    "true_skeleton = pd.DataFrame(np.zeros((adata.n_vars, adata.n_vars)), index=adata.var_names, columns=adata.var_names)\n",
    "for fname in tqdm((DATA_DIR / DATASET / \"raw\" / \"tf_list_5k\").iterdir()):\n",
    "    regulator = fname.stem\n",
    "    targets = pd.read_csv(fname, delimiter=\"\\t\")[\"Target_genes\"].tolist()\n",
    "    true_skeleton.loc[regulator, targets] = 1\n",
    "\n",
    "adata.varm[\"true_skeleton\"] = csr_matrix(true_skeleton.values)\n",
    "\n",
    "if SAVE_DATA:\n",
    "    adata.write(DATA_DIR / DATASET / \"processed\" / \"adata.h5ad\")\n",
    "\n",
    "adata"
   ]
  },
  {
   "cell_type": "code",
   "execution_count": null,
   "id": "cc89d4d4",
   "metadata": {},
   "outputs": [],
   "source": [
    "scv.pp.filter_and_normalize(adata, min_counts=10, n_top_genes=2000, log=False)\n",
    "sc.pp.log1p(adata)\n",
    "sc.tl.pca(adata, svd_solver=\"arpack\")\n",
    "sc.pp.neighbors(adata, n_neighbors=30, n_pcs=30)\n",
    "scv.pp.moments(adata)\n",
    "sc.tl.umap(adata)\n",
    "\n",
    "adata = preprocess_data(adata)\n",
    "adata"
   ]
  },
  {
   "cell_type": "code",
   "execution_count": null,
   "id": "695c1375",
   "metadata": {},
   "outputs": [],
   "source": [
    "if SAVE_DATA:\n",
    "    adata.write(DATA_DIR / DATASET / \"processed\" / \"adata_processed.h5ad\")"
   ]
  }
 ],
 "metadata": {
  "kernelspec": {
   "display_name": "regvelo-py310",
   "language": "python",
   "name": "python3"
  },
  "language_info": {
   "codemirror_mode": {
    "name": "ipython",
    "version": 3
   },
   "file_extension": ".py",
   "mimetype": "text/x-python",
   "name": "python",
   "nbconvert_exporter": "python",
   "pygments_lexer": "ipython3",
   "version": "3.10.15"
  }
 },
 "nbformat": 4,
 "nbformat_minor": 5
}
