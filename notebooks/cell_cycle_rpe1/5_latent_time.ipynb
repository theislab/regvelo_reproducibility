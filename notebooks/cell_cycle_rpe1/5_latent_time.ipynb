{
 "cells": [
  {
   "cell_type": "markdown",
   "id": "039579ef-00ca-47b5-8008-115a3d00bd7c",
   "metadata": {},
   "source": [
    "# Evaluate latent time prediction via redefining global latent time\n",
    "\n",
    "Before run this notebooks, please run `2_regvelo.ipynb`,`2_velovi.ipynb` and `2_velovi_td.ipynb` for three times to save the resulted anndata accordingly."
   ]
  },
  {
   "cell_type": "markdown",
   "id": "ba519629-8551-4cbc-827d-7bb928154484",
   "metadata": {},
   "source": [
    "## Library imports"
   ]
  },
  {
   "cell_type": "code",
   "execution_count": 1,
   "id": "83400902-21fc-4c28-a545-3e59e410adde",
   "metadata": {
    "tags": []
   },
   "outputs": [
    {
     "name": "stderr",
     "output_type": "stream",
     "text": [
      "/home/icb/weixu.wang/miniconda3/envs/regvelo_test/lib/python3.10/site-packages/anndata/utils.py:429: FutureWarning: Importing read_csv from `anndata` is deprecated. Import anndata.io.read_csv instead.\n",
      "  warnings.warn(msg, FutureWarning)\n",
      "/home/icb/weixu.wang/miniconda3/envs/regvelo_test/lib/python3.10/site-packages/anndata/utils.py:429: FutureWarning: Importing read_excel from `anndata` is deprecated. Import anndata.io.read_excel instead.\n",
      "  warnings.warn(msg, FutureWarning)\n",
      "/home/icb/weixu.wang/miniconda3/envs/regvelo_test/lib/python3.10/site-packages/anndata/utils.py:429: FutureWarning: Importing read_hdf from `anndata` is deprecated. Import anndata.io.read_hdf instead.\n",
      "  warnings.warn(msg, FutureWarning)\n",
      "/home/icb/weixu.wang/miniconda3/envs/regvelo_test/lib/python3.10/site-packages/anndata/utils.py:429: FutureWarning: Importing read_loom from `anndata` is deprecated. Import anndata.io.read_loom instead.\n",
      "  warnings.warn(msg, FutureWarning)\n",
      "/home/icb/weixu.wang/miniconda3/envs/regvelo_test/lib/python3.10/site-packages/anndata/utils.py:429: FutureWarning: Importing read_mtx from `anndata` is deprecated. Import anndata.io.read_mtx instead.\n",
      "  warnings.warn(msg, FutureWarning)\n",
      "/home/icb/weixu.wang/miniconda3/envs/regvelo_test/lib/python3.10/site-packages/anndata/utils.py:429: FutureWarning: Importing read_text from `anndata` is deprecated. Import anndata.io.read_text instead.\n",
      "  warnings.warn(msg, FutureWarning)\n",
      "/home/icb/weixu.wang/miniconda3/envs/regvelo_test/lib/python3.10/site-packages/anndata/utils.py:429: FutureWarning: Importing read_umi_tools from `anndata` is deprecated. Import anndata.io.read_umi_tools instead.\n",
      "  warnings.warn(msg, FutureWarning)\n"
     ]
    }
   ],
   "source": [
    "import pandas as pd\n",
    "\n",
    "import matplotlib.pyplot as plt\n",
    "import mplscience\n",
    "import seaborn as sns\n",
    "\n",
    "import anndata as ad\n",
    "import scanpy as sc\n",
    "\n",
    "from rgv_tools import DATA_DIR, FIG_DIR\n",
    "from rgv_tools.benchmarking import get_time_correlation"
   ]
  },
  {
   "cell_type": "markdown",
   "id": "10efa4cd-9f0b-47b6-a437-eaf6430b44d4",
   "metadata": {},
   "source": [
    "## Constants"
   ]
  },
  {
   "cell_type": "code",
   "execution_count": 4,
   "id": "624ebabe-f2e6-4012-acd3-64beb77ea54a",
   "metadata": {
    "tags": []
   },
   "outputs": [],
   "source": [
    "DATASET1 = \"cell_cycle\"\n",
    "DATASET2 = \"cell_cycle_rpe1\""
   ]
  },
  {
   "cell_type": "code",
   "execution_count": 3,
   "id": "62e104e4-d394-4dbb-b5a4-1a7e0c5772fa",
   "metadata": {
    "tags": []
   },
   "outputs": [],
   "source": [
    "SAVE_FIGURES = True\n",
    "if SAVE_FIGURES:\n",
    "    (FIG_DIR / DATASET2).mkdir(parents=True, exist_ok=True)\n",
    "\n",
    "FIGURE_FORMATE = \"svg\""
   ]
  },
  {
   "cell_type": "code",
   "execution_count": 5,
   "id": "350784d9-714e-4072-be27-45841d98bfc8",
   "metadata": {
    "lines_to_next_cell": 2,
    "tags": []
   },
   "outputs": [],
   "source": [
    "VELO_METHODS = [\"regvelo\", \"velovi\", \"velovi_td\", \"scvelo\"]\n",
    "custom_palette = {\n",
    "    \"U2OS\": \"#0072B2\",  # Elegant blue (colorblind-friendly)\n",
    "    \"RPE1\": \"#E69F00\",  # Gold-orange (also friendly and high contrast)\n",
    "}\n",
    "METHOD = [\n",
    "    \"rgv\",\n",
    "    \"rgv_rep2\",\n",
    "    \"rgv_rep3\",\n",
    "    \"scv\",\n",
    "    \"velovi\",\n",
    "    \"velovi_rep2\",\n",
    "    \"velovi_rep3\",\n",
    "    \"velovi_td\",\n",
    "    \"velovi_td_rep2\",\n",
    "    \"velovi_td_rep3\",\n",
    "]"
   ]
  },
  {
   "cell_type": "markdown",
   "id": "9aa85649-a521-489e-9f6f-e589333754d2",
   "metadata": {
    "lines_to_next_cell": 2
   },
   "source": [
    "## Define functions"
   ]
  },
  {
   "cell_type": "code",
   "execution_count": null,
   "id": "3d151352-bb60-430f-8b8e-8a5760e97bf1",
   "metadata": {
    "tags": []
   },
   "outputs": [],
   "source": [
    "def GlobalTimeDPTordering(adata: ad.AnnData):\n",
    "    \"\"\"Compute latent time using graph-based diffusion pseudotime (DPT) ordering.\n",
    "\n",
    "    This function temporarily replaces the expression matrix with the\n",
    "    fitted values, computes neighbors, diffusion maps, and diffusion\n",
    "    pseudotime, and then restores the original expression matrix.\n",
    "\n",
    "    Parameters\n",
    "    ----------\n",
    "    adata : ad.AnnData\n",
    "        Annotated data matrix.\n",
    "\n",
    "    Returns\n",
    "    -------\n",
    "    ad.AnnData\n",
    "        The AnnData object with `latent_time` stored in `adata.obs`.\n",
    "    \"\"\"\n",
    "    adata.layers[\"GEX\"] = adata.X.copy()\n",
    "    adata.X = adata.layers[\"fit_t\"].copy()\n",
    "\n",
    "    sc.pp.neighbors(adata, n_neighbors=30, metric=\"correlation\", use_rep=\"X\")\n",
    "    sc.tl.diffmap(adata)\n",
    "\n",
    "    adata.uns[\"iroot\"] = (adata.layers[\"fit_t\"] ** 2).mean(1).argmin()\n",
    "    sc.tl.dpt(adata)\n",
    "\n",
    "    adata.obs[\"latent_time\"] = adata.obs[\"dpt_pseudotime\"].copy()\n",
    "\n",
    "    adata.X = adata.layers[\"GEX\"].copy()\n",
    "    del adata.layers[\"GEX\"]\n",
    "\n",
    "    return adata"
   ]
  },
  {
   "cell_type": "markdown",
   "id": "b032594d-d5cd-42d0-8f5b-9fb7485fc692",
   "metadata": {},
   "source": [
    "## Use latent time layer to calculate neighbor graph and define global latent time"
   ]
  },
  {
   "cell_type": "code",
   "execution_count": 24,
   "id": "04b71a02-2786-40f6-ae4d-d8c62515e34b",
   "metadata": {
    "tags": []
   },
   "outputs": [],
   "source": [
    "corr_time = []\n",
    "for i in METHOD:\n",
    "    adata = sc.read_h5ad(DATA_DIR / DATASET1 / \"processed\" / f\"adata_{i}.h5ad\")\n",
    "    adata = GlobalTimeDPTordering(adata)\n",
    "    corr_time.append(\n",
    "        get_time_correlation(ground_truth=adata.obs[\"cell_cycle_position\"], estimated=adata.obs[\"latent_time\"])\n",
    "    )"
   ]
  },
  {
   "cell_type": "code",
   "execution_count": 25,
   "id": "f1b4e943-50fd-4864-b88c-2e9f3afb7bd4",
   "metadata": {
    "tags": []
   },
   "outputs": [],
   "source": [
    "time_df = pd.DataFrame(\n",
    "    {\"method\": [\"regvelo\"] * 3 + [\"scvelo\"] + [\"velovi\"] * 3 + [\"velovi_td\"] * 3, \"spearman_corr\": corr_time}\n",
    ")"
   ]
  },
  {
   "cell_type": "code",
   "execution_count": 26,
   "id": "61549b2d-3fc5-4017-a083-be453b33c98f",
   "metadata": {
    "tags": []
   },
   "outputs": [
    {
     "data": {
      "text/html": [
       "<div>\n",
       "<style scoped>\n",
       "    .dataframe tbody tr th:only-of-type {\n",
       "        vertical-align: middle;\n",
       "    }\n",
       "\n",
       "    .dataframe tbody tr th {\n",
       "        vertical-align: top;\n",
       "    }\n",
       "\n",
       "    .dataframe thead th {\n",
       "        text-align: right;\n",
       "    }\n",
       "</style>\n",
       "<table border=\"1\" class=\"dataframe\">\n",
       "  <thead>\n",
       "    <tr style=\"text-align: right;\">\n",
       "      <th></th>\n",
       "      <th>method</th>\n",
       "      <th>spearman_corr</th>\n",
       "    </tr>\n",
       "  </thead>\n",
       "  <tbody>\n",
       "    <tr>\n",
       "      <th>0</th>\n",
       "      <td>regvelo</td>\n",
       "      <td>0.455059</td>\n",
       "    </tr>\n",
       "    <tr>\n",
       "      <th>1</th>\n",
       "      <td>regvelo</td>\n",
       "      <td>0.481358</td>\n",
       "    </tr>\n",
       "    <tr>\n",
       "      <th>2</th>\n",
       "      <td>regvelo</td>\n",
       "      <td>0.453335</td>\n",
       "    </tr>\n",
       "    <tr>\n",
       "      <th>3</th>\n",
       "      <td>scvelo</td>\n",
       "      <td>0.332056</td>\n",
       "    </tr>\n",
       "    <tr>\n",
       "      <th>4</th>\n",
       "      <td>velovi</td>\n",
       "      <td>-0.341981</td>\n",
       "    </tr>\n",
       "    <tr>\n",
       "      <th>5</th>\n",
       "      <td>velovi</td>\n",
       "      <td>0.645073</td>\n",
       "    </tr>\n",
       "    <tr>\n",
       "      <th>6</th>\n",
       "      <td>velovi</td>\n",
       "      <td>-0.381067</td>\n",
       "    </tr>\n",
       "    <tr>\n",
       "      <th>7</th>\n",
       "      <td>velovi_td</td>\n",
       "      <td>-0.398513</td>\n",
       "    </tr>\n",
       "    <tr>\n",
       "      <th>8</th>\n",
       "      <td>velovi_td</td>\n",
       "      <td>0.197365</td>\n",
       "    </tr>\n",
       "    <tr>\n",
       "      <th>9</th>\n",
       "      <td>velovi_td</td>\n",
       "      <td>0.305876</td>\n",
       "    </tr>\n",
       "  </tbody>\n",
       "</table>\n",
       "</div>"
      ],
      "text/plain": [
       "      method  spearman_corr\n",
       "0    regvelo       0.455059\n",
       "1    regvelo       0.481358\n",
       "2    regvelo       0.453335\n",
       "3     scvelo       0.332056\n",
       "4     velovi      -0.341981\n",
       "5     velovi       0.645073\n",
       "6     velovi      -0.381067\n",
       "7  velovi_td      -0.398513\n",
       "8  velovi_td       0.197365\n",
       "9  velovi_td       0.305876"
      ]
     },
     "execution_count": 26,
     "metadata": {},
     "output_type": "execute_result"
    }
   ],
   "source": [
    "time_df_rpe1 = time_df.copy()\n",
    "time_df_rpe1"
   ]
  },
  {
   "cell_type": "code",
   "execution_count": 28,
   "id": "2e109625-9828-44ac-a018-49dd7b210cd4",
   "metadata": {},
   "outputs": [],
   "source": [
    "corr_time = []\n",
    "for i in METHOD:\n",
    "    adata = sc.read_h5ad(DATA_DIR / DATASET2 / \"processed\" / f\"adata_{i}.h5ad\")\n",
    "    adata = GlobalTimeDPTordering(adata)\n",
    "    corr_time.append(get_time_correlation(ground_truth=adata.obs[\"fucci_time\"], estimated=adata.obs[\"latent_time\"]))"
   ]
  },
  {
   "cell_type": "code",
   "execution_count": 29,
   "id": "ac0f2a92-458d-42ae-912d-fed19b7e8d78",
   "metadata": {
    "tags": []
   },
   "outputs": [],
   "source": [
    "time_df = pd.DataFrame(\n",
    "    {\"method\": [\"regvelo\"] * 3 + [\"scvelo\"] + [\"velovi\"] * 3 + [\"velovi_td\"] * 3, \"spearman_corr\": corr_time}\n",
    ")"
   ]
  },
  {
   "cell_type": "code",
   "execution_count": 30,
   "id": "46c6ffbb-c6fd-4880-829a-7244046162a0",
   "metadata": {
    "tags": []
   },
   "outputs": [
    {
     "data": {
      "text/html": [
       "<div>\n",
       "<style scoped>\n",
       "    .dataframe tbody tr th:only-of-type {\n",
       "        vertical-align: middle;\n",
       "    }\n",
       "\n",
       "    .dataframe tbody tr th {\n",
       "        vertical-align: top;\n",
       "    }\n",
       "\n",
       "    .dataframe thead th {\n",
       "        text-align: right;\n",
       "    }\n",
       "</style>\n",
       "<table border=\"1\" class=\"dataframe\">\n",
       "  <thead>\n",
       "    <tr style=\"text-align: right;\">\n",
       "      <th></th>\n",
       "      <th>method</th>\n",
       "      <th>spearman_corr</th>\n",
       "    </tr>\n",
       "  </thead>\n",
       "  <tbody>\n",
       "    <tr>\n",
       "      <th>0</th>\n",
       "      <td>regvelo</td>\n",
       "      <td>0.325817</td>\n",
       "    </tr>\n",
       "    <tr>\n",
       "      <th>1</th>\n",
       "      <td>regvelo</td>\n",
       "      <td>0.338398</td>\n",
       "    </tr>\n",
       "    <tr>\n",
       "      <th>2</th>\n",
       "      <td>regvelo</td>\n",
       "      <td>0.334311</td>\n",
       "    </tr>\n",
       "    <tr>\n",
       "      <th>3</th>\n",
       "      <td>scvelo</td>\n",
       "      <td>0.153472</td>\n",
       "    </tr>\n",
       "    <tr>\n",
       "      <th>4</th>\n",
       "      <td>velovi</td>\n",
       "      <td>-0.786511</td>\n",
       "    </tr>\n",
       "    <tr>\n",
       "      <th>5</th>\n",
       "      <td>velovi</td>\n",
       "      <td>-0.205858</td>\n",
       "    </tr>\n",
       "    <tr>\n",
       "      <th>6</th>\n",
       "      <td>velovi</td>\n",
       "      <td>-0.222118</td>\n",
       "    </tr>\n",
       "    <tr>\n",
       "      <th>7</th>\n",
       "      <td>velovi_td</td>\n",
       "      <td>0.223798</td>\n",
       "    </tr>\n",
       "    <tr>\n",
       "      <th>8</th>\n",
       "      <td>velovi_td</td>\n",
       "      <td>0.660562</td>\n",
       "    </tr>\n",
       "    <tr>\n",
       "      <th>9</th>\n",
       "      <td>velovi_td</td>\n",
       "      <td>0.288485</td>\n",
       "    </tr>\n",
       "  </tbody>\n",
       "</table>\n",
       "</div>"
      ],
      "text/plain": [
       "      method  spearman_corr\n",
       "0    regvelo       0.325817\n",
       "1    regvelo       0.338398\n",
       "2    regvelo       0.334311\n",
       "3     scvelo       0.153472\n",
       "4     velovi      -0.786511\n",
       "5     velovi      -0.205858\n",
       "6     velovi      -0.222118\n",
       "7  velovi_td       0.223798\n",
       "8  velovi_td       0.660562\n",
       "9  velovi_td       0.288485"
      ]
     },
     "execution_count": 30,
     "metadata": {},
     "output_type": "execute_result"
    }
   ],
   "source": [
    "time_df_u2os = time_df.copy()\n",
    "time_df_u2os"
   ]
  },
  {
   "cell_type": "code",
   "execution_count": 31,
   "id": "86238077-9467-4767-9313-3beb12067c50",
   "metadata": {
    "tags": []
   },
   "outputs": [],
   "source": [
    "time_df_u2os[\"Dataset\"] = \"U2OS\"\n",
    "time_df_rpe1[\"Dataset\"] = \"RPE1\""
   ]
  },
  {
   "cell_type": "code",
   "execution_count": 32,
   "id": "53c1b424-4904-4e5f-a261-f9a6d3cb98ce",
   "metadata": {
    "tags": []
   },
   "outputs": [],
   "source": [
    "time_df = pd.concat([time_df_u2os, time_df_rpe1])"
   ]
  },
  {
   "cell_type": "code",
   "execution_count": 42,
   "id": "cc2c619a-545e-4485-bccb-a233627d9a8f",
   "metadata": {
    "tags": []
   },
   "outputs": [
    {
     "data": {
      "image/png": "[encoded data removed]",
      "text/plain": [
       "<Figure size 300x300 with 1 Axes>"
      ]
     },
     "metadata": {},
     "output_type": "display_data"
    }
   ],
   "source": [
    "# Plot using the refined Cell-style palette\n",
    "with mplscience.style_context():\n",
    "    sns.set_style(\"whitegrid\")\n",
    "    fig, ax = plt.subplots(figsize=(3, 3), sharey=True)\n",
    "\n",
    "    sns.barplot(\n",
    "        y=\"method\",\n",
    "        x=\"spearman_corr\",\n",
    "        data=time_df,\n",
    "        hue=\"Dataset\",\n",
    "        capsize=0.1,\n",
    "        order=VELO_METHODS,\n",
    "        ax=ax,\n",
    "        palette=custom_palette,\n",
    "    )\n",
    "\n",
    "    sns.stripplot(\n",
    "        y=\"method\",\n",
    "        x=\"spearman_corr\",\n",
    "        data=time_df,\n",
    "        hue=\"Dataset\",\n",
    "        dodge=True,\n",
    "        order=VELO_METHODS,\n",
    "        size=3,\n",
    "        jitter=True,\n",
    "        color=\"black\",\n",
    "        ax=ax,\n",
    "        linewidth=0,\n",
    "    )\n",
    "\n",
    "    # Remove duplicate legends\n",
    "    handles, labels = ax.get_legend_handles_labels()\n",
    "    unique = dict(zip(labels, handles))  # remove duplicates\n",
    "    ax.legend(unique.values(), unique.keys(), title=\"Dataset\", frameon=False)\n",
    "\n",
    "    ax.set_xlabel(\"spearman_corr\", fontsize=14)\n",
    "    ax.set_ylabel(\"\")\n",
    "    plt.show()\n",
    "\n",
    "    if SAVE_FIGURES:\n",
    "        fig.savefig(FIG_DIR / DATASET2 / \"time_compare.svg\", format=\"svg\", transparent=True, bbox_inches=\"tight\")\n",
    "    plt.show()"
   ]
  },
  {
   "cell_type": "code",
   "execution_count": null,
   "id": "c61778be-529e-44e7-a821-c9d7fe30647b",
   "metadata": {},
   "outputs": [],
   "source": []
  }
 ],
 "metadata": {
  "kernelspec": {
   "display_name": "Python [conda env:regvelo_test]",
   "language": "python",
   "name": "conda-env-regvelo_test-py"
  },
  "language_info": {
   "codemirror_mode": {
    "name": "ipython",
    "version": 3
   },
   "file_extension": ".py",
   "mimetype": "text/x-python",
   "name": "python",
   "nbconvert_exporter": "python",
   "pygments_lexer": "ipython3",
   "version": "3.10.15"
  }
 },
 "nbformat": 4,
 "nbformat_minor": 5
}
