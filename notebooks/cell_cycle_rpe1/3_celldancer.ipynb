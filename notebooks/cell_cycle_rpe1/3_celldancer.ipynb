{
 "cells": [
  {
   "cell_type": "markdown",
   "id": "f45a94c0-f9b3-404d-8714-360a7828782c",
   "metadata": {
    "tags": []
   },
   "source": [
    "# CellDancer benchmark on cell cycle data\n",
    "\n",
    "Use cellDancer inferred cell specific transcription rate and compare with ground truth.\n",
    "\n",
    "Note that cellDancer requires `anndata == 0.8.0`"
   ]
  },
  {
   "cell_type": "markdown",
   "id": "19884be2-b8f0-495e-947d-24bf654b7705",
   "metadata": {},
   "source": [
    "## Library imports"
   ]
  },
  {
   "cell_type": "code",
   "execution_count": 5,
   "id": "333609a0-8468-4478-b5d9-3c71ae9a8f65",
   "metadata": {
    "tags": []
   },
   "outputs": [],
   "source": [
    "import celldancer as cd\n",
    "import celldancer.cdplt as cdplt\n",
    "from celldancer.cdplt import colormap\n",
    "\n",
    "import scanpy as sc\n",
    "from rgv_tools import DATA_DIR"
   ]
  },
  {
   "cell_type": "markdown",
   "id": "a7862e44-7178-4fd5-8017-04406acfa0a2",
   "metadata": {},
   "source": [
    "## Constants"
   ]
  },
  {
   "cell_type": "code",
   "execution_count": 7,
   "id": "37597e01-3e7a-4085-b4f4-4bed0564de1c",
   "metadata": {
    "tags": []
   },
   "outputs": [],
   "source": [
    "DATASET = \"cell_cycle_rpe1\""
   ]
  },
  {
   "cell_type": "code",
   "execution_count": null,
   "id": "17b2d333-12cb-4996-bf54-030e6fc59df3",
   "metadata": {},
   "outputs": [],
   "source": [
    "SAVE_DATA = True\n",
    "if SAVE_DATA:\n",
    "    (DATA_DIR / DATASET / \"processed\").mkdir(parents=True, exist_ok=True)\n",
    "    (DATA_DIR / DATASET / \"results\").mkdir(parents=True, exist_ok=True)"
   ]
  },
  {
   "cell_type": "markdown",
   "id": "83bdd912-6698-4906-9b49-9f43fe00f019",
   "metadata": {},
   "source": [
    "## Data loading"
   ]
  },
  {
   "cell_type": "code",
   "execution_count": 10,
   "id": "14b8e906-7b42-49fa-82ed-20cd3588f383",
   "metadata": {
    "tags": []
   },
   "outputs": [],
   "source": [
    "adata = sc.read_h5ad(DATA_DIR / DATASET / \"processed\" / \"adata_processed.h5ad\")"
   ]
  },
  {
   "cell_type": "code",
   "execution_count": 12,
   "id": "571493ca-2898-4223-9069-f8fbfb88ca5f",
   "metadata": {
    "tags": []
   },
   "outputs": [
    {
     "name": "stderr",
     "output_type": "stream",
     "text": [
      "100%|██████████| 141/141 [00:02<00:00, 53.48it/s]\n"
     ]
    }
   ],
   "source": [
    "cell_type_u_s = cd.adata_to_df_with_embed(\n",
    "    adata,\n",
    "    cell_type_para=\"cell_cycle_phase\",\n",
    "    save_path=DATA_DIR / DATASET / \"processed\" / \"cell_type_u_s_sample_df_processed.csv\",\n",
    ")"
   ]
  },
  {
   "cell_type": "code",
   "execution_count": 13,
   "id": "a07c8005-9975-40f4-b623-22d5d868d9a7",
   "metadata": {
    "tags": []
   },
   "outputs": [
    {
     "name": "stdout",
     "output_type": "stream",
     "text": [
      "Using /ictstr01/home/icb/weixu.wang/regulatory_velo/regvelo_revision/cell_cycle_REF/cellDancer_velocity_2025-08-19 17-14-48 as the output path.\n",
      "Arranging genes for parallel job.\n",
      "141  genes were arranged to  18  portions.\n"
     ]
    },
    {
     "name": "stderr",
     "output_type": "stream",
     "text": [
      "\n",
      "Velocity Estimation:   0%|          | 0/18 [00:00<?, ?it/s]\u001b[A\n",
      "Velocity Estimation:   6%|▌         | 1/18 [00:12<03:37, 12.82s/it]\u001b[A\n",
      "Velocity Estimation:  11%|█         | 2/18 [00:15<01:48,  6.80s/it]\u001b[A\n",
      "Velocity Estimation:  17%|█▋        | 3/18 [00:18<01:17,  5.16s/it]\u001b[A\n",
      "Velocity Estimation:  22%|██▏       | 4/18 [00:21<00:58,  4.16s/it]\u001b[A\n",
      "Velocity Estimation:  28%|██▊       | 5/18 [00:23<00:44,  3.42s/it]\u001b[A\n",
      "Velocity Estimation:  33%|███▎      | 6/18 [00:26<00:38,  3.20s/it]\u001b[A\n",
      "Velocity Estimation:  39%|███▉      | 7/18 [00:28<00:32,  2.94s/it]\u001b[A\n",
      "Velocity Estimation:  44%|████▍     | 8/18 [00:31<00:28,  2.90s/it]\u001b[A\n",
      "Velocity Estimation:  50%|█████     | 9/18 [00:33<00:24,  2.73s/it]\u001b[A\n",
      "Velocity Estimation:  56%|█████▌    | 10/18 [00:36<00:22,  2.85s/it]\u001b[A\n",
      "Velocity Estimation:  61%|██████    | 11/18 [00:39<00:20,  2.93s/it]\u001b[A\n",
      "Velocity Estimation:  67%|██████▋   | 12/18 [00:42<00:17,  2.91s/it]\u001b[A\n",
      "Velocity Estimation:  72%|███████▏  | 13/18 [00:45<00:14,  2.94s/it]\u001b[A\n",
      "Velocity Estimation:  78%|███████▊  | 14/18 [00:48<00:11,  2.86s/it]\u001b[A\n",
      "Velocity Estimation:  83%|████████▎ | 15/18 [00:54<00:11,  3.82s/it]\u001b[A\n",
      "Velocity Estimation:  89%|████████▉ | 16/18 [01:02<00:10,  5.14s/it]\u001b[A\n",
      "Velocity Estimation:  94%|█████████▍| 17/18 [01:10<00:05,  5.84s/it]\u001b[A\n",
      "Velocity Estimation: 100%|██████████| 18/18 [01:13<00:00,  4.97s/it]\u001b[A\n",
      "                                                                    \u001b[A"
     ]
    }
   ],
   "source": [
    "loss_df, cellDancer_df = cd.velocity(\n",
    "    cell_type_u_s, permutation_ratio=0.1, norm_u_s=False, norm_cell_distribution=False, n_jobs=8\n",
    ")"
   ]
  },
  {
   "cell_type": "code",
   "execution_count": 16,
   "id": "70c6bce6-08d3-42d2-bde0-31f16a547569",
   "metadata": {
    "tags": []
   },
   "outputs": [],
   "source": [
    "alpha_matrix = cellDancer_df.pivot(index=\"cellIndex\", columns=\"gene_name\", values=\"alpha\")"
   ]
  },
  {
   "cell_type": "code",
   "execution_count": 17,
   "id": "0f5307c9-3b79-47ef-99f4-14270cc2cc11",
   "metadata": {
    "tags": []
   },
   "outputs": [],
   "source": [
    "alpha_matrix.index = adata.obs_names"
   ]
  },
  {
   "cell_type": "markdown",
   "id": "bf26bfe0",
   "metadata": {},
   "source": [
    "## Save data"
   ]
  },
  {
   "cell_type": "code",
   "execution_count": 18,
   "id": "d7d701d3-2a3f-4727-a1f3-728aab9bd702",
   "metadata": {
    "tags": []
   },
   "outputs": [],
   "source": [
    "if SAVE_DATA:\n",
    "    DATA_DIR / DATASET / \"processed\" / \"cell_type_u_s_sample_df_processed.csv\"\n",
    "    alpha_matrix.to_csv(DATA_DIR / DATASET / \"processed\" / \"celldancer_alpha_estimate_processed.csv\")"
   ]
  },
  {
   "cell_type": "code",
   "execution_count": null,
   "id": "f3855146-1357-4251-9f4d-e07a689bb61f",
   "metadata": {},
   "outputs": [],
   "source": []
  }
 ],
 "metadata": {
  "kernelspec": {
   "display_name": "Python [conda env:cellDancer]",
   "language": "python",
   "name": "conda-env-cellDancer-py"
  },
  "language_info": {
   "codemirror_mode": {
    "name": "ipython",
    "version": 3
   },
   "file_extension": ".py",
   "mimetype": "text/x-python",
   "name": "python",
   "nbconvert_exporter": "python",
   "pygments_lexer": "ipython3",
   "version": "3.7.6"
  }
 },
 "nbformat": 4,
 "nbformat_minor": 5
}
