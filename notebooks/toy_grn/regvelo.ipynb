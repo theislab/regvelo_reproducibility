{
 "cells": [
  {
   "attachments": {},
   "cell_type": "markdown",
   "id": "0a1042cd",
   "metadata": {},
   "source": [
    "# RegVelo benchmark on toy GRN\n",
    "\n",
    "Notbook benchmarks velocity, latent time and GRN inference using RegVelo with toy GRN data."
   ]
  },
  {
   "cell_type": "markdown",
   "id": "a486fec1",
   "metadata": {},
   "source": [
    "## Library imports"
   ]
  },
  {
   "cell_type": "code",
   "execution_count": null,
   "id": "fd119f55-1837-43ca-8368-e12c55652f2b",
   "metadata": {},
   "outputs": [],
   "source": [
    "from tqdm import tqdm\n",
    "\n",
    "import numpy as np\n",
    "import pandas as pd\n",
    "import torch\n",
    "\n",
    "from regvelo import REGVELOVI\n",
    "from velovi import preprocess_data\n",
    "\n",
    "from rgv_tools import DATA_DIR\n",
    "from rgv_tools.benchmarking import (\n",
    "    get_data_subset,\n",
    "    get_grn_auroc,\n",
    "    get_time_correlation,\n",
    "    get_velocity_correlation,\n",
    "    set_output,\n",
    ")\n",
    "from rgv_tools.core import read_as_dask"
   ]
  },
  {
   "attachments": {},
   "cell_type": "markdown",
   "id": "b6b48f3e-9560-47d4-bd6d-25aa5db08c13",
   "metadata": {},
   "source": [
    "## General settings"
   ]
  },
  {
   "attachments": {},
   "cell_type": "markdown",
   "id": "e2670fad",
   "metadata": {},
   "source": [
    "## Constants"
   ]
  },
  {
   "cell_type": "code",
   "execution_count": null,
   "id": "af9f4b90",
   "metadata": {},
   "outputs": [],
   "source": [
    "SAVE_DATA = True\n",
    "if SAVE_DATA:\n",
    "    (DATA_DIR / \"toy_grn\" / \"results\").mkdir(parents=True, exist_ok=True)"
   ]
  },
  {
   "cell_type": "markdown",
   "id": "e4b7e465",
   "metadata": {},
   "source": [
    "## Function definitions"
   ]
  },
  {
   "attachments": {},
   "cell_type": "markdown",
   "id": "01d6a832-9635-4888-8364-3e5736c8d8af",
   "metadata": {},
   "source": [
    "## Data loading"
   ]
  },
  {
   "cell_type": "code",
   "execution_count": null,
   "id": "2baf9be8",
   "metadata": {},
   "outputs": [],
   "source": [
    "adata = read_as_dask(\n",
    "    store=DATA_DIR / \"toy_grn\" / \"raw\" / \"adata.zarr\", layers=[\"unspliced\", \"Mu\", \"spliced\", \"Ms\", \"true_velocity\"]\n",
    ")\n",
    "adata"
   ]
  },
  {
   "attachments": {},
   "cell_type": "markdown",
   "id": "a52d5add-d75b-4e84-8336-e9632460a818",
   "metadata": {},
   "source": [
    "## Velocity pipeline"
   ]
  },
  {
   "cell_type": "code",
   "execution_count": null,
   "id": "ba75641e",
   "metadata": {},
   "outputs": [],
   "source": [
    "velocity_correlation = []\n",
    "time_correlation = []\n",
    "grn_correlation = []\n",
    "\n",
    "parameters = []\n",
    "\n",
    "for dataset in tqdm(adata.obs[\"dataset\"].cat.categories):\n",
    "    adata_subset = get_data_subset(\n",
    "        adata=adata, column=\"dataset\", group=dataset, uns_keys=[\"true_beta\", \"true_gamma\", \"true_K\"]\n",
    "    )\n",
    "    adata_subset.uns[\"regulators\"] = adata_subset.var.index.values\n",
    "    adata_subset.uns[\"targets\"] = adata_subset.var.index.values\n",
    "    adata_subset.uns[\"skeleton\"] = np.ones((adata_subset.n_vars, adata_subset.n_vars))\n",
    "    adata_subset.uns[\"network\"] = np.ones((adata_subset.n_vars, adata_subset.n_vars))\n",
    "\n",
    "    # Data preprocessing\n",
    "    adata_subset = preprocess_data(adata_subset, filter_on_r2=False)\n",
    "\n",
    "    W = adata_subset.uns[\"skeleton\"].copy()\n",
    "    W = torch.tensor(W).int()\n",
    "\n",
    "    REGVELOVI.setup_anndata(adata_subset, spliced_layer=\"Ms\", unspliced_layer=\"Mu\")\n",
    "    vae = REGVELOVI(adata_subset, W=W, lam2=1, soft_constraint=False, simple_dynamics=True)\n",
    "    vae.train()\n",
    "\n",
    "    set_output(adata_subset, vae, n_samples=30, batch_size=adata.n_obs)\n",
    "    _parameters = adata_subset.var[[\"fit_beta\", \"fit_gamma\"]].copy()\n",
    "    _parameters[\"dataset\"] = dataset\n",
    "    _parameters.index = _parameters.index + f\"-dataset_{dataset}\"\n",
    "    parameters.append(_parameters)\n",
    "    del _parameters\n",
    "\n",
    "    # estimated_velocity = adata_subset.layers[\"unspliced\"] * adata_subset.var[\"fit_beta\"].values - adata_subset.layers[\"spliced\"] * adata_subset.var[\"fit_gamma\"].values\n",
    "    velocity_correlation.append(\n",
    "        get_velocity_correlation(\n",
    "            ground_truth=adata_subset.layers[\"true_velocity\"],\n",
    "            estimated=adata_subset.layers[\"velocity\"],\n",
    "            aggregation=np.mean,\n",
    "        )\n",
    "    )\n",
    "    time_correlation.append(\n",
    "        get_time_correlation(\n",
    "            ground_truth=adata_subset.obs[\"true_time\"], estimated=adata_subset.layers[\"fit_t\"].mean(axis=1)\n",
    "        )\n",
    "    )\n",
    "\n",
    "    grn_estimate = vae.module.v_encoder.GRN_Jacobian(torch.tensor(adata_subset.layers[\"spliced\"].mean(0)).to(\"cuda:0\"))\n",
    "    grn_estimate = grn_estimate.cpu().detach().numpy()\n",
    "    grn_correlation.append(get_grn_auroc(ground_truth=adata_subset.uns[\"true_K\"], estimated=grn_estimate))"
   ]
  },
  {
   "cell_type": "markdown",
   "id": "9714322d",
   "metadata": {},
   "source": [
    "## Data saving"
   ]
  },
  {
   "cell_type": "code",
   "execution_count": null,
   "id": "cf4d362e",
   "metadata": {},
   "outputs": [],
   "source": [
    "if SAVE_DATA:\n",
    "    pd.DataFrame({\"velocity\": velocity_correlation, \"time\": time_correlation, \"grn\": grn_correlation}).to_parquet(\n",
    "        path=DATA_DIR / \"toy_grn\" / \"results\" / \"regvelo_correlation.parquet\"\n",
    "    )\n",
    "    pd.concat(parameters).to_parquet(path=DATA_DIR / \"toy_grn\" / \"results\" / \"regvelo_rates.parquet\")"
   ]
  }
 ],
 "metadata": {
  "kernelspec": {
   "display_name": "regvelo-py310",
   "language": "python",
   "name": "python3"
  },
  "language_info": {
   "codemirror_mode": {
    "name": "ipython",
    "version": 3
   },
   "file_extension": ".py",
   "mimetype": "text/x-python",
   "name": "python",
   "nbconvert_exporter": "python",
   "pygments_lexer": "ipython3",
   "version": "3.10.15"
  }
 },
 "nbformat": 4,
 "nbformat_minor": 5
}
