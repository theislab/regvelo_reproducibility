{
 "cells": [
  {
   "attachments": {},
   "cell_type": "markdown",
   "id": "0a1042cd",
   "metadata": {},
   "source": [
    "# CellOracle benchmark on toy GRN\n",
    "\n",
    "Notbook benchmarks GRN inference using CellOracle with toy GRN data."
   ]
  },
  {
   "cell_type": "markdown",
   "id": "a486fec1",
   "metadata": {},
   "source": [
    "## Library imports"
   ]
  },
  {
   "cell_type": "code",
   "execution_count": null,
   "id": "fd119f55-1837-43ca-8368-e12c55652f2b",
   "metadata": {},
   "outputs": [],
   "source": [
    "from tqdm import tqdm\n",
    "\n",
    "import numpy as np\n",
    "import pandas as pd\n",
    "\n",
    "import celloracle as co\n",
    "\n",
    "from rgv_tools import DATA_DIR\n",
    "from rgv_tools.benchmarking import get_data_subset, get_grn_auroc\n",
    "from rgv_tools.core import read_as_dask"
   ]
  },
  {
   "attachments": {},
   "cell_type": "markdown",
   "id": "b6b48f3e-9560-47d4-bd6d-25aa5db08c13",
   "metadata": {},
   "source": [
    "## General settings"
   ]
  },
  {
   "attachments": {},
   "cell_type": "markdown",
   "id": "e2670fad",
   "metadata": {},
   "source": [
    "## Constants"
   ]
  },
  {
   "cell_type": "code",
   "execution_count": null,
   "id": "af9f4b90",
   "metadata": {},
   "outputs": [],
   "source": [
    "SAVE_DATA = True\n",
    "if SAVE_DATA:\n",
    "    (DATA_DIR / \"toy_grn\" / \"results\").mkdir(parents=True, exist_ok=True)"
   ]
  },
  {
   "cell_type": "markdown",
   "id": "e4b7e465",
   "metadata": {},
   "source": [
    "## Function definitions"
   ]
  },
  {
   "attachments": {},
   "cell_type": "markdown",
   "id": "01d6a832-9635-4888-8364-3e5736c8d8af",
   "metadata": {},
   "source": [
    "## Data loading"
   ]
  },
  {
   "cell_type": "code",
   "execution_count": null,
   "id": "2baf9be8",
   "metadata": {},
   "outputs": [],
   "source": [
    "adata = read_as_dask(store=DATA_DIR / \"toy_grn\" / \"raw\" / \"adata.zarr\", layers=[])\n",
    "adata"
   ]
  },
  {
   "attachments": {},
   "cell_type": "markdown",
   "id": "a52d5add-d75b-4e84-8336-e9632460a818",
   "metadata": {},
   "source": [
    "## Velocity pipeline"
   ]
  },
  {
   "cell_type": "code",
   "execution_count": null,
   "id": "ba75641e",
   "metadata": {},
   "outputs": [],
   "source": [
    "grn_correlation = []\n",
    "\n",
    "for dataset in tqdm(adata.obs[\"dataset\"].cat.categories):\n",
    "    adata_subset = get_data_subset(adata=adata, column=\"dataset\", group=dataset, uns_keys=[\"true_K\"])\n",
    "\n",
    "    base_grn = np.ones((adata_subset.n_vars, adata_subset.n_vars))\n",
    "    base_grn = pd.DataFrame(base_grn, columns=adata_subset.var_names)\n",
    "    base_grn[\"peak_id\"] = adata_subset.var_names.str.replace(\"gene\", \"peak\")\n",
    "    base_grn[\"gene_short_name\"] = adata_subset.var_names\n",
    "    base_grn = base_grn[[\"peak_id\", \"gene_short_name\"] + adata_subset.var_names.to_list()]\n",
    "\n",
    "    net = co.Net(gene_expression_matrix=adata_subset.to_df(), TFinfo_matrix=base_grn, verbose=False)\n",
    "    net.fit_All_genes(bagging_number=100, alpha=1, verbose=False)\n",
    "    net.updateLinkList(verbose=False)\n",
    "\n",
    "    grn_estimate = pd.pivot(net.linkList[[\"source\", \"target\", \"coef_mean\"]], index=\"target\", columns=\"source\")\n",
    "    grn_estimate = grn_estimate.fillna(0).abs().values\n",
    "\n",
    "    grn_correlation.append(get_grn_auroc(ground_truth=adata_subset.uns[\"true_K\"], estimated=grn_estimate))"
   ]
  },
  {
   "cell_type": "markdown",
   "id": "9714322d",
   "metadata": {},
   "source": [
    "## Data saving"
   ]
  },
  {
   "cell_type": "code",
   "execution_count": null,
   "id": "cf4d362e",
   "metadata": {},
   "outputs": [],
   "source": [
    "if SAVE_DATA:\n",
    "    pd.DataFrame({\"grn\": grn_correlation}).to_parquet(\n",
    "        path=DATA_DIR / \"toy_grn\" / \"results\" / \"celloracle_correlation.parquet\"\n",
    "    )"
   ]
  }
 ],
 "metadata": {
  "kernelspec": {
   "display_name": "regvelo-py310",
   "language": "python",
   "name": "python3"
  },
  "language_info": {
   "codemirror_mode": {
    "name": "ipython",
    "version": 3
   },
   "file_extension": ".py",
   "mimetype": "text/x-python",
   "name": "python",
   "nbconvert_exporter": "python",
   "pygments_lexer": "ipython3",
   "version": "3.10.15"
  }
 },
 "nbformat": 4,
 "nbformat_minor": 5
}
