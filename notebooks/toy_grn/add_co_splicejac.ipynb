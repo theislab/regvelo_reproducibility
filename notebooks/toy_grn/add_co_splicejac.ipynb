{
 "cells": [
  {
   "cell_type": "markdown",
   "id": "966916bb-e0f0-406f-82f1-25b36d34031c",
   "metadata": {},
   "source": [
    "# Running CellOracle Model for benchmark GRN inference"
   ]
  },
  {
   "cell_type": "code",
   "execution_count": null,
   "id": "5a1632f5-4a28-4a15-9ba8-9cad8ec1a1c2",
   "metadata": {},
   "outputs": [],
   "source": [
    "### Running CellOracle Model for benchmark GRN inference\n",
    "import celloracle as co"
   ]
  },
  {
   "cell_type": "code",
   "execution_count": 5,
   "id": "6976469b-ce97-4bcf-8882-b5bc583d295f",
   "metadata": {},
   "outputs": [],
   "source": [
    "import splicejac as sp"
   ]
  },
  {
   "cell_type": "code",
   "execution_count": 14,
   "id": "24c5ed0a-30c6-4cc7-ad0f-efd07c5a9ae9",
   "metadata": {},
   "outputs": [],
   "source": [
    "import scanpy as sc\n",
    "import numpy as np\n",
    "import pandas as pd\n",
    "import matplotlib.pyplot as plt\n",
    "import scvelo as scv\n",
    "from velovi import preprocess_data\n",
    "import math\n",
    "import random\n",
    "from scvelo import logging as logg\n",
    "import torch.nn.functional as F\n",
    "import os"
   ]
  },
  {
   "cell_type": "code",
   "execution_count": 7,
   "id": "a3ba7172-f5bf-4b7d-b640-13d554207171",
   "metadata": {},
   "outputs": [],
   "source": [
    "from paths import FIG_DIR, DATA_DIR"
   ]
  },
  {
   "cell_type": "code",
   "execution_count": 8,
   "id": "226bd1ab-d26e-4f45-853f-d37d2e3062a4",
   "metadata": {},
   "outputs": [],
   "source": [
    "SAVE_FIGURES = True\n",
    "if SAVE_FIGURES:\n",
    "    os.makedirs(FIG_DIR / 'simulation' / 'dyngen_results',exist_ok = True)\n",
    "\n",
    "SAVE_DATASETS = True\n",
    "if SAVE_DATASETS:\n",
    "    os.makedirs(DATA_DIR / 'simulation' / 'dyngen_results',exist_ok = True)\n",
    "    os.makedirs(DATA_DIR / 'simulation' / 'dyngen_results' / 'copy_file',exist_ok = True)"
   ]
  },
  {
   "cell_type": "code",
   "execution_count": 9,
   "id": "eb6631b6-14eb-4da3-95e5-1ed9b7f7e336",
   "metadata": {},
   "outputs": [],
   "source": [
    "from scipy.spatial.distance import cdist\n",
    "import pandas as pd\n",
    "import sklearn\n",
    "import scipy.stats as stats\n",
    "from typing_extensions import Literal\n",
    "import anndata\n",
    "import scipy\n",
    "import matplotlib.pyplot as plt\n",
    "## define function\n",
    "import torch\n",
    "def csgn_groundtruth(adata):\n",
    "    csgn_array = adata.obsm[\"regulatory_network_sc\"].toarray()\n",
    "    csgn_tensor = torch.zeros([len(adata.uns[\"regulators\"]),len(adata.uns[\"targets\"]),csgn_array.shape[0]])\n",
    "    \n",
    "    for k in range(csgn_array.shape[0]):\n",
    "        ## generate a 3D tensor to indicate the ground truth network for each cell\n",
    "        grnboost_m = np.zeros((len(adata.uns[\"regulators\"]),len(adata.uns[\"targets\"])))\n",
    "        grnboost_m = pd.DataFrame(grnboost_m,index = adata.uns[\"regulators\"], columns = adata.uns[\"targets\"])\n",
    "        for i in range(adata.uns[\"regulatory_network\"].shape[0]):\n",
    "            #ind = (adata.uns[\"regulatory_network\"][\"regulator\"] == j) & (adata.uns[\"regulatory_network\"][\"target\"] == i)\n",
    "            regulator = adata.uns[\"regulatory_network\"].iloc[i][\"regulator\"]\n",
    "            target = adata.uns[\"regulatory_network\"].iloc[i][\"target\"]\n",
    "            grnboost_m.loc[regulator,target] = csgn_array[k,i]\n",
    "        tensor = torch.tensor(np.array(grnboost_m))\n",
    "        csgn_tensor[:,:,k] = tensor\n",
    "        \n",
    "    return csgn_tensor\n",
    "\n",
    "def csgn_benchmark2(GRN,W,csgn):\n",
    "    csgn[csgn!=0] = 1\n",
    "    if len(GRN.shape)>2:\n",
    "        print(\"Input is cell type specific GRN...\")\n",
    "        score = []\n",
    "        for i in range(csgn.shape[2]):\n",
    "            net = csgn[:,:,i]\n",
    "            #auprc = sklearn.metrics.average_precision_score(W.T.ravel(), np.abs(GRN[:,:,i].numpy().ravel()))\n",
    "            pre = GRN[:,:,i][np.array(W.T)==1]\n",
    "            gt = net.T[np.array(W.T)==1]\n",
    "            gt[gt!=0] = 1\n",
    "            \n",
    "            number = min(10000,len(gt))\n",
    "            pre,index = torch.topk(pre,number)\n",
    "            fpr, tpr, thresholds = sklearn.metrics.roc_curve(y_true = gt[index], y_score = pre, pos_label = 1) #positive class is 1; negative class is 0\n",
    "            auroc = sklearn.metrics.auc(fpr, tpr)\n",
    "            score.append(auroc)\n",
    "    else:\n",
    "        print(\"Input is global GRN...\")\n",
    "        score = []\n",
    "        for i in range(csgn.shape[2]):\n",
    "            net = csgn[:,:,i]\n",
    "            pre = GRN[np.array(W.T)==1]\n",
    "            gt = net.T[np.array(W.T)==1]\n",
    "            gt[gt!=0] = 1\n",
    "            \n",
    "            number = min(10000,len(gt))\n",
    "            pre,index = torch.topk(pre,number)\n",
    "            fpr, tpr, thresholds = sklearn.metrics.roc_curve(y_true = gt[index], y_score = pre, pos_label = 1) #positive class is 1; negative class is 0\n",
    "            auroc = sklearn.metrics.auc(fpr, tpr)\n",
    "            score.append(auroc)\n",
    "    return score"
   ]
  },
  {
   "cell_type": "code",
   "execution_count": 47,
   "id": "9ac13797-1551-4788-b810-64e21b615cd3",
   "metadata": {},
   "outputs": [],
   "source": [
    "def sanity_check(adata):\n",
    "    csgn = adata.uns[\"csgn\"]\n",
    "    gene_name = adata.var.index.tolist()\n",
    "    full_name = adata.uns[\"regulators\"]\n",
    "    index = [i in gene_name for i in full_name]\n",
    "    full_name = full_name[index]\n",
    "    adata = adata[:,full_name].copy()\n",
    "    W = adata.uns[\"skeleton\"]\n",
    "    W = W[index,:]\n",
    "    W = W[:,index]\n",
    "    adata.uns[\"skeleton\"] = W \n",
    "    W = adata.uns[\"network\"]\n",
    "    W = W[index,:]\n",
    "    W = W[:,index]\n",
    "    csgn = csgn[index,:,:]\n",
    "    csgn = csgn[:,index,:]\n",
    "    adata.uns[\"network\"] = W\n",
    "    adata.uns[\"regulators\"] = gene_name\n",
    "    adata.uns[\"targets\"] = gene_name\n",
    "    adata.uns[\"csgn\"] = csgn\n",
    "    \n",
    "    return adata"
   ]
  },
  {
   "cell_type": "markdown",
   "id": "181aa221-4921-4562-8f90-6d9254de79bb",
   "metadata": {},
   "source": [
    "## import dataset"
   ]
  },
  {
   "cell_type": "code",
   "execution_count": 10,
   "id": "9af52e83-7b92-408b-858f-2563afa502a9",
   "metadata": {},
   "outputs": [],
   "source": [
    "time_corr_all = list()\n",
    "gene_time_corr_all = list()\n",
    "gene_velo_corr_all = list()\n",
    "AUC_GRN_result = list()\n",
    "\n",
    "folder_path = os.getcwd() + '/RegVelo_datasets/dyngen_simulation/'\n",
    "# Get a list of all files in the folder\n",
    "files = os.listdir(folder_path)\n",
    "files = [file for file in files if file.endswith(\".h5ad\")]"
   ]
  },
  {
   "cell_type": "code",
   "execution_count": 12,
   "id": "53a295f6-73a6-4d67-8e28-92cee0171f31",
   "metadata": {},
   "outputs": [
    {
     "data": {
      "text/plain": [
       "50"
      ]
     },
     "execution_count": 12,
     "metadata": {},
     "output_type": "execute_result"
    }
   ],
   "source": [
    "len(files)"
   ]
  },
  {
   "cell_type": "code",
   "execution_count": 18,
   "id": "18c5d5ec-dc39-42ac-b3f8-c92a6b453bd8",
   "metadata": {},
   "outputs": [],
   "source": [
    "address = os.getcwd() + '/RegVelo_datasets/dyngen_simulation/' + adata_name\n",
    "adata = sc.read_h5ad(address)"
   ]
  },
  {
   "cell_type": "code",
   "execution_count": 25,
   "id": "67129ff0-ddb1-4360-8c5b-d5adc8a007d9",
   "metadata": {
    "collapsed": true,
    "jupyter": {
     "outputs_hidden": true
    }
   },
   "outputs": [
    {
     "name": "stdout",
     "output_type": "stream",
     "text": [
      "Filtered out 1 genes that are detected 10 counts (shared).\n",
      "Normalized count data: X, spliced, unspliced.\n",
      "Logarithmized X.\n",
      "computing moments based on connectivities\n",
      "    finished (0:00:00) --> added \n",
      "    'Ms' and 'Mu', moments of un/spliced abundances (adata.layers)\n",
      "computing velocities\n",
      "    finished (0:00:00) --> added \n",
      "    'velocity', velocity vectors for each individual cell (adata.layers)\n"
     ]
    },
    {
     "data": {
      "application/vnd.jupyter.widget-view+json": {
       "model_id": "dfaac458e9e54e77b33cd9450772471a",
       "version_major": 2,
       "version_minor": 0
      },
      "text/plain": [
       "  0%|          | 0/90 [00:00<?, ?it/s]"
      ]
     },
     "metadata": {},
     "output_type": "display_data"
    },
    {
     "name": "stdout",
     "output_type": "stream",
     "text": [
      "initiating Net object ...\n",
      "gem_shape: (300, 79)\n",
      "initiation completed.\n"
     ]
    },
    {
     "data": {
      "application/vnd.jupyter.widget-view+json": {
       "model_id": "17f4b8fad4f5497a9a9d8d07dc8b0169",
       "version_major": 2,
       "version_minor": 0
      },
      "text/plain": [
       "  0%|          | 0/79 [00:00<?, ?it/s]"
      ]
     },
     "metadata": {},
     "output_type": "display_data"
    },
    {
     "data": {
      "application/vnd.jupyter.widget-view+json": {
       "model_id": "791b73dc9d584ccb93da76912f3d46c5",
       "version_major": 2,
       "version_minor": 0
      },
      "text/plain": [
       "  0%|          | 0/79 [00:00<?, ?it/s]"
      ]
     },
     "metadata": {},
     "output_type": "display_data"
    },
    {
     "name": "stdout",
     "output_type": "stream",
     "text": [
      "Input is global GRN...\n",
      "0.6173405545834783\n",
      "Done dataset_sim24.h5ad!\n",
      "Filtered out 5 genes that are detected 10 counts (shared).\n",
      "Normalized count data: X, spliced, unspliced.\n",
      "Logarithmized X.\n",
      "computing moments based on connectivities\n",
      "    finished (0:00:00) --> added \n",
      "    'Ms' and 'Mu', moments of un/spliced abundances (adata.layers)\n",
      "computing velocities\n",
      "    finished (0:00:00) --> added \n",
      "    'velocity', velocity vectors for each individual cell (adata.layers)\n"
     ]
    },
    {
     "data": {
      "application/vnd.jupyter.widget-view+json": {
       "model_id": "9e015ee4cdb845ec94ef1bb486c6da07",
       "version_major": 2,
       "version_minor": 0
      },
      "text/plain": [
       "  0%|          | 0/90 [00:00<?, ?it/s]"
      ]
     },
     "metadata": {},
     "output_type": "display_data"
    },
    {
     "name": "stdout",
     "output_type": "stream",
     "text": [
      "initiating Net object ...\n",
      "gem_shape: (300, 63)\n",
      "initiation completed.\n"
     ]
    },
    {
     "data": {
      "application/vnd.jupyter.widget-view+json": {
       "model_id": "864d78ce32474186b0c4388712ff3ef2",
       "version_major": 2,
       "version_minor": 0
      },
      "text/plain": [
       "  0%|          | 0/63 [00:00<?, ?it/s]"
      ]
     },
     "metadata": {},
     "output_type": "display_data"
    },
    {
     "data": {
      "application/vnd.jupyter.widget-view+json": {
       "model_id": "32ea2d35d1d446b391f387bb27037bb2",
       "version_major": 2,
       "version_minor": 0
      },
      "text/plain": [
       "  0%|          | 0/63 [00:00<?, ?it/s]"
      ]
     },
     "metadata": {},
     "output_type": "display_data"
    },
    {
     "name": "stdout",
     "output_type": "stream",
     "text": [
      "Input is global GRN...\n",
      "0.5295938221814589\n",
      "Done dataset_sim20.h5ad!\n",
      "Filtered out 1 genes that are detected 10 counts (shared).\n",
      "Normalized count data: X, spliced, unspliced.\n",
      "Logarithmized X.\n",
      "computing moments based on connectivities\n",
      "    finished (0:00:00) --> added \n",
      "    'Ms' and 'Mu', moments of un/spliced abundances (adata.layers)\n",
      "computing velocities\n",
      "    finished (0:00:00) --> added \n",
      "    'velocity', velocity vectors for each individual cell (adata.layers)\n"
     ]
    },
    {
     "data": {
      "application/vnd.jupyter.widget-view+json": {
       "model_id": "024ef7005187401893e2d6d40b8e3a89",
       "version_major": 2,
       "version_minor": 0
      },
      "text/plain": [
       "  0%|          | 0/90 [00:00<?, ?it/s]"
      ]
     },
     "metadata": {},
     "output_type": "display_data"
    },
    {
     "name": "stdout",
     "output_type": "stream",
     "text": [
      "initiating Net object ...\n",
      "gem_shape: (300, 83)\n",
      "initiation completed.\n"
     ]
    },
    {
     "data": {
      "application/vnd.jupyter.widget-view+json": {
       "model_id": "ada645d31bbd461fa387ae594c3360b7",
       "version_major": 2,
       "version_minor": 0
      },
      "text/plain": [
       "  0%|          | 0/83 [00:00<?, ?it/s]"
      ]
     },
     "metadata": {},
     "output_type": "display_data"
    },
    {
     "data": {
      "application/vnd.jupyter.widget-view+json": {
       "model_id": "d3c6647d7a2d48ad8c4ac60f601f5744",
       "version_major": 2,
       "version_minor": 0
      },
      "text/plain": [
       "  0%|          | 0/83 [00:00<?, ?it/s]"
      ]
     },
     "metadata": {},
     "output_type": "display_data"
    },
    {
     "name": "stdout",
     "output_type": "stream",
     "text": [
      "Input is global GRN...\n",
      "0.603686281854155\n",
      "Done dataset_sim39.h5ad!\n",
      "Filtered out 2 genes that are detected 10 counts (shared).\n",
      "Normalized count data: X, spliced, unspliced.\n",
      "Logarithmized X.\n",
      "computing moments based on connectivities\n",
      "    finished (0:00:00) --> added \n",
      "    'Ms' and 'Mu', moments of un/spliced abundances (adata.layers)\n",
      "computing velocities\n",
      "    finished (0:00:00) --> added \n",
      "    'velocity', velocity vectors for each individual cell (adata.layers)\n"
     ]
    },
    {
     "data": {
      "application/vnd.jupyter.widget-view+json": {
       "model_id": "75f4dfd054934ed1854676ed18fc957b",
       "version_major": 2,
       "version_minor": 0
      },
      "text/plain": [
       "  0%|          | 0/90 [00:00<?, ?it/s]"
      ]
     },
     "metadata": {},
     "output_type": "display_data"
    },
    {
     "name": "stdout",
     "output_type": "stream",
     "text": [
      "initiating Net object ...\n",
      "gem_shape: (300, 63)\n",
      "initiation completed.\n"
     ]
    },
    {
     "data": {
      "application/vnd.jupyter.widget-view+json": {
       "model_id": "ad0e93a1e102462b8e366e6e1b7ee049",
       "version_major": 2,
       "version_minor": 0
      },
      "text/plain": [
       "  0%|          | 0/63 [00:00<?, ?it/s]"
      ]
     },
     "metadata": {},
     "output_type": "display_data"
    },
    {
     "data": {
      "application/vnd.jupyter.widget-view+json": {
       "model_id": "8a59759023224c25bbadc43ee49a8e3c",
       "version_major": 2,
       "version_minor": 0
      },
      "text/plain": [
       "  0%|          | 0/63 [00:00<?, ?it/s]"
      ]
     },
     "metadata": {},
     "output_type": "display_data"
    },
    {
     "name": "stdout",
     "output_type": "stream",
     "text": [
      "Input is global GRN...\n",
      "0.542335643167199\n",
      "Done dataset_sim23.h5ad!\n",
      "Filtered out 1 genes that are detected 10 counts (shared).\n",
      "Normalized count data: X, spliced, unspliced.\n",
      "Logarithmized X.\n",
      "computing moments based on connectivities\n",
      "    finished (0:00:00) --> added \n",
      "    'Ms' and 'Mu', moments of un/spliced abundances (adata.layers)\n",
      "computing velocities\n",
      "    finished (0:00:00) --> added \n",
      "    'velocity', velocity vectors for each individual cell (adata.layers)\n"
     ]
    },
    {
     "data": {
      "application/vnd.jupyter.widget-view+json": {
       "model_id": "dad376682a2d483483ca45e0126c1860",
       "version_major": 2,
       "version_minor": 0
      },
      "text/plain": [
       "  0%|          | 0/90 [00:00<?, ?it/s]"
      ]
     },
     "metadata": {},
     "output_type": "display_data"
    },
    {
     "name": "stdout",
     "output_type": "stream",
     "text": [
      "initiating Net object ...\n",
      "gem_shape: (300, 72)\n",
      "initiation completed.\n"
     ]
    },
    {
     "data": {
      "application/vnd.jupyter.widget-view+json": {
       "model_id": "4e02243cae164628a05349a487fb08c4",
       "version_major": 2,
       "version_minor": 0
      },
      "text/plain": [
       "  0%|          | 0/72 [00:00<?, ?it/s]"
      ]
     },
     "metadata": {},
     "output_type": "display_data"
    },
    {
     "data": {
      "application/vnd.jupyter.widget-view+json": {
       "model_id": "871ed472f4514c94bdfcce0415800060",
       "version_major": 2,
       "version_minor": 0
      },
      "text/plain": [
       "  0%|          | 0/72 [00:00<?, ?it/s]"
      ]
     },
     "metadata": {},
     "output_type": "display_data"
    },
    {
     "name": "stdout",
     "output_type": "stream",
     "text": [
      "Input is global GRN...\n",
      "0.53910608158487\n",
      "Done dataset_sim10.h5ad!\n",
      "Filtered out 1 genes that are detected 10 counts (shared).\n",
      "Normalized count data: X, spliced, unspliced.\n",
      "Logarithmized X.\n",
      "computing moments based on connectivities\n",
      "    finished (0:00:00) --> added \n",
      "    'Ms' and 'Mu', moments of un/spliced abundances (adata.layers)\n",
      "computing velocities\n",
      "    finished (0:00:00) --> added \n",
      "    'velocity', velocity vectors for each individual cell (adata.layers)\n"
     ]
    },
    {
     "data": {
      "application/vnd.jupyter.widget-view+json": {
       "model_id": "1442c8f6f38143eaa0fe5fc8ac2d7227",
       "version_major": 2,
       "version_minor": 0
      },
      "text/plain": [
       "  0%|          | 0/90 [00:00<?, ?it/s]"
      ]
     },
     "metadata": {},
     "output_type": "display_data"
    },
    {
     "name": "stdout",
     "output_type": "stream",
     "text": [
      "initiating Net object ...\n",
      "gem_shape: (300, 84)\n",
      "initiation completed.\n"
     ]
    },
    {
     "data": {
      "application/vnd.jupyter.widget-view+json": {
       "model_id": "fb99f69429d5494fb8bfc42192aaad99",
       "version_major": 2,
       "version_minor": 0
      },
      "text/plain": [
       "  0%|          | 0/84 [00:00<?, ?it/s]"
      ]
     },
     "metadata": {},
     "output_type": "display_data"
    },
    {
     "data": {
      "application/vnd.jupyter.widget-view+json": {
       "model_id": "0afcf8231e83484bbf164405781505af",
       "version_major": 2,
       "version_minor": 0
      },
      "text/plain": [
       "  0%|          | 0/84 [00:00<?, ?it/s]"
      ]
     },
     "metadata": {},
     "output_type": "display_data"
    },
    {
     "name": "stdout",
     "output_type": "stream",
     "text": [
      "Input is global GRN...\n",
      "0.6706305515129201\n",
      "Done dataset_sim18.h5ad!\n",
      "Filtered out 1 genes that are detected 10 counts (shared).\n",
      "Normalized count data: X, spliced, unspliced.\n",
      "Logarithmized X.\n",
      "computing moments based on connectivities\n",
      "    finished (0:00:00) --> added \n",
      "    'Ms' and 'Mu', moments of un/spliced abundances (adata.layers)\n",
      "computing velocities\n",
      "    finished (0:00:00) --> added \n",
      "    'velocity', velocity vectors for each individual cell (adata.layers)\n"
     ]
    },
    {
     "data": {
      "application/vnd.jupyter.widget-view+json": {
       "model_id": "8bd08a6a72df417fbbc1b895c8e4d4f4",
       "version_major": 2,
       "version_minor": 0
      },
      "text/plain": [
       "  0%|          | 0/90 [00:00<?, ?it/s]"
      ]
     },
     "metadata": {},
     "output_type": "display_data"
    },
    {
     "name": "stdout",
     "output_type": "stream",
     "text": [
      "initiating Net object ...\n",
      "gem_shape: (300, 75)\n",
      "initiation completed.\n"
     ]
    },
    {
     "data": {
      "application/vnd.jupyter.widget-view+json": {
       "model_id": "2921d747a7ce4879bd7709ad3ee6fa38",
       "version_major": 2,
       "version_minor": 0
      },
      "text/plain": [
       "  0%|          | 0/75 [00:00<?, ?it/s]"
      ]
     },
     "metadata": {},
     "output_type": "display_data"
    },
    {
     "data": {
      "application/vnd.jupyter.widget-view+json": {
       "model_id": "ddddfd00e70d494bb9967b86cbf8b2cf",
       "version_major": 2,
       "version_minor": 0
      },
      "text/plain": [
       "  0%|          | 0/75 [00:00<?, ?it/s]"
      ]
     },
     "metadata": {},
     "output_type": "display_data"
    },
    {
     "name": "stdout",
     "output_type": "stream",
     "text": [
      "Input is global GRN...\n",
      "0.612868422627679\n",
      "Done dataset_sim8.h5ad!\n",
      "Filtered out 1 genes that are detected 10 counts (shared).\n",
      "Normalized count data: X, spliced, unspliced.\n",
      "Logarithmized X.\n",
      "computing moments based on connectivities\n",
      "    finished (0:00:00) --> added \n",
      "    'Ms' and 'Mu', moments of un/spliced abundances (adata.layers)\n",
      "computing velocities\n",
      "    finished (0:00:00) --> added \n",
      "    'velocity', velocity vectors for each individual cell (adata.layers)\n"
     ]
    },
    {
     "data": {
      "application/vnd.jupyter.widget-view+json": {
       "model_id": "93efd0874834432f86919ff0f0f9c23f",
       "version_major": 2,
       "version_minor": 0
      },
      "text/plain": [
       "  0%|          | 0/90 [00:00<?, ?it/s]"
      ]
     },
     "metadata": {},
     "output_type": "display_data"
    },
    {
     "name": "stdout",
     "output_type": "stream",
     "text": [
      "initiating Net object ...\n",
      "gem_shape: (300, 84)\n",
      "initiation completed.\n"
     ]
    },
    {
     "data": {
      "application/vnd.jupyter.widget-view+json": {
       "model_id": "d5030ac5c3574bc18ce50624141d4734",
       "version_major": 2,
       "version_minor": 0
      },
      "text/plain": [
       "  0%|          | 0/84 [00:00<?, ?it/s]"
      ]
     },
     "metadata": {},
     "output_type": "display_data"
    },
    {
     "data": {
      "application/vnd.jupyter.widget-view+json": {
       "model_id": "72e60c081841473ebb4c60878d7678d2",
       "version_major": 2,
       "version_minor": 0
      },
      "text/plain": [
       "  0%|          | 0/84 [00:00<?, ?it/s]"
      ]
     },
     "metadata": {},
     "output_type": "display_data"
    },
    {
     "ename": "KeyboardInterrupt",
     "evalue": "",
     "output_type": "error",
     "traceback": [
      "\u001b[0;31m---------------------------------------------------------------------------\u001b[0m",
      "\u001b[0;31mKeyboardInterrupt\u001b[0m                         Traceback (most recent call last)",
      "Cell \u001b[0;32mIn[25], line 75\u001b[0m\n\u001b[1;32m     73\u001b[0m \u001b[38;5;28;01mfor\u001b[39;00m i \u001b[38;5;129;01min\u001b[39;00m adata\u001b[38;5;241m.\u001b[39muns[\u001b[38;5;124m\"\u001b[39m\u001b[38;5;124mtargets\u001b[39m\u001b[38;5;124m\"\u001b[39m]:\n\u001b[1;32m     74\u001b[0m     \u001b[38;5;28;01mfor\u001b[39;00m j \u001b[38;5;129;01min\u001b[39;00m adata\u001b[38;5;241m.\u001b[39muns[\u001b[38;5;124m\"\u001b[39m\u001b[38;5;124mregulators\u001b[39m\u001b[38;5;124m\"\u001b[39m]:\n\u001b[0;32m---> 75\u001b[0m         ind \u001b[38;5;241m=\u001b[39m (\u001b[43minference_result\u001b[49m\u001b[43m[\u001b[49m\u001b[38;5;124;43m\"\u001b[39;49m\u001b[38;5;124;43msource\u001b[39;49m\u001b[38;5;124;43m\"\u001b[39;49m\u001b[43m]\u001b[49m\u001b[43m \u001b[49m\u001b[38;5;241;43m==\u001b[39;49m\u001b[43m \u001b[49m\u001b[43mj\u001b[49m) \u001b[38;5;241m&\u001b[39m (inference_result[\u001b[38;5;124m\"\u001b[39m\u001b[38;5;124mtarget\u001b[39m\u001b[38;5;124m\"\u001b[39m] \u001b[38;5;241m==\u001b[39m i)\n\u001b[1;32m     76\u001b[0m         \u001b[38;5;28;01mif\u001b[39;00m \u001b[38;5;28msum\u001b[39m(ind) \u001b[38;5;241m>\u001b[39m \u001b[38;5;241m0\u001b[39m:\n\u001b[1;32m     77\u001b[0m             pdd \u001b[38;5;241m=\u001b[39m inference_result[ind]\n",
      "File \u001b[0;32m~/miniconda3/envs/celloracle_env/lib/python3.8/site-packages/pandas/core/ops/common.py:72\u001b[0m, in \u001b[0;36m_unpack_zerodim_and_defer.<locals>.new_method\u001b[0;34m(self, other)\u001b[0m\n\u001b[1;32m     68\u001b[0m             \u001b[38;5;28;01mreturn\u001b[39;00m \u001b[38;5;28mNotImplemented\u001b[39m\n\u001b[1;32m     70\u001b[0m other \u001b[38;5;241m=\u001b[39m item_from_zerodim(other)\n\u001b[0;32m---> 72\u001b[0m \u001b[38;5;28;01mreturn\u001b[39;00m \u001b[43mmethod\u001b[49m\u001b[43m(\u001b[49m\u001b[38;5;28;43mself\u001b[39;49m\u001b[43m,\u001b[49m\u001b[43m \u001b[49m\u001b[43mother\u001b[49m\u001b[43m)\u001b[49m\n",
      "File \u001b[0;32m~/miniconda3/envs/celloracle_env/lib/python3.8/site-packages/pandas/core/arraylike.py:42\u001b[0m, in \u001b[0;36mOpsMixin.__eq__\u001b[0;34m(self, other)\u001b[0m\n\u001b[1;32m     40\u001b[0m \u001b[38;5;129m@unpack_zerodim_and_defer\u001b[39m(\u001b[38;5;124m\"\u001b[39m\u001b[38;5;124m__eq__\u001b[39m\u001b[38;5;124m\"\u001b[39m)\n\u001b[1;32m     41\u001b[0m \u001b[38;5;28;01mdef\u001b[39;00m \u001b[38;5;21m__eq__\u001b[39m(\u001b[38;5;28mself\u001b[39m, other):\n\u001b[0;32m---> 42\u001b[0m     \u001b[38;5;28;01mreturn\u001b[39;00m \u001b[38;5;28;43mself\u001b[39;49m\u001b[38;5;241;43m.\u001b[39;49m\u001b[43m_cmp_method\u001b[49m\u001b[43m(\u001b[49m\u001b[43mother\u001b[49m\u001b[43m,\u001b[49m\u001b[43m \u001b[49m\u001b[43moperator\u001b[49m\u001b[38;5;241;43m.\u001b[39;49m\u001b[43meq\u001b[49m\u001b[43m)\u001b[49m\n",
      "File \u001b[0;32m~/miniconda3/envs/celloracle_env/lib/python3.8/site-packages/pandas/core/series.py:6243\u001b[0m, in \u001b[0;36mSeries._cmp_method\u001b[0;34m(self, other, op)\u001b[0m\n\u001b[1;32m   6240\u001b[0m rvalues \u001b[38;5;241m=\u001b[39m extract_array(other, extract_numpy\u001b[38;5;241m=\u001b[39m\u001b[38;5;28;01mTrue\u001b[39;00m, extract_range\u001b[38;5;241m=\u001b[39m\u001b[38;5;28;01mTrue\u001b[39;00m)\n\u001b[1;32m   6242\u001b[0m \u001b[38;5;28;01mwith\u001b[39;00m np\u001b[38;5;241m.\u001b[39merrstate(\u001b[38;5;28mall\u001b[39m\u001b[38;5;241m=\u001b[39m\u001b[38;5;124m\"\u001b[39m\u001b[38;5;124mignore\u001b[39m\u001b[38;5;124m\"\u001b[39m):\n\u001b[0;32m-> 6243\u001b[0m     res_values \u001b[38;5;241m=\u001b[39m \u001b[43mops\u001b[49m\u001b[38;5;241;43m.\u001b[39;49m\u001b[43mcomparison_op\u001b[49m\u001b[43m(\u001b[49m\u001b[43mlvalues\u001b[49m\u001b[43m,\u001b[49m\u001b[43m \u001b[49m\u001b[43mrvalues\u001b[49m\u001b[43m,\u001b[49m\u001b[43m \u001b[49m\u001b[43mop\u001b[49m\u001b[43m)\u001b[49m\n\u001b[1;32m   6245\u001b[0m \u001b[38;5;28;01mreturn\u001b[39;00m \u001b[38;5;28mself\u001b[39m\u001b[38;5;241m.\u001b[39m_construct_result(res_values, name\u001b[38;5;241m=\u001b[39mres_name)\n",
      "File \u001b[0;32m~/miniconda3/envs/celloracle_env/lib/python3.8/site-packages/pandas/core/ops/array_ops.py:287\u001b[0m, in \u001b[0;36mcomparison_op\u001b[0;34m(left, right, op)\u001b[0m\n\u001b[1;32m    284\u001b[0m     \u001b[38;5;28;01mreturn\u001b[39;00m invalid_comparison(lvalues, rvalues, op)\n\u001b[1;32m    286\u001b[0m \u001b[38;5;28;01melif\u001b[39;00m is_object_dtype(lvalues\u001b[38;5;241m.\u001b[39mdtype) \u001b[38;5;129;01mor\u001b[39;00m \u001b[38;5;28misinstance\u001b[39m(rvalues, \u001b[38;5;28mstr\u001b[39m):\n\u001b[0;32m--> 287\u001b[0m     res_values \u001b[38;5;241m=\u001b[39m \u001b[43mcomp_method_OBJECT_ARRAY\u001b[49m\u001b[43m(\u001b[49m\u001b[43mop\u001b[49m\u001b[43m,\u001b[49m\u001b[43m \u001b[49m\u001b[43mlvalues\u001b[49m\u001b[43m,\u001b[49m\u001b[43m \u001b[49m\u001b[43mrvalues\u001b[49m\u001b[43m)\u001b[49m\n\u001b[1;32m    289\u001b[0m \u001b[38;5;28;01melse\u001b[39;00m:\n\u001b[1;32m    290\u001b[0m     res_values \u001b[38;5;241m=\u001b[39m _na_arithmetic_op(lvalues, rvalues, op, is_cmp\u001b[38;5;241m=\u001b[39m\u001b[38;5;28;01mTrue\u001b[39;00m)\n",
      "File \u001b[0;32m~/miniconda3/envs/celloracle_env/lib/python3.8/site-packages/pandas/core/ops/array_ops.py:75\u001b[0m, in \u001b[0;36mcomp_method_OBJECT_ARRAY\u001b[0;34m(op, x, y)\u001b[0m\n\u001b[1;32m     73\u001b[0m     result \u001b[38;5;241m=\u001b[39m libops\u001b[38;5;241m.\u001b[39mvec_compare(x\u001b[38;5;241m.\u001b[39mravel(), y\u001b[38;5;241m.\u001b[39mravel(), op)\n\u001b[1;32m     74\u001b[0m \u001b[38;5;28;01melse\u001b[39;00m:\n\u001b[0;32m---> 75\u001b[0m     result \u001b[38;5;241m=\u001b[39m \u001b[43mlibops\u001b[49m\u001b[38;5;241;43m.\u001b[39;49m\u001b[43mscalar_compare\u001b[49m\u001b[43m(\u001b[49m\u001b[43mx\u001b[49m\u001b[38;5;241;43m.\u001b[39;49m\u001b[43mravel\u001b[49m\u001b[43m(\u001b[49m\u001b[43m)\u001b[49m\u001b[43m,\u001b[49m\u001b[43m \u001b[49m\u001b[43my\u001b[49m\u001b[43m,\u001b[49m\u001b[43m \u001b[49m\u001b[43mop\u001b[49m\u001b[43m)\u001b[49m\n\u001b[1;32m     76\u001b[0m \u001b[38;5;28;01mreturn\u001b[39;00m result\u001b[38;5;241m.\u001b[39mreshape(x\u001b[38;5;241m.\u001b[39mshape)\n",
      "\u001b[0;31mKeyboardInterrupt\u001b[0m: "
     ]
    }
   ],
   "source": [
    "for adata_name in files:\n",
    "    address = os.getcwd() + '/RegVelo_datasets/dyngen_simulation/' + adata_name\n",
    "    \n",
    "    adata = sc.read_h5ad(address)\n",
    "    adata_raw = adata.copy()\n",
    "    csgn = csgn_groundtruth(adata)\n",
    "    adata.uns[\"csgn\"] = csgn\n",
    "\n",
    "    adata.X = adata.X.copy()\n",
    "    adata.layers[\"spliced\"] = adata.layers[\"counts_spliced\"].copy()\n",
    "    adata.layers[\"unspliced\"] = adata.layers[\"counts_unspliced\"].copy()\n",
    "\n",
    "\n",
    "    scv.pp.filter_and_normalize(adata, min_shared_counts=10)\n",
    "    sc.tl.pca(adata)\n",
    "    sc.pp.neighbors(adata, n_neighbors=30, n_pcs=30)\n",
    "    scv.pp.moments(adata)\n",
    "\n",
    "    adata.X = np.log1p(adata.X.copy())\n",
    "\n",
    "\n",
    "    sc.tl.leiden(adata)\n",
    "    adata_raw.obs[\"cluster\"] = adata.obs[\"leiden\"].copy()\n",
    "    adata_raw.obsm[\"X_pca\"] = adata.obsm[\"X_pca\"].copy()\n",
    "    adata_raw.layers[\"spliced\"] = adata_raw.layers[\"counts_spliced\"].copy()\n",
    "    adata_raw.layers[\"unspliced\"] = adata_raw.layers[\"counts_unspliced\"].copy()\n",
    "\n",
    "\n",
    "    adata = preprocess_data(adata)\n",
    "    adata = sanity_check(adata)\n",
    "    adata.uns[\"Ms\"] = adata.layers[\"Ms\"]\n",
    "    adata.uns[\"Mu\"] = adata.layers[\"Mu\"]\n",
    "\n",
    "    W = adata.uns[\"skeleton\"].copy()\n",
    "    W = torch.tensor(np.array(W)).int()\n",
    "    W = torch.ones(W.shape)\n",
    "    intersection = list(set(adata.uns[\"regulators\"]).intersection(adata.uns[\"targets\"]))\n",
    "\n",
    "    for i in intersection:\n",
    "        index1 = [j == i for j in adata.uns[\"regulators\"]]\n",
    "        index2 = [j == i for j in adata.uns[\"targets\"]]\n",
    "        W[index1,index2] = 0\n",
    "\n",
    "    \n",
    "    target_list = []\n",
    "    for i in range(adata.uns[\"skeleton\"].shape[0]):\n",
    "        a = list(adata.uns[\"targets\"][W[i,:] == 1])\n",
    "        a = ','.join(a)\n",
    "        target_list.append(a)\n",
    "    d = {\"TF\":adata.uns[\"regulators\"],\"Target_genes\":target_list}\n",
    "    df = pd.DataFrame(data=d)\n",
    "    TF_to_TG_dictionary = {}\n",
    "\n",
    "    for TF, TGs in zip(df.TF, df.Target_genes):\n",
    "        # convert target gene to list\n",
    "        TG_list = TGs.replace(\" \", \"\").split(\",\")\n",
    "        # store target gene list in a dictionary\n",
    "        TF_to_TG_dictionary[TF] = TG_list\n",
    "\n",
    "    # We invert the dictionary above using a utility function in celloracle.\n",
    "    TG_to_TF_dictionary = co.utility.inverse_dictionary(TF_to_TG_dictionary)\n",
    "\n",
    "    net = co.Net(gene_expression_matrix=adata.to_df(), # Input gene expression matrix as data frame\n",
    "                 TFinfo_dic=TG_to_TF_dictionary, # Input base GRN\n",
    "                 verbose=True\n",
    "                 )\n",
    "    \n",
    "    net.fit_All_genes(bagging_number=20,\n",
    "                 alpha=10, verbose=True)\n",
    "    net.updateLinkList(verbose=True)\n",
    "    inference_result = net.linkList.copy()\n",
    "    celloracle_m = np.zeros((len(adata.uns[\"targets\"]),len(adata.uns[\"regulators\"])))\n",
    "    celloracle_m = pd.DataFrame(celloracle_m,index = adata.uns[\"targets\"], columns = adata.uns[\"regulators\"])\n",
    "    for i in adata.uns[\"targets\"]:\n",
    "        for j in adata.uns[\"regulators\"]:\n",
    "            ind = (inference_result[\"source\"] == j) & (inference_result[\"target\"] == i)\n",
    "            if sum(ind) > 0:\n",
    "                pdd = inference_result[ind]\n",
    "                celloracle_m.loc[i,j] = pdd[\"-logp\"].values\n",
    "\n",
    "    # In[72]:\n",
    "    score6 = csgn_benchmark2(torch.tensor(np.array(celloracle_m)),W,adata.uns[\"csgn\"])\n",
    "\n",
    "    ### Visualize the Violin Plots\n",
    "    AUC_GRN_result.append(np.mean(score6))\n",
    "    print(np.mean(score6))\n",
    "    # In[79]:\n",
    "\n",
    "    df = pd.DataFrame(AUC_GRN_result)\n",
    "    df.columns = [\"celloracle\"]\n",
    "\n",
    "    if SAVE_DATASETS:\n",
    "        df.to_csv(DATA_DIR / 'simulation' / 'dyngen_results' /  'AUROC_res_all_celloracle.csv')\n",
    "\n",
    "    print(\"Done \" + adata_name + \"!\")"
   ]
  },
  {
   "cell_type": "code",
   "execution_count": 48,
   "id": "548b4272-0419-465d-bc1a-62bfd495073e",
   "metadata": {
    "collapsed": true,
    "jupyter": {
     "outputs_hidden": true
    }
   },
   "outputs": [
    {
     "name": "stdout",
     "output_type": "stream",
     "text": [
      "Filtered out 1 genes that are detected 10 counts (shared).\n",
      "Normalized count data: X, spliced, unspliced.\n",
      "Logarithmized X.\n",
      "computing moments based on connectivities\n",
      "    finished (0:00:00) --> added \n",
      "    'Ms' and 'Mu', moments of un/spliced abundances (adata.layers)\n",
      "computing velocities\n",
      "    finished (0:00:00) --> added \n",
      "    'velocity', velocity vectors for each individual cell (adata.layers)\n",
      "WARNING: Did not normalize X as it looks processed already. To enforce normalization, set `enforce=True`.\n",
      "WARNING: Did not normalize spliced as it looks processed already. To enforce normalization, set `enforce=True`.\n",
      "WARNING: Did not normalize unspliced as it looks processed already. To enforce normalization, set `enforce=True`.\n",
      "Extracted 79 highly variable genes.\n",
      "WARNING: adata.X seems to be already log-transformed.\n",
      "Logarithmized X.\n",
      "Running quick regression...\n",
      "Running subset regression on the 1 cluster...\n",
      "Input is global GRN...\n",
      "0.7344667306942315\n",
      "Done dataset_sim24.h5ad!\n",
      "Filtered out 5 genes that are detected 10 counts (shared).\n",
      "Normalized count data: X, spliced, unspliced.\n",
      "Logarithmized X.\n",
      "computing moments based on connectivities\n",
      "    finished (0:00:00) --> added \n",
      "    'Ms' and 'Mu', moments of un/spliced abundances (adata.layers)\n",
      "computing velocities\n",
      "    finished (0:00:00) --> added \n",
      "    'velocity', velocity vectors for each individual cell (adata.layers)\n",
      "WARNING: Did not normalize X as it looks processed already. To enforce normalization, set `enforce=True`.\n",
      "WARNING: Did not normalize spliced as it looks processed already. To enforce normalization, set `enforce=True`.\n",
      "WARNING: Did not normalize unspliced as it looks processed already. To enforce normalization, set `enforce=True`.\n",
      "Extracted 63 highly variable genes.\n",
      "WARNING: adata.X seems to be already log-transformed.\n",
      "Logarithmized X.\n",
      "Running quick regression...\n",
      "Running subset regression on the 1 cluster...\n",
      "Input is global GRN...\n",
      "0.723486333771935\n",
      "Done dataset_sim20.h5ad!\n",
      "Filtered out 1 genes that are detected 10 counts (shared).\n",
      "Normalized count data: X, spliced, unspliced.\n",
      "Logarithmized X.\n",
      "computing moments based on connectivities\n",
      "    finished (0:00:00) --> added \n",
      "    'Ms' and 'Mu', moments of un/spliced abundances (adata.layers)\n",
      "computing velocities\n",
      "    finished (0:00:00) --> added \n",
      "    'velocity', velocity vectors for each individual cell (adata.layers)\n",
      "WARNING: Did not normalize X as it looks processed already. To enforce normalization, set `enforce=True`.\n",
      "WARNING: Did not normalize spliced as it looks processed already. To enforce normalization, set `enforce=True`.\n",
      "WARNING: Did not normalize unspliced as it looks processed already. To enforce normalization, set `enforce=True`.\n",
      "Extracted 83 highly variable genes.\n",
      "WARNING: adata.X seems to be already log-transformed.\n",
      "Logarithmized X.\n",
      "Running quick regression...\n",
      "Running subset regression on the 1 cluster...\n",
      "Input is global GRN...\n",
      "0.6450837997402604\n",
      "Done dataset_sim39.h5ad!\n",
      "Filtered out 2 genes that are detected 10 counts (shared).\n",
      "Normalized count data: X, spliced, unspliced.\n",
      "Logarithmized X.\n",
      "computing moments based on connectivities\n",
      "    finished (0:00:00) --> added \n",
      "    'Ms' and 'Mu', moments of un/spliced abundances (adata.layers)\n",
      "computing velocities\n",
      "    finished (0:00:00) --> added \n",
      "    'velocity', velocity vectors for each individual cell (adata.layers)\n",
      "WARNING: Did not normalize X as it looks processed already. To enforce normalization, set `enforce=True`.\n",
      "WARNING: Did not normalize spliced as it looks processed already. To enforce normalization, set `enforce=True`.\n",
      "WARNING: Did not normalize unspliced as it looks processed already. To enforce normalization, set `enforce=True`.\n",
      "Extracted 63 highly variable genes.\n",
      "WARNING: adata.X seems to be already log-transformed.\n",
      "Logarithmized X.\n",
      "Running quick regression...\n",
      "Running subset regression on the 1 cluster...\n",
      "Input is global GRN...\n",
      "0.5515970932780854\n",
      "Done dataset_sim23.h5ad!\n",
      "Filtered out 1 genes that are detected 10 counts (shared).\n",
      "Normalized count data: X, spliced, unspliced.\n",
      "Logarithmized X.\n",
      "computing moments based on connectivities\n",
      "    finished (0:00:00) --> added \n",
      "    'Ms' and 'Mu', moments of un/spliced abundances (adata.layers)\n",
      "computing velocities\n",
      "    finished (0:00:00) --> added \n",
      "    'velocity', velocity vectors for each individual cell (adata.layers)\n",
      "WARNING: Did not normalize X as it looks processed already. To enforce normalization, set `enforce=True`.\n",
      "WARNING: Did not normalize spliced as it looks processed already. To enforce normalization, set `enforce=True`.\n",
      "WARNING: Did not normalize unspliced as it looks processed already. To enforce normalization, set `enforce=True`.\n",
      "Extracted 72 highly variable genes.\n",
      "WARNING: adata.X seems to be already log-transformed.\n",
      "Logarithmized X.\n",
      "Running quick regression...\n",
      "Running subset regression on the 1 cluster...\n",
      "Input is global GRN...\n",
      "0.6978833426970232\n",
      "Done dataset_sim10.h5ad!\n",
      "Filtered out 1 genes that are detected 10 counts (shared).\n",
      "Normalized count data: X, spliced, unspliced.\n",
      "Logarithmized X.\n",
      "computing moments based on connectivities\n",
      "    finished (0:00:00) --> added \n",
      "    'Ms' and 'Mu', moments of un/spliced abundances (adata.layers)\n"
     ]
    },
    {
     "name": "stderr",
     "output_type": "stream",
     "text": [
      "Exception ignored in: <function tqdm.__del__ at 0x7f0affa0baf0>\n",
      "Traceback (most recent call last):\n",
      "  File \"/home/icb/weixu.wang/miniconda3/envs/celloracle_env/lib/python3.8/site-packages/tqdm/std.py\", line 1147, in __del__\n",
      "    def __del__(self):\n",
      "KeyboardInterrupt: \n"
     ]
    },
    {
     "name": "stdout",
     "output_type": "stream",
     "text": [
      "computing velocities\n",
      "    finished (0:00:00) --> added \n",
      "    'velocity', velocity vectors for each individual cell (adata.layers)\n",
      "WARNING: Did not normalize X as it looks processed already. To enforce normalization, set `enforce=True`.\n",
      "WARNING: Did not normalize spliced as it looks processed already. To enforce normalization, set `enforce=True`.\n",
      "WARNING: Did not normalize unspliced as it looks processed already. To enforce normalization, set `enforce=True`.\n",
      "Extracted 84 highly variable genes.\n",
      "WARNING: adata.X seems to be already log-transformed.\n",
      "Logarithmized X.\n",
      "Running quick regression...\n",
      "Running subset regression on the 1 cluster...\n",
      "Input is global GRN...\n",
      "0.5310126513520153\n",
      "Done dataset_sim18.h5ad!\n"
     ]
    },
    {
     "ename": "KeyboardInterrupt",
     "evalue": "",
     "output_type": "error",
     "traceback": [
      "\u001b[0;31m---------------------------------------------------------------------------\u001b[0m",
      "\u001b[0;31mKeyboardInterrupt\u001b[0m                         Traceback (most recent call last)",
      "Cell \u001b[0;32mIn[48], line 11\u001b[0m\n\u001b[1;32m      9\u001b[0m adata \u001b[38;5;241m=\u001b[39m sc\u001b[38;5;241m.\u001b[39mread_h5ad(address)\n\u001b[1;32m     10\u001b[0m adata_raw \u001b[38;5;241m=\u001b[39m adata\u001b[38;5;241m.\u001b[39mcopy()\n\u001b[0;32m---> 11\u001b[0m csgn \u001b[38;5;241m=\u001b[39m \u001b[43mcsgn_groundtruth\u001b[49m\u001b[43m(\u001b[49m\u001b[43madata\u001b[49m\u001b[43m)\u001b[49m\n\u001b[1;32m     12\u001b[0m adata\u001b[38;5;241m.\u001b[39muns[\u001b[38;5;124m\"\u001b[39m\u001b[38;5;124mcsgn\u001b[39m\u001b[38;5;124m\"\u001b[39m] \u001b[38;5;241m=\u001b[39m csgn\n\u001b[1;32m     14\u001b[0m adata\u001b[38;5;241m.\u001b[39mX \u001b[38;5;241m=\u001b[39m adata\u001b[38;5;241m.\u001b[39mX\u001b[38;5;241m.\u001b[39mcopy()\n",
      "Cell \u001b[0;32mIn[9], line 21\u001b[0m, in \u001b[0;36mcsgn_groundtruth\u001b[0;34m(adata)\u001b[0m\n\u001b[1;32m     18\u001b[0m grnboost_m \u001b[38;5;241m=\u001b[39m pd\u001b[38;5;241m.\u001b[39mDataFrame(grnboost_m,index \u001b[38;5;241m=\u001b[39m adata\u001b[38;5;241m.\u001b[39muns[\u001b[38;5;124m\"\u001b[39m\u001b[38;5;124mregulators\u001b[39m\u001b[38;5;124m\"\u001b[39m], columns \u001b[38;5;241m=\u001b[39m adata\u001b[38;5;241m.\u001b[39muns[\u001b[38;5;124m\"\u001b[39m\u001b[38;5;124mtargets\u001b[39m\u001b[38;5;124m\"\u001b[39m])\n\u001b[1;32m     19\u001b[0m \u001b[38;5;28;01mfor\u001b[39;00m i \u001b[38;5;129;01min\u001b[39;00m \u001b[38;5;28mrange\u001b[39m(adata\u001b[38;5;241m.\u001b[39muns[\u001b[38;5;124m\"\u001b[39m\u001b[38;5;124mregulatory_network\u001b[39m\u001b[38;5;124m\"\u001b[39m]\u001b[38;5;241m.\u001b[39mshape[\u001b[38;5;241m0\u001b[39m]):\n\u001b[1;32m     20\u001b[0m     \u001b[38;5;66;03m#ind = (adata.uns[\"regulatory_network\"][\"regulator\"] == j) & (adata.uns[\"regulatory_network\"][\"target\"] == i)\u001b[39;00m\n\u001b[0;32m---> 21\u001b[0m     regulator \u001b[38;5;241m=\u001b[39m \u001b[43madata\u001b[49m\u001b[38;5;241;43m.\u001b[39;49m\u001b[43muns\u001b[49m\u001b[43m[\u001b[49m\u001b[38;5;124;43m\"\u001b[39;49m\u001b[38;5;124;43mregulatory_network\u001b[39;49m\u001b[38;5;124;43m\"\u001b[39;49m\u001b[43m]\u001b[49m\u001b[38;5;241;43m.\u001b[39;49m\u001b[43miloc\u001b[49m\u001b[43m[\u001b[49m\u001b[43mi\u001b[49m\u001b[43m]\u001b[49m[\u001b[38;5;124m\"\u001b[39m\u001b[38;5;124mregulator\u001b[39m\u001b[38;5;124m\"\u001b[39m]\n\u001b[1;32m     22\u001b[0m     target \u001b[38;5;241m=\u001b[39m adata\u001b[38;5;241m.\u001b[39muns[\u001b[38;5;124m\"\u001b[39m\u001b[38;5;124mregulatory_network\u001b[39m\u001b[38;5;124m\"\u001b[39m]\u001b[38;5;241m.\u001b[39miloc[i][\u001b[38;5;124m\"\u001b[39m\u001b[38;5;124mtarget\u001b[39m\u001b[38;5;124m\"\u001b[39m]\n\u001b[1;32m     23\u001b[0m     grnboost_m\u001b[38;5;241m.\u001b[39mloc[regulator,target] \u001b[38;5;241m=\u001b[39m csgn_array[k,i]\n",
      "File \u001b[0;32m~/miniconda3/envs/celloracle_env/lib/python3.8/site-packages/pandas/core/indexing.py:1073\u001b[0m, in \u001b[0;36m_LocationIndexer.__getitem__\u001b[0;34m(self, key)\u001b[0m\n\u001b[1;32m   1070\u001b[0m axis \u001b[38;5;241m=\u001b[39m \u001b[38;5;28mself\u001b[39m\u001b[38;5;241m.\u001b[39maxis \u001b[38;5;129;01mor\u001b[39;00m \u001b[38;5;241m0\u001b[39m\n\u001b[1;32m   1072\u001b[0m maybe_callable \u001b[38;5;241m=\u001b[39m com\u001b[38;5;241m.\u001b[39mapply_if_callable(key, \u001b[38;5;28mself\u001b[39m\u001b[38;5;241m.\u001b[39mobj)\n\u001b[0;32m-> 1073\u001b[0m \u001b[38;5;28;01mreturn\u001b[39;00m \u001b[38;5;28;43mself\u001b[39;49m\u001b[38;5;241;43m.\u001b[39;49m\u001b[43m_getitem_axis\u001b[49m\u001b[43m(\u001b[49m\u001b[43mmaybe_callable\u001b[49m\u001b[43m,\u001b[49m\u001b[43m \u001b[49m\u001b[43maxis\u001b[49m\u001b[38;5;241;43m=\u001b[39;49m\u001b[43maxis\u001b[49m\u001b[43m)\u001b[49m\n",
      "File \u001b[0;32m~/miniconda3/envs/celloracle_env/lib/python3.8/site-packages/pandas/core/indexing.py:1627\u001b[0m, in \u001b[0;36m_iLocIndexer._getitem_axis\u001b[0;34m(self, key, axis)\u001b[0m\n\u001b[1;32m   1624\u001b[0m \u001b[38;5;66;03m# validate the location\u001b[39;00m\n\u001b[1;32m   1625\u001b[0m \u001b[38;5;28mself\u001b[39m\u001b[38;5;241m.\u001b[39m_validate_integer(key, axis)\n\u001b[0;32m-> 1627\u001b[0m \u001b[38;5;28;01mreturn\u001b[39;00m \u001b[38;5;28;43mself\u001b[39;49m\u001b[38;5;241;43m.\u001b[39;49m\u001b[43mobj\u001b[49m\u001b[38;5;241;43m.\u001b[39;49m\u001b[43m_ixs\u001b[49m\u001b[43m(\u001b[49m\u001b[43mkey\u001b[49m\u001b[43m,\u001b[49m\u001b[43m \u001b[49m\u001b[43maxis\u001b[49m\u001b[38;5;241;43m=\u001b[39;49m\u001b[43maxis\u001b[49m\u001b[43m)\u001b[49m\n",
      "File \u001b[0;32m~/miniconda3/envs/celloracle_env/lib/python3.8/site-packages/pandas/core/frame.py:3716\u001b[0m, in \u001b[0;36mDataFrame._ixs\u001b[0;34m(self, i, axis)\u001b[0m\n\u001b[1;32m   3714\u001b[0m \u001b[38;5;66;03m# irow\u001b[39;00m\n\u001b[1;32m   3715\u001b[0m \u001b[38;5;28;01mif\u001b[39;00m axis \u001b[38;5;241m==\u001b[39m \u001b[38;5;241m0\u001b[39m:\n\u001b[0;32m-> 3716\u001b[0m     new_mgr \u001b[38;5;241m=\u001b[39m \u001b[38;5;28;43mself\u001b[39;49m\u001b[38;5;241;43m.\u001b[39;49m\u001b[43m_mgr\u001b[49m\u001b[38;5;241;43m.\u001b[39;49m\u001b[43mfast_xs\u001b[49m\u001b[43m(\u001b[49m\u001b[43mi\u001b[49m\u001b[43m)\u001b[49m\n\u001b[1;32m   3718\u001b[0m     \u001b[38;5;66;03m# if we are a copy, mark as such\u001b[39;00m\n\u001b[1;32m   3719\u001b[0m     copy \u001b[38;5;241m=\u001b[39m \u001b[38;5;28misinstance\u001b[39m(new_mgr\u001b[38;5;241m.\u001b[39marray, np\u001b[38;5;241m.\u001b[39mndarray) \u001b[38;5;129;01mand\u001b[39;00m new_mgr\u001b[38;5;241m.\u001b[39marray\u001b[38;5;241m.\u001b[39mbase \u001b[38;5;129;01mis\u001b[39;00m \u001b[38;5;28;01mNone\u001b[39;00m\n",
      "File \u001b[0;32m~/miniconda3/envs/celloracle_env/lib/python3.8/site-packages/pandas/core/internals/managers.py:1097\u001b[0m, in \u001b[0;36mBlockManager.fast_xs\u001b[0;34m(self, loc)\u001b[0m\n\u001b[1;32m   1094\u001b[0m     ref \u001b[38;5;241m=\u001b[39m weakref\u001b[38;5;241m.\u001b[39mref(\u001b[38;5;28mself\u001b[39m\u001b[38;5;241m.\u001b[39mblocks[\u001b[38;5;241m0\u001b[39m])\n\u001b[1;32m   1095\u001b[0m     \u001b[38;5;28;01mreturn\u001b[39;00m SingleBlockManager(block, \u001b[38;5;28mself\u001b[39m\u001b[38;5;241m.\u001b[39maxes[\u001b[38;5;241m0\u001b[39m], [ref], parent\u001b[38;5;241m=\u001b[39m\u001b[38;5;28mself\u001b[39m)\n\u001b[0;32m-> 1097\u001b[0m dtype \u001b[38;5;241m=\u001b[39m \u001b[43minterleaved_dtype\u001b[49m\u001b[43m(\u001b[49m\u001b[43m[\u001b[49m\u001b[43mblk\u001b[49m\u001b[38;5;241;43m.\u001b[39;49m\u001b[43mdtype\u001b[49m\u001b[43m \u001b[49m\u001b[38;5;28;43;01mfor\u001b[39;49;00m\u001b[43m \u001b[49m\u001b[43mblk\u001b[49m\u001b[43m \u001b[49m\u001b[38;5;129;43;01min\u001b[39;49;00m\u001b[43m \u001b[49m\u001b[38;5;28;43mself\u001b[39;49m\u001b[38;5;241;43m.\u001b[39;49m\u001b[43mblocks\u001b[49m\u001b[43m]\u001b[49m\u001b[43m)\u001b[49m\n\u001b[1;32m   1099\u001b[0m n \u001b[38;5;241m=\u001b[39m \u001b[38;5;28mlen\u001b[39m(\u001b[38;5;28mself\u001b[39m)\n\u001b[1;32m   1101\u001b[0m \u001b[38;5;66;03m# GH#46406\u001b[39;00m\n",
      "File \u001b[0;32m~/miniconda3/envs/celloracle_env/lib/python3.8/site-packages/pandas/core/internals/base.py:226\u001b[0m, in \u001b[0;36minterleaved_dtype\u001b[0;34m(dtypes)\u001b[0m\n\u001b[1;32m    223\u001b[0m \u001b[38;5;28;01mif\u001b[39;00m \u001b[38;5;129;01mnot\u001b[39;00m \u001b[38;5;28mlen\u001b[39m(dtypes):\n\u001b[1;32m    224\u001b[0m     \u001b[38;5;28;01mreturn\u001b[39;00m \u001b[38;5;28;01mNone\u001b[39;00m\n\u001b[0;32m--> 226\u001b[0m \u001b[38;5;28;01mreturn\u001b[39;00m \u001b[43mfind_common_type\u001b[49m\u001b[43m(\u001b[49m\u001b[43mdtypes\u001b[49m\u001b[43m)\u001b[49m\n",
      "File \u001b[0;32m~/miniconda3/envs/celloracle_env/lib/python3.8/site-packages/pandas/core/dtypes/cast.py:1641\u001b[0m, in \u001b[0;36mfind_common_type\u001b[0;34m(types)\u001b[0m\n\u001b[1;32m   1638\u001b[0m         \u001b[38;5;28;01mif\u001b[39;00m is_integer_dtype(t) \u001b[38;5;129;01mor\u001b[39;00m is_float_dtype(t) \u001b[38;5;129;01mor\u001b[39;00m is_complex_dtype(t):\n\u001b[1;32m   1639\u001b[0m             \u001b[38;5;28;01mreturn\u001b[39;00m np\u001b[38;5;241m.\u001b[39mdtype(\u001b[38;5;124m\"\u001b[39m\u001b[38;5;124mobject\u001b[39m\u001b[38;5;124m\"\u001b[39m)\n\u001b[0;32m-> 1641\u001b[0m \u001b[38;5;28;01mreturn\u001b[39;00m \u001b[43mnp\u001b[49m\u001b[38;5;241;43m.\u001b[39;49m\u001b[43mfind_common_type\u001b[49m\u001b[43m(\u001b[49m\u001b[43mtypes\u001b[49m\u001b[43m,\u001b[49m\u001b[43m \u001b[49m\u001b[43m[\u001b[49m\u001b[43m]\u001b[49m\u001b[43m)\u001b[49m\n",
      "File \u001b[0;32m~/miniconda3/envs/celloracle_env/lib/python3.8/site-packages/numpy/core/numerictypes.py:652\u001b[0m, in \u001b[0;36mfind_common_type\u001b[0;34m(array_types, scalar_types)\u001b[0m\n\u001b[1;32m    649\u001b[0m array_types \u001b[38;5;241m=\u001b[39m [dtype(x) \u001b[38;5;28;01mfor\u001b[39;00m x \u001b[38;5;129;01min\u001b[39;00m array_types]\n\u001b[1;32m    650\u001b[0m scalar_types \u001b[38;5;241m=\u001b[39m [dtype(x) \u001b[38;5;28;01mfor\u001b[39;00m x \u001b[38;5;129;01min\u001b[39;00m scalar_types]\n\u001b[0;32m--> 652\u001b[0m maxa \u001b[38;5;241m=\u001b[39m \u001b[43m_can_coerce_all\u001b[49m\u001b[43m(\u001b[49m\u001b[43marray_types\u001b[49m\u001b[43m)\u001b[49m\n\u001b[1;32m    653\u001b[0m maxsc \u001b[38;5;241m=\u001b[39m _can_coerce_all(scalar_types)\n\u001b[1;32m    655\u001b[0m \u001b[38;5;28;01mif\u001b[39;00m maxa \u001b[38;5;129;01mis\u001b[39;00m \u001b[38;5;28;01mNone\u001b[39;00m:\n",
      "File \u001b[0;32m~/miniconda3/envs/celloracle_env/lib/python3.8/site-packages/numpy/core/numerictypes.py:582\u001b[0m, in \u001b[0;36m_can_coerce_all\u001b[0;34m(dtypelist, start)\u001b[0m\n\u001b[1;32m    580\u001b[0m \u001b[38;5;28;01mwhile\u001b[39;00m thisind \u001b[38;5;241m<\u001b[39m __len_test_types:\n\u001b[1;32m    581\u001b[0m     newdtype \u001b[38;5;241m=\u001b[39m dtype(__test_types[thisind])\n\u001b[0;32m--> 582\u001b[0m     numcoerce \u001b[38;5;241m=\u001b[39m \u001b[38;5;28mlen\u001b[39m([x \u001b[38;5;28;01mfor\u001b[39;00m x \u001b[38;5;129;01min\u001b[39;00m dtypelist \u001b[38;5;28;01mif\u001b[39;00m newdtype \u001b[38;5;241m>\u001b[39m\u001b[38;5;241m=\u001b[39m x])\n\u001b[1;32m    583\u001b[0m     \u001b[38;5;28;01mif\u001b[39;00m numcoerce \u001b[38;5;241m==\u001b[39m N:\n\u001b[1;32m    584\u001b[0m         \u001b[38;5;28;01mreturn\u001b[39;00m newdtype\n",
      "File \u001b[0;32m~/miniconda3/envs/celloracle_env/lib/python3.8/site-packages/numpy/core/numerictypes.py:582\u001b[0m, in \u001b[0;36m<listcomp>\u001b[0;34m(.0)\u001b[0m\n\u001b[1;32m    580\u001b[0m \u001b[38;5;28;01mwhile\u001b[39;00m thisind \u001b[38;5;241m<\u001b[39m __len_test_types:\n\u001b[1;32m    581\u001b[0m     newdtype \u001b[38;5;241m=\u001b[39m dtype(__test_types[thisind])\n\u001b[0;32m--> 582\u001b[0m     numcoerce \u001b[38;5;241m=\u001b[39m \u001b[38;5;28mlen\u001b[39m([x \u001b[38;5;28;01mfor\u001b[39;00m x \u001b[38;5;129;01min\u001b[39;00m dtypelist \u001b[38;5;28;01mif\u001b[39;00m \u001b[43mnewdtype\u001b[49m\u001b[43m \u001b[49m\u001b[38;5;241;43m>\u001b[39;49m\u001b[38;5;241;43m=\u001b[39;49m\u001b[43m \u001b[49m\u001b[43mx\u001b[49m])\n\u001b[1;32m    583\u001b[0m     \u001b[38;5;28;01mif\u001b[39;00m numcoerce \u001b[38;5;241m==\u001b[39m N:\n\u001b[1;32m    584\u001b[0m         \u001b[38;5;28;01mreturn\u001b[39;00m newdtype\n",
      "\u001b[0;31mKeyboardInterrupt\u001b[0m: "
     ]
    }
   ],
   "source": [
    "time_corr_all = list()\n",
    "gene_time_corr_all = list()\n",
    "gene_velo_corr_all = list()\n",
    "AUC_GRN_result = list()\n",
    "\n",
    "for adata_name in files:\n",
    "    address = os.getcwd() + '/RegVelo_datasets/dyngen_simulation/' + adata_name\n",
    "    \n",
    "    adata = sc.read_h5ad(address)\n",
    "    adata_raw = adata.copy()\n",
    "    csgn = csgn_groundtruth(adata)\n",
    "    adata.uns[\"csgn\"] = csgn\n",
    "\n",
    "    adata.X = adata.X.copy()\n",
    "    adata.layers[\"spliced\"] = adata.layers[\"counts_spliced\"].copy()\n",
    "    adata.layers[\"unspliced\"] = adata.layers[\"counts_unspliced\"].copy()\n",
    "\n",
    "\n",
    "    scv.pp.filter_and_normalize(adata, min_shared_counts=10)\n",
    "    sc.tl.pca(adata)\n",
    "    sc.pp.neighbors(adata, n_neighbors=30, n_pcs=30)\n",
    "    scv.pp.moments(adata)\n",
    "\n",
    "    adata.X = np.log1p(adata.X.copy())\n",
    "\n",
    "\n",
    "    #sc.tl.leiden(adata)\n",
    "    adata_raw.obs[\"cluster\"] = adata.obs[\"leiden\"].copy()\n",
    "    adata_raw.obsm[\"X_pca\"] = adata.obsm[\"X_pca\"].copy()\n",
    "    adata_raw.layers[\"spliced\"] = adata_raw.layers[\"counts_spliced\"].copy()\n",
    "    adata_raw.layers[\"unspliced\"] = adata_raw.layers[\"counts_unspliced\"].copy()\n",
    "\n",
    "\n",
    "    adata = preprocess_data(adata)\n",
    "    adata = sanity_check(adata)\n",
    "    \n",
    "    adata.uns[\"Ms\"] = adata.layers[\"Ms\"]\n",
    "    adata.uns[\"Mu\"] = adata.layers[\"Mu\"]\n",
    "\n",
    "    W = adata.uns[\"skeleton\"].copy()\n",
    "    W = torch.tensor(np.array(W)).int()\n",
    "    W = torch.ones(W.shape)\n",
    "    intersection = list(set(adata.uns[\"regulators\"]).intersection(adata.uns[\"targets\"]))\n",
    "\n",
    "    for i in intersection:\n",
    "        index1 = [j == i for j in adata.uns[\"regulators\"]]\n",
    "        index2 = [j == i for j in adata.uns[\"targets\"]]\n",
    "        W[index1,index2] = 0\n",
    "\n",
    "    ## We ignore the cell label information and assume all cells is the same label\n",
    "    adata.obs[\"clusters\"] = \"1\"\n",
    "    sp.tl.estimate_jacobian(adata,n_top_genes = adata.shape[1],min_shared_counts=0)\n",
    "    weight_quantile=.5\n",
    "    genes = list(adata.var_names)\n",
    "    n = len(genes)\n",
    "    A = adata.uns['average_jac'][\"1\"][0][0:n, n:].copy().T\n",
    "    A = A.T\n",
    "\n",
    "    # In[72]:\n",
    "    score6 = csgn_benchmark2(torch.tensor(np.array(A)),W,adata.uns[\"csgn\"])\n",
    "\n",
    "    ### Visualize the Violin Plots\n",
    "    AUC_GRN_result.append(np.mean(score6))\n",
    "    print(np.mean(score6))\n",
    "    # In[79]:\n",
    "\n",
    "    df = pd.DataFrame(AUC_GRN_result)\n",
    "    df.columns = [\"spliceAJ\"]\n",
    "    \n",
    "    if SAVE_DATASETS:\n",
    "        df.to_csv(DATA_DIR / 'simulation' / 'dyngen_results' /  'AUROC_res_all_spliceJAC.csv')\n",
    "\n",
    "    print(\"Done \" + adata_name + \"!\")"
   ]
  }
 ],
 "metadata": {
  "kernelspec": {
   "display_name": "Python [conda env:celloracle_env]",
   "language": "python",
   "name": "conda-env-celloracle_env-py"
  },
  "language_info": {
   "codemirror_mode": {
    "name": "ipython",
    "version": 3
   },
   "file_extension": ".py",
   "mimetype": "text/x-python",
   "name": "python",
   "nbconvert_exporter": "python",
   "pygments_lexer": "ipython3",
   "version": "3.8.19"
  }
 },
 "nbformat": 4,
 "nbformat_minor": 5
}
