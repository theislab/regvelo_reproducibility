{
 "cells": [
  {
   "cell_type": "markdown",
   "id": "9b5683f0-b585-4173-9712-fc80bb850243",
   "metadata": {},
   "source": [
    "# Simulate a toy GRN to benchmark velocity, latent time and GRN inference"
   ]
  },
  {
   "cell_type": "markdown",
   "id": "7757dfc2-36bb-4d99-aa2e-a503fe9c7a87",
   "metadata": {},
   "source": [
    "## Library imports"
   ]
  },
  {
   "cell_type": "code",
   "execution_count": null,
   "id": "b6cc7442-1278-45c4-8281-4c8fe1bff713",
   "metadata": {},
   "outputs": [],
   "source": [
    "from tqdm import tqdm\n",
    "\n",
    "import torch\n",
    "import torchsde\n",
    "\n",
    "import anndata as ad\n",
    "from anndata import AnnData\n",
    "\n",
    "from rgv_tools import DATA_DIR\n",
    "from rgv_tools.datasets import VelocityEncoder\n",
    "from rgv_tools.datasets._simulate import get_sde_parameters"
   ]
  },
  {
   "cell_type": "markdown",
   "id": "20a05faa-564b-4250-af7f-69322211d4a9",
   "metadata": {},
   "source": [
    "## General settings"
   ]
  },
  {
   "cell_type": "code",
   "execution_count": null,
   "id": "6d37b365-2527-4278-ac25-cd9e000a8138",
   "metadata": {
    "lines_to_next_cell": 2
   },
   "outputs": [],
   "source": [
    "SAVE_DATA = True\n",
    "if SAVE_DATA:\n",
    "    (DATA_DIR / \"toy_grn\" / \"raw\").mkdir(parents=True, exist_ok=True)"
   ]
  },
  {
   "cell_type": "markdown",
   "id": "a965dc8e",
   "metadata": {},
   "source": [
    "## Constants"
   ]
  },
  {
   "cell_type": "code",
   "execution_count": null,
   "id": "e888af9f",
   "metadata": {},
   "outputs": [],
   "source": [
    "N_SIMULATIONS = 100"
   ]
  },
  {
   "cell_type": "markdown",
   "id": "eeddbaad",
   "metadata": {
    "lines_to_next_cell": 2
   },
   "source": [
    "## Function definitions"
   ]
  },
  {
   "cell_type": "code",
   "execution_count": null,
   "id": "3499d7a7",
   "metadata": {},
   "outputs": [],
   "source": [
    "def uns_merge(uns_list):\n",
    "    \"\"\"Define merge strategie for `.uns` when concatenating AnnData objects.\"\"\"\n",
    "    return dict(zip(map(str, range(len(uns_list))), uns_list))"
   ]
  },
  {
   "cell_type": "markdown",
   "id": "cda0e419",
   "metadata": {},
   "source": [
    "## Data generation"
   ]
  },
  {
   "cell_type": "code",
   "execution_count": null,
   "id": "85f72c52",
   "metadata": {},
   "outputs": [],
   "source": [
    "adatas = []"
   ]
  },
  {
   "cell_type": "code",
   "execution_count": null,
   "id": "3028812e",
   "metadata": {},
   "outputs": [],
   "source": [
    "for sim_idx in tqdm(range(N_SIMULATIONS)):\n",
    "    torch.cuda.empty_cache()\n",
    "    torch.manual_seed(sim_idx)\n",
    "\n",
    "    K, n, h, beta, gamma, t = get_sde_parameters(n_obs=1500, n_vars=6, seed=sim_idx)\n",
    "    alpha_b = torch.zeros((6,), dtype=torch.float32)\n",
    "    sde = VelocityEncoder(K=K, n=n, h=h, alpha_b=alpha_b, beta=beta, gamma=gamma)\n",
    "\n",
    "    ## set up G batches, Each G represent a module (a target gene centerred regulon)\n",
    "    ## infer the observe gene expression through ODE solver based on x0, t, and velocity_encoder\n",
    "    y0 = torch.tensor([1.0, 0, 1.0, 0, 1.0, 0] + torch.zeros(6).abs().tolist()).reshape(1, -1)\n",
    "    ys = torchsde.sdeint(sde, y0, t, method=\"euler\")\n",
    "\n",
    "    unspliced = torch.clip(ys[:, 0, :6], 0).numpy()\n",
    "    spliced = torch.clip(ys[:, 0, 6:], 0).numpy()\n",
    "\n",
    "    adata = AnnData(spliced)\n",
    "    adata.obs_names = \"cell_\" + adata.obs_names + f\"-simulation_{sim_idx}\"\n",
    "    adata.var_names = \"gene_\" + adata.var_names\n",
    "\n",
    "    adata.layers[\"unspliced\"] = unspliced\n",
    "    adata.layers[\"Mu\"] = unspliced\n",
    "\n",
    "    adata.layers[\"spliced\"] = spliced\n",
    "    adata.layers[\"Ms\"] = spliced\n",
    "\n",
    "    beta = beta.numpy()\n",
    "    gamma = gamma.numpy()\n",
    "    adata.layers[\"true_velocity\"] = unspliced * beta - spliced * gamma\n",
    "\n",
    "    adata.uns = {\n",
    "        \"true_alpha_b\": alpha_b.numpy(),\n",
    "        \"true_beta\": beta,\n",
    "        \"true_gamma\": gamma,\n",
    "        \"true_K\": K.numpy(),\n",
    "        \"true_n\": n.numpy(),\n",
    "        \"true_h\": h.numpy(),\n",
    "    }\n",
    "\n",
    "    adata.obs[\"true_time\"] = t\n",
    "\n",
    "    adatas.append(adata)\n",
    "    del adata"
   ]
  },
  {
   "cell_type": "code",
   "execution_count": null,
   "id": "4a47933f",
   "metadata": {},
   "outputs": [],
   "source": [
    "adata = ad.concat(adatas, label=\"dataset\", uns_merge=uns_merge)\n",
    "adata"
   ]
  },
  {
   "cell_type": "markdown",
   "id": "dd58f46d",
   "metadata": {},
   "source": [
    "## Data saving"
   ]
  },
  {
   "cell_type": "code",
   "execution_count": null,
   "id": "0dd21d6f",
   "metadata": {},
   "outputs": [],
   "source": [
    "if SAVE_DATA:\n",
    "    adata.write_zarr(DATA_DIR / \"toy_grn\" / \"raw\" / \"adata.zarr\")"
   ]
  }
 ],
 "metadata": {
  "kernelspec": {
   "display_name": "regvelo-py310",
   "language": "python",
   "name": "python3"
  },
  "language_info": {
   "codemirror_mode": {
    "name": "ipython",
    "version": 3
   },
   "file_extension": ".py",
   "mimetype": "text/x-python",
   "name": "python",
   "nbconvert_exporter": "python",
   "pygments_lexer": "ipython3",
   "version": "3.10.15"
  }
 },
 "nbformat": 4,
 "nbformat_minor": 5
}
