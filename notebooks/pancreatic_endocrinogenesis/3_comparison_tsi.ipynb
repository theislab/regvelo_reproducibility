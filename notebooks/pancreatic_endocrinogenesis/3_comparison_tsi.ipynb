{
 "cells": [
  {
   "cell_type": "markdown",
   "id": "e2635f7a-babf-4988-bce4-c5ff579c0c58",
   "metadata": {},
   "source": [
    "# Performance comparison of inference on pancreatic endocrine dataset\n",
    "\n",
    "Notebook for comparison of terminal state identification"
   ]
  },
  {
   "cell_type": "markdown",
   "id": "9e57de05-c5b9-43ec-b59f-63f61a985f13",
   "metadata": {},
   "source": [
    "## Library imports"
   ]
  },
  {
   "cell_type": "code",
   "execution_count": 1,
   "id": "6e13314d-179c-4afc-9446-636a81cfcc8d",
   "metadata": {},
   "outputs": [
    {
     "name": "stderr",
     "output_type": "stream",
     "text": [
      "/home/icb/weixu.wang/miniconda3/envs/regvelo_test/lib/python3.10/site-packages/anndata/utils.py:429: FutureWarning: Importing read_csv from `anndata` is deprecated. Import anndata.io.read_csv instead.\n",
      "  warnings.warn(msg, FutureWarning)\n",
      "/home/icb/weixu.wang/miniconda3/envs/regvelo_test/lib/python3.10/site-packages/anndata/utils.py:429: FutureWarning: Importing read_excel from `anndata` is deprecated. Import anndata.io.read_excel instead.\n",
      "  warnings.warn(msg, FutureWarning)\n",
      "/home/icb/weixu.wang/miniconda3/envs/regvelo_test/lib/python3.10/site-packages/anndata/utils.py:429: FutureWarning: Importing read_hdf from `anndata` is deprecated. Import anndata.io.read_hdf instead.\n",
      "  warnings.warn(msg, FutureWarning)\n",
      "/home/icb/weixu.wang/miniconda3/envs/regvelo_test/lib/python3.10/site-packages/anndata/utils.py:429: FutureWarning: Importing read_loom from `anndata` is deprecated. Import anndata.io.read_loom instead.\n",
      "  warnings.warn(msg, FutureWarning)\n",
      "/home/icb/weixu.wang/miniconda3/envs/regvelo_test/lib/python3.10/site-packages/anndata/utils.py:429: FutureWarning: Importing read_mtx from `anndata` is deprecated. Import anndata.io.read_mtx instead.\n",
      "  warnings.warn(msg, FutureWarning)\n",
      "/home/icb/weixu.wang/miniconda3/envs/regvelo_test/lib/python3.10/site-packages/anndata/utils.py:429: FutureWarning: Importing read_text from `anndata` is deprecated. Import anndata.io.read_text instead.\n",
      "  warnings.warn(msg, FutureWarning)\n",
      "/home/icb/weixu.wang/miniconda3/envs/regvelo_test/lib/python3.10/site-packages/anndata/utils.py:429: FutureWarning: Importing read_umi_tools from `anndata` is deprecated. Import anndata.io.read_umi_tools instead.\n",
      "  warnings.warn(msg, FutureWarning)\n"
     ]
    }
   ],
   "source": [
    "import numpy as np\n",
    "import pandas as pd\n",
    "from scipy.stats import ttest_ind\n",
    "\n",
    "import matplotlib.pyplot as plt\n",
    "import mplscience\n",
    "import seaborn as sns\n",
    "from matplotlib import rcParams\n",
    "\n",
    "import cellrank as cr\n",
    "import scanpy as sc\n",
    "import scvelo as scv\n",
    "\n",
    "from rgv_tools import DATA_DIR, FIG_DIR\n",
    "from rgv_tools.benchmarking._tsi import plot_TSI, TSI_score\n",
    "from rgv_tools.core import METHOD_PALETTE_TSI\n",
    "from rgv_tools.plotting._significance import add_significance, get_significance"
   ]
  },
  {
   "cell_type": "markdown",
   "id": "9b73f93b-0595-4a2a-919c-db7ffad26c29",
   "metadata": {},
   "source": [
    "## General settings"
   ]
  },
  {
   "cell_type": "code",
   "execution_count": 2,
   "id": "0f455fec-d880-497c-832f-47b72a4bae55",
   "metadata": {},
   "outputs": [],
   "source": [
    "plt.rcParams[\"svg.fonttype\"] = \"none\"\n",
    "sns.reset_defaults()\n",
    "sns.reset_orig()\n",
    "scv.settings.set_figure_params(\"scvelo\", dpi_save=400, dpi=80, transparent=True, fontsize=14, color_map=\"viridis\")"
   ]
  },
  {
   "cell_type": "markdown",
   "id": "fb2b2a95-96d7-4d48-bfbe-0daa2e7793be",
   "metadata": {},
   "source": [
    "## Constants"
   ]
  },
  {
   "cell_type": "code",
   "execution_count": 3,
   "id": "a464e97a-3e24-466e-b7d5-0fde06eb2b7d",
   "metadata": {},
   "outputs": [],
   "source": [
    "DATASET = \"pancreatic_endocrine\"\n",
    "\n",
    "SAVE_FIGURES = False\n",
    "if SAVE_FIGURES:\n",
    "    (FIG_DIR / DATASET).mkdir(parents=True, exist_ok=True)\n",
    "\n",
    "FIGURE_FORMATE = \"svg\""
   ]
  },
  {
   "cell_type": "code",
   "execution_count": 4,
   "id": "8ac76a51-5fa6-4561-911b-901b85cf1478",
   "metadata": {},
   "outputs": [],
   "source": [
    "VELOCITY_METHODS = [\"regvelo\", \"scvelo\", \"velovi\"]"
   ]
  },
  {
   "cell_type": "code",
   "execution_count": 5,
   "id": "a262380a-a18e-498a-b908-bc7e63111bf5",
   "metadata": {},
   "outputs": [],
   "source": [
    "TERMINAL_STATES = [\"Alpha\", \"Beta\", \"Delta\", \"Epsilon\"]"
   ]
  },
  {
   "cell_type": "markdown",
   "id": "ff79b45c-4b4e-418d-9e0d-bc16b8b05b27",
   "metadata": {},
   "source": [
    "## Data loading"
   ]
  },
  {
   "cell_type": "code",
   "execution_count": 6,
   "id": "cb4de75f-d7fa-4445-ae99-66c442232b13",
   "metadata": {},
   "outputs": [
    {
     "data": {
      "application/vnd.jupyter.widget-view+json": {
       "model_id": "50e3c97c104140a3be0f6ef7ad05727f",
       "version_major": 2,
       "version_minor": 0
      },
      "text/plain": [
       "  0%|          | 0/3696 [00:00<?, ?cell/s]"
      ]
     },
     "metadata": {},
     "output_type": "display_data"
    },
    {
     "data": {
      "application/vnd.jupyter.widget-view+json": {
       "model_id": "4f5b4471f3914be591ab3f03b39eba8a",
       "version_major": 2,
       "version_minor": 0
      },
      "text/plain": [
       "  0%|          | 0/3696 [00:00<?, ?cell/s]"
      ]
     },
     "metadata": {},
     "output_type": "display_data"
    },
    {
     "data": {
      "application/vnd.jupyter.widget-view+json": {
       "model_id": "60398141be974874b691a38fc7d008d2",
       "version_major": 2,
       "version_minor": 0
      },
      "text/plain": [
       "  0%|          | 0/3696 [00:00<?, ?cell/s]"
      ]
     },
     "metadata": {},
     "output_type": "display_data"
    },
    {
     "data": {
      "application/vnd.jupyter.widget-view+json": {
       "model_id": "2e9325f3286240d0947c52768bdd09b2",
       "version_major": 2,
       "version_minor": 0
      },
      "text/plain": [
       "  0%|          | 0/3696 [00:00<?, ?cell/s]"
      ]
     },
     "metadata": {},
     "output_type": "display_data"
    },
    {
     "data": {
      "application/vnd.jupyter.widget-view+json": {
       "model_id": "2a8e144d2c3a4f4bac882fbcb1f7b4fb",
       "version_major": 2,
       "version_minor": 0
      },
      "text/plain": [
       "  0%|          | 0/3696 [00:00<?, ?cell/s]"
      ]
     },
     "metadata": {},
     "output_type": "display_data"
    },
    {
     "data": {
      "application/vnd.jupyter.widget-view+json": {
       "model_id": "905915c75246442693fa63b2c6039932",
       "version_major": 2,
       "version_minor": 0
      },
      "text/plain": [
       "  0%|          | 0/3696 [00:00<?, ?cell/s]"
      ]
     },
     "metadata": {},
     "output_type": "display_data"
    }
   ],
   "source": [
    "ks = {}\n",
    "\n",
    "for method in VELOCITY_METHODS:\n",
    "    adata = sc.read_h5ad(DATA_DIR / DATASET / \"processed\" / f\"adata_run_{method}.h5ad\")\n",
    "    ## construct graph\n",
    "    vk = cr.kernels.VelocityKernel(adata)\n",
    "    vk.compute_transition_matrix()\n",
    "    ck = cr.kernels.ConnectivityKernel(adata).compute_transition_matrix()\n",
    "\n",
    "    kernel = 0.8 * vk + 0.2 * ck\n",
    "    ks[method] = kernel"
   ]
  },
  {
   "cell_type": "markdown",
   "id": "1d760dfa-6745-45ee-a0f6-42a138c865df",
   "metadata": {},
   "source": [
    "## Terminal state identification"
   ]
  },
  {
   "cell_type": "code",
   "execution_count": 7,
   "id": "3b41e376-4d22-47ad-8de1-5be45719bda0",
   "metadata": {},
   "outputs": [],
   "source": [
    "thresholds = np.linspace(0.1, 1, 21)[:20]\n",
    "estimators = {}\n",
    "tsi = {}"
   ]
  },
  {
   "cell_type": "code",
   "execution_count": 8,
   "id": "1b524666-5d93-4a1d-bbd4-92a5042083a8",
   "metadata": {},
   "outputs": [
    {
     "name": "stdout",
     "output_type": "stream",
     "text": [
      "WARNING: Found only one macrostate, making it the singular terminal state\n",
      "WARNING: Requested more macrostates `3` than available Schur vectors `2`. Recomputing the decomposition\n",
      "WARNING: Requested more macrostates `4` than available Schur vectors `3`. Recomputing the decomposition\n",
      "WARNING: Requested more macrostates `5` than available Schur vectors `4`. Recomputing the decomposition\n",
      "WARNING: Requested more macrostates `6` than available Schur vectors `5`. Recomputing the decomposition\n",
      "WARNING: Requested more macrostates `7` than available Schur vectors `6`. Recomputing the decomposition\n",
      "WARNING: Requested more macrostates `8` than available Schur vectors `7`. Recomputing the decomposition\n",
      "WARNING: Requested more macrostates `9` than available Schur vectors `8`. Recomputing the decomposition\n",
      "WARNING: Requested more macrostates `10` than available Schur vectors `9`. Recomputing the decomposition\n",
      "WARNING: Requested more macrostates `11` than available Schur vectors `10`. Recomputing the decomposition\n",
      "WARNING: Found only one macrostate, making it the singular terminal state\n",
      "WARNING: Found only one macrostate, making it the singular terminal state\n",
      "WARNING: Found only one macrostate, making it the singular terminal state\n",
      "WARNING: Found only one macrostate, making it the singular terminal state\n",
      "WARNING: Found only one macrostate, making it the singular terminal state\n",
      "WARNING: Found only one macrostate, making it the singular terminal state\n",
      "WARNING: Found only one macrostate, making it the singular terminal state\n",
      "WARNING: Found only one macrostate, making it the singular terminal state\n",
      "WARNING: Found only one macrostate, making it the singular terminal state\n",
      "WARNING: Found only one macrostate, making it the singular terminal state\n",
      "WARNING: Found only one macrostate, making it the singular terminal state\n",
      "WARNING: Found only one macrostate, making it the singular terminal state\n",
      "WARNING: Found only one macrostate, making it the singular terminal state\n",
      "WARNING: Found only one macrostate, making it the singular terminal state\n",
      "WARNING: Found only one macrostate, making it the singular terminal state\n",
      "WARNING: Found only one macrostate, making it the singular terminal state\n",
      "WARNING: Found only one macrostate, making it the singular terminal state\n",
      "WARNING: Found only one macrostate, making it the singular terminal state\n",
      "WARNING: Found only one macrostate, making it the singular terminal state\n",
      "WARNING: Found only one macrostate, making it the singular terminal state\n",
      "WARNING: Requested more macrostates `3` than available Schur vectors `2`. Recomputing the decomposition\n",
      "WARNING: Requested more macrostates `4` than available Schur vectors `3`. Recomputing the decomposition\n",
      "WARNING: Requested more macrostates `5` than available Schur vectors `4`. Recomputing the decomposition\n",
      "WARNING: Requested more macrostates `6` than available Schur vectors `5`. Recomputing the decomposition\n",
      "WARNING: Requested more macrostates `7` than available Schur vectors `6`. Recomputing the decomposition\n",
      "WARNING: Requested more macrostates `8` than available Schur vectors `7`. Recomputing the decomposition\n",
      "WARNING: Unable to compute macrostates with `n_states=8` because it will split complex conjugate eigenvalues. Using `n_states=9`\n",
      "WARNING: The following terminal states have different number of cells than requested (30): {'Ductal_1': 22}\n",
      "WARNING: The following terminal states have different number of cells than requested (30): {'Ductal_1': 22}\n",
      "WARNING: Requested more macrostates `10` than available Schur vectors `9`. Recomputing the decomposition\n",
      "WARNING: Unable to compute macrostates with `n_states=10` because it will split complex conjugate eigenvalues. Using `n_states=11`\n",
      "WARNING: The following terminal states have different number of cells than requested (30): {'Ductal_2': 23}\n",
      "WARNING: The following terminal states have different number of cells than requested (30): {'Ductal_2': 23}\n",
      "WARNING: Found only one macrostate, making it the singular terminal state\n",
      "WARNING: Unable to compute macrostates with `n_states=8` because it will split complex conjugate eigenvalues. Using `n_states=9`\n",
      "WARNING: The following terminal states have different number of cells than requested (30): {'Ductal_1': 22}\n",
      "WARNING: The following terminal states have different number of cells than requested (30): {'Ductal_1': 22}\n",
      "WARNING: Unable to compute macrostates with `n_states=10` because it will split complex conjugate eigenvalues. Using `n_states=11`\n",
      "WARNING: The following terminal states have different number of cells than requested (30): {'Ductal_2': 23}\n",
      "WARNING: The following terminal states have different number of cells than requested (30): {'Ductal_2': 23}\n",
      "WARNING: Found only one macrostate, making it the singular terminal state\n",
      "WARNING: Unable to compute macrostates with `n_states=8` because it will split complex conjugate eigenvalues. Using `n_states=9`\n",
      "WARNING: The following terminal states have different number of cells than requested (30): {'Ductal_1': 22}\n",
      "WARNING: The following terminal states have different number of cells than requested (30): {'Ductal_1': 22}\n",
      "WARNING: Unable to compute macrostates with `n_states=10` because it will split complex conjugate eigenvalues. Using `n_states=11`\n",
      "WARNING: The following terminal states have different number of cells than requested (30): {'Ductal_2': 23}\n",
      "WARNING: The following terminal states have different number of cells than requested (30): {'Ductal_2': 23}\n",
      "WARNING: Found only one macrostate, making it the singular terminal state\n",
      "WARNING: Unable to compute macrostates with `n_states=8` because it will split complex conjugate eigenvalues. Using `n_states=9`\n",
      "WARNING: The following terminal states have different number of cells than requested (30): {'Ductal_1': 22}\n",
      "WARNING: The following terminal states have different number of cells than requested (30): {'Ductal_1': 22}\n",
      "WARNING: Unable to compute macrostates with `n_states=10` because it will split complex conjugate eigenvalues. Using `n_states=11`\n",
      "WARNING: The following terminal states have different number of cells than requested (30): {'Ductal_2': 23}\n",
      "WARNING: The following terminal states have different number of cells than requested (30): {'Ductal_2': 23}\n",
      "WARNING: Found only one macrostate, making it the singular terminal state\n",
      "WARNING: Unable to compute macrostates with `n_states=8` because it will split complex conjugate eigenvalues. Using `n_states=9`\n",
      "WARNING: The following terminal states have different number of cells than requested (30): {'Ductal_1': 22}\n",
      "WARNING: The following terminal states have different number of cells than requested (30): {'Ductal_1': 22}\n",
      "WARNING: Unable to compute macrostates with `n_states=10` because it will split complex conjugate eigenvalues. Using `n_states=11`\n",
      "WARNING: The following terminal states have different number of cells than requested (30): {'Ductal_2': 23}\n",
      "WARNING: The following terminal states have different number of cells than requested (30): {'Ductal_2': 23}\n",
      "WARNING: Found only one macrostate, making it the singular terminal state\n",
      "WARNING: Unable to compute macrostates with `n_states=8` because it will split complex conjugate eigenvalues. Using `n_states=9`\n",
      "WARNING: The following terminal states have different number of cells than requested (30): {'Ductal_1': 22}\n",
      "WARNING: The following terminal states have different number of cells than requested (30): {'Ductal_1': 22}\n",
      "WARNING: Unable to compute macrostates with `n_states=10` because it will split complex conjugate eigenvalues. Using `n_states=11`\n",
      "WARNING: The following terminal states have different number of cells than requested (30): {'Ductal_2': 23}\n",
      "WARNING: The following terminal states have different number of cells than requested (30): {'Ductal_2': 23}\n",
      "WARNING: Found only one macrostate, making it the singular terminal state\n",
      "WARNING: Unable to compute macrostates with `n_states=8` because it will split complex conjugate eigenvalues. Using `n_states=9`\n",
      "WARNING: The following terminal states have different number of cells than requested (30): {'Ductal_1': 22}\n",
      "WARNING: The following terminal states have different number of cells than requested (30): {'Ductal_1': 22}\n",
      "WARNING: Unable to compute macrostates with `n_states=10` because it will split complex conjugate eigenvalues. Using `n_states=11`\n",
      "WARNING: The following terminal states have different number of cells than requested (30): {'Ductal_2': 23}\n",
      "WARNING: The following terminal states have different number of cells than requested (30): {'Ductal_2': 23}\n",
      "WARNING: Found only one macrostate, making it the singular terminal state\n",
      "WARNING: Unable to compute macrostates with `n_states=8` because it will split complex conjugate eigenvalues. Using `n_states=9`\n",
      "WARNING: The following terminal states have different number of cells than requested (30): {'Ductal_1': 22}\n",
      "WARNING: The following terminal states have different number of cells than requested (30): {'Ductal_1': 22}\n",
      "WARNING: Unable to compute macrostates with `n_states=10` because it will split complex conjugate eigenvalues. Using `n_states=11`\n",
      "WARNING: The following terminal states have different number of cells than requested (30): {'Ductal_2': 23}\n",
      "WARNING: The following terminal states have different number of cells than requested (30): {'Ductal_2': 23}\n",
      "WARNING: Found only one macrostate, making it the singular terminal state\n",
      "WARNING: Unable to compute macrostates with `n_states=8` because it will split complex conjugate eigenvalues. Using `n_states=9`\n",
      "WARNING: The following terminal states have different number of cells than requested (30): {'Ductal_1': 22}\n",
      "WARNING: The following terminal states have different number of cells than requested (30): {'Ductal_1': 22}\n",
      "WARNING: Unable to compute macrostates with `n_states=10` because it will split complex conjugate eigenvalues. Using `n_states=11`\n",
      "WARNING: The following terminal states have different number of cells than requested (30): {'Ductal_2': 23}\n",
      "WARNING: The following terminal states have different number of cells than requested (30): {'Ductal_2': 23}\n",
      "WARNING: Found only one macrostate, making it the singular terminal state\n",
      "WARNING: Unable to compute macrostates with `n_states=8` because it will split complex conjugate eigenvalues. Using `n_states=9`\n",
      "WARNING: The following terminal states have different number of cells than requested (30): {'Ductal_1': 22}\n",
      "WARNING: The following terminal states have different number of cells than requested (30): {'Ductal_1': 22}\n",
      "WARNING: Unable to compute macrostates with `n_states=10` because it will split complex conjugate eigenvalues. Using `n_states=11`\n",
      "WARNING: The following terminal states have different number of cells than requested (30): {'Ductal_2': 23}\n",
      "WARNING: The following terminal states have different number of cells than requested (30): {'Ductal_2': 23}\n",
      "WARNING: Found only one macrostate, making it the singular terminal state\n",
      "WARNING: Unable to compute macrostates with `n_states=8` because it will split complex conjugate eigenvalues. Using `n_states=9`\n",
      "WARNING: The following terminal states have different number of cells than requested (30): {'Ductal_1': 22}\n",
      "WARNING: The following terminal states have different number of cells than requested (30): {'Ductal_1': 22}\n",
      "WARNING: Unable to compute macrostates with `n_states=10` because it will split complex conjugate eigenvalues. Using `n_states=11`\n",
      "WARNING: The following terminal states have different number of cells than requested (30): {'Ductal_2': 23}\n",
      "WARNING: The following terminal states have different number of cells than requested (30): {'Ductal_2': 23}\n",
      "WARNING: Found only one macrostate, making it the singular terminal state\n",
      "WARNING: Unable to compute macrostates with `n_states=8` because it will split complex conjugate eigenvalues. Using `n_states=9`\n",
      "WARNING: The following terminal states have different number of cells than requested (30): {'Ductal_1': 22}\n",
      "WARNING: The following terminal states have different number of cells than requested (30): {'Ductal_1': 22}\n",
      "WARNING: Unable to compute macrostates with `n_states=10` because it will split complex conjugate eigenvalues. Using `n_states=11`\n",
      "WARNING: The following terminal states have different number of cells than requested (30): {'Ductal_2': 23}\n",
      "WARNING: The following terminal states have different number of cells than requested (30): {'Ductal_2': 23}\n",
      "WARNING: Found only one macrostate, making it the singular terminal state\n",
      "WARNING: Unable to compute macrostates with `n_states=8` because it will split complex conjugate eigenvalues. Using `n_states=9`\n",
      "WARNING: The following terminal states have different number of cells than requested (30): {'Ductal_1': 22}\n",
      "WARNING: The following terminal states have different number of cells than requested (30): {'Ductal_1': 22}\n",
      "WARNING: Unable to compute macrostates with `n_states=10` because it will split complex conjugate eigenvalues. Using `n_states=11`\n",
      "WARNING: The following terminal states have different number of cells than requested (30): {'Ductal_2': 23}\n",
      "WARNING: The following terminal states have different number of cells than requested (30): {'Ductal_2': 23}\n",
      "WARNING: Found only one macrostate, making it the singular terminal state\n",
      "WARNING: Unable to compute macrostates with `n_states=8` because it will split complex conjugate eigenvalues. Using `n_states=9`\n",
      "WARNING: The following terminal states have different number of cells than requested (30): {'Ductal_1': 22}\n",
      "WARNING: The following terminal states have different number of cells than requested (30): {'Ductal_1': 22}\n",
      "WARNING: Unable to compute macrostates with `n_states=10` because it will split complex conjugate eigenvalues. Using `n_states=11`\n",
      "WARNING: The following terminal states have different number of cells than requested (30): {'Ductal_2': 23}\n",
      "WARNING: The following terminal states have different number of cells than requested (30): {'Ductal_2': 23}\n",
      "WARNING: Found only one macrostate, making it the singular terminal state\n",
      "WARNING: Unable to compute macrostates with `n_states=8` because it will split complex conjugate eigenvalues. Using `n_states=9`\n",
      "WARNING: The following terminal states have different number of cells than requested (30): {'Ductal_1': 22}\n",
      "WARNING: The following terminal states have different number of cells than requested (30): {'Ductal_1': 22}\n",
      "WARNING: Unable to compute macrostates with `n_states=10` because it will split complex conjugate eigenvalues. Using `n_states=11`\n",
      "WARNING: The following terminal states have different number of cells than requested (30): {'Ductal_2': 23}\n",
      "WARNING: The following terminal states have different number of cells than requested (30): {'Ductal_2': 23}\n",
      "WARNING: Found only one macrostate, making it the singular terminal state\n",
      "WARNING: Unable to compute macrostates with `n_states=8` because it will split complex conjugate eigenvalues. Using `n_states=9`\n",
      "WARNING: The following terminal states have different number of cells than requested (30): {'Ductal_1': 22}\n",
      "WARNING: The following terminal states have different number of cells than requested (30): {'Ductal_1': 22}\n",
      "WARNING: Unable to compute macrostates with `n_states=10` because it will split complex conjugate eigenvalues. Using `n_states=11`\n",
      "WARNING: The following terminal states have different number of cells than requested (30): {'Ductal_2': 23}\n",
      "WARNING: The following terminal states have different number of cells than requested (30): {'Ductal_2': 23}\n",
      "WARNING: Found only one macrostate, making it the singular terminal state\n",
      "WARNING: Unable to compute macrostates with `n_states=8` because it will split complex conjugate eigenvalues. Using `n_states=9`\n",
      "WARNING: The following terminal states have different number of cells than requested (30): {'Ductal_1': 22}\n",
      "WARNING: The following terminal states have different number of cells than requested (30): {'Ductal_1': 22}\n",
      "WARNING: Unable to compute macrostates with `n_states=10` because it will split complex conjugate eigenvalues. Using `n_states=11`\n",
      "WARNING: The following terminal states have different number of cells than requested (30): {'Ductal_2': 23}\n",
      "WARNING: The following terminal states have different number of cells than requested (30): {'Ductal_2': 23}\n",
      "WARNING: Found only one macrostate, making it the singular terminal state\n",
      "WARNING: Unable to compute macrostates with `n_states=8` because it will split complex conjugate eigenvalues. Using `n_states=9`\n",
      "WARNING: The following terminal states have different number of cells than requested (30): {'Ductal_1': 22}\n",
      "WARNING: The following terminal states have different number of cells than requested (30): {'Ductal_1': 22}\n",
      "WARNING: Unable to compute macrostates with `n_states=10` because it will split complex conjugate eigenvalues. Using `n_states=11`\n",
      "WARNING: The following terminal states have different number of cells than requested (30): {'Ductal_2': 23}\n",
      "WARNING: The following terminal states have different number of cells than requested (30): {'Ductal_2': 23}\n",
      "WARNING: Found only one macrostate, making it the singular terminal state\n",
      "WARNING: Unable to compute macrostates with `n_states=8` because it will split complex conjugate eigenvalues. Using `n_states=9`\n",
      "WARNING: The following terminal states have different number of cells than requested (30): {'Ductal_1': 22}\n",
      "WARNING: The following terminal states have different number of cells than requested (30): {'Ductal_1': 22}\n",
      "WARNING: Unable to compute macrostates with `n_states=10` because it will split complex conjugate eigenvalues. Using `n_states=11`\n",
      "WARNING: The following terminal states have different number of cells than requested (30): {'Ductal_2': 23}\n",
      "WARNING: The following terminal states have different number of cells than requested (30): {'Ductal_2': 23}\n",
      "WARNING: Found only one macrostate, making it the singular terminal state\n",
      "WARNING: Unable to compute macrostates with `n_states=8` because it will split complex conjugate eigenvalues. Using `n_states=9`\n",
      "WARNING: The following terminal states have different number of cells than requested (30): {'Ductal_1': 22}\n",
      "WARNING: The following terminal states have different number of cells than requested (30): {'Ductal_1': 22}\n",
      "WARNING: Unable to compute macrostates with `n_states=10` because it will split complex conjugate eigenvalues. Using `n_states=11`\n",
      "WARNING: The following terminal states have different number of cells than requested (30): {'Ductal_2': 23}\n",
      "WARNING: The following terminal states have different number of cells than requested (30): {'Ductal_2': 23}\n",
      "WARNING: Found only one macrostate, making it the singular terminal state\n",
      "WARNING: Requested more macrostates `3` than available Schur vectors `2`. Recomputing the decomposition\n",
      "WARNING: Requested more macrostates `4` than available Schur vectors `3`. Recomputing the decomposition\n",
      "WARNING: Requested more macrostates `5` than available Schur vectors `4`. Recomputing the decomposition\n",
      "WARNING: Requested more macrostates `6` than available Schur vectors `5`. Recomputing the decomposition\n",
      "WARNING: Requested more macrostates `7` than available Schur vectors `6`. Recomputing the decomposition\n",
      "WARNING: Requested more macrostates `8` than available Schur vectors `7`. Recomputing the decomposition\n",
      "WARNING: Requested more macrostates `9` than available Schur vectors `8`. Recomputing the decomposition\n",
      "WARNING: Unable to compute macrostates with `n_states=9` because it will split complex conjugate eigenvalues. Using `n_states=10`\n",
      "WARNING: The following terminal states have different number of cells than requested (30): {'Ngn3 high EP_1': 25}\n",
      "WARNING: The following terminal states have different number of cells than requested (30): {'Ngn3 high EP_1': 25}\n",
      "WARNING: Requested more macrostates `11` than available Schur vectors `10`. Recomputing the decomposition\n",
      "WARNING: Found only one macrostate, making it the singular terminal state\n",
      "WARNING: Unable to compute macrostates with `n_states=9` because it will split complex conjugate eigenvalues. Using `n_states=10`\n",
      "WARNING: The following terminal states have different number of cells than requested (30): {'Ngn3 high EP_1': 25}\n",
      "WARNING: The following terminal states have different number of cells than requested (30): {'Ngn3 high EP_1': 25}\n",
      "WARNING: Found only one macrostate, making it the singular terminal state\n",
      "WARNING: Unable to compute macrostates with `n_states=9` because it will split complex conjugate eigenvalues. Using `n_states=10`\n",
      "WARNING: The following terminal states have different number of cells than requested (30): {'Ngn3 high EP_1': 25}\n",
      "WARNING: The following terminal states have different number of cells than requested (30): {'Ngn3 high EP_1': 25}\n",
      "WARNING: Found only one macrostate, making it the singular terminal state\n",
      "WARNING: Unable to compute macrostates with `n_states=9` because it will split complex conjugate eigenvalues. Using `n_states=10`\n",
      "WARNING: The following terminal states have different number of cells than requested (30): {'Ngn3 high EP_1': 25}\n",
      "WARNING: The following terminal states have different number of cells than requested (30): {'Ngn3 high EP_1': 25}\n",
      "WARNING: Found only one macrostate, making it the singular terminal state\n",
      "WARNING: Unable to compute macrostates with `n_states=9` because it will split complex conjugate eigenvalues. Using `n_states=10`\n",
      "WARNING: The following terminal states have different number of cells than requested (30): {'Ngn3 high EP_1': 25}\n",
      "WARNING: The following terminal states have different number of cells than requested (30): {'Ngn3 high EP_1': 25}\n",
      "WARNING: Found only one macrostate, making it the singular terminal state\n",
      "WARNING: Unable to compute macrostates with `n_states=9` because it will split complex conjugate eigenvalues. Using `n_states=10`\n",
      "WARNING: The following terminal states have different number of cells than requested (30): {'Ngn3 high EP_1': 25}\n",
      "WARNING: The following terminal states have different number of cells than requested (30): {'Ngn3 high EP_1': 25}\n",
      "WARNING: Found only one macrostate, making it the singular terminal state\n",
      "WARNING: Unable to compute macrostates with `n_states=9` because it will split complex conjugate eigenvalues. Using `n_states=10`\n",
      "WARNING: The following terminal states have different number of cells than requested (30): {'Ngn3 high EP_1': 25}\n",
      "WARNING: The following terminal states have different number of cells than requested (30): {'Ngn3 high EP_1': 25}\n",
      "WARNING: Found only one macrostate, making it the singular terminal state\n",
      "WARNING: Unable to compute macrostates with `n_states=9` because it will split complex conjugate eigenvalues. Using `n_states=10`\n",
      "WARNING: The following terminal states have different number of cells than requested (30): {'Ngn3 high EP_1': 25}\n",
      "WARNING: The following terminal states have different number of cells than requested (30): {'Ngn3 high EP_1': 25}\n",
      "WARNING: Found only one macrostate, making it the singular terminal state\n",
      "WARNING: Unable to compute macrostates with `n_states=9` because it will split complex conjugate eigenvalues. Using `n_states=10`\n",
      "WARNING: The following terminal states have different number of cells than requested (30): {'Ngn3 high EP_1': 25}\n",
      "WARNING: The following terminal states have different number of cells than requested (30): {'Ngn3 high EP_1': 25}\n",
      "WARNING: Found only one macrostate, making it the singular terminal state\n",
      "WARNING: Unable to compute macrostates with `n_states=9` because it will split complex conjugate eigenvalues. Using `n_states=10`\n",
      "WARNING: The following terminal states have different number of cells than requested (30): {'Ngn3 high EP_1': 25}\n",
      "WARNING: The following terminal states have different number of cells than requested (30): {'Ngn3 high EP_1': 25}\n",
      "WARNING: Found only one macrostate, making it the singular terminal state\n",
      "WARNING: Unable to compute macrostates with `n_states=9` because it will split complex conjugate eigenvalues. Using `n_states=10`\n",
      "WARNING: The following terminal states have different number of cells than requested (30): {'Ngn3 high EP_1': 25}\n",
      "WARNING: The following terminal states have different number of cells than requested (30): {'Ngn3 high EP_1': 25}\n",
      "WARNING: Found only one macrostate, making it the singular terminal state\n",
      "WARNING: Unable to compute macrostates with `n_states=9` because it will split complex conjugate eigenvalues. Using `n_states=10`\n",
      "WARNING: The following terminal states have different number of cells than requested (30): {'Ngn3 high EP_1': 25}\n",
      "WARNING: The following terminal states have different number of cells than requested (30): {'Ngn3 high EP_1': 25}\n",
      "WARNING: Found only one macrostate, making it the singular terminal state\n",
      "WARNING: Unable to compute macrostates with `n_states=9` because it will split complex conjugate eigenvalues. Using `n_states=10`\n",
      "WARNING: The following terminal states have different number of cells than requested (30): {'Ngn3 high EP_1': 25}\n",
      "WARNING: The following terminal states have different number of cells than requested (30): {'Ngn3 high EP_1': 25}\n",
      "WARNING: Found only one macrostate, making it the singular terminal state\n",
      "WARNING: Unable to compute macrostates with `n_states=9` because it will split complex conjugate eigenvalues. Using `n_states=10`\n",
      "WARNING: The following terminal states have different number of cells than requested (30): {'Ngn3 high EP_1': 25}\n",
      "WARNING: The following terminal states have different number of cells than requested (30): {'Ngn3 high EP_1': 25}\n",
      "WARNING: Found only one macrostate, making it the singular terminal state\n",
      "WARNING: Unable to compute macrostates with `n_states=9` because it will split complex conjugate eigenvalues. Using `n_states=10`\n",
      "WARNING: The following terminal states have different number of cells than requested (30): {'Ngn3 high EP_1': 25}\n",
      "WARNING: The following terminal states have different number of cells than requested (30): {'Ngn3 high EP_1': 25}\n",
      "WARNING: Found only one macrostate, making it the singular terminal state\n",
      "WARNING: Unable to compute macrostates with `n_states=9` because it will split complex conjugate eigenvalues. Using `n_states=10`\n",
      "WARNING: The following terminal states have different number of cells than requested (30): {'Ngn3 high EP_1': 25}\n",
      "WARNING: The following terminal states have different number of cells than requested (30): {'Ngn3 high EP_1': 25}\n",
      "WARNING: Found only one macrostate, making it the singular terminal state\n",
      "WARNING: Unable to compute macrostates with `n_states=9` because it will split complex conjugate eigenvalues. Using `n_states=10`\n",
      "WARNING: The following terminal states have different number of cells than requested (30): {'Ngn3 high EP_1': 25}\n",
      "WARNING: The following terminal states have different number of cells than requested (30): {'Ngn3 high EP_1': 25}\n",
      "WARNING: Found only one macrostate, making it the singular terminal state\n",
      "WARNING: Unable to compute macrostates with `n_states=9` because it will split complex conjugate eigenvalues. Using `n_states=10`\n",
      "WARNING: The following terminal states have different number of cells than requested (30): {'Ngn3 high EP_1': 25}\n",
      "WARNING: The following terminal states have different number of cells than requested (30): {'Ngn3 high EP_1': 25}\n",
      "WARNING: Found only one macrostate, making it the singular terminal state\n",
      "WARNING: Unable to compute macrostates with `n_states=9` because it will split complex conjugate eigenvalues. Using `n_states=10`\n",
      "WARNING: The following terminal states have different number of cells than requested (30): {'Ngn3 high EP_1': 25}\n",
      "WARNING: The following terminal states have different number of cells than requested (30): {'Ngn3 high EP_1': 25}\n",
      "WARNING: Found only one macrostate, making it the singular terminal state\n",
      "WARNING: Unable to compute macrostates with `n_states=9` because it will split complex conjugate eigenvalues. Using `n_states=10`\n",
      "WARNING: The following terminal states have different number of cells than requested (30): {'Ngn3 high EP_1': 25}\n",
      "WARNING: The following terminal states have different number of cells than requested (30): {'Ngn3 high EP_1': 25}\n"
     ]
    }
   ],
   "source": [
    "for method in VELOCITY_METHODS:\n",
    "    estimators[method] = cr.estimators.GPCCA(ks[method])\n",
    "    tsi[method] = TSI_score(adata, thresholds, \"clusters\", TERMINAL_STATES, estimators[method])"
   ]
  },
  {
   "cell_type": "code",
   "execution_count": 9,
   "id": "d6e612f5-9b03-402e-86f8-e54568c7286b",
   "metadata": {},
   "outputs": [
    {
     "data": {
      "image/png": "[encoded data removed]",
      "text/plain": [
       "<Figure size 240x320 with 1 Axes>"
      ]
     },
     "metadata": {
      "image/png": {
       "height": 298,
       "width": 250
      }
     },
     "output_type": "display_data"
    }
   ],
   "source": [
    "df = pd.DataFrame(\n",
    "    {\n",
    "        \"TSI\": tsi[\"regvelo\"] + tsi[\"velovi\"] + tsi[\"scvelo\"],\n",
    "        \"Model\": [\"RegVelo\"] * 20 + [\"veloVI\"] * 20 + [\"scVelo\"] * 20,\n",
    "    }\n",
    ")\n",
    "with mplscience.style_context():\n",
    "    sns.set_style(style=\"whitegrid\")\n",
    "    fig, ax = plt.subplots(figsize=(3, 4))\n",
    "\n",
    "    sns.barplot(data=df, x=\"Model\", y=\"TSI\", palette=\"colorblind\", ax=ax)\n",
    "\n",
    "    ttest_res = ttest_ind(tsi[\"regvelo\"], tsi[\"velovi\"], alternative=\"greater\")\n",
    "    significance = get_significance(ttest_res.pvalue)\n",
    "    add_significance(\n",
    "        ax=ax,\n",
    "        left=0,\n",
    "        right=1,\n",
    "        significance=significance,\n",
    "        lw=1,\n",
    "        bracket_level=1.05,\n",
    "        c=\"k\",\n",
    "        level=0,\n",
    "    )\n",
    "\n",
    "    ttest_res = ttest_ind(tsi[\"regvelo\"], tsi[\"scvelo\"], alternative=\"greater\")\n",
    "    significance = get_significance(ttest_res.pvalue)\n",
    "    add_significance(ax=ax, left=0, right=2, significance=significance, lw=1, c=\"k\", level=2, bracket_level=0.9)\n",
    "\n",
    "    y_min, y_max = ax.get_ylim()\n",
    "    ax.set_ylim([y_min, y_max + 0.02])\n",
    "\n",
    "    if SAVE_FIGURES:\n",
    "        fig.savefig(FIG_DIR / DATASET / \"TSI_benchmark_update.svg\", format=\"svg\", transparent=True, bbox_inches=\"tight\")\n",
    "    plt.show()"
   ]
  },
  {
   "cell_type": "code",
   "execution_count": 10,
   "id": "19a407f7-66cb-4633-aa64-fd50ac3034dd",
   "metadata": {},
   "outputs": [
    {
     "data": {
      "text/plain": [
       "Ttest_indResult(statistic=16.77521564088505, pvalue=1.8515413304611978e-19)"
      ]
     },
     "execution_count": 10,
     "metadata": {},
     "output_type": "execute_result"
    }
   ],
   "source": [
    "ttest_ind(tsi[\"regvelo\"], tsi[\"scvelo\"], alternative=\"greater\")"
   ]
  },
  {
   "cell_type": "markdown",
   "id": "d53585c8-fea8-4455-82ec-7ff34ede6642",
   "metadata": {},
   "source": [
    "## Show the stair plot"
   ]
  },
  {
   "cell_type": "code",
   "execution_count": 11,
   "id": "2056960c-15f9-410d-b227-4e1888a0ee62",
   "metadata": {
    "tags": []
   },
   "outputs": [
    {
     "name": "stdout",
     "output_type": "stream",
     "text": [
      "WARNING: Found only one macrostate, making it the singular terminal state\n",
      "WARNING: Found only one macrostate, making it the singular terminal state\n",
      "WARNING: Unable to compute macrostates with `n_states=8` because it will split complex conjugate eigenvalues. Using `n_states=9`\n",
      "WARNING: The following terminal states have different number of cells than requested (30): {'Ductal_1': 22}\n",
      "WARNING: The following terminal states have different number of cells than requested (30): {'Ductal_1': 22}\n",
      "WARNING: Unable to compute macrostates with `n_states=10` because it will split complex conjugate eigenvalues. Using `n_states=11`\n",
      "WARNING: The following terminal states have different number of cells than requested (30): {'Ductal_2': 23}\n",
      "WARNING: The following terminal states have different number of cells than requested (30): {'Ductal_2': 23}\n",
      "WARNING: Found only one macrostate, making it the singular terminal state\n",
      "WARNING: Unable to compute macrostates with `n_states=9` because it will split complex conjugate eigenvalues. Using `n_states=10`\n",
      "WARNING: The following terminal states have different number of cells than requested (30): {'Ngn3 high EP_1': 25}\n",
      "WARNING: The following terminal states have different number of cells than requested (30): {'Ngn3 high EP_1': 25}\n"
     ]
    }
   ],
   "source": [
    "tsi_rgv_curve = plot_TSI(adata, estimators[\"regvelo\"], 0.8, TERMINAL_STATES, \"clusters\")\n",
    "tsi_scv_curve = plot_TSI(adata, estimators[\"scvelo\"], 0.8, TERMINAL_STATES, \"clusters\")\n",
    "tsi_vi_curve = plot_TSI(adata, estimators[\"velovi\"], 0.8, TERMINAL_STATES, \"clusters\")"
   ]
  },
  {
   "cell_type": "code",
   "execution_count": 12,
   "id": "ef33212f-bb12-4168-9e1a-6ac681cc7d2c",
   "metadata": {},
   "outputs": [
    {
     "data": {
      "text/plain": [
       "(3696, 1115)"
      ]
     },
     "execution_count": 12,
     "metadata": {},
     "output_type": "execute_result"
    }
   ],
   "source": [
    "adata.shape"
   ]
  },
  {
   "cell_type": "code",
   "execution_count": 13,
   "id": "9684cdc6-c051-4196-8ccc-178b2e55b31c",
   "metadata": {},
   "outputs": [],
   "source": [
    "### plot the recovery figure\n",
    "df = pd.DataFrame(\n",
    "    {\n",
    "        \"number_macrostate\": range(0, 12),\n",
    "        \"RegVelo\": [0] + tsi_rgv_curve,\n",
    "        \"veloVI\": [0] + tsi_vi_curve,\n",
    "        \"scVelo\": [0] + tsi_scv_curve,\n",
    "    }\n",
    ")\n",
    "df = pd.melt(df, [\"number_macrostate\"])"
   ]
  },
  {
   "cell_type": "code",
   "execution_count": 14,
   "id": "4f1db91f-2515-4a5f-8fdd-61ff2e01a615",
   "metadata": {},
   "outputs": [
    {
     "data": {
      "image/png": "[encoded data removed]",
      "text/plain": [
       "<Figure size 320x240 with 1 Axes>"
      ]
     },
     "metadata": {
      "image/png": {
       "height": 265,
       "width": 336
      }
     },
     "output_type": "display_data"
    }
   ],
   "source": [
    "# Set figure size\n",
    "with mplscience.style_context():\n",
    "    sns.set_style(style=\"whitegrid\")\n",
    "\n",
    "    rcParams[\"figure.figsize\"] = 4, 3\n",
    "\n",
    "    # Plot the grid plot\n",
    "    ax = sns.lineplot(\n",
    "        x=\"number_macrostate\",\n",
    "        y=\"value\",\n",
    "        hue=\"variable\",\n",
    "        style=\"variable\",\n",
    "        palette=METHOD_PALETTE_TSI,\n",
    "        drawstyle=\"steps-post\",\n",
    "        data=df,\n",
    "        linewidth=3,\n",
    "    )\n",
    "\n",
    "    # Set labels and titles\n",
    "    ax.set(ylabel=\"Number of correct predictions\")\n",
    "    plt.xlabel(\"Number of macrostates\", fontsize=14)\n",
    "    plt.ylabel(\"Identified terminal states\", fontsize=14)\n",
    "\n",
    "    # Customize tick parameters for better readability\n",
    "    ax.set_xticks([0, 2, 4, 6, 8, 10])\n",
    "    ax.set_xticklabels([0, 2, 4, 6, 8, 10])\n",
    "    plt.xticks(fontsize=14)\n",
    "    plt.yticks(fontsize=14)\n",
    "    plt.legend(loc=\"upper center\", bbox_to_anchor=(0.5, -0.18), shadow=True, ncol=4, fontsize=14)\n",
    "\n",
    "    if SAVE_FIGURES:\n",
    "        plt.savefig(FIG_DIR / DATASET / \"state_identification.svg\", format=\"svg\", transparent=True, bbox_inches=\"tight\")\n",
    "    plt.show()"
   ]
  },
  {
   "cell_type": "code",
   "execution_count": null,
   "id": "fa05f0b6-c4ed-4805-a90e-78ca0a0e3b99",
   "metadata": {},
   "outputs": [],
   "source": []
  }
 ],
 "metadata": {
  "kernelspec": {
   "display_name": "Python [conda env:regvelo_test]",
   "language": "python",
   "name": "conda-env-regvelo_test-py"
  },
  "language_info": {
   "codemirror_mode": {
    "name": "ipython",
    "version": 3
   },
   "file_extension": ".py",
   "mimetype": "text/x-python",
   "name": "python",
   "nbconvert_exporter": "python",
   "pygments_lexer": "ipython3",
   "version": "3.10.15"
  }
 },
 "nbformat": 4,
 "nbformat_minor": 5
}
