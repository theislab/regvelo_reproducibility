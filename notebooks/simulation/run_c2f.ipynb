{
 "cells": [
  {
   "cell_type": "markdown",
   "metadata": {},
   "source": [
    "# Calculate velocity and latent time using cell2fate"
   ]
  },
  {
   "cell_type": "markdown",
   "metadata": {},
   "source": [
    "## Library imports"
   ]
  },
  {
   "cell_type": "code",
   "execution_count": 1,
   "metadata": {},
   "outputs": [
    {
     "name": "stderr",
     "output_type": "stream",
     "text": [
      "Global seed set to 0\n"
     ]
    }
   ],
   "source": [
    "#Import needed packages\n",
    "import cell2fate as c2f\n",
    "import scanpy as sc\n",
    "import matplotlib.pyplot as plt\n",
    "import os\n",
    "import numpy as np\n",
    "import torch\n",
    "import anndata as ad, scvelo as scv\n",
    "import contextlib, io\n",
    "sys.path.append(\"../..\")\n",
    "from paths import DATA_DIR, FIG_DIR"
   ]
  },
  {
   "cell_type": "markdown",
   "metadata": {},
   "source": [
    "## General settings"
   ]
  },
  {
   "cell_type": "code",
   "execution_count": 2,
   "metadata": {},
   "outputs": [],
   "source": [
    "SAVE_FIGURES = True\n",
    "if SAVE_FIGURES:\n",
    "    os.makedirs(FIG_DIR / 'simulation', exist_ok=True)\n",
    "\n",
    "SAVE_DATASETS = True\n",
    "if SAVE_DATASETS:\n",
    "    os.makedirs(DATA_DIR / 'simulation', exist_ok=True)"
   ]
  },
  {
   "cell_type": "code",
   "execution_count": 3,
   "metadata": {},
   "outputs": [],
   "source": [
    "input_path = DATA_DIR\n",
    "output_path = DATA_DIR / 'simulation'\n",
    "input_files = os.listdir(input_path)"
   ]
  },
  {
   "cell_type": "markdown",
   "metadata": {},
   "source": [
    "## Function definitions"
   ]
  },
  {
   "cell_type": "code",
   "execution_count": 4,
   "metadata": {},
   "outputs": [],
   "source": [
    "#Function for train model and get output\n",
    "def trainc2fmodel(adatafile, input_path, output_path):\n",
    "    adata =sc.read_h5ad(os.path.join(input_path, adatafile))\n",
    "    adata.layers['spliced'] = adata.layers['counts_spliced'].A.copy()\n",
    "    adata.layers['unspliced'] = adata.layers['counts_unspliced'].A.copy()\n",
    "    adata.X = adata.X.A\n",
    "    adata.layers['raw_spliced']   = adata.layers['spliced']\n",
    "    adata.layers['raw_unspliced'] = adata.layers['unspliced']\n",
    "    adata.obs['u_lib_size_raw'] = adata.layers['raw_unspliced'].sum(-1)\n",
    "    adata.obs['s_lib_size_raw'] = adata.layers['raw_spliced'].sum(-1)\n",
    "    scv.pp.filter_and_normalize(adata, min_shared_counts=10, n_top_genes=90)\n",
    "    sc.tl.pca(adata)\n",
    "    sc.pp.neighbors(adata)\n",
    "    sc.tl.umap(adata)\n",
    "    sc.tl.leiden(adata)\n",
    "    #scv.pp.moments(adata, n_pcs=30, n_neighbors=30)\n",
    "    clusters_to_remove = []\n",
    "    adata.layers['spliced'] = adata.layers['counts_spliced'].A.copy()\n",
    "    adata.layers['unspliced'] = adata.layers['counts_unspliced'].A.copy()\n",
    "    adata =  c2f.utils.get_training_data(adata, cells_per_cluster = 100, cluster_column = 'leiden',\n",
    "                                        remove_clusters = [],\n",
    "                                    min_shared_counts = 10, n_var_genes= 90)\n",
    "    c2f.Cell2fate_DynamicalModel.setup_anndata(adata, spliced_label='spliced', unspliced_label='unspliced')\n",
    "    n_modules = c2f.utils.get_max_modules(adata)\n",
    "    mod = c2f.Cell2fate_DynamicalModel(adata, n_modules = n_modules)\n",
    "    mod.train()\n",
    "    #Compute total velocity\n",
    "    n_modules = c2f.utils.get_max_modules(adata)\n",
    "    c2f.Cell2fate_DynamicalModel.setup_anndata(adata, spliced_label='spliced', unspliced_label='unspliced')\n",
    "    data = mod.export_posterior(adata)\n",
    "    adata = mod.compute_module_summary_statistics(adata)\n",
    "    with contextlib.redirect_stdout(io.StringIO()):\n",
    "        adata.layers['Spliced Mean'] = mod.samples['post_sample_means']['mu_expression'][...,1]\n",
    "        c2f_velocity = torch.tensor(mod.samples['post_sample_means']['beta_g']) * \\\n",
    "        mod.samples['post_sample_means']['mu_expression'][...,0] - \\\n",
    "        torch.tensor(mod.samples['post_sample_means']['gamma_g']) * \\\n",
    "        mod.samples['post_sample_means']['mu_expression'][...,1]\n",
    "        adata.layers['Velocity'] = c2f_velocity.numpy()\n",
    "    return(adata)"
   ]
  },
  {
   "cell_type": "markdown",
   "metadata": {},
   "source": [
    "## Data loading and processing of one instance"
   ]
  },
  {
   "cell_type": "code",
   "execution_count": 5,
   "metadata": {},
   "outputs": [
    {
     "name": "stdout",
     "output_type": "stream",
     "text": [
      "Normalized count data: X, spliced, unspliced.\n",
      "Extracted 90 highly variable genes.\n",
      "WARNING: Did not modify X as it looks preprocessed already.\n",
      "Keeping at most 100 cells per cluster\n",
      "Extracted 90 highly variable genes.\n"
     ]
    },
    {
     "name": "stderr",
     "output_type": "stream",
     "text": [
      "No GPU/TPU found, falling back to CPU. (Set TF_CPP_MIN_LOG_LEVEL=0 and rerun for more info.)\n"
     ]
    },
    {
     "name": "stdout",
     "output_type": "stream",
     "text": [
      "Leiden clustering ...\n",
      "Number of Leiden Clusters: 3\n",
      "Maximal Number of Modules: 3\n"
     ]
    },
    {
     "name": "stderr",
     "output_type": "stream",
     "text": [
      "GPU available: True, used: True\n",
      "TPU available: False, using: 0 TPU cores\n",
      "IPU available: False, using: 0 IPUs\n",
      "LOCAL_RANK: 0 - CUDA_VISIBLE_DEVICES: [0]\n",
      "Set SLURM handle signals.\n"
     ]
    },
    {
     "name": "stdout",
     "output_type": "stream",
     "text": [
      "Epoch 500/500: 100%|██████████| 500/500 [01:23<00:00,  5.96it/s, v_num=1, elbo_train=7.44e+4]\n",
      "Leiden clustering ...\n",
      "Number of Leiden Clusters: 3\n",
      "Maximal Number of Modules: 3\n",
      "Sampling local variables, batch: 100%|██████████| 1/1 [00:02<00:00,  2.52s/it]\n",
      "Sampling global variables, sample: 100%|██████████| 29/29 [00:01<00:00, 22.69it/s]\n",
      "Warning: Saving ALL posterior samples. Specify \"return_samples: False\" to save just summary statistics.\n"
     ]
    }
   ],
   "source": [
    "adata = trainc2fmodel(input_files[0], input_path, output_path)"
   ]
  },
  {
   "cell_type": "code",
   "execution_count": 6,
   "metadata": {},
   "outputs": [
    {
     "data": {
      "text/plain": [
       "AnnData object with n_obs × n_vars = 293 × 90\n",
       "    obs: 'step_ix', 'simulation_i', 'sim_time', 'u_lib_size_raw', 's_lib_size_raw', 'initial_size_spliced', 'initial_size_unspliced', 'initial_size', 'n_counts', 'leiden', '_indices', '_scvi_batch', 'Time (hours)', 'Time Uncertainty (sd)', 'Module 0 Activation', 'Module 0 State', 'Module 1 Activation', 'Module 1 State', 'Module 2 Activation', 'Module 2 State'\n",
       "    var: 'module_id', 'basal', 'burn', 'independence', 'color', 'is_tf', 'is_hk', 'transcription_rate', 'splicing_rate', 'translation_rate', 'mrna_halflife', 'protein_halflife', 'mrna_decay_rate', 'protein_decay_rate', 'max_premrna', 'max_mrna', 'max_protein', 'mol_premrna', 'mol_mrna', 'mol_protein', 'means', 'dispersions', 'dispersions_norm', 'highly_variable'\n",
       "    uns: 'network', 'regulators', 'regulatory_network', 'regulatory_network_regulators', 'regulatory_network_targets', 'skeleton', 'targets', 'traj_dimred_segments', 'traj_milestone_network', 'traj_progressions', 'pca', 'neighbors', 'umap', 'leiden', '_scvi_uuid', '_scvi_manager_uuid', 'mod'\n",
       "    obsm: 'dimred', 'regulatory_network_sc', 'X_pca', 'X_umap'\n",
       "    varm: 'PCs'\n",
       "    layers: 'counts_protein', 'counts_spliced', 'counts_unspliced', 'logcounts', 'rna_velocity', 'spliced', 'unspliced', 'raw_spliced', 'raw_unspliced', 'Spliced Mean', 'Velocity'\n",
       "    obsp: 'distances', 'connectivities'"
      ]
     },
     "execution_count": 6,
     "metadata": {},
     "output_type": "execute_result"
    }
   ],
   "source": [
    "#obs: Time (hours) and layers: Velocity are your results\n",
    "adata"
   ]
  },
  {
   "cell_type": "code",
   "execution_count": 7,
   "metadata": {},
   "outputs": [],
   "source": [
    "# save the results\n",
    "if SAVE_DATASETS:\n",
    "    adata.write_h5ad(DATA_DIR / 'simulation' / 'c2f_output.h5ad')"
   ]
  }
 ],
 "metadata": {
  "kernelspec": {
   "display_name": "Python 3 (ipykernel)",
   "language": "python",
   "name": "python3"
  },
  "language_info": {
   "codemirror_mode": {
    "name": "ipython",
    "version": 3
   },
   "file_extension": ".py",
   "mimetype": "text/x-python",
   "name": "python",
   "nbconvert_exporter": "python",
   "pygments_lexer": "ipython3",
   "version": "3.9.19"
  }
 },
 "nbformat": 4,
 "nbformat_minor": 4
}
