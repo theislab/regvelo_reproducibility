{
 "cells": [
  {
   "cell_type": "markdown",
   "id": "87443fd1",
   "metadata": {},
   "source": [
    "# Calculate velocity and latent time using TFvelo"
   ]
  },
  {
   "cell_type": "markdown",
   "id": "a67153cd",
   "metadata": {},
   "source": [
    "## Library imports"
   ]
  },
  {
   "cell_type": "code",
   "execution_count": null,
   "id": "2abba759-163c-42c8-b826-7b91623a9fca",
   "metadata": {},
   "outputs": [],
   "source": [
    "import os\n",
    "import sys\n",
    "\n",
    "import TFvelo as TFv\n",
    "\n",
    "import numpy as np\n",
    "import scipy\n",
    "\n",
    "import anndata as ad\n",
    "import scanpy as sc\n",
    "\n",
    "from rgv_tools import DATA_DIR, FIG_DIR\n",
    "\n",
    "# attach your local TFvelo repo directory\n",
    "sys.path.append(\"/home/itg/z.xue/VeloBenchmark/TFvelo\")"
   ]
  },
  {
   "cell_type": "markdown",
   "id": "d0913f35",
   "metadata": {},
   "source": [
    "## General settings"
   ]
  },
  {
   "cell_type": "code",
   "execution_count": 2,
   "id": "3fc0858c",
   "metadata": {},
   "outputs": [],
   "source": [
    "SAVE_FIGURES = True\n",
    "if SAVE_FIGURES:\n",
    "    (FIG_DIR / \"simulation\").mkdir(parents=True, exist_ok=True)\n",
    "\n",
    "SAVE_DATASETS = True\n",
    "if SAVE_DATASETS:\n",
    "    (DATA_DIR / \"simulation\").mkdir(parents=True, exist_ok=True)"
   ]
  },
  {
   "cell_type": "code",
   "execution_count": null,
   "id": "2324d148",
   "metadata": {},
   "outputs": [],
   "source": [
    "np.set_printoptions(suppress=True)"
   ]
  },
  {
   "cell_type": "code",
   "execution_count": 3,
   "id": "8c7e90c3-d846-4175-8289-2c2f5336397a",
   "metadata": {
    "lines_to_next_cell": 2
   },
   "outputs": [],
   "source": [
    "input_path = DATA_DIR\n",
    "output_path = DATA_DIR / \"simulation\"\n",
    "input_files = os.listdir(input_path)"
   ]
  },
  {
   "cell_type": "markdown",
   "id": "9679dc3a",
   "metadata": {
    "lines_to_next_cell": 2
   },
   "source": [
    "## Function definitions"
   ]
  },
  {
   "cell_type": "code",
   "execution_count": 4,
   "id": "7789a24e",
   "metadata": {},
   "outputs": [],
   "source": [
    "def run_TFvelo(adata):\n",
    "    \"\"\"TODO.\"\"\"\n",
    "    adata.X = adata.X.A\n",
    "    n_gene = adata.shape[1]\n",
    "    adata.varm[\"TFs\"] = np.full([n_gene, n_gene], \"blank\")\n",
    "    adata.varm[\"TFs\"] = adata.varm[\"TFs\"].astype(\"U10\")\n",
    "\n",
    "    adata.varm[\"TFs_id\"] = np.full([n_gene, n_gene], -1)\n",
    "    adata.varm[\"TFs_times\"] = np.full([n_gene, n_gene], 0)\n",
    "    adata.varm[\"TFs_correlation\"] = np.full([n_gene, n_gene], 0.0)\n",
    "    adata.varm[\"knockTF_Log2FC\"] = np.full([n_gene, n_gene], 0.0)\n",
    "    adata.var[\"n_TFs\"] = np.zeros(n_gene, dtype=int)\n",
    "\n",
    "    gene_names = adata.var_names.tolist()  # all genes as targets\n",
    "    all_TFs = list(adata.var_names[adata.var[\"is_tf\"]])  # select TFs\n",
    "\n",
    "    for TF_name in all_TFs:\n",
    "        TF_idx = gene_names.index(TF_name)\n",
    "        TF_expression = np.ravel(adata[:, TF_name].X)\n",
    "\n",
    "        for target in gene_names:\n",
    "            target_idx = gene_names.index(target)\n",
    "            if target == TF_name:\n",
    "                continue\n",
    "\n",
    "            if TF_name in adata.varm[\"TFs\"][target_idx]:\n",
    "                ii = list(adata.varm[\"TFs\"][target_idx]).index(TF_name)\n",
    "                adata.varm[\"TFs_times\"][target_idx, ii] += 1\n",
    "                continue\n",
    "            target_expression = np.ravel(adata[:, target].X)\n",
    "            flag = (TF_expression > 0) & (target_expression > 0)  # consider all possible regulation\n",
    "            if flag.sum() < 2:\n",
    "                correlation = 0\n",
    "            else:\n",
    "                correlation, _ = scipy.stats.spearmanr(target_expression[flag], TF_expression[flag])\n",
    "\n",
    "            tmp_n_TF = adata.var[\"n_TFs\"][target_idx]\n",
    "            adata.varm[\"TFs\"][target_idx][tmp_n_TF] = TF_name\n",
    "            adata.varm[\"TFs_id\"][target_idx][tmp_n_TF] = TF_idx\n",
    "            adata.varm[\"TFs_times\"][target_idx, tmp_n_TF] = 1\n",
    "            adata.varm[\"TFs_correlation\"][target_idx, tmp_n_TF] = correlation\n",
    "            adata.var[\"n_TFs\"][target_idx] += 1\n",
    "    TFv.tl.recover_dynamics(\n",
    "        adata,\n",
    "        n_jobs=64,\n",
    "        max_iter=20,\n",
    "        var_names=\"all\",\n",
    "        WX_method=\"lsq_linear\",\n",
    "        WX_thres=20,\n",
    "        n_top_genes=adata.shape[1],\n",
    "        fit_scaling=True,\n",
    "        use_raw=0,\n",
    "        init_weight_method=\"ones\",\n",
    "        n_time_points=1000,\n",
    "    )\n",
    "    n_cells = adata.shape[0]\n",
    "    expanded_scaling_y = np.expand_dims(np.array(adata.var[\"fit_scaling_y\"]), 0).repeat(n_cells, axis=0)\n",
    "    adata.layers[\"velocity\"] = adata.layers[\"velo_hat\"] / expanded_scaling_y\n",
    "    return adata"
   ]
  },
  {
   "cell_type": "markdown",
   "id": "11411cd9",
   "metadata": {},
   "source": [
    "## Data loading"
   ]
  },
  {
   "cell_type": "code",
   "execution_count": null,
   "id": "4d7f7670",
   "metadata": {},
   "outputs": [],
   "source": [
    "adata = ad.read(DATA_DIR / \"TODO\" / \"TODO.h5ad\")\n",
    "adata"
   ]
  },
  {
   "cell_type": "markdown",
   "id": "92383a8e",
   "metadata": {},
   "source": [
    "## Data processing"
   ]
  },
  {
   "cell_type": "code",
   "execution_count": null,
   "id": "d53c168e",
   "metadata": {},
   "outputs": [],
   "source": [
    "adata.layers[\"spliced\"] = adata.layers[\"counts_spliced\"].copy()\n",
    "adata.layers[\"unspliced\"] = adata.layers[\"counts_unspliced\"].copy()\n",
    "\n",
    "if \"spliced\" in adata.layers:\n",
    "    adata.layers[\"total\"] = adata.layers[\"spliced\"] + adata.layers[\"unspliced\"]\n",
    "elif \"new\" in adata.layers:\n",
    "    adata.layers[\"total\"] = np.array(adata.layers[\"total\"].todense())\n",
    "else:\n",
    "    adata.layers[\"total\"] = adata.X\n",
    "adata.layers[\"count\"] = adata.X.copy()\n",
    "adata.layers[\"total_raw\"] = adata.layers[\"total\"].copy()"
   ]
  },
  {
   "cell_type": "code",
   "execution_count": null,
   "id": "c7040646",
   "metadata": {},
   "outputs": [],
   "source": [
    "n_cells, n_genes = adata.X.shape\n",
    "sc.pp.filter_genes(adata, min_cells=int(n_cells / 50))\n",
    "sc.pp.filter_cells(adata, min_genes=int(n_genes / 50))"
   ]
  },
  {
   "cell_type": "code",
   "execution_count": null,
   "id": "80b7058f",
   "metadata": {},
   "outputs": [],
   "source": [
    "TFv.pp.filter_and_normalize(adata, min_shared_counts=20, n_top_genes=2000, log=True)  # include the following steps"
   ]
  },
  {
   "cell_type": "code",
   "execution_count": null,
   "id": "1b51f671",
   "metadata": {},
   "outputs": [],
   "source": [
    "adata.X = adata.layers[\"total\"].copy()\n",
    "\n",
    "gene_names = []\n",
    "for tmp in adata.var_names:\n",
    "    gene_names.append(tmp.upper())\n",
    "adata.var_names = gene_names\n",
    "adata.var_names_make_unique()\n",
    "adata.obs_names_make_unique()"
   ]
  },
  {
   "cell_type": "code",
   "execution_count": null,
   "id": "7db1cc86",
   "metadata": {},
   "outputs": [],
   "source": [
    "TFv.pp.moments(adata, n_pcs=30, n_neighbors=30)"
   ]
  },
  {
   "cell_type": "markdown",
   "id": "949e1b43",
   "metadata": {},
   "source": [
    "## Data loading and processing of one instance"
   ]
  },
  {
   "cell_type": "code",
   "execution_count": null,
   "id": "07cd49dc",
   "metadata": {},
   "outputs": [],
   "source": [
    "adata = run_TFvelo(adata)\n",
    "adata"
   ]
  },
  {
   "cell_type": "code",
   "execution_count": 7,
   "id": "166bfc19",
   "metadata": {},
   "outputs": [],
   "source": [
    "# save the results\n",
    "if SAVE_DATASETS:\n",
    "    adata.write_h5ad(DATA_DIR / \"simulation\" / \"c2f_output.h5ad\")"
   ]
  }
 ],
 "metadata": {
  "kernelspec": {
   "display_name": "Python 3 (ipykernel)",
   "language": "python",
   "name": "python3"
  },
  "language_info": {
   "codemirror_mode": {
    "name": "ipython",
    "version": 3
   },
   "file_extension": ".py",
   "mimetype": "text/x-python",
   "name": "python",
   "nbconvert_exporter": "python",
   "pygments_lexer": "ipython3",
   "version": "3.8.18"
  }
 },
 "nbformat": 4,
 "nbformat_minor": 5
}
