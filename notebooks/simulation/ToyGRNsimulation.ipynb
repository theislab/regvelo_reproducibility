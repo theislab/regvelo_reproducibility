{
 "cells": [
  {
   "cell_type": "markdown",
   "id": "9b5683f0-b585-4173-9712-fc80bb850243",
   "metadata": {},
   "source": [
    "# Simulate Toy GRN to benchmark velocity, latent time and GRN inference performance"
   ]
  },
  {
   "cell_type": "markdown",
   "id": "7757dfc2-36bb-4d99-aa2e-a503fe9c7a87",
   "metadata": {},
   "source": [
    "## Library imports"
   ]
  },
  {
   "cell_type": "code",
   "execution_count": 4,
   "id": "b6cc7442-1278-45c4-8281-4c8fe1bff713",
   "metadata": {},
   "outputs": [],
   "source": [
    "import os"
   ]
  },
  {
   "cell_type": "code",
   "execution_count": null,
   "id": "ab7f22c2",
   "metadata": {},
   "outputs": [],
   "source": [
    "import celloracle as co\n",
    "import torchsde\n",
    "from paths import DATA_DIR, FIG_DIR\n",
    "from regvelo import REGVELOVI\n",
    "\n",
    "import numpy as np\n",
    "import pandas as pd\n",
    "import scipy\n",
    "import sklearn\n",
    "\n",
    "import seaborn as sns\n",
    "\n",
    "import anndata\n",
    "import anndata as ad\n",
    "import scanpy as sc\n",
    "import scvelo as scv"
   ]
  },
  {
   "cell_type": "code",
   "execution_count": null,
   "id": "2eb89e62",
   "metadata": {},
   "outputs": [],
   "source": [
    "import torch"
   ]
  },
  {
   "cell_type": "code",
   "execution_count": null,
   "id": "8afeacbb",
   "metadata": {},
   "outputs": [],
   "source": [
    "from arboreto.algo import grnboost2\n",
    "from velovi import preprocess_data, VELOVI"
   ]
  },
  {
   "cell_type": "markdown",
   "id": "20a05faa-564b-4250-af7f-69322211d4a9",
   "metadata": {},
   "source": [
    "## General settings"
   ]
  },
  {
   "cell_type": "code",
   "execution_count": 5,
   "id": "1ee5dd86-3eba-4422-965b-7fc09c0aa62c",
   "metadata": {},
   "outputs": [],
   "source": [
    "sns.reset_defaults()\n",
    "sns.reset_orig()\n",
    "scv.settings.set_figure_params(\"scvelo\", dpi_save=400, dpi=80, transparent=True, fontsize=20, color_map=\"viridis\")"
   ]
  },
  {
   "cell_type": "code",
   "execution_count": 6,
   "id": "6d37b365-2527-4278-ac25-cd9e000a8138",
   "metadata": {
    "lines_to_next_cell": 2
   },
   "outputs": [],
   "source": [
    "SAVE_FIGURES = True\n",
    "if SAVE_FIGURES:\n",
    "    os.makedirs(FIG_DIR / \"simulation\" / \"toy_GRN\", exist_ok=True)\n",
    "\n",
    "SAVE_DATASETS = True\n",
    "if SAVE_DATASETS:\n",
    "    os.makedirs(DATA_DIR / \"simulation\" / \"toy_GRN\", exist_ok=True)"
   ]
  },
  {
   "cell_type": "markdown",
   "id": "32f4dd6f-3ec3-463f-af98-33d44031bc95",
   "metadata": {
    "lines_to_next_cell": 2
   },
   "source": [
    "## Function defination"
   ]
  },
  {
   "cell_type": "code",
   "execution_count": 7,
   "id": "df8a32bc-1984-4d77-9ea1-bf0ea0cb45eb",
   "metadata": {},
   "outputs": [],
   "source": [
    "def sign_concordance(GRN, ref_GRN):\n",
    "    \"\"\"TODO.\"\"\"\n",
    "    sign_GRN = np.sign(GRN)[GRN != 0]\n",
    "    sign_ref_GRN = np.sign(ref_GRN)[GRN != 0]\n",
    "    score = sum(sign_GRN == sign_ref_GRN)\n",
    "    return score\n",
    "\n",
    "\n",
    "def calculate_power_matrix(A, B):\n",
    "    \"\"\"TODO.\"\"\"\n",
    "    if len(A) != len(B) or len(A[0]) != len(B[0]):\n",
    "        raise ValueError(\"Both matrices must have the same dimensions\")\n",
    "\n",
    "    rows = len(A)\n",
    "    cols = len(A[0])\n",
    "\n",
    "    C = [[0 for _ in range(cols)] for _ in range(rows)]\n",
    "\n",
    "    for i in range(rows):\n",
    "        for j in range(cols):\n",
    "            C[i][j] = A[i][j] ** B[i][j]\n",
    "\n",
    "    return np.array(C)\n",
    "\n",
    "\n",
    "def draw_poisson(n, random_seed):\n",
    "    \"\"\"TODO.\"\"\"\n",
    "    from random import seed, uniform  # draw from poisson\n",
    "\n",
    "    seed(random_seed)\n",
    "    t = np.cumsum([-0.1 * np.log(uniform(0, 1)) for _ in range(n - 1)])\n",
    "    return np.insert(t, 0, 0)  # prepend t0=0\n",
    "\n",
    "\n",
    "class velocity_encoder(torch.nn.Module):\n",
    "    \"\"\"TODO.\"\"\"\n",
    "\n",
    "    noise_type = \"scalar\"\n",
    "    sde_type = \"ito\"\n",
    "\n",
    "    def __init__(\n",
    "        self,\n",
    "        K,\n",
    "        n,\n",
    "        h,\n",
    "        alpha_b,\n",
    "        beta,\n",
    "        gamma,\n",
    "    ):\n",
    "        \"\"\"TODO.\"\"\"\n",
    "        super().__init__()\n",
    "        self.K = K\n",
    "        self.n = n\n",
    "        self.h = h\n",
    "        self.alpha_b = alpha_b\n",
    "        self.beta = beta\n",
    "        self.gamma = gamma\n",
    "\n",
    "    # Drift\n",
    "    def f(self, t, y):\n",
    "        \"\"\"TODO.\"\"\"\n",
    "        y = y.T\n",
    "        u = y[0 : int(y.shape[0] / 2), 0].ravel()\n",
    "        s = y[int(y.shape[0] / 2) :, 0].ravel()\n",
    "\n",
    "        sign = torch.sign(self.K)\n",
    "        sign = torch.clip(torch.sign(self.K), 0, 1)\n",
    "\n",
    "        s_m = s.repeat(self.n.shape[0], 1)\n",
    "        x_n = torch.pow(\n",
    "            torch.clip(\n",
    "                s_m,\n",
    "                0,\n",
    "            ),\n",
    "            self.n,\n",
    "        )\n",
    "        h_n = self.h**self.n\n",
    "\n",
    "        p_act = x_n / (h_n + x_n)\n",
    "        p_neg = h_n / (h_n + x_n)\n",
    "\n",
    "        p = torch.abs(self.K) * ((p_act * sign) + (p_neg * (1 - sign)))\n",
    "        alpha = p.sum(1) + self.alpha_b\n",
    "\n",
    "        du = (\n",
    "            torch.clip(\n",
    "                alpha,\n",
    "                0,\n",
    "            )\n",
    "            - self.beta * u\n",
    "        )\n",
    "        ds = self.beta * u - self.gamma * s\n",
    "\n",
    "        du = du.reshape((-1, 1))\n",
    "        ds = ds.reshape((-1, 1))\n",
    "\n",
    "        v = torch.concatenate([du, ds]).reshape(1, -1)\n",
    "\n",
    "        return v\n",
    "\n",
    "    # Diffusion\n",
    "    def g(self, t, y):\n",
    "        \"\"\"TODO.\"\"\"\n",
    "        return 0.1 * torch.randn([1, y.shape[1]]).view(1, y.shape[1], 1)"
   ]
  },
  {
   "cell_type": "code",
   "execution_count": 8,
   "id": "961fd423-c519-43bd-bc9b-fa344b942319",
   "metadata": {},
   "outputs": [],
   "source": [
    "def add_regvelo_outputs_to_adata(adata_raw, vae, filter=False):\n",
    "    \"\"\"TODO.\"\"\"\n",
    "    latent_time = vae.get_latent_time(n_samples=30, batch_size=adata_raw.shape[0])\n",
    "    velocities = vae.get_velocity(n_samples=30, batch_size=adata_raw.shape[0])\n",
    "\n",
    "    t = latent_time\n",
    "    scaling = 20 / t.max(0)\n",
    "    adata = adata_raw[:, vae.module.target_index].copy()\n",
    "\n",
    "    adata.layers[\"velocity\"] = velocities\n",
    "    adata.layers[\"latent_time_regvelo\"] = latent_time\n",
    "\n",
    "    adata.layers[\"fit_t\"] = latent_time.values * np.array(scaling)[np.newaxis, :]\n",
    "    adata.var[\"fit_scaling\"] = 1.0\n",
    "    adata.var[\"fit_beta_regvelo\"] = (\n",
    "        torch.clip(torch.nn.functional.softplus(vae.module.v_encoder.beta_mean_unconstr), 0, 50).cpu().detach().numpy()\n",
    "        / scaling\n",
    "    )\n",
    "    adata.var[\"fit_gamma_regvelo\"] = (\n",
    "        torch.clip(torch.nn.functional.softplus(vae.module.v_encoder.gamma_mean_unconstr), 0, 50).cpu().detach().numpy()\n",
    "        / scaling\n",
    "    )\n",
    "\n",
    "    return adata\n",
    "\n",
    "\n",
    "def add_velovi_outputs_to_adata(adata, vae):\n",
    "    \"\"\"TODO.\"\"\"\n",
    "    latent_time = vae.get_latent_time(n_samples=30)\n",
    "    velocities = vae.get_velocity(n_samples=30)\n",
    "\n",
    "    t = latent_time\n",
    "    scaling = 20 / t.max(0)\n",
    "\n",
    "    adata.layers[\"velocity\"] = velocities / scaling\n",
    "    adata.layers[\"latent_time_velovi\"] = latent_time\n",
    "\n",
    "    adata.var[\"fit_alpha_velovi\"] = vae.get_rates()[\"alpha\"] / scaling\n",
    "    adata.var[\"fit_beta_velovi\"] = vae.get_rates()[\"beta\"] / scaling\n",
    "    adata.var[\"fit_gamma_velovi\"] = vae.get_rates()[\"gamma\"] / scaling\n",
    "    adata.var[\"fit_t_\"] = (\n",
    "        torch.nn.functional.softplus(vae.module.switch_time_unconstr).detach().cpu().numpy()\n",
    "    ) * scaling\n",
    "    adata.layers[\"fit_t\"] = latent_time.values * np.array(scaling)[np.newaxis, :]\n",
    "    adata.var[\"fit_scaling\"] = 1.0"
   ]
  },
  {
   "cell_type": "markdown",
   "id": "47004461-448a-4759-8e7c-72c085ac9870",
   "metadata": {},
   "source": [
    "## Initialize all values"
   ]
  },
  {
   "cell_type": "code",
   "execution_count": 9,
   "id": "ee5d7dc8-ab1e-4199-9a2f-16c788d7d63b",
   "metadata": {},
   "outputs": [],
   "source": [
    "velo_scv = []\n",
    "velo_velovi = []\n",
    "velo_rgv = []\n",
    "corr_t_rgv = []\n",
    "corr_t_scv = []\n",
    "corr_t_velovi = []\n",
    "corr_t_emperical = []\n",
    "corr_t_dpt = []\n",
    "beta_list = []\n",
    "gamma_list = []\n",
    "rgv_GRN = []\n",
    "cor_GRN = []\n",
    "gb_GRN = []\n",
    "co_GRN = []"
   ]
  },
  {
   "cell_type": "markdown",
   "id": "199d1e64-659e-4f40-b7c5-e4a88d34aad4",
   "metadata": {},
   "source": [
    "## Run simulation for 100 times"
   ]
  },
  {
   "cell_type": "code",
   "execution_count": 10,
   "id": "e4bc3777-5af4-4519-9ba8-bebef769ecc4",
   "metadata": {
    "tags": []
   },
   "outputs": [
    {
     "name": "stdout",
     "output_type": "stream",
     "text": [
      "0\n"
     ]
    },
    {
     "name": "stderr",
     "output_type": "stream",
     "text": [
      "GPU available: True (cuda), used: True\n",
      "TPU available: False, using: 0 TPU cores\n",
      "IPU available: False, using: 0 IPUs\n",
      "HPU available: False, using: 0 HPUs\n",
      "LOCAL_RANK: 0 - CUDA_VISIBLE_DEVICES: [0]\n"
     ]
    },
    {
     "name": "stdout",
     "output_type": "stream",
     "text": [
      "Epoch 531/1500:  35%|███▌      | 531/1500 [01:29<02:44,  5.91it/s, loss=-11.1, v_num=1]  \n",
      "Monitored metric elbo_validation did not improve in the last 45 records. Best score: -8.346. Signaling Trainer to stop.\n",
      "RegVelo: 0.9690578244701443\n",
      "RegVelo: 0.6662308770847033\n",
      "recovering dynamics (using 1/112 cores)\n"
     ]
    },
    {
     "name": "stderr",
     "output_type": "stream",
     "text": [
      "GPU available: True (cuda), used: True\n",
      "TPU available: False, using: 0 TPU cores\n",
      "IPU available: False, using: 0 IPUs\n",
      "HPU available: False, using: 0 HPUs\n",
      "LOCAL_RANK: 0 - CUDA_VISIBLE_DEVICES: [0]\n"
     ]
    },
    {
     "name": "stdout",
     "output_type": "stream",
     "text": [
      "    finished (0:00:01) --> added \n",
      "    'fit_pars', fitted parameters for splicing dynamics (adata.var)\n",
      "computing velocities\n",
      "WARNING: Too few genes are selected as velocity genes. Consider setting a lower threshold for min_r2 or min_likelihood.\n",
      "    finished (0:00:00) --> added \n",
      "    'velocity', velocity vectors for each individual cell (adata.layers)\n",
      "scVelo: 0.908483001450153\n",
      "scVelo: 0.6292534061954848\n",
      "Epoch 251/500:  50%|█████     | 251/500 [00:24<00:23, 10.42it/s, loss=-12.7, v_num=1]\n",
      "Monitored metric elbo_validation did not improve in the last 45 records. Best score: -10.623. Signaling Trainer to stop.\n",
      "veloVI: SignificanceResult(statistic=0.6944261848066833, pvalue=2.3021282847328487e-216)\n",
      "veloVI: 0.604054404569544\n",
      "initiating Net object ...\n",
      "gem_shape: (1500, 6)\n",
      "TF info shape: (6, 8)\n",
      "initiation completed.\n"
     ]
    },
    {
     "data": {
      "application/vnd.jupyter.widget-view+json": {
       "model_id": "36b9bba2117647bd95c3a113a21ee7ec",
       "version_major": 2,
       "version_minor": 0
      },
      "text/plain": [
       "  0%|          | 0/6 [00:00<?, ?it/s]"
      ]
     },
     "metadata": {},
     "output_type": "display_data"
    },
    {
     "data": {
      "application/vnd.jupyter.widget-view+json": {
       "model_id": "e7ef761e981647078be48f50c80ab7ac",
       "version_major": 2,
       "version_minor": 0
      },
      "text/plain": [
       "  0%|          | 0/6 [00:00<?, ?it/s]"
      ]
     },
     "metadata": {},
     "output_type": "display_data"
    },
    {
     "name": "stdout",
     "output_type": "stream",
     "text": [
      "AUC: RegVelo: 0.8350000000000001 Cor: 0.58 GRNBoost2: 0.7200000000000001 CellOracle: 0.52\n",
      "Velocity: RegVelo: 0.6662308770847033 veloVI: 0.604054404569544 scVelo: 0.6292534061954848\n",
      "1\n"
     ]
    },
    {
     "name": "stderr",
     "output_type": "stream",
     "text": [
      "GPU available: True (cuda), used: True\n",
      "TPU available: False, using: 0 TPU cores\n",
      "IPU available: False, using: 0 IPUs\n",
      "HPU available: False, using: 0 HPUs\n",
      "LOCAL_RANK: 0 - CUDA_VISIBLE_DEVICES: [0]\n"
     ]
    },
    {
     "name": "stdout",
     "output_type": "stream",
     "text": [
      "Epoch 773/1500:  52%|█████▏    | 773/1500 [02:56<02:46,  4.37it/s, loss=-13.7, v_num=1]  \n",
      "Monitored metric elbo_validation did not improve in the last 45 records. Best score: -13.110. Signaling Trainer to stop.\n",
      "RegVelo: 0.9817980532273997\n",
      "RegVelo: 0.5898079540424317\n",
      "recovering dynamics (using 1/112 cores)\n",
      "    finished (0:00:00) --> added \n",
      "    'fit_pars', fitted parameters for splicing dynamics (adata.var)\n",
      "computing velocities\n",
      "WARNING: Too few genes are selected as velocity genes. Consider setting a lower threshold for min_r2 or min_likelihood.\n",
      "    finished (0:00:00) --> added \n",
      "    'velocity', velocity vectors for each individual cell (adata.layers)\n",
      "scVelo: 0.8784577359598915\n",
      "scVelo: 0.5808826134212777\n"
     ]
    },
    {
     "name": "stderr",
     "output_type": "stream",
     "text": [
      "GPU available: True (cuda), used: True\n",
      "TPU available: False, using: 0 TPU cores\n",
      "IPU available: False, using: 0 IPUs\n",
      "HPU available: False, using: 0 HPUs\n",
      "LOCAL_RANK: 0 - CUDA_VISIBLE_DEVICES: [0]\n"
     ]
    },
    {
     "name": "stdout",
     "output_type": "stream",
     "text": [
      "Epoch 236/500:  47%|████▋     | 236/500 [00:22<00:24, 10.63it/s, loss=-9.18, v_num=1]\n",
      "Monitored metric elbo_validation did not improve in the last 45 records. Best score: -6.956. Signaling Trainer to stop.\n",
      "veloVI: SignificanceResult(statistic=0.6912795356797937, pvalue=1.2358647141366788e-213)\n",
      "veloVI: 0.574558568616767\n",
      "initiating Net object ...\n",
      "gem_shape: (1500, 6)\n",
      "TF info shape: (6, 8)\n",
      "initiation completed.\n"
     ]
    },
    {
     "data": {
      "application/vnd.jupyter.widget-view+json": {
       "model_id": "f995ae15b9904b4a8f762e0f9ccdec00",
       "version_major": 2,
       "version_minor": 0
      },
      "text/plain": [
       "  0%|          | 0/6 [00:00<?, ?it/s]"
      ]
     },
     "metadata": {},
     "output_type": "display_data"
    },
    {
     "data": {
      "application/vnd.jupyter.widget-view+json": {
       "model_id": "7a784305815d451b923751c4ec4778ea",
       "version_major": 2,
       "version_minor": 0
      },
      "text/plain": [
       "  0%|          | 0/6 [00:00<?, ?it/s]"
      ]
     },
     "metadata": {},
     "output_type": "display_data"
    },
    {
     "name": "stdout",
     "output_type": "stream",
     "text": [
      "AUC: RegVelo: 0.63 Cor: 0.6100000000000001 GRNBoost2: 0.605 CellOracle: 0.5599999999999999\n",
      "Velocity: RegVelo: 0.5898079540424317 veloVI: 0.574558568616767 scVelo: 0.5808826134212777\n",
      "2\n"
     ]
    },
    {
     "name": "stderr",
     "output_type": "stream",
     "text": [
      "GPU available: True (cuda), used: True\n",
      "TPU available: False, using: 0 TPU cores\n",
      "IPU available: False, using: 0 IPUs\n",
      "HPU available: False, using: 0 HPUs\n",
      "LOCAL_RANK: 0 - CUDA_VISIBLE_DEVICES: [0]\n"
     ]
    },
    {
     "name": "stdout",
     "output_type": "stream",
     "text": [
      "Epoch 545/1500:  36%|███▋      | 545/1500 [01:43<03:01,  5.26it/s, loss=-12.6, v_num=1]  \n",
      "Monitored metric elbo_validation did not improve in the last 45 records. Best score: -11.159. Signaling Trainer to stop.\n",
      "RegVelo: 0.6935624101997935\n",
      "RegVelo: 0.7230041489190593\n",
      "recovering dynamics (using 1/112 cores)\n"
     ]
    },
    {
     "name": "stderr",
     "output_type": "stream",
     "text": [
      "GPU available: True (cuda), used: True\n",
      "TPU available: False, using: 0 TPU cores\n",
      "IPU available: False, using: 0 IPUs\n",
      "HPU available: False, using: 0 HPUs\n",
      "LOCAL_RANK: 0 - CUDA_VISIBLE_DEVICES: [0]\n"
     ]
    },
    {
     "name": "stdout",
     "output_type": "stream",
     "text": [
      "    finished (0:00:00) --> added \n",
      "    'fit_pars', fitted parameters for splicing dynamics (adata.var)\n",
      "computing velocities\n",
      "WARNING: Too few genes are selected as velocity genes. Consider setting a lower threshold for min_r2 or min_likelihood.\n",
      "    finished (0:00:00) --> added \n",
      "    'velocity', velocity vectors for each individual cell (adata.layers)\n",
      "scVelo: 0.7847226684824298\n",
      "scVelo: 0.7023574806228701\n",
      "Epoch 257/500:  51%|█████▏    | 257/500 [00:25<00:23, 10.14it/s, loss=-10.2, v_num=1]\n",
      "Monitored metric elbo_validation did not improve in the last 45 records. Best score: -8.406. Signaling Trainer to stop.\n",
      "veloVI: SignificanceResult(statistic=0.07449016828406606, pvalue=0.003894317807612887)\n",
      "veloVI: 0.669261158643737\n",
      "initiating Net object ...\n",
      "gem_shape: (1500, 6)\n",
      "TF info shape: (6, 8)\n",
      "initiation completed.\n"
     ]
    },
    {
     "data": {
      "application/vnd.jupyter.widget-view+json": {
       "model_id": "d5ffc3fa936a4015967f6872c5e8ac39",
       "version_major": 2,
       "version_minor": 0
      },
      "text/plain": [
       "  0%|          | 0/6 [00:00<?, ?it/s]"
      ]
     },
     "metadata": {},
     "output_type": "display_data"
    },
    {
     "data": {
      "application/vnd.jupyter.widget-view+json": {
       "model_id": "36f4315f79364431b86049c71062d040",
       "version_major": 2,
       "version_minor": 0
      },
      "text/plain": [
       "  0%|          | 0/6 [00:00<?, ?it/s]"
      ]
     },
     "metadata": {},
     "output_type": "display_data"
    },
    {
     "name": "stdout",
     "output_type": "stream",
     "text": [
      "AUC: RegVelo: 0.605 Cor: 0.6399999999999999 GRNBoost2: 0.495 CellOracle: 0.46499999999999997\n",
      "Velocity: RegVelo: 0.7230041489190593 veloVI: 0.669261158643737 scVelo: 0.7023574806228701\n",
      "3\n"
     ]
    },
    {
     "name": "stderr",
     "output_type": "stream",
     "text": [
      "GPU available: True (cuda), used: True\n",
      "TPU available: False, using: 0 TPU cores\n",
      "IPU available: False, using: 0 IPUs\n",
      "HPU available: False, using: 0 HPUs\n",
      "LOCAL_RANK: 0 - CUDA_VISIBLE_DEVICES: [0]\n"
     ]
    },
    {
     "name": "stdout",
     "output_type": "stream",
     "text": [
      "Epoch 825/1500:  55%|█████▌    | 825/1500 [02:52<02:21,  4.78it/s, loss=-17.3, v_num=1]  \n",
      "Monitored metric elbo_validation did not improve in the last 45 records. Best score: -16.566. Signaling Trainer to stop.\n",
      "RegVelo: 0.7617732807881249\n",
      "RegVelo: 0.7583726498713448\n",
      "recovering dynamics (using 1/112 cores)\n"
     ]
    },
    {
     "name": "stderr",
     "output_type": "stream",
     "text": [
      "GPU available: True (cuda), used: True\n",
      "TPU available: False, using: 0 TPU cores\n",
      "IPU available: False, using: 0 IPUs\n",
      "HPU available: False, using: 0 HPUs\n"
     ]
    },
    {
     "name": "stdout",
     "output_type": "stream",
     "text": [
      "    finished (0:00:00) --> added \n",
      "    'fit_pars', fitted parameters for splicing dynamics (adata.var)\n",
      "computing velocities\n",
      "WARNING: Too few genes are selected as velocity genes. Consider setting a lower threshold for min_r2 or min_likelihood.\n",
      "    finished (0:00:00) --> added \n",
      "    'velocity', velocity vectors for each individual cell (adata.layers)\n",
      "scVelo: 0.7745806781143683\n",
      "scVelo: 0.6878857337612209\n"
     ]
    },
    {
     "name": "stderr",
     "output_type": "stream",
     "text": [
      "LOCAL_RANK: 0 - CUDA_VISIBLE_DEVICES: [0]\n"
     ]
    },
    {
     "name": "stdout",
     "output_type": "stream",
     "text": [
      "Epoch 336/500:  67%|██████▋   | 336/500 [00:35<00:17,  9.58it/s, loss=-14.3, v_num=1]\n",
      "Monitored metric elbo_validation did not improve in the last 45 records. Best score: -13.428. Signaling Trainer to stop.\n",
      "veloVI: SignificanceResult(statistic=0.3147529327790813, pvalue=7.53974400574677e-36)\n",
      "veloVI: 0.6378638355923746\n",
      "initiating Net object ...\n",
      "gem_shape: (1500, 6)\n",
      "TF info shape: (6, 8)\n",
      "initiation completed.\n"
     ]
    },
    {
     "data": {
      "application/vnd.jupyter.widget-view+json": {
       "model_id": "13e2b19b1e194a698167e8dce8f7cb16",
       "version_major": 2,
       "version_minor": 0
      },
      "text/plain": [
       "  0%|          | 0/6 [00:00<?, ?it/s]"
      ]
     },
     "metadata": {},
     "output_type": "display_data"
    },
    {
     "data": {
      "application/vnd.jupyter.widget-view+json": {
       "model_id": "478c672b3f9f4419bab821881edb1c53",
       "version_major": 2,
       "version_minor": 0
      },
      "text/plain": [
       "  0%|          | 0/6 [00:00<?, ?it/s]"
      ]
     },
     "metadata": {},
     "output_type": "display_data"
    },
    {
     "name": "stdout",
     "output_type": "stream",
     "text": [
      "AUC: RegVelo: 0.645 Cor: 0.56 GRNBoost2: 0.5800000000000001 CellOracle: 0.7050000000000001\n",
      "Velocity: RegVelo: 0.7583726498713448 veloVI: 0.6378638355923746 scVelo: 0.6878857337612209\n",
      "4\n"
     ]
    },
    {
     "name": "stderr",
     "output_type": "stream",
     "text": [
      "GPU available: True (cuda), used: True\n",
      "TPU available: False, using: 0 TPU cores\n",
      "IPU available: False, using: 0 IPUs\n",
      "HPU available: False, using: 0 HPUs\n",
      "LOCAL_RANK: 0 - CUDA_VISIBLE_DEVICES: [0]\n"
     ]
    },
    {
     "name": "stdout",
     "output_type": "stream",
     "text": [
      "Epoch 454/1500:  30%|███       | 454/1500 [01:14<02:50,  6.13it/s, loss=-11.1, v_num=1]  \n",
      "Monitored metric elbo_validation did not improve in the last 45 records. Best score: -9.141. Signaling Trainer to stop.\n",
      "RegVelo: 0.7882149280955236\n",
      "RegVelo: 0.799880948779682\n",
      "recovering dynamics (using 1/112 cores)\n"
     ]
    },
    {
     "name": "stderr",
     "output_type": "stream",
     "text": [
      "GPU available: True (cuda), used: True\n",
      "TPU available: False, using: 0 TPU cores\n",
      "IPU available: False, using: 0 IPUs\n",
      "HPU available: False, using: 0 HPUs\n",
      "LOCAL_RANK: 0 - CUDA_VISIBLE_DEVICES: [0]\n"
     ]
    },
    {
     "name": "stdout",
     "output_type": "stream",
     "text": [
      "    finished (0:00:00) --> added \n",
      "    'fit_pars', fitted parameters for splicing dynamics (adata.var)\n",
      "computing velocities\n",
      "WARNING: Too few genes are selected as velocity genes. Consider setting a lower threshold for min_r2 or min_likelihood.\n",
      "    finished (0:00:00) --> added \n",
      "    'velocity', velocity vectors for each individual cell (adata.layers)\n",
      "scVelo: 0.8724837431659799\n",
      "scVelo: 0.6767827855858509\n",
      "Epoch 165/500:  33%|███▎      | 165/500 [00:15<00:31, 10.61it/s, loss=-13.9, v_num=1]\n",
      "Monitored metric elbo_validation did not improve in the last 45 records. Best score: -9.011. Signaling Trainer to stop.\n",
      "veloVI: SignificanceResult(statistic=0.8401755023002233, pvalue=0.0)\n",
      "veloVI: 0.6164271995595133\n",
      "initiating Net object ...\n",
      "gem_shape: (1500, 6)\n",
      "TF info shape: (6, 8)\n",
      "initiation completed.\n"
     ]
    },
    {
     "data": {
      "application/vnd.jupyter.widget-view+json": {
       "model_id": "4cfa819084a847d499a749f5e88e6c20",
       "version_major": 2,
       "version_minor": 0
      },
      "text/plain": [
       "  0%|          | 0/6 [00:00<?, ?it/s]"
      ]
     },
     "metadata": {},
     "output_type": "display_data"
    },
    {
     "data": {
      "application/vnd.jupyter.widget-view+json": {
       "model_id": "284b6affe8744db08232ba61419eff62",
       "version_major": 2,
       "version_minor": 0
      },
      "text/plain": [
       "  0%|          | 0/6 [00:00<?, ?it/s]"
      ]
     },
     "metadata": {},
     "output_type": "display_data"
    },
    {
     "name": "stdout",
     "output_type": "stream",
     "text": [
      "AUC: RegVelo: 0.6950000000000001 Cor: 0.53 GRNBoost2: 0.44999999999999996 CellOracle: 0.54\n",
      "Velocity: RegVelo: 0.799880948779682 veloVI: 0.6164271995595133 scVelo: 0.6767827855858509\n",
      "5\n"
     ]
    },
    {
     "name": "stderr",
     "output_type": "stream",
     "text": [
      "GPU available: True (cuda), used: True\n",
      "TPU available: False, using: 0 TPU cores\n",
      "IPU available: False, using: 0 IPUs\n",
      "HPU available: False, using: 0 HPUs\n",
      "LOCAL_RANK: 0 - CUDA_VISIBLE_DEVICES: [0]\n"
     ]
    },
    {
     "name": "stdout",
     "output_type": "stream",
     "text": [
      "Epoch 856/1500:  57%|█████▋    | 856/1500 [03:18<02:29,  4.31it/s, loss=-13.3, v_num=1]  \n",
      "Monitored metric elbo_validation did not improve in the last 45 records. Best score: -13.141. Signaling Trainer to stop.\n",
      "RegVelo: 0.9936233216103653\n",
      "RegVelo: 0.597550764501643\n",
      "recovering dynamics (using 1/112 cores)\n",
      "    finished (0:00:00) --> added \n",
      "    'fit_pars', fitted parameters for splicing dynamics (adata.var)\n",
      "computing velocities\n",
      "WARNING: Too few genes are selected as velocity genes. Consider setting a lower threshold for min_r2 or min_likelihood.\n",
      "    finished (0:00:00) --> added \n",
      "    'velocity', velocity vectors for each individual cell (adata.layers)\n",
      "scVelo: 0.9291424781915854\n",
      "scVelo: 0.5906906696318787\n"
     ]
    },
    {
     "name": "stderr",
     "output_type": "stream",
     "text": [
      "GPU available: True (cuda), used: True\n",
      "TPU available: False, using: 0 TPU cores\n",
      "IPU available: False, using: 0 IPUs\n",
      "HPU available: False, using: 0 HPUs\n",
      "LOCAL_RANK: 0 - CUDA_VISIBLE_DEVICES: [0]\n"
     ]
    },
    {
     "name": "stdout",
     "output_type": "stream",
     "text": [
      "Epoch 442/500:  88%|████████▊ | 442/500 [00:42<00:05, 10.51it/s, loss=-7.85, v_num=1]\n",
      "Monitored metric elbo_validation did not improve in the last 45 records. Best score: -7.942. Signaling Trainer to stop.\n",
      "veloVI: SignificanceResult(statistic=0.8809371275276124, pvalue=0.0)\n",
      "veloVI: 0.5648113315084061\n",
      "initiating Net object ...\n",
      "gem_shape: (1500, 6)\n",
      "TF info shape: (6, 8)\n",
      "initiation completed.\n"
     ]
    },
    {
     "data": {
      "application/vnd.jupyter.widget-view+json": {
       "model_id": "e66f171ce0694685afbb42ba34d32b50",
       "version_major": 2,
       "version_minor": 0
      },
      "text/plain": [
       "  0%|          | 0/6 [00:00<?, ?it/s]"
      ]
     },
     "metadata": {},
     "output_type": "display_data"
    },
    {
     "data": {
      "application/vnd.jupyter.widget-view+json": {
       "model_id": "26b86623941e49eb8e508dd9ca3f653a",
       "version_major": 2,
       "version_minor": 0
      },
      "text/plain": [
       "  0%|          | 0/6 [00:00<?, ?it/s]"
      ]
     },
     "metadata": {},
     "output_type": "display_data"
    },
    {
     "name": "stdout",
     "output_type": "stream",
     "text": [
      "AUC: RegVelo: 0.64 Cor: 0.6499999999999999 GRNBoost2: 0.6000000000000001 CellOracle: 0.51\n",
      "Velocity: RegVelo: 0.597550764501643 veloVI: 0.5648113315084061 scVelo: 0.5906906696318787\n",
      "6\n"
     ]
    },
    {
     "name": "stderr",
     "output_type": "stream",
     "text": [
      "GPU available: True (cuda), used: True\n",
      "TPU available: False, using: 0 TPU cores\n",
      "IPU available: False, using: 0 IPUs\n",
      "HPU available: False, using: 0 HPUs\n",
      "LOCAL_RANK: 0 - CUDA_VISIBLE_DEVICES: [0]\n"
     ]
    },
    {
     "name": "stdout",
     "output_type": "stream",
     "text": [
      "Epoch 560/1500:  37%|███▋      | 560/1500 [01:49<03:03,  5.13it/s, loss=-14, v_num=1]    \n",
      "Monitored metric elbo_validation did not improve in the last 45 records. Best score: -12.516. Signaling Trainer to stop.\n",
      "RegVelo: 0.9320517742452331\n",
      "RegVelo: 0.8133645860556711\n",
      "recovering dynamics (using 1/112 cores)\n"
     ]
    },
    {
     "name": "stderr",
     "output_type": "stream",
     "text": [
      "GPU available: True (cuda), used: True\n",
      "TPU available: False, using: 0 TPU cores\n",
      "IPU available: False, using: 0 IPUs\n",
      "HPU available: False, using: 0 HPUs\n",
      "LOCAL_RANK: 0 - CUDA_VISIBLE_DEVICES: [0]\n"
     ]
    },
    {
     "name": "stdout",
     "output_type": "stream",
     "text": [
      "    finished (0:00:00) --> added \n",
      "    'fit_pars', fitted parameters for splicing dynamics (adata.var)\n",
      "computing velocities\n",
      "WARNING: Too few genes are selected as velocity genes. Consider setting a lower threshold for min_r2 or min_likelihood.\n",
      "    finished (0:00:00) --> added \n",
      "    'velocity', velocity vectors for each individual cell (adata.layers)\n",
      "scVelo: 0.8911760273382954\n",
      "scVelo: 0.7365704789840296\n",
      "Epoch 271/500:  54%|█████▍    | 271/500 [00:25<00:21, 10.49it/s, loss=-13.4, v_num=1]\n",
      "Monitored metric elbo_validation did not improve in the last 45 records. Best score: -12.037. Signaling Trainer to stop.\n",
      "veloVI: SignificanceResult(statistic=-0.16632194769864342, pvalue=9.084833224176774e-11)\n",
      "veloVI: 0.6000508969992612\n",
      "initiating Net object ...\n",
      "gem_shape: (1500, 6)\n",
      "TF info shape: (6, 8)\n",
      "initiation completed.\n"
     ]
    },
    {
     "data": {
      "application/vnd.jupyter.widget-view+json": {
       "model_id": "73136620f795453f8d67d2402f5a463e",
       "version_major": 2,
       "version_minor": 0
      },
      "text/plain": [
       "  0%|          | 0/6 [00:00<?, ?it/s]"
      ]
     },
     "metadata": {},
     "output_type": "display_data"
    },
    {
     "data": {
      "application/vnd.jupyter.widget-view+json": {
       "model_id": "d97a93f17a134fbbae0a261e24f599be",
       "version_major": 2,
       "version_minor": 0
      },
      "text/plain": [
       "  0%|          | 0/6 [00:00<?, ?it/s]"
      ]
     },
     "metadata": {},
     "output_type": "display_data"
    },
    {
     "name": "stdout",
     "output_type": "stream",
     "text": [
      "AUC: RegVelo: 0.715 Cor: 0.69 GRNBoost2: 0.68 CellOracle: 0.58\n",
      "Velocity: RegVelo: 0.8133645860556711 veloVI: 0.6000508969992612 scVelo: 0.7365704789840296\n",
      "7\n"
     ]
    },
    {
     "name": "stderr",
     "output_type": "stream",
     "text": [
      "GPU available: True (cuda), used: True\n",
      "TPU available: False, using: 0 TPU cores\n",
      "IPU available: False, using: 0 IPUs\n",
      "HPU available: False, using: 0 HPUs\n",
      "LOCAL_RANK: 0 - CUDA_VISIBLE_DEVICES: [0]\n"
     ]
    },
    {
     "name": "stdout",
     "output_type": "stream",
     "text": [
      "Epoch 624/1500:  42%|████▏     | 624/1500 [02:12<03:06,  4.69it/s, loss=-14.4, v_num=1]  \n",
      "Monitored metric elbo_validation did not improve in the last 45 records. Best score: -13.561. Signaling Trainer to stop.\n",
      "RegVelo: 0.9497696265196293\n",
      "RegVelo: 0.6822056376681362\n",
      "recovering dynamics (using 1/112 cores)\n"
     ]
    },
    {
     "name": "stderr",
     "output_type": "stream",
     "text": [
      "GPU available: True (cuda), used: True\n",
      "TPU available: False, using: 0 TPU cores\n",
      "IPU available: False, using: 0 IPUs\n",
      "HPU available: False, using: 0 HPUs\n",
      "LOCAL_RANK: 0 - CUDA_VISIBLE_DEVICES: [0]\n"
     ]
    },
    {
     "name": "stdout",
     "output_type": "stream",
     "text": [
      "    finished (0:00:00) --> added \n",
      "    'fit_pars', fitted parameters for splicing dynamics (adata.var)\n",
      "computing velocities\n",
      "WARNING: Too few genes are selected as velocity genes. Consider setting a lower threshold for min_r2 or min_likelihood.\n",
      "    finished (0:00:00) --> added \n",
      "    'velocity', velocity vectors for each individual cell (adata.layers)\n",
      "scVelo: 0.8038968162655149\n",
      "scVelo: 0.6267270606743277\n",
      "Epoch 357/500:  71%|███████▏  | 357/500 [00:34<00:13, 10.41it/s, loss=-12.8, v_num=1]\n",
      "Monitored metric elbo_validation did not improve in the last 45 records. Best score: -13.467. Signaling Trainer to stop.\n",
      "veloVI: SignificanceResult(statistic=0.37616423473965993, pvalue=1.2842713151934197e-51)\n",
      "veloVI: 0.5810479300812678\n",
      "initiating Net object ...\n",
      "gem_shape: (1500, 6)\n",
      "TF info shape: (6, 8)\n",
      "initiation completed.\n"
     ]
    },
    {
     "data": {
      "application/vnd.jupyter.widget-view+json": {
       "model_id": "738ad75bf4ff452b9857541f4e659bed",
       "version_major": 2,
       "version_minor": 0
      },
      "text/plain": [
       "  0%|          | 0/6 [00:00<?, ?it/s]"
      ]
     },
     "metadata": {},
     "output_type": "display_data"
    },
    {
     "data": {
      "application/vnd.jupyter.widget-view+json": {
       "model_id": "8327b0c541ac4531887fc2c528f501f7",
       "version_major": 2,
       "version_minor": 0
      },
      "text/plain": [
       "  0%|          | 0/6 [00:00<?, ?it/s]"
      ]
     },
     "metadata": {},
     "output_type": "display_data"
    },
    {
     "name": "stdout",
     "output_type": "stream",
     "text": [
      "AUC: RegVelo: 0.455 Cor: 0.7 GRNBoost2: 0.665 CellOracle: 0.6\n",
      "Velocity: RegVelo: 0.6822056376681362 veloVI: 0.5810479300812678 scVelo: 0.6267270606743277\n",
      "8\n"
     ]
    },
    {
     "name": "stderr",
     "output_type": "stream",
     "text": [
      "GPU available: True (cuda), used: True\n",
      "TPU available: False, using: 0 TPU cores\n",
      "IPU available: False, using: 0 IPUs\n",
      "HPU available: False, using: 0 HPUs\n",
      "LOCAL_RANK: 0 - CUDA_VISIBLE_DEVICES: [0]\n"
     ]
    },
    {
     "name": "stdout",
     "output_type": "stream",
     "text": [
      "Epoch 527/1500:  35%|███▌      | 527/1500 [01:42<03:09,  5.14it/s, loss=-15.8, v_num=1]  \n",
      "Monitored metric elbo_validation did not improve in the last 45 records. Best score: -13.711. Signaling Trainer to stop.\n",
      "RegVelo: 0.8146064420473077\n",
      "RegVelo: 0.862457374710183\n",
      "recovering dynamics (using 1/112 cores)\n"
     ]
    },
    {
     "name": "stderr",
     "output_type": "stream",
     "text": [
      "GPU available: True (cuda), used: True\n",
      "TPU available: False, using: 0 TPU cores\n",
      "IPU available: False, using: 0 IPUs\n",
      "HPU available: False, using: 0 HPUs\n",
      "LOCAL_RANK: 0 - CUDA_VISIBLE_DEVICES: [0]\n"
     ]
    },
    {
     "name": "stdout",
     "output_type": "stream",
     "text": [
      "    finished (0:00:00) --> added \n",
      "    'fit_pars', fitted parameters for splicing dynamics (adata.var)\n",
      "computing velocities\n",
      "WARNING: Too few genes are selected as velocity genes. Consider setting a lower threshold for min_r2 or min_likelihood.\n",
      "    finished (0:00:00) --> added \n",
      "    'velocity', velocity vectors for each individual cell (adata.layers)\n",
      "scVelo: 0.8146560663881797\n",
      "scVelo: 0.7749088060595918\n",
      "Epoch 339/500:  68%|██████▊   | 339/500 [00:32<00:15, 10.47it/s, loss=-15.4, v_num=1]\n",
      "Monitored metric elbo_validation did not improve in the last 45 records. Best score: -15.312. Signaling Trainer to stop.\n",
      "veloVI: SignificanceResult(statistic=0.49282204524786194, pvalue=1.3111764607524219e-92)\n",
      "veloVI: 0.6912896415079074\n",
      "initiating Net object ...\n",
      "gem_shape: (1500, 6)\n",
      "TF info shape: (6, 8)\n",
      "initiation completed.\n"
     ]
    },
    {
     "data": {
      "application/vnd.jupyter.widget-view+json": {
       "model_id": "44580a14505447afa5c08a195c304d3d",
       "version_major": 2,
       "version_minor": 0
      },
      "text/plain": [
       "  0%|          | 0/6 [00:00<?, ?it/s]"
      ]
     },
     "metadata": {},
     "output_type": "display_data"
    },
    {
     "data": {
      "application/vnd.jupyter.widget-view+json": {
       "model_id": "6f2039be25de41b4b187f6b230f5305f",
       "version_major": 2,
       "version_minor": 0
      },
      "text/plain": [
       "  0%|          | 0/6 [00:00<?, ?it/s]"
      ]
     },
     "metadata": {},
     "output_type": "display_data"
    },
    {
     "name": "stdout",
     "output_type": "stream",
     "text": [
      "AUC: RegVelo: 0.67 Cor: 0.51 GRNBoost2: 0.47 CellOracle: 0.5900000000000001\n",
      "Velocity: RegVelo: 0.862457374710183 veloVI: 0.6912896415079074 scVelo: 0.7749088060595918\n",
      "9\n"
     ]
    },
    {
     "name": "stderr",
     "output_type": "stream",
     "text": [
      "GPU available: True (cuda), used: True\n",
      "TPU available: False, using: 0 TPU cores\n",
      "IPU available: False, using: 0 IPUs\n",
      "HPU available: False, using: 0 HPUs\n",
      "LOCAL_RANK: 0 - CUDA_VISIBLE_DEVICES: [0]\n"
     ]
    },
    {
     "name": "stdout",
     "output_type": "stream",
     "text": [
      "Epoch 696/1500:  46%|████▋     | 696/1500 [02:23<02:45,  4.84it/s, loss=-13.7, v_num=1]  \n",
      "Monitored metric elbo_validation did not improve in the last 45 records. Best score: -13.403. Signaling Trainer to stop.\n",
      "RegVelo: 0.9467261594338486\n",
      "RegVelo: 0.7048009928490954\n",
      "recovering dynamics (using 1/112 cores)\n",
      "    finished (0:00:00) --> added \n",
      "    'fit_pars', fitted parameters for splicing dynamics (adata.var)\n",
      "computing velocities\n",
      "WARNING: Too few genes are selected as velocity genes. Consider setting a lower threshold for min_r2 or min_likelihood.\n",
      "    finished (0:00:00) --> added \n",
      "    'velocity', velocity vectors for each individual cell (adata.layers)\n",
      "scVelo: 0.9035717344612004\n",
      "scVelo: 0.6433883026333352\n"
     ]
    },
    {
     "name": "stderr",
     "output_type": "stream",
     "text": [
      "GPU available: True (cuda), used: True\n",
      "TPU available: False, using: 0 TPU cores\n",
      "IPU available: False, using: 0 IPUs\n",
      "HPU available: False, using: 0 HPUs\n",
      "LOCAL_RANK: 0 - CUDA_VISIBLE_DEVICES: [0]\n"
     ]
    },
    {
     "name": "stdout",
     "output_type": "stream",
     "text": [
      "Epoch 268/500:  54%|█████▎    | 268/500 [00:25<00:21, 10.57it/s, loss=-11.4, v_num=1]\n",
      "Monitored metric elbo_validation did not improve in the last 45 records. Best score: -10.481. Signaling Trainer to stop.\n",
      "veloVI: SignificanceResult(statistic=0.5774201748534111, pvalue=4.1715671034736767e-134)\n",
      "veloVI: 0.6056830680407735\n",
      "initiating Net object ...\n",
      "gem_shape: (1500, 6)\n",
      "TF info shape: (6, 8)\n",
      "initiation completed.\n"
     ]
    },
    {
     "data": {
      "application/vnd.jupyter.widget-view+json": {
       "model_id": "ae06c48653e04cb0a73b99dee2338d26",
       "version_major": 2,
       "version_minor": 0
      },
      "text/plain": [
       "  0%|          | 0/6 [00:00<?, ?it/s]"
      ]
     },
     "metadata": {},
     "output_type": "display_data"
    },
    {
     "data": {
      "application/vnd.jupyter.widget-view+json": {
       "model_id": "4c1fba0d5ac447a9a104a48c76b7158f",
       "version_major": 2,
       "version_minor": 0
      },
      "text/plain": [
       "  0%|          | 0/6 [00:00<?, ?it/s]"
      ]
     },
     "metadata": {},
     "output_type": "display_data"
    },
    {
     "name": "stdout",
     "output_type": "stream",
     "text": [
      "AUC: RegVelo: 0.91 Cor: 0.5199999999999999 GRNBoost2: 0.495 CellOracle: 0.5\n",
      "Velocity: RegVelo: 0.7048009928490954 veloVI: 0.6056830680407735 scVelo: 0.6433883026333352\n",
      "10\n"
     ]
    },
    {
     "name": "stderr",
     "output_type": "stream",
     "text": [
      "GPU available: True (cuda), used: True\n",
      "TPU available: False, using: 0 TPU cores\n",
      "IPU available: False, using: 0 IPUs\n",
      "HPU available: False, using: 0 HPUs\n",
      "LOCAL_RANK: 0 - CUDA_VISIBLE_DEVICES: [0]\n"
     ]
    },
    {
     "name": "stdout",
     "output_type": "stream",
     "text": [
      "Epoch 396/1500:  26%|██▋       | 396/1500 [01:03<02:57,  6.23it/s, loss=-10.6, v_num=1]  \n",
      "Monitored metric elbo_validation did not improve in the last 45 records. Best score: -8.893. Signaling Trainer to stop.\n",
      "RegVelo: 0.8958990897329289\n",
      "RegVelo: 0.6651369000422176\n",
      "recovering dynamics (using 1/112 cores)\n"
     ]
    },
    {
     "name": "stderr",
     "output_type": "stream",
     "text": [
      "GPU available: True (cuda), used: True\n",
      "TPU available: False, using: 0 TPU cores\n",
      "IPU available: False, using: 0 IPUs\n",
      "HPU available: False, using: 0 HPUs\n",
      "LOCAL_RANK: 0 - CUDA_VISIBLE_DEVICES: [0]\n"
     ]
    },
    {
     "name": "stdout",
     "output_type": "stream",
     "text": [
      "    finished (0:00:00) --> added \n",
      "    'fit_pars', fitted parameters for splicing dynamics (adata.var)\n",
      "computing velocities\n",
      "WARNING: Too few genes are selected as velocity genes. Consider setting a lower threshold for min_r2 or min_likelihood.\n",
      "    finished (0:00:00) --> added \n",
      "    'velocity', velocity vectors for each individual cell (adata.layers)\n",
      "scVelo: 0.759235533354894\n",
      "scVelo: 0.6483523036074225\n",
      "Epoch 193/500:  39%|███▊      | 193/500 [00:18<00:29, 10.53it/s, loss=-12.4, v_num=1]\n",
      "Monitored metric elbo_validation did not improve in the last 45 records. Best score: -7.726. Signaling Trainer to stop.\n",
      "veloVI: SignificanceResult(statistic=-0.3204501320404588, pvalue=3.6342622207861723e-37)\n",
      "veloVI: 0.6545319782578162\n",
      "initiating Net object ...\n",
      "gem_shape: (1500, 6)\n",
      "TF info shape: (6, 8)\n",
      "initiation completed.\n"
     ]
    },
    {
     "data": {
      "application/vnd.jupyter.widget-view+json": {
       "model_id": "fa2ffa75f695403f98870dddf0b55a92",
       "version_major": 2,
       "version_minor": 0
      },
      "text/plain": [
       "  0%|          | 0/6 [00:00<?, ?it/s]"
      ]
     },
     "metadata": {},
     "output_type": "display_data"
    },
    {
     "data": {
      "application/vnd.jupyter.widget-view+json": {
       "model_id": "8175bfecf5634d39ab9b5119a1b1ad6b",
       "version_major": 2,
       "version_minor": 0
      },
      "text/plain": [
       "  0%|          | 0/6 [00:00<?, ?it/s]"
      ]
     },
     "metadata": {},
     "output_type": "display_data"
    },
    {
     "name": "stdout",
     "output_type": "stream",
     "text": [
      "AUC: RegVelo: 0.66 Cor: 0.77 GRNBoost2: 0.7050000000000001 CellOracle: 0.485\n",
      "Velocity: RegVelo: 0.6651369000422176 veloVI: 0.6545319782578162 scVelo: 0.6483523036074225\n",
      "11\n"
     ]
    },
    {
     "name": "stderr",
     "output_type": "stream",
     "text": [
      "GPU available: True (cuda), used: True\n",
      "TPU available: False, using: 0 TPU cores\n",
      "IPU available: False, using: 0 IPUs\n",
      "HPU available: False, using: 0 HPUs\n",
      "LOCAL_RANK: 0 - CUDA_VISIBLE_DEVICES: [0]\n"
     ]
    },
    {
     "name": "stdout",
     "output_type": "stream",
     "text": [
      "Epoch 676/1500:  45%|████▌     | 676/1500 [02:07<02:35,  5.31it/s, loss=-12.9, v_num=1]  \n",
      "Monitored metric elbo_validation did not improve in the last 45 records. Best score: -11.995. Signaling Trainer to stop.\n",
      "RegVelo: 0.9682252658778961\n",
      "RegVelo: 0.61604296921872\n",
      "recovering dynamics (using 1/112 cores)\n"
     ]
    },
    {
     "name": "stderr",
     "output_type": "stream",
     "text": [
      "GPU available: True (cuda), used: True\n",
      "TPU available: False, using: 0 TPU cores\n",
      "IPU available: False, using: 0 IPUs\n",
      "HPU available: False, using: 0 HPUs\n",
      "LOCAL_RANK: 0 - CUDA_VISIBLE_DEVICES: [0]\n"
     ]
    },
    {
     "name": "stdout",
     "output_type": "stream",
     "text": [
      "    finished (0:00:00) --> added \n",
      "    'fit_pars', fitted parameters for splicing dynamics (adata.var)\n",
      "computing velocities\n",
      "WARNING: Too few genes are selected as velocity genes. Consider setting a lower threshold for min_r2 or min_likelihood.\n",
      "    finished (0:00:00) --> added \n",
      "    'velocity', velocity vectors for each individual cell (adata.layers)\n",
      "scVelo: 0.7948170546110616\n",
      "scVelo: 0.5601683330722412\n",
      "Epoch 235/500:  47%|████▋     | 235/500 [00:24<00:27,  9.72it/s, loss=-10, v_num=1]  \n",
      "Monitored metric elbo_validation did not improve in the last 45 records. Best score: -7.934. Signaling Trainer to stop.\n",
      "veloVI: SignificanceResult(statistic=-0.03307351869934165, pvalue=0.2004697981428252)\n",
      "veloVI: 0.5971448134736733\n",
      "initiating Net object ...\n",
      "gem_shape: (1500, 6)\n",
      "TF info shape: (6, 8)\n",
      "initiation completed.\n"
     ]
    },
    {
     "data": {
      "application/vnd.jupyter.widget-view+json": {
       "model_id": "71baba1b1cc1494fbaedbba758f0fc7d",
       "version_major": 2,
       "version_minor": 0
      },
      "text/plain": [
       "  0%|          | 0/6 [00:00<?, ?it/s]"
      ]
     },
     "metadata": {},
     "output_type": "display_data"
    },
    {
     "data": {
      "application/vnd.jupyter.widget-view+json": {
       "model_id": "c90f5d0f0eda4e6ea84ebd014b667c00",
       "version_major": 2,
       "version_minor": 0
      },
      "text/plain": [
       "  0%|          | 0/6 [00:00<?, ?it/s]"
      ]
     },
     "metadata": {},
     "output_type": "display_data"
    },
    {
     "name": "stdout",
     "output_type": "stream",
     "text": [
      "AUC: RegVelo: 0.67 Cor: 0.6299999999999999 GRNBoost2: 0.52 CellOracle: 0.505\n",
      "Velocity: RegVelo: 0.61604296921872 veloVI: 0.5971448134736733 scVelo: 0.5601683330722412\n",
      "12\n"
     ]
    },
    {
     "name": "stderr",
     "output_type": "stream",
     "text": [
      "GPU available: True (cuda), used: True\n",
      "TPU available: False, using: 0 TPU cores\n",
      "IPU available: False, using: 0 IPUs\n",
      "HPU available: False, using: 0 HPUs\n",
      "LOCAL_RANK: 0 - CUDA_VISIBLE_DEVICES: [0]\n"
     ]
    },
    {
     "name": "stdout",
     "output_type": "stream",
     "text": [
      "Epoch 785/1500:  52%|█████▏    | 785/1500 [02:41<02:27,  4.85it/s, loss=-13.8, v_num=1]  \n",
      "Monitored metric elbo_validation did not improve in the last 45 records. Best score: -14.105. Signaling Trainer to stop.\n",
      "RegVelo: 0.9135025917020431\n",
      "RegVelo: 0.4834201175850093\n",
      "recovering dynamics (using 1/112 cores)\n",
      "    finished (0:00:00) --> added \n",
      "    'fit_pars', fitted parameters for splicing dynamics (adata.var)\n",
      "computing velocities\n",
      "WARNING: Too few genes are selected as velocity genes. Consider setting a lower threshold for min_r2 or min_likelihood.\n",
      "    finished (0:00:00) --> added \n",
      "    'velocity', velocity vectors for each individual cell (adata.layers)\n",
      "scVelo: 0.7465201402440841\n",
      "scVelo: 0.4380748920838438\n"
     ]
    },
    {
     "name": "stderr",
     "output_type": "stream",
     "text": [
      "GPU available: True (cuda), used: True\n",
      "TPU available: False, using: 0 TPU cores\n",
      "IPU available: False, using: 0 IPUs\n",
      "HPU available: False, using: 0 HPUs\n",
      "LOCAL_RANK: 0 - CUDA_VISIBLE_DEVICES: [0]\n"
     ]
    },
    {
     "name": "stdout",
     "output_type": "stream",
     "text": [
      "Epoch 486/500:  97%|█████████▋| 486/500 [00:46<00:01, 10.35it/s, loss=-5.97, v_num=1]\n",
      "Monitored metric elbo_validation did not improve in the last 45 records. Best score: -6.915. Signaling Trainer to stop.\n",
      "veloVI: SignificanceResult(statistic=0.7133785535015794, pvalue=1.383114463476165e-233)\n",
      "veloVI: 0.45809218735727847\n",
      "initiating Net object ...\n",
      "gem_shape: (1500, 6)\n",
      "TF info shape: (6, 8)\n",
      "initiation completed.\n"
     ]
    },
    {
     "data": {
      "application/vnd.jupyter.widget-view+json": {
       "model_id": "110b4792a45a4126b946350979c7c49e",
       "version_major": 2,
       "version_minor": 0
      },
      "text/plain": [
       "  0%|          | 0/6 [00:00<?, ?it/s]"
      ]
     },
     "metadata": {},
     "output_type": "display_data"
    },
    {
     "data": {
      "application/vnd.jupyter.widget-view+json": {
       "model_id": "3bfacc8b5e754778ac14165776373047",
       "version_major": 2,
       "version_minor": 0
      },
      "text/plain": [
       "  0%|          | 0/6 [00:00<?, ?it/s]"
      ]
     },
     "metadata": {},
     "output_type": "display_data"
    },
    {
     "name": "stdout",
     "output_type": "stream",
     "text": [
      "AUC: RegVelo: 0.405 Cor: 0.6299999999999999 GRNBoost2: 0.575 CellOracle: 0.56\n",
      "Velocity: RegVelo: 0.4834201175850093 veloVI: 0.45809218735727847 scVelo: 0.4380748920838438\n",
      "13\n"
     ]
    },
    {
     "name": "stderr",
     "output_type": "stream",
     "text": [
      "GPU available: True (cuda), used: True\n",
      "TPU available: False, using: 0 TPU cores\n",
      "IPU available: False, using: 0 IPUs\n",
      "HPU available: False, using: 0 HPUs\n",
      "LOCAL_RANK: 0 - CUDA_VISIBLE_DEVICES: [0]\n"
     ]
    },
    {
     "name": "stdout",
     "output_type": "stream",
     "text": [
      "Epoch 397/1500:  26%|██▋       | 397/1500 [01:20<03:44,  4.92it/s, loss=-9.2, v_num=1]   \n",
      "Monitored metric elbo_validation did not improve in the last 45 records. Best score: -7.626. Signaling Trainer to stop.\n",
      "RegVelo: 0.7804743155712285\n",
      "RegVelo: 0.7234175749347718\n",
      "recovering dynamics (using 1/112 cores)\n"
     ]
    },
    {
     "name": "stderr",
     "output_type": "stream",
     "text": [
      "GPU available: True (cuda), used: True\n",
      "TPU available: False, using: 0 TPU cores\n",
      "IPU available: False, using: 0 IPUs\n",
      "HPU available: False, using: 0 HPUs\n",
      "LOCAL_RANK: 0 - CUDA_VISIBLE_DEVICES: [0]\n"
     ]
    },
    {
     "name": "stdout",
     "output_type": "stream",
     "text": [
      "    finished (0:00:00) --> added \n",
      "    'fit_pars', fitted parameters for splicing dynamics (adata.var)\n",
      "computing velocities\n",
      "WARNING: Too few genes are selected as velocity genes. Consider setting a lower threshold for min_r2 or min_likelihood.\n",
      "    finished (0:00:00) --> added \n",
      "    'velocity', velocity vectors for each individual cell (adata.layers)\n",
      "scVelo: 0.8913826369069889\n",
      "scVelo: 0.6187014793687918\n",
      "Epoch 352/500:  70%|███████   | 352/500 [00:36<00:15,  9.64it/s, loss=-13.1, v_num=1]\n",
      "Monitored metric elbo_validation did not improve in the last 45 records. Best score: -11.382. Signaling Trainer to stop.\n",
      "veloVI: SignificanceResult(statistic=0.8467195255168731, pvalue=0.0)\n",
      "veloVI: 0.5728087226532966\n",
      "initiating Net object ...\n",
      "gem_shape: (1500, 6)\n",
      "TF info shape: (6, 8)\n",
      "initiation completed.\n"
     ]
    },
    {
     "data": {
      "application/vnd.jupyter.widget-view+json": {
       "model_id": "5b44277ee07e42c59bbfe93a71461638",
       "version_major": 2,
       "version_minor": 0
      },
      "text/plain": [
       "  0%|          | 0/6 [00:00<?, ?it/s]"
      ]
     },
     "metadata": {},
     "output_type": "display_data"
    },
    {
     "data": {
      "application/vnd.jupyter.widget-view+json": {
       "model_id": "b6a3c75addc04181a8aa9b8f74daeb08",
       "version_major": 2,
       "version_minor": 0
      },
      "text/plain": [
       "  0%|          | 0/6 [00:00<?, ?it/s]"
      ]
     },
     "metadata": {},
     "output_type": "display_data"
    },
    {
     "name": "stdout",
     "output_type": "stream",
     "text": [
      "AUC: RegVelo: 0.565 Cor: 0.5399999999999999 GRNBoost2: 0.56 CellOracle: 0.51\n",
      "Velocity: RegVelo: 0.7234175749347718 veloVI: 0.5728087226532966 scVelo: 0.6187014793687918\n",
      "14\n"
     ]
    },
    {
     "name": "stderr",
     "output_type": "stream",
     "text": [
      "GPU available: True (cuda), used: True\n",
      "TPU available: False, using: 0 TPU cores\n",
      "IPU available: False, using: 0 IPUs\n",
      "HPU available: False, using: 0 HPUs\n",
      "LOCAL_RANK: 0 - CUDA_VISIBLE_DEVICES: [0]\n"
     ]
    },
    {
     "name": "stdout",
     "output_type": "stream",
     "text": [
      "Epoch 710/1500:  47%|████▋     | 710/1500 [02:31<02:48,  4.68it/s, loss=-12.9, v_num=1]  \n",
      "Monitored metric elbo_validation did not improve in the last 45 records. Best score: -11.481. Signaling Trainer to stop.\n",
      "RegVelo: 0.9944662802072357\n",
      "RegVelo: 0.6928532613150722\n",
      "recovering dynamics (using 1/112 cores)\n"
     ]
    },
    {
     "name": "stderr",
     "output_type": "stream",
     "text": [
      "GPU available: True (cuda), used: True\n",
      "TPU available: False, using: 0 TPU cores\n",
      "IPU available: False, using: 0 IPUs\n",
      "HPU available: False, using: 0 HPUs\n",
      "LOCAL_RANK: 0 - CUDA_VISIBLE_DEVICES: [0]\n"
     ]
    },
    {
     "name": "stdout",
     "output_type": "stream",
     "text": [
      "    finished (0:00:00) --> added \n",
      "    'fit_pars', fitted parameters for splicing dynamics (adata.var)\n",
      "computing velocities\n",
      "WARNING: Too few genes are selected as velocity genes. Consider setting a lower threshold for min_r2 or min_likelihood.\n",
      "    finished (0:00:00) --> added \n",
      "    'velocity', velocity vectors for each individual cell (adata.layers)\n",
      "scVelo: 0.8330490894051633\n",
      "scVelo: 0.5903682920858208\n",
      "Epoch 300/500:  60%|██████    | 300/500 [00:29<00:19, 10.27it/s, loss=-8.51, v_num=1]\n",
      "Monitored metric elbo_validation did not improve in the last 45 records. Best score: -7.239. Signaling Trainer to stop.\n",
      "veloVI: SignificanceResult(statistic=0.6417173506670157, pvalue=7.584988895179517e-175)\n",
      "veloVI: 0.5943314306077258\n",
      "initiating Net object ...\n",
      "gem_shape: (1500, 6)\n",
      "TF info shape: (6, 8)\n",
      "initiation completed.\n"
     ]
    },
    {
     "data": {
      "application/vnd.jupyter.widget-view+json": {
       "model_id": "242b6d2cd0c14b75b95304b8f7cff2d8",
       "version_major": 2,
       "version_minor": 0
      },
      "text/plain": [
       "  0%|          | 0/6 [00:00<?, ?it/s]"
      ]
     },
     "metadata": {},
     "output_type": "display_data"
    },
    {
     "data": {
      "application/vnd.jupyter.widget-view+json": {
       "model_id": "251db6f15226435681e6a40259e3e24c",
       "version_major": 2,
       "version_minor": 0
      },
      "text/plain": [
       "  0%|          | 0/6 [00:00<?, ?it/s]"
      ]
     },
     "metadata": {},
     "output_type": "display_data"
    },
    {
     "name": "stdout",
     "output_type": "stream",
     "text": [
      "AUC: RegVelo: 0.605 Cor: 0.75 GRNBoost2: 0.58 CellOracle: 0.535\n",
      "Velocity: RegVelo: 0.6928532613150722 veloVI: 0.5943314306077258 scVelo: 0.5903682920858208\n",
      "15\n"
     ]
    },
    {
     "name": "stderr",
     "output_type": "stream",
     "text": [
      "GPU available: True (cuda), used: True\n",
      "TPU available: False, using: 0 TPU cores\n",
      "IPU available: False, using: 0 IPUs\n",
      "HPU available: False, using: 0 HPUs\n",
      "LOCAL_RANK: 0 - CUDA_VISIBLE_DEVICES: [0]\n"
     ]
    },
    {
     "name": "stdout",
     "output_type": "stream",
     "text": [
      "Epoch 957/1500:  64%|██████▍   | 957/1500 [03:50<02:10,  4.15it/s, loss=-16.9, v_num=1]  \n",
      "Monitored metric elbo_validation did not improve in the last 45 records. Best score: -16.230. Signaling Trainer to stop.\n",
      "RegVelo: 0.9279422826410145\n",
      "RegVelo: 0.7514956344392667\n",
      "recovering dynamics (using 1/112 cores)\n"
     ]
    },
    {
     "name": "stderr",
     "output_type": "stream",
     "text": [
      "GPU available: True (cuda), used: True\n",
      "TPU available: False, using: 0 TPU cores\n",
      "IPU available: False, using: 0 IPUs\n",
      "HPU available: False, using: 0 HPUs\n"
     ]
    },
    {
     "name": "stdout",
     "output_type": "stream",
     "text": [
      "    finished (0:00:00) --> added \n",
      "    'fit_pars', fitted parameters for splicing dynamics (adata.var)\n",
      "computing velocities\n",
      "WARNING: Too few genes are selected as velocity genes. Consider setting a lower threshold for min_r2 or min_likelihood.\n",
      "    finished (0:00:00) --> added \n",
      "    'velocity', velocity vectors for each individual cell (adata.layers)\n",
      "scVelo: 0.8712496019319647\n",
      "scVelo: 0.6938555095334157\n"
     ]
    },
    {
     "name": "stderr",
     "output_type": "stream",
     "text": [
      "LOCAL_RANK: 0 - CUDA_VISIBLE_DEVICES: [0]\n"
     ]
    },
    {
     "name": "stdout",
     "output_type": "stream",
     "text": [
      "Epoch 240/500:  48%|████▊     | 240/500 [00:24<00:26,  9.85it/s, loss=-13.5, v_num=1]\n",
      "Monitored metric elbo_validation did not improve in the last 45 records. Best score: -12.406. Signaling Trainer to stop.\n",
      "veloVI: SignificanceResult(statistic=0.1822977841323485, pvalue=1.125891723363439e-12)\n",
      "veloVI: 0.6312649872608077\n",
      "initiating Net object ...\n",
      "gem_shape: (1500, 6)\n",
      "TF info shape: (6, 8)\n",
      "initiation completed.\n"
     ]
    },
    {
     "data": {
      "application/vnd.jupyter.widget-view+json": {
       "model_id": "fb4cbdf9753a4f9aa4b8347dd792f3cc",
       "version_major": 2,
       "version_minor": 0
      },
      "text/plain": [
       "  0%|          | 0/6 [00:00<?, ?it/s]"
      ]
     },
     "metadata": {},
     "output_type": "display_data"
    },
    {
     "data": {
      "application/vnd.jupyter.widget-view+json": {
       "model_id": "cffad61da573464fb6d354634d09247e",
       "version_major": 2,
       "version_minor": 0
      },
      "text/plain": [
       "  0%|          | 0/6 [00:00<?, ?it/s]"
      ]
     },
     "metadata": {},
     "output_type": "display_data"
    },
    {
     "name": "stdout",
     "output_type": "stream",
     "text": [
      "AUC: RegVelo: 0.62 Cor: 0.6399999999999999 GRNBoost2: 0.53 CellOracle: 0.5750000000000001\n",
      "Velocity: RegVelo: 0.7514956344392667 veloVI: 0.6312649872608077 scVelo: 0.6938555095334157\n",
      "16\n"
     ]
    },
    {
     "name": "stderr",
     "output_type": "stream",
     "text": [
      "GPU available: True (cuda), used: True\n",
      "TPU available: False, using: 0 TPU cores\n",
      "IPU available: False, using: 0 IPUs\n",
      "HPU available: False, using: 0 HPUs\n",
      "LOCAL_RANK: 0 - CUDA_VISIBLE_DEVICES: [0]\n"
     ]
    },
    {
     "name": "stdout",
     "output_type": "stream",
     "text": [
      "Epoch 731/1500:  49%|████▊     | 731/1500 [02:35<02:43,  4.71it/s, loss=-12.7, v_num=1]  \n",
      "Monitored metric elbo_validation did not improve in the last 45 records. Best score: -12.077. Signaling Trainer to stop.\n",
      "RegVelo: 0.9914576566478475\n",
      "RegVelo: 0.6449846911482651\n",
      "recovering dynamics (using 1/112 cores)\n"
     ]
    },
    {
     "name": "stderr",
     "output_type": "stream",
     "text": [
      "GPU available: True (cuda), used: True\n",
      "TPU available: False, using: 0 TPU cores\n",
      "IPU available: False, using: 0 IPUs\n",
      "HPU available: False, using: 0 HPUs\n",
      "LOCAL_RANK: 0 - CUDA_VISIBLE_DEVICES: [0]\n"
     ]
    },
    {
     "name": "stdout",
     "output_type": "stream",
     "text": [
      "    finished (0:00:00) --> added \n",
      "    'fit_pars', fitted parameters for splicing dynamics (adata.var)\n",
      "computing velocities\n",
      "WARNING: Too few genes are selected as velocity genes. Consider setting a lower threshold for min_r2 or min_likelihood.\n",
      "    finished (0:00:00) --> added \n",
      "    'velocity', velocity vectors for each individual cell (adata.layers)\n",
      "scVelo: 0.7550475161175005\n",
      "scVelo: 0.6003759723410403\n",
      "Epoch 292/500:  58%|█████▊    | 292/500 [00:28<00:20, 10.22it/s, loss=-8.39, v_num=1]\n",
      "Monitored metric elbo_validation did not improve in the last 45 records. Best score: -8.192. Signaling Trainer to stop.\n",
      "veloVI: SignificanceResult(statistic=0.4482296356576159, pvalue=5.078343910878137e-75)\n",
      "veloVI: 0.5914849631377852\n",
      "initiating Net object ...\n",
      "gem_shape: (1500, 6)\n",
      "TF info shape: (6, 8)\n",
      "initiation completed.\n"
     ]
    },
    {
     "data": {
      "application/vnd.jupyter.widget-view+json": {
       "model_id": "6e143a9ab5d04c3dbdd3e50852bcba9e",
       "version_major": 2,
       "version_minor": 0
      },
      "text/plain": [
       "  0%|          | 0/6 [00:00<?, ?it/s]"
      ]
     },
     "metadata": {},
     "output_type": "display_data"
    },
    {
     "data": {
      "application/vnd.jupyter.widget-view+json": {
       "model_id": "16d021c72c9049c581359af98cd5a6df",
       "version_major": 2,
       "version_minor": 0
      },
      "text/plain": [
       "  0%|          | 0/6 [00:00<?, ?it/s]"
      ]
     },
     "metadata": {},
     "output_type": "display_data"
    },
    {
     "name": "stdout",
     "output_type": "stream",
     "text": [
      "AUC: RegVelo: 0.78 Cor: 0.6699999999999999 GRNBoost2: 0.6649999999999999 CellOracle: 0.52\n",
      "Velocity: RegVelo: 0.6449846911482651 veloVI: 0.5914849631377852 scVelo: 0.6003759723410403\n",
      "17\n"
     ]
    },
    {
     "name": "stderr",
     "output_type": "stream",
     "text": [
      "GPU available: True (cuda), used: True\n",
      "TPU available: False, using: 0 TPU cores\n",
      "IPU available: False, using: 0 IPUs\n",
      "HPU available: False, using: 0 HPUs\n",
      "LOCAL_RANK: 0 - CUDA_VISIBLE_DEVICES: [0]\n"
     ]
    },
    {
     "name": "stdout",
     "output_type": "stream",
     "text": [
      "Epoch 548/1500:  37%|███▋      | 548/1500 [01:57<03:23,  4.67it/s, loss=-11.7, v_num=1]  \n",
      "Monitored metric elbo_validation did not improve in the last 45 records. Best score: -11.077. Signaling Trainer to stop.\n",
      "RegVelo: 0.9494075544033576\n",
      "RegVelo: 0.6636620209671399\n",
      "recovering dynamics (using 1/112 cores)\n"
     ]
    },
    {
     "name": "stderr",
     "output_type": "stream",
     "text": [
      "GPU available: True (cuda), used: True\n",
      "TPU available: False, using: 0 TPU cores\n",
      "IPU available: False, using: 0 IPUs\n",
      "HPU available: False, using: 0 HPUs\n",
      "LOCAL_RANK: 0 - CUDA_VISIBLE_DEVICES: [0]\n"
     ]
    },
    {
     "name": "stdout",
     "output_type": "stream",
     "text": [
      "    finished (0:00:00) --> added \n",
      "    'fit_pars', fitted parameters for splicing dynamics (adata.var)\n",
      "computing velocities\n",
      "WARNING: Too few genes are selected as velocity genes. Consider setting a lower threshold for min_r2 or min_likelihood.\n",
      "    finished (0:00:00) --> added \n",
      "    'velocity', velocity vectors for each individual cell (adata.layers)\n",
      "scVelo: 0.8038974840807265\n",
      "scVelo: 0.65960579461902\n",
      "Epoch 275/500:  55%|█████▌    | 275/500 [00:28<00:23,  9.60it/s, loss=-9.19, v_num=1]\n",
      "Monitored metric elbo_validation did not improve in the last 45 records. Best score: -8.114. Signaling Trainer to stop.\n",
      "veloVI: SignificanceResult(statistic=0.7631439302861914, pvalue=2.453235574544393e-286)\n",
      "veloVI: 0.644627841256741\n",
      "initiating Net object ...\n",
      "gem_shape: (1500, 6)\n",
      "TF info shape: (6, 8)\n",
      "initiation completed.\n"
     ]
    },
    {
     "data": {
      "application/vnd.jupyter.widget-view+json": {
       "model_id": "35ece16a0e7a4129825ebe0ad19ff89b",
       "version_major": 2,
       "version_minor": 0
      },
      "text/plain": [
       "  0%|          | 0/6 [00:00<?, ?it/s]"
      ]
     },
     "metadata": {},
     "output_type": "display_data"
    },
    {
     "data": {
      "application/vnd.jupyter.widget-view+json": {
       "model_id": "e094fd8ebf504ee4a350ca64e7e76adf",
       "version_major": 2,
       "version_minor": 0
      },
      "text/plain": [
       "  0%|          | 0/6 [00:00<?, ?it/s]"
      ]
     },
     "metadata": {},
     "output_type": "display_data"
    },
    {
     "name": "stdout",
     "output_type": "stream",
     "text": [
      "AUC: RegVelo: 0.65 Cor: 0.69 GRNBoost2: 0.45999999999999996 CellOracle: 0.5149999999999999\n",
      "Velocity: RegVelo: 0.6636620209671399 veloVI: 0.644627841256741 scVelo: 0.65960579461902\n",
      "18\n"
     ]
    },
    {
     "name": "stderr",
     "output_type": "stream",
     "text": [
      "GPU available: True (cuda), used: True\n",
      "TPU available: False, using: 0 TPU cores\n",
      "IPU available: False, using: 0 IPUs\n",
      "HPU available: False, using: 0 HPUs\n",
      "LOCAL_RANK: 0 - CUDA_VISIBLE_DEVICES: [0]\n"
     ]
    },
    {
     "name": "stdout",
     "output_type": "stream",
     "text": [
      "Epoch 581/1500:  39%|███▊      | 581/1500 [01:52<02:57,  5.17it/s, loss=-13.4, v_num=1]  \n",
      "Monitored metric elbo_validation did not improve in the last 45 records. Best score: -12.369. Signaling Trainer to stop.\n",
      "RegVelo: 0.8329341799707467\n",
      "RegVelo: 0.7566079280801251\n",
      "recovering dynamics (using 1/112 cores)\n"
     ]
    },
    {
     "name": "stderr",
     "output_type": "stream",
     "text": [
      "GPU available: True (cuda), used: True\n",
      "TPU available: False, using: 0 TPU cores\n",
      "IPU available: False, using: 0 IPUs\n",
      "HPU available: False, using: 0 HPUs\n",
      "LOCAL_RANK: 0 - CUDA_VISIBLE_DEVICES: [0]\n"
     ]
    },
    {
     "name": "stdout",
     "output_type": "stream",
     "text": [
      "    finished (0:00:00) --> added \n",
      "    'fit_pars', fitted parameters for splicing dynamics (adata.var)\n",
      "computing velocities\n",
      "WARNING: Too few genes are selected as velocity genes. Consider setting a lower threshold for min_r2 or min_likelihood.\n",
      "    finished (0:00:00) --> added \n",
      "    'velocity', velocity vectors for each individual cell (adata.layers)\n",
      "scVelo: 0.8515647362051109\n",
      "scVelo: 0.7015843068129136\n",
      "Epoch 379/500:  76%|███████▌  | 379/500 [00:37<00:11, 10.16it/s, loss=-10.7, v_num=1]\n",
      "Monitored metric elbo_validation did not improve in the last 45 records. Best score: -11.482. Signaling Trainer to stop.\n",
      "veloVI: SignificanceResult(statistic=0.46818022230232104, pvalue=1.4388636311967284e-82)\n",
      "veloVI: 0.6928932050663049\n",
      "initiating Net object ...\n",
      "gem_shape: (1500, 6)\n",
      "TF info shape: (6, 8)\n",
      "initiation completed.\n"
     ]
    },
    {
     "data": {
      "application/vnd.jupyter.widget-view+json": {
       "model_id": "86e67ff939d1417bb4377269de6780fb",
       "version_major": 2,
       "version_minor": 0
      },
      "text/plain": [
       "  0%|          | 0/6 [00:00<?, ?it/s]"
      ]
     },
     "metadata": {},
     "output_type": "display_data"
    },
    {
     "data": {
      "application/vnd.jupyter.widget-view+json": {
       "model_id": "99c84c6614394e2b86e844009c044ef4",
       "version_major": 2,
       "version_minor": 0
      },
      "text/plain": [
       "  0%|          | 0/6 [00:00<?, ?it/s]"
      ]
     },
     "metadata": {},
     "output_type": "display_data"
    },
    {
     "name": "stdout",
     "output_type": "stream",
     "text": [
      "AUC: RegVelo: 0.7050000000000001 Cor: 0.6399999999999999 GRNBoost2: 0.44500000000000006 CellOracle: 0.5449999999999999\n",
      "Velocity: RegVelo: 0.7566079280801251 veloVI: 0.6928932050663049 scVelo: 0.7015843068129136\n",
      "19\n"
     ]
    },
    {
     "name": "stderr",
     "output_type": "stream",
     "text": [
      "GPU available: True (cuda), used: True\n",
      "TPU available: False, using: 0 TPU cores\n",
      "IPU available: False, using: 0 IPUs\n",
      "HPU available: False, using: 0 HPUs\n",
      "LOCAL_RANK: 0 - CUDA_VISIBLE_DEVICES: [0]\n"
     ]
    },
    {
     "name": "stdout",
     "output_type": "stream",
     "text": [
      "Epoch 403/1500:  27%|██▋       | 403/1500 [01:01<02:47,  6.54it/s, loss=-11.6, v_num=1]  \n",
      "Monitored metric elbo_validation did not improve in the last 45 records. Best score: -9.413. Signaling Trainer to stop.\n",
      "RegVelo: 0.6896785109682271\n",
      "RegVelo: 0.8240942201902947\n",
      "recovering dynamics (using 1/112 cores)\n"
     ]
    },
    {
     "name": "stderr",
     "output_type": "stream",
     "text": [
      "GPU available: True (cuda), used: True\n",
      "TPU available: False, using: 0 TPU cores\n",
      "IPU available: False, using: 0 IPUs\n",
      "HPU available: False, using: 0 HPUs\n",
      "LOCAL_RANK: 0 - CUDA_VISIBLE_DEVICES: [0]\n"
     ]
    },
    {
     "name": "stdout",
     "output_type": "stream",
     "text": [
      "    finished (0:00:00) --> added \n",
      "    'fit_pars', fitted parameters for splicing dynamics (adata.var)\n",
      "computing velocities\n",
      "WARNING: Too few genes are selected as velocity genes. Consider setting a lower threshold for min_r2 or min_likelihood.\n",
      "    finished (0:00:00) --> added \n",
      "    'velocity', velocity vectors for each individual cell (adata.layers)\n",
      "scVelo: 0.8630925518595591\n",
      "scVelo: 0.6986828634326079\n",
      "Epoch 296/500:  59%|█████▉    | 296/500 [00:30<00:21,  9.70it/s, loss=-17.9, v_num=1]\n",
      "Monitored metric elbo_validation did not improve in the last 45 records. Best score: -17.193. Signaling Trainer to stop.\n",
      "veloVI: SignificanceResult(statistic=0.6296845008639421, pvalue=1.7395706925975616e-166)\n",
      "veloVI: 0.673337898908807\n",
      "initiating Net object ...\n",
      "gem_shape: (1500, 6)\n",
      "TF info shape: (6, 8)\n",
      "initiation completed.\n"
     ]
    },
    {
     "data": {
      "application/vnd.jupyter.widget-view+json": {
       "model_id": "79d8542d64aa49498a78426282fccc76",
       "version_major": 2,
       "version_minor": 0
      },
      "text/plain": [
       "  0%|          | 0/6 [00:00<?, ?it/s]"
      ]
     },
     "metadata": {},
     "output_type": "display_data"
    },
    {
     "data": {
      "application/vnd.jupyter.widget-view+json": {
       "model_id": "d4becbcf86ed4b858885704a7e17edd6",
       "version_major": 2,
       "version_minor": 0
      },
      "text/plain": [
       "  0%|          | 0/6 [00:00<?, ?it/s]"
      ]
     },
     "metadata": {},
     "output_type": "display_data"
    },
    {
     "name": "stdout",
     "output_type": "stream",
     "text": [
      "AUC: RegVelo: 0.5850000000000001 Cor: 0.47000000000000003 GRNBoost2: 0.505 CellOracle: 0.5249999999999999\n",
      "Velocity: RegVelo: 0.8240942201902947 veloVI: 0.673337898908807 scVelo: 0.6986828634326079\n",
      "20\n"
     ]
    },
    {
     "name": "stderr",
     "output_type": "stream",
     "text": [
      "GPU available: True (cuda), used: True\n",
      "TPU available: False, using: 0 TPU cores\n",
      "IPU available: False, using: 0 IPUs\n",
      "HPU available: False, using: 0 HPUs\n",
      "LOCAL_RANK: 0 - CUDA_VISIBLE_DEVICES: [0]\n"
     ]
    },
    {
     "name": "stdout",
     "output_type": "stream",
     "text": [
      "Epoch 869/1500:  58%|█████▊    | 869/1500 [03:37<02:37,  4.00it/s, loss=-17, v_num=1]    \n",
      "Monitored metric elbo_validation did not improve in the last 45 records. Best score: -16.745. Signaling Trainer to stop.\n",
      "RegVelo: 0.9862560116693387\n",
      "RegVelo: 0.775660730598485\n",
      "recovering dynamics (using 1/112 cores)\n",
      "    finished (0:00:00) --> added \n",
      "    'fit_pars', fitted parameters for splicing dynamics (adata.var)\n",
      "computing velocities\n",
      "WARNING: Too few genes are selected as velocity genes. Consider setting a lower threshold for min_r2 or min_likelihood.\n",
      "    finished (0:00:00) --> added \n",
      "    'velocity', velocity vectors for each individual cell (adata.layers)\n",
      "scVelo: 0.8997167262391109\n",
      "scVelo: 0.6702111263553928\n"
     ]
    },
    {
     "name": "stderr",
     "output_type": "stream",
     "text": [
      "GPU available: True (cuda), used: True\n",
      "TPU available: False, using: 0 TPU cores\n",
      "IPU available: False, using: 0 IPUs\n",
      "HPU available: False, using: 0 HPUs\n",
      "LOCAL_RANK: 0 - CUDA_VISIBLE_DEVICES: [0]\n"
     ]
    },
    {
     "name": "stdout",
     "output_type": "stream",
     "text": [
      "Epoch 302/500:  60%|██████    | 302/500 [00:29<00:19, 10.17it/s, loss=-13.2, v_num=1]\n",
      "Monitored metric elbo_validation did not improve in the last 45 records. Best score: -13.437. Signaling Trainer to stop.\n",
      "veloVI: SignificanceResult(statistic=0.038116262307775484, pvalue=0.14006688135160744)\n",
      "veloVI: 0.5803793357655557\n",
      "initiating Net object ...\n",
      "gem_shape: (1500, 6)\n",
      "TF info shape: (6, 8)\n",
      "initiation completed.\n"
     ]
    },
    {
     "data": {
      "application/vnd.jupyter.widget-view+json": {
       "model_id": "a40be2626743423bb1a765a1b369b115",
       "version_major": 2,
       "version_minor": 0
      },
      "text/plain": [
       "  0%|          | 0/6 [00:00<?, ?it/s]"
      ]
     },
     "metadata": {},
     "output_type": "display_data"
    },
    {
     "data": {
      "application/vnd.jupyter.widget-view+json": {
       "model_id": "d7284f39772347889010da419c3f7fc0",
       "version_major": 2,
       "version_minor": 0
      },
      "text/plain": [
       "  0%|          | 0/6 [00:00<?, ?it/s]"
      ]
     },
     "metadata": {},
     "output_type": "display_data"
    },
    {
     "name": "stdout",
     "output_type": "stream",
     "text": [
      "AUC: RegVelo: 0.77 Cor: 0.6799999999999999 GRNBoost2: 0.69 CellOracle: 0.53\n",
      "Velocity: RegVelo: 0.775660730598485 veloVI: 0.5803793357655557 scVelo: 0.6702111263553928\n",
      "21\n"
     ]
    },
    {
     "name": "stderr",
     "output_type": "stream",
     "text": [
      "GPU available: True (cuda), used: True\n",
      "TPU available: False, using: 0 TPU cores\n",
      "IPU available: False, using: 0 IPUs\n",
      "HPU available: False, using: 0 HPUs\n",
      "LOCAL_RANK: 0 - CUDA_VISIBLE_DEVICES: [0]\n"
     ]
    },
    {
     "name": "stdout",
     "output_type": "stream",
     "text": [
      "Epoch 1091/1500:  73%|███████▎  | 1091/1500 [04:46<01:47,  3.81it/s, loss=-17.4, v_num=1]\n",
      "Monitored metric elbo_validation did not improve in the last 45 records. Best score: -17.539. Signaling Trainer to stop.\n",
      "RegVelo: 0.9482561405582847\n",
      "RegVelo: 0.6965908573779278\n",
      "recovering dynamics (using 1/112 cores)\n"
     ]
    },
    {
     "name": "stderr",
     "output_type": "stream",
     "text": [
      "GPU available: True (cuda), used: True\n",
      "TPU available: False, using: 0 TPU cores\n",
      "IPU available: False, using: 0 IPUs\n",
      "HPU available: False, using: 0 HPUs\n"
     ]
    },
    {
     "name": "stdout",
     "output_type": "stream",
     "text": [
      "    finished (0:00:00) --> added \n",
      "    'fit_pars', fitted parameters for splicing dynamics (adata.var)\n",
      "computing velocities\n",
      "WARNING: Too few genes are selected as velocity genes. Consider setting a lower threshold for min_r2 or min_likelihood.\n",
      "    finished (0:00:00) --> added \n",
      "    'velocity', velocity vectors for each individual cell (adata.layers)\n",
      "scVelo: 0.7680008288014765\n",
      "scVelo: 0.6102937812409029\n"
     ]
    },
    {
     "name": "stderr",
     "output_type": "stream",
     "text": [
      "LOCAL_RANK: 0 - CUDA_VISIBLE_DEVICES: [0]\n"
     ]
    },
    {
     "name": "stdout",
     "output_type": "stream",
     "text": [
      "Epoch 298/500:  60%|█████▉    | 298/500 [00:29<00:20, 10.05it/s, loss=-13, v_num=1]  \n",
      "Monitored metric elbo_validation did not improve in the last 45 records. Best score: -13.284. Signaling Trainer to stop.\n",
      "veloVI: SignificanceResult(statistic=0.1379769217675208, pvalue=8.09279499797708e-08)\n",
      "veloVI: 0.5667962932783187\n",
      "initiating Net object ...\n",
      "gem_shape: (1500, 6)\n",
      "TF info shape: (6, 8)\n",
      "initiation completed.\n"
     ]
    },
    {
     "data": {
      "application/vnd.jupyter.widget-view+json": {
       "model_id": "67aa3be3bbac4d0493c7fa41ed4593d9",
       "version_major": 2,
       "version_minor": 0
      },
      "text/plain": [
       "  0%|          | 0/6 [00:00<?, ?it/s]"
      ]
     },
     "metadata": {},
     "output_type": "display_data"
    },
    {
     "data": {
      "application/vnd.jupyter.widget-view+json": {
       "model_id": "b03b24d42d8f4d82b49dca11d94f8344",
       "version_major": 2,
       "version_minor": 0
      },
      "text/plain": [
       "  0%|          | 0/6 [00:00<?, ?it/s]"
      ]
     },
     "metadata": {},
     "output_type": "display_data"
    },
    {
     "name": "stdout",
     "output_type": "stream",
     "text": [
      "AUC: RegVelo: 0.8 Cor: 0.5299999999999999 GRNBoost2: 0.6799999999999999 CellOracle: 0.415\n",
      "Velocity: RegVelo: 0.6965908573779278 veloVI: 0.5667962932783187 scVelo: 0.6102937812409029\n",
      "22\n"
     ]
    },
    {
     "name": "stderr",
     "output_type": "stream",
     "text": [
      "GPU available: True (cuda), used: True\n",
      "TPU available: False, using: 0 TPU cores\n",
      "IPU available: False, using: 0 IPUs\n",
      "HPU available: False, using: 0 HPUs\n",
      "LOCAL_RANK: 0 - CUDA_VISIBLE_DEVICES: [0]\n"
     ]
    },
    {
     "name": "stdout",
     "output_type": "stream",
     "text": [
      "Epoch 771/1500:  51%|█████▏    | 771/1500 [02:56<02:47,  4.37it/s, loss=-13.5, v_num=1]  \n",
      "Monitored metric elbo_validation did not improve in the last 45 records. Best score: -12.975. Signaling Trainer to stop.\n",
      "RegVelo: 0.9794243997441778\n",
      "RegVelo: 0.6337572619015773\n",
      "recovering dynamics (using 1/112 cores)\n"
     ]
    },
    {
     "name": "stderr",
     "output_type": "stream",
     "text": [
      "GPU available: True (cuda), used: True\n",
      "TPU available: False, using: 0 TPU cores\n",
      "IPU available: False, using: 0 IPUs\n",
      "HPU available: False, using: 0 HPUs\n",
      "LOCAL_RANK: 0 - CUDA_VISIBLE_DEVICES: [0]\n"
     ]
    },
    {
     "name": "stdout",
     "output_type": "stream",
     "text": [
      "    finished (0:00:00) --> added \n",
      "    'fit_pars', fitted parameters for splicing dynamics (adata.var)\n",
      "computing velocities\n",
      "WARNING: Too few genes are selected as velocity genes. Consider setting a lower threshold for min_r2 or min_likelihood.\n",
      "    finished (0:00:00) --> added \n",
      "    'velocity', velocity vectors for each individual cell (adata.layers)\n",
      "scVelo: 0.8713536437722965\n",
      "scVelo: 0.593949061596136\n",
      "Epoch 187/500:  37%|███▋      | 187/500 [00:18<00:30, 10.14it/s, loss=-9.6, v_num=1] \n",
      "Monitored metric elbo_validation did not improve in the last 45 records. Best score: -7.147. Signaling Trainer to stop.\n",
      "veloVI: SignificanceResult(statistic=-0.12437455483313549, pvalue=1.3533010662236536e-06)\n",
      "veloVI: 0.5871320783210843\n",
      "initiating Net object ...\n",
      "gem_shape: (1500, 6)\n",
      "TF info shape: (6, 8)\n",
      "initiation completed.\n"
     ]
    },
    {
     "data": {
      "application/vnd.jupyter.widget-view+json": {
       "model_id": "0595331edb5740aeb07bf4c12db67403",
       "version_major": 2,
       "version_minor": 0
      },
      "text/plain": [
       "  0%|          | 0/6 [00:00<?, ?it/s]"
      ]
     },
     "metadata": {},
     "output_type": "display_data"
    },
    {
     "data": {
      "application/vnd.jupyter.widget-view+json": {
       "model_id": "455090c95ee542fca87736362495ca2c",
       "version_major": 2,
       "version_minor": 0
      },
      "text/plain": [
       "  0%|          | 0/6 [00:00<?, ?it/s]"
      ]
     },
     "metadata": {},
     "output_type": "display_data"
    },
    {
     "name": "stdout",
     "output_type": "stream",
     "text": [
      "AUC: RegVelo: 0.6749999999999999 Cor: 0.7000000000000001 GRNBoost2: 0.655 CellOracle: 0.62\n",
      "Velocity: RegVelo: 0.6337572619015773 veloVI: 0.5871320783210843 scVelo: 0.593949061596136\n",
      "23\n"
     ]
    },
    {
     "name": "stderr",
     "output_type": "stream",
     "text": [
      "GPU available: True (cuda), used: True\n",
      "TPU available: False, using: 0 TPU cores\n",
      "IPU available: False, using: 0 IPUs\n",
      "HPU available: False, using: 0 HPUs\n",
      "LOCAL_RANK: 0 - CUDA_VISIBLE_DEVICES: [0]\n"
     ]
    },
    {
     "name": "stdout",
     "output_type": "stream",
     "text": [
      "Epoch 909/1500:  61%|██████    | 909/1500 [04:02<02:37,  3.75it/s, loss=-16.7, v_num=1]  \n",
      "Monitored metric elbo_validation did not improve in the last 45 records. Best score: -16.271. Signaling Trainer to stop.\n",
      "RegVelo: 0.9823764783738806\n",
      "RegVelo: 0.7438596211653721\n",
      "recovering dynamics (using 1/112 cores)\n",
      "    finished (0:00:00) --> added \n",
      "    'fit_pars', fitted parameters for splicing dynamics (adata.var)\n",
      "computing velocities\n",
      "WARNING: Too few genes are selected as velocity genes. Consider setting a lower threshold for min_r2 or min_likelihood.\n",
      "    finished (0:00:00) --> added \n",
      "    'velocity', velocity vectors for each individual cell (adata.layers)\n",
      "scVelo: 0.88235233437878\n",
      "scVelo: 0.6964445284408365\n"
     ]
    },
    {
     "name": "stderr",
     "output_type": "stream",
     "text": [
      "GPU available: True (cuda), used: True\n",
      "TPU available: False, using: 0 TPU cores\n",
      "IPU available: False, using: 0 IPUs\n",
      "HPU available: False, using: 0 HPUs\n",
      "LOCAL_RANK: 0 - CUDA_VISIBLE_DEVICES: [0]\n"
     ]
    },
    {
     "name": "stdout",
     "output_type": "stream",
     "text": [
      "Epoch 437/500:  87%|████████▋ | 437/500 [00:46<00:06,  9.45it/s, loss=-12.8, v_num=1]\n",
      "Monitored metric elbo_validation did not improve in the last 45 records. Best score: -13.357. Signaling Trainer to stop.\n",
      "veloVI: SignificanceResult(statistic=0.7074392341573834, pvalue=4.8593509241779506e-228)\n",
      "veloVI: 0.6727469914978066\n",
      "initiating Net object ...\n",
      "gem_shape: (1500, 6)\n",
      "TF info shape: (6, 8)\n",
      "initiation completed.\n"
     ]
    },
    {
     "data": {
      "application/vnd.jupyter.widget-view+json": {
       "model_id": "8ae115ea4e1841a499d339f15cbd5259",
       "version_major": 2,
       "version_minor": 0
      },
      "text/plain": [
       "  0%|          | 0/6 [00:00<?, ?it/s]"
      ]
     },
     "metadata": {},
     "output_type": "display_data"
    },
    {
     "data": {
      "application/vnd.jupyter.widget-view+json": {
       "model_id": "ec409561d2d84f29998a5061136d0baf",
       "version_major": 2,
       "version_minor": 0
      },
      "text/plain": [
       "  0%|          | 0/6 [00:00<?, ?it/s]"
      ]
     },
     "metadata": {},
     "output_type": "display_data"
    },
    {
     "name": "stdout",
     "output_type": "stream",
     "text": [
      "AUC: RegVelo: 0.71 Cor: 0.6200000000000001 GRNBoost2: 0.615 CellOracle: 0.615\n",
      "Velocity: RegVelo: 0.7438596211653721 veloVI: 0.6727469914978066 scVelo: 0.6964445284408365\n",
      "24\n"
     ]
    },
    {
     "name": "stderr",
     "output_type": "stream",
     "text": [
      "GPU available: True (cuda), used: True\n",
      "TPU available: False, using: 0 TPU cores\n",
      "IPU available: False, using: 0 IPUs\n",
      "HPU available: False, using: 0 HPUs\n",
      "LOCAL_RANK: 0 - CUDA_VISIBLE_DEVICES: [0]\n"
     ]
    },
    {
     "name": "stdout",
     "output_type": "stream",
     "text": [
      "Epoch 529/1500:  35%|███▌      | 529/1500 [01:39<03:02,  5.33it/s, loss=-12.9, v_num=1]   \n",
      "Monitored metric elbo_validation did not improve in the last 45 records. Best score: -11.229. Signaling Trainer to stop.\n",
      "RegVelo: 0.8689839808817693\n",
      "RegVelo: 0.707509011452813\n",
      "recovering dynamics (using 1/112 cores)\n"
     ]
    },
    {
     "name": "stderr",
     "output_type": "stream",
     "text": [
      "GPU available: True (cuda), used: True\n",
      "TPU available: False, using: 0 TPU cores\n",
      "IPU available: False, using: 0 IPUs\n",
      "HPU available: False, using: 0 HPUs\n",
      "LOCAL_RANK: 0 - CUDA_VISIBLE_DEVICES: [0]\n"
     ]
    },
    {
     "name": "stdout",
     "output_type": "stream",
     "text": [
      "    finished (0:00:00) --> added \n",
      "    'fit_pars', fitted parameters for splicing dynamics (adata.var)\n",
      "computing velocities\n",
      "WARNING: Too few genes are selected as velocity genes. Consider setting a lower threshold for min_r2 or min_likelihood.\n",
      "    finished (0:00:00) --> added \n",
      "    'velocity', velocity vectors for each individual cell (adata.layers)\n",
      "scVelo: 0.9023112889364105\n",
      "scVelo: 0.6806972575785132\n",
      "Epoch 386/500:  77%|███████▋  | 386/500 [00:40<00:12,  9.45it/s, loss=-12.8, v_num=1]\n",
      "Monitored metric elbo_validation did not improve in the last 45 records. Best score: -11.695. Signaling Trainer to stop.\n",
      "veloVI: SignificanceResult(statistic=0.23352936601305155, pvalue=5.000377993293148e-20)\n",
      "veloVI: 0.6545881189125797\n",
      "initiating Net object ...\n",
      "gem_shape: (1500, 6)\n",
      "TF info shape: (6, 8)\n",
      "initiation completed.\n"
     ]
    },
    {
     "data": {
      "application/vnd.jupyter.widget-view+json": {
       "model_id": "dfc36ac1a3414d61941012f7361f9e70",
       "version_major": 2,
       "version_minor": 0
      },
      "text/plain": [
       "  0%|          | 0/6 [00:00<?, ?it/s]"
      ]
     },
     "metadata": {},
     "output_type": "display_data"
    },
    {
     "data": {
      "application/vnd.jupyter.widget-view+json": {
       "model_id": "6a6210abe3c14909b99f7314568f4d8e",
       "version_major": 2,
       "version_minor": 0
      },
      "text/plain": [
       "  0%|          | 0/6 [00:00<?, ?it/s]"
      ]
     },
     "metadata": {},
     "output_type": "display_data"
    },
    {
     "name": "stdout",
     "output_type": "stream",
     "text": [
      "AUC: RegVelo: 0.69 Cor: 0.6 GRNBoost2: 0.45 CellOracle: 0.485\n",
      "Velocity: RegVelo: 0.707509011452813 veloVI: 0.6545881189125797 scVelo: 0.6806972575785132\n",
      "25\n"
     ]
    },
    {
     "name": "stderr",
     "output_type": "stream",
     "text": [
      "GPU available: True (cuda), used: True\n",
      "TPU available: False, using: 0 TPU cores\n",
      "IPU available: False, using: 0 IPUs\n",
      "HPU available: False, using: 0 HPUs\n",
      "LOCAL_RANK: 0 - CUDA_VISIBLE_DEVICES: [0]\n"
     ]
    },
    {
     "name": "stdout",
     "output_type": "stream",
     "text": [
      "Epoch 565/1500:  38%|███▊      | 565/1500 [02:14<03:43,  4.19it/s, loss=-15.2, v_num=1]  \n",
      "Monitored metric elbo_validation did not improve in the last 45 records. Best score: -13.634. Signaling Trainer to stop.\n",
      "RegVelo: 0.8502980782216331\n",
      "RegVelo: 0.7791432159097768\n",
      "recovering dynamics (using 1/112 cores)\n"
     ]
    },
    {
     "name": "stderr",
     "output_type": "stream",
     "text": [
      "GPU available: True (cuda), used: True\n",
      "TPU available: False, using: 0 TPU cores\n",
      "IPU available: False, using: 0 IPUs\n",
      "HPU available: False, using: 0 HPUs\n",
      "LOCAL_RANK: 0 - CUDA_VISIBLE_DEVICES: [0]\n"
     ]
    },
    {
     "name": "stdout",
     "output_type": "stream",
     "text": [
      "    finished (0:00:00) --> added \n",
      "    'fit_pars', fitted parameters for splicing dynamics (adata.var)\n",
      "computing velocities\n",
      "WARNING: Too few genes are selected as velocity genes. Consider setting a lower threshold for min_r2 or min_likelihood.\n",
      "    finished (0:00:00) --> added \n",
      "    'velocity', velocity vectors for each individual cell (adata.layers)\n",
      "scVelo: 0.8943341313275314\n",
      "scVelo: 0.7141197089385476\n",
      "Epoch 338/500:  68%|██████▊   | 338/500 [00:33<00:15, 10.19it/s, loss=-16.7, v_num=1]\n",
      "Monitored metric elbo_validation did not improve in the last 45 records. Best score: -15.190. Signaling Trainer to stop.\n",
      "veloVI: SignificanceResult(statistic=0.12236113538038118, pvalue=2.0047432723936106e-06)\n",
      "veloVI: 0.6738017920875708\n",
      "initiating Net object ...\n",
      "gem_shape: (1500, 6)\n",
      "TF info shape: (6, 8)\n",
      "initiation completed.\n"
     ]
    },
    {
     "data": {
      "application/vnd.jupyter.widget-view+json": {
       "model_id": "6def12dbbef14212bac72c363e26da3f",
       "version_major": 2,
       "version_minor": 0
      },
      "text/plain": [
       "  0%|          | 0/6 [00:00<?, ?it/s]"
      ]
     },
     "metadata": {},
     "output_type": "display_data"
    },
    {
     "data": {
      "application/vnd.jupyter.widget-view+json": {
       "model_id": "77359c9102d9422e845c742b4e2eafe3",
       "version_major": 2,
       "version_minor": 0
      },
      "text/plain": [
       "  0%|          | 0/6 [00:00<?, ?it/s]"
      ]
     },
     "metadata": {},
     "output_type": "display_data"
    },
    {
     "name": "stdout",
     "output_type": "stream",
     "text": [
      "AUC: RegVelo: 0.645 Cor: 0.5900000000000001 GRNBoost2: 0.535 CellOracle: 0.48000000000000004\n",
      "Velocity: RegVelo: 0.7791432159097768 veloVI: 0.6738017920875708 scVelo: 0.7141197089385476\n",
      "26\n"
     ]
    },
    {
     "name": "stderr",
     "output_type": "stream",
     "text": [
      "GPU available: True (cuda), used: True\n",
      "TPU available: False, using: 0 TPU cores\n",
      "IPU available: False, using: 0 IPUs\n",
      "HPU available: False, using: 0 HPUs\n",
      "LOCAL_RANK: 0 - CUDA_VISIBLE_DEVICES: [0]\n"
     ]
    },
    {
     "name": "stdout",
     "output_type": "stream",
     "text": [
      "Epoch 535/1500:  36%|███▌      | 535/1500 [01:47<03:13,  4.97it/s, loss=-16.9, v_num=1]  \n",
      "Monitored metric elbo_validation did not improve in the last 45 records. Best score: -13.921. Signaling Trainer to stop.\n",
      "RegVelo: 0.7026387442838865\n",
      "RegVelo: 0.8712171250037799\n",
      "recovering dynamics (using 1/112 cores)\n"
     ]
    },
    {
     "name": "stderr",
     "output_type": "stream",
     "text": [
      "GPU available: True (cuda), used: True\n",
      "TPU available: False, using: 0 TPU cores\n",
      "IPU available: False, using: 0 IPUs\n",
      "HPU available: False, using: 0 HPUs\n",
      "LOCAL_RANK: 0 - CUDA_VISIBLE_DEVICES: [0]\n"
     ]
    },
    {
     "name": "stdout",
     "output_type": "stream",
     "text": [
      "    finished (0:00:00) --> added \n",
      "    'fit_pars', fitted parameters for splicing dynamics (adata.var)\n",
      "computing velocities\n",
      "WARNING: Too few genes are selected as velocity genes. Consider setting a lower threshold for min_r2 or min_likelihood.\n",
      "    finished (0:00:00) --> added \n",
      "    'velocity', velocity vectors for each individual cell (adata.layers)\n",
      "scVelo: 0.6991800217600931\n",
      "scVelo: 0.8053603985433008\n",
      "Epoch 257/500:  51%|█████▏    | 257/500 [00:27<00:25,  9.48it/s, loss=-16.2, v_num=1]\n",
      "Monitored metric elbo_validation did not improve in the last 45 records. Best score: -15.483. Signaling Trainer to stop.\n",
      "veloVI: SignificanceResult(statistic=0.6043580534924683, pvalue=4.8131946631063096e-150)\n",
      "veloVI: 0.6876011769372595\n",
      "initiating Net object ...\n",
      "gem_shape: (1500, 6)\n",
      "TF info shape: (6, 8)\n",
      "initiation completed.\n"
     ]
    },
    {
     "data": {
      "application/vnd.jupyter.widget-view+json": {
       "model_id": "a3881d9f9dc248b0adfa9374c7edf8ce",
       "version_major": 2,
       "version_minor": 0
      },
      "text/plain": [
       "  0%|          | 0/6 [00:00<?, ?it/s]"
      ]
     },
     "metadata": {},
     "output_type": "display_data"
    },
    {
     "data": {
      "application/vnd.jupyter.widget-view+json": {
       "model_id": "197cc5705c304302aec58f4b8d818f32",
       "version_major": 2,
       "version_minor": 0
      },
      "text/plain": [
       "  0%|          | 0/6 [00:00<?, ?it/s]"
      ]
     },
     "metadata": {},
     "output_type": "display_data"
    },
    {
     "name": "stdout",
     "output_type": "stream",
     "text": [
      "AUC: RegVelo: 0.5599999999999999 Cor: 0.5 GRNBoost2: 0.41500000000000004 CellOracle: 0.61\n",
      "Velocity: RegVelo: 0.8712171250037799 veloVI: 0.6876011769372595 scVelo: 0.8053603985433008\n",
      "27\n"
     ]
    },
    {
     "name": "stderr",
     "output_type": "stream",
     "text": [
      "GPU available: True (cuda), used: True\n",
      "TPU available: False, using: 0 TPU cores\n",
      "IPU available: False, using: 0 IPUs\n",
      "HPU available: False, using: 0 HPUs\n",
      "LOCAL_RANK: 0 - CUDA_VISIBLE_DEVICES: [0]\n"
     ]
    },
    {
     "name": "stdout",
     "output_type": "stream",
     "text": [
      "Epoch 591/1500:  39%|███▉      | 591/1500 [02:04<03:11,  4.74it/s, loss=-13.1, v_num=1]  \n",
      "Monitored metric elbo_validation did not improve in the last 45 records. Best score: -12.417. Signaling Trainer to stop.\n",
      "RegVelo: 0.9106701398533955\n",
      "RegVelo: 0.7417553606974289\n",
      "recovering dynamics (using 1/112 cores)\n"
     ]
    },
    {
     "name": "stderr",
     "output_type": "stream",
     "text": [
      "GPU available: True (cuda), used: True\n",
      "TPU available: False, using: 0 TPU cores\n",
      "IPU available: False, using: 0 IPUs\n",
      "HPU available: False, using: 0 HPUs\n",
      "LOCAL_RANK: 0 - CUDA_VISIBLE_DEVICES: [0]\n"
     ]
    },
    {
     "name": "stdout",
     "output_type": "stream",
     "text": [
      "    finished (0:00:00) --> added \n",
      "    'fit_pars', fitted parameters for splicing dynamics (adata.var)\n",
      "computing velocities\n",
      "WARNING: Too few genes are selected as velocity genes. Consider setting a lower threshold for min_r2 or min_likelihood.\n",
      "    finished (0:00:00) --> added \n",
      "    'velocity', velocity vectors for each individual cell (adata.layers)\n",
      "scVelo: 0.9126169706951994\n",
      "scVelo: 0.7054428858570021\n",
      "Epoch 393/500:  79%|███████▊  | 393/500 [00:39<00:10, 10.06it/s, loss=-10.3, v_num=1]\n",
      "Monitored metric elbo_validation did not improve in the last 45 records. Best score: -10.235. Signaling Trainer to stop.\n",
      "veloVI: SignificanceResult(statistic=0.5725789389239729, pvalue=2.1354833169158988e-131)\n",
      "veloVI: 0.7065846660130047\n",
      "initiating Net object ...\n",
      "gem_shape: (1500, 6)\n",
      "TF info shape: (6, 8)\n",
      "initiation completed.\n"
     ]
    },
    {
     "data": {
      "application/vnd.jupyter.widget-view+json": {
       "model_id": "33a008daa6b94463b65b4dbbf3aaad58",
       "version_major": 2,
       "version_minor": 0
      },
      "text/plain": [
       "  0%|          | 0/6 [00:00<?, ?it/s]"
      ]
     },
     "metadata": {},
     "output_type": "display_data"
    },
    {
     "data": {
      "application/vnd.jupyter.widget-view+json": {
       "model_id": "3d42987ab908475ca937f9a72a2235d3",
       "version_major": 2,
       "version_minor": 0
      },
      "text/plain": [
       "  0%|          | 0/6 [00:00<?, ?it/s]"
      ]
     },
     "metadata": {},
     "output_type": "display_data"
    },
    {
     "name": "stdout",
     "output_type": "stream",
     "text": [
      "AUC: RegVelo: 0.6950000000000001 Cor: 0.65 GRNBoost2: 0.52 CellOracle: 0.5800000000000001\n",
      "Velocity: RegVelo: 0.7417553606974289 veloVI: 0.7065846660130047 scVelo: 0.7054428858570021\n",
      "28\n"
     ]
    },
    {
     "name": "stderr",
     "output_type": "stream",
     "text": [
      "GPU available: True (cuda), used: True\n",
      "TPU available: False, using: 0 TPU cores\n",
      "IPU available: False, using: 0 IPUs\n",
      "HPU available: False, using: 0 HPUs\n",
      "LOCAL_RANK: 0 - CUDA_VISIBLE_DEVICES: [0]\n"
     ]
    },
    {
     "name": "stdout",
     "output_type": "stream",
     "text": [
      "Epoch 522/1500:  35%|███▍      | 522/1500 [01:34<02:57,  5.50it/s, loss=-14.1, v_num=1]  \n",
      "Monitored metric elbo_validation did not improve in the last 45 records. Best score: -12.052. Signaling Trainer to stop.\n",
      "RegVelo: 0.8589544607432755\n",
      "RegVelo: 0.7533452316423442\n",
      "recovering dynamics (using 1/112 cores)\n"
     ]
    },
    {
     "name": "stderr",
     "output_type": "stream",
     "text": [
      "GPU available: True (cuda), used: True\n",
      "TPU available: False, using: 0 TPU cores\n",
      "IPU available: False, using: 0 IPUs\n",
      "HPU available: False, using: 0 HPUs\n",
      "LOCAL_RANK: 0 - CUDA_VISIBLE_DEVICES: [0]\n"
     ]
    },
    {
     "name": "stdout",
     "output_type": "stream",
     "text": [
      "    finished (0:00:00) --> added \n",
      "    'fit_pars', fitted parameters for splicing dynamics (adata.var)\n",
      "computing velocities\n",
      "WARNING: Too few genes are selected as velocity genes. Consider setting a lower threshold for min_r2 or min_likelihood.\n",
      "    finished (0:00:00) --> added \n",
      "    'velocity', velocity vectors for each individual cell (adata.layers)\n",
      "scVelo: 0.8558605023730878\n",
      "scVelo: 0.7074144959475671\n",
      "Epoch 266/500:  53%|█████▎    | 266/500 [00:27<00:24,  9.60it/s, loss=-15.5, v_num=1]\n",
      "Monitored metric elbo_validation did not improve in the last 45 records. Best score: -13.416. Signaling Trainer to stop.\n",
      "veloVI: SignificanceResult(statistic=0.36165111184493864, pvalue=1.4379973323570734e-47)\n",
      "veloVI: 0.6613800632997625\n",
      "initiating Net object ...\n",
      "gem_shape: (1500, 6)\n",
      "TF info shape: (6, 8)\n",
      "initiation completed.\n"
     ]
    },
    {
     "data": {
      "application/vnd.jupyter.widget-view+json": {
       "model_id": "fbfeaf30a54943679633ac7a868ce3f5",
       "version_major": 2,
       "version_minor": 0
      },
      "text/plain": [
       "  0%|          | 0/6 [00:00<?, ?it/s]"
      ]
     },
     "metadata": {},
     "output_type": "display_data"
    },
    {
     "data": {
      "application/vnd.jupyter.widget-view+json": {
       "model_id": "acc71c4cd18d41d2a1888067504c2c76",
       "version_major": 2,
       "version_minor": 0
      },
      "text/plain": [
       "  0%|          | 0/6 [00:00<?, ?it/s]"
      ]
     },
     "metadata": {},
     "output_type": "display_data"
    },
    {
     "name": "stdout",
     "output_type": "stream",
     "text": [
      "AUC: RegVelo: 0.6299999999999999 Cor: 0.49 GRNBoost2: 0.36 CellOracle: 0.565\n",
      "Velocity: RegVelo: 0.7533452316423442 veloVI: 0.6613800632997625 scVelo: 0.7074144959475671\n",
      "29\n"
     ]
    },
    {
     "name": "stderr",
     "output_type": "stream",
     "text": [
      "GPU available: True (cuda), used: True\n",
      "TPU available: False, using: 0 TPU cores\n",
      "IPU available: False, using: 0 IPUs\n",
      "HPU available: False, using: 0 HPUs\n",
      "LOCAL_RANK: 0 - CUDA_VISIBLE_DEVICES: [0]\n"
     ]
    },
    {
     "name": "stdout",
     "output_type": "stream",
     "text": [
      "Epoch 382/1500:  25%|██▌       | 382/1500 [01:04<03:07,  5.95it/s, loss=-7.71, v_num=1]  \n",
      "Monitored metric elbo_validation did not improve in the last 45 records. Best score: -5.695. Signaling Trainer to stop.\n",
      "RegVelo: 0.3800484889104395\n",
      "RegVelo: 0.635589419504298\n",
      "recovering dynamics (using 1/112 cores)\n"
     ]
    },
    {
     "name": "stderr",
     "output_type": "stream",
     "text": [
      "GPU available: True (cuda), used: True\n",
      "TPU available: False, using: 0 TPU cores\n",
      "IPU available: False, using: 0 IPUs\n",
      "HPU available: False, using: 0 HPUs\n",
      "LOCAL_RANK: 0 - CUDA_VISIBLE_DEVICES: [0]\n"
     ]
    },
    {
     "name": "stdout",
     "output_type": "stream",
     "text": [
      "    finished (0:00:00) --> added \n",
      "    'fit_pars', fitted parameters for splicing dynamics (adata.var)\n",
      "computing velocities\n",
      "WARNING: Too few genes are selected as velocity genes. Consider setting a lower threshold for min_r2 or min_likelihood.\n",
      "    finished (0:00:00) --> added \n",
      "    'velocity', velocity vectors for each individual cell (adata.layers)\n",
      "scVelo: 0.7536878993939984\n",
      "scVelo: 0.5706734443544008\n",
      "Epoch 338/500:  68%|██████▊   | 338/500 [00:35<00:17,  9.48it/s, loss=-8.64, v_num=1]\n",
      "Monitored metric elbo_validation did not improve in the last 45 records. Best score: -10.597. Signaling Trainer to stop.\n",
      "veloVI: SignificanceResult(statistic=0.6028333920173595, pvalue=4.220652295422101e-149)\n",
      "veloVI: 0.5240493613121421\n",
      "initiating Net object ...\n",
      "gem_shape: (1500, 6)\n",
      "TF info shape: (6, 8)\n",
      "initiation completed.\n"
     ]
    },
    {
     "data": {
      "application/vnd.jupyter.widget-view+json": {
       "model_id": "ea2d6e82fccf482895da06be037be458",
       "version_major": 2,
       "version_minor": 0
      },
      "text/plain": [
       "  0%|          | 0/6 [00:00<?, ?it/s]"
      ]
     },
     "metadata": {},
     "output_type": "display_data"
    },
    {
     "data": {
      "application/vnd.jupyter.widget-view+json": {
       "model_id": "9f20565ff6b74c0995fcaf940c95e501",
       "version_major": 2,
       "version_minor": 0
      },
      "text/plain": [
       "  0%|          | 0/6 [00:00<?, ?it/s]"
      ]
     },
     "metadata": {},
     "output_type": "display_data"
    },
    {
     "name": "stdout",
     "output_type": "stream",
     "text": [
      "AUC: RegVelo: 0.545 Cor: 0.5800000000000001 GRNBoost2: 0.6799999999999999 CellOracle: 0.575\n",
      "Velocity: RegVelo: 0.635589419504298 veloVI: 0.5240493613121421 scVelo: 0.5706734443544008\n",
      "30\n"
     ]
    },
    {
     "name": "stderr",
     "output_type": "stream",
     "text": [
      "GPU available: True (cuda), used: True\n",
      "TPU available: False, using: 0 TPU cores\n",
      "IPU available: False, using: 0 IPUs\n",
      "HPU available: False, using: 0 HPUs\n",
      "LOCAL_RANK: 0 - CUDA_VISIBLE_DEVICES: [0]\n"
     ]
    },
    {
     "name": "stdout",
     "output_type": "stream",
     "text": [
      "Epoch 428/1500:  29%|██▊       | 428/1500 [01:18<03:15,  5.49it/s, loss=-12.8, v_num=1]  \n",
      "Monitored metric elbo_validation did not improve in the last 45 records. Best score: -10.964. Signaling Trainer to stop.\n"
     ]
    },
    {
     "name": "stderr",
     "output_type": "stream",
     "text": [
      "GPU available: True (cuda), used: True\n",
      "TPU available: False, using: 0 TPU cores\n",
      "IPU available: False, using: 0 IPUs\n",
      "HPU available: False, using: 0 HPUs\n",
      "LOCAL_RANK: 0 - CUDA_VISIBLE_DEVICES: [0]\n"
     ]
    },
    {
     "name": "stdout",
     "output_type": "stream",
     "text": [
      "Epoch 903/1500:  60%|██████    | 903/1500 [03:08<02:04,  4.79it/s, loss=-13.7, v_num=1]  \n",
      "Monitored metric elbo_validation did not improve in the last 45 records. Best score: -14.783. Signaling Trainer to stop.\n",
      "RegVelo: 0.9948666652603847\n",
      "RegVelo: 0.5532157348543058\n",
      "recovering dynamics (using 1/112 cores)\n"
     ]
    },
    {
     "name": "stderr",
     "output_type": "stream",
     "text": [
      "GPU available: True (cuda), used: True\n",
      "TPU available: False, using: 0 TPU cores\n",
      "IPU available: False, using: 0 IPUs\n",
      "HPU available: False, using: 0 HPUs\n",
      "LOCAL_RANK: 0 - CUDA_VISIBLE_DEVICES: [0]\n"
     ]
    },
    {
     "name": "stdout",
     "output_type": "stream",
     "text": [
      "    finished (0:00:00) --> added \n",
      "    'fit_pars', fitted parameters for splicing dynamics (adata.var)\n",
      "computing velocities\n",
      "WARNING: Too few genes are selected as velocity genes. Consider setting a lower threshold for min_r2 or min_likelihood.\n",
      "    finished (0:00:00) --> added \n",
      "    'velocity', velocity vectors for each individual cell (adata.layers)\n",
      "scVelo: 0.8494001471419576\n",
      "scVelo: 0.5094561545988417\n",
      "Epoch 500/500: 100%|██████████| 500/500 [00:48<00:00, 10.06it/s, loss=-8.13, v_num=1]"
     ]
    },
    {
     "name": "stderr",
     "output_type": "stream",
     "text": [
      "`Trainer.fit` stopped: `max_epochs=500` reached.\n"
     ]
    },
    {
     "name": "stdout",
     "output_type": "stream",
     "text": [
      "Epoch 500/500: 100%|██████████| 500/500 [00:48<00:00, 10.24it/s, loss=-8.13, v_num=1]\n",
      "veloVI: SignificanceResult(statistic=0.770910276849012, pvalue=9.339690106910416e-296)\n",
      "veloVI: 0.5394176599449625\n",
      "initiating Net object ...\n",
      "gem_shape: (1500, 6)\n",
      "TF info shape: (6, 8)\n",
      "initiation completed.\n"
     ]
    },
    {
     "data": {
      "application/vnd.jupyter.widget-view+json": {
       "model_id": "b3d2e95774d34f8f9eefe0251332cf24",
       "version_major": 2,
       "version_minor": 0
      },
      "text/plain": [
       "  0%|          | 0/6 [00:00<?, ?it/s]"
      ]
     },
     "metadata": {},
     "output_type": "display_data"
    },
    {
     "data": {
      "application/vnd.jupyter.widget-view+json": {
       "model_id": "25988982cf71401eb134c702b820e90c",
       "version_major": 2,
       "version_minor": 0
      },
      "text/plain": [
       "  0%|          | 0/6 [00:00<?, ?it/s]"
      ]
     },
     "metadata": {},
     "output_type": "display_data"
    },
    {
     "name": "stdout",
     "output_type": "stream",
     "text": [
      "AUC: RegVelo: 0.59 Cor: 0.5499999999999999 GRNBoost2: 0.505 CellOracle: 0.485\n",
      "Velocity: RegVelo: 0.5532157348543058 veloVI: 0.5394176599449625 scVelo: 0.5094561545988417\n",
      "32\n"
     ]
    },
    {
     "name": "stderr",
     "output_type": "stream",
     "text": [
      "GPU available: True (cuda), used: True\n",
      "TPU available: False, using: 0 TPU cores\n",
      "IPU available: False, using: 0 IPUs\n",
      "HPU available: False, using: 0 HPUs\n",
      "LOCAL_RANK: 0 - CUDA_VISIBLE_DEVICES: [0]\n"
     ]
    },
    {
     "name": "stdout",
     "output_type": "stream",
     "text": [
      "Epoch 782/1500:  52%|█████▏    | 782/1500 [03:01<02:46,  4.32it/s, loss=-18.9, v_num=1] \n",
      "Monitored metric elbo_validation did not improve in the last 45 records. Best score: -17.668. Signaling Trainer to stop.\n",
      "RegVelo: 0.7418372210315092\n",
      "RegVelo: 0.7580957654647839\n",
      "recovering dynamics (using 1/112 cores)\n"
     ]
    },
    {
     "name": "stderr",
     "output_type": "stream",
     "text": [
      "GPU available: True (cuda), used: True\n",
      "TPU available: False, using: 0 TPU cores\n",
      "IPU available: False, using: 0 IPUs\n",
      "HPU available: False, using: 0 HPUs\n",
      "LOCAL_RANK: 0 - CUDA_VISIBLE_DEVICES: [0]\n"
     ]
    },
    {
     "name": "stdout",
     "output_type": "stream",
     "text": [
      "    finished (0:00:00) --> added \n",
      "    'fit_pars', fitted parameters for splicing dynamics (adata.var)\n",
      "computing velocities\n",
      "WARNING: Too few genes are selected as velocity genes. Consider setting a lower threshold for min_r2 or min_likelihood.\n",
      "    finished (0:00:00) --> added \n",
      "    'velocity', velocity vectors for each individual cell (adata.layers)\n",
      "scVelo: 0.7657435023483203\n",
      "scVelo: 0.66330706479971\n",
      "Epoch 348/500:  70%|██████▉   | 348/500 [00:35<00:15,  9.76it/s, loss=-17.6, v_num=1]\n",
      "Monitored metric elbo_validation did not improve in the last 45 records. Best score: -17.445. Signaling Trainer to stop.\n",
      "veloVI: SignificanceResult(statistic=0.5452765574964936, pvalue=6.24065183239401e-117)\n",
      "veloVI: 0.6304235867723251\n",
      "initiating Net object ...\n",
      "gem_shape: (1500, 6)\n",
      "TF info shape: (6, 8)\n",
      "initiation completed.\n"
     ]
    },
    {
     "data": {
      "application/vnd.jupyter.widget-view+json": {
       "model_id": "a49eca4ae5a04951b47a51c55d8011dd",
       "version_major": 2,
       "version_minor": 0
      },
      "text/plain": [
       "  0%|          | 0/6 [00:00<?, ?it/s]"
      ]
     },
     "metadata": {},
     "output_type": "display_data"
    },
    {
     "data": {
      "application/vnd.jupyter.widget-view+json": {
       "model_id": "430705a1fe154c84bc0de72196d7ac19",
       "version_major": 2,
       "version_minor": 0
      },
      "text/plain": [
       "  0%|          | 0/6 [00:00<?, ?it/s]"
      ]
     },
     "metadata": {},
     "output_type": "display_data"
    },
    {
     "name": "stdout",
     "output_type": "stream",
     "text": [
      "AUC: RegVelo: 0.59 Cor: 0.42000000000000004 GRNBoost2: 0.485 CellOracle: 0.5\n",
      "Velocity: RegVelo: 0.7580957654647839 veloVI: 0.6304235867723251 scVelo: 0.66330706479971\n",
      "33\n"
     ]
    },
    {
     "name": "stderr",
     "output_type": "stream",
     "text": [
      "GPU available: True (cuda), used: True\n",
      "TPU available: False, using: 0 TPU cores\n",
      "IPU available: False, using: 0 IPUs\n",
      "HPU available: False, using: 0 HPUs\n",
      "LOCAL_RANK: 0 - CUDA_VISIBLE_DEVICES: [0]\n"
     ]
    },
    {
     "name": "stdout",
     "output_type": "stream",
     "text": [
      "Epoch 487/1500:  32%|███▏      | 487/1500 [01:21<02:49,  5.97it/s, loss=-12.9, v_num=1]  \n",
      "Monitored metric elbo_validation did not improve in the last 45 records. Best score: -10.759. Signaling Trainer to stop.\n",
      "RegVelo: 0.8860708755870559\n",
      "RegVelo: 0.7502353917886139\n",
      "recovering dynamics (using 1/112 cores)\n"
     ]
    },
    {
     "name": "stderr",
     "output_type": "stream",
     "text": [
      "GPU available: True (cuda), used: True\n",
      "TPU available: False, using: 0 TPU cores\n",
      "IPU available: False, using: 0 IPUs\n",
      "HPU available: False, using: 0 HPUs\n",
      "LOCAL_RANK: 0 - CUDA_VISIBLE_DEVICES: [0]\n"
     ]
    },
    {
     "name": "stdout",
     "output_type": "stream",
     "text": [
      "    finished (0:00:00) --> added \n",
      "    'fit_pars', fitted parameters for splicing dynamics (adata.var)\n",
      "computing velocities\n",
      "WARNING: Too few genes are selected as velocity genes. Consider setting a lower threshold for min_r2 or min_likelihood.\n",
      "    finished (0:00:00) --> added \n",
      "    'velocity', velocity vectors for each individual cell (adata.layers)\n",
      "scVelo: 0.8888130948209448\n",
      "scVelo: 0.7247996672320428\n",
      "Epoch 321/500:  64%|██████▍   | 321/500 [00:31<00:17, 10.05it/s, loss=-16.2, v_num=1]\n",
      "Monitored metric elbo_validation did not improve in the last 45 records. Best score: -14.729. Signaling Trainer to stop.\n",
      "veloVI: SignificanceResult(statistic=0.41596893509730454, pvalue=7.824261231998251e-64)\n",
      "veloVI: 0.704999969122451\n",
      "initiating Net object ...\n",
      "gem_shape: (1500, 6)\n",
      "TF info shape: (6, 8)\n",
      "initiation completed.\n"
     ]
    },
    {
     "data": {
      "application/vnd.jupyter.widget-view+json": {
       "model_id": "438610ab24764439b35ec6f8339115fd",
       "version_major": 2,
       "version_minor": 0
      },
      "text/plain": [
       "  0%|          | 0/6 [00:00<?, ?it/s]"
      ]
     },
     "metadata": {},
     "output_type": "display_data"
    },
    {
     "data": {
      "application/vnd.jupyter.widget-view+json": {
       "model_id": "2077de60e5b848dcac3e35f678ee1b8c",
       "version_major": 2,
       "version_minor": 0
      },
      "text/plain": [
       "  0%|          | 0/6 [00:00<?, ?it/s]"
      ]
     },
     "metadata": {},
     "output_type": "display_data"
    },
    {
     "name": "stdout",
     "output_type": "stream",
     "text": [
      "AUC: RegVelo: 0.43 Cor: 0.52 GRNBoost2: 0.53 CellOracle: 0.545\n",
      "Velocity: RegVelo: 0.7502353917886139 veloVI: 0.704999969122451 scVelo: 0.7247996672320428\n",
      "34\n"
     ]
    },
    {
     "name": "stderr",
     "output_type": "stream",
     "text": [
      "GPU available: True (cuda), used: True\n",
      "TPU available: False, using: 0 TPU cores\n",
      "IPU available: False, using: 0 IPUs\n",
      "HPU available: False, using: 0 HPUs\n",
      "LOCAL_RANK: 0 - CUDA_VISIBLE_DEVICES: [0]\n"
     ]
    },
    {
     "name": "stdout",
     "output_type": "stream",
     "text": [
      "Epoch 481/1500:  32%|███▏      | 481/1500 [01:28<03:08,  5.41it/s, loss=-12.8, v_num=1]  \n",
      "Monitored metric elbo_validation did not improve in the last 45 records. Best score: -10.507. Signaling Trainer to stop.\n",
      "RegVelo: 0.889791428351746\n",
      "RegVelo: 0.7765147710299147\n",
      "recovering dynamics (using 1/112 cores)\n"
     ]
    },
    {
     "name": "stderr",
     "output_type": "stream",
     "text": [
      "GPU available: True (cuda), used: True\n",
      "TPU available: False, using: 0 TPU cores\n",
      "IPU available: False, using: 0 IPUs\n",
      "HPU available: False, using: 0 HPUs\n",
      "LOCAL_RANK: 0 - CUDA_VISIBLE_DEVICES: [0]\n"
     ]
    },
    {
     "name": "stdout",
     "output_type": "stream",
     "text": [
      "    finished (0:00:00) --> added \n",
      "    'fit_pars', fitted parameters for splicing dynamics (adata.var)\n",
      "computing velocities\n",
      "WARNING: Too few genes are selected as velocity genes. Consider setting a lower threshold for min_r2 or min_likelihood.\n",
      "    finished (0:00:00) --> added \n",
      "    'velocity', velocity vectors for each individual cell (adata.layers)\n",
      "scVelo: 0.7369185034793927\n",
      "scVelo: 0.7337965283624505\n",
      "Epoch 230/500:  46%|████▌     | 230/500 [00:22<00:26, 10.19it/s, loss=-12.4, v_num=1]\n",
      "Monitored metric elbo_validation did not improve in the last 45 records. Best score: -10.403. Signaling Trainer to stop.\n",
      "veloVI: SignificanceResult(statistic=0.7264634281641253, pvalue=2.5589013251700606e-246)\n",
      "veloVI: 0.7228059833230933\n",
      "initiating Net object ...\n",
      "gem_shape: (1500, 6)\n",
      "TF info shape: (6, 8)\n",
      "initiation completed.\n"
     ]
    },
    {
     "data": {
      "application/vnd.jupyter.widget-view+json": {
       "model_id": "ea465ba5f3714c27a69b3dc5ba808e7f",
       "version_major": 2,
       "version_minor": 0
      },
      "text/plain": [
       "  0%|          | 0/6 [00:00<?, ?it/s]"
      ]
     },
     "metadata": {},
     "output_type": "display_data"
    },
    {
     "data": {
      "application/vnd.jupyter.widget-view+json": {
       "model_id": "2440ea50a2444e15b73d7f92cd00ba9f",
       "version_major": 2,
       "version_minor": 0
      },
      "text/plain": [
       "  0%|          | 0/6 [00:00<?, ?it/s]"
      ]
     },
     "metadata": {},
     "output_type": "display_data"
    },
    {
     "name": "stdout",
     "output_type": "stream",
     "text": [
      "AUC: RegVelo: 0.83 Cor: 0.72 GRNBoost2: 0.5900000000000001 CellOracle: 0.595\n",
      "Velocity: RegVelo: 0.7765147710299147 veloVI: 0.7228059833230933 scVelo: 0.7337965283624505\n",
      "35\n"
     ]
    },
    {
     "name": "stderr",
     "output_type": "stream",
     "text": [
      "GPU available: True (cuda), used: True\n",
      "TPU available: False, using: 0 TPU cores\n",
      "IPU available: False, using: 0 IPUs\n",
      "HPU available: False, using: 0 HPUs\n",
      "LOCAL_RANK: 0 - CUDA_VISIBLE_DEVICES: [0]\n"
     ]
    },
    {
     "name": "stdout",
     "output_type": "stream",
     "text": [
      "Epoch 575/1500:  38%|███▊      | 575/1500 [02:04<03:20,  4.61it/s, loss=-12.6, v_num=1]  \n",
      "Monitored metric elbo_validation did not improve in the last 45 records. Best score: -11.397. Signaling Trainer to stop.\n",
      "RegVelo: 0.8277941954640868\n",
      "RegVelo: 0.6429403124478632\n",
      "recovering dynamics (using 1/112 cores)\n"
     ]
    },
    {
     "name": "stderr",
     "output_type": "stream",
     "text": [
      "GPU available: True (cuda), used: True\n",
      "TPU available: False, using: 0 TPU cores\n",
      "IPU available: False, using: 0 IPUs\n",
      "HPU available: False, using: 0 HPUs\n",
      "LOCAL_RANK: 0 - CUDA_VISIBLE_DEVICES: [0]\n"
     ]
    },
    {
     "name": "stdout",
     "output_type": "stream",
     "text": [
      "    finished (0:00:00) --> added \n",
      "    'fit_pars', fitted parameters for splicing dynamics (adata.var)\n",
      "computing velocities\n",
      "WARNING: Too few genes are selected as velocity genes. Consider setting a lower threshold for min_r2 or min_likelihood.\n",
      "    finished (0:00:00) --> added \n",
      "    'velocity', velocity vectors for each individual cell (adata.layers)\n",
      "scVelo: 0.8674331612095184\n",
      "scVelo: 0.5909498381526369\n",
      "Epoch 280/500:  56%|█████▌    | 280/500 [00:27<00:21, 10.10it/s, loss=-12.7, v_num=1]\n",
      "Monitored metric elbo_validation did not improve in the last 45 records. Best score: -11.725. Signaling Trainer to stop.\n",
      "veloVI: SignificanceResult(statistic=0.7836168353852602, pvalue=5.334262509344e-312)\n",
      "veloVI: 0.5377985570441\n",
      "initiating Net object ...\n",
      "gem_shape: (1500, 6)\n",
      "TF info shape: (6, 8)\n",
      "initiation completed.\n"
     ]
    },
    {
     "data": {
      "application/vnd.jupyter.widget-view+json": {
       "model_id": "3ddca315bad64ad480dcf050d500c494",
       "version_major": 2,
       "version_minor": 0
      },
      "text/plain": [
       "  0%|          | 0/6 [00:00<?, ?it/s]"
      ]
     },
     "metadata": {},
     "output_type": "display_data"
    },
    {
     "data": {
      "application/vnd.jupyter.widget-view+json": {
       "model_id": "057327165d8b4492ad7f272cb3197306",
       "version_major": 2,
       "version_minor": 0
      },
      "text/plain": [
       "  0%|          | 0/6 [00:00<?, ?it/s]"
      ]
     },
     "metadata": {},
     "output_type": "display_data"
    },
    {
     "name": "stdout",
     "output_type": "stream",
     "text": [
      "AUC: RegVelo: 0.85 Cor: 0.56 GRNBoost2: 0.56 CellOracle: 0.525\n",
      "Velocity: RegVelo: 0.6429403124478632 veloVI: 0.5377985570441 scVelo: 0.5909498381526369\n",
      "36\n"
     ]
    },
    {
     "name": "stderr",
     "output_type": "stream",
     "text": [
      "GPU available: True (cuda), used: True\n",
      "TPU available: False, using: 0 TPU cores\n",
      "IPU available: False, using: 0 IPUs\n",
      "HPU available: False, using: 0 HPUs\n",
      "LOCAL_RANK: 0 - CUDA_VISIBLE_DEVICES: [0]\n"
     ]
    },
    {
     "name": "stdout",
     "output_type": "stream",
     "text": [
      "Epoch 721/1500:  48%|████▊     | 721/1500 [02:40<02:53,  4.48it/s, loss=-15.9, v_num=1]  \n",
      "Monitored metric elbo_validation did not improve in the last 45 records. Best score: -15.143. Signaling Trainer to stop.\n",
      "RegVelo: 0.9595923162632517\n",
      "RegVelo: 0.7534376689051528\n",
      "recovering dynamics (using 1/112 cores)\n"
     ]
    },
    {
     "name": "stderr",
     "output_type": "stream",
     "text": [
      "GPU available: True (cuda), used: True\n",
      "TPU available: False, using: 0 TPU cores\n",
      "IPU available: False, using: 0 IPUs\n",
      "HPU available: False, using: 0 HPUs\n",
      "LOCAL_RANK: 0 - CUDA_VISIBLE_DEVICES: [0]\n"
     ]
    },
    {
     "name": "stdout",
     "output_type": "stream",
     "text": [
      "    finished (0:00:00) --> added \n",
      "    'fit_pars', fitted parameters for splicing dynamics (adata.var)\n",
      "computing velocities\n",
      "WARNING: Too few genes are selected as velocity genes. Consider setting a lower threshold for min_r2 or min_likelihood.\n",
      "    finished (0:00:00) --> added \n",
      "    'velocity', velocity vectors for each individual cell (adata.layers)\n",
      "scVelo: 0.9149427481592014\n",
      "scVelo: 0.704014513924216\n",
      "Epoch 348/500:  70%|██████▉   | 348/500 [00:34<00:15, 10.11it/s, loss=-15.1, v_num=1]\n",
      "Monitored metric elbo_validation did not improve in the last 45 records. Best score: -15.059. Signaling Trainer to stop.\n",
      "veloVI: SignificanceResult(statistic=-0.13840098595599376, pvalue=7.378695574941286e-08)\n",
      "veloVI: 0.6551388914829205\n",
      "initiating Net object ...\n",
      "gem_shape: (1500, 6)\n",
      "TF info shape: (6, 8)\n",
      "initiation completed.\n"
     ]
    },
    {
     "data": {
      "application/vnd.jupyter.widget-view+json": {
       "model_id": "68f1c1909d60494dae7d233ee8fde63b",
       "version_major": 2,
       "version_minor": 0
      },
      "text/plain": [
       "  0%|          | 0/6 [00:00<?, ?it/s]"
      ]
     },
     "metadata": {},
     "output_type": "display_data"
    },
    {
     "data": {
      "application/vnd.jupyter.widget-view+json": {
       "model_id": "1f59e575ccac42ac9ab67403fd0253d6",
       "version_major": 2,
       "version_minor": 0
      },
      "text/plain": [
       "  0%|          | 0/6 [00:00<?, ?it/s]"
      ]
     },
     "metadata": {},
     "output_type": "display_data"
    },
    {
     "name": "stdout",
     "output_type": "stream",
     "text": [
      "AUC: RegVelo: 0.76 Cor: 0.7300000000000001 GRNBoost2: 0.62 CellOracle: 0.56\n",
      "Velocity: RegVelo: 0.7534376689051528 veloVI: 0.6551388914829205 scVelo: 0.704014513924216\n",
      "37\n"
     ]
    },
    {
     "name": "stderr",
     "output_type": "stream",
     "text": [
      "GPU available: True (cuda), used: True\n",
      "TPU available: False, using: 0 TPU cores\n",
      "IPU available: False, using: 0 IPUs\n",
      "HPU available: False, using: 0 HPUs\n",
      "LOCAL_RANK: 0 - CUDA_VISIBLE_DEVICES: [0]\n"
     ]
    },
    {
     "name": "stdout",
     "output_type": "stream",
     "text": [
      "Epoch 583/1500:  39%|███▉      | 583/1500 [01:50<02:53,  5.30it/s, loss=-14.8, v_num=1]  \n",
      "Monitored metric elbo_validation did not improve in the last 45 records. Best score: -13.411. Signaling Trainer to stop.\n",
      "RegVelo: 0.8453529524638482\n",
      "RegVelo: 0.7604483470947617\n",
      "recovering dynamics (using 1/112 cores)\n"
     ]
    },
    {
     "name": "stderr",
     "output_type": "stream",
     "text": [
      "GPU available: True (cuda), used: True\n",
      "TPU available: False, using: 0 TPU cores\n",
      "IPU available: False, using: 0 IPUs\n",
      "HPU available: False, using: 0 HPUs\n",
      "LOCAL_RANK: 0 - CUDA_VISIBLE_DEVICES: [0]\n"
     ]
    },
    {
     "name": "stdout",
     "output_type": "stream",
     "text": [
      "    finished (0:00:00) --> added \n",
      "    'fit_pars', fitted parameters for splicing dynamics (adata.var)\n",
      "computing velocities\n",
      "WARNING: Too few genes are selected as velocity genes. Consider setting a lower threshold for min_r2 or min_likelihood.\n",
      "    finished (0:00:00) --> added \n",
      "    'velocity', velocity vectors for each individual cell (adata.layers)\n",
      "scVelo: 0.8277094919514781\n",
      "scVelo: 0.6900418716649547\n",
      "Epoch 401/500:  80%|████████  | 401/500 [00:41<00:10,  9.73it/s, loss=-14.5, v_num=1]\n",
      "Monitored metric elbo_validation did not improve in the last 45 records. Best score: -14.383. Signaling Trainer to stop.\n",
      "veloVI: SignificanceResult(statistic=0.619070301809023, pvalue=2.0639585292348103e-159)\n",
      "veloVI: 0.6779637993994325\n",
      "initiating Net object ...\n",
      "gem_shape: (1500, 6)\n",
      "TF info shape: (6, 8)\n",
      "initiation completed.\n"
     ]
    },
    {
     "data": {
      "application/vnd.jupyter.widget-view+json": {
       "model_id": "dc2d82ef10ab43248b6482d2669d5f08",
       "version_major": 2,
       "version_minor": 0
      },
      "text/plain": [
       "  0%|          | 0/6 [00:00<?, ?it/s]"
      ]
     },
     "metadata": {},
     "output_type": "display_data"
    },
    {
     "data": {
      "application/vnd.jupyter.widget-view+json": {
       "model_id": "33b835f02e2b469b8ac437dba18034d0",
       "version_major": 2,
       "version_minor": 0
      },
      "text/plain": [
       "  0%|          | 0/6 [00:00<?, ?it/s]"
      ]
     },
     "metadata": {},
     "output_type": "display_data"
    },
    {
     "name": "stdout",
     "output_type": "stream",
     "text": [
      "AUC: RegVelo: 0.77 Cor: 0.55 GRNBoost2: 0.58 CellOracle: 0.545\n",
      "Velocity: RegVelo: 0.7604483470947617 veloVI: 0.6779637993994325 scVelo: 0.6900418716649547\n",
      "38\n"
     ]
    },
    {
     "name": "stderr",
     "output_type": "stream",
     "text": [
      "GPU available: True (cuda), used: True\n",
      "TPU available: False, using: 0 TPU cores\n",
      "IPU available: False, using: 0 IPUs\n",
      "HPU available: False, using: 0 HPUs\n",
      "LOCAL_RANK: 0 - CUDA_VISIBLE_DEVICES: [0]\n"
     ]
    },
    {
     "name": "stdout",
     "output_type": "stream",
     "text": [
      "Epoch 552/1500:  37%|███▋      | 552/1500 [02:08<03:40,  4.30it/s, loss=-16.9, v_num=1]   \n",
      "Monitored metric elbo_validation did not improve in the last 45 records. Best score: -13.497. Signaling Trainer to stop.\n",
      "RegVelo: 0.7086820293775082\n",
      "RegVelo: 0.7858618059886018\n",
      "recovering dynamics (using 1/112 cores)\n"
     ]
    },
    {
     "name": "stderr",
     "output_type": "stream",
     "text": [
      "GPU available: True (cuda), used: True\n",
      "TPU available: False, using: 0 TPU cores\n",
      "IPU available: False, using: 0 IPUs\n",
      "HPU available: False, using: 0 HPUs\n",
      "LOCAL_RANK: 0 - CUDA_VISIBLE_DEVICES: [0]\n"
     ]
    },
    {
     "name": "stdout",
     "output_type": "stream",
     "text": [
      "    finished (0:00:00) --> added \n",
      "    'fit_pars', fitted parameters for splicing dynamics (adata.var)\n",
      "computing velocities\n",
      "WARNING: Too few genes are selected as velocity genes. Consider setting a lower threshold for min_r2 or min_likelihood.\n",
      "    finished (0:00:00) --> added \n",
      "    'velocity', velocity vectors for each individual cell (adata.layers)\n",
      "scVelo: 0.7602984142409279\n",
      "scVelo: 0.7449664023131527\n",
      "Epoch 312/500:  62%|██████▏   | 312/500 [00:31<00:18, 10.04it/s, loss=-17.1, v_num=1]\n",
      "Monitored metric elbo_validation did not improve in the last 45 records. Best score: -16.795. Signaling Trainer to stop.\n",
      "veloVI: SignificanceResult(statistic=0.6605020322231255, pvalue=1.122613864820706e-188)\n",
      "veloVI: 0.686671942170051\n",
      "initiating Net object ...\n",
      "gem_shape: (1500, 6)\n",
      "TF info shape: (6, 8)\n",
      "initiation completed.\n"
     ]
    },
    {
     "data": {
      "application/vnd.jupyter.widget-view+json": {
       "model_id": "8424816588794139b56b49b60a63768d",
       "version_major": 2,
       "version_minor": 0
      },
      "text/plain": [
       "  0%|          | 0/6 [00:00<?, ?it/s]"
      ]
     },
     "metadata": {},
     "output_type": "display_data"
    },
    {
     "data": {
      "application/vnd.jupyter.widget-view+json": {
       "model_id": "6dc67c604b7a4f98835f7f992768bdd3",
       "version_major": 2,
       "version_minor": 0
      },
      "text/plain": [
       "  0%|          | 0/6 [00:00<?, ?it/s]"
      ]
     },
     "metadata": {},
     "output_type": "display_data"
    },
    {
     "name": "stdout",
     "output_type": "stream",
     "text": [
      "AUC: RegVelo: 0.645 Cor: 0.55 GRNBoost2: 0.5 CellOracle: 0.5549999999999999\n",
      "Velocity: RegVelo: 0.7858618059886018 veloVI: 0.686671942170051 scVelo: 0.7449664023131527\n",
      "39\n"
     ]
    },
    {
     "name": "stderr",
     "output_type": "stream",
     "text": [
      "GPU available: True (cuda), used: True\n",
      "TPU available: False, using: 0 TPU cores\n",
      "IPU available: False, using: 0 IPUs\n",
      "HPU available: False, using: 0 HPUs\n",
      "LOCAL_RANK: 0 - CUDA_VISIBLE_DEVICES: [0]\n"
     ]
    },
    {
     "name": "stdout",
     "output_type": "stream",
     "text": [
      "Epoch 603/1500:  40%|████      | 603/1500 [02:02<03:02,  4.90it/s, loss=-14.8, v_num=1]  \n",
      "Monitored metric elbo_validation did not improve in the last 45 records. Best score: -13.540. Signaling Trainer to stop.\n",
      "RegVelo: 0.7923790757240338\n",
      "RegVelo: 0.6455392525117847\n",
      "recovering dynamics (using 1/112 cores)\n"
     ]
    },
    {
     "name": "stderr",
     "output_type": "stream",
     "text": [
      "GPU available: True (cuda), used: True\n",
      "TPU available: False, using: 0 TPU cores\n",
      "IPU available: False, using: 0 IPUs\n",
      "HPU available: False, using: 0 HPUs\n",
      "LOCAL_RANK: 0 - CUDA_VISIBLE_DEVICES: [0]\n"
     ]
    },
    {
     "name": "stdout",
     "output_type": "stream",
     "text": [
      "    finished (0:00:00) --> added \n",
      "    'fit_pars', fitted parameters for splicing dynamics (adata.var)\n",
      "computing velocities\n",
      "WARNING: Too few genes are selected as velocity genes. Consider setting a lower threshold for min_r2 or min_likelihood.\n",
      "    finished (0:00:00) --> added \n",
      "    'velocity', velocity vectors for each individual cell (adata.layers)\n",
      "scVelo: 0.7837035671361859\n",
      "scVelo: 0.6111266533319992\n",
      "Epoch 311/500:  62%|██████▏   | 311/500 [00:30<00:18, 10.17it/s, loss=-13.9, v_num=1]\n",
      "Monitored metric elbo_validation did not improve in the last 45 records. Best score: -12.373. Signaling Trainer to stop.\n",
      "veloVI: SignificanceResult(statistic=0.10251140200506756, pvalue=6.966652864419288e-05)\n",
      "veloVI: 0.5758541693343052\n",
      "initiating Net object ...\n",
      "gem_shape: (1500, 6)\n",
      "TF info shape: (6, 8)\n",
      "initiation completed.\n"
     ]
    },
    {
     "data": {
      "application/vnd.jupyter.widget-view+json": {
       "model_id": "e503dcd2704b4a1d9e2872b0dcfd8442",
       "version_major": 2,
       "version_minor": 0
      },
      "text/plain": [
       "  0%|          | 0/6 [00:00<?, ?it/s]"
      ]
     },
     "metadata": {},
     "output_type": "display_data"
    },
    {
     "data": {
      "application/vnd.jupyter.widget-view+json": {
       "model_id": "be8bc88f39c64e0996abc892743f992f",
       "version_major": 2,
       "version_minor": 0
      },
      "text/plain": [
       "  0%|          | 0/6 [00:00<?, ?it/s]"
      ]
     },
     "metadata": {},
     "output_type": "display_data"
    },
    {
     "name": "stdout",
     "output_type": "stream",
     "text": [
      "AUC: RegVelo: 0.705 Cor: 0.5999999999999999 GRNBoost2: 0.54 CellOracle: 0.45499999999999996\n",
      "Velocity: RegVelo: 0.6455392525117847 veloVI: 0.5758541693343052 scVelo: 0.6111266533319992\n",
      "40\n"
     ]
    },
    {
     "name": "stderr",
     "output_type": "stream",
     "text": [
      "GPU available: True (cuda), used: True\n",
      "TPU available: False, using: 0 TPU cores\n",
      "IPU available: False, using: 0 IPUs\n",
      "HPU available: False, using: 0 HPUs\n",
      "LOCAL_RANK: 0 - CUDA_VISIBLE_DEVICES: [0]\n"
     ]
    },
    {
     "name": "stdout",
     "output_type": "stream",
     "text": [
      "Epoch 694/1500:  46%|████▋     | 694/1500 [02:50<03:18,  4.06it/s, loss=-15.2, v_num=1]  \n",
      "Monitored metric elbo_validation did not improve in the last 45 records. Best score: -14.152. Signaling Trainer to stop.\n",
      "RegVelo: 0.8669282143981898\n",
      "RegVelo: 0.7649237640410398\n",
      "recovering dynamics (using 1/112 cores)\n"
     ]
    },
    {
     "name": "stderr",
     "output_type": "stream",
     "text": [
      "GPU available: True (cuda), used: True\n",
      "TPU available: False, using: 0 TPU cores\n",
      "IPU available: False, using: 0 IPUs\n",
      "HPU available: False, using: 0 HPUs\n",
      "LOCAL_RANK: 0 - CUDA_VISIBLE_DEVICES: [0]\n"
     ]
    },
    {
     "name": "stdout",
     "output_type": "stream",
     "text": [
      "    finished (0:00:00) --> added \n",
      "    'fit_pars', fitted parameters for splicing dynamics (adata.var)\n",
      "computing velocities\n",
      "WARNING: Too few genes are selected as velocity genes. Consider setting a lower threshold for min_r2 or min_likelihood.\n",
      "    finished (0:00:00) --> added \n",
      "    'velocity', velocity vectors for each individual cell (adata.layers)\n",
      "scVelo: 0.80050405762186\n",
      "scVelo: 0.6374824188390311\n",
      "Epoch 281/500:  56%|█████▌    | 281/500 [00:29<00:23,  9.38it/s, loss=-10.7, v_num=1]\n",
      "Monitored metric elbo_validation did not improve in the last 45 records. Best score: -10.201. Signaling Trainer to stop.\n",
      "veloVI: SignificanceResult(statistic=0.7178406503450363, pvalue=7.591459311397255e-238)\n",
      "veloVI: 0.6804527090565085\n",
      "initiating Net object ...\n",
      "gem_shape: (1500, 6)\n",
      "TF info shape: (6, 8)\n",
      "initiation completed.\n"
     ]
    },
    {
     "data": {
      "application/vnd.jupyter.widget-view+json": {
       "model_id": "66fd66f33aa74911a7f22d42dd08d0df",
       "version_major": 2,
       "version_minor": 0
      },
      "text/plain": [
       "  0%|          | 0/6 [00:00<?, ?it/s]"
      ]
     },
     "metadata": {},
     "output_type": "display_data"
    },
    {
     "data": {
      "application/vnd.jupyter.widget-view+json": {
       "model_id": "9e92131c425a448cb86309153eae896c",
       "version_major": 2,
       "version_minor": 0
      },
      "text/plain": [
       "  0%|          | 0/6 [00:00<?, ?it/s]"
      ]
     },
     "metadata": {},
     "output_type": "display_data"
    },
    {
     "name": "stdout",
     "output_type": "stream",
     "text": [
      "AUC: RegVelo: 0.68 Cor: 0.6000000000000001 GRNBoost2: 0.655 CellOracle: 0.47\n",
      "Velocity: RegVelo: 0.7649237640410398 veloVI: 0.6804527090565085 scVelo: 0.6374824188390311\n",
      "41\n"
     ]
    },
    {
     "name": "stderr",
     "output_type": "stream",
     "text": [
      "GPU available: True (cuda), used: True\n",
      "TPU available: False, using: 0 TPU cores\n",
      "IPU available: False, using: 0 IPUs\n",
      "HPU available: False, using: 0 HPUs\n",
      "LOCAL_RANK: 0 - CUDA_VISIBLE_DEVICES: [0]\n"
     ]
    },
    {
     "name": "stdout",
     "output_type": "stream",
     "text": [
      "Epoch 609/1500:  41%|████      | 609/1500 [01:37<02:22,  6.25it/s, loss=-12.8, v_num=1]  \n",
      "Monitored metric elbo_validation did not improve in the last 45 records. Best score: -12.268. Signaling Trainer to stop.\n",
      "RegVelo: 0.9352945241308998\n",
      "RegVelo: 0.6432083327123038\n",
      "recovering dynamics (using 1/112 cores)\n",
      "    finished (0:00:00) --> added \n",
      "    'fit_pars', fitted parameters for splicing dynamics (adata.var)\n",
      "computing velocities\n",
      "WARNING: Too few genes are selected as velocity genes. Consider setting a lower threshold for min_r2 or min_likelihood.\n",
      "    finished (0:00:00) --> added \n",
      "    'velocity', velocity vectors for each individual cell (adata.layers)\n",
      "scVelo: 0.8738199070799367\n",
      "scVelo: 0.569468317132689\n"
     ]
    },
    {
     "name": "stderr",
     "output_type": "stream",
     "text": [
      "GPU available: True (cuda), used: True\n",
      "TPU available: False, using: 0 TPU cores\n",
      "IPU available: False, using: 0 IPUs\n",
      "HPU available: False, using: 0 HPUs\n",
      "LOCAL_RANK: 0 - CUDA_VISIBLE_DEVICES: [0]\n"
     ]
    },
    {
     "name": "stdout",
     "output_type": "stream",
     "text": [
      "Epoch 367/500:  73%|███████▎  | 367/500 [00:37<00:13,  9.91it/s, loss=-10.4, v_num=1]\n",
      "Monitored metric elbo_validation did not improve in the last 45 records. Best score: -11.759. Signaling Trainer to stop.\n",
      "veloVI: SignificanceResult(statistic=0.47301446800643027, pvalue=1.7885919560687774e-84)\n",
      "veloVI: 0.5198902023337788\n",
      "initiating Net object ...\n",
      "gem_shape: (1500, 6)\n",
      "TF info shape: (6, 8)\n",
      "initiation completed.\n"
     ]
    },
    {
     "data": {
      "application/vnd.jupyter.widget-view+json": {
       "model_id": "1035071d3f0e417d9fdec4db3ac55831",
       "version_major": 2,
       "version_minor": 0
      },
      "text/plain": [
       "  0%|          | 0/6 [00:00<?, ?it/s]"
      ]
     },
     "metadata": {},
     "output_type": "display_data"
    },
    {
     "data": {
      "application/vnd.jupyter.widget-view+json": {
       "model_id": "e71521206429495482e36fcf065130eb",
       "version_major": 2,
       "version_minor": 0
      },
      "text/plain": [
       "  0%|          | 0/6 [00:00<?, ?it/s]"
      ]
     },
     "metadata": {},
     "output_type": "display_data"
    },
    {
     "name": "stdout",
     "output_type": "stream",
     "text": [
      "AUC: RegVelo: 0.915 Cor: 0.5099999999999999 GRNBoost2: 0.555 CellOracle: 0.435\n",
      "Velocity: RegVelo: 0.6432083327123038 veloVI: 0.5198902023337788 scVelo: 0.569468317132689\n",
      "42\n"
     ]
    },
    {
     "name": "stderr",
     "output_type": "stream",
     "text": [
      "GPU available: True (cuda), used: True\n",
      "TPU available: False, using: 0 TPU cores\n",
      "IPU available: False, using: 0 IPUs\n",
      "HPU available: False, using: 0 HPUs\n",
      "LOCAL_RANK: 0 - CUDA_VISIBLE_DEVICES: [0]\n"
     ]
    },
    {
     "name": "stdout",
     "output_type": "stream",
     "text": [
      "Epoch 623/1500:  42%|████▏     | 623/1500 [02:09<03:02,  4.81it/s, loss=-14.3, v_num=1]   \n",
      "Monitored metric elbo_validation did not improve in the last 45 records. Best score: -12.999. Signaling Trainer to stop.\n",
      "RegVelo: 0.8851575035234749\n",
      "RegVelo: 0.6213508097606549\n",
      "recovering dynamics (using 1/112 cores)\n"
     ]
    },
    {
     "name": "stderr",
     "output_type": "stream",
     "text": [
      "GPU available: True (cuda), used: True\n",
      "TPU available: False, using: 0 TPU cores\n",
      "IPU available: False, using: 0 IPUs\n",
      "HPU available: False, using: 0 HPUs\n",
      "LOCAL_RANK: 0 - CUDA_VISIBLE_DEVICES: [0]\n"
     ]
    },
    {
     "name": "stdout",
     "output_type": "stream",
     "text": [
      "    finished (0:00:00) --> added \n",
      "    'fit_pars', fitted parameters for splicing dynamics (adata.var)\n",
      "computing velocities\n",
      "WARNING: Too few genes are selected as velocity genes. Consider setting a lower threshold for min_r2 or min_likelihood.\n",
      "    finished (0:00:00) --> added \n",
      "    'velocity', velocity vectors for each individual cell (adata.layers)\n",
      "scVelo: 0.8346983651913242\n",
      "scVelo: 0.5965031529315573\n",
      "Epoch 281/500:  56%|█████▌    | 281/500 [00:28<00:21, 10.01it/s, loss=-9.43, v_num=1]\n",
      "Monitored metric elbo_validation did not improve in the last 45 records. Best score: -8.302. Signaling Trainer to stop.\n",
      "veloVI: SignificanceResult(statistic=0.5361037227127657, pvalue=2.303447293289905e-112)\n",
      "veloVI: 0.6068876977781349\n",
      "initiating Net object ...\n",
      "gem_shape: (1500, 6)\n",
      "TF info shape: (6, 8)\n",
      "initiation completed.\n"
     ]
    },
    {
     "data": {
      "application/vnd.jupyter.widget-view+json": {
       "model_id": "d102685f3bed4186b4f3606ccf8135eb",
       "version_major": 2,
       "version_minor": 0
      },
      "text/plain": [
       "  0%|          | 0/6 [00:00<?, ?it/s]"
      ]
     },
     "metadata": {},
     "output_type": "display_data"
    },
    {
     "data": {
      "application/vnd.jupyter.widget-view+json": {
       "model_id": "b842ce286b32424db1e748d4d93ba306",
       "version_major": 2,
       "version_minor": 0
      },
      "text/plain": [
       "  0%|          | 0/6 [00:00<?, ?it/s]"
      ]
     },
     "metadata": {},
     "output_type": "display_data"
    },
    {
     "name": "stdout",
     "output_type": "stream",
     "text": [
      "AUC: RegVelo: 0.69 Cor: 0.56 GRNBoost2: 0.5449999999999999 CellOracle: 0.51\n",
      "Velocity: RegVelo: 0.6213508097606549 veloVI: 0.6068876977781349 scVelo: 0.5965031529315573\n",
      "43\n"
     ]
    },
    {
     "name": "stderr",
     "output_type": "stream",
     "text": [
      "GPU available: True (cuda), used: True\n",
      "TPU available: False, using: 0 TPU cores\n",
      "IPU available: False, using: 0 IPUs\n",
      "HPU available: False, using: 0 HPUs\n",
      "LOCAL_RANK: 0 - CUDA_VISIBLE_DEVICES: [0]\n"
     ]
    },
    {
     "name": "stdout",
     "output_type": "stream",
     "text": [
      "Epoch 519/1500:  35%|███▍      | 519/1500 [01:55<03:38,  4.50it/s, loss=-13.2, v_num=1]  \n",
      "Monitored metric elbo_validation did not improve in the last 45 records. Best score: -11.410. Signaling Trainer to stop.\n",
      "RegVelo: 0.8150436689082974\n",
      "RegVelo: 0.7282573834290877\n",
      "recovering dynamics (using 1/112 cores)\n",
      "    finished (0:00:00) --> added \n",
      "    'fit_pars', fitted parameters for splicing dynamics (adata.var)\n",
      "computing velocities\n",
      "WARNING: Too few genes are selected as velocity genes. Consider setting a lower threshold for min_r2 or min_likelihood.\n",
      "    finished (0:00:00) --> added \n",
      "    'velocity', velocity vectors for each individual cell (adata.layers)\n",
      "scVelo: 0.7566959007495916\n",
      "scVelo: 0.6664733347756172\n"
     ]
    },
    {
     "name": "stderr",
     "output_type": "stream",
     "text": [
      "GPU available: True (cuda), used: True\n",
      "TPU available: False, using: 0 TPU cores\n",
      "IPU available: False, using: 0 IPUs\n",
      "HPU available: False, using: 0 HPUs\n",
      "LOCAL_RANK: 0 - CUDA_VISIBLE_DEVICES: [0]\n"
     ]
    },
    {
     "name": "stdout",
     "output_type": "stream",
     "text": [
      "Epoch 370/500:  74%|███████▍  | 370/500 [00:38<00:13,  9.62it/s, loss=-12.2, v_num=1]\n",
      "Monitored metric elbo_validation did not improve in the last 45 records. Best score: -12.018. Signaling Trainer to stop.\n",
      "veloVI: SignificanceResult(statistic=0.7080104408935293, pvalue=1.4431424686808823e-228)\n",
      "veloVI: 0.6977170927957662\n",
      "initiating Net object ...\n",
      "gem_shape: (1500, 6)\n",
      "TF info shape: (6, 8)\n",
      "initiation completed.\n"
     ]
    },
    {
     "data": {
      "application/vnd.jupyter.widget-view+json": {
       "model_id": "4004e863944b4b01be895a8ea09da6a4",
       "version_major": 2,
       "version_minor": 0
      },
      "text/plain": [
       "  0%|          | 0/6 [00:00<?, ?it/s]"
      ]
     },
     "metadata": {},
     "output_type": "display_data"
    },
    {
     "data": {
      "application/vnd.jupyter.widget-view+json": {
       "model_id": "73630b748657423582e2afc06bf0cb71",
       "version_major": 2,
       "version_minor": 0
      },
      "text/plain": [
       "  0%|          | 0/6 [00:00<?, ?it/s]"
      ]
     },
     "metadata": {},
     "output_type": "display_data"
    },
    {
     "name": "stdout",
     "output_type": "stream",
     "text": [
      "AUC: RegVelo: 0.65 Cor: 0.7 GRNBoost2: 0.6299999999999999 CellOracle: 0.5\n",
      "Velocity: RegVelo: 0.7282573834290877 veloVI: 0.6977170927957662 scVelo: 0.6664733347756172\n",
      "44\n"
     ]
    },
    {
     "name": "stderr",
     "output_type": "stream",
     "text": [
      "GPU available: True (cuda), used: True\n",
      "TPU available: False, using: 0 TPU cores\n",
      "IPU available: False, using: 0 IPUs\n",
      "HPU available: False, using: 0 HPUs\n",
      "LOCAL_RANK: 0 - CUDA_VISIBLE_DEVICES: [0]\n"
     ]
    },
    {
     "name": "stdout",
     "output_type": "stream",
     "text": [
      "Epoch 636/1500:  42%|████▏     | 636/1500 [02:23<03:14,  4.44it/s, loss=-14.3, v_num=1]  \n",
      "Monitored metric elbo_validation did not improve in the last 45 records. Best score: -12.401. Signaling Trainer to stop.\n",
      "RegVelo: 0.9661182889414619\n",
      "RegVelo: 0.6810370576852754\n",
      "recovering dynamics (using 1/112 cores)\n"
     ]
    },
    {
     "name": "stderr",
     "output_type": "stream",
     "text": [
      "GPU available: True (cuda), used: True\n",
      "TPU available: False, using: 0 TPU cores\n",
      "IPU available: False, using: 0 IPUs\n",
      "HPU available: False, using: 0 HPUs\n",
      "LOCAL_RANK: 0 - CUDA_VISIBLE_DEVICES: [0]\n"
     ]
    },
    {
     "name": "stdout",
     "output_type": "stream",
     "text": [
      "    finished (0:00:00) --> added \n",
      "    'fit_pars', fitted parameters for splicing dynamics (adata.var)\n",
      "computing velocities\n",
      "WARNING: Too few genes are selected as velocity genes. Consider setting a lower threshold for min_r2 or min_likelihood.\n",
      "    finished (0:00:00) --> added \n",
      "    'velocity', velocity vectors for each individual cell (adata.layers)\n",
      "scVelo: 0.515832853408454\n",
      "scVelo: 0.5749654787946924\n",
      "Epoch 261/500:  52%|█████▏    | 261/500 [00:27<00:25,  9.51it/s, loss=-9.38, v_num=1]\n",
      "Monitored metric elbo_validation did not improve in the last 45 records. Best score: -9.423. Signaling Trainer to stop.\n",
      "veloVI: SignificanceResult(statistic=0.5238766310562805, pvalue=1.7196161761517757e-106)\n",
      "veloVI: 0.5677609591483855\n",
      "initiating Net object ...\n",
      "gem_shape: (1500, 6)\n",
      "TF info shape: (6, 8)\n",
      "initiation completed.\n"
     ]
    },
    {
     "data": {
      "application/vnd.jupyter.widget-view+json": {
       "model_id": "b09aad6be4064977b15ce33cb18f0933",
       "version_major": 2,
       "version_minor": 0
      },
      "text/plain": [
       "  0%|          | 0/6 [00:00<?, ?it/s]"
      ]
     },
     "metadata": {},
     "output_type": "display_data"
    },
    {
     "data": {
      "application/vnd.jupyter.widget-view+json": {
       "model_id": "984e84c769fc4f0a881f214485f7fbff",
       "version_major": 2,
       "version_minor": 0
      },
      "text/plain": [
       "  0%|          | 0/6 [00:00<?, ?it/s]"
      ]
     },
     "metadata": {},
     "output_type": "display_data"
    },
    {
     "name": "stdout",
     "output_type": "stream",
     "text": [
      "AUC: RegVelo: 0.76 Cor: 0.6299999999999999 GRNBoost2: 0.76 CellOracle: 0.475\n",
      "Velocity: RegVelo: 0.6810370576852754 veloVI: 0.5677609591483855 scVelo: 0.5749654787946924\n",
      "45\n"
     ]
    },
    {
     "name": "stderr",
     "output_type": "stream",
     "text": [
      "GPU available: True (cuda), used: True\n",
      "TPU available: False, using: 0 TPU cores\n",
      "IPU available: False, using: 0 IPUs\n",
      "HPU available: False, using: 0 HPUs\n",
      "LOCAL_RANK: 0 - CUDA_VISIBLE_DEVICES: [0]\n"
     ]
    },
    {
     "name": "stdout",
     "output_type": "stream",
     "text": [
      "Epoch 480/1500:  32%|███▏      | 480/1500 [01:15<02:40,  6.36it/s, loss=-11, v_num=1]    \n",
      "Monitored metric elbo_validation did not improve in the last 45 records. Best score: -9.821. Signaling Trainer to stop.\n",
      "RegVelo: 0.8540646071398253\n",
      "RegVelo: 0.6772930793309998\n",
      "recovering dynamics (using 1/112 cores)\n"
     ]
    },
    {
     "name": "stderr",
     "output_type": "stream",
     "text": [
      "GPU available: True (cuda), used: True\n",
      "TPU available: False, using: 0 TPU cores\n",
      "IPU available: False, using: 0 IPUs\n",
      "HPU available: False, using: 0 HPUs\n",
      "LOCAL_RANK: 0 - CUDA_VISIBLE_DEVICES: [0]\n"
     ]
    },
    {
     "name": "stdout",
     "output_type": "stream",
     "text": [
      "    finished (0:00:00) --> added \n",
      "    'fit_pars', fitted parameters for splicing dynamics (adata.var)\n",
      "computing velocities\n",
      "WARNING: Too few genes are selected as velocity genes. Consider setting a lower threshold for min_r2 or min_likelihood.\n",
      "    finished (0:00:00) --> added \n",
      "    'velocity', velocity vectors for each individual cell (adata.layers)\n",
      "scVelo: 0.8317585794858432\n",
      "scVelo: 0.5949357592362657\n",
      "Epoch 294/500:  59%|█████▉    | 294/500 [00:29<00:20, 10.07it/s, loss=-10.9, v_num=1]\n",
      "Monitored metric elbo_validation did not improve in the last 45 records. Best score: -11.288. Signaling Trainer to stop.\n",
      "veloVI: SignificanceResult(statistic=0.719733390103729, pvalue=1.116867037501522e-239)\n",
      "veloVI: 0.553883389378623\n",
      "initiating Net object ...\n",
      "gem_shape: (1500, 6)\n",
      "TF info shape: (6, 8)\n",
      "initiation completed.\n"
     ]
    },
    {
     "data": {
      "application/vnd.jupyter.widget-view+json": {
       "model_id": "87b348b4dd8c4e1781d25ca39b0ce214",
       "version_major": 2,
       "version_minor": 0
      },
      "text/plain": [
       "  0%|          | 0/6 [00:00<?, ?it/s]"
      ]
     },
     "metadata": {},
     "output_type": "display_data"
    },
    {
     "data": {
      "application/vnd.jupyter.widget-view+json": {
       "model_id": "0ebc8756e1d74564b34d6403d5e2de05",
       "version_major": 2,
       "version_minor": 0
      },
      "text/plain": [
       "  0%|          | 0/6 [00:00<?, ?it/s]"
      ]
     },
     "metadata": {},
     "output_type": "display_data"
    },
    {
     "name": "stdout",
     "output_type": "stream",
     "text": [
      "AUC: RegVelo: 0.745 Cor: 0.5199999999999999 GRNBoost2: 0.7 CellOracle: 0.55\n",
      "Velocity: RegVelo: 0.6772930793309998 veloVI: 0.553883389378623 scVelo: 0.5949357592362657\n",
      "46\n"
     ]
    },
    {
     "name": "stderr",
     "output_type": "stream",
     "text": [
      "GPU available: True (cuda), used: True\n",
      "TPU available: False, using: 0 TPU cores\n",
      "IPU available: False, using: 0 IPUs\n",
      "HPU available: False, using: 0 HPUs\n",
      "LOCAL_RANK: 0 - CUDA_VISIBLE_DEVICES: [0]\n"
     ]
    },
    {
     "name": "stdout",
     "output_type": "stream",
     "text": [
      "Epoch 833/1500:  56%|█████▌    | 833/1500 [03:26<02:44,  4.04it/s, loss=-13.8, v_num=1]  \n",
      "Monitored metric elbo_validation did not improve in the last 45 records. Best score: -13.918. Signaling Trainer to stop.\n",
      "RegVelo: 0.9270685478359819\n",
      "RegVelo: 0.6288623348036128\n",
      "recovering dynamics (using 1/112 cores)\n"
     ]
    },
    {
     "name": "stderr",
     "output_type": "stream",
     "text": [
      "GPU available: True (cuda), used: True\n",
      "TPU available: False, using: 0 TPU cores\n",
      "IPU available: False, using: 0 IPUs\n",
      "HPU available: False, using: 0 HPUs\n",
      "LOCAL_RANK: 0 - CUDA_VISIBLE_DEVICES: [0]\n"
     ]
    },
    {
     "name": "stdout",
     "output_type": "stream",
     "text": [
      "    finished (0:00:00) --> added \n",
      "    'fit_pars', fitted parameters for splicing dynamics (adata.var)\n",
      "computing velocities\n",
      "WARNING: Too few genes are selected as velocity genes. Consider setting a lower threshold for min_r2 or min_likelihood.\n",
      "    finished (0:00:00) --> added \n",
      "    'velocity', velocity vectors for each individual cell (adata.layers)\n",
      "scVelo: -0.26546016376773324\n",
      "scVelo: 0.6100397244229839\n",
      "Epoch 255/500:  51%|█████     | 255/500 [00:25<00:24, 10.02it/s, loss=-6.77, v_num=1]\n",
      "Monitored metric elbo_validation did not improve in the last 45 records. Best score: -5.294. Signaling Trainer to stop.\n",
      "veloVI: SignificanceResult(statistic=0.7521364658384294, pvalue=1.3653282645418675e-273)\n",
      "veloVI: 0.6046452229298401\n",
      "initiating Net object ...\n",
      "gem_shape: (1500, 6)\n",
      "TF info shape: (6, 8)\n",
      "initiation completed.\n"
     ]
    },
    {
     "data": {
      "application/vnd.jupyter.widget-view+json": {
       "model_id": "397faa9aaf9a418d8901bed82c908474",
       "version_major": 2,
       "version_minor": 0
      },
      "text/plain": [
       "  0%|          | 0/6 [00:00<?, ?it/s]"
      ]
     },
     "metadata": {},
     "output_type": "display_data"
    },
    {
     "data": {
      "application/vnd.jupyter.widget-view+json": {
       "model_id": "7a6fd9610137462b81ed4d0c48af08d3",
       "version_major": 2,
       "version_minor": 0
      },
      "text/plain": [
       "  0%|          | 0/6 [00:00<?, ?it/s]"
      ]
     },
     "metadata": {},
     "output_type": "display_data"
    },
    {
     "name": "stdout",
     "output_type": "stream",
     "text": [
      "AUC: RegVelo: 0.345 Cor: 0.8 GRNBoost2: 0.61 CellOracle: 0.45500000000000007\n",
      "Velocity: RegVelo: 0.6288623348036128 veloVI: 0.6046452229298401 scVelo: 0.6100397244229839\n",
      "47\n"
     ]
    },
    {
     "name": "stderr",
     "output_type": "stream",
     "text": [
      "GPU available: True (cuda), used: True\n",
      "TPU available: False, using: 0 TPU cores\n",
      "IPU available: False, using: 0 IPUs\n",
      "HPU available: False, using: 0 HPUs\n",
      "LOCAL_RANK: 0 - CUDA_VISIBLE_DEVICES: [0]\n"
     ]
    },
    {
     "name": "stdout",
     "output_type": "stream",
     "text": [
      "Epoch 777/1500:  52%|█████▏    | 777/1500 [02:58<02:45,  4.36it/s, loss=-17.4, v_num=1]  \n",
      "Monitored metric elbo_validation did not improve in the last 45 records. Best score: -16.349. Signaling Trainer to stop.\n",
      "RegVelo: 0.8544272221533027\n",
      "RegVelo: 0.784952493087142\n",
      "recovering dynamics (using 1/112 cores)\n"
     ]
    },
    {
     "name": "stderr",
     "output_type": "stream",
     "text": [
      "GPU available: True (cuda), used: True\n",
      "TPU available: False, using: 0 TPU cores\n",
      "IPU available: False, using: 0 IPUs\n",
      "HPU available: False, using: 0 HPUs\n",
      "LOCAL_RANK: 0 - CUDA_VISIBLE_DEVICES: [0]\n"
     ]
    },
    {
     "name": "stdout",
     "output_type": "stream",
     "text": [
      "    finished (0:00:00) --> added \n",
      "    'fit_pars', fitted parameters for splicing dynamics (adata.var)\n",
      "computing velocities\n",
      "WARNING: Too few genes are selected as velocity genes. Consider setting a lower threshold for min_r2 or min_likelihood.\n",
      "    finished (0:00:00) --> added \n",
      "    'velocity', velocity vectors for each individual cell (adata.layers)\n",
      "scVelo: 0.88126300664006\n",
      "scVelo: 0.7145109532259412\n",
      "Epoch 235/500:  47%|████▋     | 235/500 [00:23<00:26,  9.99it/s, loss=-15, v_num=1]  \n",
      "Monitored metric elbo_validation did not improve in the last 45 records. Best score: -13.125. Signaling Trainer to stop.\n",
      "veloVI: SignificanceResult(statistic=0.23903877134082174, pvalue=6.196016237066233e-21)\n",
      "veloVI: 0.6654323361294304\n",
      "initiating Net object ...\n",
      "gem_shape: (1500, 6)\n",
      "TF info shape: (6, 8)\n",
      "initiation completed.\n"
     ]
    },
    {
     "data": {
      "application/vnd.jupyter.widget-view+json": {
       "model_id": "e804548c6a5d4583a7ce9ad8c0b2f943",
       "version_major": 2,
       "version_minor": 0
      },
      "text/plain": [
       "  0%|          | 0/6 [00:00<?, ?it/s]"
      ]
     },
     "metadata": {},
     "output_type": "display_data"
    },
    {
     "data": {
      "application/vnd.jupyter.widget-view+json": {
       "model_id": "37e0654313ea44debadbc3504e1ec66f",
       "version_major": 2,
       "version_minor": 0
      },
      "text/plain": [
       "  0%|          | 0/6 [00:00<?, ?it/s]"
      ]
     },
     "metadata": {},
     "output_type": "display_data"
    },
    {
     "name": "stdout",
     "output_type": "stream",
     "text": [
      "AUC: RegVelo: 0.755 Cor: 0.6200000000000001 GRNBoost2: 0.7100000000000001 CellOracle: 0.55\n",
      "Velocity: RegVelo: 0.784952493087142 veloVI: 0.6654323361294304 scVelo: 0.7145109532259412\n",
      "48\n"
     ]
    },
    {
     "name": "stderr",
     "output_type": "stream",
     "text": [
      "GPU available: True (cuda), used: True\n",
      "TPU available: False, using: 0 TPU cores\n",
      "IPU available: False, using: 0 IPUs\n",
      "HPU available: False, using: 0 HPUs\n",
      "LOCAL_RANK: 0 - CUDA_VISIBLE_DEVICES: [0]\n"
     ]
    },
    {
     "name": "stdout",
     "output_type": "stream",
     "text": [
      "Epoch 862/1500:  57%|█████▋    | 862/1500 [03:55<02:54,  3.66it/s, loss=-16, v_num=1]    \n",
      "Monitored metric elbo_validation did not improve in the last 45 records. Best score: -15.581. Signaling Trainer to stop.\n",
      "RegVelo: 0.9679955697189121\n",
      "RegVelo: 0.7180549304745009\n",
      "recovering dynamics (using 1/112 cores)\n"
     ]
    },
    {
     "name": "stderr",
     "output_type": "stream",
     "text": [
      "GPU available: True (cuda), used: True\n",
      "TPU available: False, using: 0 TPU cores\n",
      "IPU available: False, using: 0 IPUs\n",
      "HPU available: False, using: 0 HPUs\n",
      "LOCAL_RANK: 0 - CUDA_VISIBLE_DEVICES: [0]\n"
     ]
    },
    {
     "name": "stdout",
     "output_type": "stream",
     "text": [
      "    finished (0:00:00) --> added \n",
      "    'fit_pars', fitted parameters for splicing dynamics (adata.var)\n",
      "computing velocities\n",
      "WARNING: Too few genes are selected as velocity genes. Consider setting a lower threshold for min_r2 or min_likelihood.\n",
      "    finished (0:00:00) --> added \n",
      "    'velocity', velocity vectors for each individual cell (adata.layers)\n",
      "scVelo: 0.8828727244395905\n",
      "scVelo: 0.6092756548245142\n",
      "Epoch 382/500:  76%|███████▋  | 382/500 [00:40<00:12,  9.54it/s, loss=-12.9, v_num=1]\n",
      "Monitored metric elbo_validation did not improve in the last 45 records. Best score: -13.805. Signaling Trainer to stop.\n",
      "veloVI: SignificanceResult(statistic=0.3023543779352791, pvalue=4.4201352469747486e-33)\n",
      "veloVI: 0.5687258184686093\n",
      "initiating Net object ...\n",
      "gem_shape: (1500, 6)\n",
      "TF info shape: (6, 8)\n",
      "initiation completed.\n"
     ]
    },
    {
     "data": {
      "application/vnd.jupyter.widget-view+json": {
       "model_id": "08c323cfa1f44c92be3a3f2f2cb9a394",
       "version_major": 2,
       "version_minor": 0
      },
      "text/plain": [
       "  0%|          | 0/6 [00:00<?, ?it/s]"
      ]
     },
     "metadata": {},
     "output_type": "display_data"
    },
    {
     "data": {
      "application/vnd.jupyter.widget-view+json": {
       "model_id": "84fbadaf051c44fe8d7b89561e56a1bd",
       "version_major": 2,
       "version_minor": 0
      },
      "text/plain": [
       "  0%|          | 0/6 [00:00<?, ?it/s]"
      ]
     },
     "metadata": {},
     "output_type": "display_data"
    },
    {
     "name": "stdout",
     "output_type": "stream",
     "text": [
      "AUC: RegVelo: 0.67 Cor: 0.6699999999999999 GRNBoost2: 0.6000000000000001 CellOracle: 0.6\n",
      "Velocity: RegVelo: 0.7180549304745009 veloVI: 0.5687258184686093 scVelo: 0.6092756548245142\n",
      "49\n"
     ]
    },
    {
     "name": "stderr",
     "output_type": "stream",
     "text": [
      "GPU available: True (cuda), used: True\n",
      "TPU available: False, using: 0 TPU cores\n",
      "IPU available: False, using: 0 IPUs\n",
      "HPU available: False, using: 0 HPUs\n",
      "LOCAL_RANK: 0 - CUDA_VISIBLE_DEVICES: [0]\n"
     ]
    },
    {
     "name": "stdout",
     "output_type": "stream",
     "text": [
      "Epoch 447/1500:  30%|██▉       | 447/1500 [01:41<03:58,  4.42it/s, loss=-12.7, v_num=1]  \n",
      "Monitored metric elbo_validation did not improve in the last 45 records. Best score: -10.957. Signaling Trainer to stop.\n",
      "RegVelo: 0.8162139876506611\n",
      "RegVelo: 0.7501555467190526\n",
      "recovering dynamics (using 1/112 cores)\n"
     ]
    },
    {
     "name": "stderr",
     "output_type": "stream",
     "text": [
      "GPU available: True (cuda), used: True\n",
      "TPU available: False, using: 0 TPU cores\n",
      "IPU available: False, using: 0 IPUs\n",
      "HPU available: False, using: 0 HPUs\n",
      "LOCAL_RANK: 0 - CUDA_VISIBLE_DEVICES: [0]\n"
     ]
    },
    {
     "name": "stdout",
     "output_type": "stream",
     "text": [
      "    finished (0:00:00) --> added \n",
      "    'fit_pars', fitted parameters for splicing dynamics (adata.var)\n",
      "computing velocities\n",
      "WARNING: Too few genes are selected as velocity genes. Consider setting a lower threshold for min_r2 or min_likelihood.\n",
      "    finished (0:00:00) --> added \n",
      "    'velocity', velocity vectors for each individual cell (adata.layers)\n",
      "scVelo: 0.7851525173324091\n",
      "scVelo: 0.7234807563720592\n",
      "Epoch 398/500:  80%|███████▉  | 398/500 [00:42<00:10,  9.31it/s, loss=-15.7, v_num=1]\n",
      "Monitored metric elbo_validation did not improve in the last 45 records. Best score: -16.684. Signaling Trainer to stop.\n",
      "veloVI: SignificanceResult(statistic=0.45094559637666115, pvalue=5.0988818262228006e-76)\n",
      "veloVI: 0.6940524578415581\n",
      "initiating Net object ...\n",
      "gem_shape: (1500, 6)\n",
      "TF info shape: (6, 8)\n",
      "initiation completed.\n"
     ]
    },
    {
     "data": {
      "application/vnd.jupyter.widget-view+json": {
       "model_id": "a9c69ad0b2254f649ed442772847448b",
       "version_major": 2,
       "version_minor": 0
      },
      "text/plain": [
       "  0%|          | 0/6 [00:00<?, ?it/s]"
      ]
     },
     "metadata": {},
     "output_type": "display_data"
    },
    {
     "data": {
      "application/vnd.jupyter.widget-view+json": {
       "model_id": "2ef9572b4c1e49c48793d2d64b0561b5",
       "version_major": 2,
       "version_minor": 0
      },
      "text/plain": [
       "  0%|          | 0/6 [00:00<?, ?it/s]"
      ]
     },
     "metadata": {},
     "output_type": "display_data"
    },
    {
     "name": "stdout",
     "output_type": "stream",
     "text": [
      "AUC: RegVelo: 0.625 Cor: 0.53 GRNBoost2: 0.51 CellOracle: 0.52\n",
      "Velocity: RegVelo: 0.7501555467190526 veloVI: 0.6940524578415581 scVelo: 0.7234807563720592\n",
      "50\n"
     ]
    },
    {
     "name": "stderr",
     "output_type": "stream",
     "text": [
      "GPU available: True (cuda), used: True\n",
      "TPU available: False, using: 0 TPU cores\n",
      "IPU available: False, using: 0 IPUs\n",
      "HPU available: False, using: 0 HPUs\n",
      "LOCAL_RANK: 0 - CUDA_VISIBLE_DEVICES: [0]\n"
     ]
    },
    {
     "name": "stdout",
     "output_type": "stream",
     "text": [
      "Epoch 473/1500:  32%|███▏      | 473/1500 [01:44<03:47,  4.51it/s, loss=-11.5, v_num=1]   \n",
      "Monitored metric elbo_validation did not improve in the last 45 records. Best score: -9.536. Signaling Trainer to stop.\n",
      "RegVelo: 0.9333487783179892\n",
      "RegVelo: 0.6920417547824121\n",
      "recovering dynamics (using 1/112 cores)\n",
      "    finished (0:00:00) --> added \n",
      "    'fit_pars', fitted parameters for splicing dynamics (adata.var)\n",
      "computing velocities\n",
      "WARNING: Too few genes are selected as velocity genes. Consider setting a lower threshold for min_r2 or min_likelihood.\n",
      "    finished (0:00:00) --> added \n",
      "    'velocity', velocity vectors for each individual cell (adata.layers)\n",
      "scVelo: 0.908223047582594\n",
      "scVelo: 0.6522589718856121\n"
     ]
    },
    {
     "name": "stderr",
     "output_type": "stream",
     "text": [
      "GPU available: True (cuda), used: True\n",
      "TPU available: False, using: 0 TPU cores\n",
      "IPU available: False, using: 0 IPUs\n",
      "HPU available: False, using: 0 HPUs\n",
      "LOCAL_RANK: 0 - CUDA_VISIBLE_DEVICES: [0]\n"
     ]
    },
    {
     "name": "stdout",
     "output_type": "stream",
     "text": [
      "Epoch 281/500:  56%|█████▌    | 281/500 [00:30<00:23,  9.29it/s, loss=-9.05, v_num=1]\n",
      "Monitored metric elbo_validation did not improve in the last 45 records. Best score: -9.457. Signaling Trainer to stop.\n",
      "veloVI: SignificanceResult(statistic=0.7020052613356718, pvalue=4.359385663258522e-223)\n",
      "veloVI: 0.5437280237642288\n",
      "initiating Net object ...\n",
      "gem_shape: (1500, 6)\n",
      "TF info shape: (6, 8)\n",
      "initiation completed.\n"
     ]
    },
    {
     "data": {
      "application/vnd.jupyter.widget-view+json": {
       "model_id": "612ede9ff19a4589889ab5f91aadef55",
       "version_major": 2,
       "version_minor": 0
      },
      "text/plain": [
       "  0%|          | 0/6 [00:00<?, ?it/s]"
      ]
     },
     "metadata": {},
     "output_type": "display_data"
    },
    {
     "data": {
      "application/vnd.jupyter.widget-view+json": {
       "model_id": "12252638a3514a49a6b78ff0474e9f46",
       "version_major": 2,
       "version_minor": 0
      },
      "text/plain": [
       "  0%|          | 0/6 [00:00<?, ?it/s]"
      ]
     },
     "metadata": {},
     "output_type": "display_data"
    },
    {
     "name": "stdout",
     "output_type": "stream",
     "text": [
      "AUC: RegVelo: 0.665 Cor: 0.59 GRNBoost2: 0.665 CellOracle: 0.465\n",
      "Velocity: RegVelo: 0.6920417547824121 veloVI: 0.5437280237642288 scVelo: 0.6522589718856121\n",
      "51\n"
     ]
    },
    {
     "name": "stderr",
     "output_type": "stream",
     "text": [
      "GPU available: True (cuda), used: True\n",
      "TPU available: False, using: 0 TPU cores\n",
      "IPU available: False, using: 0 IPUs\n",
      "HPU available: False, using: 0 HPUs\n",
      "LOCAL_RANK: 0 - CUDA_VISIBLE_DEVICES: [0]\n"
     ]
    },
    {
     "name": "stdout",
     "output_type": "stream",
     "text": [
      "Epoch 996/1500:  66%|██████▋   | 996/1500 [04:10<02:06,  3.98it/s, loss=-16.7, v_num=1]  \n",
      "Monitored metric elbo_validation did not improve in the last 45 records. Best score: -16.548. Signaling Trainer to stop.\n",
      "RegVelo: 0.9825112740050107\n",
      "RegVelo: 0.7699774764584194\n",
      "recovering dynamics (using 1/112 cores)\n"
     ]
    },
    {
     "name": "stderr",
     "output_type": "stream",
     "text": [
      "GPU available: True (cuda), used: True\n",
      "TPU available: False, using: 0 TPU cores\n",
      "IPU available: False, using: 0 IPUs\n",
      "HPU available: False, using: 0 HPUs\n"
     ]
    },
    {
     "name": "stdout",
     "output_type": "stream",
     "text": [
      "    finished (0:00:00) --> added \n",
      "    'fit_pars', fitted parameters for splicing dynamics (adata.var)\n",
      "computing velocities\n",
      "WARNING: Too few genes are selected as velocity genes. Consider setting a lower threshold for min_r2 or min_likelihood.\n",
      "    finished (0:00:00) --> added \n",
      "    'velocity', velocity vectors for each individual cell (adata.layers)\n",
      "scVelo: 0.7436769792539409\n",
      "scVelo: 0.6795533292299539\n"
     ]
    },
    {
     "name": "stderr",
     "output_type": "stream",
     "text": [
      "LOCAL_RANK: 0 - CUDA_VISIBLE_DEVICES: [0]\n"
     ]
    },
    {
     "name": "stdout",
     "output_type": "stream",
     "text": [
      "Epoch 303/500:  61%|██████    | 303/500 [00:31<00:20,  9.62it/s, loss=-11.7, v_num=1]\n",
      "Monitored metric elbo_validation did not improve in the last 45 records. Best score: -11.155. Signaling Trainer to stop.\n",
      "veloVI: SignificanceResult(statistic=0.7269882448836644, pvalue=7.61906973867978e-247)\n",
      "veloVI: 0.5718474954770559\n",
      "initiating Net object ...\n",
      "gem_shape: (1500, 6)\n",
      "TF info shape: (6, 8)\n",
      "initiation completed.\n"
     ]
    },
    {
     "data": {
      "application/vnd.jupyter.widget-view+json": {
       "model_id": "e7c4d8a674c348c586781c3b5add02c8",
       "version_major": 2,
       "version_minor": 0
      },
      "text/plain": [
       "  0%|          | 0/6 [00:00<?, ?it/s]"
      ]
     },
     "metadata": {},
     "output_type": "display_data"
    },
    {
     "data": {
      "application/vnd.jupyter.widget-view+json": {
       "model_id": "5dbba896f8a74c55ad2f122f7262a110",
       "version_major": 2,
       "version_minor": 0
      },
      "text/plain": [
       "  0%|          | 0/6 [00:00<?, ?it/s]"
      ]
     },
     "metadata": {},
     "output_type": "display_data"
    },
    {
     "name": "stdout",
     "output_type": "stream",
     "text": [
      "AUC: RegVelo: 0.665 Cor: 0.6300000000000001 GRNBoost2: 0.7 CellOracle: 0.42\n",
      "Velocity: RegVelo: 0.7699774764584194 veloVI: 0.5718474954770559 scVelo: 0.6795533292299539\n",
      "52\n"
     ]
    },
    {
     "name": "stderr",
     "output_type": "stream",
     "text": [
      "GPU available: True (cuda), used: True\n",
      "TPU available: False, using: 0 TPU cores\n",
      "IPU available: False, using: 0 IPUs\n",
      "HPU available: False, using: 0 HPUs\n",
      "LOCAL_RANK: 0 - CUDA_VISIBLE_DEVICES: [0]\n"
     ]
    },
    {
     "name": "stdout",
     "output_type": "stream",
     "text": [
      "Epoch 976/1500:  65%|██████▌   | 976/1500 [04:30<02:25,  3.61it/s, loss=-16.6, v_num=1]  \n",
      "Monitored metric elbo_validation did not improve in the last 45 records. Best score: -16.411. Signaling Trainer to stop.\n",
      "RegVelo: 0.9899407493069997\n",
      "RegVelo: 0.7328189262142306\n",
      "recovering dynamics (using 1/112 cores)\n"
     ]
    },
    {
     "name": "stderr",
     "output_type": "stream",
     "text": [
      "GPU available: True (cuda), used: True\n",
      "TPU available: False, using: 0 TPU cores\n",
      "IPU available: False, using: 0 IPUs\n",
      "HPU available: False, using: 0 HPUs\n"
     ]
    },
    {
     "name": "stdout",
     "output_type": "stream",
     "text": [
      "    finished (0:00:00) --> added \n",
      "    'fit_pars', fitted parameters for splicing dynamics (adata.var)\n",
      "computing velocities\n",
      "WARNING: Too few genes are selected as velocity genes. Consider setting a lower threshold for min_r2 or min_likelihood.\n",
      "    finished (0:00:00) --> added \n",
      "    'velocity', velocity vectors for each individual cell (adata.layers)\n",
      "scVelo: 0.8391568532787701\n",
      "scVelo: 0.656746103348897\n"
     ]
    },
    {
     "name": "stderr",
     "output_type": "stream",
     "text": [
      "LOCAL_RANK: 0 - CUDA_VISIBLE_DEVICES: [0]\n"
     ]
    },
    {
     "name": "stdout",
     "output_type": "stream",
     "text": [
      "Epoch 397/500:  79%|███████▉  | 397/500 [00:39<00:10, 10.07it/s, loss=-12.1, v_num=1]\n",
      "Monitored metric elbo_validation did not improve in the last 45 records. Best score: -12.412. Signaling Trainer to stop.\n",
      "veloVI: SignificanceResult(statistic=0.28553706201647205, pvalue=1.5502884688742257e-29)\n",
      "veloVI: 0.6642438404030926\n",
      "initiating Net object ...\n",
      "gem_shape: (1500, 6)\n",
      "TF info shape: (6, 8)\n",
      "initiation completed.\n"
     ]
    },
    {
     "data": {
      "application/vnd.jupyter.widget-view+json": {
       "model_id": "eb4c001553924a6099269258805b2e5f",
       "version_major": 2,
       "version_minor": 0
      },
      "text/plain": [
       "  0%|          | 0/6 [00:00<?, ?it/s]"
      ]
     },
     "metadata": {},
     "output_type": "display_data"
    },
    {
     "data": {
      "application/vnd.jupyter.widget-view+json": {
       "model_id": "5e3fd28640be4a17bfcbd5cec9c391d4",
       "version_major": 2,
       "version_minor": 0
      },
      "text/plain": [
       "  0%|          | 0/6 [00:00<?, ?it/s]"
      ]
     },
     "metadata": {},
     "output_type": "display_data"
    },
    {
     "name": "stdout",
     "output_type": "stream",
     "text": [
      "AUC: RegVelo: 0.545 Cor: 0.6699999999999999 GRNBoost2: 0.565 CellOracle: 0.61\n",
      "Velocity: RegVelo: 0.7328189262142306 veloVI: 0.6642438404030926 scVelo: 0.656746103348897\n",
      "53\n"
     ]
    },
    {
     "name": "stderr",
     "output_type": "stream",
     "text": [
      "GPU available: True (cuda), used: True\n",
      "TPU available: False, using: 0 TPU cores\n",
      "IPU available: False, using: 0 IPUs\n",
      "HPU available: False, using: 0 HPUs\n",
      "LOCAL_RANK: 0 - CUDA_VISIBLE_DEVICES: [0]\n"
     ]
    },
    {
     "name": "stdout",
     "output_type": "stream",
     "text": [
      "Epoch 429/1500:  29%|██▊       | 429/1500 [01:15<03:07,  5.71it/s, loss=-10.7, v_num=1]   \n",
      "Monitored metric elbo_validation did not improve in the last 45 records. Best score: -8.705. Signaling Trainer to stop.\n",
      "RegVelo: 0.7859028737346107\n",
      "RegVelo: 0.664790412140731\n",
      "recovering dynamics (using 1/112 cores)\n"
     ]
    },
    {
     "name": "stderr",
     "output_type": "stream",
     "text": [
      "GPU available: True (cuda), used: True\n",
      "TPU available: False, using: 0 TPU cores\n",
      "IPU available: False, using: 0 IPUs\n",
      "HPU available: False, using: 0 HPUs\n",
      "LOCAL_RANK: 0 - CUDA_VISIBLE_DEVICES: [0]\n"
     ]
    },
    {
     "name": "stdout",
     "output_type": "stream",
     "text": [
      "    finished (0:00:00) --> added \n",
      "    'fit_pars', fitted parameters for splicing dynamics (adata.var)\n",
      "computing velocities\n",
      "WARNING: Too few genes are selected as velocity genes. Consider setting a lower threshold for min_r2 or min_likelihood.\n",
      "    finished (0:00:00) --> added \n",
      "    'velocity', velocity vectors for each individual cell (adata.layers)\n",
      "scVelo: 0.8931700810652733\n",
      "scVelo: 0.6176059245334744\n",
      "Epoch 467/500:  93%|█████████▎| 467/500 [00:50<00:03,  9.29it/s, loss=-12.9, v_num=1]\n",
      "Monitored metric elbo_validation did not improve in the last 45 records. Best score: -13.485. Signaling Trainer to stop.\n",
      "veloVI: SignificanceResult(statistic=-0.13332586026333867, pvalue=2.1888863379880484e-07)\n",
      "veloVI: 0.5623040089948841\n",
      "initiating Net object ...\n",
      "gem_shape: (1500, 6)\n",
      "TF info shape: (6, 8)\n",
      "initiation completed.\n"
     ]
    },
    {
     "data": {
      "application/vnd.jupyter.widget-view+json": {
       "model_id": "b3f65084704c4f42b55e1b709adf5d2c",
       "version_major": 2,
       "version_minor": 0
      },
      "text/plain": [
       "  0%|          | 0/6 [00:00<?, ?it/s]"
      ]
     },
     "metadata": {},
     "output_type": "display_data"
    },
    {
     "data": {
      "application/vnd.jupyter.widget-view+json": {
       "model_id": "334c60d27443415eae4f8cb367f3711f",
       "version_major": 2,
       "version_minor": 0
      },
      "text/plain": [
       "  0%|          | 0/6 [00:00<?, ?it/s]"
      ]
     },
     "metadata": {},
     "output_type": "display_data"
    },
    {
     "name": "stdout",
     "output_type": "stream",
     "text": [
      "AUC: RegVelo: 0.61 Cor: 0.6299999999999999 GRNBoost2: 0.6950000000000001 CellOracle: 0.56\n",
      "Velocity: RegVelo: 0.664790412140731 veloVI: 0.5623040089948841 scVelo: 0.6176059245334744\n",
      "54\n"
     ]
    },
    {
     "name": "stderr",
     "output_type": "stream",
     "text": [
      "GPU available: True (cuda), used: True\n",
      "TPU available: False, using: 0 TPU cores\n",
      "IPU available: False, using: 0 IPUs\n",
      "HPU available: False, using: 0 HPUs\n",
      "LOCAL_RANK: 0 - CUDA_VISIBLE_DEVICES: [0]\n"
     ]
    },
    {
     "name": "stdout",
     "output_type": "stream",
     "text": [
      "Epoch 598/1500:  40%|███▉      | 598/1500 [02:13<03:20,  4.49it/s, loss=-14.8, v_num=1]  \n",
      "Monitored metric elbo_validation did not improve in the last 45 records. Best score: -13.537. Signaling Trainer to stop.\n",
      "RegVelo: 0.858322344143264\n",
      "RegVelo: 0.7490524717492789\n",
      "recovering dynamics (using 1/112 cores)\n"
     ]
    },
    {
     "name": "stderr",
     "output_type": "stream",
     "text": [
      "GPU available: True (cuda), used: True\n",
      "TPU available: False, using: 0 TPU cores\n",
      "IPU available: False, using: 0 IPUs\n",
      "HPU available: False, using: 0 HPUs\n",
      "LOCAL_RANK: 0 - CUDA_VISIBLE_DEVICES: [0]\n"
     ]
    },
    {
     "name": "stdout",
     "output_type": "stream",
     "text": [
      "    finished (0:00:00) --> added \n",
      "    'fit_pars', fitted parameters for splicing dynamics (adata.var)\n",
      "computing velocities\n",
      "WARNING: Too few genes are selected as velocity genes. Consider setting a lower threshold for min_r2 or min_likelihood.\n",
      "    finished (0:00:00) --> added \n",
      "    'velocity', velocity vectors for each individual cell (adata.layers)\n",
      "scVelo: 0.8176313483374301\n",
      "scVelo: 0.7024180019641136\n",
      "Epoch 261/500:  52%|█████▏    | 261/500 [00:28<00:25,  9.32it/s, loss=-12.1, v_num=1]\n",
      "Monitored metric elbo_validation did not improve in the last 45 records. Best score: -11.229. Signaling Trainer to stop.\n",
      "veloVI: SignificanceResult(statistic=0.44446951309756144, pvalue=1.1827512813987741e-73)\n",
      "veloVI: 0.6781164650249177\n",
      "initiating Net object ...\n",
      "gem_shape: (1500, 6)\n",
      "TF info shape: (6, 8)\n",
      "initiation completed.\n"
     ]
    },
    {
     "data": {
      "application/vnd.jupyter.widget-view+json": {
       "model_id": "05bebcb9e2734f6e898d243386bf7843",
       "version_major": 2,
       "version_minor": 0
      },
      "text/plain": [
       "  0%|          | 0/6 [00:00<?, ?it/s]"
      ]
     },
     "metadata": {},
     "output_type": "display_data"
    },
    {
     "data": {
      "application/vnd.jupyter.widget-view+json": {
       "model_id": "cc10ef5f90b448e6a9b64e1af2e967be",
       "version_major": 2,
       "version_minor": 0
      },
      "text/plain": [
       "  0%|          | 0/6 [00:00<?, ?it/s]"
      ]
     },
     "metadata": {},
     "output_type": "display_data"
    },
    {
     "name": "stdout",
     "output_type": "stream",
     "text": [
      "AUC: RegVelo: 0.62 Cor: 0.6900000000000001 GRNBoost2: 0.575 CellOracle: 0.49\n",
      "Velocity: RegVelo: 0.7490524717492789 veloVI: 0.6781164650249177 scVelo: 0.7024180019641136\n",
      "55\n"
     ]
    },
    {
     "name": "stderr",
     "output_type": "stream",
     "text": [
      "GPU available: True (cuda), used: True\n",
      "TPU available: False, using: 0 TPU cores\n",
      "IPU available: False, using: 0 IPUs\n",
      "HPU available: False, using: 0 HPUs\n",
      "LOCAL_RANK: 0 - CUDA_VISIBLE_DEVICES: [0]\n"
     ]
    },
    {
     "name": "stdout",
     "output_type": "stream",
     "text": [
      "Epoch 810/1500:  54%|█████▍    | 810/1500 [03:14<02:46,  4.16it/s, loss=-19, v_num=1]    \n",
      "Monitored metric elbo_validation did not improve in the last 45 records. Best score: -18.179. Signaling Trainer to stop.\n",
      "RegVelo: 0.8726814400765182\n",
      "RegVelo: 0.7399216560780285\n",
      "recovering dynamics (using 1/112 cores)\n"
     ]
    },
    {
     "name": "stderr",
     "output_type": "stream",
     "text": [
      "GPU available: True (cuda), used: True\n",
      "TPU available: False, using: 0 TPU cores\n",
      "IPU available: False, using: 0 IPUs\n",
      "HPU available: False, using: 0 HPUs\n"
     ]
    },
    {
     "name": "stdout",
     "output_type": "stream",
     "text": [
      "    finished (0:00:00) --> added \n",
      "    'fit_pars', fitted parameters for splicing dynamics (adata.var)\n",
      "computing velocities\n",
      "WARNING: Too few genes are selected as velocity genes. Consider setting a lower threshold for min_r2 or min_likelihood.\n",
      "    finished (0:00:00) --> added \n",
      "    'velocity', velocity vectors for each individual cell (adata.layers)\n",
      "scVelo: 0.8061696769756603\n",
      "scVelo: 0.7307323591946281\n"
     ]
    },
    {
     "name": "stderr",
     "output_type": "stream",
     "text": [
      "LOCAL_RANK: 0 - CUDA_VISIBLE_DEVICES: [0]\n"
     ]
    },
    {
     "name": "stdout",
     "output_type": "stream",
     "text": [
      "Epoch 260/500:  52%|█████▏    | 260/500 [00:27<00:25,  9.49it/s, loss=-16.5, v_num=1]\n",
      "Monitored metric elbo_validation did not improve in the last 45 records. Best score: -16.312. Signaling Trainer to stop.\n",
      "veloVI: SignificanceResult(statistic=0.48525817122585396, pvalue=1.938077103633614e-89)\n",
      "veloVI: 0.7135635991090613\n",
      "initiating Net object ...\n",
      "gem_shape: (1500, 6)\n",
      "TF info shape: (6, 8)\n",
      "initiation completed.\n"
     ]
    },
    {
     "data": {
      "application/vnd.jupyter.widget-view+json": {
       "model_id": "fc9f1fceed9741ef91c2d94f17d633e2",
       "version_major": 2,
       "version_minor": 0
      },
      "text/plain": [
       "  0%|          | 0/6 [00:00<?, ?it/s]"
      ]
     },
     "metadata": {},
     "output_type": "display_data"
    },
    {
     "data": {
      "application/vnd.jupyter.widget-view+json": {
       "model_id": "7503ae0a521148cb8f443d2bcacce2cf",
       "version_major": 2,
       "version_minor": 0
      },
      "text/plain": [
       "  0%|          | 0/6 [00:00<?, ?it/s]"
      ]
     },
     "metadata": {},
     "output_type": "display_data"
    },
    {
     "name": "stdout",
     "output_type": "stream",
     "text": [
      "AUC: RegVelo: 0.77 Cor: 0.5800000000000001 GRNBoost2: 0.52 CellOracle: 0.53\n",
      "Velocity: RegVelo: 0.7399216560780285 veloVI: 0.7135635991090613 scVelo: 0.7307323591946281\n",
      "56\n"
     ]
    },
    {
     "name": "stderr",
     "output_type": "stream",
     "text": [
      "GPU available: True (cuda), used: True\n",
      "TPU available: False, using: 0 TPU cores\n",
      "IPU available: False, using: 0 IPUs\n",
      "HPU available: False, using: 0 HPUs\n",
      "LOCAL_RANK: 0 - CUDA_VISIBLE_DEVICES: [0]\n"
     ]
    },
    {
     "name": "stdout",
     "output_type": "stream",
     "text": [
      "Epoch 945/1500:  63%|██████▎   | 945/1500 [03:53<02:16,  4.05it/s, loss=-15.9, v_num=1]  \n",
      "Monitored metric elbo_validation did not improve in the last 45 records. Best score: -15.311. Signaling Trainer to stop.\n",
      "RegVelo: 0.8296950389755728\n",
      "RegVelo: 0.7938849079826508\n",
      "recovering dynamics (using 1/112 cores)\n"
     ]
    },
    {
     "name": "stderr",
     "output_type": "stream",
     "text": [
      "GPU available: True (cuda), used: True\n",
      "TPU available: False, using: 0 TPU cores\n",
      "IPU available: False, using: 0 IPUs\n",
      "HPU available: False, using: 0 HPUs\n",
      "LOCAL_RANK: 0 - CUDA_VISIBLE_DEVICES: [0]\n"
     ]
    },
    {
     "name": "stdout",
     "output_type": "stream",
     "text": [
      "    finished (0:00:00) --> added \n",
      "    'fit_pars', fitted parameters for splicing dynamics (adata.var)\n",
      "computing velocities\n",
      "WARNING: Too few genes are selected as velocity genes. Consider setting a lower threshold for min_r2 or min_likelihood.\n",
      "    finished (0:00:00) --> added \n",
      "    'velocity', velocity vectors for each individual cell (adata.layers)\n",
      "scVelo: 0.779987685956975\n",
      "scVelo: 0.7233696408981949\n",
      "Epoch 274/500:  55%|█████▍    | 274/500 [00:27<00:22,  9.96it/s, loss=-11.1, v_num=1]\n",
      "Monitored metric elbo_validation did not improve in the last 45 records. Best score: -9.531. Signaling Trainer to stop.\n",
      "veloVI: SignificanceResult(statistic=0.6144735673215854, pvalue=1.9718390302691633e-156)\n",
      "veloVI: 0.6958569865451523\n",
      "initiating Net object ...\n",
      "gem_shape: (1500, 6)\n",
      "TF info shape: (6, 8)\n",
      "initiation completed.\n"
     ]
    },
    {
     "data": {
      "application/vnd.jupyter.widget-view+json": {
       "model_id": "d7cdbbc23a2c4092ac4e1009f3a2b2b4",
       "version_major": 2,
       "version_minor": 0
      },
      "text/plain": [
       "  0%|          | 0/6 [00:00<?, ?it/s]"
      ]
     },
     "metadata": {},
     "output_type": "display_data"
    },
    {
     "data": {
      "application/vnd.jupyter.widget-view+json": {
       "model_id": "fe37b9583a054ef3bd0032088874b1c9",
       "version_major": 2,
       "version_minor": 0
      },
      "text/plain": [
       "  0%|          | 0/6 [00:00<?, ?it/s]"
      ]
     },
     "metadata": {},
     "output_type": "display_data"
    },
    {
     "name": "stdout",
     "output_type": "stream",
     "text": [
      "AUC: RegVelo: 0.63 Cor: 0.69 GRNBoost2: 0.485 CellOracle: 0.48500000000000004\n",
      "Velocity: RegVelo: 0.7938849079826508 veloVI: 0.6958569865451523 scVelo: 0.7233696408981949\n",
      "57\n"
     ]
    },
    {
     "name": "stderr",
     "output_type": "stream",
     "text": [
      "GPU available: True (cuda), used: True\n",
      "TPU available: False, using: 0 TPU cores\n",
      "IPU available: False, using: 0 IPUs\n",
      "HPU available: False, using: 0 HPUs\n",
      "LOCAL_RANK: 0 - CUDA_VISIBLE_DEVICES: [0]\n"
     ]
    },
    {
     "name": "stdout",
     "output_type": "stream",
     "text": [
      "Epoch 470/1500:  31%|███▏      | 470/1500 [01:14<02:43,  6.31it/s, loss=-10.9, v_num=1]  \n",
      "Monitored metric elbo_validation did not improve in the last 45 records. Best score: -8.445. Signaling Trainer to stop.\n",
      "RegVelo: 0.9892204787646574\n",
      "RegVelo: 0.7553211031479773\n",
      "recovering dynamics (using 1/112 cores)\n"
     ]
    },
    {
     "name": "stderr",
     "output_type": "stream",
     "text": [
      "GPU available: True (cuda), used: True\n",
      "TPU available: False, using: 0 TPU cores\n",
      "IPU available: False, using: 0 IPUs\n",
      "HPU available: False, using: 0 HPUs\n",
      "LOCAL_RANK: 0 - CUDA_VISIBLE_DEVICES: [0]\n"
     ]
    },
    {
     "name": "stdout",
     "output_type": "stream",
     "text": [
      "    finished (0:00:00) --> added \n",
      "    'fit_pars', fitted parameters for splicing dynamics (adata.var)\n",
      "computing velocities\n",
      "WARNING: Too few genes are selected as velocity genes. Consider setting a lower threshold for min_r2 or min_likelihood.\n",
      "    finished (0:00:00) --> added \n",
      "    'velocity', velocity vectors for each individual cell (adata.layers)\n",
      "scVelo: 0.8653415901767023\n",
      "scVelo: 0.6970199074769957\n",
      "Epoch 243/500:  49%|████▊     | 243/500 [00:26<00:27,  9.27it/s, loss=-9.7, v_num=1] \n",
      "Monitored metric elbo_validation did not improve in the last 45 records. Best score: -8.231. Signaling Trainer to stop.\n",
      "veloVI: SignificanceResult(statistic=0.5684142615174497, pvalue=4.209352282600382e-129)\n",
      "veloVI: 0.6636074256693044\n",
      "initiating Net object ...\n",
      "gem_shape: (1500, 6)\n",
      "TF info shape: (6, 8)\n",
      "initiation completed.\n"
     ]
    },
    {
     "data": {
      "application/vnd.jupyter.widget-view+json": {
       "model_id": "96c743504edb458abe14128974788ee1",
       "version_major": 2,
       "version_minor": 0
      },
      "text/plain": [
       "  0%|          | 0/6 [00:00<?, ?it/s]"
      ]
     },
     "metadata": {},
     "output_type": "display_data"
    },
    {
     "data": {
      "application/vnd.jupyter.widget-view+json": {
       "model_id": "675365b544584ebe9f5038892737f2fb",
       "version_major": 2,
       "version_minor": 0
      },
      "text/plain": [
       "  0%|          | 0/6 [00:00<?, ?it/s]"
      ]
     },
     "metadata": {},
     "output_type": "display_data"
    },
    {
     "name": "stdout",
     "output_type": "stream",
     "text": [
      "AUC: RegVelo: 0.6250000000000001 Cor: 0.77 GRNBoost2: 0.65 CellOracle: 0.54\n",
      "Velocity: RegVelo: 0.7553211031479773 veloVI: 0.6636074256693044 scVelo: 0.6970199074769957\n",
      "58\n"
     ]
    },
    {
     "name": "stderr",
     "output_type": "stream",
     "text": [
      "GPU available: True (cuda), used: True\n",
      "TPU available: False, using: 0 TPU cores\n",
      "IPU available: False, using: 0 IPUs\n",
      "HPU available: False, using: 0 HPUs\n",
      "LOCAL_RANK: 0 - CUDA_VISIBLE_DEVICES: [0]\n"
     ]
    },
    {
     "name": "stdout",
     "output_type": "stream",
     "text": [
      "Epoch 387/1500:  26%|██▌       | 387/1500 [01:12<03:27,  5.36it/s, loss=-8.73, v_num=1]  \n",
      "Monitored metric elbo_validation did not improve in the last 45 records. Best score: -7.094. Signaling Trainer to stop.\n",
      "RegVelo: 0.9351364085050704\n",
      "RegVelo: 0.6728105762645287\n",
      "recovering dynamics (using 1/112 cores)\n"
     ]
    },
    {
     "name": "stderr",
     "output_type": "stream",
     "text": [
      "GPU available: True (cuda), used: True\n",
      "TPU available: False, using: 0 TPU cores\n",
      "IPU available: False, using: 0 IPUs\n",
      "HPU available: False, using: 0 HPUs\n",
      "LOCAL_RANK: 0 - CUDA_VISIBLE_DEVICES: [0]\n"
     ]
    },
    {
     "name": "stdout",
     "output_type": "stream",
     "text": [
      "    finished (0:00:00) --> added \n",
      "    'fit_pars', fitted parameters for splicing dynamics (adata.var)\n",
      "computing velocities\n",
      "WARNING: Too few genes are selected as velocity genes. Consider setting a lower threshold for min_r2 or min_likelihood.\n",
      "    finished (0:00:00) --> added \n",
      "    'velocity', velocity vectors for each individual cell (adata.layers)\n",
      "scVelo: 0.9154605614880398\n",
      "scVelo: 0.6036578863078451\n",
      "Epoch 249/500:  50%|████▉     | 249/500 [00:25<00:25,  9.85it/s, loss=-7.96, v_num=1]\n",
      "Monitored metric elbo_validation did not improve in the last 45 records. Best score: -6.178. Signaling Trainer to stop.\n",
      "veloVI: SignificanceResult(statistic=0.8312137426116312, pvalue=0.0)\n",
      "veloVI: 0.6154158396237691\n",
      "initiating Net object ...\n",
      "gem_shape: (1500, 6)\n",
      "TF info shape: (6, 8)\n",
      "initiation completed.\n"
     ]
    },
    {
     "data": {
      "application/vnd.jupyter.widget-view+json": {
       "model_id": "cac6294a0f794ef1aaf43b7aa30c0eaa",
       "version_major": 2,
       "version_minor": 0
      },
      "text/plain": [
       "  0%|          | 0/6 [00:00<?, ?it/s]"
      ]
     },
     "metadata": {},
     "output_type": "display_data"
    },
    {
     "data": {
      "application/vnd.jupyter.widget-view+json": {
       "model_id": "65947c71ee874beabff5a4fb26afca68",
       "version_major": 2,
       "version_minor": 0
      },
      "text/plain": [
       "  0%|          | 0/6 [00:00<?, ?it/s]"
      ]
     },
     "metadata": {},
     "output_type": "display_data"
    },
    {
     "name": "stdout",
     "output_type": "stream",
     "text": [
      "AUC: RegVelo: 0.645 Cor: 0.6299999999999999 GRNBoost2: 0.5449999999999999 CellOracle: 0.49\n",
      "Velocity: RegVelo: 0.6728105762645287 veloVI: 0.6154158396237691 scVelo: 0.6036578863078451\n",
      "59\n"
     ]
    },
    {
     "name": "stderr",
     "output_type": "stream",
     "text": [
      "GPU available: True (cuda), used: True\n",
      "TPU available: False, using: 0 TPU cores\n",
      "IPU available: False, using: 0 IPUs\n",
      "HPU available: False, using: 0 HPUs\n",
      "LOCAL_RANK: 0 - CUDA_VISIBLE_DEVICES: [0]\n"
     ]
    },
    {
     "name": "stdout",
     "output_type": "stream",
     "text": [
      "Epoch 591/1500:  39%|███▉      | 591/1500 [01:56<02:59,  5.07it/s, loss=-16.1, v_num=1]    \n",
      "Monitored metric elbo_validation did not improve in the last 45 records. Best score: -14.571. Signaling Trainer to stop.\n",
      "RegVelo: 0.7914865526606901\n",
      "RegVelo: 0.8482108835375173\n",
      "recovering dynamics (using 1/112 cores)\n"
     ]
    },
    {
     "name": "stderr",
     "output_type": "stream",
     "text": [
      "GPU available: True (cuda), used: True\n",
      "TPU available: False, using: 0 TPU cores\n",
      "IPU available: False, using: 0 IPUs\n",
      "HPU available: False, using: 0 HPUs\n",
      "LOCAL_RANK: 0 - CUDA_VISIBLE_DEVICES: [0]\n"
     ]
    },
    {
     "name": "stdout",
     "output_type": "stream",
     "text": [
      "    finished (0:00:00) --> added \n",
      "    'fit_pars', fitted parameters for splicing dynamics (adata.var)\n",
      "computing velocities\n",
      "WARNING: Too few genes are selected as velocity genes. Consider setting a lower threshold for min_r2 or min_likelihood.\n",
      "    finished (0:00:00) --> added \n",
      "    'velocity', velocity vectors for each individual cell (adata.layers)\n",
      "scVelo: 0.7036415726923567\n",
      "scVelo: 0.7152137785280915\n",
      "Epoch 265/500:  53%|█████▎    | 265/500 [00:28<00:24,  9.46it/s, loss=-17.5, v_num=1]\n",
      "Monitored metric elbo_validation did not improve in the last 45 records. Best score: -15.492. Signaling Trainer to stop.\n",
      "veloVI: SignificanceResult(statistic=0.3052629181659751, pvalue=1.0186055654316668e-33)\n",
      "veloVI: 0.6569387173279085\n",
      "initiating Net object ...\n",
      "gem_shape: (1500, 6)\n",
      "TF info shape: (6, 8)\n",
      "initiation completed.\n"
     ]
    },
    {
     "data": {
      "application/vnd.jupyter.widget-view+json": {
       "model_id": "995a7097d2d64af9986efb26df71ea0f",
       "version_major": 2,
       "version_minor": 0
      },
      "text/plain": [
       "  0%|          | 0/6 [00:00<?, ?it/s]"
      ]
     },
     "metadata": {},
     "output_type": "display_data"
    },
    {
     "data": {
      "application/vnd.jupyter.widget-view+json": {
       "model_id": "0c3e25c9c1204710a4b019f4e0c4b568",
       "version_major": 2,
       "version_minor": 0
      },
      "text/plain": [
       "  0%|          | 0/6 [00:00<?, ?it/s]"
      ]
     },
     "metadata": {},
     "output_type": "display_data"
    },
    {
     "name": "stdout",
     "output_type": "stream",
     "text": [
      "AUC: RegVelo: 0.55 Cor: 0.6699999999999999 GRNBoost2: 0.785 CellOracle: 0.555\n",
      "Velocity: RegVelo: 0.8482108835375173 veloVI: 0.6569387173279085 scVelo: 0.7152137785280915\n",
      "60\n"
     ]
    },
    {
     "name": "stderr",
     "output_type": "stream",
     "text": [
      "GPU available: True (cuda), used: True\n",
      "TPU available: False, using: 0 TPU cores\n",
      "IPU available: False, using: 0 IPUs\n",
      "HPU available: False, using: 0 HPUs\n",
      "LOCAL_RANK: 0 - CUDA_VISIBLE_DEVICES: [0]\n"
     ]
    },
    {
     "name": "stdout",
     "output_type": "stream",
     "text": [
      "Epoch 910/1500:  61%|██████    | 910/1500 [03:31<02:17,  4.30it/s, loss=-18.6, v_num=1]  \n",
      "Monitored metric elbo_validation did not improve in the last 45 records. Best score: -18.396. Signaling Trainer to stop.\n",
      "RegVelo: 0.9683629903835513\n",
      "RegVelo: 0.7724276081761813\n",
      "recovering dynamics (using 1/112 cores)\n"
     ]
    },
    {
     "name": "stderr",
     "output_type": "stream",
     "text": [
      "GPU available: True (cuda), used: True\n",
      "TPU available: False, using: 0 TPU cores\n",
      "IPU available: False, using: 0 IPUs\n",
      "HPU available: False, using: 0 HPUs\n",
      "LOCAL_RANK: 0 - CUDA_VISIBLE_DEVICES: [0]\n"
     ]
    },
    {
     "name": "stdout",
     "output_type": "stream",
     "text": [
      "    finished (0:00:00) --> added \n",
      "    'fit_pars', fitted parameters for splicing dynamics (adata.var)\n",
      "computing velocities\n",
      "WARNING: Too few genes are selected as velocity genes. Consider setting a lower threshold for min_r2 or min_likelihood.\n",
      "    finished (0:00:00) --> added \n",
      "    'velocity', velocity vectors for each individual cell (adata.layers)\n",
      "scVelo: 0.7293796282108247\n",
      "scVelo: 0.6837105671440525\n",
      "Epoch 264/500:  53%|█████▎    | 264/500 [00:26<00:23,  9.88it/s, loss=-15.3, v_num=1]\n",
      "Monitored metric elbo_validation did not improve in the last 45 records. Best score: -14.184. Signaling Trainer to stop.\n",
      "veloVI: SignificanceResult(statistic=-0.05144103264045896, pvalue=0.046375380847116975)\n",
      "veloVI: 0.6528155896028078\n",
      "initiating Net object ...\n",
      "gem_shape: (1500, 6)\n",
      "TF info shape: (6, 8)\n",
      "initiation completed.\n"
     ]
    },
    {
     "data": {
      "application/vnd.jupyter.widget-view+json": {
       "model_id": "aefa0fc7c2c3424194d7b1ecc535ddbf",
       "version_major": 2,
       "version_minor": 0
      },
      "text/plain": [
       "  0%|          | 0/6 [00:00<?, ?it/s]"
      ]
     },
     "metadata": {},
     "output_type": "display_data"
    },
    {
     "data": {
      "application/vnd.jupyter.widget-view+json": {
       "model_id": "0a139667a6ea46129bf12e4699385600",
       "version_major": 2,
       "version_minor": 0
      },
      "text/plain": [
       "  0%|          | 0/6 [00:00<?, ?it/s]"
      ]
     },
     "metadata": {},
     "output_type": "display_data"
    },
    {
     "name": "stdout",
     "output_type": "stream",
     "text": [
      "AUC: RegVelo: 0.64 Cor: 0.6200000000000001 GRNBoost2: 0.69 CellOracle: 0.595\n",
      "Velocity: RegVelo: 0.7724276081761813 veloVI: 0.6528155896028078 scVelo: 0.6837105671440525\n",
      "61\n"
     ]
    },
    {
     "name": "stderr",
     "output_type": "stream",
     "text": [
      "GPU available: True (cuda), used: True\n",
      "TPU available: False, using: 0 TPU cores\n",
      "IPU available: False, using: 0 IPUs\n",
      "HPU available: False, using: 0 HPUs\n",
      "LOCAL_RANK: 0 - CUDA_VISIBLE_DEVICES: [0]\n"
     ]
    },
    {
     "name": "stdout",
     "output_type": "stream",
     "text": [
      "Epoch 373/1500:  25%|██▍       | 373/1500 [01:04<03:14,  5.80it/s, loss=-10.7, v_num=1]  \n",
      "Monitored metric elbo_validation did not improve in the last 45 records. Best score: -8.584. Signaling Trainer to stop.\n",
      "RegVelo: 0.707963852428379\n",
      "RegVelo: 0.7525597455310211\n",
      "recovering dynamics (using 1/112 cores)\n"
     ]
    },
    {
     "name": "stderr",
     "output_type": "stream",
     "text": [
      "GPU available: True (cuda), used: True\n",
      "TPU available: False, using: 0 TPU cores\n",
      "IPU available: False, using: 0 IPUs\n",
      "HPU available: False, using: 0 HPUs\n",
      "LOCAL_RANK: 0 - CUDA_VISIBLE_DEVICES: [0]\n"
     ]
    },
    {
     "name": "stdout",
     "output_type": "stream",
     "text": [
      "    finished (0:00:00) --> added \n",
      "    'fit_pars', fitted parameters for splicing dynamics (adata.var)\n",
      "computing velocities\n",
      "WARNING: Too few genes are selected as velocity genes. Consider setting a lower threshold for min_r2 or min_likelihood.\n",
      "    finished (0:00:00) --> added \n",
      "    'velocity', velocity vectors for each individual cell (adata.layers)\n",
      "scVelo: 0.8418624769305126\n",
      "scVelo: 0.6903306993207021\n",
      "Epoch 322/500:  64%|██████▍   | 322/500 [00:35<00:19,  9.15it/s, loss=-14.1, v_num=1]\n",
      "Monitored metric elbo_validation did not improve in the last 45 records. Best score: -13.082. Signaling Trainer to stop.\n",
      "veloVI: SignificanceResult(statistic=0.7572520521120232, pvalue=1.981008113030454e-279)\n",
      "veloVI: 0.6320774115877793\n",
      "initiating Net object ...\n",
      "gem_shape: (1500, 6)\n",
      "TF info shape: (6, 8)\n",
      "initiation completed.\n"
     ]
    },
    {
     "data": {
      "application/vnd.jupyter.widget-view+json": {
       "model_id": "c6bd1a38445a424aa7ddccff2a8b4d9d",
       "version_major": 2,
       "version_minor": 0
      },
      "text/plain": [
       "  0%|          | 0/6 [00:00<?, ?it/s]"
      ]
     },
     "metadata": {},
     "output_type": "display_data"
    },
    {
     "data": {
      "application/vnd.jupyter.widget-view+json": {
       "model_id": "faebb714d74a4f33a8c6bf8f5153dcbb",
       "version_major": 2,
       "version_minor": 0
      },
      "text/plain": [
       "  0%|          | 0/6 [00:00<?, ?it/s]"
      ]
     },
     "metadata": {},
     "output_type": "display_data"
    },
    {
     "name": "stdout",
     "output_type": "stream",
     "text": [
      "AUC: RegVelo: 0.595 Cor: 0.6100000000000001 GRNBoost2: 0.5399999999999999 CellOracle: 0.55\n",
      "Velocity: RegVelo: 0.7525597455310211 veloVI: 0.6320774115877793 scVelo: 0.6903306993207021\n",
      "62\n"
     ]
    },
    {
     "name": "stderr",
     "output_type": "stream",
     "text": [
      "GPU available: True (cuda), used: True\n",
      "TPU available: False, using: 0 TPU cores\n",
      "IPU available: False, using: 0 IPUs\n",
      "HPU available: False, using: 0 HPUs\n",
      "LOCAL_RANK: 0 - CUDA_VISIBLE_DEVICES: [0]\n"
     ]
    },
    {
     "name": "stdout",
     "output_type": "stream",
     "text": [
      "Epoch 773/1500:  52%|█████▏    | 773/1500 [02:58<02:47,  4.34it/s, loss=-14.1, v_num=1]  \n",
      "Monitored metric elbo_validation did not improve in the last 45 records. Best score: -13.466. Signaling Trainer to stop.\n",
      "RegVelo: 0.9526992136020499\n",
      "RegVelo: 0.6834811427689291\n",
      "recovering dynamics (using 1/112 cores)\n"
     ]
    },
    {
     "name": "stderr",
     "output_type": "stream",
     "text": [
      "GPU available: True (cuda), used: True\n",
      "TPU available: False, using: 0 TPU cores\n",
      "IPU available: False, using: 0 IPUs\n",
      "HPU available: False, using: 0 HPUs\n",
      "LOCAL_RANK: 0 - CUDA_VISIBLE_DEVICES: [0]\n"
     ]
    },
    {
     "name": "stdout",
     "output_type": "stream",
     "text": [
      "    finished (0:00:00) --> added \n",
      "    'fit_pars', fitted parameters for splicing dynamics (adata.var)\n",
      "computing velocities\n",
      "WARNING: Too few genes are selected as velocity genes. Consider setting a lower threshold for min_r2 or min_likelihood.\n",
      "    finished (0:00:00) --> added \n",
      "    'velocity', velocity vectors for each individual cell (adata.layers)\n",
      "scVelo: 0.9269705238961505\n",
      "scVelo: 0.6421130370962195\n",
      "Epoch 309/500:  62%|██████▏   | 309/500 [00:32<00:19,  9.65it/s, loss=-9.9, v_num=1] \n",
      "Monitored metric elbo_validation did not improve in the last 45 records. Best score: -9.442. Signaling Trainer to stop.\n",
      "veloVI: SignificanceResult(statistic=0.6757579501146446, pvalue=1.1464752691992909e-200)\n",
      "veloVI: 0.6274896680871491\n",
      "initiating Net object ...\n",
      "gem_shape: (1500, 6)\n",
      "TF info shape: (6, 8)\n",
      "initiation completed.\n"
     ]
    },
    {
     "data": {
      "application/vnd.jupyter.widget-view+json": {
       "model_id": "04a9431d52104dddbba3c050b1bc7244",
       "version_major": 2,
       "version_minor": 0
      },
      "text/plain": [
       "  0%|          | 0/6 [00:00<?, ?it/s]"
      ]
     },
     "metadata": {},
     "output_type": "display_data"
    },
    {
     "data": {
      "application/vnd.jupyter.widget-view+json": {
       "model_id": "e3a8fea94cc6406e93cc6ec47d91a771",
       "version_major": 2,
       "version_minor": 0
      },
      "text/plain": [
       "  0%|          | 0/6 [00:00<?, ?it/s]"
      ]
     },
     "metadata": {},
     "output_type": "display_data"
    },
    {
     "name": "stdout",
     "output_type": "stream",
     "text": [
      "AUC: RegVelo: 0.675 Cor: 0.6599999999999999 GRNBoost2: 0.61 CellOracle: 0.5249999999999999\n",
      "Velocity: RegVelo: 0.6834811427689291 veloVI: 0.6274896680871491 scVelo: 0.6421130370962195\n",
      "63\n"
     ]
    },
    {
     "name": "stderr",
     "output_type": "stream",
     "text": [
      "GPU available: True (cuda), used: True\n",
      "TPU available: False, using: 0 TPU cores\n",
      "IPU available: False, using: 0 IPUs\n",
      "HPU available: False, using: 0 HPUs\n",
      "LOCAL_RANK: 0 - CUDA_VISIBLE_DEVICES: [0]\n"
     ]
    },
    {
     "name": "stdout",
     "output_type": "stream",
     "text": [
      "Epoch 902/1500:  60%|██████    | 902/1500 [03:43<02:28,  4.03it/s, loss=-15.1, v_num=1]   \n",
      "Monitored metric elbo_validation did not improve in the last 45 records. Best score: -14.530. Signaling Trainer to stop.\n",
      "RegVelo: 0.9750832573481885\n",
      "RegVelo: 0.6877804278682818\n",
      "recovering dynamics (using 1/112 cores)\n"
     ]
    },
    {
     "name": "stderr",
     "output_type": "stream",
     "text": [
      "GPU available: True (cuda), used: True\n",
      "TPU available: False, using: 0 TPU cores\n",
      "IPU available: False, using: 0 IPUs\n",
      "HPU available: False, using: 0 HPUs\n",
      "LOCAL_RANK: 0 - CUDA_VISIBLE_DEVICES: [0]\n"
     ]
    },
    {
     "name": "stdout",
     "output_type": "stream",
     "text": [
      "    finished (0:00:00) --> added \n",
      "    'fit_pars', fitted parameters for splicing dynamics (adata.var)\n",
      "computing velocities\n",
      "WARNING: Too few genes are selected as velocity genes. Consider setting a lower threshold for min_r2 or min_likelihood.\n",
      "    finished (0:00:00) --> added \n",
      "    'velocity', velocity vectors for each individual cell (adata.layers)\n",
      "scVelo: 0.8571022589897945\n",
      "scVelo: 0.6431257312344458\n",
      "Epoch 307/500:  61%|██████▏   | 307/500 [00:31<00:19,  9.79it/s, loss=-10.6, v_num=1]\n",
      "Monitored metric elbo_validation did not improve in the last 45 records. Best score: -9.373. Signaling Trainer to stop.\n",
      "veloVI: SignificanceResult(statistic=0.6448482818391015, pvalue=4.39068964141891e-177)\n",
      "veloVI: 0.576760842407208\n",
      "initiating Net object ...\n",
      "gem_shape: (1500, 6)\n",
      "TF info shape: (6, 8)\n",
      "initiation completed.\n"
     ]
    },
    {
     "data": {
      "application/vnd.jupyter.widget-view+json": {
       "model_id": "e29c785dfd4a4a72b3e41eba9b95cd9b",
       "version_major": 2,
       "version_minor": 0
      },
      "text/plain": [
       "  0%|          | 0/6 [00:00<?, ?it/s]"
      ]
     },
     "metadata": {},
     "output_type": "display_data"
    },
    {
     "data": {
      "application/vnd.jupyter.widget-view+json": {
       "model_id": "69f7eee86ea9453f8f8e2a0ba6e97be9",
       "version_major": 2,
       "version_minor": 0
      },
      "text/plain": [
       "  0%|          | 0/6 [00:00<?, ?it/s]"
      ]
     },
     "metadata": {},
     "output_type": "display_data"
    },
    {
     "name": "stdout",
     "output_type": "stream",
     "text": [
      "AUC: RegVelo: 0.665 Cor: 0.64 GRNBoost2: 0.63 CellOracle: 0.47\n",
      "Velocity: RegVelo: 0.6877804278682818 veloVI: 0.576760842407208 scVelo: 0.6431257312344458\n",
      "64\n"
     ]
    },
    {
     "name": "stderr",
     "output_type": "stream",
     "text": [
      "GPU available: True (cuda), used: True\n",
      "TPU available: False, using: 0 TPU cores\n",
      "IPU available: False, using: 0 IPUs\n",
      "HPU available: False, using: 0 HPUs\n",
      "LOCAL_RANK: 0 - CUDA_VISIBLE_DEVICES: [0]\n"
     ]
    },
    {
     "name": "stdout",
     "output_type": "stream",
     "text": [
      "Epoch 1110/1500:  74%|███████▍  | 1110/1500 [05:01<01:45,  3.69it/s, loss=-18, v_num=1]  \n",
      "Monitored metric elbo_validation did not improve in the last 45 records. Best score: -18.222. Signaling Trainer to stop.\n",
      "RegVelo: 0.8890328759159741\n",
      "RegVelo: 0.7442668923006023\n",
      "recovering dynamics (using 1/112 cores)\n",
      "    finished (0:00:00) --> added \n",
      "    'fit_pars', fitted parameters for splicing dynamics (adata.var)\n",
      "computing velocities\n",
      "WARNING: Too few genes are selected as velocity genes. Consider setting a lower threshold for min_r2 or min_likelihood.\n",
      "    finished (0:00:00) --> added \n",
      "    'velocity', velocity vectors for each individual cell (adata.layers)\n",
      "scVelo: 0.8281470003253217\n",
      "scVelo: 0.695580822648393\n"
     ]
    },
    {
     "name": "stderr",
     "output_type": "stream",
     "text": [
      "GPU available: True (cuda), used: True\n",
      "TPU available: False, using: 0 TPU cores\n",
      "IPU available: False, using: 0 IPUs\n",
      "HPU available: False, using: 0 HPUs\n",
      "LOCAL_RANK: 0 - CUDA_VISIBLE_DEVICES: [0]\n"
     ]
    },
    {
     "name": "stdout",
     "output_type": "stream",
     "text": [
      "Epoch 352/500:  70%|███████   | 352/500 [00:37<00:15,  9.39it/s, loss=-13.8, v_num=1]\n",
      "Monitored metric elbo_validation did not improve in the last 45 records. Best score: -13.743. Signaling Trainer to stop.\n",
      "veloVI: SignificanceResult(statistic=0.5495911572397876, pvalue=3.959220907878451e-119)\n",
      "veloVI: 0.6719723867218795\n",
      "initiating Net object ...\n",
      "gem_shape: (1500, 6)\n",
      "TF info shape: (6, 8)\n",
      "initiation completed.\n"
     ]
    },
    {
     "data": {
      "application/vnd.jupyter.widget-view+json": {
       "model_id": "4d6b708b76394b5d8222c9b0566aef0e",
       "version_major": 2,
       "version_minor": 0
      },
      "text/plain": [
       "  0%|          | 0/6 [00:00<?, ?it/s]"
      ]
     },
     "metadata": {},
     "output_type": "display_data"
    },
    {
     "data": {
      "application/vnd.jupyter.widget-view+json": {
       "model_id": "6b62647c524b47fe80438edddbadaf8a",
       "version_major": 2,
       "version_minor": 0
      },
      "text/plain": [
       "  0%|          | 0/6 [00:00<?, ?it/s]"
      ]
     },
     "metadata": {},
     "output_type": "display_data"
    },
    {
     "name": "stdout",
     "output_type": "stream",
     "text": [
      "AUC: RegVelo: 0.565 Cor: 0.56 GRNBoost2: 0.5650000000000001 CellOracle: 0.545\n",
      "Velocity: RegVelo: 0.7442668923006023 veloVI: 0.6719723867218795 scVelo: 0.695580822648393\n",
      "65\n"
     ]
    },
    {
     "name": "stderr",
     "output_type": "stream",
     "text": [
      "GPU available: True (cuda), used: True\n",
      "TPU available: False, using: 0 TPU cores\n",
      "IPU available: False, using: 0 IPUs\n",
      "HPU available: False, using: 0 HPUs\n",
      "LOCAL_RANK: 0 - CUDA_VISIBLE_DEVICES: [0]\n"
     ]
    },
    {
     "name": "stdout",
     "output_type": "stream",
     "text": [
      "Epoch 905/1500:  60%|██████    | 905/1500 [03:47<02:29,  3.98it/s, loss=-14.3, v_num=1]  \n",
      "Monitored metric elbo_validation did not improve in the last 45 records. Best score: -14.475. Signaling Trainer to stop.\n",
      "RegVelo: 0.9809881337725039\n",
      "RegVelo: 0.7537937505208011\n",
      "recovering dynamics (using 1/112 cores)\n"
     ]
    },
    {
     "name": "stderr",
     "output_type": "stream",
     "text": [
      "GPU available: True (cuda), used: True\n",
      "TPU available: False, using: 0 TPU cores\n",
      "IPU available: False, using: 0 IPUs\n",
      "HPU available: False, using: 0 HPUs\n"
     ]
    },
    {
     "name": "stdout",
     "output_type": "stream",
     "text": [
      "    finished (0:00:00) --> added \n",
      "    'fit_pars', fitted parameters for splicing dynamics (adata.var)\n",
      "computing velocities\n",
      "WARNING: Too few genes are selected as velocity genes. Consider setting a lower threshold for min_r2 or min_likelihood.\n",
      "    finished (0:00:00) --> added \n",
      "    'velocity', velocity vectors for each individual cell (adata.layers)\n",
      "scVelo: 0.736298615518724\n",
      "scVelo: 0.6597854316010149\n"
     ]
    },
    {
     "name": "stderr",
     "output_type": "stream",
     "text": [
      "LOCAL_RANK: 0 - CUDA_VISIBLE_DEVICES: [0]\n"
     ]
    },
    {
     "name": "stdout",
     "output_type": "stream",
     "text": [
      "Epoch 322/500:  64%|██████▍   | 322/500 [00:35<00:19,  9.11it/s, loss=-9.64, v_num=1]\n",
      "Monitored metric elbo_validation did not improve in the last 45 records. Best score: -9.051. Signaling Trainer to stop.\n",
      "veloVI: SignificanceResult(statistic=0.30303820606412557, pvalue=3.1348844611494196e-33)\n",
      "veloVI: 0.6582307347392423\n",
      "initiating Net object ...\n",
      "gem_shape: (1500, 6)\n",
      "TF info shape: (6, 8)\n",
      "initiation completed.\n"
     ]
    },
    {
     "data": {
      "application/vnd.jupyter.widget-view+json": {
       "model_id": "40f3cf62282f4df7b2b3cda5555336d3",
       "version_major": 2,
       "version_minor": 0
      },
      "text/plain": [
       "  0%|          | 0/6 [00:00<?, ?it/s]"
      ]
     },
     "metadata": {},
     "output_type": "display_data"
    },
    {
     "data": {
      "application/vnd.jupyter.widget-view+json": {
       "model_id": "6ebadcfe631a4133bfe50474516e764b",
       "version_major": 2,
       "version_minor": 0
      },
      "text/plain": [
       "  0%|          | 0/6 [00:00<?, ?it/s]"
      ]
     },
     "metadata": {},
     "output_type": "display_data"
    },
    {
     "name": "stdout",
     "output_type": "stream",
     "text": [
      "AUC: RegVelo: 0.7150000000000001 Cor: 0.75 GRNBoost2: 0.7050000000000001 CellOracle: 0.575\n",
      "Velocity: RegVelo: 0.7537937505208011 veloVI: 0.6582307347392423 scVelo: 0.6597854316010149\n",
      "66\n"
     ]
    },
    {
     "name": "stderr",
     "output_type": "stream",
     "text": [
      "GPU available: True (cuda), used: True\n",
      "TPU available: False, using: 0 TPU cores\n",
      "IPU available: False, using: 0 IPUs\n",
      "HPU available: False, using: 0 HPUs\n",
      "LOCAL_RANK: 0 - CUDA_VISIBLE_DEVICES: [0]\n"
     ]
    },
    {
     "name": "stdout",
     "output_type": "stream",
     "text": [
      "Epoch 885/1500:  59%|█████▉    | 885/1500 [03:47<02:37,  3.90it/s, loss=-13.8, v_num=1]  \n",
      "Monitored metric elbo_validation did not improve in the last 45 records. Best score: -13.568. Signaling Trainer to stop.\n",
      "RegVelo: 0.9989965222206767\n",
      "RegVelo: 0.6474964577376424\n",
      "recovering dynamics (using 1/112 cores)\n"
     ]
    },
    {
     "name": "stderr",
     "output_type": "stream",
     "text": [
      "GPU available: True (cuda), used: True\n",
      "TPU available: False, using: 0 TPU cores\n",
      "IPU available: False, using: 0 IPUs\n",
      "HPU available: False, using: 0 HPUs\n",
      "LOCAL_RANK: 0 - CUDA_VISIBLE_DEVICES: [0]\n"
     ]
    },
    {
     "name": "stdout",
     "output_type": "stream",
     "text": [
      "    finished (0:00:00) --> added \n",
      "    'fit_pars', fitted parameters for splicing dynamics (adata.var)\n",
      "computing velocities\n",
      "WARNING: Too few genes are selected as velocity genes. Consider setting a lower threshold for min_r2 or min_likelihood.\n",
      "    finished (0:00:00) --> added \n",
      "    'velocity', velocity vectors for each individual cell (adata.layers)\n",
      "scVelo: 0.8181749205565533\n",
      "scVelo: 0.5692002404581533\n",
      "Epoch 269/500:  54%|█████▍    | 269/500 [00:30<00:25,  8.89it/s, loss=-7.99, v_num=1]\n",
      "Monitored metric elbo_validation did not improve in the last 45 records. Best score: -6.499. Signaling Trainer to stop.\n",
      "veloVI: SignificanceResult(statistic=0.3833455570424698, pvalue=1.064859531844862e-53)\n",
      "veloVI: 0.5646308777985233\n",
      "initiating Net object ...\n",
      "gem_shape: (1500, 6)\n",
      "TF info shape: (6, 8)\n",
      "initiation completed.\n"
     ]
    },
    {
     "data": {
      "application/vnd.jupyter.widget-view+json": {
       "model_id": "77cff1212f894e95a3de5fba4a836c7c",
       "version_major": 2,
       "version_minor": 0
      },
      "text/plain": [
       "  0%|          | 0/6 [00:00<?, ?it/s]"
      ]
     },
     "metadata": {},
     "output_type": "display_data"
    },
    {
     "data": {
      "application/vnd.jupyter.widget-view+json": {
       "model_id": "d1de8100e43f45be99faa12f0dbd7d2b",
       "version_major": 2,
       "version_minor": 0
      },
      "text/plain": [
       "  0%|          | 0/6 [00:00<?, ?it/s]"
      ]
     },
     "metadata": {},
     "output_type": "display_data"
    },
    {
     "name": "stdout",
     "output_type": "stream",
     "text": [
      "AUC: RegVelo: 0.495 Cor: 0.76 GRNBoost2: 0.635 CellOracle: 0.57\n",
      "Velocity: RegVelo: 0.6474964577376424 veloVI: 0.5646308777985233 scVelo: 0.5692002404581533\n",
      "67\n"
     ]
    },
    {
     "name": "stderr",
     "output_type": "stream",
     "text": [
      "GPU available: True (cuda), used: True\n",
      "TPU available: False, using: 0 TPU cores\n",
      "IPU available: False, using: 0 IPUs\n",
      "HPU available: False, using: 0 HPUs\n",
      "LOCAL_RANK: 0 - CUDA_VISIBLE_DEVICES: [0]\n"
     ]
    },
    {
     "name": "stdout",
     "output_type": "stream",
     "text": [
      "Epoch 542/1500:  36%|███▌      | 542/1500 [01:41<02:59,  5.34it/s, loss=-13.5, v_num=1]  \n",
      "Monitored metric elbo_validation did not improve in the last 45 records. Best score: -12.226. Signaling Trainer to stop.\n",
      "RegVelo: 0.8581126871611943\n",
      "RegVelo: 0.6636498152112827\n",
      "recovering dynamics (using 1/112 cores)\n"
     ]
    },
    {
     "name": "stderr",
     "output_type": "stream",
     "text": [
      "GPU available: True (cuda), used: True\n",
      "TPU available: False, using: 0 TPU cores\n",
      "IPU available: False, using: 0 IPUs\n",
      "HPU available: False, using: 0 HPUs\n",
      "LOCAL_RANK: 0 - CUDA_VISIBLE_DEVICES: [0]\n"
     ]
    },
    {
     "name": "stdout",
     "output_type": "stream",
     "text": [
      "    finished (0:00:00) --> added \n",
      "    'fit_pars', fitted parameters for splicing dynamics (adata.var)\n",
      "computing velocities\n",
      "WARNING: Too few genes are selected as velocity genes. Consider setting a lower threshold for min_r2 or min_likelihood.\n",
      "    finished (0:00:00) --> added \n",
      "    'velocity', velocity vectors for each individual cell (adata.layers)\n",
      "scVelo: 0.9085306956932832\n",
      "scVelo: 0.6527580724171057\n",
      "Epoch 207/500:  41%|████▏     | 207/500 [00:22<00:31,  9.28it/s, loss=-14.6, v_num=1]\n",
      "Monitored metric elbo_validation did not improve in the last 45 records. Best score: -11.724. Signaling Trainer to stop.\n",
      "veloVI: SignificanceResult(statistic=0.4988701923847436, pvalue=3.351462706998307e-95)\n",
      "veloVI: 0.6180261069139421\n",
      "initiating Net object ...\n",
      "gem_shape: (1500, 6)\n",
      "TF info shape: (6, 8)\n",
      "initiation completed.\n"
     ]
    },
    {
     "data": {
      "application/vnd.jupyter.widget-view+json": {
       "model_id": "7ae677355e564d2387b3ee5b3d95ccba",
       "version_major": 2,
       "version_minor": 0
      },
      "text/plain": [
       "  0%|          | 0/6 [00:00<?, ?it/s]"
      ]
     },
     "metadata": {},
     "output_type": "display_data"
    },
    {
     "data": {
      "application/vnd.jupyter.widget-view+json": {
       "model_id": "087f9fb495a04191b5e58e0ce831d326",
       "version_major": 2,
       "version_minor": 0
      },
      "text/plain": [
       "  0%|          | 0/6 [00:00<?, ?it/s]"
      ]
     },
     "metadata": {},
     "output_type": "display_data"
    },
    {
     "name": "stdout",
     "output_type": "stream",
     "text": [
      "AUC: RegVelo: 0.74 Cor: 0.51 GRNBoost2: 0.43 CellOracle: 0.495\n",
      "Velocity: RegVelo: 0.6636498152112827 veloVI: 0.6180261069139421 scVelo: 0.6527580724171057\n",
      "68\n"
     ]
    },
    {
     "name": "stderr",
     "output_type": "stream",
     "text": [
      "GPU available: True (cuda), used: True\n",
      "TPU available: False, using: 0 TPU cores\n",
      "IPU available: False, using: 0 IPUs\n",
      "HPU available: False, using: 0 HPUs\n",
      "LOCAL_RANK: 0 - CUDA_VISIBLE_DEVICES: [0]\n"
     ]
    },
    {
     "name": "stdout",
     "output_type": "stream",
     "text": [
      "Epoch 520/1500:  35%|███▍      | 520/1500 [01:39<03:07,  5.24it/s, loss=-12.1, v_num=1]   \n",
      "Monitored metric elbo_validation did not improve in the last 45 records. Best score: -10.355. Signaling Trainer to stop.\n",
      "RegVelo: 0.88930044502242\n",
      "RegVelo: 0.6378015038627548\n",
      "recovering dynamics (using 1/112 cores)\n"
     ]
    },
    {
     "name": "stderr",
     "output_type": "stream",
     "text": [
      "GPU available: True (cuda), used: True\n",
      "TPU available: False, using: 0 TPU cores\n",
      "IPU available: False, using: 0 IPUs\n",
      "HPU available: False, using: 0 HPUs\n",
      "LOCAL_RANK: 0 - CUDA_VISIBLE_DEVICES: [0]\n"
     ]
    },
    {
     "name": "stdout",
     "output_type": "stream",
     "text": [
      "    finished (0:00:00) --> added \n",
      "    'fit_pars', fitted parameters for splicing dynamics (adata.var)\n",
      "computing velocities\n",
      "WARNING: Too few genes are selected as velocity genes. Consider setting a lower threshold for min_r2 or min_likelihood.\n",
      "    finished (0:00:00) --> added \n",
      "    'velocity', velocity vectors for each individual cell (adata.layers)\n",
      "scVelo: 0.8796771875318311\n",
      "scVelo: 0.618980699932704\n",
      "Epoch 267/500:  53%|█████▎    | 267/500 [00:28<00:25,  9.28it/s, loss=-11.1, v_num=1]\n",
      "Monitored metric elbo_validation did not improve in the last 45 records. Best score: -10.052. Signaling Trainer to stop.\n",
      "veloVI: SignificanceResult(statistic=0.06696488665106073, pvalue=0.009478672976310689)\n",
      "veloVI: 0.617936517744389\n",
      "initiating Net object ...\n",
      "gem_shape: (1500, 6)\n",
      "TF info shape: (6, 8)\n",
      "initiation completed.\n"
     ]
    },
    {
     "data": {
      "application/vnd.jupyter.widget-view+json": {
       "model_id": "0e217674e8ff4b3ba2dce43b600e1fad",
       "version_major": 2,
       "version_minor": 0
      },
      "text/plain": [
       "  0%|          | 0/6 [00:00<?, ?it/s]"
      ]
     },
     "metadata": {},
     "output_type": "display_data"
    },
    {
     "data": {
      "application/vnd.jupyter.widget-view+json": {
       "model_id": "baf3f655d5b84279a95c71f01e40208b",
       "version_major": 2,
       "version_minor": 0
      },
      "text/plain": [
       "  0%|          | 0/6 [00:00<?, ?it/s]"
      ]
     },
     "metadata": {},
     "output_type": "display_data"
    },
    {
     "name": "stdout",
     "output_type": "stream",
     "text": [
      "AUC: RegVelo: 0.62 Cor: 0.6799999999999999 GRNBoost2: 0.665 CellOracle: 0.505\n",
      "Velocity: RegVelo: 0.6378015038627548 veloVI: 0.617936517744389 scVelo: 0.618980699932704\n",
      "69\n"
     ]
    },
    {
     "name": "stderr",
     "output_type": "stream",
     "text": [
      "GPU available: True (cuda), used: True\n",
      "TPU available: False, using: 0 TPU cores\n",
      "IPU available: False, using: 0 IPUs\n",
      "HPU available: False, using: 0 HPUs\n",
      "LOCAL_RANK: 0 - CUDA_VISIBLE_DEVICES: [0]\n"
     ]
    },
    {
     "name": "stdout",
     "output_type": "stream",
     "text": [
      "Epoch 809/1500:  54%|█████▍    | 809/1500 [03:19<02:50,  4.05it/s, loss=-16.2, v_num=1]  \n",
      "Monitored metric elbo_validation did not improve in the last 45 records. Best score: -15.388. Signaling Trainer to stop.\n",
      "RegVelo: 0.9674939055528471\n",
      "RegVelo: 0.7789724360261107\n",
      "recovering dynamics (using 1/112 cores)\n"
     ]
    },
    {
     "name": "stderr",
     "output_type": "stream",
     "text": [
      "GPU available: True (cuda), used: True\n",
      "TPU available: False, using: 0 TPU cores\n",
      "IPU available: False, using: 0 IPUs\n",
      "HPU available: False, using: 0 HPUs\n",
      "LOCAL_RANK: 0 - CUDA_VISIBLE_DEVICES: [0]\n"
     ]
    },
    {
     "name": "stdout",
     "output_type": "stream",
     "text": [
      "    finished (0:00:00) --> added \n",
      "    'fit_pars', fitted parameters for splicing dynamics (adata.var)\n",
      "computing velocities\n",
      "WARNING: Too few genes are selected as velocity genes. Consider setting a lower threshold for min_r2 or min_likelihood.\n",
      "    finished (0:00:00) --> added \n",
      "    'velocity', velocity vectors for each individual cell (adata.layers)\n",
      "scVelo: 0.8984934101023818\n",
      "scVelo: 0.7030211077478548\n",
      "Epoch 349/500:  70%|██████▉   | 349/500 [00:38<00:16,  9.12it/s, loss=-13.1, v_num=1]\n",
      "Monitored metric elbo_validation did not improve in the last 45 records. Best score: -13.929. Signaling Trainer to stop.\n",
      "veloVI: SignificanceResult(statistic=0.17108592137152062, pvalue=2.56084856368743e-11)\n",
      "veloVI: 0.6541308303847031\n",
      "initiating Net object ...\n",
      "gem_shape: (1500, 6)\n",
      "TF info shape: (6, 8)\n",
      "initiation completed.\n"
     ]
    },
    {
     "data": {
      "application/vnd.jupyter.widget-view+json": {
       "model_id": "06923eae6602471c8cf529e09c9607e3",
       "version_major": 2,
       "version_minor": 0
      },
      "text/plain": [
       "  0%|          | 0/6 [00:00<?, ?it/s]"
      ]
     },
     "metadata": {},
     "output_type": "display_data"
    },
    {
     "data": {
      "application/vnd.jupyter.widget-view+json": {
       "model_id": "be3487a1a6e24150b31c9df28ef98a1c",
       "version_major": 2,
       "version_minor": 0
      },
      "text/plain": [
       "  0%|          | 0/6 [00:00<?, ?it/s]"
      ]
     },
     "metadata": {},
     "output_type": "display_data"
    },
    {
     "name": "stdout",
     "output_type": "stream",
     "text": [
      "AUC: RegVelo: 0.45999999999999996 Cor: 0.5899999999999999 GRNBoost2: 0.675 CellOracle: 0.5650000000000001\n",
      "Velocity: RegVelo: 0.7789724360261107 veloVI: 0.6541308303847031 scVelo: 0.7030211077478548\n",
      "70\n"
     ]
    },
    {
     "name": "stderr",
     "output_type": "stream",
     "text": [
      "GPU available: True (cuda), used: True\n",
      "TPU available: False, using: 0 TPU cores\n",
      "IPU available: False, using: 0 IPUs\n",
      "HPU available: False, using: 0 HPUs\n",
      "LOCAL_RANK: 0 - CUDA_VISIBLE_DEVICES: [0]\n"
     ]
    },
    {
     "name": "stdout",
     "output_type": "stream",
     "text": [
      "Epoch 1098/1500:  73%|███████▎  | 1098/1500 [03:53<01:25,  4.71it/s, loss=-18.3, v_num=1]\n",
      "Monitored metric elbo_validation did not improve in the last 45 records. Best score: -18.328. Signaling Trainer to stop.\n",
      "RegVelo: 0.9394119987959213\n",
      "RegVelo: 0.7032462452097921\n",
      "recovering dynamics (using 1/112 cores)\n"
     ]
    },
    {
     "name": "stderr",
     "output_type": "stream",
     "text": [
      "GPU available: True (cuda), used: True\n",
      "TPU available: False, using: 0 TPU cores\n",
      "IPU available: False, using: 0 IPUs\n",
      "HPU available: False, using: 0 HPUs\n",
      "LOCAL_RANK: 0 - CUDA_VISIBLE_DEVICES: [0]\n"
     ]
    },
    {
     "name": "stdout",
     "output_type": "stream",
     "text": [
      "    finished (0:00:00) --> added \n",
      "    'fit_pars', fitted parameters for splicing dynamics (adata.var)\n",
      "computing velocities\n",
      "WARNING: Too few genes are selected as velocity genes. Consider setting a lower threshold for min_r2 or min_likelihood.\n",
      "    finished (0:00:00) --> added \n",
      "    'velocity', velocity vectors for each individual cell (adata.layers)\n",
      "scVelo: 0.8632094764762446\n",
      "scVelo: 0.6586488314506433\n",
      "Epoch 334/500:  67%|██████▋   | 334/500 [00:33<00:16, 10.02it/s, loss=-13.1, v_num=1]\n",
      "Monitored metric elbo_validation did not improve in the last 45 records. Best score: -11.862. Signaling Trainer to stop.\n",
      "veloVI: SignificanceResult(statistic=0.5293934619526498, pvalue=4.123868531696647e-109)\n",
      "veloVI: 0.585229928282735\n",
      "initiating Net object ...\n",
      "gem_shape: (1500, 6)\n",
      "TF info shape: (6, 8)\n",
      "initiation completed.\n"
     ]
    },
    {
     "data": {
      "application/vnd.jupyter.widget-view+json": {
       "model_id": "1b787decc97445e1831b19ab552c958c",
       "version_major": 2,
       "version_minor": 0
      },
      "text/plain": [
       "  0%|          | 0/6 [00:00<?, ?it/s]"
      ]
     },
     "metadata": {},
     "output_type": "display_data"
    },
    {
     "data": {
      "application/vnd.jupyter.widget-view+json": {
       "model_id": "8eb65a2f9f0a4f378cbc898ceb6ff8ec",
       "version_major": 2,
       "version_minor": 0
      },
      "text/plain": [
       "  0%|          | 0/6 [00:00<?, ?it/s]"
      ]
     },
     "metadata": {},
     "output_type": "display_data"
    },
    {
     "name": "stdout",
     "output_type": "stream",
     "text": [
      "AUC: RegVelo: 0.655 Cor: 0.52 GRNBoost2: 0.44499999999999995 CellOracle: 0.41500000000000004\n",
      "Velocity: RegVelo: 0.7032462452097921 veloVI: 0.585229928282735 scVelo: 0.6586488314506433\n",
      "71\n"
     ]
    },
    {
     "name": "stderr",
     "output_type": "stream",
     "text": [
      "GPU available: True (cuda), used: True\n",
      "TPU available: False, using: 0 TPU cores\n",
      "IPU available: False, using: 0 IPUs\n",
      "HPU available: False, using: 0 HPUs\n",
      "LOCAL_RANK: 0 - CUDA_VISIBLE_DEVICES: [0]\n"
     ]
    },
    {
     "name": "stdout",
     "output_type": "stream",
     "text": [
      "Epoch 959/1500:  64%|██████▍   | 959/1500 [04:04<02:18,  3.92it/s, loss=-18.1, v_num=1]  \n",
      "Monitored metric elbo_validation did not improve in the last 45 records. Best score: -17.429. Signaling Trainer to stop.\n",
      "RegVelo: 0.8036366416162852\n",
      "RegVelo: 0.6738229187512966\n",
      "recovering dynamics (using 1/112 cores)\n"
     ]
    },
    {
     "name": "stderr",
     "output_type": "stream",
     "text": [
      "GPU available: True (cuda), used: True\n",
      "TPU available: False, using: 0 TPU cores\n",
      "IPU available: False, using: 0 IPUs\n",
      "HPU available: False, using: 0 HPUs\n",
      "LOCAL_RANK: 0 - CUDA_VISIBLE_DEVICES: [0]\n"
     ]
    },
    {
     "name": "stdout",
     "output_type": "stream",
     "text": [
      "    finished (0:00:00) --> added \n",
      "    'fit_pars', fitted parameters for splicing dynamics (adata.var)\n",
      "computing velocities\n",
      "WARNING: Too few genes are selected as velocity genes. Consider setting a lower threshold for min_r2 or min_likelihood.\n",
      "    finished (0:00:00) --> added \n",
      "    'velocity', velocity vectors for each individual cell (adata.layers)\n",
      "scVelo: 0.7409195925828747\n",
      "scVelo: 0.655057060029403\n",
      "Epoch 231/500:  46%|████▌     | 231/500 [00:24<00:28,  9.49it/s, loss=-12.8, v_num=1]\n",
      "Monitored metric elbo_validation did not improve in the last 45 records. Best score: -11.296. Signaling Trainer to stop.\n",
      "veloVI: SignificanceResult(statistic=0.5031843343069792, pvalue=4.4052365279227075e-97)\n",
      "veloVI: 0.6495475362572377\n",
      "initiating Net object ...\n",
      "gem_shape: (1500, 6)\n",
      "TF info shape: (6, 8)\n",
      "initiation completed.\n"
     ]
    },
    {
     "data": {
      "application/vnd.jupyter.widget-view+json": {
       "model_id": "ac1f7a1405774e4db15bcd3d401f75dc",
       "version_major": 2,
       "version_minor": 0
      },
      "text/plain": [
       "  0%|          | 0/6 [00:00<?, ?it/s]"
      ]
     },
     "metadata": {},
     "output_type": "display_data"
    },
    {
     "data": {
      "application/vnd.jupyter.widget-view+json": {
       "model_id": "cf352b95b57e47669c3d8338a8001806",
       "version_major": 2,
       "version_minor": 0
      },
      "text/plain": [
       "  0%|          | 0/6 [00:00<?, ?it/s]"
      ]
     },
     "metadata": {},
     "output_type": "display_data"
    },
    {
     "name": "stdout",
     "output_type": "stream",
     "text": [
      "AUC: RegVelo: 0.79 Cor: 0.6299999999999999 GRNBoost2: 0.48500000000000004 CellOracle: 0.455\n",
      "Velocity: RegVelo: 0.6738229187512966 veloVI: 0.6495475362572377 scVelo: 0.655057060029403\n",
      "72\n"
     ]
    },
    {
     "name": "stderr",
     "output_type": "stream",
     "text": [
      "GPU available: True (cuda), used: True\n",
      "TPU available: False, using: 0 TPU cores\n",
      "IPU available: False, using: 0 IPUs\n",
      "HPU available: False, using: 0 HPUs\n",
      "LOCAL_RANK: 0 - CUDA_VISIBLE_DEVICES: [0]\n"
     ]
    },
    {
     "name": "stdout",
     "output_type": "stream",
     "text": [
      "Epoch 880/1500:  59%|█████▊    | 880/1500 [03:09<02:13,  4.64it/s, loss=-15, v_num=1]    \n",
      "Monitored metric elbo_validation did not improve in the last 45 records. Best score: -14.470. Signaling Trainer to stop.\n",
      "RegVelo: 0.9897838745706109\n",
      "RegVelo: 0.887868960660453\n",
      "recovering dynamics (using 1/112 cores)\n"
     ]
    },
    {
     "name": "stderr",
     "output_type": "stream",
     "text": [
      "GPU available: True (cuda), used: True\n",
      "TPU available: False, using: 0 TPU cores\n",
      "IPU available: False, using: 0 IPUs\n",
      "HPU available: False, using: 0 HPUs\n",
      "LOCAL_RANK: 0 - CUDA_VISIBLE_DEVICES: [0]\n"
     ]
    },
    {
     "name": "stdout",
     "output_type": "stream",
     "text": [
      "    finished (0:00:00) --> added \n",
      "    'fit_pars', fitted parameters for splicing dynamics (adata.var)\n",
      "computing velocities\n",
      "WARNING: Too few genes are selected as velocity genes. Consider setting a lower threshold for min_r2 or min_likelihood.\n",
      "    finished (0:00:00) --> added \n",
      "    'velocity', velocity vectors for each individual cell (adata.layers)\n",
      "scVelo: 0.748680452184808\n",
      "scVelo: 0.6230189464853074\n",
      "Epoch 338/500:  68%|██████▊   | 338/500 [00:34<00:16,  9.85it/s, loss=-8.36, v_num=1]\n",
      "Monitored metric elbo_validation did not improve in the last 45 records. Best score: -8.166. Signaling Trainer to stop.\n",
      "veloVI: SignificanceResult(statistic=0.5505063886695061, pvalue=1.3406072137589387e-119)\n",
      "veloVI: 0.6153127197953498\n",
      "initiating Net object ...\n",
      "gem_shape: (1500, 6)\n",
      "TF info shape: (6, 8)\n",
      "initiation completed.\n"
     ]
    },
    {
     "data": {
      "application/vnd.jupyter.widget-view+json": {
       "model_id": "c788833223144321a0e3fee26d085b5d",
       "version_major": 2,
       "version_minor": 0
      },
      "text/plain": [
       "  0%|          | 0/6 [00:00<?, ?it/s]"
      ]
     },
     "metadata": {},
     "output_type": "display_data"
    },
    {
     "data": {
      "application/vnd.jupyter.widget-view+json": {
       "model_id": "cbc2aa0a801c48a8a5b31f09bdb5355c",
       "version_major": 2,
       "version_minor": 0
      },
      "text/plain": [
       "  0%|          | 0/6 [00:00<?, ?it/s]"
      ]
     },
     "metadata": {},
     "output_type": "display_data"
    },
    {
     "name": "stdout",
     "output_type": "stream",
     "text": [
      "AUC: RegVelo: 0.845 Cor: 0.75 GRNBoost2: 0.615 CellOracle: 0.505\n",
      "Velocity: RegVelo: 0.887868960660453 veloVI: 0.6153127197953498 scVelo: 0.6230189464853074\n",
      "73\n"
     ]
    },
    {
     "name": "stderr",
     "output_type": "stream",
     "text": [
      "GPU available: True (cuda), used: True\n",
      "TPU available: False, using: 0 TPU cores\n",
      "IPU available: False, using: 0 IPUs\n",
      "HPU available: False, using: 0 HPUs\n",
      "LOCAL_RANK: 0 - CUDA_VISIBLE_DEVICES: [0]\n"
     ]
    },
    {
     "name": "stdout",
     "output_type": "stream",
     "text": [
      "Epoch 942/1500:  63%|██████▎   | 942/1500 [04:03<02:24,  3.87it/s, loss=-15.7, v_num=1]  \n",
      "Monitored metric elbo_validation did not improve in the last 45 records. Best score: -15.719. Signaling Trainer to stop.\n",
      "RegVelo: 0.8287851434600638\n",
      "RegVelo: 0.7347111196458306\n",
      "recovering dynamics (using 1/112 cores)\n",
      "    finished (0:00:00) --> added \n",
      "    'fit_pars', fitted parameters for splicing dynamics (adata.var)\n",
      "computing velocities\n",
      "WARNING: Too few genes are selected as velocity genes. Consider setting a lower threshold for min_r2 or min_likelihood.\n",
      "    finished (0:00:00) --> added \n",
      "    'velocity', velocity vectors for each individual cell (adata.layers)\n",
      "scVelo: 0.8192520539693833\n",
      "scVelo: 0.6274034698738077\n"
     ]
    },
    {
     "name": "stderr",
     "output_type": "stream",
     "text": [
      "GPU available: True (cuda), used: True\n",
      "TPU available: False, using: 0 TPU cores\n",
      "IPU available: False, using: 0 IPUs\n",
      "HPU available: False, using: 0 HPUs\n",
      "LOCAL_RANK: 0 - CUDA_VISIBLE_DEVICES: [0]\n"
     ]
    },
    {
     "name": "stdout",
     "output_type": "stream",
     "text": [
      "Epoch 276/500:  55%|█████▌    | 276/500 [00:29<00:24,  9.31it/s, loss=-12.5, v_num=1]\n",
      "Monitored metric elbo_validation did not improve in the last 45 records. Best score: -11.181. Signaling Trainer to stop.\n",
      "veloVI: SignificanceResult(statistic=0.7412601978934213, pvalue=1.2172028000749707e-261)\n",
      "veloVI: 0.5686700089976271\n",
      "initiating Net object ...\n",
      "gem_shape: (1500, 6)\n",
      "TF info shape: (6, 8)\n",
      "initiation completed.\n"
     ]
    },
    {
     "data": {
      "application/vnd.jupyter.widget-view+json": {
       "model_id": "51c48de2ee20419fb47efa585ae3a7ec",
       "version_major": 2,
       "version_minor": 0
      },
      "text/plain": [
       "  0%|          | 0/6 [00:00<?, ?it/s]"
      ]
     },
     "metadata": {},
     "output_type": "display_data"
    },
    {
     "data": {
      "application/vnd.jupyter.widget-view+json": {
       "model_id": "8433bbdd29404ce1839a8d8ce027d00f",
       "version_major": 2,
       "version_minor": 0
      },
      "text/plain": [
       "  0%|          | 0/6 [00:00<?, ?it/s]"
      ]
     },
     "metadata": {},
     "output_type": "display_data"
    },
    {
     "name": "stdout",
     "output_type": "stream",
     "text": [
      "AUC: RegVelo: 0.845 Cor: 0.6100000000000001 GRNBoost2: 0.6399999999999999 CellOracle: 0.485\n",
      "Velocity: RegVelo: 0.7347111196458306 veloVI: 0.5686700089976271 scVelo: 0.6274034698738077\n",
      "74\n"
     ]
    },
    {
     "name": "stderr",
     "output_type": "stream",
     "text": [
      "GPU available: True (cuda), used: True\n",
      "TPU available: False, using: 0 TPU cores\n",
      "IPU available: False, using: 0 IPUs\n",
      "HPU available: False, using: 0 HPUs\n",
      "LOCAL_RANK: 0 - CUDA_VISIBLE_DEVICES: [0]\n"
     ]
    },
    {
     "name": "stdout",
     "output_type": "stream",
     "text": [
      "Epoch 475/1500:  32%|███▏      | 475/1500 [01:23<02:59,  5.71it/s, loss=-13.7, v_num=1]  \n",
      "Monitored metric elbo_validation did not improve in the last 45 records. Best score: -11.516. Signaling Trainer to stop.\n",
      "RegVelo: 0.8769342706374538\n",
      "RegVelo: 0.6811235109858781\n",
      "recovering dynamics (using 1/112 cores)\n"
     ]
    },
    {
     "name": "stderr",
     "output_type": "stream",
     "text": [
      "GPU available: True (cuda), used: True\n",
      "TPU available: False, using: 0 TPU cores\n",
      "IPU available: False, using: 0 IPUs\n",
      "HPU available: False, using: 0 HPUs\n",
      "LOCAL_RANK: 0 - CUDA_VISIBLE_DEVICES: [0]\n"
     ]
    },
    {
     "name": "stdout",
     "output_type": "stream",
     "text": [
      "    finished (0:00:00) --> added \n",
      "    'fit_pars', fitted parameters for splicing dynamics (adata.var)\n",
      "computing velocities\n",
      "WARNING: Too few genes are selected as velocity genes. Consider setting a lower threshold for min_r2 or min_likelihood.\n",
      "    finished (0:00:00) --> added \n",
      "    'velocity', velocity vectors for each individual cell (adata.layers)\n",
      "scVelo: 0.8379576816476829\n",
      "scVelo: 0.6479526231902307\n",
      "Epoch 281/500:  56%|█████▌    | 281/500 [00:28<00:22,  9.86it/s, loss=-15.7, v_num=1]\n",
      "Monitored metric elbo_validation did not improve in the last 45 records. Best score: -14.508. Signaling Trainer to stop.\n",
      "veloVI: SignificanceResult(statistic=0.3726504219536546, pvalue=1.2827200029652488e-50)\n",
      "veloVI: 0.6202747885883978\n",
      "initiating Net object ...\n",
      "gem_shape: (1500, 6)\n",
      "TF info shape: (6, 8)\n",
      "initiation completed.\n"
     ]
    },
    {
     "data": {
      "application/vnd.jupyter.widget-view+json": {
       "model_id": "7d6bd2eb681241489f5e15229446c837",
       "version_major": 2,
       "version_minor": 0
      },
      "text/plain": [
       "  0%|          | 0/6 [00:00<?, ?it/s]"
      ]
     },
     "metadata": {},
     "output_type": "display_data"
    },
    {
     "data": {
      "application/vnd.jupyter.widget-view+json": {
       "model_id": "d32b1a8d54ce489e80bace3082fa9051",
       "version_major": 2,
       "version_minor": 0
      },
      "text/plain": [
       "  0%|          | 0/6 [00:00<?, ?it/s]"
      ]
     },
     "metadata": {},
     "output_type": "display_data"
    },
    {
     "name": "stdout",
     "output_type": "stream",
     "text": [
      "AUC: RegVelo: 0.7 Cor: 0.45 GRNBoost2: 0.5950000000000001 CellOracle: 0.435\n",
      "Velocity: RegVelo: 0.6811235109858781 veloVI: 0.6202747885883978 scVelo: 0.6479526231902307\n",
      "75\n"
     ]
    },
    {
     "name": "stderr",
     "output_type": "stream",
     "text": [
      "GPU available: True (cuda), used: True\n",
      "TPU available: False, using: 0 TPU cores\n",
      "IPU available: False, using: 0 IPUs\n",
      "HPU available: False, using: 0 HPUs\n",
      "LOCAL_RANK: 0 - CUDA_VISIBLE_DEVICES: [0]\n"
     ]
    },
    {
     "name": "stdout",
     "output_type": "stream",
     "text": [
      "Epoch 720/1500:  48%|████▊     | 720/1500 [02:10<02:21,  5.51it/s, loss=-13.8, v_num=1]   \n",
      "Monitored metric elbo_validation did not improve in the last 45 records. Best score: -13.211. Signaling Trainer to stop.\n",
      "RegVelo: 0.9139732239880995\n",
      "RegVelo: 0.6162609082596395\n",
      "recovering dynamics (using 1/112 cores)\n"
     ]
    },
    {
     "name": "stderr",
     "output_type": "stream",
     "text": [
      "GPU available: True (cuda), used: True\n",
      "TPU available: False, using: 0 TPU cores\n",
      "IPU available: False, using: 0 IPUs\n",
      "HPU available: False, using: 0 HPUs\n",
      "LOCAL_RANK: 0 - CUDA_VISIBLE_DEVICES: [0]\n"
     ]
    },
    {
     "name": "stdout",
     "output_type": "stream",
     "text": [
      "    finished (0:00:00) --> added \n",
      "    'fit_pars', fitted parameters for splicing dynamics (adata.var)\n",
      "computing velocities\n",
      "WARNING: Too few genes are selected as velocity genes. Consider setting a lower threshold for min_r2 or min_likelihood.\n",
      "    finished (0:00:00) --> added \n",
      "    'velocity', velocity vectors for each individual cell (adata.layers)\n",
      "scVelo: 0.9299814220749246\n",
      "scVelo: 0.6075424772611998\n",
      "Epoch 311/500:  62%|██████▏   | 311/500 [00:31<00:19,  9.94it/s, loss=-12.4, v_num=1]\n",
      "Monitored metric elbo_validation did not improve in the last 45 records. Best score: -11.603. Signaling Trainer to stop.\n",
      "veloVI: SignificanceResult(statistic=0.4113651997178666, pvalue=2.4716841685946444e-62)\n",
      "veloVI: 0.5634504646704673\n",
      "initiating Net object ...\n",
      "gem_shape: (1500, 6)\n",
      "TF info shape: (6, 8)\n",
      "initiation completed.\n"
     ]
    },
    {
     "data": {
      "application/vnd.jupyter.widget-view+json": {
       "model_id": "b2ed99fffef849a2bfd32d427eba5990",
       "version_major": 2,
       "version_minor": 0
      },
      "text/plain": [
       "  0%|          | 0/6 [00:00<?, ?it/s]"
      ]
     },
     "metadata": {},
     "output_type": "display_data"
    },
    {
     "data": {
      "application/vnd.jupyter.widget-view+json": {
       "model_id": "ba144a4a4f3f4fcba78e4dd0ebb3d1d3",
       "version_major": 2,
       "version_minor": 0
      },
      "text/plain": [
       "  0%|          | 0/6 [00:00<?, ?it/s]"
      ]
     },
     "metadata": {},
     "output_type": "display_data"
    },
    {
     "name": "stdout",
     "output_type": "stream",
     "text": [
      "AUC: RegVelo: 0.7150000000000001 Cor: 0.55 GRNBoost2: 0.59 CellOracle: 0.525\n",
      "Velocity: RegVelo: 0.6162609082596395 veloVI: 0.5634504646704673 scVelo: 0.6075424772611998\n",
      "76\n"
     ]
    },
    {
     "name": "stderr",
     "output_type": "stream",
     "text": [
      "GPU available: True (cuda), used: True\n",
      "TPU available: False, using: 0 TPU cores\n",
      "IPU available: False, using: 0 IPUs\n",
      "HPU available: False, using: 0 HPUs\n",
      "LOCAL_RANK: 0 - CUDA_VISIBLE_DEVICES: [0]\n"
     ]
    },
    {
     "name": "stdout",
     "output_type": "stream",
     "text": [
      "Epoch 466/1500:  31%|███       | 466/1500 [01:31<03:23,  5.09it/s, loss=-9.82, v_num=1]   \n",
      "Monitored metric elbo_validation did not improve in the last 45 records. Best score: -8.868. Signaling Trainer to stop.\n",
      "RegVelo: 0.5463428264157832\n",
      "RegVelo: 0.4885150191646577\n",
      "recovering dynamics (using 1/112 cores)\n"
     ]
    },
    {
     "name": "stderr",
     "output_type": "stream",
     "text": [
      "GPU available: True (cuda), used: True\n",
      "TPU available: False, using: 0 TPU cores\n",
      "IPU available: False, using: 0 IPUs\n",
      "HPU available: False, using: 0 HPUs\n",
      "LOCAL_RANK: 0 - CUDA_VISIBLE_DEVICES: [0]\n"
     ]
    },
    {
     "name": "stdout",
     "output_type": "stream",
     "text": [
      "    finished (0:00:00) --> added \n",
      "    'fit_pars', fitted parameters for splicing dynamics (adata.var)\n",
      "computing velocities\n",
      "WARNING: Too few genes are selected as velocity genes. Consider setting a lower threshold for min_r2 or min_likelihood.\n",
      "    finished (0:00:00) --> added \n",
      "    'velocity', velocity vectors for each individual cell (adata.layers)\n",
      "scVelo: 0.5893560238179665\n",
      "scVelo: 0.4543962437603703\n",
      "Epoch 340/500:  68%|██████▊   | 340/500 [00:36<00:16,  9.43it/s, loss=-5.1, v_num=1] \n",
      "Monitored metric elbo_validation did not improve in the last 45 records. Best score: -5.531. Signaling Trainer to stop.\n",
      "veloVI: SignificanceResult(statistic=0.761741579440702, pvalue=1.1270715879505314e-284)\n",
      "veloVI: 0.4603250431333304\n",
      "initiating Net object ...\n",
      "gem_shape: (1500, 6)\n",
      "TF info shape: (6, 8)\n",
      "initiation completed.\n"
     ]
    },
    {
     "data": {
      "application/vnd.jupyter.widget-view+json": {
       "model_id": "b20a88b3380f4b6091b158b5a019b881",
       "version_major": 2,
       "version_minor": 0
      },
      "text/plain": [
       "  0%|          | 0/6 [00:00<?, ?it/s]"
      ]
     },
     "metadata": {},
     "output_type": "display_data"
    },
    {
     "data": {
      "application/vnd.jupyter.widget-view+json": {
       "model_id": "8474da8c0f4947b58e4515a0f87fd409",
       "version_major": 2,
       "version_minor": 0
      },
      "text/plain": [
       "  0%|          | 0/6 [00:00<?, ?it/s]"
      ]
     },
     "metadata": {},
     "output_type": "display_data"
    },
    {
     "name": "stdout",
     "output_type": "stream",
     "text": [
      "AUC: RegVelo: 0.8400000000000001 Cor: 0.7099999999999999 GRNBoost2: 0.65 CellOracle: 0.535\n",
      "Velocity: RegVelo: 0.4885150191646577 veloVI: 0.4603250431333304 scVelo: 0.4543962437603703\n",
      "77\n"
     ]
    },
    {
     "name": "stderr",
     "output_type": "stream",
     "text": [
      "GPU available: True (cuda), used: True\n",
      "TPU available: False, using: 0 TPU cores\n",
      "IPU available: False, using: 0 IPUs\n",
      "HPU available: False, using: 0 HPUs\n",
      "LOCAL_RANK: 0 - CUDA_VISIBLE_DEVICES: [0]\n"
     ]
    },
    {
     "name": "stdout",
     "output_type": "stream",
     "text": [
      "Epoch 929/1500:  62%|██████▏   | 929/1500 [03:52<02:23,  3.99it/s, loss=-16.6, v_num=1]  \n",
      "Monitored metric elbo_validation did not improve in the last 45 records. Best score: -16.380. Signaling Trainer to stop.\n",
      "RegVelo: 0.959340189003942\n",
      "RegVelo: 0.6517591354705596\n",
      "recovering dynamics (using 1/112 cores)\n"
     ]
    },
    {
     "name": "stderr",
     "output_type": "stream",
     "text": [
      "GPU available: True (cuda), used: True\n",
      "TPU available: False, using: 0 TPU cores\n",
      "IPU available: False, using: 0 IPUs\n",
      "HPU available: False, using: 0 HPUs\n",
      "LOCAL_RANK: 0 - CUDA_VISIBLE_DEVICES: [0]\n"
     ]
    },
    {
     "name": "stdout",
     "output_type": "stream",
     "text": [
      "    finished (0:00:00) --> added \n",
      "    'fit_pars', fitted parameters for splicing dynamics (adata.var)\n",
      "computing velocities\n",
      "WARNING: Too few genes are selected as velocity genes. Consider setting a lower threshold for min_r2 or min_likelihood.\n",
      "    finished (0:00:00) --> added \n",
      "    'velocity', velocity vectors for each individual cell (adata.layers)\n",
      "scVelo: 0.7623509613527341\n",
      "scVelo: 0.5562859094488573\n",
      "Epoch 271/500:  54%|█████▍    | 271/500 [00:27<00:23,  9.70it/s, loss=-13, v_num=1]  \n",
      "Monitored metric elbo_validation did not improve in the last 45 records. Best score: -10.238. Signaling Trainer to stop.\n",
      "veloVI: SignificanceResult(statistic=-0.019017494691346528, pvalue=0.46173256206777036)\n",
      "veloVI: 0.523310240375654\n",
      "initiating Net object ...\n",
      "gem_shape: (1500, 6)\n",
      "TF info shape: (6, 8)\n",
      "initiation completed.\n"
     ]
    },
    {
     "data": {
      "application/vnd.jupyter.widget-view+json": {
       "model_id": "ea7846535b8646b0861b8196669c305b",
       "version_major": 2,
       "version_minor": 0
      },
      "text/plain": [
       "  0%|          | 0/6 [00:00<?, ?it/s]"
      ]
     },
     "metadata": {},
     "output_type": "display_data"
    },
    {
     "data": {
      "application/vnd.jupyter.widget-view+json": {
       "model_id": "1506353b4fe646189590a1be125cf529",
       "version_major": 2,
       "version_minor": 0
      },
      "text/plain": [
       "  0%|          | 0/6 [00:00<?, ?it/s]"
      ]
     },
     "metadata": {},
     "output_type": "display_data"
    },
    {
     "name": "stdout",
     "output_type": "stream",
     "text": [
      "AUC: RegVelo: 0.78 Cor: 0.53 GRNBoost2: 0.55 CellOracle: 0.45499999999999996\n",
      "Velocity: RegVelo: 0.6517591354705596 veloVI: 0.523310240375654 scVelo: 0.5562859094488573\n",
      "78\n"
     ]
    },
    {
     "name": "stderr",
     "output_type": "stream",
     "text": [
      "GPU available: True (cuda), used: True\n",
      "TPU available: False, using: 0 TPU cores\n",
      "IPU available: False, using: 0 IPUs\n",
      "HPU available: False, using: 0 HPUs\n",
      "LOCAL_RANK: 0 - CUDA_VISIBLE_DEVICES: [0]\n"
     ]
    },
    {
     "name": "stdout",
     "output_type": "stream",
     "text": [
      "Epoch 711/1500:  47%|████▋     | 711/1500 [02:56<03:15,  4.04it/s, loss=-15.9, v_num=1]  \n",
      "Monitored metric elbo_validation did not improve in the last 45 records. Best score: -15.640. Signaling Trainer to stop.\n",
      "RegVelo: 0.8647387566525485\n",
      "RegVelo: 0.7772749729398211\n",
      "recovering dynamics (using 1/112 cores)\n"
     ]
    },
    {
     "name": "stderr",
     "output_type": "stream",
     "text": [
      "GPU available: True (cuda), used: True\n",
      "TPU available: False, using: 0 TPU cores\n",
      "IPU available: False, using: 0 IPUs\n",
      "HPU available: False, using: 0 HPUs\n",
      "LOCAL_RANK: 0 - CUDA_VISIBLE_DEVICES: [0]\n"
     ]
    },
    {
     "name": "stdout",
     "output_type": "stream",
     "text": [
      "    finished (0:00:00) --> added \n",
      "    'fit_pars', fitted parameters for splicing dynamics (adata.var)\n",
      "computing velocities\n",
      "WARNING: Too few genes are selected as velocity genes. Consider setting a lower threshold for min_r2 or min_likelihood.\n",
      "    finished (0:00:00) --> added \n",
      "    'velocity', velocity vectors for each individual cell (adata.layers)\n",
      "scVelo: 0.7700399717876344\n",
      "scVelo: 0.7006394129030399\n",
      "Epoch 313/500:  63%|██████▎   | 313/500 [00:33<00:20,  9.28it/s, loss=-16.6, v_num=1]\n",
      "Monitored metric elbo_validation did not improve in the last 45 records. Best score: -14.604. Signaling Trainer to stop.\n",
      "veloVI: SignificanceResult(statistic=0.4313417085352853, pvalue=5.169693849463853e-69)\n",
      "veloVI: 0.6481640817475648\n",
      "initiating Net object ...\n",
      "gem_shape: (1500, 6)\n",
      "TF info shape: (6, 8)\n",
      "initiation completed.\n"
     ]
    },
    {
     "data": {
      "application/vnd.jupyter.widget-view+json": {
       "model_id": "82725518a3d04a319cca50029f513066",
       "version_major": 2,
       "version_minor": 0
      },
      "text/plain": [
       "  0%|          | 0/6 [00:00<?, ?it/s]"
      ]
     },
     "metadata": {},
     "output_type": "display_data"
    },
    {
     "data": {
      "application/vnd.jupyter.widget-view+json": {
       "model_id": "b366fc8f41e542b0a4b0d10cf8c14cc8",
       "version_major": 2,
       "version_minor": 0
      },
      "text/plain": [
       "  0%|          | 0/6 [00:00<?, ?it/s]"
      ]
     },
     "metadata": {},
     "output_type": "display_data"
    },
    {
     "name": "stdout",
     "output_type": "stream",
     "text": [
      "AUC: RegVelo: 0.61 Cor: 0.6700000000000002 GRNBoost2: 0.63 CellOracle: 0.52\n",
      "Velocity: RegVelo: 0.7772749729398211 veloVI: 0.6481640817475648 scVelo: 0.7006394129030399\n",
      "79\n"
     ]
    },
    {
     "name": "stderr",
     "output_type": "stream",
     "text": [
      "GPU available: True (cuda), used: True\n",
      "TPU available: False, using: 0 TPU cores\n",
      "IPU available: False, using: 0 IPUs\n",
      "HPU available: False, using: 0 HPUs\n",
      "LOCAL_RANK: 0 - CUDA_VISIBLE_DEVICES: [0]\n"
     ]
    },
    {
     "name": "stdout",
     "output_type": "stream",
     "text": [
      "Epoch 1083/1500:  72%|███████▏  | 1083/1500 [04:05<01:34,  4.42it/s, loss=-14.8, v_num=1] \n",
      "Monitored metric elbo_validation did not improve in the last 45 records. Best score: -14.819. Signaling Trainer to stop.\n",
      "RegVelo: 0.9512802841245709\n",
      "RegVelo: 0.5712463907401513\n",
      "recovering dynamics (using 1/112 cores)\n",
      "    finished (0:00:00) --> added \n",
      "    'fit_pars', fitted parameters for splicing dynamics (adata.var)\n",
      "computing velocities\n",
      "WARNING: Too few genes are selected as velocity genes. Consider setting a lower threshold for min_r2 or min_likelihood.\n",
      "    finished (0:00:00) --> added \n",
      "    'velocity', velocity vectors for each individual cell (adata.layers)\n",
      "scVelo: 0.9042686142759615\n",
      "scVelo: 0.5387980642765874\n"
     ]
    },
    {
     "name": "stderr",
     "output_type": "stream",
     "text": [
      "GPU available: True (cuda), used: True\n",
      "TPU available: False, using: 0 TPU cores\n",
      "IPU available: False, using: 0 IPUs\n",
      "HPU available: False, using: 0 HPUs\n",
      "LOCAL_RANK: 0 - CUDA_VISIBLE_DEVICES: [0]\n"
     ]
    },
    {
     "name": "stdout",
     "output_type": "stream",
     "text": [
      "Epoch 338/500:  68%|██████▊   | 338/500 [00:34<00:16,  9.89it/s, loss=-7.48, v_num=1]\n",
      "Monitored metric elbo_validation did not improve in the last 45 records. Best score: -7.253. Signaling Trainer to stop.\n",
      "veloVI: SignificanceResult(statistic=0.851781367013941, pvalue=0.0)\n",
      "veloVI: 0.5531353507584584\n",
      "initiating Net object ...\n",
      "gem_shape: (1500, 6)\n",
      "TF info shape: (6, 8)\n",
      "initiation completed.\n"
     ]
    },
    {
     "data": {
      "application/vnd.jupyter.widget-view+json": {
       "model_id": "5f349c29b65b4f2cae9282900c4d3e9c",
       "version_major": 2,
       "version_minor": 0
      },
      "text/plain": [
       "  0%|          | 0/6 [00:00<?, ?it/s]"
      ]
     },
     "metadata": {},
     "output_type": "display_data"
    },
    {
     "data": {
      "application/vnd.jupyter.widget-view+json": {
       "model_id": "5aab4d574ae3462daf6f367d837735ce",
       "version_major": 2,
       "version_minor": 0
      },
      "text/plain": [
       "  0%|          | 0/6 [00:00<?, ?it/s]"
      ]
     },
     "metadata": {},
     "output_type": "display_data"
    },
    {
     "name": "stdout",
     "output_type": "stream",
     "text": [
      "AUC: RegVelo: 0.715 Cor: 0.56 GRNBoost2: 0.595 CellOracle: 0.51\n",
      "Velocity: RegVelo: 0.5712463907401513 veloVI: 0.5531353507584584 scVelo: 0.5387980642765874\n",
      "80\n"
     ]
    },
    {
     "name": "stderr",
     "output_type": "stream",
     "text": [
      "GPU available: True (cuda), used: True\n",
      "TPU available: False, using: 0 TPU cores\n",
      "IPU available: False, using: 0 IPUs\n",
      "HPU available: False, using: 0 HPUs\n",
      "LOCAL_RANK: 0 - CUDA_VISIBLE_DEVICES: [0]\n"
     ]
    },
    {
     "name": "stdout",
     "output_type": "stream",
     "text": [
      "Epoch 586/1500:  39%|███▉      | 586/1500 [02:10<03:23,  4.49it/s, loss=-13.5, v_num=1]  \n",
      "Monitored metric elbo_validation did not improve in the last 45 records. Best score: -12.183. Signaling Trainer to stop.\n",
      "RegVelo: 0.9625957629314503\n",
      "RegVelo: 0.6683126524059295\n",
      "recovering dynamics (using 1/112 cores)\n"
     ]
    },
    {
     "name": "stderr",
     "output_type": "stream",
     "text": [
      "GPU available: True (cuda), used: True\n",
      "TPU available: False, using: 0 TPU cores\n",
      "IPU available: False, using: 0 IPUs\n",
      "HPU available: False, using: 0 HPUs\n",
      "LOCAL_RANK: 0 - CUDA_VISIBLE_DEVICES: [0]\n"
     ]
    },
    {
     "name": "stdout",
     "output_type": "stream",
     "text": [
      "    finished (0:00:00) --> added \n",
      "    'fit_pars', fitted parameters for splicing dynamics (adata.var)\n",
      "computing velocities\n",
      "WARNING: Too few genes are selected as velocity genes. Consider setting a lower threshold for min_r2 or min_likelihood.\n",
      "    finished (0:00:00) --> added \n",
      "    'velocity', velocity vectors for each individual cell (adata.layers)\n",
      "scVelo: 0.9315756100498161\n",
      "scVelo: 0.6498533929067974\n",
      "Epoch 267/500:  53%|█████▎    | 267/500 [00:26<00:23,  9.93it/s, loss=-11.6, v_num=1]\n",
      "Monitored metric elbo_validation did not improve in the last 45 records. Best score: -10.865. Signaling Trainer to stop.\n",
      "veloVI: SignificanceResult(statistic=0.5587953950201756, pvalue=6.319131796775017e-124)\n",
      "veloVI: 0.5809566753130256\n",
      "initiating Net object ...\n",
      "gem_shape: (1500, 6)\n",
      "TF info shape: (6, 8)\n",
      "initiation completed.\n"
     ]
    },
    {
     "data": {
      "application/vnd.jupyter.widget-view+json": {
       "model_id": "7e4f99b9642b4701b660df76c749bd02",
       "version_major": 2,
       "version_minor": 0
      },
      "text/plain": [
       "  0%|          | 0/6 [00:00<?, ?it/s]"
      ]
     },
     "metadata": {},
     "output_type": "display_data"
    },
    {
     "data": {
      "application/vnd.jupyter.widget-view+json": {
       "model_id": "96e5cb56ba084c7db5fe9187fa45589c",
       "version_major": 2,
       "version_minor": 0
      },
      "text/plain": [
       "  0%|          | 0/6 [00:00<?, ?it/s]"
      ]
     },
     "metadata": {},
     "output_type": "display_data"
    },
    {
     "name": "stdout",
     "output_type": "stream",
     "text": [
      "AUC: RegVelo: 0.565 Cor: 0.6100000000000001 GRNBoost2: 0.66 CellOracle: 0.46499999999999997\n",
      "Velocity: RegVelo: 0.6683126524059295 veloVI: 0.5809566753130256 scVelo: 0.6498533929067974\n",
      "81\n"
     ]
    },
    {
     "name": "stderr",
     "output_type": "stream",
     "text": [
      "GPU available: True (cuda), used: True\n",
      "TPU available: False, using: 0 TPU cores\n",
      "IPU available: False, using: 0 IPUs\n",
      "HPU available: False, using: 0 HPUs\n",
      "LOCAL_RANK: 0 - CUDA_VISIBLE_DEVICES: [0]\n"
     ]
    },
    {
     "name": "stdout",
     "output_type": "stream",
     "text": [
      "Epoch 370/1500:  25%|██▍       | 370/1500 [00:52<02:39,  7.11it/s, loss=-7.72, v_num=1]  \n",
      "Monitored metric elbo_validation did not improve in the last 45 records. Best score: -5.644. Signaling Trainer to stop.\n",
      "RegVelo: 0.8614788529785826\n",
      "RegVelo: 0.6490997247506985\n",
      "recovering dynamics (using 1/112 cores)\n"
     ]
    },
    {
     "name": "stderr",
     "output_type": "stream",
     "text": [
      "GPU available: True (cuda), used: True\n",
      "TPU available: False, using: 0 TPU cores\n",
      "IPU available: False, using: 0 IPUs\n",
      "HPU available: False, using: 0 HPUs\n",
      "LOCAL_RANK: 0 - CUDA_VISIBLE_DEVICES: [0]\n"
     ]
    },
    {
     "name": "stdout",
     "output_type": "stream",
     "text": [
      "    finished (0:00:00) --> added \n",
      "    'fit_pars', fitted parameters for splicing dynamics (adata.var)\n",
      "computing velocities\n",
      "WARNING: Too few genes are selected as velocity genes. Consider setting a lower threshold for min_r2 or min_likelihood.\n",
      "    finished (0:00:00) --> added \n",
      "    'velocity', velocity vectors for each individual cell (adata.layers)\n",
      "scVelo: 0.8445475813853522\n",
      "scVelo: 0.6056817480893354\n",
      "Epoch 220/500:  44%|████▍     | 220/500 [00:23<00:29,  9.41it/s, loss=-7.1, v_num=1] \n",
      "Monitored metric elbo_validation did not improve in the last 45 records. Best score: -5.794. Signaling Trainer to stop.\n",
      "veloVI: SignificanceResult(statistic=0.9318987892883509, pvalue=0.0)\n",
      "veloVI: 0.597664033747512\n",
      "initiating Net object ...\n",
      "gem_shape: (1500, 6)\n",
      "TF info shape: (6, 8)\n",
      "initiation completed.\n"
     ]
    },
    {
     "data": {
      "application/vnd.jupyter.widget-view+json": {
       "model_id": "3950e042f7e64f69afd5df85d49ba0d1",
       "version_major": 2,
       "version_minor": 0
      },
      "text/plain": [
       "  0%|          | 0/6 [00:00<?, ?it/s]"
      ]
     },
     "metadata": {},
     "output_type": "display_data"
    },
    {
     "data": {
      "application/vnd.jupyter.widget-view+json": {
       "model_id": "9ea79a06943d452dba2caabd037a532f",
       "version_major": 2,
       "version_minor": 0
      },
      "text/plain": [
       "  0%|          | 0/6 [00:00<?, ?it/s]"
      ]
     },
     "metadata": {},
     "output_type": "display_data"
    },
    {
     "name": "stdout",
     "output_type": "stream",
     "text": [
      "AUC: RegVelo: 0.77 Cor: 0.63 GRNBoost2: 0.63 CellOracle: 0.54\n",
      "Velocity: RegVelo: 0.6490997247506985 veloVI: 0.597664033747512 scVelo: 0.6056817480893354\n",
      "82\n"
     ]
    },
    {
     "name": "stderr",
     "output_type": "stream",
     "text": [
      "GPU available: True (cuda), used: True\n",
      "TPU available: False, using: 0 TPU cores\n",
      "IPU available: False, using: 0 IPUs\n",
      "HPU available: False, using: 0 HPUs\n",
      "LOCAL_RANK: 0 - CUDA_VISIBLE_DEVICES: [0]\n"
     ]
    },
    {
     "name": "stdout",
     "output_type": "stream",
     "text": [
      "Epoch 671/1500:  45%|████▍     | 671/1500 [02:36<03:13,  4.28it/s, loss=-13.5, v_num=1]   \n",
      "Monitored metric elbo_validation did not improve in the last 45 records. Best score: -12.842. Signaling Trainer to stop.\n",
      "RegVelo: 0.9789564288508186\n",
      "RegVelo: 0.6930398695606348\n",
      "recovering dynamics (using 1/112 cores)\n"
     ]
    },
    {
     "name": "stderr",
     "output_type": "stream",
     "text": [
      "GPU available: True (cuda), used: True\n",
      "TPU available: False, using: 0 TPU cores\n",
      "IPU available: False, using: 0 IPUs\n",
      "HPU available: False, using: 0 HPUs\n",
      "LOCAL_RANK: 0 - CUDA_VISIBLE_DEVICES: [0]\n"
     ]
    },
    {
     "name": "stdout",
     "output_type": "stream",
     "text": [
      "    finished (0:00:00) --> added \n",
      "    'fit_pars', fitted parameters for splicing dynamics (adata.var)\n",
      "computing velocities\n",
      "WARNING: Too few genes are selected as velocity genes. Consider setting a lower threshold for min_r2 or min_likelihood.\n",
      "    finished (0:00:00) --> added \n",
      "    'velocity', velocity vectors for each individual cell (adata.layers)\n",
      "scVelo: 0.7007154987893449\n",
      "scVelo: 0.6468680044297258\n",
      "Epoch 254/500:  51%|█████     | 254/500 [00:25<00:24,  9.87it/s, loss=-11, v_num=1]  \n",
      "Monitored metric elbo_validation did not improve in the last 45 records. Best score: -9.581. Signaling Trainer to stop.\n",
      "veloVI: SignificanceResult(statistic=0.5509645399842401, pvalue=7.786170905230585e-120)\n",
      "veloVI: 0.6254046624046024\n",
      "initiating Net object ...\n",
      "gem_shape: (1500, 6)\n",
      "TF info shape: (6, 8)\n",
      "initiation completed.\n"
     ]
    },
    {
     "data": {
      "application/vnd.jupyter.widget-view+json": {
       "model_id": "4987c4b1646b4ae1b0027faf7a2dca2e",
       "version_major": 2,
       "version_minor": 0
      },
      "text/plain": [
       "  0%|          | 0/6 [00:00<?, ?it/s]"
      ]
     },
     "metadata": {},
     "output_type": "display_data"
    },
    {
     "data": {
      "application/vnd.jupyter.widget-view+json": {
       "model_id": "bdb6ea1e66694ec68cd80553a96f48db",
       "version_major": 2,
       "version_minor": 0
      },
      "text/plain": [
       "  0%|          | 0/6 [00:00<?, ?it/s]"
      ]
     },
     "metadata": {},
     "output_type": "display_data"
    },
    {
     "name": "stdout",
     "output_type": "stream",
     "text": [
      "AUC: RegVelo: 0.6799999999999999 Cor: 0.73 GRNBoost2: 0.8 CellOracle: 0.58\n",
      "Velocity: RegVelo: 0.6930398695606348 veloVI: 0.6254046624046024 scVelo: 0.6468680044297258\n",
      "83\n"
     ]
    },
    {
     "name": "stderr",
     "output_type": "stream",
     "text": [
      "GPU available: True (cuda), used: True\n",
      "TPU available: False, using: 0 TPU cores\n",
      "IPU available: False, using: 0 IPUs\n",
      "HPU available: False, using: 0 HPUs\n",
      "LOCAL_RANK: 0 - CUDA_VISIBLE_DEVICES: [0]\n"
     ]
    },
    {
     "name": "stdout",
     "output_type": "stream",
     "text": [
      "Epoch 828/1500:  55%|█████▌    | 828/1500 [03:09<02:33,  4.38it/s, loss=-13.9, v_num=1]   \n",
      "Monitored metric elbo_validation did not improve in the last 45 records. Best score: -12.964. Signaling Trainer to stop.\n",
      "RegVelo: 0.9060309733470994\n",
      "RegVelo: 0.6808636787424079\n",
      "recovering dynamics (using 1/112 cores)\n"
     ]
    },
    {
     "name": "stderr",
     "output_type": "stream",
     "text": [
      "GPU available: True (cuda), used: True\n",
      "TPU available: False, using: 0 TPU cores\n",
      "IPU available: False, using: 0 IPUs\n",
      "HPU available: False, using: 0 HPUs\n",
      "LOCAL_RANK: 0 - CUDA_VISIBLE_DEVICES: [0]\n"
     ]
    },
    {
     "name": "stdout",
     "output_type": "stream",
     "text": [
      "    finished (0:00:00) --> added \n",
      "    'fit_pars', fitted parameters for splicing dynamics (adata.var)\n",
      "computing velocities\n",
      "WARNING: Too few genes are selected as velocity genes. Consider setting a lower threshold for min_r2 or min_likelihood.\n",
      "    finished (0:00:00) --> added \n",
      "    'velocity', velocity vectors for each individual cell (adata.layers)\n",
      "scVelo: 0.9247668028005468\n",
      "scVelo: 0.6122398977354516\n",
      "Epoch 313/500:  63%|██████▎   | 313/500 [00:32<00:19,  9.69it/s, loss=-9.36, v_num=1]\n",
      "Monitored metric elbo_validation did not improve in the last 45 records. Best score: -7.937. Signaling Trainer to stop.\n",
      "veloVI: SignificanceResult(statistic=0.32820104778393416, pvalue=5.2778602844095935e-39)\n",
      "veloVI: 0.6448282054509182\n",
      "initiating Net object ...\n",
      "gem_shape: (1500, 6)\n",
      "TF info shape: (6, 8)\n",
      "initiation completed.\n"
     ]
    },
    {
     "data": {
      "application/vnd.jupyter.widget-view+json": {
       "model_id": "071dfb08714c49eda413d5e785160771",
       "version_major": 2,
       "version_minor": 0
      },
      "text/plain": [
       "  0%|          | 0/6 [00:00<?, ?it/s]"
      ]
     },
     "metadata": {},
     "output_type": "display_data"
    },
    {
     "data": {
      "application/vnd.jupyter.widget-view+json": {
       "model_id": "548fff6ad08c41af954baaf9638c0e36",
       "version_major": 2,
       "version_minor": 0
      },
      "text/plain": [
       "  0%|          | 0/6 [00:00<?, ?it/s]"
      ]
     },
     "metadata": {},
     "output_type": "display_data"
    },
    {
     "name": "stdout",
     "output_type": "stream",
     "text": [
      "AUC: RegVelo: 0.755 Cor: 0.5899999999999999 GRNBoost2: 0.44500000000000006 CellOracle: 0.545\n",
      "Velocity: RegVelo: 0.6808636787424079 veloVI: 0.6448282054509182 scVelo: 0.6122398977354516\n",
      "84\n"
     ]
    },
    {
     "name": "stderr",
     "output_type": "stream",
     "text": [
      "GPU available: True (cuda), used: True\n",
      "TPU available: False, using: 0 TPU cores\n",
      "IPU available: False, using: 0 IPUs\n",
      "HPU available: False, using: 0 HPUs\n",
      "LOCAL_RANK: 0 - CUDA_VISIBLE_DEVICES: [0]\n"
     ]
    },
    {
     "name": "stdout",
     "output_type": "stream",
     "text": [
      "Epoch 975/1500:  65%|██████▌   | 975/1500 [04:04<02:11,  3.99it/s, loss=-14.7, v_num=1]   \n",
      "Monitored metric elbo_validation did not improve in the last 45 records. Best score: -13.934. Signaling Trainer to stop.\n",
      "RegVelo: 0.9669716546540689\n",
      "RegVelo: 0.5332984688545164\n",
      "recovering dynamics (using 1/112 cores)\n",
      "    finished (0:00:00) --> added \n",
      "    'fit_pars', fitted parameters for splicing dynamics (adata.var)\n",
      "computing velocities\n",
      "WARNING: Too few genes are selected as velocity genes. Consider setting a lower threshold for min_r2 or min_likelihood.\n",
      "    finished (0:00:00) --> added \n",
      "    'velocity', velocity vectors for each individual cell (adata.layers)\n",
      "scVelo: 0.8499486990792792\n",
      "scVelo: 0.42241744359184213\n"
     ]
    },
    {
     "name": "stderr",
     "output_type": "stream",
     "text": [
      "GPU available: True (cuda), used: True\n",
      "TPU available: False, using: 0 TPU cores\n",
      "IPU available: False, using: 0 IPUs\n",
      "HPU available: False, using: 0 HPUs\n",
      "LOCAL_RANK: 0 - CUDA_VISIBLE_DEVICES: [0]\n"
     ]
    },
    {
     "name": "stdout",
     "output_type": "stream",
     "text": [
      "Epoch 306/500:  61%|██████    | 306/500 [00:31<00:20,  9.59it/s, loss=-8.4, v_num=1] \n",
      "Monitored metric elbo_validation did not improve in the last 45 records. Best score: -7.859. Signaling Trainer to stop.\n",
      "veloVI: SignificanceResult(statistic=0.5531090244928999, pvalue=6.05186021244162e-121)\n",
      "veloVI: 0.43482082056853805\n",
      "initiating Net object ...\n",
      "gem_shape: (1500, 6)\n",
      "TF info shape: (6, 8)\n",
      "initiation completed.\n"
     ]
    },
    {
     "data": {
      "application/vnd.jupyter.widget-view+json": {
       "model_id": "da36f27309e24dc589c1a9a9d65588e2",
       "version_major": 2,
       "version_minor": 0
      },
      "text/plain": [
       "  0%|          | 0/6 [00:00<?, ?it/s]"
      ]
     },
     "metadata": {},
     "output_type": "display_data"
    },
    {
     "data": {
      "application/vnd.jupyter.widget-view+json": {
       "model_id": "4b15ef8af60d440282231a464d3fc776",
       "version_major": 2,
       "version_minor": 0
      },
      "text/plain": [
       "  0%|          | 0/6 [00:00<?, ?it/s]"
      ]
     },
     "metadata": {},
     "output_type": "display_data"
    },
    {
     "name": "stdout",
     "output_type": "stream",
     "text": [
      "AUC: RegVelo: 0.74 Cor: 0.6299999999999999 GRNBoost2: 0.6000000000000001 CellOracle: 0.59\n",
      "Velocity: RegVelo: 0.5332984688545164 veloVI: 0.43482082056853805 scVelo: 0.42241744359184213\n",
      "85\n"
     ]
    },
    {
     "name": "stderr",
     "output_type": "stream",
     "text": [
      "GPU available: True (cuda), used: True\n",
      "TPU available: False, using: 0 TPU cores\n",
      "IPU available: False, using: 0 IPUs\n",
      "HPU available: False, using: 0 HPUs\n",
      "LOCAL_RANK: 0 - CUDA_VISIBLE_DEVICES: [0]\n"
     ]
    },
    {
     "name": "stdout",
     "output_type": "stream",
     "text": [
      "Epoch 790/1500:  53%|█████▎    | 790/1500 [02:57<02:39,  4.46it/s, loss=-13.9, v_num=1]  \n",
      "Monitored metric elbo_validation did not improve in the last 45 records. Best score: -13.581. Signaling Trainer to stop.\n",
      "RegVelo: 0.9855510326765043\n",
      "RegVelo: 0.711225325261586\n",
      "recovering dynamics (using 1/112 cores)\n"
     ]
    },
    {
     "name": "stderr",
     "output_type": "stream",
     "text": [
      "GPU available: True (cuda), used: True\n",
      "TPU available: False, using: 0 TPU cores\n",
      "IPU available: False, using: 0 IPUs\n",
      "HPU available: False, using: 0 HPUs\n",
      "LOCAL_RANK: 0 - CUDA_VISIBLE_DEVICES: [0]\n"
     ]
    },
    {
     "name": "stdout",
     "output_type": "stream",
     "text": [
      "    finished (0:00:00) --> added \n",
      "    'fit_pars', fitted parameters for splicing dynamics (adata.var)\n",
      "computing velocities\n",
      "WARNING: Too few genes are selected as velocity genes. Consider setting a lower threshold for min_r2 or min_likelihood.\n",
      "    finished (0:00:00) --> added \n",
      "    'velocity', velocity vectors for each individual cell (adata.layers)\n",
      "scVelo: 0.9218246275193025\n",
      "scVelo: 0.6506493421815559\n",
      "Epoch 195/500:  39%|███▉      | 195/500 [00:20<00:31,  9.71it/s, loss=-10.7, v_num=1]\n",
      "Monitored metric elbo_validation did not improve in the last 45 records. Best score: -7.694. Signaling Trainer to stop.\n",
      "veloVI: SignificanceResult(statistic=0.6502841527043205, pvalue=4.953038316819864e-181)\n",
      "veloVI: 0.6180480564357098\n",
      "initiating Net object ...\n",
      "gem_shape: (1500, 6)\n",
      "TF info shape: (6, 8)\n",
      "initiation completed.\n"
     ]
    },
    {
     "data": {
      "application/vnd.jupyter.widget-view+json": {
       "model_id": "56242b25b00d4802ab9042506a601efe",
       "version_major": 2,
       "version_minor": 0
      },
      "text/plain": [
       "  0%|          | 0/6 [00:00<?, ?it/s]"
      ]
     },
     "metadata": {},
     "output_type": "display_data"
    },
    {
     "data": {
      "application/vnd.jupyter.widget-view+json": {
       "model_id": "c134b8bdc85f40d0b43dc8c12a913d07",
       "version_major": 2,
       "version_minor": 0
      },
      "text/plain": [
       "  0%|          | 0/6 [00:00<?, ?it/s]"
      ]
     },
     "metadata": {},
     "output_type": "display_data"
    },
    {
     "name": "stdout",
     "output_type": "stream",
     "text": [
      "AUC: RegVelo: 0.7200000000000001 Cor: 0.7500000000000001 GRNBoost2: 0.7150000000000001 CellOracle: 0.5900000000000001\n",
      "Velocity: RegVelo: 0.711225325261586 veloVI: 0.6180480564357098 scVelo: 0.6506493421815559\n",
      "86\n"
     ]
    },
    {
     "name": "stderr",
     "output_type": "stream",
     "text": [
      "GPU available: True (cuda), used: True\n",
      "TPU available: False, using: 0 TPU cores\n",
      "IPU available: False, using: 0 IPUs\n",
      "HPU available: False, using: 0 HPUs\n",
      "LOCAL_RANK: 0 - CUDA_VISIBLE_DEVICES: [0]\n"
     ]
    },
    {
     "name": "stdout",
     "output_type": "stream",
     "text": [
      "Epoch 416/1500:  28%|██▊       | 416/1500 [01:00<02:37,  6.88it/s, loss=-8.42, v_num=1]   \n",
      "Monitored metric elbo_validation did not improve in the last 45 records. Best score: -7.340. Signaling Trainer to stop.\n",
      "RegVelo: 0.7322629992279996\n",
      "RegVelo: 0.5484357215720214\n",
      "recovering dynamics (using 1/112 cores)\n"
     ]
    },
    {
     "name": "stderr",
     "output_type": "stream",
     "text": [
      "GPU available: True (cuda), used: True\n",
      "TPU available: False, using: 0 TPU cores\n",
      "IPU available: False, using: 0 IPUs\n",
      "HPU available: False, using: 0 HPUs\n",
      "LOCAL_RANK: 0 - CUDA_VISIBLE_DEVICES: [0]\n"
     ]
    },
    {
     "name": "stdout",
     "output_type": "stream",
     "text": [
      "    finished (0:00:00) --> added \n",
      "    'fit_pars', fitted parameters for splicing dynamics (adata.var)\n",
      "computing velocities\n",
      "WARNING: Too few genes are selected as velocity genes. Consider setting a lower threshold for min_r2 or min_likelihood.\n",
      "    finished (0:00:00) --> added \n",
      "    'velocity', velocity vectors for each individual cell (adata.layers)\n",
      "scVelo: 0.9232389414525565\n",
      "scVelo: 0.530425664722967\n",
      "Epoch 419/500:  84%|████████▍ | 419/500 [00:43<00:08,  9.63it/s, loss=-6.69, v_num=1]\n",
      "Monitored metric elbo_validation did not improve in the last 45 records. Best score: -7.477. Signaling Trainer to stop.\n",
      "veloVI: SignificanceResult(statistic=0.8587670917709449, pvalue=0.0)\n",
      "veloVI: 0.5316119010959542\n",
      "initiating Net object ...\n",
      "gem_shape: (1500, 6)\n",
      "TF info shape: (6, 8)\n",
      "initiation completed.\n"
     ]
    },
    {
     "data": {
      "application/vnd.jupyter.widget-view+json": {
       "model_id": "7f947519b3154101951937deab775a05",
       "version_major": 2,
       "version_minor": 0
      },
      "text/plain": [
       "  0%|          | 0/6 [00:00<?, ?it/s]"
      ]
     },
     "metadata": {},
     "output_type": "display_data"
    },
    {
     "data": {
      "application/vnd.jupyter.widget-view+json": {
       "model_id": "03c5ab46385f477a9a0830e651520803",
       "version_major": 2,
       "version_minor": 0
      },
      "text/plain": [
       "  0%|          | 0/6 [00:00<?, ?it/s]"
      ]
     },
     "metadata": {},
     "output_type": "display_data"
    },
    {
     "name": "stdout",
     "output_type": "stream",
     "text": [
      "AUC: RegVelo: 0.76 Cor: 0.6199999999999999 GRNBoost2: 0.545 CellOracle: 0.5549999999999999\n",
      "Velocity: RegVelo: 0.5484357215720214 veloVI: 0.5316119010959542 scVelo: 0.530425664722967\n",
      "87\n"
     ]
    },
    {
     "name": "stderr",
     "output_type": "stream",
     "text": [
      "GPU available: True (cuda), used: True\n",
      "TPU available: False, using: 0 TPU cores\n",
      "IPU available: False, using: 0 IPUs\n",
      "HPU available: False, using: 0 HPUs\n",
      "LOCAL_RANK: 0 - CUDA_VISIBLE_DEVICES: [0]\n"
     ]
    },
    {
     "name": "stdout",
     "output_type": "stream",
     "text": [
      "Epoch 546/1500:  36%|███▋      | 546/1500 [01:45<03:05,  5.16it/s, loss=-12, v_num=1]    \n",
      "Monitored metric elbo_validation did not improve in the last 45 records. Best score: -10.668. Signaling Trainer to stop.\n",
      "RegVelo: 0.9932648965621764\n",
      "RegVelo: 0.7871144648471784\n",
      "recovering dynamics (using 1/112 cores)\n"
     ]
    },
    {
     "name": "stderr",
     "output_type": "stream",
     "text": [
      "GPU available: True (cuda), used: True\n",
      "TPU available: False, using: 0 TPU cores\n",
      "IPU available: False, using: 0 IPUs\n",
      "HPU available: False, using: 0 HPUs\n",
      "LOCAL_RANK: 0 - CUDA_VISIBLE_DEVICES: [0]\n"
     ]
    },
    {
     "name": "stdout",
     "output_type": "stream",
     "text": [
      "    finished (0:00:00) --> added \n",
      "    'fit_pars', fitted parameters for splicing dynamics (adata.var)\n",
      "computing velocities\n",
      "WARNING: Too few genes are selected as velocity genes. Consider setting a lower threshold for min_r2 or min_likelihood.\n",
      "    finished (0:00:00) --> added \n",
      "    'velocity', velocity vectors for each individual cell (adata.layers)\n",
      "scVelo: 0.8623308518475823\n",
      "scVelo: 0.6045578220954732\n",
      "Epoch 343/500:  69%|██████▊   | 343/500 [00:34<00:16,  9.81it/s, loss=-9.03, v_num=1]\n",
      "Monitored metric elbo_validation did not improve in the last 45 records. Best score: -8.546. Signaling Trainer to stop.\n",
      "veloVI: SignificanceResult(statistic=0.702215740275632, pvalue=2.8163251627605928e-223)\n",
      "veloVI: 0.599847422878331\n",
      "initiating Net object ...\n",
      "gem_shape: (1500, 6)\n",
      "TF info shape: (6, 8)\n",
      "initiation completed.\n"
     ]
    },
    {
     "data": {
      "application/vnd.jupyter.widget-view+json": {
       "model_id": "7878cf1e9f444410912f2e1d71865dca",
       "version_major": 2,
       "version_minor": 0
      },
      "text/plain": [
       "  0%|          | 0/6 [00:00<?, ?it/s]"
      ]
     },
     "metadata": {},
     "output_type": "display_data"
    },
    {
     "data": {
      "application/vnd.jupyter.widget-view+json": {
       "model_id": "0194f5f862e3410ab6481fdf8b9b06d5",
       "version_major": 2,
       "version_minor": 0
      },
      "text/plain": [
       "  0%|          | 0/6 [00:00<?, ?it/s]"
      ]
     },
     "metadata": {},
     "output_type": "display_data"
    },
    {
     "name": "stdout",
     "output_type": "stream",
     "text": [
      "AUC: RegVelo: 0.8400000000000001 Cor: 0.74 GRNBoost2: 0.69 CellOracle: 0.48\n",
      "Velocity: RegVelo: 0.7871144648471784 veloVI: 0.599847422878331 scVelo: 0.6045578220954732\n",
      "88\n"
     ]
    },
    {
     "name": "stderr",
     "output_type": "stream",
     "text": [
      "GPU available: True (cuda), used: True\n",
      "TPU available: False, using: 0 TPU cores\n",
      "IPU available: False, using: 0 IPUs\n",
      "HPU available: False, using: 0 HPUs\n",
      "LOCAL_RANK: 0 - CUDA_VISIBLE_DEVICES: [0]\n"
     ]
    },
    {
     "name": "stdout",
     "output_type": "stream",
     "text": [
      "Epoch 449/1500:  30%|██▉       | 449/1500 [01:09<02:43,  6.42it/s, loss=-13.1, v_num=1]  \n",
      "Monitored metric elbo_validation did not improve in the last 45 records. Best score: -11.005. Signaling Trainer to stop.\n",
      "RegVelo: 0.8026569707832377\n",
      "RegVelo: 0.7272621485433156\n",
      "recovering dynamics (using 1/112 cores)\n"
     ]
    },
    {
     "name": "stderr",
     "output_type": "stream",
     "text": [
      "GPU available: True (cuda), used: True\n",
      "TPU available: False, using: 0 TPU cores\n",
      "IPU available: False, using: 0 IPUs\n",
      "HPU available: False, using: 0 HPUs\n",
      "LOCAL_RANK: 0 - CUDA_VISIBLE_DEVICES: [0]\n"
     ]
    },
    {
     "name": "stdout",
     "output_type": "stream",
     "text": [
      "    finished (0:00:00) --> added \n",
      "    'fit_pars', fitted parameters for splicing dynamics (adata.var)\n",
      "computing velocities\n",
      "WARNING: Too few genes are selected as velocity genes. Consider setting a lower threshold for min_r2 or min_likelihood.\n",
      "    finished (0:00:00) --> added \n",
      "    'velocity', velocity vectors for each individual cell (adata.layers)\n",
      "scVelo: 0.7630734754806199\n",
      "scVelo: 0.6559094131813561\n",
      "Epoch 295/500:  59%|█████▉    | 295/500 [00:31<00:22,  9.25it/s, loss=-15.1, v_num=1]\n",
      "Monitored metric elbo_validation did not improve in the last 45 records. Best score: -13.222. Signaling Trainer to stop.\n",
      "veloVI: SignificanceResult(statistic=0.45679590790929236, pvalue=3.3592776556082285e-78)\n",
      "veloVI: 0.5959137874013022\n",
      "initiating Net object ...\n",
      "gem_shape: (1500, 6)\n",
      "TF info shape: (6, 8)\n",
      "initiation completed.\n"
     ]
    },
    {
     "data": {
      "application/vnd.jupyter.widget-view+json": {
       "model_id": "645336c194fb4531bbe0e622dbe17278",
       "version_major": 2,
       "version_minor": 0
      },
      "text/plain": [
       "  0%|          | 0/6 [00:00<?, ?it/s]"
      ]
     },
     "metadata": {},
     "output_type": "display_data"
    },
    {
     "data": {
      "application/vnd.jupyter.widget-view+json": {
       "model_id": "7652352703d34ec599e34d1be7280a04",
       "version_major": 2,
       "version_minor": 0
      },
      "text/plain": [
       "  0%|          | 0/6 [00:00<?, ?it/s]"
      ]
     },
     "metadata": {},
     "output_type": "display_data"
    },
    {
     "name": "stdout",
     "output_type": "stream",
     "text": [
      "AUC: RegVelo: 0.74 Cor: 0.55 GRNBoost2: 0.595 CellOracle: 0.56\n",
      "Velocity: RegVelo: 0.7272621485433156 veloVI: 0.5959137874013022 scVelo: 0.6559094131813561\n",
      "89\n"
     ]
    },
    {
     "name": "stderr",
     "output_type": "stream",
     "text": [
      "GPU available: True (cuda), used: True\n",
      "TPU available: False, using: 0 TPU cores\n",
      "IPU available: False, using: 0 IPUs\n",
      "HPU available: False, using: 0 HPUs\n",
      "LOCAL_RANK: 0 - CUDA_VISIBLE_DEVICES: [0]\n"
     ]
    },
    {
     "name": "stdout",
     "output_type": "stream",
     "text": [
      "Epoch 347/1500:  23%|██▎       | 347/1500 [00:47<02:38,  7.28it/s, loss=-9.4, v_num=1]   \n",
      "Monitored metric elbo_validation did not improve in the last 45 records. Best score: -7.181. Signaling Trainer to stop.\n",
      "RegVelo: 0.8875376460167317\n",
      "RegVelo: 0.7543808808844811\n",
      "recovering dynamics (using 1/112 cores)\n"
     ]
    },
    {
     "name": "stderr",
     "output_type": "stream",
     "text": [
      "GPU available: True (cuda), used: True\n",
      "TPU available: False, using: 0 TPU cores\n",
      "IPU available: False, using: 0 IPUs\n",
      "HPU available: False, using: 0 HPUs\n",
      "LOCAL_RANK: 0 - CUDA_VISIBLE_DEVICES: [0]\n"
     ]
    },
    {
     "name": "stdout",
     "output_type": "stream",
     "text": [
      "    finished (0:00:00) --> added \n",
      "    'fit_pars', fitted parameters for splicing dynamics (adata.var)\n",
      "computing velocities\n",
      "WARNING: Too few genes are selected as velocity genes. Consider setting a lower threshold for min_r2 or min_likelihood.\n",
      "    finished (0:00:00) --> added \n",
      "    'velocity', velocity vectors for each individual cell (adata.layers)\n",
      "scVelo: 0.8747253790598878\n",
      "scVelo: 0.6737008584335409\n",
      "Epoch 408/500:  82%|████████▏ | 408/500 [00:43<00:09,  9.32it/s, loss=-14, v_num=1]  \n",
      "Monitored metric elbo_validation did not improve in the last 45 records. Best score: -13.965. Signaling Trainer to stop.\n",
      "veloVI: SignificanceResult(statistic=0.20669717275429902, pvalue=6.158164698219241e-16)\n",
      "veloVI: 0.638525440335751\n",
      "initiating Net object ...\n",
      "gem_shape: (1500, 6)\n",
      "TF info shape: (6, 8)\n",
      "initiation completed.\n"
     ]
    },
    {
     "data": {
      "application/vnd.jupyter.widget-view+json": {
       "model_id": "d85e19627ac6493d90d9b8b23634d7e8",
       "version_major": 2,
       "version_minor": 0
      },
      "text/plain": [
       "  0%|          | 0/6 [00:00<?, ?it/s]"
      ]
     },
     "metadata": {},
     "output_type": "display_data"
    },
    {
     "data": {
      "application/vnd.jupyter.widget-view+json": {
       "model_id": "f736508ecc784b67a2c527c02019d555",
       "version_major": 2,
       "version_minor": 0
      },
      "text/plain": [
       "  0%|          | 0/6 [00:00<?, ?it/s]"
      ]
     },
     "metadata": {},
     "output_type": "display_data"
    },
    {
     "name": "stdout",
     "output_type": "stream",
     "text": [
      "AUC: RegVelo: 0.545 Cor: 0.6499999999999999 GRNBoost2: 0.52 CellOracle: 0.53\n",
      "Velocity: RegVelo: 0.7543808808844811 veloVI: 0.638525440335751 scVelo: 0.6737008584335409\n",
      "90\n"
     ]
    },
    {
     "name": "stderr",
     "output_type": "stream",
     "text": [
      "GPU available: True (cuda), used: True\n",
      "TPU available: False, using: 0 TPU cores\n",
      "IPU available: False, using: 0 IPUs\n",
      "HPU available: False, using: 0 HPUs\n",
      "LOCAL_RANK: 0 - CUDA_VISIBLE_DEVICES: [0]\n"
     ]
    },
    {
     "name": "stdout",
     "output_type": "stream",
     "text": [
      "Epoch 1145/1500:  76%|███████▋  | 1145/1500 [04:54<01:31,  3.89it/s, loss=-16.5, v_num=1]\n",
      "Monitored metric elbo_validation did not improve in the last 45 records. Best score: -16.386. Signaling Trainer to stop.\n",
      "RegVelo: 0.9273674707654249\n",
      "RegVelo: 0.6601409207425142\n",
      "recovering dynamics (using 1/112 cores)\n",
      "    finished (0:00:00) --> added \n",
      "    'fit_pars', fitted parameters for splicing dynamics (adata.var)\n",
      "computing velocities\n",
      "WARNING: Too few genes are selected as velocity genes. Consider setting a lower threshold for min_r2 or min_likelihood.\n",
      "    finished (0:00:00) --> added \n",
      "    'velocity', velocity vectors for each individual cell (adata.layers)\n",
      "scVelo: 0.8198330426248486\n",
      "scVelo: 0.6298930183813243\n"
     ]
    },
    {
     "name": "stderr",
     "output_type": "stream",
     "text": [
      "GPU available: True (cuda), used: True\n",
      "TPU available: False, using: 0 TPU cores\n",
      "IPU available: False, using: 0 IPUs\n",
      "HPU available: False, using: 0 HPUs\n",
      "LOCAL_RANK: 0 - CUDA_VISIBLE_DEVICES: [0]\n"
     ]
    },
    {
     "name": "stdout",
     "output_type": "stream",
     "text": [
      "Epoch 212/500:  42%|████▏     | 212/500 [00:21<00:29,  9.72it/s, loss=-11.4, v_num=1]\n",
      "Monitored metric elbo_validation did not improve in the last 45 records. Best score: -9.327. Signaling Trainer to stop.\n",
      "veloVI: SignificanceResult(statistic=0.07664394161952963, pvalue=0.0029750680870569562)\n",
      "veloVI: 0.5480508466822721\n",
      "initiating Net object ...\n",
      "gem_shape: (1500, 6)\n",
      "TF info shape: (6, 8)\n",
      "initiation completed.\n"
     ]
    },
    {
     "data": {
      "application/vnd.jupyter.widget-view+json": {
       "model_id": "b1b9b9a13d65435c9c52f860af39db29",
       "version_major": 2,
       "version_minor": 0
      },
      "text/plain": [
       "  0%|          | 0/6 [00:00<?, ?it/s]"
      ]
     },
     "metadata": {},
     "output_type": "display_data"
    },
    {
     "data": {
      "application/vnd.jupyter.widget-view+json": {
       "model_id": "d2379a57c5554f55a4481cd426b75aa2",
       "version_major": 2,
       "version_minor": 0
      },
      "text/plain": [
       "  0%|          | 0/6 [00:00<?, ?it/s]"
      ]
     },
     "metadata": {},
     "output_type": "display_data"
    },
    {
     "name": "stdout",
     "output_type": "stream",
     "text": [
      "AUC: RegVelo: 0.565 Cor: 0.5699999999999998 GRNBoost2: 0.62 CellOracle: 0.5900000000000001\n",
      "Velocity: RegVelo: 0.6601409207425142 veloVI: 0.5480508466822721 scVelo: 0.6298930183813243\n",
      "91\n"
     ]
    },
    {
     "name": "stderr",
     "output_type": "stream",
     "text": [
      "GPU available: True (cuda), used: True\n",
      "TPU available: False, using: 0 TPU cores\n",
      "IPU available: False, using: 0 IPUs\n",
      "HPU available: False, using: 0 HPUs\n",
      "LOCAL_RANK: 0 - CUDA_VISIBLE_DEVICES: [0]\n"
     ]
    },
    {
     "name": "stdout",
     "output_type": "stream",
     "text": [
      "Epoch 505/1500:  34%|███▎      | 505/1500 [01:55<03:47,  4.37it/s, loss=-9.23, v_num=1]  \n",
      "Monitored metric elbo_validation did not improve in the last 45 records. Best score: -8.264. Signaling Trainer to stop.\n",
      "RegVelo: 0.9933633534948239\n",
      "RegVelo: 0.6169272929200343\n",
      "recovering dynamics (using 1/112 cores)\n"
     ]
    },
    {
     "name": "stderr",
     "output_type": "stream",
     "text": [
      "GPU available: True (cuda), used: True\n",
      "TPU available: False, using: 0 TPU cores\n",
      "IPU available: False, using: 0 IPUs\n",
      "HPU available: False, using: 0 HPUs\n",
      "LOCAL_RANK: 0 - CUDA_VISIBLE_DEVICES: [0]\n"
     ]
    },
    {
     "name": "stdout",
     "output_type": "stream",
     "text": [
      "    finished (0:00:00) --> added \n",
      "    'fit_pars', fitted parameters for splicing dynamics (adata.var)\n",
      "computing velocities\n",
      "WARNING: Too few genes are selected as velocity genes. Consider setting a lower threshold for min_r2 or min_likelihood.\n",
      "    finished (0:00:00) --> added \n",
      "    'velocity', velocity vectors for each individual cell (adata.layers)\n",
      "scVelo: 0.9341714296431605\n",
      "scVelo: 0.5545750173683434\n",
      "Epoch 360/500:  72%|███████▏  | 360/500 [00:39<00:15,  9.09it/s, loss=-6.38, v_num=1]\n",
      "Monitored metric elbo_validation did not improve in the last 45 records. Best score: -7.037. Signaling Trainer to stop.\n",
      "veloVI: SignificanceResult(statistic=0.7943521848626175, pvalue=0.0)\n",
      "veloVI: 0.5453396668063123\n",
      "initiating Net object ...\n",
      "gem_shape: (1500, 6)\n",
      "TF info shape: (6, 8)\n",
      "initiation completed.\n"
     ]
    },
    {
     "data": {
      "application/vnd.jupyter.widget-view+json": {
       "model_id": "49936e4b8141421eb728cffa1ac7049f",
       "version_major": 2,
       "version_minor": 0
      },
      "text/plain": [
       "  0%|          | 0/6 [00:00<?, ?it/s]"
      ]
     },
     "metadata": {},
     "output_type": "display_data"
    },
    {
     "data": {
      "application/vnd.jupyter.widget-view+json": {
       "model_id": "69a482bc25274d9aa59542aa015231c5",
       "version_major": 2,
       "version_minor": 0
      },
      "text/plain": [
       "  0%|          | 0/6 [00:00<?, ?it/s]"
      ]
     },
     "metadata": {},
     "output_type": "display_data"
    },
    {
     "name": "stdout",
     "output_type": "stream",
     "text": [
      "AUC: RegVelo: 0.62 Cor: 0.64 GRNBoost2: 0.595 CellOracle: 0.53\n",
      "Velocity: RegVelo: 0.6169272929200343 veloVI: 0.5453396668063123 scVelo: 0.5545750173683434\n",
      "92\n"
     ]
    },
    {
     "name": "stderr",
     "output_type": "stream",
     "text": [
      "GPU available: True (cuda), used: True\n",
      "TPU available: False, using: 0 TPU cores\n",
      "IPU available: False, using: 0 IPUs\n",
      "HPU available: False, using: 0 HPUs\n",
      "LOCAL_RANK: 0 - CUDA_VISIBLE_DEVICES: [0]\n"
     ]
    },
    {
     "name": "stdout",
     "output_type": "stream",
     "text": [
      "Epoch 853/1500:  57%|█████▋    | 853/1500 [03:32<02:41,  4.02it/s, loss=-17.5, v_num=1]  \n",
      "Monitored metric elbo_validation did not improve in the last 45 records. Best score: -16.661. Signaling Trainer to stop.\n",
      "RegVelo: 0.943426957967537\n",
      "RegVelo: 0.8097761795287134\n",
      "recovering dynamics (using 1/112 cores)\n"
     ]
    },
    {
     "name": "stderr",
     "output_type": "stream",
     "text": [
      "GPU available: True (cuda), used: True\n",
      "TPU available: False, using: 0 TPU cores\n",
      "IPU available: False, using: 0 IPUs\n",
      "HPU available: False, using: 0 HPUs\n",
      "LOCAL_RANK: 0 - CUDA_VISIBLE_DEVICES: [0]\n"
     ]
    },
    {
     "name": "stdout",
     "output_type": "stream",
     "text": [
      "    finished (0:00:00) --> added \n",
      "    'fit_pars', fitted parameters for splicing dynamics (adata.var)\n",
      "computing velocities\n",
      "WARNING: Too few genes are selected as velocity genes. Consider setting a lower threshold for min_r2 or min_likelihood.\n",
      "    finished (0:00:00) --> added \n",
      "    'velocity', velocity vectors for each individual cell (adata.layers)\n",
      "scVelo: 0.8840583570120442\n",
      "scVelo: 0.7135724965487799\n",
      "Epoch 372/500:  74%|███████▍  | 372/500 [00:38<00:13,  9.74it/s, loss=-15.1, v_num=1]\n",
      "Monitored metric elbo_validation did not improve in the last 45 records. Best score: -14.972. Signaling Trainer to stop.\n",
      "veloVI: SignificanceResult(statistic=0.349047778243457, pvalue=3.2204859930610685e-44)\n",
      "veloVI: 0.6892247925423737\n",
      "initiating Net object ...\n",
      "gem_shape: (1500, 6)\n",
      "TF info shape: (6, 8)\n",
      "initiation completed.\n"
     ]
    },
    {
     "data": {
      "application/vnd.jupyter.widget-view+json": {
       "model_id": "2b4fa89c4e82409595b5f64e3a549fab",
       "version_major": 2,
       "version_minor": 0
      },
      "text/plain": [
       "  0%|          | 0/6 [00:00<?, ?it/s]"
      ]
     },
     "metadata": {},
     "output_type": "display_data"
    },
    {
     "data": {
      "application/vnd.jupyter.widget-view+json": {
       "model_id": "8bc7db48907049b288044f3a432243cd",
       "version_major": 2,
       "version_minor": 0
      },
      "text/plain": [
       "  0%|          | 0/6 [00:00<?, ?it/s]"
      ]
     },
     "metadata": {},
     "output_type": "display_data"
    },
    {
     "name": "stdout",
     "output_type": "stream",
     "text": [
      "AUC: RegVelo: 0.805 Cor: 0.55 GRNBoost2: 0.52 CellOracle: 0.5\n",
      "Velocity: RegVelo: 0.8097761795287134 veloVI: 0.6892247925423737 scVelo: 0.7135724965487799\n",
      "93\n"
     ]
    },
    {
     "name": "stderr",
     "output_type": "stream",
     "text": [
      "GPU available: True (cuda), used: True\n",
      "TPU available: False, using: 0 TPU cores\n",
      "IPU available: False, using: 0 IPUs\n",
      "HPU available: False, using: 0 HPUs\n",
      "LOCAL_RANK: 0 - CUDA_VISIBLE_DEVICES: [0]\n"
     ]
    },
    {
     "name": "stdout",
     "output_type": "stream",
     "text": [
      "Epoch 516/1500:  34%|███▍      | 516/1500 [01:38<03:07,  5.24it/s, loss=-15.5, v_num=1]  \n",
      "Monitored metric elbo_validation did not improve in the last 45 records. Best score: -13.601. Signaling Trainer to stop.\n",
      "RegVelo: 0.7269304493024219\n",
      "RegVelo: 0.7835477977961404\n",
      "recovering dynamics (using 1/112 cores)\n"
     ]
    },
    {
     "name": "stderr",
     "output_type": "stream",
     "text": [
      "GPU available: True (cuda), used: True\n",
      "TPU available: False, using: 0 TPU cores\n",
      "IPU available: False, using: 0 IPUs\n",
      "HPU available: False, using: 0 HPUs\n",
      "LOCAL_RANK: 0 - CUDA_VISIBLE_DEVICES: [0]\n"
     ]
    },
    {
     "name": "stdout",
     "output_type": "stream",
     "text": [
      "    finished (0:00:00) --> added \n",
      "    'fit_pars', fitted parameters for splicing dynamics (adata.var)\n",
      "computing velocities\n",
      "WARNING: Too few genes are selected as velocity genes. Consider setting a lower threshold for min_r2 or min_likelihood.\n",
      "    finished (0:00:00) --> added \n",
      "    'velocity', velocity vectors for each individual cell (adata.layers)\n",
      "scVelo: 0.7052466696021376\n",
      "scVelo: 0.7518603688788373\n",
      "Epoch 362/500:  72%|███████▏  | 362/500 [00:38<00:14,  9.51it/s, loss=-18.8, v_num=1]\n",
      "Monitored metric elbo_validation did not improve in the last 45 records. Best score: -18.213. Signaling Trainer to stop.\n",
      "veloVI: SignificanceResult(statistic=0.1578617768274564, pvalue=7.874008695774812e-10)\n",
      "veloVI: 0.7022223668298371\n",
      "initiating Net object ...\n",
      "gem_shape: (1500, 6)\n",
      "TF info shape: (6, 8)\n",
      "initiation completed.\n"
     ]
    },
    {
     "data": {
      "application/vnd.jupyter.widget-view+json": {
       "model_id": "ea18cc056dce4da296180402634210dd",
       "version_major": 2,
       "version_minor": 0
      },
      "text/plain": [
       "  0%|          | 0/6 [00:00<?, ?it/s]"
      ]
     },
     "metadata": {},
     "output_type": "display_data"
    },
    {
     "data": {
      "application/vnd.jupyter.widget-view+json": {
       "model_id": "969d1795b6a3456ab2192021af4253e4",
       "version_major": 2,
       "version_minor": 0
      },
      "text/plain": [
       "  0%|          | 0/6 [00:00<?, ?it/s]"
      ]
     },
     "metadata": {},
     "output_type": "display_data"
    },
    {
     "name": "stdout",
     "output_type": "stream",
     "text": [
      "AUC: RegVelo: 0.6150000000000001 Cor: 0.45999999999999996 GRNBoost2: 0.55 CellOracle: 0.48\n",
      "Velocity: RegVelo: 0.7835477977961404 veloVI: 0.7022223668298371 scVelo: 0.7518603688788373\n",
      "94\n"
     ]
    },
    {
     "name": "stderr",
     "output_type": "stream",
     "text": [
      "GPU available: True (cuda), used: True\n",
      "TPU available: False, using: 0 TPU cores\n",
      "IPU available: False, using: 0 IPUs\n",
      "HPU available: False, using: 0 HPUs\n",
      "LOCAL_RANK: 0 - CUDA_VISIBLE_DEVICES: [0]\n"
     ]
    },
    {
     "name": "stdout",
     "output_type": "stream",
     "text": [
      "Epoch 998/1500:  67%|██████▋   | 998/1500 [04:12<02:07,  3.95it/s, loss=-13.9, v_num=1]  \n",
      "Monitored metric elbo_validation did not improve in the last 45 records. Best score: -14.194. Signaling Trainer to stop.\n",
      "RegVelo: 0.8195173942917464\n",
      "RegVelo: 0.5668829803897474\n",
      "recovering dynamics (using 1/112 cores)\n"
     ]
    },
    {
     "name": "stderr",
     "output_type": "stream",
     "text": [
      "GPU available: True (cuda), used: True\n",
      "TPU available: False, using: 0 TPU cores\n",
      "IPU available: False, using: 0 IPUs\n",
      "HPU available: False, using: 0 HPUs\n",
      "LOCAL_RANK: 0 - CUDA_VISIBLE_DEVICES: [0]\n"
     ]
    },
    {
     "name": "stdout",
     "output_type": "stream",
     "text": [
      "    finished (0:00:00) --> added \n",
      "    'fit_pars', fitted parameters for splicing dynamics (adata.var)\n",
      "computing velocities\n",
      "WARNING: Too few genes are selected as velocity genes. Consider setting a lower threshold for min_r2 or min_likelihood.\n",
      "    finished (0:00:00) --> added \n",
      "    'velocity', velocity vectors for each individual cell (adata.layers)\n",
      "scVelo: 0.8061361194478985\n",
      "scVelo: 0.5304333257617763\n",
      "Epoch 286/500:  57%|█████▋    | 286/500 [00:29<00:22,  9.70it/s, loss=-7.36, v_num=1]\n",
      "Monitored metric elbo_validation did not improve in the last 45 records. Best score: -6.621. Signaling Trainer to stop.\n",
      "veloVI: SignificanceResult(statistic=0.5728393692619419, pvalue=1.5307535030769552e-131)\n",
      "veloVI: 0.5558444431275145\n",
      "initiating Net object ...\n",
      "gem_shape: (1500, 6)\n",
      "TF info shape: (6, 8)\n",
      "initiation completed.\n"
     ]
    },
    {
     "data": {
      "application/vnd.jupyter.widget-view+json": {
       "model_id": "1ab089fb2369406689d2550ad8c3c29d",
       "version_major": 2,
       "version_minor": 0
      },
      "text/plain": [
       "  0%|          | 0/6 [00:00<?, ?it/s]"
      ]
     },
     "metadata": {},
     "output_type": "display_data"
    },
    {
     "data": {
      "application/vnd.jupyter.widget-view+json": {
       "model_id": "2b7464bd38c1482b8d43f6347b8d9c48",
       "version_major": 2,
       "version_minor": 0
      },
      "text/plain": [
       "  0%|          | 0/6 [00:00<?, ?it/s]"
      ]
     },
     "metadata": {},
     "output_type": "display_data"
    },
    {
     "name": "stdout",
     "output_type": "stream",
     "text": [
      "AUC: RegVelo: 0.515 Cor: 0.58 GRNBoost2: 0.6900000000000001 CellOracle: 0.51\n",
      "Velocity: RegVelo: 0.5668829803897474 veloVI: 0.5558444431275145 scVelo: 0.5304333257617763\n",
      "95\n"
     ]
    },
    {
     "name": "stderr",
     "output_type": "stream",
     "text": [
      "GPU available: True (cuda), used: True\n",
      "TPU available: False, using: 0 TPU cores\n",
      "IPU available: False, using: 0 IPUs\n",
      "HPU available: False, using: 0 HPUs\n",
      "LOCAL_RANK: 0 - CUDA_VISIBLE_DEVICES: [0]\n"
     ]
    },
    {
     "name": "stdout",
     "output_type": "stream",
     "text": [
      "Epoch 771/1500:  51%|█████▏    | 771/1500 [02:58<02:48,  4.33it/s, loss=-16.1, v_num=1]  \n",
      "Monitored metric elbo_validation did not improve in the last 45 records. Best score: -15.396. Signaling Trainer to stop.\n",
      "RegVelo: 0.9520787947016865\n",
      "RegVelo: 0.741112804778064\n",
      "recovering dynamics (using 1/112 cores)\n"
     ]
    },
    {
     "name": "stderr",
     "output_type": "stream",
     "text": [
      "GPU available: True (cuda), used: True\n",
      "TPU available: False, using: 0 TPU cores\n",
      "IPU available: False, using: 0 IPUs\n",
      "HPU available: False, using: 0 HPUs\n",
      "LOCAL_RANK: 0 - CUDA_VISIBLE_DEVICES: [0]\n"
     ]
    },
    {
     "name": "stdout",
     "output_type": "stream",
     "text": [
      "    finished (0:00:00) --> added \n",
      "    'fit_pars', fitted parameters for splicing dynamics (adata.var)\n",
      "computing velocities\n",
      "WARNING: Too few genes are selected as velocity genes. Consider setting a lower threshold for min_r2 or min_likelihood.\n",
      "    finished (0:00:00) --> added \n",
      "    'velocity', velocity vectors for each individual cell (adata.layers)\n",
      "scVelo: 0.8017338448929109\n",
      "scVelo: 0.6433556215725799\n",
      "Epoch 216/500:  43%|████▎     | 216/500 [00:23<00:31,  9.04it/s, loss=-15.1, v_num=1]\n",
      "Monitored metric elbo_validation did not improve in the last 45 records. Best score: -13.075. Signaling Trainer to stop.\n",
      "veloVI: SignificanceResult(statistic=0.25878266457787996, pvalue=2.2365407703778083e-24)\n",
      "veloVI: 0.6107029155236031\n",
      "initiating Net object ...\n",
      "gem_shape: (1500, 6)\n",
      "TF info shape: (6, 8)\n",
      "initiation completed.\n"
     ]
    },
    {
     "data": {
      "application/vnd.jupyter.widget-view+json": {
       "model_id": "29ff4149234145c5a2e01c54c4955f2d",
       "version_major": 2,
       "version_minor": 0
      },
      "text/plain": [
       "  0%|          | 0/6 [00:00<?, ?it/s]"
      ]
     },
     "metadata": {},
     "output_type": "display_data"
    },
    {
     "data": {
      "application/vnd.jupyter.widget-view+json": {
       "model_id": "112cf8489e1846438d8642c9eaf3197a",
       "version_major": 2,
       "version_minor": 0
      },
      "text/plain": [
       "  0%|          | 0/6 [00:00<?, ?it/s]"
      ]
     },
     "metadata": {},
     "output_type": "display_data"
    },
    {
     "name": "stdout",
     "output_type": "stream",
     "text": [
      "AUC: RegVelo: 0.5599999999999999 Cor: 0.5 GRNBoost2: 0.605 CellOracle: 0.46499999999999997\n",
      "Velocity: RegVelo: 0.741112804778064 veloVI: 0.6107029155236031 scVelo: 0.6433556215725799\n",
      "96\n"
     ]
    },
    {
     "name": "stderr",
     "output_type": "stream",
     "text": [
      "GPU available: True (cuda), used: True\n",
      "TPU available: False, using: 0 TPU cores\n",
      "IPU available: False, using: 0 IPUs\n",
      "HPU available: False, using: 0 HPUs\n",
      "LOCAL_RANK: 0 - CUDA_VISIBLE_DEVICES: [0]\n"
     ]
    },
    {
     "name": "stdout",
     "output_type": "stream",
     "text": [
      "Epoch 471/1500:  31%|███▏      | 471/1500 [01:33<03:24,  5.02it/s, loss=-12.2, v_num=1]  \n",
      "Monitored metric elbo_validation did not improve in the last 45 records. Best score: -9.213. Signaling Trainer to stop.\n",
      "RegVelo: 0.940659500737556\n",
      "RegVelo: 0.7396926806093608\n",
      "recovering dynamics (using 1/112 cores)\n"
     ]
    },
    {
     "name": "stderr",
     "output_type": "stream",
     "text": [
      "GPU available: True (cuda), used: True\n",
      "TPU available: False, using: 0 TPU cores\n",
      "IPU available: False, using: 0 IPUs\n",
      "HPU available: False, using: 0 HPUs\n",
      "LOCAL_RANK: 0 - CUDA_VISIBLE_DEVICES: [0]\n"
     ]
    },
    {
     "name": "stdout",
     "output_type": "stream",
     "text": [
      "    finished (0:00:00) --> added \n",
      "    'fit_pars', fitted parameters for splicing dynamics (adata.var)\n",
      "computing velocities\n",
      "WARNING: Too few genes are selected as velocity genes. Consider setting a lower threshold for min_r2 or min_likelihood.\n",
      "    finished (0:00:00) --> added \n",
      "    'velocity', velocity vectors for each individual cell (adata.layers)\n",
      "scVelo: 0.8578732515132308\n",
      "scVelo: 0.6077238434907412\n",
      "Epoch 241/500:  48%|████▊     | 241/500 [00:24<00:26,  9.68it/s, loss=-11.7, v_num=1]\n",
      "Monitored metric elbo_validation did not improve in the last 45 records. Best score: -10.924. Signaling Trainer to stop.\n",
      "veloVI: SignificanceResult(statistic=0.7327096063000115, pvalue=1.1616402055745239e-252)\n",
      "veloVI: 0.640044103693791\n",
      "initiating Net object ...\n",
      "gem_shape: (1500, 6)\n",
      "TF info shape: (6, 8)\n",
      "initiation completed.\n"
     ]
    },
    {
     "data": {
      "application/vnd.jupyter.widget-view+json": {
       "model_id": "5488adafe1e4437eb59a11ee5aa73ec0",
       "version_major": 2,
       "version_minor": 0
      },
      "text/plain": [
       "  0%|          | 0/6 [00:00<?, ?it/s]"
      ]
     },
     "metadata": {},
     "output_type": "display_data"
    },
    {
     "data": {
      "application/vnd.jupyter.widget-view+json": {
       "model_id": "d7eb3a3cbe5144cf9f2dd0035df8c5ab",
       "version_major": 2,
       "version_minor": 0
      },
      "text/plain": [
       "  0%|          | 0/6 [00:00<?, ?it/s]"
      ]
     },
     "metadata": {},
     "output_type": "display_data"
    },
    {
     "name": "stdout",
     "output_type": "stream",
     "text": [
      "AUC: RegVelo: 0.675 Cor: 0.56 GRNBoost2: 0.505 CellOracle: 0.645\n",
      "Velocity: RegVelo: 0.7396926806093608 veloVI: 0.640044103693791 scVelo: 0.6077238434907412\n",
      "97\n"
     ]
    },
    {
     "name": "stderr",
     "output_type": "stream",
     "text": [
      "GPU available: True (cuda), used: True\n",
      "TPU available: False, using: 0 TPU cores\n",
      "IPU available: False, using: 0 IPUs\n",
      "HPU available: False, using: 0 HPUs\n",
      "LOCAL_RANK: 0 - CUDA_VISIBLE_DEVICES: [0]\n"
     ]
    },
    {
     "name": "stdout",
     "output_type": "stream",
     "text": [
      "Epoch 746/1500:  50%|████▉     | 746/1500 [03:07<03:09,  3.98it/s, loss=-16, v_num=1]    \n",
      "Monitored metric elbo_validation did not improve in the last 45 records. Best score: -15.250. Signaling Trainer to stop.\n",
      "RegVelo: 0.91549676955412\n",
      "RegVelo: 0.7385774830077451\n",
      "recovering dynamics (using 1/112 cores)\n",
      "    finished (0:00:00) --> added \n",
      "    'fit_pars', fitted parameters for splicing dynamics (adata.var)\n",
      "computing velocities\n",
      "WARNING: Too few genes are selected as velocity genes. Consider setting a lower threshold for min_r2 or min_likelihood.\n",
      "    finished (0:00:00) --> added \n",
      "    'velocity', velocity vectors for each individual cell (adata.layers)\n",
      "scVelo: 0.8336993837766757\n",
      "scVelo: 0.663417775793972\n"
     ]
    },
    {
     "name": "stderr",
     "output_type": "stream",
     "text": [
      "GPU available: True (cuda), used: True\n",
      "TPU available: False, using: 0 TPU cores\n",
      "IPU available: False, using: 0 IPUs\n",
      "HPU available: False, using: 0 HPUs\n",
      "LOCAL_RANK: 0 - CUDA_VISIBLE_DEVICES: [0]\n"
     ]
    },
    {
     "name": "stdout",
     "output_type": "stream",
     "text": [
      "Epoch 261/500:  52%|█████▏    | 261/500 [00:29<00:26,  8.89it/s, loss=-11.4, v_num=1]\n",
      "Monitored metric elbo_validation did not improve in the last 45 records. Best score: -10.465. Signaling Trainer to stop.\n",
      "veloVI: SignificanceResult(statistic=0.5511755147901627, pvalue=6.060869852741097e-120)\n",
      "veloVI: 0.6679623389162574\n",
      "initiating Net object ...\n",
      "gem_shape: (1500, 6)\n",
      "TF info shape: (6, 8)\n",
      "initiation completed.\n"
     ]
    },
    {
     "data": {
      "application/vnd.jupyter.widget-view+json": {
       "model_id": "59558a9fec944ff9af56da688de3af53",
       "version_major": 2,
       "version_minor": 0
      },
      "text/plain": [
       "  0%|          | 0/6 [00:00<?, ?it/s]"
      ]
     },
     "metadata": {},
     "output_type": "display_data"
    },
    {
     "data": {
      "application/vnd.jupyter.widget-view+json": {
       "model_id": "379c1a04e54146f599d6de6e7acb902f",
       "version_major": 2,
       "version_minor": 0
      },
      "text/plain": [
       "  0%|          | 0/6 [00:00<?, ?it/s]"
      ]
     },
     "metadata": {},
     "output_type": "display_data"
    },
    {
     "name": "stdout",
     "output_type": "stream",
     "text": [
      "AUC: RegVelo: 0.775 Cor: 0.6100000000000001 GRNBoost2: 0.4600000000000001 CellOracle: 0.52\n",
      "Velocity: RegVelo: 0.7385774830077451 veloVI: 0.6679623389162574 scVelo: 0.663417775793972\n",
      "98\n"
     ]
    },
    {
     "name": "stderr",
     "output_type": "stream",
     "text": [
      "GPU available: True (cuda), used: True\n",
      "TPU available: False, using: 0 TPU cores\n",
      "IPU available: False, using: 0 IPUs\n",
      "HPU available: False, using: 0 HPUs\n",
      "LOCAL_RANK: 0 - CUDA_VISIBLE_DEVICES: [0]\n"
     ]
    },
    {
     "name": "stdout",
     "output_type": "stream",
     "text": [
      "Epoch 611/1500:  41%|████      | 611/1500 [02:23<03:29,  4.25it/s, loss=-15.6, v_num=1]   \n",
      "Monitored metric elbo_validation did not improve in the last 45 records. Best score: -14.282. Signaling Trainer to stop.\n",
      "RegVelo: 0.8630496580008252\n",
      "RegVelo: 0.7123641771383903\n",
      "recovering dynamics (using 1/112 cores)\n"
     ]
    },
    {
     "name": "stderr",
     "output_type": "stream",
     "text": [
      "GPU available: True (cuda), used: True\n",
      "TPU available: False, using: 0 TPU cores\n",
      "IPU available: False, using: 0 IPUs\n",
      "HPU available: False, using: 0 HPUs\n",
      "LOCAL_RANK: 0 - CUDA_VISIBLE_DEVICES: [0]\n"
     ]
    },
    {
     "name": "stdout",
     "output_type": "stream",
     "text": [
      "    finished (0:00:00) --> added \n",
      "    'fit_pars', fitted parameters for splicing dynamics (adata.var)\n",
      "computing velocities\n",
      "WARNING: Too few genes are selected as velocity genes. Consider setting a lower threshold for min_r2 or min_likelihood.\n",
      "    finished (0:00:00) --> added \n",
      "    'velocity', velocity vectors for each individual cell (adata.layers)\n",
      "scVelo: 0.8438026662922077\n",
      "scVelo: 0.6720887955899725\n",
      "Epoch 257/500:  51%|█████▏    | 257/500 [00:26<00:25,  9.57it/s, loss=-15.5, v_num=1]\n",
      "Monitored metric elbo_validation did not improve in the last 45 records. Best score: -13.810. Signaling Trainer to stop.\n",
      "veloVI: SignificanceResult(statistic=0.17669125573245367, pvalue=5.50871341500269e-12)\n",
      "veloVI: 0.6155349330301\n",
      "initiating Net object ...\n",
      "gem_shape: (1500, 6)\n",
      "TF info shape: (6, 8)\n",
      "initiation completed.\n"
     ]
    },
    {
     "data": {
      "application/vnd.jupyter.widget-view+json": {
       "model_id": "3bd8b8aa03364bd7a11e4c08fb26f6f5",
       "version_major": 2,
       "version_minor": 0
      },
      "text/plain": [
       "  0%|          | 0/6 [00:00<?, ?it/s]"
      ]
     },
     "metadata": {},
     "output_type": "display_data"
    },
    {
     "data": {
      "application/vnd.jupyter.widget-view+json": {
       "model_id": "ec3cf06bf3904f8f9d16cb6378c9ab32",
       "version_major": 2,
       "version_minor": 0
      },
      "text/plain": [
       "  0%|          | 0/6 [00:00<?, ?it/s]"
      ]
     },
     "metadata": {},
     "output_type": "display_data"
    },
    {
     "name": "stdout",
     "output_type": "stream",
     "text": [
      "AUC: RegVelo: 0.725 Cor: 0.6199999999999999 GRNBoost2: 0.61 CellOracle: 0.51\n",
      "Velocity: RegVelo: 0.7123641771383903 veloVI: 0.6155349330301 scVelo: 0.6720887955899725\n",
      "99\n"
     ]
    },
    {
     "name": "stderr",
     "output_type": "stream",
     "text": [
      "GPU available: True (cuda), used: True\n",
      "TPU available: False, using: 0 TPU cores\n",
      "IPU available: False, using: 0 IPUs\n",
      "HPU available: False, using: 0 HPUs\n",
      "LOCAL_RANK: 0 - CUDA_VISIBLE_DEVICES: [0]\n"
     ]
    },
    {
     "name": "stdout",
     "output_type": "stream",
     "text": [
      "Epoch 1060/1500:  71%|███████   | 1060/1500 [04:46<01:59,  3.69it/s, loss=-17.4, v_num=1]\n",
      "Monitored metric elbo_validation did not improve in the last 45 records. Best score: -17.309. Signaling Trainer to stop.\n",
      "RegVelo: 0.9393375125944501\n",
      "RegVelo: 0.7505478679057278\n",
      "recovering dynamics (using 1/112 cores)\n",
      "    finished (0:00:00) --> added \n",
      "    'fit_pars', fitted parameters for splicing dynamics (adata.var)\n",
      "computing velocities\n",
      "WARNING: Too few genes are selected as velocity genes. Consider setting a lower threshold for min_r2 or min_likelihood.\n",
      "    finished (0:00:00) --> added \n",
      "    'velocity', velocity vectors for each individual cell (adata.layers)\n",
      "scVelo: 0.7744306525715159\n",
      "scVelo: 0.6780483079291528\n"
     ]
    },
    {
     "name": "stderr",
     "output_type": "stream",
     "text": [
      "GPU available: True (cuda), used: True\n",
      "TPU available: False, using: 0 TPU cores\n",
      "IPU available: False, using: 0 IPUs\n",
      "HPU available: False, using: 0 HPUs\n",
      "LOCAL_RANK: 0 - CUDA_VISIBLE_DEVICES: [0]\n"
     ]
    },
    {
     "name": "stdout",
     "output_type": "stream",
     "text": [
      "Epoch 304/500:  61%|██████    | 304/500 [00:32<00:20,  9.49it/s, loss=-14.3, v_num=1]\n",
      "Monitored metric elbo_validation did not improve in the last 45 records. Best score: -13.036. Signaling Trainer to stop.\n",
      "veloVI: SignificanceResult(statistic=0.4430357240158774, pvalue=3.88783715821655e-73)\n",
      "veloVI: 0.6183706121172786\n",
      "initiating Net object ...\n",
      "gem_shape: (1500, 6)\n",
      "TF info shape: (6, 8)\n",
      "initiation completed.\n"
     ]
    },
    {
     "data": {
      "application/vnd.jupyter.widget-view+json": {
       "model_id": "ad93236fb40f45cdbba5c2d2954cea3f",
       "version_major": 2,
       "version_minor": 0
      },
      "text/plain": [
       "  0%|          | 0/6 [00:00<?, ?it/s]"
      ]
     },
     "metadata": {},
     "output_type": "display_data"
    },
    {
     "data": {
      "application/vnd.jupyter.widget-view+json": {
       "model_id": "5a87225b07324f4f95392350cc37bca8",
       "version_major": 2,
       "version_minor": 0
      },
      "text/plain": [
       "  0%|          | 0/6 [00:00<?, ?it/s]"
      ]
     },
     "metadata": {},
     "output_type": "display_data"
    },
    {
     "name": "stdout",
     "output_type": "stream",
     "text": [
      "AUC: RegVelo: 0.75 Cor: 0.5700000000000001 GRNBoost2: 0.5950000000000001 CellOracle: 0.565\n",
      "Velocity: RegVelo: 0.7505478679057278 veloVI: 0.6183706121172786 scVelo: 0.6780483079291528\n"
     ]
    }
   ],
   "source": [
    "for sim_idx in range(100):\n",
    "    print(sim_idx)\n",
    "    torch.cuda.empty_cache()\n",
    "    torch.manual_seed(sim_idx)\n",
    "\n",
    "    ## simulate alpha beta and gamma\n",
    "    n_vars = 6\n",
    "\n",
    "    mu = np.array([np.log(5), np.log(0.5), np.log(0.125)])\n",
    "\n",
    "    R = np.array([[1.0, 0.2, 0.2], [0.2, 1.0, 0.8], [0.2, 0.8, 1.0]])\n",
    "\n",
    "    C = np.array([0.4, 0.4, 0.4])[:, None]\n",
    "\n",
    "    cov = C.dot(C.T) * R\n",
    "\n",
    "    alpha, beta, gamma = np.exp(np.random.multivariate_normal(mu, cov, size=n_vars).T)  # multivariate log-normal\n",
    "    # beta /= 3\n",
    "    # gamma /= 10\n",
    "    beta_list.append(beta)\n",
    "    gamma_list.append(gamma)\n",
    "\n",
    "    ##\n",
    "    n_regulators = n_targets = 6\n",
    "    coef_m = np.array(\n",
    "        [\n",
    "            [0, 1, -alpha.mean(), 2, 2],\n",
    "            [1, 0, -alpha.mean(), 2, 2],\n",
    "            [0, 2, alpha.mean(), 2, 4],\n",
    "            [0, 3, alpha.mean(), 2, 4],\n",
    "            [2, 3, -alpha.mean(), 2, 2],\n",
    "            [3, 2, -alpha.mean(), 2, 2],\n",
    "            [1, 4, alpha.mean(), 2, 4],\n",
    "            [1, 5, alpha.mean(), 2, 4],\n",
    "            [4, 5, -alpha.mean(), 2, 2],\n",
    "            [5, 4, -alpha.mean(), 2, 2],\n",
    "        ]\n",
    "    )\n",
    "\n",
    "    random_seed = sim_idx\n",
    "\n",
    "    t = torch.tensor(draw_poisson(1500), random_seed=sim_idx)\n",
    "\n",
    "    K = np.zeros([n_targets, n_regulators])\n",
    "    n = np.zeros([n_targets, n_regulators])\n",
    "    h = np.zeros([n_targets, n_regulators])\n",
    "\n",
    "    K[np.array(coef_m[:, 1], dtype=int), np.array(coef_m[:, 0], dtype=int)] = coef_m[:, 2]\n",
    "    n[np.array(coef_m[:, 1], dtype=int), np.array(coef_m[:, 0], dtype=int)] = coef_m[:, 3]\n",
    "    h[np.array(coef_m[:, 1], dtype=int), np.array(coef_m[:, 0], dtype=int)] = coef_m[:, 4]\n",
    "\n",
    "    sde = velocity_encoder(\n",
    "        K=torch.tensor(K, dtype=torch.float32),\n",
    "        n=torch.tensor(n, dtype=torch.float32),\n",
    "        h=torch.tensor(h, dtype=torch.float32),\n",
    "        alpha_b=torch.tensor([1, 1, 1, 1, 1, 1], dtype=torch.float32) * 0,\n",
    "        beta=torch.tensor(beta, dtype=torch.float32),\n",
    "        gamma=torch.tensor(gamma, dtype=torch.float32),\n",
    "    )\n",
    "\n",
    "    ## set up G batches, Each G represent a module (a target gene centerred regulon)\n",
    "    ## infer the observe gene expression through ODE solver based on x0, t, and velocity_encoder\n",
    "    y0 = torch.tensor([1.0, 0, 1.0, 0, 1.0, 0] + torch.zeros(6).abs().tolist()).reshape(1, -1)\n",
    "    ys = torchsde.sdeint(sde, y0, t, method=\"euler\")\n",
    "\n",
    "    pre_u = ys[:, 0, :6]\n",
    "    pre_s = ys[:, 0, 6:]\n",
    "    pre_u = torch.clip(pre_u, 0)\n",
    "    pre_s = torch.clip(pre_s, 0)\n",
    "\n",
    "    pre_s = pd.DataFrame(pre_s.numpy())\n",
    "    pre_u = pd.DataFrame(pre_u.numpy())\n",
    "    gt_velo = np.array(pre_u) * beta - np.array(pre_s) * gamma\n",
    "    adata = ad.AnnData(np.array(pre_s))\n",
    "\n",
    "    ## Preprocessing\n",
    "    adata.layers[\"Ms\"] = np.array(pre_s)\n",
    "    adata.layers[\"Mu\"] = np.array(pre_u)\n",
    "    adata.layers[\"spliced\"] = np.array(pre_s)\n",
    "    adata.layers[\"unspliced\"] = np.array(pre_u)\n",
    "    adata.obs_names = [f\"Cell_{i:d}\" for i in range(adata.n_obs)]\n",
    "    adata.var_names = [f\"Gene_{i:d}\" for i in range(adata.n_vars)]\n",
    "\n",
    "    adata.obs[\"time\"] = t.numpy()\n",
    "    reg_bdata = adata.copy()\n",
    "    reg_bdata.uns[\"regulators\"] = adata.var.index.values\n",
    "    reg_bdata.uns[\"targets\"] = adata.var.index.values\n",
    "    reg_bdata.uns[\"skeleton\"] = np.ones((len(adata.var.index), len(adata.var.index)))\n",
    "    reg_bdata.uns[\"network\"] = np.ones((len(adata.var.index), len(adata.var.index)))\n",
    "\n",
    "    ## veloVI & RegVelo min-max scaling\n",
    "    reg_bdata = preprocess_data(reg_bdata, filter_on_r2=False)\n",
    "\n",
    "    ## delete self-regulation\n",
    "    W = reg_bdata.uns[\"skeleton\"].copy()\n",
    "    W = torch.tensor(np.array(W)).int()\n",
    "\n",
    "    REGVELOVI.setup_anndata(reg_bdata, spliced_layer=\"Ms\", unspliced_layer=\"Mu\")\n",
    "    reg_vae = REGVELOVI(reg_bdata, W=W, lam2=1, soft_constraint=False, simple_dynamics=True)\n",
    "    reg_vae.train()\n",
    "\n",
    "    adata_target = add_regvelo_outputs_to_adata(reg_bdata, reg_vae)\n",
    "    pre_t = adata_target.layers[\"latent_time_regvelo\"].mean(1)\n",
    "    pre_t = t.max() * ((pre_t - np.min(pre_t)) / (np.max(pre_t) - np.min(pre_t)))\n",
    "    adata_target.obs[\"latent_time_regvelo\"] = pre_t\n",
    "\n",
    "    ## print regvelo performance\n",
    "    corr_t_rgv.append(scipy.stats.spearmanr(pre_t, adata.obs[\"time\"])[0])\n",
    "    print(\"RegVelo: \" + str(scipy.stats.spearmanr(pre_t, adata.obs[\"time\"])[0]))\n",
    "\n",
    "    ## compare velocity correlation\n",
    "    pre_velo = np.array(pre_u) * np.array(adata_target.var[\"fit_beta_regvelo\"]) - np.array(pre_s) * np.array(\n",
    "        adata_target.var[\"fit_gamma_regvelo\"]\n",
    "    )\n",
    "    corr_rgv = []\n",
    "    for i in range(6):\n",
    "        corr_rgv.append(scipy.stats.pearsonr(pre_velo[:, i], gt_velo[:, i])[0])\n",
    "\n",
    "    ## print regvelo performance\n",
    "    velo_rgv.append(np.mean(corr_rgv))\n",
    "    print(\"RegVelo: \" + str(np.mean(corr_rgv)))\n",
    "\n",
    "    ## Run scVelo\n",
    "    sc.pp.neighbors(reg_bdata)\n",
    "    scv.tl.recover_dynamics(reg_bdata, fit_scaling=False, var_names=adata.var_names, n_jobs=1)\n",
    "    reg_bdata.var[\"fit_scaling\"] = 1.0\n",
    "    scv.tl.velocity(reg_bdata, mode=\"dynamical\", min_likelihood=-np.inf, min_r2=None)\n",
    "    pre_t = reg_bdata.layers[\"fit_t\"].mean(1)\n",
    "    pre_t = t.max() * ((pre_t - np.min(pre_t)) / (np.max(pre_t) - np.min(pre_t)))\n",
    "\n",
    "    ## print regvelo performance\n",
    "    corr_t_scv.append(scipy.stats.spearmanr(pre_t, adata.obs[\"time\"])[0])\n",
    "    print(\"scVelo: \" + str(scipy.stats.spearmanr(pre_t, adata.obs[\"time\"])[0]))\n",
    "\n",
    "    ## compare velocity correlation\n",
    "    pre_velo = np.array(pre_u) * np.array(reg_bdata.var[\"fit_beta\"]) - np.array(pre_s) * np.array(\n",
    "        reg_bdata.var[\"fit_gamma\"]\n",
    "    )\n",
    "    corr_scv = []\n",
    "    for i in range(6):\n",
    "        corr_scv.append(scipy.stats.pearsonr(pre_velo[:, i], gt_velo[:, i])[0])\n",
    "\n",
    "    ## print regvelo performance\n",
    "    velo_scv.append(np.mean(corr_scv))\n",
    "    print(\"scVelo: \" + str(np.mean(corr_scv)))\n",
    "\n",
    "    ## import veloVI\n",
    "    VELOVI.setup_anndata(adata_target, spliced_layer=\"Ms\", unspliced_layer=\"Mu\")\n",
    "    vae = VELOVI(adata_target)\n",
    "    vae.train()\n",
    "    add_velovi_outputs_to_adata(adata_target, vae)\n",
    "    pre_t = adata_target.layers[\"fit_t\"].mean(1)\n",
    "    pre_t = 200 * ((pre_t - np.min(pre_t)) / (np.max(pre_t) - np.min(pre_t)))\n",
    "\n",
    "    corr_t_velovi.append(scipy.stats.spearmanr(pre_t, adata.obs[\"time\"])[0])\n",
    "    print(\"veloVI: \" + str(scipy.stats.spearmanr(pre_t, adata.obs[\"time\"])))\n",
    "\n",
    "    ## compare velocity\n",
    "    pre_velo = np.array(pre_u) * np.array(adata_target.var[\"fit_beta_velovi\"]) - np.array(pre_s) * np.array(\n",
    "        adata_target.var[\"fit_gamma_velovi\"]\n",
    "    )\n",
    "    corr = []\n",
    "    for i in range(6):\n",
    "        corr.append(scipy.stats.pearsonr(pre_velo[:, i], gt_velo[:, i])[0])\n",
    "\n",
    "    ## print regvelo performance\n",
    "    velo_velovi.append(np.mean(corr))\n",
    "    print(\"veloVI: \" + str(np.mean(corr)))\n",
    "\n",
    "    adata_target.obs[\"latent_time_velovi\"] = pre_t\n",
    "    ### calculate diffusion pseudotime\n",
    "    adata_target.uns[\"iroot\"] = np.flatnonzero(adata_target.obs[\"time\"] == 0)[0]\n",
    "\n",
    "    sc.pp.neighbors(adata_target)\n",
    "    sc.tl.diffmap(adata_target)\n",
    "    sc.tl.dpt(adata_target)\n",
    "\n",
    "    adata_target.obs[\"emperical_time\"] = adata_target.layers[\"Mu\"].mean(1)\n",
    "    corr_t_emperical.append(scipy.stats.spearmanr(adata_target.obs[\"emperical_time\"], adata.obs[\"time\"])[0])\n",
    "    corr_t_dpt.append(scipy.stats.spearmanr(adata_target.obs[\"dpt_pseudotime\"], adata.obs[\"time\"])[0])\n",
    "\n",
    "    #### Benchmark GRN performance\n",
    "    GRN = (\n",
    "        reg_vae.module.v_encoder.GRN_Jacobian(torch.tensor(np.array(pre_s)).mean(0).to(\"cuda:0\"))\n",
    "        .cpu()\n",
    "        .detach()\n",
    "        .cpu()\n",
    "        .numpy()\n",
    "    )\n",
    "    pre = GRN[np.where(~np.eye(GRN.shape[0], dtype=bool))]\n",
    "    label = K[np.where(~np.eye(K.shape[0], dtype=bool))]\n",
    "    label[label != 0] = 1\n",
    "    fpr, tpr, thresholds = sklearn.metrics.roc_curve(label, pre, pos_label=1)\n",
    "    rgv_GRN.append(sklearn.metrics.auc(fpr, tpr))\n",
    "\n",
    "    # calculate correlation\n",
    "    C = np.abs(np.array(pd.DataFrame(adata.layers[\"spliced\"]).corr()))\n",
    "    pre2 = C[np.where(~np.eye(C.shape[0], dtype=bool))]\n",
    "    fpr, tpr, thresholds = sklearn.metrics.roc_curve(label, pre2, pos_label=1)\n",
    "    cor_GRN.append(sklearn.metrics.auc(fpr, tpr))\n",
    "\n",
    "    # GRNBoost2\n",
    "    ex_matrix = adata.to_df(\"spliced\")\n",
    "    tf = ex_matrix.columns.tolist()\n",
    "    network = grnboost2(expression_data=ex_matrix, tf_names=tf)\n",
    "    table = np.array(network)\n",
    "\n",
    "    # Get unique TFs and targets\n",
    "    unique_tfs = np.unique(table[:, 0])\n",
    "    unique_targets = np.unique(table[:, 1])\n",
    "\n",
    "    # Create a new NumPy array to store the rearranged data\n",
    "    GRN = np.zeros((len(unique_targets), len(unique_tfs)))\n",
    "\n",
    "    # Fill in the new array with importance values\n",
    "    for row in table:\n",
    "        tf_index = np.where(unique_tfs == row[0])[0][0]\n",
    "        target_index = np.where(unique_targets == row[1])[0][0]\n",
    "        GRN[target_index, tf_index] = row[2]\n",
    "\n",
    "    pre = GRN[np.where(~np.eye(GRN.shape[0], dtype=bool))]\n",
    "    label = K[np.where(~np.eye(K.shape[0], dtype=bool))]\n",
    "    label[label != 0] = 1\n",
    "    fpr, tpr, thresholds = sklearn.metrics.roc_curve(label, pre, pos_label=1)\n",
    "    gb_GRN.append(sklearn.metrics.auc(fpr, tpr))\n",
    "\n",
    "    ## Run celloracle\n",
    "    base_GRN_sim = np.array(W)\n",
    "    base_GRN_sim[base_GRN_sim != 0] = 1\n",
    "    base_GRN_sim = pd.DataFrame(base_GRN_sim, columns=[\"Gene0\", \"Gene1\", \"Gene2\", \"Gene3\", \"Gene4\", \"Gene5\"])\n",
    "    base_GRN_sim.loc[:, \"peak_id\"] = [(f\"Peak_{i}\") for i in [\"0\", \"1\", \"2\", \"3\", \"4\", \"5\"]].copy()\n",
    "    base_GRN_sim.loc[:, \"gene_short_name\"] = [\"Gene0\", \"Gene1\", \"Gene2\", \"Gene3\", \"Gene4\", \"Gene5\"]\n",
    "    base_GRN_sim = base_GRN_sim.loc[\n",
    "        :, [\"peak_id\", \"gene_short_name\", \"Gene0\", \"Gene1\", \"Gene2\", \"Gene3\", \"Gene4\", \"Gene5\"]\n",
    "    ]\n",
    "\n",
    "    adata.var.index = [\"Gene0\", \"Gene1\", \"Gene2\", \"Gene3\", \"Gene4\", \"Gene5\"]\n",
    "    net = co.Net(\n",
    "        gene_expression_matrix=adata.to_df(),  # Input gene expression matrix as data frame\n",
    "        TFinfo_matrix=base_GRN_sim,  # Input base GRN\n",
    "        verbose=True,\n",
    "    )\n",
    "\n",
    "    net.fit_All_genes(bagging_number=100, alpha=1, verbose=True)\n",
    "    net.updateLinkList(verbose=True)\n",
    "    inference_result = net.linkList.copy()\n",
    "\n",
    "    GRN_table = inference_result.iloc[:, :3].copy()\n",
    "    table = np.array(GRN_table)\n",
    "\n",
    "    # Get unique TFs and targets\n",
    "    unique_tfs = np.unique(table[:, 0])\n",
    "    unique_targets = np.unique(table[:, 1])\n",
    "\n",
    "    # Create a new NumPy array to store the rearranged data\n",
    "    GRN = np.zeros((len(unique_targets), len(unique_tfs)))\n",
    "\n",
    "    # Fill in the new array with importance values\n",
    "    for row in table:\n",
    "        tf_index = np.where(unique_tfs == row[0])[0][0]\n",
    "        target_index = np.where(unique_targets == row[1])[0][0]\n",
    "        GRN[target_index, tf_index] = row[2]\n",
    "    pre = np.abs(GRN)[np.where(~np.eye(GRN.shape[0], dtype=bool))]\n",
    "    label = K[np.where(~np.eye(K.shape[0], dtype=bool))]\n",
    "    label[label != 0] = 1\n",
    "    fpr, tpr, thresholds = sklearn.metrics.roc_curve(label, pre, pos_label=1)\n",
    "    co_GRN.append(sklearn.metrics.auc(fpr, tpr))\n",
    "\n",
    "    print(\n",
    "        \"AUC: \"\n",
    "        + \"RegVelo: \"\n",
    "        + str(rgv_GRN[len(rgv_GRN) - 1])\n",
    "        + \" Cor: \"\n",
    "        + str(cor_GRN[len(cor_GRN) - 1])\n",
    "        + \" GRNBoost2: \"\n",
    "        + str(gb_GRN[len(gb_GRN) - 1])\n",
    "        + \" CellOracle: \"\n",
    "        + str(co_GRN[len(co_GRN) - 1])\n",
    "    )\n",
    "    print(\n",
    "        \"Velocity: \"\n",
    "        + \"RegVelo: \"\n",
    "        + str(velo_rgv[len(velo_rgv) - 1])\n",
    "        + \" veloVI: \"\n",
    "        + str(velo_velovi[len(velo_velovi) - 1])\n",
    "        + \" scVelo: \"\n",
    "        + str(velo_scv[len(velo_scv) - 1])\n",
    "    )"
   ]
  },
  {
   "cell_type": "code",
   "execution_count": 11,
   "id": "408ccd7d-48d6-409a-93e8-0ff8a190178e",
   "metadata": {},
   "outputs": [
    {
     "data": {
      "text/plain": [
       "100"
      ]
     },
     "execution_count": 11,
     "metadata": {},
     "output_type": "execute_result"
    }
   ],
   "source": [
    "len(rgv_GRN)"
   ]
  },
  {
   "cell_type": "code",
   "execution_count": 12,
   "id": "f9261771-dee7-440c-afff-48518505d69f",
   "metadata": {},
   "outputs": [],
   "source": [
    "dat = pd.DataFrame(\n",
    "    {\n",
    "        \"GRN\": rgv_GRN + cor_GRN + gb_GRN + co_GRN,\n",
    "        \"Model\": [\"RegVelo\"] * 100 + [\"Correlation\"] * 100 + [\"GRNBoost2\"] * 100 + [\"CellOracle\"] * 100,\n",
    "    }\n",
    ")\n",
    "if SAVE_DATASETS:\n",
    "    dat.to_csv(DATA_DIR / \"simulation\" / \"toy_GRN\" / \"GRN_benchmark_result.csv\")"
   ]
  },
  {
   "cell_type": "code",
   "execution_count": 13,
   "id": "c57ef672-b843-4c23-99d5-4c7ea51238a3",
   "metadata": {},
   "outputs": [],
   "source": [
    "## boxplot to show latent time correlation on each gene\n",
    "dat = pd.DataFrame(\n",
    "    {\n",
    "        \"Time\": corr_t_rgv + corr_t_velovi + corr_t_scv + corr_t_dpt,\n",
    "        \"Model\": [\"RegVelo\"] * 100 + [\"veloVI\"] * 100 + [\"scVelo\"] * 100 + [\"Diffusion pseudotime\"] * 100,\n",
    "    }\n",
    ")\n",
    "if SAVE_DATASETS:\n",
    "    dat.to_csv(DATA_DIR / \"simulation\" / \"toy_GRN\" / \"latent_time_benchmark_result.csv\")"
   ]
  },
  {
   "cell_type": "code",
   "execution_count": 14,
   "id": "7677d0ad-c0f4-4f10-bb98-13a865d869bf",
   "metadata": {},
   "outputs": [],
   "source": [
    "dat = pd.DataFrame({\"RegVelo\": velo_rgv, \"scVelo\": velo_scv, \"veloVI\": velo_velovi})\n",
    "if SAVE_DATASETS:\n",
    "    dat.to_csv(DATA_DIR / \"simulation\" / \"toy_GRN\" / \"velocity_benchmark.csv\")"
   ]
  },
  {
   "cell_type": "code",
   "execution_count": null,
   "id": "90ce58cf-ba3d-436d-86d7-79c8a52a702e",
   "metadata": {},
   "outputs": [],
   "source": []
  }
 ],
 "metadata": {
  "kernelspec": {
   "display_name": "Python [conda env:celloracle_env]",
   "language": "python",
   "name": "conda-env-celloracle_env-py"
  },
  "language_info": {
   "codemirror_mode": {
    "name": "ipython",
    "version": 3
   },
   "file_extension": ".py",
   "mimetype": "text/x-python",
   "name": "python",
   "nbconvert_exporter": "python",
   "pygments_lexer": "ipython3",
   "version": "3.8.19"
  }
 },
 "nbformat": 4,
 "nbformat_minor": 5
}
