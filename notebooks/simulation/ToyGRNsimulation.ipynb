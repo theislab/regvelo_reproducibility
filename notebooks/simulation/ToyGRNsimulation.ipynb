{
 "cells": [
  {
   "cell_type": "markdown",
   "id": "9b5683f0-b585-4173-9712-fc80bb850243",
   "metadata": {},
   "source": [
    "# Simulate Toy GRN to benchmark velocity, latent time and GRN inference performance"
   ]
  },
  {
   "cell_type": "markdown",
   "id": "7757dfc2-36bb-4d99-aa2e-a503fe9c7a87",
   "metadata": {},
   "source": [
    "## Library imports"
   ]
  },
  {
   "cell_type": "code",
   "execution_count": 1,
   "id": "2aeafec2-9030-4cc9-ba84-74877718ee43",
   "metadata": {},
   "outputs": [
    {
     "name": "stderr",
     "output_type": "stream",
     "text": [
      "[rank: 0] Global seed set to 0\n"
     ]
    }
   ],
   "source": [
    "import torch\n",
    "from torch import nn\n",
    "import torchode as to\n",
    "\n",
    "import regvelovi\n",
    "from regvelovi import REGVELOVI\n",
    "from typing import Literal\n",
    "from velovi import preprocess_data, VELOVI\n",
    "import numpy as np\n",
    "import pandas as pd\n",
    "import sklearn\n",
    "import anndata\n",
    "import anndata as ad\n",
    "\n",
    "import scvelo as scv\n",
    "import scipy\n",
    "import seaborn as sns\n",
    "import scanpy as sc\n",
    "from paths import FIG_DIR, DATA_DIR"
   ]
  },
  {
   "cell_type": "code",
   "execution_count": 2,
   "id": "209d0cd9-6d54-40ff-b9f5-256aaf6904de",
   "metadata": {},
   "outputs": [],
   "source": [
    "from arboreto.algo import grnboost2, genie3\n",
    "from arboreto.utils import load_tf_names"
   ]
  },
  {
   "cell_type": "code",
   "execution_count": 3,
   "id": "00348d7e-dd41-47de-b057-0c6593fbd4dd",
   "metadata": {},
   "outputs": [],
   "source": [
    "import celloracle as co"
   ]
  },
  {
   "cell_type": "code",
   "execution_count": 4,
   "id": "b6cc7442-1278-45c4-8281-4c8fe1bff713",
   "metadata": {},
   "outputs": [],
   "source": [
    "import os"
   ]
  },
  {
   "cell_type": "markdown",
   "id": "20a05faa-564b-4250-af7f-69322211d4a9",
   "metadata": {},
   "source": [
    "## General settings"
   ]
  },
  {
   "cell_type": "code",
   "execution_count": 5,
   "id": "1ee5dd86-3eba-4422-965b-7fc09c0aa62c",
   "metadata": {},
   "outputs": [],
   "source": [
    "sns.reset_defaults()\n",
    "sns.reset_orig()\n",
    "scv.settings.set_figure_params('scvelo', dpi_save=400, dpi=80, transparent=True, fontsize=20, color_map='viridis')"
   ]
  },
  {
   "cell_type": "code",
   "execution_count": 6,
   "id": "6d37b365-2527-4278-ac25-cd9e000a8138",
   "metadata": {},
   "outputs": [],
   "source": [
    "SAVE_FIGURES = True\n",
    "if SAVE_FIGURES:\n",
    "    os.makedirs(FIG_DIR / 'simulation' / 'toy_GRN',exist_ok = True)\n",
    "\n",
    "SAVE_DATASETS = True\n",
    "if SAVE_DATASETS:\n",
    "    os.makedirs(DATA_DIR / 'simulation' / 'toy_GRN',exist_ok = True)"
   ]
  },
  {
   "cell_type": "markdown",
   "id": "32f4dd6f-3ec3-463f-af98-33d44031bc95",
   "metadata": {},
   "source": [
    "## Function defination"
   ]
  },
  {
   "cell_type": "code",
   "execution_count": 7,
   "id": "df8a32bc-1984-4d77-9ea1-bf0ea0cb45eb",
   "metadata": {},
   "outputs": [],
   "source": [
    "def sign_concordance(GRN,ref_GRN):\n",
    "    sign_GRN = np.sign(GRN)[GRN!=0]\n",
    "    sign_ref_GRN = np.sign(ref_GRN)[GRN!=0]\n",
    "    score = sum(sign_GRN == sign_ref_GRN)\n",
    "    return score\n",
    "    \n",
    "def calculate_power_matrix(A, B):\n",
    "    if len(A) != len(B) or len(A[0]) != len(B[0]):\n",
    "        raise ValueError(\"Both matrices must have the same dimensions\")\n",
    "\n",
    "    rows = len(A)\n",
    "    cols = len(A[0])\n",
    "\n",
    "    C = [[0 for _ in range(cols)] for _ in range(rows)]\n",
    "\n",
    "    for i in range(rows):\n",
    "        for j in range(cols):\n",
    "            C[i][j] = A[i][j] ** B[i][j]\n",
    "\n",
    "    return np.array(C)\n",
    "    \n",
    "class velocity_encoder(nn.Module):\n",
    "    \"\"\" \n",
    "    encode the velocity\n",
    "    time dependent transcription rate is determined by upstream emulator\n",
    "    velocity could be build on top of this\n",
    "\n",
    "    merge velocity encoder and emulator class\n",
    "    \"\"\"                 \n",
    "    def __init__(\n",
    "        self,\n",
    "        K,\n",
    "        n,\n",
    "        h,\n",
    "        alpha_b,\n",
    "        beta,\n",
    "        gamma,\n",
    "    ):\n",
    "        super().__init__()\n",
    "        self.K = K\n",
    "        self.n = n\n",
    "        self.h = h\n",
    "        self.alpha_b = alpha_b\n",
    "        self.beta = beta\n",
    "        self.gamma = gamma\n",
    "\n",
    "    def forward(self,t,y):\n",
    "        \"\"\"\n",
    "        s: spliced readout of the genes\n",
    "        K: maximum contribution of regulator j to target gene i,\n",
    "        n: the Hill coefficient that introduces non-linearity to the model\n",
    "        h: the regulator concentration that produces half-maximal regulatory effect (half response)\n",
    "        \"\"\"\n",
    "        u = y[:,0].ravel()\n",
    "        s = y[:,1].ravel()\n",
    "        \n",
    "        sign = torch.sign(self.K)\n",
    "        sign = torch.clip(torch.sign(self.K),0,1)\n",
    "        \n",
    "        s_m = s.repeat(self.n.shape[0],1)\n",
    "        x_n = torch.pow(torch.clip(s_m,0,), self.n)\n",
    "        h_n = self.h**self.n\n",
    "        \n",
    "        p_act = (x_n/(h_n+x_n))\n",
    "        p_neg = (h_n/(h_n+x_n))\n",
    "\n",
    "        \"\"\"\n",
    "        print(p_act)\n",
    "        print(p_neg)\n",
    "        \"\"\"\n",
    "        \n",
    "        p = torch.abs(self.K)*((p_act*sign)+(p_neg*(1-sign)))\n",
    "        alpha = p.sum(1) + self.alpha_b\n",
    "        \n",
    "        du = torch.clip(alpha,0,) - self.beta*u + torch.randn(len(u)) ## add noise -> SDE\n",
    "        ds = self.beta*u - self.gamma*s + torch.randn(len(s)) \n",
    "\n",
    "        du = du.reshape((-1,1))\n",
    "        ds = ds.reshape((-1,1))\n",
    "        \n",
    "        v = torch.concatenate([du,ds],axis = 1)\n",
    "        #v = du.reshape((-1,1))\n",
    "\n",
    "        return v"
   ]
  },
  {
   "cell_type": "code",
   "execution_count": 8,
   "id": "961fd423-c519-43bd-bc9b-fa344b942319",
   "metadata": {},
   "outputs": [],
   "source": [
    "def add_regvelo_outputs_to_adata(adata_raw, vae, filter = False):\n",
    "    # This code is adapted on an implementation by Adam Gayoso, Philipp Weilier and Justing Hong from their repository:\n",
    "    # https://github.com/YosefLab/velovi_reproducibility\n",
    "    # Original function: fit_velovi() in https://github.com/YosefLab/velovi_reproducibility/blob/main/notebooks/estimation_comparison/fucci.ipynb\n",
    "    # License: BSD-3-Clause license\n",
    "\n",
    "    latent_time = vae.get_latent_time(n_samples=30, time_statistic = \"mean\",batch_size = adata_raw.shape[0])\n",
    "    velocities = vae.get_velocity(n_samples=30, velo_statistic=\"mean\",batch_size = adata_raw.shape[0])\n",
    "\n",
    "    t = latent_time\n",
    "    scaling = 20 / t.max(0)\n",
    "    adata = adata_raw[:,vae.module.target_index].copy()\n",
    "\n",
    "    adata.layers[\"velocity\"] = velocities\n",
    "    adata.layers[\"latent_time_regvelo\"] = latent_time\n",
    "\n",
    "    adata.layers[\"fit_t\"] = latent_time.values * np.array(scaling)[np.newaxis, :]\n",
    "    adata.var['fit_scaling'] = 1.0\n",
    "    adata.var['fit_beta_regvelo'] = torch.clip(torch.nn.functional.softplus(reg_vae.module.v_encoder.beta_mean_unconstr),0,50).cpu().detach().numpy() / scaling\n",
    "    adata.var['fit_gamma_regvelo'] = torch.clip(torch.nn.functional.softplus(reg_vae.module.v_encoder.gamma_mean_unconstr),0,50).cpu().detach().numpy() / scaling\n",
    "\n",
    "    return adata\n",
    "\n",
    "def add_velovi_outputs_to_adata(adata, vae):\n",
    "    # This code is adapted on an implementation by Adam Gayoso, Philipp Weilier and Justing Hong from their repository:\n",
    "    # https://github.com/YosefLab/velovi_reproducibility\n",
    "    # Original function: fit_velovi() in https://github.com/YosefLab/velovi_reproducibility/blob/main/notebooks/estimation_comparison/fucci.ipynb\n",
    "    # License: BSD-3-Clause license\n",
    "    \n",
    "    latent_time = vae.get_latent_time(n_samples=30)\n",
    "    velocities = vae.get_velocity(n_samples=30, velo_statistic=\"mean\")\n",
    "\n",
    "    t = latent_time\n",
    "    scaling = 20 / t.max(0)\n",
    "\n",
    "    adata.layers[\"velocity\"] = velocities / scaling\n",
    "    adata.layers[\"latent_time_velovi\"] = latent_time\n",
    "\n",
    "    adata.var[\"fit_alpha_velovi\"] = vae.get_rates()[\"alpha\"] / scaling\n",
    "    adata.var[\"fit_beta_velovi\"] = vae.get_rates()[\"beta\"] / scaling\n",
    "    adata.var[\"fit_gamma_velovi\"] = vae.get_rates()[\"gamma\"] / scaling\n",
    "    adata.var[\"fit_t_\"] = (\n",
    "        torch.nn.functional.softplus(vae.module.switch_time_unconstr)\n",
    "        .detach()\n",
    "        .cpu()\n",
    "        .numpy()\n",
    "    ) * scaling\n",
    "    adata.layers[\"fit_t\"] = latent_time.values * np.array(scaling)[np.newaxis, :]\n",
    "    adata.var['fit_scaling'] = 1.0"
   ]
  },
  {
   "cell_type": "markdown",
   "id": "47004461-448a-4759-8e7c-72c085ac9870",
   "metadata": {},
   "source": [
    "## Initialize all values"
   ]
  },
  {
   "cell_type": "code",
   "execution_count": 9,
   "id": "ee5d7dc8-ab1e-4199-9a2f-16c788d7d63b",
   "metadata": {},
   "outputs": [],
   "source": [
    "velo_scv = []\n",
    "velo_velovi = []\n",
    "velo_rgv = []\n",
    "corr_t_rgv = []\n",
    "corr_t_scv = []\n",
    "corr_t_velovi = []\n",
    "corr_t_emperical = []\n",
    "corr_t_dpt = []\n",
    "beta_list = []\n",
    "gamma_list = []\n",
    "rgv_GRN = []\n",
    "cor_GRN = []\n",
    "gb_GRN = []\n",
    "co_GRN = []"
   ]
  },
  {
   "cell_type": "markdown",
   "id": "199d1e64-659e-4f40-b7c5-e4a88d34aad4",
   "metadata": {},
   "source": [
    "## Run simulation for 100 times"
   ]
  },
  {
   "cell_type": "code",
   "execution_count": 10,
   "id": "e4bc3777-5af4-4519-9ba8-bebef769ecc4",
   "metadata": {
    "collapsed": true,
    "jupyter": {
     "outputs_hidden": true
    },
    "tags": []
   },
   "outputs": [
    {
     "name": "stdout",
     "output_type": "stream",
     "text": [
      "0\n"
     ]
    },
    {
     "name": "stderr",
     "output_type": "stream",
     "text": [
      "GPU available: True (cuda), used: True\n",
      "TPU available: False, using: 0 TPU cores\n",
      "IPU available: False, using: 0 IPUs\n",
      "HPU available: False, using: 0 HPUs\n",
      "LOCAL_RANK: 0 - CUDA_VISIBLE_DEVICES: [0]\n"
     ]
    },
    {
     "name": "stdout",
     "output_type": "stream",
     "text": [
      "Epoch 400/1500:  27%|██▋       | 400/1500 [01:05<02:59,  6.11it/s, loss=-8.89, v_num=1]  \n",
      "Monitored metric elbo_validation did not improve in the last 45 records. Best score: -7.549. Signaling Trainer to stop.\n",
      "RegVelo: 0.8775575135811173\n",
      "recovering dynamics (using 1/112 cores)\n"
     ]
    },
    {
     "name": "stderr",
     "output_type": "stream",
     "text": [
      "GPU available: True (cuda), used: True\n",
      "TPU available: False, using: 0 TPU cores\n",
      "IPU available: False, using: 0 IPUs\n",
      "HPU available: False, using: 0 HPUs\n",
      "LOCAL_RANK: 0 - CUDA_VISIBLE_DEVICES: [0]\n"
     ]
    },
    {
     "name": "stdout",
     "output_type": "stream",
     "text": [
      "    finished (0:00:00) --> added \n",
      "    'fit_pars', fitted parameters for splicing dynamics (adata.var)\n",
      "computing velocities\n",
      "WARNING: Too few genes are selected as velocity genes. Consider setting a lower threshold for min_r2 or min_likelihood.\n",
      "    finished (0:00:00) --> added \n",
      "    'velocity', velocity vectors for each individual cell (adata.layers)\n",
      "scVelo: 0.5727277065383075\n",
      "Epoch 318/500:  64%|██████▎   | 318/500 [00:28<00:16, 11.27it/s, loss=-7.26, v_num=1]\n",
      "Monitored metric elbo_validation did not improve in the last 45 records. Best score: -7.040. Signaling Trainer to stop.\n",
      "veloVI: SignificanceResult(statistic=0.7841196551642912, pvalue=1.152714405e-312)\n",
      "initiating Net object ...\n",
      "gem_shape: (1500, 6)\n",
      "TF info shape: (6, 8)\n",
      "initiation completed.\n"
     ]
    },
    {
     "data": {
      "application/vnd.jupyter.widget-view+json": {
       "model_id": "a3fb76d0a4e54664a6a315c13bbe7b45",
       "version_major": 2,
       "version_minor": 0
      },
      "text/plain": [
       "  0%|          | 0/6 [00:00<?, ?it/s]"
      ]
     },
     "metadata": {},
     "output_type": "display_data"
    },
    {
     "data": {
      "application/vnd.jupyter.widget-view+json": {
       "model_id": "168ab91cb7c547798a3da462859b9dc6",
       "version_major": 2,
       "version_minor": 0
      },
      "text/plain": [
       "  0%|          | 0/6 [00:00<?, ?it/s]"
      ]
     },
     "metadata": {},
     "output_type": "display_data"
    },
    {
     "name": "stdout",
     "output_type": "stream",
     "text": [
      "AUC: RegVelo: 0.7 Cor: 0.5899999999999999 GRNBoost2: 0.69 CellOracle: 0.405\n",
      "1\n"
     ]
    },
    {
     "name": "stderr",
     "output_type": "stream",
     "text": [
      "GPU available: True (cuda), used: True\n",
      "TPU available: False, using: 0 TPU cores\n",
      "IPU available: False, using: 0 IPUs\n",
      "HPU available: False, using: 0 HPUs\n",
      "LOCAL_RANK: 0 - CUDA_VISIBLE_DEVICES: [0]\n"
     ]
    },
    {
     "name": "stdout",
     "output_type": "stream",
     "text": [
      "Epoch 746/1500:  50%|████▉     | 746/1500 [02:47<02:49,  4.46it/s, loss=-15.7, v_num=1]   \n",
      "Monitored metric elbo_validation did not improve in the last 45 records. Best score: -15.186. Signaling Trainer to stop.\n",
      "RegVelo: 0.8333649819399921\n",
      "recovering dynamics (using 1/112 cores)\n"
     ]
    },
    {
     "name": "stderr",
     "output_type": "stream",
     "text": [
      "GPU available: True (cuda), used: True\n",
      "TPU available: False, using: 0 TPU cores\n",
      "IPU available: False, using: 0 IPUs\n",
      "HPU available: False, using: 0 HPUs\n",
      "LOCAL_RANK: 0 - CUDA_VISIBLE_DEVICES: [0]\n"
     ]
    },
    {
     "name": "stdout",
     "output_type": "stream",
     "text": [
      "    finished (0:00:00) --> added \n",
      "    'fit_pars', fitted parameters for splicing dynamics (adata.var)\n",
      "computing velocities\n",
      "WARNING: Too few genes are selected as velocity genes. Consider setting a lower threshold for min_r2 or min_likelihood.\n",
      "    finished (0:00:00) --> added \n",
      "    'velocity', velocity vectors for each individual cell (adata.layers)\n",
      "scVelo: 0.8770752849364094\n",
      "Epoch 322/500:  64%|██████▍   | 322/500 [00:29<00:16, 11.01it/s, loss=-7.76, v_num=1]\n",
      "Monitored metric elbo_validation did not improve in the last 45 records. Best score: -7.372. Signaling Trainer to stop.\n",
      "veloVI: SignificanceResult(statistic=0.7987227770312101, pvalue=0.0)\n",
      "initiating Net object ...\n",
      "gem_shape: (1500, 6)\n",
      "TF info shape: (6, 8)\n",
      "initiation completed.\n"
     ]
    },
    {
     "data": {
      "application/vnd.jupyter.widget-view+json": {
       "model_id": "4982cf4f77494d85a389dd9bc1865333",
       "version_major": 2,
       "version_minor": 0
      },
      "text/plain": [
       "  0%|          | 0/6 [00:00<?, ?it/s]"
      ]
     },
     "metadata": {},
     "output_type": "display_data"
    },
    {
     "data": {
      "application/vnd.jupyter.widget-view+json": {
       "model_id": "0ee015bab3e74a039273f40e08d442f1",
       "version_major": 2,
       "version_minor": 0
      },
      "text/plain": [
       "  0%|          | 0/6 [00:00<?, ?it/s]"
      ]
     },
     "metadata": {},
     "output_type": "display_data"
    },
    {
     "name": "stdout",
     "output_type": "stream",
     "text": [
      "AUC: RegVelo: 0.54 Cor: 0.64 GRNBoost2: 0.525 CellOracle: 0.525\n",
      "2\n"
     ]
    },
    {
     "name": "stderr",
     "output_type": "stream",
     "text": [
      "GPU available: True (cuda), used: True\n",
      "TPU available: False, using: 0 TPU cores\n",
      "IPU available: False, using: 0 IPUs\n",
      "HPU available: False, using: 0 HPUs\n",
      "LOCAL_RANK: 0 - CUDA_VISIBLE_DEVICES: [0]\n"
     ]
    },
    {
     "name": "stdout",
     "output_type": "stream",
     "text": [
      "Epoch 840/1500:  56%|█████▌    | 840/1500 [02:58<02:20,  4.70it/s, loss=-17.3, v_num=1]  \n",
      "Monitored metric elbo_validation did not improve in the last 45 records. Best score: -16.836. Signaling Trainer to stop.\n",
      "RegVelo: 0.9132439658090906\n",
      "recovering dynamics (using 1/112 cores)\n"
     ]
    },
    {
     "name": "stderr",
     "output_type": "stream",
     "text": [
      "GPU available: True (cuda), used: True\n",
      "TPU available: False, using: 0 TPU cores\n",
      "IPU available: False, using: 0 IPUs\n",
      "HPU available: False, using: 0 HPUs\n",
      "LOCAL_RANK: 0 - CUDA_VISIBLE_DEVICES: [0]\n"
     ]
    },
    {
     "name": "stdout",
     "output_type": "stream",
     "text": [
      "    finished (0:00:00) --> added \n",
      "    'fit_pars', fitted parameters for splicing dynamics (adata.var)\n",
      "computing velocities\n",
      "WARNING: Too few genes are selected as velocity genes. Consider setting a lower threshold for min_r2 or min_likelihood.\n",
      "    finished (0:00:00) --> added \n",
      "    'velocity', velocity vectors for each individual cell (adata.layers)\n",
      "scVelo: 0.6008116816959544\n",
      "Epoch 214/500:  43%|████▎     | 214/500 [00:19<00:26, 10.84it/s, loss=-9.58, v_num=1]\n",
      "Monitored metric elbo_validation did not improve in the last 45 records. Best score: -7.510. Signaling Trainer to stop.\n",
      "veloVI: SignificanceResult(statistic=0.5770004413335296, pvalue=7.1941991311829995e-134)\n",
      "initiating Net object ...\n",
      "gem_shape: (1500, 6)\n",
      "TF info shape: (6, 8)\n",
      "initiation completed.\n"
     ]
    },
    {
     "data": {
      "application/vnd.jupyter.widget-view+json": {
       "model_id": "f47a8f7bc4064fec88299688f8fd2aa5",
       "version_major": 2,
       "version_minor": 0
      },
      "text/plain": [
       "  0%|          | 0/6 [00:00<?, ?it/s]"
      ]
     },
     "metadata": {},
     "output_type": "display_data"
    },
    {
     "data": {
      "application/vnd.jupyter.widget-view+json": {
       "model_id": "8a1c85e3a59e444f9c359ef537223ea7",
       "version_major": 2,
       "version_minor": 0
      },
      "text/plain": [
       "  0%|          | 0/6 [00:00<?, ?it/s]"
      ]
     },
     "metadata": {},
     "output_type": "display_data"
    },
    {
     "name": "stdout",
     "output_type": "stream",
     "text": [
      "AUC: RegVelo: 0.78 Cor: 0.51 GRNBoost2: 0.565 CellOracle: 0.41000000000000003\n",
      "3\n"
     ]
    },
    {
     "name": "stderr",
     "output_type": "stream",
     "text": [
      "GPU available: True (cuda), used: True\n",
      "TPU available: False, using: 0 TPU cores\n",
      "IPU available: False, using: 0 IPUs\n",
      "HPU available: False, using: 0 HPUs\n",
      "LOCAL_RANK: 0 - CUDA_VISIBLE_DEVICES: [0]\n"
     ]
    },
    {
     "name": "stdout",
     "output_type": "stream",
     "text": [
      "Epoch 718/1500:  48%|████▊     | 718/1500 [02:52<03:07,  4.17it/s, loss=-13.8, v_num=1]   \n",
      "Monitored metric elbo_validation did not improve in the last 45 records. Best score: -13.881. Signaling Trainer to stop.\n",
      "RegVelo: 0.8476066385299016\n",
      "recovering dynamics (using 1/112 cores)\n"
     ]
    },
    {
     "name": "stderr",
     "output_type": "stream",
     "text": [
      "GPU available: True (cuda), used: True\n",
      "TPU available: False, using: 0 TPU cores\n",
      "IPU available: False, using: 0 IPUs\n",
      "HPU available: False, using: 0 HPUs\n",
      "LOCAL_RANK: 0 - CUDA_VISIBLE_DEVICES: [0]\n"
     ]
    },
    {
     "name": "stdout",
     "output_type": "stream",
     "text": [
      "    finished (0:00:00) --> added \n",
      "    'fit_pars', fitted parameters for splicing dynamics (adata.var)\n",
      "computing velocities\n",
      "WARNING: Too few genes are selected as velocity genes. Consider setting a lower threshold for min_r2 or min_likelihood.\n",
      "    finished (0:00:00) --> added \n",
      "    'velocity', velocity vectors for each individual cell (adata.layers)\n",
      "scVelo: 0.48837280878652134\n",
      "Epoch 347/500:  69%|██████▉   | 347/500 [00:32<00:14, 10.63it/s, loss=-7.55, v_num=1]\n",
      "Monitored metric elbo_validation did not improve in the last 45 records. Best score: -6.571. Signaling Trainer to stop.\n",
      "veloVI: SignificanceResult(statistic=0.6950999320444142, pvalue=5.929569500761164e-217)\n",
      "initiating Net object ...\n",
      "gem_shape: (1500, 6)\n",
      "TF info shape: (6, 8)\n",
      "initiation completed.\n"
     ]
    },
    {
     "data": {
      "application/vnd.jupyter.widget-view+json": {
       "model_id": "9ef92866a37f4b66b3991c98d28ea264",
       "version_major": 2,
       "version_minor": 0
      },
      "text/plain": [
       "  0%|          | 0/6 [00:00<?, ?it/s]"
      ]
     },
     "metadata": {},
     "output_type": "display_data"
    },
    {
     "data": {
      "application/vnd.jupyter.widget-view+json": {
       "model_id": "e23a685b53744eb982ba9c275162c8da",
       "version_major": 2,
       "version_minor": 0
      },
      "text/plain": [
       "  0%|          | 0/6 [00:00<?, ?it/s]"
      ]
     },
     "metadata": {},
     "output_type": "display_data"
    },
    {
     "name": "stdout",
     "output_type": "stream",
     "text": [
      "AUC: RegVelo: 0.5249999999999999 Cor: 0.6199999999999999 GRNBoost2: 0.66 CellOracle: 0.5249999999999999\n",
      "4\n"
     ]
    },
    {
     "name": "stderr",
     "output_type": "stream",
     "text": [
      "GPU available: True (cuda), used: True\n",
      "TPU available: False, using: 0 TPU cores\n",
      "IPU available: False, using: 0 IPUs\n",
      "HPU available: False, using: 0 HPUs\n",
      "LOCAL_RANK: 0 - CUDA_VISIBLE_DEVICES: [0]\n"
     ]
    },
    {
     "name": "stdout",
     "output_type": "stream",
     "text": [
      "Epoch 553/1500:  37%|███▋      | 553/1500 [01:39<02:50,  5.55it/s, loss=-14, v_num=1]     \n",
      "Monitored metric elbo_validation did not improve in the last 45 records. Best score: -12.935. Signaling Trainer to stop.\n",
      "RegVelo: 0.8847148820955032\n",
      "recovering dynamics (using 1/112 cores)\n"
     ]
    },
    {
     "name": "stderr",
     "output_type": "stream",
     "text": [
      "GPU available: True (cuda), used: True\n",
      "TPU available: False, using: 0 TPU cores\n",
      "IPU available: False, using: 0 IPUs\n",
      "HPU available: False, using: 0 HPUs\n",
      "LOCAL_RANK: 0 - CUDA_VISIBLE_DEVICES: [0]\n"
     ]
    },
    {
     "name": "stdout",
     "output_type": "stream",
     "text": [
      "    finished (0:00:00) --> added \n",
      "    'fit_pars', fitted parameters for splicing dynamics (adata.var)\n",
      "computing velocities\n",
      "WARNING: Too few genes are selected as velocity genes. Consider setting a lower threshold for min_r2 or min_likelihood.\n",
      "    finished (0:00:00) --> added \n",
      "    'velocity', velocity vectors for each individual cell (adata.layers)\n",
      "scVelo: 0.9048529655664198\n",
      "Epoch 312/500:  62%|██████▏   | 312/500 [00:29<00:17, 10.59it/s, loss=-9.33, v_num=1]\n",
      "Monitored metric elbo_validation did not improve in the last 45 records. Best score: -8.515. Signaling Trainer to stop.\n",
      "veloVI: SignificanceResult(statistic=0.5389596777598569, pvalue=9.026061043687934e-114)\n",
      "initiating Net object ...\n",
      "gem_shape: (1500, 6)\n",
      "TF info shape: (6, 8)\n",
      "initiation completed.\n"
     ]
    },
    {
     "data": {
      "application/vnd.jupyter.widget-view+json": {
       "model_id": "c2b842e940754459b6c98cf2828b0c04",
       "version_major": 2,
       "version_minor": 0
      },
      "text/plain": [
       "  0%|          | 0/6 [00:00<?, ?it/s]"
      ]
     },
     "metadata": {},
     "output_type": "display_data"
    },
    {
     "data": {
      "application/vnd.jupyter.widget-view+json": {
       "model_id": "c4b8639f833b4ead89f9b08bec69b8de",
       "version_major": 2,
       "version_minor": 0
      },
      "text/plain": [
       "  0%|          | 0/6 [00:00<?, ?it/s]"
      ]
     },
     "metadata": {},
     "output_type": "display_data"
    },
    {
     "name": "stdout",
     "output_type": "stream",
     "text": [
      "AUC: RegVelo: 0.57 Cor: 0.54 GRNBoost2: 0.41500000000000004 CellOracle: 0.5499999999999999\n",
      "5\n"
     ]
    },
    {
     "name": "stderr",
     "output_type": "stream",
     "text": [
      "GPU available: True (cuda), used: True\n",
      "TPU available: False, using: 0 TPU cores\n",
      "IPU available: False, using: 0 IPUs\n",
      "HPU available: False, using: 0 HPUs\n",
      "LOCAL_RANK: 0 - CUDA_VISIBLE_DEVICES: [0]\n"
     ]
    },
    {
     "name": "stdout",
     "output_type": "stream",
     "text": [
      "Epoch 541/1500:  36%|███▌      | 541/1500 [01:44<03:05,  5.18it/s, loss=-11.4, v_num=1]   \n",
      "Monitored metric elbo_validation did not improve in the last 45 records. Best score: -10.947. Signaling Trainer to stop.\n",
      "RegVelo: 0.9013549497601643\n",
      "recovering dynamics (using 1/112 cores)\n"
     ]
    },
    {
     "name": "stderr",
     "output_type": "stream",
     "text": [
      "GPU available: True (cuda), used: True\n",
      "TPU available: False, using: 0 TPU cores\n",
      "IPU available: False, using: 0 IPUs\n",
      "HPU available: False, using: 0 HPUs\n",
      "LOCAL_RANK: 0 - CUDA_VISIBLE_DEVICES: [0]\n"
     ]
    },
    {
     "name": "stdout",
     "output_type": "stream",
     "text": [
      "    finished (0:00:00) --> added \n",
      "    'fit_pars', fitted parameters for splicing dynamics (adata.var)\n",
      "computing velocities\n",
      "WARNING: Too few genes are selected as velocity genes. Consider setting a lower threshold for min_r2 or min_likelihood.\n",
      "    finished (0:00:00) --> added \n",
      "    'velocity', velocity vectors for each individual cell (adata.layers)\n",
      "scVelo: 0.6409750555945284\n",
      "Epoch 250/500:  50%|█████     | 250/500 [00:23<00:23, 10.46it/s, loss=-7.14, v_num=1]\n",
      "Monitored metric elbo_validation did not improve in the last 45 records. Best score: -6.385. Signaling Trainer to stop.\n",
      "veloVI: SignificanceResult(statistic=0.859064829806591, pvalue=0.0)\n",
      "initiating Net object ...\n",
      "gem_shape: (1500, 6)\n",
      "TF info shape: (6, 8)\n",
      "initiation completed.\n"
     ]
    },
    {
     "data": {
      "application/vnd.jupyter.widget-view+json": {
       "model_id": "da1f8feeeb7c4f4e9f60eddbd02347c5",
       "version_major": 2,
       "version_minor": 0
      },
      "text/plain": [
       "  0%|          | 0/6 [00:00<?, ?it/s]"
      ]
     },
     "metadata": {},
     "output_type": "display_data"
    },
    {
     "data": {
      "application/vnd.jupyter.widget-view+json": {
       "model_id": "3775b1b661324a90bcdc11fe86b31192",
       "version_major": 2,
       "version_minor": 0
      },
      "text/plain": [
       "  0%|          | 0/6 [00:00<?, ?it/s]"
      ]
     },
     "metadata": {},
     "output_type": "display_data"
    },
    {
     "name": "stdout",
     "output_type": "stream",
     "text": [
      "AUC: RegVelo: 0.745 Cor: 0.63 GRNBoost2: 0.62 CellOracle: 0.6000000000000001\n",
      "6\n"
     ]
    },
    {
     "name": "stderr",
     "output_type": "stream",
     "text": [
      "GPU available: True (cuda), used: True\n",
      "TPU available: False, using: 0 TPU cores\n",
      "IPU available: False, using: 0 IPUs\n",
      "HPU available: False, using: 0 HPUs\n",
      "LOCAL_RANK: 0 - CUDA_VISIBLE_DEVICES: [0]\n"
     ]
    },
    {
     "name": "stdout",
     "output_type": "stream",
     "text": [
      "Epoch 807/1500:  54%|█████▍    | 807/1500 [02:40<02:17,  5.04it/s, loss=-16.2, v_num=1]  \n",
      "Monitored metric elbo_validation did not improve in the last 45 records. Best score: -15.694. Signaling Trainer to stop.\n",
      "RegVelo: 0.9498192736974551\n",
      "recovering dynamics (using 1/112 cores)\n"
     ]
    },
    {
     "name": "stderr",
     "output_type": "stream",
     "text": [
      "GPU available: True (cuda), used: True\n",
      "TPU available: False, using: 0 TPU cores\n",
      "IPU available: False, using: 0 IPUs\n",
      "HPU available: False, using: 0 HPUs\n",
      "LOCAL_RANK: 0 - CUDA_VISIBLE_DEVICES: [0]\n"
     ]
    },
    {
     "name": "stdout",
     "output_type": "stream",
     "text": [
      "    finished (0:00:00) --> added \n",
      "    'fit_pars', fitted parameters for splicing dynamics (adata.var)\n",
      "computing velocities\n",
      "WARNING: Too few genes are selected as velocity genes. Consider setting a lower threshold for min_r2 or min_likelihood.\n",
      "    finished (0:00:00) --> added \n",
      "    'velocity', velocity vectors for each individual cell (adata.layers)\n",
      "scVelo: 0.6862275298769741\n",
      "Epoch 298/500:  60%|█████▉    | 298/500 [00:28<00:19, 10.45it/s, loss=-7.78, v_num=1]\n",
      "Monitored metric elbo_validation did not improve in the last 45 records. Best score: -8.287. Signaling Trainer to stop.\n",
      "veloVI: SignificanceResult(statistic=0.45379673502077117, pvalue=4.464458015396199e-77)\n",
      "initiating Net object ...\n",
      "gem_shape: (1500, 6)\n",
      "TF info shape: (6, 8)\n",
      "initiation completed.\n"
     ]
    },
    {
     "data": {
      "application/vnd.jupyter.widget-view+json": {
       "model_id": "2c0faf090c42404b9f3d3cf572a0e4d5",
       "version_major": 2,
       "version_minor": 0
      },
      "text/plain": [
       "  0%|          | 0/6 [00:00<?, ?it/s]"
      ]
     },
     "metadata": {},
     "output_type": "display_data"
    },
    {
     "data": {
      "application/vnd.jupyter.widget-view+json": {
       "model_id": "5bd30f041350483b9a6f9e72daff9cd2",
       "version_major": 2,
       "version_minor": 0
      },
      "text/plain": [
       "  0%|          | 0/6 [00:00<?, ?it/s]"
      ]
     },
     "metadata": {},
     "output_type": "display_data"
    },
    {
     "name": "stdout",
     "output_type": "stream",
     "text": [
      "AUC: RegVelo: 0.855 Cor: 0.5700000000000001 GRNBoost2: 0.63 CellOracle: 0.47500000000000003\n",
      "7\n"
     ]
    },
    {
     "name": "stderr",
     "output_type": "stream",
     "text": [
      "GPU available: True (cuda), used: True\n",
      "TPU available: False, using: 0 TPU cores\n",
      "IPU available: False, using: 0 IPUs\n",
      "HPU available: False, using: 0 HPUs\n",
      "LOCAL_RANK: 0 - CUDA_VISIBLE_DEVICES: [0]\n"
     ]
    },
    {
     "name": "stdout",
     "output_type": "stream",
     "text": [
      "Epoch 844/1500:  56%|█████▋    | 844/1500 [03:23<02:38,  4.14it/s, loss=-14, v_num=1]    \n",
      "Monitored metric elbo_validation did not improve in the last 45 records. Best score: -13.676. Signaling Trainer to stop.\n",
      "RegVelo: 0.9098752986112439\n",
      "recovering dynamics (using 1/112 cores)\n"
     ]
    },
    {
     "name": "stderr",
     "output_type": "stream",
     "text": [
      "GPU available: True (cuda), used: True\n",
      "TPU available: False, using: 0 TPU cores\n",
      "IPU available: False, using: 0 IPUs\n",
      "HPU available: False, using: 0 HPUs\n",
      "LOCAL_RANK: 0 - CUDA_VISIBLE_DEVICES: [0]\n"
     ]
    },
    {
     "name": "stdout",
     "output_type": "stream",
     "text": [
      "    finished (0:00:00) --> added \n",
      "    'fit_pars', fitted parameters for splicing dynamics (adata.var)\n",
      "computing velocities\n",
      "WARNING: Too few genes are selected as velocity genes. Consider setting a lower threshold for min_r2 or min_likelihood.\n",
      "    finished (0:00:00) --> added \n",
      "    'velocity', velocity vectors for each individual cell (adata.layers)\n",
      "scVelo: 0.8957548380499222\n",
      "Epoch 223/500:  45%|████▍     | 223/500 [00:21<00:26, 10.31it/s, loss=-8.28, v_num=1]\n",
      "Monitored metric elbo_validation did not improve in the last 45 records. Best score: -6.060. Signaling Trainer to stop.\n",
      "veloVI: SignificanceResult(statistic=0.7462904081290704, pvalue=4.310591582375633e-267)\n",
      "initiating Net object ...\n",
      "gem_shape: (1500, 6)\n",
      "TF info shape: (6, 8)\n",
      "initiation completed.\n"
     ]
    },
    {
     "data": {
      "application/vnd.jupyter.widget-view+json": {
       "model_id": "f03727a47bce408585bb86bb0e99408d",
       "version_major": 2,
       "version_minor": 0
      },
      "text/plain": [
       "  0%|          | 0/6 [00:00<?, ?it/s]"
      ]
     },
     "metadata": {},
     "output_type": "display_data"
    },
    {
     "data": {
      "application/vnd.jupyter.widget-view+json": {
       "model_id": "7d1117bf0bc9486788965a9a6d314240",
       "version_major": 2,
       "version_minor": 0
      },
      "text/plain": [
       "  0%|          | 0/6 [00:00<?, ?it/s]"
      ]
     },
     "metadata": {},
     "output_type": "display_data"
    },
    {
     "name": "stdout",
     "output_type": "stream",
     "text": [
      "AUC: RegVelo: 0.69 Cor: 0.6799999999999999 GRNBoost2: 0.56 CellOracle: 0.545\n",
      "8\n"
     ]
    },
    {
     "name": "stderr",
     "output_type": "stream",
     "text": [
      "GPU available: True (cuda), used: True\n",
      "TPU available: False, using: 0 TPU cores\n",
      "IPU available: False, using: 0 IPUs\n",
      "HPU available: False, using: 0 HPUs\n",
      "LOCAL_RANK: 0 - CUDA_VISIBLE_DEVICES: [0]\n"
     ]
    },
    {
     "name": "stdout",
     "output_type": "stream",
     "text": [
      "Epoch 955/1500:  64%|██████▎   | 955/1500 [03:32<02:01,  4.49it/s, loss=-16.9, v_num=1]  \n",
      "Monitored metric elbo_validation did not improve in the last 45 records. Best score: -16.787. Signaling Trainer to stop.\n",
      "RegVelo: 0.9478251288111684\n",
      "recovering dynamics (using 1/112 cores)\n"
     ]
    },
    {
     "name": "stderr",
     "output_type": "stream",
     "text": [
      "GPU available: True (cuda), used: True\n",
      "TPU available: False, using: 0 TPU cores\n",
      "IPU available: False, using: 0 IPUs\n",
      "HPU available: False, using: 0 HPUs\n",
      "LOCAL_RANK: 0 - CUDA_VISIBLE_DEVICES: [0]\n"
     ]
    },
    {
     "name": "stdout",
     "output_type": "stream",
     "text": [
      "    finished (0:00:00) --> added \n",
      "    'fit_pars', fitted parameters for splicing dynamics (adata.var)\n",
      "computing velocities\n",
      "WARNING: Too few genes are selected as velocity genes. Consider setting a lower threshold for min_r2 or min_likelihood.\n",
      "    finished (0:00:00) --> added \n",
      "    'velocity', velocity vectors for each individual cell (adata.layers)\n",
      "scVelo: 0.7514649686770281\n",
      "Epoch 352/500:  70%|███████   | 352/500 [00:33<00:14, 10.45it/s, loss=-9.42, v_num=1]\n",
      "Monitored metric elbo_validation did not improve in the last 45 records. Best score: -8.368. Signaling Trainer to stop.\n",
      "veloVI: SignificanceResult(statistic=0.37725140355818065, pvalue=6.264882286111058e-52)\n",
      "initiating Net object ...\n",
      "gem_shape: (1500, 6)\n",
      "TF info shape: (6, 8)\n",
      "initiation completed.\n"
     ]
    },
    {
     "data": {
      "application/vnd.jupyter.widget-view+json": {
       "model_id": "872090b9c4f44764ae402817096c6eed",
       "version_major": 2,
       "version_minor": 0
      },
      "text/plain": [
       "  0%|          | 0/6 [00:00<?, ?it/s]"
      ]
     },
     "metadata": {},
     "output_type": "display_data"
    },
    {
     "data": {
      "application/vnd.jupyter.widget-view+json": {
       "model_id": "b497fef518ff488398fe5f63771346f7",
       "version_major": 2,
       "version_minor": 0
      },
      "text/plain": [
       "  0%|          | 0/6 [00:00<?, ?it/s]"
      ]
     },
     "metadata": {},
     "output_type": "display_data"
    },
    {
     "name": "stdout",
     "output_type": "stream",
     "text": [
      "AUC: RegVelo: 0.77 Cor: 0.55 GRNBoost2: 0.48500000000000004 CellOracle: 0.47500000000000003\n",
      "9\n"
     ]
    },
    {
     "name": "stderr",
     "output_type": "stream",
     "text": [
      "2024-08-10 12:28:24,156 - distributed.comm.tcp - INFO - Connection from tcp://127.0.0.1:8936 closed before handshake completed\n",
      "GPU available: True (cuda), used: True\n",
      "TPU available: False, using: 0 TPU cores\n",
      "IPU available: False, using: 0 IPUs\n",
      "HPU available: False, using: 0 HPUs\n",
      "LOCAL_RANK: 0 - CUDA_VISIBLE_DEVICES: [0]\n"
     ]
    },
    {
     "name": "stdout",
     "output_type": "stream",
     "text": [
      "Epoch 1061/1500:  71%|███████   | 1061/1500 [04:20<01:47,  4.07it/s, loss=-15.9, v_num=1]\n",
      "Monitored metric elbo_validation did not improve in the last 45 records. Best score: -15.980. Signaling Trainer to stop.\n",
      "RegVelo: 0.9277820656809181\n",
      "recovering dynamics (using 1/112 cores)\n",
      "    finished (0:00:01) --> added \n",
      "    'fit_pars', fitted parameters for splicing dynamics (adata.var)\n",
      "computing velocities\n"
     ]
    },
    {
     "name": "stderr",
     "output_type": "stream",
     "text": [
      "GPU available: True (cuda), used: True\n",
      "TPU available: False, using: 0 TPU cores\n",
      "IPU available: False, using: 0 IPUs\n",
      "HPU available: False, using: 0 HPUs\n"
     ]
    },
    {
     "name": "stdout",
     "output_type": "stream",
     "text": [
      "WARNING: Too few genes are selected as velocity genes. Consider setting a lower threshold for min_r2 or min_likelihood.\n",
      "    finished (0:00:00) --> added \n",
      "    'velocity', velocity vectors for each individual cell (adata.layers)\n",
      "scVelo: 0.838522657092989\n"
     ]
    },
    {
     "name": "stderr",
     "output_type": "stream",
     "text": [
      "LOCAL_RANK: 0 - CUDA_VISIBLE_DEVICES: [0]\n"
     ]
    },
    {
     "name": "stdout",
     "output_type": "stream",
     "text": [
      "Epoch 313/500:  63%|██████▎   | 313/500 [00:30<00:18, 10.36it/s, loss=-5.49, v_num=1]\n",
      "Monitored metric elbo_validation did not improve in the last 45 records. Best score: -5.064. Signaling Trainer to stop.\n",
      "veloVI: SignificanceResult(statistic=0.6322511864514172, pvalue=3.0771947197792614e-168)\n",
      "initiating Net object ...\n",
      "gem_shape: (1500, 6)\n",
      "TF info shape: (6, 8)\n",
      "initiation completed.\n"
     ]
    },
    {
     "data": {
      "application/vnd.jupyter.widget-view+json": {
       "model_id": "83f6eb3ef3a54246b3d8ae0ca9704781",
       "version_major": 2,
       "version_minor": 0
      },
      "text/plain": [
       "  0%|          | 0/6 [00:00<?, ?it/s]"
      ]
     },
     "metadata": {},
     "output_type": "display_data"
    },
    {
     "data": {
      "application/vnd.jupyter.widget-view+json": {
       "model_id": "59a1e349b78a4dc888a8fe91e0236557",
       "version_major": 2,
       "version_minor": 0
      },
      "text/plain": [
       "  0%|          | 0/6 [00:00<?, ?it/s]"
      ]
     },
     "metadata": {},
     "output_type": "display_data"
    },
    {
     "name": "stdout",
     "output_type": "stream",
     "text": [
      "AUC: RegVelo: 0.575 Cor: 0.6499999999999999 GRNBoost2: 0.74 CellOracle: 0.425\n",
      "10\n"
     ]
    },
    {
     "name": "stderr",
     "output_type": "stream",
     "text": [
      "GPU available: True (cuda), used: True\n",
      "TPU available: False, using: 0 TPU cores\n",
      "IPU available: False, using: 0 IPUs\n",
      "HPU available: False, using: 0 HPUs\n",
      "LOCAL_RANK: 0 - CUDA_VISIBLE_DEVICES: [0]\n"
     ]
    },
    {
     "name": "stdout",
     "output_type": "stream",
     "text": [
      "Epoch 918/1500:  61%|██████    | 918/1500 [03:20<02:06,  4.59it/s, loss=-16.8, v_num=1]  \n",
      "Monitored metric elbo_validation did not improve in the last 45 records. Best score: -16.264. Signaling Trainer to stop.\n",
      "RegVelo: 0.9678466870143914\n",
      "recovering dynamics (using 1/112 cores)\n"
     ]
    },
    {
     "name": "stderr",
     "output_type": "stream",
     "text": [
      "GPU available: True (cuda), used: True\n",
      "TPU available: False, using: 0 TPU cores\n",
      "IPU available: False, using: 0 IPUs\n",
      "HPU available: False, using: 0 HPUs\n",
      "LOCAL_RANK: 0 - CUDA_VISIBLE_DEVICES: [0]\n"
     ]
    },
    {
     "name": "stdout",
     "output_type": "stream",
     "text": [
      "    finished (0:00:00) --> added \n",
      "    'fit_pars', fitted parameters for splicing dynamics (adata.var)\n",
      "computing velocities\n",
      "WARNING: Too few genes are selected as velocity genes. Consider setting a lower threshold for min_r2 or min_likelihood.\n",
      "    finished (0:00:00) --> added \n",
      "    'velocity', velocity vectors for each individual cell (adata.layers)\n",
      "scVelo: 0.7934728355876883\n",
      "Epoch 389/500:  78%|███████▊  | 389/500 [00:37<00:10, 10.35it/s, loss=-8.53, v_num=1]\n",
      "Monitored metric elbo_validation did not improve in the last 45 records. Best score: -9.393. Signaling Trainer to stop.\n",
      "veloVI: SignificanceResult(statistic=0.3626464865095496, pvalue=7.703036150218793e-48)\n",
      "initiating Net object ...\n",
      "gem_shape: (1500, 6)\n",
      "TF info shape: (6, 8)\n",
      "initiation completed.\n"
     ]
    },
    {
     "data": {
      "application/vnd.jupyter.widget-view+json": {
       "model_id": "9175d6e824cb452787cf1e50a5377609",
       "version_major": 2,
       "version_minor": 0
      },
      "text/plain": [
       "  0%|          | 0/6 [00:00<?, ?it/s]"
      ]
     },
     "metadata": {},
     "output_type": "display_data"
    },
    {
     "data": {
      "application/vnd.jupyter.widget-view+json": {
       "model_id": "48b6bae8392649d8ac5c0d010533f5a4",
       "version_major": 2,
       "version_minor": 0
      },
      "text/plain": [
       "  0%|          | 0/6 [00:00<?, ?it/s]"
      ]
     },
     "metadata": {},
     "output_type": "display_data"
    },
    {
     "name": "stdout",
     "output_type": "stream",
     "text": [
      "AUC: RegVelo: 0.58 Cor: 0.6799999999999999 GRNBoost2: 0.5900000000000001 CellOracle: 0.585\n",
      "11\n"
     ]
    },
    {
     "name": "stderr",
     "output_type": "stream",
     "text": [
      "GPU available: True (cuda), used: True\n",
      "TPU available: False, using: 0 TPU cores\n",
      "IPU available: False, using: 0 IPUs\n",
      "HPU available: False, using: 0 HPUs\n",
      "LOCAL_RANK: 0 - CUDA_VISIBLE_DEVICES: [0]\n"
     ]
    },
    {
     "name": "stdout",
     "output_type": "stream",
     "text": [
      "Epoch 635/1500:  42%|████▏     | 635/1500 [02:25<03:17,  4.38it/s, loss=-14.9, v_num=1]  \n",
      "Monitored metric elbo_validation did not improve in the last 45 records. Best score: -14.218. Signaling Trainer to stop.\n",
      "RegVelo: 0.930723179876969\n",
      "recovering dynamics (using 1/112 cores)\n"
     ]
    },
    {
     "name": "stderr",
     "output_type": "stream",
     "text": [
      "GPU available: True (cuda), used: True\n",
      "TPU available: False, using: 0 TPU cores\n",
      "IPU available: False, using: 0 IPUs\n",
      "HPU available: False, using: 0 HPUs\n",
      "LOCAL_RANK: 0 - CUDA_VISIBLE_DEVICES: [0]\n"
     ]
    },
    {
     "name": "stdout",
     "output_type": "stream",
     "text": [
      "    finished (0:00:00) --> added \n",
      "    'fit_pars', fitted parameters for splicing dynamics (adata.var)\n",
      "computing velocities\n",
      "WARNING: Too few genes are selected as velocity genes. Consider setting a lower threshold for min_r2 or min_likelihood.\n",
      "    finished (0:00:00) --> added \n",
      "    'velocity', velocity vectors for each individual cell (adata.layers)\n",
      "scVelo: 0.93627481189172\n",
      "Epoch 222/500:  44%|████▍     | 222/500 [00:21<00:26, 10.34it/s, loss=-10.3, v_num=1]\n",
      "Monitored metric elbo_validation did not improve in the last 45 records. Best score: -8.663. Signaling Trainer to stop.\n",
      "veloVI: SignificanceResult(statistic=0.49061761538560683, pvalue=1.121187745738854e-91)\n",
      "initiating Net object ...\n",
      "gem_shape: (1500, 6)\n",
      "TF info shape: (6, 8)\n",
      "initiation completed.\n"
     ]
    },
    {
     "data": {
      "application/vnd.jupyter.widget-view+json": {
       "model_id": "9286c808d43747f29589631e3d8dee64",
       "version_major": 2,
       "version_minor": 0
      },
      "text/plain": [
       "  0%|          | 0/6 [00:00<?, ?it/s]"
      ]
     },
     "metadata": {},
     "output_type": "display_data"
    },
    {
     "data": {
      "application/vnd.jupyter.widget-view+json": {
       "model_id": "5ec0b5d3e9c04e15aa978c7dafaa1b0d",
       "version_major": 2,
       "version_minor": 0
      },
      "text/plain": [
       "  0%|          | 0/6 [00:00<?, ?it/s]"
      ]
     },
     "metadata": {},
     "output_type": "display_data"
    },
    {
     "name": "stdout",
     "output_type": "stream",
     "text": [
      "AUC: RegVelo: 0.815 Cor: 0.48000000000000004 GRNBoost2: 0.515 CellOracle: 0.39499999999999996\n",
      "12\n"
     ]
    },
    {
     "name": "stderr",
     "output_type": "stream",
     "text": [
      "GPU available: True (cuda), used: True\n",
      "TPU available: False, using: 0 TPU cores\n",
      "IPU available: False, using: 0 IPUs\n",
      "HPU available: False, using: 0 HPUs\n",
      "LOCAL_RANK: 0 - CUDA_VISIBLE_DEVICES: [0]\n"
     ]
    },
    {
     "name": "stdout",
     "output_type": "stream",
     "text": [
      "Epoch 1205/1500:  80%|████████  | 1205/1500 [05:16<01:17,  3.80it/s, loss=-17.5, v_num=1]\n",
      "Monitored metric elbo_validation did not improve in the last 45 records. Best score: -17.583. Signaling Trainer to stop.\n",
      "RegVelo: 0.9775641322507255\n",
      "recovering dynamics (using 1/112 cores)\n",
      "    finished (0:00:00) --> added \n",
      "    'fit_pars', fitted parameters for splicing dynamics (adata.var)\n",
      "computing velocities\n",
      "WARNING: Too few genes are selected as velocity genes. Consider setting a lower threshold for min_r2 or min_likelihood.\n",
      "    finished (0:00:00) --> added \n",
      "    'velocity', velocity vectors for each individual cell (adata.layers)\n",
      "scVelo: 0.8567172454486986\n"
     ]
    },
    {
     "name": "stderr",
     "output_type": "stream",
     "text": [
      "GPU available: True (cuda), used: True\n",
      "TPU available: False, using: 0 TPU cores\n",
      "IPU available: False, using: 0 IPUs\n",
      "HPU available: False, using: 0 HPUs\n",
      "LOCAL_RANK: 0 - CUDA_VISIBLE_DEVICES: [0]\n"
     ]
    },
    {
     "name": "stdout",
     "output_type": "stream",
     "text": [
      "Epoch 394/500:  79%|███████▉  | 394/500 [00:38<00:10, 10.31it/s, loss=-6.35, v_num=1]\n",
      "Monitored metric elbo_validation did not improve in the last 45 records. Best score: -8.958. Signaling Trainer to stop.\n",
      "veloVI: SignificanceResult(statistic=0.08803473068210252, pvalue=0.0006416784385394849)\n",
      "initiating Net object ...\n",
      "gem_shape: (1500, 6)\n",
      "TF info shape: (6, 8)\n",
      "initiation completed.\n"
     ]
    },
    {
     "data": {
      "application/vnd.jupyter.widget-view+json": {
       "model_id": "5eacb8040f5f4e66b1b50e06a614c913",
       "version_major": 2,
       "version_minor": 0
      },
      "text/plain": [
       "  0%|          | 0/6 [00:00<?, ?it/s]"
      ]
     },
     "metadata": {},
     "output_type": "display_data"
    },
    {
     "data": {
      "application/vnd.jupyter.widget-view+json": {
       "model_id": "9d39d75b49684b949dbad868e1b55de3",
       "version_major": 2,
       "version_minor": 0
      },
      "text/plain": [
       "  0%|          | 0/6 [00:00<?, ?it/s]"
      ]
     },
     "metadata": {},
     "output_type": "display_data"
    },
    {
     "name": "stdout",
     "output_type": "stream",
     "text": [
      "AUC: RegVelo: 0.5900000000000001 Cor: 0.72 GRNBoost2: 0.695 CellOracle: 0.515\n",
      "13\n"
     ]
    },
    {
     "name": "stderr",
     "output_type": "stream",
     "text": [
      "GPU available: True (cuda), used: True\n",
      "TPU available: False, using: 0 TPU cores\n",
      "IPU available: False, using: 0 IPUs\n",
      "HPU available: False, using: 0 HPUs\n",
      "LOCAL_RANK: 0 - CUDA_VISIBLE_DEVICES: [0]\n"
     ]
    },
    {
     "name": "stdout",
     "output_type": "stream",
     "text": [
      "Epoch 619/1500:  41%|████▏     | 619/1500 [02:24<03:25,  4.28it/s, loss=-16.7, v_num=1]  \n",
      "Monitored metric elbo_validation did not improve in the last 45 records. Best score: -14.197. Signaling Trainer to stop.\n",
      "RegVelo: 0.7070041613351828\n",
      "recovering dynamics (using 1/112 cores)\n"
     ]
    },
    {
     "name": "stderr",
     "output_type": "stream",
     "text": [
      "GPU available: True (cuda), used: True\n",
      "TPU available: False, using: 0 TPU cores\n",
      "IPU available: False, using: 0 IPUs\n",
      "HPU available: False, using: 0 HPUs\n",
      "LOCAL_RANK: 0 - CUDA_VISIBLE_DEVICES: [0]\n"
     ]
    },
    {
     "name": "stdout",
     "output_type": "stream",
     "text": [
      "    finished (0:00:00) --> added \n",
      "    'fit_pars', fitted parameters for splicing dynamics (adata.var)\n",
      "computing velocities\n",
      "WARNING: Too few genes are selected as velocity genes. Consider setting a lower threshold for min_r2 or min_likelihood.\n",
      "    finished (0:00:00) --> added \n",
      "    'velocity', velocity vectors for each individual cell (adata.layers)\n",
      "scVelo: 0.6968004848234425\n",
      "Epoch 295/500:  59%|█████▉    | 295/500 [00:28<00:19, 10.35it/s, loss=-12.9, v_num=1]\n",
      "Monitored metric elbo_validation did not improve in the last 45 records. Best score: -12.133. Signaling Trainer to stop.\n",
      "veloVI: SignificanceResult(statistic=0.49948051399087784, pvalue=1.8227489669365437e-95)\n",
      "initiating Net object ...\n",
      "gem_shape: (1500, 6)\n",
      "TF info shape: (6, 8)\n",
      "initiation completed.\n"
     ]
    },
    {
     "data": {
      "application/vnd.jupyter.widget-view+json": {
       "model_id": "ea9b12c885664330a0b517b9de8dd977",
       "version_major": 2,
       "version_minor": 0
      },
      "text/plain": [
       "  0%|          | 0/6 [00:00<?, ?it/s]"
      ]
     },
     "metadata": {},
     "output_type": "display_data"
    },
    {
     "data": {
      "application/vnd.jupyter.widget-view+json": {
       "model_id": "83f967213d6c4a7b82de389a9297c5aa",
       "version_major": 2,
       "version_minor": 0
      },
      "text/plain": [
       "  0%|          | 0/6 [00:00<?, ?it/s]"
      ]
     },
     "metadata": {},
     "output_type": "display_data"
    },
    {
     "name": "stdout",
     "output_type": "stream",
     "text": [
      "AUC: RegVelo: 0.7300000000000001 Cor: 0.58 GRNBoost2: 0.445 CellOracle: 0.61\n",
      "14\n"
     ]
    },
    {
     "name": "stderr",
     "output_type": "stream",
     "text": [
      "GPU available: True (cuda), used: True\n",
      "TPU available: False, using: 0 TPU cores\n",
      "IPU available: False, using: 0 IPUs\n",
      "HPU available: False, using: 0 HPUs\n",
      "LOCAL_RANK: 0 - CUDA_VISIBLE_DEVICES: [0]\n"
     ]
    },
    {
     "name": "stdout",
     "output_type": "stream",
     "text": [
      "Epoch 825/1500:  55%|█████▌    | 825/1500 [03:02<02:29,  4.52it/s, loss=-16.4, v_num=1]   \n",
      "Monitored metric elbo_validation did not improve in the last 45 records. Best score: -16.006. Signaling Trainer to stop.\n",
      "RegVelo: 0.8184896899954179\n",
      "recovering dynamics (using 1/112 cores)\n"
     ]
    },
    {
     "name": "stderr",
     "output_type": "stream",
     "text": [
      "GPU available: True (cuda), used: True\n",
      "TPU available: False, using: 0 TPU cores\n",
      "IPU available: False, using: 0 IPUs\n",
      "HPU available: False, using: 0 HPUs\n",
      "LOCAL_RANK: 0 - CUDA_VISIBLE_DEVICES: [0]\n"
     ]
    },
    {
     "name": "stdout",
     "output_type": "stream",
     "text": [
      "    finished (0:00:00) --> added \n",
      "    'fit_pars', fitted parameters for splicing dynamics (adata.var)\n",
      "computing velocities\n",
      "WARNING: Too few genes are selected as velocity genes. Consider setting a lower threshold for min_r2 or min_likelihood.\n",
      "    finished (0:00:00) --> added \n",
      "    'velocity', velocity vectors for each individual cell (adata.layers)\n",
      "scVelo: 0.7369520378439556\n",
      "Epoch 331/500:  66%|██████▌   | 331/500 [00:32<00:16, 10.29it/s, loss=-8.43, v_num=1]\n",
      "Monitored metric elbo_validation did not improve in the last 45 records. Best score: -7.396. Signaling Trainer to stop.\n",
      "veloVI: SignificanceResult(statistic=0.4783821112809383, pvalue=1.2606926671936429e-86)\n",
      "initiating Net object ...\n",
      "gem_shape: (1500, 6)\n",
      "TF info shape: (6, 8)\n",
      "initiation completed.\n"
     ]
    },
    {
     "data": {
      "application/vnd.jupyter.widget-view+json": {
       "model_id": "aa4acf3de97c4de5837671d4c9021f8d",
       "version_major": 2,
       "version_minor": 0
      },
      "text/plain": [
       "  0%|          | 0/6 [00:00<?, ?it/s]"
      ]
     },
     "metadata": {},
     "output_type": "display_data"
    },
    {
     "data": {
      "application/vnd.jupyter.widget-view+json": {
       "model_id": "eca644cd6ff34874917a8a82c9f9d77c",
       "version_major": 2,
       "version_minor": 0
      },
      "text/plain": [
       "  0%|          | 0/6 [00:00<?, ?it/s]"
      ]
     },
     "metadata": {},
     "output_type": "display_data"
    },
    {
     "name": "stdout",
     "output_type": "stream",
     "text": [
      "AUC: RegVelo: 0.6699999999999999 Cor: 0.6399999999999999 GRNBoost2: 0.6699999999999999 CellOracle: 0.485\n",
      "15\n"
     ]
    },
    {
     "name": "stderr",
     "output_type": "stream",
     "text": [
      "GPU available: True (cuda), used: True\n",
      "TPU available: False, using: 0 TPU cores\n",
      "IPU available: False, using: 0 IPUs\n",
      "HPU available: False, using: 0 HPUs\n",
      "LOCAL_RANK: 0 - CUDA_VISIBLE_DEVICES: [0]\n"
     ]
    },
    {
     "name": "stdout",
     "output_type": "stream",
     "text": [
      "Epoch 577/1500:  38%|███▊      | 577/1500 [02:11<03:30,  4.39it/s, loss=-12.6, v_num=1]  \n",
      "Monitored metric elbo_validation did not improve in the last 45 records. Best score: -11.506. Signaling Trainer to stop.\n",
      "RegVelo: 0.8688455665980297\n",
      "recovering dynamics (using 1/112 cores)\n"
     ]
    },
    {
     "name": "stderr",
     "output_type": "stream",
     "text": [
      "GPU available: True (cuda), used: True\n",
      "TPU available: False, using: 0 TPU cores\n",
      "IPU available: False, using: 0 IPUs\n",
      "HPU available: False, using: 0 HPUs\n",
      "LOCAL_RANK: 0 - CUDA_VISIBLE_DEVICES: [0]\n"
     ]
    },
    {
     "name": "stdout",
     "output_type": "stream",
     "text": [
      "    finished (0:00:00) --> added \n",
      "    'fit_pars', fitted parameters for splicing dynamics (adata.var)\n",
      "computing velocities\n",
      "WARNING: Too few genes are selected as velocity genes. Consider setting a lower threshold for min_r2 or min_likelihood.\n",
      "    finished (0:00:00) --> added \n",
      "    'velocity', velocity vectors for each individual cell (adata.layers)\n",
      "scVelo: 0.9212902636389251\n",
      "Epoch 186/500:  37%|███▋      | 186/500 [00:18<00:30, 10.22it/s, loss=-6.48, v_num=1]\n",
      "Monitored metric elbo_validation did not improve in the last 45 records. Best score: -5.134. Signaling Trainer to stop.\n",
      "veloVI: SignificanceResult(statistic=0.61085794260353, pvalue=4.02328799726801e-154)\n",
      "initiating Net object ...\n",
      "gem_shape: (1500, 6)\n",
      "TF info shape: (6, 8)\n",
      "initiation completed.\n"
     ]
    },
    {
     "data": {
      "application/vnd.jupyter.widget-view+json": {
       "model_id": "634b4ba95bb1463d9f45207b47aaca0b",
       "version_major": 2,
       "version_minor": 0
      },
      "text/plain": [
       "  0%|          | 0/6 [00:00<?, ?it/s]"
      ]
     },
     "metadata": {},
     "output_type": "display_data"
    },
    {
     "data": {
      "application/vnd.jupyter.widget-view+json": {
       "model_id": "55af0dfaacf34ce9ad8743b046a2c21b",
       "version_major": 2,
       "version_minor": 0
      },
      "text/plain": [
       "  0%|          | 0/6 [00:00<?, ?it/s]"
      ]
     },
     "metadata": {},
     "output_type": "display_data"
    },
    {
     "name": "stdout",
     "output_type": "stream",
     "text": [
      "AUC: RegVelo: 0.6900000000000001 Cor: 0.6099999999999999 GRNBoost2: 0.67 CellOracle: 0.6\n",
      "16\n"
     ]
    },
    {
     "name": "stderr",
     "output_type": "stream",
     "text": [
      "GPU available: True (cuda), used: True\n",
      "TPU available: False, using: 0 TPU cores\n",
      "IPU available: False, using: 0 IPUs\n",
      "HPU available: False, using: 0 HPUs\n",
      "LOCAL_RANK: 0 - CUDA_VISIBLE_DEVICES: [0]\n"
     ]
    },
    {
     "name": "stdout",
     "output_type": "stream",
     "text": [
      "Epoch 917/1500:  61%|██████    | 917/1500 [03:59<02:32,  3.83it/s, loss=-16.9, v_num=1]  \n",
      "Monitored metric elbo_validation did not improve in the last 45 records. Best score: -16.223. Signaling Trainer to stop.\n",
      "RegVelo: 0.8583252675741858\n",
      "recovering dynamics (using 1/112 cores)\n"
     ]
    },
    {
     "name": "stderr",
     "output_type": "stream",
     "text": [
      "GPU available: True (cuda), used: True\n",
      "TPU available: False, using: 0 TPU cores\n",
      "IPU available: False, using: 0 IPUs\n",
      "HPU available: False, using: 0 HPUs\n",
      "LOCAL_RANK: 0 - CUDA_VISIBLE_DEVICES: [0]\n"
     ]
    },
    {
     "name": "stdout",
     "output_type": "stream",
     "text": [
      "    finished (0:00:00) --> added \n",
      "    'fit_pars', fitted parameters for splicing dynamics (adata.var)\n",
      "computing velocities\n",
      "WARNING: Too few genes are selected as velocity genes. Consider setting a lower threshold for min_r2 or min_likelihood.\n",
      "    finished (0:00:00) --> added \n",
      "    'velocity', velocity vectors for each individual cell (adata.layers)\n",
      "scVelo: 0.790772012593828\n",
      "Epoch 155/500:  31%|███       | 155/500 [00:14<00:33, 10.37it/s, loss=-10.5, v_num=1]\n",
      "Monitored metric elbo_validation did not improve in the last 45 records. Best score: -6.838. Signaling Trainer to stop.\n",
      "veloVI: SignificanceResult(statistic=-0.3100505718536325, pvalue=8.7676442161543e-35)\n",
      "initiating Net object ...\n",
      "gem_shape: (1500, 6)\n",
      "TF info shape: (6, 8)\n",
      "initiation completed.\n"
     ]
    },
    {
     "data": {
      "application/vnd.jupyter.widget-view+json": {
       "model_id": "885c79fdbd214491b93546d0f9dd7208",
       "version_major": 2,
       "version_minor": 0
      },
      "text/plain": [
       "  0%|          | 0/6 [00:00<?, ?it/s]"
      ]
     },
     "metadata": {},
     "output_type": "display_data"
    },
    {
     "data": {
      "application/vnd.jupyter.widget-view+json": {
       "model_id": "452311ef40d0467a8b95c722876ac3dd",
       "version_major": 2,
       "version_minor": 0
      },
      "text/plain": [
       "  0%|          | 0/6 [00:00<?, ?it/s]"
      ]
     },
     "metadata": {},
     "output_type": "display_data"
    },
    {
     "name": "stdout",
     "output_type": "stream",
     "text": [
      "AUC: RegVelo: 0.805 Cor: 0.58 GRNBoost2: 0.6 CellOracle: 0.43499999999999994\n",
      "17\n"
     ]
    },
    {
     "name": "stderr",
     "output_type": "stream",
     "text": [
      "GPU available: True (cuda), used: True\n",
      "TPU available: False, using: 0 TPU cores\n",
      "IPU available: False, using: 0 IPUs\n",
      "HPU available: False, using: 0 HPUs\n",
      "LOCAL_RANK: 0 - CUDA_VISIBLE_DEVICES: [0]\n"
     ]
    },
    {
     "name": "stdout",
     "output_type": "stream",
     "text": [
      "Epoch 544/1500:  36%|███▋      | 544/1500 [01:55<03:22,  4.71it/s, loss=-14, v_num=1]    \n",
      "Monitored metric elbo_validation did not improve in the last 45 records. Best score: -12.188. Signaling Trainer to stop.\n",
      "RegVelo: 0.7208358652603846\n",
      "recovering dynamics (using 1/112 cores)\n"
     ]
    },
    {
     "name": "stderr",
     "output_type": "stream",
     "text": [
      "GPU available: True (cuda), used: True\n",
      "TPU available: False, using: 0 TPU cores\n",
      "IPU available: False, using: 0 IPUs\n",
      "HPU available: False, using: 0 HPUs\n",
      "LOCAL_RANK: 0 - CUDA_VISIBLE_DEVICES: [0]\n"
     ]
    },
    {
     "name": "stdout",
     "output_type": "stream",
     "text": [
      "    finished (0:00:00) --> added \n",
      "    'fit_pars', fitted parameters for splicing dynamics (adata.var)\n",
      "computing velocities\n",
      "WARNING: Too few genes are selected as velocity genes. Consider setting a lower threshold for min_r2 or min_likelihood.\n",
      "    finished (0:00:00) --> added \n",
      "    'velocity', velocity vectors for each individual cell (adata.layers)\n",
      "scVelo: 0.8706485552837947\n",
      "Epoch 315/500:  63%|██████▎   | 315/500 [00:30<00:17, 10.48it/s, loss=-10.1, v_num=1]\n",
      "Monitored metric elbo_validation did not improve in the last 45 records. Best score: -9.433. Signaling Trainer to stop.\n",
      "veloVI: SignificanceResult(statistic=0.681254493001997, pvalue=3.6269231493388385e-205)\n",
      "initiating Net object ...\n",
      "gem_shape: (1500, 6)\n",
      "TF info shape: (6, 8)\n",
      "initiation completed.\n"
     ]
    },
    {
     "data": {
      "application/vnd.jupyter.widget-view+json": {
       "model_id": "9074f21924b446b082aadd6761a2c863",
       "version_major": 2,
       "version_minor": 0
      },
      "text/plain": [
       "  0%|          | 0/6 [00:00<?, ?it/s]"
      ]
     },
     "metadata": {},
     "output_type": "display_data"
    },
    {
     "data": {
      "application/vnd.jupyter.widget-view+json": {
       "model_id": "a82e8d549f1349b6b0e382a87b791c4f",
       "version_major": 2,
       "version_minor": 0
      },
      "text/plain": [
       "  0%|          | 0/6 [00:00<?, ?it/s]"
      ]
     },
     "metadata": {},
     "output_type": "display_data"
    },
    {
     "name": "stdout",
     "output_type": "stream",
     "text": [
      "AUC: RegVelo: 0.665 Cor: 0.5800000000000001 GRNBoost2: 0.43000000000000005 CellOracle: 0.575\n",
      "18\n"
     ]
    },
    {
     "name": "stderr",
     "output_type": "stream",
     "text": [
      "GPU available: True (cuda), used: True\n",
      "TPU available: False, using: 0 TPU cores\n",
      "IPU available: False, using: 0 IPUs\n",
      "HPU available: False, using: 0 HPUs\n",
      "LOCAL_RANK: 0 - CUDA_VISIBLE_DEVICES: [0]\n"
     ]
    },
    {
     "name": "stdout",
     "output_type": "stream",
     "text": [
      "Epoch 781/1500:  52%|█████▏    | 781/1500 [03:02<02:48,  4.27it/s, loss=-16.3, v_num=1]  \n",
      "Monitored metric elbo_validation did not improve in the last 45 records. Best score: -15.524. Signaling Trainer to stop.\n",
      "RegVelo: 0.9219265573006922\n",
      "recovering dynamics (using 1/112 cores)\n"
     ]
    },
    {
     "name": "stderr",
     "output_type": "stream",
     "text": [
      "GPU available: True (cuda), used: True\n",
      "TPU available: False, using: 0 TPU cores\n",
      "IPU available: False, using: 0 IPUs\n",
      "HPU available: False, using: 0 HPUs\n",
      "LOCAL_RANK: 0 - CUDA_VISIBLE_DEVICES: [0]\n"
     ]
    },
    {
     "name": "stdout",
     "output_type": "stream",
     "text": [
      "    finished (0:00:00) --> added \n",
      "    'fit_pars', fitted parameters for splicing dynamics (adata.var)\n",
      "computing velocities\n",
      "WARNING: Too few genes are selected as velocity genes. Consider setting a lower threshold for min_r2 or min_likelihood.\n",
      "    finished (0:00:00) --> added \n",
      "    'velocity', velocity vectors for each individual cell (adata.layers)\n",
      "scVelo: 0.721354370912575\n",
      "Epoch 299/500:  60%|█████▉    | 299/500 [00:28<00:19, 10.43it/s, loss=-8.61, v_num=1]\n",
      "Monitored metric elbo_validation did not improve in the last 45 records. Best score: -8.626. Signaling Trainer to stop.\n",
      "veloVI: SignificanceResult(statistic=0.7078724639433175, pvalue=1.935485914877957e-228)\n",
      "initiating Net object ...\n",
      "gem_shape: (1500, 6)\n",
      "TF info shape: (6, 8)\n",
      "initiation completed.\n"
     ]
    },
    {
     "data": {
      "application/vnd.jupyter.widget-view+json": {
       "model_id": "fa928faa259f44bb826c2468c7377b7d",
       "version_major": 2,
       "version_minor": 0
      },
      "text/plain": [
       "  0%|          | 0/6 [00:00<?, ?it/s]"
      ]
     },
     "metadata": {},
     "output_type": "display_data"
    },
    {
     "data": {
      "application/vnd.jupyter.widget-view+json": {
       "model_id": "b7cbe6dbedef42788e3e3c2b4bc3353d",
       "version_major": 2,
       "version_minor": 0
      },
      "text/plain": [
       "  0%|          | 0/6 [00:00<?, ?it/s]"
      ]
     },
     "metadata": {},
     "output_type": "display_data"
    },
    {
     "name": "stdout",
     "output_type": "stream",
     "text": [
      "AUC: RegVelo: 0.6599999999999999 Cor: 0.42 GRNBoost2: 0.5800000000000001 CellOracle: 0.6000000000000001\n",
      "19\n"
     ]
    },
    {
     "name": "stderr",
     "output_type": "stream",
     "text": [
      "GPU available: True (cuda), used: True\n",
      "TPU available: False, using: 0 TPU cores\n",
      "IPU available: False, using: 0 IPUs\n",
      "HPU available: False, using: 0 HPUs\n",
      "LOCAL_RANK: 0 - CUDA_VISIBLE_DEVICES: [0]\n"
     ]
    },
    {
     "name": "stdout",
     "output_type": "stream",
     "text": [
      "Epoch 545/1500:  36%|███▋      | 545/1500 [01:59<03:28,  4.57it/s, loss=-11.9, v_num=1]  \n",
      "Monitored metric elbo_validation did not improve in the last 45 records. Best score: -10.918. Signaling Trainer to stop.\n",
      "RegVelo: 0.9262633485614885\n",
      "recovering dynamics (using 1/112 cores)\n"
     ]
    },
    {
     "name": "stderr",
     "output_type": "stream",
     "text": [
      "GPU available: True (cuda), used: True\n",
      "TPU available: False, using: 0 TPU cores\n",
      "IPU available: False, using: 0 IPUs\n",
      "HPU available: False, using: 0 HPUs\n",
      "LOCAL_RANK: 0 - CUDA_VISIBLE_DEVICES: [0]\n"
     ]
    },
    {
     "name": "stdout",
     "output_type": "stream",
     "text": [
      "    finished (0:00:00) --> added \n",
      "    'fit_pars', fitted parameters for splicing dynamics (adata.var)\n",
      "computing velocities\n",
      "WARNING: Too few genes are selected as velocity genes. Consider setting a lower threshold for min_r2 or min_likelihood.\n",
      "    finished (0:00:00) --> added \n",
      "    'velocity', velocity vectors for each individual cell (adata.layers)\n",
      "scVelo: 0.7369029791651848\n",
      "Epoch 273/500:  55%|█████▍    | 273/500 [00:26<00:21, 10.38it/s, loss=-5.86, v_num=1]\n",
      "Monitored metric elbo_validation did not improve in the last 45 records. Best score: -4.960. Signaling Trainer to stop.\n",
      "veloVI: SignificanceResult(statistic=-0.31861909983071107, pvalue=9.700476865237579e-37)\n",
      "initiating Net object ...\n",
      "gem_shape: (1500, 6)\n",
      "TF info shape: (6, 8)\n",
      "initiation completed.\n"
     ]
    },
    {
     "data": {
      "application/vnd.jupyter.widget-view+json": {
       "model_id": "d59fe263f1894fa587566ba407bdcb99",
       "version_major": 2,
       "version_minor": 0
      },
      "text/plain": [
       "  0%|          | 0/6 [00:00<?, ?it/s]"
      ]
     },
     "metadata": {},
     "output_type": "display_data"
    },
    {
     "data": {
      "application/vnd.jupyter.widget-view+json": {
       "model_id": "a28a73ef17b04fcf93e1decb75c87757",
       "version_major": 2,
       "version_minor": 0
      },
      "text/plain": [
       "  0%|          | 0/6 [00:00<?, ?it/s]"
      ]
     },
     "metadata": {},
     "output_type": "display_data"
    },
    {
     "name": "stdout",
     "output_type": "stream",
     "text": [
      "AUC: RegVelo: 0.605 Cor: 0.7299999999999999 GRNBoost2: 0.71 CellOracle: 0.49499999999999994\n",
      "20\n"
     ]
    },
    {
     "name": "stderr",
     "output_type": "stream",
     "text": [
      "GPU available: True (cuda), used: True\n",
      "TPU available: False, using: 0 TPU cores\n",
      "IPU available: False, using: 0 IPUs\n",
      "HPU available: False, using: 0 HPUs\n",
      "LOCAL_RANK: 0 - CUDA_VISIBLE_DEVICES: [0]\n"
     ]
    },
    {
     "name": "stdout",
     "output_type": "stream",
     "text": [
      "Epoch 963/1500:  64%|██████▍   | 963/1500 [03:59<02:13,  4.02it/s, loss=-15, v_num=1]     \n",
      "Monitored metric elbo_validation did not improve in the last 45 records. Best score: -14.599. Signaling Trainer to stop.\n",
      "RegVelo: 0.9980158320070366\n",
      "recovering dynamics (using 1/112 cores)\n"
     ]
    },
    {
     "name": "stderr",
     "output_type": "stream",
     "text": [
      "GPU available: True (cuda), used: True\n",
      "TPU available: False, using: 0 TPU cores\n",
      "IPU available: False, using: 0 IPUs\n",
      "HPU available: False, using: 0 HPUs\n",
      "LOCAL_RANK: 0 - CUDA_VISIBLE_DEVICES: [0]\n"
     ]
    },
    {
     "name": "stdout",
     "output_type": "stream",
     "text": [
      "    finished (0:00:00) --> added \n",
      "    'fit_pars', fitted parameters for splicing dynamics (adata.var)\n",
      "computing velocities\n",
      "WARNING: Too few genes are selected as velocity genes. Consider setting a lower threshold for min_r2 or min_likelihood.\n",
      "    finished (0:00:00) --> added \n",
      "    'velocity', velocity vectors for each individual cell (adata.layers)\n",
      "scVelo: 0.010839866767564115\n",
      "Epoch 307/500:  61%|██████▏   | 307/500 [00:32<00:20,  9.43it/s, loss=-8.88, v_num=1]\n",
      "Monitored metric elbo_validation did not improve in the last 45 records. Best score: -7.518. Signaling Trainer to stop.\n",
      "veloVI: SignificanceResult(statistic=0.6593213845872821, pvalue=8.889989188869216e-188)\n",
      "initiating Net object ...\n",
      "gem_shape: (1500, 6)\n",
      "TF info shape: (6, 8)\n",
      "initiation completed.\n"
     ]
    },
    {
     "data": {
      "application/vnd.jupyter.widget-view+json": {
       "model_id": "c1f029a1ee8b477d9b84bc0e39894411",
       "version_major": 2,
       "version_minor": 0
      },
      "text/plain": [
       "  0%|          | 0/6 [00:00<?, ?it/s]"
      ]
     },
     "metadata": {},
     "output_type": "display_data"
    },
    {
     "data": {
      "application/vnd.jupyter.widget-view+json": {
       "model_id": "6812c9f262f84f568ac86158084105f8",
       "version_major": 2,
       "version_minor": 0
      },
      "text/plain": [
       "  0%|          | 0/6 [00:00<?, ?it/s]"
      ]
     },
     "metadata": {},
     "output_type": "display_data"
    },
    {
     "name": "stdout",
     "output_type": "stream",
     "text": [
      "AUC: RegVelo: 0.515 Cor: 0.6599999999999999 GRNBoost2: 0.645 CellOracle: 0.485\n",
      "21\n"
     ]
    },
    {
     "name": "stderr",
     "output_type": "stream",
     "text": [
      "GPU available: True (cuda), used: True\n",
      "TPU available: False, using: 0 TPU cores\n",
      "IPU available: False, using: 0 IPUs\n",
      "HPU available: False, using: 0 HPUs\n",
      "LOCAL_RANK: 0 - CUDA_VISIBLE_DEVICES: [0]\n"
     ]
    },
    {
     "name": "stdout",
     "output_type": "stream",
     "text": [
      "Epoch 528/1500:  35%|███▌      | 528/1500 [01:28<02:43,  5.95it/s, loss=-14.3, v_num=1]  \n",
      "Monitored metric elbo_validation did not improve in the last 45 records. Best score: -12.227. Signaling Trainer to stop.\n",
      "RegVelo: 0.8459365893051508\n",
      "recovering dynamics (using 1/112 cores)\n"
     ]
    },
    {
     "name": "stderr",
     "output_type": "stream",
     "text": [
      "GPU available: True (cuda), used: True\n",
      "TPU available: False, using: 0 TPU cores\n",
      "IPU available: False, using: 0 IPUs\n",
      "HPU available: False, using: 0 HPUs\n",
      "LOCAL_RANK: 0 - CUDA_VISIBLE_DEVICES: [0]\n"
     ]
    },
    {
     "name": "stdout",
     "output_type": "stream",
     "text": [
      "    finished (0:00:01) --> added \n",
      "    'fit_pars', fitted parameters for splicing dynamics (adata.var)\n",
      "computing velocities\n",
      "WARNING: Too few genes are selected as velocity genes. Consider setting a lower threshold for min_r2 or min_likelihood.\n",
      "    finished (0:00:00) --> added \n",
      "    'velocity', velocity vectors for each individual cell (adata.layers)\n",
      "scVelo: 0.8513310835890496\n",
      "Epoch 225/500:  45%|████▌     | 225/500 [00:21<00:26, 10.43it/s, loss=-9.37, v_num=1]\n",
      "Monitored metric elbo_validation did not improve in the last 45 records. Best score: -8.068. Signaling Trainer to stop.\n",
      "veloVI: SignificanceResult(statistic=-0.21990094059588555, pvalue=6.9763500188644e-18)\n",
      "initiating Net object ...\n",
      "gem_shape: (1500, 6)\n",
      "TF info shape: (6, 8)\n",
      "initiation completed.\n"
     ]
    },
    {
     "data": {
      "application/vnd.jupyter.widget-view+json": {
       "model_id": "18a3b1e990d84e86b6ce3c97d2a80756",
       "version_major": 2,
       "version_minor": 0
      },
      "text/plain": [
       "  0%|          | 0/6 [00:00<?, ?it/s]"
      ]
     },
     "metadata": {},
     "output_type": "display_data"
    },
    {
     "data": {
      "application/vnd.jupyter.widget-view+json": {
       "model_id": "5393ae67766246bd92e768442c2f04eb",
       "version_major": 2,
       "version_minor": 0
      },
      "text/plain": [
       "  0%|          | 0/6 [00:00<?, ?it/s]"
      ]
     },
     "metadata": {},
     "output_type": "display_data"
    },
    {
     "name": "stdout",
     "output_type": "stream",
     "text": [
      "AUC: RegVelo: 0.6000000000000001 Cor: 0.71 GRNBoost2: 0.64 CellOracle: 0.515\n",
      "22\n"
     ]
    },
    {
     "name": "stderr",
     "output_type": "stream",
     "text": [
      "GPU available: True (cuda), used: True\n",
      "TPU available: False, using: 0 TPU cores\n",
      "IPU available: False, using: 0 IPUs\n",
      "HPU available: False, using: 0 HPUs\n",
      "LOCAL_RANK: 0 - CUDA_VISIBLE_DEVICES: [0]\n"
     ]
    },
    {
     "name": "stdout",
     "output_type": "stream",
     "text": [
      "Epoch 1062/1500:  71%|███████   | 1062/1500 [04:10<01:43,  4.24it/s, loss=-14.1, v_num=1] \n",
      "Monitored metric elbo_validation did not improve in the last 45 records. Best score: -14.395. Signaling Trainer to stop.\n",
      "RegVelo: 0.9891166564962919\n",
      "recovering dynamics (using 1/112 cores)\n"
     ]
    },
    {
     "name": "stderr",
     "output_type": "stream",
     "text": [
      "GPU available: True (cuda), used: True\n",
      "TPU available: False, using: 0 TPU cores\n",
      "IPU available: False, using: 0 IPUs\n",
      "HPU available: False, using: 0 HPUs\n",
      "LOCAL_RANK: 0 - CUDA_VISIBLE_DEVICES: [0]\n"
     ]
    },
    {
     "name": "stdout",
     "output_type": "stream",
     "text": [
      "    finished (0:00:00) --> added \n",
      "    'fit_pars', fitted parameters for splicing dynamics (adata.var)\n",
      "computing velocities\n",
      "WARNING: Too few genes are selected as velocity genes. Consider setting a lower threshold for min_r2 or min_likelihood.\n",
      "    finished (0:00:00) --> added \n",
      "    'velocity', velocity vectors for each individual cell (adata.layers)\n",
      "scVelo: 0.6809972179168357\n",
      "Epoch 395/500:  79%|███████▉  | 395/500 [00:37<00:10, 10.49it/s, loss=-5.22, v_num=1]\n",
      "Monitored metric elbo_validation did not improve in the last 45 records. Best score: -5.847. Signaling Trainer to stop.\n",
      "veloVI: SignificanceResult(statistic=0.30401669538876835, pvalue=1.914319430845313e-33)\n",
      "initiating Net object ...\n",
      "gem_shape: (1500, 6)\n",
      "TF info shape: (6, 8)\n",
      "initiation completed.\n"
     ]
    },
    {
     "data": {
      "application/vnd.jupyter.widget-view+json": {
       "model_id": "6d233a832dbd47c8ab9e663e36cf94a1",
       "version_major": 2,
       "version_minor": 0
      },
      "text/plain": [
       "  0%|          | 0/6 [00:00<?, ?it/s]"
      ]
     },
     "metadata": {},
     "output_type": "display_data"
    },
    {
     "data": {
      "application/vnd.jupyter.widget-view+json": {
       "model_id": "454c7e599c9a4463b66f0989d4c85e97",
       "version_major": 2,
       "version_minor": 0
      },
      "text/plain": [
       "  0%|          | 0/6 [00:00<?, ?it/s]"
      ]
     },
     "metadata": {},
     "output_type": "display_data"
    },
    {
     "name": "stdout",
     "output_type": "stream",
     "text": [
      "AUC: RegVelo: 0.535 Cor: 0.63 GRNBoost2: 0.535 CellOracle: 0.5\n",
      "23\n"
     ]
    },
    {
     "name": "stderr",
     "output_type": "stream",
     "text": [
      "GPU available: True (cuda), used: True\n",
      "TPU available: False, using: 0 TPU cores\n",
      "IPU available: False, using: 0 IPUs\n",
      "HPU available: False, using: 0 HPUs\n",
      "LOCAL_RANK: 0 - CUDA_VISIBLE_DEVICES: [0]\n"
     ]
    },
    {
     "name": "stdout",
     "output_type": "stream",
     "text": [
      "Epoch 784/1500:  52%|█████▏    | 784/1500 [02:42<02:28,  4.83it/s, loss=-15, v_num=1]    \n",
      "Monitored metric elbo_validation did not improve in the last 45 records. Best score: -14.988. Signaling Trainer to stop.\n",
      "RegVelo: 0.9837592247818777\n",
      "recovering dynamics (using 1/112 cores)\n"
     ]
    },
    {
     "name": "stderr",
     "output_type": "stream",
     "text": [
      "GPU available: True (cuda), used: True\n",
      "TPU available: False, using: 0 TPU cores\n",
      "IPU available: False, using: 0 IPUs\n",
      "HPU available: False, using: 0 HPUs\n",
      "LOCAL_RANK: 0 - CUDA_VISIBLE_DEVICES: [0]\n"
     ]
    },
    {
     "name": "stdout",
     "output_type": "stream",
     "text": [
      "    finished (0:00:00) --> added \n",
      "    'fit_pars', fitted parameters for splicing dynamics (adata.var)\n",
      "computing velocities\n",
      "WARNING: Too few genes are selected as velocity genes. Consider setting a lower threshold for min_r2 or min_likelihood.\n",
      "    finished (0:00:00) --> added \n",
      "    'velocity', velocity vectors for each individual cell (adata.layers)\n",
      "scVelo: 0.7420316714866189\n",
      "Epoch 180/500:  36%|███▌      | 180/500 [00:17<00:30, 10.53it/s, loss=-8.42, v_num=1]\n",
      "Monitored metric elbo_validation did not improve in the last 45 records. Best score: -5.950. Signaling Trainer to stop.\n",
      "veloVI: SignificanceResult(statistic=0.8057425767744787, pvalue=0.0)\n",
      "initiating Net object ...\n",
      "gem_shape: (1500, 6)\n",
      "TF info shape: (6, 8)\n",
      "initiation completed.\n"
     ]
    },
    {
     "data": {
      "application/vnd.jupyter.widget-view+json": {
       "model_id": "a2c166f362064245a68b231524a61844",
       "version_major": 2,
       "version_minor": 0
      },
      "text/plain": [
       "  0%|          | 0/6 [00:00<?, ?it/s]"
      ]
     },
     "metadata": {},
     "output_type": "display_data"
    },
    {
     "data": {
      "application/vnd.jupyter.widget-view+json": {
       "model_id": "9f4e4d5fa9d6460aadb43a6744b0a2f1",
       "version_major": 2,
       "version_minor": 0
      },
      "text/plain": [
       "  0%|          | 0/6 [00:00<?, ?it/s]"
      ]
     },
     "metadata": {},
     "output_type": "display_data"
    },
    {
     "name": "stdout",
     "output_type": "stream",
     "text": [
      "AUC: RegVelo: 0.5700000000000001 Cor: 0.6000000000000001 GRNBoost2: 0.67 CellOracle: 0.49\n",
      "24\n"
     ]
    },
    {
     "name": "stderr",
     "output_type": "stream",
     "text": [
      "GPU available: True (cuda), used: True\n",
      "TPU available: False, using: 0 TPU cores\n",
      "IPU available: False, using: 0 IPUs\n",
      "HPU available: False, using: 0 HPUs\n",
      "LOCAL_RANK: 0 - CUDA_VISIBLE_DEVICES: [0]\n"
     ]
    },
    {
     "name": "stdout",
     "output_type": "stream",
     "text": [
      "Epoch 456/1500:  30%|███       | 456/1500 [01:16<02:54,  5.97it/s, loss=-11.2, v_num=1]  \n",
      "Monitored metric elbo_validation did not improve in the last 45 records. Best score: -9.406. Signaling Trainer to stop.\n",
      "RegVelo: 0.8817135162119749\n",
      "recovering dynamics (using 1/112 cores)\n",
      "    finished (0:00:00) --> added \n",
      "    'fit_pars', fitted parameters for splicing dynamics (adata.var)\n",
      "computing velocities\n",
      "WARNING: Too few genes are selected as velocity genes. Consider setting a lower threshold for min_r2 or min_likelihood.\n",
      "    finished (0:00:00) --> added \n",
      "    'velocity', velocity vectors for each individual cell (adata.layers)\n",
      "scVelo: 0.9063001330876089\n"
     ]
    },
    {
     "name": "stderr",
     "output_type": "stream",
     "text": [
      "GPU available: True (cuda), used: True\n",
      "TPU available: False, using: 0 TPU cores\n",
      "IPU available: False, using: 0 IPUs\n",
      "HPU available: False, using: 0 HPUs\n",
      "LOCAL_RANK: 0 - CUDA_VISIBLE_DEVICES: [0]\n"
     ]
    },
    {
     "name": "stdout",
     "output_type": "stream",
     "text": [
      "Epoch 333/500:  67%|██████▋   | 333/500 [00:32<00:16, 10.40it/s, loss=-6.79, v_num=1] \n",
      "Monitored metric elbo_validation did not improve in the last 45 records. Best score: -8.134. Signaling Trainer to stop.\n",
      "veloVI: SignificanceResult(statistic=0.14876115602607926, pvalue=7.083629541157328e-09)\n",
      "initiating Net object ...\n",
      "gem_shape: (1500, 6)\n",
      "TF info shape: (6, 8)\n",
      "initiation completed.\n"
     ]
    },
    {
     "data": {
      "application/vnd.jupyter.widget-view+json": {
       "model_id": "17ff9b57bcd74e09a7435e9942175fc4",
       "version_major": 2,
       "version_minor": 0
      },
      "text/plain": [
       "  0%|          | 0/6 [00:00<?, ?it/s]"
      ]
     },
     "metadata": {},
     "output_type": "display_data"
    },
    {
     "data": {
      "application/vnd.jupyter.widget-view+json": {
       "model_id": "da85f5472def4c0788bdb9552f9b2eb7",
       "version_major": 2,
       "version_minor": 0
      },
      "text/plain": [
       "  0%|          | 0/6 [00:00<?, ?it/s]"
      ]
     },
     "metadata": {},
     "output_type": "display_data"
    },
    {
     "name": "stdout",
     "output_type": "stream",
     "text": [
      "AUC: RegVelo: 0.6 Cor: 0.64 GRNBoost2: 0.63 CellOracle: 0.44999999999999996\n",
      "25\n"
     ]
    },
    {
     "name": "stderr",
     "output_type": "stream",
     "text": [
      "GPU available: True (cuda), used: True\n",
      "TPU available: False, using: 0 TPU cores\n",
      "IPU available: False, using: 0 IPUs\n",
      "HPU available: False, using: 0 HPUs\n",
      "LOCAL_RANK: 0 - CUDA_VISIBLE_DEVICES: [0]\n"
     ]
    },
    {
     "name": "stdout",
     "output_type": "stream",
     "text": [
      "Epoch 583/1500:  39%|███▉      | 583/1500 [01:44<02:44,  5.57it/s, loss=-12.3, v_num=1]  \n",
      "Monitored metric elbo_validation did not improve in the last 45 records. Best score: -11.003. Signaling Trainer to stop.\n",
      "RegVelo: 0.9631540885129283\n",
      "recovering dynamics (using 1/112 cores)\n"
     ]
    },
    {
     "name": "stderr",
     "output_type": "stream",
     "text": [
      "GPU available: True (cuda), used: True\n",
      "TPU available: False, using: 0 TPU cores\n",
      "IPU available: False, using: 0 IPUs\n",
      "HPU available: False, using: 0 HPUs\n",
      "LOCAL_RANK: 0 - CUDA_VISIBLE_DEVICES: [0]\n"
     ]
    },
    {
     "name": "stdout",
     "output_type": "stream",
     "text": [
      "    finished (0:00:00) --> added \n",
      "    'fit_pars', fitted parameters for splicing dynamics (adata.var)\n",
      "computing velocities\n",
      "WARNING: Too few genes are selected as velocity genes. Consider setting a lower threshold for min_r2 or min_likelihood.\n",
      "    finished (0:00:00) --> added \n",
      "    'velocity', velocity vectors for each individual cell (adata.layers)\n",
      "scVelo: 0.9286922126554104\n",
      "Epoch 390/500:  78%|███████▊  | 390/500 [00:36<00:10, 10.57it/s, loss=-8.08, v_num=1]\n",
      "Monitored metric elbo_validation did not improve in the last 45 records. Best score: -9.036. Signaling Trainer to stop.\n",
      "veloVI: SignificanceResult(statistic=0.7138400648178067, pvalue=5.058169861813207e-234)\n",
      "initiating Net object ...\n",
      "gem_shape: (1500, 6)\n",
      "TF info shape: (6, 8)\n",
      "initiation completed.\n"
     ]
    },
    {
     "data": {
      "application/vnd.jupyter.widget-view+json": {
       "model_id": "fa6acf8d6645432ea60000dae62d9471",
       "version_major": 2,
       "version_minor": 0
      },
      "text/plain": [
       "  0%|          | 0/6 [00:00<?, ?it/s]"
      ]
     },
     "metadata": {},
     "output_type": "display_data"
    },
    {
     "data": {
      "application/vnd.jupyter.widget-view+json": {
       "model_id": "f8061608dc88459bae599e867d5ea0c8",
       "version_major": 2,
       "version_minor": 0
      },
      "text/plain": [
       "  0%|          | 0/6 [00:00<?, ?it/s]"
      ]
     },
     "metadata": {},
     "output_type": "display_data"
    },
    {
     "name": "stdout",
     "output_type": "stream",
     "text": [
      "AUC: RegVelo: 0.665 Cor: 0.7499999999999999 GRNBoost2: 0.68 CellOracle: 0.5650000000000001\n",
      "26\n"
     ]
    },
    {
     "name": "stderr",
     "output_type": "stream",
     "text": [
      "GPU available: True (cuda), used: True\n",
      "TPU available: False, using: 0 TPU cores\n",
      "IPU available: False, using: 0 IPUs\n",
      "HPU available: False, using: 0 HPUs\n",
      "LOCAL_RANK: 0 - CUDA_VISIBLE_DEVICES: [0]\n"
     ]
    },
    {
     "name": "stdout",
     "output_type": "stream",
     "text": [
      "Epoch 673/1500:  45%|████▍     | 673/1500 [02:11<02:42,  5.10it/s, loss=-13.8, v_num=1]  \n",
      "Monitored metric elbo_validation did not improve in the last 45 records. Best score: -12.458. Signaling Trainer to stop.\n",
      "RegVelo: 0.8756893029730236\n",
      "recovering dynamics (using 1/112 cores)\n"
     ]
    },
    {
     "name": "stderr",
     "output_type": "stream",
     "text": [
      "GPU available: True (cuda), used: True\n",
      "TPU available: False, using: 0 TPU cores\n",
      "IPU available: False, using: 0 IPUs\n",
      "HPU available: False, using: 0 HPUs\n",
      "LOCAL_RANK: 0 - CUDA_VISIBLE_DEVICES: [0]\n"
     ]
    },
    {
     "name": "stdout",
     "output_type": "stream",
     "text": [
      "    finished (0:00:00) --> added \n",
      "    'fit_pars', fitted parameters for splicing dynamics (adata.var)\n",
      "computing velocities\n",
      "WARNING: Too few genes are selected as velocity genes. Consider setting a lower threshold for min_r2 or min_likelihood.\n",
      "    finished (0:00:00) --> added \n",
      "    'velocity', velocity vectors for each individual cell (adata.layers)\n",
      "scVelo: 0.9425283297060473\n",
      "Epoch 176/500:  35%|███▌      | 176/500 [00:16<00:30, 10.47it/s, loss=-8.42, v_num=1]\n",
      "Monitored metric elbo_validation did not improve in the last 45 records. Best score: -5.879. Signaling Trainer to stop.\n",
      "veloVI: SignificanceResult(statistic=0.7950894840397706, pvalue=0.0)\n",
      "initiating Net object ...\n",
      "gem_shape: (1500, 6)\n",
      "TF info shape: (6, 8)\n",
      "initiation completed.\n"
     ]
    },
    {
     "data": {
      "application/vnd.jupyter.widget-view+json": {
       "model_id": "c5e93272c7664862b9fb86227296d711",
       "version_major": 2,
       "version_minor": 0
      },
      "text/plain": [
       "  0%|          | 0/6 [00:00<?, ?it/s]"
      ]
     },
     "metadata": {},
     "output_type": "display_data"
    },
    {
     "data": {
      "application/vnd.jupyter.widget-view+json": {
       "model_id": "a06717265f9c4fd5b6ab0c294d35dbeb",
       "version_major": 2,
       "version_minor": 0
      },
      "text/plain": [
       "  0%|          | 0/6 [00:00<?, ?it/s]"
      ]
     },
     "metadata": {},
     "output_type": "display_data"
    },
    {
     "name": "stdout",
     "output_type": "stream",
     "text": [
      "AUC: RegVelo: 0.76 Cor: 0.57 GRNBoost2: 0.41000000000000003 CellOracle: 0.605\n",
      "27\n"
     ]
    },
    {
     "name": "stderr",
     "output_type": "stream",
     "text": [
      "GPU available: True (cuda), used: True\n",
      "TPU available: False, using: 0 TPU cores\n",
      "IPU available: False, using: 0 IPUs\n",
      "HPU available: False, using: 0 HPUs\n",
      "LOCAL_RANK: 0 - CUDA_VISIBLE_DEVICES: [0]\n"
     ]
    },
    {
     "name": "stdout",
     "output_type": "stream",
     "text": [
      "Epoch 984/1500:  66%|██████▌   | 984/1500 [03:48<01:59,  4.31it/s, loss=-16.7, v_num=1]    \n",
      "Monitored metric elbo_validation did not improve in the last 45 records. Best score: -16.357. Signaling Trainer to stop.\n",
      "RegVelo: 0.926275157259026\n",
      "recovering dynamics (using 1/112 cores)\n"
     ]
    },
    {
     "name": "stderr",
     "output_type": "stream",
     "text": [
      "GPU available: True (cuda), used: True\n",
      "TPU available: False, using: 0 TPU cores\n",
      "IPU available: False, using: 0 IPUs\n",
      "HPU available: False, using: 0 HPUs\n",
      "LOCAL_RANK: 0 - CUDA_VISIBLE_DEVICES: [0]\n"
     ]
    },
    {
     "name": "stdout",
     "output_type": "stream",
     "text": [
      "    finished (0:00:00) --> added \n",
      "    'fit_pars', fitted parameters for splicing dynamics (adata.var)\n",
      "computing velocities\n",
      "WARNING: Too few genes are selected as velocity genes. Consider setting a lower threshold for min_r2 or min_likelihood.\n",
      "    finished (0:00:00) --> added \n",
      "    'velocity', velocity vectors for each individual cell (adata.layers)\n",
      "scVelo: 0.8935085819549823\n",
      "Epoch 250/500:  50%|█████     | 250/500 [00:23<00:23, 10.51it/s, loss=-8.42, v_num=1]\n",
      "Monitored metric elbo_validation did not improve in the last 45 records. Best score: -6.413. Signaling Trainer to stop.\n",
      "veloVI: SignificanceResult(statistic=0.6717329456590869, pvalue=1.9625423325050033e-197)\n",
      "initiating Net object ...\n",
      "gem_shape: (1500, 6)\n",
      "TF info shape: (6, 8)\n",
      "initiation completed.\n"
     ]
    },
    {
     "data": {
      "application/vnd.jupyter.widget-view+json": {
       "model_id": "732ace3422204c39a3a754757e05aedd",
       "version_major": 2,
       "version_minor": 0
      },
      "text/plain": [
       "  0%|          | 0/6 [00:00<?, ?it/s]"
      ]
     },
     "metadata": {},
     "output_type": "display_data"
    },
    {
     "data": {
      "application/vnd.jupyter.widget-view+json": {
       "model_id": "d388619b58ca4113bf7e119071c7c6d5",
       "version_major": 2,
       "version_minor": 0
      },
      "text/plain": [
       "  0%|          | 0/6 [00:00<?, ?it/s]"
      ]
     },
     "metadata": {},
     "output_type": "display_data"
    },
    {
     "name": "stdout",
     "output_type": "stream",
     "text": [
      "AUC: RegVelo: 0.79 Cor: 0.5700000000000001 GRNBoost2: 0.545 CellOracle: 0.55\n",
      "28\n"
     ]
    },
    {
     "name": "stderr",
     "output_type": "stream",
     "text": [
      "GPU available: True (cuda), used: True\n",
      "TPU available: False, using: 0 TPU cores\n",
      "IPU available: False, using: 0 IPUs\n",
      "HPU available: False, using: 0 HPUs\n",
      "LOCAL_RANK: 0 - CUDA_VISIBLE_DEVICES: [0]\n"
     ]
    },
    {
     "name": "stdout",
     "output_type": "stream",
     "text": [
      "Epoch 616/1500:  41%|████      | 616/1500 [01:54<02:44,  5.38it/s, loss=-16.6, v_num=1]   \n",
      "Monitored metric elbo_validation did not improve in the last 45 records. Best score: -14.463. Signaling Trainer to stop.\n",
      "RegVelo: 0.9548634679393192\n",
      "recovering dynamics (using 1/112 cores)\n"
     ]
    },
    {
     "name": "stderr",
     "output_type": "stream",
     "text": [
      "GPU available: True (cuda), used: True\n",
      "TPU available: False, using: 0 TPU cores\n",
      "IPU available: False, using: 0 IPUs\n",
      "HPU available: False, using: 0 HPUs\n",
      "LOCAL_RANK: 0 - CUDA_VISIBLE_DEVICES: [0]\n"
     ]
    },
    {
     "name": "stdout",
     "output_type": "stream",
     "text": [
      "    finished (0:00:00) --> added \n",
      "    'fit_pars', fitted parameters for splicing dynamics (adata.var)\n",
      "computing velocities\n",
      "WARNING: Too few genes are selected as velocity genes. Consider setting a lower threshold for min_r2 or min_likelihood.\n",
      "    finished (0:00:00) --> added \n",
      "    'velocity', velocity vectors for each individual cell (adata.layers)\n",
      "scVelo: 0.7404171531465059\n",
      "Epoch 330/500:  66%|██████▌   | 330/500 [00:31<00:16, 10.48it/s, loss=-9.13, v_num=1]\n",
      "Monitored metric elbo_validation did not improve in the last 45 records. Best score: -9.775. Signaling Trainer to stop.\n",
      "veloVI: SignificanceResult(statistic=0.5129215364095717, pvalue=1.9830679494090692e-101)\n",
      "initiating Net object ...\n",
      "gem_shape: (1500, 6)\n",
      "TF info shape: (6, 8)\n",
      "initiation completed.\n"
     ]
    },
    {
     "data": {
      "application/vnd.jupyter.widget-view+json": {
       "model_id": "b88be00f9371449fb9235db233087fe6",
       "version_major": 2,
       "version_minor": 0
      },
      "text/plain": [
       "  0%|          | 0/6 [00:00<?, ?it/s]"
      ]
     },
     "metadata": {},
     "output_type": "display_data"
    },
    {
     "data": {
      "application/vnd.jupyter.widget-view+json": {
       "model_id": "d32178235b1b439ea4bcceeadefb2e38",
       "version_major": 2,
       "version_minor": 0
      },
      "text/plain": [
       "  0%|          | 0/6 [00:00<?, ?it/s]"
      ]
     },
     "metadata": {},
     "output_type": "display_data"
    },
    {
     "name": "stdout",
     "output_type": "stream",
     "text": [
      "AUC: RegVelo: 0.5249999999999999 Cor: 0.7000000000000001 GRNBoost2: 0.5449999999999999 CellOracle: 0.485\n",
      "29\n"
     ]
    },
    {
     "name": "stderr",
     "output_type": "stream",
     "text": [
      "GPU available: True (cuda), used: True\n",
      "TPU available: False, using: 0 TPU cores\n",
      "IPU available: False, using: 0 IPUs\n",
      "HPU available: False, using: 0 HPUs\n",
      "LOCAL_RANK: 0 - CUDA_VISIBLE_DEVICES: [0]\n"
     ]
    },
    {
     "name": "stdout",
     "output_type": "stream",
     "text": [
      "Epoch 436/1500:  29%|██▉       | 436/1500 [00:53<02:10,  8.16it/s, loss=-11.8, v_num=1]  \n",
      "Monitored metric elbo_validation did not improve in the last 45 records. Best score: -9.264. Signaling Trainer to stop.\n",
      "RegVelo: 0.8325772447009977\n",
      "recovering dynamics (using 1/112 cores)\n"
     ]
    },
    {
     "name": "stderr",
     "output_type": "stream",
     "text": [
      "GPU available: True (cuda), used: True\n",
      "TPU available: False, using: 0 TPU cores\n",
      "IPU available: False, using: 0 IPUs\n",
      "HPU available: False, using: 0 HPUs\n",
      "LOCAL_RANK: 0 - CUDA_VISIBLE_DEVICES: [0]\n"
     ]
    },
    {
     "name": "stdout",
     "output_type": "stream",
     "text": [
      "    finished (0:00:00) --> added \n",
      "    'fit_pars', fitted parameters for splicing dynamics (adata.var)\n",
      "computing velocities\n",
      "WARNING: Too few genes are selected as velocity genes. Consider setting a lower threshold for min_r2 or min_likelihood.\n",
      "    finished (0:00:00) --> added \n",
      "    'velocity', velocity vectors for each individual cell (adata.layers)\n",
      "scVelo: 0.6734355530962093\n",
      "Epoch 285/500:  57%|█████▋    | 285/500 [00:26<00:20, 10.67it/s, loss=-9.02, v_num=1]\n",
      "Monitored metric elbo_validation did not improve in the last 45 records. Best score: -8.773. Signaling Trainer to stop.\n",
      "veloVI: SignificanceResult(statistic=0.48799714844317715, pvalue=1.4085022659699293e-90)\n",
      "initiating Net object ...\n",
      "gem_shape: (1500, 6)\n",
      "TF info shape: (6, 8)\n",
      "initiation completed.\n"
     ]
    },
    {
     "data": {
      "application/vnd.jupyter.widget-view+json": {
       "model_id": "8cf8b255b5ed400daee28dc0d5b5788f",
       "version_major": 2,
       "version_minor": 0
      },
      "text/plain": [
       "  0%|          | 0/6 [00:00<?, ?it/s]"
      ]
     },
     "metadata": {},
     "output_type": "display_data"
    },
    {
     "data": {
      "application/vnd.jupyter.widget-view+json": {
       "model_id": "8f50990c285145aaaf87f7911ca1670c",
       "version_major": 2,
       "version_minor": 0
      },
      "text/plain": [
       "  0%|          | 0/6 [00:00<?, ?it/s]"
      ]
     },
     "metadata": {},
     "output_type": "display_data"
    },
    {
     "name": "stdout",
     "output_type": "stream",
     "text": [
      "AUC: RegVelo: 0.555 Cor: 0.71 GRNBoost2: 0.5549999999999999 CellOracle: 0.5\n",
      "30\n"
     ]
    },
    {
     "name": "stderr",
     "output_type": "stream",
     "text": [
      "GPU available: True (cuda), used: True\n",
      "TPU available: False, using: 0 TPU cores\n",
      "IPU available: False, using: 0 IPUs\n",
      "HPU available: False, using: 0 HPUs\n",
      "LOCAL_RANK: 0 - CUDA_VISIBLE_DEVICES: [0]\n"
     ]
    },
    {
     "name": "stdout",
     "output_type": "stream",
     "text": [
      "Epoch 554/1500:  37%|███▋      | 554/1500 [01:37<02:46,  5.69it/s, loss=-11.3, v_num=1]   \n",
      "Monitored metric elbo_validation did not improve in the last 45 records. Best score: -10.444. Signaling Trainer to stop.\n",
      "RegVelo: 0.9325515406296194\n",
      "recovering dynamics (using 1/112 cores)\n"
     ]
    },
    {
     "name": "stderr",
     "output_type": "stream",
     "text": [
      "GPU available: True (cuda), used: True\n",
      "TPU available: False, using: 0 TPU cores\n",
      "IPU available: False, using: 0 IPUs\n",
      "HPU available: False, using: 0 HPUs\n",
      "LOCAL_RANK: 0 - CUDA_VISIBLE_DEVICES: [0]\n"
     ]
    },
    {
     "name": "stdout",
     "output_type": "stream",
     "text": [
      "    finished (0:00:00) --> added \n",
      "    'fit_pars', fitted parameters for splicing dynamics (adata.var)\n",
      "computing velocities\n",
      "WARNING: Too few genes are selected as velocity genes. Consider setting a lower threshold for min_r2 or min_likelihood.\n",
      "    finished (0:00:00) --> added \n",
      "    'velocity', velocity vectors for each individual cell (adata.layers)\n",
      "scVelo: 0.847685528199148\n",
      "Epoch 356/500:  71%|███████   | 356/500 [00:33<00:13, 10.50it/s, loss=-4.98, v_num=1]\n",
      "Monitored metric elbo_validation did not improve in the last 45 records. Best score: -5.156. Signaling Trainer to stop.\n",
      "veloVI: SignificanceResult(statistic=0.6477505551315805, pvalue=3.5067151011399806e-179)\n",
      "initiating Net object ...\n",
      "gem_shape: (1500, 6)\n",
      "TF info shape: (6, 8)\n",
      "initiation completed.\n"
     ]
    },
    {
     "data": {
      "application/vnd.jupyter.widget-view+json": {
       "model_id": "1523f2162ab6433bb00bea7afa0add39",
       "version_major": 2,
       "version_minor": 0
      },
      "text/plain": [
       "  0%|          | 0/6 [00:00<?, ?it/s]"
      ]
     },
     "metadata": {},
     "output_type": "display_data"
    },
    {
     "data": {
      "application/vnd.jupyter.widget-view+json": {
       "model_id": "fe895382f0d54bbd92060303d23ba9cf",
       "version_major": 2,
       "version_minor": 0
      },
      "text/plain": [
       "  0%|          | 0/6 [00:00<?, ?it/s]"
      ]
     },
     "metadata": {},
     "output_type": "display_data"
    },
    {
     "name": "stdout",
     "output_type": "stream",
     "text": [
      "AUC: RegVelo: 0.68 Cor: 0.57 GRNBoost2: 0.5700000000000001 CellOracle: 0.61\n",
      "31\n"
     ]
    },
    {
     "name": "stderr",
     "output_type": "stream",
     "text": [
      "GPU available: True (cuda), used: True\n",
      "TPU available: False, using: 0 TPU cores\n",
      "IPU available: False, using: 0 IPUs\n",
      "HPU available: False, using: 0 HPUs\n",
      "LOCAL_RANK: 0 - CUDA_VISIBLE_DEVICES: [0]\n"
     ]
    },
    {
     "name": "stdout",
     "output_type": "stream",
     "text": [
      "Epoch 506/1500:  34%|███▎      | 506/1500 [01:43<03:22,  4.90it/s, loss=-14.7, v_num=1]  \n",
      "Monitored metric elbo_validation did not improve in the last 45 records. Best score: -12.576. Signaling Trainer to stop.\n",
      "RegVelo: 0.7493906366169774\n",
      "recovering dynamics (using 1/112 cores)\n"
     ]
    },
    {
     "name": "stderr",
     "output_type": "stream",
     "text": [
      "GPU available: True (cuda), used: True\n",
      "TPU available: False, using: 0 TPU cores\n",
      "IPU available: False, using: 0 IPUs\n",
      "HPU available: False, using: 0 HPUs\n",
      "LOCAL_RANK: 0 - CUDA_VISIBLE_DEVICES: [0]\n"
     ]
    },
    {
     "name": "stdout",
     "output_type": "stream",
     "text": [
      "    finished (0:00:00) --> added \n",
      "    'fit_pars', fitted parameters for splicing dynamics (adata.var)\n",
      "computing velocities\n",
      "WARNING: Too few genes are selected as velocity genes. Consider setting a lower threshold for min_r2 or min_likelihood.\n",
      "    finished (0:00:00) --> added \n",
      "    'velocity', velocity vectors for each individual cell (adata.layers)\n",
      "scVelo: 0.8046905036568056\n",
      "Epoch 279/500:  56%|█████▌    | 279/500 [00:26<00:21, 10.47it/s, loss=-10.1, v_num=1]\n",
      "Monitored metric elbo_validation did not improve in the last 45 records. Best score: -10.628. Signaling Trainer to stop.\n",
      "veloVI: SignificanceResult(statistic=0.694500362000161, pvalue=1.9831295304821766e-216)\n",
      "initiating Net object ...\n",
      "gem_shape: (1500, 6)\n",
      "TF info shape: (6, 8)\n",
      "initiation completed.\n"
     ]
    },
    {
     "data": {
      "application/vnd.jupyter.widget-view+json": {
       "model_id": "5637f390e2f248aaaa119126cbe73f4e",
       "version_major": 2,
       "version_minor": 0
      },
      "text/plain": [
       "  0%|          | 0/6 [00:00<?, ?it/s]"
      ]
     },
     "metadata": {},
     "output_type": "display_data"
    },
    {
     "data": {
      "application/vnd.jupyter.widget-view+json": {
       "model_id": "1c0c7f9158104e078ba786a57cdd68c3",
       "version_major": 2,
       "version_minor": 0
      },
      "text/plain": [
       "  0%|          | 0/6 [00:00<?, ?it/s]"
      ]
     },
     "metadata": {},
     "output_type": "display_data"
    },
    {
     "name": "stdout",
     "output_type": "stream",
     "text": [
      "AUC: RegVelo: 0.7050000000000001 Cor: 0.54 GRNBoost2: 0.46 CellOracle: 0.6\n",
      "32\n"
     ]
    },
    {
     "name": "stderr",
     "output_type": "stream",
     "text": [
      "GPU available: True (cuda), used: True\n",
      "TPU available: False, using: 0 TPU cores\n",
      "IPU available: False, using: 0 IPUs\n",
      "HPU available: False, using: 0 HPUs\n",
      "LOCAL_RANK: 0 - CUDA_VISIBLE_DEVICES: [0]\n"
     ]
    },
    {
     "name": "stdout",
     "output_type": "stream",
     "text": [
      "Epoch 1024/1500:  68%|██████▊   | 1024/1500 [04:03<01:52,  4.21it/s, loss=-17.6, v_num=1]\n",
      "Monitored metric elbo_validation did not improve in the last 45 records. Best score: -17.300. Signaling Trainer to stop.\n",
      "RegVelo: 0.9289084741183515\n",
      "recovering dynamics (using 1/112 cores)\n"
     ]
    },
    {
     "name": "stderr",
     "output_type": "stream",
     "text": [
      "GPU available: True (cuda), used: True\n",
      "TPU available: False, using: 0 TPU cores\n",
      "IPU available: False, using: 0 IPUs\n",
      "HPU available: False, using: 0 HPUs\n",
      "LOCAL_RANK: 0 - CUDA_VISIBLE_DEVICES: [0]\n"
     ]
    },
    {
     "name": "stdout",
     "output_type": "stream",
     "text": [
      "    finished (0:00:00) --> added \n",
      "    'fit_pars', fitted parameters for splicing dynamics (adata.var)\n",
      "computing velocities\n",
      "WARNING: Too few genes are selected as velocity genes. Consider setting a lower threshold for min_r2 or min_likelihood.\n",
      "    finished (0:00:00) --> added \n",
      "    'velocity', velocity vectors for each individual cell (adata.layers)\n",
      "scVelo: 0.7681251597567975\n",
      "Epoch 314/500:  63%|██████▎   | 314/500 [00:30<00:18, 10.21it/s, loss=-7.51, v_num=1]\n",
      "Monitored metric elbo_validation did not improve in the last 45 records. Best score: -7.368. Signaling Trainer to stop.\n",
      "veloVI: SignificanceResult(statistic=0.7242221316542807, pvalue=4.37818785277732e-244)\n",
      "initiating Net object ...\n",
      "gem_shape: (1500, 6)\n",
      "TF info shape: (6, 8)\n",
      "initiation completed.\n"
     ]
    },
    {
     "data": {
      "application/vnd.jupyter.widget-view+json": {
       "model_id": "aebf344485644a499f2e46010eba9798",
       "version_major": 2,
       "version_minor": 0
      },
      "text/plain": [
       "  0%|          | 0/6 [00:00<?, ?it/s]"
      ]
     },
     "metadata": {},
     "output_type": "display_data"
    },
    {
     "data": {
      "application/vnd.jupyter.widget-view+json": {
       "model_id": "e9c907cbd7284fe486b887c9c2fcdc94",
       "version_major": 2,
       "version_minor": 0
      },
      "text/plain": [
       "  0%|          | 0/6 [00:00<?, ?it/s]"
      ]
     },
     "metadata": {},
     "output_type": "display_data"
    },
    {
     "name": "stdout",
     "output_type": "stream",
     "text": [
      "AUC: RegVelo: 0.76 Cor: 0.6200000000000001 GRNBoost2: 0.6799999999999999 CellOracle: 0.535\n",
      "33\n"
     ]
    },
    {
     "name": "stderr",
     "output_type": "stream",
     "text": [
      "GPU available: True (cuda), used: True\n",
      "TPU available: False, using: 0 TPU cores\n",
      "IPU available: False, using: 0 IPUs\n",
      "HPU available: False, using: 0 HPUs\n",
      "LOCAL_RANK: 0 - CUDA_VISIBLE_DEVICES: [0]\n"
     ]
    },
    {
     "name": "stdout",
     "output_type": "stream",
     "text": [
      "Epoch 916/1500:  61%|██████    | 916/1500 [03:47<02:24,  4.03it/s, loss=-17.1, v_num=1]  \n",
      "Monitored metric elbo_validation did not improve in the last 45 records. Best score: -16.974. Signaling Trainer to stop.\n",
      "RegVelo: 0.9464834606593159\n",
      "recovering dynamics (using 1/112 cores)\n"
     ]
    },
    {
     "name": "stderr",
     "output_type": "stream",
     "text": [
      "GPU available: True (cuda), used: True\n",
      "TPU available: False, using: 0 TPU cores\n",
      "IPU available: False, using: 0 IPUs\n",
      "HPU available: False, using: 0 HPUs\n",
      "LOCAL_RANK: 0 - CUDA_VISIBLE_DEVICES: [0]\n"
     ]
    },
    {
     "name": "stdout",
     "output_type": "stream",
     "text": [
      "    finished (0:00:00) --> added \n",
      "    'fit_pars', fitted parameters for splicing dynamics (adata.var)\n",
      "computing velocities\n",
      "WARNING: Too few genes are selected as velocity genes. Consider setting a lower threshold for min_r2 or min_likelihood.\n",
      "    finished (0:00:00) --> added \n",
      "    'velocity', velocity vectors for each individual cell (adata.layers)\n",
      "scVelo: 0.7031441115981771\n",
      "Epoch 199/500:  40%|███▉      | 199/500 [00:18<00:28, 10.48it/s, loss=-8.51, v_num=1]\n",
      "Monitored metric elbo_validation did not improve in the last 45 records. Best score: -6.760. Signaling Trainer to stop.\n",
      "veloVI: SignificanceResult(statistic=-0.032501482889547954, pvalue=0.20837006011202708)\n",
      "initiating Net object ...\n",
      "gem_shape: (1500, 6)\n",
      "TF info shape: (6, 8)\n",
      "initiation completed.\n"
     ]
    },
    {
     "data": {
      "application/vnd.jupyter.widget-view+json": {
       "model_id": "f743da7a3f144b17adbde8cd8f28d34b",
       "version_major": 2,
       "version_minor": 0
      },
      "text/plain": [
       "  0%|          | 0/6 [00:00<?, ?it/s]"
      ]
     },
     "metadata": {},
     "output_type": "display_data"
    },
    {
     "data": {
      "application/vnd.jupyter.widget-view+json": {
       "model_id": "7de393d0fff3480d96ac18cbc761acb3",
       "version_major": 2,
       "version_minor": 0
      },
      "text/plain": [
       "  0%|          | 0/6 [00:00<?, ?it/s]"
      ]
     },
     "metadata": {},
     "output_type": "display_data"
    },
    {
     "name": "stdout",
     "output_type": "stream",
     "text": [
      "AUC: RegVelo: 0.5549999999999999 Cor: 0.74 GRNBoost2: 0.7250000000000001 CellOracle: 0.595\n",
      "34\n"
     ]
    },
    {
     "name": "stderr",
     "output_type": "stream",
     "text": [
      "GPU available: True (cuda), used: True\n",
      "TPU available: False, using: 0 TPU cores\n",
      "IPU available: False, using: 0 IPUs\n",
      "HPU available: False, using: 0 HPUs\n",
      "LOCAL_RANK: 0 - CUDA_VISIBLE_DEVICES: [0]\n"
     ]
    },
    {
     "name": "stdout",
     "output_type": "stream",
     "text": [
      "Epoch 926/1500:  62%|██████▏   | 926/1500 [03:19<02:03,  4.65it/s, loss=-16.3, v_num=1]  \n",
      "Monitored metric elbo_validation did not improve in the last 45 records. Best score: -15.922. Signaling Trainer to stop.\n",
      "RegVelo: 0.9555772958121315\n",
      "recovering dynamics (using 1/112 cores)\n"
     ]
    },
    {
     "name": "stderr",
     "output_type": "stream",
     "text": [
      "GPU available: True (cuda), used: True\n",
      "TPU available: False, using: 0 TPU cores\n",
      "IPU available: False, using: 0 IPUs\n",
      "HPU available: False, using: 0 HPUs\n",
      "LOCAL_RANK: 0 - CUDA_VISIBLE_DEVICES: [0]\n"
     ]
    },
    {
     "name": "stdout",
     "output_type": "stream",
     "text": [
      "    finished (0:00:00) --> added \n",
      "    'fit_pars', fitted parameters for splicing dynamics (adata.var)\n",
      "computing velocities\n",
      "WARNING: Too few genes are selected as velocity genes. Consider setting a lower threshold for min_r2 or min_likelihood.\n",
      "    finished (0:00:00) --> added \n",
      "    'velocity', velocity vectors for each individual cell (adata.layers)\n",
      "scVelo: 0.9232089511734475\n",
      "Epoch 275/500:  55%|█████▌    | 275/500 [00:26<00:21, 10.50it/s, loss=-7.63, v_num=1]\n",
      "Monitored metric elbo_validation did not improve in the last 45 records. Best score: -6.501. Signaling Trainer to stop.\n",
      "veloVI: SignificanceResult(statistic=0.3103581755461742, pvalue=7.477747654888174e-35)\n",
      "initiating Net object ...\n",
      "gem_shape: (1500, 6)\n",
      "TF info shape: (6, 8)\n",
      "initiation completed.\n"
     ]
    },
    {
     "data": {
      "application/vnd.jupyter.widget-view+json": {
       "model_id": "6e903daad18a4aadbd75baf9e9790d98",
       "version_major": 2,
       "version_minor": 0
      },
      "text/plain": [
       "  0%|          | 0/6 [00:00<?, ?it/s]"
      ]
     },
     "metadata": {},
     "output_type": "display_data"
    },
    {
     "data": {
      "application/vnd.jupyter.widget-view+json": {
       "model_id": "f6dfc9a3c5d642e4bc33b4214e2cc5d0",
       "version_major": 2,
       "version_minor": 0
      },
      "text/plain": [
       "  0%|          | 0/6 [00:00<?, ?it/s]"
      ]
     },
     "metadata": {},
     "output_type": "display_data"
    },
    {
     "name": "stdout",
     "output_type": "stream",
     "text": [
      "AUC: RegVelo: 0.515 Cor: 0.62 GRNBoost2: 0.49 CellOracle: 0.495\n",
      "35\n"
     ]
    },
    {
     "name": "stderr",
     "output_type": "stream",
     "text": [
      "GPU available: True (cuda), used: True\n",
      "TPU available: False, using: 0 TPU cores\n",
      "IPU available: False, using: 0 IPUs\n",
      "HPU available: False, using: 0 HPUs\n",
      "LOCAL_RANK: 0 - CUDA_VISIBLE_DEVICES: [0]\n"
     ]
    },
    {
     "name": "stdout",
     "output_type": "stream",
     "text": [
      "Epoch 519/1500:  35%|███▍      | 519/1500 [01:37<03:04,  5.33it/s, loss=-12.6, v_num=1]   \n",
      "Monitored metric elbo_validation did not improve in the last 45 records. Best score: -10.332. Signaling Trainer to stop.\n",
      "RegVelo: 0.9528250412136406\n",
      "recovering dynamics (using 1/112 cores)\n"
     ]
    },
    {
     "name": "stderr",
     "output_type": "stream",
     "text": [
      "GPU available: True (cuda), used: True\n",
      "TPU available: False, using: 0 TPU cores\n",
      "IPU available: False, using: 0 IPUs\n",
      "HPU available: False, using: 0 HPUs\n",
      "LOCAL_RANK: 0 - CUDA_VISIBLE_DEVICES: [0]\n"
     ]
    },
    {
     "name": "stdout",
     "output_type": "stream",
     "text": [
      "    finished (0:00:00) --> added \n",
      "    'fit_pars', fitted parameters for splicing dynamics (adata.var)\n",
      "computing velocities\n",
      "WARNING: Too few genes are selected as velocity genes. Consider setting a lower threshold for min_r2 or min_likelihood.\n",
      "    finished (0:00:00) --> added \n",
      "    'velocity', velocity vectors for each individual cell (adata.layers)\n",
      "scVelo: 0.7670870332314199\n",
      "Epoch 283/500:  57%|█████▋    | 283/500 [00:27<00:20, 10.34it/s, loss=-8.22, v_num=1]\n",
      "Monitored metric elbo_validation did not improve in the last 45 records. Best score: -7.758. Signaling Trainer to stop.\n",
      "veloVI: SignificanceResult(statistic=0.22459549379763769, pvalue=1.320181555553548e-18)\n",
      "initiating Net object ...\n",
      "gem_shape: (1500, 6)\n",
      "TF info shape: (6, 8)\n",
      "initiation completed.\n"
     ]
    },
    {
     "data": {
      "application/vnd.jupyter.widget-view+json": {
       "model_id": "c14ab933fa9f4a5bacf1c4daceb820ac",
       "version_major": 2,
       "version_minor": 0
      },
      "text/plain": [
       "  0%|          | 0/6 [00:00<?, ?it/s]"
      ]
     },
     "metadata": {},
     "output_type": "display_data"
    },
    {
     "data": {
      "application/vnd.jupyter.widget-view+json": {
       "model_id": "6cc44b9248b4423082e42b4f1057137b",
       "version_major": 2,
       "version_minor": 0
      },
      "text/plain": [
       "  0%|          | 0/6 [00:00<?, ?it/s]"
      ]
     },
     "metadata": {},
     "output_type": "display_data"
    },
    {
     "name": "stdout",
     "output_type": "stream",
     "text": [
      "AUC: RegVelo: 0.725 Cor: 0.69 GRNBoost2: 0.515 CellOracle: 0.605\n",
      "36\n"
     ]
    },
    {
     "name": "stderr",
     "output_type": "stream",
     "text": [
      "GPU available: True (cuda), used: True\n",
      "TPU available: False, using: 0 TPU cores\n",
      "IPU available: False, using: 0 IPUs\n",
      "HPU available: False, using: 0 HPUs\n",
      "LOCAL_RANK: 0 - CUDA_VISIBLE_DEVICES: [0]\n"
     ]
    },
    {
     "name": "stdout",
     "output_type": "stream",
     "text": [
      "Epoch 658/1500:  44%|████▍     | 658/1500 [02:17<02:56,  4.78it/s, loss=-18.4, v_num=1]  \n",
      "Monitored metric elbo_validation did not improve in the last 45 records. Best score: -16.978. Signaling Trainer to stop.\n",
      "RegVelo: 0.7166577040404531\n",
      "recovering dynamics (using 1/112 cores)\n"
     ]
    },
    {
     "name": "stderr",
     "output_type": "stream",
     "text": [
      "GPU available: True (cuda), used: True\n",
      "TPU available: False, using: 0 TPU cores\n",
      "IPU available: False, using: 0 IPUs\n",
      "HPU available: False, using: 0 HPUs\n",
      "LOCAL_RANK: 0 - CUDA_VISIBLE_DEVICES: [0]\n"
     ]
    },
    {
     "name": "stdout",
     "output_type": "stream",
     "text": [
      "    finished (0:00:00) --> added \n",
      "    'fit_pars', fitted parameters for splicing dynamics (adata.var)\n",
      "computing velocities\n",
      "WARNING: Too few genes are selected as velocity genes. Consider setting a lower threshold for min_r2 or min_likelihood.\n",
      "    finished (0:00:00) --> added \n",
      "    'velocity', velocity vectors for each individual cell (adata.layers)\n",
      "scVelo: 0.8195978100614764\n",
      "Epoch 244/500:  49%|████▉     | 244/500 [00:23<00:24, 10.31it/s, loss=-12.4, v_num=1]\n",
      "Monitored metric elbo_validation did not improve in the last 45 records. Best score: -11.553. Signaling Trainer to stop.\n",
      "veloVI: SignificanceResult(statistic=0.5915383315131044, pvalue=2.850569013153779e-142)\n",
      "initiating Net object ...\n",
      "gem_shape: (1500, 6)\n",
      "TF info shape: (6, 8)\n",
      "initiation completed.\n"
     ]
    },
    {
     "data": {
      "application/vnd.jupyter.widget-view+json": {
       "model_id": "7227a94a90f142c98d64dcf133375d02",
       "version_major": 2,
       "version_minor": 0
      },
      "text/plain": [
       "  0%|          | 0/6 [00:00<?, ?it/s]"
      ]
     },
     "metadata": {},
     "output_type": "display_data"
    },
    {
     "data": {
      "application/vnd.jupyter.widget-view+json": {
       "model_id": "8384436661fa451f8e859621b21d0b49",
       "version_major": 2,
       "version_minor": 0
      },
      "text/plain": [
       "  0%|          | 0/6 [00:00<?, ?it/s]"
      ]
     },
     "metadata": {},
     "output_type": "display_data"
    },
    {
     "name": "stdout",
     "output_type": "stream",
     "text": [
      "AUC: RegVelo: 0.5399999999999999 Cor: 0.56 GRNBoost2: 0.43500000000000005 CellOracle: 0.585\n",
      "37\n"
     ]
    },
    {
     "name": "stderr",
     "output_type": "stream",
     "text": [
      "GPU available: True (cuda), used: True\n",
      "TPU available: False, using: 0 TPU cores\n",
      "IPU available: False, using: 0 IPUs\n",
      "HPU available: False, using: 0 HPUs\n",
      "LOCAL_RANK: 0 - CUDA_VISIBLE_DEVICES: [0]\n"
     ]
    },
    {
     "name": "stdout",
     "output_type": "stream",
     "text": [
      "Epoch 878/1500:  59%|█████▊    | 878/1500 [03:13<02:16,  4.55it/s, loss=-14.6, v_num=1]   \n",
      "Monitored metric elbo_validation did not improve in the last 45 records. Best score: -14.547. Signaling Trainer to stop.\n",
      "RegVelo: 0.9879834542148686\n",
      "recovering dynamics (using 1/112 cores)\n"
     ]
    },
    {
     "name": "stderr",
     "output_type": "stream",
     "text": [
      "GPU available: True (cuda), used: True\n",
      "TPU available: False, using: 0 TPU cores\n",
      "IPU available: False, using: 0 IPUs\n",
      "HPU available: False, using: 0 HPUs\n",
      "LOCAL_RANK: 0 - CUDA_VISIBLE_DEVICES: [0]\n"
     ]
    },
    {
     "name": "stdout",
     "output_type": "stream",
     "text": [
      "    finished (0:00:00) --> added \n",
      "    'fit_pars', fitted parameters for splicing dynamics (adata.var)\n",
      "computing velocities\n",
      "WARNING: Too few genes are selected as velocity genes. Consider setting a lower threshold for min_r2 or min_likelihood.\n",
      "    finished (0:00:00) --> added \n",
      "    'velocity', velocity vectors for each individual cell (adata.layers)\n",
      "scVelo: 0.681857863154711\n",
      "Epoch 352/500:  70%|███████   | 352/500 [00:33<00:14, 10.42it/s, loss=-8.89, v_num=1]\n",
      "Monitored metric elbo_validation did not improve in the last 45 records. Best score: -8.640. Signaling Trainer to stop.\n",
      "veloVI: SignificanceResult(statistic=0.3501459547315354, pvalue=1.6673539909686882e-44)\n",
      "initiating Net object ...\n",
      "gem_shape: (1500, 6)\n",
      "TF info shape: (6, 8)\n",
      "initiation completed.\n"
     ]
    },
    {
     "data": {
      "application/vnd.jupyter.widget-view+json": {
       "model_id": "c1913335afc54a859e4e45a1bf8c6b4b",
       "version_major": 2,
       "version_minor": 0
      },
      "text/plain": [
       "  0%|          | 0/6 [00:00<?, ?it/s]"
      ]
     },
     "metadata": {},
     "output_type": "display_data"
    },
    {
     "data": {
      "application/vnd.jupyter.widget-view+json": {
       "model_id": "313f4df17b994994b3551a5886e95545",
       "version_major": 2,
       "version_minor": 0
      },
      "text/plain": [
       "  0%|          | 0/6 [00:00<?, ?it/s]"
      ]
     },
     "metadata": {},
     "output_type": "display_data"
    },
    {
     "name": "stdout",
     "output_type": "stream",
     "text": [
      "AUC: RegVelo: 0.545 Cor: 0.6699999999999999 GRNBoost2: 0.715 CellOracle: 0.565\n",
      "38\n"
     ]
    },
    {
     "name": "stderr",
     "output_type": "stream",
     "text": [
      "GPU available: True (cuda), used: True\n",
      "TPU available: False, using: 0 TPU cores\n",
      "IPU available: False, using: 0 IPUs\n",
      "HPU available: False, using: 0 HPUs\n",
      "LOCAL_RANK: 0 - CUDA_VISIBLE_DEVICES: [0]\n"
     ]
    },
    {
     "name": "stdout",
     "output_type": "stream",
     "text": [
      "Epoch 511/1500:  34%|███▍      | 511/1500 [01:39<03:11,  5.16it/s, loss=-14.6, v_num=1]   \n",
      "Monitored metric elbo_validation did not improve in the last 45 records. Best score: -11.441. Signaling Trainer to stop.\n",
      "RegVelo: 0.7776895403064625\n",
      "recovering dynamics (using 1/112 cores)\n"
     ]
    },
    {
     "name": "stderr",
     "output_type": "stream",
     "text": [
      "GPU available: True (cuda), used: True\n",
      "TPU available: False, using: 0 TPU cores\n",
      "IPU available: False, using: 0 IPUs\n",
      "HPU available: False, using: 0 HPUs\n",
      "LOCAL_RANK: 0 - CUDA_VISIBLE_DEVICES: [0]\n"
     ]
    },
    {
     "name": "stdout",
     "output_type": "stream",
     "text": [
      "    finished (0:00:00) --> added \n",
      "    'fit_pars', fitted parameters for splicing dynamics (adata.var)\n",
      "computing velocities\n",
      "WARNING: Too few genes are selected as velocity genes. Consider setting a lower threshold for min_r2 or min_likelihood.\n",
      "    finished (0:00:00) --> added \n",
      "    'velocity', velocity vectors for each individual cell (adata.layers)\n",
      "scVelo: 0.8272882526441471\n",
      "Epoch 287/500:  57%|█████▋    | 287/500 [00:27<00:20, 10.37it/s, loss=-11, v_num=1]  \n",
      "Monitored metric elbo_validation did not improve in the last 45 records. Best score: -9.183. Signaling Trainer to stop.\n",
      "veloVI: SignificanceResult(statistic=0.46634808993248444, pvalue=7.451268978617917e-82)\n",
      "initiating Net object ...\n",
      "gem_shape: (1500, 6)\n",
      "TF info shape: (6, 8)\n",
      "initiation completed.\n"
     ]
    },
    {
     "data": {
      "application/vnd.jupyter.widget-view+json": {
       "model_id": "2ebd7a88223041baa7392b18ca868d77",
       "version_major": 2,
       "version_minor": 0
      },
      "text/plain": [
       "  0%|          | 0/6 [00:00<?, ?it/s]"
      ]
     },
     "metadata": {},
     "output_type": "display_data"
    },
    {
     "data": {
      "application/vnd.jupyter.widget-view+json": {
       "model_id": "9e9f111ec984404089bdc50a5b682eb2",
       "version_major": 2,
       "version_minor": 0
      },
      "text/plain": [
       "  0%|          | 0/6 [00:00<?, ?it/s]"
      ]
     },
     "metadata": {},
     "output_type": "display_data"
    },
    {
     "name": "stdout",
     "output_type": "stream",
     "text": [
      "AUC: RegVelo: 0.485 Cor: 0.7 GRNBoost2: 0.48 CellOracle: 0.5900000000000001\n",
      "39\n"
     ]
    },
    {
     "name": "stderr",
     "output_type": "stream",
     "text": [
      "GPU available: True (cuda), used: True\n",
      "TPU available: False, using: 0 TPU cores\n",
      "IPU available: False, using: 0 IPUs\n",
      "HPU available: False, using: 0 HPUs\n",
      "LOCAL_RANK: 0 - CUDA_VISIBLE_DEVICES: [0]\n"
     ]
    },
    {
     "name": "stdout",
     "output_type": "stream",
     "text": [
      "Epoch 659/1500:  44%|████▍     | 659/1500 [02:00<02:34,  5.46it/s, loss=-14.1, v_num=1]  \n",
      "Monitored metric elbo_validation did not improve in the last 45 records. Best score: -13.482. Signaling Trainer to stop.\n",
      "RegVelo: 0.9324257023513572\n",
      "recovering dynamics (using 1/112 cores)\n"
     ]
    },
    {
     "name": "stderr",
     "output_type": "stream",
     "text": [
      "GPU available: True (cuda), used: True\n",
      "TPU available: False, using: 0 TPU cores\n",
      "IPU available: False, using: 0 IPUs\n",
      "HPU available: False, using: 0 HPUs\n",
      "LOCAL_RANK: 0 - CUDA_VISIBLE_DEVICES: [0]\n"
     ]
    },
    {
     "name": "stdout",
     "output_type": "stream",
     "text": [
      "    finished (0:00:00) --> added \n",
      "    'fit_pars', fitted parameters for splicing dynamics (adata.var)\n",
      "computing velocities\n",
      "WARNING: Too few genes are selected as velocity genes. Consider setting a lower threshold for min_r2 or min_likelihood.\n",
      "    finished (0:00:00) --> added \n",
      "    'velocity', velocity vectors for each individual cell (adata.layers)\n",
      "scVelo: 0.9035053344441896\n",
      "Epoch 238/500:  48%|████▊     | 238/500 [00:23<00:25, 10.18it/s, loss=-9.36, v_num=1]\n",
      "Monitored metric elbo_validation did not improve in the last 45 records. Best score: -8.419. Signaling Trainer to stop.\n",
      "veloVI: SignificanceResult(statistic=0.5339716364318384, pvalue=2.534546359339747e-111)\n",
      "initiating Net object ...\n",
      "gem_shape: (1500, 6)\n",
      "TF info shape: (6, 8)\n",
      "initiation completed.\n"
     ]
    },
    {
     "data": {
      "application/vnd.jupyter.widget-view+json": {
       "model_id": "b6b761fb75e54f499d8874e9f359f4d0",
       "version_major": 2,
       "version_minor": 0
      },
      "text/plain": [
       "  0%|          | 0/6 [00:00<?, ?it/s]"
      ]
     },
     "metadata": {},
     "output_type": "display_data"
    },
    {
     "data": {
      "application/vnd.jupyter.widget-view+json": {
       "model_id": "ec86d2dc494a4221b68959ea831973de",
       "version_major": 2,
       "version_minor": 0
      },
      "text/plain": [
       "  0%|          | 0/6 [00:00<?, ?it/s]"
      ]
     },
     "metadata": {},
     "output_type": "display_data"
    },
    {
     "name": "stdout",
     "output_type": "stream",
     "text": [
      "AUC: RegVelo: 0.8200000000000001 Cor: 0.53 GRNBoost2: 0.655 CellOracle: 0.485\n",
      "40\n"
     ]
    },
    {
     "name": "stderr",
     "output_type": "stream",
     "text": [
      "GPU available: True (cuda), used: True\n",
      "TPU available: False, using: 0 TPU cores\n",
      "IPU available: False, using: 0 IPUs\n",
      "HPU available: False, using: 0 HPUs\n",
      "LOCAL_RANK: 0 - CUDA_VISIBLE_DEVICES: [0]\n"
     ]
    },
    {
     "name": "stdout",
     "output_type": "stream",
     "text": [
      "Epoch 582/1500:  39%|███▉      | 582/1500 [02:15<03:34,  4.29it/s, loss=-13.2, v_num=1]  \n",
      "Monitored metric elbo_validation did not improve in the last 45 records. Best score: -12.129. Signaling Trainer to stop.\n",
      "RegVelo: 0.8830902723806459\n",
      "recovering dynamics (using 1/112 cores)\n"
     ]
    },
    {
     "name": "stderr",
     "output_type": "stream",
     "text": [
      "GPU available: True (cuda), used: True\n",
      "TPU available: False, using: 0 TPU cores\n",
      "IPU available: False, using: 0 IPUs\n",
      "HPU available: False, using: 0 HPUs\n",
      "LOCAL_RANK: 0 - CUDA_VISIBLE_DEVICES: [0]\n"
     ]
    },
    {
     "name": "stdout",
     "output_type": "stream",
     "text": [
      "    finished (0:00:00) --> added \n",
      "    'fit_pars', fitted parameters for splicing dynamics (adata.var)\n",
      "computing velocities\n",
      "WARNING: Too few genes are selected as velocity genes. Consider setting a lower threshold for min_r2 or min_likelihood.\n",
      "    finished (0:00:00) --> added \n",
      "    'velocity', velocity vectors for each individual cell (adata.layers)\n",
      "scVelo: 0.7451804750189639\n",
      "Epoch 290/500:  58%|█████▊    | 290/500 [00:27<00:20, 10.41it/s, loss=-7.81, v_num=1]\n",
      "Monitored metric elbo_validation did not improve in the last 45 records. Best score: -6.181. Signaling Trainer to stop.\n",
      "veloVI: SignificanceResult(statistic=0.6004351930823081, pvalue=1.2540062232168825e-147)\n",
      "initiating Net object ...\n",
      "gem_shape: (1500, 6)\n",
      "TF info shape: (6, 8)\n",
      "initiation completed.\n"
     ]
    },
    {
     "data": {
      "application/vnd.jupyter.widget-view+json": {
       "model_id": "c1730277efc540d1b1a7cf05ccca8178",
       "version_major": 2,
       "version_minor": 0
      },
      "text/plain": [
       "  0%|          | 0/6 [00:00<?, ?it/s]"
      ]
     },
     "metadata": {},
     "output_type": "display_data"
    },
    {
     "data": {
      "application/vnd.jupyter.widget-view+json": {
       "model_id": "e35821167c2848baad8b5f69b9ca0a4a",
       "version_major": 2,
       "version_minor": 0
      },
      "text/plain": [
       "  0%|          | 0/6 [00:00<?, ?it/s]"
      ]
     },
     "metadata": {},
     "output_type": "display_data"
    },
    {
     "name": "stdout",
     "output_type": "stream",
     "text": [
      "AUC: RegVelo: 0.7400000000000001 Cor: 0.6599999999999999 GRNBoost2: 0.5650000000000001 CellOracle: 0.51\n",
      "41\n"
     ]
    },
    {
     "name": "stderr",
     "output_type": "stream",
     "text": [
      "GPU available: True (cuda), used: True\n",
      "TPU available: False, using: 0 TPU cores\n",
      "IPU available: False, using: 0 IPUs\n",
      "HPU available: False, using: 0 HPUs\n",
      "LOCAL_RANK: 0 - CUDA_VISIBLE_DEVICES: [0]\n"
     ]
    },
    {
     "name": "stdout",
     "output_type": "stream",
     "text": [
      "Epoch 649/1500:  43%|████▎     | 649/1500 [02:13<02:54,  4.88it/s, loss=-15.1, v_num=1]  \n",
      "Monitored metric elbo_validation did not improve in the last 45 records. Best score: -13.980. Signaling Trainer to stop.\n",
      "RegVelo: 0.840434535304238\n",
      "recovering dynamics (using 1/112 cores)\n"
     ]
    },
    {
     "name": "stderr",
     "output_type": "stream",
     "text": [
      "GPU available: True (cuda), used: True\n",
      "TPU available: False, using: 0 TPU cores\n",
      "IPU available: False, using: 0 IPUs\n",
      "HPU available: False, using: 0 HPUs\n",
      "LOCAL_RANK: 0 - CUDA_VISIBLE_DEVICES: [0]\n"
     ]
    },
    {
     "name": "stdout",
     "output_type": "stream",
     "text": [
      "    finished (0:00:00) --> added \n",
      "    'fit_pars', fitted parameters for splicing dynamics (adata.var)\n",
      "computing velocities\n",
      "WARNING: Too few genes are selected as velocity genes. Consider setting a lower threshold for min_r2 or min_likelihood.\n",
      "    finished (0:00:00) --> added \n",
      "    'velocity', velocity vectors for each individual cell (adata.layers)\n",
      "scVelo: 0.8647840403919586\n",
      "Epoch 303/500:  61%|██████    | 303/500 [00:29<00:19, 10.36it/s, loss=-9.75, v_num=1]\n",
      "Monitored metric elbo_validation did not improve in the last 45 records. Best score: -9.339. Signaling Trainer to stop.\n",
      "veloVI: SignificanceResult(statistic=0.05950205849825006, pvalue=0.021187541874943205)\n",
      "initiating Net object ...\n",
      "gem_shape: (1500, 6)\n",
      "TF info shape: (6, 8)\n",
      "initiation completed.\n"
     ]
    },
    {
     "data": {
      "application/vnd.jupyter.widget-view+json": {
       "model_id": "1675cf89b6054c85952b058c1394cc47",
       "version_major": 2,
       "version_minor": 0
      },
      "text/plain": [
       "  0%|          | 0/6 [00:00<?, ?it/s]"
      ]
     },
     "metadata": {},
     "output_type": "display_data"
    },
    {
     "data": {
      "application/vnd.jupyter.widget-view+json": {
       "model_id": "f0805b642c3c4b0ea755b6f7cfcf1272",
       "version_major": 2,
       "version_minor": 0
      },
      "text/plain": [
       "  0%|          | 0/6 [00:00<?, ?it/s]"
      ]
     },
     "metadata": {},
     "output_type": "display_data"
    },
    {
     "name": "stdout",
     "output_type": "stream",
     "text": [
      "AUC: RegVelo: 0.72 Cor: 0.72 GRNBoost2: 0.7000000000000001 CellOracle: 0.595\n",
      "42\n"
     ]
    },
    {
     "name": "stderr",
     "output_type": "stream",
     "text": [
      "GPU available: True (cuda), used: True\n",
      "TPU available: False, using: 0 TPU cores\n",
      "IPU available: False, using: 0 IPUs\n",
      "HPU available: False, using: 0 HPUs\n",
      "LOCAL_RANK: 0 - CUDA_VISIBLE_DEVICES: [0]\n"
     ]
    },
    {
     "name": "stdout",
     "output_type": "stream",
     "text": [
      "Epoch 614/1500:  41%|████      | 614/1500 [02:14<03:13,  4.57it/s, loss=-16.8, v_num=1]   \n",
      "Monitored metric elbo_validation did not improve in the last 45 records. Best score: -13.771. Signaling Trainer to stop.\n",
      "RegVelo: 0.8597418256630337\n",
      "recovering dynamics (using 1/112 cores)\n"
     ]
    },
    {
     "name": "stderr",
     "output_type": "stream",
     "text": [
      "GPU available: True (cuda), used: True\n",
      "TPU available: False, using: 0 TPU cores\n",
      "IPU available: False, using: 0 IPUs\n",
      "HPU available: False, using: 0 HPUs\n",
      "LOCAL_RANK: 0 - CUDA_VISIBLE_DEVICES: [0]\n"
     ]
    },
    {
     "name": "stdout",
     "output_type": "stream",
     "text": [
      "    finished (0:00:00) --> added \n",
      "    'fit_pars', fitted parameters for splicing dynamics (adata.var)\n",
      "computing velocities\n",
      "WARNING: Too few genes are selected as velocity genes. Consider setting a lower threshold for min_r2 or min_likelihood.\n",
      "    finished (0:00:00) --> added \n",
      "    'velocity', velocity vectors for each individual cell (adata.layers)\n",
      "scVelo: 0.9022794497077304\n",
      "Epoch 190/500:  38%|███▊      | 190/500 [00:18<00:29, 10.34it/s, loss=-11, v_num=1]  \n",
      "Monitored metric elbo_validation did not improve in the last 45 records. Best score: -8.602. Signaling Trainer to stop.\n",
      "veloVI: SignificanceResult(statistic=0.7336916007518226, pvalue=1.1259663086063e-253)\n",
      "initiating Net object ...\n",
      "gem_shape: (1500, 6)\n",
      "TF info shape: (6, 8)\n",
      "initiation completed.\n"
     ]
    },
    {
     "data": {
      "application/vnd.jupyter.widget-view+json": {
       "model_id": "00a7d00fcc834ca493dc9fc4c156758f",
       "version_major": 2,
       "version_minor": 0
      },
      "text/plain": [
       "  0%|          | 0/6 [00:00<?, ?it/s]"
      ]
     },
     "metadata": {},
     "output_type": "display_data"
    },
    {
     "data": {
      "application/vnd.jupyter.widget-view+json": {
       "model_id": "8758376a1214417eadfb0e1daf8ff33e",
       "version_major": 2,
       "version_minor": 0
      },
      "text/plain": [
       "  0%|          | 0/6 [00:00<?, ?it/s]"
      ]
     },
     "metadata": {},
     "output_type": "display_data"
    },
    {
     "name": "stdout",
     "output_type": "stream",
     "text": [
      "AUC: RegVelo: 0.825 Cor: 0.6200000000000001 GRNBoost2: 0.75 CellOracle: 0.525\n",
      "43\n"
     ]
    },
    {
     "name": "stderr",
     "output_type": "stream",
     "text": [
      "GPU available: True (cuda), used: True\n",
      "TPU available: False, using: 0 TPU cores\n",
      "IPU available: False, using: 0 IPUs\n",
      "HPU available: False, using: 0 HPUs\n",
      "LOCAL_RANK: 0 - CUDA_VISIBLE_DEVICES: [0]\n"
     ]
    },
    {
     "name": "stdout",
     "output_type": "stream",
     "text": [
      "Epoch 1041/1500:  69%|██████▉   | 1041/1500 [04:05<01:48,  4.25it/s, loss=-14.8, v_num=1]\n",
      "Monitored metric elbo_validation did not improve in the last 45 records. Best score: -14.609. Signaling Trainer to stop.\n",
      "RegVelo: 0.9505305415691296\n",
      "recovering dynamics (using 1/112 cores)\n"
     ]
    },
    {
     "name": "stderr",
     "output_type": "stream",
     "text": [
      "GPU available: True (cuda), used: True\n",
      "TPU available: False, using: 0 TPU cores\n",
      "IPU available: False, using: 0 IPUs\n",
      "HPU available: False, using: 0 HPUs\n",
      "LOCAL_RANK: 0 - CUDA_VISIBLE_DEVICES: [0]\n"
     ]
    },
    {
     "name": "stdout",
     "output_type": "stream",
     "text": [
      "    finished (0:00:00) --> added \n",
      "    'fit_pars', fitted parameters for splicing dynamics (adata.var)\n",
      "computing velocities\n",
      "WARNING: Too few genes are selected as velocity genes. Consider setting a lower threshold for min_r2 or min_likelihood.\n",
      "    finished (0:00:00) --> added \n",
      "    'velocity', velocity vectors for each individual cell (adata.layers)\n",
      "scVelo: 0.746059195326573\n",
      "Epoch 329/500:  66%|██████▌   | 329/500 [00:35<00:18,  9.34it/s, loss=-6.72, v_num=1]\n",
      "Monitored metric elbo_validation did not improve in the last 45 records. Best score: -5.813. Signaling Trainer to stop.\n",
      "veloVI: SignificanceResult(statistic=0.8238129350279713, pvalue=0.0)\n",
      "initiating Net object ...\n",
      "gem_shape: (1500, 6)\n",
      "TF info shape: (6, 8)\n",
      "initiation completed.\n"
     ]
    },
    {
     "data": {
      "application/vnd.jupyter.widget-view+json": {
       "model_id": "0b6e4005fc9e4f72874e6f6ecb36d32d",
       "version_major": 2,
       "version_minor": 0
      },
      "text/plain": [
       "  0%|          | 0/6 [00:00<?, ?it/s]"
      ]
     },
     "metadata": {},
     "output_type": "display_data"
    },
    {
     "data": {
      "application/vnd.jupyter.widget-view+json": {
       "model_id": "211f7f35bc7b4a38aff5ff8ff0f4acb1",
       "version_major": 2,
       "version_minor": 0
      },
      "text/plain": [
       "  0%|          | 0/6 [00:00<?, ?it/s]"
      ]
     },
     "metadata": {},
     "output_type": "display_data"
    },
    {
     "name": "stdout",
     "output_type": "stream",
     "text": [
      "AUC: RegVelo: 0.52 Cor: 0.6599999999999999 GRNBoost2: 0.565 CellOracle: 0.525\n",
      "44\n"
     ]
    },
    {
     "name": "stderr",
     "output_type": "stream",
     "text": [
      "GPU available: True (cuda), used: True\n",
      "TPU available: False, using: 0 TPU cores\n",
      "IPU available: False, using: 0 IPUs\n",
      "HPU available: False, using: 0 HPUs\n",
      "LOCAL_RANK: 0 - CUDA_VISIBLE_DEVICES: [0]\n"
     ]
    },
    {
     "name": "stdout",
     "output_type": "stream",
     "text": [
      "Epoch 580/1500:  39%|███▊      | 580/1500 [01:52<02:58,  5.16it/s, loss=-14.6, v_num=1]   \n",
      "Monitored metric elbo_validation did not improve in the last 45 records. Best score: -11.383. Signaling Trainer to stop.\n",
      "RegVelo: 0.826199219489608\n",
      "recovering dynamics (using 1/112 cores)\n"
     ]
    },
    {
     "name": "stderr",
     "output_type": "stream",
     "text": [
      "GPU available: True (cuda), used: True\n",
      "TPU available: False, using: 0 TPU cores\n",
      "IPU available: False, using: 0 IPUs\n",
      "HPU available: False, using: 0 HPUs\n",
      "LOCAL_RANK: 0 - CUDA_VISIBLE_DEVICES: [0]\n"
     ]
    },
    {
     "name": "stdout",
     "output_type": "stream",
     "text": [
      "    finished (0:00:01) --> added \n",
      "    'fit_pars', fitted parameters for splicing dynamics (adata.var)\n",
      "computing velocities\n",
      "WARNING: Too few genes are selected as velocity genes. Consider setting a lower threshold for min_r2 or min_likelihood.\n",
      "    finished (0:00:00) --> added \n",
      "    'velocity', velocity vectors for each individual cell (adata.layers)\n",
      "scVelo: 0.6331872439393862\n",
      "Epoch 303/500:  61%|██████    | 303/500 [00:29<00:19, 10.22it/s, loss=-10.9, v_num=1]\n",
      "Monitored metric elbo_validation did not improve in the last 45 records. Best score: -9.780. Signaling Trainer to stop.\n",
      "veloVI: SignificanceResult(statistic=-0.34011110582715814, pvalue=6.200297322883199e-42)\n",
      "initiating Net object ...\n",
      "gem_shape: (1500, 6)\n",
      "TF info shape: (6, 8)\n",
      "initiation completed.\n"
     ]
    },
    {
     "data": {
      "application/vnd.jupyter.widget-view+json": {
       "model_id": "a7032159fcea4e699f9c03274b686ccb",
       "version_major": 2,
       "version_minor": 0
      },
      "text/plain": [
       "  0%|          | 0/6 [00:00<?, ?it/s]"
      ]
     },
     "metadata": {},
     "output_type": "display_data"
    },
    {
     "data": {
      "application/vnd.jupyter.widget-view+json": {
       "model_id": "5b1926d05fe742698133d046ad9c16a7",
       "version_major": 2,
       "version_minor": 0
      },
      "text/plain": [
       "  0%|          | 0/6 [00:00<?, ?it/s]"
      ]
     },
     "metadata": {},
     "output_type": "display_data"
    },
    {
     "name": "stdout",
     "output_type": "stream",
     "text": [
      "AUC: RegVelo: 0.615 Cor: 0.6199999999999999 GRNBoost2: 0.665 CellOracle: 0.555\n",
      "45\n"
     ]
    },
    {
     "name": "stderr",
     "output_type": "stream",
     "text": [
      "GPU available: True (cuda), used: True\n",
      "TPU available: False, using: 0 TPU cores\n",
      "IPU available: False, using: 0 IPUs\n",
      "HPU available: False, using: 0 HPUs\n",
      "LOCAL_RANK: 0 - CUDA_VISIBLE_DEVICES: [0]\n"
     ]
    },
    {
     "name": "stdout",
     "output_type": "stream",
     "text": [
      "Epoch 765/1500:  51%|█████     | 765/1500 [02:58<02:51,  4.29it/s, loss=-16.3, v_num=1]  \n",
      "Monitored metric elbo_validation did not improve in the last 45 records. Best score: -15.073. Signaling Trainer to stop.\n",
      "RegVelo: 0.9139356666380742\n",
      "recovering dynamics (using 1/112 cores)\n"
     ]
    },
    {
     "name": "stderr",
     "output_type": "stream",
     "text": [
      "GPU available: True (cuda), used: True\n",
      "TPU available: False, using: 0 TPU cores\n",
      "IPU available: False, using: 0 IPUs\n",
      "HPU available: False, using: 0 HPUs\n",
      "LOCAL_RANK: 0 - CUDA_VISIBLE_DEVICES: [0]\n"
     ]
    },
    {
     "name": "stdout",
     "output_type": "stream",
     "text": [
      "    finished (0:00:00) --> added \n",
      "    'fit_pars', fitted parameters for splicing dynamics (adata.var)\n",
      "computing velocities\n",
      "WARNING: Too few genes are selected as velocity genes. Consider setting a lower threshold for min_r2 or min_likelihood.\n",
      "    finished (0:00:00) --> added \n",
      "    'velocity', velocity vectors for each individual cell (adata.layers)\n",
      "scVelo: 0.9140174579093844\n",
      "Epoch 216/500:  43%|████▎     | 216/500 [00:20<00:27, 10.31it/s, loss=-7.92, v_num=1]\n",
      "Monitored metric elbo_validation did not improve in the last 45 records. Best score: -7.126. Signaling Trainer to stop.\n",
      "veloVI: SignificanceResult(statistic=0.4585515659860752, pvalue=7.300141827336028e-79)\n",
      "initiating Net object ...\n",
      "gem_shape: (1500, 6)\n",
      "TF info shape: (6, 8)\n",
      "initiation completed.\n"
     ]
    },
    {
     "data": {
      "application/vnd.jupyter.widget-view+json": {
       "model_id": "9aa159f812364c07873815788ee4596b",
       "version_major": 2,
       "version_minor": 0
      },
      "text/plain": [
       "  0%|          | 0/6 [00:00<?, ?it/s]"
      ]
     },
     "metadata": {},
     "output_type": "display_data"
    },
    {
     "data": {
      "application/vnd.jupyter.widget-view+json": {
       "model_id": "e74b96b8acee4b72b2a38917af6921e8",
       "version_major": 2,
       "version_minor": 0
      },
      "text/plain": [
       "  0%|          | 0/6 [00:00<?, ?it/s]"
      ]
     },
     "metadata": {},
     "output_type": "display_data"
    },
    {
     "name": "stdout",
     "output_type": "stream",
     "text": [
      "AUC: RegVelo: 0.5700000000000001 Cor: 0.6200000000000001 GRNBoost2: 0.47 CellOracle: 0.63\n",
      "46\n"
     ]
    },
    {
     "name": "stderr",
     "output_type": "stream",
     "text": [
      "GPU available: True (cuda), used: True\n",
      "TPU available: False, using: 0 TPU cores\n",
      "IPU available: False, using: 0 IPUs\n",
      "HPU available: False, using: 0 HPUs\n",
      "LOCAL_RANK: 0 - CUDA_VISIBLE_DEVICES: [0]\n"
     ]
    },
    {
     "name": "stdout",
     "output_type": "stream",
     "text": [
      "Epoch 1141/1500:  76%|███████▌  | 1141/1500 [04:42<01:28,  4.04it/s, loss=-16, v_num=1]  \n",
      "Monitored metric elbo_validation did not improve in the last 45 records. Best score: -16.301. Signaling Trainer to stop.\n",
      "RegVelo: 0.9981790711906984\n",
      "recovering dynamics (using 1/112 cores)\n"
     ]
    },
    {
     "name": "stderr",
     "output_type": "stream",
     "text": [
      "GPU available: True (cuda), used: True\n",
      "TPU available: False, using: 0 TPU cores\n",
      "IPU available: False, using: 0 IPUs\n",
      "HPU available: False, using: 0 HPUs\n",
      "LOCAL_RANK: 0 - CUDA_VISIBLE_DEVICES: [0]\n"
     ]
    },
    {
     "name": "stdout",
     "output_type": "stream",
     "text": [
      "    finished (0:00:00) --> added \n",
      "    'fit_pars', fitted parameters for splicing dynamics (adata.var)\n",
      "computing velocities\n",
      "WARNING: Too few genes are selected as velocity genes. Consider setting a lower threshold for min_r2 or min_likelihood.\n",
      "    finished (0:00:00) --> added \n",
      "    'velocity', velocity vectors for each individual cell (adata.layers)\n",
      "scVelo: 0.25480125866639447\n",
      "Epoch 333/500:  67%|██████▋   | 333/500 [00:32<00:16, 10.32it/s, loss=-8.19, v_num=1]\n",
      "Monitored metric elbo_validation did not improve in the last 45 records. Best score: -7.530. Signaling Trainer to stop.\n",
      "veloVI: SignificanceResult(statistic=0.8616833739585514, pvalue=0.0)\n",
      "initiating Net object ...\n",
      "gem_shape: (1500, 6)\n",
      "TF info shape: (6, 8)\n",
      "initiation completed.\n"
     ]
    },
    {
     "data": {
      "application/vnd.jupyter.widget-view+json": {
       "model_id": "7dd742e5150e46e3bf0cb08ca79d5804",
       "version_major": 2,
       "version_minor": 0
      },
      "text/plain": [
       "  0%|          | 0/6 [00:00<?, ?it/s]"
      ]
     },
     "metadata": {},
     "output_type": "display_data"
    },
    {
     "data": {
      "application/vnd.jupyter.widget-view+json": {
       "model_id": "5b31e7a935aa4c2790171886170cfc29",
       "version_major": 2,
       "version_minor": 0
      },
      "text/plain": [
       "  0%|          | 0/6 [00:00<?, ?it/s]"
      ]
     },
     "metadata": {},
     "output_type": "display_data"
    },
    {
     "name": "stdout",
     "output_type": "stream",
     "text": [
      "AUC: RegVelo: 0.515 Cor: 0.63 GRNBoost2: 0.545 CellOracle: 0.515\n",
      "47\n"
     ]
    },
    {
     "name": "stderr",
     "output_type": "stream",
     "text": [
      "2024-08-10 15:00:25,183 - distributed.comm.tcp - INFO - Connection from tcp://127.0.0.1:8006 closed before handshake completed\n",
      "GPU available: True (cuda), used: True\n",
      "TPU available: False, using: 0 TPU cores\n",
      "IPU available: False, using: 0 IPUs\n",
      "HPU available: False, using: 0 HPUs\n",
      "LOCAL_RANK: 0 - CUDA_VISIBLE_DEVICES: [0]\n"
     ]
    },
    {
     "name": "stdout",
     "output_type": "stream",
     "text": [
      "Epoch 657/1500:  44%|████▍     | 657/1500 [02:12<02:49,  4.98it/s, loss=-15.6, v_num=1]  \n",
      "Monitored metric elbo_validation did not improve in the last 45 records. Best score: -14.735. Signaling Trainer to stop.\n",
      "RegVelo: 0.8413470349832992\n",
      "recovering dynamics (using 1/112 cores)\n"
     ]
    },
    {
     "name": "stderr",
     "output_type": "stream",
     "text": [
      "GPU available: True (cuda), used: True\n",
      "TPU available: False, using: 0 TPU cores\n",
      "IPU available: False, using: 0 IPUs\n",
      "HPU available: False, using: 0 HPUs\n",
      "LOCAL_RANK: 0 - CUDA_VISIBLE_DEVICES: [0]\n"
     ]
    },
    {
     "name": "stdout",
     "output_type": "stream",
     "text": [
      "    finished (0:00:00) --> added \n",
      "    'fit_pars', fitted parameters for splicing dynamics (adata.var)\n",
      "computing velocities\n",
      "WARNING: Too few genes are selected as velocity genes. Consider setting a lower threshold for min_r2 or min_likelihood.\n",
      "    finished (0:00:00) --> added \n",
      "    'velocity', velocity vectors for each individual cell (adata.layers)\n",
      "scVelo: 0.855605850712225\n",
      "Epoch 186/500:  37%|███▋      | 186/500 [00:18<00:31, 10.09it/s, loss=-8.75, v_num=1]\n",
      "Monitored metric elbo_validation did not improve in the last 45 records. Best score: -5.846. Signaling Trainer to stop.\n",
      "veloVI: SignificanceResult(statistic=0.41381996347553934, pvalue=3.9476172120670335e-63)\n",
      "initiating Net object ...\n",
      "gem_shape: (1500, 6)\n",
      "TF info shape: (6, 8)\n",
      "initiation completed.\n"
     ]
    },
    {
     "data": {
      "application/vnd.jupyter.widget-view+json": {
       "model_id": "9efd4a12c722423eb8dd67ef257e5b0a",
       "version_major": 2,
       "version_minor": 0
      },
      "text/plain": [
       "  0%|          | 0/6 [00:00<?, ?it/s]"
      ]
     },
     "metadata": {},
     "output_type": "display_data"
    },
    {
     "data": {
      "application/vnd.jupyter.widget-view+json": {
       "model_id": "e646366f120441f4be3ed9bf9f44def0",
       "version_major": 2,
       "version_minor": 0
      },
      "text/plain": [
       "  0%|          | 0/6 [00:00<?, ?it/s]"
      ]
     },
     "metadata": {},
     "output_type": "display_data"
    },
    {
     "name": "stdout",
     "output_type": "stream",
     "text": [
      "AUC: RegVelo: 0.725 Cor: 0.6299999999999999 GRNBoost2: 0.69 CellOracle: 0.495\n",
      "48\n"
     ]
    },
    {
     "name": "stderr",
     "output_type": "stream",
     "text": [
      "GPU available: True (cuda), used: True\n",
      "TPU available: False, using: 0 TPU cores\n",
      "IPU available: False, using: 0 IPUs\n",
      "HPU available: False, using: 0 HPUs\n",
      "LOCAL_RANK: 0 - CUDA_VISIBLE_DEVICES: [0]\n"
     ]
    },
    {
     "name": "stdout",
     "output_type": "stream",
     "text": [
      "Epoch 780/1500:  52%|█████▏    | 780/1500 [02:50<02:37,  4.57it/s, loss=-15.9, v_num=1]  \n",
      "Monitored metric elbo_validation did not improve in the last 45 records. Best score: -14.756. Signaling Trainer to stop.\n",
      "RegVelo: 0.8892383294392576\n",
      "recovering dynamics (using 1/112 cores)\n"
     ]
    },
    {
     "name": "stderr",
     "output_type": "stream",
     "text": [
      "GPU available: True (cuda), used: True\n",
      "TPU available: False, using: 0 TPU cores\n",
      "IPU available: False, using: 0 IPUs\n",
      "HPU available: False, using: 0 HPUs\n",
      "LOCAL_RANK: 0 - CUDA_VISIBLE_DEVICES: [0]\n"
     ]
    },
    {
     "name": "stdout",
     "output_type": "stream",
     "text": [
      "    finished (0:00:00) --> added \n",
      "    'fit_pars', fitted parameters for splicing dynamics (adata.var)\n",
      "computing velocities\n",
      "WARNING: Too few genes are selected as velocity genes. Consider setting a lower threshold for min_r2 or min_likelihood.\n",
      "    finished (0:00:00) --> added \n",
      "    'velocity', velocity vectors for each individual cell (adata.layers)\n",
      "scVelo: 0.8068676900956954\n",
      "Epoch 304/500:  61%|██████    | 304/500 [00:30<00:19, 10.07it/s, loss=-8.08, v_num=1]\n",
      "Monitored metric elbo_validation did not improve in the last 45 records. Best score: -7.029. Signaling Trainer to stop.\n",
      "veloVI: SignificanceResult(statistic=0.19746632065169809, pvalue=1.1856563483468995e-14)\n",
      "initiating Net object ...\n",
      "gem_shape: (1500, 6)\n",
      "TF info shape: (6, 8)\n",
      "initiation completed.\n"
     ]
    },
    {
     "data": {
      "application/vnd.jupyter.widget-view+json": {
       "model_id": "c20bef3d157f450b896e4fb85b6ddf67",
       "version_major": 2,
       "version_minor": 0
      },
      "text/plain": [
       "  0%|          | 0/6 [00:00<?, ?it/s]"
      ]
     },
     "metadata": {},
     "output_type": "display_data"
    },
    {
     "data": {
      "application/vnd.jupyter.widget-view+json": {
       "model_id": "9c5f610e1a3d41e3b2d30e29778250e6",
       "version_major": 2,
       "version_minor": 0
      },
      "text/plain": [
       "  0%|          | 0/6 [00:00<?, ?it/s]"
      ]
     },
     "metadata": {},
     "output_type": "display_data"
    },
    {
     "name": "stdout",
     "output_type": "stream",
     "text": [
      "AUC: RegVelo: 0.635 Cor: 0.6399999999999999 GRNBoost2: 0.625 CellOracle: 0.5349999999999999\n",
      "49\n"
     ]
    },
    {
     "name": "stderr",
     "output_type": "stream",
     "text": [
      "GPU available: True (cuda), used: True\n",
      "TPU available: False, using: 0 TPU cores\n",
      "IPU available: False, using: 0 IPUs\n",
      "HPU available: False, using: 0 HPUs\n",
      "LOCAL_RANK: 0 - CUDA_VISIBLE_DEVICES: [0]\n"
     ]
    },
    {
     "name": "stdout",
     "output_type": "stream",
     "text": [
      "Epoch 761/1500:  51%|█████     | 761/1500 [02:54<02:49,  4.36it/s, loss=-15.5, v_num=1]  \n",
      "Monitored metric elbo_validation did not improve in the last 45 records. Best score: -14.802. Signaling Trainer to stop.\n",
      "RegVelo: 0.9515723553654915\n",
      "recovering dynamics (using 1/112 cores)\n"
     ]
    },
    {
     "name": "stderr",
     "output_type": "stream",
     "text": [
      "GPU available: True (cuda), used: True\n",
      "TPU available: False, using: 0 TPU cores\n",
      "IPU available: False, using: 0 IPUs\n",
      "HPU available: False, using: 0 HPUs\n",
      "LOCAL_RANK: 0 - CUDA_VISIBLE_DEVICES: [0]\n"
     ]
    },
    {
     "name": "stdout",
     "output_type": "stream",
     "text": [
      "    finished (0:00:00) --> added \n",
      "    'fit_pars', fitted parameters for splicing dynamics (adata.var)\n",
      "computing velocities\n",
      "WARNING: Too few genes are selected as velocity genes. Consider setting a lower threshold for min_r2 or min_likelihood.\n",
      "    finished (0:00:00) --> added \n",
      "    'velocity', velocity vectors for each individual cell (adata.layers)\n",
      "scVelo: 0.6328777241317929\n",
      "Epoch 306/500:  61%|██████    | 306/500 [00:30<00:19, 10.10it/s, loss=-9.11, v_num=1]\n",
      "Monitored metric elbo_validation did not improve in the last 45 records. Best score: -9.565. Signaling Trainer to stop.\n",
      "veloVI: SignificanceResult(statistic=0.2027606024762866, pvalue=2.212131108724872e-15)\n",
      "initiating Net object ...\n",
      "gem_shape: (1500, 6)\n",
      "TF info shape: (6, 8)\n",
      "initiation completed.\n"
     ]
    },
    {
     "data": {
      "application/vnd.jupyter.widget-view+json": {
       "model_id": "0b3f7194df19479f85707337710f4047",
       "version_major": 2,
       "version_minor": 0
      },
      "text/plain": [
       "  0%|          | 0/6 [00:00<?, ?it/s]"
      ]
     },
     "metadata": {},
     "output_type": "display_data"
    },
    {
     "data": {
      "application/vnd.jupyter.widget-view+json": {
       "model_id": "40ac1375525f4e6e98a2b6431f077200",
       "version_major": 2,
       "version_minor": 0
      },
      "text/plain": [
       "  0%|          | 0/6 [00:00<?, ?it/s]"
      ]
     },
     "metadata": {},
     "output_type": "display_data"
    },
    {
     "name": "stdout",
     "output_type": "stream",
     "text": [
      "AUC: RegVelo: 0.49 Cor: 0.5800000000000001 GRNBoost2: 0.605 CellOracle: 0.455\n",
      "50\n"
     ]
    },
    {
     "name": "stderr",
     "output_type": "stream",
     "text": [
      "GPU available: True (cuda), used: True\n",
      "TPU available: False, using: 0 TPU cores\n",
      "IPU available: False, using: 0 IPUs\n",
      "HPU available: False, using: 0 HPUs\n",
      "LOCAL_RANK: 0 - CUDA_VISIBLE_DEVICES: [0]\n"
     ]
    },
    {
     "name": "stdout",
     "output_type": "stream",
     "text": [
      "Epoch 549/1500:  37%|███▋      | 549/1500 [01:45<03:02,  5.23it/s, loss=-10.4, v_num=1]  \n",
      "Monitored metric elbo_validation did not improve in the last 45 records. Best score: -10.252. Signaling Trainer to stop.\n",
      "RegVelo: 0.8364839174030603\n",
      "recovering dynamics (using 1/112 cores)\n"
     ]
    },
    {
     "name": "stderr",
     "output_type": "stream",
     "text": [
      "GPU available: True (cuda), used: True\n",
      "TPU available: False, using: 0 TPU cores\n",
      "IPU available: False, using: 0 IPUs\n",
      "HPU available: False, using: 0 HPUs\n",
      "LOCAL_RANK: 0 - CUDA_VISIBLE_DEVICES: [0]\n"
     ]
    },
    {
     "name": "stdout",
     "output_type": "stream",
     "text": [
      "    finished (0:00:00) --> added \n",
      "    'fit_pars', fitted parameters for splicing dynamics (adata.var)\n",
      "computing velocities\n",
      "WARNING: Too few genes are selected as velocity genes. Consider setting a lower threshold for min_r2 or min_likelihood.\n",
      "    finished (0:00:00) --> added \n",
      "    'velocity', velocity vectors for each individual cell (adata.layers)\n",
      "scVelo: 0.9210938820013401\n",
      "Epoch 357/500:  71%|███████▏  | 357/500 [00:35<00:14,  9.98it/s, loss=-5.22, v_num=1]\n",
      "Monitored metric elbo_validation did not improve in the last 45 records. Best score: -4.788. Signaling Trainer to stop.\n",
      "veloVI: SignificanceResult(statistic=0.9147209149870735, pvalue=0.0)\n",
      "initiating Net object ...\n",
      "gem_shape: (1500, 6)\n",
      "TF info shape: (6, 8)\n",
      "initiation completed.\n"
     ]
    },
    {
     "data": {
      "application/vnd.jupyter.widget-view+json": {
       "model_id": "f2a4617faf69468ab2114469d3c9df15",
       "version_major": 2,
       "version_minor": 0
      },
      "text/plain": [
       "  0%|          | 0/6 [00:00<?, ?it/s]"
      ]
     },
     "metadata": {},
     "output_type": "display_data"
    },
    {
     "data": {
      "application/vnd.jupyter.widget-view+json": {
       "model_id": "84311cfc1dce48f792dc626647b1c316",
       "version_major": 2,
       "version_minor": 0
      },
      "text/plain": [
       "  0%|          | 0/6 [00:00<?, ?it/s]"
      ]
     },
     "metadata": {},
     "output_type": "display_data"
    },
    {
     "name": "stdout",
     "output_type": "stream",
     "text": [
      "AUC: RegVelo: 0.71 Cor: 0.6100000000000001 GRNBoost2: 0.555 CellOracle: 0.635\n",
      "51\n"
     ]
    },
    {
     "name": "stderr",
     "output_type": "stream",
     "text": [
      "GPU available: True (cuda), used: True\n",
      "TPU available: False, using: 0 TPU cores\n",
      "IPU available: False, using: 0 IPUs\n",
      "HPU available: False, using: 0 HPUs\n",
      "LOCAL_RANK: 0 - CUDA_VISIBLE_DEVICES: [0]\n"
     ]
    },
    {
     "name": "stdout",
     "output_type": "stream",
     "text": [
      "Epoch 581/1500:  39%|███▊      | 581/1500 [02:02<03:13,  4.75it/s, loss=-12.6, v_num=1] \n",
      "Monitored metric elbo_validation did not improve in the last 45 records. Best score: -10.927. Signaling Trainer to stop.\n",
      "RegVelo: 0.937277245012109\n",
      "recovering dynamics (using 1/112 cores)\n"
     ]
    },
    {
     "name": "stderr",
     "output_type": "stream",
     "text": [
      "GPU available: True (cuda), used: True\n",
      "TPU available: False, using: 0 TPU cores\n",
      "IPU available: False, using: 0 IPUs\n",
      "HPU available: False, using: 0 HPUs\n",
      "LOCAL_RANK: 0 - CUDA_VISIBLE_DEVICES: [0]\n"
     ]
    },
    {
     "name": "stdout",
     "output_type": "stream",
     "text": [
      "    finished (0:00:00) --> added \n",
      "    'fit_pars', fitted parameters for splicing dynamics (adata.var)\n",
      "computing velocities\n",
      "WARNING: Too few genes are selected as velocity genes. Consider setting a lower threshold for min_r2 or min_likelihood.\n",
      "    finished (0:00:00) --> added \n",
      "    'velocity', velocity vectors for each individual cell (adata.layers)\n",
      "scVelo: 0.4927547978633818\n",
      "Epoch 270/500:  54%|█████▍    | 270/500 [00:26<00:22, 10.07it/s, loss=-7.77, v_num=1]\n",
      "Monitored metric elbo_validation did not improve in the last 45 records. Best score: -6.551. Signaling Trainer to stop.\n",
      "veloVI: SignificanceResult(statistic=0.4367778460672897, pvalue=6.555052570782268e-71)\n",
      "initiating Net object ...\n",
      "gem_shape: (1500, 6)\n",
      "TF info shape: (6, 8)\n",
      "initiation completed.\n"
     ]
    },
    {
     "data": {
      "application/vnd.jupyter.widget-view+json": {
       "model_id": "35792b0fa036414e90009adc79f2ad3b",
       "version_major": 2,
       "version_minor": 0
      },
      "text/plain": [
       "  0%|          | 0/6 [00:00<?, ?it/s]"
      ]
     },
     "metadata": {},
     "output_type": "display_data"
    },
    {
     "data": {
      "application/vnd.jupyter.widget-view+json": {
       "model_id": "3dcbd07a7fe64db5b82eee5e3a75ecfe",
       "version_major": 2,
       "version_minor": 0
      },
      "text/plain": [
       "  0%|          | 0/6 [00:00<?, ?it/s]"
      ]
     },
     "metadata": {},
     "output_type": "display_data"
    },
    {
     "name": "stdout",
     "output_type": "stream",
     "text": [
      "AUC: RegVelo: 0.63 Cor: 0.6699999999999999 GRNBoost2: 0.5299999999999999 CellOracle: 0.52\n",
      "52\n"
     ]
    },
    {
     "name": "stderr",
     "output_type": "stream",
     "text": [
      "GPU available: True (cuda), used: True\n",
      "TPU available: False, using: 0 TPU cores\n",
      "IPU available: False, using: 0 IPUs\n",
      "HPU available: False, using: 0 HPUs\n",
      "LOCAL_RANK: 0 - CUDA_VISIBLE_DEVICES: [0]\n"
     ]
    },
    {
     "name": "stdout",
     "output_type": "stream",
     "text": [
      "Epoch 1080/1500:  72%|███████▏  | 1080/1500 [04:36<01:47,  3.90it/s, loss=-17.4, v_num=1]\n",
      "Monitored metric elbo_validation did not improve in the last 45 records. Best score: -17.310. Signaling Trainer to stop.\n",
      "RegVelo: 0.9943661379405059\n",
      "recovering dynamics (using 1/112 cores)\n"
     ]
    },
    {
     "name": "stderr",
     "output_type": "stream",
     "text": [
      "GPU available: True (cuda), used: True\n",
      "TPU available: False, using: 0 TPU cores\n",
      "IPU available: False, using: 0 IPUs\n",
      "HPU available: False, using: 0 HPUs\n"
     ]
    },
    {
     "name": "stdout",
     "output_type": "stream",
     "text": [
      "    finished (0:00:01) --> added \n",
      "    'fit_pars', fitted parameters for splicing dynamics (adata.var)\n",
      "computing velocities\n",
      "WARNING: Too few genes are selected as velocity genes. Consider setting a lower threshold for min_r2 or min_likelihood.\n",
      "    finished (0:00:00) --> added \n",
      "    'velocity', velocity vectors for each individual cell (adata.layers)\n",
      "scVelo: 0.8279601810223683\n"
     ]
    },
    {
     "name": "stderr",
     "output_type": "stream",
     "text": [
      "LOCAL_RANK: 0 - CUDA_VISIBLE_DEVICES: [0]\n"
     ]
    },
    {
     "name": "stdout",
     "output_type": "stream",
     "text": [
      "Epoch 331/500:  66%|██████▌   | 331/500 [00:32<00:16, 10.19it/s, loss=-9.96, v_num=1]\n",
      "Monitored metric elbo_validation did not improve in the last 45 records. Best score: -9.439. Signaling Trainer to stop.\n",
      "veloVI: SignificanceResult(statistic=-0.011911859516382007, pvalue=0.6448157608339361)\n",
      "initiating Net object ...\n",
      "gem_shape: (1500, 6)\n",
      "TF info shape: (6, 8)\n",
      "initiation completed.\n"
     ]
    },
    {
     "data": {
      "application/vnd.jupyter.widget-view+json": {
       "model_id": "64f5ac99f5a546cd96b5a461e64f1a10",
       "version_major": 2,
       "version_minor": 0
      },
      "text/plain": [
       "  0%|          | 0/6 [00:00<?, ?it/s]"
      ]
     },
     "metadata": {},
     "output_type": "display_data"
    },
    {
     "data": {
      "application/vnd.jupyter.widget-view+json": {
       "model_id": "5dc3de95d3d24b20a7a6d6a4b1351b0a",
       "version_major": 2,
       "version_minor": 0
      },
      "text/plain": [
       "  0%|          | 0/6 [00:00<?, ?it/s]"
      ]
     },
     "metadata": {},
     "output_type": "display_data"
    },
    {
     "name": "stdout",
     "output_type": "stream",
     "text": [
      "AUC: RegVelo: 0.535 Cor: 0.6799999999999999 GRNBoost2: 0.65 CellOracle: 0.5700000000000001\n",
      "53\n"
     ]
    },
    {
     "name": "stderr",
     "output_type": "stream",
     "text": [
      "2024-08-10 15:24:40,754 - distributed.comm.tcp - INFO - Connection from tcp://127.0.0.1:8834 closed before handshake completed\n",
      "GPU available: True (cuda), used: True\n",
      "TPU available: False, using: 0 TPU cores\n",
      "IPU available: False, using: 0 IPUs\n",
      "HPU available: False, using: 0 HPUs\n",
      "LOCAL_RANK: 0 - CUDA_VISIBLE_DEVICES: [0]\n"
     ]
    },
    {
     "name": "stdout",
     "output_type": "stream",
     "text": [
      "Epoch 964/1500:  64%|██████▍   | 964/1500 [03:50<02:07,  4.19it/s, loss=-15.5, v_num=1]  \n",
      "Monitored metric elbo_validation did not improve in the last 45 records. Best score: -15.555. Signaling Trainer to stop.\n",
      "RegVelo: -0.22587367214463092\n",
      "recovering dynamics (using 1/112 cores)\n"
     ]
    },
    {
     "name": "stderr",
     "output_type": "stream",
     "text": [
      "GPU available: True (cuda), used: True\n",
      "TPU available: False, using: 0 TPU cores\n",
      "IPU available: False, using: 0 IPUs\n",
      "HPU available: False, using: 0 HPUs\n",
      "LOCAL_RANK: 0 - CUDA_VISIBLE_DEVICES: [0]\n"
     ]
    },
    {
     "name": "stdout",
     "output_type": "stream",
     "text": [
      "    finished (0:00:00) --> added \n",
      "    'fit_pars', fitted parameters for splicing dynamics (adata.var)\n",
      "computing velocities\n",
      "WARNING: Too few genes are selected as velocity genes. Consider setting a lower threshold for min_r2 or min_likelihood.\n",
      "    finished (0:00:00) --> added \n",
      "    'velocity', velocity vectors for each individual cell (adata.layers)\n",
      "scVelo: 0.883269513558188\n",
      "Epoch 242/500:  48%|████▊     | 242/500 [00:23<00:25, 10.21it/s, loss=-6.16, v_num=1]\n",
      "Monitored metric elbo_validation did not improve in the last 45 records. Best score: -5.809. Signaling Trainer to stop.\n",
      "veloVI: SignificanceResult(statistic=0.4664195286010523, pvalue=6.989772922729968e-82)\n",
      "initiating Net object ...\n",
      "gem_shape: (1500, 6)\n",
      "TF info shape: (6, 8)\n",
      "initiation completed.\n"
     ]
    },
    {
     "data": {
      "application/vnd.jupyter.widget-view+json": {
       "model_id": "dcd709512a1b47f780cca3f715696d3f",
       "version_major": 2,
       "version_minor": 0
      },
      "text/plain": [
       "  0%|          | 0/6 [00:00<?, ?it/s]"
      ]
     },
     "metadata": {},
     "output_type": "display_data"
    },
    {
     "data": {
      "application/vnd.jupyter.widget-view+json": {
       "model_id": "2f4667d8db7940028ec578789275aa2e",
       "version_major": 2,
       "version_minor": 0
      },
      "text/plain": [
       "  0%|          | 0/6 [00:00<?, ?it/s]"
      ]
     },
     "metadata": {},
     "output_type": "display_data"
    },
    {
     "name": "stdout",
     "output_type": "stream",
     "text": [
      "AUC: RegVelo: 0.76 Cor: 0.95 GRNBoost2: 0.6299999999999999 CellOracle: 0.55\n",
      "54\n"
     ]
    },
    {
     "name": "stderr",
     "output_type": "stream",
     "text": [
      "GPU available: True (cuda), used: True\n",
      "TPU available: False, using: 0 TPU cores\n",
      "IPU available: False, using: 0 IPUs\n",
      "HPU available: False, using: 0 HPUs\n",
      "LOCAL_RANK: 0 - CUDA_VISIBLE_DEVICES: [0]\n"
     ]
    },
    {
     "name": "stdout",
     "output_type": "stream",
     "text": [
      "Epoch 849/1500:  57%|█████▋    | 849/1500 [03:42<02:50,  3.82it/s, loss=-14.8, v_num=1]  \n",
      "Monitored metric elbo_validation did not improve in the last 45 records. Best score: -14.983. Signaling Trainer to stop.\n",
      "RegVelo: 0.9898363332425238\n",
      "recovering dynamics (using 1/112 cores)\n"
     ]
    },
    {
     "name": "stderr",
     "output_type": "stream",
     "text": [
      "GPU available: True (cuda), used: True\n",
      "TPU available: False, using: 0 TPU cores\n",
      "IPU available: False, using: 0 IPUs\n",
      "HPU available: False, using: 0 HPUs\n",
      "LOCAL_RANK: 0 - CUDA_VISIBLE_DEVICES: [0]\n"
     ]
    },
    {
     "name": "stdout",
     "output_type": "stream",
     "text": [
      "    finished (0:00:00) --> added \n",
      "    'fit_pars', fitted parameters for splicing dynamics (adata.var)\n",
      "computing velocities\n",
      "WARNING: Too few genes are selected as velocity genes. Consider setting a lower threshold for min_r2 or min_likelihood.\n",
      "    finished (0:00:00) --> added \n",
      "    'velocity', velocity vectors for each individual cell (adata.layers)\n",
      "scVelo: 0.5487592208824854\n",
      "Epoch 233/500:  47%|████▋     | 233/500 [00:23<00:27,  9.88it/s, loss=-8.84, v_num=1]\n",
      "Monitored metric elbo_validation did not improve in the last 45 records. Best score: -7.473. Signaling Trainer to stop.\n",
      "veloVI: SignificanceResult(statistic=0.5930947583470879, pvalue=3.3875878229302603e-143)\n",
      "initiating Net object ...\n",
      "gem_shape: (1500, 6)\n",
      "TF info shape: (6, 8)\n",
      "initiation completed.\n"
     ]
    },
    {
     "data": {
      "application/vnd.jupyter.widget-view+json": {
       "model_id": "b98007a50afb4f949850df2fe6dc94e4",
       "version_major": 2,
       "version_minor": 0
      },
      "text/plain": [
       "  0%|          | 0/6 [00:00<?, ?it/s]"
      ]
     },
     "metadata": {},
     "output_type": "display_data"
    },
    {
     "data": {
      "application/vnd.jupyter.widget-view+json": {
       "model_id": "d9787c6d6a9e49748c220f50e184af1c",
       "version_major": 2,
       "version_minor": 0
      },
      "text/plain": [
       "  0%|          | 0/6 [00:00<?, ?it/s]"
      ]
     },
     "metadata": {},
     "output_type": "display_data"
    },
    {
     "name": "stdout",
     "output_type": "stream",
     "text": [
      "AUC: RegVelo: 0.545 Cor: 0.6799999999999999 GRNBoost2: 0.6950000000000001 CellOracle: 0.5349999999999999\n",
      "55\n"
     ]
    },
    {
     "name": "stderr",
     "output_type": "stream",
     "text": [
      "GPU available: True (cuda), used: True\n",
      "TPU available: False, using: 0 TPU cores\n",
      "IPU available: False, using: 0 IPUs\n",
      "HPU available: False, using: 0 HPUs\n",
      "LOCAL_RANK: 0 - CUDA_VISIBLE_DEVICES: [0]\n"
     ]
    },
    {
     "name": "stdout",
     "output_type": "stream",
     "text": [
      "Epoch 630/1500:  42%|████▏     | 630/1500 [02:10<03:00,  4.82it/s, loss=-14.6, v_num=1]  \n",
      "Monitored metric elbo_validation did not improve in the last 45 records. Best score: -12.557. Signaling Trainer to stop.\n",
      "RegVelo: 0.8738925839522597\n",
      "recovering dynamics (using 1/112 cores)\n"
     ]
    },
    {
     "name": "stderr",
     "output_type": "stream",
     "text": [
      "GPU available: True (cuda), used: True\n",
      "TPU available: False, using: 0 TPU cores\n",
      "IPU available: False, using: 0 IPUs\n",
      "HPU available: False, using: 0 HPUs\n",
      "LOCAL_RANK: 0 - CUDA_VISIBLE_DEVICES: [0]\n"
     ]
    },
    {
     "name": "stdout",
     "output_type": "stream",
     "text": [
      "    finished (0:00:00) --> added \n",
      "    'fit_pars', fitted parameters for splicing dynamics (adata.var)\n",
      "computing velocities\n",
      "WARNING: Too few genes are selected as velocity genes. Consider setting a lower threshold for min_r2 or min_likelihood.\n",
      "    finished (0:00:00) --> added \n",
      "    'velocity', velocity vectors for each individual cell (adata.layers)\n",
      "scVelo: 0.8772642998300566\n",
      "Epoch 219/500:  44%|████▍     | 219/500 [00:21<00:28, 10.02it/s, loss=-9.49, v_num=1] \n",
      "Monitored metric elbo_validation did not improve in the last 45 records. Best score: -7.100. Signaling Trainer to stop.\n",
      "veloVI: SignificanceResult(statistic=0.3182930801302579, pvalue=1.1545147883557515e-36)\n",
      "initiating Net object ...\n",
      "gem_shape: (1500, 6)\n",
      "TF info shape: (6, 8)\n",
      "initiation completed.\n"
     ]
    },
    {
     "data": {
      "application/vnd.jupyter.widget-view+json": {
       "model_id": "51fb87fd11ec40899a2f01323032d741",
       "version_major": 2,
       "version_minor": 0
      },
      "text/plain": [
       "  0%|          | 0/6 [00:00<?, ?it/s]"
      ]
     },
     "metadata": {},
     "output_type": "display_data"
    },
    {
     "data": {
      "application/vnd.jupyter.widget-view+json": {
       "model_id": "92c4dfcace984f86bff49a5752e979d7",
       "version_major": 2,
       "version_minor": 0
      },
      "text/plain": [
       "  0%|          | 0/6 [00:00<?, ?it/s]"
      ]
     },
     "metadata": {},
     "output_type": "display_data"
    },
    {
     "name": "stdout",
     "output_type": "stream",
     "text": [
      "AUC: RegVelo: 0.635 Cor: 0.68 GRNBoost2: 0.67 CellOracle: 0.51\n",
      "56\n"
     ]
    },
    {
     "name": "stderr",
     "output_type": "stream",
     "text": [
      "GPU available: True (cuda), used: True\n",
      "TPU available: False, using: 0 TPU cores\n",
      "IPU available: False, using: 0 IPUs\n",
      "HPU available: False, using: 0 HPUs\n",
      "LOCAL_RANK: 0 - CUDA_VISIBLE_DEVICES: [0]\n"
     ]
    },
    {
     "name": "stdout",
     "output_type": "stream",
     "text": [
      "Epoch 807/1500:  54%|█████▍    | 807/1500 [03:17<02:49,  4.08it/s, loss=-14.5, v_num=1]   \n",
      "Monitored metric elbo_validation did not improve in the last 45 records. Best score: -13.950. Signaling Trainer to stop.\n",
      "RegVelo: 0.9088364679273191\n",
      "recovering dynamics (using 1/112 cores)\n"
     ]
    },
    {
     "name": "stderr",
     "output_type": "stream",
     "text": [
      "GPU available: True (cuda), used: True\n",
      "TPU available: False, using: 0 TPU cores\n",
      "IPU available: False, using: 0 IPUs\n",
      "HPU available: False, using: 0 HPUs\n",
      "LOCAL_RANK: 0 - CUDA_VISIBLE_DEVICES: [0]\n"
     ]
    },
    {
     "name": "stdout",
     "output_type": "stream",
     "text": [
      "    finished (0:00:00) --> added \n",
      "    'fit_pars', fitted parameters for splicing dynamics (adata.var)\n",
      "computing velocities\n",
      "WARNING: Too few genes are selected as velocity genes. Consider setting a lower threshold for min_r2 or min_likelihood.\n",
      "    finished (0:00:00) --> added \n",
      "    'velocity', velocity vectors for each individual cell (adata.layers)\n",
      "scVelo: 0.33144186058716935\n",
      "Epoch 466/500:  93%|█████████▎| 466/500 [00:46<00:03,  9.98it/s, loss=-9.7, v_num=1] \n",
      "Monitored metric elbo_validation did not improve in the last 45 records. Best score: -9.442. Signaling Trainer to stop.\n",
      "veloVI: SignificanceResult(statistic=0.4974381264101134, pvalue=1.3924402234579277e-94)\n",
      "initiating Net object ...\n",
      "gem_shape: (1500, 6)\n",
      "TF info shape: (6, 8)\n",
      "initiation completed.\n"
     ]
    },
    {
     "data": {
      "application/vnd.jupyter.widget-view+json": {
       "model_id": "dea9167528094fa0850479d6e64f917d",
       "version_major": 2,
       "version_minor": 0
      },
      "text/plain": [
       "  0%|          | 0/6 [00:00<?, ?it/s]"
      ]
     },
     "metadata": {},
     "output_type": "display_data"
    },
    {
     "data": {
      "application/vnd.jupyter.widget-view+json": {
       "model_id": "03db7c17462c4dfd967e37c701f3d507",
       "version_major": 2,
       "version_minor": 0
      },
      "text/plain": [
       "  0%|          | 0/6 [00:00<?, ?it/s]"
      ]
     },
     "metadata": {},
     "output_type": "display_data"
    },
    {
     "name": "stdout",
     "output_type": "stream",
     "text": [
      "AUC: RegVelo: 0.595 Cor: 0.71 GRNBoost2: 0.655 CellOracle: 0.435\n",
      "57\n"
     ]
    },
    {
     "name": "stderr",
     "output_type": "stream",
     "text": [
      "GPU available: True (cuda), used: True\n",
      "TPU available: False, using: 0 TPU cores\n",
      "IPU available: False, using: 0 IPUs\n",
      "HPU available: False, using: 0 HPUs\n",
      "LOCAL_RANK: 0 - CUDA_VISIBLE_DEVICES: [0]\n"
     ]
    },
    {
     "name": "stdout",
     "output_type": "stream",
     "text": [
      "Epoch 638/1500:  43%|████▎     | 638/1500 [02:03<02:47,  5.15it/s, loss=-14.3, v_num=1]  \n",
      "Monitored metric elbo_validation did not improve in the last 45 records. Best score: -12.512. Signaling Trainer to stop.\n",
      "RegVelo: 0.8510355320157922\n",
      "recovering dynamics (using 1/112 cores)\n"
     ]
    },
    {
     "name": "stderr",
     "output_type": "stream",
     "text": [
      "GPU available: True (cuda), used: True\n",
      "TPU available: False, using: 0 TPU cores\n",
      "IPU available: False, using: 0 IPUs\n",
      "HPU available: False, using: 0 HPUs\n",
      "LOCAL_RANK: 0 - CUDA_VISIBLE_DEVICES: [0]\n"
     ]
    },
    {
     "name": "stdout",
     "output_type": "stream",
     "text": [
      "    finished (0:00:00) --> added \n",
      "    'fit_pars', fitted parameters for splicing dynamics (adata.var)\n",
      "computing velocities\n",
      "WARNING: Too few genes are selected as velocity genes. Consider setting a lower threshold for min_r2 or min_likelihood.\n",
      "    finished (0:00:00) --> added \n",
      "    'velocity', velocity vectors for each individual cell (adata.layers)\n",
      "scVelo: 0.8570305943987644\n",
      "Epoch 226/500:  45%|████▌     | 226/500 [00:22<00:27,  9.98it/s, loss=-8.69, v_num=1]\n",
      "Monitored metric elbo_validation did not improve in the last 45 records. Best score: -7.128. Signaling Trainer to stop.\n",
      "veloVI: SignificanceResult(statistic=0.7302898985557682, pvalue=3.494707881691173e-250)\n",
      "initiating Net object ...\n",
      "gem_shape: (1500, 6)\n",
      "TF info shape: (6, 8)\n",
      "initiation completed.\n"
     ]
    },
    {
     "data": {
      "application/vnd.jupyter.widget-view+json": {
       "model_id": "71b95e18b0514ee0bfd978bb89f9e1ac",
       "version_major": 2,
       "version_minor": 0
      },
      "text/plain": [
       "  0%|          | 0/6 [00:00<?, ?it/s]"
      ]
     },
     "metadata": {},
     "output_type": "display_data"
    },
    {
     "data": {
      "application/vnd.jupyter.widget-view+json": {
       "model_id": "b81bfda4ed2f41c4b6662c9234e38d31",
       "version_major": 2,
       "version_minor": 0
      },
      "text/plain": [
       "  0%|          | 0/6 [00:00<?, ?it/s]"
      ]
     },
     "metadata": {},
     "output_type": "display_data"
    },
    {
     "name": "stdout",
     "output_type": "stream",
     "text": [
      "AUC: RegVelo: 0.665 Cor: 0.6200000000000001 GRNBoost2: 0.585 CellOracle: 0.595\n",
      "58\n"
     ]
    },
    {
     "name": "stderr",
     "output_type": "stream",
     "text": [
      "GPU available: True (cuda), used: True\n",
      "TPU available: False, using: 0 TPU cores\n",
      "IPU available: False, using: 0 IPUs\n",
      "HPU available: False, using: 0 HPUs\n",
      "LOCAL_RANK: 0 - CUDA_VISIBLE_DEVICES: [0]\n"
     ]
    },
    {
     "name": "stdout",
     "output_type": "stream",
     "text": [
      "Epoch 1218/1500:  81%|████████  | 1218/1500 [04:49<01:06,  4.21it/s, loss=-18.1, v_num=1]\n",
      "Monitored metric elbo_validation did not improve in the last 45 records. Best score: -18.073. Signaling Trainer to stop.\n",
      "RegVelo: 0.9178475083766704\n",
      "recovering dynamics (using 1/112 cores)\n",
      "    finished (0:00:01) --> added \n",
      "    'fit_pars', fitted parameters for splicing dynamics (adata.var)\n",
      "computing velocities\n",
      "WARNING: Too few genes are selected as velocity genes. Consider setting a lower threshold for min_r2 or min_likelihood.\n",
      "    finished (0:00:00) --> added \n",
      "    'velocity', velocity vectors for each individual cell (adata.layers)\n",
      "scVelo: 0.5339188449528819\n"
     ]
    },
    {
     "name": "stderr",
     "output_type": "stream",
     "text": [
      "GPU available: True (cuda), used: True\n",
      "TPU available: False, using: 0 TPU cores\n",
      "IPU available: False, using: 0 IPUs\n",
      "HPU available: False, using: 0 HPUs\n",
      "LOCAL_RANK: 0 - CUDA_VISIBLE_DEVICES: [0]\n"
     ]
    },
    {
     "name": "stdout",
     "output_type": "stream",
     "text": [
      "Epoch 217/500:  43%|████▎     | 217/500 [00:21<00:28,  9.96it/s, loss=-9.61, v_num=1]\n",
      "Monitored metric elbo_validation did not improve in the last 45 records. Best score: -7.521. Signaling Trainer to stop.\n",
      "veloVI: SignificanceResult(statistic=0.6660504755779891, pvalue=5.910324787424233e-193)\n",
      "initiating Net object ...\n",
      "gem_shape: (1500, 6)\n",
      "TF info shape: (6, 8)\n",
      "initiation completed.\n"
     ]
    },
    {
     "data": {
      "application/vnd.jupyter.widget-view+json": {
       "model_id": "775247fd76184a8fa5dd83a91440e2dd",
       "version_major": 2,
       "version_minor": 0
      },
      "text/plain": [
       "  0%|          | 0/6 [00:00<?, ?it/s]"
      ]
     },
     "metadata": {},
     "output_type": "display_data"
    },
    {
     "data": {
      "application/vnd.jupyter.widget-view+json": {
       "model_id": "0dae031aee654d99a9d2f800fb0dc354",
       "version_major": 2,
       "version_minor": 0
      },
      "text/plain": [
       "  0%|          | 0/6 [00:00<?, ?it/s]"
      ]
     },
     "metadata": {},
     "output_type": "display_data"
    },
    {
     "name": "stdout",
     "output_type": "stream",
     "text": [
      "AUC: RegVelo: 0.61 Cor: 0.52 GRNBoost2: 0.57 CellOracle: 0.575\n",
      "59\n"
     ]
    },
    {
     "name": "stderr",
     "output_type": "stream",
     "text": [
      "GPU available: True (cuda), used: True\n",
      "TPU available: False, using: 0 TPU cores\n",
      "IPU available: False, using: 0 IPUs\n",
      "HPU available: False, using: 0 HPUs\n",
      "LOCAL_RANK: 0 - CUDA_VISIBLE_DEVICES: [0]\n"
     ]
    },
    {
     "name": "stdout",
     "output_type": "stream",
     "text": [
      "Epoch 619/1500:  41%|████▏     | 619/1500 [01:53<02:42,  5.44it/s, loss=-13.1, v_num=1]  \n",
      "Monitored metric elbo_validation did not improve in the last 45 records. Best score: -12.281. Signaling Trainer to stop.\n",
      "RegVelo: 0.9524175032543727\n",
      "recovering dynamics (using 1/112 cores)\n"
     ]
    },
    {
     "name": "stderr",
     "output_type": "stream",
     "text": [
      "GPU available: True (cuda), used: True\n",
      "TPU available: False, using: 0 TPU cores\n",
      "IPU available: False, using: 0 IPUs\n",
      "HPU available: False, using: 0 HPUs\n",
      "LOCAL_RANK: 0 - CUDA_VISIBLE_DEVICES: [0]\n"
     ]
    },
    {
     "name": "stdout",
     "output_type": "stream",
     "text": [
      "    finished (0:00:00) --> added \n",
      "    'fit_pars', fitted parameters for splicing dynamics (adata.var)\n",
      "computing velocities\n",
      "WARNING: Too few genes are selected as velocity genes. Consider setting a lower threshold for min_r2 or min_likelihood.\n",
      "    finished (0:00:00) --> added \n",
      "    'velocity', velocity vectors for each individual cell (adata.layers)\n",
      "scVelo: 0.4745523447953241\n",
      "Epoch 279/500:  56%|█████▌    | 279/500 [00:27<00:21, 10.15it/s, loss=-7.35, v_num=1]\n",
      "Monitored metric elbo_validation did not improve in the last 45 records. Best score: -6.284. Signaling Trainer to stop.\n",
      "veloVI: SignificanceResult(statistic=0.45452619312275255, pvalue=2.3852725584628798e-77)\n",
      "initiating Net object ...\n",
      "gem_shape: (1500, 6)\n",
      "TF info shape: (6, 8)\n",
      "initiation completed.\n"
     ]
    },
    {
     "data": {
      "application/vnd.jupyter.widget-view+json": {
       "model_id": "423792c8f86149c1a5857ef69ee92c9b",
       "version_major": 2,
       "version_minor": 0
      },
      "text/plain": [
       "  0%|          | 0/6 [00:00<?, ?it/s]"
      ]
     },
     "metadata": {},
     "output_type": "display_data"
    },
    {
     "data": {
      "application/vnd.jupyter.widget-view+json": {
       "model_id": "47c6290ffa43484e9e7448c081aebae3",
       "version_major": 2,
       "version_minor": 0
      },
      "text/plain": [
       "  0%|          | 0/6 [00:00<?, ?it/s]"
      ]
     },
     "metadata": {},
     "output_type": "display_data"
    },
    {
     "name": "stdout",
     "output_type": "stream",
     "text": [
      "AUC: RegVelo: 0.565 Cor: 0.6199999999999999 GRNBoost2: 0.5650000000000001 CellOracle: 0.485\n",
      "60\n"
     ]
    },
    {
     "name": "stderr",
     "output_type": "stream",
     "text": [
      "GPU available: True (cuda), used: True\n",
      "TPU available: False, using: 0 TPU cores\n",
      "IPU available: False, using: 0 IPUs\n",
      "HPU available: False, using: 0 HPUs\n",
      "LOCAL_RANK: 0 - CUDA_VISIBLE_DEVICES: [0]\n"
     ]
    },
    {
     "name": "stdout",
     "output_type": "stream",
     "text": [
      "Epoch 623/1500:  42%|████▏     | 623/1500 [02:03<02:54,  5.03it/s, loss=-15.4, v_num=1]  \n",
      "Monitored metric elbo_validation did not improve in the last 45 records. Best score: -14.288. Signaling Trainer to stop.\n",
      "RegVelo: 0.8416568931808416\n",
      "recovering dynamics (using 1/112 cores)\n"
     ]
    },
    {
     "name": "stderr",
     "output_type": "stream",
     "text": [
      "GPU available: True (cuda), used: True\n",
      "TPU available: False, using: 0 TPU cores\n",
      "IPU available: False, using: 0 IPUs\n",
      "HPU available: False, using: 0 HPUs\n",
      "LOCAL_RANK: 0 - CUDA_VISIBLE_DEVICES: [0]\n"
     ]
    },
    {
     "name": "stdout",
     "output_type": "stream",
     "text": [
      "    finished (0:00:00) --> added \n",
      "    'fit_pars', fitted parameters for splicing dynamics (adata.var)\n",
      "computing velocities\n",
      "WARNING: Too few genes are selected as velocity genes. Consider setting a lower threshold for min_r2 or min_likelihood.\n",
      "    finished (0:00:00) --> added \n",
      "    'velocity', velocity vectors for each individual cell (adata.layers)\n",
      "scVelo: 0.800404667197531\n",
      "Epoch 368/500:  74%|███████▎  | 368/500 [00:36<00:13, 10.03it/s, loss=-9.48, v_num=1]\n",
      "Monitored metric elbo_validation did not improve in the last 45 records. Best score: -9.173. Signaling Trainer to stop.\n",
      "veloVI: SignificanceResult(statistic=0.20428617790496795, pvalue=1.3518471593609704e-15)\n",
      "initiating Net object ...\n",
      "gem_shape: (1500, 6)\n",
      "TF info shape: (6, 8)\n",
      "initiation completed.\n"
     ]
    },
    {
     "data": {
      "application/vnd.jupyter.widget-view+json": {
       "model_id": "66a6c71591bb45f2b5412e8c1ebbe0a7",
       "version_major": 2,
       "version_minor": 0
      },
      "text/plain": [
       "  0%|          | 0/6 [00:00<?, ?it/s]"
      ]
     },
     "metadata": {},
     "output_type": "display_data"
    },
    {
     "data": {
      "application/vnd.jupyter.widget-view+json": {
       "model_id": "53366e1ac01b45fbbff730d6e844fc20",
       "version_major": 2,
       "version_minor": 0
      },
      "text/plain": [
       "  0%|          | 0/6 [00:00<?, ?it/s]"
      ]
     },
     "metadata": {},
     "output_type": "display_data"
    },
    {
     "name": "stdout",
     "output_type": "stream",
     "text": [
      "AUC: RegVelo: 0.68 Cor: 0.6499999999999999 GRNBoost2: 0.595 CellOracle: 0.41\n",
      "61\n"
     ]
    },
    {
     "name": "stderr",
     "output_type": "stream",
     "text": [
      "GPU available: True (cuda), used: True\n",
      "TPU available: False, using: 0 TPU cores\n",
      "IPU available: False, using: 0 IPUs\n",
      "HPU available: False, using: 0 HPUs\n",
      "LOCAL_RANK: 0 - CUDA_VISIBLE_DEVICES: [0]\n"
     ]
    },
    {
     "name": "stdout",
     "output_type": "stream",
     "text": [
      "Epoch 909/1500:  61%|██████    | 909/1500 [04:00<02:36,  3.78it/s, loss=-16.9, v_num=1]  \n",
      "Monitored metric elbo_validation did not improve in the last 45 records. Best score: -16.412. Signaling Trainer to stop.\n",
      "RegVelo: 0.9865028277790348\n",
      "recovering dynamics (using 1/112 cores)\n"
     ]
    },
    {
     "name": "stderr",
     "output_type": "stream",
     "text": [
      "GPU available: True (cuda), used: True\n",
      "TPU available: False, using: 0 TPU cores\n",
      "IPU available: False, using: 0 IPUs\n",
      "HPU available: False, using: 0 HPUs\n",
      "LOCAL_RANK: 0 - CUDA_VISIBLE_DEVICES: [0]\n"
     ]
    },
    {
     "name": "stdout",
     "output_type": "stream",
     "text": [
      "    finished (0:00:00) --> added \n",
      "    'fit_pars', fitted parameters for splicing dynamics (adata.var)\n",
      "computing velocities\n",
      "WARNING: Too few genes are selected as velocity genes. Consider setting a lower threshold for min_r2 or min_likelihood.\n",
      "    finished (0:00:00) --> added \n",
      "    'velocity', velocity vectors for each individual cell (adata.layers)\n",
      "scVelo: 0.6359617727178499\n",
      "Epoch 285/500:  57%|█████▋    | 285/500 [00:28<00:21, 10.08it/s, loss=-9.52, v_num=1]\n",
      "Monitored metric elbo_validation did not improve in the last 45 records. Best score: -8.020. Signaling Trainer to stop.\n",
      "veloVI: SignificanceResult(statistic=-0.4319330417480186, pvalue=3.2270035644208326e-69)\n",
      "initiating Net object ...\n",
      "gem_shape: (1500, 6)\n",
      "TF info shape: (6, 8)\n",
      "initiation completed.\n"
     ]
    },
    {
     "data": {
      "application/vnd.jupyter.widget-view+json": {
       "model_id": "1e0bb6b610a844d99f2a3834b2753f0a",
       "version_major": 2,
       "version_minor": 0
      },
      "text/plain": [
       "  0%|          | 0/6 [00:00<?, ?it/s]"
      ]
     },
     "metadata": {},
     "output_type": "display_data"
    },
    {
     "data": {
      "application/vnd.jupyter.widget-view+json": {
       "model_id": "3622aec8f8f649d18eba9f9cafe44af9",
       "version_major": 2,
       "version_minor": 0
      },
      "text/plain": [
       "  0%|          | 0/6 [00:00<?, ?it/s]"
      ]
     },
     "metadata": {},
     "output_type": "display_data"
    },
    {
     "name": "stdout",
     "output_type": "stream",
     "text": [
      "AUC: RegVelo: 0.44499999999999995 Cor: 0.61 GRNBoost2: 0.75 CellOracle: 0.475\n",
      "62\n"
     ]
    },
    {
     "name": "stderr",
     "output_type": "stream",
     "text": [
      "2024-08-10 16:04:11,749 - distributed.comm.tcp - INFO - Connection from tcp://127.0.0.1:8684 closed before handshake completed\n",
      "GPU available: True (cuda), used: True\n",
      "TPU available: False, using: 0 TPU cores\n",
      "IPU available: False, using: 0 IPUs\n",
      "HPU available: False, using: 0 HPUs\n",
      "LOCAL_RANK: 0 - CUDA_VISIBLE_DEVICES: [0]\n"
     ]
    },
    {
     "name": "stdout",
     "output_type": "stream",
     "text": [
      "Epoch 1151/1500:  77%|███████▋  | 1151/1500 [04:52<01:28,  3.94it/s, loss=-15.3, v_num=1]\n",
      "Monitored metric elbo_validation did not improve in the last 45 records. Best score: -15.931. Signaling Trainer to stop.\n",
      "RegVelo: 0.7102505023335568\n",
      "recovering dynamics (using 1/112 cores)\n",
      "    finished (0:00:00) --> added \n",
      "    'fit_pars', fitted parameters for splicing dynamics (adata.var)\n",
      "computing velocities\n",
      "WARNING: Too few genes are selected as velocity genes. Consider setting a lower threshold for min_r2 or min_likelihood.\n",
      "    finished (0:00:00) --> added \n",
      "    'velocity', velocity vectors for each individual cell (adata.layers)\n",
      "scVelo: 0.4380040107165341\n"
     ]
    },
    {
     "name": "stderr",
     "output_type": "stream",
     "text": [
      "GPU available: True (cuda), used: True\n",
      "TPU available: False, using: 0 TPU cores\n",
      "IPU available: False, using: 0 IPUs\n",
      "HPU available: False, using: 0 HPUs\n",
      "LOCAL_RANK: 0 - CUDA_VISIBLE_DEVICES: [0]\n"
     ]
    },
    {
     "name": "stdout",
     "output_type": "stream",
     "text": [
      "Epoch 407/500:  81%|████████▏ | 407/500 [00:40<00:09, 10.15it/s, loss=-6.69, v_num=1]\n",
      "Monitored metric elbo_validation did not improve in the last 45 records. Best score: -8.204. Signaling Trainer to stop.\n",
      "veloVI: SignificanceResult(statistic=0.16956928262596496, pvalue=3.847435790328635e-11)\n",
      "initiating Net object ...\n",
      "gem_shape: (1500, 6)\n",
      "TF info shape: (6, 8)\n",
      "initiation completed.\n"
     ]
    },
    {
     "data": {
      "application/vnd.jupyter.widget-view+json": {
       "model_id": "46ddc40a5643412fa012bae05e908e2d",
       "version_major": 2,
       "version_minor": 0
      },
      "text/plain": [
       "  0%|          | 0/6 [00:00<?, ?it/s]"
      ]
     },
     "metadata": {},
     "output_type": "display_data"
    },
    {
     "data": {
      "application/vnd.jupyter.widget-view+json": {
       "model_id": "48286e7ea9db4e218e980269b18f5f58",
       "version_major": 2,
       "version_minor": 0
      },
      "text/plain": [
       "  0%|          | 0/6 [00:00<?, ?it/s]"
      ]
     },
     "metadata": {},
     "output_type": "display_data"
    },
    {
     "name": "stdout",
     "output_type": "stream",
     "text": [
      "AUC: RegVelo: 0.625 Cor: 0.6399999999999999 GRNBoost2: 0.64 CellOracle: 0.5449999999999999\n",
      "63\n"
     ]
    },
    {
     "name": "stderr",
     "output_type": "stream",
     "text": [
      "GPU available: True (cuda), used: True\n",
      "TPU available: False, using: 0 TPU cores\n",
      "IPU available: False, using: 0 IPUs\n",
      "HPU available: False, using: 0 HPUs\n",
      "LOCAL_RANK: 0 - CUDA_VISIBLE_DEVICES: [0]\n"
     ]
    },
    {
     "name": "stdout",
     "output_type": "stream",
     "text": [
      "Epoch 836/1500:  56%|█████▌    | 836/1500 [03:06<02:28,  4.48it/s, loss=-15.2, v_num=1]  \n",
      "Monitored metric elbo_validation did not improve in the last 45 records. Best score: -15.394. Signaling Trainer to stop.\n",
      "RegVelo: 0.9866459407077887\n",
      "recovering dynamics (using 1/112 cores)\n"
     ]
    },
    {
     "name": "stderr",
     "output_type": "stream",
     "text": [
      "GPU available: True (cuda), used: True\n",
      "TPU available: False, using: 0 TPU cores\n",
      "IPU available: False, using: 0 IPUs\n",
      "HPU available: False, using: 0 HPUs\n",
      "LOCAL_RANK: 0 - CUDA_VISIBLE_DEVICES: [0]\n"
     ]
    },
    {
     "name": "stdout",
     "output_type": "stream",
     "text": [
      "    finished (0:00:00) --> added \n",
      "    'fit_pars', fitted parameters for splicing dynamics (adata.var)\n",
      "computing velocities\n",
      "WARNING: Too few genes are selected as velocity genes. Consider setting a lower threshold for min_r2 or min_likelihood.\n",
      "    finished (0:00:00) --> added \n",
      "    'velocity', velocity vectors for each individual cell (adata.layers)\n",
      "scVelo: 0.546583153512028\n",
      "Epoch 326/500:  65%|██████▌   | 326/500 [00:32<00:17, 10.11it/s, loss=-5.13, v_num=1]\n",
      "Monitored metric elbo_validation did not improve in the last 45 records. Best score: -5.908. Signaling Trainer to stop.\n",
      "veloVI: SignificanceResult(statistic=0.8937210948926833, pvalue=0.0)\n",
      "initiating Net object ...\n",
      "gem_shape: (1500, 6)\n",
      "TF info shape: (6, 8)\n",
      "initiation completed.\n"
     ]
    },
    {
     "data": {
      "application/vnd.jupyter.widget-view+json": {
       "model_id": "318774fb43ab408294a472008b3a3a0a",
       "version_major": 2,
       "version_minor": 0
      },
      "text/plain": [
       "  0%|          | 0/6 [00:00<?, ?it/s]"
      ]
     },
     "metadata": {},
     "output_type": "display_data"
    },
    {
     "data": {
      "application/vnd.jupyter.widget-view+json": {
       "model_id": "6248b59a4501471a8d1436a98416f607",
       "version_major": 2,
       "version_minor": 0
      },
      "text/plain": [
       "  0%|          | 0/6 [00:00<?, ?it/s]"
      ]
     },
     "metadata": {},
     "output_type": "display_data"
    },
    {
     "name": "stdout",
     "output_type": "stream",
     "text": [
      "AUC: RegVelo: 0.64 Cor: 0.6299999999999999 GRNBoost2: 0.775 CellOracle: 0.525\n",
      "64\n"
     ]
    },
    {
     "name": "stderr",
     "output_type": "stream",
     "text": [
      "GPU available: True (cuda), used: True\n",
      "TPU available: False, using: 0 TPU cores\n",
      "IPU available: False, using: 0 IPUs\n",
      "HPU available: False, using: 0 HPUs\n",
      "LOCAL_RANK: 0 - CUDA_VISIBLE_DEVICES: [0]\n"
     ]
    },
    {
     "name": "stdout",
     "output_type": "stream",
     "text": [
      "Epoch 795/1500:  53%|█████▎    | 795/1500 [02:35<02:17,  5.12it/s, loss=-13.6, v_num=1]  \n",
      "Monitored metric elbo_validation did not improve in the last 45 records. Best score: -13.648. Signaling Trainer to stop.\n",
      "RegVelo: 0.9742898587954929\n",
      "recovering dynamics (using 1/112 cores)\n"
     ]
    },
    {
     "name": "stderr",
     "output_type": "stream",
     "text": [
      "GPU available: True (cuda), used: True\n",
      "TPU available: False, using: 0 TPU cores\n",
      "IPU available: False, using: 0 IPUs\n",
      "HPU available: False, using: 0 HPUs\n",
      "LOCAL_RANK: 0 - CUDA_VISIBLE_DEVICES: [0]\n"
     ]
    },
    {
     "name": "stdout",
     "output_type": "stream",
     "text": [
      "    finished (0:00:00) --> added \n",
      "    'fit_pars', fitted parameters for splicing dynamics (adata.var)\n",
      "computing velocities\n",
      "WARNING: Too few genes are selected as velocity genes. Consider setting a lower threshold for min_r2 or min_likelihood.\n",
      "    finished (0:00:00) --> added \n",
      "    'velocity', velocity vectors for each individual cell (adata.layers)\n",
      "scVelo: 0.732791085988995\n",
      "Epoch 194/500:  39%|███▉      | 194/500 [00:19<00:30, 10.19it/s, loss=-4.26, v_num=1]\n",
      "Monitored metric elbo_validation did not improve in the last 45 records. Best score: -2.581. Signaling Trainer to stop.\n",
      "veloVI: SignificanceResult(statistic=0.7068818359474827, pvalue=1.5844213884403152e-227)\n",
      "initiating Net object ...\n",
      "gem_shape: (1500, 6)\n",
      "TF info shape: (6, 8)\n",
      "initiation completed.\n"
     ]
    },
    {
     "data": {
      "application/vnd.jupyter.widget-view+json": {
       "model_id": "da2dae15234b4cabb824602ff3ef0619",
       "version_major": 2,
       "version_minor": 0
      },
      "text/plain": [
       "  0%|          | 0/6 [00:00<?, ?it/s]"
      ]
     },
     "metadata": {},
     "output_type": "display_data"
    },
    {
     "data": {
      "application/vnd.jupyter.widget-view+json": {
       "model_id": "691efe59392343a693fa42276b6628dd",
       "version_major": 2,
       "version_minor": 0
      },
      "text/plain": [
       "  0%|          | 0/6 [00:00<?, ?it/s]"
      ]
     },
     "metadata": {},
     "output_type": "display_data"
    },
    {
     "name": "stdout",
     "output_type": "stream",
     "text": [
      "AUC: RegVelo: 0.8500000000000001 Cor: 0.76 GRNBoost2: 0.8 CellOracle: 0.5800000000000001\n",
      "65\n"
     ]
    },
    {
     "name": "stderr",
     "output_type": "stream",
     "text": [
      "GPU available: True (cuda), used: True\n",
      "TPU available: False, using: 0 TPU cores\n",
      "IPU available: False, using: 0 IPUs\n",
      "HPU available: False, using: 0 HPUs\n",
      "LOCAL_RANK: 0 - CUDA_VISIBLE_DEVICES: [0]\n"
     ]
    },
    {
     "name": "stdout",
     "output_type": "stream",
     "text": [
      "Epoch 918/1500:  61%|██████    | 918/1500 [03:31<02:13,  4.34it/s, loss=-14, v_num=1]    \n",
      "Monitored metric elbo_validation did not improve in the last 45 records. Best score: -14.119. Signaling Trainer to stop.\n",
      "RegVelo: 0.887908462181539\n",
      "recovering dynamics (using 1/112 cores)\n"
     ]
    },
    {
     "name": "stderr",
     "output_type": "stream",
     "text": [
      "GPU available: True (cuda), used: True\n",
      "TPU available: False, using: 0 TPU cores\n",
      "IPU available: False, using: 0 IPUs\n",
      "HPU available: False, using: 0 HPUs\n",
      "LOCAL_RANK: 0 - CUDA_VISIBLE_DEVICES: [0]\n"
     ]
    },
    {
     "name": "stdout",
     "output_type": "stream",
     "text": [
      "    finished (0:00:00) --> added \n",
      "    'fit_pars', fitted parameters for splicing dynamics (adata.var)\n",
      "computing velocities\n",
      "WARNING: Too few genes are selected as velocity genes. Consider setting a lower threshold for min_r2 or min_likelihood.\n",
      "    finished (0:00:00) --> added \n",
      "    'velocity', velocity vectors for each individual cell (adata.layers)\n",
      "scVelo: 0.40903575624221467\n",
      "Epoch 259/500:  52%|█████▏    | 259/500 [00:25<00:23, 10.15it/s, loss=-7.52, v_num=1]\n",
      "Monitored metric elbo_validation did not improve in the last 45 records. Best score: -6.393. Signaling Trainer to stop.\n",
      "veloVI: SignificanceResult(statistic=0.8949048706243871, pvalue=0.0)\n",
      "initiating Net object ...\n",
      "gem_shape: (1500, 6)\n",
      "TF info shape: (6, 8)\n",
      "initiation completed.\n"
     ]
    },
    {
     "data": {
      "application/vnd.jupyter.widget-view+json": {
       "model_id": "2b15f856b49e4ae6b89e922d4840fe71",
       "version_major": 2,
       "version_minor": 0
      },
      "text/plain": [
       "  0%|          | 0/6 [00:00<?, ?it/s]"
      ]
     },
     "metadata": {},
     "output_type": "display_data"
    },
    {
     "data": {
      "application/vnd.jupyter.widget-view+json": {
       "model_id": "ef68d4cebefc49feb9cef548865b4e96",
       "version_major": 2,
       "version_minor": 0
      },
      "text/plain": [
       "  0%|          | 0/6 [00:00<?, ?it/s]"
      ]
     },
     "metadata": {},
     "output_type": "display_data"
    },
    {
     "name": "stdout",
     "output_type": "stream",
     "text": [
      "AUC: RegVelo: 0.59 Cor: 0.5800000000000001 GRNBoost2: 0.645 CellOracle: 0.49\n",
      "66\n"
     ]
    },
    {
     "name": "stderr",
     "output_type": "stream",
     "text": [
      "GPU available: True (cuda), used: True\n",
      "TPU available: False, using: 0 TPU cores\n",
      "IPU available: False, using: 0 IPUs\n",
      "HPU available: False, using: 0 HPUs\n",
      "LOCAL_RANK: 0 - CUDA_VISIBLE_DEVICES: [0]\n"
     ]
    },
    {
     "name": "stdout",
     "output_type": "stream",
     "text": [
      "Epoch 673/1500:  45%|████▍     | 673/1500 [02:38<03:14,  4.25it/s, loss=-13.3, v_num=1]   \n",
      "Monitored metric elbo_validation did not improve in the last 45 records. Best score: -13.225. Signaling Trainer to stop.\n",
      "RegVelo: 0.9966100216044541\n",
      "recovering dynamics (using 1/112 cores)\n"
     ]
    },
    {
     "name": "stderr",
     "output_type": "stream",
     "text": [
      "GPU available: True (cuda), used: True\n",
      "TPU available: False, using: 0 TPU cores\n",
      "IPU available: False, using: 0 IPUs\n",
      "HPU available: False, using: 0 HPUs\n",
      "LOCAL_RANK: 0 - CUDA_VISIBLE_DEVICES: [0]\n"
     ]
    },
    {
     "name": "stdout",
     "output_type": "stream",
     "text": [
      "    finished (0:00:00) --> added \n",
      "    'fit_pars', fitted parameters for splicing dynamics (adata.var)\n",
      "computing velocities\n",
      "WARNING: Too few genes are selected as velocity genes. Consider setting a lower threshold for min_r2 or min_likelihood.\n",
      "    finished (0:00:00) --> added \n",
      "    'velocity', velocity vectors for each individual cell (adata.layers)\n",
      "scVelo: 0.3052940323906154\n",
      "Epoch 227/500:  45%|████▌     | 227/500 [00:22<00:27, 10.08it/s, loss=-5.16, v_num=1]\n",
      "Monitored metric elbo_validation did not improve in the last 45 records. Best score: -4.059. Signaling Trainer to stop.\n",
      "veloVI: SignificanceResult(statistic=0.4770343244392859, pvalue=4.411139785513158e-86)\n",
      "initiating Net object ...\n",
      "gem_shape: (1500, 6)\n",
      "TF info shape: (6, 8)\n",
      "initiation completed.\n"
     ]
    },
    {
     "data": {
      "application/vnd.jupyter.widget-view+json": {
       "model_id": "a9e84f0d1b5b43c8b04ee0369e1829e5",
       "version_major": 2,
       "version_minor": 0
      },
      "text/plain": [
       "  0%|          | 0/6 [00:00<?, ?it/s]"
      ]
     },
     "metadata": {},
     "output_type": "display_data"
    },
    {
     "data": {
      "application/vnd.jupyter.widget-view+json": {
       "model_id": "ebe20f0961ad441dac87f3533b29c1ac",
       "version_major": 2,
       "version_minor": 0
      },
      "text/plain": [
       "  0%|          | 0/6 [00:00<?, ?it/s]"
      ]
     },
     "metadata": {},
     "output_type": "display_data"
    },
    {
     "name": "stdout",
     "output_type": "stream",
     "text": [
      "AUC: RegVelo: 0.48 Cor: 0.62 GRNBoost2: 0.61 CellOracle: 0.495\n",
      "67\n"
     ]
    },
    {
     "name": "stderr",
     "output_type": "stream",
     "text": [
      "GPU available: True (cuda), used: True\n",
      "TPU available: False, using: 0 TPU cores\n",
      "IPU available: False, using: 0 IPUs\n",
      "HPU available: False, using: 0 HPUs\n",
      "LOCAL_RANK: 0 - CUDA_VISIBLE_DEVICES: [0]\n"
     ]
    },
    {
     "name": "stdout",
     "output_type": "stream",
     "text": [
      "Epoch 1143/1500:  76%|███████▌  | 1143/1500 [04:32<01:25,  4.19it/s, loss=-14.9, v_num=1] \n",
      "Monitored metric elbo_validation did not improve in the last 45 records. Best score: -15.565. Signaling Trainer to stop.\n",
      "RegVelo: 0.30799446604909114\n",
      "recovering dynamics (using 1/112 cores)\n"
     ]
    },
    {
     "name": "stderr",
     "output_type": "stream",
     "text": [
      "GPU available: True (cuda), used: True\n",
      "TPU available: False, using: 0 TPU cores\n",
      "IPU available: False, using: 0 IPUs\n",
      "HPU available: False, using: 0 HPUs\n",
      "LOCAL_RANK: 0 - CUDA_VISIBLE_DEVICES: [0]\n"
     ]
    },
    {
     "name": "stdout",
     "output_type": "stream",
     "text": [
      "    finished (0:00:00) --> added \n",
      "    'fit_pars', fitted parameters for splicing dynamics (adata.var)\n",
      "computing velocities\n",
      "WARNING: Too few genes are selected as velocity genes. Consider setting a lower threshold for min_r2 or min_likelihood.\n",
      "    finished (0:00:00) --> added \n",
      "    'velocity', velocity vectors for each individual cell (adata.layers)\n",
      "scVelo: 0.21511288417022148\n",
      "Epoch 376/500:  75%|███████▌  | 376/500 [00:37<00:12,  9.98it/s, loss=-4.73, v_num=1]\n",
      "Monitored metric elbo_validation did not improve in the last 45 records. Best score: -4.993. Signaling Trainer to stop.\n",
      "veloVI: SignificanceResult(statistic=0.8976680637615111, pvalue=0.0)\n",
      "initiating Net object ...\n",
      "gem_shape: (1500, 6)\n",
      "TF info shape: (6, 8)\n",
      "initiation completed.\n"
     ]
    },
    {
     "data": {
      "application/vnd.jupyter.widget-view+json": {
       "model_id": "0067c2cdaceb4b4eac5f47745fec57d5",
       "version_major": 2,
       "version_minor": 0
      },
      "text/plain": [
       "  0%|          | 0/6 [00:00<?, ?it/s]"
      ]
     },
     "metadata": {},
     "output_type": "display_data"
    },
    {
     "data": {
      "application/vnd.jupyter.widget-view+json": {
       "model_id": "790eaf5c55de4084b0f330b9a0e64b13",
       "version_major": 2,
       "version_minor": 0
      },
      "text/plain": [
       "  0%|          | 0/6 [00:00<?, ?it/s]"
      ]
     },
     "metadata": {},
     "output_type": "display_data"
    },
    {
     "name": "stdout",
     "output_type": "stream",
     "text": [
      "AUC: RegVelo: 0.635 Cor: 0.81 GRNBoost2: 0.79 CellOracle: 0.54\n",
      "68\n"
     ]
    },
    {
     "name": "stderr",
     "output_type": "stream",
     "text": [
      "GPU available: True (cuda), used: True\n",
      "TPU available: False, using: 0 TPU cores\n",
      "IPU available: False, using: 0 IPUs\n",
      "HPU available: False, using: 0 HPUs\n",
      "LOCAL_RANK: 0 - CUDA_VISIBLE_DEVICES: [0]\n"
     ]
    },
    {
     "name": "stdout",
     "output_type": "stream",
     "text": [
      "Epoch 336/1500:  22%|██▏       | 336/1500 [00:41<02:25,  8.01it/s, loss=-9.11, v_num=1]  \n",
      "Monitored metric elbo_validation did not improve in the last 45 records. Best score: -6.263. Signaling Trainer to stop.\n",
      "RegVelo: 0.8021373520610454\n",
      "recovering dynamics (using 1/112 cores)\n"
     ]
    },
    {
     "name": "stderr",
     "output_type": "stream",
     "text": [
      "GPU available: True (cuda), used: True\n",
      "TPU available: False, using: 0 TPU cores\n",
      "IPU available: False, using: 0 IPUs\n",
      "HPU available: False, using: 0 HPUs\n",
      "LOCAL_RANK: 0 - CUDA_VISIBLE_DEVICES: [0]\n"
     ]
    },
    {
     "name": "stdout",
     "output_type": "stream",
     "text": [
      "    finished (0:00:00) --> added \n",
      "    'fit_pars', fitted parameters for splicing dynamics (adata.var)\n",
      "computing velocities\n",
      "WARNING: Too few genes are selected as velocity genes. Consider setting a lower threshold for min_r2 or min_likelihood.\n",
      "    finished (0:00:00) --> added \n",
      "    'velocity', velocity vectors for each individual cell (adata.layers)\n",
      "scVelo: 0.912032931822531\n",
      "Epoch 346/500:  69%|██████▉   | 346/500 [00:33<00:15, 10.20it/s, loss=-9.06, v_num=1]\n",
      "Monitored metric elbo_validation did not improve in the last 45 records. Best score: -9.496. Signaling Trainer to stop.\n",
      "veloVI: SignificanceResult(statistic=0.47053184290304134, pvalue=1.717534984960064e-83)\n",
      "initiating Net object ...\n",
      "gem_shape: (1500, 6)\n",
      "TF info shape: (6, 8)\n",
      "initiation completed.\n"
     ]
    },
    {
     "data": {
      "application/vnd.jupyter.widget-view+json": {
       "model_id": "652bd019e7674f028ee2a50d9747f2a4",
       "version_major": 2,
       "version_minor": 0
      },
      "text/plain": [
       "  0%|          | 0/6 [00:00<?, ?it/s]"
      ]
     },
     "metadata": {},
     "output_type": "display_data"
    },
    {
     "data": {
      "application/vnd.jupyter.widget-view+json": {
       "model_id": "ff3cedf424be4639b4b9259837233fa4",
       "version_major": 2,
       "version_minor": 0
      },
      "text/plain": [
       "  0%|          | 0/6 [00:00<?, ?it/s]"
      ]
     },
     "metadata": {},
     "output_type": "display_data"
    },
    {
     "name": "stdout",
     "output_type": "stream",
     "text": [
      "AUC: RegVelo: 0.515 Cor: 0.58 GRNBoost2: 0.5499999999999999 CellOracle: 0.585\n",
      "69\n"
     ]
    },
    {
     "name": "stderr",
     "output_type": "stream",
     "text": [
      "GPU available: True (cuda), used: True\n",
      "TPU available: False, using: 0 TPU cores\n",
      "IPU available: False, using: 0 IPUs\n",
      "HPU available: False, using: 0 HPUs\n",
      "LOCAL_RANK: 0 - CUDA_VISIBLE_DEVICES: [0]\n"
     ]
    },
    {
     "name": "stdout",
     "output_type": "stream",
     "text": [
      "Epoch 713/1500:  48%|████▊     | 713/1500 [02:39<02:55,  4.48it/s, loss=-12.7, v_num=1]  \n",
      "Monitored metric elbo_validation did not improve in the last 45 records. Best score: -12.840. Signaling Trainer to stop.\n",
      "RegVelo: 0.99432084725371\n",
      "recovering dynamics (using 1/112 cores)\n"
     ]
    },
    {
     "name": "stderr",
     "output_type": "stream",
     "text": [
      "GPU available: True (cuda), used: True\n",
      "TPU available: False, using: 0 TPU cores\n",
      "IPU available: False, using: 0 IPUs\n",
      "HPU available: False, using: 0 HPUs\n",
      "LOCAL_RANK: 0 - CUDA_VISIBLE_DEVICES: [0]\n"
     ]
    },
    {
     "name": "stdout",
     "output_type": "stream",
     "text": [
      "    finished (0:00:00) --> added \n",
      "    'fit_pars', fitted parameters for splicing dynamics (adata.var)\n",
      "computing velocities\n",
      "WARNING: Too few genes are selected as velocity genes. Consider setting a lower threshold for min_r2 or min_likelihood.\n",
      "    finished (0:00:00) --> added \n",
      "    'velocity', velocity vectors for each individual cell (adata.layers)\n",
      "scVelo: 0.38526941438131423\n",
      "Epoch 336/500:  67%|██████▋   | 336/500 [00:34<00:16,  9.75it/s, loss=-6.49, v_num=1]\n",
      "Monitored metric elbo_validation did not improve in the last 45 records. Best score: -6.314. Signaling Trainer to stop.\n",
      "veloVI: SignificanceResult(statistic=0.5281167467185541, pvalue=1.6825591743535983e-108)\n",
      "initiating Net object ...\n",
      "gem_shape: (1500, 6)\n",
      "TF info shape: (6, 8)\n",
      "initiation completed.\n"
     ]
    },
    {
     "data": {
      "application/vnd.jupyter.widget-view+json": {
       "model_id": "bfd76b95ac4d42f4b978d74cb403fd51",
       "version_major": 2,
       "version_minor": 0
      },
      "text/plain": [
       "  0%|          | 0/6 [00:00<?, ?it/s]"
      ]
     },
     "metadata": {},
     "output_type": "display_data"
    },
    {
     "data": {
      "application/vnd.jupyter.widget-view+json": {
       "model_id": "91ebf91061074d00966bc60fb58fe1de",
       "version_major": 2,
       "version_minor": 0
      },
      "text/plain": [
       "  0%|          | 0/6 [00:00<?, ?it/s]"
      ]
     },
     "metadata": {},
     "output_type": "display_data"
    },
    {
     "name": "stdout",
     "output_type": "stream",
     "text": [
      "AUC: RegVelo: 0.39 Cor: 0.6299999999999999 GRNBoost2: 0.615 CellOracle: 0.465\n",
      "70\n"
     ]
    },
    {
     "name": "stderr",
     "output_type": "stream",
     "text": [
      "GPU available: True (cuda), used: True\n",
      "TPU available: False, using: 0 TPU cores\n",
      "IPU available: False, using: 0 IPUs\n",
      "HPU available: False, using: 0 HPUs\n",
      "LOCAL_RANK: 0 - CUDA_VISIBLE_DEVICES: [0]\n"
     ]
    },
    {
     "name": "stdout",
     "output_type": "stream",
     "text": [
      "Epoch 672/1500:  45%|████▍     | 672/1500 [02:05<02:35,  5.34it/s, loss=-14.1, v_num=1]  \n",
      "Monitored metric elbo_validation did not improve in the last 45 records. Best score: -12.495. Signaling Trainer to stop.\n",
      "RegVelo: 0.9147510767782564\n",
      "recovering dynamics (using 1/112 cores)\n"
     ]
    },
    {
     "name": "stderr",
     "output_type": "stream",
     "text": [
      "GPU available: True (cuda), used: True\n",
      "TPU available: False, using: 0 TPU cores\n",
      "IPU available: False, using: 0 IPUs\n",
      "HPU available: False, using: 0 HPUs\n",
      "LOCAL_RANK: 0 - CUDA_VISIBLE_DEVICES: [0]\n"
     ]
    },
    {
     "name": "stdout",
     "output_type": "stream",
     "text": [
      "    finished (0:00:00) --> added \n",
      "    'fit_pars', fitted parameters for splicing dynamics (adata.var)\n",
      "computing velocities\n",
      "WARNING: Too few genes are selected as velocity genes. Consider setting a lower threshold for min_r2 or min_likelihood.\n",
      "    finished (0:00:00) --> added \n",
      "    'velocity', velocity vectors for each individual cell (adata.layers)\n",
      "scVelo: 0.9209003014999252\n",
      "Epoch 211/500:  42%|████▏     | 211/500 [00:21<00:29,  9.78it/s, loss=-6.15, v_num=1]\n",
      "Monitored metric elbo_validation did not improve in the last 45 records. Best score: -4.612. Signaling Trainer to stop.\n",
      "veloVI: SignificanceResult(statistic=0.8561101973823101, pvalue=0.0)\n",
      "initiating Net object ...\n",
      "gem_shape: (1500, 6)\n",
      "TF info shape: (6, 8)\n",
      "initiation completed.\n"
     ]
    },
    {
     "data": {
      "application/vnd.jupyter.widget-view+json": {
       "model_id": "6ac3ae23d358447e83587fdcd42a44ab",
       "version_major": 2,
       "version_minor": 0
      },
      "text/plain": [
       "  0%|          | 0/6 [00:00<?, ?it/s]"
      ]
     },
     "metadata": {},
     "output_type": "display_data"
    },
    {
     "data": {
      "application/vnd.jupyter.widget-view+json": {
       "model_id": "ee6626ee891342b6bae8ed91aa60e198",
       "version_major": 2,
       "version_minor": 0
      },
      "text/plain": [
       "  0%|          | 0/6 [00:00<?, ?it/s]"
      ]
     },
     "metadata": {},
     "output_type": "display_data"
    },
    {
     "name": "stdout",
     "output_type": "stream",
     "text": [
      "AUC: RegVelo: 0.75 Cor: 0.52 GRNBoost2: 0.5 CellOracle: 0.43500000000000005\n",
      "71\n"
     ]
    },
    {
     "name": "stderr",
     "output_type": "stream",
     "text": [
      "GPU available: True (cuda), used: True\n",
      "TPU available: False, using: 0 TPU cores\n",
      "IPU available: False, using: 0 IPUs\n",
      "HPU available: False, using: 0 HPUs\n",
      "LOCAL_RANK: 0 - CUDA_VISIBLE_DEVICES: [0]\n"
     ]
    },
    {
     "name": "stdout",
     "output_type": "stream",
     "text": [
      "Epoch 949/1500:  63%|██████▎   | 949/1500 [04:02<02:21,  3.91it/s, loss=-15.6, v_num=1]  \n",
      "Monitored metric elbo_validation did not improve in the last 45 records. Best score: -15.578. Signaling Trainer to stop.\n",
      "RegVelo: 0.9069243655786947\n",
      "recovering dynamics (using 1/112 cores)\n"
     ]
    },
    {
     "name": "stderr",
     "output_type": "stream",
     "text": [
      "GPU available: True (cuda), used: True\n",
      "TPU available: False, using: 0 TPU cores\n",
      "IPU available: False, using: 0 IPUs\n",
      "HPU available: False, using: 0 HPUs\n",
      "LOCAL_RANK: 0 - CUDA_VISIBLE_DEVICES: [0]\n"
     ]
    },
    {
     "name": "stdout",
     "output_type": "stream",
     "text": [
      "    finished (0:00:00) --> added \n",
      "    'fit_pars', fitted parameters for splicing dynamics (adata.var)\n",
      "computing velocities\n",
      "WARNING: Too few genes are selected as velocity genes. Consider setting a lower threshold for min_r2 or min_likelihood.\n",
      "    finished (0:00:00) --> added \n",
      "    'velocity', velocity vectors for each individual cell (adata.layers)\n",
      "scVelo: 0.9166064524456238\n",
      "Epoch 227/500:  45%|████▌     | 227/500 [00:23<00:28,  9.64it/s, loss=-7.79, v_num=1]\n",
      "Monitored metric elbo_validation did not improve in the last 45 records. Best score: -6.757. Signaling Trainer to stop.\n",
      "veloVI: SignificanceResult(statistic=0.06520185842785149, pvalue=0.011542205752927007)\n",
      "initiating Net object ...\n",
      "gem_shape: (1500, 6)\n",
      "TF info shape: (6, 8)\n",
      "initiation completed.\n"
     ]
    },
    {
     "data": {
      "application/vnd.jupyter.widget-view+json": {
       "model_id": "a3ab55d88f284df6ba695bc5a005bfea",
       "version_major": 2,
       "version_minor": 0
      },
      "text/plain": [
       "  0%|          | 0/6 [00:00<?, ?it/s]"
      ]
     },
     "metadata": {},
     "output_type": "display_data"
    },
    {
     "data": {
      "application/vnd.jupyter.widget-view+json": {
       "model_id": "6922ccc93ac34b508a60ab707c17ec82",
       "version_major": 2,
       "version_minor": 0
      },
      "text/plain": [
       "  0%|          | 0/6 [00:00<?, ?it/s]"
      ]
     },
     "metadata": {},
     "output_type": "display_data"
    },
    {
     "name": "stdout",
     "output_type": "stream",
     "text": [
      "AUC: RegVelo: 0.8350000000000001 Cor: 0.5700000000000001 GRNBoost2: 0.685 CellOracle: 0.565\n",
      "72\n"
     ]
    },
    {
     "name": "stderr",
     "output_type": "stream",
     "text": [
      "GPU available: True (cuda), used: True\n",
      "TPU available: False, using: 0 TPU cores\n",
      "IPU available: False, using: 0 IPUs\n",
      "HPU available: False, using: 0 HPUs\n",
      "LOCAL_RANK: 0 - CUDA_VISIBLE_DEVICES: [0]\n"
     ]
    },
    {
     "name": "stdout",
     "output_type": "stream",
     "text": [
      "Epoch 445/1500:  30%|██▉       | 445/1500 [01:17<03:03,  5.75it/s, loss=-13.8, v_num=1]  \n",
      "Monitored metric elbo_validation did not improve in the last 45 records. Best score: -10.439. Signaling Trainer to stop.\n",
      "RegVelo: 0.8715594095819599\n",
      "recovering dynamics (using 1/112 cores)\n"
     ]
    },
    {
     "name": "stderr",
     "output_type": "stream",
     "text": [
      "GPU available: True (cuda), used: True\n",
      "TPU available: False, using: 0 TPU cores\n",
      "IPU available: False, using: 0 IPUs\n",
      "HPU available: False, using: 0 HPUs\n",
      "LOCAL_RANK: 0 - CUDA_VISIBLE_DEVICES: [0]\n"
     ]
    },
    {
     "name": "stdout",
     "output_type": "stream",
     "text": [
      "    finished (0:00:00) --> added \n",
      "    'fit_pars', fitted parameters for splicing dynamics (adata.var)\n",
      "computing velocities\n",
      "WARNING: Too few genes are selected as velocity genes. Consider setting a lower threshold for min_r2 or min_likelihood.\n",
      "    finished (0:00:00) --> added \n",
      "    'velocity', velocity vectors for each individual cell (adata.layers)\n",
      "scVelo: 0.7765986100739248\n",
      "Epoch 263/500:  53%|█████▎    | 263/500 [00:26<00:23, 10.10it/s, loss=-11.9, v_num=1]\n",
      "Monitored metric elbo_validation did not improve in the last 45 records. Best score: -11.063. Signaling Trainer to stop.\n",
      "veloVI: SignificanceResult(statistic=0.6210591809151915, pvalue=1.0229238547802113e-160)\n",
      "initiating Net object ...\n",
      "gem_shape: (1500, 6)\n",
      "TF info shape: (6, 8)\n",
      "initiation completed.\n"
     ]
    },
    {
     "data": {
      "application/vnd.jupyter.widget-view+json": {
       "model_id": "c8f4198e9ff2485084ad703ca73e933d",
       "version_major": 2,
       "version_minor": 0
      },
      "text/plain": [
       "  0%|          | 0/6 [00:00<?, ?it/s]"
      ]
     },
     "metadata": {},
     "output_type": "display_data"
    },
    {
     "data": {
      "application/vnd.jupyter.widget-view+json": {
       "model_id": "b4fdba4dc9054cd5a5775c87a3173675",
       "version_major": 2,
       "version_minor": 0
      },
      "text/plain": [
       "  0%|          | 0/6 [00:00<?, ?it/s]"
      ]
     },
     "metadata": {},
     "output_type": "display_data"
    },
    {
     "name": "stdout",
     "output_type": "stream",
     "text": [
      "AUC: RegVelo: 0.69 Cor: 0.5900000000000001 GRNBoost2: 0.52 CellOracle: 0.595\n",
      "73\n"
     ]
    },
    {
     "name": "stderr",
     "output_type": "stream",
     "text": [
      "GPU available: True (cuda), used: True\n",
      "TPU available: False, using: 0 TPU cores\n",
      "IPU available: False, using: 0 IPUs\n",
      "HPU available: False, using: 0 HPUs\n",
      "LOCAL_RANK: 0 - CUDA_VISIBLE_DEVICES: [0]\n"
     ]
    },
    {
     "name": "stdout",
     "output_type": "stream",
     "text": [
      "Epoch 984/1500:  66%|██████▌   | 984/1500 [03:51<02:01,  4.24it/s, loss=-14.5, v_num=1]  \n",
      "Monitored metric elbo_validation did not improve in the last 45 records. Best score: -14.566. Signaling Trainer to stop.\n",
      "RegVelo: 0.9951765951895979\n",
      "recovering dynamics (using 1/112 cores)\n"
     ]
    },
    {
     "name": "stderr",
     "output_type": "stream",
     "text": [
      "GPU available: True (cuda), used: True\n",
      "TPU available: False, using: 0 TPU cores\n",
      "IPU available: False, using: 0 IPUs\n",
      "HPU available: False, using: 0 HPUs\n",
      "LOCAL_RANK: 0 - CUDA_VISIBLE_DEVICES: [0]\n"
     ]
    },
    {
     "name": "stdout",
     "output_type": "stream",
     "text": [
      "    finished (0:00:00) --> added \n",
      "    'fit_pars', fitted parameters for splicing dynamics (adata.var)\n",
      "computing velocities\n",
      "WARNING: Too few genes are selected as velocity genes. Consider setting a lower threshold for min_r2 or min_likelihood.\n",
      "    finished (0:00:00) --> added \n",
      "    'velocity', velocity vectors for each individual cell (adata.layers)\n",
      "scVelo: 0.6477889976439845\n",
      "Epoch 345/500:  69%|██████▉   | 345/500 [00:35<00:15,  9.82it/s, loss=-8.37, v_num=1]\n",
      "Monitored metric elbo_validation did not improve in the last 45 records. Best score: -7.497. Signaling Trainer to stop.\n",
      "veloVI: SignificanceResult(statistic=0.6930757427003301, pvalue=3.451528998282784e-215)\n",
      "initiating Net object ...\n",
      "gem_shape: (1500, 6)\n",
      "TF info shape: (6, 8)\n",
      "initiation completed.\n"
     ]
    },
    {
     "data": {
      "application/vnd.jupyter.widget-view+json": {
       "model_id": "b7b3bb491c074d698a9e29a993a0af77",
       "version_major": 2,
       "version_minor": 0
      },
      "text/plain": [
       "  0%|          | 0/6 [00:00<?, ?it/s]"
      ]
     },
     "metadata": {},
     "output_type": "display_data"
    },
    {
     "data": {
      "application/vnd.jupyter.widget-view+json": {
       "model_id": "ce58d6e6956046dd877b47d3400fca6a",
       "version_major": 2,
       "version_minor": 0
      },
      "text/plain": [
       "  0%|          | 0/6 [00:00<?, ?it/s]"
      ]
     },
     "metadata": {},
     "output_type": "display_data"
    },
    {
     "name": "stdout",
     "output_type": "stream",
     "text": [
      "AUC: RegVelo: 0.555 Cor: 0.6599999999999999 GRNBoost2: 0.675 CellOracle: 0.5800000000000001\n",
      "74\n"
     ]
    },
    {
     "name": "stderr",
     "output_type": "stream",
     "text": [
      "2024-08-10 16:55:13,328 - distributed.comm.tcp - INFO - Connection from tcp://127.0.0.1:8386 closed before handshake completed\n",
      "GPU available: True (cuda), used: True\n",
      "TPU available: False, using: 0 TPU cores\n",
      "IPU available: False, using: 0 IPUs\n",
      "HPU available: False, using: 0 HPUs\n",
      "LOCAL_RANK: 0 - CUDA_VISIBLE_DEVICES: [0]\n"
     ]
    },
    {
     "name": "stdout",
     "output_type": "stream",
     "text": [
      "Epoch 645/1500:  43%|████▎     | 645/1500 [02:15<02:59,  4.76it/s, loss=-17, v_num=1]    \n",
      "Monitored metric elbo_validation did not improve in the last 45 records. Best score: -14.729. Signaling Trainer to stop.\n",
      "RegVelo: 0.7712968050208023\n",
      "recovering dynamics (using 1/112 cores)\n"
     ]
    },
    {
     "name": "stderr",
     "output_type": "stream",
     "text": [
      "GPU available: True (cuda), used: True\n",
      "TPU available: False, using: 0 TPU cores\n",
      "IPU available: False, using: 0 IPUs\n",
      "HPU available: False, using: 0 HPUs\n",
      "LOCAL_RANK: 0 - CUDA_VISIBLE_DEVICES: [0]\n"
     ]
    },
    {
     "name": "stdout",
     "output_type": "stream",
     "text": [
      "    finished (0:00:00) --> added \n",
      "    'fit_pars', fitted parameters for splicing dynamics (adata.var)\n",
      "computing velocities\n",
      "WARNING: Too few genes are selected as velocity genes. Consider setting a lower threshold for min_r2 or min_likelihood.\n",
      "    finished (0:00:00) --> added \n",
      "    'velocity', velocity vectors for each individual cell (adata.layers)\n",
      "scVelo: 0.8313671927079485\n",
      "Epoch 282/500:  56%|█████▋    | 282/500 [00:28<00:22,  9.79it/s, loss=-12.6, v_num=1]\n",
      "Monitored metric elbo_validation did not improve in the last 45 records. Best score: -11.742. Signaling Trainer to stop.\n",
      "veloVI: SignificanceResult(statistic=0.3779058358496211, pvalue=4.061455534428727e-52)\n",
      "initiating Net object ...\n",
      "gem_shape: (1500, 6)\n",
      "TF info shape: (6, 8)\n",
      "initiation completed.\n"
     ]
    },
    {
     "data": {
      "application/vnd.jupyter.widget-view+json": {
       "model_id": "93bbe944c2024eadb7749703dca3aeb4",
       "version_major": 2,
       "version_minor": 0
      },
      "text/plain": [
       "  0%|          | 0/6 [00:00<?, ?it/s]"
      ]
     },
     "metadata": {},
     "output_type": "display_data"
    },
    {
     "data": {
      "application/vnd.jupyter.widget-view+json": {
       "model_id": "ef3be3fa319b446dbcacd3099bb7415d",
       "version_major": 2,
       "version_minor": 0
      },
      "text/plain": [
       "  0%|          | 0/6 [00:00<?, ?it/s]"
      ]
     },
     "metadata": {},
     "output_type": "display_data"
    },
    {
     "name": "stdout",
     "output_type": "stream",
     "text": [
      "AUC: RegVelo: 0.735 Cor: 0.6000000000000001 GRNBoost2: 0.5900000000000001 CellOracle: 0.5349999999999999\n",
      "75\n"
     ]
    },
    {
     "name": "stderr",
     "output_type": "stream",
     "text": [
      "GPU available: True (cuda), used: True\n",
      "TPU available: False, using: 0 TPU cores\n",
      "IPU available: False, using: 0 IPUs\n",
      "HPU available: False, using: 0 HPUs\n",
      "LOCAL_RANK: 0 - CUDA_VISIBLE_DEVICES: [0]\n"
     ]
    },
    {
     "name": "stdout",
     "output_type": "stream",
     "text": [
      "Epoch 735/1500:  49%|████▉     | 735/1500 [03:10<03:18,  3.86it/s, loss=-15.4, v_num=1]  \n",
      "Monitored metric elbo_validation did not improve in the last 45 records. Best score: -15.023. Signaling Trainer to stop.\n",
      "RegVelo: 0.9499012354671279\n",
      "recovering dynamics (using 1/112 cores)\n"
     ]
    },
    {
     "name": "stderr",
     "output_type": "stream",
     "text": [
      "GPU available: True (cuda), used: True\n",
      "TPU available: False, using: 0 TPU cores\n",
      "IPU available: False, using: 0 IPUs\n",
      "HPU available: False, using: 0 HPUs\n",
      "LOCAL_RANK: 0 - CUDA_VISIBLE_DEVICES: [0]\n"
     ]
    },
    {
     "name": "stdout",
     "output_type": "stream",
     "text": [
      "    finished (0:00:00) --> added \n",
      "    'fit_pars', fitted parameters for splicing dynamics (adata.var)\n",
      "computing velocities\n",
      "WARNING: Too few genes are selected as velocity genes. Consider setting a lower threshold for min_r2 or min_likelihood.\n",
      "    finished (0:00:00) --> added \n",
      "    'velocity', velocity vectors for each individual cell (adata.layers)\n",
      "scVelo: 0.6575115443527708\n",
      "Epoch 386/500:  77%|███████▋  | 386/500 [00:38<00:11,  9.98it/s, loss=-9.27, v_num=1]\n",
      "Monitored metric elbo_validation did not improve in the last 45 records. Best score: -9.318. Signaling Trainer to stop.\n",
      "veloVI: SignificanceResult(statistic=0.515113861397373, pvalue=1.991158799303352e-102)\n",
      "initiating Net object ...\n",
      "gem_shape: (1500, 6)\n",
      "TF info shape: (6, 8)\n",
      "initiation completed.\n"
     ]
    },
    {
     "data": {
      "application/vnd.jupyter.widget-view+json": {
       "model_id": "156f9402d6f94ba5b77d392022113781",
       "version_major": 2,
       "version_minor": 0
      },
      "text/plain": [
       "  0%|          | 0/6 [00:00<?, ?it/s]"
      ]
     },
     "metadata": {},
     "output_type": "display_data"
    },
    {
     "data": {
      "application/vnd.jupyter.widget-view+json": {
       "model_id": "f9badd4b66ee4004ad5103ddd4408d35",
       "version_major": 2,
       "version_minor": 0
      },
      "text/plain": [
       "  0%|          | 0/6 [00:00<?, ?it/s]"
      ]
     },
     "metadata": {},
     "output_type": "display_data"
    },
    {
     "name": "stdout",
     "output_type": "stream",
     "text": [
      "AUC: RegVelo: 0.83 Cor: 0.47000000000000003 GRNBoost2: 0.595 CellOracle: 0.37\n",
      "76\n"
     ]
    },
    {
     "name": "stderr",
     "output_type": "stream",
     "text": [
      "GPU available: True (cuda), used: True\n",
      "TPU available: False, using: 0 TPU cores\n",
      "IPU available: False, using: 0 IPUs\n",
      "HPU available: False, using: 0 HPUs\n",
      "LOCAL_RANK: 0 - CUDA_VISIBLE_DEVICES: [0]\n"
     ]
    },
    {
     "name": "stdout",
     "output_type": "stream",
     "text": [
      "Epoch 655/1500:  44%|████▎     | 655/1500 [02:13<02:52,  4.91it/s, loss=-12.9, v_num=1]  \n",
      "Monitored metric elbo_validation did not improve in the last 45 records. Best score: -11.742. Signaling Trainer to stop.\n",
      "RegVelo: 0.9791175507003492\n",
      "recovering dynamics (using 1/112 cores)\n"
     ]
    },
    {
     "name": "stderr",
     "output_type": "stream",
     "text": [
      "GPU available: True (cuda), used: True\n",
      "TPU available: False, using: 0 TPU cores\n",
      "IPU available: False, using: 0 IPUs\n",
      "HPU available: False, using: 0 HPUs\n",
      "LOCAL_RANK: 0 - CUDA_VISIBLE_DEVICES: [0]\n"
     ]
    },
    {
     "name": "stdout",
     "output_type": "stream",
     "text": [
      "    finished (0:00:00) --> added \n",
      "    'fit_pars', fitted parameters for splicing dynamics (adata.var)\n",
      "computing velocities\n",
      "WARNING: Too few genes are selected as velocity genes. Consider setting a lower threshold for min_r2 or min_likelihood.\n",
      "    finished (0:00:00) --> added \n",
      "    'velocity', velocity vectors for each individual cell (adata.layers)\n",
      "scVelo: 0.7585742747021208\n",
      "Epoch 290/500:  58%|█████▊    | 290/500 [00:28<00:20, 10.04it/s, loss=-7.72, v_num=1]\n",
      "Monitored metric elbo_validation did not improve in the last 45 records. Best score: -6.978. Signaling Trainer to stop.\n",
      "veloVI: SignificanceResult(statistic=0.34289646884287506, pvalue=1.2256756318192173e-42)\n",
      "initiating Net object ...\n",
      "gem_shape: (1500, 6)\n",
      "TF info shape: (6, 8)\n",
      "initiation completed.\n"
     ]
    },
    {
     "data": {
      "application/vnd.jupyter.widget-view+json": {
       "model_id": "f2f672ea862e4aafbae6e4619120808e",
       "version_major": 2,
       "version_minor": 0
      },
      "text/plain": [
       "  0%|          | 0/6 [00:00<?, ?it/s]"
      ]
     },
     "metadata": {},
     "output_type": "display_data"
    },
    {
     "data": {
      "application/vnd.jupyter.widget-view+json": {
       "model_id": "2657e5f084714af7b9c6914fe17f6ec1",
       "version_major": 2,
       "version_minor": 0
      },
      "text/plain": [
       "  0%|          | 0/6 [00:00<?, ?it/s]"
      ]
     },
     "metadata": {},
     "output_type": "display_data"
    },
    {
     "name": "stdout",
     "output_type": "stream",
     "text": [
      "AUC: RegVelo: 0.675 Cor: 0.6399999999999999 GRNBoost2: 0.6950000000000001 CellOracle: 0.53\n",
      "77\n"
     ]
    },
    {
     "name": "stderr",
     "output_type": "stream",
     "text": [
      "GPU available: True (cuda), used: True\n",
      "TPU available: False, using: 0 TPU cores\n",
      "IPU available: False, using: 0 IPUs\n",
      "HPU available: False, using: 0 HPUs\n",
      "LOCAL_RANK: 0 - CUDA_VISIBLE_DEVICES: [0]\n"
     ]
    },
    {
     "name": "stdout",
     "output_type": "stream",
     "text": [
      "Epoch 937/1500:  62%|██████▏   | 937/1500 [03:47<02:16,  4.11it/s, loss=-15.8, v_num=1]  \n",
      "Monitored metric elbo_validation did not improve in the last 45 records. Best score: -15.541. Signaling Trainer to stop.\n",
      "RegVelo: 0.8837370317797805\n",
      "recovering dynamics (using 1/112 cores)\n",
      "    finished (0:00:00) --> added \n",
      "    'fit_pars', fitted parameters for splicing dynamics (adata.var)\n",
      "computing velocities\n",
      "WARNING: Too few genes are selected as velocity genes. Consider setting a lower threshold for min_r2 or min_likelihood.\n",
      "    finished (0:00:00) --> added \n",
      "    'velocity', velocity vectors for each individual cell (adata.layers)\n",
      "scVelo: 0.8352587844043387\n"
     ]
    },
    {
     "name": "stderr",
     "output_type": "stream",
     "text": [
      "GPU available: True (cuda), used: True\n",
      "TPU available: False, using: 0 TPU cores\n",
      "IPU available: False, using: 0 IPUs\n",
      "HPU available: False, using: 0 HPUs\n",
      "LOCAL_RANK: 0 - CUDA_VISIBLE_DEVICES: [0]\n"
     ]
    },
    {
     "name": "stdout",
     "output_type": "stream",
     "text": [
      "Epoch 405/500:  81%|████████  | 405/500 [00:41<00:09,  9.73it/s, loss=-6.72, v_num=1]\n",
      "Monitored metric elbo_validation did not improve in the last 45 records. Best score: -7.670. Signaling Trainer to stop.\n",
      "veloVI: SignificanceResult(statistic=0.7041156522328372, pvalue=5.362230595889744e-225)\n",
      "initiating Net object ...\n",
      "gem_shape: (1500, 6)\n",
      "TF info shape: (6, 8)\n",
      "initiation completed.\n"
     ]
    },
    {
     "data": {
      "application/vnd.jupyter.widget-view+json": {
       "model_id": "f093c7a34f6f440e8c93134b9aa6dc77",
       "version_major": 2,
       "version_minor": 0
      },
      "text/plain": [
       "  0%|          | 0/6 [00:00<?, ?it/s]"
      ]
     },
     "metadata": {},
     "output_type": "display_data"
    },
    {
     "data": {
      "application/vnd.jupyter.widget-view+json": {
       "model_id": "ec2625b934e94845a7c0e4af58d71d42",
       "version_major": 2,
       "version_minor": 0
      },
      "text/plain": [
       "  0%|          | 0/6 [00:00<?, ?it/s]"
      ]
     },
     "metadata": {},
     "output_type": "display_data"
    },
    {
     "name": "stdout",
     "output_type": "stream",
     "text": [
      "AUC: RegVelo: 0.6349999999999999 Cor: 0.5199999999999999 GRNBoost2: 0.73 CellOracle: 0.425\n",
      "78\n"
     ]
    },
    {
     "name": "stderr",
     "output_type": "stream",
     "text": [
      "GPU available: True (cuda), used: True\n",
      "TPU available: False, using: 0 TPU cores\n",
      "IPU available: False, using: 0 IPUs\n",
      "HPU available: False, using: 0 HPUs\n",
      "LOCAL_RANK: 0 - CUDA_VISIBLE_DEVICES: [0]\n"
     ]
    },
    {
     "name": "stdout",
     "output_type": "stream",
     "text": [
      "Epoch 1128/1500:  75%|███████▌  | 1128/1500 [04:35<01:30,  4.09it/s, loss=-17.2, v_num=1]\n",
      "Monitored metric elbo_validation did not improve in the last 45 records. Best score: -17.344. Signaling Trainer to stop.\n",
      "RegVelo: 0.9670303026508282\n",
      "recovering dynamics (using 1/112 cores)\n"
     ]
    },
    {
     "name": "stderr",
     "output_type": "stream",
     "text": [
      "GPU available: True (cuda), used: True\n",
      "TPU available: False, using: 0 TPU cores\n",
      "IPU available: False, using: 0 IPUs\n",
      "HPU available: False, using: 0 HPUs\n",
      "LOCAL_RANK: 0 - CUDA_VISIBLE_DEVICES: [0]\n"
     ]
    },
    {
     "name": "stdout",
     "output_type": "stream",
     "text": [
      "    finished (0:00:00) --> added \n",
      "    'fit_pars', fitted parameters for splicing dynamics (adata.var)\n",
      "computing velocities\n",
      "WARNING: Too few genes are selected as velocity genes. Consider setting a lower threshold for min_r2 or min_likelihood.\n",
      "    finished (0:00:00) --> added \n",
      "    'velocity', velocity vectors for each individual cell (adata.layers)\n",
      "scVelo: 0.720649917483556\n",
      "Epoch 246/500:  49%|████▉     | 246/500 [00:24<00:25,  9.90it/s, loss=-9.37, v_num=1]\n",
      "Monitored metric elbo_validation did not improve in the last 45 records. Best score: -8.582. Signaling Trainer to stop.\n",
      "veloVI: SignificanceResult(statistic=0.8712519143341843, pvalue=0.0)\n",
      "initiating Net object ...\n",
      "gem_shape: (1500, 6)\n",
      "TF info shape: (6, 8)\n",
      "initiation completed.\n"
     ]
    },
    {
     "data": {
      "application/vnd.jupyter.widget-view+json": {
       "model_id": "9d761243ade941ab81be713ab254ed8a",
       "version_major": 2,
       "version_minor": 0
      },
      "text/plain": [
       "  0%|          | 0/6 [00:00<?, ?it/s]"
      ]
     },
     "metadata": {},
     "output_type": "display_data"
    },
    {
     "data": {
      "application/vnd.jupyter.widget-view+json": {
       "model_id": "98f8e9d5d052447c8c204dde27e82b90",
       "version_major": 2,
       "version_minor": 0
      },
      "text/plain": [
       "  0%|          | 0/6 [00:00<?, ?it/s]"
      ]
     },
     "metadata": {},
     "output_type": "display_data"
    },
    {
     "name": "stdout",
     "output_type": "stream",
     "text": [
      "AUC: RegVelo: 0.64 Cor: 0.5800000000000001 GRNBoost2: 0.625 CellOracle: 0.565\n",
      "79\n"
     ]
    },
    {
     "name": "stderr",
     "output_type": "stream",
     "text": [
      "GPU available: True (cuda), used: True\n",
      "TPU available: False, using: 0 TPU cores\n",
      "IPU available: False, using: 0 IPUs\n",
      "HPU available: False, using: 0 HPUs\n",
      "LOCAL_RANK: 0 - CUDA_VISIBLE_DEVICES: [0]\n"
     ]
    },
    {
     "name": "stdout",
     "output_type": "stream",
     "text": [
      "Epoch 715/1500:  48%|████▊     | 715/1500 [02:38<02:54,  4.51it/s, loss=-15.3, v_num=1]  \n",
      "Monitored metric elbo_validation did not improve in the last 45 records. Best score: -14.660. Signaling Trainer to stop.\n",
      "RegVelo: 0.9717678914523963\n",
      "recovering dynamics (using 1/112 cores)\n"
     ]
    },
    {
     "name": "stderr",
     "output_type": "stream",
     "text": [
      "GPU available: True (cuda), used: True\n",
      "TPU available: False, using: 0 TPU cores\n",
      "IPU available: False, using: 0 IPUs\n",
      "HPU available: False, using: 0 HPUs\n",
      "LOCAL_RANK: 0 - CUDA_VISIBLE_DEVICES: [0]\n"
     ]
    },
    {
     "name": "stdout",
     "output_type": "stream",
     "text": [
      "    finished (0:00:00) --> added \n",
      "    'fit_pars', fitted parameters for splicing dynamics (adata.var)\n",
      "computing velocities\n",
      "WARNING: Too few genes are selected as velocity genes. Consider setting a lower threshold for min_r2 or min_likelihood.\n",
      "    finished (0:00:00) --> added \n",
      "    'velocity', velocity vectors for each individual cell (adata.layers)\n",
      "scVelo: 0.5148147454321148\n",
      "Epoch 366/500:  73%|███████▎  | 366/500 [00:36<00:13, 10.04it/s, loss=-7.27, v_num=1]\n",
      "Monitored metric elbo_validation did not improve in the last 45 records. Best score: -7.797. Signaling Trainer to stop.\n",
      "veloVI: SignificanceResult(statistic=0.29963245316997916, pvalue=1.7195306168392537e-32)\n",
      "initiating Net object ...\n",
      "gem_shape: (1500, 6)\n",
      "TF info shape: (6, 8)\n",
      "initiation completed.\n"
     ]
    },
    {
     "data": {
      "application/vnd.jupyter.widget-view+json": {
       "model_id": "bae0c6d55b3e4b19a8621bb9ef1a5c7d",
       "version_major": 2,
       "version_minor": 0
      },
      "text/plain": [
       "  0%|          | 0/6 [00:00<?, ?it/s]"
      ]
     },
     "metadata": {},
     "output_type": "display_data"
    },
    {
     "data": {
      "application/vnd.jupyter.widget-view+json": {
       "model_id": "0a368a0569354cfe877cb5370bfdbe28",
       "version_major": 2,
       "version_minor": 0
      },
      "text/plain": [
       "  0%|          | 0/6 [00:00<?, ?it/s]"
      ]
     },
     "metadata": {},
     "output_type": "display_data"
    },
    {
     "name": "stdout",
     "output_type": "stream",
     "text": [
      "AUC: RegVelo: 0.505 Cor: 0.71 GRNBoost2: 0.7650000000000001 CellOracle: 0.44\n",
      "80\n"
     ]
    },
    {
     "name": "stderr",
     "output_type": "stream",
     "text": [
      "GPU available: True (cuda), used: True\n",
      "TPU available: False, using: 0 TPU cores\n",
      "IPU available: False, using: 0 IPUs\n",
      "HPU available: False, using: 0 HPUs\n",
      "LOCAL_RANK: 0 - CUDA_VISIBLE_DEVICES: [0]\n"
     ]
    },
    {
     "name": "stdout",
     "output_type": "stream",
     "text": [
      "Epoch 619/1500:  41%|████▏     | 619/1500 [02:15<03:12,  4.57it/s, loss=-15.9, v_num=1]   \n",
      "Monitored metric elbo_validation did not improve in the last 45 records. Best score: -15.018. Signaling Trainer to stop.\n",
      "RegVelo: 0.8856903420845965\n",
      "recovering dynamics (using 1/112 cores)\n"
     ]
    },
    {
     "name": "stderr",
     "output_type": "stream",
     "text": [
      "GPU available: True (cuda), used: True\n",
      "TPU available: False, using: 0 TPU cores\n",
      "IPU available: False, using: 0 IPUs\n",
      "HPU available: False, using: 0 HPUs\n",
      "LOCAL_RANK: 0 - CUDA_VISIBLE_DEVICES: [0]\n"
     ]
    },
    {
     "name": "stdout",
     "output_type": "stream",
     "text": [
      "    finished (0:00:00) --> added \n",
      "    'fit_pars', fitted parameters for splicing dynamics (adata.var)\n",
      "computing velocities\n",
      "WARNING: Too few genes are selected as velocity genes. Consider setting a lower threshold for min_r2 or min_likelihood.\n",
      "    finished (0:00:00) --> added \n",
      "    'velocity', velocity vectors for each individual cell (adata.layers)\n",
      "scVelo: 0.8459000923378851\n",
      "Epoch 198/500:  40%|███▉      | 198/500 [00:19<00:30, 10.03it/s, loss=-9.32, v_num=1]\n",
      "Monitored metric elbo_validation did not improve in the last 45 records. Best score: -7.916. Signaling Trainer to stop.\n",
      "veloVI: SignificanceResult(statistic=0.7804585335371261, pvalue=7.342535690476571e-308)\n",
      "initiating Net object ...\n",
      "gem_shape: (1500, 6)\n",
      "TF info shape: (6, 8)\n",
      "initiation completed.\n"
     ]
    },
    {
     "data": {
      "application/vnd.jupyter.widget-view+json": {
       "model_id": "ac24dd3b9b1a462cad445ad917bf8d48",
       "version_major": 2,
       "version_minor": 0
      },
      "text/plain": [
       "  0%|          | 0/6 [00:00<?, ?it/s]"
      ]
     },
     "metadata": {},
     "output_type": "display_data"
    },
    {
     "data": {
      "application/vnd.jupyter.widget-view+json": {
       "model_id": "ee7eb3b58fc046f7b327b8bfa39e073a",
       "version_major": 2,
       "version_minor": 0
      },
      "text/plain": [
       "  0%|          | 0/6 [00:00<?, ?it/s]"
      ]
     },
     "metadata": {},
     "output_type": "display_data"
    },
    {
     "name": "stdout",
     "output_type": "stream",
     "text": [
      "AUC: RegVelo: 0.775 Cor: 0.45999999999999996 GRNBoost2: 0.56 CellOracle: 0.56\n",
      "81\n"
     ]
    },
    {
     "name": "stderr",
     "output_type": "stream",
     "text": [
      "GPU available: True (cuda), used: True\n",
      "TPU available: False, using: 0 TPU cores\n",
      "IPU available: False, using: 0 IPUs\n",
      "HPU available: False, using: 0 HPUs\n",
      "LOCAL_RANK: 0 - CUDA_VISIBLE_DEVICES: [0]\n"
     ]
    },
    {
     "name": "stdout",
     "output_type": "stream",
     "text": [
      "Epoch 573/1500:  38%|███▊      | 573/1500 [01:40<02:43,  5.68it/s, loss=-15, v_num=1]     \n",
      "Monitored metric elbo_validation did not improve in the last 45 records. Best score: -13.391. Signaling Trainer to stop.\n",
      "RegVelo: 0.9037168852075047\n",
      "recovering dynamics (using 1/112 cores)\n"
     ]
    },
    {
     "name": "stderr",
     "output_type": "stream",
     "text": [
      "GPU available: True (cuda), used: True\n",
      "TPU available: False, using: 0 TPU cores\n",
      "IPU available: False, using: 0 IPUs\n",
      "HPU available: False, using: 0 HPUs\n",
      "LOCAL_RANK: 0 - CUDA_VISIBLE_DEVICES: [0]\n"
     ]
    },
    {
     "name": "stdout",
     "output_type": "stream",
     "text": [
      "    finished (0:00:00) --> added \n",
      "    'fit_pars', fitted parameters for splicing dynamics (adata.var)\n",
      "computing velocities\n",
      "WARNING: Too few genes are selected as velocity genes. Consider setting a lower threshold for min_r2 or min_likelihood.\n",
      "    finished (0:00:00) --> added \n",
      "    'velocity', velocity vectors for each individual cell (adata.layers)\n",
      "scVelo: 0.8844513959039978\n",
      "Epoch 208/500:  42%|████▏     | 208/500 [00:21<00:29,  9.86it/s, loss=-9.77, v_num=1] \n",
      "Monitored metric elbo_validation did not improve in the last 45 records. Best score: -9.232. Signaling Trainer to stop.\n",
      "veloVI: SignificanceResult(statistic=0.7430193346752598, pvalue=1.561941093954044e-263)\n",
      "initiating Net object ...\n",
      "gem_shape: (1500, 6)\n",
      "TF info shape: (6, 8)\n",
      "initiation completed.\n"
     ]
    },
    {
     "data": {
      "application/vnd.jupyter.widget-view+json": {
       "model_id": "6d70b7cd76884ddab8e596cba512e5dc",
       "version_major": 2,
       "version_minor": 0
      },
      "text/plain": [
       "  0%|          | 0/6 [00:00<?, ?it/s]"
      ]
     },
     "metadata": {},
     "output_type": "display_data"
    },
    {
     "data": {
      "application/vnd.jupyter.widget-view+json": {
       "model_id": "8d4b225e636840ad958633554ba6f7d5",
       "version_major": 2,
       "version_minor": 0
      },
      "text/plain": [
       "  0%|          | 0/6 [00:00<?, ?it/s]"
      ]
     },
     "metadata": {},
     "output_type": "display_data"
    },
    {
     "name": "stdout",
     "output_type": "stream",
     "text": [
      "AUC: RegVelo: 0.625 Cor: 0.5900000000000001 GRNBoost2: 0.6300000000000001 CellOracle: 0.5700000000000001\n",
      "82\n"
     ]
    },
    {
     "name": "stderr",
     "output_type": "stream",
     "text": [
      "GPU available: True (cuda), used: True\n",
      "TPU available: False, using: 0 TPU cores\n",
      "IPU available: False, using: 0 IPUs\n",
      "HPU available: False, using: 0 HPUs\n",
      "LOCAL_RANK: 0 - CUDA_VISIBLE_DEVICES: [0]\n"
     ]
    },
    {
     "name": "stdout",
     "output_type": "stream",
     "text": [
      "Epoch 930/1500:  62%|██████▏   | 930/1500 [03:28<02:07,  4.46it/s, loss=-17.3, v_num=1]  \n",
      "Monitored metric elbo_validation did not improve in the last 45 records. Best score: -16.543. Signaling Trainer to stop.\n",
      "RegVelo: 0.9350016244451665\n",
      "recovering dynamics (using 1/112 cores)\n"
     ]
    },
    {
     "name": "stderr",
     "output_type": "stream",
     "text": [
      "GPU available: True (cuda), used: True\n",
      "TPU available: False, using: 0 TPU cores\n",
      "IPU available: False, using: 0 IPUs\n",
      "HPU available: False, using: 0 HPUs\n",
      "LOCAL_RANK: 0 - CUDA_VISIBLE_DEVICES: [0]\n"
     ]
    },
    {
     "name": "stdout",
     "output_type": "stream",
     "text": [
      "    finished (0:00:00) --> added \n",
      "    'fit_pars', fitted parameters for splicing dynamics (adata.var)\n",
      "computing velocities\n",
      "WARNING: Too few genes are selected as velocity genes. Consider setting a lower threshold for min_r2 or min_likelihood.\n",
      "    finished (0:00:00) --> added \n",
      "    'velocity', velocity vectors for each individual cell (adata.layers)\n",
      "scVelo: 0.8217043036818892\n",
      "Epoch 470/500:  94%|█████████▍| 470/500 [00:46<00:02, 10.04it/s, loss=-9.05, v_num=1]\n",
      "Monitored metric elbo_validation did not improve in the last 45 records. Best score: -9.114. Signaling Trainer to stop.\n",
      "veloVI: SignificanceResult(statistic=0.6411941516418452, pvalue=1.7835872928274848e-174)\n",
      "initiating Net object ...\n",
      "gem_shape: (1500, 6)\n",
      "TF info shape: (6, 8)\n",
      "initiation completed.\n"
     ]
    },
    {
     "data": {
      "application/vnd.jupyter.widget-view+json": {
       "model_id": "9bbc2d2d5bc64eeaaab91e4827f8bd56",
       "version_major": 2,
       "version_minor": 0
      },
      "text/plain": [
       "  0%|          | 0/6 [00:00<?, ?it/s]"
      ]
     },
     "metadata": {},
     "output_type": "display_data"
    },
    {
     "data": {
      "application/vnd.jupyter.widget-view+json": {
       "model_id": "b59331ae8b364799aaccd8f511eb6dac",
       "version_major": 2,
       "version_minor": 0
      },
      "text/plain": [
       "  0%|          | 0/6 [00:00<?, ?it/s]"
      ]
     },
     "metadata": {},
     "output_type": "display_data"
    },
    {
     "name": "stdout",
     "output_type": "stream",
     "text": [
      "AUC: RegVelo: 0.63 Cor: 0.51 GRNBoost2: 0.495 CellOracle: 0.6399999999999999\n",
      "83\n"
     ]
    },
    {
     "name": "stderr",
     "output_type": "stream",
     "text": [
      "GPU available: True (cuda), used: True\n",
      "TPU available: False, using: 0 TPU cores\n",
      "IPU available: False, using: 0 IPUs\n",
      "HPU available: False, using: 0 HPUs\n",
      "LOCAL_RANK: 0 - CUDA_VISIBLE_DEVICES: [0]\n"
     ]
    },
    {
     "name": "stdout",
     "output_type": "stream",
     "text": [
      "Epoch 388/1500:  26%|██▌       | 388/1500 [01:08<03:15,  5.69it/s, loss=-9.11, v_num=1]  \n",
      "Monitored metric elbo_validation did not improve in the last 45 records. Best score: -7.423. Signaling Trainer to stop.\n",
      "RegVelo: 0.7803398845955043\n",
      "recovering dynamics (using 1/112 cores)\n"
     ]
    },
    {
     "name": "stderr",
     "output_type": "stream",
     "text": [
      "GPU available: True (cuda), used: True\n",
      "TPU available: False, using: 0 TPU cores\n",
      "IPU available: False, using: 0 IPUs\n",
      "HPU available: False, using: 0 HPUs\n",
      "LOCAL_RANK: 0 - CUDA_VISIBLE_DEVICES: [0]\n"
     ]
    },
    {
     "name": "stdout",
     "output_type": "stream",
     "text": [
      "    finished (0:00:00) --> added \n",
      "    'fit_pars', fitted parameters for splicing dynamics (adata.var)\n",
      "computing velocities\n",
      "WARNING: Too few genes are selected as velocity genes. Consider setting a lower threshold for min_r2 or min_likelihood.\n",
      "    finished (0:00:00) --> added \n",
      "    'velocity', velocity vectors for each individual cell (adata.layers)\n",
      "scVelo: 0.8465636235848458\n",
      "Epoch 262/500:  52%|█████▏    | 262/500 [00:26<00:24,  9.83it/s, loss=-8.72, v_num=1]\n",
      "Monitored metric elbo_validation did not improve in the last 45 records. Best score: -8.159. Signaling Trainer to stop.\n",
      "veloVI: SignificanceResult(statistic=0.5377164132072948, pvalue=3.711999146174521e-113)\n",
      "initiating Net object ...\n",
      "gem_shape: (1500, 6)\n",
      "TF info shape: (6, 8)\n",
      "initiation completed.\n"
     ]
    },
    {
     "data": {
      "application/vnd.jupyter.widget-view+json": {
       "model_id": "90152127965f49bbb30891a152afc878",
       "version_major": 2,
       "version_minor": 0
      },
      "text/plain": [
       "  0%|          | 0/6 [00:00<?, ?it/s]"
      ]
     },
     "metadata": {},
     "output_type": "display_data"
    },
    {
     "data": {
      "application/vnd.jupyter.widget-view+json": {
       "model_id": "7d86b935246143469f7de96952b220f9",
       "version_major": 2,
       "version_minor": 0
      },
      "text/plain": [
       "  0%|          | 0/6 [00:00<?, ?it/s]"
      ]
     },
     "metadata": {},
     "output_type": "display_data"
    },
    {
     "name": "stdout",
     "output_type": "stream",
     "text": [
      "AUC: RegVelo: 0.615 Cor: 0.55 GRNBoost2: 0.6950000000000001 CellOracle: 0.51\n",
      "84\n"
     ]
    },
    {
     "name": "stderr",
     "output_type": "stream",
     "text": [
      "GPU available: True (cuda), used: True\n",
      "TPU available: False, using: 0 TPU cores\n",
      "IPU available: False, using: 0 IPUs\n",
      "HPU available: False, using: 0 HPUs\n",
      "LOCAL_RANK: 0 - CUDA_VISIBLE_DEVICES: [0]\n"
     ]
    },
    {
     "name": "stdout",
     "output_type": "stream",
     "text": [
      "Epoch 590/1500:  39%|███▉      | 590/1500 [02:01<03:07,  4.86it/s, loss=-15.2, v_num=1]  \n",
      "Monitored metric elbo_validation did not improve in the last 45 records. Best score: -13.531. Signaling Trainer to stop.\n",
      "RegVelo: 0.8433346404539155\n",
      "recovering dynamics (using 1/112 cores)\n"
     ]
    },
    {
     "name": "stderr",
     "output_type": "stream",
     "text": [
      "GPU available: True (cuda), used: True\n",
      "TPU available: False, using: 0 TPU cores\n",
      "IPU available: False, using: 0 IPUs\n",
      "HPU available: False, using: 0 HPUs\n",
      "LOCAL_RANK: 0 - CUDA_VISIBLE_DEVICES: [0]\n"
     ]
    },
    {
     "name": "stdout",
     "output_type": "stream",
     "text": [
      "    finished (0:00:00) --> added \n",
      "    'fit_pars', fitted parameters for splicing dynamics (adata.var)\n",
      "computing velocities\n",
      "WARNING: Too few genes are selected as velocity genes. Consider setting a lower threshold for min_r2 or min_likelihood.\n",
      "    finished (0:00:00) --> added \n",
      "    'velocity', velocity vectors for each individual cell (adata.layers)\n",
      "scVelo: 0.8031420585031281\n",
      "Epoch 280/500:  56%|█████▌    | 280/500 [00:27<00:21, 10.05it/s, loss=-10.6, v_num=1]\n",
      "Monitored metric elbo_validation did not improve in the last 45 records. Best score: -9.819. Signaling Trainer to stop.\n",
      "veloVI: SignificanceResult(statistic=0.667357487714439, pvalue=5.626573385162721e-194)\n",
      "initiating Net object ...\n",
      "gem_shape: (1500, 6)\n",
      "TF info shape: (6, 8)\n",
      "initiation completed.\n"
     ]
    },
    {
     "data": {
      "application/vnd.jupyter.widget-view+json": {
       "model_id": "388d93d19b4345c09a2f4aff837c544f",
       "version_major": 2,
       "version_minor": 0
      },
      "text/plain": [
       "  0%|          | 0/6 [00:00<?, ?it/s]"
      ]
     },
     "metadata": {},
     "output_type": "display_data"
    },
    {
     "data": {
      "application/vnd.jupyter.widget-view+json": {
       "model_id": "a82b91cc399643ebaf035c70a73d39c5",
       "version_major": 2,
       "version_minor": 0
      },
      "text/plain": [
       "  0%|          | 0/6 [00:00<?, ?it/s]"
      ]
     },
     "metadata": {},
     "output_type": "display_data"
    },
    {
     "name": "stdout",
     "output_type": "stream",
     "text": [
      "AUC: RegVelo: 0.65 Cor: 0.56 GRNBoost2: 0.54 CellOracle: 0.605\n",
      "85\n"
     ]
    },
    {
     "name": "stderr",
     "output_type": "stream",
     "text": [
      "GPU available: True (cuda), used: True\n",
      "TPU available: False, using: 0 TPU cores\n",
      "IPU available: False, using: 0 IPUs\n",
      "HPU available: False, using: 0 HPUs\n",
      "LOCAL_RANK: 0 - CUDA_VISIBLE_DEVICES: [0]\n"
     ]
    },
    {
     "name": "stdout",
     "output_type": "stream",
     "text": [
      "Epoch 709/1500:  47%|████▋     | 709/1500 [02:30<02:47,  4.72it/s, loss=-16.2, v_num=1]  \n",
      "Monitored metric elbo_validation did not improve in the last 45 records. Best score: -15.185. Signaling Trainer to stop.\n",
      "RegVelo: 0.8386892474174432\n",
      "recovering dynamics (using 1/112 cores)\n"
     ]
    },
    {
     "name": "stderr",
     "output_type": "stream",
     "text": [
      "GPU available: True (cuda), used: True\n",
      "TPU available: False, using: 0 TPU cores\n",
      "IPU available: False, using: 0 IPUs\n",
      "HPU available: False, using: 0 HPUs\n",
      "LOCAL_RANK: 0 - CUDA_VISIBLE_DEVICES: [0]\n"
     ]
    },
    {
     "name": "stdout",
     "output_type": "stream",
     "text": [
      "    finished (0:00:00) --> added \n",
      "    'fit_pars', fitted parameters for splicing dynamics (adata.var)\n",
      "computing velocities\n",
      "WARNING: Too few genes are selected as velocity genes. Consider setting a lower threshold for min_r2 or min_likelihood.\n",
      "    finished (0:00:00) --> added \n",
      "    'velocity', velocity vectors for each individual cell (adata.layers)\n",
      "scVelo: 0.8544138099374592\n",
      "Epoch 209/500:  42%|████▏     | 209/500 [00:21<00:29,  9.89it/s, loss=-9.14, v_num=1]\n",
      "Monitored metric elbo_validation did not improve in the last 45 records. Best score: -7.292. Signaling Trainer to stop.\n",
      "veloVI: SignificanceResult(statistic=0.8079832746592331, pvalue=0.0)\n",
      "initiating Net object ...\n",
      "gem_shape: (1500, 6)\n",
      "TF info shape: (6, 8)\n",
      "initiation completed.\n"
     ]
    },
    {
     "data": {
      "application/vnd.jupyter.widget-view+json": {
       "model_id": "f0a9aa1d861747deab6eb3ea3a80381a",
       "version_major": 2,
       "version_minor": 0
      },
      "text/plain": [
       "  0%|          | 0/6 [00:00<?, ?it/s]"
      ]
     },
     "metadata": {},
     "output_type": "display_data"
    },
    {
     "data": {
      "application/vnd.jupyter.widget-view+json": {
       "model_id": "39a87c13ee19492194e1a62ab54d08fd",
       "version_major": 2,
       "version_minor": 0
      },
      "text/plain": [
       "  0%|          | 0/6 [00:00<?, ?it/s]"
      ]
     },
     "metadata": {},
     "output_type": "display_data"
    },
    {
     "name": "stdout",
     "output_type": "stream",
     "text": [
      "AUC: RegVelo: 0.6849999999999999 Cor: 0.54 GRNBoost2: 0.5900000000000001 CellOracle: 0.48\n",
      "86\n"
     ]
    },
    {
     "name": "stderr",
     "output_type": "stream",
     "text": [
      "GPU available: True (cuda), used: True\n",
      "TPU available: False, using: 0 TPU cores\n",
      "IPU available: False, using: 0 IPUs\n",
      "HPU available: False, using: 0 HPUs\n",
      "LOCAL_RANK: 0 - CUDA_VISIBLE_DEVICES: [0]\n"
     ]
    },
    {
     "name": "stdout",
     "output_type": "stream",
     "text": [
      "Epoch 918/1500:  61%|██████    | 918/1500 [03:24<02:09,  4.49it/s, loss=-13.4, v_num=1]  \n",
      "Monitored metric elbo_validation did not improve in the last 45 records. Best score: -13.010. Signaling Trainer to stop.\n",
      "RegVelo: 0.9980489769106565\n",
      "recovering dynamics (using 1/112 cores)\n"
     ]
    },
    {
     "name": "stderr",
     "output_type": "stream",
     "text": [
      "GPU available: True (cuda), used: True\n",
      "TPU available: False, using: 0 TPU cores\n",
      "IPU available: False, using: 0 IPUs\n",
      "HPU available: False, using: 0 HPUs\n",
      "LOCAL_RANK: 0 - CUDA_VISIBLE_DEVICES: [0]\n"
     ]
    },
    {
     "name": "stdout",
     "output_type": "stream",
     "text": [
      "    finished (0:00:00) --> added \n",
      "    'fit_pars', fitted parameters for splicing dynamics (adata.var)\n",
      "computing velocities\n",
      "WARNING: Too few genes are selected as velocity genes. Consider setting a lower threshold for min_r2 or min_likelihood.\n",
      "    finished (0:00:00) --> added \n",
      "    'velocity', velocity vectors for each individual cell (adata.layers)\n",
      "scVelo: 0.6483442938514974\n",
      "Epoch 345/500:  69%|██████▉   | 345/500 [00:34<00:15,  9.91it/s, loss=-7.58, v_num=1]\n",
      "Monitored metric elbo_validation did not improve in the last 45 records. Best score: -7.140. Signaling Trainer to stop.\n",
      "veloVI: SignificanceResult(statistic=0.6945640029173347, pvalue=1.744850104011855e-216)\n",
      "initiating Net object ...\n",
      "gem_shape: (1500, 6)\n",
      "TF info shape: (6, 8)\n",
      "initiation completed.\n"
     ]
    },
    {
     "data": {
      "application/vnd.jupyter.widget-view+json": {
       "model_id": "9582412850444779942b630d590b8193",
       "version_major": 2,
       "version_minor": 0
      },
      "text/plain": [
       "  0%|          | 0/6 [00:00<?, ?it/s]"
      ]
     },
     "metadata": {},
     "output_type": "display_data"
    },
    {
     "data": {
      "application/vnd.jupyter.widget-view+json": {
       "model_id": "a2183d5e8ca8412399f6e6cef651fbc4",
       "version_major": 2,
       "version_minor": 0
      },
      "text/plain": [
       "  0%|          | 0/6 [00:00<?, ?it/s]"
      ]
     },
     "metadata": {},
     "output_type": "display_data"
    },
    {
     "name": "stdout",
     "output_type": "stream",
     "text": [
      "AUC: RegVelo: 0.575 Cor: 0.6 GRNBoost2: 0.575 CellOracle: 0.5599999999999999\n",
      "87\n"
     ]
    },
    {
     "name": "stderr",
     "output_type": "stream",
     "text": [
      "GPU available: True (cuda), used: True\n",
      "TPU available: False, using: 0 TPU cores\n",
      "IPU available: False, using: 0 IPUs\n",
      "HPU available: False, using: 0 HPUs\n",
      "LOCAL_RANK: 0 - CUDA_VISIBLE_DEVICES: [0]\n"
     ]
    },
    {
     "name": "stdout",
     "output_type": "stream",
     "text": [
      "Epoch 530/1500:  35%|███▌      | 530/1500 [02:02<03:44,  4.32it/s, loss=-14.3, v_num=1]  \n",
      "Monitored metric elbo_validation did not improve in the last 45 records. Best score: -11.904. Signaling Trainer to stop.\n",
      "RegVelo: 0.7800321162631915\n",
      "recovering dynamics (using 1/112 cores)\n"
     ]
    },
    {
     "name": "stderr",
     "output_type": "stream",
     "text": [
      "GPU available: True (cuda), used: True\n",
      "TPU available: False, using: 0 TPU cores\n",
      "IPU available: False, using: 0 IPUs\n",
      "HPU available: False, using: 0 HPUs\n",
      "LOCAL_RANK: 0 - CUDA_VISIBLE_DEVICES: [0]\n"
     ]
    },
    {
     "name": "stdout",
     "output_type": "stream",
     "text": [
      "    finished (0:00:00) --> added \n",
      "    'fit_pars', fitted parameters for splicing dynamics (adata.var)\n",
      "computing velocities\n",
      "WARNING: Too few genes are selected as velocity genes. Consider setting a lower threshold for min_r2 or min_likelihood.\n",
      "    finished (0:00:00) --> added \n",
      "    'velocity', velocity vectors for each individual cell (adata.layers)\n",
      "scVelo: 0.6989664888455736\n",
      "Epoch 199/500:  40%|███▉      | 199/500 [00:19<00:30,  9.96it/s, loss=-9.94, v_num=1]\n",
      "Monitored metric elbo_validation did not improve in the last 45 records. Best score: -8.390. Signaling Trainer to stop.\n",
      "veloVI: SignificanceResult(statistic=0.695122676943412, pvalue=5.663789103103556e-217)\n",
      "initiating Net object ...\n",
      "gem_shape: (1500, 6)\n",
      "TF info shape: (6, 8)\n",
      "initiation completed.\n"
     ]
    },
    {
     "data": {
      "application/vnd.jupyter.widget-view+json": {
       "model_id": "5ea789357f8244bba305703a81617aee",
       "version_major": 2,
       "version_minor": 0
      },
      "text/plain": [
       "  0%|          | 0/6 [00:00<?, ?it/s]"
      ]
     },
     "metadata": {},
     "output_type": "display_data"
    },
    {
     "data": {
      "application/vnd.jupyter.widget-view+json": {
       "model_id": "c40271a972a04906b397b77fe5e58365",
       "version_major": 2,
       "version_minor": 0
      },
      "text/plain": [
       "  0%|          | 0/6 [00:00<?, ?it/s]"
      ]
     },
     "metadata": {},
     "output_type": "display_data"
    },
    {
     "name": "stdout",
     "output_type": "stream",
     "text": [
      "AUC: RegVelo: 0.55 Cor: 0.67 GRNBoost2: 0.535 CellOracle: 0.555\n",
      "88\n"
     ]
    },
    {
     "name": "stderr",
     "output_type": "stream",
     "text": [
      "GPU available: True (cuda), used: True\n",
      "TPU available: False, using: 0 TPU cores\n",
      "IPU available: False, using: 0 IPUs\n",
      "HPU available: False, using: 0 HPUs\n",
      "LOCAL_RANK: 0 - CUDA_VISIBLE_DEVICES: [0]\n"
     ]
    },
    {
     "name": "stdout",
     "output_type": "stream",
     "text": [
      "Epoch 1053/1500:  70%|███████   | 1053/1500 [04:06<01:44,  4.27it/s, loss=-17.5, v_num=1]\n",
      "Monitored metric elbo_validation did not improve in the last 45 records. Best score: -17.523. Signaling Trainer to stop.\n",
      "RegVelo: 0.9776640976086336\n",
      "recovering dynamics (using 1/112 cores)\n"
     ]
    },
    {
     "name": "stderr",
     "output_type": "stream",
     "text": [
      "GPU available: True (cuda), used: True\n",
      "TPU available: False, using: 0 TPU cores\n",
      "IPU available: False, using: 0 IPUs\n",
      "HPU available: False, using: 0 HPUs\n",
      "LOCAL_RANK: 0 - CUDA_VISIBLE_DEVICES: [0]\n"
     ]
    },
    {
     "name": "stdout",
     "output_type": "stream",
     "text": [
      "    finished (0:00:00) --> added \n",
      "    'fit_pars', fitted parameters for splicing dynamics (adata.var)\n",
      "computing velocities\n",
      "WARNING: Too few genes are selected as velocity genes. Consider setting a lower threshold for min_r2 or min_likelihood.\n",
      "    finished (0:00:00) --> added \n",
      "    'velocity', velocity vectors for each individual cell (adata.layers)\n",
      "scVelo: 0.8882787759961454\n",
      "Epoch 454/500:  91%|█████████ | 454/500 [00:48<00:04,  9.33it/s, loss=-9.11, v_num=1]\n",
      "Monitored metric elbo_validation did not improve in the last 45 records. Best score: -9.179. Signaling Trainer to stop.\n",
      "veloVI: SignificanceResult(statistic=0.7753899161732961, pvalue=2.322339959339598e-301)\n",
      "initiating Net object ...\n",
      "gem_shape: (1500, 6)\n",
      "TF info shape: (6, 8)\n",
      "initiation completed.\n"
     ]
    },
    {
     "data": {
      "application/vnd.jupyter.widget-view+json": {
       "model_id": "67200ae95d92405d8aa33f006e9eb46f",
       "version_major": 2,
       "version_minor": 0
      },
      "text/plain": [
       "  0%|          | 0/6 [00:00<?, ?it/s]"
      ]
     },
     "metadata": {},
     "output_type": "display_data"
    },
    {
     "data": {
      "application/vnd.jupyter.widget-view+json": {
       "model_id": "2f4a328f42e54f1e9b4ee2490fd1941a",
       "version_major": 2,
       "version_minor": 0
      },
      "text/plain": [
       "  0%|          | 0/6 [00:00<?, ?it/s]"
      ]
     },
     "metadata": {},
     "output_type": "display_data"
    },
    {
     "name": "stdout",
     "output_type": "stream",
     "text": [
      "AUC: RegVelo: 0.76 Cor: 0.42 GRNBoost2: 0.41000000000000003 CellOracle: 0.4\n",
      "89\n"
     ]
    },
    {
     "name": "stderr",
     "output_type": "stream",
     "text": [
      "GPU available: True (cuda), used: True\n",
      "TPU available: False, using: 0 TPU cores\n",
      "IPU available: False, using: 0 IPUs\n",
      "HPU available: False, using: 0 HPUs\n",
      "LOCAL_RANK: 0 - CUDA_VISIBLE_DEVICES: [0]\n"
     ]
    },
    {
     "name": "stdout",
     "output_type": "stream",
     "text": [
      "Epoch 678/1500:  45%|████▌     | 678/1500 [02:22<02:52,  4.75it/s, loss=-13.9, v_num=1]  \n",
      "Monitored metric elbo_validation did not improve in the last 45 records. Best score: -12.896. Signaling Trainer to stop.\n",
      "RegVelo: 0.8878122389279394\n",
      "recovering dynamics (using 1/112 cores)\n"
     ]
    },
    {
     "name": "stderr",
     "output_type": "stream",
     "text": [
      "GPU available: True (cuda), used: True\n",
      "TPU available: False, using: 0 TPU cores\n",
      "IPU available: False, using: 0 IPUs\n",
      "HPU available: False, using: 0 HPUs\n",
      "LOCAL_RANK: 0 - CUDA_VISIBLE_DEVICES: [0]\n"
     ]
    },
    {
     "name": "stdout",
     "output_type": "stream",
     "text": [
      "    finished (0:00:00) --> added \n",
      "    'fit_pars', fitted parameters for splicing dynamics (adata.var)\n",
      "computing velocities\n",
      "WARNING: Too few genes are selected as velocity genes. Consider setting a lower threshold for min_r2 or min_likelihood.\n",
      "    finished (0:00:00) --> added \n",
      "    'velocity', velocity vectors for each individual cell (adata.layers)\n",
      "scVelo: 0.8601566408329535\n",
      "Epoch 261/500:  52%|█████▏    | 261/500 [00:26<00:24,  9.80it/s, loss=-7.42, v_num=1]\n",
      "Monitored metric elbo_validation did not improve in the last 45 records. Best score: -5.791. Signaling Trainer to stop.\n",
      "veloVI: SignificanceResult(statistic=0.5072934312480081, pvalue=6.712029287001397e-99)\n",
      "initiating Net object ...\n",
      "gem_shape: (1500, 6)\n",
      "TF info shape: (6, 8)\n",
      "initiation completed.\n"
     ]
    },
    {
     "data": {
      "application/vnd.jupyter.widget-view+json": {
       "model_id": "a8dc1dd922104ed0b4cceaf334b6866c",
       "version_major": 2,
       "version_minor": 0
      },
      "text/plain": [
       "  0%|          | 0/6 [00:00<?, ?it/s]"
      ]
     },
     "metadata": {},
     "output_type": "display_data"
    },
    {
     "data": {
      "application/vnd.jupyter.widget-view+json": {
       "model_id": "34f7a00b748b44a786c155aee69594d1",
       "version_major": 2,
       "version_minor": 0
      },
      "text/plain": [
       "  0%|          | 0/6 [00:00<?, ?it/s]"
      ]
     },
     "metadata": {},
     "output_type": "display_data"
    },
    {
     "name": "stdout",
     "output_type": "stream",
     "text": [
      "AUC: RegVelo: 0.76 Cor: 0.54 GRNBoost2: 0.5800000000000001 CellOracle: 0.54\n",
      "90\n"
     ]
    },
    {
     "name": "stderr",
     "output_type": "stream",
     "text": [
      "GPU available: True (cuda), used: True\n",
      "TPU available: False, using: 0 TPU cores\n",
      "IPU available: False, using: 0 IPUs\n",
      "HPU available: False, using: 0 HPUs\n",
      "LOCAL_RANK: 0 - CUDA_VISIBLE_DEVICES: [0]\n"
     ]
    },
    {
     "name": "stdout",
     "output_type": "stream",
     "text": [
      "Epoch 500/1500:  33%|███▎      | 500/1500 [01:38<03:16,  5.10it/s, loss=-12.3, v_num=1]  \n",
      "Monitored metric elbo_validation did not improve in the last 45 records. Best score: -10.554. Signaling Trainer to stop.\n",
      "RegVelo: 0.9336765785229239\n",
      "recovering dynamics (using 1/112 cores)\n"
     ]
    },
    {
     "name": "stderr",
     "output_type": "stream",
     "text": [
      "GPU available: True (cuda), used: True\n",
      "TPU available: False, using: 0 TPU cores\n",
      "IPU available: False, using: 0 IPUs\n",
      "HPU available: False, using: 0 HPUs\n",
      "LOCAL_RANK: 0 - CUDA_VISIBLE_DEVICES: [0]\n"
     ]
    },
    {
     "name": "stdout",
     "output_type": "stream",
     "text": [
      "    finished (0:00:00) --> added \n",
      "    'fit_pars', fitted parameters for splicing dynamics (adata.var)\n",
      "computing velocities\n",
      "WARNING: Too few genes are selected as velocity genes. Consider setting a lower threshold for min_r2 or min_likelihood.\n",
      "    finished (0:00:00) --> added \n",
      "    'velocity', velocity vectors for each individual cell (adata.layers)\n",
      "scVelo: 0.818729996239155\n",
      "Epoch 296/500:  59%|█████▉    | 296/500 [00:30<00:20,  9.83it/s, loss=-8, v_num=1]   \n",
      "Monitored metric elbo_validation did not improve in the last 45 records. Best score: -8.087. Signaling Trainer to stop.\n",
      "veloVI: SignificanceResult(statistic=0.7058130248057889, pvalue=1.5160944995137036e-226)\n",
      "initiating Net object ...\n",
      "gem_shape: (1500, 6)\n",
      "TF info shape: (6, 8)\n",
      "initiation completed.\n"
     ]
    },
    {
     "data": {
      "application/vnd.jupyter.widget-view+json": {
       "model_id": "017eb4ae3a544c6cadbd80fb33effb48",
       "version_major": 2,
       "version_minor": 0
      },
      "text/plain": [
       "  0%|          | 0/6 [00:00<?, ?it/s]"
      ]
     },
     "metadata": {},
     "output_type": "display_data"
    },
    {
     "data": {
      "application/vnd.jupyter.widget-view+json": {
       "model_id": "01cadb69e6664824835ed0a5a0e5eb81",
       "version_major": 2,
       "version_minor": 0
      },
      "text/plain": [
       "  0%|          | 0/6 [00:00<?, ?it/s]"
      ]
     },
     "metadata": {},
     "output_type": "display_data"
    },
    {
     "name": "stdout",
     "output_type": "stream",
     "text": [
      "AUC: RegVelo: 0.86 Cor: 0.53 GRNBoost2: 0.5249999999999999 CellOracle: 0.54\n",
      "91\n"
     ]
    },
    {
     "name": "stderr",
     "output_type": "stream",
     "text": [
      "GPU available: True (cuda), used: True\n",
      "TPU available: False, using: 0 TPU cores\n",
      "IPU available: False, using: 0 IPUs\n",
      "HPU available: False, using: 0 HPUs\n",
      "LOCAL_RANK: 0 - CUDA_VISIBLE_DEVICES: [0]\n"
     ]
    },
    {
     "name": "stdout",
     "output_type": "stream",
     "text": [
      "Epoch 856/1500:  57%|█████▋    | 856/1500 [03:15<02:27,  4.37it/s, loss=-16.1, v_num=1]  \n",
      "Monitored metric elbo_validation did not improve in the last 45 records. Best score: -15.494. Signaling Trainer to stop.\n",
      "RegVelo: 0.9135667943973015\n",
      "recovering dynamics (using 1/112 cores)\n"
     ]
    },
    {
     "name": "stderr",
     "output_type": "stream",
     "text": [
      "GPU available: True (cuda), used: True\n",
      "TPU available: False, using: 0 TPU cores\n",
      "IPU available: False, using: 0 IPUs\n",
      "HPU available: False, using: 0 HPUs\n",
      "LOCAL_RANK: 0 - CUDA_VISIBLE_DEVICES: [0]\n"
     ]
    },
    {
     "name": "stdout",
     "output_type": "stream",
     "text": [
      "    finished (0:00:00) --> added \n",
      "    'fit_pars', fitted parameters for splicing dynamics (adata.var)\n",
      "computing velocities\n",
      "WARNING: Too few genes are selected as velocity genes. Consider setting a lower threshold for min_r2 or min_likelihood.\n",
      "    finished (0:00:00) --> added \n",
      "    'velocity', velocity vectors for each individual cell (adata.layers)\n",
      "scVelo: 0.9415018148314559\n",
      "Epoch 236/500:  47%|████▋     | 236/500 [00:23<00:26,  9.91it/s, loss=-9.22, v_num=1]\n",
      "Monitored metric elbo_validation did not improve in the last 45 records. Best score: -6.949. Signaling Trainer to stop.\n",
      "veloVI: SignificanceResult(statistic=0.558667060740916, pvalue=7.388873509175512e-124)\n",
      "initiating Net object ...\n",
      "gem_shape: (1500, 6)\n",
      "TF info shape: (6, 8)\n",
      "initiation completed.\n"
     ]
    },
    {
     "data": {
      "application/vnd.jupyter.widget-view+json": {
       "model_id": "994d56d39b844b779d8120fbf9b7689c",
       "version_major": 2,
       "version_minor": 0
      },
      "text/plain": [
       "  0%|          | 0/6 [00:00<?, ?it/s]"
      ]
     },
     "metadata": {},
     "output_type": "display_data"
    },
    {
     "data": {
      "application/vnd.jupyter.widget-view+json": {
       "model_id": "215caa09d30b4be391a27b0af19d7c13",
       "version_major": 2,
       "version_minor": 0
      },
      "text/plain": [
       "  0%|          | 0/6 [00:00<?, ?it/s]"
      ]
     },
     "metadata": {},
     "output_type": "display_data"
    },
    {
     "name": "stdout",
     "output_type": "stream",
     "text": [
      "AUC: RegVelo: 0.7599999999999999 Cor: 0.55 GRNBoost2: 0.47500000000000003 CellOracle: 0.5900000000000001\n",
      "92\n"
     ]
    },
    {
     "name": "stderr",
     "output_type": "stream",
     "text": [
      "GPU available: True (cuda), used: True\n",
      "TPU available: False, using: 0 TPU cores\n",
      "IPU available: False, using: 0 IPUs\n",
      "HPU available: False, using: 0 HPUs\n",
      "LOCAL_RANK: 0 - CUDA_VISIBLE_DEVICES: [0]\n"
     ]
    },
    {
     "name": "stdout",
     "output_type": "stream",
     "text": [
      "Epoch 887/1500:  59%|█████▉    | 887/1500 [03:22<02:19,  4.39it/s, loss=-14, v_num=1]    \n",
      "Monitored metric elbo_validation did not improve in the last 45 records. Best score: -14.280. Signaling Trainer to stop.\n",
      "RegVelo: 0.9014727455434426\n",
      "recovering dynamics (using 1/112 cores)\n"
     ]
    },
    {
     "name": "stderr",
     "output_type": "stream",
     "text": [
      "GPU available: True (cuda), used: True\n",
      "TPU available: False, using: 0 TPU cores\n",
      "IPU available: False, using: 0 IPUs\n",
      "HPU available: False, using: 0 HPUs\n",
      "LOCAL_RANK: 0 - CUDA_VISIBLE_DEVICES: [0]\n"
     ]
    },
    {
     "name": "stdout",
     "output_type": "stream",
     "text": [
      "    finished (0:00:00) --> added \n",
      "    'fit_pars', fitted parameters for splicing dynamics (adata.var)\n",
      "computing velocities\n",
      "WARNING: Too few genes are selected as velocity genes. Consider setting a lower threshold for min_r2 or min_likelihood.\n",
      "    finished (0:00:00) --> added \n",
      "    'velocity', velocity vectors for each individual cell (adata.layers)\n",
      "scVelo: 0.6366393859342225\n",
      "Epoch 382/500:  76%|███████▋  | 382/500 [00:38<00:12,  9.80it/s, loss=-5.86, v_num=1]\n",
      "Monitored metric elbo_validation did not improve in the last 45 records. Best score: -5.869. Signaling Trainer to stop.\n",
      "veloVI: SignificanceResult(statistic=0.8782495636664728, pvalue=0.0)\n",
      "initiating Net object ...\n",
      "gem_shape: (1500, 6)\n",
      "TF info shape: (6, 8)\n",
      "initiation completed.\n"
     ]
    },
    {
     "data": {
      "application/vnd.jupyter.widget-view+json": {
       "model_id": "6a7af8b9415148739ebf3e055ddde418",
       "version_major": 2,
       "version_minor": 0
      },
      "text/plain": [
       "  0%|          | 0/6 [00:00<?, ?it/s]"
      ]
     },
     "metadata": {},
     "output_type": "display_data"
    },
    {
     "data": {
      "application/vnd.jupyter.widget-view+json": {
       "model_id": "da90ab3f8050460d8168c43036fc1bb8",
       "version_major": 2,
       "version_minor": 0
      },
      "text/plain": [
       "  0%|          | 0/6 [00:00<?, ?it/s]"
      ]
     },
     "metadata": {},
     "output_type": "display_data"
    },
    {
     "name": "stdout",
     "output_type": "stream",
     "text": [
      "AUC: RegVelo: 0.665 Cor: 0.6399999999999999 GRNBoost2: 0.605 CellOracle: 0.47\n",
      "93\n"
     ]
    },
    {
     "name": "stderr",
     "output_type": "stream",
     "text": [
      "GPU available: True (cuda), used: True\n",
      "TPU available: False, using: 0 TPU cores\n",
      "IPU available: False, using: 0 IPUs\n",
      "HPU available: False, using: 0 HPUs\n",
      "LOCAL_RANK: 0 - CUDA_VISIBLE_DEVICES: [0]\n"
     ]
    },
    {
     "name": "stdout",
     "output_type": "stream",
     "text": [
      "Epoch 579/1500:  39%|███▊      | 579/1500 [02:05<03:19,  4.62it/s, loss=-14.6, v_num=1]  \n",
      "Monitored metric elbo_validation did not improve in the last 45 records. Best score: -12.989. Signaling Trainer to stop.\n",
      "RegVelo: 0.8279544195352977\n",
      "recovering dynamics (using 1/112 cores)\n"
     ]
    },
    {
     "name": "stderr",
     "output_type": "stream",
     "text": [
      "GPU available: True (cuda), used: True\n",
      "TPU available: False, using: 0 TPU cores\n",
      "IPU available: False, using: 0 IPUs\n",
      "HPU available: False, using: 0 HPUs\n",
      "LOCAL_RANK: 0 - CUDA_VISIBLE_DEVICES: [0]\n"
     ]
    },
    {
     "name": "stdout",
     "output_type": "stream",
     "text": [
      "    finished (0:00:00) --> added \n",
      "    'fit_pars', fitted parameters for splicing dynamics (adata.var)\n",
      "computing velocities\n",
      "WARNING: Too few genes are selected as velocity genes. Consider setting a lower threshold for min_r2 or min_likelihood.\n",
      "    finished (0:00:00) --> added \n",
      "    'velocity', velocity vectors for each individual cell (adata.layers)\n",
      "scVelo: 0.8076913651956362\n",
      "Epoch 152/500:  30%|███       | 152/500 [00:15<00:35,  9.94it/s, loss=-10.3, v_num=1]\n",
      "Monitored metric elbo_validation did not improve in the last 45 records. Best score: -7.276. Signaling Trainer to stop.\n",
      "veloVI: SignificanceResult(statistic=0.6433027273730368, pvalue=5.627212489505217e-176)\n",
      "initiating Net object ...\n",
      "gem_shape: (1500, 6)\n",
      "TF info shape: (6, 8)\n",
      "initiation completed.\n"
     ]
    },
    {
     "data": {
      "application/vnd.jupyter.widget-view+json": {
       "model_id": "26a935912b5c47fba39cf81834fcd41e",
       "version_major": 2,
       "version_minor": 0
      },
      "text/plain": [
       "  0%|          | 0/6 [00:00<?, ?it/s]"
      ]
     },
     "metadata": {},
     "output_type": "display_data"
    },
    {
     "data": {
      "application/vnd.jupyter.widget-view+json": {
       "model_id": "3d586579c753439788859b97753c6787",
       "version_major": 2,
       "version_minor": 0
      },
      "text/plain": [
       "  0%|          | 0/6 [00:00<?, ?it/s]"
      ]
     },
     "metadata": {},
     "output_type": "display_data"
    },
    {
     "name": "stdout",
     "output_type": "stream",
     "text": [
      "AUC: RegVelo: 0.55 Cor: 0.53 GRNBoost2: 0.5800000000000001 CellOracle: 0.57\n",
      "94\n"
     ]
    },
    {
     "name": "stderr",
     "output_type": "stream",
     "text": [
      "GPU available: True (cuda), used: True\n",
      "TPU available: False, using: 0 TPU cores\n",
      "IPU available: False, using: 0 IPUs\n",
      "HPU available: False, using: 0 HPUs\n",
      "LOCAL_RANK: 0 - CUDA_VISIBLE_DEVICES: [0]\n"
     ]
    },
    {
     "name": "stdout",
     "output_type": "stream",
     "text": [
      "Epoch 1024/1500:  68%|██████▊   | 1024/1500 [04:24<02:02,  3.87it/s, loss=-17.4, v_num=1]\n",
      "Monitored metric elbo_validation did not improve in the last 45 records. Best score: -17.199. Signaling Trainer to stop.\n",
      "RegVelo: 0.8869089950706647\n",
      "recovering dynamics (using 1/112 cores)\n"
     ]
    },
    {
     "name": "stderr",
     "output_type": "stream",
     "text": [
      "GPU available: True (cuda), used: True\n",
      "TPU available: False, using: 0 TPU cores\n",
      "IPU available: False, using: 0 IPUs\n",
      "HPU available: False, using: 0 HPUs\n"
     ]
    },
    {
     "name": "stdout",
     "output_type": "stream",
     "text": [
      "    finished (0:00:01) --> added \n",
      "    'fit_pars', fitted parameters for splicing dynamics (adata.var)\n",
      "computing velocities\n",
      "WARNING: Too few genes are selected as velocity genes. Consider setting a lower threshold for min_r2 or min_likelihood.\n",
      "    finished (0:00:00) --> added \n",
      "    'velocity', velocity vectors for each individual cell (adata.layers)\n",
      "scVelo: 0.8957783581207075\n"
     ]
    },
    {
     "name": "stderr",
     "output_type": "stream",
     "text": [
      "LOCAL_RANK: 0 - CUDA_VISIBLE_DEVICES: [0]\n"
     ]
    },
    {
     "name": "stdout",
     "output_type": "stream",
     "text": [
      "Epoch 244/500:  49%|████▉     | 244/500 [00:24<00:25,  9.93it/s, loss=-8.09, v_num=1]\n",
      "Monitored metric elbo_validation did not improve in the last 45 records. Best score: -6.241. Signaling Trainer to stop.\n",
      "veloVI: SignificanceResult(statistic=0.5406619327386368, pvalue=1.2897067469850732e-114)\n",
      "initiating Net object ...\n",
      "gem_shape: (1500, 6)\n",
      "TF info shape: (6, 8)\n",
      "initiation completed.\n"
     ]
    },
    {
     "data": {
      "application/vnd.jupyter.widget-view+json": {
       "model_id": "705a33a842cc4a459382cbb9ef1bcb41",
       "version_major": 2,
       "version_minor": 0
      },
      "text/plain": [
       "  0%|          | 0/6 [00:00<?, ?it/s]"
      ]
     },
     "metadata": {},
     "output_type": "display_data"
    },
    {
     "data": {
      "application/vnd.jupyter.widget-view+json": {
       "model_id": "d1dd11da632f4b27ae2e9c91dcde8200",
       "version_major": 2,
       "version_minor": 0
      },
      "text/plain": [
       "  0%|          | 0/6 [00:00<?, ?it/s]"
      ]
     },
     "metadata": {},
     "output_type": "display_data"
    },
    {
     "name": "stdout",
     "output_type": "stream",
     "text": [
      "AUC: RegVelo: 0.92 Cor: 0.54 GRNBoost2: 0.675 CellOracle: 0.44000000000000006\n",
      "95\n"
     ]
    },
    {
     "name": "stderr",
     "output_type": "stream",
     "text": [
      "GPU available: True (cuda), used: True\n",
      "TPU available: False, using: 0 TPU cores\n",
      "IPU available: False, using: 0 IPUs\n",
      "HPU available: False, using: 0 HPUs\n",
      "LOCAL_RANK: 0 - CUDA_VISIBLE_DEVICES: [0]\n"
     ]
    },
    {
     "name": "stdout",
     "output_type": "stream",
     "text": [
      "Epoch 633/1500:  42%|████▏     | 633/1500 [02:28<03:23,  4.27it/s, loss=-13.4, v_num=1]   \n",
      "Monitored metric elbo_validation did not improve in the last 45 records. Best score: -12.264. Signaling Trainer to stop.\n",
      "RegVelo: 0.9532393143285842\n",
      "recovering dynamics (using 1/112 cores)\n"
     ]
    },
    {
     "name": "stderr",
     "output_type": "stream",
     "text": [
      "GPU available: True (cuda), used: True\n",
      "TPU available: False, using: 0 TPU cores\n",
      "IPU available: False, using: 0 IPUs\n",
      "HPU available: False, using: 0 HPUs\n",
      "LOCAL_RANK: 0 - CUDA_VISIBLE_DEVICES: [0]\n"
     ]
    },
    {
     "name": "stdout",
     "output_type": "stream",
     "text": [
      "    finished (0:00:00) --> added \n",
      "    'fit_pars', fitted parameters for splicing dynamics (adata.var)\n",
      "computing velocities\n",
      "WARNING: Too few genes are selected as velocity genes. Consider setting a lower threshold for min_r2 or min_likelihood.\n",
      "    finished (0:00:00) --> added \n",
      "    'velocity', velocity vectors for each individual cell (adata.layers)\n",
      "scVelo: 0.9175104283438574\n",
      "Epoch 217/500:  43%|████▎     | 217/500 [00:21<00:28,  9.88it/s, loss=-7.3, v_num=1] \n",
      "Monitored metric elbo_validation did not improve in the last 45 records. Best score: -5.560. Signaling Trainer to stop.\n",
      "veloVI: SignificanceResult(statistic=0.06523097654710068, pvalue=0.011505121903312052)\n",
      "initiating Net object ...\n",
      "gem_shape: (1500, 6)\n",
      "TF info shape: (6, 8)\n",
      "initiation completed.\n"
     ]
    },
    {
     "data": {
      "application/vnd.jupyter.widget-view+json": {
       "model_id": "869de749e5b649e2b942a5d66818c805",
       "version_major": 2,
       "version_minor": 0
      },
      "text/plain": [
       "  0%|          | 0/6 [00:00<?, ?it/s]"
      ]
     },
     "metadata": {},
     "output_type": "display_data"
    },
    {
     "data": {
      "application/vnd.jupyter.widget-view+json": {
       "model_id": "1ad0e61f221a4ff5a2a2933983f02897",
       "version_major": 2,
       "version_minor": 0
      },
      "text/plain": [
       "  0%|          | 0/6 [00:00<?, ?it/s]"
      ]
     },
     "metadata": {},
     "output_type": "display_data"
    },
    {
     "name": "stdout",
     "output_type": "stream",
     "text": [
      "AUC: RegVelo: 0.66 Cor: 0.6799999999999999 GRNBoost2: 0.485 CellOracle: 0.535\n",
      "96\n"
     ]
    },
    {
     "name": "stderr",
     "output_type": "stream",
     "text": [
      "2024-08-10 18:24:30,287 - distributed.comm.tcp - INFO - Connection from tcp://127.0.0.1:8452 closed before handshake completed\n",
      "GPU available: True (cuda), used: True\n",
      "TPU available: False, using: 0 TPU cores\n",
      "IPU available: False, using: 0 IPUs\n",
      "HPU available: False, using: 0 HPUs\n",
      "LOCAL_RANK: 0 - CUDA_VISIBLE_DEVICES: [0]\n"
     ]
    },
    {
     "name": "stdout",
     "output_type": "stream",
     "text": [
      "Epoch 956/1500:  64%|██████▎   | 956/1500 [04:04<02:18,  3.92it/s, loss=-15.5, v_num=1]   \n",
      "Monitored metric elbo_validation did not improve in the last 45 records. Best score: -15.677. Signaling Trainer to stop.\n",
      "RegVelo: 0.9104636143486851\n",
      "recovering dynamics (using 1/112 cores)\n"
     ]
    },
    {
     "name": "stderr",
     "output_type": "stream",
     "text": [
      "GPU available: True (cuda), used: True\n",
      "TPU available: False, using: 0 TPU cores\n",
      "IPU available: False, using: 0 IPUs\n",
      "HPU available: False, using: 0 HPUs\n",
      "LOCAL_RANK: 0 - CUDA_VISIBLE_DEVICES: [0]\n"
     ]
    },
    {
     "name": "stdout",
     "output_type": "stream",
     "text": [
      "    finished (0:00:00) --> added \n",
      "    'fit_pars', fitted parameters for splicing dynamics (adata.var)\n",
      "computing velocities\n",
      "WARNING: Too few genes are selected as velocity genes. Consider setting a lower threshold for min_r2 or min_likelihood.\n",
      "    finished (0:00:00) --> added \n",
      "    'velocity', velocity vectors for each individual cell (adata.layers)\n",
      "scVelo: 0.39829541471473323\n",
      "Epoch 440/500:  88%|████████▊ | 440/500 [00:45<00:06,  9.75it/s, loss=-8.59, v_num=1]\n",
      "Monitored metric elbo_validation did not improve in the last 45 records. Best score: -8.395. Signaling Trainer to stop.\n",
      "veloVI: SignificanceResult(statistic=0.836882098913717, pvalue=0.0)\n",
      "initiating Net object ...\n",
      "gem_shape: (1500, 6)\n",
      "TF info shape: (6, 8)\n",
      "initiation completed.\n"
     ]
    },
    {
     "data": {
      "application/vnd.jupyter.widget-view+json": {
       "model_id": "b036c92a82d74d09bfd2e29a54013e8a",
       "version_major": 2,
       "version_minor": 0
      },
      "text/plain": [
       "  0%|          | 0/6 [00:00<?, ?it/s]"
      ]
     },
     "metadata": {},
     "output_type": "display_data"
    },
    {
     "data": {
      "application/vnd.jupyter.widget-view+json": {
       "model_id": "c6e38c7e51af4b4f957f589aebd17976",
       "version_major": 2,
       "version_minor": 0
      },
      "text/plain": [
       "  0%|          | 0/6 [00:00<?, ?it/s]"
      ]
     },
     "metadata": {},
     "output_type": "display_data"
    },
    {
     "name": "stdout",
     "output_type": "stream",
     "text": [
      "AUC: RegVelo: 0.5700000000000001 Cor: 0.71 GRNBoost2: 0.53 CellOracle: 0.42\n",
      "97\n"
     ]
    },
    {
     "name": "stderr",
     "output_type": "stream",
     "text": [
      "GPU available: True (cuda), used: True\n",
      "TPU available: False, using: 0 TPU cores\n",
      "IPU available: False, using: 0 IPUs\n",
      "HPU available: False, using: 0 HPUs\n",
      "LOCAL_RANK: 0 - CUDA_VISIBLE_DEVICES: [0]\n"
     ]
    },
    {
     "name": "stdout",
     "output_type": "stream",
     "text": [
      "Epoch 450/1500:  30%|███       | 450/1500 [01:15<02:56,  5.96it/s, loss=-12.8, v_num=1]   \n",
      "Monitored metric elbo_validation did not improve in the last 45 records. Best score: -10.757. Signaling Trainer to stop.\n",
      "RegVelo: 0.9231219427208636\n",
      "recovering dynamics (using 1/112 cores)\n"
     ]
    },
    {
     "name": "stderr",
     "output_type": "stream",
     "text": [
      "GPU available: True (cuda), used: True\n",
      "TPU available: False, using: 0 TPU cores\n",
      "IPU available: False, using: 0 IPUs\n",
      "HPU available: False, using: 0 HPUs\n",
      "LOCAL_RANK: 0 - CUDA_VISIBLE_DEVICES: [0]\n"
     ]
    },
    {
     "name": "stdout",
     "output_type": "stream",
     "text": [
      "    finished (0:00:00) --> added \n",
      "    'fit_pars', fitted parameters for splicing dynamics (adata.var)\n",
      "computing velocities\n",
      "WARNING: Too few genes are selected as velocity genes. Consider setting a lower threshold for min_r2 or min_likelihood.\n",
      "    finished (0:00:00) --> added \n",
      "    'velocity', velocity vectors for each individual cell (adata.layers)\n",
      "scVelo: 0.828876172838214\n",
      "Epoch 284/500:  57%|█████▋    | 284/500 [00:28<00:21,  9.84it/s, loss=-9.04, v_num=1]\n",
      "Monitored metric elbo_validation did not improve in the last 45 records. Best score: -8.933. Signaling Trainer to stop.\n",
      "veloVI: SignificanceResult(statistic=0.32851485207639186, pvalue=4.435183405783989e-39)\n",
      "initiating Net object ...\n",
      "gem_shape: (1500, 6)\n",
      "TF info shape: (6, 8)\n",
      "initiation completed.\n"
     ]
    },
    {
     "data": {
      "application/vnd.jupyter.widget-view+json": {
       "model_id": "df8c5a9c97a04ee3bedb90cf460ad19d",
       "version_major": 2,
       "version_minor": 0
      },
      "text/plain": [
       "  0%|          | 0/6 [00:00<?, ?it/s]"
      ]
     },
     "metadata": {},
     "output_type": "display_data"
    },
    {
     "data": {
      "application/vnd.jupyter.widget-view+json": {
       "model_id": "0ba952137bc747debc1b8cc44cc9bada",
       "version_major": 2,
       "version_minor": 0
      },
      "text/plain": [
       "  0%|          | 0/6 [00:00<?, ?it/s]"
      ]
     },
     "metadata": {},
     "output_type": "display_data"
    },
    {
     "name": "stdout",
     "output_type": "stream",
     "text": [
      "AUC: RegVelo: 0.645 Cor: 0.6600000000000001 GRNBoost2: 0.64 CellOracle: 0.49\n",
      "98\n"
     ]
    },
    {
     "name": "stderr",
     "output_type": "stream",
     "text": [
      "GPU available: True (cuda), used: True\n",
      "TPU available: False, using: 0 TPU cores\n",
      "IPU available: False, using: 0 IPUs\n",
      "HPU available: False, using: 0 HPUs\n",
      "LOCAL_RANK: 0 - CUDA_VISIBLE_DEVICES: [0]\n"
     ]
    },
    {
     "name": "stdout",
     "output_type": "stream",
     "text": [
      "Epoch 425/1500:  28%|██▊       | 425/1500 [01:21<03:25,  5.24it/s, loss=-10.9, v_num=1]  \n",
      "Monitored metric elbo_validation did not improve in the last 45 records. Best score: -8.791. Signaling Trainer to stop.\n",
      "RegVelo: 0.8843104222573525\n",
      "recovering dynamics (using 1/112 cores)\n"
     ]
    },
    {
     "name": "stderr",
     "output_type": "stream",
     "text": [
      "GPU available: True (cuda), used: True\n",
      "TPU available: False, using: 0 TPU cores\n",
      "IPU available: False, using: 0 IPUs\n",
      "HPU available: False, using: 0 HPUs\n",
      "LOCAL_RANK: 0 - CUDA_VISIBLE_DEVICES: [0]\n"
     ]
    },
    {
     "name": "stdout",
     "output_type": "stream",
     "text": [
      "    finished (0:00:00) --> added \n",
      "    'fit_pars', fitted parameters for splicing dynamics (adata.var)\n",
      "computing velocities\n",
      "WARNING: Too few genes are selected as velocity genes. Consider setting a lower threshold for min_r2 or min_likelihood.\n",
      "    finished (0:00:00) --> added \n",
      "    'velocity', velocity vectors for each individual cell (adata.layers)\n",
      "scVelo: 0.7963673115585695\n",
      "Epoch 325/500:  65%|██████▌   | 325/500 [00:32<00:17, 10.02it/s, loss=-9.53, v_num=1]\n",
      "Monitored metric elbo_validation did not improve in the last 45 records. Best score: -8.954. Signaling Trainer to stop.\n",
      "veloVI: SignificanceResult(statistic=0.5775385500171334, pvalue=3.576733971903809e-134)\n",
      "initiating Net object ...\n",
      "gem_shape: (1500, 6)\n",
      "TF info shape: (6, 8)\n",
      "initiation completed.\n"
     ]
    },
    {
     "data": {
      "application/vnd.jupyter.widget-view+json": {
       "model_id": "fd19d6ecabad48d8b82f071abbab9f78",
       "version_major": 2,
       "version_minor": 0
      },
      "text/plain": [
       "  0%|          | 0/6 [00:00<?, ?it/s]"
      ]
     },
     "metadata": {},
     "output_type": "display_data"
    },
    {
     "data": {
      "application/vnd.jupyter.widget-view+json": {
       "model_id": "0e347e394bbf460f9edb52d2ba0d7b75",
       "version_major": 2,
       "version_minor": 0
      },
      "text/plain": [
       "  0%|          | 0/6 [00:00<?, ?it/s]"
      ]
     },
     "metadata": {},
     "output_type": "display_data"
    },
    {
     "name": "stdout",
     "output_type": "stream",
     "text": [
      "AUC: RegVelo: 0.635 Cor: 0.66 GRNBoost2: 0.52 CellOracle: 0.495\n",
      "99\n"
     ]
    },
    {
     "name": "stderr",
     "output_type": "stream",
     "text": [
      "GPU available: True (cuda), used: True\n",
      "TPU available: False, using: 0 TPU cores\n",
      "IPU available: False, using: 0 IPUs\n",
      "HPU available: False, using: 0 HPUs\n",
      "LOCAL_RANK: 0 - CUDA_VISIBLE_DEVICES: [0]\n"
     ]
    },
    {
     "name": "stdout",
     "output_type": "stream",
     "text": [
      "Epoch 776/1500:  52%|█████▏    | 776/1500 [02:40<02:30,  4.82it/s, loss=-13.5, v_num=1]  \n",
      "Monitored metric elbo_validation did not improve in the last 45 records. Best score: -12.943. Signaling Trainer to stop.\n",
      "RegVelo: 0.9447496429016186\n",
      "recovering dynamics (using 1/112 cores)\n"
     ]
    },
    {
     "name": "stderr",
     "output_type": "stream",
     "text": [
      "GPU available: True (cuda), used: True\n",
      "TPU available: False, using: 0 TPU cores\n",
      "IPU available: False, using: 0 IPUs\n",
      "HPU available: False, using: 0 HPUs\n",
      "LOCAL_RANK: 0 - CUDA_VISIBLE_DEVICES: [0]\n"
     ]
    },
    {
     "name": "stdout",
     "output_type": "stream",
     "text": [
      "    finished (0:00:00) --> added \n",
      "    'fit_pars', fitted parameters for splicing dynamics (adata.var)\n",
      "computing velocities\n",
      "WARNING: Too few genes are selected as velocity genes. Consider setting a lower threshold for min_r2 or min_likelihood.\n",
      "    finished (0:00:00) --> added \n",
      "    'velocity', velocity vectors for each individual cell (adata.layers)\n",
      "scVelo: 0.6215007862054314\n",
      "Epoch 302/500:  60%|██████    | 302/500 [00:30<00:20,  9.86it/s, loss=-5.08, v_num=1]\n",
      "Monitored metric elbo_validation did not improve in the last 45 records. Best score: -5.241. Signaling Trainer to stop.\n",
      "veloVI: SignificanceResult(statistic=0.5760324454829223, pvalue=2.5206810975198528e-133)\n",
      "initiating Net object ...\n",
      "gem_shape: (1500, 6)\n",
      "TF info shape: (6, 8)\n",
      "initiation completed.\n"
     ]
    },
    {
     "data": {
      "application/vnd.jupyter.widget-view+json": {
       "model_id": "e63c5a4b613848ceadd4105cf703a848",
       "version_major": 2,
       "version_minor": 0
      },
      "text/plain": [
       "  0%|          | 0/6 [00:00<?, ?it/s]"
      ]
     },
     "metadata": {},
     "output_type": "display_data"
    },
    {
     "data": {
      "application/vnd.jupyter.widget-view+json": {
       "model_id": "c83a86c0d912404f96d75af5ba543ba7",
       "version_major": 2,
       "version_minor": 0
      },
      "text/plain": [
       "  0%|          | 0/6 [00:00<?, ?it/s]"
      ]
     },
     "metadata": {},
     "output_type": "display_data"
    },
    {
     "name": "stdout",
     "output_type": "stream",
     "text": [
      "AUC: RegVelo: 0.71 Cor: 0.61 GRNBoost2: 0.62 CellOracle: 0.47500000000000003\n"
     ]
    }
   ],
   "source": [
    "for sim_idx in range(100):\n",
    "    print(sim_idx)\n",
    "    torch.cuda.empty_cache()\n",
    "    torch.manual_seed(sim_idx)\n",
    "\n",
    "\n",
    "    ## simulate alpha beta and gamma\n",
    "    n_vars = 6\n",
    "\n",
    "    mu = np.array([np.log(5),np.log(.5), np.log(.125)])\n",
    "    \n",
    "    R = np.array([[1., .2, .2],\n",
    "                  [.2, 1., .8],\n",
    "                  [.2, .8, 1.]])\n",
    "    \n",
    "    C = np.array([.4, .4, .4])[:, None]\n",
    "    \n",
    "    cov = C.dot(C.T) * R\n",
    "    \n",
    "    alpha, beta, gamma = np.exp(np.random.multivariate_normal(mu, cov, size=n_vars).T)  # multivariate log-normal\n",
    "    #beta /= 3\n",
    "    #gamma /= 10\n",
    "    beta_list.append(beta)\n",
    "    gamma_list.append(gamma)\n",
    "    \n",
    "    ## \n",
    "    n_regulators = n_targets = 6\n",
    "    coef_m = np.array([[0,1,-alpha.mean(),2,2],\n",
    "                       [1,0,-alpha.mean(),2,2],\n",
    "                       [0,2,alpha.mean(),2,4],\n",
    "                       [0,3,alpha.mean(),2,4],\n",
    "                       [2,3,-alpha.mean(),2,2],\n",
    "                       [3,2,-alpha.mean(),2,2],\n",
    "                       [1,4,alpha.mean(),2,4],\n",
    "                       [1,5,alpha.mean(),2,4],\n",
    "                       [4,5,-alpha.mean(),2,2],\n",
    "                       [5,4,-alpha.mean(),2,2]])\n",
    "    \n",
    "    random_seed = sim_idx\n",
    "    def draw_poisson(n):\n",
    "        from random import seed, uniform  # draw from poisson\n",
    "        seed(random_seed)\n",
    "        t = np.cumsum([-0.1 * np.log(uniform(0, 1)) for _ in range(n - 1)])\n",
    "        return np.insert(t, 0, 0)  # prepend t0=0\n",
    "        \n",
    "    t = torch.tensor(draw_poisson(1500))\n",
    "    t = t.repeat(n_targets,1)\n",
    "\n",
    "    K = np.zeros([n_targets, n_regulators])\n",
    "    n = np.zeros([n_targets, n_regulators])\n",
    "    h = np.zeros([n_targets, n_regulators])\n",
    "\n",
    "    K[np.array(coef_m[:,1],dtype = int),np.array(coef_m[:,0],dtype = int)] = coef_m[:,2]\n",
    "    n[np.array(coef_m[:,1],dtype = int),np.array(coef_m[:,0],dtype = int)] = coef_m[:,3]\n",
    "    h[np.array(coef_m[:,1],dtype = int),np.array(coef_m[:,0],dtype = int)] = coef_m[:,4]\n",
    "\n",
    "    v_encoder = velocity_encoder(K=torch.tensor(K, dtype=torch.float32),\n",
    "                                 n=torch.tensor(n, dtype=torch.float32),\n",
    "                                 h=torch.tensor(h, dtype=torch.float32),\n",
    "                                 alpha_b=torch.tensor([1, 1, 1, 1, 1, 1], dtype=torch.float32) * 0,\n",
    "                                 beta=torch.tensor(beta,dtype = torch.float32),\n",
    "                                 gamma=torch.tensor(gamma,dtype = torch.float32))\n",
    "\n",
    "    ## set up G batches, Each G represent a module (a target gene centerred regulon)\n",
    "    ## infer the observe gene expression through ODE solver based on x0, t, and velocity_encoder\n",
    "    term = to.ODETerm(v_encoder)\n",
    "    step_method = to.Dopri5(term=term)\n",
    "    #step_size_controller = to.IntegralController(atol=1e-6, rtol=1e-3, term=term)\n",
    "    step_size_controller = to.FixedStepController()\n",
    "    solver = to.AutoDiffAdjoint(step_method, step_size_controller)\n",
    "    #jit_solver = torch.jit.script(solver)\n",
    "    sol = solver.solve(to.InitialValueProblem(y0=torch.tensor([[1.0,0,1.0,0,1.0,0],torch.zeros(6).abs().tolist()]).T, t_eval=t), dt0 = 0.01*torch.ones(K.shape[0]))\n",
    "\n",
    "    pre_u = sol.ys[:,:,0]\n",
    "    pre_s = sol.ys[:,:,1]\n",
    "\n",
    "    pre_s = pd.DataFrame(pre_s.T.numpy())\n",
    "    pre_u = pd.DataFrame(pre_u.T.numpy())\n",
    "    adata = ad.AnnData(np.array(pre_s))\n",
    "    \n",
    "    \n",
    "    ## Preprocessing\n",
    "    adata.layers[\"Ms\"] = np.array(pre_s)\n",
    "    adata.layers[\"Mu\"] = np.array(pre_u)\n",
    "    adata.layers[\"spliced\"] = np.array(pre_s)\n",
    "    adata.layers[\"unspliced\"] = np.array(pre_u)\n",
    "    adata.obs_names = [f\"Cell_{i:d}\" for i in range(adata.n_obs)]\n",
    "    adata.var_names = [f\"Gene_{i:d}\" for i in range(adata.n_vars)]\n",
    "\n",
    "    adata.obs[\"time\"] = t.numpy()[0,:]\n",
    "    reg_bdata = adata.copy()\n",
    "    reg_bdata.uns[\"regulators\"] = adata.var.index.values\n",
    "    reg_bdata.uns[\"targets\"] = adata.var.index.values\n",
    "    reg_bdata.uns[\"skeleton\"] = np.ones((len(adata.var.index),len(adata.var.index)))\n",
    "    reg_bdata.uns[\"network\"] = np.ones((len(adata.var.index),len(adata.var.index)))\n",
    "\n",
    "    ## veloVI & RegVelo min-max scaling\n",
    "    reg_bdata = preprocess_data(reg_bdata,filter_on_r2 = False)\n",
    "\n",
    "    ## delete self-regulation\n",
    "    W = reg_bdata.uns[\"skeleton\"].copy()\n",
    "    W = torch.tensor(np.array(W)).int()\n",
    "        \n",
    "    REGVELOVI.setup_anndata(reg_bdata, spliced_layer=\"Ms\", unspliced_layer=\"Mu\")\n",
    "    reg_vae = REGVELOVI(reg_bdata,W=W,lam2 = 1,soft_constraint = False,simple_dynamics = True)\n",
    "    reg_vae.train()\n",
    "    \n",
    "    adata_target = add_regvelo_outputs_to_adata(reg_bdata, reg_vae)\n",
    "    pre_t = adata_target.layers[\"latent_time_regvelo\"].mean(1)\n",
    "    pre_t = t.max() * ((pre_t - np.min(pre_t)) / (np.max(pre_t) - np.min(pre_t)))\n",
    "    adata_target.obs[\"latent_time_regvelo\"] = pre_t\n",
    "    \n",
    "    ## print regvelo performance\n",
    "    corr_t_rgv.append(scipy.stats.spearmanr(pre_t,adata.obs[\"time\"])[0])\n",
    "    velo_rgv.append(adata_target.layers[\"velocity\"])\n",
    "    print(\"RegVelo: \"+str(scipy.stats.spearmanr(pre_t,adata.obs[\"time\"])[0]))\n",
    "\n",
    "    ## Run scVelo\n",
    "    sc.pp.neighbors(reg_bdata)\n",
    "    scv.tl.recover_dynamics(\n",
    "        reg_bdata, fit_scaling=False, var_names=adata.var_names, n_jobs=1\n",
    "    )\n",
    "    reg_bdata.var[\"fit_scaling\"] = 1.0\n",
    "    scv.tl.velocity(reg_bdata, mode=\"dynamical\", min_likelihood=-np.inf, min_r2=None)\n",
    "    pre_t = reg_bdata.layers[\"fit_t\"].mean(1)\n",
    "    pre_t = t.max() * ((pre_t - np.min(pre_t)) / (np.max(pre_t) - np.min(pre_t)))\n",
    "    \n",
    "    ## print regvelo performance\n",
    "    corr_t_scv.append(scipy.stats.spearmanr(pre_t,adata.obs[\"time\"])[0])\n",
    "    velo_scv.append(reg_bdata.layers[\"velocity\"])\n",
    "    print(\"scVelo: \"+str(scipy.stats.spearmanr(pre_t,adata.obs[\"time\"])[0]))\n",
    "    \n",
    "    ## import veloVI\n",
    "    VELOVI.setup_anndata(adata_target, spliced_layer=\"Ms\", unspliced_layer=\"Mu\")\n",
    "    vae = VELOVI(adata_target)\n",
    "    vae.train(max_epochs = 500,early_stopping = True)\n",
    "    add_velovi_outputs_to_adata(adata_target, vae)\n",
    "    pre_t = adata_target.layers[\"fit_t\"].mean(1)\n",
    "    pre_t = 200 * ((pre_t - np.min(pre_t)) / (np.max(pre_t) - np.min(pre_t)))\n",
    "    \n",
    "    corr_t_velovi.append(scipy.stats.spearmanr(pre_t,adata.obs[\"time\"])[0])\n",
    "    velo_scv.append(adata_target.layers[\"velocity\"])\n",
    "    print(\"veloVI: \"+str(scipy.stats.spearmanr(pre_t,adata.obs[\"time\"])))\n",
    "    \n",
    "    adata_target.obs[\"latent_time_velovi\"] = pre_t\n",
    "    ### calculate diffusion pseudotime\n",
    "    adata_target.uns['iroot'] = np.flatnonzero(adata_target.obs['time']  == 0)[0]\n",
    "    \n",
    "    sc.pp.neighbors(adata_target)\n",
    "    sc.tl.diffmap(adata_target)\n",
    "    sc.tl.dpt(adata_target)\n",
    "\n",
    "    adata_target.obs[\"emperical_time\"] = adata_target.layers[\"Mu\"].mean(1)\n",
    "    corr_t_emperical.append(scipy.stats.spearmanr(adata_target.obs[\"emperical_time\"],adata.obs[\"time\"])[0])\n",
    "    corr_t_dpt.append(scipy.stats.spearmanr(adata_target.obs[\"dpt_pseudotime\"],adata.obs[\"time\"])[0])\n",
    "\n",
    "    #### Benchmark GRN performance\n",
    "    GRN = reg_vae.module.v_encoder.GRN_Jacobian(torch.tensor(np.array(pre_s)).mean(0).to(\"cuda:0\")).cpu().detach().cpu().numpy()\n",
    "    pre = GRN[np.where(~np.eye(GRN.shape[0],dtype=bool))]\n",
    "    label = K[np.where(~np.eye(K.shape[0],dtype=bool))]\n",
    "    label[label != 0] = 1\n",
    "    fpr, tpr, thresholds = sklearn.metrics.roc_curve(label,pre, pos_label=1)\n",
    "    rgv_GRN.append(sklearn.metrics.auc(fpr, tpr))\n",
    "\n",
    "    # calculate correlation\n",
    "    C = np.abs(np.array(pd.DataFrame(adata.layers[\"spliced\"]).corr()))\n",
    "    pre2 = C[np.where(~np.eye(C.shape[0],dtype=bool))]\n",
    "    fpr, tpr, thresholds = sklearn.metrics.roc_curve(label,pre2, pos_label=1)\n",
    "    cor_GRN.append(sklearn.metrics.auc(fpr, tpr))\n",
    "    \n",
    "    # GRNBoost2\n",
    "    ex_matrix = adata.to_df(\"spliced\")\n",
    "    tf = ex_matrix.columns.tolist()\n",
    "    network = grnboost2(expression_data=ex_matrix,\n",
    "                    tf_names=tf)\n",
    "    table = np.array(network)\n",
    "\n",
    "    # Get unique TFs and targets\n",
    "    unique_tfs = np.unique(table[:, 0])\n",
    "    unique_targets = np.unique(table[:, 1])\n",
    "    \n",
    "    # Create a new NumPy array to store the rearranged data\n",
    "    GRN = np.zeros((len(unique_targets), len(unique_tfs)))\n",
    "    \n",
    "    # Fill in the new array with importance values\n",
    "    for row in table:\n",
    "        tf_index = np.where(unique_tfs == row[0])[0][0]\n",
    "        target_index = np.where(unique_targets == row[1])[0][0]\n",
    "        GRN[target_index, tf_index] = row[2]\n",
    "\n",
    "    pre = GRN[np.where(~np.eye(GRN.shape[0],dtype=bool))]\n",
    "    label = K[np.where(~np.eye(K.shape[0],dtype=bool))]\n",
    "    label[label != 0] = 1\n",
    "    fpr, tpr, thresholds = sklearn.metrics.roc_curve(label,pre, pos_label=1)\n",
    "    gb_GRN.append(sklearn.metrics.auc(fpr, tpr))\n",
    "\n",
    "    ## Run celloracle\n",
    "    base_GRN_sim = np.array(W)\n",
    "    base_GRN_sim[base_GRN_sim!=0] = 1\n",
    "    base_GRN_sim = pd.DataFrame(base_GRN_sim,columns = [\"Gene0\",\"Gene1\",\"Gene2\",\"Gene3\",\"Gene4\",\"Gene5\"])\n",
    "    base_GRN_sim.loc[:,\"peak_id\"] = [(f'Peak_{i}') for i in [\"0\",\"1\",\"2\",\"3\",\"4\",\"5\"]].copy()\n",
    "    base_GRN_sim.loc[:,\"gene_short_name\"] = [\"Gene0\",\"Gene1\",\"Gene2\",\"Gene3\",\"Gene4\",\"Gene5\"]\n",
    "    base_GRN_sim = base_GRN_sim.loc[:,[\"peak_id\",\"gene_short_name\",\"Gene0\",\"Gene1\",\"Gene2\",\"Gene3\",\"Gene4\",\"Gene5\"]]\n",
    "\n",
    "    adata.var.index = [\"Gene0\",\"Gene1\",\"Gene2\",\"Gene3\",\"Gene4\",\"Gene5\"]\n",
    "    net = co.Net(gene_expression_matrix=adata.to_df(), # Input gene expression matrix as data frame\n",
    "             TFinfo_matrix=base_GRN_sim, # Input base GRN\n",
    "             verbose=True\n",
    "             )\n",
    "\n",
    "    net.fit_All_genes(bagging_number=100,\n",
    "                 alpha=1, verbose=True)\n",
    "    net.updateLinkList(verbose=True)\n",
    "    inference_result = net.linkList.copy()\n",
    "\n",
    "    GRN_table = inference_result.iloc[:,:3].copy()\n",
    "    table = np.array(GRN_table)\n",
    "\n",
    "    # Get unique TFs and targets\n",
    "    unique_tfs = np.unique(table[:, 0])\n",
    "    unique_targets = np.unique(table[:, 1])\n",
    "    \n",
    "    # Create a new NumPy array to store the rearranged data\n",
    "    GRN = np.zeros((len(unique_targets), len(unique_tfs)))\n",
    "    \n",
    "    # Fill in the new array with importance values\n",
    "    for row in table:\n",
    "        tf_index = np.where(unique_tfs == row[0])[0][0]\n",
    "        target_index = np.where(unique_targets == row[1])[0][0]\n",
    "        GRN[target_index, tf_index] = row[2]\n",
    "    pre = np.abs(GRN)[np.where(~np.eye(GRN.shape[0],dtype=bool))]\n",
    "    label = K[np.where(~np.eye(K.shape[0],dtype=bool))]\n",
    "    label[label != 0] = 1\n",
    "    fpr, tpr, thresholds = sklearn.metrics.roc_curve(label,pre, pos_label=1)\n",
    "    co_GRN.append(sklearn.metrics.auc(fpr, tpr))\n",
    "\n",
    "    print(\"AUC: \"+\"RegVelo: \"+str(rgv_GRN[len(rgv_GRN)-1])+\" Cor: \"+str(cor_GRN[len(cor_GRN)-1])+\" GRNBoost2: \"+str(gb_GRN[len(gb_GRN)-1])+\" CellOracle: \"+str(co_GRN[len(co_GRN)-1]))"
   ]
  },
  {
   "cell_type": "code",
   "execution_count": 11,
   "id": "15882692-f221-474a-91a1-1a5d0434acd3",
   "metadata": {
    "tags": []
   },
   "outputs": [],
   "source": [
    "## boxplot to show latent time correlation on each gene\n",
    "dat = pd.DataFrame({\"Time\":  corr_t_rgv + corr_t_velovi  + corr_t_scv + corr_t_dpt,\n",
    "\"Model\": [\"RegVelo\"]*100 + [\"veloVI\"]*100 + [\"scVelo\"]*100 + [\"Diffusion pseudotime\"]*100})\n",
    "if SAVE_DATASETS:\n",
    "    dat.to_csv(DATA_DIR / 'simulation' / 'toy_GRN' / 'latent_time_benchmark_result.csv')"
   ]
  },
  {
   "cell_type": "code",
   "execution_count": 12,
   "id": "f9261771-dee7-440c-afff-48518505d69f",
   "metadata": {},
   "outputs": [],
   "source": [
    "dat = pd.DataFrame({\"GRN\":  rgv_GRN + cor_GRN + gb_GRN + co_GRN,\n",
    "\"Model\": [\"RegVelo\"]*100 + [\"Correlation\"]*100 + [\"GRNBoost2\"]*100 + [\"CellOracle\"]*100})\n",
    "if SAVE_DATASETS:\n",
    "    dat.to_csv(DATA_DIR / 'simulation' / 'toy_GRN' / 'GRN_benchmark_result.csv')"
   ]
  },
  {
   "cell_type": "markdown",
   "id": "6b0d06ca-d881-4ee2-b285-0f2b17fb3a3d",
   "metadata": {},
   "source": [
    "## Benchmark velocity inference"
   ]
  },
  {
   "cell_type": "code",
   "execution_count": 10,
   "id": "5880ba85-9d36-4319-aa3d-4ce51ff5d97d",
   "metadata": {},
   "outputs": [],
   "source": [
    "## Benchmark velocity inference\n",
    "velo_scv = []\n",
    "velo_velovi = []\n",
    "velo_rgv = []"
   ]
  },
  {
   "cell_type": "code",
   "execution_count": 11,
   "id": "d01f3c30-4a7e-49ac-a814-2419e1c5a920",
   "metadata": {
    "collapsed": true,
    "jupyter": {
     "outputs_hidden": true
    },
    "tags": []
   },
   "outputs": [
    {
     "name": "stdout",
     "output_type": "stream",
     "text": [
      "0\n"
     ]
    },
    {
     "name": "stderr",
     "output_type": "stream",
     "text": [
      "GPU available: True (cuda), used: True\n",
      "TPU available: False, using: 0 TPU cores\n",
      "IPU available: False, using: 0 IPUs\n",
      "HPU available: False, using: 0 HPUs\n",
      "LOCAL_RANK: 0 - CUDA_VISIBLE_DEVICES: [0]\n"
     ]
    },
    {
     "name": "stdout",
     "output_type": "stream",
     "text": [
      "Epoch 400/1500:  27%|██▋       | 400/1500 [01:06<03:03,  6.00it/s, loss=-8.89, v_num=1]  \n",
      "Monitored metric elbo_validation did not improve in the last 45 records. Best score: -7.549. Signaling Trainer to stop.\n",
      "RegVelo: 0.6191317085958523\n",
      "recovering dynamics (using 1/112 cores)\n"
     ]
    },
    {
     "name": "stderr",
     "output_type": "stream",
     "text": [
      "GPU available: True (cuda), used: True\n",
      "TPU available: False, using: 0 TPU cores\n",
      "IPU available: False, using: 0 IPUs\n",
      "HPU available: False, using: 0 HPUs\n",
      "LOCAL_RANK: 0 - CUDA_VISIBLE_DEVICES: [0]\n"
     ]
    },
    {
     "name": "stdout",
     "output_type": "stream",
     "text": [
      "    finished (0:00:00) --> added \n",
      "    'fit_pars', fitted parameters for splicing dynamics (adata.var)\n",
      "computing velocities\n",
      "WARNING: Too few genes are selected as velocity genes. Consider setting a lower threshold for min_r2 or min_likelihood.\n",
      "    finished (0:00:00) --> added \n",
      "    'velocity', velocity vectors for each individual cell (adata.layers)\n",
      "veloVI: 0.5955228574695096\n",
      "Epoch 318/500:  64%|██████▎   | 318/500 [00:38<00:21,  8.36it/s, loss=-7.26, v_num=1]\n",
      "Monitored metric elbo_validation did not improve in the last 45 records. Best score: -7.040. Signaling Trainer to stop.\n",
      "veloVI: 0.5739440557951783\n",
      "Velocity: RegVelo: 0.6191317085958523 veloVI: 0.5739440557951783 scVelo: 0.5955228574695096\n",
      "1\n"
     ]
    },
    {
     "name": "stderr",
     "output_type": "stream",
     "text": [
      "GPU available: True (cuda), used: True\n",
      "TPU available: False, using: 0 TPU cores\n",
      "IPU available: False, using: 0 IPUs\n",
      "HPU available: False, using: 0 HPUs\n",
      "LOCAL_RANK: 0 - CUDA_VISIBLE_DEVICES: [0]\n"
     ]
    },
    {
     "name": "stdout",
     "output_type": "stream",
     "text": [
      "Epoch 746/1500:  50%|████▉     | 746/1500 [02:58<03:00,  4.19it/s, loss=-15.7, v_num=1]   \n",
      "Monitored metric elbo_validation did not improve in the last 45 records. Best score: -15.186. Signaling Trainer to stop.\n",
      "RegVelo: 0.6869420198889437\n",
      "recovering dynamics (using 1/112 cores)\n"
     ]
    },
    {
     "name": "stderr",
     "output_type": "stream",
     "text": [
      "GPU available: True (cuda), used: True\n",
      "TPU available: False, using: 0 TPU cores\n",
      "IPU available: False, using: 0 IPUs\n",
      "HPU available: False, using: 0 HPUs\n",
      "LOCAL_RANK: 0 - CUDA_VISIBLE_DEVICES: [0]\n"
     ]
    },
    {
     "name": "stdout",
     "output_type": "stream",
     "text": [
      "    finished (0:00:00) --> added \n",
      "    'fit_pars', fitted parameters for splicing dynamics (adata.var)\n",
      "computing velocities\n",
      "WARNING: Too few genes are selected as velocity genes. Consider setting a lower threshold for min_r2 or min_likelihood.\n",
      "    finished (0:00:00) --> added \n",
      "    'velocity', velocity vectors for each individual cell (adata.layers)\n",
      "veloVI: 0.655832236144282\n",
      "Epoch 322/500:  64%|██████▍   | 322/500 [00:30<00:17, 10.40it/s, loss=-7.76, v_num=1]\n",
      "Monitored metric elbo_validation did not improve in the last 45 records. Best score: -7.372. Signaling Trainer to stop.\n",
      "veloVI: 0.6859032108858732\n",
      "Velocity: RegVelo: 0.6869420198889437 veloVI: 0.6859032108858732 scVelo: 0.655832236144282\n",
      "2\n"
     ]
    },
    {
     "name": "stderr",
     "output_type": "stream",
     "text": [
      "GPU available: True (cuda), used: True\n",
      "TPU available: False, using: 0 TPU cores\n",
      "IPU available: False, using: 0 IPUs\n",
      "HPU available: False, using: 0 HPUs\n",
      "LOCAL_RANK: 0 - CUDA_VISIBLE_DEVICES: [0]\n"
     ]
    },
    {
     "name": "stdout",
     "output_type": "stream",
     "text": [
      "Epoch 840/1500:  56%|█████▌    | 840/1500 [02:58<02:20,  4.70it/s, loss=-17.3, v_num=1]  \n",
      "Monitored metric elbo_validation did not improve in the last 45 records. Best score: -16.836. Signaling Trainer to stop.\n",
      "RegVelo: 0.6874235861824801\n",
      "recovering dynamics (using 1/112 cores)\n"
     ]
    },
    {
     "name": "stderr",
     "output_type": "stream",
     "text": [
      "GPU available: True (cuda), used: True\n",
      "TPU available: False, using: 0 TPU cores\n",
      "IPU available: False, using: 0 IPUs\n",
      "HPU available: False, using: 0 HPUs\n",
      "LOCAL_RANK: 0 - CUDA_VISIBLE_DEVICES: [0]\n"
     ]
    },
    {
     "name": "stdout",
     "output_type": "stream",
     "text": [
      "    finished (0:00:00) --> added \n",
      "    'fit_pars', fitted parameters for splicing dynamics (adata.var)\n",
      "computing velocities\n",
      "WARNING: Too few genes are selected as velocity genes. Consider setting a lower threshold for min_r2 or min_likelihood.\n",
      "    finished (0:00:00) --> added \n",
      "    'velocity', velocity vectors for each individual cell (adata.layers)\n",
      "veloVI: 0.6108986553449244\n",
      "Epoch 214/500:  43%|████▎     | 214/500 [00:21<00:28, 10.09it/s, loss=-9.58, v_num=1]\n",
      "Monitored metric elbo_validation did not improve in the last 45 records. Best score: -7.510. Signaling Trainer to stop.\n",
      "veloVI: 0.5622404441266861\n",
      "Velocity: RegVelo: 0.6874235861824801 veloVI: 0.5622404441266861 scVelo: 0.6108986553449244\n",
      "3\n"
     ]
    },
    {
     "name": "stderr",
     "output_type": "stream",
     "text": [
      "GPU available: True (cuda), used: True\n",
      "TPU available: False, using: 0 TPU cores\n",
      "IPU available: False, using: 0 IPUs\n",
      "HPU available: False, using: 0 HPUs\n",
      "LOCAL_RANK: 0 - CUDA_VISIBLE_DEVICES: [0]\n"
     ]
    },
    {
     "name": "stdout",
     "output_type": "stream",
     "text": [
      "Epoch 718/1500:  48%|████▊     | 718/1500 [02:46<03:01,  4.31it/s, loss=-13.8, v_num=1]   \n",
      "Monitored metric elbo_validation did not improve in the last 45 records. Best score: -13.881. Signaling Trainer to stop.\n",
      "RegVelo: 0.5709384013077817\n",
      "recovering dynamics (using 1/112 cores)\n"
     ]
    },
    {
     "name": "stderr",
     "output_type": "stream",
     "text": [
      "GPU available: True (cuda), used: True\n",
      "TPU available: False, using: 0 TPU cores\n",
      "IPU available: False, using: 0 IPUs\n",
      "HPU available: False, using: 0 HPUs\n",
      "LOCAL_RANK: 0 - CUDA_VISIBLE_DEVICES: [0]\n"
     ]
    },
    {
     "name": "stdout",
     "output_type": "stream",
     "text": [
      "    finished (0:00:00) --> added \n",
      "    'fit_pars', fitted parameters for splicing dynamics (adata.var)\n",
      "computing velocities\n",
      "WARNING: Too few genes are selected as velocity genes. Consider setting a lower threshold for min_r2 or min_likelihood.\n",
      "    finished (0:00:00) --> added \n",
      "    'velocity', velocity vectors for each individual cell (adata.layers)\n",
      "veloVI: 0.5211470784663198\n",
      "Epoch 347/500:  69%|██████▉   | 347/500 [00:31<00:13, 11.01it/s, loss=-7.55, v_num=1]\n",
      "Monitored metric elbo_validation did not improve in the last 45 records. Best score: -6.571. Signaling Trainer to stop.\n",
      "veloVI: 0.5537618239816581\n",
      "Velocity: RegVelo: 0.5709384013077817 veloVI: 0.5537618239816581 scVelo: 0.5211470784663198\n",
      "4\n"
     ]
    },
    {
     "name": "stderr",
     "output_type": "stream",
     "text": [
      "GPU available: True (cuda), used: True\n",
      "TPU available: False, using: 0 TPU cores\n",
      "IPU available: False, using: 0 IPUs\n",
      "HPU available: False, using: 0 HPUs\n",
      "LOCAL_RANK: 0 - CUDA_VISIBLE_DEVICES: [0]\n"
     ]
    },
    {
     "name": "stdout",
     "output_type": "stream",
     "text": [
      "Epoch 553/1500:  37%|███▋      | 553/1500 [01:34<02:41,  5.86it/s, loss=-14, v_num=1]     \n",
      "Monitored metric elbo_validation did not improve in the last 45 records. Best score: -12.935. Signaling Trainer to stop.\n",
      "RegVelo: 0.8009494376649018\n",
      "recovering dynamics (using 1/112 cores)\n"
     ]
    },
    {
     "name": "stderr",
     "output_type": "stream",
     "text": [
      "GPU available: True (cuda), used: True\n",
      "TPU available: False, using: 0 TPU cores\n",
      "IPU available: False, using: 0 IPUs\n",
      "HPU available: False, using: 0 HPUs\n",
      "LOCAL_RANK: 0 - CUDA_VISIBLE_DEVICES: [0]\n"
     ]
    },
    {
     "name": "stdout",
     "output_type": "stream",
     "text": [
      "    finished (0:00:00) --> added \n",
      "    'fit_pars', fitted parameters for splicing dynamics (adata.var)\n",
      "computing velocities\n",
      "WARNING: Too few genes are selected as velocity genes. Consider setting a lower threshold for min_r2 or min_likelihood.\n",
      "    finished (0:00:00) --> added \n",
      "    'velocity', velocity vectors for each individual cell (adata.layers)\n",
      "veloVI: 0.682268990734284\n",
      "Epoch 312/500:  62%|██████▏   | 312/500 [00:28<00:17, 10.99it/s, loss=-9.33, v_num=1]\n",
      "Monitored metric elbo_validation did not improve in the last 45 records. Best score: -8.515. Signaling Trainer to stop.\n",
      "veloVI: 0.6695234609734015\n",
      "Velocity: RegVelo: 0.8009494376649018 veloVI: 0.6695234609734015 scVelo: 0.682268990734284\n",
      "5\n"
     ]
    },
    {
     "name": "stderr",
     "output_type": "stream",
     "text": [
      "GPU available: True (cuda), used: True\n",
      "TPU available: False, using: 0 TPU cores\n",
      "IPU available: False, using: 0 IPUs\n",
      "HPU available: False, using: 0 HPUs\n",
      "LOCAL_RANK: 0 - CUDA_VISIBLE_DEVICES: [0]\n"
     ]
    },
    {
     "name": "stdout",
     "output_type": "stream",
     "text": [
      "Epoch 541/1500:  36%|███▌      | 541/1500 [01:38<02:55,  5.47it/s, loss=-11.4, v_num=1]   \n",
      "Monitored metric elbo_validation did not improve in the last 45 records. Best score: -10.947. Signaling Trainer to stop.\n",
      "RegVelo: 0.5448350844295516\n",
      "recovering dynamics (using 1/112 cores)\n"
     ]
    },
    {
     "name": "stderr",
     "output_type": "stream",
     "text": [
      "GPU available: True (cuda), used: True\n",
      "TPU available: False, using: 0 TPU cores\n",
      "IPU available: False, using: 0 IPUs\n",
      "HPU available: False, using: 0 HPUs\n",
      "LOCAL_RANK: 0 - CUDA_VISIBLE_DEVICES: [0]\n"
     ]
    },
    {
     "name": "stdout",
     "output_type": "stream",
     "text": [
      "    finished (0:00:00) --> added \n",
      "    'fit_pars', fitted parameters for splicing dynamics (adata.var)\n",
      "computing velocities\n",
      "WARNING: Too few genes are selected as velocity genes. Consider setting a lower threshold for min_r2 or min_likelihood.\n",
      "    finished (0:00:00) --> added \n",
      "    'velocity', velocity vectors for each individual cell (adata.layers)\n",
      "veloVI: 0.4930716215390849\n",
      "Epoch 250/500:  50%|█████     | 250/500 [00:23<00:23, 10.84it/s, loss=-7.14, v_num=1]\n",
      "Monitored metric elbo_validation did not improve in the last 45 records. Best score: -6.385. Signaling Trainer to stop.\n",
      "veloVI: 0.5044468739585833\n",
      "Velocity: RegVelo: 0.5448350844295516 veloVI: 0.5044468739585833 scVelo: 0.4930716215390849\n",
      "6\n"
     ]
    },
    {
     "name": "stderr",
     "output_type": "stream",
     "text": [
      "GPU available: True (cuda), used: True\n",
      "TPU available: False, using: 0 TPU cores\n",
      "IPU available: False, using: 0 IPUs\n",
      "HPU available: False, using: 0 HPUs\n",
      "LOCAL_RANK: 0 - CUDA_VISIBLE_DEVICES: [0]\n"
     ]
    },
    {
     "name": "stdout",
     "output_type": "stream",
     "text": [
      "Epoch 807/1500:  54%|█████▍    | 807/1500 [02:30<02:09,  5.35it/s, loss=-16.2, v_num=1]  \n",
      "Monitored metric elbo_validation did not improve in the last 45 records. Best score: -15.694. Signaling Trainer to stop.\n",
      "RegVelo: 0.7071293821550043\n",
      "recovering dynamics (using 1/112 cores)\n"
     ]
    },
    {
     "name": "stderr",
     "output_type": "stream",
     "text": [
      "GPU available: True (cuda), used: True\n",
      "TPU available: False, using: 0 TPU cores\n",
      "IPU available: False, using: 0 IPUs\n",
      "HPU available: False, using: 0 HPUs\n",
      "LOCAL_RANK: 0 - CUDA_VISIBLE_DEVICES: [0]\n"
     ]
    },
    {
     "name": "stdout",
     "output_type": "stream",
     "text": [
      "    finished (0:00:00) --> added \n",
      "    'fit_pars', fitted parameters for splicing dynamics (adata.var)\n",
      "computing velocities\n",
      "WARNING: Too few genes are selected as velocity genes. Consider setting a lower threshold for min_r2 or min_likelihood.\n",
      "    finished (0:00:00) --> added \n",
      "    'velocity', velocity vectors for each individual cell (adata.layers)\n",
      "veloVI: 0.6754998901808915\n",
      "Epoch 298/500:  60%|█████▉    | 298/500 [00:26<00:18, 11.06it/s, loss=-7.78, v_num=1]\n",
      "Monitored metric elbo_validation did not improve in the last 45 records. Best score: -8.287. Signaling Trainer to stop.\n",
      "veloVI: 0.6647106612106028\n",
      "Velocity: RegVelo: 0.7071293821550043 veloVI: 0.6647106612106028 scVelo: 0.6754998901808915\n",
      "7\n"
     ]
    },
    {
     "name": "stderr",
     "output_type": "stream",
     "text": [
      "GPU available: True (cuda), used: True\n",
      "TPU available: False, using: 0 TPU cores\n",
      "IPU available: False, using: 0 IPUs\n",
      "HPU available: False, using: 0 HPUs\n",
      "LOCAL_RANK: 0 - CUDA_VISIBLE_DEVICES: [0]\n"
     ]
    },
    {
     "name": "stdout",
     "output_type": "stream",
     "text": [
      "Epoch 844/1500:  56%|█████▋    | 844/1500 [03:10<02:28,  4.43it/s, loss=-14, v_num=1]    \n",
      "Monitored metric elbo_validation did not improve in the last 45 records. Best score: -13.676. Signaling Trainer to stop.\n",
      "RegVelo: 0.5995167363920662\n",
      "recovering dynamics (using 1/112 cores)\n"
     ]
    },
    {
     "name": "stderr",
     "output_type": "stream",
     "text": [
      "GPU available: True (cuda), used: True\n",
      "TPU available: False, using: 0 TPU cores\n",
      "IPU available: False, using: 0 IPUs\n",
      "HPU available: False, using: 0 HPUs\n",
      "LOCAL_RANK: 0 - CUDA_VISIBLE_DEVICES: [0]\n"
     ]
    },
    {
     "name": "stdout",
     "output_type": "stream",
     "text": [
      "    finished (0:00:00) --> added \n",
      "    'fit_pars', fitted parameters for splicing dynamics (adata.var)\n",
      "computing velocities\n",
      "WARNING: Too few genes are selected as velocity genes. Consider setting a lower threshold for min_r2 or min_likelihood.\n",
      "    finished (0:00:00) --> added \n",
      "    'velocity', velocity vectors for each individual cell (adata.layers)\n",
      "veloVI: 0.5712686426948814\n",
      "Epoch 223/500:  45%|████▍     | 223/500 [00:20<00:24, 11.10it/s, loss=-8.28, v_num=1]\n",
      "Monitored metric elbo_validation did not improve in the last 45 records. Best score: -6.060. Signaling Trainer to stop.\n",
      "veloVI: 0.5892119502456622\n",
      "Velocity: RegVelo: 0.5995167363920662 veloVI: 0.5892119502456622 scVelo: 0.5712686426948814\n",
      "8\n"
     ]
    },
    {
     "name": "stderr",
     "output_type": "stream",
     "text": [
      "GPU available: True (cuda), used: True\n",
      "TPU available: False, using: 0 TPU cores\n",
      "IPU available: False, using: 0 IPUs\n",
      "HPU available: False, using: 0 HPUs\n",
      "LOCAL_RANK: 0 - CUDA_VISIBLE_DEVICES: [0]\n"
     ]
    },
    {
     "name": "stdout",
     "output_type": "stream",
     "text": [
      "Epoch 955/1500:  64%|██████▎   | 955/1500 [03:16<01:52,  4.85it/s, loss=-16.9, v_num=1]  \n",
      "Monitored metric elbo_validation did not improve in the last 45 records. Best score: -16.787. Signaling Trainer to stop.\n",
      "RegVelo: 0.6991539538264081\n",
      "recovering dynamics (using 1/112 cores)\n"
     ]
    },
    {
     "name": "stderr",
     "output_type": "stream",
     "text": [
      "GPU available: True (cuda), used: True\n",
      "TPU available: False, using: 0 TPU cores\n",
      "IPU available: False, using: 0 IPUs\n",
      "HPU available: False, using: 0 HPUs\n",
      "LOCAL_RANK: 0 - CUDA_VISIBLE_DEVICES: [0]\n"
     ]
    },
    {
     "name": "stdout",
     "output_type": "stream",
     "text": [
      "    finished (0:00:00) --> added \n",
      "    'fit_pars', fitted parameters for splicing dynamics (adata.var)\n",
      "computing velocities\n",
      "WARNING: Too few genes are selected as velocity genes. Consider setting a lower threshold for min_r2 or min_likelihood.\n",
      "    finished (0:00:00) --> added \n",
      "    'velocity', velocity vectors for each individual cell (adata.layers)\n",
      "veloVI: 0.646509967813096\n",
      "Epoch 352/500:  70%|███████   | 352/500 [00:31<00:13, 11.24it/s, loss=-9.42, v_num=1]\n",
      "Monitored metric elbo_validation did not improve in the last 45 records. Best score: -8.368. Signaling Trainer to stop.\n",
      "veloVI: 0.6359160054279923\n",
      "Velocity: RegVelo: 0.6991539538264081 veloVI: 0.6359160054279923 scVelo: 0.646509967813096\n",
      "9\n"
     ]
    },
    {
     "name": "stderr",
     "output_type": "stream",
     "text": [
      "GPU available: True (cuda), used: True\n",
      "TPU available: False, using: 0 TPU cores\n",
      "IPU available: False, using: 0 IPUs\n",
      "HPU available: False, using: 0 HPUs\n",
      "LOCAL_RANK: 0 - CUDA_VISIBLE_DEVICES: [0]\n"
     ]
    },
    {
     "name": "stdout",
     "output_type": "stream",
     "text": [
      "Epoch 1061/1500:  71%|███████   | 1061/1500 [04:04<01:41,  4.33it/s, loss=-15.9, v_num=1]\n",
      "Monitored metric elbo_validation did not improve in the last 45 records. Best score: -15.980. Signaling Trainer to stop.\n",
      "RegVelo: 0.6346405279710242\n",
      "recovering dynamics (using 1/112 cores)\n"
     ]
    },
    {
     "name": "stderr",
     "output_type": "stream",
     "text": [
      "GPU available: True (cuda), used: True\n",
      "TPU available: False, using: 0 TPU cores\n",
      "IPU available: False, using: 0 IPUs\n",
      "HPU available: False, using: 0 HPUs\n",
      "LOCAL_RANK: 0 - CUDA_VISIBLE_DEVICES: [0]\n"
     ]
    },
    {
     "name": "stdout",
     "output_type": "stream",
     "text": [
      "    finished (0:00:00) --> added \n",
      "    'fit_pars', fitted parameters for splicing dynamics (adata.var)\n",
      "computing velocities\n",
      "WARNING: Too few genes are selected as velocity genes. Consider setting a lower threshold for min_r2 or min_likelihood.\n",
      "    finished (0:00:00) --> added \n",
      "    'velocity', velocity vectors for each individual cell (adata.layers)\n",
      "veloVI: 0.5910649914481094\n",
      "Epoch 313/500:  63%|██████▎   | 313/500 [00:28<00:17, 10.97it/s, loss=-5.49, v_num=1]\n",
      "Monitored metric elbo_validation did not improve in the last 45 records. Best score: -5.064. Signaling Trainer to stop.\n",
      "veloVI: 0.5745636101700923\n",
      "Velocity: RegVelo: 0.6346405279710242 veloVI: 0.5745636101700923 scVelo: 0.5910649914481094\n",
      "10\n"
     ]
    },
    {
     "name": "stderr",
     "output_type": "stream",
     "text": [
      "GPU available: True (cuda), used: True\n",
      "TPU available: False, using: 0 TPU cores\n",
      "IPU available: False, using: 0 IPUs\n",
      "HPU available: False, using: 0 HPUs\n",
      "LOCAL_RANK: 0 - CUDA_VISIBLE_DEVICES: [0]\n"
     ]
    },
    {
     "name": "stdout",
     "output_type": "stream",
     "text": [
      "Epoch 918/1500:  61%|██████    | 918/1500 [03:07<01:58,  4.90it/s, loss=-16.8, v_num=1]  \n",
      "Monitored metric elbo_validation did not improve in the last 45 records. Best score: -16.264. Signaling Trainer to stop.\n",
      "RegVelo: 0.8096083136689319\n",
      "recovering dynamics (using 1/112 cores)\n"
     ]
    },
    {
     "name": "stderr",
     "output_type": "stream",
     "text": [
      "GPU available: True (cuda), used: True\n",
      "TPU available: False, using: 0 TPU cores\n",
      "IPU available: False, using: 0 IPUs\n",
      "HPU available: False, using: 0 HPUs\n",
      "LOCAL_RANK: 0 - CUDA_VISIBLE_DEVICES: [0]\n"
     ]
    },
    {
     "name": "stdout",
     "output_type": "stream",
     "text": [
      "    finished (0:00:00) --> added \n",
      "    'fit_pars', fitted parameters for splicing dynamics (adata.var)\n",
      "computing velocities\n",
      "WARNING: Too few genes are selected as velocity genes. Consider setting a lower threshold for min_r2 or min_likelihood.\n",
      "    finished (0:00:00) --> added \n",
      "    'velocity', velocity vectors for each individual cell (adata.layers)\n",
      "veloVI: 0.6636099432798437\n",
      "Epoch 389/500:  78%|███████▊  | 389/500 [00:34<00:09, 11.14it/s, loss=-8.53, v_num=1]\n",
      "Monitored metric elbo_validation did not improve in the last 45 records. Best score: -9.393. Signaling Trainer to stop.\n",
      "veloVI: 0.6346868356242944\n",
      "Velocity: RegVelo: 0.8096083136689319 veloVI: 0.6346868356242944 scVelo: 0.6636099432798437\n",
      "11\n"
     ]
    },
    {
     "name": "stderr",
     "output_type": "stream",
     "text": [
      "GPU available: True (cuda), used: True\n",
      "TPU available: False, using: 0 TPU cores\n",
      "IPU available: False, using: 0 IPUs\n",
      "HPU available: False, using: 0 HPUs\n",
      "LOCAL_RANK: 0 - CUDA_VISIBLE_DEVICES: [0]\n"
     ]
    },
    {
     "name": "stdout",
     "output_type": "stream",
     "text": [
      "Epoch 635/1500:  42%|████▏     | 635/1500 [02:15<03:04,  4.69it/s, loss=-14.9, v_num=1]  \n",
      "Monitored metric elbo_validation did not improve in the last 45 records. Best score: -14.218. Signaling Trainer to stop.\n",
      "RegVelo: 0.7015938695732326\n",
      "recovering dynamics (using 1/112 cores)\n"
     ]
    },
    {
     "name": "stderr",
     "output_type": "stream",
     "text": [
      "GPU available: True (cuda), used: True\n",
      "TPU available: False, using: 0 TPU cores\n",
      "IPU available: False, using: 0 IPUs\n",
      "HPU available: False, using: 0 HPUs\n",
      "LOCAL_RANK: 0 - CUDA_VISIBLE_DEVICES: [0]\n"
     ]
    },
    {
     "name": "stdout",
     "output_type": "stream",
     "text": [
      "    finished (0:00:00) --> added \n",
      "    'fit_pars', fitted parameters for splicing dynamics (adata.var)\n",
      "computing velocities\n",
      "WARNING: Too few genes are selected as velocity genes. Consider setting a lower threshold for min_r2 or min_likelihood.\n",
      "    finished (0:00:00) --> added \n",
      "    'velocity', velocity vectors for each individual cell (adata.layers)\n",
      "veloVI: 0.6586162803357506\n",
      "Epoch 222/500:  44%|████▍     | 222/500 [00:19<00:24, 11.23it/s, loss=-10.3, v_num=1]\n",
      "Monitored metric elbo_validation did not improve in the last 45 records. Best score: -8.663. Signaling Trainer to stop.\n",
      "veloVI: 0.6250022809394635\n",
      "Velocity: RegVelo: 0.7015938695732326 veloVI: 0.6250022809394635 scVelo: 0.6586162803357506\n",
      "12\n"
     ]
    },
    {
     "name": "stderr",
     "output_type": "stream",
     "text": [
      "GPU available: True (cuda), used: True\n",
      "TPU available: False, using: 0 TPU cores\n",
      "IPU available: False, using: 0 IPUs\n",
      "HPU available: False, using: 0 HPUs\n",
      "LOCAL_RANK: 0 - CUDA_VISIBLE_DEVICES: [0]\n"
     ]
    },
    {
     "name": "stdout",
     "output_type": "stream",
     "text": [
      "Epoch 1205/1500:  80%|████████  | 1205/1500 [04:53<01:11,  4.11it/s, loss=-17.5, v_num=1] \n",
      "Monitored metric elbo_validation did not improve in the last 45 records. Best score: -17.583. Signaling Trainer to stop.\n",
      "RegVelo: 0.6512984495846078\n",
      "recovering dynamics (using 1/112 cores)\n",
      "    finished (0:00:00) --> added \n",
      "    'fit_pars', fitted parameters for splicing dynamics (adata.var)\n",
      "computing velocities\n",
      "WARNING: Too few genes are selected as velocity genes. Consider setting a lower threshold for min_r2 or min_likelihood.\n",
      "    finished (0:00:00) --> added \n",
      "    'velocity', velocity vectors for each individual cell (adata.layers)\n",
      "veloVI: 0.6425143496387197\n"
     ]
    },
    {
     "name": "stderr",
     "output_type": "stream",
     "text": [
      "GPU available: True (cuda), used: True\n",
      "TPU available: False, using: 0 TPU cores\n",
      "IPU available: False, using: 0 IPUs\n",
      "HPU available: False, using: 0 HPUs\n",
      "LOCAL_RANK: 0 - CUDA_VISIBLE_DEVICES: [0]\n"
     ]
    },
    {
     "name": "stdout",
     "output_type": "stream",
     "text": [
      "Epoch 394/500:  79%|███████▉  | 394/500 [00:35<00:09, 11.21it/s, loss=-6.35, v_num=1]\n",
      "Monitored metric elbo_validation did not improve in the last 45 records. Best score: -8.958. Signaling Trainer to stop.\n",
      "veloVI: 0.6297890680810071\n",
      "Velocity: RegVelo: 0.6512984495846078 veloVI: 0.6297890680810071 scVelo: 0.6425143496387197\n",
      "13\n"
     ]
    },
    {
     "name": "stderr",
     "output_type": "stream",
     "text": [
      "GPU available: True (cuda), used: True\n",
      "TPU available: False, using: 0 TPU cores\n",
      "IPU available: False, using: 0 IPUs\n",
      "HPU available: False, using: 0 HPUs\n",
      "LOCAL_RANK: 0 - CUDA_VISIBLE_DEVICES: [0]\n"
     ]
    },
    {
     "name": "stdout",
     "output_type": "stream",
     "text": [
      "Epoch 619/1500:  41%|████▏     | 619/1500 [02:15<03:12,  4.58it/s, loss=-16.7, v_num=1]  \n",
      "Monitored metric elbo_validation did not improve in the last 45 records. Best score: -14.197. Signaling Trainer to stop.\n",
      "RegVelo: 0.7501814314867752\n",
      "recovering dynamics (using 1/112 cores)\n"
     ]
    },
    {
     "name": "stderr",
     "output_type": "stream",
     "text": [
      "GPU available: True (cuda), used: True\n",
      "TPU available: False, using: 0 TPU cores\n",
      "IPU available: False, using: 0 IPUs\n",
      "HPU available: False, using: 0 HPUs\n",
      "LOCAL_RANK: 0 - CUDA_VISIBLE_DEVICES: [0]\n"
     ]
    },
    {
     "name": "stdout",
     "output_type": "stream",
     "text": [
      "    finished (0:00:00) --> added \n",
      "    'fit_pars', fitted parameters for splicing dynamics (adata.var)\n",
      "computing velocities\n",
      "WARNING: Too few genes are selected as velocity genes. Consider setting a lower threshold for min_r2 or min_likelihood.\n",
      "    finished (0:00:00) --> added \n",
      "    'velocity', velocity vectors for each individual cell (adata.layers)\n",
      "veloVI: 0.7043875941622089\n",
      "Epoch 295/500:  59%|█████▉    | 295/500 [00:26<00:18, 11.06it/s, loss=-12.9, v_num=1]\n",
      "Monitored metric elbo_validation did not improve in the last 45 records. Best score: -12.133. Signaling Trainer to stop.\n",
      "veloVI: 0.6592279139614327\n",
      "Velocity: RegVelo: 0.7501814314867752 veloVI: 0.6592279139614327 scVelo: 0.7043875941622089\n",
      "14\n"
     ]
    },
    {
     "name": "stderr",
     "output_type": "stream",
     "text": [
      "GPU available: True (cuda), used: True\n",
      "TPU available: False, using: 0 TPU cores\n",
      "IPU available: False, using: 0 IPUs\n",
      "HPU available: False, using: 0 HPUs\n",
      "LOCAL_RANK: 0 - CUDA_VISIBLE_DEVICES: [0]\n"
     ]
    },
    {
     "name": "stdout",
     "output_type": "stream",
     "text": [
      "Epoch 825/1500:  55%|█████▌    | 825/1500 [02:50<02:19,  4.83it/s, loss=-16.4, v_num=1]   \n",
      "Monitored metric elbo_validation did not improve in the last 45 records. Best score: -16.006. Signaling Trainer to stop.\n",
      "RegVelo: 0.6747294627428193\n",
      "recovering dynamics (using 1/112 cores)\n"
     ]
    },
    {
     "name": "stderr",
     "output_type": "stream",
     "text": [
      "GPU available: True (cuda), used: True\n",
      "TPU available: False, using: 0 TPU cores\n",
      "IPU available: False, using: 0 IPUs\n",
      "HPU available: False, using: 0 HPUs\n"
     ]
    },
    {
     "name": "stdout",
     "output_type": "stream",
     "text": [
      "    finished (0:00:00) --> added \n",
      "    'fit_pars', fitted parameters for splicing dynamics (adata.var)\n",
      "computing velocities\n",
      "WARNING: Too few genes are selected as velocity genes. Consider setting a lower threshold for min_r2 or min_likelihood.\n",
      "    finished (0:00:00) --> added \n",
      "    'velocity', velocity vectors for each individual cell (adata.layers)\n",
      "veloVI: 0.6403183971076173\n"
     ]
    },
    {
     "name": "stderr",
     "output_type": "stream",
     "text": [
      "LOCAL_RANK: 0 - CUDA_VISIBLE_DEVICES: [0]\n"
     ]
    },
    {
     "name": "stdout",
     "output_type": "stream",
     "text": [
      "Epoch 331/500:  66%|██████▌   | 331/500 [00:29<00:15, 11.07it/s, loss=-8.43, v_num=1]\n",
      "Monitored metric elbo_validation did not improve in the last 45 records. Best score: -7.396. Signaling Trainer to stop.\n",
      "veloVI: 0.6240253277257594\n",
      "Velocity: RegVelo: 0.6747294627428193 veloVI: 0.6240253277257594 scVelo: 0.6403183971076173\n",
      "15\n"
     ]
    },
    {
     "name": "stderr",
     "output_type": "stream",
     "text": [
      "GPU available: True (cuda), used: True\n",
      "TPU available: False, using: 0 TPU cores\n",
      "IPU available: False, using: 0 IPUs\n",
      "HPU available: False, using: 0 HPUs\n",
      "LOCAL_RANK: 0 - CUDA_VISIBLE_DEVICES: [0]\n"
     ]
    },
    {
     "name": "stdout",
     "output_type": "stream",
     "text": [
      "Epoch 577/1500:  38%|███▊      | 577/1500 [02:01<03:14,  4.75it/s, loss=-12.6, v_num=1]  \n",
      "Monitored metric elbo_validation did not improve in the last 45 records. Best score: -11.506. Signaling Trainer to stop.\n",
      "RegVelo: 0.7205354494346631\n",
      "recovering dynamics (using 1/112 cores)\n"
     ]
    },
    {
     "name": "stderr",
     "output_type": "stream",
     "text": [
      "GPU available: True (cuda), used: True\n",
      "TPU available: False, using: 0 TPU cores\n",
      "IPU available: False, using: 0 IPUs\n",
      "HPU available: False, using: 0 HPUs\n",
      "LOCAL_RANK: 0 - CUDA_VISIBLE_DEVICES: [0]\n"
     ]
    },
    {
     "name": "stdout",
     "output_type": "stream",
     "text": [
      "    finished (0:00:00) --> added \n",
      "    'fit_pars', fitted parameters for splicing dynamics (adata.var)\n",
      "computing velocities\n",
      "WARNING: Too few genes are selected as velocity genes. Consider setting a lower threshold for min_r2 or min_likelihood.\n",
      "    finished (0:00:00) --> added \n",
      "    'velocity', velocity vectors for each individual cell (adata.layers)\n",
      "veloVI: 0.6628717537919381\n",
      "Epoch 186/500:  37%|███▋      | 186/500 [00:16<00:28, 11.14it/s, loss=-6.48, v_num=1]\n",
      "Monitored metric elbo_validation did not improve in the last 45 records. Best score: -5.134. Signaling Trainer to stop.\n",
      "veloVI: 0.6265295309374468\n",
      "Velocity: RegVelo: 0.7205354494346631 veloVI: 0.6265295309374468 scVelo: 0.6628717537919381\n",
      "16\n"
     ]
    },
    {
     "name": "stderr",
     "output_type": "stream",
     "text": [
      "GPU available: True (cuda), used: True\n",
      "TPU available: False, using: 0 TPU cores\n",
      "IPU available: False, using: 0 IPUs\n",
      "HPU available: False, using: 0 HPUs\n",
      "LOCAL_RANK: 0 - CUDA_VISIBLE_DEVICES: [0]\n"
     ]
    },
    {
     "name": "stdout",
     "output_type": "stream",
     "text": [
      "Epoch 917/1500:  61%|██████    | 917/1500 [03:41<02:20,  4.15it/s, loss=-16.9, v_num=1]  \n",
      "Monitored metric elbo_validation did not improve in the last 45 records. Best score: -16.223. Signaling Trainer to stop.\n",
      "RegVelo: 0.6247311881450465\n",
      "recovering dynamics (using 1/112 cores)\n"
     ]
    },
    {
     "name": "stderr",
     "output_type": "stream",
     "text": [
      "GPU available: True (cuda), used: True\n",
      "TPU available: False, using: 0 TPU cores\n",
      "IPU available: False, using: 0 IPUs\n",
      "HPU available: False, using: 0 HPUs\n",
      "LOCAL_RANK: 0 - CUDA_VISIBLE_DEVICES: [0]\n"
     ]
    },
    {
     "name": "stdout",
     "output_type": "stream",
     "text": [
      "    finished (0:00:00) --> added \n",
      "    'fit_pars', fitted parameters for splicing dynamics (adata.var)\n",
      "computing velocities\n",
      "WARNING: Too few genes are selected as velocity genes. Consider setting a lower threshold for min_r2 or min_likelihood.\n",
      "    finished (0:00:00) --> added \n",
      "    'velocity', velocity vectors for each individual cell (adata.layers)\n",
      "veloVI: 0.5914196047732839\n",
      "Epoch 155/500:  31%|███       | 155/500 [00:14<00:31, 11.06it/s, loss=-10.5, v_num=1]\n",
      "Monitored metric elbo_validation did not improve in the last 45 records. Best score: -6.838. Signaling Trainer to stop.\n",
      "veloVI: 0.5580313789656431\n",
      "Velocity: RegVelo: 0.6247311881450465 veloVI: 0.5580313789656431 scVelo: 0.5914196047732839\n",
      "17\n"
     ]
    },
    {
     "name": "stderr",
     "output_type": "stream",
     "text": [
      "GPU available: True (cuda), used: True\n",
      "TPU available: False, using: 0 TPU cores\n",
      "IPU available: False, using: 0 IPUs\n",
      "HPU available: False, using: 0 HPUs\n",
      "LOCAL_RANK: 0 - CUDA_VISIBLE_DEVICES: [0]\n"
     ]
    },
    {
     "name": "stdout",
     "output_type": "stream",
     "text": [
      "Epoch 544/1500:  36%|███▋      | 544/1500 [01:47<03:08,  5.06it/s, loss=-14, v_num=1]    \n",
      "Monitored metric elbo_validation did not improve in the last 45 records. Best score: -12.188. Signaling Trainer to stop.\n",
      "RegVelo: 0.7157320743303869\n",
      "recovering dynamics (using 1/112 cores)\n"
     ]
    },
    {
     "name": "stderr",
     "output_type": "stream",
     "text": [
      "GPU available: True (cuda), used: True\n",
      "TPU available: False, using: 0 TPU cores\n",
      "IPU available: False, using: 0 IPUs\n",
      "HPU available: False, using: 0 HPUs\n",
      "LOCAL_RANK: 0 - CUDA_VISIBLE_DEVICES: [0]\n"
     ]
    },
    {
     "name": "stdout",
     "output_type": "stream",
     "text": [
      "    finished (0:00:00) --> added \n",
      "    'fit_pars', fitted parameters for splicing dynamics (adata.var)\n",
      "computing velocities\n",
      "WARNING: Too few genes are selected as velocity genes. Consider setting a lower threshold for min_r2 or min_likelihood.\n",
      "    finished (0:00:00) --> added \n",
      "    'velocity', velocity vectors for each individual cell (adata.layers)\n",
      "veloVI: 0.6316345589371192\n",
      "Epoch 315/500:  63%|██████▎   | 315/500 [00:28<00:16, 10.99it/s, loss=-10.1, v_num=1]\n",
      "Monitored metric elbo_validation did not improve in the last 45 records. Best score: -9.433. Signaling Trainer to stop.\n",
      "veloVI: 0.6285562507091839\n",
      "Velocity: RegVelo: 0.7157320743303869 veloVI: 0.6285562507091839 scVelo: 0.6316345589371192\n",
      "18\n"
     ]
    },
    {
     "name": "stderr",
     "output_type": "stream",
     "text": [
      "GPU available: True (cuda), used: True\n",
      "TPU available: False, using: 0 TPU cores\n",
      "IPU available: False, using: 0 IPUs\n",
      "HPU available: False, using: 0 HPUs\n",
      "LOCAL_RANK: 0 - CUDA_VISIBLE_DEVICES: [0]\n"
     ]
    },
    {
     "name": "stdout",
     "output_type": "stream",
     "text": [
      "Epoch 781/1500:  52%|█████▏    | 781/1500 [02:52<02:38,  4.54it/s, loss=-16.3, v_num=1]  \n",
      "Monitored metric elbo_validation did not improve in the last 45 records. Best score: -15.524. Signaling Trainer to stop.\n",
      "RegVelo: 0.6936711151459317\n",
      "recovering dynamics (using 1/112 cores)\n"
     ]
    },
    {
     "name": "stderr",
     "output_type": "stream",
     "text": [
      "GPU available: True (cuda), used: True\n",
      "TPU available: False, using: 0 TPU cores\n",
      "IPU available: False, using: 0 IPUs\n",
      "HPU available: False, using: 0 HPUs\n",
      "LOCAL_RANK: 0 - CUDA_VISIBLE_DEVICES: [0]\n"
     ]
    },
    {
     "name": "stdout",
     "output_type": "stream",
     "text": [
      "    finished (0:00:00) --> added \n",
      "    'fit_pars', fitted parameters for splicing dynamics (adata.var)\n",
      "computing velocities\n",
      "WARNING: Too few genes are selected as velocity genes. Consider setting a lower threshold for min_r2 or min_likelihood.\n",
      "    finished (0:00:00) --> added \n",
      "    'velocity', velocity vectors for each individual cell (adata.layers)\n",
      "veloVI: 0.5950765177214953\n",
      "Epoch 299/500:  60%|█████▉    | 299/500 [00:26<00:17, 11.23it/s, loss=-8.61, v_num=1]\n",
      "Monitored metric elbo_validation did not improve in the last 45 records. Best score: -8.626. Signaling Trainer to stop.\n",
      "veloVI: 0.5850835589938982\n",
      "Velocity: RegVelo: 0.6936711151459317 veloVI: 0.5850835589938982 scVelo: 0.5950765177214953\n",
      "19\n"
     ]
    },
    {
     "name": "stderr",
     "output_type": "stream",
     "text": [
      "GPU available: True (cuda), used: True\n",
      "TPU available: False, using: 0 TPU cores\n",
      "IPU available: False, using: 0 IPUs\n",
      "HPU available: False, using: 0 HPUs\n",
      "LOCAL_RANK: 0 - CUDA_VISIBLE_DEVICES: [0]\n"
     ]
    },
    {
     "name": "stdout",
     "output_type": "stream",
     "text": [
      "Epoch 545/1500:  36%|███▋      | 545/1500 [01:50<03:12,  4.95it/s, loss=-11.9, v_num=1]  \n",
      "Monitored metric elbo_validation did not improve in the last 45 records. Best score: -10.918. Signaling Trainer to stop.\n",
      "RegVelo: 0.6424895997290482\n",
      "recovering dynamics (using 1/112 cores)\n"
     ]
    },
    {
     "name": "stderr",
     "output_type": "stream",
     "text": [
      "GPU available: True (cuda), used: True\n",
      "TPU available: False, using: 0 TPU cores\n",
      "IPU available: False, using: 0 IPUs\n",
      "HPU available: False, using: 0 HPUs\n",
      "LOCAL_RANK: 0 - CUDA_VISIBLE_DEVICES: [0]\n"
     ]
    },
    {
     "name": "stdout",
     "output_type": "stream",
     "text": [
      "    finished (0:00:00) --> added \n",
      "    'fit_pars', fitted parameters for splicing dynamics (adata.var)\n",
      "computing velocities\n",
      "WARNING: Too few genes are selected as velocity genes. Consider setting a lower threshold for min_r2 or min_likelihood.\n",
      "    finished (0:00:00) --> added \n",
      "    'velocity', velocity vectors for each individual cell (adata.layers)\n",
      "veloVI: 0.5863740463231338\n",
      "Epoch 273/500:  55%|█████▍    | 273/500 [00:24<00:20, 11.21it/s, loss=-5.86, v_num=1]\n",
      "Monitored metric elbo_validation did not improve in the last 45 records. Best score: -4.960. Signaling Trainer to stop.\n",
      "veloVI: 0.5720240567087609\n",
      "Velocity: RegVelo: 0.6424895997290482 veloVI: 0.5720240567087609 scVelo: 0.5863740463231338\n",
      "20\n"
     ]
    },
    {
     "name": "stderr",
     "output_type": "stream",
     "text": [
      "GPU available: True (cuda), used: True\n",
      "TPU available: False, using: 0 TPU cores\n",
      "IPU available: False, using: 0 IPUs\n",
      "HPU available: False, using: 0 HPUs\n",
      "LOCAL_RANK: 0 - CUDA_VISIBLE_DEVICES: [0]\n"
     ]
    },
    {
     "name": "stdout",
     "output_type": "stream",
     "text": [
      "Epoch 963/1500:  64%|██████▍   | 963/1500 [03:37<02:01,  4.42it/s, loss=-15, v_num=1]     \n",
      "Monitored metric elbo_validation did not improve in the last 45 records. Best score: -14.599. Signaling Trainer to stop.\n",
      "RegVelo: 0.5916749721073623\n",
      "recovering dynamics (using 1/112 cores)\n"
     ]
    },
    {
     "name": "stderr",
     "output_type": "stream",
     "text": [
      "GPU available: True (cuda), used: True\n",
      "TPU available: False, using: 0 TPU cores\n",
      "IPU available: False, using: 0 IPUs\n",
      "HPU available: False, using: 0 HPUs\n",
      "LOCAL_RANK: 0 - CUDA_VISIBLE_DEVICES: [0]\n"
     ]
    },
    {
     "name": "stdout",
     "output_type": "stream",
     "text": [
      "    finished (0:00:00) --> added \n",
      "    'fit_pars', fitted parameters for splicing dynamics (adata.var)\n",
      "computing velocities\n",
      "WARNING: Too few genes are selected as velocity genes. Consider setting a lower threshold for min_r2 or min_likelihood.\n",
      "    finished (0:00:00) --> added \n",
      "    'velocity', velocity vectors for each individual cell (adata.layers)\n",
      "veloVI: 0.5242635311441167\n",
      "Epoch 307/500:  61%|██████▏   | 307/500 [00:26<00:16, 11.38it/s, loss=-8.88, v_num=1]\n",
      "Monitored metric elbo_validation did not improve in the last 45 records. Best score: -7.518. Signaling Trainer to stop.\n",
      "veloVI: 0.5560217595543208\n",
      "Velocity: RegVelo: 0.5916749721073623 veloVI: 0.5560217595543208 scVelo: 0.5242635311441167\n",
      "21\n"
     ]
    },
    {
     "name": "stderr",
     "output_type": "stream",
     "text": [
      "GPU available: True (cuda), used: True\n",
      "TPU available: False, using: 0 TPU cores\n",
      "IPU available: False, using: 0 IPUs\n",
      "HPU available: False, using: 0 HPUs\n",
      "LOCAL_RANK: 0 - CUDA_VISIBLE_DEVICES: [0]\n"
     ]
    },
    {
     "name": "stdout",
     "output_type": "stream",
     "text": [
      "Epoch 528/1500:  35%|███▌      | 528/1500 [01:20<02:27,  6.60it/s, loss=-14.3, v_num=1]  \n",
      "Monitored metric elbo_validation did not improve in the last 45 records. Best score: -12.227. Signaling Trainer to stop.\n",
      "RegVelo: 0.6876740521717154\n",
      "recovering dynamics (using 1/112 cores)\n"
     ]
    },
    {
     "name": "stderr",
     "output_type": "stream",
     "text": [
      "GPU available: True (cuda), used: True\n",
      "TPU available: False, using: 0 TPU cores\n",
      "IPU available: False, using: 0 IPUs\n",
      "HPU available: False, using: 0 HPUs\n",
      "LOCAL_RANK: 0 - CUDA_VISIBLE_DEVICES: [0]\n"
     ]
    },
    {
     "name": "stdout",
     "output_type": "stream",
     "text": [
      "    finished (0:00:00) --> added \n",
      "    'fit_pars', fitted parameters for splicing dynamics (adata.var)\n",
      "computing velocities\n",
      "WARNING: Too few genes are selected as velocity genes. Consider setting a lower threshold for min_r2 or min_likelihood.\n",
      "    finished (0:00:00) --> added \n",
      "    'velocity', velocity vectors for each individual cell (adata.layers)\n",
      "veloVI: 0.6328962331911873\n",
      "Epoch 225/500:  45%|████▌     | 225/500 [00:19<00:23, 11.55it/s, loss=-9.37, v_num=1]\n",
      "Monitored metric elbo_validation did not improve in the last 45 records. Best score: -8.068. Signaling Trainer to stop.\n",
      "veloVI: 0.6016357598860315\n",
      "Velocity: RegVelo: 0.6876740521717154 veloVI: 0.6016357598860315 scVelo: 0.6328962331911873\n",
      "22\n"
     ]
    },
    {
     "name": "stderr",
     "output_type": "stream",
     "text": [
      "GPU available: True (cuda), used: True\n",
      "TPU available: False, using: 0 TPU cores\n",
      "IPU available: False, using: 0 IPUs\n",
      "HPU available: False, using: 0 HPUs\n",
      "LOCAL_RANK: 0 - CUDA_VISIBLE_DEVICES: [0]\n"
     ]
    },
    {
     "name": "stdout",
     "output_type": "stream",
     "text": [
      "Epoch 1062/1500:  71%|███████   | 1062/1500 [03:51<01:35,  4.60it/s, loss=-14.1, v_num=1] \n",
      "Monitored metric elbo_validation did not improve in the last 45 records. Best score: -14.395. Signaling Trainer to stop.\n",
      "RegVelo: 0.6532711259648616\n",
      "recovering dynamics (using 1/112 cores)\n"
     ]
    },
    {
     "name": "stderr",
     "output_type": "stream",
     "text": [
      "GPU available: True (cuda), used: True\n",
      "TPU available: False, using: 0 TPU cores\n",
      "IPU available: False, using: 0 IPUs\n",
      "HPU available: False, using: 0 HPUs\n",
      "LOCAL_RANK: 0 - CUDA_VISIBLE_DEVICES: [0]\n"
     ]
    },
    {
     "name": "stdout",
     "output_type": "stream",
     "text": [
      "    finished (0:00:00) --> added \n",
      "    'fit_pars', fitted parameters for splicing dynamics (adata.var)\n",
      "computing velocities\n",
      "WARNING: Too few genes are selected as velocity genes. Consider setting a lower threshold for min_r2 or min_likelihood.\n",
      "    finished (0:00:00) --> added \n",
      "    'velocity', velocity vectors for each individual cell (adata.layers)\n",
      "veloVI: 0.6170659025421381\n",
      "Epoch 395/500:  79%|███████▉  | 395/500 [00:34<00:09, 11.42it/s, loss=-5.22, v_num=1]\n",
      "Monitored metric elbo_validation did not improve in the last 45 records. Best score: -5.847. Signaling Trainer to stop.\n",
      "veloVI: 0.6020027519228769\n",
      "Velocity: RegVelo: 0.6532711259648616 veloVI: 0.6020027519228769 scVelo: 0.6170659025421381\n",
      "23\n"
     ]
    },
    {
     "name": "stderr",
     "output_type": "stream",
     "text": [
      "GPU available: True (cuda), used: True\n",
      "TPU available: False, using: 0 TPU cores\n",
      "IPU available: False, using: 0 IPUs\n",
      "HPU available: False, using: 0 HPUs\n",
      "LOCAL_RANK: 0 - CUDA_VISIBLE_DEVICES: [0]\n"
     ]
    },
    {
     "name": "stdout",
     "output_type": "stream",
     "text": [
      "Epoch 784/1500:  52%|█████▏    | 784/1500 [02:29<02:16,  5.25it/s, loss=-15, v_num=1]    \n",
      "Monitored metric elbo_validation did not improve in the last 45 records. Best score: -14.988. Signaling Trainer to stop.\n",
      "RegVelo: 0.6806028177312914\n",
      "recovering dynamics (using 1/112 cores)\n"
     ]
    },
    {
     "name": "stderr",
     "output_type": "stream",
     "text": [
      "GPU available: True (cuda), used: True\n",
      "TPU available: False, using: 0 TPU cores\n",
      "IPU available: False, using: 0 IPUs\n",
      "HPU available: False, using: 0 HPUs\n",
      "LOCAL_RANK: 0 - CUDA_VISIBLE_DEVICES: [0]\n"
     ]
    },
    {
     "name": "stdout",
     "output_type": "stream",
     "text": [
      "    finished (0:00:00) --> added \n",
      "    'fit_pars', fitted parameters for splicing dynamics (adata.var)\n",
      "computing velocities\n",
      "WARNING: Too few genes are selected as velocity genes. Consider setting a lower threshold for min_r2 or min_likelihood.\n",
      "    finished (0:00:00) --> added \n",
      "    'velocity', velocity vectors for each individual cell (adata.layers)\n",
      "veloVI: 0.6354698184751982\n",
      "Epoch 180/500:  36%|███▌      | 180/500 [00:15<00:27, 11.62it/s, loss=-8.42, v_num=1]\n",
      "Monitored metric elbo_validation did not improve in the last 45 records. Best score: -5.950. Signaling Trainer to stop.\n",
      "veloVI: 0.6046176150613787\n",
      "Velocity: RegVelo: 0.6806028177312914 veloVI: 0.6046176150613787 scVelo: 0.6354698184751982\n",
      "24\n"
     ]
    },
    {
     "name": "stderr",
     "output_type": "stream",
     "text": [
      "GPU available: True (cuda), used: True\n",
      "TPU available: False, using: 0 TPU cores\n",
      "IPU available: False, using: 0 IPUs\n",
      "HPU available: False, using: 0 HPUs\n",
      "LOCAL_RANK: 0 - CUDA_VISIBLE_DEVICES: [0]\n"
     ]
    },
    {
     "name": "stdout",
     "output_type": "stream",
     "text": [
      "Epoch 456/1500:  30%|███       | 456/1500 [01:09<02:38,  6.60it/s, loss=-11.2, v_num=1]  \n",
      "Monitored metric elbo_validation did not improve in the last 45 records. Best score: -9.406. Signaling Trainer to stop.\n",
      "RegVelo: 0.6905610700669563\n",
      "recovering dynamics (using 1/112 cores)\n"
     ]
    },
    {
     "name": "stderr",
     "output_type": "stream",
     "text": [
      "GPU available: True (cuda), used: True\n",
      "TPU available: False, using: 0 TPU cores\n",
      "IPU available: False, using: 0 IPUs\n",
      "HPU available: False, using: 0 HPUs\n",
      "LOCAL_RANK: 0 - CUDA_VISIBLE_DEVICES: [0]\n"
     ]
    },
    {
     "name": "stdout",
     "output_type": "stream",
     "text": [
      "    finished (0:00:00) --> added \n",
      "    'fit_pars', fitted parameters for splicing dynamics (adata.var)\n",
      "computing velocities\n",
      "WARNING: Too few genes are selected as velocity genes. Consider setting a lower threshold for min_r2 or min_likelihood.\n",
      "    finished (0:00:00) --> added \n",
      "    'velocity', velocity vectors for each individual cell (adata.layers)\n",
      "veloVI: 0.6592842642979632\n",
      "Epoch 333/500:  67%|██████▋   | 333/500 [00:29<00:14, 11.47it/s, loss=-6.79, v_num=1] \n",
      "Monitored metric elbo_validation did not improve in the last 45 records. Best score: -8.134. Signaling Trainer to stop.\n",
      "veloVI: 0.648328089971636\n",
      "Velocity: RegVelo: 0.6905610700669563 veloVI: 0.648328089971636 scVelo: 0.6592842642979632\n",
      "25\n"
     ]
    },
    {
     "name": "stderr",
     "output_type": "stream",
     "text": [
      "GPU available: True (cuda), used: True\n",
      "TPU available: False, using: 0 TPU cores\n",
      "IPU available: False, using: 0 IPUs\n",
      "HPU available: False, using: 0 HPUs\n",
      "LOCAL_RANK: 0 - CUDA_VISIBLE_DEVICES: [0]\n"
     ]
    },
    {
     "name": "stdout",
     "output_type": "stream",
     "text": [
      "Epoch 583/1500:  39%|███▉      | 583/1500 [01:35<02:30,  6.09it/s, loss=-12.3, v_num=1]  \n",
      "Monitored metric elbo_validation did not improve in the last 45 records. Best score: -11.003. Signaling Trainer to stop.\n",
      "RegVelo: 0.6373197568613492\n",
      "recovering dynamics (using 1/112 cores)\n"
     ]
    },
    {
     "name": "stderr",
     "output_type": "stream",
     "text": [
      "GPU available: True (cuda), used: True\n",
      "TPU available: False, using: 0 TPU cores\n",
      "IPU available: False, using: 0 IPUs\n",
      "HPU available: False, using: 0 HPUs\n",
      "LOCAL_RANK: 0 - CUDA_VISIBLE_DEVICES: [0]\n"
     ]
    },
    {
     "name": "stdout",
     "output_type": "stream",
     "text": [
      "    finished (0:00:00) --> added \n",
      "    'fit_pars', fitted parameters for splicing dynamics (adata.var)\n",
      "computing velocities\n",
      "WARNING: Too few genes are selected as velocity genes. Consider setting a lower threshold for min_r2 or min_likelihood.\n",
      "    finished (0:00:00) --> added \n",
      "    'velocity', velocity vectors for each individual cell (adata.layers)\n",
      "veloVI: 0.6116374579217765\n",
      "Epoch 390/500:  78%|███████▊  | 390/500 [00:33<00:09, 11.68it/s, loss=-8.08, v_num=1]\n",
      "Monitored metric elbo_validation did not improve in the last 45 records. Best score: -9.036. Signaling Trainer to stop.\n",
      "veloVI: 0.5488051675358626\n",
      "Velocity: RegVelo: 0.6373197568613492 veloVI: 0.5488051675358626 scVelo: 0.6116374579217765\n",
      "26\n"
     ]
    },
    {
     "name": "stderr",
     "output_type": "stream",
     "text": [
      "GPU available: True (cuda), used: True\n",
      "TPU available: False, using: 0 TPU cores\n",
      "IPU available: False, using: 0 IPUs\n",
      "HPU available: False, using: 0 HPUs\n",
      "LOCAL_RANK: 0 - CUDA_VISIBLE_DEVICES: [0]\n"
     ]
    },
    {
     "name": "stdout",
     "output_type": "stream",
     "text": [
      "Epoch 673/1500:  45%|████▍     | 673/1500 [01:59<02:26,  5.65it/s, loss=-13.8, v_num=1]  \n",
      "Monitored metric elbo_validation did not improve in the last 45 records. Best score: -12.458. Signaling Trainer to stop.\n",
      "RegVelo: 0.579228935190358\n",
      "recovering dynamics (using 1/112 cores)\n"
     ]
    },
    {
     "name": "stderr",
     "output_type": "stream",
     "text": [
      "GPU available: True (cuda), used: True\n",
      "TPU available: False, using: 0 TPU cores\n",
      "IPU available: False, using: 0 IPUs\n",
      "HPU available: False, using: 0 HPUs\n",
      "LOCAL_RANK: 0 - CUDA_VISIBLE_DEVICES: [0]\n"
     ]
    },
    {
     "name": "stdout",
     "output_type": "stream",
     "text": [
      "    finished (0:00:00) --> added \n",
      "    'fit_pars', fitted parameters for splicing dynamics (adata.var)\n",
      "computing velocities\n",
      "WARNING: Too few genes are selected as velocity genes. Consider setting a lower threshold for min_r2 or min_likelihood.\n",
      "    finished (0:00:00) --> added \n",
      "    'velocity', velocity vectors for each individual cell (adata.layers)\n",
      "veloVI: 0.5089029638398381\n",
      "Epoch 176/500:  35%|███▌      | 176/500 [00:15<00:28, 11.43it/s, loss=-8.42, v_num=1]\n",
      "Monitored metric elbo_validation did not improve in the last 45 records. Best score: -5.879. Signaling Trainer to stop.\n",
      "veloVI: 0.5004253040907732\n",
      "Velocity: RegVelo: 0.579228935190358 veloVI: 0.5004253040907732 scVelo: 0.5089029638398381\n",
      "27\n"
     ]
    },
    {
     "name": "stderr",
     "output_type": "stream",
     "text": [
      "GPU available: True (cuda), used: True\n",
      "TPU available: False, using: 0 TPU cores\n",
      "IPU available: False, using: 0 IPUs\n",
      "HPU available: False, using: 0 HPUs\n",
      "LOCAL_RANK: 0 - CUDA_VISIBLE_DEVICES: [0]\n"
     ]
    },
    {
     "name": "stdout",
     "output_type": "stream",
     "text": [
      "Epoch 984/1500:  66%|██████▌   | 984/1500 [03:26<01:48,  4.75it/s, loss=-16.7, v_num=1]    \n",
      "Monitored metric elbo_validation did not improve in the last 45 records. Best score: -16.357. Signaling Trainer to stop.\n",
      "RegVelo: 0.674831332154903\n",
      "recovering dynamics (using 1/112 cores)\n"
     ]
    },
    {
     "name": "stderr",
     "output_type": "stream",
     "text": [
      "GPU available: True (cuda), used: True\n",
      "TPU available: False, using: 0 TPU cores\n",
      "IPU available: False, using: 0 IPUs\n",
      "HPU available: False, using: 0 HPUs\n",
      "LOCAL_RANK: 0 - CUDA_VISIBLE_DEVICES: [0]\n"
     ]
    },
    {
     "name": "stdout",
     "output_type": "stream",
     "text": [
      "    finished (0:00:00) --> added \n",
      "    'fit_pars', fitted parameters for splicing dynamics (adata.var)\n",
      "computing velocities\n",
      "WARNING: Too few genes are selected as velocity genes. Consider setting a lower threshold for min_r2 or min_likelihood.\n",
      "    finished (0:00:00) --> added \n",
      "    'velocity', velocity vectors for each individual cell (adata.layers)\n",
      "veloVI: 0.5996200172861871\n",
      "Epoch 250/500:  50%|█████     | 250/500 [00:21<00:21, 11.48it/s, loss=-8.42, v_num=1]\n",
      "Monitored metric elbo_validation did not improve in the last 45 records. Best score: -6.413. Signaling Trainer to stop.\n",
      "veloVI: 0.590361732185415\n",
      "Velocity: RegVelo: 0.674831332154903 veloVI: 0.590361732185415 scVelo: 0.5996200172861871\n",
      "28\n"
     ]
    },
    {
     "name": "stderr",
     "output_type": "stream",
     "text": [
      "GPU available: True (cuda), used: True\n",
      "TPU available: False, using: 0 TPU cores\n",
      "IPU available: False, using: 0 IPUs\n",
      "HPU available: False, using: 0 HPUs\n",
      "LOCAL_RANK: 0 - CUDA_VISIBLE_DEVICES: [0]\n"
     ]
    },
    {
     "name": "stdout",
     "output_type": "stream",
     "text": [
      "Epoch 616/1500:  41%|████      | 616/1500 [01:44<02:30,  5.88it/s, loss=-16.6, v_num=1]   \n",
      "Monitored metric elbo_validation did not improve in the last 45 records. Best score: -14.463. Signaling Trainer to stop.\n",
      "RegVelo: 0.8117683758136166\n",
      "recovering dynamics (using 1/112 cores)\n"
     ]
    },
    {
     "name": "stderr",
     "output_type": "stream",
     "text": [
      "GPU available: True (cuda), used: True\n",
      "TPU available: False, using: 0 TPU cores\n",
      "IPU available: False, using: 0 IPUs\n",
      "HPU available: False, using: 0 HPUs\n",
      "LOCAL_RANK: 0 - CUDA_VISIBLE_DEVICES: [0]\n"
     ]
    },
    {
     "name": "stdout",
     "output_type": "stream",
     "text": [
      "    finished (0:00:00) --> added \n",
      "    'fit_pars', fitted parameters for splicing dynamics (adata.var)\n",
      "computing velocities\n",
      "WARNING: Too few genes are selected as velocity genes. Consider setting a lower threshold for min_r2 or min_likelihood.\n",
      "    finished (0:00:00) --> added \n",
      "    'velocity', velocity vectors for each individual cell (adata.layers)\n",
      "veloVI: 0.8094080076677529\n",
      "Epoch 330/500:  66%|██████▌   | 330/500 [00:29<00:15, 11.30it/s, loss=-9.13, v_num=1]\n",
      "Monitored metric elbo_validation did not improve in the last 45 records. Best score: -9.775. Signaling Trainer to stop.\n",
      "veloVI: 0.7441269572514416\n",
      "Velocity: RegVelo: 0.8117683758136166 veloVI: 0.7441269572514416 scVelo: 0.8094080076677529\n",
      "29\n"
     ]
    },
    {
     "name": "stderr",
     "output_type": "stream",
     "text": [
      "GPU available: True (cuda), used: True\n",
      "TPU available: False, using: 0 TPU cores\n",
      "IPU available: False, using: 0 IPUs\n",
      "HPU available: False, using: 0 HPUs\n",
      "LOCAL_RANK: 0 - CUDA_VISIBLE_DEVICES: [0]\n"
     ]
    },
    {
     "name": "stdout",
     "output_type": "stream",
     "text": [
      "Epoch 436/1500:  29%|██▉       | 436/1500 [00:48<01:59,  8.93it/s, loss=-11.8, v_num=1]  \n",
      "Monitored metric elbo_validation did not improve in the last 45 records. Best score: -9.264. Signaling Trainer to stop.\n",
      "RegVelo: 0.6966045841492657\n",
      "recovering dynamics (using 1/112 cores)\n"
     ]
    },
    {
     "name": "stderr",
     "output_type": "stream",
     "text": [
      "GPU available: True (cuda), used: True\n",
      "TPU available: False, using: 0 TPU cores\n",
      "IPU available: False, using: 0 IPUs\n",
      "HPU available: False, using: 0 HPUs\n",
      "LOCAL_RANK: 0 - CUDA_VISIBLE_DEVICES: [0]\n"
     ]
    },
    {
     "name": "stdout",
     "output_type": "stream",
     "text": [
      "    finished (0:00:00) --> added \n",
      "    'fit_pars', fitted parameters for splicing dynamics (adata.var)\n",
      "computing velocities\n",
      "WARNING: Too few genes are selected as velocity genes. Consider setting a lower threshold for min_r2 or min_likelihood.\n",
      "    finished (0:00:00) --> added \n",
      "    'velocity', velocity vectors for each individual cell (adata.layers)\n",
      "veloVI: 0.6637363692440951\n",
      "Epoch 285/500:  57%|█████▋    | 285/500 [00:24<00:18, 11.49it/s, loss=-9.02, v_num=1]\n",
      "Monitored metric elbo_validation did not improve in the last 45 records. Best score: -8.773. Signaling Trainer to stop.\n",
      "veloVI: 0.6212289333535161\n",
      "Velocity: RegVelo: 0.6966045841492657 veloVI: 0.6212289333535161 scVelo: 0.6637363692440951\n",
      "30\n"
     ]
    },
    {
     "name": "stderr",
     "output_type": "stream",
     "text": [
      "GPU available: True (cuda), used: True\n",
      "TPU available: False, using: 0 TPU cores\n",
      "IPU available: False, using: 0 IPUs\n",
      "HPU available: False, using: 0 HPUs\n",
      "LOCAL_RANK: 0 - CUDA_VISIBLE_DEVICES: [0]\n"
     ]
    },
    {
     "name": "stdout",
     "output_type": "stream",
     "text": [
      "Epoch 554/1500:  37%|███▋      | 554/1500 [01:30<02:34,  6.12it/s, loss=-11.3, v_num=1]   \n",
      "Monitored metric elbo_validation did not improve in the last 45 records. Best score: -10.444. Signaling Trainer to stop.\n",
      "RegVelo: 0.6786755638914067\n",
      "recovering dynamics (using 1/112 cores)\n"
     ]
    },
    {
     "name": "stderr",
     "output_type": "stream",
     "text": [
      "GPU available: True (cuda), used: True\n",
      "TPU available: False, using: 0 TPU cores\n",
      "IPU available: False, using: 0 IPUs\n",
      "HPU available: False, using: 0 HPUs\n",
      "LOCAL_RANK: 0 - CUDA_VISIBLE_DEVICES: [0]\n"
     ]
    },
    {
     "name": "stdout",
     "output_type": "stream",
     "text": [
      "    finished (0:00:00) --> added \n",
      "    'fit_pars', fitted parameters for splicing dynamics (adata.var)\n",
      "computing velocities\n",
      "WARNING: Too few genes are selected as velocity genes. Consider setting a lower threshold for min_r2 or min_likelihood.\n",
      "    finished (0:00:00) --> added \n",
      "    'velocity', velocity vectors for each individual cell (adata.layers)\n",
      "veloVI: 0.5935887196666559\n",
      "Epoch 356/500:  71%|███████   | 356/500 [00:30<00:12, 11.63it/s, loss=-4.98, v_num=1]\n",
      "Monitored metric elbo_validation did not improve in the last 45 records. Best score: -5.156. Signaling Trainer to stop.\n",
      "veloVI: 0.5956000304262626\n",
      "Velocity: RegVelo: 0.6786755638914067 veloVI: 0.5956000304262626 scVelo: 0.5935887196666559\n",
      "31\n"
     ]
    },
    {
     "name": "stderr",
     "output_type": "stream",
     "text": [
      "GPU available: True (cuda), used: True\n",
      "TPU available: False, using: 0 TPU cores\n",
      "IPU available: False, using: 0 IPUs\n",
      "HPU available: False, using: 0 HPUs\n",
      "LOCAL_RANK: 0 - CUDA_VISIBLE_DEVICES: [0]\n"
     ]
    },
    {
     "name": "stdout",
     "output_type": "stream",
     "text": [
      "Epoch 506/1500:  34%|███▎      | 506/1500 [01:33<03:04,  5.39it/s, loss=-14.7, v_num=1]  \n",
      "Monitored metric elbo_validation did not improve in the last 45 records. Best score: -12.576. Signaling Trainer to stop.\n",
      "RegVelo: 0.7980759182422911\n",
      "recovering dynamics (using 1/112 cores)\n"
     ]
    },
    {
     "name": "stderr",
     "output_type": "stream",
     "text": [
      "GPU available: True (cuda), used: True\n",
      "TPU available: False, using: 0 TPU cores\n",
      "IPU available: False, using: 0 IPUs\n",
      "HPU available: False, using: 0 HPUs\n",
      "LOCAL_RANK: 0 - CUDA_VISIBLE_DEVICES: [0]\n"
     ]
    },
    {
     "name": "stdout",
     "output_type": "stream",
     "text": [
      "    finished (0:00:00) --> added \n",
      "    'fit_pars', fitted parameters for splicing dynamics (adata.var)\n",
      "computing velocities\n",
      "WARNING: Too few genes are selected as velocity genes. Consider setting a lower threshold for min_r2 or min_likelihood.\n",
      "    finished (0:00:00) --> added \n",
      "    'velocity', velocity vectors for each individual cell (adata.layers)\n",
      "veloVI: 0.7580711393174507\n",
      "Epoch 279/500:  56%|█████▌    | 279/500 [00:23<00:18, 11.66it/s, loss=-10.1, v_num=1]\n",
      "Monitored metric elbo_validation did not improve in the last 45 records. Best score: -10.628. Signaling Trainer to stop.\n",
      "veloVI: 0.7196247209694692\n",
      "Velocity: RegVelo: 0.7980759182422911 veloVI: 0.7196247209694692 scVelo: 0.7580711393174507\n",
      "32\n"
     ]
    },
    {
     "name": "stderr",
     "output_type": "stream",
     "text": [
      "GPU available: True (cuda), used: True\n",
      "TPU available: False, using: 0 TPU cores\n",
      "IPU available: False, using: 0 IPUs\n",
      "HPU available: False, using: 0 HPUs\n",
      "LOCAL_RANK: 0 - CUDA_VISIBLE_DEVICES: [0]\n"
     ]
    },
    {
     "name": "stdout",
     "output_type": "stream",
     "text": [
      "Epoch 1024/1500:  68%|██████▊   | 1024/1500 [03:38<01:41,  4.69it/s, loss=-17.6, v_num=1]\n",
      "Monitored metric elbo_validation did not improve in the last 45 records. Best score: -17.300. Signaling Trainer to stop.\n",
      "RegVelo: 0.6650120313709111\n",
      "recovering dynamics (using 1/112 cores)\n"
     ]
    },
    {
     "name": "stderr",
     "output_type": "stream",
     "text": [
      "GPU available: True (cuda), used: True\n",
      "TPU available: False, using: 0 TPU cores\n",
      "IPU available: False, using: 0 IPUs\n",
      "HPU available: False, using: 0 HPUs\n",
      "LOCAL_RANK: 0 - CUDA_VISIBLE_DEVICES: [0]\n"
     ]
    },
    {
     "name": "stdout",
     "output_type": "stream",
     "text": [
      "    finished (0:00:00) --> added \n",
      "    'fit_pars', fitted parameters for splicing dynamics (adata.var)\n",
      "computing velocities\n",
      "WARNING: Too few genes are selected as velocity genes. Consider setting a lower threshold for min_r2 or min_likelihood.\n",
      "    finished (0:00:00) --> added \n",
      "    'velocity', velocity vectors for each individual cell (adata.layers)\n",
      "veloVI: 0.584001710654782\n",
      "Epoch 314/500:  63%|██████▎   | 314/500 [00:27<00:16, 11.38it/s, loss=-7.51, v_num=1]\n",
      "Monitored metric elbo_validation did not improve in the last 45 records. Best score: -7.368. Signaling Trainer to stop.\n",
      "veloVI: 0.5756445404892149\n",
      "Velocity: RegVelo: 0.6650120313709111 veloVI: 0.5756445404892149 scVelo: 0.584001710654782\n",
      "33\n"
     ]
    },
    {
     "name": "stderr",
     "output_type": "stream",
     "text": [
      "GPU available: True (cuda), used: True\n",
      "TPU available: False, using: 0 TPU cores\n",
      "IPU available: False, using: 0 IPUs\n",
      "HPU available: False, using: 0 HPUs\n",
      "LOCAL_RANK: 0 - CUDA_VISIBLE_DEVICES: [0]\n"
     ]
    },
    {
     "name": "stdout",
     "output_type": "stream",
     "text": [
      "Epoch 916/1500:  61%|██████    | 916/1500 [03:26<02:11,  4.43it/s, loss=-17.1, v_num=1]  \n",
      "Monitored metric elbo_validation did not improve in the last 45 records. Best score: -16.974. Signaling Trainer to stop.\n",
      "RegVelo: 0.7742178283107233\n",
      "recovering dynamics (using 1/112 cores)\n"
     ]
    },
    {
     "name": "stderr",
     "output_type": "stream",
     "text": [
      "GPU available: True (cuda), used: True\n",
      "TPU available: False, using: 0 TPU cores\n",
      "IPU available: False, using: 0 IPUs\n",
      "HPU available: False, using: 0 HPUs\n",
      "LOCAL_RANK: 0 - CUDA_VISIBLE_DEVICES: [0]\n"
     ]
    },
    {
     "name": "stdout",
     "output_type": "stream",
     "text": [
      "    finished (0:00:00) --> added \n",
      "    'fit_pars', fitted parameters for splicing dynamics (adata.var)\n",
      "computing velocities\n",
      "WARNING: Too few genes are selected as velocity genes. Consider setting a lower threshold for min_r2 or min_likelihood.\n",
      "    finished (0:00:00) --> added \n",
      "    'velocity', velocity vectors for each individual cell (adata.layers)\n",
      "veloVI: 0.6666713113144006\n",
      "Epoch 199/500:  40%|███▉      | 199/500 [00:17<00:26, 11.56it/s, loss=-8.51, v_num=1]\n",
      "Monitored metric elbo_validation did not improve in the last 45 records. Best score: -6.760. Signaling Trainer to stop.\n",
      "veloVI: 0.5971119971774369\n",
      "Velocity: RegVelo: 0.7742178283107233 veloVI: 0.5971119971774369 scVelo: 0.6666713113144006\n",
      "34\n"
     ]
    },
    {
     "name": "stderr",
     "output_type": "stream",
     "text": [
      "GPU available: True (cuda), used: True\n",
      "TPU available: False, using: 0 TPU cores\n",
      "IPU available: False, using: 0 IPUs\n",
      "HPU available: False, using: 0 HPUs\n",
      "LOCAL_RANK: 0 - CUDA_VISIBLE_DEVICES: [0]\n"
     ]
    },
    {
     "name": "stdout",
     "output_type": "stream",
     "text": [
      "Epoch 926/1500:  62%|██████▏   | 926/1500 [03:01<01:52,  5.09it/s, loss=-16.3, v_num=1]  \n",
      "Monitored metric elbo_validation did not improve in the last 45 records. Best score: -15.922. Signaling Trainer to stop.\n",
      "RegVelo: 0.7172319060943259\n",
      "recovering dynamics (using 1/112 cores)\n"
     ]
    },
    {
     "name": "stderr",
     "output_type": "stream",
     "text": [
      "GPU available: True (cuda), used: True\n",
      "TPU available: False, using: 0 TPU cores\n",
      "IPU available: False, using: 0 IPUs\n",
      "HPU available: False, using: 0 HPUs\n",
      "LOCAL_RANK: 0 - CUDA_VISIBLE_DEVICES: [0]\n"
     ]
    },
    {
     "name": "stdout",
     "output_type": "stream",
     "text": [
      "    finished (0:00:00) --> added \n",
      "    'fit_pars', fitted parameters for splicing dynamics (adata.var)\n",
      "computing velocities\n",
      "WARNING: Too few genes are selected as velocity genes. Consider setting a lower threshold for min_r2 or min_likelihood.\n",
      "    finished (0:00:00) --> added \n",
      "    'velocity', velocity vectors for each individual cell (adata.layers)\n",
      "veloVI: 0.6639287253225316\n",
      "Epoch 275/500:  55%|█████▌    | 275/500 [00:23<00:19, 11.57it/s, loss=-7.63, v_num=1]\n",
      "Monitored metric elbo_validation did not improve in the last 45 records. Best score: -6.501. Signaling Trainer to stop.\n",
      "veloVI: 0.6549286399311993\n",
      "Velocity: RegVelo: 0.7172319060943259 veloVI: 0.6549286399311993 scVelo: 0.6639287253225316\n",
      "35\n"
     ]
    },
    {
     "name": "stderr",
     "output_type": "stream",
     "text": [
      "GPU available: True (cuda), used: True\n",
      "TPU available: False, using: 0 TPU cores\n",
      "IPU available: False, using: 0 IPUs\n",
      "HPU available: False, using: 0 HPUs\n",
      "LOCAL_RANK: 0 - CUDA_VISIBLE_DEVICES: [0]\n"
     ]
    },
    {
     "name": "stdout",
     "output_type": "stream",
     "text": [
      "Epoch 519/1500:  35%|███▍      | 519/1500 [01:27<02:45,  5.93it/s, loss=-12.6, v_num=1]   \n",
      "Monitored metric elbo_validation did not improve in the last 45 records. Best score: -10.332. Signaling Trainer to stop.\n",
      "RegVelo: 0.6896073256017693\n",
      "recovering dynamics (using 1/112 cores)\n"
     ]
    },
    {
     "name": "stderr",
     "output_type": "stream",
     "text": [
      "GPU available: True (cuda), used: True\n",
      "TPU available: False, using: 0 TPU cores\n",
      "IPU available: False, using: 0 IPUs\n",
      "HPU available: False, using: 0 HPUs\n",
      "LOCAL_RANK: 0 - CUDA_VISIBLE_DEVICES: [0]\n"
     ]
    },
    {
     "name": "stdout",
     "output_type": "stream",
     "text": [
      "    finished (0:00:00) --> added \n",
      "    'fit_pars', fitted parameters for splicing dynamics (adata.var)\n",
      "computing velocities\n",
      "WARNING: Too few genes are selected as velocity genes. Consider setting a lower threshold for min_r2 or min_likelihood.\n",
      "    finished (0:00:00) --> added \n",
      "    'velocity', velocity vectors for each individual cell (adata.layers)\n",
      "veloVI: 0.6327547429206738\n",
      "Epoch 283/500:  57%|█████▋    | 283/500 [00:24<00:18, 11.45it/s, loss=-8.22, v_num=1]\n",
      "Monitored metric elbo_validation did not improve in the last 45 records. Best score: -7.758. Signaling Trainer to stop.\n",
      "veloVI: 0.6128925762348775\n",
      "Velocity: RegVelo: 0.6896073256017693 veloVI: 0.6128925762348775 scVelo: 0.6327547429206738\n",
      "36\n"
     ]
    },
    {
     "name": "stderr",
     "output_type": "stream",
     "text": [
      "GPU available: True (cuda), used: True\n",
      "TPU available: False, using: 0 TPU cores\n",
      "IPU available: False, using: 0 IPUs\n",
      "HPU available: False, using: 0 HPUs\n",
      "LOCAL_RANK: 0 - CUDA_VISIBLE_DEVICES: [0]\n"
     ]
    },
    {
     "name": "stdout",
     "output_type": "stream",
     "text": [
      "Epoch 658/1500:  44%|████▍     | 658/1500 [02:02<02:36,  5.39it/s, loss=-18.4, v_num=1]  \n",
      "Monitored metric elbo_validation did not improve in the last 45 records. Best score: -16.978. Signaling Trainer to stop.\n",
      "RegVelo: 0.8357569381963857\n",
      "recovering dynamics (using 1/112 cores)\n"
     ]
    },
    {
     "name": "stderr",
     "output_type": "stream",
     "text": [
      "GPU available: True (cuda), used: True\n",
      "TPU available: False, using: 0 TPU cores\n",
      "IPU available: False, using: 0 IPUs\n",
      "HPU available: False, using: 0 HPUs\n",
      "LOCAL_RANK: 0 - CUDA_VISIBLE_DEVICES: [0]\n"
     ]
    },
    {
     "name": "stdout",
     "output_type": "stream",
     "text": [
      "    finished (0:00:00) --> added \n",
      "    'fit_pars', fitted parameters for splicing dynamics (adata.var)\n",
      "computing velocities\n",
      "WARNING: Too few genes are selected as velocity genes. Consider setting a lower threshold for min_r2 or min_likelihood.\n",
      "    finished (0:00:00) --> added \n",
      "    'velocity', velocity vectors for each individual cell (adata.layers)\n",
      "veloVI: 0.7387238847230696\n",
      "Epoch 244/500:  49%|████▉     | 244/500 [00:21<00:22, 11.60it/s, loss=-12.4, v_num=1]\n",
      "Monitored metric elbo_validation did not improve in the last 45 records. Best score: -11.553. Signaling Trainer to stop.\n",
      "veloVI: 0.6617318878878052\n",
      "Velocity: RegVelo: 0.8357569381963857 veloVI: 0.6617318878878052 scVelo: 0.7387238847230696\n",
      "37\n"
     ]
    },
    {
     "name": "stderr",
     "output_type": "stream",
     "text": [
      "GPU available: True (cuda), used: True\n",
      "TPU available: False, using: 0 TPU cores\n",
      "IPU available: False, using: 0 IPUs\n",
      "HPU available: False, using: 0 HPUs\n",
      "LOCAL_RANK: 0 - CUDA_VISIBLE_DEVICES: [0]\n"
     ]
    },
    {
     "name": "stdout",
     "output_type": "stream",
     "text": [
      "Epoch 878/1500:  59%|█████▊    | 878/1500 [02:52<02:02,  5.08it/s, loss=-14.6, v_num=1]   \n",
      "Monitored metric elbo_validation did not improve in the last 45 records. Best score: -14.547. Signaling Trainer to stop.\n",
      "RegVelo: 0.7221144305853234\n",
      "recovering dynamics (using 1/112 cores)\n"
     ]
    },
    {
     "name": "stderr",
     "output_type": "stream",
     "text": [
      "GPU available: True (cuda), used: True\n",
      "TPU available: False, using: 0 TPU cores\n",
      "IPU available: False, using: 0 IPUs\n",
      "HPU available: False, using: 0 HPUs\n",
      "LOCAL_RANK: 0 - CUDA_VISIBLE_DEVICES: [0]\n"
     ]
    },
    {
     "name": "stdout",
     "output_type": "stream",
     "text": [
      "    finished (0:00:00) --> added \n",
      "    'fit_pars', fitted parameters for splicing dynamics (adata.var)\n",
      "computing velocities\n",
      "WARNING: Too few genes are selected as velocity genes. Consider setting a lower threshold for min_r2 or min_likelihood.\n",
      "    finished (0:00:00) --> added \n",
      "    'velocity', velocity vectors for each individual cell (adata.layers)\n",
      "veloVI: 0.6103253795725799\n",
      "Epoch 352/500:  70%|███████   | 352/500 [00:30<00:12, 11.47it/s, loss=-8.89, v_num=1]\n",
      "Monitored metric elbo_validation did not improve in the last 45 records. Best score: -8.640. Signaling Trainer to stop.\n",
      "veloVI: 0.6447742070925362\n",
      "Velocity: RegVelo: 0.7221144305853234 veloVI: 0.6447742070925362 scVelo: 0.6103253795725799\n",
      "38\n"
     ]
    },
    {
     "name": "stderr",
     "output_type": "stream",
     "text": [
      "GPU available: True (cuda), used: True\n",
      "TPU available: False, using: 0 TPU cores\n",
      "IPU available: False, using: 0 IPUs\n",
      "HPU available: False, using: 0 HPUs\n",
      "LOCAL_RANK: 0 - CUDA_VISIBLE_DEVICES: [0]\n"
     ]
    },
    {
     "name": "stdout",
     "output_type": "stream",
     "text": [
      "Epoch 511/1500:  34%|███▍      | 511/1500 [01:29<02:53,  5.70it/s, loss=-14.6, v_num=1]   \n",
      "Monitored metric elbo_validation did not improve in the last 45 records. Best score: -11.441. Signaling Trainer to stop.\n",
      "RegVelo: 0.8249705846207674\n",
      "recovering dynamics (using 1/112 cores)\n"
     ]
    },
    {
     "name": "stderr",
     "output_type": "stream",
     "text": [
      "GPU available: True (cuda), used: True\n",
      "TPU available: False, using: 0 TPU cores\n",
      "IPU available: False, using: 0 IPUs\n",
      "HPU available: False, using: 0 HPUs\n",
      "LOCAL_RANK: 0 - CUDA_VISIBLE_DEVICES: [0]\n"
     ]
    },
    {
     "name": "stdout",
     "output_type": "stream",
     "text": [
      "    finished (0:00:00) --> added \n",
      "    'fit_pars', fitted parameters for splicing dynamics (adata.var)\n",
      "computing velocities\n",
      "WARNING: Too few genes are selected as velocity genes. Consider setting a lower threshold for min_r2 or min_likelihood.\n",
      "    finished (0:00:00) --> added \n",
      "    'velocity', velocity vectors for each individual cell (adata.layers)\n",
      "veloVI: 0.7621526391983134\n",
      "Epoch 287/500:  57%|█████▋    | 287/500 [00:24<00:18, 11.64it/s, loss=-11, v_num=1]  \n",
      "Monitored metric elbo_validation did not improve in the last 45 records. Best score: -9.183. Signaling Trainer to stop.\n",
      "veloVI: 0.7150543071529624\n",
      "Velocity: RegVelo: 0.8249705846207674 veloVI: 0.7150543071529624 scVelo: 0.7621526391983134\n",
      "39\n"
     ]
    },
    {
     "name": "stderr",
     "output_type": "stream",
     "text": [
      "GPU available: True (cuda), used: True\n",
      "TPU available: False, using: 0 TPU cores\n",
      "IPU available: False, using: 0 IPUs\n",
      "HPU available: False, using: 0 HPUs\n",
      "LOCAL_RANK: 0 - CUDA_VISIBLE_DEVICES: [0]\n"
     ]
    },
    {
     "name": "stdout",
     "output_type": "stream",
     "text": [
      "Epoch 659/1500:  44%|████▍     | 659/1500 [01:49<02:19,  6.02it/s, loss=-14.1, v_num=1]  \n",
      "Monitored metric elbo_validation did not improve in the last 45 records. Best score: -13.482. Signaling Trainer to stop.\n",
      "RegVelo: 0.6877649721555028\n",
      "recovering dynamics (using 1/112 cores)\n"
     ]
    },
    {
     "name": "stderr",
     "output_type": "stream",
     "text": [
      "GPU available: True (cuda), used: True\n",
      "TPU available: False, using: 0 TPU cores\n",
      "IPU available: False, using: 0 IPUs\n",
      "HPU available: False, using: 0 HPUs\n",
      "LOCAL_RANK: 0 - CUDA_VISIBLE_DEVICES: [0]\n"
     ]
    },
    {
     "name": "stdout",
     "output_type": "stream",
     "text": [
      "    finished (0:00:00) --> added \n",
      "    'fit_pars', fitted parameters for splicing dynamics (adata.var)\n",
      "computing velocities\n",
      "WARNING: Too few genes are selected as velocity genes. Consider setting a lower threshold for min_r2 or min_likelihood.\n",
      "    finished (0:00:00) --> added \n",
      "    'velocity', velocity vectors for each individual cell (adata.layers)\n",
      "veloVI: 0.6100991942861305\n",
      "Epoch 238/500:  48%|████▊     | 238/500 [00:21<00:23, 11.19it/s, loss=-9.36, v_num=1]\n",
      "Monitored metric elbo_validation did not improve in the last 45 records. Best score: -8.419. Signaling Trainer to stop.\n",
      "veloVI: 0.5995380083579426\n",
      "Velocity: RegVelo: 0.6877649721555028 veloVI: 0.5995380083579426 scVelo: 0.6100991942861305\n",
      "40\n"
     ]
    },
    {
     "name": "stderr",
     "output_type": "stream",
     "text": [
      "GPU available: True (cuda), used: True\n",
      "TPU available: False, using: 0 TPU cores\n",
      "IPU available: False, using: 0 IPUs\n",
      "HPU available: False, using: 0 HPUs\n",
      "LOCAL_RANK: 0 - CUDA_VISIBLE_DEVICES: [0]\n"
     ]
    },
    {
     "name": "stdout",
     "output_type": "stream",
     "text": [
      "Epoch 582/1500:  39%|███▉      | 582/1500 [02:02<03:13,  4.74it/s, loss=-13.2, v_num=1]  \n",
      "Monitored metric elbo_validation did not improve in the last 45 records. Best score: -12.129. Signaling Trainer to stop.\n",
      "RegVelo: 0.6304146336313013\n",
      "recovering dynamics (using 1/112 cores)\n"
     ]
    },
    {
     "name": "stderr",
     "output_type": "stream",
     "text": [
      "GPU available: True (cuda), used: True\n",
      "TPU available: False, using: 0 TPU cores\n",
      "IPU available: False, using: 0 IPUs\n",
      "HPU available: False, using: 0 HPUs\n",
      "LOCAL_RANK: 0 - CUDA_VISIBLE_DEVICES: [0]\n"
     ]
    },
    {
     "name": "stdout",
     "output_type": "stream",
     "text": [
      "    finished (0:00:00) --> added \n",
      "    'fit_pars', fitted parameters for splicing dynamics (adata.var)\n",
      "computing velocities\n",
      "WARNING: Too few genes are selected as velocity genes. Consider setting a lower threshold for min_r2 or min_likelihood.\n",
      "    finished (0:00:00) --> added \n",
      "    'velocity', velocity vectors for each individual cell (adata.layers)\n",
      "veloVI: 0.5564974260725751\n",
      "Epoch 290/500:  58%|█████▊    | 290/500 [00:25<00:18, 11.56it/s, loss=-7.81, v_num=1]\n",
      "Monitored metric elbo_validation did not improve in the last 45 records. Best score: -6.181. Signaling Trainer to stop.\n",
      "veloVI: 0.6213810321992533\n",
      "Velocity: RegVelo: 0.6304146336313013 veloVI: 0.6213810321992533 scVelo: 0.5564974260725751\n",
      "41\n"
     ]
    },
    {
     "name": "stderr",
     "output_type": "stream",
     "text": [
      "GPU available: True (cuda), used: True\n",
      "TPU available: False, using: 0 TPU cores\n",
      "IPU available: False, using: 0 IPUs\n",
      "HPU available: False, using: 0 HPUs\n",
      "LOCAL_RANK: 0 - CUDA_VISIBLE_DEVICES: [0]\n"
     ]
    },
    {
     "name": "stdout",
     "output_type": "stream",
     "text": [
      "Epoch 649/1500:  43%|████▎     | 649/1500 [02:00<02:38,  5.39it/s, loss=-15.1, v_num=1]  \n",
      "Monitored metric elbo_validation did not improve in the last 45 records. Best score: -13.980. Signaling Trainer to stop.\n",
      "RegVelo: 0.7974895336273994\n",
      "recovering dynamics (using 1/112 cores)\n"
     ]
    },
    {
     "name": "stderr",
     "output_type": "stream",
     "text": [
      "GPU available: True (cuda), used: True\n",
      "TPU available: False, using: 0 TPU cores\n",
      "IPU available: False, using: 0 IPUs\n",
      "HPU available: False, using: 0 HPUs\n",
      "LOCAL_RANK: 0 - CUDA_VISIBLE_DEVICES: [0]\n"
     ]
    },
    {
     "name": "stdout",
     "output_type": "stream",
     "text": [
      "    finished (0:00:00) --> added \n",
      "    'fit_pars', fitted parameters for splicing dynamics (adata.var)\n",
      "computing velocities\n",
      "WARNING: Too few genes are selected as velocity genes. Consider setting a lower threshold for min_r2 or min_likelihood.\n",
      "    finished (0:00:00) --> added \n",
      "    'velocity', velocity vectors for each individual cell (adata.layers)\n",
      "veloVI: 0.7250098765684553\n",
      "Epoch 303/500:  61%|██████    | 303/500 [00:26<00:16, 11.61it/s, loss=-9.75, v_num=1]\n",
      "Monitored metric elbo_validation did not improve in the last 45 records. Best score: -9.339. Signaling Trainer to stop.\n",
      "veloVI: 0.6893452162082325\n",
      "Velocity: RegVelo: 0.7974895336273994 veloVI: 0.6893452162082325 scVelo: 0.7250098765684553\n",
      "42\n"
     ]
    },
    {
     "name": "stderr",
     "output_type": "stream",
     "text": [
      "GPU available: True (cuda), used: True\n",
      "TPU available: False, using: 0 TPU cores\n",
      "IPU available: False, using: 0 IPUs\n",
      "HPU available: False, using: 0 HPUs\n",
      "LOCAL_RANK: 0 - CUDA_VISIBLE_DEVICES: [0]\n"
     ]
    },
    {
     "name": "stdout",
     "output_type": "stream",
     "text": [
      "Epoch 614/1500:  41%|████      | 614/1500 [02:00<02:54,  5.09it/s, loss=-16.8, v_num=1]   \n",
      "Monitored metric elbo_validation did not improve in the last 45 records. Best score: -13.771. Signaling Trainer to stop.\n",
      "RegVelo: 0.8520043161897464\n",
      "recovering dynamics (using 1/112 cores)\n"
     ]
    },
    {
     "name": "stderr",
     "output_type": "stream",
     "text": [
      "GPU available: True (cuda), used: True\n",
      "TPU available: False, using: 0 TPU cores\n",
      "IPU available: False, using: 0 IPUs\n",
      "HPU available: False, using: 0 HPUs\n",
      "LOCAL_RANK: 0 - CUDA_VISIBLE_DEVICES: [0]\n"
     ]
    },
    {
     "name": "stdout",
     "output_type": "stream",
     "text": [
      "    finished (0:00:00) --> added \n",
      "    'fit_pars', fitted parameters for splicing dynamics (adata.var)\n",
      "computing velocities\n",
      "WARNING: Too few genes are selected as velocity genes. Consider setting a lower threshold for min_r2 or min_likelihood.\n",
      "    finished (0:00:00) --> added \n",
      "    'velocity', velocity vectors for each individual cell (adata.layers)\n",
      "veloVI: 0.7450152635256968\n",
      "Epoch 190/500:  38%|███▊      | 190/500 [00:16<00:26, 11.53it/s, loss=-11, v_num=1]  \n",
      "Monitored metric elbo_validation did not improve in the last 45 records. Best score: -8.602. Signaling Trainer to stop.\n",
      "veloVI: 0.676008467368467\n",
      "Velocity: RegVelo: 0.8520043161897464 veloVI: 0.676008467368467 scVelo: 0.7450152635256968\n",
      "43\n"
     ]
    },
    {
     "name": "stderr",
     "output_type": "stream",
     "text": [
      "GPU available: True (cuda), used: True\n",
      "TPU available: False, using: 0 TPU cores\n",
      "IPU available: False, using: 0 IPUs\n",
      "HPU available: False, using: 0 HPUs\n",
      "LOCAL_RANK: 0 - CUDA_VISIBLE_DEVICES: [0]\n"
     ]
    },
    {
     "name": "stdout",
     "output_type": "stream",
     "text": [
      "Epoch 1041/1500:  69%|██████▉   | 1041/1500 [03:42<01:38,  4.67it/s, loss=-14.8, v_num=1]\n",
      "Monitored metric elbo_validation did not improve in the last 45 records. Best score: -14.609. Signaling Trainer to stop.\n",
      "RegVelo: 0.6312577166794952\n",
      "recovering dynamics (using 1/112 cores)\n"
     ]
    },
    {
     "name": "stderr",
     "output_type": "stream",
     "text": [
      "GPU available: True (cuda), used: True\n",
      "TPU available: False, using: 0 TPU cores\n",
      "IPU available: False, using: 0 IPUs\n",
      "HPU available: False, using: 0 HPUs\n",
      "LOCAL_RANK: 0 - CUDA_VISIBLE_DEVICES: [0]\n"
     ]
    },
    {
     "name": "stdout",
     "output_type": "stream",
     "text": [
      "    finished (0:00:00) --> added \n",
      "    'fit_pars', fitted parameters for splicing dynamics (adata.var)\n",
      "computing velocities\n",
      "WARNING: Too few genes are selected as velocity genes. Consider setting a lower threshold for min_r2 or min_likelihood.\n",
      "    finished (0:00:00) --> added \n",
      "    'velocity', velocity vectors for each individual cell (adata.layers)\n",
      "veloVI: 0.560161623116518\n",
      "Epoch 329/500:  66%|██████▌   | 329/500 [00:28<00:14, 11.45it/s, loss=-6.72, v_num=1]\n",
      "Monitored metric elbo_validation did not improve in the last 45 records. Best score: -5.813. Signaling Trainer to stop.\n",
      "veloVI: 0.6112439999045712\n",
      "Velocity: RegVelo: 0.6312577166794952 veloVI: 0.6112439999045712 scVelo: 0.560161623116518\n",
      "44\n"
     ]
    },
    {
     "name": "stderr",
     "output_type": "stream",
     "text": [
      "GPU available: True (cuda), used: True\n",
      "TPU available: False, using: 0 TPU cores\n",
      "IPU available: False, using: 0 IPUs\n",
      "HPU available: False, using: 0 HPUs\n",
      "LOCAL_RANK: 0 - CUDA_VISIBLE_DEVICES: [0]\n"
     ]
    },
    {
     "name": "stdout",
     "output_type": "stream",
     "text": [
      "Epoch 580/1500:  39%|███▊      | 580/1500 [01:40<02:39,  5.76it/s, loss=-14.6, v_num=1]   \n",
      "Monitored metric elbo_validation did not improve in the last 45 records. Best score: -11.383. Signaling Trainer to stop.\n",
      "RegVelo: 0.7157659634103856\n",
      "recovering dynamics (using 1/112 cores)\n"
     ]
    },
    {
     "name": "stderr",
     "output_type": "stream",
     "text": [
      "GPU available: True (cuda), used: True\n",
      "TPU available: False, using: 0 TPU cores\n",
      "IPU available: False, using: 0 IPUs\n",
      "HPU available: False, using: 0 HPUs\n",
      "LOCAL_RANK: 0 - CUDA_VISIBLE_DEVICES: [0]\n"
     ]
    },
    {
     "name": "stdout",
     "output_type": "stream",
     "text": [
      "    finished (0:00:00) --> added \n",
      "    'fit_pars', fitted parameters for splicing dynamics (adata.var)\n",
      "computing velocities\n",
      "WARNING: Too few genes are selected as velocity genes. Consider setting a lower threshold for min_r2 or min_likelihood.\n",
      "    finished (0:00:00) --> added \n",
      "    'velocity', velocity vectors for each individual cell (adata.layers)\n",
      "veloVI: 0.6565086300443049\n",
      "Epoch 303/500:  61%|██████    | 303/500 [00:25<00:16, 11.72it/s, loss=-10.9, v_num=1]\n",
      "Monitored metric elbo_validation did not improve in the last 45 records. Best score: -9.780. Signaling Trainer to stop.\n",
      "veloVI: 0.6117440129048536\n",
      "Velocity: RegVelo: 0.7157659634103856 veloVI: 0.6117440129048536 scVelo: 0.6565086300443049\n",
      "45\n"
     ]
    },
    {
     "name": "stderr",
     "output_type": "stream",
     "text": [
      "GPU available: True (cuda), used: True\n",
      "TPU available: False, using: 0 TPU cores\n",
      "IPU available: False, using: 0 IPUs\n",
      "HPU available: False, using: 0 HPUs\n",
      "LOCAL_RANK: 0 - CUDA_VISIBLE_DEVICES: [0]\n"
     ]
    },
    {
     "name": "stdout",
     "output_type": "stream",
     "text": [
      "Epoch 765/1500:  51%|█████     | 765/1500 [02:41<02:35,  4.73it/s, loss=-16.3, v_num=1]  \n",
      "Monitored metric elbo_validation did not improve in the last 45 records. Best score: -15.073. Signaling Trainer to stop.\n",
      "RegVelo: 0.7062230713893749\n",
      "recovering dynamics (using 1/112 cores)\n"
     ]
    },
    {
     "name": "stderr",
     "output_type": "stream",
     "text": [
      "GPU available: True (cuda), used: True\n",
      "TPU available: False, using: 0 TPU cores\n",
      "IPU available: False, using: 0 IPUs\n",
      "HPU available: False, using: 0 HPUs\n",
      "LOCAL_RANK: 0 - CUDA_VISIBLE_DEVICES: [0]\n"
     ]
    },
    {
     "name": "stdout",
     "output_type": "stream",
     "text": [
      "    finished (0:00:00) --> added \n",
      "    'fit_pars', fitted parameters for splicing dynamics (adata.var)\n",
      "computing velocities\n",
      "WARNING: Too few genes are selected as velocity genes. Consider setting a lower threshold for min_r2 or min_likelihood.\n",
      "    finished (0:00:00) --> added \n",
      "    'velocity', velocity vectors for each individual cell (adata.layers)\n",
      "veloVI: 0.6721251064599093\n",
      "Epoch 216/500:  43%|████▎     | 216/500 [00:18<00:24, 11.41it/s, loss=-7.92, v_num=1]\n",
      "Monitored metric elbo_validation did not improve in the last 45 records. Best score: -7.126. Signaling Trainer to stop.\n",
      "veloVI: 0.6579247302623213\n",
      "Velocity: RegVelo: 0.7062230713893749 veloVI: 0.6579247302623213 scVelo: 0.6721251064599093\n",
      "46\n"
     ]
    },
    {
     "name": "stderr",
     "output_type": "stream",
     "text": [
      "GPU available: True (cuda), used: True\n",
      "TPU available: False, using: 0 TPU cores\n",
      "IPU available: False, using: 0 IPUs\n",
      "HPU available: False, using: 0 HPUs\n",
      "LOCAL_RANK: 0 - CUDA_VISIBLE_DEVICES: [0]\n"
     ]
    },
    {
     "name": "stdout",
     "output_type": "stream",
     "text": [
      "Epoch 1141/1500:  76%|███████▌  | 1141/1500 [04:15<01:20,  4.46it/s, loss=-16, v_num=1]  \n",
      "Monitored metric elbo_validation did not improve in the last 45 records. Best score: -16.301. Signaling Trainer to stop.\n",
      "RegVelo: 0.6130676285473492\n",
      "recovering dynamics (using 1/112 cores)\n"
     ]
    },
    {
     "name": "stderr",
     "output_type": "stream",
     "text": [
      "GPU available: True (cuda), used: True\n",
      "TPU available: False, using: 0 TPU cores\n",
      "IPU available: False, using: 0 IPUs\n",
      "HPU available: False, using: 0 HPUs\n",
      "LOCAL_RANK: 0 - CUDA_VISIBLE_DEVICES: [0]\n"
     ]
    },
    {
     "name": "stdout",
     "output_type": "stream",
     "text": [
      "    finished (0:00:00) --> added \n",
      "    'fit_pars', fitted parameters for splicing dynamics (adata.var)\n",
      "computing velocities\n",
      "WARNING: Too few genes are selected as velocity genes. Consider setting a lower threshold for min_r2 or min_likelihood.\n",
      "    finished (0:00:00) --> added \n",
      "    'velocity', velocity vectors for each individual cell (adata.layers)\n",
      "veloVI: 0.5667184750393689\n",
      "Epoch 333/500:  67%|██████▋   | 333/500 [00:29<00:14, 11.38it/s, loss=-8.19, v_num=1]\n",
      "Monitored metric elbo_validation did not improve in the last 45 records. Best score: -7.530. Signaling Trainer to stop.\n",
      "veloVI: 0.5778465258282646\n",
      "Velocity: RegVelo: 0.6130676285473492 veloVI: 0.5778465258282646 scVelo: 0.5667184750393689\n",
      "47\n"
     ]
    },
    {
     "name": "stderr",
     "output_type": "stream",
     "text": [
      "GPU available: True (cuda), used: True\n",
      "TPU available: False, using: 0 TPU cores\n",
      "IPU available: False, using: 0 IPUs\n",
      "HPU available: False, using: 0 HPUs\n",
      "LOCAL_RANK: 0 - CUDA_VISIBLE_DEVICES: [0]\n"
     ]
    },
    {
     "name": "stdout",
     "output_type": "stream",
     "text": [
      "Epoch 657/1500:  44%|████▍     | 657/1500 [01:57<02:30,  5.60it/s, loss=-15.6, v_num=1]  \n",
      "Monitored metric elbo_validation did not improve in the last 45 records. Best score: -14.735. Signaling Trainer to stop.\n",
      "RegVelo: 0.7912305312956299\n",
      "recovering dynamics (using 1/112 cores)\n"
     ]
    },
    {
     "name": "stderr",
     "output_type": "stream",
     "text": [
      "GPU available: True (cuda), used: True\n",
      "TPU available: False, using: 0 TPU cores\n",
      "IPU available: False, using: 0 IPUs\n",
      "HPU available: False, using: 0 HPUs\n",
      "LOCAL_RANK: 0 - CUDA_VISIBLE_DEVICES: [0]\n"
     ]
    },
    {
     "name": "stdout",
     "output_type": "stream",
     "text": [
      "    finished (0:00:00) --> added \n",
      "    'fit_pars', fitted parameters for splicing dynamics (adata.var)\n",
      "computing velocities\n",
      "WARNING: Too few genes are selected as velocity genes. Consider setting a lower threshold for min_r2 or min_likelihood.\n",
      "    finished (0:00:00) --> added \n",
      "    'velocity', velocity vectors for each individual cell (adata.layers)\n",
      "veloVI: 0.6728610673284687\n",
      "Epoch 186/500:  37%|███▋      | 186/500 [00:16<00:27, 11.56it/s, loss=-8.75, v_num=1]\n",
      "Monitored metric elbo_validation did not improve in the last 45 records. Best score: -5.846. Signaling Trainer to stop.\n",
      "veloVI: 0.6090082293578848\n",
      "Velocity: RegVelo: 0.7912305312956299 veloVI: 0.6090082293578848 scVelo: 0.6728610673284687\n",
      "48\n"
     ]
    },
    {
     "name": "stderr",
     "output_type": "stream",
     "text": [
      "GPU available: True (cuda), used: True\n",
      "TPU available: False, using: 0 TPU cores\n",
      "IPU available: False, using: 0 IPUs\n",
      "HPU available: False, using: 0 HPUs\n",
      "LOCAL_RANK: 0 - CUDA_VISIBLE_DEVICES: [0]\n"
     ]
    },
    {
     "name": "stdout",
     "output_type": "stream",
     "text": [
      "Epoch 780/1500:  52%|█████▏    | 780/1500 [02:32<02:20,  5.13it/s, loss=-15.9, v_num=1]  \n",
      "Monitored metric elbo_validation did not improve in the last 45 records. Best score: -14.756. Signaling Trainer to stop.\n",
      "RegVelo: 0.6579285756466244\n",
      "recovering dynamics (using 1/112 cores)\n"
     ]
    },
    {
     "name": "stderr",
     "output_type": "stream",
     "text": [
      "GPU available: True (cuda), used: True\n",
      "TPU available: False, using: 0 TPU cores\n",
      "IPU available: False, using: 0 IPUs\n",
      "HPU available: False, using: 0 HPUs\n",
      "LOCAL_RANK: 0 - CUDA_VISIBLE_DEVICES: [0]\n"
     ]
    },
    {
     "name": "stdout",
     "output_type": "stream",
     "text": [
      "    finished (0:00:00) --> added \n",
      "    'fit_pars', fitted parameters for splicing dynamics (adata.var)\n",
      "computing velocities\n",
      "WARNING: Too few genes are selected as velocity genes. Consider setting a lower threshold for min_r2 or min_likelihood.\n",
      "    finished (0:00:00) --> added \n",
      "    'velocity', velocity vectors for each individual cell (adata.layers)\n",
      "veloVI: 0.6590015414411947\n",
      "Epoch 304/500:  61%|██████    | 304/500 [00:26<00:16, 11.63it/s, loss=-8.08, v_num=1]\n",
      "Monitored metric elbo_validation did not improve in the last 45 records. Best score: -7.029. Signaling Trainer to stop.\n",
      "veloVI: 0.6400309810964434\n",
      "Velocity: RegVelo: 0.6579285756466244 veloVI: 0.6400309810964434 scVelo: 0.6590015414411947\n",
      "49\n"
     ]
    },
    {
     "name": "stderr",
     "output_type": "stream",
     "text": [
      "GPU available: True (cuda), used: True\n",
      "TPU available: False, using: 0 TPU cores\n",
      "IPU available: False, using: 0 IPUs\n",
      "HPU available: False, using: 0 HPUs\n",
      "LOCAL_RANK: 0 - CUDA_VISIBLE_DEVICES: [0]\n"
     ]
    },
    {
     "name": "stdout",
     "output_type": "stream",
     "text": [
      "Epoch 761/1500:  51%|█████     | 761/1500 [02:37<02:33,  4.82it/s, loss=-15.5, v_num=1]  \n",
      "Monitored metric elbo_validation did not improve in the last 45 records. Best score: -14.802. Signaling Trainer to stop.\n",
      "RegVelo: 0.6542544581710363\n",
      "recovering dynamics (using 1/112 cores)\n"
     ]
    },
    {
     "name": "stderr",
     "output_type": "stream",
     "text": [
      "GPU available: True (cuda), used: True\n",
      "TPU available: False, using: 0 TPU cores\n",
      "IPU available: False, using: 0 IPUs\n",
      "HPU available: False, using: 0 HPUs\n",
      "LOCAL_RANK: 0 - CUDA_VISIBLE_DEVICES: [0]\n"
     ]
    },
    {
     "name": "stdout",
     "output_type": "stream",
     "text": [
      "    finished (0:00:00) --> added \n",
      "    'fit_pars', fitted parameters for splicing dynamics (adata.var)\n",
      "computing velocities\n",
      "WARNING: Too few genes are selected as velocity genes. Consider setting a lower threshold for min_r2 or min_likelihood.\n",
      "    finished (0:00:00) --> added \n",
      "    'velocity', velocity vectors for each individual cell (adata.layers)\n",
      "veloVI: 0.6138516214023784\n",
      "Epoch 306/500:  61%|██████    | 306/500 [00:28<00:17, 10.84it/s, loss=-9.11, v_num=1]\n",
      "Monitored metric elbo_validation did not improve in the last 45 records. Best score: -9.565. Signaling Trainer to stop.\n",
      "veloVI: 0.6013324160229735\n",
      "Velocity: RegVelo: 0.6542544581710363 veloVI: 0.6013324160229735 scVelo: 0.6138516214023784\n",
      "50\n"
     ]
    },
    {
     "name": "stderr",
     "output_type": "stream",
     "text": [
      "GPU available: True (cuda), used: True\n",
      "TPU available: False, using: 0 TPU cores\n",
      "IPU available: False, using: 0 IPUs\n",
      "HPU available: False, using: 0 HPUs\n",
      "LOCAL_RANK: 0 - CUDA_VISIBLE_DEVICES: [0]\n"
     ]
    },
    {
     "name": "stdout",
     "output_type": "stream",
     "text": [
      "Epoch 549/1500:  37%|███▋      | 549/1500 [01:34<02:43,  5.82it/s, loss=-10.4, v_num=1]  \n",
      "Monitored metric elbo_validation did not improve in the last 45 records. Best score: -10.252. Signaling Trainer to stop.\n",
      "RegVelo: 0.4992909586201079\n",
      "recovering dynamics (using 1/112 cores)\n"
     ]
    },
    {
     "name": "stderr",
     "output_type": "stream",
     "text": [
      "GPU available: True (cuda), used: True\n",
      "TPU available: False, using: 0 TPU cores\n",
      "IPU available: False, using: 0 IPUs\n",
      "HPU available: False, using: 0 HPUs\n",
      "LOCAL_RANK: 0 - CUDA_VISIBLE_DEVICES: [0]\n"
     ]
    },
    {
     "name": "stdout",
     "output_type": "stream",
     "text": [
      "    finished (0:00:00) --> added \n",
      "    'fit_pars', fitted parameters for splicing dynamics (adata.var)\n",
      "computing velocities\n",
      "WARNING: Too few genes are selected as velocity genes. Consider setting a lower threshold for min_r2 or min_likelihood.\n",
      "    finished (0:00:00) --> added \n",
      "    'velocity', velocity vectors for each individual cell (adata.layers)\n",
      "veloVI: 0.4354830957481605\n",
      "Epoch 357/500:  71%|███████▏  | 357/500 [00:30<00:12, 11.59it/s, loss=-5.22, v_num=1]\n",
      "Monitored metric elbo_validation did not improve in the last 45 records. Best score: -4.788. Signaling Trainer to stop.\n",
      "veloVI: 0.4320720011362569\n",
      "Velocity: RegVelo: 0.4992909586201079 veloVI: 0.4320720011362569 scVelo: 0.4354830957481605\n",
      "51\n"
     ]
    },
    {
     "name": "stderr",
     "output_type": "stream",
     "text": [
      "GPU available: True (cuda), used: True\n",
      "TPU available: False, using: 0 TPU cores\n",
      "IPU available: False, using: 0 IPUs\n",
      "HPU available: False, using: 0 HPUs\n",
      "LOCAL_RANK: 0 - CUDA_VISIBLE_DEVICES: [0]\n"
     ]
    },
    {
     "name": "stdout",
     "output_type": "stream",
     "text": [
      "Epoch 581/1500:  39%|███▊      | 581/1500 [01:46<02:48,  5.44it/s, loss=-12.6, v_num=1] \n",
      "Monitored metric elbo_validation did not improve in the last 45 records. Best score: -10.927. Signaling Trainer to stop.\n",
      "RegVelo: 0.6343196092432724\n",
      "recovering dynamics (using 1/112 cores)\n"
     ]
    },
    {
     "name": "stderr",
     "output_type": "stream",
     "text": [
      "GPU available: True (cuda), used: True\n",
      "TPU available: False, using: 0 TPU cores\n",
      "IPU available: False, using: 0 IPUs\n",
      "HPU available: False, using: 0 HPUs\n",
      "LOCAL_RANK: 0 - CUDA_VISIBLE_DEVICES: [0]\n"
     ]
    },
    {
     "name": "stdout",
     "output_type": "stream",
     "text": [
      "    finished (0:00:00) --> added \n",
      "    'fit_pars', fitted parameters for splicing dynamics (adata.var)\n",
      "computing velocities\n",
      "WARNING: Too few genes are selected as velocity genes. Consider setting a lower threshold for min_r2 or min_likelihood.\n",
      "    finished (0:00:00) --> added \n",
      "    'velocity', velocity vectors for each individual cell (adata.layers)\n",
      "veloVI: 0.6224959257458875\n",
      "Epoch 270/500:  54%|█████▍    | 270/500 [00:23<00:19, 11.56it/s, loss=-7.77, v_num=1]\n",
      "Monitored metric elbo_validation did not improve in the last 45 records. Best score: -6.551. Signaling Trainer to stop.\n",
      "veloVI: 0.6284083234234522\n",
      "Velocity: RegVelo: 0.6343196092432724 veloVI: 0.6284083234234522 scVelo: 0.6224959257458875\n",
      "52\n"
     ]
    },
    {
     "name": "stderr",
     "output_type": "stream",
     "text": [
      "GPU available: True (cuda), used: True\n",
      "TPU available: False, using: 0 TPU cores\n",
      "IPU available: False, using: 0 IPUs\n",
      "HPU available: False, using: 0 HPUs\n",
      "LOCAL_RANK: 0 - CUDA_VISIBLE_DEVICES: [0]\n"
     ]
    },
    {
     "name": "stdout",
     "output_type": "stream",
     "text": [
      "Epoch 1080/1500:  72%|███████▏  | 1080/1500 [03:58<01:32,  4.52it/s, loss=-17.4, v_num=1]\n",
      "Monitored metric elbo_validation did not improve in the last 45 records. Best score: -17.310. Signaling Trainer to stop.\n",
      "RegVelo: 0.6944583542808728\n",
      "recovering dynamics (using 1/112 cores)\n"
     ]
    },
    {
     "name": "stderr",
     "output_type": "stream",
     "text": [
      "GPU available: True (cuda), used: True\n",
      "TPU available: False, using: 0 TPU cores\n",
      "IPU available: False, using: 0 IPUs\n",
      "HPU available: False, using: 0 HPUs\n",
      "LOCAL_RANK: 0 - CUDA_VISIBLE_DEVICES: [0]\n"
     ]
    },
    {
     "name": "stdout",
     "output_type": "stream",
     "text": [
      "    finished (0:00:00) --> added \n",
      "    'fit_pars', fitted parameters for splicing dynamics (adata.var)\n",
      "computing velocities\n",
      "WARNING: Too few genes are selected as velocity genes. Consider setting a lower threshold for min_r2 or min_likelihood.\n",
      "    finished (0:00:00) --> added \n",
      "    'velocity', velocity vectors for each individual cell (adata.layers)\n",
      "veloVI: 0.6481473324154426\n",
      "Epoch 331/500:  66%|██████▌   | 331/500 [00:28<00:14, 11.58it/s, loss=-9.96, v_num=1]\n",
      "Monitored metric elbo_validation did not improve in the last 45 records. Best score: -9.439. Signaling Trainer to stop.\n",
      "veloVI: 0.5977415160881271\n",
      "Velocity: RegVelo: 0.6944583542808728 veloVI: 0.5977415160881271 scVelo: 0.6481473324154426\n",
      "53\n"
     ]
    },
    {
     "name": "stderr",
     "output_type": "stream",
     "text": [
      "GPU available: True (cuda), used: True\n",
      "TPU available: False, using: 0 TPU cores\n",
      "IPU available: False, using: 0 IPUs\n",
      "HPU available: False, using: 0 HPUs\n",
      "LOCAL_RANK: 0 - CUDA_VISIBLE_DEVICES: [0]\n"
     ]
    },
    {
     "name": "stdout",
     "output_type": "stream",
     "text": [
      "Epoch 964/1500:  64%|██████▍   | 964/1500 [03:23<01:53,  4.74it/s, loss=-15.5, v_num=1]  \n",
      "Monitored metric elbo_validation did not improve in the last 45 records. Best score: -15.555. Signaling Trainer to stop.\n",
      "RegVelo: 0.549810701575916\n",
      "recovering dynamics (using 1/112 cores)\n"
     ]
    },
    {
     "name": "stderr",
     "output_type": "stream",
     "text": [
      "GPU available: True (cuda), used: True\n",
      "TPU available: False, using: 0 TPU cores\n",
      "IPU available: False, using: 0 IPUs\n",
      "HPU available: False, using: 0 HPUs\n",
      "LOCAL_RANK: 0 - CUDA_VISIBLE_DEVICES: [0]\n"
     ]
    },
    {
     "name": "stdout",
     "output_type": "stream",
     "text": [
      "    finished (0:00:00) --> added \n",
      "    'fit_pars', fitted parameters for splicing dynamics (adata.var)\n",
      "computing velocities\n",
      "WARNING: Too few genes are selected as velocity genes. Consider setting a lower threshold for min_r2 or min_likelihood.\n",
      "    finished (0:00:00) --> added \n",
      "    'velocity', velocity vectors for each individual cell (adata.layers)\n",
      "veloVI: 0.5061782480230305\n",
      "Epoch 242/500:  48%|████▊     | 242/500 [00:20<00:22, 11.61it/s, loss=-6.16, v_num=1]\n",
      "Monitored metric elbo_validation did not improve in the last 45 records. Best score: -5.809. Signaling Trainer to stop.\n",
      "veloVI: 0.772946678748868\n",
      "Velocity: RegVelo: 0.549810701575916 veloVI: 0.772946678748868 scVelo: 0.5061782480230305\n",
      "54\n"
     ]
    },
    {
     "name": "stderr",
     "output_type": "stream",
     "text": [
      "GPU available: True (cuda), used: True\n",
      "TPU available: False, using: 0 TPU cores\n",
      "IPU available: False, using: 0 IPUs\n",
      "HPU available: False, using: 0 HPUs\n",
      "LOCAL_RANK: 0 - CUDA_VISIBLE_DEVICES: [0]\n"
     ]
    },
    {
     "name": "stdout",
     "output_type": "stream",
     "text": [
      "Epoch 849/1500:  57%|█████▋    | 849/1500 [03:19<02:32,  4.26it/s, loss=-14.8, v_num=1]  \n",
      "Monitored metric elbo_validation did not improve in the last 45 records. Best score: -14.983. Signaling Trainer to stop.\n",
      "RegVelo: 0.6446763522400437\n",
      "recovering dynamics (using 1/112 cores)\n"
     ]
    },
    {
     "name": "stderr",
     "output_type": "stream",
     "text": [
      "GPU available: True (cuda), used: True\n",
      "TPU available: False, using: 0 TPU cores\n",
      "IPU available: False, using: 0 IPUs\n",
      "HPU available: False, using: 0 HPUs\n",
      "LOCAL_RANK: 0 - CUDA_VISIBLE_DEVICES: [0]\n"
     ]
    },
    {
     "name": "stdout",
     "output_type": "stream",
     "text": [
      "    finished (0:00:00) --> added \n",
      "    'fit_pars', fitted parameters for splicing dynamics (adata.var)\n",
      "computing velocities\n",
      "WARNING: Too few genes are selected as velocity genes. Consider setting a lower threshold for min_r2 or min_likelihood.\n",
      "    finished (0:00:00) --> added \n",
      "    'velocity', velocity vectors for each individual cell (adata.layers)\n",
      "veloVI: 0.6431985331840461\n",
      "Epoch 233/500:  47%|████▋     | 233/500 [00:20<00:23, 11.47it/s, loss=-8.84, v_num=1]\n",
      "Monitored metric elbo_validation did not improve in the last 45 records. Best score: -7.473. Signaling Trainer to stop.\n",
      "veloVI: 0.6237937808287904\n",
      "Velocity: RegVelo: 0.6446763522400437 veloVI: 0.6237937808287904 scVelo: 0.6431985331840461\n",
      "55\n"
     ]
    },
    {
     "name": "stderr",
     "output_type": "stream",
     "text": [
      "GPU available: True (cuda), used: True\n",
      "TPU available: False, using: 0 TPU cores\n",
      "IPU available: False, using: 0 IPUs\n",
      "HPU available: False, using: 0 HPUs\n",
      "LOCAL_RANK: 0 - CUDA_VISIBLE_DEVICES: [0]\n"
     ]
    },
    {
     "name": "stdout",
     "output_type": "stream",
     "text": [
      "Epoch 630/1500:  42%|████▏     | 630/1500 [01:55<02:38,  5.47it/s, loss=-14.6, v_num=1]  \n",
      "Monitored metric elbo_validation did not improve in the last 45 records. Best score: -12.557. Signaling Trainer to stop.\n",
      "RegVelo: 0.6996753298159762\n",
      "recovering dynamics (using 1/112 cores)\n"
     ]
    },
    {
     "name": "stderr",
     "output_type": "stream",
     "text": [
      "GPU available: True (cuda), used: True\n",
      "TPU available: False, using: 0 TPU cores\n",
      "IPU available: False, using: 0 IPUs\n",
      "HPU available: False, using: 0 HPUs\n",
      "LOCAL_RANK: 0 - CUDA_VISIBLE_DEVICES: [0]\n"
     ]
    },
    {
     "name": "stdout",
     "output_type": "stream",
     "text": [
      "    finished (0:00:00) --> added \n",
      "    'fit_pars', fitted parameters for splicing dynamics (adata.var)\n",
      "computing velocities\n",
      "WARNING: Too few genes are selected as velocity genes. Consider setting a lower threshold for min_r2 or min_likelihood.\n",
      "    finished (0:00:00) --> added \n",
      "    'velocity', velocity vectors for each individual cell (adata.layers)\n",
      "veloVI: 0.6653900513297812\n",
      "Epoch 219/500:  44%|████▍     | 219/500 [00:18<00:24, 11.60it/s, loss=-9.49, v_num=1] \n",
      "Monitored metric elbo_validation did not improve in the last 45 records. Best score: -7.100. Signaling Trainer to stop.\n",
      "veloVI: 0.6300161798166586\n",
      "Velocity: RegVelo: 0.6996753298159762 veloVI: 0.6300161798166586 scVelo: 0.6653900513297812\n",
      "56\n"
     ]
    },
    {
     "name": "stderr",
     "output_type": "stream",
     "text": [
      "GPU available: True (cuda), used: True\n",
      "TPU available: False, using: 0 TPU cores\n",
      "IPU available: False, using: 0 IPUs\n",
      "HPU available: False, using: 0 HPUs\n",
      "LOCAL_RANK: 0 - CUDA_VISIBLE_DEVICES: [0]\n"
     ]
    },
    {
     "name": "stdout",
     "output_type": "stream",
     "text": [
      "Epoch 807/1500:  54%|█████▍    | 807/1500 [02:55<02:30,  4.59it/s, loss=-14.5, v_num=1]   \n",
      "Monitored metric elbo_validation did not improve in the last 45 records. Best score: -13.950. Signaling Trainer to stop.\n",
      "RegVelo: 0.5666329029717816\n",
      "recovering dynamics (using 1/112 cores)\n"
     ]
    },
    {
     "name": "stderr",
     "output_type": "stream",
     "text": [
      "GPU available: True (cuda), used: True\n",
      "TPU available: False, using: 0 TPU cores\n",
      "IPU available: False, using: 0 IPUs\n",
      "HPU available: False, using: 0 HPUs\n",
      "LOCAL_RANK: 0 - CUDA_VISIBLE_DEVICES: [0]\n"
     ]
    },
    {
     "name": "stdout",
     "output_type": "stream",
     "text": [
      "    finished (0:00:00) --> added \n",
      "    'fit_pars', fitted parameters for splicing dynamics (adata.var)\n",
      "computing velocities\n",
      "WARNING: Too few genes are selected as velocity genes. Consider setting a lower threshold for min_r2 or min_likelihood.\n",
      "    finished (0:00:00) --> added \n",
      "    'velocity', velocity vectors for each individual cell (adata.layers)\n",
      "veloVI: 0.5713289829359355\n",
      "Epoch 466/500:  93%|█████████▎| 466/500 [00:40<00:02, 11.56it/s, loss=-9.7, v_num=1] \n",
      "Monitored metric elbo_validation did not improve in the last 45 records. Best score: -9.442. Signaling Trainer to stop.\n",
      "veloVI: 0.5587021668419211\n",
      "Velocity: RegVelo: 0.5666329029717816 veloVI: 0.5587021668419211 scVelo: 0.5713289829359355\n",
      "57\n"
     ]
    },
    {
     "name": "stderr",
     "output_type": "stream",
     "text": [
      "GPU available: True (cuda), used: True\n",
      "TPU available: False, using: 0 TPU cores\n",
      "IPU available: False, using: 0 IPUs\n",
      "HPU available: False, using: 0 HPUs\n",
      "LOCAL_RANK: 0 - CUDA_VISIBLE_DEVICES: [0]\n"
     ]
    },
    {
     "name": "stdout",
     "output_type": "stream",
     "text": [
      "Epoch 638/1500:  43%|████▎     | 638/1500 [01:47<02:24,  5.95it/s, loss=-14.3, v_num=1]  \n",
      "Monitored metric elbo_validation did not improve in the last 45 records. Best score: -12.512. Signaling Trainer to stop.\n",
      "RegVelo: 0.7801093425978487\n",
      "recovering dynamics (using 1/112 cores)\n"
     ]
    },
    {
     "name": "stderr",
     "output_type": "stream",
     "text": [
      "GPU available: True (cuda), used: True\n",
      "TPU available: False, using: 0 TPU cores\n",
      "IPU available: False, using: 0 IPUs\n",
      "HPU available: False, using: 0 HPUs\n",
      "LOCAL_RANK: 0 - CUDA_VISIBLE_DEVICES: [0]\n"
     ]
    },
    {
     "name": "stdout",
     "output_type": "stream",
     "text": [
      "    finished (0:00:00) --> added \n",
      "    'fit_pars', fitted parameters for splicing dynamics (adata.var)\n",
      "computing velocities\n",
      "WARNING: Too few genes are selected as velocity genes. Consider setting a lower threshold for min_r2 or min_likelihood.\n",
      "    finished (0:00:00) --> added \n",
      "    'velocity', velocity vectors for each individual cell (adata.layers)\n",
      "veloVI: 0.6816588297461861\n",
      "Epoch 226/500:  45%|████▌     | 226/500 [00:19<00:23, 11.64it/s, loss=-8.69, v_num=1]\n",
      "Monitored metric elbo_validation did not improve in the last 45 records. Best score: -7.128. Signaling Trainer to stop.\n",
      "veloVI: 0.6478777561046875\n",
      "Velocity: RegVelo: 0.7801093425978487 veloVI: 0.6478777561046875 scVelo: 0.6816588297461861\n",
      "58\n"
     ]
    },
    {
     "name": "stderr",
     "output_type": "stream",
     "text": [
      "GPU available: True (cuda), used: True\n",
      "TPU available: False, using: 0 TPU cores\n",
      "IPU available: False, using: 0 IPUs\n",
      "HPU available: False, using: 0 HPUs\n",
      "LOCAL_RANK: 0 - CUDA_VISIBLE_DEVICES: [0]\n"
     ]
    },
    {
     "name": "stdout",
     "output_type": "stream",
     "text": [
      "Epoch 1218/1500:  81%|████████  | 1218/1500 [04:11<00:58,  4.85it/s, loss=-18.1, v_num=1]\n",
      "Monitored metric elbo_validation did not improve in the last 45 records. Best score: -18.073. Signaling Trainer to stop.\n",
      "RegVelo: 0.6506728972507098\n",
      "recovering dynamics (using 1/112 cores)\n"
     ]
    },
    {
     "name": "stderr",
     "output_type": "stream",
     "text": [
      "GPU available: True (cuda), used: True\n",
      "TPU available: False, using: 0 TPU cores\n",
      "IPU available: False, using: 0 IPUs\n",
      "HPU available: False, using: 0 HPUs\n",
      "LOCAL_RANK: 0 - CUDA_VISIBLE_DEVICES: [0]\n"
     ]
    },
    {
     "name": "stdout",
     "output_type": "stream",
     "text": [
      "    finished (0:00:00) --> added \n",
      "    'fit_pars', fitted parameters for splicing dynamics (adata.var)\n",
      "computing velocities\n",
      "WARNING: Too few genes are selected as velocity genes. Consider setting a lower threshold for min_r2 or min_likelihood.\n",
      "    finished (0:00:00) --> added \n",
      "    'velocity', velocity vectors for each individual cell (adata.layers)\n",
      "veloVI: 0.6008202211496447\n",
      "Epoch 217/500:  43%|████▎     | 217/500 [00:18<00:24, 11.51it/s, loss=-9.61, v_num=1]\n",
      "Monitored metric elbo_validation did not improve in the last 45 records. Best score: -7.521. Signaling Trainer to stop.\n",
      "veloVI: 0.549781300906119\n",
      "Velocity: RegVelo: 0.6506728972507098 veloVI: 0.549781300906119 scVelo: 0.6008202211496447\n",
      "59\n"
     ]
    },
    {
     "name": "stderr",
     "output_type": "stream",
     "text": [
      "GPU available: True (cuda), used: True\n",
      "TPU available: False, using: 0 TPU cores\n",
      "IPU available: False, using: 0 IPUs\n",
      "HPU available: False, using: 0 HPUs\n",
      "LOCAL_RANK: 0 - CUDA_VISIBLE_DEVICES: [0]\n"
     ]
    },
    {
     "name": "stdout",
     "output_type": "stream",
     "text": [
      "Epoch 619/1500:  41%|████▏     | 619/1500 [01:40<02:23,  6.14it/s, loss=-13.1, v_num=1]  \n",
      "Monitored metric elbo_validation did not improve in the last 45 records. Best score: -12.281. Signaling Trainer to stop.\n",
      "RegVelo: 0.6288644885693002\n",
      "recovering dynamics (using 1/112 cores)\n"
     ]
    },
    {
     "name": "stderr",
     "output_type": "stream",
     "text": [
      "GPU available: True (cuda), used: True\n",
      "TPU available: False, using: 0 TPU cores\n",
      "IPU available: False, using: 0 IPUs\n",
      "HPU available: False, using: 0 HPUs\n",
      "LOCAL_RANK: 0 - CUDA_VISIBLE_DEVICES: [0]\n"
     ]
    },
    {
     "name": "stdout",
     "output_type": "stream",
     "text": [
      "    finished (0:00:00) --> added \n",
      "    'fit_pars', fitted parameters for splicing dynamics (adata.var)\n",
      "computing velocities\n",
      "WARNING: Too few genes are selected as velocity genes. Consider setting a lower threshold for min_r2 or min_likelihood.\n",
      "    finished (0:00:00) --> added \n",
      "    'velocity', velocity vectors for each individual cell (adata.layers)\n",
      "veloVI: 0.6042079234179744\n",
      "Epoch 279/500:  56%|█████▌    | 279/500 [00:24<00:19, 11.54it/s, loss=-7.35, v_num=1]\n",
      "Monitored metric elbo_validation did not improve in the last 45 records. Best score: -6.284. Signaling Trainer to stop.\n",
      "veloVI: 0.6033520700367806\n",
      "Velocity: RegVelo: 0.6288644885693002 veloVI: 0.6033520700367806 scVelo: 0.6042079234179744\n",
      "60\n"
     ]
    },
    {
     "name": "stderr",
     "output_type": "stream",
     "text": [
      "GPU available: True (cuda), used: True\n",
      "TPU available: False, using: 0 TPU cores\n",
      "IPU available: False, using: 0 IPUs\n",
      "HPU available: False, using: 0 HPUs\n",
      "LOCAL_RANK: 0 - CUDA_VISIBLE_DEVICES: [0]\n"
     ]
    },
    {
     "name": "stdout",
     "output_type": "stream",
     "text": [
      "Epoch 623/1500:  42%|████▏     | 623/1500 [01:49<02:34,  5.68it/s, loss=-15.4, v_num=1]  \n",
      "Monitored metric elbo_validation did not improve in the last 45 records. Best score: -14.288. Signaling Trainer to stop.\n",
      "RegVelo: 0.7733267379325669\n",
      "recovering dynamics (using 1/112 cores)\n"
     ]
    },
    {
     "name": "stderr",
     "output_type": "stream",
     "text": [
      "GPU available: True (cuda), used: True\n",
      "TPU available: False, using: 0 TPU cores\n",
      "IPU available: False, using: 0 IPUs\n",
      "HPU available: False, using: 0 HPUs\n",
      "LOCAL_RANK: 0 - CUDA_VISIBLE_DEVICES: [0]\n"
     ]
    },
    {
     "name": "stdout",
     "output_type": "stream",
     "text": [
      "    finished (0:00:00) --> added \n",
      "    'fit_pars', fitted parameters for splicing dynamics (adata.var)\n",
      "computing velocities\n",
      "WARNING: Too few genes are selected as velocity genes. Consider setting a lower threshold for min_r2 or min_likelihood.\n",
      "    finished (0:00:00) --> added \n",
      "    'velocity', velocity vectors for each individual cell (adata.layers)\n",
      "veloVI: 0.6786927529093084\n",
      "Epoch 368/500:  74%|███████▎  | 368/500 [00:32<00:11, 11.22it/s, loss=-9.48, v_num=1]\n",
      "Monitored metric elbo_validation did not improve in the last 45 records. Best score: -9.173. Signaling Trainer to stop.\n",
      "veloVI: 0.6751956080616757\n",
      "Velocity: RegVelo: 0.7733267379325669 veloVI: 0.6751956080616757 scVelo: 0.6786927529093084\n",
      "61\n"
     ]
    },
    {
     "name": "stderr",
     "output_type": "stream",
     "text": [
      "GPU available: True (cuda), used: True\n",
      "TPU available: False, using: 0 TPU cores\n",
      "IPU available: False, using: 0 IPUs\n",
      "HPU available: False, using: 0 HPUs\n",
      "LOCAL_RANK: 0 - CUDA_VISIBLE_DEVICES: [0]\n"
     ]
    },
    {
     "name": "stdout",
     "output_type": "stream",
     "text": [
      "Epoch 909/1500:  61%|██████    | 909/1500 [03:33<02:18,  4.27it/s, loss=-16.9, v_num=1]  \n",
      "Monitored metric elbo_validation did not improve in the last 45 records. Best score: -16.412. Signaling Trainer to stop.\n",
      "RegVelo: 0.6857874947998971\n",
      "recovering dynamics (using 1/112 cores)\n"
     ]
    },
    {
     "name": "stderr",
     "output_type": "stream",
     "text": [
      "GPU available: True (cuda), used: True\n",
      "TPU available: False, using: 0 TPU cores\n",
      "IPU available: False, using: 0 IPUs\n",
      "HPU available: False, using: 0 HPUs\n",
      "LOCAL_RANK: 0 - CUDA_VISIBLE_DEVICES: [0]\n"
     ]
    },
    {
     "name": "stdout",
     "output_type": "stream",
     "text": [
      "    finished (0:00:00) --> added \n",
      "    'fit_pars', fitted parameters for splicing dynamics (adata.var)\n",
      "computing velocities\n",
      "WARNING: Too few genes are selected as velocity genes. Consider setting a lower threshold for min_r2 or min_likelihood.\n",
      "    finished (0:00:00) --> added \n",
      "    'velocity', velocity vectors for each individual cell (adata.layers)\n",
      "veloVI: 0.6475624671284458\n",
      "Epoch 285/500:  57%|█████▋    | 285/500 [00:24<00:18, 11.62it/s, loss=-9.52, v_num=1]\n",
      "Monitored metric elbo_validation did not improve in the last 45 records. Best score: -8.020. Signaling Trainer to stop.\n",
      "veloVI: 0.6306704177025148\n",
      "Velocity: RegVelo: 0.6857874947998971 veloVI: 0.6306704177025148 scVelo: 0.6475624671284458\n",
      "62\n"
     ]
    },
    {
     "name": "stderr",
     "output_type": "stream",
     "text": [
      "GPU available: True (cuda), used: True\n",
      "TPU available: False, using: 0 TPU cores\n",
      "IPU available: False, using: 0 IPUs\n",
      "HPU available: False, using: 0 HPUs\n",
      "LOCAL_RANK: 0 - CUDA_VISIBLE_DEVICES: [0]\n"
     ]
    },
    {
     "name": "stdout",
     "output_type": "stream",
     "text": [
      "Epoch 1151/1500:  77%|███████▋  | 1151/1500 [04:20<01:19,  4.41it/s, loss=-15.3, v_num=1]\n",
      "Monitored metric elbo_validation did not improve in the last 45 records. Best score: -15.931. Signaling Trainer to stop.\n",
      "RegVelo: 0.5489792128824355\n",
      "recovering dynamics (using 1/112 cores)\n"
     ]
    },
    {
     "name": "stderr",
     "output_type": "stream",
     "text": [
      "GPU available: True (cuda), used: True\n",
      "TPU available: False, using: 0 TPU cores\n",
      "IPU available: False, using: 0 IPUs\n",
      "HPU available: False, using: 0 HPUs\n",
      "LOCAL_RANK: 0 - CUDA_VISIBLE_DEVICES: [0]\n"
     ]
    },
    {
     "name": "stdout",
     "output_type": "stream",
     "text": [
      "    finished (0:00:00) --> added \n",
      "    'fit_pars', fitted parameters for splicing dynamics (adata.var)\n",
      "computing velocities\n",
      "WARNING: Too few genes are selected as velocity genes. Consider setting a lower threshold for min_r2 or min_likelihood.\n",
      "    finished (0:00:00) --> added \n",
      "    'velocity', velocity vectors for each individual cell (adata.layers)\n",
      "veloVI: 0.5201470240766085\n",
      "Epoch 407/500:  81%|████████▏ | 407/500 [00:35<00:08, 11.44it/s, loss=-6.69, v_num=1]\n",
      "Monitored metric elbo_validation did not improve in the last 45 records. Best score: -8.204. Signaling Trainer to stop.\n",
      "veloVI: 0.4560768146243565\n",
      "Velocity: RegVelo: 0.5489792128824355 veloVI: 0.4560768146243565 scVelo: 0.5201470240766085\n",
      "63\n"
     ]
    },
    {
     "name": "stderr",
     "output_type": "stream",
     "text": [
      "GPU available: True (cuda), used: True\n",
      "TPU available: False, using: 0 TPU cores\n",
      "IPU available: False, using: 0 IPUs\n",
      "HPU available: False, using: 0 HPUs\n",
      "LOCAL_RANK: 0 - CUDA_VISIBLE_DEVICES: [0]\n"
     ]
    },
    {
     "name": "stdout",
     "output_type": "stream",
     "text": [
      "Epoch 836/1500:  56%|█████▌    | 836/1500 [02:45<02:11,  5.04it/s, loss=-15.2, v_num=1]  \n",
      "Monitored metric elbo_validation did not improve in the last 45 records. Best score: -15.394. Signaling Trainer to stop.\n",
      "RegVelo: 0.5180763190054795\n",
      "recovering dynamics (using 1/112 cores)\n"
     ]
    },
    {
     "name": "stderr",
     "output_type": "stream",
     "text": [
      "GPU available: True (cuda), used: True\n",
      "TPU available: False, using: 0 TPU cores\n",
      "IPU available: False, using: 0 IPUs\n",
      "HPU available: False, using: 0 HPUs\n",
      "LOCAL_RANK: 0 - CUDA_VISIBLE_DEVICES: [0]\n"
     ]
    },
    {
     "name": "stdout",
     "output_type": "stream",
     "text": [
      "    finished (0:00:00) --> added \n",
      "    'fit_pars', fitted parameters for splicing dynamics (adata.var)\n",
      "computing velocities\n",
      "WARNING: Too few genes are selected as velocity genes. Consider setting a lower threshold for min_r2 or min_likelihood.\n",
      "    finished (0:00:00) --> added \n",
      "    'velocity', velocity vectors for each individual cell (adata.layers)\n",
      "veloVI: 0.45373861938175075\n",
      "Epoch 326/500:  65%|██████▌   | 326/500 [00:28<00:15, 11.57it/s, loss=-5.13, v_num=1]\n",
      "Monitored metric elbo_validation did not improve in the last 45 records. Best score: -5.908. Signaling Trainer to stop.\n",
      "veloVI: 0.4920994051661327\n",
      "Velocity: RegVelo: 0.5180763190054795 veloVI: 0.4920994051661327 scVelo: 0.45373861938175075\n",
      "64\n"
     ]
    },
    {
     "name": "stderr",
     "output_type": "stream",
     "text": [
      "GPU available: True (cuda), used: True\n",
      "TPU available: False, using: 0 TPU cores\n",
      "IPU available: False, using: 0 IPUs\n",
      "HPU available: False, using: 0 HPUs\n",
      "LOCAL_RANK: 0 - CUDA_VISIBLE_DEVICES: [0]\n"
     ]
    },
    {
     "name": "stdout",
     "output_type": "stream",
     "text": [
      "Epoch 795/1500:  53%|█████▎    | 795/1500 [02:18<02:02,  5.74it/s, loss=-13.6, v_num=1]  \n",
      "Monitored metric elbo_validation did not improve in the last 45 records. Best score: -13.648. Signaling Trainer to stop.\n",
      "RegVelo: 0.7206109402615115\n",
      "recovering dynamics (using 1/112 cores)\n"
     ]
    },
    {
     "name": "stderr",
     "output_type": "stream",
     "text": [
      "GPU available: True (cuda), used: True\n",
      "TPU available: False, using: 0 TPU cores\n",
      "IPU available: False, using: 0 IPUs\n",
      "HPU available: False, using: 0 HPUs\n",
      "LOCAL_RANK: 0 - CUDA_VISIBLE_DEVICES: [0]\n"
     ]
    },
    {
     "name": "stdout",
     "output_type": "stream",
     "text": [
      "    finished (0:00:00) --> added \n",
      "    'fit_pars', fitted parameters for splicing dynamics (adata.var)\n",
      "computing velocities\n",
      "WARNING: Too few genes are selected as velocity genes. Consider setting a lower threshold for min_r2 or min_likelihood.\n",
      "    finished (0:00:00) --> added \n",
      "    'velocity', velocity vectors for each individual cell (adata.layers)\n",
      "veloVI: 0.629437562138726\n",
      "Epoch 194/500:  39%|███▉      | 194/500 [00:16<00:26, 11.46it/s, loss=-4.26, v_num=1]\n",
      "Monitored metric elbo_validation did not improve in the last 45 records. Best score: -2.581. Signaling Trainer to stop.\n",
      "veloVI: 0.608271125731553\n",
      "Velocity: RegVelo: 0.7206109402615115 veloVI: 0.608271125731553 scVelo: 0.629437562138726\n",
      "65\n"
     ]
    },
    {
     "name": "stderr",
     "output_type": "stream",
     "text": [
      "GPU available: True (cuda), used: True\n",
      "TPU available: False, using: 0 TPU cores\n",
      "IPU available: False, using: 0 IPUs\n",
      "HPU available: False, using: 0 HPUs\n",
      "LOCAL_RANK: 0 - CUDA_VISIBLE_DEVICES: [0]\n"
     ]
    },
    {
     "name": "stdout",
     "output_type": "stream",
     "text": [
      "Epoch 918/1500:  61%|██████    | 918/1500 [03:08<01:59,  4.88it/s, loss=-14, v_num=1]    \n",
      "Monitored metric elbo_validation did not improve in the last 45 records. Best score: -14.119. Signaling Trainer to stop.\n",
      "RegVelo: 0.6078482212382929\n",
      "recovering dynamics (using 1/112 cores)\n"
     ]
    },
    {
     "name": "stderr",
     "output_type": "stream",
     "text": [
      "GPU available: True (cuda), used: True\n",
      "TPU available: False, using: 0 TPU cores\n",
      "IPU available: False, using: 0 IPUs\n",
      "HPU available: False, using: 0 HPUs\n",
      "LOCAL_RANK: 0 - CUDA_VISIBLE_DEVICES: [0]\n"
     ]
    },
    {
     "name": "stdout",
     "output_type": "stream",
     "text": [
      "    finished (0:00:00) --> added \n",
      "    'fit_pars', fitted parameters for splicing dynamics (adata.var)\n",
      "computing velocities\n",
      "WARNING: Too few genes are selected as velocity genes. Consider setting a lower threshold for min_r2 or min_likelihood.\n",
      "    finished (0:00:00) --> added \n",
      "    'velocity', velocity vectors for each individual cell (adata.layers)\n",
      "veloVI: 0.5609628910769566\n",
      "Epoch 259/500:  52%|█████▏    | 259/500 [00:22<00:21, 11.41it/s, loss=-7.52, v_num=1]\n",
      "Monitored metric elbo_validation did not improve in the last 45 records. Best score: -6.393. Signaling Trainer to stop.\n",
      "veloVI: 0.5961614284340258\n",
      "Velocity: RegVelo: 0.6078482212382929 veloVI: 0.5961614284340258 scVelo: 0.5609628910769566\n",
      "66\n"
     ]
    },
    {
     "name": "stderr",
     "output_type": "stream",
     "text": [
      "GPU available: True (cuda), used: True\n",
      "TPU available: False, using: 0 TPU cores\n",
      "IPU available: False, using: 0 IPUs\n",
      "HPU available: False, using: 0 HPUs\n",
      "LOCAL_RANK: 0 - CUDA_VISIBLE_DEVICES: [0]\n"
     ]
    },
    {
     "name": "stdout",
     "output_type": "stream",
     "text": [
      "Epoch 673/1500:  45%|████▍     | 673/1500 [02:19<02:50,  4.84it/s, loss=-13.3, v_num=1]   \n",
      "Monitored metric elbo_validation did not improve in the last 45 records. Best score: -13.225. Signaling Trainer to stop.\n",
      "RegVelo: 0.600133237159888\n",
      "recovering dynamics (using 1/112 cores)\n"
     ]
    },
    {
     "name": "stderr",
     "output_type": "stream",
     "text": [
      "GPU available: True (cuda), used: True\n",
      "TPU available: False, using: 0 TPU cores\n",
      "IPU available: False, using: 0 IPUs\n",
      "HPU available: False, using: 0 HPUs\n",
      "LOCAL_RANK: 0 - CUDA_VISIBLE_DEVICES: [0]\n"
     ]
    },
    {
     "name": "stdout",
     "output_type": "stream",
     "text": [
      "    finished (0:00:00) --> added \n",
      "    'fit_pars', fitted parameters for splicing dynamics (adata.var)\n",
      "computing velocities\n",
      "WARNING: Too few genes are selected as velocity genes. Consider setting a lower threshold for min_r2 or min_likelihood.\n",
      "    finished (0:00:00) --> added \n",
      "    'velocity', velocity vectors for each individual cell (adata.layers)\n",
      "veloVI: 0.5486730021587917\n",
      "Epoch 227/500:  45%|████▌     | 227/500 [00:19<00:23, 11.76it/s, loss=-5.16, v_num=1]\n",
      "Monitored metric elbo_validation did not improve in the last 45 records. Best score: -4.059. Signaling Trainer to stop.\n",
      "veloVI: 0.5695041623885865\n",
      "Velocity: RegVelo: 0.600133237159888 veloVI: 0.5695041623885865 scVelo: 0.5486730021587917\n",
      "67\n"
     ]
    },
    {
     "name": "stderr",
     "output_type": "stream",
     "text": [
      "GPU available: True (cuda), used: True\n",
      "TPU available: False, using: 0 TPU cores\n",
      "IPU available: False, using: 0 IPUs\n",
      "HPU available: False, using: 0 HPUs\n",
      "LOCAL_RANK: 0 - CUDA_VISIBLE_DEVICES: [0]\n"
     ]
    },
    {
     "name": "stdout",
     "output_type": "stream",
     "text": [
      "Epoch 1143/1500:  76%|███████▌  | 1143/1500 [04:01<01:15,  4.73it/s, loss=-14.9, v_num=1] \n",
      "Monitored metric elbo_validation did not improve in the last 45 records. Best score: -15.565. Signaling Trainer to stop.\n",
      "RegVelo: 0.5042257300431469\n",
      "recovering dynamics (using 1/112 cores)\n"
     ]
    },
    {
     "name": "stderr",
     "output_type": "stream",
     "text": [
      "GPU available: True (cuda), used: True\n",
      "TPU available: False, using: 0 TPU cores\n",
      "IPU available: False, using: 0 IPUs\n",
      "HPU available: False, using: 0 HPUs\n",
      "LOCAL_RANK: 0 - CUDA_VISIBLE_DEVICES: [0]\n"
     ]
    },
    {
     "name": "stdout",
     "output_type": "stream",
     "text": [
      "    finished (0:00:00) --> added \n",
      "    'fit_pars', fitted parameters for splicing dynamics (adata.var)\n",
      "computing velocities\n",
      "WARNING: Too few genes are selected as velocity genes. Consider setting a lower threshold for min_r2 or min_likelihood.\n",
      "    finished (0:00:00) --> added \n",
      "    'velocity', velocity vectors for each individual cell (adata.layers)\n",
      "veloVI: 0.47378613013259235\n",
      "Epoch 376/500:  75%|███████▌  | 376/500 [00:33<00:11, 11.26it/s, loss=-4.73, v_num=1]\n",
      "Monitored metric elbo_validation did not improve in the last 45 records. Best score: -4.993. Signaling Trainer to stop.\n",
      "veloVI: 0.4723950145014948\n",
      "Velocity: RegVelo: 0.5042257300431469 veloVI: 0.4723950145014948 scVelo: 0.47378613013259235\n",
      "68\n"
     ]
    },
    {
     "name": "stderr",
     "output_type": "stream",
     "text": [
      "GPU available: True (cuda), used: True\n",
      "TPU available: False, using: 0 TPU cores\n",
      "IPU available: False, using: 0 IPUs\n",
      "HPU available: False, using: 0 HPUs\n",
      "LOCAL_RANK: 0 - CUDA_VISIBLE_DEVICES: [0]\n"
     ]
    },
    {
     "name": "stdout",
     "output_type": "stream",
     "text": [
      "Epoch 336/1500:  22%|██▏       | 336/1500 [00:37<02:08,  9.02it/s, loss=-9.11, v_num=1]  \n",
      "Monitored metric elbo_validation did not improve in the last 45 records. Best score: -6.263. Signaling Trainer to stop.\n",
      "RegVelo: 0.7169507754743899\n",
      "recovering dynamics (using 1/112 cores)\n"
     ]
    },
    {
     "name": "stderr",
     "output_type": "stream",
     "text": [
      "GPU available: True (cuda), used: True\n",
      "TPU available: False, using: 0 TPU cores\n",
      "IPU available: False, using: 0 IPUs\n",
      "HPU available: False, using: 0 HPUs\n",
      "LOCAL_RANK: 0 - CUDA_VISIBLE_DEVICES: [0]\n"
     ]
    },
    {
     "name": "stdout",
     "output_type": "stream",
     "text": [
      "    finished (0:00:00) --> added \n",
      "    'fit_pars', fitted parameters for splicing dynamics (adata.var)\n",
      "computing velocities\n",
      "WARNING: Too few genes are selected as velocity genes. Consider setting a lower threshold for min_r2 or min_likelihood.\n",
      "    finished (0:00:00) --> added \n",
      "    'velocity', velocity vectors for each individual cell (adata.layers)\n",
      "veloVI: 0.6814971197815681\n",
      "Epoch 346/500:  69%|██████▉   | 346/500 [00:29<00:13, 11.62it/s, loss=-9.06, v_num=1]\n",
      "Monitored metric elbo_validation did not improve in the last 45 records. Best score: -9.496. Signaling Trainer to stop.\n",
      "veloVI: 0.6522395019512645\n",
      "Velocity: RegVelo: 0.7169507754743899 veloVI: 0.6522395019512645 scVelo: 0.6814971197815681\n",
      "69\n"
     ]
    },
    {
     "name": "stderr",
     "output_type": "stream",
     "text": [
      "GPU available: True (cuda), used: True\n",
      "TPU available: False, using: 0 TPU cores\n",
      "IPU available: False, using: 0 IPUs\n",
      "HPU available: False, using: 0 HPUs\n",
      "LOCAL_RANK: 0 - CUDA_VISIBLE_DEVICES: [0]\n"
     ]
    },
    {
     "name": "stdout",
     "output_type": "stream",
     "text": [
      "Epoch 713/1500:  48%|████▊     | 713/1500 [02:21<02:36,  5.03it/s, loss=-12.7, v_num=1]  \n",
      "Monitored metric elbo_validation did not improve in the last 45 records. Best score: -12.840. Signaling Trainer to stop.\n",
      "RegVelo: 0.5635199268305277\n",
      "recovering dynamics (using 1/112 cores)\n"
     ]
    },
    {
     "name": "stderr",
     "output_type": "stream",
     "text": [
      "GPU available: True (cuda), used: True\n",
      "TPU available: False, using: 0 TPU cores\n",
      "IPU available: False, using: 0 IPUs\n",
      "HPU available: False, using: 0 HPUs\n",
      "LOCAL_RANK: 0 - CUDA_VISIBLE_DEVICES: [0]\n"
     ]
    },
    {
     "name": "stdout",
     "output_type": "stream",
     "text": [
      "    finished (0:00:00) --> added \n",
      "    'fit_pars', fitted parameters for splicing dynamics (adata.var)\n",
      "computing velocities\n",
      "WARNING: Too few genes are selected as velocity genes. Consider setting a lower threshold for min_r2 or min_likelihood.\n",
      "    finished (0:00:00) --> added \n",
      "    'velocity', velocity vectors for each individual cell (adata.layers)\n",
      "veloVI: 0.525793753843835\n",
      "Epoch 336/500:  67%|██████▋   | 336/500 [00:28<00:14, 11.61it/s, loss=-6.49, v_num=1]\n",
      "Monitored metric elbo_validation did not improve in the last 45 records. Best score: -6.314. Signaling Trainer to stop.\n",
      "veloVI: 0.543277417769937\n",
      "Velocity: RegVelo: 0.5635199268305277 veloVI: 0.543277417769937 scVelo: 0.525793753843835\n",
      "70\n"
     ]
    },
    {
     "name": "stderr",
     "output_type": "stream",
     "text": [
      "GPU available: True (cuda), used: True\n",
      "TPU available: False, using: 0 TPU cores\n",
      "IPU available: False, using: 0 IPUs\n",
      "HPU available: False, using: 0 HPUs\n",
      "LOCAL_RANK: 0 - CUDA_VISIBLE_DEVICES: [0]\n"
     ]
    },
    {
     "name": "stdout",
     "output_type": "stream",
     "text": [
      "Epoch 672/1500:  45%|████▍     | 672/1500 [01:49<02:14,  6.15it/s, loss=-14.1, v_num=1]  \n",
      "Monitored metric elbo_validation did not improve in the last 45 records. Best score: -12.495. Signaling Trainer to stop.\n",
      "RegVelo: 0.6414243688081308\n",
      "recovering dynamics (using 1/112 cores)\n"
     ]
    },
    {
     "name": "stderr",
     "output_type": "stream",
     "text": [
      "GPU available: True (cuda), used: True\n",
      "TPU available: False, using: 0 TPU cores\n",
      "IPU available: False, using: 0 IPUs\n",
      "HPU available: False, using: 0 HPUs\n",
      "LOCAL_RANK: 0 - CUDA_VISIBLE_DEVICES: [0]\n"
     ]
    },
    {
     "name": "stdout",
     "output_type": "stream",
     "text": [
      "    finished (0:00:00) --> added \n",
      "    'fit_pars', fitted parameters for splicing dynamics (adata.var)\n",
      "computing velocities\n",
      "WARNING: Too few genes are selected as velocity genes. Consider setting a lower threshold for min_r2 or min_likelihood.\n",
      "    finished (0:00:00) --> added \n",
      "    'velocity', velocity vectors for each individual cell (adata.layers)\n",
      "veloVI: 0.55881994312523\n",
      "Epoch 211/500:  42%|████▏     | 211/500 [00:17<00:24, 11.87it/s, loss=-6.15, v_num=1]\n",
      "Monitored metric elbo_validation did not improve in the last 45 records. Best score: -4.612. Signaling Trainer to stop.\n",
      "veloVI: 0.5572990004545293\n",
      "Velocity: RegVelo: 0.6414243688081308 veloVI: 0.5572990004545293 scVelo: 0.55881994312523\n",
      "71\n"
     ]
    },
    {
     "name": "stderr",
     "output_type": "stream",
     "text": [
      "GPU available: True (cuda), used: True\n",
      "TPU available: False, using: 0 TPU cores\n",
      "IPU available: False, using: 0 IPUs\n",
      "HPU available: False, using: 0 HPUs\n",
      "LOCAL_RANK: 0 - CUDA_VISIBLE_DEVICES: [0]\n"
     ]
    },
    {
     "name": "stdout",
     "output_type": "stream",
     "text": [
      "Epoch 949/1500:  63%|██████▎   | 949/1500 [03:30<02:02,  4.51it/s, loss=-15.6, v_num=1]  \n",
      "Monitored metric elbo_validation did not improve in the last 45 records. Best score: -15.578. Signaling Trainer to stop.\n",
      "RegVelo: 0.6439202768708828\n",
      "recovering dynamics (using 1/112 cores)\n"
     ]
    },
    {
     "name": "stderr",
     "output_type": "stream",
     "text": [
      "GPU available: True (cuda), used: True\n",
      "TPU available: False, using: 0 TPU cores\n",
      "IPU available: False, using: 0 IPUs\n",
      "HPU available: False, using: 0 HPUs\n",
      "LOCAL_RANK: 0 - CUDA_VISIBLE_DEVICES: [0]\n"
     ]
    },
    {
     "name": "stdout",
     "output_type": "stream",
     "text": [
      "    finished (0:00:00) --> added \n",
      "    'fit_pars', fitted parameters for splicing dynamics (adata.var)\n",
      "computing velocities\n",
      "WARNING: Too few genes are selected as velocity genes. Consider setting a lower threshold for min_r2 or min_likelihood.\n",
      "    finished (0:00:00) --> added \n",
      "    'velocity', velocity vectors for each individual cell (adata.layers)\n",
      "veloVI: 0.5690587651604129\n",
      "Epoch 227/500:  45%|████▌     | 227/500 [00:19<00:23, 11.68it/s, loss=-7.79, v_num=1]\n",
      "Monitored metric elbo_validation did not improve in the last 45 records. Best score: -6.757. Signaling Trainer to stop.\n",
      "veloVI: 0.5418459021214792\n",
      "Velocity: RegVelo: 0.6439202768708828 veloVI: 0.5418459021214792 scVelo: 0.5690587651604129\n",
      "72\n"
     ]
    },
    {
     "name": "stderr",
     "output_type": "stream",
     "text": [
      "GPU available: True (cuda), used: True\n",
      "TPU available: False, using: 0 TPU cores\n",
      "IPU available: False, using: 0 IPUs\n",
      "HPU available: False, using: 0 HPUs\n",
      "LOCAL_RANK: 0 - CUDA_VISIBLE_DEVICES: [0]\n"
     ]
    },
    {
     "name": "stdout",
     "output_type": "stream",
     "text": [
      "Epoch 445/1500:  30%|██▉       | 445/1500 [01:07<02:41,  6.54it/s, loss=-13.8, v_num=1]  \n",
      "Monitored metric elbo_validation did not improve in the last 45 records. Best score: -10.439. Signaling Trainer to stop.\n",
      "RegVelo: 0.8443271887508951\n",
      "recovering dynamics (using 1/112 cores)\n"
     ]
    },
    {
     "name": "stderr",
     "output_type": "stream",
     "text": [
      "GPU available: True (cuda), used: True\n",
      "TPU available: False, using: 0 TPU cores\n",
      "IPU available: False, using: 0 IPUs\n",
      "HPU available: False, using: 0 HPUs\n",
      "LOCAL_RANK: 0 - CUDA_VISIBLE_DEVICES: [0]\n"
     ]
    },
    {
     "name": "stdout",
     "output_type": "stream",
     "text": [
      "    finished (0:00:00) --> added \n",
      "    'fit_pars', fitted parameters for splicing dynamics (adata.var)\n",
      "computing velocities\n",
      "WARNING: Too few genes are selected as velocity genes. Consider setting a lower threshold for min_r2 or min_likelihood.\n",
      "    finished (0:00:00) --> added \n",
      "    'velocity', velocity vectors for each individual cell (adata.layers)\n",
      "veloVI: 0.7168075882206671\n",
      "Epoch 263/500:  53%|█████▎    | 263/500 [00:22<00:20, 11.57it/s, loss=-11.9, v_num=1]\n",
      "Monitored metric elbo_validation did not improve in the last 45 records. Best score: -11.063. Signaling Trainer to stop.\n",
      "veloVI: 0.6537710565888301\n",
      "Velocity: RegVelo: 0.8443271887508951 veloVI: 0.6537710565888301 scVelo: 0.7168075882206671\n",
      "73\n"
     ]
    },
    {
     "name": "stderr",
     "output_type": "stream",
     "text": [
      "GPU available: True (cuda), used: True\n",
      "TPU available: False, using: 0 TPU cores\n",
      "IPU available: False, using: 0 IPUs\n",
      "HPU available: False, using: 0 HPUs\n",
      "LOCAL_RANK: 0 - CUDA_VISIBLE_DEVICES: [0]\n"
     ]
    },
    {
     "name": "stdout",
     "output_type": "stream",
     "text": [
      "Epoch 984/1500:  66%|██████▌   | 984/1500 [03:25<01:47,  4.78it/s, loss=-14.5, v_num=1]  \n",
      "Monitored metric elbo_validation did not improve in the last 45 records. Best score: -14.566. Signaling Trainer to stop.\n",
      "RegVelo: 0.6309161407560175\n",
      "recovering dynamics (using 1/112 cores)\n",
      "    finished (0:00:00) --> added \n",
      "    'fit_pars', fitted parameters for splicing dynamics (adata.var)\n",
      "computing velocities\n",
      "WARNING: Too few genes are selected as velocity genes. Consider setting a lower threshold for min_r2 or min_likelihood.\n",
      "    finished (0:00:00) --> added \n",
      "    'velocity', velocity vectors for each individual cell (adata.layers)\n",
      "veloVI: 0.5652176826407936\n"
     ]
    },
    {
     "name": "stderr",
     "output_type": "stream",
     "text": [
      "GPU available: True (cuda), used: True\n",
      "TPU available: False, using: 0 TPU cores\n",
      "IPU available: False, using: 0 IPUs\n",
      "HPU available: False, using: 0 HPUs\n",
      "LOCAL_RANK: 0 - CUDA_VISIBLE_DEVICES: [0]\n"
     ]
    },
    {
     "name": "stdout",
     "output_type": "stream",
     "text": [
      "Epoch 345/500:  69%|██████▉   | 345/500 [00:31<00:14, 10.79it/s, loss=-8.37, v_num=1]\n",
      "Monitored metric elbo_validation did not improve in the last 45 records. Best score: -7.497. Signaling Trainer to stop.\n",
      "veloVI: 0.5952096859637893\n",
      "Velocity: RegVelo: 0.6309161407560175 veloVI: 0.5952096859637893 scVelo: 0.5652176826407936\n",
      "74\n"
     ]
    },
    {
     "name": "stderr",
     "output_type": "stream",
     "text": [
      "GPU available: True (cuda), used: True\n",
      "TPU available: False, using: 0 TPU cores\n",
      "IPU available: False, using: 0 IPUs\n",
      "HPU available: False, using: 0 HPUs\n",
      "LOCAL_RANK: 0 - CUDA_VISIBLE_DEVICES: [0]\n"
     ]
    },
    {
     "name": "stdout",
     "output_type": "stream",
     "text": [
      "Epoch 645/1500:  43%|████▎     | 645/1500 [02:01<02:40,  5.33it/s, loss=-17, v_num=1]    \n",
      "Monitored metric elbo_validation did not improve in the last 45 records. Best score: -14.729. Signaling Trainer to stop.\n",
      "RegVelo: 0.7865076935476395\n",
      "recovering dynamics (using 1/112 cores)\n"
     ]
    },
    {
     "name": "stderr",
     "output_type": "stream",
     "text": [
      "GPU available: True (cuda), used: True\n",
      "TPU available: False, using: 0 TPU cores\n",
      "IPU available: False, using: 0 IPUs\n",
      "HPU available: False, using: 0 HPUs\n",
      "LOCAL_RANK: 0 - CUDA_VISIBLE_DEVICES: [0]\n"
     ]
    },
    {
     "name": "stdout",
     "output_type": "stream",
     "text": [
      "    finished (0:00:00) --> added \n",
      "    'fit_pars', fitted parameters for splicing dynamics (adata.var)\n",
      "computing velocities\n",
      "WARNING: Too few genes are selected as velocity genes. Consider setting a lower threshold for min_r2 or min_likelihood.\n",
      "    finished (0:00:00) --> added \n",
      "    'velocity', velocity vectors for each individual cell (adata.layers)\n",
      "veloVI: 0.73671021643761\n",
      "Epoch 282/500:  56%|█████▋    | 282/500 [00:24<00:18, 11.49it/s, loss=-12.6, v_num=1]\n",
      "Monitored metric elbo_validation did not improve in the last 45 records. Best score: -11.742. Signaling Trainer to stop.\n",
      "veloVI: 0.7265886726862245\n",
      "Velocity: RegVelo: 0.7865076935476395 veloVI: 0.7265886726862245 scVelo: 0.73671021643761\n",
      "75\n"
     ]
    },
    {
     "name": "stderr",
     "output_type": "stream",
     "text": [
      "GPU available: True (cuda), used: True\n",
      "TPU available: False, using: 0 TPU cores\n",
      "IPU available: False, using: 0 IPUs\n",
      "HPU available: False, using: 0 HPUs\n",
      "LOCAL_RANK: 0 - CUDA_VISIBLE_DEVICES: [0]\n"
     ]
    },
    {
     "name": "stdout",
     "output_type": "stream",
     "text": [
      "Epoch 735/1500:  49%|████▉     | 735/1500 [02:46<02:53,  4.41it/s, loss=-15.4, v_num=1]  \n",
      "Monitored metric elbo_validation did not improve in the last 45 records. Best score: -15.023. Signaling Trainer to stop.\n",
      "RegVelo: 0.6674056814834642\n",
      "recovering dynamics (using 1/112 cores)\n",
      "    finished (0:00:00) --> added \n",
      "    'fit_pars', fitted parameters for splicing dynamics (adata.var)\n",
      "computing velocities\n",
      "WARNING: Too few genes are selected as velocity genes. Consider setting a lower threshold for min_r2 or min_likelihood.\n",
      "    finished (0:00:00) --> added \n",
      "    'velocity', velocity vectors for each individual cell (adata.layers)\n",
      "veloVI: 0.6072185504840352\n"
     ]
    },
    {
     "name": "stderr",
     "output_type": "stream",
     "text": [
      "GPU available: True (cuda), used: True\n",
      "TPU available: False, using: 0 TPU cores\n",
      "IPU available: False, using: 0 IPUs\n",
      "HPU available: False, using: 0 HPUs\n",
      "LOCAL_RANK: 0 - CUDA_VISIBLE_DEVICES: [0]\n"
     ]
    },
    {
     "name": "stdout",
     "output_type": "stream",
     "text": [
      "Epoch 386/500:  77%|███████▋  | 386/500 [00:33<00:09, 11.54it/s, loss=-9.27, v_num=1]\n",
      "Monitored metric elbo_validation did not improve in the last 45 records. Best score: -9.318. Signaling Trainer to stop.\n",
      "veloVI: 0.6123583903297746\n",
      "Velocity: RegVelo: 0.6674056814834642 veloVI: 0.6123583903297746 scVelo: 0.6072185504840352\n",
      "76\n"
     ]
    },
    {
     "name": "stderr",
     "output_type": "stream",
     "text": [
      "GPU available: True (cuda), used: True\n",
      "TPU available: False, using: 0 TPU cores\n",
      "IPU available: False, using: 0 IPUs\n",
      "HPU available: False, using: 0 HPUs\n",
      "LOCAL_RANK: 0 - CUDA_VISIBLE_DEVICES: [0]\n"
     ]
    },
    {
     "name": "stdout",
     "output_type": "stream",
     "text": [
      "Epoch 655/1500:  44%|████▎     | 655/1500 [01:57<02:31,  5.57it/s, loss=-12.9, v_num=1]  \n",
      "Monitored metric elbo_validation did not improve in the last 45 records. Best score: -11.742. Signaling Trainer to stop.\n",
      "RegVelo: 0.6698507703529725\n",
      "recovering dynamics (using 1/112 cores)\n"
     ]
    },
    {
     "name": "stderr",
     "output_type": "stream",
     "text": [
      "GPU available: True (cuda), used: True\n",
      "TPU available: False, using: 0 TPU cores\n",
      "IPU available: False, using: 0 IPUs\n",
      "HPU available: False, using: 0 HPUs\n",
      "LOCAL_RANK: 0 - CUDA_VISIBLE_DEVICES: [0]\n"
     ]
    },
    {
     "name": "stdout",
     "output_type": "stream",
     "text": [
      "    finished (0:00:00) --> added \n",
      "    'fit_pars', fitted parameters for splicing dynamics (adata.var)\n",
      "computing velocities\n",
      "WARNING: Too few genes are selected as velocity genes. Consider setting a lower threshold for min_r2 or min_likelihood.\n",
      "    finished (0:00:00) --> added \n",
      "    'velocity', velocity vectors for each individual cell (adata.layers)\n",
      "veloVI: 0.633942838488902\n",
      "Epoch 290/500:  58%|█████▊    | 290/500 [00:24<00:17, 11.79it/s, loss=-7.72, v_num=1]\n",
      "Monitored metric elbo_validation did not improve in the last 45 records. Best score: -6.978. Signaling Trainer to stop.\n",
      "veloVI: 0.6114080866128218\n",
      "Velocity: RegVelo: 0.6698507703529725 veloVI: 0.6114080866128218 scVelo: 0.633942838488902\n",
      "77\n"
     ]
    },
    {
     "name": "stderr",
     "output_type": "stream",
     "text": [
      "GPU available: True (cuda), used: True\n",
      "TPU available: False, using: 0 TPU cores\n",
      "IPU available: False, using: 0 IPUs\n",
      "HPU available: False, using: 0 HPUs\n",
      "LOCAL_RANK: 0 - CUDA_VISIBLE_DEVICES: [0]\n"
     ]
    },
    {
     "name": "stdout",
     "output_type": "stream",
     "text": [
      "Epoch 937/1500:  62%|██████▏   | 937/1500 [03:18<01:59,  4.72it/s, loss=-15.8, v_num=1]  \n",
      "Monitored metric elbo_validation did not improve in the last 45 records. Best score: -15.541. Signaling Trainer to stop.\n",
      "RegVelo: 0.6438122989983518\n",
      "recovering dynamics (using 1/112 cores)\n",
      "    finished (0:00:00) --> added \n",
      "    'fit_pars', fitted parameters for splicing dynamics (adata.var)\n",
      "computing velocities\n",
      "WARNING: Too few genes are selected as velocity genes. Consider setting a lower threshold for min_r2 or min_likelihood.\n",
      "    finished (0:00:00) --> added \n",
      "    'velocity', velocity vectors for each individual cell (adata.layers)\n",
      "veloVI: 0.5490113665630862\n"
     ]
    },
    {
     "name": "stderr",
     "output_type": "stream",
     "text": [
      "GPU available: True (cuda), used: True\n",
      "TPU available: False, using: 0 TPU cores\n",
      "IPU available: False, using: 0 IPUs\n",
      "HPU available: False, using: 0 HPUs\n",
      "LOCAL_RANK: 0 - CUDA_VISIBLE_DEVICES: [0]\n"
     ]
    },
    {
     "name": "stdout",
     "output_type": "stream",
     "text": [
      "Epoch 405/500:  81%|████████  | 405/500 [00:35<00:08, 11.55it/s, loss=-6.72, v_num=1]\n",
      "Monitored metric elbo_validation did not improve in the last 45 records. Best score: -7.670. Signaling Trainer to stop.\n",
      "veloVI: 0.5676757732831444\n",
      "Velocity: RegVelo: 0.6438122989983518 veloVI: 0.5676757732831444 scVelo: 0.5490113665630862\n",
      "78\n"
     ]
    },
    {
     "name": "stderr",
     "output_type": "stream",
     "text": [
      "GPU available: True (cuda), used: True\n",
      "TPU available: False, using: 0 TPU cores\n",
      "IPU available: False, using: 0 IPUs\n",
      "HPU available: False, using: 0 HPUs\n",
      "LOCAL_RANK: 0 - CUDA_VISIBLE_DEVICES: [0]\n"
     ]
    },
    {
     "name": "stdout",
     "output_type": "stream",
     "text": [
      "Epoch 1128/1500:  75%|███████▌  | 1128/1500 [04:03<01:20,  4.63it/s, loss=-17.2, v_num=1]\n",
      "Monitored metric elbo_validation did not improve in the last 45 records. Best score: -17.344. Signaling Trainer to stop.\n",
      "RegVelo: 0.6939314997395959\n",
      "recovering dynamics (using 1/112 cores)\n",
      "    finished (0:00:00) --> added \n",
      "    'fit_pars', fitted parameters for splicing dynamics (adata.var)\n",
      "computing velocities\n",
      "WARNING: Too few genes are selected as velocity genes. Consider setting a lower threshold for min_r2 or min_likelihood.\n",
      "    finished (0:00:00) --> added \n",
      "    'velocity', velocity vectors for each individual cell (adata.layers)\n",
      "veloVI: 0.6235721509335754\n"
     ]
    },
    {
     "name": "stderr",
     "output_type": "stream",
     "text": [
      "GPU available: True (cuda), used: True\n",
      "TPU available: False, using: 0 TPU cores\n",
      "IPU available: False, using: 0 IPUs\n",
      "HPU available: False, using: 0 HPUs\n",
      "LOCAL_RANK: 0 - CUDA_VISIBLE_DEVICES: [0]\n"
     ]
    },
    {
     "name": "stdout",
     "output_type": "stream",
     "text": [
      "Epoch 246/500:  49%|████▉     | 246/500 [00:21<00:22, 11.44it/s, loss=-9.37, v_num=1]\n",
      "Monitored metric elbo_validation did not improve in the last 45 records. Best score: -8.582. Signaling Trainer to stop.\n",
      "veloVI: 0.5813473535551458\n",
      "Velocity: RegVelo: 0.6939314997395959 veloVI: 0.5813473535551458 scVelo: 0.6235721509335754\n",
      "79\n"
     ]
    },
    {
     "name": "stderr",
     "output_type": "stream",
     "text": [
      "GPU available: True (cuda), used: True\n",
      "TPU available: False, using: 0 TPU cores\n",
      "IPU available: False, using: 0 IPUs\n",
      "HPU available: False, using: 0 HPUs\n",
      "LOCAL_RANK: 0 - CUDA_VISIBLE_DEVICES: [0]\n"
     ]
    },
    {
     "name": "stdout",
     "output_type": "stream",
     "text": [
      "Epoch 715/1500:  48%|████▊     | 715/1500 [02:20<02:34,  5.08it/s, loss=-15.3, v_num=1]  \n",
      "Monitored metric elbo_validation did not improve in the last 45 records. Best score: -14.660. Signaling Trainer to stop.\n",
      "RegVelo: 0.6621826509587402\n",
      "recovering dynamics (using 1/112 cores)\n"
     ]
    },
    {
     "name": "stderr",
     "output_type": "stream",
     "text": [
      "GPU available: True (cuda), used: True\n",
      "TPU available: False, using: 0 TPU cores\n",
      "IPU available: False, using: 0 IPUs\n",
      "HPU available: False, using: 0 HPUs\n",
      "LOCAL_RANK: 0 - CUDA_VISIBLE_DEVICES: [0]\n"
     ]
    },
    {
     "name": "stdout",
     "output_type": "stream",
     "text": [
      "    finished (0:00:00) --> added \n",
      "    'fit_pars', fitted parameters for splicing dynamics (adata.var)\n",
      "computing velocities\n",
      "WARNING: Too few genes are selected as velocity genes. Consider setting a lower threshold for min_r2 or min_likelihood.\n",
      "    finished (0:00:00) --> added \n",
      "    'velocity', velocity vectors for each individual cell (adata.layers)\n",
      "veloVI: 0.6257713971873834\n",
      "Epoch 366/500:  73%|███████▎  | 366/500 [00:33<00:12, 11.02it/s, loss=-7.27, v_num=1]\n",
      "Monitored metric elbo_validation did not improve in the last 45 records. Best score: -7.797. Signaling Trainer to stop.\n",
      "veloVI: 0.6330788645375289\n",
      "Velocity: RegVelo: 0.6621826509587402 veloVI: 0.6330788645375289 scVelo: 0.6257713971873834\n",
      "80\n"
     ]
    },
    {
     "name": "stderr",
     "output_type": "stream",
     "text": [
      "GPU available: True (cuda), used: True\n",
      "TPU available: False, using: 0 TPU cores\n",
      "IPU available: False, using: 0 IPUs\n",
      "HPU available: False, using: 0 HPUs\n",
      "LOCAL_RANK: 0 - CUDA_VISIBLE_DEVICES: [0]\n"
     ]
    },
    {
     "name": "stdout",
     "output_type": "stream",
     "text": [
      "Epoch 619/1500:  41%|████▏     | 619/1500 [02:01<02:52,  5.10it/s, loss=-15.9, v_num=1]   \n",
      "Monitored metric elbo_validation did not improve in the last 45 records. Best score: -15.018. Signaling Trainer to stop.\n",
      "RegVelo: 0.7105949141024528\n",
      "recovering dynamics (using 1/112 cores)\n",
      "    finished (0:00:01) --> added \n",
      "    'fit_pars', fitted parameters for splicing dynamics (adata.var)\n",
      "computing velocities\n",
      "WARNING: Too few genes are selected as velocity genes. Consider setting a lower threshold for min_r2 or min_likelihood.\n",
      "    finished (0:00:00) --> added \n",
      "    'velocity', velocity vectors for each individual cell (adata.layers)\n",
      "veloVI: 0.6712363243988682\n"
     ]
    },
    {
     "name": "stderr",
     "output_type": "stream",
     "text": [
      "GPU available: True (cuda), used: True\n",
      "TPU available: False, using: 0 TPU cores\n",
      "IPU available: False, using: 0 IPUs\n",
      "HPU available: False, using: 0 HPUs\n",
      "LOCAL_RANK: 0 - CUDA_VISIBLE_DEVICES: [0]\n"
     ]
    },
    {
     "name": "stdout",
     "output_type": "stream",
     "text": [
      "Epoch 198/500:  40%|███▉      | 198/500 [00:17<00:26, 11.49it/s, loss=-9.32, v_num=1]\n",
      "Monitored metric elbo_validation did not improve in the last 45 records. Best score: -7.916. Signaling Trainer to stop.\n",
      "veloVI: 0.6552152603636273\n",
      "Velocity: RegVelo: 0.7105949141024528 veloVI: 0.6552152603636273 scVelo: 0.6712363243988682\n",
      "81\n"
     ]
    },
    {
     "name": "stderr",
     "output_type": "stream",
     "text": [
      "GPU available: True (cuda), used: True\n",
      "TPU available: False, using: 0 TPU cores\n",
      "IPU available: False, using: 0 IPUs\n",
      "HPU available: False, using: 0 HPUs\n",
      "LOCAL_RANK: 0 - CUDA_VISIBLE_DEVICES: [0]\n"
     ]
    },
    {
     "name": "stdout",
     "output_type": "stream",
     "text": [
      "Epoch 573/1500:  38%|███▊      | 573/1500 [01:26<02:19,  6.65it/s, loss=-15, v_num=1]     \n",
      "Monitored metric elbo_validation did not improve in the last 45 records. Best score: -13.391. Signaling Trainer to stop.\n",
      "RegVelo: 0.8212187891014402\n",
      "recovering dynamics (using 1/112 cores)\n"
     ]
    },
    {
     "name": "stderr",
     "output_type": "stream",
     "text": [
      "GPU available: True (cuda), used: True\n",
      "TPU available: False, using: 0 TPU cores\n",
      "IPU available: False, using: 0 IPUs\n",
      "HPU available: False, using: 0 HPUs\n",
      "LOCAL_RANK: 0 - CUDA_VISIBLE_DEVICES: [0]\n"
     ]
    },
    {
     "name": "stdout",
     "output_type": "stream",
     "text": [
      "    finished (0:00:00) --> added \n",
      "    'fit_pars', fitted parameters for splicing dynamics (adata.var)\n",
      "computing velocities\n",
      "WARNING: Too few genes are selected as velocity genes. Consider setting a lower threshold for min_r2 or min_likelihood.\n",
      "    finished (0:00:00) --> added \n",
      "    'velocity', velocity vectors for each individual cell (adata.layers)\n",
      "veloVI: 0.7023483697864631\n",
      "Epoch 208/500:  42%|████▏     | 208/500 [00:17<00:25, 11.57it/s, loss=-9.77, v_num=1] \n",
      "Monitored metric elbo_validation did not improve in the last 45 records. Best score: -9.232. Signaling Trainer to stop.\n",
      "veloVI: 0.6594471217868717\n",
      "Velocity: RegVelo: 0.8212187891014402 veloVI: 0.6594471217868717 scVelo: 0.7023483697864631\n",
      "82\n"
     ]
    },
    {
     "name": "stderr",
     "output_type": "stream",
     "text": [
      "GPU available: True (cuda), used: True\n",
      "TPU available: False, using: 0 TPU cores\n",
      "IPU available: False, using: 0 IPUs\n",
      "HPU available: False, using: 0 HPUs\n",
      "LOCAL_RANK: 0 - CUDA_VISIBLE_DEVICES: [0]\n"
     ]
    },
    {
     "name": "stdout",
     "output_type": "stream",
     "text": [
      "Epoch 930/1500:  62%|██████▏   | 930/1500 [03:00<01:50,  5.15it/s, loss=-17.3, v_num=1]  \n",
      "Monitored metric elbo_validation did not improve in the last 45 records. Best score: -16.543. Signaling Trainer to stop.\n",
      "RegVelo: 0.7002185052427793\n",
      "recovering dynamics (using 1/112 cores)\n"
     ]
    },
    {
     "name": "stderr",
     "output_type": "stream",
     "text": [
      "GPU available: True (cuda), used: True\n",
      "TPU available: False, using: 0 TPU cores\n",
      "IPU available: False, using: 0 IPUs\n",
      "HPU available: False, using: 0 HPUs\n",
      "LOCAL_RANK: 0 - CUDA_VISIBLE_DEVICES: [0]\n"
     ]
    },
    {
     "name": "stdout",
     "output_type": "stream",
     "text": [
      "    finished (0:00:00) --> added \n",
      "    'fit_pars', fitted parameters for splicing dynamics (adata.var)\n",
      "computing velocities\n",
      "WARNING: Too few genes are selected as velocity genes. Consider setting a lower threshold for min_r2 or min_likelihood.\n",
      "    finished (0:00:00) --> added \n",
      "    'velocity', velocity vectors for each individual cell (adata.layers)\n",
      "veloVI: 0.6490577982382035\n",
      "Epoch 470/500:  94%|█████████▍| 470/500 [00:41<00:02, 11.44it/s, loss=-9.05, v_num=1]\n",
      "Monitored metric elbo_validation did not improve in the last 45 records. Best score: -9.114. Signaling Trainer to stop.\n",
      "veloVI: 0.6561007741019255\n",
      "Velocity: RegVelo: 0.7002185052427793 veloVI: 0.6561007741019255 scVelo: 0.6490577982382035\n",
      "83\n"
     ]
    },
    {
     "name": "stderr",
     "output_type": "stream",
     "text": [
      "GPU available: True (cuda), used: True\n",
      "TPU available: False, using: 0 TPU cores\n",
      "IPU available: False, using: 0 IPUs\n",
      "HPU available: False, using: 0 HPUs\n",
      "LOCAL_RANK: 0 - CUDA_VISIBLE_DEVICES: [0]\n"
     ]
    },
    {
     "name": "stdout",
     "output_type": "stream",
     "text": [
      "Epoch 388/1500:  26%|██▌       | 388/1500 [01:00<02:52,  6.45it/s, loss=-9.11, v_num=1]  \n",
      "Monitored metric elbo_validation did not improve in the last 45 records. Best score: -7.423. Signaling Trainer to stop.\n",
      "RegVelo: 0.6310831311567298\n",
      "recovering dynamics (using 1/112 cores)\n"
     ]
    },
    {
     "name": "stderr",
     "output_type": "stream",
     "text": [
      "GPU available: True (cuda), used: True\n",
      "TPU available: False, using: 0 TPU cores\n",
      "IPU available: False, using: 0 IPUs\n",
      "HPU available: False, using: 0 HPUs\n",
      "LOCAL_RANK: 0 - CUDA_VISIBLE_DEVICES: [0]\n"
     ]
    },
    {
     "name": "stdout",
     "output_type": "stream",
     "text": [
      "    finished (0:00:00) --> added \n",
      "    'fit_pars', fitted parameters for splicing dynamics (adata.var)\n",
      "computing velocities\n",
      "WARNING: Too few genes are selected as velocity genes. Consider setting a lower threshold for min_r2 or min_likelihood.\n",
      "    finished (0:00:00) --> added \n",
      "    'velocity', velocity vectors for each individual cell (adata.layers)\n",
      "veloVI: 0.5407432833504452\n",
      "Epoch 262/500:  52%|█████▏    | 262/500 [00:22<00:20, 11.77it/s, loss=-8.72, v_num=1]\n",
      "Monitored metric elbo_validation did not improve in the last 45 records. Best score: -8.159. Signaling Trainer to stop.\n",
      "veloVI: 0.5408625229255294\n",
      "Velocity: RegVelo: 0.6310831311567298 veloVI: 0.5408625229255294 scVelo: 0.5407432833504452\n",
      "84\n"
     ]
    },
    {
     "name": "stderr",
     "output_type": "stream",
     "text": [
      "GPU available: True (cuda), used: True\n",
      "TPU available: False, using: 0 TPU cores\n",
      "IPU available: False, using: 0 IPUs\n",
      "HPU available: False, using: 0 HPUs\n",
      "LOCAL_RANK: 0 - CUDA_VISIBLE_DEVICES: [0]\n"
     ]
    },
    {
     "name": "stdout",
     "output_type": "stream",
     "text": [
      "Epoch 590/1500:  39%|███▉      | 590/1500 [01:47<02:45,  5.48it/s, loss=-15.2, v_num=1]  \n",
      "Monitored metric elbo_validation did not improve in the last 45 records. Best score: -13.531. Signaling Trainer to stop.\n",
      "RegVelo: 0.7966221809599863\n",
      "recovering dynamics (using 1/112 cores)\n"
     ]
    },
    {
     "name": "stderr",
     "output_type": "stream",
     "text": [
      "GPU available: True (cuda), used: True\n",
      "TPU available: False, using: 0 TPU cores\n",
      "IPU available: False, using: 0 IPUs\n",
      "HPU available: False, using: 0 HPUs\n",
      "LOCAL_RANK: 0 - CUDA_VISIBLE_DEVICES: [0]\n"
     ]
    },
    {
     "name": "stdout",
     "output_type": "stream",
     "text": [
      "    finished (0:00:00) --> added \n",
      "    'fit_pars', fitted parameters for splicing dynamics (adata.var)\n",
      "computing velocities\n",
      "WARNING: Too few genes are selected as velocity genes. Consider setting a lower threshold for min_r2 or min_likelihood.\n",
      "    finished (0:00:00) --> added \n",
      "    'velocity', velocity vectors for each individual cell (adata.layers)\n",
      "veloVI: 0.6835830732277\n",
      "Epoch 280/500:  56%|█████▌    | 280/500 [00:24<00:19, 11.47it/s, loss=-10.6, v_num=1]\n",
      "Monitored metric elbo_validation did not improve in the last 45 records. Best score: -9.819. Signaling Trainer to stop.\n",
      "veloVI: 0.6634599943037988\n",
      "Velocity: RegVelo: 0.7966221809599863 veloVI: 0.6634599943037988 scVelo: 0.6835830732277\n",
      "85\n"
     ]
    },
    {
     "name": "stderr",
     "output_type": "stream",
     "text": [
      "GPU available: True (cuda), used: True\n",
      "TPU available: False, using: 0 TPU cores\n",
      "IPU available: False, using: 0 IPUs\n",
      "HPU available: False, using: 0 HPUs\n",
      "LOCAL_RANK: 0 - CUDA_VISIBLE_DEVICES: [0]\n"
     ]
    },
    {
     "name": "stdout",
     "output_type": "stream",
     "text": [
      "Epoch 709/1500:  47%|████▋     | 709/1500 [02:11<02:26,  5.39it/s, loss=-16.2, v_num=1]  \n",
      "Monitored metric elbo_validation did not improve in the last 45 records. Best score: -15.185. Signaling Trainer to stop.\n",
      "RegVelo: 0.7186145315758884\n",
      "recovering dynamics (using 1/112 cores)\n"
     ]
    },
    {
     "name": "stderr",
     "output_type": "stream",
     "text": [
      "GPU available: True (cuda), used: True\n",
      "TPU available: False, using: 0 TPU cores\n",
      "IPU available: False, using: 0 IPUs\n",
      "HPU available: False, using: 0 HPUs\n",
      "LOCAL_RANK: 0 - CUDA_VISIBLE_DEVICES: [0]\n"
     ]
    },
    {
     "name": "stdout",
     "output_type": "stream",
     "text": [
      "    finished (0:00:00) --> added \n",
      "    'fit_pars', fitted parameters for splicing dynamics (adata.var)\n",
      "computing velocities\n",
      "WARNING: Too few genes are selected as velocity genes. Consider setting a lower threshold for min_r2 or min_likelihood.\n",
      "    finished (0:00:00) --> added \n",
      "    'velocity', velocity vectors for each individual cell (adata.layers)\n",
      "veloVI: 0.6433132302837858\n",
      "Epoch 209/500:  42%|████▏     | 209/500 [00:18<00:25, 11.42it/s, loss=-9.14, v_num=1]\n",
      "Monitored metric elbo_validation did not improve in the last 45 records. Best score: -7.292. Signaling Trainer to stop.\n",
      "veloVI: 0.605556939049169\n",
      "Velocity: RegVelo: 0.7186145315758884 veloVI: 0.605556939049169 scVelo: 0.6433132302837858\n",
      "86\n"
     ]
    },
    {
     "name": "stderr",
     "output_type": "stream",
     "text": [
      "GPU available: True (cuda), used: True\n",
      "TPU available: False, using: 0 TPU cores\n",
      "IPU available: False, using: 0 IPUs\n",
      "HPU available: False, using: 0 HPUs\n",
      "LOCAL_RANK: 0 - CUDA_VISIBLE_DEVICES: [0]\n"
     ]
    },
    {
     "name": "stdout",
     "output_type": "stream",
     "text": [
      "Epoch 918/1500:  61%|██████    | 918/1500 [02:53<01:49,  5.30it/s, loss=-13.4, v_num=1]  \n",
      "Monitored metric elbo_validation did not improve in the last 45 records. Best score: -13.010. Signaling Trainer to stop.\n",
      "RegVelo: 0.6225212533054606\n",
      "recovering dynamics (using 1/112 cores)\n"
     ]
    },
    {
     "name": "stderr",
     "output_type": "stream",
     "text": [
      "GPU available: True (cuda), used: True\n",
      "TPU available: False, using: 0 TPU cores\n",
      "IPU available: False, using: 0 IPUs\n",
      "HPU available: False, using: 0 HPUs\n",
      "LOCAL_RANK: 0 - CUDA_VISIBLE_DEVICES: [0]\n"
     ]
    },
    {
     "name": "stdout",
     "output_type": "stream",
     "text": [
      "    finished (0:00:00) --> added \n",
      "    'fit_pars', fitted parameters for splicing dynamics (adata.var)\n",
      "computing velocities\n",
      "WARNING: Too few genes are selected as velocity genes. Consider setting a lower threshold for min_r2 or min_likelihood.\n",
      "    finished (0:00:00) --> added \n",
      "    'velocity', velocity vectors for each individual cell (adata.layers)\n",
      "veloVI: 0.5768248516769184\n",
      "Epoch 345/500:  69%|██████▉   | 345/500 [00:29<00:13, 11.51it/s, loss=-7.58, v_num=1]\n",
      "Monitored metric elbo_validation did not improve in the last 45 records. Best score: -7.140. Signaling Trainer to stop.\n",
      "veloVI: 0.5856662506098741\n",
      "Velocity: RegVelo: 0.6225212533054606 veloVI: 0.5856662506098741 scVelo: 0.5768248516769184\n",
      "87\n"
     ]
    },
    {
     "name": "stderr",
     "output_type": "stream",
     "text": [
      "GPU available: True (cuda), used: True\n",
      "TPU available: False, using: 0 TPU cores\n",
      "IPU available: False, using: 0 IPUs\n",
      "HPU available: False, using: 0 HPUs\n",
      "LOCAL_RANK: 0 - CUDA_VISIBLE_DEVICES: [0]\n"
     ]
    },
    {
     "name": "stdout",
     "output_type": "stream",
     "text": [
      "Epoch 530/1500:  35%|███▌      | 530/1500 [01:45<03:13,  5.02it/s, loss=-14.3, v_num=1]  \n",
      "Monitored metric elbo_validation did not improve in the last 45 records. Best score: -11.904. Signaling Trainer to stop.\n",
      "RegVelo: 0.7780115190506516\n",
      "recovering dynamics (using 1/112 cores)\n"
     ]
    },
    {
     "name": "stderr",
     "output_type": "stream",
     "text": [
      "GPU available: True (cuda), used: True\n",
      "TPU available: False, using: 0 TPU cores\n",
      "IPU available: False, using: 0 IPUs\n",
      "HPU available: False, using: 0 HPUs\n",
      "LOCAL_RANK: 0 - CUDA_VISIBLE_DEVICES: [0]\n"
     ]
    },
    {
     "name": "stdout",
     "output_type": "stream",
     "text": [
      "    finished (0:00:00) --> added \n",
      "    'fit_pars', fitted parameters for splicing dynamics (adata.var)\n",
      "computing velocities\n",
      "WARNING: Too few genes are selected as velocity genes. Consider setting a lower threshold for min_r2 or min_likelihood.\n",
      "    finished (0:00:00) --> added \n",
      "    'velocity', velocity vectors for each individual cell (adata.layers)\n",
      "veloVI: 0.6960300514792231\n",
      "Epoch 199/500:  40%|███▉      | 199/500 [00:17<00:25, 11.60it/s, loss=-9.94, v_num=1]\n",
      "Monitored metric elbo_validation did not improve in the last 45 records. Best score: -8.390. Signaling Trainer to stop.\n",
      "veloVI: 0.6288122767595187\n",
      "Velocity: RegVelo: 0.7780115190506516 veloVI: 0.6288122767595187 scVelo: 0.6960300514792231\n",
      "88\n"
     ]
    },
    {
     "name": "stderr",
     "output_type": "stream",
     "text": [
      "GPU available: True (cuda), used: True\n",
      "TPU available: False, using: 0 TPU cores\n",
      "IPU available: False, using: 0 IPUs\n",
      "HPU available: False, using: 0 HPUs\n",
      "LOCAL_RANK: 0 - CUDA_VISIBLE_DEVICES: [0]\n"
     ]
    },
    {
     "name": "stdout",
     "output_type": "stream",
     "text": [
      "Epoch 1053/1500:  70%|███████   | 1053/1500 [03:33<01:30,  4.92it/s, loss=-17.5, v_num=1]\n",
      "Monitored metric elbo_validation did not improve in the last 45 records. Best score: -17.523. Signaling Trainer to stop.\n",
      "RegVelo: 0.6754460066181048\n",
      "recovering dynamics (using 1/112 cores)\n"
     ]
    },
    {
     "name": "stderr",
     "output_type": "stream",
     "text": [
      "GPU available: True (cuda), used: True\n",
      "TPU available: False, using: 0 TPU cores\n",
      "IPU available: False, using: 0 IPUs\n",
      "HPU available: False, using: 0 HPUs\n",
      "LOCAL_RANK: 0 - CUDA_VISIBLE_DEVICES: [0]\n"
     ]
    },
    {
     "name": "stdout",
     "output_type": "stream",
     "text": [
      "    finished (0:00:00) --> added \n",
      "    'fit_pars', fitted parameters for splicing dynamics (adata.var)\n",
      "computing velocities\n",
      "WARNING: Too few genes are selected as velocity genes. Consider setting a lower threshold for min_r2 or min_likelihood.\n",
      "    finished (0:00:00) --> added \n",
      "    'velocity', velocity vectors for each individual cell (adata.layers)\n",
      "veloVI: 0.5853507077100365\n",
      "Epoch 454/500:  91%|█████████ | 454/500 [00:41<00:04, 10.88it/s, loss=-9.11, v_num=1]\n",
      "Monitored metric elbo_validation did not improve in the last 45 records. Best score: -9.179. Signaling Trainer to stop.\n",
      "veloVI: 0.6006963933851619\n",
      "Velocity: RegVelo: 0.6754460066181048 veloVI: 0.6006963933851619 scVelo: 0.5853507077100365\n",
      "89\n"
     ]
    },
    {
     "name": "stderr",
     "output_type": "stream",
     "text": [
      "GPU available: True (cuda), used: True\n",
      "TPU available: False, using: 0 TPU cores\n",
      "IPU available: False, using: 0 IPUs\n",
      "HPU available: False, using: 0 HPUs\n",
      "LOCAL_RANK: 0 - CUDA_VISIBLE_DEVICES: [0]\n"
     ]
    },
    {
     "name": "stdout",
     "output_type": "stream",
     "text": [
      "Epoch 678/1500:  45%|████▌     | 678/1500 [02:07<02:34,  5.31it/s, loss=-13.9, v_num=1]  \n",
      "Monitored metric elbo_validation did not improve in the last 45 records. Best score: -12.896. Signaling Trainer to stop.\n",
      "RegVelo: 0.582089163475107\n",
      "recovering dynamics (using 1/112 cores)\n"
     ]
    },
    {
     "name": "stderr",
     "output_type": "stream",
     "text": [
      "GPU available: True (cuda), used: True\n",
      "TPU available: False, using: 0 TPU cores\n",
      "IPU available: False, using: 0 IPUs\n",
      "HPU available: False, using: 0 HPUs\n",
      "LOCAL_RANK: 0 - CUDA_VISIBLE_DEVICES: [0]\n"
     ]
    },
    {
     "name": "stdout",
     "output_type": "stream",
     "text": [
      "    finished (0:00:00) --> added \n",
      "    'fit_pars', fitted parameters for splicing dynamics (adata.var)\n",
      "computing velocities\n",
      "WARNING: Too few genes are selected as velocity genes. Consider setting a lower threshold for min_r2 or min_likelihood.\n",
      "    finished (0:00:00) --> added \n",
      "    'velocity', velocity vectors for each individual cell (adata.layers)\n",
      "veloVI: 0.49099978772440656\n",
      "Epoch 261/500:  52%|█████▏    | 261/500 [00:23<00:21, 11.30it/s, loss=-7.42, v_num=1]\n",
      "Monitored metric elbo_validation did not improve in the last 45 records. Best score: -5.791. Signaling Trainer to stop.\n",
      "veloVI: 0.5015339735359818\n",
      "Velocity: RegVelo: 0.582089163475107 veloVI: 0.5015339735359818 scVelo: 0.49099978772440656\n",
      "90\n"
     ]
    },
    {
     "name": "stderr",
     "output_type": "stream",
     "text": [
      "GPU available: True (cuda), used: True\n",
      "TPU available: False, using: 0 TPU cores\n",
      "IPU available: False, using: 0 IPUs\n",
      "HPU available: False, using: 0 HPUs\n",
      "LOCAL_RANK: 0 - CUDA_VISIBLE_DEVICES: [0]\n"
     ]
    },
    {
     "name": "stdout",
     "output_type": "stream",
     "text": [
      "Epoch 500/1500:  33%|███▎      | 500/1500 [01:25<02:50,  5.86it/s, loss=-12.3, v_num=1]  \n",
      "Monitored metric elbo_validation did not improve in the last 45 records. Best score: -10.554. Signaling Trainer to stop.\n",
      "RegVelo: 0.6832618797687343\n",
      "recovering dynamics (using 1/112 cores)\n"
     ]
    },
    {
     "name": "stderr",
     "output_type": "stream",
     "text": [
      "GPU available: True (cuda), used: True\n",
      "TPU available: False, using: 0 TPU cores\n",
      "IPU available: False, using: 0 IPUs\n",
      "HPU available: False, using: 0 HPUs\n",
      "LOCAL_RANK: 0 - CUDA_VISIBLE_DEVICES: [0]\n"
     ]
    },
    {
     "name": "stdout",
     "output_type": "stream",
     "text": [
      "    finished (0:00:00) --> added \n",
      "    'fit_pars', fitted parameters for splicing dynamics (adata.var)\n",
      "computing velocities\n",
      "WARNING: Too few genes are selected as velocity genes. Consider setting a lower threshold for min_r2 or min_likelihood.\n",
      "    finished (0:00:00) --> added \n",
      "    'velocity', velocity vectors for each individual cell (adata.layers)\n",
      "veloVI: 0.58717008976499\n",
      "Epoch 296/500:  59%|█████▉    | 296/500 [00:25<00:17, 11.50it/s, loss=-8, v_num=1]   \n",
      "Monitored metric elbo_validation did not improve in the last 45 records. Best score: -8.087. Signaling Trainer to stop.\n",
      "veloVI: 0.5895685783890078\n",
      "Velocity: RegVelo: 0.6832618797687343 veloVI: 0.5895685783890078 scVelo: 0.58717008976499\n",
      "91\n"
     ]
    },
    {
     "name": "stderr",
     "output_type": "stream",
     "text": [
      "GPU available: True (cuda), used: True\n",
      "TPU available: False, using: 0 TPU cores\n",
      "IPU available: False, using: 0 IPUs\n",
      "HPU available: False, using: 0 HPUs\n",
      "LOCAL_RANK: 0 - CUDA_VISIBLE_DEVICES: [0]\n"
     ]
    },
    {
     "name": "stdout",
     "output_type": "stream",
     "text": [
      "Epoch 856/1500:  57%|█████▋    | 856/1500 [02:50<02:08,  5.02it/s, loss=-16.1, v_num=1]  \n",
      "Monitored metric elbo_validation did not improve in the last 45 records. Best score: -15.494. Signaling Trainer to stop.\n",
      "RegVelo: 0.7662467843116051\n",
      "recovering dynamics (using 1/112 cores)\n"
     ]
    },
    {
     "name": "stderr",
     "output_type": "stream",
     "text": [
      "GPU available: True (cuda), used: True\n",
      "TPU available: False, using: 0 TPU cores\n",
      "IPU available: False, using: 0 IPUs\n",
      "HPU available: False, using: 0 HPUs\n",
      "LOCAL_RANK: 0 - CUDA_VISIBLE_DEVICES: [0]\n"
     ]
    },
    {
     "name": "stdout",
     "output_type": "stream",
     "text": [
      "    finished (0:00:00) --> added \n",
      "    'fit_pars', fitted parameters for splicing dynamics (adata.var)\n",
      "computing velocities\n",
      "WARNING: Too few genes are selected as velocity genes. Consider setting a lower threshold for min_r2 or min_likelihood.\n",
      "    finished (0:00:00) --> added \n",
      "    'velocity', velocity vectors for each individual cell (adata.layers)\n",
      "veloVI: 0.6561871336187944\n",
      "Epoch 236/500:  47%|████▋     | 236/500 [00:20<00:22, 11.55it/s, loss=-9.22, v_num=1]\n",
      "Monitored metric elbo_validation did not improve in the last 45 records. Best score: -6.949. Signaling Trainer to stop.\n",
      "veloVI: 0.6309389232667086\n",
      "Velocity: RegVelo: 0.7662467843116051 veloVI: 0.6309389232667086 scVelo: 0.6561871336187944\n",
      "92\n"
     ]
    },
    {
     "name": "stderr",
     "output_type": "stream",
     "text": [
      "GPU available: True (cuda), used: True\n",
      "TPU available: False, using: 0 TPU cores\n",
      "IPU available: False, using: 0 IPUs\n",
      "HPU available: False, using: 0 HPUs\n",
      "LOCAL_RANK: 0 - CUDA_VISIBLE_DEVICES: [0]\n"
     ]
    },
    {
     "name": "stdout",
     "output_type": "stream",
     "text": [
      "Epoch 887/1500:  59%|█████▉    | 887/1500 [02:53<02:00,  5.10it/s, loss=-14, v_num=1]    \n",
      "Monitored metric elbo_validation did not improve in the last 45 records. Best score: -14.280. Signaling Trainer to stop.\n",
      "RegVelo: 0.6183929186498203\n",
      "recovering dynamics (using 1/112 cores)\n"
     ]
    },
    {
     "name": "stderr",
     "output_type": "stream",
     "text": [
      "GPU available: True (cuda), used: True\n",
      "TPU available: False, using: 0 TPU cores\n",
      "IPU available: False, using: 0 IPUs\n",
      "HPU available: False, using: 0 HPUs\n",
      "LOCAL_RANK: 0 - CUDA_VISIBLE_DEVICES: [0]\n"
     ]
    },
    {
     "name": "stdout",
     "output_type": "stream",
     "text": [
      "    finished (0:00:00) --> added \n",
      "    'fit_pars', fitted parameters for splicing dynamics (adata.var)\n",
      "computing velocities\n",
      "WARNING: Too few genes are selected as velocity genes. Consider setting a lower threshold for min_r2 or min_likelihood.\n",
      "    finished (0:00:00) --> added \n",
      "    'velocity', velocity vectors for each individual cell (adata.layers)\n",
      "veloVI: 0.5511901480565475\n",
      "Epoch 382/500:  76%|███████▋  | 382/500 [00:32<00:10, 11.64it/s, loss=-5.86, v_num=1]\n",
      "Monitored metric elbo_validation did not improve in the last 45 records. Best score: -5.869. Signaling Trainer to stop.\n",
      "veloVI: 0.5668151086881451\n",
      "Velocity: RegVelo: 0.6183929186498203 veloVI: 0.5668151086881451 scVelo: 0.5511901480565475\n",
      "93\n"
     ]
    },
    {
     "name": "stderr",
     "output_type": "stream",
     "text": [
      "GPU available: True (cuda), used: True\n",
      "TPU available: False, using: 0 TPU cores\n",
      "IPU available: False, using: 0 IPUs\n",
      "HPU available: False, using: 0 HPUs\n",
      "LOCAL_RANK: 0 - CUDA_VISIBLE_DEVICES: [0]\n"
     ]
    },
    {
     "name": "stdout",
     "output_type": "stream",
     "text": [
      "Epoch 579/1500:  39%|███▊      | 579/1500 [01:48<02:51,  5.36it/s, loss=-14.6, v_num=1]  \n",
      "Monitored metric elbo_validation did not improve in the last 45 records. Best score: -12.989. Signaling Trainer to stop.\n",
      "RegVelo: 0.7145320499901405\n",
      "recovering dynamics (using 1/112 cores)\n"
     ]
    },
    {
     "name": "stderr",
     "output_type": "stream",
     "text": [
      "GPU available: True (cuda), used: True\n",
      "TPU available: False, using: 0 TPU cores\n",
      "IPU available: False, using: 0 IPUs\n",
      "HPU available: False, using: 0 HPUs\n",
      "LOCAL_RANK: 0 - CUDA_VISIBLE_DEVICES: [0]\n"
     ]
    },
    {
     "name": "stdout",
     "output_type": "stream",
     "text": [
      "    finished (0:00:00) --> added \n",
      "    'fit_pars', fitted parameters for splicing dynamics (adata.var)\n",
      "computing velocities\n",
      "WARNING: Too few genes are selected as velocity genes. Consider setting a lower threshold for min_r2 or min_likelihood.\n",
      "    finished (0:00:00) --> added \n",
      "    'velocity', velocity vectors for each individual cell (adata.layers)\n",
      "veloVI: 0.6918743170999985\n",
      "Epoch 152/500:  30%|███       | 152/500 [00:13<00:30, 11.44it/s, loss=-10.3, v_num=1]\n",
      "Monitored metric elbo_validation did not improve in the last 45 records. Best score: -7.276. Signaling Trainer to stop.\n",
      "veloVI: 0.656694404670701\n",
      "Velocity: RegVelo: 0.7145320499901405 veloVI: 0.656694404670701 scVelo: 0.6918743170999985\n",
      "94\n"
     ]
    },
    {
     "name": "stderr",
     "output_type": "stream",
     "text": [
      "GPU available: True (cuda), used: True\n",
      "TPU available: False, using: 0 TPU cores\n",
      "IPU available: False, using: 0 IPUs\n",
      "HPU available: False, using: 0 HPUs\n",
      "LOCAL_RANK: 0 - CUDA_VISIBLE_DEVICES: [0]\n"
     ]
    },
    {
     "name": "stdout",
     "output_type": "stream",
     "text": [
      "Epoch 1024/1500:  68%|██████▊   | 1024/1500 [03:53<01:48,  4.39it/s, loss=-17.4, v_num=1]\n",
      "Monitored metric elbo_validation did not improve in the last 45 records. Best score: -17.199. Signaling Trainer to stop.\n",
      "RegVelo: 0.6338825813205502\n",
      "recovering dynamics (using 1/112 cores)\n"
     ]
    },
    {
     "name": "stderr",
     "output_type": "stream",
     "text": [
      "GPU available: True (cuda), used: True\n",
      "TPU available: False, using: 0 TPU cores\n",
      "IPU available: False, using: 0 IPUs\n",
      "HPU available: False, using: 0 HPUs\n",
      "LOCAL_RANK: 0 - CUDA_VISIBLE_DEVICES: [0]\n"
     ]
    },
    {
     "name": "stdout",
     "output_type": "stream",
     "text": [
      "    finished (0:00:00) --> added \n",
      "    'fit_pars', fitted parameters for splicing dynamics (adata.var)\n",
      "computing velocities\n",
      "WARNING: Too few genes are selected as velocity genes. Consider setting a lower threshold for min_r2 or min_likelihood.\n",
      "    finished (0:00:00) --> added \n",
      "    'velocity', velocity vectors for each individual cell (adata.layers)\n",
      "veloVI: 0.5936160048093408\n",
      "Epoch 244/500:  49%|████▉     | 244/500 [00:21<00:22, 11.29it/s, loss=-8.09, v_num=1]\n",
      "Monitored metric elbo_validation did not improve in the last 45 records. Best score: -6.241. Signaling Trainer to stop.\n",
      "veloVI: 0.5856706381441054\n",
      "Velocity: RegVelo: 0.6338825813205502 veloVI: 0.5856706381441054 scVelo: 0.5936160048093408\n",
      "95\n"
     ]
    },
    {
     "name": "stderr",
     "output_type": "stream",
     "text": [
      "GPU available: True (cuda), used: True\n",
      "TPU available: False, using: 0 TPU cores\n",
      "IPU available: False, using: 0 IPUs\n",
      "HPU available: False, using: 0 HPUs\n",
      "LOCAL_RANK: 0 - CUDA_VISIBLE_DEVICES: [0]\n"
     ]
    },
    {
     "name": "stdout",
     "output_type": "stream",
     "text": [
      "Epoch 633/1500:  42%|████▏     | 633/1500 [02:10<02:58,  4.87it/s, loss=-13.4, v_num=1]   \n",
      "Monitored metric elbo_validation did not improve in the last 45 records. Best score: -12.264. Signaling Trainer to stop.\n",
      "RegVelo: 0.7395161592616892\n",
      "recovering dynamics (using 1/112 cores)\n"
     ]
    },
    {
     "name": "stderr",
     "output_type": "stream",
     "text": [
      "GPU available: True (cuda), used: True\n",
      "TPU available: False, using: 0 TPU cores\n",
      "IPU available: False, using: 0 IPUs\n",
      "HPU available: False, using: 0 HPUs\n",
      "LOCAL_RANK: 0 - CUDA_VISIBLE_DEVICES: [0]\n"
     ]
    },
    {
     "name": "stdout",
     "output_type": "stream",
     "text": [
      "    finished (0:00:00) --> added \n",
      "    'fit_pars', fitted parameters for splicing dynamics (adata.var)\n",
      "computing velocities\n",
      "WARNING: Too few genes are selected as velocity genes. Consider setting a lower threshold for min_r2 or min_likelihood.\n",
      "    finished (0:00:00) --> added \n",
      "    'velocity', velocity vectors for each individual cell (adata.layers)\n",
      "veloVI: 0.6508701732898803\n",
      "Epoch 217/500:  43%|████▎     | 217/500 [00:18<00:24, 11.58it/s, loss=-7.3, v_num=1] \n",
      "Monitored metric elbo_validation did not improve in the last 45 records. Best score: -5.560. Signaling Trainer to stop.\n",
      "veloVI: 0.6281391072385137\n",
      "Velocity: RegVelo: 0.7395161592616892 veloVI: 0.6281391072385137 scVelo: 0.6508701732898803\n",
      "96\n"
     ]
    },
    {
     "name": "stderr",
     "output_type": "stream",
     "text": [
      "GPU available: True (cuda), used: True\n",
      "TPU available: False, using: 0 TPU cores\n",
      "IPU available: False, using: 0 IPUs\n",
      "HPU available: False, using: 0 HPUs\n",
      "LOCAL_RANK: 0 - CUDA_VISIBLE_DEVICES: [0]\n"
     ]
    },
    {
     "name": "stdout",
     "output_type": "stream",
     "text": [
      "Epoch 956/1500:  64%|██████▎   | 956/1500 [03:31<02:00,  4.52it/s, loss=-15.5, v_num=1]   \n",
      "Monitored metric elbo_validation did not improve in the last 45 records. Best score: -15.677. Signaling Trainer to stop.\n",
      "RegVelo: 0.5892185244259706\n",
      "recovering dynamics (using 1/112 cores)\n",
      "    finished (0:00:00) --> added \n",
      "    'fit_pars', fitted parameters for splicing dynamics (adata.var)\n",
      "computing velocities\n",
      "WARNING: Too few genes are selected as velocity genes. Consider setting a lower threshold for min_r2 or min_likelihood.\n",
      "    finished (0:00:00) --> added \n",
      "    'velocity', velocity vectors for each individual cell (adata.layers)\n",
      "veloVI: 0.5859433333759482\n"
     ]
    },
    {
     "name": "stderr",
     "output_type": "stream",
     "text": [
      "GPU available: True (cuda), used: True\n",
      "TPU available: False, using: 0 TPU cores\n",
      "IPU available: False, using: 0 IPUs\n",
      "HPU available: False, using: 0 HPUs\n",
      "LOCAL_RANK: 0 - CUDA_VISIBLE_DEVICES: [0]\n"
     ]
    },
    {
     "name": "stdout",
     "output_type": "stream",
     "text": [
      "Epoch 440/500:  88%|████████▊ | 440/500 [00:38<00:05, 11.52it/s, loss=-8.59, v_num=1]\n",
      "Monitored metric elbo_validation did not improve in the last 45 records. Best score: -8.395. Signaling Trainer to stop.\n",
      "veloVI: 0.5721602725594123\n",
      "Velocity: RegVelo: 0.5892185244259706 veloVI: 0.5721602725594123 scVelo: 0.5859433333759482\n",
      "97\n"
     ]
    },
    {
     "name": "stderr",
     "output_type": "stream",
     "text": [
      "GPU available: True (cuda), used: True\n",
      "TPU available: False, using: 0 TPU cores\n",
      "IPU available: False, using: 0 IPUs\n",
      "HPU available: False, using: 0 HPUs\n",
      "LOCAL_RANK: 0 - CUDA_VISIBLE_DEVICES: [0]\n"
     ]
    },
    {
     "name": "stdout",
     "output_type": "stream",
     "text": [
      "Epoch 450/1500:  30%|███       | 450/1500 [01:04<02:31,  6.95it/s, loss=-12.8, v_num=1]   \n",
      "Monitored metric elbo_validation did not improve in the last 45 records. Best score: -10.757. Signaling Trainer to stop.\n",
      "RegVelo: 0.8234170611557164\n",
      "recovering dynamics (using 1/112 cores)\n"
     ]
    },
    {
     "name": "stderr",
     "output_type": "stream",
     "text": [
      "GPU available: True (cuda), used: True\n",
      "TPU available: False, using: 0 TPU cores\n",
      "IPU available: False, using: 0 IPUs\n",
      "HPU available: False, using: 0 HPUs\n",
      "LOCAL_RANK: 0 - CUDA_VISIBLE_DEVICES: [0]\n"
     ]
    },
    {
     "name": "stdout",
     "output_type": "stream",
     "text": [
      "    finished (0:00:00) --> added \n",
      "    'fit_pars', fitted parameters for splicing dynamics (adata.var)\n",
      "computing velocities\n",
      "WARNING: Too few genes are selected as velocity genes. Consider setting a lower threshold for min_r2 or min_likelihood.\n",
      "    finished (0:00:00) --> added \n",
      "    'velocity', velocity vectors for each individual cell (adata.layers)\n",
      "veloVI: 0.7249646335008363\n",
      "Epoch 284/500:  57%|█████▋    | 284/500 [00:24<00:18, 11.63it/s, loss=-9.04, v_num=1]\n",
      "Monitored metric elbo_validation did not improve in the last 45 records. Best score: -8.933. Signaling Trainer to stop.\n",
      "veloVI: 0.7064112880553624\n",
      "Velocity: RegVelo: 0.8234170611557164 veloVI: 0.7064112880553624 scVelo: 0.7249646335008363\n",
      "98\n"
     ]
    },
    {
     "name": "stderr",
     "output_type": "stream",
     "text": [
      "GPU available: True (cuda), used: True\n",
      "TPU available: False, using: 0 TPU cores\n",
      "IPU available: False, using: 0 IPUs\n",
      "HPU available: False, using: 0 HPUs\n",
      "LOCAL_RANK: 0 - CUDA_VISIBLE_DEVICES: [0]\n"
     ]
    },
    {
     "name": "stdout",
     "output_type": "stream",
     "text": [
      "Epoch 425/1500:  28%|██▊       | 425/1500 [01:09<02:56,  6.10it/s, loss=-10.9, v_num=1]  \n",
      "Monitored metric elbo_validation did not improve in the last 45 records. Best score: -8.791. Signaling Trainer to stop.\n",
      "RegVelo: 0.7317771282385429\n",
      "recovering dynamics (using 1/112 cores)\n"
     ]
    },
    {
     "name": "stderr",
     "output_type": "stream",
     "text": [
      "GPU available: True (cuda), used: True\n",
      "TPU available: False, using: 0 TPU cores\n",
      "IPU available: False, using: 0 IPUs\n",
      "HPU available: False, using: 0 HPUs\n",
      "LOCAL_RANK: 0 - CUDA_VISIBLE_DEVICES: [0]\n"
     ]
    },
    {
     "name": "stdout",
     "output_type": "stream",
     "text": [
      "    finished (0:00:00) --> added \n",
      "    'fit_pars', fitted parameters for splicing dynamics (adata.var)\n",
      "computing velocities\n",
      "WARNING: Too few genes are selected as velocity genes. Consider setting a lower threshold for min_r2 or min_likelihood.\n",
      "    finished (0:00:00) --> added \n",
      "    'velocity', velocity vectors for each individual cell (adata.layers)\n",
      "veloVI: 0.7166638888386291\n",
      "Epoch 325/500:  65%|██████▌   | 325/500 [00:28<00:15, 11.52it/s, loss=-9.53, v_num=1]\n",
      "Monitored metric elbo_validation did not improve in the last 45 records. Best score: -8.954. Signaling Trainer to stop.\n",
      "veloVI: 0.7136150639595148\n",
      "Velocity: RegVelo: 0.7317771282385429 veloVI: 0.7136150639595148 scVelo: 0.7166638888386291\n",
      "99\n"
     ]
    },
    {
     "name": "stderr",
     "output_type": "stream",
     "text": [
      "GPU available: True (cuda), used: True\n",
      "TPU available: False, using: 0 TPU cores\n",
      "IPU available: False, using: 0 IPUs\n",
      "HPU available: False, using: 0 HPUs\n",
      "LOCAL_RANK: 0 - CUDA_VISIBLE_DEVICES: [0]\n"
     ]
    },
    {
     "name": "stdout",
     "output_type": "stream",
     "text": [
      "Epoch 776/1500:  52%|█████▏    | 776/1500 [02:20<02:11,  5.51it/s, loss=-13.5, v_num=1]  \n",
      "Monitored metric elbo_validation did not improve in the last 45 records. Best score: -12.943. Signaling Trainer to stop.\n",
      "RegVelo: 0.5044344846644434\n",
      "recovering dynamics (using 1/112 cores)\n"
     ]
    },
    {
     "name": "stderr",
     "output_type": "stream",
     "text": [
      "GPU available: True (cuda), used: True\n",
      "TPU available: False, using: 0 TPU cores\n",
      "IPU available: False, using: 0 IPUs\n",
      "HPU available: False, using: 0 HPUs\n",
      "LOCAL_RANK: 0 - CUDA_VISIBLE_DEVICES: [0]\n"
     ]
    },
    {
     "name": "stdout",
     "output_type": "stream",
     "text": [
      "    finished (0:00:00) --> added \n",
      "    'fit_pars', fitted parameters for splicing dynamics (adata.var)\n",
      "computing velocities\n",
      "WARNING: Too few genes are selected as velocity genes. Consider setting a lower threshold for min_r2 or min_likelihood.\n",
      "    finished (0:00:00) --> added \n",
      "    'velocity', velocity vectors for each individual cell (adata.layers)\n",
      "veloVI: 0.4406836885240834\n",
      "Epoch 302/500:  60%|██████    | 302/500 [00:26<00:17, 11.21it/s, loss=-5.08, v_num=1]\n",
      "Monitored metric elbo_validation did not improve in the last 45 records. Best score: -5.241. Signaling Trainer to stop.\n",
      "veloVI: 0.4358963311292586\n",
      "Velocity: RegVelo: 0.5044344846644434 veloVI: 0.4358963311292586 scVelo: 0.4406836885240834\n"
     ]
    }
   ],
   "source": [
    "for sim_idx in range(100):\n",
    "    print(sim_idx)\n",
    "    torch.cuda.empty_cache()\n",
    "    torch.manual_seed(sim_idx)\n",
    "\n",
    "\n",
    "    ## simulate alpha beta and gamma\n",
    "    n_vars = 6\n",
    "\n",
    "    mu = np.array([np.log(5),np.log(.5), np.log(.125)])\n",
    "    \n",
    "    R = np.array([[1., .2, .2],\n",
    "                  [.2, 1., .8],\n",
    "                  [.2, .8, 1.]])\n",
    "    \n",
    "    C = np.array([.4, .4, .4])[:, None]\n",
    "    \n",
    "    cov = C.dot(C.T) * R\n",
    "    \n",
    "    alpha, beta, gamma = np.exp(np.random.multivariate_normal(mu, cov, size=n_vars).T)  # multivariate log-normal\n",
    "    #beta /= 3\n",
    "    #gamma /= 10\n",
    "    beta_list.append(beta)\n",
    "    gamma_list.append(gamma)\n",
    "    \n",
    "    ## \n",
    "    n_regulators = n_targets = 6\n",
    "    coef_m = np.array([[0,1,-alpha.mean(),2,2],\n",
    "                       [1,0,-alpha.mean(),2,2],\n",
    "                       [0,2,alpha.mean(),2,4],\n",
    "                       [0,3,alpha.mean(),2,4],\n",
    "                       [2,3,-alpha.mean(),2,2],\n",
    "                       [3,2,-alpha.mean(),2,2],\n",
    "                       [1,4,alpha.mean(),2,4],\n",
    "                       [1,5,alpha.mean(),2,4],\n",
    "                       [4,5,-alpha.mean(),2,2],\n",
    "                       [5,4,-alpha.mean(),2,2]])\n",
    "    \n",
    "    random_seed = sim_idx\n",
    "    def draw_poisson(n):\n",
    "        from random import seed, uniform  # draw from poisson\n",
    "        seed(random_seed)\n",
    "        t = np.cumsum([-0.1 * np.log(uniform(0, 1)) for _ in range(n - 1)])\n",
    "        return np.insert(t, 0, 0)  # prepend t0=0\n",
    "        \n",
    "    t = torch.tensor(draw_poisson(1500))\n",
    "    t = t.repeat(n_targets,1)\n",
    "\n",
    "    K = np.zeros([n_targets, n_regulators])\n",
    "    n = np.zeros([n_targets, n_regulators])\n",
    "    h = np.zeros([n_targets, n_regulators])\n",
    "\n",
    "    K[np.array(coef_m[:,1],dtype = int),np.array(coef_m[:,0],dtype = int)] = coef_m[:,2]\n",
    "    n[np.array(coef_m[:,1],dtype = int),np.array(coef_m[:,0],dtype = int)] = coef_m[:,3]\n",
    "    h[np.array(coef_m[:,1],dtype = int),np.array(coef_m[:,0],dtype = int)] = coef_m[:,4]\n",
    "\n",
    "    v_encoder = velocity_encoder(K=torch.tensor(K, dtype=torch.float32),\n",
    "                                 n=torch.tensor(n, dtype=torch.float32),\n",
    "                                 h=torch.tensor(h, dtype=torch.float32),\n",
    "                                 alpha_b=torch.tensor([1, 1, 1, 1, 1, 1], dtype=torch.float32) * 0,\n",
    "                                 beta=torch.tensor(beta,dtype = torch.float32),\n",
    "                                 gamma=torch.tensor(gamma,dtype = torch.float32))\n",
    "\n",
    "    ## set up G batches, Each G represent a module (a target gene centerred regulon)\n",
    "    ## infer the observe gene expression through ODE solver based on x0, t, and velocity_encoder\n",
    "    term = to.ODETerm(v_encoder)\n",
    "    step_method = to.Dopri5(term=term)\n",
    "    #step_size_controller = to.IntegralController(atol=1e-6, rtol=1e-3, term=term)\n",
    "    step_size_controller = to.FixedStepController()\n",
    "    solver = to.AutoDiffAdjoint(step_method, step_size_controller)\n",
    "    #jit_solver = torch.jit.script(solver)\n",
    "    sol = solver.solve(to.InitialValueProblem(y0=torch.tensor([[1.0,0,1.0,0,1.0,0],torch.zeros(6).abs().tolist()]).T, t_eval=t), dt0 = 0.01*torch.ones(K.shape[0]))\n",
    "\n",
    "    pre_u = sol.ys[:,:,0]\n",
    "    pre_s = sol.ys[:,:,1]\n",
    "        \n",
    "    pre_s = pd.DataFrame(pre_s.T.numpy())\n",
    "    pre_u = pd.DataFrame(pre_u.T.numpy())\n",
    "    gt_velo = np.array(pre_u)*beta - np.array(pre_s)*gamma\n",
    "    adata = ad.AnnData(np.array(pre_s))\n",
    "\n",
    "    adata.layers[\"Ms\"] = np.array(pre_s)\n",
    "    adata.layers[\"Mu\"] = np.array(pre_u)\n",
    "    adata.layers[\"spliced\"] = np.array(pre_s)\n",
    "    adata.layers[\"unspliced\"] = np.array(pre_u)\n",
    "    adata.obs_names = [f\"Cell_{i:d}\" for i in range(adata.n_obs)]\n",
    "    adata.var_names = [f\"Gene_{i:d}\" for i in range(adata.n_vars)]\n",
    "\n",
    "    adata.obs[\"time\"] = t.numpy()[0,:]\n",
    "    reg_bdata = adata.copy()\n",
    "    reg_bdata.uns[\"regulators\"] = adata.var.index.values\n",
    "    reg_bdata.uns[\"targets\"] = adata.var.index.values\n",
    "    reg_bdata.uns[\"skeleton\"] = np.ones((len(adata.var.index),len(adata.var.index)))\n",
    "    reg_bdata.uns[\"network\"] = np.ones((len(adata.var.index),len(adata.var.index)))\n",
    "\n",
    "    \n",
    "    ## veloVI & RegVelo min-max scaling\n",
    "    reg_bdata = preprocess_data(reg_bdata,filter_on_r2 = False)\n",
    "\n",
    "    ## delete self-regulation\n",
    "    W = reg_bdata.uns[\"skeleton\"].copy()\n",
    "    W = torch.tensor(np.array(W)).int()\n",
    "    \n",
    "    REGVELOVI.setup_anndata(reg_bdata, spliced_layer=\"Ms\", unspliced_layer=\"Mu\")\n",
    "    reg_vae = REGVELOVI(reg_bdata,W=W,lam2 = 0.5,soft_constraint = False,simple_dynamics = True)\n",
    "    reg_vae.train()\n",
    "    \n",
    "    adata_target = add_regvelo_outputs_to_adata(reg_bdata, reg_vae)\n",
    "    pre_velo = np.array(pre_u)*np.array(adata_target.var[\"fit_beta_regvelo\"]) - np.array(pre_s)*np.array(adata_target.var[\"fit_gamma_regvelo\"])\n",
    "    corr_rgv = []\n",
    "    for i in range(6):\n",
    "        corr_rgv.append(scipy.stats.pearsonr(pre_velo[:,i],gt_velo[:,i])[0])\n",
    "    \n",
    "    ## print regvelo performance\n",
    "    velo_rgv.append(np.mean(corr_rgv))\n",
    "    print(\"RegVelo: \"+str(np.mean(corr_rgv)))\n",
    "\n",
    "\n",
    "    ## Run scVelo\n",
    "    sc.pp.neighbors(reg_bdata)\n",
    "    scv.tl.recover_dynamics(\n",
    "        reg_bdata, fit_scaling=False, var_names=adata.var_names, n_jobs=1\n",
    "    )\n",
    "    reg_bdata.var[\"fit_scaling\"] = 1.0\n",
    "    scv.tl.velocity(reg_bdata, mode=\"dynamical\", min_likelihood=-np.inf, min_r2=None)\n",
    "\n",
    "    pre_velo = np.array(pre_u)*np.array(reg_bdata.var[\"fit_beta\"]) - np.array(pre_s)*np.array(reg_bdata.var[\"fit_gamma\"])\n",
    "    corr_scv = []\n",
    "    for i in range(6):\n",
    "        corr_scv.append(scipy.stats.pearsonr(pre_velo[:,i],gt_velo[:,i])[0])\n",
    "    \n",
    "    ## print regvelo performance\n",
    "    velo_scv.append(np.mean(corr_scv))\n",
    "    print(\"veloVI: \"+str(np.mean(corr_scv)))\n",
    "    \n",
    "    ## import veloVI\n",
    "    VELOVI.setup_anndata(adata_target, spliced_layer=\"Ms\", unspliced_layer=\"Mu\")\n",
    "    vae = VELOVI(adata_target)\n",
    "    vae.train(max_epochs = 500,early_stopping = True)\n",
    "\n",
    "    add_velovi_outputs_to_adata(adata_target, vae)\n",
    "    pre_velo = np.array(pre_u)*np.array(adata_target.var[\"fit_beta_velovi\"]) - np.array(pre_s)*np.array(adata_target.var[\"fit_gamma_velovi\"])\n",
    "    corr = []\n",
    "    for i in range(6):\n",
    "        corr.append(scipy.stats.pearsonr(pre_velo[:,i],gt_velo[:,i])[0])\n",
    "    \n",
    "    ## print regvelo performance\n",
    "    velo_velovi.append(np.mean(corr))\n",
    "    print(\"veloVI: \"+str(np.mean(corr)))\n",
    "    \n",
    "    print(\"Velocity: \"+\"RegVelo: \"+str(velo_rgv[len(velo_rgv)-1])+\" veloVI: \"+str(velo_velovi[len(velo_velovi)-1])+\" scVelo: \"+str(velo_scv[len(velo_scv)-1]))"
   ]
  },
  {
   "cell_type": "code",
   "execution_count": 12,
   "id": "7677d0ad-c0f4-4f10-bb98-13a865d869bf",
   "metadata": {},
   "outputs": [],
   "source": [
    "dat = pd.DataFrame({\"RegVelo\":velo_rgv,\"scVelo\":velo_scv,\"veloVI\":velo_velovi})\n",
    "if SAVE_DATASETS:\n",
    "    dat.to_csv(DATA_DIR / 'simulation' / 'toy_GRN' / 'velocity_benchmark.csv')"
   ]
  },
  {
   "cell_type": "code",
   "execution_count": null,
   "id": "dfc245ad-2af4-455f-b776-8b0afcbd01e8",
   "metadata": {},
   "outputs": [],
   "source": []
  }
 ],
 "metadata": {
  "kernelspec": {
   "display_name": "Python [conda env:celloracle_env]",
   "language": "python",
   "name": "conda-env-celloracle_env-py"
  },
  "language_info": {
   "codemirror_mode": {
    "name": "ipython",
    "version": 3
   },
   "file_extension": ".py",
   "mimetype": "text/x-python",
   "name": "python",
   "nbconvert_exporter": "python",
   "pygments_lexer": "ipython3",
   "version": "3.8.19"
  }
 },
 "nbformat": 4,
 "nbformat_minor": 5
}
