{
 "cells": [
  {
   "cell_type": "markdown",
   "id": "f81be2bc-c32f-461d-b563-dca58e06bc37",
   "metadata": {},
   "source": [
    "# Plot the results of Toy simulate results"
   ]
  },
  {
   "cell_type": "markdown",
   "id": "68545789-f4a6-4995-88c4-41252ef38833",
   "metadata": {},
   "source": [
    "## Library imports"
   ]
  },
  {
   "cell_type": "code",
   "execution_count": 1,
   "id": "993ae942-717e-4642-b0d6-6b5964cc689e",
   "metadata": {},
   "outputs": [],
   "source": [
    "import numpy as np\n",
    "import pandas as pd\n",
    "from scipy.stats import ttest_ind\n",
    "\n",
    "import matplotlib as mpl\n",
    "import matplotlib.pyplot as plt\n",
    "import mplscience\n",
    "import seaborn as sns\n",
    "\n",
    "import scvelo as scv\n",
    "\n",
    "from rgv_tools import DATA_DIR, FIG_DIR"
   ]
  },
  {
   "cell_type": "markdown",
   "id": "ec6daf21-da5d-48b4-96d4-d359db408d3f",
   "metadata": {},
   "source": [
    "## General settings"
   ]
  },
  {
   "cell_type": "code",
   "execution_count": null,
   "id": "26506ca6",
   "metadata": {},
   "outputs": [],
   "source": [
    "plt.rcParams[\"svg.fonttype\"] = \"none\"\n",
    "plt.rcParams[\"svg.fonttype\"] = \"none\""
   ]
  },
  {
   "cell_type": "code",
   "execution_count": 3,
   "id": "3c825fdd-368b-4c88-a404-0a81d216378d",
   "metadata": {},
   "outputs": [],
   "source": [
    "sns.reset_defaults()\n",
    "sns.reset_orig()"
   ]
  },
  {
   "cell_type": "code",
   "execution_count": 5,
   "id": "1a01d433-0ca2-4d3f-8dc9-cc24ac668d3e",
   "metadata": {
    "lines_to_next_cell": 2
   },
   "outputs": [],
   "source": [
    "mpl.rcParams.update({\"font.size\": 14})"
   ]
  },
  {
   "cell_type": "code",
   "execution_count": null,
   "id": "df0ad76e",
   "metadata": {},
   "outputs": [],
   "source": [
    "scv.settings.set_figure_params(\"scvelo\", dpi_save=400, dpi=80, transparent=True, fontsize=20, color_map=\"viridis\")"
   ]
  },
  {
   "cell_type": "code",
   "execution_count": 4,
   "id": "a8d5bfa9-1cd6-4d06-8f72-616d533250f8",
   "metadata": {},
   "outputs": [],
   "source": [
    "SAVE_FIGURES = True\n",
    "if SAVE_FIGURES:\n",
    "    (FIG_DIR / \"simulation\" / \"toy_GRN\").mkdir(parents=True, exist_ok=True)\n",
    "\n",
    "SAVE_DATASETS = True\n",
    "if SAVE_DATASETS:\n",
    "    (DATA_DIR / \"simulation\" / \"toy_GRN\").mkdir(parents=True, exist_ok=True)"
   ]
  },
  {
   "cell_type": "markdown",
   "id": "fe901ca5-ba2e-420c-94f4-e4da776891b4",
   "metadata": {
    "lines_to_next_cell": 2
   },
   "source": [
    "## Function definitions"
   ]
  },
  {
   "cell_type": "code",
   "execution_count": 6,
   "id": "c1176115-a79a-43cc-a683-165e8dc4a6a6",
   "metadata": {},
   "outputs": [],
   "source": [
    "def get_significance(pvalue):\n",
    "    \"\"\"TODO.\"\"\"\n",
    "    if pvalue < 0.001:\n",
    "        return \"***\"\n",
    "    elif pvalue < 0.01:\n",
    "        return \"**\"\n",
    "    elif pvalue < 0.1:\n",
    "        return \"*\"\n",
    "    else:\n",
    "        return \"n.s.\""
   ]
  },
  {
   "cell_type": "code",
   "execution_count": null,
   "id": "9b29f643",
   "metadata": {},
   "outputs": [],
   "source": [
    "def add_significance2(ax, bottom: int, top: int, significance: str, level: int = 0, **kwargs):\n",
    "    \"\"\"TODO.\"\"\"\n",
    "    bracket_level = kwargs.pop(\"bracket_level\", 1)\n",
    "    bracket_height = kwargs.pop(\"bracket_height\", 0.02)\n",
    "    text_height = kwargs.pop(\"text_height\", 0.01)\n",
    "\n",
    "    left, right = ax.get_xlim()\n",
    "    x_axis_range = right - left\n",
    "\n",
    "    bracket_level = (x_axis_range * 0.07 * level) + right * bracket_level\n",
    "    bracket_height = bracket_level - (x_axis_range * bracket_height)\n",
    "\n",
    "    ax.plot([bracket_height, bracket_level, bracket_level, bracket_height], [bottom, bottom, top, top], **kwargs)\n",
    "\n",
    "    ax.text(\n",
    "        bracket_level + (x_axis_range * text_height),\n",
    "        (bottom + top) * 0.5,\n",
    "        significance,\n",
    "        va=\"center\",\n",
    "        ha=\"left\",\n",
    "        c=\"k\",\n",
    "        rotation=90,\n",
    "    )"
   ]
  },
  {
   "cell_type": "markdown",
   "id": "8270dec6-d55f-452c-8315-71995a8f937e",
   "metadata": {},
   "source": [
    "## Data loading"
   ]
  },
  {
   "cell_type": "markdown",
   "id": "a709ea2f-a942-4be5-8d97-0842a6301017",
   "metadata": {},
   "source": [
    "### latent time correlation benchmark"
   ]
  },
  {
   "cell_type": "code",
   "execution_count": 7,
   "id": "d06f29bf-96c7-4093-926f-15fafa3c3f79",
   "metadata": {},
   "outputs": [],
   "source": [
    "latent_time_df = pd.read_csv(DATA_DIR / \"simulation\" / \"toy_GRN\" / \"latent_time_benchmark_result.csv\", index_col=0)\n",
    "latent_time_df.head()"
   ]
  },
  {
   "cell_type": "code",
   "execution_count": null,
   "id": "a28535fd-c9f4-4386-9435-6f5dc41b145e",
   "metadata": {},
   "outputs": [],
   "source": [
    "with mplscience.style_context():\n",
    "    sns.set_style(style=\"whitegrid\")\n",
    "    fig, ax = plt.subplots(figsize=(3, 2))\n",
    "    # Set font size for all elements\n",
    "    colors = sns.color_palette(\"colorblind\", n_colors=3)\n",
    "    colors = colors + [\"lightgrey\"] * 1\n",
    "\n",
    "    sns.violinplot(y=\"Model\", x=\"Time\", data=latent_time_df, palette=colors, ax=ax)\n",
    "\n",
    "    ttest_res = ttest_ind(\n",
    "        latent_time_df.loc[latent_time_df.loc[:, \"Model\"] == \"RegVelo\", \"Time\"],\n",
    "        latent_time_df.loc[latent_time_df.loc[:, \"Model\"] == \"scVelo\", \"Time\"],\n",
    "        equal_var=False,\n",
    "        alternative=\"greater\",\n",
    "    )\n",
    "    significance = get_significance(ttest_res.pvalue)\n",
    "    add_significance2(\n",
    "        ax=ax,\n",
    "        bottom=0,\n",
    "        top=2,\n",
    "        significance=significance,\n",
    "        lw=1,\n",
    "        bracket_level=1.05,\n",
    "        c=\"k\",\n",
    "        level=0,\n",
    "    )\n",
    "\n",
    "    plt.ylabel(\"\")\n",
    "    plt.xlabel(\"Spearman correlation\")\n",
    "\n",
    "    if SAVE_FIGURES:\n",
    "        fig.savefig(\n",
    "            FIG_DIR / \"simulation\" / \"toy_GRN\" / \"latent_time.svg\", format=\"svg\", transparent=True, bbox_inches=\"tight\"\n",
    "        )"
   ]
  },
  {
   "cell_type": "markdown",
   "id": "0cb3ae3b-f4a5-4022-b7c3-3df99dc10cdb",
   "metadata": {},
   "source": [
    "### GRN benchmark"
   ]
  },
  {
   "cell_type": "code",
   "execution_count": 10,
   "id": "29e4d357-b4ce-492d-8f60-d44cbc52adb9",
   "metadata": {},
   "outputs": [],
   "source": [
    "grn_df = pd.read_csv(DATA_DIR / \"simulation\" / \"toy_GRN\" / \"GRN_benchmark_result.csv\", index_col=0)\n",
    "grn_df.head()"
   ]
  },
  {
   "cell_type": "code",
   "execution_count": null,
   "id": "5b6fa0c1-c487-48fe-873c-fab236ae4dcc",
   "metadata": {},
   "outputs": [],
   "source": [
    "with mplscience.style_context():\n",
    "    sns.set_style(style=\"whitegrid\")\n",
    "    fig, ax = plt.subplots(figsize=(3, 2))\n",
    "\n",
    "    mpl.rcParams.update({\"font.size\": 14})\n",
    "\n",
    "    # Then, create the grouped boxplot\n",
    "    sns.violinplot(y=\"Model\", x=\"GRN\", data=grn_df, color=\"lightpink\", ax=ax)\n",
    "\n",
    "    ttest_res = ttest_ind(\n",
    "        grn_df.loc[grn_df.loc[:, \"Model\"] == \"RegVelo\", \"GRN\"],\n",
    "        grn_df.loc[grn_df.loc[:, \"Model\"] == \"Correlation\", \"GRN\"],\n",
    "        equal_var=False,\n",
    "        alternative=\"greater\",\n",
    "    )\n",
    "    significance = get_significance(ttest_res.pvalue)\n",
    "    add_significance2(\n",
    "        ax=ax,\n",
    "        bottom=0,\n",
    "        top=1,\n",
    "        significance=significance,\n",
    "        lw=1,\n",
    "        bracket_level=1.05,\n",
    "        c=\"k\",\n",
    "        level=0,\n",
    "    )\n",
    "\n",
    "    plt.ylabel(\"\")\n",
    "    plt.xlabel(\"AUROC\")\n",
    "\n",
    "    if SAVE_FIGURES:\n",
    "        fig.savefig(\n",
    "            FIG_DIR / \"simulation\" / \"toy_GRN\" / \"GRN_benchmark.svg\",\n",
    "            format=\"svg\",\n",
    "            transparent=True,\n",
    "            bbox_inches=\"tight\",\n",
    "        )"
   ]
  },
  {
   "cell_type": "markdown",
   "id": "ea89b9d2-c687-4033-8972-040ee21903e7",
   "metadata": {},
   "source": [
    "### Velocity correlation"
   ]
  },
  {
   "cell_type": "code",
   "execution_count": 13,
   "id": "c25700e2-8c75-449b-b2d0-ad531f701712",
   "metadata": {},
   "outputs": [],
   "source": [
    "velo_df = pd.read_csv(DATA_DIR / \"simulation\" / \"toy_GRN\" / \"velocity_benchmark.csv\", index_col=0)\n",
    "velo_df.head()"
   ]
  },
  {
   "cell_type": "code",
   "execution_count": 14,
   "id": "a7d191b8-4b5e-4ab7-be9b-e58cf4c6be7b",
   "metadata": {},
   "outputs": [],
   "source": [
    "velo_rgv = velo_df[\"RegVelo\"]\n",
    "velo_velovi = velo_df[\"veloVI\"]\n",
    "velo_scv = velo_df[\"scVelo\"]"
   ]
  },
  {
   "cell_type": "code",
   "execution_count": 15,
   "id": "7ac7f19f-b894-4d81-ac8a-80c90ba210cd",
   "metadata": {},
   "outputs": [],
   "source": [
    "velo_df = pd.DataFrame(\n",
    "    {\n",
    "        \"Velo_cor\": np.array(velo_rgv).tolist() + np.array(velo_velovi).tolist() + np.array(velo_scv).tolist(),\n",
    "        \"Model\": [\"RegVelo\"] * 100 + [\"veloVI\"] * 100 + [\"scVelo\"] * 100,\n",
    "    }\n",
    ")"
   ]
  },
  {
   "cell_type": "code",
   "execution_count": null,
   "id": "8692e811-077c-4079-b602-ec573551ff51",
   "metadata": {},
   "outputs": [],
   "source": [
    "with mplscience.style_context():\n",
    "    sns.set_style(style=\"whitegrid\")\n",
    "    fig, ax = plt.subplots(figsize=(3, 2))\n",
    "    # pal = {\"RegVelo\":\"#f3e1eb\",\"veloVI\":\"#b5bbe3\",\"scVelo\":\"#0fcfc0\"}\n",
    "    sns.violinplot(data=velo_df, y=\"Model\", x=\"Velo_cor\", ax=ax)\n",
    "    plt.ylabel(\"\")\n",
    "    plt.xlabel(\"Pearson correlation\")\n",
    "\n",
    "    ttest_res = ttest_ind(\n",
    "        velo_rgv,\n",
    "        velo_velovi,\n",
    "        alternative=\"greater\",\n",
    "    )\n",
    "    significance = get_significance(ttest_res.pvalue)\n",
    "    add_significance2(\n",
    "        ax=ax,\n",
    "        bottom=0,\n",
    "        top=1,\n",
    "        significance=significance,\n",
    "        lw=1,\n",
    "        bracket_level=1.05,\n",
    "        c=\"k\",\n",
    "        level=0,\n",
    "    )\n",
    "\n",
    "    ttest_res = ttest_ind(\n",
    "        velo_rgv,\n",
    "        velo_scv,\n",
    "        alternative=\"greater\",\n",
    "    )\n",
    "    significance = get_significance(ttest_res.pvalue)\n",
    "    add_significance2(\n",
    "        ax=ax,\n",
    "        bottom=0,\n",
    "        top=2,\n",
    "        significance=significance,\n",
    "        lw=1,\n",
    "        bracket_level=1.05,\n",
    "        c=\"k\",\n",
    "        level=0,\n",
    "    )\n",
    "\n",
    "    if SAVE_FIGURES:\n",
    "        fig.savefig(\n",
    "            FIG_DIR / \"simulation\" / \"toy_GRN\" / \"Velocity_benchmark.svg\",\n",
    "            format=\"svg\",\n",
    "            transparent=True,\n",
    "            bbox_inches=\"tight\",\n",
    "        )"
   ]
  }
 ],
 "metadata": {
  "kernelspec": {
   "display_name": "Python [conda env:RegVelo]",
   "language": "python",
   "name": "conda-env-RegVelo-py"
  },
  "language_info": {
   "codemirror_mode": {
    "name": "ipython",
    "version": 3
   },
   "file_extension": ".py",
   "mimetype": "text/x-python",
   "name": "python",
   "nbconvert_exporter": "python",
   "pygments_lexer": "ipython3",
   "version": "3.9.15"
  }
 },
 "nbformat": 4,
 "nbformat_minor": 5
}
