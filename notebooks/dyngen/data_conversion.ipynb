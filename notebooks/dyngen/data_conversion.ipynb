{
 "cells": [
  {
   "attachments": {},
   "cell_type": "markdown",
   "id": "0a1042cd",
   "metadata": {},
   "source": [
    "# A descriptive title\n",
    "\n",
    "A short description of what this notebook is doing."
   ]
  },
  {
   "cell_type": "markdown",
   "id": "a486fec1",
   "metadata": {},
   "source": [
    "## Library imports"
   ]
  },
  {
   "cell_type": "code",
   "execution_count": 1,
   "id": "fd119f55-1837-43ca-8368-e12c55652f2b",
   "metadata": {},
   "outputs": [
    {
     "name": "stderr",
     "output_type": "stream",
     "text": [
      "/vol/storage/miniforge3/envs/regvelo-py310/lib/python3.10/site-packages/anndata/utils.py:429: FutureWarning: Importing read_csv from `anndata` is deprecated. Import anndata.io.read_csv instead.\n",
      "  warnings.warn(msg, FutureWarning)\n",
      "/vol/storage/miniforge3/envs/regvelo-py310/lib/python3.10/site-packages/anndata/utils.py:429: FutureWarning: Importing read_excel from `anndata` is deprecated. Import anndata.io.read_excel instead.\n",
      "  warnings.warn(msg, FutureWarning)\n",
      "/vol/storage/miniforge3/envs/regvelo-py310/lib/python3.10/site-packages/anndata/utils.py:429: FutureWarning: Importing read_hdf from `anndata` is deprecated. Import anndata.io.read_hdf instead.\n",
      "  warnings.warn(msg, FutureWarning)\n",
      "/vol/storage/miniforge3/envs/regvelo-py310/lib/python3.10/site-packages/anndata/utils.py:429: FutureWarning: Importing read_loom from `anndata` is deprecated. Import anndata.io.read_loom instead.\n",
      "  warnings.warn(msg, FutureWarning)\n",
      "/vol/storage/miniforge3/envs/regvelo-py310/lib/python3.10/site-packages/anndata/utils.py:429: FutureWarning: Importing read_mtx from `anndata` is deprecated. Import anndata.io.read_mtx instead.\n",
      "  warnings.warn(msg, FutureWarning)\n",
      "/vol/storage/miniforge3/envs/regvelo-py310/lib/python3.10/site-packages/anndata/utils.py:429: FutureWarning: Importing read_text from `anndata` is deprecated. Import anndata.io.read_text instead.\n",
      "  warnings.warn(msg, FutureWarning)\n",
      "/vol/storage/miniforge3/envs/regvelo-py310/lib/python3.10/site-packages/anndata/utils.py:429: FutureWarning: Importing read_umi_tools from `anndata` is deprecated. Import anndata.io.read_umi_tools instead.\n",
      "  warnings.warn(msg, FutureWarning)\n"
     ]
    }
   ],
   "source": [
    "from tqdm import tqdm\n",
    "\n",
    "import numpy as np\n",
    "import pandas as pd\n",
    "from numpy.typing import ArrayLike\n",
    "\n",
    "import anndata as ad\n",
    "import scanpy as sc\n",
    "import scvelo as scv\n",
    "from anndata import AnnData\n",
    "from velovi import preprocess_data\n",
    "\n",
    "from rgv_tools import DATA_DIR"
   ]
  },
  {
   "attachments": {},
   "cell_type": "markdown",
   "id": "b6b48f3e-9560-47d4-bd6d-25aa5db08c13",
   "metadata": {},
   "source": [
    "## General settings"
   ]
  },
  {
   "cell_type": "code",
   "execution_count": 2,
   "id": "d83dfd1f-3a26-4e26-a06e-26a975e4a48f",
   "metadata": {},
   "outputs": [],
   "source": [
    "SAVE_DATA = False"
   ]
  },
  {
   "cell_type": "code",
   "execution_count": 3,
   "id": "24d22de2",
   "metadata": {},
   "outputs": [],
   "source": [
    "scv.settings.verbosity = 0"
   ]
  },
  {
   "cell_type": "markdown",
   "id": "e4b7e465",
   "metadata": {},
   "source": [
    "## Function definitions"
   ]
  },
  {
   "cell_type": "code",
   "execution_count": null,
   "id": "451a2efa",
   "metadata": {},
   "outputs": [],
   "source": [
    "def update_data(adata: AnnData) -> None:\n",
    "    \"\"\"Update dyngen-simulated data to include only relevant information in the standard format.\"\"\"\n",
    "    adata.X = adata.layers[\"counts_spliced\"]\n",
    "\n",
    "    adata.layers[\"unspliced\"] = adata.layers.pop(\"counts_unspliced\")\n",
    "    adata.layers[\"spliced\"] = adata.layers.pop(\"counts_spliced\")\n",
    "    adata.layers[\"true_velocity\"] = adata.layers.pop(\"rna_velocity\")\n",
    "    adata.layers[\"true_velocity\"] = adata.layers[\"true_velocity\"].toarray()\n",
    "    del adata.layers[\"counts_protein\"]\n",
    "    del adata.layers[\"logcounts\"]\n",
    "\n",
    "    adata.obs.rename(columns={\"sim_time\": \"true_time\"}, inplace=True)\n",
    "    adata.obs.drop(columns=[\"step_ix\", \"simulation_i\"], inplace=True)\n",
    "\n",
    "    adata.var.rename(columns={\"transcription_rate\": \"true_alpha\", \"splicing_rate\": \"true_beta\", \"mrna_decay_rate\": \"true_gamma\"}, inplace=True)\n",
    "    columns_to_keep = [\"true_alpha\", \"true_beta\", \"true_gamma\", \"is_tf\"]\n",
    "    adata.var.drop(columns=adata.var.columns.difference(columns_to_keep), inplace=True)\n",
    "\n",
    "    slots = list(adata.uns.keys())\n",
    "    for slot in slots:\n",
    "        if slot in [\"network\", \"regulatory_network\", \"skeleton\", \"regulators\", \"targets\"]:\n",
    "            adata.uns[f\"true_{slot}\"] = adata.uns.pop(slot)\n",
    "        else:\n",
    "            del adata.uns[slot]\n",
    "\n",
    "    adata.obsm[\"true_sc_network\"] = adata.obsm.pop(\"regulatory_network_sc\")\n",
    "    del adata.obsm[\"dimred\"]\n",
    "\n",
    "    adata.obs_names = adata.obs_names.str.replace(\"cell\", \"cell_\")"
   ]
  },
  {
   "cell_type": "code",
   "execution_count": 5,
   "id": "d9bcb888",
   "metadata": {},
   "outputs": [],
   "source": [
    "def get_sc_grn(adata: AnnData) -> ArrayLike:\n",
    "    \"\"\"Compute cell-specific GRNs.\"\"\"\n",
    "    true_sc_grn = []\n",
    "\n",
    "    for cell_id in range(adata.n_obs):\n",
    "        grn = np.zeros([adata.n_vars, adata.n_vars])\n",
    "        df = adata.uns[\"true_regulatory_network\"][[\"regulator\", \"target\"]].copy()\n",
    "        df[\"value\"] = adata.obsm[\"true_sc_network\"][cell_id, :].toarray().squeeze()\n",
    "\n",
    "        df = pd.pivot(df, index=\"regulator\", columns=\"target\", values=\"value\").fillna(0)\n",
    "        grn[np.ix_(adata.var_names.get_indexer(df.index), adata.var_names.get_indexer(df.columns))] = df.values\n",
    "        true_sc_grn.append(grn)\n",
    "    return np.dstack(true_sc_grn)"
   ]
  },
  {
   "attachments": {},
   "cell_type": "markdown",
   "id": "01d6a832-9635-4888-8364-3e5736c8d8af",
   "metadata": {},
   "source": [
    "## Data loading"
   ]
  },
  {
   "cell_type": "code",
   "execution_count": 6,
   "id": "9af14e65",
   "metadata": {},
   "outputs": [
    {
     "name": "stderr",
     "output_type": "stream",
     "text": [
      "0it [00:00, ?it/s]2024-11-11 17:03:09.826117: E external/local_xla/xla/stream_executor/cuda/cuda_fft.cc:477] Unable to register cuFFT factory: Attempting to register factory for plugin cuFFT when one has already been registered\n",
      "WARNING: All log messages before absl::InitializeLog() is called are written to STDERR\n",
      "E0000 00:00:1731344589.848311  290508 cuda_dnn.cc:8310] Unable to register cuDNN factory: Attempting to register factory for plugin cuDNN when one has already been registered\n",
      "E0000 00:00:1731344589.855210  290508 cuda_blas.cc:1418] Unable to register cuBLAS factory: Attempting to register factory for plugin cuBLAS when one has already been registered\n",
      "51it [01:25,  1.68s/it]\n"
     ]
    }
   ],
   "source": [
    "for filename in tqdm((DATA_DIR / \"dyngen\" / \"raw\").iterdir()):\n",
    "    if filename.suffix != \".h5ad\":\n",
    "        continue\n",
    "\n",
    "    adata = ad.io.read_h5ad(filename)\n",
    "\n",
    "    update_data(adata=adata)\n",
    "    adata.uns[\"true_sc_grn\"] = get_sc_grn(adata=adata)\n",
    "\n",
    "    simulation_id = int(filename.stem.removeprefix(\"dataset_sim\"))\n",
    "\n",
    "    scv.pp.filter_and_normalize(adata, min_shared_counts=10, log=False)\n",
    "    sc.pp.log1p(adata)\n",
    "    sc.tl.pca(adata)\n",
    "    sc.pp.neighbors(adata, n_neighbors=30, n_pcs=30)\n",
    "    scv.pp.moments(adata)\n",
    "\n",
    "    adata = preprocess_data(adata, filter_on_r2=True)\n",
    "\n",
    "    mask = pd.Index(adata.uns[\"true_regulators\"]).isin(adata.var_names)\n",
    "    for uns_key in [\"network\", \"skeleton\", \"sc_grn\"]:\n",
    "        adata.uns[f\"true_{uns_key}\"] = adata.uns[f\"true_{uns_key}\"][np.ix_(mask, mask)]\n",
    "\n",
    "    adata.write_zarr(DATA_DIR / \"dyngen\" / \"processed\" / f\"simulation_{simulation_id}.zarr\")"
   ]
  }
 ],
 "metadata": {
  "kernelspec": {
   "display_name": "regvelo-py310",
   "language": "python",
   "name": "python3"
  },
  "language_info": {
   "codemirror_mode": {
    "name": "ipython",
    "version": 3
   },
   "file_extension": ".py",
   "mimetype": "text/x-python",
   "name": "python",
   "nbconvert_exporter": "python",
   "pygments_lexer": "ipython3",
   "version": "3.10.15"
  }
 },
 "nbformat": 4,
 "nbformat_minor": 5
}
