{
 "cells": [
  {
   "cell_type": "markdown",
   "metadata": {},
   "source": [
    "# Calculate velocity and latent time using cell2fate"
   ]
  },
  {
   "cell_type": "markdown",
   "metadata": {},
   "source": [
    "## Library imports"
   ]
  },
  {
   "cell_type": "code",
   "execution_count": null,
   "metadata": {},
   "outputs": [],
   "source": [
    "import contextlib\n",
    "import io\n",
    "\n",
    "import torch\n",
    "\n",
    "import cell2fate as c2f\n",
    "import scanpy as sc\n",
    "import scvelo as scv\n",
    "\n",
    "from rgv_tools import DATA_DIR, FIG_DIR"
   ]
  },
  {
   "cell_type": "markdown",
   "metadata": {},
   "source": [
    "## General settings"
   ]
  },
  {
   "cell_type": "code",
   "execution_count": 2,
   "metadata": {},
   "outputs": [],
   "source": [
    "SAVE_FIGURES = True\n",
    "if SAVE_FIGURES:\n",
    "    (FIG_DIR / \"simulation\").mkdir(parents=True, exist_ok=True)\n",
    "\n",
    "SAVE_DATASETS = True\n",
    "if SAVE_DATASETS:\n",
    "    (DATA_DIR / \"simulation\").mkdir(parents=True, exist_ok=True)"
   ]
  },
  {
   "cell_type": "markdown",
   "metadata": {
    "lines_to_next_cell": 2
   },
   "source": [
    "## Function definitions"
   ]
  },
  {
   "cell_type": "code",
   "execution_count": 4,
   "metadata": {},
   "outputs": [],
   "source": [
    "# Function for train model and get output\n",
    "def train_c2f_model(adata):\n",
    "    \"\"\"TODO.\"\"\"\n",
    "    c2f.Cell2fate_DynamicalModel.setup_anndata(adata, spliced_label=\"spliced\", unspliced_label=\"unspliced\")\n",
    "    n_modules = c2f.utils.get_max_modules(adata)\n",
    "    mod = c2f.Cell2fate_DynamicalModel(adata, n_modules=n_modules)\n",
    "    mod.train()\n",
    "    # Compute total velocity\n",
    "    n_modules = c2f.utils.get_max_modules(adata)\n",
    "    c2f.Cell2fate_DynamicalModel.setup_anndata(adata, spliced_label=\"spliced\", unspliced_label=\"unspliced\")\n",
    "    mod.export_posterior(adata)\n",
    "    adata = mod.compute_module_summary_statistics(adata)\n",
    "    with contextlib.redirect_stdout(io.StringIO()):\n",
    "        adata.layers[\"Spliced Mean\"] = mod.samples[\"post_sample_means\"][\"mu_expression\"][..., 1]\n",
    "        c2f_velocity = (\n",
    "            torch.tensor(mod.samples[\"post_sample_means\"][\"beta_g\"])\n",
    "            * mod.samples[\"post_sample_means\"][\"mu_expression\"][..., 0]\n",
    "            - torch.tensor(mod.samples[\"post_sample_means\"][\"gamma_g\"])\n",
    "            * mod.samples[\"post_sample_means\"][\"mu_expression\"][..., 1]\n",
    "        )\n",
    "        adata.layers[\"Velocity\"] = c2f_velocity.numpy()\n",
    "    return adata"
   ]
  },
  {
   "cell_type": "markdown",
   "metadata": {},
   "source": [
    "## Data loading"
   ]
  },
  {
   "cell_type": "code",
   "execution_count": null,
   "metadata": {},
   "outputs": [],
   "source": [
    "adata = sc.read_h5ad(DATA_DIR / \"TODO.h5ad\")\n",
    "adata"
   ]
  },
  {
   "cell_type": "markdown",
   "metadata": {},
   "source": [
    "## Data preprocessing"
   ]
  },
  {
   "cell_type": "code",
   "execution_count": null,
   "metadata": {},
   "outputs": [],
   "source": [
    "adata.X = adata.X.A\n",
    "\n",
    "adata.layers[\"spliced\"] = adata.layers[\"counts_spliced\"].A.copy()\n",
    "adata.layers[\"unspliced\"] = adata.layers[\"counts_unspliced\"].A.copy()\n",
    "adata.layers[\"raw_spliced\"] = adata.layers[\"spliced\"]\n",
    "adata.layers[\"raw_unspliced\"] = adata.layers[\"unspliced\"]\n",
    "\n",
    "adata.obs[\"u_lib_size_raw\"] = adata.layers[\"raw_unspliced\"].sum(-1)\n",
    "adata.obs[\"s_lib_size_raw\"] = adata.layers[\"raw_spliced\"].sum(-1)\n",
    "\n",
    "adata"
   ]
  },
  {
   "cell_type": "code",
   "execution_count": null,
   "metadata": {},
   "outputs": [],
   "source": [
    "scv.pp.filter_and_normalize(adata, min_shared_counts=10, n_top_genes=90)\n",
    "sc.tl.pca(adata)\n",
    "sc.pp.neighbors(adata)\n",
    "adata"
   ]
  },
  {
   "cell_type": "code",
   "execution_count": null,
   "metadata": {},
   "outputs": [],
   "source": [
    "sc.tl.umap(adata)\n",
    "sc.tl.leiden(adata)\n",
    "adata"
   ]
  },
  {
   "cell_type": "code",
   "execution_count": null,
   "metadata": {},
   "outputs": [],
   "source": [
    "# scv.pp.moments(adata, n_pcs=30, n_neighbors=30)\n",
    "adata.layers[\"spliced\"] = adata.layers[\"counts_spliced\"].A.copy()\n",
    "adata.layers[\"unspliced\"] = adata.layers[\"counts_unspliced\"].A.copy()\n",
    "adata = c2f.utils.get_training_data(\n",
    "    adata, cells_per_cluster=100, cluster_column=\"leiden\", remove_clusters=[], min_shared_counts=10, n_var_genes=90\n",
    ")"
   ]
  },
  {
   "cell_type": "markdown",
   "metadata": {},
   "source": [
    "## Data analysis"
   ]
  },
  {
   "cell_type": "code",
   "execution_count": null,
   "metadata": {},
   "outputs": [],
   "source": [
    "adata = train_c2f_model(adata)"
   ]
  },
  {
   "cell_type": "markdown",
   "metadata": {},
   "source": [
    "## Data saving"
   ]
  },
  {
   "cell_type": "code",
   "execution_count": 7,
   "metadata": {},
   "outputs": [],
   "source": [
    "# save the results\n",
    "if SAVE_DATASETS:\n",
    "    adata.write_h5ad(DATA_DIR / \"simulation\" / \"c2f_output.h5ad\")"
   ]
  }
 ],
 "metadata": {
  "kernelspec": {
   "display_name": "Python 3 (ipykernel)",
   "language": "python",
   "name": "python3"
  },
  "language_info": {
   "codemirror_mode": {
    "name": "ipython",
    "version": 3
   },
   "file_extension": ".py",
   "mimetype": "text/x-python",
   "name": "python",
   "nbconvert_exporter": "python",
   "pygments_lexer": "ipython3",
   "version": "3.9.19"
  }
 },
 "nbformat": 4,
 "nbformat_minor": 4
}
