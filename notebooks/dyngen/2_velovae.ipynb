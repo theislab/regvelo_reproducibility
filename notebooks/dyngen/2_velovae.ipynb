{
 "cells": [
  {
   "cell_type": "markdown",
   "id": "0a1042cd",
   "metadata": {},
   "source": [
    "# VeloVAE benchmark on dyngen data\n",
    "\n",
    "Notebook benchmarks velocity and latent time inference using VeloVAE on dyngen-generated data."
   ]
  },
  {
   "cell_type": "markdown",
   "id": "a486fec1",
   "metadata": {},
   "source": [
    "## Library imports"
   ]
  },
  {
   "cell_type": "code",
   "execution_count": 1,
   "id": "fd119f55-1837-43ca-8368-e12c55652f2b",
   "metadata": {},
   "outputs": [
    {
     "name": "stderr",
     "output_type": "stream",
     "text": [
      "2024-12-14 02:31:21.846239: I tensorflow/core/util/port.cc:153] oneDNN custom operations are on. You may see slightly different numerical results due to floating-point round-off errors from different computation orders. To turn them off, set the environment variable `TF_ENABLE_ONEDNN_OPTS=0`.\n",
      "2024-12-14 02:31:26.831024: E external/local_xla/xla/stream_executor/cuda/cuda_fft.cc:477] Unable to register cuFFT factory: Attempting to register factory for plugin cuFFT when one has already been registered\n",
      "WARNING: All log messages before absl::InitializeLog() is called are written to STDERR\n",
      "E0000 00:00:1734139887.884843 3085998 cuda_dnn.cc:8310] Unable to register cuDNN factory: Attempting to register factory for plugin cuDNN when one has already been registered\n",
      "E0000 00:00:1734139888.345119 3085998 cuda_blas.cc:1418] Unable to register cuBLAS factory: Attempting to register factory for plugin cuBLAS when one has already been registered\n",
      "2024-12-14 02:31:29.908273: I tensorflow/core/platform/cpu_feature_guard.cc:210] This TensorFlow binary is optimized to use available CPU instructions in performance-critical operations.\n",
      "To enable the following instructions: AVX2 AVX512F AVX512_VNNI FMA, in other operations, rebuild TensorFlow with the appropriate compiler flags.\n",
      "/home/icb/weixu.wang/miniconda3/envs/regvelo_test/lib/python3.10/site-packages/anndata/utils.py:429: FutureWarning: Importing read_csv from `anndata` is deprecated. Import anndata.io.read_csv instead.\n",
      "  warnings.warn(msg, FutureWarning)\n",
      "/home/icb/weixu.wang/miniconda3/envs/regvelo_test/lib/python3.10/site-packages/anndata/utils.py:429: FutureWarning: Importing read_excel from `anndata` is deprecated. Import anndata.io.read_excel instead.\n",
      "  warnings.warn(msg, FutureWarning)\n",
      "/home/icb/weixu.wang/miniconda3/envs/regvelo_test/lib/python3.10/site-packages/anndata/utils.py:429: FutureWarning: Importing read_hdf from `anndata` is deprecated. Import anndata.io.read_hdf instead.\n",
      "  warnings.warn(msg, FutureWarning)\n",
      "/home/icb/weixu.wang/miniconda3/envs/regvelo_test/lib/python3.10/site-packages/anndata/utils.py:429: FutureWarning: Importing read_loom from `anndata` is deprecated. Import anndata.io.read_loom instead.\n",
      "  warnings.warn(msg, FutureWarning)\n",
      "/home/icb/weixu.wang/miniconda3/envs/regvelo_test/lib/python3.10/site-packages/anndata/utils.py:429: FutureWarning: Importing read_mtx from `anndata` is deprecated. Import anndata.io.read_mtx instead.\n",
      "  warnings.warn(msg, FutureWarning)\n",
      "/home/icb/weixu.wang/miniconda3/envs/regvelo_test/lib/python3.10/site-packages/anndata/utils.py:429: FutureWarning: Importing read_text from `anndata` is deprecated. Import anndata.io.read_text instead.\n",
      "  warnings.warn(msg, FutureWarning)\n",
      "/home/icb/weixu.wang/miniconda3/envs/regvelo_test/lib/python3.10/site-packages/anndata/utils.py:429: FutureWarning: Importing read_umi_tools from `anndata` is deprecated. Import anndata.io.read_umi_tools instead.\n",
      "  warnings.warn(msg, FutureWarning)\n"
     ]
    }
   ],
   "source": [
    "import velovae as vv\n",
    "\n",
    "import numpy as np\n",
    "import pandas as pd\n",
    "import torch\n",
    "\n",
    "import anndata as ad\n",
    "import scvelo as scv\n",
    "\n",
    "from rgv_tools import DATA_DIR\n",
    "from rgv_tools.benchmarking import get_velocity_correlation"
   ]
  },
  {
   "cell_type": "markdown",
   "id": "28749b2f-2a8b-43ec-a5f7-1a7b87aac913",
   "metadata": {},
   "source": [
    "## General settings"
   ]
  },
  {
   "cell_type": "code",
   "execution_count": 2,
   "id": "0d0ff0d0-e885-4d6d-8a8c-70b41d5b4ecc",
   "metadata": {},
   "outputs": [],
   "source": [
    "scv.settings.verbosity = 3"
   ]
  },
  {
   "cell_type": "markdown",
   "id": "e2670fad",
   "metadata": {},
   "source": [
    "## Constants"
   ]
  },
  {
   "cell_type": "code",
   "execution_count": 3,
   "id": "b01ecc10-c241-4272-89d3-6354eb587caa",
   "metadata": {},
   "outputs": [],
   "source": [
    "torch.manual_seed(0)\n",
    "np.random.seed(0)"
   ]
  },
  {
   "cell_type": "code",
   "execution_count": 4,
   "id": "4049808f",
   "metadata": {},
   "outputs": [],
   "source": [
    "DATASET = \"dyngen\""
   ]
  },
  {
   "cell_type": "code",
   "execution_count": 5,
   "id": "af9f4b90",
   "metadata": {},
   "outputs": [],
   "source": [
    "SAVE_DATA = True\n",
    "if SAVE_DATA:\n",
    "    (DATA_DIR / DATASET / \"results\").mkdir(parents=True, exist_ok=True)\n",
    "    (DATA_DIR / DATASET / \"processed\" / \"velovae_vae\").mkdir(parents=True, exist_ok=True)"
   ]
  },
  {
   "cell_type": "markdown",
   "id": "a52d5add-d75b-4e84-8336-e9632460a818",
   "metadata": {},
   "source": [
    "## Velocity pipeline"
   ]
  },
  {
   "cell_type": "code",
   "execution_count": null,
   "id": "ba75641e",
   "metadata": {
    "collapsed": true,
    "tags": []
   },
   "outputs": [
    {
     "name": "stdout",
     "output_type": "stream",
     "text": [
      "Estimating ODE parameters...\n"
     ]
    },
    {
     "data": {
      "application/vnd.jupyter.widget-view+json": {
       "model_id": "275c08864440411197d04cd03f2065c0",
       "version_major": 2,
       "version_minor": 0
      },
      "text/plain": [
       "  0%|          | 0/105 [00:00<?, ?it/s]"
      ]
     },
     "metadata": {},
     "output_type": "display_data"
    },
    {
     "name": "stdout",
     "output_type": "stream",
     "text": [
      "Detected 59 velocity genes.\n",
      "Estimating the variance...\n"
     ]
    },
    {
     "data": {
      "application/vnd.jupyter.widget-view+json": {
       "model_id": "1433f8476bbb41cb8b2841467c16ab75",
       "version_major": 2,
       "version_minor": 0
      },
      "text/plain": [
       "  0%|          | 0/105 [00:00<?, ?it/s]"
      ]
     },
     "metadata": {},
     "output_type": "display_data"
    },
    {
     "name": "stdout",
     "output_type": "stream",
     "text": [
      "Initialization using the steady-state and dynamical models.\n",
      "Reinitialize the regular ODE parameters based on estimated global latent time.\n"
     ]
    },
    {
     "data": {
      "application/vnd.jupyter.widget-view+json": {
       "model_id": "617f0ea03f304057a6daef448947301c",
       "version_major": 2,
       "version_minor": 0
      },
      "text/plain": [
       "  0%|          | 0/105 [00:00<?, ?it/s]"
      ]
     },
     "metadata": {},
     "output_type": "display_data"
    },
    {
     "name": "stdout",
     "output_type": "stream",
     "text": [
      "3 clusters detected based on gene co-expression.\n",
      "(0.42, 0.2890740448785467), (0.58, 0.7827494240291312)\n",
      "KS-test result: [1. 0. 1.]\n",
      "Initial induction: 84, repression: 21/105\n",
      "Learning Rate based on Data Sparsity: 0.0001\n",
      "--------------------------- Train a VeloVAE ---------------------------\n",
      "*********        Creating Training/Validation Datasets        *********\n",
      "*********                      Finished.                      *********\n",
      "*********                 Creating optimizers                 *********\n",
      "*********                      Finished.                      *********\n",
      "*********                    Start training                   *********\n",
      "*********                      Stage  1                       *********\n",
      "Total Number of Iterations Per Epoch: 6, test iteration: 10\n",
      "*********                      Stage  2                       *********\n",
      "*********             Velocity Refinement Round 1             *********\n"
     ]
    },
    {
     "data": {
      "application/vnd.jupyter.widget-view+json": {
       "model_id": "99e6196195454c7d92e1c0396999bdf6",
       "version_major": 2,
       "version_minor": 0
      },
      "text/plain": [
       "  0%|          | 0/1000 [00:00<?, ?it/s]"
      ]
     },
     "metadata": {},
     "output_type": "display_data"
    },
    {
     "name": "stdout",
     "output_type": "stream",
     "text": [
      "Percentage of Invalid Sets: 0.035\n",
      "Average Set Size: 20\n",
      "*********     Round 1: Early Stop Triggered at epoch 1197.    *********\n",
      "Change in noise variance: 0.0522\n",
      "*********             Velocity Refinement Round 2             *********\n",
      "*********     Round 2: Early Stop Triggered at epoch 1284.    *********\n",
      "Change in noise variance: 0.0202\n",
      "Change in x0: 0.2577\n",
      "*********             Velocity Refinement Round 3             *********\n",
      "*********     Round 3: Early Stop Triggered at epoch 1558.    *********\n",
      "Change in noise variance: 0.0021\n",
      "Change in x0: 0.2075\n",
      "*********             Velocity Refinement Round 4             *********\n",
      "*********     Round 4: Early Stop Triggered at epoch 1659.    *********\n",
      "Change in noise variance: 0.0022\n",
      "Change in x0: 0.1758\n",
      "*********             Velocity Refinement Round 5             *********\n",
      "*********     Round 5: Early Stop Triggered at epoch 1696.    *********\n",
      "Change in noise variance: 0.0014\n",
      "Change in x0: 0.1505\n",
      "*********             Velocity Refinement Round 6             *********\n",
      "*********     Round 6: Early Stop Triggered at epoch 1848.    *********\n",
      "Change in noise variance: 0.0005\n",
      "Change in x0: 0.0920\n",
      "*********             Velocity Refinement Round 7             *********\n",
      "*********     Round 7: Early Stop Triggered at epoch 1897.    *********\n",
      "Change in noise variance: 0.0000\n",
      "Change in x0: 0.0793\n",
      "*********             Velocity Refinement Round 8             *********\n",
      "*********     Round 8: Early Stop Triggered at epoch 1904.    *********\n",
      "Change in noise variance: 0.0000\n",
      "Change in x0: 0.0672\n",
      "*********             Velocity Refinement Round 9             *********\n",
      "*********     Round 9: Early Stop Triggered at epoch 1985.    *********\n",
      "Change in noise variance: 0.0000\n",
      "Change in x0: 0.0616\n",
      "*********             Velocity Refinement Round 10             *********\n",
      "Stage 2: Early Stop Triggered at round 9.\n",
      "*********              Finished. Total Time =   0 h :  3 m : 28 s             *********\n",
      "Final: Train ELBO = 119.917,\tTest ELBO = 117.292\n",
      "Estimating ODE parameters...\n"
     ]
    },
    {
     "data": {
      "application/vnd.jupyter.widget-view+json": {
       "model_id": "3630de61a5e0435dab9112f0e155b833",
       "version_major": 2,
       "version_minor": 0
      },
      "text/plain": [
       "  0%|          | 0/59 [00:00<?, ?it/s]"
      ]
     },
     "metadata": {},
     "output_type": "display_data"
    },
    {
     "name": "stdout",
     "output_type": "stream",
     "text": [
      "Detected 25 velocity genes.\n",
      "Estimating the variance...\n"
     ]
    },
    {
     "data": {
      "application/vnd.jupyter.widget-view+json": {
       "model_id": "b66237958deb4c6ab2a810073f4d6d4a",
       "version_major": 2,
       "version_minor": 0
      },
      "text/plain": [
       "  0%|          | 0/59 [00:00<?, ?it/s]"
      ]
     },
     "metadata": {},
     "output_type": "display_data"
    },
    {
     "name": "stdout",
     "output_type": "stream",
     "text": [
      "Initialization using the steady-state and dynamical models.\n",
      "Reinitialize the regular ODE parameters based on estimated global latent time.\n"
     ]
    },
    {
     "data": {
      "application/vnd.jupyter.widget-view+json": {
       "model_id": "23913fa8929f4f1f949ed9d3cc3805b8",
       "version_major": 2,
       "version_minor": 0
      },
      "text/plain": [
       "  0%|          | 0/59 [00:00<?, ?it/s]"
      ]
     },
     "metadata": {},
     "output_type": "display_data"
    },
    {
     "name": "stdout",
     "output_type": "stream",
     "text": [
      "3 clusters detected based on gene co-expression.\n",
      "KS-test result: [1. 2. 1.]\n",
      "Initial induction: 35, repression: 24/59\n",
      "Learning Rate based on Data Sparsity: 0.0000\n",
      "--------------------------- Train a VeloVAE ---------------------------\n",
      "*********        Creating Training/Validation Datasets        *********\n",
      "*********                      Finished.                      *********\n",
      "*********                 Creating optimizers                 *********\n",
      "*********                      Finished.                      *********\n",
      "*********                    Start training                   *********\n",
      "*********                      Stage  1                       *********\n",
      "Total Number of Iterations Per Epoch: 3, test iteration: 4\n",
      "*********       Stage 1: Early Stop Triggered at epoch 9.       *********\n",
      "*********                      Stage  2                       *********\n",
      "*********             Velocity Refinement Round 1             *********\n"
     ]
    },
    {
     "data": {
      "application/vnd.jupyter.widget-view+json": {
       "model_id": "728ea51057b443e5ac7930f9fa995117",
       "version_major": 2,
       "version_minor": 0
      },
      "text/plain": [
       "  0%|          | 0/400 [00:00<?, ?it/s]"
      ]
     },
     "metadata": {},
     "output_type": "display_data"
    },
    {
     "name": "stdout",
     "output_type": "stream",
     "text": [
      "Percentage of Invalid Sets: 0.028\n",
      "Average Set Size: 18\n",
      "*********     Round 1: Early Stop Triggered at epoch 336.    *********\n",
      "Change in noise variance: 0.2841\n",
      "*********             Velocity Refinement Round 2             *********\n",
      "*********     Round 2: Early Stop Triggered at epoch 358.    *********\n",
      "Change in noise variance: 0.0281\n",
      "Change in x0: 0.3996\n",
      "*********             Velocity Refinement Round 3             *********\n",
      "*********     Round 3: Early Stop Triggered at epoch 372.    *********\n",
      "Change in noise variance: 0.0069\n",
      "Change in x0: 0.3231\n",
      "*********             Velocity Refinement Round 4             *********\n",
      "*********     Round 4: Early Stop Triggered at epoch 385.    *********\n",
      "Change in noise variance: 0.0288\n",
      "Change in x0: 0.2682\n",
      "*********             Velocity Refinement Round 5             *********\n",
      "*********     Round 5: Early Stop Triggered at epoch 396.    *********\n",
      "Change in noise variance: 0.0067\n",
      "Change in x0: 0.1960\n",
      "*********             Velocity Refinement Round 6             *********\n",
      "*********     Round 6: Early Stop Triggered at epoch 409.    *********\n",
      "Change in noise variance: 0.0044\n",
      "Change in x0: 0.1752\n",
      "*********             Velocity Refinement Round 7             *********\n",
      "*********     Round 7: Early Stop Triggered at epoch 422.    *********\n",
      "Change in noise variance: 0.0026\n",
      "Change in x0: 0.1730\n",
      "*********             Velocity Refinement Round 8             *********\n",
      "*********     Round 8: Early Stop Triggered at epoch 435.    *********\n",
      "Change in noise variance: 0.0023\n",
      "Change in x0: 0.1750\n",
      "*********             Velocity Refinement Round 9             *********\n",
      "*********     Round 9: Early Stop Triggered at epoch 446.    *********\n",
      "Change in noise variance: 0.0018\n",
      "Change in x0: 0.1787\n",
      "*********             Velocity Refinement Round 10             *********\n",
      "*********     Round 10: Early Stop Triggered at epoch 471.    *********\n",
      "Change in noise variance: 0.0013\n",
      "Change in x0: 0.1775\n",
      "*********             Velocity Refinement Round 11             *********\n",
      "*********     Round 11: Early Stop Triggered at epoch 488.    *********\n",
      "Change in noise variance: 0.0008\n",
      "Change in x0: 0.1746\n",
      "*********             Velocity Refinement Round 12             *********\n",
      "Stage 2: Early Stop Triggered at round 11.\n",
      "*********              Finished. Total Time =   0 h :  0 m : 33 s             *********\n",
      "Final: Train ELBO = -17687.199,\tTest ELBO = -17872.184\n",
      "Estimating ODE parameters...\n"
     ]
    },
    {
     "data": {
      "application/vnd.jupyter.widget-view+json": {
       "model_id": "e442fccad3c048828995ba77c372633e",
       "version_major": 2,
       "version_minor": 0
      },
      "text/plain": [
       "  0%|          | 0/86 [00:00<?, ?it/s]"
      ]
     },
     "metadata": {},
     "output_type": "display_data"
    },
    {
     "name": "stdout",
     "output_type": "stream",
     "text": [
      "Detected 37 velocity genes.\n",
      "Estimating the variance...\n"
     ]
    },
    {
     "data": {
      "application/vnd.jupyter.widget-view+json": {
       "model_id": "ba52f204085e4aa091bf3d0cb1b95d71",
       "version_major": 2,
       "version_minor": 0
      },
      "text/plain": [
       "  0%|          | 0/86 [00:00<?, ?it/s]"
      ]
     },
     "metadata": {},
     "output_type": "display_data"
    },
    {
     "name": "stdout",
     "output_type": "stream",
     "text": [
      "Initialization using the steady-state and dynamical models.\n",
      "Reinitialize the regular ODE parameters based on estimated global latent time.\n"
     ]
    },
    {
     "data": {
      "application/vnd.jupyter.widget-view+json": {
       "model_id": "c0d8abb9faf84fd085a407b988dabd08",
       "version_major": 2,
       "version_minor": 0
      },
      "text/plain": [
       "  0%|          | 0/86 [00:00<?, ?it/s]"
      ]
     },
     "metadata": {},
     "output_type": "display_data"
    },
    {
     "name": "stdout",
     "output_type": "stream",
     "text": [
      "3 clusters detected based on gene co-expression.\n",
      "(0.39, 0.1200757575748825), (0.61, 0.7766228691348986)\n",
      "KS-test result: [0. 1. 1.]\n",
      "Initial induction: 73, repression: 13/86\n",
      "Learning Rate based on Data Sparsity: 0.0000\n",
      "--------------------------- Train a VeloVAE ---------------------------\n",
      "*********        Creating Training/Validation Datasets        *********\n",
      "*********                      Finished.                      *********\n",
      "*********                 Creating optimizers                 *********\n",
      "*********                      Finished.                      *********\n",
      "*********                    Start training                   *********\n",
      "*********                      Stage  1                       *********\n",
      "Total Number of Iterations Per Epoch: 2, test iteration: 2\n",
      "*********       Stage 1: Early Stop Triggered at epoch 11.       *********\n",
      "*********                      Stage  2                       *********\n",
      "*********             Velocity Refinement Round 1             *********\n"
     ]
    },
    {
     "data": {
      "application/vnd.jupyter.widget-view+json": {
       "model_id": "0c30b1cf25bb438ca829b71bb594145a",
       "version_major": 2,
       "version_minor": 0
      },
      "text/plain": [
       "  0%|          | 0/300 [00:00<?, ?it/s]"
      ]
     },
     "metadata": {},
     "output_type": "display_data"
    },
    {
     "name": "stdout",
     "output_type": "stream",
     "text": [
      "Percentage of Invalid Sets: 0.027\n",
      "Average Set Size: 16\n",
      "*********     Round 1: Early Stop Triggered at epoch 17.    *********\n",
      "Change in noise variance: 0.3412\n",
      "*********             Velocity Refinement Round 2             *********\n",
      "*********     Round 2: Early Stop Triggered at epoch 22.    *********\n",
      "Change in noise variance: 0.0173\n",
      "Change in x0: 0.3557\n",
      "*********             Velocity Refinement Round 3             *********\n",
      "*********     Round 3: Early Stop Triggered at epoch 28.    *********\n",
      "Change in noise variance: 0.0057\n",
      "Change in x0: 0.1894\n",
      "*********             Velocity Refinement Round 4             *********\n",
      "*********     Round 4: Early Stop Triggered at epoch 34.    *********\n",
      "Change in noise variance: 0.0012\n",
      "Change in x0: 0.1652\n",
      "*********             Velocity Refinement Round 5             *********\n",
      "*********     Round 5: Early Stop Triggered at epoch 40.    *********\n",
      "Change in noise variance: 0.0009\n",
      "Change in x0: 0.1457\n",
      "*********             Velocity Refinement Round 6             *********\n",
      "*********     Round 6: Early Stop Triggered at epoch 46.    *********\n",
      "Change in noise variance: 0.0000\n",
      "Change in x0: 0.1203\n",
      "*********             Velocity Refinement Round 7             *********\n",
      "*********     Round 7: Early Stop Triggered at epoch 52.    *********\n",
      "Change in noise variance: 0.0000\n",
      "Change in x0: 0.1090\n",
      "*********             Velocity Refinement Round 8             *********\n",
      "*********     Round 8: Early Stop Triggered at epoch 58.    *********\n",
      "Change in noise variance: 0.0000\n",
      "Change in x0: 0.1062\n",
      "*********             Velocity Refinement Round 9             *********\n",
      "Stage 2: Early Stop Triggered at round 8.\n",
      "*********              Finished. Total Time =   0 h :  0 m : 18 s             *********\n",
      "Final: Train ELBO = -17602.459,\tTest ELBO = -17961.113\n",
      "Estimating ODE parameters...\n"
     ]
    },
    {
     "data": {
      "application/vnd.jupyter.widget-view+json": {
       "model_id": "c19ec64431d540ebbea2c91d5dd0ab81",
       "version_major": 2,
       "version_minor": 0
      },
      "text/plain": [
       "  0%|          | 0/81 [00:00<?, ?it/s]"
      ]
     },
     "metadata": {},
     "output_type": "display_data"
    },
    {
     "name": "stdout",
     "output_type": "stream",
     "text": [
      "Detected 35 velocity genes.\n",
      "Estimating the variance...\n"
     ]
    },
    {
     "data": {
      "application/vnd.jupyter.widget-view+json": {
       "model_id": "d4bd75809ce94a43b21bbca73e77f9cd",
       "version_major": 2,
       "version_minor": 0
      },
      "text/plain": [
       "  0%|          | 0/81 [00:00<?, ?it/s]"
      ]
     },
     "metadata": {},
     "output_type": "display_data"
    },
    {
     "name": "stdout",
     "output_type": "stream",
     "text": [
      "Initialization using the steady-state and dynamical models.\n",
      "Reinitialize the regular ODE parameters based on estimated global latent time.\n"
     ]
    },
    {
     "data": {
      "application/vnd.jupyter.widget-view+json": {
       "model_id": "cf1b897d26784b83b02e347ef50b09ea",
       "version_major": 2,
       "version_minor": 0
      },
      "text/plain": [
       "  0%|          | 0/81 [00:00<?, ?it/s]"
      ]
     },
     "metadata": {},
     "output_type": "display_data"
    },
    {
     "name": "stdout",
     "output_type": "stream",
     "text": [
      "3 clusters detected based on gene co-expression.\n",
      "KS-test result: [1. 1. 1.]\n",
      "Assign cluster 0 to repressive\n",
      "Initial induction: 50, repression: 31/81\n",
      "Learning Rate based on Data Sparsity: 0.0000\n",
      "--------------------------- Train a VeloVAE ---------------------------\n",
      "*********        Creating Training/Validation Datasets        *********\n",
      "*********                      Finished.                      *********\n",
      "*********                 Creating optimizers                 *********\n",
      "*********                      Finished.                      *********\n",
      "*********                    Start training                   *********\n",
      "*********                      Stage  1                       *********\n",
      "Total Number of Iterations Per Epoch: 2, test iteration: 2\n",
      "*********       Stage 1: Early Stop Triggered at epoch 13.       *********\n",
      "*********                      Stage  2                       *********\n",
      "*********             Velocity Refinement Round 1             *********\n"
     ]
    },
    {
     "data": {
      "application/vnd.jupyter.widget-view+json": {
       "model_id": "c9492544da0c415fa7d6cf7bc769a31c",
       "version_major": 2,
       "version_minor": 0
      },
      "text/plain": [
       "  0%|          | 0/300 [00:00<?, ?it/s]"
      ]
     },
     "metadata": {},
     "output_type": "display_data"
    },
    {
     "name": "stdout",
     "output_type": "stream",
     "text": [
      "Percentage of Invalid Sets: 0.027\n",
      "Average Set Size: 17\n",
      "*********     Round 1: Early Stop Triggered at epoch 19.    *********\n",
      "Change in noise variance: 0.2821\n",
      "*********             Velocity Refinement Round 2             *********\n",
      "*********     Round 2: Early Stop Triggered at epoch 55.    *********\n",
      "Change in noise variance: 0.4924\n",
      "Change in x0: 1.1602\n",
      "*********             Velocity Refinement Round 3             *********\n",
      "*********     Round 3: Early Stop Triggered at epoch 70.    *********\n",
      "Change in noise variance: 0.0222\n",
      "Change in x0: 0.6248\n",
      "*********             Velocity Refinement Round 4             *********\n",
      "*********     Round 4: Early Stop Triggered at epoch 76.    *********\n",
      "Change in noise variance: 0.0062\n",
      "Change in x0: 0.4080\n",
      "*********             Velocity Refinement Round 5             *********\n",
      "*********     Round 5: Early Stop Triggered at epoch 82.    *********\n",
      "Change in noise variance: 0.0023\n",
      "Change in x0: 0.2941\n",
      "*********             Velocity Refinement Round 6             *********\n",
      "*********     Round 6: Early Stop Triggered at epoch 93.    *********\n",
      "Change in noise variance: 0.0011\n",
      "Change in x0: 0.2334\n",
      "*********             Velocity Refinement Round 7             *********\n",
      "*********     Round 7: Early Stop Triggered at epoch 99.    *********\n",
      "Change in noise variance: 0.0006\n",
      "Change in x0: 0.1944\n",
      "*********             Velocity Refinement Round 8             *********\n",
      "*********     Round 8: Early Stop Triggered at epoch 107.    *********\n",
      "Change in noise variance: 0.0000\n",
      "Change in x0: 0.1640\n",
      "*********             Velocity Refinement Round 9             *********\n",
      "*********     Round 9: Early Stop Triggered at epoch 118.    *********\n",
      "Change in noise variance: 0.0000\n",
      "Change in x0: 0.1349\n",
      "*********             Velocity Refinement Round 10             *********\n",
      "*********     Round 10: Early Stop Triggered at epoch 123.    *********\n",
      "Change in noise variance: 0.0000\n",
      "Change in x0: 0.1116\n",
      "*********             Velocity Refinement Round 11             *********\n",
      "*********     Round 11: Early Stop Triggered at epoch 128.    *********\n",
      "Change in noise variance: 0.0000\n",
      "Change in x0: 0.0961\n",
      "*********             Velocity Refinement Round 12             *********\n",
      "*********     Round 12: Early Stop Triggered at epoch 140.    *********\n",
      "Change in noise variance: 0.0000\n",
      "Change in x0: 0.0875\n",
      "*********             Velocity Refinement Round 13             *********\n",
      "Stage 2: Early Stop Triggered at round 12.\n",
      "*********              Finished. Total Time =   0 h :  0 m :  5 s             *********\n",
      "Final: Train ELBO = -18108.508,\tTest ELBO = -17719.186\n",
      "Estimating ODE parameters...\n"
     ]
    },
    {
     "data": {
      "application/vnd.jupyter.widget-view+json": {
       "model_id": "6d1bd93d49ce4548b33b13239a740e74",
       "version_major": 2,
       "version_minor": 0
      },
      "text/plain": [
       "  0%|          | 0/80 [00:00<?, ?it/s]"
      ]
     },
     "metadata": {},
     "output_type": "display_data"
    },
    {
     "name": "stdout",
     "output_type": "stream",
     "text": [
      "Detected 35 velocity genes.\n",
      "Estimating the variance...\n"
     ]
    },
    {
     "data": {
      "application/vnd.jupyter.widget-view+json": {
       "model_id": "f92298820bc4482fbbdbefc11f0d23b0",
       "version_major": 2,
       "version_minor": 0
      },
      "text/plain": [
       "  0%|          | 0/80 [00:00<?, ?it/s]"
      ]
     },
     "metadata": {},
     "output_type": "display_data"
    },
    {
     "name": "stdout",
     "output_type": "stream",
     "text": [
      "Initialization using the steady-state and dynamical models.\n",
      "Reinitialize the regular ODE parameters based on estimated global latent time.\n"
     ]
    },
    {
     "data": {
      "application/vnd.jupyter.widget-view+json": {
       "model_id": "9725e1d30a634a50b329b6e363139c1a",
       "version_major": 2,
       "version_minor": 0
      },
      "text/plain": [
       "  0%|          | 0/80 [00:00<?, ?it/s]"
      ]
     },
     "metadata": {},
     "output_type": "display_data"
    },
    {
     "name": "stdout",
     "output_type": "stream",
     "text": [
      "3 clusters detected based on gene co-expression.\n",
      "KS-test result: [1. 1. 1.]\n",
      "Assign cluster 0 to repressive\n",
      "Initial induction: 51, repression: 29/80\n",
      "Learning Rate based on Data Sparsity: 0.0000\n",
      "--------------------------- Train a VeloVAE ---------------------------\n",
      "*********        Creating Training/Validation Datasets        *********\n",
      "*********                      Finished.                      *********\n",
      "*********                 Creating optimizers                 *********\n",
      "*********                      Finished.                      *********\n",
      "*********                    Start training                   *********\n",
      "*********                      Stage  1                       *********\n",
      "Total Number of Iterations Per Epoch: 2, test iteration: 2\n",
      "*********       Stage 1: Early Stop Triggered at epoch 822.       *********\n",
      "*********                      Stage  2                       *********\n",
      "*********             Velocity Refinement Round 1             *********\n"
     ]
    },
    {
     "data": {
      "application/vnd.jupyter.widget-view+json": {
       "model_id": "761b2987920a496e9b4876f1d58bc5e5",
       "version_major": 2,
       "version_minor": 0
      },
      "text/plain": [
       "  0%|          | 0/300 [00:00<?, ?it/s]"
      ]
     },
     "metadata": {},
     "output_type": "display_data"
    },
    {
     "name": "stdout",
     "output_type": "stream",
     "text": [
      "Percentage of Invalid Sets: 0.027\n",
      "Average Set Size: 18\n",
      "Change in noise variance: 0.1961\n",
      "*********             Velocity Refinement Round 2             *********\n",
      "*********     Round 2: Early Stop Triggered at epoch 1402.    *********\n",
      "Change in noise variance: 0.2211\n",
      "Change in x0: 1.2181\n",
      "*********             Velocity Refinement Round 3             *********\n",
      "*********     Round 3: Early Stop Triggered at epoch 1500.    *********\n",
      "Change in noise variance: 0.0065\n",
      "Change in x0: 0.3970\n",
      "*********             Velocity Refinement Round 4             *********\n",
      "*********     Round 4: Early Stop Triggered at epoch 1602.    *********\n",
      "Change in noise variance: 0.0040\n",
      "Change in x0: 0.3289\n",
      "*********             Velocity Refinement Round 5             *********\n",
      "*********     Round 5: Early Stop Triggered at epoch 1653.    *********\n",
      "Change in noise variance: 0.0048\n",
      "Change in x0: 0.3318\n",
      "*********             Velocity Refinement Round 6             *********\n",
      "*********     Round 6: Early Stop Triggered at epoch 1686.    *********\n",
      "Change in noise variance: 0.0071\n",
      "Change in x0: 0.3488\n",
      "*********             Velocity Refinement Round 7             *********\n",
      "*********     Round 7: Early Stop Triggered at epoch 1858.    *********\n",
      "Change in noise variance: 0.0036\n",
      "Change in x0: 0.3185\n",
      "*********             Velocity Refinement Round 8             *********\n",
      "*********     Round 8: Early Stop Triggered at epoch 1885.    *********\n",
      "Change in noise variance: 0.0053\n",
      "Change in x0: 0.2814\n",
      "*********             Velocity Refinement Round 9             *********\n",
      "*********     Round 9: Early Stop Triggered at epoch 1968.    *********\n",
      "Change in noise variance: 0.0069\n",
      "Change in x0: 0.1984\n",
      "*********             Velocity Refinement Round 10             *********\n",
      "*********     Round 10: Early Stop Triggered at epoch 2002.    *********\n",
      "Change in noise variance: 0.0054\n",
      "Change in x0: 0.1864\n",
      "*********             Velocity Refinement Round 11             *********\n",
      "*********     Round 11: Early Stop Triggered at epoch 2029.    *********\n",
      "Change in noise variance: 0.0042\n",
      "Change in x0: 0.1192\n",
      "*********             Velocity Refinement Round 12             *********\n",
      "*********     Round 12: Early Stop Triggered at epoch 2167.    *********\n",
      "Change in noise variance: 0.0040\n",
      "Change in x0: 0.0985\n",
      "*********             Velocity Refinement Round 13             *********\n",
      "*********     Round 13: Early Stop Triggered at epoch 2299.    *********\n",
      "Change in noise variance: 0.0076\n",
      "Change in x0: 0.2069\n",
      "*********             Velocity Refinement Round 14             *********\n",
      "*********     Round 14: Early Stop Triggered at epoch 2389.    *********\n",
      "Change in noise variance: 0.0076\n",
      "Change in x0: 0.1763\n",
      "*********             Velocity Refinement Round 15             *********\n",
      "*********     Round 15: Early Stop Triggered at epoch 2489.    *********\n",
      "Change in noise variance: 0.0028\n",
      "Change in x0: 0.1887\n",
      "*********             Velocity Refinement Round 16             *********\n",
      "*********     Round 16: Early Stop Triggered at epoch 2534.    *********\n",
      "Change in noise variance: 0.0029\n",
      "Change in x0: 0.1844\n",
      "*********             Velocity Refinement Round 17             *********\n",
      "*********     Round 17: Early Stop Triggered at epoch 2606.    *********\n",
      "Change in noise variance: 0.0053\n",
      "Change in x0: 0.1728\n",
      "*********             Velocity Refinement Round 18             *********\n",
      "*********     Round 18: Early Stop Triggered at epoch 2656.    *********\n",
      "Change in noise variance: 0.0058\n",
      "Change in x0: 0.1727\n",
      "*********             Velocity Refinement Round 19             *********\n",
      "*********     Round 19: Early Stop Triggered at epoch 2794.    *********\n",
      "Change in noise variance: 0.0049\n",
      "Change in x0: 0.1381\n",
      "*********             Velocity Refinement Round 20             *********\n",
      "*********     Round 20: Early Stop Triggered at epoch 2819.    *********\n",
      "Change in noise variance: 0.0000\n",
      "Change in x0: 0.4219\n",
      "*********              Finished. Total Time =   0 h :  2 m :  9 s             *********\n",
      "Final: Train ELBO = -988.844,\tTest ELBO = -1027.358\n",
      "Estimating ODE parameters...\n"
     ]
    },
    {
     "data": {
      "application/vnd.jupyter.widget-view+json": {
       "model_id": "2a355a2676674949bb4fac51c79400b0",
       "version_major": 2,
       "version_minor": 0
      },
      "text/plain": [
       "  0%|          | 0/109 [00:00<?, ?it/s]"
      ]
     },
     "metadata": {},
     "output_type": "display_data"
    },
    {
     "name": "stdout",
     "output_type": "stream",
     "text": [
      "Detected 67 velocity genes.\n",
      "Estimating the variance...\n"
     ]
    },
    {
     "data": {
      "application/vnd.jupyter.widget-view+json": {
       "model_id": "af81b518f7bd419fb8ad3702f84114d5",
       "version_major": 2,
       "version_minor": 0
      },
      "text/plain": [
       "  0%|          | 0/109 [00:00<?, ?it/s]"
      ]
     },
     "metadata": {},
     "output_type": "display_data"
    },
    {
     "name": "stdout",
     "output_type": "stream",
     "text": [
      "Initialization using the steady-state and dynamical models.\n",
      "Reinitialize the regular ODE parameters based on estimated global latent time.\n"
     ]
    },
    {
     "data": {
      "application/vnd.jupyter.widget-view+json": {
       "model_id": "59a7e4d264074c099ca146dd70797534",
       "version_major": 2,
       "version_minor": 0
      },
      "text/plain": [
       "  0%|          | 0/109 [00:00<?, ?it/s]"
      ]
     },
     "metadata": {},
     "output_type": "display_data"
    },
    {
     "name": "stdout",
     "output_type": "stream",
     "text": [
      "3 clusters detected based on gene co-expression.\n",
      "KS-test result: [1. 1. 1.]\n",
      "Assign cluster 1 to repressive\n",
      "Initial induction: 72, repression: 37/109\n",
      "Learning Rate based on Data Sparsity: 0.0001\n",
      "--------------------------- Train a VeloVAE ---------------------------\n",
      "*********        Creating Training/Validation Datasets        *********\n",
      "*********                      Finished.                      *********\n",
      "*********                 Creating optimizers                 *********\n",
      "*********                      Finished.                      *********\n",
      "*********                    Start training                   *********\n",
      "*********                      Stage  1                       *********\n",
      "Total Number of Iterations Per Epoch: 6, test iteration: 10\n",
      "*********                      Stage  2                       *********\n",
      "*********             Velocity Refinement Round 1             *********\n"
     ]
    },
    {
     "data": {
      "application/vnd.jupyter.widget-view+json": {
       "model_id": "75048547edd04b1b9cabb1a8fc5e523c",
       "version_major": 2,
       "version_minor": 0
      },
      "text/plain": [
       "  0%|          | 0/1000 [00:00<?, ?it/s]"
      ]
     },
     "metadata": {},
     "output_type": "display_data"
    },
    {
     "name": "stdout",
     "output_type": "stream",
     "text": [
      "Percentage of Invalid Sets: 0.063\n",
      "Average Set Size: 20\n",
      "*********     Round 1: Early Stop Triggered at epoch 1247.    *********\n",
      "Change in noise variance: 0.0386\n",
      "*********             Velocity Refinement Round 2             *********\n",
      "*********     Round 2: Early Stop Triggered at epoch 1411.    *********\n",
      "Change in noise variance: 0.0092\n",
      "Change in x0: 0.2743\n",
      "*********             Velocity Refinement Round 3             *********\n",
      "*********     Round 3: Early Stop Triggered at epoch 1537.    *********\n",
      "Change in noise variance: 0.0033\n",
      "Change in x0: 0.1806\n",
      "*********             Velocity Refinement Round 4             *********\n",
      "*********     Round 4: Early Stop Triggered at epoch 1593.    *********\n",
      "Change in noise variance: 0.0023\n",
      "Change in x0: 0.1571\n",
      "*********             Velocity Refinement Round 5             *********\n",
      "*********     Round 5: Early Stop Triggered at epoch 1650.    *********\n",
      "Change in noise variance: 0.0009\n",
      "Change in x0: 0.1232\n",
      "*********             Velocity Refinement Round 6             *********\n",
      "*********     Round 6: Early Stop Triggered at epoch 1712.    *********\n",
      "Change in noise variance: 0.0000\n",
      "Change in x0: 0.0968\n",
      "*********             Velocity Refinement Round 7             *********\n",
      "*********     Round 7: Early Stop Triggered at epoch 1793.    *********\n",
      "Change in noise variance: 0.0000\n",
      "Change in x0: 0.0810\n",
      "*********             Velocity Refinement Round 8             *********\n",
      "*********     Round 8: Early Stop Triggered at epoch 2065.    *********\n",
      "Change in noise variance: 0.0000\n",
      "Change in x0: 0.0707\n",
      "*********             Velocity Refinement Round 9             *********\n",
      "*********     Round 9: Early Stop Triggered at epoch 2164.    *********\n",
      "Change in noise variance: 0.0000\n",
      "Change in x0: 0.0819\n",
      "*********             Velocity Refinement Round 10             *********\n",
      "Stage 2: Early Stop Triggered at round 9.\n",
      "*********              Finished. Total Time =   0 h :  3 m : 30 s             *********\n",
      "Final: Train ELBO = 126.385,\tTest ELBO = 136.408\n",
      "Estimating ODE parameters...\n"
     ]
    },
    {
     "data": {
      "application/vnd.jupyter.widget-view+json": {
       "model_id": "e6f925eb72b04a4a8ee0a31a60cc3eb9",
       "version_major": 2,
       "version_minor": 0
      },
      "text/plain": [
       "  0%|          | 0/61 [00:00<?, ?it/s]"
      ]
     },
     "metadata": {},
     "output_type": "display_data"
    },
    {
     "name": "stdout",
     "output_type": "stream",
     "text": [
      "Detected 18 velocity genes.\n",
      "Estimating the variance...\n"
     ]
    },
    {
     "data": {
      "application/vnd.jupyter.widget-view+json": {
       "model_id": "e5ccfa3c0fa64020b3a7c967ad8b37b5",
       "version_major": 2,
       "version_minor": 0
      },
      "text/plain": [
       "  0%|          | 0/61 [00:00<?, ?it/s]"
      ]
     },
     "metadata": {},
     "output_type": "display_data"
    },
    {
     "name": "stdout",
     "output_type": "stream",
     "text": [
      "Initialization using the steady-state and dynamical models.\n",
      "Reinitialize the regular ODE parameters based on estimated global latent time.\n"
     ]
    },
    {
     "data": {
      "application/vnd.jupyter.widget-view+json": {
       "model_id": "db55669f0368401484466e00c2de789f",
       "version_major": 2,
       "version_minor": 0
      },
      "text/plain": [
       "  0%|          | 0/61 [00:00<?, ?it/s]"
      ]
     },
     "metadata": {},
     "output_type": "display_data"
    },
    {
     "name": "stdout",
     "output_type": "stream",
     "text": [
      "3 clusters detected based on gene co-expression.\n",
      "(0.47, 0.8701520422929223), (0.53, 0.2900017161456463)\n",
      "KS-test result: [1. 2. 0.]\n",
      "Initial induction: 20, repression: 41/61\n",
      "Learning Rate based on Data Sparsity: 0.0001\n",
      "--------------------------- Train a VeloVAE ---------------------------\n",
      "*********        Creating Training/Validation Datasets        *********\n",
      "*********                      Finished.                      *********\n",
      "*********                 Creating optimizers                 *********\n",
      "*********                      Finished.                      *********\n",
      "*********                    Start training                   *********\n",
      "*********                      Stage  1                       *********\n",
      "Total Number of Iterations Per Epoch: 2, test iteration: 2\n",
      "*********       Stage 1: Early Stop Triggered at epoch 8.       *********\n",
      "*********                      Stage  2                       *********\n",
      "*********             Velocity Refinement Round 1             *********\n"
     ]
    },
    {
     "data": {
      "application/vnd.jupyter.widget-view+json": {
       "model_id": "36ad7eaa60184fccb5a3603b9a8a98e7",
       "version_major": 2,
       "version_minor": 0
      },
      "text/plain": [
       "  0%|          | 0/300 [00:00<?, ?it/s]"
      ]
     },
     "metadata": {},
     "output_type": "display_data"
    },
    {
     "name": "stdout",
     "output_type": "stream",
     "text": [
      "Percentage of Invalid Sets: 0.060\n",
      "Average Set Size: 16\n",
      "*********     Round 1: Early Stop Triggered at epoch 14.    *********\n",
      "Change in noise variance: 0.5563\n",
      "*********             Velocity Refinement Round 2             *********\n",
      "*********     Round 2: Early Stop Triggered at epoch 119.    *********\n",
      "Change in noise variance: 0.0420\n",
      "Change in x0: 0.4501\n",
      "*********             Velocity Refinement Round 3             *********\n",
      "*********     Round 3: Early Stop Triggered at epoch 150.    *********\n",
      "Change in noise variance: 0.0017\n",
      "Change in x0: 0.3890\n",
      "*********             Velocity Refinement Round 4             *********\n",
      "*********     Round 4: Early Stop Triggered at epoch 158.    *********\n",
      "Change in noise variance: 0.0033\n",
      "Change in x0: 0.3775\n",
      "*********             Velocity Refinement Round 5             *********\n",
      "*********     Round 5: Early Stop Triggered at epoch 165.    *********\n",
      "Change in noise variance: 0.0030\n",
      "Change in x0: 0.2746\n",
      "*********             Velocity Refinement Round 6             *********\n",
      "*********     Round 6: Early Stop Triggered at epoch 171.    *********\n",
      "Change in noise variance: 0.0016\n",
      "Change in x0: 0.2153\n",
      "*********             Velocity Refinement Round 7             *********\n",
      "*********     Round 7: Early Stop Triggered at epoch 178.    *********\n",
      "Change in noise variance: 0.0006\n",
      "Change in x0: 0.2057\n",
      "*********             Velocity Refinement Round 8             *********\n",
      "Stage 2: Early Stop Triggered at round 7.\n",
      "*********              Finished. Total Time =   0 h :  0 m : 20 s             *********\n",
      "Final: Train ELBO = -13756.597,\tTest ELBO = -13157.369\n",
      "Estimating ODE parameters...\n"
     ]
    },
    {
     "data": {
      "application/vnd.jupyter.widget-view+json": {
       "model_id": "1fdd1d50d3394797be50218e4458f0bf",
       "version_major": 2,
       "version_minor": 0
      },
      "text/plain": [
       "  0%|          | 0/63 [00:00<?, ?it/s]"
      ]
     },
     "metadata": {},
     "output_type": "display_data"
    },
    {
     "name": "stdout",
     "output_type": "stream",
     "text": [
      "Detected 34 velocity genes.\n",
      "Estimating the variance...\n"
     ]
    },
    {
     "data": {
      "application/vnd.jupyter.widget-view+json": {
       "model_id": "7a4f94f730e648d1a443334015c585d4",
       "version_major": 2,
       "version_minor": 0
      },
      "text/plain": [
       "  0%|          | 0/63 [00:00<?, ?it/s]"
      ]
     },
     "metadata": {},
     "output_type": "display_data"
    },
    {
     "name": "stdout",
     "output_type": "stream",
     "text": [
      "Initialization using the steady-state and dynamical models.\n",
      "Reinitialize the regular ODE parameters based on estimated global latent time.\n"
     ]
    },
    {
     "data": {
      "application/vnd.jupyter.widget-view+json": {
       "model_id": "131565fbea8b4996aaaf9ca9621b9f7e",
       "version_major": 2,
       "version_minor": 0
      },
      "text/plain": [
       "  0%|          | 0/63 [00:00<?, ?it/s]"
      ]
     },
     "metadata": {},
     "output_type": "display_data"
    },
    {
     "name": "stdout",
     "output_type": "stream",
     "text": [
      "3 clusters detected based on gene co-expression.\n",
      "KS-test result: [1. 1. 1.]\n",
      "Assign cluster 2 to repressive\n",
      "Initial induction: 45, repression: 18/63\n",
      "Learning Rate based on Data Sparsity: 0.0000\n",
      "--------------------------- Train a VeloVAE ---------------------------\n",
      "*********        Creating Training/Validation Datasets        *********\n",
      "*********                      Finished.                      *********\n",
      "*********                 Creating optimizers                 *********\n",
      "*********                      Finished.                      *********\n",
      "*********                    Start training                   *********\n",
      "*********                      Stage  1                       *********\n",
      "Total Number of Iterations Per Epoch: 2, test iteration: 2\n",
      "*********       Stage 1: Early Stop Triggered at epoch 8.       *********\n",
      "*********                      Stage  2                       *********\n",
      "*********             Velocity Refinement Round 1             *********\n"
     ]
    },
    {
     "data": {
      "application/vnd.jupyter.widget-view+json": {
       "model_id": "a1607e7dd4964b88b840080610d57183",
       "version_major": 2,
       "version_minor": 0
      },
      "text/plain": [
       "  0%|          | 0/300 [00:00<?, ?it/s]"
      ]
     },
     "metadata": {},
     "output_type": "display_data"
    },
    {
     "name": "stdout",
     "output_type": "stream",
     "text": [
      "Percentage of Invalid Sets: 0.023\n",
      "Average Set Size: 17\n",
      "*********     Round 1: Early Stop Triggered at epoch 14.    *********\n",
      "Change in noise variance: 0.1852\n",
      "*********             Velocity Refinement Round 2             *********\n",
      "*********     Round 2: Early Stop Triggered at epoch 20.    *********\n",
      "Change in noise variance: 0.0144\n",
      "Change in x0: 0.7071\n",
      "*********             Velocity Refinement Round 3             *********\n",
      "*********     Round 3: Early Stop Triggered at epoch 26.    *********\n",
      "Change in noise variance: 0.0210\n",
      "Change in x0: 0.4340\n",
      "*********             Velocity Refinement Round 4             *********\n",
      "*********     Round 4: Early Stop Triggered at epoch 31.    *********\n",
      "Change in noise variance: 0.0193\n",
      "Change in x0: 0.3304\n",
      "*********             Velocity Refinement Round 5             *********\n",
      "*********     Round 5: Early Stop Triggered at epoch 36.    *********\n",
      "Change in noise variance: 0.0129\n",
      "Change in x0: 0.2647\n",
      "*********             Velocity Refinement Round 6             *********\n",
      "*********     Round 6: Early Stop Triggered at epoch 41.    *********\n",
      "Change in noise variance: 0.0063\n",
      "Change in x0: 0.2390\n",
      "*********             Velocity Refinement Round 7             *********\n",
      "*********     Round 7: Early Stop Triggered at epoch 47.    *********\n",
      "Change in noise variance: 0.0072\n",
      "Change in x0: 0.2218\n",
      "*********             Velocity Refinement Round 8             *********\n",
      "*********     Round 8: Early Stop Triggered at epoch 53.    *********\n",
      "Change in noise variance: 0.0059\n",
      "Change in x0: 0.2065\n",
      "*********             Velocity Refinement Round 9             *********\n",
      "*********     Round 9: Early Stop Triggered at epoch 59.    *********\n",
      "Change in noise variance: 0.0038\n",
      "Change in x0: 0.1955\n",
      "*********             Velocity Refinement Round 10             *********\n",
      "*********     Round 10: Early Stop Triggered at epoch 64.    *********\n",
      "Change in noise variance: 0.0022\n",
      "Change in x0: 0.1854\n",
      "*********             Velocity Refinement Round 11             *********\n",
      "*********     Round 11: Early Stop Triggered at epoch 69.    *********\n",
      "Change in noise variance: 0.0013\n",
      "Change in x0: 0.1735\n",
      "*********             Velocity Refinement Round 12             *********\n",
      "*********     Round 12: Early Stop Triggered at epoch 74.    *********\n",
      "Change in noise variance: 0.0008\n",
      "Change in x0: 0.1638\n",
      "*********             Velocity Refinement Round 13             *********\n",
      "Stage 2: Early Stop Triggered at round 12.\n",
      "*********              Finished. Total Time =   0 h :  0 m : 16 s             *********\n",
      "Final: Train ELBO = -18537.670,\tTest ELBO = -18844.469\n",
      "Estimating ODE parameters...\n"
     ]
    },
    {
     "data": {
      "application/vnd.jupyter.widget-view+json": {
       "model_id": "8e483087c9804c0e9be7c259574d5cfd",
       "version_major": 2,
       "version_minor": 0
      },
      "text/plain": [
       "  0%|          | 0/80 [00:00<?, ?it/s]"
      ]
     },
     "metadata": {},
     "output_type": "display_data"
    },
    {
     "name": "stdout",
     "output_type": "stream",
     "text": [
      "Detected 32 velocity genes.\n",
      "Estimating the variance...\n"
     ]
    },
    {
     "data": {
      "application/vnd.jupyter.widget-view+json": {
       "model_id": "6b4a73183ab049b2ae6d7c7d29a3fbf7",
       "version_major": 2,
       "version_minor": 0
      },
      "text/plain": [
       "  0%|          | 0/80 [00:00<?, ?it/s]"
      ]
     },
     "metadata": {},
     "output_type": "display_data"
    },
    {
     "name": "stdout",
     "output_type": "stream",
     "text": [
      "Initialization using the steady-state and dynamical models.\n",
      "Reinitialize the regular ODE parameters based on estimated global latent time.\n"
     ]
    },
    {
     "data": {
      "application/vnd.jupyter.widget-view+json": {
       "model_id": "b86221e4bb9844d9813343d23e898979",
       "version_major": 2,
       "version_minor": 0
      },
      "text/plain": [
       "  0%|          | 0/80 [00:00<?, ?it/s]"
      ]
     },
     "metadata": {},
     "output_type": "display_data"
    },
    {
     "name": "stdout",
     "output_type": "stream",
     "text": [
      "3 clusters detected based on gene co-expression.\n",
      "(0.56, 0.3239376112994556), (0.44, 0.9106431281299979)\n",
      "(0.52, 0.2605808478636782), (0.48, 0.805314977942315)\n",
      "KS-test result: [1. 0. 0.]\n",
      "Initial induction: 43, repression: 37/80\n",
      "Learning Rate based on Data Sparsity: 0.0000\n",
      "--------------------------- Train a VeloVAE ---------------------------\n",
      "*********        Creating Training/Validation Datasets        *********\n",
      "*********                      Finished.                      *********\n",
      "*********                 Creating optimizers                 *********\n",
      "*********                      Finished.                      *********\n",
      "*********                    Start training                   *********\n",
      "*********                      Stage  1                       *********\n",
      "Total Number of Iterations Per Epoch: 2, test iteration: 2\n",
      "*********       Stage 1: Early Stop Triggered at epoch 5.       *********\n",
      "*********                      Stage  2                       *********\n",
      "*********             Velocity Refinement Round 1             *********\n"
     ]
    },
    {
     "data": {
      "application/vnd.jupyter.widget-view+json": {
       "model_id": "45b13788e12a457084803bcc17762476",
       "version_major": 2,
       "version_minor": 0
      },
      "text/plain": [
       "  0%|          | 0/300 [00:00<?, ?it/s]"
      ]
     },
     "metadata": {},
     "output_type": "display_data"
    },
    {
     "name": "stdout",
     "output_type": "stream",
     "text": [
      "Percentage of Invalid Sets: 0.063\n",
      "Average Set Size: 16\n",
      "*********     Round 1: Early Stop Triggered at epoch 21.    *********\n",
      "Change in noise variance: 0.4645\n",
      "*********             Velocity Refinement Round 2             *********\n",
      "*********     Round 2: Early Stop Triggered at epoch 26.    *********\n",
      "Change in noise variance: 0.0397\n",
      "Change in x0: 0.4195\n",
      "*********             Velocity Refinement Round 3             *********\n",
      "*********     Round 3: Early Stop Triggered at epoch 32.    *********\n",
      "Change in noise variance: 0.0093\n",
      "Change in x0: 0.2190\n",
      "*********             Velocity Refinement Round 4             *********\n",
      "*********     Round 4: Early Stop Triggered at epoch 38.    *********\n",
      "Change in noise variance: 0.0051\n",
      "Change in x0: 0.1891\n",
      "*********             Velocity Refinement Round 5             *********\n",
      "*********     Round 5: Early Stop Triggered at epoch 44.    *********\n",
      "Change in noise variance: 0.0041\n",
      "Change in x0: 0.1706\n",
      "*********             Velocity Refinement Round 6             *********\n",
      "*********     Round 6: Early Stop Triggered at epoch 50.    *********\n",
      "Change in noise variance: 0.0021\n",
      "Change in x0: 0.1658\n",
      "*********             Velocity Refinement Round 7             *********\n",
      "*********     Round 7: Early Stop Triggered at epoch 56.    *********\n",
      "Change in noise variance: 0.0007\n",
      "Change in x0: 0.1556\n",
      "*********             Velocity Refinement Round 8             *********\n",
      "*********     Round 8: Early Stop Triggered at epoch 61.    *********\n",
      "Change in noise variance: 0.0000\n",
      "Change in x0: 0.1380\n",
      "*********             Velocity Refinement Round 9             *********\n",
      "*********     Round 9: Early Stop Triggered at epoch 66.    *********\n",
      "Change in noise variance: 0.0000\n",
      "Change in x0: 0.1268\n",
      "*********             Velocity Refinement Round 10             *********\n",
      "*********     Round 10: Early Stop Triggered at epoch 71.    *********\n",
      "Change in noise variance: 0.0000\n",
      "Change in x0: 0.1199\n",
      "*********             Velocity Refinement Round 11             *********\n",
      "Stage 2: Early Stop Triggered at round 10.\n",
      "*********              Finished. Total Time =   0 h :  0 m : 15 s             *********\n",
      "Final: Train ELBO = -13288.914,\tTest ELBO = -13578.303\n",
      "Estimating ODE parameters...\n"
     ]
    },
    {
     "data": {
      "application/vnd.jupyter.widget-view+json": {
       "model_id": "27ec207f23ca4c47b86911d793979b7e",
       "version_major": 2,
       "version_minor": 0
      },
      "text/plain": [
       "  0%|          | 0/76 [00:00<?, ?it/s]"
      ]
     },
     "metadata": {},
     "output_type": "display_data"
    },
    {
     "name": "stdout",
     "output_type": "stream",
     "text": [
      "Detected 20 velocity genes.\n",
      "Estimating the variance...\n"
     ]
    },
    {
     "data": {
      "application/vnd.jupyter.widget-view+json": {
       "model_id": "6b22f1680627468a822d0dc2075940cc",
       "version_major": 2,
       "version_minor": 0
      },
      "text/plain": [
       "  0%|          | 0/76 [00:00<?, ?it/s]"
      ]
     },
     "metadata": {},
     "output_type": "display_data"
    },
    {
     "name": "stdout",
     "output_type": "stream",
     "text": [
      "Initialization using the steady-state and dynamical models.\n",
      "Reinitialize the regular ODE parameters based on estimated global latent time.\n"
     ]
    },
    {
     "data": {
      "application/vnd.jupyter.widget-view+json": {
       "model_id": "d063ab4875ab4b7fb8fddf311396cf90",
       "version_major": 2,
       "version_minor": 0
      },
      "text/plain": [
       "  0%|          | 0/76 [00:00<?, ?it/s]"
      ]
     },
     "metadata": {},
     "output_type": "display_data"
    },
    {
     "name": "stdout",
     "output_type": "stream",
     "text": [
      "3 clusters detected based on gene co-expression.\n",
      "(0.53, 0.06264460485018672), (0.47, 0.7010424470363079)\n",
      "(0.58, 0.707388107196621), (0.42, 0.09198273775867975)\n",
      "KS-test result: [0. 0. 2.]\n",
      "Initial induction: 27, repression: 49/76\n",
      "Learning Rate based on Data Sparsity: 0.0000\n",
      "--------------------------- Train a VeloVAE ---------------------------\n",
      "*********        Creating Training/Validation Datasets        *********\n",
      "*********                      Finished.                      *********\n",
      "*********                 Creating optimizers                 *********\n",
      "*********                      Finished.                      *********\n",
      "*********                    Start training                   *********\n",
      "*********                      Stage  1                       *********\n",
      "Total Number of Iterations Per Epoch: 2, test iteration: 2\n",
      "*********       Stage 1: Early Stop Triggered at epoch 9.       *********\n",
      "*********                      Stage  2                       *********\n",
      "*********             Velocity Refinement Round 1             *********\n"
     ]
    },
    {
     "data": {
      "application/vnd.jupyter.widget-view+json": {
       "model_id": "d0c99834905240d58a995cbefd34b687",
       "version_major": 2,
       "version_minor": 0
      },
      "text/plain": [
       "  0%|          | 0/300 [00:00<?, ?it/s]"
      ]
     },
     "metadata": {},
     "output_type": "display_data"
    },
    {
     "name": "stdout",
     "output_type": "stream",
     "text": [
      "Percentage of Invalid Sets: 0.017\n",
      "Average Set Size: 16\n",
      "*********     Round 1: Early Stop Triggered at epoch 15.    *********\n",
      "Change in noise variance: 0.2935\n",
      "*********             Velocity Refinement Round 2             *********\n",
      "*********     Round 2: Early Stop Triggered at epoch 65.    *********\n",
      "Change in noise variance: 0.0327\n",
      "Change in x0: 0.7020\n",
      "*********             Velocity Refinement Round 3             *********\n",
      "*********     Round 3: Early Stop Triggered at epoch 71.    *********\n",
      "Change in noise variance: 0.0079\n",
      "Change in x0: 0.3804\n",
      "*********             Velocity Refinement Round 4             *********\n",
      "*********     Round 4: Early Stop Triggered at epoch 77.    *********\n",
      "Change in noise variance: 0.0046\n",
      "Change in x0: 0.2670\n",
      "*********             Velocity Refinement Round 5             *********\n",
      "*********     Round 5: Early Stop Triggered at epoch 83.    *********\n",
      "Change in noise variance: 0.0010\n",
      "Change in x0: 0.2560\n",
      "*********             Velocity Refinement Round 6             *********\n",
      "*********     Round 6: Early Stop Triggered at epoch 89.    *********\n",
      "Change in noise variance: 0.0012\n",
      "Change in x0: 0.2223\n",
      "*********             Velocity Refinement Round 7             *********\n",
      "*********     Round 7: Early Stop Triggered at epoch 95.    *********\n",
      "Change in noise variance: 0.0011\n",
      "Change in x0: 0.2148\n",
      "*********             Velocity Refinement Round 8             *********\n",
      "*********     Round 8: Early Stop Triggered at epoch 101.    *********\n",
      "Change in noise variance: 0.0007\n",
      "Change in x0: 0.2009\n",
      "*********             Velocity Refinement Round 9             *********\n",
      "*********     Round 9: Early Stop Triggered at epoch 106.    *********\n",
      "Change in noise variance: 0.0000\n",
      "Change in x0: 0.1751\n",
      "*********             Velocity Refinement Round 10             *********\n",
      "*********     Round 10: Early Stop Triggered at epoch 112.    *********\n",
      "Change in noise variance: 0.0000\n",
      "Change in x0: 0.1636\n",
      "*********             Velocity Refinement Round 11             *********\n",
      "*********     Round 11: Early Stop Triggered at epoch 118.    *********\n",
      "Change in noise variance: 0.0000\n",
      "Change in x0: 0.1660\n",
      "*********             Velocity Refinement Round 12             *********\n",
      "Stage 2: Early Stop Triggered at round 11.\n",
      "*********              Finished. Total Time =   0 h :  0 m : 15 s             *********\n",
      "Final: Train ELBO = -15358.680,\tTest ELBO = -14971.483\n",
      "Estimating ODE parameters...\n"
     ]
    },
    {
     "data": {
      "application/vnd.jupyter.widget-view+json": {
       "model_id": "c0a1e8f8af354496ad1758d256fc026e",
       "version_major": 2,
       "version_minor": 0
      },
      "text/plain": [
       "  0%|          | 0/83 [00:00<?, ?it/s]"
      ]
     },
     "metadata": {},
     "output_type": "display_data"
    },
    {
     "name": "stdout",
     "output_type": "stream",
     "text": [
      "Detected 35 velocity genes.\n",
      "Estimating the variance...\n"
     ]
    },
    {
     "data": {
      "application/vnd.jupyter.widget-view+json": {
       "model_id": "af018f152e6d4b20b79b1f947cbb34a0",
       "version_major": 2,
       "version_minor": 0
      },
      "text/plain": [
       "  0%|          | 0/83 [00:00<?, ?it/s]"
      ]
     },
     "metadata": {},
     "output_type": "display_data"
    },
    {
     "name": "stdout",
     "output_type": "stream",
     "text": [
      "Initialization using the steady-state and dynamical models.\n",
      "Reinitialize the regular ODE parameters based on estimated global latent time.\n"
     ]
    },
    {
     "data": {
      "application/vnd.jupyter.widget-view+json": {
       "model_id": "ad16b8f1b56349db9166780ed708ca28",
       "version_major": 2,
       "version_minor": 0
      },
      "text/plain": [
       "  0%|          | 0/83 [00:00<?, ?it/s]"
      ]
     },
     "metadata": {},
     "output_type": "display_data"
    },
    {
     "name": "stdout",
     "output_type": "stream",
     "text": [
      "3 clusters detected based on gene co-expression.\n",
      "(0.56, 0.24297477479231852), (0.44, 0.7779664767114342)\n",
      "KS-test result: [0. 1. 1.]\n",
      "Initial induction: 60, repression: 23/83\n",
      "Learning Rate based on Data Sparsity: 0.0000\n",
      "--------------------------- Train a VeloVAE ---------------------------\n",
      "*********        Creating Training/Validation Datasets        *********\n",
      "*********                      Finished.                      *********\n",
      "*********                 Creating optimizers                 *********\n",
      "*********                      Finished.                      *********\n",
      "*********                    Start training                   *********\n",
      "*********                      Stage  1                       *********\n",
      "Total Number of Iterations Per Epoch: 2, test iteration: 2\n",
      "*********       Stage 1: Early Stop Triggered at epoch 7.       *********\n",
      "*********                      Stage  2                       *********\n",
      "*********             Velocity Refinement Round 1             *********\n"
     ]
    },
    {
     "data": {
      "application/vnd.jupyter.widget-view+json": {
       "model_id": "60befa52164446d5bfe882eebe39c7a2",
       "version_major": 2,
       "version_minor": 0
      },
      "text/plain": [
       "  0%|          | 0/300 [00:00<?, ?it/s]"
      ]
     },
     "metadata": {},
     "output_type": "display_data"
    },
    {
     "name": "stdout",
     "output_type": "stream",
     "text": [
      "Percentage of Invalid Sets: 0.030\n",
      "Average Set Size: 16\n",
      "*********     Round 1: Early Stop Triggered at epoch 13.    *********\n",
      "Change in noise variance: 0.5683\n",
      "*********             Velocity Refinement Round 2             *********\n",
      "*********     Round 2: Early Stop Triggered at epoch 20.    *********\n",
      "Change in noise variance: 0.2858\n",
      "Change in x0: 0.4193\n",
      "*********             Velocity Refinement Round 3             *********\n",
      "*********     Round 3: Early Stop Triggered at epoch 26.    *********\n",
      "Change in noise variance: 0.0066\n",
      "Change in x0: 0.3290\n",
      "*********             Velocity Refinement Round 4             *********\n",
      "*********     Round 4: Early Stop Triggered at epoch 32.    *********\n",
      "Change in noise variance: 0.0037\n",
      "Change in x0: 0.2685\n",
      "*********             Velocity Refinement Round 5             *********\n",
      "*********     Round 5: Early Stop Triggered at epoch 38.    *********\n",
      "Change in noise variance: 0.0024\n",
      "Change in x0: 0.2072\n",
      "*********             Velocity Refinement Round 6             *********\n",
      "*********     Round 6: Early Stop Triggered at epoch 45.    *********\n",
      "Change in noise variance: 0.0017\n",
      "Change in x0: 0.1657\n",
      "*********             Velocity Refinement Round 7             *********\n",
      "*********     Round 7: Early Stop Triggered at epoch 51.    *********\n",
      "Change in noise variance: 0.0008\n",
      "Change in x0: 0.1436\n",
      "*********             Velocity Refinement Round 8             *********\n",
      "*********     Round 8: Early Stop Triggered at epoch 56.    *********\n",
      "Change in noise variance: 0.0000\n",
      "Change in x0: 0.1297\n",
      "*********             Velocity Refinement Round 9             *********\n",
      "*********     Round 9: Early Stop Triggered at epoch 61.    *********\n",
      "Change in noise variance: 0.0000\n",
      "Change in x0: 0.1180\n",
      "*********             Velocity Refinement Round 10             *********\n",
      "*********     Round 10: Early Stop Triggered at epoch 66.    *********\n",
      "Change in noise variance: 0.0000\n",
      "Change in x0: 0.1084\n",
      "*********             Velocity Refinement Round 11             *********\n",
      "Stage 2: Early Stop Triggered at round 10.\n",
      "*********              Finished. Total Time =   0 h :  0 m : 15 s             *********\n",
      "Final: Train ELBO = -18305.402,\tTest ELBO = -18420.889\n",
      "Estimating ODE parameters...\n"
     ]
    },
    {
     "data": {
      "application/vnd.jupyter.widget-view+json": {
       "model_id": "4dd3e363b732410b9d383f3790a3d6ee",
       "version_major": 2,
       "version_minor": 0
      },
      "text/plain": [
       "  0%|          | 0/72 [00:00<?, ?it/s]"
      ]
     },
     "metadata": {},
     "output_type": "display_data"
    },
    {
     "name": "stdout",
     "output_type": "stream",
     "text": [
      "Detected 30 velocity genes.\n",
      "Estimating the variance...\n"
     ]
    },
    {
     "data": {
      "application/vnd.jupyter.widget-view+json": {
       "model_id": "27b2b2110bcb48bc9923d9082c276d93",
       "version_major": 2,
       "version_minor": 0
      },
      "text/plain": [
       "  0%|          | 0/72 [00:00<?, ?it/s]"
      ]
     },
     "metadata": {},
     "output_type": "display_data"
    },
    {
     "name": "stdout",
     "output_type": "stream",
     "text": [
      "Initialization using the steady-state and dynamical models.\n",
      "Reinitialize the regular ODE parameters based on estimated global latent time.\n"
     ]
    },
    {
     "data": {
      "application/vnd.jupyter.widget-view+json": {
       "model_id": "8c9fdfc98905477caf88b8216c079c0b",
       "version_major": 2,
       "version_minor": 0
      },
      "text/plain": [
       "  0%|          | 0/72 [00:00<?, ?it/s]"
      ]
     },
     "metadata": {},
     "output_type": "display_data"
    },
    {
     "name": "stdout",
     "output_type": "stream",
     "text": [
      "3 clusters detected based on gene co-expression.\n",
      "(0.62, 0.1494859643683501), (0.38, 0.8554410718115751)\n",
      "KS-test result: [0. 1. 1.]\n",
      "Initial induction: 49, repression: 23/72\n",
      "Learning Rate based on Data Sparsity: 0.0000\n",
      "--------------------------- Train a VeloVAE ---------------------------\n",
      "*********        Creating Training/Validation Datasets        *********\n",
      "*********                      Finished.                      *********\n",
      "*********                 Creating optimizers                 *********\n",
      "*********                      Finished.                      *********\n",
      "*********                    Start training                   *********\n",
      "*********                      Stage  1                       *********\n",
      "Total Number of Iterations Per Epoch: 3, test iteration: 4\n",
      "*********       Stage 1: Early Stop Triggered at epoch 10.       *********\n",
      "*********                      Stage  2                       *********\n",
      "*********             Velocity Refinement Round 1             *********\n"
     ]
    },
    {
     "data": {
      "application/vnd.jupyter.widget-view+json": {
       "model_id": "1ede4058c39841198a39d754b211a599",
       "version_major": 2,
       "version_minor": 0
      },
      "text/plain": [
       "  0%|          | 0/400 [00:00<?, ?it/s]"
      ]
     },
     "metadata": {},
     "output_type": "display_data"
    },
    {
     "name": "stdout",
     "output_type": "stream",
     "text": [
      "Percentage of Invalid Sets: 0.045\n",
      "Average Set Size: 18\n",
      "*********     Round 1: Early Stop Triggered at epoch 57.    *********\n",
      "Change in noise variance: 0.2595\n",
      "*********             Velocity Refinement Round 2             *********\n",
      "*********     Round 2: Early Stop Triggered at epoch 184.    *********\n",
      "Change in noise variance: 0.0213\n",
      "Change in x0: 0.4230\n",
      "*********             Velocity Refinement Round 3             *********\n",
      "*********     Round 3: Early Stop Triggered at epoch 195.    *********\n",
      "Change in noise variance: 0.0013\n",
      "Change in x0: 0.4526\n",
      "*********             Velocity Refinement Round 4             *********\n",
      "*********     Round 4: Early Stop Triggered at epoch 202.    *********\n",
      "Change in noise variance: 0.0008\n",
      "Change in x0: 0.3712\n",
      "*********             Velocity Refinement Round 5             *********\n",
      "*********     Round 5: Early Stop Triggered at epoch 217.    *********\n",
      "Change in noise variance: 0.0000\n",
      "Change in x0: 0.2914\n",
      "*********             Velocity Refinement Round 6             *********\n",
      "*********     Round 6: Early Stop Triggered at epoch 224.    *********\n",
      "Change in noise variance: 0.0000\n",
      "Change in x0: 0.2443\n",
      "*********             Velocity Refinement Round 7             *********\n",
      "*********     Round 7: Early Stop Triggered at epoch 235.    *********\n",
      "Change in noise variance: 0.0000\n",
      "Change in x0: 0.2246\n",
      "*********             Velocity Refinement Round 8             *********\n",
      "*********     Round 8: Early Stop Triggered at epoch 242.    *********\n",
      "Change in noise variance: 0.0000\n",
      "Change in x0: 0.2088\n",
      "*********             Velocity Refinement Round 9             *********\n",
      "*********     Round 9: Early Stop Triggered at epoch 249.    *********\n",
      "Change in noise variance: 0.0000\n",
      "Change in x0: 0.1991\n",
      "*********             Velocity Refinement Round 10             *********\n",
      "Stage 2: Early Stop Triggered at round 9.\n",
      "*********              Finished. Total Time =   0 h :  0 m : 21 s             *********\n",
      "Final: Train ELBO = -12114.753,\tTest ELBO = -12328.426\n",
      "Estimating ODE parameters...\n"
     ]
    },
    {
     "data": {
      "application/vnd.jupyter.widget-view+json": {
       "model_id": "d6b1108a85564515833f53b65519f2d1",
       "version_major": 2,
       "version_minor": 0
      },
      "text/plain": [
       "  0%|          | 0/85 [00:00<?, ?it/s]"
      ]
     },
     "metadata": {},
     "output_type": "display_data"
    },
    {
     "name": "stdout",
     "output_type": "stream",
     "text": [
      "Detected 31 velocity genes.\n",
      "Estimating the variance...\n"
     ]
    },
    {
     "data": {
      "application/vnd.jupyter.widget-view+json": {
       "model_id": "bb449c3e92254b8986353a3664dc576a",
       "version_major": 2,
       "version_minor": 0
      },
      "text/plain": [
       "  0%|          | 0/85 [00:00<?, ?it/s]"
      ]
     },
     "metadata": {},
     "output_type": "display_data"
    },
    {
     "name": "stdout",
     "output_type": "stream",
     "text": [
      "Initialization using the steady-state and dynamical models.\n",
      "Reinitialize the regular ODE parameters based on estimated global latent time.\n"
     ]
    },
    {
     "data": {
      "application/vnd.jupyter.widget-view+json": {
       "model_id": "453bf9fa17e04cba8472abba0404b6a1",
       "version_major": 2,
       "version_minor": 0
      },
      "text/plain": [
       "  0%|          | 0/85 [00:00<?, ?it/s]"
      ]
     },
     "metadata": {},
     "output_type": "display_data"
    },
    {
     "name": "stdout",
     "output_type": "stream",
     "text": [
      "3 clusters detected based on gene co-expression.\n",
      "(0.62, 0.7680112510853812), (0.38, 0.1779761449705523)\n",
      "KS-test result: [1. 1. 0.]\n",
      "Initial induction: 72, repression: 13/85\n",
      "Learning Rate based on Data Sparsity: 0.0000\n",
      "--------------------------- Train a VeloVAE ---------------------------\n",
      "*********        Creating Training/Validation Datasets        *********\n",
      "*********                      Finished.                      *********\n",
      "*********                 Creating optimizers                 *********\n",
      "*********                      Finished.                      *********\n",
      "*********                    Start training                   *********\n",
      "*********                      Stage  1                       *********\n",
      "Total Number of Iterations Per Epoch: 2, test iteration: 2\n",
      "*********       Stage 1: Early Stop Triggered at epoch 215.       *********\n",
      "*********                      Stage  2                       *********\n",
      "*********             Velocity Refinement Round 1             *********\n"
     ]
    },
    {
     "data": {
      "application/vnd.jupyter.widget-view+json": {
       "model_id": "769ab77bce254ccf94f1857d3e112fa8",
       "version_major": 2,
       "version_minor": 0
      },
      "text/plain": [
       "  0%|          | 0/300 [00:00<?, ?it/s]"
      ]
     },
     "metadata": {},
     "output_type": "display_data"
    },
    {
     "name": "stdout",
     "output_type": "stream",
     "text": [
      "Percentage of Invalid Sets: 0.023\n",
      "Average Set Size: 16\n",
      "*********     Round 1: Early Stop Triggered at epoch 625.    *********\n",
      "Change in noise variance: 0.7099\n",
      "*********             Velocity Refinement Round 2             *********\n",
      "*********     Round 2: Early Stop Triggered at epoch 697.    *********\n",
      "Change in noise variance: 0.0840\n",
      "Change in x0: 0.2672\n",
      "*********             Velocity Refinement Round 3             *********\n",
      "*********     Round 3: Early Stop Triggered at epoch 714.    *********\n",
      "Change in noise variance: 0.0085\n",
      "Change in x0: 0.2250\n",
      "*********             Velocity Refinement Round 4             *********\n",
      "*********     Round 4: Early Stop Triggered at epoch 720.    *********\n",
      "Change in noise variance: 0.0042\n",
      "Change in x0: 0.1654\n",
      "*********             Velocity Refinement Round 5             *********\n",
      "*********     Round 5: Early Stop Triggered at epoch 725.    *********\n",
      "Change in noise variance: 0.0017\n",
      "Change in x0: 0.1122\n",
      "*********             Velocity Refinement Round 6             *********\n",
      "*********     Round 6: Early Stop Triggered at epoch 731.    *********\n",
      "Change in noise variance: 0.0010\n",
      "Change in x0: 0.0804\n",
      "*********             Velocity Refinement Round 7             *********\n",
      "*********     Round 7: Early Stop Triggered at epoch 737.    *********\n",
      "Change in noise variance: 0.0000\n",
      "Change in x0: 0.0653\n",
      "*********             Velocity Refinement Round 8             *********\n",
      "*********     Round 8: Early Stop Triggered at epoch 799.    *********\n",
      "Change in noise variance: 0.0000\n",
      "Change in x0: 0.0524\n",
      "*********             Velocity Refinement Round 9             *********\n",
      "*********     Round 9: Early Stop Triggered at epoch 808.    *********\n",
      "Change in noise variance: 0.0000\n",
      "Change in x0: 0.0711\n",
      "*********             Velocity Refinement Round 10             *********\n",
      "Stage 2: Early Stop Triggered at round 9.\n",
      "*********              Finished. Total Time =   0 h :  0 m : 52 s             *********\n",
      "Final: Train ELBO = -8640.196,\tTest ELBO = -8722.279\n",
      "Estimating ODE parameters...\n"
     ]
    },
    {
     "data": {
      "application/vnd.jupyter.widget-view+json": {
       "model_id": "8926a1884aa541f3ae2af2fbd681f2a1",
       "version_major": 2,
       "version_minor": 0
      },
      "text/plain": [
       "  0%|          | 0/79 [00:00<?, ?it/s]"
      ]
     },
     "metadata": {},
     "output_type": "display_data"
    },
    {
     "name": "stdout",
     "output_type": "stream",
     "text": [
      "Detected 37 velocity genes.\n",
      "Estimating the variance...\n"
     ]
    },
    {
     "data": {
      "application/vnd.jupyter.widget-view+json": {
       "model_id": "5f87dfbb59a64a09b2340ef1ebfbe45a",
       "version_major": 2,
       "version_minor": 0
      },
      "text/plain": [
       "  0%|          | 0/79 [00:00<?, ?it/s]"
      ]
     },
     "metadata": {},
     "output_type": "display_data"
    },
    {
     "name": "stdout",
     "output_type": "stream",
     "text": [
      "Initialization using the steady-state and dynamical models.\n",
      "Reinitialize the regular ODE parameters based on estimated global latent time.\n"
     ]
    },
    {
     "data": {
      "application/vnd.jupyter.widget-view+json": {
       "model_id": "82b1b67f17034add80a18bb5af539594",
       "version_major": 2,
       "version_minor": 0
      },
      "text/plain": [
       "  0%|          | 0/79 [00:00<?, ?it/s]"
      ]
     },
     "metadata": {},
     "output_type": "display_data"
    },
    {
     "name": "stdout",
     "output_type": "stream",
     "text": [
      "3 clusters detected based on gene co-expression.\n",
      "KS-test result: [1. 1. 1.]\n",
      "Assign cluster 1 to repressive\n",
      "Initial induction: 50, repression: 29/79\n",
      "Learning Rate based on Data Sparsity: 0.0000\n",
      "--------------------------- Train a VeloVAE ---------------------------\n",
      "*********        Creating Training/Validation Datasets        *********\n",
      "*********                      Finished.                      *********\n",
      "*********                 Creating optimizers                 *********\n",
      "*********                      Finished.                      *********\n",
      "*********                    Start training                   *********\n",
      "*********                      Stage  1                       *********\n",
      "Total Number of Iterations Per Epoch: 2, test iteration: 2\n",
      "*********       Stage 1: Early Stop Triggered at epoch 10.       *********\n",
      "*********                      Stage  2                       *********\n",
      "*********             Velocity Refinement Round 1             *********\n"
     ]
    },
    {
     "data": {
      "application/vnd.jupyter.widget-view+json": {
       "model_id": "333ad82148e748158176a7a99e0ee1e2",
       "version_major": 2,
       "version_minor": 0
      },
      "text/plain": [
       "  0%|          | 0/300 [00:00<?, ?it/s]"
      ]
     },
     "metadata": {},
     "output_type": "display_data"
    },
    {
     "name": "stdout",
     "output_type": "stream",
     "text": [
      "Percentage of Invalid Sets: 0.033\n",
      "Average Set Size: 17\n",
      "*********     Round 1: Early Stop Triggered at epoch 16.    *********\n",
      "Change in noise variance: 0.2294\n",
      "*********             Velocity Refinement Round 2             *********\n",
      "*********     Round 2: Early Stop Triggered at epoch 21.    *********\n",
      "Change in noise variance: 0.0072\n",
      "Change in x0: 0.5413\n",
      "*********             Velocity Refinement Round 3             *********\n",
      "*********     Round 3: Early Stop Triggered at epoch 30.    *********\n",
      "Change in noise variance: 0.0046\n",
      "Change in x0: 0.3871\n",
      "*********             Velocity Refinement Round 4             *********\n",
      "*********     Round 4: Early Stop Triggered at epoch 36.    *********\n",
      "Change in noise variance: 0.0114\n",
      "Change in x0: 0.3332\n",
      "*********             Velocity Refinement Round 5             *********\n",
      "*********     Round 5: Early Stop Triggered at epoch 45.    *********\n",
      "Change in noise variance: 0.0150\n",
      "Change in x0: 0.2683\n",
      "*********             Velocity Refinement Round 6             *********\n",
      "*********     Round 6: Early Stop Triggered at epoch 54.    *********\n",
      "Change in noise variance: 0.0011\n",
      "Change in x0: 0.2226\n",
      "*********             Velocity Refinement Round 7             *********\n",
      "*********     Round 7: Early Stop Triggered at epoch 62.    *********\n",
      "Change in noise variance: 0.0041\n",
      "Change in x0: 0.1993\n",
      "*********             Velocity Refinement Round 8             *********\n",
      "*********     Round 8: Early Stop Triggered at epoch 68.    *********\n",
      "Change in noise variance: 0.0036\n",
      "Change in x0: 0.1888\n",
      "*********             Velocity Refinement Round 9             *********\n",
      "*********     Round 9: Early Stop Triggered at epoch 73.    *********\n",
      "Change in noise variance: 0.0025\n",
      "Change in x0: 0.1799\n",
      "*********             Velocity Refinement Round 10             *********\n",
      "*********     Round 10: Early Stop Triggered at epoch 85.    *********\n",
      "Change in noise variance: 0.0016\n",
      "Change in x0: 0.1698\n",
      "*********             Velocity Refinement Round 11             *********\n",
      "*********     Round 11: Early Stop Triggered at epoch 92.    *********\n",
      "Change in noise variance: 0.0010\n",
      "Change in x0: 0.1602\n",
      "*********             Velocity Refinement Round 12             *********\n",
      "*********     Round 12: Early Stop Triggered at epoch 101.    *********\n",
      "Change in noise variance: 0.0007\n",
      "Change in x0: 0.1550\n",
      "*********             Velocity Refinement Round 13             *********\n",
      "Stage 2: Early Stop Triggered at round 12.\n",
      "*********              Finished. Total Time =   0 h :  0 m : 18 s             *********\n",
      "Final: Train ELBO = -16939.322,\tTest ELBO = -17156.008\n",
      "Estimating ODE parameters...\n"
     ]
    },
    {
     "data": {
      "application/vnd.jupyter.widget-view+json": {
       "model_id": "374c1eb36daf4bb1945ec46613ed4c15",
       "version_major": 2,
       "version_minor": 0
      },
      "text/plain": [
       "  0%|          | 0/83 [00:00<?, ?it/s]"
      ]
     },
     "metadata": {},
     "output_type": "display_data"
    },
    {
     "name": "stdout",
     "output_type": "stream",
     "text": [
      "Detected 38 velocity genes.\n",
      "Estimating the variance...\n"
     ]
    },
    {
     "data": {
      "application/vnd.jupyter.widget-view+json": {
       "model_id": "2685ff5fefd746bfa30056fc86d45837",
       "version_major": 2,
       "version_minor": 0
      },
      "text/plain": [
       "  0%|          | 0/83 [00:00<?, ?it/s]"
      ]
     },
     "metadata": {},
     "output_type": "display_data"
    },
    {
     "name": "stdout",
     "output_type": "stream",
     "text": [
      "Initialization using the steady-state and dynamical models.\n",
      "Reinitialize the regular ODE parameters based on estimated global latent time.\n"
     ]
    },
    {
     "data": {
      "application/vnd.jupyter.widget-view+json": {
       "model_id": "8627d7d3c54b461cb60db8887a07a33c",
       "version_major": 2,
       "version_minor": 0
      },
      "text/plain": [
       "  0%|          | 0/83 [00:00<?, ?it/s]"
      ]
     },
     "metadata": {},
     "output_type": "display_data"
    },
    {
     "name": "stdout",
     "output_type": "stream",
     "text": [
      "3 clusters detected based on gene co-expression.\n",
      "KS-test result: [1. 1. 1.]\n",
      "Assign cluster 1 to repressive\n",
      "Initial induction: 56, repression: 27/83\n",
      "Learning Rate based on Data Sparsity: 0.0000\n",
      "--------------------------- Train a VeloVAE ---------------------------\n",
      "*********        Creating Training/Validation Datasets        *********\n",
      "*********                      Finished.                      *********\n",
      "*********                 Creating optimizers                 *********\n",
      "*********                      Finished.                      *********\n",
      "*********                    Start training                   *********\n",
      "*********                      Stage  1                       *********\n",
      "Total Number of Iterations Per Epoch: 2, test iteration: 2\n",
      "*********       Stage 1: Early Stop Triggered at epoch 24.       *********\n",
      "*********                      Stage  2                       *********\n",
      "*********             Velocity Refinement Round 1             *********\n"
     ]
    },
    {
     "data": {
      "application/vnd.jupyter.widget-view+json": {
       "model_id": "4efa5b4000284f27894813801d9cbc05",
       "version_major": 2,
       "version_minor": 0
      },
      "text/plain": [
       "  0%|          | 0/300 [00:00<?, ?it/s]"
      ]
     },
     "metadata": {},
     "output_type": "display_data"
    },
    {
     "name": "stdout",
     "output_type": "stream",
     "text": [
      "Percentage of Invalid Sets: 0.030\n",
      "Average Set Size: 17\n",
      "*********     Round 1: Early Stop Triggered at epoch 39.    *********\n",
      "Change in noise variance: 0.2136\n",
      "*********             Velocity Refinement Round 2             *********\n",
      "*********     Round 2: Early Stop Triggered at epoch 44.    *********\n",
      "Change in noise variance: 0.0086\n",
      "Change in x0: 0.6531\n",
      "*********             Velocity Refinement Round 3             *********\n",
      "*********     Round 3: Early Stop Triggered at epoch 224.    *********\n",
      "Change in noise variance: 0.0015\n",
      "Change in x0: 0.4806\n",
      "*********             Velocity Refinement Round 4             *********\n",
      "*********     Round 4: Early Stop Triggered at epoch 254.    *********\n",
      "Change in noise variance: 0.0004\n",
      "Change in x0: 0.3275\n",
      "*********             Velocity Refinement Round 5             *********\n",
      "*********     Round 5: Early Stop Triggered at epoch 298.    *********\n",
      "Change in noise variance: 0.0000\n",
      "Change in x0: 0.2862\n",
      "*********             Velocity Refinement Round 6             *********\n",
      "*********     Round 6: Early Stop Triggered at epoch 322.    *********\n",
      "Change in noise variance: 0.0000\n",
      "Change in x0: 0.2618\n",
      "*********             Velocity Refinement Round 7             *********\n",
      "*********     Round 7: Early Stop Triggered at epoch 347.    *********\n",
      "Change in noise variance: 0.0000\n",
      "Change in x0: 0.2411\n",
      "*********             Velocity Refinement Round 8             *********\n",
      "*********     Round 8: Early Stop Triggered at epoch 432.    *********\n",
      "Change in noise variance: 0.0000\n",
      "Change in x0: 0.2238\n",
      "*********             Velocity Refinement Round 9             *********\n",
      "*********     Round 9: Early Stop Triggered at epoch 442.    *********\n",
      "Change in noise variance: 0.0000\n",
      "Change in x0: 0.2127\n",
      "*********             Velocity Refinement Round 10             *********\n",
      "*********     Round 10: Early Stop Triggered at epoch 478.    *********\n",
      "Change in noise variance: 0.0000\n",
      "Change in x0: 0.2050\n",
      "*********             Velocity Refinement Round 11             *********\n",
      "Stage 2: Early Stop Triggered at round 10.\n",
      "*********              Finished. Total Time =   0 h :  0 m : 37 s             *********\n",
      "Final: Train ELBO = -13098.929,\tTest ELBO = -13426.184\n",
      "Estimating ODE parameters...\n"
     ]
    },
    {
     "data": {
      "application/vnd.jupyter.widget-view+json": {
       "model_id": "eb7f6b545cb84c80933a7d258cbec20b",
       "version_major": 2,
       "version_minor": 0
      },
      "text/plain": [
       "  0%|          | 0/81 [00:00<?, ?it/s]"
      ]
     },
     "metadata": {},
     "output_type": "display_data"
    },
    {
     "name": "stdout",
     "output_type": "stream",
     "text": [
      "Detected 35 velocity genes.\n",
      "Estimating the variance...\n"
     ]
    },
    {
     "data": {
      "application/vnd.jupyter.widget-view+json": {
       "model_id": "c40e85296be34c26b981cc7097cfa174",
       "version_major": 2,
       "version_minor": 0
      },
      "text/plain": [
       "  0%|          | 0/81 [00:00<?, ?it/s]"
      ]
     },
     "metadata": {},
     "output_type": "display_data"
    },
    {
     "name": "stdout",
     "output_type": "stream",
     "text": [
      "Initialization using the steady-state and dynamical models.\n",
      "Reinitialize the regular ODE parameters based on estimated global latent time.\n"
     ]
    },
    {
     "data": {
      "application/vnd.jupyter.widget-view+json": {
       "model_id": "eb845dd1a73249d39b9eabb5ee304f6b",
       "version_major": 2,
       "version_minor": 0
      },
      "text/plain": [
       "  0%|          | 0/81 [00:00<?, ?it/s]"
      ]
     },
     "metadata": {},
     "output_type": "display_data"
    },
    {
     "name": "stdout",
     "output_type": "stream",
     "text": [
      "3 clusters detected based on gene co-expression.\n",
      "KS-test result: [1. 1. 1.]\n",
      "Assign cluster 2 to repressive\n",
      "Initial induction: 48, repression: 33/81\n",
      "Learning Rate based on Data Sparsity: 0.0000\n",
      "--------------------------- Train a VeloVAE ---------------------------\n",
      "*********        Creating Training/Validation Datasets        *********\n",
      "*********                      Finished.                      *********\n",
      "*********                 Creating optimizers                 *********\n",
      "*********                      Finished.                      *********\n",
      "*********                    Start training                   *********\n",
      "*********                      Stage  1                       *********\n",
      "Total Number of Iterations Per Epoch: 2, test iteration: 2\n",
      "*********       Stage 1: Early Stop Triggered at epoch 940.       *********\n",
      "*********                      Stage  2                       *********\n",
      "*********             Velocity Refinement Round 1             *********\n"
     ]
    },
    {
     "data": {
      "application/vnd.jupyter.widget-view+json": {
       "model_id": "1747799527024326b31552a038cc98ec",
       "version_major": 2,
       "version_minor": 0
      },
      "text/plain": [
       "  0%|          | 0/300 [00:00<?, ?it/s]"
      ]
     },
     "metadata": {},
     "output_type": "display_data"
    },
    {
     "name": "stdout",
     "output_type": "stream",
     "text": [
      "Percentage of Invalid Sets: 0.033\n",
      "Average Set Size: 23\n",
      "*********     Round 1: Early Stop Triggered at epoch 1145.    *********\n",
      "Change in noise variance: 0.2259\n",
      "*********             Velocity Refinement Round 2             *********\n",
      "*********     Round 2: Early Stop Triggered at epoch 1151.    *********\n",
      "Change in noise variance: 0.2420\n",
      "Change in x0: 0.9584\n",
      "*********             Velocity Refinement Round 3             *********\n",
      "*********     Round 3: Early Stop Triggered at epoch 1156.    *********\n",
      "Change in noise variance: 0.0045\n",
      "Change in x0: 0.7704\n",
      "*********             Velocity Refinement Round 4             *********\n",
      "*********     Round 4: Early Stop Triggered at epoch 1161.    *********\n",
      "Change in noise variance: 0.0063\n",
      "Change in x0: 0.7077\n",
      "*********             Velocity Refinement Round 5             *********\n",
      "*********     Round 5: Early Stop Triggered at epoch 1166.    *********\n",
      "Change in noise variance: 0.0023\n",
      "Change in x0: 0.5915\n",
      "*********             Velocity Refinement Round 6             *********\n",
      "*********     Round 6: Early Stop Triggered at epoch 1171.    *********\n",
      "Change in noise variance: 0.0040\n",
      "Change in x0: 0.4506\n",
      "*********             Velocity Refinement Round 7             *********\n",
      "*********     Round 7: Early Stop Triggered at epoch 1176.    *********\n",
      "Change in noise variance: 0.0052\n",
      "Change in x0: 0.3248\n",
      "*********             Velocity Refinement Round 8             *********\n",
      "*********     Round 8: Early Stop Triggered at epoch 1181.    *********\n",
      "Change in noise variance: 0.0035\n",
      "Change in x0: 0.2641\n",
      "*********             Velocity Refinement Round 9             *********\n",
      "*********     Round 9: Early Stop Triggered at epoch 1186.    *********\n",
      "Change in noise variance: 0.0042\n",
      "Change in x0: 0.2259\n",
      "*********             Velocity Refinement Round 10             *********\n",
      "*********     Round 10: Early Stop Triggered at epoch 1403.    *********\n",
      "Change in noise variance: 0.0026\n",
      "Change in x0: 0.1946\n",
      "*********             Velocity Refinement Round 11             *********\n",
      "*********     Round 11: Early Stop Triggered at epoch 1408.    *********\n",
      "Change in noise variance: 0.0060\n",
      "Change in x0: 0.1857\n",
      "*********             Velocity Refinement Round 12             *********\n",
      "*********     Round 12: Early Stop Triggered at epoch 1413.    *********\n",
      "Change in noise variance: 0.0029\n",
      "Change in x0: 0.1329\n",
      "*********             Velocity Refinement Round 13             *********\n",
      "*********     Round 13: Early Stop Triggered at epoch 1501.    *********\n",
      "Change in noise variance: 0.0042\n",
      "Change in x0: 0.0993\n",
      "*********             Velocity Refinement Round 14             *********\n",
      "*********     Round 14: Early Stop Triggered at epoch 1506.    *********\n",
      "Change in noise variance: 0.0026\n",
      "Change in x0: 0.0917\n",
      "*********             Velocity Refinement Round 15             *********\n",
      "*********     Round 15: Early Stop Triggered at epoch 1512.    *********\n",
      "Change in noise variance: 0.0027\n",
      "Change in x0: 0.0536\n",
      "*********             Velocity Refinement Round 16             *********\n",
      "*********     Round 16: Early Stop Triggered at epoch 1753.    *********\n",
      "Change in noise variance: 0.0038\n",
      "Change in x0: 0.0348\n",
      "*********             Velocity Refinement Round 17             *********\n",
      "*********     Round 17: Early Stop Triggered at epoch 1768.    *********\n",
      "Change in noise variance: 0.0020\n",
      "Change in x0: 0.1141\n",
      "*********             Velocity Refinement Round 18             *********\n",
      "*********     Round 18: Early Stop Triggered at epoch 1774.    *********\n",
      "Change in noise variance: 0.0012\n",
      "Change in x0: 0.0552\n",
      "*********             Velocity Refinement Round 19             *********\n",
      "*********     Round 19: Early Stop Triggered at epoch 1847.    *********\n",
      "Change in noise variance: 0.0014\n",
      "Change in x0: 0.0458\n",
      "*********             Velocity Refinement Round 20             *********\n",
      "Stage 2: Early Stop Triggered at round 19.\n",
      "*********              Finished. Total Time =   0 h :  1 m : 33 s             *********\n",
      "Final: Train ELBO = -1605.839,\tTest ELBO = -1667.010\n",
      "Estimating ODE parameters...\n"
     ]
    },
    {
     "data": {
      "application/vnd.jupyter.widget-view+json": {
       "model_id": "8d6848be7273481cb4e85c081defefaa",
       "version_major": 2,
       "version_minor": 0
      },
      "text/plain": [
       "  0%|          | 0/74 [00:00<?, ?it/s]"
      ]
     },
     "metadata": {},
     "output_type": "display_data"
    },
    {
     "name": "stdout",
     "output_type": "stream",
     "text": [
      "Detected 30 velocity genes.\n",
      "Estimating the variance...\n"
     ]
    },
    {
     "data": {
      "application/vnd.jupyter.widget-view+json": {
       "model_id": "b243871e24bc4b55a05c71a372a85cf9",
       "version_major": 2,
       "version_minor": 0
      },
      "text/plain": [
       "  0%|          | 0/74 [00:00<?, ?it/s]"
      ]
     },
     "metadata": {},
     "output_type": "display_data"
    },
    {
     "name": "stdout",
     "output_type": "stream",
     "text": [
      "Initialization using the steady-state and dynamical models.\n",
      "Reinitialize the regular ODE parameters based on estimated global latent time.\n"
     ]
    },
    {
     "data": {
      "application/vnd.jupyter.widget-view+json": {
       "model_id": "de77407027674559a1fb43ef70ce9d73",
       "version_major": 2,
       "version_minor": 0
      },
      "text/plain": [
       "  0%|          | 0/74 [00:00<?, ?it/s]"
      ]
     },
     "metadata": {},
     "output_type": "display_data"
    },
    {
     "name": "stdout",
     "output_type": "stream",
     "text": [
      "3 clusters detected based on gene co-expression.\n",
      "(0.40, 0.17999999999639998), (0.60, 0.7935524750489109)\n",
      "KS-test result: [1. 1. 0.]\n",
      "Initial induction: 60, repression: 14/74\n",
      "Learning Rate based on Data Sparsity: 0.0000\n",
      "--------------------------- Train a VeloVAE ---------------------------\n",
      "*********        Creating Training/Validation Datasets        *********\n",
      "*********                      Finished.                      *********\n",
      "*********                 Creating optimizers                 *********\n",
      "*********                      Finished.                      *********\n",
      "*********                    Start training                   *********\n",
      "*********                      Stage  1                       *********\n",
      "Total Number of Iterations Per Epoch: 2, test iteration: 2\n",
      "*********       Stage 1: Early Stop Triggered at epoch 9.       *********\n",
      "*********                      Stage  2                       *********\n",
      "*********             Velocity Refinement Round 1             *********\n"
     ]
    },
    {
     "data": {
      "application/vnd.jupyter.widget-view+json": {
       "model_id": "2d7400c5fdb84c2b9b6a5f1f37d870ce",
       "version_major": 2,
       "version_minor": 0
      },
      "text/plain": [
       "  0%|          | 0/200 [00:00<?, ?it/s]"
      ]
     },
     "metadata": {},
     "output_type": "display_data"
    },
    {
     "name": "stdout",
     "output_type": "stream",
     "text": [
      "Percentage of Invalid Sets: 0.020\n",
      "Average Set Size: 12\n",
      "*********     Round 1: Early Stop Triggered at epoch 200.    *********\n",
      "Change in noise variance: 1.1207\n",
      "*********             Velocity Refinement Round 2             *********\n",
      "*********     Round 2: Early Stop Triggered at epoch 229.    *********\n",
      "Change in noise variance: 0.0484\n",
      "Change in x0: 0.4921\n",
      "*********             Velocity Refinement Round 3             *********\n",
      "*********     Round 3: Early Stop Triggered at epoch 240.    *********\n",
      "Change in noise variance: 0.0027\n",
      "Change in x0: 0.3630\n",
      "*********             Velocity Refinement Round 4             *********\n",
      "*********     Round 4: Early Stop Triggered at epoch 266.    *********\n",
      "Change in noise variance: 0.0016\n",
      "Change in x0: 0.3171\n",
      "*********             Velocity Refinement Round 5             *********\n",
      "*********     Round 5: Early Stop Triggered at epoch 282.    *********\n",
      "Change in noise variance: 0.0009\n",
      "Change in x0: 0.2796\n",
      "*********             Velocity Refinement Round 6             *********\n",
      "*********     Round 6: Early Stop Triggered at epoch 303.    *********\n",
      "Change in noise variance: 0.0000\n",
      "Change in x0: 0.2425\n",
      "*********             Velocity Refinement Round 7             *********\n",
      "*********     Round 7: Early Stop Triggered at epoch 309.    *********\n",
      "Change in noise variance: 0.0000\n",
      "Change in x0: 0.2244\n",
      "*********             Velocity Refinement Round 8             *********\n",
      "*********     Round 8: Early Stop Triggered at epoch 337.    *********\n",
      "Change in noise variance: 0.0000\n",
      "Change in x0: 0.2111\n",
      "*********             Velocity Refinement Round 9             *********\n",
      "*********     Round 9: Early Stop Triggered at epoch 363.    *********\n",
      "Change in noise variance: 0.0000\n",
      "Change in x0: 0.1923\n",
      "*********             Velocity Refinement Round 10             *********\n",
      "*********     Round 10: Early Stop Triggered at epoch 372.    *********\n",
      "Change in noise variance: 0.0000\n",
      "Change in x0: 0.1785\n",
      "*********             Velocity Refinement Round 11             *********\n",
      "*********     Round 11: Early Stop Triggered at epoch 384.    *********\n",
      "Change in noise variance: 0.0000\n",
      "Change in x0: 0.1698\n",
      "*********             Velocity Refinement Round 12             *********\n",
      "Stage 2: Early Stop Triggered at round 11.\n",
      "*********              Finished. Total Time =   0 h :  0 m : 26 s             *********\n",
      "Final: Train ELBO = -15334.994,\tTest ELBO = -15484.329\n",
      "Estimating ODE parameters...\n"
     ]
    },
    {
     "data": {
      "application/vnd.jupyter.widget-view+json": {
       "model_id": "9f045d35ba9947bab8e0c6761f475ec1",
       "version_major": 2,
       "version_minor": 0
      },
      "text/plain": [
       "  0%|          | 0/50 [00:00<?, ?it/s]"
      ]
     },
     "metadata": {},
     "output_type": "display_data"
    },
    {
     "name": "stdout",
     "output_type": "stream",
     "text": [
      "Detected 31 velocity genes.\n",
      "Estimating the variance...\n"
     ]
    },
    {
     "data": {
      "application/vnd.jupyter.widget-view+json": {
       "model_id": "f9fd660267d94ff6a05a68e3ed9a29e5",
       "version_major": 2,
       "version_minor": 0
      },
      "text/plain": [
       "  0%|          | 0/50 [00:00<?, ?it/s]"
      ]
     },
     "metadata": {},
     "output_type": "display_data"
    },
    {
     "name": "stdout",
     "output_type": "stream",
     "text": [
      "Initialization using the steady-state and dynamical models.\n",
      "Reinitialize the regular ODE parameters based on estimated global latent time.\n"
     ]
    },
    {
     "data": {
      "application/vnd.jupyter.widget-view+json": {
       "model_id": "6c8b83ed866f4a158716d2d5217bf974",
       "version_major": 2,
       "version_minor": 0
      },
      "text/plain": [
       "  0%|          | 0/50 [00:00<?, ?it/s]"
      ]
     },
     "metadata": {},
     "output_type": "display_data"
    },
    {
     "name": "stdout",
     "output_type": "stream",
     "text": [
      "3 clusters detected based on gene co-expression.\n",
      "KS-test result: [1. 1. 1.]\n",
      "Assign cluster 0 to repressive\n",
      "Initial induction: 36, repression: 14/50\n",
      "Learning Rate based on Data Sparsity: 0.0000\n",
      "--------------------------- Train a VeloVAE ---------------------------\n",
      "*********        Creating Training/Validation Datasets        *********\n",
      "*********                      Finished.                      *********\n",
      "*********                 Creating optimizers                 *********\n",
      "*********                      Finished.                      *********\n",
      "*********                    Start training                   *********\n",
      "*********                      Stage  1                       *********\n",
      "Total Number of Iterations Per Epoch: 2, test iteration: 2\n",
      "*********       Stage 1: Early Stop Triggered at epoch 8.       *********\n",
      "*********                      Stage  2                       *********\n",
      "*********             Velocity Refinement Round 1             *********\n"
     ]
    },
    {
     "data": {
      "application/vnd.jupyter.widget-view+json": {
       "model_id": "e393f6d1e59d4cc89907a27bcf207013",
       "version_major": 2,
       "version_minor": 0
      },
      "text/plain": [
       "  0%|          | 0/300 [00:00<?, ?it/s]"
      ]
     },
     "metadata": {},
     "output_type": "display_data"
    },
    {
     "name": "stdout",
     "output_type": "stream",
     "text": [
      "Percentage of Invalid Sets: 0.030\n",
      "Average Set Size: 17\n",
      "*********     Round 1: Early Stop Triggered at epoch 14.    *********\n",
      "Change in noise variance: 0.2023\n",
      "*********             Velocity Refinement Round 2             *********\n",
      "*********     Round 2: Early Stop Triggered at epoch 19.    *********\n",
      "Change in noise variance: 0.0102\n",
      "Change in x0: 0.6114\n",
      "*********             Velocity Refinement Round 3             *********\n",
      "*********     Round 3: Early Stop Triggered at epoch 25.    *********\n",
      "Change in noise variance: 0.0015\n",
      "Change in x0: 0.4109\n",
      "*********             Velocity Refinement Round 4             *********\n",
      "*********     Round 4: Early Stop Triggered at epoch 31.    *********\n",
      "Change in noise variance: 0.0010\n",
      "Change in x0: 0.2966\n",
      "*********             Velocity Refinement Round 5             *********\n",
      "*********     Round 5: Early Stop Triggered at epoch 36.    *********\n",
      "Change in noise variance: 0.0000\n",
      "Change in x0: 0.2537\n",
      "*********             Velocity Refinement Round 6             *********\n",
      "*********     Round 6: Early Stop Triggered at epoch 41.    *********\n",
      "Change in noise variance: 0.0000\n",
      "Change in x0: 0.2370\n",
      "*********             Velocity Refinement Round 7             *********\n",
      "*********     Round 7: Early Stop Triggered at epoch 46.    *********\n",
      "Change in noise variance: 0.0000\n",
      "Change in x0: 0.2231\n",
      "*********             Velocity Refinement Round 8             *********\n",
      "*********     Round 8: Early Stop Triggered at epoch 51.    *********\n",
      "Change in noise variance: 0.0000\n",
      "Change in x0: 0.2072\n",
      "*********             Velocity Refinement Round 9             *********\n",
      "*********     Round 9: Early Stop Triggered at epoch 59.    *********\n",
      "Change in noise variance: 0.0000\n",
      "Change in x0: 0.1936\n",
      "*********             Velocity Refinement Round 10             *********\n",
      "*********     Round 10: Early Stop Triggered at epoch 67.    *********\n",
      "Change in noise variance: 0.0000\n",
      "Change in x0: 0.1863\n",
      "*********             Velocity Refinement Round 11             *********\n",
      "Stage 2: Early Stop Triggered at round 10.\n",
      "*********              Finished. Total Time =   0 h :  0 m : 18 s             *********\n",
      "Final: Train ELBO = -19504.984,\tTest ELBO = -19992.318\n",
      "Estimating ODE parameters...\n"
     ]
    },
    {
     "data": {
      "application/vnd.jupyter.widget-view+json": {
       "model_id": "a86b3f5302cd468181bc1787a6c37487",
       "version_major": 2,
       "version_minor": 0
      },
      "text/plain": [
       "  0%|          | 0/72 [00:00<?, ?it/s]"
      ]
     },
     "metadata": {},
     "output_type": "display_data"
    },
    {
     "name": "stdout",
     "output_type": "stream",
     "text": [
      "Detected 28 velocity genes.\n",
      "Estimating the variance...\n"
     ]
    },
    {
     "data": {
      "application/vnd.jupyter.widget-view+json": {
       "model_id": "e55e6ee1238e4579ad24e843c4282d1a",
       "version_major": 2,
       "version_minor": 0
      },
      "text/plain": [
       "  0%|          | 0/72 [00:00<?, ?it/s]"
      ]
     },
     "metadata": {},
     "output_type": "display_data"
    },
    {
     "name": "stdout",
     "output_type": "stream",
     "text": [
      "Initialization using the steady-state and dynamical models.\n",
      "Reinitialize the regular ODE parameters based on estimated global latent time.\n"
     ]
    },
    {
     "data": {
      "application/vnd.jupyter.widget-view+json": {
       "model_id": "6c8cef2206db4de987df16421bab3859",
       "version_major": 2,
       "version_minor": 0
      },
      "text/plain": [
       "  0%|          | 0/72 [00:00<?, ?it/s]"
      ]
     },
     "metadata": {},
     "output_type": "display_data"
    },
    {
     "name": "stdout",
     "output_type": "stream",
     "text": [
      "3 clusters detected based on gene co-expression.\n",
      "(0.36, 0.9320509281825696), (0.64, 0.2539013763998727)\n",
      "(0.30, 0.05787037036969842), (0.70, 0.8620463316579644)\n",
      "KS-test result: [1. 0. 0.]\n",
      "Initial induction: 37, repression: 35/72\n",
      "Learning Rate based on Data Sparsity: 0.0000\n",
      "--------------------------- Train a VeloVAE ---------------------------\n",
      "*********        Creating Training/Validation Datasets        *********\n",
      "*********                      Finished.                      *********\n",
      "*********                 Creating optimizers                 *********\n",
      "*********                      Finished.                      *********\n",
      "*********                    Start training                   *********\n",
      "*********                      Stage  1                       *********\n",
      "Total Number of Iterations Per Epoch: 2, test iteration: 2\n",
      "*********       Stage 1: Early Stop Triggered at epoch 7.       *********\n",
      "*********                      Stage  2                       *********\n",
      "*********             Velocity Refinement Round 1             *********\n"
     ]
    },
    {
     "data": {
      "application/vnd.jupyter.widget-view+json": {
       "model_id": "1c93269e08de4be8a20ed4b62c11e287",
       "version_major": 2,
       "version_minor": 0
      },
      "text/plain": [
       "  0%|          | 0/300 [00:00<?, ?it/s]"
      ]
     },
     "metadata": {},
     "output_type": "display_data"
    },
    {
     "name": "stdout",
     "output_type": "stream",
     "text": [
      "Percentage of Invalid Sets: 0.023\n",
      "Average Set Size: 17\n",
      "*********     Round 1: Early Stop Triggered at epoch 13.    *********\n",
      "Change in noise variance: 0.2301\n",
      "*********             Velocity Refinement Round 2             *********\n",
      "*********     Round 2: Early Stop Triggered at epoch 18.    *********\n",
      "Change in noise variance: 0.0175\n",
      "Change in x0: 0.6791\n",
      "*********             Velocity Refinement Round 3             *********\n",
      "*********     Round 3: Early Stop Triggered at epoch 24.    *********\n",
      "Change in noise variance: 0.0021\n",
      "Change in x0: 0.4718\n",
      "*********             Velocity Refinement Round 4             *********\n",
      "*********     Round 4: Early Stop Triggered at epoch 30.    *********\n",
      "Change in noise variance: 0.0061\n",
      "Change in x0: 0.3152\n",
      "*********             Velocity Refinement Round 5             *********\n",
      "*********     Round 5: Early Stop Triggered at epoch 36.    *********\n",
      "Change in noise variance: 0.0028\n",
      "Change in x0: 0.2411\n",
      "*********             Velocity Refinement Round 6             *********\n",
      "*********     Round 6: Early Stop Triggered at epoch 42.    *********\n",
      "Change in noise variance: 0.0006\n",
      "Change in x0: 0.2266\n",
      "*********             Velocity Refinement Round 7             *********\n",
      "*********     Round 7: Early Stop Triggered at epoch 48.    *********\n",
      "Change in noise variance: 0.0000\n",
      "Change in x0: 0.2186\n",
      "*********             Velocity Refinement Round 8             *********\n",
      "Stage 2: Early Stop Triggered at round 7.\n",
      "*********              Finished. Total Time =   0 h :  0 m : 18 s             *********\n",
      "Final: Train ELBO = -16154.742,\tTest ELBO = -15867.226\n",
      "Estimating ODE parameters...\n"
     ]
    },
    {
     "data": {
      "application/vnd.jupyter.widget-view+json": {
       "model_id": "669b57c685af425696996050ebfbcde2",
       "version_major": 2,
       "version_minor": 0
      },
      "text/plain": [
       "  0%|          | 0/77 [00:00<?, ?it/s]"
      ]
     },
     "metadata": {},
     "output_type": "display_data"
    },
    {
     "name": "stdout",
     "output_type": "stream",
     "text": [
      "Detected 37 velocity genes.\n",
      "Estimating the variance...\n"
     ]
    },
    {
     "data": {
      "application/vnd.jupyter.widget-view+json": {
       "model_id": "e8633f9dd62343ac9909c6438f128401",
       "version_major": 2,
       "version_minor": 0
      },
      "text/plain": [
       "  0%|          | 0/77 [00:00<?, ?it/s]"
      ]
     },
     "metadata": {},
     "output_type": "display_data"
    },
    {
     "name": "stdout",
     "output_type": "stream",
     "text": [
      "Initialization using the steady-state and dynamical models.\n",
      "Reinitialize the regular ODE parameters based on estimated global latent time.\n"
     ]
    },
    {
     "data": {
      "application/vnd.jupyter.widget-view+json": {
       "model_id": "d30ce5cbf28c4143b1f93366e4df4981",
       "version_major": 2,
       "version_minor": 0
      },
      "text/plain": [
       "  0%|          | 0/77 [00:00<?, ?it/s]"
      ]
     },
     "metadata": {},
     "output_type": "display_data"
    },
    {
     "name": "stdout",
     "output_type": "stream",
     "text": [
      "3 clusters detected based on gene co-expression.\n",
      "(0.56, 0.24578835857334116), (0.44, 0.8411598564162884)\n",
      "KS-test result: [1. 0. 1.]\n",
      "Initial induction: 55, repression: 22/77\n",
      "Learning Rate based on Data Sparsity: 0.0000\n",
      "--------------------------- Train a VeloVAE ---------------------------\n",
      "*********        Creating Training/Validation Datasets        *********\n",
      "*********                      Finished.                      *********\n",
      "*********                 Creating optimizers                 *********\n",
      "*********                      Finished.                      *********\n",
      "*********                    Start training                   *********\n",
      "*********                      Stage  1                       *********\n",
      "Total Number of Iterations Per Epoch: 2, test iteration: 2\n",
      "*********       Stage 1: Early Stop Triggered at epoch 10.       *********\n",
      "*********                      Stage  2                       *********\n",
      "*********             Velocity Refinement Round 1             *********\n"
     ]
    },
    {
     "data": {
      "application/vnd.jupyter.widget-view+json": {
       "model_id": "018a512826384934af05bf63f2b0b02c",
       "version_major": 2,
       "version_minor": 0
      },
      "text/plain": [
       "  0%|          | 0/300 [00:00<?, ?it/s]"
      ]
     },
     "metadata": {},
     "output_type": "display_data"
    },
    {
     "name": "stdout",
     "output_type": "stream",
     "text": [
      "Percentage of Invalid Sets: 0.037\n",
      "Average Set Size: 17\n",
      "*********     Round 1: Early Stop Triggered at epoch 24.    *********\n",
      "Change in noise variance: 0.3507\n",
      "*********             Velocity Refinement Round 2             *********\n",
      "*********     Round 2: Early Stop Triggered at epoch 29.    *********\n",
      "Change in noise variance: 0.0316\n",
      "Change in x0: 0.4174\n",
      "*********             Velocity Refinement Round 3             *********\n",
      "*********     Round 3: Early Stop Triggered at epoch 35.    *********\n",
      "Change in noise variance: 0.0019\n",
      "Change in x0: 0.3224\n",
      "*********             Velocity Refinement Round 4             *********\n",
      "*********     Round 4: Early Stop Triggered at epoch 41.    *********\n",
      "Change in noise variance: 0.0016\n",
      "Change in x0: 0.2422\n",
      "*********             Velocity Refinement Round 5             *********\n",
      "*********     Round 5: Early Stop Triggered at epoch 47.    *********\n",
      "Change in noise variance: 0.0008\n",
      "Change in x0: 0.2128\n",
      "*********             Velocity Refinement Round 6             *********\n",
      "*********     Round 6: Early Stop Triggered at epoch 53.    *********\n",
      "Change in noise variance: 0.0000\n",
      "Change in x0: 0.1934\n",
      "*********             Velocity Refinement Round 7             *********\n",
      "*********     Round 7: Early Stop Triggered at epoch 59.    *********\n",
      "Change in noise variance: 0.0000\n",
      "Change in x0: 0.1704\n",
      "*********             Velocity Refinement Round 8             *********\n",
      "*********     Round 8: Early Stop Triggered at epoch 67.    *********\n",
      "Change in noise variance: 0.0000\n",
      "Change in x0: 0.1488\n",
      "*********             Velocity Refinement Round 9             *********\n",
      "*********     Round 9: Early Stop Triggered at epoch 73.    *********\n",
      "Change in noise variance: 0.0000\n",
      "Change in x0: 0.1394\n",
      "*********             Velocity Refinement Round 10             *********\n",
      "Stage 2: Early Stop Triggered at round 9.\n",
      "*********              Finished. Total Time =   0 h :  0 m : 18 s             *********\n",
      "Final: Train ELBO = -14676.509,\tTest ELBO = -15549.430\n",
      "Estimating ODE parameters...\n"
     ]
    },
    {
     "data": {
      "application/vnd.jupyter.widget-view+json": {
       "model_id": "42c69118c9b64299bce75b37bfb0da60",
       "version_major": 2,
       "version_minor": 0
      },
      "text/plain": [
       "  0%|          | 0/73 [00:00<?, ?it/s]"
      ]
     },
     "metadata": {},
     "output_type": "display_data"
    },
    {
     "name": "stdout",
     "output_type": "stream",
     "text": [
      "Detected 33 velocity genes.\n",
      "Estimating the variance...\n"
     ]
    },
    {
     "data": {
      "application/vnd.jupyter.widget-view+json": {
       "model_id": "ea87042f570549e3933322f0b35398fb",
       "version_major": 2,
       "version_minor": 0
      },
      "text/plain": [
       "  0%|          | 0/73 [00:00<?, ?it/s]"
      ]
     },
     "metadata": {},
     "output_type": "display_data"
    },
    {
     "name": "stdout",
     "output_type": "stream",
     "text": [
      "Initialization using the steady-state and dynamical models.\n",
      "Reinitialize the regular ODE parameters based on estimated global latent time.\n"
     ]
    },
    {
     "data": {
      "application/vnd.jupyter.widget-view+json": {
       "model_id": "164a26372579459a9e0d79a642f7db7c",
       "version_major": 2,
       "version_minor": 0
      },
      "text/plain": [
       "  0%|          | 0/73 [00:00<?, ?it/s]"
      ]
     },
     "metadata": {},
     "output_type": "display_data"
    },
    {
     "name": "stdout",
     "output_type": "stream",
     "text": [
      "3 clusters detected based on gene co-expression.\n",
      "KS-test result: [1. 1. 1.]\n",
      "Assign cluster 0 to repressive\n",
      "Initial induction: 47, repression: 26/73\n",
      "Learning Rate based on Data Sparsity: 0.0000\n",
      "--------------------------- Train a VeloVAE ---------------------------\n",
      "*********        Creating Training/Validation Datasets        *********\n",
      "*********                      Finished.                      *********\n",
      "*********                 Creating optimizers                 *********\n",
      "*********                      Finished.                      *********\n",
      "*********                    Start training                   *********\n",
      "*********                      Stage  1                       *********\n",
      "Total Number of Iterations Per Epoch: 2, test iteration: 2\n",
      "*********       Stage 1: Early Stop Triggered at epoch 6.       *********\n",
      "*********                      Stage  2                       *********\n",
      "*********             Velocity Refinement Round 1             *********\n"
     ]
    },
    {
     "data": {
      "application/vnd.jupyter.widget-view+json": {
       "model_id": "b521211bcb57416aa4ca4b6982171f27",
       "version_major": 2,
       "version_minor": 0
      },
      "text/plain": [
       "  0%|          | 0/300 [00:00<?, ?it/s]"
      ]
     },
     "metadata": {},
     "output_type": "display_data"
    },
    {
     "name": "stdout",
     "output_type": "stream",
     "text": [
      "Percentage of Invalid Sets: 0.023\n",
      "Average Set Size: 17\n",
      "*********     Round 1: Early Stop Triggered at epoch 13.    *********\n",
      "Change in noise variance: 0.3068\n",
      "*********             Velocity Refinement Round 2             *********\n",
      "*********     Round 2: Early Stop Triggered at epoch 334.    *********\n",
      "Change in noise variance: 0.0243\n",
      "Change in x0: 0.6400\n",
      "*********             Velocity Refinement Round 3             *********\n",
      "*********     Round 3: Early Stop Triggered at epoch 408.    *********\n",
      "Change in noise variance: 0.0046\n",
      "Change in x0: 0.4568\n",
      "*********             Velocity Refinement Round 4             *********\n",
      "*********     Round 4: Early Stop Triggered at epoch 437.    *********\n",
      "Change in noise variance: 0.0017\n",
      "Change in x0: 0.3252\n",
      "*********             Velocity Refinement Round 5             *********\n",
      "*********     Round 5: Early Stop Triggered at epoch 466.    *********\n",
      "Change in noise variance: 0.0013\n",
      "Change in x0: 0.2669\n",
      "*********             Velocity Refinement Round 6             *********\n",
      "*********     Round 6: Early Stop Triggered at epoch 489.    *********\n",
      "Change in noise variance: 0.0010\n",
      "Change in x0: 0.2328\n",
      "*********             Velocity Refinement Round 7             *********\n",
      "*********     Round 7: Early Stop Triggered at epoch 494.    *********\n",
      "Change in noise variance: 0.0000\n",
      "Change in x0: 0.2068\n",
      "*********             Velocity Refinement Round 8             *********\n",
      "*********     Round 8: Early Stop Triggered at epoch 504.    *********\n",
      "Change in noise variance: 0.0000\n",
      "Change in x0: 0.1984\n",
      "*********             Velocity Refinement Round 9             *********\n",
      "Stage 2: Early Stop Triggered at round 8.\n",
      "*********              Finished. Total Time =   0 h :  0 m : 23 s             *********\n",
      "Final: Train ELBO = -15790.699,\tTest ELBO = -15499.406\n",
      "Estimating ODE parameters...\n"
     ]
    },
    {
     "data": {
      "application/vnd.jupyter.widget-view+json": {
       "model_id": "07e9b919cff64f4f8022315b3dc30ab3",
       "version_major": 2,
       "version_minor": 0
      },
      "text/plain": [
       "  0%|          | 0/70 [00:00<?, ?it/s]"
      ]
     },
     "metadata": {},
     "output_type": "display_data"
    },
    {
     "name": "stdout",
     "output_type": "stream",
     "text": [
      "Detected 35 velocity genes.\n",
      "Estimating the variance...\n"
     ]
    },
    {
     "data": {
      "application/vnd.jupyter.widget-view+json": {
       "model_id": "5b89a7a7d8f245b7a48b576056b210b4",
       "version_major": 2,
       "version_minor": 0
      },
      "text/plain": [
       "  0%|          | 0/70 [00:00<?, ?it/s]"
      ]
     },
     "metadata": {},
     "output_type": "display_data"
    },
    {
     "name": "stdout",
     "output_type": "stream",
     "text": [
      "Initialization using the steady-state and dynamical models.\n",
      "Reinitialize the regular ODE parameters based on estimated global latent time.\n"
     ]
    },
    {
     "data": {
      "application/vnd.jupyter.widget-view+json": {
       "model_id": "7b1a964f7bee49429a8cd766591998be",
       "version_major": 2,
       "version_minor": 0
      },
      "text/plain": [
       "  0%|          | 0/70 [00:00<?, ?it/s]"
      ]
     },
     "metadata": {},
     "output_type": "display_data"
    },
    {
     "name": "stdout",
     "output_type": "stream",
     "text": [
      "3 clusters detected based on gene co-expression.\n",
      "An error occurred: alpha <= 0\n",
      "Estimating ODE parameters...\n"
     ]
    },
    {
     "data": {
      "application/vnd.jupyter.widget-view+json": {
       "model_id": "1f4f13ac6131428d8ae95083b6708fb8",
       "version_major": 2,
       "version_minor": 0
      },
      "text/plain": [
       "  0%|          | 0/79 [00:00<?, ?it/s]"
      ]
     },
     "metadata": {},
     "output_type": "display_data"
    },
    {
     "name": "stdout",
     "output_type": "stream",
     "text": [
      "Detected 31 velocity genes.\n",
      "Estimating the variance...\n"
     ]
    },
    {
     "data": {
      "application/vnd.jupyter.widget-view+json": {
       "model_id": "8487d16a703e4319a4deacb467ef5941",
       "version_major": 2,
       "version_minor": 0
      },
      "text/plain": [
       "  0%|          | 0/79 [00:00<?, ?it/s]"
      ]
     },
     "metadata": {},
     "output_type": "display_data"
    },
    {
     "name": "stdout",
     "output_type": "stream",
     "text": [
      "Initialization using the steady-state and dynamical models.\n",
      "Reinitialize the regular ODE parameters based on estimated global latent time.\n"
     ]
    },
    {
     "data": {
      "application/vnd.jupyter.widget-view+json": {
       "model_id": "6aeb1467a44b45ffbb6c7be5da467622",
       "version_major": 2,
       "version_minor": 0
      },
      "text/plain": [
       "  0%|          | 0/79 [00:00<?, ?it/s]"
      ]
     },
     "metadata": {},
     "output_type": "display_data"
    },
    {
     "name": "stdout",
     "output_type": "stream",
     "text": [
      "3 clusters detected based on gene co-expression.\n",
      "(0.61, 0.26568115737011694), (0.39, 0.8432651228926057)\n",
      "KS-test result: [0. 1. 1.]\n",
      "Initial induction: 50, repression: 29/79\n",
      "Learning Rate based on Data Sparsity: 0.0000\n",
      "--------------------------- Train a VeloVAE ---------------------------\n",
      "*********        Creating Training/Validation Datasets        *********\n",
      "*********                      Finished.                      *********\n",
      "*********                 Creating optimizers                 *********\n",
      "*********                      Finished.                      *********\n",
      "*********                    Start training                   *********\n",
      "*********                      Stage  1                       *********\n",
      "Total Number of Iterations Per Epoch: 2, test iteration: 2\n",
      "*********       Stage 1: Early Stop Triggered at epoch 6.       *********\n",
      "*********                      Stage  2                       *********\n",
      "*********             Velocity Refinement Round 1             *********\n"
     ]
    },
    {
     "data": {
      "application/vnd.jupyter.widget-view+json": {
       "model_id": "c7d1d84cf1b8447e956f0f31c69d51d2",
       "version_major": 2,
       "version_minor": 0
      },
      "text/plain": [
       "  0%|          | 0/300 [00:00<?, ?it/s]"
      ]
     },
     "metadata": {},
     "output_type": "display_data"
    },
    {
     "name": "stdout",
     "output_type": "stream",
     "text": [
      "Percentage of Invalid Sets: 0.053\n",
      "Average Set Size: 16\n",
      "*********     Round 1: Early Stop Triggered at epoch 12.    *********\n",
      "Change in noise variance: 0.3293\n",
      "*********             Velocity Refinement Round 2             *********\n",
      "*********     Round 2: Early Stop Triggered at epoch 17.    *********\n",
      "Change in noise variance: 0.0461\n",
      "Change in x0: 0.2776\n",
      "*********             Velocity Refinement Round 3             *********\n",
      "*********     Round 3: Early Stop Triggered at epoch 22.    *********\n",
      "Change in noise variance: 0.0068\n",
      "Change in x0: 0.2148\n",
      "*********             Velocity Refinement Round 4             *********\n",
      "*********     Round 4: Early Stop Triggered at epoch 27.    *********\n",
      "Change in noise variance: 0.0019\n",
      "Change in x0: 0.2173\n",
      "*********             Velocity Refinement Round 5             *********\n",
      "*********     Round 5: Early Stop Triggered at epoch 33.    *********\n",
      "Change in noise variance: 0.0067\n",
      "Change in x0: 0.2049\n",
      "*********             Velocity Refinement Round 6             *********\n",
      "*********     Round 6: Early Stop Triggered at epoch 39.    *********\n",
      "Change in noise variance: 0.0038\n",
      "Change in x0: 0.1761\n",
      "*********             Velocity Refinement Round 7             *********\n",
      "*********     Round 7: Early Stop Triggered at epoch 45.    *********\n",
      "Change in noise variance: 0.0015\n",
      "Change in x0: 0.1639\n",
      "*********             Velocity Refinement Round 8             *********\n",
      "*********     Round 8: Early Stop Triggered at epoch 51.    *********\n",
      "Change in noise variance: 0.0006\n",
      "Change in x0: 0.1546\n",
      "*********             Velocity Refinement Round 9             *********\n",
      "Stage 2: Early Stop Triggered at round 8.\n",
      "*********              Finished. Total Time =   0 h :  0 m : 14 s             *********\n",
      "Final: Train ELBO = -19448.113,\tTest ELBO = -19306.715\n",
      "Estimating ODE parameters...\n"
     ]
    },
    {
     "data": {
      "application/vnd.jupyter.widget-view+json": {
       "model_id": "e1c55e0ec4cf401ab43b597f5516b2cb",
       "version_major": 2,
       "version_minor": 0
      },
      "text/plain": [
       "  0%|          | 0/54 [00:00<?, ?it/s]"
      ]
     },
     "metadata": {},
     "output_type": "display_data"
    },
    {
     "name": "stdout",
     "output_type": "stream",
     "text": [
      "Detected 21 velocity genes.\n",
      "Estimating the variance...\n"
     ]
    },
    {
     "data": {
      "application/vnd.jupyter.widget-view+json": {
       "model_id": "c24b6a3579dd42b6b948025cad0123c7",
       "version_major": 2,
       "version_minor": 0
      },
      "text/plain": [
       "  0%|          | 0/54 [00:00<?, ?it/s]"
      ]
     },
     "metadata": {},
     "output_type": "display_data"
    },
    {
     "name": "stdout",
     "output_type": "stream",
     "text": [
      "Initialization using the steady-state and dynamical models.\n",
      "Reinitialize the regular ODE parameters based on estimated global latent time.\n"
     ]
    },
    {
     "data": {
      "application/vnd.jupyter.widget-view+json": {
       "model_id": "734f0f9f2bcf4c72b231e474d3248f2e",
       "version_major": 2,
       "version_minor": 0
      },
      "text/plain": [
       "  0%|          | 0/54 [00:00<?, ?it/s]"
      ]
     },
     "metadata": {},
     "output_type": "display_data"
    },
    {
     "name": "stdout",
     "output_type": "stream",
     "text": [
      "3 clusters detected based on gene co-expression.\n",
      "KS-test result: [2. 1. 1.]\n",
      "Initial induction: 28, repression: 26/54\n",
      "Learning Rate based on Data Sparsity: 0.0001\n",
      "--------------------------- Train a VeloVAE ---------------------------\n",
      "*********        Creating Training/Validation Datasets        *********\n",
      "*********                      Finished.                      *********\n",
      "*********                 Creating optimizers                 *********\n",
      "*********                      Finished.                      *********\n",
      "*********                    Start training                   *********\n",
      "*********                      Stage  1                       *********\n",
      "Total Number of Iterations Per Epoch: 2, test iteration: 2\n",
      "*********       Stage 1: Early Stop Triggered at epoch 249.       *********\n",
      "*********                      Stage  2                       *********\n",
      "*********             Velocity Refinement Round 1             *********\n"
     ]
    },
    {
     "data": {
      "application/vnd.jupyter.widget-view+json": {
       "model_id": "48a7f2e6b5d0461faf463d293090f08d",
       "version_major": 2,
       "version_minor": 0
      },
      "text/plain": [
       "  0%|          | 0/300 [00:00<?, ?it/s]"
      ]
     },
     "metadata": {},
     "output_type": "display_data"
    },
    {
     "name": "stdout",
     "output_type": "stream",
     "text": [
      "Percentage of Invalid Sets: 0.037\n",
      "Average Set Size: 16\n",
      "*********     Round 1: Early Stop Triggered at epoch 255.    *********\n",
      "Change in noise variance: 0.2184\n",
      "*********             Velocity Refinement Round 2             *********\n",
      "*********     Round 2: Early Stop Triggered at epoch 322.    *********\n",
      "Change in noise variance: 0.0163\n",
      "Change in x0: 0.8697\n",
      "*********             Velocity Refinement Round 3             *********\n",
      "*********     Round 3: Early Stop Triggered at epoch 327.    *********\n",
      "Change in noise variance: 0.0055\n",
      "Change in x0: 0.6548\n",
      "*********             Velocity Refinement Round 4             *********\n",
      "*********     Round 4: Early Stop Triggered at epoch 355.    *********\n",
      "Change in noise variance: 0.0160\n",
      "Change in x0: 0.4874\n",
      "*********             Velocity Refinement Round 5             *********\n",
      "*********     Round 5: Early Stop Triggered at epoch 372.    *********\n",
      "Change in noise variance: 0.0071\n",
      "Change in x0: 0.3342\n",
      "*********             Velocity Refinement Round 6             *********\n",
      "*********     Round 6: Early Stop Triggered at epoch 377.    *********\n",
      "Change in noise variance: 0.0011\n",
      "Change in x0: 0.2571\n",
      "*********             Velocity Refinement Round 7             *********\n",
      "*********     Round 7: Early Stop Triggered at epoch 387.    *********\n",
      "Change in noise variance: 0.0011\n",
      "Change in x0: 0.2222\n",
      "*********             Velocity Refinement Round 8             *********\n",
      "*********     Round 8: Early Stop Triggered at epoch 392.    *********\n",
      "Change in noise variance: 0.0009\n",
      "Change in x0: 0.2013\n",
      "*********             Velocity Refinement Round 9             *********\n",
      "*********     Round 9: Early Stop Triggered at epoch 404.    *********\n",
      "Change in noise variance: 0.0000\n",
      "Change in x0: 0.1815\n",
      "*********             Velocity Refinement Round 10             *********\n",
      "*********     Round 10: Early Stop Triggered at epoch 409.    *********\n",
      "Change in noise variance: 0.0000\n",
      "Change in x0: 0.1691\n",
      "*********             Velocity Refinement Round 11             *********\n",
      "*********     Round 11: Early Stop Triggered at epoch 414.    *********\n",
      "Change in noise variance: 0.0000\n",
      "Change in x0: 0.1666\n",
      "*********             Velocity Refinement Round 12             *********\n",
      "Stage 2: Early Stop Triggered at round 11.\n",
      "*********              Finished. Total Time =   0 h :  0 m : 33 s             *********\n",
      "Final: Train ELBO = -847.994,\tTest ELBO = -912.455\n",
      "Estimating ODE parameters...\n"
     ]
    },
    {
     "data": {
      "application/vnd.jupyter.widget-view+json": {
       "model_id": "36d02dd79176428fa85002407324831c",
       "version_major": 2,
       "version_minor": 0
      },
      "text/plain": [
       "  0%|          | 0/140 [00:00<?, ?it/s]"
      ]
     },
     "metadata": {},
     "output_type": "display_data"
    },
    {
     "name": "stdout",
     "output_type": "stream",
     "text": [
      "Detected 81 velocity genes.\n",
      "Estimating the variance...\n"
     ]
    },
    {
     "data": {
      "application/vnd.jupyter.widget-view+json": {
       "model_id": "42059934f4654fe28ce88beeea018e14",
       "version_major": 2,
       "version_minor": 0
      },
      "text/plain": [
       "  0%|          | 0/140 [00:00<?, ?it/s]"
      ]
     },
     "metadata": {},
     "output_type": "display_data"
    },
    {
     "name": "stdout",
     "output_type": "stream",
     "text": [
      "Initialization using the steady-state and dynamical models.\n",
      "Reinitialize the regular ODE parameters based on estimated global latent time.\n"
     ]
    },
    {
     "data": {
      "application/vnd.jupyter.widget-view+json": {
       "model_id": "bc219e4b7cf148ecbd9019089d21f0c2",
       "version_major": 2,
       "version_minor": 0
      },
      "text/plain": [
       "  0%|          | 0/140 [00:00<?, ?it/s]"
      ]
     },
     "metadata": {},
     "output_type": "display_data"
    },
    {
     "name": "stdout",
     "output_type": "stream",
     "text": [
      "3 clusters detected based on gene co-expression.\n",
      "(0.49, 0.23313747351401098), (0.51, 0.8250112585464345)\n",
      "KS-test result: [1. 0. 1.]\n",
      "Initial induction: 104, repression: 36/140\n",
      "Learning Rate based on Data Sparsity: 0.0000\n",
      "--------------------------- Train a VeloVAE ---------------------------\n",
      "*********        Creating Training/Validation Datasets        *********\n",
      "*********                      Finished.                      *********\n",
      "*********                 Creating optimizers                 *********\n",
      "*********                      Finished.                      *********\n",
      "*********                    Start training                   *********\n",
      "*********                      Stage  1                       *********\n",
      "Total Number of Iterations Per Epoch: 6, test iteration: 10\n",
      "*********                      Stage  2                       *********\n",
      "*********             Velocity Refinement Round 1             *********\n"
     ]
    },
    {
     "data": {
      "application/vnd.jupyter.widget-view+json": {
       "model_id": "fd8b040268e4425b8cb4ce3b99508ba8",
       "version_major": 2,
       "version_minor": 0
      },
      "text/plain": [
       "  0%|          | 0/1000 [00:00<?, ?it/s]"
      ]
     },
     "metadata": {},
     "output_type": "display_data"
    },
    {
     "name": "stdout",
     "output_type": "stream",
     "text": [
      "Percentage of Invalid Sets: 0.037\n",
      "Average Set Size: 20\n",
      "*********     Round 1: Early Stop Triggered at epoch 1009.    *********\n",
      "Change in noise variance: 0.1328\n",
      "*********             Velocity Refinement Round 2             *********\n",
      "*********     Round 2: Early Stop Triggered at epoch 1051.    *********\n",
      "Change in noise variance: 0.0066\n",
      "Change in x0: 0.5858\n",
      "*********             Velocity Refinement Round 3             *********\n",
      "*********     Round 3: Early Stop Triggered at epoch 1058.    *********\n",
      "Change in noise variance: 0.0054\n",
      "Change in x0: 0.4545\n",
      "*********             Velocity Refinement Round 4             *********\n",
      "*********     Round 4: Early Stop Triggered at epoch 1065.    *********\n",
      "Change in noise variance: 0.0026\n",
      "Change in x0: 0.3529\n",
      "*********             Velocity Refinement Round 5             *********\n",
      "*********     Round 5: Early Stop Triggered at epoch 1072.    *********\n",
      "Change in noise variance: 0.0021\n",
      "Change in x0: 0.3174\n",
      "*********             Velocity Refinement Round 6             *********\n",
      "*********     Round 6: Early Stop Triggered at epoch 1079.    *********\n",
      "Change in noise variance: 0.0011\n",
      "Change in x0: 0.2811\n",
      "*********             Velocity Refinement Round 7             *********\n",
      "*********     Round 7: Early Stop Triggered at epoch 1086.    *********\n",
      "Change in noise variance: 0.0007\n",
      "Change in x0: 0.2527\n",
      "*********             Velocity Refinement Round 8             *********\n",
      "*********     Round 8: Early Stop Triggered at epoch 1093.    *********\n",
      "Change in noise variance: 0.0000\n",
      "Change in x0: 0.2334\n",
      "*********             Velocity Refinement Round 9             *********\n",
      "*********     Round 9: Early Stop Triggered at epoch 1125.    *********\n",
      "Change in noise variance: 0.0000\n",
      "Change in x0: 0.2108\n",
      "*********             Velocity Refinement Round 10             *********\n",
      "*********     Round 10: Early Stop Triggered at epoch 1191.    *********\n",
      "Change in noise variance: 0.0000\n",
      "Change in x0: 0.1929\n",
      "*********             Velocity Refinement Round 11             *********\n",
      "*********     Round 11: Early Stop Triggered at epoch 1227.    *********\n",
      "Change in noise variance: 0.0000\n",
      "Change in x0: 0.1785\n",
      "*********             Velocity Refinement Round 12             *********\n",
      "*********     Round 12: Early Stop Triggered at epoch 1234.    *********\n",
      "Change in noise variance: 0.0000\n",
      "Change in x0: 0.1787\n",
      "*********             Velocity Refinement Round 13             *********\n",
      "Stage 2: Early Stop Triggered at round 12.\n",
      "*********              Finished. Total Time =   0 h :  3 m : 19 s             *********\n",
      "Final: Train ELBO = -228.650,\tTest ELBO = -247.470\n",
      "Estimating ODE parameters...\n"
     ]
    },
    {
     "data": {
      "application/vnd.jupyter.widget-view+json": {
       "model_id": "b39351902d1848e6af375e637750dfef",
       "version_major": 2,
       "version_minor": 0
      },
      "text/plain": [
       "  0%|          | 0/72 [00:00<?, ?it/s]"
      ]
     },
     "metadata": {},
     "output_type": "display_data"
    },
    {
     "name": "stdout",
     "output_type": "stream",
     "text": [
      "Detected 35 velocity genes.\n",
      "Estimating the variance...\n"
     ]
    },
    {
     "data": {
      "application/vnd.jupyter.widget-view+json": {
       "model_id": "6cbae8d8aa704ef9b2314e4ac2e51e43",
       "version_major": 2,
       "version_minor": 0
      },
      "text/plain": [
       "  0%|          | 0/72 [00:00<?, ?it/s]"
      ]
     },
     "metadata": {},
     "output_type": "display_data"
    },
    {
     "name": "stdout",
     "output_type": "stream",
     "text": [
      "Initialization using the steady-state and dynamical models.\n",
      "Reinitialize the regular ODE parameters based on estimated global latent time.\n"
     ]
    },
    {
     "data": {
      "application/vnd.jupyter.widget-view+json": {
       "model_id": "5ca151de730e4d9faf5110361d095f13",
       "version_major": 2,
       "version_minor": 0
      },
      "text/plain": [
       "  0%|          | 0/72 [00:00<?, ?it/s]"
      ]
     },
     "metadata": {},
     "output_type": "display_data"
    },
    {
     "name": "stdout",
     "output_type": "stream",
     "text": [
      "3 clusters detected based on gene co-expression.\n",
      "KS-test result: [1. 1. 1.]\n",
      "Assign cluster 0 to repressive\n",
      "Initial induction: 45, repression: 27/72\n",
      "Learning Rate based on Data Sparsity: 0.0000\n",
      "--------------------------- Train a VeloVAE ---------------------------\n",
      "*********        Creating Training/Validation Datasets        *********\n",
      "*********                      Finished.                      *********\n",
      "*********                 Creating optimizers                 *********\n",
      "*********                      Finished.                      *********\n",
      "*********                    Start training                   *********\n",
      "*********                      Stage  1                       *********\n",
      "Total Number of Iterations Per Epoch: 2, test iteration: 2\n",
      "*********       Stage 1: Early Stop Triggered at epoch 9.       *********\n",
      "*********                      Stage  2                       *********\n",
      "*********             Velocity Refinement Round 1             *********\n"
     ]
    },
    {
     "data": {
      "application/vnd.jupyter.widget-view+json": {
       "model_id": "52b3d7447c554a7fbea66eed6936bfe7",
       "version_major": 2,
       "version_minor": 0
      },
      "text/plain": [
       "  0%|          | 0/300 [00:00<?, ?it/s]"
      ]
     },
     "metadata": {},
     "output_type": "display_data"
    },
    {
     "name": "stdout",
     "output_type": "stream",
     "text": [
      "Percentage of Invalid Sets: 0.020\n",
      "Average Set Size: 18\n",
      "*********     Round 1: Early Stop Triggered at epoch 15.    *********\n",
      "Change in noise variance: 0.3534\n",
      "*********             Velocity Refinement Round 2             *********\n",
      "*********     Round 2: Early Stop Triggered at epoch 20.    *********\n",
      "Change in noise variance: 0.0696\n",
      "Change in x0: 0.4406\n",
      "*********             Velocity Refinement Round 3             *********\n",
      "*********     Round 3: Early Stop Triggered at epoch 35.    *********\n",
      "Change in noise variance: 0.0021\n",
      "Change in x0: 0.3764\n",
      "*********             Velocity Refinement Round 4             *********\n",
      "*********     Round 4: Early Stop Triggered at epoch 41.    *********\n",
      "Change in noise variance: 0.0032\n",
      "Change in x0: 0.3248\n",
      "*********             Velocity Refinement Round 5             *********\n",
      "*********     Round 5: Early Stop Triggered at epoch 47.    *********\n",
      "Change in noise variance: 0.0029\n",
      "Change in x0: 0.2676\n",
      "*********             Velocity Refinement Round 6             *********\n",
      "*********     Round 6: Early Stop Triggered at epoch 53.    *********\n",
      "Change in noise variance: 0.0014\n",
      "Change in x0: 0.2334\n",
      "*********             Velocity Refinement Round 7             *********\n",
      "*********     Round 7: Early Stop Triggered at epoch 59.    *********\n",
      "Change in noise variance: 0.0007\n",
      "Change in x0: 0.2122\n",
      "*********             Velocity Refinement Round 8             *********\n",
      "*********     Round 8: Early Stop Triggered at epoch 65.    *********\n",
      "Change in noise variance: 0.0000\n",
      "Change in x0: 0.1937\n",
      "*********             Velocity Refinement Round 9             *********\n",
      "*********     Round 9: Early Stop Triggered at epoch 71.    *********\n",
      "Change in noise variance: 0.0000\n",
      "Change in x0: 0.1762\n",
      "*********             Velocity Refinement Round 10             *********\n",
      "*********     Round 10: Early Stop Triggered at epoch 77.    *********\n",
      "Change in noise variance: 0.0000\n",
      "Change in x0: 0.1606\n",
      "*********             Velocity Refinement Round 11             *********\n",
      "*********     Round 11: Early Stop Triggered at epoch 83.    *********\n",
      "Change in noise variance: 0.0000\n",
      "Change in x0: 0.1500\n",
      "*********             Velocity Refinement Round 12             *********\n",
      "*********     Round 12: Early Stop Triggered at epoch 89.    *********\n",
      "Change in noise variance: 0.0000\n",
      "Change in x0: 0.1462\n",
      "*********             Velocity Refinement Round 13             *********\n",
      "Stage 2: Early Stop Triggered at round 12.\n",
      "*********              Finished. Total Time =   0 h :  0 m : 18 s             *********\n",
      "Final: Train ELBO = -14246.879,\tTest ELBO = -14316.127\n",
      "Estimating ODE parameters...\n"
     ]
    },
    {
     "data": {
      "application/vnd.jupyter.widget-view+json": {
       "model_id": "91e5a994b20b426390b6dbed9d4dc305",
       "version_major": 2,
       "version_minor": 0
      },
      "text/plain": [
       "  0%|          | 0/154 [00:00<?, ?it/s]"
      ]
     },
     "metadata": {},
     "output_type": "display_data"
    },
    {
     "name": "stdout",
     "output_type": "stream",
     "text": [
      "Detected 106 velocity genes.\n",
      "Estimating the variance...\n"
     ]
    },
    {
     "data": {
      "application/vnd.jupyter.widget-view+json": {
       "model_id": "3893ddf6623549bd92b85a593d791ed4",
       "version_major": 2,
       "version_minor": 0
      },
      "text/plain": [
       "  0%|          | 0/154 [00:00<?, ?it/s]"
      ]
     },
     "metadata": {},
     "output_type": "display_data"
    },
    {
     "name": "stdout",
     "output_type": "stream",
     "text": [
      "Initialization using the steady-state and dynamical models.\n",
      "Reinitialize the regular ODE parameters based on estimated global latent time.\n"
     ]
    },
    {
     "data": {
      "application/vnd.jupyter.widget-view+json": {
       "model_id": "e181742ed4c34dacbadb10fc3b305d1d",
       "version_major": 2,
       "version_minor": 0
      },
      "text/plain": [
       "  0%|          | 0/154 [00:00<?, ?it/s]"
      ]
     },
     "metadata": {},
     "output_type": "display_data"
    },
    {
     "name": "stdout",
     "output_type": "stream",
     "text": [
      "3 clusters detected based on gene co-expression.\n",
      "KS-test result: [1. 1. 1.]\n",
      "Assign cluster 2 to repressive\n",
      "Initial induction: 111, repression: 43/154\n",
      "Learning Rate based on Data Sparsity: 0.0001\n",
      "--------------------------- Train a VeloVAE ---------------------------\n",
      "*********        Creating Training/Validation Datasets        *********\n",
      "*********                      Finished.                      *********\n",
      "*********                 Creating optimizers                 *********\n",
      "*********                      Finished.                      *********\n",
      "*********                    Start training                   *********\n",
      "*********                      Stage  1                       *********\n",
      "Total Number of Iterations Per Epoch: 6, test iteration: 10\n",
      "*********                      Stage  2                       *********\n",
      "*********             Velocity Refinement Round 1             *********\n"
     ]
    },
    {
     "data": {
      "application/vnd.jupyter.widget-view+json": {
       "model_id": "5692afba0800459e811463b7940dca8c",
       "version_major": 2,
       "version_minor": 0
      },
      "text/plain": [
       "  0%|          | 0/1000 [00:00<?, ?it/s]"
      ]
     },
     "metadata": {},
     "output_type": "display_data"
    },
    {
     "name": "stdout",
     "output_type": "stream",
     "text": [
      "Percentage of Invalid Sets: 0.044\n",
      "Average Set Size: 21\n",
      "*********     Round 1: Early Stop Triggered at epoch 1127.    *********\n",
      "Change in noise variance: 0.0615\n",
      "*********             Velocity Refinement Round 2             *********\n",
      "*********     Round 2: Early Stop Triggered at epoch 1236.    *********\n",
      "Change in noise variance: 0.0089\n",
      "Change in x0: 0.3694\n",
      "*********             Velocity Refinement Round 3             *********\n",
      "*********     Round 3: Early Stop Triggered at epoch 1320.    *********\n",
      "Change in noise variance: 0.0034\n",
      "Change in x0: 0.2746\n",
      "*********             Velocity Refinement Round 4             *********\n",
      "*********     Round 4: Early Stop Triggered at epoch 1526.    *********\n",
      "Change in noise variance: 0.0015\n",
      "Change in x0: 0.2268\n",
      "*********             Velocity Refinement Round 5             *********\n",
      "*********     Round 5: Early Stop Triggered at epoch 1680.    *********\n",
      "Change in noise variance: 0.0009\n",
      "Change in x0: 0.1868\n",
      "*********             Velocity Refinement Round 6             *********\n",
      "*********     Round 6: Early Stop Triggered at epoch 1936.    *********\n",
      "Change in noise variance: 0.0000\n",
      "Change in x0: 0.1435\n",
      "*********             Velocity Refinement Round 7             *********\n",
      "*********     Round 7: Early Stop Triggered at epoch 2020.    *********\n",
      "Change in noise variance: 0.0000\n",
      "Change in x0: 0.1323\n",
      "*********             Velocity Refinement Round 8             *********\n",
      "*********     Round 8: Early Stop Triggered at epoch 2157.    *********\n",
      "Change in noise variance: 0.0000\n",
      "Change in x0: 0.1100\n",
      "*********             Velocity Refinement Round 9             *********\n",
      "*********     Round 9: Early Stop Triggered at epoch 2258.    *********\n",
      "Change in noise variance: 0.0000\n",
      "Change in x0: 0.1042\n",
      "*********             Velocity Refinement Round 10             *********\n",
      "Stage 2: Early Stop Triggered at round 9.\n",
      "*********              Finished. Total Time =   0 h :  5 m : 35 s             *********\n",
      "Final: Train ELBO = 108.060,\tTest ELBO = 96.440\n",
      "Estimating ODE parameters...\n"
     ]
    },
    {
     "data": {
      "application/vnd.jupyter.widget-view+json": {
       "model_id": "41d89ce3686544d0b20014532a4dd278",
       "version_major": 2,
       "version_minor": 0
      },
      "text/plain": [
       "  0%|          | 0/73 [00:00<?, ?it/s]"
      ]
     },
     "metadata": {},
     "output_type": "display_data"
    },
    {
     "name": "stdout",
     "output_type": "stream",
     "text": [
      "Detected 34 velocity genes.\n",
      "Estimating the variance...\n"
     ]
    },
    {
     "data": {
      "application/vnd.jupyter.widget-view+json": {
       "model_id": "61ec51e8634d4e2f85ce3caeadffd743",
       "version_major": 2,
       "version_minor": 0
      },
      "text/plain": [
       "  0%|          | 0/73 [00:00<?, ?it/s]"
      ]
     },
     "metadata": {},
     "output_type": "display_data"
    },
    {
     "name": "stdout",
     "output_type": "stream",
     "text": [
      "Initialization using the steady-state and dynamical models.\n",
      "Reinitialize the regular ODE parameters based on estimated global latent time.\n"
     ]
    },
    {
     "data": {
      "application/vnd.jupyter.widget-view+json": {
       "model_id": "57448a6862a64e939bbc9782a5298aa9",
       "version_major": 2,
       "version_minor": 0
      },
      "text/plain": [
       "  0%|          | 0/73 [00:00<?, ?it/s]"
      ]
     },
     "metadata": {},
     "output_type": "display_data"
    },
    {
     "name": "stdout",
     "output_type": "stream",
     "text": [
      "3 clusters detected based on gene co-expression.\n",
      "(0.59, 0.11364537925550108), (0.41, 0.9060473661761724)\n",
      "KS-test result: [1. 1. 0.]\n",
      "Initial induction: 54, repression: 19/73\n",
      "Learning Rate based on Data Sparsity: 0.0000\n",
      "--------------------------- Train a VeloVAE ---------------------------\n",
      "*********        Creating Training/Validation Datasets        *********\n",
      "*********                      Finished.                      *********\n",
      "*********                 Creating optimizers                 *********\n",
      "*********                      Finished.                      *********\n",
      "*********                    Start training                   *********\n",
      "*********                      Stage  1                       *********\n",
      "Total Number of Iterations Per Epoch: 2, test iteration: 2\n",
      "*********       Stage 1: Early Stop Triggered at epoch 8.       *********\n",
      "*********                      Stage  2                       *********\n",
      "*********             Velocity Refinement Round 1             *********\n"
     ]
    },
    {
     "data": {
      "application/vnd.jupyter.widget-view+json": {
       "model_id": "3b0f13555cb1467da6dabaf17ad43b44",
       "version_major": 2,
       "version_minor": 0
      },
      "text/plain": [
       "  0%|          | 0/300 [00:00<?, ?it/s]"
      ]
     },
     "metadata": {},
     "output_type": "display_data"
    },
    {
     "name": "stdout",
     "output_type": "stream",
     "text": [
      "Percentage of Invalid Sets: 0.030\n",
      "Average Set Size: 16\n",
      "*********     Round 1: Early Stop Triggered at epoch 14.    *********\n",
      "Change in noise variance: 0.2778\n",
      "*********             Velocity Refinement Round 2             *********\n",
      "*********     Round 2: Early Stop Triggered at epoch 19.    *********\n",
      "Change in noise variance: 0.0288\n",
      "Change in x0: 0.6292\n",
      "*********             Velocity Refinement Round 3             *********\n",
      "*********     Round 3: Early Stop Triggered at epoch 25.    *********\n",
      "Change in noise variance: 0.0010\n",
      "Change in x0: 0.3971\n",
      "*********             Velocity Refinement Round 4             *********\n",
      "*********     Round 4: Early Stop Triggered at epoch 31.    *********\n",
      "Change in noise variance: 0.0000\n",
      "Change in x0: 0.3093\n",
      "*********             Velocity Refinement Round 5             *********\n",
      "*********     Round 5: Early Stop Triggered at epoch 37.    *********\n",
      "Change in noise variance: 0.0000\n",
      "Change in x0: 0.2501\n",
      "*********             Velocity Refinement Round 6             *********\n",
      "*********     Round 6: Early Stop Triggered at epoch 43.    *********\n",
      "Change in noise variance: 0.0000\n",
      "Change in x0: 0.2238\n",
      "*********             Velocity Refinement Round 7             *********\n",
      "*********     Round 7: Early Stop Triggered at epoch 49.    *********\n",
      "Change in noise variance: 0.0000\n",
      "Change in x0: 0.2013\n",
      "*********             Velocity Refinement Round 8             *********\n",
      "*********     Round 8: Early Stop Triggered at epoch 55.    *********\n",
      "Change in noise variance: 0.0000\n",
      "Change in x0: 0.1853\n",
      "*********             Velocity Refinement Round 9             *********\n",
      "*********     Round 9: Early Stop Triggered at epoch 61.    *********\n",
      "Change in noise variance: 0.0000\n",
      "Change in x0: 0.1730\n",
      "*********             Velocity Refinement Round 10             *********\n",
      "*********     Round 10: Early Stop Triggered at epoch 67.    *********\n",
      "Change in noise variance: 0.0000\n",
      "Change in x0: 0.1671\n",
      "*********             Velocity Refinement Round 11             *********\n",
      "Stage 2: Early Stop Triggered at round 10.\n",
      "*********              Finished. Total Time =   0 h :  0 m : 18 s             *********\n",
      "Final: Train ELBO = -14860.914,\tTest ELBO = -14663.303\n",
      "Estimating ODE parameters...\n"
     ]
    },
    {
     "data": {
      "application/vnd.jupyter.widget-view+json": {
       "model_id": "b6827d5f78ce40ef889a983587a6ca8b",
       "version_major": 2,
       "version_minor": 0
      },
      "text/plain": [
       "  0%|          | 0/117 [00:00<?, ?it/s]"
      ]
     },
     "metadata": {},
     "output_type": "display_data"
    },
    {
     "name": "stdout",
     "output_type": "stream",
     "text": [
      "Detected 62 velocity genes.\n",
      "Estimating the variance...\n"
     ]
    },
    {
     "data": {
      "application/vnd.jupyter.widget-view+json": {
       "model_id": "008e865f84374de2b3b3f797bef2e52f",
       "version_major": 2,
       "version_minor": 0
      },
      "text/plain": [
       "  0%|          | 0/117 [00:00<?, ?it/s]"
      ]
     },
     "metadata": {},
     "output_type": "display_data"
    },
    {
     "name": "stdout",
     "output_type": "stream",
     "text": [
      "Initialization using the steady-state and dynamical models.\n",
      "Reinitialize the regular ODE parameters based on estimated global latent time.\n"
     ]
    },
    {
     "data": {
      "application/vnd.jupyter.widget-view+json": {
       "model_id": "79da181a431a48f3941e0afcde7259d5",
       "version_major": 2,
       "version_minor": 0
      },
      "text/plain": [
       "  0%|          | 0/117 [00:00<?, ?it/s]"
      ]
     },
     "metadata": {},
     "output_type": "display_data"
    },
    {
     "name": "stdout",
     "output_type": "stream",
     "text": [
      "3 clusters detected based on gene co-expression.\n",
      "KS-test result: [1. 1. 1.]\n",
      "Assign cluster 0 to repressive\n",
      "Initial induction: 68, repression: 49/117\n",
      "Learning Rate based on Data Sparsity: 0.0001\n",
      "--------------------------- Train a VeloVAE ---------------------------\n",
      "*********        Creating Training/Validation Datasets        *********\n",
      "*********                      Finished.                      *********\n",
      "*********                 Creating optimizers                 *********\n",
      "*********                      Finished.                      *********\n",
      "*********                    Start training                   *********\n",
      "*********                      Stage  1                       *********\n",
      "Total Number of Iterations Per Epoch: 6, test iteration: 10\n",
      "*********                      Stage  2                       *********\n",
      "*********             Velocity Refinement Round 1             *********\n"
     ]
    },
    {
     "data": {
      "application/vnd.jupyter.widget-view+json": {
       "model_id": "deccf28d07454a5eb385b9032cf6bf8a",
       "version_major": 2,
       "version_minor": 0
      },
      "text/plain": [
       "  0%|          | 0/1000 [00:00<?, ?it/s]"
      ]
     },
     "metadata": {},
     "output_type": "display_data"
    },
    {
     "name": "stdout",
     "output_type": "stream",
     "text": [
      "Percentage of Invalid Sets: 0.039\n",
      "Average Set Size: 20\n",
      "*********     Round 1: Early Stop Triggered at epoch 1159.    *********\n",
      "Change in noise variance: 0.0512\n",
      "*********             Velocity Refinement Round 2             *********\n",
      "*********     Round 2: Early Stop Triggered at epoch 1513.    *********\n",
      "Change in noise variance: 0.0108\n",
      "Change in x0: 0.3184\n",
      "*********             Velocity Refinement Round 3             *********\n",
      "*********     Round 3: Early Stop Triggered at epoch 1687.    *********\n",
      "Change in noise variance: 0.0063\n",
      "Change in x0: 0.2393\n",
      "*********             Velocity Refinement Round 4             *********\n",
      "*********     Round 4: Early Stop Triggered at epoch 1766.    *********\n",
      "Change in noise variance: 0.0031\n",
      "Change in x0: 0.1870\n",
      "*********             Velocity Refinement Round 5             *********\n",
      "*********     Round 5: Early Stop Triggered at epoch 1983.    *********\n",
      "Change in noise variance: 0.0010\n",
      "Change in x0: 0.1339\n",
      "*********             Velocity Refinement Round 6             *********\n",
      "*********     Round 6: Early Stop Triggered at epoch 2135.    *********\n",
      "Change in noise variance: 0.0000\n",
      "Change in x0: 0.1055\n",
      "*********             Velocity Refinement Round 7             *********\n",
      "*********     Round 7: Early Stop Triggered at epoch 2149.    *********\n",
      "Change in noise variance: 0.0000\n",
      "Change in x0: 0.0870\n",
      "*********             Velocity Refinement Round 8             *********\n",
      "*********     Round 8: Early Stop Triggered at epoch 2171.    *********\n",
      "Change in noise variance: 0.0000\n",
      "Change in x0: 0.0733\n",
      "*********             Velocity Refinement Round 9             *********\n",
      "*********     Round 9: Early Stop Triggered at epoch 2207.    *********\n",
      "Change in noise variance: 0.0000\n",
      "Change in x0: 0.0647\n",
      "*********             Velocity Refinement Round 10             *********\n",
      "Stage 2: Early Stop Triggered at round 9.\n",
      "*********              Finished. Total Time =   0 h :  3 m : 48 s             *********\n",
      "Final: Train ELBO = 177.682,\tTest ELBO = 170.667\n",
      "Estimating ODE parameters...\n"
     ]
    },
    {
     "data": {
      "application/vnd.jupyter.widget-view+json": {
       "model_id": "734bda04934b496ea7bac6926b54f300",
       "version_major": 2,
       "version_minor": 0
      },
      "text/plain": [
       "  0%|          | 0/70 [00:00<?, ?it/s]"
      ]
     },
     "metadata": {},
     "output_type": "display_data"
    },
    {
     "name": "stdout",
     "output_type": "stream",
     "text": [
      "Detected 28 velocity genes.\n",
      "Estimating the variance...\n"
     ]
    },
    {
     "data": {
      "application/vnd.jupyter.widget-view+json": {
       "model_id": "590bf3a674454e94b57a6b0e2567472a",
       "version_major": 2,
       "version_minor": 0
      },
      "text/plain": [
       "  0%|          | 0/70 [00:00<?, ?it/s]"
      ]
     },
     "metadata": {},
     "output_type": "display_data"
    },
    {
     "name": "stdout",
     "output_type": "stream",
     "text": [
      "Initialization using the steady-state and dynamical models.\n",
      "Reinitialize the regular ODE parameters based on estimated global latent time.\n"
     ]
    },
    {
     "data": {
      "application/vnd.jupyter.widget-view+json": {
       "model_id": "ae5b9811aeea404494f9b2f8908e6846",
       "version_major": 2,
       "version_minor": 0
      },
      "text/plain": [
       "  0%|          | 0/70 [00:00<?, ?it/s]"
      ]
     },
     "metadata": {},
     "output_type": "display_data"
    },
    {
     "name": "stdout",
     "output_type": "stream",
     "text": [
      "3 clusters detected based on gene co-expression.\n",
      "KS-test result: [1. 1. 1.]\n",
      "Assign cluster 1 to repressive\n",
      "Initial induction: 44, repression: 26/70\n",
      "Learning Rate based on Data Sparsity: 0.0000\n",
      "--------------------------- Train a VeloVAE ---------------------------\n",
      "*********        Creating Training/Validation Datasets        *********\n",
      "*********                      Finished.                      *********\n",
      "*********                 Creating optimizers                 *********\n",
      "*********                      Finished.                      *********\n",
      "*********                    Start training                   *********\n",
      "*********                      Stage  1                       *********\n",
      "Total Number of Iterations Per Epoch: 2, test iteration: 2\n",
      "*********       Stage 1: Early Stop Triggered at epoch 16.       *********\n",
      "*********                      Stage  2                       *********\n",
      "*********             Velocity Refinement Round 1             *********\n"
     ]
    },
    {
     "data": {
      "application/vnd.jupyter.widget-view+json": {
       "model_id": "54a4a28fabbe496886e431364a40da41",
       "version_major": 2,
       "version_minor": 0
      },
      "text/plain": [
       "  0%|          | 0/300 [00:00<?, ?it/s]"
      ]
     },
     "metadata": {},
     "output_type": "display_data"
    },
    {
     "name": "stdout",
     "output_type": "stream",
     "text": [
      "Percentage of Invalid Sets: 0.027\n",
      "Average Set Size: 17\n",
      "*********     Round 1: Early Stop Triggered at epoch 235.    *********\n",
      "Change in noise variance: 0.5609\n",
      "*********             Velocity Refinement Round 2             *********\n",
      "*********     Round 2: Early Stop Triggered at epoch 313.    *********\n",
      "Change in noise variance: 0.0216\n",
      "Change in x0: 0.1737\n",
      "*********             Velocity Refinement Round 3             *********\n",
      "*********     Round 3: Early Stop Triggered at epoch 330.    *********\n",
      "Change in noise variance: 0.0028\n",
      "Change in x0: 0.1804\n",
      "*********             Velocity Refinement Round 4             *********\n",
      "*********     Round 4: Early Stop Triggered at epoch 336.    *********\n",
      "Change in noise variance: 0.0010\n",
      "Change in x0: 0.1564\n",
      "*********             Velocity Refinement Round 5             *********\n",
      "*********     Round 5: Early Stop Triggered at epoch 342.    *********\n",
      "Change in noise variance: 0.0009\n",
      "Change in x0: 0.1409\n",
      "*********             Velocity Refinement Round 6             *********\n",
      "*********     Round 6: Early Stop Triggered at epoch 383.    *********\n",
      "Change in noise variance: 0.0000\n",
      "Change in x0: 0.1138\n",
      "*********             Velocity Refinement Round 7             *********\n",
      "*********     Round 7: Early Stop Triggered at epoch 389.    *********\n",
      "Change in noise variance: 0.0000\n",
      "Change in x0: 0.1130\n",
      "*********             Velocity Refinement Round 8             *********\n",
      "Stage 2: Early Stop Triggered at round 7.\n",
      "*********              Finished. Total Time =   0 h :  0 m : 28 s             *********\n",
      "Final: Train ELBO = -11489.504,\tTest ELBO = -11277.100\n",
      "Estimating ODE parameters...\n"
     ]
    },
    {
     "data": {
      "application/vnd.jupyter.widget-view+json": {
       "model_id": "81292470174f44408b483f0d90a58e36",
       "version_major": 2,
       "version_minor": 0
      },
      "text/plain": [
       "  0%|          | 0/84 [00:00<?, ?it/s]"
      ]
     },
     "metadata": {},
     "output_type": "display_data"
    },
    {
     "name": "stdout",
     "output_type": "stream",
     "text": [
      "Detected 35 velocity genes.\n",
      "Estimating the variance...\n"
     ]
    },
    {
     "data": {
      "application/vnd.jupyter.widget-view+json": {
       "model_id": "0f8c1afc05394be8af5d35b5f81792b1",
       "version_major": 2,
       "version_minor": 0
      },
      "text/plain": [
       "  0%|          | 0/84 [00:00<?, ?it/s]"
      ]
     },
     "metadata": {},
     "output_type": "display_data"
    },
    {
     "name": "stdout",
     "output_type": "stream",
     "text": [
      "Initialization using the steady-state and dynamical models.\n",
      "Reinitialize the regular ODE parameters based on estimated global latent time.\n"
     ]
    },
    {
     "data": {
      "application/vnd.jupyter.widget-view+json": {
       "model_id": "a1f952378542439f87f0f0ef6304141e",
       "version_major": 2,
       "version_minor": 0
      },
      "text/plain": [
       "  0%|          | 0/84 [00:00<?, ?it/s]"
      ]
     },
     "metadata": {},
     "output_type": "display_data"
    },
    {
     "name": "stdout",
     "output_type": "stream",
     "text": [
      "3 clusters detected based on gene co-expression.\n",
      "(0.36, 0.25070307343442405), (0.64, 0.7640605172671028)\n",
      "(0.57, 0.8475524475473406), (0.43, 0.10044955044863953)\n",
      "KS-test result: [0. 0. 1.]\n",
      "Initial induction: 62, repression: 22/84\n",
      "Learning Rate based on Data Sparsity: 0.0000\n",
      "--------------------------- Train a VeloVAE ---------------------------\n",
      "*********        Creating Training/Validation Datasets        *********\n",
      "*********                      Finished.                      *********\n",
      "*********                 Creating optimizers                 *********\n",
      "*********                      Finished.                      *********\n",
      "*********                    Start training                   *********\n",
      "*********                      Stage  1                       *********\n",
      "Total Number of Iterations Per Epoch: 2, test iteration: 2\n",
      "*********                      Stage  2                       *********\n",
      "*********             Velocity Refinement Round 1             *********\n"
     ]
    },
    {
     "data": {
      "application/vnd.jupyter.widget-view+json": {
       "model_id": "f245bf826da04a96b220228f8ac01b18",
       "version_major": 2,
       "version_minor": 0
      },
      "text/plain": [
       "  0%|          | 0/300 [00:00<?, ?it/s]"
      ]
     },
     "metadata": {},
     "output_type": "display_data"
    },
    {
     "name": "stdout",
     "output_type": "stream",
     "text": [
      "Percentage of Invalid Sets: 0.030\n",
      "Average Set Size: 16\n",
      "*********     Round 1: Early Stop Triggered at epoch 1349.    *********\n",
      "Change in noise variance: 0.2281\n",
      "*********             Velocity Refinement Round 2             *********\n",
      "*********     Round 2: Early Stop Triggered at epoch 1522.    *********\n",
      "Change in noise variance: 0.0052\n",
      "Change in x0: 0.6921\n",
      "*********             Velocity Refinement Round 3             *********\n",
      "*********     Round 3: Early Stop Triggered at epoch 1663.    *********\n",
      "Change in noise variance: 0.0064\n",
      "Change in x0: 0.3447\n",
      "*********             Velocity Refinement Round 4             *********\n",
      "*********     Round 4: Early Stop Triggered at epoch 1710.    *********\n",
      "Change in noise variance: 0.0064\n",
      "Change in x0: 0.3396\n",
      "*********             Velocity Refinement Round 5             *********\n",
      "*********     Round 5: Early Stop Triggered at epoch 1734.    *********\n",
      "Change in noise variance: 0.0022\n",
      "Change in x0: 0.2616\n",
      "*********             Velocity Refinement Round 6             *********\n",
      "*********     Round 6: Early Stop Triggered at epoch 1783.    *********\n",
      "Change in noise variance: 0.0020\n",
      "Change in x0: 0.2183\n",
      "*********             Velocity Refinement Round 7             *********\n",
      "*********     Round 7: Early Stop Triggered at epoch 1799.    *********\n",
      "Change in noise variance: 0.0013\n",
      "Change in x0: 0.2125\n",
      "*********             Velocity Refinement Round 8             *********\n",
      "*********     Round 8: Early Stop Triggered at epoch 1835.    *********\n",
      "Change in noise variance: 0.0007\n",
      "Change in x0: 0.2014\n",
      "*********             Velocity Refinement Round 9             *********\n",
      "*********     Round 9: Early Stop Triggered at epoch 1860.    *********\n",
      "Change in noise variance: 0.0000\n",
      "Change in x0: 0.1965\n",
      "*********             Velocity Refinement Round 10             *********\n",
      "Stage 2: Early Stop Triggered at round 9.\n",
      "*********              Finished. Total Time =   0 h :  1 m : 32 s             *********\n",
      "Final: Train ELBO = -1606.755,\tTest ELBO = -1609.287\n",
      "Estimating ODE parameters...\n"
     ]
    },
    {
     "data": {
      "application/vnd.jupyter.widget-view+json": {
       "model_id": "ba33f2961b5f4a4da5494691b16a346e",
       "version_major": 2,
       "version_minor": 0
      },
      "text/plain": [
       "  0%|          | 0/71 [00:00<?, ?it/s]"
      ]
     },
     "metadata": {},
     "output_type": "display_data"
    },
    {
     "name": "stdout",
     "output_type": "stream",
     "text": [
      "Detected 32 velocity genes.\n",
      "Estimating the variance...\n"
     ]
    },
    {
     "data": {
      "application/vnd.jupyter.widget-view+json": {
       "model_id": "2051ddbec9f84b7f807e9f37ae1a3764",
       "version_major": 2,
       "version_minor": 0
      },
      "text/plain": [
       "  0%|          | 0/71 [00:00<?, ?it/s]"
      ]
     },
     "metadata": {},
     "output_type": "display_data"
    },
    {
     "name": "stdout",
     "output_type": "stream",
     "text": [
      "Initialization using the steady-state and dynamical models.\n",
      "Reinitialize the regular ODE parameters based on estimated global latent time.\n"
     ]
    },
    {
     "data": {
      "application/vnd.jupyter.widget-view+json": {
       "model_id": "5af43f130b9b4525957d8533c8ec2fc9",
       "version_major": 2,
       "version_minor": 0
      },
      "text/plain": [
       "  0%|          | 0/71 [00:00<?, ?it/s]"
      ]
     },
     "metadata": {},
     "output_type": "display_data"
    },
    {
     "name": "stdout",
     "output_type": "stream",
     "text": [
      "3 clusters detected based on gene co-expression.\n",
      "(0.62, 0.25073704656682283), (0.38, 0.8864542002036675)\n",
      "KS-test result: [0. 1. 1.]\n",
      "Initial induction: 44, repression: 27/71\n",
      "Learning Rate based on Data Sparsity: 0.0000\n",
      "--------------------------- Train a VeloVAE ---------------------------\n",
      "*********        Creating Training/Validation Datasets        *********\n",
      "*********                      Finished.                      *********\n",
      "*********                 Creating optimizers                 *********\n",
      "*********                      Finished.                      *********\n",
      "*********                    Start training                   *********\n",
      "*********                      Stage  1                       *********\n",
      "Total Number of Iterations Per Epoch: 2, test iteration: 2\n",
      "*********       Stage 1: Early Stop Triggered at epoch 6.       *********\n",
      "*********                      Stage  2                       *********\n",
      "*********             Velocity Refinement Round 1             *********\n"
     ]
    },
    {
     "data": {
      "application/vnd.jupyter.widget-view+json": {
       "model_id": "302b28808f3446098cdbe3b5346ca222",
       "version_major": 2,
       "version_minor": 0
      },
      "text/plain": [
       "  0%|          | 0/300 [00:00<?, ?it/s]"
      ]
     },
     "metadata": {},
     "output_type": "display_data"
    },
    {
     "name": "stdout",
     "output_type": "stream",
     "text": [
      "Percentage of Invalid Sets: 0.037\n",
      "Average Set Size: 17\n",
      "*********     Round 1: Early Stop Triggered at epoch 212.    *********\n",
      "Change in noise variance: 0.7725\n",
      "*********             Velocity Refinement Round 2             *********\n",
      "*********     Round 2: Early Stop Triggered at epoch 245.    *********\n",
      "Change in noise variance: 0.0427\n",
      "Change in x0: 0.6257\n",
      "*********             Velocity Refinement Round 3             *********\n",
      "*********     Round 3: Early Stop Triggered at epoch 254.    *********\n",
      "Change in noise variance: 0.0046\n",
      "Change in x0: 0.3750\n",
      "*********             Velocity Refinement Round 4             *********\n",
      "*********     Round 4: Early Stop Triggered at epoch 260.    *********\n",
      "Change in noise variance: 0.0027\n",
      "Change in x0: 0.3104\n",
      "*********             Velocity Refinement Round 5             *********\n",
      "*********     Round 5: Early Stop Triggered at epoch 268.    *********\n",
      "Change in noise variance: 0.0009\n",
      "Change in x0: 0.2714\n",
      "*********             Velocity Refinement Round 6             *********\n",
      "*********     Round 6: Early Stop Triggered at epoch 274.    *********\n",
      "Change in noise variance: 0.0000\n",
      "Change in x0: 0.2441\n",
      "*********             Velocity Refinement Round 7             *********\n",
      "*********     Round 7: Early Stop Triggered at epoch 280.    *********\n",
      "Change in noise variance: 0.0000\n",
      "Change in x0: 0.2225\n",
      "*********             Velocity Refinement Round 8             *********\n",
      "*********     Round 8: Early Stop Triggered at epoch 286.    *********\n",
      "Change in noise variance: 0.0000\n",
      "Change in x0: 0.2113\n",
      "*********             Velocity Refinement Round 9             *********\n",
      "*********     Round 9: Early Stop Triggered at epoch 292.    *********\n",
      "Change in noise variance: 0.0000\n",
      "Change in x0: 0.2111\n",
      "*********             Velocity Refinement Round 10             *********\n",
      "Stage 2: Early Stop Triggered at round 9.\n",
      "*********              Finished. Total Time =   0 h :  0 m : 27 s             *********\n",
      "Final: Train ELBO = -14000.091,\tTest ELBO = -14185.506\n",
      "Estimating ODE parameters...\n"
     ]
    },
    {
     "data": {
      "application/vnd.jupyter.widget-view+json": {
       "model_id": "a23aba0a10ea4f85ac4f5644b2dee112",
       "version_major": 2,
       "version_minor": 0
      },
      "text/plain": [
       "  0%|          | 0/85 [00:00<?, ?it/s]"
      ]
     },
     "metadata": {},
     "output_type": "display_data"
    },
    {
     "name": "stdout",
     "output_type": "stream",
     "text": [
      "Detected 40 velocity genes.\n",
      "Estimating the variance...\n"
     ]
    },
    {
     "data": {
      "application/vnd.jupyter.widget-view+json": {
       "model_id": "e55d58fd65684106979aeafbc751ffb0",
       "version_major": 2,
       "version_minor": 0
      },
      "text/plain": [
       "  0%|          | 0/85 [00:00<?, ?it/s]"
      ]
     },
     "metadata": {},
     "output_type": "display_data"
    },
    {
     "name": "stdout",
     "output_type": "stream",
     "text": [
      "Initialization using the steady-state and dynamical models.\n",
      "Reinitialize the regular ODE parameters based on estimated global latent time.\n"
     ]
    },
    {
     "data": {
      "application/vnd.jupyter.widget-view+json": {
       "model_id": "858adbc3a7f94fb79effdd1fd675e17d",
       "version_major": 2,
       "version_minor": 0
      },
      "text/plain": [
       "  0%|          | 0/85 [00:00<?, ?it/s]"
      ]
     },
     "metadata": {},
     "output_type": "display_data"
    },
    {
     "name": "stdout",
     "output_type": "stream",
     "text": [
      "3 clusters detected based on gene co-expression.\n",
      "(0.50, 0.7798950426379351), (0.50, 0.36970058925632504)\n",
      "KS-test result: [0. 1. 1.]\n",
      "Initial induction: 68, repression: 17/85\n",
      "Learning Rate based on Data Sparsity: 0.0000\n",
      "--------------------------- Train a VeloVAE ---------------------------\n",
      "*********        Creating Training/Validation Datasets        *********\n",
      "*********                      Finished.                      *********\n",
      "*********                 Creating optimizers                 *********\n",
      "*********                      Finished.                      *********\n",
      "*********                    Start training                   *********\n",
      "*********                      Stage  1                       *********\n",
      "Total Number of Iterations Per Epoch: 2, test iteration: 2\n",
      "*********       Stage 1: Early Stop Triggered at epoch 8.       *********\n",
      "*********                      Stage  2                       *********\n",
      "*********             Velocity Refinement Round 1             *********\n"
     ]
    },
    {
     "data": {
      "application/vnd.jupyter.widget-view+json": {
       "model_id": "34dabd0d55344487babbd15a01c49a95",
       "version_major": 2,
       "version_minor": 0
      },
      "text/plain": [
       "  0%|          | 0/200 [00:00<?, ?it/s]"
      ]
     },
     "metadata": {},
     "output_type": "display_data"
    },
    {
     "name": "stdout",
     "output_type": "stream",
     "text": [
      "Percentage of Invalid Sets: 0.060\n",
      "Average Set Size: 11\n",
      "*********     Round 1: Early Stop Triggered at epoch 14.    *********\n",
      "Change in noise variance: 1.2757\n",
      "*********             Velocity Refinement Round 2             *********\n",
      "*********     Round 2: Early Stop Triggered at epoch 20.    *********\n",
      "Change in noise variance: 0.0801\n",
      "Change in x0: 0.4768\n",
      "*********             Velocity Refinement Round 3             *********\n",
      "*********     Round 3: Early Stop Triggered at epoch 26.    *********\n",
      "Change in noise variance: 0.0039\n",
      "Change in x0: 0.2874\n",
      "*********             Velocity Refinement Round 4             *********\n",
      "*********     Round 4: Early Stop Triggered at epoch 46.    *********\n",
      "Change in noise variance: 0.0015\n",
      "Change in x0: 0.2370\n",
      "*********             Velocity Refinement Round 5             *********\n",
      "*********     Round 5: Early Stop Triggered at epoch 52.    *********\n",
      "Change in noise variance: 0.0008\n",
      "Change in x0: 0.2077\n",
      "*********             Velocity Refinement Round 6             *********\n",
      "*********     Round 6: Early Stop Triggered at epoch 59.    *********\n",
      "Change in noise variance: 0.0000\n",
      "Change in x0: 0.1950\n",
      "*********             Velocity Refinement Round 7             *********\n",
      "*********     Round 7: Early Stop Triggered at epoch 65.    *********\n",
      "Change in noise variance: 0.0000\n",
      "Change in x0: 0.1838\n",
      "*********             Velocity Refinement Round 8             *********\n",
      "*********     Round 8: Early Stop Triggered at epoch 71.    *********\n",
      "Change in noise variance: 0.0000\n",
      "Change in x0: 0.1655\n",
      "*********             Velocity Refinement Round 9             *********\n",
      "*********     Round 9: Early Stop Triggered at epoch 79.    *********\n",
      "Change in noise variance: 0.0000\n",
      "Change in x0: 0.1513\n",
      "*********             Velocity Refinement Round 10             *********\n",
      "*********     Round 10: Early Stop Triggered at epoch 85.    *********\n",
      "Change in noise variance: 0.0000\n",
      "Change in x0: 0.1465\n",
      "*********             Velocity Refinement Round 11             *********\n",
      "Stage 2: Early Stop Triggered at round 10.\n",
      "*********              Finished. Total Time =   0 h :  0 m : 14 s             *********\n",
      "Final: Train ELBO = -20587.127,\tTest ELBO = -20604.510\n",
      "Estimating ODE parameters...\n"
     ]
    },
    {
     "data": {
      "application/vnd.jupyter.widget-view+json": {
       "model_id": "71aa3c93834d476c8ae01c0526ffc12c",
       "version_major": 2,
       "version_minor": 0
      },
      "text/plain": [
       "  0%|          | 0/81 [00:00<?, ?it/s]"
      ]
     },
     "metadata": {},
     "output_type": "display_data"
    },
    {
     "name": "stdout",
     "output_type": "stream",
     "text": [
      "Detected 31 velocity genes.\n",
      "Estimating the variance...\n"
     ]
    },
    {
     "data": {
      "application/vnd.jupyter.widget-view+json": {
       "model_id": "179e5a2382b14c36a9f597d4293fee7a",
       "version_major": 2,
       "version_minor": 0
      },
      "text/plain": [
       "  0%|          | 0/81 [00:00<?, ?it/s]"
      ]
     },
     "metadata": {},
     "output_type": "display_data"
    },
    {
     "name": "stdout",
     "output_type": "stream",
     "text": [
      "Initialization using the steady-state and dynamical models.\n",
      "Reinitialize the regular ODE parameters based on estimated global latent time.\n"
     ]
    },
    {
     "data": {
      "application/vnd.jupyter.widget-view+json": {
       "model_id": "57a756f04c9f478890f3f73440c5a69f",
       "version_major": 2,
       "version_minor": 0
      },
      "text/plain": [
       "  0%|          | 0/81 [00:00<?, ?it/s]"
      ]
     },
     "metadata": {},
     "output_type": "display_data"
    },
    {
     "name": "stdout",
     "output_type": "stream",
     "text": [
      "3 clusters detected based on gene co-expression.\n",
      "(0.61, 0.25328421223351666), (0.39, 0.8536592818877626)\n",
      "(0.50, 0.13934589145383208), (0.50, 0.7024048173998951)\n",
      "KS-test result: [0. 1. 0.]\n",
      "Initial induction: 43, repression: 38/81\n",
      "Learning Rate based on Data Sparsity: 0.0000\n",
      "--------------------------- Train a VeloVAE ---------------------------\n",
      "*********        Creating Training/Validation Datasets        *********\n",
      "*********                      Finished.                      *********\n",
      "*********                 Creating optimizers                 *********\n",
      "*********                      Finished.                      *********\n",
      "*********                    Start training                   *********\n",
      "*********                      Stage  1                       *********\n",
      "Total Number of Iterations Per Epoch: 2, test iteration: 2\n",
      "*********       Stage 1: Early Stop Triggered at epoch 5.       *********\n",
      "*********                      Stage  2                       *********\n",
      "*********             Velocity Refinement Round 1             *********\n"
     ]
    },
    {
     "data": {
      "application/vnd.jupyter.widget-view+json": {
       "model_id": "1559c76f474a469ab55397c29839396d",
       "version_major": 2,
       "version_minor": 0
      },
      "text/plain": [
       "  0%|          | 0/300 [00:00<?, ?it/s]"
      ]
     },
     "metadata": {},
     "output_type": "display_data"
    },
    {
     "name": "stdout",
     "output_type": "stream",
     "text": [
      "Percentage of Invalid Sets: 0.033\n",
      "Average Set Size: 16\n",
      "*********     Round 1: Early Stop Triggered at epoch 11.    *********\n",
      "Change in noise variance: 0.3671\n",
      "*********             Velocity Refinement Round 2             *********\n",
      "*********     Round 2: Early Stop Triggered at epoch 16.    *********\n",
      "Change in noise variance: 0.0477\n",
      "Change in x0: 0.6078\n",
      "*********             Velocity Refinement Round 3             *********\n",
      "*********     Round 3: Early Stop Triggered at epoch 22.    *********\n",
      "Change in noise variance: 0.0024\n",
      "Change in x0: 0.3214\n",
      "*********             Velocity Refinement Round 4             *********\n",
      "*********     Round 4: Early Stop Triggered at epoch 28.    *********\n",
      "Change in noise variance: 0.0022\n",
      "Change in x0: 0.2438\n",
      "*********             Velocity Refinement Round 5             *********\n",
      "*********     Round 5: Early Stop Triggered at epoch 34.    *********\n",
      "Change in noise variance: 0.0012\n",
      "Change in x0: 0.2155\n",
      "*********             Velocity Refinement Round 6             *********\n",
      "*********     Round 6: Early Stop Triggered at epoch 40.    *********\n",
      "Change in noise variance: 0.0008\n",
      "Change in x0: 0.1997\n",
      "*********             Velocity Refinement Round 7             *********\n",
      "*********     Round 7: Early Stop Triggered at epoch 46.    *********\n",
      "Change in noise variance: 0.0000\n",
      "Change in x0: 0.1880\n",
      "*********             Velocity Refinement Round 8             *********\n",
      "*********     Round 8: Early Stop Triggered at epoch 52.    *********\n",
      "Change in noise variance: 0.0000\n",
      "Change in x0: 0.1739\n",
      "*********             Velocity Refinement Round 9             *********\n",
      "*********     Round 9: Early Stop Triggered at epoch 58.    *********\n",
      "Change in noise variance: 0.0000\n",
      "Change in x0: 0.1664\n",
      "*********             Velocity Refinement Round 10             *********\n",
      "Stage 2: Early Stop Triggered at round 9.\n",
      "*********              Finished. Total Time =   0 h :  0 m :  5 s             *********\n",
      "Final: Train ELBO = -14216.592,\tTest ELBO = -14286.768\n",
      "Estimating ODE parameters...\n"
     ]
    },
    {
     "data": {
      "application/vnd.jupyter.widget-view+json": {
       "model_id": "a5a864ee151444b4b92cb039eb76f59a",
       "version_major": 2,
       "version_minor": 0
      },
      "text/plain": [
       "  0%|          | 0/73 [00:00<?, ?it/s]"
      ]
     },
     "metadata": {},
     "output_type": "display_data"
    },
    {
     "name": "stdout",
     "output_type": "stream",
     "text": [
      "Detected 31 velocity genes.\n",
      "Estimating the variance...\n"
     ]
    },
    {
     "data": {
      "application/vnd.jupyter.widget-view+json": {
       "model_id": "6564ff126c71425c9880fd817eeabb8e",
       "version_major": 2,
       "version_minor": 0
      },
      "text/plain": [
       "  0%|          | 0/73 [00:00<?, ?it/s]"
      ]
     },
     "metadata": {},
     "output_type": "display_data"
    },
    {
     "name": "stdout",
     "output_type": "stream",
     "text": [
      "Initialization using the steady-state and dynamical models.\n",
      "Reinitialize the regular ODE parameters based on estimated global latent time.\n"
     ]
    },
    {
     "data": {
      "application/vnd.jupyter.widget-view+json": {
       "model_id": "5d8f948f917240109fac672e17b2d484",
       "version_major": 2,
       "version_minor": 0
      },
      "text/plain": [
       "  0%|          | 0/73 [00:00<?, ?it/s]"
      ]
     },
     "metadata": {},
     "output_type": "display_data"
    },
    {
     "name": "stdout",
     "output_type": "stream",
     "text": [
      "3 clusters detected based on gene co-expression.\n",
      "KS-test result: [1. 1. 1.]\n",
      "Assign cluster 0 to repressive\n",
      "Initial induction: 42, repression: 31/73\n",
      "Learning Rate based on Data Sparsity: 0.0000\n",
      "--------------------------- Train a VeloVAE ---------------------------\n",
      "*********        Creating Training/Validation Datasets        *********\n",
      "*********                      Finished.                      *********\n",
      "*********                 Creating optimizers                 *********\n",
      "*********                      Finished.                      *********\n",
      "*********                    Start training                   *********\n",
      "*********                      Stage  1                       *********\n",
      "Total Number of Iterations Per Epoch: 2, test iteration: 2\n",
      "*********       Stage 1: Early Stop Triggered at epoch 13.       *********\n",
      "*********                      Stage  2                       *********\n",
      "*********             Velocity Refinement Round 1             *********\n"
     ]
    },
    {
     "data": {
      "application/vnd.jupyter.widget-view+json": {
       "model_id": "0e1617e963a6417fbca7d21ba7c971cc",
       "version_major": 2,
       "version_minor": 0
      },
      "text/plain": [
       "  0%|          | 0/300 [00:00<?, ?it/s]"
      ]
     },
     "metadata": {},
     "output_type": "display_data"
    },
    {
     "name": "stdout",
     "output_type": "stream",
     "text": [
      "Percentage of Invalid Sets: 0.030\n",
      "Average Set Size: 17\n",
      "*********     Round 1: Early Stop Triggered at epoch 19.    *********\n",
      "Change in noise variance: 0.2287\n",
      "*********             Velocity Refinement Round 2             *********\n",
      "*********     Round 2: Early Stop Triggered at epoch 26.    *********\n",
      "Change in noise variance: 0.0118\n",
      "Change in x0: 0.4770\n",
      "*********             Velocity Refinement Round 3             *********\n",
      "*********     Round 3: Early Stop Triggered at epoch 141.    *********\n",
      "Change in noise variance: 0.0030\n",
      "Change in x0: 0.3930\n",
      "*********             Velocity Refinement Round 4             *********\n",
      "*********     Round 4: Early Stop Triggered at epoch 191.    *********\n",
      "Change in noise variance: 0.0022\n",
      "Change in x0: 0.3111\n",
      "*********             Velocity Refinement Round 5             *********\n",
      "*********     Round 5: Early Stop Triggered at epoch 221.    *********\n",
      "Change in noise variance: 0.0012\n",
      "Change in x0: 0.2692\n",
      "*********             Velocity Refinement Round 6             *********\n",
      "*********     Round 6: Early Stop Triggered at epoch 262.    *********\n",
      "Change in noise variance: 0.0011\n",
      "Change in x0: 0.2309\n",
      "*********             Velocity Refinement Round 7             *********\n",
      "*********     Round 7: Early Stop Triggered at epoch 274.    *********\n",
      "Change in noise variance: 0.0009\n",
      "Change in x0: 0.1985\n",
      "*********             Velocity Refinement Round 8             *********\n",
      "*********     Round 8: Early Stop Triggered at epoch 290.    *********\n",
      "Change in noise variance: 0.0000\n",
      "Change in x0: 0.1709\n",
      "*********             Velocity Refinement Round 9             *********\n",
      "*********     Round 9: Early Stop Triggered at epoch 295.    *********\n",
      "Change in noise variance: 0.0000\n",
      "Change in x0: 0.1484\n",
      "*********             Velocity Refinement Round 10             *********\n",
      "*********     Round 10: Early Stop Triggered at epoch 305.    *********\n",
      "Change in noise variance: 0.0000\n",
      "Change in x0: 0.1350\n",
      "*********             Velocity Refinement Round 11             *********\n",
      "*********     Round 11: Early Stop Triggered at epoch 314.    *********\n",
      "Change in noise variance: 0.0000\n",
      "Change in x0: 0.1269\n",
      "*********             Velocity Refinement Round 12             *********\n",
      "Stage 2: Early Stop Triggered at round 11.\n",
      "*********              Finished. Total Time =   0 h :  0 m : 27 s             *********\n",
      "Final: Train ELBO = -14776.117,\tTest ELBO = -14653.228\n",
      "Estimating ODE parameters...\n"
     ]
    },
    {
     "data": {
      "application/vnd.jupyter.widget-view+json": {
       "model_id": "639c7d03e118476780ef2f030886a4c8",
       "version_major": 2,
       "version_minor": 0
      },
      "text/plain": [
       "  0%|          | 0/85 [00:00<?, ?it/s]"
      ]
     },
     "metadata": {},
     "output_type": "display_data"
    },
    {
     "name": "stdout",
     "output_type": "stream",
     "text": [
      "Detected 32 velocity genes.\n",
      "Estimating the variance...\n"
     ]
    },
    {
     "data": {
      "application/vnd.jupyter.widget-view+json": {
       "model_id": "5e3fcd0e02974c5dbc0980a03179b79c",
       "version_major": 2,
       "version_minor": 0
      },
      "text/plain": [
       "  0%|          | 0/85 [00:00<?, ?it/s]"
      ]
     },
     "metadata": {},
     "output_type": "display_data"
    },
    {
     "name": "stdout",
     "output_type": "stream",
     "text": [
      "Initialization using the steady-state and dynamical models.\n",
      "Reinitialize the regular ODE parameters based on estimated global latent time.\n"
     ]
    },
    {
     "data": {
      "application/vnd.jupyter.widget-view+json": {
       "model_id": "da3c638f5536413ba5636bd86e41c96f",
       "version_major": 2,
       "version_minor": 0
      },
      "text/plain": [
       "  0%|          | 0/85 [00:00<?, ?it/s]"
      ]
     },
     "metadata": {},
     "output_type": "display_data"
    },
    {
     "name": "stdout",
     "output_type": "stream",
     "text": [
      "3 clusters detected based on gene co-expression.\n",
      "(0.62, 0.20672961138115753), (0.38, 0.8812856125296097)\n",
      "(0.47, 0.15060377505382813), (0.53, 0.8300993269683058)\n",
      "(0.55, 0.05115333441901289), (0.45, 0.8035111864172376)\n",
      "KS-test result: [0. 0. 0.]\n",
      "Initial induction: 37, repression: 48/85\n",
      "Learning Rate based on Data Sparsity: 0.0000\n",
      "--------------------------- Train a VeloVAE ---------------------------\n",
      "*********        Creating Training/Validation Datasets        *********\n",
      "*********                      Finished.                      *********\n",
      "*********                 Creating optimizers                 *********\n",
      "*********                      Finished.                      *********\n",
      "*********                    Start training                   *********\n",
      "*********                      Stage  1                       *********\n",
      "Total Number of Iterations Per Epoch: 2, test iteration: 2\n",
      "*********       Stage 1: Early Stop Triggered at epoch 16.       *********\n",
      "*********                      Stage  2                       *********\n",
      "*********             Velocity Refinement Round 1             *********\n"
     ]
    },
    {
     "data": {
      "application/vnd.jupyter.widget-view+json": {
       "model_id": "f563eb37e10f418cb9115fa128d10dfd",
       "version_major": 2,
       "version_minor": 0
      },
      "text/plain": [
       "  0%|          | 0/300 [00:00<?, ?it/s]"
      ]
     },
     "metadata": {},
     "output_type": "display_data"
    },
    {
     "name": "stdout",
     "output_type": "stream",
     "text": [
      "Percentage of Invalid Sets: 0.083\n",
      "Average Set Size: 15\n",
      "*********     Round 1: Early Stop Triggered at epoch 22.    *********\n",
      "Change in noise variance: 0.2995\n",
      "*********             Velocity Refinement Round 2             *********\n",
      "*********     Round 2: Early Stop Triggered at epoch 27.    *********\n",
      "Change in noise variance: 0.0712\n",
      "Change in x0: 0.4024\n",
      "*********             Velocity Refinement Round 3             *********\n",
      "*********     Round 3: Early Stop Triggered at epoch 32.    *********\n",
      "Change in noise variance: 0.0131\n",
      "Change in x0: 0.3061\n",
      "*********             Velocity Refinement Round 4             *********\n",
      "*********     Round 4: Early Stop Triggered at epoch 38.    *********\n",
      "Change in noise variance: 0.0088\n",
      "Change in x0: 0.2449\n",
      "*********             Velocity Refinement Round 5             *********\n",
      "*********     Round 5: Early Stop Triggered at epoch 44.    *********\n",
      "Change in noise variance: 0.0033\n",
      "Change in x0: 0.2076\n",
      "*********             Velocity Refinement Round 6             *********\n",
      "*********     Round 6: Early Stop Triggered at epoch 50.    *********\n",
      "Change in noise variance: 0.0013\n",
      "Change in x0: 0.1996\n",
      "*********             Velocity Refinement Round 7             *********\n",
      "*********     Round 7: Early Stop Triggered at epoch 56.    *********\n",
      "Change in noise variance: 0.0009\n",
      "Change in x0: 0.1879\n",
      "*********             Velocity Refinement Round 8             *********\n",
      "*********     Round 8: Early Stop Triggered at epoch 61.    *********\n",
      "Change in noise variance: 0.0000\n",
      "Change in x0: 0.1675\n",
      "*********             Velocity Refinement Round 9             *********\n",
      "*********     Round 9: Early Stop Triggered at epoch 66.    *********\n",
      "Change in noise variance: 0.0000\n",
      "Change in x0: 0.1580\n",
      "*********             Velocity Refinement Round 10             *********\n",
      "Stage 2: Early Stop Triggered at round 9.\n",
      "*********              Finished. Total Time =   0 h :  0 m : 15 s             *********\n",
      "Final: Train ELBO = -16159.053,\tTest ELBO = -16439.312\n",
      "Estimating ODE parameters...\n"
     ]
    },
    {
     "data": {
      "application/vnd.jupyter.widget-view+json": {
       "model_id": "490d05bfdf2448208ccf800d6a757235",
       "version_major": 2,
       "version_minor": 0
      },
      "text/plain": [
       "  0%|          | 0/73 [00:00<?, ?it/s]"
      ]
     },
     "metadata": {},
     "output_type": "display_data"
    },
    {
     "name": "stdout",
     "output_type": "stream",
     "text": [
      "Detected 30 velocity genes.\n",
      "Estimating the variance...\n"
     ]
    },
    {
     "data": {
      "application/vnd.jupyter.widget-view+json": {
       "model_id": "4389a163610d4a89b1eeb79e7d43b710",
       "version_major": 2,
       "version_minor": 0
      },
      "text/plain": [
       "  0%|          | 0/73 [00:00<?, ?it/s]"
      ]
     },
     "metadata": {},
     "output_type": "display_data"
    },
    {
     "name": "stdout",
     "output_type": "stream",
     "text": [
      "Initialization using the steady-state and dynamical models.\n",
      "Reinitialize the regular ODE parameters based on estimated global latent time.\n"
     ]
    },
    {
     "data": {
      "application/vnd.jupyter.widget-view+json": {
       "model_id": "7597b5fc12e34acdad2644cf408150d9",
       "version_major": 2,
       "version_minor": 0
      },
      "text/plain": [
       "  0%|          | 0/73 [00:00<?, ?it/s]"
      ]
     },
     "metadata": {},
     "output_type": "display_data"
    },
    {
     "name": "stdout",
     "output_type": "stream",
     "text": [
      "3 clusters detected based on gene co-expression.\n",
      "KS-test result: [1. 1. 1.]\n",
      "Assign cluster 2 to repressive\n",
      "Initial induction: 48, repression: 25/73\n",
      "Learning Rate based on Data Sparsity: 0.0000\n",
      "--------------------------- Train a VeloVAE ---------------------------\n",
      "*********        Creating Training/Validation Datasets        *********\n",
      "*********                      Finished.                      *********\n",
      "*********                 Creating optimizers                 *********\n",
      "*********                      Finished.                      *********\n",
      "*********                    Start training                   *********\n",
      "*********                      Stage  1                       *********\n",
      "Total Number of Iterations Per Epoch: 2, test iteration: 2\n",
      "*********       Stage 1: Early Stop Triggered at epoch 5.       *********\n",
      "*********                      Stage  2                       *********\n",
      "*********             Velocity Refinement Round 1             *********\n"
     ]
    },
    {
     "data": {
      "application/vnd.jupyter.widget-view+json": {
       "model_id": "c35c1035a9ee4527b178161a15576503",
       "version_major": 2,
       "version_minor": 0
      },
      "text/plain": [
       "  0%|          | 0/300 [00:00<?, ?it/s]"
      ]
     },
     "metadata": {},
     "output_type": "display_data"
    },
    {
     "name": "stdout",
     "output_type": "stream",
     "text": [
      "Percentage of Invalid Sets: 0.023\n",
      "Average Set Size: 17\n",
      "*********     Round 1: Early Stop Triggered at epoch 11.    *********\n",
      "Change in noise variance: 0.3156\n",
      "*********             Velocity Refinement Round 2             *********\n",
      "*********     Round 2: Early Stop Triggered at epoch 16.    *********\n",
      "Change in noise variance: 0.0792\n",
      "Change in x0: 0.4805\n",
      "*********             Velocity Refinement Round 3             *********\n",
      "*********     Round 3: Early Stop Triggered at epoch 22.    *********\n",
      "Change in noise variance: 0.0043\n",
      "Change in x0: 0.3847\n",
      "*********             Velocity Refinement Round 4             *********\n",
      "*********     Round 4: Early Stop Triggered at epoch 28.    *********\n",
      "Change in noise variance: 0.0088\n",
      "Change in x0: 0.2860\n",
      "*********             Velocity Refinement Round 5             *********\n",
      "*********     Round 5: Early Stop Triggered at epoch 34.    *********\n",
      "Change in noise variance: 0.0124\n",
      "Change in x0: 0.2093\n",
      "*********             Velocity Refinement Round 6             *********\n",
      "*********     Round 6: Early Stop Triggered at epoch 40.    *********\n",
      "Change in noise variance: 0.0065\n",
      "Change in x0: 0.1651\n",
      "*********             Velocity Refinement Round 7             *********\n",
      "*********     Round 7: Early Stop Triggered at epoch 46.    *********\n",
      "Change in noise variance: 0.0027\n",
      "Change in x0: 0.1482\n",
      "*********             Velocity Refinement Round 8             *********\n",
      "*********     Round 8: Early Stop Triggered at epoch 52.    *********\n",
      "Change in noise variance: 0.0047\n",
      "Change in x0: 0.1399\n",
      "*********             Velocity Refinement Round 9             *********\n",
      "*********     Round 9: Early Stop Triggered at epoch 58.    *********\n",
      "Change in noise variance: 0.0033\n",
      "Change in x0: 0.1331\n",
      "*********             Velocity Refinement Round 10             *********\n",
      "*********     Round 10: Early Stop Triggered at epoch 64.    *********\n",
      "Change in noise variance: 0.0020\n",
      "Change in x0: 0.1280\n",
      "*********             Velocity Refinement Round 11             *********\n",
      "*********     Round 11: Early Stop Triggered at epoch 70.    *********\n",
      "Change in noise variance: 0.0014\n",
      "Change in x0: 0.1245\n",
      "*********             Velocity Refinement Round 12             *********\n",
      "*********     Round 12: Early Stop Triggered at epoch 76.    *********\n",
      "Change in noise variance: 0.0010\n",
      "Change in x0: 0.1219\n",
      "*********             Velocity Refinement Round 13             *********\n",
      "Stage 2: Early Stop Triggered at round 12.\n",
      "*********              Finished. Total Time =   0 h :  0 m : 19 s             *********\n",
      "Final: Train ELBO = -14586.744,\tTest ELBO = -14794.264\n",
      "Estimating ODE parameters...\n"
     ]
    },
    {
     "data": {
      "application/vnd.jupyter.widget-view+json": {
       "model_id": "122f1c8ecfbc478f8e405fd9882c2dc9",
       "version_major": 2,
       "version_minor": 0
      },
      "text/plain": [
       "  0%|          | 0/74 [00:00<?, ?it/s]"
      ]
     },
     "metadata": {},
     "output_type": "display_data"
    },
    {
     "name": "stdout",
     "output_type": "stream",
     "text": [
      "Detected 33 velocity genes.\n",
      "Estimating the variance...\n"
     ]
    },
    {
     "data": {
      "application/vnd.jupyter.widget-view+json": {
       "model_id": "a612f0ac1fbd46c69673f349ed2cdfc4",
       "version_major": 2,
       "version_minor": 0
      },
      "text/plain": [
       "  0%|          | 0/74 [00:00<?, ?it/s]"
      ]
     },
     "metadata": {},
     "output_type": "display_data"
    },
    {
     "name": "stdout",
     "output_type": "stream",
     "text": [
      "Initialization using the steady-state and dynamical models.\n",
      "Reinitialize the regular ODE parameters based on estimated global latent time.\n"
     ]
    },
    {
     "data": {
      "application/vnd.jupyter.widget-view+json": {
       "model_id": "c661fe9688cf46d6a956ad95f12d194c",
       "version_major": 2,
       "version_minor": 0
      },
      "text/plain": [
       "  0%|          | 0/74 [00:00<?, ?it/s]"
      ]
     },
     "metadata": {},
     "output_type": "display_data"
    },
    {
     "name": "stdout",
     "output_type": "stream",
     "text": [
      "3 clusters detected based on gene co-expression.\n",
      "(0.59, 0.3174184423133425), (0.41, 0.8289720081868958)\n",
      "KS-test result: [0. 2. 1.]\n",
      "Initial induction: 33, repression: 41/74\n",
      "Learning Rate based on Data Sparsity: 0.0000\n",
      "--------------------------- Train a VeloVAE ---------------------------\n",
      "*********        Creating Training/Validation Datasets        *********\n",
      "*********                      Finished.                      *********\n",
      "*********                 Creating optimizers                 *********\n",
      "*********                      Finished.                      *********\n",
      "*********                    Start training                   *********\n",
      "*********                      Stage  1                       *********\n",
      "Total Number of Iterations Per Epoch: 2, test iteration: 2\n",
      "*********       Stage 1: Early Stop Triggered at epoch 8.       *********\n",
      "*********                      Stage  2                       *********\n",
      "*********             Velocity Refinement Round 1             *********\n"
     ]
    },
    {
     "data": {
      "application/vnd.jupyter.widget-view+json": {
       "model_id": "057b769c55c148eb93997168dcd11c26",
       "version_major": 2,
       "version_minor": 0
      },
      "text/plain": [
       "  0%|          | 0/200 [00:00<?, ?it/s]"
      ]
     },
     "metadata": {},
     "output_type": "display_data"
    },
    {
     "name": "stdout",
     "output_type": "stream",
     "text": [
      "Percentage of Invalid Sets: 0.025\n",
      "Average Set Size: 11\n",
      "*********     Round 1: Early Stop Triggered at epoch 15.    *********\n",
      "Change in noise variance: 1.1601\n",
      "*********             Velocity Refinement Round 2             *********\n",
      "*********     Round 2: Early Stop Triggered at epoch 249.    *********\n",
      "Change in noise variance: 0.0809\n",
      "Change in x0: 0.5851\n",
      "*********             Velocity Refinement Round 3             *********\n",
      "*********     Round 3: Early Stop Triggered at epoch 386.    *********\n",
      "Change in noise variance: 0.0074\n",
      "Change in x0: 0.3659\n",
      "*********             Velocity Refinement Round 4             *********\n",
      "*********     Round 4: Early Stop Triggered at epoch 429.    *********\n",
      "Change in noise variance: 0.0025\n",
      "Change in x0: 0.3050\n",
      "*********             Velocity Refinement Round 5             *********\n",
      "*********     Round 5: Early Stop Triggered at epoch 477.    *********\n",
      "Change in noise variance: 0.0010\n",
      "Change in x0: 0.2527\n",
      "*********             Velocity Refinement Round 6             *********\n",
      "*********     Round 6: Early Stop Triggered at epoch 493.    *********\n",
      "Change in noise variance: 0.0000\n",
      "Change in x0: 0.2137\n",
      "*********             Velocity Refinement Round 7             *********\n",
      "*********     Round 7: Early Stop Triggered at epoch 509.    *********\n",
      "Change in noise variance: 0.0000\n",
      "Change in x0: 0.1961\n",
      "*********             Velocity Refinement Round 8             *********\n",
      "*********     Round 8: Early Stop Triggered at epoch 533.    *********\n",
      "Change in noise variance: 0.0000\n",
      "Change in x0: 0.1938\n",
      "*********             Velocity Refinement Round 9             *********\n",
      "Stage 2: Early Stop Triggered at round 8.\n",
      "*********              Finished. Total Time =   0 h :  0 m : 31 s             *********\n",
      "Final: Train ELBO = -14918.545,\tTest ELBO = -16750.279\n",
      "Estimating ODE parameters...\n"
     ]
    },
    {
     "data": {
      "application/vnd.jupyter.widget-view+json": {
       "model_id": "4133cdf472694d43bac324964dddf87b",
       "version_major": 2,
       "version_minor": 0
      },
      "text/plain": [
       "  0%|          | 0/77 [00:00<?, ?it/s]"
      ]
     },
     "metadata": {},
     "output_type": "display_data"
    },
    {
     "name": "stdout",
     "output_type": "stream",
     "text": [
      "Detected 32 velocity genes.\n",
      "Estimating the variance...\n"
     ]
    },
    {
     "data": {
      "application/vnd.jupyter.widget-view+json": {
       "model_id": "26c83d7b07de4e699b0e14c7d1c45aee",
       "version_major": 2,
       "version_minor": 0
      },
      "text/plain": [
       "  0%|          | 0/77 [00:00<?, ?it/s]"
      ]
     },
     "metadata": {},
     "output_type": "display_data"
    },
    {
     "name": "stdout",
     "output_type": "stream",
     "text": [
      "Initialization using the steady-state and dynamical models.\n",
      "Reinitialize the regular ODE parameters based on estimated global latent time.\n"
     ]
    },
    {
     "data": {
      "application/vnd.jupyter.widget-view+json": {
       "model_id": "f45c2a5a0dc6469e8cfed0576069ccdd",
       "version_major": 2,
       "version_minor": 0
      },
      "text/plain": [
       "  0%|          | 0/77 [00:00<?, ?it/s]"
      ]
     },
     "metadata": {},
     "output_type": "display_data"
    },
    {
     "name": "stdout",
     "output_type": "stream",
     "text": [
      "3 clusters detected based on gene co-expression.\n",
      "(0.48, 0.14413919413760584), (0.52, 0.9094301356860764)\n",
      "KS-test result: [1. 0. 1.]\n",
      "Initial induction: 60, repression: 17/77\n",
      "Learning Rate based on Data Sparsity: 0.0000\n",
      "--------------------------- Train a VeloVAE ---------------------------\n",
      "*********        Creating Training/Validation Datasets        *********\n",
      "*********                      Finished.                      *********\n",
      "*********                 Creating optimizers                 *********\n",
      "*********                      Finished.                      *********\n",
      "*********                    Start training                   *********\n",
      "*********                      Stage  1                       *********\n",
      "Total Number of Iterations Per Epoch: 2, test iteration: 2\n",
      "*********       Stage 1: Early Stop Triggered at epoch 5.       *********\n",
      "*********                      Stage  2                       *********\n",
      "*********             Velocity Refinement Round 1             *********\n"
     ]
    },
    {
     "data": {
      "application/vnd.jupyter.widget-view+json": {
       "model_id": "04398b2b3b324999b7bb846afd362a4e",
       "version_major": 2,
       "version_minor": 0
      },
      "text/plain": [
       "  0%|          | 0/300 [00:00<?, ?it/s]"
      ]
     },
     "metadata": {},
     "output_type": "display_data"
    },
    {
     "name": "stdout",
     "output_type": "stream",
     "text": [
      "Percentage of Invalid Sets: 0.017\n",
      "Average Set Size: 17\n",
      "*********     Round 1: Early Stop Triggered at epoch 151.    *********\n",
      "Change in noise variance: 0.6006\n",
      "*********             Velocity Refinement Round 2             *********\n",
      "*********     Round 2: Early Stop Triggered at epoch 291.    *********\n",
      "Change in noise variance: 0.0873\n",
      "Change in x0: 0.5995\n",
      "*********             Velocity Refinement Round 3             *********\n",
      "*********     Round 3: Early Stop Triggered at epoch 319.    *********\n",
      "Change in noise variance: 0.0039\n",
      "Change in x0: 0.5194\n",
      "*********             Velocity Refinement Round 4             *********\n",
      "*********     Round 4: Early Stop Triggered at epoch 325.    *********\n",
      "Change in noise variance: 0.0036\n",
      "Change in x0: 0.3645\n",
      "*********             Velocity Refinement Round 5             *********\n",
      "*********     Round 5: Early Stop Triggered at epoch 331.    *********\n",
      "Change in noise variance: 0.0024\n",
      "Change in x0: 0.2908\n",
      "*********             Velocity Refinement Round 6             *********\n",
      "*********     Round 6: Early Stop Triggered at epoch 337.    *********\n",
      "Change in noise variance: 0.0017\n",
      "Change in x0: 0.2739\n",
      "*********             Velocity Refinement Round 7             *********\n",
      "*********     Round 7: Early Stop Triggered at epoch 343.    *********\n",
      "Change in noise variance: 0.0016\n",
      "Change in x0: 0.2460\n",
      "*********             Velocity Refinement Round 8             *********\n",
      "*********     Round 8: Early Stop Triggered at epoch 349.    *********\n",
      "Change in noise variance: 0.0015\n",
      "Change in x0: 0.1965\n",
      "*********             Velocity Refinement Round 9             *********\n",
      "*********     Round 9: Early Stop Triggered at epoch 355.    *********\n",
      "Change in noise variance: 0.0008\n",
      "Change in x0: 0.1640\n",
      "*********             Velocity Refinement Round 10             *********\n",
      "*********     Round 10: Early Stop Triggered at epoch 361.    *********\n",
      "Change in noise variance: 0.0000\n",
      "Change in x0: 0.1623\n",
      "*********             Velocity Refinement Round 11             *********\n",
      "Stage 2: Early Stop Triggered at round 10.\n",
      "*********              Finished. Total Time =   0 h :  0 m : 26 s             *********\n",
      "Final: Train ELBO = -15776.562,\tTest ELBO = -15699.438\n",
      "Estimating ODE parameters...\n"
     ]
    },
    {
     "data": {
      "application/vnd.jupyter.widget-view+json": {
       "model_id": "b48d1f7f76184573ae02b6175e299507",
       "version_major": 2,
       "version_minor": 0
      },
      "text/plain": [
       "  0%|          | 0/69 [00:00<?, ?it/s]"
      ]
     },
     "metadata": {},
     "output_type": "display_data"
    },
    {
     "name": "stdout",
     "output_type": "stream",
     "text": [
      "Detected 32 velocity genes.\n",
      "Estimating the variance...\n"
     ]
    },
    {
     "data": {
      "application/vnd.jupyter.widget-view+json": {
       "model_id": "9b3a622dc0f1456db11cdb3504f99974",
       "version_major": 2,
       "version_minor": 0
      },
      "text/plain": [
       "  0%|          | 0/69 [00:00<?, ?it/s]"
      ]
     },
     "metadata": {},
     "output_type": "display_data"
    },
    {
     "name": "stdout",
     "output_type": "stream",
     "text": [
      "Initialization using the steady-state and dynamical models.\n",
      "Reinitialize the regular ODE parameters based on estimated global latent time.\n"
     ]
    },
    {
     "data": {
      "application/vnd.jupyter.widget-view+json": {
       "model_id": "a7ffdbd016e84c159097403d06e46d93",
       "version_major": 2,
       "version_minor": 0
      },
      "text/plain": [
       "  0%|          | 0/69 [00:00<?, ?it/s]"
      ]
     },
     "metadata": {},
     "output_type": "display_data"
    },
    {
     "name": "stdout",
     "output_type": "stream",
     "text": [
      "3 clusters detected based on gene co-expression.\n",
      "KS-test result: [1. 1. 1.]\n",
      "Assign cluster 1 to repressive\n",
      "Initial induction: 43, repression: 26/69\n",
      "Learning Rate based on Data Sparsity: 0.0000\n",
      "--------------------------- Train a VeloVAE ---------------------------\n",
      "*********        Creating Training/Validation Datasets        *********\n",
      "*********                      Finished.                      *********\n",
      "*********                 Creating optimizers                 *********\n",
      "*********                      Finished.                      *********\n",
      "*********                    Start training                   *********\n",
      "*********                      Stage  1                       *********\n",
      "Total Number of Iterations Per Epoch: 2, test iteration: 2\n",
      "*********       Stage 1: Early Stop Triggered at epoch 7.       *********\n",
      "*********                      Stage  2                       *********\n",
      "*********             Velocity Refinement Round 1             *********\n"
     ]
    },
    {
     "data": {
      "application/vnd.jupyter.widget-view+json": {
       "model_id": "646ccebdbf694f289ab485436fc5d1c1",
       "version_major": 2,
       "version_minor": 0
      },
      "text/plain": [
       "  0%|          | 0/300 [00:00<?, ?it/s]"
      ]
     },
     "metadata": {},
     "output_type": "display_data"
    },
    {
     "name": "stdout",
     "output_type": "stream",
     "text": [
      "Percentage of Invalid Sets: 0.017\n",
      "Average Set Size: 17\n",
      "*********     Round 1: Early Stop Triggered at epoch 13.    *********\n",
      "Change in noise variance: 0.3804\n",
      "*********             Velocity Refinement Round 2             *********\n",
      "*********     Round 2: Early Stop Triggered at epoch 18.    *********\n",
      "Change in noise variance: 0.0383\n",
      "Change in x0: 0.4629\n",
      "*********             Velocity Refinement Round 3             *********\n",
      "*********     Round 3: Early Stop Triggered at epoch 63.    *********\n",
      "Change in noise variance: 0.0023\n",
      "Change in x0: 0.3529\n",
      "*********             Velocity Refinement Round 4             *********\n",
      "*********     Round 4: Early Stop Triggered at epoch 86.    *********\n",
      "Change in noise variance: 0.0020\n",
      "Change in x0: 0.2845\n",
      "*********             Velocity Refinement Round 5             *********\n",
      "*********     Round 5: Early Stop Triggered at epoch 101.    *********\n",
      "Change in noise variance: 0.0012\n",
      "Change in x0: 0.2306\n",
      "*********             Velocity Refinement Round 6             *********\n",
      "*********     Round 6: Early Stop Triggered at epoch 107.    *********\n",
      "Change in noise variance: 0.0006\n",
      "Change in x0: 0.1938\n",
      "*********             Velocity Refinement Round 7             *********\n",
      "*********     Round 7: Early Stop Triggered at epoch 113.    *********\n",
      "Change in noise variance: 0.0000\n",
      "Change in x0: 0.1721\n",
      "*********             Velocity Refinement Round 8             *********\n",
      "*********     Round 8: Early Stop Triggered at epoch 119.    *********\n",
      "Change in noise variance: 0.0000\n",
      "Change in x0: 0.1692\n",
      "*********             Velocity Refinement Round 9             *********\n",
      "Stage 2: Early Stop Triggered at round 8.\n",
      "*********              Finished. Total Time =   0 h :  0 m : 21 s             *********\n",
      "Final: Train ELBO = -15506.851,\tTest ELBO = -15114.594\n",
      "Estimating ODE parameters...\n"
     ]
    },
    {
     "data": {
      "application/vnd.jupyter.widget-view+json": {
       "model_id": "ad393f3cd86d402ab81a99ba64eb7aee",
       "version_major": 2,
       "version_minor": 0
      },
      "text/plain": [
       "  0%|          | 0/79 [00:00<?, ?it/s]"
      ]
     },
     "metadata": {},
     "output_type": "display_data"
    },
    {
     "name": "stdout",
     "output_type": "stream",
     "text": [
      "Detected 43 velocity genes.\n",
      "Estimating the variance...\n"
     ]
    },
    {
     "data": {
      "application/vnd.jupyter.widget-view+json": {
       "model_id": "7c65f67341be440588f9dd9600a98780",
       "version_major": 2,
       "version_minor": 0
      },
      "text/plain": [
       "  0%|          | 0/79 [00:00<?, ?it/s]"
      ]
     },
     "metadata": {},
     "output_type": "display_data"
    },
    {
     "name": "stdout",
     "output_type": "stream",
     "text": [
      "Initialization using the steady-state and dynamical models.\n",
      "Reinitialize the regular ODE parameters based on estimated global latent time.\n"
     ]
    },
    {
     "data": {
      "application/vnd.jupyter.widget-view+json": {
       "model_id": "caa90c7528b84932ad37ca4d8941ee82",
       "version_major": 2,
       "version_minor": 0
      },
      "text/plain": [
       "  0%|          | 0/79 [00:00<?, ?it/s]"
      ]
     },
     "metadata": {},
     "output_type": "display_data"
    },
    {
     "name": "stdout",
     "output_type": "stream",
     "text": [
      "3 clusters detected based on gene co-expression.\n",
      "KS-test result: [1. 1. 1.]\n",
      "Assign cluster 1 to repressive\n",
      "Initial induction: 55, repression: 24/79\n",
      "Learning Rate based on Data Sparsity: 0.0000\n",
      "--------------------------- Train a VeloVAE ---------------------------\n",
      "*********        Creating Training/Validation Datasets        *********\n",
      "*********                      Finished.                      *********\n",
      "*********                 Creating optimizers                 *********\n",
      "*********                      Finished.                      *********\n",
      "*********                    Start training                   *********\n",
      "*********                      Stage  1                       *********\n",
      "Total Number of Iterations Per Epoch: 2, test iteration: 2\n",
      "*********       Stage 1: Early Stop Triggered at epoch 7.       *********\n",
      "*********                      Stage  2                       *********\n",
      "*********             Velocity Refinement Round 1             *********\n"
     ]
    },
    {
     "data": {
      "application/vnd.jupyter.widget-view+json": {
       "model_id": "3a7e2700dfdc4b3091f2550a90c42f91",
       "version_major": 2,
       "version_minor": 0
      },
      "text/plain": [
       "  0%|          | 0/300 [00:00<?, ?it/s]"
      ]
     },
     "metadata": {},
     "output_type": "display_data"
    },
    {
     "name": "stdout",
     "output_type": "stream",
     "text": [
      "Percentage of Invalid Sets: 0.030\n",
      "Average Set Size: 17\n",
      "Change in noise variance: 0.3149\n",
      "*********             Velocity Refinement Round 2             *********\n",
      "*********     Round 2: Early Stop Triggered at epoch 536.    *********\n",
      "Change in noise variance: 0.0409\n",
      "Change in x0: 0.5604\n",
      "*********             Velocity Refinement Round 3             *********\n",
      "*********     Round 3: Early Stop Triggered at epoch 549.    *********\n",
      "Change in noise variance: 0.0115\n",
      "Change in x0: 0.3583\n",
      "*********             Velocity Refinement Round 4             *********\n",
      "*********     Round 4: Early Stop Triggered at epoch 573.    *********\n",
      "Change in noise variance: 0.0167\n",
      "Change in x0: 0.2715\n",
      "*********             Velocity Refinement Round 5             *********\n",
      "*********     Round 5: Early Stop Triggered at epoch 596.    *********\n",
      "Change in noise variance: 0.0089\n",
      "Change in x0: 0.2361\n",
      "*********             Velocity Refinement Round 6             *********\n",
      "*********     Round 6: Early Stop Triggered at epoch 634.    *********\n",
      "Change in noise variance: 0.0026\n",
      "Change in x0: 0.2195\n",
      "*********             Velocity Refinement Round 7             *********\n",
      "*********     Round 7: Early Stop Triggered at epoch 677.    *********\n",
      "Change in noise variance: 0.0054\n",
      "Change in x0: 0.2167\n",
      "*********             Velocity Refinement Round 8             *********\n",
      "*********     Round 8: Early Stop Triggered at epoch 706.    *********\n",
      "Change in noise variance: 0.0046\n",
      "Change in x0: 0.2121\n",
      "*********             Velocity Refinement Round 9             *********\n",
      "*********     Round 9: Early Stop Triggered at epoch 753.    *********\n",
      "Change in noise variance: 0.0030\n",
      "Change in x0: 0.1999\n",
      "*********             Velocity Refinement Round 10             *********\n",
      "*********     Round 10: Early Stop Triggered at epoch 767.    *********\n",
      "Change in noise variance: 0.0017\n",
      "Change in x0: 0.1882\n",
      "*********             Velocity Refinement Round 11             *********\n",
      "*********     Round 11: Early Stop Triggered at epoch 811.    *********\n",
      "Change in noise variance: 0.0009\n",
      "Change in x0: 0.1820\n",
      "*********             Velocity Refinement Round 12             *********\n",
      "Stage 2: Early Stop Triggered at round 11.\n",
      "*********              Finished. Total Time =   0 h :  0 m : 46 s             *********\n",
      "Final: Train ELBO = -17525.242,\tTest ELBO = -17494.643\n",
      "Estimating ODE parameters...\n"
     ]
    },
    {
     "data": {
      "application/vnd.jupyter.widget-view+json": {
       "model_id": "8c7aef099b8b4c66a9713d9986a8f919",
       "version_major": 2,
       "version_minor": 0
      },
      "text/plain": [
       "  0%|          | 0/62 [00:00<?, ?it/s]"
      ]
     },
     "metadata": {},
     "output_type": "display_data"
    },
    {
     "name": "stdout",
     "output_type": "stream",
     "text": [
      "Detected 28 velocity genes.\n",
      "Estimating the variance...\n"
     ]
    },
    {
     "data": {
      "application/vnd.jupyter.widget-view+json": {
       "model_id": "a982a07f6e024436ad1ccbf331bef0b0",
       "version_major": 2,
       "version_minor": 0
      },
      "text/plain": [
       "  0%|          | 0/62 [00:00<?, ?it/s]"
      ]
     },
     "metadata": {},
     "output_type": "display_data"
    },
    {
     "name": "stdout",
     "output_type": "stream",
     "text": [
      "Initialization using the steady-state and dynamical models.\n",
      "Reinitialize the regular ODE parameters based on estimated global latent time.\n"
     ]
    },
    {
     "data": {
      "application/vnd.jupyter.widget-view+json": {
       "model_id": "d239d7d6703b48e1957b6f5b97de151a",
       "version_major": 2,
       "version_minor": 0
      },
      "text/plain": [
       "  0%|          | 0/62 [00:00<?, ?it/s]"
      ]
     },
     "metadata": {},
     "output_type": "display_data"
    },
    {
     "name": "stdout",
     "output_type": "stream",
     "text": [
      "3 clusters detected based on gene co-expression.\n",
      "KS-test result: [1. 1. 1.]\n",
      "Assign cluster 2 to repressive\n",
      "Initial induction: 46, repression: 16/62\n",
      "Learning Rate based on Data Sparsity: 0.0000\n",
      "--------------------------- Train a VeloVAE ---------------------------\n",
      "*********        Creating Training/Validation Datasets        *********\n",
      "*********                      Finished.                      *********\n",
      "*********                 Creating optimizers                 *********\n",
      "*********                      Finished.                      *********\n",
      "*********                    Start training                   *********\n",
      "*********                      Stage  1                       *********\n",
      "Total Number of Iterations Per Epoch: 2, test iteration: 2\n",
      "*********       Stage 1: Early Stop Triggered at epoch 5.       *********\n",
      "*********                      Stage  2                       *********\n",
      "*********             Velocity Refinement Round 1             *********\n"
     ]
    },
    {
     "data": {
      "application/vnd.jupyter.widget-view+json": {
       "model_id": "332ad7773d624429a8a28ddd51f86ab0",
       "version_major": 2,
       "version_minor": 0
      },
      "text/plain": [
       "  0%|          | 0/300 [00:00<?, ?it/s]"
      ]
     },
     "metadata": {},
     "output_type": "display_data"
    },
    {
     "name": "stdout",
     "output_type": "stream",
     "text": [
      "Percentage of Invalid Sets: 0.043\n",
      "Average Set Size: 16\n",
      "*********     Round 1: Early Stop Triggered at epoch 11.    *********\n",
      "Change in noise variance: 0.2553\n",
      "*********             Velocity Refinement Round 2             *********\n",
      "*********     Round 2: Early Stop Triggered at epoch 16.    *********\n",
      "Change in noise variance: 0.0305\n",
      "Change in x0: 0.6486\n",
      "*********             Velocity Refinement Round 3             *********\n",
      "*********     Round 3: Early Stop Triggered at epoch 22.    *********\n",
      "Change in noise variance: 0.0164\n",
      "Change in x0: 0.3742\n",
      "*********             Velocity Refinement Round 4             *********\n",
      "*********     Round 4: Early Stop Triggered at epoch 28.    *********\n",
      "Change in noise variance: 0.0181\n",
      "Change in x0: 0.2555\n",
      "*********             Velocity Refinement Round 5             *********\n",
      "*********     Round 5: Early Stop Triggered at epoch 33.    *********\n",
      "Change in noise variance: 0.0008\n",
      "Change in x0: 0.2440\n",
      "*********             Velocity Refinement Round 6             *********\n",
      "*********     Round 6: Early Stop Triggered at epoch 38.    *********\n",
      "Change in noise variance: 0.0000\n",
      "Change in x0: 0.2472\n",
      "*********             Velocity Refinement Round 7             *********\n",
      "Stage 2: Early Stop Triggered at round 6.\n",
      "*********              Finished. Total Time =   0 h :  0 m : 15 s             *********\n",
      "Final: Train ELBO = -20341.797,\tTest ELBO = -20511.984\n",
      "Estimating ODE parameters...\n"
     ]
    },
    {
     "data": {
      "application/vnd.jupyter.widget-view+json": {
       "model_id": "928a9fced26b4900ba0541c2ccfa2a40",
       "version_major": 2,
       "version_minor": 0
      },
      "text/plain": [
       "  0%|          | 0/64 [00:00<?, ?it/s]"
      ]
     },
     "metadata": {},
     "output_type": "display_data"
    },
    {
     "name": "stdout",
     "output_type": "stream",
     "text": [
      "Detected 25 velocity genes.\n",
      "Estimating the variance...\n"
     ]
    },
    {
     "data": {
      "application/vnd.jupyter.widget-view+json": {
       "model_id": "72e467cef7bb458eb2dde8101d781cd4",
       "version_major": 2,
       "version_minor": 0
      },
      "text/plain": [
       "  0%|          | 0/64 [00:00<?, ?it/s]"
      ]
     },
     "metadata": {},
     "output_type": "display_data"
    },
    {
     "name": "stdout",
     "output_type": "stream",
     "text": [
      "Initialization using the steady-state and dynamical models.\n",
      "Reinitialize the regular ODE parameters based on estimated global latent time.\n"
     ]
    },
    {
     "data": {
      "application/vnd.jupyter.widget-view+json": {
       "model_id": "e1bc61595fcd4e59b2e93509e8e3ea2d",
       "version_major": 2,
       "version_minor": 0
      },
      "text/plain": [
       "  0%|          | 0/64 [00:00<?, ?it/s]"
      ]
     },
     "metadata": {},
     "output_type": "display_data"
    },
    {
     "name": "stdout",
     "output_type": "stream",
     "text": [
      "3 clusters detected based on gene co-expression.\n",
      "(0.44, 0.7659555497733345), (0.56, 0.1878343494524111)\n",
      "KS-test result: [1. 0. 1.]\n",
      "Initial induction: 44, repression: 20/64\n",
      "Learning Rate based on Data Sparsity: 0.0000\n",
      "--------------------------- Train a VeloVAE ---------------------------\n",
      "*********        Creating Training/Validation Datasets        *********\n",
      "*********                      Finished.                      *********\n",
      "*********                 Creating optimizers                 *********\n",
      "*********                      Finished.                      *********\n",
      "*********                    Start training                   *********\n",
      "*********                      Stage  1                       *********\n",
      "Total Number of Iterations Per Epoch: 2, test iteration: 2\n",
      "*********       Stage 1: Early Stop Triggered at epoch 5.       *********\n",
      "*********                      Stage  2                       *********\n",
      "*********             Velocity Refinement Round 1             *********\n"
     ]
    },
    {
     "data": {
      "application/vnd.jupyter.widget-view+json": {
       "model_id": "e8dbc857fceb46f18397f65cd582b862",
       "version_major": 2,
       "version_minor": 0
      },
      "text/plain": [
       "  0%|          | 0/300 [00:00<?, ?it/s]"
      ]
     },
     "metadata": {},
     "output_type": "display_data"
    },
    {
     "name": "stdout",
     "output_type": "stream",
     "text": [
      "Percentage of Invalid Sets: 0.003\n",
      "Average Set Size: 16\n",
      "*********     Round 1: Early Stop Triggered at epoch 166.    *********\n",
      "Change in noise variance: 0.7913\n",
      "*********             Velocity Refinement Round 2             *********\n",
      "*********     Round 2: Early Stop Triggered at epoch 282.    *********\n",
      "Change in noise variance: 0.0707\n",
      "Change in x0: 0.6809\n",
      "*********             Velocity Refinement Round 3             *********\n",
      "*********     Round 3: Early Stop Triggered at epoch 291.    *********\n",
      "Change in noise variance: 0.0609\n",
      "Change in x0: 0.3917\n",
      "*********             Velocity Refinement Round 4             *********\n",
      "*********     Round 4: Early Stop Triggered at epoch 306.    *********\n",
      "Change in noise variance: 0.0193\n",
      "Change in x0: 0.3149\n",
      "*********             Velocity Refinement Round 5             *********\n",
      "*********     Round 5: Early Stop Triggered at epoch 313.    *********\n",
      "Change in noise variance: 0.0160\n",
      "Change in x0: 0.2764\n",
      "*********             Velocity Refinement Round 6             *********\n",
      "*********     Round 6: Early Stop Triggered at epoch 323.    *********\n",
      "Change in noise variance: 0.0042\n",
      "Change in x0: 0.2416\n",
      "*********             Velocity Refinement Round 7             *********\n",
      "*********     Round 7: Early Stop Triggered at epoch 332.    *********\n",
      "Change in noise variance: 0.0018\n",
      "Change in x0: 0.2053\n",
      "*********             Velocity Refinement Round 8             *********\n",
      "*********     Round 8: Early Stop Triggered at epoch 340.    *********\n",
      "Change in noise variance: 0.0007\n",
      "Change in x0: 0.2041\n",
      "*********             Velocity Refinement Round 9             *********\n",
      "Stage 2: Early Stop Triggered at round 8.\n",
      "*********              Finished. Total Time =   0 h :  0 m : 27 s             *********\n",
      "Final: Train ELBO = -15492.789,\tTest ELBO = -15448.032\n",
      "Estimating ODE parameters...\n"
     ]
    },
    {
     "data": {
      "application/vnd.jupyter.widget-view+json": {
       "model_id": "cf4de794f3cf45adba8698907029347e",
       "version_major": 2,
       "version_minor": 0
      },
      "text/plain": [
       "  0%|          | 0/150 [00:00<?, ?it/s]"
      ]
     },
     "metadata": {},
     "output_type": "display_data"
    },
    {
     "name": "stdout",
     "output_type": "stream",
     "text": [
      "Detected 84 velocity genes.\n",
      "Estimating the variance...\n"
     ]
    },
    {
     "data": {
      "application/vnd.jupyter.widget-view+json": {
       "model_id": "2686966eff614251a83325e9891e8465",
       "version_major": 2,
       "version_minor": 0
      },
      "text/plain": [
       "  0%|          | 0/150 [00:00<?, ?it/s]"
      ]
     },
     "metadata": {},
     "output_type": "display_data"
    },
    {
     "name": "stdout",
     "output_type": "stream",
     "text": [
      "Initialization using the steady-state and dynamical models.\n",
      "Reinitialize the regular ODE parameters based on estimated global latent time.\n"
     ]
    },
    {
     "data": {
      "application/vnd.jupyter.widget-view+json": {
       "model_id": "b3b363f126fa401f91d0bb43261fc271",
       "version_major": 2,
       "version_minor": 0
      },
      "text/plain": [
       "  0%|          | 0/150 [00:00<?, ?it/s]"
      ]
     },
     "metadata": {},
     "output_type": "display_data"
    },
    {
     "name": "stdout",
     "output_type": "stream",
     "text": [
      "3 clusters detected based on gene co-expression.\n",
      "KS-test result: [1. 1. 1.]\n",
      "Assign cluster 1 to repressive\n",
      "Initial induction: 84, repression: 66/150\n",
      "Learning Rate based on Data Sparsity: 0.0000\n",
      "--------------------------- Train a VeloVAE ---------------------------\n",
      "*********        Creating Training/Validation Datasets        *********\n",
      "*********                      Finished.                      *********\n",
      "*********                 Creating optimizers                 *********\n",
      "*********                      Finished.                      *********\n",
      "*********                    Start training                   *********\n",
      "*********                      Stage  1                       *********\n",
      "Total Number of Iterations Per Epoch: 6, test iteration: 10\n",
      "*********                      Stage  2                       *********\n",
      "*********             Velocity Refinement Round 1             *********\n"
     ]
    },
    {
     "data": {
      "application/vnd.jupyter.widget-view+json": {
       "model_id": "531939a95bd647f2aff35e573551a5e7",
       "version_major": 2,
       "version_minor": 0
      },
      "text/plain": [
       "  0%|          | 0/1000 [00:00<?, ?it/s]"
      ]
     },
     "metadata": {},
     "output_type": "display_data"
    },
    {
     "name": "stdout",
     "output_type": "stream",
     "text": [
      "Percentage of Invalid Sets: 0.029\n",
      "Average Set Size: 20\n",
      "*********     Round 1: Early Stop Triggered at epoch 1009.    *********\n",
      "Change in noise variance: 0.1517\n",
      "*********             Velocity Refinement Round 2             *********\n",
      "*********     Round 2: Early Stop Triggered at epoch 1018.    *********\n",
      "Change in noise variance: 0.0034\n",
      "Change in x0: 0.6934\n",
      "*********             Velocity Refinement Round 3             *********\n",
      "*********     Round 3: Early Stop Triggered at epoch 1027.    *********\n",
      "Change in noise variance: 0.0060\n",
      "Change in x0: 0.5286\n",
      "*********             Velocity Refinement Round 4             *********\n",
      "*********     Round 4: Early Stop Triggered at epoch 1034.    *********\n",
      "Change in noise variance: 0.0179\n",
      "Change in x0: 0.4225\n",
      "*********             Velocity Refinement Round 5             *********\n",
      "*********     Round 5: Early Stop Triggered at epoch 1041.    *********\n",
      "Change in noise variance: 0.0064\n",
      "Change in x0: 0.3509\n",
      "*********             Velocity Refinement Round 6             *********\n",
      "*********     Round 6: Early Stop Triggered at epoch 1048.    *********\n",
      "Change in noise variance: 0.0042\n",
      "Change in x0: 0.3036\n",
      "*********             Velocity Refinement Round 7             *********\n",
      "*********     Round 7: Early Stop Triggered at epoch 1055.    *********\n",
      "Change in noise variance: 0.0019\n",
      "Change in x0: 0.2672\n",
      "*********             Velocity Refinement Round 8             *********\n",
      "*********     Round 8: Early Stop Triggered at epoch 1062.    *********\n",
      "Change in noise variance: 0.0008\n",
      "Change in x0: 0.2463\n",
      "*********             Velocity Refinement Round 9             *********\n",
      "*********     Round 9: Early Stop Triggered at epoch 1069.    *********\n",
      "Change in noise variance: 0.0000\n",
      "Change in x0: 0.2563\n",
      "*********             Velocity Refinement Round 10             *********\n",
      "Stage 2: Early Stop Triggered at round 9.\n",
      "*********              Finished. Total Time =   0 h :  3 m :  8 s             *********\n",
      "Final: Train ELBO = -290.949,\tTest ELBO = -311.508\n",
      "Estimating ODE parameters...\n"
     ]
    },
    {
     "data": {
      "application/vnd.jupyter.widget-view+json": {
       "model_id": "84f580b2245045acadd0666736ec6c1f",
       "version_major": 2,
       "version_minor": 0
      },
      "text/plain": [
       "  0%|          | 0/81 [00:00<?, ?it/s]"
      ]
     },
     "metadata": {},
     "output_type": "display_data"
    },
    {
     "name": "stdout",
     "output_type": "stream",
     "text": [
      "Detected 35 velocity genes.\n",
      "Estimating the variance...\n"
     ]
    },
    {
     "data": {
      "application/vnd.jupyter.widget-view+json": {
       "model_id": "004131e269704bb3aacdec0bcb87b935",
       "version_major": 2,
       "version_minor": 0
      },
      "text/plain": [
       "  0%|          | 0/81 [00:00<?, ?it/s]"
      ]
     },
     "metadata": {},
     "output_type": "display_data"
    },
    {
     "name": "stdout",
     "output_type": "stream",
     "text": [
      "Initialization using the steady-state and dynamical models.\n",
      "Reinitialize the regular ODE parameters based on estimated global latent time.\n"
     ]
    },
    {
     "data": {
      "application/vnd.jupyter.widget-view+json": {
       "model_id": "a55b8b875624470284c144e74c2bf97c",
       "version_major": 2,
       "version_minor": 0
      },
      "text/plain": [
       "  0%|          | 0/81 [00:00<?, ?it/s]"
      ]
     },
     "metadata": {},
     "output_type": "display_data"
    },
    {
     "name": "stdout",
     "output_type": "stream",
     "text": [
      "3 clusters detected based on gene co-expression.\n",
      "(0.38, 0.18558028707247598), (0.62, 0.7691498527847566)\n",
      "KS-test result: [1. 0. 1.]\n",
      "Initial induction: 68, repression: 13/81\n",
      "Learning Rate based on Data Sparsity: 0.0000\n",
      "--------------------------- Train a VeloVAE ---------------------------\n",
      "*********        Creating Training/Validation Datasets        *********\n",
      "*********                      Finished.                      *********\n",
      "*********                 Creating optimizers                 *********\n",
      "*********                      Finished.                      *********\n",
      "*********                    Start training                   *********\n",
      "*********                      Stage  1                       *********\n",
      "Total Number of Iterations Per Epoch: 2, test iteration: 2\n",
      "*********       Stage 1: Early Stop Triggered at epoch 9.       *********\n",
      "*********                      Stage  2                       *********\n",
      "*********             Velocity Refinement Round 1             *********\n"
     ]
    },
    {
     "data": {
      "application/vnd.jupyter.widget-view+json": {
       "model_id": "9a5e2416ee6d4b6a9f85319a0de0f960",
       "version_major": 2,
       "version_minor": 0
      },
      "text/plain": [
       "  0%|          | 0/300 [00:00<?, ?it/s]"
      ]
     },
     "metadata": {},
     "output_type": "display_data"
    },
    {
     "name": "stdout",
     "output_type": "stream",
     "text": [
      "Percentage of Invalid Sets: 0.033\n",
      "Average Set Size: 16\n",
      "*********     Round 1: Early Stop Triggered at epoch 15.    *********\n",
      "Change in noise variance: 0.2443\n",
      "*********             Velocity Refinement Round 2             *********\n",
      "*********     Round 2: Early Stop Triggered at epoch 20.    *********\n",
      "Change in noise variance: 0.0150\n",
      "Change in x0: 0.6972\n",
      "*********             Velocity Refinement Round 3             *********\n",
      "*********     Round 3: Early Stop Triggered at epoch 26.    *********\n",
      "Change in noise variance: 0.0030\n",
      "Change in x0: 0.4751\n",
      "*********             Velocity Refinement Round 4             *********\n",
      "*********     Round 4: Early Stop Triggered at epoch 32.    *********\n",
      "Change in noise variance: 0.0016\n",
      "Change in x0: 0.3783\n",
      "*********             Velocity Refinement Round 5             *********\n",
      "*********     Round 5: Early Stop Triggered at epoch 38.    *********\n",
      "Change in noise variance: 0.0041\n",
      "Change in x0: 0.2802\n",
      "*********             Velocity Refinement Round 6             *********\n",
      "*********     Round 6: Early Stop Triggered at epoch 44.    *********\n",
      "Change in noise variance: 0.0025\n",
      "Change in x0: 0.2150\n",
      "*********             Velocity Refinement Round 7             *********\n",
      "*********     Round 7: Early Stop Triggered at epoch 50.    *********\n",
      "Change in noise variance: 0.0008\n",
      "Change in x0: 0.1977\n",
      "*********             Velocity Refinement Round 8             *********\n",
      "*********     Round 8: Early Stop Triggered at epoch 55.    *********\n",
      "Change in noise variance: 0.0000\n",
      "Change in x0: 0.1902\n",
      "*********             Velocity Refinement Round 9             *********\n",
      "Stage 2: Early Stop Triggered at round 8.\n",
      "*********              Finished. Total Time =   0 h :  0 m : 18 s             *********\n",
      "Final: Train ELBO = -20595.697,\tTest ELBO = -20799.051\n",
      "Estimating ODE parameters...\n"
     ]
    },
    {
     "data": {
      "application/vnd.jupyter.widget-view+json": {
       "model_id": "90509ff1af504ed1a51e2ec6ba064871",
       "version_major": 2,
       "version_minor": 0
      },
      "text/plain": [
       "  0%|          | 0/79 [00:00<?, ?it/s]"
      ]
     },
     "metadata": {},
     "output_type": "display_data"
    },
    {
     "name": "stdout",
     "output_type": "stream",
     "text": [
      "Detected 33 velocity genes.\n",
      "Estimating the variance...\n"
     ]
    },
    {
     "data": {
      "application/vnd.jupyter.widget-view+json": {
       "model_id": "c8fb9638fc534cda84cab199614e0171",
       "version_major": 2,
       "version_minor": 0
      },
      "text/plain": [
       "  0%|          | 0/79 [00:00<?, ?it/s]"
      ]
     },
     "metadata": {},
     "output_type": "display_data"
    },
    {
     "name": "stdout",
     "output_type": "stream",
     "text": [
      "Initialization using the steady-state and dynamical models.\n",
      "Reinitialize the regular ODE parameters based on estimated global latent time.\n"
     ]
    },
    {
     "data": {
      "application/vnd.jupyter.widget-view+json": {
       "model_id": "8fdb3c5e1c13422486811303dcfacea0",
       "version_major": 2,
       "version_minor": 0
      },
      "text/plain": [
       "  0%|          | 0/79 [00:00<?, ?it/s]"
      ]
     },
     "metadata": {},
     "output_type": "display_data"
    },
    {
     "name": "stdout",
     "output_type": "stream",
     "text": [
      "3 clusters detected based on gene co-expression.\n",
      "KS-test result: [1. 1. 1.]\n",
      "Assign cluster 2 to repressive\n",
      "Initial induction: 47, repression: 32/79\n",
      "Learning Rate based on Data Sparsity: 0.0000\n",
      "--------------------------- Train a VeloVAE ---------------------------\n",
      "*********        Creating Training/Validation Datasets        *********\n",
      "*********                      Finished.                      *********\n",
      "*********                 Creating optimizers                 *********\n",
      "*********                      Finished.                      *********\n",
      "*********                    Start training                   *********\n",
      "*********                      Stage  1                       *********\n",
      "Total Number of Iterations Per Epoch: 2, test iteration: 2\n",
      "*********       Stage 1: Early Stop Triggered at epoch 453.       *********\n",
      "*********                      Stage  2                       *********\n",
      "*********             Velocity Refinement Round 1             *********\n"
     ]
    },
    {
     "data": {
      "application/vnd.jupyter.widget-view+json": {
       "model_id": "e6393dd929d94e34b2cda33b2f95ffc5",
       "version_major": 2,
       "version_minor": 0
      },
      "text/plain": [
       "  0%|          | 0/300 [00:00<?, ?it/s]"
      ]
     },
     "metadata": {},
     "output_type": "display_data"
    },
    {
     "name": "stdout",
     "output_type": "stream",
     "text": [
      "Percentage of Invalid Sets: 0.023\n",
      "Average Set Size: 23\n",
      "Change in noise variance: 0.1903\n",
      "*********             Velocity Refinement Round 2             *********\n",
      "*********     Round 2: Early Stop Triggered at epoch 1136.    *********\n",
      "Change in noise variance: 0.1648\n",
      "Change in x0: 1.0268\n",
      "*********             Velocity Refinement Round 3             *********\n",
      "*********     Round 3: Early Stop Triggered at epoch 1187.    *********\n",
      "Change in noise variance: 0.0067\n",
      "Change in x0: 0.6616\n",
      "*********             Velocity Refinement Round 4             *********\n",
      "*********     Round 4: Early Stop Triggered at epoch 1192.    *********\n",
      "Change in noise variance: 0.0038\n",
      "Change in x0: 0.6284\n",
      "*********             Velocity Refinement Round 5             *********\n",
      "*********     Round 5: Early Stop Triggered at epoch 1366.    *********\n",
      "Change in noise variance: 0.0058\n",
      "Change in x0: 0.4408\n",
      "*********             Velocity Refinement Round 6             *********\n",
      "*********     Round 6: Early Stop Triggered at epoch 1535.    *********\n",
      "Change in noise variance: 0.0065\n",
      "Change in x0: 0.5481\n",
      "*********             Velocity Refinement Round 7             *********\n",
      "*********     Round 7: Early Stop Triggered at epoch 1572.    *********\n",
      "Change in noise variance: 0.0043\n",
      "Change in x0: 0.5013\n",
      "*********             Velocity Refinement Round 8             *********\n",
      "*********     Round 8: Early Stop Triggered at epoch 1655.    *********\n",
      "Change in noise variance: 0.0040\n",
      "Change in x0: 0.3870\n",
      "*********             Velocity Refinement Round 9             *********\n",
      "*********     Round 9: Early Stop Triggered at epoch 1776.    *********\n",
      "Change in noise variance: 0.0031\n",
      "Change in x0: 0.3702\n",
      "*********             Velocity Refinement Round 10             *********\n",
      "*********     Round 10: Early Stop Triggered at epoch 1863.    *********\n",
      "Change in noise variance: 0.0032\n",
      "Change in x0: 0.3509\n",
      "*********             Velocity Refinement Round 11             *********\n",
      "*********     Round 11: Early Stop Triggered at epoch 1870.    *********\n",
      "Change in noise variance: 0.0024\n",
      "Change in x0: 0.3240\n",
      "*********             Velocity Refinement Round 12             *********\n",
      "*********     Round 12: Early Stop Triggered at epoch 2058.    *********\n",
      "Change in noise variance: 0.0026\n",
      "Change in x0: 0.2263\n",
      "*********             Velocity Refinement Round 13             *********\n",
      "*********     Round 13: Early Stop Triggered at epoch 2109.    *********\n",
      "Change in noise variance: 0.0024\n",
      "Change in x0: 0.4064\n",
      "*********             Velocity Refinement Round 14             *********\n",
      "*********     Round 14: Early Stop Triggered at epoch 2201.    *********\n",
      "Change in noise variance: 0.0033\n",
      "Change in x0: 0.2971\n",
      "*********             Velocity Refinement Round 15             *********\n",
      "*********     Round 15: Early Stop Triggered at epoch 2293.    *********\n",
      "Change in noise variance: 0.0032\n",
      "Change in x0: 0.3209\n",
      "*********             Velocity Refinement Round 16             *********\n",
      "*********     Round 16: Early Stop Triggered at epoch 2486.    *********\n",
      "Change in noise variance: 0.0024\n",
      "Change in x0: 0.2835\n",
      "*********             Velocity Refinement Round 17             *********\n",
      "*********     Round 17: Early Stop Triggered at epoch 2587.    *********\n",
      "Change in noise variance: 0.0022\n",
      "Change in x0: 0.3458\n",
      "*********             Velocity Refinement Round 18             *********\n",
      "*********     Round 18: Early Stop Triggered at epoch 2739.    *********\n",
      "Change in noise variance: 0.0021\n",
      "Change in x0: 0.2973\n",
      "*********             Velocity Refinement Round 19             *********\n",
      "*********     Round 19: Early Stop Triggered at epoch 2796.    *********\n",
      "Change in noise variance: 0.0018\n",
      "Change in x0: 0.2869\n",
      "*********             Velocity Refinement Round 20             *********\n",
      "*********     Round 20: Early Stop Triggered at epoch 2940.    *********\n",
      "Change in noise variance: 0.0000\n",
      "Change in x0: 0.3014\n",
      "*********              Finished. Total Time =   0 h :  2 m :  4 s             *********\n",
      "Final: Train ELBO = -1905.243,\tTest ELBO = -2021.629\n",
      "Estimating ODE parameters...\n"
     ]
    },
    {
     "data": {
      "application/vnd.jupyter.widget-view+json": {
       "model_id": "f514f5e096c94d339ba081839a2e13cc",
       "version_major": 2,
       "version_minor": 0
      },
      "text/plain": [
       "  0%|          | 0/71 [00:00<?, ?it/s]"
      ]
     },
     "metadata": {},
     "output_type": "display_data"
    },
    {
     "name": "stdout",
     "output_type": "stream",
     "text": [
      "Detected 32 velocity genes.\n",
      "Estimating the variance...\n"
     ]
    },
    {
     "data": {
      "application/vnd.jupyter.widget-view+json": {
       "model_id": "51facefda02a4cdeb046f8fe283d950a",
       "version_major": 2,
       "version_minor": 0
      },
      "text/plain": [
       "  0%|          | 0/71 [00:00<?, ?it/s]"
      ]
     },
     "metadata": {},
     "output_type": "display_data"
    },
    {
     "name": "stdout",
     "output_type": "stream",
     "text": [
      "Initialization using the steady-state and dynamical models.\n",
      "Reinitialize the regular ODE parameters based on estimated global latent time.\n"
     ]
    },
    {
     "data": {
      "application/vnd.jupyter.widget-view+json": {
       "model_id": "294c9133ea9f49e48bf2e6e5913e3bdb",
       "version_major": 2,
       "version_minor": 0
      },
      "text/plain": [
       "  0%|          | 0/71 [00:00<?, ?it/s]"
      ]
     },
     "metadata": {},
     "output_type": "display_data"
    },
    {
     "name": "stdout",
     "output_type": "stream",
     "text": [
      "3 clusters detected based on gene co-expression.\n",
      "KS-test result: [1. 1. 1.]\n",
      "Assign cluster 1 to repressive\n",
      "Initial induction: 48, repression: 23/71\n",
      "Learning Rate based on Data Sparsity: 0.0000\n",
      "--------------------------- Train a VeloVAE ---------------------------\n",
      "*********        Creating Training/Validation Datasets        *********\n",
      "*********                      Finished.                      *********\n",
      "*********                 Creating optimizers                 *********\n",
      "*********                      Finished.                      *********\n",
      "*********                    Start training                   *********\n",
      "*********                      Stage  1                       *********\n",
      "Total Number of Iterations Per Epoch: 3, test iteration: 4\n",
      "*********       Stage 1: Early Stop Triggered at epoch 6.       *********\n",
      "*********                      Stage  2                       *********\n",
      "*********             Velocity Refinement Round 1             *********\n"
     ]
    },
    {
     "data": {
      "application/vnd.jupyter.widget-view+json": {
       "model_id": "8d2e870a2ce144b0a370a683c34efd2e",
       "version_major": 2,
       "version_minor": 0
      },
      "text/plain": [
       "  0%|          | 0/400 [00:00<?, ?it/s]"
      ]
     },
     "metadata": {},
     "output_type": "display_data"
    },
    {
     "name": "stdout",
     "output_type": "stream",
     "text": [
      "Percentage of Invalid Sets: 0.025\n",
      "Average Set Size: 20\n",
      "*********     Round 1: Early Stop Triggered at epoch 13.    *********\n",
      "Change in noise variance: 0.1940\n",
      "*********             Velocity Refinement Round 2             *********\n",
      "*********     Round 2: Early Stop Triggered at epoch 20.    *********\n",
      "Change in noise variance: 0.0185\n",
      "Change in x0: 0.7663\n",
      "*********             Velocity Refinement Round 3             *********\n",
      "*********     Round 3: Early Stop Triggered at epoch 27.    *********\n",
      "Change in noise variance: 0.0148\n",
      "Change in x0: 0.4259\n",
      "*********             Velocity Refinement Round 4             *********\n",
      "*********     Round 4: Early Stop Triggered at epoch 34.    *********\n",
      "Change in noise variance: 0.0021\n",
      "Change in x0: 0.3094\n",
      "*********             Velocity Refinement Round 5             *********\n",
      "*********     Round 5: Early Stop Triggered at epoch 41.    *********\n",
      "Change in noise variance: 0.0039\n",
      "Change in x0: 0.2825\n",
      "*********             Velocity Refinement Round 6             *********\n",
      "*********     Round 6: Early Stop Triggered at epoch 48.    *********\n",
      "Change in noise variance: 0.0031\n",
      "Change in x0: 0.2522\n",
      "*********             Velocity Refinement Round 7             *********\n",
      "*********     Round 7: Early Stop Triggered at epoch 55.    *********\n",
      "Change in noise variance: 0.0025\n",
      "Change in x0: 0.2267\n",
      "*********             Velocity Refinement Round 8             *********\n",
      "*********     Round 8: Early Stop Triggered at epoch 62.    *********\n",
      "Change in noise variance: 0.0019\n",
      "Change in x0: 0.2150\n",
      "*********             Velocity Refinement Round 9             *********\n",
      "*********     Round 9: Early Stop Triggered at epoch 69.    *********\n",
      "Change in noise variance: 0.0013\n",
      "Change in x0: 0.2022\n",
      "*********             Velocity Refinement Round 10             *********\n",
      "*********     Round 10: Early Stop Triggered at epoch 76.    *********\n",
      "Change in noise variance: 0.0008\n",
      "Change in x0: 0.1883\n",
      "*********             Velocity Refinement Round 11             *********\n",
      "*********     Round 11: Early Stop Triggered at epoch 82.    *********\n",
      "Change in noise variance: 0.0000\n",
      "Change in x0: 0.1784\n",
      "*********             Velocity Refinement Round 12             *********\n",
      "Stage 2: Early Stop Triggered at round 11.\n",
      "*********              Finished. Total Time =   0 h :  0 m : 10 s             *********\n",
      "Final: Train ELBO = -14711.658,\tTest ELBO = -15284.556\n",
      "Estimating ODE parameters...\n"
     ]
    },
    {
     "data": {
      "application/vnd.jupyter.widget-view+json": {
       "model_id": "d60bba7aaca14aeeba2a16544bf8065b",
       "version_major": 2,
       "version_minor": 0
      },
      "text/plain": [
       "  0%|          | 0/69 [00:00<?, ?it/s]"
      ]
     },
     "metadata": {},
     "output_type": "display_data"
    },
    {
     "name": "stdout",
     "output_type": "stream",
     "text": [
      "Detected 34 velocity genes.\n",
      "Estimating the variance...\n"
     ]
    },
    {
     "data": {
      "application/vnd.jupyter.widget-view+json": {
       "model_id": "b6e1e3ca77b543b98551f0890487316e",
       "version_major": 2,
       "version_minor": 0
      },
      "text/plain": [
       "  0%|          | 0/69 [00:00<?, ?it/s]"
      ]
     },
     "metadata": {},
     "output_type": "display_data"
    },
    {
     "name": "stdout",
     "output_type": "stream",
     "text": [
      "Initialization using the steady-state and dynamical models.\n",
      "Reinitialize the regular ODE parameters based on estimated global latent time.\n"
     ]
    },
    {
     "data": {
      "application/vnd.jupyter.widget-view+json": {
       "model_id": "201daeff915a464f9900c0177b6210f2",
       "version_major": 2,
       "version_minor": 0
      },
      "text/plain": [
       "  0%|          | 0/69 [00:00<?, ?it/s]"
      ]
     },
     "metadata": {},
     "output_type": "display_data"
    },
    {
     "name": "stdout",
     "output_type": "stream",
     "text": [
      "3 clusters detected based on gene co-expression.\n",
      "KS-test result: [1. 1. 1.]\n",
      "Assign cluster 2 to repressive\n",
      "Initial induction: 46, repression: 23/69\n",
      "Learning Rate based on Data Sparsity: 0.0000\n",
      "--------------------------- Train a VeloVAE ---------------------------\n",
      "*********        Creating Training/Validation Datasets        *********\n",
      "*********                      Finished.                      *********\n",
      "*********                 Creating optimizers                 *********\n",
      "*********                      Finished.                      *********\n",
      "*********                    Start training                   *********\n",
      "*********                      Stage  1                       *********\n",
      "Total Number of Iterations Per Epoch: 2, test iteration: 2\n",
      "*********       Stage 1: Early Stop Triggered at epoch 8.       *********\n",
      "*********                      Stage  2                       *********\n",
      "*********             Velocity Refinement Round 1             *********\n"
     ]
    },
    {
     "data": {
      "application/vnd.jupyter.widget-view+json": {
       "model_id": "79ad299247d8403a9453ebc86aebe7d9",
       "version_major": 2,
       "version_minor": 0
      },
      "text/plain": [
       "  0%|          | 0/300 [00:00<?, ?it/s]"
      ]
     },
     "metadata": {},
     "output_type": "display_data"
    },
    {
     "name": "stdout",
     "output_type": "stream",
     "text": [
      "Percentage of Invalid Sets: 0.050\n",
      "Average Set Size: 16\n",
      "*********     Round 1: Early Stop Triggered at epoch 14.    *********\n",
      "Change in noise variance: 0.2069\n",
      "*********             Velocity Refinement Round 2             *********\n",
      "*********     Round 2: Early Stop Triggered at epoch 20.    *********\n",
      "Change in noise variance: 0.0319\n",
      "Change in x0: 0.5998\n",
      "*********             Velocity Refinement Round 3             *********\n",
      "*********     Round 3: Early Stop Triggered at epoch 26.    *********\n",
      "Change in noise variance: 0.0025\n",
      "Change in x0: 0.4039\n",
      "*********             Velocity Refinement Round 4             *********\n",
      "*********     Round 4: Early Stop Triggered at epoch 32.    *********\n",
      "Change in noise variance: 0.0012\n",
      "Change in x0: 0.3299\n",
      "*********             Velocity Refinement Round 5             *********\n",
      "*********     Round 5: Early Stop Triggered at epoch 38.    *********\n",
      "Change in noise variance: 0.0007\n",
      "Change in x0: 0.2737\n",
      "*********             Velocity Refinement Round 6             *********\n",
      "*********     Round 6: Early Stop Triggered at epoch 44.    *********\n",
      "Change in noise variance: 0.0000\n",
      "Change in x0: 0.2441\n",
      "*********             Velocity Refinement Round 7             *********\n",
      "*********     Round 7: Early Stop Triggered at epoch 50.    *********\n",
      "Change in noise variance: 0.0000\n",
      "Change in x0: 0.2284\n",
      "*********             Velocity Refinement Round 8             *********\n",
      "*********     Round 8: Early Stop Triggered at epoch 56.    *********\n",
      "Change in noise variance: 0.0000\n",
      "Change in x0: 0.2224\n",
      "*********             Velocity Refinement Round 9             *********\n",
      "Stage 2: Early Stop Triggered at round 8.\n",
      "*********              Finished. Total Time =   0 h :  0 m : 18 s             *********\n",
      "Final: Train ELBO = -15914.265,\tTest ELBO = -15941.758\n",
      "Estimating ODE parameters...\n"
     ]
    },
    {
     "data": {
      "application/vnd.jupyter.widget-view+json": {
       "model_id": "f32be96f41e345eb9191e686be356c68",
       "version_major": 2,
       "version_minor": 0
      },
      "text/plain": [
       "  0%|          | 0/76 [00:00<?, ?it/s]"
      ]
     },
     "metadata": {},
     "output_type": "display_data"
    },
    {
     "name": "stdout",
     "output_type": "stream",
     "text": [
      "Detected 36 velocity genes.\n",
      "Estimating the variance...\n"
     ]
    },
    {
     "data": {
      "application/vnd.jupyter.widget-view+json": {
       "model_id": "ffed42da9a4248389a35fa750f2fcdb2",
       "version_major": 2,
       "version_minor": 0
      },
      "text/plain": [
       "  0%|          | 0/76 [00:00<?, ?it/s]"
      ]
     },
     "metadata": {},
     "output_type": "display_data"
    },
    {
     "name": "stdout",
     "output_type": "stream",
     "text": [
      "Initialization using the steady-state and dynamical models.\n",
      "Reinitialize the regular ODE parameters based on estimated global latent time.\n"
     ]
    },
    {
     "data": {
      "application/vnd.jupyter.widget-view+json": {
       "model_id": "f6f71fe3ce4c4a7280584c8b9c5d34a4",
       "version_major": 2,
       "version_minor": 0
      },
      "text/plain": [
       "  0%|          | 0/76 [00:00<?, ?it/s]"
      ]
     },
     "metadata": {},
     "output_type": "display_data"
    },
    {
     "name": "stdout",
     "output_type": "stream",
     "text": [
      "3 clusters detected based on gene co-expression.\n",
      "(0.46, 0.815320187953141), (0.54, 0.18212739641125106)\n",
      "(0.61, 0.2646005089450621), (0.39, 0.871184004409053)\n",
      "KS-test result: [0. 1. 0.]\n",
      "Initial induction: 34, repression: 42/76\n",
      "Learning Rate based on Data Sparsity: 0.0000\n",
      "--------------------------- Train a VeloVAE ---------------------------\n",
      "*********        Creating Training/Validation Datasets        *********\n",
      "*********                      Finished.                      *********\n",
      "*********                 Creating optimizers                 *********\n",
      "*********                      Finished.                      *********\n",
      "*********                    Start training                   *********\n",
      "*********                      Stage  1                       *********\n",
      "Total Number of Iterations Per Epoch: 2, test iteration: 2\n",
      "*********       Stage 1: Early Stop Triggered at epoch 9.       *********\n",
      "*********                      Stage  2                       *********\n",
      "*********             Velocity Refinement Round 1             *********\n"
     ]
    },
    {
     "data": {
      "application/vnd.jupyter.widget-view+json": {
       "model_id": "93732b72ada94acda4d286c0ba1f49c1",
       "version_major": 2,
       "version_minor": 0
      },
      "text/plain": [
       "  0%|          | 0/300 [00:00<?, ?it/s]"
      ]
     },
     "metadata": {},
     "output_type": "display_data"
    },
    {
     "name": "stdout",
     "output_type": "stream",
     "text": [
      "Percentage of Invalid Sets: 0.027\n",
      "Average Set Size: 17\n",
      "*********     Round 1: Early Stop Triggered at epoch 15.    *********\n",
      "Change in noise variance: 0.8975\n",
      "*********             Velocity Refinement Round 2             *********\n",
      "*********     Round 2: Early Stop Triggered at epoch 362.    *********\n",
      "Change in noise variance: 0.0808\n",
      "Change in x0: 0.2958\n",
      "*********             Velocity Refinement Round 3             *********\n",
      "*********     Round 3: Early Stop Triggered at epoch 405.    *********\n",
      "Change in noise variance: 0.0011\n",
      "Change in x0: 0.2908\n",
      "*********             Velocity Refinement Round 4             *********\n",
      "*********     Round 4: Early Stop Triggered at epoch 425.    *********\n",
      "Change in noise variance: 0.0007\n",
      "Change in x0: 0.2674\n",
      "*********             Velocity Refinement Round 5             *********\n",
      "*********     Round 5: Early Stop Triggered at epoch 432.    *********\n",
      "Change in noise variance: 0.0000\n",
      "Change in x0: 0.2239\n",
      "*********             Velocity Refinement Round 6             *********\n",
      "*********     Round 6: Early Stop Triggered at epoch 475.    *********\n",
      "Change in noise variance: 0.0000\n",
      "Change in x0: 0.1955\n",
      "*********             Velocity Refinement Round 7             *********\n",
      "*********     Round 7: Early Stop Triggered at epoch 482.    *********\n",
      "Change in noise variance: 0.0000\n",
      "Change in x0: 0.1796\n",
      "*********             Velocity Refinement Round 8             *********\n",
      "*********     Round 8: Early Stop Triggered at epoch 492.    *********\n",
      "Change in noise variance: 0.0000\n",
      "Change in x0: 0.1643\n",
      "*********             Velocity Refinement Round 9             *********\n",
      "*********     Round 9: Early Stop Triggered at epoch 502.    *********\n",
      "Change in noise variance: 0.0000\n",
      "Change in x0: 0.1513\n",
      "*********             Velocity Refinement Round 10             *********\n",
      "*********     Round 10: Early Stop Triggered at epoch 522.    *********\n",
      "Change in noise variance: 0.0000\n",
      "Change in x0: 0.1452\n",
      "*********             Velocity Refinement Round 11             *********\n",
      "Stage 2: Early Stop Triggered at round 10.\n",
      "*********              Finished. Total Time =   0 h :  0 m : 35 s             *********\n",
      "Final: Train ELBO = -18069.350,\tTest ELBO = -17271.164\n",
      "Estimating ODE parameters...\n"
     ]
    },
    {
     "data": {
      "application/vnd.jupyter.widget-view+json": {
       "model_id": "2e222842df5b4d82a327b875b482ba07",
       "version_major": 2,
       "version_minor": 0
      },
      "text/plain": [
       "  0%|          | 0/72 [00:00<?, ?it/s]"
      ]
     },
     "metadata": {},
     "output_type": "display_data"
    },
    {
     "name": "stdout",
     "output_type": "stream",
     "text": [
      "Detected 25 velocity genes.\n",
      "Estimating the variance...\n"
     ]
    },
    {
     "data": {
      "application/vnd.jupyter.widget-view+json": {
       "model_id": "055c024a9e3f4649b112ca59ce52814f",
       "version_major": 2,
       "version_minor": 0
      },
      "text/plain": [
       "  0%|          | 0/72 [00:00<?, ?it/s]"
      ]
     },
     "metadata": {},
     "output_type": "display_data"
    },
    {
     "name": "stdout",
     "output_type": "stream",
     "text": [
      "Initialization using the steady-state and dynamical models.\n",
      "Reinitialize the regular ODE parameters based on estimated global latent time.\n"
     ]
    },
    {
     "data": {
      "application/vnd.jupyter.widget-view+json": {
       "model_id": "1be490beab62480b86ffa157c0aa378d",
       "version_major": 2,
       "version_minor": 0
      },
      "text/plain": [
       "  0%|          | 0/72 [00:00<?, ?it/s]"
      ]
     },
     "metadata": {},
     "output_type": "display_data"
    },
    {
     "name": "stdout",
     "output_type": "stream",
     "text": [
      "3 clusters detected based on gene co-expression.\n",
      "(0.41, 0.08570857886357829), (0.59, 0.9175531644155611)\n",
      "KS-test result: [2. 2. 0.]\n",
      "Initial induction: 23, repression: 49/72\n",
      "Learning Rate based on Data Sparsity: 0.0000\n",
      "--------------------------- Train a VeloVAE ---------------------------\n",
      "*********        Creating Training/Validation Datasets        *********\n",
      "*********                      Finished.                      *********\n",
      "*********                 Creating optimizers                 *********\n",
      "*********                      Finished.                      *********\n",
      "*********                    Start training                   *********\n",
      "*********                      Stage  1                       *********\n",
      "Total Number of Iterations Per Epoch: 2, test iteration: 2\n",
      "*********       Stage 1: Early Stop Triggered at epoch 5.       *********\n",
      "*********                      Stage  2                       *********\n",
      "*********             Velocity Refinement Round 1             *********\n"
     ]
    },
    {
     "data": {
      "application/vnd.jupyter.widget-view+json": {
       "model_id": "5d9aaa8008e64af4921029ebfbe8be53",
       "version_major": 2,
       "version_minor": 0
      },
      "text/plain": [
       "  0%|          | 0/300 [00:00<?, ?it/s]"
      ]
     },
     "metadata": {},
     "output_type": "display_data"
    },
    {
     "name": "stdout",
     "output_type": "stream",
     "text": [
      "Percentage of Invalid Sets: 0.033\n",
      "Average Set Size: 16\n",
      "*********     Round 1: Early Stop Triggered at epoch 251.    *********\n",
      "Change in noise variance: 0.3936\n",
      "*********             Velocity Refinement Round 2             *********\n"
     ]
    }
   ],
   "source": [
    "velocity_correlation = []\n",
    "\n",
    "for filename in (DATA_DIR / DATASET / \"processed\").iterdir():\n",
    "    if filename.suffix != \".zarr\":\n",
    "        continue\n",
    "\n",
    "    adata = ad.io.read_zarr(filename)\n",
    "\n",
    "    try:\n",
    "        vae = vv.VAE(adata, tmax=20, dim_z=5, device=\"cuda:0\")\n",
    "        config = {}\n",
    "        vae.train(adata, config=config, plot=False, embed=\"pca\")\n",
    "\n",
    "        # Output velocity to adata object\n",
    "        vae.save_anndata(adata, \"vae\", DATA_DIR / DATASET / \"processed\" / \"velovae_vae\", file_name=\"velovae.h5ad\")\n",
    "\n",
    "        adata.layers[\"velocity\"] = adata.layers[\"vae_velocity\"].copy()\n",
    "\n",
    "        velocity_correlation.append(\n",
    "            get_velocity_correlation(\n",
    "                ground_truth=adata.layers[\"true_velocity\"], estimated=adata.layers[\"velocity\"], aggregation=np.mean\n",
    "            )\n",
    "        )\n",
    "\n",
    "    except Exception as e:\n",
    "        # Append np.nan in case of an error and optionally log the error\n",
    "        print(f\"An error occurred: {e}\")\n",
    "        velocity_correlation.append(np.nan)"
   ]
  },
  {
   "cell_type": "markdown",
   "id": "9714322d",
   "metadata": {},
   "source": [
    "## Data saving"
   ]
  },
  {
   "cell_type": "code",
   "execution_count": 9,
   "id": "cf4d362e",
   "metadata": {},
   "outputs": [],
   "source": [
    "if SAVE_DATA:\n",
    "    pd.DataFrame({\"velocity\": velocity_correlation}).to_parquet(\n",
    "        path=DATA_DIR / DATASET / \"results\" / \"velovae_vae_correlation.parquet\"\n",
    "    )"
   ]
  },
  {
   "cell_type": "code",
   "execution_count": null,
   "id": "a6e720a0-49c1-4222-acbe-281add6350f2",
   "metadata": {},
   "outputs": [],
   "source": []
  }
 ],
 "metadata": {
  "kernelspec": {
   "display_name": "Python [conda env:regvelo_test]",
   "language": "python",
   "name": "conda-env-regvelo_test-py"
  },
  "language_info": {
   "codemirror_mode": {
    "name": "ipython",
    "version": 3
   },
   "file_extension": ".py",
   "mimetype": "text/x-python",
   "name": "python",
   "nbconvert_exporter": "python",
   "pygments_lexer": "ipython3",
   "version": "3.10.15"
  }
 },
 "nbformat": 4,
 "nbformat_minor": 5
}
