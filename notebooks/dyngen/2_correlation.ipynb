{
 "cells": [
  {
   "cell_type": "markdown",
   "id": "39a88ab1-061b-4e39-9dfe-771b97c048aa",
   "metadata": {},
   "source": [
    "# Correlation benchmark on dyngen data\n",
    "\n",
    "Notebook benchmarks GRN inference using Correlation on dyngen-generated data."
   ]
  },
  {
   "cell_type": "markdown",
   "id": "7a5fb5ff-d59e-466e-a0e0-9eb378f6632b",
   "metadata": {},
   "source": [
    "## Library imports"
   ]
  },
  {
   "cell_type": "code",
   "execution_count": 1,
   "id": "a17c608c-4457-4991-9144-bf1610a0a95a",
   "metadata": {},
   "outputs": [
    {
     "name": "stderr",
     "output_type": "stream",
     "text": [
      "/home/icb/weixu.wang/miniconda3/envs/regvelo_test/lib/python3.10/site-packages/anndata/utils.py:429: FutureWarning: Importing read_csv from `anndata` is deprecated. Import anndata.io.read_csv instead.\n",
      "  warnings.warn(msg, FutureWarning)\n",
      "/home/icb/weixu.wang/miniconda3/envs/regvelo_test/lib/python3.10/site-packages/anndata/utils.py:429: FutureWarning: Importing read_loom from `anndata` is deprecated. Import anndata.io.read_loom instead.\n",
      "  warnings.warn(msg, FutureWarning)\n",
      "/home/icb/weixu.wang/miniconda3/envs/regvelo_test/lib/python3.10/site-packages/anndata/utils.py:429: FutureWarning: Importing read_text from `anndata` is deprecated. Import anndata.io.read_text instead.\n",
      "  warnings.warn(msg, FutureWarning)\n",
      "/home/icb/weixu.wang/miniconda3/envs/regvelo_test/lib/python3.10/site-packages/anndata/utils.py:429: FutureWarning: Importing CSCDataset from `anndata.experimental` is deprecated. Import anndata.abc.CSCDataset instead.\n",
      "  warnings.warn(msg, FutureWarning)\n",
      "/home/icb/weixu.wang/miniconda3/envs/regvelo_test/lib/python3.10/site-packages/anndata/utils.py:429: FutureWarning: Importing CSRDataset from `anndata.experimental` is deprecated. Import anndata.abc.CSRDataset instead.\n",
      "  warnings.warn(msg, FutureWarning)\n",
      "/home/icb/weixu.wang/miniconda3/envs/regvelo_test/lib/python3.10/site-packages/anndata/utils.py:429: FutureWarning: Importing read_elem from `anndata.experimental` is deprecated. Import anndata.io.read_elem instead.\n",
      "  warnings.warn(msg, FutureWarning)\n"
     ]
    }
   ],
   "source": [
    "import numpy as np\n",
    "import pandas as pd\n",
    "import torch\n",
    "from sklearn.metrics import roc_auc_score\n",
    "\n",
    "import anndata as ad\n",
    "import scvi\n",
    "\n",
    "from rgv_tools import DATA_DIR"
   ]
  },
  {
   "cell_type": "markdown",
   "id": "2350ad30-cdb5-4145-83dc-0c155215e136",
   "metadata": {},
   "source": [
    "## General settings"
   ]
  },
  {
   "cell_type": "code",
   "execution_count": 2,
   "id": "959fa41f-d0b6-49a8-9d39-3f215d5e3241",
   "metadata": {},
   "outputs": [
    {
     "name": "stderr",
     "output_type": "stream",
     "text": [
      "[rank: 0] Seed set to 0\n"
     ]
    }
   ],
   "source": [
    "scvi.settings.seed = 0"
   ]
  },
  {
   "cell_type": "markdown",
   "id": "cbe2f78f-7720-4858-bbf7-1047d0d65840",
   "metadata": {},
   "source": [
    "## Constants"
   ]
  },
  {
   "cell_type": "code",
   "execution_count": 3,
   "id": "86d996e4-16be-487f-99cd-1e0c4a09bc91",
   "metadata": {},
   "outputs": [],
   "source": [
    "DATASET = \"dyngen\""
   ]
  },
  {
   "cell_type": "code",
   "execution_count": 4,
   "id": "5f87ff5e-9afb-41bc-9de9-c761df04f200",
   "metadata": {},
   "outputs": [],
   "source": [
    "SAVE_DATA = True\n",
    "if SAVE_DATA:\n",
    "    (DATA_DIR / DATASET / \"results\").mkdir(parents=True, exist_ok=True)"
   ]
  },
  {
   "cell_type": "markdown",
   "id": "b2ef402a-bfc1-4754-ae88-e4f31f3d8368",
   "metadata": {},
   "source": [
    "## Velocity pipeline"
   ]
  },
  {
   "cell_type": "code",
   "execution_count": 5,
   "id": "6b271a2a-65a7-42eb-953e-15d3ff1029c0",
   "metadata": {
    "tags": []
   },
   "outputs": [],
   "source": [
    "grn_correlation = []\n",
    "\n",
    "for filename in (DATA_DIR / DATASET / \"processed\").iterdir():\n",
    "    torch.cuda.empty_cache()\n",
    "    if filename.suffix != \".zarr\":\n",
    "        continue\n",
    "\n",
    "    adata = ad.io.read_zarr(filename)\n",
    "    grn_true = adata.uns[\"true_skeleton\"]\n",
    "    grn_sc_true = adata.uns[\"true_sc_grn\"]\n",
    "\n",
    "    grn_estimate = adata.to_df(layer=\"Ms\").corr().values\n",
    "\n",
    "    grn_auroc = []\n",
    "    for cell_id in range(adata.n_obs):\n",
    "        ground_truth = grn_sc_true[:, :, cell_id]\n",
    "\n",
    "        if ground_truth.sum() > 0:\n",
    "            ground_truth = ground_truth.T[np.array(grn_true.T) == 1]\n",
    "            ground_truth[ground_truth != 0] = 1\n",
    "\n",
    "            estimated = grn_estimate[np.array(grn_true.T) == 1]\n",
    "            estimated = np.abs(estimated)\n",
    "\n",
    "            number = min(10000, len(ground_truth))\n",
    "            estimated, index = torch.topk(torch.tensor(estimated), number)\n",
    "\n",
    "            grn_auroc.append(roc_auc_score(ground_truth[index], estimated))\n",
    "\n",
    "    grn_correlation.append(np.mean(grn_auroc))"
   ]
  },
  {
   "cell_type": "markdown",
   "id": "79374d9f-fbfb-4d30-b87f-e8cf47b6b45b",
   "metadata": {},
   "source": [
    "## Data saving"
   ]
  },
  {
   "cell_type": "code",
   "execution_count": 6,
   "id": "331e24b3-2f09-47a9-9183-97aa85157281",
   "metadata": {},
   "outputs": [],
   "source": [
    "if SAVE_DATA:\n",
    "    pd.DataFrame({\"grn\": grn_correlation}).to_parquet(\n",
    "        path=DATA_DIR / DATASET / \"results\" / \"correlation_correlation.parquet\"\n",
    "    )"
   ]
  },
  {
   "cell_type": "code",
   "execution_count": null,
   "id": "1cc67801-5c8e-4366-a5f9-5bfaace5e9cd",
   "metadata": {},
   "outputs": [],
   "source": []
  }
 ],
 "metadata": {
  "kernelspec": {
   "display_name": "Python [conda env:regvelo_test]",
   "language": "python",
   "name": "conda-env-regvelo_test-py"
  },
  "language_info": {
   "codemirror_mode": {
    "name": "ipython",
    "version": 3
   },
   "file_extension": ".py",
   "mimetype": "text/x-python",
   "name": "python",
   "nbconvert_exporter": "python",
   "pygments_lexer": "ipython3",
   "version": "3.10.15"
  }
 },
 "nbformat": 4,
 "nbformat_minor": 5
}
