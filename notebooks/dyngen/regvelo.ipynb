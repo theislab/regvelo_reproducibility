{
 "cells": [
  {
   "attachments": {},
   "cell_type": "markdown",
   "id": "0a1042cd",
   "metadata": {},
   "source": [
    "# RegVelo benchmark on dyngen data\n",
    "\n",
    "Notebook benchmarks velocity and latent time inference using RegVelo on dyngen-generated data."
   ]
  },
  {
   "cell_type": "markdown",
   "id": "a486fec1",
   "metadata": {},
   "source": [
    "## Library imports"
   ]
  },
  {
   "cell_type": "code",
   "execution_count": null,
   "id": "fd119f55-1837-43ca-8368-e12c55652f2b",
   "metadata": {},
   "outputs": [],
   "source": [
    "import numpy as np\n",
    "import pandas as pd\n",
    "import torch\n",
    "from sklearn.metrics import roc_auc_score\n",
    "\n",
    "import anndata as ad\n",
    "from regvelo import REGVELOVI\n",
    "\n",
    "from rgv_tools import DATA_DIR\n",
    "from rgv_tools.benchmarking import get_time_correlation, get_velocity_correlation, set_output"
   ]
  },
  {
   "attachments": {},
   "cell_type": "markdown",
   "id": "e2670fad",
   "metadata": {},
   "source": [
    "## Constants"
   ]
  },
  {
   "cell_type": "code",
   "execution_count": null,
   "id": "7d97d9dc",
   "metadata": {},
   "outputs": [],
   "source": [
    "DATASET = \"dyngen\""
   ]
  },
  {
   "cell_type": "code",
   "execution_count": null,
   "id": "af9f4b90",
   "metadata": {},
   "outputs": [],
   "source": [
    "SAVE_DATA = True\n",
    "if SAVE_DATA:\n",
    "    (DATA_DIR / DATASET / \"results\").mkdir(parents=True, exist_ok=True)"
   ]
  },
  {
   "attachments": {},
   "cell_type": "markdown",
   "id": "a52d5add-d75b-4e84-8336-e9632460a818",
   "metadata": {},
   "source": [
    "## Velocity pipeline"
   ]
  },
  {
   "cell_type": "code",
   "execution_count": null,
   "id": "ba75641e",
   "metadata": {},
   "outputs": [],
   "source": [
    "velocity_correlation = []\n",
    "time_correlation = []\n",
    "grn_correlation = []\n",
    "\n",
    "for filename in (DATA_DIR / DATASET / \"processed\").iterdir():\n",
    "    torch.cuda.empty_cache()\n",
    "    if filename.suffix != \".zarr\":\n",
    "        continue\n",
    "\n",
    "    adata = ad.io.read_zarr(filename)\n",
    "\n",
    "    W = torch.ones([adata.n_vars, adata.n_vars])\n",
    "    REGVELOVI.setup_anndata(adata, spliced_layer=\"Ms\", unspliced_layer=\"Mu\")\n",
    "    vae = REGVELOVI(adata, W=W, t_max=20)\n",
    "    vae.train()\n",
    "\n",
    "    set_output(adata, vae, n_samples=30)\n",
    "\n",
    "    velocity_correlation.append(\n",
    "        get_velocity_correlation(\n",
    "            ground_truth=adata.layers[\"true_velocity\"], estimated=adata.layers[\"velocity\"], aggregation=np.mean\n",
    "        )\n",
    "    )\n",
    "    time_correlation.append(\n",
    "        get_time_correlation(ground_truth=adata.obs[\"true_time\"], estimated=adata.layers[\"fit_t\"].mean(axis=1))\n",
    "    )\n",
    "\n",
    "    grn_true = adata.uns[\"true_skeleton\"]\n",
    "    grn_sc_true = adata.uns[\"true_sc_grn\"]\n",
    "\n",
    "    grn_estimate = vae.module.v_encoder.GRN_Jacobian2(torch.tensor(adata.layers[\"Ms\"]).to(\"cuda:0\"))\n",
    "    grn_estimate = grn_estimate.cpu().detach().numpy()\n",
    "\n",
    "    grn_auroc = []\n",
    "    for cell_id in range(adata.n_obs):\n",
    "        ground_truth = grn_sc_true[:, :, cell_id]\n",
    "        ground_truth = ground_truth.T[np.array(grn_true.T) == 1]\n",
    "        ground_truth[ground_truth != 0] = 1\n",
    "\n",
    "        estimated = grn_estimate[cell_id, :, :][np.array(grn_true.T) == 1]\n",
    "\n",
    "        number = min(10000, len(ground_truth))\n",
    "        estimated, index = torch.topk(torch.tensor(estimated), number)\n",
    "\n",
    "        grn_auroc.append(roc_auc_score(ground_truth[index], estimated))\n",
    "    grn_correlation.append(np.mean(grn_auroc))"
   ]
  },
  {
   "cell_type": "markdown",
   "id": "9714322d",
   "metadata": {},
   "source": [
    "## Data saving"
   ]
  },
  {
   "cell_type": "code",
   "execution_count": null,
   "id": "cf4d362e",
   "metadata": {},
   "outputs": [],
   "source": [
    "if SAVE_DATA:\n",
    "    pd.DataFrame({\"velocity\": velocity_correlation, \"time\": time_correlation}).to_parquet(\n",
    "        path=DATA_DIR / DATASET / \"results\" / \"velovi_correlation.parquet\"\n",
    "    )"
   ]
  }
 ],
 "metadata": {
  "kernelspec": {
   "display_name": "regvelo-py310",
   "language": "python",
   "name": "python3"
  },
  "language_info": {
   "codemirror_mode": {
    "name": "ipython",
    "version": 3
   },
   "file_extension": ".py",
   "mimetype": "text/x-python",
   "name": "python",
   "nbconvert_exporter": "python",
   "pygments_lexer": "ipython3",
   "version": "3.10.15"
  }
 },
 "nbformat": 4,
 "nbformat_minor": 5
}
