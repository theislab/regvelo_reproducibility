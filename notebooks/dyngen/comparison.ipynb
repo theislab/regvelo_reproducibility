{
 "cells": [
  {
   "attachments": {},
   "cell_type": "markdown",
   "id": "0a1042cd",
   "metadata": {},
   "source": [
    "# Performance comparison of inference on dyngen data\n",
    "\n",
    "Notebook compares metrics for velocity, latent time and GRN inference across different methods applied to dyngen-generated data."
   ]
  },
  {
   "cell_type": "markdown",
   "id": "a486fec1",
   "metadata": {},
   "source": [
    "## Library imports"
   ]
  },
  {
   "cell_type": "code",
   "execution_count": null,
   "id": "fd119f55-1837-43ca-8368-e12c55652f2b",
   "metadata": {},
   "outputs": [],
   "source": [
    "import pandas as pd\n",
    "from scipy.stats import ttest_ind\n",
    "\n",
    "import matplotlib.pyplot as plt\n",
    "import mplscience\n",
    "import seaborn as sns\n",
    "\n",
    "from rgv_tools import DATA_DIR, FIG_DIR\n",
    "from rgv_tools.core import METHOD_PALETTE\n",
    "from rgv_tools.plotting._significance import add_significance, get_significance"
   ]
  },
  {
   "attachments": {},
   "cell_type": "markdown",
   "id": "b6b48f3e-9560-47d4-bd6d-25aa5db08c13",
   "metadata": {},
   "source": [
    "## General settings"
   ]
  },
  {
   "cell_type": "code",
   "execution_count": null,
   "id": "8be4e618",
   "metadata": {},
   "outputs": [],
   "source": [
    "DATASET = \"dyngen\""
   ]
  },
  {
   "cell_type": "code",
   "execution_count": null,
   "id": "d83dfd1f-3a26-4e26-a06e-26a975e4a48f",
   "metadata": {},
   "outputs": [],
   "source": [
    "SAVE_FIGURES = False\n",
    "if SAVE_FIGURES:\n",
    "    (FIG_DIR / DATASET).mkdir(parents=True, exist_ok=True)\n",
    "\n",
    "FIGURE_FORMATE = \"svg\""
   ]
  },
  {
   "cell_type": "markdown",
   "id": "e1a6a6ae",
   "metadata": {},
   "source": [
    "## Constants"
   ]
  },
  {
   "cell_type": "code",
   "execution_count": null,
   "id": "1c5f8863",
   "metadata": {},
   "outputs": [],
   "source": [
    "VELOCITY_METHODS = [\"regvelo\", \"velovi\", \"scvelo\"]\n",
    "TIME_METHODS = [\"regvelo\", \"velovi\", \"scvelo\", \"dpt\"]\n",
    "GRN_METHODS = [\"regvelo\", \"correlation\", \"grnboost2\", \"celloracle\"]"
   ]
  },
  {
   "cell_type": "markdown",
   "id": "2baf9be8",
   "metadata": {},
   "source": [
    "## Data loading"
   ]
  },
  {
   "cell_type": "code",
   "execution_count": null,
   "id": "a94803b0",
   "metadata": {},
   "outputs": [],
   "source": [
    "correlation_df = []\n",
    "\n",
    "for method in VELOCITY_METHODS:\n",
    "    df = pd.read_parquet(DATA_DIR / DATASET / \"results\" / f\"{method}_correlation.parquet\")\n",
    "    df.columns = f\"{method}_\" + df.columns\n",
    "    correlation_df.append(df)\n",
    "del df\n",
    "\n",
    "for method in TIME_METHODS:\n",
    "    if method in VELOCITY_METHODS:\n",
    "        continue\n",
    "    df = pd.read_parquet(DATA_DIR / DATASET / \"results\" / f\"{method}_correlation.parquet\")\n",
    "    df.columns = f\"{method}_\" + df.columns\n",
    "    correlation_df.append(df)\n",
    "\n",
    "\"\"\"\n",
    "for method in GRN_METHODS:\n",
    "    if method in VELOCITY_METHODS + TIME_METHODS:\n",
    "        continue\n",
    "    df = pd.read_parquet(DATA_DIR / DATASET / \"results\" / f\"{method}_correlation.parquet\")\n",
    "    df.columns = f\"{method}_\" + df.columns\n",
    "    correlation_df.append(df)\n",
    "\"\"\"\n",
    "correlation_df = pd.concat(correlation_df, axis=1)\n",
    "correlation_df.head()"
   ]
  },
  {
   "cell_type": "markdown",
   "id": "8d13a375",
   "metadata": {},
   "source": [
    "## Analysis"
   ]
  },
  {
   "cell_type": "markdown",
   "id": "e71a37df",
   "metadata": {},
   "source": [
    "### Velocity"
   ]
  },
  {
   "cell_type": "code",
   "execution_count": null,
   "id": "4d785c81",
   "metadata": {},
   "outputs": [],
   "source": [
    "df = correlation_df.loc[:, correlation_df.columns.str.contains(\"velocity\")]\n",
    "df.columns = df.columns.str.removesuffix(\"_velocity\")\n",
    "df = pd.melt(df, var_name=\"method\", value_name=\"correlation\")\n",
    "\n",
    "with mplscience.style_context():\n",
    "    sns.set_style(style=\"whitegrid\")\n",
    "    fig, ax = plt.subplots(figsize=(6, 4))\n",
    "    sns.violinplot(\n",
    "        data=df, x=\"correlation\", y=\"method\", hue=\"method\", order=VELOCITY_METHODS, palette=METHOD_PALETTE, ax=ax\n",
    "    )\n",
    "\n",
    "    ttest_res = ttest_ind(\n",
    "        correlation_df[\"regvelo_velocity\"],\n",
    "        correlation_df[\"velovi_velocity\"],\n",
    "        equal_var=False,\n",
    "        alternative=\"greater\",\n",
    "    )\n",
    "    significance = get_significance(pvalue=ttest_res.pvalue)\n",
    "    add_significance(\n",
    "        ax=ax,\n",
    "        left=0,\n",
    "        right=1,\n",
    "        significance=significance,\n",
    "        lw=1,\n",
    "        bracket_level=1.05,\n",
    "        c=\"k\",\n",
    "        level=0,\n",
    "        orientation=\"vertical\",\n",
    "    )\n",
    "\n",
    "    ttest_res = ttest_ind(\n",
    "        correlation_df[\"velovi_velocity\"],\n",
    "        correlation_df[\"scvelo_velocity\"],\n",
    "        equal_var=False,\n",
    "        alternative=\"greater\",\n",
    "    )\n",
    "    significance = get_significance(pvalue=ttest_res.pvalue)\n",
    "    add_significance(\n",
    "        ax=ax,\n",
    "        left=0,\n",
    "        right=2,\n",
    "        significance=significance,\n",
    "        lw=1,\n",
    "        bracket_level=1.05,\n",
    "        c=\"k\",\n",
    "        level=0,\n",
    "        orientation=\"vertical\",\n",
    "    )\n",
    "\n",
    "    ax.set(\n",
    "        xlabel=\"Pearson correlation\",\n",
    "        ylabel=\"Method\",\n",
    "        yticks=ax.get_yticks(),\n",
    "        yticklabels=[\"RegVelo\", \"veloVI\", \"scVelo\"],\n",
    "    )\n",
    "\n",
    "    if SAVE_FIGURES:\n",
    "        fig.savefig(\n",
    "            FIG_DIR / DATASET / \"velocity_benchmark.svg\",\n",
    "            format=\"svg\",\n",
    "            transparent=True,\n",
    "            bbox_inches=\"tight\",\n",
    "        )\n",
    "\n",
    "    plt.show()"
   ]
  },
  {
   "cell_type": "markdown",
   "id": "cf2634e5",
   "metadata": {},
   "source": [
    "### Latent time"
   ]
  },
  {
   "cell_type": "code",
   "execution_count": null,
   "id": "b80c854a",
   "metadata": {},
   "outputs": [],
   "source": [
    "df = correlation_df.loc[:, correlation_df.columns.str.contains(\"time\")]\n",
    "df.columns = df.columns.str.removesuffix(\"_time\")\n",
    "df = pd.melt(df, var_name=\"method\", value_name=\"correlation\")\n",
    "\n",
    "with mplscience.style_context():\n",
    "    sns.set_style(style=\"whitegrid\")\n",
    "    fig, ax = plt.subplots(figsize=(6, 4))\n",
    "    sns.violinplot(\n",
    "        data=df, x=\"correlation\", y=\"method\", hue=\"method\", order=TIME_METHODS, palette=METHOD_PALETTE, ax=ax\n",
    "    )\n",
    "\n",
    "    ttest_res = ttest_ind(\n",
    "        correlation_df[\"regvelo_time\"],\n",
    "        correlation_df[\"velovi_time\"],\n",
    "        equal_var=False,\n",
    "        alternative=\"greater\",\n",
    "    )\n",
    "    significance = get_significance(pvalue=ttest_res.pvalue)\n",
    "    add_significance(\n",
    "        ax=ax,\n",
    "        left=0,\n",
    "        right=1,\n",
    "        significance=significance,\n",
    "        lw=1,\n",
    "        bracket_level=1.05,\n",
    "        c=\"k\",\n",
    "        level=0,\n",
    "        orientation=\"vertical\",\n",
    "    )\n",
    "\n",
    "    ttest_res = ttest_ind(\n",
    "        correlation_df[\"velovi_time\"],\n",
    "        correlation_df[\"scvelo_time\"],\n",
    "        equal_var=False,\n",
    "        alternative=\"greater\",\n",
    "    )\n",
    "    significance = get_significance(pvalue=ttest_res.pvalue)\n",
    "    add_significance(\n",
    "        ax=ax,\n",
    "        left=0,\n",
    "        right=2,\n",
    "        significance=significance,\n",
    "        lw=1,\n",
    "        bracket_level=1.05,\n",
    "        c=\"k\",\n",
    "        level=0,\n",
    "        orientation=\"vertical\",\n",
    "    )\n",
    "\n",
    "    ax.set(\n",
    "        xlabel=\"Spearman correlation\",\n",
    "        ylabel=\"Method\",\n",
    "        yticks=ax.get_yticks(),\n",
    "        yticklabels=[\"RegVelo\", \"veloVI\", \"scVelo\", \"DPT\"],\n",
    "    )\n",
    "\n",
    "    if SAVE_FIGURES:\n",
    "        fig.savefig(\n",
    "            FIG_DIR / DATASET / \"time_benchmark.svg\",\n",
    "            format=\"svg\",\n",
    "            transparent=True,\n",
    "            bbox_inches=\"tight\",\n",
    "        )\n",
    "\n",
    "    plt.show()"
   ]
  },
  {
   "cell_type": "markdown",
   "id": "bfb46384",
   "metadata": {},
   "source": [
    "### GRN"
   ]
  },
  {
   "cell_type": "code",
   "execution_count": null,
   "id": "65cb5576",
   "metadata": {},
   "outputs": [],
   "source": [
    "df = correlation_df.loc[:, correlation_df.columns.str.contains(\"grn\")]\n",
    "df.columns = df.columns.str.removesuffix(\"_grn\")\n",
    "df = pd.melt(df, var_name=\"method\").rename(columns={\"value\": \"correlation\"})\n",
    "\n",
    "with mplscience.style_context():\n",
    "    sns.set_style(style=\"whitegrid\")\n",
    "    fig, ax = plt.subplots(figsize=(6, 4))\n",
    "    sns.violinplot(data=df, x=\"correlation\", y=\"method\", hue=\"method\", order=GRN_METHODS, palette=METHOD_PALETTE, ax=ax)\n",
    "\n",
    "    ttest_res = ttest_ind(\n",
    "        correlation_df[\"regvelo_grn\"],\n",
    "        correlation_df[\"correlation_grn\"],\n",
    "        equal_var=False,\n",
    "        alternative=\"greater\",\n",
    "    )\n",
    "    significance = get_significance(pvalue=ttest_res.pvalue)\n",
    "    add_significance(\n",
    "        ax=ax,\n",
    "        left=0,\n",
    "        right=1,\n",
    "        significance=significance,\n",
    "        lw=1,\n",
    "        bracket_level=1.05,\n",
    "        c=\"k\",\n",
    "        level=0,\n",
    "        orientation=\"vertical\",\n",
    "    )\n",
    "\n",
    "    ax.set(\n",
    "        xlabel=\"AUROC\",\n",
    "        ylabel=\"Method\",\n",
    "        yticks=ax.get_yticks(),\n",
    "        yticklabels=[\"RegVelo\", \"Correlation\", \"GRNBoost2\", \"CellOracle\"],\n",
    "    )\n",
    "\n",
    "    if SAVE_FIGURES:\n",
    "        fig.savefig(\n",
    "            FIG_DIR / DATASET / \"grn_benchmark.svg\",\n",
    "            format=\"svg\",\n",
    "            transparent=True,\n",
    "            bbox_inches=\"tight\",\n",
    "        )\n",
    "\n",
    "    plt.show()"
   ]
  }
 ],
 "metadata": {
  "kernelspec": {
   "display_name": "regvelo-py310",
   "language": "python",
   "name": "python3"
  },
  "language_info": {
   "codemirror_mode": {
    "name": "ipython",
    "version": 3
   },
   "file_extension": ".py",
   "mimetype": "text/x-python",
   "name": "python",
   "nbconvert_exporter": "python",
   "pygments_lexer": "ipython3",
   "version": "3.10.15"
  }
 },
 "nbformat": 4,
 "nbformat_minor": 5
}
