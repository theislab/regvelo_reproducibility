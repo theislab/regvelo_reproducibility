{
 "cells": [
  {
   "attachments": {},
   "cell_type": "markdown",
   "id": "0a1042cd",
   "metadata": {},
   "source": [
    "# scVelo benchmark on dyngen data\n",
    "\n",
    "Notebook benchmarks velocity and latent time inference using scVelo on dyngen-generated data."
   ]
  },
  {
   "cell_type": "markdown",
   "id": "a486fec1",
   "metadata": {},
   "source": [
    "## Library imports"
   ]
  },
  {
   "cell_type": "code",
   "execution_count": null,
   "id": "fd119f55-1837-43ca-8368-e12c55652f2b",
   "metadata": {},
   "outputs": [],
   "source": [
    "import numpy as np\n",
    "import pandas as pd\n",
    "\n",
    "import anndata as ad\n",
    "import scvelo as scv\n",
    "\n",
    "from rgv_tools import DATA_DIR\n",
    "from rgv_tools.benchmarking import get_time_correlation, get_velocity_correlation"
   ]
  },
  {
   "attachments": {},
   "cell_type": "markdown",
   "id": "b6b48f3e-9560-47d4-bd6d-25aa5db08c13",
   "metadata": {},
   "source": [
    "## General settings"
   ]
  },
  {
   "cell_type": "code",
   "execution_count": null,
   "id": "515cd207",
   "metadata": {},
   "outputs": [],
   "source": [
    "scv.settings.verbosity = 0"
   ]
  },
  {
   "attachments": {},
   "cell_type": "markdown",
   "id": "e2670fad",
   "metadata": {},
   "source": [
    "## Constants"
   ]
  },
  {
   "cell_type": "code",
   "execution_count": null,
   "id": "77888488",
   "metadata": {},
   "outputs": [],
   "source": [
    "DATASET = \"dyngen\""
   ]
  },
  {
   "cell_type": "code",
   "execution_count": null,
   "id": "af9f4b90",
   "metadata": {},
   "outputs": [],
   "source": [
    "SAVE_DATA = True\n",
    "if SAVE_DATA:\n",
    "    (DATA_DIR / DATASET / \"results\").mkdir(parents=True, exist_ok=True)"
   ]
  },
  {
   "attachments": {},
   "cell_type": "markdown",
   "id": "a52d5add-d75b-4e84-8336-e9632460a818",
   "metadata": {},
   "source": [
    "## Velocity pipeline"
   ]
  },
  {
   "cell_type": "code",
   "execution_count": null,
   "id": "ba75641e",
   "metadata": {},
   "outputs": [],
   "source": [
    "velocity_correlation = []\n",
    "time_correlation = []\n",
    "\n",
    "for filename in (DATA_DIR / DATASET / \"processed\").iterdir():\n",
    "    if filename.suffix != \".zarr\":\n",
    "        continue\n",
    "\n",
    "    adata = ad.io.read_zarr(filename)\n",
    "\n",
    "    # Parameter inference\n",
    "    scv.tl.recover_dynamics(adata, fit_scaling=False, var_names=adata.var_names, n_jobs=1)\n",
    "\n",
    "    # Velocity inferene\n",
    "    adata.var[\"fit_scaling\"] = 1.0\n",
    "    scv.tl.velocity(adata, mode=\"dynamical\", min_likelihood=-np.inf, min_r2=None)\n",
    "\n",
    "    velocity_correlation.append(\n",
    "        get_velocity_correlation(\n",
    "            ground_truth=adata.layers[\"true_velocity\"], estimated=adata.layers[\"velocity\"], aggregation=np.mean\n",
    "        )\n",
    "    )\n",
    "    time_correlation.append(\n",
    "        get_time_correlation(ground_truth=adata.obs[\"true_time\"], estimated=adata.layers[\"fit_t\"].mean(axis=1))\n",
    "    )"
   ]
  },
  {
   "cell_type": "markdown",
   "id": "9714322d",
   "metadata": {},
   "source": [
    "## Data saving"
   ]
  },
  {
   "cell_type": "code",
   "execution_count": null,
   "id": "cf4d362e",
   "metadata": {},
   "outputs": [],
   "source": [
    "if SAVE_DATA:\n",
    "    pd.DataFrame({\"velocity\": velocity_correlation, \"time\": time_correlation}).to_parquet(\n",
    "        path=DATA_DIR / DATASET / \"results\" / \"scvelo_correlation.parquet\"\n",
    "    )"
   ]
  }
 ],
 "metadata": {
  "kernelspec": {
   "display_name": "regvelo-py310",
   "language": "python",
   "name": "python3"
  },
  "language_info": {
   "codemirror_mode": {
    "name": "ipython",
    "version": 3
   },
   "file_extension": ".py",
   "mimetype": "text/x-python",
   "name": "python",
   "nbconvert_exporter": "python",
   "pygments_lexer": "ipython3",
   "version": "3.10.15"
  }
 },
 "nbformat": 4,
 "nbformat_minor": 5
}
