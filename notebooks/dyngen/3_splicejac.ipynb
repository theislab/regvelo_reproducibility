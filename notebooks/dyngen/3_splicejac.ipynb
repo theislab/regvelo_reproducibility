{
 "cells": [
  {
   "cell_type": "markdown",
   "id": "fd309a36-43f7-4866-82b1-9d206c9809a0",
   "metadata": {},
   "source": [
    "# spliceJAC benchmark on dyngen data\n",
    "\n",
    "Notebook benchmarks GRN inference using spliceJAC on dyngen-generated data."
   ]
  },
  {
   "cell_type": "markdown",
   "id": "dfc9457a-bb27-43b8-aa17-fbdc1786233b",
   "metadata": {},
   "source": [
    "## Library imports"
   ]
  },
  {
   "cell_type": "code",
   "execution_count": 1,
   "id": "91cbcc23-9f3c-4a2b-a6c8-f9da88f01ab4",
   "metadata": {},
   "outputs": [],
   "source": [
    "import splicejac as sp\n",
    "\n",
    "import numpy as np\n",
    "import pandas as pd\n",
    "import torch\n",
    "from sklearn.metrics import roc_auc_score\n",
    "\n",
    "import anndata as ad\n",
    "import scvi\n",
    "\n",
    "from rgv_tools import DATA_DIR"
   ]
  },
  {
   "cell_type": "markdown",
   "id": "3469bd4b-c621-40d8-8f51-e26a9373197a",
   "metadata": {},
   "source": [
    "## General settings"
   ]
  },
  {
   "cell_type": "code",
   "execution_count": 2,
   "id": "99fafa47-63e5-421c-8f35-aa14f0d30001",
   "metadata": {},
   "outputs": [
    {
     "name": "stderr",
     "output_type": "stream",
     "text": [
      "[rank: 0] Seed set to 0\n"
     ]
    }
   ],
   "source": [
    "scvi.settings.seed = 0"
   ]
  },
  {
   "cell_type": "markdown",
   "id": "24e863e7-7996-4f6d-9351-9aad685a640b",
   "metadata": {},
   "source": [
    "## Constants"
   ]
  },
  {
   "cell_type": "code",
   "execution_count": 3,
   "id": "06e6adaf-eb5b-4b06-806c-8f4bb73de9cd",
   "metadata": {},
   "outputs": [],
   "source": [
    "DATASET = \"dyngen\""
   ]
  },
  {
   "cell_type": "code",
   "execution_count": 4,
   "id": "30c97867-f340-4d53-a385-62804d0368a6",
   "metadata": {},
   "outputs": [],
   "source": [
    "COMPLEXITY = \"complexity_1\""
   ]
  },
  {
   "cell_type": "code",
   "execution_count": 5,
   "id": "b8086732-ab2c-4e93-b14b-95eb5bf1322e",
   "metadata": {},
   "outputs": [],
   "source": [
    "SAVE_DATA = True\n",
    "if SAVE_DATA:\n",
    "    (DATA_DIR / DATASET / COMPLEXITY / \"results\").mkdir(parents=True, exist_ok=True)"
   ]
  },
  {
   "cell_type": "markdown",
   "id": "dd185a96-1f09-4d50-b587-b5ffe06f2b02",
   "metadata": {},
   "source": [
    "## Data saving"
   ]
  },
  {
   "cell_type": "code",
   "execution_count": null,
   "id": "90715da6",
   "metadata": {},
   "outputs": [],
   "source": [
    "grn_correlation = []\n",
    "\n",
    "cnt = 0\n",
    "for filename in (DATA_DIR / DATASET / COMPLEXITY / \"processed\").iterdir():\n",
    "    torch.cuda.empty_cache()\n",
    "    if filename.suffix != \".zarr\":\n",
    "        continue\n",
    "\n",
    "    simulation_id = int(filename.stem.removeprefix(\"simulation_\"))\n",
    "    print(f\"Run {cnt}, dataset {simulation_id}.\")\n",
    "\n",
    "    adata = ad.io.read_zarr(filename)\n",
    "    n = len(adata.var_names)\n",
    "\n",
    "    grn_true = adata.uns[\"true_skeleton\"]\n",
    "    grn_sc_true = adata.uns[\"true_sc_grn\"]\n",
    "\n",
    "    ## We ignore the cell label information and assume all cells is the same label\n",
    "    adata.obs[\"clusters\"] = \"1\"\n",
    "    sp.tl.estimate_jacobian(adata, n_top_genes=adata.shape[1], min_shared_counts=0)\n",
    "    grn_estimate = adata.uns[\"average_jac\"][\"1\"][0][0:n, n:].copy()\n",
    "\n",
    "    grn_auroc = []\n",
    "    for cell_id in range(adata.n_obs):\n",
    "        ground_truth = grn_sc_true[:, :, cell_id]\n",
    "\n",
    "        if ground_truth.sum() > 0:\n",
    "            ground_truth = ground_truth.T[np.array(grn_true.T) == 1]\n",
    "            ground_truth[ground_truth != 0] = 1\n",
    "\n",
    "            estimated = grn_estimate[np.array(grn_true.T) == 1]\n",
    "            estimated = np.abs(estimated)\n",
    "\n",
    "            number = min(10000, len(ground_truth))\n",
    "            estimated, index = torch.topk(torch.tensor(estimated), number)\n",
    "\n",
    "            grn_auroc.append(roc_auc_score(ground_truth[index], estimated))\n",
    "\n",
    "    grn_correlation.append(np.mean(grn_auroc))\n",
    "    cnt += 1"
   ]
  },
  {
   "cell_type": "code",
   "execution_count": 8,
   "id": "7ffa4ec8-9e39-402b-b51d-47bea33b1c4b",
   "metadata": {},
   "outputs": [],
   "source": [
    "if SAVE_DATA:\n",
    "    pd.DataFrame({\"grn\": grn_correlation}).to_parquet(\n",
    "        path=DATA_DIR / DATASET / COMPLEXITY / \"results\" / \"splicejac_correlation.parquet\"\n",
    "    )"
   ]
  }
 ],
 "metadata": {
  "kernelspec": {
   "display_name": "regvelo-py310",
   "language": "python",
   "name": "regvelo-py310"
  },
  "language_info": {
   "codemirror_mode": {
    "name": "ipython",
    "version": 3
   },
   "file_extension": ".py",
   "mimetype": "text/x-python",
   "name": "python",
   "nbconvert_exporter": "python",
   "pygments_lexer": "ipython3",
   "version": "3.10.16"
  }
 },
 "nbformat": 4,
 "nbformat_minor": 5
}
