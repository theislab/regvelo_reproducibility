{
 "cells": [
  {
   "cell_type": "markdown",
   "id": "9a411ac0-d49c-45e3-996f-c152f6847501",
   "metadata": {
    "tags": []
   },
   "source": [
    "# Preprocess mHSPC datasets"
   ]
  },
  {
   "cell_type": "markdown",
   "id": "1b42c807-5935-498c-b39a-561badcce9d3",
   "metadata": {},
   "source": [
    "## Library imports"
   ]
  },
  {
   "cell_type": "code",
   "execution_count": 1,
   "id": "2697caf1-8b79-452f-ab41-fb598632dc64",
   "metadata": {
    "tags": []
   },
   "outputs": [
    {
     "name": "stderr",
     "output_type": "stream",
     "text": [
      "/home/icb/weixu.wang/miniconda3/envs/regvelo_test/lib/python3.10/site-packages/anndata/utils.py:429: FutureWarning: Importing read_csv from `anndata` is deprecated. Import anndata.io.read_csv instead.\n",
      "  warnings.warn(msg, FutureWarning)\n",
      "/home/icb/weixu.wang/miniconda3/envs/regvelo_test/lib/python3.10/site-packages/anndata/utils.py:429: FutureWarning: Importing read_excel from `anndata` is deprecated. Import anndata.io.read_excel instead.\n",
      "  warnings.warn(msg, FutureWarning)\n",
      "/home/icb/weixu.wang/miniconda3/envs/regvelo_test/lib/python3.10/site-packages/anndata/utils.py:429: FutureWarning: Importing read_hdf from `anndata` is deprecated. Import anndata.io.read_hdf instead.\n",
      "  warnings.warn(msg, FutureWarning)\n",
      "/home/icb/weixu.wang/miniconda3/envs/regvelo_test/lib/python3.10/site-packages/anndata/utils.py:429: FutureWarning: Importing read_loom from `anndata` is deprecated. Import anndata.io.read_loom instead.\n",
      "  warnings.warn(msg, FutureWarning)\n",
      "/home/icb/weixu.wang/miniconda3/envs/regvelo_test/lib/python3.10/site-packages/anndata/utils.py:429: FutureWarning: Importing read_mtx from `anndata` is deprecated. Import anndata.io.read_mtx instead.\n",
      "  warnings.warn(msg, FutureWarning)\n",
      "/home/icb/weixu.wang/miniconda3/envs/regvelo_test/lib/python3.10/site-packages/anndata/utils.py:429: FutureWarning: Importing read_text from `anndata` is deprecated. Import anndata.io.read_text instead.\n",
      "  warnings.warn(msg, FutureWarning)\n",
      "/home/icb/weixu.wang/miniconda3/envs/regvelo_test/lib/python3.10/site-packages/anndata/utils.py:429: FutureWarning: Importing read_umi_tools from `anndata` is deprecated. Import anndata.io.read_umi_tools instead.\n",
      "  warnings.warn(msg, FutureWarning)\n"
     ]
    }
   ],
   "source": [
    "import scanpy as sc\n",
    "import scvelo as scv\n",
    "from velovi import preprocess_data\n",
    "\n",
    "from rgv_tools import DATA_DIR"
   ]
  },
  {
   "cell_type": "markdown",
   "id": "67ea1357-ade9-4d9f-956a-7f527b2c1a3e",
   "metadata": {},
   "source": [
    "## General settings"
   ]
  },
  {
   "cell_type": "code",
   "execution_count": 2,
   "id": "8229a8fb-c806-4a8c-a6aa-722540431a7c",
   "metadata": {
    "tags": []
   },
   "outputs": [],
   "source": [
    "sc.settings.verbosity = 2\n",
    "scv.settings.verbosity = 3"
   ]
  },
  {
   "cell_type": "markdown",
   "id": "d2b98576-8d64-4809-a0c3-3ebc8dfaccc5",
   "metadata": {},
   "source": [
    "## Constants"
   ]
  },
  {
   "cell_type": "code",
   "execution_count": 3,
   "id": "65b2a2ad-4c83-4bee-9fc6-2d68dbdce7cd",
   "metadata": {
    "tags": []
   },
   "outputs": [],
   "source": [
    "DATASET = \"mHSPC\""
   ]
  },
  {
   "cell_type": "code",
   "execution_count": 4,
   "id": "ada6221f-9045-4275-a8d2-42ba4bf5622d",
   "metadata": {
    "tags": []
   },
   "outputs": [],
   "source": [
    "SAVE_DATA = True\n",
    "if SAVE_DATA:\n",
    "    (DATA_DIR / DATASET / \"processed\").mkdir(parents=True, exist_ok=True)"
   ]
  },
  {
   "cell_type": "markdown",
   "id": "f32ac109-502b-4e7d-b14c-bce10cd9e59d",
   "metadata": {
    "tags": []
   },
   "source": [
    "## Data loading"
   ]
  },
  {
   "cell_type": "code",
   "execution_count": 6,
   "id": "aaa3eb67-40fd-421e-9eae-b80acfe3cc84",
   "metadata": {
    "tags": []
   },
   "outputs": [],
   "source": [
    "adata_velo = sc.read_loom(DATA_DIR / DATASET / \"raw\" / \"Nestorowa.loom\")\n",
    "adata_p = sc.read_h5ad(DATA_DIR / DATASET / \"raw\" / \"adata_nestorowa.h5ad\")"
   ]
  },
  {
   "cell_type": "code",
   "execution_count": 7,
   "id": "f325c5c6-8720-43ba-b4bc-c1acdcabbb1f",
   "metadata": {
    "tags": []
   },
   "outputs": [
    {
     "data": {
      "text/html": [
       "<div>\n",
       "<style scoped>\n",
       "    .dataframe tbody tr th:only-of-type {\n",
       "        vertical-align: middle;\n",
       "    }\n",
       "\n",
       "    .dataframe tbody tr th {\n",
       "        vertical-align: top;\n",
       "    }\n",
       "\n",
       "    .dataframe thead th {\n",
       "        text-align: right;\n",
       "    }\n",
       "</style>\n",
       "<table border=\"1\" class=\"dataframe\">\n",
       "  <thead>\n",
       "    <tr style=\"text-align: right;\">\n",
       "      <th></th>\n",
       "      <th>cell_IDs</th>\n",
       "      <th>cell_types_IDs</th>\n",
       "      <th>cell_types_broad</th>\n",
       "      <th>cell_types_fine</th>\n",
       "      <th>cell_types_broad_cleaned</th>\n",
       "      <th>n_counts</th>\n",
       "      <th>n_genes</th>\n",
       "      <th>mito_ratio</th>\n",
       "      <th>initial_size_spliced</th>\n",
       "      <th>initial_size_unspliced</th>\n",
       "      <th>initial_size</th>\n",
       "      <th>size_factors_x</th>\n",
       "      <th>size_factors_s</th>\n",
       "      <th>size_factors_u</th>\n",
       "      <th>leiden</th>\n",
       "      <th>velocity_self_transition</th>\n",
       "    </tr>\n",
       "  </thead>\n",
       "  <tbody>\n",
       "    <tr>\n",
       "      <th>SRR3558184</th>\n",
       "      <td>HSPC_001_rep</td>\n",
       "      <td>HSPC</td>\n",
       "      <td>MPP_broad, STHSC_broad</td>\n",
       "      <td>None</td>\n",
       "      <td>MPP_broad</td>\n",
       "      <td>1404060.0</td>\n",
       "      <td>5826</td>\n",
       "      <td>0.0</td>\n",
       "      <td>1404060</td>\n",
       "      <td>224383</td>\n",
       "      <td>1404060.0</td>\n",
       "      <td>2.722215</td>\n",
       "      <td>2.722215</td>\n",
       "      <td>2.770269</td>\n",
       "      <td>1</td>\n",
       "      <td>0.113736</td>\n",
       "    </tr>\n",
       "    <tr>\n",
       "      <th>SRR3558185</th>\n",
       "      <td>HSPC_002_rep</td>\n",
       "      <td>HSPC</td>\n",
       "      <td>LTHSC_broad</td>\n",
       "      <td>LTHSC</td>\n",
       "      <td>LTHSC_broad</td>\n",
       "      <td>130334.0</td>\n",
       "      <td>4730</td>\n",
       "      <td>0.0</td>\n",
       "      <td>130334</td>\n",
       "      <td>19788</td>\n",
       "      <td>130334.0</td>\n",
       "      <td>0.242590</td>\n",
       "      <td>0.242590</td>\n",
       "      <td>0.211278</td>\n",
       "      <td>1</td>\n",
       "      <td>0.106622</td>\n",
       "    </tr>\n",
       "    <tr>\n",
       "      <th>SRR3558186</th>\n",
       "      <td>HSPC_003_rep</td>\n",
       "      <td>HSPC</td>\n",
       "      <td>MPP_broad, MPP3_broad</td>\n",
       "      <td>None</td>\n",
       "      <td>MPP_broad</td>\n",
       "      <td>627148.0</td>\n",
       "      <td>6372</td>\n",
       "      <td>0.0</td>\n",
       "      <td>627148</td>\n",
       "      <td>84188</td>\n",
       "      <td>627148.0</td>\n",
       "      <td>1.043037</td>\n",
       "      <td>1.043037</td>\n",
       "      <td>1.068530</td>\n",
       "      <td>3</td>\n",
       "      <td>0.022092</td>\n",
       "    </tr>\n",
       "    <tr>\n",
       "      <th>SRR3558187</th>\n",
       "      <td>HSPC_004_rep</td>\n",
       "      <td>HSPC</td>\n",
       "      <td>LMPP_broad</td>\n",
       "      <td>LMPP</td>\n",
       "      <td>LMPP_broad</td>\n",
       "      <td>317301.0</td>\n",
       "      <td>5536</td>\n",
       "      <td>0.0</td>\n",
       "      <td>317301</td>\n",
       "      <td>54361</td>\n",
       "      <td>317301.0</td>\n",
       "      <td>0.548139</td>\n",
       "      <td>0.548139</td>\n",
       "      <td>0.602953</td>\n",
       "      <td>0</td>\n",
       "      <td>0.158245</td>\n",
       "    </tr>\n",
       "    <tr>\n",
       "      <th>SRR3558189</th>\n",
       "      <td>HSPC_006_rep</td>\n",
       "      <td>HSPC</td>\n",
       "      <td>LMPP_broad</td>\n",
       "      <td>LMPP</td>\n",
       "      <td>LMPP_broad</td>\n",
       "      <td>335563.0</td>\n",
       "      <td>6270</td>\n",
       "      <td>0.0</td>\n",
       "      <td>335563</td>\n",
       "      <td>62426</td>\n",
       "      <td>335563.0</td>\n",
       "      <td>0.612579</td>\n",
       "      <td>0.612579</td>\n",
       "      <td>0.806794</td>\n",
       "      <td>0</td>\n",
       "      <td>0.147797</td>\n",
       "    </tr>\n",
       "    <tr>\n",
       "      <th>...</th>\n",
       "      <td>...</td>\n",
       "      <td>...</td>\n",
       "      <td>...</td>\n",
       "      <td>...</td>\n",
       "      <td>...</td>\n",
       "      <td>...</td>\n",
       "      <td>...</td>\n",
       "      <td>...</td>\n",
       "      <td>...</td>\n",
       "      <td>...</td>\n",
       "      <td>...</td>\n",
       "      <td>...</td>\n",
       "      <td>...</td>\n",
       "      <td>...</td>\n",
       "      <td>...</td>\n",
       "      <td>...</td>\n",
       "    </tr>\n",
       "    <tr>\n",
       "      <th>SRR3560099</th>\n",
       "      <td>Prog_848_rep</td>\n",
       "      <td>Prog</td>\n",
       "      <td>GMP_broad</td>\n",
       "      <td>GMP</td>\n",
       "      <td>GMP_broad</td>\n",
       "      <td>194009.0</td>\n",
       "      <td>5750</td>\n",
       "      <td>0.0</td>\n",
       "      <td>194009</td>\n",
       "      <td>39021</td>\n",
       "      <td>194009.0</td>\n",
       "      <td>0.340196</td>\n",
       "      <td>0.340196</td>\n",
       "      <td>0.453426</td>\n",
       "      <td>9</td>\n",
       "      <td>0.174135</td>\n",
       "    </tr>\n",
       "    <tr>\n",
       "      <th>SRR3560100</th>\n",
       "      <td>Prog_849_rep</td>\n",
       "      <td>Prog</td>\n",
       "      <td>CMP_broad</td>\n",
       "      <td>CMP</td>\n",
       "      <td>CMP_broad</td>\n",
       "      <td>240624.0</td>\n",
       "      <td>5787</td>\n",
       "      <td>0.0</td>\n",
       "      <td>240624</td>\n",
       "      <td>32157</td>\n",
       "      <td>240624.0</td>\n",
       "      <td>0.442644</td>\n",
       "      <td>0.442644</td>\n",
       "      <td>0.396637</td>\n",
       "      <td>6</td>\n",
       "      <td>0.084609</td>\n",
       "    </tr>\n",
       "    <tr>\n",
       "      <th>SRR3560101</th>\n",
       "      <td>Prog_850_rep</td>\n",
       "      <td>Prog</td>\n",
       "      <td>MEP_broad</td>\n",
       "      <td>None</td>\n",
       "      <td>MEP_broad</td>\n",
       "      <td>608044.0</td>\n",
       "      <td>7619</td>\n",
       "      <td>0.0</td>\n",
       "      <td>608044</td>\n",
       "      <td>41827</td>\n",
       "      <td>608044.0</td>\n",
       "      <td>0.868808</td>\n",
       "      <td>0.868808</td>\n",
       "      <td>0.641310</td>\n",
       "      <td>2</td>\n",
       "      <td>0.010177</td>\n",
       "    </tr>\n",
       "    <tr>\n",
       "      <th>SRR3560102</th>\n",
       "      <td>Prog_851_rep</td>\n",
       "      <td>Prog</td>\n",
       "      <td>CMP_broad</td>\n",
       "      <td>CMP</td>\n",
       "      <td>CMP_broad</td>\n",
       "      <td>323195.0</td>\n",
       "      <td>6473</td>\n",
       "      <td>0.0</td>\n",
       "      <td>323195</td>\n",
       "      <td>86099</td>\n",
       "      <td>323195.0</td>\n",
       "      <td>0.534781</td>\n",
       "      <td>0.534781</td>\n",
       "      <td>1.087060</td>\n",
       "      <td>6</td>\n",
       "      <td>0.129851</td>\n",
       "    </tr>\n",
       "    <tr>\n",
       "      <th>SRR3560103</th>\n",
       "      <td>Prog_852_rep</td>\n",
       "      <td>Prog</td>\n",
       "      <td>MEP_broad</td>\n",
       "      <td>MEP</td>\n",
       "      <td>MEP_broad</td>\n",
       "      <td>516834.0</td>\n",
       "      <td>7249</td>\n",
       "      <td>0.0</td>\n",
       "      <td>516834</td>\n",
       "      <td>35891</td>\n",
       "      <td>516834.0</td>\n",
       "      <td>0.788027</td>\n",
       "      <td>0.788027</td>\n",
       "      <td>0.523927</td>\n",
       "      <td>4</td>\n",
       "      <td>0.212272</td>\n",
       "    </tr>\n",
       "  </tbody>\n",
       "</table>\n",
       "<p>1772 rows × 16 columns</p>\n",
       "</div>"
      ],
      "text/plain": [
       "                cell_IDs cell_types_IDs        cell_types_broad  \\\n",
       "SRR3558184  HSPC_001_rep           HSPC  MPP_broad, STHSC_broad   \n",
       "SRR3558185  HSPC_002_rep           HSPC             LTHSC_broad   \n",
       "SRR3558186  HSPC_003_rep           HSPC   MPP_broad, MPP3_broad   \n",
       "SRR3558187  HSPC_004_rep           HSPC              LMPP_broad   \n",
       "SRR3558189  HSPC_006_rep           HSPC              LMPP_broad   \n",
       "...                  ...            ...                     ...   \n",
       "SRR3560099  Prog_848_rep           Prog               GMP_broad   \n",
       "SRR3560100  Prog_849_rep           Prog               CMP_broad   \n",
       "SRR3560101  Prog_850_rep           Prog               MEP_broad   \n",
       "SRR3560102  Prog_851_rep           Prog               CMP_broad   \n",
       "SRR3560103  Prog_852_rep           Prog               MEP_broad   \n",
       "\n",
       "           cell_types_fine cell_types_broad_cleaned   n_counts  n_genes  \\\n",
       "SRR3558184            None                MPP_broad  1404060.0     5826   \n",
       "SRR3558185           LTHSC              LTHSC_broad   130334.0     4730   \n",
       "SRR3558186            None                MPP_broad   627148.0     6372   \n",
       "SRR3558187            LMPP               LMPP_broad   317301.0     5536   \n",
       "SRR3558189            LMPP               LMPP_broad   335563.0     6270   \n",
       "...                    ...                      ...        ...      ...   \n",
       "SRR3560099             GMP                GMP_broad   194009.0     5750   \n",
       "SRR3560100             CMP                CMP_broad   240624.0     5787   \n",
       "SRR3560101            None                MEP_broad   608044.0     7619   \n",
       "SRR3560102             CMP                CMP_broad   323195.0     6473   \n",
       "SRR3560103             MEP                MEP_broad   516834.0     7249   \n",
       "\n",
       "            mito_ratio  initial_size_spliced  initial_size_unspliced  \\\n",
       "SRR3558184         0.0               1404060                  224383   \n",
       "SRR3558185         0.0                130334                   19788   \n",
       "SRR3558186         0.0                627148                   84188   \n",
       "SRR3558187         0.0                317301                   54361   \n",
       "SRR3558189         0.0                335563                   62426   \n",
       "...                ...                   ...                     ...   \n",
       "SRR3560099         0.0                194009                   39021   \n",
       "SRR3560100         0.0                240624                   32157   \n",
       "SRR3560101         0.0                608044                   41827   \n",
       "SRR3560102         0.0                323195                   86099   \n",
       "SRR3560103         0.0                516834                   35891   \n",
       "\n",
       "            initial_size  size_factors_x  size_factors_s  size_factors_u  \\\n",
       "SRR3558184     1404060.0        2.722215        2.722215        2.770269   \n",
       "SRR3558185      130334.0        0.242590        0.242590        0.211278   \n",
       "SRR3558186      627148.0        1.043037        1.043037        1.068530   \n",
       "SRR3558187      317301.0        0.548139        0.548139        0.602953   \n",
       "SRR3558189      335563.0        0.612579        0.612579        0.806794   \n",
       "...                  ...             ...             ...             ...   \n",
       "SRR3560099      194009.0        0.340196        0.340196        0.453426   \n",
       "SRR3560100      240624.0        0.442644        0.442644        0.396637   \n",
       "SRR3560101      608044.0        0.868808        0.868808        0.641310   \n",
       "SRR3560102      323195.0        0.534781        0.534781        1.087060   \n",
       "SRR3560103      516834.0        0.788027        0.788027        0.523927   \n",
       "\n",
       "           leiden  velocity_self_transition  \n",
       "SRR3558184      1                  0.113736  \n",
       "SRR3558185      1                  0.106622  \n",
       "SRR3558186      3                  0.022092  \n",
       "SRR3558187      0                  0.158245  \n",
       "SRR3558189      0                  0.147797  \n",
       "...           ...                       ...  \n",
       "SRR3560099      9                  0.174135  \n",
       "SRR3560100      6                  0.084609  \n",
       "SRR3560101      2                  0.010177  \n",
       "SRR3560102      6                  0.129851  \n",
       "SRR3560103      4                  0.212272  \n",
       "\n",
       "[1772 rows x 16 columns]"
      ]
     },
     "execution_count": 7,
     "metadata": {},
     "output_type": "execute_result"
    }
   ],
   "source": [
    "adata_p.obs"
   ]
  },
  {
   "cell_type": "markdown",
   "id": "7efc2cf2-aae1-466a-a699-8b6735c74773",
   "metadata": {},
   "source": [
    "## Preprocessing"
   ]
  },
  {
   "cell_type": "code",
   "execution_count": 8,
   "id": "3d110924-050c-4fba-bacb-e6391947e0f4",
   "metadata": {
    "tags": []
   },
   "outputs": [
    {
     "data": {
      "text/plain": [
       "Index(['onefilepercell_SRR3556264Aligned_and_others_KPB9A:SRR3556264Aligned.out.bam',\n",
       "       'onefilepercell_SRR3556264Aligned_and_others_KPB9A:SRR3556265Aligned.out.bam',\n",
       "       'onefilepercell_SRR3556264Aligned_and_others_KPB9A:SRR3556266Aligned.out.bam',\n",
       "       'onefilepercell_SRR3556264Aligned_and_others_KPB9A:SRR3556267Aligned.out.bam',\n",
       "       'onefilepercell_SRR3556264Aligned_and_others_KPB9A:SRR3556268Aligned.out.bam'],\n",
       "      dtype='object', name='CellID')"
      ]
     },
     "execution_count": 8,
     "metadata": {},
     "output_type": "execute_result"
    }
   ],
   "source": [
    "adata_velo.obs_names[:5]"
   ]
  },
  {
   "cell_type": "code",
   "execution_count": 9,
   "id": "fb1e2db8-ba00-4595-9b33-acad1736641c",
   "metadata": {
    "tags": []
   },
   "outputs": [],
   "source": [
    "adata_velo.obs_names = [\n",
    "    i.replace(\"onefilepercell_SRR3556264Aligned_and_others_KPB9A:\", \"\") for i in adata_velo.obs_names\n",
    "]\n",
    "adata_velo.obs_names = [i.replace(\"Aligned.out.bam\", \"\") for i in adata_velo.obs_names]"
   ]
  },
  {
   "cell_type": "code",
   "execution_count": 10,
   "id": "f9c657c8-f4a5-4727-9582-bc49e363e7aa",
   "metadata": {
    "tags": []
   },
   "outputs": [],
   "source": [
    "adata_velo = adata_velo[adata_p.obs_names].copy()"
   ]
  },
  {
   "cell_type": "code",
   "execution_count": 11,
   "id": "376d8364-aa61-4a43-b40a-8e213d9f409e",
   "metadata": {
    "tags": []
   },
   "outputs": [],
   "source": [
    "adata_velo.obs_names = adata_p.obs[\"cell_IDs\"]\n",
    "adata_velo.obs_names = [i.replace(\"_rep\", \"\") for i in adata_velo.obs_names]"
   ]
  },
  {
   "cell_type": "code",
   "execution_count": 12,
   "id": "f077fffd-f2de-431b-b2f9-915749a6d6ef",
   "metadata": {},
   "outputs": [
    {
     "data": {
      "text/plain": [
       "Index(['HSPC_001', 'HSPC_002', 'HSPC_003', 'HSPC_004', 'HSPC_006', 'HSPC_008',\n",
       "       'HSPC_009', 'HSPC_011', 'HSPC_012', 'HSPC_013',\n",
       "       ...\n",
       "       'Prog_843', 'Prog_844', 'Prog_845', 'Prog_846', 'Prog_847', 'Prog_848',\n",
       "       'Prog_849', 'Prog_850', 'Prog_851', 'Prog_852'],\n",
       "      dtype='object', length=1772)"
      ]
     },
     "execution_count": 12,
     "metadata": {},
     "output_type": "execute_result"
    }
   ],
   "source": [
    "adata_velo.obs_names"
   ]
  },
  {
   "cell_type": "code",
   "execution_count": 13,
   "id": "ec7f5509-a14e-4d9f-9ced-89a8eb1359a5",
   "metadata": {
    "tags": []
   },
   "outputs": [],
   "source": [
    "adata_velo.var_names_make_unique()"
   ]
  },
  {
   "cell_type": "code",
   "execution_count": 14,
   "id": "5e2fd9a3-16b1-4e7f-8286-1abaa10d9c06",
   "metadata": {
    "tags": []
   },
   "outputs": [
    {
     "data": {
      "image/png": "[encoded data removed]",
      "text/plain": [
       "<Figure size 1000x200 with 1 Axes>"
      ]
     },
     "metadata": {},
     "output_type": "display_data"
    }
   ],
   "source": [
    "scv.pl.proportions(adata_velo)"
   ]
  },
  {
   "cell_type": "code",
   "execution_count": 15,
   "id": "1157fb1d-37a7-4e10-bd62-887cf2484f4d",
   "metadata": {
    "tags": []
   },
   "outputs": [
    {
     "name": "stdout",
     "output_type": "stream",
     "text": [
      "Filtered out 18356 genes that are detected 20 counts (shared).\n",
      "Normalized count data: X, spliced, unspliced.\n",
      "Extracted 3000 highly variable genes.\n",
      "Logarithmized X.\n"
     ]
    },
    {
     "name": "stderr",
     "output_type": "stream",
     "text": [
      "/home/icb/weixu.wang/miniconda3/envs/regvelo_test/lib/python3.10/site-packages/scvelo/preprocessing/utils.py:705: DeprecationWarning: `log1p` is deprecated since scVelo v0.3.0 and will be removed in a future version. Please use `log1p` from `scanpy.pp` instead.\n",
      "  log1p(adata)\n"
     ]
    }
   ],
   "source": [
    "scv.pp.filter_and_normalize(adata_velo, min_shared_counts=20, n_top_genes=3000)"
   ]
  },
  {
   "cell_type": "code",
   "execution_count": 16,
   "id": "e338f3ce-d349-4092-88d5-90f20c7fb704",
   "metadata": {
    "tags": []
   },
   "outputs": [],
   "source": [
    "adata_velo.obs_names = [i.replace(\"-\", \"_\") for i in adata_velo.obs_names]"
   ]
  },
  {
   "cell_type": "markdown",
   "id": "65aff8e6-dacc-4fad-9ec2-18c6f47900a8",
   "metadata": {
    "tags": []
   },
   "source": [
    "## Processing Dataset"
   ]
  },
  {
   "cell_type": "code",
   "execution_count": 17,
   "id": "ed4a2018-046f-4c3e-986d-f070779916bc",
   "metadata": {},
   "outputs": [
    {
     "name": "stdout",
     "output_type": "stream",
     "text": [
      "AnnData object with n_obs × n_vars = 1772 × 3000\n",
      "    obs: 'cell_IDs', 'cell_types_IDs', 'cell_types_broad', 'cell_types_fine', 'cell_types_broad_cleaned', 'n_counts', 'n_genes', 'mito_ratio', 'initial_size_spliced', 'initial_size_unspliced', 'initial_size', 'size_factors_x', 'size_factors_s', 'size_factors_u', 'leiden', 'velocity_self_transition'\n",
      "    var: 'Accession', 'Chromosome', 'End', 'Start', 'Strand', 'gene_count_corr', 'means', 'dispersions', 'dispersions_norm', 'highly_variable'\n",
      "    uns: 'log1p'\n",
      "    layers: 'matrix', 'ambiguous', 'spanning', 'spliced', 'unspliced'\n",
      "computing PCA\n",
      "    with n_comps=50\n",
      "    finished (0:00:02)\n",
      "computing neighbors\n",
      "    using 'X_pca' with n_pcs = 30\n"
     ]
    },
    {
     "name": "stderr",
     "output_type": "stream",
     "text": [
      "2025-10-25 11:03:55.896387: E external/local_xla/xla/stream_executor/cuda/cuda_fft.cc:477] Unable to register cuFFT factory: Attempting to register factory for plugin cuFFT when one has already been registered\n",
      "WARNING: All log messages before absl::InitializeLog() is called are written to STDERR\n",
      "E0000 00:00:1761383037.019661 1275922 cuda_dnn.cc:8310] Unable to register cuDNN factory: Attempting to register factory for plugin cuDNN when one has already been registered\n",
      "E0000 00:00:1761383037.440171 1275922 cuda_blas.cc:1418] Unable to register cuBLAS factory: Attempting to register factory for plugin cuBLAS when one has already been registered\n"
     ]
    },
    {
     "name": "stdout",
     "output_type": "stream",
     "text": [
      "    finished (0:01:55)\n",
      "computing moments based on connectivities\n",
      "    finished (0:00:00) --> added \n",
      "    'Ms' and 'Mu', moments of un/spliced abundances (adata.layers)\n",
      "computing velocities\n",
      "    finished (0:00:00) --> added \n",
      "    'velocity', velocity vectors for each individual cell (adata.layers)\n"
     ]
    }
   ],
   "source": [
    "adata_subset = adata_velo.copy()\n",
    "## set annotation\n",
    "adata_p.obs_names = adata_velo.obs_names\n",
    "adata_subset.obs = adata_p.obs\n",
    "\n",
    "print(adata_subset)\n",
    "\n",
    "## Velocity pipeline\n",
    "sc.tl.pca(adata_subset)\n",
    "sc.pp.neighbors(adata_subset, n_neighbors=30, n_pcs=30)\n",
    "scv.pp.moments(adata_subset)\n",
    "adata_subset = preprocess_data(adata_subset, filter_on_r2=True)\n",
    "\n",
    "if SAVE_DATA:\n",
    "    adata_subset.write_h5ad(DATA_DIR / DATASET / \"processed\" / \"mHSC_ExpressionData.h5ad\")"
   ]
  },
  {
   "cell_type": "code",
   "execution_count": null,
   "id": "5c15ff4f-1833-4476-bfc0-eb5b4131dd83",
   "metadata": {},
   "outputs": [],
   "source": []
  }
 ],
 "metadata": {
  "kernelspec": {
   "display_name": "Python [conda env:regvelo_test]",
   "language": "python",
   "name": "conda-env-regvelo_test-py"
  },
  "language_info": {
   "codemirror_mode": {
    "name": "ipython",
    "version": 3
   },
   "file_extension": ".py",
   "mimetype": "text/x-python",
   "name": "python",
   "nbconvert_exporter": "python",
   "pygments_lexer": "ipython3",
   "version": "3.10.15"
  }
 },
 "nbformat": 4,
 "nbformat_minor": 5
}
