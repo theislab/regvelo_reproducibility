{
 "cells": [
  {
   "cell_type": "markdown",
   "id": "a787aadd-11f9-44d0-9d11-0c29a1668901",
   "metadata": {
    "tags": []
   },
   "source": [
    "# GRN calibration evaluation"
   ]
  },
  {
   "cell_type": "markdown",
   "id": "f529c95d-4915-4575-b533-72c5d5134d83",
   "metadata": {},
   "source": [
    "## Library import"
   ]
  },
  {
   "cell_type": "code",
   "execution_count": 1,
   "id": "faa0fba9-371a-46da-8405-d0c90b32650b",
   "metadata": {
    "tags": []
   },
   "outputs": [
    {
     "name": "stderr",
     "output_type": "stream",
     "text": [
      "/home/icb/weixu.wang/miniconda3/envs/regvelo-py310/lib/python3.10/site-packages/anndata/utils.py:434: FutureWarning: Importing read_csv from `anndata` is deprecated. Import anndata.io.read_csv instead.\n",
      "  warnings.warn(msg, FutureWarning)\n",
      "/home/icb/weixu.wang/miniconda3/envs/regvelo-py310/lib/python3.10/site-packages/anndata/utils.py:434: FutureWarning: Importing read_excel from `anndata` is deprecated. Import anndata.io.read_excel instead.\n",
      "  warnings.warn(msg, FutureWarning)\n",
      "/home/icb/weixu.wang/miniconda3/envs/regvelo-py310/lib/python3.10/site-packages/anndata/utils.py:434: FutureWarning: Importing read_hdf from `anndata` is deprecated. Import anndata.io.read_hdf instead.\n",
      "  warnings.warn(msg, FutureWarning)\n",
      "/home/icb/weixu.wang/miniconda3/envs/regvelo-py310/lib/python3.10/site-packages/anndata/utils.py:434: FutureWarning: Importing read_loom from `anndata` is deprecated. Import anndata.io.read_loom instead.\n",
      "  warnings.warn(msg, FutureWarning)\n",
      "/home/icb/weixu.wang/miniconda3/envs/regvelo-py310/lib/python3.10/site-packages/anndata/utils.py:434: FutureWarning: Importing read_mtx from `anndata` is deprecated. Import anndata.io.read_mtx instead.\n",
      "  warnings.warn(msg, FutureWarning)\n",
      "/home/icb/weixu.wang/miniconda3/envs/regvelo-py310/lib/python3.10/site-packages/anndata/utils.py:434: FutureWarning: Importing read_text from `anndata` is deprecated. Import anndata.io.read_text instead.\n",
      "  warnings.warn(msg, FutureWarning)\n",
      "/home/icb/weixu.wang/miniconda3/envs/regvelo-py310/lib/python3.10/site-packages/anndata/utils.py:434: FutureWarning: Importing read_umi_tools from `anndata` is deprecated. Import anndata.io.read_umi_tools instead.\n",
      "  warnings.warn(msg, FutureWarning)\n",
      "/home/icb/weixu.wang/miniconda3/envs/regvelo-py310/lib/python3.10/site-packages/louvain/__init__.py:54: UserWarning: pkg_resources is deprecated as an API. See https://setuptools.pypa.io/en/latest/pkg_resources.html. The pkg_resources package is slated for removal as early as 2025-11-30. Refrain from using this package or pin to Setuptools<81.\n",
      "  from pkg_resources import get_distribution, DistributionNotFound\n",
      "/home/icb/weixu.wang/miniconda3/envs/regvelo-py310/lib/python3.10/site-packages/anndata/utils.py:434: FutureWarning: Importing read_csv from `anndata` is deprecated. Import anndata.io.read_csv instead.\n",
      "  warnings.warn(msg, FutureWarning)\n",
      "/home/icb/weixu.wang/miniconda3/envs/regvelo-py310/lib/python3.10/site-packages/anndata/utils.py:434: FutureWarning: Importing read_loom from `anndata` is deprecated. Import anndata.io.read_loom instead.\n",
      "  warnings.warn(msg, FutureWarning)\n",
      "/home/icb/weixu.wang/miniconda3/envs/regvelo-py310/lib/python3.10/site-packages/anndata/utils.py:434: FutureWarning: Importing read_text from `anndata` is deprecated. Import anndata.io.read_text instead.\n",
      "  warnings.warn(msg, FutureWarning)\n",
      "/home/icb/weixu.wang/miniconda3/envs/regvelo-py310/lib/python3.10/site-packages/anndata/utils.py:434: FutureWarning: Importing CSCDataset from `anndata.experimental` is deprecated. Import anndata.abc.CSCDataset instead.\n",
      "  warnings.warn(msg, FutureWarning)\n",
      "/home/icb/weixu.wang/miniconda3/envs/regvelo-py310/lib/python3.10/site-packages/anndata/utils.py:434: FutureWarning: Importing CSRDataset from `anndata.experimental` is deprecated. Import anndata.abc.CSRDataset instead.\n",
      "  warnings.warn(msg, FutureWarning)\n",
      "/home/icb/weixu.wang/miniconda3/envs/regvelo-py310/lib/python3.10/site-packages/anndata/utils.py:434: FutureWarning: Importing read_elem from `anndata.experimental` is deprecated. Import anndata.io.read_elem instead.\n",
      "  warnings.warn(msg, FutureWarning)\n",
      "/home/icb/weixu.wang/miniconda3/envs/regvelo-py310/lib/python3.10/site-packages/jaxlib/plugin_support.py:71: RuntimeWarning: JAX plugin jax_cuda12_plugin version 0.5.0 is installed, but it is not compatible with the installed jaxlib version 0.6.2, so it will not be used.\n",
      "  warnings.warn(\n"
     ]
    }
   ],
   "source": [
    "import numpy as np\n",
    "import pandas as pd\n",
    "import torch\n",
    "from sklearn.metrics import roc_auc_score\n",
    "import scanpy as sc\n",
    "\n",
    "import sklearn\n",
    "import copy\n",
    "\n",
    "import anndata as ad\n",
    "import scvi\n",
    "from regvelo import REGVELOVI\n",
    "\n",
    "import mplscience\n",
    "import seaborn as sns\n",
    "from matplotlib import pyplot as plt\n",
    "\n",
    "from rgv_tools import DATA_DIR,FIG_DIR\n",
    "\n",
    "from itertools import product, permutations\n",
    "from operator import pos\n",
    "\n",
    "import copy\n",
    "from inferelator.postprocessing.model_metrics import RankSummingMetric, RankSummaryPR"
   ]
  },
  {
   "cell_type": "markdown",
   "id": "b0ccb2bc-0c9c-4cd6-bd6b-9d5dab22c4b0",
   "metadata": {},
   "source": [
    "## General setting"
   ]
  },
  {
   "cell_type": "code",
   "execution_count": 2,
   "id": "309bea32-a2bc-4d97-9ce8-c0584049ee99",
   "metadata": {
    "tags": []
   },
   "outputs": [
    {
     "name": "stderr",
     "output_type": "stream",
     "text": [
      "[rank: 0] Seed set to 0\n"
     ]
    }
   ],
   "source": [
    "scvi.settings.seed = 0"
   ]
  },
  {
   "cell_type": "markdown",
   "id": "3bf9fe87-5e7c-4466-ae97-ebddf1c4c4e3",
   "metadata": {},
   "source": [
    "## Constants"
   ]
  },
  {
   "cell_type": "code",
   "execution_count": 3,
   "id": "f72e93b4-12c7-4514-9960-7d4f9c3382a9",
   "metadata": {
    "tags": []
   },
   "outputs": [],
   "source": [
    "DATASET = \"mHSPC\""
   ]
  },
  {
   "cell_type": "code",
   "execution_count": 4,
   "id": "1788b54d-8035-48bd-8d07-f9eae7fbb547",
   "metadata": {
    "tags": []
   },
   "outputs": [],
   "source": [
    "SAVE_DATA = True\n",
    "SAVE_FIGURE = True\n",
    "if SAVE_DATA:\n",
    "    (DATA_DIR / DATASET / \"results\").mkdir(parents=True, exist_ok=True)\n",
    "if SAVE_FIGURE:\n",
    "    (FIG_DIR / DATASET).mkdir(parents=True, exist_ok=True)"
   ]
  },
  {
   "cell_type": "markdown",
   "id": "a357fece-b6ed-483a-ac67-5ecdb8c2cd8c",
   "metadata": {},
   "source": [
    "## Define functions\n",
    "\n",
    "We followed the GRN calibration evaluation workflow provided by PMF-GRN, please check https://github.com/nyu-dl/pmf-grn/blob/main/evaluate_calibration.py"
   ]
  },
  {
   "cell_type": "code",
   "execution_count": 5,
   "id": "c90dae92-2a00-4c7b-85da-767e0ece847b",
   "metadata": {
    "tags": []
   },
   "outputs": [],
   "source": [
    "RankSummingMetricCopy = copy.deepcopy(RankSummingMetric)\n",
    "\n",
    "def get_calibration_score(to_eval, gold_standard, filter_method='overlap',method = \"auroc\"):\n",
    "    metrics = RankSummingMetricCopy([to_eval], gold_standard, filter_method)\n",
    "    \n",
    "    if method == \"auprc\":\n",
    "        data = RankSummaryPR.calculate_precision_recall(metrics.filtered_data)\n",
    "        auc = RankSummaryPR.calculate_aupr(data)\n",
    "    elif method == \"auroc\":\n",
    "        fpr, tpr, thresholds = sklearn.metrics.roc_curve(metrics.filtered_data[\"gold_standard\"],metrics.filtered_data[\"combined_confidences\"])\n",
    "        auc = sklearn.metrics.auc(fpr, tpr)\n",
    "    return auc"
   ]
  },
  {
   "cell_type": "markdown",
   "id": "a526a07d-370c-4d7b-b947-92345b491955",
   "metadata": {},
   "source": [
    "## Data loading"
   ]
  },
  {
   "cell_type": "code",
   "execution_count": 6,
   "id": "e8b17681-a628-4e2a-ab37-7826b647d7dd",
   "metadata": {
    "tags": []
   },
   "outputs": [],
   "source": [
    "adata = sc.read_h5ad(DATA_DIR / DATASET / \"processed\" / \"mHSC_ExpressionData.h5ad\")"
   ]
  },
  {
   "cell_type": "code",
   "execution_count": 7,
   "id": "de9e0571-10f3-43eb-b4c8-7f69908e49fe",
   "metadata": {
    "tags": []
   },
   "outputs": [],
   "source": [
    "TF = pd.read_csv(DATA_DIR / DATASET / \"raw\" / \"mouse-tfs.csv\")\n",
    "TF = [i[0].upper() + i[1:].lower() for i in TF[\"TF\"].tolist()]"
   ]
  },
  {
   "cell_type": "code",
   "execution_count": 8,
   "id": "926f9b25-6e12-4bf4-9ad5-a43f032c6a1b",
   "metadata": {
    "tags": []
   },
   "outputs": [],
   "source": [
    "TF = np.array(TF)[[i in adata.var_names for i in TF]]"
   ]
  },
  {
   "cell_type": "code",
   "execution_count": 9,
   "id": "685f4232-8d6f-4b52-b3dd-7dd9c806180c",
   "metadata": {
    "tags": []
   },
   "outputs": [
    {
     "data": {
      "text/plain": [
       "array(['Ankrd22', 'Ankrd7', 'Arntl2', 'Batf3', 'Bcl11b', 'Bmp6', 'Btg2',\n",
       "       'Chd7', 'Ciita', 'Cnot6l', 'Creb5', 'Csrp3', 'Ctr9', 'Ebf1',\n",
       "       'Egr2', 'Esr1', 'Ets1', 'Etv6', 'Eya1', 'Eya2', 'Eya4', 'Fos',\n",
       "       'Fosb', 'Gata1', 'Gata2', 'Gata3', 'Gfi1', 'Gfi1b', 'Glis3', 'Hlf',\n",
       "       'Hoxa9', 'Hspb1', 'Id2', 'Id3', 'Ifi204', 'Ikzf1', 'Ikzf3', 'Il10',\n",
       "       'Irf4', 'Irf8', 'Isl1', 'Klf1', 'Klf6', 'Kpna2', 'Ldb2', 'Lef1',\n",
       "       'Lmo4', 'Maf', 'Mapk11', 'Mecom', 'Mef2c', 'Meis1', 'Mllt3',\n",
       "       'Mmp9', 'Myb', 'Myc', 'Mycn', 'Nfatc2', 'Nfia', 'Nfil3', 'Nfkbiz',\n",
       "       'Nr1h4', 'Pax5', 'Pgr', 'Pou2af1', 'Prdm1', 'Rad54b', 'Rapgef3',\n",
       "       'Relb', 'Rora', 'Runx1t1', 'Satb1', 'Setbp1', 'Sla2', 'Smarca4',\n",
       "       'Spib', 'Stat3', 'Stat4', 'Tox2', 'Trib3', 'Trps1', 'Xbp1',\n",
       "       'Zbtb16', 'Zbtb20', 'Zbtb38', 'Zfp354a'], dtype='<U12')"
      ]
     },
     "execution_count": 9,
     "metadata": {},
     "output_type": "execute_result"
    }
   ],
   "source": [
    "TF"
   ]
  },
  {
   "cell_type": "markdown",
   "id": "d49a9099-4da4-4bb3-8ec0-19bc41637169",
   "metadata": {},
   "source": [
    "### Load ground truth (ChIP-seq)"
   ]
  },
  {
   "cell_type": "code",
   "execution_count": 10,
   "id": "bdd644dc-bc6e-441a-8cdf-83b94842cb0f",
   "metadata": {},
   "outputs": [],
   "source": [
    "gt = pd.read_csv(DATA_DIR / DATASET / \"raw\" / \"mHSC-ChIP-seq-network.csv\")\n",
    "gt[\"Gene1\"] =  [i[0].upper() + i[1:].lower() for i in gt[\"Gene1\"].tolist()]\n",
    "gt[\"Gene2\"] =  [i[0].upper() + i[1:].lower() for i in gt[\"Gene2\"].tolist()]\n",
    "gt = gt.loc[[i in TF for i in gt[\"Gene1\"]],:]\n",
    "gt = gt.loc[[i in adata.var_names for i in gt[\"Gene2\"]],:]\n",
    "\n",
    "p_class = pd.DataFrame(0,index = adata.var_names,columns = TF)\n",
    "\n",
    "for _, row in gt.iterrows():\n",
    "    reg = row['Gene1']\n",
    "    tar = row['Gene2']\n",
    "    if tar in p_class.index and reg in p_class.columns:\n",
    "        p_class.loc[tar, reg] = 1"
   ]
  },
  {
   "cell_type": "markdown",
   "id": "1b21128d-60bf-49c0-8377-8b5c344c37eb",
   "metadata": {},
   "source": [
    "## Running GRN to calculate caliberate estimate of error"
   ]
  },
  {
   "cell_type": "code",
   "execution_count": null,
   "id": "e7b8d2a2-001b-449e-b4b1-002d902de845",
   "metadata": {},
   "outputs": [],
   "source": [
    "REGVELOVI.setup_anndata(adata, spliced_layer=\"Ms\", unspliced_layer=\"Mu\")\n",
    "    \n",
    "for nrun in range(10):\n",
    "    vae = REGVELOVI(adata,regulators = TF)\n",
    "    vae.train()\n",
    "\n",
    "    vae.save(DATA_DIR / DATASET / \"processed\" / f\"hsc_model_run_{nrun}\")"
   ]
  },
  {
   "cell_type": "code",
   "execution_count": 13,
   "id": "f2d0adbc-347c-4e32-a0c8-a8ea32476e37",
   "metadata": {},
   "outputs": [
    {
     "name": "stdout",
     "output_type": "stream",
     "text": [
      "\u001b[34mINFO    \u001b[0m File                                                                                                      \n",
      "         \u001b[35m/lustre/groups/ml01/workspace/weixu.wang/regvelo_revision/parameter_tuning/caliaberate_error/hsc_model_run\u001b[0m\n",
      "         \u001b[35m_0/\u001b[0m\u001b[95mmodel.pt\u001b[0m already downloaded                                                                            \n"
     ]
    },
    {
     "name": "stderr",
     "output_type": "stream",
     "text": [
      "/home/icb/weixu.wang/miniconda3/envs/regvelo-py310/lib/python3.10/site-packages/lightning/fabric/plugins/environments/slurm.py:204: The `srun` command is available on your system but is not used. HINT: If your intention is to run Lightning on SLURM, prepend your python command with `srun` like so: srun python /home/icb/weixu.wang/miniconda3/envs/regvelo-py310/l ...\n"
     ]
    },
    {
     "name": "stdout",
     "output_type": "stream",
     "text": [
      "\u001b[34mINFO    \u001b[0m File                                                                                                      \n",
      "         \u001b[35m/lustre/groups/ml01/workspace/weixu.wang/regvelo_revision/parameter_tuning/caliaberate_error/hsc_model_run\u001b[0m\n",
      "         \u001b[35m_1/\u001b[0m\u001b[95mmodel.pt\u001b[0m already downloaded                                                                            \n"
     ]
    },
    {
     "name": "stderr",
     "output_type": "stream",
     "text": [
      "/home/icb/weixu.wang/miniconda3/envs/regvelo-py310/lib/python3.10/site-packages/lightning/fabric/plugins/environments/slurm.py:204: The `srun` command is available on your system but is not used. HINT: If your intention is to run Lightning on SLURM, prepend your python command with `srun` like so: srun python /home/icb/weixu.wang/miniconda3/envs/regvelo-py310/l ...\n"
     ]
    },
    {
     "name": "stdout",
     "output_type": "stream",
     "text": [
      "\u001b[34mINFO    \u001b[0m File                                                                                                      \n",
      "         \u001b[35m/lustre/groups/ml01/workspace/weixu.wang/regvelo_revision/parameter_tuning/caliaberate_error/hsc_model_run\u001b[0m\n",
      "         \u001b[35m_2/\u001b[0m\u001b[95mmodel.pt\u001b[0m already downloaded                                                                            \n"
     ]
    },
    {
     "name": "stderr",
     "output_type": "stream",
     "text": [
      "/home/icb/weixu.wang/miniconda3/envs/regvelo-py310/lib/python3.10/site-packages/lightning/fabric/plugins/environments/slurm.py:204: The `srun` command is available on your system but is not used. HINT: If your intention is to run Lightning on SLURM, prepend your python command with `srun` like so: srun python /home/icb/weixu.wang/miniconda3/envs/regvelo-py310/l ...\n"
     ]
    },
    {
     "name": "stdout",
     "output_type": "stream",
     "text": [
      "\u001b[34mINFO    \u001b[0m File                                                                                                      \n",
      "         \u001b[35m/lustre/groups/ml01/workspace/weixu.wang/regvelo_revision/parameter_tuning/caliaberate_error/hsc_model_run\u001b[0m\n",
      "         \u001b[35m_3/\u001b[0m\u001b[95mmodel.pt\u001b[0m already downloaded                                                                            \n"
     ]
    },
    {
     "name": "stderr",
     "output_type": "stream",
     "text": [
      "/home/icb/weixu.wang/miniconda3/envs/regvelo-py310/lib/python3.10/site-packages/lightning/fabric/plugins/environments/slurm.py:204: The `srun` command is available on your system but is not used. HINT: If your intention is to run Lightning on SLURM, prepend your python command with `srun` like so: srun python /home/icb/weixu.wang/miniconda3/envs/regvelo-py310/l ...\n"
     ]
    },
    {
     "name": "stdout",
     "output_type": "stream",
     "text": [
      "\u001b[34mINFO    \u001b[0m File                                                                                                      \n",
      "         \u001b[35m/lustre/groups/ml01/workspace/weixu.wang/regvelo_revision/parameter_tuning/caliaberate_error/hsc_model_run\u001b[0m\n",
      "         \u001b[35m_4/\u001b[0m\u001b[95mmodel.pt\u001b[0m already downloaded                                                                            \n"
     ]
    },
    {
     "name": "stderr",
     "output_type": "stream",
     "text": [
      "/home/icb/weixu.wang/miniconda3/envs/regvelo-py310/lib/python3.10/site-packages/lightning/fabric/plugins/environments/slurm.py:204: The `srun` command is available on your system but is not used. HINT: If your intention is to run Lightning on SLURM, prepend your python command with `srun` like so: srun python /home/icb/weixu.wang/miniconda3/envs/regvelo-py310/l ...\n"
     ]
    },
    {
     "name": "stdout",
     "output_type": "stream",
     "text": [
      "\u001b[34mINFO    \u001b[0m File                                                                                                      \n",
      "         \u001b[35m/lustre/groups/ml01/workspace/weixu.wang/regvelo_revision/parameter_tuning/caliaberate_error/hsc_model_run\u001b[0m\n",
      "         \u001b[35m_5/\u001b[0m\u001b[95mmodel.pt\u001b[0m already downloaded                                                                            \n"
     ]
    },
    {
     "name": "stderr",
     "output_type": "stream",
     "text": [
      "/home/icb/weixu.wang/miniconda3/envs/regvelo-py310/lib/python3.10/site-packages/lightning/fabric/plugins/environments/slurm.py:204: The `srun` command is available on your system but is not used. HINT: If your intention is to run Lightning on SLURM, prepend your python command with `srun` like so: srun python /home/icb/weixu.wang/miniconda3/envs/regvelo-py310/l ...\n"
     ]
    },
    {
     "name": "stdout",
     "output_type": "stream",
     "text": [
      "\u001b[34mINFO    \u001b[0m File                                                                                                      \n",
      "         \u001b[35m/lustre/groups/ml01/workspace/weixu.wang/regvelo_revision/parameter_tuning/caliaberate_error/hsc_model_run\u001b[0m\n",
      "         \u001b[35m_6/\u001b[0m\u001b[95mmodel.pt\u001b[0m already downloaded                                                                            \n"
     ]
    },
    {
     "name": "stderr",
     "output_type": "stream",
     "text": [
      "/home/icb/weixu.wang/miniconda3/envs/regvelo-py310/lib/python3.10/site-packages/lightning/fabric/plugins/environments/slurm.py:204: The `srun` command is available on your system but is not used. HINT: If your intention is to run Lightning on SLURM, prepend your python command with `srun` like so: srun python /home/icb/weixu.wang/miniconda3/envs/regvelo-py310/l ...\n"
     ]
    },
    {
     "name": "stdout",
     "output_type": "stream",
     "text": [
      "\u001b[34mINFO    \u001b[0m File                                                                                                      \n",
      "         \u001b[35m/lustre/groups/ml01/workspace/weixu.wang/regvelo_revision/parameter_tuning/caliaberate_error/hsc_model_run\u001b[0m\n",
      "         \u001b[35m_7/\u001b[0m\u001b[95mmodel.pt\u001b[0m already downloaded                                                                            \n"
     ]
    },
    {
     "name": "stderr",
     "output_type": "stream",
     "text": [
      "/home/icb/weixu.wang/miniconda3/envs/regvelo-py310/lib/python3.10/site-packages/lightning/fabric/plugins/environments/slurm.py:204: The `srun` command is available on your system but is not used. HINT: If your intention is to run Lightning on SLURM, prepend your python command with `srun` like so: srun python /home/icb/weixu.wang/miniconda3/envs/regvelo-py310/l ...\n"
     ]
    },
    {
     "name": "stdout",
     "output_type": "stream",
     "text": [
      "\u001b[34mINFO    \u001b[0m File                                                                                                      \n",
      "         \u001b[35m/lustre/groups/ml01/workspace/weixu.wang/regvelo_revision/parameter_tuning/caliaberate_error/hsc_model_run\u001b[0m\n",
      "         \u001b[35m_8/\u001b[0m\u001b[95mmodel.pt\u001b[0m already downloaded                                                                            \n"
     ]
    },
    {
     "name": "stderr",
     "output_type": "stream",
     "text": [
      "/home/icb/weixu.wang/miniconda3/envs/regvelo-py310/lib/python3.10/site-packages/lightning/fabric/plugins/environments/slurm.py:204: The `srun` command is available on your system but is not used. HINT: If your intention is to run Lightning on SLURM, prepend your python command with `srun` like so: srun python /home/icb/weixu.wang/miniconda3/envs/regvelo-py310/l ...\n"
     ]
    },
    {
     "name": "stdout",
     "output_type": "stream",
     "text": [
      "\u001b[34mINFO    \u001b[0m File                                                                                                      \n",
      "         \u001b[35m/lustre/groups/ml01/workspace/weixu.wang/regvelo_revision/parameter_tuning/caliaberate_error/hsc_model_run\u001b[0m\n",
      "         \u001b[35m_9/\u001b[0m\u001b[95mmodel.pt\u001b[0m already downloaded                                                                            \n"
     ]
    },
    {
     "name": "stderr",
     "output_type": "stream",
     "text": [
      "/home/icb/weixu.wang/miniconda3/envs/regvelo-py310/lib/python3.10/site-packages/lightning/fabric/plugins/environments/slurm.py:204: The `srun` command is available on your system but is not used. HINT: If your intention is to run Lightning on SLURM, prepend your python command with `srun` like so: srun python /home/icb/weixu.wang/miniconda3/envs/regvelo-py310/l ...\n"
     ]
    }
   ],
   "source": [
    "grns = []\n",
    "for nrun in range(10):\n",
    "    path = DATA_DIR / DATASET / \"processed\" / f\"hsc_model_run_{nrun}\"\n",
    "    vae = REGVELOVI.load(path, adata)\n",
    "\n",
    "    w = vae.module.v_encoder.fc1.weight.cpu().detach()\n",
    "    w = pd.DataFrame(w,index=adata.var_names,columns = adata.var_names)\n",
    "    w = w.loc[:,TF]\n",
    "    grns.append(w)"
   ]
  },
  {
   "cell_type": "code",
   "execution_count": 14,
   "id": "dc92704e-5d02-4aa0-b17c-e1bddbf6f392",
   "metadata": {
    "tags": []
   },
   "outputs": [],
   "source": [
    "stacked = np.stack(grns)\n",
    "median = np.median(stacked,axis = 0)\n",
    "epsilon = np.percentile(np.abs(median)[median!=0], 10)\n",
    "edge_variance = (np.median(np.abs(stacked - median),axis = 0)+epsilon) / (np.abs(median)+epsilon)"
   ]
  },
  {
   "cell_type": "code",
   "execution_count": 15,
   "id": "7cdc82a3-dd81-48cb-8f60-080d817fbd42",
   "metadata": {
    "tags": []
   },
   "outputs": [],
   "source": [
    "edge_variance = pd.DataFrame(edge_variance,index = p_class.index, columns = p_class.columns)\n",
    "grn = pd.DataFrame(median,index = p_class.index, columns = p_class.columns)"
   ]
  },
  {
   "cell_type": "code",
   "execution_count": 16,
   "id": "c1cf7d66-b947-4f1d-9f29-25629a243e4d",
   "metadata": {
    "tags": []
   },
   "outputs": [
    {
     "name": "stdout",
     "output_type": "stream",
     "text": [
      "2025-10-25 16:06:43 1 GS: 8940 edges; Confidences: 28250 edges\n",
      "2025-10-25 16:06:44 1 GS: 8940 edges; Confidences: 37667 edges\n",
      "2025-10-25 16:06:44 1 GS: 8940 edges; Confidences: 47084 edges\n",
      "2025-10-25 16:06:44 1 GS: 8940 edges; Confidences: 56501 edges\n",
      "2025-10-25 16:06:44 1 GS: 8940 edges; Confidences: 65918 edges\n",
      "2025-10-25 16:06:44 1 GS: 8940 edges; Confidences: 75250 edges\n",
      "2025-10-25 16:06:44 1 GS: 8940 edges; Confidences: 84667 edges\n",
      "2025-10-25 16:06:44 1 GS: 8940 edges; Confidences: 94084 edges\n"
     ]
    }
   ],
   "source": [
    "percentile_values = np.percentile(edge_variance, np.arange(1, 11)*10)\n",
    "auprcs = []\n",
    "for i in range(2,len(percentile_values)):\n",
    "    to_eval = copy.deepcopy(np.abs(grn))\n",
    "    to_eval[edge_variance > percentile_values[i]] = np.nan\n",
    "    auprcs.append(get_calibration_score(to_eval, p_class, filter_method='overlap',method = \"auprc\"))"
   ]
  },
  {
   "cell_type": "code",
   "execution_count": 17,
   "id": "91c27681-6896-4be1-b9b5-92cfc37e6f44",
   "metadata": {
    "tags": []
   },
   "outputs": [
    {
     "data": {
      "text/plain": [
       "[0.17072510990303702,\n",
       " 0.16163773408491552,\n",
       " 0.154657775559322,\n",
       " 0.14891162480176293,\n",
       " 0.14441520241636058,\n",
       " 0.14058914165962355,\n",
       " 0.13723783365027428,\n",
       " 0.1336906127397129]"
      ]
     },
     "execution_count": 17,
     "metadata": {},
     "output_type": "execute_result"
    }
   ],
   "source": [
    "auprcs"
   ]
  },
  {
   "cell_type": "code",
   "execution_count": 18,
   "id": "c41078f4-a9a9-4105-9487-746f231e3e5f",
   "metadata": {
    "tags": []
   },
   "outputs": [
    {
     "data": {
      "image/png": "[encoded data removed]",
      "text/plain": [
       "<Figure size 640x480 with 1 Axes>"
      ]
     },
     "metadata": {},
     "output_type": "display_data"
    }
   ],
   "source": [
    "plt.rcParams[\"svg.fonttype\"] = \"none\"\n",
    "plt.plot(np.arange(1, len(auprcs)+1) * 100/len(auprcs), np.array(auprcs))\n",
    "plt.xlim(0, 100)\n",
    "plt.grid()\n",
    "plt.xlabel(\"Percentile Cutoff\", fontsize=18)\n",
    "plt.ylabel(\"AUPRC\", fontsize=18)\n",
    "plt.xticks(fontsize=16)\n",
    "plt.yticks(fontsize=16)\n",
    "plt.tight_layout()\n",
    "\n",
    "if SAVE_FIGURE:\n",
    "    plt.savefig(FIG_DIR / DATASET / \"GRN_calibration_auprc.svg\", format=\"svg\", transparent=True, bbox_inches=\"tight\")"
   ]
  },
  {
   "cell_type": "code",
   "execution_count": 19,
   "id": "62b7bfed-00f1-4da7-94e4-0cd49c16bf50",
   "metadata": {
    "tags": []
   },
   "outputs": [
    {
     "name": "stdout",
     "output_type": "stream",
     "text": [
      "2025-10-25 16:06:50 1 GS: 8940 edges; Confidences: 28250 edges\n",
      "2025-10-25 16:06:50 1 GS: 8940 edges; Confidences: 37667 edges\n",
      "2025-10-25 16:06:50 1 GS: 8940 edges; Confidences: 47084 edges\n",
      "2025-10-25 16:06:50 1 GS: 8940 edges; Confidences: 56501 edges\n",
      "2025-10-25 16:06:50 1 GS: 8940 edges; Confidences: 65918 edges\n",
      "2025-10-25 16:06:51 1 GS: 8940 edges; Confidences: 75250 edges\n",
      "2025-10-25 16:06:51 1 GS: 8940 edges; Confidences: 84667 edges\n",
      "2025-10-25 16:06:51 1 GS: 8940 edges; Confidences: 94084 edges\n"
     ]
    }
   ],
   "source": [
    "auroc = []\n",
    "for i in range(2,len(percentile_values)):\n",
    "    to_eval = copy.deepcopy(np.abs(grn))\n",
    "    to_eval[edge_variance > percentile_values[i]] = np.nan\n",
    "    auroc.append(get_calibration_score(to_eval, p_class, filter_method='overlap',method = \"auroc\"))"
   ]
  },
  {
   "cell_type": "code",
   "execution_count": 20,
   "id": "880fe9ad-cd2e-4834-969e-95240fb5ee85",
   "metadata": {
    "tags": []
   },
   "outputs": [
    {
     "data": {
      "image/png": "[encoded data removed]",
      "text/plain": [
       "<Figure size 640x480 with 1 Axes>"
      ]
     },
     "metadata": {},
     "output_type": "display_data"
    }
   ],
   "source": [
    "plt.plot(np.arange(1, len(auroc)+1) * 100/len(auroc), auroc)\n",
    "plt.xlim(0, 100)\n",
    "plt.grid()\n",
    "plt.xlabel(\"Percentile Cutoff\", fontsize=18)\n",
    "plt.ylabel(\"AUROC\", fontsize=18)\n",
    "plt.xticks(fontsize=16)\n",
    "plt.yticks(fontsize=16)\n",
    "plt.tight_layout()\n",
    "\n",
    "if SAVE_FIGURE:\n",
    "    plt.savefig(FIG_DIR / DATASET / \"GRN_calibration_roc.svg\", format=\"svg\", transparent=True, bbox_inches=\"tight\")"
   ]
  },
  {
   "cell_type": "code",
   "execution_count": null,
   "id": "2dad1c98-c24e-4b32-ab87-a0e436ff56a4",
   "metadata": {},
   "outputs": [],
   "source": []
  }
 ],
 "metadata": {
  "kernelspec": {
   "display_name": "Python (regvelo-py310)",
   "language": "python",
   "name": "regvelo-py310"
  },
  "language_info": {
   "codemirror_mode": {
    "name": "ipython",
    "version": 3
   },
   "file_extension": ".py",
   "mimetype": "text/x-python",
   "name": "python",
   "nbconvert_exporter": "python",
   "pygments_lexer": "ipython3",
   "version": "3.10.16"
  }
 },
 "nbformat": 4,
 "nbformat_minor": 5
}
