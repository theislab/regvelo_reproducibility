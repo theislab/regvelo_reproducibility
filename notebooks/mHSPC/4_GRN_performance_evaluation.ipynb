{
 "cells": [
  {
   "cell_type": "markdown",
   "id": "0ea4ee85-dbef-4a3f-a9bb-1d887c55e3e6",
   "metadata": {},
   "source": [
    "# Benchmark GRN inference"
   ]
  },
  {
   "cell_type": "markdown",
   "id": "4b51a659-c70d-43e1-ae27-c0e9f5ced1ae",
   "metadata": {},
   "source": [
    "## Library imports"
   ]
  },
  {
   "cell_type": "code",
   "execution_count": 1,
   "id": "ee76e8cc-e666-4d2a-9b2d-65cf34734a7a",
   "metadata": {
    "tags": []
   },
   "outputs": [],
   "source": [
    "import pandas as pd\n",
    "from scipy.stats import ttest_ind\n",
    "\n",
    "import matplotlib.pyplot as plt\n",
    "import mplscience\n",
    "import seaborn as sns\n",
    "\n",
    "from rgv_tools import DATA_DIR, FIG_DIR\n",
    "from rgv_tools.core import METHOD_PALETTE"
   ]
  },
  {
   "cell_type": "markdown",
   "id": "2cb1289b-b8a5-45be-bfe0-e0020c331ad9",
   "metadata": {
    "tags": []
   },
   "source": [
    "## Constants"
   ]
  },
  {
   "cell_type": "code",
   "execution_count": 2,
   "id": "1556a8b8-e6da-40cb-aa0c-6bde53147349",
   "metadata": {
    "tags": []
   },
   "outputs": [],
   "source": [
    "DATASET = \"mHSPC\""
   ]
  },
  {
   "cell_type": "code",
   "execution_count": 3,
   "id": "db268ab2-1d27-4b1e-a8b5-d7ef66a299cf",
   "metadata": {
    "tags": []
   },
   "outputs": [],
   "source": [
    "SAVE_DATA = True\n",
    "if SAVE_DATA:\n",
    "    (DATA_DIR / DATASET / \"results\").mkdir(parents=True, exist_ok=True)\n",
    "\n",
    "SAVE_FIGURE = True\n",
    "if SAVE_FIGURE:\n",
    "    (FIG_DIR / DATASET).mkdir(parents=True, exist_ok=True)"
   ]
  },
  {
   "cell_type": "markdown",
   "id": "bb42f6a5-d112-469e-98ae-027f8613c1d7",
   "metadata": {},
   "source": [
    "## Data loading"
   ]
  },
  {
   "cell_type": "code",
   "execution_count": 4,
   "id": "5f0b9fda-5b03-48c1-93b7-45c1b3a6a38b",
   "metadata": {
    "tags": []
   },
   "outputs": [],
   "source": [
    "tfv_score = pd.read_csv(DATA_DIR / DATASET / \"results\" / \"GRN_benchmark_tfv.csv\")\n",
    "rgv_score = pd.read_csv(DATA_DIR / DATASET / \"results\" / \"GRN_benchmark_rgv.csv\")\n",
    "grn_score = pd.read_csv(DATA_DIR / DATASET / \"results\" / \"GRN_benchmark.csv\")"
   ]
  },
  {
   "cell_type": "code",
   "execution_count": 5,
   "id": "8699b2b7-5ead-4070-aa8e-91faa8744bf8",
   "metadata": {
    "tags": []
   },
   "outputs": [],
   "source": [
    "df = pd.concat([tfv_score, rgv_score, grn_score], ignore_index=True)"
   ]
  },
  {
   "cell_type": "markdown",
   "id": "da96a8f7-9ddd-437f-be9b-60d8399c8476",
   "metadata": {},
   "source": [
    "## Plot the benchmark"
   ]
  },
  {
   "cell_type": "code",
   "execution_count": 6,
   "id": "d23e64a8-18e1-4292-b017-8bb6fe6f4c24",
   "metadata": {
    "tags": []
   },
   "outputs": [
    {
     "data": {
      "text/html": [
       "<div>\n",
       "<style scoped>\n",
       "    .dataframe tbody tr th:only-of-type {\n",
       "        vertical-align: middle;\n",
       "    }\n",
       "\n",
       "    .dataframe tbody tr th {\n",
       "        vertical-align: top;\n",
       "    }\n",
       "\n",
       "    .dataframe thead th {\n",
       "        text-align: right;\n",
       "    }\n",
       "</style>\n",
       "<table border=\"1\" class=\"dataframe\">\n",
       "  <thead>\n",
       "    <tr style=\"text-align: right;\">\n",
       "      <th></th>\n",
       "      <th>Unnamed: 0</th>\n",
       "      <th>EPR</th>\n",
       "      <th>AUC</th>\n",
       "      <th>Method</th>\n",
       "    </tr>\n",
       "  </thead>\n",
       "  <tbody>\n",
       "    <tr>\n",
       "      <th>0</th>\n",
       "      <td>0</td>\n",
       "      <td>1.116878</td>\n",
       "      <td>0.639869</td>\n",
       "      <td>tfvelo</td>\n",
       "    </tr>\n",
       "    <tr>\n",
       "      <th>1</th>\n",
       "      <td>0</td>\n",
       "      <td>1.138696</td>\n",
       "      <td>0.603134</td>\n",
       "      <td>regvelo</td>\n",
       "    </tr>\n",
       "    <tr>\n",
       "      <th>2</th>\n",
       "      <td>1</td>\n",
       "      <td>1.145427</td>\n",
       "      <td>0.600968</td>\n",
       "      <td>regvelo</td>\n",
       "    </tr>\n",
       "    <tr>\n",
       "      <th>3</th>\n",
       "      <td>2</td>\n",
       "      <td>1.124305</td>\n",
       "      <td>0.594723</td>\n",
       "      <td>regvelo</td>\n",
       "    </tr>\n",
       "    <tr>\n",
       "      <th>4</th>\n",
       "      <td>0</td>\n",
       "      <td>1.108522</td>\n",
       "      <td>0.566040</td>\n",
       "      <td>Corr</td>\n",
       "    </tr>\n",
       "    <tr>\n",
       "      <th>5</th>\n",
       "      <td>1</td>\n",
       "      <td>1.014753</td>\n",
       "      <td>0.533928</td>\n",
       "      <td>GRNBoost2</td>\n",
       "    </tr>\n",
       "    <tr>\n",
       "      <th>6</th>\n",
       "      <td>2</td>\n",
       "      <td>1.196337</td>\n",
       "      <td>0.557187</td>\n",
       "      <td>CellOracle</td>\n",
       "    </tr>\n",
       "  </tbody>\n",
       "</table>\n",
       "</div>"
      ],
      "text/plain": [
       "   Unnamed: 0       EPR       AUC      Method\n",
       "0           0  1.116878  0.639869      tfvelo\n",
       "1           0  1.138696  0.603134     regvelo\n",
       "2           1  1.145427  0.600968     regvelo\n",
       "3           2  1.124305  0.594723     regvelo\n",
       "4           0  1.108522  0.566040        Corr\n",
       "5           1  1.014753  0.533928   GRNBoost2\n",
       "6           2  1.196337  0.557187  CellOracle"
      ]
     },
     "execution_count": 6,
     "metadata": {},
     "output_type": "execute_result"
    }
   ],
   "source": [
    "df"
   ]
  },
  {
   "cell_type": "code",
   "execution_count": 7,
   "id": "b7fb97ee-d712-419c-a033-efdad8aed936",
   "metadata": {
    "tags": []
   },
   "outputs": [
    {
     "data": {
      "image/png": "[encoded data removed]",
      "text/plain": [
       "<Figure size 300x300 with 1 Axes>"
      ]
     },
     "metadata": {},
     "output_type": "display_data"
    }
   ],
   "source": [
    "with mplscience.style_context():\n",
    "    sns.set_style(style=\"whitegrid\")\n",
    "    fig, ax = plt.subplots(figsize=(3, 3), sharey=True)\n",
    "    # Plot the second Seaborn plot on the first subplot\n",
    "    sns.barplot(y='Method', x='AUC',data=df, capsize=0.1,color = \"grey\",order = [\"regvelo\",\"Corr\",\"CellOracle\",\"GRNBoost2\",\"tfvelo\"],ax = ax)\n",
    "    sns.stripplot(\n",
    "        y='Method', x='AUC', data=df, \n",
    "        order=[\"regvelo\",\"Corr\",\"CellOracle\",\"GRNBoost2\",\"tfvelo\"], \n",
    "        color='black', size=3, jitter=True, ax=ax\n",
    "    )\n",
    "    ax.set_xlabel('AUC',fontsize = 14)\n",
    "    ax.set_ylabel('')\n",
    "    plt.xlim(0.5, 0.7)\n",
    "    plt.show()\n",
    "    \n",
    "    if SAVE_FIGURE:\n",
    "        fig.savefig(FIG_DIR / DATASET / \"AUC.svg\", format=\"svg\", transparent=True, bbox_inches=\"tight\")"
   ]
  },
  {
   "cell_type": "code",
   "execution_count": 8,
   "id": "49329869-d51d-4797-b3e9-509b9d485d3b",
   "metadata": {
    "tags": []
   },
   "outputs": [
    {
     "data": {
      "image/png": "[encoded data removed]",
      "text/plain": [
       "<Figure size 300x300 with 1 Axes>"
      ]
     },
     "metadata": {},
     "output_type": "display_data"
    }
   ],
   "source": [
    "with mplscience.style_context():\n",
    "    sns.set_style(style=\"whitegrid\")\n",
    "    fig, ax = plt.subplots(figsize=(3, 3), sharey=True)\n",
    "    # Plot the second Seaborn plot on the first subplot\n",
    "    sns.barplot(y='Method', x='EPR',data=df, capsize=0.1,color = \"grey\",order = [\"regvelo\",\"Corr\",\"CellOracle\",\"GRNBoost2\",\"tfvelo\"],ax = ax)\n",
    "    sns.stripplot(\n",
    "        y='Method', x='EPR', data=df, \n",
    "        order=[\"regvelo\",\"Corr\",\"CellOracle\",\"GRNBoost2\",\"tfvelo\"], \n",
    "        color='black', size=3, jitter=True, ax=ax\n",
    "    )\n",
    "    ax.set_xlabel('EPR',fontsize = 14)\n",
    "    ax.set_ylabel('')\n",
    "    plt.xlim(1.0,)\n",
    "    plt.show()\n",
    "    \n",
    "    if SAVE_FIGURE:\n",
    "        fig.savefig(FIG_DIR / DATASET / \"EPR.svg\", format=\"svg\", transparent=True, bbox_inches=\"tight\")"
   ]
  },
  {
   "cell_type": "code",
   "execution_count": null,
   "id": "eb6fe7d0-b12c-45c6-a2fb-1a66e46afb5a",
   "metadata": {},
   "outputs": [],
   "source": []
  }
 ],
 "metadata": {
  "kernelspec": {
   "display_name": "Python [conda env:regvelo_test]",
   "language": "python",
   "name": "conda-env-regvelo_test-py"
  },
  "language_info": {
   "codemirror_mode": {
    "name": "ipython",
    "version": 3
   },
   "file_extension": ".py",
   "mimetype": "text/x-python",
   "name": "python",
   "nbconvert_exporter": "python",
   "pygments_lexer": "ipython3",
   "version": "3.10.15"
  }
 },
 "nbformat": 4,
 "nbformat_minor": 5
}
