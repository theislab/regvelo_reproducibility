{
 "cells": [
  {
   "cell_type": "markdown",
   "id": "de4b5608-df39-4b5d-bca4-f0df82bc0cdc",
   "metadata": {},
   "source": [
    "# Benchmark Terminal State Identification"
   ]
  },
  {
   "cell_type": "code",
   "execution_count": 1,
   "id": "ed5461a3-347a-4c4e-ba17-90d51db0fdf5",
   "metadata": {
    "tags": []
   },
   "outputs": [
    {
     "name": "stderr",
     "output_type": "stream",
     "text": [
      "/home/icb/weixu.wang/miniconda3/envs/regvelo_test/lib/python3.10/site-packages/anndata/utils.py:429: FutureWarning: Importing read_csv from `anndata` is deprecated. Import anndata.io.read_csv instead.\n",
      "  warnings.warn(msg, FutureWarning)\n",
      "/home/icb/weixu.wang/miniconda3/envs/regvelo_test/lib/python3.10/site-packages/anndata/utils.py:429: FutureWarning: Importing read_excel from `anndata` is deprecated. Import anndata.io.read_excel instead.\n",
      "  warnings.warn(msg, FutureWarning)\n",
      "/home/icb/weixu.wang/miniconda3/envs/regvelo_test/lib/python3.10/site-packages/anndata/utils.py:429: FutureWarning: Importing read_hdf from `anndata` is deprecated. Import anndata.io.read_hdf instead.\n",
      "  warnings.warn(msg, FutureWarning)\n",
      "/home/icb/weixu.wang/miniconda3/envs/regvelo_test/lib/python3.10/site-packages/anndata/utils.py:429: FutureWarning: Importing read_loom from `anndata` is deprecated. Import anndata.io.read_loom instead.\n",
      "  warnings.warn(msg, FutureWarning)\n",
      "/home/icb/weixu.wang/miniconda3/envs/regvelo_test/lib/python3.10/site-packages/anndata/utils.py:429: FutureWarning: Importing read_mtx from `anndata` is deprecated. Import anndata.io.read_mtx instead.\n",
      "  warnings.warn(msg, FutureWarning)\n",
      "/home/icb/weixu.wang/miniconda3/envs/regvelo_test/lib/python3.10/site-packages/anndata/utils.py:429: FutureWarning: Importing read_text from `anndata` is deprecated. Import anndata.io.read_text instead.\n",
      "  warnings.warn(msg, FutureWarning)\n",
      "/home/icb/weixu.wang/miniconda3/envs/regvelo_test/lib/python3.10/site-packages/anndata/utils.py:429: FutureWarning: Importing read_umi_tools from `anndata` is deprecated. Import anndata.io.read_umi_tools instead.\n",
      "  warnings.warn(msg, FutureWarning)\n"
     ]
    }
   ],
   "source": [
    "import numpy as np\n",
    "import pandas as pd\n",
    "from scipy.stats import ttest_ind\n",
    "\n",
    "import matplotlib.pyplot as plt\n",
    "import mplscience\n",
    "import seaborn as sns\n",
    "from matplotlib import rcParams\n",
    "\n",
    "import cellrank as cr\n",
    "import scanpy as sc\n",
    "import scvelo as scv\n",
    "import scvi\n",
    "\n",
    "from rgv_tools import DATA_DIR, FIG_DIR\n",
    "from rgv_tools.benchmarking import get_tsi_score, plot_tsi\n",
    "from rgv_tools.core import METHOD_PALETTE_TSI\n",
    "from rgv_tools.plotting._significance import add_significance, get_significance"
   ]
  },
  {
   "cell_type": "markdown",
   "id": "2b72b1da-e5d3-4e9b-a673-f654985e9748",
   "metadata": {},
   "source": [
    "# General setting"
   ]
  },
  {
   "cell_type": "code",
   "execution_count": 2,
   "id": "ec95a788-89da-484f-92fd-2c3c9358561a",
   "metadata": {
    "tags": []
   },
   "outputs": [
    {
     "name": "stderr",
     "output_type": "stream",
     "text": [
      "[rank: 0] Seed set to 0\n"
     ]
    }
   ],
   "source": [
    "scvi.settings.seed = 0"
   ]
  },
  {
   "cell_type": "code",
   "execution_count": 3,
   "id": "549aa3a1-006d-430f-a49b-edcbb11ed414",
   "metadata": {
    "tags": []
   },
   "outputs": [],
   "source": [
    "plt.rcParams[\"svg.fonttype\"] = \"none\"\n",
    "sns.reset_defaults()\n",
    "sns.reset_orig()\n",
    "scv.settings.set_figure_params(\"scvelo\", dpi_save=400, dpi=80, transparent=True, fontsize=14, color_map=\"viridis\")"
   ]
  },
  {
   "cell_type": "markdown",
   "id": "ec8b8928-1739-4d29-958c-633fcf158bc8",
   "metadata": {},
   "source": [
    "## Constants"
   ]
  },
  {
   "cell_type": "code",
   "execution_count": 19,
   "id": "3bfb7f40-3a50-4d57-8dc3-46fc5977a1e0",
   "metadata": {
    "tags": []
   },
   "outputs": [],
   "source": [
    "DATASET = \"scale_murine\"\n",
    "\n",
    "SAVE_FIGURES = True\n",
    "if SAVE_FIGURES:\n",
    "    (FIG_DIR / DATASET).mkdir(parents=True, exist_ok=True)\n",
    "\n",
    "FIGURE_FORMATE = \"svg\""
   ]
  },
  {
   "cell_type": "code",
   "execution_count": 5,
   "id": "8df2d1f2-796b-4300-9e5e-5f9d0d14bd03",
   "metadata": {
    "tags": []
   },
   "outputs": [],
   "source": [
    "VELOCITY_METHODS = [\"regvelo\", \"scvelo\", \"velovi\"]"
   ]
  },
  {
   "cell_type": "code",
   "execution_count": 6,
   "id": "fb701744-6a3d-4c69-88b5-d245c2e4aa20",
   "metadata": {
    "tags": []
   },
   "outputs": [],
   "source": [
    "TERMINAL_STATE = [\n",
    "    \"Melanocytes\",\n",
    "    \"enFib\",\n",
    "    \"SC\",\n",
    "    \"Mesenchyme\",\n",
    "    \"Sensory\",\n",
    "    \"ChC\",\n",
    "    \"SatGlia\",\n",
    "    \"Gut_glia\",\n",
    "    \"Gut_neuron\",\n",
    "    \"Symp\",\n",
    "    \"BCC\",\n",
    "]"
   ]
  },
  {
   "cell_type": "code",
   "execution_count": 7,
   "id": "d0b38ef8-80a0-4719-bc1e-dadacb2c9c4c",
   "metadata": {
    "tags": []
   },
   "outputs": [],
   "source": [
    "thresholds = np.linspace(0.1, 1, 21)[:20]"
   ]
  },
  {
   "cell_type": "markdown",
   "id": "33c7189b-591b-4bec-a92a-ec54fc5a62d8",
   "metadata": {},
   "source": [
    "## Compute TSI"
   ]
  },
  {
   "cell_type": "code",
   "execution_count": 8,
   "id": "98d186d9-eb67-485a-a6e7-6669653bd13d",
   "metadata": {
    "collapsed": true,
    "jupyter": {
     "outputs_hidden": true
    },
    "tags": []
   },
   "outputs": [
    {
     "data": {
      "application/vnd.jupyter.widget-view+json": {
       "model_id": "979bae3762e54a6794ddbb433de5709f",
       "version_major": 2,
       "version_minor": 0
      },
      "text/plain": [
       "  0%|          | 0/3926 [00:00<?, ?cell/s]"
      ]
     },
     "metadata": {},
     "output_type": "display_data"
    },
    {
     "data": {
      "application/vnd.jupyter.widget-view+json": {
       "model_id": "927fdeac652746a59b159ef6cea45bc0",
       "version_major": 2,
       "version_minor": 0
      },
      "text/plain": [
       "  0%|          | 0/3926 [00:00<?, ?cell/s]"
      ]
     },
     "metadata": {},
     "output_type": "display_data"
    },
    {
     "data": {
      "application/vnd.jupyter.widget-view+json": {
       "model_id": "4841d94335e04986a65208dfd7488a2e",
       "version_major": 2,
       "version_minor": 0
      },
      "text/plain": [
       "  0%|          | 0/3926 [00:00<?, ?cell/s]"
      ]
     },
     "metadata": {},
     "output_type": "display_data"
    },
    {
     "data": {
      "application/vnd.jupyter.widget-view+json": {
       "model_id": "6d5cb465dbb141aea37bc5ce07a1ce55",
       "version_major": 2,
       "version_minor": 0
      },
      "text/plain": [
       "  0%|          | 0/3926 [00:00<?, ?cell/s]"
      ]
     },
     "metadata": {},
     "output_type": "display_data"
    },
    {
     "data": {
      "application/vnd.jupyter.widget-view+json": {
       "model_id": "55da2d11f64843d7bef373209cf54d79",
       "version_major": 2,
       "version_minor": 0
      },
      "text/plain": [
       "  0%|          | 0/3926 [00:00<?, ?cell/s]"
      ]
     },
     "metadata": {},
     "output_type": "display_data"
    },
    {
     "data": {
      "application/vnd.jupyter.widget-view+json": {
       "model_id": "e5de22591b4b4017b52a308e86b47781",
       "version_major": 2,
       "version_minor": 0
      },
      "text/plain": [
       "  0%|          | 0/3926 [00:00<?, ?cell/s]"
      ]
     },
     "metadata": {},
     "output_type": "display_data"
    },
    {
     "name": "stdout",
     "output_type": "stream",
     "text": [
      "WARNING: Found only one macrostate, making it the singular terminal state\n",
      "WARNING: Requested more macrostates `3` than available Schur vectors `2`. Recomputing the decomposition\n",
      "WARNING: Requested more macrostates `4` than available Schur vectors `3`. Recomputing the decomposition\n",
      "WARNING: Requested more macrostates `5` than available Schur vectors `4`. Recomputing the decomposition\n",
      "WARNING: Requested more macrostates `6` than available Schur vectors `5`. Recomputing the decomposition\n",
      "WARNING: Requested more macrostates `7` than available Schur vectors `6`. Recomputing the decomposition\n",
      "WARNING: Requested more macrostates `8` than available Schur vectors `7`. Recomputing the decomposition\n",
      "WARNING: Requested more macrostates `9` than available Schur vectors `8`. Recomputing the decomposition\n",
      "WARNING: Found only one macrostate, making it the singular terminal state\n",
      "WARNING: Found only one macrostate, making it the singular terminal state\n",
      "WARNING: Found only one macrostate, making it the singular terminal state\n",
      "WARNING: Found only one macrostate, making it the singular terminal state\n",
      "WARNING: Found only one macrostate, making it the singular terminal state\n",
      "WARNING: Found only one macrostate, making it the singular terminal state\n",
      "WARNING: Found only one macrostate, making it the singular terminal state\n",
      "WARNING: Found only one macrostate, making it the singular terminal state\n",
      "WARNING: Found only one macrostate, making it the singular terminal state\n",
      "WARNING: Found only one macrostate, making it the singular terminal state\n",
      "WARNING: Found only one macrostate, making it the singular terminal state\n",
      "WARNING: Found only one macrostate, making it the singular terminal state\n",
      "WARNING: Found only one macrostate, making it the singular terminal state\n",
      "WARNING: Found only one macrostate, making it the singular terminal state\n",
      "WARNING: Found only one macrostate, making it the singular terminal state\n",
      "WARNING: Found only one macrostate, making it the singular terminal state\n",
      "WARNING: Found only one macrostate, making it the singular terminal state\n",
      "WARNING: Found only one macrostate, making it the singular terminal state\n",
      "WARNING: Found only one macrostate, making it the singular terminal state\n",
      "WARNING: Found only one macrostate, making it the singular terminal state\n",
      "WARNING: Requested more macrostates `3` than available Schur vectors `2`. Recomputing the decomposition\n",
      "WARNING: Requested more macrostates `4` than available Schur vectors `3`. Recomputing the decomposition\n",
      "WARNING: Requested more macrostates `5` than available Schur vectors `4`. Recomputing the decomposition\n",
      "WARNING: Requested more macrostates `6` than available Schur vectors `5`. Recomputing the decomposition\n",
      "WARNING: Unable to compute macrostates with `n_states=6` because it will split complex conjugate eigenvalues. Using `n_states=7`\n",
      "WARNING: Requested more macrostates `8` than available Schur vectors `7`. Recomputing the decomposition\n",
      "WARNING: Requested more macrostates `9` than available Schur vectors `8`. Recomputing the decomposition\n",
      "WARNING: Unable to compute macrostates with `n_states=9` because it will split complex conjugate eigenvalues. Using `n_states=10`\n",
      "WARNING: Found only one macrostate, making it the singular terminal state\n",
      "WARNING: Unable to compute macrostates with `n_states=6` because it will split complex conjugate eigenvalues. Using `n_states=7`\n",
      "WARNING: Unable to compute macrostates with `n_states=9` because it will split complex conjugate eigenvalues. Using `n_states=10`\n",
      "WARNING: Found only one macrostate, making it the singular terminal state\n",
      "WARNING: Unable to compute macrostates with `n_states=6` because it will split complex conjugate eigenvalues. Using `n_states=7`\n",
      "WARNING: Unable to compute macrostates with `n_states=9` because it will split complex conjugate eigenvalues. Using `n_states=10`\n",
      "WARNING: Found only one macrostate, making it the singular terminal state\n",
      "WARNING: Unable to compute macrostates with `n_states=6` because it will split complex conjugate eigenvalues. Using `n_states=7`\n",
      "WARNING: Unable to compute macrostates with `n_states=9` because it will split complex conjugate eigenvalues. Using `n_states=10`\n",
      "WARNING: Found only one macrostate, making it the singular terminal state\n",
      "WARNING: Unable to compute macrostates with `n_states=6` because it will split complex conjugate eigenvalues. Using `n_states=7`\n",
      "WARNING: Unable to compute macrostates with `n_states=9` because it will split complex conjugate eigenvalues. Using `n_states=10`\n",
      "WARNING: Found only one macrostate, making it the singular terminal state\n",
      "WARNING: Unable to compute macrostates with `n_states=6` because it will split complex conjugate eigenvalues. Using `n_states=7`\n",
      "WARNING: Unable to compute macrostates with `n_states=9` because it will split complex conjugate eigenvalues. Using `n_states=10`\n",
      "WARNING: Found only one macrostate, making it the singular terminal state\n",
      "WARNING: Unable to compute macrostates with `n_states=6` because it will split complex conjugate eigenvalues. Using `n_states=7`\n",
      "WARNING: Unable to compute macrostates with `n_states=9` because it will split complex conjugate eigenvalues. Using `n_states=10`\n",
      "WARNING: Found only one macrostate, making it the singular terminal state\n",
      "WARNING: Unable to compute macrostates with `n_states=6` because it will split complex conjugate eigenvalues. Using `n_states=7`\n",
      "WARNING: Unable to compute macrostates with `n_states=9` because it will split complex conjugate eigenvalues. Using `n_states=10`\n",
      "WARNING: Found only one macrostate, making it the singular terminal state\n",
      "WARNING: Unable to compute macrostates with `n_states=6` because it will split complex conjugate eigenvalues. Using `n_states=7`\n",
      "WARNING: Unable to compute macrostates with `n_states=9` because it will split complex conjugate eigenvalues. Using `n_states=10`\n",
      "WARNING: Found only one macrostate, making it the singular terminal state\n",
      "WARNING: Unable to compute macrostates with `n_states=6` because it will split complex conjugate eigenvalues. Using `n_states=7`\n",
      "WARNING: Unable to compute macrostates with `n_states=9` because it will split complex conjugate eigenvalues. Using `n_states=10`\n",
      "WARNING: Found only one macrostate, making it the singular terminal state\n",
      "WARNING: Unable to compute macrostates with `n_states=6` because it will split complex conjugate eigenvalues. Using `n_states=7`\n",
      "WARNING: Unable to compute macrostates with `n_states=9` because it will split complex conjugate eigenvalues. Using `n_states=10`\n",
      "WARNING: Found only one macrostate, making it the singular terminal state\n",
      "WARNING: Unable to compute macrostates with `n_states=6` because it will split complex conjugate eigenvalues. Using `n_states=7`\n",
      "WARNING: Unable to compute macrostates with `n_states=9` because it will split complex conjugate eigenvalues. Using `n_states=10`\n",
      "WARNING: Found only one macrostate, making it the singular terminal state\n",
      "WARNING: Unable to compute macrostates with `n_states=6` because it will split complex conjugate eigenvalues. Using `n_states=7`\n",
      "WARNING: Unable to compute macrostates with `n_states=9` because it will split complex conjugate eigenvalues. Using `n_states=10`\n",
      "WARNING: Found only one macrostate, making it the singular terminal state\n",
      "WARNING: Unable to compute macrostates with `n_states=6` because it will split complex conjugate eigenvalues. Using `n_states=7`\n",
      "WARNING: Unable to compute macrostates with `n_states=9` because it will split complex conjugate eigenvalues. Using `n_states=10`\n",
      "WARNING: Found only one macrostate, making it the singular terminal state\n",
      "WARNING: Unable to compute macrostates with `n_states=6` because it will split complex conjugate eigenvalues. Using `n_states=7`\n",
      "WARNING: Unable to compute macrostates with `n_states=9` because it will split complex conjugate eigenvalues. Using `n_states=10`\n",
      "WARNING: Found only one macrostate, making it the singular terminal state\n",
      "WARNING: Unable to compute macrostates with `n_states=6` because it will split complex conjugate eigenvalues. Using `n_states=7`\n",
      "WARNING: Unable to compute macrostates with `n_states=9` because it will split complex conjugate eigenvalues. Using `n_states=10`\n",
      "WARNING: Found only one macrostate, making it the singular terminal state\n",
      "WARNING: Unable to compute macrostates with `n_states=6` because it will split complex conjugate eigenvalues. Using `n_states=7`\n",
      "WARNING: Unable to compute macrostates with `n_states=9` because it will split complex conjugate eigenvalues. Using `n_states=10`\n",
      "WARNING: Found only one macrostate, making it the singular terminal state\n",
      "WARNING: Unable to compute macrostates with `n_states=6` because it will split complex conjugate eigenvalues. Using `n_states=7`\n",
      "WARNING: Unable to compute macrostates with `n_states=9` because it will split complex conjugate eigenvalues. Using `n_states=10`\n",
      "WARNING: Found only one macrostate, making it the singular terminal state\n",
      "WARNING: Unable to compute macrostates with `n_states=6` because it will split complex conjugate eigenvalues. Using `n_states=7`\n",
      "WARNING: Unable to compute macrostates with `n_states=9` because it will split complex conjugate eigenvalues. Using `n_states=10`\n",
      "WARNING: Found only one macrostate, making it the singular terminal state\n",
      "WARNING: Unable to compute macrostates with `n_states=6` because it will split complex conjugate eigenvalues. Using `n_states=7`\n",
      "WARNING: Unable to compute macrostates with `n_states=9` because it will split complex conjugate eigenvalues. Using `n_states=10`\n",
      "WARNING: Found only one macrostate, making it the singular terminal state\n",
      "WARNING: Requested more macrostates `3` than available Schur vectors `2`. Recomputing the decomposition\n",
      "WARNING: Requested more macrostates `4` than available Schur vectors `3`. Recomputing the decomposition\n",
      "WARNING: Requested more macrostates `5` than available Schur vectors `4`. Recomputing the decomposition\n",
      "WARNING: Requested more macrostates `6` than available Schur vectors `5`. Recomputing the decomposition\n",
      "WARNING: Requested more macrostates `7` than available Schur vectors `6`. Recomputing the decomposition\n",
      "WARNING: Requested more macrostates `8` than available Schur vectors `7`. Recomputing the decomposition\n",
      "WARNING: Requested more macrostates `9` than available Schur vectors `8`. Recomputing the decomposition\n",
      "WARNING: Unable to compute macrostates with `n_states=9` because it will split complex conjugate eigenvalues. Using `n_states=10`\n",
      "WARNING: Found only one macrostate, making it the singular terminal state\n",
      "WARNING: Unable to compute macrostates with `n_states=9` because it will split complex conjugate eigenvalues. Using `n_states=10`\n",
      "WARNING: Found only one macrostate, making it the singular terminal state\n",
      "WARNING: Unable to compute macrostates with `n_states=9` because it will split complex conjugate eigenvalues. Using `n_states=10`\n",
      "WARNING: Found only one macrostate, making it the singular terminal state\n",
      "WARNING: Unable to compute macrostates with `n_states=9` because it will split complex conjugate eigenvalues. Using `n_states=10`\n",
      "WARNING: Found only one macrostate, making it the singular terminal state\n",
      "WARNING: Unable to compute macrostates with `n_states=9` because it will split complex conjugate eigenvalues. Using `n_states=10`\n",
      "WARNING: Found only one macrostate, making it the singular terminal state\n",
      "WARNING: Unable to compute macrostates with `n_states=9` because it will split complex conjugate eigenvalues. Using `n_states=10`\n",
      "WARNING: Found only one macrostate, making it the singular terminal state\n",
      "WARNING: Unable to compute macrostates with `n_states=9` because it will split complex conjugate eigenvalues. Using `n_states=10`\n",
      "WARNING: Found only one macrostate, making it the singular terminal state\n",
      "WARNING: Unable to compute macrostates with `n_states=9` because it will split complex conjugate eigenvalues. Using `n_states=10`\n",
      "WARNING: Found only one macrostate, making it the singular terminal state\n",
      "WARNING: Unable to compute macrostates with `n_states=9` because it will split complex conjugate eigenvalues. Using `n_states=10`\n",
      "WARNING: Found only one macrostate, making it the singular terminal state\n",
      "WARNING: Unable to compute macrostates with `n_states=9` because it will split complex conjugate eigenvalues. Using `n_states=10`\n",
      "WARNING: Found only one macrostate, making it the singular terminal state\n",
      "WARNING: Unable to compute macrostates with `n_states=9` because it will split complex conjugate eigenvalues. Using `n_states=10`\n",
      "WARNING: Found only one macrostate, making it the singular terminal state\n",
      "WARNING: Unable to compute macrostates with `n_states=9` because it will split complex conjugate eigenvalues. Using `n_states=10`\n",
      "WARNING: Found only one macrostate, making it the singular terminal state\n",
      "WARNING: Unable to compute macrostates with `n_states=9` because it will split complex conjugate eigenvalues. Using `n_states=10`\n",
      "WARNING: Found only one macrostate, making it the singular terminal state\n",
      "WARNING: Unable to compute macrostates with `n_states=9` because it will split complex conjugate eigenvalues. Using `n_states=10`\n",
      "WARNING: Found only one macrostate, making it the singular terminal state\n",
      "WARNING: Unable to compute macrostates with `n_states=9` because it will split complex conjugate eigenvalues. Using `n_states=10`\n",
      "WARNING: Found only one macrostate, making it the singular terminal state\n",
      "WARNING: Unable to compute macrostates with `n_states=9` because it will split complex conjugate eigenvalues. Using `n_states=10`\n",
      "WARNING: Found only one macrostate, making it the singular terminal state\n",
      "WARNING: Unable to compute macrostates with `n_states=9` because it will split complex conjugate eigenvalues. Using `n_states=10`\n",
      "WARNING: Found only one macrostate, making it the singular terminal state\n",
      "WARNING: Unable to compute macrostates with `n_states=9` because it will split complex conjugate eigenvalues. Using `n_states=10`\n",
      "WARNING: Found only one macrostate, making it the singular terminal state\n",
      "WARNING: Unable to compute macrostates with `n_states=9` because it will split complex conjugate eigenvalues. Using `n_states=10`\n",
      "WARNING: Found only one macrostate, making it the singular terminal state\n",
      "WARNING: Unable to compute macrostates with `n_states=9` because it will split complex conjugate eigenvalues. Using `n_states=10`\n"
     ]
    },
    {
     "data": {
      "application/vnd.jupyter.widget-view+json": {
       "model_id": "3527b377cee14ea1aa3dc64e28e90ce4",
       "version_major": 2,
       "version_minor": 0
      },
      "text/plain": [
       "  0%|          | 0/5139 [00:00<?, ?cell/s]"
      ]
     },
     "metadata": {},
     "output_type": "display_data"
    },
    {
     "data": {
      "application/vnd.jupyter.widget-view+json": {
       "model_id": "53e9dca0c2dc4eb7af6aa20e32cf0dd6",
       "version_major": 2,
       "version_minor": 0
      },
      "text/plain": [
       "  0%|          | 0/5139 [00:00<?, ?cell/s]"
      ]
     },
     "metadata": {},
     "output_type": "display_data"
    },
    {
     "name": "stderr",
     "output_type": "stream",
     "text": [
      "[0]PETSC ERROR: ------------------------------------------------------------------------\n",
      "[0]PETSC ERROR: Caught signal number 13 Broken Pipe: Likely while reading or writing to a socket\n",
      "[0]PETSC ERROR: Try option -start_in_debugger or -on_error_attach_debugger\n",
      "[0]PETSC ERROR: or see https://petsc.org/release/faq/#valgrind and https://petsc.org/release/faq/\n",
      "[0]PETSC ERROR: configure using --with-debugging=yes, recompile, link, and run \n",
      "[0]PETSC ERROR: to get more information on the crash.\n"
     ]
    },
    {
     "data": {
      "application/vnd.jupyter.widget-view+json": {
       "model_id": "0241660f199e4498838938dd9ed1adc7",
       "version_major": 2,
       "version_minor": 0
      },
      "text/plain": [
       "  0%|          | 0/5139 [00:00<?, ?cell/s]"
      ]
     },
     "metadata": {},
     "output_type": "display_data"
    },
    {
     "name": "stderr",
     "output_type": "stream",
     "text": [
      "[0]PETSC ERROR: ------------------------------------------------------------------------\n",
      "[0]PETSC ERROR: Caught signal number 13 Broken Pipe: Likely while reading or writing to a socket\n",
      "[0]PETSC ERROR: Try option -start_in_debugger or -on_error_attach_debugger\n",
      "[0]PETSC ERROR: or see https://petsc.org/release/faq/#valgrind and https://petsc.org/release/faq/\n",
      "[0]PETSC ERROR: configure using --with-debugging=yes, recompile, link, and run \n",
      "[0]PETSC ERROR: to get more information on the crash.\n"
     ]
    },
    {
     "data": {
      "application/vnd.jupyter.widget-view+json": {
       "model_id": "2631e911445b41e4b984565d1cc7f7ef",
       "version_major": 2,
       "version_minor": 0
      },
      "text/plain": [
       "  0%|          | 0/5139 [00:00<?, ?cell/s]"
      ]
     },
     "metadata": {},
     "output_type": "display_data"
    },
    {
     "name": "stderr",
     "output_type": "stream",
     "text": [
      "[0]PETSC ERROR: ------------------------------------------------------------------------\n",
      "[0]PETSC ERROR: Caught signal number 13 Broken Pipe: Likely while reading or writing to a socket\n",
      "[0]PETSC ERROR: Try option -start_in_debugger or -on_error_attach_debugger\n",
      "[0]PETSC ERROR: or see https://petsc.org/release/faq/#valgrind and https://petsc.org/release/faq/\n",
      "[0]PETSC ERROR: configure using --with-debugging=yes, recompile, link, and run \n",
      "[0]PETSC ERROR: to get more information on the crash.\n"
     ]
    },
    {
     "data": {
      "application/vnd.jupyter.widget-view+json": {
       "model_id": "be93d680952e448fb816c2efcaebfba5",
       "version_major": 2,
       "version_minor": 0
      },
      "text/plain": [
       "  0%|          | 0/5139 [00:00<?, ?cell/s]"
      ]
     },
     "metadata": {},
     "output_type": "display_data"
    },
    {
     "name": "stderr",
     "output_type": "stream",
     "text": [
      "[0]PETSC ERROR: ------------------------------------------------------------------------\n",
      "[0]PETSC ERROR: Caught signal number 13 Broken Pipe: Likely while reading or writing to a socket\n",
      "[0]PETSC ERROR: Try option -start_in_debugger or -on_error_attach_debugger\n",
      "[0]PETSC ERROR: or see https://petsc.org/release/faq/#valgrind and https://petsc.org/release/faq/\n",
      "[0]PETSC ERROR: configure using --with-debugging=yes, recompile, link, and run \n",
      "[0]PETSC ERROR: to get more information on the crash.\n",
      "Abort(59) on node 0 (rank 0 in comm 0): application called MPI_Abort(MPI_COMM_WORLD, 59) - process 0\n"
     ]
    },
    {
     "data": {
      "application/vnd.jupyter.widget-view+json": {
       "model_id": "9ab165e7a3b84a7280fcca7336aed144",
       "version_major": 2,
       "version_minor": 0
      },
      "text/plain": [
       "  0%|          | 0/5139 [00:00<?, ?cell/s]"
      ]
     },
     "metadata": {},
     "output_type": "display_data"
    },
    {
     "name": "stderr",
     "output_type": "stream",
     "text": [
      "[0]PETSC ERROR: ------------------------------------------------------------------------\n",
      "[0]PETSC ERROR: Caught signal number 13 Broken Pipe: Likely while reading or writing to a socket\n",
      "[0]PETSC ERROR: Try option -start_in_debugger or -on_error_attach_debugger\n",
      "[0]PETSC ERROR: or see https://petsc.org/release/faq/#valgrind and https://petsc.org/release/faq/\n",
      "[0]PETSC ERROR: configure using --with-debugging=yes, recompile, link, and run \n",
      "[0]PETSC ERROR: to get more information on the crash.\n",
      "Abort(59) on node 0 (rank 0 in comm 0): application called MPI_Abort(MPI_COMM_WORLD, 59) - process 0\n"
     ]
    },
    {
     "name": "stdout",
     "output_type": "stream",
     "text": [
      "WARNING: Found only one macrostate, making it the singular terminal state\n",
      "WARNING: Requested more macrostates `3` than available Schur vectors `2`. Recomputing the decomposition\n",
      "WARNING: Requested more macrostates `4` than available Schur vectors `3`. Recomputing the decomposition\n",
      "WARNING: Requested more macrostates `5` than available Schur vectors `4`. Recomputing the decomposition\n",
      "WARNING: Requested more macrostates `6` than available Schur vectors `5`. Recomputing the decomposition\n",
      "WARNING: Requested more macrostates `7` than available Schur vectors `6`. Recomputing the decomposition\n",
      "WARNING: Requested more macrostates `8` than available Schur vectors `7`. Recomputing the decomposition\n",
      "WARNING: Requested more macrostates `9` than available Schur vectors `8`. Recomputing the decomposition\n",
      "WARNING: Found only one macrostate, making it the singular terminal state\n",
      "WARNING: Found only one macrostate, making it the singular terminal state\n",
      "WARNING: Found only one macrostate, making it the singular terminal state\n",
      "WARNING: Found only one macrostate, making it the singular terminal state\n",
      "WARNING: Found only one macrostate, making it the singular terminal state\n",
      "WARNING: Found only one macrostate, making it the singular terminal state\n",
      "WARNING: Found only one macrostate, making it the singular terminal state\n",
      "WARNING: Found only one macrostate, making it the singular terminal state\n",
      "WARNING: Found only one macrostate, making it the singular terminal state\n",
      "WARNING: Found only one macrostate, making it the singular terminal state\n",
      "WARNING: Found only one macrostate, making it the singular terminal state\n",
      "WARNING: Found only one macrostate, making it the singular terminal state\n",
      "WARNING: Found only one macrostate, making it the singular terminal state\n",
      "WARNING: Found only one macrostate, making it the singular terminal state\n",
      "WARNING: Found only one macrostate, making it the singular terminal state\n",
      "WARNING: Found only one macrostate, making it the singular terminal state\n",
      "WARNING: Found only one macrostate, making it the singular terminal state\n",
      "WARNING: Found only one macrostate, making it the singular terminal state\n",
      "WARNING: Found only one macrostate, making it the singular terminal state\n",
      "WARNING: Found only one macrostate, making it the singular terminal state\n",
      "WARNING: Requested more macrostates `3` than available Schur vectors `2`. Recomputing the decomposition\n",
      "WARNING: Requested more macrostates `4` than available Schur vectors `3`. Recomputing the decomposition\n",
      "WARNING: Requested more macrostates `5` than available Schur vectors `4`. Recomputing the decomposition\n",
      "WARNING: Requested more macrostates `6` than available Schur vectors `5`. Recomputing the decomposition\n",
      "WARNING: Requested more macrostates `7` than available Schur vectors `6`. Recomputing the decomposition\n",
      "WARNING: Requested more macrostates `8` than available Schur vectors `7`. Recomputing the decomposition\n",
      "WARNING: Requested more macrostates `9` than available Schur vectors `8`. Recomputing the decomposition\n",
      "WARNING: Found only one macrostate, making it the singular terminal state\n",
      "WARNING: Found only one macrostate, making it the singular terminal state\n",
      "WARNING: Found only one macrostate, making it the singular terminal state\n",
      "WARNING: Found only one macrostate, making it the singular terminal state\n",
      "WARNING: Found only one macrostate, making it the singular terminal state\n",
      "WARNING: Found only one macrostate, making it the singular terminal state\n",
      "WARNING: Found only one macrostate, making it the singular terminal state\n",
      "WARNING: Found only one macrostate, making it the singular terminal state\n",
      "WARNING: Found only one macrostate, making it the singular terminal state\n",
      "WARNING: Found only one macrostate, making it the singular terminal state\n",
      "WARNING: Found only one macrostate, making it the singular terminal state\n",
      "WARNING: Found only one macrostate, making it the singular terminal state\n",
      "WARNING: Found only one macrostate, making it the singular terminal state\n",
      "WARNING: Found only one macrostate, making it the singular terminal state\n",
      "WARNING: Found only one macrostate, making it the singular terminal state\n",
      "WARNING: Found only one macrostate, making it the singular terminal state\n",
      "WARNING: Found only one macrostate, making it the singular terminal state\n",
      "WARNING: Found only one macrostate, making it the singular terminal state\n",
      "WARNING: Found only one macrostate, making it the singular terminal state\n",
      "WARNING: Found only one macrostate, making it the singular terminal state\n",
      "WARNING: Requested more macrostates `3` than available Schur vectors `2`. Recomputing the decomposition\n",
      "WARNING: Requested more macrostates `4` than available Schur vectors `3`. Recomputing the decomposition\n",
      "WARNING: Requested more macrostates `5` than available Schur vectors `4`. Recomputing the decomposition\n",
      "WARNING: Requested more macrostates `6` than available Schur vectors `5`. Recomputing the decomposition\n",
      "WARNING: Requested more macrostates `7` than available Schur vectors `6`. Recomputing the decomposition\n",
      "WARNING: Requested more macrostates `8` than available Schur vectors `7`. Recomputing the decomposition\n",
      "WARNING: Requested more macrostates `9` than available Schur vectors `8`. Recomputing the decomposition\n",
      "WARNING: Found only one macrostate, making it the singular terminal state\n",
      "WARNING: Found only one macrostate, making it the singular terminal state\n",
      "WARNING: Found only one macrostate, making it the singular terminal state\n",
      "WARNING: Found only one macrostate, making it the singular terminal state\n",
      "WARNING: Found only one macrostate, making it the singular terminal state\n",
      "WARNING: Found only one macrostate, making it the singular terminal state\n",
      "WARNING: Found only one macrostate, making it the singular terminal state\n",
      "WARNING: Found only one macrostate, making it the singular terminal state\n",
      "WARNING: Found only one macrostate, making it the singular terminal state\n",
      "WARNING: Found only one macrostate, making it the singular terminal state\n",
      "WARNING: Found only one macrostate, making it the singular terminal state\n",
      "WARNING: Found only one macrostate, making it the singular terminal state\n",
      "WARNING: Found only one macrostate, making it the singular terminal state\n",
      "WARNING: Found only one macrostate, making it the singular terminal state\n",
      "WARNING: Found only one macrostate, making it the singular terminal state\n",
      "WARNING: Found only one macrostate, making it the singular terminal state\n",
      "WARNING: Found only one macrostate, making it the singular terminal state\n",
      "WARNING: Found only one macrostate, making it the singular terminal state\n",
      "WARNING: Found only one macrostate, making it the singular terminal state\n"
     ]
    },
    {
     "data": {
      "application/vnd.jupyter.widget-view+json": {
       "model_id": "70cb7ca879c349d697fb7f6ac7f08f79",
       "version_major": 2,
       "version_minor": 0
      },
      "text/plain": [
       "  0%|          | 0/6273 [00:00<?, ?cell/s]"
      ]
     },
     "metadata": {},
     "output_type": "display_data"
    },
    {
     "data": {
      "application/vnd.jupyter.widget-view+json": {
       "model_id": "09ea8b31dab449fd8ddba38f690a310a",
       "version_major": 2,
       "version_minor": 0
      },
      "text/plain": [
       "  0%|          | 0/6273 [00:00<?, ?cell/s]"
      ]
     },
     "metadata": {},
     "output_type": "display_data"
    },
    {
     "name": "stderr",
     "output_type": "stream",
     "text": [
      "[0]PETSC ERROR: ------------------------------------------------------------------------\n",
      "[0]PETSC ERROR: Caught signal number 13 Broken Pipe: Likely while reading or writing to a socket\n",
      "[0]PETSC ERROR: Try option -start_in_debugger or -on_error_attach_debugger\n",
      "[0]PETSC ERROR: or see https://petsc.org/release/faq/#valgrind and https://petsc.org/release/faq/\n",
      "[0]PETSC ERROR: configure using --with-debugging=yes, recompile, link, and run \n",
      "[0]PETSC ERROR: to get more information on the crash.\n"
     ]
    },
    {
     "data": {
      "application/vnd.jupyter.widget-view+json": {
       "model_id": "3b5f7a02633140c087f37ad6615605ca",
       "version_major": 2,
       "version_minor": 0
      },
      "text/plain": [
       "  0%|          | 0/6273 [00:00<?, ?cell/s]"
      ]
     },
     "metadata": {},
     "output_type": "display_data"
    },
    {
     "name": "stderr",
     "output_type": "stream",
     "text": [
      "[0]PETSC ERROR: ------------------------------------------------------------------------\n",
      "[0]PETSC ERROR: Caught signal number 13 Broken Pipe: Likely while reading or writing to a socket\n",
      "[0]PETSC ERROR: Try option -start_in_debugger or -on_error_attach_debugger\n",
      "[0]PETSC ERROR: or see https://petsc.org/release/faq/#valgrind and https://petsc.org/release/faq/\n",
      "[0]PETSC ERROR: configure using --with-debugging=yes, recompile, link, and run \n",
      "[0]PETSC ERROR: to get more information on the crash.\n"
     ]
    },
    {
     "data": {
      "application/vnd.jupyter.widget-view+json": {
       "model_id": "3c409138c97a4fca80cd01dbcb100e45",
       "version_major": 2,
       "version_minor": 0
      },
      "text/plain": [
       "  0%|          | 0/6273 [00:00<?, ?cell/s]"
      ]
     },
     "metadata": {},
     "output_type": "display_data"
    },
    {
     "name": "stderr",
     "output_type": "stream",
     "text": [
      "[0]PETSC ERROR: ------------------------------------------------------------------------\n",
      "[0]PETSC ERROR: Caught signal number 13 Broken Pipe: Likely while reading or writing to a socket\n",
      "[0]PETSC ERROR: Try option -start_in_debugger or -on_error_attach_debugger\n",
      "[0]PETSC ERROR: or see https://petsc.org/release/faq/#valgrind and https://petsc.org/release/faq/\n",
      "[0]PETSC ERROR: configure using --with-debugging=yes, recompile, link, and run \n",
      "[0]PETSC ERROR: to get more information on the crash.\n"
     ]
    },
    {
     "data": {
      "application/vnd.jupyter.widget-view+json": {
       "model_id": "deb4fee5a51f4226a6a83b6e77604165",
       "version_major": 2,
       "version_minor": 0
      },
      "text/plain": [
       "  0%|          | 0/6273 [00:00<?, ?cell/s]"
      ]
     },
     "metadata": {},
     "output_type": "display_data"
    },
    {
     "name": "stderr",
     "output_type": "stream",
     "text": [
      "[0]PETSC ERROR: ------------------------------------------------------------------------\n",
      "[0]PETSC ERROR: Caught signal number 13 Broken Pipe: Likely while reading or writing to a socket\n",
      "[0]PETSC ERROR: Try option -start_in_debugger or -on_error_attach_debugger\n",
      "[0]PETSC ERROR: or see https://petsc.org/release/faq/#valgrind and https://petsc.org/release/faq/\n",
      "[0]PETSC ERROR: configure using --with-debugging=yes, recompile, link, and run \n",
      "[0]PETSC ERROR: to get more information on the crash.\n"
     ]
    },
    {
     "data": {
      "application/vnd.jupyter.widget-view+json": {
       "model_id": "21351ffae9f048188f0a7de65640dd53",
       "version_major": 2,
       "version_minor": 0
      },
      "text/plain": [
       "  0%|          | 0/6273 [00:00<?, ?cell/s]"
      ]
     },
     "metadata": {},
     "output_type": "display_data"
    },
    {
     "name": "stderr",
     "output_type": "stream",
     "text": [
      "[0]PETSC ERROR: ------------------------------------------------------------------------\n",
      "[0]PETSC ERROR: Caught signal number 13 Broken Pipe: Likely while reading or writing to a socket\n",
      "[0]PETSC ERROR: Try option -start_in_debugger or -on_error_attach_debugger\n",
      "[0]PETSC ERROR: or see https://petsc.org/release/faq/#valgrind and https://petsc.org/release/faq/\n",
      "[0]PETSC ERROR: configure using --with-debugging=yes, recompile, link, and run \n",
      "[0]PETSC ERROR: to get more information on the crash.\n",
      "Abort(59) on node 0 (rank 0 in comm 0): application called MPI_Abort(MPI_COMM_WORLD, 59) - process 0\n"
     ]
    },
    {
     "name": "stdout",
     "output_type": "stream",
     "text": [
      "WARNING: Found only one macrostate, making it the singular terminal state\n",
      "WARNING: Requested more macrostates `3` than available Schur vectors `2`. Recomputing the decomposition\n",
      "WARNING: Requested more macrostates `4` than available Schur vectors `3`. Recomputing the decomposition\n",
      "WARNING: Requested more macrostates `5` than available Schur vectors `4`. Recomputing the decomposition\n",
      "WARNING: Requested more macrostates `6` than available Schur vectors `5`. Recomputing the decomposition\n",
      "WARNING: Requested more macrostates `7` than available Schur vectors `6`. Recomputing the decomposition\n",
      "WARNING: Requested more macrostates `8` than available Schur vectors `7`. Recomputing the decomposition\n",
      "WARNING: Requested more macrostates `9` than available Schur vectors `8`. Recomputing the decomposition\n",
      "WARNING: Found only one macrostate, making it the singular terminal state\n",
      "WARNING: Found only one macrostate, making it the singular terminal state\n",
      "WARNING: Found only one macrostate, making it the singular terminal state\n",
      "WARNING: Found only one macrostate, making it the singular terminal state\n",
      "WARNING: Found only one macrostate, making it the singular terminal state\n",
      "WARNING: Found only one macrostate, making it the singular terminal state\n",
      "WARNING: Found only one macrostate, making it the singular terminal state\n",
      "WARNING: Found only one macrostate, making it the singular terminal state\n",
      "WARNING: Found only one macrostate, making it the singular terminal state\n",
      "WARNING: Found only one macrostate, making it the singular terminal state\n",
      "WARNING: Found only one macrostate, making it the singular terminal state\n",
      "WARNING: Found only one macrostate, making it the singular terminal state\n",
      "WARNING: Found only one macrostate, making it the singular terminal state\n",
      "WARNING: Found only one macrostate, making it the singular terminal state\n",
      "WARNING: Found only one macrostate, making it the singular terminal state\n",
      "WARNING: Found only one macrostate, making it the singular terminal state\n",
      "WARNING: Found only one macrostate, making it the singular terminal state\n",
      "WARNING: Found only one macrostate, making it the singular terminal state\n",
      "WARNING: Requested more macrostates `3` than available Schur vectors `2`. Recomputing the decomposition\n",
      "WARNING: Requested more macrostates `4` than available Schur vectors `3`. Recomputing the decomposition\n",
      "WARNING: Requested more macrostates `5` than available Schur vectors `4`. Recomputing the decomposition\n",
      "WARNING: Requested more macrostates `6` than available Schur vectors `5`. Recomputing the decomposition\n",
      "WARNING: Requested more macrostates `7` than available Schur vectors `6`. Recomputing the decomposition\n",
      "WARNING: Requested more macrostates `8` than available Schur vectors `7`. Recomputing the decomposition\n",
      "WARNING: Requested more macrostates `9` than available Schur vectors `8`. Recomputing the decomposition\n",
      "WARNING: Found only one macrostate, making it the singular terminal state\n",
      "WARNING: Found only one macrostate, making it the singular terminal state\n",
      "WARNING: Found only one macrostate, making it the singular terminal state\n",
      "WARNING: Found only one macrostate, making it the singular terminal state\n",
      "WARNING: Found only one macrostate, making it the singular terminal state\n",
      "WARNING: Found only one macrostate, making it the singular terminal state\n",
      "WARNING: Found only one macrostate, making it the singular terminal state\n",
      "WARNING: Found only one macrostate, making it the singular terminal state\n",
      "WARNING: Found only one macrostate, making it the singular terminal state\n",
      "WARNING: Found only one macrostate, making it the singular terminal state\n",
      "WARNING: Found only one macrostate, making it the singular terminal state\n",
      "WARNING: Found only one macrostate, making it the singular terminal state\n",
      "WARNING: Found only one macrostate, making it the singular terminal state\n",
      "WARNING: Found only one macrostate, making it the singular terminal state\n",
      "WARNING: Found only one macrostate, making it the singular terminal state\n",
      "WARNING: Found only one macrostate, making it the singular terminal state\n",
      "WARNING: Found only one macrostate, making it the singular terminal state\n",
      "WARNING: Found only one macrostate, making it the singular terminal state\n",
      "WARNING: Found only one macrostate, making it the singular terminal state\n",
      "WARNING: Found only one macrostate, making it the singular terminal state\n",
      "WARNING: Requested more macrostates `3` than available Schur vectors `2`. Recomputing the decomposition\n",
      "WARNING: Requested more macrostates `4` than available Schur vectors `3`. Recomputing the decomposition\n",
      "WARNING: Requested more macrostates `5` than available Schur vectors `4`. Recomputing the decomposition\n",
      "WARNING: Requested more macrostates `6` than available Schur vectors `5`. Recomputing the decomposition\n",
      "WARNING: Requested more macrostates `7` than available Schur vectors `6`. Recomputing the decomposition\n",
      "WARNING: Requested more macrostates `8` than available Schur vectors `7`. Recomputing the decomposition\n",
      "WARNING: Requested more macrostates `9` than available Schur vectors `8`. Recomputing the decomposition\n",
      "WARNING: Found only one macrostate, making it the singular terminal state\n",
      "WARNING: Found only one macrostate, making it the singular terminal state\n",
      "WARNING: Found only one macrostate, making it the singular terminal state\n",
      "WARNING: Found only one macrostate, making it the singular terminal state\n",
      "WARNING: Found only one macrostate, making it the singular terminal state\n",
      "WARNING: Found only one macrostate, making it the singular terminal state\n",
      "WARNING: Found only one macrostate, making it the singular terminal state\n",
      "WARNING: Found only one macrostate, making it the singular terminal state\n",
      "WARNING: Found only one macrostate, making it the singular terminal state\n",
      "WARNING: Found only one macrostate, making it the singular terminal state\n",
      "WARNING: Found only one macrostate, making it the singular terminal state\n",
      "WARNING: Found only one macrostate, making it the singular terminal state\n",
      "WARNING: Found only one macrostate, making it the singular terminal state\n",
      "WARNING: Found only one macrostate, making it the singular terminal state\n",
      "WARNING: Found only one macrostate, making it the singular terminal state\n",
      "WARNING: Found only one macrostate, making it the singular terminal state\n",
      "WARNING: Found only one macrostate, making it the singular terminal state\n",
      "WARNING: Found only one macrostate, making it the singular terminal state\n",
      "WARNING: Found only one macrostate, making it the singular terminal state\n"
     ]
    },
    {
     "data": {
      "application/vnd.jupyter.widget-view+json": {
       "model_id": "e8f52b102cfc4799bba6a5d52515af3c",
       "version_major": 2,
       "version_minor": 0
      },
      "text/plain": [
       "  0%|          | 0/8821 [00:00<?, ?cell/s]"
      ]
     },
     "metadata": {},
     "output_type": "display_data"
    },
    {
     "data": {
      "application/vnd.jupyter.widget-view+json": {
       "model_id": "44b806e1aa84400286f077a302d68514",
       "version_major": 2,
       "version_minor": 0
      },
      "text/plain": [
       "  0%|          | 0/8821 [00:00<?, ?cell/s]"
      ]
     },
     "metadata": {},
     "output_type": "display_data"
    },
    {
     "data": {
      "application/vnd.jupyter.widget-view+json": {
       "model_id": "aafd5e888d8c45368e64d410a6cfe72c",
       "version_major": 2,
       "version_minor": 0
      },
      "text/plain": [
       "  0%|          | 0/8821 [00:00<?, ?cell/s]"
      ]
     },
     "metadata": {},
     "output_type": "display_data"
    },
    {
     "data": {
      "application/vnd.jupyter.widget-view+json": {
       "model_id": "14d05af23bc74d77a5b293dd2f19a042",
       "version_major": 2,
       "version_minor": 0
      },
      "text/plain": [
       "  0%|          | 0/8821 [00:00<?, ?cell/s]"
      ]
     },
     "metadata": {},
     "output_type": "display_data"
    },
    {
     "data": {
      "application/vnd.jupyter.widget-view+json": {
       "model_id": "25a3c62c73ed4aa4a35850ff683e2096",
       "version_major": 2,
       "version_minor": 0
      },
      "text/plain": [
       "  0%|          | 0/8821 [00:00<?, ?cell/s]"
      ]
     },
     "metadata": {},
     "output_type": "display_data"
    },
    {
     "data": {
      "application/vnd.jupyter.widget-view+json": {
       "model_id": "5b900173338242b48fdbb14cc0a2d89a",
       "version_major": 2,
       "version_minor": 0
      },
      "text/plain": [
       "  0%|          | 0/8821 [00:00<?, ?cell/s]"
      ]
     },
     "metadata": {},
     "output_type": "display_data"
    },
    {
     "name": "stdout",
     "output_type": "stream",
     "text": [
      "WARNING: Found only one macrostate, making it the singular terminal state\n",
      "WARNING: Requested more macrostates `3` than available Schur vectors `2`. Recomputing the decomposition\n",
      "WARNING: Requested more macrostates `4` than available Schur vectors `3`. Recomputing the decomposition\n",
      "WARNING: Requested more macrostates `5` than available Schur vectors `4`. Recomputing the decomposition\n",
      "WARNING: Requested more macrostates `6` than available Schur vectors `5`. Recomputing the decomposition\n",
      "WARNING: Requested more macrostates `7` than available Schur vectors `6`. Recomputing the decomposition\n",
      "WARNING: Requested more macrostates `8` than available Schur vectors `7`. Recomputing the decomposition\n",
      "WARNING: Requested more macrostates `9` than available Schur vectors `8`. Recomputing the decomposition\n",
      "WARNING: Requested more macrostates `10` than available Schur vectors `9`. Recomputing the decomposition\n",
      "WARNING: Requested more macrostates `11` than available Schur vectors `10`. Recomputing the decomposition\n",
      "WARNING: Requested more macrostates `12` than available Schur vectors `11`. Recomputing the decomposition\n",
      "WARNING: Requested more macrostates `13` than available Schur vectors `12`. Recomputing the decomposition\n",
      "WARNING: Requested more macrostates `14` than available Schur vectors `13`. Recomputing the decomposition\n",
      "WARNING: Found only one macrostate, making it the singular terminal state\n",
      "WARNING: Found only one macrostate, making it the singular terminal state\n",
      "WARNING: Found only one macrostate, making it the singular terminal state\n",
      "WARNING: Found only one macrostate, making it the singular terminal state\n",
      "WARNING: Found only one macrostate, making it the singular terminal state\n",
      "WARNING: Found only one macrostate, making it the singular terminal state\n",
      "WARNING: Found only one macrostate, making it the singular terminal state\n",
      "WARNING: Found only one macrostate, making it the singular terminal state\n",
      "WARNING: Found only one macrostate, making it the singular terminal state\n",
      "WARNING: Found only one macrostate, making it the singular terminal state\n",
      "WARNING: Found only one macrostate, making it the singular terminal state\n",
      "WARNING: Found only one macrostate, making it the singular terminal state\n",
      "WARNING: Found only one macrostate, making it the singular terminal state\n",
      "WARNING: Found only one macrostate, making it the singular terminal state\n",
      "WARNING: Found only one macrostate, making it the singular terminal state\n",
      "WARNING: Found only one macrostate, making it the singular terminal state\n",
      "WARNING: Found only one macrostate, making it the singular terminal state\n",
      "WARNING: Found only one macrostate, making it the singular terminal state\n",
      "WARNING: Found only one macrostate, making it the singular terminal state\n",
      "WARNING: Found only one macrostate, making it the singular terminal state\n",
      "WARNING: Requested more macrostates `3` than available Schur vectors `2`. Recomputing the decomposition\n",
      "WARNING: Requested more macrostates `4` than available Schur vectors `3`. Recomputing the decomposition\n",
      "WARNING: Requested more macrostates `5` than available Schur vectors `4`. Recomputing the decomposition\n",
      "WARNING: Requested more macrostates `6` than available Schur vectors `5`. Recomputing the decomposition\n",
      "WARNING: Requested more macrostates `7` than available Schur vectors `6`. Recomputing the decomposition\n",
      "WARNING: Requested more macrostates `8` than available Schur vectors `7`. Recomputing the decomposition\n",
      "WARNING: Requested more macrostates `9` than available Schur vectors `8`. Recomputing the decomposition\n",
      "WARNING: Requested more macrostates `10` than available Schur vectors `9`. Recomputing the decomposition\n",
      "WARNING: Requested more macrostates `11` than available Schur vectors `10`. Recomputing the decomposition\n",
      "WARNING: Requested more macrostates `12` than available Schur vectors `11`. Recomputing the decomposition\n",
      "WARNING: Requested more macrostates `13` than available Schur vectors `12`. Recomputing the decomposition\n",
      "WARNING: Requested more macrostates `14` than available Schur vectors `13`. Recomputing the decomposition\n",
      "WARNING: Found only one macrostate, making it the singular terminal state\n",
      "WARNING: Found only one macrostate, making it the singular terminal state\n",
      "WARNING: Found only one macrostate, making it the singular terminal state\n",
      "WARNING: Found only one macrostate, making it the singular terminal state\n",
      "WARNING: Found only one macrostate, making it the singular terminal state\n",
      "WARNING: Found only one macrostate, making it the singular terminal state\n",
      "WARNING: Found only one macrostate, making it the singular terminal state\n",
      "WARNING: Found only one macrostate, making it the singular terminal state\n",
      "WARNING: Found only one macrostate, making it the singular terminal state\n",
      "WARNING: Found only one macrostate, making it the singular terminal state\n",
      "WARNING: Found only one macrostate, making it the singular terminal state\n",
      "WARNING: Found only one macrostate, making it the singular terminal state\n",
      "WARNING: Found only one macrostate, making it the singular terminal state\n",
      "WARNING: Found only one macrostate, making it the singular terminal state\n",
      "WARNING: Found only one macrostate, making it the singular terminal state\n",
      "WARNING: Found only one macrostate, making it the singular terminal state\n",
      "WARNING: Found only one macrostate, making it the singular terminal state\n",
      "WARNING: Found only one macrostate, making it the singular terminal state\n",
      "WARNING: Found only one macrostate, making it the singular terminal state\n",
      "WARNING: Found only one macrostate, making it the singular terminal state\n",
      "WARNING: Requested more macrostates `3` than available Schur vectors `2`. Recomputing the decomposition\n",
      "WARNING: Requested more macrostates `4` than available Schur vectors `3`. Recomputing the decomposition\n",
      "WARNING: Requested more macrostates `5` than available Schur vectors `4`. Recomputing the decomposition\n",
      "WARNING: Requested more macrostates `6` than available Schur vectors `5`. Recomputing the decomposition\n",
      "WARNING: Requested more macrostates `7` than available Schur vectors `6`. Recomputing the decomposition\n",
      "WARNING: Requested more macrostates `8` than available Schur vectors `7`. Recomputing the decomposition\n",
      "WARNING: Unable to compute macrostates with `n_states=8` because it will split complex conjugate eigenvalues. Using `n_states=9`\n",
      "WARNING: Requested more macrostates `10` than available Schur vectors `9`. Recomputing the decomposition\n",
      "WARNING: Requested more macrostates `11` than available Schur vectors `10`. Recomputing the decomposition\n",
      "WARNING: Requested more macrostates `12` than available Schur vectors `11`. Recomputing the decomposition\n",
      "WARNING: Requested more macrostates `13` than available Schur vectors `12`. Recomputing the decomposition\n",
      "WARNING: Requested more macrostates `14` than available Schur vectors `13`. Recomputing the decomposition\n",
      "WARNING: Unable to compute macrostates with `n_states=14` because it will split complex conjugate eigenvalues. Using `n_states=15`\n",
      "WARNING: Found only one macrostate, making it the singular terminal state\n",
      "WARNING: Unable to compute macrostates with `n_states=8` because it will split complex conjugate eigenvalues. Using `n_states=9`\n",
      "WARNING: Unable to compute macrostates with `n_states=14` because it will split complex conjugate eigenvalues. Using `n_states=15`\n",
      "WARNING: Found only one macrostate, making it the singular terminal state\n",
      "WARNING: Unable to compute macrostates with `n_states=8` because it will split complex conjugate eigenvalues. Using `n_states=9`\n",
      "WARNING: Unable to compute macrostates with `n_states=14` because it will split complex conjugate eigenvalues. Using `n_states=15`\n",
      "WARNING: Found only one macrostate, making it the singular terminal state\n",
      "WARNING: Unable to compute macrostates with `n_states=8` because it will split complex conjugate eigenvalues. Using `n_states=9`\n",
      "WARNING: Unable to compute macrostates with `n_states=14` because it will split complex conjugate eigenvalues. Using `n_states=15`\n",
      "WARNING: Found only one macrostate, making it the singular terminal state\n",
      "WARNING: Unable to compute macrostates with `n_states=8` because it will split complex conjugate eigenvalues. Using `n_states=9`\n",
      "WARNING: Unable to compute macrostates with `n_states=14` because it will split complex conjugate eigenvalues. Using `n_states=15`\n",
      "WARNING: Found only one macrostate, making it the singular terminal state\n",
      "WARNING: Unable to compute macrostates with `n_states=8` because it will split complex conjugate eigenvalues. Using `n_states=9`\n",
      "WARNING: Unable to compute macrostates with `n_states=14` because it will split complex conjugate eigenvalues. Using `n_states=15`\n",
      "WARNING: Found only one macrostate, making it the singular terminal state\n",
      "WARNING: Unable to compute macrostates with `n_states=8` because it will split complex conjugate eigenvalues. Using `n_states=9`\n",
      "WARNING: Unable to compute macrostates with `n_states=14` because it will split complex conjugate eigenvalues. Using `n_states=15`\n",
      "WARNING: Found only one macrostate, making it the singular terminal state\n",
      "WARNING: Unable to compute macrostates with `n_states=8` because it will split complex conjugate eigenvalues. Using `n_states=9`\n",
      "WARNING: Unable to compute macrostates with `n_states=14` because it will split complex conjugate eigenvalues. Using `n_states=15`\n",
      "WARNING: Found only one macrostate, making it the singular terminal state\n",
      "WARNING: Unable to compute macrostates with `n_states=8` because it will split complex conjugate eigenvalues. Using `n_states=9`\n",
      "WARNING: Unable to compute macrostates with `n_states=14` because it will split complex conjugate eigenvalues. Using `n_states=15`\n",
      "WARNING: Found only one macrostate, making it the singular terminal state\n",
      "WARNING: Unable to compute macrostates with `n_states=8` because it will split complex conjugate eigenvalues. Using `n_states=9`\n",
      "WARNING: Unable to compute macrostates with `n_states=14` because it will split complex conjugate eigenvalues. Using `n_states=15`\n",
      "WARNING: Found only one macrostate, making it the singular terminal state\n",
      "WARNING: Unable to compute macrostates with `n_states=8` because it will split complex conjugate eigenvalues. Using `n_states=9`\n",
      "WARNING: Unable to compute macrostates with `n_states=14` because it will split complex conjugate eigenvalues. Using `n_states=15`\n",
      "WARNING: Found only one macrostate, making it the singular terminal state\n",
      "WARNING: Unable to compute macrostates with `n_states=8` because it will split complex conjugate eigenvalues. Using `n_states=9`\n",
      "WARNING: Unable to compute macrostates with `n_states=14` because it will split complex conjugate eigenvalues. Using `n_states=15`\n",
      "WARNING: Found only one macrostate, making it the singular terminal state\n",
      "WARNING: Unable to compute macrostates with `n_states=8` because it will split complex conjugate eigenvalues. Using `n_states=9`\n",
      "WARNING: Unable to compute macrostates with `n_states=14` because it will split complex conjugate eigenvalues. Using `n_states=15`\n",
      "WARNING: Found only one macrostate, making it the singular terminal state\n",
      "WARNING: Unable to compute macrostates with `n_states=8` because it will split complex conjugate eigenvalues. Using `n_states=9`\n",
      "WARNING: Unable to compute macrostates with `n_states=14` because it will split complex conjugate eigenvalues. Using `n_states=15`\n",
      "WARNING: Found only one macrostate, making it the singular terminal state\n",
      "WARNING: Unable to compute macrostates with `n_states=8` because it will split complex conjugate eigenvalues. Using `n_states=9`\n",
      "WARNING: Unable to compute macrostates with `n_states=14` because it will split complex conjugate eigenvalues. Using `n_states=15`\n",
      "WARNING: Found only one macrostate, making it the singular terminal state\n",
      "WARNING: Unable to compute macrostates with `n_states=8` because it will split complex conjugate eigenvalues. Using `n_states=9`\n",
      "WARNING: Unable to compute macrostates with `n_states=14` because it will split complex conjugate eigenvalues. Using `n_states=15`\n",
      "WARNING: Found only one macrostate, making it the singular terminal state\n",
      "WARNING: Unable to compute macrostates with `n_states=8` because it will split complex conjugate eigenvalues. Using `n_states=9`\n",
      "WARNING: Unable to compute macrostates with `n_states=14` because it will split complex conjugate eigenvalues. Using `n_states=15`\n",
      "WARNING: Found only one macrostate, making it the singular terminal state\n",
      "WARNING: Unable to compute macrostates with `n_states=8` because it will split complex conjugate eigenvalues. Using `n_states=9`\n",
      "WARNING: Unable to compute macrostates with `n_states=14` because it will split complex conjugate eigenvalues. Using `n_states=15`\n",
      "WARNING: Found only one macrostate, making it the singular terminal state\n",
      "WARNING: Unable to compute macrostates with `n_states=8` because it will split complex conjugate eigenvalues. Using `n_states=9`\n",
      "WARNING: Unable to compute macrostates with `n_states=14` because it will split complex conjugate eigenvalues. Using `n_states=15`\n",
      "WARNING: Found only one macrostate, making it the singular terminal state\n",
      "WARNING: Unable to compute macrostates with `n_states=8` because it will split complex conjugate eigenvalues. Using `n_states=9`\n",
      "WARNING: Unable to compute macrostates with `n_states=14` because it will split complex conjugate eigenvalues. Using `n_states=15`\n"
     ]
    }
   ],
   "source": [
    "tsi_scale = []\n",
    "for scale_level in range(2, 6):\n",
    "    ks = {}\n",
    "\n",
    "    g = []\n",
    "    for method in VELOCITY_METHODS:\n",
    "        adata = sc.read_h5ad(\n",
    "            DATA_DIR / DATASET / \"processed\" / f\"adata_run_stage_{scale_level}_{method}_all_regulons.h5ad\"\n",
    "        )\n",
    "        g.append(adata.shape[0])\n",
    "        ## construct graph\n",
    "        vk = cr.kernels.VelocityKernel(adata).compute_transition_matrix()\n",
    "        ck = cr.kernels.ConnectivityKernel(adata).compute_transition_matrix()\n",
    "        ks[method] = 0.8 * vk + 0.2 * ck\n",
    "\n",
    "    estimators = {}\n",
    "    tsi = {}\n",
    "\n",
    "    num_max_states = 10\n",
    "    if scale_level == 5:\n",
    "        num_max_states = 15\n",
    "\n",
    "    for method in VELOCITY_METHODS:\n",
    "        estimators[method] = cr.estimators.GPCCA(ks[method])\n",
    "        tsi[method] = get_tsi_score(\n",
    "            adata,\n",
    "            thresholds,\n",
    "            \"assignments\",\n",
    "            set(adata.obs[\"assignments\"].unique().tolist()).intersection(TERMINAL_STATE),\n",
    "            estimators[method],\n",
    "            max_states=num_max_states,\n",
    "        )\n",
    "\n",
    "    tsi_scale.append(tsi)"
   ]
  },
  {
   "cell_type": "markdown",
   "id": "9431fc1a-fe55-4fe8-8d68-755c638902a3",
   "metadata": {
    "tags": []
   },
   "source": [
    "## Plot TSI benchmark on each scale"
   ]
  },
  {
   "cell_type": "code",
   "execution_count": 11,
   "id": "fe9ad858-78ff-4847-a6bd-da64267405b5",
   "metadata": {
    "tags": []
   },
   "outputs": [
    {
     "name": "stdout",
     "output_type": "stream",
     "text": [
      "velovi:7.827229644930834e-14 scvelo:1.9725858953433486e-59\n"
     ]
    },
    {
     "data": {
      "image/png": "[encoded data removed]",
      "text/plain": [
       "<Figure size 240x320 with 1 Axes>"
      ]
     },
     "metadata": {
      "image/png": {
       "height": 298,
       "width": 250
      }
     },
     "output_type": "display_data"
    },
    {
     "name": "stdout",
     "output_type": "stream",
     "text": [
      "velovi:0.0 scvelo:0.0\n"
     ]
    },
    {
     "data": {
      "image/png": "[encoded data removed]",
      "text/plain": [
       "<Figure size 240x320 with 1 Axes>"
      ]
     },
     "metadata": {
      "image/png": {
       "height": 298,
       "width": 250
      }
     },
     "output_type": "display_data"
    },
    {
     "name": "stdout",
     "output_type": "stream",
     "text": [
      "velovi:0.0 scvelo:0.0\n"
     ]
    },
    {
     "data": {
      "image/png": "[encoded data removed]",
      "text/plain": [
       "<Figure size 240x320 with 1 Axes>"
      ]
     },
     "metadata": {
      "image/png": {
       "height": 298,
       "width": 250
      }
     },
     "output_type": "display_data"
    },
    {
     "name": "stdout",
     "output_type": "stream",
     "text": [
      "velovi:0.0 scvelo:9.71010180139941e-64\n"
     ]
    },
    {
     "data": {
      "image/png": "[encoded data removed]",
      "text/plain": [
       "<Figure size 240x320 with 1 Axes>"
      ]
     },
     "metadata": {
      "image/png": {
       "height": 298,
       "width": 250
      }
     },
     "output_type": "display_data"
    }
   ],
   "source": [
    "for scale_level in range(4):\n",
    "    tsi = tsi_scale[scale_level]\n",
    "\n",
    "    df = pd.DataFrame(\n",
    "        {\n",
    "            \"TSI\": tsi[\"regvelo\"] + tsi[\"velovi\"] + tsi[\"scvelo\"],\n",
    "            \"Model\": [\"RegVelo\"] * 20 + [\"veloVI\"] * 20 + [\"scVelo\"] * 20,\n",
    "        }\n",
    "    )\n",
    "\n",
    "    with mplscience.style_context():\n",
    "        sns.set_style(style=\"whitegrid\")\n",
    "        fig, ax = plt.subplots(figsize=(3, 4))\n",
    "\n",
    "        sns.barplot(data=df, x=\"Model\", y=\"TSI\", palette=\"colorblind\", ax=ax)\n",
    "\n",
    "        # Add jittered dots\n",
    "        sns.stripplot(data=df, x=\"Model\", y=\"TSI\", color=\"black\", jitter=True, dodge=True, ax=ax, alpha=0.6, size=4)\n",
    "\n",
    "        ttest_res = ttest_ind(tsi[\"regvelo\"], tsi[\"velovi\"], alternative=\"greater\")\n",
    "        significance = get_significance(ttest_res.pvalue)\n",
    "        significance_vv = ttest_res.pvalue\n",
    "\n",
    "        add_significance(\n",
    "            ax=ax,\n",
    "            left=0,\n",
    "            right=1,\n",
    "            significance=significance,\n",
    "            lw=1,\n",
    "            bracket_level=1.05,\n",
    "            c=\"k\",\n",
    "            level=0,\n",
    "        )\n",
    "\n",
    "        ttest_res = ttest_ind(tsi[\"regvelo\"], tsi[\"scvelo\"], alternative=\"greater\")\n",
    "        significance = get_significance(ttest_res.pvalue)\n",
    "        significance_sv = ttest_res.pvalue\n",
    "\n",
    "        add_significance(ax=ax, left=0, right=2, significance=significance, lw=1, c=\"k\", level=2, bracket_level=0.9)\n",
    "\n",
    "        y_min, y_max = ax.get_ylim()\n",
    "        ax.set_ylim([y_min, y_max + 0.02])\n",
    "        print(\"velovi:\" + str(significance_vv) + \" \" + \"scvelo:\" + str(significance_sv))\n",
    "        # if SAVE_FIGURES:\n",
    "        #    fig.savefig(FIG_DIR / DATASET / f\"tsi_benchmark_stage_{scale_level}_all_regulons.svg\", format=\"svg\", transparent=True, bbox_inches=\"tight\")\n",
    "        plt.show()"
   ]
  },
  {
   "cell_type": "code",
   "execution_count": 13,
   "id": "821076a1-6440-4cbb-b90b-e87bcb524d87",
   "metadata": {
    "tags": []
   },
   "outputs": [
    {
     "data": {
      "text/html": [
       "<div>\n",
       "<style scoped>\n",
       "    .dataframe tbody tr th:only-of-type {\n",
       "        vertical-align: middle;\n",
       "    }\n",
       "\n",
       "    .dataframe tbody tr th {\n",
       "        vertical-align: top;\n",
       "    }\n",
       "\n",
       "    .dataframe thead th {\n",
       "        text-align: right;\n",
       "    }\n",
       "</style>\n",
       "<table border=\"1\" class=\"dataframe\">\n",
       "  <thead>\n",
       "    <tr style=\"text-align: right;\">\n",
       "      <th></th>\n",
       "      <th>TSI</th>\n",
       "      <th>Model</th>\n",
       "      <th>scale</th>\n",
       "    </tr>\n",
       "  </thead>\n",
       "  <tbody>\n",
       "    <tr>\n",
       "      <th>0</th>\n",
       "      <td>0.904762</td>\n",
       "      <td>RegVelo</td>\n",
       "      <td>1</td>\n",
       "    </tr>\n",
       "    <tr>\n",
       "      <th>1</th>\n",
       "      <td>0.904762</td>\n",
       "      <td>RegVelo</td>\n",
       "      <td>1</td>\n",
       "    </tr>\n",
       "    <tr>\n",
       "      <th>2</th>\n",
       "      <td>0.904762</td>\n",
       "      <td>RegVelo</td>\n",
       "      <td>1</td>\n",
       "    </tr>\n",
       "    <tr>\n",
       "      <th>3</th>\n",
       "      <td>0.904762</td>\n",
       "      <td>RegVelo</td>\n",
       "      <td>1</td>\n",
       "    </tr>\n",
       "    <tr>\n",
       "      <th>4</th>\n",
       "      <td>0.904762</td>\n",
       "      <td>RegVelo</td>\n",
       "      <td>1</td>\n",
       "    </tr>\n",
       "    <tr>\n",
       "      <th>...</th>\n",
       "      <td>...</td>\n",
       "      <td>...</td>\n",
       "      <td>...</td>\n",
       "    </tr>\n",
       "    <tr>\n",
       "      <th>55</th>\n",
       "      <td>0.600000</td>\n",
       "      <td>scVelo</td>\n",
       "      <td>4</td>\n",
       "    </tr>\n",
       "    <tr>\n",
       "      <th>56</th>\n",
       "      <td>0.600000</td>\n",
       "      <td>scVelo</td>\n",
       "      <td>4</td>\n",
       "    </tr>\n",
       "    <tr>\n",
       "      <th>57</th>\n",
       "      <td>0.600000</td>\n",
       "      <td>scVelo</td>\n",
       "      <td>4</td>\n",
       "    </tr>\n",
       "    <tr>\n",
       "      <th>58</th>\n",
       "      <td>0.600000</td>\n",
       "      <td>scVelo</td>\n",
       "      <td>4</td>\n",
       "    </tr>\n",
       "    <tr>\n",
       "      <th>59</th>\n",
       "      <td>0.588235</td>\n",
       "      <td>scVelo</td>\n",
       "      <td>4</td>\n",
       "    </tr>\n",
       "  </tbody>\n",
       "</table>\n",
       "<p>240 rows × 3 columns</p>\n",
       "</div>"
      ],
      "text/plain": [
       "         TSI    Model scale\n",
       "0   0.904762  RegVelo     1\n",
       "1   0.904762  RegVelo     1\n",
       "2   0.904762  RegVelo     1\n",
       "3   0.904762  RegVelo     1\n",
       "4   0.904762  RegVelo     1\n",
       "..       ...      ...   ...\n",
       "55  0.600000   scVelo     4\n",
       "56  0.600000   scVelo     4\n",
       "57  0.600000   scVelo     4\n",
       "58  0.600000   scVelo     4\n",
       "59  0.588235   scVelo     4\n",
       "\n",
       "[240 rows x 3 columns]"
      ]
     },
     "execution_count": 13,
     "metadata": {},
     "output_type": "execute_result"
    }
   ],
   "source": [
    "df_all = []\n",
    "for i in range(4):\n",
    "    tsi = tsi_scale[i]\n",
    "\n",
    "    df = pd.DataFrame(\n",
    "        {\n",
    "            \"TSI\": tsi[\"regvelo\"] + tsi[\"velovi\"] + tsi[\"scvelo\"],\n",
    "            \"Model\": [\"RegVelo\"] * 20 + [\"veloVI\"] * 20 + [\"scVelo\"] * 20,\n",
    "        }\n",
    "    )\n",
    "\n",
    "    df[\"scale\"] = str(i + 1)\n",
    "    df_all.append(df)\n",
    "\n",
    "df = pd.concat(df_all, axis=0)\n",
    "df"
   ]
  },
  {
   "cell_type": "code",
   "execution_count": 24,
   "id": "dec1134e-83f7-4a57-b744-951c48f73dd9",
   "metadata": {},
   "outputs": [
    {
     "data": {
      "image/png": "[encoded data removed]",
      "text/plain": [
       "<Figure size 480x200 with 1 Axes>"
      ]
     },
     "metadata": {
      "image/png": {
       "height": 233,
       "width": 438
      }
     },
     "output_type": "display_data"
    }
   ],
   "source": [
    "with mplscience.style_context():\n",
    "    sns.set_style(style=\"whitegrid\")\n",
    "    fig, ax = plt.subplots(figsize=(6, 2.5))\n",
    "\n",
    "    # Plot the barplot without error bars\n",
    "    sns.barplot(data=df, x=\"scale\", y=\"TSI\", hue=\"Model\", ax=ax)\n",
    "\n",
    "    # Add jittered dots\n",
    "    sns.stripplot(\n",
    "        data=df, x=\"scale\", y=\"TSI\", hue=\"Model\", dodge=True, color=\"black\", ax=ax, jitter=0.35, size=2, alpha=0.6\n",
    "    )\n",
    "\n",
    "    # Remove the duplicate legend\n",
    "    handles, labels = ax.get_legend_handles_labels()\n",
    "    ax.legend(handles[3:6], labels[3:6], bbox_to_anchor=(0.5, -0.1), loc=\"upper center\", ncol=2)\n",
    "\n",
    "    # Customize labels and other settings\n",
    "    ax.set(xlabel=\"\", ylabel=\"TSI\")\n",
    "    ax.set_xlabel(xlabel=\"Scale\", fontsize=13)\n",
    "    ax.set_ylim(0, 1.3)\n",
    "\n",
    "    if SAVE_FIGURES:\n",
    "        plt.savefig(FIG_DIR / DATASET / \"tsi_benchmark.svg\", format=\"svg\", transparent=True, bbox_inches=\"tight\")\n",
    "    plt.show()"
   ]
  },
  {
   "cell_type": "code",
   "execution_count": null,
   "id": "d19604cb-de56-42f5-8374-4d81b4c676db",
   "metadata": {},
   "outputs": [],
   "source": []
  }
 ],
 "metadata": {
  "kernelspec": {
   "display_name": "Python [conda env:regvelo_test]",
   "language": "python",
   "name": "conda-env-regvelo_test-py"
  },
  "language_info": {
   "codemirror_mode": {
    "name": "ipython",
    "version": 3
   },
   "file_extension": ".py",
   "mimetype": "text/x-python",
   "name": "python",
   "nbconvert_exporter": "python",
   "pygments_lexer": "ipython3",
   "version": "3.10.15"
  }
 },
 "nbformat": 4,
 "nbformat_minor": 5
}
