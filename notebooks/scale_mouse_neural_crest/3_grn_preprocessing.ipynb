{
 "cells": [
  {
   "cell_type": "markdown",
   "id": "5ba0e538-ffb6-4eec-81f9-8a6d30610f8a",
   "metadata": {},
   "source": [
    "# Preprocess GRN\n",
    "\n",
    "Inject pySCENIC learned GRN into RegVelo"
   ]
  },
  {
   "cell_type": "markdown",
   "id": "d9d35de6-9419-4b7b-90a8-fb3201022b54",
   "metadata": {},
   "source": [
    "## Library imports"
   ]
  },
  {
   "cell_type": "code",
   "execution_count": 1,
   "id": "6dcd3159-aeb8-446b-a34b-19cfb8d62103",
   "metadata": {
    "tags": []
   },
   "outputs": [
    {
     "name": "stderr",
     "output_type": "stream",
     "text": [
      "/home/icb/weixu.wang/miniconda3/envs/regvelo_test/lib/python3.10/site-packages/anndata/utils.py:429: FutureWarning: Importing read_csv from `anndata` is deprecated. Import anndata.io.read_csv instead.\n",
      "  warnings.warn(msg, FutureWarning)\n",
      "/home/icb/weixu.wang/miniconda3/envs/regvelo_test/lib/python3.10/site-packages/anndata/utils.py:429: FutureWarning: Importing read_excel from `anndata` is deprecated. Import anndata.io.read_excel instead.\n",
      "  warnings.warn(msg, FutureWarning)\n",
      "/home/icb/weixu.wang/miniconda3/envs/regvelo_test/lib/python3.10/site-packages/anndata/utils.py:429: FutureWarning: Importing read_hdf from `anndata` is deprecated. Import anndata.io.read_hdf instead.\n",
      "  warnings.warn(msg, FutureWarning)\n",
      "/home/icb/weixu.wang/miniconda3/envs/regvelo_test/lib/python3.10/site-packages/anndata/utils.py:429: FutureWarning: Importing read_loom from `anndata` is deprecated. Import anndata.io.read_loom instead.\n",
      "  warnings.warn(msg, FutureWarning)\n",
      "/home/icb/weixu.wang/miniconda3/envs/regvelo_test/lib/python3.10/site-packages/anndata/utils.py:429: FutureWarning: Importing read_mtx from `anndata` is deprecated. Import anndata.io.read_mtx instead.\n",
      "  warnings.warn(msg, FutureWarning)\n",
      "/home/icb/weixu.wang/miniconda3/envs/regvelo_test/lib/python3.10/site-packages/anndata/utils.py:429: FutureWarning: Importing read_text from `anndata` is deprecated. Import anndata.io.read_text instead.\n",
      "  warnings.warn(msg, FutureWarning)\n",
      "/home/icb/weixu.wang/miniconda3/envs/regvelo_test/lib/python3.10/site-packages/anndata/utils.py:429: FutureWarning: Importing read_umi_tools from `anndata` is deprecated. Import anndata.io.read_umi_tools instead.\n",
      "  warnings.warn(msg, FutureWarning)\n"
     ]
    }
   ],
   "source": [
    "import numpy as np\n",
    "\n",
    "import pandas as pd\n",
    "\n",
    "import anndata as ad\n",
    "import scanpy as sc\n",
    "import scvelo as scv\n",
    "from velovi import preprocess_data\n",
    "\n",
    "from rgv_tools import DATA_DIR\n",
    "from rgv_tools.preprocessing import filter_genes, set_prior_grn"
   ]
  },
  {
   "cell_type": "markdown",
   "id": "2115b5e2-a24e-4e5e-8662-6031c3d8ea85",
   "metadata": {},
   "source": [
    "## Constants"
   ]
  },
  {
   "cell_type": "code",
   "execution_count": 2,
   "id": "bf3b0fdc-4656-46ce-87c4-0ddd0e0af91f",
   "metadata": {
    "tags": []
   },
   "outputs": [],
   "source": [
    "DATASET = \"mouse_neural_crest\""
   ]
  },
  {
   "cell_type": "code",
   "execution_count": 3,
   "id": "9fda90f4-b25d-4b02-a9b8-51995facab47",
   "metadata": {
    "tags": []
   },
   "outputs": [],
   "source": [
    "SAVE_DATA = True\n",
    "if SAVE_DATA:\n",
    "    (DATA_DIR / DATASET / \"processed\").mkdir(parents=True, exist_ok=True)"
   ]
  },
  {
   "cell_type": "markdown",
   "id": "12c7709c-2e42-4a9f-ac7f-eed44d316192",
   "metadata": {},
   "source": [
    "## Data loading"
   ]
  },
  {
   "cell_type": "code",
   "execution_count": 4,
   "id": "2daa3ce5-4338-4536-884e-5d30b0e762ec",
   "metadata": {
    "tags": []
   },
   "outputs": [],
   "source": [
    "TF_all = pd.read_csv(\"/home/icb/weixu.wang/regulatory_velo/pancreas_dataset/allTFs_mm.txt\", header=None)\n",
    "ldata = ad.io.read_h5ad(DATA_DIR / DATASET / \"raw\" / \"GSE201257_adata_velo_raw.h5ad\")"
   ]
  },
  {
   "cell_type": "markdown",
   "id": "d377e485-754a-42f5-8107-231eb6e5cde4",
   "metadata": {},
   "source": [
    "## Preprocess for each GRN"
   ]
  },
  {
   "cell_type": "code",
   "execution_count": 6,
   "id": "00c40911-bc2e-4d3c-a3fa-dfce8a266e46",
   "metadata": {
    "tags": []
   },
   "outputs": [
    {
     "name": "stdout",
     "output_type": "stream",
     "text": [
      "loading\n",
      "Done! processed GRN with 738 TF and 19054 targets\n",
      "loading\n",
      "Done! processed GRN with 722 TF and 20164 targets\n",
      "loading\n",
      "Done! processed GRN with 724 TF and 20843 targets\n",
      "loading\n",
      "Done! processed GRN with 730 TF and 20843 targets\n"
     ]
    }
   ],
   "source": [
    "for i in range(1, 5):\n",
    "    print(\"loading\")\n",
    "    reg = pd.read_csv(DATA_DIR / DATASET / \"processed\" / f\"regulon_mat_stage_{i}_all_regulons.csv\", index_col=0)\n",
    "\n",
    "    reg.index = reg.index.str.extract(r\"(\\w+)\")[0]\n",
    "    reg = reg.groupby(reg.index).sum()\n",
    "    reg[reg != 0] = 1\n",
    "\n",
    "    TF = np.unique(list(map(lambda x: x.split(\"(\")[0], reg.index.tolist())))\n",
    "    genes = np.unique(TF.tolist() + reg.columns.tolist())\n",
    "\n",
    "    GRN = pd.DataFrame(0, index=genes, columns=genes)\n",
    "    GRN.loc[TF, reg.columns.tolist()] = np.array(reg)\n",
    "\n",
    "    mask = (GRN.sum(0) != 0) | (GRN.sum(1) != 0)\n",
    "    GRN = GRN.loc[mask, mask].copy()\n",
    "\n",
    "    if SAVE_DATA:\n",
    "        GRN.to_parquet(DATA_DIR / DATASET / \"processed\" / f\"regulon_mat_stage_{i}_processed_all_regulons.parquet\")\n",
    "    print(\"Done! processed GRN with \" + str(reg.shape[0]) + \" TF and \" + str(reg.shape[1]) + \" targets\")"
   ]
  },
  {
   "cell_type": "markdown",
   "id": "f10bfe63-72ad-4f67-9d00-c8594a368de2",
   "metadata": {},
   "source": [
    "## Preprocess anndata"
   ]
  },
  {
   "cell_type": "code",
   "execution_count": 7,
   "id": "6441e785-5f62-423a-85ee-b7c7db7cf3b7",
   "metadata": {
    "tags": []
   },
   "outputs": [
    {
     "name": "stdout",
     "output_type": "stream",
     "text": [
      "loading...\n",
      "AnnData object with n_obs × n_vars = 3926 × 20559\n",
      "    obs: 'plates', 'devtime', 'location', 'n_genes_by_counts', 'total_counts', 'total_counts_ERCC', 'pct_counts_ERCC', 'doublet_scores', 'leiden', 'CytoTRACE', 'Gut_neuron', 'Sensory', 'Symp', 'enFib', 'ChC', 'Gut_glia', 'NCC', 'Mesenchyme', 'Melanocytes', 'SatGlia', 'SC', 'BCC', 'conflict', 'assignments', 'all_states', 'batch', 'initial_size_unspliced', 'initial_size_spliced', 'initial_size'\n",
      "    var: 'ERCC', 'n_cells_by_counts', 'mean_counts', 'pct_dropout_by_counts', 'total_counts', 'n_cells', 'm', 'v', 'n_obs', 'res', 'lp', 'lpa', 'qv', 'highly_variable', 'Accession', 'Chromosome', 'End', 'Start', 'Strand'\n",
      "    uns: 'all_states_colors', 'assignments_colors', 'devtime_colors', 'leiden', 'leiden_colors', 'leiden_sizes', 'location_colors', 'log1p', 'paga', 'umap'\n",
      "    obsm: 'X_diff', 'X_pca', 'X_umap'\n",
      "    layers: 'GEX', 'palantir_imp', 'scaled', 'ambiguous', 'matrix', 'spanning', 'spliced', 'unspliced'\n",
      "Filtered out 5602 genes that are detected 20 counts (shared).\n",
      "WARNING: Did not normalize X as it looks processed already. To enforce normalization, set `enforce=True`.\n",
      "Normalized count data: spliced, unspliced.\n"
     ]
    },
    {
     "name": "stderr",
     "output_type": "stream",
     "text": [
      "2025-08-19 15:54:36.626136: E external/local_xla/xla/stream_executor/cuda/cuda_fft.cc:477] Unable to register cuFFT factory: Attempting to register factory for plugin cuFFT when one has already been registered\n",
      "WARNING: All log messages before absl::InitializeLog() is called are written to STDERR\n",
      "E0000 00:00:1755611677.677800 2423155 cuda_dnn.cc:8310] Unable to register cuDNN factory: Attempting to register factory for plugin cuDNN when one has already been registered\n",
      "E0000 00:00:1755611678.146442 2423155 cuda_blas.cc:1418] Unable to register cuBLAS factory: Attempting to register factory for plugin cuBLAS when one has already been registered\n"
     ]
    },
    {
     "name": "stdout",
     "output_type": "stream",
     "text": [
      "computing moments based on connectivities\n",
      "    finished (0:00:00) --> added \n",
      "    'Ms' and 'Mu', moments of un/spliced abundances (adata.layers)\n",
      "computing velocities\n",
      "    finished (0:00:00) --> added \n",
      "    'velocity', velocity vectors for each individual cell (adata.layers)\n",
      "Number of genes: 1205\n",
      "Number of genes: 1193\n",
      "AnnData object with n_obs × n_vars = 3926 × 1193\n",
      "    obs: 'plates', 'devtime', 'location', 'n_genes_by_counts', 'total_counts', 'total_counts_ERCC', 'pct_counts_ERCC', 'doublet_scores', 'leiden', 'CytoTRACE', 'Gut_neuron', 'Sensory', 'Symp', 'enFib', 'ChC', 'Gut_glia', 'NCC', 'Mesenchyme', 'Melanocytes', 'SatGlia', 'SC', 'BCC', 'conflict', 'assignments', 'all_states', 'batch', 'initial_size_unspliced', 'initial_size_spliced', 'initial_size', 'n_counts'\n",
      "    var: 'ERCC', 'n_cells_by_counts', 'mean_counts', 'pct_dropout_by_counts', 'total_counts', 'n_cells', 'm', 'v', 'n_obs', 'res', 'lp', 'lpa', 'qv', 'highly_variable', 'Accession', 'Chromosome', 'End', 'Start', 'Strand', 'TF', 'means', 'dispersions', 'dispersions_norm', 'velocity_genes'\n",
      "    uns: 'all_states_colors', 'assignments_colors', 'devtime_colors', 'leiden', 'leiden_colors', 'leiden_sizes', 'location_colors', 'log1p', 'paga', 'umap', 'hvg', 'neighbors', 'regulators', 'targets', 'skeleton', 'network'\n",
      "    obsm: 'X_diff', 'X_pca', 'X_umap'\n",
      "    layers: 'GEX', 'palantir_imp', 'scaled', 'ambiguous', 'matrix', 'spanning', 'spliced', 'unspliced', 'Ms', 'Mu'\n",
      "    obsp: 'distances', 'connectivities'\n",
      "loading...\n",
      "AnnData object with n_obs × n_vars = 5139 × 20559\n",
      "    obs: 'plates', 'devtime', 'location', 'n_genes_by_counts', 'total_counts', 'total_counts_ERCC', 'pct_counts_ERCC', 'doublet_scores', 'leiden', 'CytoTRACE', 'Gut_neuron', 'Sensory', 'Symp', 'enFib', 'ChC', 'Gut_glia', 'NCC', 'Mesenchyme', 'Melanocytes', 'SatGlia', 'SC', 'BCC', 'conflict', 'assignments', 'all_states', 'batch', 'initial_size_unspliced', 'initial_size_spliced', 'initial_size'\n",
      "    var: 'ERCC', 'n_cells_by_counts', 'mean_counts', 'pct_dropout_by_counts', 'total_counts', 'n_cells', 'm', 'v', 'n_obs', 'res', 'lp', 'lpa', 'qv', 'highly_variable', 'Accession', 'Chromosome', 'End', 'Start', 'Strand'\n",
      "    uns: 'all_states_colors', 'assignments_colors', 'devtime_colors', 'leiden', 'leiden_colors', 'leiden_sizes', 'location_colors', 'log1p', 'paga', 'umap'\n",
      "    obsm: 'X_diff', 'X_pca', 'X_umap'\n",
      "    layers: 'GEX', 'palantir_imp', 'scaled', 'ambiguous', 'matrix', 'spanning', 'spliced', 'unspliced'\n",
      "Filtered out 4339 genes that are detected 20 counts (shared).\n",
      "WARNING: Did not normalize X as it looks processed already. To enforce normalization, set `enforce=True`.\n",
      "Normalized count data: spliced, unspliced.\n",
      "computing moments based on connectivities\n",
      "    finished (0:00:00) --> added \n",
      "    'Ms' and 'Mu', moments of un/spliced abundances (adata.layers)\n",
      "computing velocities\n",
      "    finished (0:00:00) --> added \n",
      "    'velocity', velocity vectors for each individual cell (adata.layers)\n",
      "Number of genes: 1160\n",
      "Number of genes: 1124\n",
      "AnnData object with n_obs × n_vars = 5139 × 1124\n",
      "    obs: 'plates', 'devtime', 'location', 'n_genes_by_counts', 'total_counts', 'total_counts_ERCC', 'pct_counts_ERCC', 'doublet_scores', 'leiden', 'CytoTRACE', 'Gut_neuron', 'Sensory', 'Symp', 'enFib', 'ChC', 'Gut_glia', 'NCC', 'Mesenchyme', 'Melanocytes', 'SatGlia', 'SC', 'BCC', 'conflict', 'assignments', 'all_states', 'batch', 'initial_size_unspliced', 'initial_size_spliced', 'initial_size', 'n_counts'\n",
      "    var: 'ERCC', 'n_cells_by_counts', 'mean_counts', 'pct_dropout_by_counts', 'total_counts', 'n_cells', 'm', 'v', 'n_obs', 'res', 'lp', 'lpa', 'qv', 'highly_variable', 'Accession', 'Chromosome', 'End', 'Start', 'Strand', 'TF', 'means', 'dispersions', 'dispersions_norm', 'velocity_genes'\n",
      "    uns: 'all_states_colors', 'assignments_colors', 'devtime_colors', 'leiden', 'leiden_colors', 'leiden_sizes', 'location_colors', 'log1p', 'paga', 'umap', 'hvg', 'neighbors', 'regulators', 'targets', 'skeleton', 'network'\n",
      "    obsm: 'X_diff', 'X_pca', 'X_umap'\n",
      "    layers: 'GEX', 'palantir_imp', 'scaled', 'ambiguous', 'matrix', 'spanning', 'spliced', 'unspliced', 'Ms', 'Mu'\n",
      "    obsp: 'distances', 'connectivities'\n",
      "loading...\n",
      "AnnData object with n_obs × n_vars = 6273 × 20559\n",
      "    obs: 'plates', 'devtime', 'location', 'n_genes_by_counts', 'total_counts', 'total_counts_ERCC', 'pct_counts_ERCC', 'doublet_scores', 'leiden', 'CytoTRACE', 'Gut_neuron', 'Sensory', 'Symp', 'enFib', 'ChC', 'Gut_glia', 'NCC', 'Mesenchyme', 'Melanocytes', 'SatGlia', 'SC', 'BCC', 'conflict', 'assignments', 'all_states', 'batch', 'initial_size_unspliced', 'initial_size_spliced', 'initial_size'\n",
      "    var: 'ERCC', 'n_cells_by_counts', 'mean_counts', 'pct_dropout_by_counts', 'total_counts', 'n_cells', 'm', 'v', 'n_obs', 'res', 'lp', 'lpa', 'qv', 'highly_variable', 'Accession', 'Chromosome', 'End', 'Start', 'Strand'\n",
      "    uns: 'all_states_colors', 'assignments_colors', 'devtime_colors', 'leiden', 'leiden_colors', 'leiden_sizes', 'location_colors', 'log1p', 'paga', 'umap'\n",
      "    obsm: 'X_diff', 'X_pca', 'X_umap'\n",
      "    layers: 'GEX', 'palantir_imp', 'scaled', 'ambiguous', 'matrix', 'spanning', 'spliced', 'unspliced'\n",
      "Filtered out 4178 genes that are detected 20 counts (shared).\n",
      "WARNING: Did not normalize X as it looks processed already. To enforce normalization, set `enforce=True`.\n",
      "Normalized count data: spliced, unspliced.\n",
      "computing moments based on connectivities\n",
      "    finished (0:00:00) --> added \n",
      "    'Ms' and 'Mu', moments of un/spliced abundances (adata.layers)\n",
      "computing velocities\n",
      "    finished (0:00:00) --> added \n",
      "    'velocity', velocity vectors for each individual cell (adata.layers)\n",
      "Number of genes: 1159\n",
      "Number of genes: 1079\n",
      "Number of genes: 1065\n",
      "AnnData object with n_obs × n_vars = 6273 × 1065\n",
      "    obs: 'plates', 'devtime', 'location', 'n_genes_by_counts', 'total_counts', 'total_counts_ERCC', 'pct_counts_ERCC', 'doublet_scores', 'leiden', 'CytoTRACE', 'Gut_neuron', 'Sensory', 'Symp', 'enFib', 'ChC', 'Gut_glia', 'NCC', 'Mesenchyme', 'Melanocytes', 'SatGlia', 'SC', 'BCC', 'conflict', 'assignments', 'all_states', 'batch', 'initial_size_unspliced', 'initial_size_spliced', 'initial_size', 'n_counts'\n",
      "    var: 'ERCC', 'n_cells_by_counts', 'mean_counts', 'pct_dropout_by_counts', 'total_counts', 'n_cells', 'm', 'v', 'n_obs', 'res', 'lp', 'lpa', 'qv', 'highly_variable', 'Accession', 'Chromosome', 'End', 'Start', 'Strand', 'TF', 'means', 'dispersions', 'dispersions_norm', 'velocity_genes'\n",
      "    uns: 'all_states_colors', 'assignments_colors', 'devtime_colors', 'leiden', 'leiden_colors', 'leiden_sizes', 'location_colors', 'log1p', 'paga', 'umap', 'hvg', 'neighbors', 'regulators', 'targets', 'skeleton', 'network'\n",
      "    obsm: 'X_diff', 'X_pca', 'X_umap'\n",
      "    layers: 'GEX', 'palantir_imp', 'scaled', 'ambiguous', 'matrix', 'spanning', 'spliced', 'unspliced', 'Ms', 'Mu'\n",
      "    obsp: 'distances', 'connectivities'\n",
      "loading...\n",
      "AnnData object with n_obs × n_vars = 8821 × 20559\n",
      "    obs: 'plates', 'devtime', 'location', 'n_genes_by_counts', 'total_counts', 'total_counts_ERCC', 'pct_counts_ERCC', 'doublet_scores', 'leiden', 'CytoTRACE', 'Gut_neuron', 'Sensory', 'Symp', 'enFib', 'ChC', 'Gut_glia', 'NCC', 'Mesenchyme', 'Melanocytes', 'SatGlia', 'SC', 'BCC', 'conflict', 'assignments', 'all_states', 'batch', 'initial_size_unspliced', 'initial_size_spliced', 'initial_size'\n",
      "    var: 'ERCC', 'n_cells_by_counts', 'mean_counts', 'pct_dropout_by_counts', 'total_counts', 'n_cells', 'm', 'v', 'n_obs', 'res', 'lp', 'lpa', 'qv', 'highly_variable', 'Accession', 'Chromosome', 'End', 'Start', 'Strand'\n",
      "    uns: 'all_states_colors', 'assignments_colors', 'devtime_colors', 'leiden', 'leiden_colors', 'leiden_sizes', 'location_colors', 'log1p', 'paga', 'umap'\n",
      "    obsm: 'X_diff', 'X_pca', 'X_umap'\n",
      "    layers: 'GEX', 'palantir_imp', 'scaled', 'ambiguous', 'matrix', 'spanning', 'spliced', 'unspliced'\n",
      "Filtered out 3760 genes that are detected 20 counts (shared).\n",
      "WARNING: Did not normalize X as it looks processed already. To enforce normalization, set `enforce=True`.\n",
      "Normalized count data: spliced, unspliced.\n",
      "computing moments based on connectivities\n",
      "    finished (0:00:00) --> added \n",
      "    'Ms' and 'Mu', moments of un/spliced abundances (adata.layers)\n",
      "computing velocities\n",
      "    finished (0:00:00) --> added \n",
      "    'velocity', velocity vectors for each individual cell (adata.layers)\n",
      "Number of genes: 1176\n",
      "Number of genes: 1150\n",
      "AnnData object with n_obs × n_vars = 8821 × 1150\n",
      "    obs: 'plates', 'devtime', 'location', 'n_genes_by_counts', 'total_counts', 'total_counts_ERCC', 'pct_counts_ERCC', 'doublet_scores', 'leiden', 'CytoTRACE', 'Gut_neuron', 'Sensory', 'Symp', 'enFib', 'ChC', 'Gut_glia', 'NCC', 'Mesenchyme', 'Melanocytes', 'SatGlia', 'SC', 'BCC', 'conflict', 'assignments', 'all_states', 'batch', 'initial_size_unspliced', 'initial_size_spliced', 'initial_size', 'n_counts'\n",
      "    var: 'ERCC', 'n_cells_by_counts', 'mean_counts', 'pct_dropout_by_counts', 'total_counts', 'n_cells', 'm', 'v', 'n_obs', 'res', 'lp', 'lpa', 'qv', 'highly_variable', 'Accession', 'Chromosome', 'End', 'Start', 'Strand', 'TF', 'means', 'dispersions', 'dispersions_norm', 'velocity_genes'\n",
      "    uns: 'all_states_colors', 'assignments_colors', 'devtime_colors', 'leiden', 'leiden_colors', 'leiden_sizes', 'location_colors', 'log1p', 'paga', 'umap', 'hvg', 'neighbors', 'regulators', 'targets', 'skeleton', 'network'\n",
      "    obsm: 'X_diff', 'X_pca', 'X_umap'\n",
      "    layers: 'GEX', 'palantir_imp', 'scaled', 'ambiguous', 'matrix', 'spanning', 'spliced', 'unspliced', 'Ms', 'Mu'\n",
      "    obsp: 'distances', 'connectivities'\n"
     ]
    }
   ],
   "source": [
    "for i in range(1, 5):\n",
    "    print(\"loading...\")\n",
    "    adata = scv.read(DATA_DIR / DATASET / \"processed\" / f\"adata_stage{i}_processed.h5ad\")\n",
    "    adata = scv.utils.merge(adata, ldata)\n",
    "    adata.obsp = None\n",
    "    del adata.uns[\"neighbors\"]\n",
    "\n",
    "    print(adata)\n",
    "    adata.var[\"TF\"] = [i in TF_all.iloc[:, 0].tolist() for i in adata.var_names.tolist()]\n",
    "\n",
    "    ## select highly variable genes\n",
    "    scv.pp.filter_genes(adata, min_shared_counts=20)\n",
    "    scv.pp.normalize_per_cell(adata)\n",
    "\n",
    "    ## In top 2000 TF is too few, we select all TFs in top 3000\n",
    "    sc.pp.highly_variable_genes(adata, n_top_genes=2000)\n",
    "    adata = adata[:, adata.var[\"highly_variable\"]].copy()\n",
    "\n",
    "    sc.pp.neighbors(adata, n_neighbors=30, n_pcs=30)\n",
    "    scv.pp.moments(adata, n_pcs=None, n_neighbors=None)\n",
    "\n",
    "    ## load GRN\n",
    "    GRN = pd.read_parquet(DATA_DIR / DATASET / \"processed\" / f\"regulon_mat_stage_{i}_processed_all_regulons.parquet\")\n",
    "\n",
    "    adata = set_prior_grn(adata, GRN.T)\n",
    "    velocity_genes = preprocess_data(adata.copy()).var_names.tolist()\n",
    "    TF = adata.var_names[adata.uns[\"skeleton\"].sum(1) != 0]\n",
    "    var_mask = np.union1d(TF, velocity_genes)\n",
    "\n",
    "    adata = adata[:, var_mask].copy()\n",
    "    adata = filter_genes(adata)\n",
    "    adata = preprocess_data(adata, filter_on_r2=False)\n",
    "\n",
    "    adata.var[\"velocity_genes\"] = adata.var_names.isin(velocity_genes)\n",
    "    adata.var[\"TF\"] = adata.var_names.isin(TF)\n",
    "\n",
    "    print(adata)\n",
    "\n",
    "    if SAVE_DATA:\n",
    "        adata.write_h5ad(DATA_DIR / DATASET / \"processed\" / f\"adata_stage{i}_processed_velo_all_regulons.h5ad\")"
   ]
  }
 ],
 "metadata": {
  "kernelspec": {
   "display_name": "Python [conda env:regvelo_test]",
   "language": "python",
   "name": "conda-env-regvelo_test-py"
  },
  "language_info": {
   "codemirror_mode": {
    "name": "ipython",
    "version": 3
   },
   "file_extension": ".py",
   "mimetype": "text/x-python",
   "name": "python",
   "nbconvert_exporter": "python",
   "pygments_lexer": "ipython3",
   "version": "3.10.15"
  }
 },
 "nbformat": 4,
 "nbformat_minor": 5
}
