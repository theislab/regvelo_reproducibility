{
 "cells": [
  {
   "cell_type": "markdown",
   "id": "de4b5608-df39-4b5d-bca4-f0df82bc0cdc",
   "metadata": {},
   "source": [
    "# Benchmark transition from hub cells to terminal states\n",
    "\n",
    "For simplicity of demonstration, we present the analysis steps for scale-1; the analysis for the other scales is identical."
   ]
  },
  {
   "cell_type": "code",
   "execution_count": 1,
   "id": "ed5461a3-347a-4c4e-ba17-90d51db0fdf5",
   "metadata": {
    "tags": []
   },
   "outputs": [
    {
     "name": "stderr",
     "output_type": "stream",
     "text": [
      "/home/icb/weixu.wang/miniconda3/envs/regvelo_test/lib/python3.10/site-packages/anndata/utils.py:429: FutureWarning: Importing read_csv from `anndata` is deprecated. Import anndata.io.read_csv instead.\n",
      "  warnings.warn(msg, FutureWarning)\n",
      "/home/icb/weixu.wang/miniconda3/envs/regvelo_test/lib/python3.10/site-packages/anndata/utils.py:429: FutureWarning: Importing read_excel from `anndata` is deprecated. Import anndata.io.read_excel instead.\n",
      "  warnings.warn(msg, FutureWarning)\n",
      "/home/icb/weixu.wang/miniconda3/envs/regvelo_test/lib/python3.10/site-packages/anndata/utils.py:429: FutureWarning: Importing read_hdf from `anndata` is deprecated. Import anndata.io.read_hdf instead.\n",
      "  warnings.warn(msg, FutureWarning)\n",
      "/home/icb/weixu.wang/miniconda3/envs/regvelo_test/lib/python3.10/site-packages/anndata/utils.py:429: FutureWarning: Importing read_loom from `anndata` is deprecated. Import anndata.io.read_loom instead.\n",
      "  warnings.warn(msg, FutureWarning)\n",
      "/home/icb/weixu.wang/miniconda3/envs/regvelo_test/lib/python3.10/site-packages/anndata/utils.py:429: FutureWarning: Importing read_mtx from `anndata` is deprecated. Import anndata.io.read_mtx instead.\n",
      "  warnings.warn(msg, FutureWarning)\n",
      "/home/icb/weixu.wang/miniconda3/envs/regvelo_test/lib/python3.10/site-packages/anndata/utils.py:429: FutureWarning: Importing read_text from `anndata` is deprecated. Import anndata.io.read_text instead.\n",
      "  warnings.warn(msg, FutureWarning)\n",
      "/home/icb/weixu.wang/miniconda3/envs/regvelo_test/lib/python3.10/site-packages/anndata/utils.py:429: FutureWarning: Importing read_umi_tools from `anndata` is deprecated. Import anndata.io.read_umi_tools instead.\n",
      "  warnings.warn(msg, FutureWarning)\n"
     ]
    }
   ],
   "source": [
    "from itertools import chain\n",
    "from tqdm import tqdm\n",
    "\n",
    "import numpy as np\n",
    "import pandas as pd\n",
    "from scipy.stats import ttest_ind\n",
    "\n",
    "import matplotlib.pyplot as plt\n",
    "import mplscience\n",
    "import seaborn as sns\n",
    "\n",
    "import cellrank as cr\n",
    "import scanpy as sc\n",
    "import scvelo as scv\n",
    "\n",
    "from rgv_tools import DATA_DIR, FIG_DIR\n",
    "from rgv_tools.plotting._significance import add_significance, get_significance"
   ]
  },
  {
   "cell_type": "markdown",
   "id": "b71b8e8c-fc58-4140-8b00-8fbb6571c7d8",
   "metadata": {},
   "source": [
    "# General setting"
   ]
  },
  {
   "cell_type": "code",
   "execution_count": 2,
   "id": "549aa3a1-006d-430f-a49b-edcbb11ed414",
   "metadata": {
    "tags": []
   },
   "outputs": [],
   "source": [
    "plt.rcParams[\"svg.fonttype\"] = \"none\"\n",
    "sns.reset_defaults()\n",
    "sns.reset_orig()\n",
    "scv.settings.set_figure_params(\"scvelo\", dpi_save=400, dpi=80, transparent=True, fontsize=14, color_map=\"viridis\")"
   ]
  },
  {
   "cell_type": "markdown",
   "id": "04681b2f-deed-4191-9420-05efbb1659cd",
   "metadata": {},
   "source": [
    "## Constants"
   ]
  },
  {
   "cell_type": "code",
   "execution_count": 3,
   "id": "3bfb7f40-3a50-4d57-8dc3-46fc5977a1e0",
   "metadata": {
    "tags": []
   },
   "outputs": [],
   "source": [
    "DATASET = \"mouse_neural_crest\"\n",
    "\n",
    "SAVE_FIGURES = True\n",
    "if SAVE_FIGURES:\n",
    "    (FIG_DIR / DATASET).mkdir(parents=True, exist_ok=True)\n",
    "SAVE_DATA = True\n",
    "if SAVE_DATA:\n",
    "    (DATA_DIR / DATASET).mkdir(parents=True, exist_ok=True)\n",
    "\n",
    "FIGURE_FORMATE = \"svg\""
   ]
  },
  {
   "cell_type": "code",
   "execution_count": 7,
   "id": "8df2d1f2-796b-4300-9e5e-5f9d0d14bd03",
   "metadata": {
    "tags": []
   },
   "outputs": [],
   "source": [
    "VELOCITY_METHODS = [\"regvelo\", \"scvelo\", \"velovi\"]"
   ]
  },
  {
   "cell_type": "code",
   "execution_count": 5,
   "id": "fb701744-6a3d-4c69-88b5-d245c2e4aa20",
   "metadata": {
    "tags": []
   },
   "outputs": [],
   "source": [
    "TERMINAL_STATE = [\"Melanocytes\", \"enFib\", \"SC\", \"Sensory\", \"ChC\", \"SatGlia\", \"Gut_glia\", \"Gut_neuron\", \"Symp\", \"BCC\"]"
   ]
  },
  {
   "cell_type": "code",
   "execution_count": 6,
   "id": "72e5b40b-f354-40b8-8663-70ca4ad43392",
   "metadata": {
    "tags": []
   },
   "outputs": [],
   "source": [
    "STATE_TRANSITIONS_RAW = [\n",
    "    (\"hub\", \"Sensory\"),\n",
    "    (\"hub\", \"SatGlia\"),\n",
    "    (\"hub\", \"SC\"),\n",
    "    (\"hub\", \"Gut_glia\"),\n",
    "    (\"hub\", \"Gut_neuron\"),\n",
    "    (\"hub\", \"ChC\"),\n",
    "]"
   ]
  },
  {
   "cell_type": "code",
   "execution_count": 8,
   "id": "a55ba42b-f5c3-47a8-9d0b-1dc77c764e16",
   "metadata": {},
   "outputs": [],
   "source": [
    "scale_level = 2"
   ]
  },
  {
   "cell_type": "markdown",
   "id": "33c7189b-591b-4bec-a92a-ec54fc5a62d8",
   "metadata": {},
   "source": [
    "## Data loading"
   ]
  },
  {
   "cell_type": "code",
   "execution_count": 9,
   "id": "98d186d9-eb67-485a-a6e7-6669653bd13d",
   "metadata": {
    "tags": []
   },
   "outputs": [
    {
     "name": "stdout",
     "output_type": "stream",
     "text": [
      "AnnData object with n_obs × n_vars = 3926 × 1122\n",
      "    obs: 'plates', 'devtime', 'location', 'n_genes_by_counts', 'total_counts', 'total_counts_ERCC', 'pct_counts_ERCC', 'doublet_scores', 'leiden', 'CytoTRACE', 'Gut_neuron', 'Sensory', 'Symp', 'enFib', 'ChC', 'Gut_glia', 'NCC', 'Mesenchyme', 'Melanocytes', 'SatGlia', 'SC', 'BCC', 'conflict', 'assignments', 'batch', 'initial_size_unspliced', 'initial_size_spliced', 'initial_size', 'n_counts', 'Hub'\n",
      "    var: 'ERCC', 'n_cells_by_counts', 'mean_counts', 'pct_dropout_by_counts', 'total_counts', 'n_cells', 'm', 'v', 'n_obs', 'res', 'lp', 'lpa', 'qv', 'highly_variable', 'Accession', 'Chromosome', 'End', 'Start', 'Strand', 'TF', 'means', 'dispersions', 'dispersions_norm', 'velocity_genes', 'fit_beta', 'fit_gamma', 'fit_scaling'\n",
      "    uns: '_scvi_manager_uuid', '_scvi_uuid', 'assignments_colors', 'devtime_colors', 'hvg', 'leiden', 'leiden_colors', 'leiden_sizes', 'location_colors', 'log1p', 'neighbors', 'network', 'paga', 'regulators', 'skeleton', 'targets', 'umap'\n",
      "    obsm: 'X_diff', 'X_pca', 'X_umap'\n",
      "    layers: 'GEX', 'Ms', 'Mu', 'ambiguous', 'fit_t', 'latent_time_velovi', 'matrix', 'palantir_imp', 'scaled', 'spanning', 'spliced', 'unspliced', 'velocity'\n",
      "    obsp: 'connectivities', 'distances'\n"
     ]
    },
    {
     "data": {
      "application/vnd.jupyter.widget-view+json": {
       "model_id": "541a0c93f25843baa4212ec7f5426156",
       "version_major": 2,
       "version_minor": 0
      },
      "text/plain": [
       "  0%|          | 0/3926 [00:00<?, ?cell/s]"
      ]
     },
     "metadata": {},
     "output_type": "display_data"
    },
    {
     "data": {
      "application/vnd.jupyter.widget-view+json": {
       "model_id": "5771d06217d94bcf9d1703e546cc6b71",
       "version_major": 2,
       "version_minor": 0
      },
      "text/plain": [
       "  0%|          | 0/3926 [00:00<?, ?cell/s]"
      ]
     },
     "metadata": {},
     "output_type": "display_data"
    },
    {
     "name": "stdout",
     "output_type": "stream",
     "text": [
      "AnnData object with n_obs × n_vars = 3926 × 1122\n",
      "    obs: 'plates', 'devtime', 'location', 'n_genes_by_counts', 'total_counts', 'total_counts_ERCC', 'pct_counts_ERCC', 'doublet_scores', 'leiden', 'CytoTRACE', 'Gut_neuron', 'Sensory', 'Symp', 'enFib', 'ChC', 'Gut_glia', 'NCC', 'Mesenchyme', 'Melanocytes', 'SatGlia', 'SC', 'BCC', 'conflict', 'assignments', 'batch', 'initial_size_unspliced', 'initial_size_spliced', 'initial_size', 'n_counts', 'Hub'\n",
      "    var: 'ERCC', 'n_cells_by_counts', 'mean_counts', 'pct_dropout_by_counts', 'total_counts', 'n_cells', 'm', 'v', 'n_obs', 'res', 'lp', 'lpa', 'qv', 'highly_variable', 'Accession', 'Chromosome', 'End', 'Start', 'Strand', 'TF', 'means', 'dispersions', 'dispersions_norm', 'velocity_genes', 'fit_alpha', 'fit_beta', 'fit_gamma', 'fit_t_', 'fit_scaling', 'fit_std_u', 'fit_std_s', 'fit_likelihood', 'fit_u0', 'fit_s0', 'fit_pval_steady', 'fit_steady_u', 'fit_steady_s', 'fit_variance', 'fit_alignment_scaling'\n",
      "    uns: 'assignments_colors', 'devtime_colors', 'hvg', 'leiden', 'leiden_colors', 'leiden_sizes', 'location_colors', 'log1p', 'neighbors', 'network', 'paga', 'recover_dynamics', 'regulators', 'skeleton', 'targets', 'umap', 'velocity_params'\n",
      "    obsm: 'X_diff', 'X_pca', 'X_umap'\n",
      "    varm: 'loss'\n",
      "    layers: 'GEX', 'Ms', 'Mu', 'ambiguous', 'fit_t', 'fit_tau', 'fit_tau_', 'matrix', 'palantir_imp', 'scaled', 'spanning', 'spliced', 'unspliced', 'velocity', 'velocity_u'\n",
      "    obsp: 'connectivities', 'distances'\n"
     ]
    },
    {
     "data": {
      "application/vnd.jupyter.widget-view+json": {
       "model_id": "fb5f565d78b94a1bbd862a34cb81a6c0",
       "version_major": 2,
       "version_minor": 0
      },
      "text/plain": [
       "  0%|          | 0/3926 [00:00<?, ?cell/s]"
      ]
     },
     "metadata": {},
     "output_type": "display_data"
    },
    {
     "data": {
      "application/vnd.jupyter.widget-view+json": {
       "model_id": "773f340181fc464b9f35e2a649aa61cb",
       "version_major": 2,
       "version_minor": 0
      },
      "text/plain": [
       "  0%|          | 0/3926 [00:00<?, ?cell/s]"
      ]
     },
     "metadata": {},
     "output_type": "display_data"
    },
    {
     "name": "stdout",
     "output_type": "stream",
     "text": [
      "AnnData object with n_obs × n_vars = 3926 × 1122\n",
      "    obs: 'plates', 'devtime', 'location', 'n_genes_by_counts', 'total_counts', 'total_counts_ERCC', 'pct_counts_ERCC', 'doublet_scores', 'leiden', 'CytoTRACE', 'Gut_neuron', 'Sensory', 'Symp', 'enFib', 'ChC', 'Gut_glia', 'NCC', 'Mesenchyme', 'Melanocytes', 'SatGlia', 'SC', 'BCC', 'conflict', 'assignments', 'batch', 'initial_size_unspliced', 'initial_size_spliced', 'initial_size', 'n_counts', 'Hub'\n",
      "    var: 'ERCC', 'n_cells_by_counts', 'mean_counts', 'pct_dropout_by_counts', 'total_counts', 'n_cells', 'm', 'v', 'n_obs', 'res', 'lp', 'lpa', 'qv', 'highly_variable', 'Accession', 'Chromosome', 'End', 'Start', 'Strand', 'TF', 'means', 'dispersions', 'dispersions_norm', 'velocity_genes', 'fit_alpha', 'fit_beta', 'fit_gamma', 'fit_scaling'\n",
      "    uns: '_scvi_manager_uuid', '_scvi_uuid', 'assignments_colors', 'devtime_colors', 'hvg', 'leiden', 'leiden_colors', 'leiden_sizes', 'location_colors', 'log1p', 'neighbors', 'network', 'paga', 'regulators', 'skeleton', 'targets', 'umap'\n",
      "    obsm: 'X_diff', 'X_pca', 'X_umap'\n",
      "    layers: 'GEX', 'Ms', 'Mu', 'ambiguous', 'fit_t', 'latent_time_velovi', 'matrix', 'palantir_imp', 'scaled', 'spanning', 'spliced', 'unspliced', 'velocity'\n",
      "    obsp: 'connectivities', 'distances'\n"
     ]
    },
    {
     "data": {
      "application/vnd.jupyter.widget-view+json": {
       "model_id": "10765eaf3df94054906b469c8b2ac874",
       "version_major": 2,
       "version_minor": 0
      },
      "text/plain": [
       "  0%|          | 0/3926 [00:00<?, ?cell/s]"
      ]
     },
     "metadata": {},
     "output_type": "display_data"
    },
    {
     "data": {
      "application/vnd.jupyter.widget-view+json": {
       "model_id": "4b66f96b1ede4e99b729575335f56880",
       "version_major": 2,
       "version_minor": 0
      },
      "text/plain": [
       "  0%|          | 0/3926 [00:00<?, ?cell/s]"
      ]
     },
     "metadata": {},
     "output_type": "display_data"
    }
   ],
   "source": [
    "vks = {}\n",
    "\n",
    "for method in VELOCITY_METHODS:\n",
    "    adata = sc.read_h5ad(DATA_DIR / DATASET / \"processed\" / f\"adata_run_stage_{scale_level}_{method}_all_regulons.h5ad\")\n",
    "\n",
    "    adata.obs[\"Hub\"] = (~adata.obs[\"conflict\"].astype(bool)) & (adata.obs[\"assignments\"] == \"none\")\n",
    "    adata.obs[\"assignments\"] = adata.obs[\"assignments\"].astype(str)\n",
    "    adata.obs[\"assignments\"][adata.obs[\"Hub\"]] = \"hub\"\n",
    "\n",
    "    print(adata)\n",
    "    ## construct graph\n",
    "    vk = cr.kernels.VelocityKernel(adata).compute_transition_matrix()\n",
    "    vks[method] = vk"
   ]
  },
  {
   "cell_type": "markdown",
   "id": "d33d62b4-b6ab-4a65-9a0c-a20a61f2434a",
   "metadata": {},
   "source": [
    "## Filter out the transition"
   ]
  },
  {
   "cell_type": "code",
   "execution_count": 10,
   "id": "6cb5b94e-d586-4e28-9c52-332e2b1b4166",
   "metadata": {
    "tags": []
   },
   "outputs": [],
   "source": [
    "STATE_TRANSITIONS = []\n",
    "\n",
    "for i in range(len(STATE_TRANSITIONS_RAW)):\n",
    "    if STATE_TRANSITIONS_RAW[i][1] in np.unique(adata.obs[\"assignments\"]):\n",
    "        STATE_TRANSITIONS.append(STATE_TRANSITIONS_RAW[i])"
   ]
  },
  {
   "cell_type": "code",
   "execution_count": 11,
   "id": "0f11351c-c3c0-49c7-99d2-38e844f332eb",
   "metadata": {
    "tags": []
   },
   "outputs": [],
   "source": [
    "STATE_TRANSITIONS_RAW = [f\"{a} - {b}\" for a, b in STATE_TRANSITIONS_RAW]"
   ]
  },
  {
   "cell_type": "code",
   "execution_count": 12,
   "id": "65c297dc-f9a0-41b1-a5fd-90c2ed3d69c8",
   "metadata": {
    "tags": []
   },
   "outputs": [
    {
     "data": {
      "text/plain": [
       "[('hub', 'Sensory'), ('hub', 'SatGlia')]"
      ]
     },
     "execution_count": 12,
     "metadata": {},
     "output_type": "execute_result"
    }
   ],
   "source": [
    "STATE_TRANSITIONS"
   ]
  },
  {
   "cell_type": "markdown",
   "id": "ac99dad1-d6c7-4287-a699-c26583b63976",
   "metadata": {},
   "source": [
    "## Measuring transport from hub to the terminal cell states"
   ]
  },
  {
   "cell_type": "code",
   "execution_count": 14,
   "id": "42751d07-37e4-4053-b632-aa23af263b11",
   "metadata": {
    "tags": []
   },
   "outputs": [
    {
     "data": {
      "text/plain": [
       "[('hub', 'Sensory'), ('hub', 'SatGlia')]"
      ]
     },
     "execution_count": 14,
     "metadata": {},
     "output_type": "execute_result"
    }
   ],
   "source": [
    "STATE_TRANSITIONS"
   ]
  },
  {
   "cell_type": "code",
   "execution_count": 15,
   "id": "7247f1a3-50b1-42f0-b43c-78b080b11f7e",
   "metadata": {
    "tags": []
   },
   "outputs": [
    {
     "name": "stderr",
     "output_type": "stream",
     "text": [
      "100%|██████████| 2/2 [00:00<00:00,  4.71it/s]\n"
     ]
    }
   ],
   "source": [
    "cluster_key = \"assignments\"\n",
    "rep = \"X_pca\"\n",
    "\n",
    "score_df_rgv_vs_scv = []\n",
    "score_df_rgv_vs_vi = []\n",
    "\n",
    "cbc_rgv_f = []\n",
    "cbc_scv_f = []\n",
    "cbc_vi_f = []\n",
    "for source, target in tqdm(STATE_TRANSITIONS):\n",
    "    cbc_rgv = vks[\"regvelo\"].cbc(source=source, target=target, cluster_key=cluster_key, rep=rep)\n",
    "    cbc_scv = vks[\"scvelo\"].cbc(source=source, target=target, cluster_key=cluster_key, rep=rep)\n",
    "    cbc_vi = vks[\"velovi\"].cbc(source=source, target=target, cluster_key=cluster_key, rep=rep)\n",
    "\n",
    "    score_df_rgv_vs_scv.append(\n",
    "        pd.DataFrame(\n",
    "            {\n",
    "                \"State transition\": [f\"{source} - {target}\"] * len(cbc_rgv),\n",
    "                \"Log ratio\": np.log((cbc_rgv + 1) / (cbc_scv + 1)),\n",
    "            }\n",
    "        )\n",
    "    )\n",
    "\n",
    "    score_df_rgv_vs_vi.append(\n",
    "        pd.DataFrame(\n",
    "            {\n",
    "                \"State transition\": [f\"{source} - {target}\"] * len(cbc_rgv),\n",
    "                \"Log ratio\": np.log((cbc_rgv + 1) / (cbc_vi + 1)),\n",
    "            }\n",
    "        )\n",
    "    )\n",
    "\n",
    "    cbc_rgv_f.append(cbc_rgv)\n",
    "    cbc_scv_f.append(cbc_scv)\n",
    "    cbc_vi_f.append(cbc_vi)\n",
    "\n",
    "score_df_rgv_vs_scv_forward = pd.concat(score_df_rgv_vs_scv)\n",
    "score_df_rgv_vs_vi_forward = pd.concat(score_df_rgv_vs_vi)"
   ]
  },
  {
   "cell_type": "markdown",
   "id": "17cf12bb-a759-4b88-bf06-99d6506ba447",
   "metadata": {},
   "source": [
    "## Comparing overall transition"
   ]
  },
  {
   "cell_type": "code",
   "execution_count": 20,
   "id": "2a434830-7ee7-4ed1-9f18-21f3ad36489e",
   "metadata": {
    "tags": []
   },
   "outputs": [],
   "source": [
    "dfs = []\n",
    "\n",
    "g_df = pd.DataFrame({\"CBC_forward\": list(chain(*cbc_rgv_f))})\n",
    "g_df[\"Method\"] = \"RegVelo\"\n",
    "dfs.append(g_df)\n",
    "\n",
    "g_df = pd.DataFrame({\"CBC_forward\": list(chain(*cbc_vi_f))})\n",
    "g_df[\"Method\"] = \"veloVI\"\n",
    "dfs.append(g_df)\n",
    "\n",
    "g_df = pd.DataFrame({\"CBC_forward\": list(chain(*cbc_scv_f))})\n",
    "g_df[\"Method\"] = \"scVelo\"\n",
    "dfs.append(g_df)\n",
    "\n",
    "velo_df = pd.concat(dfs, axis=0)\n",
    "velo_df[\"Method\"] = velo_df[\"Method\"].astype(\"category\")"
   ]
  },
  {
   "cell_type": "code",
   "execution_count": 21,
   "id": "f0dca4c7-2bec-4444-b0aa-6f77f17a9227",
   "metadata": {
    "tags": []
   },
   "outputs": [
    {
     "data": {
      "image/png": "[encoded data removed]",
      "text/plain": [
       "<Figure size 240x320 with 1 Axes>"
      ]
     },
     "metadata": {
      "image/png": {
       "height": 300,
       "width": 262
      }
     },
     "output_type": "display_data"
    }
   ],
   "source": [
    "with mplscience.style_context():\n",
    "    sns.set_style(style=\"whitegrid\")\n",
    "    fig, ax = plt.subplots(figsize=(3, 4))\n",
    "\n",
    "    sns.violinplot(data=velo_df, x=\"Method\", y=\"CBC_forward\", palette=\"colorblind\", ax=ax)\n",
    "\n",
    "    ttest_res = ttest_ind(list(chain(*cbc_rgv_f)), list(chain(*cbc_vi_f)), equal_var=False, alternative=\"greater\")\n",
    "    significance = get_significance(ttest_res.pvalue)\n",
    "    add_significance(\n",
    "        ax=ax,\n",
    "        left=0,\n",
    "        right=1,\n",
    "        significance=significance,\n",
    "        lw=1,\n",
    "        bracket_level=1.05,\n",
    "        c=\"k\",\n",
    "        level=0,\n",
    "    )\n",
    "\n",
    "    ttest_res = ttest_ind(list(chain(*cbc_rgv_f)), list(chain(*cbc_scv_f)), equal_var=False, alternative=\"greater\")\n",
    "    significance = get_significance(ttest_res.pvalue)\n",
    "    add_significance(\n",
    "        ax=ax,\n",
    "        left=0,\n",
    "        right=2,\n",
    "        significance=significance,\n",
    "        lw=1,\n",
    "        bracket_level=1.05,\n",
    "        c=\"k\",\n",
    "        level=0,\n",
    "    )\n",
    "\n",
    "    y_min, y_max = ax.get_ylim()\n",
    "    ax.set_ylim([y_min, y_max + 0.02])\n",
    "    plt.show()"
   ]
  },
  {
   "cell_type": "code",
   "execution_count": 22,
   "id": "2a8256a0-f88c-493f-8507-47912068bd78",
   "metadata": {},
   "outputs": [],
   "source": [
    "if SAVE_DATA:\n",
    "    velo_df.to_csv(DATA_DIR / DATASET / \"velo_df_scale_1.csv\")"
   ]
  },
  {
   "cell_type": "markdown",
   "id": "35700708-a8fe-4ad0-a8ba-f15576af4ca7",
   "metadata": {},
   "source": [
    "## Visualize all transition results"
   ]
  },
  {
   "cell_type": "code",
   "execution_count": 23,
   "id": "aec234b7-ff0a-4541-94f9-12be6d6906bb",
   "metadata": {},
   "outputs": [
    {
     "data": {
      "text/html": [
       "<div>\n",
       "<style scoped>\n",
       "    .dataframe tbody tr th:only-of-type {\n",
       "        vertical-align: middle;\n",
       "    }\n",
       "\n",
       "    .dataframe tbody tr th {\n",
       "        vertical-align: top;\n",
       "    }\n",
       "\n",
       "    .dataframe thead th {\n",
       "        text-align: right;\n",
       "    }\n",
       "</style>\n",
       "<table border=\"1\" class=\"dataframe\">\n",
       "  <thead>\n",
       "    <tr style=\"text-align: right;\">\n",
       "      <th></th>\n",
       "      <th>CBC_forward</th>\n",
       "      <th>Method</th>\n",
       "      <th>scale</th>\n",
       "    </tr>\n",
       "  </thead>\n",
       "  <tbody>\n",
       "    <tr>\n",
       "      <th>0</th>\n",
       "      <td>0.981314</td>\n",
       "      <td>RegVelo</td>\n",
       "      <td>1</td>\n",
       "    </tr>\n",
       "    <tr>\n",
       "      <th>1</th>\n",
       "      <td>0.476706</td>\n",
       "      <td>RegVelo</td>\n",
       "      <td>1</td>\n",
       "    </tr>\n",
       "    <tr>\n",
       "      <th>2</th>\n",
       "      <td>0.753209</td>\n",
       "      <td>RegVelo</td>\n",
       "      <td>1</td>\n",
       "    </tr>\n",
       "    <tr>\n",
       "      <th>3</th>\n",
       "      <td>0.548564</td>\n",
       "      <td>RegVelo</td>\n",
       "      <td>1</td>\n",
       "    </tr>\n",
       "    <tr>\n",
       "      <th>4</th>\n",
       "      <td>0.612676</td>\n",
       "      <td>RegVelo</td>\n",
       "      <td>1</td>\n",
       "    </tr>\n",
       "    <tr>\n",
       "      <th>...</th>\n",
       "      <td>...</td>\n",
       "      <td>...</td>\n",
       "      <td>...</td>\n",
       "    </tr>\n",
       "    <tr>\n",
       "      <th>609</th>\n",
       "      <td>0.491018</td>\n",
       "      <td>scVelo</td>\n",
       "      <td>4</td>\n",
       "    </tr>\n",
       "    <tr>\n",
       "      <th>610</th>\n",
       "      <td>0.174424</td>\n",
       "      <td>scVelo</td>\n",
       "      <td>4</td>\n",
       "    </tr>\n",
       "    <tr>\n",
       "      <th>611</th>\n",
       "      <td>0.297567</td>\n",
       "      <td>scVelo</td>\n",
       "      <td>4</td>\n",
       "    </tr>\n",
       "    <tr>\n",
       "      <th>612</th>\n",
       "      <td>-0.316798</td>\n",
       "      <td>scVelo</td>\n",
       "      <td>4</td>\n",
       "    </tr>\n",
       "    <tr>\n",
       "      <th>613</th>\n",
       "      <td>0.165285</td>\n",
       "      <td>scVelo</td>\n",
       "      <td>4</td>\n",
       "    </tr>\n",
       "  </tbody>\n",
       "</table>\n",
       "<p>4278 rows × 3 columns</p>\n",
       "</div>"
      ],
      "text/plain": [
       "     CBC_forward   Method scale\n",
       "0       0.981314  RegVelo     1\n",
       "1       0.476706  RegVelo     1\n",
       "2       0.753209  RegVelo     1\n",
       "3       0.548564  RegVelo     1\n",
       "4       0.612676  RegVelo     1\n",
       "..           ...      ...   ...\n",
       "609     0.491018   scVelo     4\n",
       "610     0.174424   scVelo     4\n",
       "611     0.297567   scVelo     4\n",
       "612    -0.316798   scVelo     4\n",
       "613     0.165285   scVelo     4\n",
       "\n",
       "[4278 rows x 3 columns]"
      ]
     },
     "execution_count": 23,
     "metadata": {},
     "output_type": "execute_result"
    }
   ],
   "source": [
    "df_all = []\n",
    "for i in range(1, 5):\n",
    "    df = pd.read_csv(DATA_DIR / DATASET / f\"velo_df_scale_{i}.csv\", index_col=0)\n",
    "\n",
    "    df[\"scale\"] = str(i)\n",
    "    df_all.append(df)\n",
    "\n",
    "df = pd.concat(df_all, axis=0)\n",
    "df"
   ]
  },
  {
   "cell_type": "code",
   "execution_count": 24,
   "id": "a6900745-dd37-45f4-9930-beaa1deaa2cf",
   "metadata": {},
   "outputs": [
    {
     "data": {
      "image/png": "[encoded data removed]",
      "text/plain": [
       "<Figure size 480x200 with 1 Axes>"
      ]
     },
     "metadata": {
      "image/png": {
       "height": 211,
       "width": 438
      }
     },
     "output_type": "display_data"
    }
   ],
   "source": [
    "with mplscience.style_context():\n",
    "    sns.set_style(style=\"whitegrid\")\n",
    "    fig, ax = plt.subplots(figsize=(6, 2.5))\n",
    "\n",
    "    # Plot the barplot without error bars\n",
    "    sns.barplot(data=df, x=\"scale\", y=\"CBC_forward\", hue=\"Method\", ax=ax)\n",
    "\n",
    "    # Add jittered dots\n",
    "    # sns.stripplot(data=df, y=\"scale\", x=\"AUROC\", hue=\"method\", dodge=True, color=\"black\", ax=ax, jitter=True)\n",
    "\n",
    "    # Remove the duplicate legend\n",
    "    handles, labels = ax.get_legend_handles_labels()\n",
    "    ax.legend(handles[3:6], labels[3:6], bbox_to_anchor=(0.5, -0.1), loc=\"upper center\", ncol=2)\n",
    "\n",
    "    # Customize labels and other settings\n",
    "    ax.set(xlabel=\"\", ylabel=\"CBC (hub -> terminal)\")\n",
    "    ax.set_xlabel(xlabel=\"Scale\", fontsize=13)\n",
    "    ax.set_ylim(0, 1)\n",
    "\n",
    "    if SAVE_FIGURES:\n",
    "        plt.savefig(FIG_DIR / DATASET / \"CBC_benchmark.svg\", format=\"svg\", transparent=True, bbox_inches=\"tight\")\n",
    "    plt.show()"
   ]
  }
 ],
 "metadata": {
  "kernelspec": {
   "display_name": "Python [conda env:regvelo_test]",
   "language": "python",
   "name": "conda-env-regvelo_test-py"
  },
  "language_info": {
   "codemirror_mode": {
    "name": "ipython",
    "version": 3
   },
   "file_extension": ".py",
   "mimetype": "text/x-python",
   "name": "python",
   "nbconvert_exporter": "python",
   "pygments_lexer": "ipython3",
   "version": "3.10.15"
  }
 },
 "nbformat": 4,
 "nbformat_minor": 5
}
