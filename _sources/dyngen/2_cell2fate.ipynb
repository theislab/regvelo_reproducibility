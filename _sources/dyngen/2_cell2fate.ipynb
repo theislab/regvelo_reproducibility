{
 "cells": [
  {
   "cell_type": "markdown",
   "id": "87443fd1",
   "metadata": {},
   "source": [
    "# cell2fate benchmark on dyngen data\n",
    "\n",
    "Notebook benchmarks velocity and latent time inference using cell2fate on dyngen-generated data.\n",
    "\n",
    "Note that cell2fate requires `anndata==0.8.0` and `scvi-tools==0.16.1`."
   ]
  },
  {
   "cell_type": "markdown",
   "id": "a67153cd",
   "metadata": {},
   "source": [
    "## Library imports"
   ]
  },
  {
   "cell_type": "code",
   "execution_count": 1,
   "id": "2abba759-163c-42c8-b826-7b91623a9fca",
   "metadata": {},
   "outputs": [
    {
     "name": "stderr",
     "output_type": "stream",
     "text": [
      "Global seed set to 0\n"
     ]
    }
   ],
   "source": [
    "import contextlib\n",
    "import io\n",
    "\n",
    "import numpy as np\n",
    "import pandas as pd\n",
    "import scipy\n",
    "import torch\n",
    "\n",
    "import anndata as ad\n",
    "import cell2fate as c2f\n",
    "import scanpy as sc\n",
    "\n",
    "from rgv_tools import DATA_DIR"
   ]
  },
  {
   "cell_type": "markdown",
   "id": "a15b37db-3a15-4364-8eeb-1916ae7e4614",
   "metadata": {
    "lines_to_next_cell": 2
   },
   "source": [
    "## Function definitions"
   ]
  },
  {
   "cell_type": "code",
   "execution_count": 2,
   "id": "1b4aa1b0-c83d-4de3-ab01-4c8c30ca3000",
   "metadata": {},
   "outputs": [],
   "source": [
    "# Function for train model and get output\n",
    "def train_c2f_model(adata):\n",
    "    \"\"\"cell2fate pipeline.\"\"\"\n",
    "    c2f.Cell2fate_DynamicalModel.setup_anndata(adata, spliced_label=\"spliced_raw\", unspliced_label=\"unspliced_raw\")\n",
    "    n_modules = c2f.utils.get_max_modules(adata)\n",
    "    mod = c2f.Cell2fate_DynamicalModel(adata, n_modules=n_modules)\n",
    "    mod.train()\n",
    "\n",
    "    adata = mod.export_posterior(\n",
    "        adata, sample_kwargs={\"batch_size\": None, \"num_samples\": 30, \"return_samples\": True, \"use_gpu\": False}\n",
    "    )\n",
    "    adata = mod.compute_module_summary_statistics(adata)\n",
    "    with contextlib.redirect_stdout(io.StringIO()):\n",
    "        adata.layers[\"Spliced Mean\"] = mod.samples[\"post_sample_means\"][\"mu_expression\"][..., 1]\n",
    "        c2f_velocity = (\n",
    "            torch.tensor(mod.samples[\"post_sample_means\"][\"beta_g\"])\n",
    "            * mod.samples[\"post_sample_means\"][\"mu_expression\"][..., 0]\n",
    "            - torch.tensor(mod.samples[\"post_sample_means\"][\"gamma_g\"])\n",
    "            * mod.samples[\"post_sample_means\"][\"mu_expression\"][..., 1]\n",
    "        )\n",
    "        adata.layers[\"velocity\"] = c2f_velocity.numpy()\n",
    "\n",
    "    adata.layers[\"Ms\"] = adata.layers[\"spliced\"].copy()\n",
    "\n",
    "    return adata"
   ]
  },
  {
   "cell_type": "code",
   "execution_count": null,
   "id": "8119b9e9",
   "metadata": {},
   "outputs": [],
   "source": [
    "def get_velocity_correlation(ground_truth, estimated, aggregation, axis: int = 0):\n",
    "    \"\"\"Compute Pearson correlation between ground truth and estimated values.\"\"\"\n",
    "    # Ensure inputs are numpy arrays for easier manipulation\n",
    "    ground_truth = np.asarray(ground_truth)\n",
    "    estimated = np.asarray(estimated)\n",
    "\n",
    "    # Compute correlation along the specified axis\n",
    "    correlations = []\n",
    "    for i in range(ground_truth.shape[0]):\n",
    "        corr, _ = scipy.stats.pearsonr(ground_truth[i], estimated[i])\n",
    "        correlations.append(corr)\n",
    "\n",
    "    correlations = np.array(correlations)\n",
    "\n",
    "    if aggregation is None:\n",
    "        return correlations\n",
    "    elif callable(aggregation):\n",
    "        return aggregation(correlations)\n",
    "    else:\n",
    "        raise ValueError(\"Aggregation must be callable or None.\")"
   ]
  },
  {
   "cell_type": "markdown",
   "id": "4cf5e643-a580-4b81-b298-1aec0291064e",
   "metadata": {},
   "source": [
    "## Constants"
   ]
  },
  {
   "cell_type": "code",
   "execution_count": 3,
   "id": "6d018064-5b61-46fe-b196-d390998e6950",
   "metadata": {},
   "outputs": [],
   "source": [
    "DATASET = \"dyngen\""
   ]
  },
  {
   "cell_type": "code",
   "execution_count": 5,
   "id": "054d67d8-c98f-4e60-bb4a-ce3ecdbbf098",
   "metadata": {},
   "outputs": [],
   "source": [
    "SAVE_DATA = True\n",
    "if SAVE_DATA:\n",
    "    (DATA_DIR / DATASET / \"results\").mkdir(parents=True, exist_ok=True)"
   ]
  },
  {
   "cell_type": "markdown",
   "id": "d521216d-bef9-42f7-bd17-5c006c4c8c1e",
   "metadata": {},
   "source": [
    "## Velocity pipeline"
   ]
  },
  {
   "cell_type": "code",
   "execution_count": 6,
   "id": "15e41c0b-f6cc-4bb2-badb-82daf11e7c01",
   "metadata": {
    "tags": []
   },
   "outputs": [
    {
     "name": "stdout",
     "output_type": "stream",
     "text": [
      "Keeping at most 100000 cells per cluster\n",
      "Extracted 90 highly variable genes.\n"
     ]
    },
    {
     "name": "stderr",
     "output_type": "stream",
     "text": [
      "An NVIDIA GPU may be present on this machine, but a CUDA-enabled jaxlib is not installed. Falling back to cpu.\n"
     ]
    },
    {
     "name": "stdout",
     "output_type": "stream",
     "text": [
      "Leiden clustering ...\n",
      "WARNING: adata.X seems to be already log-transformed.\n",
      "Number of Leiden Clusters: 9\n",
      "Maximal Number of Modules: 10\n"
     ]
    },
    {
     "name": "stderr",
     "output_type": "stream",
     "text": [
      "/home/icb/weixu.wang/miniconda3/envs/cell2fate_env2/lib/python3.9/site-packages/pytorch_lightning/core/lightning.py:2054: DeprecationWarning: `torch.distributed._sharded_tensor` will be deprecated, use `torch.distributed._shard.sharded_tensor` instead\n",
      "  from torch.distributed._sharded_tensor import pre_load_state_dict_hook, state_dict_hook\n",
      "GPU available: True, used: True\n",
      "TPU available: False, using: 0 TPU cores\n",
      "IPU available: False, using: 0 IPUs\n",
      "LOCAL_RANK: 0 - CUDA_VISIBLE_DEVICES: [0]\n",
      "Set SLURM handle signals.\n"
     ]
    },
    {
     "name": "stdout",
     "output_type": "stream",
     "text": [
      "Epoch 500/500: 100%|██████████| 500/500 [01:55<00:00,  4.33it/s, v_num=1, elbo_train=1.87e+5]\n",
      "Sampling local variables, batch: 100%|██████████| 1/1 [00:04<00:00,  4.02s/it]\n",
      "Sampling global variables, sample: 100%|██████████| 29/29 [00:01<00:00, 21.76it/s]\n",
      "Warning: Saving ALL posterior samples. Specify \"return_samples: False\" to save just summary statistics.\n",
      "Keeping at most 100000 cells per cluster\n",
      "Skip filtering by dispersion since number of variables are less than `n_top_genes`.\n",
      "Leiden clustering ...\n",
      "WARNING: adata.X seems to be already log-transformed.\n"
     ]
    },
    {
     "name": "stderr",
     "output_type": "stream",
     "text": [
      "GPU available: True, used: True\n",
      "TPU available: False, using: 0 TPU cores\n",
      "IPU available: False, using: 0 IPUs\n",
      "LOCAL_RANK: 0 - CUDA_VISIBLE_DEVICES: [0]\n",
      "Set SLURM handle signals.\n"
     ]
    },
    {
     "name": "stdout",
     "output_type": "stream",
     "text": [
      "Number of Leiden Clusters: 4\n",
      "Maximal Number of Modules: 4\n",
      "Epoch 500/500: 100%|██████████| 500/500 [01:07<00:00,  7.41it/s, v_num=1, elbo_train=3.71e+5]\n",
      "Sampling local variables, batch: 100%|██████████| 1/1 [00:00<00:00,  1.13it/s]\n",
      "Sampling global variables, sample: 100%|██████████| 29/29 [00:00<00:00, 35.76it/s]\n",
      "Warning: Saving ALL posterior samples. Specify \"return_samples: False\" to save just summary statistics.\n",
      "Keeping at most 100000 cells per cluster\n",
      "Skip filtering by dispersion since number of variables are less than `n_top_genes`.\n",
      "Leiden clustering ...\n",
      "WARNING: adata.X seems to be already log-transformed.\n"
     ]
    },
    {
     "name": "stderr",
     "output_type": "stream",
     "text": [
      "GPU available: True, used: True\n",
      "TPU available: False, using: 0 TPU cores\n",
      "IPU available: False, using: 0 IPUs\n",
      "LOCAL_RANK: 0 - CUDA_VISIBLE_DEVICES: [0]\n",
      "Set SLURM handle signals.\n"
     ]
    },
    {
     "name": "stdout",
     "output_type": "stream",
     "text": [
      "Number of Leiden Clusters: 3\n",
      "Maximal Number of Modules: 3\n",
      "Epoch 500/500: 100%|██████████| 500/500 [01:00<00:00,  8.30it/s, v_num=1, elbo_train=1.44e+5]\n",
      "Sampling local variables, batch: 100%|██████████| 1/1 [00:00<00:00,  1.33it/s]\n",
      "Sampling global variables, sample: 100%|██████████| 29/29 [00:00<00:00, 40.35it/s]\n",
      "Warning: Saving ALL posterior samples. Specify \"return_samples: False\" to save just summary statistics.\n",
      "Keeping at most 100000 cells per cluster\n",
      "Skip filtering by dispersion since number of variables are less than `n_top_genes`.\n",
      "Leiden clustering ...\n",
      "WARNING: adata.X seems to be already log-transformed.\n"
     ]
    },
    {
     "name": "stderr",
     "output_type": "stream",
     "text": [
      "GPU available: True, used: True\n",
      "TPU available: False, using: 0 TPU cores\n",
      "IPU available: False, using: 0 IPUs\n",
      "LOCAL_RANK: 0 - CUDA_VISIBLE_DEVICES: [0]\n",
      "Set SLURM handle signals.\n"
     ]
    },
    {
     "name": "stdout",
     "output_type": "stream",
     "text": [
      "Number of Leiden Clusters: 3\n",
      "Maximal Number of Modules: 3\n",
      "Epoch 500/500: 100%|██████████| 500/500 [01:00<00:00,  8.21it/s, v_num=1, elbo_train=7.21e+4]\n",
      "Sampling local variables, batch: 100%|██████████| 1/1 [00:00<00:00,  1.34it/s]\n",
      "Sampling global variables, sample: 100%|██████████| 29/29 [00:00<00:00, 41.12it/s]\n",
      "Warning: Saving ALL posterior samples. Specify \"return_samples: False\" to save just summary statistics.\n",
      "Keeping at most 100000 cells per cluster\n",
      "Skip filtering by dispersion since number of variables are less than `n_top_genes`.\n",
      "Leiden clustering ...\n",
      "WARNING: adata.X seems to be already log-transformed.\n"
     ]
    },
    {
     "name": "stderr",
     "output_type": "stream",
     "text": [
      "GPU available: True, used: True\n",
      "TPU available: False, using: 0 TPU cores\n",
      "IPU available: False, using: 0 IPUs\n",
      "LOCAL_RANK: 0 - CUDA_VISIBLE_DEVICES: [0]\n",
      "Set SLURM handle signals.\n"
     ]
    },
    {
     "name": "stdout",
     "output_type": "stream",
     "text": [
      "Number of Leiden Clusters: 7\n",
      "Maximal Number of Modules: 8\n",
      "Epoch 500/500: 100%|██████████| 500/500 [01:21<00:00,  6.15it/s, v_num=1, elbo_train=8.39e+4]\n",
      "Sampling local variables, batch: 100%|██████████| 1/1 [00:01<00:00,  1.05s/it]\n",
      "Sampling global variables, sample: 100%|██████████| 29/29 [00:00<00:00, 30.07it/s]\n",
      "Warning: Saving ALL posterior samples. Specify \"return_samples: False\" to save just summary statistics.\n",
      "Keeping at most 100000 cells per cluster\n",
      "Filtered out 2 genes that are detected 10 counts (shared).\n",
      "Extracted 90 highly variable genes.\n",
      "Leiden clustering ...\n",
      "WARNING: adata.X seems to be already log-transformed.\n"
     ]
    },
    {
     "name": "stderr",
     "output_type": "stream",
     "text": [
      "GPU available: True, used: True\n",
      "TPU available: False, using: 0 TPU cores\n",
      "IPU available: False, using: 0 IPUs\n",
      "LOCAL_RANK: 0 - CUDA_VISIBLE_DEVICES: [0]\n",
      "Set SLURM handle signals.\n"
     ]
    },
    {
     "name": "stdout",
     "output_type": "stream",
     "text": [
      "Number of Leiden Clusters: 4\n",
      "Maximal Number of Modules: 4\n",
      "Epoch 500/500: 100%|██████████| 500/500 [01:08<00:00,  7.30it/s, v_num=1, elbo_train=1.61e+5]\n",
      "Sampling local variables, batch: 100%|██████████| 1/1 [00:01<00:00,  1.02s/it]\n",
      "Sampling global variables, sample: 100%|██████████| 29/29 [00:00<00:00, 31.18it/s]\n",
      "Warning: Saving ALL posterior samples. Specify \"return_samples: False\" to save just summary statistics.\n",
      "Keeping at most 100000 cells per cluster\n",
      "Skip filtering by dispersion since number of variables are less than `n_top_genes`.\n",
      "Leiden clustering ...\n",
      "WARNING: adata.X seems to be already log-transformed.\n"
     ]
    },
    {
     "name": "stderr",
     "output_type": "stream",
     "text": [
      "GPU available: True, used: True\n",
      "TPU available: False, using: 0 TPU cores\n",
      "IPU available: False, using: 0 IPUs\n",
      "LOCAL_RANK: 0 - CUDA_VISIBLE_DEVICES: [0]\n",
      "Set SLURM handle signals.\n"
     ]
    },
    {
     "name": "stdout",
     "output_type": "stream",
     "text": [
      "Number of Leiden Clusters: 5\n",
      "Maximal Number of Modules: 5\n",
      "Epoch 500/500: 100%|██████████| 500/500 [01:19<00:00,  6.30it/s, v_num=1, elbo_train=2.84e+5]\n",
      "Sampling local variables, batch: 100%|██████████| 1/1 [00:02<00:00,  2.84s/it]\n",
      "Sampling global variables, sample: 100%|██████████| 29/29 [00:00<00:00, 34.95it/s]\n",
      "Warning: Saving ALL posterior samples. Specify \"return_samples: False\" to save just summary statistics.\n",
      "Keeping at most 100000 cells per cluster\n",
      "Skip filtering by dispersion since number of variables are less than `n_top_genes`.\n",
      "Leiden clustering ...\n",
      "WARNING: adata.X seems to be already log-transformed.\n"
     ]
    },
    {
     "name": "stderr",
     "output_type": "stream",
     "text": [
      "GPU available: True, used: True\n",
      "TPU available: False, using: 0 TPU cores\n",
      "IPU available: False, using: 0 IPUs\n",
      "LOCAL_RANK: 0 - CUDA_VISIBLE_DEVICES: [0]\n",
      "Set SLURM handle signals.\n"
     ]
    },
    {
     "name": "stdout",
     "output_type": "stream",
     "text": [
      "Number of Leiden Clusters: 5\n",
      "Maximal Number of Modules: 5\n",
      "Epoch 500/500: 100%|██████████| 500/500 [01:12<00:00,  6.89it/s, v_num=1, elbo_train=5.74e+4]\n",
      "Sampling local variables, batch: 100%|██████████| 1/1 [00:00<00:00,  1.12it/s]\n",
      "Sampling global variables, sample: 100%|██████████| 29/29 [00:00<00:00, 35.09it/s]\n",
      "Warning: Saving ALL posterior samples. Specify \"return_samples: False\" to save just summary statistics.\n",
      "Keeping at most 100000 cells per cluster\n",
      "Skip filtering by dispersion since number of variables are less than `n_top_genes`.\n",
      "Leiden clustering ...\n",
      "WARNING: adata.X seems to be already log-transformed.\n"
     ]
    },
    {
     "name": "stderr",
     "output_type": "stream",
     "text": [
      "GPU available: True, used: True\n",
      "TPU available: False, using: 0 TPU cores\n",
      "IPU available: False, using: 0 IPUs\n",
      "LOCAL_RANK: 0 - CUDA_VISIBLE_DEVICES: [0]\n",
      "Set SLURM handle signals.\n"
     ]
    },
    {
     "name": "stdout",
     "output_type": "stream",
     "text": [
      "Number of Leiden Clusters: 3\n",
      "Maximal Number of Modules: 3\n",
      "Epoch 500/500: 100%|██████████| 500/500 [01:00<00:00,  8.26it/s, v_num=1, elbo_train=4.71e+5]\n",
      "Sampling local variables, batch: 100%|██████████| 1/1 [00:00<00:00,  1.24it/s]\n",
      "Sampling global variables, sample: 100%|██████████| 29/29 [00:00<00:00, 38.89it/s]\n",
      "Warning: Saving ALL posterior samples. Specify \"return_samples: False\" to save just summary statistics.\n",
      "Keeping at most 100000 cells per cluster\n",
      "Skip filtering by dispersion since number of variables are less than `n_top_genes`.\n",
      "Leiden clustering ...\n",
      "WARNING: adata.X seems to be already log-transformed.\n"
     ]
    },
    {
     "name": "stderr",
     "output_type": "stream",
     "text": [
      "GPU available: True, used: True\n",
      "TPU available: False, using: 0 TPU cores\n",
      "IPU available: False, using: 0 IPUs\n",
      "LOCAL_RANK: 0 - CUDA_VISIBLE_DEVICES: [0]\n",
      "Set SLURM handle signals.\n"
     ]
    },
    {
     "name": "stdout",
     "output_type": "stream",
     "text": [
      "Number of Leiden Clusters: 5\n",
      "Maximal Number of Modules: 5\n",
      "Epoch 500/500: 100%|██████████| 500/500 [01:14<00:00,  6.69it/s, v_num=1, elbo_train=6.45e+5]\n",
      "Sampling local variables, batch: 100%|██████████| 1/1 [00:01<00:00,  1.07s/it]\n",
      "Sampling global variables, sample: 100%|██████████| 29/29 [00:00<00:00, 33.39it/s]\n",
      "Warning: Saving ALL posterior samples. Specify \"return_samples: False\" to save just summary statistics.\n",
      "Keeping at most 100000 cells per cluster\n",
      "Skip filtering by dispersion since number of variables are less than `n_top_genes`.\n",
      "Leiden clustering ...\n",
      "WARNING: adata.X seems to be already log-transformed.\n"
     ]
    },
    {
     "name": "stderr",
     "output_type": "stream",
     "text": [
      "GPU available: True, used: True\n",
      "TPU available: False, using: 0 TPU cores\n",
      "IPU available: False, using: 0 IPUs\n",
      "LOCAL_RANK: 0 - CUDA_VISIBLE_DEVICES: [0]\n",
      "Set SLURM handle signals.\n"
     ]
    },
    {
     "name": "stdout",
     "output_type": "stream",
     "text": [
      "Number of Leiden Clusters: 5\n",
      "Maximal Number of Modules: 5\n",
      "Epoch 500/500: 100%|██████████| 500/500 [01:11<00:00,  6.95it/s, v_num=1, elbo_train=1.28e+5]\n",
      "Sampling local variables, batch: 100%|██████████| 1/1 [00:00<00:00,  1.09it/s]\n",
      "Sampling global variables, sample: 100%|██████████| 29/29 [00:00<00:00, 33.89it/s]\n",
      "Warning: Saving ALL posterior samples. Specify \"return_samples: False\" to save just summary statistics.\n",
      "Keeping at most 100000 cells per cluster\n",
      "Filtered out 1 genes that are detected 10 counts (shared).\n",
      "Skip filtering by dispersion since number of variables are less than `n_top_genes`.\n",
      "Leiden clustering ...\n",
      "WARNING: adata.X seems to be already log-transformed.\n"
     ]
    },
    {
     "name": "stderr",
     "output_type": "stream",
     "text": [
      "GPU available: True, used: True\n",
      "TPU available: False, using: 0 TPU cores\n",
      "IPU available: False, using: 0 IPUs\n",
      "LOCAL_RANK: 0 - CUDA_VISIBLE_DEVICES: [0]\n",
      "Set SLURM handle signals.\n"
     ]
    },
    {
     "name": "stdout",
     "output_type": "stream",
     "text": [
      "Number of Leiden Clusters: 4\n",
      "Maximal Number of Modules: 4\n",
      "Epoch 500/500: 100%|██████████| 500/500 [01:07<00:00,  7.41it/s, v_num=1, elbo_train=6.7e+4] \n",
      "Sampling local variables, batch: 100%|██████████| 1/1 [00:00<00:00,  1.14it/s]\n",
      "Sampling global variables, sample: 100%|██████████| 29/29 [00:00<00:00, 35.56it/s]\n",
      "Warning: Saving ALL posterior samples. Specify \"return_samples: False\" to save just summary statistics.\n",
      "Keeping at most 100000 cells per cluster\n",
      "Skip filtering by dispersion since number of variables are less than `n_top_genes`.\n",
      "Leiden clustering ...\n",
      "WARNING: adata.X seems to be already log-transformed.\n"
     ]
    },
    {
     "name": "stderr",
     "output_type": "stream",
     "text": [
      "GPU available: True, used: True\n",
      "TPU available: False, using: 0 TPU cores\n",
      "IPU available: False, using: 0 IPUs\n",
      "LOCAL_RANK: 0 - CUDA_VISIBLE_DEVICES: [0]\n",
      "Set SLURM handle signals.\n"
     ]
    },
    {
     "name": "stdout",
     "output_type": "stream",
     "text": [
      "Number of Leiden Clusters: 7\n",
      "Maximal Number of Modules: 8\n",
      "Epoch 500/500: 100%|██████████| 500/500 [01:23<00:00,  6.02it/s, v_num=1, elbo_train=1.25e+5]\n",
      "Sampling local variables, batch: 100%|██████████| 1/1 [00:01<00:00,  1.06s/it]\n",
      "Sampling global variables, sample: 100%|██████████| 29/29 [00:00<00:00, 29.47it/s]\n",
      "Warning: Saving ALL posterior samples. Specify \"return_samples: False\" to save just summary statistics.\n",
      "Keeping at most 100000 cells per cluster\n",
      "Skip filtering by dispersion since number of variables are less than `n_top_genes`.\n",
      "Leiden clustering ...\n",
      "WARNING: adata.X seems to be already log-transformed.\n"
     ]
    },
    {
     "name": "stderr",
     "output_type": "stream",
     "text": [
      "GPU available: True, used: True\n",
      "TPU available: False, using: 0 TPU cores\n",
      "IPU available: False, using: 0 IPUs\n",
      "LOCAL_RANK: 0 - CUDA_VISIBLE_DEVICES: [0]\n",
      "Set SLURM handle signals.\n"
     ]
    },
    {
     "name": "stdout",
     "output_type": "stream",
     "text": [
      "Number of Leiden Clusters: 3\n",
      "Maximal Number of Modules: 3\n",
      "Epoch 500/500: 100%|██████████| 500/500 [01:02<00:00,  8.06it/s, v_num=1, elbo_train=6.99e+4]\n",
      "Sampling local variables, batch: 100%|██████████| 1/1 [00:00<00:00,  1.26it/s]\n",
      "Sampling global variables, sample: 100%|██████████| 29/29 [00:00<00:00, 40.55it/s]\n",
      "Warning: Saving ALL posterior samples. Specify \"return_samples: False\" to save just summary statistics.\n",
      "Keeping at most 100000 cells per cluster\n",
      "Skip filtering by dispersion since number of variables are less than `n_top_genes`.\n",
      "Leiden clustering ...\n",
      "WARNING: adata.X seems to be already log-transformed.\n"
     ]
    },
    {
     "name": "stderr",
     "output_type": "stream",
     "text": [
      "GPU available: True, used: True\n",
      "TPU available: False, using: 0 TPU cores\n",
      "IPU available: False, using: 0 IPUs\n",
      "LOCAL_RANK: 0 - CUDA_VISIBLE_DEVICES: [0]\n",
      "Set SLURM handle signals.\n"
     ]
    },
    {
     "name": "stdout",
     "output_type": "stream",
     "text": [
      "Number of Leiden Clusters: 2\n",
      "Maximal Number of Modules: 2\n",
      "Epoch 500/500: 100%|██████████| 500/500 [00:57<00:00,  8.68it/s, v_num=1, elbo_train=6.75e+4]\n",
      "Sampling local variables, batch: 100%|██████████| 1/1 [00:00<00:00,  1.47it/s]\n",
      "Sampling global variables, sample: 100%|██████████| 29/29 [00:00<00:00, 45.46it/s]\n",
      "Warning: Saving ALL posterior samples. Specify \"return_samples: False\" to save just summary statistics.\n",
      "Keeping at most 100000 cells per cluster\n",
      "Skip filtering by dispersion since number of variables are less than `n_top_genes`.\n",
      "Leiden clustering ...\n",
      "WARNING: adata.X seems to be already log-transformed.\n"
     ]
    },
    {
     "name": "stderr",
     "output_type": "stream",
     "text": [
      "GPU available: True, used: True\n",
      "TPU available: False, using: 0 TPU cores\n",
      "IPU available: False, using: 0 IPUs\n",
      "LOCAL_RANK: 0 - CUDA_VISIBLE_DEVICES: [0]\n",
      "Set SLURM handle signals.\n"
     ]
    },
    {
     "name": "stdout",
     "output_type": "stream",
     "text": [
      "Number of Leiden Clusters: 4\n",
      "Maximal Number of Modules: 4\n",
      "Epoch 500/500: 100%|██████████| 500/500 [01:09<00:00,  7.20it/s, v_num=1, elbo_train=7.25e+4]\n",
      "Sampling local variables, batch: 100%|██████████| 1/1 [00:00<00:00,  1.17it/s]\n",
      "Sampling global variables, sample: 100%|██████████| 29/29 [00:00<00:00, 37.11it/s]\n",
      "Warning: Saving ALL posterior samples. Specify \"return_samples: False\" to save just summary statistics.\n",
      "Keeping at most 100000 cells per cluster\n",
      "Skip filtering by dispersion since number of variables are less than `n_top_genes`.\n",
      "Leiden clustering ...\n",
      "WARNING: adata.X seems to be already log-transformed.\n"
     ]
    },
    {
     "name": "stderr",
     "output_type": "stream",
     "text": [
      "GPU available: True, used: True\n",
      "TPU available: False, using: 0 TPU cores\n",
      "IPU available: False, using: 0 IPUs\n",
      "LOCAL_RANK: 0 - CUDA_VISIBLE_DEVICES: [0]\n",
      "Set SLURM handle signals.\n"
     ]
    },
    {
     "name": "stdout",
     "output_type": "stream",
     "text": [
      "Number of Leiden Clusters: 3\n",
      "Maximal Number of Modules: 3\n",
      "Epoch 500/500: 100%|██████████| 500/500 [01:01<00:00,  8.17it/s, v_num=1, elbo_train=3.98e+4]\n",
      "Sampling local variables, batch: 100%|██████████| 1/1 [00:00<00:00,  1.46it/s]\n",
      "Sampling global variables, sample: 100%|██████████| 29/29 [00:00<00:00, 44.43it/s]\n",
      "Warning: Saving ALL posterior samples. Specify \"return_samples: False\" to save just summary statistics.\n",
      "Keeping at most 100000 cells per cluster\n",
      "Skip filtering by dispersion since number of variables are less than `n_top_genes`.\n",
      "Leiden clustering ...\n",
      "WARNING: adata.X seems to be already log-transformed.\n"
     ]
    },
    {
     "name": "stderr",
     "output_type": "stream",
     "text": [
      "GPU available: True, used: True\n",
      "TPU available: False, using: 0 TPU cores\n",
      "IPU available: False, using: 0 IPUs\n",
      "LOCAL_RANK: 0 - CUDA_VISIBLE_DEVICES: [0]\n",
      "Set SLURM handle signals.\n"
     ]
    },
    {
     "name": "stdout",
     "output_type": "stream",
     "text": [
      "Number of Leiden Clusters: 2\n",
      "Maximal Number of Modules: 2\n",
      "Epoch 500/500: 100%|██████████| 500/500 [00:56<00:00,  8.78it/s, v_num=1, elbo_train=5.22e+4]\n",
      "Sampling local variables, batch: 100%|██████████| 1/1 [00:00<00:00,  1.48it/s]\n",
      "Sampling global variables, sample: 100%|██████████| 29/29 [00:00<00:00, 49.70it/s]\n",
      "Warning: Saving ALL posterior samples. Specify \"return_samples: False\" to save just summary statistics.\n",
      "Keeping at most 100000 cells per cluster\n",
      "Skip filtering by dispersion since number of variables are less than `n_top_genes`.\n",
      "Leiden clustering ...\n",
      "WARNING: adata.X seems to be already log-transformed.\n"
     ]
    },
    {
     "name": "stderr",
     "output_type": "stream",
     "text": [
      "GPU available: True, used: True\n",
      "TPU available: False, using: 0 TPU cores\n",
      "IPU available: False, using: 0 IPUs\n",
      "LOCAL_RANK: 0 - CUDA_VISIBLE_DEVICES: [0]\n",
      "Set SLURM handle signals.\n"
     ]
    },
    {
     "name": "stdout",
     "output_type": "stream",
     "text": [
      "Number of Leiden Clusters: 3\n",
      "Maximal Number of Modules: 3\n",
      "Epoch 500/500: 100%|██████████| 500/500 [01:02<00:00,  7.95it/s, v_num=1, elbo_train=9.62e+4]\n",
      "Sampling local variables, batch: 100%|██████████| 1/1 [00:00<00:00,  1.16it/s]\n",
      "Sampling global variables, sample: 100%|██████████| 29/29 [00:00<00:00, 30.12it/s]\n",
      "Warning: Saving ALL posterior samples. Specify \"return_samples: False\" to save just summary statistics.\n",
      "Keeping at most 100000 cells per cluster\n",
      "Skip filtering by dispersion since number of variables are less than `n_top_genes`.\n",
      "Leiden clustering ...\n",
      "WARNING: adata.X seems to be already log-transformed.\n"
     ]
    },
    {
     "name": "stderr",
     "output_type": "stream",
     "text": [
      "GPU available: True, used: True\n",
      "TPU available: False, using: 0 TPU cores\n",
      "IPU available: False, using: 0 IPUs\n",
      "LOCAL_RANK: 0 - CUDA_VISIBLE_DEVICES: [0]\n",
      "Set SLURM handle signals.\n"
     ]
    },
    {
     "name": "stdout",
     "output_type": "stream",
     "text": [
      "Number of Leiden Clusters: 4\n",
      "Maximal Number of Modules: 4\n",
      "Epoch 500/500: 100%|██████████| 500/500 [01:20<00:00,  6.19it/s, v_num=1, elbo_train=1.19e+5]\n",
      "Sampling local variables, batch: 100%|██████████| 1/1 [00:02<00:00,  2.79s/it]\n",
      "Sampling global variables, sample: 100%|██████████| 29/29 [00:00<00:00, 36.47it/s]\n",
      "Warning: Saving ALL posterior samples. Specify \"return_samples: False\" to save just summary statistics.\n",
      "Keeping at most 100000 cells per cluster\n",
      "Skip filtering by dispersion since number of variables are less than `n_top_genes`.\n",
      "Leiden clustering ...\n",
      "WARNING: adata.X seems to be already log-transformed.\n"
     ]
    },
    {
     "name": "stderr",
     "output_type": "stream",
     "text": [
      "GPU available: True, used: True\n",
      "TPU available: False, using: 0 TPU cores\n",
      "IPU available: False, using: 0 IPUs\n",
      "LOCAL_RANK: 0 - CUDA_VISIBLE_DEVICES: [0]\n",
      "Set SLURM handle signals.\n"
     ]
    },
    {
     "name": "stdout",
     "output_type": "stream",
     "text": [
      "Number of Leiden Clusters: 4\n",
      "Maximal Number of Modules: 4\n",
      "Epoch 500/500: 100%|██████████| 500/500 [01:10<00:00,  7.14it/s, v_num=1, elbo_train=5.85e+4]\n",
      "Sampling local variables, batch: 100%|██████████| 1/1 [00:00<00:00,  1.20it/s]\n",
      "Sampling global variables, sample: 100%|██████████| 29/29 [00:00<00:00, 36.64it/s]\n",
      "Warning: Saving ALL posterior samples. Specify \"return_samples: False\" to save just summary statistics.\n",
      "Keeping at most 100000 cells per cluster\n",
      "Skip filtering by dispersion since number of variables are less than `n_top_genes`.\n",
      "Leiden clustering ...\n",
      "WARNING: adata.X seems to be already log-transformed.\n"
     ]
    },
    {
     "name": "stderr",
     "output_type": "stream",
     "text": [
      "GPU available: True, used: True\n",
      "TPU available: False, using: 0 TPU cores\n",
      "IPU available: False, using: 0 IPUs\n",
      "LOCAL_RANK: 0 - CUDA_VISIBLE_DEVICES: [0]\n",
      "Set SLURM handle signals.\n"
     ]
    },
    {
     "name": "stdout",
     "output_type": "stream",
     "text": [
      "Number of Leiden Clusters: 5\n",
      "Maximal Number of Modules: 5\n",
      "Epoch 500/500: 100%|██████████| 500/500 [01:11<00:00,  6.97it/s, v_num=1, elbo_train=7.2e+4] \n",
      "Sampling local variables, batch: 100%|██████████| 1/1 [00:00<00:00,  1.14it/s]\n",
      "Sampling global variables, sample: 100%|██████████| 29/29 [00:00<00:00, 34.23it/s]\n",
      "Warning: Saving ALL posterior samples. Specify \"return_samples: False\" to save just summary statistics.\n",
      "Keeping at most 100000 cells per cluster\n",
      "Skip filtering by dispersion since number of variables are less than `n_top_genes`.\n",
      "Leiden clustering ...\n",
      "WARNING: adata.X seems to be already log-transformed.\n"
     ]
    },
    {
     "name": "stderr",
     "output_type": "stream",
     "text": [
      "GPU available: True, used: True\n",
      "TPU available: False, using: 0 TPU cores\n",
      "IPU available: False, using: 0 IPUs\n",
      "LOCAL_RANK: 0 - CUDA_VISIBLE_DEVICES: [0]\n",
      "Set SLURM handle signals.\n"
     ]
    },
    {
     "name": "stdout",
     "output_type": "stream",
     "text": [
      "Number of Leiden Clusters: 3\n",
      "Maximal Number of Modules: 3\n",
      "Epoch 500/500: 100%|██████████| 500/500 [01:04<00:00,  7.76it/s, v_num=1, elbo_train=1.09e+5]\n",
      "Sampling local variables, batch: 100%|██████████| 1/1 [00:00<00:00,  1.18it/s]\n",
      "Sampling global variables, sample: 100%|██████████| 29/29 [00:00<00:00, 43.33it/s]\n",
      "Warning: Saving ALL posterior samples. Specify \"return_samples: False\" to save just summary statistics.\n",
      "Keeping at most 100000 cells per cluster\n",
      "Skip filtering by dispersion since number of variables are less than `n_top_genes`.\n",
      "Leiden clustering ...\n",
      "WARNING: adata.X seems to be already log-transformed.\n"
     ]
    },
    {
     "name": "stderr",
     "output_type": "stream",
     "text": [
      "GPU available: True, used: True\n",
      "TPU available: False, using: 0 TPU cores\n",
      "IPU available: False, using: 0 IPUs\n",
      "LOCAL_RANK: 0 - CUDA_VISIBLE_DEVICES: [0]\n",
      "Set SLURM handle signals.\n"
     ]
    },
    {
     "name": "stdout",
     "output_type": "stream",
     "text": [
      "Number of Leiden Clusters: 4\n",
      "Maximal Number of Modules: 4\n",
      "Epoch 500/500: 100%|██████████| 500/500 [01:13<00:00,  6.79it/s, v_num=1, elbo_train=1.8e+5] \n",
      "Sampling local variables, batch: 100%|██████████| 1/1 [00:01<00:00,  1.77s/it]\n",
      "Sampling global variables, sample: 100%|██████████| 29/29 [00:00<00:00, 37.21it/s]\n",
      "Warning: Saving ALL posterior samples. Specify \"return_samples: False\" to save just summary statistics.\n",
      "Keeping at most 100000 cells per cluster\n",
      "Extracted 90 highly variable genes.\n",
      "Leiden clustering ...\n",
      "WARNING: adata.X seems to be already log-transformed.\n"
     ]
    },
    {
     "name": "stderr",
     "output_type": "stream",
     "text": [
      "GPU available: True, used: True\n",
      "TPU available: False, using: 0 TPU cores\n",
      "IPU available: False, using: 0 IPUs\n",
      "LOCAL_RANK: 0 - CUDA_VISIBLE_DEVICES: [0]\n",
      "Set SLURM handle signals.\n"
     ]
    },
    {
     "name": "stdout",
     "output_type": "stream",
     "text": [
      "Number of Leiden Clusters: 7\n",
      "Maximal Number of Modules: 8\n",
      "Epoch 500/500: 100%|██████████| 500/500 [01:19<00:00,  6.30it/s, v_num=1, elbo_train=3.36e+5]\n",
      "Sampling local variables, batch: 100%|██████████| 1/1 [00:01<00:00,  1.62s/it]\n",
      "Sampling global variables, sample: 100%|██████████| 29/29 [00:01<00:00, 22.50it/s]\n",
      "Warning: Saving ALL posterior samples. Specify \"return_samples: False\" to save just summary statistics.\n",
      "Keeping at most 100000 cells per cluster\n",
      "Filtered out 3 genes that are detected 10 counts (shared).\n",
      "Skip filtering by dispersion since number of variables are less than `n_top_genes`.\n",
      "Leiden clustering ...\n",
      "WARNING: adata.X seems to be already log-transformed.\n"
     ]
    },
    {
     "name": "stderr",
     "output_type": "stream",
     "text": [
      "GPU available: True, used: True\n",
      "TPU available: False, using: 0 TPU cores\n",
      "IPU available: False, using: 0 IPUs\n",
      "LOCAL_RANK: 0 - CUDA_VISIBLE_DEVICES: [0]\n",
      "Set SLURM handle signals.\n"
     ]
    },
    {
     "name": "stdout",
     "output_type": "stream",
     "text": [
      "Number of Leiden Clusters: 5\n",
      "Maximal Number of Modules: 5\n",
      "Epoch 500/500: 100%|██████████| 500/500 [01:11<00:00,  7.00it/s, v_num=1, elbo_train=5.51e+4]\n",
      "Sampling local variables, batch: 100%|██████████| 1/1 [00:00<00:00,  1.12it/s]\n",
      "Sampling global variables, sample: 100%|██████████| 29/29 [00:01<00:00, 24.76it/s]\n",
      "Warning: Saving ALL posterior samples. Specify \"return_samples: False\" to save just summary statistics.\n",
      "Keeping at most 100000 cells per cluster\n",
      "Extracted 90 highly variable genes.\n",
      "Leiden clustering ...\n",
      "WARNING: adata.X seems to be already log-transformed.\n"
     ]
    },
    {
     "name": "stderr",
     "output_type": "stream",
     "text": [
      "GPU available: True, used: True\n",
      "TPU available: False, using: 0 TPU cores\n",
      "IPU available: False, using: 0 IPUs\n",
      "LOCAL_RANK: 0 - CUDA_VISIBLE_DEVICES: [0]\n",
      "Set SLURM handle signals.\n"
     ]
    },
    {
     "name": "stdout",
     "output_type": "stream",
     "text": [
      "Number of Leiden Clusters: 7\n",
      "Maximal Number of Modules: 8\n",
      "Epoch 500/500: 100%|██████████| 500/500 [01:22<00:00,  6.06it/s, v_num=1, elbo_train=1.62e+5]\n",
      "Sampling local variables, batch: 100%|██████████| 1/1 [00:01<00:00,  1.37s/it]\n",
      "Sampling global variables, sample: 100%|██████████| 29/29 [00:01<00:00, 19.34it/s]\n",
      "Warning: Saving ALL posterior samples. Specify \"return_samples: False\" to save just summary statistics.\n",
      "Keeping at most 100000 cells per cluster\n",
      "Skip filtering by dispersion since number of variables are less than `n_top_genes`.\n",
      "Leiden clustering ...\n",
      "WARNING: adata.X seems to be already log-transformed.\n"
     ]
    },
    {
     "name": "stderr",
     "output_type": "stream",
     "text": [
      "GPU available: True, used: True\n",
      "TPU available: False, using: 0 TPU cores\n",
      "IPU available: False, using: 0 IPUs\n",
      "LOCAL_RANK: 0 - CUDA_VISIBLE_DEVICES: [0]\n",
      "Set SLURM handle signals.\n"
     ]
    },
    {
     "name": "stdout",
     "output_type": "stream",
     "text": [
      "Number of Leiden Clusters: 5\n",
      "Maximal Number of Modules: 5\n",
      "Epoch 500/500: 100%|██████████| 500/500 [01:14<00:00,  6.73it/s, v_num=1, elbo_train=1.04e+5]\n",
      "Sampling local variables, batch: 100%|██████████| 1/1 [00:00<00:00,  1.10it/s]\n",
      "Sampling global variables, sample: 100%|██████████| 29/29 [00:00<00:00, 34.17it/s]\n",
      "Warning: Saving ALL posterior samples. Specify \"return_samples: False\" to save just summary statistics.\n",
      "Keeping at most 100000 cells per cluster\n",
      "Extracted 90 highly variable genes.\n",
      "Leiden clustering ...\n",
      "WARNING: adata.X seems to be already log-transformed.\n"
     ]
    },
    {
     "name": "stderr",
     "output_type": "stream",
     "text": [
      "GPU available: True, used: True\n",
      "TPU available: False, using: 0 TPU cores\n",
      "IPU available: False, using: 0 IPUs\n",
      "LOCAL_RANK: 0 - CUDA_VISIBLE_DEVICES: [0]\n",
      "Set SLURM handle signals.\n"
     ]
    },
    {
     "name": "stdout",
     "output_type": "stream",
     "text": [
      "Number of Leiden Clusters: 3\n",
      "Maximal Number of Modules: 3\n",
      "Epoch 500/500: 100%|██████████| 500/500 [01:01<00:00,  8.10it/s, v_num=1, elbo_train=1.39e+5]\n",
      "Sampling local variables, batch: 100%|██████████| 1/1 [00:01<00:00,  1.18s/it]\n",
      "Sampling global variables, sample: 100%|██████████| 29/29 [00:00<00:00, 35.04it/s]\n",
      "Warning: Saving ALL posterior samples. Specify \"return_samples: False\" to save just summary statistics.\n",
      "Keeping at most 100000 cells per cluster\n",
      "Filtered out 1 genes that are detected 10 counts (shared).\n",
      "Skip filtering by dispersion since number of variables are less than `n_top_genes`.\n",
      "Leiden clustering ...\n",
      "WARNING: adata.X seems to be already log-transformed.\n"
     ]
    },
    {
     "name": "stderr",
     "output_type": "stream",
     "text": [
      "GPU available: True, used: True\n",
      "TPU available: False, using: 0 TPU cores\n",
      "IPU available: False, using: 0 IPUs\n",
      "LOCAL_RANK: 0 - CUDA_VISIBLE_DEVICES: [0]\n",
      "Set SLURM handle signals.\n"
     ]
    },
    {
     "name": "stdout",
     "output_type": "stream",
     "text": [
      "Number of Leiden Clusters: 4\n",
      "Maximal Number of Modules: 4\n",
      "Epoch 500/500: 100%|██████████| 500/500 [01:07<00:00,  7.42it/s, v_num=1, elbo_train=5.16e+4]\n",
      "Sampling local variables, batch: 100%|██████████| 1/1 [00:00<00:00,  1.19it/s]\n",
      "Sampling global variables, sample: 100%|██████████| 29/29 [00:00<00:00, 35.65it/s]\n",
      "Warning: Saving ALL posterior samples. Specify \"return_samples: False\" to save just summary statistics.\n",
      "Keeping at most 100000 cells per cluster\n",
      "Skip filtering by dispersion since number of variables are less than `n_top_genes`.\n",
      "Leiden clustering ...\n",
      "WARNING: adata.X seems to be already log-transformed.\n"
     ]
    },
    {
     "name": "stderr",
     "output_type": "stream",
     "text": [
      "GPU available: True, used: True\n",
      "TPU available: False, using: 0 TPU cores\n",
      "IPU available: False, using: 0 IPUs\n"
     ]
    },
    {
     "name": "stdout",
     "output_type": "stream",
     "text": [
      "Number of Leiden Clusters: 4\n",
      "Maximal Number of Modules: 4\n"
     ]
    },
    {
     "name": "stderr",
     "output_type": "stream",
     "text": [
      "LOCAL_RANK: 0 - CUDA_VISIBLE_DEVICES: [0]\n",
      "Set SLURM handle signals.\n"
     ]
    },
    {
     "name": "stdout",
     "output_type": "stream",
     "text": [
      "Epoch 500/500: 100%|██████████| 500/500 [01:09<00:00,  7.16it/s, v_num=1, elbo_train=1.34e+5]\n",
      "Sampling local variables, batch: 100%|██████████| 1/1 [00:00<00:00,  1.13it/s]\n",
      "Sampling global variables, sample: 100%|██████████| 29/29 [00:00<00:00, 36.00it/s]\n",
      "Warning: Saving ALL posterior samples. Specify \"return_samples: False\" to save just summary statistics.\n",
      "Keeping at most 100000 cells per cluster\n",
      "Skip filtering by dispersion since number of variables are less than `n_top_genes`.\n",
      "Leiden clustering ...\n",
      "WARNING: adata.X seems to be already log-transformed.\n"
     ]
    },
    {
     "name": "stderr",
     "output_type": "stream",
     "text": [
      "GPU available: True, used: True\n",
      "TPU available: False, using: 0 TPU cores\n",
      "IPU available: False, using: 0 IPUs\n",
      "LOCAL_RANK: 0 - CUDA_VISIBLE_DEVICES: [0]\n",
      "Set SLURM handle signals.\n"
     ]
    },
    {
     "name": "stdout",
     "output_type": "stream",
     "text": [
      "Number of Leiden Clusters: 3\n",
      "Maximal Number of Modules: 3\n",
      "Epoch 500/500: 100%|██████████| 500/500 [01:05<00:00,  7.60it/s, v_num=1, elbo_train=5.71e+4]\n",
      "Sampling local variables, batch: 100%|██████████| 1/1 [00:03<00:00,  3.06s/it]\n",
      "Sampling global variables, sample: 100%|██████████| 29/29 [00:00<00:00, 44.11it/s]\n",
      "Warning: Saving ALL posterior samples. Specify \"return_samples: False\" to save just summary statistics.\n",
      "Keeping at most 100000 cells per cluster\n",
      "Skip filtering by dispersion since number of variables are less than `n_top_genes`.\n",
      "Leiden clustering ...\n",
      "WARNING: adata.X seems to be already log-transformed.\n",
      "Number of Leiden Clusters: 4\n",
      "Maximal Number of Modules: 4\n"
     ]
    },
    {
     "name": "stderr",
     "output_type": "stream",
     "text": [
      "GPU available: True, used: True\n",
      "TPU available: False, using: 0 TPU cores\n",
      "IPU available: False, using: 0 IPUs\n",
      "LOCAL_RANK: 0 - CUDA_VISIBLE_DEVICES: [0]\n",
      "Set SLURM handle signals.\n"
     ]
    },
    {
     "name": "stdout",
     "output_type": "stream",
     "text": [
      "Epoch 500/500: 100%|██████████| 500/500 [01:07<00:00,  7.39it/s, v_num=1, elbo_train=5.16e+4]\n",
      "Sampling local variables, batch: 100%|██████████| 1/1 [00:00<00:00,  1.23it/s]\n",
      "Sampling global variables, sample: 100%|██████████| 29/29 [00:00<00:00, 38.31it/s]\n",
      "Warning: Saving ALL posterior samples. Specify \"return_samples: False\" to save just summary statistics.\n",
      "Keeping at most 100000 cells per cluster\n",
      "Skip filtering by dispersion since number of variables are less than `n_top_genes`.\n",
      "Leiden clustering ...\n",
      "WARNING: adata.X seems to be already log-transformed.\n"
     ]
    },
    {
     "name": "stderr",
     "output_type": "stream",
     "text": [
      "GPU available: True, used: True\n",
      "TPU available: False, using: 0 TPU cores\n",
      "IPU available: False, using: 0 IPUs\n",
      "LOCAL_RANK: 0 - CUDA_VISIBLE_DEVICES: [0]\n",
      "Set SLURM handle signals.\n"
     ]
    },
    {
     "name": "stdout",
     "output_type": "stream",
     "text": [
      "Number of Leiden Clusters: 5\n",
      "Maximal Number of Modules: 5\n",
      "Epoch 500/500: 100%|██████████| 500/500 [01:11<00:00,  6.98it/s, v_num=1, elbo_train=6.64e+5]\n",
      "Sampling local variables, batch: 100%|██████████| 1/1 [00:00<00:00,  1.07it/s]\n",
      "Sampling global variables, sample: 100%|██████████| 29/29 [00:00<00:00, 32.96it/s]\n",
      "Warning: Saving ALL posterior samples. Specify \"return_samples: False\" to save just summary statistics.\n",
      "Keeping at most 100000 cells per cluster\n",
      "Skip filtering by dispersion since number of variables are less than `n_top_genes`.\n",
      "Leiden clustering ...\n",
      "WARNING: adata.X seems to be already log-transformed.\n"
     ]
    },
    {
     "name": "stderr",
     "output_type": "stream",
     "text": [
      "GPU available: True, used: True\n",
      "TPU available: False, using: 0 TPU cores\n",
      "IPU available: False, using: 0 IPUs\n",
      "LOCAL_RANK: 0 - CUDA_VISIBLE_DEVICES: [0]\n",
      "Set SLURM handle signals.\n"
     ]
    },
    {
     "name": "stdout",
     "output_type": "stream",
     "text": [
      "Number of Leiden Clusters: 4\n",
      "Maximal Number of Modules: 4\n",
      "Epoch 500/500: 100%|██████████| 500/500 [01:08<00:00,  7.33it/s, v_num=1, elbo_train=6.13e+4]\n",
      "Sampling local variables, batch: 100%|██████████| 1/1 [00:00<00:00,  1.14it/s]\n",
      "Sampling global variables, sample: 100%|██████████| 29/29 [00:00<00:00, 34.66it/s]\n",
      "Warning: Saving ALL posterior samples. Specify \"return_samples: False\" to save just summary statistics.\n",
      "Keeping at most 100000 cells per cluster\n",
      "Skip filtering by dispersion since number of variables are less than `n_top_genes`.\n",
      "Leiden clustering ...\n",
      "WARNING: adata.X seems to be already log-transformed.\n"
     ]
    },
    {
     "name": "stderr",
     "output_type": "stream",
     "text": [
      "GPU available: True, used: True\n",
      "TPU available: False, using: 0 TPU cores\n",
      "IPU available: False, using: 0 IPUs\n",
      "LOCAL_RANK: 0 - CUDA_VISIBLE_DEVICES: [0]\n",
      "Set SLURM handle signals.\n"
     ]
    },
    {
     "name": "stdout",
     "output_type": "stream",
     "text": [
      "Number of Leiden Clusters: 5\n",
      "Maximal Number of Modules: 5\n",
      "Epoch 500/500: 100%|██████████| 500/500 [01:12<00:00,  6.89it/s, v_num=1, elbo_train=5.65e+5]\n",
      "Sampling local variables, batch: 100%|██████████| 1/1 [00:00<00:00,  1.08it/s]\n",
      "Sampling global variables, sample: 100%|██████████| 29/29 [00:00<00:00, 32.96it/s]\n",
      "Warning: Saving ALL posterior samples. Specify \"return_samples: False\" to save just summary statistics.\n",
      "Keeping at most 100000 cells per cluster\n",
      "Filtered out 1 genes that are detected 10 counts (shared).\n",
      "Skip filtering by dispersion since number of variables are less than `n_top_genes`.\n",
      "Leiden clustering ...\n",
      "WARNING: adata.X seems to be already log-transformed.\n"
     ]
    },
    {
     "name": "stderr",
     "output_type": "stream",
     "text": [
      "GPU available: True, used: True\n",
      "TPU available: False, using: 0 TPU cores\n",
      "IPU available: False, using: 0 IPUs\n",
      "LOCAL_RANK: 0 - CUDA_VISIBLE_DEVICES: [0]\n",
      "Set SLURM handle signals.\n"
     ]
    },
    {
     "name": "stdout",
     "output_type": "stream",
     "text": [
      "Number of Leiden Clusters: 2\n",
      "Maximal Number of Modules: 2\n",
      "Epoch 500/500: 100%|██████████| 500/500 [00:56<00:00,  8.82it/s, v_num=1, elbo_train=6.43e+4]\n",
      "Sampling local variables, batch: 100%|██████████| 1/1 [00:00<00:00,  1.49it/s]\n",
      "Sampling global variables, sample: 100%|██████████| 29/29 [00:00<00:00, 47.63it/s]\n",
      "Warning: Saving ALL posterior samples. Specify \"return_samples: False\" to save just summary statistics.\n",
      "Keeping at most 100000 cells per cluster\n",
      "Filtered out 2 genes that are detected 10 counts (shared).\n",
      "Skip filtering by dispersion since number of variables are less than `n_top_genes`.\n",
      "Leiden clustering ...\n",
      "WARNING: adata.X seems to be already log-transformed.\n"
     ]
    },
    {
     "name": "stderr",
     "output_type": "stream",
     "text": [
      "GPU available: True, used: True\n",
      "TPU available: False, using: 0 TPU cores\n",
      "IPU available: False, using: 0 IPUs\n",
      "LOCAL_RANK: 0 - CUDA_VISIBLE_DEVICES: [0]\n",
      "Set SLURM handle signals.\n"
     ]
    },
    {
     "name": "stdout",
     "output_type": "stream",
     "text": [
      "Number of Leiden Clusters: 4\n",
      "Maximal Number of Modules: 4\n",
      "Epoch 500/500: 100%|██████████| 500/500 [01:08<00:00,  7.33it/s, v_num=1, elbo_train=3.61e+4]\n",
      "Sampling local variables, batch: 100%|██████████| 1/1 [00:00<00:00,  1.20it/s]\n",
      "Sampling global variables, sample: 100%|██████████| 29/29 [00:00<00:00, 36.52it/s]\n",
      "Warning: Saving ALL posterior samples. Specify \"return_samples: False\" to save just summary statistics.\n",
      "Keeping at most 100000 cells per cluster\n",
      "Skip filtering by dispersion since number of variables are less than `n_top_genes`.\n",
      "Leiden clustering ...\n",
      "WARNING: adata.X seems to be already log-transformed.\n"
     ]
    },
    {
     "name": "stderr",
     "output_type": "stream",
     "text": [
      "GPU available: True, used: True\n",
      "TPU available: False, using: 0 TPU cores\n",
      "IPU available: False, using: 0 IPUs\n",
      "LOCAL_RANK: 0 - CUDA_VISIBLE_DEVICES: [0]\n",
      "Set SLURM handle signals.\n"
     ]
    },
    {
     "name": "stdout",
     "output_type": "stream",
     "text": [
      "Number of Leiden Clusters: 4\n",
      "Maximal Number of Modules: 4\n",
      "Epoch 500/500: 100%|██████████| 500/500 [01:10<00:00,  7.09it/s, v_num=1, elbo_train=7.22e+4]\n",
      "Sampling local variables, batch: 100%|██████████| 1/1 [00:00<00:00,  1.07it/s]\n",
      "Sampling global variables, sample: 100%|██████████| 29/29 [00:00<00:00, 34.64it/s]\n",
      "Warning: Saving ALL posterior samples. Specify \"return_samples: False\" to save just summary statistics.\n",
      "Keeping at most 100000 cells per cluster\n",
      "Skip filtering by dispersion since number of variables are less than `n_top_genes`.\n",
      "Leiden clustering ...\n",
      "WARNING: adata.X seems to be already log-transformed.\n",
      "Number of Leiden Clusters: 5\n",
      "Maximal Number of Modules: 5\n"
     ]
    },
    {
     "name": "stderr",
     "output_type": "stream",
     "text": [
      "GPU available: True, used: True\n",
      "TPU available: False, using: 0 TPU cores\n",
      "IPU available: False, using: 0 IPUs\n",
      "LOCAL_RANK: 0 - CUDA_VISIBLE_DEVICES: [0]\n",
      "Set SLURM handle signals.\n"
     ]
    },
    {
     "name": "stdout",
     "output_type": "stream",
     "text": [
      "Epoch 500/500: 100%|██████████| 500/500 [01:14<00:00,  6.69it/s, v_num=1, elbo_train=5.38e+4]\n",
      "Sampling local variables, batch: 100%|██████████| 1/1 [00:03<00:00,  3.57s/it]\n",
      "Sampling global variables, sample: 100%|██████████| 29/29 [00:00<00:00, 33.28it/s]\n",
      "Warning: Saving ALL posterior samples. Specify \"return_samples: False\" to save just summary statistics.\n",
      "Keeping at most 100000 cells per cluster\n",
      "Skip filtering by dispersion since number of variables are less than `n_top_genes`.\n",
      "Leiden clustering ...\n",
      "WARNING: adata.X seems to be already log-transformed.\n"
     ]
    },
    {
     "name": "stderr",
     "output_type": "stream",
     "text": [
      "GPU available: True, used: True\n",
      "TPU available: False, using: 0 TPU cores\n",
      "IPU available: False, using: 0 IPUs\n",
      "LOCAL_RANK: 0 - CUDA_VISIBLE_DEVICES: [0]\n",
      "Set SLURM handle signals.\n"
     ]
    },
    {
     "name": "stdout",
     "output_type": "stream",
     "text": [
      "Number of Leiden Clusters: 4\n",
      "Maximal Number of Modules: 4\n",
      "Epoch 500/500: 100%|██████████| 500/500 [01:09<00:00,  7.24it/s, v_num=1, elbo_train=6.97e+4]\n",
      "Sampling local variables, batch: 100%|██████████| 1/1 [00:00<00:00,  1.16it/s]\n",
      "Sampling global variables, sample: 100%|██████████| 29/29 [00:00<00:00, 35.37it/s]\n",
      "Warning: Saving ALL posterior samples. Specify \"return_samples: False\" to save just summary statistics.\n",
      "Keeping at most 100000 cells per cluster\n",
      "Filtered out 1 genes that are detected 10 counts (shared).\n",
      "Skip filtering by dispersion since number of variables are less than `n_top_genes`.\n",
      "Leiden clustering ...\n",
      "WARNING: adata.X seems to be already log-transformed.\n"
     ]
    },
    {
     "name": "stderr",
     "output_type": "stream",
     "text": [
      "GPU available: True, used: True\n",
      "TPU available: False, using: 0 TPU cores\n",
      "IPU available: False, using: 0 IPUs\n",
      "LOCAL_RANK: 0 - CUDA_VISIBLE_DEVICES: [0]\n",
      "Set SLURM handle signals.\n"
     ]
    },
    {
     "name": "stdout",
     "output_type": "stream",
     "text": [
      "Number of Leiden Clusters: 5\n",
      "Maximal Number of Modules: 5\n",
      "Epoch 500/500: 100%|██████████| 500/500 [01:14<00:00,  6.71it/s, v_num=1, elbo_train=5.59e+4]\n",
      "Sampling local variables, batch: 100%|██████████| 1/1 [00:00<00:00,  1.12it/s]\n",
      "Sampling global variables, sample: 100%|██████████| 29/29 [00:00<00:00, 34.76it/s]\n",
      "Warning: Saving ALL posterior samples. Specify \"return_samples: False\" to save just summary statistics.\n",
      "Keeping at most 100000 cells per cluster\n",
      "Skip filtering by dispersion since number of variables are less than `n_top_genes`.\n",
      "Leiden clustering ...\n",
      "WARNING: adata.X seems to be already log-transformed.\n"
     ]
    },
    {
     "name": "stderr",
     "output_type": "stream",
     "text": [
      "GPU available: True, used: True\n",
      "TPU available: False, using: 0 TPU cores\n",
      "IPU available: False, using: 0 IPUs\n",
      "LOCAL_RANK: 0 - CUDA_VISIBLE_DEVICES: [0]\n",
      "Set SLURM handle signals.\n"
     ]
    },
    {
     "name": "stdout",
     "output_type": "stream",
     "text": [
      "Number of Leiden Clusters: 6\n",
      "Maximal Number of Modules: 6\n",
      "Epoch 500/500: 100%|██████████| 500/500 [01:17<00:00,  6.49it/s, v_num=1, elbo_train=2.91e+5]\n",
      "Sampling local variables, batch: 100%|██████████| 1/1 [00:00<00:00,  1.05it/s]\n",
      "Sampling global variables, sample: 100%|██████████| 29/29 [00:00<00:00, 33.22it/s]\n",
      "Warning: Saving ALL posterior samples. Specify \"return_samples: False\" to save just summary statistics.\n",
      "Keeping at most 100000 cells per cluster\n",
      "Extracted 90 highly variable genes.\n",
      "Leiden clustering ...\n",
      "WARNING: adata.X seems to be already log-transformed.\n"
     ]
    },
    {
     "name": "stderr",
     "output_type": "stream",
     "text": [
      "GPU available: True, used: True\n",
      "TPU available: False, using: 0 TPU cores\n",
      "IPU available: False, using: 0 IPUs\n",
      "LOCAL_RANK: 0 - CUDA_VISIBLE_DEVICES: [0]\n",
      "Set SLURM handle signals.\n"
     ]
    },
    {
     "name": "stdout",
     "output_type": "stream",
     "text": [
      "Number of Leiden Clusters: 6\n",
      "Maximal Number of Modules: 6\n",
      "Epoch 500/500: 100%|██████████| 500/500 [01:17<00:00,  6.47it/s, v_num=1, elbo_train=3.5e+5] \n",
      "Sampling local variables, batch: 100%|██████████| 1/1 [00:01<00:00,  1.30s/it]\n",
      "Sampling global variables, sample: 100%|██████████| 29/29 [00:01<00:00, 26.42it/s]\n",
      "Warning: Saving ALL posterior samples. Specify \"return_samples: False\" to save just summary statistics.\n",
      "Keeping at most 100000 cells per cluster\n",
      "Skip filtering by dispersion since number of variables are less than `n_top_genes`.\n",
      "Leiden clustering ...\n",
      "WARNING: adata.X seems to be already log-transformed.\n"
     ]
    },
    {
     "name": "stderr",
     "output_type": "stream",
     "text": [
      "GPU available: True, used: True\n",
      "TPU available: False, using: 0 TPU cores\n",
      "IPU available: False, using: 0 IPUs\n",
      "LOCAL_RANK: 0 - CUDA_VISIBLE_DEVICES: [0]\n",
      "Set SLURM handle signals.\n"
     ]
    },
    {
     "name": "stdout",
     "output_type": "stream",
     "text": [
      "Number of Leiden Clusters: 6\n",
      "Maximal Number of Modules: 6\n",
      "Epoch 500/500: 100%|██████████| 500/500 [01:16<00:00,  6.58it/s, v_num=1, elbo_train=1.28e+5]\n",
      "Sampling local variables, batch: 100%|██████████| 1/1 [00:00<00:00,  1.00it/s]\n",
      "Sampling global variables, sample: 100%|██████████| 29/29 [00:00<00:00, 31.08it/s]\n",
      "Warning: Saving ALL posterior samples. Specify \"return_samples: False\" to save just summary statistics.\n",
      "Keeping at most 100000 cells per cluster\n",
      "Skip filtering by dispersion since number of variables are less than `n_top_genes`.\n",
      "Leiden clustering ...\n",
      "WARNING: adata.X seems to be already log-transformed.\n"
     ]
    },
    {
     "name": "stderr",
     "output_type": "stream",
     "text": [
      "GPU available: True, used: True\n",
      "TPU available: False, using: 0 TPU cores\n",
      "IPU available: False, using: 0 IPUs\n",
      "LOCAL_RANK: 0 - CUDA_VISIBLE_DEVICES: [0]\n",
      "Set SLURM handle signals.\n"
     ]
    },
    {
     "name": "stdout",
     "output_type": "stream",
     "text": [
      "Number of Leiden Clusters: 4\n",
      "Maximal Number of Modules: 4\n",
      "Epoch 500/500: 100%|██████████| 500/500 [01:13<00:00,  6.78it/s, v_num=1, elbo_train=6.14e+4]\n",
      "Sampling local variables, batch: 100%|██████████| 1/1 [00:01<00:00,  1.02s/it]\n",
      "Sampling global variables, sample: 100%|██████████| 29/29 [00:00<00:00, 35.26it/s]\n",
      "Warning: Saving ALL posterior samples. Specify \"return_samples: False\" to save just summary statistics.\n",
      "Keeping at most 100000 cells per cluster\n",
      "Skip filtering by dispersion since number of variables are less than `n_top_genes`.\n",
      "Leiden clustering ...\n",
      "WARNING: adata.X seems to be already log-transformed.\n"
     ]
    },
    {
     "name": "stderr",
     "output_type": "stream",
     "text": [
      "GPU available: True, used: True\n",
      "TPU available: False, using: 0 TPU cores\n",
      "IPU available: False, using: 0 IPUs\n",
      "LOCAL_RANK: 0 - CUDA_VISIBLE_DEVICES: [0]\n",
      "Set SLURM handle signals.\n"
     ]
    },
    {
     "name": "stdout",
     "output_type": "stream",
     "text": [
      "Number of Leiden Clusters: 3\n",
      "Maximal Number of Modules: 3\n",
      "Epoch 500/500: 100%|██████████| 500/500 [01:00<00:00,  8.24it/s, v_num=1, elbo_train=7.17e+4]\n",
      "Sampling local variables, batch: 100%|██████████| 1/1 [00:00<00:00,  1.30it/s]\n",
      "Sampling global variables, sample: 100%|██████████| 29/29 [00:00<00:00, 39.84it/s]\n",
      "Warning: Saving ALL posterior samples. Specify \"return_samples: False\" to save just summary statistics.\n",
      "Keeping at most 100000 cells per cluster\n",
      "Filtered out 1 genes that are detected 10 counts (shared).\n",
      "Skip filtering by dispersion since number of variables are less than `n_top_genes`.\n",
      "Leiden clustering ...\n",
      "WARNING: adata.X seems to be already log-transformed.\n"
     ]
    },
    {
     "name": "stderr",
     "output_type": "stream",
     "text": [
      "GPU available: True, used: True\n",
      "TPU available: False, using: 0 TPU cores\n",
      "IPU available: False, using: 0 IPUs\n",
      "LOCAL_RANK: 0 - CUDA_VISIBLE_DEVICES: [0]\n",
      "Set SLURM handle signals.\n"
     ]
    },
    {
     "name": "stdout",
     "output_type": "stream",
     "text": [
      "Number of Leiden Clusters: 4\n",
      "Maximal Number of Modules: 4\n",
      "Epoch 500/500: 100%|██████████| 500/500 [01:08<00:00,  7.27it/s, v_num=1, elbo_train=5.42e+4]\n",
      "Sampling local variables, batch: 100%|██████████| 1/1 [00:00<00:00,  1.20it/s]\n",
      "Sampling global variables, sample: 100%|██████████| 29/29 [00:00<00:00, 37.67it/s]\n",
      "Warning: Saving ALL posterior samples. Specify \"return_samples: False\" to save just summary statistics.\n",
      "Keeping at most 100000 cells per cluster\n",
      "Skip filtering by dispersion since number of variables are less than `n_top_genes`.\n",
      "Leiden clustering ...\n",
      "WARNING: adata.X seems to be already log-transformed.\n"
     ]
    },
    {
     "name": "stderr",
     "output_type": "stream",
     "text": [
      "GPU available: True, used: True\n",
      "TPU available: False, using: 0 TPU cores\n",
      "IPU available: False, using: 0 IPUs\n",
      "LOCAL_RANK: 0 - CUDA_VISIBLE_DEVICES: [0]\n",
      "Set SLURM handle signals.\n"
     ]
    },
    {
     "name": "stdout",
     "output_type": "stream",
     "text": [
      "Number of Leiden Clusters: 4\n",
      "Maximal Number of Modules: 4\n",
      "Epoch 500/500: 100%|██████████| 500/500 [01:08<00:00,  7.31it/s, v_num=1, elbo_train=6.84e+4]\n",
      "Sampling local variables, batch: 100%|██████████| 1/1 [00:00<00:00,  1.17it/s]\n",
      "Sampling global variables, sample: 100%|██████████| 29/29 [00:00<00:00, 36.14it/s]\n",
      "Warning: Saving ALL posterior samples. Specify \"return_samples: False\" to save just summary statistics.\n",
      "Keeping at most 100000 cells per cluster\n",
      "Skip filtering by dispersion since number of variables are less than `n_top_genes`.\n",
      "Leiden clustering ...\n",
      "WARNING: adata.X seems to be already log-transformed.\n"
     ]
    },
    {
     "name": "stderr",
     "output_type": "stream",
     "text": [
      "GPU available: True, used: True\n",
      "TPU available: False, using: 0 TPU cores\n",
      "IPU available: False, using: 0 IPUs\n",
      "LOCAL_RANK: 0 - CUDA_VISIBLE_DEVICES: [0]\n",
      "Set SLURM handle signals.\n"
     ]
    },
    {
     "name": "stdout",
     "output_type": "stream",
     "text": [
      "Number of Leiden Clusters: 3\n",
      "Maximal Number of Modules: 3\n",
      "Epoch 500/500: 100%|██████████| 500/500 [01:01<00:00,  8.18it/s, v_num=1, elbo_train=3.3e+5] \n",
      "Sampling local variables, batch: 100%|██████████| 1/1 [00:00<00:00,  1.39it/s]\n",
      "Sampling global variables, sample: 100%|██████████| 29/29 [00:00<00:00, 42.66it/s]\n",
      "Warning: Saving ALL posterior samples. Specify \"return_samples: False\" to save just summary statistics.\n"
     ]
    }
   ],
   "source": [
    "velocity_correlation = []\n",
    "\n",
    "for filename in (DATA_DIR / DATASET / \"processed\").iterdir():\n",
    "    torch.cuda.empty_cache()\n",
    "    if filename.suffix != \".zarr\":\n",
    "        continue\n",
    "\n",
    "    adata = ad.read_zarr(filename)\n",
    "\n",
    "    ## cell2fate need cluster information\n",
    "    sc.tl.leiden(adata)\n",
    "\n",
    "    adata = c2f.utils.get_training_data(\n",
    "        adata,\n",
    "        cells_per_cluster=10**5,\n",
    "        cluster_column=\"leiden\",\n",
    "        remove_clusters=[],\n",
    "        min_shared_counts=10,\n",
    "        n_var_genes=90,\n",
    "    )\n",
    "\n",
    "    adata = train_c2f_model(adata)\n",
    "\n",
    "    velocity_correlation.append(\n",
    "        get_velocity_correlation(\n",
    "            ground_truth=adata.layers[\"true_velocity\"], estimated=adata.layers[\"velocity\"], aggregation=np.mean\n",
    "        )\n",
    "    )"
   ]
  },
  {
   "cell_type": "code",
   "execution_count": 7,
   "id": "3dfb57fd-4b7b-4449-8428-e42673b381c6",
   "metadata": {},
   "outputs": [],
   "source": [
    "if SAVE_DATA:\n",
    "    pd.DataFrame({\"velocity\": velocity_correlation}).to_parquet(\n",
    "        path=DATA_DIR / DATASET / \"results\" / \"cell2fate_correlation.parquet\"\n",
    "    )"
   ]
  }
 ],
 "metadata": {
  "kernelspec": {
   "display_name": "Python [conda env:cell2fate_env2]",
   "language": "python",
   "name": "conda-env-cell2fate_env2-py"
  },
  "language_info": {
   "codemirror_mode": {
    "name": "ipython",
    "version": 3
   },
   "file_extension": ".py",
   "mimetype": "text/x-python",
   "name": "python",
   "nbconvert_exporter": "python",
   "pygments_lexer": "ipython3",
   "version": "3.9.18"
  }
 },
 "nbformat": 4,
 "nbformat_minor": 5
}
