{
 "cells": [
  {
   "cell_type": "markdown",
   "id": "0eccd682-1733-48ab-bd72-bd273e458dfa",
   "metadata": {},
   "source": [
    "# Simulate synthetic datasets with dyngen\n",
    "\n",
    "This notebook demonstrates how we simulate datasets using dyngen in R. We generated single-cell datasets with varying lineage complexities across four different complexity levels. For each level, 30 datasets were simulated as replicates."
   ]
  },
  {
   "cell_type": "markdown",
   "id": "036811fb-f302-48d2-a7ba-4b7ddf24482e",
   "metadata": {},
   "source": [
    "## Library imports"
   ]
  },
  {
   "cell_type": "code",
   "execution_count": 1,
   "id": "5fdf76df-6ff7-4db3-97ea-95355796b819",
   "metadata": {
    "tags": []
   },
   "outputs": [
    {
     "name": "stderr",
     "output_type": "stream",
     "text": [
      "Warning message:\n",
      "“package ‘readr’ was built under R version 4.3.3”\n",
      "Warning message:\n",
      "“package ‘forcats’ was built under R version 4.3.3”\n",
      "── \u001b[1mAttaching core tidyverse packages\u001b[22m ──────────────────────── tidyverse 2.0.0 ──\n",
      "\u001b[32m✔\u001b[39m \u001b[34mdplyr    \u001b[39m 1.1.4     \u001b[32m✔\u001b[39m \u001b[34mreadr    \u001b[39m 2.1.5\n",
      "\u001b[32m✔\u001b[39m \u001b[34mforcats  \u001b[39m 1.0.0     \u001b[32m✔\u001b[39m \u001b[34mstringr  \u001b[39m 1.5.1\n",
      "\u001b[32m✔\u001b[39m \u001b[34mggplot2  \u001b[39m 3.5.1     \u001b[32m✔\u001b[39m \u001b[34mtibble   \u001b[39m 3.2.1\n",
      "\u001b[32m✔\u001b[39m \u001b[34mlubridate\u001b[39m 1.9.4     \u001b[32m✔\u001b[39m \u001b[34mtidyr    \u001b[39m 1.3.1\n",
      "\u001b[32m✔\u001b[39m \u001b[34mpurrr    \u001b[39m 1.0.4     \n",
      "── \u001b[1mConflicts\u001b[22m ────────────────────────────────────────── tidyverse_conflicts() ──\n",
      "\u001b[31m✖\u001b[39m \u001b[34mdplyr\u001b[39m::\u001b[32mfilter()\u001b[39m masks \u001b[34mstats\u001b[39m::filter()\n",
      "\u001b[31m✖\u001b[39m \u001b[34mdplyr\u001b[39m::\u001b[32mlag()\u001b[39m    masks \u001b[34mstats\u001b[39m::lag()\n",
      "\u001b[36mℹ\u001b[39m Use the conflicted package (\u001b[3m\u001b[34m<http://conflicted.r-lib.org/>\u001b[39m\u001b[23m) to force all conflicts to become errors\n",
      "\n",
      "Attaching package: ‘anndata’\n",
      "\n",
      "\n",
      "The following object is masked from ‘package:readr’:\n",
      "\n",
      "    read_csv\n",
      "\n",
      "\n",
      "Loading required package: dynfeature\n",
      "\n",
      "Loading required package: dynguidelines\n",
      "\n",
      "Loading required package: dynmethods\n",
      "\n",
      "Loading required package: dynplot\n",
      "\n",
      "Loading required package: dynwrap\n",
      "\n"
     ]
    }
   ],
   "source": [
    "library(tidyverse)\n",
    "library(dyngen)\n",
    "library(anndata)\n",
    "library(dyno)"
   ]
  },
  {
   "cell_type": "markdown",
   "id": "f556b242-30b8-4809-b45d-c1efa7524bc7",
   "metadata": {},
   "source": [
    "## Constants"
   ]
  },
  {
   "cell_type": "code",
   "execution_count": 2,
   "id": "69c664f5-3efa-4dbb-8109-07fdc558554a",
   "metadata": {
    "tags": []
   },
   "outputs": [],
   "source": [
    "scale = c(\"complexity_1\",\"complexity_2\",\"complexity_3\",\"complexity_4\")\n",
    "names(scale) = c(1,2,4,6)"
   ]
  },
  {
   "cell_type": "markdown",
   "id": "e17ab22a-8f8d-4797-92a4-a6dd6e6fd253",
   "metadata": {
    "tags": []
   },
   "source": [
    "## Simulation"
   ]
  },
  {
   "cell_type": "code",
   "execution_count": 3,
   "id": "4d752c3e-673c-4062-a135-1191f0ee787a",
   "metadata": {
    "tags": []
   },
   "outputs": [],
   "source": [
    "set.seed(0)\n",
    "num_repeats <- 30 ## simulate 30 synthetic datasets for each scale"
   ]
  },
  {
   "cell_type": "code",
   "execution_count": null,
   "id": "71292e95-79ae-45f3-a5f2-29c17b881648",
   "metadata": {
    "tags": []
   },
   "outputs": [],
   "source": [
    "for (num_mod in c(1,2,4,6)){\n",
    "    print(num_mod)\n",
    "  for (run in 1:num_repeats){\n",
    "    print(run)\n",
    "    backbone <- backbone_branching(\n",
    "      num_modifications = num_mod,\n",
    "      min_degree = 3,\n",
    "      max_degree = 5\n",
    "    )\n",
    "    \n",
    "    config <-\n",
    "      initialise_model(\n",
    "        backbone = backbone,\n",
    "        num_cells = 1000,\n",
    "        num_tfs = runif(1, min=50, max=80),\n",
    "        num_targets = 800,\n",
    "        num_hks = 50,\n",
    "        download_cache_dir = \"~/.cache/dyngen\",\n",
    "        simulation_params = simulation_default(\n",
    "          census_interval = 2,\n",
    "          compute_cellwise_grn = TRUE,\n",
    "          compute_rna_velocity = TRUE\n",
    "        )\n",
    "      )\n",
    "    \n",
    "    out <- generate_dataset(\n",
    "      config,\n",
    "      format = \"anndata\",\n",
    "      make_plots = FALSE\n",
    "    )\n",
    "    \n",
    "    dataset <- out$dataset\n",
    "    model <- out$model\n",
    "    \n",
    "    ad <- as_anndata(model)\n",
    "    ad$write_h5ad(paste0(scale[as.character(num_mod)],\"/raw/dataset_sim\", run, \".h5ad\"))\n",
    "  }\n",
    "}"
   ]
  },
  {
   "cell_type": "code",
   "execution_count": null,
   "id": "720598fa-c57b-4f92-b5ea-72b03bd87605",
   "metadata": {},
   "outputs": [],
   "source": []
  }
 ],
 "metadata": {
  "kernelspec": {
   "display_name": "R [conda env:immune]",
   "language": "R",
   "name": "conda-env-immune-r"
  },
  "language_info": {
   "codemirror_mode": "r",
   "file_extension": ".r",
   "mimetype": "text/x-r-source",
   "name": "R",
   "pygments_lexer": "r",
   "version": "4.3.1"
  }
 },
 "nbformat": 4,
 "nbformat_minor": 5
}
