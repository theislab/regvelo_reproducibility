{
 "cells": [
  {
   "cell_type": "markdown",
   "id": "880a5f0b-e8bc-407c-9f5a-fa78f210cdeb",
   "metadata": {
    "tags": []
   },
   "source": [
    "# Construct pySCENIC GRN\n",
    "\n",
    "We used pySCENIC to construct a gene regulatory network (GRN) for each scale dataset. For simplicity of demonstration, we present the preprocessing steps for scale-2; the preprocessing for the other scales is identical."
   ]
  },
  {
   "cell_type": "markdown",
   "id": "baceca4d-afa4-4577-982a-e47cd10a4dc0",
   "metadata": {},
   "source": [
    "## Library imports"
   ]
  },
  {
   "cell_type": "code",
   "execution_count": 11,
   "id": "814fc61b-45f4-4567-a459-3f6d280daf6e",
   "metadata": {},
   "outputs": [],
   "source": [
    "# import dependencies\n",
    "import glob\n",
    "\n",
    "import loompy as lp\n",
    "\n",
    "import pandas as pd\n",
    "\n",
    "import anndata as ad\n",
    "import scanpy as sc\n",
    "\n",
    "from rgv_tools import DATA_DIR"
   ]
  },
  {
   "cell_type": "markdown",
   "id": "a6400a52-b04b-4e28-a456-cb27f712bc7b",
   "metadata": {},
   "source": [
    "## General settings"
   ]
  },
  {
   "cell_type": "code",
   "execution_count": 7,
   "id": "298f2820-ff22-4fe5-aea2-2234222a2610",
   "metadata": {
    "tags": []
   },
   "outputs": [],
   "source": [
    "sc.settings.verbosity = 3  # verbosity: errors (0), warnings (1), info (2), hints (3)"
   ]
  },
  {
   "cell_type": "markdown",
   "id": "8b5b2adf-fd42-4983-afd7-ab9804f75380",
   "metadata": {},
   "source": [
    "## Constants"
   ]
  },
  {
   "cell_type": "code",
   "execution_count": 8,
   "id": "151efea5-146c-41ec-bfa2-f0a5c445157b",
   "metadata": {},
   "outputs": [],
   "source": [
    "DATASET = \"mouse_neural_crest\""
   ]
  },
  {
   "cell_type": "code",
   "execution_count": 22,
   "id": "62512653-a51f-4bab-b096-96cd3b6f7de8",
   "metadata": {},
   "outputs": [],
   "source": [
    "SAVE_DATA = True\n",
    "if SAVE_DATA:\n",
    "    (DATA_DIR / DATASET / \"processed\").mkdir(parents=True, exist_ok=True)\n",
    "    (DATA_DIR / DATASET / \"processed\" / \"scenic\").mkdir(parents=True, exist_ok=True)"
   ]
  },
  {
   "cell_type": "markdown",
   "id": "4c58a595-1c3a-46a9-bbe6-4cfb0004ad2f",
   "metadata": {},
   "source": [
    "## Data loading"
   ]
  },
  {
   "cell_type": "code",
   "execution_count": 17,
   "id": "107c773e-91f9-42c6-9e9a-8df9208162fa",
   "metadata": {
    "tags": []
   },
   "outputs": [],
   "source": [
    "adata_raw = ad.io.read_h5ad(DATA_DIR / DATASET / \"raw\" / \"GSE201257_adata_QC_filtered.h5ad\")\n",
    "adata = ad.io.read_h5ad(DATA_DIR / DATASET / \"processed\" / \"adata_stage2_processed.h5ad\")\n",
    "adata = adata_raw[adata.obs_names]"
   ]
  },
  {
   "cell_type": "code",
   "execution_count": 18,
   "id": "2a5061c5-bf62-4af2-a5e5-eb1da5520687",
   "metadata": {
    "tags": []
   },
   "outputs": [
    {
     "data": {
      "text/plain": [
       "View of AnnData object with n_obs × n_vars = 5139 × 24489\n",
       "    obs: 'plates', 'devtime', 'location', 'n_genes_by_counts', 'total_counts', 'total_counts_ERCC', 'pct_counts_ERCC'\n",
       "    var: 'ERCC', 'n_cells_by_counts', 'mean_counts', 'pct_dropout_by_counts', 'total_counts'"
      ]
     },
     "execution_count": 18,
     "metadata": {},
     "output_type": "execute_result"
    }
   ],
   "source": [
    "adata"
   ]
  },
  {
   "cell_type": "code",
   "execution_count": 19,
   "id": "18da7dfa-ab01-417d-bbf0-c57c06664af4",
   "metadata": {
    "tags": []
   },
   "outputs": [
    {
     "name": "stdout",
     "output_type": "stream",
     "text": [
      "filtered out 4325 genes that are detected in less than 5 cells\n"
     ]
    },
    {
     "name": "stderr",
     "output_type": "stream",
     "text": [
      "/home/icb/weixu.wang/miniconda3/envs/pyscenic/lib/python3.10/site-packages/scanpy/preprocessing/_simple.py:284: ImplicitModificationWarning: Trying to modify attribute `.var` of view, initializing view as actual.\n",
      "  adata.var[\"n_cells\"] = number\n"
     ]
    }
   ],
   "source": [
    "sc.pp.filter_genes(adata, min_cells=5)"
   ]
  },
  {
   "cell_type": "code",
   "execution_count": 20,
   "id": "826e231a-bee2-4ce2-b7fb-003a3735bc60",
   "metadata": {
    "tags": []
   },
   "outputs": [
    {
     "name": "stdout",
     "output_type": "stream",
     "text": [
      "normalizing counts per cell\n",
      "    finished (0:00:00)\n"
     ]
    }
   ],
   "source": [
    "sc.pp.normalize_total(adata, target_sum=1e3)\n",
    "sc.pp.log1p(adata)"
   ]
  },
  {
   "cell_type": "code",
   "execution_count": 21,
   "id": "43a5f608-a3cd-428a-a742-f7b756591f07",
   "metadata": {
    "tags": []
   },
   "outputs": [],
   "source": [
    "adata = sc.AnnData(adata.X, obs=adata.obs, var=adata.var)\n",
    "adata.var[\"Gene\"] = adata.var_names\n",
    "adata.obs[\"CellID\"] = adata.obs_names"
   ]
  },
  {
   "cell_type": "code",
   "execution_count": 23,
   "id": "9baabea5-9d96-423e-a243-8060e1642aa9",
   "metadata": {
    "tags": []
   },
   "outputs": [],
   "source": [
    "if SAVE_DATA:\n",
    "    adata.write_loom(DATA_DIR / DATASET / \"processed\" / \"scenic\" / \"adata_stage_2_check.loom\")"
   ]
  },
  {
   "cell_type": "code",
   "execution_count": 24,
   "id": "55baf2e1-3d57-4b61-8221-57f4a52eac1e",
   "metadata": {
    "tags": []
   },
   "outputs": [],
   "source": [
    "adata.X = adata.X.toarray().copy()"
   ]
  },
  {
   "cell_type": "markdown",
   "id": "8f88c440-ac75-4d47-a07d-2cd7d39e9b9b",
   "metadata": {},
   "source": [
    "## SCENIC step"
   ]
  },
  {
   "cell_type": "code",
   "execution_count": 25,
   "id": "793ab6f4-2849-4ef2-8e07-a80f2adc01b9",
   "metadata": {
    "tags": []
   },
   "outputs": [],
   "source": [
    "f_loom_path_scenic = DATA_DIR / DATASET / \"processed\" / \"scenic\" / \"adata_stage_2_check.loom\"\n",
    "f_tfs = \"allTFs_mm.txt\"\n",
    "adj_path = DATA_DIR / DATASET / \"processed\" / \"scenic\" / \"adj_stage_2.csv\""
   ]
  },
  {
   "cell_type": "code",
   "execution_count": null,
   "id": "39887650-40fb-4a6e-999f-254a5acf72e6",
   "metadata": {
    "tags": []
   },
   "outputs": [
    {
     "name": "stdout",
     "output_type": "stream",
     "text": [
      "\n",
      "2025-02-18 10:11:10,542 - pyscenic.cli.pyscenic - INFO - Loading expression matrix.\n",
      "\n",
      "2025-02-18 10:11:12,711 - pyscenic.cli.pyscenic - INFO - Inferring regulatory networks.\n",
      "preparing dask client\n",
      "parsing input\n",
      "creating dask graph\n",
      "30 partitions\n",
      "computing dask graph\n",
      "/home/icb/weixu.wang/miniconda3/envs/pyscenic/lib/python3.10/site-packages/distributed/client.py:3169: UserWarning: Sending large graph of size 498.34 MiB.\n",
      "This may cause some slowdown.\n",
      "Consider scattering data ahead of time and using futures.\n",
      "  warnings.warn(\n"
     ]
    }
   ],
   "source": [
    "!pyscenic grn {f_loom_path_scenic} {f_tfs} -o {adj_path} --num_workers 30"
   ]
  },
  {
   "cell_type": "code",
   "execution_count": 26,
   "id": "d2bccb57-4d24-4a77-aaeb-73088421e0d5",
   "metadata": {
    "tags": []
   },
   "outputs": [],
   "source": [
    "# ranking databases\n",
    "f_db_glob = \"cisTarget_databases/*feather\"  ## download feather file according instructions of pySCENIC\n",
    "f_db_names = \" \".join(glob.glob(f_db_glob))\n",
    "\n",
    "# motif databases\n",
    "f_motif_path = (\n",
    "    \"cisTarget_databases/motifs-v9-nr.mgi-m0.001-o0.0.tbl\"  ## download motif file according instructions of pySCENIC\n",
    ")\n",
    "\n",
    "regulon_path = DATA_DIR / DATASET / \"processed\" / \"scenic\" / \"stage_2_all_regulons.csv\""
   ]
  },
  {
   "cell_type": "code",
   "execution_count": 14,
   "id": "4611f7ed-88f6-4aa8-800d-022f9a92e41a",
   "metadata": {
    "collapsed": true,
    "tags": []
   },
   "outputs": [
    {
     "name": "stdout",
     "output_type": "stream",
     "text": [
      "\n",
      "2025-04-01 22:31:47,930 - pyscenic.cli.pyscenic - INFO - Creating modules.\n",
      "\n",
      "2025-04-01 22:31:48,691 - pyscenic.cli.pyscenic - INFO - Loading expression matrix.\n",
      "\n",
      "2025-04-01 22:31:52,850 - pyscenic.utils - INFO - Calculating Pearson correlations.\n",
      "\n",
      "2025-04-01 22:31:53,155 - pyscenic.utils - WARNING - Note on correlation calculation: the default behaviour for calculating the correlations has changed after pySCENIC verion 0.9.16. Previously, the default was to calculate the correlation between a TF and target gene using only cells with non-zero expression values (mask_dropouts=True). The current default is now to use all cells to match the behavior of the R verision of SCENIC. The original settings can be retained by setting 'rho_mask_dropouts=True' in the modules_from_adjacencies function, or '--mask_dropouts' from the CLI.\n",
      "\tDropout masking is currently set to [False].\n",
      "\n",
      "2025-04-01 22:32:46,533 - pyscenic.utils - INFO - Creating modules.\n",
      "\n",
      "2025-04-01 22:34:21,642 - pyscenic.cli.pyscenic - INFO - Loading databases.\n",
      "\n",
      "2025-04-01 22:34:23,242 - pyscenic.cli.pyscenic - INFO - Calculating regulons.\n",
      "\n",
      "2025-04-01 22:34:23,242 - pyscenic.prune - INFO - Using 30 workers.\n",
      "\n",
      "2025-04-01 22:34:23,242 - pyscenic.prune - INFO - Using 30 workers.\n",
      "\n",
      "2025-04-01 22:34:31,838 - pyscenic.prune - INFO - Worker mm10__refseq-r80__10kb_up_and_down_tss.mc9nr.genes_vs_motifs.rankings(9): database loaded in memory.\n",
      "\n",
      "2025-04-01 22:34:31,838 - pyscenic.prune - INFO - Worker mm10__refseq-r80__10kb_up_and_down_tss.mc9nr.genes_vs_motifs.rankings(9): database loaded in memory.\n",
      "\n",
      "2025-04-01 22:34:32,130 - pyscenic.prune - INFO - Worker mm10__refseq-r80__500bp_up_and_100bp_down_tss.mc9nr.genes_vs_motifs.rankings(10): database loaded in memory.\n",
      "\n",
      "2025-04-01 22:34:32,130 - pyscenic.prune - INFO - Worker mm10__refseq-r80__500bp_up_and_100bp_down_tss.mc9nr.genes_vs_motifs.rankings(10): database loaded in memory.\n",
      "\n",
      "2025-04-01 22:34:32,373 - pyscenic.prune - INFO - Worker mm10__refseq-r80__10kb_up_and_down_tss.mc9nr.genes_vs_motifs.rankings(1): database loaded in memory.\n",
      "\n",
      "2025-04-01 22:34:32,373 - pyscenic.prune - INFO - Worker mm10__refseq-r80__10kb_up_and_down_tss.mc9nr.genes_vs_motifs.rankings(1): database loaded in memory.\n",
      "\n",
      "2025-04-01 22:34:32,479 - pyscenic.prune - INFO - Worker mm10__refseq-r80__10kb_up_and_down_tss.mc9nr.genes_vs_motifs.rankings(13): database loaded in memory.\n",
      "\n",
      "2025-04-01 22:34:32,479 - pyscenic.prune - INFO - Worker mm10__refseq-r80__10kb_up_and_down_tss.mc9nr.genes_vs_motifs.rankings(13): database loaded in memory.\n",
      "\n",
      "2025-04-01 22:34:32,610 - pyscenic.prune - INFO - Worker mm10__refseq-r80__500bp_up_and_100bp_down_tss.mc9nr.genes_vs_motifs.rankings(8): database loaded in memory.\n",
      "\n",
      "2025-04-01 22:34:32,610 - pyscenic.prune - INFO - Worker mm10__refseq-r80__500bp_up_and_100bp_down_tss.mc9nr.genes_vs_motifs.rankings(8): database loaded in memory.\n",
      "\n",
      "2025-04-01 22:34:32,739 - pyscenic.prune - INFO - Worker mm10__refseq-r80__500bp_up_and_100bp_down_tss.mc9nr.genes_vs_motifs.rankings(15): database loaded in memory.\n",
      "\n",
      "2025-04-01 22:34:32,739 - pyscenic.prune - INFO - Worker mm10__refseq-r80__500bp_up_and_100bp_down_tss.mc9nr.genes_vs_motifs.rankings(15): database loaded in memory.\n",
      "\n",
      "2025-04-01 22:34:32,864 - pyscenic.prune - INFO - Worker mm10__refseq-r80__500bp_up_and_100bp_down_tss.mc9nr.genes_vs_motifs.rankings(2): database loaded in memory.\n",
      "\n",
      "2025-04-01 22:34:32,864 - pyscenic.prune - INFO - Worker mm10__refseq-r80__500bp_up_and_100bp_down_tss.mc9nr.genes_vs_motifs.rankings(2): database loaded in memory.\n",
      "\n",
      "2025-04-01 22:34:32,916 - pyscenic.prune - INFO - Worker mm10__refseq-r80__500bp_up_and_100bp_down_tss.mc9nr.genes_vs_motifs.rankings(13): database loaded in memory.\n",
      "\n",
      "2025-04-01 22:34:32,916 - pyscenic.prune - INFO - Worker mm10__refseq-r80__500bp_up_and_100bp_down_tss.mc9nr.genes_vs_motifs.rankings(13): database loaded in memory.\n",
      "\n",
      "2025-04-01 22:34:33,429 - pyscenic.prune - INFO - Worker mm10__refseq-r80__500bp_up_and_100bp_down_tss.mc9nr.genes_vs_motifs.rankings(7): database loaded in memory.\n",
      "\n",
      "2025-04-01 22:34:33,429 - pyscenic.prune - INFO - Worker mm10__refseq-r80__500bp_up_and_100bp_down_tss.mc9nr.genes_vs_motifs.rankings(7): database loaded in memory.\n",
      "\n",
      "2025-04-01 22:34:33,838 - pyscenic.prune - INFO - Worker mm10__refseq-r80__10kb_up_and_down_tss.mc9nr.genes_vs_motifs.rankings(14): database loaded in memory.\n",
      "\n",
      "2025-04-01 22:34:33,838 - pyscenic.prune - INFO - Worker mm10__refseq-r80__10kb_up_and_down_tss.mc9nr.genes_vs_motifs.rankings(14): database loaded in memory.\n",
      "\n",
      "2025-04-01 22:34:34,106 - pyscenic.prune - INFO - Worker mm10__refseq-r80__500bp_up_and_100bp_down_tss.mc9nr.genes_vs_motifs.rankings(4): database loaded in memory.\n",
      "\n",
      "2025-04-01 22:34:34,106 - pyscenic.prune - INFO - Worker mm10__refseq-r80__500bp_up_and_100bp_down_tss.mc9nr.genes_vs_motifs.rankings(4): database loaded in memory.\n",
      "\n",
      "2025-04-01 22:34:34,171 - pyscenic.prune - INFO - Worker mm10__refseq-r80__10kb_up_and_down_tss.mc9nr.genes_vs_motifs.rankings(10): database loaded in memory.\n",
      "\n",
      "2025-04-01 22:34:34,171 - pyscenic.prune - INFO - Worker mm10__refseq-r80__10kb_up_and_down_tss.mc9nr.genes_vs_motifs.rankings(10): database loaded in memory.\n",
      "\n",
      "2025-04-01 22:34:34,742 - pyscenic.prune - INFO - Worker mm10__refseq-r80__500bp_up_and_100bp_down_tss.mc9nr.genes_vs_motifs.rankings(11): database loaded in memory.\n",
      "\n",
      "2025-04-01 22:34:34,742 - pyscenic.prune - INFO - Worker mm10__refseq-r80__500bp_up_and_100bp_down_tss.mc9nr.genes_vs_motifs.rankings(11): database loaded in memory.\n",
      "\n",
      "2025-04-01 22:34:34,743 - pyscenic.prune - INFO - Worker mm10__refseq-r80__10kb_up_and_down_tss.mc9nr.genes_vs_motifs.rankings(8): database loaded in memory.\n",
      "\n",
      "2025-04-01 22:34:34,743 - pyscenic.prune - INFO - Worker mm10__refseq-r80__10kb_up_and_down_tss.mc9nr.genes_vs_motifs.rankings(8): database loaded in memory.\n",
      "\n",
      "2025-04-01 22:34:34,959 - pyscenic.prune - INFO - Worker mm10__refseq-r80__500bp_up_and_100bp_down_tss.mc9nr.genes_vs_motifs.rankings(9): database loaded in memory.\n",
      "\n",
      "2025-04-01 22:34:34,959 - pyscenic.prune - INFO - Worker mm10__refseq-r80__500bp_up_and_100bp_down_tss.mc9nr.genes_vs_motifs.rankings(9): database loaded in memory.\n",
      "\n",
      "2025-04-01 22:34:34,996 - pyscenic.prune - INFO - Worker mm10__refseq-r80__10kb_up_and_down_tss.mc9nr.genes_vs_motifs.rankings(9): motif annotations loaded in memory.\n",
      "\n",
      "2025-04-01 22:34:34,996 - pyscenic.prune - INFO - Worker mm10__refseq-r80__10kb_up_and_down_tss.mc9nr.genes_vs_motifs.rankings(9): motif annotations loaded in memory.\n",
      "\n",
      "2025-04-01 22:34:35,032 - pyscenic.prune - INFO - Worker mm10__refseq-r80__10kb_up_and_down_tss.mc9nr.genes_vs_motifs.rankings(4): database loaded in memory.\n",
      "\n",
      "2025-04-01 22:34:35,032 - pyscenic.prune - INFO - Worker mm10__refseq-r80__10kb_up_and_down_tss.mc9nr.genes_vs_motifs.rankings(4): database loaded in memory.\n",
      "\n",
      "2025-04-01 22:34:35,134 - pyscenic.prune - INFO - Worker mm10__refseq-r80__10kb_up_and_down_tss.mc9nr.genes_vs_motifs.rankings(11): database loaded in memory.\n",
      "\n",
      "2025-04-01 22:34:35,134 - pyscenic.prune - INFO - Worker mm10__refseq-r80__10kb_up_and_down_tss.mc9nr.genes_vs_motifs.rankings(11): database loaded in memory.\n",
      "\n",
      "2025-04-01 22:34:35,217 - pyscenic.prune - INFO - Worker mm10__refseq-r80__10kb_up_and_down_tss.mc9nr.genes_vs_motifs.rankings(1): motif annotations loaded in memory.\n",
      "\n",
      "2025-04-01 22:34:35,217 - pyscenic.prune - INFO - Worker mm10__refseq-r80__10kb_up_and_down_tss.mc9nr.genes_vs_motifs.rankings(1): motif annotations loaded in memory.\n",
      "\n",
      "2025-04-01 22:34:35,245 - pyscenic.prune - INFO - Worker mm10__refseq-r80__10kb_up_and_down_tss.mc9nr.genes_vs_motifs.rankings(7): database loaded in memory.\n",
      "\n",
      "2025-04-01 22:34:35,245 - pyscenic.prune - INFO - Worker mm10__refseq-r80__10kb_up_and_down_tss.mc9nr.genes_vs_motifs.rankings(7): database loaded in memory.\n",
      "\n",
      "2025-04-01 22:34:35,267 - pyscenic.prune - INFO - Worker mm10__refseq-r80__10kb_up_and_down_tss.mc9nr.genes_vs_motifs.rankings(13): motif annotations loaded in memory.\n",
      "\n",
      "2025-04-01 22:34:35,267 - pyscenic.prune - INFO - Worker mm10__refseq-r80__10kb_up_and_down_tss.mc9nr.genes_vs_motifs.rankings(13): motif annotations loaded in memory.\n",
      "\n",
      "2025-04-01 22:34:35,302 - pyscenic.prune - INFO - Worker mm10__refseq-r80__500bp_up_and_100bp_down_tss.mc9nr.genes_vs_motifs.rankings(15): motif annotations loaded in memory.\n",
      "\n",
      "2025-04-01 22:34:35,302 - pyscenic.prune - INFO - Worker mm10__refseq-r80__500bp_up_and_100bp_down_tss.mc9nr.genes_vs_motifs.rankings(15): motif annotations loaded in memory.\n",
      "\n",
      "2025-04-01 22:34:35,317 - pyscenic.prune - INFO - Worker mm10__refseq-r80__500bp_up_and_100bp_down_tss.mc9nr.genes_vs_motifs.rankings(10): motif annotations loaded in memory.\n",
      "\n",
      "2025-04-01 22:34:35,317 - pyscenic.prune - INFO - Worker mm10__refseq-r80__500bp_up_and_100bp_down_tss.mc9nr.genes_vs_motifs.rankings(10): motif annotations loaded in memory.\n",
      "\n",
      "2025-04-01 22:34:35,342 - pyscenic.prune - INFO - Worker mm10__refseq-r80__10kb_up_and_down_tss.mc9nr.genes_vs_motifs.rankings(6): database loaded in memory.\n",
      "\n",
      "2025-04-01 22:34:35,342 - pyscenic.prune - INFO - Worker mm10__refseq-r80__10kb_up_and_down_tss.mc9nr.genes_vs_motifs.rankings(6): database loaded in memory.\n",
      "\n",
      "2025-04-01 22:34:35,758 - pyscenic.prune - INFO - Worker mm10__refseq-r80__500bp_up_and_100bp_down_tss.mc9nr.genes_vs_motifs.rankings(8): motif annotations loaded in memory.\n",
      "\n",
      "2025-04-01 22:34:35,758 - pyscenic.prune - INFO - Worker mm10__refseq-r80__500bp_up_and_100bp_down_tss.mc9nr.genes_vs_motifs.rankings(8): motif annotations loaded in memory.\n",
      "\n",
      "2025-04-01 22:34:35,783 - pyscenic.prune - INFO - Worker mm10__refseq-r80__500bp_up_and_100bp_down_tss.mc9nr.genes_vs_motifs.rankings(5): database loaded in memory.\n",
      "\n",
      "2025-04-01 22:34:35,783 - pyscenic.prune - INFO - Worker mm10__refseq-r80__500bp_up_and_100bp_down_tss.mc9nr.genes_vs_motifs.rankings(5): database loaded in memory.\n",
      "\n",
      "2025-04-01 22:34:35,903 - pyscenic.prune - INFO - Worker mm10__refseq-r80__500bp_up_and_100bp_down_tss.mc9nr.genes_vs_motifs.rankings(12): database loaded in memory.\n",
      "\n",
      "2025-04-01 22:34:35,903 - pyscenic.prune - INFO - Worker mm10__refseq-r80__500bp_up_and_100bp_down_tss.mc9nr.genes_vs_motifs.rankings(12): database loaded in memory.\n",
      "\n",
      "2025-04-01 22:34:36,047 - pyscenic.prune - INFO - Worker mm10__refseq-r80__500bp_up_and_100bp_down_tss.mc9nr.genes_vs_motifs.rankings(2): motif annotations loaded in memory.\n",
      "\n",
      "2025-04-01 22:34:36,047 - pyscenic.prune - INFO - Worker mm10__refseq-r80__500bp_up_and_100bp_down_tss.mc9nr.genes_vs_motifs.rankings(2): motif annotations loaded in memory.\n",
      "\n",
      "2025-04-01 22:34:36,063 - pyscenic.prune - INFO - Worker mm10__refseq-r80__10kb_up_and_down_tss.mc9nr.genes_vs_motifs.rankings(3): database loaded in memory.\n",
      "\n",
      "2025-04-01 22:34:36,063 - pyscenic.prune - INFO - Worker mm10__refseq-r80__10kb_up_and_down_tss.mc9nr.genes_vs_motifs.rankings(3): database loaded in memory.\n",
      "\n",
      "2025-04-01 22:34:36,101 - pyscenic.prune - INFO - Worker mm10__refseq-r80__10kb_up_and_down_tss.mc9nr.genes_vs_motifs.rankings(5): database loaded in memory.\n",
      "\n",
      "2025-04-01 22:34:36,101 - pyscenic.prune - INFO - Worker mm10__refseq-r80__10kb_up_and_down_tss.mc9nr.genes_vs_motifs.rankings(5): database loaded in memory.\n",
      "\n",
      "2025-04-01 22:34:36,171 - pyscenic.prune - INFO - Worker mm10__refseq-r80__10kb_up_and_down_tss.mc9nr.genes_vs_motifs.rankings(15): database loaded in memory.\n",
      "\n",
      "2025-04-01 22:34:36,171 - pyscenic.prune - INFO - Worker mm10__refseq-r80__10kb_up_and_down_tss.mc9nr.genes_vs_motifs.rankings(15): database loaded in memory.\n",
      "\n",
      "2025-04-01 22:34:36,203 - pyscenic.prune - INFO - Worker mm10__refseq-r80__10kb_up_and_down_tss.mc9nr.genes_vs_motifs.rankings(2): database loaded in memory.\n",
      "\n",
      "2025-04-01 22:34:36,203 - pyscenic.prune - INFO - Worker mm10__refseq-r80__10kb_up_and_down_tss.mc9nr.genes_vs_motifs.rankings(2): database loaded in memory.\n",
      "\n",
      "2025-04-01 22:34:36,298 - pyscenic.prune - INFO - Worker mm10__refseq-r80__500bp_up_and_100bp_down_tss.mc9nr.genes_vs_motifs.rankings(14): database loaded in memory.\n",
      "\n",
      "2025-04-01 22:34:36,298 - pyscenic.prune - INFO - Worker mm10__refseq-r80__500bp_up_and_100bp_down_tss.mc9nr.genes_vs_motifs.rankings(14): database loaded in memory.\n",
      "\n",
      "2025-04-01 22:34:36,346 - pyscenic.prune - INFO - Worker mm10__refseq-r80__500bp_up_and_100bp_down_tss.mc9nr.genes_vs_motifs.rankings(13): motif annotations loaded in memory.\n",
      "\n",
      "2025-04-01 22:34:36,346 - pyscenic.prune - INFO - Worker mm10__refseq-r80__500bp_up_and_100bp_down_tss.mc9nr.genes_vs_motifs.rankings(13): motif annotations loaded in memory.\n",
      "\n",
      "2025-04-01 22:34:36,388 - pyscenic.prune - INFO - Worker mm10__refseq-r80__500bp_up_and_100bp_down_tss.mc9nr.genes_vs_motifs.rankings(1): database loaded in memory.\n",
      "\n",
      "2025-04-01 22:34:36,388 - pyscenic.prune - INFO - Worker mm10__refseq-r80__500bp_up_and_100bp_down_tss.mc9nr.genes_vs_motifs.rankings(1): database loaded in memory.\n",
      "\n",
      "2025-04-01 22:34:36,492 - pyscenic.prune - INFO - Worker mm10__refseq-r80__500bp_up_and_100bp_down_tss.mc9nr.genes_vs_motifs.rankings(6): database loaded in memory.\n",
      "\n",
      "2025-04-01 22:34:36,492 - pyscenic.prune - INFO - Worker mm10__refseq-r80__500bp_up_and_100bp_down_tss.mc9nr.genes_vs_motifs.rankings(6): database loaded in memory.\n",
      "\n",
      "2025-04-01 22:34:36,509 - pyscenic.prune - INFO - Worker mm10__refseq-r80__10kb_up_and_down_tss.mc9nr.genes_vs_motifs.rankings(12): database loaded in memory.\n",
      "\n",
      "2025-04-01 22:34:36,509 - pyscenic.prune - INFO - Worker mm10__refseq-r80__10kb_up_and_down_tss.mc9nr.genes_vs_motifs.rankings(12): database loaded in memory.\n",
      "\n",
      "2025-04-01 22:34:36,677 - pyscenic.prune - INFO - Worker mm10__refseq-r80__500bp_up_and_100bp_down_tss.mc9nr.genes_vs_motifs.rankings(7): motif annotations loaded in memory.\n",
      "\n",
      "2025-04-01 22:34:36,677 - pyscenic.prune - INFO - Worker mm10__refseq-r80__500bp_up_and_100bp_down_tss.mc9nr.genes_vs_motifs.rankings(7): motif annotations loaded in memory.\n",
      "\n",
      "2025-04-01 22:34:36,728 - pyscenic.prune - INFO - Worker mm10__refseq-r80__10kb_up_and_down_tss.mc9nr.genes_vs_motifs.rankings(10): motif annotations loaded in memory.\n",
      "\n",
      "2025-04-01 22:34:36,728 - pyscenic.prune - INFO - Worker mm10__refseq-r80__10kb_up_and_down_tss.mc9nr.genes_vs_motifs.rankings(10): motif annotations loaded in memory.\n",
      "\n",
      "2025-04-01 22:34:36,838 - pyscenic.prune - INFO - Worker mm10__refseq-r80__500bp_up_and_100bp_down_tss.mc9nr.genes_vs_motifs.rankings(3): database loaded in memory.\n",
      "\n",
      "2025-04-01 22:34:36,838 - pyscenic.prune - INFO - Worker mm10__refseq-r80__500bp_up_and_100bp_down_tss.mc9nr.genes_vs_motifs.rankings(3): database loaded in memory.\n",
      "\n",
      "2025-04-01 22:34:36,938 - pyscenic.prune - INFO - Worker mm10__refseq-r80__10kb_up_and_down_tss.mc9nr.genes_vs_motifs.rankings(14): motif annotations loaded in memory.\n",
      "\n",
      "2025-04-01 22:34:36,938 - pyscenic.prune - INFO - Worker mm10__refseq-r80__10kb_up_and_down_tss.mc9nr.genes_vs_motifs.rankings(14): motif annotations loaded in memory.\n",
      "\n",
      "2025-04-01 22:34:37,003 - pyscenic.prune - INFO - Worker mm10__refseq-r80__500bp_up_and_100bp_down_tss.mc9nr.genes_vs_motifs.rankings(4): motif annotations loaded in memory.\n",
      "\n",
      "2025-04-01 22:34:37,003 - pyscenic.prune - INFO - Worker mm10__refseq-r80__500bp_up_and_100bp_down_tss.mc9nr.genes_vs_motifs.rankings(4): motif annotations loaded in memory.\n",
      "\n",
      "2025-04-01 22:34:37,098 - pyscenic.prune - INFO - Worker mm10__refseq-r80__10kb_up_and_down_tss.mc9nr.genes_vs_motifs.rankings(8): motif annotations loaded in memory.\n",
      "\n",
      "2025-04-01 22:34:37,098 - pyscenic.prune - INFO - Worker mm10__refseq-r80__10kb_up_and_down_tss.mc9nr.genes_vs_motifs.rankings(8): motif annotations loaded in memory.\n",
      "\n",
      "2025-04-01 22:34:37,394 - pyscenic.prune - INFO - Worker mm10__refseq-r80__500bp_up_and_100bp_down_tss.mc9nr.genes_vs_motifs.rankings(11): motif annotations loaded in memory.\n",
      "\n",
      "2025-04-01 22:34:37,394 - pyscenic.prune - INFO - Worker mm10__refseq-r80__500bp_up_and_100bp_down_tss.mc9nr.genes_vs_motifs.rankings(11): motif annotations loaded in memory.\n",
      "\n",
      "2025-04-01 22:34:37,565 - pyscenic.prune - INFO - Worker mm10__refseq-r80__10kb_up_and_down_tss.mc9nr.genes_vs_motifs.rankings(7): motif annotations loaded in memory.\n",
      "\n",
      "2025-04-01 22:34:37,565 - pyscenic.prune - INFO - Worker mm10__refseq-r80__10kb_up_and_down_tss.mc9nr.genes_vs_motifs.rankings(7): motif annotations loaded in memory.\n",
      "\n",
      "2025-04-01 22:34:37,721 - pyscenic.prune - INFO - Worker mm10__refseq-r80__10kb_up_and_down_tss.mc9nr.genes_vs_motifs.rankings(4): motif annotations loaded in memory.\n",
      "\n",
      "2025-04-01 22:34:37,721 - pyscenic.prune - INFO - Worker mm10__refseq-r80__10kb_up_and_down_tss.mc9nr.genes_vs_motifs.rankings(4): motif annotations loaded in memory.\n",
      "\n",
      "2025-04-01 22:34:38,062 - pyscenic.prune - INFO - Worker mm10__refseq-r80__500bp_up_and_100bp_down_tss.mc9nr.genes_vs_motifs.rankings(12): motif annotations loaded in memory.\n",
      "\n",
      "2025-04-01 22:34:38,062 - pyscenic.prune - INFO - Worker mm10__refseq-r80__500bp_up_and_100bp_down_tss.mc9nr.genes_vs_motifs.rankings(12): motif annotations loaded in memory.\n",
      "\n",
      "2025-04-01 22:34:38,238 - pyscenic.prune - INFO - Worker mm10__refseq-r80__500bp_up_and_100bp_down_tss.mc9nr.genes_vs_motifs.rankings(9): motif annotations loaded in memory.\n",
      "\n",
      "2025-04-01 22:34:38,238 - pyscenic.prune - INFO - Worker mm10__refseq-r80__500bp_up_and_100bp_down_tss.mc9nr.genes_vs_motifs.rankings(9): motif annotations loaded in memory.\n",
      "\n",
      "2025-04-01 22:34:38,285 - pyscenic.prune - INFO - Worker mm10__refseq-r80__10kb_up_and_down_tss.mc9nr.genes_vs_motifs.rankings(11): motif annotations loaded in memory.\n",
      "\n",
      "2025-04-01 22:34:38,285 - pyscenic.prune - INFO - Worker mm10__refseq-r80__10kb_up_and_down_tss.mc9nr.genes_vs_motifs.rankings(11): motif annotations loaded in memory.\n",
      "\n",
      "2025-04-01 22:34:38,443 - pyscenic.prune - INFO - Worker mm10__refseq-r80__10kb_up_and_down_tss.mc9nr.genes_vs_motifs.rankings(15): motif annotations loaded in memory.\n",
      "\n",
      "2025-04-01 22:34:38,443 - pyscenic.prune - INFO - Worker mm10__refseq-r80__10kb_up_and_down_tss.mc9nr.genes_vs_motifs.rankings(15): motif annotations loaded in memory.\n",
      "\n",
      "2025-04-01 22:34:38,528 - pyscenic.prune - INFO - Worker mm10__refseq-r80__10kb_up_and_down_tss.mc9nr.genes_vs_motifs.rankings(5): motif annotations loaded in memory.\n",
      "\n",
      "2025-04-01 22:34:38,528 - pyscenic.prune - INFO - Worker mm10__refseq-r80__10kb_up_and_down_tss.mc9nr.genes_vs_motifs.rankings(5): motif annotations loaded in memory.\n",
      "\n",
      "2025-04-01 22:34:38,698 - pyscenic.prune - INFO - Worker mm10__refseq-r80__500bp_up_and_100bp_down_tss.mc9nr.genes_vs_motifs.rankings(14): motif annotations loaded in memory.\n",
      "\n",
      "2025-04-01 22:34:38,698 - pyscenic.prune - INFO - Worker mm10__refseq-r80__500bp_up_and_100bp_down_tss.mc9nr.genes_vs_motifs.rankings(14): motif annotations loaded in memory.\n",
      "\n",
      "2025-04-01 22:34:38,714 - pyscenic.prune - INFO - Worker mm10__refseq-r80__10kb_up_and_down_tss.mc9nr.genes_vs_motifs.rankings(3): motif annotations loaded in memory.\n",
      "\n",
      "2025-04-01 22:34:38,714 - pyscenic.prune - INFO - Worker mm10__refseq-r80__10kb_up_and_down_tss.mc9nr.genes_vs_motifs.rankings(3): motif annotations loaded in memory.\n",
      "\n",
      "2025-04-01 22:34:38,762 - pyscenic.prune - INFO - Worker mm10__refseq-r80__10kb_up_and_down_tss.mc9nr.genes_vs_motifs.rankings(2): motif annotations loaded in memory.\n",
      "\n",
      "2025-04-01 22:34:38,762 - pyscenic.prune - INFO - Worker mm10__refseq-r80__10kb_up_and_down_tss.mc9nr.genes_vs_motifs.rankings(2): motif annotations loaded in memory.\n",
      "\n",
      "2025-04-01 22:34:38,764 - pyscenic.prune - INFO - Worker mm10__refseq-r80__10kb_up_and_down_tss.mc9nr.genes_vs_motifs.rankings(6): motif annotations loaded in memory.\n",
      "\n",
      "2025-04-01 22:34:38,764 - pyscenic.prune - INFO - Worker mm10__refseq-r80__10kb_up_and_down_tss.mc9nr.genes_vs_motifs.rankings(6): motif annotations loaded in memory.\n",
      "\n",
      "2025-04-01 22:34:38,862 - pyscenic.prune - INFO - Worker mm10__refseq-r80__500bp_up_and_100bp_down_tss.mc9nr.genes_vs_motifs.rankings(5): motif annotations loaded in memory.\n",
      "\n",
      "2025-04-01 22:34:38,862 - pyscenic.prune - INFO - Worker mm10__refseq-r80__500bp_up_and_100bp_down_tss.mc9nr.genes_vs_motifs.rankings(5): motif annotations loaded in memory.\n",
      "\n",
      "2025-04-01 22:34:38,890 - pyscenic.prune - INFO - Worker mm10__refseq-r80__500bp_up_and_100bp_down_tss.mc9nr.genes_vs_motifs.rankings(1): motif annotations loaded in memory.\n",
      "\n",
      "2025-04-01 22:34:38,890 - pyscenic.prune - INFO - Worker mm10__refseq-r80__500bp_up_and_100bp_down_tss.mc9nr.genes_vs_motifs.rankings(1): motif annotations loaded in memory.\n",
      "\n",
      "2025-04-01 22:34:38,917 - pyscenic.prune - INFO - Worker mm10__refseq-r80__10kb_up_and_down_tss.mc9nr.genes_vs_motifs.rankings(12): motif annotations loaded in memory.\n",
      "\n",
      "2025-04-01 22:34:38,917 - pyscenic.prune - INFO - Worker mm10__refseq-r80__10kb_up_and_down_tss.mc9nr.genes_vs_motifs.rankings(12): motif annotations loaded in memory.\n",
      "\n",
      "2025-04-01 22:34:39,054 - pyscenic.prune - INFO - Worker mm10__refseq-r80__500bp_up_and_100bp_down_tss.mc9nr.genes_vs_motifs.rankings(6): motif annotations loaded in memory.\n",
      "\n",
      "2025-04-01 22:34:39,054 - pyscenic.prune - INFO - Worker mm10__refseq-r80__500bp_up_and_100bp_down_tss.mc9nr.genes_vs_motifs.rankings(6): motif annotations loaded in memory.\n",
      "\n",
      "2025-04-01 22:34:39,288 - pyscenic.prune - INFO - Worker mm10__refseq-r80__500bp_up_and_100bp_down_tss.mc9nr.genes_vs_motifs.rankings(3): motif annotations loaded in memory.\n",
      "\n",
      "2025-04-01 22:34:39,288 - pyscenic.prune - INFO - Worker mm10__refseq-r80__500bp_up_and_100bp_down_tss.mc9nr.genes_vs_motifs.rankings(3): motif annotations loaded in memory.\n",
      "\n",
      "2025-04-01 22:50:30,452 - pyscenic.prune - INFO - Worker mm10__refseq-r80__500bp_up_and_100bp_down_tss.mc9nr.genes_vs_motifs.rankings(2): All regulons derived.\n",
      "\n",
      "2025-04-01 22:50:30,452 - pyscenic.prune - INFO - Worker mm10__refseq-r80__500bp_up_and_100bp_down_tss.mc9nr.genes_vs_motifs.rankings(2): All regulons derived.\n",
      "\n",
      "2025-04-01 22:50:30,756 - pyscenic.prune - INFO - Worker mm10__refseq-r80__500bp_up_and_100bp_down_tss.mc9nr.genes_vs_motifs.rankings(2): Done.\n",
      "\n",
      "2025-04-01 22:50:30,756 - pyscenic.prune - INFO - Worker mm10__refseq-r80__500bp_up_and_100bp_down_tss.mc9nr.genes_vs_motifs.rankings(2): Done.\n",
      "\n",
      "2025-04-01 22:51:15,695 - pyscenic.prune - INFO - Worker mm10__refseq-r80__500bp_up_and_100bp_down_tss.mc9nr.genes_vs_motifs.rankings(11): All regulons derived.\n",
      "\n",
      "2025-04-01 22:51:15,695 - pyscenic.prune - INFO - Worker mm10__refseq-r80__500bp_up_and_100bp_down_tss.mc9nr.genes_vs_motifs.rankings(11): All regulons derived.\n",
      "\n",
      "2025-04-01 22:51:15,985 - pyscenic.prune - INFO - Worker mm10__refseq-r80__500bp_up_and_100bp_down_tss.mc9nr.genes_vs_motifs.rankings(11): Done.\n",
      "\n",
      "2025-04-01 22:51:15,985 - pyscenic.prune - INFO - Worker mm10__refseq-r80__500bp_up_and_100bp_down_tss.mc9nr.genes_vs_motifs.rankings(11): Done.\n",
      "\n",
      "2025-04-01 22:51:23,649 - pyscenic.prune - INFO - Worker mm10__refseq-r80__500bp_up_and_100bp_down_tss.mc9nr.genes_vs_motifs.rankings(9): All regulons derived.\n",
      "\n",
      "2025-04-01 22:51:23,649 - pyscenic.prune - INFO - Worker mm10__refseq-r80__500bp_up_and_100bp_down_tss.mc9nr.genes_vs_motifs.rankings(9): All regulons derived.\n",
      "\n",
      "2025-04-01 22:51:23,744 - pyscenic.prune - INFO - Worker mm10__refseq-r80__500bp_up_and_100bp_down_tss.mc9nr.genes_vs_motifs.rankings(9): Done.\n",
      "\n",
      "2025-04-01 22:51:23,744 - pyscenic.prune - INFO - Worker mm10__refseq-r80__500bp_up_and_100bp_down_tss.mc9nr.genes_vs_motifs.rankings(9): Done.\n",
      "\n",
      "2025-04-01 22:53:00,318 - pyscenic.prune - INFO - Worker mm10__refseq-r80__500bp_up_and_100bp_down_tss.mc9nr.genes_vs_motifs.rankings(13): All regulons derived.\n",
      "\n",
      "2025-04-01 22:53:00,318 - pyscenic.prune - INFO - Worker mm10__refseq-r80__500bp_up_and_100bp_down_tss.mc9nr.genes_vs_motifs.rankings(13): All regulons derived.\n",
      "\n",
      "2025-04-01 22:53:00,490 - pyscenic.prune - INFO - Worker mm10__refseq-r80__500bp_up_and_100bp_down_tss.mc9nr.genes_vs_motifs.rankings(13): Done.\n",
      "\n",
      "2025-04-01 22:53:00,490 - pyscenic.prune - INFO - Worker mm10__refseq-r80__500bp_up_and_100bp_down_tss.mc9nr.genes_vs_motifs.rankings(13): Done.\n",
      "\n",
      "2025-04-01 22:53:33,618 - pyscenic.prune - INFO - Worker mm10__refseq-r80__500bp_up_and_100bp_down_tss.mc9nr.genes_vs_motifs.rankings(15): All regulons derived.\n",
      "\n",
      "2025-04-01 22:53:33,618 - pyscenic.prune - INFO - Worker mm10__refseq-r80__500bp_up_and_100bp_down_tss.mc9nr.genes_vs_motifs.rankings(15): All regulons derived.\n",
      "\n",
      "2025-04-01 22:53:33,997 - pyscenic.prune - INFO - Worker mm10__refseq-r80__500bp_up_and_100bp_down_tss.mc9nr.genes_vs_motifs.rankings(15): Done.\n",
      "\n",
      "2025-04-01 22:53:33,997 - pyscenic.prune - INFO - Worker mm10__refseq-r80__500bp_up_and_100bp_down_tss.mc9nr.genes_vs_motifs.rankings(15): Done.\n",
      "\n",
      "2025-04-01 22:54:02,848 - pyscenic.prune - INFO - Worker mm10__refseq-r80__10kb_up_and_down_tss.mc9nr.genes_vs_motifs.rankings(2): All regulons derived.\n",
      "\n",
      "2025-04-01 22:54:02,848 - pyscenic.prune - INFO - Worker mm10__refseq-r80__10kb_up_and_down_tss.mc9nr.genes_vs_motifs.rankings(2): All regulons derived.\n",
      "\n",
      "2025-04-01 22:54:03,072 - pyscenic.prune - INFO - Worker mm10__refseq-r80__10kb_up_and_down_tss.mc9nr.genes_vs_motifs.rankings(2): Done.\n",
      "\n",
      "2025-04-01 22:54:03,072 - pyscenic.prune - INFO - Worker mm10__refseq-r80__10kb_up_and_down_tss.mc9nr.genes_vs_motifs.rankings(2): Done.\n",
      "\n",
      "2025-04-01 22:54:08,213 - pyscenic.prune - INFO - Worker mm10__refseq-r80__500bp_up_and_100bp_down_tss.mc9nr.genes_vs_motifs.rankings(14): All regulons derived.\n",
      "\n",
      "2025-04-01 22:54:08,213 - pyscenic.prune - INFO - Worker mm10__refseq-r80__500bp_up_and_100bp_down_tss.mc9nr.genes_vs_motifs.rankings(14): All regulons derived.\n",
      "\n",
      "2025-04-01 22:54:08,420 - pyscenic.prune - INFO - Worker mm10__refseq-r80__500bp_up_and_100bp_down_tss.mc9nr.genes_vs_motifs.rankings(14): Done.\n",
      "\n",
      "2025-04-01 22:54:08,420 - pyscenic.prune - INFO - Worker mm10__refseq-r80__500bp_up_and_100bp_down_tss.mc9nr.genes_vs_motifs.rankings(14): Done.\n",
      "\n",
      "2025-04-01 22:54:29,518 - pyscenic.prune - INFO - Worker mm10__refseq-r80__10kb_up_and_down_tss.mc9nr.genes_vs_motifs.rankings(9): All regulons derived.\n",
      "\n",
      "2025-04-01 22:54:29,518 - pyscenic.prune - INFO - Worker mm10__refseq-r80__10kb_up_and_down_tss.mc9nr.genes_vs_motifs.rankings(9): All regulons derived.\n",
      "\n",
      "2025-04-01 22:54:29,625 - pyscenic.prune - INFO - Worker mm10__refseq-r80__10kb_up_and_down_tss.mc9nr.genes_vs_motifs.rankings(9): Done.\n",
      "\n",
      "2025-04-01 22:54:29,625 - pyscenic.prune - INFO - Worker mm10__refseq-r80__10kb_up_and_down_tss.mc9nr.genes_vs_motifs.rankings(9): Done.\n",
      "\n",
      "2025-04-01 22:54:34,071 - pyscenic.prune - INFO - Worker mm10__refseq-r80__500bp_up_and_100bp_down_tss.mc9nr.genes_vs_motifs.rankings(12): All regulons derived.\n",
      "\n",
      "2025-04-01 22:54:34,071 - pyscenic.prune - INFO - Worker mm10__refseq-r80__500bp_up_and_100bp_down_tss.mc9nr.genes_vs_motifs.rankings(12): All regulons derived.\n",
      "\n",
      "2025-04-01 22:54:34,139 - pyscenic.prune - INFO - Worker mm10__refseq-r80__500bp_up_and_100bp_down_tss.mc9nr.genes_vs_motifs.rankings(12): Done.\n",
      "\n",
      "2025-04-01 22:54:34,139 - pyscenic.prune - INFO - Worker mm10__refseq-r80__500bp_up_and_100bp_down_tss.mc9nr.genes_vs_motifs.rankings(12): Done.\n",
      "\n",
      "2025-04-01 22:54:34,155 - pyscenic.prune - INFO - Worker mm10__refseq-r80__10kb_up_and_down_tss.mc9nr.genes_vs_motifs.rankings(15): All regulons derived.\n",
      "\n",
      "2025-04-01 22:54:34,155 - pyscenic.prune - INFO - Worker mm10__refseq-r80__10kb_up_and_down_tss.mc9nr.genes_vs_motifs.rankings(15): All regulons derived.\n",
      "\n",
      "2025-04-01 22:54:34,339 - pyscenic.prune - INFO - Worker mm10__refseq-r80__10kb_up_and_down_tss.mc9nr.genes_vs_motifs.rankings(15): Done.\n",
      "\n",
      "2025-04-01 22:54:34,339 - pyscenic.prune - INFO - Worker mm10__refseq-r80__10kb_up_and_down_tss.mc9nr.genes_vs_motifs.rankings(15): Done.\n",
      "\n",
      "2025-04-01 22:54:53,356 - pyscenic.prune - INFO - Worker mm10__refseq-r80__10kb_up_and_down_tss.mc9nr.genes_vs_motifs.rankings(11): All regulons derived.\n",
      "\n",
      "2025-04-01 22:54:53,356 - pyscenic.prune - INFO - Worker mm10__refseq-r80__10kb_up_and_down_tss.mc9nr.genes_vs_motifs.rankings(11): All regulons derived.\n",
      "\n",
      "2025-04-01 22:54:53,687 - pyscenic.prune - INFO - Worker mm10__refseq-r80__10kb_up_and_down_tss.mc9nr.genes_vs_motifs.rankings(11): Done.\n",
      "\n",
      "2025-04-01 22:54:53,687 - pyscenic.prune - INFO - Worker mm10__refseq-r80__10kb_up_and_down_tss.mc9nr.genes_vs_motifs.rankings(11): Done.\n",
      "\n",
      "2025-04-01 22:55:08,551 - pyscenic.prune - INFO - Worker mm10__refseq-r80__10kb_up_and_down_tss.mc9nr.genes_vs_motifs.rankings(12): All regulons derived.\n",
      "\n",
      "2025-04-01 22:55:08,551 - pyscenic.prune - INFO - Worker mm10__refseq-r80__10kb_up_and_down_tss.mc9nr.genes_vs_motifs.rankings(12): All regulons derived.\n",
      "\n",
      "2025-04-01 22:55:08,610 - pyscenic.prune - INFO - Worker mm10__refseq-r80__10kb_up_and_down_tss.mc9nr.genes_vs_motifs.rankings(12): Done.\n",
      "\n",
      "2025-04-01 22:55:08,610 - pyscenic.prune - INFO - Worker mm10__refseq-r80__10kb_up_and_down_tss.mc9nr.genes_vs_motifs.rankings(12): Done.\n",
      "\n",
      "2025-04-01 22:55:14,981 - pyscenic.prune - INFO - Worker mm10__refseq-r80__10kb_up_and_down_tss.mc9nr.genes_vs_motifs.rankings(14): All regulons derived.\n",
      "\n",
      "2025-04-01 22:55:14,981 - pyscenic.prune - INFO - Worker mm10__refseq-r80__10kb_up_and_down_tss.mc9nr.genes_vs_motifs.rankings(14): All regulons derived.\n",
      "\n",
      "2025-04-01 22:55:15,126 - pyscenic.prune - INFO - Worker mm10__refseq-r80__10kb_up_and_down_tss.mc9nr.genes_vs_motifs.rankings(14): Done.\n",
      "\n",
      "2025-04-01 22:55:15,126 - pyscenic.prune - INFO - Worker mm10__refseq-r80__10kb_up_and_down_tss.mc9nr.genes_vs_motifs.rankings(14): Done.\n",
      "\n",
      "2025-04-01 22:55:43,552 - pyscenic.prune - INFO - Worker mm10__refseq-r80__10kb_up_and_down_tss.mc9nr.genes_vs_motifs.rankings(13): All regulons derived.\n",
      "\n",
      "2025-04-01 22:55:43,552 - pyscenic.prune - INFO - Worker mm10__refseq-r80__10kb_up_and_down_tss.mc9nr.genes_vs_motifs.rankings(13): All regulons derived.\n",
      "\n",
      "2025-04-01 22:55:43,626 - pyscenic.prune - INFO - Worker mm10__refseq-r80__10kb_up_and_down_tss.mc9nr.genes_vs_motifs.rankings(13): Done.\n",
      "\n",
      "2025-04-01 22:55:43,626 - pyscenic.prune - INFO - Worker mm10__refseq-r80__10kb_up_and_down_tss.mc9nr.genes_vs_motifs.rankings(13): Done.\n",
      "\n",
      "2025-04-01 22:55:50,150 - pyscenic.prune - INFO - Worker mm10__refseq-r80__500bp_up_and_100bp_down_tss.mc9nr.genes_vs_motifs.rankings(4): All regulons derived.\n",
      "\n",
      "2025-04-01 22:55:50,150 - pyscenic.prune - INFO - Worker mm10__refseq-r80__500bp_up_and_100bp_down_tss.mc9nr.genes_vs_motifs.rankings(4): All regulons derived.\n",
      "\n",
      "2025-04-01 22:55:50,329 - pyscenic.prune - INFO - Worker mm10__refseq-r80__500bp_up_and_100bp_down_tss.mc9nr.genes_vs_motifs.rankings(4): Done.\n",
      "\n",
      "2025-04-01 22:55:50,329 - pyscenic.prune - INFO - Worker mm10__refseq-r80__500bp_up_and_100bp_down_tss.mc9nr.genes_vs_motifs.rankings(4): Done.\n",
      "\n",
      "2025-04-01 22:55:57,481 - pyscenic.prune - INFO - Worker mm10__refseq-r80__500bp_up_and_100bp_down_tss.mc9nr.genes_vs_motifs.rankings(7): All regulons derived.\n",
      "\n",
      "2025-04-01 22:55:57,481 - pyscenic.prune - INFO - Worker mm10__refseq-r80__500bp_up_and_100bp_down_tss.mc9nr.genes_vs_motifs.rankings(7): All regulons derived.\n",
      "\n",
      "2025-04-01 22:55:57,540 - pyscenic.prune - INFO - Worker mm10__refseq-r80__500bp_up_and_100bp_down_tss.mc9nr.genes_vs_motifs.rankings(7): Done.\n",
      "\n",
      "2025-04-01 22:55:57,540 - pyscenic.prune - INFO - Worker mm10__refseq-r80__500bp_up_and_100bp_down_tss.mc9nr.genes_vs_motifs.rankings(7): Done.\n",
      "\n",
      "2025-04-01 22:56:15,560 - pyscenic.prune - INFO - Worker mm10__refseq-r80__500bp_up_and_100bp_down_tss.mc9nr.genes_vs_motifs.rankings(6): All regulons derived.\n",
      "\n",
      "2025-04-01 22:56:15,560 - pyscenic.prune - INFO - Worker mm10__refseq-r80__500bp_up_and_100bp_down_tss.mc9nr.genes_vs_motifs.rankings(6): All regulons derived.\n",
      "\n",
      "2025-04-01 22:56:15,700 - pyscenic.prune - INFO - Worker mm10__refseq-r80__500bp_up_and_100bp_down_tss.mc9nr.genes_vs_motifs.rankings(6): Done.\n",
      "\n",
      "2025-04-01 22:56:15,700 - pyscenic.prune - INFO - Worker mm10__refseq-r80__500bp_up_and_100bp_down_tss.mc9nr.genes_vs_motifs.rankings(6): Done.\n",
      "\n",
      "2025-04-01 22:56:25,846 - pyscenic.prune - INFO - Worker mm10__refseq-r80__10kb_up_and_down_tss.mc9nr.genes_vs_motifs.rankings(6): All regulons derived.\n",
      "\n",
      "2025-04-01 22:56:25,846 - pyscenic.prune - INFO - Worker mm10__refseq-r80__10kb_up_and_down_tss.mc9nr.genes_vs_motifs.rankings(6): All regulons derived.\n",
      "\n",
      "2025-04-01 22:56:25,934 - pyscenic.prune - INFO - Worker mm10__refseq-r80__10kb_up_and_down_tss.mc9nr.genes_vs_motifs.rankings(6): Done.\n",
      "\n",
      "2025-04-01 22:56:25,934 - pyscenic.prune - INFO - Worker mm10__refseq-r80__10kb_up_and_down_tss.mc9nr.genes_vs_motifs.rankings(6): Done.\n",
      "\n",
      "2025-04-01 22:57:14,056 - pyscenic.prune - INFO - Worker mm10__refseq-r80__500bp_up_and_100bp_down_tss.mc9nr.genes_vs_motifs.rankings(5): All regulons derived.\n",
      "\n",
      "2025-04-01 22:57:14,056 - pyscenic.prune - INFO - Worker mm10__refseq-r80__500bp_up_and_100bp_down_tss.mc9nr.genes_vs_motifs.rankings(5): All regulons derived.\n",
      "\n",
      "2025-04-01 22:57:14,160 - pyscenic.prune - INFO - Worker mm10__refseq-r80__500bp_up_and_100bp_down_tss.mc9nr.genes_vs_motifs.rankings(5): Done.\n",
      "\n",
      "2025-04-01 22:57:14,160 - pyscenic.prune - INFO - Worker mm10__refseq-r80__500bp_up_and_100bp_down_tss.mc9nr.genes_vs_motifs.rankings(5): Done.\n",
      "\n",
      "2025-04-01 22:57:16,037 - pyscenic.prune - INFO - Worker mm10__refseq-r80__10kb_up_and_down_tss.mc9nr.genes_vs_motifs.rankings(4): All regulons derived.\n",
      "\n",
      "2025-04-01 22:57:16,037 - pyscenic.prune - INFO - Worker mm10__refseq-r80__10kb_up_and_down_tss.mc9nr.genes_vs_motifs.rankings(4): All regulons derived.\n",
      "\n",
      "2025-04-01 22:57:16,100 - pyscenic.prune - INFO - Worker mm10__refseq-r80__10kb_up_and_down_tss.mc9nr.genes_vs_motifs.rankings(4): Done.\n",
      "\n",
      "2025-04-01 22:57:16,100 - pyscenic.prune - INFO - Worker mm10__refseq-r80__10kb_up_and_down_tss.mc9nr.genes_vs_motifs.rankings(4): Done.\n",
      "\n",
      "2025-04-01 22:58:07,633 - pyscenic.prune - INFO - Worker mm10__refseq-r80__10kb_up_and_down_tss.mc9nr.genes_vs_motifs.rankings(7): All regulons derived.\n",
      "\n",
      "2025-04-01 22:58:07,633 - pyscenic.prune - INFO - Worker mm10__refseq-r80__10kb_up_and_down_tss.mc9nr.genes_vs_motifs.rankings(7): All regulons derived.\n",
      "\n",
      "2025-04-01 22:58:07,861 - pyscenic.prune - INFO - Worker mm10__refseq-r80__500bp_up_and_100bp_down_tss.mc9nr.genes_vs_motifs.rankings(1): All regulons derived.\n",
      "\n",
      "2025-04-01 22:58:07,861 - pyscenic.prune - INFO - Worker mm10__refseq-r80__500bp_up_and_100bp_down_tss.mc9nr.genes_vs_motifs.rankings(1): All regulons derived.\n",
      "\n",
      "2025-04-01 22:58:07,964 - pyscenic.prune - INFO - Worker mm10__refseq-r80__10kb_up_and_down_tss.mc9nr.genes_vs_motifs.rankings(7): Done.\n",
      "\n",
      "2025-04-01 22:58:07,964 - pyscenic.prune - INFO - Worker mm10__refseq-r80__10kb_up_and_down_tss.mc9nr.genes_vs_motifs.rankings(7): Done.\n",
      "\n",
      "2025-04-01 22:58:08,069 - pyscenic.prune - INFO - Worker mm10__refseq-r80__500bp_up_and_100bp_down_tss.mc9nr.genes_vs_motifs.rankings(1): Done.\n",
      "\n",
      "2025-04-01 22:58:08,069 - pyscenic.prune - INFO - Worker mm10__refseq-r80__500bp_up_and_100bp_down_tss.mc9nr.genes_vs_motifs.rankings(1): Done.\n",
      "\n",
      "2025-04-01 22:58:24,476 - pyscenic.prune - INFO - Worker mm10__refseq-r80__500bp_up_and_100bp_down_tss.mc9nr.genes_vs_motifs.rankings(8): All regulons derived.\n",
      "\n",
      "2025-04-01 22:58:24,476 - pyscenic.prune - INFO - Worker mm10__refseq-r80__500bp_up_and_100bp_down_tss.mc9nr.genes_vs_motifs.rankings(8): All regulons derived.\n",
      "\n",
      "2025-04-01 22:58:24,681 - pyscenic.prune - INFO - Worker mm10__refseq-r80__500bp_up_and_100bp_down_tss.mc9nr.genes_vs_motifs.rankings(8): Done.\n",
      "\n",
      "2025-04-01 22:58:24,681 - pyscenic.prune - INFO - Worker mm10__refseq-r80__500bp_up_and_100bp_down_tss.mc9nr.genes_vs_motifs.rankings(8): Done.\n",
      "\n",
      "2025-04-01 22:59:20,421 - pyscenic.prune - INFO - Worker mm10__refseq-r80__500bp_up_and_100bp_down_tss.mc9nr.genes_vs_motifs.rankings(3): All regulons derived.\n",
      "\n",
      "2025-04-01 22:59:20,421 - pyscenic.prune - INFO - Worker mm10__refseq-r80__500bp_up_and_100bp_down_tss.mc9nr.genes_vs_motifs.rankings(3): All regulons derived.\n",
      "\n",
      "2025-04-01 22:59:20,545 - pyscenic.prune - INFO - Worker mm10__refseq-r80__500bp_up_and_100bp_down_tss.mc9nr.genes_vs_motifs.rankings(3): Done.\n",
      "\n",
      "2025-04-01 22:59:20,545 - pyscenic.prune - INFO - Worker mm10__refseq-r80__500bp_up_and_100bp_down_tss.mc9nr.genes_vs_motifs.rankings(3): Done.\n",
      "\n",
      "2025-04-01 22:59:37,318 - pyscenic.prune - INFO - Worker mm10__refseq-r80__10kb_up_and_down_tss.mc9nr.genes_vs_motifs.rankings(1): All regulons derived.\n",
      "\n",
      "2025-04-01 22:59:37,318 - pyscenic.prune - INFO - Worker mm10__refseq-r80__10kb_up_and_down_tss.mc9nr.genes_vs_motifs.rankings(1): All regulons derived.\n",
      "\n",
      "2025-04-01 22:59:37,521 - pyscenic.prune - INFO - Worker mm10__refseq-r80__10kb_up_and_down_tss.mc9nr.genes_vs_motifs.rankings(1): Done.\n",
      "\n",
      "2025-04-01 22:59:37,521 - pyscenic.prune - INFO - Worker mm10__refseq-r80__10kb_up_and_down_tss.mc9nr.genes_vs_motifs.rankings(1): Done.\n",
      "\n",
      "2025-04-01 22:59:39,866 - pyscenic.prune - INFO - Worker mm10__refseq-r80__500bp_up_and_100bp_down_tss.mc9nr.genes_vs_motifs.rankings(10): All regulons derived.\n",
      "\n",
      "2025-04-01 22:59:39,866 - pyscenic.prune - INFO - Worker mm10__refseq-r80__500bp_up_and_100bp_down_tss.mc9nr.genes_vs_motifs.rankings(10): All regulons derived.\n",
      "\n",
      "2025-04-01 22:59:40,442 - pyscenic.prune - INFO - Worker mm10__refseq-r80__500bp_up_and_100bp_down_tss.mc9nr.genes_vs_motifs.rankings(10): Done.\n",
      "\n",
      "2025-04-01 22:59:40,442 - pyscenic.prune - INFO - Worker mm10__refseq-r80__500bp_up_and_100bp_down_tss.mc9nr.genes_vs_motifs.rankings(10): Done.\n",
      "\n",
      "2025-04-01 22:59:51,554 - pyscenic.prune - INFO - Worker mm10__refseq-r80__10kb_up_and_down_tss.mc9nr.genes_vs_motifs.rankings(8): All regulons derived.\n",
      "\n",
      "2025-04-01 22:59:51,554 - pyscenic.prune - INFO - Worker mm10__refseq-r80__10kb_up_and_down_tss.mc9nr.genes_vs_motifs.rankings(8): All regulons derived.\n",
      "\n",
      "2025-04-01 22:59:51,748 - pyscenic.prune - INFO - Worker mm10__refseq-r80__10kb_up_and_down_tss.mc9nr.genes_vs_motifs.rankings(8): Done.\n",
      "\n",
      "2025-04-01 22:59:51,748 - pyscenic.prune - INFO - Worker mm10__refseq-r80__10kb_up_and_down_tss.mc9nr.genes_vs_motifs.rankings(8): Done.\n",
      "\n",
      "2025-04-01 22:59:51,886 - pyscenic.prune - INFO - Worker mm10__refseq-r80__10kb_up_and_down_tss.mc9nr.genes_vs_motifs.rankings(5): All regulons derived.\n",
      "\n",
      "2025-04-01 22:59:51,886 - pyscenic.prune - INFO - Worker mm10__refseq-r80__10kb_up_and_down_tss.mc9nr.genes_vs_motifs.rankings(5): All regulons derived.\n",
      "\n",
      "2025-04-01 22:59:51,936 - pyscenic.prune - INFO - Worker mm10__refseq-r80__10kb_up_and_down_tss.mc9nr.genes_vs_motifs.rankings(5): Done.\n",
      "\n",
      "2025-04-01 22:59:51,936 - pyscenic.prune - INFO - Worker mm10__refseq-r80__10kb_up_and_down_tss.mc9nr.genes_vs_motifs.rankings(5): Done.\n",
      "\n",
      "2025-04-01 23:00:55,142 - pyscenic.prune - INFO - Worker mm10__refseq-r80__10kb_up_and_down_tss.mc9nr.genes_vs_motifs.rankings(10): All regulons derived.\n",
      "\n",
      "2025-04-01 23:00:55,142 - pyscenic.prune - INFO - Worker mm10__refseq-r80__10kb_up_and_down_tss.mc9nr.genes_vs_motifs.rankings(10): All regulons derived.\n",
      "\n",
      "2025-04-01 23:00:55,730 - pyscenic.prune - INFO - Worker mm10__refseq-r80__10kb_up_and_down_tss.mc9nr.genes_vs_motifs.rankings(10): Done.\n",
      "\n",
      "2025-04-01 23:00:55,730 - pyscenic.prune - INFO - Worker mm10__refseq-r80__10kb_up_and_down_tss.mc9nr.genes_vs_motifs.rankings(10): Done.\n",
      "\n",
      "2025-04-01 23:01:23,673 - pyscenic.prune - INFO - Worker mm10__refseq-r80__10kb_up_and_down_tss.mc9nr.genes_vs_motifs.rankings(3): All regulons derived.\n",
      "\n",
      "2025-04-01 23:01:23,673 - pyscenic.prune - INFO - Worker mm10__refseq-r80__10kb_up_and_down_tss.mc9nr.genes_vs_motifs.rankings(3): All regulons derived.\n",
      "\n",
      "2025-04-01 23:01:23,795 - pyscenic.prune - INFO - Worker mm10__refseq-r80__10kb_up_and_down_tss.mc9nr.genes_vs_motifs.rankings(3): Done.\n",
      "\n",
      "2025-04-01 23:01:23,795 - pyscenic.prune - INFO - Worker mm10__refseq-r80__10kb_up_and_down_tss.mc9nr.genes_vs_motifs.rankings(3): Done.\n",
      "\n",
      "2025-04-01 23:01:24,866 - pyscenic.cli.pyscenic - INFO - Writing results to file.\n",
      "\u001b[0m"
     ]
    }
   ],
   "source": [
    "!pyscenic ctx adj_path \\\n",
    "    {f_db_names} \\\n",
    "    --annotations_fname {f_motif_path} \\\n",
    "    --expression_mtx_fname {f_loom_path_scenic} \\\n",
    "    --output {regulon_path} \\\n",
    "    --all_modules \\\n",
    "    --num_workers 30"
   ]
  },
  {
   "cell_type": "code",
   "execution_count": 15,
   "id": "a6d9128c-1ec5-441e-b240-2ade56f58b09",
   "metadata": {
    "tags": []
   },
   "outputs": [],
   "source": [
    "f_pyscenic_output = DATA_DIR / DATASET / \"processed\" / \"scenic\" / \"pyscenic_output_stage_2_all_regulons.loom\""
   ]
  },
  {
   "cell_type": "code",
   "execution_count": 16,
   "id": "2807c322-9aa2-408d-ab9e-82055425b9d5",
   "metadata": {
    "tags": []
   },
   "outputs": [
    {
     "name": "stdout",
     "output_type": "stream",
     "text": [
      "\n",
      "2025-04-01 23:04:07,877 - pyscenic.cli.pyscenic - INFO - Loading expression matrix.\n",
      "\n",
      "2025-04-01 23:04:16,489 - pyscenic.cli.pyscenic - INFO - Loading gene signatures.\n",
      "Create regulons from a dataframe of enriched features.\n",
      "Additional columns saved: []\n",
      "\n",
      "2025-04-01 23:04:32,049 - pyscenic.cli.pyscenic - INFO - Calculating cellular enrichment.\n",
      "\n",
      "2025-04-01 23:05:21,417 - pyscenic.cli.pyscenic - INFO - Writing results to file.\n",
      "\u001b[0m"
     ]
    }
   ],
   "source": [
    "!pyscenic aucell \\\n",
    "    {f_loom_path_scenic} \\\n",
    "    {regulon_path} \\\n",
    "    --output {f_pyscenic_output} \\\n",
    "    --num_workers 2"
   ]
  },
  {
   "cell_type": "code",
   "execution_count": 17,
   "id": "04dbfac8-6d4c-4540-96fe-5017696b67f5",
   "metadata": {
    "tags": []
   },
   "outputs": [],
   "source": [
    "lf = lp.connect(f_pyscenic_output, mode=\"r+\", validate=False)\n",
    "exprMat = pd.DataFrame(lf[:, :], index=lf.ra.Gene, columns=lf.ca.CellID)\n",
    "auc_mtx = pd.DataFrame(lf.ca.RegulonsAUC, index=lf.ca.CellID)\n",
    "regulons = lf.ra.Regulons"
   ]
  },
  {
   "cell_type": "code",
   "execution_count": 18,
   "id": "0b7869c5-afec-4732-93a4-edf649e06a78",
   "metadata": {
    "tags": []
   },
   "outputs": [],
   "source": [
    "res = pd.concat([pd.Series(r.tolist(), index=regulons.dtype.names) for r in regulons], axis=1)"
   ]
  },
  {
   "cell_type": "code",
   "execution_count": 19,
   "id": "6acf0aa8-e746-433c-a088-bde810c1f004",
   "metadata": {
    "tags": []
   },
   "outputs": [],
   "source": [
    "res.columns = lf.row_attrs[\"var_names\"]"
   ]
  },
  {
   "cell_type": "markdown",
   "id": "3b8c6509-3a46-4ef6-8f1d-98ad45df349b",
   "metadata": {},
   "source": [
    "## Save data"
   ]
  },
  {
   "cell_type": "code",
   "execution_count": 20,
   "id": "39f1edcd-364c-4e1f-b8b5-f36fd56ce186",
   "metadata": {
    "tags": []
   },
   "outputs": [],
   "source": [
    "if SAVE_DATA:\n",
    "    res.to_csv(DATA_DIR / DATASET / \"processed\" / \"regulon_mat_stage_2_all_regulons.csv\")"
   ]
  },
  {
   "cell_type": "code",
   "execution_count": null,
   "id": "6918034b-596d-40b9-ade4-224c54a0050b",
   "metadata": {},
   "outputs": [],
   "source": []
  }
 ],
 "metadata": {
  "kernelspec": {
   "display_name": "Python [conda env:pyscenic]",
   "language": "python",
   "name": "conda-env-pyscenic-py"
  },
  "language_info": {
   "codemirror_mode": {
    "name": "ipython",
    "version": 3
   },
   "file_extension": ".py",
   "mimetype": "text/x-python",
   "name": "python",
   "nbconvert_exporter": "python",
   "pygments_lexer": "ipython3",
   "version": "3.10.16"
  }
 },
 "nbformat": 4,
 "nbformat_minor": 5
}
