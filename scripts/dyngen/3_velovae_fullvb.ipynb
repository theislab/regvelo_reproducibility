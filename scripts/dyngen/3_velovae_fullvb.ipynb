{
 "cells": [
  {
   "cell_type": "markdown",
   "id": "0a1042cd",
   "metadata": {},
   "source": [
    "# VeloVAE (fullvb) benchmark on dyngen data\n",
    "\n",
    "Notebook benchmarks velocity and latent time inference using VeloVAE (fullvb) on dyngen-generated data."
   ]
  },
  {
   "cell_type": "markdown",
   "id": "a486fec1",
   "metadata": {},
   "source": [
    "## Library imports"
   ]
  },
  {
   "cell_type": "code",
   "execution_count": 1,
   "id": "fd119f55-1837-43ca-8368-e12c55652f2b",
   "metadata": {},
   "outputs": [
    {
     "name": "stderr",
     "output_type": "stream",
     "text": [
      "/home/icb/yifan.chen/miniconda3/envs/regvelo-py310-velovae/lib/python3.10/site-packages/velovae/model/model_util.py:12: TqdmExperimentalWarning: Using `tqdm.autonotebook.tqdm` in notebook mode. Use `tqdm.tqdm` instead to force console mode (e.g. in jupyter console)\n",
      "  from tqdm.autonotebook import trange\n"
     ]
    }
   ],
   "source": [
    "import velovae as vv\n",
    "\n",
    "import numpy as np\n",
    "import pandas as pd\n",
    "import torch\n",
    "\n",
    "import anndata as ad\n",
    "import scvelo as scv\n",
    "\n",
    "from rgv_tools import DATA_DIR\n",
    "from rgv_tools.benchmarking import get_velocity_correlation"
   ]
  },
  {
   "cell_type": "markdown",
   "id": "28749b2f-2a8b-43ec-a5f7-1a7b87aac913",
   "metadata": {},
   "source": [
    "## General settings"
   ]
  },
  {
   "cell_type": "code",
   "execution_count": 2,
   "id": "0d0ff0d0-e885-4d6d-8a8c-70b41d5b4ecc",
   "metadata": {},
   "outputs": [],
   "source": [
    "scv.settings.verbosity = 3"
   ]
  },
  {
   "cell_type": "code",
   "execution_count": 3,
   "id": "55876876-47ba-4f5f-85f5-d5815d0efd17",
   "metadata": {},
   "outputs": [],
   "source": [
    "COMPLEXITY = \"complexity_1\""
   ]
  },
  {
   "cell_type": "markdown",
   "id": "e2670fad",
   "metadata": {},
   "source": [
    "## Constants"
   ]
  },
  {
   "cell_type": "code",
   "execution_count": 4,
   "id": "b01ecc10-c241-4272-89d3-6354eb587caa",
   "metadata": {},
   "outputs": [],
   "source": [
    "torch.manual_seed(0)\n",
    "np.random.seed(0)"
   ]
  },
  {
   "cell_type": "code",
   "execution_count": 5,
   "id": "4049808f",
   "metadata": {},
   "outputs": [],
   "source": [
    "DATASET = \"dyngen\""
   ]
  },
  {
   "cell_type": "code",
   "execution_count": 6,
   "id": "af9f4b90",
   "metadata": {},
   "outputs": [],
   "source": [
    "SAVE_DATA = True\n",
    "if SAVE_DATA:\n",
    "    (DATA_DIR / DATASET / COMPLEXITY / \"results\").mkdir(parents=True, exist_ok=True)\n",
    "    (DATA_DIR / DATASET / COMPLEXITY / \"processed\" / \"velovae_fullvb_vae\").mkdir(parents=True, exist_ok=True)"
   ]
  },
  {
   "cell_type": "code",
   "execution_count": 7,
   "id": "b2a31f87-3034-4d58-8dd9-69ffd62c5dd9",
   "metadata": {},
   "outputs": [],
   "source": [
    "SAVE_DATASETS = True\n",
    "if SAVE_DATASETS:\n",
    "    (DATA_DIR / DATASET / COMPLEXITY / \"trained_velovae_fullvb\").mkdir(parents=True, exist_ok=True)"
   ]
  },
  {
   "cell_type": "markdown",
   "id": "a52d5add-d75b-4e84-8336-e9632460a818",
   "metadata": {},
   "source": [
    "## Velocity pipeline"
   ]
  },
  {
   "cell_type": "code",
   "execution_count": 8,
   "id": "ba75641e",
   "metadata": {
    "scrolled": true,
    "tags": []
   },
   "outputs": [
    {
     "name": "stdout",
     "output_type": "stream",
     "text": [
      "Run 0, file /ictstr01/groups/ml01/workspace/yifan.chen/regvelo_reproducibility/data/dyngen/complexity_1/processed/simulation_29.zarr.\n",
      "Estimating ODE parameters...\n"
     ]
    },
    {
     "data": {
      "application/json": {
       "ascii": false,
       "bar_format": null,
       "colour": null,
       "elapsed": 0.004786968231201172,
       "initial": 0,
       "n": 0,
       "ncols": null,
       "nrows": null,
       "postfix": null,
       "prefix": "",
       "rate": null,
       "total": 362,
       "unit": "it",
       "unit_divisor": 1000,
       "unit_scale": false
      },
      "application/vnd.jupyter.widget-view+json": {
       "model_id": "31e7477f1cf4432ca3a4fdc647b1c4a9",
       "version_major": 2,
       "version_minor": 0
      },
      "text/plain": [
       "  0%|          | 0/362 [00:00<?, ?it/s]"
      ]
     },
     "metadata": {},
     "output_type": "display_data"
    },
    {
     "name": "stdout",
     "output_type": "stream",
     "text": [
      "Detected 347 velocity genes.\n",
      "Estimating the variance...\n"
     ]
    },
    {
     "data": {
      "application/json": {
       "ascii": false,
       "bar_format": null,
       "colour": null,
       "elapsed": 0.00276947021484375,
       "initial": 0,
       "n": 0,
       "ncols": null,
       "nrows": null,
       "postfix": null,
       "prefix": "",
       "rate": null,
       "total": 362,
       "unit": "it",
       "unit_divisor": 1000,
       "unit_scale": false
      },
      "application/vnd.jupyter.widget-view+json": {
       "model_id": "eaa1b5f11b354b87a5bff2f1d7ea5765",
       "version_major": 2,
       "version_minor": 0
      },
      "text/plain": [
       "  0%|          | 0/362 [00:00<?, ?it/s]"
      ]
     },
     "metadata": {},
     "output_type": "display_data"
    },
    {
     "name": "stdout",
     "output_type": "stream",
     "text": [
      "Initialization using the steady-state and dynamical models.\n",
      "Reinitialize the regular ODE parameters based on estimated global latent time.\n"
     ]
    },
    {
     "data": {
      "application/json": {
       "ascii": false,
       "bar_format": null,
       "colour": null,
       "elapsed": 0.002830982208251953,
       "initial": 0,
       "n": 0,
       "ncols": null,
       "nrows": null,
       "postfix": null,
       "prefix": "",
       "rate": null,
       "total": 362,
       "unit": "it",
       "unit_divisor": 1000,
       "unit_scale": false
      },
      "application/vnd.jupyter.widget-view+json": {
       "model_id": "5ee90107968c4df89bef8ceebc6cd781",
       "version_major": 2,
       "version_minor": 0
      },
      "text/plain": [
       "  0%|          | 0/362 [00:00<?, ?it/s]"
      ]
     },
     "metadata": {},
     "output_type": "display_data"
    },
    {
     "name": "stdout",
     "output_type": "stream",
     "text": [
      "3 clusters detected based on gene co-expression.\n",
      "KS-test result: [1. 1. 1.]\n",
      "Assign cluster 1 to repressive\n",
      "Initial induction: 245, repression: 117/362\n",
      "Learning Rate based on Data Sparsity: 0.0003\n",
      "--------------------------- Train a VeloVAE ---------------------------\n",
      "*********        Creating Training/Validation Datasets        *********\n",
      "*********                      Finished.                      *********\n",
      "*********                 Creating optimizers                 *********\n",
      "*********                      Finished.                      *********\n",
      "*********                    Start training                   *********\n",
      "*********                      Stage  1                       *********\n",
      "Total Number of Iterations Per Epoch: 6, test iteration: 10\n",
      "*********       Stage 1: Early Stop Triggered at epoch 314.       *********\n",
      "*********                      Stage  2                       *********\n",
      "*********             Velocity Refinement Round 1             *********\n"
     ]
    },
    {
     "data": {
      "application/json": {
       "ascii": false,
       "bar_format": null,
       "colour": null,
       "elapsed": 0.07317686080932617,
       "initial": 0,
       "n": 0,
       "ncols": null,
       "nrows": null,
       "postfix": null,
       "prefix": "",
       "rate": null,
       "total": 1000,
       "unit": "it",
       "unit_divisor": 1000,
       "unit_scale": false
      },
      "application/vnd.jupyter.widget-view+json": {
       "model_id": "a9758afbb98d4b5f877b2bf2de477f46",
       "version_major": 2,
       "version_minor": 0
      },
      "text/plain": [
       "  0%|          | 0/1000 [00:00<?, ?it/s]"
      ]
     },
     "metadata": {},
     "output_type": "display_data"
    },
    {
     "name": "stdout",
     "output_type": "stream",
     "text": [
      "Percentage of Invalid Sets: 0.147\n",
      "Average Set Size: 21\n",
      "*********     Round 1: Early Stop Triggered at epoch 530.    *********\n",
      "Change in noise variance: 0.0336\n",
      "*********             Velocity Refinement Round 2             *********\n",
      "*********     Round 2: Early Stop Triggered at epoch 579.    *********\n",
      "Change in noise variance: 0.0112\n",
      "Change in x0: 0.4009\n",
      "*********             Velocity Refinement Round 3             *********\n",
      "*********     Round 3: Early Stop Triggered at epoch 605.    *********\n",
      "Change in noise variance: 0.0027\n",
      "Change in x0: 0.2125\n",
      "*********             Velocity Refinement Round 4             *********\n",
      "*********     Round 4: Early Stop Triggered at epoch 631.    *********\n",
      "Change in noise variance: 0.0019\n",
      "Change in x0: 0.1521\n",
      "*********             Velocity Refinement Round 5             *********\n",
      "*********     Round 5: Early Stop Triggered at epoch 638.    *********\n",
      "Change in noise variance: 0.0005\n",
      "Change in x0: 0.1149\n",
      "*********             Velocity Refinement Round 6             *********\n",
      "*********     Round 6: Early Stop Triggered at epoch 669.    *********\n",
      "Change in noise variance: 0.0000\n",
      "Change in x0: 0.1100\n",
      "*********             Velocity Refinement Round 7             *********\n",
      "Stage 2: Early Stop Triggered at round 6.\n",
      "*********              Finished. Total Time =   0 h :  1 m : 14 s             *********\n",
      "Final: Train ELBO = 449.825,\tTest ELBO = 438.798\n",
      "Run 1, file /ictstr01/groups/ml01/workspace/yifan.chen/regvelo_reproducibility/data/dyngen/complexity_1/processed/simulation_14.zarr.\n",
      "Estimating ODE parameters...\n"
     ]
    },
    {
     "data": {
      "application/json": {
       "ascii": false,
       "bar_format": null,
       "colour": null,
       "elapsed": 0.003390789031982422,
       "initial": 0,
       "n": 0,
       "ncols": null,
       "nrows": null,
       "postfix": null,
       "prefix": "",
       "rate": null,
       "total": 664,
       "unit": "it",
       "unit_divisor": 1000,
       "unit_scale": false
      },
      "application/vnd.jupyter.widget-view+json": {
       "model_id": "ee0443f7e4ac408c9025038be8c24f77",
       "version_major": 2,
       "version_minor": 0
      },
      "text/plain": [
       "  0%|          | 0/664 [00:00<?, ?it/s]"
      ]
     },
     "metadata": {},
     "output_type": "display_data"
    },
    {
     "name": "stdout",
     "output_type": "stream",
     "text": [
      "Detected 594 velocity genes.\n",
      "Estimating the variance...\n"
     ]
    },
    {
     "data": {
      "application/json": {
       "ascii": false,
       "bar_format": null,
       "colour": null,
       "elapsed": 0.012112617492675781,
       "initial": 0,
       "n": 0,
       "ncols": null,
       "nrows": null,
       "postfix": null,
       "prefix": "",
       "rate": null,
       "total": 664,
       "unit": "it",
       "unit_divisor": 1000,
       "unit_scale": false
      },
      "application/vnd.jupyter.widget-view+json": {
       "model_id": "9a2abad305094a569e4a4e69afe6d19f",
       "version_major": 2,
       "version_minor": 0
      },
      "text/plain": [
       "  0%|          | 0/664 [00:00<?, ?it/s]"
      ]
     },
     "metadata": {},
     "output_type": "display_data"
    },
    {
     "name": "stdout",
     "output_type": "stream",
     "text": [
      "Initialization using the steady-state and dynamical models.\n",
      "Reinitialize the regular ODE parameters based on estimated global latent time.\n"
     ]
    },
    {
     "data": {
      "application/json": {
       "ascii": false,
       "bar_format": null,
       "colour": null,
       "elapsed": 0.0030927658081054688,
       "initial": 0,
       "n": 0,
       "ncols": null,
       "nrows": null,
       "postfix": null,
       "prefix": "",
       "rate": null,
       "total": 664,
       "unit": "it",
       "unit_divisor": 1000,
       "unit_scale": false
      },
      "application/vnd.jupyter.widget-view+json": {
       "model_id": "d1cc03513cf94851b18f76c9ac90ccf6",
       "version_major": 2,
       "version_minor": 0
      },
      "text/plain": [
       "  0%|          | 0/664 [00:00<?, ?it/s]"
      ]
     },
     "metadata": {},
     "output_type": "display_data"
    },
    {
     "name": "stdout",
     "output_type": "stream",
     "text": [
      "3 clusters detected based on gene co-expression.\n",
      "(0.48, 0.8228239539949498), (0.52, 0.3684353137855576)\n",
      "KS-test result: [0. 1. 1.]\n",
      "Initial induction: 484, repression: 180/664\n",
      "Learning Rate based on Data Sparsity: 0.0001\n",
      "--------------------------- Train a VeloVAE ---------------------------\n",
      "*********        Creating Training/Validation Datasets        *********\n",
      "*********                      Finished.                      *********\n",
      "*********                 Creating optimizers                 *********\n",
      "*********                      Finished.                      *********\n",
      "*********                    Start training                   *********\n",
      "*********                      Stage  1                       *********\n",
      "Total Number of Iterations Per Epoch: 6, test iteration: 10\n",
      "*********       Stage 1: Early Stop Triggered at epoch 219.       *********\n",
      "*********                      Stage  2                       *********\n",
      "*********             Velocity Refinement Round 1             *********\n"
     ]
    },
    {
     "data": {
      "application/json": {
       "ascii": false,
       "bar_format": null,
       "colour": null,
       "elapsed": 0.0036275386810302734,
       "initial": 0,
       "n": 0,
       "ncols": null,
       "nrows": null,
       "postfix": null,
       "prefix": "",
       "rate": null,
       "total": 1000,
       "unit": "it",
       "unit_divisor": 1000,
       "unit_scale": false
      },
      "application/vnd.jupyter.widget-view+json": {
       "model_id": "e85f4f1c80914475b8829bb322337444",
       "version_major": 2,
       "version_minor": 0
      },
      "text/plain": [
       "  0%|          | 0/1000 [00:00<?, ?it/s]"
      ]
     },
     "metadata": {},
     "output_type": "display_data"
    },
    {
     "name": "stdout",
     "output_type": "stream",
     "text": [
      "Percentage of Invalid Sets: 0.034\n",
      "Average Set Size: 49\n",
      "*********     Round 1: Early Stop Triggered at epoch 611.    *********\n",
      "Change in noise variance: 0.1225\n",
      "*********             Velocity Refinement Round 2             *********\n",
      "*********     Round 2: Early Stop Triggered at epoch 667.    *********\n",
      "Change in noise variance: 0.0119\n",
      "Change in x0: 1.1951\n",
      "*********             Velocity Refinement Round 3             *********\n",
      "*********     Round 3: Early Stop Triggered at epoch 731.    *********\n",
      "Change in noise variance: 0.0223\n",
      "Change in x0: 0.4867\n",
      "*********             Velocity Refinement Round 4             *********\n",
      "*********     Round 4: Early Stop Triggered at epoch 765.    *********\n",
      "Change in noise variance: 0.0057\n",
      "Change in x0: 0.2543\n",
      "*********             Velocity Refinement Round 5             *********\n",
      "*********     Round 5: Early Stop Triggered at epoch 792.    *********\n",
      "Change in noise variance: 0.0003\n",
      "Change in x0: 0.1477\n",
      "*********             Velocity Refinement Round 6             *********\n",
      "*********     Round 6: Early Stop Triggered at epoch 843.    *********\n",
      "Change in noise variance: 0.0000\n",
      "Change in x0: 0.1231\n",
      "*********             Velocity Refinement Round 7             *********\n",
      "*********     Round 7: Early Stop Triggered at epoch 885.    *********\n",
      "Change in noise variance: 0.0000\n",
      "Change in x0: 0.1125\n",
      "*********             Velocity Refinement Round 8             *********\n",
      "*********     Round 8: Early Stop Triggered at epoch 904.    *********\n",
      "Change in noise variance: 0.0000\n",
      "Change in x0: 0.0999\n",
      "*********             Velocity Refinement Round 9             *********\n",
      "*********     Round 9: Early Stop Triggered at epoch 951.    *********\n",
      "Change in noise variance: 0.0000\n",
      "Change in x0: 0.0826\n",
      "*********             Velocity Refinement Round 10             *********\n",
      "*********     Round 10: Early Stop Triggered at epoch 1020.    *********\n",
      "Change in noise variance: 0.0000\n",
      "Change in x0: 0.0774\n",
      "*********             Velocity Refinement Round 11             *********\n",
      "Stage 2: Early Stop Triggered at round 10.\n",
      "*********              Finished. Total Time =   0 h :  1 m : 21 s             *********\n",
      "Final: Train ELBO = -328.411,\tTest ELBO = -399.075\n",
      "Run 2, file /ictstr01/groups/ml01/workspace/yifan.chen/regvelo_reproducibility/data/dyngen/complexity_1/processed/simulation_24.zarr.\n",
      "Estimating ODE parameters...\n"
     ]
    },
    {
     "data": {
      "application/json": {
       "ascii": false,
       "bar_format": null,
       "colour": null,
       "elapsed": 0.003474712371826172,
       "initial": 0,
       "n": 0,
       "ncols": null,
       "nrows": null,
       "postfix": null,
       "prefix": "",
       "rate": null,
       "total": 726,
       "unit": "it",
       "unit_divisor": 1000,
       "unit_scale": false
      },
      "application/vnd.jupyter.widget-view+json": {
       "model_id": "8c8ecfec78304b1391137e7c50e3b8af",
       "version_major": 2,
       "version_minor": 0
      },
      "text/plain": [
       "  0%|          | 0/726 [00:00<?, ?it/s]"
      ]
     },
     "metadata": {},
     "output_type": "display_data"
    },
    {
     "name": "stdout",
     "output_type": "stream",
     "text": [
      "Detected 461 velocity genes.\n",
      "Estimating the variance...\n"
     ]
    },
    {
     "data": {
      "application/json": {
       "ascii": false,
       "bar_format": null,
       "colour": null,
       "elapsed": 0.007534980773925781,
       "initial": 0,
       "n": 0,
       "ncols": null,
       "nrows": null,
       "postfix": null,
       "prefix": "",
       "rate": null,
       "total": 726,
       "unit": "it",
       "unit_divisor": 1000,
       "unit_scale": false
      },
      "application/vnd.jupyter.widget-view+json": {
       "model_id": "a2eb2a111bf54336ab83b098cb69221c",
       "version_major": 2,
       "version_minor": 0
      },
      "text/plain": [
       "  0%|          | 0/726 [00:00<?, ?it/s]"
      ]
     },
     "metadata": {},
     "output_type": "display_data"
    },
    {
     "name": "stdout",
     "output_type": "stream",
     "text": [
      "Initialization using the steady-state and dynamical models.\n",
      "Reinitialize the regular ODE parameters based on estimated global latent time.\n"
     ]
    },
    {
     "data": {
      "application/json": {
       "ascii": false,
       "bar_format": null,
       "colour": null,
       "elapsed": 0.002899169921875,
       "initial": 0,
       "n": 0,
       "ncols": null,
       "nrows": null,
       "postfix": null,
       "prefix": "",
       "rate": null,
       "total": 726,
       "unit": "it",
       "unit_divisor": 1000,
       "unit_scale": false
      },
      "application/vnd.jupyter.widget-view+json": {
       "model_id": "bc89351aa7c54a13a6b05e372544db24",
       "version_major": 2,
       "version_minor": 0
      },
      "text/plain": [
       "  0%|          | 0/726 [00:00<?, ?it/s]"
      ]
     },
     "metadata": {},
     "output_type": "display_data"
    },
    {
     "name": "stdout",
     "output_type": "stream",
     "text": [
      "3 clusters detected based on gene co-expression.\n",
      "(0.59, 0.7142859350405649), (0.41, 0.232624469824922)\n",
      "(0.52, 0.8547149661103973), (0.48, 0.31938394948827814)\n",
      "KS-test result: [0. 0. 1.]\n",
      "Initial induction: 431, repression: 295/726\n",
      "Learning Rate based on Data Sparsity: 0.0000\n",
      "--------------------------- Train a VeloVAE ---------------------------\n",
      "*********        Creating Training/Validation Datasets        *********\n",
      "*********                      Finished.                      *********\n",
      "*********                 Creating optimizers                 *********\n",
      "*********                      Finished.                      *********\n",
      "*********                    Start training                   *********\n",
      "*********                      Stage  1                       *********\n",
      "Total Number of Iterations Per Epoch: 6, test iteration: 10\n",
      "*********       Stage 1: Early Stop Triggered at epoch 9.       *********\n",
      "*********                      Stage  2                       *********\n",
      "*********             Velocity Refinement Round 1             *********\n"
     ]
    },
    {
     "data": {
      "application/json": {
       "ascii": false,
       "bar_format": null,
       "colour": null,
       "elapsed": 0.003139495849609375,
       "initial": 0,
       "n": 0,
       "ncols": null,
       "nrows": null,
       "postfix": null,
       "prefix": "",
       "rate": null,
       "total": 1000,
       "unit": "it",
       "unit_divisor": 1000,
       "unit_scale": false
      },
      "application/vnd.jupyter.widget-view+json": {
       "model_id": "be9811b1cc7a49fcad561e60a0894f86",
       "version_major": 2,
       "version_minor": 0
      },
      "text/plain": [
       "  0%|          | 0/1000 [00:00<?, ?it/s]"
      ]
     },
     "metadata": {},
     "output_type": "display_data"
    },
    {
     "name": "stdout",
     "output_type": "stream",
     "text": [
      "Percentage of Invalid Sets: 0.027\n",
      "Average Set Size: 20\n",
      "*********     Round 1: Early Stop Triggered at epoch 18.    *********\n",
      "Change in noise variance: 0.2489\n",
      "*********             Velocity Refinement Round 2             *********\n",
      "*********     Round 2: Early Stop Triggered at epoch 27.    *********\n",
      "Change in noise variance: 0.0050\n",
      "Change in x0: 0.7320\n",
      "*********             Velocity Refinement Round 3             *********\n",
      "*********     Round 3: Early Stop Triggered at epoch 36.    *********\n",
      "Change in noise variance: 0.0006\n",
      "Change in x0: 0.4852\n",
      "*********             Velocity Refinement Round 4             *********\n",
      "*********     Round 4: Early Stop Triggered at epoch 45.    *********\n",
      "Change in noise variance: 0.0000\n",
      "Change in x0: 0.4468\n",
      "*********             Velocity Refinement Round 5             *********\n",
      "*********     Round 5: Early Stop Triggered at epoch 54.    *********\n",
      "Change in noise variance: 0.0000\n",
      "Change in x0: 0.3849\n",
      "*********             Velocity Refinement Round 6             *********\n",
      "*********     Round 6: Early Stop Triggered at epoch 63.    *********\n",
      "Change in noise variance: 0.0000\n",
      "Change in x0: 0.3637\n",
      "*********             Velocity Refinement Round 7             *********\n",
      "*********     Round 7: Early Stop Triggered at epoch 72.    *********\n",
      "Change in noise variance: 0.0000\n",
      "Change in x0: 0.3499\n",
      "*********             Velocity Refinement Round 8             *********\n",
      "*********     Round 8: Early Stop Triggered at epoch 81.    *********\n",
      "Change in noise variance: 0.0000\n",
      "Change in x0: 0.3190\n",
      "*********             Velocity Refinement Round 9             *********\n",
      "*********     Round 9: Early Stop Triggered at epoch 90.    *********\n",
      "Change in noise variance: 0.0000\n",
      "Change in x0: 0.2829\n",
      "*********             Velocity Refinement Round 10             *********\n",
      "*********     Round 10: Early Stop Triggered at epoch 99.    *********\n",
      "Change in noise variance: 0.0000\n",
      "Change in x0: 0.2803\n",
      "*********             Velocity Refinement Round 11             *********\n",
      "Stage 2: Early Stop Triggered at round 10.\n",
      "*********              Finished. Total Time =   0 h :  0 m : 11 s             *********\n",
      "Final: Train ELBO = -26919.023,\tTest ELBO = -26492.256\n",
      "Run 3, file /ictstr01/groups/ml01/workspace/yifan.chen/regvelo_reproducibility/data/dyngen/complexity_1/processed/simulation_28.zarr.\n",
      "Estimating ODE parameters...\n"
     ]
    },
    {
     "data": {
      "application/json": {
       "ascii": false,
       "bar_format": null,
       "colour": null,
       "elapsed": 0.0031871795654296875,
       "initial": 0,
       "n": 0,
       "ncols": null,
       "nrows": null,
       "postfix": null,
       "prefix": "",
       "rate": null,
       "total": 564,
       "unit": "it",
       "unit_divisor": 1000,
       "unit_scale": false
      },
      "application/vnd.jupyter.widget-view+json": {
       "model_id": "ef8f212240c140079836d4171a709a6b",
       "version_major": 2,
       "version_minor": 0
      },
      "text/plain": [
       "  0%|          | 0/564 [00:00<?, ?it/s]"
      ]
     },
     "metadata": {},
     "output_type": "display_data"
    },
    {
     "name": "stdout",
     "output_type": "stream",
     "text": [
      "Detected 535 velocity genes.\n",
      "Estimating the variance...\n"
     ]
    },
    {
     "data": {
      "application/json": {
       "ascii": false,
       "bar_format": null,
       "colour": null,
       "elapsed": 0.010410308837890625,
       "initial": 0,
       "n": 0,
       "ncols": null,
       "nrows": null,
       "postfix": null,
       "prefix": "",
       "rate": null,
       "total": 564,
       "unit": "it",
       "unit_divisor": 1000,
       "unit_scale": false
      },
      "application/vnd.jupyter.widget-view+json": {
       "model_id": "92b2fd09ff374a218534b1c09d55bad1",
       "version_major": 2,
       "version_minor": 0
      },
      "text/plain": [
       "  0%|          | 0/564 [00:00<?, ?it/s]"
      ]
     },
     "metadata": {},
     "output_type": "display_data"
    },
    {
     "name": "stdout",
     "output_type": "stream",
     "text": [
      "Initialization using the steady-state and dynamical models.\n",
      "Reinitialize the regular ODE parameters based on estimated global latent time.\n"
     ]
    },
    {
     "data": {
      "application/json": {
       "ascii": false,
       "bar_format": null,
       "colour": null,
       "elapsed": 0.0029039382934570312,
       "initial": 0,
       "n": 0,
       "ncols": null,
       "nrows": null,
       "postfix": null,
       "prefix": "",
       "rate": null,
       "total": 564,
       "unit": "it",
       "unit_divisor": 1000,
       "unit_scale": false
      },
      "application/vnd.jupyter.widget-view+json": {
       "model_id": "07f4598b824742739090bbaee2c1e3c0",
       "version_major": 2,
       "version_minor": 0
      },
      "text/plain": [
       "  0%|          | 0/564 [00:00<?, ?it/s]"
      ]
     },
     "metadata": {},
     "output_type": "display_data"
    },
    {
     "name": "stdout",
     "output_type": "stream",
     "text": [
      "3 clusters detected based on gene co-expression.\n",
      "(0.39, 0.3808448852305928), (0.61, 0.852512757686449)\n",
      "(0.46, 0.3875805469813231), (0.54, 0.7668672821296293)\n",
      "KS-test result: [0. 0. 1.]\n",
      "Initial induction: 374, repression: 190/564\n",
      "Learning Rate based on Data Sparsity: 0.0002\n",
      "--------------------------- Train a VeloVAE ---------------------------\n",
      "*********        Creating Training/Validation Datasets        *********\n",
      "*********                      Finished.                      *********\n",
      "*********                 Creating optimizers                 *********\n",
      "*********                      Finished.                      *********\n",
      "*********                    Start training                   *********\n",
      "*********                      Stage  1                       *********\n",
      "Total Number of Iterations Per Epoch: 6, test iteration: 10\n",
      "*********                      Stage  2                       *********\n",
      "*********             Velocity Refinement Round 1             *********\n"
     ]
    },
    {
     "data": {
      "application/json": {
       "ascii": false,
       "bar_format": null,
       "colour": null,
       "elapsed": 0.012947797775268555,
       "initial": 0,
       "n": 0,
       "ncols": null,
       "nrows": null,
       "postfix": null,
       "prefix": "",
       "rate": null,
       "total": 1000,
       "unit": "it",
       "unit_divisor": 1000,
       "unit_scale": false
      },
      "application/vnd.jupyter.widget-view+json": {
       "model_id": "b726e530d6114983a34ca4f064e20c9a",
       "version_major": 2,
       "version_minor": 0
      },
      "text/plain": [
       "  0%|          | 0/1000 [00:00<?, ?it/s]"
      ]
     },
     "metadata": {},
     "output_type": "display_data"
    },
    {
     "name": "stdout",
     "output_type": "stream",
     "text": [
      "Percentage of Invalid Sets: 0.005\n",
      "Average Set Size: 22\n",
      "Change in noise variance: 0.0401\n",
      "*********             Velocity Refinement Round 2             *********\n",
      "*********     Round 2: Early Stop Triggered at epoch 1541.    *********\n",
      "Change in noise variance: 0.0371\n",
      "Change in x0: 0.3644\n",
      "*********             Velocity Refinement Round 3             *********\n",
      "*********     Round 3: Early Stop Triggered at epoch 1573.    *********\n",
      "Change in noise variance: 0.0020\n",
      "Change in x0: 0.2457\n",
      "*********             Velocity Refinement Round 4             *********\n",
      "*********     Round 4: Early Stop Triggered at epoch 1580.    *********\n",
      "Change in noise variance: 0.0007\n",
      "Change in x0: 0.2023\n",
      "*********             Velocity Refinement Round 5             *********\n",
      "*********     Round 5: Early Stop Triggered at epoch 1587.    *********\n",
      "Change in noise variance: 0.0000\n",
      "Change in x0: 0.1785\n",
      "*********             Velocity Refinement Round 6             *********\n",
      "*********     Round 6: Early Stop Triggered at epoch 1594.    *********\n",
      "Change in noise variance: 0.0000\n",
      "Change in x0: 0.1505\n",
      "*********             Velocity Refinement Round 7             *********\n",
      "*********     Round 7: Early Stop Triggered at epoch 1631.    *********\n",
      "Change in noise variance: 0.0000\n",
      "Change in x0: 0.1245\n",
      "*********             Velocity Refinement Round 8             *********\n",
      "*********     Round 8: Early Stop Triggered at epoch 1642.    *********\n",
      "Change in noise variance: 0.0000\n",
      "Change in x0: 0.1042\n",
      "*********             Velocity Refinement Round 9             *********\n",
      "*********     Round 9: Early Stop Triggered at epoch 1649.    *********\n",
      "Change in noise variance: 0.0000\n",
      "Change in x0: 0.0983\n",
      "*********             Velocity Refinement Round 10             *********\n",
      "Stage 2: Early Stop Triggered at round 9.\n",
      "*********              Finished. Total Time =   0 h :  2 m : 12 s             *********\n",
      "Final: Train ELBO = 468.052,\tTest ELBO = 368.735\n",
      "Run 4, file /ictstr01/groups/ml01/workspace/yifan.chen/regvelo_reproducibility/data/dyngen/complexity_1/processed/simulation_6.zarr.\n",
      "Estimating ODE parameters...\n"
     ]
    },
    {
     "data": {
      "application/json": {
       "ascii": false,
       "bar_format": null,
       "colour": null,
       "elapsed": 0.0034554004669189453,
       "initial": 0,
       "n": 0,
       "ncols": null,
       "nrows": null,
       "postfix": null,
       "prefix": "",
       "rate": null,
       "total": 747,
       "unit": "it",
       "unit_divisor": 1000,
       "unit_scale": false
      },
      "application/vnd.jupyter.widget-view+json": {
       "model_id": "1811953ce03f4c228d4df699358330d8",
       "version_major": 2,
       "version_minor": 0
      },
      "text/plain": [
       "  0%|          | 0/747 [00:00<?, ?it/s]"
      ]
     },
     "metadata": {},
     "output_type": "display_data"
    },
    {
     "name": "stdout",
     "output_type": "stream",
     "text": [
      "Detected 537 velocity genes.\n",
      "Estimating the variance...\n"
     ]
    },
    {
     "data": {
      "application/json": {
       "ascii": false,
       "bar_format": null,
       "colour": null,
       "elapsed": 0.012139081954956055,
       "initial": 0,
       "n": 0,
       "ncols": null,
       "nrows": null,
       "postfix": null,
       "prefix": "",
       "rate": null,
       "total": 747,
       "unit": "it",
       "unit_divisor": 1000,
       "unit_scale": false
      },
      "application/vnd.jupyter.widget-view+json": {
       "model_id": "c74332c7ebcf4b1cb81ed0b61e527e0a",
       "version_major": 2,
       "version_minor": 0
      },
      "text/plain": [
       "  0%|          | 0/747 [00:00<?, ?it/s]"
      ]
     },
     "metadata": {},
     "output_type": "display_data"
    },
    {
     "name": "stdout",
     "output_type": "stream",
     "text": [
      "Initialization using the steady-state and dynamical models.\n",
      "Reinitialize the regular ODE parameters based on estimated global latent time.\n"
     ]
    },
    {
     "data": {
      "application/json": {
       "ascii": false,
       "bar_format": null,
       "colour": null,
       "elapsed": 0.002919435501098633,
       "initial": 0,
       "n": 0,
       "ncols": null,
       "nrows": null,
       "postfix": null,
       "prefix": "",
       "rate": null,
       "total": 747,
       "unit": "it",
       "unit_divisor": 1000,
       "unit_scale": false
      },
      "application/vnd.jupyter.widget-view+json": {
       "model_id": "e311022649f8451198ea2bb42ccfdb8f",
       "version_major": 2,
       "version_minor": 0
      },
      "text/plain": [
       "  0%|          | 0/747 [00:00<?, ?it/s]"
      ]
     },
     "metadata": {},
     "output_type": "display_data"
    },
    {
     "name": "stdout",
     "output_type": "stream",
     "text": [
      "3 clusters detected based on gene co-expression.\n",
      "(0.62, 0.8793261681749559), (0.38, 0.26633114834984656)\n",
      "(0.47, 0.7331318775651423), (0.53, 0.2511832966547218)\n",
      "(0.47, 0.2994057734262461), (0.53, 0.8553113871195344)\n",
      "KS-test result: [0. 0. 0.]\n",
      "Initial induction: 404, repression: 343/747\n",
      "Learning Rate based on Data Sparsity: 0.0000\n",
      "--------------------------- Train a VeloVAE ---------------------------\n",
      "*********        Creating Training/Validation Datasets        *********\n",
      "*********                      Finished.                      *********\n",
      "*********                 Creating optimizers                 *********\n",
      "*********                      Finished.                      *********\n",
      "*********                    Start training                   *********\n",
      "*********                      Stage  1                       *********\n",
      "Total Number of Iterations Per Epoch: 6, test iteration: 10\n",
      "*********                      Stage  2                       *********\n",
      "*********             Velocity Refinement Round 1             *********\n"
     ]
    },
    {
     "data": {
      "application/json": {
       "ascii": false,
       "bar_format": null,
       "colour": null,
       "elapsed": 0.0039441585540771484,
       "initial": 0,
       "n": 0,
       "ncols": null,
       "nrows": null,
       "postfix": null,
       "prefix": "",
       "rate": null,
       "total": 1000,
       "unit": "it",
       "unit_divisor": 1000,
       "unit_scale": false
      },
      "application/vnd.jupyter.widget-view+json": {
       "model_id": "5959fd9d598c48618ae0ffc14b0ceb1d",
       "version_major": 2,
       "version_minor": 0
      },
      "text/plain": [
       "  0%|          | 0/1000 [00:00<?, ?it/s]"
      ]
     },
     "metadata": {},
     "output_type": "display_data"
    },
    {
     "name": "stdout",
     "output_type": "stream",
     "text": [
      "Percentage of Invalid Sets: 0.039\n",
      "Average Set Size: 20\n",
      "*********     Round 1: Early Stop Triggered at epoch 1332.    *********\n",
      "Change in noise variance: 0.1963\n",
      "*********             Velocity Refinement Round 2             *********\n",
      "*********     Round 2: Early Stop Triggered at epoch 1529.    *********\n",
      "Change in noise variance: 0.0139\n",
      "Change in x0: 0.7732\n",
      "*********             Velocity Refinement Round 3             *********\n",
      "*********     Round 3: Early Stop Triggered at epoch 1565.    *********\n",
      "Change in noise variance: 0.0039\n",
      "Change in x0: 0.5783\n",
      "*********             Velocity Refinement Round 4             *********\n",
      "*********     Round 4: Early Stop Triggered at epoch 1644.    *********\n",
      "Change in noise variance: 0.0039\n",
      "Change in x0: 0.5012\n",
      "*********             Velocity Refinement Round 5             *********\n",
      "*********     Round 5: Early Stop Triggered at epoch 1668.    *********\n",
      "Change in noise variance: 0.0016\n",
      "Change in x0: 0.3899\n",
      "*********             Velocity Refinement Round 6             *********\n",
      "*********     Round 6: Early Stop Triggered at epoch 1682.    *********\n",
      "Change in noise variance: 0.0012\n",
      "Change in x0: 0.3248\n",
      "*********             Velocity Refinement Round 7             *********\n",
      "*********     Round 7: Early Stop Triggered at epoch 1704.    *********\n",
      "Change in noise variance: 0.0008\n",
      "Change in x0: 0.3053\n",
      "*********             Velocity Refinement Round 8             *********\n",
      "*********     Round 8: Early Stop Triggered at epoch 1725.    *********\n",
      "Change in noise variance: 0.0000\n",
      "Change in x0: 0.2925\n",
      "*********             Velocity Refinement Round 9             *********\n",
      "*********     Round 9: Early Stop Triggered at epoch 1732.    *********\n",
      "Change in noise variance: 0.0000\n",
      "Change in x0: 0.2847\n",
      "*********             Velocity Refinement Round 10             *********\n",
      "Stage 2: Early Stop Triggered at round 9.\n",
      "*********              Finished. Total Time =   0 h :  2 m : 20 s             *********\n",
      "Final: Train ELBO = -1471.624,\tTest ELBO = -1560.258\n",
      "Run 5, file /ictstr01/groups/ml01/workspace/yifan.chen/regvelo_reproducibility/data/dyngen/complexity_1/processed/simulation_21.zarr.\n",
      "Estimating ODE parameters...\n"
     ]
    },
    {
     "data": {
      "application/json": {
       "ascii": false,
       "bar_format": null,
       "colour": null,
       "elapsed": 0.004548549652099609,
       "initial": 0,
       "n": 0,
       "ncols": null,
       "nrows": null,
       "postfix": null,
       "prefix": "",
       "rate": null,
       "total": 461,
       "unit": "it",
       "unit_divisor": 1000,
       "unit_scale": false
      },
      "application/vnd.jupyter.widget-view+json": {
       "model_id": "8bbbc624df4e4d4991af3c3f54c68fde",
       "version_major": 2,
       "version_minor": 0
      },
      "text/plain": [
       "  0%|          | 0/461 [00:00<?, ?it/s]"
      ]
     },
     "metadata": {},
     "output_type": "display_data"
    },
    {
     "name": "stdout",
     "output_type": "stream",
     "text": [
      "Detected 398 velocity genes.\n",
      "Estimating the variance...\n"
     ]
    },
    {
     "data": {
      "application/json": {
       "ascii": false,
       "bar_format": null,
       "colour": null,
       "elapsed": 0.003947019577026367,
       "initial": 0,
       "n": 0,
       "ncols": null,
       "nrows": null,
       "postfix": null,
       "prefix": "",
       "rate": null,
       "total": 461,
       "unit": "it",
       "unit_divisor": 1000,
       "unit_scale": false
      },
      "application/vnd.jupyter.widget-view+json": {
       "model_id": "629898d3c69c4cf5beb79c28cf235db5",
       "version_major": 2,
       "version_minor": 0
      },
      "text/plain": [
       "  0%|          | 0/461 [00:00<?, ?it/s]"
      ]
     },
     "metadata": {},
     "output_type": "display_data"
    },
    {
     "name": "stdout",
     "output_type": "stream",
     "text": [
      "Initialization using the steady-state and dynamical models.\n",
      "Reinitialize the regular ODE parameters based on estimated global latent time.\n"
     ]
    },
    {
     "data": {
      "application/json": {
       "ascii": false,
       "bar_format": null,
       "colour": null,
       "elapsed": 0.0029451847076416016,
       "initial": 0,
       "n": 0,
       "ncols": null,
       "nrows": null,
       "postfix": null,
       "prefix": "",
       "rate": null,
       "total": 461,
       "unit": "it",
       "unit_divisor": 1000,
       "unit_scale": false
      },
      "application/vnd.jupyter.widget-view+json": {
       "model_id": "00c9fceab3f44232be01642d00c6e169",
       "version_major": 2,
       "version_minor": 0
      },
      "text/plain": [
       "  0%|          | 0/461 [00:00<?, ?it/s]"
      ]
     },
     "metadata": {},
     "output_type": "display_data"
    },
    {
     "name": "stdout",
     "output_type": "stream",
     "text": [
      "3 clusters detected based on gene co-expression.\n",
      "(0.49, 0.2987033192902373), (0.51, 0.7362158867554179)\n",
      "KS-test result: [1. 1. 0.]\n",
      "Initial induction: 334, repression: 127/461\n",
      "Learning Rate based on Data Sparsity: 0.0001\n",
      "--------------------------- Train a VeloVAE ---------------------------\n",
      "*********        Creating Training/Validation Datasets        *********\n",
      "*********                      Finished.                      *********\n",
      "*********                 Creating optimizers                 *********\n",
      "*********                      Finished.                      *********\n",
      "*********                    Start training                   *********\n",
      "*********                      Stage  1                       *********\n",
      "Total Number of Iterations Per Epoch: 6, test iteration: 10\n",
      "*********                      Stage  2                       *********\n",
      "*********             Velocity Refinement Round 1             *********\n"
     ]
    },
    {
     "data": {
      "application/json": {
       "ascii": false,
       "bar_format": null,
       "colour": null,
       "elapsed": 0.0929102897644043,
       "initial": 0,
       "n": 0,
       "ncols": null,
       "nrows": null,
       "postfix": null,
       "prefix": "",
       "rate": null,
       "total": 1000,
       "unit": "it",
       "unit_divisor": 1000,
       "unit_scale": false
      },
      "application/vnd.jupyter.widget-view+json": {
       "model_id": "0517c93367eb437bacbea9b45f5ffd87",
       "version_major": 2,
       "version_minor": 0
      },
      "text/plain": [
       "  0%|          | 0/1000 [00:00<?, ?it/s]"
      ]
     },
     "metadata": {},
     "output_type": "display_data"
    },
    {
     "name": "stdout",
     "output_type": "stream",
     "text": [
      "Percentage of Invalid Sets: 0.120\n",
      "Average Set Size: 21\n",
      "*********     Round 1: Early Stop Triggered at epoch 1484.    *********\n",
      "Change in noise variance: 0.0695\n",
      "*********             Velocity Refinement Round 2             *********\n",
      "*********     Round 2: Early Stop Triggered at epoch 1640.    *********\n",
      "Change in noise variance: 0.0120\n",
      "Change in x0: 0.3772\n",
      "*********             Velocity Refinement Round 3             *********\n",
      "*********     Round 3: Early Stop Triggered at epoch 1656.    *********\n",
      "Change in noise variance: 0.0045\n",
      "Change in x0: 0.3035\n",
      "*********             Velocity Refinement Round 4             *********\n",
      "*********     Round 4: Early Stop Triggered at epoch 1762.    *********\n",
      "Change in noise variance: 0.0031\n",
      "Change in x0: 0.1700\n",
      "*********             Velocity Refinement Round 5             *********\n",
      "*********     Round 5: Early Stop Triggered at epoch 1821.    *********\n",
      "Change in noise variance: 0.0010\n",
      "Change in x0: 0.1158\n",
      "*********             Velocity Refinement Round 6             *********\n",
      "*********     Round 6: Early Stop Triggered at epoch 1838.    *********\n",
      "Change in noise variance: 0.0000\n",
      "Change in x0: 0.0891\n",
      "*********             Velocity Refinement Round 7             *********\n",
      "*********     Round 7: Early Stop Triggered at epoch 1864.    *********\n",
      "Change in noise variance: 0.0000\n",
      "Change in x0: 0.0845\n",
      "*********             Velocity Refinement Round 8             *********\n",
      "Stage 2: Early Stop Triggered at round 7.\n",
      "*********              Finished. Total Time =   0 h :  2 m : 25 s             *********\n",
      "Final: Train ELBO = 640.215,\tTest ELBO = 555.901\n",
      "Run 6, file /ictstr01/groups/ml01/workspace/yifan.chen/regvelo_reproducibility/data/dyngen/complexity_1/processed/simulation_15.zarr.\n",
      "Estimating ODE parameters...\n"
     ]
    },
    {
     "data": {
      "application/json": {
       "ascii": false,
       "bar_format": null,
       "colour": null,
       "elapsed": 0.0035800933837890625,
       "initial": 0,
       "n": 0,
       "ncols": null,
       "nrows": null,
       "postfix": null,
       "prefix": "",
       "rate": null,
       "total": 444,
       "unit": "it",
       "unit_divisor": 1000,
       "unit_scale": false
      },
      "application/vnd.jupyter.widget-view+json": {
       "model_id": "eb78836ac424463c840cc5a4d6737761",
       "version_major": 2,
       "version_minor": 0
      },
      "text/plain": [
       "  0%|          | 0/444 [00:00<?, ?it/s]"
      ]
     },
     "metadata": {},
     "output_type": "display_data"
    },
    {
     "name": "stdout",
     "output_type": "stream",
     "text": [
      "Detected 404 velocity genes.\n",
      "Estimating the variance...\n"
     ]
    },
    {
     "data": {
      "application/json": {
       "ascii": false,
       "bar_format": null,
       "colour": null,
       "elapsed": 0.010429859161376953,
       "initial": 0,
       "n": 0,
       "ncols": null,
       "nrows": null,
       "postfix": null,
       "prefix": "",
       "rate": null,
       "total": 444,
       "unit": "it",
       "unit_divisor": 1000,
       "unit_scale": false
      },
      "application/vnd.jupyter.widget-view+json": {
       "model_id": "e537cbdc9d4c44ce85ebf5c5137345cc",
       "version_major": 2,
       "version_minor": 0
      },
      "text/plain": [
       "  0%|          | 0/444 [00:00<?, ?it/s]"
      ]
     },
     "metadata": {},
     "output_type": "display_data"
    },
    {
     "name": "stdout",
     "output_type": "stream",
     "text": [
      "Initialization using the steady-state and dynamical models.\n",
      "Reinitialize the regular ODE parameters based on estimated global latent time.\n"
     ]
    },
    {
     "data": {
      "application/json": {
       "ascii": false,
       "bar_format": null,
       "colour": null,
       "elapsed": 0.0027647018432617188,
       "initial": 0,
       "n": 0,
       "ncols": null,
       "nrows": null,
       "postfix": null,
       "prefix": "",
       "rate": null,
       "total": 444,
       "unit": "it",
       "unit_divisor": 1000,
       "unit_scale": false
      },
      "application/vnd.jupyter.widget-view+json": {
       "model_id": "094c45b9c29545eda73297fb2962ffee",
       "version_major": 2,
       "version_minor": 0
      },
      "text/plain": [
       "  0%|          | 0/444 [00:00<?, ?it/s]"
      ]
     },
     "metadata": {},
     "output_type": "display_data"
    },
    {
     "name": "stdout",
     "output_type": "stream",
     "text": [
      "3 clusters detected based on gene co-expression.\n",
      "(0.62, 0.8595902088131244), (0.38, 0.34409679076346833)\n",
      "(0.53, 0.3502039273194398), (0.47, 0.8163727115188388)\n",
      "KS-test result: [0. 1. 0.]\n",
      "Initial induction: 300, repression: 144/444\n",
      "Learning Rate based on Data Sparsity: 0.0002\n",
      "--------------------------- Train a VeloVAE ---------------------------\n",
      "*********        Creating Training/Validation Datasets        *********\n",
      "*********                      Finished.                      *********\n",
      "*********                 Creating optimizers                 *********\n",
      "*********                      Finished.                      *********\n",
      "*********                    Start training                   *********\n",
      "*********                      Stage  1                       *********\n",
      "Total Number of Iterations Per Epoch: 6, test iteration: 10\n",
      "*********       Stage 1: Early Stop Triggered at epoch 96.       *********\n",
      "*********                      Stage  2                       *********\n",
      "*********             Velocity Refinement Round 1             *********\n"
     ]
    },
    {
     "data": {
      "application/json": {
       "ascii": false,
       "bar_format": null,
       "colour": null,
       "elapsed": 0.003239154815673828,
       "initial": 0,
       "n": 0,
       "ncols": null,
       "nrows": null,
       "postfix": null,
       "prefix": "",
       "rate": null,
       "total": 1000,
       "unit": "it",
       "unit_divisor": 1000,
       "unit_scale": false
      },
      "application/vnd.jupyter.widget-view+json": {
       "model_id": "848d57355fea4cdda3f53aedf75f2410",
       "version_major": 2,
       "version_minor": 0
      },
      "text/plain": [
       "  0%|          | 0/1000 [00:00<?, ?it/s]"
      ]
     },
     "metadata": {},
     "output_type": "display_data"
    },
    {
     "name": "stdout",
     "output_type": "stream",
     "text": [
      "Percentage of Invalid Sets: 0.229\n",
      "Average Set Size: 106\n",
      "*********     Round 1: Early Stop Triggered at epoch 468.    *********\n",
      "Change in noise variance: 0.0993\n",
      "*********             Velocity Refinement Round 2             *********\n",
      "*********     Round 2: Early Stop Triggered at epoch 485.    *********\n",
      "Change in noise variance: 0.0213\n",
      "Change in x0: 1.9274\n",
      "*********             Velocity Refinement Round 3             *********\n",
      "*********     Round 3: Early Stop Triggered at epoch 516.    *********\n",
      "Change in noise variance: 0.0172\n",
      "Change in x0: 0.6222\n",
      "*********             Velocity Refinement Round 4             *********\n",
      "*********     Round 4: Early Stop Triggered at epoch 583.    *********\n",
      "Change in noise variance: 0.0014\n",
      "Change in x0: 0.1822\n",
      "*********             Velocity Refinement Round 5             *********\n",
      "*********     Round 5: Early Stop Triggered at epoch 619.    *********\n",
      "Change in noise variance: 0.0002\n",
      "Change in x0: 0.1456\n",
      "*********             Velocity Refinement Round 6             *********\n",
      "*********     Round 6: Early Stop Triggered at epoch 628.    *********\n",
      "Change in noise variance: 0.0000\n",
      "Change in x0: 0.1414\n",
      "*********             Velocity Refinement Round 7             *********\n",
      "Stage 2: Early Stop Triggered at round 6.\n",
      "*********              Finished. Total Time =   0 h :  0 m : 49 s             *********\n",
      "Final: Train ELBO = -298.772,\tTest ELBO = -338.227\n",
      "Run 7, file /ictstr01/groups/ml01/workspace/yifan.chen/regvelo_reproducibility/data/dyngen/complexity_1/processed/simulation_9.zarr.\n",
      "Estimating ODE parameters...\n"
     ]
    },
    {
     "data": {
      "application/json": {
       "ascii": false,
       "bar_format": null,
       "colour": null,
       "elapsed": 0.002978801727294922,
       "initial": 0,
       "n": 0,
       "ncols": null,
       "nrows": null,
       "postfix": null,
       "prefix": "",
       "rate": null,
       "total": 360,
       "unit": "it",
       "unit_divisor": 1000,
       "unit_scale": false
      },
      "application/vnd.jupyter.widget-view+json": {
       "model_id": "db121f368d8e45059405d77301c9627b",
       "version_major": 2,
       "version_minor": 0
      },
      "text/plain": [
       "  0%|          | 0/360 [00:00<?, ?it/s]"
      ]
     },
     "metadata": {},
     "output_type": "display_data"
    },
    {
     "name": "stdout",
     "output_type": "stream",
     "text": [
      "Detected 335 velocity genes.\n",
      "Estimating the variance...\n"
     ]
    },
    {
     "data": {
      "application/json": {
       "ascii": false,
       "bar_format": null,
       "colour": null,
       "elapsed": 0.005425691604614258,
       "initial": 0,
       "n": 0,
       "ncols": null,
       "nrows": null,
       "postfix": null,
       "prefix": "",
       "rate": null,
       "total": 360,
       "unit": "it",
       "unit_divisor": 1000,
       "unit_scale": false
      },
      "application/vnd.jupyter.widget-view+json": {
       "model_id": "76e9ba6477304733a8535859fdffe320",
       "version_major": 2,
       "version_minor": 0
      },
      "text/plain": [
       "  0%|          | 0/360 [00:00<?, ?it/s]"
      ]
     },
     "metadata": {},
     "output_type": "display_data"
    },
    {
     "name": "stdout",
     "output_type": "stream",
     "text": [
      "Initialization using the steady-state and dynamical models.\n",
      "Reinitialize the regular ODE parameters based on estimated global latent time.\n"
     ]
    },
    {
     "data": {
      "application/json": {
       "ascii": false,
       "bar_format": null,
       "colour": null,
       "elapsed": 0.0026993751525878906,
       "initial": 0,
       "n": 0,
       "ncols": null,
       "nrows": null,
       "postfix": null,
       "prefix": "",
       "rate": null,
       "total": 360,
       "unit": "it",
       "unit_divisor": 1000,
       "unit_scale": false
      },
      "application/vnd.jupyter.widget-view+json": {
       "model_id": "bf9a2eae3ff346bd87ccfcad27ddebb6",
       "version_major": 2,
       "version_minor": 0
      },
      "text/plain": [
       "  0%|          | 0/360 [00:00<?, ?it/s]"
      ]
     },
     "metadata": {},
     "output_type": "display_data"
    },
    {
     "name": "stdout",
     "output_type": "stream",
     "text": [
      "3 clusters detected based on gene co-expression.\n",
      "(0.48, 0.37222433101870206), (0.52, 0.7806380011489331)\n",
      "KS-test result: [1. 0. 1.]\n",
      "Initial induction: 263, repression: 97/360\n",
      "Learning Rate based on Data Sparsity: 0.0003\n",
      "--------------------------- Train a VeloVAE ---------------------------\n",
      "*********        Creating Training/Validation Datasets        *********\n",
      "*********                      Finished.                      *********\n",
      "*********                 Creating optimizers                 *********\n",
      "*********                      Finished.                      *********\n",
      "*********                    Start training                   *********\n",
      "*********                      Stage  1                       *********\n",
      "Total Number of Iterations Per Epoch: 6, test iteration: 10\n",
      "*********                      Stage  2                       *********\n",
      "*********             Velocity Refinement Round 1             *********\n"
     ]
    },
    {
     "data": {
      "application/json": {
       "ascii": false,
       "bar_format": null,
       "colour": null,
       "elapsed": 0.007520914077758789,
       "initial": 0,
       "n": 0,
       "ncols": null,
       "nrows": null,
       "postfix": null,
       "prefix": "",
       "rate": null,
       "total": 1000,
       "unit": "it",
       "unit_divisor": 1000,
       "unit_scale": false
      },
      "application/vnd.jupyter.widget-view+json": {
       "model_id": "a442b91695fb413b919f4cea1a40c3f7",
       "version_major": 2,
       "version_minor": 0
      },
      "text/plain": [
       "  0%|          | 0/1000 [00:00<?, ?it/s]"
      ]
     },
     "metadata": {},
     "output_type": "display_data"
    },
    {
     "name": "stdout",
     "output_type": "stream",
     "text": [
      "Percentage of Invalid Sets: 0.122\n",
      "Average Set Size: 18\n",
      "*********     Round 1: Early Stop Triggered at epoch 1284.    *********\n",
      "Change in noise variance: 0.0227\n",
      "*********             Velocity Refinement Round 2             *********\n",
      "*********     Round 2: Early Stop Triggered at epoch 1355.    *********\n",
      "Change in noise variance: 0.0034\n",
      "Change in x0: 0.1830\n",
      "*********             Velocity Refinement Round 3             *********\n",
      "*********     Round 3: Early Stop Triggered at epoch 1424.    *********\n",
      "Change in noise variance: 0.0002\n",
      "Change in x0: 0.0994\n",
      "*********             Velocity Refinement Round 4             *********\n",
      "*********     Round 4: Early Stop Triggered at epoch 1503.    *********\n",
      "Change in noise variance: 0.0000\n",
      "Change in x0: 0.0784\n",
      "*********             Velocity Refinement Round 5             *********\n",
      "*********     Round 5: Early Stop Triggered at epoch 1515.    *********\n",
      "Change in noise variance: 0.0000\n",
      "Change in x0: 0.0766\n",
      "*********             Velocity Refinement Round 6             *********\n",
      "Stage 2: Early Stop Triggered at round 5.\n",
      "*********              Finished. Total Time =   0 h :  1 m : 58 s             *********\n",
      "Final: Train ELBO = 493.208,\tTest ELBO = 467.782\n",
      "Run 8, file /ictstr01/groups/ml01/workspace/yifan.chen/regvelo_reproducibility/data/dyngen/complexity_1/processed/simulation_12.zarr.\n",
      "Estimating ODE parameters...\n"
     ]
    },
    {
     "data": {
      "application/json": {
       "ascii": false,
       "bar_format": null,
       "colour": null,
       "elapsed": 0.0039598941802978516,
       "initial": 0,
       "n": 0,
       "ncols": null,
       "nrows": null,
       "postfix": null,
       "prefix": "",
       "rate": null,
       "total": 515,
       "unit": "it",
       "unit_divisor": 1000,
       "unit_scale": false
      },
      "application/vnd.jupyter.widget-view+json": {
       "model_id": "f747f538a89145ef9172ffa5755f9e7b",
       "version_major": 2,
       "version_minor": 0
      },
      "text/plain": [
       "  0%|          | 0/515 [00:00<?, ?it/s]"
      ]
     },
     "metadata": {},
     "output_type": "display_data"
    },
    {
     "name": "stdout",
     "output_type": "stream",
     "text": [
      "Detected 387 velocity genes.\n",
      "Estimating the variance...\n"
     ]
    },
    {
     "data": {
      "application/json": {
       "ascii": false,
       "bar_format": null,
       "colour": null,
       "elapsed": 0.006062746047973633,
       "initial": 0,
       "n": 0,
       "ncols": null,
       "nrows": null,
       "postfix": null,
       "prefix": "",
       "rate": null,
       "total": 515,
       "unit": "it",
       "unit_divisor": 1000,
       "unit_scale": false
      },
      "application/vnd.jupyter.widget-view+json": {
       "model_id": "dd32aa34f4b8411fa9db53dae48a38c9",
       "version_major": 2,
       "version_minor": 0
      },
      "text/plain": [
       "  0%|          | 0/515 [00:00<?, ?it/s]"
      ]
     },
     "metadata": {},
     "output_type": "display_data"
    },
    {
     "name": "stdout",
     "output_type": "stream",
     "text": [
      "Initialization using the steady-state and dynamical models.\n",
      "Reinitialize the regular ODE parameters based on estimated global latent time.\n"
     ]
    },
    {
     "data": {
      "application/json": {
       "ascii": false,
       "bar_format": null,
       "colour": null,
       "elapsed": 0.002773761749267578,
       "initial": 0,
       "n": 0,
       "ncols": null,
       "nrows": null,
       "postfix": null,
       "prefix": "",
       "rate": null,
       "total": 515,
       "unit": "it",
       "unit_divisor": 1000,
       "unit_scale": false
      },
      "application/vnd.jupyter.widget-view+json": {
       "model_id": "14a35781cafb47699e474ad5a4c50f16",
       "version_major": 2,
       "version_minor": 0
      },
      "text/plain": [
       "  0%|          | 0/515 [00:00<?, ?it/s]"
      ]
     },
     "metadata": {},
     "output_type": "display_data"
    },
    {
     "name": "stdout",
     "output_type": "stream",
     "text": [
      "3 clusters detected based on gene co-expression.\n",
      "(0.59, 0.8421974990559944), (0.41, 0.31546207430654916)\n",
      "(0.58, 0.7390920693790617), (0.42, 0.1625623840425744)\n",
      "(0.42, 0.2930600982138266), (0.58, 0.8332787740830282)\n",
      "KS-test result: [0. 0. 0.]\n",
      "Initial induction: 310, repression: 205/515\n",
      "Learning Rate based on Data Sparsity: 0.0000\n",
      "--------------------------- Train a VeloVAE ---------------------------\n",
      "*********        Creating Training/Validation Datasets        *********\n",
      "*********                      Finished.                      *********\n",
      "*********                 Creating optimizers                 *********\n",
      "*********                      Finished.                      *********\n",
      "*********                    Start training                   *********\n",
      "*********                      Stage  1                       *********\n",
      "Total Number of Iterations Per Epoch: 5, test iteration: 8\n",
      "*********       Stage 1: Early Stop Triggered at epoch 9.       *********\n",
      "*********                      Stage  2                       *********\n",
      "*********             Velocity Refinement Round 1             *********\n"
     ]
    },
    {
     "data": {
      "application/json": {
       "ascii": false,
       "bar_format": null,
       "colour": null,
       "elapsed": 0.003010988235473633,
       "initial": 0,
       "n": 0,
       "ncols": null,
       "nrows": null,
       "postfix": null,
       "prefix": "",
       "rate": null,
       "total": 880,
       "unit": "it",
       "unit_divisor": 1000,
       "unit_scale": false
      },
      "application/vnd.jupyter.widget-view+json": {
       "model_id": "e0f7d0fb0b8f437693a67502b679bf36",
       "version_major": 2,
       "version_minor": 0
      },
      "text/plain": [
       "  0%|          | 0/880 [00:00<?, ?it/s]"
      ]
     },
     "metadata": {},
     "output_type": "display_data"
    },
    {
     "name": "stdout",
     "output_type": "stream",
     "text": [
      "Percentage of Invalid Sets: 0.030\n",
      "Average Set Size: 17\n",
      "*********     Round 1: Early Stop Triggered at epoch 18.    *********\n",
      "Change in noise variance: 0.1949\n",
      "*********             Velocity Refinement Round 2             *********\n",
      "*********     Round 2: Early Stop Triggered at epoch 27.    *********\n",
      "Change in noise variance: 0.0019\n",
      "Change in x0: 0.6673\n",
      "*********             Velocity Refinement Round 3             *********\n",
      "*********     Round 3: Early Stop Triggered at epoch 36.    *********\n",
      "Change in noise variance: 0.0007\n",
      "Change in x0: 0.5220\n",
      "*********             Velocity Refinement Round 4             *********\n",
      "*********     Round 4: Early Stop Triggered at epoch 45.    *********\n",
      "Change in noise variance: 0.0000\n",
      "Change in x0: 0.4418\n",
      "*********             Velocity Refinement Round 5             *********\n",
      "*********     Round 5: Early Stop Triggered at epoch 54.    *********\n",
      "Change in noise variance: 0.0000\n",
      "Change in x0: 0.3789\n",
      "*********             Velocity Refinement Round 6             *********\n",
      "*********     Round 6: Early Stop Triggered at epoch 63.    *********\n",
      "Change in noise variance: 0.0000\n",
      "Change in x0: 0.3652\n",
      "*********             Velocity Refinement Round 7             *********\n",
      "*********     Round 7: Early Stop Triggered at epoch 72.    *********\n",
      "Change in noise variance: 0.0000\n",
      "Change in x0: 0.2934\n",
      "*********             Velocity Refinement Round 8             *********\n",
      "*********     Round 8: Early Stop Triggered at epoch 81.    *********\n",
      "Change in noise variance: 0.0000\n",
      "Change in x0: 0.2694\n",
      "*********             Velocity Refinement Round 9             *********\n",
      "*********     Round 9: Early Stop Triggered at epoch 90.    *********\n",
      "Change in noise variance: 0.0000\n",
      "Change in x0: 0.2871\n",
      "*********             Velocity Refinement Round 10             *********\n",
      "Stage 2: Early Stop Triggered at round 9.\n",
      "*********              Finished. Total Time =   0 h :  0 m :  8 s             *********\n",
      "Final: Train ELBO = -23497.715,\tTest ELBO = -24467.719\n",
      "Run 9, file /ictstr01/groups/ml01/workspace/yifan.chen/regvelo_reproducibility/data/dyngen/complexity_1/processed/simulation_19.zarr.\n",
      "Estimating ODE parameters...\n"
     ]
    },
    {
     "data": {
      "application/json": {
       "ascii": false,
       "bar_format": null,
       "colour": null,
       "elapsed": 0.0031249523162841797,
       "initial": 0,
       "n": 0,
       "ncols": null,
       "nrows": null,
       "postfix": null,
       "prefix": "",
       "rate": null,
       "total": 266,
       "unit": "it",
       "unit_divisor": 1000,
       "unit_scale": false
      },
      "application/vnd.jupyter.widget-view+json": {
       "model_id": "930b54fcc5c34f0a8212d2fcb4fb2781",
       "version_major": 2,
       "version_minor": 0
      },
      "text/plain": [
       "  0%|          | 0/266 [00:00<?, ?it/s]"
      ]
     },
     "metadata": {},
     "output_type": "display_data"
    },
    {
     "name": "stdout",
     "output_type": "stream",
     "text": [
      "Detected 244 velocity genes.\n",
      "Estimating the variance...\n"
     ]
    },
    {
     "data": {
      "application/json": {
       "ascii": false,
       "bar_format": null,
       "colour": null,
       "elapsed": 0.01032400131225586,
       "initial": 0,
       "n": 0,
       "ncols": null,
       "nrows": null,
       "postfix": null,
       "prefix": "",
       "rate": null,
       "total": 266,
       "unit": "it",
       "unit_divisor": 1000,
       "unit_scale": false
      },
      "application/vnd.jupyter.widget-view+json": {
       "model_id": "fc5ec733cd114e4e8cf48d1785bb1332",
       "version_major": 2,
       "version_minor": 0
      },
      "text/plain": [
       "  0%|          | 0/266 [00:00<?, ?it/s]"
      ]
     },
     "metadata": {},
     "output_type": "display_data"
    },
    {
     "name": "stdout",
     "output_type": "stream",
     "text": [
      "Initialization using the steady-state and dynamical models.\n",
      "Reinitialize the regular ODE parameters based on estimated global latent time.\n"
     ]
    },
    {
     "data": {
      "application/json": {
       "ascii": false,
       "bar_format": null,
       "colour": null,
       "elapsed": 0.002897024154663086,
       "initial": 0,
       "n": 0,
       "ncols": null,
       "nrows": null,
       "postfix": null,
       "prefix": "",
       "rate": null,
       "total": 266,
       "unit": "it",
       "unit_divisor": 1000,
       "unit_scale": false
      },
      "application/vnd.jupyter.widget-view+json": {
       "model_id": "eee6b9c1c62e47c4af97829001200fd0",
       "version_major": 2,
       "version_minor": 0
      },
      "text/plain": [
       "  0%|          | 0/266 [00:00<?, ?it/s]"
      ]
     },
     "metadata": {},
     "output_type": "display_data"
    },
    {
     "name": "stdout",
     "output_type": "stream",
     "text": [
      "3 clusters detected based on gene co-expression.\n",
      "(0.46, 0.3700403220994146), (0.54, 0.8355761602987493)\n",
      "(0.60, 0.33766490672002036), (0.40, 0.7567183237756051)\n",
      "KS-test result: [0. 1. 0.]\n",
      "Initial induction: 164, repression: 102/266\n",
      "Learning Rate based on Data Sparsity: 0.0002\n",
      "--------------------------- Train a VeloVAE ---------------------------\n",
      "*********        Creating Training/Validation Datasets        *********\n",
      "*********                      Finished.                      *********\n",
      "*********                 Creating optimizers                 *********\n",
      "*********                      Finished.                      *********\n",
      "*********                    Start training                   *********\n",
      "*********                      Stage  1                       *********\n",
      "Total Number of Iterations Per Epoch: 6, test iteration: 10\n",
      "*********                      Stage  2                       *********\n",
      "*********             Velocity Refinement Round 1             *********\n"
     ]
    },
    {
     "data": {
      "application/json": {
       "ascii": false,
       "bar_format": null,
       "colour": null,
       "elapsed": 0.003990650177001953,
       "initial": 0,
       "n": 0,
       "ncols": null,
       "nrows": null,
       "postfix": null,
       "prefix": "",
       "rate": null,
       "total": 1000,
       "unit": "it",
       "unit_divisor": 1000,
       "unit_scale": false
      },
      "application/vnd.jupyter.widget-view+json": {
       "model_id": "534dd9a9d94e462e8b22f2fb1bdcb773",
       "version_major": 2,
       "version_minor": 0
      },
      "text/plain": [
       "  0%|          | 0/1000 [00:00<?, ?it/s]"
      ]
     },
     "metadata": {},
     "output_type": "display_data"
    },
    {
     "name": "stdout",
     "output_type": "stream",
     "text": [
      "Percentage of Invalid Sets: 0.014\n",
      "Average Set Size: 21\n",
      "*********     Round 1: Early Stop Triggered at epoch 1206.    *********\n",
      "Change in noise variance: 0.0339\n",
      "*********             Velocity Refinement Round 2             *********\n",
      "*********     Round 2: Early Stop Triggered at epoch 1363.    *********\n",
      "Change in noise variance: 0.0081\n",
      "Change in x0: 0.3134\n",
      "*********             Velocity Refinement Round 3             *********\n",
      "*********     Round 3: Early Stop Triggered at epoch 1370.    *********\n",
      "Change in noise variance: 0.0016\n",
      "Change in x0: 0.2070\n",
      "*********             Velocity Refinement Round 4             *********\n",
      "*********     Round 4: Early Stop Triggered at epoch 1446.    *********\n",
      "Change in noise variance: 0.0008\n",
      "Change in x0: 0.1656\n",
      "*********             Velocity Refinement Round 5             *********\n",
      "*********     Round 5: Early Stop Triggered at epoch 1453.    *********\n",
      "Change in noise variance: 0.0000\n",
      "Change in x0: 0.1375\n",
      "*********             Velocity Refinement Round 6             *********\n",
      "*********     Round 6: Early Stop Triggered at epoch 1537.    *********\n",
      "Change in noise variance: 0.0000\n",
      "Change in x0: 0.1147\n",
      "*********             Velocity Refinement Round 7             *********\n",
      "*********     Round 7: Early Stop Triggered at epoch 1544.    *********\n",
      "Change in noise variance: 0.0000\n",
      "Change in x0: 0.1026\n",
      "*********             Velocity Refinement Round 8             *********\n",
      "*********     Round 8: Early Stop Triggered at epoch 1593.    *********\n",
      "Change in noise variance: 0.0000\n",
      "Change in x0: 0.0901\n",
      "*********             Velocity Refinement Round 9             *********\n",
      "*********     Round 9: Early Stop Triggered at epoch 1610.    *********\n",
      "Change in noise variance: 0.0000\n",
      "Change in x0: 0.0793\n",
      "*********             Velocity Refinement Round 10             *********\n",
      "*********     Round 10: Early Stop Triggered at epoch 1629.    *********\n",
      "Change in noise variance: 0.0000\n",
      "Change in x0: 0.0719\n",
      "*********             Velocity Refinement Round 11             *********\n",
      "Stage 2: Early Stop Triggered at round 10.\n",
      "*********              Finished. Total Time =   0 h :  2 m :  4 s             *********\n",
      "Final: Train ELBO = 268.584,\tTest ELBO = 244.117\n",
      "Run 10, file /ictstr01/groups/ml01/workspace/yifan.chen/regvelo_reproducibility/data/dyngen/complexity_1/processed/simulation_4.zarr.\n",
      "Estimating ODE parameters...\n"
     ]
    },
    {
     "data": {
      "application/json": {
       "ascii": false,
       "bar_format": null,
       "colour": null,
       "elapsed": 0.0034732818603515625,
       "initial": 0,
       "n": 0,
       "ncols": null,
       "nrows": null,
       "postfix": null,
       "prefix": "",
       "rate": null,
       "total": 479,
       "unit": "it",
       "unit_divisor": 1000,
       "unit_scale": false
      },
      "application/vnd.jupyter.widget-view+json": {
       "model_id": "009818c8e3d94549b3fed4b62ef791cc",
       "version_major": 2,
       "version_minor": 0
      },
      "text/plain": [
       "  0%|          | 0/479 [00:00<?, ?it/s]"
      ]
     },
     "metadata": {},
     "output_type": "display_data"
    },
    {
     "name": "stdout",
     "output_type": "stream",
     "text": [
      "Detected 454 velocity genes.\n",
      "Estimating the variance...\n"
     ]
    },
    {
     "data": {
      "application/json": {
       "ascii": false,
       "bar_format": null,
       "colour": null,
       "elapsed": 0.012047052383422852,
       "initial": 0,
       "n": 0,
       "ncols": null,
       "nrows": null,
       "postfix": null,
       "prefix": "",
       "rate": null,
       "total": 479,
       "unit": "it",
       "unit_divisor": 1000,
       "unit_scale": false
      },
      "application/vnd.jupyter.widget-view+json": {
       "model_id": "c008b42993924005ba10dac8516b85c8",
       "version_major": 2,
       "version_minor": 0
      },
      "text/plain": [
       "  0%|          | 0/479 [00:00<?, ?it/s]"
      ]
     },
     "metadata": {},
     "output_type": "display_data"
    },
    {
     "name": "stdout",
     "output_type": "stream",
     "text": [
      "Initialization using the steady-state and dynamical models.\n",
      "Reinitialize the regular ODE parameters based on estimated global latent time.\n"
     ]
    },
    {
     "data": {
      "application/json": {
       "ascii": false,
       "bar_format": null,
       "colour": null,
       "elapsed": 0.0027589797973632812,
       "initial": 0,
       "n": 0,
       "ncols": null,
       "nrows": null,
       "postfix": null,
       "prefix": "",
       "rate": null,
       "total": 479,
       "unit": "it",
       "unit_divisor": 1000,
       "unit_scale": false
      },
      "application/vnd.jupyter.widget-view+json": {
       "model_id": "fc7b92a248344ac8bd3afc031d81ddf7",
       "version_major": 2,
       "version_minor": 0
      },
      "text/plain": [
       "  0%|          | 0/479 [00:00<?, ?it/s]"
      ]
     },
     "metadata": {},
     "output_type": "display_data"
    },
    {
     "name": "stdout",
     "output_type": "stream",
     "text": [
      "3 clusters detected based on gene co-expression.\n",
      "(0.59, 0.8009445508520957), (0.41, 0.36772632850943016)\n",
      "KS-test result: [1. 0. 1.]\n",
      "Initial induction: 368, repression: 111/479\n",
      "Learning Rate based on Data Sparsity: 0.0003\n",
      "--------------------------- Train a VeloVAE ---------------------------\n",
      "*********        Creating Training/Validation Datasets        *********\n",
      "*********                      Finished.                      *********\n",
      "*********                 Creating optimizers                 *********\n",
      "*********                      Finished.                      *********\n",
      "*********                    Start training                   *********\n",
      "*********                      Stage  1                       *********\n",
      "Total Number of Iterations Per Epoch: 6, test iteration: 10\n",
      "*********       Stage 1: Early Stop Triggered at epoch 731.       *********\n",
      "*********                      Stage  2                       *********\n",
      "*********             Velocity Refinement Round 1             *********\n"
     ]
    },
    {
     "data": {
      "application/json": {
       "ascii": false,
       "bar_format": null,
       "colour": null,
       "elapsed": 0.003076314926147461,
       "initial": 0,
       "n": 0,
       "ncols": null,
       "nrows": null,
       "postfix": null,
       "prefix": "",
       "rate": null,
       "total": 1000,
       "unit": "it",
       "unit_divisor": 1000,
       "unit_scale": false
      },
      "application/vnd.jupyter.widget-view+json": {
       "model_id": "942dc872c68545a99d4da3c403813813",
       "version_major": 2,
       "version_minor": 0
      },
      "text/plain": [
       "  0%|          | 0/1000 [00:00<?, ?it/s]"
      ]
     },
     "metadata": {},
     "output_type": "display_data"
    },
    {
     "name": "stdout",
     "output_type": "stream",
     "text": [
      "Percentage of Invalid Sets: 0.142\n",
      "Average Set Size: 18\n",
      "*********     Round 1: Early Stop Triggered at epoch 907.    *********\n",
      "Change in noise variance: 0.0464\n",
      "*********             Velocity Refinement Round 2             *********\n",
      "*********     Round 2: Early Stop Triggered at epoch 973.    *********\n",
      "Change in noise variance: 0.0051\n",
      "Change in x0: 0.2664\n",
      "*********             Velocity Refinement Round 3             *********\n",
      "*********     Round 3: Early Stop Triggered at epoch 1014.    *********\n",
      "Change in noise variance: 0.0007\n",
      "Change in x0: 0.1456\n",
      "*********             Velocity Refinement Round 4             *********\n",
      "*********     Round 4: Early Stop Triggered at epoch 1025.    *********\n",
      "Change in noise variance: 0.0000\n",
      "Change in x0: 0.1260\n",
      "*********             Velocity Refinement Round 5             *********\n",
      "*********     Round 5: Early Stop Triggered at epoch 1094.    *********\n",
      "Change in noise variance: 0.0000\n",
      "Change in x0: 0.1118\n",
      "*********             Velocity Refinement Round 6             *********\n",
      "*********     Round 6: Early Stop Triggered at epoch 1165.    *********\n",
      "Change in noise variance: 0.0000\n",
      "Change in x0: 0.1064\n",
      "*********             Velocity Refinement Round 7             *********\n",
      "Stage 2: Early Stop Triggered at round 6.\n",
      "*********              Finished. Total Time =   0 h :  1 m : 33 s             *********\n",
      "Final: Train ELBO = 587.956,\tTest ELBO = 546.589\n",
      "Run 11, file /ictstr01/groups/ml01/workspace/yifan.chen/regvelo_reproducibility/data/dyngen/complexity_1/processed/simulation_13.zarr.\n",
      "Estimating ODE parameters...\n"
     ]
    },
    {
     "data": {
      "application/json": {
       "ascii": false,
       "bar_format": null,
       "colour": null,
       "elapsed": 0.003274202346801758,
       "initial": 0,
       "n": 0,
       "ncols": null,
       "nrows": null,
       "postfix": null,
       "prefix": "",
       "rate": null,
       "total": 514,
       "unit": "it",
       "unit_divisor": 1000,
       "unit_scale": false
      },
      "application/vnd.jupyter.widget-view+json": {
       "model_id": "32071c832b264e50b90fd3782ef2dc56",
       "version_major": 2,
       "version_minor": 0
      },
      "text/plain": [
       "  0%|          | 0/514 [00:00<?, ?it/s]"
      ]
     },
     "metadata": {},
     "output_type": "display_data"
    },
    {
     "name": "stdout",
     "output_type": "stream",
     "text": [
      "Detected 502 velocity genes.\n",
      "Estimating the variance...\n"
     ]
    },
    {
     "data": {
      "application/json": {
       "ascii": false,
       "bar_format": null,
       "colour": null,
       "elapsed": 0.010432004928588867,
       "initial": 0,
       "n": 0,
       "ncols": null,
       "nrows": null,
       "postfix": null,
       "prefix": "",
       "rate": null,
       "total": 514,
       "unit": "it",
       "unit_divisor": 1000,
       "unit_scale": false
      },
      "application/vnd.jupyter.widget-view+json": {
       "model_id": "164af3d23fd84f9493ea5470c36aab02",
       "version_major": 2,
       "version_minor": 0
      },
      "text/plain": [
       "  0%|          | 0/514 [00:00<?, ?it/s]"
      ]
     },
     "metadata": {},
     "output_type": "display_data"
    },
    {
     "name": "stdout",
     "output_type": "stream",
     "text": [
      "Initialization using the steady-state and dynamical models.\n",
      "Reinitialize the regular ODE parameters based on estimated global latent time.\n"
     ]
    },
    {
     "data": {
      "application/json": {
       "ascii": false,
       "bar_format": null,
       "colour": null,
       "elapsed": 0.002786874771118164,
       "initial": 0,
       "n": 0,
       "ncols": null,
       "nrows": null,
       "postfix": null,
       "prefix": "",
       "rate": null,
       "total": 514,
       "unit": "it",
       "unit_divisor": 1000,
       "unit_scale": false
      },
      "application/vnd.jupyter.widget-view+json": {
       "model_id": "c0780a2a84414bbcb7282c3204e39c40",
       "version_major": 2,
       "version_minor": 0
      },
      "text/plain": [
       "  0%|          | 0/514 [00:00<?, ?it/s]"
      ]
     },
     "metadata": {},
     "output_type": "display_data"
    },
    {
     "name": "stdout",
     "output_type": "stream",
     "text": [
      "3 clusters detected based on gene co-expression.\n",
      "KS-test result: [1. 1. 1.]\n",
      "Assign cluster 0 to repressive\n",
      "Initial induction: 315, repression: 199/514\n",
      "Learning Rate based on Data Sparsity: 0.0004\n",
      "--------------------------- Train a VeloVAE ---------------------------\n",
      "*********        Creating Training/Validation Datasets        *********\n",
      "*********                      Finished.                      *********\n",
      "*********                 Creating optimizers                 *********\n",
      "*********                      Finished.                      *********\n",
      "*********                    Start training                   *********\n",
      "*********                      Stage  1                       *********\n",
      "Total Number of Iterations Per Epoch: 6, test iteration: 10\n",
      "*********       Stage 1: Early Stop Triggered at epoch 579.       *********\n",
      "*********                      Stage  2                       *********\n",
      "*********             Velocity Refinement Round 1             *********\n"
     ]
    },
    {
     "data": {
      "application/json": {
       "ascii": false,
       "bar_format": null,
       "colour": null,
       "elapsed": 0.011619806289672852,
       "initial": 0,
       "n": 0,
       "ncols": null,
       "nrows": null,
       "postfix": null,
       "prefix": "",
       "rate": null,
       "total": 1000,
       "unit": "it",
       "unit_divisor": 1000,
       "unit_scale": false
      },
      "application/vnd.jupyter.widget-view+json": {
       "model_id": "e2b9a764241d4322bbe604e27f3e22c2",
       "version_major": 2,
       "version_minor": 0
      },
      "text/plain": [
       "  0%|          | 0/1000 [00:00<?, ?it/s]"
      ]
     },
     "metadata": {},
     "output_type": "display_data"
    },
    {
     "name": "stdout",
     "output_type": "stream",
     "text": [
      "Percentage of Invalid Sets: 0.049\n",
      "Average Set Size: 20\n",
      "*********     Round 1: Early Stop Triggered at epoch 900.    *********\n",
      "Change in noise variance: 0.0355\n",
      "*********             Velocity Refinement Round 2             *********\n",
      "*********     Round 2: Early Stop Triggered at epoch 962.    *********\n",
      "Change in noise variance: 0.0139\n",
      "Change in x0: 0.4108\n",
      "*********             Velocity Refinement Round 3             *********\n",
      "*********     Round 3: Early Stop Triggered at epoch 969.    *********\n",
      "Change in noise variance: 0.0025\n",
      "Change in x0: 0.2712\n",
      "*********             Velocity Refinement Round 4             *********\n",
      "*********     Round 4: Early Stop Triggered at epoch 1051.    *********\n",
      "Change in noise variance: 0.0009\n",
      "Change in x0: 0.2049\n",
      "*********             Velocity Refinement Round 5             *********\n",
      "*********     Round 5: Early Stop Triggered at epoch 1075.    *********\n",
      "Change in noise variance: 0.0000\n",
      "Change in x0: 0.1712\n",
      "*********             Velocity Refinement Round 6             *********\n",
      "*********     Round 6: Early Stop Triggered at epoch 1106.    *********\n",
      "Change in noise variance: 0.0000\n",
      "Change in x0: 0.1455\n",
      "*********             Velocity Refinement Round 7             *********\n",
      "*********     Round 7: Early Stop Triggered at epoch 1125.    *********\n",
      "Change in noise variance: 0.0000\n",
      "Change in x0: 0.1236\n",
      "*********             Velocity Refinement Round 8             *********\n",
      "*********     Round 8: Early Stop Triggered at epoch 1132.    *********\n",
      "Change in noise variance: 0.0000\n",
      "Change in x0: 0.1053\n",
      "*********             Velocity Refinement Round 9             *********\n",
      "*********     Round 9: Early Stop Triggered at epoch 1151.    *********\n",
      "Change in noise variance: 0.0000\n",
      "Change in x0: 0.0940\n",
      "*********             Velocity Refinement Round 10             *********\n",
      "*********     Round 10: Early Stop Triggered at epoch 1167.    *********\n",
      "Change in noise variance: 0.0000\n",
      "Change in x0: 0.0862\n",
      "*********             Velocity Refinement Round 11             *********\n",
      "Stage 2: Early Stop Triggered at round 10.\n",
      "*********              Finished. Total Time =   0 h :  1 m : 32 s             *********\n",
      "Final: Train ELBO = 571.016,\tTest ELBO = 484.392\n",
      "Run 12, file /ictstr01/groups/ml01/workspace/yifan.chen/regvelo_reproducibility/data/dyngen/complexity_1/processed/simulation_2.zarr.\n",
      "Estimating ODE parameters...\n"
     ]
    },
    {
     "data": {
      "application/json": {
       "ascii": false,
       "bar_format": null,
       "colour": null,
       "elapsed": 0.0034596920013427734,
       "initial": 0,
       "n": 0,
       "ncols": null,
       "nrows": null,
       "postfix": null,
       "prefix": "",
       "rate": null,
       "total": 690,
       "unit": "it",
       "unit_divisor": 1000,
       "unit_scale": false
      },
      "application/vnd.jupyter.widget-view+json": {
       "model_id": "7eb4a5855a504eac91d7afaa0f80e1b6",
       "version_major": 2,
       "version_minor": 0
      },
      "text/plain": [
       "  0%|          | 0/690 [00:00<?, ?it/s]"
      ]
     },
     "metadata": {},
     "output_type": "display_data"
    },
    {
     "name": "stdout",
     "output_type": "stream",
     "text": [
      "Detected 424 velocity genes.\n",
      "Estimating the variance...\n"
     ]
    },
    {
     "data": {
      "application/json": {
       "ascii": false,
       "bar_format": null,
       "colour": null,
       "elapsed": 0.010859489440917969,
       "initial": 0,
       "n": 0,
       "ncols": null,
       "nrows": null,
       "postfix": null,
       "prefix": "",
       "rate": null,
       "total": 690,
       "unit": "it",
       "unit_divisor": 1000,
       "unit_scale": false
      },
      "application/vnd.jupyter.widget-view+json": {
       "model_id": "d076f783814f45ffb7f27b3afef3cea2",
       "version_major": 2,
       "version_minor": 0
      },
      "text/plain": [
       "  0%|          | 0/690 [00:00<?, ?it/s]"
      ]
     },
     "metadata": {},
     "output_type": "display_data"
    },
    {
     "name": "stdout",
     "output_type": "stream",
     "text": [
      "Initialization using the steady-state and dynamical models.\n",
      "Reinitialize the regular ODE parameters based on estimated global latent time.\n"
     ]
    },
    {
     "data": {
      "application/json": {
       "ascii": false,
       "bar_format": null,
       "colour": null,
       "elapsed": 0.002866029739379883,
       "initial": 0,
       "n": 0,
       "ncols": null,
       "nrows": null,
       "postfix": null,
       "prefix": "",
       "rate": null,
       "total": 690,
       "unit": "it",
       "unit_divisor": 1000,
       "unit_scale": false
      },
      "application/vnd.jupyter.widget-view+json": {
       "model_id": "6c5edea13bad460a91bf32706fdc17ba",
       "version_major": 2,
       "version_minor": 0
      },
      "text/plain": [
       "  0%|          | 0/690 [00:00<?, ?it/s]"
      ]
     },
     "metadata": {},
     "output_type": "display_data"
    },
    {
     "name": "stdout",
     "output_type": "stream",
     "text": [
      "3 clusters detected based on gene co-expression.\n",
      "(0.63, 0.7924425318102936), (0.37, 0.25047287353531905)\n",
      "(0.32, 0.39095042714182476), (0.68, 0.9377617670621354)\n",
      "(0.51, 0.35416668477069335), (0.49, 0.8927600435275674)\n",
      "KS-test result: [0. 0. 0.]\n",
      "Initial induction: 431, repression: 259/690\n",
      "Learning Rate based on Data Sparsity: 0.0000\n",
      "--------------------------- Train a VeloVAE ---------------------------\n",
      "*********        Creating Training/Validation Datasets        *********\n",
      "*********                      Finished.                      *********\n",
      "*********                 Creating optimizers                 *********\n",
      "*********                      Finished.                      *********\n",
      "*********                    Start training                   *********\n",
      "*********                      Stage  1                       *********\n",
      "Total Number of Iterations Per Epoch: 6, test iteration: 10\n",
      "*********                      Stage  2                       *********\n",
      "*********             Velocity Refinement Round 1             *********\n"
     ]
    },
    {
     "data": {
      "application/json": {
       "ascii": false,
       "bar_format": null,
       "colour": null,
       "elapsed": 0.006981372833251953,
       "initial": 0,
       "n": 0,
       "ncols": null,
       "nrows": null,
       "postfix": null,
       "prefix": "",
       "rate": null,
       "total": 1000,
       "unit": "it",
       "unit_divisor": 1000,
       "unit_scale": false
      },
      "application/vnd.jupyter.widget-view+json": {
       "model_id": "1c7967427c2c4298b6889eb6c8a2a34a",
       "version_major": 2,
       "version_minor": 0
      },
      "text/plain": [
       "  0%|          | 0/1000 [00:00<?, ?it/s]"
      ]
     },
     "metadata": {},
     "output_type": "display_data"
    },
    {
     "name": "stdout",
     "output_type": "stream",
     "text": [
      "Percentage of Invalid Sets: 0.026\n",
      "Average Set Size: 20\n",
      "*********     Round 1: Early Stop Triggered at epoch 1012.    *********\n",
      "Change in noise variance: 0.2075\n",
      "*********             Velocity Refinement Round 2             *********\n",
      "*********     Round 2: Early Stop Triggered at epoch 1021.    *********\n",
      "Change in noise variance: 0.0034\n",
      "Change in x0: 0.9044\n",
      "*********             Velocity Refinement Round 3             *********\n",
      "*********     Round 3: Early Stop Triggered at epoch 1030.    *********\n",
      "Change in noise variance: 0.0019\n",
      "Change in x0: 0.6653\n",
      "*********             Velocity Refinement Round 4             *********\n",
      "*********     Round 4: Early Stop Triggered at epoch 1039.    *********\n",
      "Change in noise variance: 0.0003\n",
      "Change in x0: 0.5567\n",
      "*********             Velocity Refinement Round 5             *********\n",
      "*********     Round 5: Early Stop Triggered at epoch 1046.    *********\n",
      "Change in noise variance: 0.0000\n",
      "Change in x0: 0.4385\n",
      "*********             Velocity Refinement Round 6             *********\n",
      "*********     Round 6: Early Stop Triggered at epoch 1053.    *********\n",
      "Change in noise variance: 0.0000\n",
      "Change in x0: 0.3859\n",
      "*********             Velocity Refinement Round 7             *********\n",
      "*********     Round 7: Early Stop Triggered at epoch 1060.    *********\n",
      "Change in noise variance: 0.0000\n",
      "Change in x0: 0.3471\n",
      "*********             Velocity Refinement Round 8             *********\n",
      "*********     Round 8: Early Stop Triggered at epoch 1067.    *********\n",
      "Change in noise variance: 0.0000\n",
      "Change in x0: 0.3200\n",
      "*********             Velocity Refinement Round 9             *********\n",
      "*********     Round 9: Early Stop Triggered at epoch 1074.    *********\n",
      "Change in noise variance: 0.0000\n",
      "Change in x0: 0.3100\n",
      "*********             Velocity Refinement Round 10             *********\n",
      "Stage 2: Early Stop Triggered at round 9.\n",
      "*********              Finished. Total Time =   0 h :  1 m : 30 s             *********\n",
      "Final: Train ELBO = -1431.609,\tTest ELBO = -1512.579\n",
      "Run 13, file /ictstr01/groups/ml01/workspace/yifan.chen/regvelo_reproducibility/data/dyngen/complexity_1/processed/simulation_16.zarr.\n",
      "Estimating ODE parameters...\n"
     ]
    },
    {
     "data": {
      "application/json": {
       "ascii": false,
       "bar_format": null,
       "colour": null,
       "elapsed": 0.012249946594238281,
       "initial": 0,
       "n": 0,
       "ncols": null,
       "nrows": null,
       "postfix": null,
       "prefix": "",
       "rate": null,
       "total": 536,
       "unit": "it",
       "unit_divisor": 1000,
       "unit_scale": false
      },
      "application/vnd.jupyter.widget-view+json": {
       "model_id": "3ca1cfe13fef4a1d9b292efce325e7f8",
       "version_major": 2,
       "version_minor": 0
      },
      "text/plain": [
       "  0%|          | 0/536 [00:00<?, ?it/s]"
      ]
     },
     "metadata": {},
     "output_type": "display_data"
    },
    {
     "name": "stdout",
     "output_type": "stream",
     "text": [
      "Detected 481 velocity genes.\n",
      "Estimating the variance...\n"
     ]
    },
    {
     "data": {
      "application/json": {
       "ascii": false,
       "bar_format": null,
       "colour": null,
       "elapsed": 0.009645462036132812,
       "initial": 0,
       "n": 0,
       "ncols": null,
       "nrows": null,
       "postfix": null,
       "prefix": "",
       "rate": null,
       "total": 536,
       "unit": "it",
       "unit_divisor": 1000,
       "unit_scale": false
      },
      "application/vnd.jupyter.widget-view+json": {
       "model_id": "05d816a989014fdca8bf85e3bd9a0f6c",
       "version_major": 2,
       "version_minor": 0
      },
      "text/plain": [
       "  0%|          | 0/536 [00:00<?, ?it/s]"
      ]
     },
     "metadata": {},
     "output_type": "display_data"
    },
    {
     "name": "stdout",
     "output_type": "stream",
     "text": [
      "Initialization using the steady-state and dynamical models.\n",
      "Reinitialize the regular ODE parameters based on estimated global latent time.\n"
     ]
    },
    {
     "data": {
      "application/json": {
       "ascii": false,
       "bar_format": null,
       "colour": null,
       "elapsed": 0.002735137939453125,
       "initial": 0,
       "n": 0,
       "ncols": null,
       "nrows": null,
       "postfix": null,
       "prefix": "",
       "rate": null,
       "total": 536,
       "unit": "it",
       "unit_divisor": 1000,
       "unit_scale": false
      },
      "application/vnd.jupyter.widget-view+json": {
       "model_id": "5e73e99728594a37a6e205ce0c9a48e7",
       "version_major": 2,
       "version_minor": 0
      },
      "text/plain": [
       "  0%|          | 0/536 [00:00<?, ?it/s]"
      ]
     },
     "metadata": {},
     "output_type": "display_data"
    },
    {
     "name": "stdout",
     "output_type": "stream",
     "text": [
      "3 clusters detected based on gene co-expression.\n",
      "KS-test result: [1. 1. 1.]\n",
      "Assign cluster 1 to repressive\n",
      "Initial induction: 325, repression: 211/536\n",
      "Learning Rate based on Data Sparsity: 0.0002\n",
      "--------------------------- Train a VeloVAE ---------------------------\n",
      "*********        Creating Training/Validation Datasets        *********\n",
      "*********                      Finished.                      *********\n",
      "*********                 Creating optimizers                 *********\n",
      "*********                      Finished.                      *********\n",
      "*********                    Start training                   *********\n",
      "*********                      Stage  1                       *********\n",
      "Total Number of Iterations Per Epoch: 6, test iteration: 10\n",
      "*********                      Stage  2                       *********\n",
      "*********             Velocity Refinement Round 1             *********\n"
     ]
    },
    {
     "data": {
      "application/json": {
       "ascii": false,
       "bar_format": null,
       "colour": null,
       "elapsed": 0.004318714141845703,
       "initial": 0,
       "n": 0,
       "ncols": null,
       "nrows": null,
       "postfix": null,
       "prefix": "",
       "rate": null,
       "total": 1000,
       "unit": "it",
       "unit_divisor": 1000,
       "unit_scale": false
      },
      "application/vnd.jupyter.widget-view+json": {
       "model_id": "dcfe044642064ac1ba39ca7f2614fd54",
       "version_major": 2,
       "version_minor": 0
      },
      "text/plain": [
       "  0%|          | 0/1000 [00:00<?, ?it/s]"
      ]
     },
     "metadata": {},
     "output_type": "display_data"
    },
    {
     "name": "stdout",
     "output_type": "stream",
     "text": [
      "Percentage of Invalid Sets: 0.078\n",
      "Average Set Size: 20\n",
      "Change in noise variance: 0.0685\n",
      "*********             Velocity Refinement Round 2             *********\n",
      "*********     Round 2: Early Stop Triggered at epoch 1549.    *********\n",
      "Change in noise variance: 0.0195\n",
      "Change in x0: 0.2868\n",
      "*********             Velocity Refinement Round 3             *********\n",
      "*********     Round 3: Early Stop Triggered at epoch 1613.    *********\n",
      "Change in noise variance: 0.0019\n",
      "Change in x0: 0.2189\n",
      "*********             Velocity Refinement Round 4             *********\n",
      "*********     Round 4: Early Stop Triggered at epoch 1700.    *********\n",
      "Change in noise variance: 0.0004\n",
      "Change in x0: 0.1530\n",
      "*********             Velocity Refinement Round 5             *********\n",
      "*********     Round 5: Early Stop Triggered at epoch 1734.    *********\n",
      "Change in noise variance: 0.0000\n",
      "Change in x0: 0.1245\n",
      "*********             Velocity Refinement Round 6             *********\n",
      "*********     Round 6: Early Stop Triggered at epoch 1780.    *********\n",
      "Change in noise variance: 0.0000\n",
      "Change in x0: 0.1096\n",
      "*********             Velocity Refinement Round 7             *********\n",
      "*********     Round 7: Early Stop Triggered at epoch 1862.    *********\n",
      "Change in noise variance: 0.0000\n",
      "Change in x0: 0.0926\n",
      "*********             Velocity Refinement Round 8             *********\n",
      "*********     Round 8: Early Stop Triggered at epoch 1901.    *********\n",
      "Change in noise variance: 0.0000\n",
      "Change in x0: 0.0744\n",
      "*********             Velocity Refinement Round 9             *********\n",
      "*********     Round 9: Early Stop Triggered at epoch 1922.    *********\n",
      "Change in noise variance: 0.0000\n",
      "Change in x0: 0.0624\n",
      "*********             Velocity Refinement Round 10             *********\n",
      "*********     Round 10: Early Stop Triggered at epoch 2086.    *********\n",
      "Change in noise variance: 0.0000\n",
      "Change in x0: 0.0577\n",
      "*********             Velocity Refinement Round 11             *********\n",
      "Stage 2: Early Stop Triggered at round 10.\n",
      "*********              Finished. Total Time =   0 h :  2 m : 43 s             *********\n",
      "Final: Train ELBO = 732.020,\tTest ELBO = 631.934\n",
      "Run 14, file /ictstr01/groups/ml01/workspace/yifan.chen/regvelo_reproducibility/data/dyngen/complexity_1/processed/simulation_1.zarr.\n",
      "Estimating ODE parameters...\n"
     ]
    },
    {
     "data": {
      "application/json": {
       "ascii": false,
       "bar_format": null,
       "colour": null,
       "elapsed": 0.0035321712493896484,
       "initial": 0,
       "n": 0,
       "ncols": null,
       "nrows": null,
       "postfix": null,
       "prefix": "",
       "rate": null,
       "total": 368,
       "unit": "it",
       "unit_divisor": 1000,
       "unit_scale": false
      },
      "application/vnd.jupyter.widget-view+json": {
       "model_id": "8cf72f3ccf24482d82dbccc02dfa4555",
       "version_major": 2,
       "version_minor": 0
      },
      "text/plain": [
       "  0%|          | 0/368 [00:00<?, ?it/s]"
      ]
     },
     "metadata": {},
     "output_type": "display_data"
    },
    {
     "name": "stdout",
     "output_type": "stream",
     "text": [
      "Detected 345 velocity genes.\n",
      "Estimating the variance...\n"
     ]
    },
    {
     "data": {
      "application/json": {
       "ascii": false,
       "bar_format": null,
       "colour": null,
       "elapsed": 0.007333040237426758,
       "initial": 0,
       "n": 0,
       "ncols": null,
       "nrows": null,
       "postfix": null,
       "prefix": "",
       "rate": null,
       "total": 368,
       "unit": "it",
       "unit_divisor": 1000,
       "unit_scale": false
      },
      "application/vnd.jupyter.widget-view+json": {
       "model_id": "5a6e3f99bea5491e8c9a98518dd0f7c8",
       "version_major": 2,
       "version_minor": 0
      },
      "text/plain": [
       "  0%|          | 0/368 [00:00<?, ?it/s]"
      ]
     },
     "metadata": {},
     "output_type": "display_data"
    },
    {
     "name": "stdout",
     "output_type": "stream",
     "text": [
      "Initialization using the steady-state and dynamical models.\n",
      "Reinitialize the regular ODE parameters based on estimated global latent time.\n"
     ]
    },
    {
     "data": {
      "application/json": {
       "ascii": false,
       "bar_format": null,
       "colour": null,
       "elapsed": 0.0026960372924804688,
       "initial": 0,
       "n": 0,
       "ncols": null,
       "nrows": null,
       "postfix": null,
       "prefix": "",
       "rate": null,
       "total": 368,
       "unit": "it",
       "unit_divisor": 1000,
       "unit_scale": false
      },
      "application/vnd.jupyter.widget-view+json": {
       "model_id": "cea6147daf6d41c59dd46f021abae2a3",
       "version_major": 2,
       "version_minor": 0
      },
      "text/plain": [
       "  0%|          | 0/368 [00:00<?, ?it/s]"
      ]
     },
     "metadata": {},
     "output_type": "display_data"
    },
    {
     "name": "stdout",
     "output_type": "stream",
     "text": [
      "3 clusters detected based on gene co-expression.\n",
      "KS-test result: [1. 1. 1.]\n",
      "Assign cluster 1 to repressive\n",
      "Initial induction: 232, repression: 136/368\n",
      "Learning Rate based on Data Sparsity: 0.0004\n",
      "--------------------------- Train a VeloVAE ---------------------------\n",
      "*********        Creating Training/Validation Datasets        *********\n",
      "*********                      Finished.                      *********\n",
      "*********                 Creating optimizers                 *********\n",
      "*********                      Finished.                      *********\n",
      "*********                    Start training                   *********\n",
      "*********                      Stage  1                       *********\n",
      "Total Number of Iterations Per Epoch: 6, test iteration: 10\n",
      "*********                      Stage  2                       *********\n",
      "*********             Velocity Refinement Round 1             *********\n"
     ]
    },
    {
     "data": {
      "application/json": {
       "ascii": false,
       "bar_format": null,
       "colour": null,
       "elapsed": 0.003964424133300781,
       "initial": 0,
       "n": 0,
       "ncols": null,
       "nrows": null,
       "postfix": null,
       "prefix": "",
       "rate": null,
       "total": 1000,
       "unit": "it",
       "unit_divisor": 1000,
       "unit_scale": false
      },
      "application/vnd.jupyter.widget-view+json": {
       "model_id": "accd54ebb2304e52b86c1bb17f2682b7",
       "version_major": 2,
       "version_minor": 0
      },
      "text/plain": [
       "  0%|          | 0/1000 [00:00<?, ?it/s]"
      ]
     },
     "metadata": {},
     "output_type": "display_data"
    },
    {
     "name": "stdout",
     "output_type": "stream",
     "text": [
      "Percentage of Invalid Sets: 0.029\n",
      "Average Set Size: 20\n",
      "*********     Round 1: Early Stop Triggered at epoch 1422.    *********\n",
      "Change in noise variance: 0.0486\n",
      "*********             Velocity Refinement Round 2             *********\n",
      "*********     Round 2: Early Stop Triggered at epoch 1458.    *********\n",
      "Change in noise variance: 0.0091\n",
      "Change in x0: 0.3043\n",
      "*********             Velocity Refinement Round 3             *********\n",
      "*********     Round 3: Early Stop Triggered at epoch 1482.    *********\n",
      "Change in noise variance: 0.0005\n",
      "Change in x0: 0.1621\n",
      "*********             Velocity Refinement Round 4             *********\n",
      "*********     Round 4: Early Stop Triggered at epoch 1568.    *********\n",
      "Change in noise variance: 0.0000\n",
      "Change in x0: 0.1108\n",
      "*********             Velocity Refinement Round 5             *********\n",
      "*********     Round 5: Early Stop Triggered at epoch 1575.    *********\n",
      "Change in noise variance: 0.0000\n",
      "Change in x0: 0.0903\n",
      "*********             Velocity Refinement Round 6             *********\n",
      "*********     Round 6: Early Stop Triggered at epoch 1586.    *********\n",
      "Change in noise variance: 0.0000\n",
      "Change in x0: 0.0703\n",
      "*********             Velocity Refinement Round 7             *********\n",
      "*********     Round 7: Early Stop Triggered at epoch 1610.    *********\n",
      "Change in noise variance: 0.0000\n",
      "Change in x0: 0.0597\n",
      "*********             Velocity Refinement Round 8             *********\n",
      "*********     Round 8: Early Stop Triggered at epoch 1621.    *********\n",
      "Change in noise variance: 0.0000\n",
      "Change in x0: 0.0533\n",
      "*********             Velocity Refinement Round 9             *********\n",
      "Stage 2: Early Stop Triggered at round 8.\n",
      "*********              Finished. Total Time =   0 h :  2 m :  7 s             *********\n",
      "Final: Train ELBO = 558.691,\tTest ELBO = 509.981\n",
      "Run 15, file /ictstr01/groups/ml01/workspace/yifan.chen/regvelo_reproducibility/data/dyngen/complexity_1/processed/simulation_18.zarr.\n",
      "Estimating ODE parameters...\n"
     ]
    },
    {
     "data": {
      "application/json": {
       "ascii": false,
       "bar_format": null,
       "colour": null,
       "elapsed": 0.003492116928100586,
       "initial": 0,
       "n": 0,
       "ncols": null,
       "nrows": null,
       "postfix": null,
       "prefix": "",
       "rate": null,
       "total": 364,
       "unit": "it",
       "unit_divisor": 1000,
       "unit_scale": false
      },
      "application/vnd.jupyter.widget-view+json": {
       "model_id": "66a81d02ed974536bb1f54322569445c",
       "version_major": 2,
       "version_minor": 0
      },
      "text/plain": [
       "  0%|          | 0/364 [00:00<?, ?it/s]"
      ]
     },
     "metadata": {},
     "output_type": "display_data"
    },
    {
     "name": "stdout",
     "output_type": "stream",
     "text": [
      "Detected 327 velocity genes.\n",
      "Estimating the variance...\n"
     ]
    },
    {
     "data": {
      "application/json": {
       "ascii": false,
       "bar_format": null,
       "colour": null,
       "elapsed": 0.01234292984008789,
       "initial": 0,
       "n": 0,
       "ncols": null,
       "nrows": null,
       "postfix": null,
       "prefix": "",
       "rate": null,
       "total": 364,
       "unit": "it",
       "unit_divisor": 1000,
       "unit_scale": false
      },
      "application/vnd.jupyter.widget-view+json": {
       "model_id": "6a389c5d861440999e4b9b755554f2cc",
       "version_major": 2,
       "version_minor": 0
      },
      "text/plain": [
       "  0%|          | 0/364 [00:00<?, ?it/s]"
      ]
     },
     "metadata": {},
     "output_type": "display_data"
    },
    {
     "name": "stdout",
     "output_type": "stream",
     "text": [
      "Initialization using the steady-state and dynamical models.\n",
      "Reinitialize the regular ODE parameters based on estimated global latent time.\n"
     ]
    },
    {
     "data": {
      "application/json": {
       "ascii": false,
       "bar_format": null,
       "colour": null,
       "elapsed": 0.002795696258544922,
       "initial": 0,
       "n": 0,
       "ncols": null,
       "nrows": null,
       "postfix": null,
       "prefix": "",
       "rate": null,
       "total": 364,
       "unit": "it",
       "unit_divisor": 1000,
       "unit_scale": false
      },
      "application/vnd.jupyter.widget-view+json": {
       "model_id": "a27af0a7b8904abda6c41437218fea23",
       "version_major": 2,
       "version_minor": 0
      },
      "text/plain": [
       "  0%|          | 0/364 [00:00<?, ?it/s]"
      ]
     },
     "metadata": {},
     "output_type": "display_data"
    },
    {
     "name": "stdout",
     "output_type": "stream",
     "text": [
      "3 clusters detected based on gene co-expression.\n",
      "(0.51, 0.3274513378440137), (0.49, 0.8157796920163066)\n",
      "KS-test result: [1. 1. 0.]\n",
      "Initial induction: 264, repression: 100/364\n",
      "Learning Rate based on Data Sparsity: 0.0002\n",
      "--------------------------- Train a VeloVAE ---------------------------\n",
      "*********        Creating Training/Validation Datasets        *********\n",
      "*********                      Finished.                      *********\n",
      "*********                 Creating optimizers                 *********\n",
      "*********                      Finished.                      *********\n",
      "*********                    Start training                   *********\n",
      "*********                      Stage  1                       *********\n",
      "Total Number of Iterations Per Epoch: 6, test iteration: 10\n",
      "*********                      Stage  2                       *********\n",
      "*********             Velocity Refinement Round 1             *********\n"
     ]
    },
    {
     "data": {
      "application/json": {
       "ascii": false,
       "bar_format": null,
       "colour": null,
       "elapsed": 0.012138843536376953,
       "initial": 0,
       "n": 0,
       "ncols": null,
       "nrows": null,
       "postfix": null,
       "prefix": "",
       "rate": null,
       "total": 1000,
       "unit": "it",
       "unit_divisor": 1000,
       "unit_scale": false
      },
      "application/vnd.jupyter.widget-view+json": {
       "model_id": "c1c938f0e13740e38f68d044f5296a46",
       "version_major": 2,
       "version_minor": 0
      },
      "text/plain": [
       "  0%|          | 0/1000 [00:00<?, ?it/s]"
      ]
     },
     "metadata": {},
     "output_type": "display_data"
    },
    {
     "name": "stdout",
     "output_type": "stream",
     "text": [
      "Percentage of Invalid Sets: 0.034\n",
      "Average Set Size: 20\n",
      "Change in noise variance: 0.0658\n",
      "*********             Velocity Refinement Round 2             *********\n",
      "*********     Round 2: Early Stop Triggered at epoch 1572.    *********\n",
      "Change in noise variance: 0.0105\n",
      "Change in x0: 0.2625\n",
      "*********             Velocity Refinement Round 3             *********\n",
      "*********     Round 3: Early Stop Triggered at epoch 1616.    *********\n",
      "Change in noise variance: 0.0015\n",
      "Change in x0: 0.1819\n",
      "*********             Velocity Refinement Round 4             *********\n",
      "*********     Round 4: Early Stop Triggered at epoch 1725.    *********\n",
      "Change in noise variance: 0.0004\n",
      "Change in x0: 0.1387\n",
      "*********             Velocity Refinement Round 5             *********\n",
      "*********     Round 5: Early Stop Triggered at epoch 1816.    *********\n",
      "Change in noise variance: 0.0000\n",
      "Change in x0: 0.1053\n",
      "*********             Velocity Refinement Round 6             *********\n",
      "*********     Round 6: Early Stop Triggered at epoch 1943.    *********\n",
      "Change in noise variance: 0.0000\n",
      "Change in x0: 0.0764\n",
      "*********             Velocity Refinement Round 7             *********\n",
      "*********     Round 7: Early Stop Triggered at epoch 2144.    *********\n",
      "Change in noise variance: 0.0000\n",
      "Change in x0: 0.0618\n",
      "*********             Velocity Refinement Round 8             *********\n",
      "*********     Round 8: Early Stop Triggered at epoch 2200.    *********\n",
      "Change in noise variance: 0.0000\n",
      "Change in x0: 0.0553\n",
      "*********             Velocity Refinement Round 9             *********\n",
      "Stage 2: Early Stop Triggered at round 8.\n",
      "*********              Finished. Total Time =   0 h :  2 m : 49 s             *********\n",
      "Final: Train ELBO = 699.190,\tTest ELBO = 641.937\n",
      "Run 16, file /ictstr01/groups/ml01/workspace/yifan.chen/regvelo_reproducibility/data/dyngen/complexity_1/processed/simulation_5.zarr.\n",
      "Estimating ODE parameters...\n"
     ]
    },
    {
     "data": {
      "application/json": {
       "ascii": false,
       "bar_format": null,
       "colour": null,
       "elapsed": 0.003531217575073242,
       "initial": 0,
       "n": 0,
       "ncols": null,
       "nrows": null,
       "postfix": null,
       "prefix": "",
       "rate": null,
       "total": 282,
       "unit": "it",
       "unit_divisor": 1000,
       "unit_scale": false
      },
      "application/vnd.jupyter.widget-view+json": {
       "model_id": "e9198da425ed4af3ad034622c7525c64",
       "version_major": 2,
       "version_minor": 0
      },
      "text/plain": [
       "  0%|          | 0/282 [00:00<?, ?it/s]"
      ]
     },
     "metadata": {},
     "output_type": "display_data"
    },
    {
     "name": "stdout",
     "output_type": "stream",
     "text": [
      "Detected 262 velocity genes.\n",
      "Estimating the variance...\n"
     ]
    },
    {
     "data": {
      "application/json": {
       "ascii": false,
       "bar_format": null,
       "colour": null,
       "elapsed": 0.0037789344787597656,
       "initial": 0,
       "n": 0,
       "ncols": null,
       "nrows": null,
       "postfix": null,
       "prefix": "",
       "rate": null,
       "total": 282,
       "unit": "it",
       "unit_divisor": 1000,
       "unit_scale": false
      },
      "application/vnd.jupyter.widget-view+json": {
       "model_id": "df8aad840ede483ea04f2ea21fccb51b",
       "version_major": 2,
       "version_minor": 0
      },
      "text/plain": [
       "  0%|          | 0/282 [00:00<?, ?it/s]"
      ]
     },
     "metadata": {},
     "output_type": "display_data"
    },
    {
     "name": "stdout",
     "output_type": "stream",
     "text": [
      "Initialization using the steady-state and dynamical models.\n",
      "Reinitialize the regular ODE parameters based on estimated global latent time.\n"
     ]
    },
    {
     "data": {
      "application/json": {
       "ascii": false,
       "bar_format": null,
       "colour": null,
       "elapsed": 0.0028791427612304688,
       "initial": 0,
       "n": 0,
       "ncols": null,
       "nrows": null,
       "postfix": null,
       "prefix": "",
       "rate": null,
       "total": 282,
       "unit": "it",
       "unit_divisor": 1000,
       "unit_scale": false
      },
      "application/vnd.jupyter.widget-view+json": {
       "model_id": "dc43c73582e34a83a9b9041b9744ced4",
       "version_major": 2,
       "version_minor": 0
      },
      "text/plain": [
       "  0%|          | 0/282 [00:00<?, ?it/s]"
      ]
     },
     "metadata": {},
     "output_type": "display_data"
    },
    {
     "name": "stdout",
     "output_type": "stream",
     "text": [
      "3 clusters detected based on gene co-expression.\n",
      "KS-test result: [1. 1. 1.]\n",
      "Assign cluster 1 to repressive\n",
      "Initial induction: 182, repression: 100/282\n",
      "Learning Rate based on Data Sparsity: 0.0003\n",
      "--------------------------- Train a VeloVAE ---------------------------\n",
      "*********        Creating Training/Validation Datasets        *********\n",
      "*********                      Finished.                      *********\n",
      "*********                 Creating optimizers                 *********\n",
      "*********                      Finished.                      *********\n",
      "*********                    Start training                   *********\n",
      "*********                      Stage  1                       *********\n",
      "Total Number of Iterations Per Epoch: 6, test iteration: 10\n",
      "*********                      Stage  2                       *********\n",
      "*********             Velocity Refinement Round 1             *********\n"
     ]
    },
    {
     "data": {
      "application/json": {
       "ascii": false,
       "bar_format": null,
       "colour": null,
       "elapsed": 0.014519929885864258,
       "initial": 0,
       "n": 0,
       "ncols": null,
       "nrows": null,
       "postfix": null,
       "prefix": "",
       "rate": null,
       "total": 1000,
       "unit": "it",
       "unit_divisor": 1000,
       "unit_scale": false
      },
      "application/vnd.jupyter.widget-view+json": {
       "model_id": "f21e14c1c9714071bc666b07bafaa783",
       "version_major": 2,
       "version_minor": 0
      },
      "text/plain": [
       "  0%|          | 0/1000 [00:00<?, ?it/s]"
      ]
     },
     "metadata": {},
     "output_type": "display_data"
    },
    {
     "name": "stdout",
     "output_type": "stream",
     "text": [
      "Percentage of Invalid Sets: 0.141\n",
      "Average Set Size: 18\n",
      "*********     Round 1: Early Stop Triggered at epoch 1274.    *********\n",
      "Change in noise variance: 0.0475\n",
      "*********             Velocity Refinement Round 2             *********\n",
      "*********     Round 2: Early Stop Triggered at epoch 1396.    *********\n",
      "Change in noise variance: 0.0169\n",
      "Change in x0: 0.2664\n",
      "*********             Velocity Refinement Round 3             *********\n",
      "*********     Round 3: Early Stop Triggered at epoch 1455.    *********\n",
      "Change in noise variance: 0.0008\n",
      "Change in x0: 0.1681\n",
      "*********             Velocity Refinement Round 4             *********\n",
      "*********     Round 4: Early Stop Triggered at epoch 1489.    *********\n",
      "Change in noise variance: 0.0000\n",
      "Change in x0: 0.1470\n",
      "*********             Velocity Refinement Round 5             *********\n",
      "*********     Round 5: Early Stop Triggered at epoch 1496.    *********\n",
      "Change in noise variance: 0.0000\n",
      "Change in x0: 0.1528\n",
      "*********             Velocity Refinement Round 6             *********\n",
      "Stage 2: Early Stop Triggered at round 5.\n",
      "*********              Finished. Total Time =   0 h :  1 m : 57 s             *********\n",
      "Final: Train ELBO = 238.936,\tTest ELBO = 203.147\n",
      "Run 17, file /ictstr01/groups/ml01/workspace/yifan.chen/regvelo_reproducibility/data/dyngen/complexity_1/processed/simulation_10.zarr.\n",
      "Estimating ODE parameters...\n"
     ]
    },
    {
     "data": {
      "application/json": {
       "ascii": false,
       "bar_format": null,
       "colour": null,
       "elapsed": 0.0034766197204589844,
       "initial": 0,
       "n": 0,
       "ncols": null,
       "nrows": null,
       "postfix": null,
       "prefix": "",
       "rate": null,
       "total": 548,
       "unit": "it",
       "unit_divisor": 1000,
       "unit_scale": false
      },
      "application/vnd.jupyter.widget-view+json": {
       "model_id": "9c36e884cdd245cc8dfa14c1b3ac3968",
       "version_major": 2,
       "version_minor": 0
      },
      "text/plain": [
       "  0%|          | 0/548 [00:00<?, ?it/s]"
      ]
     },
     "metadata": {},
     "output_type": "display_data"
    },
    {
     "name": "stdout",
     "output_type": "stream",
     "text": [
      "Detected 306 velocity genes.\n",
      "Estimating the variance...\n"
     ]
    },
    {
     "data": {
      "application/json": {
       "ascii": false,
       "bar_format": null,
       "colour": null,
       "elapsed": 0.012070178985595703,
       "initial": 0,
       "n": 0,
       "ncols": null,
       "nrows": null,
       "postfix": null,
       "prefix": "",
       "rate": null,
       "total": 548,
       "unit": "it",
       "unit_divisor": 1000,
       "unit_scale": false
      },
      "application/vnd.jupyter.widget-view+json": {
       "model_id": "d68ae2a287bf4b358dba96c9bb69c72b",
       "version_major": 2,
       "version_minor": 0
      },
      "text/plain": [
       "  0%|          | 0/548 [00:00<?, ?it/s]"
      ]
     },
     "metadata": {},
     "output_type": "display_data"
    },
    {
     "name": "stdout",
     "output_type": "stream",
     "text": [
      "Initialization using the steady-state and dynamical models.\n",
      "Reinitialize the regular ODE parameters based on estimated global latent time.\n"
     ]
    },
    {
     "data": {
      "application/json": {
       "ascii": false,
       "bar_format": null,
       "colour": null,
       "elapsed": 0.0030412673950195312,
       "initial": 0,
       "n": 0,
       "ncols": null,
       "nrows": null,
       "postfix": null,
       "prefix": "",
       "rate": null,
       "total": 548,
       "unit": "it",
       "unit_divisor": 1000,
       "unit_scale": false
      },
      "application/vnd.jupyter.widget-view+json": {
       "model_id": "9ad8641291b84aedadca6d90f9deda60",
       "version_major": 2,
       "version_minor": 0
      },
      "text/plain": [
       "  0%|          | 0/548 [00:00<?, ?it/s]"
      ]
     },
     "metadata": {},
     "output_type": "display_data"
    },
    {
     "name": "stdout",
     "output_type": "stream",
     "text": [
      "3 clusters detected based on gene co-expression.\n",
      "(0.44, 0.21427183785803913), (0.56, 0.8053766111264617)\n",
      "(0.65, 0.8997967816308998), (0.35, 0.35802780150367175)\n",
      "KS-test result: [0. 1. 0.]\n",
      "Initial induction: 379, repression: 169/548\n",
      "Learning Rate based on Data Sparsity: 0.0000\n",
      "--------------------------- Train a VeloVAE ---------------------------\n",
      "*********        Creating Training/Validation Datasets        *********\n",
      "*********                      Finished.                      *********\n",
      "*********                 Creating optimizers                 *********\n",
      "*********                      Finished.                      *********\n",
      "*********                    Start training                   *********\n",
      "*********                      Stage  1                       *********\n",
      "Total Number of Iterations Per Epoch: 6, test iteration: 10\n",
      "*********       Stage 1: Early Stop Triggered at epoch 9.       *********\n",
      "*********                      Stage  2                       *********\n",
      "*********             Velocity Refinement Round 1             *********\n"
     ]
    },
    {
     "data": {
      "application/json": {
       "ascii": false,
       "bar_format": null,
       "colour": null,
       "elapsed": 0.002967357635498047,
       "initial": 0,
       "n": 0,
       "ncols": null,
       "nrows": null,
       "postfix": null,
       "prefix": "",
       "rate": null,
       "total": 1000,
       "unit": "it",
       "unit_divisor": 1000,
       "unit_scale": false
      },
      "application/vnd.jupyter.widget-view+json": {
       "model_id": "73cc8efc191944a18da2d115faf73a1f",
       "version_major": 2,
       "version_minor": 0
      },
      "text/plain": [
       "  0%|          | 0/1000 [00:00<?, ?it/s]"
      ]
     },
     "metadata": {},
     "output_type": "display_data"
    },
    {
     "name": "stdout",
     "output_type": "stream",
     "text": [
      "Percentage of Invalid Sets: 0.035\n",
      "Average Set Size: 19\n",
      "*********     Round 1: Early Stop Triggered at epoch 30.    *********\n",
      "Change in noise variance: 0.2346\n",
      "*********             Velocity Refinement Round 2             *********\n",
      "*********     Round 2: Early Stop Triggered at epoch 37.    *********\n",
      "Change in noise variance: 0.0073\n",
      "Change in x0: 0.6161\n",
      "*********             Velocity Refinement Round 3             *********\n",
      "*********     Round 3: Early Stop Triggered at epoch 44.    *********\n",
      "Change in noise variance: 0.0039\n",
      "Change in x0: 0.5040\n",
      "*********             Velocity Refinement Round 4             *********\n",
      "*********     Round 4: Early Stop Triggered at epoch 51.    *********\n",
      "Change in noise variance: 0.0018\n",
      "Change in x0: 0.4250\n",
      "*********             Velocity Refinement Round 5             *********\n",
      "*********     Round 5: Early Stop Triggered at epoch 60.    *********\n",
      "Change in noise variance: 0.0007\n",
      "Change in x0: 0.3543\n",
      "*********             Velocity Refinement Round 6             *********\n",
      "*********     Round 6: Early Stop Triggered at epoch 67.    *********\n",
      "Change in noise variance: 0.0000\n",
      "Change in x0: 0.3236\n",
      "*********             Velocity Refinement Round 7             *********\n",
      "*********     Round 7: Early Stop Triggered at epoch 74.    *********\n",
      "Change in noise variance: 0.0000\n",
      "Change in x0: 0.2708\n",
      "*********             Velocity Refinement Round 8             *********\n",
      "*********     Round 8: Early Stop Triggered at epoch 81.    *********\n",
      "Change in noise variance: 0.0000\n",
      "Change in x0: 0.2704\n",
      "*********             Velocity Refinement Round 9             *********\n",
      "Stage 2: Early Stop Triggered at round 8.\n",
      "*********              Finished. Total Time =   0 h :  0 m :  9 s             *********\n",
      "Final: Train ELBO = -24367.305,\tTest ELBO = -24067.287\n",
      "Run 18, file /ictstr01/groups/ml01/workspace/yifan.chen/regvelo_reproducibility/data/dyngen/complexity_1/processed/simulation_8.zarr.\n",
      "Estimating ODE parameters...\n"
     ]
    },
    {
     "data": {
      "application/json": {
       "ascii": false,
       "bar_format": null,
       "colour": null,
       "elapsed": 0.0030298233032226562,
       "initial": 0,
       "n": 0,
       "ncols": null,
       "nrows": null,
       "postfix": null,
       "prefix": "",
       "rate": null,
       "total": 462,
       "unit": "it",
       "unit_divisor": 1000,
       "unit_scale": false
      },
      "application/vnd.jupyter.widget-view+json": {
       "model_id": "f384fb6a9f024266b2d0e6ddaa8f1feb",
       "version_major": 2,
       "version_minor": 0
      },
      "text/plain": [
       "  0%|          | 0/462 [00:00<?, ?it/s]"
      ]
     },
     "metadata": {},
     "output_type": "display_data"
    },
    {
     "name": "stdout",
     "output_type": "stream",
     "text": [
      "Detected 397 velocity genes.\n",
      "Estimating the variance...\n"
     ]
    },
    {
     "data": {
      "application/json": {
       "ascii": false,
       "bar_format": null,
       "colour": null,
       "elapsed": 0.006103992462158203,
       "initial": 0,
       "n": 0,
       "ncols": null,
       "nrows": null,
       "postfix": null,
       "prefix": "",
       "rate": null,
       "total": 462,
       "unit": "it",
       "unit_divisor": 1000,
       "unit_scale": false
      },
      "application/vnd.jupyter.widget-view+json": {
       "model_id": "9855222033ac4b5fb526ebbbc18f9d5a",
       "version_major": 2,
       "version_minor": 0
      },
      "text/plain": [
       "  0%|          | 0/462 [00:00<?, ?it/s]"
      ]
     },
     "metadata": {},
     "output_type": "display_data"
    },
    {
     "name": "stdout",
     "output_type": "stream",
     "text": [
      "Initialization using the steady-state and dynamical models.\n",
      "Reinitialize the regular ODE parameters based on estimated global latent time.\n"
     ]
    },
    {
     "data": {
      "application/json": {
       "ascii": false,
       "bar_format": null,
       "colour": null,
       "elapsed": 0.0027513504028320312,
       "initial": 0,
       "n": 0,
       "ncols": null,
       "nrows": null,
       "postfix": null,
       "prefix": "",
       "rate": null,
       "total": 462,
       "unit": "it",
       "unit_divisor": 1000,
       "unit_scale": false
      },
      "application/vnd.jupyter.widget-view+json": {
       "model_id": "614a8448a32349fbb467d9646b1a5b16",
       "version_major": 2,
       "version_minor": 0
      },
      "text/plain": [
       "  0%|          | 0/462 [00:00<?, ?it/s]"
      ]
     },
     "metadata": {},
     "output_type": "display_data"
    },
    {
     "name": "stdout",
     "output_type": "stream",
     "text": [
      "3 clusters detected based on gene co-expression.\n",
      "KS-test result: [1. 1. 1.]\n",
      "Assign cluster 0 to repressive\n",
      "Initial induction: 295, repression: 167/462\n",
      "Learning Rate based on Data Sparsity: 0.0003\n",
      "--------------------------- Train a VeloVAE ---------------------------\n",
      "*********        Creating Training/Validation Datasets        *********\n",
      "*********                      Finished.                      *********\n",
      "*********                 Creating optimizers                 *********\n",
      "*********                      Finished.                      *********\n",
      "*********                    Start training                   *********\n",
      "*********                      Stage  1                       *********\n",
      "Total Number of Iterations Per Epoch: 6, test iteration: 10\n",
      "*********                      Stage  2                       *********\n",
      "*********             Velocity Refinement Round 1             *********\n"
     ]
    },
    {
     "data": {
      "application/json": {
       "ascii": false,
       "bar_format": null,
       "colour": null,
       "elapsed": 0.005476951599121094,
       "initial": 0,
       "n": 0,
       "ncols": null,
       "nrows": null,
       "postfix": null,
       "prefix": "",
       "rate": null,
       "total": 1000,
       "unit": "it",
       "unit_divisor": 1000,
       "unit_scale": false
      },
      "application/vnd.jupyter.widget-view+json": {
       "model_id": "01149f885a4141c382958814c9476087",
       "version_major": 2,
       "version_minor": 0
      },
      "text/plain": [
       "  0%|          | 0/1000 [00:00<?, ?it/s]"
      ]
     },
     "metadata": {},
     "output_type": "display_data"
    },
    {
     "name": "stdout",
     "output_type": "stream",
     "text": [
      "Percentage of Invalid Sets: 0.024\n",
      "Average Set Size: 20\n",
      "*********     Round 1: Early Stop Triggered at epoch 1431.    *********\n",
      "Change in noise variance: 0.0907\n",
      "*********             Velocity Refinement Round 2             *********\n",
      "*********     Round 2: Early Stop Triggered at epoch 1510.    *********\n",
      "Change in noise variance: 0.0053\n",
      "Change in x0: 0.2621\n",
      "*********             Velocity Refinement Round 3             *********\n",
      "*********     Round 3: Early Stop Triggered at epoch 1557.    *********\n",
      "Change in noise variance: 0.0008\n",
      "Change in x0: 0.1654\n",
      "*********             Velocity Refinement Round 4             *********\n",
      "*********     Round 4: Early Stop Triggered at epoch 1614.    *********\n",
      "Change in noise variance: 0.0000\n",
      "Change in x0: 0.1322\n",
      "*********             Velocity Refinement Round 5             *********\n",
      "*********     Round 5: Early Stop Triggered at epoch 1665.    *********\n",
      "Change in noise variance: 0.0000\n",
      "Change in x0: 0.1163\n",
      "*********             Velocity Refinement Round 6             *********\n",
      "*********     Round 6: Early Stop Triggered at epoch 1672.    *********\n",
      "Change in noise variance: 0.0000\n",
      "Change in x0: 0.1057\n",
      "*********             Velocity Refinement Round 7             *********\n",
      "*********     Round 7: Early Stop Triggered at epoch 1734.    *********\n",
      "Change in noise variance: 0.0000\n",
      "Change in x0: 0.0897\n",
      "*********             Velocity Refinement Round 8             *********\n",
      "*********     Round 8: Early Stop Triggered at epoch 1801.    *********\n",
      "Change in noise variance: 0.0000\n",
      "Change in x0: 0.0756\n",
      "*********             Velocity Refinement Round 9             *********\n",
      "*********     Round 9: Early Stop Triggered at epoch 1828.    *********\n",
      "Change in noise variance: 0.0000\n",
      "Change in x0: 0.0694\n",
      "*********             Velocity Refinement Round 10             *********\n",
      "Stage 2: Early Stop Triggered at round 9.\n",
      "*********              Finished. Total Time =   0 h :  2 m : 23 s             *********\n",
      "Final: Train ELBO = 892.707,\tTest ELBO = 736.356\n",
      "Run 19, file /ictstr01/groups/ml01/workspace/yifan.chen/regvelo_reproducibility/data/dyngen/complexity_1/processed/simulation_11.zarr.\n",
      "Estimating ODE parameters...\n"
     ]
    },
    {
     "data": {
      "application/json": {
       "ascii": false,
       "bar_format": null,
       "colour": null,
       "elapsed": 0.0035729408264160156,
       "initial": 0,
       "n": 0,
       "ncols": null,
       "nrows": null,
       "postfix": null,
       "prefix": "",
       "rate": null,
       "total": 377,
       "unit": "it",
       "unit_divisor": 1000,
       "unit_scale": false
      },
      "application/vnd.jupyter.widget-view+json": {
       "model_id": "a37e57504d0a4d16875e0aa8bfa5585e",
       "version_major": 2,
       "version_minor": 0
      },
      "text/plain": [
       "  0%|          | 0/377 [00:00<?, ?it/s]"
      ]
     },
     "metadata": {},
     "output_type": "display_data"
    },
    {
     "name": "stdout",
     "output_type": "stream",
     "text": [
      "Detected 346 velocity genes.\n",
      "Estimating the variance...\n"
     ]
    },
    {
     "data": {
      "application/json": {
       "ascii": false,
       "bar_format": null,
       "colour": null,
       "elapsed": 0.007151365280151367,
       "initial": 0,
       "n": 0,
       "ncols": null,
       "nrows": null,
       "postfix": null,
       "prefix": "",
       "rate": null,
       "total": 377,
       "unit": "it",
       "unit_divisor": 1000,
       "unit_scale": false
      },
      "application/vnd.jupyter.widget-view+json": {
       "model_id": "ad59da5e2fec4fb1a4ab62c2e44915ff",
       "version_major": 2,
       "version_minor": 0
      },
      "text/plain": [
       "  0%|          | 0/377 [00:00<?, ?it/s]"
      ]
     },
     "metadata": {},
     "output_type": "display_data"
    },
    {
     "name": "stdout",
     "output_type": "stream",
     "text": [
      "Initialization using the steady-state and dynamical models.\n",
      "Reinitialize the regular ODE parameters based on estimated global latent time.\n"
     ]
    },
    {
     "data": {
      "application/json": {
       "ascii": false,
       "bar_format": null,
       "colour": null,
       "elapsed": 0.0027132034301757812,
       "initial": 0,
       "n": 0,
       "ncols": null,
       "nrows": null,
       "postfix": null,
       "prefix": "",
       "rate": null,
       "total": 377,
       "unit": "it",
       "unit_divisor": 1000,
       "unit_scale": false
      },
      "application/vnd.jupyter.widget-view+json": {
       "model_id": "82978c1358ae47e58aa13ec2c1314c95",
       "version_major": 2,
       "version_minor": 0
      },
      "text/plain": [
       "  0%|          | 0/377 [00:00<?, ?it/s]"
      ]
     },
     "metadata": {},
     "output_type": "display_data"
    },
    {
     "name": "stdout",
     "output_type": "stream",
     "text": [
      "3 clusters detected based on gene co-expression.\n",
      "(0.59, 0.8267164296804612), (0.41, 0.36831379905588)\n",
      "KS-test result: [1. 0. 1.]\n",
      "Initial induction: 291, repression: 86/377\n",
      "Learning Rate based on Data Sparsity: 0.0002\n",
      "--------------------------- Train a VeloVAE ---------------------------\n",
      "*********        Creating Training/Validation Datasets        *********\n",
      "*********                      Finished.                      *********\n",
      "*********                 Creating optimizers                 *********\n",
      "*********                      Finished.                      *********\n",
      "*********                    Start training                   *********\n",
      "*********                      Stage  1                       *********\n",
      "Total Number of Iterations Per Epoch: 6, test iteration: 10\n",
      "*********                      Stage  2                       *********\n",
      "*********             Velocity Refinement Round 1             *********\n"
     ]
    },
    {
     "data": {
      "application/json": {
       "ascii": false,
       "bar_format": null,
       "colour": null,
       "elapsed": 0.0038738250732421875,
       "initial": 0,
       "n": 0,
       "ncols": null,
       "nrows": null,
       "postfix": null,
       "prefix": "",
       "rate": null,
       "total": 1000,
       "unit": "it",
       "unit_divisor": 1000,
       "unit_scale": false
      },
      "application/vnd.jupyter.widget-view+json": {
       "model_id": "62df88c0fc984684afa67ef570aaaf3d",
       "version_major": 2,
       "version_minor": 0
      },
      "text/plain": [
       "  0%|          | 0/1000 [00:00<?, ?it/s]"
      ]
     },
     "metadata": {},
     "output_type": "display_data"
    },
    {
     "name": "stdout",
     "output_type": "stream",
     "text": [
      "Percentage of Invalid Sets: 0.141\n",
      "Average Set Size: 18\n",
      "*********     Round 1: Early Stop Triggered at epoch 1367.    *********\n",
      "Change in noise variance: 0.0236\n",
      "*********             Velocity Refinement Round 2             *********\n",
      "*********     Round 2: Early Stop Triggered at epoch 1409.    *********\n",
      "Change in noise variance: 0.0025\n",
      "Change in x0: 0.1406\n",
      "*********             Velocity Refinement Round 3             *********\n",
      "*********     Round 3: Early Stop Triggered at epoch 1423.    *********\n",
      "Change in noise variance: 0.0006\n",
      "Change in x0: 0.0880\n",
      "*********             Velocity Refinement Round 4             *********\n",
      "*********     Round 4: Early Stop Triggered at epoch 1472.    *********\n",
      "Change in noise variance: 0.0000\n",
      "Change in x0: 0.0785\n",
      "*********             Velocity Refinement Round 5             *********\n",
      "Stage 2: Early Stop Triggered at round 4.\n",
      "*********              Finished. Total Time =   0 h :  1 m : 55 s             *********\n",
      "Final: Train ELBO = 504.837,\tTest ELBO = 472.133\n",
      "Run 20, file /ictstr01/groups/ml01/workspace/yifan.chen/regvelo_reproducibility/data/dyngen/complexity_1/processed/simulation_27.zarr.\n",
      "Estimating ODE parameters...\n"
     ]
    },
    {
     "data": {
      "application/json": {
       "ascii": false,
       "bar_format": null,
       "colour": null,
       "elapsed": 0.0034036636352539062,
       "initial": 0,
       "n": 0,
       "ncols": null,
       "nrows": null,
       "postfix": null,
       "prefix": "",
       "rate": null,
       "total": 381,
       "unit": "it",
       "unit_divisor": 1000,
       "unit_scale": false
      },
      "application/vnd.jupyter.widget-view+json": {
       "model_id": "e1ab240bffc34e3bb1651c61102e772f",
       "version_major": 2,
       "version_minor": 0
      },
      "text/plain": [
       "  0%|          | 0/381 [00:00<?, ?it/s]"
      ]
     },
     "metadata": {},
     "output_type": "display_data"
    },
    {
     "name": "stdout",
     "output_type": "stream",
     "text": [
      "Detected 320 velocity genes.\n",
      "Estimating the variance...\n"
     ]
    },
    {
     "data": {
      "application/json": {
       "ascii": false,
       "bar_format": null,
       "colour": null,
       "elapsed": 0.003869295120239258,
       "initial": 0,
       "n": 0,
       "ncols": null,
       "nrows": null,
       "postfix": null,
       "prefix": "",
       "rate": null,
       "total": 381,
       "unit": "it",
       "unit_divisor": 1000,
       "unit_scale": false
      },
      "application/vnd.jupyter.widget-view+json": {
       "model_id": "20f8b216e6b2419da0b0f827a2163883",
       "version_major": 2,
       "version_minor": 0
      },
      "text/plain": [
       "  0%|          | 0/381 [00:00<?, ?it/s]"
      ]
     },
     "metadata": {},
     "output_type": "display_data"
    },
    {
     "name": "stdout",
     "output_type": "stream",
     "text": [
      "Initialization using the steady-state and dynamical models.\n",
      "Reinitialize the regular ODE parameters based on estimated global latent time.\n"
     ]
    },
    {
     "data": {
      "application/json": {
       "ascii": false,
       "bar_format": null,
       "colour": null,
       "elapsed": 0.002910614013671875,
       "initial": 0,
       "n": 0,
       "ncols": null,
       "nrows": null,
       "postfix": null,
       "prefix": "",
       "rate": null,
       "total": 381,
       "unit": "it",
       "unit_divisor": 1000,
       "unit_scale": false
      },
      "application/vnd.jupyter.widget-view+json": {
       "model_id": "1a8eb05864564e9daf4fab56360c005c",
       "version_major": 2,
       "version_minor": 0
      },
      "text/plain": [
       "  0%|          | 0/381 [00:00<?, ?it/s]"
      ]
     },
     "metadata": {},
     "output_type": "display_data"
    },
    {
     "name": "stdout",
     "output_type": "stream",
     "text": [
      "3 clusters detected based on gene co-expression.\n",
      "(0.39, 0.28728312975125536), (0.61, 0.8005818061651941)\n",
      "KS-test result: [0. 1. 1.]\n",
      "Initial induction: 289, repression: 92/381\n",
      "Learning Rate based on Data Sparsity: 0.0002\n",
      "--------------------------- Train a VeloVAE ---------------------------\n",
      "*********        Creating Training/Validation Datasets        *********\n",
      "*********                      Finished.                      *********\n",
      "*********                 Creating optimizers                 *********\n",
      "*********                      Finished.                      *********\n",
      "*********                    Start training                   *********\n",
      "*********                      Stage  1                       *********\n",
      "Total Number of Iterations Per Epoch: 6, test iteration: 10\n",
      "*********                      Stage  2                       *********\n",
      "*********             Velocity Refinement Round 1             *********\n"
     ]
    },
    {
     "data": {
      "application/json": {
       "ascii": false,
       "bar_format": null,
       "colour": null,
       "elapsed": 0.005073070526123047,
       "initial": 0,
       "n": 0,
       "ncols": null,
       "nrows": null,
       "postfix": null,
       "prefix": "",
       "rate": null,
       "total": 1000,
       "unit": "it",
       "unit_divisor": 1000,
       "unit_scale": false
      },
      "application/vnd.jupyter.widget-view+json": {
       "model_id": "aae0e01b83cd4ce39aeeb7e878e0c681",
       "version_major": 2,
       "version_minor": 0
      },
      "text/plain": [
       "  0%|          | 0/1000 [00:00<?, ?it/s]"
      ]
     },
     "metadata": {},
     "output_type": "display_data"
    },
    {
     "name": "stdout",
     "output_type": "stream",
     "text": [
      "Percentage of Invalid Sets: 0.019\n",
      "Average Set Size: 21\n",
      "Change in noise variance: 0.0556\n",
      "*********             Velocity Refinement Round 2             *********\n",
      "*********     Round 2: Early Stop Triggered at epoch 1544.    *********\n",
      "Change in noise variance: 0.0453\n",
      "Change in x0: 0.3729\n",
      "*********             Velocity Refinement Round 3             *********\n",
      "*********     Round 3: Early Stop Triggered at epoch 1611.    *********\n",
      "Change in noise variance: 0.0041\n",
      "Change in x0: 0.2411\n",
      "*********             Velocity Refinement Round 4             *********\n",
      "*********     Round 4: Early Stop Triggered at epoch 1618.    *********\n",
      "Change in noise variance: 0.0014\n",
      "Change in x0: 0.1940\n",
      "*********             Velocity Refinement Round 5             *********\n",
      "*********     Round 5: Early Stop Triggered at epoch 1625.    *********\n",
      "Change in noise variance: 0.0005\n",
      "Change in x0: 0.1519\n",
      "*********             Velocity Refinement Round 6             *********\n",
      "*********     Round 6: Early Stop Triggered at epoch 1644.    *********\n",
      "Change in noise variance: 0.0000\n",
      "Change in x0: 0.1335\n",
      "*********             Velocity Refinement Round 7             *********\n",
      "*********     Round 7: Early Stop Triggered at epoch 1655.    *********\n",
      "Change in noise variance: 0.0000\n",
      "Change in x0: 0.1172\n",
      "*********             Velocity Refinement Round 8             *********\n",
      "*********     Round 8: Early Stop Triggered at epoch 1664.    *********\n",
      "Change in noise variance: 0.0000\n",
      "Change in x0: 0.1075\n",
      "*********             Velocity Refinement Round 9             *********\n",
      "Stage 2: Early Stop Triggered at round 8.\n",
      "*********              Finished. Total Time =   0 h :  2 m :  9 s             *********\n",
      "Final: Train ELBO = 331.373,\tTest ELBO = 255.813\n",
      "Run 21, file /ictstr01/groups/ml01/workspace/yifan.chen/regvelo_reproducibility/data/dyngen/complexity_1/processed/simulation_23.zarr.\n",
      "Estimating ODE parameters...\n"
     ]
    },
    {
     "data": {
      "application/json": {
       "ascii": false,
       "bar_format": null,
       "colour": null,
       "elapsed": 0.0034973621368408203,
       "initial": 0,
       "n": 0,
       "ncols": null,
       "nrows": null,
       "postfix": null,
       "prefix": "",
       "rate": null,
       "total": 359,
       "unit": "it",
       "unit_divisor": 1000,
       "unit_scale": false
      },
      "application/vnd.jupyter.widget-view+json": {
       "model_id": "9a46cdf69bca4c4b847596fa59056242",
       "version_major": 2,
       "version_minor": 0
      },
      "text/plain": [
       "  0%|          | 0/359 [00:00<?, ?it/s]"
      ]
     },
     "metadata": {},
     "output_type": "display_data"
    },
    {
     "name": "stdout",
     "output_type": "stream",
     "text": [
      "Detected 326 velocity genes.\n",
      "Estimating the variance...\n"
     ]
    },
    {
     "data": {
      "application/json": {
       "ascii": false,
       "bar_format": null,
       "colour": null,
       "elapsed": 0.01196146011352539,
       "initial": 0,
       "n": 0,
       "ncols": null,
       "nrows": null,
       "postfix": null,
       "prefix": "",
       "rate": null,
       "total": 359,
       "unit": "it",
       "unit_divisor": 1000,
       "unit_scale": false
      },
      "application/vnd.jupyter.widget-view+json": {
       "model_id": "ba7570d92fb24fdeb4069c23cf4e8e6e",
       "version_major": 2,
       "version_minor": 0
      },
      "text/plain": [
       "  0%|          | 0/359 [00:00<?, ?it/s]"
      ]
     },
     "metadata": {},
     "output_type": "display_data"
    },
    {
     "name": "stdout",
     "output_type": "stream",
     "text": [
      "Initialization using the steady-state and dynamical models.\n",
      "Reinitialize the regular ODE parameters based on estimated global latent time.\n"
     ]
    },
    {
     "data": {
      "application/json": {
       "ascii": false,
       "bar_format": null,
       "colour": null,
       "elapsed": 0.0027475357055664062,
       "initial": 0,
       "n": 0,
       "ncols": null,
       "nrows": null,
       "postfix": null,
       "prefix": "",
       "rate": null,
       "total": 359,
       "unit": "it",
       "unit_divisor": 1000,
       "unit_scale": false
      },
      "application/vnd.jupyter.widget-view+json": {
       "model_id": "4ef89ef25599498aaa3e588e94010a62",
       "version_major": 2,
       "version_minor": 0
      },
      "text/plain": [
       "  0%|          | 0/359 [00:00<?, ?it/s]"
      ]
     },
     "metadata": {},
     "output_type": "display_data"
    },
    {
     "name": "stdout",
     "output_type": "stream",
     "text": [
      "3 clusters detected based on gene co-expression.\n",
      "(0.51, 0.7911187894111076), (0.49, 0.37965464284669165)\n",
      "KS-test result: [1. 1. 0.]\n",
      "Initial induction: 264, repression: 95/359\n",
      "Learning Rate based on Data Sparsity: 0.0003\n",
      "--------------------------- Train a VeloVAE ---------------------------\n",
      "*********        Creating Training/Validation Datasets        *********\n",
      "*********                      Finished.                      *********\n",
      "*********                 Creating optimizers                 *********\n",
      "*********                      Finished.                      *********\n",
      "*********                    Start training                   *********\n",
      "*********                      Stage  1                       *********\n",
      "Total Number of Iterations Per Epoch: 6, test iteration: 10\n",
      "*********       Stage 1: Early Stop Triggered at epoch 754.       *********\n",
      "*********                      Stage  2                       *********\n",
      "*********             Velocity Refinement Round 1             *********\n"
     ]
    },
    {
     "data": {
      "application/json": {
       "ascii": false,
       "bar_format": null,
       "colour": null,
       "elapsed": 0.0035784244537353516,
       "initial": 0,
       "n": 0,
       "ncols": null,
       "nrows": null,
       "postfix": null,
       "prefix": "",
       "rate": null,
       "total": 1000,
       "unit": "it",
       "unit_divisor": 1000,
       "unit_scale": false
      },
      "application/vnd.jupyter.widget-view+json": {
       "model_id": "9526bd51d96b480cac8ebe4b6f4a2a69",
       "version_major": 2,
       "version_minor": 0
      },
      "text/plain": [
       "  0%|          | 0/1000 [00:00<?, ?it/s]"
      ]
     },
     "metadata": {},
     "output_type": "display_data"
    },
    {
     "name": "stdout",
     "output_type": "stream",
     "text": [
      "Percentage of Invalid Sets: 0.144\n",
      "Average Set Size: 19\n",
      "*********     Round 1: Early Stop Triggered at epoch 921.    *********\n",
      "Change in noise variance: 0.0380\n",
      "*********             Velocity Refinement Round 2             *********\n",
      "*********     Round 2: Early Stop Triggered at epoch 955.    *********\n",
      "Change in noise variance: 0.0062\n",
      "Change in x0: 0.2466\n",
      "*********             Velocity Refinement Round 3             *********\n",
      "*********     Round 3: Early Stop Triggered at epoch 991.    *********\n",
      "Change in noise variance: 0.0002\n",
      "Change in x0: 0.1567\n",
      "*********             Velocity Refinement Round 4             *********\n",
      "*********     Round 4: Early Stop Triggered at epoch 998.    *********\n",
      "Change in noise variance: 0.0000\n",
      "Change in x0: 0.1274\n",
      "*********             Velocity Refinement Round 5             *********\n",
      "*********     Round 5: Early Stop Triggered at epoch 1010.    *********\n",
      "Change in noise variance: 0.0000\n",
      "Change in x0: 0.1248\n",
      "*********             Velocity Refinement Round 6             *********\n",
      "Stage 2: Early Stop Triggered at round 5.\n",
      "*********              Finished. Total Time =   0 h :  1 m : 20 s             *********\n",
      "Final: Train ELBO = 486.095,\tTest ELBO = 463.734\n",
      "Run 22, file /ictstr01/groups/ml01/workspace/yifan.chen/regvelo_reproducibility/data/dyngen/complexity_1/processed/simulation_17.zarr.\n",
      "Estimating ODE parameters...\n"
     ]
    },
    {
     "data": {
      "application/json": {
       "ascii": false,
       "bar_format": null,
       "colour": null,
       "elapsed": 0.003399372100830078,
       "initial": 0,
       "n": 0,
       "ncols": null,
       "nrows": null,
       "postfix": null,
       "prefix": "",
       "rate": null,
       "total": 450,
       "unit": "it",
       "unit_divisor": 1000,
       "unit_scale": false
      },
      "application/vnd.jupyter.widget-view+json": {
       "model_id": "5169df343d3443ff876d77278fafaeea",
       "version_major": 2,
       "version_minor": 0
      },
      "text/plain": [
       "  0%|          | 0/450 [00:00<?, ?it/s]"
      ]
     },
     "metadata": {},
     "output_type": "display_data"
    },
    {
     "name": "stdout",
     "output_type": "stream",
     "text": [
      "Detected 410 velocity genes.\n",
      "Estimating the variance...\n"
     ]
    },
    {
     "data": {
      "application/json": {
       "ascii": false,
       "bar_format": null,
       "colour": null,
       "elapsed": 0.010375499725341797,
       "initial": 0,
       "n": 0,
       "ncols": null,
       "nrows": null,
       "postfix": null,
       "prefix": "",
       "rate": null,
       "total": 450,
       "unit": "it",
       "unit_divisor": 1000,
       "unit_scale": false
      },
      "application/vnd.jupyter.widget-view+json": {
       "model_id": "965b5250af7f4fb9b8c3ace84069ba25",
       "version_major": 2,
       "version_minor": 0
      },
      "text/plain": [
       "  0%|          | 0/450 [00:00<?, ?it/s]"
      ]
     },
     "metadata": {},
     "output_type": "display_data"
    },
    {
     "name": "stdout",
     "output_type": "stream",
     "text": [
      "Initialization using the steady-state and dynamical models.\n",
      "Reinitialize the regular ODE parameters based on estimated global latent time.\n"
     ]
    },
    {
     "data": {
      "application/json": {
       "ascii": false,
       "bar_format": null,
       "colour": null,
       "elapsed": 0.002804994583129883,
       "initial": 0,
       "n": 0,
       "ncols": null,
       "nrows": null,
       "postfix": null,
       "prefix": "",
       "rate": null,
       "total": 450,
       "unit": "it",
       "unit_divisor": 1000,
       "unit_scale": false
      },
      "application/vnd.jupyter.widget-view+json": {
       "model_id": "38a6ecaa75994d169978b3de4e7a97a9",
       "version_major": 2,
       "version_minor": 0
      },
      "text/plain": [
       "  0%|          | 0/450 [00:00<?, ?it/s]"
      ]
     },
     "metadata": {},
     "output_type": "display_data"
    },
    {
     "name": "stdout",
     "output_type": "stream",
     "text": [
      "3 clusters detected based on gene co-expression.\n",
      "KS-test result: [1. 1. 1.]\n",
      "Assign cluster 1 to repressive\n",
      "Initial induction: 284, repression: 166/450\n",
      "Learning Rate based on Data Sparsity: 0.0004\n",
      "--------------------------- Train a VeloVAE ---------------------------\n",
      "*********        Creating Training/Validation Datasets        *********\n",
      "*********                      Finished.                      *********\n",
      "*********                 Creating optimizers                 *********\n",
      "*********                      Finished.                      *********\n",
      "*********                    Start training                   *********\n",
      "*********                      Stage  1                       *********\n",
      "Total Number of Iterations Per Epoch: 6, test iteration: 10\n",
      "*********                      Stage  2                       *********\n",
      "*********             Velocity Refinement Round 1             *********\n"
     ]
    },
    {
     "data": {
      "application/json": {
       "ascii": false,
       "bar_format": null,
       "colour": null,
       "elapsed": 0.02011561393737793,
       "initial": 0,
       "n": 0,
       "ncols": null,
       "nrows": null,
       "postfix": null,
       "prefix": "",
       "rate": null,
       "total": 1000,
       "unit": "it",
       "unit_divisor": 1000,
       "unit_scale": false
      },
      "application/vnd.jupyter.widget-view+json": {
       "model_id": "21a3f531dace4fc289b9d1bdf2567abb",
       "version_major": 2,
       "version_minor": 0
      },
      "text/plain": [
       "  0%|          | 0/1000 [00:00<?, ?it/s]"
      ]
     },
     "metadata": {},
     "output_type": "display_data"
    },
    {
     "name": "stdout",
     "output_type": "stream",
     "text": [
      "Percentage of Invalid Sets: 0.053\n",
      "Average Set Size: 23\n",
      "*********     Round 1: Early Stop Triggered at epoch 1434.    *********\n",
      "Change in noise variance: 0.0677\n",
      "*********             Velocity Refinement Round 2             *********\n",
      "*********     Round 2: Early Stop Triggered at epoch 1681.    *********\n",
      "Change in noise variance: 0.0075\n",
      "Change in x0: 0.2493\n",
      "*********             Velocity Refinement Round 3             *********\n",
      "*********     Round 3: Early Stop Triggered at epoch 1787.    *********\n",
      "Change in noise variance: 0.0007\n",
      "Change in x0: 0.1443\n",
      "*********             Velocity Refinement Round 4             *********\n",
      "*********     Round 4: Early Stop Triggered at epoch 1848.    *********\n",
      "Change in noise variance: 0.0000\n",
      "Change in x0: 0.1204\n",
      "*********             Velocity Refinement Round 5             *********\n",
      "*********     Round 5: Early Stop Triggered at epoch 1955.    *********\n",
      "Change in noise variance: 0.0000\n",
      "Change in x0: 0.0924\n",
      "*********             Velocity Refinement Round 6             *********\n",
      "*********     Round 6: Early Stop Triggered at epoch 2036.    *********\n",
      "Change in noise variance: 0.0000\n",
      "Change in x0: 0.0691\n",
      "*********             Velocity Refinement Round 7             *********\n",
      "*********     Round 7: Early Stop Triggered at epoch 2213.    *********\n",
      "Change in noise variance: 0.0000\n",
      "Change in x0: 0.0653\n",
      "*********             Velocity Refinement Round 8             *********\n",
      "Stage 2: Early Stop Triggered at round 7.\n",
      "*********              Finished. Total Time =   0 h :  2 m : 51 s             *********\n",
      "Final: Train ELBO = 853.947,\tTest ELBO = 717.942\n",
      "Run 23, file /ictstr01/groups/ml01/workspace/yifan.chen/regvelo_reproducibility/data/dyngen/complexity_1/processed/simulation_30.zarr.\n",
      "Estimating ODE parameters...\n"
     ]
    },
    {
     "data": {
      "application/json": {
       "ascii": false,
       "bar_format": null,
       "colour": null,
       "elapsed": 0.0044193267822265625,
       "initial": 0,
       "n": 0,
       "ncols": null,
       "nrows": null,
       "postfix": null,
       "prefix": "",
       "rate": null,
       "total": 465,
       "unit": "it",
       "unit_divisor": 1000,
       "unit_scale": false
      },
      "application/vnd.jupyter.widget-view+json": {
       "model_id": "a5e33e44133048a7a32d76d9e94273d4",
       "version_major": 2,
       "version_minor": 0
      },
      "text/plain": [
       "  0%|          | 0/465 [00:00<?, ?it/s]"
      ]
     },
     "metadata": {},
     "output_type": "display_data"
    },
    {
     "name": "stdout",
     "output_type": "stream",
     "text": [
      "Detected 404 velocity genes.\n",
      "Estimating the variance...\n"
     ]
    },
    {
     "data": {
      "application/json": {
       "ascii": false,
       "bar_format": null,
       "colour": null,
       "elapsed": 0.008478403091430664,
       "initial": 0,
       "n": 0,
       "ncols": null,
       "nrows": null,
       "postfix": null,
       "prefix": "",
       "rate": null,
       "total": 465,
       "unit": "it",
       "unit_divisor": 1000,
       "unit_scale": false
      },
      "application/vnd.jupyter.widget-view+json": {
       "model_id": "0a6d2d64c62d45ef99f7445ddd79ab71",
       "version_major": 2,
       "version_minor": 0
      },
      "text/plain": [
       "  0%|          | 0/465 [00:00<?, ?it/s]"
      ]
     },
     "metadata": {},
     "output_type": "display_data"
    },
    {
     "name": "stdout",
     "output_type": "stream",
     "text": [
      "Initialization using the steady-state and dynamical models.\n",
      "Reinitialize the regular ODE parameters based on estimated global latent time.\n"
     ]
    },
    {
     "data": {
      "application/json": {
       "ascii": false,
       "bar_format": null,
       "colour": null,
       "elapsed": 0.002794504165649414,
       "initial": 0,
       "n": 0,
       "ncols": null,
       "nrows": null,
       "postfix": null,
       "prefix": "",
       "rate": null,
       "total": 465,
       "unit": "it",
       "unit_divisor": 1000,
       "unit_scale": false
      },
      "application/vnd.jupyter.widget-view+json": {
       "model_id": "99e4e1b2d65646398fa44f141bedb435",
       "version_major": 2,
       "version_minor": 0
      },
      "text/plain": [
       "  0%|          | 0/465 [00:00<?, ?it/s]"
      ]
     },
     "metadata": {},
     "output_type": "display_data"
    },
    {
     "name": "stdout",
     "output_type": "stream",
     "text": [
      "3 clusters detected based on gene co-expression.\n",
      "(0.64, 0.7874540650534966), (0.36, 0.30795453403738815)\n",
      "(0.67, 0.8559480355355736), (0.33, 0.3295921295742867)\n",
      "KS-test result: [0. 0. 1.]\n",
      "Initial induction: 337, repression: 128/465\n",
      "Learning Rate based on Data Sparsity: 0.0000\n",
      "--------------------------- Train a VeloVAE ---------------------------\n",
      "*********        Creating Training/Validation Datasets        *********\n",
      "*********                      Finished.                      *********\n",
      "*********                 Creating optimizers                 *********\n",
      "*********                      Finished.                      *********\n",
      "*********                    Start training                   *********\n",
      "*********                      Stage  1                       *********\n",
      "Total Number of Iterations Per Epoch: 6, test iteration: 10\n",
      "*********                      Stage  2                       *********\n",
      "*********             Velocity Refinement Round 1             *********\n"
     ]
    },
    {
     "data": {
      "application/json": {
       "ascii": false,
       "bar_format": null,
       "colour": null,
       "elapsed": 0.0038940906524658203,
       "initial": 0,
       "n": 0,
       "ncols": null,
       "nrows": null,
       "postfix": null,
       "prefix": "",
       "rate": null,
       "total": 1000,
       "unit": "it",
       "unit_divisor": 1000,
       "unit_scale": false
      },
      "application/vnd.jupyter.widget-view+json": {
       "model_id": "6a30fd1b05d5460f85fdee502fe9d23e",
       "version_major": 2,
       "version_minor": 0
      },
      "text/plain": [
       "  0%|          | 0/1000 [00:00<?, ?it/s]"
      ]
     },
     "metadata": {},
     "output_type": "display_data"
    },
    {
     "name": "stdout",
     "output_type": "stream",
     "text": [
      "Percentage of Invalid Sets: 0.029\n",
      "Average Set Size: 20\n",
      "*********     Round 1: Early Stop Triggered at epoch 1271.    *********\n",
      "Change in noise variance: 0.0555\n",
      "*********             Velocity Refinement Round 2             *********\n",
      "*********     Round 2: Early Stop Triggered at epoch 1280.    *********\n",
      "Change in noise variance: 0.0262\n",
      "Change in x0: 0.3258\n",
      "*********             Velocity Refinement Round 3             *********\n",
      "*********     Round 3: Early Stop Triggered at epoch 1312.    *********\n",
      "Change in noise variance: 0.0027\n",
      "Change in x0: 0.2685\n",
      "*********             Velocity Refinement Round 4             *********\n",
      "*********     Round 4: Early Stop Triggered at epoch 1338.    *********\n",
      "Change in noise variance: 0.0012\n",
      "Change in x0: 0.2391\n",
      "*********             Velocity Refinement Round 5             *********\n",
      "*********     Round 5: Early Stop Triggered at epoch 1362.    *********\n",
      "Change in noise variance: 0.0015\n",
      "Change in x0: 0.2168\n",
      "*********             Velocity Refinement Round 6             *********\n",
      "*********     Round 6: Early Stop Triggered at epoch 1413.    *********\n",
      "Change in noise variance: 0.0014\n",
      "Change in x0: 0.1821\n",
      "*********             Velocity Refinement Round 7             *********\n",
      "*********     Round 7: Early Stop Triggered at epoch 1430.    *********\n",
      "Change in noise variance: 0.0011\n",
      "Change in x0: 0.1758\n",
      "*********             Velocity Refinement Round 8             *********\n",
      "*********     Round 8: Early Stop Triggered at epoch 1447.    *********\n",
      "Change in noise variance: 0.0011\n",
      "Change in x0: 0.1639\n",
      "*********             Velocity Refinement Round 9             *********\n",
      "*********     Round 9: Early Stop Triggered at epoch 1469.    *********\n",
      "Change in noise variance: 0.0006\n",
      "Change in x0: 0.1284\n",
      "*********             Velocity Refinement Round 10             *********\n",
      "*********     Round 10: Early Stop Triggered at epoch 1476.    *********\n",
      "Change in noise variance: 0.0000\n",
      "Change in x0: 0.1102\n",
      "*********             Velocity Refinement Round 11             *********\n",
      "*********     Round 11: Early Stop Triggered at epoch 1483.    *********\n",
      "Change in noise variance: 0.0000\n",
      "Change in x0: 0.0967\n",
      "*********             Velocity Refinement Round 12             *********\n",
      "*********     Round 12: Early Stop Triggered at epoch 1499.    *********\n",
      "Change in noise variance: 0.0000\n",
      "Change in x0: 0.0821\n",
      "*********             Velocity Refinement Round 13             *********\n",
      "*********     Round 13: Early Stop Triggered at epoch 1548.    *********\n",
      "Change in noise variance: 0.0000\n",
      "Change in x0: 0.0643\n",
      "*********             Velocity Refinement Round 14             *********\n",
      "*********     Round 14: Early Stop Triggered at epoch 1557.    *********\n",
      "Change in noise variance: 0.0000\n",
      "Change in x0: 0.0579\n",
      "*********             Velocity Refinement Round 15             *********\n",
      "Stage 2: Early Stop Triggered at round 14.\n",
      "*********              Finished. Total Time =   0 h :  2 m :  4 s             *********\n",
      "Final: Train ELBO = -2.364,\tTest ELBO = -59.837\n",
      "Run 24, file /ictstr01/groups/ml01/workspace/yifan.chen/regvelo_reproducibility/data/dyngen/complexity_1/processed/simulation_22.zarr.\n",
      "Estimating ODE parameters...\n"
     ]
    },
    {
     "data": {
      "application/json": {
       "ascii": false,
       "bar_format": null,
       "colour": null,
       "elapsed": 0.0033991336822509766,
       "initial": 0,
       "n": 0,
       "ncols": null,
       "nrows": null,
       "postfix": null,
       "prefix": "",
       "rate": null,
       "total": 422,
       "unit": "it",
       "unit_divisor": 1000,
       "unit_scale": false
      },
      "application/vnd.jupyter.widget-view+json": {
       "model_id": "7c653dff4f594ed1b363635bd884eea5",
       "version_major": 2,
       "version_minor": 0
      },
      "text/plain": [
       "  0%|          | 0/422 [00:00<?, ?it/s]"
      ]
     },
     "metadata": {},
     "output_type": "display_data"
    },
    {
     "name": "stdout",
     "output_type": "stream",
     "text": [
      "Detected 393 velocity genes.\n",
      "Estimating the variance...\n"
     ]
    },
    {
     "data": {
      "application/json": {
       "ascii": false,
       "bar_format": null,
       "colour": null,
       "elapsed": 0.008745908737182617,
       "initial": 0,
       "n": 0,
       "ncols": null,
       "nrows": null,
       "postfix": null,
       "prefix": "",
       "rate": null,
       "total": 422,
       "unit": "it",
       "unit_divisor": 1000,
       "unit_scale": false
      },
      "application/vnd.jupyter.widget-view+json": {
       "model_id": "8359684073fa45088859829f18b7310d",
       "version_major": 2,
       "version_minor": 0
      },
      "text/plain": [
       "  0%|          | 0/422 [00:00<?, ?it/s]"
      ]
     },
     "metadata": {},
     "output_type": "display_data"
    },
    {
     "name": "stdout",
     "output_type": "stream",
     "text": [
      "Initialization using the steady-state and dynamical models.\n",
      "Reinitialize the regular ODE parameters based on estimated global latent time.\n"
     ]
    },
    {
     "data": {
      "application/json": {
       "ascii": false,
       "bar_format": null,
       "colour": null,
       "elapsed": 0.00272369384765625,
       "initial": 0,
       "n": 0,
       "ncols": null,
       "nrows": null,
       "postfix": null,
       "prefix": "",
       "rate": null,
       "total": 422,
       "unit": "it",
       "unit_divisor": 1000,
       "unit_scale": false
      },
      "application/vnd.jupyter.widget-view+json": {
       "model_id": "2e299ed571e34b0d894d85bbe26198c5",
       "version_major": 2,
       "version_minor": 0
      },
      "text/plain": [
       "  0%|          | 0/422 [00:00<?, ?it/s]"
      ]
     },
     "metadata": {},
     "output_type": "display_data"
    },
    {
     "name": "stdout",
     "output_type": "stream",
     "text": [
      "3 clusters detected based on gene co-expression.\n",
      "(0.66, 0.7192424805256069), (0.34, 0.29799031256004654)\n",
      "KS-test result: [0. 1. 1.]\n",
      "Initial induction: 333, repression: 89/422\n",
      "Learning Rate based on Data Sparsity: 0.0004\n",
      "--------------------------- Train a VeloVAE ---------------------------\n",
      "*********        Creating Training/Validation Datasets        *********\n",
      "*********                      Finished.                      *********\n",
      "*********                 Creating optimizers                 *********\n",
      "*********                      Finished.                      *********\n",
      "*********                    Start training                   *********\n",
      "*********                      Stage  1                       *********\n",
      "Total Number of Iterations Per Epoch: 6, test iteration: 10\n",
      "*********       Stage 1: Early Stop Triggered at epoch 989.       *********\n",
      "*********                      Stage  2                       *********\n",
      "*********             Velocity Refinement Round 1             *********\n"
     ]
    },
    {
     "data": {
      "application/json": {
       "ascii": false,
       "bar_format": null,
       "colour": null,
       "elapsed": 0.011534929275512695,
       "initial": 0,
       "n": 0,
       "ncols": null,
       "nrows": null,
       "postfix": null,
       "prefix": "",
       "rate": null,
       "total": 1000,
       "unit": "it",
       "unit_divisor": 1000,
       "unit_scale": false
      },
      "application/vnd.jupyter.widget-view+json": {
       "model_id": "235e139212dc4068bc359f7955e2792f",
       "version_major": 2,
       "version_minor": 0
      },
      "text/plain": [
       "  0%|          | 0/1000 [00:00<?, ?it/s]"
      ]
     },
     "metadata": {},
     "output_type": "display_data"
    },
    {
     "name": "stdout",
     "output_type": "stream",
     "text": [
      "Percentage of Invalid Sets: 0.019\n",
      "Average Set Size: 19\n",
      "*********     Round 1: Early Stop Triggered at epoch 1308.    *********\n",
      "Change in noise variance: 0.0429\n",
      "*********             Velocity Refinement Round 2             *********\n",
      "*********     Round 2: Early Stop Triggered at epoch 1367.    *********\n",
      "Change in noise variance: 0.0066\n",
      "Change in x0: 0.2664\n",
      "*********             Velocity Refinement Round 3             *********\n",
      "*********     Round 3: Early Stop Triggered at epoch 1393.    *********\n",
      "Change in noise variance: 0.0024\n",
      "Change in x0: 0.1964\n",
      "*********             Velocity Refinement Round 4             *********\n",
      "*********     Round 4: Early Stop Triggered at epoch 1497.    *********\n",
      "Change in noise variance: 0.0011\n",
      "Change in x0: 0.1703\n",
      "*********             Velocity Refinement Round 5             *********\n",
      "*********     Round 5: Early Stop Triggered at epoch 1589.    *********\n",
      "Change in noise variance: 0.0008\n",
      "Change in x0: 0.1515\n",
      "*********             Velocity Refinement Round 6             *********\n",
      "*********     Round 6: Early Stop Triggered at epoch 1655.    *********\n",
      "Change in noise variance: 0.0000\n",
      "Change in x0: 0.1359\n",
      "*********             Velocity Refinement Round 7             *********\n",
      "*********     Round 7: Early Stop Triggered at epoch 1699.    *********\n",
      "Change in noise variance: 0.0000\n",
      "Change in x0: 0.1163\n",
      "*********             Velocity Refinement Round 8             *********\n",
      "*********     Round 8: Early Stop Triggered at epoch 1813.    *********\n",
      "Change in noise variance: 0.0000\n",
      "Change in x0: 0.1072\n",
      "*********             Velocity Refinement Round 9             *********\n",
      "Stage 2: Early Stop Triggered at round 8.\n",
      "*********              Finished. Total Time =   0 h :  2 m : 21 s             *********\n",
      "Final: Train ELBO = 616.538,\tTest ELBO = 526.494\n",
      "Run 25, file /ictstr01/groups/ml01/workspace/yifan.chen/regvelo_reproducibility/data/dyngen/complexity_1/processed/simulation_25.zarr.\n",
      "Estimating ODE parameters...\n"
     ]
    },
    {
     "data": {
      "application/json": {
       "ascii": false,
       "bar_format": null,
       "colour": null,
       "elapsed": 0.0034389495849609375,
       "initial": 0,
       "n": 0,
       "ncols": null,
       "nrows": null,
       "postfix": null,
       "prefix": "",
       "rate": null,
       "total": 578,
       "unit": "it",
       "unit_divisor": 1000,
       "unit_scale": false
      },
      "application/vnd.jupyter.widget-view+json": {
       "model_id": "92286ad4ac4f4ca69304ea105d042181",
       "version_major": 2,
       "version_minor": 0
      },
      "text/plain": [
       "  0%|          | 0/578 [00:00<?, ?it/s]"
      ]
     },
     "metadata": {},
     "output_type": "display_data"
    },
    {
     "name": "stdout",
     "output_type": "stream",
     "text": [
      "Detected 453 velocity genes.\n",
      "Estimating the variance...\n"
     ]
    },
    {
     "data": {
      "application/json": {
       "ascii": false,
       "bar_format": null,
       "colour": null,
       "elapsed": 0.00718235969543457,
       "initial": 0,
       "n": 0,
       "ncols": null,
       "nrows": null,
       "postfix": null,
       "prefix": "",
       "rate": null,
       "total": 578,
       "unit": "it",
       "unit_divisor": 1000,
       "unit_scale": false
      },
      "application/vnd.jupyter.widget-view+json": {
       "model_id": "c223858e5ea343fb815ba0f385525836",
       "version_major": 2,
       "version_minor": 0
      },
      "text/plain": [
       "  0%|          | 0/578 [00:00<?, ?it/s]"
      ]
     },
     "metadata": {},
     "output_type": "display_data"
    },
    {
     "name": "stdout",
     "output_type": "stream",
     "text": [
      "Initialization using the steady-state and dynamical models.\n",
      "Reinitialize the regular ODE parameters based on estimated global latent time.\n"
     ]
    },
    {
     "data": {
      "application/json": {
       "ascii": false,
       "bar_format": null,
       "colour": null,
       "elapsed": 0.002822399139404297,
       "initial": 0,
       "n": 0,
       "ncols": null,
       "nrows": null,
       "postfix": null,
       "prefix": "",
       "rate": null,
       "total": 578,
       "unit": "it",
       "unit_divisor": 1000,
       "unit_scale": false
      },
      "application/vnd.jupyter.widget-view+json": {
       "model_id": "e6d726e5ba4d4cd0b15a91ff81b43786",
       "version_major": 2,
       "version_minor": 0
      },
      "text/plain": [
       "  0%|          | 0/578 [00:00<?, ?it/s]"
      ]
     },
     "metadata": {},
     "output_type": "display_data"
    },
    {
     "name": "stdout",
     "output_type": "stream",
     "text": [
      "3 clusters detected based on gene co-expression.\n",
      "(0.52, 0.28603679504748397), (0.48, 0.7673497264953757)\n",
      "(0.37, 0.33761410289326726), (0.63, 0.8504461451142085)\n",
      "KS-test result: [0. 1. 0.]\n",
      "Initial induction: 369, repression: 209/578\n",
      "Learning Rate based on Data Sparsity: 0.0000\n",
      "--------------------------- Train a VeloVAE ---------------------------\n",
      "*********        Creating Training/Validation Datasets        *********\n",
      "*********                      Finished.                      *********\n",
      "*********                 Creating optimizers                 *********\n",
      "*********                      Finished.                      *********\n",
      "*********                    Start training                   *********\n",
      "*********                      Stage  1                       *********\n",
      "Total Number of Iterations Per Epoch: 6, test iteration: 10\n",
      "*********                      Stage  2                       *********\n",
      "*********             Velocity Refinement Round 1             *********\n"
     ]
    },
    {
     "data": {
      "application/json": {
       "ascii": false,
       "bar_format": null,
       "colour": null,
       "elapsed": 0.003915548324584961,
       "initial": 0,
       "n": 0,
       "ncols": null,
       "nrows": null,
       "postfix": null,
       "prefix": "",
       "rate": null,
       "total": 1000,
       "unit": "it",
       "unit_divisor": 1000,
       "unit_scale": false
      },
      "application/vnd.jupyter.widget-view+json": {
       "model_id": "3f2685f7bcaf48c08580d84fe3c559e0",
       "version_major": 2,
       "version_minor": 0
      },
      "text/plain": [
       "  0%|          | 0/1000 [00:00<?, ?it/s]"
      ]
     },
     "metadata": {},
     "output_type": "display_data"
    },
    {
     "name": "stdout",
     "output_type": "stream",
     "text": [
      "Percentage of Invalid Sets: 0.011\n",
      "Average Set Size: 46\n",
      "Change in noise variance: 0.2165\n",
      "*********             Velocity Refinement Round 2             *********\n",
      "*********     Round 2: Early Stop Triggered at epoch 1581.    *********\n",
      "Change in noise variance: 0.0129\n",
      "Change in x0: 0.9887\n",
      "*********             Velocity Refinement Round 3             *********\n",
      "*********     Round 3: Early Stop Triggered at epoch 1718.    *********\n",
      "Change in noise variance: 0.0076\n",
      "Change in x0: 0.7500\n",
      "*********             Velocity Refinement Round 4             *********\n",
      "*********     Round 4: Early Stop Triggered at epoch 1729.    *********\n",
      "Change in noise variance: 0.0109\n",
      "Change in x0: 0.6287\n",
      "*********             Velocity Refinement Round 5             *********\n",
      "*********     Round 5: Early Stop Triggered at epoch 1766.    *********\n",
      "Change in noise variance: 0.0053\n",
      "Change in x0: 0.5312\n",
      "*********             Velocity Refinement Round 6             *********\n",
      "*********     Round 6: Early Stop Triggered at epoch 1773.    *********\n",
      "Change in noise variance: 0.0021\n",
      "Change in x0: 0.4532\n",
      "*********             Velocity Refinement Round 7             *********\n",
      "*********     Round 7: Early Stop Triggered at epoch 1797.    *********\n",
      "Change in noise variance: 0.0049\n",
      "Change in x0: 0.3519\n",
      "*********             Velocity Refinement Round 8             *********\n",
      "*********     Round 8: Early Stop Triggered at epoch 1828.    *********\n",
      "Change in noise variance: 0.0057\n",
      "Change in x0: 0.2352\n",
      "*********             Velocity Refinement Round 9             *********\n",
      "*********     Round 9: Early Stop Triggered at epoch 1854.    *********\n",
      "Change in noise variance: 0.0038\n",
      "Change in x0: 0.1470\n",
      "*********             Velocity Refinement Round 10             *********\n",
      "*********     Round 10: Early Stop Triggered at epoch 1896.    *********\n",
      "Change in noise variance: 0.0015\n",
      "Change in x0: 0.1019\n",
      "*********             Velocity Refinement Round 11             *********\n",
      "*********     Round 11: Early Stop Triggered at epoch 1907.    *********\n",
      "Change in noise variance: 0.0004\n",
      "Change in x0: 0.0837\n",
      "*********             Velocity Refinement Round 12             *********\n",
      "*********     Round 12: Early Stop Triggered at epoch 1946.    *********\n",
      "Change in noise variance: 0.0000\n",
      "Change in x0: 0.0917\n",
      "*********             Velocity Refinement Round 13             *********\n",
      "Stage 2: Early Stop Triggered at round 12.\n",
      "*********              Finished. Total Time =   0 h :  2 m : 36 s             *********\n",
      "Final: Train ELBO = -1092.304,\tTest ELBO = -1252.312\n",
      "Run 26, file /ictstr01/groups/ml01/workspace/yifan.chen/regvelo_reproducibility/data/dyngen/complexity_1/processed/simulation_20.zarr.\n",
      "Estimating ODE parameters...\n"
     ]
    },
    {
     "data": {
      "application/json": {
       "ascii": false,
       "bar_format": null,
       "colour": null,
       "elapsed": 0.004492521286010742,
       "initial": 0,
       "n": 0,
       "ncols": null,
       "nrows": null,
       "postfix": null,
       "prefix": "",
       "rate": null,
       "total": 289,
       "unit": "it",
       "unit_divisor": 1000,
       "unit_scale": false
      },
      "application/vnd.jupyter.widget-view+json": {
       "model_id": "9ddb22db55734eb6b89b7fac1140bf61",
       "version_major": 2,
       "version_minor": 0
      },
      "text/plain": [
       "  0%|          | 0/289 [00:00<?, ?it/s]"
      ]
     },
     "metadata": {},
     "output_type": "display_data"
    },
    {
     "name": "stdout",
     "output_type": "stream",
     "text": [
      "Detected 280 velocity genes.\n",
      "Estimating the variance...\n"
     ]
    },
    {
     "data": {
      "application/json": {
       "ascii": false,
       "bar_format": null,
       "colour": null,
       "elapsed": 0.0071866512298583984,
       "initial": 0,
       "n": 0,
       "ncols": null,
       "nrows": null,
       "postfix": null,
       "prefix": "",
       "rate": null,
       "total": 289,
       "unit": "it",
       "unit_divisor": 1000,
       "unit_scale": false
      },
      "application/vnd.jupyter.widget-view+json": {
       "model_id": "ec3db07a331e4d588532d7b0e6468b01",
       "version_major": 2,
       "version_minor": 0
      },
      "text/plain": [
       "  0%|          | 0/289 [00:00<?, ?it/s]"
      ]
     },
     "metadata": {},
     "output_type": "display_data"
    },
    {
     "name": "stdout",
     "output_type": "stream",
     "text": [
      "Initialization using the steady-state and dynamical models.\n",
      "Reinitialize the regular ODE parameters based on estimated global latent time.\n"
     ]
    },
    {
     "data": {
      "application/json": {
       "ascii": false,
       "bar_format": null,
       "colour": null,
       "elapsed": 0.002646207809448242,
       "initial": 0,
       "n": 0,
       "ncols": null,
       "nrows": null,
       "postfix": null,
       "prefix": "",
       "rate": null,
       "total": 289,
       "unit": "it",
       "unit_divisor": 1000,
       "unit_scale": false
      },
      "application/vnd.jupyter.widget-view+json": {
       "model_id": "a8a9c42908524b798c471474b4cfb062",
       "version_major": 2,
       "version_minor": 0
      },
      "text/plain": [
       "  0%|          | 0/289 [00:00<?, ?it/s]"
      ]
     },
     "metadata": {},
     "output_type": "display_data"
    },
    {
     "name": "stdout",
     "output_type": "stream",
     "text": [
      "3 clusters detected based on gene co-expression.\n",
      "KS-test result: [1. 1. 1.]\n",
      "Assign cluster 2 to repressive\n",
      "Initial induction: 201, repression: 88/289\n",
      "Learning Rate based on Data Sparsity: 0.0004\n",
      "--------------------------- Train a VeloVAE ---------------------------\n",
      "*********        Creating Training/Validation Datasets        *********\n",
      "*********                      Finished.                      *********\n",
      "*********                 Creating optimizers                 *********\n",
      "*********                      Finished.                      *********\n",
      "*********                    Start training                   *********\n",
      "*********                      Stage  1                       *********\n",
      "Total Number of Iterations Per Epoch: 6, test iteration: 10\n",
      "*********                      Stage  2                       *********\n",
      "*********             Velocity Refinement Round 1             *********\n"
     ]
    },
    {
     "data": {
      "application/json": {
       "ascii": false,
       "bar_format": null,
       "colour": null,
       "elapsed": 0.003924846649169922,
       "initial": 0,
       "n": 0,
       "ncols": null,
       "nrows": null,
       "postfix": null,
       "prefix": "",
       "rate": null,
       "total": 1000,
       "unit": "it",
       "unit_divisor": 1000,
       "unit_scale": false
      },
      "application/vnd.jupyter.widget-view+json": {
       "model_id": "58696839aec44b94af4ca4746d24efc9",
       "version_major": 2,
       "version_minor": 0
      },
      "text/plain": [
       "  0%|          | 0/1000 [00:00<?, ?it/s]"
      ]
     },
     "metadata": {},
     "output_type": "display_data"
    },
    {
     "name": "stdout",
     "output_type": "stream",
     "text": [
      "Percentage of Invalid Sets: 0.118\n",
      "Average Set Size: 19\n",
      "*********     Round 1: Early Stop Triggered at epoch 1452.    *********\n",
      "Change in noise variance: 0.0595\n",
      "*********             Velocity Refinement Round 2             *********\n",
      "*********     Round 2: Early Stop Triggered at epoch 1629.    *********\n",
      "Change in noise variance: 0.0121\n",
      "Change in x0: 0.2074\n",
      "*********             Velocity Refinement Round 3             *********\n",
      "*********     Round 3: Early Stop Triggered at epoch 1705.    *********\n",
      "Change in noise variance: 0.0010\n",
      "Change in x0: 0.1123\n",
      "*********             Velocity Refinement Round 4             *********\n",
      "*********     Round 4: Early Stop Triggered at epoch 1817.    *********\n",
      "Change in noise variance: 0.0002\n",
      "Change in x0: 0.0804\n",
      "*********             Velocity Refinement Round 5             *********\n",
      "*********     Round 5: Early Stop Triggered at epoch 1986.    *********\n",
      "Change in noise variance: 0.0000\n",
      "Change in x0: 0.0608\n",
      "*********             Velocity Refinement Round 6             *********\n",
      "*********     Round 6: Early Stop Triggered at epoch 2155.    *********\n",
      "Change in noise variance: 0.0000\n",
      "Change in x0: 0.0600\n",
      "*********             Velocity Refinement Round 7             *********\n",
      "Stage 2: Early Stop Triggered at round 6.\n",
      "*********              Finished. Total Time =   0 h :  2 m : 44 s             *********\n",
      "Final: Train ELBO = 523.419,\tTest ELBO = 410.966\n",
      "Run 27, file /ictstr01/groups/ml01/workspace/yifan.chen/regvelo_reproducibility/data/dyngen/complexity_1/processed/simulation_7.zarr.\n",
      "Estimating ODE parameters...\n"
     ]
    },
    {
     "data": {
      "application/json": {
       "ascii": false,
       "bar_format": null,
       "colour": null,
       "elapsed": 0.0034542083740234375,
       "initial": 0,
       "n": 0,
       "ncols": null,
       "nrows": null,
       "postfix": null,
       "prefix": "",
       "rate": null,
       "total": 481,
       "unit": "it",
       "unit_divisor": 1000,
       "unit_scale": false
      },
      "application/vnd.jupyter.widget-view+json": {
       "model_id": "1ed7664cfe644219b6a99db688c839d4",
       "version_major": 2,
       "version_minor": 0
      },
      "text/plain": [
       "  0%|          | 0/481 [00:00<?, ?it/s]"
      ]
     },
     "metadata": {},
     "output_type": "display_data"
    },
    {
     "name": "stdout",
     "output_type": "stream",
     "text": [
      "Detected 347 velocity genes.\n",
      "Estimating the variance...\n"
     ]
    },
    {
     "data": {
      "application/json": {
       "ascii": false,
       "bar_format": null,
       "colour": null,
       "elapsed": 0.010440349578857422,
       "initial": 0,
       "n": 0,
       "ncols": null,
       "nrows": null,
       "postfix": null,
       "prefix": "",
       "rate": null,
       "total": 481,
       "unit": "it",
       "unit_divisor": 1000,
       "unit_scale": false
      },
      "application/vnd.jupyter.widget-view+json": {
       "model_id": "1aa3d5d1063740c8b9a975cb29e0e4b5",
       "version_major": 2,
       "version_minor": 0
      },
      "text/plain": [
       "  0%|          | 0/481 [00:00<?, ?it/s]"
      ]
     },
     "metadata": {},
     "output_type": "display_data"
    },
    {
     "name": "stdout",
     "output_type": "stream",
     "text": [
      "Initialization using the steady-state and dynamical models.\n",
      "Reinitialize the regular ODE parameters based on estimated global latent time.\n"
     ]
    },
    {
     "data": {
      "application/json": {
       "ascii": false,
       "bar_format": null,
       "colour": null,
       "elapsed": 0.002724170684814453,
       "initial": 0,
       "n": 0,
       "ncols": null,
       "nrows": null,
       "postfix": null,
       "prefix": "",
       "rate": null,
       "total": 481,
       "unit": "it",
       "unit_divisor": 1000,
       "unit_scale": false
      },
      "application/vnd.jupyter.widget-view+json": {
       "model_id": "78ee37fb0b0f461696d4abfbb1b71ad5",
       "version_major": 2,
       "version_minor": 0
      },
      "text/plain": [
       "  0%|          | 0/481 [00:00<?, ?it/s]"
      ]
     },
     "metadata": {},
     "output_type": "display_data"
    },
    {
     "name": "stdout",
     "output_type": "stream",
     "text": [
      "3 clusters detected based on gene co-expression.\n",
      "(0.35, 0.3338688963765141), (0.65, 0.8501683610682383)\n",
      "(0.43, 0.26033194504377993), (0.57, 0.7905961327414116)\n",
      "KS-test result: [0. 1. 0.]\n",
      "Initial induction: 340, repression: 141/481\n",
      "Learning Rate based on Data Sparsity: 0.0000\n",
      "--------------------------- Train a VeloVAE ---------------------------\n",
      "*********        Creating Training/Validation Datasets        *********\n",
      "*********                      Finished.                      *********\n",
      "*********                 Creating optimizers                 *********\n",
      "*********                      Finished.                      *********\n",
      "*********                    Start training                   *********\n",
      "*********                      Stage  1                       *********\n",
      "Total Number of Iterations Per Epoch: 6, test iteration: 10\n",
      "*********                      Stage  2                       *********\n",
      "*********             Velocity Refinement Round 1             *********\n"
     ]
    },
    {
     "data": {
      "application/json": {
       "ascii": false,
       "bar_format": null,
       "colour": null,
       "elapsed": 0.003949403762817383,
       "initial": 0,
       "n": 0,
       "ncols": null,
       "nrows": null,
       "postfix": null,
       "prefix": "",
       "rate": null,
       "total": 1000,
       "unit": "it",
       "unit_divisor": 1000,
       "unit_scale": false
      },
      "application/vnd.jupyter.widget-view+json": {
       "model_id": "4852a67faa984565ab26c793ed6aac32",
       "version_major": 2,
       "version_minor": 0
      },
      "text/plain": [
       "  0%|          | 0/1000 [00:00<?, ?it/s]"
      ]
     },
     "metadata": {},
     "output_type": "display_data"
    },
    {
     "name": "stdout",
     "output_type": "stream",
     "text": [
      "Percentage of Invalid Sets: 0.033\n",
      "Average Set Size: 20\n",
      "*********     Round 1: Early Stop Triggered at epoch 1416.    *********\n",
      "Change in noise variance: 0.0589\n",
      "*********             Velocity Refinement Round 2             *********\n",
      "*********     Round 2: Early Stop Triggered at epoch 1478.    *********\n",
      "Change in noise variance: 0.0218\n",
      "Change in x0: 0.4051\n",
      "*********             Velocity Refinement Round 3             *********\n",
      "*********     Round 3: Early Stop Triggered at epoch 1590.    *********\n",
      "Change in noise variance: 0.0033\n",
      "Change in x0: 0.3137\n",
      "*********             Velocity Refinement Round 4             *********\n",
      "*********     Round 4: Early Stop Triggered at epoch 1666.    *********\n",
      "Change in noise variance: 0.0026\n",
      "Change in x0: 0.2701\n",
      "*********             Velocity Refinement Round 5             *********\n",
      "*********     Round 5: Early Stop Triggered at epoch 1695.    *********\n",
      "Change in noise variance: 0.0013\n",
      "Change in x0: 0.2180\n",
      "*********             Velocity Refinement Round 6             *********\n",
      "*********     Round 6: Early Stop Triggered at epoch 1762.    *********\n",
      "Change in noise variance: 0.0009\n",
      "Change in x0: 0.1583\n",
      "*********             Velocity Refinement Round 7             *********\n",
      "*********     Round 7: Early Stop Triggered at epoch 1769.    *********\n",
      "Change in noise variance: 0.0000\n",
      "Change in x0: 0.1418\n",
      "*********             Velocity Refinement Round 8             *********\n",
      "*********     Round 8: Early Stop Triggered at epoch 1776.    *********\n",
      "Change in noise variance: 0.0000\n",
      "Change in x0: 0.1210\n",
      "*********             Velocity Refinement Round 9             *********\n",
      "*********     Round 9: Early Stop Triggered at epoch 1828.    *********\n",
      "Change in noise variance: 0.0000\n",
      "Change in x0: 0.1092\n",
      "*********             Velocity Refinement Round 10             *********\n",
      "*********     Round 10: Early Stop Triggered at epoch 1902.    *********\n",
      "Change in noise variance: 0.0000\n",
      "Change in x0: 0.1064\n",
      "*********             Velocity Refinement Round 11             *********\n",
      "Stage 2: Early Stop Triggered at round 10.\n",
      "*********              Finished. Total Time =   0 h :  2 m : 29 s             *********\n",
      "Final: Train ELBO = -124.616,\tTest ELBO = -153.157\n",
      "Run 28, file /ictstr01/groups/ml01/workspace/yifan.chen/regvelo_reproducibility/data/dyngen/complexity_1/processed/simulation_3.zarr.\n",
      "Estimating ODE parameters...\n"
     ]
    },
    {
     "data": {
      "application/json": {
       "ascii": false,
       "bar_format": null,
       "colour": null,
       "elapsed": 0.003469228744506836,
       "initial": 0,
       "n": 0,
       "ncols": null,
       "nrows": null,
       "postfix": null,
       "prefix": "",
       "rate": null,
       "total": 208,
       "unit": "it",
       "unit_divisor": 1000,
       "unit_scale": false
      },
      "application/vnd.jupyter.widget-view+json": {
       "model_id": "ad2ec5c9cbc54c11b139c0c43696a500",
       "version_major": 2,
       "version_minor": 0
      },
      "text/plain": [
       "  0%|          | 0/208 [00:00<?, ?it/s]"
      ]
     },
     "metadata": {},
     "output_type": "display_data"
    },
    {
     "name": "stdout",
     "output_type": "stream",
     "text": [
      "Detected 148 velocity genes.\n",
      "Estimating the variance...\n"
     ]
    },
    {
     "data": {
      "application/json": {
       "ascii": false,
       "bar_format": null,
       "colour": null,
       "elapsed": 0.006030082702636719,
       "initial": 0,
       "n": 0,
       "ncols": null,
       "nrows": null,
       "postfix": null,
       "prefix": "",
       "rate": null,
       "total": 208,
       "unit": "it",
       "unit_divisor": 1000,
       "unit_scale": false
      },
      "application/vnd.jupyter.widget-view+json": {
       "model_id": "179d368447034c12969418fc89a198aa",
       "version_major": 2,
       "version_minor": 0
      },
      "text/plain": [
       "  0%|          | 0/208 [00:00<?, ?it/s]"
      ]
     },
     "metadata": {},
     "output_type": "display_data"
    },
    {
     "name": "stdout",
     "output_type": "stream",
     "text": [
      "Initialization using the steady-state and dynamical models.\n",
      "Reinitialize the regular ODE parameters based on estimated global latent time.\n"
     ]
    },
    {
     "data": {
      "application/json": {
       "ascii": false,
       "bar_format": null,
       "colour": null,
       "elapsed": 0.0026636123657226562,
       "initial": 0,
       "n": 0,
       "ncols": null,
       "nrows": null,
       "postfix": null,
       "prefix": "",
       "rate": null,
       "total": 208,
       "unit": "it",
       "unit_divisor": 1000,
       "unit_scale": false
      },
      "application/vnd.jupyter.widget-view+json": {
       "model_id": "771f0874a2f94664afa899e85ca982c0",
       "version_major": 2,
       "version_minor": 0
      },
      "text/plain": [
       "  0%|          | 0/208 [00:00<?, ?it/s]"
      ]
     },
     "metadata": {},
     "output_type": "display_data"
    },
    {
     "name": "stdout",
     "output_type": "stream",
     "text": [
      "3 clusters detected based on gene co-expression.\n",
      "(0.41, 0.7019526186807664), (0.59, 0.16143693643502346)\n",
      "KS-test result: [1. 0. 1.]\n",
      "Initial induction: 137, repression: 71/208\n",
      "Learning Rate based on Data Sparsity: 0.0000\n",
      "--------------------------- Train a VeloVAE ---------------------------\n",
      "*********        Creating Training/Validation Datasets        *********\n",
      "*********                      Finished.                      *********\n",
      "*********                 Creating optimizers                 *********\n",
      "*********                      Finished.                      *********\n",
      "*********                    Start training                   *********\n",
      "*********                      Stage  1                       *********\n",
      "Total Number of Iterations Per Epoch: 6, test iteration: 10\n",
      "*********       Stage 1: Early Stop Triggered at epoch 9.       *********\n",
      "*********                      Stage  2                       *********\n",
      "*********             Velocity Refinement Round 1             *********\n"
     ]
    },
    {
     "data": {
      "application/json": {
       "ascii": false,
       "bar_format": null,
       "colour": null,
       "elapsed": 0.002955198287963867,
       "initial": 0,
       "n": 0,
       "ncols": null,
       "nrows": null,
       "postfix": null,
       "prefix": "",
       "rate": null,
       "total": 1000,
       "unit": "it",
       "unit_divisor": 1000,
       "unit_scale": false
      },
      "application/vnd.jupyter.widget-view+json": {
       "model_id": "97d8810b536a48f097e9752295603a9b",
       "version_major": 2,
       "version_minor": 0
      },
      "text/plain": [
       "  0%|          | 0/1000 [00:00<?, ?it/s]"
      ]
     },
     "metadata": {},
     "output_type": "display_data"
    },
    {
     "name": "stdout",
     "output_type": "stream",
     "text": [
      "Percentage of Invalid Sets: 0.030\n",
      "Average Set Size: 20\n",
      "*********     Round 1: Early Stop Triggered at epoch 18.    *********\n",
      "Change in noise variance: 0.2526\n",
      "*********             Velocity Refinement Round 2             *********\n",
      "*********     Round 2: Early Stop Triggered at epoch 25.    *********\n",
      "Change in noise variance: 0.0175\n",
      "Change in x0: 0.5068\n",
      "*********             Velocity Refinement Round 3             *********\n",
      "*********     Round 3: Early Stop Triggered at epoch 34.    *********\n",
      "Change in noise variance: 0.0136\n",
      "Change in x0: 0.3108\n",
      "*********             Velocity Refinement Round 4             *********\n",
      "*********     Round 4: Early Stop Triggered at epoch 43.    *********\n",
      "Change in noise variance: 0.0037\n",
      "Change in x0: 0.1939\n",
      "*********             Velocity Refinement Round 5             *********\n",
      "*********     Round 5: Early Stop Triggered at epoch 52.    *********\n",
      "Change in noise variance: 0.0009\n",
      "Change in x0: 0.1428\n",
      "*********             Velocity Refinement Round 6             *********\n",
      "*********     Round 6: Early Stop Triggered at epoch 59.    *********\n",
      "Change in noise variance: 0.0000\n",
      "Change in x0: 0.1115\n",
      "*********             Velocity Refinement Round 7             *********\n",
      "*********     Round 7: Early Stop Triggered at epoch 73.    *********\n",
      "Change in noise variance: 0.0000\n",
      "Change in x0: 0.1003\n",
      "*********             Velocity Refinement Round 8             *********\n",
      "*********     Round 8: Early Stop Triggered at epoch 82.    *********\n",
      "Change in noise variance: 0.0000\n",
      "Change in x0: 0.0981\n",
      "*********             Velocity Refinement Round 9             *********\n",
      "Stage 2: Early Stop Triggered at round 8.\n",
      "*********              Finished. Total Time =   0 h :  0 m :  7 s             *********\n",
      "Final: Train ELBO = -37723.707,\tTest ELBO = -37839.289\n",
      "Run 29, file /ictstr01/groups/ml01/workspace/yifan.chen/regvelo_reproducibility/data/dyngen/complexity_1/processed/simulation_26.zarr.\n",
      "Estimating ODE parameters...\n"
     ]
    },
    {
     "data": {
      "application/json": {
       "ascii": false,
       "bar_format": null,
       "colour": null,
       "elapsed": 0.002950429916381836,
       "initial": 0,
       "n": 0,
       "ncols": null,
       "nrows": null,
       "postfix": null,
       "prefix": "",
       "rate": null,
       "total": 494,
       "unit": "it",
       "unit_divisor": 1000,
       "unit_scale": false
      },
      "application/vnd.jupyter.widget-view+json": {
       "model_id": "0d80d4cc3536439f89070e20b91c00ba",
       "version_major": 2,
       "version_minor": 0
      },
      "text/plain": [
       "  0%|          | 0/494 [00:00<?, ?it/s]"
      ]
     },
     "metadata": {},
     "output_type": "display_data"
    },
    {
     "name": "stdout",
     "output_type": "stream",
     "text": [
      "Detected 470 velocity genes.\n",
      "Estimating the variance...\n"
     ]
    },
    {
     "data": {
      "application/json": {
       "ascii": false,
       "bar_format": null,
       "colour": null,
       "elapsed": 0.006036996841430664,
       "initial": 0,
       "n": 0,
       "ncols": null,
       "nrows": null,
       "postfix": null,
       "prefix": "",
       "rate": null,
       "total": 494,
       "unit": "it",
       "unit_divisor": 1000,
       "unit_scale": false
      },
      "application/vnd.jupyter.widget-view+json": {
       "model_id": "3b276b3a133041d18638382b5d974eb8",
       "version_major": 2,
       "version_minor": 0
      },
      "text/plain": [
       "  0%|          | 0/494 [00:00<?, ?it/s]"
      ]
     },
     "metadata": {},
     "output_type": "display_data"
    },
    {
     "name": "stdout",
     "output_type": "stream",
     "text": [
      "Initialization using the steady-state and dynamical models.\n",
      "Reinitialize the regular ODE parameters based on estimated global latent time.\n"
     ]
    },
    {
     "data": {
      "application/json": {
       "ascii": false,
       "bar_format": null,
       "colour": null,
       "elapsed": 0.0027320384979248047,
       "initial": 0,
       "n": 0,
       "ncols": null,
       "nrows": null,
       "postfix": null,
       "prefix": "",
       "rate": null,
       "total": 494,
       "unit": "it",
       "unit_divisor": 1000,
       "unit_scale": false
      },
      "application/vnd.jupyter.widget-view+json": {
       "model_id": "5bc483165b99467699f5190caf0ab5ee",
       "version_major": 2,
       "version_minor": 0
      },
      "text/plain": [
       "  0%|          | 0/494 [00:00<?, ?it/s]"
      ]
     },
     "metadata": {},
     "output_type": "display_data"
    },
    {
     "name": "stdout",
     "output_type": "stream",
     "text": [
      "3 clusters detected based on gene co-expression.\n",
      "KS-test result: [1. 1. 1.]\n",
      "Assign cluster 1 to repressive\n",
      "Initial induction: 324, repression: 170/494\n",
      "Learning Rate based on Data Sparsity: 0.0003\n",
      "--------------------------- Train a VeloVAE ---------------------------\n",
      "*********        Creating Training/Validation Datasets        *********\n",
      "*********                      Finished.                      *********\n",
      "*********                 Creating optimizers                 *********\n",
      "*********                      Finished.                      *********\n",
      "*********                    Start training                   *********\n",
      "*********                      Stage  1                       *********\n",
      "Total Number of Iterations Per Epoch: 6, test iteration: 10\n",
      "*********       Stage 1: Early Stop Triggered at epoch 824.       *********\n",
      "*********                      Stage  2                       *********\n",
      "*********             Velocity Refinement Round 1             *********\n"
     ]
    },
    {
     "data": {
      "application/json": {
       "ascii": false,
       "bar_format": null,
       "colour": null,
       "elapsed": 0.004023551940917969,
       "initial": 0,
       "n": 0,
       "ncols": null,
       "nrows": null,
       "postfix": null,
       "prefix": "",
       "rate": null,
       "total": 1000,
       "unit": "it",
       "unit_divisor": 1000,
       "unit_scale": false
      },
      "application/vnd.jupyter.widget-view+json": {
       "model_id": "a003b331301d4f40b3733978267bea2a",
       "version_major": 2,
       "version_minor": 0
      },
      "text/plain": [
       "  0%|          | 0/1000 [00:00<?, ?it/s]"
      ]
     },
     "metadata": {},
     "output_type": "display_data"
    },
    {
     "name": "stdout",
     "output_type": "stream",
     "text": [
      "Percentage of Invalid Sets: 0.118\n",
      "Average Set Size: 19\n",
      "*********     Round 1: Early Stop Triggered at epoch 1041.    *********\n",
      "Change in noise variance: 0.0273\n",
      "*********             Velocity Refinement Round 2             *********\n",
      "*********     Round 2: Early Stop Triggered at epoch 1113.    *********\n",
      "Change in noise variance: 0.0124\n",
      "Change in x0: 0.2851\n",
      "*********             Velocity Refinement Round 3             *********\n",
      "*********     Round 3: Early Stop Triggered at epoch 1132.    *********\n",
      "Change in noise variance: 0.0018\n",
      "Change in x0: 0.1825\n",
      "*********             Velocity Refinement Round 4             *********\n",
      "*********     Round 4: Early Stop Triggered at epoch 1156.    *********\n",
      "Change in noise variance: 0.0004\n",
      "Change in x0: 0.1316\n",
      "*********             Velocity Refinement Round 5             *********\n",
      "*********     Round 5: Early Stop Triggered at epoch 1182.    *********\n",
      "Change in noise variance: 0.0000\n",
      "Change in x0: 0.1173\n",
      "*********             Velocity Refinement Round 6             *********\n",
      "*********     Round 6: Early Stop Triggered at epoch 1204.    *********\n",
      "Change in noise variance: 0.0000\n",
      "Change in x0: 0.0974\n",
      "*********             Velocity Refinement Round 7             *********\n",
      "*********     Round 7: Early Stop Triggered at epoch 1228.    *********\n",
      "Change in noise variance: 0.0000\n",
      "Change in x0: 0.0896\n",
      "*********             Velocity Refinement Round 8             *********\n",
      "Stage 2: Early Stop Triggered at round 7.\n",
      "*********              Finished. Total Time =   0 h :  1 m : 38 s             *********\n",
      "Final: Train ELBO = 594.783,\tTest ELBO = 521.406\n"
     ]
    }
   ],
   "source": [
    "velocity_correlation = []\n",
    "\n",
    "cnt = 0\n",
    "for filename in (DATA_DIR / DATASET / COMPLEXITY / \"processed\").iterdir():\n",
    "    if filename.suffix != \".zarr\":\n",
    "        continue\n",
    "\n",
    "    print(f\"Run {cnt}, file {filename}.\")\n",
    "    adata = ad.io.read_zarr(filename)\n",
    "\n",
    "    try:\n",
    "        rate_prior = {\"alpha\": (0.0, 1.0), \"beta\": (0.0, 0.5), \"gamma\": (0.0, 0.5)}\n",
    "        vae = vv.VAE(adata, tmax=20, dim_z=5, device=\"cuda:0\", full_vb=True, rate_prior=rate_prior)\n",
    "        config = {}\n",
    "        vae.train(adata, config=config, plot=False, embed=\"pca\")\n",
    "\n",
    "        simulation_id = int(filename.stem.removeprefix(\"simulation_\"))\n",
    "        # Output velocity to adata object\n",
    "        vae.save_anndata(adata, \"fullvb\", DATA_DIR / DATASET / COMPLEXITY / \"processed\" / \"velovae_fullvb_vae\", file_name=f\"velovae_fullvb_{simulation_id}.h5ad\")\n",
    "\n",
    "        adata.layers[\"velocity\"] = adata.layers[\"fullvb_velocity\"].copy()\n",
    "\n",
    "        # save data\n",
    "        adata.write_zarr(DATA_DIR / DATASET / COMPLEXITY / \"trained_velovae_fullvb\" / f\"trained_{simulation_id}.zarr\")\n",
    "\n",
    "        velocity_correlation.append(\n",
    "            get_velocity_correlation(\n",
    "                ground_truth=adata.layers[\"true_velocity\"], estimated=adata.layers[\"velocity\"], aggregation=np.mean\n",
    "            )\n",
    "        )\n",
    "\n",
    "    except Exception as e:  # noqa: BLE001\n",
    "        # Append np.nan in case of an error and optionally log the error\n",
    "        print(f\"An error occurred: {e}\")\n",
    "        velocity_correlation.append(np.nan)\n",
    "\n",
    "    cnt += 1"
   ]
  },
  {
   "cell_type": "markdown",
   "id": "9714322d",
   "metadata": {},
   "source": [
    "## Data saving"
   ]
  },
  {
   "cell_type": "code",
   "execution_count": 10,
   "id": "cf4d362e",
   "metadata": {},
   "outputs": [],
   "source": [
    "if SAVE_DATA:\n",
    "    pd.DataFrame({\"velocity\": velocity_correlation}).to_parquet(\n",
    "        path=DATA_DIR / DATASET / COMPLEXITY / \"results\" / \"velovae_fullvb_correlation.parquet\"\n",
    "    )"
   ]
  }
 ],
 "metadata": {
  "kernelspec": {
   "display_name": "regvelo-py310-velovae",
   "language": "python",
   "name": "regvelo-py310-velovae"
  },
  "language_info": {
   "codemirror_mode": {
    "name": "ipython",
    "version": 3
   },
   "file_extension": ".py",
   "mimetype": "text/x-python",
   "name": "python",
   "nbconvert_exporter": "python",
   "pygments_lexer": "ipython3",
   "version": "3.10.16"
  }
 },
 "nbformat": 4,
 "nbformat_minor": 5
}
