{
 "cells": [
  {
   "cell_type": "markdown",
   "id": "39a88ab1-061b-4e39-9dfe-771b97c048aa",
   "metadata": {},
   "source": [
    "# Correlation benchmark on dyngen data\n",
    "\n",
    "Notebook benchmarks GRN inference using correlation on dyngen-generated data."
   ]
  },
  {
   "cell_type": "markdown",
   "id": "7a5fb5ff-d59e-466e-a0e0-9eb378f6632b",
   "metadata": {},
   "source": [
    "## Library imports"
   ]
  },
  {
   "cell_type": "code",
   "execution_count": 1,
   "id": "a17c608c-4457-4991-9144-bf1610a0a95a",
   "metadata": {},
   "outputs": [
    {
     "name": "stderr",
     "output_type": "stream",
     "text": [
      "/home/icb/yifan.chen/miniconda3/envs/regvelo-py310/lib/python3.10/site-packages/anndata/utils.py:429: FutureWarning: Importing read_csv from `anndata` is deprecated. Import anndata.io.read_csv instead.\n",
      "  warnings.warn(msg, FutureWarning)\n",
      "/home/icb/yifan.chen/miniconda3/envs/regvelo-py310/lib/python3.10/site-packages/anndata/utils.py:429: FutureWarning: Importing read_loom from `anndata` is deprecated. Import anndata.io.read_loom instead.\n",
      "  warnings.warn(msg, FutureWarning)\n",
      "/home/icb/yifan.chen/miniconda3/envs/regvelo-py310/lib/python3.10/site-packages/anndata/utils.py:429: FutureWarning: Importing read_text from `anndata` is deprecated. Import anndata.io.read_text instead.\n",
      "  warnings.warn(msg, FutureWarning)\n",
      "/home/icb/yifan.chen/miniconda3/envs/regvelo-py310/lib/python3.10/site-packages/anndata/utils.py:429: FutureWarning: Importing CSCDataset from `anndata.experimental` is deprecated. Import anndata.abc.CSCDataset instead.\n",
      "  warnings.warn(msg, FutureWarning)\n",
      "/home/icb/yifan.chen/miniconda3/envs/regvelo-py310/lib/python3.10/site-packages/anndata/utils.py:429: FutureWarning: Importing CSRDataset from `anndata.experimental` is deprecated. Import anndata.abc.CSRDataset instead.\n",
      "  warnings.warn(msg, FutureWarning)\n",
      "/home/icb/yifan.chen/miniconda3/envs/regvelo-py310/lib/python3.10/site-packages/anndata/utils.py:429: FutureWarning: Importing read_elem from `anndata.experimental` is deprecated. Import anndata.io.read_elem instead.\n",
      "  warnings.warn(msg, FutureWarning)\n"
     ]
    }
   ],
   "source": [
    "import numpy as np\n",
    "import pandas as pd\n",
    "import torch\n",
    "from sklearn.metrics import roc_auc_score\n",
    "\n",
    "import anndata as ad\n",
    "import scvi\n",
    "\n",
    "from rgv_tools import DATA_DIR"
   ]
  },
  {
   "cell_type": "markdown",
   "id": "2350ad30-cdb5-4145-83dc-0c155215e136",
   "metadata": {},
   "source": [
    "## General settings"
   ]
  },
  {
   "cell_type": "code",
   "execution_count": 2,
   "id": "959fa41f-d0b6-49a8-9d39-3f215d5e3241",
   "metadata": {},
   "outputs": [
    {
     "name": "stderr",
     "output_type": "stream",
     "text": [
      "[rank: 0] Seed set to 0\n"
     ]
    }
   ],
   "source": [
    "scvi.settings.seed = 0"
   ]
  },
  {
   "cell_type": "markdown",
   "id": "cbe2f78f-7720-4858-bbf7-1047d0d65840",
   "metadata": {},
   "source": [
    "## Constants"
   ]
  },
  {
   "cell_type": "code",
   "execution_count": 3,
   "id": "86d996e4-16be-487f-99cd-1e0c4a09bc91",
   "metadata": {},
   "outputs": [],
   "source": [
    "DATASET = \"dyngen\""
   ]
  },
  {
   "cell_type": "code",
   "execution_count": 4,
   "id": "e97de846-5cf4-4849-ba4e-93e4859c55bd",
   "metadata": {},
   "outputs": [],
   "source": [
    "COMPLEXITY = \"complexity_1\""
   ]
  },
  {
   "cell_type": "code",
   "execution_count": 5,
   "id": "5f87ff5e-9afb-41bc-9de9-c761df04f200",
   "metadata": {},
   "outputs": [],
   "source": [
    "SAVE_DATA = True\n",
    "if SAVE_DATA:\n",
    "    (DATA_DIR / DATASET / COMPLEXITY / \"results\").mkdir(parents=True, exist_ok=True)"
   ]
  },
  {
   "cell_type": "markdown",
   "id": "b2ef402a-bfc1-4754-ae88-e4f31f3d8368",
   "metadata": {},
   "source": [
    "## Velocity pipeline"
   ]
  },
  {
   "cell_type": "code",
   "execution_count": 6,
   "id": "6b271a2a-65a7-42eb-953e-15d3ff1029c0",
   "metadata": {
    "tags": []
   },
   "outputs": [
    {
     "name": "stdout",
     "output_type": "stream",
     "text": [
      "Run 0, dataset 29.\n",
      "Run 1, dataset 14.\n",
      "Run 2, dataset 24.\n",
      "Run 3, dataset 28.\n",
      "Run 4, dataset 6.\n",
      "Run 5, dataset 21.\n",
      "Run 6, dataset 15.\n",
      "Run 7, dataset 9.\n",
      "Run 8, dataset 12.\n",
      "Run 9, dataset 19.\n",
      "Run 10, dataset 4.\n",
      "Run 11, dataset 13.\n",
      "Run 12, dataset 2.\n",
      "Run 13, dataset 16.\n",
      "Run 14, dataset 1.\n",
      "Run 15, dataset 18.\n",
      "Run 16, dataset 5.\n",
      "Run 17, dataset 10.\n",
      "Run 18, dataset 8.\n",
      "Run 19, dataset 11.\n",
      "Run 20, dataset 27.\n",
      "Run 21, dataset 23.\n",
      "Run 22, dataset 17.\n",
      "Run 23, dataset 30.\n",
      "Run 24, dataset 22.\n",
      "Run 25, dataset 25.\n",
      "Run 26, dataset 20.\n",
      "Run 27, dataset 7.\n",
      "Run 28, dataset 3.\n",
      "Run 29, dataset 26.\n"
     ]
    }
   ],
   "source": [
    "grn_correlation = []\n",
    "\n",
    "cnt = 0\n",
    "for filename in (DATA_DIR / DATASET / COMPLEXITY / \"processed\").iterdir():\n",
    "    torch.cuda.empty_cache()\n",
    "    if filename.suffix != \".zarr\":\n",
    "        continue\n",
    "\n",
    "    simulation_id = int(filename.stem.removeprefix(\"simulation_\"))\n",
    "    print(f\"Run {cnt}, dataset {simulation_id}.\")\n",
    "    \n",
    "    adata = ad.io.read_zarr(filename)\n",
    "    grn_true = adata.uns[\"true_skeleton\"]\n",
    "    grn_sc_true = adata.uns[\"true_sc_grn\"]\n",
    "\n",
    "    grn_estimate = adata.to_df(layer=\"Ms\").corr().values\n",
    "\n",
    "    grn_auroc = []\n",
    "    for cell_id in range(adata.n_obs):\n",
    "        ground_truth = grn_sc_true[:, :, cell_id]\n",
    "\n",
    "        if ground_truth.sum() > 0:\n",
    "            ground_truth = ground_truth.T[np.array(grn_true.T) == 1]\n",
    "            ground_truth[ground_truth != 0] = 1\n",
    "\n",
    "            estimated = grn_estimate[np.array(grn_true.T) == 1]\n",
    "            estimated = np.abs(estimated)\n",
    "\n",
    "            number = min(10000, len(ground_truth))\n",
    "            estimated, index = torch.topk(torch.tensor(estimated), number)\n",
    "\n",
    "            grn_auroc.append(roc_auc_score(ground_truth[index], estimated))\n",
    "\n",
    "    grn_correlation.append(np.mean(grn_auroc))\n",
    "    cnt = cnt + 1"
   ]
  },
  {
   "cell_type": "markdown",
   "id": "79374d9f-fbfb-4d30-b87f-e8cf47b6b45b",
   "metadata": {},
   "source": [
    "## Data saving"
   ]
  },
  {
   "cell_type": "code",
   "execution_count": 8,
   "id": "331e24b3-2f09-47a9-9183-97aa85157281",
   "metadata": {},
   "outputs": [],
   "source": [
    "if SAVE_DATA:\n",
    "    pd.DataFrame({\"grn\": grn_correlation}).to_parquet(\n",
    "        path=DATA_DIR / DATASET / COMPLEXITY / \"results\" / \"correlation_correlation.parquet\"\n",
    "    )"
   ]
  }
 ],
 "metadata": {
  "kernelspec": {
   "display_name": "regvelo-py310",
   "language": "python",
   "name": "regvelo-py310"
  },
  "language_info": {
   "codemirror_mode": {
    "name": "ipython",
    "version": 3
   },
   "file_extension": ".py",
   "mimetype": "text/x-python",
   "name": "python",
   "nbconvert_exporter": "python",
   "pygments_lexer": "ipython3",
   "version": "3.10.16"
  }
 },
 "nbformat": 4,
 "nbformat_minor": 5
}
