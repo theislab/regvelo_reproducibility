{
 "cells": [
  {
   "cell_type": "markdown",
   "id": "e9f3914d-c4b8-41c5-9032-2a868e75faba",
   "metadata": {},
   "source": [
    "# CellOracle benchmark on dyngen data\n",
    "\n",
    "Notebook benchmarks GRN inference using CellOracle on dyngen-generated data."
   ]
  },
  {
   "cell_type": "markdown",
   "id": "9cdd9391-d4db-4804-ab06-9af630a12ee9",
   "metadata": {},
   "source": [
    "## Library imports"
   ]
  },
  {
   "cell_type": "code",
   "execution_count": 1,
   "id": "e777ec5d-3ad4-423a-b13f-9d325c4c5163",
   "metadata": {},
   "outputs": [],
   "source": [
    "import numpy as np\n",
    "import pandas as pd\n",
    "import torch\n",
    "from sklearn.metrics import roc_auc_score\n",
    "\n",
    "import anndata as ad\n",
    "import celloracle as co\n",
    "import scvi\n",
    "\n",
    "from rgv_tools import DATA_DIR"
   ]
  },
  {
   "cell_type": "markdown",
   "id": "de693406-9084-49e0-9e74-d54ce06a0ce7",
   "metadata": {},
   "source": [
    "## General settings"
   ]
  },
  {
   "cell_type": "code",
   "execution_count": 2,
   "id": "f511857f-049f-4b84-b2bc-b394ed910d56",
   "metadata": {},
   "outputs": [
    {
     "name": "stderr",
     "output_type": "stream",
     "text": [
      "INFO: [rank: 0] Seed set to 0\n",
      "2025-04-28 22:17:36,979 - INFO - [rank: 0] Seed set to 0\n"
     ]
    }
   ],
   "source": [
    "scvi.settings.seed = 0"
   ]
  },
  {
   "cell_type": "markdown",
   "id": "2263b37a-8f11-4890-85bc-6cd8d1583947",
   "metadata": {},
   "source": [
    "## Constants"
   ]
  },
  {
   "cell_type": "code",
   "execution_count": 3,
   "id": "4791aca9-944a-47db-961f-af21c3a9920a",
   "metadata": {},
   "outputs": [],
   "source": [
    "DATASET = \"dyngen\""
   ]
  },
  {
   "cell_type": "code",
   "execution_count": 4,
   "id": "12084472-673f-43bf-936b-eee75bbcb449",
   "metadata": {},
   "outputs": [],
   "source": [
    "COMPLEXITY = \"complexity_1\""
   ]
  },
  {
   "cell_type": "code",
   "execution_count": 5,
   "id": "01215b8a-5075-4c4d-92fa-f0eea444435d",
   "metadata": {},
   "outputs": [],
   "source": [
    "SAVE_DATA = True\n",
    "if SAVE_DATA:\n",
    "    (DATA_DIR / DATASET / COMPLEXITY / \"results\").mkdir(parents=True, exist_ok=True)"
   ]
  },
  {
   "cell_type": "markdown",
   "id": "d3e20835-336e-4cef-b76b-50ee1afe646a",
   "metadata": {},
   "source": [
    "## Velocity pipeline"
   ]
  },
  {
   "cell_type": "code",
   "execution_count": 6,
   "id": "70bbc19f-0705-4149-8dbe-431e12ba77b7",
   "metadata": {
    "tags": []
   },
   "outputs": [
    {
     "name": "stdout",
     "output_type": "stream",
     "text": [
      "Run 0, dataset 29.\n",
      "Run 1, dataset 14.\n",
      "Run 2, dataset 24.\n",
      "Run 3, dataset 28.\n",
      "Run 4, dataset 6.\n",
      "Run 5, dataset 21.\n",
      "Run 6, dataset 15.\n",
      "Run 7, dataset 9.\n",
      "Skipping cell due to single-class ground truth\n",
      "Skipping cell due to single-class ground truth\n",
      "Skipping cell due to single-class ground truth\n",
      "Skipping cell due to single-class ground truth\n",
      "Skipping cell due to single-class ground truth\n",
      "Skipping cell due to single-class ground truth\n",
      "Skipping cell due to single-class ground truth\n",
      "Skipping cell due to single-class ground truth\n",
      "Skipping cell due to single-class ground truth\n",
      "Skipping cell due to single-class ground truth\n",
      "Skipping cell due to single-class ground truth\n",
      "Skipping cell due to single-class ground truth\n",
      "Skipping cell due to single-class ground truth\n",
      "Skipping cell due to single-class ground truth\n",
      "Skipping cell due to single-class ground truth\n",
      "Skipping cell due to single-class ground truth\n",
      "Skipping cell due to single-class ground truth\n",
      "Skipping cell due to single-class ground truth\n",
      "Skipping cell due to single-class ground truth\n",
      "Skipping cell due to single-class ground truth\n",
      "Skipping cell due to single-class ground truth\n",
      "Skipping cell due to single-class ground truth\n",
      "Skipping cell due to single-class ground truth\n",
      "Skipping cell due to single-class ground truth\n",
      "Skipping cell due to single-class ground truth\n",
      "Skipping cell due to single-class ground truth\n",
      "Skipping cell due to single-class ground truth\n",
      "Skipping cell due to single-class ground truth\n",
      "Skipping cell due to single-class ground truth\n",
      "Skipping cell due to single-class ground truth\n",
      "Skipping cell due to single-class ground truth\n",
      "Skipping cell due to single-class ground truth\n",
      "Skipping cell due to single-class ground truth\n",
      "Skipping cell due to single-class ground truth\n",
      "Skipping cell due to single-class ground truth\n",
      "Skipping cell due to single-class ground truth\n",
      "Skipping cell due to single-class ground truth\n",
      "Skipping cell due to single-class ground truth\n",
      "Skipping cell due to single-class ground truth\n",
      "Skipping cell due to single-class ground truth\n",
      "Skipping cell due to single-class ground truth\n",
      "Skipping cell due to single-class ground truth\n",
      "Skipping cell due to single-class ground truth\n",
      "Skipping cell due to single-class ground truth\n",
      "Skipping cell due to single-class ground truth\n",
      "Skipping cell due to single-class ground truth\n",
      "Skipping cell due to single-class ground truth\n",
      "Skipping cell due to single-class ground truth\n",
      "Skipping cell due to single-class ground truth\n",
      "Skipping cell due to single-class ground truth\n",
      "Skipping cell due to single-class ground truth\n",
      "Skipping cell due to single-class ground truth\n",
      "Skipping cell due to single-class ground truth\n",
      "Skipping cell due to single-class ground truth\n",
      "Skipping cell due to single-class ground truth\n",
      "Skipping cell due to single-class ground truth\n",
      "Skipping cell due to single-class ground truth\n",
      "Skipping cell due to single-class ground truth\n",
      "Skipping cell due to single-class ground truth\n",
      "Skipping cell due to single-class ground truth\n",
      "Skipping cell due to single-class ground truth\n",
      "Skipping cell due to single-class ground truth\n",
      "Skipping cell due to single-class ground truth\n",
      "Skipping cell due to single-class ground truth\n",
      "Skipping cell due to single-class ground truth\n",
      "Skipping cell due to single-class ground truth\n",
      "Skipping cell due to single-class ground truth\n",
      "Skipping cell due to single-class ground truth\n",
      "Skipping cell due to single-class ground truth\n",
      "Skipping cell due to single-class ground truth\n",
      "Skipping cell due to single-class ground truth\n",
      "Skipping cell due to single-class ground truth\n",
      "Skipping cell due to single-class ground truth\n",
      "Skipping cell due to single-class ground truth\n",
      "Skipping cell due to single-class ground truth\n",
      "Skipping cell due to single-class ground truth\n",
      "Skipping cell due to single-class ground truth\n",
      "Skipping cell due to single-class ground truth\n",
      "Skipping cell due to single-class ground truth\n",
      "Skipping cell due to single-class ground truth\n",
      "Skipping cell due to single-class ground truth\n",
      "Skipping cell due to single-class ground truth\n",
      "Skipping cell due to single-class ground truth\n",
      "Skipping cell due to single-class ground truth\n",
      "Skipping cell due to single-class ground truth\n",
      "Skipping cell due to single-class ground truth\n",
      "Skipping cell due to single-class ground truth\n",
      "Skipping cell due to single-class ground truth\n",
      "Skipping cell due to single-class ground truth\n",
      "Skipping cell due to single-class ground truth\n",
      "Skipping cell due to single-class ground truth\n",
      "Skipping cell due to single-class ground truth\n",
      "Skipping cell due to single-class ground truth\n",
      "Skipping cell due to single-class ground truth\n",
      "Skipping cell due to single-class ground truth\n",
      "Skipping cell due to single-class ground truth\n",
      "Skipping cell due to single-class ground truth\n",
      "Skipping cell due to single-class ground truth\n",
      "Skipping cell due to single-class ground truth\n",
      "Skipping cell due to single-class ground truth\n",
      "Skipping cell due to single-class ground truth\n",
      "Skipping cell due to single-class ground truth\n",
      "Skipping cell due to single-class ground truth\n",
      "Skipping cell due to single-class ground truth\n",
      "Skipping cell due to single-class ground truth\n",
      "Skipping cell due to single-class ground truth\n",
      "Skipping cell due to single-class ground truth\n",
      "Skipping cell due to single-class ground truth\n",
      "Skipping cell due to single-class ground truth\n",
      "Skipping cell due to single-class ground truth\n",
      "Skipping cell due to single-class ground truth\n",
      "Skipping cell due to single-class ground truth\n",
      "Skipping cell due to single-class ground truth\n",
      "Skipping cell due to single-class ground truth\n",
      "Skipping cell due to single-class ground truth\n",
      "Skipping cell due to single-class ground truth\n",
      "Skipping cell due to single-class ground truth\n",
      "Skipping cell due to single-class ground truth\n",
      "Skipping cell due to single-class ground truth\n",
      "Skipping cell due to single-class ground truth\n",
      "Skipping cell due to single-class ground truth\n",
      "Skipping cell due to single-class ground truth\n",
      "Skipping cell due to single-class ground truth\n",
      "Skipping cell due to single-class ground truth\n",
      "Skipping cell due to single-class ground truth\n",
      "Skipping cell due to single-class ground truth\n",
      "Skipping cell due to single-class ground truth\n",
      "Skipping cell due to single-class ground truth\n",
      "Skipping cell due to single-class ground truth\n",
      "Skipping cell due to single-class ground truth\n",
      "Skipping cell due to single-class ground truth\n",
      "Skipping cell due to single-class ground truth\n",
      "Skipping cell due to single-class ground truth\n",
      "Skipping cell due to single-class ground truth\n",
      "Skipping cell due to single-class ground truth\n",
      "Skipping cell due to single-class ground truth\n",
      "Skipping cell due to single-class ground truth\n",
      "Skipping cell due to single-class ground truth\n",
      "Skipping cell due to single-class ground truth\n",
      "Skipping cell due to single-class ground truth\n",
      "Skipping cell due to single-class ground truth\n",
      "Skipping cell due to single-class ground truth\n",
      "Skipping cell due to single-class ground truth\n",
      "Skipping cell due to single-class ground truth\n",
      "Skipping cell due to single-class ground truth\n",
      "Skipping cell due to single-class ground truth\n",
      "Skipping cell due to single-class ground truth\n",
      "Skipping cell due to single-class ground truth\n",
      "Skipping cell due to single-class ground truth\n",
      "Skipping cell due to single-class ground truth\n",
      "Skipping cell due to single-class ground truth\n",
      "Skipping cell due to single-class ground truth\n",
      "Skipping cell due to single-class ground truth\n",
      "Skipping cell due to single-class ground truth\n",
      "Skipping cell due to single-class ground truth\n",
      "Skipping cell due to single-class ground truth\n",
      "Skipping cell due to single-class ground truth\n",
      "Skipping cell due to single-class ground truth\n",
      "Skipping cell due to single-class ground truth\n",
      "Skipping cell due to single-class ground truth\n",
      "Skipping cell due to single-class ground truth\n",
      "Skipping cell due to single-class ground truth\n",
      "Skipping cell due to single-class ground truth\n",
      "Skipping cell due to single-class ground truth\n",
      "Skipping cell due to single-class ground truth\n",
      "Skipping cell due to single-class ground truth\n",
      "Skipping cell due to single-class ground truth\n",
      "Skipping cell due to single-class ground truth\n",
      "Skipping cell due to single-class ground truth\n",
      "Skipping cell due to single-class ground truth\n",
      "Skipping cell due to single-class ground truth\n",
      "Skipping cell due to single-class ground truth\n",
      "Skipping cell due to single-class ground truth\n",
      "Skipping cell due to single-class ground truth\n",
      "Skipping cell due to single-class ground truth\n",
      "Skipping cell due to single-class ground truth\n",
      "Skipping cell due to single-class ground truth\n",
      "Skipping cell due to single-class ground truth\n",
      "Skipping cell due to single-class ground truth\n",
      "Skipping cell due to single-class ground truth\n",
      "Skipping cell due to single-class ground truth\n",
      "Skipping cell due to single-class ground truth\n",
      "Skipping cell due to single-class ground truth\n",
      "Skipping cell due to single-class ground truth\n",
      "Skipping cell due to single-class ground truth\n",
      "Skipping cell due to single-class ground truth\n",
      "Skipping cell due to single-class ground truth\n",
      "Skipping cell due to single-class ground truth\n",
      "Skipping cell due to single-class ground truth\n",
      "Skipping cell due to single-class ground truth\n",
      "Skipping cell due to single-class ground truth\n",
      "Skipping cell due to single-class ground truth\n",
      "Skipping cell due to single-class ground truth\n",
      "Skipping cell due to single-class ground truth\n",
      "Skipping cell due to single-class ground truth\n",
      "Skipping cell due to single-class ground truth\n",
      "Skipping cell due to single-class ground truth\n",
      "Skipping cell due to single-class ground truth\n",
      "Skipping cell due to single-class ground truth\n",
      "Skipping cell due to single-class ground truth\n",
      "Skipping cell due to single-class ground truth\n",
      "Skipping cell due to single-class ground truth\n",
      "Skipping cell due to single-class ground truth\n",
      "Skipping cell due to single-class ground truth\n",
      "Skipping cell due to single-class ground truth\n",
      "Skipping cell due to single-class ground truth\n",
      "Skipping cell due to single-class ground truth\n",
      "Skipping cell due to single-class ground truth\n",
      "Skipping cell due to single-class ground truth\n",
      "Skipping cell due to single-class ground truth\n",
      "Skipping cell due to single-class ground truth\n",
      "Skipping cell due to single-class ground truth\n",
      "Skipping cell due to single-class ground truth\n",
      "Skipping cell due to single-class ground truth\n",
      "Skipping cell due to single-class ground truth\n",
      "Skipping cell due to single-class ground truth\n",
      "Skipping cell due to single-class ground truth\n",
      "Skipping cell due to single-class ground truth\n",
      "Skipping cell due to single-class ground truth\n",
      "Skipping cell due to single-class ground truth\n",
      "Skipping cell due to single-class ground truth\n",
      "Skipping cell due to single-class ground truth\n",
      "Skipping cell due to single-class ground truth\n",
      "Skipping cell due to single-class ground truth\n",
      "Skipping cell due to single-class ground truth\n",
      "Skipping cell due to single-class ground truth\n",
      "Skipping cell due to single-class ground truth\n",
      "Skipping cell due to single-class ground truth\n",
      "Skipping cell due to single-class ground truth\n",
      "Skipping cell due to single-class ground truth\n",
      "Skipping cell due to single-class ground truth\n",
      "Skipping cell due to single-class ground truth\n",
      "Skipping cell due to single-class ground truth\n",
      "Skipping cell due to single-class ground truth\n",
      "Skipping cell due to single-class ground truth\n",
      "Skipping cell due to single-class ground truth\n",
      "Skipping cell due to single-class ground truth\n",
      "Skipping cell due to single-class ground truth\n",
      "Skipping cell due to single-class ground truth\n",
      "Skipping cell due to single-class ground truth\n",
      "Skipping cell due to single-class ground truth\n",
      "Skipping cell due to single-class ground truth\n",
      "Skipping cell due to single-class ground truth\n",
      "Skipping cell due to single-class ground truth\n",
      "Skipping cell due to single-class ground truth\n",
      "Skipping cell due to single-class ground truth\n",
      "Skipping cell due to single-class ground truth\n",
      "Skipping cell due to single-class ground truth\n",
      "Skipping cell due to single-class ground truth\n",
      "Skipping cell due to single-class ground truth\n",
      "Skipping cell due to single-class ground truth\n",
      "Skipping cell due to single-class ground truth\n",
      "Skipping cell due to single-class ground truth\n",
      "Run 8, dataset 12.\n",
      "Run 9, dataset 19.\n",
      "Run 10, dataset 4.\n",
      "Run 11, dataset 13.\n",
      "Run 12, dataset 2.\n",
      "Run 13, dataset 16.\n",
      "Run 14, dataset 1.\n",
      "Run 15, dataset 18.\n",
      "Run 16, dataset 5.\n",
      "Run 17, dataset 10.\n",
      "Run 18, dataset 8.\n",
      "Run 19, dataset 11.\n",
      "Run 20, dataset 27.\n",
      "Run 21, dataset 23.\n",
      "Run 22, dataset 17.\n",
      "Run 23, dataset 30.\n",
      "Run 24, dataset 22.\n",
      "Run 25, dataset 25.\n",
      "Run 26, dataset 20.\n",
      "Run 27, dataset 7.\n",
      "Run 28, dataset 3.\n",
      "Skipping cell due to single-class ground truth\n",
      "Skipping cell due to single-class ground truth\n",
      "Skipping cell due to single-class ground truth\n",
      "Skipping cell due to single-class ground truth\n",
      "Skipping cell due to single-class ground truth\n",
      "Skipping cell due to single-class ground truth\n",
      "Skipping cell due to single-class ground truth\n",
      "Skipping cell due to single-class ground truth\n",
      "Skipping cell due to single-class ground truth\n",
      "Skipping cell due to single-class ground truth\n",
      "Skipping cell due to single-class ground truth\n",
      "Skipping cell due to single-class ground truth\n",
      "Skipping cell due to single-class ground truth\n",
      "Skipping cell due to single-class ground truth\n",
      "Skipping cell due to single-class ground truth\n",
      "Skipping cell due to single-class ground truth\n",
      "Skipping cell due to single-class ground truth\n",
      "Skipping cell due to single-class ground truth\n",
      "Skipping cell due to single-class ground truth\n",
      "Skipping cell due to single-class ground truth\n",
      "Skipping cell due to single-class ground truth\n",
      "Skipping cell due to single-class ground truth\n",
      "Skipping cell due to single-class ground truth\n",
      "Skipping cell due to single-class ground truth\n",
      "Skipping cell due to single-class ground truth\n",
      "Skipping cell due to single-class ground truth\n",
      "Skipping cell due to single-class ground truth\n",
      "Skipping cell due to single-class ground truth\n",
      "Skipping cell due to single-class ground truth\n",
      "Skipping cell due to single-class ground truth\n",
      "Skipping cell due to single-class ground truth\n",
      "Skipping cell due to single-class ground truth\n",
      "Skipping cell due to single-class ground truth\n",
      "Skipping cell due to single-class ground truth\n",
      "Skipping cell due to single-class ground truth\n",
      "Skipping cell due to single-class ground truth\n",
      "Skipping cell due to single-class ground truth\n",
      "Skipping cell due to single-class ground truth\n",
      "Skipping cell due to single-class ground truth\n",
      "Skipping cell due to single-class ground truth\n",
      "Skipping cell due to single-class ground truth\n",
      "Skipping cell due to single-class ground truth\n",
      "Skipping cell due to single-class ground truth\n",
      "Skipping cell due to single-class ground truth\n",
      "Run 29, dataset 26.\n"
     ]
    }
   ],
   "source": [
    "grn_correlation = []\n",
    "\n",
    "cnt = 0\n",
    "for filename in (DATA_DIR / DATASET / COMPLEXITY / \"processed\").iterdir():\n",
    "    torch.cuda.empty_cache()\n",
    "    if filename.suffix != \".zarr\":\n",
    "        continue\n",
    "\n",
    "    simulation_id = int(filename.stem.removeprefix(\"simulation_\"))\n",
    "    print(f\"Run {cnt}, dataset {simulation_id}.\")\n",
    "    adata = ad.io.read_zarr(filename)\n",
    "\n",
    "    TF = adata.var_names[adata.var[\"is_tf\"]]\n",
    "    TF_ind = [adata.var_names.get_loc(tf) for tf in TF]\n",
    "\n",
    "    grn_true = adata.uns[\"true_skeleton\"][:, TF_ind]\n",
    "    grn_sc_true = adata.uns[\"true_sc_grn\"][:, TF_ind]\n",
    "\n",
    "    base_grn = np.ones((len(TF), adata.n_vars))\n",
    "    base_grn = pd.DataFrame(base_grn, index = TF,columns=adata.var_names)\n",
    "    base_grn[\"peak_id\"] = [\"peak_\" + i for i in TF]\n",
    "    base_grn[\"gene_short_name\"] = TF\n",
    "    base_grn = base_grn[[\"peak_id\", \"gene_short_name\"] + adata.var_names.to_list()]\n",
    "\n",
    "    net = co.Net(gene_expression_matrix=adata.to_df(layer=\"Ms\"), TFinfo_matrix=base_grn, verbose=False)\n",
    "    net.fit_All_genes(bagging_number=100, alpha=1, verbose=False)\n",
    "    net.updateLinkList(verbose=False)\n",
    "\n",
    "    grn_estimate = pd.pivot(net.linkList[[\"source\", \"target\", \"coef_mean\"]], index=\"target\", columns=\"source\")\n",
    "    grn_estimate = grn_estimate.fillna(0).values\n",
    "\n",
    "    grn_auroc = []\n",
    "    for cell_id in range(adata.n_obs):\n",
    "        ground_truth = grn_sc_true[:, :, cell_id]\n",
    "\n",
    "        if ground_truth.sum() > 0:\n",
    "            ground_truth = ground_truth.T[np.array(grn_true.T) == 1]\n",
    "            ground_truth[ground_truth != 0] = 1\n",
    "\n",
    "            estimated = grn_estimate[np.array(grn_true.T) == 1]\n",
    "            estimated = np.abs(estimated)\n",
    "\n",
    "            number = min(10000, len(ground_truth))\n",
    "\n",
    "            estimated, index = torch.topk(torch.tensor(estimated), number)\n",
    "            \n",
    "            if len(np.unique(ground_truth[index])) < 2:\n",
    "                print(\"Skipping cell due to single-class ground truth\")\n",
    "                grn_auroc.append(np.nan)\n",
    "            else:\n",
    "                grn_auroc.append(roc_auc_score(ground_truth[index], estimated))\n",
    "\n",
    "    grn_correlation.append(np.mean(grn_auroc))\n",
    "    cnt += 1"
   ]
  },
  {
   "cell_type": "code",
   "execution_count": 7,
   "id": "55769df1-3b41-4ab9-b062-8b93bac586d6",
   "metadata": {},
   "outputs": [
    {
     "data": {
      "text/plain": [
       "(494, 37)"
      ]
     },
     "execution_count": 7,
     "metadata": {},
     "output_type": "execute_result"
    }
   ],
   "source": [
    "grn_sc_true[:,:,1].shape"
   ]
  },
  {
   "cell_type": "code",
   "execution_count": 8,
   "id": "a2bb1c84-5c58-49c1-a092-71f0c5540243",
   "metadata": {},
   "outputs": [
    {
     "data": {
      "text/plain": [
       "(494, 37)"
      ]
     },
     "execution_count": 8,
     "metadata": {},
     "output_type": "execute_result"
    }
   ],
   "source": [
    "ground_truth.shape"
   ]
  },
  {
   "cell_type": "code",
   "execution_count": 9,
   "id": "e398acfc-8093-4d44-ae41-9f1abad31cc6",
   "metadata": {},
   "outputs": [
    {
     "data": {
      "text/plain": [
       "(494, 37)"
      ]
     },
     "execution_count": 9,
     "metadata": {},
     "output_type": "execute_result"
    }
   ],
   "source": [
    "grn_true.shape"
   ]
  },
  {
   "cell_type": "code",
   "execution_count": 10,
   "id": "e05da88a-097f-477b-9c23-c8b51e0568e0",
   "metadata": {},
   "outputs": [
    {
     "data": {
      "text/plain": [
       "array([[0., 0., 0., ..., 0., 0., 0.],\n",
       "       [0., 0., 0., ..., 0., 0., 0.],\n",
       "       [0., 0., 0., ..., 0., 0., 0.],\n",
       "       ...,\n",
       "       [0., 0., 0., ..., 0., 0., 0.],\n",
       "       [0., 0., 0., ..., 0., 0., 0.],\n",
       "       [0., 0., 0., ..., 0., 0., 0.]])"
      ]
     },
     "execution_count": 10,
     "metadata": {},
     "output_type": "execute_result"
    }
   ],
   "source": [
    "ground_truth"
   ]
  },
  {
   "cell_type": "code",
   "execution_count": 11,
   "id": "92114e88-a707-413b-9e42-a76d97eda914",
   "metadata": {},
   "outputs": [
    {
     "data": {
      "text/plain": [
       "tensor([0.0475, 0.0389, 0.0381, 0.0322, 0.0313, 0.0265, 0.0262, 0.0218, 0.0216,\n",
       "        0.0209, 0.0188, 0.0182, 0.0174, 0.0169, 0.0163, 0.0160, 0.0158, 0.0150,\n",
       "        0.0147, 0.0142, 0.0137, 0.0137, 0.0131, 0.0128, 0.0125, 0.0114, 0.0103,\n",
       "        0.0096, 0.0094, 0.0094, 0.0090, 0.0086, 0.0085, 0.0083, 0.0081, 0.0072,\n",
       "        0.0069, 0.0069, 0.0068, 0.0067, 0.0066, 0.0066, 0.0065, 0.0064, 0.0064,\n",
       "        0.0063, 0.0062, 0.0062, 0.0059, 0.0056, 0.0054, 0.0052, 0.0051, 0.0048,\n",
       "        0.0047, 0.0046, 0.0045, 0.0043, 0.0043, 0.0043, 0.0043, 0.0042, 0.0034,\n",
       "        0.0029, 0.0029, 0.0028, 0.0025, 0.0022, 0.0018, 0.0012, 0.0009, 0.0007,\n",
       "        0.0007, 0.0004, 0.0003, 0.0000, 0.0000])"
      ]
     },
     "execution_count": 11,
     "metadata": {},
     "output_type": "execute_result"
    }
   ],
   "source": [
    "estimated"
   ]
  },
  {
   "cell_type": "code",
   "execution_count": 12,
   "id": "66a83021-f8e1-4b08-a8c8-0bfe58ec771a",
   "metadata": {},
   "outputs": [
    {
     "data": {
      "text/plain": [
       "array([[0., 0., 0., ..., 0., 0., 0.],\n",
       "       [0., 0., 0., ..., 0., 0., 0.],\n",
       "       [0., 0., 0., ..., 0., 0., 0.],\n",
       "       ...,\n",
       "       [0., 0., 0., ..., 0., 0., 0.],\n",
       "       [0., 0., 0., ..., 0., 0., 0.],\n",
       "       [0., 0., 0., ..., 0., 0., 0.]])"
      ]
     },
     "execution_count": 12,
     "metadata": {},
     "output_type": "execute_result"
    }
   ],
   "source": [
    "ground_truth[index]"
   ]
  },
  {
   "cell_type": "markdown",
   "id": "1ea2e3e6-fd73-466f-8722-c986904756aa",
   "metadata": {},
   "source": [
    "## Data saving"
   ]
  },
  {
   "cell_type": "code",
   "execution_count": 14,
   "id": "74e23bb4-7aed-442a-bb90-9d4d42cb28fa",
   "metadata": {},
   "outputs": [],
   "source": [
    "if SAVE_DATA:\n",
    "    pd.DataFrame({\"grn\": grn_correlation}).to_parquet(\n",
    "        path=DATA_DIR / DATASET / COMPLEXITY / \"results\" / \"celloracle_correlation.parquet\"\n",
    "    )"
   ]
  },
  {
   "cell_type": "code",
   "execution_count": null,
   "id": "ebd30ad2-57a0-440f-8f10-c1850575dd57",
   "metadata": {},
   "outputs": [],
   "source": []
  }
 ],
 "metadata": {
  "kernelspec": {
   "display_name": "regvelo-py310",
   "language": "python",
   "name": "regvelo-py310"
  },
  "language_info": {
   "codemirror_mode": {
    "name": "ipython",
    "version": 3
   },
   "file_extension": ".py",
   "mimetype": "text/x-python",
   "name": "python",
   "nbconvert_exporter": "python",
   "pygments_lexer": "ipython3",
   "version": "3.10.16"
  }
 },
 "nbformat": 4,
 "nbformat_minor": 5
}
