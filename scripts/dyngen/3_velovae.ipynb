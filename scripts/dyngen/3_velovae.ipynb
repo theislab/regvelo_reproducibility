{
 "cells": [
  {
   "cell_type": "markdown",
   "id": "0a1042cd",
   "metadata": {},
   "source": [
    "# VeloVAE benchmark on dyngen data\n",
    "\n",
    "Notebook benchmarks velocity and latent time inference using VeloVAE on dyngen-generated data."
   ]
  },
  {
   "cell_type": "markdown",
   "id": "a486fec1",
   "metadata": {},
   "source": [
    "## Library imports"
   ]
  },
  {
   "cell_type": "code",
   "execution_count": 1,
   "id": "fd119f55-1837-43ca-8368-e12c55652f2b",
   "metadata": {},
   "outputs": [
    {
     "name": "stderr",
     "output_type": "stream",
     "text": [
      "/home/icb/yifan.chen/miniconda3/envs/regvelo-py310-velovae/lib/python3.10/site-packages/velovae/model/model_util.py:12: TqdmExperimentalWarning: Using `tqdm.autonotebook.tqdm` in notebook mode. Use `tqdm.tqdm` instead to force console mode (e.g. in jupyter console)\n",
      "  from tqdm.autonotebook import trange\n"
     ]
    }
   ],
   "source": [
    "import velovae as vv\n",
    "\n",
    "import numpy as np\n",
    "import pandas as pd\n",
    "import torch\n",
    "\n",
    "import anndata as ad\n",
    "import scvelo as scv\n",
    "\n",
    "from rgv_tools import DATA_DIR\n",
    "from rgv_tools.benchmarking import get_velocity_correlation"
   ]
  },
  {
   "cell_type": "markdown",
   "id": "28749b2f-2a8b-43ec-a5f7-1a7b87aac913",
   "metadata": {},
   "source": [
    "## General settings"
   ]
  },
  {
   "cell_type": "code",
   "execution_count": 2,
   "id": "0d0ff0d0-e885-4d6d-8a8c-70b41d5b4ecc",
   "metadata": {},
   "outputs": [],
   "source": [
    "scv.settings.verbosity = 3"
   ]
  },
  {
   "cell_type": "markdown",
   "id": "e2670fad",
   "metadata": {},
   "source": [
    "## Constants"
   ]
  },
  {
   "cell_type": "code",
   "execution_count": 3,
   "id": "b01ecc10-c241-4272-89d3-6354eb587caa",
   "metadata": {},
   "outputs": [],
   "source": [
    "torch.manual_seed(0)\n",
    "np.random.seed(0)"
   ]
  },
  {
   "cell_type": "code",
   "execution_count": 4,
   "id": "4049808f",
   "metadata": {},
   "outputs": [],
   "source": [
    "DATASET = \"dyngen\""
   ]
  },
  {
   "cell_type": "code",
   "execution_count": 5,
   "id": "4b6c11f6-f622-45a4-957d-ab6eb1e747b8",
   "metadata": {},
   "outputs": [],
   "source": [
    "COMPLEXITY = \"complexity_1\""
   ]
  },
  {
   "cell_type": "code",
   "execution_count": 6,
   "id": "af9f4b90",
   "metadata": {},
   "outputs": [],
   "source": [
    "SAVE_DATA = True\n",
    "if SAVE_DATA:\n",
    "    (DATA_DIR / DATASET / COMPLEXITY / \"results\").mkdir(parents=True, exist_ok=True)\n",
    "    (DATA_DIR / DATASET / COMPLEXITY / \"processed\" / \"velovae_vae\").mkdir(parents=True, exist_ok=True)"
   ]
  },
  {
   "cell_type": "code",
   "execution_count": 7,
   "id": "d3c6c5a4-96dd-4141-a7e8-30997cafd02f",
   "metadata": {},
   "outputs": [],
   "source": [
    "SAVE_DATASETS = True\n",
    "if SAVE_DATASETS:\n",
    "    (DATA_DIR / DATASET / COMPLEXITY / \"trained_velovae\").mkdir(parents=True, exist_ok=True)"
   ]
  },
  {
   "cell_type": "markdown",
   "id": "8740e89e-90d2-4268-985d-65ce5f132eae",
   "metadata": {},
   "source": [
    "## Define functions"
   ]
  },
  {
   "cell_type": "markdown",
   "id": "a52d5add-d75b-4e84-8336-e9632460a818",
   "metadata": {},
   "source": [
    "## Velocity pipeline"
   ]
  },
  {
   "cell_type": "code",
   "execution_count": 8,
   "id": "ba75641e",
   "metadata": {
    "scrolled": true,
    "tags": []
   },
   "outputs": [
    {
     "name": "stdout",
     "output_type": "stream",
     "text": [
      "Run 0, file /ictstr01/groups/ml01/workspace/yifan.chen/regvelo_reproducibility/data/dyngen/complexity_1/processed/simulation_29.zarr.\n",
      "Estimating ODE parameters...\n"
     ]
    },
    {
     "data": {
      "application/json": {
       "ascii": false,
       "bar_format": null,
       "colour": null,
       "elapsed": 0.004763126373291016,
       "initial": 0,
       "n": 0,
       "ncols": null,
       "nrows": null,
       "postfix": null,
       "prefix": "",
       "rate": null,
       "total": 362,
       "unit": "it",
       "unit_divisor": 1000,
       "unit_scale": false
      },
      "application/vnd.jupyter.widget-view+json": {
       "model_id": "7cef6f26d7764240935c5be995eccce3",
       "version_major": 2,
       "version_minor": 0
      },
      "text/plain": [
       "  0%|          | 0/362 [00:00<?, ?it/s]"
      ]
     },
     "metadata": {},
     "output_type": "display_data"
    },
    {
     "name": "stdout",
     "output_type": "stream",
     "text": [
      "Detected 347 velocity genes.\n",
      "Estimating the variance...\n"
     ]
    },
    {
     "data": {
      "application/json": {
       "ascii": false,
       "bar_format": null,
       "colour": null,
       "elapsed": 0.002798795700073242,
       "initial": 0,
       "n": 0,
       "ncols": null,
       "nrows": null,
       "postfix": null,
       "prefix": "",
       "rate": null,
       "total": 362,
       "unit": "it",
       "unit_divisor": 1000,
       "unit_scale": false
      },
      "application/vnd.jupyter.widget-view+json": {
       "model_id": "9191856193ac4a529c130be6f719dfbd",
       "version_major": 2,
       "version_minor": 0
      },
      "text/plain": [
       "  0%|          | 0/362 [00:00<?, ?it/s]"
      ]
     },
     "metadata": {},
     "output_type": "display_data"
    },
    {
     "name": "stdout",
     "output_type": "stream",
     "text": [
      "Initialization using the steady-state and dynamical models.\n",
      "Reinitialize the regular ODE parameters based on estimated global latent time.\n"
     ]
    },
    {
     "data": {
      "application/json": {
       "ascii": false,
       "bar_format": null,
       "colour": null,
       "elapsed": 0.002830028533935547,
       "initial": 0,
       "n": 0,
       "ncols": null,
       "nrows": null,
       "postfix": null,
       "prefix": "",
       "rate": null,
       "total": 362,
       "unit": "it",
       "unit_divisor": 1000,
       "unit_scale": false
      },
      "application/vnd.jupyter.widget-view+json": {
       "model_id": "3a8d1f5b8b4b4a968a6876b6371385f4",
       "version_major": 2,
       "version_minor": 0
      },
      "text/plain": [
       "  0%|          | 0/362 [00:00<?, ?it/s]"
      ]
     },
     "metadata": {},
     "output_type": "display_data"
    },
    {
     "name": "stdout",
     "output_type": "stream",
     "text": [
      "3 clusters detected based on gene co-expression.\n",
      "KS-test result: [1. 1. 1.]\n",
      "Assign cluster 1 to repressive\n",
      "Initial induction: 245, repression: 117/362\n",
      "Learning Rate based on Data Sparsity: 0.0003\n",
      "--------------------------- Train a VeloVAE ---------------------------\n",
      "*********        Creating Training/Validation Datasets        *********\n",
      "*********                      Finished.                      *********\n",
      "*********                 Creating optimizers                 *********\n",
      "*********                      Finished.                      *********\n",
      "*********                    Start training                   *********\n",
      "*********                      Stage  1                       *********\n",
      "Total Number of Iterations Per Epoch: 6, test iteration: 10\n",
      "*********                      Stage  2                       *********\n",
      "*********             Velocity Refinement Round 1             *********\n"
     ]
    },
    {
     "data": {
      "application/json": {
       "ascii": false,
       "bar_format": null,
       "colour": null,
       "elapsed": 0.004847288131713867,
       "initial": 0,
       "n": 0,
       "ncols": null,
       "nrows": null,
       "postfix": null,
       "prefix": "",
       "rate": null,
       "total": 1000,
       "unit": "it",
       "unit_divisor": 1000,
       "unit_scale": false
      },
      "application/vnd.jupyter.widget-view+json": {
       "model_id": "a4329f82ecef4b34a90b54ac26e3211a",
       "version_major": 2,
       "version_minor": 0
      },
      "text/plain": [
       "  0%|          | 0/1000 [00:00<?, ?it/s]"
      ]
     },
     "metadata": {},
     "output_type": "display_data"
    },
    {
     "name": "stdout",
     "output_type": "stream",
     "text": [
      "Percentage of Invalid Sets: 0.164\n",
      "Average Set Size: 19\n",
      "*********     Round 1: Early Stop Triggered at epoch 1191.    *********\n",
      "Change in noise variance: 0.0419\n",
      "*********             Velocity Refinement Round 2             *********\n",
      "*********     Round 2: Early Stop Triggered at epoch 1233.    *********\n",
      "Change in noise variance: 0.0041\n",
      "Change in x0: 0.1819\n",
      "*********             Velocity Refinement Round 3             *********\n",
      "*********     Round 3: Early Stop Triggered at epoch 1250.    *********\n",
      "Change in noise variance: 0.0002\n",
      "Change in x0: 0.1166\n",
      "*********             Velocity Refinement Round 4             *********\n",
      "*********     Round 4: Early Stop Triggered at epoch 1297.    *********\n",
      "Change in noise variance: 0.0000\n",
      "Change in x0: 0.0842\n",
      "*********             Velocity Refinement Round 5             *********\n",
      "*********     Round 5: Early Stop Triggered at epoch 1378.    *********\n",
      "Change in noise variance: 0.0000\n",
      "Change in x0: 0.0746\n",
      "*********             Velocity Refinement Round 6             *********\n",
      "Stage 2: Early Stop Triggered at round 5.\n",
      "*********              Finished. Total Time =   0 h :  1 m : 47 s             *********\n",
      "Final: Train ELBO = 654.883,\tTest ELBO = 673.499\n",
      "Run 1, file /ictstr01/groups/ml01/workspace/yifan.chen/regvelo_reproducibility/data/dyngen/complexity_1/processed/simulation_14.zarr.\n",
      "Estimating ODE parameters...\n"
     ]
    },
    {
     "data": {
      "application/json": {
       "ascii": false,
       "bar_format": null,
       "colour": null,
       "elapsed": 0.0033926963806152344,
       "initial": 0,
       "n": 0,
       "ncols": null,
       "nrows": null,
       "postfix": null,
       "prefix": "",
       "rate": null,
       "total": 664,
       "unit": "it",
       "unit_divisor": 1000,
       "unit_scale": false
      },
      "application/vnd.jupyter.widget-view+json": {
       "model_id": "9fe51d048a044456a438c1ef064e705b",
       "version_major": 2,
       "version_minor": 0
      },
      "text/plain": [
       "  0%|          | 0/664 [00:00<?, ?it/s]"
      ]
     },
     "metadata": {},
     "output_type": "display_data"
    },
    {
     "name": "stdout",
     "output_type": "stream",
     "text": [
      "Detected 594 velocity genes.\n",
      "Estimating the variance...\n"
     ]
    },
    {
     "data": {
      "application/json": {
       "ascii": false,
       "bar_format": null,
       "colour": null,
       "elapsed": 0.010347127914428711,
       "initial": 0,
       "n": 0,
       "ncols": null,
       "nrows": null,
       "postfix": null,
       "prefix": "",
       "rate": null,
       "total": 664,
       "unit": "it",
       "unit_divisor": 1000,
       "unit_scale": false
      },
      "application/vnd.jupyter.widget-view+json": {
       "model_id": "98725a2334ce456f97db95a8a4996f1e",
       "version_major": 2,
       "version_minor": 0
      },
      "text/plain": [
       "  0%|          | 0/664 [00:00<?, ?it/s]"
      ]
     },
     "metadata": {},
     "output_type": "display_data"
    },
    {
     "name": "stdout",
     "output_type": "stream",
     "text": [
      "Initialization using the steady-state and dynamical models.\n",
      "Reinitialize the regular ODE parameters based on estimated global latent time.\n"
     ]
    },
    {
     "data": {
      "application/json": {
       "ascii": false,
       "bar_format": null,
       "colour": null,
       "elapsed": 0.0030465126037597656,
       "initial": 0,
       "n": 0,
       "ncols": null,
       "nrows": null,
       "postfix": null,
       "prefix": "",
       "rate": null,
       "total": 664,
       "unit": "it",
       "unit_divisor": 1000,
       "unit_scale": false
      },
      "application/vnd.jupyter.widget-view+json": {
       "model_id": "52fef93b8c5b4bfb96d958239e5e6aa8",
       "version_major": 2,
       "version_minor": 0
      },
      "text/plain": [
       "  0%|          | 0/664 [00:00<?, ?it/s]"
      ]
     },
     "metadata": {},
     "output_type": "display_data"
    },
    {
     "name": "stdout",
     "output_type": "stream",
     "text": [
      "3 clusters detected based on gene co-expression.\n",
      "(0.48, 0.8228239539949498), (0.52, 0.3684353137855576)\n",
      "KS-test result: [0. 1. 1.]\n",
      "Initial induction: 484, repression: 180/664\n",
      "Learning Rate based on Data Sparsity: 0.0001\n",
      "--------------------------- Train a VeloVAE ---------------------------\n",
      "*********        Creating Training/Validation Datasets        *********\n",
      "*********                      Finished.                      *********\n",
      "*********                 Creating optimizers                 *********\n",
      "*********                      Finished.                      *********\n",
      "*********                    Start training                   *********\n",
      "*********                      Stage  1                       *********\n",
      "Total Number of Iterations Per Epoch: 6, test iteration: 10\n",
      "*********                      Stage  2                       *********\n",
      "*********             Velocity Refinement Round 1             *********\n"
     ]
    },
    {
     "data": {
      "application/json": {
       "ascii": false,
       "bar_format": null,
       "colour": null,
       "elapsed": 0.003153562545776367,
       "initial": 0,
       "n": 0,
       "ncols": null,
       "nrows": null,
       "postfix": null,
       "prefix": "",
       "rate": null,
       "total": 1000,
       "unit": "it",
       "unit_divisor": 1000,
       "unit_scale": false
      },
      "application/vnd.jupyter.widget-view+json": {
       "model_id": "be4389ff81864780aebb5e9d35a2d9e4",
       "version_major": 2,
       "version_minor": 0
      },
      "text/plain": [
       "  0%|          | 0/1000 [00:00<?, ?it/s]"
      ]
     },
     "metadata": {},
     "output_type": "display_data"
    },
    {
     "name": "stdout",
     "output_type": "stream",
     "text": [
      "Percentage of Invalid Sets: 0.135\n",
      "Average Set Size: 21\n",
      "Change in noise variance: 0.0454\n",
      "*********             Velocity Refinement Round 2             *********\n",
      "*********     Round 2: Early Stop Triggered at epoch 1666.    *********\n",
      "Change in noise variance: 0.0104\n",
      "Change in x0: 0.3318\n",
      "*********             Velocity Refinement Round 3             *********\n",
      "*********     Round 3: Early Stop Triggered at epoch 1695.    *********\n",
      "Change in noise variance: 0.0040\n",
      "Change in x0: 0.1521\n",
      "*********             Velocity Refinement Round 4             *********\n",
      "*********     Round 4: Early Stop Triggered at epoch 1781.    *********\n",
      "Change in noise variance: 0.0003\n",
      "Change in x0: 0.0980\n",
      "*********             Velocity Refinement Round 5             *********\n",
      "*********     Round 5: Early Stop Triggered at epoch 1823.    *********\n",
      "Change in noise variance: 0.0000\n",
      "Change in x0: 0.0849\n",
      "*********             Velocity Refinement Round 6             *********\n",
      "*********     Round 6: Early Stop Triggered at epoch 1830.    *********\n",
      "Change in noise variance: 0.0000\n",
      "Change in x0: 0.0753\n",
      "*********             Velocity Refinement Round 7             *********\n",
      "Stage 2: Early Stop Triggered at round 6.\n",
      "*********              Finished. Total Time =   0 h :  1 m : 59 s             *********\n",
      "Final: Train ELBO = 1142.203,\tTest ELBO = 1116.971\n",
      "Run 2, file /ictstr01/groups/ml01/workspace/yifan.chen/regvelo_reproducibility/data/dyngen/complexity_1/processed/simulation_24.zarr.\n",
      "Estimating ODE parameters...\n"
     ]
    },
    {
     "data": {
      "application/json": {
       "ascii": false,
       "bar_format": null,
       "colour": null,
       "elapsed": 0.011960029602050781,
       "initial": 0,
       "n": 0,
       "ncols": null,
       "nrows": null,
       "postfix": null,
       "prefix": "",
       "rate": null,
       "total": 726,
       "unit": "it",
       "unit_divisor": 1000,
       "unit_scale": false
      },
      "application/vnd.jupyter.widget-view+json": {
       "model_id": "6f200721b35c43c697eb3171a4b3aae3",
       "version_major": 2,
       "version_minor": 0
      },
      "text/plain": [
       "  0%|          | 0/726 [00:00<?, ?it/s]"
      ]
     },
     "metadata": {},
     "output_type": "display_data"
    },
    {
     "name": "stdout",
     "output_type": "stream",
     "text": [
      "Detected 461 velocity genes.\n",
      "Estimating the variance...\n"
     ]
    },
    {
     "data": {
      "application/json": {
       "ascii": false,
       "bar_format": null,
       "colour": null,
       "elapsed": 0.005057096481323242,
       "initial": 0,
       "n": 0,
       "ncols": null,
       "nrows": null,
       "postfix": null,
       "prefix": "",
       "rate": null,
       "total": 726,
       "unit": "it",
       "unit_divisor": 1000,
       "unit_scale": false
      },
      "application/vnd.jupyter.widget-view+json": {
       "model_id": "890afe527e8b4717adac10cba6a5c85c",
       "version_major": 2,
       "version_minor": 0
      },
      "text/plain": [
       "  0%|          | 0/726 [00:00<?, ?it/s]"
      ]
     },
     "metadata": {},
     "output_type": "display_data"
    },
    {
     "name": "stdout",
     "output_type": "stream",
     "text": [
      "Initialization using the steady-state and dynamical models.\n",
      "Reinitialize the regular ODE parameters based on estimated global latent time.\n"
     ]
    },
    {
     "data": {
      "application/json": {
       "ascii": false,
       "bar_format": null,
       "colour": null,
       "elapsed": 0.0028533935546875,
       "initial": 0,
       "n": 0,
       "ncols": null,
       "nrows": null,
       "postfix": null,
       "prefix": "",
       "rate": null,
       "total": 726,
       "unit": "it",
       "unit_divisor": 1000,
       "unit_scale": false
      },
      "application/vnd.jupyter.widget-view+json": {
       "model_id": "3282868e214f48aaada9c5e1b10dd213",
       "version_major": 2,
       "version_minor": 0
      },
      "text/plain": [
       "  0%|          | 0/726 [00:00<?, ?it/s]"
      ]
     },
     "metadata": {},
     "output_type": "display_data"
    },
    {
     "name": "stdout",
     "output_type": "stream",
     "text": [
      "3 clusters detected based on gene co-expression.\n",
      "(0.59, 0.7142859350405649), (0.41, 0.232624469824922)\n",
      "(0.52, 0.8547149661103973), (0.48, 0.31938394948827814)\n",
      "KS-test result: [0. 0. 1.]\n",
      "Initial induction: 431, repression: 295/726\n",
      "Learning Rate based on Data Sparsity: 0.0000\n",
      "--------------------------- Train a VeloVAE ---------------------------\n",
      "*********        Creating Training/Validation Datasets        *********\n",
      "*********                      Finished.                      *********\n",
      "*********                 Creating optimizers                 *********\n",
      "*********                      Finished.                      *********\n",
      "*********                    Start training                   *********\n",
      "*********                      Stage  1                       *********\n",
      "Total Number of Iterations Per Epoch: 6, test iteration: 10\n",
      "*********       Stage 1: Early Stop Triggered at epoch 11.       *********\n",
      "*********                      Stage  2                       *********\n",
      "*********             Velocity Refinement Round 1             *********\n"
     ]
    },
    {
     "data": {
      "application/json": {
       "ascii": false,
       "bar_format": null,
       "colour": null,
       "elapsed": 0.0031206607818603516,
       "initial": 0,
       "n": 0,
       "ncols": null,
       "nrows": null,
       "postfix": null,
       "prefix": "",
       "rate": null,
       "total": 1000,
       "unit": "it",
       "unit_divisor": 1000,
       "unit_scale": false
      },
      "application/vnd.jupyter.widget-view+json": {
       "model_id": "085eda73eddf44409f7533b6682858a4",
       "version_major": 2,
       "version_minor": 0
      },
      "text/plain": [
       "  0%|          | 0/1000 [00:00<?, ?it/s]"
      ]
     },
     "metadata": {},
     "output_type": "display_data"
    },
    {
     "name": "stdout",
     "output_type": "stream",
     "text": [
      "Percentage of Invalid Sets: 0.025\n",
      "Average Set Size: 21\n",
      "*********     Round 1: Early Stop Triggered at epoch 20.    *********\n",
      "Change in noise variance: 0.2642\n",
      "*********             Velocity Refinement Round 2             *********\n",
      "*********     Round 2: Early Stop Triggered at epoch 29.    *********\n",
      "Change in noise variance: 0.0016\n",
      "Change in x0: 0.6228\n",
      "*********             Velocity Refinement Round 3             *********\n",
      "*********     Round 3: Early Stop Triggered at epoch 38.    *********\n",
      "Change in noise variance: 0.0016\n",
      "Change in x0: 0.4855\n",
      "*********             Velocity Refinement Round 4             *********\n",
      "*********     Round 4: Early Stop Triggered at epoch 47.    *********\n",
      "Change in noise variance: 0.0026\n",
      "Change in x0: 0.4046\n",
      "*********             Velocity Refinement Round 5             *********\n",
      "*********     Round 5: Early Stop Triggered at epoch 56.    *********\n",
      "Change in noise variance: 0.0012\n",
      "Change in x0: 0.3558\n",
      "*********             Velocity Refinement Round 6             *********\n",
      "*********     Round 6: Early Stop Triggered at epoch 65.    *********\n",
      "Change in noise variance: 0.0011\n",
      "Change in x0: 0.3274\n",
      "*********             Velocity Refinement Round 7             *********\n",
      "*********     Round 7: Early Stop Triggered at epoch 72.    *********\n",
      "Change in noise variance: 0.0010\n",
      "Change in x0: 0.2973\n",
      "*********             Velocity Refinement Round 8             *********\n",
      "*********     Round 8: Early Stop Triggered at epoch 79.    *********\n",
      "Change in noise variance: 0.0003\n",
      "Change in x0: 0.2888\n",
      "*********             Velocity Refinement Round 9             *********\n",
      "Stage 2: Early Stop Triggered at round 8.\n",
      "*********              Finished. Total Time =   0 h :  0 m :  8 s             *********\n",
      "Final: Train ELBO = -31128.336,\tTest ELBO = -31582.387\n",
      "Run 3, file /ictstr01/groups/ml01/workspace/yifan.chen/regvelo_reproducibility/data/dyngen/complexity_1/processed/simulation_28.zarr.\n",
      "Estimating ODE parameters...\n"
     ]
    },
    {
     "data": {
      "application/json": {
       "ascii": false,
       "bar_format": null,
       "colour": null,
       "elapsed": 0.0031402111053466797,
       "initial": 0,
       "n": 0,
       "ncols": null,
       "nrows": null,
       "postfix": null,
       "prefix": "",
       "rate": null,
       "total": 564,
       "unit": "it",
       "unit_divisor": 1000,
       "unit_scale": false
      },
      "application/vnd.jupyter.widget-view+json": {
       "model_id": "f0fc3cc4c5334740a32c76b457ebe2c4",
       "version_major": 2,
       "version_minor": 0
      },
      "text/plain": [
       "  0%|          | 0/564 [00:00<?, ?it/s]"
      ]
     },
     "metadata": {},
     "output_type": "display_data"
    },
    {
     "name": "stdout",
     "output_type": "stream",
     "text": [
      "Detected 535 velocity genes.\n",
      "Estimating the variance...\n"
     ]
    },
    {
     "data": {
      "application/json": {
       "ascii": false,
       "bar_format": null,
       "colour": null,
       "elapsed": 0.0037653446197509766,
       "initial": 0,
       "n": 0,
       "ncols": null,
       "nrows": null,
       "postfix": null,
       "prefix": "",
       "rate": null,
       "total": 564,
       "unit": "it",
       "unit_divisor": 1000,
       "unit_scale": false
      },
      "application/vnd.jupyter.widget-view+json": {
       "model_id": "e41ae504cf05486e9575157a5d51fa8d",
       "version_major": 2,
       "version_minor": 0
      },
      "text/plain": [
       "  0%|          | 0/564 [00:00<?, ?it/s]"
      ]
     },
     "metadata": {},
     "output_type": "display_data"
    },
    {
     "name": "stdout",
     "output_type": "stream",
     "text": [
      "Initialization using the steady-state and dynamical models.\n",
      "Reinitialize the regular ODE parameters based on estimated global latent time.\n"
     ]
    },
    {
     "data": {
      "application/json": {
       "ascii": false,
       "bar_format": null,
       "colour": null,
       "elapsed": 0.002919912338256836,
       "initial": 0,
       "n": 0,
       "ncols": null,
       "nrows": null,
       "postfix": null,
       "prefix": "",
       "rate": null,
       "total": 564,
       "unit": "it",
       "unit_divisor": 1000,
       "unit_scale": false
      },
      "application/vnd.jupyter.widget-view+json": {
       "model_id": "7720bd81caf04efcade0d3e7ea616084",
       "version_major": 2,
       "version_minor": 0
      },
      "text/plain": [
       "  0%|          | 0/564 [00:00<?, ?it/s]"
      ]
     },
     "metadata": {},
     "output_type": "display_data"
    },
    {
     "name": "stdout",
     "output_type": "stream",
     "text": [
      "3 clusters detected based on gene co-expression.\n",
      "(0.39, 0.3808448852305928), (0.61, 0.852512757686449)\n",
      "(0.46, 0.3875805469813231), (0.54, 0.7668672821296293)\n",
      "KS-test result: [0. 0. 1.]\n",
      "Initial induction: 374, repression: 190/564\n",
      "Learning Rate based on Data Sparsity: 0.0002\n",
      "--------------------------- Train a VeloVAE ---------------------------\n",
      "*********        Creating Training/Validation Datasets        *********\n",
      "*********                      Finished.                      *********\n",
      "*********                 Creating optimizers                 *********\n",
      "*********                      Finished.                      *********\n",
      "*********                    Start training                   *********\n",
      "*********                      Stage  1                       *********\n",
      "Total Number of Iterations Per Epoch: 6, test iteration: 10\n",
      "*********                      Stage  2                       *********\n",
      "*********             Velocity Refinement Round 1             *********\n"
     ]
    },
    {
     "data": {
      "application/json": {
       "ascii": false,
       "bar_format": null,
       "colour": null,
       "elapsed": 0.00401616096496582,
       "initial": 0,
       "n": 0,
       "ncols": null,
       "nrows": null,
       "postfix": null,
       "prefix": "",
       "rate": null,
       "total": 1000,
       "unit": "it",
       "unit_divisor": 1000,
       "unit_scale": false
      },
      "application/vnd.jupyter.widget-view+json": {
       "model_id": "3fd2423e01c64646a56b810d07645477",
       "version_major": 2,
       "version_minor": 0
      },
      "text/plain": [
       "  0%|          | 0/1000 [00:00<?, ?it/s]"
      ]
     },
     "metadata": {},
     "output_type": "display_data"
    },
    {
     "name": "stdout",
     "output_type": "stream",
     "text": [
      "Percentage of Invalid Sets: 0.007\n",
      "Average Set Size: 23\n",
      "Change in noise variance: 0.0395\n",
      "*********             Velocity Refinement Round 2             *********\n",
      "*********     Round 2: Early Stop Triggered at epoch 1847.    *********\n",
      "Change in noise variance: 0.0096\n",
      "Change in x0: 0.2670\n",
      "*********             Velocity Refinement Round 3             *********\n",
      "*********     Round 3: Early Stop Triggered at epoch 2104.    *********\n",
      "Change in noise variance: 0.0036\n",
      "Change in x0: 0.1643\n",
      "*********             Velocity Refinement Round 4             *********\n",
      "*********     Round 4: Early Stop Triggered at epoch 2213.    *********\n",
      "Change in noise variance: 0.0018\n",
      "Change in x0: 0.1284\n",
      "*********             Velocity Refinement Round 5             *********\n",
      "*********     Round 5: Early Stop Triggered at epoch 2364.    *********\n",
      "Change in noise variance: 0.0004\n",
      "Change in x0: 0.0907\n",
      "*********             Velocity Refinement Round 6             *********\n",
      "*********     Round 6: Early Stop Triggered at epoch 2376.    *********\n",
      "Change in noise variance: 0.0000\n",
      "Change in x0: 0.0838\n",
      "*********             Velocity Refinement Round 7             *********\n",
      "Stage 2: Early Stop Triggered at round 6.\n",
      "*********              Finished. Total Time =   0 h :  2 m : 32 s             *********\n",
      "Final: Train ELBO = 1098.636,\tTest ELBO = 1062.302\n",
      "Run 4, file /ictstr01/groups/ml01/workspace/yifan.chen/regvelo_reproducibility/data/dyngen/complexity_1/processed/simulation_6.zarr.\n",
      "Estimating ODE parameters...\n"
     ]
    },
    {
     "data": {
      "application/json": {
       "ascii": false,
       "bar_format": null,
       "colour": null,
       "elapsed": 0.004393815994262695,
       "initial": 0,
       "n": 0,
       "ncols": null,
       "nrows": null,
       "postfix": null,
       "prefix": "",
       "rate": null,
       "total": 747,
       "unit": "it",
       "unit_divisor": 1000,
       "unit_scale": false
      },
      "application/vnd.jupyter.widget-view+json": {
       "model_id": "ded3172b525141cbb6f7b5994280de1f",
       "version_major": 2,
       "version_minor": 0
      },
      "text/plain": [
       "  0%|          | 0/747 [00:00<?, ?it/s]"
      ]
     },
     "metadata": {},
     "output_type": "display_data"
    },
    {
     "name": "stdout",
     "output_type": "stream",
     "text": [
      "Detected 537 velocity genes.\n",
      "Estimating the variance...\n"
     ]
    },
    {
     "data": {
      "application/json": {
       "ascii": false,
       "bar_format": null,
       "colour": null,
       "elapsed": 0.010455131530761719,
       "initial": 0,
       "n": 0,
       "ncols": null,
       "nrows": null,
       "postfix": null,
       "prefix": "",
       "rate": null,
       "total": 747,
       "unit": "it",
       "unit_divisor": 1000,
       "unit_scale": false
      },
      "application/vnd.jupyter.widget-view+json": {
       "model_id": "1b43b182c226496992e55ddc9dfb30f9",
       "version_major": 2,
       "version_minor": 0
      },
      "text/plain": [
       "  0%|          | 0/747 [00:00<?, ?it/s]"
      ]
     },
     "metadata": {},
     "output_type": "display_data"
    },
    {
     "name": "stdout",
     "output_type": "stream",
     "text": [
      "Initialization using the steady-state and dynamical models.\n",
      "Reinitialize the regular ODE parameters based on estimated global latent time.\n"
     ]
    },
    {
     "data": {
      "application/json": {
       "ascii": false,
       "bar_format": null,
       "colour": null,
       "elapsed": 0.0029058456420898438,
       "initial": 0,
       "n": 0,
       "ncols": null,
       "nrows": null,
       "postfix": null,
       "prefix": "",
       "rate": null,
       "total": 747,
       "unit": "it",
       "unit_divisor": 1000,
       "unit_scale": false
      },
      "application/vnd.jupyter.widget-view+json": {
       "model_id": "3a44c11354dd48a6b9c66b219eb49e1a",
       "version_major": 2,
       "version_minor": 0
      },
      "text/plain": [
       "  0%|          | 0/747 [00:00<?, ?it/s]"
      ]
     },
     "metadata": {},
     "output_type": "display_data"
    },
    {
     "name": "stdout",
     "output_type": "stream",
     "text": [
      "3 clusters detected based on gene co-expression.\n",
      "(0.62, 0.8793261681749559), (0.38, 0.26633114834984656)\n",
      "(0.47, 0.7331318775651423), (0.53, 0.2511832966547218)\n",
      "(0.47, 0.2994057734262461), (0.53, 0.8553113871195344)\n",
      "KS-test result: [0. 0. 0.]\n",
      "Initial induction: 404, repression: 343/747\n",
      "Learning Rate based on Data Sparsity: 0.0000\n",
      "--------------------------- Train a VeloVAE ---------------------------\n",
      "*********        Creating Training/Validation Datasets        *********\n",
      "*********                      Finished.                      *********\n",
      "*********                 Creating optimizers                 *********\n",
      "*********                      Finished.                      *********\n",
      "*********                    Start training                   *********\n",
      "*********                      Stage  1                       *********\n",
      "Total Number of Iterations Per Epoch: 6, test iteration: 10\n",
      "*********                      Stage  2                       *********\n",
      "*********             Velocity Refinement Round 1             *********\n"
     ]
    },
    {
     "data": {
      "application/json": {
       "ascii": false,
       "bar_format": null,
       "colour": null,
       "elapsed": 0.039377450942993164,
       "initial": 0,
       "n": 0,
       "ncols": null,
       "nrows": null,
       "postfix": null,
       "prefix": "",
       "rate": null,
       "total": 1000,
       "unit": "it",
       "unit_divisor": 1000,
       "unit_scale": false
      },
      "application/vnd.jupyter.widget-view+json": {
       "model_id": "6aabb2fadf09460c9ca10fde4f04238c",
       "version_major": 2,
       "version_minor": 0
      },
      "text/plain": [
       "  0%|          | 0/1000 [00:00<?, ?it/s]"
      ]
     },
     "metadata": {},
     "output_type": "display_data"
    },
    {
     "name": "stdout",
     "output_type": "stream",
     "text": [
      "Percentage of Invalid Sets: 0.024\n",
      "Average Set Size: 20\n",
      "Change in noise variance: 0.2037\n",
      "*********             Velocity Refinement Round 2             *********\n",
      "*********     Round 2: Early Stop Triggered at epoch 1512.    *********\n",
      "Change in noise variance: 0.0084\n",
      "Change in x0: 0.7214\n",
      "*********             Velocity Refinement Round 3             *********\n",
      "*********     Round 3: Early Stop Triggered at epoch 1528.    *********\n",
      "Change in noise variance: 0.0040\n",
      "Change in x0: 0.5676\n",
      "*********             Velocity Refinement Round 4             *********\n",
      "*********     Round 4: Early Stop Triggered at epoch 1547.    *********\n",
      "Change in noise variance: 0.0035\n",
      "Change in x0: 0.4990\n",
      "*********             Velocity Refinement Round 5             *********\n",
      "*********     Round 5: Early Stop Triggered at epoch 1566.    *********\n",
      "Change in noise variance: 0.0042\n",
      "Change in x0: 0.4276\n",
      "*********             Velocity Refinement Round 6             *********\n",
      "*********     Round 6: Early Stop Triggered at epoch 1595.    *********\n",
      "Change in noise variance: 0.0011\n",
      "Change in x0: 0.3162\n",
      "*********             Velocity Refinement Round 7             *********\n",
      "*********     Round 7: Early Stop Triggered at epoch 1611.    *********\n",
      "Change in noise variance: 0.0008\n",
      "Change in x0: 0.2840\n",
      "*********             Velocity Refinement Round 8             *********\n",
      "*********     Round 8: Early Stop Triggered at epoch 1618.    *********\n",
      "Change in noise variance: 0.0000\n",
      "Change in x0: 0.2915\n",
      "*********             Velocity Refinement Round 9             *********\n",
      "Stage 2: Early Stop Triggered at round 8.\n",
      "*********              Finished. Total Time =   0 h :  1 m : 47 s             *********\n",
      "Final: Train ELBO = -1432.376,\tTest ELBO = -1487.912\n",
      "Run 5, file /ictstr01/groups/ml01/workspace/yifan.chen/regvelo_reproducibility/data/dyngen/complexity_1/processed/simulation_21.zarr.\n",
      "Estimating ODE parameters...\n"
     ]
    },
    {
     "data": {
      "application/json": {
       "ascii": false,
       "bar_format": null,
       "colour": null,
       "elapsed": 0.0035152435302734375,
       "initial": 0,
       "n": 0,
       "ncols": null,
       "nrows": null,
       "postfix": null,
       "prefix": "",
       "rate": null,
       "total": 461,
       "unit": "it",
       "unit_divisor": 1000,
       "unit_scale": false
      },
      "application/vnd.jupyter.widget-view+json": {
       "model_id": "9d63b2cfc206491ea531fb185066aa9b",
       "version_major": 2,
       "version_minor": 0
      },
      "text/plain": [
       "  0%|          | 0/461 [00:00<?, ?it/s]"
      ]
     },
     "metadata": {},
     "output_type": "display_data"
    },
    {
     "name": "stdout",
     "output_type": "stream",
     "text": [
      "Detected 398 velocity genes.\n",
      "Estimating the variance...\n"
     ]
    },
    {
     "data": {
      "application/json": {
       "ascii": false,
       "bar_format": null,
       "colour": null,
       "elapsed": 0.011966943740844727,
       "initial": 0,
       "n": 0,
       "ncols": null,
       "nrows": null,
       "postfix": null,
       "prefix": "",
       "rate": null,
       "total": 461,
       "unit": "it",
       "unit_divisor": 1000,
       "unit_scale": false
      },
      "application/vnd.jupyter.widget-view+json": {
       "model_id": "5192083bd78944d88d6fe6e0e7950403",
       "version_major": 2,
       "version_minor": 0
      },
      "text/plain": [
       "  0%|          | 0/461 [00:00<?, ?it/s]"
      ]
     },
     "metadata": {},
     "output_type": "display_data"
    },
    {
     "name": "stdout",
     "output_type": "stream",
     "text": [
      "Initialization using the steady-state and dynamical models.\n",
      "Reinitialize the regular ODE parameters based on estimated global latent time.\n"
     ]
    },
    {
     "data": {
      "application/json": {
       "ascii": false,
       "bar_format": null,
       "colour": null,
       "elapsed": 0.0028028488159179688,
       "initial": 0,
       "n": 0,
       "ncols": null,
       "nrows": null,
       "postfix": null,
       "prefix": "",
       "rate": null,
       "total": 461,
       "unit": "it",
       "unit_divisor": 1000,
       "unit_scale": false
      },
      "application/vnd.jupyter.widget-view+json": {
       "model_id": "5f31a34e6e684ca683e690d7f5a2136d",
       "version_major": 2,
       "version_minor": 0
      },
      "text/plain": [
       "  0%|          | 0/461 [00:00<?, ?it/s]"
      ]
     },
     "metadata": {},
     "output_type": "display_data"
    },
    {
     "name": "stdout",
     "output_type": "stream",
     "text": [
      "3 clusters detected based on gene co-expression.\n",
      "(0.49, 0.2987033192902373), (0.51, 0.7362158867554179)\n",
      "KS-test result: [1. 1. 0.]\n",
      "Initial induction: 334, repression: 127/461\n",
      "Learning Rate based on Data Sparsity: 0.0001\n",
      "--------------------------- Train a VeloVAE ---------------------------\n",
      "*********        Creating Training/Validation Datasets        *********\n",
      "*********                      Finished.                      *********\n",
      "*********                 Creating optimizers                 *********\n",
      "*********                      Finished.                      *********\n",
      "*********                    Start training                   *********\n",
      "*********                      Stage  1                       *********\n",
      "Total Number of Iterations Per Epoch: 6, test iteration: 10\n",
      "*********                      Stage  2                       *********\n",
      "*********             Velocity Refinement Round 1             *********\n"
     ]
    },
    {
     "data": {
      "application/json": {
       "ascii": false,
       "bar_format": null,
       "colour": null,
       "elapsed": 0.0075986385345458984,
       "initial": 0,
       "n": 0,
       "ncols": null,
       "nrows": null,
       "postfix": null,
       "prefix": "",
       "rate": null,
       "total": 1000,
       "unit": "it",
       "unit_divisor": 1000,
       "unit_scale": false
      },
      "application/vnd.jupyter.widget-view+json": {
       "model_id": "12291d75da644bb489f65e849286b5f4",
       "version_major": 2,
       "version_minor": 0
      },
      "text/plain": [
       "  0%|          | 0/1000 [00:00<?, ?it/s]"
      ]
     },
     "metadata": {},
     "output_type": "display_data"
    },
    {
     "name": "stdout",
     "output_type": "stream",
     "text": [
      "Percentage of Invalid Sets: 0.114\n",
      "Average Set Size: 25\n",
      "Change in noise variance: 0.0569\n",
      "*********             Velocity Refinement Round 2             *********\n",
      "*********     Round 2: Early Stop Triggered at epoch 1676.    *********\n",
      "Change in noise variance: 0.0147\n",
      "Change in x0: 0.4295\n",
      "*********             Velocity Refinement Round 3             *********\n",
      "*********     Round 3: Early Stop Triggered at epoch 1742.    *********\n",
      "Change in noise variance: 0.0055\n",
      "Change in x0: 0.2779\n",
      "*********             Velocity Refinement Round 4             *********\n",
      "*********     Round 4: Early Stop Triggered at epoch 1771.    *********\n",
      "Change in noise variance: 0.0025\n",
      "Change in x0: 0.1631\n",
      "*********             Velocity Refinement Round 5             *********\n",
      "*********     Round 5: Early Stop Triggered at epoch 1783.    *********\n",
      "Change in noise variance: 0.0011\n",
      "Change in x0: 0.0995\n",
      "*********             Velocity Refinement Round 6             *********\n",
      "*********     Round 6: Early Stop Triggered at epoch 1804.    *********\n",
      "Change in noise variance: 0.0003\n",
      "Change in x0: 0.0861\n",
      "*********             Velocity Refinement Round 7             *********\n",
      "*********     Round 7: Early Stop Triggered at epoch 1815.    *********\n",
      "Change in noise variance: 0.0000\n",
      "Change in x0: 0.0890\n",
      "*********             Velocity Refinement Round 8             *********\n",
      "Stage 2: Early Stop Triggered at round 7.\n",
      "*********              Finished. Total Time =   0 h :  1 m : 55 s             *********\n",
      "Final: Train ELBO = 632.827,\tTest ELBO = 593.622\n",
      "Run 6, file /ictstr01/groups/ml01/workspace/yifan.chen/regvelo_reproducibility/data/dyngen/complexity_1/processed/simulation_15.zarr.\n",
      "Estimating ODE parameters...\n"
     ]
    },
    {
     "data": {
      "application/json": {
       "ascii": false,
       "bar_format": null,
       "colour": null,
       "elapsed": 0.0036056041717529297,
       "initial": 0,
       "n": 0,
       "ncols": null,
       "nrows": null,
       "postfix": null,
       "prefix": "",
       "rate": null,
       "total": 444,
       "unit": "it",
       "unit_divisor": 1000,
       "unit_scale": false
      },
      "application/vnd.jupyter.widget-view+json": {
       "model_id": "1c83caf6f3dd46cbaf5dece70d359657",
       "version_major": 2,
       "version_minor": 0
      },
      "text/plain": [
       "  0%|          | 0/444 [00:00<?, ?it/s]"
      ]
     },
     "metadata": {},
     "output_type": "display_data"
    },
    {
     "name": "stdout",
     "output_type": "stream",
     "text": [
      "Detected 404 velocity genes.\n",
      "Estimating the variance...\n"
     ]
    },
    {
     "data": {
      "application/json": {
       "ascii": false,
       "bar_format": null,
       "colour": null,
       "elapsed": 0.005795478820800781,
       "initial": 0,
       "n": 0,
       "ncols": null,
       "nrows": null,
       "postfix": null,
       "prefix": "",
       "rate": null,
       "total": 444,
       "unit": "it",
       "unit_divisor": 1000,
       "unit_scale": false
      },
      "application/vnd.jupyter.widget-view+json": {
       "model_id": "3a23e3188599447aa7f5e3150b7851f9",
       "version_major": 2,
       "version_minor": 0
      },
      "text/plain": [
       "  0%|          | 0/444 [00:00<?, ?it/s]"
      ]
     },
     "metadata": {},
     "output_type": "display_data"
    },
    {
     "name": "stdout",
     "output_type": "stream",
     "text": [
      "Initialization using the steady-state and dynamical models.\n",
      "Reinitialize the regular ODE parameters based on estimated global latent time.\n"
     ]
    },
    {
     "data": {
      "application/json": {
       "ascii": false,
       "bar_format": null,
       "colour": null,
       "elapsed": 0.002956390380859375,
       "initial": 0,
       "n": 0,
       "ncols": null,
       "nrows": null,
       "postfix": null,
       "prefix": "",
       "rate": null,
       "total": 444,
       "unit": "it",
       "unit_divisor": 1000,
       "unit_scale": false
      },
      "application/vnd.jupyter.widget-view+json": {
       "model_id": "a63e48a97dd24cd49614ac8f2ca849e8",
       "version_major": 2,
       "version_minor": 0
      },
      "text/plain": [
       "  0%|          | 0/444 [00:00<?, ?it/s]"
      ]
     },
     "metadata": {},
     "output_type": "display_data"
    },
    {
     "name": "stdout",
     "output_type": "stream",
     "text": [
      "3 clusters detected based on gene co-expression.\n",
      "(0.62, 0.8595902088131244), (0.38, 0.34409679076346833)\n",
      "(0.53, 0.3502039273194398), (0.47, 0.8163727115188388)\n",
      "KS-test result: [0. 1. 0.]\n",
      "Initial induction: 300, repression: 144/444\n",
      "Learning Rate based on Data Sparsity: 0.0002\n",
      "--------------------------- Train a VeloVAE ---------------------------\n",
      "*********        Creating Training/Validation Datasets        *********\n",
      "*********                      Finished.                      *********\n",
      "*********                 Creating optimizers                 *********\n",
      "*********                      Finished.                      *********\n",
      "*********                    Start training                   *********\n",
      "*********                      Stage  1                       *********\n",
      "Total Number of Iterations Per Epoch: 6, test iteration: 10\n",
      "*********                      Stage  2                       *********\n",
      "*********             Velocity Refinement Round 1             *********\n"
     ]
    },
    {
     "data": {
      "application/json": {
       "ascii": false,
       "bar_format": null,
       "colour": null,
       "elapsed": 0.010799884796142578,
       "initial": 0,
       "n": 0,
       "ncols": null,
       "nrows": null,
       "postfix": null,
       "prefix": "",
       "rate": null,
       "total": 1000,
       "unit": "it",
       "unit_divisor": 1000,
       "unit_scale": false
      },
      "application/vnd.jupyter.widget-view+json": {
       "model_id": "7c22b153735f42d18dd3ed47c6fd52a8",
       "version_major": 2,
       "version_minor": 0
      },
      "text/plain": [
       "  0%|          | 0/1000 [00:00<?, ?it/s]"
      ]
     },
     "metadata": {},
     "output_type": "display_data"
    },
    {
     "name": "stdout",
     "output_type": "stream",
     "text": [
      "Percentage of Invalid Sets: 0.220\n",
      "Average Set Size: 21\n",
      "*********     Round 1: Early Stop Triggered at epoch 1352.    *********\n",
      "Change in noise variance: 0.0521\n",
      "*********             Velocity Refinement Round 2             *********\n",
      "*********     Round 2: Early Stop Triggered at epoch 1429.    *********\n",
      "Change in noise variance: 0.0083\n",
      "Change in x0: 0.2646\n",
      "*********             Velocity Refinement Round 3             *********\n",
      "*********     Round 3: Early Stop Triggered at epoch 1495.    *********\n",
      "Change in noise variance: 0.0010\n",
      "Change in x0: 0.1430\n",
      "*********             Velocity Refinement Round 4             *********\n",
      "*********     Round 4: Early Stop Triggered at epoch 1609.    *********\n",
      "Change in noise variance: 0.0000\n",
      "Change in x0: 0.1098\n",
      "*********             Velocity Refinement Round 5             *********\n",
      "*********     Round 5: Early Stop Triggered at epoch 1665.    *********\n",
      "Change in noise variance: 0.0000\n",
      "Change in x0: 0.0940\n",
      "*********             Velocity Refinement Round 6             *********\n",
      "*********     Round 6: Early Stop Triggered at epoch 1681.    *********\n",
      "Change in noise variance: 0.0000\n",
      "Change in x0: 0.0764\n",
      "*********             Velocity Refinement Round 7             *********\n",
      "*********     Round 7: Early Stop Triggered at epoch 1697.    *********\n",
      "Change in noise variance: 0.0000\n",
      "Change in x0: 0.0643\n",
      "*********             Velocity Refinement Round 8             *********\n",
      "*********     Round 8: Early Stop Triggered at epoch 1704.    *********\n",
      "Change in noise variance: 0.0000\n",
      "Change in x0: 0.0651\n",
      "*********             Velocity Refinement Round 9             *********\n",
      "Stage 2: Early Stop Triggered at round 8.\n",
      "*********              Finished. Total Time =   0 h :  1 m : 48 s             *********\n",
      "Final: Train ELBO = 557.378,\tTest ELBO = 551.038\n",
      "Run 7, file /ictstr01/groups/ml01/workspace/yifan.chen/regvelo_reproducibility/data/dyngen/complexity_1/processed/simulation_9.zarr.\n",
      "Estimating ODE parameters...\n"
     ]
    },
    {
     "data": {
      "application/json": {
       "ascii": false,
       "bar_format": null,
       "colour": null,
       "elapsed": 0.0034475326538085938,
       "initial": 0,
       "n": 0,
       "ncols": null,
       "nrows": null,
       "postfix": null,
       "prefix": "",
       "rate": null,
       "total": 360,
       "unit": "it",
       "unit_divisor": 1000,
       "unit_scale": false
      },
      "application/vnd.jupyter.widget-view+json": {
       "model_id": "51512cfc3d944bf1bc9464fcb75f1704",
       "version_major": 2,
       "version_minor": 0
      },
      "text/plain": [
       "  0%|          | 0/360 [00:00<?, ?it/s]"
      ]
     },
     "metadata": {},
     "output_type": "display_data"
    },
    {
     "name": "stdout",
     "output_type": "stream",
     "text": [
      "Detected 335 velocity genes.\n",
      "Estimating the variance...\n"
     ]
    },
    {
     "data": {
      "application/json": {
       "ascii": false,
       "bar_format": null,
       "colour": null,
       "elapsed": 0.005527973175048828,
       "initial": 0,
       "n": 0,
       "ncols": null,
       "nrows": null,
       "postfix": null,
       "prefix": "",
       "rate": null,
       "total": 360,
       "unit": "it",
       "unit_divisor": 1000,
       "unit_scale": false
      },
      "application/vnd.jupyter.widget-view+json": {
       "model_id": "92e473b6394f4eee87fcf23f643c0936",
       "version_major": 2,
       "version_minor": 0
      },
      "text/plain": [
       "  0%|          | 0/360 [00:00<?, ?it/s]"
      ]
     },
     "metadata": {},
     "output_type": "display_data"
    },
    {
     "name": "stdout",
     "output_type": "stream",
     "text": [
      "Initialization using the steady-state and dynamical models.\n",
      "Reinitialize the regular ODE parameters based on estimated global latent time.\n"
     ]
    },
    {
     "data": {
      "application/json": {
       "ascii": false,
       "bar_format": null,
       "colour": null,
       "elapsed": 0.002679586410522461,
       "initial": 0,
       "n": 0,
       "ncols": null,
       "nrows": null,
       "postfix": null,
       "prefix": "",
       "rate": null,
       "total": 360,
       "unit": "it",
       "unit_divisor": 1000,
       "unit_scale": false
      },
      "application/vnd.jupyter.widget-view+json": {
       "model_id": "06991db860274cdf89e3c3039993f754",
       "version_major": 2,
       "version_minor": 0
      },
      "text/plain": [
       "  0%|          | 0/360 [00:00<?, ?it/s]"
      ]
     },
     "metadata": {},
     "output_type": "display_data"
    },
    {
     "name": "stdout",
     "output_type": "stream",
     "text": [
      "3 clusters detected based on gene co-expression.\n",
      "(0.48, 0.37222433101870206), (0.52, 0.7806380011489331)\n",
      "KS-test result: [1. 0. 1.]\n",
      "Initial induction: 263, repression: 97/360\n",
      "Learning Rate based on Data Sparsity: 0.0003\n",
      "--------------------------- Train a VeloVAE ---------------------------\n",
      "*********        Creating Training/Validation Datasets        *********\n",
      "*********                      Finished.                      *********\n",
      "*********                 Creating optimizers                 *********\n",
      "*********                      Finished.                      *********\n",
      "*********                    Start training                   *********\n",
      "*********                      Stage  1                       *********\n",
      "Total Number of Iterations Per Epoch: 6, test iteration: 10\n",
      "*********                      Stage  2                       *********\n",
      "*********             Velocity Refinement Round 1             *********\n"
     ]
    },
    {
     "data": {
      "application/json": {
       "ascii": false,
       "bar_format": null,
       "colour": null,
       "elapsed": 0.005994319915771484,
       "initial": 0,
       "n": 0,
       "ncols": null,
       "nrows": null,
       "postfix": null,
       "prefix": "",
       "rate": null,
       "total": 1000,
       "unit": "it",
       "unit_divisor": 1000,
       "unit_scale": false
      },
      "application/vnd.jupyter.widget-view+json": {
       "model_id": "ddcee0e9759e4558a67451aecd0db848",
       "version_major": 2,
       "version_minor": 0
      },
      "text/plain": [
       "  0%|          | 0/1000 [00:00<?, ?it/s]"
      ]
     },
     "metadata": {},
     "output_type": "display_data"
    },
    {
     "name": "stdout",
     "output_type": "stream",
     "text": [
      "Percentage of Invalid Sets: 0.143\n",
      "Average Set Size: 19\n",
      "*********     Round 1: Early Stop Triggered at epoch 1302.    *********\n",
      "Change in noise variance: 0.0255\n",
      "*********             Velocity Refinement Round 2             *********\n",
      "*********     Round 2: Early Stop Triggered at epoch 1351.    *********\n",
      "Change in noise variance: 0.0049\n",
      "Change in x0: 0.2328\n",
      "*********             Velocity Refinement Round 3             *********\n",
      "*********     Round 3: Early Stop Triggered at epoch 1358.    *********\n",
      "Change in noise variance: 0.0005\n",
      "Change in x0: 0.1610\n",
      "*********             Velocity Refinement Round 4             *********\n",
      "*********     Round 4: Early Stop Triggered at epoch 1407.    *********\n",
      "Change in noise variance: 0.0000\n",
      "Change in x0: 0.1327\n",
      "*********             Velocity Refinement Round 5             *********\n",
      "*********     Round 5: Early Stop Triggered at epoch 1436.    *********\n",
      "Change in noise variance: 0.0000\n",
      "Change in x0: 0.1027\n",
      "*********             Velocity Refinement Round 6             *********\n",
      "*********     Round 6: Early Stop Triggered at epoch 1462.    *********\n",
      "Change in noise variance: 0.0000\n",
      "Change in x0: 0.0815\n",
      "*********             Velocity Refinement Round 7             *********\n",
      "*********     Round 7: Early Stop Triggered at epoch 1531.    *********\n",
      "Change in noise variance: 0.0000\n",
      "Change in x0: 0.0733\n",
      "*********             Velocity Refinement Round 8             *********\n",
      "Stage 2: Early Stop Triggered at round 7.\n",
      "*********              Finished. Total Time =   0 h :  1 m : 37 s             *********\n",
      "Final: Train ELBO = 459.266,\tTest ELBO = 449.352\n",
      "Run 8, file /ictstr01/groups/ml01/workspace/yifan.chen/regvelo_reproducibility/data/dyngen/complexity_1/processed/simulation_12.zarr.\n",
      "Estimating ODE parameters...\n"
     ]
    },
    {
     "data": {
      "application/json": {
       "ascii": false,
       "bar_format": null,
       "colour": null,
       "elapsed": 0.0032701492309570312,
       "initial": 0,
       "n": 0,
       "ncols": null,
       "nrows": null,
       "postfix": null,
       "prefix": "",
       "rate": null,
       "total": 515,
       "unit": "it",
       "unit_divisor": 1000,
       "unit_scale": false
      },
      "application/vnd.jupyter.widget-view+json": {
       "model_id": "309dc7259d57425f8d43716319abb99a",
       "version_major": 2,
       "version_minor": 0
      },
      "text/plain": [
       "  0%|          | 0/515 [00:00<?, ?it/s]"
      ]
     },
     "metadata": {},
     "output_type": "display_data"
    },
    {
     "name": "stdout",
     "output_type": "stream",
     "text": [
      "Detected 387 velocity genes.\n",
      "Estimating the variance...\n"
     ]
    },
    {
     "data": {
      "application/json": {
       "ascii": false,
       "bar_format": null,
       "colour": null,
       "elapsed": 0.008695840835571289,
       "initial": 0,
       "n": 0,
       "ncols": null,
       "nrows": null,
       "postfix": null,
       "prefix": "",
       "rate": null,
       "total": 515,
       "unit": "it",
       "unit_divisor": 1000,
       "unit_scale": false
      },
      "application/vnd.jupyter.widget-view+json": {
       "model_id": "a20aeff7a79341e49e4cd5c76bb0b13f",
       "version_major": 2,
       "version_minor": 0
      },
      "text/plain": [
       "  0%|          | 0/515 [00:00<?, ?it/s]"
      ]
     },
     "metadata": {},
     "output_type": "display_data"
    },
    {
     "name": "stdout",
     "output_type": "stream",
     "text": [
      "Initialization using the steady-state and dynamical models.\n",
      "Reinitialize the regular ODE parameters based on estimated global latent time.\n"
     ]
    },
    {
     "data": {
      "application/json": {
       "ascii": false,
       "bar_format": null,
       "colour": null,
       "elapsed": 0.0027494430541992188,
       "initial": 0,
       "n": 0,
       "ncols": null,
       "nrows": null,
       "postfix": null,
       "prefix": "",
       "rate": null,
       "total": 515,
       "unit": "it",
       "unit_divisor": 1000,
       "unit_scale": false
      },
      "application/vnd.jupyter.widget-view+json": {
       "model_id": "81d594b16c014633ad208897165b092b",
       "version_major": 2,
       "version_minor": 0
      },
      "text/plain": [
       "  0%|          | 0/515 [00:00<?, ?it/s]"
      ]
     },
     "metadata": {},
     "output_type": "display_data"
    },
    {
     "name": "stdout",
     "output_type": "stream",
     "text": [
      "3 clusters detected based on gene co-expression.\n",
      "(0.59, 0.8421974990559944), (0.41, 0.31546207430654916)\n",
      "(0.58, 0.7390920693790617), (0.42, 0.1625623840425744)\n",
      "(0.42, 0.2930600982138266), (0.58, 0.8332787740830282)\n",
      "KS-test result: [0. 0. 0.]\n",
      "Initial induction: 310, repression: 205/515\n",
      "Learning Rate based on Data Sparsity: 0.0000\n",
      "--------------------------- Train a VeloVAE ---------------------------\n",
      "*********        Creating Training/Validation Datasets        *********\n",
      "*********                      Finished.                      *********\n",
      "*********                 Creating optimizers                 *********\n",
      "*********                      Finished.                      *********\n",
      "*********                    Start training                   *********\n",
      "*********                      Stage  1                       *********\n",
      "Total Number of Iterations Per Epoch: 5, test iteration: 8\n",
      "*********       Stage 1: Early Stop Triggered at epoch 10.       *********\n",
      "*********                      Stage  2                       *********\n",
      "*********             Velocity Refinement Round 1             *********\n"
     ]
    },
    {
     "data": {
      "application/json": {
       "ascii": false,
       "bar_format": null,
       "colour": null,
       "elapsed": 0.003149271011352539,
       "initial": 0,
       "n": 0,
       "ncols": null,
       "nrows": null,
       "postfix": null,
       "prefix": "",
       "rate": null,
       "total": 880,
       "unit": "it",
       "unit_divisor": 1000,
       "unit_scale": false
      },
      "application/vnd.jupyter.widget-view+json": {
       "model_id": "da592ab6558645bab298d7f085824aa2",
       "version_major": 2,
       "version_minor": 0
      },
      "text/plain": [
       "  0%|          | 0/880 [00:00<?, ?it/s]"
      ]
     },
     "metadata": {},
     "output_type": "display_data"
    },
    {
     "name": "stdout",
     "output_type": "stream",
     "text": [
      "Percentage of Invalid Sets: 0.037\n",
      "Average Set Size: 17\n",
      "*********     Round 1: Early Stop Triggered at epoch 19.    *********\n",
      "Change in noise variance: 0.1936\n",
      "*********             Velocity Refinement Round 2             *********\n",
      "*********     Round 2: Early Stop Triggered at epoch 28.    *********\n",
      "Change in noise variance: 0.0023\n",
      "Change in x0: 0.7023\n",
      "*********             Velocity Refinement Round 3             *********\n",
      "*********     Round 3: Early Stop Triggered at epoch 37.    *********\n",
      "Change in noise variance: 0.0007\n",
      "Change in x0: 0.5262\n",
      "*********             Velocity Refinement Round 4             *********\n",
      "*********     Round 4: Early Stop Triggered at epoch 46.    *********\n",
      "Change in noise variance: 0.0000\n",
      "Change in x0: 0.4196\n",
      "*********             Velocity Refinement Round 5             *********\n",
      "*********     Round 5: Early Stop Triggered at epoch 55.    *********\n",
      "Change in noise variance: 0.0000\n",
      "Change in x0: 0.4146\n",
      "*********             Velocity Refinement Round 6             *********\n",
      "Stage 2: Early Stop Triggered at round 5.\n",
      "*********              Finished. Total Time =   0 h :  0 m :  5 s             *********\n",
      "Final: Train ELBO = -27358.754,\tTest ELBO = -28505.131\n",
      "Run 9, file /ictstr01/groups/ml01/workspace/yifan.chen/regvelo_reproducibility/data/dyngen/complexity_1/processed/simulation_19.zarr.\n",
      "Estimating ODE parameters...\n"
     ]
    },
    {
     "data": {
      "application/json": {
       "ascii": false,
       "bar_format": null,
       "colour": null,
       "elapsed": 0.003056049346923828,
       "initial": 0,
       "n": 0,
       "ncols": null,
       "nrows": null,
       "postfix": null,
       "prefix": "",
       "rate": null,
       "total": 266,
       "unit": "it",
       "unit_divisor": 1000,
       "unit_scale": false
      },
      "application/vnd.jupyter.widget-view+json": {
       "model_id": "b28bf50d93804997a817703fba609d9a",
       "version_major": 2,
       "version_minor": 0
      },
      "text/plain": [
       "  0%|          | 0/266 [00:00<?, ?it/s]"
      ]
     },
     "metadata": {},
     "output_type": "display_data"
    },
    {
     "name": "stdout",
     "output_type": "stream",
     "text": [
      "Detected 244 velocity genes.\n",
      "Estimating the variance...\n"
     ]
    },
    {
     "data": {
      "application/json": {
       "ascii": false,
       "bar_format": null,
       "colour": null,
       "elapsed": 0.010893106460571289,
       "initial": 0,
       "n": 0,
       "ncols": null,
       "nrows": null,
       "postfix": null,
       "prefix": "",
       "rate": null,
       "total": 266,
       "unit": "it",
       "unit_divisor": 1000,
       "unit_scale": false
      },
      "application/vnd.jupyter.widget-view+json": {
       "model_id": "4f88404045a74242ab63a4e8739be37a",
       "version_major": 2,
       "version_minor": 0
      },
      "text/plain": [
       "  0%|          | 0/266 [00:00<?, ?it/s]"
      ]
     },
     "metadata": {},
     "output_type": "display_data"
    },
    {
     "name": "stdout",
     "output_type": "stream",
     "text": [
      "Initialization using the steady-state and dynamical models.\n",
      "Reinitialize the regular ODE parameters based on estimated global latent time.\n"
     ]
    },
    {
     "data": {
      "application/json": {
       "ascii": false,
       "bar_format": null,
       "colour": null,
       "elapsed": 0.0028595924377441406,
       "initial": 0,
       "n": 0,
       "ncols": null,
       "nrows": null,
       "postfix": null,
       "prefix": "",
       "rate": null,
       "total": 266,
       "unit": "it",
       "unit_divisor": 1000,
       "unit_scale": false
      },
      "application/vnd.jupyter.widget-view+json": {
       "model_id": "71350a64f28848238ff235b04a624206",
       "version_major": 2,
       "version_minor": 0
      },
      "text/plain": [
       "  0%|          | 0/266 [00:00<?, ?it/s]"
      ]
     },
     "metadata": {},
     "output_type": "display_data"
    },
    {
     "name": "stdout",
     "output_type": "stream",
     "text": [
      "3 clusters detected based on gene co-expression.\n",
      "(0.46, 0.3700403220994146), (0.54, 0.8355761602987493)\n",
      "(0.60, 0.33766490672002036), (0.40, 0.7567183237756051)\n",
      "KS-test result: [0. 1. 0.]\n",
      "Initial induction: 164, repression: 102/266\n",
      "Learning Rate based on Data Sparsity: 0.0002\n",
      "--------------------------- Train a VeloVAE ---------------------------\n",
      "*********        Creating Training/Validation Datasets        *********\n",
      "*********                      Finished.                      *********\n",
      "*********                 Creating optimizers                 *********\n",
      "*********                      Finished.                      *********\n",
      "*********                    Start training                   *********\n",
      "*********                      Stage  1                       *********\n",
      "Total Number of Iterations Per Epoch: 6, test iteration: 10\n",
      "*********       Stage 1: Early Stop Triggered at epoch 961.       *********\n",
      "*********                      Stage  2                       *********\n",
      "*********             Velocity Refinement Round 1             *********\n"
     ]
    },
    {
     "data": {
      "application/json": {
       "ascii": false,
       "bar_format": null,
       "colour": null,
       "elapsed": 0.003881216049194336,
       "initial": 0,
       "n": 0,
       "ncols": null,
       "nrows": null,
       "postfix": null,
       "prefix": "",
       "rate": null,
       "total": 1000,
       "unit": "it",
       "unit_divisor": 1000,
       "unit_scale": false
      },
      "application/vnd.jupyter.widget-view+json": {
       "model_id": "8415fda839b049c3bf5d5fccf1d08af6",
       "version_major": 2,
       "version_minor": 0
      },
      "text/plain": [
       "  0%|          | 0/1000 [00:00<?, ?it/s]"
      ]
     },
     "metadata": {},
     "output_type": "display_data"
    },
    {
     "name": "stdout",
     "output_type": "stream",
     "text": [
      "Percentage of Invalid Sets: 0.184\n",
      "Average Set Size: 18\n",
      "*********     Round 1: Early Stop Triggered at epoch 1225.    *********\n",
      "Change in noise variance: 0.0385\n",
      "*********             Velocity Refinement Round 2             *********\n",
      "*********     Round 2: Early Stop Triggered at epoch 1339.    *********\n",
      "Change in noise variance: 0.0067\n",
      "Change in x0: 0.2580\n",
      "*********             Velocity Refinement Round 3             *********\n",
      "*********     Round 3: Early Stop Triggered at epoch 1375.    *********\n",
      "Change in noise variance: 0.0008\n",
      "Change in x0: 0.1442\n",
      "*********             Velocity Refinement Round 4             *********\n",
      "*********     Round 4: Early Stop Triggered at epoch 1419.    *********\n",
      "Change in noise variance: 0.0000\n",
      "Change in x0: 0.0971\n",
      "*********             Velocity Refinement Round 5             *********\n",
      "*********     Round 5: Early Stop Triggered at epoch 1481.    *********\n",
      "Change in noise variance: 0.0000\n",
      "Change in x0: 0.0885\n",
      "*********             Velocity Refinement Round 6             *********\n",
      "Stage 2: Early Stop Triggered at round 5.\n",
      "*********              Finished. Total Time =   0 h :  1 m : 31 s             *********\n",
      "Final: Train ELBO = 365.056,\tTest ELBO = 356.861\n",
      "Run 10, file /ictstr01/groups/ml01/workspace/yifan.chen/regvelo_reproducibility/data/dyngen/complexity_1/processed/simulation_4.zarr.\n",
      "Estimating ODE parameters...\n"
     ]
    },
    {
     "data": {
      "application/json": {
       "ascii": false,
       "bar_format": null,
       "colour": null,
       "elapsed": 0.003659963607788086,
       "initial": 0,
       "n": 0,
       "ncols": null,
       "nrows": null,
       "postfix": null,
       "prefix": "",
       "rate": null,
       "total": 479,
       "unit": "it",
       "unit_divisor": 1000,
       "unit_scale": false
      },
      "application/vnd.jupyter.widget-view+json": {
       "model_id": "7333f78e7711411687dfb1b417146ff7",
       "version_major": 2,
       "version_minor": 0
      },
      "text/plain": [
       "  0%|          | 0/479 [00:00<?, ?it/s]"
      ]
     },
     "metadata": {},
     "output_type": "display_data"
    },
    {
     "name": "stdout",
     "output_type": "stream",
     "text": [
      "Detected 454 velocity genes.\n",
      "Estimating the variance...\n"
     ]
    },
    {
     "data": {
      "application/json": {
       "ascii": false,
       "bar_format": null,
       "colour": null,
       "elapsed": 0.0068416595458984375,
       "initial": 0,
       "n": 0,
       "ncols": null,
       "nrows": null,
       "postfix": null,
       "prefix": "",
       "rate": null,
       "total": 479,
       "unit": "it",
       "unit_divisor": 1000,
       "unit_scale": false
      },
      "application/vnd.jupyter.widget-view+json": {
       "model_id": "719fa204751a4ccbb8d0ba92ea83ae3c",
       "version_major": 2,
       "version_minor": 0
      },
      "text/plain": [
       "  0%|          | 0/479 [00:00<?, ?it/s]"
      ]
     },
     "metadata": {},
     "output_type": "display_data"
    },
    {
     "name": "stdout",
     "output_type": "stream",
     "text": [
      "Initialization using the steady-state and dynamical models.\n",
      "Reinitialize the regular ODE parameters based on estimated global latent time.\n"
     ]
    },
    {
     "data": {
      "application/json": {
       "ascii": false,
       "bar_format": null,
       "colour": null,
       "elapsed": 0.0027146339416503906,
       "initial": 0,
       "n": 0,
       "ncols": null,
       "nrows": null,
       "postfix": null,
       "prefix": "",
       "rate": null,
       "total": 479,
       "unit": "it",
       "unit_divisor": 1000,
       "unit_scale": false
      },
      "application/vnd.jupyter.widget-view+json": {
       "model_id": "f7d49984b4d748189d5c130e19314b02",
       "version_major": 2,
       "version_minor": 0
      },
      "text/plain": [
       "  0%|          | 0/479 [00:00<?, ?it/s]"
      ]
     },
     "metadata": {},
     "output_type": "display_data"
    },
    {
     "name": "stdout",
     "output_type": "stream",
     "text": [
      "3 clusters detected based on gene co-expression.\n",
      "(0.59, 0.8009445508520957), (0.41, 0.36772632850943016)\n",
      "KS-test result: [1. 0. 1.]\n",
      "Initial induction: 368, repression: 111/479\n",
      "Learning Rate based on Data Sparsity: 0.0003\n",
      "--------------------------- Train a VeloVAE ---------------------------\n",
      "*********        Creating Training/Validation Datasets        *********\n",
      "*********                      Finished.                      *********\n",
      "*********                 Creating optimizers                 *********\n",
      "*********                      Finished.                      *********\n",
      "*********                    Start training                   *********\n",
      "*********                      Stage  1                       *********\n",
      "Total Number of Iterations Per Epoch: 6, test iteration: 10\n",
      "*********                      Stage  2                       *********\n",
      "*********             Velocity Refinement Round 1             *********\n"
     ]
    },
    {
     "data": {
      "application/json": {
       "ascii": false,
       "bar_format": null,
       "colour": null,
       "elapsed": 0.00418543815612793,
       "initial": 0,
       "n": 0,
       "ncols": null,
       "nrows": null,
       "postfix": null,
       "prefix": "",
       "rate": null,
       "total": 1000,
       "unit": "it",
       "unit_divisor": 1000,
       "unit_scale": false
      },
      "application/vnd.jupyter.widget-view+json": {
       "model_id": "1b95afa9bbbb426eaa9addd71c66009e",
       "version_major": 2,
       "version_minor": 0
      },
      "text/plain": [
       "  0%|          | 0/1000 [00:00<?, ?it/s]"
      ]
     },
     "metadata": {},
     "output_type": "display_data"
    },
    {
     "name": "stdout",
     "output_type": "stream",
     "text": [
      "Percentage of Invalid Sets: 0.065\n",
      "Average Set Size: 19\n",
      "*********     Round 1: Early Stop Triggered at epoch 1256.    *********\n",
      "Change in noise variance: 0.0416\n",
      "*********             Velocity Refinement Round 2             *********\n",
      "*********     Round 2: Early Stop Triggered at epoch 1355.    *********\n",
      "Change in noise variance: 0.0024\n",
      "Change in x0: 0.2478\n",
      "*********             Velocity Refinement Round 3             *********\n",
      "*********     Round 3: Early Stop Triggered at epoch 1407.    *********\n",
      "Change in noise variance: 0.0004\n",
      "Change in x0: 0.1373\n",
      "*********             Velocity Refinement Round 4             *********\n",
      "*********     Round 4: Early Stop Triggered at epoch 1414.    *********\n",
      "Change in noise variance: 0.0000\n",
      "Change in x0: 0.1096\n",
      "*********             Velocity Refinement Round 5             *********\n",
      "*********     Round 5: Early Stop Triggered at epoch 1445.    *********\n",
      "Change in noise variance: 0.0000\n",
      "Change in x0: 0.1031\n",
      "*********             Velocity Refinement Round 6             *********\n",
      "Stage 2: Early Stop Triggered at round 5.\n",
      "*********              Finished. Total Time =   0 h :  1 m : 33 s             *********\n",
      "Final: Train ELBO = 909.189,\tTest ELBO = 917.505\n",
      "Run 11, file /ictstr01/groups/ml01/workspace/yifan.chen/regvelo_reproducibility/data/dyngen/complexity_1/processed/simulation_13.zarr.\n",
      "Estimating ODE parameters...\n"
     ]
    },
    {
     "data": {
      "application/json": {
       "ascii": false,
       "bar_format": null,
       "colour": null,
       "elapsed": 0.0033936500549316406,
       "initial": 0,
       "n": 0,
       "ncols": null,
       "nrows": null,
       "postfix": null,
       "prefix": "",
       "rate": null,
       "total": 514,
       "unit": "it",
       "unit_divisor": 1000,
       "unit_scale": false
      },
      "application/vnd.jupyter.widget-view+json": {
       "model_id": "de8fe708c4dc4b0eab7bc67b67e0b143",
       "version_major": 2,
       "version_minor": 0
      },
      "text/plain": [
       "  0%|          | 0/514 [00:00<?, ?it/s]"
      ]
     },
     "metadata": {},
     "output_type": "display_data"
    },
    {
     "name": "stdout",
     "output_type": "stream",
     "text": [
      "Detected 502 velocity genes.\n",
      "Estimating the variance...\n"
     ]
    },
    {
     "data": {
      "application/json": {
       "ascii": false,
       "bar_format": null,
       "colour": null,
       "elapsed": 0.00881052017211914,
       "initial": 0,
       "n": 0,
       "ncols": null,
       "nrows": null,
       "postfix": null,
       "prefix": "",
       "rate": null,
       "total": 514,
       "unit": "it",
       "unit_divisor": 1000,
       "unit_scale": false
      },
      "application/vnd.jupyter.widget-view+json": {
       "model_id": "3bb9b31da536448a8a46f5e1c0dcf705",
       "version_major": 2,
       "version_minor": 0
      },
      "text/plain": [
       "  0%|          | 0/514 [00:00<?, ?it/s]"
      ]
     },
     "metadata": {},
     "output_type": "display_data"
    },
    {
     "name": "stdout",
     "output_type": "stream",
     "text": [
      "Initialization using the steady-state and dynamical models.\n",
      "Reinitialize the regular ODE parameters based on estimated global latent time.\n"
     ]
    },
    {
     "data": {
      "application/json": {
       "ascii": false,
       "bar_format": null,
       "colour": null,
       "elapsed": 0.002748250961303711,
       "initial": 0,
       "n": 0,
       "ncols": null,
       "nrows": null,
       "postfix": null,
       "prefix": "",
       "rate": null,
       "total": 514,
       "unit": "it",
       "unit_divisor": 1000,
       "unit_scale": false
      },
      "application/vnd.jupyter.widget-view+json": {
       "model_id": "c3db89b3842046a4aab52bf1b6a8da1e",
       "version_major": 2,
       "version_minor": 0
      },
      "text/plain": [
       "  0%|          | 0/514 [00:00<?, ?it/s]"
      ]
     },
     "metadata": {},
     "output_type": "display_data"
    },
    {
     "name": "stdout",
     "output_type": "stream",
     "text": [
      "3 clusters detected based on gene co-expression.\n",
      "KS-test result: [1. 1. 1.]\n",
      "Assign cluster 0 to repressive\n",
      "Initial induction: 315, repression: 199/514\n",
      "Learning Rate based on Data Sparsity: 0.0004\n",
      "--------------------------- Train a VeloVAE ---------------------------\n",
      "*********        Creating Training/Validation Datasets        *********\n",
      "*********                      Finished.                      *********\n",
      "*********                 Creating optimizers                 *********\n",
      "*********                      Finished.                      *********\n",
      "*********                    Start training                   *********\n",
      "*********                      Stage  1                       *********\n",
      "Total Number of Iterations Per Epoch: 6, test iteration: 10\n",
      "*********                      Stage  2                       *********\n",
      "*********             Velocity Refinement Round 1             *********\n"
     ]
    },
    {
     "data": {
      "application/json": {
       "ascii": false,
       "bar_format": null,
       "colour": null,
       "elapsed": 0.012199878692626953,
       "initial": 0,
       "n": 0,
       "ncols": null,
       "nrows": null,
       "postfix": null,
       "prefix": "",
       "rate": null,
       "total": 1000,
       "unit": "it",
       "unit_divisor": 1000,
       "unit_scale": false
      },
      "application/vnd.jupyter.widget-view+json": {
       "model_id": "2fa4c991e2b04c18ae01f6da465c87ff",
       "version_major": 2,
       "version_minor": 0
      },
      "text/plain": [
       "  0%|          | 0/1000 [00:00<?, ?it/s]"
      ]
     },
     "metadata": {},
     "output_type": "display_data"
    },
    {
     "name": "stdout",
     "output_type": "stream",
     "text": [
      "Percentage of Invalid Sets: 0.127\n",
      "Average Set Size: 19\n",
      "*********     Round 1: Early Stop Triggered at epoch 1362.    *********\n",
      "Change in noise variance: 0.0470\n",
      "*********             Velocity Refinement Round 2             *********\n",
      "*********     Round 2: Early Stop Triggered at epoch 1486.    *********\n",
      "Change in noise variance: 0.0043\n",
      "Change in x0: 0.2202\n",
      "*********             Velocity Refinement Round 3             *********\n",
      "*********     Round 3: Early Stop Triggered at epoch 1523.    *********\n",
      "Change in noise variance: 0.0005\n",
      "Change in x0: 0.1088\n",
      "*********             Velocity Refinement Round 4             *********\n",
      "*********     Round 4: Early Stop Triggered at epoch 1570.    *********\n",
      "Change in noise variance: 0.0000\n",
      "Change in x0: 0.0795\n",
      "*********             Velocity Refinement Round 5             *********\n",
      "*********     Round 5: Early Stop Triggered at epoch 2031.    *********\n",
      "Change in noise variance: 0.0000\n",
      "Change in x0: 0.0610\n",
      "*********             Velocity Refinement Round 6             *********\n",
      "*********     Round 6: Early Stop Triggered at epoch 2065.    *********\n",
      "Change in noise variance: 0.0000\n",
      "Change in x0: 0.1082\n",
      "*********             Velocity Refinement Round 7             *********\n",
      "Stage 2: Early Stop Triggered at round 6.\n",
      "*********              Finished. Total Time =   0 h :  2 m : 10 s             *********\n",
      "Final: Train ELBO = 1062.135,\tTest ELBO = 1038.165\n",
      "Run 12, file /ictstr01/groups/ml01/workspace/yifan.chen/regvelo_reproducibility/data/dyngen/complexity_1/processed/simulation_2.zarr.\n",
      "Estimating ODE parameters...\n"
     ]
    },
    {
     "data": {
      "application/json": {
       "ascii": false,
       "bar_format": null,
       "colour": null,
       "elapsed": 0.003599882125854492,
       "initial": 0,
       "n": 0,
       "ncols": null,
       "nrows": null,
       "postfix": null,
       "prefix": "",
       "rate": null,
       "total": 690,
       "unit": "it",
       "unit_divisor": 1000,
       "unit_scale": false
      },
      "application/vnd.jupyter.widget-view+json": {
       "model_id": "988f01892a69419b9667e17cc1417b53",
       "version_major": 2,
       "version_minor": 0
      },
      "text/plain": [
       "  0%|          | 0/690 [00:00<?, ?it/s]"
      ]
     },
     "metadata": {},
     "output_type": "display_data"
    },
    {
     "name": "stdout",
     "output_type": "stream",
     "text": [
      "Detected 424 velocity genes.\n",
      "Estimating the variance...\n"
     ]
    },
    {
     "data": {
      "application/json": {
       "ascii": false,
       "bar_format": null,
       "colour": null,
       "elapsed": 0.011906623840332031,
       "initial": 0,
       "n": 0,
       "ncols": null,
       "nrows": null,
       "postfix": null,
       "prefix": "",
       "rate": null,
       "total": 690,
       "unit": "it",
       "unit_divisor": 1000,
       "unit_scale": false
      },
      "application/vnd.jupyter.widget-view+json": {
       "model_id": "82375c6191e9431684e9e7c9704f013e",
       "version_major": 2,
       "version_minor": 0
      },
      "text/plain": [
       "  0%|          | 0/690 [00:00<?, ?it/s]"
      ]
     },
     "metadata": {},
     "output_type": "display_data"
    },
    {
     "name": "stdout",
     "output_type": "stream",
     "text": [
      "Initialization using the steady-state and dynamical models.\n",
      "Reinitialize the regular ODE parameters based on estimated global latent time.\n"
     ]
    },
    {
     "data": {
      "application/json": {
       "ascii": false,
       "bar_format": null,
       "colour": null,
       "elapsed": 0.0030753612518310547,
       "initial": 0,
       "n": 0,
       "ncols": null,
       "nrows": null,
       "postfix": null,
       "prefix": "",
       "rate": null,
       "total": 690,
       "unit": "it",
       "unit_divisor": 1000,
       "unit_scale": false
      },
      "application/vnd.jupyter.widget-view+json": {
       "model_id": "5abeea0661ef45e1b95b6ab016dd30b6",
       "version_major": 2,
       "version_minor": 0
      },
      "text/plain": [
       "  0%|          | 0/690 [00:00<?, ?it/s]"
      ]
     },
     "metadata": {},
     "output_type": "display_data"
    },
    {
     "name": "stdout",
     "output_type": "stream",
     "text": [
      "3 clusters detected based on gene co-expression.\n",
      "(0.63, 0.7924425318102936), (0.37, 0.25047287353531905)\n",
      "(0.32, 0.39095042714182476), (0.68, 0.9377617670621354)\n",
      "(0.51, 0.35416668477069335), (0.49, 0.8927600435275674)\n",
      "KS-test result: [0. 0. 0.]\n",
      "Initial induction: 431, repression: 259/690\n",
      "Learning Rate based on Data Sparsity: 0.0000\n",
      "--------------------------- Train a VeloVAE ---------------------------\n",
      "*********        Creating Training/Validation Datasets        *********\n",
      "*********                      Finished.                      *********\n",
      "*********                 Creating optimizers                 *********\n",
      "*********                      Finished.                      *********\n",
      "*********                    Start training                   *********\n",
      "*********                      Stage  1                       *********\n",
      "Total Number of Iterations Per Epoch: 6, test iteration: 10\n",
      "*********                      Stage  2                       *********\n",
      "*********             Velocity Refinement Round 1             *********\n"
     ]
    },
    {
     "data": {
      "application/json": {
       "ascii": false,
       "bar_format": null,
       "colour": null,
       "elapsed": 0.004723072052001953,
       "initial": 0,
       "n": 0,
       "ncols": null,
       "nrows": null,
       "postfix": null,
       "prefix": "",
       "rate": null,
       "total": 1000,
       "unit": "it",
       "unit_divisor": 1000,
       "unit_scale": false
      },
      "application/vnd.jupyter.widget-view+json": {
       "model_id": "8b23ec14fc5848eea1dd98424908472a",
       "version_major": 2,
       "version_minor": 0
      },
      "text/plain": [
       "  0%|          | 0/1000 [00:00<?, ?it/s]"
      ]
     },
     "metadata": {},
     "output_type": "display_data"
    },
    {
     "name": "stdout",
     "output_type": "stream",
     "text": [
      "Percentage of Invalid Sets: 0.028\n",
      "Average Set Size: 21\n",
      "*********     Round 1: Early Stop Triggered at epoch 1009.    *********\n",
      "Change in noise variance: 0.2019\n",
      "*********             Velocity Refinement Round 2             *********\n",
      "*********     Round 2: Early Stop Triggered at epoch 1018.    *********\n",
      "Change in noise variance: 0.0068\n",
      "Change in x0: 0.9346\n",
      "*********             Velocity Refinement Round 3             *********\n",
      "*********     Round 3: Early Stop Triggered at epoch 1027.    *********\n",
      "Change in noise variance: 0.0025\n",
      "Change in x0: 0.6240\n",
      "*********             Velocity Refinement Round 4             *********\n",
      "*********     Round 4: Early Stop Triggered at epoch 1036.    *********\n",
      "Change in noise variance: 0.0014\n",
      "Change in x0: 0.4430\n",
      "*********             Velocity Refinement Round 5             *********\n",
      "*********     Round 5: Early Stop Triggered at epoch 1043.    *********\n",
      "Change in noise variance: 0.0009\n",
      "Change in x0: 0.3600\n",
      "*********             Velocity Refinement Round 6             *********\n",
      "*********     Round 6: Early Stop Triggered at epoch 1050.    *********\n",
      "Change in noise variance: 0.0000\n",
      "Change in x0: 0.2929\n",
      "*********             Velocity Refinement Round 7             *********\n",
      "*********     Round 7: Early Stop Triggered at epoch 1057.    *********\n",
      "Change in noise variance: 0.0000\n",
      "Change in x0: 0.2684\n",
      "*********             Velocity Refinement Round 8             *********\n",
      "*********     Round 8: Early Stop Triggered at epoch 1064.    *********\n",
      "Change in noise variance: 0.0000\n",
      "Change in x0: 0.2134\n",
      "*********             Velocity Refinement Round 9             *********\n",
      "*********     Round 9: Early Stop Triggered at epoch 1071.    *********\n",
      "Change in noise variance: 0.0000\n",
      "Change in x0: 0.2112\n",
      "*********             Velocity Refinement Round 10             *********\n",
      "Stage 2: Early Stop Triggered at round 9.\n",
      "*********              Finished. Total Time =   0 h :  1 m : 13 s             *********\n",
      "Final: Train ELBO = -1478.288,\tTest ELBO = -1538.980\n",
      "Run 13, file /ictstr01/groups/ml01/workspace/yifan.chen/regvelo_reproducibility/data/dyngen/complexity_1/processed/simulation_16.zarr.\n",
      "Estimating ODE parameters...\n"
     ]
    },
    {
     "data": {
      "application/json": {
       "ascii": false,
       "bar_format": null,
       "colour": null,
       "elapsed": 0.010319232940673828,
       "initial": 0,
       "n": 0,
       "ncols": null,
       "nrows": null,
       "postfix": null,
       "prefix": "",
       "rate": null,
       "total": 536,
       "unit": "it",
       "unit_divisor": 1000,
       "unit_scale": false
      },
      "application/vnd.jupyter.widget-view+json": {
       "model_id": "853af735841843a19b6b7fdb0ad8f244",
       "version_major": 2,
       "version_minor": 0
      },
      "text/plain": [
       "  0%|          | 0/536 [00:00<?, ?it/s]"
      ]
     },
     "metadata": {},
     "output_type": "display_data"
    },
    {
     "name": "stdout",
     "output_type": "stream",
     "text": [
      "Detected 481 velocity genes.\n",
      "Estimating the variance...\n"
     ]
    },
    {
     "data": {
      "application/json": {
       "ascii": false,
       "bar_format": null,
       "colour": null,
       "elapsed": 0.004564762115478516,
       "initial": 0,
       "n": 0,
       "ncols": null,
       "nrows": null,
       "postfix": null,
       "prefix": "",
       "rate": null,
       "total": 536,
       "unit": "it",
       "unit_divisor": 1000,
       "unit_scale": false
      },
      "application/vnd.jupyter.widget-view+json": {
       "model_id": "d71a601ebd82446da59df68e7562003f",
       "version_major": 2,
       "version_minor": 0
      },
      "text/plain": [
       "  0%|          | 0/536 [00:00<?, ?it/s]"
      ]
     },
     "metadata": {},
     "output_type": "display_data"
    },
    {
     "name": "stdout",
     "output_type": "stream",
     "text": [
      "Initialization using the steady-state and dynamical models.\n",
      "Reinitialize the regular ODE parameters based on estimated global latent time.\n"
     ]
    },
    {
     "data": {
      "application/json": {
       "ascii": false,
       "bar_format": null,
       "colour": null,
       "elapsed": 0.0027892589569091797,
       "initial": 0,
       "n": 0,
       "ncols": null,
       "nrows": null,
       "postfix": null,
       "prefix": "",
       "rate": null,
       "total": 536,
       "unit": "it",
       "unit_divisor": 1000,
       "unit_scale": false
      },
      "application/vnd.jupyter.widget-view+json": {
       "model_id": "10f65e0826104e9e9b21729a5e50cefc",
       "version_major": 2,
       "version_minor": 0
      },
      "text/plain": [
       "  0%|          | 0/536 [00:00<?, ?it/s]"
      ]
     },
     "metadata": {},
     "output_type": "display_data"
    },
    {
     "name": "stdout",
     "output_type": "stream",
     "text": [
      "3 clusters detected based on gene co-expression.\n",
      "KS-test result: [1. 1. 1.]\n",
      "Assign cluster 1 to repressive\n",
      "Initial induction: 325, repression: 211/536\n",
      "Learning Rate based on Data Sparsity: 0.0002\n",
      "--------------------------- Train a VeloVAE ---------------------------\n",
      "*********        Creating Training/Validation Datasets        *********\n",
      "*********                      Finished.                      *********\n",
      "*********                 Creating optimizers                 *********\n",
      "*********                      Finished.                      *********\n",
      "*********                    Start training                   *********\n",
      "*********                      Stage  1                       *********\n",
      "Total Number of Iterations Per Epoch: 6, test iteration: 10\n",
      "*********       Stage 1: Early Stop Triggered at epoch 729.       *********\n",
      "*********                      Stage  2                       *********\n",
      "*********             Velocity Refinement Round 1             *********\n"
     ]
    },
    {
     "data": {
      "application/json": {
       "ascii": false,
       "bar_format": null,
       "colour": null,
       "elapsed": 0.0039942264556884766,
       "initial": 0,
       "n": 0,
       "ncols": null,
       "nrows": null,
       "postfix": null,
       "prefix": "",
       "rate": null,
       "total": 1000,
       "unit": "it",
       "unit_divisor": 1000,
       "unit_scale": false
      },
      "application/vnd.jupyter.widget-view+json": {
       "model_id": "1bd6699716ab45fc95c030e17750bc74",
       "version_major": 2,
       "version_minor": 0
      },
      "text/plain": [
       "  0%|          | 0/1000 [00:00<?, ?it/s]"
      ]
     },
     "metadata": {},
     "output_type": "display_data"
    },
    {
     "name": "stdout",
     "output_type": "stream",
     "text": [
      "Percentage of Invalid Sets: 0.069\n",
      "Average Set Size: 20\n",
      "Change in noise variance: 0.0514\n",
      "*********             Velocity Refinement Round 2             *********\n",
      "*********     Round 2: Early Stop Triggered at epoch 1525.    *********\n",
      "Change in noise variance: 0.0086\n",
      "Change in x0: 0.2753\n",
      "*********             Velocity Refinement Round 3             *********\n",
      "*********     Round 3: Early Stop Triggered at epoch 1859.    *********\n",
      "Change in noise variance: 0.0018\n",
      "Change in x0: 0.1641\n",
      "*********             Velocity Refinement Round 4             *********\n",
      "*********     Round 4: Early Stop Triggered at epoch 1908.    *********\n",
      "Change in noise variance: 0.0011\n",
      "Change in x0: 0.1540\n",
      "*********             Velocity Refinement Round 5             *********\n",
      "*********     Round 5: Early Stop Triggered at epoch 1972.    *********\n",
      "Change in noise variance: 0.0003\n",
      "Change in x0: 0.1131\n",
      "*********             Velocity Refinement Round 6             *********\n",
      "*********     Round 6: Early Stop Triggered at epoch 2159.    *********\n",
      "Change in noise variance: 0.0000\n",
      "Change in x0: 0.1023\n",
      "*********             Velocity Refinement Round 7             *********\n",
      "*********     Round 7: Early Stop Triggered at epoch 2445.    *********\n",
      "Change in noise variance: 0.0000\n",
      "Change in x0: 0.0898\n",
      "*********             Velocity Refinement Round 8             *********\n",
      "*********     Round 8: Early Stop Triggered at epoch 2641.    *********\n",
      "Change in noise variance: 0.0000\n",
      "Change in x0: 0.0932\n",
      "*********             Velocity Refinement Round 9             *********\n",
      "Stage 2: Early Stop Triggered at round 8.\n",
      "*********              Finished. Total Time =   0 h :  2 m : 44 s             *********\n",
      "Final: Train ELBO = 1187.731,\tTest ELBO = 1172.693\n",
      "Run 14, file /ictstr01/groups/ml01/workspace/yifan.chen/regvelo_reproducibility/data/dyngen/complexity_1/processed/simulation_1.zarr.\n",
      "Estimating ODE parameters...\n"
     ]
    },
    {
     "data": {
      "application/json": {
       "ascii": false,
       "bar_format": null,
       "colour": null,
       "elapsed": 0.0034465789794921875,
       "initial": 0,
       "n": 0,
       "ncols": null,
       "nrows": null,
       "postfix": null,
       "prefix": "",
       "rate": null,
       "total": 368,
       "unit": "it",
       "unit_divisor": 1000,
       "unit_scale": false
      },
      "application/vnd.jupyter.widget-view+json": {
       "model_id": "f4126b064c6c43dbbbab4e8808d757b5",
       "version_major": 2,
       "version_minor": 0
      },
      "text/plain": [
       "  0%|          | 0/368 [00:00<?, ?it/s]"
      ]
     },
     "metadata": {},
     "output_type": "display_data"
    },
    {
     "name": "stdout",
     "output_type": "stream",
     "text": [
      "Detected 345 velocity genes.\n",
      "Estimating the variance...\n"
     ]
    },
    {
     "data": {
      "application/json": {
       "ascii": false,
       "bar_format": null,
       "colour": null,
       "elapsed": 0.011766195297241211,
       "initial": 0,
       "n": 0,
       "ncols": null,
       "nrows": null,
       "postfix": null,
       "prefix": "",
       "rate": null,
       "total": 368,
       "unit": "it",
       "unit_divisor": 1000,
       "unit_scale": false
      },
      "application/vnd.jupyter.widget-view+json": {
       "model_id": "cfbd62ce982743d0a3fc5617900b025f",
       "version_major": 2,
       "version_minor": 0
      },
      "text/plain": [
       "  0%|          | 0/368 [00:00<?, ?it/s]"
      ]
     },
     "metadata": {},
     "output_type": "display_data"
    },
    {
     "name": "stdout",
     "output_type": "stream",
     "text": [
      "Initialization using the steady-state and dynamical models.\n",
      "Reinitialize the regular ODE parameters based on estimated global latent time.\n"
     ]
    },
    {
     "data": {
      "application/json": {
       "ascii": false,
       "bar_format": null,
       "colour": null,
       "elapsed": 0.0028069019317626953,
       "initial": 0,
       "n": 0,
       "ncols": null,
       "nrows": null,
       "postfix": null,
       "prefix": "",
       "rate": null,
       "total": 368,
       "unit": "it",
       "unit_divisor": 1000,
       "unit_scale": false
      },
      "application/vnd.jupyter.widget-view+json": {
       "model_id": "565c0f3abde84aed8298672dfd8644fe",
       "version_major": 2,
       "version_minor": 0
      },
      "text/plain": [
       "  0%|          | 0/368 [00:00<?, ?it/s]"
      ]
     },
     "metadata": {},
     "output_type": "display_data"
    },
    {
     "name": "stdout",
     "output_type": "stream",
     "text": [
      "3 clusters detected based on gene co-expression.\n",
      "KS-test result: [1. 1. 1.]\n",
      "Assign cluster 1 to repressive\n",
      "Initial induction: 232, repression: 136/368\n",
      "Learning Rate based on Data Sparsity: 0.0004\n",
      "--------------------------- Train a VeloVAE ---------------------------\n",
      "*********        Creating Training/Validation Datasets        *********\n",
      "*********                      Finished.                      *********\n",
      "*********                 Creating optimizers                 *********\n",
      "*********                      Finished.                      *********\n",
      "*********                    Start training                   *********\n",
      "*********                      Stage  1                       *********\n",
      "Total Number of Iterations Per Epoch: 6, test iteration: 10\n",
      "*********       Stage 1: Early Stop Triggered at epoch 989.       *********\n",
      "*********                      Stage  2                       *********\n",
      "*********             Velocity Refinement Round 1             *********\n"
     ]
    },
    {
     "data": {
      "application/json": {
       "ascii": false,
       "bar_format": null,
       "colour": null,
       "elapsed": 0.005980968475341797,
       "initial": 0,
       "n": 0,
       "ncols": null,
       "nrows": null,
       "postfix": null,
       "prefix": "",
       "rate": null,
       "total": 1000,
       "unit": "it",
       "unit_divisor": 1000,
       "unit_scale": false
      },
      "application/vnd.jupyter.widget-view+json": {
       "model_id": "899c308f808a4fd7ae06d1d3a9353d85",
       "version_major": 2,
       "version_minor": 0
      },
      "text/plain": [
       "  0%|          | 0/1000 [00:00<?, ?it/s]"
      ]
     },
     "metadata": {},
     "output_type": "display_data"
    },
    {
     "name": "stdout",
     "output_type": "stream",
     "text": [
      "Percentage of Invalid Sets: 0.033\n",
      "Average Set Size: 21\n",
      "*********     Round 1: Early Stop Triggered at epoch 1208.    *********\n",
      "Change in noise variance: 0.0488\n",
      "*********             Velocity Refinement Round 2             *********\n",
      "*********     Round 2: Early Stop Triggered at epoch 1290.    *********\n",
      "Change in noise variance: 0.0030\n",
      "Change in x0: 0.2512\n",
      "*********             Velocity Refinement Round 3             *********\n",
      "*********     Round 3: Early Stop Triggered at epoch 1311.    *********\n",
      "Change in noise variance: 0.0003\n",
      "Change in x0: 0.1324\n",
      "*********             Velocity Refinement Round 4             *********\n",
      "*********     Round 4: Early Stop Triggered at epoch 1683.    *********\n",
      "Change in noise variance: 0.0000\n",
      "Change in x0: 0.0933\n",
      "*********             Velocity Refinement Round 5             *********\n",
      "*********     Round 5: Early Stop Triggered at epoch 1847.    *********\n",
      "Change in noise variance: 0.0000\n",
      "Change in x0: 0.1614\n",
      "*********             Velocity Refinement Round 6             *********\n",
      "Stage 2: Early Stop Triggered at round 5.\n",
      "*********              Finished. Total Time =   0 h :  1 m : 56 s             *********\n",
      "Final: Train ELBO = 710.677,\tTest ELBO = 692.182\n",
      "Run 15, file /ictstr01/groups/ml01/workspace/yifan.chen/regvelo_reproducibility/data/dyngen/complexity_1/processed/simulation_18.zarr.\n",
      "Estimating ODE parameters...\n"
     ]
    },
    {
     "data": {
      "application/json": {
       "ascii": false,
       "bar_format": null,
       "colour": null,
       "elapsed": 0.0037093162536621094,
       "initial": 0,
       "n": 0,
       "ncols": null,
       "nrows": null,
       "postfix": null,
       "prefix": "",
       "rate": null,
       "total": 364,
       "unit": "it",
       "unit_divisor": 1000,
       "unit_scale": false
      },
      "application/vnd.jupyter.widget-view+json": {
       "model_id": "05aaac55967d4aed98dfaca32ab89ac6",
       "version_major": 2,
       "version_minor": 0
      },
      "text/plain": [
       "  0%|          | 0/364 [00:00<?, ?it/s]"
      ]
     },
     "metadata": {},
     "output_type": "display_data"
    },
    {
     "name": "stdout",
     "output_type": "stream",
     "text": [
      "Detected 327 velocity genes.\n",
      "Estimating the variance...\n"
     ]
    },
    {
     "data": {
      "application/json": {
       "ascii": false,
       "bar_format": null,
       "colour": null,
       "elapsed": 0.010276317596435547,
       "initial": 0,
       "n": 0,
       "ncols": null,
       "nrows": null,
       "postfix": null,
       "prefix": "",
       "rate": null,
       "total": 364,
       "unit": "it",
       "unit_divisor": 1000,
       "unit_scale": false
      },
      "application/vnd.jupyter.widget-view+json": {
       "model_id": "1f9647399e6a4399b2b1398fd5214358",
       "version_major": 2,
       "version_minor": 0
      },
      "text/plain": [
       "  0%|          | 0/364 [00:00<?, ?it/s]"
      ]
     },
     "metadata": {},
     "output_type": "display_data"
    },
    {
     "name": "stdout",
     "output_type": "stream",
     "text": [
      "Initialization using the steady-state and dynamical models.\n",
      "Reinitialize the regular ODE parameters based on estimated global latent time.\n"
     ]
    },
    {
     "data": {
      "application/json": {
       "ascii": false,
       "bar_format": null,
       "colour": null,
       "elapsed": 0.002715587615966797,
       "initial": 0,
       "n": 0,
       "ncols": null,
       "nrows": null,
       "postfix": null,
       "prefix": "",
       "rate": null,
       "total": 364,
       "unit": "it",
       "unit_divisor": 1000,
       "unit_scale": false
      },
      "application/vnd.jupyter.widget-view+json": {
       "model_id": "0bc3e99446dd4a258e2366450540bec1",
       "version_major": 2,
       "version_minor": 0
      },
      "text/plain": [
       "  0%|          | 0/364 [00:00<?, ?it/s]"
      ]
     },
     "metadata": {},
     "output_type": "display_data"
    },
    {
     "name": "stdout",
     "output_type": "stream",
     "text": [
      "3 clusters detected based on gene co-expression.\n",
      "(0.51, 0.3274513378440137), (0.49, 0.8157796920163066)\n",
      "KS-test result: [1. 1. 0.]\n",
      "Initial induction: 264, repression: 100/364\n",
      "Learning Rate based on Data Sparsity: 0.0002\n",
      "--------------------------- Train a VeloVAE ---------------------------\n",
      "*********        Creating Training/Validation Datasets        *********\n",
      "*********                      Finished.                      *********\n",
      "*********                 Creating optimizers                 *********\n",
      "*********                      Finished.                      *********\n",
      "*********                    Start training                   *********\n",
      "*********                      Stage  1                       *********\n",
      "Total Number of Iterations Per Epoch: 6, test iteration: 10\n",
      "*********       Stage 1: Early Stop Triggered at epoch 914.       *********\n",
      "*********                      Stage  2                       *********\n",
      "*********             Velocity Refinement Round 1             *********\n"
     ]
    },
    {
     "data": {
      "application/json": {
       "ascii": false,
       "bar_format": null,
       "colour": null,
       "elapsed": 0.003387928009033203,
       "initial": 0,
       "n": 0,
       "ncols": null,
       "nrows": null,
       "postfix": null,
       "prefix": "",
       "rate": null,
       "total": 1000,
       "unit": "it",
       "unit_divisor": 1000,
       "unit_scale": false
      },
      "application/vnd.jupyter.widget-view+json": {
       "model_id": "2f3cbf2ffb614fc9bc987fcb8d79b3b3",
       "version_major": 2,
       "version_minor": 0
      },
      "text/plain": [
       "  0%|          | 0/1000 [00:00<?, ?it/s]"
      ]
     },
     "metadata": {},
     "output_type": "display_data"
    },
    {
     "name": "stdout",
     "output_type": "stream",
     "text": [
      "Percentage of Invalid Sets: 0.031\n",
      "Average Set Size: 20\n",
      "Change in noise variance: 0.0569\n",
      "*********             Velocity Refinement Round 2             *********\n",
      "*********     Round 2: Early Stop Triggered at epoch 1518.    *********\n",
      "Change in noise variance: 0.0049\n",
      "Change in x0: 0.2009\n",
      "*********             Velocity Refinement Round 3             *********\n",
      "*********     Round 3: Early Stop Triggered at epoch 1917.    *********\n",
      "Change in noise variance: 0.0007\n",
      "Change in x0: 0.1196\n",
      "*********             Velocity Refinement Round 4             *********\n",
      "*********     Round 4: Early Stop Triggered at epoch 2044.    *********\n",
      "Change in noise variance: 0.0000\n",
      "Change in x0: 0.1261\n",
      "*********             Velocity Refinement Round 5             *********\n",
      "Stage 2: Early Stop Triggered at round 4.\n",
      "*********              Finished. Total Time =   0 h :  2 m :  7 s             *********\n",
      "Final: Train ELBO = 840.124,\tTest ELBO = 827.789\n",
      "Run 16, file /ictstr01/groups/ml01/workspace/yifan.chen/regvelo_reproducibility/data/dyngen/complexity_1/processed/simulation_5.zarr.\n",
      "Estimating ODE parameters...\n"
     ]
    },
    {
     "data": {
      "application/json": {
       "ascii": false,
       "bar_format": null,
       "colour": null,
       "elapsed": 0.0034117698669433594,
       "initial": 0,
       "n": 0,
       "ncols": null,
       "nrows": null,
       "postfix": null,
       "prefix": "",
       "rate": null,
       "total": 282,
       "unit": "it",
       "unit_divisor": 1000,
       "unit_scale": false
      },
      "application/vnd.jupyter.widget-view+json": {
       "model_id": "92d89656acec45b2a5d467bfeb604ab3",
       "version_major": 2,
       "version_minor": 0
      },
      "text/plain": [
       "  0%|          | 0/282 [00:00<?, ?it/s]"
      ]
     },
     "metadata": {},
     "output_type": "display_data"
    },
    {
     "name": "stdout",
     "output_type": "stream",
     "text": [
      "Detected 262 velocity genes.\n",
      "Estimating the variance...\n"
     ]
    },
    {
     "data": {
      "application/json": {
       "ascii": false,
       "bar_format": null,
       "colour": null,
       "elapsed": 0.008765220642089844,
       "initial": 0,
       "n": 0,
       "ncols": null,
       "nrows": null,
       "postfix": null,
       "prefix": "",
       "rate": null,
       "total": 282,
       "unit": "it",
       "unit_divisor": 1000,
       "unit_scale": false
      },
      "application/vnd.jupyter.widget-view+json": {
       "model_id": "21455a55eaf144338a84fe0bc159a8e1",
       "version_major": 2,
       "version_minor": 0
      },
      "text/plain": [
       "  0%|          | 0/282 [00:00<?, ?it/s]"
      ]
     },
     "metadata": {},
     "output_type": "display_data"
    },
    {
     "name": "stdout",
     "output_type": "stream",
     "text": [
      "Initialization using the steady-state and dynamical models.\n",
      "Reinitialize the regular ODE parameters based on estimated global latent time.\n"
     ]
    },
    {
     "data": {
      "application/json": {
       "ascii": false,
       "bar_format": null,
       "colour": null,
       "elapsed": 0.0026710033416748047,
       "initial": 0,
       "n": 0,
       "ncols": null,
       "nrows": null,
       "postfix": null,
       "prefix": "",
       "rate": null,
       "total": 282,
       "unit": "it",
       "unit_divisor": 1000,
       "unit_scale": false
      },
      "application/vnd.jupyter.widget-view+json": {
       "model_id": "5c1968443de54d479317eb433a6eca0b",
       "version_major": 2,
       "version_minor": 0
      },
      "text/plain": [
       "  0%|          | 0/282 [00:00<?, ?it/s]"
      ]
     },
     "metadata": {},
     "output_type": "display_data"
    },
    {
     "name": "stdout",
     "output_type": "stream",
     "text": [
      "3 clusters detected based on gene co-expression.\n",
      "KS-test result: [1. 1. 1.]\n",
      "Assign cluster 1 to repressive\n",
      "Initial induction: 182, repression: 100/282\n",
      "Learning Rate based on Data Sparsity: 0.0003\n",
      "--------------------------- Train a VeloVAE ---------------------------\n",
      "*********        Creating Training/Validation Datasets        *********\n",
      "*********                      Finished.                      *********\n",
      "*********                 Creating optimizers                 *********\n",
      "*********                      Finished.                      *********\n",
      "*********                    Start training                   *********\n",
      "*********                      Stage  1                       *********\n",
      "Total Number of Iterations Per Epoch: 6, test iteration: 10\n",
      "*********       Stage 1: Early Stop Triggered at epoch 601.       *********\n",
      "*********                      Stage  2                       *********\n",
      "*********             Velocity Refinement Round 1             *********\n"
     ]
    },
    {
     "data": {
      "application/json": {
       "ascii": false,
       "bar_format": null,
       "colour": null,
       "elapsed": 0.013057947158813477,
       "initial": 0,
       "n": 0,
       "ncols": null,
       "nrows": null,
       "postfix": null,
       "prefix": "",
       "rate": null,
       "total": 1000,
       "unit": "it",
       "unit_divisor": 1000,
       "unit_scale": false
      },
      "application/vnd.jupyter.widget-view+json": {
       "model_id": "638e0a0df74544bdb34bed6b212304e4",
       "version_major": 2,
       "version_minor": 0
      },
      "text/plain": [
       "  0%|          | 0/1000 [00:00<?, ?it/s]"
      ]
     },
     "metadata": {},
     "output_type": "display_data"
    },
    {
     "name": "stdout",
     "output_type": "stream",
     "text": [
      "Percentage of Invalid Sets: 0.227\n",
      "Average Set Size: 20\n",
      "*********     Round 1: Early Stop Triggered at epoch 1045.    *********\n",
      "Change in noise variance: 0.0318\n",
      "*********             Velocity Refinement Round 2             *********\n",
      "*********     Round 2: Early Stop Triggered at epoch 1059.    *********\n",
      "Change in noise variance: 0.0019\n",
      "Change in x0: 0.4882\n",
      "*********             Velocity Refinement Round 3             *********\n",
      "*********     Round 3: Early Stop Triggered at epoch 1078.    *********\n",
      "Change in noise variance: 0.0017\n",
      "Change in x0: 0.1529\n",
      "*********             Velocity Refinement Round 4             *********\n",
      "*********     Round 4: Early Stop Triggered at epoch 1099.    *********\n",
      "Change in noise variance: 0.0003\n",
      "Change in x0: 0.0886\n",
      "*********             Velocity Refinement Round 5             *********\n",
      "*********     Round 5: Early Stop Triggered at epoch 1305.    *********\n",
      "Change in noise variance: 0.0000\n",
      "Change in x0: 0.2280\n",
      "*********             Velocity Refinement Round 6             *********\n",
      "Stage 2: Early Stop Triggered at round 5.\n",
      "*********              Finished. Total Time =   0 h :  1 m : 22 s             *********\n",
      "Final: Train ELBO = 262.477,\tTest ELBO = 261.926\n",
      "Run 17, file /ictstr01/groups/ml01/workspace/yifan.chen/regvelo_reproducibility/data/dyngen/complexity_1/processed/simulation_10.zarr.\n",
      "Estimating ODE parameters...\n"
     ]
    },
    {
     "data": {
      "application/json": {
       "ascii": false,
       "bar_format": null,
       "colour": null,
       "elapsed": 0.0033044815063476562,
       "initial": 0,
       "n": 0,
       "ncols": null,
       "nrows": null,
       "postfix": null,
       "prefix": "",
       "rate": null,
       "total": 548,
       "unit": "it",
       "unit_divisor": 1000,
       "unit_scale": false
      },
      "application/vnd.jupyter.widget-view+json": {
       "model_id": "b0a8f7f32eb8400abbb042bed01543f4",
       "version_major": 2,
       "version_minor": 0
      },
      "text/plain": [
       "  0%|          | 0/548 [00:00<?, ?it/s]"
      ]
     },
     "metadata": {},
     "output_type": "display_data"
    },
    {
     "name": "stdout",
     "output_type": "stream",
     "text": [
      "Detected 306 velocity genes.\n",
      "Estimating the variance...\n"
     ]
    },
    {
     "data": {
      "application/json": {
       "ascii": false,
       "bar_format": null,
       "colour": null,
       "elapsed": 0.011915445327758789,
       "initial": 0,
       "n": 0,
       "ncols": null,
       "nrows": null,
       "postfix": null,
       "prefix": "",
       "rate": null,
       "total": 548,
       "unit": "it",
       "unit_divisor": 1000,
       "unit_scale": false
      },
      "application/vnd.jupyter.widget-view+json": {
       "model_id": "fb60a604455448d8adbf81e0fbec3f10",
       "version_major": 2,
       "version_minor": 0
      },
      "text/plain": [
       "  0%|          | 0/548 [00:00<?, ?it/s]"
      ]
     },
     "metadata": {},
     "output_type": "display_data"
    },
    {
     "name": "stdout",
     "output_type": "stream",
     "text": [
      "Initialization using the steady-state and dynamical models.\n",
      "Reinitialize the regular ODE parameters based on estimated global latent time.\n"
     ]
    },
    {
     "data": {
      "application/json": {
       "ascii": false,
       "bar_format": null,
       "colour": null,
       "elapsed": 0.0029544830322265625,
       "initial": 0,
       "n": 0,
       "ncols": null,
       "nrows": null,
       "postfix": null,
       "prefix": "",
       "rate": null,
       "total": 548,
       "unit": "it",
       "unit_divisor": 1000,
       "unit_scale": false
      },
      "application/vnd.jupyter.widget-view+json": {
       "model_id": "7d2c21f2409843a4ab288c6b6c05f32f",
       "version_major": 2,
       "version_minor": 0
      },
      "text/plain": [
       "  0%|          | 0/548 [00:00<?, ?it/s]"
      ]
     },
     "metadata": {},
     "output_type": "display_data"
    },
    {
     "name": "stdout",
     "output_type": "stream",
     "text": [
      "3 clusters detected based on gene co-expression.\n",
      "(0.44, 0.21427183785803913), (0.56, 0.8053766111264617)\n",
      "(0.65, 0.8997967816308998), (0.35, 0.35802780150367175)\n",
      "KS-test result: [0. 1. 0.]\n",
      "Initial induction: 379, repression: 169/548\n",
      "Learning Rate based on Data Sparsity: 0.0000\n",
      "--------------------------- Train a VeloVAE ---------------------------\n",
      "*********        Creating Training/Validation Datasets        *********\n",
      "*********                      Finished.                      *********\n",
      "*********                 Creating optimizers                 *********\n",
      "*********                      Finished.                      *********\n",
      "*********                    Start training                   *********\n",
      "*********                      Stage  1                       *********\n",
      "Total Number of Iterations Per Epoch: 6, test iteration: 10\n",
      "*********                      Stage  2                       *********\n",
      "*********             Velocity Refinement Round 1             *********\n"
     ]
    },
    {
     "data": {
      "application/json": {
       "ascii": false,
       "bar_format": null,
       "colour": null,
       "elapsed": 0.003332376480102539,
       "initial": 0,
       "n": 0,
       "ncols": null,
       "nrows": null,
       "postfix": null,
       "prefix": "",
       "rate": null,
       "total": 1000,
       "unit": "it",
       "unit_divisor": 1000,
       "unit_scale": false
      },
      "application/vnd.jupyter.widget-view+json": {
       "model_id": "54bad2b762784d489168445ce9e4458e",
       "version_major": 2,
       "version_minor": 0
      },
      "text/plain": [
       "  0%|          | 0/1000 [00:00<?, ?it/s]"
      ]
     },
     "metadata": {},
     "output_type": "display_data"
    },
    {
     "name": "stdout",
     "output_type": "stream",
     "text": [
      "Percentage of Invalid Sets: 0.029\n",
      "Average Set Size: 20\n",
      "*********     Round 1: Early Stop Triggered at epoch 1009.    *********\n",
      "Change in noise variance: 0.2133\n",
      "*********             Velocity Refinement Round 2             *********\n",
      "*********     Round 2: Early Stop Triggered at epoch 1018.    *********\n",
      "Change in noise variance: 0.0067\n",
      "Change in x0: 0.7306\n",
      "*********             Velocity Refinement Round 3             *********\n",
      "*********     Round 3: Early Stop Triggered at epoch 1027.    *********\n",
      "Change in noise variance: 0.0089\n",
      "Change in x0: 0.5376\n",
      "*********             Velocity Refinement Round 4             *********\n",
      "*********     Round 4: Early Stop Triggered at epoch 1036.    *********\n",
      "Change in noise variance: 0.0057\n",
      "Change in x0: 0.4030\n",
      "*********             Velocity Refinement Round 5             *********\n",
      "*********     Round 5: Early Stop Triggered at epoch 1043.    *********\n",
      "Change in noise variance: 0.0064\n",
      "Change in x0: 0.3287\n",
      "*********             Velocity Refinement Round 6             *********\n",
      "*********     Round 6: Early Stop Triggered at epoch 1050.    *********\n",
      "Change in noise variance: 0.0031\n",
      "Change in x0: 0.2895\n",
      "*********             Velocity Refinement Round 7             *********\n",
      "*********     Round 7: Early Stop Triggered at epoch 1057.    *********\n",
      "Change in noise variance: 0.0031\n",
      "Change in x0: 0.2429\n",
      "*********             Velocity Refinement Round 8             *********\n",
      "*********     Round 8: Early Stop Triggered at epoch 1064.    *********\n",
      "Change in noise variance: 0.0017\n",
      "Change in x0: 0.2363\n",
      "*********             Velocity Refinement Round 9             *********\n",
      "*********     Round 9: Early Stop Triggered at epoch 1071.    *********\n",
      "Change in noise variance: 0.0014\n",
      "Change in x0: 0.2246\n",
      "*********             Velocity Refinement Round 10             *********\n",
      "*********     Round 10: Early Stop Triggered at epoch 1078.    *********\n",
      "Change in noise variance: 0.0008\n",
      "Change in x0: 0.2162\n",
      "*********             Velocity Refinement Round 11             *********\n",
      "Stage 2: Early Stop Triggered at round 10.\n",
      "*********              Finished. Total Time =   0 h :  1 m : 13 s             *********\n",
      "Final: Train ELBO = -1537.967,\tTest ELBO = -1512.033\n",
      "Run 18, file /ictstr01/groups/ml01/workspace/yifan.chen/regvelo_reproducibility/data/dyngen/complexity_1/processed/simulation_8.zarr.\n",
      "Estimating ODE parameters...\n"
     ]
    },
    {
     "data": {
      "application/json": {
       "ascii": false,
       "bar_format": null,
       "colour": null,
       "elapsed": 0.002982616424560547,
       "initial": 0,
       "n": 0,
       "ncols": null,
       "nrows": null,
       "postfix": null,
       "prefix": "",
       "rate": null,
       "total": 462,
       "unit": "it",
       "unit_divisor": 1000,
       "unit_scale": false
      },
      "application/vnd.jupyter.widget-view+json": {
       "model_id": "42cf45e92c0d403797c174a12944eaff",
       "version_major": 2,
       "version_minor": 0
      },
      "text/plain": [
       "  0%|          | 0/462 [00:00<?, ?it/s]"
      ]
     },
     "metadata": {},
     "output_type": "display_data"
    },
    {
     "name": "stdout",
     "output_type": "stream",
     "text": [
      "Detected 397 velocity genes.\n",
      "Estimating the variance...\n"
     ]
    },
    {
     "data": {
      "application/json": {
       "ascii": false,
       "bar_format": null,
       "colour": null,
       "elapsed": 0.010702848434448242,
       "initial": 0,
       "n": 0,
       "ncols": null,
       "nrows": null,
       "postfix": null,
       "prefix": "",
       "rate": null,
       "total": 462,
       "unit": "it",
       "unit_divisor": 1000,
       "unit_scale": false
      },
      "application/vnd.jupyter.widget-view+json": {
       "model_id": "66eaa2e7a8d949a2a815adad0eff9bba",
       "version_major": 2,
       "version_minor": 0
      },
      "text/plain": [
       "  0%|          | 0/462 [00:00<?, ?it/s]"
      ]
     },
     "metadata": {},
     "output_type": "display_data"
    },
    {
     "name": "stdout",
     "output_type": "stream",
     "text": [
      "Initialization using the steady-state and dynamical models.\n",
      "Reinitialize the regular ODE parameters based on estimated global latent time.\n"
     ]
    },
    {
     "data": {
      "application/json": {
       "ascii": false,
       "bar_format": null,
       "colour": null,
       "elapsed": 0.002740621566772461,
       "initial": 0,
       "n": 0,
       "ncols": null,
       "nrows": null,
       "postfix": null,
       "prefix": "",
       "rate": null,
       "total": 462,
       "unit": "it",
       "unit_divisor": 1000,
       "unit_scale": false
      },
      "application/vnd.jupyter.widget-view+json": {
       "model_id": "a756d729459c4adf94fcde801893ea22",
       "version_major": 2,
       "version_minor": 0
      },
      "text/plain": [
       "  0%|          | 0/462 [00:00<?, ?it/s]"
      ]
     },
     "metadata": {},
     "output_type": "display_data"
    },
    {
     "name": "stdout",
     "output_type": "stream",
     "text": [
      "3 clusters detected based on gene co-expression.\n",
      "KS-test result: [1. 1. 1.]\n",
      "Assign cluster 0 to repressive\n",
      "Initial induction: 295, repression: 167/462\n",
      "Learning Rate based on Data Sparsity: 0.0003\n",
      "--------------------------- Train a VeloVAE ---------------------------\n",
      "*********        Creating Training/Validation Datasets        *********\n",
      "*********                      Finished.                      *********\n",
      "*********                 Creating optimizers                 *********\n",
      "*********                      Finished.                      *********\n",
      "*********                    Start training                   *********\n",
      "*********                      Stage  1                       *********\n",
      "Total Number of Iterations Per Epoch: 6, test iteration: 10\n",
      "*********                      Stage  2                       *********\n",
      "*********             Velocity Refinement Round 1             *********\n"
     ]
    },
    {
     "data": {
      "application/json": {
       "ascii": false,
       "bar_format": null,
       "colour": null,
       "elapsed": 0.0038568973541259766,
       "initial": 0,
       "n": 0,
       "ncols": null,
       "nrows": null,
       "postfix": null,
       "prefix": "",
       "rate": null,
       "total": 1000,
       "unit": "it",
       "unit_divisor": 1000,
       "unit_scale": false
      },
      "application/vnd.jupyter.widget-view+json": {
       "model_id": "c48824b3e5114406ba32f9852f435091",
       "version_major": 2,
       "version_minor": 0
      },
      "text/plain": [
       "  0%|          | 0/1000 [00:00<?, ?it/s]"
      ]
     },
     "metadata": {},
     "output_type": "display_data"
    },
    {
     "name": "stdout",
     "output_type": "stream",
     "text": [
      "Percentage of Invalid Sets: 0.038\n",
      "Average Set Size: 20\n",
      "*********     Round 1: Early Stop Triggered at epoch 1459.    *********\n",
      "Change in noise variance: 0.0892\n",
      "*********             Velocity Refinement Round 2             *********\n",
      "*********     Round 2: Early Stop Triggered at epoch 1600.    *********\n",
      "Change in noise variance: 0.0031\n",
      "Change in x0: 0.2566\n",
      "*********             Velocity Refinement Round 3             *********\n",
      "*********     Round 3: Early Stop Triggered at epoch 1821.    *********\n",
      "Change in noise variance: 0.0007\n",
      "Change in x0: 0.1425\n",
      "*********             Velocity Refinement Round 4             *********\n",
      "*********     Round 4: Early Stop Triggered at epoch 1865.    *********\n",
      "Change in noise variance: 0.0000\n",
      "Change in x0: 0.1244\n",
      "*********             Velocity Refinement Round 5             *********\n",
      "*********     Round 5: Early Stop Triggered at epoch 1916.    *********\n",
      "Change in noise variance: 0.0000\n",
      "Change in x0: 0.0953\n",
      "*********             Velocity Refinement Round 6             *********\n",
      "*********     Round 6: Early Stop Triggered at epoch 1923.    *********\n",
      "Change in noise variance: 0.0000\n",
      "Change in x0: 0.0927\n",
      "*********             Velocity Refinement Round 7             *********\n",
      "Stage 2: Early Stop Triggered at round 6.\n",
      "*********              Finished. Total Time =   0 h :  2 m :  1 s             *********\n",
      "Final: Train ELBO = 1106.349,\tTest ELBO = 1071.547\n",
      "Run 19, file /ictstr01/groups/ml01/workspace/yifan.chen/regvelo_reproducibility/data/dyngen/complexity_1/processed/simulation_11.zarr.\n",
      "Estimating ODE parameters...\n"
     ]
    },
    {
     "data": {
      "application/json": {
       "ascii": false,
       "bar_format": null,
       "colour": null,
       "elapsed": 0.0036089420318603516,
       "initial": 0,
       "n": 0,
       "ncols": null,
       "nrows": null,
       "postfix": null,
       "prefix": "",
       "rate": null,
       "total": 377,
       "unit": "it",
       "unit_divisor": 1000,
       "unit_scale": false
      },
      "application/vnd.jupyter.widget-view+json": {
       "model_id": "2cd391d8ba61412489d505977960143e",
       "version_major": 2,
       "version_minor": 0
      },
      "text/plain": [
       "  0%|          | 0/377 [00:00<?, ?it/s]"
      ]
     },
     "metadata": {},
     "output_type": "display_data"
    },
    {
     "name": "stdout",
     "output_type": "stream",
     "text": [
      "Detected 346 velocity genes.\n",
      "Estimating the variance...\n"
     ]
    },
    {
     "data": {
      "application/json": {
       "ascii": false,
       "bar_format": null,
       "colour": null,
       "elapsed": 0.006123542785644531,
       "initial": 0,
       "n": 0,
       "ncols": null,
       "nrows": null,
       "postfix": null,
       "prefix": "",
       "rate": null,
       "total": 377,
       "unit": "it",
       "unit_divisor": 1000,
       "unit_scale": false
      },
      "application/vnd.jupyter.widget-view+json": {
       "model_id": "d48bd3109f0844988f810dd3b3000b14",
       "version_major": 2,
       "version_minor": 0
      },
      "text/plain": [
       "  0%|          | 0/377 [00:00<?, ?it/s]"
      ]
     },
     "metadata": {},
     "output_type": "display_data"
    },
    {
     "name": "stdout",
     "output_type": "stream",
     "text": [
      "Initialization using the steady-state and dynamical models.\n",
      "Reinitialize the regular ODE parameters based on estimated global latent time.\n"
     ]
    },
    {
     "data": {
      "application/json": {
       "ascii": false,
       "bar_format": null,
       "colour": null,
       "elapsed": 0.002749204635620117,
       "initial": 0,
       "n": 0,
       "ncols": null,
       "nrows": null,
       "postfix": null,
       "prefix": "",
       "rate": null,
       "total": 377,
       "unit": "it",
       "unit_divisor": 1000,
       "unit_scale": false
      },
      "application/vnd.jupyter.widget-view+json": {
       "model_id": "87d184c244464d25b7f5bd617749a77a",
       "version_major": 2,
       "version_minor": 0
      },
      "text/plain": [
       "  0%|          | 0/377 [00:00<?, ?it/s]"
      ]
     },
     "metadata": {},
     "output_type": "display_data"
    },
    {
     "name": "stdout",
     "output_type": "stream",
     "text": [
      "3 clusters detected based on gene co-expression.\n",
      "(0.59, 0.8267164296804612), (0.41, 0.36831379905588)\n",
      "KS-test result: [1. 0. 1.]\n",
      "Initial induction: 291, repression: 86/377\n",
      "Learning Rate based on Data Sparsity: 0.0002\n",
      "--------------------------- Train a VeloVAE ---------------------------\n",
      "*********        Creating Training/Validation Datasets        *********\n",
      "*********                      Finished.                      *********\n",
      "*********                 Creating optimizers                 *********\n",
      "*********                      Finished.                      *********\n",
      "*********                    Start training                   *********\n",
      "*********                      Stage  1                       *********\n",
      "Total Number of Iterations Per Epoch: 6, test iteration: 10\n",
      "*********                      Stage  2                       *********\n",
      "*********             Velocity Refinement Round 1             *********\n"
     ]
    },
    {
     "data": {
      "application/json": {
       "ascii": false,
       "bar_format": null,
       "colour": null,
       "elapsed": 0.0037283897399902344,
       "initial": 0,
       "n": 0,
       "ncols": null,
       "nrows": null,
       "postfix": null,
       "prefix": "",
       "rate": null,
       "total": 1000,
       "unit": "it",
       "unit_divisor": 1000,
       "unit_scale": false
      },
      "application/vnd.jupyter.widget-view+json": {
       "model_id": "af437315f19e47b894e7a2bc273eaff2",
       "version_major": 2,
       "version_minor": 0
      },
      "text/plain": [
       "  0%|          | 0/1000 [00:00<?, ?it/s]"
      ]
     },
     "metadata": {},
     "output_type": "display_data"
    },
    {
     "name": "stdout",
     "output_type": "stream",
     "text": [
      "Percentage of Invalid Sets: 0.125\n",
      "Average Set Size: 18\n",
      "*********     Round 1: Early Stop Triggered at epoch 1132.    *********\n",
      "Change in noise variance: 0.0286\n",
      "*********             Velocity Refinement Round 2             *********\n",
      "*********     Round 2: Early Stop Triggered at epoch 1239.    *********\n",
      "Change in noise variance: 0.0029\n",
      "Change in x0: 0.2223\n",
      "*********             Velocity Refinement Round 3             *********\n",
      "*********     Round 3: Early Stop Triggered at epoch 1278.    *********\n",
      "Change in noise variance: 0.0002\n",
      "Change in x0: 0.1391\n",
      "*********             Velocity Refinement Round 4             *********\n",
      "*********     Round 4: Early Stop Triggered at epoch 1312.    *********\n",
      "Change in noise variance: 0.0000\n",
      "Change in x0: 0.1183\n",
      "*********             Velocity Refinement Round 5             *********\n",
      "*********     Round 5: Early Stop Triggered at epoch 1344.    *********\n",
      "Change in noise variance: 0.0000\n",
      "Change in x0: 0.1031\n",
      "*********             Velocity Refinement Round 6             *********\n",
      "*********     Round 6: Early Stop Triggered at epoch 1366.    *********\n",
      "Change in noise variance: 0.0000\n",
      "Change in x0: 0.0939\n",
      "*********             Velocity Refinement Round 7             *********\n",
      "Stage 2: Early Stop Triggered at round 6.\n",
      "*********              Finished. Total Time =   0 h :  1 m : 28 s             *********\n",
      "Final: Train ELBO = 550.957,\tTest ELBO = 563.557\n",
      "Run 20, file /ictstr01/groups/ml01/workspace/yifan.chen/regvelo_reproducibility/data/dyngen/complexity_1/processed/simulation_27.zarr.\n",
      "Estimating ODE parameters...\n"
     ]
    },
    {
     "data": {
      "application/json": {
       "ascii": false,
       "bar_format": null,
       "colour": null,
       "elapsed": 0.0035452842712402344,
       "initial": 0,
       "n": 0,
       "ncols": null,
       "nrows": null,
       "postfix": null,
       "prefix": "",
       "rate": null,
       "total": 381,
       "unit": "it",
       "unit_divisor": 1000,
       "unit_scale": false
      },
      "application/vnd.jupyter.widget-view+json": {
       "model_id": "7e4cdafcacb24e6c885d6da80e7af227",
       "version_major": 2,
       "version_minor": 0
      },
      "text/plain": [
       "  0%|          | 0/381 [00:00<?, ?it/s]"
      ]
     },
     "metadata": {},
     "output_type": "display_data"
    },
    {
     "name": "stdout",
     "output_type": "stream",
     "text": [
      "Detected 320 velocity genes.\n",
      "Estimating the variance...\n"
     ]
    },
    {
     "data": {
      "application/json": {
       "ascii": false,
       "bar_format": null,
       "colour": null,
       "elapsed": 0.011853456497192383,
       "initial": 0,
       "n": 0,
       "ncols": null,
       "nrows": null,
       "postfix": null,
       "prefix": "",
       "rate": null,
       "total": 381,
       "unit": "it",
       "unit_divisor": 1000,
       "unit_scale": false
      },
      "application/vnd.jupyter.widget-view+json": {
       "model_id": "3ea71471c7814925bbb14f17b9773ead",
       "version_major": 2,
       "version_minor": 0
      },
      "text/plain": [
       "  0%|          | 0/381 [00:00<?, ?it/s]"
      ]
     },
     "metadata": {},
     "output_type": "display_data"
    },
    {
     "name": "stdout",
     "output_type": "stream",
     "text": [
      "Initialization using the steady-state and dynamical models.\n",
      "Reinitialize the regular ODE parameters based on estimated global latent time.\n"
     ]
    },
    {
     "data": {
      "application/json": {
       "ascii": false,
       "bar_format": null,
       "colour": null,
       "elapsed": 0.003036975860595703,
       "initial": 0,
       "n": 0,
       "ncols": null,
       "nrows": null,
       "postfix": null,
       "prefix": "",
       "rate": null,
       "total": 381,
       "unit": "it",
       "unit_divisor": 1000,
       "unit_scale": false
      },
      "application/vnd.jupyter.widget-view+json": {
       "model_id": "5a6e89af2fbf4e72a98d816a3e3aef2d",
       "version_major": 2,
       "version_minor": 0
      },
      "text/plain": [
       "  0%|          | 0/381 [00:00<?, ?it/s]"
      ]
     },
     "metadata": {},
     "output_type": "display_data"
    },
    {
     "name": "stdout",
     "output_type": "stream",
     "text": [
      "3 clusters detected based on gene co-expression.\n",
      "(0.39, 0.28728312975125536), (0.61, 0.8005818061651941)\n",
      "KS-test result: [0. 1. 1.]\n",
      "Initial induction: 289, repression: 92/381\n",
      "Learning Rate based on Data Sparsity: 0.0002\n",
      "--------------------------- Train a VeloVAE ---------------------------\n",
      "*********        Creating Training/Validation Datasets        *********\n",
      "*********                      Finished.                      *********\n",
      "*********                 Creating optimizers                 *********\n",
      "*********                      Finished.                      *********\n",
      "*********                    Start training                   *********\n",
      "*********                      Stage  1                       *********\n",
      "Total Number of Iterations Per Epoch: 6, test iteration: 10\n",
      "*********                      Stage  2                       *********\n",
      "*********             Velocity Refinement Round 1             *********\n"
     ]
    },
    {
     "data": {
      "application/json": {
       "ascii": false,
       "bar_format": null,
       "colour": null,
       "elapsed": 0.012477636337280273,
       "initial": 0,
       "n": 0,
       "ncols": null,
       "nrows": null,
       "postfix": null,
       "prefix": "",
       "rate": null,
       "total": 1000,
       "unit": "it",
       "unit_divisor": 1000,
       "unit_scale": false
      },
      "application/vnd.jupyter.widget-view+json": {
       "model_id": "2752be4a29664a9f9eb129be8230693b",
       "version_major": 2,
       "version_minor": 0
      },
      "text/plain": [
       "  0%|          | 0/1000 [00:00<?, ?it/s]"
      ]
     },
     "metadata": {},
     "output_type": "display_data"
    },
    {
     "name": "stdout",
     "output_type": "stream",
     "text": [
      "Percentage of Invalid Sets: 0.036\n",
      "Average Set Size: 20\n",
      "Change in noise variance: 0.0573\n",
      "*********             Velocity Refinement Round 2             *********\n",
      "*********     Round 2: Early Stop Triggered at epoch 1536.    *********\n",
      "Change in noise variance: 0.0049\n",
      "Change in x0: 0.2369\n",
      "*********             Velocity Refinement Round 3             *********\n",
      "*********     Round 3: Early Stop Triggered at epoch 1585.    *********\n",
      "Change in noise variance: 0.0007\n",
      "Change in x0: 0.1714\n",
      "*********             Velocity Refinement Round 4             *********\n",
      "*********     Round 4: Early Stop Triggered at epoch 1681.    *********\n",
      "Change in noise variance: 0.0000\n",
      "Change in x0: 0.1328\n",
      "*********             Velocity Refinement Round 5             *********\n",
      "*********     Round 5: Early Stop Triggered at epoch 1827.    *********\n",
      "Change in noise variance: 0.0000\n",
      "Change in x0: 0.1237\n",
      "*********             Velocity Refinement Round 6             *********\n",
      "Stage 2: Early Stop Triggered at round 5.\n",
      "*********              Finished. Total Time =   0 h :  1 m : 54 s             *********\n",
      "Final: Train ELBO = 775.249,\tTest ELBO = 746.095\n",
      "Run 21, file /ictstr01/groups/ml01/workspace/yifan.chen/regvelo_reproducibility/data/dyngen/complexity_1/processed/simulation_23.zarr.\n",
      "Estimating ODE parameters...\n"
     ]
    },
    {
     "data": {
      "application/json": {
       "ascii": false,
       "bar_format": null,
       "colour": null,
       "elapsed": 0.0034415721893310547,
       "initial": 0,
       "n": 0,
       "ncols": null,
       "nrows": null,
       "postfix": null,
       "prefix": "",
       "rate": null,
       "total": 359,
       "unit": "it",
       "unit_divisor": 1000,
       "unit_scale": false
      },
      "application/vnd.jupyter.widget-view+json": {
       "model_id": "f4eb584be96f4d92afb4e13b2fac16e9",
       "version_major": 2,
       "version_minor": 0
      },
      "text/plain": [
       "  0%|          | 0/359 [00:00<?, ?it/s]"
      ]
     },
     "metadata": {},
     "output_type": "display_data"
    },
    {
     "name": "stdout",
     "output_type": "stream",
     "text": [
      "Detected 326 velocity genes.\n",
      "Estimating the variance...\n"
     ]
    },
    {
     "data": {
      "application/json": {
       "ascii": false,
       "bar_format": null,
       "colour": null,
       "elapsed": 0.007390499114990234,
       "initial": 0,
       "n": 0,
       "ncols": null,
       "nrows": null,
       "postfix": null,
       "prefix": "",
       "rate": null,
       "total": 359,
       "unit": "it",
       "unit_divisor": 1000,
       "unit_scale": false
      },
      "application/vnd.jupyter.widget-view+json": {
       "model_id": "d3709afb2c1e48848242073182aa88b9",
       "version_major": 2,
       "version_minor": 0
      },
      "text/plain": [
       "  0%|          | 0/359 [00:00<?, ?it/s]"
      ]
     },
     "metadata": {},
     "output_type": "display_data"
    },
    {
     "name": "stdout",
     "output_type": "stream",
     "text": [
      "Initialization using the steady-state and dynamical models.\n",
      "Reinitialize the regular ODE parameters based on estimated global latent time.\n"
     ]
    },
    {
     "data": {
      "application/json": {
       "ascii": false,
       "bar_format": null,
       "colour": null,
       "elapsed": 0.0027587413787841797,
       "initial": 0,
       "n": 0,
       "ncols": null,
       "nrows": null,
       "postfix": null,
       "prefix": "",
       "rate": null,
       "total": 359,
       "unit": "it",
       "unit_divisor": 1000,
       "unit_scale": false
      },
      "application/vnd.jupyter.widget-view+json": {
       "model_id": "8b70f4d707d34211a23cc3ef2e81dfff",
       "version_major": 2,
       "version_minor": 0
      },
      "text/plain": [
       "  0%|          | 0/359 [00:00<?, ?it/s]"
      ]
     },
     "metadata": {},
     "output_type": "display_data"
    },
    {
     "name": "stdout",
     "output_type": "stream",
     "text": [
      "3 clusters detected based on gene co-expression.\n",
      "(0.51, 0.7911187894111076), (0.49, 0.37965464284669165)\n",
      "KS-test result: [1. 1. 0.]\n",
      "Initial induction: 264, repression: 95/359\n",
      "Learning Rate based on Data Sparsity: 0.0003\n",
      "--------------------------- Train a VeloVAE ---------------------------\n",
      "*********        Creating Training/Validation Datasets        *********\n",
      "*********                      Finished.                      *********\n",
      "*********                 Creating optimizers                 *********\n",
      "*********                      Finished.                      *********\n",
      "*********                    Start training                   *********\n",
      "*********                      Stage  1                       *********\n",
      "Total Number of Iterations Per Epoch: 6, test iteration: 10\n",
      "*********                      Stage  2                       *********\n",
      "*********             Velocity Refinement Round 1             *********\n"
     ]
    },
    {
     "data": {
      "application/json": {
       "ascii": false,
       "bar_format": null,
       "colour": null,
       "elapsed": 0.010101079940795898,
       "initial": 0,
       "n": 0,
       "ncols": null,
       "nrows": null,
       "postfix": null,
       "prefix": "",
       "rate": null,
       "total": 1000,
       "unit": "it",
       "unit_divisor": 1000,
       "unit_scale": false
      },
      "application/vnd.jupyter.widget-view+json": {
       "model_id": "97f49492c4c4401eb0764fb9932f5de2",
       "version_major": 2,
       "version_minor": 0
      },
      "text/plain": [
       "  0%|          | 0/1000 [00:00<?, ?it/s]"
      ]
     },
     "metadata": {},
     "output_type": "display_data"
    },
    {
     "name": "stdout",
     "output_type": "stream",
     "text": [
      "Percentage of Invalid Sets: 0.137\n",
      "Average Set Size: 19\n",
      "*********     Round 1: Early Stop Triggered at epoch 1182.    *********\n",
      "Change in noise variance: 0.0355\n",
      "*********             Velocity Refinement Round 2             *********\n",
      "*********     Round 2: Early Stop Triggered at epoch 1253.    *********\n",
      "Change in noise variance: 0.0048\n",
      "Change in x0: 0.2276\n",
      "*********             Velocity Refinement Round 3             *********\n",
      "*********     Round 3: Early Stop Triggered at epoch 1272.    *********\n",
      "Change in noise variance: 0.0002\n",
      "Change in x0: 0.1262\n",
      "*********             Velocity Refinement Round 4             *********\n",
      "*********     Round 4: Early Stop Triggered at epoch 1321.    *********\n",
      "Change in noise variance: 0.0000\n",
      "Change in x0: 0.1141\n",
      "*********             Velocity Refinement Round 5             *********\n",
      "*********     Round 5: Early Stop Triggered at epoch 1375.    *********\n",
      "Change in noise variance: 0.0000\n",
      "Change in x0: 0.1160\n",
      "*********             Velocity Refinement Round 6             *********\n",
      "Stage 2: Early Stop Triggered at round 5.\n",
      "*********              Finished. Total Time =   0 h :  1 m : 28 s             *********\n",
      "Final: Train ELBO = 580.190,\tTest ELBO = 578.865\n",
      "Run 22, file /ictstr01/groups/ml01/workspace/yifan.chen/regvelo_reproducibility/data/dyngen/complexity_1/processed/simulation_17.zarr.\n",
      "Estimating ODE parameters...\n"
     ]
    },
    {
     "data": {
      "application/json": {
       "ascii": false,
       "bar_format": null,
       "colour": null,
       "elapsed": 0.0031480789184570312,
       "initial": 0,
       "n": 0,
       "ncols": null,
       "nrows": null,
       "postfix": null,
       "prefix": "",
       "rate": null,
       "total": 450,
       "unit": "it",
       "unit_divisor": 1000,
       "unit_scale": false
      },
      "application/vnd.jupyter.widget-view+json": {
       "model_id": "ed7fd8cd3c6a4b01bce1703ab8a55cb3",
       "version_major": 2,
       "version_minor": 0
      },
      "text/plain": [
       "  0%|          | 0/450 [00:00<?, ?it/s]"
      ]
     },
     "metadata": {},
     "output_type": "display_data"
    },
    {
     "name": "stdout",
     "output_type": "stream",
     "text": [
      "Detected 410 velocity genes.\n",
      "Estimating the variance...\n"
     ]
    },
    {
     "data": {
      "application/json": {
       "ascii": false,
       "bar_format": null,
       "colour": null,
       "elapsed": 0.010387420654296875,
       "initial": 0,
       "n": 0,
       "ncols": null,
       "nrows": null,
       "postfix": null,
       "prefix": "",
       "rate": null,
       "total": 450,
       "unit": "it",
       "unit_divisor": 1000,
       "unit_scale": false
      },
      "application/vnd.jupyter.widget-view+json": {
       "model_id": "6a64e2400357424e985879b01d33b5ea",
       "version_major": 2,
       "version_minor": 0
      },
      "text/plain": [
       "  0%|          | 0/450 [00:00<?, ?it/s]"
      ]
     },
     "metadata": {},
     "output_type": "display_data"
    },
    {
     "name": "stdout",
     "output_type": "stream",
     "text": [
      "Initialization using the steady-state and dynamical models.\n",
      "Reinitialize the regular ODE parameters based on estimated global latent time.\n"
     ]
    },
    {
     "data": {
      "application/json": {
       "ascii": false,
       "bar_format": null,
       "colour": null,
       "elapsed": 0.002747058868408203,
       "initial": 0,
       "n": 0,
       "ncols": null,
       "nrows": null,
       "postfix": null,
       "prefix": "",
       "rate": null,
       "total": 450,
       "unit": "it",
       "unit_divisor": 1000,
       "unit_scale": false
      },
      "application/vnd.jupyter.widget-view+json": {
       "model_id": "df929f2a9d844d7dbd806c9c4f6b57e6",
       "version_major": 2,
       "version_minor": 0
      },
      "text/plain": [
       "  0%|          | 0/450 [00:00<?, ?it/s]"
      ]
     },
     "metadata": {},
     "output_type": "display_data"
    },
    {
     "name": "stdout",
     "output_type": "stream",
     "text": [
      "3 clusters detected based on gene co-expression.\n",
      "KS-test result: [1. 1. 1.]\n",
      "Assign cluster 1 to repressive\n",
      "Initial induction: 284, repression: 166/450\n",
      "Learning Rate based on Data Sparsity: 0.0004\n",
      "--------------------------- Train a VeloVAE ---------------------------\n",
      "*********        Creating Training/Validation Datasets        *********\n",
      "*********                      Finished.                      *********\n",
      "*********                 Creating optimizers                 *********\n",
      "*********                      Finished.                      *********\n",
      "*********                    Start training                   *********\n",
      "*********                      Stage  1                       *********\n",
      "Total Number of Iterations Per Epoch: 6, test iteration: 10\n",
      "*********       Stage 1: Early Stop Triggered at epoch 929.       *********\n",
      "*********                      Stage  2                       *********\n",
      "*********             Velocity Refinement Round 1             *********\n"
     ]
    },
    {
     "data": {
      "application/json": {
       "ascii": false,
       "bar_format": null,
       "colour": null,
       "elapsed": 0.0038080215454101562,
       "initial": 0,
       "n": 0,
       "ncols": null,
       "nrows": null,
       "postfix": null,
       "prefix": "",
       "rate": null,
       "total": 1000,
       "unit": "it",
       "unit_divisor": 1000,
       "unit_scale": false
      },
      "application/vnd.jupyter.widget-view+json": {
       "model_id": "4063248f02d648fc8105efc12f40bfd8",
       "version_major": 2,
       "version_minor": 0
      },
      "text/plain": [
       "  0%|          | 0/1000 [00:00<?, ?it/s]"
      ]
     },
     "metadata": {},
     "output_type": "display_data"
    },
    {
     "name": "stdout",
     "output_type": "stream",
     "text": [
      "Percentage of Invalid Sets: 0.085\n",
      "Average Set Size: 21\n",
      "Change in noise variance: 0.0638\n",
      "*********             Velocity Refinement Round 2             *********\n",
      "*********     Round 2: Early Stop Triggered at epoch 1563.    *********\n",
      "Change in noise variance: 0.0052\n",
      "Change in x0: 0.2409\n",
      "*********             Velocity Refinement Round 3             *********\n",
      "*********     Round 3: Early Stop Triggered at epoch 1650.    *********\n",
      "Change in noise variance: 0.0008\n",
      "Change in x0: 0.1132\n",
      "*********             Velocity Refinement Round 4             *********\n",
      "*********     Round 4: Early Stop Triggered at epoch 1742.    *********\n",
      "Change in noise variance: 0.0000\n",
      "Change in x0: 0.0787\n",
      "*********             Velocity Refinement Round 5             *********\n",
      "*********     Round 5: Early Stop Triggered at epoch 1943.    *********\n",
      "Change in noise variance: 0.0000\n",
      "Change in x0: 0.0693\n",
      "*********             Velocity Refinement Round 6             *********\n",
      "Stage 2: Early Stop Triggered at round 5.\n",
      "*********              Finished. Total Time =   0 h :  2 m :  2 s             *********\n",
      "Final: Train ELBO = 1014.536,\tTest ELBO = 966.167\n",
      "Run 23, file /ictstr01/groups/ml01/workspace/yifan.chen/regvelo_reproducibility/data/dyngen/complexity_1/processed/simulation_30.zarr.\n",
      "Estimating ODE parameters...\n"
     ]
    },
    {
     "data": {
      "application/json": {
       "ascii": false,
       "bar_format": null,
       "colour": null,
       "elapsed": 0.0034008026123046875,
       "initial": 0,
       "n": 0,
       "ncols": null,
       "nrows": null,
       "postfix": null,
       "prefix": "",
       "rate": null,
       "total": 465,
       "unit": "it",
       "unit_divisor": 1000,
       "unit_scale": false
      },
      "application/vnd.jupyter.widget-view+json": {
       "model_id": "e59f118a05e846d0898b68c07b1d6555",
       "version_major": 2,
       "version_minor": 0
      },
      "text/plain": [
       "  0%|          | 0/465 [00:00<?, ?it/s]"
      ]
     },
     "metadata": {},
     "output_type": "display_data"
    },
    {
     "name": "stdout",
     "output_type": "stream",
     "text": [
      "Detected 404 velocity genes.\n",
      "Estimating the variance...\n"
     ]
    },
    {
     "data": {
      "application/json": {
       "ascii": false,
       "bar_format": null,
       "colour": null,
       "elapsed": 0.010503530502319336,
       "initial": 0,
       "n": 0,
       "ncols": null,
       "nrows": null,
       "postfix": null,
       "prefix": "",
       "rate": null,
       "total": 465,
       "unit": "it",
       "unit_divisor": 1000,
       "unit_scale": false
      },
      "application/vnd.jupyter.widget-view+json": {
       "model_id": "c0596ed70cb1474ca758452851558327",
       "version_major": 2,
       "version_minor": 0
      },
      "text/plain": [
       "  0%|          | 0/465 [00:00<?, ?it/s]"
      ]
     },
     "metadata": {},
     "output_type": "display_data"
    },
    {
     "name": "stdout",
     "output_type": "stream",
     "text": [
      "Initialization using the steady-state and dynamical models.\n",
      "Reinitialize the regular ODE parameters based on estimated global latent time.\n"
     ]
    },
    {
     "data": {
      "application/json": {
       "ascii": false,
       "bar_format": null,
       "colour": null,
       "elapsed": 0.0027990341186523438,
       "initial": 0,
       "n": 0,
       "ncols": null,
       "nrows": null,
       "postfix": null,
       "prefix": "",
       "rate": null,
       "total": 465,
       "unit": "it",
       "unit_divisor": 1000,
       "unit_scale": false
      },
      "application/vnd.jupyter.widget-view+json": {
       "model_id": "280e7f2c67854095b6690e1dbd39647e",
       "version_major": 2,
       "version_minor": 0
      },
      "text/plain": [
       "  0%|          | 0/465 [00:00<?, ?it/s]"
      ]
     },
     "metadata": {},
     "output_type": "display_data"
    },
    {
     "name": "stdout",
     "output_type": "stream",
     "text": [
      "3 clusters detected based on gene co-expression.\n",
      "(0.64, 0.7874540650534966), (0.36, 0.30795453403738815)\n",
      "(0.67, 0.8559480355355736), (0.33, 0.3295921295742867)\n",
      "KS-test result: [0. 0. 1.]\n",
      "Initial induction: 337, repression: 128/465\n",
      "Learning Rate based on Data Sparsity: 0.0000\n",
      "--------------------------- Train a VeloVAE ---------------------------\n",
      "*********        Creating Training/Validation Datasets        *********\n",
      "*********                      Finished.                      *********\n",
      "*********                 Creating optimizers                 *********\n",
      "*********                      Finished.                      *********\n",
      "*********                    Start training                   *********\n",
      "*********                      Stage  1                       *********\n",
      "Total Number of Iterations Per Epoch: 6, test iteration: 10\n",
      "*********                      Stage  2                       *********\n",
      "*********             Velocity Refinement Round 1             *********\n"
     ]
    },
    {
     "data": {
      "application/json": {
       "ascii": false,
       "bar_format": null,
       "colour": null,
       "elapsed": 0.004699230194091797,
       "initial": 0,
       "n": 0,
       "ncols": null,
       "nrows": null,
       "postfix": null,
       "prefix": "",
       "rate": null,
       "total": 1000,
       "unit": "it",
       "unit_divisor": 1000,
       "unit_scale": false
      },
      "application/vnd.jupyter.widget-view+json": {
       "model_id": "3c1b4dcc07ca4a419ca82c624125ecd5",
       "version_major": 2,
       "version_minor": 0
      },
      "text/plain": [
       "  0%|          | 0/1000 [00:00<?, ?it/s]"
      ]
     },
     "metadata": {},
     "output_type": "display_data"
    },
    {
     "name": "stdout",
     "output_type": "stream",
     "text": [
      "Percentage of Invalid Sets: 0.018\n",
      "Average Set Size: 20\n",
      "*********     Round 1: Early Stop Triggered at epoch 1251.    *********\n",
      "Change in noise variance: 0.0485\n",
      "*********             Velocity Refinement Round 2             *********\n",
      "*********     Round 2: Early Stop Triggered at epoch 1260.    *********\n",
      "Change in noise variance: 0.0175\n",
      "Change in x0: 0.2811\n",
      "*********             Velocity Refinement Round 3             *********\n",
      "*********     Round 3: Early Stop Triggered at epoch 1291.    *********\n",
      "Change in noise variance: 0.0027\n",
      "Change in x0: 0.2276\n",
      "*********             Velocity Refinement Round 4             *********\n",
      "*********     Round 4: Early Stop Triggered at epoch 1313.    *********\n",
      "Change in noise variance: 0.0011\n",
      "Change in x0: 0.2062\n",
      "*********             Velocity Refinement Round 5             *********\n",
      "*********     Round 5: Early Stop Triggered at epoch 1320.    *********\n",
      "Change in noise variance: 0.0012\n",
      "Change in x0: 0.1882\n",
      "*********             Velocity Refinement Round 6             *********\n",
      "*********     Round 6: Early Stop Triggered at epoch 1346.    *********\n",
      "Change in noise variance: 0.0013\n",
      "Change in x0: 0.1566\n",
      "*********             Velocity Refinement Round 7             *********\n",
      "*********     Round 7: Early Stop Triggered at epoch 1353.    *********\n",
      "Change in noise variance: 0.0010\n",
      "Change in x0: 0.1529\n",
      "*********             Velocity Refinement Round 8             *********\n",
      "*********     Round 8: Early Stop Triggered at epoch 1374.    *********\n",
      "Change in noise variance: 0.0009\n",
      "Change in x0: 0.1473\n",
      "*********             Velocity Refinement Round 9             *********\n",
      "Stage 2: Early Stop Triggered at round 8.\n",
      "*********              Finished. Total Time =   0 h :  1 m : 29 s             *********\n",
      "Final: Train ELBO = -42.097,\tTest ELBO = -73.044\n",
      "Run 24, file /ictstr01/groups/ml01/workspace/yifan.chen/regvelo_reproducibility/data/dyngen/complexity_1/processed/simulation_22.zarr.\n",
      "Estimating ODE parameters...\n"
     ]
    },
    {
     "data": {
      "application/json": {
       "ascii": false,
       "bar_format": null,
       "colour": null,
       "elapsed": 0.012543201446533203,
       "initial": 0,
       "n": 0,
       "ncols": null,
       "nrows": null,
       "postfix": null,
       "prefix": "",
       "rate": null,
       "total": 422,
       "unit": "it",
       "unit_divisor": 1000,
       "unit_scale": false
      },
      "application/vnd.jupyter.widget-view+json": {
       "model_id": "ca996bc1811f44ca88a5206d1ad53387",
       "version_major": 2,
       "version_minor": 0
      },
      "text/plain": [
       "  0%|          | 0/422 [00:00<?, ?it/s]"
      ]
     },
     "metadata": {},
     "output_type": "display_data"
    },
    {
     "name": "stdout",
     "output_type": "stream",
     "text": [
      "Detected 393 velocity genes.\n",
      "Estimating the variance...\n"
     ]
    },
    {
     "data": {
      "application/json": {
       "ascii": false,
       "bar_format": null,
       "colour": null,
       "elapsed": 0.007138490676879883,
       "initial": 0,
       "n": 0,
       "ncols": null,
       "nrows": null,
       "postfix": null,
       "prefix": "",
       "rate": null,
       "total": 422,
       "unit": "it",
       "unit_divisor": 1000,
       "unit_scale": false
      },
      "application/vnd.jupyter.widget-view+json": {
       "model_id": "63ca643262c945dabf33fc6cfadc8eaa",
       "version_major": 2,
       "version_minor": 0
      },
      "text/plain": [
       "  0%|          | 0/422 [00:00<?, ?it/s]"
      ]
     },
     "metadata": {},
     "output_type": "display_data"
    },
    {
     "name": "stdout",
     "output_type": "stream",
     "text": [
      "Initialization using the steady-state and dynamical models.\n",
      "Reinitialize the regular ODE parameters based on estimated global latent time.\n"
     ]
    },
    {
     "data": {
      "application/json": {
       "ascii": false,
       "bar_format": null,
       "colour": null,
       "elapsed": 0.0028960704803466797,
       "initial": 0,
       "n": 0,
       "ncols": null,
       "nrows": null,
       "postfix": null,
       "prefix": "",
       "rate": null,
       "total": 422,
       "unit": "it",
       "unit_divisor": 1000,
       "unit_scale": false
      },
      "application/vnd.jupyter.widget-view+json": {
       "model_id": "8c31e5ef42254151a07eb337246edc39",
       "version_major": 2,
       "version_minor": 0
      },
      "text/plain": [
       "  0%|          | 0/422 [00:00<?, ?it/s]"
      ]
     },
     "metadata": {},
     "output_type": "display_data"
    },
    {
     "name": "stdout",
     "output_type": "stream",
     "text": [
      "3 clusters detected based on gene co-expression.\n",
      "(0.66, 0.7192424805256069), (0.34, 0.29799031256004654)\n",
      "KS-test result: [0. 1. 1.]\n",
      "Initial induction: 333, repression: 89/422\n",
      "Learning Rate based on Data Sparsity: 0.0004\n",
      "--------------------------- Train a VeloVAE ---------------------------\n",
      "*********        Creating Training/Validation Datasets        *********\n",
      "*********                      Finished.                      *********\n",
      "*********                 Creating optimizers                 *********\n",
      "*********                      Finished.                      *********\n",
      "*********                    Start training                   *********\n",
      "*********                      Stage  1                       *********\n",
      "Total Number of Iterations Per Epoch: 6, test iteration: 10\n",
      "*********                      Stage  2                       *********\n",
      "*********             Velocity Refinement Round 1             *********\n"
     ]
    },
    {
     "data": {
      "application/json": {
       "ascii": false,
       "bar_format": null,
       "colour": null,
       "elapsed": 0.013395071029663086,
       "initial": 0,
       "n": 0,
       "ncols": null,
       "nrows": null,
       "postfix": null,
       "prefix": "",
       "rate": null,
       "total": 1000,
       "unit": "it",
       "unit_divisor": 1000,
       "unit_scale": false
      },
      "application/vnd.jupyter.widget-view+json": {
       "model_id": "db03ce93078c4564af0fbf284b61c9ee",
       "version_major": 2,
       "version_minor": 0
      },
      "text/plain": [
       "  0%|          | 0/1000 [00:00<?, ?it/s]"
      ]
     },
     "metadata": {},
     "output_type": "display_data"
    },
    {
     "name": "stdout",
     "output_type": "stream",
     "text": [
      "Percentage of Invalid Sets: 0.007\n",
      "Average Set Size: 22\n",
      "Change in noise variance: 0.0448\n",
      "*********             Velocity Refinement Round 2             *********\n",
      "*********     Round 2: Early Stop Triggered at epoch 1804.    *********\n",
      "Change in noise variance: 0.0019\n",
      "Change in x0: 0.2063\n",
      "*********             Velocity Refinement Round 3             *********\n",
      "*********     Round 3: Early Stop Triggered at epoch 1886.    *********\n",
      "Change in noise variance: 0.0012\n",
      "Change in x0: 0.1165\n",
      "*********             Velocity Refinement Round 4             *********\n",
      "*********     Round 4: Early Stop Triggered at epoch 1975.    *********\n",
      "Change in noise variance: 0.0001\n",
      "Change in x0: 0.0673\n",
      "*********             Velocity Refinement Round 5             *********\n",
      "Change in noise variance: 0.0000\n",
      "Change in x0: 0.0614\n",
      "*********             Velocity Refinement Round 6             *********\n",
      "Stage 2: Early Stop Triggered at round 5.\n",
      "*********              Finished. Total Time =   0 h :  2 m : 33 s             *********\n",
      "Final: Train ELBO = 880.964,\tTest ELBO = 824.267\n",
      "Run 25, file /ictstr01/groups/ml01/workspace/yifan.chen/regvelo_reproducibility/data/dyngen/complexity_1/processed/simulation_25.zarr.\n",
      "Estimating ODE parameters...\n"
     ]
    },
    {
     "data": {
      "application/json": {
       "ascii": false,
       "bar_format": null,
       "colour": null,
       "elapsed": 0.003409862518310547,
       "initial": 0,
       "n": 0,
       "ncols": null,
       "nrows": null,
       "postfix": null,
       "prefix": "",
       "rate": null,
       "total": 578,
       "unit": "it",
       "unit_divisor": 1000,
       "unit_scale": false
      },
      "application/vnd.jupyter.widget-view+json": {
       "model_id": "5b0cfd7c1b454b1f870497ffbea52891",
       "version_major": 2,
       "version_minor": 0
      },
      "text/plain": [
       "  0%|          | 0/578 [00:00<?, ?it/s]"
      ]
     },
     "metadata": {},
     "output_type": "display_data"
    },
    {
     "name": "stdout",
     "output_type": "stream",
     "text": [
      "Detected 453 velocity genes.\n",
      "Estimating the variance...\n"
     ]
    },
    {
     "data": {
      "application/json": {
       "ascii": false,
       "bar_format": null,
       "colour": null,
       "elapsed": 0.003949642181396484,
       "initial": 0,
       "n": 0,
       "ncols": null,
       "nrows": null,
       "postfix": null,
       "prefix": "",
       "rate": null,
       "total": 578,
       "unit": "it",
       "unit_divisor": 1000,
       "unit_scale": false
      },
      "application/vnd.jupyter.widget-view+json": {
       "model_id": "4ba91f573ee14955b8a08d5aa8a65799",
       "version_major": 2,
       "version_minor": 0
      },
      "text/plain": [
       "  0%|          | 0/578 [00:00<?, ?it/s]"
      ]
     },
     "metadata": {},
     "output_type": "display_data"
    },
    {
     "name": "stdout",
     "output_type": "stream",
     "text": [
      "Initialization using the steady-state and dynamical models.\n",
      "Reinitialize the regular ODE parameters based on estimated global latent time.\n"
     ]
    },
    {
     "data": {
      "application/json": {
       "ascii": false,
       "bar_format": null,
       "colour": null,
       "elapsed": 0.002830982208251953,
       "initial": 0,
       "n": 0,
       "ncols": null,
       "nrows": null,
       "postfix": null,
       "prefix": "",
       "rate": null,
       "total": 578,
       "unit": "it",
       "unit_divisor": 1000,
       "unit_scale": false
      },
      "application/vnd.jupyter.widget-view+json": {
       "model_id": "8f1d110b68344441a36856559f330546",
       "version_major": 2,
       "version_minor": 0
      },
      "text/plain": [
       "  0%|          | 0/578 [00:00<?, ?it/s]"
      ]
     },
     "metadata": {},
     "output_type": "display_data"
    },
    {
     "name": "stdout",
     "output_type": "stream",
     "text": [
      "3 clusters detected based on gene co-expression.\n",
      "(0.52, 0.28603679504748397), (0.48, 0.7673497264953757)\n",
      "(0.37, 0.33761410289326726), (0.63, 0.8504461451142085)\n",
      "KS-test result: [0. 1. 0.]\n",
      "Initial induction: 369, repression: 209/578\n",
      "Learning Rate based on Data Sparsity: 0.0000\n",
      "--------------------------- Train a VeloVAE ---------------------------\n",
      "*********        Creating Training/Validation Datasets        *********\n",
      "*********                      Finished.                      *********\n",
      "*********                 Creating optimizers                 *********\n",
      "*********                      Finished.                      *********\n",
      "*********                    Start training                   *********\n",
      "*********                      Stage  1                       *********\n",
      "Total Number of Iterations Per Epoch: 6, test iteration: 10\n",
      "*********                      Stage  2                       *********\n",
      "*********             Velocity Refinement Round 1             *********\n"
     ]
    },
    {
     "data": {
      "application/json": {
       "ascii": false,
       "bar_format": null,
       "colour": null,
       "elapsed": 0.0031092166900634766,
       "initial": 0,
       "n": 0,
       "ncols": null,
       "nrows": null,
       "postfix": null,
       "prefix": "",
       "rate": null,
       "total": 1000,
       "unit": "it",
       "unit_divisor": 1000,
       "unit_scale": false
      },
      "application/vnd.jupyter.widget-view+json": {
       "model_id": "6b17fbbdef6c4b4fa9d86bf1a6674be1",
       "version_major": 2,
       "version_minor": 0
      },
      "text/plain": [
       "  0%|          | 0/1000 [00:00<?, ?it/s]"
      ]
     },
     "metadata": {},
     "output_type": "display_data"
    },
    {
     "name": "stdout",
     "output_type": "stream",
     "text": [
      "Percentage of Invalid Sets: 0.009\n",
      "Average Set Size: 22\n",
      "Change in noise variance: 0.2083\n",
      "*********             Velocity Refinement Round 2             *********\n",
      "*********     Round 2: Early Stop Triggered at epoch 1537.    *********\n",
      "Change in noise variance: 0.0041\n",
      "Change in x0: 0.6915\n",
      "*********             Velocity Refinement Round 3             *********\n",
      "*********     Round 3: Early Stop Triggered at epoch 1788.    *********\n",
      "Change in noise variance: 0.0026\n",
      "Change in x0: 0.5278\n",
      "*********             Velocity Refinement Round 4             *********\n",
      "*********     Round 4: Early Stop Triggered at epoch 1795.    *********\n",
      "Change in noise variance: 0.0023\n",
      "Change in x0: 0.4290\n",
      "*********             Velocity Refinement Round 5             *********\n",
      "*********     Round 5: Early Stop Triggered at epoch 1907.    *********\n",
      "Change in noise variance: 0.0020\n",
      "Change in x0: 0.3418\n",
      "*********             Velocity Refinement Round 6             *********\n",
      "*********     Round 6: Early Stop Triggered at epoch 1916.    *********\n",
      "Change in noise variance: 0.0021\n",
      "Change in x0: 0.2783\n",
      "*********             Velocity Refinement Round 7             *********\n",
      "*********     Round 7: Early Stop Triggered at epoch 1997.    *********\n",
      "Change in noise variance: 0.0012\n",
      "Change in x0: 0.2489\n",
      "*********             Velocity Refinement Round 8             *********\n",
      "*********     Round 8: Early Stop Triggered at epoch 2004.    *********\n",
      "Change in noise variance: 0.0004\n",
      "Change in x0: 0.2845\n",
      "*********             Velocity Refinement Round 9             *********\n",
      "Stage 2: Early Stop Triggered at round 8.\n",
      "*********              Finished. Total Time =   0 h :  2 m :  9 s             *********\n",
      "Final: Train ELBO = -1099.729,\tTest ELBO = -1089.002\n",
      "Run 26, file /ictstr01/groups/ml01/workspace/yifan.chen/regvelo_reproducibility/data/dyngen/complexity_1/processed/simulation_20.zarr.\n",
      "Estimating ODE parameters...\n"
     ]
    },
    {
     "data": {
      "application/json": {
       "ascii": false,
       "bar_format": null,
       "colour": null,
       "elapsed": 0.0034253597259521484,
       "initial": 0,
       "n": 0,
       "ncols": null,
       "nrows": null,
       "postfix": null,
       "prefix": "",
       "rate": null,
       "total": 289,
       "unit": "it",
       "unit_divisor": 1000,
       "unit_scale": false
      },
      "application/vnd.jupyter.widget-view+json": {
       "model_id": "0abdd1565db8475d8decd5c02e8ae223",
       "version_major": 2,
       "version_minor": 0
      },
      "text/plain": [
       "  0%|          | 0/289 [00:00<?, ?it/s]"
      ]
     },
     "metadata": {},
     "output_type": "display_data"
    },
    {
     "name": "stdout",
     "output_type": "stream",
     "text": [
      "Detected 280 velocity genes.\n",
      "Estimating the variance...\n"
     ]
    },
    {
     "data": {
      "application/json": {
       "ascii": false,
       "bar_format": null,
       "colour": null,
       "elapsed": 0.003744840621948242,
       "initial": 0,
       "n": 0,
       "ncols": null,
       "nrows": null,
       "postfix": null,
       "prefix": "",
       "rate": null,
       "total": 289,
       "unit": "it",
       "unit_divisor": 1000,
       "unit_scale": false
      },
      "application/vnd.jupyter.widget-view+json": {
       "model_id": "15bec390e9b94a159f431270c240296d",
       "version_major": 2,
       "version_minor": 0
      },
      "text/plain": [
       "  0%|          | 0/289 [00:00<?, ?it/s]"
      ]
     },
     "metadata": {},
     "output_type": "display_data"
    },
    {
     "name": "stdout",
     "output_type": "stream",
     "text": [
      "Initialization using the steady-state and dynamical models.\n",
      "Reinitialize the regular ODE parameters based on estimated global latent time.\n"
     ]
    },
    {
     "data": {
      "application/json": {
       "ascii": false,
       "bar_format": null,
       "colour": null,
       "elapsed": 0.0026874542236328125,
       "initial": 0,
       "n": 0,
       "ncols": null,
       "nrows": null,
       "postfix": null,
       "prefix": "",
       "rate": null,
       "total": 289,
       "unit": "it",
       "unit_divisor": 1000,
       "unit_scale": false
      },
      "application/vnd.jupyter.widget-view+json": {
       "model_id": "d1cee1143da34b3a89b5213d1bf574c9",
       "version_major": 2,
       "version_minor": 0
      },
      "text/plain": [
       "  0%|          | 0/289 [00:00<?, ?it/s]"
      ]
     },
     "metadata": {},
     "output_type": "display_data"
    },
    {
     "name": "stdout",
     "output_type": "stream",
     "text": [
      "3 clusters detected based on gene co-expression.\n",
      "KS-test result: [1. 1. 1.]\n",
      "Assign cluster 2 to repressive\n",
      "Initial induction: 201, repression: 88/289\n",
      "Learning Rate based on Data Sparsity: 0.0004\n",
      "--------------------------- Train a VeloVAE ---------------------------\n",
      "*********        Creating Training/Validation Datasets        *********\n",
      "*********                      Finished.                      *********\n",
      "*********                 Creating optimizers                 *********\n",
      "*********                      Finished.                      *********\n",
      "*********                    Start training                   *********\n",
      "*********                      Stage  1                       *********\n",
      "Total Number of Iterations Per Epoch: 6, test iteration: 10\n",
      "*********                      Stage  2                       *********\n",
      "*********             Velocity Refinement Round 1             *********\n"
     ]
    },
    {
     "data": {
      "application/json": {
       "ascii": false,
       "bar_format": null,
       "colour": null,
       "elapsed": 0.00406956672668457,
       "initial": 0,
       "n": 0,
       "ncols": null,
       "nrows": null,
       "postfix": null,
       "prefix": "",
       "rate": null,
       "total": 1000,
       "unit": "it",
       "unit_divisor": 1000,
       "unit_scale": false
      },
      "application/vnd.jupyter.widget-view+json": {
       "model_id": "65d75d6505f64589bf48888327abc232",
       "version_major": 2,
       "version_minor": 0
      },
      "text/plain": [
       "  0%|          | 0/1000 [00:00<?, ?it/s]"
      ]
     },
     "metadata": {},
     "output_type": "display_data"
    },
    {
     "name": "stdout",
     "output_type": "stream",
     "text": [
      "Percentage of Invalid Sets: 0.121\n",
      "Average Set Size: 19\n",
      "*********     Round 1: Early Stop Triggered at epoch 1356.    *********\n",
      "Change in noise variance: 0.0621\n",
      "*********             Velocity Refinement Round 2             *********\n",
      "*********     Round 2: Early Stop Triggered at epoch 1578.    *********\n",
      "Change in noise variance: 0.0037\n",
      "Change in x0: 0.1781\n",
      "*********             Velocity Refinement Round 3             *********\n",
      "*********     Round 3: Early Stop Triggered at epoch 1700.    *********\n",
      "Change in noise variance: 0.0006\n",
      "Change in x0: 0.0946\n",
      "*********             Velocity Refinement Round 4             *********\n",
      "*********     Round 4: Early Stop Triggered at epoch 1722.    *********\n",
      "Change in noise variance: 0.0000\n",
      "Change in x0: 0.0771\n",
      "*********             Velocity Refinement Round 5             *********\n",
      "*********     Round 5: Early Stop Triggered at epoch 1738.    *********\n",
      "Change in noise variance: 0.0000\n",
      "Change in x0: 0.0671\n",
      "*********             Velocity Refinement Round 6             *********\n",
      "*********     Round 6: Early Stop Triggered at epoch 1905.    *********\n",
      "Change in noise variance: 0.0000\n",
      "Change in x0: 0.0601\n",
      "*********             Velocity Refinement Round 7             *********\n",
      "Stage 2: Early Stop Triggered at round 6.\n",
      "*********              Finished. Total Time =   0 h :  1 m : 59 s             *********\n",
      "Final: Train ELBO = 630.029,\tTest ELBO = 576.957\n",
      "Run 27, file /ictstr01/groups/ml01/workspace/yifan.chen/regvelo_reproducibility/data/dyngen/complexity_1/processed/simulation_7.zarr.\n",
      "Estimating ODE parameters...\n"
     ]
    },
    {
     "data": {
      "application/json": {
       "ascii": false,
       "bar_format": null,
       "colour": null,
       "elapsed": 0.003420114517211914,
       "initial": 0,
       "n": 0,
       "ncols": null,
       "nrows": null,
       "postfix": null,
       "prefix": "",
       "rate": null,
       "total": 481,
       "unit": "it",
       "unit_divisor": 1000,
       "unit_scale": false
      },
      "application/vnd.jupyter.widget-view+json": {
       "model_id": "8b6b8ec6ba7443889d3033655776da67",
       "version_major": 2,
       "version_minor": 0
      },
      "text/plain": [
       "  0%|          | 0/481 [00:00<?, ?it/s]"
      ]
     },
     "metadata": {},
     "output_type": "display_data"
    },
    {
     "name": "stdout",
     "output_type": "stream",
     "text": [
      "Detected 347 velocity genes.\n",
      "Estimating the variance...\n"
     ]
    },
    {
     "data": {
      "application/json": {
       "ascii": false,
       "bar_format": null,
       "colour": null,
       "elapsed": 0.006128549575805664,
       "initial": 0,
       "n": 0,
       "ncols": null,
       "nrows": null,
       "postfix": null,
       "prefix": "",
       "rate": null,
       "total": 481,
       "unit": "it",
       "unit_divisor": 1000,
       "unit_scale": false
      },
      "application/vnd.jupyter.widget-view+json": {
       "model_id": "5c9b687964804a6ca23be12410dd90d6",
       "version_major": 2,
       "version_minor": 0
      },
      "text/plain": [
       "  0%|          | 0/481 [00:00<?, ?it/s]"
      ]
     },
     "metadata": {},
     "output_type": "display_data"
    },
    {
     "name": "stdout",
     "output_type": "stream",
     "text": [
      "Initialization using the steady-state and dynamical models.\n",
      "Reinitialize the regular ODE parameters based on estimated global latent time.\n"
     ]
    },
    {
     "data": {
      "application/json": {
       "ascii": false,
       "bar_format": null,
       "colour": null,
       "elapsed": 0.0027408599853515625,
       "initial": 0,
       "n": 0,
       "ncols": null,
       "nrows": null,
       "postfix": null,
       "prefix": "",
       "rate": null,
       "total": 481,
       "unit": "it",
       "unit_divisor": 1000,
       "unit_scale": false
      },
      "application/vnd.jupyter.widget-view+json": {
       "model_id": "2d26149f15814025935f845cbe556a02",
       "version_major": 2,
       "version_minor": 0
      },
      "text/plain": [
       "  0%|          | 0/481 [00:00<?, ?it/s]"
      ]
     },
     "metadata": {},
     "output_type": "display_data"
    },
    {
     "name": "stdout",
     "output_type": "stream",
     "text": [
      "3 clusters detected based on gene co-expression.\n",
      "(0.35, 0.3338688963765141), (0.65, 0.8501683610682383)\n",
      "(0.43, 0.26033194504377993), (0.57, 0.7905961327414116)\n",
      "KS-test result: [0. 1. 0.]\n",
      "Initial induction: 340, repression: 141/481\n",
      "Learning Rate based on Data Sparsity: 0.0000\n",
      "--------------------------- Train a VeloVAE ---------------------------\n",
      "*********        Creating Training/Validation Datasets        *********\n",
      "*********                      Finished.                      *********\n",
      "*********                 Creating optimizers                 *********\n",
      "*********                      Finished.                      *********\n",
      "*********                    Start training                   *********\n",
      "*********                      Stage  1                       *********\n",
      "Total Number of Iterations Per Epoch: 6, test iteration: 10\n",
      "*********                      Stage  2                       *********\n",
      "*********             Velocity Refinement Round 1             *********\n"
     ]
    },
    {
     "data": {
      "application/json": {
       "ascii": false,
       "bar_format": null,
       "colour": null,
       "elapsed": 0.01251983642578125,
       "initial": 0,
       "n": 0,
       "ncols": null,
       "nrows": null,
       "postfix": null,
       "prefix": "",
       "rate": null,
       "total": 1000,
       "unit": "it",
       "unit_divisor": 1000,
       "unit_scale": false
      },
      "application/vnd.jupyter.widget-view+json": {
       "model_id": "8742d2c977164f959c74b7aed0ce8f1b",
       "version_major": 2,
       "version_minor": 0
      },
      "text/plain": [
       "  0%|          | 0/1000 [00:00<?, ?it/s]"
      ]
     },
     "metadata": {},
     "output_type": "display_data"
    },
    {
     "name": "stdout",
     "output_type": "stream",
     "text": [
      "Percentage of Invalid Sets: 0.035\n",
      "Average Set Size: 20\n",
      "*********     Round 1: Early Stop Triggered at epoch 1336.    *********\n",
      "Change in noise variance: 0.0607\n",
      "*********             Velocity Refinement Round 2             *********\n",
      "*********     Round 2: Early Stop Triggered at epoch 1432.    *********\n",
      "Change in noise variance: 0.0273\n",
      "Change in x0: 0.4293\n",
      "*********             Velocity Refinement Round 3             *********\n",
      "*********     Round 3: Early Stop Triggered at epoch 1524.    *********\n",
      "Change in noise variance: 0.0050\n",
      "Change in x0: 0.3344\n",
      "*********             Velocity Refinement Round 4             *********\n",
      "*********     Round 4: Early Stop Triggered at epoch 1591.    *********\n",
      "Change in noise variance: 0.0027\n",
      "Change in x0: 0.3130\n",
      "*********             Velocity Refinement Round 5             *********\n",
      "*********     Round 5: Early Stop Triggered at epoch 1613.    *********\n",
      "Change in noise variance: 0.0015\n",
      "Change in x0: 0.2213\n",
      "*********             Velocity Refinement Round 6             *********\n",
      "*********     Round 6: Early Stop Triggered at epoch 1705.    *********\n",
      "Change in noise variance: 0.0008\n",
      "Change in x0: 0.1638\n",
      "*********             Velocity Refinement Round 7             *********\n",
      "*********     Round 7: Early Stop Triggered at epoch 1727.    *********\n",
      "Change in noise variance: 0.0000\n",
      "Change in x0: 0.1423\n",
      "*********             Velocity Refinement Round 8             *********\n",
      "*********     Round 8: Early Stop Triggered at epoch 1759.    *********\n",
      "Change in noise variance: 0.0000\n",
      "Change in x0: 0.1224\n",
      "*********             Velocity Refinement Round 9             *********\n",
      "*********     Round 9: Early Stop Triggered at epoch 1766.    *********\n",
      "Change in noise variance: 0.0000\n",
      "Change in x0: 0.1141\n",
      "*********             Velocity Refinement Round 10             *********\n",
      "Stage 2: Early Stop Triggered at round 9.\n",
      "*********              Finished. Total Time =   0 h :  1 m : 53 s             *********\n",
      "Final: Train ELBO = -180.317,\tTest ELBO = -170.590\n",
      "Run 28, file /ictstr01/groups/ml01/workspace/yifan.chen/regvelo_reproducibility/data/dyngen/complexity_1/processed/simulation_3.zarr.\n",
      "Estimating ODE parameters...\n"
     ]
    },
    {
     "data": {
      "application/json": {
       "ascii": false,
       "bar_format": null,
       "colour": null,
       "elapsed": 0.0034253597259521484,
       "initial": 0,
       "n": 0,
       "ncols": null,
       "nrows": null,
       "postfix": null,
       "prefix": "",
       "rate": null,
       "total": 208,
       "unit": "it",
       "unit_divisor": 1000,
       "unit_scale": false
      },
      "application/vnd.jupyter.widget-view+json": {
       "model_id": "153e94d8e10d4cd5b015fafa7f8caa21",
       "version_major": 2,
       "version_minor": 0
      },
      "text/plain": [
       "  0%|          | 0/208 [00:00<?, ?it/s]"
      ]
     },
     "metadata": {},
     "output_type": "display_data"
    },
    {
     "name": "stdout",
     "output_type": "stream",
     "text": [
      "Detected 148 velocity genes.\n",
      "Estimating the variance...\n"
     ]
    },
    {
     "data": {
      "application/json": {
       "ascii": false,
       "bar_format": null,
       "colour": null,
       "elapsed": 0.011748313903808594,
       "initial": 0,
       "n": 0,
       "ncols": null,
       "nrows": null,
       "postfix": null,
       "prefix": "",
       "rate": null,
       "total": 208,
       "unit": "it",
       "unit_divisor": 1000,
       "unit_scale": false
      },
      "application/vnd.jupyter.widget-view+json": {
       "model_id": "0a0111b5b09a487e82a77e9334874e68",
       "version_major": 2,
       "version_minor": 0
      },
      "text/plain": [
       "  0%|          | 0/208 [00:00<?, ?it/s]"
      ]
     },
     "metadata": {},
     "output_type": "display_data"
    },
    {
     "name": "stdout",
     "output_type": "stream",
     "text": [
      "Initialization using the steady-state and dynamical models.\n",
      "Reinitialize the regular ODE parameters based on estimated global latent time.\n"
     ]
    },
    {
     "data": {
      "application/json": {
       "ascii": false,
       "bar_format": null,
       "colour": null,
       "elapsed": 0.0026831626892089844,
       "initial": 0,
       "n": 0,
       "ncols": null,
       "nrows": null,
       "postfix": null,
       "prefix": "",
       "rate": null,
       "total": 208,
       "unit": "it",
       "unit_divisor": 1000,
       "unit_scale": false
      },
      "application/vnd.jupyter.widget-view+json": {
       "model_id": "b523627d74ac491990c7eb264a12d190",
       "version_major": 2,
       "version_minor": 0
      },
      "text/plain": [
       "  0%|          | 0/208 [00:00<?, ?it/s]"
      ]
     },
     "metadata": {},
     "output_type": "display_data"
    },
    {
     "name": "stdout",
     "output_type": "stream",
     "text": [
      "3 clusters detected based on gene co-expression.\n",
      "(0.41, 0.7019526186807664), (0.59, 0.16143693643502346)\n",
      "KS-test result: [1. 0. 1.]\n",
      "Initial induction: 137, repression: 71/208\n",
      "Learning Rate based on Data Sparsity: 0.0000\n",
      "--------------------------- Train a VeloVAE ---------------------------\n",
      "*********        Creating Training/Validation Datasets        *********\n",
      "*********                      Finished.                      *********\n",
      "*********                 Creating optimizers                 *********\n",
      "*********                      Finished.                      *********\n",
      "*********                    Start training                   *********\n",
      "*********                      Stage  1                       *********\n",
      "Total Number of Iterations Per Epoch: 6, test iteration: 10\n",
      "*********       Stage 1: Early Stop Triggered at epoch 7.       *********\n",
      "*********                      Stage  2                       *********\n",
      "*********             Velocity Refinement Round 1             *********\n"
     ]
    },
    {
     "data": {
      "application/json": {
       "ascii": false,
       "bar_format": null,
       "colour": null,
       "elapsed": 0.003000974655151367,
       "initial": 0,
       "n": 0,
       "ncols": null,
       "nrows": null,
       "postfix": null,
       "prefix": "",
       "rate": null,
       "total": 1000,
       "unit": "it",
       "unit_divisor": 1000,
       "unit_scale": false
      },
      "application/vnd.jupyter.widget-view+json": {
       "model_id": "ad5495a73d96465a84213c6d0d1fd42a",
       "version_major": 2,
       "version_minor": 0
      },
      "text/plain": [
       "  0%|          | 0/1000 [00:00<?, ?it/s]"
      ]
     },
     "metadata": {},
     "output_type": "display_data"
    },
    {
     "name": "stdout",
     "output_type": "stream",
     "text": [
      "Percentage of Invalid Sets: 0.029\n",
      "Average Set Size: 21\n",
      "*********     Round 1: Early Stop Triggered at epoch 346.    *********\n",
      "Change in noise variance: 0.2637\n",
      "*********             Velocity Refinement Round 2             *********\n",
      "*********     Round 2: Early Stop Triggered at epoch 353.    *********\n",
      "Change in noise variance: 0.0223\n",
      "Change in x0: 0.4232\n",
      "*********             Velocity Refinement Round 3             *********\n",
      "*********     Round 3: Early Stop Triggered at epoch 380.    *********\n",
      "Change in noise variance: 0.0057\n",
      "Change in x0: 0.2945\n",
      "*********             Velocity Refinement Round 4             *********\n",
      "*********     Round 4: Early Stop Triggered at epoch 424.    *********\n",
      "Change in noise variance: 0.0026\n",
      "Change in x0: 0.2017\n",
      "*********             Velocity Refinement Round 5             *********\n",
      "*********     Round 5: Early Stop Triggered at epoch 433.    *********\n",
      "Change in noise variance: 0.0010\n",
      "Change in x0: 0.1395\n",
      "*********             Velocity Refinement Round 6             *********\n",
      "*********     Round 6: Early Stop Triggered at epoch 562.    *********\n",
      "Change in noise variance: 0.0000\n",
      "Change in x0: 0.1259\n",
      "*********             Velocity Refinement Round 7             *********\n",
      "*********     Round 7: Early Stop Triggered at epoch 569.    *********\n",
      "Change in noise variance: 0.0000\n",
      "Change in x0: 0.1153\n",
      "*********             Velocity Refinement Round 8             *********\n",
      "*********     Round 8: Early Stop Triggered at epoch 628.    *********\n",
      "Change in noise variance: 0.0000\n",
      "Change in x0: 0.1059\n",
      "*********             Velocity Refinement Round 9             *********\n",
      "Stage 2: Early Stop Triggered at round 8.\n",
      "*********              Finished. Total Time =   0 h :  0 m : 37 s             *********\n",
      "Final: Train ELBO = -25130.842,\tTest ELBO = -26236.967\n",
      "Run 29, file /ictstr01/groups/ml01/workspace/yifan.chen/regvelo_reproducibility/data/dyngen/complexity_1/processed/simulation_26.zarr.\n",
      "Estimating ODE parameters...\n"
     ]
    },
    {
     "data": {
      "application/json": {
       "ascii": false,
       "bar_format": null,
       "colour": null,
       "elapsed": 0.0033032894134521484,
       "initial": 0,
       "n": 0,
       "ncols": null,
       "nrows": null,
       "postfix": null,
       "prefix": "",
       "rate": null,
       "total": 494,
       "unit": "it",
       "unit_divisor": 1000,
       "unit_scale": false
      },
      "application/vnd.jupyter.widget-view+json": {
       "model_id": "013d7f5994844db59165a90e3053e301",
       "version_major": 2,
       "version_minor": 0
      },
      "text/plain": [
       "  0%|          | 0/494 [00:00<?, ?it/s]"
      ]
     },
     "metadata": {},
     "output_type": "display_data"
    },
    {
     "name": "stdout",
     "output_type": "stream",
     "text": [
      "Detected 470 velocity genes.\n",
      "Estimating the variance...\n"
     ]
    },
    {
     "data": {
      "application/json": {
       "ascii": false,
       "bar_format": null,
       "colour": null,
       "elapsed": 0.0061762332916259766,
       "initial": 0,
       "n": 0,
       "ncols": null,
       "nrows": null,
       "postfix": null,
       "prefix": "",
       "rate": null,
       "total": 494,
       "unit": "it",
       "unit_divisor": 1000,
       "unit_scale": false
      },
      "application/vnd.jupyter.widget-view+json": {
       "model_id": "8d60e020fde346f4b52c47a1d853e0c0",
       "version_major": 2,
       "version_minor": 0
      },
      "text/plain": [
       "  0%|          | 0/494 [00:00<?, ?it/s]"
      ]
     },
     "metadata": {},
     "output_type": "display_data"
    },
    {
     "name": "stdout",
     "output_type": "stream",
     "text": [
      "Initialization using the steady-state and dynamical models.\n",
      "Reinitialize the regular ODE parameters based on estimated global latent time.\n"
     ]
    },
    {
     "data": {
      "application/json": {
       "ascii": false,
       "bar_format": null,
       "colour": null,
       "elapsed": 0.002779722213745117,
       "initial": 0,
       "n": 0,
       "ncols": null,
       "nrows": null,
       "postfix": null,
       "prefix": "",
       "rate": null,
       "total": 494,
       "unit": "it",
       "unit_divisor": 1000,
       "unit_scale": false
      },
      "application/vnd.jupyter.widget-view+json": {
       "model_id": "b56bdb833ce140e7b525e6f7024adef4",
       "version_major": 2,
       "version_minor": 0
      },
      "text/plain": [
       "  0%|          | 0/494 [00:00<?, ?it/s]"
      ]
     },
     "metadata": {},
     "output_type": "display_data"
    },
    {
     "name": "stdout",
     "output_type": "stream",
     "text": [
      "3 clusters detected based on gene co-expression.\n",
      "KS-test result: [1. 1. 1.]\n",
      "Assign cluster 1 to repressive\n",
      "Initial induction: 324, repression: 170/494\n",
      "Learning Rate based on Data Sparsity: 0.0003\n",
      "--------------------------- Train a VeloVAE ---------------------------\n",
      "*********        Creating Training/Validation Datasets        *********\n",
      "*********                      Finished.                      *********\n",
      "*********                 Creating optimizers                 *********\n",
      "*********                      Finished.                      *********\n",
      "*********                    Start training                   *********\n",
      "*********                      Stage  1                       *********\n",
      "Total Number of Iterations Per Epoch: 6, test iteration: 10\n",
      "*********                      Stage  2                       *********\n",
      "*********             Velocity Refinement Round 1             *********\n"
     ]
    },
    {
     "data": {
      "application/json": {
       "ascii": false,
       "bar_format": null,
       "colour": null,
       "elapsed": 0.003549337387084961,
       "initial": 0,
       "n": 0,
       "ncols": null,
       "nrows": null,
       "postfix": null,
       "prefix": "",
       "rate": null,
       "total": 1000,
       "unit": "it",
       "unit_divisor": 1000,
       "unit_scale": false
      },
      "application/vnd.jupyter.widget-view+json": {
       "model_id": "226ebfec34914f4484ec325300f7c2c6",
       "version_major": 2,
       "version_minor": 0
      },
      "text/plain": [
       "  0%|          | 0/1000 [00:00<?, ?it/s]"
      ]
     },
     "metadata": {},
     "output_type": "display_data"
    },
    {
     "name": "stdout",
     "output_type": "stream",
     "text": [
      "Percentage of Invalid Sets: 0.003\n",
      "Average Set Size: 25\n",
      "*********     Round 1: Early Stop Triggered at epoch 1292.    *********\n",
      "Change in noise variance: 0.0211\n",
      "*********             Velocity Refinement Round 2             *********\n",
      "*********     Round 2: Early Stop Triggered at epoch 1678.    *********\n",
      "Change in noise variance: 0.0043\n",
      "Change in x0: 0.2580\n",
      "*********             Velocity Refinement Round 3             *********\n",
      "*********     Round 3: Early Stop Triggered at epoch 1745.    *********\n",
      "Change in noise variance: 0.0016\n",
      "Change in x0: 0.2539\n",
      "*********             Velocity Refinement Round 4             *********\n",
      "*********     Round 4: Early Stop Triggered at epoch 1846.    *********\n",
      "Change in noise variance: 0.0009\n",
      "Change in x0: 0.1582\n",
      "*********             Velocity Refinement Round 5             *********\n",
      "*********     Round 5: Early Stop Triggered at epoch 1927.    *********\n",
      "Change in noise variance: 0.0000\n",
      "Change in x0: 0.1175\n",
      "*********             Velocity Refinement Round 6             *********\n",
      "*********     Round 6: Early Stop Triggered at epoch 1936.    *********\n",
      "Change in noise variance: 0.0000\n",
      "Change in x0: 0.0949\n",
      "*********             Velocity Refinement Round 7             *********\n",
      "*********     Round 7: Early Stop Triggered at epoch 1957.    *********\n",
      "Change in noise variance: 0.0000\n",
      "Change in x0: 0.0793\n",
      "*********             Velocity Refinement Round 8             *********\n",
      "*********     Round 8: Early Stop Triggered at epoch 1974.    *********\n",
      "Change in noise variance: 0.0000\n",
      "Change in x0: 0.0667\n",
      "*********             Velocity Refinement Round 9             *********\n",
      "*********     Round 9: Early Stop Triggered at epoch 2005.    *********\n",
      "Change in noise variance: 0.0000\n",
      "Change in x0: 0.0651\n",
      "*********             Velocity Refinement Round 10             *********\n",
      "Stage 2: Early Stop Triggered at round 9.\n",
      "*********              Finished. Total Time =   0 h :  2 m :  7 s             *********\n",
      "Final: Train ELBO = 799.182,\tTest ELBO = 770.955\n"
     ]
    }
   ],
   "source": [
    "velocity_correlation = []\n",
    "\n",
    "cnt = 0\n",
    "for filename in (DATA_DIR / DATASET / COMPLEXITY / \"processed\").iterdir():\n",
    "    if filename.suffix != \".zarr\":\n",
    "        continue\n",
    "\n",
    "    print(f\"Run {cnt}, file {filename}.\")\n",
    "    adata = ad.io.read_zarr(filename)\n",
    "\n",
    "    try:\n",
    "        vae = vv.VAE(adata, tmax=20, dim_z=5, device=\"cuda:0\")\n",
    "        config = {}\n",
    "        vae.train(adata, config=config, plot=False, embed=\"pca\")\n",
    "\n",
    "        simulation_id = int(filename.stem.removeprefix(\"simulation_\"))\n",
    "        # Output velocity to adata object\n",
    "        vae.save_anndata(adata, \"vae\", DATA_DIR / DATASET / COMPLEXITY / \"processed\" / \"velovae_vae\", file_name=f\"velovae_{simulation_id}.h5ad\")\n",
    "\n",
    "        adata.layers[\"velocity\"] = adata.layers[\"vae_velocity\"].copy()\n",
    "\n",
    "        # save data\n",
    "        adata.write_zarr(DATA_DIR / DATASET / COMPLEXITY / \"trained_velovae\" / f\"trained_{simulation_id}.zarr\")\n",
    "\n",
    "        velocity_correlation.append(\n",
    "            get_velocity_correlation(\n",
    "                ground_truth=adata.layers[\"true_velocity\"], estimated=adata.layers[\"velocity\"], aggregation=np.mean\n",
    "            )\n",
    "        )\n",
    "\n",
    "    except Exception as e:  # noqa: BLE001\n",
    "        # Append np.nan in case of an error and optionally log the error\n",
    "        print(f\"An error occurred: {e}\")\n",
    "        velocity_correlation.append(np.nan)\n",
    "\n",
    "    cnt += 1"
   ]
  },
  {
   "cell_type": "markdown",
   "id": "9714322d",
   "metadata": {},
   "source": [
    "## Data saving"
   ]
  },
  {
   "cell_type": "code",
   "execution_count": 9,
   "id": "f84ba997-d423-4792-a780-629f8ae97f55",
   "metadata": {},
   "outputs": [
    {
     "data": {
      "text/html": [
       "<div>\n",
       "<style scoped>\n",
       "    .dataframe tbody tr th:only-of-type {\n",
       "        vertical-align: middle;\n",
       "    }\n",
       "\n",
       "    .dataframe tbody tr th {\n",
       "        vertical-align: top;\n",
       "    }\n",
       "\n",
       "    .dataframe thead th {\n",
       "        text-align: right;\n",
       "    }\n",
       "</style>\n",
       "<table border=\"1\" class=\"dataframe\">\n",
       "  <thead>\n",
       "    <tr style=\"text-align: right;\">\n",
       "      <th></th>\n",
       "      <th>velocity</th>\n",
       "    </tr>\n",
       "  </thead>\n",
       "  <tbody>\n",
       "    <tr>\n",
       "      <th>0</th>\n",
       "      <td>0.155481</td>\n",
       "    </tr>\n",
       "    <tr>\n",
       "      <th>1</th>\n",
       "      <td>0.202144</td>\n",
       "    </tr>\n",
       "    <tr>\n",
       "      <th>2</th>\n",
       "      <td>0.012057</td>\n",
       "    </tr>\n",
       "    <tr>\n",
       "      <th>3</th>\n",
       "      <td>-0.004354</td>\n",
       "    </tr>\n",
       "    <tr>\n",
       "      <th>4</th>\n",
       "      <td>0.002382</td>\n",
       "    </tr>\n",
       "    <tr>\n",
       "      <th>5</th>\n",
       "      <td>0.126935</td>\n",
       "    </tr>\n",
       "    <tr>\n",
       "      <th>6</th>\n",
       "      <td>0.097688</td>\n",
       "    </tr>\n",
       "    <tr>\n",
       "      <th>7</th>\n",
       "      <td>0.153123</td>\n",
       "    </tr>\n",
       "    <tr>\n",
       "      <th>8</th>\n",
       "      <td>0.006757</td>\n",
       "    </tr>\n",
       "    <tr>\n",
       "      <th>9</th>\n",
       "      <td>0.182454</td>\n",
       "    </tr>\n",
       "    <tr>\n",
       "      <th>10</th>\n",
       "      <td>0.149677</td>\n",
       "    </tr>\n",
       "    <tr>\n",
       "      <th>11</th>\n",
       "      <td>0.019388</td>\n",
       "    </tr>\n",
       "    <tr>\n",
       "      <th>12</th>\n",
       "      <td>0.030392</td>\n",
       "    </tr>\n",
       "    <tr>\n",
       "      <th>13</th>\n",
       "      <td>0.097076</td>\n",
       "    </tr>\n",
       "    <tr>\n",
       "      <th>14</th>\n",
       "      <td>0.073556</td>\n",
       "    </tr>\n",
       "    <tr>\n",
       "      <th>15</th>\n",
       "      <td>0.048111</td>\n",
       "    </tr>\n",
       "    <tr>\n",
       "      <th>16</th>\n",
       "      <td>0.008874</td>\n",
       "    </tr>\n",
       "    <tr>\n",
       "      <th>17</th>\n",
       "      <td>0.040939</td>\n",
       "    </tr>\n",
       "    <tr>\n",
       "      <th>18</th>\n",
       "      <td>0.150214</td>\n",
       "    </tr>\n",
       "    <tr>\n",
       "      <th>19</th>\n",
       "      <td>0.189872</td>\n",
       "    </tr>\n",
       "    <tr>\n",
       "      <th>20</th>\n",
       "      <td>0.131745</td>\n",
       "    </tr>\n",
       "    <tr>\n",
       "      <th>21</th>\n",
       "      <td>0.161824</td>\n",
       "    </tr>\n",
       "    <tr>\n",
       "      <th>22</th>\n",
       "      <td>0.036252</td>\n",
       "    </tr>\n",
       "    <tr>\n",
       "      <th>23</th>\n",
       "      <td>0.079695</td>\n",
       "    </tr>\n",
       "    <tr>\n",
       "      <th>24</th>\n",
       "      <td>0.056756</td>\n",
       "    </tr>\n",
       "    <tr>\n",
       "      <th>25</th>\n",
       "      <td>0.003183</td>\n",
       "    </tr>\n",
       "    <tr>\n",
       "      <th>26</th>\n",
       "      <td>-0.074424</td>\n",
       "    </tr>\n",
       "    <tr>\n",
       "      <th>27</th>\n",
       "      <td>0.079029</td>\n",
       "    </tr>\n",
       "    <tr>\n",
       "      <th>28</th>\n",
       "      <td>0.044476</td>\n",
       "    </tr>\n",
       "    <tr>\n",
       "      <th>29</th>\n",
       "      <td>-0.023441</td>\n",
       "    </tr>\n",
       "  </tbody>\n",
       "</table>\n",
       "</div>"
      ],
      "text/plain": [
       "    velocity\n",
       "0   0.155481\n",
       "1   0.202144\n",
       "2   0.012057\n",
       "3  -0.004354\n",
       "4   0.002382\n",
       "5   0.126935\n",
       "6   0.097688\n",
       "7   0.153123\n",
       "8   0.006757\n",
       "9   0.182454\n",
       "10  0.149677\n",
       "11  0.019388\n",
       "12  0.030392\n",
       "13  0.097076\n",
       "14  0.073556\n",
       "15  0.048111\n",
       "16  0.008874\n",
       "17  0.040939\n",
       "18  0.150214\n",
       "19  0.189872\n",
       "20  0.131745\n",
       "21  0.161824\n",
       "22  0.036252\n",
       "23  0.079695\n",
       "24  0.056756\n",
       "25  0.003183\n",
       "26 -0.074424\n",
       "27  0.079029\n",
       "28  0.044476\n",
       "29 -0.023441"
      ]
     },
     "execution_count": 9,
     "metadata": {},
     "output_type": "execute_result"
    }
   ],
   "source": [
    "pd.DataFrame({\"velocity\": velocity_correlation})"
   ]
  },
  {
   "cell_type": "code",
   "execution_count": 10,
   "id": "cf4d362e",
   "metadata": {},
   "outputs": [],
   "source": [
    "if SAVE_DATA:\n",
    "    pd.DataFrame({\"velocity\": velocity_correlation}).to_parquet(\n",
    "        path=DATA_DIR / DATASET / COMPLEXITY / \"results\" / \"velovae_vae_correlation.parquet\"\n",
    "    )"
   ]
  }
 ],
 "metadata": {
  "kernelspec": {
   "display_name": "regvelo-py310-velovae",
   "language": "python",
   "name": "regvelo-py310-velovae"
  },
  "language_info": {
   "codemirror_mode": {
    "name": "ipython",
    "version": 3
   },
   "file_extension": ".py",
   "mimetype": "text/x-python",
   "name": "python",
   "nbconvert_exporter": "python",
   "pygments_lexer": "ipython3",
   "version": "3.10.16"
  }
 },
 "nbformat": 4,
 "nbformat_minor": 5
}
