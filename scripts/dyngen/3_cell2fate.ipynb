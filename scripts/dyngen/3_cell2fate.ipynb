{
 "cells": [
  {
   "cell_type": "markdown",
   "id": "87443fd1",
   "metadata": {},
   "source": [
    "# cell2fate benchmark on dyngen data\n",
    "\n",
    "Notebook benchmarks velocity and latent time inference using cell2fate on dyngen-generated data.\n",
    "\n",
    "Note that cell2fate requires `anndata==0.8.0` and `scvi-tools==0.16.1`."
   ]
  },
  {
   "cell_type": "markdown",
   "id": "a67153cd",
   "metadata": {},
   "source": [
    "## Library imports"
   ]
  },
  {
   "cell_type": "code",
   "execution_count": 1,
   "id": "2abba759-163c-42c8-b826-7b91623a9fca",
   "metadata": {},
   "outputs": [
    {
     "name": "stderr",
     "output_type": "stream",
     "text": [
      "2025-04-28 21:45:09.738523: I tensorflow/core/platform/cpu_feature_guard.cc:193] This TensorFlow binary is optimized with oneAPI Deep Neural Network Library (oneDNN) to use the following CPU instructions in performance-critical operations:  AVX2 FMA\n",
      "To enable them in other operations, rebuild TensorFlow with the appropriate compiler flags.\n",
      "2025-04-28 21:46:06.193779: W tensorflow/compiler/xla/stream_executor/platform/default/dso_loader.cc:64] Could not load dynamic library 'libnvinfer.so.7'; dlerror: libnvinfer.so.7: cannot open shared object file: No such file or directory\n",
      "2025-04-28 21:46:06.207855: W tensorflow/compiler/xla/stream_executor/platform/default/dso_loader.cc:64] Could not load dynamic library 'libnvinfer_plugin.so.7'; dlerror: libnvinfer_plugin.so.7: cannot open shared object file: No such file or directory\n",
      "2025-04-28 21:46:06.207871: W tensorflow/compiler/tf2tensorrt/utils/py_utils.cc:38] TF-TRT Warning: Cannot dlopen some TensorRT libraries. If you would like to use Nvidia GPU with TensorRT, please make sure the missing libraries mentioned above are installed properly.\n",
      "Global seed set to 0\n"
     ]
    }
   ],
   "source": [
    "import contextlib\n",
    "import io\n",
    "\n",
    "import numpy as np\n",
    "import pandas as pd\n",
    "import scipy\n",
    "import torch\n",
    "\n",
    "import anndata as ad\n",
    "import cell2fate as c2f\n",
    "import scanpy as sc\n",
    "\n",
    "from pathlib import Path\n",
    "\n",
    "from typing import Callable, Union\n",
    "from numpy.typing import ArrayLike"
   ]
  },
  {
   "cell_type": "code",
   "execution_count": 2,
   "id": "9a0a084b-12da-40a2-84cf-4901995d98e4",
   "metadata": {},
   "outputs": [],
   "source": [
    "DATA_DIR = Path('/lustre/groups/ml01/workspace/yifan.chen/regvelo_reproducibility/data')"
   ]
  },
  {
   "cell_type": "markdown",
   "id": "a15b37db-3a15-4364-8eeb-1916ae7e4614",
   "metadata": {
    "lines_to_next_cell": 2
   },
   "source": [
    "## Function definitions"
   ]
  },
  {
   "cell_type": "code",
   "execution_count": 3,
   "id": "1b4aa1b0-c83d-4de3-ab01-4c8c30ca3000",
   "metadata": {},
   "outputs": [],
   "source": [
    "# Function for train model and get output\n",
    "def train_c2f_model(adata):\n",
    "    \"\"\"cell2fate pipeline.\"\"\"\n",
    "    c2f.Cell2fate_DynamicalModel.setup_anndata(adata, spliced_label=\"spliced_raw\", unspliced_label=\"unspliced_raw\")\n",
    "    n_modules = c2f.utils.get_max_modules(adata)\n",
    "    mod = c2f.Cell2fate_DynamicalModel(adata, n_modules=n_modules)\n",
    "    mod.train()\n",
    "\n",
    "    adata = mod.export_posterior(\n",
    "        adata, sample_kwargs={\"batch_size\": None, \"num_samples\": 30, \"return_samples\": True, \"use_gpu\": False}\n",
    "    )\n",
    "    adata = mod.compute_module_summary_statistics(adata)\n",
    "    with contextlib.redirect_stdout(io.StringIO()):\n",
    "        adata.layers[\"Spliced Mean\"] = mod.samples[\"post_sample_means\"][\"mu_expression\"][..., 1]\n",
    "        c2f_velocity = (\n",
    "            torch.tensor(mod.samples[\"post_sample_means\"][\"beta_g\"])\n",
    "            * mod.samples[\"post_sample_means\"][\"mu_expression\"][..., 0]\n",
    "            - torch.tensor(mod.samples[\"post_sample_means\"][\"gamma_g\"])\n",
    "            * mod.samples[\"post_sample_means\"][\"mu_expression\"][..., 1]\n",
    "        )\n",
    "        adata.layers[\"velocity\"] = c2f_velocity.numpy()\n",
    "\n",
    "    adata.layers[\"Ms\"] = adata.layers[\"spliced\"].copy()\n",
    "\n",
    "    return adata"
   ]
  },
  {
   "cell_type": "code",
   "execution_count": 4,
   "id": "8119b9e9",
   "metadata": {},
   "outputs": [],
   "source": [
    "def pearsonr(x: ArrayLike, y: ArrayLike, axis: int = 0) -> ArrayLike:\n",
    "    \"\"\"Compute Pearson correlation between axes of two arrays.\n",
    "\n",
    "    Parameters\n",
    "    ----------\n",
    "    x\n",
    "        Input array.\n",
    "    y\n",
    "        Input array.\n",
    "    axis\n",
    "        Axis along which Pearson correlation is computed.\n",
    "\n",
    "    Returns\n",
    "    -------\n",
    "    Axis-wise Pearson correlations.\n",
    "    \"\"\"\n",
    "    centered_x = x - np.mean(x, axis=axis, keepdims=True)\n",
    "    centered_y = y - np.mean(y, axis=axis, keepdims=True)\n",
    "\n",
    "    r_num = np.add.reduce(centered_x * centered_y, axis=axis)\n",
    "    r_den = np.sqrt((centered_x * centered_x).sum(axis=axis) * (centered_y * centered_y).sum(axis=axis))\n",
    "\n",
    "    return r_num / r_den"
   ]
  },
  {
   "cell_type": "code",
   "execution_count": 5,
   "id": "5f1c80c6-52cd-440d-b788-fcd3d503d868",
   "metadata": {},
   "outputs": [],
   "source": [
    "def get_velocity_correlation(\n",
    "    ground_truth: ArrayLike, estimated: ArrayLike, aggregation: Union[Callable, None], axis: int = 0\n",
    ") -> Union[ArrayLike, float]:\n",
    "    \"\"\"Compute Pearson correlation between ground truth and estimated values.\n",
    "\n",
    "    Parameters\n",
    "    ----------\n",
    "    ground_truth\n",
    "        Array of ground truth value.\n",
    "    estimated\n",
    "        Array of estimated values.\n",
    "    aggregation\n",
    "        If `None`, the function returns every pairwise correlation between ground truth and the estimate. If it is a\n",
    "        function, the correlations are aggregated accordningly.\n",
    "    axis\n",
    "        Axis along which ground truth and estimate is compared.\n",
    "\n",
    "    Returns\n",
    "    -------\n",
    "    Axis-wise Pearson correlations potentially aggregated.\n",
    "    \"\"\"\n",
    "    correlation = pearsonr(ground_truth, estimated, axis=axis)\n",
    "\n",
    "    if aggregation is None:\n",
    "        return correlation\n",
    "    elif callable(aggregation):\n",
    "        return aggregation(correlation)"
   ]
  },
  {
   "cell_type": "markdown",
   "id": "4cf5e643-a580-4b81-b298-1aec0291064e",
   "metadata": {},
   "source": [
    "## Constants"
   ]
  },
  {
   "cell_type": "code",
   "execution_count": 6,
   "id": "6d018064-5b61-46fe-b196-d390998e6950",
   "metadata": {},
   "outputs": [],
   "source": [
    "DATASET = \"dyngen\""
   ]
  },
  {
   "cell_type": "code",
   "execution_count": 7,
   "id": "f8309529-c3f1-456a-aabc-d11e88a4f235",
   "metadata": {},
   "outputs": [],
   "source": [
    "COMPLEXITY = \"complexity_1\""
   ]
  },
  {
   "cell_type": "code",
   "execution_count": 8,
   "id": "054d67d8-c98f-4e60-bb4a-ce3ecdbbf098",
   "metadata": {},
   "outputs": [],
   "source": [
    "SAVE_DATA = True\n",
    "if SAVE_DATA:\n",
    "    (DATA_DIR / DATASET / COMPLEXITY / \"results\").mkdir(parents=True, exist_ok=True)"
   ]
  },
  {
   "cell_type": "code",
   "execution_count": 9,
   "id": "0a79d3cd-6bd7-4d5e-8a95-95d0a559bbf9",
   "metadata": {},
   "outputs": [],
   "source": [
    "SAVE_DATASETS = True\n",
    "if SAVE_DATASETS:\n",
    "    (DATA_DIR / DATASET / COMPLEXITY / \"trained_cell2fate\").mkdir(parents=True, exist_ok=True)"
   ]
  },
  {
   "cell_type": "markdown",
   "id": "d521216d-bef9-42f7-bd17-5c006c4c8c1e",
   "metadata": {},
   "source": [
    "## Velocity pipeline"
   ]
  },
  {
   "cell_type": "code",
   "execution_count": 10,
   "id": "15e41c0b-f6cc-4bb2-badb-82daf11e7c01",
   "metadata": {
    "tags": []
   },
   "outputs": [
    {
     "name": "stdout",
     "output_type": "stream",
     "text": [
      "Run 0, dataset 29.\n",
      "Keeping at most 100000 cells per cluster\n",
      "Filtered out 8 genes that are detected 10 counts (shared).\n",
      "Skip filtering by dispersion since number of variables are less than `n_top_genes`.\n"
     ]
    },
    {
     "name": "stderr",
     "output_type": "stream",
     "text": [
      "No GPU/TPU found, falling back to CPU. (Set TF_CPP_MIN_LOG_LEVEL=0 and rerun for more info.)\n"
     ]
    },
    {
     "name": "stdout",
     "output_type": "stream",
     "text": [
      "Leiden clustering ...\n",
      "WARNING: adata.X seems to be already log-transformed.\n",
      "Number of Leiden Clusters: 3\n",
      "Maximal Number of Modules: 3\n"
     ]
    },
    {
     "name": "stderr",
     "output_type": "stream",
     "text": [
      "/home/icb/yifan.chen/miniconda3/envs/cell2fate_env/lib/python3.9/site-packages/pytorch_lightning/core/lightning.py:2054: DeprecationWarning: `torch.distributed._sharded_tensor` will be deprecated, use `torch.distributed._shard.sharded_tensor` instead\n",
      "  from torch.distributed._sharded_tensor import pre_load_state_dict_hook, state_dict_hook\n",
      "GPU available: True, used: True\n",
      "TPU available: False, using: 0 TPU cores\n",
      "IPU available: False, using: 0 IPUs\n",
      "LOCAL_RANK: 0 - CUDA_VISIBLE_DEVICES: [0]\n",
      "Set SLURM handle signals.\n"
     ]
    },
    {
     "name": "stdout",
     "output_type": "stream",
     "text": [
      "Epoch 500/500: 100%|██████████| 500/500 [01:20<00:00,  6.22it/s, v_num=1, elbo_train=2.89e+5]\n",
      "Sampling local variables, batch: 100%|██████████| 1/1 [00:02<00:00,  2.36s/it]\n",
      "Sampling global variables, sample: 100%|██████████| 29/29 [00:00<00:00, 35.83it/s]\n",
      "Warning: Saving ALL posterior samples. Specify \"return_samples: False\" to save just summary statistics.\n",
      "Run 1, dataset 14.\n",
      "Keeping at most 100000 cells per cluster\n",
      "Skip filtering by dispersion since number of variables are less than `n_top_genes`.\n",
      "Leiden clustering ...\n",
      "WARNING: adata.X seems to be already log-transformed.\n"
     ]
    },
    {
     "name": "stderr",
     "output_type": "stream",
     "text": [
      "GPU available: True, used: True\n",
      "TPU available: False, using: 0 TPU cores\n",
      "IPU available: False, using: 0 IPUs\n",
      "LOCAL_RANK: 0 - CUDA_VISIBLE_DEVICES: [0]\n",
      "Set SLURM handle signals.\n"
     ]
    },
    {
     "name": "stdout",
     "output_type": "stream",
     "text": [
      "Number of Leiden Clusters: 6\n",
      "Maximal Number of Modules: 6\n",
      "Epoch 500/500: 100%|██████████| 500/500 [01:01<00:00,  8.07it/s, v_num=1, elbo_train=9.92e+5]\n",
      "Sampling local variables, batch: 100%|██████████| 1/1 [00:02<00:00,  2.67s/it]\n",
      "Sampling global variables, sample: 100%|██████████| 29/29 [00:02<00:00, 12.57it/s]\n",
      "Warning: Saving ALL posterior samples. Specify \"return_samples: False\" to save just summary statistics.\n",
      "Run 2, dataset 24.\n",
      "Keeping at most 100000 cells per cluster\n",
      "Skip filtering by dispersion since number of variables are less than `n_top_genes`.\n",
      "Leiden clustering ...\n",
      "WARNING: adata.X seems to be already log-transformed.\n"
     ]
    },
    {
     "name": "stderr",
     "output_type": "stream",
     "text": [
      "GPU available: True, used: True\n",
      "TPU available: False, using: 0 TPU cores\n",
      "IPU available: False, using: 0 IPUs\n",
      "LOCAL_RANK: 0 - CUDA_VISIBLE_DEVICES: [0]\n",
      "Set SLURM handle signals.\n"
     ]
    },
    {
     "name": "stdout",
     "output_type": "stream",
     "text": [
      "Number of Leiden Clusters: 19\n",
      "Maximal Number of Modules: 21\n",
      "Epoch 500/500: 100%|██████████| 500/500 [01:48<00:00,  4.60it/s, v_num=1, elbo_train=8.38e+6]\n",
      "Sampling local variables, batch: 100%|██████████| 1/1 [00:07<00:00,  7.07s/it]\n",
      "Sampling global variables, sample: 100%|██████████| 29/29 [00:06<00:00,  4.65it/s]\n",
      "Warning: Saving ALL posterior samples. Specify \"return_samples: False\" to save just summary statistics.\n",
      "Run 3, dataset 28.\n",
      "Keeping at most 100000 cells per cluster\n",
      "Filtered out 26 genes that are detected 10 counts (shared).\n",
      "Skip filtering by dispersion since number of variables are less than `n_top_genes`.\n",
      "Leiden clustering ...\n",
      "WARNING: adata.X seems to be already log-transformed.\n"
     ]
    },
    {
     "name": "stderr",
     "output_type": "stream",
     "text": [
      "GPU available: True, used: True\n",
      "TPU available: False, using: 0 TPU cores\n",
      "IPU available: False, using: 0 IPUs\n",
      "LOCAL_RANK: 0 - CUDA_VISIBLE_DEVICES: [0]\n",
      "Set SLURM handle signals.\n"
     ]
    },
    {
     "name": "stdout",
     "output_type": "stream",
     "text": [
      "Number of Leiden Clusters: 5\n",
      "Maximal Number of Modules: 5\n",
      "Epoch 500/500: 100%|██████████| 500/500 [00:57<00:00,  8.74it/s, v_num=1, elbo_train=5.61e+5]\n",
      "Sampling local variables, batch: 100%|██████████| 1/1 [00:01<00:00,  1.82s/it]\n",
      "Sampling global variables, sample: 100%|██████████| 29/29 [00:01<00:00, 17.93it/s]\n",
      "Warning: Saving ALL posterior samples. Specify \"return_samples: False\" to save just summary statistics.\n",
      "Run 4, dataset 6.\n",
      "Keeping at most 100000 cells per cluster\n",
      "Skip filtering by dispersion since number of variables are less than `n_top_genes`.\n",
      "Leiden clustering ...\n",
      "WARNING: adata.X seems to be already log-transformed.\n"
     ]
    },
    {
     "name": "stderr",
     "output_type": "stream",
     "text": [
      "GPU available: True, used: True\n",
      "TPU available: False, using: 0 TPU cores\n",
      "IPU available: False, using: 0 IPUs\n",
      "LOCAL_RANK: 0 - CUDA_VISIBLE_DEVICES: [0]\n",
      "Set SLURM handle signals.\n"
     ]
    },
    {
     "name": "stdout",
     "output_type": "stream",
     "text": [
      "Number of Leiden Clusters: 16\n",
      "Maximal Number of Modules: 18\n",
      "Epoch 500/500: 100%|██████████| 500/500 [01:33<00:00,  5.33it/s, v_num=1, elbo_train=7.98e+6]\n",
      "Sampling local variables, batch: 100%|██████████| 1/1 [00:05<00:00,  5.84s/it]\n",
      "Sampling global variables, sample: 100%|██████████| 29/29 [00:05<00:00,  5.18it/s]\n",
      "Warning: Saving ALL posterior samples. Specify \"return_samples: False\" to save just summary statistics.\n",
      "Run 5, dataset 21.\n",
      "Keeping at most 100000 cells per cluster\n",
      "Filtered out 6 genes that are detected 10 counts (shared).\n",
      "Skip filtering by dispersion since number of variables are less than `n_top_genes`.\n",
      "Leiden clustering ...\n",
      "WARNING: adata.X seems to be already log-transformed.\n"
     ]
    },
    {
     "name": "stderr",
     "output_type": "stream",
     "text": [
      "GPU available: True, used: True\n",
      "TPU available: False, using: 0 TPU cores\n",
      "IPU available: False, using: 0 IPUs\n",
      "LOCAL_RANK: 0 - CUDA_VISIBLE_DEVICES: [0]\n",
      "Set SLURM handle signals.\n"
     ]
    },
    {
     "name": "stdout",
     "output_type": "stream",
     "text": [
      "Number of Leiden Clusters: 7\n",
      "Maximal Number of Modules: 8\n",
      "Epoch 500/500: 100%|██████████| 500/500 [01:03<00:00,  7.91it/s, v_num=1, elbo_train=7.08e+5]\n",
      "Sampling local variables, batch: 100%|██████████| 1/1 [00:02<00:00,  2.02s/it]\n",
      "Sampling global variables, sample: 100%|██████████| 29/29 [00:01<00:00, 15.70it/s]\n",
      "Warning: Saving ALL posterior samples. Specify \"return_samples: False\" to save just summary statistics.\n",
      "Run 6, dataset 15.\n",
      "Keeping at most 100000 cells per cluster\n",
      "Filtered out 3 genes that are detected 10 counts (shared).\n",
      "Skip filtering by dispersion since number of variables are less than `n_top_genes`.\n",
      "Leiden clustering ...\n",
      "WARNING: adata.X seems to be already log-transformed.\n"
     ]
    },
    {
     "name": "stderr",
     "output_type": "stream",
     "text": [
      "GPU available: True, used: True\n",
      "TPU available: False, using: 0 TPU cores\n",
      "IPU available: False, using: 0 IPUs\n",
      "LOCAL_RANK: 0 - CUDA_VISIBLE_DEVICES: [0]\n",
      "Set SLURM handle signals.\n"
     ]
    },
    {
     "name": "stdout",
     "output_type": "stream",
     "text": [
      "Number of Leiden Clusters: 7\n",
      "Maximal Number of Modules: 8\n",
      "Epoch 500/500: 100%|██████████| 500/500 [01:04<00:00,  7.73it/s, v_num=1, elbo_train=5.5e+5] \n",
      "Sampling local variables, batch: 100%|██████████| 1/1 [00:01<00:00,  1.90s/it]\n",
      "Sampling global variables, sample: 100%|██████████| 29/29 [00:02<00:00, 14.23it/s]\n",
      "Warning: Saving ALL posterior samples. Specify \"return_samples: False\" to save just summary statistics.\n",
      "Run 7, dataset 9.\n",
      "Keeping at most 100000 cells per cluster\n",
      "Filtered out 4 genes that are detected 10 counts (shared).\n",
      "Skip filtering by dispersion since number of variables are less than `n_top_genes`.\n",
      "Leiden clustering ...\n",
      "WARNING: adata.X seems to be already log-transformed.\n"
     ]
    },
    {
     "name": "stderr",
     "output_type": "stream",
     "text": [
      "GPU available: True, used: True\n",
      "TPU available: False, using: 0 TPU cores\n",
      "IPU available: False, using: 0 IPUs\n",
      "LOCAL_RANK: 0 - CUDA_VISIBLE_DEVICES: [0]\n",
      "Set SLURM handle signals.\n"
     ]
    },
    {
     "name": "stdout",
     "output_type": "stream",
     "text": [
      "Number of Leiden Clusters: 10\n",
      "Maximal Number of Modules: 11\n",
      "Epoch 500/500: 100%|██████████| 500/500 [01:14<00:00,  6.73it/s, v_num=1, elbo_train=3.42e+5]\n",
      "Sampling local variables, batch: 100%|██████████| 1/1 [00:02<00:00,  2.22s/it]\n",
      "Sampling global variables, sample: 100%|██████████| 29/29 [00:01<00:00, 14.60it/s]\n",
      "Warning: Saving ALL posterior samples. Specify \"return_samples: False\" to save just summary statistics.\n",
      "Run 8, dataset 12.\n",
      "Keeping at most 100000 cells per cluster\n",
      "Skip filtering by dispersion since number of variables are less than `n_top_genes`.\n",
      "Leiden clustering ...\n",
      "WARNING: adata.X seems to be already log-transformed.\n"
     ]
    },
    {
     "name": "stderr",
     "output_type": "stream",
     "text": [
      "GPU available: True, used: True\n",
      "TPU available: False, using: 0 TPU cores\n",
      "IPU available: False, using: 0 IPUs\n",
      "LOCAL_RANK: 0 - CUDA_VISIBLE_DEVICES: [0]\n",
      "Set SLURM handle signals.\n"
     ]
    },
    {
     "name": "stdout",
     "output_type": "stream",
     "text": [
      "Number of Leiden Clusters: 16\n",
      "Maximal Number of Modules: 18\n",
      "Epoch 500/500: 100%|██████████| 500/500 [01:33<00:00,  5.34it/s, v_num=1, elbo_train=3.47e+6]\n",
      "Sampling local variables, batch: 100%|██████████| 1/1 [00:03<00:00,  3.71s/it]\n",
      "Sampling global variables, sample: 100%|██████████| 29/29 [00:03<00:00,  8.46it/s]\n",
      "Warning: Saving ALL posterior samples. Specify \"return_samples: False\" to save just summary statistics.\n",
      "Run 9, dataset 19.\n",
      "Keeping at most 100000 cells per cluster\n",
      "Filtered out 9 genes that are detected 10 counts (shared).\n",
      "Skip filtering by dispersion since number of variables are less than `n_top_genes`.\n",
      "Leiden clustering ...\n",
      "WARNING: adata.X seems to be already log-transformed.\n"
     ]
    },
    {
     "name": "stderr",
     "output_type": "stream",
     "text": [
      "GPU available: True, used: True\n",
      "TPU available: False, using: 0 TPU cores\n",
      "IPU available: False, using: 0 IPUs\n",
      "LOCAL_RANK: 0 - CUDA_VISIBLE_DEVICES: [0]\n",
      "Set SLURM handle signals.\n"
     ]
    },
    {
     "name": "stdout",
     "output_type": "stream",
     "text": [
      "Number of Leiden Clusters: 10\n",
      "Maximal Number of Modules: 11\n",
      "Epoch 500/500: 100%|██████████| 500/500 [01:14<00:00,  6.74it/s, v_num=1, elbo_train=2.92e+5]\n",
      "Sampling local variables, batch: 100%|██████████| 1/1 [00:01<00:00,  1.64s/it]\n",
      "Sampling global variables, sample: 100%|██████████| 29/29 [00:01<00:00, 18.92it/s]\n",
      "Warning: Saving ALL posterior samples. Specify \"return_samples: False\" to save just summary statistics.\n",
      "Run 10, dataset 4.\n",
      "Keeping at most 100000 cells per cluster\n",
      "Filtered out 4 genes that are detected 10 counts (shared).\n",
      "Skip filtering by dispersion since number of variables are less than `n_top_genes`.\n",
      "Leiden clustering ...\n",
      "WARNING: adata.X seems to be already log-transformed.\n"
     ]
    },
    {
     "name": "stderr",
     "output_type": "stream",
     "text": [
      "GPU available: True, used: True\n",
      "TPU available: False, using: 0 TPU cores\n",
      "IPU available: False, using: 0 IPUs\n",
      "LOCAL_RANK: 0 - CUDA_VISIBLE_DEVICES: [0]\n",
      "Set SLURM handle signals.\n"
     ]
    },
    {
     "name": "stdout",
     "output_type": "stream",
     "text": [
      "Number of Leiden Clusters: 4\n",
      "Maximal Number of Modules: 4\n",
      "Epoch 500/500: 100%|██████████| 500/500 [00:53<00:00,  9.40it/s, v_num=1, elbo_train=3.95e+5]\n",
      "Sampling local variables, batch: 100%|██████████| 1/1 [00:01<00:00,  1.54s/it]\n",
      "Sampling global variables, sample: 100%|██████████| 29/29 [00:01<00:00, 20.82it/s]\n",
      "Warning: Saving ALL posterior samples. Specify \"return_samples: False\" to save just summary statistics.\n",
      "Run 11, dataset 13.\n",
      "Keeping at most 100000 cells per cluster\n",
      "Filtered out 12 genes that are detected 10 counts (shared).\n",
      "Skip filtering by dispersion since number of variables are less than `n_top_genes`.\n",
      "Leiden clustering ...\n",
      "WARNING: adata.X seems to be already log-transformed.\n"
     ]
    },
    {
     "name": "stderr",
     "output_type": "stream",
     "text": [
      "GPU available: True, used: True\n",
      "TPU available: False, using: 0 TPU cores\n",
      "IPU available: False, using: 0 IPUs\n",
      "LOCAL_RANK: 0 - CUDA_VISIBLE_DEVICES: [0]\n",
      "Set SLURM handle signals.\n"
     ]
    },
    {
     "name": "stdout",
     "output_type": "stream",
     "text": [
      "Number of Leiden Clusters: 5\n",
      "Maximal Number of Modules: 5\n",
      "Epoch 500/500: 100%|██████████| 500/500 [00:56<00:00,  8.81it/s, v_num=1, elbo_train=3.75e+5]\n",
      "Sampling local variables, batch: 100%|██████████| 1/1 [00:01<00:00,  1.84s/it]\n",
      "Sampling global variables, sample: 100%|██████████| 29/29 [00:01<00:00, 17.96it/s]\n",
      "Warning: Saving ALL posterior samples. Specify \"return_samples: False\" to save just summary statistics.\n",
      "Run 12, dataset 2.\n",
      "Keeping at most 100000 cells per cluster\n",
      "Skip filtering by dispersion since number of variables are less than `n_top_genes`.\n",
      "Leiden clustering ...\n",
      "WARNING: adata.X seems to be already log-transformed.\n"
     ]
    },
    {
     "name": "stderr",
     "output_type": "stream",
     "text": [
      "GPU available: True, used: True\n",
      "TPU available: False, using: 0 TPU cores\n",
      "IPU available: False, using: 0 IPUs\n",
      "LOCAL_RANK: 0 - CUDA_VISIBLE_DEVICES: [0]\n",
      "Set SLURM handle signals.\n"
     ]
    },
    {
     "name": "stdout",
     "output_type": "stream",
     "text": [
      "Number of Leiden Clusters: 16\n",
      "Maximal Number of Modules: 18\n",
      "Epoch 500/500: 100%|██████████| 500/500 [01:34<00:00,  5.32it/s, v_num=1, elbo_train=6.81e+6]\n",
      "Sampling local variables, batch: 100%|██████████| 1/1 [00:05<00:00,  5.27s/it]\n",
      "Sampling global variables, sample: 100%|██████████| 29/29 [00:04<00:00,  6.12it/s]\n",
      "Warning: Saving ALL posterior samples. Specify \"return_samples: False\" to save just summary statistics.\n",
      "Run 13, dataset 16.\n",
      "Keeping at most 100000 cells per cluster\n",
      "Filtered out 4 genes that are detected 10 counts (shared).\n",
      "Skip filtering by dispersion since number of variables are less than `n_top_genes`.\n",
      "Leiden clustering ...\n",
      "WARNING: adata.X seems to be already log-transformed.\n"
     ]
    },
    {
     "name": "stderr",
     "output_type": "stream",
     "text": [
      "GPU available: True, used: True\n",
      "TPU available: False, using: 0 TPU cores\n",
      "IPU available: False, using: 0 IPUs\n",
      "LOCAL_RANK: 0 - CUDA_VISIBLE_DEVICES: [0]\n",
      "Set SLURM handle signals.\n"
     ]
    },
    {
     "name": "stdout",
     "output_type": "stream",
     "text": [
      "Number of Leiden Clusters: 5\n",
      "Maximal Number of Modules: 5\n",
      "Epoch 500/500: 100%|██████████| 500/500 [00:58<00:00,  8.62it/s, v_num=1, elbo_train=5.78e+5]\n",
      "Sampling local variables, batch: 100%|██████████| 1/1 [00:01<00:00,  1.75s/it]\n",
      "Sampling global variables, sample: 100%|██████████| 29/29 [00:01<00:00, 18.25it/s]\n",
      "Warning: Saving ALL posterior samples. Specify \"return_samples: False\" to save just summary statistics.\n",
      "Run 14, dataset 1.\n",
      "Keeping at most 100000 cells per cluster\n",
      "Filtered out 16 genes that are detected 10 counts (shared).\n",
      "Skip filtering by dispersion since number of variables are less than `n_top_genes`.\n",
      "Leiden clustering ...\n",
      "WARNING: adata.X seems to be already log-transformed.\n"
     ]
    },
    {
     "name": "stderr",
     "output_type": "stream",
     "text": [
      "GPU available: True, used: True\n",
      "TPU available: False, using: 0 TPU cores\n",
      "IPU available: False, using: 0 IPUs\n",
      "LOCAL_RANK: 0 - CUDA_VISIBLE_DEVICES: [0]\n",
      "Set SLURM handle signals.\n"
     ]
    },
    {
     "name": "stdout",
     "output_type": "stream",
     "text": [
      "Number of Leiden Clusters: 7\n",
      "Maximal Number of Modules: 8\n",
      "Epoch 500/500: 100%|██████████| 500/500 [01:02<00:00,  8.05it/s, v_num=1, elbo_train=2.64e+5]\n",
      "Sampling local variables, batch: 100%|██████████| 1/1 [00:01<00:00,  1.55s/it]\n",
      "Sampling global variables, sample: 100%|██████████| 29/29 [00:01<00:00, 20.53it/s]\n",
      "Warning: Saving ALL posterior samples. Specify \"return_samples: False\" to save just summary statistics.\n",
      "Run 15, dataset 18.\n",
      "Keeping at most 100000 cells per cluster\n",
      "Filtered out 2 genes that are detected 10 counts (shared).\n",
      "Skip filtering by dispersion since number of variables are less than `n_top_genes`.\n",
      "Leiden clustering ...\n",
      "WARNING: adata.X seems to be already log-transformed.\n"
     ]
    },
    {
     "name": "stderr",
     "output_type": "stream",
     "text": [
      "GPU available: True, used: True\n",
      "TPU available: False, using: 0 TPU cores\n",
      "IPU available: False, using: 0 IPUs\n",
      "LOCAL_RANK: 0 - CUDA_VISIBLE_DEVICES: [0]\n",
      "Set SLURM handle signals.\n"
     ]
    },
    {
     "name": "stdout",
     "output_type": "stream",
     "text": [
      "Number of Leiden Clusters: 7\n",
      "Maximal Number of Modules: 8\n",
      "Epoch 500/500: 100%|██████████| 500/500 [01:02<00:00,  8.03it/s, v_num=1, elbo_train=4.66e+5]\n",
      "Sampling local variables, batch: 100%|██████████| 1/1 [00:01<00:00,  1.72s/it]\n",
      "Sampling global variables, sample: 100%|██████████| 29/29 [00:01<00:00, 15.20it/s]\n",
      "Warning: Saving ALL posterior samples. Specify \"return_samples: False\" to save just summary statistics.\n",
      "Run 16, dataset 5.\n",
      "Keeping at most 100000 cells per cluster\n",
      "Filtered out 27 genes that are detected 10 counts (shared).\n",
      "Skip filtering by dispersion since number of variables are less than `n_top_genes`.\n",
      "Leiden clustering ...\n",
      "WARNING: adata.X seems to be already log-transformed.\n"
     ]
    },
    {
     "name": "stderr",
     "output_type": "stream",
     "text": [
      "GPU available: True, used: True\n",
      "TPU available: False, using: 0 TPU cores\n",
      "IPU available: False, using: 0 IPUs\n",
      "LOCAL_RANK: 0 - CUDA_VISIBLE_DEVICES: [0]\n",
      "Set SLURM handle signals.\n"
     ]
    },
    {
     "name": "stdout",
     "output_type": "stream",
     "text": [
      "Number of Leiden Clusters: 18\n",
      "Maximal Number of Modules: 20\n",
      "Epoch 500/500: 100%|██████████| 500/500 [01:42<00:00,  4.88it/s, v_num=1, elbo_train=2.72e+5]\n",
      "Sampling local variables, batch: 100%|██████████| 1/1 [00:02<00:00,  2.52s/it]\n",
      "Sampling global variables, sample: 100%|██████████| 29/29 [00:02<00:00, 12.56it/s]\n",
      "Warning: Saving ALL posterior samples. Specify \"return_samples: False\" to save just summary statistics.\n",
      "Run 17, dataset 10.\n",
      "Keeping at most 100000 cells per cluster\n",
      "Skip filtering by dispersion since number of variables are less than `n_top_genes`.\n",
      "Leiden clustering ...\n",
      "WARNING: adata.X seems to be already log-transformed.\n"
     ]
    },
    {
     "name": "stderr",
     "output_type": "stream",
     "text": [
      "GPU available: True, used: True\n",
      "TPU available: False, using: 0 TPU cores\n",
      "IPU available: False, using: 0 IPUs\n",
      "LOCAL_RANK: 0 - CUDA_VISIBLE_DEVICES: [0]\n",
      "Set SLURM handle signals.\n"
     ]
    },
    {
     "name": "stdout",
     "output_type": "stream",
     "text": [
      "Number of Leiden Clusters: 18\n",
      "Maximal Number of Modules: 20\n",
      "Epoch 500/500: 100%|██████████| 500/500 [01:42<00:00,  4.90it/s, v_num=1, elbo_train=5.16e+6]\n",
      "Sampling local variables, batch: 100%|██████████| 1/1 [00:05<00:00,  5.36s/it]\n",
      "Sampling global variables, sample: 100%|██████████| 29/29 [00:04<00:00,  6.30it/s]\n",
      "Warning: Saving ALL posterior samples. Specify \"return_samples: False\" to save just summary statistics.\n",
      "Run 18, dataset 8.\n",
      "Keeping at most 100000 cells per cluster\n",
      "Filtered out 16 genes that are detected 10 counts (shared).\n",
      "Skip filtering by dispersion since number of variables are less than `n_top_genes`.\n",
      "Leiden clustering ...\n",
      "WARNING: adata.X seems to be already log-transformed.\n"
     ]
    },
    {
     "name": "stderr",
     "output_type": "stream",
     "text": [
      "GPU available: True, used: True\n",
      "TPU available: False, using: 0 TPU cores\n",
      "IPU available: False, using: 0 IPUs\n",
      "LOCAL_RANK: 0 - CUDA_VISIBLE_DEVICES: [0]\n",
      "Set SLURM handle signals.\n"
     ]
    },
    {
     "name": "stdout",
     "output_type": "stream",
     "text": [
      "Number of Leiden Clusters: 5\n",
      "Maximal Number of Modules: 5\n",
      "Epoch 500/500: 100%|██████████| 500/500 [00:57<00:00,  8.73it/s, v_num=1, elbo_train=4.02e+5]\n",
      "Sampling local variables, batch: 100%|██████████| 1/1 [00:01<00:00,  1.59s/it]\n",
      "Sampling global variables, sample: 100%|██████████| 29/29 [00:01<00:00, 20.33it/s]\n",
      "Warning: Saving ALL posterior samples. Specify \"return_samples: False\" to save just summary statistics.\n",
      "Run 19, dataset 11.\n",
      "Keeping at most 100000 cells per cluster\n",
      "Filtered out 4 genes that are detected 10 counts (shared).\n",
      "Skip filtering by dispersion since number of variables are less than `n_top_genes`.\n",
      "Leiden clustering ...\n",
      "WARNING: adata.X seems to be already log-transformed.\n"
     ]
    },
    {
     "name": "stderr",
     "output_type": "stream",
     "text": [
      "GPU available: True, used: True\n",
      "TPU available: False, using: 0 TPU cores\n",
      "IPU available: False, using: 0 IPUs\n",
      "LOCAL_RANK: 0 - CUDA_VISIBLE_DEVICES: [0]\n",
      "Set SLURM handle signals.\n"
     ]
    },
    {
     "name": "stdout",
     "output_type": "stream",
     "text": [
      "Number of Leiden Clusters: 10\n",
      "Maximal Number of Modules: 11\n",
      "Epoch 500/500: 100%|██████████| 500/500 [01:14<00:00,  6.74it/s, v_num=1, elbo_train=3.87e+5]\n",
      "Sampling local variables, batch: 100%|██████████| 1/1 [00:02<00:00,  2.24s/it]\n",
      "Sampling global variables, sample: 100%|██████████| 29/29 [00:02<00:00, 13.46it/s]\n",
      "Warning: Saving ALL posterior samples. Specify \"return_samples: False\" to save just summary statistics.\n",
      "Run 20, dataset 27.\n",
      "Keeping at most 100000 cells per cluster\n",
      "Filtered out 5 genes that are detected 10 counts (shared).\n",
      "Skip filtering by dispersion since number of variables are less than `n_top_genes`.\n",
      "Leiden clustering ...\n",
      "WARNING: adata.X seems to be already log-transformed.\n"
     ]
    },
    {
     "name": "stderr",
     "output_type": "stream",
     "text": [
      "GPU available: True, used: True\n",
      "TPU available: False, using: 0 TPU cores\n",
      "IPU available: False, using: 0 IPUs\n",
      "LOCAL_RANK: 0 - CUDA_VISIBLE_DEVICES: [0]\n",
      "Set SLURM handle signals.\n"
     ]
    },
    {
     "name": "stdout",
     "output_type": "stream",
     "text": [
      "Number of Leiden Clusters: 8\n",
      "Maximal Number of Modules: 9\n",
      "Epoch 500/500: 100%|██████████| 500/500 [01:05<00:00,  7.67it/s, v_num=1, elbo_train=5.14e+5]\n",
      "Sampling local variables, batch: 100%|██████████| 1/1 [00:01<00:00,  1.84s/it]\n",
      "Sampling global variables, sample: 100%|██████████| 29/29 [00:01<00:00, 16.81it/s]\n",
      "Warning: Saving ALL posterior samples. Specify \"return_samples: False\" to save just summary statistics.\n",
      "Run 21, dataset 23.\n",
      "Keeping at most 100000 cells per cluster\n",
      "Filtered out 12 genes that are detected 10 counts (shared).\n",
      "Skip filtering by dispersion since number of variables are less than `n_top_genes`.\n",
      "Leiden clustering ...\n",
      "WARNING: adata.X seems to be already log-transformed.\n"
     ]
    },
    {
     "name": "stderr",
     "output_type": "stream",
     "text": [
      "GPU available: True, used: True\n",
      "TPU available: False, using: 0 TPU cores\n",
      "IPU available: False, using: 0 IPUs\n",
      "LOCAL_RANK: 0 - CUDA_VISIBLE_DEVICES: [0]\n",
      "Set SLURM handle signals.\n"
     ]
    },
    {
     "name": "stdout",
     "output_type": "stream",
     "text": [
      "Number of Leiden Clusters: 10\n",
      "Maximal Number of Modules: 11\n",
      "Epoch 500/500: 100%|██████████| 500/500 [01:13<00:00,  6.80it/s, v_num=1, elbo_train=2.98e+5]\n",
      "Sampling local variables, batch: 100%|██████████| 1/1 [00:02<00:00,  2.11s/it]\n",
      "Sampling global variables, sample: 100%|██████████| 29/29 [00:01<00:00, 14.95it/s]\n",
      "Warning: Saving ALL posterior samples. Specify \"return_samples: False\" to save just summary statistics.\n",
      "Run 22, dataset 17.\n",
      "Keeping at most 100000 cells per cluster\n",
      "Filtered out 29 genes that are detected 10 counts (shared).\n",
      "Skip filtering by dispersion since number of variables are less than `n_top_genes`.\n",
      "Leiden clustering ...\n",
      "WARNING: adata.X seems to be already log-transformed.\n"
     ]
    },
    {
     "name": "stderr",
     "output_type": "stream",
     "text": [
      "GPU available: True, used: True\n",
      "TPU available: False, using: 0 TPU cores\n",
      "IPU available: False, using: 0 IPUs\n",
      "LOCAL_RANK: 0 - CUDA_VISIBLE_DEVICES: [0]\n",
      "Set SLURM handle signals.\n"
     ]
    },
    {
     "name": "stdout",
     "output_type": "stream",
     "text": [
      "Number of Leiden Clusters: 4\n",
      "Maximal Number of Modules: 4\n",
      "Epoch 500/500: 100%|██████████| 500/500 [00:53<00:00,  9.36it/s, v_num=1, elbo_train=3.27e+5]\n",
      "Sampling local variables, batch: 100%|██████████| 1/1 [00:01<00:00,  1.43s/it]\n",
      "Sampling global variables, sample: 100%|██████████| 29/29 [00:01<00:00, 22.26it/s]\n",
      "Warning: Saving ALL posterior samples. Specify \"return_samples: False\" to save just summary statistics.\n",
      "Run 23, dataset 30.\n",
      "Keeping at most 100000 cells per cluster\n",
      "Skip filtering by dispersion since number of variables are less than `n_top_genes`.\n",
      "Leiden clustering ...\n",
      "WARNING: adata.X seems to be already log-transformed.\n"
     ]
    },
    {
     "name": "stderr",
     "output_type": "stream",
     "text": [
      "GPU available: True, used: True\n",
      "TPU available: False, using: 0 TPU cores\n",
      "IPU available: False, using: 0 IPUs\n",
      "LOCAL_RANK: 0 - CUDA_VISIBLE_DEVICES: [0]\n",
      "Set SLURM handle signals.\n"
     ]
    },
    {
     "name": "stdout",
     "output_type": "stream",
     "text": [
      "Number of Leiden Clusters: 11\n",
      "Maximal Number of Modules: 12\n",
      "Epoch 500/500: 100%|██████████| 500/500 [01:18<00:00,  6.40it/s, v_num=1, elbo_train=1.24e+6]\n",
      "Sampling local variables, batch: 100%|██████████| 1/1 [00:02<00:00,  2.87s/it]\n",
      "Sampling global variables, sample: 100%|██████████| 29/29 [00:02<00:00, 10.88it/s]\n",
      "Warning: Saving ALL posterior samples. Specify \"return_samples: False\" to save just summary statistics.\n",
      "Run 24, dataset 22.\n",
      "Keeping at most 100000 cells per cluster\n",
      "Filtered out 38 genes that are detected 10 counts (shared).\n",
      "Skip filtering by dispersion since number of variables are less than `n_top_genes`.\n",
      "Leiden clustering ...\n",
      "WARNING: adata.X seems to be already log-transformed.\n"
     ]
    },
    {
     "name": "stderr",
     "output_type": "stream",
     "text": [
      "GPU available: True, used: True\n",
      "TPU available: False, using: 0 TPU cores\n",
      "IPU available: False, using: 0 IPUs\n",
      "LOCAL_RANK: 0 - CUDA_VISIBLE_DEVICES: [0]\n",
      "Set SLURM handle signals.\n"
     ]
    },
    {
     "name": "stdout",
     "output_type": "stream",
     "text": [
      "Number of Leiden Clusters: 11\n",
      "Maximal Number of Modules: 12\n",
      "Epoch 500/500: 100%|██████████| 500/500 [01:16<00:00,  6.54it/s, v_num=1, elbo_train=3.12e+5]\n",
      "Sampling local variables, batch: 100%|██████████| 1/1 [00:02<00:00,  2.48s/it]\n",
      "Sampling global variables, sample: 100%|██████████| 29/29 [00:02<00:00, 12.45it/s]\n",
      "Warning: Saving ALL posterior samples. Specify \"return_samples: False\" to save just summary statistics.\n",
      "Run 25, dataset 25.\n",
      "Keeping at most 100000 cells per cluster\n",
      "Skip filtering by dispersion since number of variables are less than `n_top_genes`.\n",
      "Leiden clustering ...\n",
      "WARNING: adata.X seems to be already log-transformed.\n"
     ]
    },
    {
     "name": "stderr",
     "output_type": "stream",
     "text": [
      "GPU available: True, used: True\n",
      "TPU available: False, using: 0 TPU cores\n",
      "IPU available: False, using: 0 IPUs\n",
      "LOCAL_RANK: 0 - CUDA_VISIBLE_DEVICES: [0]\n",
      "Set SLURM handle signals.\n"
     ]
    },
    {
     "name": "stdout",
     "output_type": "stream",
     "text": [
      "Number of Leiden Clusters: 12\n",
      "Maximal Number of Modules: 13\n",
      "Epoch 500/500: 100%|██████████| 500/500 [01:21<00:00,  6.12it/s, v_num=1, elbo_train=1.87e+6]\n",
      "Sampling local variables, batch: 100%|██████████| 1/1 [00:03<00:00,  3.68s/it]\n",
      "Sampling global variables, sample: 100%|██████████| 29/29 [00:03<00:00,  8.60it/s]\n",
      "Warning: Saving ALL posterior samples. Specify \"return_samples: False\" to save just summary statistics.\n",
      "Run 26, dataset 20.\n",
      "Keeping at most 100000 cells per cluster\n",
      "Filtered out 11 genes that are detected 10 counts (shared).\n",
      "Skip filtering by dispersion since number of variables are less than `n_top_genes`.\n",
      "Leiden clustering ...\n",
      "WARNING: adata.X seems to be already log-transformed.\n"
     ]
    },
    {
     "name": "stderr",
     "output_type": "stream",
     "text": [
      "GPU available: True, used: True\n",
      "TPU available: False, using: 0 TPU cores\n",
      "IPU available: False, using: 0 IPUs\n",
      "LOCAL_RANK: 0 - CUDA_VISIBLE_DEVICES: [0]\n",
      "Set SLURM handle signals.\n"
     ]
    },
    {
     "name": "stdout",
     "output_type": "stream",
     "text": [
      "Number of Leiden Clusters: 3\n",
      "Maximal Number of Modules: 3\n",
      "Epoch 500/500: 100%|██████████| 500/500 [00:47<00:00, 10.44it/s, v_num=1, elbo_train=2e+5]   \n",
      "Sampling local variables, batch: 100%|██████████| 1/1 [00:00<00:00,  1.14it/s]\n",
      "Sampling global variables, sample: 100%|██████████| 29/29 [00:00<00:00, 37.04it/s]\n",
      "Warning: Saving ALL posterior samples. Specify \"return_samples: False\" to save just summary statistics.\n",
      "Run 27, dataset 7.\n",
      "Keeping at most 100000 cells per cluster\n",
      "Skip filtering by dispersion since number of variables are less than `n_top_genes`.\n",
      "Leiden clustering ...\n",
      "WARNING: adata.X seems to be already log-transformed.\n"
     ]
    },
    {
     "name": "stderr",
     "output_type": "stream",
     "text": [
      "GPU available: True, used: True\n",
      "TPU available: False, using: 0 TPU cores\n",
      "IPU available: False, using: 0 IPUs\n",
      "LOCAL_RANK: 0 - CUDA_VISIBLE_DEVICES: [0]\n",
      "Set SLURM handle signals.\n"
     ]
    },
    {
     "name": "stdout",
     "output_type": "stream",
     "text": [
      "Number of Leiden Clusters: 8\n",
      "Maximal Number of Modules: 9\n",
      "Epoch 500/500: 100%|██████████| 500/500 [01:06<00:00,  7.53it/s, v_num=1, elbo_train=1.3e+6] \n",
      "Sampling local variables, batch: 100%|██████████| 1/1 [00:02<00:00,  2.19s/it]\n",
      "Sampling global variables, sample: 100%|██████████| 29/29 [00:01<00:00, 14.55it/s]\n",
      "Warning: Saving ALL posterior samples. Specify \"return_samples: False\" to save just summary statistics.\n",
      "Run 28, dataset 3.\n",
      "Keeping at most 100000 cells per cluster\n",
      "Skip filtering by dispersion since number of variables are less than `n_top_genes`.\n",
      "Leiden clustering ...\n",
      "WARNING: adata.X seems to be already log-transformed.\n"
     ]
    },
    {
     "name": "stderr",
     "output_type": "stream",
     "text": [
      "GPU available: True, used: True\n",
      "TPU available: False, using: 0 TPU cores\n",
      "IPU available: False, using: 0 IPUs\n",
      "LOCAL_RANK: 0 - CUDA_VISIBLE_DEVICES: [0]\n",
      "Set SLURM handle signals.\n"
     ]
    },
    {
     "name": "stdout",
     "output_type": "stream",
     "text": [
      "Number of Leiden Clusters: 16\n",
      "Maximal Number of Modules: 18\n",
      "Epoch 500/500: 100%|██████████| 500/500 [01:32<00:00,  5.41it/s, v_num=1, elbo_train=2.25e+6]\n",
      "Sampling local variables, batch: 100%|██████████| 1/1 [00:01<00:00,  1.97s/it]\n",
      "Sampling global variables, sample: 100%|██████████| 29/29 [00:01<00:00, 15.81it/s]\n",
      "Warning: Saving ALL posterior samples. Specify \"return_samples: False\" to save just summary statistics.\n",
      "Run 29, dataset 26.\n",
      "Keeping at most 100000 cells per cluster\n",
      "Filtered out 18 genes that are detected 10 counts (shared).\n",
      "Skip filtering by dispersion since number of variables are less than `n_top_genes`.\n",
      "Leiden clustering ...\n",
      "WARNING: adata.X seems to be already log-transformed.\n"
     ]
    },
    {
     "name": "stderr",
     "output_type": "stream",
     "text": [
      "GPU available: True, used: True\n",
      "TPU available: False, using: 0 TPU cores\n",
      "IPU available: False, using: 0 IPUs\n",
      "LOCAL_RANK: 0 - CUDA_VISIBLE_DEVICES: [0]\n",
      "Set SLURM handle signals.\n"
     ]
    },
    {
     "name": "stdout",
     "output_type": "stream",
     "text": [
      "Number of Leiden Clusters: 4\n",
      "Maximal Number of Modules: 4\n",
      "Epoch 500/500: 100%|██████████| 500/500 [00:53<00:00,  9.34it/s, v_num=1, elbo_train=4e+5]   \n",
      "Sampling local variables, batch: 100%|██████████| 1/1 [00:01<00:00,  1.51s/it]\n",
      "Sampling global variables, sample: 100%|██████████| 29/29 [00:01<00:00, 21.12it/s]\n",
      "Warning: Saving ALL posterior samples. Specify \"return_samples: False\" to save just summary statistics.\n"
     ]
    }
   ],
   "source": [
    "import os\n",
    "\n",
    "velocity_correlation = []\n",
    "\n",
    "cnt = 0\n",
    "for filename in (DATA_DIR / DATASET / COMPLEXITY / \"processed\").iterdir():\n",
    "    torch.cuda.empty_cache()\n",
    "    if filename.suffix != \".zarr\":\n",
    "        continue\n",
    "\n",
    "    simulation_id = int(filename.stem.removeprefix(\"simulation_\"))\n",
    "    print(f\"Run {cnt}, dataset {simulation_id}.\")\n",
    "    \n",
    "    adata = ad.read_zarr(filename)\n",
    "\n",
    "    ## cell2fate needs cluster information\n",
    "    sc.tl.leiden(adata)\n",
    "\n",
    "    adata = c2f.utils.get_training_data(\n",
    "        adata,\n",
    "        cells_per_cluster=10**5,\n",
    "        cluster_column=\"leiden\",\n",
    "        remove_clusters=[],\n",
    "    )\n",
    "\n",
    "    adata = train_c2f_model(adata)\n",
    "\n",
    "    # save data\n",
    "    adata.write_zarr(DATA_DIR / DATASET / COMPLEXITY / \"trained_cell2fate\" / f\"trained_{simulation_id}.zarr\")\n",
    "\n",
    "    velocity_correlation.append(\n",
    "        get_velocity_correlation(\n",
    "            ground_truth=adata.layers[\"true_velocity\"], estimated=adata.layers[\"velocity\"], aggregation=np.mean\n",
    "        )\n",
    "    )\n",
    "    cnt += 1"
   ]
  },
  {
   "cell_type": "code",
   "execution_count": 12,
   "id": "3dfb57fd-4b7b-4449-8428-e42673b381c6",
   "metadata": {},
   "outputs": [],
   "source": [
    "if SAVE_DATA:\n",
    "    pd.DataFrame({\"velocity\": velocity_correlation}).to_parquet(\n",
    "        path=DATA_DIR / DATASET / COMPLEXITY / \"results\" / \"cell2fate_correlation.parquet\"\n",
    "    )"
   ]
  }
 ],
 "metadata": {
  "kernelspec": {
   "display_name": "Environment (cell2fate_env)",
   "language": "python",
   "name": "cell2fate_env"
  },
  "language_info": {
   "codemirror_mode": {
    "name": "ipython",
    "version": 3
   },
   "file_extension": ".py",
   "mimetype": "text/x-python",
   "name": "python",
   "nbconvert_exporter": "python",
   "pygments_lexer": "ipython3",
   "version": "3.9.21"
  }
 },
 "nbformat": 4,
 "nbformat_minor": 5
}
